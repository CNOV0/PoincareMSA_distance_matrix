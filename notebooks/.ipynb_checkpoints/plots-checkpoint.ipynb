{
 "cells": [
  {
   "cell_type": "code",
   "execution_count": 19,
   "id": "866688f2",
   "metadata": {},
   "outputs": [
    {
     "data": {
      "image/png": "[encoded data removed]",
      "text/plain": [
       "<Figure size 2016x72 with 1 Axes>"
      ]
     },
     "metadata": {
      "needs_background": "light"
     },
     "output_type": "display_data"
    }
   ],
   "source": [
    "import seaborn as sns\n",
    "sns.palplot(sns.color_palette(\"husl\", 28))\n"
   ]
  },
  {
   "cell_type": "code",
   "execution_count": 20,
   "id": "5afa3532",
   "metadata": {},
   "outputs": [],
   "source": [
    "import matplotlib.pyplot as plt\n",
    "import os\n",
    "# plt.switch_backend('agg')\n",
    "# os.environ['KMP_DUPLICATE_LIB_OK']='True'\n",
    "%matplotlib inline\n"
   ]
  },
  {
   "cell_type": "code",
   "execution_count": 21,
   "id": "a885357d",
   "metadata": {},
   "outputs": [],
   "source": [
    "import pandas as pd"
   ]
  },
  {
   "cell_type": "code",
   "execution_count": 49,
   "id": "90193226",
   "metadata": {},
   "outputs": [],
   "source": [
    "path_annotation = '/Users/klanna/UniParis/PoincareMSA/examples/thioredoxins/annotation.csv'\n",
    "df = pd.read_csv(path_annotation)\n",
    "df['proteins'] = list(df.index)\n",
    "df = df.set_index(['proteins'])"
   ]
  },
  {
   "cell_type": "code",
   "execution_count": 24,
   "id": "f4aa91b6",
   "metadata": {},
   "outputs": [],
   "source": [
    "import sys\n",
    "sys.path.append(\"/Users/klanna/UniParis/PoincareMSA/\")\n",
    "sys.path.append(\"/Users/klanna/UniParis/PoincareMSA/scripts/\")\n",
    "sys.path.append(\"/Users/klanna/UniParis/PoincareMSA/scripts/build_poincare_map/\")\n"
   ]
  },
  {
   "cell_type": "code",
   "execution_count": 71,
   "id": "356c500e",
   "metadata": {},
   "outputs": [
    {
     "ename": "TypeError",
     "evalue": "'ListedColormap' object is not subscriptable",
     "output_type": "error",
     "traceback": [
      "\u001b[0;31m---------------------------------------------------------------------------\u001b[0m",
      "\u001b[0;31mTypeError\u001b[0m                                 Traceback (most recent call last)",
      "\u001b[0;32m/var/folders/_0/s1psjq8s205_7939yryr3jn80000gn/T/ipykernel_15774/3526247900.py\u001b[0m in \u001b[0;36m<module>\u001b[0;34m\u001b[0m\n\u001b[1;32m    113\u001b[0m     \u001b[0md1\u001b[0m\u001b[0;34m=\u001b[0m\u001b[0;36m5.5\u001b[0m\u001b[0;34m,\u001b[0m \u001b[0md2\u001b[0m\u001b[0;34m=\u001b[0m\u001b[0;36m5.0\u001b[0m\u001b[0;34m,\u001b[0m\u001b[0;34m\u001b[0m\u001b[0;34m\u001b[0m\u001b[0m\n\u001b[1;32m    114\u001b[0m     \u001b[0mbbox\u001b[0m\u001b[0;34m=\u001b[0m\u001b[0;34m(\u001b[0m\u001b[0;36m1.2\u001b[0m\u001b[0;34m,\u001b[0m \u001b[0;36m1.\u001b[0m\u001b[0;34m)\u001b[0m\u001b[0;34m,\u001b[0m\u001b[0;34m\u001b[0m\u001b[0;34m\u001b[0m\u001b[0m\n\u001b[0;32m--> 115\u001b[0;31m     \u001b[0mleg\u001b[0m\u001b[0;34m=\u001b[0m\u001b[0;32mFalse\u001b[0m\u001b[0;34m,\u001b[0m\u001b[0;34m\u001b[0m\u001b[0;34m\u001b[0m\u001b[0m\n\u001b[0m\u001b[1;32m    116\u001b[0m     )\n",
      "\u001b[0;32m/var/folders/_0/s1psjq8s205_7939yryr3jn80000gn/T/ipykernel_15774/3526247900.py\u001b[0m in \u001b[0;36mplotPoincareDisc\u001b[0;34m(x, labels, title_name, labels_name, labels_order, labels_pos, labels_text, file_name, coldict, d1, d2, fs, ms, u, v, alpha, col_palette, print_labels, bbox, leg, ft)\u001b[0m\n\u001b[1;32m     36\u001b[0m             \u001b[0mlabels_order\u001b[0m \u001b[0;34m=\u001b[0m \u001b[0mnp\u001b[0m\u001b[0;34m.\u001b[0m\u001b[0munique\u001b[0m\u001b[0;34m(\u001b[0m\u001b[0mlabels\u001b[0m\u001b[0;34m)\u001b[0m\u001b[0;34m\u001b[0m\u001b[0;34m\u001b[0m\u001b[0m\n\u001b[1;32m     37\u001b[0m         \u001b[0;32mif\u001b[0m \u001b[0mcoldict\u001b[0m \u001b[0;32mis\u001b[0m \u001b[0;32mNone\u001b[0m\u001b[0;34m:\u001b[0m\u001b[0;34m\u001b[0m\u001b[0;34m\u001b[0m\u001b[0m\n\u001b[0;32m---> 38\u001b[0;31m             \u001b[0mcoldict\u001b[0m \u001b[0;34m=\u001b[0m \u001b[0mdict\u001b[0m\u001b[0;34m(\u001b[0m\u001b[0mzip\u001b[0m\u001b[0;34m(\u001b[0m\u001b[0mlabels_order\u001b[0m\u001b[0;34m,\u001b[0m \u001b[0mcol_palette\u001b[0m\u001b[0;34m[\u001b[0m\u001b[0;34m:\u001b[0m\u001b[0mlen\u001b[0m\u001b[0;34m(\u001b[0m\u001b[0mlabels\u001b[0m\u001b[0;34m)\u001b[0m\u001b[0;34m]\u001b[0m\u001b[0;34m)\u001b[0m\u001b[0;34m)\u001b[0m\u001b[0;34m\u001b[0m\u001b[0;34m\u001b[0m\u001b[0m\n\u001b[0m\u001b[1;32m     39\u001b[0m         sns.scatterplot(            \n\u001b[1;32m     40\u001b[0m             \u001b[0mx\u001b[0m\u001b[0;34m=\u001b[0m\u001b[0;34m\"pm1\"\u001b[0m\u001b[0;34m,\u001b[0m \u001b[0my\u001b[0m\u001b[0;34m=\u001b[0m\u001b[0;34m\"pm2\"\u001b[0m\u001b[0;34m,\u001b[0m\u001b[0;34m\u001b[0m\u001b[0;34m\u001b[0m\u001b[0m\n",
      "\u001b[0;31mTypeError\u001b[0m: 'ListedColormap' object is not subscriptable"
     ]
    },
    {
     "data": {
      "image/png": "[encoded data removed]",
      "text/plain": [
       "<Figure size 396x360 with 1 Axes>"
      ]
     },
     "metadata": {
      "needs_background": "light"
     },
     "output_type": "display_data"
    }
   ],
   "source": [
    "import numpy as np\n",
    "def plotPoincareDisc(\n",
    "    x,\n",
    "    labels=None,\n",
    "    title_name=None,\n",
    "    labels_name='labels',\n",
    "    labels_order=None,\n",
    "    labels_pos=None,\n",
    "    labels_text=None,\n",
    "    file_name=None,\n",
    "    coldict=None,\n",
    "    d1=4.5, d2=4.0, fs=9, ms=20,\n",
    "    u=None,\n",
    "    v=None,\n",
    "    alpha=1.0,\n",
    "    col_palette=plt.get_cmap(\"tab10\"),\n",
    "    print_labels=True,\n",
    "    bbox=(1.3, 0.7),\n",
    "    leg=True,\n",
    "    ft='png'):    \n",
    "\n",
    "    idx = np.random.permutation(len(x))\n",
    "    df = pd.DataFrame(x[idx, :], columns=['pm1', 'pm2'])\n",
    "    \n",
    "    fig = plt.figure(figsize=(d1, d2))\n",
    "    ax = plt.gca()\n",
    "    circle = plt.Circle((0, 0), radius=1,  fc='none', color='black')\n",
    "    ax.add_patch(circle)\n",
    "    ax.plot(0, 0, '.', c=(0, 0, 0), ms=4)\n",
    "    if title_name:\n",
    "        ax.set_title(title_name, fontsize=fs)\n",
    "\n",
    "    if not (labels is None):\n",
    "        df[labels_name] = labels[idx]\n",
    "        if labels_order is None:\n",
    "            labels_order = np.unique(labels)        \n",
    "#         if coldict is None:\n",
    "#             coldict = dict(zip(labels_order, col_palette[:len(labels)]))\n",
    "        sns.scatterplot(            \n",
    "            x=\"pm1\", y=\"pm2\",\n",
    "            hue=labels_name,\n",
    "            hue_order=labels_order,\n",
    "#             palette=coldict,\n",
    "            alpha=alpha, edgecolor=\"none\",\n",
    "            data=df, \n",
    "            ax=ax, \n",
    "            s=ms)\n",
    "        \n",
    "        if leg:\n",
    "            ax.legend(\n",
    "                fontsize=fs, \n",
    "                loc='outside', \n",
    "                bbox_to_anchor=bbox,\n",
    "                facecolor='white'\n",
    "                )\n",
    "        else:\n",
    "            ax.legend_.remove()\n",
    "            \n",
    "    else:\n",
    "        sns.scatterplot(\n",
    "            x=\"pm1\", y=\"pm2\",\n",
    "            data=df, ax=ax, s=ms)\n",
    "\n",
    "        # if leg == False:\n",
    "        #     ax.legend_.remove()\n",
    "\n",
    "    if not (u is None):     \n",
    "        a, b = get_geodesic_parameters(u, v)        \n",
    "        circle_geo = plt.Circle((-a/2, -b/2), radius=np.sqrt(a**2/4 + b**2/4 - 1),  fc='none', color='grey')\n",
    "        ax.add_patch(circle_geo)\n",
    "\n",
    "    fig.tight_layout()\n",
    "    ax.axis('off')\n",
    "    ax.axis('equal') \n",
    "\n",
    "    if print_labels:\n",
    "        if labels_text is None:\n",
    "            labels_list = np.unique(labels)\n",
    "        else:\n",
    "            labels_list = np.unique(labels_text)\n",
    "        if labels_pos is None:  \n",
    "            labels_pos = {}  \n",
    "            for l in labels_list:\n",
    "        #         i = np.random.choice(np.where(labels == l)[0])\n",
    "                ix_l = np.where(labels == l)[0]\n",
    "                Dl = poincare_distance(th.DoubleTensor(x[ix_l, :])).numpy()\n",
    "                i = ix_l[np.argmin(Dl.sum(axis=0))]\n",
    "                labels_pos[l] = i\n",
    "\n",
    "        for l in labels_list:    \n",
    "            ax.text(x[labels_pos[l], 0], x[labels_pos[l], 1], l, fontsize=fs)\n",
    "\n",
    "    ax.set_ylim([-1.01, 1.01])\n",
    "    ax.set_xlim([-1.01, 1.01]) \n",
    "\n",
    "    plt.tight_layout()\n",
    "\n",
    "    if file_name:\n",
    "        if ft == 'png':            \n",
    "            plt.savefig(file_name + '.' + ft, format=ft, dpi=300)\n",
    "        else:\n",
    "            plt.savefig(file_name + '.' + ft, format=ft)\n",
    "\n",
    "    return labels_pos\n",
    "\n",
    "labels_name = 'Species'\n",
    "labels = df[labels_name].values\n",
    "plotPoincareDisc(\n",
    "    result[['pm1', 'pm2']].values, \n",
    "    labels=result[labels_name].values, \n",
    "    title_name='test',\n",
    "    file_name='./tmp', \n",
    "    d1=5.5, d2=5.0, \n",
    "    bbox=(1.2, 1.),\n",
    "    leg=False,\n",
    "    )"
   ]
  },
  {
   "cell_type": "code",
   "execution_count": 68,
   "id": "4a62cc97",
   "metadata": {},
   "outputs": [],
   "source": [
    "path_embeddings = '/Users/klanna/UniParis/results/thioredoxins/fasta0.9/PM3sigma=1.00gamma=1.00cosinepca=0_seed0.csv'\n",
    "embeddings = pd.read_csv(path_embeddings)\n",
    "embeddings = embeddings.set_index(['proteins'])\n"
   ]
  },
  {
   "cell_type": "code",
   "execution_count": 69,
   "id": "61dc7619",
   "metadata": {},
   "outputs": [
    {
     "data": {
      "text/html": [
       "<div>\n",
       "<style scoped>\n",
       "    .dataframe tbody tr th:only-of-type {\n",
       "        vertical-align: middle;\n",
       "    }\n",
       "\n",
       "    .dataframe tbody tr th {\n",
       "        vertical-align: top;\n",
       "    }\n",
       "\n",
       "    .dataframe thead th {\n",
       "        text-align: right;\n",
       "    }\n",
       "</style>\n",
       "<table border=\"1\" class=\"dataframe\">\n",
       "  <thead>\n",
       "    <tr style=\"text-align: right;\">\n",
       "      <th></th>\n",
       "      <th>pm1</th>\n",
       "      <th>pm2</th>\n",
       "      <th>Species</th>\n",
       "    </tr>\n",
       "    <tr>\n",
       "      <th>proteins</th>\n",
       "      <th></th>\n",
       "      <th></th>\n",
       "      <th></th>\n",
       "    </tr>\n",
       "  </thead>\n",
       "  <tbody>\n",
       "    <tr>\n",
       "      <th>42</th>\n",
       "      <td>-0.433272</td>\n",
       "      <td>-0.853774</td>\n",
       "      <td>Pichia</td>\n",
       "    </tr>\n",
       "    <tr>\n",
       "      <th>115</th>\n",
       "      <td>-0.061917</td>\n",
       "      <td>0.231050</td>\n",
       "      <td>Chlorobium</td>\n",
       "    </tr>\n",
       "    <tr>\n",
       "      <th>170</th>\n",
       "      <td>0.589403</td>\n",
       "      <td>0.602385</td>\n",
       "      <td>Bdellovibrio</td>\n",
       "    </tr>\n",
       "    <tr>\n",
       "      <th>196</th>\n",
       "      <td>0.008612</td>\n",
       "      <td>0.987569</td>\n",
       "      <td>Thiobacillus</td>\n",
       "    </tr>\n",
       "    <tr>\n",
       "      <th>19</th>\n",
       "      <td>-0.609822</td>\n",
       "      <td>-0.772400</td>\n",
       "      <td>Ornithorhynchus</td>\n",
       "    </tr>\n",
       "    <tr>\n",
       "      <th>...</th>\n",
       "      <td>...</td>\n",
       "      <td>...</td>\n",
       "      <td>...</td>\n",
       "    </tr>\n",
       "    <tr>\n",
       "      <th>70</th>\n",
       "      <td>0.914478</td>\n",
       "      <td>0.039811</td>\n",
       "      <td>Methanosaeta</td>\n",
       "    </tr>\n",
       "    <tr>\n",
       "      <th>96</th>\n",
       "      <td>0.537775</td>\n",
       "      <td>0.825019</td>\n",
       "      <td>Listeria</td>\n",
       "    </tr>\n",
       "    <tr>\n",
       "      <th>127</th>\n",
       "      <td>-0.816399</td>\n",
       "      <td>0.555830</td>\n",
       "      <td>Mycobacterium</td>\n",
       "    </tr>\n",
       "    <tr>\n",
       "      <th>119</th>\n",
       "      <td>0.595625</td>\n",
       "      <td>-0.686721</td>\n",
       "      <td>Bacteroides</td>\n",
       "    </tr>\n",
       "    <tr>\n",
       "      <th>1</th>\n",
       "      <td>-0.593008</td>\n",
       "      <td>0.148727</td>\n",
       "      <td>LACA</td>\n",
       "    </tr>\n",
       "  </tbody>\n",
       "</table>\n",
       "<p>210 rows × 3 columns</p>\n",
       "</div>"
      ],
      "text/plain": [
       "               pm1       pm2          Species\n",
       "proteins                                     \n",
       "42       -0.433272 -0.853774           Pichia\n",
       "115      -0.061917  0.231050       Chlorobium\n",
       "170       0.589403  0.602385     Bdellovibrio\n",
       "196       0.008612  0.987569     Thiobacillus\n",
       "19       -0.609822 -0.772400  Ornithorhynchus\n",
       "...            ...       ...              ...\n",
       "70        0.914478  0.039811     Methanosaeta\n",
       "96        0.537775  0.825019         Listeria\n",
       "127      -0.816399  0.555830    Mycobacterium\n",
       "119       0.595625 -0.686721      Bacteroides\n",
       "1        -0.593008  0.148727            LACA \n",
       "\n",
       "[210 rows x 3 columns]"
      ]
     },
     "execution_count": 69,
     "metadata": {},
     "output_type": "execute_result"
    }
   ],
   "source": [
    "result = pd.concat([embeddings, df], axis=1, join=\"inner\")\n",
    "result"
   ]
  },
  {
   "cell_type": "code",
   "execution_count": 70,
   "id": "6fa10ecf",
   "metadata": {},
   "outputs": [
    {
     "ename": "TypeError",
     "evalue": "'ListedColormap' object is not subscriptable",
     "output_type": "error",
     "traceback": [
      "\u001b[0;31m---------------------------------------------------------------------------\u001b[0m",
      "\u001b[0;31mTypeError\u001b[0m                                 Traceback (most recent call last)",
      "\u001b[0;32m/var/folders/_0/s1psjq8s205_7939yryr3jn80000gn/T/ipykernel_15774/1135914609.py\u001b[0m in \u001b[0;36m<module>\u001b[0;34m\u001b[0m\n\u001b[1;32m      8\u001b[0m     \u001b[0md1\u001b[0m\u001b[0;34m=\u001b[0m\u001b[0;36m5.5\u001b[0m\u001b[0;34m,\u001b[0m \u001b[0md2\u001b[0m\u001b[0;34m=\u001b[0m\u001b[0;36m5.0\u001b[0m\u001b[0;34m,\u001b[0m\u001b[0;34m\u001b[0m\u001b[0;34m\u001b[0m\u001b[0m\n\u001b[1;32m      9\u001b[0m     \u001b[0mbbox\u001b[0m\u001b[0;34m=\u001b[0m\u001b[0;34m(\u001b[0m\u001b[0;36m1.2\u001b[0m\u001b[0;34m,\u001b[0m \u001b[0;36m1.\u001b[0m\u001b[0;34m)\u001b[0m\u001b[0;34m,\u001b[0m\u001b[0;34m\u001b[0m\u001b[0;34m\u001b[0m\u001b[0m\n\u001b[0;32m---> 10\u001b[0;31m     \u001b[0mleg\u001b[0m\u001b[0;34m=\u001b[0m\u001b[0;32mFalse\u001b[0m\u001b[0;34m,\u001b[0m\u001b[0;34m\u001b[0m\u001b[0;34m\u001b[0m\u001b[0m\n\u001b[0m\u001b[1;32m     11\u001b[0m     )\n",
      "\u001b[0;32m/var/folders/_0/s1psjq8s205_7939yryr3jn80000gn/T/ipykernel_15774/269080733.py\u001b[0m in \u001b[0;36mplotPoincareDisc\u001b[0;34m(x, labels, title_name, labels_name, labels_order, labels_pos, labels_text, file_name, coldict, d1, d2, fs, ms, u, v, alpha, col_palette, print_labels, bbox, leg, ft)\u001b[0m\n\u001b[1;32m     36\u001b[0m             \u001b[0mlabels_order\u001b[0m \u001b[0;34m=\u001b[0m \u001b[0mnp\u001b[0m\u001b[0;34m.\u001b[0m\u001b[0munique\u001b[0m\u001b[0;34m(\u001b[0m\u001b[0mlabels\u001b[0m\u001b[0;34m)\u001b[0m\u001b[0;34m\u001b[0m\u001b[0;34m\u001b[0m\u001b[0m\n\u001b[1;32m     37\u001b[0m         \u001b[0;32mif\u001b[0m \u001b[0mcoldict\u001b[0m \u001b[0;32mis\u001b[0m \u001b[0;32mNone\u001b[0m\u001b[0;34m:\u001b[0m\u001b[0;34m\u001b[0m\u001b[0;34m\u001b[0m\u001b[0m\n\u001b[0;32m---> 38\u001b[0;31m             \u001b[0mcoldict\u001b[0m \u001b[0;34m=\u001b[0m \u001b[0mdict\u001b[0m\u001b[0;34m(\u001b[0m\u001b[0mzip\u001b[0m\u001b[0;34m(\u001b[0m\u001b[0mlabels_order\u001b[0m\u001b[0;34m,\u001b[0m \u001b[0mcol_palette\u001b[0m\u001b[0;34m[\u001b[0m\u001b[0;34m:\u001b[0m\u001b[0mlen\u001b[0m\u001b[0;34m(\u001b[0m\u001b[0mlabels\u001b[0m\u001b[0;34m)\u001b[0m\u001b[0;34m]\u001b[0m\u001b[0;34m)\u001b[0m\u001b[0;34m)\u001b[0m\u001b[0;34m\u001b[0m\u001b[0;34m\u001b[0m\u001b[0m\n\u001b[0m\u001b[1;32m     39\u001b[0m         sns.scatterplot(            \n\u001b[1;32m     40\u001b[0m             \u001b[0mx\u001b[0m\u001b[0;34m=\u001b[0m\u001b[0;34m\"pm1\"\u001b[0m\u001b[0;34m,\u001b[0m \u001b[0my\u001b[0m\u001b[0;34m=\u001b[0m\u001b[0;34m\"pm2\"\u001b[0m\u001b[0;34m,\u001b[0m\u001b[0;34m\u001b[0m\u001b[0;34m\u001b[0m\u001b[0m\n",
      "\u001b[0;31mTypeError\u001b[0m: 'ListedColormap' object is not subscriptable"
     ]
    },
    {
     "data": {
      "image/png": "[encoded data removed]",
      "text/plain": [
       "<Figure size 396x360 with 1 Axes>"
      ]
     },
     "metadata": {
      "needs_background": "light"
     },
     "output_type": "display_data"
    }
   ],
   "source": []
  },
  {
   "cell_type": "code",
   "execution_count": null,
   "id": "161853af",
   "metadata": {},
   "outputs": [],
   "source": []
  },
  {
   "cell_type": "code",
   "execution_count": null,
   "id": "2cfc82f3",
   "metadata": {},
   "outputs": [],
   "source": []
  },
  {
   "cell_type": "code",
   "execution_count": null,
   "id": "dd95db3a",
   "metadata": {},
   "outputs": [],
   "source": []
  }
 ],
 "metadata": {
  "kernelspec": {
   "display_name": "Python (msa)",
   "language": "python",
   "name": "msa"
  },
  "language_info": {
   "codemirror_mode": {
    "name": "ipython",
    "version": 3
   },
   "file_extension": ".py",
   "mimetype": "text/x-python",
   "name": "python",
   "nbconvert_exporter": "python",
   "pygments_lexer": "ipython3",
   "version": "3.7.9"
  }
 },
 "nbformat": 4,
 "nbformat_minor": 5
}
