{
 "cells": [
  {
   "cell_type": "code",
   "execution_count": 1,
   "id": "a7849e40",
   "metadata": {},
   "outputs": [],
   "source": [
    "import pandas as pd\n",
    "from pplots import read_embeddings, plot_embedding, plot_embedding_interactive, rotate, get_colors\n",
    "\n",
    "%matplotlib inline"
   ]
  },
  {
   "cell_type": "code",
   "execution_count": 2,
   "id": "ef1e2dbd",
   "metadata": {},
   "outputs": [],
   "source": [
    "path_embedding = \"/home/lavande/galochkina/SCIENCE/POINCARE/Globins/TEST/PM5sigma=1.00gamma=4.00cosinepca=0_seed0.csv\"\n",
    "path_annotation = \"/home/lavande/galochkina/SCIENCE/POINCARE/PoincareMSA/examples/globins/globin_colors.csv\""
   ]
  },
  {
   "cell_type": "code",
   "execution_count": 3,
   "id": "fa87769e",
   "metadata": {},
   "outputs": [
    {
     "name": "stdout",
     "output_type": "stream",
     "text": [
      "result:                    pm1       pm2 tree1 tree2 tree3 tree4  \\\n",
      "proteins_id                                               \n",
      "0                 NaN       NaN  root  root  root  root   \n",
      "1           -0.125152  0.000966     5     3     3     2   \n",
      "2            0.152128  0.016531    -1    28    18    10   \n",
      "3            0.093544  0.078722    -1    27    18    10   \n",
      "4            0.124773  0.207134    37    27    18    10   \n",
      "...               ...       ...   ...   ...   ...   ...   \n",
      "248         -0.508038 -0.246683    14    10     9     3   \n",
      "249         -0.560743 -0.265199    -1    10     9     3   \n",
      "250         -0.480747 -0.255952    14    10     9     3   \n",
      "251         -0.509269 -0.307466    14    10     9     3   \n",
      "252         -0.488010  0.405954    -1    25    15     8   \n",
      "\n",
      "                           full_name       short_name  \\\n",
      "proteins_id                                             \n",
      "0                               root             root   \n",
      "1                 Globin C, coelomic           Globin   \n",
      "2                  Globin (Fragment)           Globin   \n",
      "3            Uncharacterized protein  Uncharacterized   \n",
      "4            Uncharacterized protein  Uncharacterized   \n",
      "...                              ...              ...   \n",
      "248          Uncharacterized protein  Uncharacterized   \n",
      "249          Uncharacterized protein  Uncharacterized   \n",
      "250          Uncharacterized protein  Uncharacterized   \n",
      "251          Uncharacterized protein  Uncharacterized   \n",
      "252          Uncharacterized protein  Uncharacterized   \n",
      "\n",
      "                              full_species       short_species  \n",
      "proteins_id                                                     \n",
      "0                                     root                root  \n",
      "1                        Caudina arenicola            Caudina   \n",
      "2                    Stegodyphus mimosarum         Stegodyphus  \n",
      "3                       Strigamia maritima           Strigamia  \n",
      "4                          Scylla olivacea              Scylla  \n",
      "...                                    ...                 ...  \n",
      "248          Strongylocentrotus purpuratus  Strongylocentrotus  \n",
      "249          Strongylocentrotus purpuratus  Strongylocentrotus  \n",
      "250          Strongylocentrotus purpuratus  Strongylocentrotus  \n",
      "251          Strongylocentrotus purpuratus  Strongylocentrotus  \n",
      "252              Strongyloides stercoralis       Strongyloides  \n",
      "\n",
      "[253 rows x 10 columns]\n"
     ]
    }
   ],
   "source": [
    "df = read_embeddings(path_embedding, path_annotation, withroot=True) "
   ]
  },
  {
   "cell_type": "code",
   "execution_count": 10,
   "id": "a125e0a2",
   "metadata": {},
   "outputs": [
    {
     "name": "stdout",
     "output_type": "stream",
     "text": [
      "Index(['tree1', 'tree2', 'tree3', 'tree4', 'full_name', 'short_name',\n",
      "       'full_species', 'short_species'],\n",
      "      dtype='object')\n"
     ]
    },
    {
     "data": {
      "application/vnd.plotly.v1+json": {
       "config": {
        "plotlyServerURL": "https://plot.ly"
       },
       "data": [
        {
         "customdata": [
          [
           "root",
           "root",
           "root",
           "root",
           "root",
           "root",
           "root",
           "root"
          ]
         ],
         "hovertemplate": "<b>%{hovertext}</b><br><br>tree3=%{customdata[2]}<br>pm1=%{x}<br>pm2=%{y}<br>tree1=%{customdata[0]}<br>tree2=%{customdata[1]}<br>tree4=%{customdata[3]}<br>full_name=%{customdata[4]}<br>short_name=%{customdata[5]}<br>full_species=%{customdata[6]}<br>short_species=%{customdata[7]}<extra></extra>",
         "hovertext": [
          "root"
         ],
         "legendgroup": "root",
         "marker": {
          "color": "#636efa",
          "symbol": "circle"
         },
         "mode": "markers",
         "name": "root",
         "orientation": "v",
         "showlegend": true,
         "textposition": "top right",
         "type": "scatter",
         "x": [
          null
         ],
         "xaxis": "x",
         "y": [
          null
         ],
         "yaxis": "y"
        },
        {
         "customdata": [
          [
           5,
           3,
           3,
           2,
           "Globin C, coelomic",
           "Globin",
           "Caudina arenicola",
           "Caudina "
          ],
          [
           4,
           2,
           3,
           2,
           "Hemoglobin",
           "Hemoglobin",
           "Hemipholis cordifera",
           "Hemipholis"
          ],
          [
           4,
           2,
           3,
           2,
           "Hemoglobin",
           "Hemoglobin",
           "Ophiactis simplex",
           "Ophiactis"
          ],
          [
           4,
           2,
           3,
           2,
           "Hemoglobin",
           "Hemoglobin",
           "Ophiactis simplex",
           "Ophiactis"
          ],
          [
           -1,
           -1,
           3,
           2,
           "Extracellular globin 1",
           "Extracellular",
           "Metaphire sieboldi",
           "Metaphire"
          ]
         ],
         "hovertemplate": "<b>%{hovertext}</b><br><br>tree3=%{customdata[2]}<br>pm1=%{x}<br>pm2=%{y}<br>tree1=%{customdata[0]}<br>tree2=%{customdata[1]}<br>tree4=%{customdata[3]}<br>full_name=%{customdata[4]}<br>short_name=%{customdata[5]}<br>full_species=%{customdata[6]}<br>short_species=%{customdata[7]}<extra></extra>",
         "hovertext": [
          3,
          3,
          3,
          3,
          3
         ],
         "legendgroup": "3",
         "marker": {
          "color": "#EF553B",
          "symbol": "circle"
         },
         "mode": "markers",
         "name": "3",
         "orientation": "v",
         "showlegend": true,
         "textposition": "top right",
         "type": "scatter",
         "x": [
          -0.12515226,
          0.42890972,
          0.42928717,
          0.5061735,
          0.7349972
         ],
         "xaxis": "x",
         "y": [
          0.00096565654,
          0.12766126,
          0.22118825,
          0.18260443,
          0.06666039
         ],
         "yaxis": "y"
        },
        {
         "customdata": [
          [
           -1,
           28,
           18,
           10,
           "Globin (Fragment)",
           "Globin",
           "Stegodyphus mimosarum",
           "Stegodyphus"
          ],
          [
           -1,
           27,
           18,
           10,
           "Uncharacterized protein",
           "Uncharacterized",
           "Strigamia maritima",
           "Strigamia"
          ],
          [
           37,
           27,
           18,
           10,
           "Uncharacterized protein",
           "Uncharacterized",
           "Scylla olivacea",
           "Scylla"
          ],
          [
           37,
           27,
           18,
           10,
           "Uncharacterized protein",
           "Uncharacterized",
           "Scylla olivacea",
           "Scylla"
          ],
          [
           37,
           27,
           18,
           10,
           "Hemoglobin",
           "Hemoglobin",
           "Carcinus maenas",
           "Carcinus"
          ],
          [
           -1,
           29,
           18,
           10,
           "Globin, putative",
           "Globin,",
           "Ixodes scapularis",
           "Ixodes"
          ],
          [
           40,
           28,
           18,
           10,
           "Globin",
           "Globin",
           "Zootermopsis nevadensis",
           "Zootermopsis"
          ],
          [
           45,
           33,
           18,
           10,
           "Uncharacterized protein",
           "Uncharacterized",
           "Arion vulgaris",
           "Arion"
          ],
          [
           45,
           33,
           18,
           10,
           "Uncharacterized protein",
           "Uncharacterized",
           "Arion vulgaris",
           "Arion"
          ],
          [
           40,
           28,
           18,
           10,
           "Globin like protein (Fragment)",
           "Globin",
           "Coptotermes formosanus",
           "Coptotermes"
          ],
          [
           -1,
           28,
           18,
           10,
           "Uncharacterized protein",
           "Uncharacterized",
           "Oryctes borbonicus",
           "Oryctes"
          ],
          [
           -1,
           27,
           18,
           10,
           "Uncharacterized protein",
           "Uncharacterized",
           "Tetranychus urticae",
           "Tetranychus"
          ],
          [
           39,
           28,
           18,
           10,
           "Globin 1",
           "Globin",
           "Apis mellifera",
           "Apis"
          ],
          [
           39,
           28,
           18,
           10,
           "Putative uncharacterized protein (Fragment)",
           "Putative",
           "Solenopsis invicta",
           "Solenopsis"
          ],
          [
           38,
           28,
           18,
           10,
           "Globin",
           "Globin",
           "Habropoda laboriosa",
           "Habropoda"
          ],
          [
           38,
           28,
           18,
           10,
           "Cygb2_0 protein",
           "Cygb2_0",
           "Fopius arisanus",
           "Fopius"
          ],
          [
           39,
           28,
           18,
           10,
           "Cytoglobin 2",
           "Cytoglobin",
           "Cerapachys biroi",
           "Cerapachys"
          ],
          [
           39,
           28,
           18,
           10,
           "Globin",
           "Globin",
           "Camponotus floridanus",
           "Camponotus"
          ],
          [
           38,
           28,
           18,
           10,
           "Uncharacterized protein",
           "Uncharacterized",
           "Nasonia vitripennis",
           "Nasonia"
          ],
          [
           39,
           28,
           18,
           10,
           "Cytoglobin",
           "Cytoglobin",
           "Acromyrmex echinatior",
           "Acromyrmex"
          ],
          [
           -1,
           28,
           18,
           10,
           "Globin like Protein",
           "Globin",
           "Tribolium castaneum",
           "Tribolium"
          ],
          [
           -1,
           34,
           18,
           10,
           "Uncharacterized protein",
           "Uncharacterized",
           "Capitella teleta",
           "Capitella"
          ],
          [
           -1,
           34,
           18,
           10,
           "Cytoglobin 1 like protein",
           "Cytoglobin",
           "Sarcoptes scabiei",
           "Sarcoptes"
          ],
          [
           -1,
           29,
           18,
           10,
           "Uncharacterized protein (Fragment)",
           "Uncharacterized",
           "Ixodes ricinus",
           "Ixodes"
          ],
          [
           37,
           27,
           18,
           10,
           "Cytoglobin 2 isoform CYGBi2",
           "Cytoglobin",
           "Cherax destructor",
           "Cherax"
          ],
          [
           36,
           26,
           18,
           10,
           "Putative uncharacterized protein",
           "Putative",
           "Daphnia pulex",
           "Daphnia"
          ],
          [
           -1,
           -1,
           18,
           10,
           "Globin",
           "Globin",
           "Crassostrea gigas",
           "Crassostrea"
          ],
          [
           -1,
           29,
           18,
           10,
           "Beta chain of the tetrameric hemoglobin, putative",
           "Hemoglobin",
           "Ixodes scapularis",
           "Ixodes"
          ],
          [
           39,
           28,
           18,
           10,
           "Globin",
           "Globin",
           "Harpegnathos saltator",
           "Harpegnathos"
          ],
          [
           40,
           28,
           18,
           10,
           "Globin",
           "Globin",
           "Zootermopsis nevadensis",
           "Zootermopsis"
          ],
          [
           -1,
           -1,
           18,
           10,
           "Globin",
           "Globin",
           "Daphnia magna",
           "Daphnia"
          ],
          [
           36,
           26,
           18,
           10,
           "Cytoglobin 2",
           "Cytoglobin",
           "Daphnia magna",
           "Daphnia"
          ],
          [
           -1,
           -1,
           18,
           10,
           "Globin like protein 1",
           "Globin",
           "Sarcoptes scabiei",
           "Sarcoptes"
          ]
         ],
         "hovertemplate": "<b>%{hovertext}</b><br><br>tree3=%{customdata[2]}<br>pm1=%{x}<br>pm2=%{y}<br>tree1=%{customdata[0]}<br>tree2=%{customdata[1]}<br>tree4=%{customdata[3]}<br>full_name=%{customdata[4]}<br>short_name=%{customdata[5]}<br>full_species=%{customdata[6]}<br>short_species=%{customdata[7]}<extra></extra>",
         "hovertext": [
          18,
          18,
          18,
          18,
          18,
          18,
          18,
          18,
          18,
          18,
          18,
          18,
          18,
          18,
          18,
          18,
          18,
          18,
          18,
          18,
          18,
          18,
          18,
          18,
          18,
          18,
          18,
          18,
          18,
          18,
          18,
          18,
          18
         ],
         "legendgroup": "18",
         "marker": {
          "color": "#00cc96",
          "symbol": "circle"
         },
         "mode": "markers",
         "name": "18",
         "orientation": "v",
         "showlegend": true,
         "textposition": "top right",
         "type": "scatter",
         "x": [
          0.15212773,
          0.09354403,
          0.124773055,
          0.10953781,
          0.14810023,
          0.19465268,
          0.06297551,
          0.04383493,
          0.059165645,
          0.21983033,
          0.18646452,
          0.14643128,
          0.35295278,
          0.3842849,
          0.37449345,
          0.316378,
          0.37528974,
          0.3716732,
          0.34889358,
          0.38234067,
          0.23090218,
          0.14139313,
          0.113217264,
          0.17506786,
          0.13306619,
          0.2479315,
          0.1164809,
          0.2472127,
          0.3844328,
          0.18951887,
          0.36896688,
          0.26329425,
          0.17920914
         ],
         "xaxis": "x",
         "y": [
          0.016530996,
          0.07872186,
          0.20713438,
          0.16567898,
          0.21751797,
          0.116035916,
          0.2400452,
          0.12917286,
          0.12299765,
          0.029811515,
          0.063790046,
          0.12738135,
          -0.060682572,
          -0.058722325,
          -0.07732555,
          -0.06823601,
          -0.051246133,
          -0.03369763,
          -0.07230041,
          -0.059791375,
          -0.053036906,
          0.03767089,
          0.01854521,
          0.1300673,
          0.19719851,
          0.17859562,
          0.11555045,
          0.08425725,
          -0.03860664,
          0.024795543,
          -0.017712027,
          0.13040528,
          0.03970868
         ],
         "yaxis": "y"
        },
        {
         "customdata": [
          [
           -1,
           40,
           22,
           11,
           "ACYPI007228 protein",
           "ACYPI007228",
           "Acyrthosiphon pisum",
           "Acyrthosiphon"
          ],
          [
           10,
           38,
           22,
           9,
           "Hemoglobin T1 polymer",
           "Hemoglobin",
           "Artemia salina",
           "Artemia"
          ],
          [
           10,
           38,
           22,
           9,
           "Hemoglobin P polymer",
           "Hemoglobin",
           "Parartemia zietziana",
           "Parartemia"
          ],
          [
           11,
           38,
           22,
           9,
           "Hemoglobin T1 polymer",
           "Hemoglobin",
           "Artemia salina",
           "Artemia"
          ],
          [
           11,
           38,
           22,
           9,
           "Hemoglobin P polymer",
           "Hemoglobin",
           "Parartemia zietziana",
           "Parartemia"
          ],
          [
           11,
           38,
           22,
           9,
           "Hemoglobin C1 polymer",
           "Hemoglobin",
           "Artemia salina",
           "Artemia"
          ],
          [
           -1,
           38,
           22,
           9,
           "Hemoglobin P polymer",
           "Hemoglobin",
           "Parartemia zietziana",
           "Parartemia"
          ],
          [
           -1,
           40,
           22,
           11,
           "Uncharacterized protein",
           "Uncharacterized",
           "Acyrthosiphon pisum",
           "Acyrthosiphon"
          ]
         ],
         "hovertemplate": "<b>%{hovertext}</b><br><br>tree3=%{customdata[2]}<br>pm1=%{x}<br>pm2=%{y}<br>tree1=%{customdata[0]}<br>tree2=%{customdata[1]}<br>tree4=%{customdata[3]}<br>full_name=%{customdata[4]}<br>short_name=%{customdata[5]}<br>full_species=%{customdata[6]}<br>short_species=%{customdata[7]}<extra></extra>",
         "hovertext": [
          22,
          22,
          22,
          22,
          22,
          22,
          22,
          22
         ],
         "legendgroup": "22",
         "marker": {
          "color": "#ab63fa",
          "symbol": "circle"
         },
         "mode": "markers",
         "name": "22",
         "orientation": "v",
         "showlegend": true,
         "textposition": "top right",
         "type": "scatter",
         "x": [
          0.10441201,
          0.31807348,
          0.3225559,
          0.31007144,
          0.31688973,
          0.31721044,
          0.34169766,
          0.1351395
         ],
         "xaxis": "x",
         "y": [
          -0.05943566,
          0.3042121,
          0.3045698,
          0.28856248,
          0.2946487,
          0.29516846,
          0.29437733,
          -0.06645439
         ],
         "yaxis": "y"
        },
        {
         "customdata": [
          [
           13,
           17,
           5,
           7,
           "Uncharacterized protein",
           "Uncharacterized",
           "Capitella teleta",
           "Capitella"
          ],
          [
           13,
           17,
           5,
           7,
           "Uncharacterized protein",
           "Uncharacterized",
           "Capitella teleta",
           "Capitella"
          ],
          [
           -1,
           17,
           5,
           7,
           "Uncharacterized protein (Fragment)",
           "Uncharacterized",
           "Capitella teleta",
           "Capitella"
          ],
          [
           -1,
           17,
           5,
           7,
           "Uncharacterized protein",
           "Uncharacterized",
           "Capitella teleta",
           "Capitella"
          ]
         ],
         "hovertemplate": "<b>%{hovertext}</b><br><br>tree3=%{customdata[2]}<br>pm1=%{x}<br>pm2=%{y}<br>tree1=%{customdata[0]}<br>tree2=%{customdata[1]}<br>tree4=%{customdata[3]}<br>full_name=%{customdata[4]}<br>short_name=%{customdata[5]}<br>full_species=%{customdata[6]}<br>short_species=%{customdata[7]}<extra></extra>",
         "hovertext": [
          5,
          5,
          5,
          5
         ],
         "legendgroup": "5",
         "marker": {
          "color": "#FFA15A",
          "symbol": "circle"
         },
         "mode": "markers",
         "name": "5",
         "orientation": "v",
         "showlegend": true,
         "textposition": "top right",
         "type": "scatter",
         "x": [
          -0.42171475,
          -0.40486583,
          -0.3095674,
          -0.36217144
         ],
         "xaxis": "x",
         "y": [
          -0.5048696,
          -0.46546018,
          -0.52996624,
          -0.49493772
         ],
         "yaxis": "y"
        },
        {
         "customdata": [
          [
           -1,
           -1,
           4,
           7,
           "Uncharacterized protein",
           "Uncharacterized",
           "Capitella teleta",
           "Capitella"
          ],
          [
           -1,
           7,
           4,
           7,
           "Cytoglobin 2",
           "Cytoglobin",
           "Crassostrea gigas",
           "Crassostrea"
          ],
          [
           -1,
           7,
           4,
           7,
           "Uncharacterized protein",
           "Uncharacterized",
           "Lottia gigantea",
           "Lottia"
          ],
          [
           12,
           6,
           4,
           7,
           "Protein CBR GLB 7",
           "Protein",
           "Caenorhabditis briggsae",
           "Caenorhabditis"
          ],
          [
           12,
           6,
           4,
           7,
           "Uncharacterized protein",
           "Uncharacterized",
           "Haemonchus placei",
           "Haemonchus"
          ],
          [
           -1,
           6,
           4,
           7,
           "Cre glb 30 protein",
           "Cre",
           "Ascaris suum",
           "Ascaris"
          ],
          [
           -1,
           -1,
           4,
           7,
           "Globin like protein 26",
           "Globin",
           "Trichinella pseudospiralis",
           "Trichinella"
          ],
          [
           -1,
           6,
           4,
           7,
           "Uncharacterized protein",
           "Uncharacterized",
           "Ancylostoma ceylanicum",
           "Ancylostoma"
          ]
         ],
         "hovertemplate": "<b>%{hovertext}</b><br><br>tree3=%{customdata[2]}<br>pm1=%{x}<br>pm2=%{y}<br>tree1=%{customdata[0]}<br>tree2=%{customdata[1]}<br>tree4=%{customdata[3]}<br>full_name=%{customdata[4]}<br>short_name=%{customdata[5]}<br>full_species=%{customdata[6]}<br>short_species=%{customdata[7]}<extra></extra>",
         "hovertext": [
          4,
          4,
          4,
          4,
          4,
          4,
          4,
          4
         ],
         "legendgroup": "4",
         "marker": {
          "color": "#19d3f3",
          "symbol": "circle"
         },
         "mode": "markers",
         "name": "4",
         "orientation": "v",
         "showlegend": true,
         "textposition": "top right",
         "type": "scatter",
         "x": [
          -0.4130535,
          -0.368385,
          -0.38914698,
          -0.47656712,
          -0.5183755,
          -0.51192605,
          -0.4772543,
          -0.5001287
         ],
         "xaxis": "x",
         "y": [
          -0.5522286,
          -0.54392725,
          -0.524438,
          -0.49000508,
          -0.4632806,
          -0.5182552,
          -0.5409887,
          -0.4953754
         ],
         "yaxis": "y"
        },
        {
         "customdata": [
          [
           -1,
           13,
           8,
           4,
           "Neuroglobin like",
           "Neuroglobin",
           "Scleropages formosus",
           "Scleropages"
          ],
          [
           -1,
           -1,
           8,
           4,
           "Predicted protein",
           "Predicted",
           "Nematostella vectensis",
           "Nematostella"
          ],
          [
           22,
           13,
           8,
           4,
           "Neuroglobin",
           "Neuroglobin",
           "Oryctolagus cuniculus",
           "Oryctolagus"
          ],
          [
           22,
           13,
           8,
           4,
           "Neuroglobin",
           "Neuroglobin",
           "Alligator mississippiensis",
           "Alligator"
          ],
          [
           21,
           13,
           8,
           4,
           "Neuroglobin",
           "Neuroglobin",
           "Danio rerio",
           "Danio"
          ],
          [
           22,
           13,
           8,
           4,
           "Uncharacterized protein",
           "Uncharacterized",
           "Anolis carolinensis",
           "Anolis"
          ],
          [
           22,
           13,
           8,
           4,
           "Uncharacterized protein",
           "Uncharacterized",
           "Lepisosteus oculatus",
           "Lepisosteus"
          ],
          [
           21,
           13,
           8,
           4,
           "Neuroglobin 1",
           "Neuroglobin",
           "Salmo salar",
           "Salmo"
          ],
          [
           22,
           13,
           8,
           4,
           "Neuroglobin",
           "Neuroglobin",
           "Amazona aestiva",
           "Amazona"
          ],
          [
           21,
           13,
           8,
           4,
           "Neuroglobin",
           "Neuroglobin",
           "Chaenocephalus aceratus",
           "Chaenocephalus"
          ],
          [
           22,
           13,
           8,
           4,
           "Uncharacterized protein",
           "Uncharacterized",
           "Ornithorhynchus anatinus",
           "Ornithorhynchus"
          ],
          [
           22,
           13,
           8,
           4,
           "Uncharacterized protein",
           "Uncharacterized",
           "Sarcophilus harrisii",
           "Sarcophilus"
          ],
          [
           22,
           13,
           8,
           4,
           "Uncharacterized protein",
           "Uncharacterized",
           "Anas platyrhynchos",
           "Anas"
          ],
          [
           22,
           13,
           8,
           4,
           "Neuroglobin",
           "Neuroglobin",
           "Gallus gallus",
           "Gallus"
          ],
          [
           21,
           13,
           8,
           4,
           "Neuroglobin (Fragment)",
           "Neuroglobin",
           "Fundulus heteroclitus",
           "Fundulus"
          ]
         ],
         "hovertemplate": "<b>%{hovertext}</b><br><br>tree3=%{customdata[2]}<br>pm1=%{x}<br>pm2=%{y}<br>tree1=%{customdata[0]}<br>tree2=%{customdata[1]}<br>tree4=%{customdata[3]}<br>full_name=%{customdata[4]}<br>short_name=%{customdata[5]}<br>full_species=%{customdata[6]}<br>short_species=%{customdata[7]}<extra></extra>",
         "hovertext": [
          8,
          8,
          8,
          8,
          8,
          8,
          8,
          8,
          8,
          8,
          8,
          8,
          8,
          8,
          8
         ],
         "legendgroup": "8",
         "marker": {
          "color": "#FF6692",
          "symbol": "circle"
         },
         "mode": "markers",
         "name": "8",
         "orientation": "v",
         "showlegend": true,
         "textposition": "top right",
         "type": "scatter",
         "x": [
          -0.61408,
          -0.5803626,
          -0.29779994,
          -0.29707277,
          -0.6410151,
          -0.29468665,
          -0.6529532,
          -0.66204464,
          -0.29927698,
          -0.6541994,
          -0.29918158,
          -0.29618686,
          -0.29983762,
          -0.2998245,
          -0.6728223
         ],
         "xaxis": "x",
         "y": [
          -0.08932629,
          0.06367661,
          -0.20764828,
          -0.20860088,
          -0.10738226,
          -0.2087672,
          -0.06130251,
          -0.0911137,
          -0.20602557,
          -0.13432747,
          -0.20912981,
          -0.20857923,
          -0.208911,
          -0.20890158,
          -0.10806501
         ],
         "yaxis": "y"
        },
        {
         "customdata": [
          [
           -1,
           23,
           14,
           6,
           "Globin",
           "Globin",
           "Branchiostoma floridae",
           "Branchiostoma"
          ],
          [
           34,
           23,
           14,
           6,
           "Globin",
           "Globin",
           "Branchiostoma floridae",
           "Branchiostoma"
          ],
          [
           33,
           24,
           14,
           6,
           "Uncharacterized protein",
           "Uncharacterized",
           "Ciona savignyi",
           "Ciona"
          ],
          [
           33,
           24,
           14,
           6,
           "Uncharacterized protein",
           "Uncharacterized",
           "Ciona intestinalis",
           "Ciona"
          ],
          [
           33,
           24,
           14,
           6,
           "Globin",
           "Globin",
           "Ciona intestinalis",
           "Ciona"
          ],
          [
           33,
           24,
           14,
           6,
           "Uncharacterized protein",
           "Uncharacterized",
           "Ciona savignyi",
           "Ciona"
          ],
          [
           35,
           24,
           14,
           6,
           "Uncharacterized protein",
           "Uncharacterized",
           "Ciona savignyi",
           "Ciona"
          ],
          [
           35,
           24,
           14,
           6,
           "Globin",
           "Globin",
           "Ciona intestinalis",
           "Ciona"
          ],
          [
           34,
           23,
           14,
           6,
           "Putative uncharacterized protein",
           "Putative",
           "Branchiostoma floridae",
           "Branchiostoma"
          ],
          [
           34,
           23,
           14,
           6,
           "Putative uncharacterized protein",
           "Putative",
           "Branchiostoma floridae",
           "Branchiostoma"
          ],
          [
           -1,
           -1,
           14,
           6,
           "Neuroglobin like protein",
           "Neuroglobin",
           "Saccoglossus kowalevskii",
           "Saccoglossus"
          ],
          [
           -1,
           24,
           14,
           6,
           "Globin",
           "Globin",
           "Ciona intestinalis",
           "Ciona"
          ]
         ],
         "hovertemplate": "<b>%{hovertext}</b><br><br>tree3=%{customdata[2]}<br>pm1=%{x}<br>pm2=%{y}<br>tree1=%{customdata[0]}<br>tree2=%{customdata[1]}<br>tree4=%{customdata[3]}<br>full_name=%{customdata[4]}<br>short_name=%{customdata[5]}<br>full_species=%{customdata[6]}<br>short_species=%{customdata[7]}<extra></extra>",
         "hovertext": [
          14,
          14,
          14,
          14,
          14,
          14,
          14,
          14,
          14,
          14,
          14,
          14
         ],
         "legendgroup": "14",
         "marker": {
          "color": "#B6E880",
          "symbol": "circle"
         },
         "mode": "markers",
         "name": "14",
         "orientation": "v",
         "showlegend": true,
         "textposition": "top right",
         "type": "scatter",
         "x": [
          -0.111956775,
          -0.10245921,
          -0.06869233,
          -0.08722286,
          -0.10088016,
          -0.09376236,
          -0.12153643,
          -0.09041371,
          -0.09965186,
          -0.106236994,
          0.20121613,
          -0.060932375
         ],
         "xaxis": "x",
         "y": [
          0.36180827,
          0.31400445,
          0.7358185,
          0.7362586,
          0.7495546,
          0.7674957,
          0.73356014,
          0.7023683,
          0.30634817,
          0.30479932,
          0.24777265,
          0.76290447
         ],
         "yaxis": "y"
        },
        {
         "customdata": [
          [
           -1,
           39,
           20,
           10,
           "Uncharacterized protein",
           "Uncharacterized",
           "Strongylocentrotus purpuratus",
           "Strongylocentrotus"
          ],
          [
           -1,
           39,
           20,
           7,
           "Putative uncharacterized protein",
           "Putative",
           "Branchiostoma floridae",
           "Branchiostoma"
          ],
          [
           -1,
           -1,
           20,
           7,
           "Putative uncharacterized protein",
           "Putative",
           "Trichoplax adhaerens",
           "Trichoplax"
          ],
          [
           23,
           16,
           20,
           7,
           "Uncharacterized protein",
           "Uncharacterized",
           "Arion vulgaris",
           "Arion"
          ],
          [
           -1,
           16,
           20,
           7,
           "Uncharacterized protein",
           "Uncharacterized",
           "Lottia gigantea",
           "Lottia"
          ],
          [
           23,
           16,
           20,
           7,
           "Cytoglobin 1",
           "Cytoglobin",
           "Crassostrea gigas",
           "Crassostrea"
          ],
          [
           23,
           16,
           20,
           7,
           "Uncharacterized protein",
           "Uncharacterized",
           "Lottia gigantea",
           "Lottia"
          ]
         ],
         "hovertemplate": "<b>%{hovertext}</b><br><br>tree3=%{customdata[2]}<br>pm1=%{x}<br>pm2=%{y}<br>tree1=%{customdata[0]}<br>tree2=%{customdata[1]}<br>tree4=%{customdata[3]}<br>full_name=%{customdata[4]}<br>short_name=%{customdata[5]}<br>full_species=%{customdata[6]}<br>short_species=%{customdata[7]}<extra></extra>",
         "hovertext": [
          20,
          20,
          20,
          20,
          20,
          20,
          20
         ],
         "legendgroup": "20",
         "marker": {
          "color": "#FF97FF",
          "symbol": "circle"
         },
         "mode": "markers",
         "name": "20",
         "orientation": "v",
         "showlegend": true,
         "textposition": "top right",
         "type": "scatter",
         "x": [
          0.08944321,
          -0.13214056,
          -0.40198335,
          -0.34984297,
          -0.3145471,
          -0.3900352,
          -0.37343997
         ],
         "xaxis": "x",
         "y": [
          -0.21959046,
          -0.36680937,
          -0.06678084,
          0.08720007,
          0.06406822,
          0.088949114,
          0.05054763
         ],
         "yaxis": "y"
        },
        {
         "customdata": [
          [
           -1,
           37,
           21,
           10,
           "Uncharacterized protein",
           "Uncharacterized",
           "Lutzomyia longipalpis",
           "Lutzomyia"
          ],
          [
           47,
           36,
           21,
           10,
           "Putative hemoglobin like flavoprotein (Fragment)",
           "Hemoglobin",
           "Rhodnius neglectus",
           "Rhodnius"
          ],
          [
           47,
           36,
           21,
           10,
           "Putative hemoglobin like flavoprotein (Fragment)",
           "Hemoglobin",
           "Triatoma infestans",
           "Triatoma"
          ],
          [
           -1,
           37,
           21,
           10,
           "Uncharacterized protein",
           "Uncharacterized",
           "Glossina morsitans",
           "Glossina"
          ]
         ],
         "hovertemplate": "<b>%{hovertext}</b><br><br>tree3=%{customdata[2]}<br>pm1=%{x}<br>pm2=%{y}<br>tree1=%{customdata[0]}<br>tree2=%{customdata[1]}<br>tree4=%{customdata[3]}<br>full_name=%{customdata[4]}<br>short_name=%{customdata[5]}<br>full_species=%{customdata[6]}<br>short_species=%{customdata[7]}<extra></extra>",
         "hovertext": [
          21,
          21,
          21,
          21
         ],
         "legendgroup": "21",
         "marker": {
          "color": "#FECB52",
          "symbol": "circle"
         },
         "mode": "markers",
         "name": "21",
         "orientation": "v",
         "showlegend": true,
         "textposition": "top right",
         "type": "scatter",
         "x": [
          0.29869556,
          0.25384212,
          0.25437817,
          0.23785102
         ],
         "xaxis": "x",
         "y": [
          -0.1020697,
          -0.021677086,
          0.020695847,
          -0.1703576
         ],
         "yaxis": "y"
        },
        {
         "customdata": [
          [
           -1,
           -1,
           9,
           3,
           "Uncharacterized protein",
           "Uncharacterized",
           "Amphimedon queenslandica",
           "Amphimedon"
          ],
          [
           14,
           10,
           9,
           3,
           "Uncharacterized protein",
           "Uncharacterized",
           "Strongylocentrotus purpuratus",
           "Strongylocentrotus"
          ],
          [
           -1,
           -1,
           9,
           3,
           "Uncharacterized protein",
           "Uncharacterized",
           "Micromonas commoda",
           "Micromonas"
          ],
          [
           14,
           10,
           9,
           3,
           "Uncharacterized protein",
           "Uncharacterized",
           "Strongylocentrotus purpuratus",
           "Strongylocentrotus"
          ],
          [
           -1,
           10,
           9,
           3,
           "Uncharacterized protein",
           "Uncharacterized",
           "Strongylocentrotus purpuratus",
           "Strongylocentrotus"
          ],
          [
           14,
           10,
           9,
           3,
           "Uncharacterized protein",
           "Uncharacterized",
           "Strongylocentrotus purpuratus",
           "Strongylocentrotus"
          ],
          [
           14,
           10,
           9,
           3,
           "Uncharacterized protein",
           "Uncharacterized",
           "Strongylocentrotus purpuratus",
           "Strongylocentrotus"
          ]
         ],
         "hovertemplate": "<b>%{hovertext}</b><br><br>tree3=%{customdata[2]}<br>pm1=%{x}<br>pm2=%{y}<br>tree1=%{customdata[0]}<br>tree2=%{customdata[1]}<br>tree4=%{customdata[3]}<br>full_name=%{customdata[4]}<br>short_name=%{customdata[5]}<br>full_species=%{customdata[6]}<br>short_species=%{customdata[7]}<extra></extra>",
         "hovertext": [
          9,
          9,
          9,
          9,
          9,
          9,
          9
         ],
         "legendgroup": "9",
         "marker": {
          "color": "#636efa",
          "symbol": "circle"
         },
         "mode": "markers",
         "name": "9",
         "orientation": "v",
         "showlegend": true,
         "textposition": "top right",
         "type": "scatter",
         "x": [
          -0.2338865,
          -0.47369742,
          -0.41114688,
          -0.508038,
          -0.5607425,
          -0.48074704,
          -0.5092688
         ],
         "xaxis": "x",
         "y": [
          -0.20625015,
          -0.24143854,
          -0.21726923,
          -0.24668315,
          -0.26519868,
          -0.25595176,
          -0.30746624
         ],
         "yaxis": "y"
        },
        {
         "customdata": [
          [
           18,
           14,
           10,
           4,
           "Cytoglobin 2",
           "Cytoglobin",
           "Crassostrea gigas",
           "Crassostrea"
          ],
          [
           19,
           14,
           10,
           4,
           "Uncharacterized protein (Fragment)",
           "Uncharacterized",
           "Lottia gigantea",
           "Lottia"
          ],
          [
           19,
           14,
           10,
           4,
           "Uncharacterized protein (Fragment)",
           "Uncharacterized",
           "Lottia gigantea",
           "Lottia"
          ],
          [
           -1,
           14,
           10,
           4,
           "Uncharacterized protein (Fragment)",
           "Uncharacterized",
           "Lottia gigantea",
           "Lottia"
          ],
          [
           -1,
           14,
           10,
           4,
           "Uncharacterized protein",
           "Uncharacterized",
           "Capitella teleta",
           "Capitella"
          ],
          [
           17,
           12,
           10,
           4,
           "ACYPI001485 protein",
           "ACYPI001485",
           "Acyrthosiphon pisum",
           "Acyrthosiphon"
          ],
          [
           19,
           14,
           10,
           4,
           "Uncharacterized protein",
           "Uncharacterized",
           "Lottia gigantea",
           "Lottia"
          ],
          [
           16,
           11,
           10,
           4,
           "GbX1",
           "GbX1",
           "Callorhinchus milii",
           "Callorhinchus"
          ],
          [
           16,
           11,
           10,
           4,
           "GbX2",
           "GbX2",
           "Callorhinchus milii",
           "Callorhinchus"
          ],
          [
           16,
           11,
           10,
           4,
           "Chromosome 10 SCAF15019, whole genome shotgun sequence",
           "Chromosome",
           "Tetraodon nigroviridis",
           "Tetraodon"
          ],
          [
           16,
           11,
           10,
           4,
           "Cytoglobin 1",
           "Cytoglobin",
           "Chelonia mydas",
           "Chelonia"
          ],
          [
           16,
           11,
           10,
           4,
           "Uncharacterized protein",
           "Uncharacterized",
           "Poecilia formosa",
           "Poecilia"
          ],
          [
           16,
           11,
           10,
           4,
           "Uncharacterized protein",
           "Uncharacterized",
           "Lepisosteus oculatus",
           "Lepisosteus"
          ],
          [
           16,
           11,
           10,
           4,
           "Uncharacterized protein",
           "Uncharacterized",
           "Latimeria chalumnae",
           "Latimeria"
          ],
          [
           16,
           11,
           10,
           4,
           "Xgb protein",
           "Xgb",
           "Danio rerio",
           "Danio"
          ],
          [
           16,
           11,
           10,
           4,
           "Uncharacterized protein",
           "Uncharacterized",
           "Lepisosteus oculatus",
           "Lepisosteus"
          ],
          [
           16,
           11,
           10,
           4,
           "Uncharacterized protein",
           "Uncharacterized",
           "Xenopus tropicalis",
           "Xenopus"
          ],
          [
           16,
           11,
           10,
           4,
           "Cytoglobin 2",
           "Cytoglobin",
           "Ictalurus punctatus",
           "Ictalurus"
          ],
          [
           16,
           11,
           10,
           4,
           "Uncharacterized protein",
           "Uncharacterized",
           "Oreochromis niloticus",
           "Oreochromis"
          ],
          [
           16,
           11,
           10,
           4,
           "Uncharacterized protein",
           "Uncharacterized",
           "Oncorhynchus mykiss",
           "Oncorhynchus"
          ],
          [
           16,
           11,
           10,
           4,
           "Uncharacterized protein",
           "Uncharacterized",
           "Oncorhynchus mykiss",
           "Oncorhynchus"
          ],
          [
           16,
           11,
           10,
           4,
           "Neuroglobin like (Fragment)",
           "Neuroglobin",
           "Scleropages formosus",
           "Scleropages"
          ],
          [
           17,
           12,
           10,
           4,
           "Globin D, coelomic, putative",
           "Globin",
           "Pediculus humanus",
           "Pediculus"
          ],
          [
           -1,
           14,
           10,
           4,
           "Neuroglobin",
           "Neuroglobin",
           "Daphnia magna",
           "Daphnia"
          ],
          [
           19,
           14,
           10,
           4,
           "Neuroglobin 1",
           "Neuroglobin",
           "Crassostrea gigas",
           "Crassostrea"
          ],
          [
           19,
           14,
           10,
           4,
           "Uncharacterized protein",
           "Uncharacterized",
           "Arion vulgaris",
           "Arion"
          ],
          [
           19,
           14,
           10,
           4,
           "Uncharacterized protein",
           "Uncharacterized",
           "Octopus bimaculoides",
           "Octopus"
          ],
          [
           -1,
           14,
           10,
           4,
           "Uncharacterized protein",
           "Uncharacterized",
           "Capitella teleta",
           "Capitella"
          ],
          [
           18,
           14,
           10,
           4,
           "Nacrein like protein F",
           "Nacrein",
           "Crassostrea gigas",
           "Crassostrea"
          ],
          [
           -1,
           12,
           10,
           4,
           "Uncharacterized protein",
           "Uncharacterized",
           "Lepeophtheirus salmonis",
           "Lepeophtheirus"
          ],
          [
           -1,
           12,
           10,
           4,
           "Neuroglobinlike [Maylandia zebra]",
           "Neuroglobin",
           "Lepeophtheirus salmonis",
           "Lepeophtheirus"
          ]
         ],
         "hovertemplate": "<b>%{hovertext}</b><br><br>tree3=%{customdata[2]}<br>pm1=%{x}<br>pm2=%{y}<br>tree1=%{customdata[0]}<br>tree2=%{customdata[1]}<br>tree4=%{customdata[3]}<br>full_name=%{customdata[4]}<br>short_name=%{customdata[5]}<br>full_species=%{customdata[6]}<br>short_species=%{customdata[7]}<extra></extra>",
         "hovertext": [
          10,
          10,
          10,
          10,
          10,
          10,
          10,
          10,
          10,
          10,
          10,
          10,
          10,
          10,
          10,
          10,
          10,
          10,
          10,
          10,
          10,
          10,
          10,
          10,
          10,
          10,
          10,
          10,
          10,
          10,
          10
         ],
         "legendgroup": "10",
         "marker": {
          "color": "#EF553B",
          "symbol": "circle"
         },
         "mode": "markers",
         "name": "10",
         "orientation": "v",
         "showlegend": true,
         "textposition": "top right",
         "type": "scatter",
         "x": [
          -0.5737011,
          -0.5982256,
          -0.54788357,
          -0.5374004,
          -0.53599447,
          -0.6375652,
          -0.5541821,
          -0.5037762,
          -0.53994703,
          -0.44761446,
          -0.52229184,
          -0.46580496,
          -0.52206033,
          -0.5353706,
          -0.4785183,
          -0.4897718,
          -0.48272038,
          -0.4520121,
          -0.48077106,
          -0.4619023,
          -0.4322011,
          -0.44987938,
          -0.639787,
          -0.60461724,
          -0.5758804,
          -0.50223964,
          -0.5885475,
          -0.5731153,
          -0.59590894,
          -0.6475292,
          -0.5997351
         ],
         "xaxis": "x",
         "y": [
          0.3225759,
          0.29259413,
          0.24834573,
          0.33620986,
          0.30272013,
          0.24456978,
          0.28302252,
          0.55635434,
          0.552027,
          0.5735147,
          0.55192,
          0.55841506,
          0.536679,
          0.520191,
          0.5434862,
          0.5293966,
          0.58257926,
          0.5496272,
          0.4813827,
          0.5301417,
          0.5391387,
          0.5079659,
          0.27556503,
          0.23458809,
          0.29141212,
          0.28511852,
          0.2751126,
          0.2598302,
          0.33024114,
          0.31782886,
          0.3833684
         ],
         "yaxis": "y"
        },
        {
         "customdata": [
          [
           29,
           20,
           12,
           5,
           "Cytoglobin b",
           "Cytoglobin",
           "Xenopus laevis",
           "Xenopus"
          ],
          [
           29,
           20,
           12,
           5,
           "Uncharacterized protein",
           "Uncharacterized",
           "Oreochromis niloticus",
           "Oreochromis"
          ],
          [
           29,
           20,
           12,
           5,
           "Cytoglobin",
           "Cytoglobin",
           "Nothobranchius korthausae",
           "Nothobranchius"
          ],
          [
           28,
           20,
           12,
           5,
           "Uncharacterized protein (Fragment)",
           "Uncharacterized",
           "Gasterosteus aculeatus",
           "Gasterosteus"
          ],
          [
           29,
           20,
           12,
           5,
           "Cytoglobin",
           "Cytoglobin",
           "Bos mutus",
           "Bos"
          ],
          [
           29,
           20,
           12,
           5,
           "Cytoglobin 1",
           "Cytoglobin",
           "Iguana iguana",
           "Iguana"
          ],
          [
           28,
           20,
           12,
           5,
           "Cytoglobin 1",
           "Cytoglobin",
           "Oryzias latipes",
           "Oryzias"
          ],
          [
           29,
           20,
           12,
           5,
           "Uncharacterized protein",
           "Uncharacterized",
           "Anas platyrhynchos",
           "Anas"
          ],
          [
           28,
           20,
           12,
           5,
           "Uncharacterized protein",
           "Uncharacterized",
           "Tetraodon nigroviridis",
           "Tetraodon"
          ],
          [
           28,
           20,
           12,
           5,
           "Uncharacterized protein (Fragment)",
           "Uncharacterized",
           "Takifugu rubripes",
           "Takifugu"
          ],
          [
           29,
           20,
           12,
           5,
           "Cytoglobin 2",
           "Cytoglobin",
           "Tetraodon nigroviridis",
           "Tetraodon"
          ],
          [
           29,
           20,
           12,
           5,
           "Uncharacterized protein",
           "Uncharacterized",
           "Tetraodon nigroviridis",
           "Tetraodon"
          ],
          [
           28,
           20,
           12,
           5,
           "Uncharacterized protein",
           "Uncharacterized",
           "Xiphophorus maculatus",
           "Xiphophorus"
          ],
          [
           28,
           20,
           12,
           5,
           "Cytoglobin 1",
           "Cytoglobin",
           "Larimichthys crocea",
           "Larimichthys"
          ],
          [
           29,
           20,
           12,
           5,
           "Uncharacterized protein",
           "Uncharacterized",
           "Oncorhynchus mykiss",
           "Oncorhynchus"
          ],
          [
           28,
           20,
           12,
           5,
           "Cytoglobin 1",
           "Cytoglobin",
           "Nothobranchius pienaari",
           "Nothobranchius"
          ],
          [
           29,
           20,
           12,
           5,
           "Cytoglobin",
           "Cytoglobin",
           "Alligator mississippiensis",
           "Alligator"
          ],
          [
           29,
           20,
           12,
           5,
           "Uncharacterized protein",
           "Uncharacterized",
           "Astyanax mexicanus",
           "Astyanax"
          ],
          [
           29,
           20,
           12,
           5,
           "Uncharacterized protein",
           "Uncharacterized",
           "Latimeria chalumnae",
           "Latimeria"
          ],
          [
           29,
           20,
           12,
           5,
           "Cytoglobin 2",
           "Cytoglobin",
           "Ictalurus punctatus",
           "Ictalurus"
          ],
          [
           28,
           20,
           12,
           5,
           "Cytoglobin",
           "Cytoglobin",
           "Chaenocephalus aceratus",
           "Chaenocephalus"
          ],
          [
           29,
           20,
           12,
           5,
           "Cygb2 protein",
           "Cygb2",
           "Danio rerio",
           "Danio"
          ],
          [
           28,
           20,
           12,
           5,
           "Uncharacterized protein",
           "Uncharacterized",
           "Oreochromis niloticus",
           "Oreochromis"
          ],
          [
           28,
           20,
           12,
           5,
           "Cytoglobin",
           "Cytoglobin",
           "Oncorhynchus mykiss",
           "Oncorhynchus"
          ],
          [
           31,
           20,
           12,
           5,
           "Uncharacterized protein",
           "Uncharacterized",
           "Astyanax mexicanus",
           "Astyanax"
          ],
          [
           31,
           20,
           12,
           5,
           "Cytoglobin 1",
           "Cytoglobin",
           "Cyprinus carpio",
           "Cyprinus"
          ],
          [
           29,
           20,
           12,
           5,
           "Cytoglobin",
           "Cytoglobin",
           "Callorhinchus milii",
           "Callorhinchus"
          ],
          [
           31,
           20,
           12,
           5,
           "Cytoglobin 1",
           "Cytoglobin",
           "Danio rerio",
           "Danio"
          ],
          [
           31,
           20,
           12,
           5,
           "Cytoglobin 1",
           "Cytoglobin",
           "Ictalurus punctatus",
           "Ictalurus"
          ],
          [
           -1,
           21,
           12,
           5,
           "Uncharacterized protein (Fragment)",
           "Uncharacterized",
           "Petromyzon marinus",
           "Petromyzon"
          ],
          [
           30,
           21,
           12,
           5,
           "Hemoglobin 4",
           "Hemoglobin",
           "Lethenteron camtschaticum",
           "Lethenteron"
          ],
          [
           30,
           21,
           12,
           5,
           "Uncharacterized protein",
           "Uncharacterized",
           "Petromyzon marinus",
           "Petromyzon"
          ],
          [
           30,
           21,
           12,
           5,
           "Uncharacterized protein",
           "Uncharacterized",
           "Petromyzon marinus",
           "Petromyzon"
          ],
          [
           29,
           20,
           12,
           5,
           "Cytoglobin (Fragment)",
           "Cytoglobin",
           "Fundulus heteroclitus",
           "Fundulus"
          ],
          [
           28,
           20,
           12,
           5,
           "Cytoglobin (Fragment)",
           "Cytoglobin",
           "Fundulus heteroclitus",
           "Fundulus"
          ],
          [
           29,
           20,
           12,
           5,
           "Inactive rhomboid protein 2",
           "Inactive",
           "Tupaia chinensis",
           "Tupaia"
          ]
         ],
         "hovertemplate": "<b>%{hovertext}</b><br><br>tree3=%{customdata[2]}<br>pm1=%{x}<br>pm2=%{y}<br>tree1=%{customdata[0]}<br>tree2=%{customdata[1]}<br>tree4=%{customdata[3]}<br>full_name=%{customdata[4]}<br>short_name=%{customdata[5]}<br>full_species=%{customdata[6]}<br>short_species=%{customdata[7]}<extra></extra>",
         "hovertext": [
          12,
          12,
          12,
          12,
          12,
          12,
          12,
          12,
          12,
          12,
          12,
          12,
          12,
          12,
          12,
          12,
          12,
          12,
          12,
          12,
          12,
          12,
          12,
          12,
          12,
          12,
          12,
          12,
          12,
          12,
          12,
          12,
          12,
          12,
          12,
          12
         ],
         "legendgroup": "12",
         "marker": {
          "color": "#00cc96",
          "symbol": "circle"
         },
         "mode": "markers",
         "name": "12",
         "orientation": "v",
         "showlegend": true,
         "textposition": "top right",
         "type": "scatter",
         "x": [
          0.16456915,
          0.05865246,
          0.03489937,
          0.082943745,
          0.18328342,
          0.14900458,
          0.09643834,
          0.15224959,
          0.057228018,
          0.035233382,
          0.028158681,
          0.029679982,
          0.13235055,
          0.073755026,
          0.05824478,
          0.14147425,
          0.15688601,
          0.06273448,
          0.12869182,
          -0.012739736,
          0.08684538,
          0.0865145,
          0.12322655,
          0.11580076,
          0.04512096,
          0.0059047197,
          0.103861466,
          0.0228416,
          0.018542467,
          0.20673849,
          0.22983769,
          0.21550909,
          0.24577355,
          0.03895966,
          0.12380958,
          0.18095085
         ],
         "xaxis": "x",
         "y": [
          -0.63108283,
          -0.63602865,
          -0.5716935,
          -0.34023428,
          -0.64715415,
          -0.68660337,
          -0.36718783,
          -0.6555251,
          -0.33576205,
          -0.32330805,
          -0.59692943,
          -0.6151889,
          -0.34360114,
          -0.3643613,
          -0.6101243,
          -0.3796376,
          -0.67070884,
          -0.5807351,
          -0.6697633,
          -0.5436709,
          -0.32854098,
          -0.57798547,
          -0.35840273,
          -0.37039867,
          -0.38776845,
          -0.4682294,
          -0.6771156,
          -0.4993939,
          -0.4128403,
          -0.4587362,
          -0.48406819,
          -0.41913927,
          -0.4020715,
          -0.60656184,
          -0.32716098,
          -0.6735195
         ],
         "yaxis": "y"
        },
        {
         "customdata": [
          [
           -1,
           18,
           13,
           5,
           "Uncharacterized protein",
           "Uncharacterized",
           "Lepisosteus oculatus",
           "Lepisosteus"
          ],
          [
           27,
           19,
           13,
           5,
           "Hemoglobin subunit alpha",
           "Hemoglobin",
           "Cavia porcellus",
           "Cavia"
          ],
          [
           27,
           19,
           13,
           5,
           "Hemoglobin subunit alpha 2",
           "Hemoglobin",
           "Scalopus aquaticus",
           "Scalopus"
          ],
          [
           26,
           19,
           13,
           5,
           "Uncharacterized protein",
           "Uncharacterized",
           "Neotoma lepida",
           "Neotoma"
          ],
          [
           25,
           18,
           13,
           5,
           "Globin Y",
           "Globin",
           "Callorhinchus milii",
           "Callorhinchus"
          ],
          [
           25,
           18,
           13,
           5,
           "Uncharacterized protein",
           "Uncharacterized",
           "Latimeria chalumnae",
           "Latimeria"
          ],
          [
           24,
           18,
           13,
           5,
           "Uncharacterized protein",
           "Uncharacterized",
           "Xenopus tropicalis",
           "Xenopus"
          ],
          [
           24,
           18,
           13,
           5,
           "Globin Y",
           "Globin",
           "Xenopus laevis",
           "Xenopus"
          ],
          [
           -1,
           18,
           13,
           5,
           "Uncharacterized protein",
           "Uncharacterized",
           "Pelodiscus sinensis",
           "Pelodiscus"
          ],
          [
           26,
           19,
           13,
           5,
           "Hemoglobin subunit rho",
           "Hemoglobin",
           "Alligator mississippiensis",
           "Alligator"
          ],
          [
           26,
           19,
           13,
           5,
           "Uncharacterized protein",
           "Uncharacterized",
           "Nomascus leucogenys",
           "Nomascus"
          ]
         ],
         "hovertemplate": "<b>%{hovertext}</b><br><br>tree3=%{customdata[2]}<br>pm1=%{x}<br>pm2=%{y}<br>tree1=%{customdata[0]}<br>tree2=%{customdata[1]}<br>tree4=%{customdata[3]}<br>full_name=%{customdata[4]}<br>short_name=%{customdata[5]}<br>full_species=%{customdata[6]}<br>short_species=%{customdata[7]}<extra></extra>",
         "hovertext": [
          13,
          13,
          13,
          13,
          13,
          13,
          13,
          13,
          13,
          13,
          13
         ],
         "legendgroup": "13",
         "marker": {
          "color": "#ab63fa",
          "symbol": "circle"
         },
         "mode": "markers",
         "name": "13",
         "orientation": "v",
         "showlegend": true,
         "textposition": "top right",
         "type": "scatter",
         "x": [
          -0.06414359,
          -0.1331765,
          -0.12829727,
          -0.088550515,
          -0.08217363,
          -0.08631871,
          -0.10345019,
          -0.09982108,
          -0.06919317,
          -0.09192164,
          -0.10868079
         ],
         "xaxis": "x",
         "y": [
          -0.80006206,
          -0.7398202,
          -0.7005243,
          -0.7033538,
          -0.79870826,
          -0.8235989,
          -0.8165472,
          -0.79959196,
          -0.82331014,
          -0.7347793,
          -0.7329447
         ],
         "yaxis": "y"
        },
        {
         "customdata": [
          [
           -1,
           -1,
           6,
           3,
           "Globin",
           "Globin",
           "Gemmatirosa kalamazoonesis",
           "Gemmatirosa"
          ],
          [
           -1,
           9,
           6,
           3,
           "Globin",
           "Globin",
           "Gemmatirosa kalamazoonesis",
           "Gemmatirosa"
          ],
          [
           -1,
           9,
           6,
           3,
           "Hemin receptor",
           "Hemin",
           "Halothiobacillus sp.",
           "Halothiobacillus"
          ],
          [
           15,
           8,
           6,
           3,
           "ARAD1D45562p",
           "ARAD1D45562p",
           "Blastobotrys adeninivorans",
           "Blastobotrys"
          ],
          [
           15,
           8,
           6,
           3,
           "CYFA0S05e02454g1_1",
           "CYFA0S05e02454g1_1",
           "Cyberlindnera fabianii",
           "Cyberlindnera"
          ]
         ],
         "hovertemplate": "<b>%{hovertext}</b><br><br>tree3=%{customdata[2]}<br>pm1=%{x}<br>pm2=%{y}<br>tree1=%{customdata[0]}<br>tree2=%{customdata[1]}<br>tree4=%{customdata[3]}<br>full_name=%{customdata[4]}<br>short_name=%{customdata[5]}<br>full_species=%{customdata[6]}<br>short_species=%{customdata[7]}<extra></extra>",
         "hovertext": [
          6,
          6,
          6,
          6,
          6
         ],
         "legendgroup": "6",
         "marker": {
          "color": "#FFA15A",
          "symbol": "circle"
         },
         "mode": "markers",
         "name": "6",
         "orientation": "v",
         "showlegend": true,
         "textposition": "top right",
         "type": "scatter",
         "x": [
          -0.51087034,
          -0.53661084,
          -0.48313376,
          -0.54082954,
          -0.49887237
         ],
         "xaxis": "x",
         "y": [
          -0.17645629,
          -0.12597236,
          -0.18728231,
          -0.15470557,
          -0.15105976
         ],
         "yaxis": "y"
        },
        {
         "customdata": [
          [
           -1,
           15,
           7,
           4,
           "Predicted protein",
           "Predicted",
           "Nematostella vectensis",
           "Nematostella"
          ],
          [
           20,
           15,
           7,
           4,
           "Predicted protein",
           "Predicted",
           "Nematostella vectensis",
           "Nematostella"
          ],
          [
           -1,
           15,
           7,
           4,
           "Predicted protein",
           "Predicted",
           "Nematostella vectensis",
           "Nematostella"
          ],
          [
           20,
           15,
           7,
           4,
           "Predicted protein",
           "Predicted",
           "Nematostella vectensis",
           "Nematostella"
          ]
         ],
         "hovertemplate": "<b>%{hovertext}</b><br><br>tree3=%{customdata[2]}<br>pm1=%{x}<br>pm2=%{y}<br>tree1=%{customdata[0]}<br>tree2=%{customdata[1]}<br>tree4=%{customdata[3]}<br>full_name=%{customdata[4]}<br>short_name=%{customdata[5]}<br>full_species=%{customdata[6]}<br>short_species=%{customdata[7]}<extra></extra>",
         "hovertext": [
          7,
          7,
          7,
          7
         ],
         "legendgroup": "7",
         "marker": {
          "color": "#19d3f3",
          "symbol": "circle"
         },
         "mode": "markers",
         "name": "7",
         "orientation": "v",
         "showlegend": true,
         "textposition": "top right",
         "type": "scatter",
         "x": [
          -0.54438376,
          -0.48235685,
          -0.51077527,
          -0.45818457
         ],
         "xaxis": "x",
         "y": [
          0.120526,
          0.12833646,
          0.11335759,
          0.06686395
         ],
         "yaxis": "y"
        },
        {
         "customdata": [
          [
           43,
           31,
           17,
           10,
           "Globin 2 A chain",
           "Globin",
           "Anadara inaequivalvis",
           "Anadara"
          ],
          [
           -1,
           -1,
           17,
           10,
           "Nerve hemoglobin",
           "Hemoglobin",
           "Spisula solidissima",
           "Spisula"
          ],
          [
           -1,
           31,
           17,
           10,
           "Hemoglobin (Heterodimeric)",
           "Hemoglobin",
           "Barbatia virescens",
           "Barbatia"
          ],
          [
           43,
           31,
           17,
           10,
           "Globin, minor",
           "Globin,",
           "Anadara trapezia",
           "Anadara"
          ],
          [
           43,
           31,
           17,
           10,
           "Globin 2 B chain",
           "Globin",
           "Anadara inaequivalvis",
           "Anadara"
          ],
          [
           -1,
           -1,
           17,
           10,
           "Hemoglobin II",
           "Hemoglobin",
           "Phacoides pectinatus",
           "Phacoides"
          ],
          [
           44,
           30,
           17,
           10,
           "Two domain chain of the polymeric hemoglobin (Intracellular)",
           "Hemoglobin",
           "Barbatia lima",
           "Barbatia"
          ],
          [
           44,
           30,
           17,
           10,
           "Hemoglobin (2 domain)",
           "Hemoglobin",
           "Barbatia lima",
           "Barbatia"
          ]
         ],
         "hovertemplate": "<b>%{hovertext}</b><br><br>tree3=%{customdata[2]}<br>pm1=%{x}<br>pm2=%{y}<br>tree1=%{customdata[0]}<br>tree2=%{customdata[1]}<br>tree4=%{customdata[3]}<br>full_name=%{customdata[4]}<br>short_name=%{customdata[5]}<br>full_species=%{customdata[6]}<br>short_species=%{customdata[7]}<extra></extra>",
         "hovertext": [
          17,
          17,
          17,
          17,
          17,
          17,
          17,
          17
         ],
         "legendgroup": "17",
         "marker": {
          "color": "#FF6692",
          "symbol": "circle"
         },
         "mode": "markers",
         "name": "17",
         "orientation": "v",
         "showlegend": true,
         "textposition": "top right",
         "type": "scatter",
         "x": [
          0.093629636,
          0.09164294,
          0.10891761,
          0.0928773,
          0.09294273,
          0.009910086,
          0.0806611,
          0.08620793
         ],
         "xaxis": "x",
         "y": [
          0.4618654,
          0.40491447,
          0.4625901,
          0.4620257,
          0.46201432,
          0.1554999,
          0.45328277,
          0.45053297
         ],
         "yaxis": "y"
        },
        {
         "customdata": [
          [
           2,
           1,
           2,
           1,
           "Globin 2",
           "Globin",
           "Chironomus riparius",
           "Chironomus"
          ],
          [
           1,
           1,
           2,
           1,
           "Globin",
           "Globin",
           "Polypedilum nubifer",
           "Polypedilum"
          ],
          [
           1,
           1,
           2,
           1,
           "Globin",
           "Globin",
           "Polypedilum vanderplanki",
           "Polypedilum"
          ],
          [
           3,
           1,
           2,
           1,
           "Globin",
           "Globin",
           "Polypedilum vanderplanki",
           "Polypedilum"
          ],
          [
           2,
           1,
           2,
           1,
           "Globin",
           "Globin",
           "Polypedilum nubifer",
           "Polypedilum"
          ],
          [
           3,
           1,
           2,
           1,
           "Globin",
           "Globin",
           "Polypedilum nubifer",
           "Polypedilum"
          ],
          [
           3,
           1,
           2,
           1,
           "Globin",
           "Globin",
           "Polypedilum vanderplanki",
           "Polypedilum"
          ],
          [
           3,
           1,
           2,
           1,
           "Globin 11",
           "Globin",
           "Chironomus riparius",
           "Chironomus"
          ],
          [
           1,
           1,
           2,
           1,
           "ORF E protein",
           "ORF",
           "Chironomus tentans",
           "Chironomus"
          ],
          [
           1,
           1,
           2,
           1,
           "Globin",
           "Globin",
           "Polypedilum nubifer",
           "Polypedilum"
          ],
          [
           1,
           1,
           2,
           1,
           "Globin",
           "Globin",
           "Polypedilum nubifer",
           "Polypedilum"
          ],
          [
           -1,
           -1,
           2,
           1,
           "Globin",
           "Globin",
           "Nerita albicilla",
           "Nerita"
          ]
         ],
         "hovertemplate": "<b>%{hovertext}</b><br><br>tree3=%{customdata[2]}<br>pm1=%{x}<br>pm2=%{y}<br>tree1=%{customdata[0]}<br>tree2=%{customdata[1]}<br>tree4=%{customdata[3]}<br>full_name=%{customdata[4]}<br>short_name=%{customdata[5]}<br>full_species=%{customdata[6]}<br>short_species=%{customdata[7]}<extra></extra>",
         "hovertext": [
          2,
          2,
          2,
          2,
          2,
          2,
          2,
          2,
          2,
          2,
          2,
          2
         ],
         "legendgroup": "2",
         "marker": {
          "color": "#B6E880",
          "symbol": "circle"
         },
         "mode": "markers",
         "name": "2",
         "orientation": "v",
         "showlegend": true,
         "textposition": "top right",
         "type": "scatter",
         "x": [
          0.4043186,
          0.39794698,
          0.37238166,
          0.36019528,
          0.3868871,
          0.34188774,
          0.33895966,
          0.35801518,
          0.39406282,
          0.38031125,
          0.41244918,
          0.0015589229
         ],
         "xaxis": "x",
         "y": [
          0.616073,
          0.65618074,
          0.64518595,
          0.61357254,
          0.6366259,
          0.64623713,
          0.66641706,
          0.6810799,
          0.685511,
          0.66742593,
          0.6401372,
          0.07608434
         ],
         "yaxis": "y"
        },
        {
         "customdata": [
          [
           7,
           5,
           1,
           2,
           "Di domain hemoglobin",
           "Hemoglobin",
           "Daphnia magna",
           "Daphnia"
          ],
          [
           7,
           5,
           1,
           2,
           "Putative uncharacterized protein",
           "Putative",
           "Daphnia pulex",
           "Daphnia"
          ],
          [
           7,
           5,
           1,
           2,
           "Putative uncharacterized protein",
           "Putative",
           "Daphnia pulex",
           "Daphnia"
          ],
          [
           9,
           4,
           1,
           2,
           "Putative di domain hemoglobin",
           "Hemoglobin",
           "Daphnia magna",
           "Daphnia"
          ],
          [
           9,
           4,
           1,
           2,
           "Putative di domain hemoglobin",
           "Hemoglobin",
           "Daphnia magna",
           "Daphnia"
          ],
          [
           9,
           4,
           1,
           2,
           "Di domain hemoglobin (Fragment)",
           "Hemoglobin",
           "Daphnia magna",
           "Daphnia"
          ],
          [
           9,
           4,
           1,
           2,
           "Di domain hemoglobin (Fragment)",
           "Hemoglobin",
           "Daphnia magna",
           "Daphnia"
          ],
          [
           9,
           4,
           1,
           2,
           "Putative di domain hemoglobin",
           "Hemoglobin",
           "Daphnia magna",
           "Daphnia"
          ],
          [
           9,
           4,
           1,
           2,
           "Putative di domain hemoglobin (Fragment)",
           "Hemoglobin",
           "Daphnia magna",
           "Daphnia"
          ],
          [
           9,
           4,
           1,
           2,
           "Putative di domain hemoglobin",
           "Hemoglobin",
           "Daphnia magna",
           "Daphnia"
          ],
          [
           -1,
           5,
           1,
           2,
           "Di domain hemoglobin (Fragment)",
           "Hemoglobin",
           "Daphnia magna",
           "Daphnia"
          ],
          [
           6,
           5,
           1,
           2,
           "Di domain hemoglobin",
           "Hemoglobin",
           "Daphnia magna",
           "Daphnia"
          ],
          [
           9,
           4,
           1,
           2,
           "Putative uncharacterized protein",
           "Putative",
           "Daphnia pulex",
           "Daphnia"
          ],
          [
           9,
           4,
           1,
           2,
           "Hemoglobin",
           "Hemoglobin",
           "Daphnia magna",
           "Daphnia"
          ],
          [
           9,
           4,
           1,
           2,
           "Hemoglobin",
           "Hemoglobin",
           "Daphnia pulex",
           "Daphnia"
          ],
          [
           9,
           4,
           1,
           2,
           "Hemoglobin",
           "Hemoglobin",
           "Daphnia pulex",
           "Daphnia"
          ],
          [
           9,
           4,
           1,
           2,
           "Hemoglobin",
           "Hemoglobin",
           "Daphnia pulex",
           "Daphnia"
          ],
          [
           9,
           4,
           1,
           2,
           "Di domain hemoglobin",
           "Hemoglobin",
           "Daphnia magna",
           "Daphnia"
          ],
          [
           8,
           5,
           1,
           2,
           "Putative uncharacterized protein (Fragment)",
           "Putative",
           "Daphnia pulex",
           "Daphnia"
          ],
          [
           8,
           5,
           1,
           2,
           "Uncharacterized protein (Fragment)",
           "Uncharacterized",
           "Daphnia magna",
           "Daphnia"
          ],
          [
           9,
           4,
           1,
           2,
           "Putative di domain hemoglobin (Fragment)",
           "Hemoglobin",
           "Daphnia magna",
           "Daphnia"
          ],
          [
           9,
           4,
           1,
           2,
           "Di domain hemoglobin",
           "Hemoglobin",
           "Daphnia magna",
           "Daphnia"
          ],
          [
           6,
           5,
           1,
           2,
           "Di domain hemoglobin (Fragment)",
           "Hemoglobin",
           "Daphnia magna",
           "Daphnia"
          ],
          [
           9,
           4,
           1,
           2,
           "Di domain hemoglobin like protein",
           "Hemoglobin",
           "Daphnia magna",
           "Daphnia"
          ]
         ],
         "hovertemplate": "<b>%{hovertext}</b><br><br>tree3=%{customdata[2]}<br>pm1=%{x}<br>pm2=%{y}<br>tree1=%{customdata[0]}<br>tree2=%{customdata[1]}<br>tree4=%{customdata[3]}<br>full_name=%{customdata[4]}<br>short_name=%{customdata[5]}<br>full_species=%{customdata[6]}<br>short_species=%{customdata[7]}<extra></extra>",
         "hovertext": [
          1,
          1,
          1,
          1,
          1,
          1,
          1,
          1,
          1,
          1,
          1,
          1,
          1,
          1,
          1,
          1,
          1,
          1,
          1,
          1,
          1,
          1,
          1,
          1
         ],
         "legendgroup": "1",
         "marker": {
          "color": "#FF97FF",
          "symbol": "circle"
         },
         "mode": "markers",
         "name": "1",
         "orientation": "v",
         "showlegend": true,
         "textposition": "top right",
         "type": "scatter",
         "x": [
          0.7681614,
          0.75841933,
          0.77523255,
          0.676756,
          0.65830606,
          0.70273316,
          0.710525,
          0.6482881,
          0.6349868,
          0.6610975,
          0.74603784,
          0.73596156,
          0.70784837,
          0.7483408,
          0.7399131,
          0.74793625,
          0.75277674,
          0.6779562,
          0.7411622,
          0.69887644,
          0.6618074,
          0.6821002,
          0.7603888,
          0.6631694
         ],
         "xaxis": "x",
         "y": [
          0.27132905,
          0.2890558,
          0.28929338,
          0.12897184,
          0.12266885,
          0.12815847,
          0.15632297,
          0.1813955,
          0.16219126,
          0.15520695,
          0.26555964,
          0.3009416,
          0.10470423,
          0.14580344,
          0.11230841,
          0.10069775,
          0.12067485,
          0.108058386,
          0.22362238,
          0.23705232,
          0.078223564,
          0.07943716,
          0.3054512,
          0.0988425
         ],
         "yaxis": "y"
        },
        {
         "customdata": [
          [
           42,
           32,
           16,
           10,
           "Globin",
           "Globin",
           "Nassarius mutabilis",
           "Nassarius"
          ],
          [
           41,
           32,
           16,
           10,
           "Uncharacterized protein",
           "Uncharacterized",
           "Lottia gigantea",
           "Lottia"
          ],
          [
           41,
           32,
           16,
           10,
           "Uncharacterized protein",
           "Uncharacterized",
           "Lottia gigantea",
           "Lottia"
          ],
          [
           42,
           32,
           16,
           10,
           "Globin",
           "Globin",
           "Cerithidea rhizophorarum",
           "Cerithidea"
          ]
         ],
         "hovertemplate": "<b>%{hovertext}</b><br><br>tree3=%{customdata[2]}<br>pm1=%{x}<br>pm2=%{y}<br>tree1=%{customdata[0]}<br>tree2=%{customdata[1]}<br>tree4=%{customdata[3]}<br>full_name=%{customdata[4]}<br>short_name=%{customdata[5]}<br>full_species=%{customdata[6]}<br>short_species=%{customdata[7]}<extra></extra>",
         "hovertext": [
          16,
          16,
          16,
          16
         ],
         "legendgroup": "16",
         "marker": {
          "color": "#FECB52",
          "symbol": "circle"
         },
         "mode": "markers",
         "name": "16",
         "orientation": "v",
         "showlegend": true,
         "textposition": "top right",
         "type": "scatter",
         "x": [
          -0.0069421236,
          -0.0060275816,
          -0.003953027,
          -0.004828624
         ],
         "xaxis": "x",
         "y": [
          0.12884179,
          0.13338858,
          0.12901624,
          0.12813304
         ],
         "yaxis": "y"
        },
        {
         "customdata": [
          [
           -1,
           -1,
           -1,
           8,
           "Globin (Fragment)",
           "Globin",
           "Operophtera brumata",
           "Operophtera"
          ],
          [
           -1,
           -1,
           -1,
           3,
           "Predicted protein",
           "Predicted",
           "Nematostella vectensis",
           "Nematostella"
          ],
          [
           -1,
           -1,
           -1,
           2,
           "Putative di domain hemoglobin (Fragment)",
           "Hemoglobin",
           "Daphnia magna",
           "Daphnia"
          ]
         ],
         "hovertemplate": "<b>%{hovertext}</b><br><br>tree3=%{customdata[2]}<br>pm1=%{x}<br>pm2=%{y}<br>tree1=%{customdata[0]}<br>tree2=%{customdata[1]}<br>tree4=%{customdata[3]}<br>full_name=%{customdata[4]}<br>short_name=%{customdata[5]}<br>full_species=%{customdata[6]}<br>short_species=%{customdata[7]}<extra></extra>",
         "hovertext": [
          -1,
          -1,
          -1
         ],
         "legendgroup": "-1",
         "marker": {
          "color": "#636efa",
          "symbol": "circle"
         },
         "mode": "markers",
         "name": "-1",
         "orientation": "v",
         "showlegend": true,
         "textposition": "top right",
         "type": "scatter",
         "x": [
          0.08534323,
          -0.42197227,
          0.57678205
         ],
         "xaxis": "x",
         "y": [
          -0.44815385,
          -0.15837233,
          0.082730226
         ],
         "yaxis": "y"
        },
        {
         "customdata": [
          [
           46,
           35,
           19,
           10,
           "Globin",
           "Globin",
           "Ancylostoma ceylanicum",
           "Ancylostoma"
          ],
          [
           46,
           35,
           19,
           10,
           "Uncharacterized protein",
           "Uncharacterized",
           "Angiostrongylus costaricensis",
           "Angiostrongylus"
          ],
          [
           46,
           35,
           19,
           10,
           "Globin",
           "Globin",
           "Necator americanus",
           "Necator"
          ],
          [
           -1,
           -1,
           19,
           10,
           "Cytoglobin1like [Saccoglossus kowalevskii]",
           "Cytoglobin",
           "Lepeophtheirus salmonis",
           "Lepeophtheirus"
          ]
         ],
         "hovertemplate": "<b>%{hovertext}</b><br><br>tree3=%{customdata[2]}<br>pm1=%{x}<br>pm2=%{y}<br>tree1=%{customdata[0]}<br>tree2=%{customdata[1]}<br>tree4=%{customdata[3]}<br>full_name=%{customdata[4]}<br>short_name=%{customdata[5]}<br>full_species=%{customdata[6]}<br>short_species=%{customdata[7]}<extra></extra>",
         "hovertext": [
          19,
          19,
          19,
          19
         ],
         "legendgroup": "19",
         "marker": {
          "color": "#EF553B",
          "symbol": "circle"
         },
         "mode": "markers",
         "name": "19",
         "orientation": "v",
         "showlegend": true,
         "textposition": "top right",
         "type": "scatter",
         "x": [
          0.004471224,
          -0.037913136,
          -0.019461831,
          0.08890472
         ],
         "xaxis": "x",
         "y": [
          -0.17173268,
          -0.14016816,
          -0.11075051,
          0.1295988
         ],
         "yaxis": "y"
        },
        {
         "customdata": [
          [
           32,
           22,
           11,
           5,
           "Hemoglobin (Fragment)",
           "Hemoglobin",
           "Biomphalaria glabrata",
           "Biomphalaria"
          ],
          [
           32,
           22,
           11,
           5,
           "Uncharacterized protein",
           "Uncharacterized",
           "Biomphalaria glabrata",
           "Biomphalaria"
          ],
          [
           32,
           22,
           11,
           5,
           "Uncharacterized protein",
           "Uncharacterized",
           "Biomphalaria glabrata",
           "Biomphalaria"
          ],
          [
           32,
           22,
           11,
           5,
           "Haemoglobin type 1",
           "Hemoglobin",
           "Biomphalaria glabrata",
           "Biomphalaria"
          ],
          [
           32,
           22,
           11,
           5,
           "Uncharacterized protein",
           "Uncharacterized",
           "Biomphalaria glabrata",
           "Biomphalaria"
          ]
         ],
         "hovertemplate": "<b>%{hovertext}</b><br><br>tree3=%{customdata[2]}<br>pm1=%{x}<br>pm2=%{y}<br>tree1=%{customdata[0]}<br>tree2=%{customdata[1]}<br>tree4=%{customdata[3]}<br>full_name=%{customdata[4]}<br>short_name=%{customdata[5]}<br>full_species=%{customdata[6]}<br>short_species=%{customdata[7]}<extra></extra>",
         "hovertext": [
          11,
          11,
          11,
          11,
          11
         ],
         "legendgroup": "11",
         "marker": {
          "color": "#00cc96",
          "symbol": "circle"
         },
         "mode": "markers",
         "name": "11",
         "orientation": "v",
         "showlegend": true,
         "textposition": "top right",
         "type": "scatter",
         "x": [
          0.41883287,
          0.44269386,
          0.41105866,
          0.43549973,
          0.4017918
         ],
         "xaxis": "x",
         "y": [
          -0.32097188,
          -0.33759063,
          -0.36625886,
          -0.31290734,
          -0.3428267
         ],
         "yaxis": "y"
        },
        {
         "customdata": [
          [
           -1,
           25,
           15,
           8,
           "Metalloendopeptidase",
           "Metalloendopeptidase",
           "Globodera pallida",
           "Globodera"
          ],
          [
           -1,
           25,
           15,
           8,
           "Uncharacterized protein",
           "Uncharacterized",
           "Strongyloides stercoralis",
           "Strongyloides"
          ]
         ],
         "hovertemplate": "<b>%{hovertext}</b><br><br>tree3=%{customdata[2]}<br>pm1=%{x}<br>pm2=%{y}<br>tree1=%{customdata[0]}<br>tree2=%{customdata[1]}<br>tree4=%{customdata[3]}<br>full_name=%{customdata[4]}<br>short_name=%{customdata[5]}<br>full_species=%{customdata[6]}<br>short_species=%{customdata[7]}<extra></extra>",
         "hovertext": [
          15,
          15
         ],
         "legendgroup": "15",
         "marker": {
          "color": "#ab63fa",
          "symbol": "circle"
         },
         "mode": "markers",
         "name": "15",
         "orientation": "v",
         "showlegend": true,
         "textposition": "top right",
         "type": "scatter",
         "x": [
          -0.40321574,
          -0.4880097
         ],
         "xaxis": "x",
         "y": [
          0.36527812,
          0.40595424
         ],
         "yaxis": "y"
        }
       ],
       "layout": {
        "height": 800,
        "legend": {
         "title": {
          "text": "tree3"
         },
         "tracegroupgap": 0
        },
        "margin": {
         "t": 60
        },
        "plot_bgcolor": "rgba(0, 0, 0, 0)",
        "shapes": [
         {
          "line": {
           "color": "Black"
          },
          "type": "circle",
          "x0": -1,
          "x1": 1,
          "xref": "x",
          "y0": -1,
          "y1": 1,
          "yref": "y"
         }
        ],
        "template": {
         "data": {
          "bar": [
           {
            "error_x": {
             "color": "#2a3f5f"
            },
            "error_y": {
             "color": "#2a3f5f"
            },
            "marker": {
             "line": {
              "color": "#E5ECF6",
              "width": 0.5
             },
             "pattern": {
              "fillmode": "overlay",
              "size": 10,
              "solidity": 0.2
             }
            },
            "type": "bar"
           }
          ],
          "barpolar": [
           {
            "marker": {
             "line": {
              "color": "#E5ECF6",
              "width": 0.5
             },
             "pattern": {
              "fillmode": "overlay",
              "size": 10,
              "solidity": 0.2
             }
            },
            "type": "barpolar"
           }
          ],
          "carpet": [
           {
            "aaxis": {
             "endlinecolor": "#2a3f5f",
             "gridcolor": "white",
             "linecolor": "white",
             "minorgridcolor": "white",
             "startlinecolor": "#2a3f5f"
            },
            "baxis": {
             "endlinecolor": "#2a3f5f",
             "gridcolor": "white",
             "linecolor": "white",
             "minorgridcolor": "white",
             "startlinecolor": "#2a3f5f"
            },
            "type": "carpet"
           }
          ],
          "choropleth": [
           {
            "colorbar": {
             "outlinewidth": 0,
             "ticks": ""
            },
            "type": "choropleth"
           }
          ],
          "contour": [
           {
            "colorbar": {
             "outlinewidth": 0,
             "ticks": ""
            },
            "colorscale": [
             [
              0,
              "#0d0887"
             ],
             [
              0.1111111111111111,
              "#46039f"
             ],
             [
              0.2222222222222222,
              "#7201a8"
             ],
             [
              0.3333333333333333,
              "#9c179e"
             ],
             [
              0.4444444444444444,
              "#bd3786"
             ],
             [
              0.5555555555555556,
              "#d8576b"
             ],
             [
              0.6666666666666666,
              "#ed7953"
             ],
             [
              0.7777777777777778,
              "#fb9f3a"
             ],
             [
              0.8888888888888888,
              "#fdca26"
             ],
             [
              1,
              "#f0f921"
             ]
            ],
            "type": "contour"
           }
          ],
          "contourcarpet": [
           {
            "colorbar": {
             "outlinewidth": 0,
             "ticks": ""
            },
            "type": "contourcarpet"
           }
          ],
          "heatmap": [
           {
            "colorbar": {
             "outlinewidth": 0,
             "ticks": ""
            },
            "colorscale": [
             [
              0,
              "#0d0887"
             ],
             [
              0.1111111111111111,
              "#46039f"
             ],
             [
              0.2222222222222222,
              "#7201a8"
             ],
             [
              0.3333333333333333,
              "#9c179e"
             ],
             [
              0.4444444444444444,
              "#bd3786"
             ],
             [
              0.5555555555555556,
              "#d8576b"
             ],
             [
              0.6666666666666666,
              "#ed7953"
             ],
             [
              0.7777777777777778,
              "#fb9f3a"
             ],
             [
              0.8888888888888888,
              "#fdca26"
             ],
             [
              1,
              "#f0f921"
             ]
            ],
            "type": "heatmap"
           }
          ],
          "heatmapgl": [
           {
            "colorbar": {
             "outlinewidth": 0,
             "ticks": ""
            },
            "colorscale": [
             [
              0,
              "#0d0887"
             ],
             [
              0.1111111111111111,
              "#46039f"
             ],
             [
              0.2222222222222222,
              "#7201a8"
             ],
             [
              0.3333333333333333,
              "#9c179e"
             ],
             [
              0.4444444444444444,
              "#bd3786"
             ],
             [
              0.5555555555555556,
              "#d8576b"
             ],
             [
              0.6666666666666666,
              "#ed7953"
             ],
             [
              0.7777777777777778,
              "#fb9f3a"
             ],
             [
              0.8888888888888888,
              "#fdca26"
             ],
             [
              1,
              "#f0f921"
             ]
            ],
            "type": "heatmapgl"
           }
          ],
          "histogram": [
           {
            "marker": {
             "pattern": {
              "fillmode": "overlay",
              "size": 10,
              "solidity": 0.2
             }
            },
            "type": "histogram"
           }
          ],
          "histogram2d": [
           {
            "colorbar": {
             "outlinewidth": 0,
             "ticks": ""
            },
            "colorscale": [
             [
              0,
              "#0d0887"
             ],
             [
              0.1111111111111111,
              "#46039f"
             ],
             [
              0.2222222222222222,
              "#7201a8"
             ],
             [
              0.3333333333333333,
              "#9c179e"
             ],
             [
              0.4444444444444444,
              "#bd3786"
             ],
             [
              0.5555555555555556,
              "#d8576b"
             ],
             [
              0.6666666666666666,
              "#ed7953"
             ],
             [
              0.7777777777777778,
              "#fb9f3a"
             ],
             [
              0.8888888888888888,
              "#fdca26"
             ],
             [
              1,
              "#f0f921"
             ]
            ],
            "type": "histogram2d"
           }
          ],
          "histogram2dcontour": [
           {
            "colorbar": {
             "outlinewidth": 0,
             "ticks": ""
            },
            "colorscale": [
             [
              0,
              "#0d0887"
             ],
             [
              0.1111111111111111,
              "#46039f"
             ],
             [
              0.2222222222222222,
              "#7201a8"
             ],
             [
              0.3333333333333333,
              "#9c179e"
             ],
             [
              0.4444444444444444,
              "#bd3786"
             ],
             [
              0.5555555555555556,
              "#d8576b"
             ],
             [
              0.6666666666666666,
              "#ed7953"
             ],
             [
              0.7777777777777778,
              "#fb9f3a"
             ],
             [
              0.8888888888888888,
              "#fdca26"
             ],
             [
              1,
              "#f0f921"
             ]
            ],
            "type": "histogram2dcontour"
           }
          ],
          "mesh3d": [
           {
            "colorbar": {
             "outlinewidth": 0,
             "ticks": ""
            },
            "type": "mesh3d"
           }
          ],
          "parcoords": [
           {
            "line": {
             "colorbar": {
              "outlinewidth": 0,
              "ticks": ""
             }
            },
            "type": "parcoords"
           }
          ],
          "pie": [
           {
            "automargin": true,
            "type": "pie"
           }
          ],
          "scatter": [
           {
            "marker": {
             "colorbar": {
              "outlinewidth": 0,
              "ticks": ""
             }
            },
            "type": "scatter"
           }
          ],
          "scatter3d": [
           {
            "line": {
             "colorbar": {
              "outlinewidth": 0,
              "ticks": ""
             }
            },
            "marker": {
             "colorbar": {
              "outlinewidth": 0,
              "ticks": ""
             }
            },
            "type": "scatter3d"
           }
          ],
          "scattercarpet": [
           {
            "marker": {
             "colorbar": {
              "outlinewidth": 0,
              "ticks": ""
             }
            },
            "type": "scattercarpet"
           }
          ],
          "scattergeo": [
           {
            "marker": {
             "colorbar": {
              "outlinewidth": 0,
              "ticks": ""
             }
            },
            "type": "scattergeo"
           }
          ],
          "scattergl": [
           {
            "marker": {
             "colorbar": {
              "outlinewidth": 0,
              "ticks": ""
             }
            },
            "type": "scattergl"
           }
          ],
          "scattermapbox": [
           {
            "marker": {
             "colorbar": {
              "outlinewidth": 0,
              "ticks": ""
             }
            },
            "type": "scattermapbox"
           }
          ],
          "scatterpolar": [
           {
            "marker": {
             "colorbar": {
              "outlinewidth": 0,
              "ticks": ""
             }
            },
            "type": "scatterpolar"
           }
          ],
          "scatterpolargl": [
           {
            "marker": {
             "colorbar": {
              "outlinewidth": 0,
              "ticks": ""
             }
            },
            "type": "scatterpolargl"
           }
          ],
          "scatterternary": [
           {
            "marker": {
             "colorbar": {
              "outlinewidth": 0,
              "ticks": ""
             }
            },
            "type": "scatterternary"
           }
          ],
          "surface": [
           {
            "colorbar": {
             "outlinewidth": 0,
             "ticks": ""
            },
            "colorscale": [
             [
              0,
              "#0d0887"
             ],
             [
              0.1111111111111111,
              "#46039f"
             ],
             [
              0.2222222222222222,
              "#7201a8"
             ],
             [
              0.3333333333333333,
              "#9c179e"
             ],
             [
              0.4444444444444444,
              "#bd3786"
             ],
             [
              0.5555555555555556,
              "#d8576b"
             ],
             [
              0.6666666666666666,
              "#ed7953"
             ],
             [
              0.7777777777777778,
              "#fb9f3a"
             ],
             [
              0.8888888888888888,
              "#fdca26"
             ],
             [
              1,
              "#f0f921"
             ]
            ],
            "type": "surface"
           }
          ],
          "table": [
           {
            "cells": {
             "fill": {
              "color": "#EBF0F8"
             },
             "line": {
              "color": "white"
             }
            },
            "header": {
             "fill": {
              "color": "#C8D4E3"
             },
             "line": {
              "color": "white"
             }
            },
            "type": "table"
           }
          ]
         },
         "layout": {
          "annotationdefaults": {
           "arrowcolor": "#2a3f5f",
           "arrowhead": 0,
           "arrowwidth": 1
          },
          "autotypenumbers": "strict",
          "coloraxis": {
           "colorbar": {
            "outlinewidth": 0,
            "ticks": ""
           }
          },
          "colorscale": {
           "diverging": [
            [
             0,
             "#8e0152"
            ],
            [
             0.1,
             "#c51b7d"
            ],
            [
             0.2,
             "#de77ae"
            ],
            [
             0.3,
             "#f1b6da"
            ],
            [
             0.4,
             "#fde0ef"
            ],
            [
             0.5,
             "#f7f7f7"
            ],
            [
             0.6,
             "#e6f5d0"
            ],
            [
             0.7,
             "#b8e186"
            ],
            [
             0.8,
             "#7fbc41"
            ],
            [
             0.9,
             "#4d9221"
            ],
            [
             1,
             "#276419"
            ]
           ],
           "sequential": [
            [
             0,
             "#0d0887"
            ],
            [
             0.1111111111111111,
             "#46039f"
            ],
            [
             0.2222222222222222,
             "#7201a8"
            ],
            [
             0.3333333333333333,
             "#9c179e"
            ],
            [
             0.4444444444444444,
             "#bd3786"
            ],
            [
             0.5555555555555556,
             "#d8576b"
            ],
            [
             0.6666666666666666,
             "#ed7953"
            ],
            [
             0.7777777777777778,
             "#fb9f3a"
            ],
            [
             0.8888888888888888,
             "#fdca26"
            ],
            [
             1,
             "#f0f921"
            ]
           ],
           "sequentialminus": [
            [
             0,
             "#0d0887"
            ],
            [
             0.1111111111111111,
             "#46039f"
            ],
            [
             0.2222222222222222,
             "#7201a8"
            ],
            [
             0.3333333333333333,
             "#9c179e"
            ],
            [
             0.4444444444444444,
             "#bd3786"
            ],
            [
             0.5555555555555556,
             "#d8576b"
            ],
            [
             0.6666666666666666,
             "#ed7953"
            ],
            [
             0.7777777777777778,
             "#fb9f3a"
            ],
            [
             0.8888888888888888,
             "#fdca26"
            ],
            [
             1,
             "#f0f921"
            ]
           ]
          },
          "colorway": [
           "#636efa",
           "#EF553B",
           "#00cc96",
           "#ab63fa",
           "#FFA15A",
           "#19d3f3",
           "#FF6692",
           "#B6E880",
           "#FF97FF",
           "#FECB52"
          ],
          "font": {
           "color": "#2a3f5f"
          },
          "geo": {
           "bgcolor": "white",
           "lakecolor": "white",
           "landcolor": "#E5ECF6",
           "showlakes": true,
           "showland": true,
           "subunitcolor": "white"
          },
          "hoverlabel": {
           "align": "left"
          },
          "hovermode": "closest",
          "mapbox": {
           "style": "light"
          },
          "paper_bgcolor": "white",
          "plot_bgcolor": "#E5ECF6",
          "polar": {
           "angularaxis": {
            "gridcolor": "white",
            "linecolor": "white",
            "ticks": ""
           },
           "bgcolor": "#E5ECF6",
           "radialaxis": {
            "gridcolor": "white",
            "linecolor": "white",
            "ticks": ""
           }
          },
          "scene": {
           "xaxis": {
            "backgroundcolor": "#E5ECF6",
            "gridcolor": "white",
            "gridwidth": 2,
            "linecolor": "white",
            "showbackground": true,
            "ticks": "",
            "zerolinecolor": "white"
           },
           "yaxis": {
            "backgroundcolor": "#E5ECF6",
            "gridcolor": "white",
            "gridwidth": 2,
            "linecolor": "white",
            "showbackground": true,
            "ticks": "",
            "zerolinecolor": "white"
           },
           "zaxis": {
            "backgroundcolor": "#E5ECF6",
            "gridcolor": "white",
            "gridwidth": 2,
            "linecolor": "white",
            "showbackground": true,
            "ticks": "",
            "zerolinecolor": "white"
           }
          },
          "shapedefaults": {
           "line": {
            "color": "#2a3f5f"
           }
          },
          "ternary": {
           "aaxis": {
            "gridcolor": "white",
            "linecolor": "white",
            "ticks": ""
           },
           "baxis": {
            "gridcolor": "white",
            "linecolor": "white",
            "ticks": ""
           },
           "bgcolor": "#E5ECF6",
           "caxis": {
            "gridcolor": "white",
            "linecolor": "white",
            "ticks": ""
           }
          },
          "title": {
           "x": 0.05
          },
          "xaxis": {
           "automargin": true,
           "gridcolor": "white",
           "linecolor": "white",
           "ticks": "",
           "title": {
            "standoff": 15
           },
           "zerolinecolor": "white",
           "zerolinewidth": 2
          },
          "yaxis": {
           "automargin": true,
           "gridcolor": "white",
           "linecolor": "white",
           "ticks": "",
           "title": {
            "standoff": 15
           },
           "zerolinecolor": "white",
           "zerolinewidth": 2
          }
         }
        },
        "xaxis": {
         "anchor": "y",
         "constrain": "domain",
         "domain": [
          0,
          1
         ],
         "range": [
          -1.1,
          1.1
         ],
         "title": {
          "text": "pm1"
         }
        },
        "yaxis": {
         "anchor": "x",
         "domain": [
          0,
          1
         ],
         "scaleanchor": "x",
         "scaleratio": 1,
         "title": {
          "text": "pm2"
         }
        },
        "yaxis2": {
         "layer": "below traces",
         "matches": "y",
         "overlaying": "y"
        }
       }
      },
      "text/html": [
       "<div>                            <div id=\"09e4ed87-9b9b-4463-8434-dd4f03811544\" class=\"plotly-graph-div\" style=\"height:800px; width:100%;\"></div>            <script type=\"text/javascript\">                require([\"plotly\"], function(Plotly) {                    window.PLOTLYENV=window.PLOTLYENV || {};                                    if (document.getElementById(\"09e4ed87-9b9b-4463-8434-dd4f03811544\")) {                    Plotly.newPlot(                        \"09e4ed87-9b9b-4463-8434-dd4f03811544\",                        [{\"customdata\":[[\"root\",\"root\",\"root\",\"root\",\"root\",\"root\",\"root\",\"root\"]],\"hovertemplate\":\"<b>%{hovertext}</b><br><br>tree3=%{customdata[2]}<br>pm1=%{x}<br>pm2=%{y}<br>tree1=%{customdata[0]}<br>tree2=%{customdata[1]}<br>tree4=%{customdata[3]}<br>full_name=%{customdata[4]}<br>short_name=%{customdata[5]}<br>full_species=%{customdata[6]}<br>short_species=%{customdata[7]}<extra></extra>\",\"hovertext\":[\"root\"],\"legendgroup\":\"root\",\"marker\":{\"color\":\"#636efa\",\"symbol\":\"circle\"},\"mode\":\"markers\",\"name\":\"root\",\"orientation\":\"v\",\"showlegend\":true,\"textposition\":\"top right\",\"type\":\"scatter\",\"x\":[null],\"xaxis\":\"x\",\"y\":[null],\"yaxis\":\"y\"},{\"customdata\":[[5,3,3,2,\"Globin C, coelomic\",\"Globin\",\"Caudina arenicola\",\"Caudina \"],[4,2,3,2,\"Hemoglobin\",\"Hemoglobin\",\"Hemipholis cordifera\",\"Hemipholis\"],[4,2,3,2,\"Hemoglobin\",\"Hemoglobin\",\"Ophiactis simplex\",\"Ophiactis\"],[4,2,3,2,\"Hemoglobin\",\"Hemoglobin\",\"Ophiactis simplex\",\"Ophiactis\"],[-1,-1,3,2,\"Extracellular globin 1\",\"Extracellular\",\"Metaphire sieboldi\",\"Metaphire\"]],\"hovertemplate\":\"<b>%{hovertext}</b><br><br>tree3=%{customdata[2]}<br>pm1=%{x}<br>pm2=%{y}<br>tree1=%{customdata[0]}<br>tree2=%{customdata[1]}<br>tree4=%{customdata[3]}<br>full_name=%{customdata[4]}<br>short_name=%{customdata[5]}<br>full_species=%{customdata[6]}<br>short_species=%{customdata[7]}<extra></extra>\",\"hovertext\":[3,3,3,3,3],\"legendgroup\":\"3\",\"marker\":{\"color\":\"#EF553B\",\"symbol\":\"circle\"},\"mode\":\"markers\",\"name\":\"3\",\"orientation\":\"v\",\"showlegend\":true,\"textposition\":\"top right\",\"type\":\"scatter\",\"x\":[-0.12515226,0.42890972,0.42928717,0.5061735,0.7349972],\"xaxis\":\"x\",\"y\":[0.00096565654,0.12766126,0.22118825,0.18260443,0.06666039],\"yaxis\":\"y\"},{\"customdata\":[[-1,28,18,10,\"Globin (Fragment)\",\"Globin\",\"Stegodyphus mimosarum\",\"Stegodyphus\"],[-1,27,18,10,\"Uncharacterized protein\",\"Uncharacterized\",\"Strigamia maritima\",\"Strigamia\"],[37,27,18,10,\"Uncharacterized protein\",\"Uncharacterized\",\"Scylla olivacea\",\"Scylla\"],[37,27,18,10,\"Uncharacterized protein\",\"Uncharacterized\",\"Scylla olivacea\",\"Scylla\"],[37,27,18,10,\"Hemoglobin\",\"Hemoglobin\",\"Carcinus maenas\",\"Carcinus\"],[-1,29,18,10,\"Globin, putative\",\"Globin,\",\"Ixodes scapularis\",\"Ixodes\"],[40,28,18,10,\"Globin\",\"Globin\",\"Zootermopsis nevadensis\",\"Zootermopsis\"],[45,33,18,10,\"Uncharacterized protein\",\"Uncharacterized\",\"Arion vulgaris\",\"Arion\"],[45,33,18,10,\"Uncharacterized protein\",\"Uncharacterized\",\"Arion vulgaris\",\"Arion\"],[40,28,18,10,\"Globin like protein (Fragment)\",\"Globin\",\"Coptotermes formosanus\",\"Coptotermes\"],[-1,28,18,10,\"Uncharacterized protein\",\"Uncharacterized\",\"Oryctes borbonicus\",\"Oryctes\"],[-1,27,18,10,\"Uncharacterized protein\",\"Uncharacterized\",\"Tetranychus urticae\",\"Tetranychus\"],[39,28,18,10,\"Globin 1\",\"Globin\",\"Apis mellifera\",\"Apis\"],[39,28,18,10,\"Putative uncharacterized protein (Fragment)\",\"Putative\",\"Solenopsis invicta\",\"Solenopsis\"],[38,28,18,10,\"Globin\",\"Globin\",\"Habropoda laboriosa\",\"Habropoda\"],[38,28,18,10,\"Cygb2_0 protein\",\"Cygb2_0\",\"Fopius arisanus\",\"Fopius\"],[39,28,18,10,\"Cytoglobin 2\",\"Cytoglobin\",\"Cerapachys biroi\",\"Cerapachys\"],[39,28,18,10,\"Globin\",\"Globin\",\"Camponotus floridanus\",\"Camponotus\"],[38,28,18,10,\"Uncharacterized protein\",\"Uncharacterized\",\"Nasonia vitripennis\",\"Nasonia\"],[39,28,18,10,\"Cytoglobin\",\"Cytoglobin\",\"Acromyrmex echinatior\",\"Acromyrmex\"],[-1,28,18,10,\"Globin like Protein\",\"Globin\",\"Tribolium castaneum\",\"Tribolium\"],[-1,34,18,10,\"Uncharacterized protein\",\"Uncharacterized\",\"Capitella teleta\",\"Capitella\"],[-1,34,18,10,\"Cytoglobin 1 like protein\",\"Cytoglobin\",\"Sarcoptes scabiei\",\"Sarcoptes\"],[-1,29,18,10,\"Uncharacterized protein (Fragment)\",\"Uncharacterized\",\"Ixodes ricinus\",\"Ixodes\"],[37,27,18,10,\"Cytoglobin 2 isoform CYGBi2\",\"Cytoglobin\",\"Cherax destructor\",\"Cherax\"],[36,26,18,10,\"Putative uncharacterized protein\",\"Putative\",\"Daphnia pulex\",\"Daphnia\"],[-1,-1,18,10,\"Globin\",\"Globin\",\"Crassostrea gigas\",\"Crassostrea\"],[-1,29,18,10,\"Beta chain of the tetrameric hemoglobin, putative\",\"Hemoglobin\",\"Ixodes scapularis\",\"Ixodes\"],[39,28,18,10,\"Globin\",\"Globin\",\"Harpegnathos saltator\",\"Harpegnathos\"],[40,28,18,10,\"Globin\",\"Globin\",\"Zootermopsis nevadensis\",\"Zootermopsis\"],[-1,-1,18,10,\"Globin\",\"Globin\",\"Daphnia magna\",\"Daphnia\"],[36,26,18,10,\"Cytoglobin 2\",\"Cytoglobin\",\"Daphnia magna\",\"Daphnia\"],[-1,-1,18,10,\"Globin like protein 1\",\"Globin\",\"Sarcoptes scabiei\",\"Sarcoptes\"]],\"hovertemplate\":\"<b>%{hovertext}</b><br><br>tree3=%{customdata[2]}<br>pm1=%{x}<br>pm2=%{y}<br>tree1=%{customdata[0]}<br>tree2=%{customdata[1]}<br>tree4=%{customdata[3]}<br>full_name=%{customdata[4]}<br>short_name=%{customdata[5]}<br>full_species=%{customdata[6]}<br>short_species=%{customdata[7]}<extra></extra>\",\"hovertext\":[18,18,18,18,18,18,18,18,18,18,18,18,18,18,18,18,18,18,18,18,18,18,18,18,18,18,18,18,18,18,18,18,18],\"legendgroup\":\"18\",\"marker\":{\"color\":\"#00cc96\",\"symbol\":\"circle\"},\"mode\":\"markers\",\"name\":\"18\",\"orientation\":\"v\",\"showlegend\":true,\"textposition\":\"top right\",\"type\":\"scatter\",\"x\":[0.15212773,0.09354403,0.124773055,0.10953781,0.14810023,0.19465268,0.06297551,0.04383493,0.059165645,0.21983033,0.18646452,0.14643128,0.35295278,0.3842849,0.37449345,0.316378,0.37528974,0.3716732,0.34889358,0.38234067,0.23090218,0.14139313,0.113217264,0.17506786,0.13306619,0.2479315,0.1164809,0.2472127,0.3844328,0.18951887,0.36896688,0.26329425,0.17920914],\"xaxis\":\"x\",\"y\":[0.016530996,0.07872186,0.20713438,0.16567898,0.21751797,0.116035916,0.2400452,0.12917286,0.12299765,0.029811515,0.063790046,0.12738135,-0.060682572,-0.058722325,-0.07732555,-0.06823601,-0.051246133,-0.03369763,-0.07230041,-0.059791375,-0.053036906,0.03767089,0.01854521,0.1300673,0.19719851,0.17859562,0.11555045,0.08425725,-0.03860664,0.024795543,-0.017712027,0.13040528,0.03970868],\"yaxis\":\"y\"},{\"customdata\":[[-1,40,22,11,\"ACYPI007228 protein\",\"ACYPI007228\",\"Acyrthosiphon pisum\",\"Acyrthosiphon\"],[10,38,22,9,\"Hemoglobin T1 polymer\",\"Hemoglobin\",\"Artemia salina\",\"Artemia\"],[10,38,22,9,\"Hemoglobin P polymer\",\"Hemoglobin\",\"Parartemia zietziana\",\"Parartemia\"],[11,38,22,9,\"Hemoglobin T1 polymer\",\"Hemoglobin\",\"Artemia salina\",\"Artemia\"],[11,38,22,9,\"Hemoglobin P polymer\",\"Hemoglobin\",\"Parartemia zietziana\",\"Parartemia\"],[11,38,22,9,\"Hemoglobin C1 polymer\",\"Hemoglobin\",\"Artemia salina\",\"Artemia\"],[-1,38,22,9,\"Hemoglobin P polymer\",\"Hemoglobin\",\"Parartemia zietziana\",\"Parartemia\"],[-1,40,22,11,\"Uncharacterized protein\",\"Uncharacterized\",\"Acyrthosiphon pisum\",\"Acyrthosiphon\"]],\"hovertemplate\":\"<b>%{hovertext}</b><br><br>tree3=%{customdata[2]}<br>pm1=%{x}<br>pm2=%{y}<br>tree1=%{customdata[0]}<br>tree2=%{customdata[1]}<br>tree4=%{customdata[3]}<br>full_name=%{customdata[4]}<br>short_name=%{customdata[5]}<br>full_species=%{customdata[6]}<br>short_species=%{customdata[7]}<extra></extra>\",\"hovertext\":[22,22,22,22,22,22,22,22],\"legendgroup\":\"22\",\"marker\":{\"color\":\"#ab63fa\",\"symbol\":\"circle\"},\"mode\":\"markers\",\"name\":\"22\",\"orientation\":\"v\",\"showlegend\":true,\"textposition\":\"top right\",\"type\":\"scatter\",\"x\":[0.10441201,0.31807348,0.3225559,0.31007144,0.31688973,0.31721044,0.34169766,0.1351395],\"xaxis\":\"x\",\"y\":[-0.05943566,0.3042121,0.3045698,0.28856248,0.2946487,0.29516846,0.29437733,-0.06645439],\"yaxis\":\"y\"},{\"customdata\":[[13,17,5,7,\"Uncharacterized protein\",\"Uncharacterized\",\"Capitella teleta\",\"Capitella\"],[13,17,5,7,\"Uncharacterized protein\",\"Uncharacterized\",\"Capitella teleta\",\"Capitella\"],[-1,17,5,7,\"Uncharacterized protein (Fragment)\",\"Uncharacterized\",\"Capitella teleta\",\"Capitella\"],[-1,17,5,7,\"Uncharacterized protein\",\"Uncharacterized\",\"Capitella teleta\",\"Capitella\"]],\"hovertemplate\":\"<b>%{hovertext}</b><br><br>tree3=%{customdata[2]}<br>pm1=%{x}<br>pm2=%{y}<br>tree1=%{customdata[0]}<br>tree2=%{customdata[1]}<br>tree4=%{customdata[3]}<br>full_name=%{customdata[4]}<br>short_name=%{customdata[5]}<br>full_species=%{customdata[6]}<br>short_species=%{customdata[7]}<extra></extra>\",\"hovertext\":[5,5,5,5],\"legendgroup\":\"5\",\"marker\":{\"color\":\"#FFA15A\",\"symbol\":\"circle\"},\"mode\":\"markers\",\"name\":\"5\",\"orientation\":\"v\",\"showlegend\":true,\"textposition\":\"top right\",\"type\":\"scatter\",\"x\":[-0.42171475,-0.40486583,-0.3095674,-0.36217144],\"xaxis\":\"x\",\"y\":[-0.5048696,-0.46546018,-0.52996624,-0.49493772],\"yaxis\":\"y\"},{\"customdata\":[[-1,-1,4,7,\"Uncharacterized protein\",\"Uncharacterized\",\"Capitella teleta\",\"Capitella\"],[-1,7,4,7,\"Cytoglobin 2\",\"Cytoglobin\",\"Crassostrea gigas\",\"Crassostrea\"],[-1,7,4,7,\"Uncharacterized protein\",\"Uncharacterized\",\"Lottia gigantea\",\"Lottia\"],[12,6,4,7,\"Protein CBR GLB 7\",\"Protein\",\"Caenorhabditis briggsae\",\"Caenorhabditis\"],[12,6,4,7,\"Uncharacterized protein\",\"Uncharacterized\",\"Haemonchus placei\",\"Haemonchus\"],[-1,6,4,7,\"Cre glb 30 protein\",\"Cre\",\"Ascaris suum\",\"Ascaris\"],[-1,-1,4,7,\"Globin like protein 26\",\"Globin\",\"Trichinella pseudospiralis\",\"Trichinella\"],[-1,6,4,7,\"Uncharacterized protein\",\"Uncharacterized\",\"Ancylostoma ceylanicum\",\"Ancylostoma\"]],\"hovertemplate\":\"<b>%{hovertext}</b><br><br>tree3=%{customdata[2]}<br>pm1=%{x}<br>pm2=%{y}<br>tree1=%{customdata[0]}<br>tree2=%{customdata[1]}<br>tree4=%{customdata[3]}<br>full_name=%{customdata[4]}<br>short_name=%{customdata[5]}<br>full_species=%{customdata[6]}<br>short_species=%{customdata[7]}<extra></extra>\",\"hovertext\":[4,4,4,4,4,4,4,4],\"legendgroup\":\"4\",\"marker\":{\"color\":\"#19d3f3\",\"symbol\":\"circle\"},\"mode\":\"markers\",\"name\":\"4\",\"orientation\":\"v\",\"showlegend\":true,\"textposition\":\"top right\",\"type\":\"scatter\",\"x\":[-0.4130535,-0.368385,-0.38914698,-0.47656712,-0.5183755,-0.51192605,-0.4772543,-0.5001287],\"xaxis\":\"x\",\"y\":[-0.5522286,-0.54392725,-0.524438,-0.49000508,-0.4632806,-0.5182552,-0.5409887,-0.4953754],\"yaxis\":\"y\"},{\"customdata\":[[-1,13,8,4,\"Neuroglobin like\",\"Neuroglobin\",\"Scleropages formosus\",\"Scleropages\"],[-1,-1,8,4,\"Predicted protein\",\"Predicted\",\"Nematostella vectensis\",\"Nematostella\"],[22,13,8,4,\"Neuroglobin\",\"Neuroglobin\",\"Oryctolagus cuniculus\",\"Oryctolagus\"],[22,13,8,4,\"Neuroglobin\",\"Neuroglobin\",\"Alligator mississippiensis\",\"Alligator\"],[21,13,8,4,\"Neuroglobin\",\"Neuroglobin\",\"Danio rerio\",\"Danio\"],[22,13,8,4,\"Uncharacterized protein\",\"Uncharacterized\",\"Anolis carolinensis\",\"Anolis\"],[22,13,8,4,\"Uncharacterized protein\",\"Uncharacterized\",\"Lepisosteus oculatus\",\"Lepisosteus\"],[21,13,8,4,\"Neuroglobin 1\",\"Neuroglobin\",\"Salmo salar\",\"Salmo\"],[22,13,8,4,\"Neuroglobin\",\"Neuroglobin\",\"Amazona aestiva\",\"Amazona\"],[21,13,8,4,\"Neuroglobin\",\"Neuroglobin\",\"Chaenocephalus aceratus\",\"Chaenocephalus\"],[22,13,8,4,\"Uncharacterized protein\",\"Uncharacterized\",\"Ornithorhynchus anatinus\",\"Ornithorhynchus\"],[22,13,8,4,\"Uncharacterized protein\",\"Uncharacterized\",\"Sarcophilus harrisii\",\"Sarcophilus\"],[22,13,8,4,\"Uncharacterized protein\",\"Uncharacterized\",\"Anas platyrhynchos\",\"Anas\"],[22,13,8,4,\"Neuroglobin\",\"Neuroglobin\",\"Gallus gallus\",\"Gallus\"],[21,13,8,4,\"Neuroglobin (Fragment)\",\"Neuroglobin\",\"Fundulus heteroclitus\",\"Fundulus\"]],\"hovertemplate\":\"<b>%{hovertext}</b><br><br>tree3=%{customdata[2]}<br>pm1=%{x}<br>pm2=%{y}<br>tree1=%{customdata[0]}<br>tree2=%{customdata[1]}<br>tree4=%{customdata[3]}<br>full_name=%{customdata[4]}<br>short_name=%{customdata[5]}<br>full_species=%{customdata[6]}<br>short_species=%{customdata[7]}<extra></extra>\",\"hovertext\":[8,8,8,8,8,8,8,8,8,8,8,8,8,8,8],\"legendgroup\":\"8\",\"marker\":{\"color\":\"#FF6692\",\"symbol\":\"circle\"},\"mode\":\"markers\",\"name\":\"8\",\"orientation\":\"v\",\"showlegend\":true,\"textposition\":\"top right\",\"type\":\"scatter\",\"x\":[-0.61408,-0.5803626,-0.29779994,-0.29707277,-0.6410151,-0.29468665,-0.6529532,-0.66204464,-0.29927698,-0.6541994,-0.29918158,-0.29618686,-0.29983762,-0.2998245,-0.6728223],\"xaxis\":\"x\",\"y\":[-0.08932629,0.06367661,-0.20764828,-0.20860088,-0.10738226,-0.2087672,-0.06130251,-0.0911137,-0.20602557,-0.13432747,-0.20912981,-0.20857923,-0.208911,-0.20890158,-0.10806501],\"yaxis\":\"y\"},{\"customdata\":[[-1,23,14,6,\"Globin\",\"Globin\",\"Branchiostoma floridae\",\"Branchiostoma\"],[34,23,14,6,\"Globin\",\"Globin\",\"Branchiostoma floridae\",\"Branchiostoma\"],[33,24,14,6,\"Uncharacterized protein\",\"Uncharacterized\",\"Ciona savignyi\",\"Ciona\"],[33,24,14,6,\"Uncharacterized protein\",\"Uncharacterized\",\"Ciona intestinalis\",\"Ciona\"],[33,24,14,6,\"Globin\",\"Globin\",\"Ciona intestinalis\",\"Ciona\"],[33,24,14,6,\"Uncharacterized protein\",\"Uncharacterized\",\"Ciona savignyi\",\"Ciona\"],[35,24,14,6,\"Uncharacterized protein\",\"Uncharacterized\",\"Ciona savignyi\",\"Ciona\"],[35,24,14,6,\"Globin\",\"Globin\",\"Ciona intestinalis\",\"Ciona\"],[34,23,14,6,\"Putative uncharacterized protein\",\"Putative\",\"Branchiostoma floridae\",\"Branchiostoma\"],[34,23,14,6,\"Putative uncharacterized protein\",\"Putative\",\"Branchiostoma floridae\",\"Branchiostoma\"],[-1,-1,14,6,\"Neuroglobin like protein\",\"Neuroglobin\",\"Saccoglossus kowalevskii\",\"Saccoglossus\"],[-1,24,14,6,\"Globin\",\"Globin\",\"Ciona intestinalis\",\"Ciona\"]],\"hovertemplate\":\"<b>%{hovertext}</b><br><br>tree3=%{customdata[2]}<br>pm1=%{x}<br>pm2=%{y}<br>tree1=%{customdata[0]}<br>tree2=%{customdata[1]}<br>tree4=%{customdata[3]}<br>full_name=%{customdata[4]}<br>short_name=%{customdata[5]}<br>full_species=%{customdata[6]}<br>short_species=%{customdata[7]}<extra></extra>\",\"hovertext\":[14,14,14,14,14,14,14,14,14,14,14,14],\"legendgroup\":\"14\",\"marker\":{\"color\":\"#B6E880\",\"symbol\":\"circle\"},\"mode\":\"markers\",\"name\":\"14\",\"orientation\":\"v\",\"showlegend\":true,\"textposition\":\"top right\",\"type\":\"scatter\",\"x\":[-0.111956775,-0.10245921,-0.06869233,-0.08722286,-0.10088016,-0.09376236,-0.12153643,-0.09041371,-0.09965186,-0.106236994,0.20121613,-0.060932375],\"xaxis\":\"x\",\"y\":[0.36180827,0.31400445,0.7358185,0.7362586,0.7495546,0.7674957,0.73356014,0.7023683,0.30634817,0.30479932,0.24777265,0.76290447],\"yaxis\":\"y\"},{\"customdata\":[[-1,39,20,10,\"Uncharacterized protein\",\"Uncharacterized\",\"Strongylocentrotus purpuratus\",\"Strongylocentrotus\"],[-1,39,20,7,\"Putative uncharacterized protein\",\"Putative\",\"Branchiostoma floridae\",\"Branchiostoma\"],[-1,-1,20,7,\"Putative uncharacterized protein\",\"Putative\",\"Trichoplax adhaerens\",\"Trichoplax\"],[23,16,20,7,\"Uncharacterized protein\",\"Uncharacterized\",\"Arion vulgaris\",\"Arion\"],[-1,16,20,7,\"Uncharacterized protein\",\"Uncharacterized\",\"Lottia gigantea\",\"Lottia\"],[23,16,20,7,\"Cytoglobin 1\",\"Cytoglobin\",\"Crassostrea gigas\",\"Crassostrea\"],[23,16,20,7,\"Uncharacterized protein\",\"Uncharacterized\",\"Lottia gigantea\",\"Lottia\"]],\"hovertemplate\":\"<b>%{hovertext}</b><br><br>tree3=%{customdata[2]}<br>pm1=%{x}<br>pm2=%{y}<br>tree1=%{customdata[0]}<br>tree2=%{customdata[1]}<br>tree4=%{customdata[3]}<br>full_name=%{customdata[4]}<br>short_name=%{customdata[5]}<br>full_species=%{customdata[6]}<br>short_species=%{customdata[7]}<extra></extra>\",\"hovertext\":[20,20,20,20,20,20,20],\"legendgroup\":\"20\",\"marker\":{\"color\":\"#FF97FF\",\"symbol\":\"circle\"},\"mode\":\"markers\",\"name\":\"20\",\"orientation\":\"v\",\"showlegend\":true,\"textposition\":\"top right\",\"type\":\"scatter\",\"x\":[0.08944321,-0.13214056,-0.40198335,-0.34984297,-0.3145471,-0.3900352,-0.37343997],\"xaxis\":\"x\",\"y\":[-0.21959046,-0.36680937,-0.06678084,0.08720007,0.06406822,0.088949114,0.05054763],\"yaxis\":\"y\"},{\"customdata\":[[-1,37,21,10,\"Uncharacterized protein\",\"Uncharacterized\",\"Lutzomyia longipalpis\",\"Lutzomyia\"],[47,36,21,10,\"Putative hemoglobin like flavoprotein (Fragment)\",\"Hemoglobin\",\"Rhodnius neglectus\",\"Rhodnius\"],[47,36,21,10,\"Putative hemoglobin like flavoprotein (Fragment)\",\"Hemoglobin\",\"Triatoma infestans\",\"Triatoma\"],[-1,37,21,10,\"Uncharacterized protein\",\"Uncharacterized\",\"Glossina morsitans\",\"Glossina\"]],\"hovertemplate\":\"<b>%{hovertext}</b><br><br>tree3=%{customdata[2]}<br>pm1=%{x}<br>pm2=%{y}<br>tree1=%{customdata[0]}<br>tree2=%{customdata[1]}<br>tree4=%{customdata[3]}<br>full_name=%{customdata[4]}<br>short_name=%{customdata[5]}<br>full_species=%{customdata[6]}<br>short_species=%{customdata[7]}<extra></extra>\",\"hovertext\":[21,21,21,21],\"legendgroup\":\"21\",\"marker\":{\"color\":\"#FECB52\",\"symbol\":\"circle\"},\"mode\":\"markers\",\"name\":\"21\",\"orientation\":\"v\",\"showlegend\":true,\"textposition\":\"top right\",\"type\":\"scatter\",\"x\":[0.29869556,0.25384212,0.25437817,0.23785102],\"xaxis\":\"x\",\"y\":[-0.1020697,-0.021677086,0.020695847,-0.1703576],\"yaxis\":\"y\"},{\"customdata\":[[-1,-1,9,3,\"Uncharacterized protein\",\"Uncharacterized\",\"Amphimedon queenslandica\",\"Amphimedon\"],[14,10,9,3,\"Uncharacterized protein\",\"Uncharacterized\",\"Strongylocentrotus purpuratus\",\"Strongylocentrotus\"],[-1,-1,9,3,\"Uncharacterized protein\",\"Uncharacterized\",\"Micromonas commoda\",\"Micromonas\"],[14,10,9,3,\"Uncharacterized protein\",\"Uncharacterized\",\"Strongylocentrotus purpuratus\",\"Strongylocentrotus\"],[-1,10,9,3,\"Uncharacterized protein\",\"Uncharacterized\",\"Strongylocentrotus purpuratus\",\"Strongylocentrotus\"],[14,10,9,3,\"Uncharacterized protein\",\"Uncharacterized\",\"Strongylocentrotus purpuratus\",\"Strongylocentrotus\"],[14,10,9,3,\"Uncharacterized protein\",\"Uncharacterized\",\"Strongylocentrotus purpuratus\",\"Strongylocentrotus\"]],\"hovertemplate\":\"<b>%{hovertext}</b><br><br>tree3=%{customdata[2]}<br>pm1=%{x}<br>pm2=%{y}<br>tree1=%{customdata[0]}<br>tree2=%{customdata[1]}<br>tree4=%{customdata[3]}<br>full_name=%{customdata[4]}<br>short_name=%{customdata[5]}<br>full_species=%{customdata[6]}<br>short_species=%{customdata[7]}<extra></extra>\",\"hovertext\":[9,9,9,9,9,9,9],\"legendgroup\":\"9\",\"marker\":{\"color\":\"#636efa\",\"symbol\":\"circle\"},\"mode\":\"markers\",\"name\":\"9\",\"orientation\":\"v\",\"showlegend\":true,\"textposition\":\"top right\",\"type\":\"scatter\",\"x\":[-0.2338865,-0.47369742,-0.41114688,-0.508038,-0.5607425,-0.48074704,-0.5092688],\"xaxis\":\"x\",\"y\":[-0.20625015,-0.24143854,-0.21726923,-0.24668315,-0.26519868,-0.25595176,-0.30746624],\"yaxis\":\"y\"},{\"customdata\":[[18,14,10,4,\"Cytoglobin 2\",\"Cytoglobin\",\"Crassostrea gigas\",\"Crassostrea\"],[19,14,10,4,\"Uncharacterized protein (Fragment)\",\"Uncharacterized\",\"Lottia gigantea\",\"Lottia\"],[19,14,10,4,\"Uncharacterized protein (Fragment)\",\"Uncharacterized\",\"Lottia gigantea\",\"Lottia\"],[-1,14,10,4,\"Uncharacterized protein (Fragment)\",\"Uncharacterized\",\"Lottia gigantea\",\"Lottia\"],[-1,14,10,4,\"Uncharacterized protein\",\"Uncharacterized\",\"Capitella teleta\",\"Capitella\"],[17,12,10,4,\"ACYPI001485 protein\",\"ACYPI001485\",\"Acyrthosiphon pisum\",\"Acyrthosiphon\"],[19,14,10,4,\"Uncharacterized protein\",\"Uncharacterized\",\"Lottia gigantea\",\"Lottia\"],[16,11,10,4,\"GbX1\",\"GbX1\",\"Callorhinchus milii\",\"Callorhinchus\"],[16,11,10,4,\"GbX2\",\"GbX2\",\"Callorhinchus milii\",\"Callorhinchus\"],[16,11,10,4,\"Chromosome 10 SCAF15019, whole genome shotgun sequence\",\"Chromosome\",\"Tetraodon nigroviridis\",\"Tetraodon\"],[16,11,10,4,\"Cytoglobin 1\",\"Cytoglobin\",\"Chelonia mydas\",\"Chelonia\"],[16,11,10,4,\"Uncharacterized protein\",\"Uncharacterized\",\"Poecilia formosa\",\"Poecilia\"],[16,11,10,4,\"Uncharacterized protein\",\"Uncharacterized\",\"Lepisosteus oculatus\",\"Lepisosteus\"],[16,11,10,4,\"Uncharacterized protein\",\"Uncharacterized\",\"Latimeria chalumnae\",\"Latimeria\"],[16,11,10,4,\"Xgb protein\",\"Xgb\",\"Danio rerio\",\"Danio\"],[16,11,10,4,\"Uncharacterized protein\",\"Uncharacterized\",\"Lepisosteus oculatus\",\"Lepisosteus\"],[16,11,10,4,\"Uncharacterized protein\",\"Uncharacterized\",\"Xenopus tropicalis\",\"Xenopus\"],[16,11,10,4,\"Cytoglobin 2\",\"Cytoglobin\",\"Ictalurus punctatus\",\"Ictalurus\"],[16,11,10,4,\"Uncharacterized protein\",\"Uncharacterized\",\"Oreochromis niloticus\",\"Oreochromis\"],[16,11,10,4,\"Uncharacterized protein\",\"Uncharacterized\",\"Oncorhynchus mykiss\",\"Oncorhynchus\"],[16,11,10,4,\"Uncharacterized protein\",\"Uncharacterized\",\"Oncorhynchus mykiss\",\"Oncorhynchus\"],[16,11,10,4,\"Neuroglobin like (Fragment)\",\"Neuroglobin\",\"Scleropages formosus\",\"Scleropages\"],[17,12,10,4,\"Globin D, coelomic, putative\",\"Globin\",\"Pediculus humanus\",\"Pediculus\"],[-1,14,10,4,\"Neuroglobin\",\"Neuroglobin\",\"Daphnia magna\",\"Daphnia\"],[19,14,10,4,\"Neuroglobin 1\",\"Neuroglobin\",\"Crassostrea gigas\",\"Crassostrea\"],[19,14,10,4,\"Uncharacterized protein\",\"Uncharacterized\",\"Arion vulgaris\",\"Arion\"],[19,14,10,4,\"Uncharacterized protein\",\"Uncharacterized\",\"Octopus bimaculoides\",\"Octopus\"],[-1,14,10,4,\"Uncharacterized protein\",\"Uncharacterized\",\"Capitella teleta\",\"Capitella\"],[18,14,10,4,\"Nacrein like protein F\",\"Nacrein\",\"Crassostrea gigas\",\"Crassostrea\"],[-1,12,10,4,\"Uncharacterized protein\",\"Uncharacterized\",\"Lepeophtheirus salmonis\",\"Lepeophtheirus\"],[-1,12,10,4,\"Neuroglobinlike [Maylandia zebra]\",\"Neuroglobin\",\"Lepeophtheirus salmonis\",\"Lepeophtheirus\"]],\"hovertemplate\":\"<b>%{hovertext}</b><br><br>tree3=%{customdata[2]}<br>pm1=%{x}<br>pm2=%{y}<br>tree1=%{customdata[0]}<br>tree2=%{customdata[1]}<br>tree4=%{customdata[3]}<br>full_name=%{customdata[4]}<br>short_name=%{customdata[5]}<br>full_species=%{customdata[6]}<br>short_species=%{customdata[7]}<extra></extra>\",\"hovertext\":[10,10,10,10,10,10,10,10,10,10,10,10,10,10,10,10,10,10,10,10,10,10,10,10,10,10,10,10,10,10,10],\"legendgroup\":\"10\",\"marker\":{\"color\":\"#EF553B\",\"symbol\":\"circle\"},\"mode\":\"markers\",\"name\":\"10\",\"orientation\":\"v\",\"showlegend\":true,\"textposition\":\"top right\",\"type\":\"scatter\",\"x\":[-0.5737011,-0.5982256,-0.54788357,-0.5374004,-0.53599447,-0.6375652,-0.5541821,-0.5037762,-0.53994703,-0.44761446,-0.52229184,-0.46580496,-0.52206033,-0.5353706,-0.4785183,-0.4897718,-0.48272038,-0.4520121,-0.48077106,-0.4619023,-0.4322011,-0.44987938,-0.639787,-0.60461724,-0.5758804,-0.50223964,-0.5885475,-0.5731153,-0.59590894,-0.6475292,-0.5997351],\"xaxis\":\"x\",\"y\":[0.3225759,0.29259413,0.24834573,0.33620986,0.30272013,0.24456978,0.28302252,0.55635434,0.552027,0.5735147,0.55192,0.55841506,0.536679,0.520191,0.5434862,0.5293966,0.58257926,0.5496272,0.4813827,0.5301417,0.5391387,0.5079659,0.27556503,0.23458809,0.29141212,0.28511852,0.2751126,0.2598302,0.33024114,0.31782886,0.3833684],\"yaxis\":\"y\"},{\"customdata\":[[29,20,12,5,\"Cytoglobin b\",\"Cytoglobin\",\"Xenopus laevis\",\"Xenopus\"],[29,20,12,5,\"Uncharacterized protein\",\"Uncharacterized\",\"Oreochromis niloticus\",\"Oreochromis\"],[29,20,12,5,\"Cytoglobin\",\"Cytoglobin\",\"Nothobranchius korthausae\",\"Nothobranchius\"],[28,20,12,5,\"Uncharacterized protein (Fragment)\",\"Uncharacterized\",\"Gasterosteus aculeatus\",\"Gasterosteus\"],[29,20,12,5,\"Cytoglobin\",\"Cytoglobin\",\"Bos mutus\",\"Bos\"],[29,20,12,5,\"Cytoglobin 1\",\"Cytoglobin\",\"Iguana iguana\",\"Iguana\"],[28,20,12,5,\"Cytoglobin 1\",\"Cytoglobin\",\"Oryzias latipes\",\"Oryzias\"],[29,20,12,5,\"Uncharacterized protein\",\"Uncharacterized\",\"Anas platyrhynchos\",\"Anas\"],[28,20,12,5,\"Uncharacterized protein\",\"Uncharacterized\",\"Tetraodon nigroviridis\",\"Tetraodon\"],[28,20,12,5,\"Uncharacterized protein (Fragment)\",\"Uncharacterized\",\"Takifugu rubripes\",\"Takifugu\"],[29,20,12,5,\"Cytoglobin 2\",\"Cytoglobin\",\"Tetraodon nigroviridis\",\"Tetraodon\"],[29,20,12,5,\"Uncharacterized protein\",\"Uncharacterized\",\"Tetraodon nigroviridis\",\"Tetraodon\"],[28,20,12,5,\"Uncharacterized protein\",\"Uncharacterized\",\"Xiphophorus maculatus\",\"Xiphophorus\"],[28,20,12,5,\"Cytoglobin 1\",\"Cytoglobin\",\"Larimichthys crocea\",\"Larimichthys\"],[29,20,12,5,\"Uncharacterized protein\",\"Uncharacterized\",\"Oncorhynchus mykiss\",\"Oncorhynchus\"],[28,20,12,5,\"Cytoglobin 1\",\"Cytoglobin\",\"Nothobranchius pienaari\",\"Nothobranchius\"],[29,20,12,5,\"Cytoglobin\",\"Cytoglobin\",\"Alligator mississippiensis\",\"Alligator\"],[29,20,12,5,\"Uncharacterized protein\",\"Uncharacterized\",\"Astyanax mexicanus\",\"Astyanax\"],[29,20,12,5,\"Uncharacterized protein\",\"Uncharacterized\",\"Latimeria chalumnae\",\"Latimeria\"],[29,20,12,5,\"Cytoglobin 2\",\"Cytoglobin\",\"Ictalurus punctatus\",\"Ictalurus\"],[28,20,12,5,\"Cytoglobin\",\"Cytoglobin\",\"Chaenocephalus aceratus\",\"Chaenocephalus\"],[29,20,12,5,\"Cygb2 protein\",\"Cygb2\",\"Danio rerio\",\"Danio\"],[28,20,12,5,\"Uncharacterized protein\",\"Uncharacterized\",\"Oreochromis niloticus\",\"Oreochromis\"],[28,20,12,5,\"Cytoglobin\",\"Cytoglobin\",\"Oncorhynchus mykiss\",\"Oncorhynchus\"],[31,20,12,5,\"Uncharacterized protein\",\"Uncharacterized\",\"Astyanax mexicanus\",\"Astyanax\"],[31,20,12,5,\"Cytoglobin 1\",\"Cytoglobin\",\"Cyprinus carpio\",\"Cyprinus\"],[29,20,12,5,\"Cytoglobin\",\"Cytoglobin\",\"Callorhinchus milii\",\"Callorhinchus\"],[31,20,12,5,\"Cytoglobin 1\",\"Cytoglobin\",\"Danio rerio\",\"Danio\"],[31,20,12,5,\"Cytoglobin 1\",\"Cytoglobin\",\"Ictalurus punctatus\",\"Ictalurus\"],[-1,21,12,5,\"Uncharacterized protein (Fragment)\",\"Uncharacterized\",\"Petromyzon marinus\",\"Petromyzon\"],[30,21,12,5,\"Hemoglobin 4\",\"Hemoglobin\",\"Lethenteron camtschaticum\",\"Lethenteron\"],[30,21,12,5,\"Uncharacterized protein\",\"Uncharacterized\",\"Petromyzon marinus\",\"Petromyzon\"],[30,21,12,5,\"Uncharacterized protein\",\"Uncharacterized\",\"Petromyzon marinus\",\"Petromyzon\"],[29,20,12,5,\"Cytoglobin (Fragment)\",\"Cytoglobin\",\"Fundulus heteroclitus\",\"Fundulus\"],[28,20,12,5,\"Cytoglobin (Fragment)\",\"Cytoglobin\",\"Fundulus heteroclitus\",\"Fundulus\"],[29,20,12,5,\"Inactive rhomboid protein 2\",\"Inactive\",\"Tupaia chinensis\",\"Tupaia\"]],\"hovertemplate\":\"<b>%{hovertext}</b><br><br>tree3=%{customdata[2]}<br>pm1=%{x}<br>pm2=%{y}<br>tree1=%{customdata[0]}<br>tree2=%{customdata[1]}<br>tree4=%{customdata[3]}<br>full_name=%{customdata[4]}<br>short_name=%{customdata[5]}<br>full_species=%{customdata[6]}<br>short_species=%{customdata[7]}<extra></extra>\",\"hovertext\":[12,12,12,12,12,12,12,12,12,12,12,12,12,12,12,12,12,12,12,12,12,12,12,12,12,12,12,12,12,12,12,12,12,12,12,12],\"legendgroup\":\"12\",\"marker\":{\"color\":\"#00cc96\",\"symbol\":\"circle\"},\"mode\":\"markers\",\"name\":\"12\",\"orientation\":\"v\",\"showlegend\":true,\"textposition\":\"top right\",\"type\":\"scatter\",\"x\":[0.16456915,0.05865246,0.03489937,0.082943745,0.18328342,0.14900458,0.09643834,0.15224959,0.057228018,0.035233382,0.028158681,0.029679982,0.13235055,0.073755026,0.05824478,0.14147425,0.15688601,0.06273448,0.12869182,-0.012739736,0.08684538,0.0865145,0.12322655,0.11580076,0.04512096,0.0059047197,0.103861466,0.0228416,0.018542467,0.20673849,0.22983769,0.21550909,0.24577355,0.03895966,0.12380958,0.18095085],\"xaxis\":\"x\",\"y\":[-0.63108283,-0.63602865,-0.5716935,-0.34023428,-0.64715415,-0.68660337,-0.36718783,-0.6555251,-0.33576205,-0.32330805,-0.59692943,-0.6151889,-0.34360114,-0.3643613,-0.6101243,-0.3796376,-0.67070884,-0.5807351,-0.6697633,-0.5436709,-0.32854098,-0.57798547,-0.35840273,-0.37039867,-0.38776845,-0.4682294,-0.6771156,-0.4993939,-0.4128403,-0.4587362,-0.48406819,-0.41913927,-0.4020715,-0.60656184,-0.32716098,-0.6735195],\"yaxis\":\"y\"},{\"customdata\":[[-1,18,13,5,\"Uncharacterized protein\",\"Uncharacterized\",\"Lepisosteus oculatus\",\"Lepisosteus\"],[27,19,13,5,\"Hemoglobin subunit alpha\",\"Hemoglobin\",\"Cavia porcellus\",\"Cavia\"],[27,19,13,5,\"Hemoglobin subunit alpha 2\",\"Hemoglobin\",\"Scalopus aquaticus\",\"Scalopus\"],[26,19,13,5,\"Uncharacterized protein\",\"Uncharacterized\",\"Neotoma lepida\",\"Neotoma\"],[25,18,13,5,\"Globin Y\",\"Globin\",\"Callorhinchus milii\",\"Callorhinchus\"],[25,18,13,5,\"Uncharacterized protein\",\"Uncharacterized\",\"Latimeria chalumnae\",\"Latimeria\"],[24,18,13,5,\"Uncharacterized protein\",\"Uncharacterized\",\"Xenopus tropicalis\",\"Xenopus\"],[24,18,13,5,\"Globin Y\",\"Globin\",\"Xenopus laevis\",\"Xenopus\"],[-1,18,13,5,\"Uncharacterized protein\",\"Uncharacterized\",\"Pelodiscus sinensis\",\"Pelodiscus\"],[26,19,13,5,\"Hemoglobin subunit rho\",\"Hemoglobin\",\"Alligator mississippiensis\",\"Alligator\"],[26,19,13,5,\"Uncharacterized protein\",\"Uncharacterized\",\"Nomascus leucogenys\",\"Nomascus\"]],\"hovertemplate\":\"<b>%{hovertext}</b><br><br>tree3=%{customdata[2]}<br>pm1=%{x}<br>pm2=%{y}<br>tree1=%{customdata[0]}<br>tree2=%{customdata[1]}<br>tree4=%{customdata[3]}<br>full_name=%{customdata[4]}<br>short_name=%{customdata[5]}<br>full_species=%{customdata[6]}<br>short_species=%{customdata[7]}<extra></extra>\",\"hovertext\":[13,13,13,13,13,13,13,13,13,13,13],\"legendgroup\":\"13\",\"marker\":{\"color\":\"#ab63fa\",\"symbol\":\"circle\"},\"mode\":\"markers\",\"name\":\"13\",\"orientation\":\"v\",\"showlegend\":true,\"textposition\":\"top right\",\"type\":\"scatter\",\"x\":[-0.06414359,-0.1331765,-0.12829727,-0.088550515,-0.08217363,-0.08631871,-0.10345019,-0.09982108,-0.06919317,-0.09192164,-0.10868079],\"xaxis\":\"x\",\"y\":[-0.80006206,-0.7398202,-0.7005243,-0.7033538,-0.79870826,-0.8235989,-0.8165472,-0.79959196,-0.82331014,-0.7347793,-0.7329447],\"yaxis\":\"y\"},{\"customdata\":[[-1,-1,6,3,\"Globin\",\"Globin\",\"Gemmatirosa kalamazoonesis\",\"Gemmatirosa\"],[-1,9,6,3,\"Globin\",\"Globin\",\"Gemmatirosa kalamazoonesis\",\"Gemmatirosa\"],[-1,9,6,3,\"Hemin receptor\",\"Hemin\",\"Halothiobacillus sp.\",\"Halothiobacillus\"],[15,8,6,3,\"ARAD1D45562p\",\"ARAD1D45562p\",\"Blastobotrys adeninivorans\",\"Blastobotrys\"],[15,8,6,3,\"CYFA0S05e02454g1_1\",\"CYFA0S05e02454g1_1\",\"Cyberlindnera fabianii\",\"Cyberlindnera\"]],\"hovertemplate\":\"<b>%{hovertext}</b><br><br>tree3=%{customdata[2]}<br>pm1=%{x}<br>pm2=%{y}<br>tree1=%{customdata[0]}<br>tree2=%{customdata[1]}<br>tree4=%{customdata[3]}<br>full_name=%{customdata[4]}<br>short_name=%{customdata[5]}<br>full_species=%{customdata[6]}<br>short_species=%{customdata[7]}<extra></extra>\",\"hovertext\":[6,6,6,6,6],\"legendgroup\":\"6\",\"marker\":{\"color\":\"#FFA15A\",\"symbol\":\"circle\"},\"mode\":\"markers\",\"name\":\"6\",\"orientation\":\"v\",\"showlegend\":true,\"textposition\":\"top right\",\"type\":\"scatter\",\"x\":[-0.51087034,-0.53661084,-0.48313376,-0.54082954,-0.49887237],\"xaxis\":\"x\",\"y\":[-0.17645629,-0.12597236,-0.18728231,-0.15470557,-0.15105976],\"yaxis\":\"y\"},{\"customdata\":[[-1,15,7,4,\"Predicted protein\",\"Predicted\",\"Nematostella vectensis\",\"Nematostella\"],[20,15,7,4,\"Predicted protein\",\"Predicted\",\"Nematostella vectensis\",\"Nematostella\"],[-1,15,7,4,\"Predicted protein\",\"Predicted\",\"Nematostella vectensis\",\"Nematostella\"],[20,15,7,4,\"Predicted protein\",\"Predicted\",\"Nematostella vectensis\",\"Nematostella\"]],\"hovertemplate\":\"<b>%{hovertext}</b><br><br>tree3=%{customdata[2]}<br>pm1=%{x}<br>pm2=%{y}<br>tree1=%{customdata[0]}<br>tree2=%{customdata[1]}<br>tree4=%{customdata[3]}<br>full_name=%{customdata[4]}<br>short_name=%{customdata[5]}<br>full_species=%{customdata[6]}<br>short_species=%{customdata[7]}<extra></extra>\",\"hovertext\":[7,7,7,7],\"legendgroup\":\"7\",\"marker\":{\"color\":\"#19d3f3\",\"symbol\":\"circle\"},\"mode\":\"markers\",\"name\":\"7\",\"orientation\":\"v\",\"showlegend\":true,\"textposition\":\"top right\",\"type\":\"scatter\",\"x\":[-0.54438376,-0.48235685,-0.51077527,-0.45818457],\"xaxis\":\"x\",\"y\":[0.120526,0.12833646,0.11335759,0.06686395],\"yaxis\":\"y\"},{\"customdata\":[[43,31,17,10,\"Globin 2 A chain\",\"Globin\",\"Anadara inaequivalvis\",\"Anadara\"],[-1,-1,17,10,\"Nerve hemoglobin\",\"Hemoglobin\",\"Spisula solidissima\",\"Spisula\"],[-1,31,17,10,\"Hemoglobin (Heterodimeric)\",\"Hemoglobin\",\"Barbatia virescens\",\"Barbatia\"],[43,31,17,10,\"Globin, minor\",\"Globin,\",\"Anadara trapezia\",\"Anadara\"],[43,31,17,10,\"Globin 2 B chain\",\"Globin\",\"Anadara inaequivalvis\",\"Anadara\"],[-1,-1,17,10,\"Hemoglobin II\",\"Hemoglobin\",\"Phacoides pectinatus\",\"Phacoides\"],[44,30,17,10,\"Two domain chain of the polymeric hemoglobin (Intracellular)\",\"Hemoglobin\",\"Barbatia lima\",\"Barbatia\"],[44,30,17,10,\"Hemoglobin (2 domain)\",\"Hemoglobin\",\"Barbatia lima\",\"Barbatia\"]],\"hovertemplate\":\"<b>%{hovertext}</b><br><br>tree3=%{customdata[2]}<br>pm1=%{x}<br>pm2=%{y}<br>tree1=%{customdata[0]}<br>tree2=%{customdata[1]}<br>tree4=%{customdata[3]}<br>full_name=%{customdata[4]}<br>short_name=%{customdata[5]}<br>full_species=%{customdata[6]}<br>short_species=%{customdata[7]}<extra></extra>\",\"hovertext\":[17,17,17,17,17,17,17,17],\"legendgroup\":\"17\",\"marker\":{\"color\":\"#FF6692\",\"symbol\":\"circle\"},\"mode\":\"markers\",\"name\":\"17\",\"orientation\":\"v\",\"showlegend\":true,\"textposition\":\"top right\",\"type\":\"scatter\",\"x\":[0.093629636,0.09164294,0.10891761,0.0928773,0.09294273,0.009910086,0.0806611,0.08620793],\"xaxis\":\"x\",\"y\":[0.4618654,0.40491447,0.4625901,0.4620257,0.46201432,0.1554999,0.45328277,0.45053297],\"yaxis\":\"y\"},{\"customdata\":[[2,1,2,1,\"Globin 2\",\"Globin\",\"Chironomus riparius\",\"Chironomus\"],[1,1,2,1,\"Globin\",\"Globin\",\"Polypedilum nubifer\",\"Polypedilum\"],[1,1,2,1,\"Globin\",\"Globin\",\"Polypedilum vanderplanki\",\"Polypedilum\"],[3,1,2,1,\"Globin\",\"Globin\",\"Polypedilum vanderplanki\",\"Polypedilum\"],[2,1,2,1,\"Globin\",\"Globin\",\"Polypedilum nubifer\",\"Polypedilum\"],[3,1,2,1,\"Globin\",\"Globin\",\"Polypedilum nubifer\",\"Polypedilum\"],[3,1,2,1,\"Globin\",\"Globin\",\"Polypedilum vanderplanki\",\"Polypedilum\"],[3,1,2,1,\"Globin 11\",\"Globin\",\"Chironomus riparius\",\"Chironomus\"],[1,1,2,1,\"ORF E protein\",\"ORF\",\"Chironomus tentans\",\"Chironomus\"],[1,1,2,1,\"Globin\",\"Globin\",\"Polypedilum nubifer\",\"Polypedilum\"],[1,1,2,1,\"Globin\",\"Globin\",\"Polypedilum nubifer\",\"Polypedilum\"],[-1,-1,2,1,\"Globin\",\"Globin\",\"Nerita albicilla\",\"Nerita\"]],\"hovertemplate\":\"<b>%{hovertext}</b><br><br>tree3=%{customdata[2]}<br>pm1=%{x}<br>pm2=%{y}<br>tree1=%{customdata[0]}<br>tree2=%{customdata[1]}<br>tree4=%{customdata[3]}<br>full_name=%{customdata[4]}<br>short_name=%{customdata[5]}<br>full_species=%{customdata[6]}<br>short_species=%{customdata[7]}<extra></extra>\",\"hovertext\":[2,2,2,2,2,2,2,2,2,2,2,2],\"legendgroup\":\"2\",\"marker\":{\"color\":\"#B6E880\",\"symbol\":\"circle\"},\"mode\":\"markers\",\"name\":\"2\",\"orientation\":\"v\",\"showlegend\":true,\"textposition\":\"top right\",\"type\":\"scatter\",\"x\":[0.4043186,0.39794698,0.37238166,0.36019528,0.3868871,0.34188774,0.33895966,0.35801518,0.39406282,0.38031125,0.41244918,0.0015589229],\"xaxis\":\"x\",\"y\":[0.616073,0.65618074,0.64518595,0.61357254,0.6366259,0.64623713,0.66641706,0.6810799,0.685511,0.66742593,0.6401372,0.07608434],\"yaxis\":\"y\"},{\"customdata\":[[7,5,1,2,\"Di domain hemoglobin\",\"Hemoglobin\",\"Daphnia magna\",\"Daphnia\"],[7,5,1,2,\"Putative uncharacterized protein\",\"Putative\",\"Daphnia pulex\",\"Daphnia\"],[7,5,1,2,\"Putative uncharacterized protein\",\"Putative\",\"Daphnia pulex\",\"Daphnia\"],[9,4,1,2,\"Putative di domain hemoglobin\",\"Hemoglobin\",\"Daphnia magna\",\"Daphnia\"],[9,4,1,2,\"Putative di domain hemoglobin\",\"Hemoglobin\",\"Daphnia magna\",\"Daphnia\"],[9,4,1,2,\"Di domain hemoglobin (Fragment)\",\"Hemoglobin\",\"Daphnia magna\",\"Daphnia\"],[9,4,1,2,\"Di domain hemoglobin (Fragment)\",\"Hemoglobin\",\"Daphnia magna\",\"Daphnia\"],[9,4,1,2,\"Putative di domain hemoglobin\",\"Hemoglobin\",\"Daphnia magna\",\"Daphnia\"],[9,4,1,2,\"Putative di domain hemoglobin (Fragment)\",\"Hemoglobin\",\"Daphnia magna\",\"Daphnia\"],[9,4,1,2,\"Putative di domain hemoglobin\",\"Hemoglobin\",\"Daphnia magna\",\"Daphnia\"],[-1,5,1,2,\"Di domain hemoglobin (Fragment)\",\"Hemoglobin\",\"Daphnia magna\",\"Daphnia\"],[6,5,1,2,\"Di domain hemoglobin\",\"Hemoglobin\",\"Daphnia magna\",\"Daphnia\"],[9,4,1,2,\"Putative uncharacterized protein\",\"Putative\",\"Daphnia pulex\",\"Daphnia\"],[9,4,1,2,\"Hemoglobin\",\"Hemoglobin\",\"Daphnia magna\",\"Daphnia\"],[9,4,1,2,\"Hemoglobin\",\"Hemoglobin\",\"Daphnia pulex\",\"Daphnia\"],[9,4,1,2,\"Hemoglobin\",\"Hemoglobin\",\"Daphnia pulex\",\"Daphnia\"],[9,4,1,2,\"Hemoglobin\",\"Hemoglobin\",\"Daphnia pulex\",\"Daphnia\"],[9,4,1,2,\"Di domain hemoglobin\",\"Hemoglobin\",\"Daphnia magna\",\"Daphnia\"],[8,5,1,2,\"Putative uncharacterized protein (Fragment)\",\"Putative\",\"Daphnia pulex\",\"Daphnia\"],[8,5,1,2,\"Uncharacterized protein (Fragment)\",\"Uncharacterized\",\"Daphnia magna\",\"Daphnia\"],[9,4,1,2,\"Putative di domain hemoglobin (Fragment)\",\"Hemoglobin\",\"Daphnia magna\",\"Daphnia\"],[9,4,1,2,\"Di domain hemoglobin\",\"Hemoglobin\",\"Daphnia magna\",\"Daphnia\"],[6,5,1,2,\"Di domain hemoglobin (Fragment)\",\"Hemoglobin\",\"Daphnia magna\",\"Daphnia\"],[9,4,1,2,\"Di domain hemoglobin like protein\",\"Hemoglobin\",\"Daphnia magna\",\"Daphnia\"]],\"hovertemplate\":\"<b>%{hovertext}</b><br><br>tree3=%{customdata[2]}<br>pm1=%{x}<br>pm2=%{y}<br>tree1=%{customdata[0]}<br>tree2=%{customdata[1]}<br>tree4=%{customdata[3]}<br>full_name=%{customdata[4]}<br>short_name=%{customdata[5]}<br>full_species=%{customdata[6]}<br>short_species=%{customdata[7]}<extra></extra>\",\"hovertext\":[1,1,1,1,1,1,1,1,1,1,1,1,1,1,1,1,1,1,1,1,1,1,1,1],\"legendgroup\":\"1\",\"marker\":{\"color\":\"#FF97FF\",\"symbol\":\"circle\"},\"mode\":\"markers\",\"name\":\"1\",\"orientation\":\"v\",\"showlegend\":true,\"textposition\":\"top right\",\"type\":\"scatter\",\"x\":[0.7681614,0.75841933,0.77523255,0.676756,0.65830606,0.70273316,0.710525,0.6482881,0.6349868,0.6610975,0.74603784,0.73596156,0.70784837,0.7483408,0.7399131,0.74793625,0.75277674,0.6779562,0.7411622,0.69887644,0.6618074,0.6821002,0.7603888,0.6631694],\"xaxis\":\"x\",\"y\":[0.27132905,0.2890558,0.28929338,0.12897184,0.12266885,0.12815847,0.15632297,0.1813955,0.16219126,0.15520695,0.26555964,0.3009416,0.10470423,0.14580344,0.11230841,0.10069775,0.12067485,0.108058386,0.22362238,0.23705232,0.078223564,0.07943716,0.3054512,0.0988425],\"yaxis\":\"y\"},{\"customdata\":[[42,32,16,10,\"Globin\",\"Globin\",\"Nassarius mutabilis\",\"Nassarius\"],[41,32,16,10,\"Uncharacterized protein\",\"Uncharacterized\",\"Lottia gigantea\",\"Lottia\"],[41,32,16,10,\"Uncharacterized protein\",\"Uncharacterized\",\"Lottia gigantea\",\"Lottia\"],[42,32,16,10,\"Globin\",\"Globin\",\"Cerithidea rhizophorarum\",\"Cerithidea\"]],\"hovertemplate\":\"<b>%{hovertext}</b><br><br>tree3=%{customdata[2]}<br>pm1=%{x}<br>pm2=%{y}<br>tree1=%{customdata[0]}<br>tree2=%{customdata[1]}<br>tree4=%{customdata[3]}<br>full_name=%{customdata[4]}<br>short_name=%{customdata[5]}<br>full_species=%{customdata[6]}<br>short_species=%{customdata[7]}<extra></extra>\",\"hovertext\":[16,16,16,16],\"legendgroup\":\"16\",\"marker\":{\"color\":\"#FECB52\",\"symbol\":\"circle\"},\"mode\":\"markers\",\"name\":\"16\",\"orientation\":\"v\",\"showlegend\":true,\"textposition\":\"top right\",\"type\":\"scatter\",\"x\":[-0.0069421236,-0.0060275816,-0.003953027,-0.004828624],\"xaxis\":\"x\",\"y\":[0.12884179,0.13338858,0.12901624,0.12813304],\"yaxis\":\"y\"},{\"customdata\":[[-1,-1,-1,8,\"Globin (Fragment)\",\"Globin\",\"Operophtera brumata\",\"Operophtera\"],[-1,-1,-1,3,\"Predicted protein\",\"Predicted\",\"Nematostella vectensis\",\"Nematostella\"],[-1,-1,-1,2,\"Putative di domain hemoglobin (Fragment)\",\"Hemoglobin\",\"Daphnia magna\",\"Daphnia\"]],\"hovertemplate\":\"<b>%{hovertext}</b><br><br>tree3=%{customdata[2]}<br>pm1=%{x}<br>pm2=%{y}<br>tree1=%{customdata[0]}<br>tree2=%{customdata[1]}<br>tree4=%{customdata[3]}<br>full_name=%{customdata[4]}<br>short_name=%{customdata[5]}<br>full_species=%{customdata[6]}<br>short_species=%{customdata[7]}<extra></extra>\",\"hovertext\":[-1,-1,-1],\"legendgroup\":\"-1\",\"marker\":{\"color\":\"#636efa\",\"symbol\":\"circle\"},\"mode\":\"markers\",\"name\":\"-1\",\"orientation\":\"v\",\"showlegend\":true,\"textposition\":\"top right\",\"type\":\"scatter\",\"x\":[0.08534323,-0.42197227,0.57678205],\"xaxis\":\"x\",\"y\":[-0.44815385,-0.15837233,0.082730226],\"yaxis\":\"y\"},{\"customdata\":[[46,35,19,10,\"Globin\",\"Globin\",\"Ancylostoma ceylanicum\",\"Ancylostoma\"],[46,35,19,10,\"Uncharacterized protein\",\"Uncharacterized\",\"Angiostrongylus costaricensis\",\"Angiostrongylus\"],[46,35,19,10,\"Globin\",\"Globin\",\"Necator americanus\",\"Necator\"],[-1,-1,19,10,\"Cytoglobin1like [Saccoglossus kowalevskii]\",\"Cytoglobin\",\"Lepeophtheirus salmonis\",\"Lepeophtheirus\"]],\"hovertemplate\":\"<b>%{hovertext}</b><br><br>tree3=%{customdata[2]}<br>pm1=%{x}<br>pm2=%{y}<br>tree1=%{customdata[0]}<br>tree2=%{customdata[1]}<br>tree4=%{customdata[3]}<br>full_name=%{customdata[4]}<br>short_name=%{customdata[5]}<br>full_species=%{customdata[6]}<br>short_species=%{customdata[7]}<extra></extra>\",\"hovertext\":[19,19,19,19],\"legendgroup\":\"19\",\"marker\":{\"color\":\"#EF553B\",\"symbol\":\"circle\"},\"mode\":\"markers\",\"name\":\"19\",\"orientation\":\"v\",\"showlegend\":true,\"textposition\":\"top right\",\"type\":\"scatter\",\"x\":[0.004471224,-0.037913136,-0.019461831,0.08890472],\"xaxis\":\"x\",\"y\":[-0.17173268,-0.14016816,-0.11075051,0.1295988],\"yaxis\":\"y\"},{\"customdata\":[[32,22,11,5,\"Hemoglobin (Fragment)\",\"Hemoglobin\",\"Biomphalaria glabrata\",\"Biomphalaria\"],[32,22,11,5,\"Uncharacterized protein\",\"Uncharacterized\",\"Biomphalaria glabrata\",\"Biomphalaria\"],[32,22,11,5,\"Uncharacterized protein\",\"Uncharacterized\",\"Biomphalaria glabrata\",\"Biomphalaria\"],[32,22,11,5,\"Haemoglobin type 1\",\"Hemoglobin\",\"Biomphalaria glabrata\",\"Biomphalaria\"],[32,22,11,5,\"Uncharacterized protein\",\"Uncharacterized\",\"Biomphalaria glabrata\",\"Biomphalaria\"]],\"hovertemplate\":\"<b>%{hovertext}</b><br><br>tree3=%{customdata[2]}<br>pm1=%{x}<br>pm2=%{y}<br>tree1=%{customdata[0]}<br>tree2=%{customdata[1]}<br>tree4=%{customdata[3]}<br>full_name=%{customdata[4]}<br>short_name=%{customdata[5]}<br>full_species=%{customdata[6]}<br>short_species=%{customdata[7]}<extra></extra>\",\"hovertext\":[11,11,11,11,11],\"legendgroup\":\"11\",\"marker\":{\"color\":\"#00cc96\",\"symbol\":\"circle\"},\"mode\":\"markers\",\"name\":\"11\",\"orientation\":\"v\",\"showlegend\":true,\"textposition\":\"top right\",\"type\":\"scatter\",\"x\":[0.41883287,0.44269386,0.41105866,0.43549973,0.4017918],\"xaxis\":\"x\",\"y\":[-0.32097188,-0.33759063,-0.36625886,-0.31290734,-0.3428267],\"yaxis\":\"y\"},{\"customdata\":[[-1,25,15,8,\"Metalloendopeptidase\",\"Metalloendopeptidase\",\"Globodera pallida\",\"Globodera\"],[-1,25,15,8,\"Uncharacterized protein\",\"Uncharacterized\",\"Strongyloides stercoralis\",\"Strongyloides\"]],\"hovertemplate\":\"<b>%{hovertext}</b><br><br>tree3=%{customdata[2]}<br>pm1=%{x}<br>pm2=%{y}<br>tree1=%{customdata[0]}<br>tree2=%{customdata[1]}<br>tree4=%{customdata[3]}<br>full_name=%{customdata[4]}<br>short_name=%{customdata[5]}<br>full_species=%{customdata[6]}<br>short_species=%{customdata[7]}<extra></extra>\",\"hovertext\":[15,15],\"legendgroup\":\"15\",\"marker\":{\"color\":\"#ab63fa\",\"symbol\":\"circle\"},\"mode\":\"markers\",\"name\":\"15\",\"orientation\":\"v\",\"showlegend\":true,\"textposition\":\"top right\",\"type\":\"scatter\",\"x\":[-0.40321574,-0.4880097],\"xaxis\":\"x\",\"y\":[0.36527812,0.40595424],\"yaxis\":\"y\"}],                        {\"height\":800,\"legend\":{\"title\":{\"text\":\"tree3\"},\"tracegroupgap\":0},\"margin\":{\"t\":60},\"plot_bgcolor\":\"rgba(0, 0, 0, 0)\",\"shapes\":[{\"line\":{\"color\":\"Black\"},\"type\":\"circle\",\"x0\":-1,\"x1\":1,\"xref\":\"x\",\"y0\":-1,\"y1\":1,\"yref\":\"y\"}],\"template\":{\"data\":{\"bar\":[{\"error_x\":{\"color\":\"#2a3f5f\"},\"error_y\":{\"color\":\"#2a3f5f\"},\"marker\":{\"line\":{\"color\":\"#E5ECF6\",\"width\":0.5},\"pattern\":{\"fillmode\":\"overlay\",\"size\":10,\"solidity\":0.2}},\"type\":\"bar\"}],\"barpolar\":[{\"marker\":{\"line\":{\"color\":\"#E5ECF6\",\"width\":0.5},\"pattern\":{\"fillmode\":\"overlay\",\"size\":10,\"solidity\":0.2}},\"type\":\"barpolar\"}],\"carpet\":[{\"aaxis\":{\"endlinecolor\":\"#2a3f5f\",\"gridcolor\":\"white\",\"linecolor\":\"white\",\"minorgridcolor\":\"white\",\"startlinecolor\":\"#2a3f5f\"},\"baxis\":{\"endlinecolor\":\"#2a3f5f\",\"gridcolor\":\"white\",\"linecolor\":\"white\",\"minorgridcolor\":\"white\",\"startlinecolor\":\"#2a3f5f\"},\"type\":\"carpet\"}],\"choropleth\":[{\"colorbar\":{\"outlinewidth\":0,\"ticks\":\"\"},\"type\":\"choropleth\"}],\"contour\":[{\"colorbar\":{\"outlinewidth\":0,\"ticks\":\"\"},\"colorscale\":[[0.0,\"#0d0887\"],[0.1111111111111111,\"#46039f\"],[0.2222222222222222,\"#7201a8\"],[0.3333333333333333,\"#9c179e\"],[0.4444444444444444,\"#bd3786\"],[0.5555555555555556,\"#d8576b\"],[0.6666666666666666,\"#ed7953\"],[0.7777777777777778,\"#fb9f3a\"],[0.8888888888888888,\"#fdca26\"],[1.0,\"#f0f921\"]],\"type\":\"contour\"}],\"contourcarpet\":[{\"colorbar\":{\"outlinewidth\":0,\"ticks\":\"\"},\"type\":\"contourcarpet\"}],\"heatmap\":[{\"colorbar\":{\"outlinewidth\":0,\"ticks\":\"\"},\"colorscale\":[[0.0,\"#0d0887\"],[0.1111111111111111,\"#46039f\"],[0.2222222222222222,\"#7201a8\"],[0.3333333333333333,\"#9c179e\"],[0.4444444444444444,\"#bd3786\"],[0.5555555555555556,\"#d8576b\"],[0.6666666666666666,\"#ed7953\"],[0.7777777777777778,\"#fb9f3a\"],[0.8888888888888888,\"#fdca26\"],[1.0,\"#f0f921\"]],\"type\":\"heatmap\"}],\"heatmapgl\":[{\"colorbar\":{\"outlinewidth\":0,\"ticks\":\"\"},\"colorscale\":[[0.0,\"#0d0887\"],[0.1111111111111111,\"#46039f\"],[0.2222222222222222,\"#7201a8\"],[0.3333333333333333,\"#9c179e\"],[0.4444444444444444,\"#bd3786\"],[0.5555555555555556,\"#d8576b\"],[0.6666666666666666,\"#ed7953\"],[0.7777777777777778,\"#fb9f3a\"],[0.8888888888888888,\"#fdca26\"],[1.0,\"#f0f921\"]],\"type\":\"heatmapgl\"}],\"histogram\":[{\"marker\":{\"pattern\":{\"fillmode\":\"overlay\",\"size\":10,\"solidity\":0.2}},\"type\":\"histogram\"}],\"histogram2d\":[{\"colorbar\":{\"outlinewidth\":0,\"ticks\":\"\"},\"colorscale\":[[0.0,\"#0d0887\"],[0.1111111111111111,\"#46039f\"],[0.2222222222222222,\"#7201a8\"],[0.3333333333333333,\"#9c179e\"],[0.4444444444444444,\"#bd3786\"],[0.5555555555555556,\"#d8576b\"],[0.6666666666666666,\"#ed7953\"],[0.7777777777777778,\"#fb9f3a\"],[0.8888888888888888,\"#fdca26\"],[1.0,\"#f0f921\"]],\"type\":\"histogram2d\"}],\"histogram2dcontour\":[{\"colorbar\":{\"outlinewidth\":0,\"ticks\":\"\"},\"colorscale\":[[0.0,\"#0d0887\"],[0.1111111111111111,\"#46039f\"],[0.2222222222222222,\"#7201a8\"],[0.3333333333333333,\"#9c179e\"],[0.4444444444444444,\"#bd3786\"],[0.5555555555555556,\"#d8576b\"],[0.6666666666666666,\"#ed7953\"],[0.7777777777777778,\"#fb9f3a\"],[0.8888888888888888,\"#fdca26\"],[1.0,\"#f0f921\"]],\"type\":\"histogram2dcontour\"}],\"mesh3d\":[{\"colorbar\":{\"outlinewidth\":0,\"ticks\":\"\"},\"type\":\"mesh3d\"}],\"parcoords\":[{\"line\":{\"colorbar\":{\"outlinewidth\":0,\"ticks\":\"\"}},\"type\":\"parcoords\"}],\"pie\":[{\"automargin\":true,\"type\":\"pie\"}],\"scatter\":[{\"marker\":{\"colorbar\":{\"outlinewidth\":0,\"ticks\":\"\"}},\"type\":\"scatter\"}],\"scatter3d\":[{\"line\":{\"colorbar\":{\"outlinewidth\":0,\"ticks\":\"\"}},\"marker\":{\"colorbar\":{\"outlinewidth\":0,\"ticks\":\"\"}},\"type\":\"scatter3d\"}],\"scattercarpet\":[{\"marker\":{\"colorbar\":{\"outlinewidth\":0,\"ticks\":\"\"}},\"type\":\"scattercarpet\"}],\"scattergeo\":[{\"marker\":{\"colorbar\":{\"outlinewidth\":0,\"ticks\":\"\"}},\"type\":\"scattergeo\"}],\"scattergl\":[{\"marker\":{\"colorbar\":{\"outlinewidth\":0,\"ticks\":\"\"}},\"type\":\"scattergl\"}],\"scattermapbox\":[{\"marker\":{\"colorbar\":{\"outlinewidth\":0,\"ticks\":\"\"}},\"type\":\"scattermapbox\"}],\"scatterpolar\":[{\"marker\":{\"colorbar\":{\"outlinewidth\":0,\"ticks\":\"\"}},\"type\":\"scatterpolar\"}],\"scatterpolargl\":[{\"marker\":{\"colorbar\":{\"outlinewidth\":0,\"ticks\":\"\"}},\"type\":\"scatterpolargl\"}],\"scatterternary\":[{\"marker\":{\"colorbar\":{\"outlinewidth\":0,\"ticks\":\"\"}},\"type\":\"scatterternary\"}],\"surface\":[{\"colorbar\":{\"outlinewidth\":0,\"ticks\":\"\"},\"colorscale\":[[0.0,\"#0d0887\"],[0.1111111111111111,\"#46039f\"],[0.2222222222222222,\"#7201a8\"],[0.3333333333333333,\"#9c179e\"],[0.4444444444444444,\"#bd3786\"],[0.5555555555555556,\"#d8576b\"],[0.6666666666666666,\"#ed7953\"],[0.7777777777777778,\"#fb9f3a\"],[0.8888888888888888,\"#fdca26\"],[1.0,\"#f0f921\"]],\"type\":\"surface\"}],\"table\":[{\"cells\":{\"fill\":{\"color\":\"#EBF0F8\"},\"line\":{\"color\":\"white\"}},\"header\":{\"fill\":{\"color\":\"#C8D4E3\"},\"line\":{\"color\":\"white\"}},\"type\":\"table\"}]},\"layout\":{\"annotationdefaults\":{\"arrowcolor\":\"#2a3f5f\",\"arrowhead\":0,\"arrowwidth\":1},\"autotypenumbers\":\"strict\",\"coloraxis\":{\"colorbar\":{\"outlinewidth\":0,\"ticks\":\"\"}},\"colorscale\":{\"diverging\":[[0,\"#8e0152\"],[0.1,\"#c51b7d\"],[0.2,\"#de77ae\"],[0.3,\"#f1b6da\"],[0.4,\"#fde0ef\"],[0.5,\"#f7f7f7\"],[0.6,\"#e6f5d0\"],[0.7,\"#b8e186\"],[0.8,\"#7fbc41\"],[0.9,\"#4d9221\"],[1,\"#276419\"]],\"sequential\":[[0.0,\"#0d0887\"],[0.1111111111111111,\"#46039f\"],[0.2222222222222222,\"#7201a8\"],[0.3333333333333333,\"#9c179e\"],[0.4444444444444444,\"#bd3786\"],[0.5555555555555556,\"#d8576b\"],[0.6666666666666666,\"#ed7953\"],[0.7777777777777778,\"#fb9f3a\"],[0.8888888888888888,\"#fdca26\"],[1.0,\"#f0f921\"]],\"sequentialminus\":[[0.0,\"#0d0887\"],[0.1111111111111111,\"#46039f\"],[0.2222222222222222,\"#7201a8\"],[0.3333333333333333,\"#9c179e\"],[0.4444444444444444,\"#bd3786\"],[0.5555555555555556,\"#d8576b\"],[0.6666666666666666,\"#ed7953\"],[0.7777777777777778,\"#fb9f3a\"],[0.8888888888888888,\"#fdca26\"],[1.0,\"#f0f921\"]]},\"colorway\":[\"#636efa\",\"#EF553B\",\"#00cc96\",\"#ab63fa\",\"#FFA15A\",\"#19d3f3\",\"#FF6692\",\"#B6E880\",\"#FF97FF\",\"#FECB52\"],\"font\":{\"color\":\"#2a3f5f\"},\"geo\":{\"bgcolor\":\"white\",\"lakecolor\":\"white\",\"landcolor\":\"#E5ECF6\",\"showlakes\":true,\"showland\":true,\"subunitcolor\":\"white\"},\"hoverlabel\":{\"align\":\"left\"},\"hovermode\":\"closest\",\"mapbox\":{\"style\":\"light\"},\"paper_bgcolor\":\"white\",\"plot_bgcolor\":\"#E5ECF6\",\"polar\":{\"angularaxis\":{\"gridcolor\":\"white\",\"linecolor\":\"white\",\"ticks\":\"\"},\"bgcolor\":\"#E5ECF6\",\"radialaxis\":{\"gridcolor\":\"white\",\"linecolor\":\"white\",\"ticks\":\"\"}},\"scene\":{\"xaxis\":{\"backgroundcolor\":\"#E5ECF6\",\"gridcolor\":\"white\",\"gridwidth\":2,\"linecolor\":\"white\",\"showbackground\":true,\"ticks\":\"\",\"zerolinecolor\":\"white\"},\"yaxis\":{\"backgroundcolor\":\"#E5ECF6\",\"gridcolor\":\"white\",\"gridwidth\":2,\"linecolor\":\"white\",\"showbackground\":true,\"ticks\":\"\",\"zerolinecolor\":\"white\"},\"zaxis\":{\"backgroundcolor\":\"#E5ECF6\",\"gridcolor\":\"white\",\"gridwidth\":2,\"linecolor\":\"white\",\"showbackground\":true,\"ticks\":\"\",\"zerolinecolor\":\"white\"}},\"shapedefaults\":{\"line\":{\"color\":\"#2a3f5f\"}},\"ternary\":{\"aaxis\":{\"gridcolor\":\"white\",\"linecolor\":\"white\",\"ticks\":\"\"},\"baxis\":{\"gridcolor\":\"white\",\"linecolor\":\"white\",\"ticks\":\"\"},\"bgcolor\":\"#E5ECF6\",\"caxis\":{\"gridcolor\":\"white\",\"linecolor\":\"white\",\"ticks\":\"\"}},\"title\":{\"x\":0.05},\"xaxis\":{\"automargin\":true,\"gridcolor\":\"white\",\"linecolor\":\"white\",\"ticks\":\"\",\"title\":{\"standoff\":15},\"zerolinecolor\":\"white\",\"zerolinewidth\":2},\"yaxis\":{\"automargin\":true,\"gridcolor\":\"white\",\"linecolor\":\"white\",\"ticks\":\"\",\"title\":{\"standoff\":15},\"zerolinecolor\":\"white\",\"zerolinewidth\":2}}},\"xaxis\":{\"anchor\":\"y\",\"constrain\":\"domain\",\"domain\":[0.0,1.0],\"range\":[-1.1,1.1],\"title\":{\"text\":\"pm1\"}},\"yaxis\":{\"anchor\":\"x\",\"domain\":[0.0,1.0],\"scaleanchor\":\"x\",\"scaleratio\":1,\"title\":{\"text\":\"pm2\"}},\"yaxis2\":{\"layer\":\"below traces\",\"matches\":\"y\",\"overlaying\":\"y\"}},                        {\"responsive\": true}                    ).then(function(){\n",
       "                            \n",
       "var gd = document.getElementById('09e4ed87-9b9b-4463-8434-dd4f03811544');\n",
       "var x = new MutationObserver(function (mutations, observer) {{\n",
       "        var display = window.getComputedStyle(gd).display;\n",
       "        if (!display || display === 'none') {{\n",
       "            console.log([gd, 'removed!']);\n",
       "            Plotly.purge(gd);\n",
       "            observer.disconnect();\n",
       "        }}\n",
       "}});\n",
       "\n",
       "// Listen for the removal of the full notebook cells\n",
       "var notebookContainer = gd.closest('#notebook-container');\n",
       "if (notebookContainer) {{\n",
       "    x.observe(notebookContainer, {childList: true});\n",
       "}}\n",
       "\n",
       "// Listen for the clearing of the current output cell\n",
       "var outputEl = gd.closest('.output');\n",
       "if (outputEl) {{\n",
       "    x.observe(outputEl, {childList: true});\n",
       "}}\n",
       "\n",
       "                        })                };                });            </script>        </div>"
      ]
     },
     "metadata": {},
     "output_type": "display_data"
    }
   ],
   "source": [
    "trace1 = plot_embedding_interactive(df, \n",
    "                                    labels_name = 'tree3',#'1_Group',#'2_Gene', \n",
    "                                    show_text=True,\n",
    "                                    labels_text = ['PIK3R4']\n",
    "                              )\n",
    "trace1.show()"
   ]
  },
  {
   "cell_type": "code",
   "execution_count": null,
   "id": "10778078",
   "metadata": {},
   "outputs": [],
   "source": []
  }
 ],
 "metadata": {
  "kernelspec": {
   "display_name": "msa",
   "language": "python",
   "name": "msa"
  },
  "language_info": {
   "codemirror_mode": {
    "name": "ipython",
    "version": 3
   },
   "file_extension": ".py",
   "mimetype": "text/x-python",
   "name": "python",
   "nbconvert_exporter": "python",
   "pygments_lexer": "ipython3",
   "version": "3.7.9"
  }
 },
 "nbformat": 4,
 "nbformat_minor": 5
}
