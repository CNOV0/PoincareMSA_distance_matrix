{
  "cells": [
    {
      "cell_type": "markdown",
      "metadata": {
        "id": "view-in-github",
        "colab_type": "text"
      },
      "source": [
        "<a href=\"https://colab.research.google.com/github/klanita/PoincareMSA/blob/master/PoincareMSA_colab_Tatiana2.ipynb\" target=\"_parent\"><img src=\"https://colab.research.google.com/assets/colab-badge.svg\" alt=\"Open In Colab\"/></a>"
      ]
    },
    {
      "cell_type": "markdown",
      "metadata": {
        "id": "W5FTaqy0xqw2"
      },
      "source": [
        "<img src=\"https://github.com/klanita/PoincareMSA/blob/master/.github/PoincareMSA_small_logo.png?raw=true\" height=\"100\" style=\"height:100px;margin-left: 0px;\">\n",
        "\n",
        "# Poincaré maps for visualization of large protein famillies\n",
        "\n",
        "PoincareMSA builds an interactive projection of an input protein multiple sequence alignemnt (MSA) using a method based on Poincaré maps described by Klimovskaia et al [1]. It reproduces both local proximities of protein sequences and hierarchy contained in give data. Thus, sequences located closer to the center of projection correspond to the proteins sharing the most general functional properites and/or appearing at the earlier stages of evolution. Source code is available at https://github.com/klanita/PoincareMSA.\n",
        "\n",
        "[1] Klimovskaia, A., Lopez-Paz, D., Bottou, L. et al. Poincaré maps for analyzing complex hierarchies in single-cell data. Nat Commun 11, 2966 (2020)."
      ]
    },
    {
      "cell_type": "markdown",
      "metadata": {
        "id": "Oa7Rrq-YzfQB"
      },
      "source": [
        "# Notebook initialization"
      ]
    },
    {
      "cell_type": "code",
      "execution_count": 1,
      "metadata": {
        "cellView": "form",
        "colab": {
          "base_uri": "https://localhost:8080/"
        },
        "id": "X_SO37g-kQq7",
        "outputId": "3d5c9774-b2ff-4688-ac1e-d41108aeffed"
      },
      "outputs": [
        {
          "output_type": "stream",
          "name": "stdout",
          "text": [
            "1. Load PoincaréMSA Github repository\n",
            "fatal: destination path 'PoincareMSA' already exists and is not an empty directory.\n",
            "/content/PoincareMSA\n",
            "\n",
            "Using device: cuda\n",
            "\n",
            "2. Install dependencies\n",
            "Looking in indexes: https://pypi.org/simple, https://us-python.pkg.dev/colab-wheels/public/simple/\n",
            "Requirement already satisfied: adjustText in /usr/local/lib/python3.7/dist-packages (0.7.3)\n",
            "Requirement already satisfied: numpy in /usr/local/lib/python3.7/dist-packages (from adjustText) (1.21.6)\n",
            "Requirement already satisfied: matplotlib in /usr/local/lib/python3.7/dist-packages (from adjustText) (3.2.2)\n",
            "Requirement already satisfied: python-dateutil>=2.1 in /usr/local/lib/python3.7/dist-packages (from matplotlib->adjustText) (2.8.2)\n",
            "Requirement already satisfied: cycler>=0.10 in /usr/local/lib/python3.7/dist-packages (from matplotlib->adjustText) (0.11.0)\n",
            "Requirement already satisfied: pyparsing!=2.0.4,!=2.1.2,!=2.1.6,>=2.0.1 in /usr/local/lib/python3.7/dist-packages (from matplotlib->adjustText) (3.0.9)\n",
            "Requirement already satisfied: kiwisolver>=1.0.1 in /usr/local/lib/python3.7/dist-packages (from matplotlib->adjustText) (1.4.4)\n",
            "Requirement already satisfied: typing-extensions in /usr/local/lib/python3.7/dist-packages (from kiwisolver>=1.0.1->matplotlib->adjustText) (4.1.1)\n",
            "Requirement already satisfied: six>=1.5 in /usr/local/lib/python3.7/dist-packages (from python-dateutil>=2.1->matplotlib->adjustText) (1.15.0)\n",
            "Looking in indexes: https://pypi.org/simple, https://us-python.pkg.dev/colab-wheels/public/simple/\n",
            "Requirement already satisfied: kaleido in /usr/local/lib/python3.7/dist-packages (0.2.1)\n"
          ]
        }
      ],
      "source": [
        "#@title ### Load PoincaréMSA Github repository & install dependencies\n",
        "print(\"1. Load PoincaréMSA Github repository\")\n",
        "import os\n",
        "if os.getcwd() == \"/content\":\n",
        "    !git clone https://github.com/klanita/PoincareMSA.git\n",
        "    %cd PoincareMSA\n",
        "\n",
        "# Check if the GPU is activated\n",
        "import torch\n",
        "device = torch.device('cuda' if torch.cuda.is_available() else 'cpu')\n",
        "\n",
        "print('\\nUsing device:', device)\n",
        "\n",
        "#Install missing module\n",
        "print(\"\\n2. Install dependencies\")\n",
        "!pip install adjustText\n",
        "!pip install -U kaleido\n",
        "\n",
        "import numpy as np\n",
        "import pandas as pd\n",
        "import warnings\n",
        "warnings.filterwarnings('ignore')\n",
        "\n",
        "#File import\n",
        "from google.colab import files\n",
        "import io\n",
        "\n",
        "#Import visualization functions\n",
        "from scripts.visualize_projection.pplots_new import read_embeddings, plot_embedding, plot_embedding_interactive, rotate, get_colors\n",
        "%matplotlib inline\n",
        "\n",
        "#Create optional variables\n",
        "path_annotation = \"\""
      ]
    },
    {
      "cell_type": "markdown",
      "metadata": {
        "id": "IPi6cky3wgC8"
      },
      "source": [
        "# Data upload"
      ]
    },
    {
      "cell_type": "code",
      "execution_count": 2,
      "metadata": {
        "cellView": "form",
        "colab": {
          "base_uri": "https://localhost:8080/",
          "height": 107
        },
        "id": "GcbgnooHwIGh",
        "outputId": "e87fe466-50aa-4664-ba2c-914d9ea0aee8"
      },
      "outputs": [
        {
          "output_type": "display_data",
          "data": {
            "text/plain": [
              "<IPython.core.display.HTML object>"
            ],
            "text/html": [
              "\n",
              "     <input type=\"file\" id=\"files-8732d035-f03f-4256-bbe7-ad1d3c86dc11\" name=\"files[]\" multiple disabled\n",
              "        style=\"border:none\" />\n",
              "     <output id=\"result-8732d035-f03f-4256-bbe7-ad1d3c86dc11\">\n",
              "      Upload widget is only available when the cell has been executed in the\n",
              "      current browser session. Please rerun this cell to enable.\n",
              "      </output>\n",
              "      <script>// Copyright 2017 Google LLC\n",
              "//\n",
              "// Licensed under the Apache License, Version 2.0 (the \"License\");\n",
              "// you may not use this file except in compliance with the License.\n",
              "// You may obtain a copy of the License at\n",
              "//\n",
              "//      http://www.apache.org/licenses/LICENSE-2.0\n",
              "//\n",
              "// Unless required by applicable law or agreed to in writing, software\n",
              "// distributed under the License is distributed on an \"AS IS\" BASIS,\n",
              "// WITHOUT WARRANTIES OR CONDITIONS OF ANY KIND, either express or implied.\n",
              "// See the License for the specific language governing permissions and\n",
              "// limitations under the License.\n",
              "\n",
              "/**\n",
              " * @fileoverview Helpers for google.colab Python module.\n",
              " */\n",
              "(function(scope) {\n",
              "function span(text, styleAttributes = {}) {\n",
              "  const element = document.createElement('span');\n",
              "  element.textContent = text;\n",
              "  for (const key of Object.keys(styleAttributes)) {\n",
              "    element.style[key] = styleAttributes[key];\n",
              "  }\n",
              "  return element;\n",
              "}\n",
              "\n",
              "// Max number of bytes which will be uploaded at a time.\n",
              "const MAX_PAYLOAD_SIZE = 100 * 1024;\n",
              "\n",
              "function _uploadFiles(inputId, outputId) {\n",
              "  const steps = uploadFilesStep(inputId, outputId);\n",
              "  const outputElement = document.getElementById(outputId);\n",
              "  // Cache steps on the outputElement to make it available for the next call\n",
              "  // to uploadFilesContinue from Python.\n",
              "  outputElement.steps = steps;\n",
              "\n",
              "  return _uploadFilesContinue(outputId);\n",
              "}\n",
              "\n",
              "// This is roughly an async generator (not supported in the browser yet),\n",
              "// where there are multiple asynchronous steps and the Python side is going\n",
              "// to poll for completion of each step.\n",
              "// This uses a Promise to block the python side on completion of each step,\n",
              "// then passes the result of the previous step as the input to the next step.\n",
              "function _uploadFilesContinue(outputId) {\n",
              "  const outputElement = document.getElementById(outputId);\n",
              "  const steps = outputElement.steps;\n",
              "\n",
              "  const next = steps.next(outputElement.lastPromiseValue);\n",
              "  return Promise.resolve(next.value.promise).then((value) => {\n",
              "    // Cache the last promise value to make it available to the next\n",
              "    // step of the generator.\n",
              "    outputElement.lastPromiseValue = value;\n",
              "    return next.value.response;\n",
              "  });\n",
              "}\n",
              "\n",
              "/**\n",
              " * Generator function which is called between each async step of the upload\n",
              " * process.\n",
              " * @param {string} inputId Element ID of the input file picker element.\n",
              " * @param {string} outputId Element ID of the output display.\n",
              " * @return {!Iterable<!Object>} Iterable of next steps.\n",
              " */\n",
              "function* uploadFilesStep(inputId, outputId) {\n",
              "  const inputElement = document.getElementById(inputId);\n",
              "  inputElement.disabled = false;\n",
              "\n",
              "  const outputElement = document.getElementById(outputId);\n",
              "  outputElement.innerHTML = '';\n",
              "\n",
              "  const pickedPromise = new Promise((resolve) => {\n",
              "    inputElement.addEventListener('change', (e) => {\n",
              "      resolve(e.target.files);\n",
              "    });\n",
              "  });\n",
              "\n",
              "  const cancel = document.createElement('button');\n",
              "  inputElement.parentElement.appendChild(cancel);\n",
              "  cancel.textContent = 'Cancel upload';\n",
              "  const cancelPromise = new Promise((resolve) => {\n",
              "    cancel.onclick = () => {\n",
              "      resolve(null);\n",
              "    };\n",
              "  });\n",
              "\n",
              "  // Wait for the user to pick the files.\n",
              "  const files = yield {\n",
              "    promise: Promise.race([pickedPromise, cancelPromise]),\n",
              "    response: {\n",
              "      action: 'starting',\n",
              "    }\n",
              "  };\n",
              "\n",
              "  cancel.remove();\n",
              "\n",
              "  // Disable the input element since further picks are not allowed.\n",
              "  inputElement.disabled = true;\n",
              "\n",
              "  if (!files) {\n",
              "    return {\n",
              "      response: {\n",
              "        action: 'complete',\n",
              "      }\n",
              "    };\n",
              "  }\n",
              "\n",
              "  for (const file of files) {\n",
              "    const li = document.createElement('li');\n",
              "    li.append(span(file.name, {fontWeight: 'bold'}));\n",
              "    li.append(span(\n",
              "        `(${file.type || 'n/a'}) - ${file.size} bytes, ` +\n",
              "        `last modified: ${\n",
              "            file.lastModifiedDate ? file.lastModifiedDate.toLocaleDateString() :\n",
              "                                    'n/a'} - `));\n",
              "    const percent = span('0% done');\n",
              "    li.appendChild(percent);\n",
              "\n",
              "    outputElement.appendChild(li);\n",
              "\n",
              "    const fileDataPromise = new Promise((resolve) => {\n",
              "      const reader = new FileReader();\n",
              "      reader.onload = (e) => {\n",
              "        resolve(e.target.result);\n",
              "      };\n",
              "      reader.readAsArrayBuffer(file);\n",
              "    });\n",
              "    // Wait for the data to be ready.\n",
              "    let fileData = yield {\n",
              "      promise: fileDataPromise,\n",
              "      response: {\n",
              "        action: 'continue',\n",
              "      }\n",
              "    };\n",
              "\n",
              "    // Use a chunked sending to avoid message size limits. See b/62115660.\n",
              "    let position = 0;\n",
              "    do {\n",
              "      const length = Math.min(fileData.byteLength - position, MAX_PAYLOAD_SIZE);\n",
              "      const chunk = new Uint8Array(fileData, position, length);\n",
              "      position += length;\n",
              "\n",
              "      const base64 = btoa(String.fromCharCode.apply(null, chunk));\n",
              "      yield {\n",
              "        response: {\n",
              "          action: 'append',\n",
              "          file: file.name,\n",
              "          data: base64,\n",
              "        },\n",
              "      };\n",
              "\n",
              "      let percentDone = fileData.byteLength === 0 ?\n",
              "          100 :\n",
              "          Math.round((position / fileData.byteLength) * 100);\n",
              "      percent.textContent = `${percentDone}% done`;\n",
              "\n",
              "    } while (position < fileData.byteLength);\n",
              "  }\n",
              "\n",
              "  // All done.\n",
              "  yield {\n",
              "    response: {\n",
              "      action: 'complete',\n",
              "    }\n",
              "  };\n",
              "}\n",
              "\n",
              "scope.google = scope.google || {};\n",
              "scope.google.colab = scope.google.colab || {};\n",
              "scope.google.colab._files = {\n",
              "  _uploadFiles,\n",
              "  _uploadFilesContinue,\n",
              "};\n",
              "})(self);\n",
              "</script> "
            ]
          },
          "metadata": {}
        },
        {
          "output_type": "stream",
          "name": "stdout",
          "text": [
            "Saving kinases.mfasta to kinases (2).mfasta\n",
            "\n",
            "Number of sequences found: 497.\n"
          ]
        }
      ],
      "source": [
        "#@title ### Upload MSA in mfasta format\n",
        "uploaded = files.upload()\n",
        "mfasta = next(iter(uploaded))\n",
        "\n",
        "nb_seq = 0\n",
        "with open(mfasta, \"r\") as f_in:\n",
        "    for line in f_in:\n",
        "        if line[0] == \">\":\n",
        "            nb_seq += 1\n",
        "\n",
        "print(f\"\\nNumber of sequences found: {nb_seq}.\")"
      ]
    },
    {
      "cell_type": "code",
      "execution_count": 3,
      "metadata": {
        "cellView": "form",
        "colab": {
          "base_uri": "https://localhost:8080/",
          "height": 145
        },
        "id": "PiSnW5GO01Jd",
        "outputId": "1aecf736-e5ea-47b4-c3bf-fe2a92cb31a7"
      },
      "outputs": [
        {
          "output_type": "display_data",
          "data": {
            "text/plain": [
              "<IPython.core.display.HTML object>"
            ],
            "text/html": [
              "\n",
              "     <input type=\"file\" id=\"files-3af12071-dba1-40a1-a55b-1f3ac6ac05ad\" name=\"files[]\" multiple disabled\n",
              "        style=\"border:none\" />\n",
              "     <output id=\"result-3af12071-dba1-40a1-a55b-1f3ac6ac05ad\">\n",
              "      Upload widget is only available when the cell has been executed in the\n",
              "      current browser session. Please rerun this cell to enable.\n",
              "      </output>\n",
              "      <script>// Copyright 2017 Google LLC\n",
              "//\n",
              "// Licensed under the Apache License, Version 2.0 (the \"License\");\n",
              "// you may not use this file except in compliance with the License.\n",
              "// You may obtain a copy of the License at\n",
              "//\n",
              "//      http://www.apache.org/licenses/LICENSE-2.0\n",
              "//\n",
              "// Unless required by applicable law or agreed to in writing, software\n",
              "// distributed under the License is distributed on an \"AS IS\" BASIS,\n",
              "// WITHOUT WARRANTIES OR CONDITIONS OF ANY KIND, either express or implied.\n",
              "// See the License for the specific language governing permissions and\n",
              "// limitations under the License.\n",
              "\n",
              "/**\n",
              " * @fileoverview Helpers for google.colab Python module.\n",
              " */\n",
              "(function(scope) {\n",
              "function span(text, styleAttributes = {}) {\n",
              "  const element = document.createElement('span');\n",
              "  element.textContent = text;\n",
              "  for (const key of Object.keys(styleAttributes)) {\n",
              "    element.style[key] = styleAttributes[key];\n",
              "  }\n",
              "  return element;\n",
              "}\n",
              "\n",
              "// Max number of bytes which will be uploaded at a time.\n",
              "const MAX_PAYLOAD_SIZE = 100 * 1024;\n",
              "\n",
              "function _uploadFiles(inputId, outputId) {\n",
              "  const steps = uploadFilesStep(inputId, outputId);\n",
              "  const outputElement = document.getElementById(outputId);\n",
              "  // Cache steps on the outputElement to make it available for the next call\n",
              "  // to uploadFilesContinue from Python.\n",
              "  outputElement.steps = steps;\n",
              "\n",
              "  return _uploadFilesContinue(outputId);\n",
              "}\n",
              "\n",
              "// This is roughly an async generator (not supported in the browser yet),\n",
              "// where there are multiple asynchronous steps and the Python side is going\n",
              "// to poll for completion of each step.\n",
              "// This uses a Promise to block the python side on completion of each step,\n",
              "// then passes the result of the previous step as the input to the next step.\n",
              "function _uploadFilesContinue(outputId) {\n",
              "  const outputElement = document.getElementById(outputId);\n",
              "  const steps = outputElement.steps;\n",
              "\n",
              "  const next = steps.next(outputElement.lastPromiseValue);\n",
              "  return Promise.resolve(next.value.promise).then((value) => {\n",
              "    // Cache the last promise value to make it available to the next\n",
              "    // step of the generator.\n",
              "    outputElement.lastPromiseValue = value;\n",
              "    return next.value.response;\n",
              "  });\n",
              "}\n",
              "\n",
              "/**\n",
              " * Generator function which is called between each async step of the upload\n",
              " * process.\n",
              " * @param {string} inputId Element ID of the input file picker element.\n",
              " * @param {string} outputId Element ID of the output display.\n",
              " * @return {!Iterable<!Object>} Iterable of next steps.\n",
              " */\n",
              "function* uploadFilesStep(inputId, outputId) {\n",
              "  const inputElement = document.getElementById(inputId);\n",
              "  inputElement.disabled = false;\n",
              "\n",
              "  const outputElement = document.getElementById(outputId);\n",
              "  outputElement.innerHTML = '';\n",
              "\n",
              "  const pickedPromise = new Promise((resolve) => {\n",
              "    inputElement.addEventListener('change', (e) => {\n",
              "      resolve(e.target.files);\n",
              "    });\n",
              "  });\n",
              "\n",
              "  const cancel = document.createElement('button');\n",
              "  inputElement.parentElement.appendChild(cancel);\n",
              "  cancel.textContent = 'Cancel upload';\n",
              "  const cancelPromise = new Promise((resolve) => {\n",
              "    cancel.onclick = () => {\n",
              "      resolve(null);\n",
              "    };\n",
              "  });\n",
              "\n",
              "  // Wait for the user to pick the files.\n",
              "  const files = yield {\n",
              "    promise: Promise.race([pickedPromise, cancelPromise]),\n",
              "    response: {\n",
              "      action: 'starting',\n",
              "    }\n",
              "  };\n",
              "\n",
              "  cancel.remove();\n",
              "\n",
              "  // Disable the input element since further picks are not allowed.\n",
              "  inputElement.disabled = true;\n",
              "\n",
              "  if (!files) {\n",
              "    return {\n",
              "      response: {\n",
              "        action: 'complete',\n",
              "      }\n",
              "    };\n",
              "  }\n",
              "\n",
              "  for (const file of files) {\n",
              "    const li = document.createElement('li');\n",
              "    li.append(span(file.name, {fontWeight: 'bold'}));\n",
              "    li.append(span(\n",
              "        `(${file.type || 'n/a'}) - ${file.size} bytes, ` +\n",
              "        `last modified: ${\n",
              "            file.lastModifiedDate ? file.lastModifiedDate.toLocaleDateString() :\n",
              "                                    'n/a'} - `));\n",
              "    const percent = span('0% done');\n",
              "    li.appendChild(percent);\n",
              "\n",
              "    outputElement.appendChild(li);\n",
              "\n",
              "    const fileDataPromise = new Promise((resolve) => {\n",
              "      const reader = new FileReader();\n",
              "      reader.onload = (e) => {\n",
              "        resolve(e.target.result);\n",
              "      };\n",
              "      reader.readAsArrayBuffer(file);\n",
              "    });\n",
              "    // Wait for the data to be ready.\n",
              "    let fileData = yield {\n",
              "      promise: fileDataPromise,\n",
              "      response: {\n",
              "        action: 'continue',\n",
              "      }\n",
              "    };\n",
              "\n",
              "    // Use a chunked sending to avoid message size limits. See b/62115660.\n",
              "    let position = 0;\n",
              "    do {\n",
              "      const length = Math.min(fileData.byteLength - position, MAX_PAYLOAD_SIZE);\n",
              "      const chunk = new Uint8Array(fileData, position, length);\n",
              "      position += length;\n",
              "\n",
              "      const base64 = btoa(String.fromCharCode.apply(null, chunk));\n",
              "      yield {\n",
              "        response: {\n",
              "          action: 'append',\n",
              "          file: file.name,\n",
              "          data: base64,\n",
              "        },\n",
              "      };\n",
              "\n",
              "      let percentDone = fileData.byteLength === 0 ?\n",
              "          100 :\n",
              "          Math.round((position / fileData.byteLength) * 100);\n",
              "      percent.textContent = `${percentDone}% done`;\n",
              "\n",
              "    } while (position < fileData.byteLength);\n",
              "  }\n",
              "\n",
              "  // All done.\n",
              "  yield {\n",
              "    response: {\n",
              "      action: 'complete',\n",
              "    }\n",
              "  };\n",
              "}\n",
              "\n",
              "scope.google = scope.google || {};\n",
              "scope.google.colab = scope.google.colab || {};\n",
              "scope.google.colab._files = {\n",
              "  _uploadFiles,\n",
              "  _uploadFilesContinue,\n",
              "};\n",
              "})(self);\n",
              "</script> "
            ]
          },
          "metadata": {}
        },
        {
          "output_type": "stream",
          "name": "stdout",
          "text": [
            "Saving kinase_group_new.csv to kinase_group_new (2).csv\n",
            "\n",
            "Annotation file correctly loaded.\n",
            "18 annotations found: ['proteins_id', '1_Group', '2_Gene', '3_HGNC', '4_Uni_entry', '5_Uni_acc', '6_Domain_begin', '7_Domain_end', '8_Domain_length', '9_Largest_insert_length', '10_PDB_validation', '11_Conformational_state', '12_Dihedral_state', '13_Group_in_Uni', '14_Group_in_Manning', '15_Synonymn', 'evo_distance', 'decile_domain'].\n"
          ]
        }
      ],
      "source": [
        "#@title ### Upload annotation file (optional)\n",
        "uploaded = files.upload()\n",
        "path_annotation = next(iter(uploaded))\n",
        "try:\n",
        "    df_annotation = pd.read_csv(path_annotation)\n",
        "    if len(df_annotation) != nb_seq:\n",
        "        raise ValueError(\"Annotation file doesn't match the .mfasta file length.\")\n",
        "except:\n",
        "    raise ValueError(\"Annotation file is not in .csv format.\")\n",
        "\n",
        "print(\"\\nAnnotation file correctly loaded.\")\n",
        "annotation_names = list(df_annotation.columns)\n",
        "print(f\"{len(annotation_names)} annotations found: {annotation_names}.\")"
      ]
    },
    {
      "cell_type": "markdown",
      "metadata": {
        "id": "_H2vnIt_3kUz"
      },
      "source": [
        "# Data preparation\n",
        "Here we clean the input .mfasta alignment and translate each sequence to a vector ready for projection."
      ]
    },
    {
      "cell_type": "code",
      "execution_count": 4,
      "metadata": {
        "cellView": "form",
        "id": "9hLq_MgX6hFC",
        "outputId": "2883f1bf-1d53-48f2-8eae-208d2a2f9050",
        "colab": {
          "base_uri": "https://localhost:8080/"
        }
      },
      "outputs": [
        {
          "output_type": "stream",
          "name": "stdout",
          "text": [
            "1. Data preparation\n",
            "Input file: kinases.mfasta\n",
            "Name of the protein family: kinases\n",
            "23923 X aa replaced by gaps in 497 sequences\n",
            "filter_gaps finished for kinases.mfasta\n",
            "mfasta2fasta finished for poincareMSA/poincareMSA.clean0.9.mfasta\n",
            "23923 X aa replaced by gaps in 497 sequences\n"
          ]
        }
      ],
      "source": [
        "#@title ## Parameters for data preparation\n",
        "#@markdown ### Job name\n",
        "#@markdown Name for the output folder\n",
        "out_name = \"poincareMSA\" #@param {type:\"string\"}\n",
        "\n",
        "#@markdown ### Threshold for filtering gapped positions\n",
        "#@markdown Positions with proportion of gaps above the given threshold are removed from the alignment. If your alignment is very gapped, you may want to increase this value.\n",
        "gapth = 0.9 #@param {type:\"number\"}\n",
        "\n",
        "#@markdown ## Run data preparation\n",
        "#@markdown Data preparation consists in `.mfasta` cleaning according to a gap threshold and translation of each sequence to the PSSM profile.\n",
        "\n",
        "print(\"1. Data preparation\")\n",
        "prep_parameters = \"scripts/prepare_data\" + \" \" + mfasta + \" \" + out_name + \" \" + out_name + \" \" + str(gapth)\n",
        "bash_projection = \"bash scripts/prepare_data/create_projection.sh \" + prep_parameters\n",
        "!{bash_projection}"
      ]
    },
    {
      "cell_type": "markdown",
      "metadata": {
        "id": "Dv0lg4Jn-dfG"
      },
      "source": [
        "# Projection"
      ]
    },
    {
      "cell_type": "code",
      "execution_count": 10,
      "metadata": {
        "cellView": "form",
        "id": "B2_Cm3P9DJjD",
        "outputId": "2c48c319-44ed-4525-d2e2-d2a1ec398c97",
        "colab": {
          "base_uri": "https://localhost:8080/"
        }
      },
      "outputs": [
        {
          "output_type": "stream",
          "name": "stdout",
          "text": [
            "\n",
            "2. Data projection using Poincaré disk\n",
            "CUDA: True\n",
            "497 proteins found in folder poincareMSA/fasta0.9.\n",
            "No root detected\n",
            "Prepare data: tensor construction\n",
            "Prepare data: successfully terminated\n",
            "Computing laplacian...\n",
            "Laplacian computed in 0.09 sec\n",
            "Computing RFA...\n",
            "RFA computed in 0.02 sec\n",
            "Starting training...\n",
            "loss: 0.64566: 100%|████████████████████████| 1000/1000 [04:41<00:00,  3.55it/s]\n",
            "PM computed in 281.35 sec\n",
            "\n",
            "loss = 6.457e-01\n",
            "time = 4.692 min\n",
            "\n",
            "3. Format data for visualization\n"
          ]
        }
      ],
      "source": [
        "def set_seed(seed: int = 42) -> None:\n",
        "    np.random.seed(seed)\n",
        "    random.seed(seed)\n",
        "    torch.manual_seed(seed)\n",
        "    torch.cuda.manual_seed(seed)\n",
        "    # When running on the CuDNN backend, two further options must be set\n",
        "    torch.backends.cudnn.deterministic = True\n",
        "    torch.backends.cudnn.benchmark = False\n",
        "    # Set a fixed value for the hash seed\n",
        "    os.environ[\"PYTHONHASHSEED\"] = str(seed)\n",
        "    print(f\"Random seed set as {seed}\")\n",
        "\n",
        "#set_seed(0)\n",
        "\n",
        "#@title ### Projection parameters\n",
        "#@markdown Here you control different parameters of Poincaré maps. In our computational experiments the best results were achieved for the following values provided by default. The impact of different parameters is analyzed in the original paper [1].\n",
        "knn = 5 #@param {type:\"number\"}\n",
        "gamma = 2 #@param {type:\"number\"}\n",
        "sigma = 1 #@param {type:\"number\"}\n",
        "cospca = 0 #@param {type:\"number\"}\n",
        "batchs = 4 #@param {type:\"number\"}\n",
        "epochs = 1000 #@param {type:\"number\"}\n",
        "seed = 42 #@param {type:\"number\"}\n",
        "\n",
        "\n",
        "print(\"\\n2. Data projection using Poincaré disk\")\n",
        "#@markdown ## Building projection and preparing data for visualization\n",
        "#@markdown This step creates a projection of encoded sequences to a Poincaré disk.\n",
        "bash_pm = \"python3 \"+ \"scripts/build_poincare_map/main.py --input_path \" + out_name + \"/fasta\" + str(gapth) + \" --output_path \" + out_name + \"/projections/ --gamma \"+ str(gamma) +\" --pca \"+ str(cospca) + \" --epochs \"+ str(epochs) +\" --seed \"+ str(seed) + \" --knn \" + str(knn)\n",
        "!{bash_pm}\n"
      ]
    },
    {
      "cell_type": "markdown",
      "metadata": {
        "id": "gRxHHfjX7CHF"
      },
      "source": [
        "# Projection visualization"
      ]
    },
    {
      "cell_type": "code",
      "execution_count": 14,
      "metadata": {
        "cellView": "form",
        "colab": {
          "base_uri": "https://localhost:8080/"
        },
        "id": "hm_w-BlvTSVY",
        "outputId": "451b19c2-8d04-4c5d-ef6f-e67f52d8ec1d"
      },
      "outputs": [
        {
          "output_type": "stream",
          "name": "stdout",
          "text": [
            "18 annotations found: ['proteins_id', '1_Group', '2_Gene', '3_HGNC', '4_Uni_entry', '5_Uni_acc', '6_Domain_begin', '7_Domain_end', '8_Domain_length', '9_Largest_insert_length', '10_PDB_validation', '11_Conformational_state', '12_Dihedral_state', '13_Group_in_Uni', '14_Group_in_Manning', '15_Synonymn', 'evo_distance', 'decile_domain'].\n"
          ]
        }
      ],
      "source": [
        "#@title ### Prepare date for visualization\n",
        "#@markdown Check if the annotation file is provided and prepares a dataframe for visualization.\n",
        "\n",
        "#print(\"\\n3. Format data for visualization\")\n",
        "#Check that an annotation file was provided. Create a dummy one instead\n",
        "if not path_annotation:\n",
        "    df_annotation = pd.DataFrame(list(range(1,nb_seq+1)), columns=[\"id\"], dtype=\"float\")\n",
        "    df_annotation.to_csv(\"dummy_annotation.csv\", index=False)\n",
        "    path_annotation = \"dummy_annotation.csv\"\n",
        "    annotation_names = [\"id\"]\n",
        "\n",
        "#@markdown Here are different labels found in your annotation file (if one uploaded):\n",
        "\n",
        "path_embedding = f\"{out_name}/projections/PM{knn:1.0f}sigma={sigma:2.2f}gamma={gamma:2.2f}cosinepca={cospca:1.0f}_seed{seed:1.0f}.csv\"\n",
        "df_embedding = read_embeddings(path_embedding, path_annotation, withroot=False)\n",
        "print(f\"{len(annotation_names)} annotations found: {annotation_names}.\")\n",
        "# print(df_annotation.head())"
      ]
    },
    {
      "cell_type": "code",
      "execution_count": 12,
      "metadata": {
        "cellView": "form",
        "colab": {
          "base_uri": "https://localhost:8080/",
          "height": 817
        },
        "id": "zLb9h9S4eKUD",
        "outputId": "1b69723a-5015-4e23-d38b-12f708ce1422"
      },
      "outputs": [
        {
          "output_type": "display_data",
          "data": {
            "text/html": [
              "<html>\n",
              "<head><meta charset=\"utf-8\" /></head>\n",
              "<body>\n",
              "    <div>            <script src=\"https://cdnjs.cloudflare.com/ajax/libs/mathjax/2.7.5/MathJax.js?config=TeX-AMS-MML_SVG\"></script><script type=\"text/javascript\">if (window.MathJax) {MathJax.Hub.Config({SVG: {font: \"STIX-Web\"}});}</script>                <script type=\"text/javascript\">window.PlotlyConfig = {MathJaxConfig: 'local'};</script>\n",
              "        <script src=\"https://cdn.plot.ly/plotly-2.8.3.min.js\"></script>                <div id=\"151a5ed8-ddc2-4207-8b92-1d9dca65837b\" class=\"plotly-graph-div\" style=\"height:800px; width:100%;\"></div>            <script type=\"text/javascript\">                                    window.PLOTLYENV=window.PLOTLYENV || {};                                    if (document.getElementById(\"151a5ed8-ddc2-4207-8b92-1d9dca65837b\")) {                    Plotly.newPlot(                        \"151a5ed8-ddc2-4207-8b92-1d9dca65837b\",                        [{\"customdata\":[[\"AGC\",\"AKT1\",\"HGNC:391\",\"AKT1_HUMAN\",\"P31749\",150,408,259,9,\"6NPZB\",\"DFGin\",\"BLAminus\",\"AGC\",\"AGC\",\"PKB,RAC\",1.2082659799999995,2],[\"AGC\",\"AKT2\",\"HGNC:392\",\"AKT2_HUMAN\",\"P31751\",152,409,258,9,\"3E8DB\",\"DFGin\",\"BLAminus\",\"AGC\",\"AGC\",null,1.20831188,2],[\"AGC\",\"AKT3\",\"HGNC:393\",\"AKT3_HUMAN\",\"Q9Y243\",148,405,258,9,null,null,null,\"AGC\",\"AGC\",\"PKBG\",1.1834633399999996,2],[\"AGC\",\"CDC42BPA\",\"HGNC:1737\",\"MRCKA_HUMAN\",\"Q5VT25\",77,343,267,14,null,null,null,\"AGC\",\"AGC\",\"KIAA0451\",1.39911886,5],[\"AGC\",\"CDC42BPB\",\"HGNC:1738\",\"MRCKB_HUMAN\",\"Q9Y5S2\",76,342,267,14,\"5OTFA\",\"DFGin\",\"BLAminus\",\"AGC\",\"AGC\",\"KIAA1124\",1.40621273,5],[\"AGC\",\"CDC42BPG\",\"HGNC:29829\",\"MRCKG_HUMAN\",\"Q6DT37\",71,337,267,14,null,null,null,\"AGC\",\"AGC\",\"DMPK2\",1.40589533,5],[\"AGC\",\"CIT\",\"HGNC:1985\",\"CTRO_HUMAN\",\"O14578\",97,360,264,13,null,null,null,\"AGC\",\"AGC\",\"CRIK,KIAA0949,STK21\",1.53724126,4],[\"AGC\",\"DMPK\",\"HGNC:2933\",\"DMPK_HUMAN\",\"Q09013\",71,339,269,14,\"2VD5A\",\"DFGin\",\"BLAminus\",\"AGC\",\"AGC\",\"DM1PK,MDPK\",1.41225394,5],[\"AGC\",\"GRK1\",\"HGNC:10013\",\"GRK1_HUMAN\",\"Q15835\",190,455,266,9,null,null,null,\"AGC\",\"AGC\",\"RHOK\",1.60739569,5],[\"AGC\",\"GRK2\",\"HGNC:289\",\"ARBK1_HUMAN\",\"P25098\",191,453,263,9,\"5UVCA\",\"DFGin\",\"BLAminus\",\"AGC\",\"AGC\",\"ADRBK1,BARK,BARK1\",1.5647884,4],[\"AGC\",\"GRK3\",\"HGNC:290\",\"ARBK2_HUMAN\",\"P35626\",191,453,263,9,null,null,null,\"AGC\",\"AGC\",\"ADRBK2,BARK2\",1.57174179,4],[\"AGC\",\"GRK4\",\"HGNC:4543\",\"GRK4_HUMAN\",\"P32298\",187,449,263,9,\"4YHJB\",\"DFGin\",\"BLAminus\",\"AGC\",\"AGC\",\"GPRK2L,GPRK4\",1.56332706,4],[\"AGC\",\"GRK5\",\"HGNC:4544\",\"GRK5_HUMAN\",\"P34947\",186,448,263,9,\"4TNDA\",\"DFGin\",\"BLAminus\",\"AGC\",\"AGC\",\"GPRK5\",1.5746367799999998,4],[\"AGC\",\"GRK6\",\"HGNC:4545\",\"GRK6_HUMAN\",\"P43250\",186,448,263,9,\"2ACXA\",\"DFGin\",\"BLAminus\",\"AGC\",\"AGC\",\"GPRK6\",1.47702936,4],[\"AGC\",\"GRK7\",\"HGNC:17031\",\"GRK7_HUMAN\",\"Q8WTQ7\",191,454,264,10,null,null,null,\"AGC\",\"AGC\",\"GPRK7\",1.67021082,4],[\"AGC\",\"LATS1\",\"HGNC:6514\",\"LATS1_HUMAN\",\"O95835\",705,1010,306,48,null,null,null,\"AGC\",\"AGC\",\"WARTS\",1.2609807400000002,9],[\"AGC\",\"LATS2\",\"HGNC:6515\",\"LATS2_HUMAN\",\"Q9NRM7\",668,973,306,48,null,null,null,\"AGC\",\"AGC\",\"KPM\",1.26007137,9],[\"AGC\",\"MAST1\",\"HGNC:19034\",\"MAST1_HUMAN\",\"Q9Y2H9\",374,647,274,16,null,null,null,\"AGC\",\"AGC\",\"KIAA0973,SAST\",1.23394107,6],[\"AGC\",\"MAST2\",\"HGNC:19035\",\"MAST2_HUMAN\",\"Q6P0Q8\",512,785,274,16,null,null,null,\"AGC\",\"AGC\",\"KIAA0807,MAST205\",1.25017333,6],[\"AGC\",\"MAST3\",\"HGNC:19036\",\"MAST3_HUMAN\",\"O60307\",367,640,274,16,null,null,null,\"AGC\",\"AGC\",\"KIAA0561\",1.22755256,6],[\"AGC\",\"MAST4\",\"HGNC:19037\",\"MAST4_HUMAN\",\"O15021\",570,843,274,16,null,null,null,\"AGC\",\"AGC\",\"KIAA0303\",1.25000298,6],[\"AGC\",\"MASTL\",\"HGNC:19042\",\"GWL_HUMAN\",\"Q96GX5\",35,835,801,548,\"5LOHA\",\"DFGin\",\"BLAplus\",\"AGC\",\"AGC\",\"GW,GWL,THC2\",1.3154757,9],[\"AGC\",\"PDPK1\",\"HGNC:8816\",\"PDPK1_HUMAN\",\"O15530\",82,342,261,9,\"2BIYA\",\"DFGin\",\"BLAminus\",\"AGC\",\"AGC\",\"PDK1\",1.48434279,3],[\"AGC\",\"PDPK2P\",\"HGNC:49897\",\"PDPK2_HUMAN\",\"Q6A1A2\",55,315,261,9,null,null,null,\"AGC\",\"AGC\",\"PDPK2\",1.48434279,3],[\"AGC\",\"PKN1\",\"HGNC:9405\",\"PKN1_HUMAN\",\"Q16512\",615,874,260,9,\"4OTGA\",\"DFGin\",\"ABAminus\",\"AGC\",\"AGC\",\"PAK1,PKN,PRK1,PRKCL1\",1.34335487,3],[\"AGC\",\"PKN2\",\"HGNC:9406\",\"PKN2_HUMAN\",\"Q16513\",657,916,260,9,\"4CRSA\",\"DFGin\",\"BLAminus\",\"AGC\",\"AGC\",\"PRK2,PRKCL2\",1.3343051,3],[\"AGC\",\"PKN3\",\"HGNC:17999\",\"PKN3_HUMAN\",\"Q6P5Z2\",559,818,260,9,null,null,null,\"AGC\",\"AGC\",\"PKNBETA\",1.3670749599999998,3],[\"AGC\",\"PRKACA\",\"HGNC:9380\",\"KAPCA_HUMAN\",\"P17612\",44,298,255,9,\"6C0UA\",\"DFGin\",\"BLAminus\",\"AGC\",\"AGC\",\"PKACA\",1.20344294,1],[\"AGC\",\"PRKACB\",\"HGNC:9381\",\"KAPCB_HUMAN\",\"P22694\",44,298,255,9,null,null,null,\"AGC\",\"AGC\",null,1.19532194,1],[\"AGC\",\"PRKACG\",\"HGNC:9382\",\"KAPCG_HUMAN\",\"P22612\",44,298,255,9,null,null,null,\"AGC\",\"AGC\",null,1.27196559,1],[\"AGC\",\"PRKCA\",\"HGNC:9393\",\"KPCA_HUMAN\",\"P17252\",339,597,259,9,\"4RA4A\",\"DFGin\",\"BLAminus\",\"AGC\",\"AGC\",\"PKCA,PRKACA\",1.3734598999999998,2],[\"AGC\",\"PRKCB\",\"HGNC:9395\",\"KPCB_HUMAN\",\"P05771\",342,600,259,9,\"2I0EB\",\"DFGin\",\"BLAminus\",\"AGC\",\"AGC\",\"PKCB,PRKCB1\",1.37208023,2],[\"AGC\",\"PRKCD\",\"HGNC:9399\",\"KPCD_HUMAN\",\"Q05655\",349,603,255,9,null,null,null,\"AGC\",\"AGC\",null,1.35881565,1],[\"AGC\",\"PRKCE\",\"HGNC:9401\",\"KPCE_HUMAN\",\"Q02156\",408,668,261,9,null,null,null,\"AGC\",\"AGC\",\"PKCE\",1.3833837399999998,3],[\"AGC\",\"PRKCG\",\"HGNC:9402\",\"KPCG_HUMAN\",\"P05129\",351,614,264,9,null,null,null,\"AGC\",\"AGC\",\"PKCG\",1.3731301399999998,4],[\"AGC\",\"PRKCH\",\"HGNC:9403\",\"KPCL_HUMAN\",\"P24723\",355,614,260,9,\"3TXOA\",\"DFGin\",\"BLAminus\",\"AGC\",\"AGC\",\"PKCL,PRKCL\",1.3464662399999998,3],[\"AGC\",\"PRKCI\",\"HGNC:9404\",\"KPCI_HUMAN\",\"P41743\",254,522,269,9,\"3A8XA\",\"DFGin\",\"BLAminus\",\"AGC\",\"AGC\",\"DXS1179E\",1.5565790699999995,5],[\"AGC\",\"PRKCQ\",\"HGNC:9410\",\"KPCT_HUMAN\",\"Q04759\",380,634,255,9,\"5F9EB\",\"DFGin\",\"BLAminus\",\"AGC\",\"AGC\",\"PRKCT\",1.36337268,1],[\"AGC\",\"PRKCZ\",\"HGNC:9412\",\"KPCZ_HUMAN\",\"Q05513\",252,518,267,9,null,null,null,\"AGC\",\"AGC\",\"PKC2\",1.5558133399999996,5],[\"AGC\",\"PRKG1\",\"HGNC:9414\",\"KGP1_HUMAN\",\"Q13976\",360,619,260,11,\"6C0TA\",\"DFGin\",\"BLAminus\",\"AGC\",\"AGC\",\"PRKG1B,PRKGR1A,PRKGR1B\",1.40583935,3],[\"AGC\",\"PRKG2\",\"HGNC:9416\",\"KGP2_HUMAN\",\"Q13237\",453,711,259,11,null,null,null,\"AGC\",\"AGC\",\"PRKGR2\",1.47071698,2],[\"AGC\",\"PRKX\",\"HGNC:9441\",\"PRKX_HUMAN\",\"P51817\",49,303,255,9,null,null,null,\"AGC\",\"AGC\",\"PKX1\",1.27761823,1],[\"AGC\",\"PRKY\",\"HGNC:9444\",\"PRKY_HUMAN\",\"O43930\",49,277,229,9,null,null,null,\"AGC\",\"AGC\",null,1.31446264,0],[\"AGC\",\"ROCK1\",\"HGNC:10251\",\"ROCK1_HUMAN\",\"Q13464\",76,338,263,13,\"5WNED\",\"DFGin\",\"BLAminus\",\"AGC\",\"AGC\",null,1.30407702,4],[\"AGC\",\"ROCK2\",\"HGNC:10252\",\"ROCK2_HUMAN\",\"O75116\",92,354,263,13,\"5U7RB\",\"DFGin\",\"BLAminus\",\"AGC\",\"AGC\",\"KIAA0619\",1.31185723,4],[\"AGC\",\"RPS6KA1_1\",\"HGNC:10430\",\"KS6A1_HUMAN\",\"Q15418\",62,321,260,9,\"2Z7RA\",\"DFGin\",\"BLBplus\",\"AGC\",\"AGC\",\"MAPKAPK1A,RSK1\",1.20692159,3],[\"AGC\",\"RPS6KA2_1\",\"HGNC:10431\",\"KS6A2_HUMAN\",\"Q15349\",59,318,260,9,null,null,null,\"AGC\",\"AGC\",\"MAPKAPK1C,RSK3\",1.1764952700000002,3],[\"AGC\",\"RPS6KA3_1\",\"HGNC:10432\",\"KS6A3_HUMAN\",\"P51812\",68,327,260,9,\"4NW6A\",\"DFGin\",\"ABAminus\",\"AGC\",\"AGC\",\"ISPK1,MAPKAPK1B,RSK2\",1.17422595,3],[\"AGC\",\"RPS6KA4_1\",\"HGNC:10433\",\"KS6A4_HUMAN\",\"O75676\",33,301,269,10,null,null,null,\"AGC\",\"AGC\",\"MSK2\",1.2975739700000002,5],[\"AGC\",\"RPS6KA5_1\",\"HGNC:10434\",\"KS6A5_HUMAN\",\"O75582\",49,318,270,10,\"1VZOA\",\"DFGinter\",null,\"AGC\",\"AGC\",\"MSK1\",1.25367713,6],[\"AGC\",\"RPS6KA6_1\",\"HGNC:10435\",\"KS6A6_HUMAN\",\"Q9UK32\",73,330,258,9,\"6G78A\",\"DFGinter\",null,\"AGC\",\"AGC\",\"RSK4\",1.1986280100000002,2],[\"AGC\",\"RPS6KB1\",\"HGNC:10436\",\"KS6B1_HUMAN\",\"P23443\",91,352,262,10,\"3WF9A\",\"DFGin\",\"BLAminus\",\"AGC\",\"AGC\",\"STK14A\",1.13120125,4],[\"AGC\",\"RPS6KB2\",\"HGNC:10437\",\"KS6B2_HUMAN\",\"Q9UBS0\",67,328,262,10,null,null,null,\"AGC\",\"AGC\",\"STK14B\",1.12656611,4],[\"AGC\",\"RSKR\",\"HGNC:26314\",\"KS6R_HUMAN\",\"Q96LW2\",107,359,253,9,null,null,null,\"OTHER\",\"AGC\",\"SGK494\",1.39808932,1],[\"AGC\",\"SGK1\",\"HGNC:10810\",\"SGK1_HUMAN\",\"O00141\",98,355,258,9,\"3HDNA\",\"DFGinter\",null,\"AGC\",\"AGC\",\"SGK\",1.18607618,2],[\"AGC\",\"SGK2\",\"HGNC:13900\",\"SGK2_HUMAN\",\"Q9HBY8\",95,352,258,9,null,null,null,\"AGC\",\"AGC\",null,1.226932,2],[\"AGC\",\"SGK3\",\"HGNC:10812\",\"SGK3_HUMAN\",\"Q96BR1\",162,419,258,9,null,null,null,\"AGC\",\"AGC\",\"CISK,SGKL\",1.21076867,2],[\"AGC\",\"STK32A\",\"HGNC:28317\",\"ST32A_HUMAN\",\"Q8WU08\",23,281,259,9,\"4FR4F\",\"DFGin\",\"BLAminus\",\"OTHER\",\"AGC\",\"YANK1\",1.36548667,2],[\"AGC\",\"STK32B\",\"HGNC:14217\",\"ST32B_HUMAN\",\"Q9NY57\",23,283,261,9,null,null,null,\"OTHER\",\"AGC\",\"YANK2\",1.3514598599999998,3],[\"AGC\",\"STK32C\",\"HGNC:21332\",\"ST32C_HUMAN\",\"Q86UX6\",93,353,261,9,null,null,null,\"OTHER\",\"AGC\",\"YANK3\",1.35266984,3],[\"AGC\",\"STK38\",\"HGNC:17847\",\"STK38_HUMAN\",\"Q15208\",89,382,294,36,\"6BXIB\",\"DFGin\",null,\"AGC\",\"AGC\",\"NDR1\",1.25286544,8],[\"AGC\",\"STK38L\",\"HGNC:17848\",\"ST38L_HUMAN\",\"Q9Y2H1\",90,383,294,36,null,null,null,\"AGC\",\"AGC\",\"KIAA0965,NDR2\",1.26274988,8]],\"hovertemplate\":\"<b>%{hovertext}</b><br><br>1_Group=%{customdata[0]}<br>pm1=%{x}<br>pm2=%{y}<br>2_Gene=%{customdata[1]}<br>3_HGNC=%{customdata[2]}<br>4_Uni_entry=%{customdata[3]}<br>5_Uni_acc=%{customdata[4]}<br>6_Domain_begin=%{customdata[5]}<br>7_Domain_end=%{customdata[6]}<br>8_Domain_length=%{customdata[7]}<br>9_Largest_insert_length=%{customdata[8]}<br>10_PDB_validation=%{customdata[9]}<br>11_Conformational_state=%{customdata[10]}<br>12_Dihedral_state=%{customdata[11]}<br>13_Group_in_Uni=%{customdata[12]}<br>14_Group_in_Manning=%{customdata[13]}<br>15_Synonymn=%{customdata[14]}<br>evo_distance=%{customdata[15]}<br>decile_domain=%{customdata[16]}<extra></extra>\",\"hovertext\":[\"AGC\",\"AGC\",\"AGC\",\"AGC\",\"AGC\",\"AGC\",\"AGC\",\"AGC\",\"AGC\",\"AGC\",\"AGC\",\"AGC\",\"AGC\",\"AGC\",\"AGC\",\"AGC\",\"AGC\",\"AGC\",\"AGC\",\"AGC\",\"AGC\",\"AGC\",\"AGC\",\"AGC\",\"AGC\",\"AGC\",\"AGC\",\"AGC\",\"AGC\",\"AGC\",\"AGC\",\"AGC\",\"AGC\",\"AGC\",\"AGC\",\"AGC\",\"AGC\",\"AGC\",\"AGC\",\"AGC\",\"AGC\",\"AGC\",\"AGC\",\"AGC\",\"AGC\",\"AGC\",\"AGC\",\"AGC\",\"AGC\",\"AGC\",\"AGC\",\"AGC\",\"AGC\",\"AGC\",\"AGC\",\"AGC\",\"AGC\",\"AGC\",\"AGC\",\"AGC\",\"AGC\",\"AGC\"],\"legendgroup\":\"AGC\",\"marker\":{\"color\":\"#636efa\",\"symbol\":\"circle\"},\"mode\":\"markers\",\"name\":\"AGC\",\"orientation\":\"v\",\"showlegend\":true,\"x\":[0.72221166,0.7073661,0.6900583,0.27312627,0.27106613,0.26607206,0.26690903,0.2603065,0.50332123,0.501588,0.48815024,0.5002293,0.49442276,0.50734425,0.49370402,0.27454367,0.28235975,0.65166754,0.6246232,0.63327664,0.6505171,0.50603,0.7505536,0.74996287,0.79429334,0.80807346,0.76867783,0.73509157,0.7421606,0.71874464,0.82070976,0.81665885,0.7890965,0.81493706,0.8040161,0.81333417,0.832635,0.7958561,0.8344034,0.7414531,0.73344666,0.73301154,0.7265404,0.26108062,0.26457354,0.36766312,0.3878442,0.38755628,0.4661562,0.30011752,0.38137457,0.36472735,0.35178316,0.41760418,0.72590363,0.71105576,0.73569584,0.34986266,0.354007,0.3672247,0.28266022,0.27563804],\"xaxis\":\"x\",\"y\":[0.55150235,0.5579473,0.5447181,0.93507475,0.9296305,0.9355056,0.9406191,0.9358613,0.82161534,0.79450226,0.8055899,0.81195813,0.8150231,0.8115709,0.82355815,0.9190196,0.9278125,0.568593,0.5876085,0.54973865,0.58145094,0.64846146,0.57696646,0.58734316,0.4816658,0.48201284,0.49886563,0.60381275,0.60496914,0.61320007,0.4602908,0.4407651,0.4493726,0.45104587,0.44156277,0.42351022,0.43382275,0.46190315,0.44574538,0.6171825,0.6219851,0.61194676,0.6058193,0.9259678,0.92962164,0.706486,0.68949455,0.712883,0.7073896,0.70494133,0.65602714,0.68589187,0.6624752,0.7237451,0.57742584,0.57454157,0.5638137,0.7602461,0.7675824,0.763041,0.92082024,0.90699023],\"yaxis\":\"y\",\"type\":\"scatter\",\"textposition\":\"top right\"},{\"customdata\":[[\"CAMK\",\"AURKA\",\"HGNC:11393\",\"AURKA_HUMAN\",\"O14965\",133,383,251,9,\"6R4DA\",\"DFGin\",\"BLAminus\",\"OTHER\",\"OTHER\",\"AIK,AIRK1,ARK1,AURA,AYK1,BTAK,IAK1,STK15,STK6\",1.28151834,0],[\"CAMK\",\"AURKB\",\"HGNC:11390\",\"AURKB_HUMAN\",\"Q96GD4\",77,327,251,9,\"4AF3A\",\"DFGinter\",null,\"OTHER\",\"OTHER\",\"AIK2,AIM1,AIRK2,ARK2,STK1,STK12,STK5\",1.17671901,0],[\"CAMK\",\"AURKC\",\"HGNC:11391\",\"AURKC_HUMAN\",\"Q9UQB9\",43,293,251,9,\"6GR9A\",\"DFGin\",\"ABAminus\",\"OTHER\",\"OTHER\",\"AIE2,AIK3,AIRK3,ARK3,STK13\",1.12633323,0],[\"CAMK\",\"BRSK1\",\"HGNC:18994\",\"BRSK1_HUMAN\",\"Q8TDC3\",34,285,252,9,null,null,null,\"CAMK\",\"CAMK\",\"KIAA1811,SAD1,SADB\",1.08699564,0],[\"CAMK\",\"BRSK2\",\"HGNC:11405\",\"BRSK2_HUMAN\",\"Q8IWQ3\",19,270,252,9,null,null,null,\"CAMK\",\"CAMK\",\"C11orf7,PEN11B,SADA,STK29\",1.10099124,0],[\"CAMK\",\"CAMK1D\",\"HGNC:19341\",\"KCC1D_HUMAN\",\"Q8IU85\",23,279,257,13,\"2JC6C\",null,null,\"CAMK\",\"CAMK\",\"CAMKID\",0.70582661,2],[\"CAMK\",\"CAMK1G\",\"HGNC:14585\",\"KCC1G_HUMAN\",\"Q96NX5\",23,277,255,13,\"2JAMB\",\"DFGin\",null,\"CAMK\",\"CAMK\",\"CLICK3,VWS1\",0.7258048400000001,1],[\"CAMK\",\"CAMK1\",\"HGNC:1459\",\"KCC1A_HUMAN\",\"Q14012\",20,276,257,13,\"4FG7A\",\"DFGin\",\"BLAminus\",\"CAMK\",\"CAMK\",null,0.80493084,2],[\"CAMK\",\"CAMK2A\",\"HGNC:1460\",\"KCC2A_HUMAN\",\"Q9UQM7\",13,271,259,13,\"2VZ6B\",\"DFGin\",\"BLAminus\",\"CAMK\",\"CAMK\",\"CAMKA,KIAA0968\",0.7866696200000001,2],[\"CAMK\",\"CAMK2B\",\"HGNC:1461\",\"KCC2B_HUMAN\",\"Q13554\",14,272,259,13,\"3BHHB\",\"DFGin\",\"BLAminus\",\"CAMK\",\"CAMK\",\"CAM2,CAMK2,CAMKB\",0.77844828,2],[\"CAMK\",\"CAMK2D\",\"HGNC:1462\",\"KCC2D_HUMAN\",\"Q13557\",14,272,259,13,\"6AYWB\",\"DFGin\",\"BLAminus\",\"CAMK\",\"CAMK\",\"CAMKD\",0.7457546000000002,2],[\"CAMK\",\"CAMK2G\",\"HGNC:1463\",\"KCC2G_HUMAN\",\"Q13555\",14,272,259,13,\"2V7OA\",\"DFGin\",\"BLAminus\",\"CAMK\",\"CAMK\",\"CAMK,CAMK-II,CAMKG\",0.7621610400000001,2],[\"CAMK\",\"CAMK4\",\"HGNC:1464\",\"KCC4_HUMAN\",\"Q16566\",46,300,255,13,\"2W4OA\",null,null,\"CAMK\",\"CAMK\",\"CAMK,CAMK-GR,CAMKIV\",0.7369157900000001,1],[\"CAMK\",\"CAMKK1\",\"HGNC:1469\",\"KKCC1_HUMAN\",\"Q8N5S9\",128,409,282,32,\"6CD6A\",\"DFGin\",\"BLAminus\",\"OTHER\",\"OTHER\",\"CAMKKA\",1.26205349,7],[\"CAMK\",\"CAMKK2\",\"HGNC:1470\",\"KKCC2_HUMAN\",\"Q96RR4\",165,446,282,32,\"6CMJB\",\"DFGin\",\"BLAminus\",\"OTHER\",\"OTHER\",\"CAMKKB,KIAA0787\",1.19531724,7],[\"CAMK\",\"CAMKV\",\"HGNC:28788\",\"CAMKV_HUMAN\",\"Q8NCB2\",24,286,263,13,null,null,null,\"CAMK\",\"CAMK\",null,1.04623821,4],[\"CAMK\",\"CASK\",\"HGNC:1497\",\"CSKP_HUMAN\",\"O14936\",12,276,265,13,\"3TACA\",\"DFGin\",\"BLAminus\",\"CAMK\",\"CAMK\",\"LIN2\",1.01097822,5],[\"CAMK\",\"CHEK1\",\"HGNC:1925\",\"CHK1_HUMAN\",\"O14757\",9,265,257,11,\"6FCKA\",\"DFGin\",\"BLAminus\",\"CAMK\",\"CAMK\",\"CHK1\",1.14337763,2],[\"CAMK\",\"CHEK2\",\"HGNC:16627\",\"CHK2_HUMAN\",\"O96017\",220,486,267,14,\"4A9UA\",\"DFGin\",\"BLAminus\",\"CAMK\",\"CAMK\",\"CDS1,CHK2,RAD53\",0.81252241,5],[\"CAMK\",\"DAPK1\",\"HGNC:2674\",\"DAPK1_HUMAN\",\"P53355\",13,275,263,13,\"6FHBA\",\"DFGin\",\"BLAminus\",\"CAMK\",\"CAMK\",\"DAPK\",0.96189022,4],[\"CAMK\",\"DAPK2\",\"HGNC:2675\",\"DAPK2_HUMAN\",\"Q9UIK4\",23,285,263,13,\"2CKED\",\"DFGin\",\"BLAminus\",\"CAMK\",\"CAMK\",null,0.99180603,4],[\"CAMK\",\"DAPK3\",\"HGNC:2676\",\"DAPK3_HUMAN\",\"O43293\",13,275,263,13,\"5A6NA\",\"DFGin\",\"BLAminus\",\"CAMK\",\"CAMK\",\"ZIPK\",0.97373287,4],[\"CAMK\",\"DCLK1\",\"HGNC:2700\",\"DCLK1_HUMAN\",\"O15075\",390,647,258,13,\"5JZNA\",\"DFGin\",\"BLAminus\",\"CAMK\",\"CAMK\",\"DCAMKL1,DCDC3A,KIAA0369\",0.6793584300000001,2],[\"CAMK\",\"DCLK2\",\"HGNC:19002\",\"DCLK2_HUMAN\",\"Q8N568\",394,651,258,13,null,null,null,\"CAMK\",\"CAMK\",\"DCAMKL2,DCDC3B,DCK2\",0.72797351,2],[\"CAMK\",\"DCLK3\",\"HGNC:19005\",\"DCLK3_HUMAN\",\"Q9C098\",356,613,258,13,null,null,null,\"CAMK\",\"CAMK\",\"DCAMKL3,DCDC3C,KIAA1765\",0.6585588800000001,2],[\"CAMK\",\"HUNK\",\"HGNC:13326\",\"HUNK_HUMAN\",\"P57058\",62,320,259,10,null,null,null,\"CAMK\",\"CAMK\",\"MAKV\",1.06510865,2],[\"CAMK\",\"KALRN\",\"HGNC:4814\",\"KALRN_HUMAN\",\"O60229\",2683,2937,255,13,null,null,null,\"CAMK\",\"CAMK\",\"DUET,DUO,HAPIP,TRAD\",1.41746005,1],[\"CAMK\",\"MAPKAPK2\",\"HGNC:6887\",\"MAPK2_HUMAN\",\"P49137\",63,325,263,13,\"3M42A\",\"DFGin\",\"BLAminus\",\"CAMK\",\"CAMK\",null,0.7688943800000001,4],[\"CAMK\",\"MAPKAPK3\",\"HGNC:6888\",\"MAPK3_HUMAN\",\"Q16644\",43,304,262,13,\"3R1NA\",\"DFGin\",\"BLAminus\",\"CAMK\",\"CAMK\",null,0.78450235,4],[\"CAMK\",\"MAPKAPK5\",\"HGNC:6889\",\"MAPK5_HUMAN\",\"Q8IW41\",20,304,285,18,null,null,null,\"CAMK\",\"CAMK\",\"PRAK\",0.72598262,7],[\"CAMK\",\"MARK1\",\"HGNC:6896\",\"MARK1_HUMAN\",\"Q9P0L2\",60,311,252,9,\"2HAKF\",null,null,\"CAMK\",\"CAMK\",\"KIAA1477,MARK\",1.0707725100000005,0],[\"CAMK\",\"MARK2\",\"HGNC:3332\",\"MARK2_HUMAN\",\"Q7KZI7\",53,304,252,9,\"3IECC\",\"DFGin\",\"BLAminus\",\"CAMK\",\"CAMK\",\"EMK1\",1.0627178300000002,0],[\"CAMK\",\"MARK3\",\"HGNC:6897\",\"MARK3_HUMAN\",\"P27448\",56,307,252,9,\"3FE3B\",null,null,\"CAMK\",\"CAMK\",\"CTAK1,EMK2\",1.06269012,0],[\"CAMK\",\"MARK4\",\"HGNC:13538\",\"MARK4_HUMAN\",\"Q96L34\",59,310,252,9,\"5ES1A\",\"DFGin\",null,\"CAMK\",\"CAMK\",\"KIAA1860,MARKL1\",1.05607872,0],[\"CAMK\",\"MELK\",\"HGNC:16870\",\"MELK_HUMAN\",\"Q14680\",11,263,253,9,\"4UMPB\",\"DFGin\",\"BLAminus\",\"CAMK\",\"CAMK\",\"KIAA0175\",1.11640493,1],[\"CAMK\",\"MKNK1\",\"HGNC:7110\",\"MKNK1_HUMAN\",\"Q9BUB5\",48,374,327,41,\"2HW6A\",\"DFGout\",\"BBAminus\",\"CAMK\",\"CAMK\",\"MNK1\",0.04868044,9],[\"CAMK\",\"MKNK2\",\"HGNC:7111\",\"MKNK2_HUMAN\",\"Q9HBH9\",83,368,286,15,\"2AC3A\",\"DFGout\",\"BBAminus\",\"CAMK\",\"CAMK\",\"GPRK7,MNK2\",0.01718753,7],[\"CAMK\",\"MYLK2\",\"HGNC:16243\",\"MYLK2_HUMAN\",\"Q9H1R3\",283,540,258,13,null,null,null,\"CAMK\",\"CAMK\",null,1.04521744,2],[\"CAMK\",\"MYLK3\",\"HGNC:29826\",\"MYLK3_HUMAN\",\"Q32MK0\",513,770,258,13,null,null,null,\"CAMK\",\"CAMK\",\"MLCK\",1.0688649300000002,2],[\"CAMK\",\"MYLK4\",\"HGNC:27972\",\"MYLK4_HUMAN\",\"Q86YV6\",104,361,258,13,\"2X4FB\",\"DFGin\",\"ABAminus\",\"CAMK\",\"CAMK\",\"SGK085\",0.9330225,2],[\"CAMK\",\"MYLK\",\"HGNC:7590\",\"MYLK_HUMAN\",\"Q15746\",1464,1719,256,13,null,null,null,\"CAMK\",\"CAMK\",\"MLCK,MLCK1,MYLK1\",0.96101891,2],[\"CAMK\",\"NIM1K\",\"HGNC:28646\",\"NIM1_HUMAN\",\"Q8IY84\",74,325,252,9,null,null,null,\"CAMK\",\"CAMK\",\"NIM1\",1.18746592,0],[\"CAMK\",\"NUAK1\",\"HGNC:14311\",\"NUAK1_HUMAN\",\"O60285\",55,306,252,9,null,null,null,\"CAMK\",\"CAMK\",\"ARK5,KIAA0537,OMPHK1\",1.05744445,0],[\"CAMK\",\"NUAK2\",\"HGNC:29558\",\"NUAK2_HUMAN\",\"Q9H093\",53,303,251,9,null,null,null,\"CAMK\",\"CAMK\",\"OMPHK2,SNARK\",1.06304055,0],[\"CAMK\",\"OBSCN_1\",\"HGNC:15719\",\"OBSCN_HUMAN\",\"Q5VST9\",6468,6721,254,13,null,null,null,\"CAMK\",\"CAMK\",\"KIAA1556,KIAA1639\",1.39215289,1],[\"CAMK\",\"OBSCN_2\",\"HGNC:15719\",\"OBSCN_HUMAN\",\"Q5VST9\",7672,7924,253,12,null,null,null,\"CAMK\",\"CAMK\",\"KIAA1556,KIAA1639\",1.62448153,1],[\"CAMK\",\"PASK\",\"HGNC:17270\",\"PASK_HUMAN\",\"Q96RG2\",999,1251,253,14,\"3DLSA\",\"DFGin\",\"BLAminus\",\"CAMK\",\"CAMK\",\"KIAA0135\",1.46628828,1],[\"CAMK\",\"PHKG1\",\"HGNC:8930\",\"PHKG1_HUMAN\",\"Q16816\",20,288,269,15,null,null,null,\"CAMK\",\"CAMK\",\"PHKG\",0.95719747,5],[\"CAMK\",\"PHKG2\",\"HGNC:8931\",\"PHKG2_HUMAN\",\"P15735\",24,291,268,14,\"2Y7JC\",\"DFGin\",\"BLAminus\",\"CAMK\",\"CAMK\",null,0.9327744,5],[\"CAMK\",\"PIM1\",\"HGNC:8986\",\"PIM1_HUMAN\",\"P11309\",38,290,253,12,\"6NO9A\",\"DFGin\",\"BLAminus\",\"CAMK\",\"CAMK\",null,1.5818354799999998,1],[\"CAMK\",\"PIM2\",\"HGNC:8987\",\"PIM2_HUMAN\",\"Q9P1W9\",32,286,255,12,\"2IWIA\",\"DFGin\",\"BLAminus\",\"CAMK\",\"CAMK\",null,1.54839268,1],[\"CAMK\",\"PIM3\",\"HGNC:19310\",\"PIM3_HUMAN\",\"Q86V86\",40,293,254,11,null,null,null,\"CAMK\",\"CAMK\",null,1.56896343,1],[\"CAMK\",\"PLK1\",\"HGNC:9077\",\"PLK1_HUMAN\",\"P53350\",53,305,253,9,\"5TA8A\",\"DFGin\",\"BLAminus\",\"OTHER\",\"OTHER\",\"PLK\",1.38256578,1],[\"CAMK\",\"PLK2\",\"HGNC:19699\",\"PLK2_HUMAN\",\"Q9NYY3\",82,334,253,9,\"4I6FA\",\"DFGin\",\"BLAminus\",\"OTHER\",\"OTHER\",\"SNK\",1.41322871,1],[\"CAMK\",\"PLK3\",\"HGNC:2154\",\"PLK3_HUMAN\",\"Q9H4B4\",62,314,253,9,\"4B6LA\",\"DFGin\",\"BLAminus\",\"OTHER\",\"OTHER\",\"CNK,FNK,PRK\",1.39262224,1],[\"CAMK\",\"PLK4\",\"HGNC:11397\",\"PLK4_HUMAN\",\"O00444\",12,265,254,9,\"3COKB\",\"DFGin\",\"BLAminus\",\"OTHER\",\"OTHER\",\"SAK,STK18\",1.29246964,1],[\"CAMK\",\"PLK5\",\"HGNC:27001\",\"PLK5_HUMAN\",\"Q496M5\",1,65,65,9,null,null,null,\"OTHER\",\"OTHER\",\"PLK5P\",1.54497135,0],[\"CAMK\",\"PNCK\",\"HGNC:13415\",\"KCC1B_HUMAN\",\"Q6P2M8\",15,270,256,13,null,null,null,\"CAMK\",\"CAMK\",null,0.72582966,2],[\"CAMK\",\"PRKAA1\",\"HGNC:9376\",\"AAPK1_HUMAN\",\"Q13131\",27,279,253,9,\"6C9JA\",\"DFGin\",\"BLAminus\",\"CAMK\",\"CAMK\",\"AMPK1\",1.00259557,1],[\"CAMK\",\"PRKAA2\",\"HGNC:9377\",\"AAPK2_HUMAN\",\"P54646\",16,268,253,9,\"6B2EA\",\"DFGin\",\"BLAminus\",\"CAMK\",\"CAMK\",\"AMPK,AMPK2\",0.98219889,1],[\"CAMK\",\"PRKD1\",\"HGNC:9407\",\"KPCD1_HUMAN\",\"Q15139\",583,839,257,13,null,null,null,\"CAMK\",\"CAMK\",\"PKD,PKD1,PRKCM\",1.0109512100000002,2],[\"CAMK\",\"PRKD2\",\"HGNC:17293\",\"KPCD2_HUMAN\",\"Q9BZL6\",551,807,257,13,null,null,null,\"CAMK\",\"CAMK\",\"PKD2\",1.0323419100000002,2],[\"CAMK\",\"PRKD3\",\"HGNC:9408\",\"KPCD3_HUMAN\",\"O94806\",576,832,257,13,null,null,null,\"CAMK\",\"CAMK\",\"EPK2,PRKCN\",1.0400337200000005,2],[\"CAMK\",\"PSKH1\",\"HGNC:9529\",\"KPSH1_HUMAN\",\"P11801\",98,355,258,13,null,null,null,\"CAMK\",\"CAMK\",null,0.8254508900000002,2],[\"CAMK\",\"PSKH2\",\"HGNC:18997\",\"KPSH2_HUMAN\",\"Q96QS6\",63,320,258,13,null,null,null,\"CAMK\",\"CAMK\",null,0.9563651,2],[\"CAMK\",\"RPS6KA1_2\",\"HGNC:10430\",\"KS6A1_HUMAN\",\"Q15418\",418,675,258,13,\"4NIFD\",\"DFGin\",\"BLAminus\",\"AGC\",\"CAMK\",\"MAPKAPK1A,RSK1\",0.7221731,2],[\"CAMK\",\"RPS6KA2_2\",\"HGNC:10431\",\"KS6A2_HUMAN\",\"Q15349\",415,672,258,13,null,null,null,\"AGC\",\"CAMK\",\"MAPKAPK1C,RSK3\",0.7377360300000001,2],[\"CAMK\",\"RPS6KA3_2\",\"HGNC:10432\",\"KS6A3_HUMAN\",\"P51812\",422,679,258,13,\"4JG8A\",\"DFGin\",\"BLAminus\",\"AGC\",\"CAMK\",\"ISPK1,MAPKAPK1B,RSK2\",0.69816447,2],[\"CAMK\",\"RPS6KA4_2\",\"HGNC:10433\",\"KS6A4_HUMAN\",\"O75676\",408,674,267,13,null,null,null,\"AGC\",\"CAMK\",\"MSK2\",0.74076177,5],[\"CAMK\",\"RPS6KA5_2\",\"HGNC:10434\",\"KS6A5_HUMAN\",\"O75582\",423,687,265,13,\"3KN6B\",\"DFGin\",\"BLAminus\",\"AGC\",\"CAMK\",\"MSK1\",0.68223268,5],[\"CAMK\",\"RPS6KA6_2\",\"HGNC:10435\",\"KS6A6_HUMAN\",\"Q9UK32\",426,683,258,13,null,null,null,\"AGC\",\"CAMK\",\"RSK4\",0.75812554,2],[\"CAMK\",\"SIK1B\",\"HGNC:52389\",\"SIK1B_HUMAN\",\"A0A0B4J2F2\",27,278,252,9,null,null,null,\"CAMK\",\"CAMK\",null,1.18362143,0],[\"CAMK\",\"SIK1\",\"HGNC:11142\",\"SIK1_HUMAN\",\"P57059\",27,278,252,9,null,null,null,\"CAMK\",\"CAMK\",\"SIK,SNF1LK\",1.18362143,0],[\"CAMK\",\"SIK2\",\"HGNC:21680\",\"SIK2_HUMAN\",\"Q9H0K1\",20,271,252,9,null,null,null,\"CAMK\",\"CAMK\",\"KIAA0781,QIK,SNF1LK2\",1.14018576,0],[\"CAMK\",\"SIK3\",\"HGNC:29165\",\"SIK3_HUMAN\",\"Q9Y2K2\",66,317,252,9,null,null,null,\"CAMK\",\"CAMK\",\"KIAA0999,QSK\",1.0826267500000002,0],[\"CAMK\",\"SNRK\",\"HGNC:30598\",\"SNRK_HUMAN\",\"Q9NRH2\",16,269,254,9,\"5YKSB\",\"DFGin\",\"BLBminus\",\"CAMK\",\"CAMK\",\"KIAA0096,SNFRK\",1.13472195,1],[\"CAMK\",\"SPEG_1\",\"HGNC:16901\",\"SPEG_HUMAN\",\"Q15772\",1601,1854,254,13,null,null,null,\"CAMK\",\"CAMK\",\"APEG1,KIAA1297\",1.42797463,1],[\"CAMK\",\"SPEG_2\",\"HGNC:16901\",\"SPEG_HUMAN\",\"Q15772\",2966,3218,253,12,null,null,null,\"CAMK\",\"CAMK\",\"APEG1,KIAA1297\",1.3838988,1],[\"CAMK\",\"STK11\",\"HGNC:11389\",\"STK11_HUMAN\",\"Q15831\",49,309,261,10,\"2WTKC\",\"DFGin\",\"BLAminus\",\"CAMK\",\"CAMK\",\"LKB1,PJS\",1.23391835,3],[\"CAMK\",\"STK17A\",\"HGNC:11395\",\"ST17A_HUMAN\",\"Q9UEE5\",59,321,263,13,null,null,null,\"CAMK\",\"CAMK\",\"DRAK1\",1.09714335,4],[\"CAMK\",\"STK17B\",\"HGNC:11396\",\"ST17B_HUMAN\",\"O94768\",32,293,262,13,\"3LM5A\",\"DFGin\",\"BLAminus\",\"CAMK\",\"CAMK\",\"DRAK2\",1.14959092,4],[\"CAMK\",\"STK33\",\"HGNC:14568\",\"STK33_HUMAN\",\"Q9BYT3\",116,381,266,13,null,null,null,\"CAMK\",\"CAMK\",null,0.6899557300000001,5],[\"CAMK\",\"STK40\",\"HGNC:21373\",\"STK40_HUMAN\",\"Q8N2I9\",35,330,296,18,\"5L2QC\",\"DFGin\",\"BLAminus\",\"CAMK\",\"CAMK\",\"SGK495,SHIK\",1.29190819,8],[\"CAMK\",\"TRIB1\",\"HGNC:16891\",\"TRIB1_HUMAN\",\"Q96RU8\",94,338,245,9,\"5CEMA\",\"DFGinter\",null,\"CAMK\",\"CAMK\",\"C8FW,GIG2,TRB1\",1.6925846900000003,0],[\"CAMK\",\"TRIB2\",\"HGNC:30809\",\"TRIB2_HUMAN\",\"Q92519\",64,308,245,9,null,null,null,\"CAMK\",\"CAMK\",\"TRB2\",1.6553998200000002,0],[\"CAMK\",\"TRIB3\",\"HGNC:16228\",\"TRIB3_HUMAN\",\"Q96RU7\",71,315,245,9,null,null,null,\"CAMK\",\"CAMK\",\"C20orf97,NIPK,SKIP3,TRB3\",1.9568886900000004,0],[\"CAMK\",\"TRIO\",\"HGNC:12303\",\"TRIO_HUMAN\",\"O75962\",2796,3050,255,13,null,null,null,\"CAMK\",\"CAMK\",null,1.38396578,1],[\"CAMK\",\"TSSK1B\",\"HGNC:14968\",\"TSSK1_HUMAN\",\"Q9BXA7\",12,272,261,11,null,null,null,\"CAMK\",\"CAMK\",\"SPOGA1,SPOGA4,STK22A,STK22D,TSSK1\",1.1777062500000002,3],[\"CAMK\",\"TSSK2\",\"HGNC:11401\",\"TSSK2_HUMAN\",\"Q96PF2\",12,272,261,11,null,null,null,\"CAMK\",\"CAMK\",\"DGSG,SPOGA2,STK22B\",1.1832599,3],[\"CAMK\",\"TSSK3\",\"HGNC:15473\",\"TSSK3_HUMAN\",\"Q96PN8\",10,265,256,10,null,null,null,\"CAMK\",\"CAMK\",\"SPOGA3,STK22C\",1.3530135,2],[\"CAMK\",\"TSSK4\",\"HGNC:19825\",\"TSSK4_HUMAN\",\"Q6SA08\",25,293,269,16,null,null,null,\"CAMK\",\"CAMK\",\"C14orf20,STK22E,TSSK5\",1.20534874,5],[\"CAMK\",\"TSSK6\",\"HGNC:30410\",\"TSSK6_HUMAN\",\"Q9BXA6\",12,267,256,10,null,null,null,\"CAMK\",\"CAMK\",\"SSTK\",1.3457014900000002,2],[\"CAMK\",\"TTN\",\"HGNC:12403\",\"TITIN_HUMAN\",\"Q8WZ42\",32178,32432,255,13,\"4JNWB\",null,null,\"CAMK\",\"CAMK\",null,1.3348456199999998,1]],\"hovertemplate\":\"<b>%{hovertext}</b><br><br>1_Group=%{customdata[0]}<br>pm1=%{x}<br>pm2=%{y}<br>2_Gene=%{customdata[1]}<br>3_HGNC=%{customdata[2]}<br>4_Uni_entry=%{customdata[3]}<br>5_Uni_acc=%{customdata[4]}<br>6_Domain_begin=%{customdata[5]}<br>7_Domain_end=%{customdata[6]}<br>8_Domain_length=%{customdata[7]}<br>9_Largest_insert_length=%{customdata[8]}<br>10_PDB_validation=%{customdata[9]}<br>11_Conformational_state=%{customdata[10]}<br>12_Dihedral_state=%{customdata[11]}<br>13_Group_in_Uni=%{customdata[12]}<br>14_Group_in_Manning=%{customdata[13]}<br>15_Synonymn=%{customdata[14]}<br>evo_distance=%{customdata[15]}<br>decile_domain=%{customdata[16]}<extra></extra>\",\"hovertext\":[\"CAMK\",\"CAMK\",\"CAMK\",\"CAMK\",\"CAMK\",\"CAMK\",\"CAMK\",\"CAMK\",\"CAMK\",\"CAMK\",\"CAMK\",\"CAMK\",\"CAMK\",\"CAMK\",\"CAMK\",\"CAMK\",\"CAMK\",\"CAMK\",\"CAMK\",\"CAMK\",\"CAMK\",\"CAMK\",\"CAMK\",\"CAMK\",\"CAMK\",\"CAMK\",\"CAMK\",\"CAMK\",\"CAMK\",\"CAMK\",\"CAMK\",\"CAMK\",\"CAMK\",\"CAMK\",\"CAMK\",\"CAMK\",\"CAMK\",\"CAMK\",\"CAMK\",\"CAMK\",\"CAMK\",\"CAMK\",\"CAMK\",\"CAMK\",\"CAMK\",\"CAMK\",\"CAMK\",\"CAMK\",\"CAMK\",\"CAMK\",\"CAMK\",\"CAMK\",\"CAMK\",\"CAMK\",\"CAMK\",\"CAMK\",\"CAMK\",\"CAMK\",\"CAMK\",\"CAMK\",\"CAMK\",\"CAMK\",\"CAMK\",\"CAMK\",\"CAMK\",\"CAMK\",\"CAMK\",\"CAMK\",\"CAMK\",\"CAMK\",\"CAMK\",\"CAMK\",\"CAMK\",\"CAMK\",\"CAMK\",\"CAMK\",\"CAMK\",\"CAMK\",\"CAMK\",\"CAMK\",\"CAMK\",\"CAMK\",\"CAMK\",\"CAMK\",\"CAMK\",\"CAMK\",\"CAMK\",\"CAMK\",\"CAMK\",\"CAMK\",\"CAMK\",\"CAMK\",\"CAMK\"],\"legendgroup\":\"CAMK\",\"marker\":{\"color\":\"#EF553B\",\"symbol\":\"circle\"},\"mode\":\"markers\",\"name\":\"CAMK\",\"orientation\":\"v\",\"showlegend\":true,\"x\":[0.11856059,-0.32526344,-0.16539651,-0.17345048,-0.18524784,0.026577825,0.052695908,0.036234062,-0.12468848,-0.11698855,-0.12190314,-0.12432861,0.017646855,-0.12797843,-0.13655205,0.06554172,-0.13440539,-0.1236815,0.015301776,-0.4240177,-0.42154238,-0.40014657,-0.04522182,-0.018750401,-0.06760722,-0.24581529,-0.40958214,-0.0047577713,-0.01730188,-0.029069835,-0.16424982,-0.17983252,-0.18965264,-0.2012961,-0.15405668,-0.0009917704,-0.0008215648,-0.44880077,-0.44750702,-0.4368236,-0.4371508,-0.1954603,-0.20459846,-0.22163454,-0.4232809,-0.41560853,-0.2160404,-0.17867924,-0.1525881,-0.21305981,-0.21245289,-0.2124239,-0.31147987,-0.29557815,-0.27553272,-0.31543106,-0.27758285,0.043216605,-0.15462735,-0.1541462,-0.024570404,-0.024833767,-0.024697343,0.045649778,0.04925527,-0.00874109,-0.008544226,-0.01149022,-0.01486311,-0.019897614,-0.014617509,-0.1543068,-0.14412005,-0.16527203,-0.16781698,-0.2043385,-0.43110272,-0.4235192,-0.1367117,-0.41217148,-0.41418985,0.03063219,0.13761793,-0.1375517,-0.11317721,-0.09761634,-0.40165326,-0.095975794,-0.09573307,-0.09352061,-0.09767891,-0.095583774,-0.4291943],\"xaxis\":\"x\",\"y\":[0.63855064,0.67594856,0.7664276,0.5941156,0.58426005,0.878704,0.87176144,0.8729064,0.89652944,0.9024921,0.9050454,0.8885194,0.8534421,0.69966495,0.6711029,0.89031744,0.90828377,0.55678,0.8360422,0.8367189,0.82713544,0.8267727,0.8651222,0.8537204,0.8645171,0.56205404,0.85194176,0.92692757,0.9149794,0.94649404,0.58855045,0.58881706,0.57587105,0.59367794,0.5976491,0.9670356,0.95045674,0.82476735,0.83340204,0.83293647,0.81967574,0.5930205,0.707842,0.6675799,0.8534718,0.8644942,0.6541629,0.87474275,0.89769137,0.6702516,0.6669878,0.66698927,0.81808907,0.79779166,0.83842826,0.72232985,0.82066125,0.8592211,0.6308872,0.63079697,0.84695363,0.84687006,0.84683794,0.9014407,0.89096886,0.96355516,0.9715808,0.96940815,0.96294653,0.96771556,0.97259647,0.62728375,0.6277103,0.6310808,0.5655444,0.62350297,0.85183626,0.8624244,0.6704634,0.84040856,0.8292471,0.8103266,0.7735955,0.8456116,0.9217963,0.92633504,0.8514145,0.60811853,0.6078629,0.61027026,0.60591877,0.6081637,0.8205303],\"yaxis\":\"y\",\"type\":\"scatter\",\"textposition\":\"top right\"},{\"customdata\":[[\"CK1\",\"CSNK1A1\",\"HGNC:2451\",\"KC1A_HUMAN\",\"P48729\",17,283,267,10,\"6GZDA\",\"DFGin\",\"BLAminus\",\"CK1\",\"CK1\",null,2.6648477,5],[\"CK1\",\"CSNK1A1L\",\"HGNC:20289\",\"KC1AL_HUMAN\",\"Q8N752\",17,283,267,10,null,null,null,\"CK1\",\"CK1\",null,2.72303841,5],[\"CK1\",\"CSNK1D\",\"HGNC:2452\",\"KC1D_HUMAN\",\"P48730\",9,275,267,10,\"6GZMB\",\"DFGin\",\"BLAminus\",\"CK1\",\"CK1\",\"HCKID\",2.59569641,5],[\"CK1\",\"CSNK1E\",\"HGNC:2453\",\"KC1E_HUMAN\",\"P49674\",9,275,267,10,\"4HOKM\",\"DFGin\",\"BLAminus\",\"CK1\",\"CK1\",null,2.60374298,5],[\"CK1\",\"CSNK1G1\",\"HGNC:2454\",\"KC1G1_HUMAN\",\"Q9HCP0\",44,313,270,10,\"2CMWA\",\"DFGin\",\"BLAminus\",\"CK1\",\"CK1\",null,2.9064987,6],[\"CK1\",\"CSNK1G2\",\"HGNC:2455\",\"KC1G2_HUMAN\",\"P78368\",46,314,269,10,\"2C47D\",\"DFGin\",\"BLAminus\",\"CK1\",\"CK1\",\"CK1G2\",2.91523487,5],[\"CK1\",\"CSNK1G3\",\"HGNC:2456\",\"KC1G3_HUMAN\",\"Q9Y6M4\",43,310,268,9,\"6GROA\",\"DFGin\",\"BLAminus\",\"CK1\",\"CK1\",null,2.88984477,5],[\"CK1\",\"TTBK1\",\"HGNC:19140\",\"TTBK1_HUMAN\",\"Q5TCY1\",34,295,262,10,\"4NFNA\",\"DFGin\",\"BLAminus\",\"CK1\",\"CK1\",\"BDTK,KIAA1855\",2.5305246200000004,4],[\"CK1\",\"TTBK2\",\"HGNC:19141\",\"TTBK2_HUMAN\",\"Q6IQ55\",21,282,262,10,null,null,null,\"CK1\",\"CK1\",\"KIAA0847\",2.4795925600000004,4],[\"CK1\",\"VRK1\",\"HGNC:12718\",\"VRK1_HUMAN\",\"Q99986\",37,326,290,18,\"6CNXA\",\"DFGin\",\"BLAminus\",\"CK1\",\"CK1\",null,2.9576086,8],[\"CK1\",\"VRK2\",\"HGNC:12719\",\"VRK2_HUMAN\",\"Q86Y07\",29,315,287,18,\"6NCGA\",\"DFGin\",\"BLAminus\",\"CK1\",\"CK1\",null,2.99402694,8],[\"CK1\",\"VRK3\",\"HGNC:18996\",\"VRK3_HUMAN\",\"Q8IV63\",166,455,290,18,\"2JIIB\",\"DFGin\",\"BLAminus\",\"CK1\",\"CK1\",null,3.47946842,8]],\"hovertemplate\":\"<b>%{hovertext}</b><br><br>1_Group=%{customdata[0]}<br>pm1=%{x}<br>pm2=%{y}<br>2_Gene=%{customdata[1]}<br>3_HGNC=%{customdata[2]}<br>4_Uni_entry=%{customdata[3]}<br>5_Uni_acc=%{customdata[4]}<br>6_Domain_begin=%{customdata[5]}<br>7_Domain_end=%{customdata[6]}<br>8_Domain_length=%{customdata[7]}<br>9_Largest_insert_length=%{customdata[8]}<br>10_PDB_validation=%{customdata[9]}<br>11_Conformational_state=%{customdata[10]}<br>12_Dihedral_state=%{customdata[11]}<br>13_Group_in_Uni=%{customdata[12]}<br>14_Group_in_Manning=%{customdata[13]}<br>15_Synonymn=%{customdata[14]}<br>evo_distance=%{customdata[15]}<br>decile_domain=%{customdata[16]}<extra></extra>\",\"hovertext\":[\"CK1\",\"CK1\",\"CK1\",\"CK1\",\"CK1\",\"CK1\",\"CK1\",\"CK1\",\"CK1\",\"CK1\",\"CK1\",\"CK1\"],\"legendgroup\":\"CK1\",\"marker\":{\"color\":\"#00cc96\",\"symbol\":\"circle\"},\"mode\":\"markers\",\"name\":\"CK1\",\"orientation\":\"v\",\"showlegend\":true,\"x\":[-0.7543157,-0.7572155,-0.75070643,-0.7555847,-0.76012725,-0.76443535,-0.7640264,-0.74250484,-0.7426735,-0.7576389,-0.75221413,-0.76304114],\"xaxis\":\"x\",\"y\":[0.6035511,0.59740657,0.6095026,0.6103156,0.6071403,0.6094508,0.60387915,0.5922403,0.6037776,0.6191204,0.6202071,0.61707544],\"yaxis\":\"y\",\"type\":\"scatter\",\"textposition\":\"top right\"},{\"customdata\":[[\"CMGC\",\"CDK10\",\"HGNC:1770\",\"CDK10_HUMAN\",\"Q15131\",39,323,285,39,null,null,null,\"CMGC\",\"CMGC\",null,1.49051952,7],[\"CMGC\",\"CDK11A\",\"HGNC:1730\",\"CD11A_HUMAN\",\"Q9UQ88\",426,711,286,40,null,null,null,\"CMGC\",\"CMGC\",\"CDC2L2,CDC2L3,PITSLREB\",1.6085029600000005,7],[\"CMGC\",\"CDK11B\",\"HGNC:1729\",\"CD11B_HUMAN\",\"P21127\",438,723,286,40,null,null,null,\"CMGC\",\"CMGC\",\"CDC2L1,CDK11,PITSLREA,PK58\",1.6397930500000004,7],[\"CMGC\",\"CDK12\",\"HGNC:24224\",\"CDK12_HUMAN\",\"Q9NYV4\",727,1020,294,39,\"5ACBC\",\"DFGin\",\"BLAminus\",\"CMGC\",\"CMGC\",\"CRK7,CRKRS,KIAA0904\",1.6320038800000003,8],[\"CMGC\",\"CDK13\",\"HGNC:1733\",\"CDK13_HUMAN\",\"Q14004\",705,998,294,39,\"5EFQC\",\"DFGin\",\"BLAminus\",\"CMGC\",\"CMGC\",\"CDC2L,CDC2L5,CHED,KIAA1791\",1.5819135400000002,8],[\"CMGC\",\"CDK14\",\"HGNC:8883\",\"CDK14_HUMAN\",\"O94921\",135,419,285,41,null,null,null,\"CMGC\",\"CMGC\",\"KIAA0834,PFTK1\",1.5886613600000004,7],[\"CMGC\",\"CDK15\",\"HGNC:14434\",\"CDK15_HUMAN\",\"Q96Q40\",103,387,285,41,null,null,null,\"CMGC\",\"CMGC\",\"ALS2CR7,PFTK2\",1.6291233300000003,7],[\"CMGC\",\"CDK16\",\"HGNC:8749\",\"CDK16_HUMAN\",\"Q00536\",165,446,282,39,\"5G6VA\",\"DFGout\",\"BBAminus\",\"CMGC\",\"CMGC\",\"PCTAIRE1,PCTK1\",1.6593007500000003,7],[\"CMGC\",\"CDK17\",\"HGNC:8750\",\"CDK17_HUMAN\",\"Q00537\",192,473,282,39,null,null,null,\"CMGC\",\"CMGC\",\"PCTAIRE2,PCTK2\",1.54513376,7],[\"CMGC\",\"CDK18\",\"HGNC:8751\",\"CDK18_HUMAN\",\"Q07002\",144,425,282,39,null,null,null,\"CMGC\",\"CMGC\",\"PCTAIRE3,PCTK3\",1.57814803,7],[\"CMGC\",\"CDK19\",\"HGNC:19338\",\"CDK19_HUMAN\",\"Q9BWU1\",20,335,316,47,null,null,null,\"CMGC\",\"CMGC\",\"CDC2L6,CDK11,KIAA1028\",1.5683259400000005,9],[\"CMGC\",\"CDK1\",\"HGNC:1722\",\"CDK1_HUMAN\",\"P06493\",4,287,284,38,\"6GU4A\",\"DFGin\",\"BLAminus\",\"CMGC\",\"CMGC\",\"CDC2,CDC28A,CDKN1,P34CDC2\",1.66782949,7],[\"CMGC\",\"CDK20\",\"HGNC:21420\",\"CDK20_HUMAN\",\"Q8IZL9\",4,288,285,39,null,null,null,\"CMGC\",\"CMGC\",\"CCRK,CDCH\",1.43510581,7],[\"CMGC\",\"CDK2\",\"HGNC:1771\",\"CDK2_HUMAN\",\"P24941\",4,286,283,38,\"6GUFC\",\"DFGin\",\"BLAminus\",\"CMGC\",\"CMGC\",\"CDKN2\",1.4073309800000002,7],[\"CMGC\",\"CDK3\",\"HGNC:1772\",\"CDK3_HUMAN\",\"Q00526\",4,286,283,38,null,null,null,\"CMGC\",\"CMGC\",\"CDKN3\",1.44078298,7],[\"CMGC\",\"CDK4\",\"HGNC:1773\",\"CDK4_HUMAN\",\"P11802\",6,295,290,36,\"3G33C\",\"DFGin\",\"BLAplus\",\"CMGC\",\"CMGC\",null,1.4526078300000005,8],[\"CMGC\",\"CDK5\",\"HGNC:1774\",\"CDK5_HUMAN\",\"Q00535\",4,286,283,38,\"3O0GA\",\"DFGin\",\"BLAminus\",\"CMGC\",\"CMGC\",\"CDKN5\",1.45470009,7],[\"CMGC\",\"CDK6\",\"HGNC:1777\",\"CDK6_HUMAN\",\"Q00534\",13,300,288,36,\"1XO2B\",\"DFGin\",\"BLAminus\",\"CMGC\",\"CMGC\",\"CDKN6\",1.4628733500000004,8],[\"CMGC\",\"CDK7\",\"HGNC:1778\",\"CDK7_HUMAN\",\"P50613\",12,296,285,37,\"6O9L8\",\"DFGin\",null,\"CMGC\",\"CMGC\",\"CAK,CAK1,CDKN7,MO15,STK1\",1.40535566,7],[\"CMGC\",\"CDK8\",\"HGNC:1779\",\"CDK8_HUMAN\",\"P49336\",20,335,316,47,\"5XS2A\",\"DFGin\",\"BLAminus\",\"CMGC\",\"CMGC\",null,1.6597683600000002,9],[\"CMGC\",\"CDK9\",\"HGNC:1780\",\"CDK9_HUMAN\",\"P50750\",19,315,297,41,\"4OR5F\",\"DFGin\",\"BLAminus\",\"CMGC\",\"CMGC\",\"CDC2L4,TAK\",1.5583846000000003,8],[\"CMGC\",\"CDKL1\",\"HGNC:1781\",\"CDKL1_HUMAN\",\"Q00532\",5,288,284,40,\"4AGUC\",\"DFGin\",\"BLAminus\",\"CMGC\",\"CMGC\",null,1.6180777700000002,7],[\"CMGC\",\"CDKL2\",\"HGNC:1782\",\"CDKL2_HUMAN\",\"Q92772\",4,287,284,40,\"4AAAA\",\"DFGin\",\"BLBminus\",\"CMGC\",\"CMGC\",null,1.6390738900000004,7],[\"CMGC\",\"CDKL3\",\"HGNC:15483\",\"CDKL3_HUMAN\",\"Q8IVW4\",4,286,283,40,\"3ZDUA\",\"DFGin\",\"BLAminus\",\"CMGC\",\"CMGC\",\"NKIAMRE\",1.7578302600000004,7],[\"CMGC\",\"CDKL4\",\"HGNC:19287\",\"CDKL4_HUMAN\",\"Q5MAI5\",4,286,283,40,null,null,null,\"CMGC\",\"CMGC\",null,1.6547287400000004,7],[\"CMGC\",\"CDKL5\",\"HGNC:11411\",\"CDKL5_HUMAN\",\"O76039\",13,297,285,41,\"4BGQA\",\"DFGin\",\"BLAminus\",\"CMGC\",\"CMGC\",\"STK9\",1.5152332800000003,7],[\"CMGC\",\"CLK1\",\"HGNC:2068\",\"CLK1_HUMAN\",\"P49759\",161,477,317,53,\"6RAAA\",\"DFGin\",\"BLAminus\",\"CMGC\",\"CMGC\",\"CLK\",1.6679791,9],[\"CMGC\",\"CLK2\",\"HGNC:2069\",\"CLK2_HUMAN\",\"P49760\",163,479,317,53,\"6FYLA\",\"DFGin\",\"BLAminus\",\"CMGC\",\"CMGC\",null,1.66517027,9],[\"CMGC\",\"CLK3\",\"HGNC:2071\",\"CLK3_HUMAN\",\"P49761\",304,620,317,53,\"6RCTB\",\"DFGin\",\"BLAminus\",\"CMGC\",\"CMGC\",null,1.69197995,9],[\"CMGC\",\"CLK4\",\"HGNC:13659\",\"CLK4_HUMAN\",\"Q9HAZ1\",159,475,317,53,\"6FYVA\",\"DFGin\",\"BLAminus\",\"CMGC\",\"CMGC\",null,1.69820002,9],[\"CMGC\",\"CSNK2A1\",\"HGNC:2457\",\"CSK21_HUMAN\",\"P68400\",39,324,286,46,\"6Q4QB\",\"DFGin\",\"BLAminus\",\"OTHER\",\"CMGC\",\"CK2A1\",1.69399757,7],[\"CMGC\",\"CSNK2A2\",\"HGNC:2459\",\"CSK22_HUMAN\",\"P19784\",40,325,286,46,\"6QY9A\",\"DFGin\",\"BLAminus\",\"OTHER\",\"CMGC\",\"CK2A2\",1.6561651900000005,7],[\"CMGC\",\"CSNK2A3\",\"HGNC:2458\",\"CSK23_HUMAN\",\"Q8NEV1\",39,324,286,46,null,null,null,\"OTHER\",\"CMGC\",\"CSNK2A1P\",1.70170423,7],[\"CMGC\",\"DYRK1A\",\"HGNC:3091\",\"DYR1A_HUMAN\",\"Q13627\",159,479,321,73,\"4YU2D\",\"DFGin\",\"BLAminus\",\"CMGC\",\"CMGC\",\"DYRK,MNB,MNBH\",1.41329552,9],[\"CMGC\",\"DYRK1B\",\"HGNC:3092\",\"DYR1B_HUMAN\",\"Q9Y463\",111,431,321,73,null,null,null,\"CMGC\",\"CMGC\",\"MIRK\",1.43521894,9],[\"CMGC\",\"DYRK2\",\"HGNC:3093\",\"DYRK2_HUMAN\",\"Q92630\",222,535,314,68,\"5LXDB\",\"DFGin\",\"BLAminus\",\"CMGC\",\"CMGC\",null,1.4827317800000002,9],[\"CMGC\",\"DYRK3\",\"HGNC:3094\",\"DYRK3_HUMAN\",\"O43781\",209,522,314,68,\"5Y86A\",\"DFGin\",\"BLAminus\",\"CMGC\",\"CMGC\",null,1.57118568,9],[\"CMGC\",\"DYRK4\",\"HGNC:3095\",\"DYRK4_HUMAN\",\"Q9NR20\",104,400,297,51,null,null,null,\"CMGC\",\"CMGC\",null,1.51567126,8],[\"CMGC\",\"GSK3A\",\"HGNC:4616\",\"GSK3A_HUMAN\",\"P49840\",119,403,285,38,null,null,null,\"CMGC\",\"CMGC\",null,1.5834519100000004,7],[\"CMGC\",\"GSK3B\",\"HGNC:4617\",\"GSK3B_HUMAN\",\"P49841\",56,340,285,38,\"6H0UB\",\"DFGin\",\"BLAminus\",\"CMGC\",\"CMGC\",null,1.5812741500000005,7],[\"CMGC\",\"HIPK1\",\"HGNC:19006\",\"HIPK1_HUMAN\",\"Q86Z02\",190,518,329,81,null,null,null,\"CMGC\",\"CMGC\",\"KIAA0630,MYAK,NBAK2\",1.61560574,9],[\"CMGC\",\"HIPK2\",\"HGNC:14402\",\"HIPK2_HUMAN\",\"Q9H2X6\",199,527,329,81,null,null,null,\"CMGC\",\"CMGC\",null,1.6156194700000002,9],[\"CMGC\",\"HIPK3\",\"HGNC:4915\",\"HIPK3_HUMAN\",\"Q9H422\",197,525,329,81,null,null,null,\"CMGC\",\"CMGC\",\"DYRK6,FIST3,PKY\",1.60008744,9],[\"CMGC\",\"HIPK4\",\"HGNC:19007\",\"HIPK4_HUMAN\",\"Q8NE63\",11,347,337,87,null,null,null,\"CMGC\",\"CMGC\",null,1.62219442,9],[\"CMGC\",\"ICK\",\"HGNC:21219\",\"ICK_HUMAN\",\"Q9UPZ9\",4,284,281,39,null,null,null,\"CMGC\",\"CMGC\",\"KIAA0936\",1.61212089,7],[\"CMGC\",\"MAK\",\"HGNC:6816\",\"MAK_HUMAN\",\"P20794\",4,284,281,39,null,null,null,\"CMGC\",\"CMGC\",null,1.65671823,7],[\"CMGC\",\"MAPK10\",\"HGNC:6872\",\"MK10_HUMAN\",\"P53779\",64,359,296,51,\"4H39A\",\"DFGin\",\"BLAminus\",\"CMGC\",\"CMGC\",\"JNK3,JNK3A,PRKM10,SAPK1B\",1.4578964100000005,8],[\"CMGC\",\"MAPK11\",\"HGNC:6873\",\"MK11_HUMAN\",\"Q15759\",24,308,285,40,\"3GC8B\",\"DFGin\",\"ABAminus\",\"CMGC\",\"CMGC\",\"PRKM11,SAPK2,SAPK2B\",1.52302087,7],[\"CMGC\",\"MAPK12\",\"HGNC:6874\",\"MK12_HUMAN\",\"P53778\",27,311,285,40,\"1CM8B\",\"DFGin\",\"BLAminus\",\"CMGC\",\"CMGC\",\"ERK6,SAPK3\",1.5462321200000002,7],[\"CMGC\",\"MAPK13\",\"HGNC:6875\",\"MK13_HUMAN\",\"O15264\",25,308,284,40,\"4MYGB\",\"DFGin\",\"BLAminus\",\"CMGC\",\"CMGC\",\"PRKM13,SAPK4\",1.46005018,7],[\"CMGC\",\"MAPK14\",\"HGNC:6876\",\"MK14_HUMAN\",\"Q16539\",24,308,285,40,\"1WBWA\",\"DFGin\",\"BLAminus\",\"CMGC\",\"CMGC\",\"CSBP,CSBP1,CSBP2,CSPB1,MXI2,SAPK2A\",1.50494027,7],[\"CMGC\",\"MAPK15\",\"HGNC:24667\",\"MK15_HUMAN\",\"Q8TD08\",13,304,292,41,null,null,null,\"CMGC\",\"CMGC\",\"ERK7,ERK8\",1.4721337,8],[\"CMGC\",\"MAPK1\",\"HGNC:6871\",\"MK01_HUMAN\",\"P28482\",25,313,289,40,\"6QAWA\",\"DFGin\",\"BLAminus\",\"CMGC\",\"CMGC\",\"ERK2,PRKM1,PRKM2\",1.1854427100000002,8],[\"CMGC\",\"MAPK3\",\"HGNC:6877\",\"MK03_HUMAN\",\"P27361\",42,330,289,40,\"6GESB\",\"DFGin\",\"BLAminus\",\"CMGC\",\"CMGC\",\"ERK1,PRKM3\",1.44698289,8],[\"CMGC\",\"MAPK4\",\"HGNC:6878\",\"MK04_HUMAN\",\"P31152\",20,312,293,38,null,null,null,\"CMGC\",\"CMGC\",\"ERK4,PRKM4\",1.5072622000000004,8],[\"CMGC\",\"MAPK6\",\"HGNC:6879\",\"MK06_HUMAN\",\"Q16659\",20,316,297,39,\"2I6LA\",\"DFGin\",\"BLAminus\",\"CMGC\",\"CMGC\",\"ERK3,PRKM6\",1.4387476100000005,8],[\"CMGC\",\"MAPK7\",\"HGNC:6880\",\"MK07_HUMAN\",\"Q13164\",55,347,293,40,\"5O7IA\",\"DFGin\",\"BLAminus\",\"CMGC\",\"CMGC\",\"BMK1,ERK5,PRKM7\",1.4458684700000002,8],[\"CMGC\",\"MAPK8\",\"HGNC:6881\",\"MK08_HUMAN\",\"P45983\",26,321,296,51,\"3O2MB\",\"DFGin\",\"BLAminus\",\"CMGC\",\"CMGC\",\"JNK1,PRKM8,SAPK1,SAPK1C\",1.54546921,8],[\"CMGC\",\"MAPK9\",\"HGNC:6886\",\"MK09_HUMAN\",\"P45984\",26,321,296,51,\"3E7OA\",\"DFGin\",\"ABAminus\",\"CMGC\",\"CMGC\",\"JNK2,PRKM9,SAPK1A\",1.5285460700000002,8],[\"CMGC\",\"MOK\",\"HGNC:9833\",\"MOK_HUMAN\",\"Q9UQ07\",4,285,282,38,null,null,null,\"CMGC\",\"CMGC\",\"RAGE,RAGE1\",1.7340525400000002,7],[\"CMGC\",\"NLK\",\"HGNC:29858\",\"NLK_HUMAN\",\"Q9UBE8\",138,427,290,41,null,null,null,\"CMGC\",\"CMGC\",\"LAK1\",1.5032430900000002,8],[\"CMGC\",\"PRPF4B\",\"HGNC:17346\",\"PRP4B_HUMAN\",\"Q13523\",687,1003,317,69,\"4IJPA\",\"DFGin\",\"BLAminus\",\"CMGC\",\"CMGC\",\"KIAA0536,PRP4,PRP4H,PRP4K\",1.70094161,9],[\"CMGC\",\"SRPK1\",\"HGNC:11305\",\"SRPK1_HUMAN\",\"Q96SB4\",80,653,574,266,\"1WAKA\",\"DFGin\",\"BLAminus\",\"CMGC\",\"CMGC\",null,1.75991078,9],[\"CMGC\",\"SRPK2\",\"HGNC:11306\",\"SRPK2_HUMAN\",\"P78362\",81,686,606,298,\"5MYVA\",\"DFGin\",\"BLAminus\",\"CMGC\",\"CMGC\",null,1.75438623,9],[\"CMGC\",\"SRPK3\",\"HGNC:11402\",\"SRPK3_HUMAN\",\"Q9UPE1\",79,565,487,179,null,null,null,\"CMGC\",\"CMGC\",\"MSSK1,STK23\",1.72798076,9]],\"hovertemplate\":\"<b>%{hovertext}</b><br><br>1_Group=%{customdata[0]}<br>pm1=%{x}<br>pm2=%{y}<br>2_Gene=%{customdata[1]}<br>3_HGNC=%{customdata[2]}<br>4_Uni_entry=%{customdata[3]}<br>5_Uni_acc=%{customdata[4]}<br>6_Domain_begin=%{customdata[5]}<br>7_Domain_end=%{customdata[6]}<br>8_Domain_length=%{customdata[7]}<br>9_Largest_insert_length=%{customdata[8]}<br>10_PDB_validation=%{customdata[9]}<br>11_Conformational_state=%{customdata[10]}<br>12_Dihedral_state=%{customdata[11]}<br>13_Group_in_Uni=%{customdata[12]}<br>14_Group_in_Manning=%{customdata[13]}<br>15_Synonymn=%{customdata[14]}<br>evo_distance=%{customdata[15]}<br>decile_domain=%{customdata[16]}<extra></extra>\",\"hovertext\":[\"CMGC\",\"CMGC\",\"CMGC\",\"CMGC\",\"CMGC\",\"CMGC\",\"CMGC\",\"CMGC\",\"CMGC\",\"CMGC\",\"CMGC\",\"CMGC\",\"CMGC\",\"CMGC\",\"CMGC\",\"CMGC\",\"CMGC\",\"CMGC\",\"CMGC\",\"CMGC\",\"CMGC\",\"CMGC\",\"CMGC\",\"CMGC\",\"CMGC\",\"CMGC\",\"CMGC\",\"CMGC\",\"CMGC\",\"CMGC\",\"CMGC\",\"CMGC\",\"CMGC\",\"CMGC\",\"CMGC\",\"CMGC\",\"CMGC\",\"CMGC\",\"CMGC\",\"CMGC\",\"CMGC\",\"CMGC\",\"CMGC\",\"CMGC\",\"CMGC\",\"CMGC\",\"CMGC\",\"CMGC\",\"CMGC\",\"CMGC\",\"CMGC\",\"CMGC\",\"CMGC\",\"CMGC\",\"CMGC\",\"CMGC\",\"CMGC\",\"CMGC\",\"CMGC\",\"CMGC\",\"CMGC\",\"CMGC\",\"CMGC\",\"CMGC\",\"CMGC\"],\"legendgroup\":\"CMGC\",\"marker\":{\"color\":\"#ab63fa\",\"symbol\":\"circle\"},\"mode\":\"markers\",\"name\":\"CMGC\",\"orientation\":\"v\",\"showlegend\":true,\"x\":[-0.65604246,-0.56280947,-0.6084665,-0.60806257,-0.55249995,-0.5580345,-0.70077497,-0.69041246,-0.6722509,-0.69289047,-0.69200057,-0.53173876,-0.58455515,-0.650557,-0.6171973,-0.52543026,-0.6454988,-0.5316452,-0.6420396,-0.56908166,-0.59010965,-0.63642824,-0.6118281,-0.6147932,-0.62256134,-0.64306617,-0.9523455,-0.9488999,-0.9525085,-0.9506911,-0.7964275,-0.7965928,-0.78294474,-0.9140875,-0.9247683,-0.93518645,-0.92247796,-0.9339362,-0.67752504,-0.6993628,-0.92364323,-0.9294465,-0.92792565,-0.94026244,-0.7228696,-0.7240282,-0.8277564,-0.87413543,-0.8456309,-0.8695521,-0.85424364,-0.83849233,-0.80467266,-0.804694,-0.8396574,-0.8236022,-0.77790135,-0.8829134,-0.886026,-0.71967983,-0.8134684,-0.9188019,-0.93521965,-0.93707985,-0.9295588],\"xaxis\":\"x\",\"y\":[-0.21574436,-0.23833694,-0.21451192,-0.21440937,-0.23998727,-0.24211676,-0.32964036,-0.33576924,-0.31553647,-0.28015834,-0.2986287,-0.3224665,-0.17687292,-0.14918438,-0.14660905,-0.16955504,-0.27152777,-0.12679079,-0.17493907,-0.3315509,-0.2543945,0.011620581,0.0068519046,0.009416677,0.0015230391,0.0025367942,-0.18756567,-0.18452103,-0.18132403,-0.19232474,-0.010310042,-0.0037140474,-0.025943432,-0.1801032,-0.18533954,-0.19585615,-0.1995346,-0.18264864,0.054613326,0.076288596,-0.15225123,-0.1623933,-0.1702575,-0.15942065,-0.19936624,-0.17121297,0.12165916,0.053933084,0.07296669,0.088376105,0.09730277,0.08627961,0.036407266,0.11899499,0.14997803,0.15953682,0.11455711,0.06769756,0.055473063,-0.10247852,0.10357059,-0.1648098,-0.20756462,-0.21216099,-0.21224304],\"yaxis\":\"y\",\"type\":\"scatter\",\"textposition\":\"top right\"},{\"customdata\":[[\"NEK\",\"NEK10\",\"HGNC:18592\",\"NEK10_HUMAN\",\"Q6ZWH5\",519,785,267,16,null,null,null,\"NEK\",\"NEK\",null,1.34088112,5],[\"NEK\",\"NEK11\",\"HGNC:18593\",\"NEK11_HUMAN\",\"Q8NG66\",29,287,259,10,null,null,null,\"NEK\",\"NEK\",null,1.4295700200000003,2],[\"NEK\",\"NEK1\",\"HGNC:7744\",\"NEK1_HUMAN\",\"Q96PY6\",4,258,255,10,\"4B9DB\",\"DFGinter\",null,\"NEK\",\"NEK\",\"KIAA1901\",1.4897017700000004,1],[\"NEK\",\"NEK2\",\"HGNC:7745\",\"NEK2_HUMAN\",\"P51955\",8,271,264,10,\"5M53A\",\"DFGin\",\"BLBminus\",\"NEK\",\"NEK\",\"NEK2A,NLK1\",1.3135531600000003,4],[\"NEK\",\"NEK3\",\"HGNC:7746\",\"NEK3_HUMAN\",\"P51956\",4,257,254,10,null,null,null,\"NEK\",\"NEK\",null,1.5397995800000002,1],[\"NEK\",\"NEK4\",\"HGNC:11399\",\"NEK4_HUMAN\",\"P51957\",6,261,256,10,null,null,null,\"NEK\",\"NEK\",\"STK2\",1.35921031,2],[\"NEK\",\"NEK5\",\"HGNC:7748\",\"NEK5_HUMAN\",\"Q6P3R8\",4,259,256,10,null,null,null,\"NEK\",\"NEK\",null,1.46115573,2],[\"NEK\",\"NEK6\",\"HGNC:7749\",\"NEK6_HUMAN\",\"Q9HC98\",45,305,261,11,null,null,null,\"NEK\",\"NEK\",null,1.4865299500000002,3],[\"NEK\",\"NEK7\",\"HGNC:13386\",\"NEK7_HUMAN\",\"Q8TDX7\",34,294,261,11,\"6GT1B\",\"DFGin\",null,\"NEK\",\"NEK\",null,1.48803622,3],[\"NEK\",\"NEK8\",\"HGNC:13387\",\"NEK8_HUMAN\",\"Q86SG6\",4,258,255,10,null,null,null,\"NEK\",\"NEK\",\"JCK,NEK12A\",1.55075098,1],[\"NEK\",\"NEK9\",\"HGNC:18591\",\"NEK9_HUMAN\",\"Q8TD19\",52,308,257,12,null,null,null,\"NEK\",\"NEK\",\"KIAA1995,NEK8,NERCC\",1.7115634500000003,2]],\"hovertemplate\":\"<b>%{hovertext}</b><br><br>1_Group=%{customdata[0]}<br>pm1=%{x}<br>pm2=%{y}<br>2_Gene=%{customdata[1]}<br>3_HGNC=%{customdata[2]}<br>4_Uni_entry=%{customdata[3]}<br>5_Uni_acc=%{customdata[4]}<br>6_Domain_begin=%{customdata[5]}<br>7_Domain_end=%{customdata[6]}<br>8_Domain_length=%{customdata[7]}<br>9_Largest_insert_length=%{customdata[8]}<br>10_PDB_validation=%{customdata[9]}<br>11_Conformational_state=%{customdata[10]}<br>12_Dihedral_state=%{customdata[11]}<br>13_Group_in_Uni=%{customdata[12]}<br>14_Group_in_Manning=%{customdata[13]}<br>15_Synonymn=%{customdata[14]}<br>evo_distance=%{customdata[15]}<br>decile_domain=%{customdata[16]}<extra></extra>\",\"hovertext\":[\"NEK\",\"NEK\",\"NEK\",\"NEK\",\"NEK\",\"NEK\",\"NEK\",\"NEK\",\"NEK\",\"NEK\",\"NEK\"],\"legendgroup\":\"NEK\",\"marker\":{\"color\":\"#FFA15A\",\"symbol\":\"circle\"},\"mode\":\"markers\",\"name\":\"NEK\",\"orientation\":\"v\",\"showlegend\":true,\"x\":[0.08071458,0.002716066,0.083710246,0.0839702,0.078872524,0.08613794,0.057101496,0.039369695,0.020768553,0.054711908,0.055297904],\"xaxis\":\"x\",\"y\":[-0.02860727,-0.005279143,-0.030327328,-0.02923065,-0.02588805,-0.030359296,-0.018850729,-0.029080931,-0.026527023,-0.028479867,-0.03007719],\"yaxis\":\"y\",\"type\":\"scatter\",\"textposition\":\"top right\"},{\"customdata\":[[\"OTHER\",\"AAK1\",\"HGNC:19679\",\"AAK1_HUMAN\",\"Q2M2I8\",46,313,268,11,\"4WSQB\",\"DFGin\",\"BLAminus\",\"OTHER\",\"OTHER\",\"KIAA1048\",1.6150585000000002,5],[\"OTHER\",\"BMP2K\",\"HGNC:18041\",\"BMP2K_HUMAN\",\"Q9NSY1\",51,317,267,11,\"4W9WA\",\"DFGin\",\"BLAminus\",\"OTHER\",\"OTHER\",\"BIKE\",1.6104807000000003,5],[\"OTHER\",\"BUB1B\",\"HGNC:1149\",\"BUB1B_HUMAN\",\"O60566\",766,1021,256,11,null,null,null,\"OTHER\",\"OTHER\",\"BUBR1,MAD3L,SSK1\",2.20736833,2],[\"OTHER\",\"BUB1\",\"HGNC:1148\",\"BUB1_HUMAN\",\"O43683\",787,1056,270,24,\"6F7BA\",\"DFGin\",\"BLAminus\",\"OTHER\",\"OTHER\",\"BUB1L\",3.07596732,6],[\"OTHER\",\"CDC7\",\"HGNC:1745\",\"CDC7_HUMAN\",\"O00311\",58,569,512,161,\"4F9BA\",\"DFGin\",\"BLAminus\",\"OTHER\",\"OTHER\",\"CDC7L1\",1.9683372800000003,9],[\"OTHER\",\"CHUK\",\"HGNC:1974\",\"IKKA_HUMAN\",\"O15111\",15,309,295,32,\"5EBZL\",\"DFGin\",\"BLAminus\",\"OTHER\",\"OTHER\",\"IKKA,TCF16\",1.61137071,8],[\"OTHER\",\"DSTYK\",\"HGNC:29043\",\"DUSTY_HUMAN\",\"Q6XUX3\",648,908,261,11,null,null,null,\"OTHER\",\"OTHER\",\"KIAA0472,RIP5,RIPK5,SGK496\",1.98619942,3],[\"OTHER\",\"EIF2AK1\",\"HGNC:24921\",\"E2AK1_HUMAN\",\"Q9BQI3\",167,583,417,141,null,null,null,\"OTHER\",\"OTHER\",\"HRI,KIAA1369\",1.76042179,9],[\"OTHER\",\"EIF2AK2\",\"HGNC:9437\",\"E2AK2_HUMAN\",\"P19525\",267,538,272,29,\"2A1AB\",\"DFGin\",\"ABAminus\",\"OTHER\",\"OTHER\",\"PKR,PRKR\",1.73816794,6],[\"OTHER\",\"EIF2AK3\",\"HGNC:3255\",\"E2AK3_HUMAN\",\"Q9NZJ5\",593,1077,485,220,\"4X7LA\",\"DFGout\",\"BBAminus\",\"OTHER\",\"OTHER\",\"PEK,PERK\",1.7340686600000002,9],[\"OTHER\",\"EIF2AK4_1\",\"HGNC:19687\",\"E2AK4_HUMAN\",\"Q9P2K8\",280,539,260,25,null,null,null,\"OTHER\",\"OTHER\",\"GCN2,KIAA1338\",2.23078997,3],[\"OTHER\",\"EIF2AK4_2\",\"HGNC:19687\",\"E2AK4_HUMAN\",\"Q9P2K8\",590,1001,412,137,null,null,null,\"OTHER\",\"OTHER\",\"GCN2,KIAA1338\",1.44387626,9],[\"OTHER\",\"ERN1\",\"HGNC:3449\",\"ERN1_HUMAN\",\"O75460\",569,832,264,14,\"4U6RA\",\"DFGin\",\"BLAminus\",\"OTHER\",\"OTHER\",\"IRE1\",1.7907595500000002,4],[\"OTHER\",\"ERN2\",\"HGNC:16942\",\"ERN2_HUMAN\",\"Q76MJ5\",518,781,264,14,null,null,null,\"OTHER\",\"OTHER\",\"IRE2\",1.6769328500000005,4],[\"OTHER\",\"GAK\",\"HGNC:4113\",\"GAK_HUMAN\",\"O14976\",40,315,276,13,\"4Y8DB\",\"DFGin\",\"BLAminus\",\"OTHER\",\"OTHER\",null,1.6248761700000005,6],[\"OTHER\",\"HASPIN\",\"HGNC:19682\",\"HASP_HUMAN\",\"Q8TF76\",484,797,314,32,\"6G3AA\",\"DFGin\",\"BLAminus\",\"OTHER\",\"OTHER\",\"GSG2\",2.37183108,9],[\"OTHER\",\"IKBKB\",\"HGNC:5960\",\"IKKB_HUMAN\",\"O14920\",15,308,294,32,\"4KIKB\",\"DFGin\",\"BLAminus\",\"OTHER\",\"OTHER\",\"IKKB\",1.5807928000000002,8],[\"OTHER\",\"IKBKE\",\"HGNC:14552\",\"IKKE_HUMAN\",\"Q14164\",9,304,296,34,null,null,null,\"OTHER\",\"OTHER\",\"IKKE,IKKI,KIAA0151\",1.82889761,8],[\"OTHER\",\"MLKL\",\"HGNC:26617\",\"MLKL_HUMAN\",\"Q8NB16\",201,468,268,11,\"4MWIA\",\"DFGin\",\"BLBminus\",\"OTHER\",\"OTHER\",null,2.0118375200000003,5],[\"OTHER\",\"MOS\",\"HGNC:7199\",\"MOS_HUMAN\",\"P00540\",60,340,281,17,null,null,null,\"OTHER\",\"OTHER\",null,2.1467838300000004,7],[\"OTHER\",\"NRBP12\",\"HGNC:19339\",\"NRBP2_HUMAN\",\"Q9NSY0\",37,306,270,8,null,null,null,\"OTHER\",\"OTHER\",\"ORFNames=PP9320,TRG16\",2.31375994,6],[\"OTHER\",\"NRBP1\",\"HGNC:7993\",\"NRBP_HUMAN\",\"Q9UHY1\",64,327,264,6,null,null,null,\"OTHER\",\"OTHER\",\"BCON3,NRBP\",2.38759333,4],[\"OTHER\",\"PAN3\",\"HGNC:29991\",\"PAN3_HUMAN\",\"Q58A45\",480,751,272,26,null,null,null,\"OTHER\",\"OTHER\",null,2.44756475,6],[\"OTHER\",\"PBK\",\"HGNC:18282\",\"TOPK_HUMAN\",\"Q96KB5\",32,320,289,16,null,null,null,\"STE\",\"OTHER\",\"TOPK\",2.4834181600000003,8],[\"OTHER\",\"PDIK1L\",\"HGNC:18981\",\"PDK1L_HUMAN\",\"Q8N165\",8,331,324,35,null,null,null,\"OTHER\",\"OTHER\",\"CLIK1L\",1.2983169700000003,9],[\"OTHER\",\"PEAK1\",\"HGNC:29431\",\"PEAK1_HUMAN\",\"Q9H792\",1327,1665,339,57,\"6BHCA\",\"DFGin\",\"BLAminus\",\"OTHER\",\"OTHER\",\"KIAA2002\",2.7141937199999995,9],[\"OTHER\",\"PEAK3\",\"HGNC:24793\",\"PEAK3_HUMAN\",\"Q6ZS72\",171,397,227,8,null,null,null,\"None\",\"OTHER\",\"C19orf35\",3.12610902,0],[\"OTHER\",\"PIK3R4\",\"HGNC:8982\",\"PI3R4_HUMAN\",\"Q99570\",26,313,288,28,null,null,null,\"OTHER\",\"OTHER\",\"VPS15\",2.9802240400000004,8],[\"OTHER\",\"PINK1\",\"HGNC:14581\",\"PINK1_HUMAN\",\"Q9BXM7\",156,509,354,36,null,null,null,\"OTHER\",\"OTHER\",null,1.97808661,9],[\"OTHER\",\"PKDCC\",\"HGNC:25123\",\"PKDCC_HUMAN\",\"Q504Y2\",138,391,254,18,null,null,null,\"OTHER\",\"OTHER\",\"SGK493,VLK\",3.1948902400000003,1],[\"OTHER\",\"PKMYT1\",\"HGNC:29650\",\"PMYT1_HUMAN\",\"Q99640\",110,359,250,11,\"5VD3A\",\"DFGin\",\"BLAminus\",\"OTHER\",\"OTHER\",\"MYT1\",1.94660681,0],[\"OTHER\",\"POMK\",\"HGNC:26267\",\"SG196_HUMAN\",\"Q9H5K3\",81,333,253,12,null,null,null,\"OTHER\",\"OTHER\",\"SGK196\",3.1168583,1],[\"OTHER\",\"PRAG1\",\"HGNC:25438\",\"PRAG1_HUMAN\",\"Q86YV5\",992,1327,336,53,\"5VE6A\",\"DFGin\",null,\"OTHER\",\"OTHER\",\"SGK223\",2.77162324,9],[\"OTHER\",\"PXK\",\"HGNC:23326\",\"PXK_HUMAN\",\"Q7Z7A4\",146,396,251,17,null,null,null,\"OTHER\",\"OTHER\",null,3.4450942400000004,0],[\"OTHER\",\"RNASEL\",\"HGNC:10050\",\"RN5A_HUMAN\",\"Q05823\",361,586,226,22,\"4OAUC\",\"DFGin\",\"BLAminus\",\"OTHER\",\"OTHER\",\"RNS4\",2.68961353,0],[\"OTHER\",\"RPS6KC1\",\"HGNC:10439\",\"KS6C1_HUMAN\",\"Q96S38\",337,1059,723,480,null,null,null,\"OTHER\",\"OTHER\",\"RPK118\",1.94975514,9],[\"OTHER\",\"RPS6KL1\",\"HGNC:20222\",\"RPKL1_HUMAN\",\"Q9Y6S9\",150,539,390,150,null,null,null,\"OTHER\",\"OTHER\",null,1.90674264,9],[\"OTHER\",\"SBK1\",\"HGNC:17699\",\"SBK1_HUMAN\",\"Q52WX2\",53,315,263,13,null,null,null,\"OTHER\",\"OTHER\",null,1.66669679,4],[\"OTHER\",\"SBK2\",\"HGNC:34416\",\"SBK2_HUMAN\",\"P0C263\",62,327,266,14,null,null,null,\"OTHER\",\"OTHER\",\"SGK069\",1.9251727300000003,5],[\"OTHER\",\"SBK3\",\"HGNC:44121\",\"SBK3_HUMAN\",\"P0C264\",43,306,264,15,null,null,null,\"OTHER\",\"OTHER\",\"SGK110\",2.0427871700000004,4],[\"OTHER\",\"SCYL1\",\"HGNC:14372\",\"SCYL1_HUMAN\",\"Q96KG9\",14,263,250,15,null,null,null,\"OTHER\",\"OTHER\",\"CVAK90,GKLP,NTKL,TAPK,TEIF,TRAP\",2.84008638,0],[\"OTHER\",\"SCYL2\",\"HGNC:19286\",\"SCYL2_HUMAN\",\"Q6P3W7\",32,327,296,15,null,null,null,\"OTHER\",\"OTHER\",\"CVAK104,KIAA1360\",2.39933165,8],[\"OTHER\",\"SCYL3\",\"HGNC:19285\",\"PACE1_HUMAN\",\"Q8IZE3\",11,245,235,11,null,null,null,\"OTHER\",\"OTHER\",\"PACE1\",3.10965353,0],[\"OTHER\",\"STK16\",\"HGNC:11394\",\"STK16_HUMAN\",\"O75716\",20,292,273,10,\"2BUJA\",\"DFGin\",\"BLAminus\",\"OTHER\",\"OTHER\",\"MPSK1,PKL12,TSF1\",1.83129107,6],[\"OTHER\",\"STK31\",\"HGNC:11407\",\"STK31_HUMAN\",\"Q9BXU1\",710,972,263,21,null,null,null,\"OTHER\",\"OTHER\",\"SGK396\",3.30609761,4],[\"OTHER\",\"STK35\",\"HGNC:16254\",\"STK35_HUMAN\",\"Q8TDR2\",202,529,328,37,null,null,null,\"OTHER\",\"OTHER\",\"CLIK1,PDIK1,STK35L1\",1.3376538600000003,9],[\"OTHER\",\"STK36\",\"HGNC:17209\",\"STK36_HUMAN\",\"Q9NRP7\",4,254,251,9,null,null,null,\"OTHER\",\"OTHER\",\"KIAA1278\",1.14030088,0],[\"OTHER\",\"STKLD1\",\"HGNC:28669\",\"STKL1_HUMAN\",\"Q8NE28\",28,297,270,19,null,null,null,\"OTHER\",\"OTHER\",\"C9orf96,SGK071\",1.86516554,6],[\"OTHER\",\"TBCK\",\"HGNC:28261\",\"TBCK_HUMAN\",\"Q8TEA7\",1,273,273,24,null,null,null,\"OTHER\",\"OTHER\",\"TBCKL\",1.86681671,6],[\"OTHER\",\"TBK1\",\"HGNC:11584\",\"TBK1_HUMAN\",\"Q9UHD2\",7,304,298,33,\"6O8BB\",\"DFGin\",\"BLAminus\",\"OTHER\",\"OTHER\",\"NAK\",1.83908724,8],[\"OTHER\",\"TEX14\",\"HGNC:11737\",\"TEX14_HUMAN\",\"Q8IWB6\",227,512,286,19,null,null,null,\"OTHER\",\"OTHER\",\"SGK307\",2.8430874800000003,7],[\"OTHER\",\"TLK1\",\"HGNC:11841\",\"TLK1_HUMAN\",\"Q9UKI8\",456,734,279,13,null,null,null,\"OTHER\",\"OTHER\",\"KIAA0137\",1.19132836,7],[\"OTHER\",\"TLK2\",\"HGNC:11842\",\"TLK2_HUMAN\",\"Q86UE8\",462,741,280,13,\"5O0YA\",\"DFGin\",\"BLAminus\",\"OTHER\",\"OTHER\",null,1.1585742799999998,7],[\"OTHER\",\"TP53RK\",\"HGNC:16197\",\"PRPK_HUMAN\",\"Q96S44\",33,253,221,14,null,null,null,\"OTHER\",\"OTHER\",\"C20orf64,PRPK\",4.71654659,0],[\"OTHER\",\"TTK\",\"HGNC:12401\",\"TTK_HUMAN\",\"P33981\",525,791,267,11,\"5AP1A\",\"DFGin\",\"ABAminus\",\"OTHER\",\"OTHER\",\"MPS1,MPS1L1\",1.7002585000000003,5],[\"OTHER\",\"UHMK1\",\"HGNC:19683\",\"UHMK1_HUMAN\",\"Q8TAS1\",23,304,282,13,null,null,null,\"OTHER\",\"OTHER\",\"KIS,KIST\",1.7231973900000002,7],[\"OTHER\",\"ULK1\",\"HGNC:12558\",\"ULK1_HUMAN\",\"O75385\",14,278,265,12,\"5CI7A\",\"DFGin\",\"BLAminus\",\"OTHER\",\"OTHER\",\"KIAA0722\",1.08725154,5],[\"OTHER\",\"ULK2\",\"HGNC:13480\",\"ULK2_HUMAN\",\"Q8IYT8\",7,271,265,12,\"6QAVC\",\"DFGin\",\"BLAminus\",\"OTHER\",\"OTHER\",\"KIAA0623\",1.07391749,5],[\"OTHER\",\"ULK3\",\"HGNC:19703\",\"ULK3_HUMAN\",\"Q6PHR2\",14,270,257,12,\"6FDYU\",\"DFGin\",\"BLAminus\",\"OTHER\",\"OTHER\",null,1.2240243400000002,2],[\"OTHER\",\"ULK4\",\"HGNC:15784\",\"ULK4_HUMAN\",\"Q96C45\",4,280,277,24,null,null,null,\"OTHER\",\"OTHER\",null,1.60760881,6],[\"OTHER\",\"WEE1\",\"HGNC:12761\",\"WEE1_HUMAN\",\"P30291\",299,569,271,19,\"5VD7A\",\"DFGin\",\"BLAminus\",\"OTHER\",\"OTHER\",null,1.95558422,6],[\"OTHER\",\"WEE2\",\"HGNC:19684\",\"WEE2_HUMAN\",\"P0C1S8\",212,486,275,23,\"5VDKA\",\"DFGin\",\"BLAminus\",\"OTHER\",\"OTHER\",\"WEE1B\",1.90673539,6],[\"OTHER\",\"WNK1\",\"HGNC:14540\",\"WNK1_HUMAN\",\"Q9H4A3\",220,479,260,11,\"5WE8B\",\"DFGin\",\"BLAminus\",\"OTHER\",\"OTHER\",\"HSN2,KDP,KIAA0344,PRKWNK1\",1.693825,3],[\"OTHER\",\"WNK2\",\"HGNC:14542\",\"WNK2_HUMAN\",\"Q9Y3S1\",194,453,260,11,null,null,null,\"OTHER\",\"OTHER\",\"KIAA1760,PRKWNK2,SDCCAG43\",1.69369983,3],[\"OTHER\",\"WNK3\",\"HGNC:14543\",\"WNK3_HUMAN\",\"Q9BYP7\",146,405,260,11,\"5O21B\",\"DFGin\",\"BLAminus\",\"OTHER\",\"OTHER\",\"KIAA1566,PRKWNK3\",1.6704885900000002,3],[\"OTHER\",\"WNK4\",\"HGNC:14544\",\"WNK4_HUMAN\",\"Q96J92\",173,432,260,11,null,null,null,\"OTHER\",\"OTHER\",\"PRKWNK4\",1.7395961600000005,3]],\"hovertemplate\":\"<b>%{hovertext}</b><br><br>1_Group=%{customdata[0]}<br>pm1=%{x}<br>pm2=%{y}<br>2_Gene=%{customdata[1]}<br>3_HGNC=%{customdata[2]}<br>4_Uni_entry=%{customdata[3]}<br>5_Uni_acc=%{customdata[4]}<br>6_Domain_begin=%{customdata[5]}<br>7_Domain_end=%{customdata[6]}<br>8_Domain_length=%{customdata[7]}<br>9_Largest_insert_length=%{customdata[8]}<br>10_PDB_validation=%{customdata[9]}<br>11_Conformational_state=%{customdata[10]}<br>12_Dihedral_state=%{customdata[11]}<br>13_Group_in_Uni=%{customdata[12]}<br>14_Group_in_Manning=%{customdata[13]}<br>15_Synonymn=%{customdata[14]}<br>evo_distance=%{customdata[15]}<br>decile_domain=%{customdata[16]}<extra></extra>\",\"hovertext\":[\"OTHER\",\"OTHER\",\"OTHER\",\"OTHER\",\"OTHER\",\"OTHER\",\"OTHER\",\"OTHER\",\"OTHER\",\"OTHER\",\"OTHER\",\"OTHER\",\"OTHER\",\"OTHER\",\"OTHER\",\"OTHER\",\"OTHER\",\"OTHER\",\"OTHER\",\"OTHER\",\"OTHER\",\"OTHER\",\"OTHER\",\"OTHER\",\"OTHER\",\"OTHER\",\"OTHER\",\"OTHER\",\"OTHER\",\"OTHER\",\"OTHER\",\"OTHER\",\"OTHER\",\"OTHER\",\"OTHER\",\"OTHER\",\"OTHER\",\"OTHER\",\"OTHER\",\"OTHER\",\"OTHER\",\"OTHER\",\"OTHER\",\"OTHER\",\"OTHER\",\"OTHER\",\"OTHER\",\"OTHER\",\"OTHER\",\"OTHER\",\"OTHER\",\"OTHER\",\"OTHER\",\"OTHER\",\"OTHER\",\"OTHER\",\"OTHER\",\"OTHER\",\"OTHER\",\"OTHER\",\"OTHER\",\"OTHER\",\"OTHER\",\"OTHER\",\"OTHER\",\"OTHER\"],\"legendgroup\":\"OTHER\",\"marker\":{\"color\":\"#19d3f3\",\"symbol\":\"circle\"},\"mode\":\"markers\",\"name\":\"OTHER\",\"orientation\":\"v\",\"showlegend\":true,\"x\":[0.0030918925,0.0024505563,-0.4182118,-0.57321745,-0.7829882,-0.26452586,0.304247,0.31032196,0.3670433,0.36928838,-0.61466694,0.37037957,-0.22101638,-0.20817636,0.06281393,-0.23918413,-0.26455724,-0.27032843,0.32280454,0.39363897,0.6658619,0.67043465,-0.035151437,0.47402334,-0.16490343,0.23128721,0.24608077,-0.8753242,-0.62501866,-0.35234675,0.46346045,0.29503906,0.24419802,0.6883588,-0.23054597,0.43622923,0.43359864,-0.023048468,0.21762465,-0.3419292,-0.45572808,0.6795002,0.42065284,0.1131519,-0.40765178,-0.27288502,-0.20036727,-0.90020704,0.85569924,-0.27047297,0.39490452,-0.31357816,-0.31496844,0.6380223,-0.47801188,-0.875439,-0.23848408,-0.25003627,-0.22932418,-0.17774627,0.39036456,0.3916089,0.64755017,0.6538428,0.65426487,0.6506659],\"xaxis\":\"x\",\"y\":[0.04636983,0.046185937,0.6710944,0.40565875,0.065769754,0.4706381,-0.8254541,0.010190567,0.019401744,0.040785354,0.6963688,0.04067033,0.8847341,0.88987154,0.08857844,-0.61573786,0.47032356,0.41382036,-0.7375199,-0.5395111,-0.675132,-0.6637451,0.13968405,-0.68650156,0.3008891,0.45746806,0.5401257,-0.090079315,0.30071706,-0.13013788,0.1448745,-0.8903172,0.4641809,-0.13186865,0.9253041,0.67594874,0.6528349,0.51852566,0.5866545,0.114243165,0.1303489,0.16764961,0.49827483,-0.20323096,-0.29596683,0.3076381,0.20497313,0.0030878922,0.11104276,0.41376826,-0.6227165,0.59684175,0.59282446,-0.35505053,-0.11876818,-0.20975307,0.39616612,0.38479203,0.3676285,0.33685896,0.04675003,0.046836354,-0.66786784,-0.66256183,-0.6497577,-0.6779934],\"yaxis\":\"y\",\"type\":\"scatter\",\"textposition\":\"top right\"},{\"customdata\":[[\"RGC\",\"GUCY2C\",\"HGNC:4688\",\"GUC2C_HUMAN\",\"P25092\",489,747,259,19,null,null,null,\"RGC\",\"RGC\",\"GUC2C,STAR\",2.48786222,2],[\"RGC\",\"GUCY2D\",\"HGNC:4689\",\"GUC2D_HUMAN\",\"Q02846\",510,807,298,26,null,null,null,\"RGC\",\"RGC\",\"CORD6,GUC1A4,GUC2D,RETGC,RETGC1\",2.5425900500000003,8],[\"RGC\",\"GUCY2F\",\"HGNC:4691\",\"GUC2F_HUMAN\",\"P51841\",547,811,265,14,null,null,null,\"RGC\",\"RGC\",\"GUC2F,RETGC2\",2.4455792400000003,5],[\"RGC\",\"NPR1\",\"HGNC:7943\",\"ANPRA_HUMAN\",\"P16066\",533,803,271,15,null,null,null,\"RGC\",\"RGC\",\"ANPRA\",2.15770726,6],[\"RGC\",\"NPR2\",\"HGNC:7944\",\"ANPRB_HUMAN\",\"P20594\",517,788,272,15,null,null,null,\"RGC\",\"RGC\",\"ANPRB\",2.1344354300000004,6]],\"hovertemplate\":\"<b>%{hovertext}</b><br><br>1_Group=%{customdata[0]}<br>pm1=%{x}<br>pm2=%{y}<br>2_Gene=%{customdata[1]}<br>3_HGNC=%{customdata[2]}<br>4_Uni_entry=%{customdata[3]}<br>5_Uni_acc=%{customdata[4]}<br>6_Domain_begin=%{customdata[5]}<br>7_Domain_end=%{customdata[6]}<br>8_Domain_length=%{customdata[7]}<br>9_Largest_insert_length=%{customdata[8]}<br>10_PDB_validation=%{customdata[9]}<br>11_Conformational_state=%{customdata[10]}<br>12_Dihedral_state=%{customdata[11]}<br>13_Group_in_Uni=%{customdata[12]}<br>14_Group_in_Manning=%{customdata[13]}<br>15_Synonymn=%{customdata[14]}<br>evo_distance=%{customdata[15]}<br>decile_domain=%{customdata[16]}<extra></extra>\",\"hovertext\":[\"RGC\",\"RGC\",\"RGC\",\"RGC\",\"RGC\"],\"legendgroup\":\"RGC\",\"marker\":{\"color\":\"#FF6692\",\"symbol\":\"circle\"},\"mode\":\"markers\",\"name\":\"RGC\",\"orientation\":\"v\",\"showlegend\":true,\"x\":[0.4829573,0.46391028,0.46355695,0.47551942,0.47344533],\"xaxis\":\"x\",\"y\":[-0.8084632,-0.8149585,-0.82387984,-0.8203606,-0.8099556],\"yaxis\":\"y\",\"type\":\"scatter\",\"textposition\":\"top right\"},{\"customdata\":[[\"STE\",\"MAP2K1\",\"HGNC:6840\",\"MP2K1_HUMAN\",\"Q02750\",68,361,294,42,\"4ANBA\",\"DFGin\",\"BLBplus\",\"STE\",\"STE\",\"MEK1,PRKMK1\",1.6455243000000002,8],[\"STE\",\"MAP2K2\",\"HGNC:6842\",\"MP2K2_HUMAN\",\"P36507\",72,369,298,46,\"1S9IA\",\"DFGin\",\"BLBplus\",\"STE\",\"STE\",\"MEK2,MKK2,PRKMK2\",1.6314089800000002,8],[\"STE\",\"MAP2K3\",\"HGNC:6843\",\"MP2K3_HUMAN\",\"P46734\",64,325,262,11,null,null,null,\"STE\",\"STE\",\"MEK3,MKK3,PRKMK3,SKK2\",1.9051462100000005,4],[\"STE\",\"MAP2K4\",\"HGNC:6844\",\"MP2K4_HUMAN\",\"P45985\",102,367,266,14,\"3ALOA\",\"DFGin\",\"BLBplus\",\"STE\",\"STE\",\"JNKK1,MEK4,MKK4,PRKMK4,SEK1,SERK1,SKK1\",1.7877633700000004,5],[\"STE\",\"MAP2K5\",\"HGNC:6845\",\"MP2K5_HUMAN\",\"Q13163\",166,419,254,11,null,null,null,\"STE\",\"STE\",\"MEK5,MKK5,PRKMK5\",1.6483215200000003,1],[\"STE\",\"MAP2K6\",\"HGNC:6846\",\"MP2K6_HUMAN\",\"P52564\",53,314,262,11,\"3VN9A\",null,null,\"STE\",\"STE\",\"MEK6,MKK6,PRKMK6,SKK3\",1.8942548500000005,4],[\"STE\",\"MAP2K7\",\"HGNC:6847\",\"MP2K7_HUMAN\",\"O14733\",120,380,261,12,\"6QHRA\",\"DFGin\",\"BLAminus\",\"STE\",\"STE\",\"JNKK2,MEK7,MKK7,PRKMK7,SKK4\",1.80773392,3],[\"STE\",\"MAP3K14\",\"HGNC:6853\",\"M3K14_HUMAN\",\"Q99558\",399,653,255,12,\"4IDVD\",\"DFGin\",\"BLAminus\",\"STE\",\"STE\",\"NIK\",1.7335405300000004,1],[\"STE\",\"MAP3K15\",\"HGNC:31689\",\"M3K15_HUMAN\",\"Q6ZN16\",645,908,264,11,null,null,null,\"STE\",\"STE\",\"ASK3\",1.9461194500000003,4],[\"STE\",\"MAP3K19\",\"HGNC:26249\",\"M3K19_HUMAN\",\"Q56UN5\",1061,1324,264,12,null,null,null,\"STE\",\"STE\",\"RCK,YSK4\",1.5620633000000006,4],[\"STE\",\"MAP3K1\",\"HGNC:6848\",\"M3K1_HUMAN\",\"Q13233\",1243,1508,266,12,null,null,null,\"STE\",\"STE\",\"MAPKKK1,MEKK,MEKK1\",1.6212825400000004,5],[\"STE\",\"MAP3K2\",\"HGNC:6854\",\"M3K2_HUMAN\",\"Q9Y2U5\",356,616,261,11,null,null,null,\"STE\",\"STE\",\"MAPKKK2,MEKK2\",1.6371399800000004,3],[\"STE\",\"MAP3K3\",\"HGNC:6855\",\"M3K3_HUMAN\",\"Q99759\",362,622,261,11,null,null,null,\"STE\",\"STE\",\"MAPKKK3,MEKK3\",1.6628148000000005,3],[\"STE\",\"MAP3K4\",\"HGNC:6856\",\"M3K4_HUMAN\",\"Q9Y6R4\",1343,1601,259,10,null,null,null,\"STE\",\"STE\",\"KIAA0213,MAPKKK4,MEKK4,MTK1\",1.6334794900000005,2],[\"STE\",\"MAP3K5\",\"HGNC:6857\",\"M3K5_HUMAN\",\"Q99683\",673,938,266,11,\"5VIOD\",\"DFGin\",\"BLAminus\",\"STE\",\"STE\",\"ASK1,MAPKKK5,MEKK5\",1.5669514800000006,5],[\"STE\",\"MAP3K6\",\"HGNC:6858\",\"M3K6_HUMAN\",\"O95382\",643,906,264,11,null,null,null,\"STE\",\"STE\",\"ASK2,MAPKKK6,MEKK6\",1.6081612400000007,4],[\"STE\",\"MAP3K8\",\"HGNC:6860\",\"M3K8_HUMAN\",\"P41279\",127,388,262,18,\"5IU2B\",\"DFGin\",\"BLAminus\",\"STE\",\"STE\",\"COT,ESTF\",1.7039095400000002,4],[\"STE\",\"MAP4K1\",\"HGNC:6863\",\"M4K1_HUMAN\",\"Q92918\",17,274,258,14,\"6CQDB\",\"DFGin\",\"BLAminus\",\"STE\",\"STE\",\"HPK1\",1.58503004,2],[\"STE\",\"MAP4K2\",\"HGNC:6864\",\"M4K2_HUMAN\",\"Q12851\",16,273,258,14,null,null,null,\"STE\",\"STE\",\"GCK,RAB8IP\",1.5823779,2],[\"STE\",\"MAP4K3\",\"HGNC:6865\",\"M4K3_HUMAN\",\"Q8IVH8\",16,273,258,14,\"5J5TA\",\"DFGin\",\"BLAminus\",\"STE\",\"STE\",\"RAB8IPL1\",1.59341934,2],[\"STE\",\"MAP4K4\",\"HGNC:6866\",\"M4K4_HUMAN\",\"O95819\",25,289,265,11,\"4ZK5A\",\"DFGin\",\"BLAminus\",\"STE\",\"STE\",\"HGK,KIAA0687,NIK\",1.53942302,5],[\"STE\",\"MAP4K5\",\"HGNC:6867\",\"M4K5_HUMAN\",\"Q9Y4K4\",20,277,258,14,null,null,null,\"STE\",\"STE\",null,1.60752182,2],[\"STE\",\"MINK1\",\"HGNC:17565\",\"MINK1_HUMAN\",\"Q8N4C8\",25,289,265,11,null,null,null,\"STE\",\"STE\",\"B55,MAP4K6,MINK,YSK2,ZC3\",1.50778548,5],[\"STE\",\"MYO3A\",\"HGNC:7601\",\"MYO3A_HUMAN\",\"Q8NEV4\",21,287,267,12,null,null,null,\"STE\",\"STE\",null,1.60927696,5],[\"STE\",\"MYO3B\",\"HGNC:15576\",\"MYO3B_HUMAN\",\"Q8WXR4\",27,293,267,12,null,null,null,\"STE\",\"STE\",null,1.6193604600000002,5],[\"STE\",\"NRK\",\"HGNC:25391\",\"NRK_HUMAN\",\"Q7Z2Y5\",25,313,289,29,null,null,null,\"STE\",\"STE\",null,1.62946105,8],[\"STE\",\"OXSR1\",\"HGNC:8508\",\"OXSR1_HUMAN\",\"O95747\",17,291,275,19,\"3DAKD\",\"DFGin\",\"BLBtrans\",\"STE\",\"STE\",\"KIAA1101,OSR1\",1.5256628,6],[\"STE\",\"PAK1\",\"HGNC:8590\",\"PAK1_HUMAN\",\"Q13153\",270,521,252,12,\"5KBQA\",\"DFGin\",\"BLAminus\",\"STE\",\"STE\",null,1.57293176,0],[\"STE\",\"PAK2\",\"HGNC:8591\",\"PAK2_HUMAN\",\"Q13177\",249,499,251,12,null,null,null,\"STE\",\"STE\",null,1.60529246,0],[\"STE\",\"PAK3\",\"HGNC:8592\",\"PAK3_HUMAN\",\"O75914\",283,534,252,12,\"6FD3A\",\"DFGin\",\"BLAminus\",\"STE\",\"STE\",\"OPHN3\",1.56537671,0],[\"STE\",\"PAK4\",\"HGNC:16059\",\"PAK4_HUMAN\",\"O96013\",321,572,252,12,\"5ZJWA\",\"DFGin\",\"BLAminus\",\"STE\",\"STE\",\"KIAA1142\",1.63857096,0],[\"STE\",\"PAK5\",\"HGNC:15916\",\"PAK5_HUMAN\",\"Q9P286\",449,700,252,12,\"2F57B\",\"DFGin\",\"BLAminus\",\"STE\",\"STE\",\"KIAA1264,PAK7\",1.6438358,0],[\"STE\",\"PAK6\",\"HGNC:16061\",\"PAK6_HUMAN\",\"Q9NQU5\",407,658,252,12,\"4KS8A\",\"DFGin\",\"BLAminus\",\"STE\",\"STE\",\"PAK5\",1.65345044,0],[\"STE\",\"SLK\",\"HGNC:11088\",\"SLK_HUMAN\",\"Q9H2G2\",34,292,259,12,\"2JFMA\",\"DFGin\",\"BLAminus\",\"STE\",\"STE\",\"KIAA0204,STK2\",1.4646624300000002,2],[\"STE\",\"STK10\",\"HGNC:11388\",\"STK10_HUMAN\",\"O94804\",36,294,259,12,\"6HXFC\",\"DFGin\",\"BLAminus\",\"STE\",\"STE\",\"LOK\",1.4508533300000002,2],[\"STE\",\"STK24\",\"HGNC:11403\",\"STK24_HUMAN\",\"Q9Y6E0\",36,286,251,10,\"4W8EA\",\"DFGin\",\"BLAminus\",\"STE\",\"STE\",\"MST3,STK3\",1.4638351000000005,0],[\"STE\",\"STK25\",\"HGNC:11404\",\"STK25_HUMAN\",\"O00506\",20,270,251,10,\"2XIKA\",\"DFGin\",\"BLAminus\",\"STE\",\"STE\",\"SOK1,YSK1\",1.45906569,0],[\"STE\",\"STK26\",\"HGNC:18174\",\"STK26_HUMAN\",\"Q9P289\",24,274,251,10,\"4FZAB\",\"DFGout\",null,\"STE\",\"STE\",\"MASK,MST4\",1.47682272,0],[\"STE\",\"STK39\",\"HGNC:17717\",\"STK39_HUMAN\",\"Q9UEW8\",63,337,275,19,null,null,null,\"STE\",\"STE\",\"SPAK\",1.4483171600000002,6],[\"STE\",\"STK3\",\"HGNC:11406\",\"STK3_HUMAN\",\"Q13188\",27,278,252,12,\"5DH3A\",\"DFGin\",\"BLAminus\",\"STE\",\"STE\",\"KRS1,MST2\",1.5735549000000002,0],[\"STE\",\"STK4\",\"HGNC:11408\",\"STK4_HUMAN\",\"Q13043\",30,281,252,12,\"3COMB\",\"DFGin\",\"BLAminus\",\"STE\",\"STE\",\"KRS2,MST1\",1.4460344500000002,0],[\"STE\",\"STRADA\",\"HGNC:30172\",\"STRAA_HUMAN\",\"Q7RTN6\",69,379,311,55,\"2WTKB\",\"DFGin\",null,\"STE\",\"STE\",\"LYK5,STRAD\",2.08591213,9],[\"STE\",\"STRADB\",\"HGNC:13205\",\"STRAB_HUMAN\",\"Q9C0K7\",58,369,312,56,null,null,null,\"STE\",\"STE\",\"ALS2CR2,ILPIP\",2.16727251,9],[\"STE\",\"TAOK1\",\"HGNC:29259\",\"TAOK1_HUMAN\",\"Q7L7X3\",28,281,254,11,null,null,null,\"STE\",\"STE\",\"KIAA1361,MAP3K16,MARKK\",1.54935318,1],[\"STE\",\"TAOK2\",\"HGNC:16835\",\"TAOK2_HUMAN\",\"Q9UL54\",28,281,254,11,null,null,null,\"STE\",\"STE\",\"KIAA0881,MAP3K17,PSK,PSK1\",1.55769809,1],[\"STE\",\"TAOK3\",\"HGNC:18133\",\"TAOK3_HUMAN\",\"Q9H2K8\",24,277,254,11,\"6BDNA\",\"DFGin\",\"BLAminus\",\"STE\",\"STE\",\"DPK,JIK,KDS,MAP3K18\",1.51697438,1],[\"STE\",\"TNIK\",\"HGNC:30765\",\"TNIK_HUMAN\",\"Q9UKE5\",25,289,265,11,\"5AX9C\",\"DFGin\",\"BLAminus\",\"STE\",\"STE\",\"KIAA0551\",1.53122317,5]],\"hovertemplate\":\"<b>%{hovertext}</b><br><br>1_Group=%{customdata[0]}<br>pm1=%{x}<br>pm2=%{y}<br>2_Gene=%{customdata[1]}<br>3_HGNC=%{customdata[2]}<br>4_Uni_entry=%{customdata[3]}<br>5_Uni_acc=%{customdata[4]}<br>6_Domain_begin=%{customdata[5]}<br>7_Domain_end=%{customdata[6]}<br>8_Domain_length=%{customdata[7]}<br>9_Largest_insert_length=%{customdata[8]}<br>10_PDB_validation=%{customdata[9]}<br>11_Conformational_state=%{customdata[10]}<br>12_Dihedral_state=%{customdata[11]}<br>13_Group_in_Uni=%{customdata[12]}<br>14_Group_in_Manning=%{customdata[13]}<br>15_Synonymn=%{customdata[14]}<br>evo_distance=%{customdata[15]}<br>decile_domain=%{customdata[16]}<extra></extra>\",\"hovertext\":[\"STE\",\"STE\",\"STE\",\"STE\",\"STE\",\"STE\",\"STE\",\"STE\",\"STE\",\"STE\",\"STE\",\"STE\",\"STE\",\"STE\",\"STE\",\"STE\",\"STE\",\"STE\",\"STE\",\"STE\",\"STE\",\"STE\",\"STE\",\"STE\",\"STE\",\"STE\",\"STE\",\"STE\",\"STE\",\"STE\",\"STE\",\"STE\",\"STE\",\"STE\",\"STE\",\"STE\",\"STE\",\"STE\",\"STE\",\"STE\",\"STE\",\"STE\",\"STE\",\"STE\",\"STE\",\"STE\",\"STE\"],\"legendgroup\":\"STE\",\"marker\":{\"color\":\"#B6E880\",\"symbol\":\"circle\"},\"mode\":\"markers\",\"name\":\"STE\",\"orientation\":\"v\",\"showlegend\":true,\"x\":[-0.83274263,-0.8434599,0.86552185,-0.85396045,-0.8451996,-0.8459362,-0.8544334,-0.61507416,-0.6032102,-0.61416095,-0.6047376,-0.60409826,-0.59768105,-0.58786744,-0.5892438,-0.6014586,0.7631865,0.8039201,0.74041915,0.7801678,0.86822546,0.7851924,0.866429,0.87376577,0.8587945,0.8808771,0.86444014,-0.22951289,-0.22657362,-0.23046228,-0.22715916,-0.23249032,-0.23365301,0.7477477,0.74564105,0.8139275,0.79163665,0.8199539,0.8497029,0.8576842,0.82824725,0.88735217,0.8889888,0.82246995,0.83574206,0.8273036,0.8245096],\"xaxis\":\"x\",\"y\":[0.42475894,0.428994,0.24260415,0.42786443,0.43883657,0.42090294,0.41553545,0.73379934,0.7468924,0.7180982,0.72364867,0.73199946,0.7315743,0.73253065,0.71487665,0.71541375,0.01999158,-0.04301794,-0.024262048,-0.047407515,-0.14209445,-0.057052996,-0.15016592,-0.12506452,-0.16435228,-0.14674756,0.018753514,0.9533846,0.95515245,0.95615095,0.9495347,0.9488697,0.95355487,-0.06457128,-0.043172263,0.047660712,0.02672168,0.026976855,-0.03785507,0.03824683,-0.010462503,0.035124812,0.019546157,0.091068745,0.087305784,0.08499604,-0.12096613],\"yaxis\":\"y\",\"type\":\"scatter\",\"textposition\":\"top right\"},{\"customdata\":[[\"TKL\",\"ACVR1B\",\"HGNC:172\",\"ACV1B_HUMAN\",\"P36896\",207,496,290,16,null,null,null,\"TKL\",\"TKL\",\"ACVRLK4,ALK4\",2.0310642800000003,8],[\"TKL\",\"ACVR1C\",\"HGNC:18123\",\"ACV1C_HUMAN\",\"Q8NER5\",195,484,290,16,null,null,null,\"TKL\",\"TKL\",\"ALK7\",2.06101996,8],[\"TKL\",\"ACVR1\",\"HGNC:171\",\"ACVR1_HUMAN\",\"Q04771\",208,497,290,16,\"6GIPA\",\"DFGin\",\"BLAminus\",\"TKL\",\"TKL\",\"ACVRLK2\",2.11424669,8],[\"TKL\",\"ACVR2A\",\"HGNC:173\",\"AVR2A_HUMAN\",\"P27037\",192,481,290,16,\"4ASXB\",\"DFGin\",\"BLAminus\",\"TKL\",\"TKL\",\"ACVR2\",2.2514942400000004,8],[\"TKL\",\"ACVR2B\",\"HGNC:174\",\"AVR2B_HUMAN\",\"Q13705\",190,480,291,16,\"2QLUA\",\"DFGin\",\"BLAminus\",\"TKL\",\"TKL\",null,2.2837377000000005,8],[\"TKL\",\"ACVRL1\",\"HGNC:175\",\"ACVL1_HUMAN\",\"P37023\",202,491,290,16,\"3MY0O\",\"DFGin\",\"BLAminus\",\"TKL\",\"TKL\",\"ACVRLK1,ALK1\",2.03579282,8],[\"TKL\",\"AMHR2\",\"HGNC:465\",\"AMHR2_HUMAN\",\"Q16671\",203,507,305,17,null,null,null,\"TKL\",\"TKL\",\"AMHR,MISR2\",2.5422952700000003,9],[\"TKL\",\"ANKK1\",\"HGNC:21027\",\"ANKK1_HUMAN\",\"Q8NFD2\",21,287,267,12,null,null,null,\"TKL\",\"TKL\",\"PKK2,SGK288\",1.96346005,5],[\"TKL\",\"ARAF\",\"HGNC:646\",\"ARAF_HUMAN\",\"P10398\",310,569,260,14,null,null,null,\"TKL\",\"TKL\",\"ARAF1,PKS,PKS2\",1.80328954,3],[\"TKL\",\"BMPR1A\",\"HGNC:1076\",\"BMR1A_HUMAN\",\"P36894\",234,523,290,16,null,null,null,\"TKL\",\"TKL\",\"ACVRLK3,ALK3\",2.05013696,8],[\"TKL\",\"BMPR1B\",\"HGNC:1077\",\"BMR1B_HUMAN\",\"O00238\",204,493,290,16,\"3MDYC\",\"DFGin\",\"BLAminus\",\"TKL\",\"TKL\",null,2.03184614,8],[\"TKL\",\"BMPR2\",\"HGNC:1078\",\"BMPR2_HUMAN\",\"Q13873\",203,503,301,17,\"3G2FA\",\"DFGin\",\"BLAminus\",\"TKL\",\"TKL\",\"PPH1\",2.3380707000000003,9],[\"TKL\",\"BRAF\",\"HGNC:1097\",\"BRAF_HUMAN\",\"P15056\",457,716,260,14,\"4MNEB\",\"DFGin\",\"BLAminus\",\"TKL\",\"TKL\",\"BRAF1,RAFB1\",1.70807239,3],[\"TKL\",\"ILK\",\"HGNC:6040\",\"ILK_HUMAN\",\"Q13418\",193,448,256,11,\"6MIBA\",\"DFGinter\",null,\"TKL\",\"TKL\",\"ILK1,ILK2\",2.2452229800000003,2],[\"TKL\",\"IRAK1\",\"HGNC:6112\",\"IRAK1_HUMAN\",\"P51617\",207,521,315,46,\"6BFNB\",\"DFGin\",\"BLAminus\",\"TKL\",\"TKL\",\"IRAK\",1.9621165800000004,9],[\"TKL\",\"IRAK2\",\"HGNC:6113\",\"IRAK2_HUMAN\",\"O43187\",205,501,297,37,null,null,null,\"TKL\",\"TKL\",null,2.4818095100000006,8],[\"TKL\",\"IRAK3\",\"HGNC:17020\",\"IRAK3_HUMAN\",\"Q9Y616\",160,445,286,22,null,null,null,\"TKL\",\"TKL\",null,2.09254874,7],[\"TKL\",\"IRAK4\",\"HGNC:17967\",\"IRAK4_HUMAN\",\"Q9NWZ3\",175,456,282,20,\"2NRUD\",\"DFGin\",\"BLAminus\",\"TKL\",\"TKL\",null,1.7440194500000004,7],[\"TKL\",\"KSR1\",\"HGNC:6465\",\"KSR1_HUMAN\",\"Q8IVT5\",613,879,267,13,null,null,null,\"TKL\",\"TKL\",\"KSR\",2.2728758900000003,5],[\"TKL\",\"KSR2\",\"HGNC:18610\",\"KSR2_HUMAN\",\"Q6VAB6\",666,930,265,11,\"5KKRB\",\"DFGin\",\"BLBplus\",\"TKL\",\"TKL\",null,2.2211903600000005,5],[\"TKL\",\"LIMK1\",\"HGNC:6613\",\"LIMK1_HUMAN\",\"P53667\",339,606,268,15,\"5HVKA\",\"DFGin\",\"BLAminus\",\"TKL\",\"TKL\",\"LIMK\",1.8610435,5],[\"TKL\",\"LIMK2\",\"HGNC:6614\",\"LIMK2_HUMAN\",\"P53671\",331,603,273,21,\"4TPTA\",\"DFGout\",\"BBAminus\",\"TKL\",\"TKL\",null,1.85923471,6],[\"TKL\",\"LRRK1\",\"HGNC:18608\",\"LRRK1_HUMAN\",\"Q38SD2\",1238,1522,285,27,null,null,null,\"TKL\",\"TKL\",\"KIAA1790\",1.7252241,7],[\"TKL\",\"LRRK2\",\"HGNC:18618\",\"LRRK2_HUMAN\",\"Q5S007\",1875,2134,260,12,null,null,null,\"TKL\",\"TKL\",\"PARK8\",1.71093204,3],[\"TKL\",\"MAP3K10\",\"HGNC:6849\",\"M3K10_HUMAN\",\"Q02779\",98,359,262,11,null,null,null,\"STE\",\"TKL\",\"MLK2,MST\",1.7094515200000002,4],[\"TKL\",\"MAP3K11\",\"HGNC:6850\",\"M3K11_HUMAN\",\"Q16584\",117,378,262,11,null,null,null,\"STE\",\"TKL\",\"MLK3,PTK1,SPRK\",1.71146239,4],[\"TKL\",\"MAP3K12\",\"HGNC:6851\",\"M3K12_HUMAN\",\"Q12852\",125,366,242,11,\"5CENA\",\"DFGin\",\"BLBminus\",\"STE\",\"TKL\",\"ZPK\",1.8030185300000003,0],[\"TKL\",\"MAP3K13\",\"HGNC:6852\",\"M3K13_HUMAN\",\"O43283\",168,409,242,11,null,null,null,\"STE\",\"TKL\",\"LZK\",1.7841941800000003,0],[\"TKL\",\"MAP3K20\",\"HGNC:17797\",\"M3K20_HUMAN\",\"Q9NYL2\",16,262,247,11,\"5X5OA\",\"DFGin\",\"BLAplus\",\"STE\",\"TKL\",\"MLTK,ZAK\",1.91733315,0],[\"TKL\",\"MAP3K21\",\"HGNC:29798\",\"M3K21_HUMAN\",\"Q5TCX8\",124,400,277,15,\"4UYAA\",\"DFGin\",\"BLBplus\",\"STE\",\"TKL\",\"KIAA1804,MLK4\",1.73735673,6],[\"TKL\",\"MAP3K7\",\"HGNC:6859\",\"M3K7_HUMAN\",\"O43318\",36,286,251,10,\"5JGDA\",\"DFGin\",\"BLAminus\",\"STE\",\"TKL\",\"TAK1\",1.5851291400000005,0],[\"TKL\",\"MAP3K9\",\"HGNC:6861\",\"M3K9_HUMAN\",\"P80192\",144,405,262,11,\"4UY9B\",\"DFGin\",\"BLBplus\",\"STE\",\"TKL\",\"MLK1,PRKE1\",1.7098865,4],[\"TKL\",\"RAF1\",\"HGNC:9829\",\"RAF1_HUMAN\",\"P04049\",349,608,260,14,\"3OMVB\",\"DFGin\",\"BLAminus\",\"TKL\",\"TKL\",\"RAF\",1.8059043,3],[\"TKL\",\"RIPK1\",\"HGNC:10019\",\"RIPK1_HUMAN\",\"Q13546\",17,287,271,14,\"4ITIA\",\"DFGout\",\"BBAminus\",\"TKL\",\"TKL\",\"RIP,RIP1\",1.86713879,6],[\"TKL\",\"RIPK2\",\"HGNC:10020\",\"RIPK2_HUMAN\",\"O43353\",18,292,275,17,\"5NG0B\",\"DFGin\",\"BLAminus\",\"TKL\",\"TKL\",\"CARDIAK,RICK,RIP2\",1.88046999,6],[\"TKL\",\"RIPK3\",\"HGNC:10021\",\"RIPK3_HUMAN\",\"Q9Y572\",21,285,265,19,null,null,null,\"TKL\",\"TKL\",\"RIP3\",1.7945456000000002,5],[\"TKL\",\"RIPK4\",\"HGNC:496\",\"RIPK4_HUMAN\",\"P57078\",22,285,264,16,null,null,null,\"TKL\",\"TKL\",\"ANKRD3,DIK\",1.85002175,4],[\"TKL\",\"TESK1\",\"HGNC:11731\",\"TESK1_HUMAN\",\"Q15569\",54,313,260,12,null,null,null,\"TKL\",\"TKL\",null,1.95601247,3],[\"TKL\",\"TESK2\",\"HGNC:11732\",\"TESK2_HUMAN\",\"Q96S53\",56,311,256,12,null,null,null,\"TKL\",\"TKL\",null,1.91956554,2],[\"TKL\",\"TGFBR1\",\"HGNC:11772\",\"TGFR1_HUMAN\",\"P36897\",205,494,290,16,\"6B8YA\",\"DFGin\",\"BLAminus\",\"TKL\",\"TKL\",\"ALK5,SKR4\",2.03566801,8],[\"TKL\",\"TGFBR2\",\"HGNC:11773\",\"TGFR2_HUMAN\",\"P37173\",244,540,297,16,\"5QINA\",\"DFGin\",\"BLAminus\",\"TKL\",\"TKL\",null,2.3347436000000004,8],[\"TKL\",\"TNNI3K\",\"HGNC:19661\",\"TNI3K_HUMAN\",\"Q59H18\",463,721,259,11,\"6B5JC\",\"DFGin\",\"BLAminus\",\"TKL\",\"TKL\",\"CARK\",1.83636195,2]],\"hovertemplate\":\"<b>%{hovertext}</b><br><br>1_Group=%{customdata[0]}<br>pm1=%{x}<br>pm2=%{y}<br>2_Gene=%{customdata[1]}<br>3_HGNC=%{customdata[2]}<br>4_Uni_entry=%{customdata[3]}<br>5_Uni_acc=%{customdata[4]}<br>6_Domain_begin=%{customdata[5]}<br>7_Domain_end=%{customdata[6]}<br>8_Domain_length=%{customdata[7]}<br>9_Largest_insert_length=%{customdata[8]}<br>10_PDB_validation=%{customdata[9]}<br>11_Conformational_state=%{customdata[10]}<br>12_Dihedral_state=%{customdata[11]}<br>13_Group_in_Uni=%{customdata[12]}<br>14_Group_in_Manning=%{customdata[13]}<br>15_Synonymn=%{customdata[14]}<br>evo_distance=%{customdata[15]}<br>decile_domain=%{customdata[16]}<extra></extra>\",\"hovertext\":[\"TKL\",\"TKL\",\"TKL\",\"TKL\",\"TKL\",\"TKL\",\"TKL\",\"TKL\",\"TKL\",\"TKL\",\"TKL\",\"TKL\",\"TKL\",\"TKL\",\"TKL\",\"TKL\",\"TKL\",\"TKL\",\"TKL\",\"TKL\",\"TKL\",\"TKL\",\"TKL\",\"TKL\",\"TKL\",\"TKL\",\"TKL\",\"TKL\",\"TKL\",\"TKL\",\"TKL\",\"TKL\",\"TKL\",\"TKL\",\"TKL\",\"TKL\",\"TKL\",\"TKL\",\"TKL\",\"TKL\",\"TKL\",\"TKL\"],\"legendgroup\":\"TKL\",\"marker\":{\"color\":\"#FF97FF\",\"symbol\":\"circle\"},\"mode\":\"markers\",\"name\":\"TKL\",\"orientation\":\"v\",\"showlegend\":true,\"x\":[0.79798144,0.80857366,0.8262297,0.79261184,0.80376893,0.81585485,0.76623064,0.35394043,0.5738304,0.81228495,0.8235847,0.77958465,0.5990682,0.45112482,0.38683397,0.37032682,0.3652562,0.36237815,0.58047533,0.57030946,0.20168363,0.2284127,0.41758302,0.39070684,0.44167617,0.43289107,0.50732887,0.45764852,0.47219825,0.40237334,0.46573222,0.43937796,0.5818005,0.33059475,0.35101178,0.34373686,0.35414878,0.4131195,0.28376526,0.814536,0.82177204,0.5150726],\"xaxis\":\"x\",\"y\":[-0.48745838,-0.48209903,-0.475499,-0.45897564,-0.45031947,-0.48904726,-0.4765112,-0.7558499,-0.69332236,-0.49835125,-0.48811907,-0.43633798,-0.6688956,-0.71068496,-0.84364665,-0.84206015,-0.861989,-0.82999367,-0.71736056,-0.7124382,-0.66098464,-0.70321804,-0.66262865,-0.6575212,-0.6637101,-0.70367527,-0.6629369,-0.64768374,-0.7228905,-0.6844924,-0.7482887,-0.6855522,-0.6982772,-0.7739094,-0.75368226,-0.7584948,-0.76230687,-0.78451693,-0.66357064,-0.47303885,-0.44895953,-0.7149765],\"yaxis\":\"y\",\"type\":\"scatter\",\"textposition\":\"top right\"},{\"customdata\":[[\"TYR\",\"AATK\",\"HGNC:21\",\"LMTK1_HUMAN\",\"Q6ZMQ8\",125,397,273,15,null,null,null,\"TYR\",\"TYR\",\"AATYK,KIAA0641,LMR1,LMTK1\",2.763762120000001,6],[\"TYR\",\"ABL1\",\"HGNC:76\",\"ABL1_HUMAN\",\"P00519\",242,495,254,10,\"4TWPB\",\"DFGin\",\"BLAminus\",\"TYR\",\"TYR\",\"ABL,JTK7\",2.2336425300000005,1],[\"TYR\",\"ABL2\",\"HGNC:77\",\"ABL2_HUMAN\",\"P42684\",288,541,254,10,\"2XYNC\",\"DFGin\",\"BLAminus\",\"TYR\",\"TYR\",\"ABLL,ARG\",2.242432270000001,1],[\"TYR\",\"ALK\",\"HGNC:427\",\"ALK_HUMAN\",\"Q9UM73\",1116,1385,270,10,\"3LCTA\",\"DFGin\",\"ABAminus\",\"TYR\",\"TYR\",null,2.3995613500000004,6],[\"TYR\",\"AXL\",\"HGNC:905\",\"UFO_HUMAN\",\"P30530\",536,805,270,10,\"5U6BD\",\"DFGin\",\"BLAminus\",\"TYR\",\"TYR\",\"UFO\",2.43636883,6],[\"TYR\",\"BLK\",\"HGNC:1057\",\"BLK_HUMAN\",\"P51451\",241,492,252,11,null,null,null,\"TYR\",\"TYR\",null,2.4565195600000007,0],[\"TYR\",\"BMX\",\"HGNC:1079\",\"BMX_HUMAN\",\"P51813\",417,668,252,10,\"3SXSA\",\"DFGinter\",\"BABtrans\",\"TYR\",\"TYR\",null,2.4623018500000007,0],[\"TYR\",\"BTK\",\"HGNC:1133\",\"BTK_HUMAN\",\"Q06187\",402,653,252,10,\"1K2PA\",\"DFGin\",\"BLAplus\",\"TYR\",\"TYR\",\"AGMX1,ATK,BPK\",2.5464003,0],[\"TYR\",\"CSF1R\",\"HGNC:2433\",\"CSF1R_HUMAN\",\"P07333\",582,912,331,70,\"3LCDA\",\"DFGin\",\"BLAminus\",\"TYR\",\"TYR\",\"FMS\",2.533654060000001,9],[\"TYR\",\"CSK\",\"HGNC:2444\",\"CSK_HUMAN\",\"P41240\",195,442,248,10,\"3D7UC\",\"DFGin\",\"BLAminus\",\"TYR\",\"TYR\",null,2.4162916500000007,0],[\"TYR\",\"DDR1\",\"HGNC:2730\",\"DDR1_HUMAN\",\"Q08345\",610,907,298,20,\"6FIOA\",\"DFGout\",\"BBAminus\",\"TYR\",\"TYR\",\"CAK,EDDR1,NEP,NTRK4,PTK3A,RTK6,TRKE\",2.352203910000001,8],[\"TYR\",\"DDR2\",\"HGNC:2731\",\"DDR2_HUMAN\",\"Q16832\",563,851,289,18,\"6FERF\",\"DFGout\",\"BBAminus\",\"TYR\",\"TYR\",\"NTRKR3,TKT,TYRO10\",2.320393250000001,8],[\"TYR\",\"EGFR\",\"HGNC:3236\",\"EGFR_HUMAN\",\"P00533\",712,970,259,10,\"5XGNA\",\"DFGin\",\"BLAminus\",\"TYR\",\"TYR\",\"ERBB,ERBB1,HER1\",2.2128987,2],[\"TYR\",\"EPHA10\",\"HGNC:19987\",\"EPHAA_HUMAN\",\"Q5JZY3\",645,902,258,10,null,null,null,\"TYR\",\"TYR\",null,2.508443840000001,2],[\"TYR\",\"EPHA1\",\"HGNC:3385\",\"EPHA1_HUMAN\",\"P21709\",624,882,259,10,null,null,null,\"TYR\",\"TYR\",\"EPH,EPHT,EPHT1\",2.905137360000001,2],[\"TYR\",\"EPHA2\",\"HGNC:3386\",\"EPHA2_HUMAN\",\"P29317\",613,873,261,10,\"4P2KA\",\"DFGin\",\"BLAminus\",\"TYR\",\"TYR\",\"ECK\",2.5407778800000007,3],[\"TYR\",\"EPHA3\",\"HGNC:3387\",\"EPHA3_HUMAN\",\"P29320\",621,880,260,10,\"3FXXA\",\"DFGin\",\"BLAminus\",\"TYR\",\"TYR\",\"ETK,ETK1,HEK,TYRO4\",2.6036120200000004,3],[\"TYR\",\"EPHA4\",\"HGNC:3388\",\"EPHA4_HUMAN\",\"P54764\",621,880,260,10,null,null,null,\"TYR\",\"TYR\",\"HEK8,SEK,TYRO1\",2.5680499200000004,3],[\"TYR\",\"EPHA5\",\"HGNC:3389\",\"EPHA5_HUMAN\",\"P54756\",675,934,260,10,\"2R2PA\",\"DFGin\",\"BLAminus\",\"TYR\",\"TYR\",\"BSK,EHK1,HEK7,TYRO4\",2.5963161500000003,3],[\"TYR\",\"EPHA6\",\"HGNC:19296\",\"EPHA6_HUMAN\",\"Q9UF33\",631,932,302,42,null,null,null,\"TYR\",\"TYR\",\"EHK2,HEK12\",2.5814422400000003,9],[\"TYR\",\"EPHA7\",\"HGNC:3390\",\"EPHA7_HUMAN\",\"Q15375\",633,892,260,10,\"2REIA\",\"DFGin\",\"BLAminus\",\"TYR\",\"TYR\",\"EHK3,HEK11\",2.5954316500000005,3],[\"TYR\",\"EPHA8\",\"HGNC:3391\",\"EPHA8_HUMAN\",\"P29322\",635,894,260,10,\"3KULB\",\"DFGin\",\"BLAminus\",\"TYR\",\"TYR\",\"EEK,HEK3,KIAA1459\",2.6447178300000003,3],[\"TYR\",\"EPHB1\",\"HGNC:3392\",\"EPHB1_HUMAN\",\"P54762\",619,880,262,10,\"5MJBB\",\"DFGin\",\"BLAminus\",\"TYR\",\"TYR\",\"ELK,EPHT2,HEK6,NET\",2.565091490000001,4],[\"TYR\",\"EPHB2\",\"HGNC:3393\",\"EPHB2_HUMAN\",\"P29323\",621,882,262,10,\"3ZFMA\",\"DFGin\",null,\"TYR\",\"TYR\",\"DRT,EPHT3,EPTH3,ERK,HEK5,TYRO5\",2.5652050500000008,4],[\"TYR\",\"EPHB3\",\"HGNC:3394\",\"EPHB3_HUMAN\",\"P54753\",633,894,262,10,\"5L6PA\",\"DFGin\",null,\"TYR\",\"TYR\",\"ETK2,HEK2,TYRO6\",2.565254570000001,4],[\"TYR\",\"EPHB4\",\"HGNC:3395\",\"EPHB4_HUMAN\",\"P54760\",615,876,262,10,\"3ZEWA\",\"DFGin\",\"BLAminus\",\"TYR\",\"TYR\",\"HTK,MYK1,TYRO11\",2.5805439800000007,4],[\"TYR\",\"EPHB6\",\"HGNC:3396\",\"EPHB6_HUMAN\",\"O15197\",670,917,248,10,null,null,null,\"TYR\",\"TYR\",null,2.9173906300000008,0],[\"TYR\",\"ERBB2\",\"HGNC:3430\",\"ERBB2_HUMAN\",\"P04626\",720,978,259,10,\"3PP0B\",\"DFGin\",null,\"TYR\",\"TYR\",\"HER2,MLN19,NEU,NGL\",2.20539144,2],[\"TYR\",\"ERBB3\",\"HGNC:3431\",\"ERBB3_HUMAN\",\"P21860\",709,967,259,10,\"3KEXA\",\"DFGin\",\"BLBplus\",\"TYR\",\"TYR\",\"HER3\",2.4173190900000003,2],[\"TYR\",\"ERBB4\",\"HGNC:3432\",\"ERBB4_HUMAN\",\"Q15303\",718,976,259,10,\"3BCEC\",\"DFGin\",\"BLAminus\",\"TYR\",\"TYR\",\"HER4\",2.0649015700000004,2],[\"TYR\",\"FER\",\"HGNC:3655\",\"FER_HUMAN\",\"P16591\",563,816,254,10,null,null,null,\"TYR\",\"TYR\",\"TYK3\",2.46082671,1],[\"TYR\",\"FES\",\"HGNC:3657\",\"FES_HUMAN\",\"P07332\",561,816,256,10,\"3CBLA\",\"DFGin\",\"BLAminus\",\"TYR\",\"TYR\",\"FPS\",2.42116824,2],[\"TYR\",\"FGFR1\",\"HGNC:3688\",\"FGFR1_HUMAN\",\"P11362\",478,756,279,17,\"3KXXB\",\"DFGin\",\"BLAminus\",\"TYR\",\"TYR\",\"BFGFR,CEK,FGFBR,FLG,FLT2,HBGFR\",2.35193147,7],[\"TYR\",\"FGFR2\",\"HGNC:3689\",\"FGFR2_HUMAN\",\"P21802\",481,759,279,17,\"5UI0B\",\"DFGin\",\"BLAminus\",\"TYR\",\"TYR\",\"BEK,KGFR,KSAM\",2.3847129,7],[\"TYR\",\"FGFR3\",\"HGNC:3690\",\"FGFR3_HUMAN\",\"P22607\",472,750,279,17,\"4K33A\",\"DFGin\",\"BLAminus\",\"TYR\",\"TYR\",\"JTK4\",2.3680009000000006,7],[\"TYR\",\"FGFR4\",\"HGNC:3691\",\"FGFR4_HUMAN\",\"P22455\",467,745,279,17,\"6JPJA\",\"DFGin\",\"BLAplus\",\"TYR\",\"TYR\",\"JTK2,TKF\",2.3636747400000004,7],[\"TYR\",\"FGR\",\"HGNC:3697\",\"FGR_HUMAN\",\"P09769\",263,514,252,10,null,null,null,\"TYR\",\"TYR\",\"SRC2\",2.512649910000001,0],[\"TYR\",\"FLT1\",\"HGNC:3763\",\"VGFR1_HUMAN\",\"P17948\",827,1156,330,68,\"3HNGA\",\"DFGout\",\"BBAminus\",\"TYR\",\"TYR\",\"FLT,FRT,VEGFR1\",2.495089690000001,9],[\"TYR\",\"FLT3\",\"HGNC:3765\",\"FLT3_HUMAN\",\"P36888\",610,945,336,75,\"4XUFB\",\"DFGout\",\"BBAminus\",\"TYR\",\"TYR\",\"CD135,FLK2,STK1\",2.5619494800000004,9],[\"TYR\",\"FLT4\",\"HGNC:3767\",\"VGFR3_HUMAN\",\"P35916\",845,1171,327,65,null,null,null,\"TYR\",\"TYR\",\"VEGFR3\",2.4892395500000006,9],[\"TYR\",\"FRK\",\"HGNC:3955\",\"FRK_HUMAN\",\"P42685\",234,489,256,10,null,null,null,\"TYR\",\"TYR\",\"PTK5,RAK\",2.334930120000001,2],[\"TYR\",\"FYN\",\"HGNC:4037\",\"FYN_HUMAN\",\"P06241\",271,522,252,10,\"2DQ7X\",\"DFGin\",\"BLAminus\",\"TYR\",\"TYR\",null,2.4314271000000005,0],[\"TYR\",\"HCK\",\"HGNC:4840\",\"HCK_HUMAN\",\"P08631\",262,513,252,10,\"2HK5A\",\"DFGin\",\"BLAminus\",\"TYR\",\"TYR\",null,2.418628590000001,0],[\"TYR\",\"IGF1R\",\"HGNC:5465\",\"IGF1R_HUMAN\",\"P08069\",999,1268,270,11,\"3QQUC\",\"DFGin\",\"BLAminus\",\"TYR\",\"TYR\",null,2.3292660600000006,6],[\"TYR\",\"INSR\",\"HGNC:6091\",\"INSR_HUMAN\",\"P06213\",1023,1292,270,11,\"4XLVA\",\"DFGin\",\"BLAminus\",\"TYR\",\"TYR\",null,2.357728830000001,6],[\"TYR\",\"INSRR\",\"HGNC:6093\",\"INSRR_HUMAN\",\"P14616\",979,1248,270,11,null,null,null,\"TYR\",\"TYR\",\"IRR\",2.3037154600000003,6],[\"TYR\",\"ITK\",\"HGNC:6171\",\"ITK_HUMAN\",\"Q08881\",363,614,252,10,\"3QGYB\",\"DFGin\",\"BLAminus\",\"TYR\",\"TYR\",\"EMT,LYK\",2.55602923,0],[\"TYR\",\"JAK1_1\",\"HGNC:6190\",\"JAK1_HUMAN\",\"P23458\",583,847,265,12,\"4L00B\",\"DFGin\",null,\"TYR\",\"TYR\",\"JAK1A,JAK1B\",2.7871625900000008,5],[\"TYR\",\"JAK1_2\",\"HGNC:6190\",\"JAK1_HUMAN\",\"P23458\",875,1151,277,21,\"6C7YA\",\"DFGin\",\"BLAminus\",\"TYR\",\"TYR\",\"JAK1A,JAK1B\",2.0362202500000004,6],[\"TYR\",\"JAK2_1\",\"HGNC:6192\",\"JAK2_HUMAN\",\"O60674\",545,807,263,9,\"6M9HA\",\"DFGin\",null,\"TYR\",\"TYR\",null,2.6010485800000005,4],[\"TYR\",\"JAK2_2\",\"HGNC:6192\",\"JAK2_HUMAN\",\"O60674\",849,1125,277,22,\"5TQ8A\",\"DFGin\",\"BLAminus\",\"TYR\",\"TYR\",null,2.1070816000000003,6],[\"TYR\",\"JAK3_1\",\"HGNC:6193\",\"JAK3_HUMAN\",\"P52333\",521,779,259,8,null,null,null,\"TYR\",\"TYR\",null,2.8503704700000005,2],[\"TYR\",\"JAK3_2\",\"HGNC:6193\",\"JAK3_HUMAN\",\"P52333\",822,1097,276,21,\"6GL9B\",\"DFGin\",\"BLAminus\",\"TYR\",\"TYR\",null,2.1593741900000003,6],[\"TYR\",\"KDR\",\"HGNC:6307\",\"VGFR2_HUMAN\",\"P35968\",834,1162,329,67,\"3CJGA\",\"DFGin\",\"BLAminus\",\"TYR\",\"TYR\",\"FLK1,VEGFR2\",2.5222074800000005,9],[\"TYR\",\"KIT\",\"HGNC:6342\",\"KIT_HUMAN\",\"P10721\",589,926,338,77,\"1PKGA\",\"DFGin\",\"BLAminus\",\"TYR\",\"TYR\",\"SCFR\",2.5514143300000005,9],[\"TYR\",\"LCK\",\"HGNC:6524\",\"LCK_HUMAN\",\"P06239\",245,496,252,10,\"3LCKA\",\"DFGin\",\"BLAminus\",\"TYR\",\"TYR\",null,2.3753711500000008,0],[\"TYR\",\"LMTK2\",\"HGNC:17880\",\"LMTK2_HUMAN\",\"Q8IWU2\",137,409,273,15,null,null,null,\"TYR\",\"TYR\",\"AATYK2,BREK,KIAA1079,KPI2,LMR2\",2.834999570000001,6],[\"TYR\",\"LMTK3\",\"HGNC:19295\",\"LMTK3_HUMAN\",\"Q96Q04\",133,410,278,15,null,null,null,\"TYR\",\"TYR\",\"KIAA1883,TYKLM3\",2.7562279700000007,7],[\"TYR\",\"LTK\",\"HGNC:6721\",\"LTK_HUMAN\",\"P29376\",510,779,270,10,null,null,null,\"TYR\",\"TYR\",\"TYK1\",2.4158133200000003,6],[\"TYR\",\"LYN\",\"HGNC:6735\",\"LYN_HUMAN\",\"P07948\",247,499,253,10,\"3A4OX\",\"DFGin\",null,\"TYR\",\"TYR\",\"JTK8\",2.4256526300000005,1],[\"TYR\",\"MATK\",\"HGNC:6906\",\"MATK_HUMAN\",\"P42679\",235,480,246,10,null,null,null,\"TYR\",\"TYR\",\"CTK,HYL\",2.5590875300000007,0],[\"TYR\",\"MERTK\",\"HGNC:7027\",\"MERTK_HUMAN\",\"Q12866\",587,856,270,10,\"3BRBA\",\"DFGin\",\"BLBplus\",\"TYR\",\"TYR\",\"MER\",2.46552484,6],[\"TYR\",\"MET\",\"HGNC:7029\",\"MET_HUMAN\",\"P08581\",1076,1339,264,10,\"4IWDA\",\"DFGin\",\"ABAminus\",\"TYR\",\"TYR\",null,2.4487332,4],[\"TYR\",\"MST1R\",\"HGNC:7381\",\"RON_HUMAN\",\"Q04912\",1080,1343,264,10,\"3PLSA\",\"DFGin\",\"BLBplus\",\"TYR\",\"TYR\",\"PTK8,RON\",2.52167938,4],[\"TYR\",\"MUSK\",\"HGNC:7525\",\"MUSK_HUMAN\",\"O15146\",575,858,284,25,null,null,null,\"TYR\",\"TYR\",null,2.287304840000001,7],[\"TYR\",\"NTRK1\",\"HGNC:8031\",\"NTRK1_HUMAN\",\"P04629\",510,783,274,16,\"5KVTA\",\"DFGin\",\"ABAminus\",\"TYR\",\"TYR\",\"MTC,TRK,TRKA\",2.333855520000001,6],[\"TYR\",\"NTRK2\",\"HGNC:8032\",\"NTRK2_HUMAN\",\"Q16620\",538,809,272,14,\"4AT4A\",\"DFGout\",\"BBAminus\",\"TYR\",\"TYR\",\"TRKB\",2.282740480000001,6],[\"TYR\",\"NTRK3\",\"HGNC:8033\",\"NTRK3_HUMAN\",\"Q16288\",538,826,289,17,\"3V5QB\",\"DFGout\",\"BBAminus\",\"TYR\",\"TYR\",\"TRKC\",2.3047991400000014,8],[\"TYR\",\"PDGFRA\",\"HGNC:8803\",\"PGFRA_HUMAN\",\"P16234\",593,952,360,99,\"5GRNA\",\"DFGout\",\"BBAminus\",\"TYR\",\"TYR\",\"PDGFR2,RHEPDGFRA\",2.5176147800000006,9],[\"TYR\",\"PDGFRB\",\"HGNC:8804\",\"PGFRB_HUMAN\",\"P09619\",600,960,361,100,null,null,null,\"TYR\",\"TYR\",\"PDGFR,PDGFR1\",2.5450904800000007,9],[\"TYR\",\"PTK2B\",\"HGNC:9612\",\"FAK2_HUMAN\",\"Q14289\",425,681,257,10,\"4H1MA\",\"DFGout\",\"BBAminus\",\"TYR\",\"TYR\",\"FAK2,PYK2,RAFTK\",2.2347162400000005,2],[\"TYR\",\"PTK2\",\"HGNC:9611\",\"FAK1_HUMAN\",\"Q05397\",422,678,257,10,\"2ETMA\",\"DFGin\",\"BLAminus\",\"TYR\",\"TYR\",\"FAK,FAK1\",2.2816179800000005,2],[\"TYR\",\"PTK6\",\"HGNC:9617\",\"PTK6_HUMAN\",\"Q13882\",191,443,253,10,\"6CZ4A\",\"DFGout\",\"BBAminus\",\"TYR\",\"TYR\",\"BRK\",2.607284050000001,1],[\"TYR\",\"PTK7\",\"HGNC:9618\",\"PTK7_HUMAN\",\"Q13308\",796,1063,268,11,null,null,null,\"TYR\",\"TYR\",\"CCK4\",2.465710890000001,5],[\"TYR\",\"RET\",\"HGNC:9967\",\"RET_HUMAN\",\"P07949\",724,1007,284,25,\"6FEKA\",\"DFGin\",\"BLAminus\",\"TYR\",\"TYR\",\"CDHF12,CDHR16,PTC,RET51\",2.4444651500000005,7],[\"TYR\",\"ROR1\",\"HGNC:10256\",\"ROR1_HUMAN\",\"Q01973\",473,748,276,18,null,null,null,\"TYR\",\"TYR\",\"NTRKR1\",2.3458625900000007,6],[\"TYR\",\"ROR2\",\"HGNC:10257\",\"ROR2_HUMAN\",\"Q01974\",473,748,276,17,\"4GT4A\",\"DFGinter\",null,\"TYR\",\"TYR\",\"NTRKR2\",2.421771010000001,6],[\"TYR\",\"ROS1\",\"HGNC:10261\",\"ROS1_HUMAN\",\"P08922\",1945,2217,273,10,\"4UXLA\",\"DFGin\",\"ABAminus\",\"TYR\",\"TYR\",\"MCF3,ROS\",2.2843580900000005,6],[\"TYR\",\"RYK\",\"HGNC:10481\",\"RYK_HUMAN\",\"P34925\",330,598,269,10,null,null,null,\"TYR\",\"TYR\",\"JTK5A\",2.68336079,5],[\"TYR\",\"SRC\",\"HGNC:11283\",\"SRC_HUMAN\",\"P12931\",270,521,252,10,\"1YI6B\",\"DFGin\",\"BLAminus\",\"TYR\",\"TYR\",\"SRC1\",2.462971970000001,0],[\"TYR\",\"SRMS\",\"HGNC:11298\",\"SRMS_HUMAN\",\"Q9H3Y6\",230,482,253,10,null,null,null,\"TYR\",\"TYR\",\"C20orf148\",2.562017770000001,1],[\"TYR\",\"STYK1\",\"HGNC:18889\",\"STYK1_HUMAN\",\"Q6J9G0\",113,382,270,12,null,null,null,\"TYR\",\"TYR\",\"NOK\",3.3645742400000005,6],[\"TYR\",\"SYK\",\"HGNC:11491\",\"KSYK_HUMAN\",\"P43405\",370,628,259,10,\"5CXHA\",\"DFGin\",\"BLAminus\",\"TYR\",\"TYR\",null,2.1780105500000007,2],[\"TYR\",\"TEC\",\"HGNC:11719\",\"TEC_HUMAN\",\"P42680\",370,621,252,10,null,null,null,\"TYR\",\"TYR\",\"PSCTK4\",2.4923191300000003,0],[\"TYR\",\"TEK\",\"HGNC:11724\",\"TIE2_HUMAN\",\"Q02763\",824,1094,271,17,\"2OSCA\",\"DFGout\",\"BBAminus\",\"TYR\",\"TYR\",\"TIE2,VMCM,VMCM1\",2.4799990500000004,6],[\"TYR\",\"TIE1\",\"HGNC:11809\",\"TIE1_HUMAN\",\"P35590\",839,1109,271,17,null,null,null,\"TYR\",\"TYR\",\"TIE\",2.4642865400000007,6],[\"TYR\",\"TNK1\",\"HGNC:11940\",\"TNK1_HUMAN\",\"Q13470\",116,379,264,10,null,null,null,\"TYR\",\"TYR\",null,2.3767405900000003,4],[\"TYR\",\"TNK2\",\"HGNC:19297\",\"ACK1_HUMAN\",\"Q07912\",126,387,262,11,\"3EQPB\",\"DFGin\",\"BLAminus\",\"TYR\",\"TYR\",\"ACK1\",2.31821351,4],[\"TYR\",\"TXK\",\"HGNC:12434\",\"TXK_HUMAN\",\"P42681\",271,522,252,10,null,null,null,\"TYR\",\"TYR\",\"PTK4,RLK\",2.54761989,0],[\"TYR\",\"TYK2_1\",\"HGNC:12440\",\"TYK2_HUMAN\",\"P29597\",589,868,280,26,\"3ZONA\",\"DFGin\",null,\"TYR\",\"TYR\",null,2.924876870000001,7],[\"TYR\",\"TYK2_2\",\"HGNC:12440\",\"TYK2_HUMAN\",\"P29597\",897,1171,275,21,\"4GVJA\",\"DFGin\",\"BLAminus\",\"TYR\",\"TYR\",null,2.0312297500000005,6],[\"TYR\",\"TYRO3\",\"HGNC:12446\",\"TYRO3_HUMAN\",\"Q06418\",518,788,271,10,null,null,null,\"TYR\",\"TYR\",\"BYK,DTK,RSE,SKY,TIF\",2.4283639000000004,6],[\"TYR\",\"YES1\",\"HGNC:12841\",\"YES_HUMAN\",\"P07947\",277,528,252,10,null,null,null,\"TYR\",\"TYR\",\"YES\",2.450070010000001,0],[\"TYR\",\"ZAP70\",\"HGNC:12858\",\"ZAP70_HUMAN\",\"P43403\",337,595,259,10,\"1U59A\",\"DFGin\",\"BLAminus\",\"TYR\",\"TYR\",\"SRK\",2.1945757700000006,2]],\"hovertemplate\":\"<b>%{hovertext}</b><br><br>1_Group=%{customdata[0]}<br>pm1=%{x}<br>pm2=%{y}<br>2_Gene=%{customdata[1]}<br>3_HGNC=%{customdata[2]}<br>4_Uni_entry=%{customdata[3]}<br>5_Uni_acc=%{customdata[4]}<br>6_Domain_begin=%{customdata[5]}<br>7_Domain_end=%{customdata[6]}<br>8_Domain_length=%{customdata[7]}<br>9_Largest_insert_length=%{customdata[8]}<br>10_PDB_validation=%{customdata[9]}<br>11_Conformational_state=%{customdata[10]}<br>12_Dihedral_state=%{customdata[11]}<br>13_Group_in_Uni=%{customdata[12]}<br>14_Group_in_Manning=%{customdata[13]}<br>15_Synonymn=%{customdata[14]}<br>evo_distance=%{customdata[15]}<br>decile_domain=%{customdata[16]}<extra></extra>\",\"hovertext\":[\"TYR\",\"TYR\",\"TYR\",\"TYR\",\"TYR\",\"TYR\",\"TYR\",\"TYR\",\"TYR\",\"TYR\",\"TYR\",\"TYR\",\"TYR\",\"TYR\",\"TYR\",\"TYR\",\"TYR\",\"TYR\",\"TYR\",\"TYR\",\"TYR\",\"TYR\",\"TYR\",\"TYR\",\"TYR\",\"TYR\",\"TYR\",\"TYR\",\"TYR\",\"TYR\",\"TYR\",\"TYR\",\"TYR\",\"TYR\",\"TYR\",\"TYR\",\"TYR\",\"TYR\",\"TYR\",\"TYR\",\"TYR\",\"TYR\",\"TYR\",\"TYR\",\"TYR\",\"TYR\",\"TYR\",\"TYR\",\"TYR\",\"TYR\",\"TYR\",\"TYR\",\"TYR\",\"TYR\",\"TYR\",\"TYR\",\"TYR\",\"TYR\",\"TYR\",\"TYR\",\"TYR\",\"TYR\",\"TYR\",\"TYR\",\"TYR\",\"TYR\",\"TYR\",\"TYR\",\"TYR\",\"TYR\",\"TYR\",\"TYR\",\"TYR\",\"TYR\",\"TYR\",\"TYR\",\"TYR\",\"TYR\",\"TYR\",\"TYR\",\"TYR\",\"TYR\",\"TYR\",\"TYR\",\"TYR\",\"TYR\",\"TYR\",\"TYR\",\"TYR\",\"TYR\",\"TYR\",\"TYR\",\"TYR\",\"TYR\"],\"legendgroup\":\"TYR\",\"marker\":{\"color\":\"#FECB52\",\"symbol\":\"circle\"},\"mode\":\"markers\",\"name\":\"TYR\",\"orientation\":\"v\",\"showlegend\":true,\"x\":[0.07388957,-0.038687546,-0.06980532,0.116161734,0.08197315,-0.07464057,-0.1795665,-0.16080832,0.27363458,-0.1090272,0.052937753,0.05706199,-0.08277292,0.187752,0.19652382,0.1898131,0.19375765,0.19624431,0.18792953,0.19185482,0.19596802,0.19226581,0.19722731,0.19943026,0.20312913,0.20176825,0.20608172,-0.07876607,-0.08447951,-0.07016355,0.03762283,0.13234682,0.188185,0.20157492,0.18694186,0.19593057,-0.047306176,0.25833905,0.2656926,0.26295018,0.018370302,-0.077883355,-0.012498689,0.12887499,0.10175574,0.11947018,-0.16983232,-0.010862292,0.1769351,-0.000598438,0.18087676,-0.009323138,0.18073052,0.2429591,0.2670397,-0.050108913,0.06655399,0.07564216,0.11700531,-0.069576725,0.018756073,0.06859693,0.08338581,0.08309427,0.045697346,0.050341576,0.041845273,0.04834863,0.26420766,0.2665,0.16855678,0.15979871,-0.10579273,0.052202392,0.20996308,0.039316922,0.042221736,0.11423113,0.081719205,-0.042073242,-0.012996514,0.050549064,-0.022175547,-0.14966397,0.1988989,0.20225096,0.103605695,-0.052649286,-0.18143114,-0.021513082,0.18065856,0.082612194,-0.05707765,0.1786327],\"xaxis\":\"x\",\"y\":[-0.95896393,-0.86085004,-0.8530962,-0.93826777,-0.8769055,-0.7340993,-0.84609395,-0.8467638,-0.8910127,-0.81099904,-0.97184664,-0.962408,-0.89676964,-0.9434322,-0.96128243,-0.95050323,-0.9513264,-0.9533271,-0.95497996,-0.9540319,-0.9572213,-0.9593927,-0.94449884,-0.9521825,-0.95145816,-0.9553955,-0.954812,-0.8980495,-0.90739036,-0.88801736,-0.8231013,-0.89337176,-0.82911587,-0.84576386,-0.84031856,-0.8469684,-0.7279022,-0.88914543,-0.89778787,-0.89110506,-0.72442037,-0.7197676,-0.6931332,-0.9333341,-0.9363908,-0.93550456,-0.8608641,-0.93803734,-0.8041078,-0.943351,-0.80797476,-0.9285717,-0.80811346,-0.87347865,-0.8917804,-0.75191075,-0.96520495,-0.95134443,-0.94385046,-0.7539455,-0.8033854,-0.8887328,-0.8898183,-0.8865124,-0.96739984,-0.9666929,-0.9601159,-0.9626471,-0.8937375,-0.8957131,-0.9339513,-0.94293743,-0.6956624,-0.95040137,-0.83251363,-0.96977395,-0.9726394,-0.9275403,-0.88856274,-0.73820907,-0.75879097,-0.79469305,-0.8849513,-0.8434773,-0.83821267,-0.83395916,-0.816657,-0.81807446,-0.83549154,-0.92960584,-0.8078823,-0.89030015,-0.72157377,-0.9460158],\"yaxis\":\"y\",\"type\":\"scatter\",\"textposition\":\"top right\"}],                        {\"template\":{\"data\":{\"bar\":[{\"error_x\":{\"color\":\"#2a3f5f\"},\"error_y\":{\"color\":\"#2a3f5f\"},\"marker\":{\"line\":{\"color\":\"#E5ECF6\",\"width\":0.5},\"pattern\":{\"fillmode\":\"overlay\",\"size\":10,\"solidity\":0.2}},\"type\":\"bar\"}],\"barpolar\":[{\"marker\":{\"line\":{\"color\":\"#E5ECF6\",\"width\":0.5},\"pattern\":{\"fillmode\":\"overlay\",\"size\":10,\"solidity\":0.2}},\"type\":\"barpolar\"}],\"carpet\":[{\"aaxis\":{\"endlinecolor\":\"#2a3f5f\",\"gridcolor\":\"white\",\"linecolor\":\"white\",\"minorgridcolor\":\"white\",\"startlinecolor\":\"#2a3f5f\"},\"baxis\":{\"endlinecolor\":\"#2a3f5f\",\"gridcolor\":\"white\",\"linecolor\":\"white\",\"minorgridcolor\":\"white\",\"startlinecolor\":\"#2a3f5f\"},\"type\":\"carpet\"}],\"choropleth\":[{\"colorbar\":{\"outlinewidth\":0,\"ticks\":\"\"},\"type\":\"choropleth\"}],\"contour\":[{\"colorbar\":{\"outlinewidth\":0,\"ticks\":\"\"},\"colorscale\":[[0.0,\"#0d0887\"],[0.1111111111111111,\"#46039f\"],[0.2222222222222222,\"#7201a8\"],[0.3333333333333333,\"#9c179e\"],[0.4444444444444444,\"#bd3786\"],[0.5555555555555556,\"#d8576b\"],[0.6666666666666666,\"#ed7953\"],[0.7777777777777778,\"#fb9f3a\"],[0.8888888888888888,\"#fdca26\"],[1.0,\"#f0f921\"]],\"type\":\"contour\"}],\"contourcarpet\":[{\"colorbar\":{\"outlinewidth\":0,\"ticks\":\"\"},\"type\":\"contourcarpet\"}],\"heatmap\":[{\"colorbar\":{\"outlinewidth\":0,\"ticks\":\"\"},\"colorscale\":[[0.0,\"#0d0887\"],[0.1111111111111111,\"#46039f\"],[0.2222222222222222,\"#7201a8\"],[0.3333333333333333,\"#9c179e\"],[0.4444444444444444,\"#bd3786\"],[0.5555555555555556,\"#d8576b\"],[0.6666666666666666,\"#ed7953\"],[0.7777777777777778,\"#fb9f3a\"],[0.8888888888888888,\"#fdca26\"],[1.0,\"#f0f921\"]],\"type\":\"heatmap\"}],\"heatmapgl\":[{\"colorbar\":{\"outlinewidth\":0,\"ticks\":\"\"},\"colorscale\":[[0.0,\"#0d0887\"],[0.1111111111111111,\"#46039f\"],[0.2222222222222222,\"#7201a8\"],[0.3333333333333333,\"#9c179e\"],[0.4444444444444444,\"#bd3786\"],[0.5555555555555556,\"#d8576b\"],[0.6666666666666666,\"#ed7953\"],[0.7777777777777778,\"#fb9f3a\"],[0.8888888888888888,\"#fdca26\"],[1.0,\"#f0f921\"]],\"type\":\"heatmapgl\"}],\"histogram\":[{\"marker\":{\"pattern\":{\"fillmode\":\"overlay\",\"size\":10,\"solidity\":0.2}},\"type\":\"histogram\"}],\"histogram2d\":[{\"colorbar\":{\"outlinewidth\":0,\"ticks\":\"\"},\"colorscale\":[[0.0,\"#0d0887\"],[0.1111111111111111,\"#46039f\"],[0.2222222222222222,\"#7201a8\"],[0.3333333333333333,\"#9c179e\"],[0.4444444444444444,\"#bd3786\"],[0.5555555555555556,\"#d8576b\"],[0.6666666666666666,\"#ed7953\"],[0.7777777777777778,\"#fb9f3a\"],[0.8888888888888888,\"#fdca26\"],[1.0,\"#f0f921\"]],\"type\":\"histogram2d\"}],\"histogram2dcontour\":[{\"colorbar\":{\"outlinewidth\":0,\"ticks\":\"\"},\"colorscale\":[[0.0,\"#0d0887\"],[0.1111111111111111,\"#46039f\"],[0.2222222222222222,\"#7201a8\"],[0.3333333333333333,\"#9c179e\"],[0.4444444444444444,\"#bd3786\"],[0.5555555555555556,\"#d8576b\"],[0.6666666666666666,\"#ed7953\"],[0.7777777777777778,\"#fb9f3a\"],[0.8888888888888888,\"#fdca26\"],[1.0,\"#f0f921\"]],\"type\":\"histogram2dcontour\"}],\"mesh3d\":[{\"colorbar\":{\"outlinewidth\":0,\"ticks\":\"\"},\"type\":\"mesh3d\"}],\"parcoords\":[{\"line\":{\"colorbar\":{\"outlinewidth\":0,\"ticks\":\"\"}},\"type\":\"parcoords\"}],\"pie\":[{\"automargin\":true,\"type\":\"pie\"}],\"scatter\":[{\"marker\":{\"colorbar\":{\"outlinewidth\":0,\"ticks\":\"\"}},\"type\":\"scatter\"}],\"scatter3d\":[{\"line\":{\"colorbar\":{\"outlinewidth\":0,\"ticks\":\"\"}},\"marker\":{\"colorbar\":{\"outlinewidth\":0,\"ticks\":\"\"}},\"type\":\"scatter3d\"}],\"scattercarpet\":[{\"marker\":{\"colorbar\":{\"outlinewidth\":0,\"ticks\":\"\"}},\"type\":\"scattercarpet\"}],\"scattergeo\":[{\"marker\":{\"colorbar\":{\"outlinewidth\":0,\"ticks\":\"\"}},\"type\":\"scattergeo\"}],\"scattergl\":[{\"marker\":{\"colorbar\":{\"outlinewidth\":0,\"ticks\":\"\"}},\"type\":\"scattergl\"}],\"scattermapbox\":[{\"marker\":{\"colorbar\":{\"outlinewidth\":0,\"ticks\":\"\"}},\"type\":\"scattermapbox\"}],\"scatterpolar\":[{\"marker\":{\"colorbar\":{\"outlinewidth\":0,\"ticks\":\"\"}},\"type\":\"scatterpolar\"}],\"scatterpolargl\":[{\"marker\":{\"colorbar\":{\"outlinewidth\":0,\"ticks\":\"\"}},\"type\":\"scatterpolargl\"}],\"scatterternary\":[{\"marker\":{\"colorbar\":{\"outlinewidth\":0,\"ticks\":\"\"}},\"type\":\"scatterternary\"}],\"surface\":[{\"colorbar\":{\"outlinewidth\":0,\"ticks\":\"\"},\"colorscale\":[[0.0,\"#0d0887\"],[0.1111111111111111,\"#46039f\"],[0.2222222222222222,\"#7201a8\"],[0.3333333333333333,\"#9c179e\"],[0.4444444444444444,\"#bd3786\"],[0.5555555555555556,\"#d8576b\"],[0.6666666666666666,\"#ed7953\"],[0.7777777777777778,\"#fb9f3a\"],[0.8888888888888888,\"#fdca26\"],[1.0,\"#f0f921\"]],\"type\":\"surface\"}],\"table\":[{\"cells\":{\"fill\":{\"color\":\"#EBF0F8\"},\"line\":{\"color\":\"white\"}},\"header\":{\"fill\":{\"color\":\"#C8D4E3\"},\"line\":{\"color\":\"white\"}},\"type\":\"table\"}]},\"layout\":{\"annotationdefaults\":{\"arrowcolor\":\"#2a3f5f\",\"arrowhead\":0,\"arrowwidth\":1},\"autotypenumbers\":\"strict\",\"coloraxis\":{\"colorbar\":{\"outlinewidth\":0,\"ticks\":\"\"}},\"colorscale\":{\"diverging\":[[0,\"#8e0152\"],[0.1,\"#c51b7d\"],[0.2,\"#de77ae\"],[0.3,\"#f1b6da\"],[0.4,\"#fde0ef\"],[0.5,\"#f7f7f7\"],[0.6,\"#e6f5d0\"],[0.7,\"#b8e186\"],[0.8,\"#7fbc41\"],[0.9,\"#4d9221\"],[1,\"#276419\"]],\"sequential\":[[0.0,\"#0d0887\"],[0.1111111111111111,\"#46039f\"],[0.2222222222222222,\"#7201a8\"],[0.3333333333333333,\"#9c179e\"],[0.4444444444444444,\"#bd3786\"],[0.5555555555555556,\"#d8576b\"],[0.6666666666666666,\"#ed7953\"],[0.7777777777777778,\"#fb9f3a\"],[0.8888888888888888,\"#fdca26\"],[1.0,\"#f0f921\"]],\"sequentialminus\":[[0.0,\"#0d0887\"],[0.1111111111111111,\"#46039f\"],[0.2222222222222222,\"#7201a8\"],[0.3333333333333333,\"#9c179e\"],[0.4444444444444444,\"#bd3786\"],[0.5555555555555556,\"#d8576b\"],[0.6666666666666666,\"#ed7953\"],[0.7777777777777778,\"#fb9f3a\"],[0.8888888888888888,\"#fdca26\"],[1.0,\"#f0f921\"]]},\"colorway\":[\"#636efa\",\"#EF553B\",\"#00cc96\",\"#ab63fa\",\"#FFA15A\",\"#19d3f3\",\"#FF6692\",\"#B6E880\",\"#FF97FF\",\"#FECB52\"],\"font\":{\"color\":\"#2a3f5f\"},\"geo\":{\"bgcolor\":\"white\",\"lakecolor\":\"white\",\"landcolor\":\"#E5ECF6\",\"showlakes\":true,\"showland\":true,\"subunitcolor\":\"white\"},\"hoverlabel\":{\"align\":\"left\"},\"hovermode\":\"closest\",\"mapbox\":{\"style\":\"light\"},\"paper_bgcolor\":\"white\",\"plot_bgcolor\":\"#E5ECF6\",\"polar\":{\"angularaxis\":{\"gridcolor\":\"white\",\"linecolor\":\"white\",\"ticks\":\"\"},\"bgcolor\":\"#E5ECF6\",\"radialaxis\":{\"gridcolor\":\"white\",\"linecolor\":\"white\",\"ticks\":\"\"}},\"scene\":{\"xaxis\":{\"backgroundcolor\":\"#E5ECF6\",\"gridcolor\":\"white\",\"gridwidth\":2,\"linecolor\":\"white\",\"showbackground\":true,\"ticks\":\"\",\"zerolinecolor\":\"white\"},\"yaxis\":{\"backgroundcolor\":\"#E5ECF6\",\"gridcolor\":\"white\",\"gridwidth\":2,\"linecolor\":\"white\",\"showbackground\":true,\"ticks\":\"\",\"zerolinecolor\":\"white\"},\"zaxis\":{\"backgroundcolor\":\"#E5ECF6\",\"gridcolor\":\"white\",\"gridwidth\":2,\"linecolor\":\"white\",\"showbackground\":true,\"ticks\":\"\",\"zerolinecolor\":\"white\"}},\"shapedefaults\":{\"line\":{\"color\":\"#2a3f5f\"}},\"ternary\":{\"aaxis\":{\"gridcolor\":\"white\",\"linecolor\":\"white\",\"ticks\":\"\"},\"baxis\":{\"gridcolor\":\"white\",\"linecolor\":\"white\",\"ticks\":\"\"},\"bgcolor\":\"#E5ECF6\",\"caxis\":{\"gridcolor\":\"white\",\"linecolor\":\"white\",\"ticks\":\"\"}},\"title\":{\"x\":0.05},\"xaxis\":{\"automargin\":true,\"gridcolor\":\"white\",\"linecolor\":\"white\",\"ticks\":\"\",\"title\":{\"standoff\":15},\"zerolinecolor\":\"white\",\"zerolinewidth\":2},\"yaxis\":{\"automargin\":true,\"gridcolor\":\"white\",\"linecolor\":\"white\",\"ticks\":\"\",\"title\":{\"standoff\":15},\"zerolinecolor\":\"white\",\"zerolinewidth\":2}}},\"xaxis\":{\"anchor\":\"y\",\"domain\":[0.0,1.0],\"title\":{\"text\":\"pm1\"},\"range\":[-1.1,1.1],\"constrain\":\"domain\"},\"yaxis\":{\"anchor\":\"x\",\"domain\":[0.0,1.0],\"title\":{\"text\":\"pm2\"},\"scaleanchor\":\"x\",\"scaleratio\":1},\"legend\":{\"title\":{\"text\":\"1_Group\"},\"tracegroupgap\":0},\"margin\":{\"t\":60},\"height\":800,\"shapes\":[{\"line\":{\"color\":\"black\",\"dash\":\"dot\"},\"opacity\":0.15,\"type\":\"circle\",\"x0\":-0.47058823529411764,\"x1\":0.47058823529411764,\"y0\":-0.47058823529411764,\"y1\":0.47058823529411764},{\"line\":{\"color\":\"black\",\"dash\":\"dot\"},\"opacity\":0.15,\"type\":\"circle\",\"x0\":-0.6447368421052633,\"x1\":0.6447368421052633,\"y0\":-0.6447368421052633,\"y1\":0.6447368421052633},{\"line\":{\"color\":\"black\",\"dash\":\"dot\"},\"opacity\":0.15,\"type\":\"circle\",\"x0\":-0.7705382436260623,\"x1\":0.7705382436260623,\"y0\":-0.7705382436260623,\"y1\":0.7705382436260623},{\"line\":{\"color\":\"black\",\"dash\":\"dot\"},\"opacity\":0.15,\"type\":\"circle\",\"x0\":-0.8557007125890737,\"x1\":0.8557007125890737,\"y0\":-0.8557007125890737,\"y1\":0.8557007125890737},{\"line\":{\"color\":\"black\",\"dash\":\"dot\"},\"opacity\":0.15,\"type\":\"circle\",\"x0\":-0.9108474990827933,\"x1\":0.9108474990827933,\"y0\":-0.9108474990827933,\"y1\":0.9108474990827933},{\"line\":{\"color\":\"black\",\"dash\":\"dot\"},\"opacity\":0.15,\"type\":\"circle\",\"x0\":-0.9455374041239167,\"x1\":0.9455374041239167,\"y0\":-0.9455374041239167,\"y1\":0.9455374041239167},{\"line\":{\"color\":\"Black\"},\"type\":\"circle\",\"x0\":-1,\"x1\":1,\"xref\":\"x\",\"y0\":-1,\"y1\":1,\"yref\":\"y\"},{\"fillcolor\":\"Black\",\"line\":{\"color\":\"Black\"},\"type\":\"circle\",\"x0\":-0.005,\"x1\":0.005,\"xref\":\"x\",\"y0\":-0.005,\"y1\":0.005,\"yref\":\"y\"}],\"yaxis2\":{\"matches\":\"y\",\"layer\":\"below traces\",\"overlaying\":\"y\"},\"plot_bgcolor\":\"rgba(0, 0, 0, 0)\",\"title\":{\"text\":\"\",\"x\":0.5},\"font\":{\"size\":11}},                        {\"responsive\": true}                    ).then(function(){\n",
              "                            \n",
              "var gd = document.getElementById('151a5ed8-ddc2-4207-8b92-1d9dca65837b');\n",
              "var x = new MutationObserver(function (mutations, observer) {{\n",
              "        var display = window.getComputedStyle(gd).display;\n",
              "        if (!display || display === 'none') {{\n",
              "            console.log([gd, 'removed!']);\n",
              "            Plotly.purge(gd);\n",
              "            observer.disconnect();\n",
              "        }}\n",
              "}});\n",
              "\n",
              "// Listen for the removal of the full notebook cells\n",
              "var notebookContainer = gd.closest('#notebook-container');\n",
              "if (notebookContainer) {{\n",
              "    x.observe(notebookContainer, {childList: true});\n",
              "}}\n",
              "\n",
              "// Listen for the clearing of the current output cell\n",
              "var outputEl = gd.closest('.output');\n",
              "if (outputEl) {{\n",
              "    x.observe(outputEl, {childList: true});\n",
              "}}\n",
              "\n",
              "                        })                };                            </script>        </div>\n",
              "</body>\n",
              "</html>"
            ]
          },
          "metadata": {}
        }
      ],
      "source": [
        "#@title ### Create interactive plot\n",
        "#@markdown Here you can set different parameters to color & annotate the resulting projection:\n",
        "\n",
        "title = \"\" #@param {type:\"string\"}\n",
        "\n",
        "#Labels name\n",
        "#@markdown ---\n",
        "#@markdown #### Select the coloring from annotation .csv file:\n",
        "labels_name = \"1_Group\" #@param {type:\"string\"}\n",
        "if labels_name == \"\":\n",
        "    labels_name = None\n",
        "elif labels_name not in annotation_names:\n",
        "    raise NameError(f\"labels_name {labels_name} is not in the availables annotations.\\nAvailables annotations: {annotation_names}\")\n",
        "\n",
        "#Labels text\n",
        "#@markdown #### Select classes to label among the \"labels_name\" or \"second_labels_name\" column (comma separated list):\n",
        "second_labels_name = \"\" #@param {type:\"string\"}\n",
        "if second_labels_name == \"\":\n",
        "    second_labels_name = None\n",
        "elif second_labels_name not in annotation_names:\n",
        "    raise NameError(f'\"second_labels_name\" {second_labels_name} is not in the availables annotations.\\nAvailables annotations: {annotation_names}')\n",
        "\n",
        "\n",
        "labels_text = \"20\" #@param {type:\"string\"}\n",
        "if labels_text:\n",
        "    try:\n",
        "        labels_text = [s.strip() for s in labels_text.split(\",\")]\n",
        "    except:\n",
        "        print('Error: \"label_text\" field is not a valid list.')\n",
        "else:\n",
        "    labels_text = [\"\"]\n",
        "\n",
        "#Convert labels_text to labels_name dtype\n",
        "if labels_name and second_labels_name is None:\n",
        "    if labels_name and labels_text != [\"\"]:\n",
        "        try:\n",
        "            labels_text_dtype = df_annotation[labels_name].dtypes\n",
        "            labels_text = list(np.array(labels_text).astype(labels_text_dtype))\n",
        "        except:\n",
        "            raise TypeError(f'\"labels_text\" is not compatible with {labels_name}\" data format ({labels_text_dtype}).')\n",
        "else:\n",
        "    if second_labels_name and labels_text != [\"\"]:\n",
        "        try:\n",
        "            labels_text_dtype = df_annotation[second_labels_name].dtypes\n",
        "            labels_text = list(np.array(labels_text).astype(labels_text_dtype))\n",
        "        except:\n",
        "            raise TypeError(f'\"labels_text\" is not compatible with {second_labels_name}\" data format ({labels_text_dtype}).')\n",
        "\n",
        "show_text = True #@param {type:\"boolean\"}\n",
        "#@markdown ---\n",
        "\n",
        "#@markdown #### Use a custom color palette:\n",
        "color_palette = None #@param {type:\"raw\"}\n",
        "use_custom_palette = False #@param {type:\"boolean\"}\n",
        "\n",
        "if not use_custom_palette:\n",
        "    color_palette = None\n",
        "\n",
        "#Plot graph\n",
        "fig = plot_embedding_interactive(df_embedding, \n",
        "                                 labels_name = labels_name,\n",
        "                                 second_labels_name = second_labels_name, \n",
        "                                 show_text = show_text,\n",
        "                                 labels_text = labels_text,\n",
        "                                 color_palette = color_palette, \n",
        "                                 title = title, \n",
        "                                 fontsize = 11)\n",
        "fig.show()"
      ]
    },
    {
      "cell_type": "code",
      "execution_count": 8,
      "metadata": {
        "cellView": "form",
        "id": "CGaefRbSWA0d",
        "outputId": "eb8594bb-0aaf-4a1b-f36e-68e999fd6cea",
        "colab": {
          "base_uri": "https://localhost:8080/",
          "height": 17
        }
      },
      "outputs": [
        {
          "output_type": "display_data",
          "data": {
            "text/plain": [
              "<IPython.core.display.Javascript object>"
            ],
            "application/javascript": [
              "\n",
              "    async function download(id, filename, size) {\n",
              "      if (!google.colab.kernel.accessAllowed) {\n",
              "        return;\n",
              "      }\n",
              "      const div = document.createElement('div');\n",
              "      const label = document.createElement('label');\n",
              "      label.textContent = `Downloading \"${filename}\": `;\n",
              "      div.appendChild(label);\n",
              "      const progress = document.createElement('progress');\n",
              "      progress.max = size;\n",
              "      div.appendChild(progress);\n",
              "      document.body.appendChild(div);\n",
              "\n",
              "      const buffers = [];\n",
              "      let downloaded = 0;\n",
              "\n",
              "      const channel = await google.colab.kernel.comms.open(id);\n",
              "      // Send a message to notify the kernel that we're ready.\n",
              "      channel.send({})\n",
              "\n",
              "      for await (const message of channel.messages) {\n",
              "        // Send a message to notify the kernel that we're ready.\n",
              "        channel.send({})\n",
              "        if (message.buffers) {\n",
              "          for (const buffer of message.buffers) {\n",
              "            buffers.push(buffer);\n",
              "            downloaded += buffer.byteLength;\n",
              "            progress.value = downloaded;\n",
              "          }\n",
              "        }\n",
              "      }\n",
              "      const blob = new Blob(buffers, {type: 'application/binary'});\n",
              "      const a = document.createElement('a');\n",
              "      a.href = window.URL.createObjectURL(blob);\n",
              "      a.download = filename;\n",
              "      div.appendChild(a);\n",
              "      a.click();\n",
              "      div.remove();\n",
              "    }\n",
              "  "
            ]
          },
          "metadata": {}
        },
        {
          "output_type": "display_data",
          "data": {
            "text/plain": [
              "<IPython.core.display.Javascript object>"
            ],
            "application/javascript": [
              "download(\"download_178ba6ce-ba66-4fdb-a138-652401922018\", \"globins3k-epochs1000-kingdom.html\", 3760313)"
            ]
          },
          "metadata": {}
        }
      ],
      "source": [
        "#@title Save plot to file\n",
        "output_name = \"example\" #@param {type:\"string\"}\n",
        "output_format = \"html\" #@param [\"png\", \"html\", \"pdf\", \"svg\"]\n",
        "\n",
        "if output_format != \"html\":\n",
        "    fig.write_image(f\"{output_name}.{output_format}\", engine=\"kaleido\")\n",
        "else:\n",
        "    fig.write_html(f\"{output_name}.{output_format}\")\n",
        "files.download(f\"{output_name}.{output_format}\")"
      ]
    },
    {
      "cell_type": "code",
      "execution_count": 9,
      "metadata": {
        "cellView": "form",
        "id": "KB6XdhXCWA0d",
        "outputId": "1fefc8cc-f73d-4763-e33c-bc2d595b33d9",
        "colab": {
          "base_uri": "https://localhost:8080/",
          "height": 17
        }
      },
      "outputs": [
        {
          "output_type": "display_data",
          "data": {
            "text/plain": [
              "<IPython.core.display.Javascript object>"
            ],
            "application/javascript": [
              "\n",
              "    async function download(id, filename, size) {\n",
              "      if (!google.colab.kernel.accessAllowed) {\n",
              "        return;\n",
              "      }\n",
              "      const div = document.createElement('div');\n",
              "      const label = document.createElement('label');\n",
              "      label.textContent = `Downloading \"${filename}\": `;\n",
              "      div.appendChild(label);\n",
              "      const progress = document.createElement('progress');\n",
              "      progress.max = size;\n",
              "      div.appendChild(progress);\n",
              "      document.body.appendChild(div);\n",
              "\n",
              "      const buffers = [];\n",
              "      let downloaded = 0;\n",
              "\n",
              "      const channel = await google.colab.kernel.comms.open(id);\n",
              "      // Send a message to notify the kernel that we're ready.\n",
              "      channel.send({})\n",
              "\n",
              "      for await (const message of channel.messages) {\n",
              "        // Send a message to notify the kernel that we're ready.\n",
              "        channel.send({})\n",
              "        if (message.buffers) {\n",
              "          for (const buffer of message.buffers) {\n",
              "            buffers.push(buffer);\n",
              "            downloaded += buffer.byteLength;\n",
              "            progress.value = downloaded;\n",
              "          }\n",
              "        }\n",
              "      }\n",
              "      const blob = new Blob(buffers, {type: 'application/binary'});\n",
              "      const a = document.createElement('a');\n",
              "      a.href = window.URL.createObjectURL(blob);\n",
              "      a.download = filename;\n",
              "      div.appendChild(a);\n",
              "      a.click();\n",
              "      div.remove();\n",
              "    }\n",
              "  "
            ]
          },
          "metadata": {}
        },
        {
          "output_type": "display_data",
          "data": {
            "text/plain": [
              "<IPython.core.display.Javascript object>"
            ],
            "application/javascript": [
              "download(\"download_e7fee1fa-cc07-4316-9617-ca4690f31e6c\", \"poincareMSA.zip\", 2320262)"
            ]
          },
          "metadata": {}
        }
      ],
      "source": [
        "#@title Download intermediate data\n",
        "bash_command = f\"zip -r -q {out_name}.zip {out_name}\"\n",
        "!{bash_command}\n",
        "\n",
        "files.download(f\"{out_name}.zip\")"
      ]
    },
    {
      "cell_type": "markdown",
      "metadata": {
        "id": "nCodoZxXWA0d"
      },
      "source": [
        "# Help"
      ]
    },
    {
      "cell_type": "markdown",
      "metadata": {
        "id": "TlwImUjbN_CG"
      },
      "source": [
        "### Enabling the GPU\n",
        "\n",
        "To enable GPU in your notebook, select the following menu options −\n",
        "```\n",
        "Runtime / Change runtime type\n",
        "```\n",
        "\n",
        "<figure>\n",
        "<center>\n",
        "<img src=\"https://github.com/klanita/PoincareMSA/blob/master/.github/colab_gpu.png?raw=true\" width=500>\n",
        "</center>\n",
        "</figure>\n",
        "\n"
      ]
    }
  ],
  "metadata": {
    "accelerator": "GPU",
    "colab": {
      "provenance": [],
      "include_colab_link": true
    },
    "gpuClass": "standard",
    "kernelspec": {
      "display_name": "Python 3 (ipykernel)",
      "language": "python",
      "name": "python3"
    },
    "language_info": {
      "codemirror_mode": {
        "name": "ipython",
        "version": 3
      },
      "file_extension": ".py",
      "mimetype": "text/x-python",
      "name": "python",
      "nbconvert_exporter": "python",
      "pygments_lexer": "ipython3",
      "version": "3.7.9"
    }
  },
  "nbformat": 4,
  "nbformat_minor": 0
}