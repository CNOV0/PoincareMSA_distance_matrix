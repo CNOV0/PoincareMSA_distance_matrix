{
 "cells": [
  {
   "cell_type": "code",
   "execution_count": 1,
   "id": "987e8a95-b928-4e39-a8ca-6110143b02f1",
   "metadata": {},
   "outputs": [],
   "source": [
    "import pandas as pd\n",
    "from sklearn.manifold import TSNE\n",
    "import plotly.express as px"
   ]
  },
  {
   "cell_type": "code",
   "execution_count": 2,
   "id": "c5d3deba-d48b-4d76-b2cb-e5f03a140854",
   "metadata": {},
   "outputs": [],
   "source": [
    "phyl = pd.read_csv(\"out_phyl.csv\")"
   ]
  },
  {
   "cell_type": "code",
   "execution_count": 3,
   "id": "eaf3179a-701c-45db-8ee4-2a23d1a6ee8b",
   "metadata": {},
   "outputs": [
    {
     "data": {
      "text/html": [
       "<div>\n",
       "<style scoped>\n",
       "    .dataframe tbody tr th:only-of-type {\n",
       "        vertical-align: middle;\n",
       "    }\n",
       "\n",
       "    .dataframe tbody tr th {\n",
       "        vertical-align: top;\n",
       "    }\n",
       "\n",
       "    .dataframe thead th {\n",
       "        text-align: right;\n",
       "    }\n",
       "</style>\n",
       "<table border=\"1\" class=\"dataframe\">\n",
       "  <thead>\n",
       "    <tr style=\"text-align: right;\">\n",
       "      <th></th>\n",
       "      <th>1</th>\n",
       "      <th>2</th>\n",
       "      <th>3</th>\n",
       "      <th>4</th>\n",
       "      <th>5</th>\n",
       "      <th>6</th>\n",
       "      <th>7</th>\n",
       "      <th>8</th>\n",
       "      <th>9</th>\n",
       "      <th>10</th>\n",
       "      <th>...</th>\n",
       "      <th>243</th>\n",
       "      <th>244</th>\n",
       "      <th>245</th>\n",
       "      <th>246</th>\n",
       "      <th>247</th>\n",
       "      <th>248</th>\n",
       "      <th>249</th>\n",
       "      <th>250</th>\n",
       "      <th>251</th>\n",
       "      <th>252</th>\n",
       "    </tr>\n",
       "  </thead>\n",
       "  <tbody>\n",
       "    <tr>\n",
       "      <th>0</th>\n",
       "      <td>0.000000</td>\n",
       "      <td>0.020364</td>\n",
       "      <td>0.022568</td>\n",
       "      <td>0.024713</td>\n",
       "      <td>0.023570</td>\n",
       "      <td>0.023615</td>\n",
       "      <td>0.024607</td>\n",
       "      <td>0.021254</td>\n",
       "      <td>0.022047</td>\n",
       "      <td>0.022868</td>\n",
       "      <td>...</td>\n",
       "      <td>0.022062</td>\n",
       "      <td>0.032975</td>\n",
       "      <td>0.034126</td>\n",
       "      <td>0.034768</td>\n",
       "      <td>0.028960</td>\n",
       "      <td>0.026797</td>\n",
       "      <td>0.026272</td>\n",
       "      <td>0.024387</td>\n",
       "      <td>0.028972</td>\n",
       "      <td>0.031496</td>\n",
       "    </tr>\n",
       "    <tr>\n",
       "      <th>1</th>\n",
       "      <td>0.020364</td>\n",
       "      <td>0.000000</td>\n",
       "      <td>0.010615</td>\n",
       "      <td>0.012760</td>\n",
       "      <td>0.011618</td>\n",
       "      <td>0.011662</td>\n",
       "      <td>0.013878</td>\n",
       "      <td>0.007727</td>\n",
       "      <td>0.011692</td>\n",
       "      <td>0.012513</td>\n",
       "      <td>...</td>\n",
       "      <td>0.023655</td>\n",
       "      <td>0.028806</td>\n",
       "      <td>0.029957</td>\n",
       "      <td>0.030598</td>\n",
       "      <td>0.024791</td>\n",
       "      <td>0.022628</td>\n",
       "      <td>0.022102</td>\n",
       "      <td>0.020217</td>\n",
       "      <td>0.024803</td>\n",
       "      <td>0.027327</td>\n",
       "    </tr>\n",
       "    <tr>\n",
       "      <th>2</th>\n",
       "      <td>0.022568</td>\n",
       "      <td>0.010615</td>\n",
       "      <td>0.000000</td>\n",
       "      <td>0.011632</td>\n",
       "      <td>0.010489</td>\n",
       "      <td>0.010534</td>\n",
       "      <td>0.016081</td>\n",
       "      <td>0.011505</td>\n",
       "      <td>0.013896</td>\n",
       "      <td>0.014717</td>\n",
       "      <td>...</td>\n",
       "      <td>0.025858</td>\n",
       "      <td>0.031009</td>\n",
       "      <td>0.032161</td>\n",
       "      <td>0.032802</td>\n",
       "      <td>0.026995</td>\n",
       "      <td>0.024831</td>\n",
       "      <td>0.024306</td>\n",
       "      <td>0.022421</td>\n",
       "      <td>0.027007</td>\n",
       "      <td>0.029530</td>\n",
       "    </tr>\n",
       "    <tr>\n",
       "      <th>3</th>\n",
       "      <td>0.024713</td>\n",
       "      <td>0.012760</td>\n",
       "      <td>0.011632</td>\n",
       "      <td>0.000000</td>\n",
       "      <td>0.001429</td>\n",
       "      <td>0.002798</td>\n",
       "      <td>0.018226</td>\n",
       "      <td>0.013650</td>\n",
       "      <td>0.016041</td>\n",
       "      <td>0.016862</td>\n",
       "      <td>...</td>\n",
       "      <td>0.028003</td>\n",
       "      <td>0.033155</td>\n",
       "      <td>0.034306</td>\n",
       "      <td>0.034947</td>\n",
       "      <td>0.029140</td>\n",
       "      <td>0.026977</td>\n",
       "      <td>0.026451</td>\n",
       "      <td>0.024566</td>\n",
       "      <td>0.029152</td>\n",
       "      <td>0.031675</td>\n",
       "    </tr>\n",
       "    <tr>\n",
       "      <th>4</th>\n",
       "      <td>0.023570</td>\n",
       "      <td>0.011618</td>\n",
       "      <td>0.010489</td>\n",
       "      <td>0.001429</td>\n",
       "      <td>0.000000</td>\n",
       "      <td>0.001656</td>\n",
       "      <td>0.017084</td>\n",
       "      <td>0.012507</td>\n",
       "      <td>0.014898</td>\n",
       "      <td>0.015719</td>\n",
       "      <td>...</td>\n",
       "      <td>0.026861</td>\n",
       "      <td>0.032012</td>\n",
       "      <td>0.033163</td>\n",
       "      <td>0.033804</td>\n",
       "      <td>0.027997</td>\n",
       "      <td>0.025834</td>\n",
       "      <td>0.025309</td>\n",
       "      <td>0.023423</td>\n",
       "      <td>0.028009</td>\n",
       "      <td>0.030533</td>\n",
       "    </tr>\n",
       "    <tr>\n",
       "      <th>...</th>\n",
       "      <td>...</td>\n",
       "      <td>...</td>\n",
       "      <td>...</td>\n",
       "      <td>...</td>\n",
       "      <td>...</td>\n",
       "      <td>...</td>\n",
       "      <td>...</td>\n",
       "      <td>...</td>\n",
       "      <td>...</td>\n",
       "      <td>...</td>\n",
       "      <td>...</td>\n",
       "      <td>...</td>\n",
       "      <td>...</td>\n",
       "      <td>...</td>\n",
       "      <td>...</td>\n",
       "      <td>...</td>\n",
       "      <td>...</td>\n",
       "      <td>...</td>\n",
       "      <td>...</td>\n",
       "      <td>...</td>\n",
       "      <td>...</td>\n",
       "    </tr>\n",
       "    <tr>\n",
       "      <th>247</th>\n",
       "      <td>0.026797</td>\n",
       "      <td>0.022628</td>\n",
       "      <td>0.024831</td>\n",
       "      <td>0.026977</td>\n",
       "      <td>0.025834</td>\n",
       "      <td>0.025878</td>\n",
       "      <td>0.026870</td>\n",
       "      <td>0.023517</td>\n",
       "      <td>0.024310</td>\n",
       "      <td>0.025131</td>\n",
       "      <td>...</td>\n",
       "      <td>0.030087</td>\n",
       "      <td>0.031806</td>\n",
       "      <td>0.032958</td>\n",
       "      <td>0.033599</td>\n",
       "      <td>0.027792</td>\n",
       "      <td>0.000000</td>\n",
       "      <td>0.008504</td>\n",
       "      <td>0.004719</td>\n",
       "      <td>0.007447</td>\n",
       "      <td>0.030327</td>\n",
       "    </tr>\n",
       "    <tr>\n",
       "      <th>248</th>\n",
       "      <td>0.026272</td>\n",
       "      <td>0.022102</td>\n",
       "      <td>0.024306</td>\n",
       "      <td>0.026451</td>\n",
       "      <td>0.025309</td>\n",
       "      <td>0.025353</td>\n",
       "      <td>0.026345</td>\n",
       "      <td>0.022992</td>\n",
       "      <td>0.023785</td>\n",
       "      <td>0.024606</td>\n",
       "      <td>...</td>\n",
       "      <td>0.029562</td>\n",
       "      <td>0.031281</td>\n",
       "      <td>0.032433</td>\n",
       "      <td>0.033074</td>\n",
       "      <td>0.027267</td>\n",
       "      <td>0.008504</td>\n",
       "      <td>0.000000</td>\n",
       "      <td>0.006093</td>\n",
       "      <td>0.010679</td>\n",
       "      <td>0.029802</td>\n",
       "    </tr>\n",
       "    <tr>\n",
       "      <th>249</th>\n",
       "      <td>0.024387</td>\n",
       "      <td>0.020217</td>\n",
       "      <td>0.022421</td>\n",
       "      <td>0.024566</td>\n",
       "      <td>0.023423</td>\n",
       "      <td>0.023468</td>\n",
       "      <td>0.024460</td>\n",
       "      <td>0.021107</td>\n",
       "      <td>0.021900</td>\n",
       "      <td>0.022721</td>\n",
       "      <td>...</td>\n",
       "      <td>0.027677</td>\n",
       "      <td>0.029396</td>\n",
       "      <td>0.030547</td>\n",
       "      <td>0.031189</td>\n",
       "      <td>0.025381</td>\n",
       "      <td>0.004719</td>\n",
       "      <td>0.006093</td>\n",
       "      <td>0.000000</td>\n",
       "      <td>0.006895</td>\n",
       "      <td>0.027917</td>\n",
       "    </tr>\n",
       "    <tr>\n",
       "      <th>250</th>\n",
       "      <td>0.028972</td>\n",
       "      <td>0.024803</td>\n",
       "      <td>0.027007</td>\n",
       "      <td>0.029152</td>\n",
       "      <td>0.028009</td>\n",
       "      <td>0.028053</td>\n",
       "      <td>0.029046</td>\n",
       "      <td>0.025692</td>\n",
       "      <td>0.026485</td>\n",
       "      <td>0.027306</td>\n",
       "      <td>...</td>\n",
       "      <td>0.032263</td>\n",
       "      <td>0.033982</td>\n",
       "      <td>0.035133</td>\n",
       "      <td>0.035774</td>\n",
       "      <td>0.029967</td>\n",
       "      <td>0.007447</td>\n",
       "      <td>0.010679</td>\n",
       "      <td>0.006895</td>\n",
       "      <td>0.000000</td>\n",
       "      <td>0.032503</td>\n",
       "    </tr>\n",
       "    <tr>\n",
       "      <th>251</th>\n",
       "      <td>0.031496</td>\n",
       "      <td>0.027327</td>\n",
       "      <td>0.029530</td>\n",
       "      <td>0.031675</td>\n",
       "      <td>0.030533</td>\n",
       "      <td>0.030577</td>\n",
       "      <td>0.031569</td>\n",
       "      <td>0.028216</td>\n",
       "      <td>0.029009</td>\n",
       "      <td>0.029830</td>\n",
       "      <td>...</td>\n",
       "      <td>0.034786</td>\n",
       "      <td>0.036229</td>\n",
       "      <td>0.037380</td>\n",
       "      <td>0.038021</td>\n",
       "      <td>0.011359</td>\n",
       "      <td>0.030327</td>\n",
       "      <td>0.029802</td>\n",
       "      <td>0.027917</td>\n",
       "      <td>0.032503</td>\n",
       "      <td>0.000000</td>\n",
       "    </tr>\n",
       "  </tbody>\n",
       "</table>\n",
       "<p>252 rows × 252 columns</p>\n",
       "</div>"
      ],
      "text/plain": [
       "            1         2         3         4         5         6         7  \\\n",
       "0    0.000000  0.020364  0.022568  0.024713  0.023570  0.023615  0.024607   \n",
       "1    0.020364  0.000000  0.010615  0.012760  0.011618  0.011662  0.013878   \n",
       "2    0.022568  0.010615  0.000000  0.011632  0.010489  0.010534  0.016081   \n",
       "3    0.024713  0.012760  0.011632  0.000000  0.001429  0.002798  0.018226   \n",
       "4    0.023570  0.011618  0.010489  0.001429  0.000000  0.001656  0.017084   \n",
       "..        ...       ...       ...       ...       ...       ...       ...   \n",
       "247  0.026797  0.022628  0.024831  0.026977  0.025834  0.025878  0.026870   \n",
       "248  0.026272  0.022102  0.024306  0.026451  0.025309  0.025353  0.026345   \n",
       "249  0.024387  0.020217  0.022421  0.024566  0.023423  0.023468  0.024460   \n",
       "250  0.028972  0.024803  0.027007  0.029152  0.028009  0.028053  0.029046   \n",
       "251  0.031496  0.027327  0.029530  0.031675  0.030533  0.030577  0.031569   \n",
       "\n",
       "            8         9        10  ...       243       244       245  \\\n",
       "0    0.021254  0.022047  0.022868  ...  0.022062  0.032975  0.034126   \n",
       "1    0.007727  0.011692  0.012513  ...  0.023655  0.028806  0.029957   \n",
       "2    0.011505  0.013896  0.014717  ...  0.025858  0.031009  0.032161   \n",
       "3    0.013650  0.016041  0.016862  ...  0.028003  0.033155  0.034306   \n",
       "4    0.012507  0.014898  0.015719  ...  0.026861  0.032012  0.033163   \n",
       "..        ...       ...       ...  ...       ...       ...       ...   \n",
       "247  0.023517  0.024310  0.025131  ...  0.030087  0.031806  0.032958   \n",
       "248  0.022992  0.023785  0.024606  ...  0.029562  0.031281  0.032433   \n",
       "249  0.021107  0.021900  0.022721  ...  0.027677  0.029396  0.030547   \n",
       "250  0.025692  0.026485  0.027306  ...  0.032263  0.033982  0.035133   \n",
       "251  0.028216  0.029009  0.029830  ...  0.034786  0.036229  0.037380   \n",
       "\n",
       "          246       247       248       249       250       251       252  \n",
       "0    0.034768  0.028960  0.026797  0.026272  0.024387  0.028972  0.031496  \n",
       "1    0.030598  0.024791  0.022628  0.022102  0.020217  0.024803  0.027327  \n",
       "2    0.032802  0.026995  0.024831  0.024306  0.022421  0.027007  0.029530  \n",
       "3    0.034947  0.029140  0.026977  0.026451  0.024566  0.029152  0.031675  \n",
       "4    0.033804  0.027997  0.025834  0.025309  0.023423  0.028009  0.030533  \n",
       "..        ...       ...       ...       ...       ...       ...       ...  \n",
       "247  0.033599  0.027792  0.000000  0.008504  0.004719  0.007447  0.030327  \n",
       "248  0.033074  0.027267  0.008504  0.000000  0.006093  0.010679  0.029802  \n",
       "249  0.031189  0.025381  0.004719  0.006093  0.000000  0.006895  0.027917  \n",
       "250  0.035774  0.029967  0.007447  0.010679  0.006895  0.000000  0.032503  \n",
       "251  0.038021  0.011359  0.030327  0.029802  0.027917  0.032503  0.000000  \n",
       "\n",
       "[252 rows x 252 columns]"
      ]
     },
     "execution_count": 3,
     "metadata": {},
     "output_type": "execute_result"
    }
   ],
   "source": [
    "phyl"
   ]
  },
  {
   "cell_type": "code",
   "execution_count": 4,
   "id": "3c5a638b-e0fb-4c94-9f2a-1abb1192a021",
   "metadata": {},
   "outputs": [],
   "source": [
    "colour = pd.read_csv(\"examples/globins/globin_colors_new.csv\")"
   ]
  },
  {
   "cell_type": "code",
   "execution_count": 5,
   "id": "1b18fae5-400e-477e-a735-33a0d84a5766",
   "metadata": {},
   "outputs": [
    {
     "data": {
      "text/html": [
       "<div>\n",
       "<style scoped>\n",
       "    .dataframe tbody tr th:only-of-type {\n",
       "        vertical-align: middle;\n",
       "    }\n",
       "\n",
       "    .dataframe tbody tr th {\n",
       "        vertical-align: top;\n",
       "    }\n",
       "\n",
       "    .dataframe thead th {\n",
       "        text-align: right;\n",
       "    }\n",
       "</style>\n",
       "<table border=\"1\" class=\"dataframe\">\n",
       "  <thead>\n",
       "    <tr style=\"text-align: right;\">\n",
       "      <th></th>\n",
       "      <th>proteins_id</th>\n",
       "      <th>tree1</th>\n",
       "      <th>tree2</th>\n",
       "      <th>tree3</th>\n",
       "      <th>tree4</th>\n",
       "      <th>full_name</th>\n",
       "      <th>short_name</th>\n",
       "      <th>full_species</th>\n",
       "      <th>short_species</th>\n",
       "      <th>evo_distance</th>\n",
       "      <th>Color_species</th>\n",
       "      <th>Domain</th>\n",
       "      <th>Kingdom</th>\n",
       "      <th>Phylum</th>\n",
       "      <th>Subphylum</th>\n",
       "      <th>Class</th>\n",
       "      <th>Genus</th>\n",
       "    </tr>\n",
       "  </thead>\n",
       "  <tbody>\n",
       "    <tr>\n",
       "      <th>0</th>\n",
       "      <td>1</td>\n",
       "      <td>5</td>\n",
       "      <td>3</td>\n",
       "      <td>3</td>\n",
       "      <td>2</td>\n",
       "      <td>Globin C, coelomic</td>\n",
       "      <td>Globin</td>\n",
       "      <td>Caudina arenicola</td>\n",
       "      <td>Caudina</td>\n",
       "      <td>2.101128</td>\n",
       "      <td>Echinodermata</td>\n",
       "      <td>Eukaryota</td>\n",
       "      <td>Metazoa</td>\n",
       "      <td>Echinodermata</td>\n",
       "      <td>Other</td>\n",
       "      <td>Other</td>\n",
       "      <td>Other</td>\n",
       "    </tr>\n",
       "    <tr>\n",
       "      <th>1</th>\n",
       "      <td>2</td>\n",
       "      <td>-1</td>\n",
       "      <td>28</td>\n",
       "      <td>18</td>\n",
       "      <td>10</td>\n",
       "      <td>Globin (Fragment)</td>\n",
       "      <td>Globin</td>\n",
       "      <td>Stegodyphus mimosarum</td>\n",
       "      <td>Stegodyphus</td>\n",
       "      <td>1.757280</td>\n",
       "      <td>Arthropoda</td>\n",
       "      <td>Eukaryota</td>\n",
       "      <td>Metazoa</td>\n",
       "      <td>Arthropoda</td>\n",
       "      <td>Chelicerata</td>\n",
       "      <td>Arachnida</td>\n",
       "      <td>Other</td>\n",
       "    </tr>\n",
       "    <tr>\n",
       "      <th>2</th>\n",
       "      <td>3</td>\n",
       "      <td>-1</td>\n",
       "      <td>27</td>\n",
       "      <td>18</td>\n",
       "      <td>10</td>\n",
       "      <td>Uncharacterized protein</td>\n",
       "      <td>Uncharacterized</td>\n",
       "      <td>Strigamia maritima</td>\n",
       "      <td>Strigamia</td>\n",
       "      <td>2.041487</td>\n",
       "      <td>Arthropoda</td>\n",
       "      <td>Eukaryota</td>\n",
       "      <td>Metazoa</td>\n",
       "      <td>Arthropoda</td>\n",
       "      <td>Other</td>\n",
       "      <td>Other</td>\n",
       "      <td>Other</td>\n",
       "    </tr>\n",
       "    <tr>\n",
       "      <th>3</th>\n",
       "      <td>4</td>\n",
       "      <td>37</td>\n",
       "      <td>27</td>\n",
       "      <td>18</td>\n",
       "      <td>10</td>\n",
       "      <td>Uncharacterized protein</td>\n",
       "      <td>Uncharacterized</td>\n",
       "      <td>Scylla olivacea</td>\n",
       "      <td>Scylla</td>\n",
       "      <td>2.318169</td>\n",
       "      <td>Arthropoda</td>\n",
       "      <td>Eukaryota</td>\n",
       "      <td>Metazoa</td>\n",
       "      <td>Arthropoda</td>\n",
       "      <td>Crustacea</td>\n",
       "      <td>Malacostraca</td>\n",
       "      <td>Other</td>\n",
       "    </tr>\n",
       "    <tr>\n",
       "      <th>4</th>\n",
       "      <td>5</td>\n",
       "      <td>37</td>\n",
       "      <td>27</td>\n",
       "      <td>18</td>\n",
       "      <td>10</td>\n",
       "      <td>Uncharacterized protein</td>\n",
       "      <td>Uncharacterized</td>\n",
       "      <td>Scylla olivacea</td>\n",
       "      <td>Scylla</td>\n",
       "      <td>2.170775</td>\n",
       "      <td>Arthropoda</td>\n",
       "      <td>Eukaryota</td>\n",
       "      <td>Metazoa</td>\n",
       "      <td>Arthropoda</td>\n",
       "      <td>Crustacea</td>\n",
       "      <td>Malacostraca</td>\n",
       "      <td>Other</td>\n",
       "    </tr>\n",
       "    <tr>\n",
       "      <th>...</th>\n",
       "      <td>...</td>\n",
       "      <td>...</td>\n",
       "      <td>...</td>\n",
       "      <td>...</td>\n",
       "      <td>...</td>\n",
       "      <td>...</td>\n",
       "      <td>...</td>\n",
       "      <td>...</td>\n",
       "      <td>...</td>\n",
       "      <td>...</td>\n",
       "      <td>...</td>\n",
       "      <td>...</td>\n",
       "      <td>...</td>\n",
       "      <td>...</td>\n",
       "      <td>...</td>\n",
       "      <td>...</td>\n",
       "      <td>...</td>\n",
       "    </tr>\n",
       "    <tr>\n",
       "      <th>247</th>\n",
       "      <td>248</td>\n",
       "      <td>14</td>\n",
       "      <td>10</td>\n",
       "      <td>9</td>\n",
       "      <td>3</td>\n",
       "      <td>Uncharacterized protein</td>\n",
       "      <td>Uncharacterized</td>\n",
       "      <td>Strongylocentrotus purpuratus</td>\n",
       "      <td>Strongylocentrotus</td>\n",
       "      <td>2.586926</td>\n",
       "      <td>Echinodermata</td>\n",
       "      <td>Eukaryota</td>\n",
       "      <td>Metazoa</td>\n",
       "      <td>Echinodermata</td>\n",
       "      <td>Other</td>\n",
       "      <td>Echinoidea</td>\n",
       "      <td>Strongylocentrotus</td>\n",
       "    </tr>\n",
       "    <tr>\n",
       "      <th>248</th>\n",
       "      <td>249</td>\n",
       "      <td>-1</td>\n",
       "      <td>10</td>\n",
       "      <td>9</td>\n",
       "      <td>3</td>\n",
       "      <td>Uncharacterized protein</td>\n",
       "      <td>Uncharacterized</td>\n",
       "      <td>Strongylocentrotus purpuratus</td>\n",
       "      <td>Strongylocentrotus</td>\n",
       "      <td>2.519191</td>\n",
       "      <td>Echinodermata</td>\n",
       "      <td>Eukaryota</td>\n",
       "      <td>Metazoa</td>\n",
       "      <td>Echinodermata</td>\n",
       "      <td>Other</td>\n",
       "      <td>Echinoidea</td>\n",
       "      <td>Strongylocentrotus</td>\n",
       "    </tr>\n",
       "    <tr>\n",
       "      <th>249</th>\n",
       "      <td>250</td>\n",
       "      <td>14</td>\n",
       "      <td>10</td>\n",
       "      <td>9</td>\n",
       "      <td>3</td>\n",
       "      <td>Uncharacterized protein</td>\n",
       "      <td>Uncharacterized</td>\n",
       "      <td>Strongylocentrotus purpuratus</td>\n",
       "      <td>Strongylocentrotus</td>\n",
       "      <td>2.276065</td>\n",
       "      <td>Echinodermata</td>\n",
       "      <td>Eukaryota</td>\n",
       "      <td>Metazoa</td>\n",
       "      <td>Echinodermata</td>\n",
       "      <td>Other</td>\n",
       "      <td>Echinoidea</td>\n",
       "      <td>Strongylocentrotus</td>\n",
       "    </tr>\n",
       "    <tr>\n",
       "      <th>250</th>\n",
       "      <td>251</td>\n",
       "      <td>14</td>\n",
       "      <td>10</td>\n",
       "      <td>9</td>\n",
       "      <td>3</td>\n",
       "      <td>Uncharacterized protein</td>\n",
       "      <td>Uncharacterized</td>\n",
       "      <td>Strongylocentrotus purpuratus</td>\n",
       "      <td>Strongylocentrotus</td>\n",
       "      <td>2.867471</td>\n",
       "      <td>Echinodermata</td>\n",
       "      <td>Eukaryota</td>\n",
       "      <td>Metazoa</td>\n",
       "      <td>Echinodermata</td>\n",
       "      <td>Other</td>\n",
       "      <td>Echinoidea</td>\n",
       "      <td>Strongylocentrotus</td>\n",
       "    </tr>\n",
       "    <tr>\n",
       "      <th>251</th>\n",
       "      <td>252</td>\n",
       "      <td>-1</td>\n",
       "      <td>25</td>\n",
       "      <td>15</td>\n",
       "      <td>8</td>\n",
       "      <td>Uncharacterized protein</td>\n",
       "      <td>Uncharacterized</td>\n",
       "      <td>Strongyloides stercoralis</td>\n",
       "      <td>Strongyloides</td>\n",
       "      <td>3.192954</td>\n",
       "      <td>Nematoda</td>\n",
       "      <td>Eukaryota</td>\n",
       "      <td>Metazoa</td>\n",
       "      <td>Nematoda</td>\n",
       "      <td>Other</td>\n",
       "      <td>Chromadorea</td>\n",
       "      <td>Other</td>\n",
       "    </tr>\n",
       "  </tbody>\n",
       "</table>\n",
       "<p>252 rows × 17 columns</p>\n",
       "</div>"
      ],
      "text/plain": [
       "     proteins_id  tree1  tree2  tree3  tree4                full_name  \\\n",
       "0              1      5      3      3      2       Globin C, coelomic   \n",
       "1              2     -1     28     18     10        Globin (Fragment)   \n",
       "2              3     -1     27     18     10  Uncharacterized protein   \n",
       "3              4     37     27     18     10  Uncharacterized protein   \n",
       "4              5     37     27     18     10  Uncharacterized protein   \n",
       "..           ...    ...    ...    ...    ...                      ...   \n",
       "247          248     14     10      9      3  Uncharacterized protein   \n",
       "248          249     -1     10      9      3  Uncharacterized protein   \n",
       "249          250     14     10      9      3  Uncharacterized protein   \n",
       "250          251     14     10      9      3  Uncharacterized protein   \n",
       "251          252     -1     25     15      8  Uncharacterized protein   \n",
       "\n",
       "          short_name                   full_species       short_species  \\\n",
       "0             Globin              Caudina arenicola             Caudina   \n",
       "1             Globin          Stegodyphus mimosarum         Stegodyphus   \n",
       "2    Uncharacterized             Strigamia maritima           Strigamia   \n",
       "3    Uncharacterized                Scylla olivacea              Scylla   \n",
       "4    Uncharacterized                Scylla olivacea              Scylla   \n",
       "..               ...                            ...                 ...   \n",
       "247  Uncharacterized  Strongylocentrotus purpuratus  Strongylocentrotus   \n",
       "248  Uncharacterized  Strongylocentrotus purpuratus  Strongylocentrotus   \n",
       "249  Uncharacterized  Strongylocentrotus purpuratus  Strongylocentrotus   \n",
       "250  Uncharacterized  Strongylocentrotus purpuratus  Strongylocentrotus   \n",
       "251  Uncharacterized      Strongyloides stercoralis       Strongyloides   \n",
       "\n",
       "     evo_distance  Color_species     Domain  Kingdom         Phylum  \\\n",
       "0        2.101128  Echinodermata  Eukaryota  Metazoa  Echinodermata   \n",
       "1        1.757280     Arthropoda  Eukaryota  Metazoa     Arthropoda   \n",
       "2        2.041487     Arthropoda  Eukaryota  Metazoa     Arthropoda   \n",
       "3        2.318169     Arthropoda  Eukaryota  Metazoa     Arthropoda   \n",
       "4        2.170775     Arthropoda  Eukaryota  Metazoa     Arthropoda   \n",
       "..            ...            ...        ...      ...            ...   \n",
       "247      2.586926  Echinodermata  Eukaryota  Metazoa  Echinodermata   \n",
       "248      2.519191  Echinodermata  Eukaryota  Metazoa  Echinodermata   \n",
       "249      2.276065  Echinodermata  Eukaryota  Metazoa  Echinodermata   \n",
       "250      2.867471  Echinodermata  Eukaryota  Metazoa  Echinodermata   \n",
       "251      3.192954       Nematoda  Eukaryota  Metazoa       Nematoda   \n",
       "\n",
       "       Subphylum         Class               Genus  \n",
       "0          Other         Other               Other  \n",
       "1    Chelicerata     Arachnida               Other  \n",
       "2          Other         Other               Other  \n",
       "3      Crustacea  Malacostraca               Other  \n",
       "4      Crustacea  Malacostraca               Other  \n",
       "..           ...           ...                 ...  \n",
       "247        Other    Echinoidea  Strongylocentrotus  \n",
       "248        Other    Echinoidea  Strongylocentrotus  \n",
       "249        Other    Echinoidea  Strongylocentrotus  \n",
       "250        Other    Echinoidea  Strongylocentrotus  \n",
       "251        Other   Chromadorea               Other  \n",
       "\n",
       "[252 rows x 17 columns]"
      ]
     },
     "execution_count": 5,
     "metadata": {},
     "output_type": "execute_result"
    }
   ],
   "source": [
    "colour"
   ]
  },
  {
   "cell_type": "markdown",
   "id": "e9bc48bc-6de9-41f0-ba4b-adee0a9dd645",
   "metadata": {},
   "source": [
    "## T-sne"
   ]
  },
  {
   "cell_type": "code",
   "execution_count": 12,
   "id": "70736b4d-5ce3-4ac4-9801-085062321e8b",
   "metadata": {},
   "outputs": [
    {
     "data": {
      "application/vnd.plotly.v1+json": {
       "config": {
        "plotlyServerURL": "https://plot.ly"
       },
       "data": [
        {
         "hovertemplate": "species=Echinodermata<br>0=%{x}<br>1=%{y}<extra></extra>",
         "legendgroup": "Echinodermata",
         "marker": {
          "color": "#636efa",
          "symbol": "circle"
         },
         "mode": "markers",
         "name": "Echinodermata",
         "orientation": "v",
         "showlegend": true,
         "type": "scatter",
         "x": [
          10.894698143005371,
          8.477666854858398,
          10.564939498901367,
          10.649080276489258,
          10.613018989562988,
          -4.487326622009277,
          -4.787860870361328,
          -5.184216499328613,
          -6.073194980621338,
          -3.5923404693603516
         ],
         "xaxis": "x",
         "y": [
          8.200181007385254,
          -1.0246661901474,
          8.902009010314941,
          8.714310646057129,
          8.796062469482422,
          -10.880127906799316,
          -10.941720008850098,
          -11.006844520568848,
          -11.182559967041016,
          -10.715607643127441
         ],
         "yaxis": "y"
        },
        {
         "hovertemplate": "species=Arthropoda<br>0=%{x}<br>1=%{y}<extra></extra>",
         "legendgroup": "Arthropoda",
         "marker": {
          "color": "#EF553B",
          "symbol": "circle"
         },
         "mode": "markers",
         "name": "Arthropoda",
         "orientation": "v",
         "showlegend": true,
         "type": "scatter",
         "x": [
          10.622961044311523,
          11.975312232971191,
          13.628700256347656,
          12.911670684814453,
          12.939834594726562,
          14.039283752441406,
          11.108627319335938,
          10.721823692321777,
          12.21521282196045,
          14.613155364990234,
          10.457220077514648,
          13.77945327758789,
          15.465967178344727,
          15.333131790161133,
          13.774981498718262,
          14.923733711242676,
          15.232852935791016,
          13.778705596923828,
          15.481976509094238,
          14.658649444580078,
          11.75433349609375,
          11.206849098205566,
          10.524893760681152,
          10.620061874389648,
          10.557597160339355,
          13.271827697753906,
          -4.12135124206543,
          13.51313304901123,
          13.329461097717285,
          13.470296859741211,
          12.994709968566895,
          13.128591537475586,
          12.798558235168457,
          12.824219703674316,
          12.80628490447998,
          13.82125473022461,
          13.652162551879883,
          13.58337116241455,
          -3.8391482830047607,
          12.6970796585083,
          7.925481796264648,
          8.255500793457031,
          8.184479713439941,
          -4.3146257400512695,
          9.600711822509766,
          9.936494827270508,
          9.237342834472656,
          9.609004974365234,
          14.223133087158203,
          9.930201530456543,
          10.100618362426758,
          9.759461402893066,
          9.465840339660645,
          15.434819221496582,
          10.574570655822754,
          7.789628028869629,
          8.946927070617676,
          8.980201721191406,
          8.94803237915039,
          10.023276329040527,
          9.538813591003418,
          8.967193603515625,
          9.528365135192871,
          9.57695198059082,
          -3.6234359741210938,
          14.4656982421875,
          9.137635231018066,
          9.347174644470215,
          10.615015029907227,
          10.667047500610352,
          10.3905029296875,
          10.3573579788208,
          10.322993278503418,
          13.128138542175293,
          12.316818237304688,
          10.768621444702148,
          10.79617977142334,
          -1.0887664556503296,
          11.395547866821289,
          12.4424467086792,
          7.929312705993652,
          -1.1539716720581055,
          9.617765426635742,
          10.05827522277832
         ],
         "xaxis": "x",
         "y": [
          0.24880902469158173,
          0.9360682368278503,
          0.824378490447998,
          0.6459959149360657,
          0.6721247434616089,
          1.8184499740600586,
          0.3598243296146393,
          0.09897007793188095,
          0.09995944052934647,
          1.1802644729614258,
          4.369550704956055,
          -0.8019740581512451,
          -1.0453656911849976,
          -0.4742836654186249,
          -0.6755714416503906,
          -0.9052930474281311,
          -1.0753626823425293,
          -0.6809353828430176,
          -1.0359070301055908,
          0.3318882882595062,
          2.301133632659912,
          3.3100781440734863,
          3.2701215744018555,
          3.328324317932129,
          0.7137120366096497,
          0.7830483317375183,
          -15.672189712524414,
          10.55069637298584,
          9.501632690429688,
          9.70701789855957,
          9.19173812866211,
          10.105055809020996,
          9.786459922790527,
          9.422253608703613,
          9.501032829284668,
          10.702852249145508,
          10.073265075683594,
          10.162013053894043,
          -15.673806190490723,
          1.2683260440826416,
          9.92263126373291,
          10.113816261291504,
          10.068977355957031,
          -15.195735931396484,
          14.574983596801758,
          14.643321990966797,
          14.97689151763916,
          14.9306001663208,
          1.8398523330688477,
          13.596033096313477,
          14.159358024597168,
          13.488487243652344,
          11.049278259277344,
          -0.8804347515106201,
          0.00791820790618658,
          9.840675354003906,
          14.16093921661377,
          14.623315811157227,
          14.412005424499512,
          14.218459129333496,
          14.053035736083984,
          13.849287033081055,
          11.112591743469238,
          11.442493438720703,
          -4.656600475311279,
          1.787992238998413,
          13.59731674194336,
          13.37475299835205,
          5.873037815093994,
          6.129633903503418,
          5.393150329589844,
          5.302248954772949,
          5.236095428466797,
          1.367417335510254,
          1.5916938781738281,
          6.898509979248047,
          7.385294437408447,
          -16.178743362426758,
          3.391796588897705,
          3.304452657699585,
          9.914467811584473,
          -16.17951202392578,
          12.240067481994629,
          9.727546691894531
         ],
         "yaxis": "y"
        },
        {
         "hovertemplate": "species=Mollusca<br>0=%{x}<br>1=%{y}<extra></extra>",
         "legendgroup": "Mollusca",
         "marker": {
          "color": "#00cc96",
          "symbol": "circle"
         },
         "mode": "markers",
         "name": "Mollusca",
         "orientation": "v",
         "showlegend": true,
         "type": "scatter",
         "x": [
          11.333511352539062,
          11.867918968200684,
          -2.9146320819854736,
          -5.398684978485107,
          -5.104259967803955,
          -1.7905786037445068,
          -4.425641059875488,
          6.033145427703857,
          6.363008499145508,
          6.5156779289245605,
          5.46142053604126,
          5.642372131347656,
          12.898320198059082,
          -5.261653900146484,
          -4.678102016448975,
          7.262215614318848,
          13.519147872924805,
          13.566834449768066,
          6.961182117462158,
          -4.135222911834717,
          -3.8469722270965576,
          -3.528876543045044,
          11.623854637145996,
          6.318883895874023,
          -6.046224117279053,
          -4.879520416259766,
          -5.735306262969971,
          -2.3935141563415527,
          -3.8134679794311523,
          6.8856329917907715,
          6.858330249786377,
          -0.7561089396476746,
          -0.7100656032562256,
          -0.8105982542037964,
          -0.7446791529655457,
          -0.7158947587013245
         ],
         "xaxis": "x",
         "y": [
          1.3725591897964478,
          1.6544452905654907,
          -15.49504566192627,
          -14.820096969604492,
          -15.025518417358398,
          -15.69778823852539,
          -15.13011646270752,
          1.540702223777771,
          1.032975196838379,
          1.5808477401733398,
          1.3713047504425049,
          1.399759292602539,
          2.1331703662872314,
          -15.082056999206543,
          -14.876349449157715,
          1.1769626140594482,
          2.416635274887085,
          2.434452772140503,
          1.0655367374420166,
          -9.224918365478516,
          -9.132874488830566,
          -8.98774528503418,
          8.369379043579102,
          1.0200897455215454,
          -9.1964111328125,
          -15.396574974060059,
          -9.10196590423584,
          -15.586691856384277,
          -9.091460227966309,
          1.7114249467849731,
          1.7021163702011108,
          -2.2106430530548096,
          -2.2183234691619873,
          -2.2100367546081543,
          -2.217080593109131,
          -2.2155749797821045
         ],
         "yaxis": "y"
        },
        {
         "hovertemplate": "species=Annelida<br>0=%{x}<br>1=%{y}<extra></extra>",
         "legendgroup": "Annelida",
         "marker": {
          "color": "#ab63fa",
          "symbol": "circle"
         },
         "mode": "markers",
         "name": "Annelida",
         "orientation": "v",
         "showlegend": true,
         "type": "scatter",
         "x": [
          -6.806738376617432,
          -5.451528072357178,
          -6.531017303466797,
          -4.821700572967529,
          11.642663955688477,
          -2.0475313663482666,
          10.371060371398926,
          -2.350090265274048,
          -5.720044136047363
         ],
         "xaxis": "x",
         "y": [
          -9.211726188659668,
          -8.870806694030762,
          -9.255702018737793,
          -8.53651237487793,
          2.2561087608337402,
          -15.684959411621094,
          9.367035865783691,
          -15.628369331359863,
          -9.057746887207031
         ],
         "yaxis": "y"
        },
        {
         "hovertemplate": "species=Chordata<br>0=%{x}<br>1=%{y}<extra></extra>",
         "legendgroup": "Chordata",
         "marker": {
          "color": "#FFA15A",
          "symbol": "circle"
         },
         "mode": "markers",
         "name": "Chordata",
         "orientation": "v",
         "showlegend": true,
         "type": "scatter",
         "x": [
          -8.772773742675781,
          -7.68136739730835,
          -7.3425517082214355,
          -14.030625343322754,
          -15.600502967834473,
          -14.417764663696289,
          -14.324165344238281,
          -13.090034484863281,
          -14.087889671325684,
          -14.95319652557373,
          -14.519987106323242,
          -13.378847122192383,
          -13.098052978515625,
          -15.045876502990723,
          -13.691722869873047,
          -15.354374885559082,
          -14.739584922790527,
          -15.456269264221191,
          -15.3811674118042,
          -15.767955780029297,
          -16.722543716430664,
          -14.907320022583008,
          -16.19154930114746,
          -14.653339385986328,
          -16.674392700195312,
          -16.106130599975586,
          -15.946473121643066,
          -15.230382919311523,
          -16.320545196533203,
          -13.295414924621582,
          -15.583930015563965,
          -14.99061393737793,
          -9.135612487792969,
          -3.2370965480804443,
          -2.7976341247558594,
          -2.5779995918273926,
          -4.229794025421143,
          -2.769141912460327,
          -3.588787078857422,
          -4.039133071899414,
          -2.0726706981658936,
          -3.299699544906616,
          -2.436147928237915,
          -1.9864416122436523,
          -1.6258316040039062,
          -2.4537224769592285,
          -7.614370346069336,
          -2.0370538234710693,
          -3.072685718536377,
          -4.3512468338012695,
          -4.337968349456787,
          -4.262833118438721,
          -3.968721389770508,
          -4.863876819610596,
          -4.993316173553467,
          -10.750743865966797,
          -10.086727142333984,
          -10.501123428344727,
          -10.328347206115723,
          -7.3545989990234375,
          -7.635918140411377,
          -7.35297966003418,
          -8.501616477966309,
          -9.239330291748047,
          -8.521703720092773,
          -8.728671073913574,
          -7.9012579917907715,
          -15.045757293701172,
          -7.16054630279541,
          -7.141139507293701,
          -6.519009113311768,
          -11.14384651184082,
          -10.71155071258545,
          -9.405203819274902,
          -10.6402587890625,
          -9.68105697631836,
          -9.475747108459473,
          -10.894865036010742,
          -9.353145599365234,
          -10.88817310333252,
          -10.434738159179688,
          -11.153335571289062,
          -10.696044921875,
          -6.968288898468018,
          -14.304463386535645,
          -14.544248580932617,
          -9.494333267211914,
          -3.5780348777770996
         ],
         "xaxis": "x",
         "y": [
          -14.525118827819824,
          -3.432241678237915,
          -8.615690231323242,
          2.424086809158325,
          2.6887130737304688,
          2.823063850402832,
          3.6928646564483643,
          2.8505632877349854,
          2.0373244285583496,
          3.5792267322540283,
          1.9218528270721436,
          4.010876178741455,
          3.907980442047119,
          2.7542362213134766,
          2.988614082336426,
          3.8926498889923096,
          4.145975112915039,
          2.5523574352264404,
          3.7649500370025635,
          2.1425299644470215,
          2.8097426891326904,
          2.147800922393799,
          2.510843276977539,
          4.022692680358887,
          2.3044023513793945,
          3.5771644115448,
          3.2163937091827393,
          1.3431590795516968,
          1.5896129608154297,
          2.6170921325683594,
          1.4301457405090332,
          1.279949426651001,
          -0.45238450169563293,
          -17.336652755737305,
          -17.0924129486084,
          -18.191862106323242,
          -16.732288360595703,
          -18.1331729888916,
          -16.958656311035156,
          -16.839506149291992,
          -18.100414276123047,
          -17.75168228149414,
          -17.215116500854492,
          -17.94218635559082,
          -17.439685821533203,
          -17.650577545166016,
          -3.393653392791748,
          -17.562463760375977,
          -17.86134910583496,
          -2.6490089893341064,
          -2.6501729488372803,
          -2.648895263671875,
          -2.671679973602295,
          -2.7411348819732666,
          -2.744661808013916,
          0.27553555369377136,
          0.09617649763822556,
          0.20573775470256805,
          0.1542549878358841,
          -0.3503289818763733,
          -0.24559010565280914,
          -0.2520368993282318,
          -0.49765512347221375,
          -0.4805310070514679,
          -0.49523064494132996,
          -0.47713997960090637,
          -0.707785427570343,
          2.751682758331299,
          -3.190931797027588,
          -3.1852715015411377,
          -0.40612685680389404,
          -15.7499361038208,
          -15.506229400634766,
          -14.907361030578613,
          -16.133073806762695,
          -15.089858055114746,
          -14.95445442199707,
          -16.09795570373535,
          -14.874848365783691,
          -15.503676414489746,
          -15.773664474487305,
          -15.952803611755371,
          -16.14727210998535,
          -0.33755260705947876,
          3.64078950881958,
          2.2570643424987793,
          -14.963862419128418,
          -2.8002145290374756
         ],
         "yaxis": "y"
        },
        {
         "hovertemplate": "species=Cnidaria<br>0=%{x}<br>1=%{y}<extra></extra>",
         "legendgroup": "Cnidaria",
         "marker": {
          "color": "#19d3f3",
          "symbol": "circle"
         },
         "mode": "markers",
         "name": "Cnidaria",
         "orientation": "v",
         "showlegend": true,
         "type": "scatter",
         "x": [
          -5.634954452514648,
          -3.0158495903015137,
          -4.52107572555542,
          -4.311194896697998,
          -5.275989055633545,
          -2.287329912185669
         ],
         "xaxis": "x",
         "y": [
          -12.829184532165527,
          -12.025224685668945,
          -12.353671073913574,
          -12.248170852661133,
          -12.612228393554688,
          -10.234776496887207
         ],
         "yaxis": "y"
        },
        {
         "hovertemplate": "species=Porifera<br>0=%{x}<br>1=%{y}<extra></extra>",
         "legendgroup": "Porifera",
         "marker": {
          "color": "#FF6692",
          "symbol": "circle"
         },
         "mode": "markers",
         "name": "Porifera",
         "orientation": "v",
         "showlegend": true,
         "type": "scatter",
         "x": [
          -5.29172420501709
         ],
         "xaxis": "x",
         "y": [
          -10.60454273223877
         ],
         "yaxis": "y"
        },
        {
         "hovertemplate": "species=Placozoa<br>0=%{x}<br>1=%{y}<extra></extra>",
         "legendgroup": "Placozoa",
         "marker": {
          "color": "#B6E880",
          "symbol": "circle"
         },
         "mode": "markers",
         "name": "Placozoa",
         "orientation": "v",
         "showlegend": true,
         "type": "scatter",
         "x": [
          -6.1413798332214355
         ],
         "xaxis": "x",
         "y": [
          -9.9767427444458
         ],
         "yaxis": "y"
        },
        {
         "hovertemplate": "species=Bacteria<br>0=%{x}<br>1=%{y}<extra></extra>",
         "legendgroup": "Bacteria",
         "marker": {
          "color": "#FF97FF",
          "symbol": "circle"
         },
         "mode": "markers",
         "name": "Bacteria",
         "orientation": "v",
         "showlegend": true,
         "type": "scatter",
         "x": [
          -2.893795967102051,
          -2.626725912094116,
          -5.139184474945068
         ],
         "xaxis": "x",
         "y": [
          -10.553223609924316,
          -10.460740089416504,
          -11.064855575561523
         ],
         "yaxis": "y"
        },
        {
         "hovertemplate": "species=Nematoda<br>0=%{x}<br>1=%{y}<extra></extra>",
         "legendgroup": "Nematoda",
         "marker": {
          "color": "#FECB52",
          "symbol": "circle"
         },
         "mode": "markers",
         "name": "Nematoda",
         "orientation": "v",
         "showlegend": true,
         "type": "scatter",
         "x": [
          13.038741111755371,
          12.799958229064941,
          13.245281219482422,
          -1.9304778575897217,
          -1.6472796201705933,
          -1.7613917589187622,
          -2.049264430999756,
          -1.7330666780471802,
          -2.6847221851348877,
          -2.392869234085083
         ],
         "xaxis": "x",
         "y": [
          3.898235559463501,
          3.7720725536346436,
          4.014067649841309,
          -7.048305988311768,
          -6.891392707824707,
          -6.940133571624756,
          -7.086979866027832,
          -6.919772624969482,
          -4.550293922424316,
          -4.535333633422852
         ],
         "yaxis": "y"
        },
        {
         "hovertemplate": "species=Hemichordata<br>0=%{x}<br>1=%{y}<extra></extra>",
         "legendgroup": "Hemichordata",
         "marker": {
          "color": "#636efa",
          "symbol": "circle"
         },
         "mode": "markers",
         "name": "Hemichordata",
         "orientation": "v",
         "showlegend": true,
         "type": "scatter",
         "x": [
          -7.030388832092285
         ],
         "xaxis": "x",
         "y": [
          -3.0910189151763916
         ],
         "yaxis": "y"
        },
        {
         "hovertemplate": "species=Fungi<br>0=%{x}<br>1=%{y}<extra></extra>",
         "legendgroup": "Fungi",
         "marker": {
          "color": "#EF553B",
          "symbol": "circle"
         },
         "mode": "markers",
         "name": "Fungi",
         "orientation": "v",
         "showlegend": true,
         "type": "scatter",
         "x": [
          -0.5134105086326599,
          -0.3779238760471344
         ],
         "xaxis": "x",
         "y": [
          -9.00153636932373,
          -8.955682754516602
         ],
         "yaxis": "y"
        },
        {
         "hovertemplate": "species=Viridiplantae<br>0=%{x}<br>1=%{y}<extra></extra>",
         "legendgroup": "Viridiplantae",
         "marker": {
          "color": "#00cc96",
          "symbol": "circle"
         },
         "mode": "markers",
         "name": "Viridiplantae",
         "orientation": "v",
         "showlegend": true,
         "type": "scatter",
         "x": [
          -4.164237022399902
         ],
         "xaxis": "x",
         "y": [
          -10.68660831451416
         ],
         "yaxis": "y"
        }
       ],
       "layout": {
        "height": 900,
        "legend": {
         "title": {
          "text": "species"
         },
         "tracegroupgap": 0
        },
        "margin": {
         "t": 60
        },
        "template": {
         "data": {
          "bar": [
           {
            "error_x": {
             "color": "#2a3f5f"
            },
            "error_y": {
             "color": "#2a3f5f"
            },
            "marker": {
             "line": {
              "color": "#E5ECF6",
              "width": 0.5
             },
             "pattern": {
              "fillmode": "overlay",
              "size": 10,
              "solidity": 0.2
             }
            },
            "type": "bar"
           }
          ],
          "barpolar": [
           {
            "marker": {
             "line": {
              "color": "#E5ECF6",
              "width": 0.5
             },
             "pattern": {
              "fillmode": "overlay",
              "size": 10,
              "solidity": 0.2
             }
            },
            "type": "barpolar"
           }
          ],
          "carpet": [
           {
            "aaxis": {
             "endlinecolor": "#2a3f5f",
             "gridcolor": "white",
             "linecolor": "white",
             "minorgridcolor": "white",
             "startlinecolor": "#2a3f5f"
            },
            "baxis": {
             "endlinecolor": "#2a3f5f",
             "gridcolor": "white",
             "linecolor": "white",
             "minorgridcolor": "white",
             "startlinecolor": "#2a3f5f"
            },
            "type": "carpet"
           }
          ],
          "choropleth": [
           {
            "colorbar": {
             "outlinewidth": 0,
             "ticks": ""
            },
            "type": "choropleth"
           }
          ],
          "contour": [
           {
            "colorbar": {
             "outlinewidth": 0,
             "ticks": ""
            },
            "colorscale": [
             [
              0,
              "#0d0887"
             ],
             [
              0.1111111111111111,
              "#46039f"
             ],
             [
              0.2222222222222222,
              "#7201a8"
             ],
             [
              0.3333333333333333,
              "#9c179e"
             ],
             [
              0.4444444444444444,
              "#bd3786"
             ],
             [
              0.5555555555555556,
              "#d8576b"
             ],
             [
              0.6666666666666666,
              "#ed7953"
             ],
             [
              0.7777777777777778,
              "#fb9f3a"
             ],
             [
              0.8888888888888888,
              "#fdca26"
             ],
             [
              1,
              "#f0f921"
             ]
            ],
            "type": "contour"
           }
          ],
          "contourcarpet": [
           {
            "colorbar": {
             "outlinewidth": 0,
             "ticks": ""
            },
            "type": "contourcarpet"
           }
          ],
          "heatmap": [
           {
            "colorbar": {
             "outlinewidth": 0,
             "ticks": ""
            },
            "colorscale": [
             [
              0,
              "#0d0887"
             ],
             [
              0.1111111111111111,
              "#46039f"
             ],
             [
              0.2222222222222222,
              "#7201a8"
             ],
             [
              0.3333333333333333,
              "#9c179e"
             ],
             [
              0.4444444444444444,
              "#bd3786"
             ],
             [
              0.5555555555555556,
              "#d8576b"
             ],
             [
              0.6666666666666666,
              "#ed7953"
             ],
             [
              0.7777777777777778,
              "#fb9f3a"
             ],
             [
              0.8888888888888888,
              "#fdca26"
             ],
             [
              1,
              "#f0f921"
             ]
            ],
            "type": "heatmap"
           }
          ],
          "heatmapgl": [
           {
            "colorbar": {
             "outlinewidth": 0,
             "ticks": ""
            },
            "colorscale": [
             [
              0,
              "#0d0887"
             ],
             [
              0.1111111111111111,
              "#46039f"
             ],
             [
              0.2222222222222222,
              "#7201a8"
             ],
             [
              0.3333333333333333,
              "#9c179e"
             ],
             [
              0.4444444444444444,
              "#bd3786"
             ],
             [
              0.5555555555555556,
              "#d8576b"
             ],
             [
              0.6666666666666666,
              "#ed7953"
             ],
             [
              0.7777777777777778,
              "#fb9f3a"
             ],
             [
              0.8888888888888888,
              "#fdca26"
             ],
             [
              1,
              "#f0f921"
             ]
            ],
            "type": "heatmapgl"
           }
          ],
          "histogram": [
           {
            "marker": {
             "pattern": {
              "fillmode": "overlay",
              "size": 10,
              "solidity": 0.2
             }
            },
            "type": "histogram"
           }
          ],
          "histogram2d": [
           {
            "colorbar": {
             "outlinewidth": 0,
             "ticks": ""
            },
            "colorscale": [
             [
              0,
              "#0d0887"
             ],
             [
              0.1111111111111111,
              "#46039f"
             ],
             [
              0.2222222222222222,
              "#7201a8"
             ],
             [
              0.3333333333333333,
              "#9c179e"
             ],
             [
              0.4444444444444444,
              "#bd3786"
             ],
             [
              0.5555555555555556,
              "#d8576b"
             ],
             [
              0.6666666666666666,
              "#ed7953"
             ],
             [
              0.7777777777777778,
              "#fb9f3a"
             ],
             [
              0.8888888888888888,
              "#fdca26"
             ],
             [
              1,
              "#f0f921"
             ]
            ],
            "type": "histogram2d"
           }
          ],
          "histogram2dcontour": [
           {
            "colorbar": {
             "outlinewidth": 0,
             "ticks": ""
            },
            "colorscale": [
             [
              0,
              "#0d0887"
             ],
             [
              0.1111111111111111,
              "#46039f"
             ],
             [
              0.2222222222222222,
              "#7201a8"
             ],
             [
              0.3333333333333333,
              "#9c179e"
             ],
             [
              0.4444444444444444,
              "#bd3786"
             ],
             [
              0.5555555555555556,
              "#d8576b"
             ],
             [
              0.6666666666666666,
              "#ed7953"
             ],
             [
              0.7777777777777778,
              "#fb9f3a"
             ],
             [
              0.8888888888888888,
              "#fdca26"
             ],
             [
              1,
              "#f0f921"
             ]
            ],
            "type": "histogram2dcontour"
           }
          ],
          "mesh3d": [
           {
            "colorbar": {
             "outlinewidth": 0,
             "ticks": ""
            },
            "type": "mesh3d"
           }
          ],
          "parcoords": [
           {
            "line": {
             "colorbar": {
              "outlinewidth": 0,
              "ticks": ""
             }
            },
            "type": "parcoords"
           }
          ],
          "pie": [
           {
            "automargin": true,
            "type": "pie"
           }
          ],
          "scatter": [
           {
            "fillpattern": {
             "fillmode": "overlay",
             "size": 10,
             "solidity": 0.2
            },
            "type": "scatter"
           }
          ],
          "scatter3d": [
           {
            "line": {
             "colorbar": {
              "outlinewidth": 0,
              "ticks": ""
             }
            },
            "marker": {
             "colorbar": {
              "outlinewidth": 0,
              "ticks": ""
             }
            },
            "type": "scatter3d"
           }
          ],
          "scattercarpet": [
           {
            "marker": {
             "colorbar": {
              "outlinewidth": 0,
              "ticks": ""
             }
            },
            "type": "scattercarpet"
           }
          ],
          "scattergeo": [
           {
            "marker": {
             "colorbar": {
              "outlinewidth": 0,
              "ticks": ""
             }
            },
            "type": "scattergeo"
           }
          ],
          "scattergl": [
           {
            "marker": {
             "colorbar": {
              "outlinewidth": 0,
              "ticks": ""
             }
            },
            "type": "scattergl"
           }
          ],
          "scattermapbox": [
           {
            "marker": {
             "colorbar": {
              "outlinewidth": 0,
              "ticks": ""
             }
            },
            "type": "scattermapbox"
           }
          ],
          "scatterpolar": [
           {
            "marker": {
             "colorbar": {
              "outlinewidth": 0,
              "ticks": ""
             }
            },
            "type": "scatterpolar"
           }
          ],
          "scatterpolargl": [
           {
            "marker": {
             "colorbar": {
              "outlinewidth": 0,
              "ticks": ""
             }
            },
            "type": "scatterpolargl"
           }
          ],
          "scatterternary": [
           {
            "marker": {
             "colorbar": {
              "outlinewidth": 0,
              "ticks": ""
             }
            },
            "type": "scatterternary"
           }
          ],
          "surface": [
           {
            "colorbar": {
             "outlinewidth": 0,
             "ticks": ""
            },
            "colorscale": [
             [
              0,
              "#0d0887"
             ],
             [
              0.1111111111111111,
              "#46039f"
             ],
             [
              0.2222222222222222,
              "#7201a8"
             ],
             [
              0.3333333333333333,
              "#9c179e"
             ],
             [
              0.4444444444444444,
              "#bd3786"
             ],
             [
              0.5555555555555556,
              "#d8576b"
             ],
             [
              0.6666666666666666,
              "#ed7953"
             ],
             [
              0.7777777777777778,
              "#fb9f3a"
             ],
             [
              0.8888888888888888,
              "#fdca26"
             ],
             [
              1,
              "#f0f921"
             ]
            ],
            "type": "surface"
           }
          ],
          "table": [
           {
            "cells": {
             "fill": {
              "color": "#EBF0F8"
             },
             "line": {
              "color": "white"
             }
            },
            "header": {
             "fill": {
              "color": "#C8D4E3"
             },
             "line": {
              "color": "white"
             }
            },
            "type": "table"
           }
          ]
         },
         "layout": {
          "annotationdefaults": {
           "arrowcolor": "#2a3f5f",
           "arrowhead": 0,
           "arrowwidth": 1
          },
          "autotypenumbers": "strict",
          "coloraxis": {
           "colorbar": {
            "outlinewidth": 0,
            "ticks": ""
           }
          },
          "colorscale": {
           "diverging": [
            [
             0,
             "#8e0152"
            ],
            [
             0.1,
             "#c51b7d"
            ],
            [
             0.2,
             "#de77ae"
            ],
            [
             0.3,
             "#f1b6da"
            ],
            [
             0.4,
             "#fde0ef"
            ],
            [
             0.5,
             "#f7f7f7"
            ],
            [
             0.6,
             "#e6f5d0"
            ],
            [
             0.7,
             "#b8e186"
            ],
            [
             0.8,
             "#7fbc41"
            ],
            [
             0.9,
             "#4d9221"
            ],
            [
             1,
             "#276419"
            ]
           ],
           "sequential": [
            [
             0,
             "#0d0887"
            ],
            [
             0.1111111111111111,
             "#46039f"
            ],
            [
             0.2222222222222222,
             "#7201a8"
            ],
            [
             0.3333333333333333,
             "#9c179e"
            ],
            [
             0.4444444444444444,
             "#bd3786"
            ],
            [
             0.5555555555555556,
             "#d8576b"
            ],
            [
             0.6666666666666666,
             "#ed7953"
            ],
            [
             0.7777777777777778,
             "#fb9f3a"
            ],
            [
             0.8888888888888888,
             "#fdca26"
            ],
            [
             1,
             "#f0f921"
            ]
           ],
           "sequentialminus": [
            [
             0,
             "#0d0887"
            ],
            [
             0.1111111111111111,
             "#46039f"
            ],
            [
             0.2222222222222222,
             "#7201a8"
            ],
            [
             0.3333333333333333,
             "#9c179e"
            ],
            [
             0.4444444444444444,
             "#bd3786"
            ],
            [
             0.5555555555555556,
             "#d8576b"
            ],
            [
             0.6666666666666666,
             "#ed7953"
            ],
            [
             0.7777777777777778,
             "#fb9f3a"
            ],
            [
             0.8888888888888888,
             "#fdca26"
            ],
            [
             1,
             "#f0f921"
            ]
           ]
          },
          "colorway": [
           "#636efa",
           "#EF553B",
           "#00cc96",
           "#ab63fa",
           "#FFA15A",
           "#19d3f3",
           "#FF6692",
           "#B6E880",
           "#FF97FF",
           "#FECB52"
          ],
          "font": {
           "color": "#2a3f5f"
          },
          "geo": {
           "bgcolor": "white",
           "lakecolor": "white",
           "landcolor": "#E5ECF6",
           "showlakes": true,
           "showland": true,
           "subunitcolor": "white"
          },
          "hoverlabel": {
           "align": "left"
          },
          "hovermode": "closest",
          "mapbox": {
           "style": "light"
          },
          "paper_bgcolor": "white",
          "plot_bgcolor": "#E5ECF6",
          "polar": {
           "angularaxis": {
            "gridcolor": "white",
            "linecolor": "white",
            "ticks": ""
           },
           "bgcolor": "#E5ECF6",
           "radialaxis": {
            "gridcolor": "white",
            "linecolor": "white",
            "ticks": ""
           }
          },
          "scene": {
           "xaxis": {
            "backgroundcolor": "#E5ECF6",
            "gridcolor": "white",
            "gridwidth": 2,
            "linecolor": "white",
            "showbackground": true,
            "ticks": "",
            "zerolinecolor": "white"
           },
           "yaxis": {
            "backgroundcolor": "#E5ECF6",
            "gridcolor": "white",
            "gridwidth": 2,
            "linecolor": "white",
            "showbackground": true,
            "ticks": "",
            "zerolinecolor": "white"
           },
           "zaxis": {
            "backgroundcolor": "#E5ECF6",
            "gridcolor": "white",
            "gridwidth": 2,
            "linecolor": "white",
            "showbackground": true,
            "ticks": "",
            "zerolinecolor": "white"
           }
          },
          "shapedefaults": {
           "line": {
            "color": "#2a3f5f"
           }
          },
          "ternary": {
           "aaxis": {
            "gridcolor": "white",
            "linecolor": "white",
            "ticks": ""
           },
           "baxis": {
            "gridcolor": "white",
            "linecolor": "white",
            "ticks": ""
           },
           "bgcolor": "#E5ECF6",
           "caxis": {
            "gridcolor": "white",
            "linecolor": "white",
            "ticks": ""
           }
          },
          "title": {
           "x": 0.05
          },
          "xaxis": {
           "automargin": true,
           "gridcolor": "white",
           "linecolor": "white",
           "ticks": "",
           "title": {
            "standoff": 15
           },
           "zerolinecolor": "white",
           "zerolinewidth": 2
          },
          "yaxis": {
           "automargin": true,
           "gridcolor": "white",
           "linecolor": "white",
           "ticks": "",
           "title": {
            "standoff": 15
           },
           "zerolinecolor": "white",
           "zerolinewidth": 2
          }
         }
        },
        "width": 1000,
        "xaxis": {
         "anchor": "y",
         "domain": [
          0,
          1
         ],
         "dtick": 5,
         "range": [
          -20,
          20
         ],
         "title": {
          "text": "0"
         },
         "type": "linear"
        },
        "yaxis": {
         "anchor": "x",
         "domain": [
          0,
          1
         ],
         "range": [
          -20,
          20
         ],
         "title": {
          "text": "1"
         },
         "type": "linear"
        }
       }
      },
      "image/png": "[encoded data removed]",
      "text/html": [
       "<div>                            <div id=\"0bfbcbfa-cc5e-4ec2-ba98-ce244351601f\" class=\"plotly-graph-div\" style=\"height:900px; width:1000px;\"></div>            <script type=\"text/javascript\">                require([\"plotly\"], function(Plotly) {                    window.PLOTLYENV=window.PLOTLYENV || {};                                    if (document.getElementById(\"0bfbcbfa-cc5e-4ec2-ba98-ce244351601f\")) {                    Plotly.newPlot(                        \"0bfbcbfa-cc5e-4ec2-ba98-ce244351601f\",                        [{\"hovertemplate\":\"species=Echinodermata<br>0=%{x}<br>1=%{y}<extra></extra>\",\"legendgroup\":\"Echinodermata\",\"marker\":{\"color\":\"#636efa\",\"symbol\":\"circle\"},\"mode\":\"markers\",\"name\":\"Echinodermata\",\"orientation\":\"v\",\"showlegend\":true,\"x\":[10.894698143005371,8.477666854858398,10.564939498901367,10.649080276489258,10.613018989562988,-4.487326622009277,-4.787860870361328,-5.184216499328613,-6.073194980621338,-3.5923404693603516],\"xaxis\":\"x\",\"y\":[8.200181007385254,-1.0246661901474,8.902009010314941,8.714310646057129,8.796062469482422,-10.880127906799316,-10.941720008850098,-11.006844520568848,-11.182559967041016,-10.715607643127441],\"yaxis\":\"y\",\"type\":\"scatter\"},{\"hovertemplate\":\"species=Arthropoda<br>0=%{x}<br>1=%{y}<extra></extra>\",\"legendgroup\":\"Arthropoda\",\"marker\":{\"color\":\"#EF553B\",\"symbol\":\"circle\"},\"mode\":\"markers\",\"name\":\"Arthropoda\",\"orientation\":\"v\",\"showlegend\":true,\"x\":[10.622961044311523,11.975312232971191,13.628700256347656,12.911670684814453,12.939834594726562,14.039283752441406,11.108627319335938,10.721823692321777,12.21521282196045,14.613155364990234,10.457220077514648,13.77945327758789,15.465967178344727,15.333131790161133,13.774981498718262,14.923733711242676,15.232852935791016,13.778705596923828,15.481976509094238,14.658649444580078,11.75433349609375,11.206849098205566,10.524893760681152,10.620061874389648,10.557597160339355,13.271827697753906,-4.12135124206543,13.51313304901123,13.329461097717285,13.470296859741211,12.994709968566895,13.128591537475586,12.798558235168457,12.824219703674316,12.80628490447998,13.82125473022461,13.652162551879883,13.58337116241455,-3.8391482830047607,12.6970796585083,7.925481796264648,8.255500793457031,8.184479713439941,-4.3146257400512695,9.600711822509766,9.936494827270508,9.237342834472656,9.609004974365234,14.223133087158203,9.930201530456543,10.100618362426758,9.759461402893066,9.465840339660645,15.434819221496582,10.574570655822754,7.789628028869629,8.946927070617676,8.980201721191406,8.94803237915039,10.023276329040527,9.538813591003418,8.967193603515625,9.528365135192871,9.57695198059082,-3.6234359741210938,14.4656982421875,9.137635231018066,9.347174644470215,10.615015029907227,10.667047500610352,10.3905029296875,10.3573579788208,10.322993278503418,13.128138542175293,12.316818237304688,10.768621444702148,10.79617977142334,-1.0887664556503296,11.395547866821289,12.4424467086792,7.929312705993652,-1.1539716720581055,9.617765426635742,10.05827522277832],\"xaxis\":\"x\",\"y\":[0.24880902469158173,0.9360682368278503,0.824378490447998,0.6459959149360657,0.6721247434616089,1.8184499740600586,0.3598243296146393,0.09897007793188095,0.09995944052934647,1.1802644729614258,4.369550704956055,-0.8019740581512451,-1.0453656911849976,-0.4742836654186249,-0.6755714416503906,-0.9052930474281311,-1.0753626823425293,-0.6809353828430176,-1.0359070301055908,0.3318882882595062,2.301133632659912,3.3100781440734863,3.2701215744018555,3.328324317932129,0.7137120366096497,0.7830483317375183,-15.672189712524414,10.55069637298584,9.501632690429688,9.70701789855957,9.19173812866211,10.105055809020996,9.786459922790527,9.422253608703613,9.501032829284668,10.702852249145508,10.073265075683594,10.162013053894043,-15.673806190490723,1.2683260440826416,9.92263126373291,10.113816261291504,10.068977355957031,-15.195735931396484,14.574983596801758,14.643321990966797,14.97689151763916,14.9306001663208,1.8398523330688477,13.596033096313477,14.159358024597168,13.488487243652344,11.049278259277344,-0.8804347515106201,0.00791820790618658,9.840675354003906,14.16093921661377,14.623315811157227,14.412005424499512,14.218459129333496,14.053035736083984,13.849287033081055,11.112591743469238,11.442493438720703,-4.656600475311279,1.787992238998413,13.59731674194336,13.37475299835205,5.873037815093994,6.129633903503418,5.393150329589844,5.302248954772949,5.236095428466797,1.367417335510254,1.5916938781738281,6.898509979248047,7.385294437408447,-16.178743362426758,3.391796588897705,3.304452657699585,9.914467811584473,-16.17951202392578,12.240067481994629,9.727546691894531],\"yaxis\":\"y\",\"type\":\"scatter\"},{\"hovertemplate\":\"species=Mollusca<br>0=%{x}<br>1=%{y}<extra></extra>\",\"legendgroup\":\"Mollusca\",\"marker\":{\"color\":\"#00cc96\",\"symbol\":\"circle\"},\"mode\":\"markers\",\"name\":\"Mollusca\",\"orientation\":\"v\",\"showlegend\":true,\"x\":[11.333511352539062,11.867918968200684,-2.9146320819854736,-5.398684978485107,-5.104259967803955,-1.7905786037445068,-4.425641059875488,6.033145427703857,6.363008499145508,6.5156779289245605,5.46142053604126,5.642372131347656,12.898320198059082,-5.261653900146484,-4.678102016448975,7.262215614318848,13.519147872924805,13.566834449768066,6.961182117462158,-4.135222911834717,-3.8469722270965576,-3.528876543045044,11.623854637145996,6.318883895874023,-6.046224117279053,-4.879520416259766,-5.735306262969971,-2.3935141563415527,-3.8134679794311523,6.8856329917907715,6.858330249786377,-0.7561089396476746,-0.7100656032562256,-0.8105982542037964,-0.7446791529655457,-0.7158947587013245],\"xaxis\":\"x\",\"y\":[1.3725591897964478,1.6544452905654907,-15.49504566192627,-14.820096969604492,-15.025518417358398,-15.69778823852539,-15.13011646270752,1.540702223777771,1.032975196838379,1.5808477401733398,1.3713047504425049,1.399759292602539,2.1331703662872314,-15.082056999206543,-14.876349449157715,1.1769626140594482,2.416635274887085,2.434452772140503,1.0655367374420166,-9.224918365478516,-9.132874488830566,-8.98774528503418,8.369379043579102,1.0200897455215454,-9.1964111328125,-15.396574974060059,-9.10196590423584,-15.586691856384277,-9.091460227966309,1.7114249467849731,1.7021163702011108,-2.2106430530548096,-2.2183234691619873,-2.2100367546081543,-2.217080593109131,-2.2155749797821045],\"yaxis\":\"y\",\"type\":\"scatter\"},{\"hovertemplate\":\"species=Annelida<br>0=%{x}<br>1=%{y}<extra></extra>\",\"legendgroup\":\"Annelida\",\"marker\":{\"color\":\"#ab63fa\",\"symbol\":\"circle\"},\"mode\":\"markers\",\"name\":\"Annelida\",\"orientation\":\"v\",\"showlegend\":true,\"x\":[-6.806738376617432,-5.451528072357178,-6.531017303466797,-4.821700572967529,11.642663955688477,-2.0475313663482666,10.371060371398926,-2.350090265274048,-5.720044136047363],\"xaxis\":\"x\",\"y\":[-9.211726188659668,-8.870806694030762,-9.255702018737793,-8.53651237487793,2.2561087608337402,-15.684959411621094,9.367035865783691,-15.628369331359863,-9.057746887207031],\"yaxis\":\"y\",\"type\":\"scatter\"},{\"hovertemplate\":\"species=Chordata<br>0=%{x}<br>1=%{y}<extra></extra>\",\"legendgroup\":\"Chordata\",\"marker\":{\"color\":\"#FFA15A\",\"symbol\":\"circle\"},\"mode\":\"markers\",\"name\":\"Chordata\",\"orientation\":\"v\",\"showlegend\":true,\"x\":[-8.772773742675781,-7.68136739730835,-7.3425517082214355,-14.030625343322754,-15.600502967834473,-14.417764663696289,-14.324165344238281,-13.090034484863281,-14.087889671325684,-14.95319652557373,-14.519987106323242,-13.378847122192383,-13.098052978515625,-15.045876502990723,-13.691722869873047,-15.354374885559082,-14.739584922790527,-15.456269264221191,-15.3811674118042,-15.767955780029297,-16.722543716430664,-14.907320022583008,-16.19154930114746,-14.653339385986328,-16.674392700195312,-16.106130599975586,-15.946473121643066,-15.230382919311523,-16.320545196533203,-13.295414924621582,-15.583930015563965,-14.99061393737793,-9.135612487792969,-3.2370965480804443,-2.7976341247558594,-2.5779995918273926,-4.229794025421143,-2.769141912460327,-3.588787078857422,-4.039133071899414,-2.0726706981658936,-3.299699544906616,-2.436147928237915,-1.9864416122436523,-1.6258316040039062,-2.4537224769592285,-7.614370346069336,-2.0370538234710693,-3.072685718536377,-4.3512468338012695,-4.337968349456787,-4.262833118438721,-3.968721389770508,-4.863876819610596,-4.993316173553467,-10.750743865966797,-10.086727142333984,-10.501123428344727,-10.328347206115723,-7.3545989990234375,-7.635918140411377,-7.35297966003418,-8.501616477966309,-9.239330291748047,-8.521703720092773,-8.728671073913574,-7.9012579917907715,-15.045757293701172,-7.16054630279541,-7.141139507293701,-6.519009113311768,-11.14384651184082,-10.71155071258545,-9.405203819274902,-10.6402587890625,-9.68105697631836,-9.475747108459473,-10.894865036010742,-9.353145599365234,-10.88817310333252,-10.434738159179688,-11.153335571289062,-10.696044921875,-6.968288898468018,-14.304463386535645,-14.544248580932617,-9.494333267211914,-3.5780348777770996],\"xaxis\":\"x\",\"y\":[-14.525118827819824,-3.432241678237915,-8.615690231323242,2.424086809158325,2.6887130737304688,2.823063850402832,3.6928646564483643,2.8505632877349854,2.0373244285583496,3.5792267322540283,1.9218528270721436,4.010876178741455,3.907980442047119,2.7542362213134766,2.988614082336426,3.8926498889923096,4.145975112915039,2.5523574352264404,3.7649500370025635,2.1425299644470215,2.8097426891326904,2.147800922393799,2.510843276977539,4.022692680358887,2.3044023513793945,3.5771644115448,3.2163937091827393,1.3431590795516968,1.5896129608154297,2.6170921325683594,1.4301457405090332,1.279949426651001,-0.45238450169563293,-17.336652755737305,-17.0924129486084,-18.191862106323242,-16.732288360595703,-18.1331729888916,-16.958656311035156,-16.839506149291992,-18.100414276123047,-17.75168228149414,-17.215116500854492,-17.94218635559082,-17.439685821533203,-17.650577545166016,-3.393653392791748,-17.562463760375977,-17.86134910583496,-2.6490089893341064,-2.6501729488372803,-2.648895263671875,-2.671679973602295,-2.7411348819732666,-2.744661808013916,0.27553555369377136,0.09617649763822556,0.20573775470256805,0.1542549878358841,-0.3503289818763733,-0.24559010565280914,-0.2520368993282318,-0.49765512347221375,-0.4805310070514679,-0.49523064494132996,-0.47713997960090637,-0.707785427570343,2.751682758331299,-3.190931797027588,-3.1852715015411377,-0.40612685680389404,-15.7499361038208,-15.506229400634766,-14.907361030578613,-16.133073806762695,-15.089858055114746,-14.95445442199707,-16.09795570373535,-14.874848365783691,-15.503676414489746,-15.773664474487305,-15.952803611755371,-16.14727210998535,-0.33755260705947876,3.64078950881958,2.2570643424987793,-14.963862419128418,-2.8002145290374756],\"yaxis\":\"y\",\"type\":\"scatter\"},{\"hovertemplate\":\"species=Cnidaria<br>0=%{x}<br>1=%{y}<extra></extra>\",\"legendgroup\":\"Cnidaria\",\"marker\":{\"color\":\"#19d3f3\",\"symbol\":\"circle\"},\"mode\":\"markers\",\"name\":\"Cnidaria\",\"orientation\":\"v\",\"showlegend\":true,\"x\":[-5.634954452514648,-3.0158495903015137,-4.52107572555542,-4.311194896697998,-5.275989055633545,-2.287329912185669],\"xaxis\":\"x\",\"y\":[-12.829184532165527,-12.025224685668945,-12.353671073913574,-12.248170852661133,-12.612228393554688,-10.234776496887207],\"yaxis\":\"y\",\"type\":\"scatter\"},{\"hovertemplate\":\"species=Porifera<br>0=%{x}<br>1=%{y}<extra></extra>\",\"legendgroup\":\"Porifera\",\"marker\":{\"color\":\"#FF6692\",\"symbol\":\"circle\"},\"mode\":\"markers\",\"name\":\"Porifera\",\"orientation\":\"v\",\"showlegend\":true,\"x\":[-5.29172420501709],\"xaxis\":\"x\",\"y\":[-10.60454273223877],\"yaxis\":\"y\",\"type\":\"scatter\"},{\"hovertemplate\":\"species=Placozoa<br>0=%{x}<br>1=%{y}<extra></extra>\",\"legendgroup\":\"Placozoa\",\"marker\":{\"color\":\"#B6E880\",\"symbol\":\"circle\"},\"mode\":\"markers\",\"name\":\"Placozoa\",\"orientation\":\"v\",\"showlegend\":true,\"x\":[-6.1413798332214355],\"xaxis\":\"x\",\"y\":[-9.9767427444458],\"yaxis\":\"y\",\"type\":\"scatter\"},{\"hovertemplate\":\"species=Bacteria<br>0=%{x}<br>1=%{y}<extra></extra>\",\"legendgroup\":\"Bacteria\",\"marker\":{\"color\":\"#FF97FF\",\"symbol\":\"circle\"},\"mode\":\"markers\",\"name\":\"Bacteria\",\"orientation\":\"v\",\"showlegend\":true,\"x\":[-2.893795967102051,-2.626725912094116,-5.139184474945068],\"xaxis\":\"x\",\"y\":[-10.553223609924316,-10.460740089416504,-11.064855575561523],\"yaxis\":\"y\",\"type\":\"scatter\"},{\"hovertemplate\":\"species=Nematoda<br>0=%{x}<br>1=%{y}<extra></extra>\",\"legendgroup\":\"Nematoda\",\"marker\":{\"color\":\"#FECB52\",\"symbol\":\"circle\"},\"mode\":\"markers\",\"name\":\"Nematoda\",\"orientation\":\"v\",\"showlegend\":true,\"x\":[13.038741111755371,12.799958229064941,13.245281219482422,-1.9304778575897217,-1.6472796201705933,-1.7613917589187622,-2.049264430999756,-1.7330666780471802,-2.6847221851348877,-2.392869234085083],\"xaxis\":\"x\",\"y\":[3.898235559463501,3.7720725536346436,4.014067649841309,-7.048305988311768,-6.891392707824707,-6.940133571624756,-7.086979866027832,-6.919772624969482,-4.550293922424316,-4.535333633422852],\"yaxis\":\"y\",\"type\":\"scatter\"},{\"hovertemplate\":\"species=Hemichordata<br>0=%{x}<br>1=%{y}<extra></extra>\",\"legendgroup\":\"Hemichordata\",\"marker\":{\"color\":\"#636efa\",\"symbol\":\"circle\"},\"mode\":\"markers\",\"name\":\"Hemichordata\",\"orientation\":\"v\",\"showlegend\":true,\"x\":[-7.030388832092285],\"xaxis\":\"x\",\"y\":[-3.0910189151763916],\"yaxis\":\"y\",\"type\":\"scatter\"},{\"hovertemplate\":\"species=Fungi<br>0=%{x}<br>1=%{y}<extra></extra>\",\"legendgroup\":\"Fungi\",\"marker\":{\"color\":\"#EF553B\",\"symbol\":\"circle\"},\"mode\":\"markers\",\"name\":\"Fungi\",\"orientation\":\"v\",\"showlegend\":true,\"x\":[-0.5134105086326599,-0.3779238760471344],\"xaxis\":\"x\",\"y\":[-9.00153636932373,-8.955682754516602],\"yaxis\":\"y\",\"type\":\"scatter\"},{\"hovertemplate\":\"species=Viridiplantae<br>0=%{x}<br>1=%{y}<extra></extra>\",\"legendgroup\":\"Viridiplantae\",\"marker\":{\"color\":\"#00cc96\",\"symbol\":\"circle\"},\"mode\":\"markers\",\"name\":\"Viridiplantae\",\"orientation\":\"v\",\"showlegend\":true,\"x\":[-4.164237022399902],\"xaxis\":\"x\",\"y\":[-10.68660831451416],\"yaxis\":\"y\",\"type\":\"scatter\"}],                        {\"template\":{\"data\":{\"histogram2dcontour\":[{\"type\":\"histogram2dcontour\",\"colorbar\":{\"outlinewidth\":0,\"ticks\":\"\"},\"colorscale\":[[0.0,\"#0d0887\"],[0.1111111111111111,\"#46039f\"],[0.2222222222222222,\"#7201a8\"],[0.3333333333333333,\"#9c179e\"],[0.4444444444444444,\"#bd3786\"],[0.5555555555555556,\"#d8576b\"],[0.6666666666666666,\"#ed7953\"],[0.7777777777777778,\"#fb9f3a\"],[0.8888888888888888,\"#fdca26\"],[1.0,\"#f0f921\"]]}],\"choropleth\":[{\"type\":\"choropleth\",\"colorbar\":{\"outlinewidth\":0,\"ticks\":\"\"}}],\"histogram2d\":[{\"type\":\"histogram2d\",\"colorbar\":{\"outlinewidth\":0,\"ticks\":\"\"},\"colorscale\":[[0.0,\"#0d0887\"],[0.1111111111111111,\"#46039f\"],[0.2222222222222222,\"#7201a8\"],[0.3333333333333333,\"#9c179e\"],[0.4444444444444444,\"#bd3786\"],[0.5555555555555556,\"#d8576b\"],[0.6666666666666666,\"#ed7953\"],[0.7777777777777778,\"#fb9f3a\"],[0.8888888888888888,\"#fdca26\"],[1.0,\"#f0f921\"]]}],\"heatmap\":[{\"type\":\"heatmap\",\"colorbar\":{\"outlinewidth\":0,\"ticks\":\"\"},\"colorscale\":[[0.0,\"#0d0887\"],[0.1111111111111111,\"#46039f\"],[0.2222222222222222,\"#7201a8\"],[0.3333333333333333,\"#9c179e\"],[0.4444444444444444,\"#bd3786\"],[0.5555555555555556,\"#d8576b\"],[0.6666666666666666,\"#ed7953\"],[0.7777777777777778,\"#fb9f3a\"],[0.8888888888888888,\"#fdca26\"],[1.0,\"#f0f921\"]]}],\"heatmapgl\":[{\"type\":\"heatmapgl\",\"colorbar\":{\"outlinewidth\":0,\"ticks\":\"\"},\"colorscale\":[[0.0,\"#0d0887\"],[0.1111111111111111,\"#46039f\"],[0.2222222222222222,\"#7201a8\"],[0.3333333333333333,\"#9c179e\"],[0.4444444444444444,\"#bd3786\"],[0.5555555555555556,\"#d8576b\"],[0.6666666666666666,\"#ed7953\"],[0.7777777777777778,\"#fb9f3a\"],[0.8888888888888888,\"#fdca26\"],[1.0,\"#f0f921\"]]}],\"contourcarpet\":[{\"type\":\"contourcarpet\",\"colorbar\":{\"outlinewidth\":0,\"ticks\":\"\"}}],\"contour\":[{\"type\":\"contour\",\"colorbar\":{\"outlinewidth\":0,\"ticks\":\"\"},\"colorscale\":[[0.0,\"#0d0887\"],[0.1111111111111111,\"#46039f\"],[0.2222222222222222,\"#7201a8\"],[0.3333333333333333,\"#9c179e\"],[0.4444444444444444,\"#bd3786\"],[0.5555555555555556,\"#d8576b\"],[0.6666666666666666,\"#ed7953\"],[0.7777777777777778,\"#fb9f3a\"],[0.8888888888888888,\"#fdca26\"],[1.0,\"#f0f921\"]]}],\"surface\":[{\"type\":\"surface\",\"colorbar\":{\"outlinewidth\":0,\"ticks\":\"\"},\"colorscale\":[[0.0,\"#0d0887\"],[0.1111111111111111,\"#46039f\"],[0.2222222222222222,\"#7201a8\"],[0.3333333333333333,\"#9c179e\"],[0.4444444444444444,\"#bd3786\"],[0.5555555555555556,\"#d8576b\"],[0.6666666666666666,\"#ed7953\"],[0.7777777777777778,\"#fb9f3a\"],[0.8888888888888888,\"#fdca26\"],[1.0,\"#f0f921\"]]}],\"mesh3d\":[{\"type\":\"mesh3d\",\"colorbar\":{\"outlinewidth\":0,\"ticks\":\"\"}}],\"scatter\":[{\"fillpattern\":{\"fillmode\":\"overlay\",\"size\":10,\"solidity\":0.2},\"type\":\"scatter\"}],\"parcoords\":[{\"type\":\"parcoords\",\"line\":{\"colorbar\":{\"outlinewidth\":0,\"ticks\":\"\"}}}],\"scatterpolargl\":[{\"type\":\"scatterpolargl\",\"marker\":{\"colorbar\":{\"outlinewidth\":0,\"ticks\":\"\"}}}],\"bar\":[{\"error_x\":{\"color\":\"#2a3f5f\"},\"error_y\":{\"color\":\"#2a3f5f\"},\"marker\":{\"line\":{\"color\":\"#E5ECF6\",\"width\":0.5},\"pattern\":{\"fillmode\":\"overlay\",\"size\":10,\"solidity\":0.2}},\"type\":\"bar\"}],\"scattergeo\":[{\"type\":\"scattergeo\",\"marker\":{\"colorbar\":{\"outlinewidth\":0,\"ticks\":\"\"}}}],\"scatterpolar\":[{\"type\":\"scatterpolar\",\"marker\":{\"colorbar\":{\"outlinewidth\":0,\"ticks\":\"\"}}}],\"histogram\":[{\"marker\":{\"pattern\":{\"fillmode\":\"overlay\",\"size\":10,\"solidity\":0.2}},\"type\":\"histogram\"}],\"scattergl\":[{\"type\":\"scattergl\",\"marker\":{\"colorbar\":{\"outlinewidth\":0,\"ticks\":\"\"}}}],\"scatter3d\":[{\"type\":\"scatter3d\",\"line\":{\"colorbar\":{\"outlinewidth\":0,\"ticks\":\"\"}},\"marker\":{\"colorbar\":{\"outlinewidth\":0,\"ticks\":\"\"}}}],\"scattermapbox\":[{\"type\":\"scattermapbox\",\"marker\":{\"colorbar\":{\"outlinewidth\":0,\"ticks\":\"\"}}}],\"scatterternary\":[{\"type\":\"scatterternary\",\"marker\":{\"colorbar\":{\"outlinewidth\":0,\"ticks\":\"\"}}}],\"scattercarpet\":[{\"type\":\"scattercarpet\",\"marker\":{\"colorbar\":{\"outlinewidth\":0,\"ticks\":\"\"}}}],\"carpet\":[{\"aaxis\":{\"endlinecolor\":\"#2a3f5f\",\"gridcolor\":\"white\",\"linecolor\":\"white\",\"minorgridcolor\":\"white\",\"startlinecolor\":\"#2a3f5f\"},\"baxis\":{\"endlinecolor\":\"#2a3f5f\",\"gridcolor\":\"white\",\"linecolor\":\"white\",\"minorgridcolor\":\"white\",\"startlinecolor\":\"#2a3f5f\"},\"type\":\"carpet\"}],\"table\":[{\"cells\":{\"fill\":{\"color\":\"#EBF0F8\"},\"line\":{\"color\":\"white\"}},\"header\":{\"fill\":{\"color\":\"#C8D4E3\"},\"line\":{\"color\":\"white\"}},\"type\":\"table\"}],\"barpolar\":[{\"marker\":{\"line\":{\"color\":\"#E5ECF6\",\"width\":0.5},\"pattern\":{\"fillmode\":\"overlay\",\"size\":10,\"solidity\":0.2}},\"type\":\"barpolar\"}],\"pie\":[{\"automargin\":true,\"type\":\"pie\"}]},\"layout\":{\"autotypenumbers\":\"strict\",\"colorway\":[\"#636efa\",\"#EF553B\",\"#00cc96\",\"#ab63fa\",\"#FFA15A\",\"#19d3f3\",\"#FF6692\",\"#B6E880\",\"#FF97FF\",\"#FECB52\"],\"font\":{\"color\":\"#2a3f5f\"},\"hovermode\":\"closest\",\"hoverlabel\":{\"align\":\"left\"},\"paper_bgcolor\":\"white\",\"plot_bgcolor\":\"#E5ECF6\",\"polar\":{\"bgcolor\":\"#E5ECF6\",\"angularaxis\":{\"gridcolor\":\"white\",\"linecolor\":\"white\",\"ticks\":\"\"},\"radialaxis\":{\"gridcolor\":\"white\",\"linecolor\":\"white\",\"ticks\":\"\"}},\"ternary\":{\"bgcolor\":\"#E5ECF6\",\"aaxis\":{\"gridcolor\":\"white\",\"linecolor\":\"white\",\"ticks\":\"\"},\"baxis\":{\"gridcolor\":\"white\",\"linecolor\":\"white\",\"ticks\":\"\"},\"caxis\":{\"gridcolor\":\"white\",\"linecolor\":\"white\",\"ticks\":\"\"}},\"coloraxis\":{\"colorbar\":{\"outlinewidth\":0,\"ticks\":\"\"}},\"colorscale\":{\"sequential\":[[0.0,\"#0d0887\"],[0.1111111111111111,\"#46039f\"],[0.2222222222222222,\"#7201a8\"],[0.3333333333333333,\"#9c179e\"],[0.4444444444444444,\"#bd3786\"],[0.5555555555555556,\"#d8576b\"],[0.6666666666666666,\"#ed7953\"],[0.7777777777777778,\"#fb9f3a\"],[0.8888888888888888,\"#fdca26\"],[1.0,\"#f0f921\"]],\"sequentialminus\":[[0.0,\"#0d0887\"],[0.1111111111111111,\"#46039f\"],[0.2222222222222222,\"#7201a8\"],[0.3333333333333333,\"#9c179e\"],[0.4444444444444444,\"#bd3786\"],[0.5555555555555556,\"#d8576b\"],[0.6666666666666666,\"#ed7953\"],[0.7777777777777778,\"#fb9f3a\"],[0.8888888888888888,\"#fdca26\"],[1.0,\"#f0f921\"]],\"diverging\":[[0,\"#8e0152\"],[0.1,\"#c51b7d\"],[0.2,\"#de77ae\"],[0.3,\"#f1b6da\"],[0.4,\"#fde0ef\"],[0.5,\"#f7f7f7\"],[0.6,\"#e6f5d0\"],[0.7,\"#b8e186\"],[0.8,\"#7fbc41\"],[0.9,\"#4d9221\"],[1,\"#276419\"]]},\"xaxis\":{\"gridcolor\":\"white\",\"linecolor\":\"white\",\"ticks\":\"\",\"title\":{\"standoff\":15},\"zerolinecolor\":\"white\",\"automargin\":true,\"zerolinewidth\":2},\"yaxis\":{\"gridcolor\":\"white\",\"linecolor\":\"white\",\"ticks\":\"\",\"title\":{\"standoff\":15},\"zerolinecolor\":\"white\",\"automargin\":true,\"zerolinewidth\":2},\"scene\":{\"xaxis\":{\"backgroundcolor\":\"#E5ECF6\",\"gridcolor\":\"white\",\"linecolor\":\"white\",\"showbackground\":true,\"ticks\":\"\",\"zerolinecolor\":\"white\",\"gridwidth\":2},\"yaxis\":{\"backgroundcolor\":\"#E5ECF6\",\"gridcolor\":\"white\",\"linecolor\":\"white\",\"showbackground\":true,\"ticks\":\"\",\"zerolinecolor\":\"white\",\"gridwidth\":2},\"zaxis\":{\"backgroundcolor\":\"#E5ECF6\",\"gridcolor\":\"white\",\"linecolor\":\"white\",\"showbackground\":true,\"ticks\":\"\",\"zerolinecolor\":\"white\",\"gridwidth\":2}},\"shapedefaults\":{\"line\":{\"color\":\"#2a3f5f\"}},\"annotationdefaults\":{\"arrowcolor\":\"#2a3f5f\",\"arrowhead\":0,\"arrowwidth\":1},\"geo\":{\"bgcolor\":\"white\",\"landcolor\":\"#E5ECF6\",\"subunitcolor\":\"white\",\"showland\":true,\"showlakes\":true,\"lakecolor\":\"white\"},\"title\":{\"x\":0.05},\"mapbox\":{\"style\":\"light\"}}},\"xaxis\":{\"anchor\":\"y\",\"domain\":[0.0,1.0],\"title\":{\"text\":\"0\"},\"range\":[-20,20],\"dtick\":5},\"yaxis\":{\"anchor\":\"x\",\"domain\":[0.0,1.0],\"title\":{\"text\":\"1\"},\"range\":[-20,20]},\"legend\":{\"title\":{\"text\":\"species\"},\"tracegroupgap\":0},\"margin\":{\"t\":60},\"width\":1000,\"height\":900},                        {\"responsive\": true}                    ).then(function(){\n",
       "                            \n",
       "var gd = document.getElementById('0bfbcbfa-cc5e-4ec2-ba98-ce244351601f');\n",
       "var x = new MutationObserver(function (mutations, observer) {{\n",
       "        var display = window.getComputedStyle(gd).display;\n",
       "        if (!display || display === 'none') {{\n",
       "            console.log([gd, 'removed!']);\n",
       "            Plotly.purge(gd);\n",
       "            observer.disconnect();\n",
       "        }}\n",
       "}});\n",
       "\n",
       "// Listen for the removal of the full notebook cells\n",
       "var notebookContainer = gd.closest('#notebook-container');\n",
       "if (notebookContainer) {{\n",
       "    x.observe(notebookContainer, {childList: true});\n",
       "}}\n",
       "\n",
       "// Listen for the clearing of the current output cell\n",
       "var outputEl = gd.closest('.output');\n",
       "if (outputEl) {{\n",
       "    x.observe(outputEl, {childList: true});\n",
       "}}\n",
       "\n",
       "                        })                };                });            </script>        </div>"
      ]
     },
     "metadata": {},
     "output_type": "display_data"
    }
   ],
   "source": [
    "# component = 2 car on veut 2 dimensions\n",
    "tsne_2d = TSNE(n_components=2, random_state=0)\n",
    "proj_tsne_phyl_2d = tsne_2d.fit_transform(phyl)\n",
    "\n",
    "tsne_phyl_2d = px.scatter(\n",
    "    proj_tsne_phyl_2d, x=0, y=1,\n",
    "    color=colour.Color_species, labels={'color': 'species'}\n",
    ")\n",
    "tsne_phyl_2d.update_layout(xaxis_range=[-20, 20], yaxis_range=[-20, 20])\n",
    "tsne_phyl_2d.update_layout(width=1000, height=900)\n",
    "tsne_phyl_2d.update_xaxes(dtick=5)\n",
    "tsne_phyl_2d.show()"
   ]
  },
  {
   "cell_type": "code",
   "execution_count": 8,
   "id": "c1127cb6-c473-4ec6-ad24-331667ec234c",
   "metadata": {},
   "outputs": [
    {
     "data": {
      "application/vnd.plotly.v1+json": {
       "config": {
        "plotlyServerURL": "https://plot.ly"
       },
       "data": [
        {
         "hovertemplate": "species=Echinodermata<br>0=%{x}<br>1=%{y}<br>2=%{z}<extra></extra>",
         "legendgroup": "Echinodermata",
         "marker": {
          "color": "#636efa",
          "size": 8,
          "symbol": "circle"
         },
         "mode": "markers",
         "name": "Echinodermata",
         "scene": "scene",
         "showlegend": true,
         "type": "scatter3d",
         "x": [
          19.550983428955078,
          -2.8738081455230713,
          46.72747039794922,
          27.628173828125,
          47.89548110961914,
          -43.104949951171875,
          -50.77176284790039,
          135.7803497314453,
          28.735353469848633,
          -63.5841064453125
         ],
         "y": [
          8.31236457824707,
          24.971729278564453,
          -18.642282485961914,
          -12.338838577270508,
          -6.892178535461426,
          -32.84587860107422,
          -21.938383102416992,
          54.31452178955078,
          -18.640342712402344,
          -48.0361328125
         ],
         "z": [
          55.44425582885742,
          -17.725950241088867,
          39.765716552734375,
          51.394683837890625,
          58.73202896118164,
          -64.78450775146484,
          -43.02083206176758,
          25.960966110229492,
          -33.032588958740234,
          -56.35420608520508
         ]
        },
        {
         "hovertemplate": "species=Arthropoda<br>0=%{x}<br>1=%{y}<br>2=%{z}<extra></extra>",
         "legendgroup": "Arthropoda",
         "marker": {
          "color": "#EF553B",
          "size": 8,
          "symbol": "circle"
         },
         "mode": "markers",
         "name": "Arthropoda",
         "scene": "scene",
         "showlegend": true,
         "type": "scatter3d",
         "x": [
          58.26402282714844,
          62.04618453979492,
          22.626379013061523,
          36.17905044555664,
          47.86189651489258,
          5.384304046630859,
          65.29521942138672,
          82.37435913085938,
          -10.358962059020996,
          -17.9217472076416,
          0.35414719581604004,
          3.3517134189605713,
          -12.317937850952148,
          6.3820600509643555,
          15.603108406066895,
          1.8534423112869263,
          57.11621856689453,
          -11.670939445495605,
          -25.43861198425293,
          -6.750023365020752,
          41.926971435546875,
          -52.47219467163086,
          27.52747917175293,
          30.48629379272461,
          74.66678619384766,
          40.170555114746094,
          -1.3923721313476562,
          52.924442291259766,
          46.70157241821289,
          14.301992416381836,
          22.873628616333008,
          19.07455825805664,
          27.576446533203125,
          47.53478240966797,
          38.79913330078125,
          55.768863677978516,
          -0.1433449387550354,
          76.68354797363281,
          12.426353454589844,
          -82.21711730957031,
          -5.1546196937561035,
          70.47293090820312,
          57.31905746459961,
          30.410053253173828,
          98.79058074951172,
          118.49417114257812,
          129.0641326904297,
          128.40184020996094,
          20.419605255126953,
          86.67084503173828,
          100.82865905761719,
          102.82141876220703,
          67.07449340820312,
          -22.367034912109375,
          75.9537353515625,
          58.5665397644043,
          139.26254272460938,
          140.78529357910156,
          139.8643035888672,
          116.35206604003906,
          113.53157806396484,
          117.50146484375,
          86.50849151611328,
          78.20692443847656,
          0.6852213144302368,
          5.8506975173950195,
          119.41886138916016,
          94.99457550048828,
          -13.509560585021973,
          9.943124771118164,
          17.623390197753906,
          -5.174483299255371,
          -35.31511306762695,
          38.57345962524414,
          41.14506912231445,
          29.319849014282227,
          45.7445182800293,
          -43.994327545166016,
          22.889053344726562,
          27.633197784423828,
          44.834617614746094,
          -33.844058990478516,
          82.0643539428711,
          39.26383590698242
         ],
         "y": [
          67.46241760253906,
          94.6235580444336,
          106.3133316040039,
          127.28761291503906,
          108.26715850830078,
          71.8316879272461,
          77.68881225585938,
          78.3677749633789,
          119.1109848022461,
          87.57781982421875,
          40.270652770996094,
          119.30328369140625,
          150.7639923095703,
          -66.01200866699219,
          126.44202423095703,
          137.61843872070312,
          143.74954223632812,
          102.89282989501953,
          136.36276245117188,
          107.88732147216797,
          55.32073974609375,
          103.41432189941406,
          27.42115592956543,
          44.751678466796875,
          63.54569625854492,
          107.9525146484375,
          -31.03611946105957,
          -55.10531234741211,
          12.573853492736816,
          -18.521953582763672,
          -19.687591552734375,
          9.016621589660645,
          6.385380268096924,
          -12.907967567443848,
          -10.58596134185791,
          -79.70117950439453,
          -0.05370224639773369,
          -68.39971923828125,
          -51.890281677246094,
          -79.23445892333984,
          59.975460052490234,
          -59.623878479003906,
          -60.76264572143555,
          -32.371788024902344,
          8.41646957397461,
          11.712240219116211,
          -16.811019897460938,
          -30.080305099487305,
          76.42530822753906,
          -8.60255241394043,
          -25.102903366088867,
          -10.816506385803223,
          -31.87381935119629,
          126.90132904052734,
          53.67753219604492,
          -84.24606323242188,
          -1.06424081325531,
          -23.30145263671875,
          4.202053546905518,
          -7.743801593780518,
          -33.877479553222656,
          -6.198098182678223,
          -28.481964111328125,
          -9.60019588470459,
          -17.7933292388916,
          95.22574615478516,
          18.510658264160156,
          13.904804229736328,
          38.774208068847656,
          16.62672996520996,
          38.919986724853516,
          35.70648956298828,
          24.202852249145508,
          84.19695281982422,
          78.82740020751953,
          3.835597038269043,
          15.698175430297852,
          -43.69849395751953,
          29.340316772460938,
          55.71827697753906,
          -65.74675750732422,
          -65.70175170898438,
          -30.830001831054688,
          -35.76832580566406
         ],
         "z": [
          50.27604293823242,
          -30.341279983520508,
          -3.464668035507202,
          -1.3454580307006836,
          -11.951022148132324,
          4.264812469482422,
          24.31475830078125,
          45.0515022277832,
          24.1195125579834,
          8.352375030517578,
          13.102725982666016,
          -45.63471603393555,
          -22.515085220336914,
          106.93179321289062,
          -27.90546989440918,
          -4.095602512359619,
          15.459031105041504,
          -53.33783721923828,
          -3.163618803024292,
          -9.554916381835938,
          -33.20313262939453,
          -10.175546646118164,
          -26.00179100036621,
          17.848352432250977,
          -32.020633697509766,
          16.018705368041992,
          -75.50511932373047,
          29.999597549438477,
          100.48352813720703,
          90.40889739990234,
          115.30204010009766,
          92.49970245361328,
          117.67110443115234,
          114.35919189453125,
          91.22136688232422,
          21.476261138916016,
          107.7816162109375,
          37.14948654174805,
          -81.6021499633789,
          58.289344787597656,
          -100.22442626953125,
          86.45040130615234,
          65.73590087890625,
          -79.11962890625,
          11.900686264038086,
          57.50452423095703,
          59.74332809448242,
          12.79271411895752,
          21.699270248413086,
          29.71495246887207,
          14.498910903930664,
          52.66486358642578,
          71.99925994873047,
          -27.6328182220459,
          36.4941291809082,
          77.47173309326172,
          15.736089706420898,
          35.7135124206543,
          42.689273834228516,
          30.335098266601562,
          39.116695404052734,
          0.6637871265411377,
          82.65479278564453,
          71.02571105957031,
          23.729473114013672,
          16.25523567199707,
          27.331838607788086,
          42.16395950317383,
          -43.99277877807617,
          28.686553955078125,
          42.65483856201172,
          41.445247650146484,
          -49.068363189697266,
          3.32462477684021,
          -21.2558536529541,
          24.254165649414062,
          38.20323944091797,
          -117.2627944946289,
          -0.8429644107818604,
          -7.777320384979248,
          87.44673919677734,
          -119.4260025024414,
          48.33356857299805,
          65.35564422607422
         ]
        },
        {
         "hovertemplate": "species=Mollusca<br>0=%{x}<br>1=%{y}<br>2=%{z}<extra></extra>",
         "legendgroup": "Mollusca",
         "marker": {
          "color": "#00cc96",
          "size": 8,
          "symbol": "circle"
         },
         "mode": "markers",
         "name": "Mollusca",
         "scene": "scene",
         "showlegend": true,
         "type": "scatter3d",
         "x": [
          69.5677719116211,
          41.39292526245117,
          0.8639047145843506,
          17.282522201538086,
          24.05949592590332,
          -33.41844940185547,
          -3.489255428314209,
          14.931904792785645,
          0.6753513216972351,
          100.64070892333984,
          34.39752197265625,
          18.949419021606445,
          15.297564506530762,
          40.20660400390625,
          12.375133514404297,
          -13.110610008239746,
          12.399657249450684,
          -7.765386581420898,
          -14.858389854431152,
          -46.62869644165039,
          -59.67863082885742,
          -51.28302764892578,
          36.64373779296875,
          13.532388687133789,
          -0.9140104651451111,
          16.892499923706055,
          -9.841085433959961,
          -54.349151611328125,
          -14.058272361755371,
          19.362958908081055,
          -1.7914584875106812,
          78.38452911376953,
          73.74481964111328,
          74.14024353027344,
          93.27980041503906,
          95.66730499267578
         ],
         "y": [
          79.98912048339844,
          82.50804901123047,
          -32.9904670715332,
          7.888024806976318,
          -7.877684593200684,
          -0.20292505621910095,
          -5.907600402832031,
          103.66802978515625,
          98.05955505371094,
          56.302425384521484,
          99.5520248413086,
          118.32935333251953,
          83.82837677001953,
          -3.3015589714050293,
          14.188735961914062,
          74.1241455078125,
          84.8730239868164,
          76.73966979980469,
          98.53419494628906,
          -33.960365295410156,
          -51.35392761230469,
          -59.595638275146484,
          18.554763793945312,
          77.78375244140625,
          -30.44417953491211,
          -17.541954040527344,
          -37.3487434387207,
          -60.9342155456543,
          148.5868682861328,
          76.65250396728516,
          82.9560546875,
          -54.06205368041992,
          -71.09808349609375,
          -47.33372497558594,
          -39.34006118774414,
          -62.441261291503906
         ],
         "z": [
          -6.290360927581787,
          -47.380672454833984,
          -100.63064575195312,
          -58.6763916015625,
          -86.10533142089844,
          -127.98665618896484,
          -76.71034240722656,
          60.59613037109375,
          88.09941101074219,
          -2.951900005340576,
          80.62190246582031,
          80.32624816894531,
          -42.68681335449219,
          -66.55402374267578,
          -83.46111297607422,
          72.25305938720703,
          -18.524553298950195,
          -24.44872283935547,
          66.8363265991211,
          -8.945718765258789,
          -20.982200622558594,
          0.13985082507133484,
          68.7839126586914,
          84.44244384765625,
          -23.464962005615234,
          -62.13237762451172,
          -0.31295961141586304,
          79.53864288330078,
          49.74711990356445,
          58.177215576171875,
          49.220027923583984,
          -18.085525512695312,
          -34.555789947509766,
          -41.915016174316406,
          -30.36167335510254,
          -35.457332611083984
         ]
        },
        {
         "hovertemplate": "species=Annelida<br>0=%{x}<br>1=%{y}<br>2=%{z}<extra></extra>",
         "legendgroup": "Annelida",
         "marker": {
          "color": "#ab63fa",
          "size": 8,
          "symbol": "circle"
         },
         "mode": "markers",
         "name": "Annelida",
         "scene": "scene",
         "showlegend": true,
         "type": "scatter3d",
         "x": [
          9.531103134155273,
          0.2608893811702728,
          17.081785202026367,
          -24.08479881286621,
          17.716527938842773,
          -19.977304458618164,
          27.464609146118164,
          -36.34244155883789,
          -21.057313919067383
         ],
         "y": [
          -10.090770721435547,
          -56.36507034301758,
          -33.01665115356445,
          -63.5123405456543,
          55.28293991088867,
          -52.14936065673828,
          -37.1209831237793,
          -80.39276885986328,
          -43.10702133178711
         ],
         "z": [
          -10.771700859069824,
          -15.720498085021973,
          -8.277770042419434,
          -7.857794284820557,
          -35.91756820678711,
          -98.36251068115234,
          44.67442321777344,
          70.2308120727539,
          -21.614500045776367
         ]
        },
        {
         "hovertemplate": "species=Chordata<br>0=%{x}<br>1=%{y}<br>2=%{z}<extra></extra>",
         "legendgroup": "Chordata",
         "marker": {
          "color": "#FFA15A",
          "size": 8,
          "symbol": "circle"
         },
         "mode": "markers",
         "name": "Chordata",
         "scene": "scene",
         "showlegend": true,
         "type": "scatter3d",
         "x": [
          27.12456512451172,
          -28.640684127807617,
          -4.063662528991699,
          -125.67876434326172,
          68.76801300048828,
          -100.31012725830078,
          -116.61406707763672,
          -109.94759368896484,
          -88.95125579833984,
          -161.9104461669922,
          51.10253143310547,
          -134.95094299316406,
          -122.08580017089844,
          -96.28986358642578,
          -100.45836639404297,
          -130.54075622558594,
          -139.63059997558594,
          -118.03975677490234,
          -132.44219970703125,
          -32.009483337402344,
          -134.7002716064453,
          -108.07799530029297,
          -126.3651123046875,
          -150.75277709960938,
          -139.6932373046875,
          -149.1925811767578,
          -110.50170135498047,
          82.05623626708984,
          -152.85397338867188,
          -118.66687774658203,
          -102.38188934326172,
          -101.64163208007812,
          -65.57952880859375,
          41.25629425048828,
          18.03677749633789,
          24.417659759521484,
          1.6496368646621704,
          -19.724781036376953,
          -20.59906005859375,
          -59.603092193603516,
          17.294137954711914,
          37.88954162597656,
          -35.065460205078125,
          -10.431952476501465,
          -1.0042290687561035,
          2.3122544288635254,
          -37.62238311767578,
          3.9916775226593018,
          19.88727569580078,
          -38.300418853759766,
          -22.55651092529297,
          -15.506061553955078,
          -17.9074649810791,
          -43.12607955932617,
          -28.07135772705078,
          -74.17194366455078,
          -59.79250717163086,
          -73.81525421142578,
          -83.03144836425781,
          -70.55438995361328,
          -60.18901062011719,
          -66.80572509765625,
          -50.77016067504883,
          -76.73023223876953,
          25.646657943725586,
          -63.51152038574219,
          -42.659332275390625,
          -102.6920394897461,
          -20.621360778808594,
          -33.67564392089844,
          -58.44060516357422,
          -22.460081100463867,
          -7.20194673538208,
          12.764156341552734,
          -5.95585823059082,
          34.643272399902344,
          -6.776120662689209,
          -30.16621971130371,
          9.74634075164795,
          15.786172866821289,
          2.909433364868164,
          -14.99644660949707,
          -31.4195556640625,
          -79.7435302734375,
          -139.93057250976562,
          -133.27635192871094,
          18.081090927124023,
          67.30529022216797
         ],
         "y": [
          -84.40252685546875,
          30.799335479736328,
          4.233653545379639,
          10.15295124053955,
          17.25227928161621,
          0.8680810332298279,
          -4.8382134437561035,
          25.43303108215332,
          -3.033304214477539,
          -3.419398546218872,
          35.807125091552734,
          41.138771057128906,
          28.51743507385254,
          -7.986888408660889,
          19.708160400390625,
          -42.05441665649414,
          -16.510265350341797,
          -3.935490608215332,
          -16.671707153320312,
          -108.17301177978516,
          -31.940027236938477,
          18.391624450683594,
          -26.0972843170166,
          22.56507110595703,
          -2.3368139266967773,
          -5.198301792144775,
          -14.355586051940918,
          44.24628829956055,
          -37.44628143310547,
          42.47099685668945,
          -36.05858612060547,
          -29.1841983795166,
          26.04666519165039,
          -24.21661376953125,
          -54.51237869262695,
          -27.29657554626465,
          0.8954323530197144,
          -27.65164566040039,
          -16.09879493713379,
          -100.49803924560547,
          -56.988685607910156,
          -41.826297760009766,
          -56.78675079345703,
          -56.643959045410156,
          -36.55846405029297,
          -8.750988960266113,
          12.5261869430542,
          -36.00611114501953,
          -15.534146308898926,
          -24.0914306640625,
          -30.72747802734375,
          -15.121273040771484,
          -39.63264846801758,
          -17.739004135131836,
          -2.46305513381958,
          18.486785888671875,
          44.320030212402344,
          36.3426399230957,
          44.68330764770508,
          45.03636169433594,
          22.319290161132812,
          -42.39325714111328,
          47.167701721191406,
          46.37373733520508,
          -106.18212890625,
          26.422954559326172,
          40.362789154052734,
          -30.369508743286133,
          6.763189792633057,
          19.35370635986328,
          69.8186264038086,
          -109.97779846191406,
          -129.56515502929688,
          -93.76850891113281,
          -143.84072875976562,
          69.6026611328125,
          -102.97295379638672,
          -135.99925231933594,
          -100.93995666503906,
          -134.5233612060547,
          -112.89128112792969,
          -122.99932098388672,
          -124.9923324584961,
          -62.664669036865234,
          9.61691665649414,
          24.445911407470703,
          -115.43341064453125,
          -4.726425647735596
         ],
         "z": [
          -47.40078353881836,
          -4.331230163574219,
          -26.347639083862305,
          13.536304473876953,
          -111.46165466308594,
          -28.76993751525879,
          -6.649869918823242,
          -7.195183753967285,
          39.38824462890625,
          1.7055357694625854,
          -89.40454864501953,
          -12.45803451538086,
          -34.37139892578125,
          12.23398494720459,
          19.242408752441406,
          -3.8757035732269287,
          -0.9869250655174255,
          35.296566009521484,
          -28.628725051879883,
          -87.49442291259766,
          51.05669403076172,
          50.135040283203125,
          23.09869384765625,
          9.352787971496582,
          58.872928619384766,
          29.609912872314453,
          62.7794189453125,
          -75.88223266601562,
          25.886253356933594,
          14.462776184082031,
          7.573882579803467,
          -19.178346633911133,
          11.875165939331055,
          -110.27751159667969,
          -113.87307739257812,
          -149.7534637451172,
          -108.11943817138672,
          -137.69424438476562,
          -105.12960052490234,
          13.994380950927734,
          -144.03526306152344,
          -129.93385314941406,
          111.10107421875,
          -139.24609375,
          -158.98757934570312,
          -143.95533752441406,
          -10.9122953414917,
          -129.7103271484375,
          -124.12169647216797,
          59.36197280883789,
          41.384674072265625,
          60.46044158935547,
          64.10177612304688,
          35.230262756347656,
          42.1403923034668,
          -14.623794555664062,
          -9.333864212036133,
          -29.990327835083008,
          -9.994293212890625,
          58.942813873291016,
          63.828941345214844,
          32.14910888671875,
          25.450733184814453,
          21.183208465576172,
          39.18354797363281,
          35.85821533203125,
          50.47539138793945,
          37.56645202636719,
          8.250755310058594,
          19.174137115478516,
          52.63793182373047,
          -8.710246086120605,
          -23.219797134399414,
          -27.42255401611328,
          0.15743011236190796,
          -95.81549835205078,
          -39.5924072265625,
          -5.178445816040039,
          -57.3063850402832,
          -11.206753730773926,
          -4.257225513458252,
          13.588971138000488,
          -29.39618492126465,
          21.624422073364258,
          -15.696090698242188,
          37.06884002685547,
          -38.58684539794922,
          -27.460723876953125
         ]
        },
        {
         "hovertemplate": "species=Cnidaria<br>0=%{x}<br>1=%{y}<br>2=%{z}<extra></extra>",
         "legendgroup": "Cnidaria",
         "marker": {
          "color": "#19d3f3",
          "size": 8,
          "symbol": "circle"
         },
         "mode": "markers",
         "name": "Cnidaria",
         "scene": "scene",
         "showlegend": true,
         "type": "scatter3d",
         "x": [
          31.190141677856445,
          -38.78457260131836,
          -53.88068771362305,
          -16.896310806274414,
          6.764723300933838,
          -46.3304443359375
         ],
         "y": [
          -47.35258102416992,
          -73.58245086669922,
          -8.351527214050293,
          -58.6115608215332,
          -45.349510192871094,
          -81.75051879882812
         ],
         "z": [
          -47.46437072753906,
          -66.62014770507812,
          -73.75525665283203,
          -58.806888580322266,
          -48.47163772583008,
          -35.111724853515625
         ]
        },
        {
         "hovertemplate": "species=Porifera<br>0=%{x}<br>1=%{y}<br>2=%{z}<extra></extra>",
         "legendgroup": "Porifera",
         "marker": {
          "color": "#FF6692",
          "size": 8,
          "symbol": "circle"
         },
         "mode": "markers",
         "name": "Porifera",
         "scene": "scene",
         "showlegend": true,
         "type": "scatter3d",
         "x": [
          -50.044769287109375
         ],
         "y": [
          -9.688960075378418
         ],
         "z": [
          88.39203643798828
         ]
        },
        {
         "hovertemplate": "species=Placozoa<br>0=%{x}<br>1=%{y}<br>2=%{z}<extra></extra>",
         "legendgroup": "Placozoa",
         "marker": {
          "color": "#B6E880",
          "size": 8,
          "symbol": "circle"
         },
         "mode": "markers",
         "name": "Placozoa",
         "scene": "scene",
         "showlegend": true,
         "type": "scatter3d",
         "x": [
          -20.210651397705078
         ],
         "y": [
          -15.982359886169434
         ],
         "z": [
          -17.162443161010742
         ]
        },
        {
         "hovertemplate": "species=Bacteria<br>0=%{x}<br>1=%{y}<br>2=%{z}<extra></extra>",
         "legendgroup": "Bacteria",
         "marker": {
          "color": "#FF97FF",
          "size": 8,
          "symbol": "circle"
         },
         "mode": "markers",
         "name": "Bacteria",
         "scene": "scene",
         "showlegend": true,
         "type": "scatter3d",
         "x": [
          -60.3293342590332,
          -66.54183197021484,
          -23.269258499145508
         ],
         "y": [
          128.18443298339844,
          -75.13317108154297,
          -22.54401397705078
         ],
         "z": [
          31.676664352416992,
          -46.673519134521484,
          -47.86864471435547
         ]
        },
        {
         "hovertemplate": "species=Nematoda<br>0=%{x}<br>1=%{y}<br>2=%{z}<extra></extra>",
         "legendgroup": "Nematoda",
         "marker": {
          "color": "#FECB52",
          "size": 8,
          "symbol": "circle"
         },
         "mode": "markers",
         "name": "Nematoda",
         "scene": "scene",
         "showlegend": true,
         "type": "scatter3d",
         "x": [
          57.305076599121094,
          53.32735824584961,
          60.45554733276367,
          -20.922391891479492,
          -5.5834221839904785,
          4.282813549041748,
          -58.75120162963867,
          -45.10499572753906,
          45.889156341552734,
          13.300185203552246
         ],
         "y": [
          33.92290496826172,
          51.72734451293945,
          28.429424285888672,
          -78.53316497802734,
          -60.43727111816406,
          -77.35897064208984,
          75.70275115966797,
          63.666778564453125,
          -29.08662223815918,
          -69.69263458251953
         ],
         "z": [
          -12.945989608764648,
          0.4992605745792389,
          8.811784744262695,
          22.00175666809082,
          29.998435974121094,
          16.55657958984375,
          -28.992565155029297,
          -47.02204895019531,
          6.526601314544678,
          53.00468444824219
         ]
        },
        {
         "hovertemplate": "species=Hemichordata<br>0=%{x}<br>1=%{y}<br>2=%{z}<extra></extra>",
         "legendgroup": "Hemichordata",
         "marker": {
          "color": "#636efa",
          "size": 8,
          "symbol": "circle"
         },
         "mode": "markers",
         "name": "Hemichordata",
         "scene": "scene",
         "showlegend": true,
         "type": "scatter3d",
         "x": [
          -43.75354766845703
         ],
         "y": [
          -0.9482579827308655
         ],
         "z": [
          10.538887023925781
         ]
        },
        {
         "hovertemplate": "species=Fungi<br>0=%{x}<br>1=%{y}<br>2=%{z}<extra></extra>",
         "legendgroup": "Fungi",
         "marker": {
          "color": "#EF553B",
          "size": 8,
          "symbol": "circle"
         },
         "mode": "markers",
         "name": "Fungi",
         "scene": "scene",
         "showlegend": true,
         "type": "scatter3d",
         "x": [
          -64.12853240966797,
          77.65129852294922
         ],
         "y": [
          85.16221618652344,
          -58.062744140625
         ],
         "z": [
          -69.27777099609375,
          -82.65741729736328
         ]
        },
        {
         "hovertemplate": "species=Viridiplantae<br>0=%{x}<br>1=%{y}<br>2=%{z}<extra></extra>",
         "legendgroup": "Viridiplantae",
         "marker": {
          "color": "#00cc96",
          "size": 8,
          "symbol": "circle"
         },
         "mode": "markers",
         "name": "Viridiplantae",
         "scene": "scene",
         "showlegend": true,
         "type": "scatter3d",
         "x": [
          -39.33122253417969
         ],
         "y": [
          -48.72309112548828
         ],
         "z": [
          -43.31235885620117
         ]
        }
       ],
       "layout": {
        "height": 900,
        "legend": {
         "title": {
          "text": "species"
         },
         "tracegroupgap": 0
        },
        "margin": {
         "t": 60
        },
        "scene": {
         "aspectmode": "auto",
         "aspectratio": {
          "x": 1.0397833756217354,
          "y": 1.0119900980586134,
          "z": 0.9503440661367196
         },
         "camera": {
          "projection": {
           "type": "perspective"
          }
         },
         "domain": {
          "x": [
           0,
           1
          ],
          "y": [
           0,
           1
          ]
         },
         "xaxis": {
          "title": {
           "text": "0"
          },
          "type": "linear"
         },
         "yaxis": {
          "title": {
           "text": "1"
          },
          "type": "linear"
         },
         "zaxis": {
          "title": {
           "text": "2"
          },
          "type": "linear"
         }
        },
        "template": {
         "data": {
          "bar": [
           {
            "error_x": {
             "color": "#2a3f5f"
            },
            "error_y": {
             "color": "#2a3f5f"
            },
            "marker": {
             "line": {
              "color": "#E5ECF6",
              "width": 0.5
             },
             "pattern": {
              "fillmode": "overlay",
              "size": 10,
              "solidity": 0.2
             }
            },
            "type": "bar"
           }
          ],
          "barpolar": [
           {
            "marker": {
             "line": {
              "color": "#E5ECF6",
              "width": 0.5
             },
             "pattern": {
              "fillmode": "overlay",
              "size": 10,
              "solidity": 0.2
             }
            },
            "type": "barpolar"
           }
          ],
          "carpet": [
           {
            "aaxis": {
             "endlinecolor": "#2a3f5f",
             "gridcolor": "white",
             "linecolor": "white",
             "minorgridcolor": "white",
             "startlinecolor": "#2a3f5f"
            },
            "baxis": {
             "endlinecolor": "#2a3f5f",
             "gridcolor": "white",
             "linecolor": "white",
             "minorgridcolor": "white",
             "startlinecolor": "#2a3f5f"
            },
            "type": "carpet"
           }
          ],
          "choropleth": [
           {
            "colorbar": {
             "outlinewidth": 0,
             "ticks": ""
            },
            "type": "choropleth"
           }
          ],
          "contour": [
           {
            "colorbar": {
             "outlinewidth": 0,
             "ticks": ""
            },
            "colorscale": [
             [
              0,
              "#0d0887"
             ],
             [
              0.1111111111111111,
              "#46039f"
             ],
             [
              0.2222222222222222,
              "#7201a8"
             ],
             [
              0.3333333333333333,
              "#9c179e"
             ],
             [
              0.4444444444444444,
              "#bd3786"
             ],
             [
              0.5555555555555556,
              "#d8576b"
             ],
             [
              0.6666666666666666,
              "#ed7953"
             ],
             [
              0.7777777777777778,
              "#fb9f3a"
             ],
             [
              0.8888888888888888,
              "#fdca26"
             ],
             [
              1,
              "#f0f921"
             ]
            ],
            "type": "contour"
           }
          ],
          "contourcarpet": [
           {
            "colorbar": {
             "outlinewidth": 0,
             "ticks": ""
            },
            "type": "contourcarpet"
           }
          ],
          "heatmap": [
           {
            "colorbar": {
             "outlinewidth": 0,
             "ticks": ""
            },
            "colorscale": [
             [
              0,
              "#0d0887"
             ],
             [
              0.1111111111111111,
              "#46039f"
             ],
             [
              0.2222222222222222,
              "#7201a8"
             ],
             [
              0.3333333333333333,
              "#9c179e"
             ],
             [
              0.4444444444444444,
              "#bd3786"
             ],
             [
              0.5555555555555556,
              "#d8576b"
             ],
             [
              0.6666666666666666,
              "#ed7953"
             ],
             [
              0.7777777777777778,
              "#fb9f3a"
             ],
             [
              0.8888888888888888,
              "#fdca26"
             ],
             [
              1,
              "#f0f921"
             ]
            ],
            "type": "heatmap"
           }
          ],
          "heatmapgl": [
           {
            "colorbar": {
             "outlinewidth": 0,
             "ticks": ""
            },
            "colorscale": [
             [
              0,
              "#0d0887"
             ],
             [
              0.1111111111111111,
              "#46039f"
             ],
             [
              0.2222222222222222,
              "#7201a8"
             ],
             [
              0.3333333333333333,
              "#9c179e"
             ],
             [
              0.4444444444444444,
              "#bd3786"
             ],
             [
              0.5555555555555556,
              "#d8576b"
             ],
             [
              0.6666666666666666,
              "#ed7953"
             ],
             [
              0.7777777777777778,
              "#fb9f3a"
             ],
             [
              0.8888888888888888,
              "#fdca26"
             ],
             [
              1,
              "#f0f921"
             ]
            ],
            "type": "heatmapgl"
           }
          ],
          "histogram": [
           {
            "marker": {
             "pattern": {
              "fillmode": "overlay",
              "size": 10,
              "solidity": 0.2
             }
            },
            "type": "histogram"
           }
          ],
          "histogram2d": [
           {
            "colorbar": {
             "outlinewidth": 0,
             "ticks": ""
            },
            "colorscale": [
             [
              0,
              "#0d0887"
             ],
             [
              0.1111111111111111,
              "#46039f"
             ],
             [
              0.2222222222222222,
              "#7201a8"
             ],
             [
              0.3333333333333333,
              "#9c179e"
             ],
             [
              0.4444444444444444,
              "#bd3786"
             ],
             [
              0.5555555555555556,
              "#d8576b"
             ],
             [
              0.6666666666666666,
              "#ed7953"
             ],
             [
              0.7777777777777778,
              "#fb9f3a"
             ],
             [
              0.8888888888888888,
              "#fdca26"
             ],
             [
              1,
              "#f0f921"
             ]
            ],
            "type": "histogram2d"
           }
          ],
          "histogram2dcontour": [
           {
            "colorbar": {
             "outlinewidth": 0,
             "ticks": ""
            },
            "colorscale": [
             [
              0,
              "#0d0887"
             ],
             [
              0.1111111111111111,
              "#46039f"
             ],
             [
              0.2222222222222222,
              "#7201a8"
             ],
             [
              0.3333333333333333,
              "#9c179e"
             ],
             [
              0.4444444444444444,
              "#bd3786"
             ],
             [
              0.5555555555555556,
              "#d8576b"
             ],
             [
              0.6666666666666666,
              "#ed7953"
             ],
             [
              0.7777777777777778,
              "#fb9f3a"
             ],
             [
              0.8888888888888888,
              "#fdca26"
             ],
             [
              1,
              "#f0f921"
             ]
            ],
            "type": "histogram2dcontour"
           }
          ],
          "mesh3d": [
           {
            "colorbar": {
             "outlinewidth": 0,
             "ticks": ""
            },
            "type": "mesh3d"
           }
          ],
          "parcoords": [
           {
            "line": {
             "colorbar": {
              "outlinewidth": 0,
              "ticks": ""
             }
            },
            "type": "parcoords"
           }
          ],
          "pie": [
           {
            "automargin": true,
            "type": "pie"
           }
          ],
          "scatter": [
           {
            "fillpattern": {
             "fillmode": "overlay",
             "size": 10,
             "solidity": 0.2
            },
            "type": "scatter"
           }
          ],
          "scatter3d": [
           {
            "line": {
             "colorbar": {
              "outlinewidth": 0,
              "ticks": ""
             }
            },
            "marker": {
             "colorbar": {
              "outlinewidth": 0,
              "ticks": ""
             }
            },
            "type": "scatter3d"
           }
          ],
          "scattercarpet": [
           {
            "marker": {
             "colorbar": {
              "outlinewidth": 0,
              "ticks": ""
             }
            },
            "type": "scattercarpet"
           }
          ],
          "scattergeo": [
           {
            "marker": {
             "colorbar": {
              "outlinewidth": 0,
              "ticks": ""
             }
            },
            "type": "scattergeo"
           }
          ],
          "scattergl": [
           {
            "marker": {
             "colorbar": {
              "outlinewidth": 0,
              "ticks": ""
             }
            },
            "type": "scattergl"
           }
          ],
          "scattermapbox": [
           {
            "marker": {
             "colorbar": {
              "outlinewidth": 0,
              "ticks": ""
             }
            },
            "type": "scattermapbox"
           }
          ],
          "scatterpolar": [
           {
            "marker": {
             "colorbar": {
              "outlinewidth": 0,
              "ticks": ""
             }
            },
            "type": "scatterpolar"
           }
          ],
          "scatterpolargl": [
           {
            "marker": {
             "colorbar": {
              "outlinewidth": 0,
              "ticks": ""
             }
            },
            "type": "scatterpolargl"
           }
          ],
          "scatterternary": [
           {
            "marker": {
             "colorbar": {
              "outlinewidth": 0,
              "ticks": ""
             }
            },
            "type": "scatterternary"
           }
          ],
          "surface": [
           {
            "colorbar": {
             "outlinewidth": 0,
             "ticks": ""
            },
            "colorscale": [
             [
              0,
              "#0d0887"
             ],
             [
              0.1111111111111111,
              "#46039f"
             ],
             [
              0.2222222222222222,
              "#7201a8"
             ],
             [
              0.3333333333333333,
              "#9c179e"
             ],
             [
              0.4444444444444444,
              "#bd3786"
             ],
             [
              0.5555555555555556,
              "#d8576b"
             ],
             [
              0.6666666666666666,
              "#ed7953"
             ],
             [
              0.7777777777777778,
              "#fb9f3a"
             ],
             [
              0.8888888888888888,
              "#fdca26"
             ],
             [
              1,
              "#f0f921"
             ]
            ],
            "type": "surface"
           }
          ],
          "table": [
           {
            "cells": {
             "fill": {
              "color": "#EBF0F8"
             },
             "line": {
              "color": "white"
             }
            },
            "header": {
             "fill": {
              "color": "#C8D4E3"
             },
             "line": {
              "color": "white"
             }
            },
            "type": "table"
           }
          ]
         },
         "layout": {
          "annotationdefaults": {
           "arrowcolor": "#2a3f5f",
           "arrowhead": 0,
           "arrowwidth": 1
          },
          "autotypenumbers": "strict",
          "coloraxis": {
           "colorbar": {
            "outlinewidth": 0,
            "ticks": ""
           }
          },
          "colorscale": {
           "diverging": [
            [
             0,
             "#8e0152"
            ],
            [
             0.1,
             "#c51b7d"
            ],
            [
             0.2,
             "#de77ae"
            ],
            [
             0.3,
             "#f1b6da"
            ],
            [
             0.4,
             "#fde0ef"
            ],
            [
             0.5,
             "#f7f7f7"
            ],
            [
             0.6,
             "#e6f5d0"
            ],
            [
             0.7,
             "#b8e186"
            ],
            [
             0.8,
             "#7fbc41"
            ],
            [
             0.9,
             "#4d9221"
            ],
            [
             1,
             "#276419"
            ]
           ],
           "sequential": [
            [
             0,
             "#0d0887"
            ],
            [
             0.1111111111111111,
             "#46039f"
            ],
            [
             0.2222222222222222,
             "#7201a8"
            ],
            [
             0.3333333333333333,
             "#9c179e"
            ],
            [
             0.4444444444444444,
             "#bd3786"
            ],
            [
             0.5555555555555556,
             "#d8576b"
            ],
            [
             0.6666666666666666,
             "#ed7953"
            ],
            [
             0.7777777777777778,
             "#fb9f3a"
            ],
            [
             0.8888888888888888,
             "#fdca26"
            ],
            [
             1,
             "#f0f921"
            ]
           ],
           "sequentialminus": [
            [
             0,
             "#0d0887"
            ],
            [
             0.1111111111111111,
             "#46039f"
            ],
            [
             0.2222222222222222,
             "#7201a8"
            ],
            [
             0.3333333333333333,
             "#9c179e"
            ],
            [
             0.4444444444444444,
             "#bd3786"
            ],
            [
             0.5555555555555556,
             "#d8576b"
            ],
            [
             0.6666666666666666,
             "#ed7953"
            ],
            [
             0.7777777777777778,
             "#fb9f3a"
            ],
            [
             0.8888888888888888,
             "#fdca26"
            ],
            [
             1,
             "#f0f921"
            ]
           ]
          },
          "colorway": [
           "#636efa",
           "#EF553B",
           "#00cc96",
           "#ab63fa",
           "#FFA15A",
           "#19d3f3",
           "#FF6692",
           "#B6E880",
           "#FF97FF",
           "#FECB52"
          ],
          "font": {
           "color": "#2a3f5f"
          },
          "geo": {
           "bgcolor": "white",
           "lakecolor": "white",
           "landcolor": "#E5ECF6",
           "showlakes": true,
           "showland": true,
           "subunitcolor": "white"
          },
          "hoverlabel": {
           "align": "left"
          },
          "hovermode": "closest",
          "mapbox": {
           "style": "light"
          },
          "paper_bgcolor": "white",
          "plot_bgcolor": "#E5ECF6",
          "polar": {
           "angularaxis": {
            "gridcolor": "white",
            "linecolor": "white",
            "ticks": ""
           },
           "bgcolor": "#E5ECF6",
           "radialaxis": {
            "gridcolor": "white",
            "linecolor": "white",
            "ticks": ""
           }
          },
          "scene": {
           "xaxis": {
            "backgroundcolor": "#E5ECF6",
            "gridcolor": "white",
            "gridwidth": 2,
            "linecolor": "white",
            "showbackground": true,
            "ticks": "",
            "zerolinecolor": "white"
           },
           "yaxis": {
            "backgroundcolor": "#E5ECF6",
            "gridcolor": "white",
            "gridwidth": 2,
            "linecolor": "white",
            "showbackground": true,
            "ticks": "",
            "zerolinecolor": "white"
           },
           "zaxis": {
            "backgroundcolor": "#E5ECF6",
            "gridcolor": "white",
            "gridwidth": 2,
            "linecolor": "white",
            "showbackground": true,
            "ticks": "",
            "zerolinecolor": "white"
           }
          },
          "shapedefaults": {
           "line": {
            "color": "#2a3f5f"
           }
          },
          "ternary": {
           "aaxis": {
            "gridcolor": "white",
            "linecolor": "white",
            "ticks": ""
           },
           "baxis": {
            "gridcolor": "white",
            "linecolor": "white",
            "ticks": ""
           },
           "bgcolor": "#E5ECF6",
           "caxis": {
            "gridcolor": "white",
            "linecolor": "white",
            "ticks": ""
           }
          },
          "title": {
           "x": 0.05
          },
          "xaxis": {
           "automargin": true,
           "gridcolor": "white",
           "linecolor": "white",
           "ticks": "",
           "title": {
            "standoff": 15
           },
           "zerolinecolor": "white",
           "zerolinewidth": 2
          },
          "yaxis": {
           "automargin": true,
           "gridcolor": "white",
           "linecolor": "white",
           "ticks": "",
           "title": {
            "standoff": 15
           },
           "zerolinecolor": "white",
           "zerolinewidth": 2
          }
         }
        },
        "width": 1000,
        "xaxis": {
         "dtick": 5,
         "range": [
          -20,
          20
         ]
        },
        "yaxis": {
         "range": [
          -20,
          20
         ]
        }
       }
      },
      "image/png": "[encoded data removed]",
      "text/html": [
       "<div>                            <div id=\"592bb4ab-4f1f-42b9-9017-6d3241a28320\" class=\"plotly-graph-div\" style=\"height:900px; width:1000px;\"></div>            <script type=\"text/javascript\">                require([\"plotly\"], function(Plotly) {                    window.PLOTLYENV=window.PLOTLYENV || {};                                    if (document.getElementById(\"592bb4ab-4f1f-42b9-9017-6d3241a28320\")) {                    Plotly.newPlot(                        \"592bb4ab-4f1f-42b9-9017-6d3241a28320\",                        [{\"hovertemplate\":\"species=Echinodermata<br>0=%{x}<br>1=%{y}<br>2=%{z}<extra></extra>\",\"legendgroup\":\"Echinodermata\",\"marker\":{\"color\":\"#636efa\",\"symbol\":\"circle\",\"size\":8},\"mode\":\"markers\",\"name\":\"Echinodermata\",\"scene\":\"scene\",\"showlegend\":true,\"x\":[19.550983428955078,-2.8738081455230713,46.72747039794922,27.628173828125,47.89548110961914,-43.104949951171875,-50.77176284790039,135.7803497314453,28.735353469848633,-63.5841064453125],\"y\":[8.31236457824707,24.971729278564453,-18.642282485961914,-12.338838577270508,-6.892178535461426,-32.84587860107422,-21.938383102416992,54.31452178955078,-18.640342712402344,-48.0361328125],\"z\":[55.44425582885742,-17.725950241088867,39.765716552734375,51.394683837890625,58.73202896118164,-64.78450775146484,-43.02083206176758,25.960966110229492,-33.032588958740234,-56.35420608520508],\"type\":\"scatter3d\"},{\"hovertemplate\":\"species=Arthropoda<br>0=%{x}<br>1=%{y}<br>2=%{z}<extra></extra>\",\"legendgroup\":\"Arthropoda\",\"marker\":{\"color\":\"#EF553B\",\"symbol\":\"circle\",\"size\":8},\"mode\":\"markers\",\"name\":\"Arthropoda\",\"scene\":\"scene\",\"showlegend\":true,\"x\":[58.26402282714844,62.04618453979492,22.626379013061523,36.17905044555664,47.86189651489258,5.384304046630859,65.29521942138672,82.37435913085938,-10.358962059020996,-17.9217472076416,0.35414719581604004,3.3517134189605713,-12.317937850952148,6.3820600509643555,15.603108406066895,1.8534423112869263,57.11621856689453,-11.670939445495605,-25.43861198425293,-6.750023365020752,41.926971435546875,-52.47219467163086,27.52747917175293,30.48629379272461,74.66678619384766,40.170555114746094,-1.3923721313476562,52.924442291259766,46.70157241821289,14.301992416381836,22.873628616333008,19.07455825805664,27.576446533203125,47.53478240966797,38.79913330078125,55.768863677978516,-0.1433449387550354,76.68354797363281,12.426353454589844,-82.21711730957031,-5.1546196937561035,70.47293090820312,57.31905746459961,30.410053253173828,98.79058074951172,118.49417114257812,129.0641326904297,128.40184020996094,20.419605255126953,86.67084503173828,100.82865905761719,102.82141876220703,67.07449340820312,-22.367034912109375,75.9537353515625,58.5665397644043,139.26254272460938,140.78529357910156,139.8643035888672,116.35206604003906,113.53157806396484,117.50146484375,86.50849151611328,78.20692443847656,0.6852213144302368,5.8506975173950195,119.41886138916016,94.99457550048828,-13.509560585021973,9.943124771118164,17.623390197753906,-5.174483299255371,-35.31511306762695,38.57345962524414,41.14506912231445,29.319849014282227,45.7445182800293,-43.994327545166016,22.889053344726562,27.633197784423828,44.834617614746094,-33.844058990478516,82.0643539428711,39.26383590698242],\"y\":[67.46241760253906,94.6235580444336,106.3133316040039,127.28761291503906,108.26715850830078,71.8316879272461,77.68881225585938,78.3677749633789,119.1109848022461,87.57781982421875,40.270652770996094,119.30328369140625,150.7639923095703,-66.01200866699219,126.44202423095703,137.61843872070312,143.74954223632812,102.89282989501953,136.36276245117188,107.88732147216797,55.32073974609375,103.41432189941406,27.42115592956543,44.751678466796875,63.54569625854492,107.9525146484375,-31.03611946105957,-55.10531234741211,12.573853492736816,-18.521953582763672,-19.687591552734375,9.016621589660645,6.385380268096924,-12.907967567443848,-10.58596134185791,-79.70117950439453,-0.05370224639773369,-68.39971923828125,-51.890281677246094,-79.23445892333984,59.975460052490234,-59.623878479003906,-60.76264572143555,-32.371788024902344,8.41646957397461,11.712240219116211,-16.811019897460938,-30.080305099487305,76.42530822753906,-8.60255241394043,-25.102903366088867,-10.816506385803223,-31.87381935119629,126.90132904052734,53.67753219604492,-84.24606323242188,-1.06424081325531,-23.30145263671875,4.202053546905518,-7.743801593780518,-33.877479553222656,-6.198098182678223,-28.481964111328125,-9.60019588470459,-17.7933292388916,95.22574615478516,18.510658264160156,13.904804229736328,38.774208068847656,16.62672996520996,38.919986724853516,35.70648956298828,24.202852249145508,84.19695281982422,78.82740020751953,3.835597038269043,15.698175430297852,-43.69849395751953,29.340316772460938,55.71827697753906,-65.74675750732422,-65.70175170898438,-30.830001831054688,-35.76832580566406],\"z\":[50.27604293823242,-30.341279983520508,-3.464668035507202,-1.3454580307006836,-11.951022148132324,4.264812469482422,24.31475830078125,45.0515022277832,24.1195125579834,8.352375030517578,13.102725982666016,-45.63471603393555,-22.515085220336914,106.93179321289062,-27.90546989440918,-4.095602512359619,15.459031105041504,-53.33783721923828,-3.163618803024292,-9.554916381835938,-33.20313262939453,-10.175546646118164,-26.00179100036621,17.848352432250977,-32.020633697509766,16.018705368041992,-75.50511932373047,29.999597549438477,100.48352813720703,90.40889739990234,115.30204010009766,92.49970245361328,117.67110443115234,114.35919189453125,91.22136688232422,21.476261138916016,107.7816162109375,37.14948654174805,-81.6021499633789,58.289344787597656,-100.22442626953125,86.45040130615234,65.73590087890625,-79.11962890625,11.900686264038086,57.50452423095703,59.74332809448242,12.79271411895752,21.699270248413086,29.71495246887207,14.498910903930664,52.66486358642578,71.99925994873047,-27.6328182220459,36.4941291809082,77.47173309326172,15.736089706420898,35.7135124206543,42.689273834228516,30.335098266601562,39.116695404052734,0.6637871265411377,82.65479278564453,71.02571105957031,23.729473114013672,16.25523567199707,27.331838607788086,42.16395950317383,-43.99277877807617,28.686553955078125,42.65483856201172,41.445247650146484,-49.068363189697266,3.32462477684021,-21.2558536529541,24.254165649414062,38.20323944091797,-117.2627944946289,-0.8429644107818604,-7.777320384979248,87.44673919677734,-119.4260025024414,48.33356857299805,65.35564422607422],\"type\":\"scatter3d\"},{\"hovertemplate\":\"species=Mollusca<br>0=%{x}<br>1=%{y}<br>2=%{z}<extra></extra>\",\"legendgroup\":\"Mollusca\",\"marker\":{\"color\":\"#00cc96\",\"symbol\":\"circle\",\"size\":8},\"mode\":\"markers\",\"name\":\"Mollusca\",\"scene\":\"scene\",\"showlegend\":true,\"x\":[69.5677719116211,41.39292526245117,0.8639047145843506,17.282522201538086,24.05949592590332,-33.41844940185547,-3.489255428314209,14.931904792785645,0.6753513216972351,100.64070892333984,34.39752197265625,18.949419021606445,15.297564506530762,40.20660400390625,12.375133514404297,-13.110610008239746,12.399657249450684,-7.765386581420898,-14.858389854431152,-46.62869644165039,-59.67863082885742,-51.28302764892578,36.64373779296875,13.532388687133789,-0.9140104651451111,16.892499923706055,-9.841085433959961,-54.349151611328125,-14.058272361755371,19.362958908081055,-1.7914584875106812,78.38452911376953,73.74481964111328,74.14024353027344,93.27980041503906,95.66730499267578],\"y\":[79.98912048339844,82.50804901123047,-32.9904670715332,7.888024806976318,-7.877684593200684,-0.20292505621910095,-5.907600402832031,103.66802978515625,98.05955505371094,56.302425384521484,99.5520248413086,118.32935333251953,83.82837677001953,-3.3015589714050293,14.188735961914062,74.1241455078125,84.8730239868164,76.73966979980469,98.53419494628906,-33.960365295410156,-51.35392761230469,-59.595638275146484,18.554763793945312,77.78375244140625,-30.44417953491211,-17.541954040527344,-37.3487434387207,-60.9342155456543,148.5868682861328,76.65250396728516,82.9560546875,-54.06205368041992,-71.09808349609375,-47.33372497558594,-39.34006118774414,-62.441261291503906],\"z\":[-6.290360927581787,-47.380672454833984,-100.63064575195312,-58.6763916015625,-86.10533142089844,-127.98665618896484,-76.71034240722656,60.59613037109375,88.09941101074219,-2.951900005340576,80.62190246582031,80.32624816894531,-42.68681335449219,-66.55402374267578,-83.46111297607422,72.25305938720703,-18.524553298950195,-24.44872283935547,66.8363265991211,-8.945718765258789,-20.982200622558594,0.13985082507133484,68.7839126586914,84.44244384765625,-23.464962005615234,-62.13237762451172,-0.31295961141586304,79.53864288330078,49.74711990356445,58.177215576171875,49.220027923583984,-18.085525512695312,-34.555789947509766,-41.915016174316406,-30.36167335510254,-35.457332611083984],\"type\":\"scatter3d\"},{\"hovertemplate\":\"species=Annelida<br>0=%{x}<br>1=%{y}<br>2=%{z}<extra></extra>\",\"legendgroup\":\"Annelida\",\"marker\":{\"color\":\"#ab63fa\",\"symbol\":\"circle\",\"size\":8},\"mode\":\"markers\",\"name\":\"Annelida\",\"scene\":\"scene\",\"showlegend\":true,\"x\":[9.531103134155273,0.2608893811702728,17.081785202026367,-24.08479881286621,17.716527938842773,-19.977304458618164,27.464609146118164,-36.34244155883789,-21.057313919067383],\"y\":[-10.090770721435547,-56.36507034301758,-33.01665115356445,-63.5123405456543,55.28293991088867,-52.14936065673828,-37.1209831237793,-80.39276885986328,-43.10702133178711],\"z\":[-10.771700859069824,-15.720498085021973,-8.277770042419434,-7.857794284820557,-35.91756820678711,-98.36251068115234,44.67442321777344,70.2308120727539,-21.614500045776367],\"type\":\"scatter3d\"},{\"hovertemplate\":\"species=Chordata<br>0=%{x}<br>1=%{y}<br>2=%{z}<extra></extra>\",\"legendgroup\":\"Chordata\",\"marker\":{\"color\":\"#FFA15A\",\"symbol\":\"circle\",\"size\":8},\"mode\":\"markers\",\"name\":\"Chordata\",\"scene\":\"scene\",\"showlegend\":true,\"x\":[27.12456512451172,-28.640684127807617,-4.063662528991699,-125.67876434326172,68.76801300048828,-100.31012725830078,-116.61406707763672,-109.94759368896484,-88.95125579833984,-161.9104461669922,51.10253143310547,-134.95094299316406,-122.08580017089844,-96.28986358642578,-100.45836639404297,-130.54075622558594,-139.63059997558594,-118.03975677490234,-132.44219970703125,-32.009483337402344,-134.7002716064453,-108.07799530029297,-126.3651123046875,-150.75277709960938,-139.6932373046875,-149.1925811767578,-110.50170135498047,82.05623626708984,-152.85397338867188,-118.66687774658203,-102.38188934326172,-101.64163208007812,-65.57952880859375,41.25629425048828,18.03677749633789,24.417659759521484,1.6496368646621704,-19.724781036376953,-20.59906005859375,-59.603092193603516,17.294137954711914,37.88954162597656,-35.065460205078125,-10.431952476501465,-1.0042290687561035,2.3122544288635254,-37.62238311767578,3.9916775226593018,19.88727569580078,-38.300418853759766,-22.55651092529297,-15.506061553955078,-17.9074649810791,-43.12607955932617,-28.07135772705078,-74.17194366455078,-59.79250717163086,-73.81525421142578,-83.03144836425781,-70.55438995361328,-60.18901062011719,-66.80572509765625,-50.77016067504883,-76.73023223876953,25.646657943725586,-63.51152038574219,-42.659332275390625,-102.6920394897461,-20.621360778808594,-33.67564392089844,-58.44060516357422,-22.460081100463867,-7.20194673538208,12.764156341552734,-5.95585823059082,34.643272399902344,-6.776120662689209,-30.16621971130371,9.74634075164795,15.786172866821289,2.909433364868164,-14.99644660949707,-31.4195556640625,-79.7435302734375,-139.93057250976562,-133.27635192871094,18.081090927124023,67.30529022216797],\"y\":[-84.40252685546875,30.799335479736328,4.233653545379639,10.15295124053955,17.25227928161621,0.8680810332298279,-4.8382134437561035,25.43303108215332,-3.033304214477539,-3.419398546218872,35.807125091552734,41.138771057128906,28.51743507385254,-7.986888408660889,19.708160400390625,-42.05441665649414,-16.510265350341797,-3.935490608215332,-16.671707153320312,-108.17301177978516,-31.940027236938477,18.391624450683594,-26.0972843170166,22.56507110595703,-2.3368139266967773,-5.198301792144775,-14.355586051940918,44.24628829956055,-37.44628143310547,42.47099685668945,-36.05858612060547,-29.1841983795166,26.04666519165039,-24.21661376953125,-54.51237869262695,-27.29657554626465,0.8954323530197144,-27.65164566040039,-16.09879493713379,-100.49803924560547,-56.988685607910156,-41.826297760009766,-56.78675079345703,-56.643959045410156,-36.55846405029297,-8.750988960266113,12.5261869430542,-36.00611114501953,-15.534146308898926,-24.0914306640625,-30.72747802734375,-15.121273040771484,-39.63264846801758,-17.739004135131836,-2.46305513381958,18.486785888671875,44.320030212402344,36.3426399230957,44.68330764770508,45.03636169433594,22.319290161132812,-42.39325714111328,47.167701721191406,46.37373733520508,-106.18212890625,26.422954559326172,40.362789154052734,-30.369508743286133,6.763189792633057,19.35370635986328,69.8186264038086,-109.97779846191406,-129.56515502929688,-93.76850891113281,-143.84072875976562,69.6026611328125,-102.97295379638672,-135.99925231933594,-100.93995666503906,-134.5233612060547,-112.89128112792969,-122.99932098388672,-124.9923324584961,-62.664669036865234,9.61691665649414,24.445911407470703,-115.43341064453125,-4.726425647735596],\"z\":[-47.40078353881836,-4.331230163574219,-26.347639083862305,13.536304473876953,-111.46165466308594,-28.76993751525879,-6.649869918823242,-7.195183753967285,39.38824462890625,1.7055357694625854,-89.40454864501953,-12.45803451538086,-34.37139892578125,12.23398494720459,19.242408752441406,-3.8757035732269287,-0.9869250655174255,35.296566009521484,-28.628725051879883,-87.49442291259766,51.05669403076172,50.135040283203125,23.09869384765625,9.352787971496582,58.872928619384766,29.609912872314453,62.7794189453125,-75.88223266601562,25.886253356933594,14.462776184082031,7.573882579803467,-19.178346633911133,11.875165939331055,-110.27751159667969,-113.87307739257812,-149.7534637451172,-108.11943817138672,-137.69424438476562,-105.12960052490234,13.994380950927734,-144.03526306152344,-129.93385314941406,111.10107421875,-139.24609375,-158.98757934570312,-143.95533752441406,-10.9122953414917,-129.7103271484375,-124.12169647216797,59.36197280883789,41.384674072265625,60.46044158935547,64.10177612304688,35.230262756347656,42.1403923034668,-14.623794555664062,-9.333864212036133,-29.990327835083008,-9.994293212890625,58.942813873291016,63.828941345214844,32.14910888671875,25.450733184814453,21.183208465576172,39.18354797363281,35.85821533203125,50.47539138793945,37.56645202636719,8.250755310058594,19.174137115478516,52.63793182373047,-8.710246086120605,-23.219797134399414,-27.42255401611328,0.15743011236190796,-95.81549835205078,-39.5924072265625,-5.178445816040039,-57.3063850402832,-11.206753730773926,-4.257225513458252,13.588971138000488,-29.39618492126465,21.624422073364258,-15.696090698242188,37.06884002685547,-38.58684539794922,-27.460723876953125],\"type\":\"scatter3d\"},{\"hovertemplate\":\"species=Cnidaria<br>0=%{x}<br>1=%{y}<br>2=%{z}<extra></extra>\",\"legendgroup\":\"Cnidaria\",\"marker\":{\"color\":\"#19d3f3\",\"symbol\":\"circle\",\"size\":8},\"mode\":\"markers\",\"name\":\"Cnidaria\",\"scene\":\"scene\",\"showlegend\":true,\"x\":[31.190141677856445,-38.78457260131836,-53.88068771362305,-16.896310806274414,6.764723300933838,-46.3304443359375],\"y\":[-47.35258102416992,-73.58245086669922,-8.351527214050293,-58.6115608215332,-45.349510192871094,-81.75051879882812],\"z\":[-47.46437072753906,-66.62014770507812,-73.75525665283203,-58.806888580322266,-48.47163772583008,-35.111724853515625],\"type\":\"scatter3d\"},{\"hovertemplate\":\"species=Porifera<br>0=%{x}<br>1=%{y}<br>2=%{z}<extra></extra>\",\"legendgroup\":\"Porifera\",\"marker\":{\"color\":\"#FF6692\",\"symbol\":\"circle\",\"size\":8},\"mode\":\"markers\",\"name\":\"Porifera\",\"scene\":\"scene\",\"showlegend\":true,\"x\":[-50.044769287109375],\"y\":[-9.688960075378418],\"z\":[88.39203643798828],\"type\":\"scatter3d\"},{\"hovertemplate\":\"species=Placozoa<br>0=%{x}<br>1=%{y}<br>2=%{z}<extra></extra>\",\"legendgroup\":\"Placozoa\",\"marker\":{\"color\":\"#B6E880\",\"symbol\":\"circle\",\"size\":8},\"mode\":\"markers\",\"name\":\"Placozoa\",\"scene\":\"scene\",\"showlegend\":true,\"x\":[-20.210651397705078],\"y\":[-15.982359886169434],\"z\":[-17.162443161010742],\"type\":\"scatter3d\"},{\"hovertemplate\":\"species=Bacteria<br>0=%{x}<br>1=%{y}<br>2=%{z}<extra></extra>\",\"legendgroup\":\"Bacteria\",\"marker\":{\"color\":\"#FF97FF\",\"symbol\":\"circle\",\"size\":8},\"mode\":\"markers\",\"name\":\"Bacteria\",\"scene\":\"scene\",\"showlegend\":true,\"x\":[-60.3293342590332,-66.54183197021484,-23.269258499145508],\"y\":[128.18443298339844,-75.13317108154297,-22.54401397705078],\"z\":[31.676664352416992,-46.673519134521484,-47.86864471435547],\"type\":\"scatter3d\"},{\"hovertemplate\":\"species=Nematoda<br>0=%{x}<br>1=%{y}<br>2=%{z}<extra></extra>\",\"legendgroup\":\"Nematoda\",\"marker\":{\"color\":\"#FECB52\",\"symbol\":\"circle\",\"size\":8},\"mode\":\"markers\",\"name\":\"Nematoda\",\"scene\":\"scene\",\"showlegend\":true,\"x\":[57.305076599121094,53.32735824584961,60.45554733276367,-20.922391891479492,-5.5834221839904785,4.282813549041748,-58.75120162963867,-45.10499572753906,45.889156341552734,13.300185203552246],\"y\":[33.92290496826172,51.72734451293945,28.429424285888672,-78.53316497802734,-60.43727111816406,-77.35897064208984,75.70275115966797,63.666778564453125,-29.08662223815918,-69.69263458251953],\"z\":[-12.945989608764648,0.4992605745792389,8.811784744262695,22.00175666809082,29.998435974121094,16.55657958984375,-28.992565155029297,-47.02204895019531,6.526601314544678,53.00468444824219],\"type\":\"scatter3d\"},{\"hovertemplate\":\"species=Hemichordata<br>0=%{x}<br>1=%{y}<br>2=%{z}<extra></extra>\",\"legendgroup\":\"Hemichordata\",\"marker\":{\"color\":\"#636efa\",\"symbol\":\"circle\",\"size\":8},\"mode\":\"markers\",\"name\":\"Hemichordata\",\"scene\":\"scene\",\"showlegend\":true,\"x\":[-43.75354766845703],\"y\":[-0.9482579827308655],\"z\":[10.538887023925781],\"type\":\"scatter3d\"},{\"hovertemplate\":\"species=Fungi<br>0=%{x}<br>1=%{y}<br>2=%{z}<extra></extra>\",\"legendgroup\":\"Fungi\",\"marker\":{\"color\":\"#EF553B\",\"symbol\":\"circle\",\"size\":8},\"mode\":\"markers\",\"name\":\"Fungi\",\"scene\":\"scene\",\"showlegend\":true,\"x\":[-64.12853240966797,77.65129852294922],\"y\":[85.16221618652344,-58.062744140625],\"z\":[-69.27777099609375,-82.65741729736328],\"type\":\"scatter3d\"},{\"hovertemplate\":\"species=Viridiplantae<br>0=%{x}<br>1=%{y}<br>2=%{z}<extra></extra>\",\"legendgroup\":\"Viridiplantae\",\"marker\":{\"color\":\"#00cc96\",\"symbol\":\"circle\",\"size\":8},\"mode\":\"markers\",\"name\":\"Viridiplantae\",\"scene\":\"scene\",\"showlegend\":true,\"x\":[-39.33122253417969],\"y\":[-48.72309112548828],\"z\":[-43.31235885620117],\"type\":\"scatter3d\"}],                        {\"template\":{\"data\":{\"histogram2dcontour\":[{\"type\":\"histogram2dcontour\",\"colorbar\":{\"outlinewidth\":0,\"ticks\":\"\"},\"colorscale\":[[0.0,\"#0d0887\"],[0.1111111111111111,\"#46039f\"],[0.2222222222222222,\"#7201a8\"],[0.3333333333333333,\"#9c179e\"],[0.4444444444444444,\"#bd3786\"],[0.5555555555555556,\"#d8576b\"],[0.6666666666666666,\"#ed7953\"],[0.7777777777777778,\"#fb9f3a\"],[0.8888888888888888,\"#fdca26\"],[1.0,\"#f0f921\"]]}],\"choropleth\":[{\"type\":\"choropleth\",\"colorbar\":{\"outlinewidth\":0,\"ticks\":\"\"}}],\"histogram2d\":[{\"type\":\"histogram2d\",\"colorbar\":{\"outlinewidth\":0,\"ticks\":\"\"},\"colorscale\":[[0.0,\"#0d0887\"],[0.1111111111111111,\"#46039f\"],[0.2222222222222222,\"#7201a8\"],[0.3333333333333333,\"#9c179e\"],[0.4444444444444444,\"#bd3786\"],[0.5555555555555556,\"#d8576b\"],[0.6666666666666666,\"#ed7953\"],[0.7777777777777778,\"#fb9f3a\"],[0.8888888888888888,\"#fdca26\"],[1.0,\"#f0f921\"]]}],\"heatmap\":[{\"type\":\"heatmap\",\"colorbar\":{\"outlinewidth\":0,\"ticks\":\"\"},\"colorscale\":[[0.0,\"#0d0887\"],[0.1111111111111111,\"#46039f\"],[0.2222222222222222,\"#7201a8\"],[0.3333333333333333,\"#9c179e\"],[0.4444444444444444,\"#bd3786\"],[0.5555555555555556,\"#d8576b\"],[0.6666666666666666,\"#ed7953\"],[0.7777777777777778,\"#fb9f3a\"],[0.8888888888888888,\"#fdca26\"],[1.0,\"#f0f921\"]]}],\"heatmapgl\":[{\"type\":\"heatmapgl\",\"colorbar\":{\"outlinewidth\":0,\"ticks\":\"\"},\"colorscale\":[[0.0,\"#0d0887\"],[0.1111111111111111,\"#46039f\"],[0.2222222222222222,\"#7201a8\"],[0.3333333333333333,\"#9c179e\"],[0.4444444444444444,\"#bd3786\"],[0.5555555555555556,\"#d8576b\"],[0.6666666666666666,\"#ed7953\"],[0.7777777777777778,\"#fb9f3a\"],[0.8888888888888888,\"#fdca26\"],[1.0,\"#f0f921\"]]}],\"contourcarpet\":[{\"type\":\"contourcarpet\",\"colorbar\":{\"outlinewidth\":0,\"ticks\":\"\"}}],\"contour\":[{\"type\":\"contour\",\"colorbar\":{\"outlinewidth\":0,\"ticks\":\"\"},\"colorscale\":[[0.0,\"#0d0887\"],[0.1111111111111111,\"#46039f\"],[0.2222222222222222,\"#7201a8\"],[0.3333333333333333,\"#9c179e\"],[0.4444444444444444,\"#bd3786\"],[0.5555555555555556,\"#d8576b\"],[0.6666666666666666,\"#ed7953\"],[0.7777777777777778,\"#fb9f3a\"],[0.8888888888888888,\"#fdca26\"],[1.0,\"#f0f921\"]]}],\"surface\":[{\"type\":\"surface\",\"colorbar\":{\"outlinewidth\":0,\"ticks\":\"\"},\"colorscale\":[[0.0,\"#0d0887\"],[0.1111111111111111,\"#46039f\"],[0.2222222222222222,\"#7201a8\"],[0.3333333333333333,\"#9c179e\"],[0.4444444444444444,\"#bd3786\"],[0.5555555555555556,\"#d8576b\"],[0.6666666666666666,\"#ed7953\"],[0.7777777777777778,\"#fb9f3a\"],[0.8888888888888888,\"#fdca26\"],[1.0,\"#f0f921\"]]}],\"mesh3d\":[{\"type\":\"mesh3d\",\"colorbar\":{\"outlinewidth\":0,\"ticks\":\"\"}}],\"scatter\":[{\"fillpattern\":{\"fillmode\":\"overlay\",\"size\":10,\"solidity\":0.2},\"type\":\"scatter\"}],\"parcoords\":[{\"type\":\"parcoords\",\"line\":{\"colorbar\":{\"outlinewidth\":0,\"ticks\":\"\"}}}],\"scatterpolargl\":[{\"type\":\"scatterpolargl\",\"marker\":{\"colorbar\":{\"outlinewidth\":0,\"ticks\":\"\"}}}],\"bar\":[{\"error_x\":{\"color\":\"#2a3f5f\"},\"error_y\":{\"color\":\"#2a3f5f\"},\"marker\":{\"line\":{\"color\":\"#E5ECF6\",\"width\":0.5},\"pattern\":{\"fillmode\":\"overlay\",\"size\":10,\"solidity\":0.2}},\"type\":\"bar\"}],\"scattergeo\":[{\"type\":\"scattergeo\",\"marker\":{\"colorbar\":{\"outlinewidth\":0,\"ticks\":\"\"}}}],\"scatterpolar\":[{\"type\":\"scatterpolar\",\"marker\":{\"colorbar\":{\"outlinewidth\":0,\"ticks\":\"\"}}}],\"histogram\":[{\"marker\":{\"pattern\":{\"fillmode\":\"overlay\",\"size\":10,\"solidity\":0.2}},\"type\":\"histogram\"}],\"scattergl\":[{\"type\":\"scattergl\",\"marker\":{\"colorbar\":{\"outlinewidth\":0,\"ticks\":\"\"}}}],\"scatter3d\":[{\"type\":\"scatter3d\",\"line\":{\"colorbar\":{\"outlinewidth\":0,\"ticks\":\"\"}},\"marker\":{\"colorbar\":{\"outlinewidth\":0,\"ticks\":\"\"}}}],\"scattermapbox\":[{\"type\":\"scattermapbox\",\"marker\":{\"colorbar\":{\"outlinewidth\":0,\"ticks\":\"\"}}}],\"scatterternary\":[{\"type\":\"scatterternary\",\"marker\":{\"colorbar\":{\"outlinewidth\":0,\"ticks\":\"\"}}}],\"scattercarpet\":[{\"type\":\"scattercarpet\",\"marker\":{\"colorbar\":{\"outlinewidth\":0,\"ticks\":\"\"}}}],\"carpet\":[{\"aaxis\":{\"endlinecolor\":\"#2a3f5f\",\"gridcolor\":\"white\",\"linecolor\":\"white\",\"minorgridcolor\":\"white\",\"startlinecolor\":\"#2a3f5f\"},\"baxis\":{\"endlinecolor\":\"#2a3f5f\",\"gridcolor\":\"white\",\"linecolor\":\"white\",\"minorgridcolor\":\"white\",\"startlinecolor\":\"#2a3f5f\"},\"type\":\"carpet\"}],\"table\":[{\"cells\":{\"fill\":{\"color\":\"#EBF0F8\"},\"line\":{\"color\":\"white\"}},\"header\":{\"fill\":{\"color\":\"#C8D4E3\"},\"line\":{\"color\":\"white\"}},\"type\":\"table\"}],\"barpolar\":[{\"marker\":{\"line\":{\"color\":\"#E5ECF6\",\"width\":0.5},\"pattern\":{\"fillmode\":\"overlay\",\"size\":10,\"solidity\":0.2}},\"type\":\"barpolar\"}],\"pie\":[{\"automargin\":true,\"type\":\"pie\"}]},\"layout\":{\"autotypenumbers\":\"strict\",\"colorway\":[\"#636efa\",\"#EF553B\",\"#00cc96\",\"#ab63fa\",\"#FFA15A\",\"#19d3f3\",\"#FF6692\",\"#B6E880\",\"#FF97FF\",\"#FECB52\"],\"font\":{\"color\":\"#2a3f5f\"},\"hovermode\":\"closest\",\"hoverlabel\":{\"align\":\"left\"},\"paper_bgcolor\":\"white\",\"plot_bgcolor\":\"#E5ECF6\",\"polar\":{\"bgcolor\":\"#E5ECF6\",\"angularaxis\":{\"gridcolor\":\"white\",\"linecolor\":\"white\",\"ticks\":\"\"},\"radialaxis\":{\"gridcolor\":\"white\",\"linecolor\":\"white\",\"ticks\":\"\"}},\"ternary\":{\"bgcolor\":\"#E5ECF6\",\"aaxis\":{\"gridcolor\":\"white\",\"linecolor\":\"white\",\"ticks\":\"\"},\"baxis\":{\"gridcolor\":\"white\",\"linecolor\":\"white\",\"ticks\":\"\"},\"caxis\":{\"gridcolor\":\"white\",\"linecolor\":\"white\",\"ticks\":\"\"}},\"coloraxis\":{\"colorbar\":{\"outlinewidth\":0,\"ticks\":\"\"}},\"colorscale\":{\"sequential\":[[0.0,\"#0d0887\"],[0.1111111111111111,\"#46039f\"],[0.2222222222222222,\"#7201a8\"],[0.3333333333333333,\"#9c179e\"],[0.4444444444444444,\"#bd3786\"],[0.5555555555555556,\"#d8576b\"],[0.6666666666666666,\"#ed7953\"],[0.7777777777777778,\"#fb9f3a\"],[0.8888888888888888,\"#fdca26\"],[1.0,\"#f0f921\"]],\"sequentialminus\":[[0.0,\"#0d0887\"],[0.1111111111111111,\"#46039f\"],[0.2222222222222222,\"#7201a8\"],[0.3333333333333333,\"#9c179e\"],[0.4444444444444444,\"#bd3786\"],[0.5555555555555556,\"#d8576b\"],[0.6666666666666666,\"#ed7953\"],[0.7777777777777778,\"#fb9f3a\"],[0.8888888888888888,\"#fdca26\"],[1.0,\"#f0f921\"]],\"diverging\":[[0,\"#8e0152\"],[0.1,\"#c51b7d\"],[0.2,\"#de77ae\"],[0.3,\"#f1b6da\"],[0.4,\"#fde0ef\"],[0.5,\"#f7f7f7\"],[0.6,\"#e6f5d0\"],[0.7,\"#b8e186\"],[0.8,\"#7fbc41\"],[0.9,\"#4d9221\"],[1,\"#276419\"]]},\"xaxis\":{\"gridcolor\":\"white\",\"linecolor\":\"white\",\"ticks\":\"\",\"title\":{\"standoff\":15},\"zerolinecolor\":\"white\",\"automargin\":true,\"zerolinewidth\":2},\"yaxis\":{\"gridcolor\":\"white\",\"linecolor\":\"white\",\"ticks\":\"\",\"title\":{\"standoff\":15},\"zerolinecolor\":\"white\",\"automargin\":true,\"zerolinewidth\":2},\"scene\":{\"xaxis\":{\"backgroundcolor\":\"#E5ECF6\",\"gridcolor\":\"white\",\"linecolor\":\"white\",\"showbackground\":true,\"ticks\":\"\",\"zerolinecolor\":\"white\",\"gridwidth\":2},\"yaxis\":{\"backgroundcolor\":\"#E5ECF6\",\"gridcolor\":\"white\",\"linecolor\":\"white\",\"showbackground\":true,\"ticks\":\"\",\"zerolinecolor\":\"white\",\"gridwidth\":2},\"zaxis\":{\"backgroundcolor\":\"#E5ECF6\",\"gridcolor\":\"white\",\"linecolor\":\"white\",\"showbackground\":true,\"ticks\":\"\",\"zerolinecolor\":\"white\",\"gridwidth\":2}},\"shapedefaults\":{\"line\":{\"color\":\"#2a3f5f\"}},\"annotationdefaults\":{\"arrowcolor\":\"#2a3f5f\",\"arrowhead\":0,\"arrowwidth\":1},\"geo\":{\"bgcolor\":\"white\",\"landcolor\":\"#E5ECF6\",\"subunitcolor\":\"white\",\"showland\":true,\"showlakes\":true,\"lakecolor\":\"white\"},\"title\":{\"x\":0.05},\"mapbox\":{\"style\":\"light\"}}},\"scene\":{\"domain\":{\"x\":[0.0,1.0],\"y\":[0.0,1.0]},\"xaxis\":{\"title\":{\"text\":\"0\"}},\"yaxis\":{\"title\":{\"text\":\"1\"}},\"zaxis\":{\"title\":{\"text\":\"2\"}}},\"legend\":{\"title\":{\"text\":\"species\"},\"tracegroupgap\":0},\"margin\":{\"t\":60},\"xaxis\":{\"range\":[-20,20],\"dtick\":5},\"yaxis\":{\"range\":[-20,20]},\"width\":1000,\"height\":900},                        {\"responsive\": true}                    ).then(function(){\n",
       "                            \n",
       "var gd = document.getElementById('592bb4ab-4f1f-42b9-9017-6d3241a28320');\n",
       "var x = new MutationObserver(function (mutations, observer) {{\n",
       "        var display = window.getComputedStyle(gd).display;\n",
       "        if (!display || display === 'none') {{\n",
       "            console.log([gd, 'removed!']);\n",
       "            Plotly.purge(gd);\n",
       "            observer.disconnect();\n",
       "        }}\n",
       "}});\n",
       "\n",
       "// Listen for the removal of the full notebook cells\n",
       "var notebookContainer = gd.closest('#notebook-container');\n",
       "if (notebookContainer) {{\n",
       "    x.observe(notebookContainer, {childList: true});\n",
       "}}\n",
       "\n",
       "// Listen for the clearing of the current output cell\n",
       "var outputEl = gd.closest('.output');\n",
       "if (outputEl) {{\n",
       "    x.observe(outputEl, {childList: true});\n",
       "}}\n",
       "\n",
       "                        })                };                });            </script>        </div>"
      ]
     },
     "metadata": {},
     "output_type": "display_data"
    }
   ],
   "source": [
    "tsne_3d = TSNE(n_components=3, random_state=0)\n",
    "proj_tsne_phyl_3d = tsne_3d.fit_transform(phyl)\n",
    "\n",
    "tsne_phyl_3d = px.scatter_3d(\n",
    "    proj_tsne_phyl_3d, x=0, y=1, z=2,\n",
    "    color=colour.Color_species, labels={'color': 'species'}\n",
    ")\n",
    "tsne_phyl_3d.update_traces(marker_size=8)\n",
    "tsne_phyl_3d.update_layout(xaxis_range=[-20, 20], yaxis_range=[-20, 20])\n",
    "tsne_phyl_3d.update_layout(width=1000, height=900)\n",
    "tsne_phyl_3d.update_xaxes(dtick=5)\n",
    "tsne_phyl_3d.show()"
   ]
  }
 ],
 "metadata": {
  "kernelspec": {
   "display_name": "Python 3 (ipykernel)",
   "language": "python",
   "name": "python3"
  },
  "language_info": {
   "codemirror_mode": {
    "name": "ipython",
    "version": 3
   },
   "file_extension": ".py",
   "mimetype": "text/x-python",
   "name": "python",
   "nbconvert_exporter": "python",
   "pygments_lexer": "ipython3",
   "version": "3.7.9"
  }
 },
 "nbformat": 4,
 "nbformat_minor": 5
}
