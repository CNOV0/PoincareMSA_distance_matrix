{
 "cells": [
  {
   "cell_type": "code",
   "execution_count": 27,
   "id": "987e8a95-b928-4e39-a8ca-6110143b02f1",
   "metadata": {},
   "outputs": [],
   "source": [
    "import pandas as pd\n",
    "from sklearn.manifold import TSNE\n",
    "from sklearn.manifold import MDS\n",
    "from sklearn.decomposition import PCA\n",
    "from umap import UMAP\n",
    "import plotly.express as px"
   ]
  },
  {
   "cell_type": "code",
   "execution_count": 2,
   "id": "c5d3deba-d48b-4d76-b2cb-e5f03a140854",
   "metadata": {},
   "outputs": [],
   "source": [
    "phyl = pd.read_csv(\"out_phyl.csv\")"
   ]
  },
  {
   "cell_type": "code",
   "execution_count": 3,
   "id": "eaf3179a-701c-45db-8ee4-2a23d1a6ee8b",
   "metadata": {},
   "outputs": [
    {
     "data": {
      "text/html": [
       "<div>\n",
       "<style scoped>\n",
       "    .dataframe tbody tr th:only-of-type {\n",
       "        vertical-align: middle;\n",
       "    }\n",
       "\n",
       "    .dataframe tbody tr th {\n",
       "        vertical-align: top;\n",
       "    }\n",
       "\n",
       "    .dataframe thead th {\n",
       "        text-align: right;\n",
       "    }\n",
       "</style>\n",
       "<table border=\"1\" class=\"dataframe\">\n",
       "  <thead>\n",
       "    <tr style=\"text-align: right;\">\n",
       "      <th></th>\n",
       "      <th>1</th>\n",
       "      <th>2</th>\n",
       "      <th>3</th>\n",
       "      <th>4</th>\n",
       "      <th>5</th>\n",
       "      <th>6</th>\n",
       "      <th>7</th>\n",
       "      <th>8</th>\n",
       "      <th>9</th>\n",
       "      <th>10</th>\n",
       "      <th>...</th>\n",
       "      <th>243</th>\n",
       "      <th>244</th>\n",
       "      <th>245</th>\n",
       "      <th>246</th>\n",
       "      <th>247</th>\n",
       "      <th>248</th>\n",
       "      <th>249</th>\n",
       "      <th>250</th>\n",
       "      <th>251</th>\n",
       "      <th>252</th>\n",
       "    </tr>\n",
       "  </thead>\n",
       "  <tbody>\n",
       "    <tr>\n",
       "      <th>0</th>\n",
       "      <td>0.000000</td>\n",
       "      <td>0.020364</td>\n",
       "      <td>0.022568</td>\n",
       "      <td>0.024713</td>\n",
       "      <td>0.023570</td>\n",
       "      <td>0.023615</td>\n",
       "      <td>0.024607</td>\n",
       "      <td>0.021254</td>\n",
       "      <td>0.022047</td>\n",
       "      <td>0.022868</td>\n",
       "      <td>...</td>\n",
       "      <td>0.022062</td>\n",
       "      <td>0.032975</td>\n",
       "      <td>0.034126</td>\n",
       "      <td>0.034768</td>\n",
       "      <td>0.028960</td>\n",
       "      <td>0.026797</td>\n",
       "      <td>0.026272</td>\n",
       "      <td>0.024387</td>\n",
       "      <td>0.028972</td>\n",
       "      <td>0.031496</td>\n",
       "    </tr>\n",
       "    <tr>\n",
       "      <th>1</th>\n",
       "      <td>0.020364</td>\n",
       "      <td>0.000000</td>\n",
       "      <td>0.010615</td>\n",
       "      <td>0.012760</td>\n",
       "      <td>0.011618</td>\n",
       "      <td>0.011662</td>\n",
       "      <td>0.013878</td>\n",
       "      <td>0.007727</td>\n",
       "      <td>0.011692</td>\n",
       "      <td>0.012513</td>\n",
       "      <td>...</td>\n",
       "      <td>0.023655</td>\n",
       "      <td>0.028806</td>\n",
       "      <td>0.029957</td>\n",
       "      <td>0.030598</td>\n",
       "      <td>0.024791</td>\n",
       "      <td>0.022628</td>\n",
       "      <td>0.022102</td>\n",
       "      <td>0.020217</td>\n",
       "      <td>0.024803</td>\n",
       "      <td>0.027327</td>\n",
       "    </tr>\n",
       "    <tr>\n",
       "      <th>2</th>\n",
       "      <td>0.022568</td>\n",
       "      <td>0.010615</td>\n",
       "      <td>0.000000</td>\n",
       "      <td>0.011632</td>\n",
       "      <td>0.010489</td>\n",
       "      <td>0.010534</td>\n",
       "      <td>0.016081</td>\n",
       "      <td>0.011505</td>\n",
       "      <td>0.013896</td>\n",
       "      <td>0.014717</td>\n",
       "      <td>...</td>\n",
       "      <td>0.025858</td>\n",
       "      <td>0.031009</td>\n",
       "      <td>0.032161</td>\n",
       "      <td>0.032802</td>\n",
       "      <td>0.026995</td>\n",
       "      <td>0.024831</td>\n",
       "      <td>0.024306</td>\n",
       "      <td>0.022421</td>\n",
       "      <td>0.027007</td>\n",
       "      <td>0.029530</td>\n",
       "    </tr>\n",
       "    <tr>\n",
       "      <th>3</th>\n",
       "      <td>0.024713</td>\n",
       "      <td>0.012760</td>\n",
       "      <td>0.011632</td>\n",
       "      <td>0.000000</td>\n",
       "      <td>0.001429</td>\n",
       "      <td>0.002798</td>\n",
       "      <td>0.018226</td>\n",
       "      <td>0.013650</td>\n",
       "      <td>0.016041</td>\n",
       "      <td>0.016862</td>\n",
       "      <td>...</td>\n",
       "      <td>0.028003</td>\n",
       "      <td>0.033155</td>\n",
       "      <td>0.034306</td>\n",
       "      <td>0.034947</td>\n",
       "      <td>0.029140</td>\n",
       "      <td>0.026977</td>\n",
       "      <td>0.026451</td>\n",
       "      <td>0.024566</td>\n",
       "      <td>0.029152</td>\n",
       "      <td>0.031675</td>\n",
       "    </tr>\n",
       "    <tr>\n",
       "      <th>4</th>\n",
       "      <td>0.023570</td>\n",
       "      <td>0.011618</td>\n",
       "      <td>0.010489</td>\n",
       "      <td>0.001429</td>\n",
       "      <td>0.000000</td>\n",
       "      <td>0.001656</td>\n",
       "      <td>0.017084</td>\n",
       "      <td>0.012507</td>\n",
       "      <td>0.014898</td>\n",
       "      <td>0.015719</td>\n",
       "      <td>...</td>\n",
       "      <td>0.026861</td>\n",
       "      <td>0.032012</td>\n",
       "      <td>0.033163</td>\n",
       "      <td>0.033804</td>\n",
       "      <td>0.027997</td>\n",
       "      <td>0.025834</td>\n",
       "      <td>0.025309</td>\n",
       "      <td>0.023423</td>\n",
       "      <td>0.028009</td>\n",
       "      <td>0.030533</td>\n",
       "    </tr>\n",
       "    <tr>\n",
       "      <th>...</th>\n",
       "      <td>...</td>\n",
       "      <td>...</td>\n",
       "      <td>...</td>\n",
       "      <td>...</td>\n",
       "      <td>...</td>\n",
       "      <td>...</td>\n",
       "      <td>...</td>\n",
       "      <td>...</td>\n",
       "      <td>...</td>\n",
       "      <td>...</td>\n",
       "      <td>...</td>\n",
       "      <td>...</td>\n",
       "      <td>...</td>\n",
       "      <td>...</td>\n",
       "      <td>...</td>\n",
       "      <td>...</td>\n",
       "      <td>...</td>\n",
       "      <td>...</td>\n",
       "      <td>...</td>\n",
       "      <td>...</td>\n",
       "      <td>...</td>\n",
       "    </tr>\n",
       "    <tr>\n",
       "      <th>247</th>\n",
       "      <td>0.026797</td>\n",
       "      <td>0.022628</td>\n",
       "      <td>0.024831</td>\n",
       "      <td>0.026977</td>\n",
       "      <td>0.025834</td>\n",
       "      <td>0.025878</td>\n",
       "      <td>0.026870</td>\n",
       "      <td>0.023517</td>\n",
       "      <td>0.024310</td>\n",
       "      <td>0.025131</td>\n",
       "      <td>...</td>\n",
       "      <td>0.030087</td>\n",
       "      <td>0.031806</td>\n",
       "      <td>0.032958</td>\n",
       "      <td>0.033599</td>\n",
       "      <td>0.027792</td>\n",
       "      <td>0.000000</td>\n",
       "      <td>0.008504</td>\n",
       "      <td>0.004719</td>\n",
       "      <td>0.007447</td>\n",
       "      <td>0.030327</td>\n",
       "    </tr>\n",
       "    <tr>\n",
       "      <th>248</th>\n",
       "      <td>0.026272</td>\n",
       "      <td>0.022102</td>\n",
       "      <td>0.024306</td>\n",
       "      <td>0.026451</td>\n",
       "      <td>0.025309</td>\n",
       "      <td>0.025353</td>\n",
       "      <td>0.026345</td>\n",
       "      <td>0.022992</td>\n",
       "      <td>0.023785</td>\n",
       "      <td>0.024606</td>\n",
       "      <td>...</td>\n",
       "      <td>0.029562</td>\n",
       "      <td>0.031281</td>\n",
       "      <td>0.032433</td>\n",
       "      <td>0.033074</td>\n",
       "      <td>0.027267</td>\n",
       "      <td>0.008504</td>\n",
       "      <td>0.000000</td>\n",
       "      <td>0.006093</td>\n",
       "      <td>0.010679</td>\n",
       "      <td>0.029802</td>\n",
       "    </tr>\n",
       "    <tr>\n",
       "      <th>249</th>\n",
       "      <td>0.024387</td>\n",
       "      <td>0.020217</td>\n",
       "      <td>0.022421</td>\n",
       "      <td>0.024566</td>\n",
       "      <td>0.023423</td>\n",
       "      <td>0.023468</td>\n",
       "      <td>0.024460</td>\n",
       "      <td>0.021107</td>\n",
       "      <td>0.021900</td>\n",
       "      <td>0.022721</td>\n",
       "      <td>...</td>\n",
       "      <td>0.027677</td>\n",
       "      <td>0.029396</td>\n",
       "      <td>0.030547</td>\n",
       "      <td>0.031189</td>\n",
       "      <td>0.025381</td>\n",
       "      <td>0.004719</td>\n",
       "      <td>0.006093</td>\n",
       "      <td>0.000000</td>\n",
       "      <td>0.006895</td>\n",
       "      <td>0.027917</td>\n",
       "    </tr>\n",
       "    <tr>\n",
       "      <th>250</th>\n",
       "      <td>0.028972</td>\n",
       "      <td>0.024803</td>\n",
       "      <td>0.027007</td>\n",
       "      <td>0.029152</td>\n",
       "      <td>0.028009</td>\n",
       "      <td>0.028053</td>\n",
       "      <td>0.029046</td>\n",
       "      <td>0.025692</td>\n",
       "      <td>0.026485</td>\n",
       "      <td>0.027306</td>\n",
       "      <td>...</td>\n",
       "      <td>0.032263</td>\n",
       "      <td>0.033982</td>\n",
       "      <td>0.035133</td>\n",
       "      <td>0.035774</td>\n",
       "      <td>0.029967</td>\n",
       "      <td>0.007447</td>\n",
       "      <td>0.010679</td>\n",
       "      <td>0.006895</td>\n",
       "      <td>0.000000</td>\n",
       "      <td>0.032503</td>\n",
       "    </tr>\n",
       "    <tr>\n",
       "      <th>251</th>\n",
       "      <td>0.031496</td>\n",
       "      <td>0.027327</td>\n",
       "      <td>0.029530</td>\n",
       "      <td>0.031675</td>\n",
       "      <td>0.030533</td>\n",
       "      <td>0.030577</td>\n",
       "      <td>0.031569</td>\n",
       "      <td>0.028216</td>\n",
       "      <td>0.029009</td>\n",
       "      <td>0.029830</td>\n",
       "      <td>...</td>\n",
       "      <td>0.034786</td>\n",
       "      <td>0.036229</td>\n",
       "      <td>0.037380</td>\n",
       "      <td>0.038021</td>\n",
       "      <td>0.011359</td>\n",
       "      <td>0.030327</td>\n",
       "      <td>0.029802</td>\n",
       "      <td>0.027917</td>\n",
       "      <td>0.032503</td>\n",
       "      <td>0.000000</td>\n",
       "    </tr>\n",
       "  </tbody>\n",
       "</table>\n",
       "<p>252 rows × 252 columns</p>\n",
       "</div>"
      ],
      "text/plain": [
       "            1         2         3         4         5         6         7  \\\n",
       "0    0.000000  0.020364  0.022568  0.024713  0.023570  0.023615  0.024607   \n",
       "1    0.020364  0.000000  0.010615  0.012760  0.011618  0.011662  0.013878   \n",
       "2    0.022568  0.010615  0.000000  0.011632  0.010489  0.010534  0.016081   \n",
       "3    0.024713  0.012760  0.011632  0.000000  0.001429  0.002798  0.018226   \n",
       "4    0.023570  0.011618  0.010489  0.001429  0.000000  0.001656  0.017084   \n",
       "..        ...       ...       ...       ...       ...       ...       ...   \n",
       "247  0.026797  0.022628  0.024831  0.026977  0.025834  0.025878  0.026870   \n",
       "248  0.026272  0.022102  0.024306  0.026451  0.025309  0.025353  0.026345   \n",
       "249  0.024387  0.020217  0.022421  0.024566  0.023423  0.023468  0.024460   \n",
       "250  0.028972  0.024803  0.027007  0.029152  0.028009  0.028053  0.029046   \n",
       "251  0.031496  0.027327  0.029530  0.031675  0.030533  0.030577  0.031569   \n",
       "\n",
       "            8         9        10  ...       243       244       245  \\\n",
       "0    0.021254  0.022047  0.022868  ...  0.022062  0.032975  0.034126   \n",
       "1    0.007727  0.011692  0.012513  ...  0.023655  0.028806  0.029957   \n",
       "2    0.011505  0.013896  0.014717  ...  0.025858  0.031009  0.032161   \n",
       "3    0.013650  0.016041  0.016862  ...  0.028003  0.033155  0.034306   \n",
       "4    0.012507  0.014898  0.015719  ...  0.026861  0.032012  0.033163   \n",
       "..        ...       ...       ...  ...       ...       ...       ...   \n",
       "247  0.023517  0.024310  0.025131  ...  0.030087  0.031806  0.032958   \n",
       "248  0.022992  0.023785  0.024606  ...  0.029562  0.031281  0.032433   \n",
       "249  0.021107  0.021900  0.022721  ...  0.027677  0.029396  0.030547   \n",
       "250  0.025692  0.026485  0.027306  ...  0.032263  0.033982  0.035133   \n",
       "251  0.028216  0.029009  0.029830  ...  0.034786  0.036229  0.037380   \n",
       "\n",
       "          246       247       248       249       250       251       252  \n",
       "0    0.034768  0.028960  0.026797  0.026272  0.024387  0.028972  0.031496  \n",
       "1    0.030598  0.024791  0.022628  0.022102  0.020217  0.024803  0.027327  \n",
       "2    0.032802  0.026995  0.024831  0.024306  0.022421  0.027007  0.029530  \n",
       "3    0.034947  0.029140  0.026977  0.026451  0.024566  0.029152  0.031675  \n",
       "4    0.033804  0.027997  0.025834  0.025309  0.023423  0.028009  0.030533  \n",
       "..        ...       ...       ...       ...       ...       ...       ...  \n",
       "247  0.033599  0.027792  0.000000  0.008504  0.004719  0.007447  0.030327  \n",
       "248  0.033074  0.027267  0.008504  0.000000  0.006093  0.010679  0.029802  \n",
       "249  0.031189  0.025381  0.004719  0.006093  0.000000  0.006895  0.027917  \n",
       "250  0.035774  0.029967  0.007447  0.010679  0.006895  0.000000  0.032503  \n",
       "251  0.038021  0.011359  0.030327  0.029802  0.027917  0.032503  0.000000  \n",
       "\n",
       "[252 rows x 252 columns]"
      ]
     },
     "execution_count": 3,
     "metadata": {},
     "output_type": "execute_result"
    }
   ],
   "source": [
    "phyl"
   ]
  },
  {
   "cell_type": "code",
   "execution_count": 4,
   "id": "3c5a638b-e0fb-4c94-9f2a-1abb1192a021",
   "metadata": {},
   "outputs": [],
   "source": [
    "colour = pd.read_csv(\"examples/globins/globin_colors_new.csv\")"
   ]
  },
  {
   "cell_type": "code",
   "execution_count": 5,
   "id": "1b18fae5-400e-477e-a735-33a0d84a5766",
   "metadata": {},
   "outputs": [
    {
     "data": {
      "text/html": [
       "<div>\n",
       "<style scoped>\n",
       "    .dataframe tbody tr th:only-of-type {\n",
       "        vertical-align: middle;\n",
       "    }\n",
       "\n",
       "    .dataframe tbody tr th {\n",
       "        vertical-align: top;\n",
       "    }\n",
       "\n",
       "    .dataframe thead th {\n",
       "        text-align: right;\n",
       "    }\n",
       "</style>\n",
       "<table border=\"1\" class=\"dataframe\">\n",
       "  <thead>\n",
       "    <tr style=\"text-align: right;\">\n",
       "      <th></th>\n",
       "      <th>proteins_id</th>\n",
       "      <th>tree1</th>\n",
       "      <th>tree2</th>\n",
       "      <th>tree3</th>\n",
       "      <th>tree4</th>\n",
       "      <th>full_name</th>\n",
       "      <th>short_name</th>\n",
       "      <th>full_species</th>\n",
       "      <th>short_species</th>\n",
       "      <th>evo_distance</th>\n",
       "      <th>Color_species</th>\n",
       "      <th>Domain</th>\n",
       "      <th>Kingdom</th>\n",
       "      <th>Phylum</th>\n",
       "      <th>Subphylum</th>\n",
       "      <th>Class</th>\n",
       "      <th>Genus</th>\n",
       "    </tr>\n",
       "  </thead>\n",
       "  <tbody>\n",
       "    <tr>\n",
       "      <th>0</th>\n",
       "      <td>1</td>\n",
       "      <td>5</td>\n",
       "      <td>3</td>\n",
       "      <td>3</td>\n",
       "      <td>2</td>\n",
       "      <td>Globin C, coelomic</td>\n",
       "      <td>Globin</td>\n",
       "      <td>Caudina arenicola</td>\n",
       "      <td>Caudina</td>\n",
       "      <td>2.101128</td>\n",
       "      <td>Echinodermata</td>\n",
       "      <td>Eukaryota</td>\n",
       "      <td>Metazoa</td>\n",
       "      <td>Echinodermata</td>\n",
       "      <td>Other</td>\n",
       "      <td>Other</td>\n",
       "      <td>Other</td>\n",
       "    </tr>\n",
       "    <tr>\n",
       "      <th>1</th>\n",
       "      <td>2</td>\n",
       "      <td>-1</td>\n",
       "      <td>28</td>\n",
       "      <td>18</td>\n",
       "      <td>10</td>\n",
       "      <td>Globin (Fragment)</td>\n",
       "      <td>Globin</td>\n",
       "      <td>Stegodyphus mimosarum</td>\n",
       "      <td>Stegodyphus</td>\n",
       "      <td>1.757280</td>\n",
       "      <td>Arthropoda</td>\n",
       "      <td>Eukaryota</td>\n",
       "      <td>Metazoa</td>\n",
       "      <td>Arthropoda</td>\n",
       "      <td>Chelicerata</td>\n",
       "      <td>Arachnida</td>\n",
       "      <td>Other</td>\n",
       "    </tr>\n",
       "    <tr>\n",
       "      <th>2</th>\n",
       "      <td>3</td>\n",
       "      <td>-1</td>\n",
       "      <td>27</td>\n",
       "      <td>18</td>\n",
       "      <td>10</td>\n",
       "      <td>Uncharacterized protein</td>\n",
       "      <td>Uncharacterized</td>\n",
       "      <td>Strigamia maritima</td>\n",
       "      <td>Strigamia</td>\n",
       "      <td>2.041487</td>\n",
       "      <td>Arthropoda</td>\n",
       "      <td>Eukaryota</td>\n",
       "      <td>Metazoa</td>\n",
       "      <td>Arthropoda</td>\n",
       "      <td>Other</td>\n",
       "      <td>Other</td>\n",
       "      <td>Other</td>\n",
       "    </tr>\n",
       "    <tr>\n",
       "      <th>3</th>\n",
       "      <td>4</td>\n",
       "      <td>37</td>\n",
       "      <td>27</td>\n",
       "      <td>18</td>\n",
       "      <td>10</td>\n",
       "      <td>Uncharacterized protein</td>\n",
       "      <td>Uncharacterized</td>\n",
       "      <td>Scylla olivacea</td>\n",
       "      <td>Scylla</td>\n",
       "      <td>2.318169</td>\n",
       "      <td>Arthropoda</td>\n",
       "      <td>Eukaryota</td>\n",
       "      <td>Metazoa</td>\n",
       "      <td>Arthropoda</td>\n",
       "      <td>Crustacea</td>\n",
       "      <td>Malacostraca</td>\n",
       "      <td>Other</td>\n",
       "    </tr>\n",
       "    <tr>\n",
       "      <th>4</th>\n",
       "      <td>5</td>\n",
       "      <td>37</td>\n",
       "      <td>27</td>\n",
       "      <td>18</td>\n",
       "      <td>10</td>\n",
       "      <td>Uncharacterized protein</td>\n",
       "      <td>Uncharacterized</td>\n",
       "      <td>Scylla olivacea</td>\n",
       "      <td>Scylla</td>\n",
       "      <td>2.170775</td>\n",
       "      <td>Arthropoda</td>\n",
       "      <td>Eukaryota</td>\n",
       "      <td>Metazoa</td>\n",
       "      <td>Arthropoda</td>\n",
       "      <td>Crustacea</td>\n",
       "      <td>Malacostraca</td>\n",
       "      <td>Other</td>\n",
       "    </tr>\n",
       "    <tr>\n",
       "      <th>...</th>\n",
       "      <td>...</td>\n",
       "      <td>...</td>\n",
       "      <td>...</td>\n",
       "      <td>...</td>\n",
       "      <td>...</td>\n",
       "      <td>...</td>\n",
       "      <td>...</td>\n",
       "      <td>...</td>\n",
       "      <td>...</td>\n",
       "      <td>...</td>\n",
       "      <td>...</td>\n",
       "      <td>...</td>\n",
       "      <td>...</td>\n",
       "      <td>...</td>\n",
       "      <td>...</td>\n",
       "      <td>...</td>\n",
       "      <td>...</td>\n",
       "    </tr>\n",
       "    <tr>\n",
       "      <th>247</th>\n",
       "      <td>248</td>\n",
       "      <td>14</td>\n",
       "      <td>10</td>\n",
       "      <td>9</td>\n",
       "      <td>3</td>\n",
       "      <td>Uncharacterized protein</td>\n",
       "      <td>Uncharacterized</td>\n",
       "      <td>Strongylocentrotus purpuratus</td>\n",
       "      <td>Strongylocentrotus</td>\n",
       "      <td>2.586926</td>\n",
       "      <td>Echinodermata</td>\n",
       "      <td>Eukaryota</td>\n",
       "      <td>Metazoa</td>\n",
       "      <td>Echinodermata</td>\n",
       "      <td>Other</td>\n",
       "      <td>Echinoidea</td>\n",
       "      <td>Strongylocentrotus</td>\n",
       "    </tr>\n",
       "    <tr>\n",
       "      <th>248</th>\n",
       "      <td>249</td>\n",
       "      <td>-1</td>\n",
       "      <td>10</td>\n",
       "      <td>9</td>\n",
       "      <td>3</td>\n",
       "      <td>Uncharacterized protein</td>\n",
       "      <td>Uncharacterized</td>\n",
       "      <td>Strongylocentrotus purpuratus</td>\n",
       "      <td>Strongylocentrotus</td>\n",
       "      <td>2.519191</td>\n",
       "      <td>Echinodermata</td>\n",
       "      <td>Eukaryota</td>\n",
       "      <td>Metazoa</td>\n",
       "      <td>Echinodermata</td>\n",
       "      <td>Other</td>\n",
       "      <td>Echinoidea</td>\n",
       "      <td>Strongylocentrotus</td>\n",
       "    </tr>\n",
       "    <tr>\n",
       "      <th>249</th>\n",
       "      <td>250</td>\n",
       "      <td>14</td>\n",
       "      <td>10</td>\n",
       "      <td>9</td>\n",
       "      <td>3</td>\n",
       "      <td>Uncharacterized protein</td>\n",
       "      <td>Uncharacterized</td>\n",
       "      <td>Strongylocentrotus purpuratus</td>\n",
       "      <td>Strongylocentrotus</td>\n",
       "      <td>2.276065</td>\n",
       "      <td>Echinodermata</td>\n",
       "      <td>Eukaryota</td>\n",
       "      <td>Metazoa</td>\n",
       "      <td>Echinodermata</td>\n",
       "      <td>Other</td>\n",
       "      <td>Echinoidea</td>\n",
       "      <td>Strongylocentrotus</td>\n",
       "    </tr>\n",
       "    <tr>\n",
       "      <th>250</th>\n",
       "      <td>251</td>\n",
       "      <td>14</td>\n",
       "      <td>10</td>\n",
       "      <td>9</td>\n",
       "      <td>3</td>\n",
       "      <td>Uncharacterized protein</td>\n",
       "      <td>Uncharacterized</td>\n",
       "      <td>Strongylocentrotus purpuratus</td>\n",
       "      <td>Strongylocentrotus</td>\n",
       "      <td>2.867471</td>\n",
       "      <td>Echinodermata</td>\n",
       "      <td>Eukaryota</td>\n",
       "      <td>Metazoa</td>\n",
       "      <td>Echinodermata</td>\n",
       "      <td>Other</td>\n",
       "      <td>Echinoidea</td>\n",
       "      <td>Strongylocentrotus</td>\n",
       "    </tr>\n",
       "    <tr>\n",
       "      <th>251</th>\n",
       "      <td>252</td>\n",
       "      <td>-1</td>\n",
       "      <td>25</td>\n",
       "      <td>15</td>\n",
       "      <td>8</td>\n",
       "      <td>Uncharacterized protein</td>\n",
       "      <td>Uncharacterized</td>\n",
       "      <td>Strongyloides stercoralis</td>\n",
       "      <td>Strongyloides</td>\n",
       "      <td>3.192954</td>\n",
       "      <td>Nematoda</td>\n",
       "      <td>Eukaryota</td>\n",
       "      <td>Metazoa</td>\n",
       "      <td>Nematoda</td>\n",
       "      <td>Other</td>\n",
       "      <td>Chromadorea</td>\n",
       "      <td>Other</td>\n",
       "    </tr>\n",
       "  </tbody>\n",
       "</table>\n",
       "<p>252 rows × 17 columns</p>\n",
       "</div>"
      ],
      "text/plain": [
       "     proteins_id  tree1  tree2  tree3  tree4                full_name  \\\n",
       "0              1      5      3      3      2       Globin C, coelomic   \n",
       "1              2     -1     28     18     10        Globin (Fragment)   \n",
       "2              3     -1     27     18     10  Uncharacterized protein   \n",
       "3              4     37     27     18     10  Uncharacterized protein   \n",
       "4              5     37     27     18     10  Uncharacterized protein   \n",
       "..           ...    ...    ...    ...    ...                      ...   \n",
       "247          248     14     10      9      3  Uncharacterized protein   \n",
       "248          249     -1     10      9      3  Uncharacterized protein   \n",
       "249          250     14     10      9      3  Uncharacterized protein   \n",
       "250          251     14     10      9      3  Uncharacterized protein   \n",
       "251          252     -1     25     15      8  Uncharacterized protein   \n",
       "\n",
       "          short_name                   full_species       short_species  \\\n",
       "0             Globin              Caudina arenicola             Caudina   \n",
       "1             Globin          Stegodyphus mimosarum         Stegodyphus   \n",
       "2    Uncharacterized             Strigamia maritima           Strigamia   \n",
       "3    Uncharacterized                Scylla olivacea              Scylla   \n",
       "4    Uncharacterized                Scylla olivacea              Scylla   \n",
       "..               ...                            ...                 ...   \n",
       "247  Uncharacterized  Strongylocentrotus purpuratus  Strongylocentrotus   \n",
       "248  Uncharacterized  Strongylocentrotus purpuratus  Strongylocentrotus   \n",
       "249  Uncharacterized  Strongylocentrotus purpuratus  Strongylocentrotus   \n",
       "250  Uncharacterized  Strongylocentrotus purpuratus  Strongylocentrotus   \n",
       "251  Uncharacterized      Strongyloides stercoralis       Strongyloides   \n",
       "\n",
       "     evo_distance  Color_species     Domain  Kingdom         Phylum  \\\n",
       "0        2.101128  Echinodermata  Eukaryota  Metazoa  Echinodermata   \n",
       "1        1.757280     Arthropoda  Eukaryota  Metazoa     Arthropoda   \n",
       "2        2.041487     Arthropoda  Eukaryota  Metazoa     Arthropoda   \n",
       "3        2.318169     Arthropoda  Eukaryota  Metazoa     Arthropoda   \n",
       "4        2.170775     Arthropoda  Eukaryota  Metazoa     Arthropoda   \n",
       "..            ...            ...        ...      ...            ...   \n",
       "247      2.586926  Echinodermata  Eukaryota  Metazoa  Echinodermata   \n",
       "248      2.519191  Echinodermata  Eukaryota  Metazoa  Echinodermata   \n",
       "249      2.276065  Echinodermata  Eukaryota  Metazoa  Echinodermata   \n",
       "250      2.867471  Echinodermata  Eukaryota  Metazoa  Echinodermata   \n",
       "251      3.192954       Nematoda  Eukaryota  Metazoa       Nematoda   \n",
       "\n",
       "       Subphylum         Class               Genus  \n",
       "0          Other         Other               Other  \n",
       "1    Chelicerata     Arachnida               Other  \n",
       "2          Other         Other               Other  \n",
       "3      Crustacea  Malacostraca               Other  \n",
       "4      Crustacea  Malacostraca               Other  \n",
       "..           ...           ...                 ...  \n",
       "247        Other    Echinoidea  Strongylocentrotus  \n",
       "248        Other    Echinoidea  Strongylocentrotus  \n",
       "249        Other    Echinoidea  Strongylocentrotus  \n",
       "250        Other    Echinoidea  Strongylocentrotus  \n",
       "251        Other   Chromadorea               Other  \n",
       "\n",
       "[252 rows x 17 columns]"
      ]
     },
     "execution_count": 5,
     "metadata": {},
     "output_type": "execute_result"
    }
   ],
   "source": [
    "colour"
   ]
  },
  {
   "cell_type": "markdown",
   "id": "e9bc48bc-6de9-41f0-ba4b-adee0a9dd645",
   "metadata": {},
   "source": [
    "## T-sne"
   ]
  },
  {
   "cell_type": "code",
   "execution_count": 12,
   "id": "70736b4d-5ce3-4ac4-9801-085062321e8b",
   "metadata": {},
   "outputs": [
    {
     "data": {
      "application/vnd.plotly.v1+json": {
       "config": {
        "plotlyServerURL": "https://plot.ly"
       },
       "data": [
        {
         "hovertemplate": "species=Echinodermata<br>0=%{x}<br>1=%{y}<extra></extra>",
         "legendgroup": "Echinodermata",
         "marker": {
          "color": "#636efa",
          "symbol": "circle"
         },
         "mode": "markers",
         "name": "Echinodermata",
         "orientation": "v",
         "showlegend": true,
         "type": "scatter",
         "x": [
          10.894698143005371,
          8.477666854858398,
          10.564939498901367,
          10.649080276489258,
          10.613018989562988,
          -4.487326622009277,
          -4.787860870361328,
          -5.184216499328613,
          -6.073194980621338,
          -3.5923404693603516
         ],
         "xaxis": "x",
         "y": [
          8.200181007385254,
          -1.0246661901474,
          8.902009010314941,
          8.714310646057129,
          8.796062469482422,
          -10.880127906799316,
          -10.941720008850098,
          -11.006844520568848,
          -11.182559967041016,
          -10.715607643127441
         ],
         "yaxis": "y"
        },
        {
         "hovertemplate": "species=Arthropoda<br>0=%{x}<br>1=%{y}<extra></extra>",
         "legendgroup": "Arthropoda",
         "marker": {
          "color": "#EF553B",
          "symbol": "circle"
         },
         "mode": "markers",
         "name": "Arthropoda",
         "orientation": "v",
         "showlegend": true,
         "type": "scatter",
         "x": [
          10.622961044311523,
          11.975312232971191,
          13.628700256347656,
          12.911670684814453,
          12.939834594726562,
          14.039283752441406,
          11.108627319335938,
          10.721823692321777,
          12.21521282196045,
          14.613155364990234,
          10.457220077514648,
          13.77945327758789,
          15.465967178344727,
          15.333131790161133,
          13.774981498718262,
          14.923733711242676,
          15.232852935791016,
          13.778705596923828,
          15.481976509094238,
          14.658649444580078,
          11.75433349609375,
          11.206849098205566,
          10.524893760681152,
          10.620061874389648,
          10.557597160339355,
          13.271827697753906,
          -4.12135124206543,
          13.51313304901123,
          13.329461097717285,
          13.470296859741211,
          12.994709968566895,
          13.128591537475586,
          12.798558235168457,
          12.824219703674316,
          12.80628490447998,
          13.82125473022461,
          13.652162551879883,
          13.58337116241455,
          -3.8391482830047607,
          12.6970796585083,
          7.925481796264648,
          8.255500793457031,
          8.184479713439941,
          -4.3146257400512695,
          9.600711822509766,
          9.936494827270508,
          9.237342834472656,
          9.609004974365234,
          14.223133087158203,
          9.930201530456543,
          10.100618362426758,
          9.759461402893066,
          9.465840339660645,
          15.434819221496582,
          10.574570655822754,
          7.789628028869629,
          8.946927070617676,
          8.980201721191406,
          8.94803237915039,
          10.023276329040527,
          9.538813591003418,
          8.967193603515625,
          9.528365135192871,
          9.57695198059082,
          -3.6234359741210938,
          14.4656982421875,
          9.137635231018066,
          9.347174644470215,
          10.615015029907227,
          10.667047500610352,
          10.3905029296875,
          10.3573579788208,
          10.322993278503418,
          13.128138542175293,
          12.316818237304688,
          10.768621444702148,
          10.79617977142334,
          -1.0887664556503296,
          11.395547866821289,
          12.4424467086792,
          7.929312705993652,
          -1.1539716720581055,
          9.617765426635742,
          10.05827522277832
         ],
         "xaxis": "x",
         "y": [
          0.24880902469158173,
          0.9360682368278503,
          0.824378490447998,
          0.6459959149360657,
          0.6721247434616089,
          1.8184499740600586,
          0.3598243296146393,
          0.09897007793188095,
          0.09995944052934647,
          1.1802644729614258,
          4.369550704956055,
          -0.8019740581512451,
          -1.0453656911849976,
          -0.4742836654186249,
          -0.6755714416503906,
          -0.9052930474281311,
          -1.0753626823425293,
          -0.6809353828430176,
          -1.0359070301055908,
          0.3318882882595062,
          2.301133632659912,
          3.3100781440734863,
          3.2701215744018555,
          3.328324317932129,
          0.7137120366096497,
          0.7830483317375183,
          -15.672189712524414,
          10.55069637298584,
          9.501632690429688,
          9.70701789855957,
          9.19173812866211,
          10.105055809020996,
          9.786459922790527,
          9.422253608703613,
          9.501032829284668,
          10.702852249145508,
          10.073265075683594,
          10.162013053894043,
          -15.673806190490723,
          1.2683260440826416,
          9.92263126373291,
          10.113816261291504,
          10.068977355957031,
          -15.195735931396484,
          14.574983596801758,
          14.643321990966797,
          14.97689151763916,
          14.9306001663208,
          1.8398523330688477,
          13.596033096313477,
          14.159358024597168,
          13.488487243652344,
          11.049278259277344,
          -0.8804347515106201,
          0.00791820790618658,
          9.840675354003906,
          14.16093921661377,
          14.623315811157227,
          14.412005424499512,
          14.218459129333496,
          14.053035736083984,
          13.849287033081055,
          11.112591743469238,
          11.442493438720703,
          -4.656600475311279,
          1.787992238998413,
          13.59731674194336,
          13.37475299835205,
          5.873037815093994,
          6.129633903503418,
          5.393150329589844,
          5.302248954772949,
          5.236095428466797,
          1.367417335510254,
          1.5916938781738281,
          6.898509979248047,
          7.385294437408447,
          -16.178743362426758,
          3.391796588897705,
          3.304452657699585,
          9.914467811584473,
          -16.17951202392578,
          12.240067481994629,
          9.727546691894531
         ],
         "yaxis": "y"
        },
        {
         "hovertemplate": "species=Mollusca<br>0=%{x}<br>1=%{y}<extra></extra>",
         "legendgroup": "Mollusca",
         "marker": {
          "color": "#00cc96",
          "symbol": "circle"
         },
         "mode": "markers",
         "name": "Mollusca",
         "orientation": "v",
         "showlegend": true,
         "type": "scatter",
         "x": [
          11.333511352539062,
          11.867918968200684,
          -2.9146320819854736,
          -5.398684978485107,
          -5.104259967803955,
          -1.7905786037445068,
          -4.425641059875488,
          6.033145427703857,
          6.363008499145508,
          6.5156779289245605,
          5.46142053604126,
          5.642372131347656,
          12.898320198059082,
          -5.261653900146484,
          -4.678102016448975,
          7.262215614318848,
          13.519147872924805,
          13.566834449768066,
          6.961182117462158,
          -4.135222911834717,
          -3.8469722270965576,
          -3.528876543045044,
          11.623854637145996,
          6.318883895874023,
          -6.046224117279053,
          -4.879520416259766,
          -5.735306262969971,
          -2.3935141563415527,
          -3.8134679794311523,
          6.8856329917907715,
          6.858330249786377,
          -0.7561089396476746,
          -0.7100656032562256,
          -0.8105982542037964,
          -0.7446791529655457,
          -0.7158947587013245
         ],
         "xaxis": "x",
         "y": [
          1.3725591897964478,
          1.6544452905654907,
          -15.49504566192627,
          -14.820096969604492,
          -15.025518417358398,
          -15.69778823852539,
          -15.13011646270752,
          1.540702223777771,
          1.032975196838379,
          1.5808477401733398,
          1.3713047504425049,
          1.399759292602539,
          2.1331703662872314,
          -15.082056999206543,
          -14.876349449157715,
          1.1769626140594482,
          2.416635274887085,
          2.434452772140503,
          1.0655367374420166,
          -9.224918365478516,
          -9.132874488830566,
          -8.98774528503418,
          8.369379043579102,
          1.0200897455215454,
          -9.1964111328125,
          -15.396574974060059,
          -9.10196590423584,
          -15.586691856384277,
          -9.091460227966309,
          1.7114249467849731,
          1.7021163702011108,
          -2.2106430530548096,
          -2.2183234691619873,
          -2.2100367546081543,
          -2.217080593109131,
          -2.2155749797821045
         ],
         "yaxis": "y"
        },
        {
         "hovertemplate": "species=Annelida<br>0=%{x}<br>1=%{y}<extra></extra>",
         "legendgroup": "Annelida",
         "marker": {
          "color": "#ab63fa",
          "symbol": "circle"
         },
         "mode": "markers",
         "name": "Annelida",
         "orientation": "v",
         "showlegend": true,
         "type": "scatter",
         "x": [
          -6.806738376617432,
          -5.451528072357178,
          -6.531017303466797,
          -4.821700572967529,
          11.642663955688477,
          -2.0475313663482666,
          10.371060371398926,
          -2.350090265274048,
          -5.720044136047363
         ],
         "xaxis": "x",
         "y": [
          -9.211726188659668,
          -8.870806694030762,
          -9.255702018737793,
          -8.53651237487793,
          2.2561087608337402,
          -15.684959411621094,
          9.367035865783691,
          -15.628369331359863,
          -9.057746887207031
         ],
         "yaxis": "y"
        },
        {
         "hovertemplate": "species=Chordata<br>0=%{x}<br>1=%{y}<extra></extra>",
         "legendgroup": "Chordata",
         "marker": {
          "color": "#FFA15A",
          "symbol": "circle"
         },
         "mode": "markers",
         "name": "Chordata",
         "orientation": "v",
         "showlegend": true,
         "type": "scatter",
         "x": [
          -8.772773742675781,
          -7.68136739730835,
          -7.3425517082214355,
          -14.030625343322754,
          -15.600502967834473,
          -14.417764663696289,
          -14.324165344238281,
          -13.090034484863281,
          -14.087889671325684,
          -14.95319652557373,
          -14.519987106323242,
          -13.378847122192383,
          -13.098052978515625,
          -15.045876502990723,
          -13.691722869873047,
          -15.354374885559082,
          -14.739584922790527,
          -15.456269264221191,
          -15.3811674118042,
          -15.767955780029297,
          -16.722543716430664,
          -14.907320022583008,
          -16.19154930114746,
          -14.653339385986328,
          -16.674392700195312,
          -16.106130599975586,
          -15.946473121643066,
          -15.230382919311523,
          -16.320545196533203,
          -13.295414924621582,
          -15.583930015563965,
          -14.99061393737793,
          -9.135612487792969,
          -3.2370965480804443,
          -2.7976341247558594,
          -2.5779995918273926,
          -4.229794025421143,
          -2.769141912460327,
          -3.588787078857422,
          -4.039133071899414,
          -2.0726706981658936,
          -3.299699544906616,
          -2.436147928237915,
          -1.9864416122436523,
          -1.6258316040039062,
          -2.4537224769592285,
          -7.614370346069336,
          -2.0370538234710693,
          -3.072685718536377,
          -4.3512468338012695,
          -4.337968349456787,
          -4.262833118438721,
          -3.968721389770508,
          -4.863876819610596,
          -4.993316173553467,
          -10.750743865966797,
          -10.086727142333984,
          -10.501123428344727,
          -10.328347206115723,
          -7.3545989990234375,
          -7.635918140411377,
          -7.35297966003418,
          -8.501616477966309,
          -9.239330291748047,
          -8.521703720092773,
          -8.728671073913574,
          -7.9012579917907715,
          -15.045757293701172,
          -7.16054630279541,
          -7.141139507293701,
          -6.519009113311768,
          -11.14384651184082,
          -10.71155071258545,
          -9.405203819274902,
          -10.6402587890625,
          -9.68105697631836,
          -9.475747108459473,
          -10.894865036010742,
          -9.353145599365234,
          -10.88817310333252,
          -10.434738159179688,
          -11.153335571289062,
          -10.696044921875,
          -6.968288898468018,
          -14.304463386535645,
          -14.544248580932617,
          -9.494333267211914,
          -3.5780348777770996
         ],
         "xaxis": "x",
         "y": [
          -14.525118827819824,
          -3.432241678237915,
          -8.615690231323242,
          2.424086809158325,
          2.6887130737304688,
          2.823063850402832,
          3.6928646564483643,
          2.8505632877349854,
          2.0373244285583496,
          3.5792267322540283,
          1.9218528270721436,
          4.010876178741455,
          3.907980442047119,
          2.7542362213134766,
          2.988614082336426,
          3.8926498889923096,
          4.145975112915039,
          2.5523574352264404,
          3.7649500370025635,
          2.1425299644470215,
          2.8097426891326904,
          2.147800922393799,
          2.510843276977539,
          4.022692680358887,
          2.3044023513793945,
          3.5771644115448,
          3.2163937091827393,
          1.3431590795516968,
          1.5896129608154297,
          2.6170921325683594,
          1.4301457405090332,
          1.279949426651001,
          -0.45238450169563293,
          -17.336652755737305,
          -17.0924129486084,
          -18.191862106323242,
          -16.732288360595703,
          -18.1331729888916,
          -16.958656311035156,
          -16.839506149291992,
          -18.100414276123047,
          -17.75168228149414,
          -17.215116500854492,
          -17.94218635559082,
          -17.439685821533203,
          -17.650577545166016,
          -3.393653392791748,
          -17.562463760375977,
          -17.86134910583496,
          -2.6490089893341064,
          -2.6501729488372803,
          -2.648895263671875,
          -2.671679973602295,
          -2.7411348819732666,
          -2.744661808013916,
          0.27553555369377136,
          0.09617649763822556,
          0.20573775470256805,
          0.1542549878358841,
          -0.3503289818763733,
          -0.24559010565280914,
          -0.2520368993282318,
          -0.49765512347221375,
          -0.4805310070514679,
          -0.49523064494132996,
          -0.47713997960090637,
          -0.707785427570343,
          2.751682758331299,
          -3.190931797027588,
          -3.1852715015411377,
          -0.40612685680389404,
          -15.7499361038208,
          -15.506229400634766,
          -14.907361030578613,
          -16.133073806762695,
          -15.089858055114746,
          -14.95445442199707,
          -16.09795570373535,
          -14.874848365783691,
          -15.503676414489746,
          -15.773664474487305,
          -15.952803611755371,
          -16.14727210998535,
          -0.33755260705947876,
          3.64078950881958,
          2.2570643424987793,
          -14.963862419128418,
          -2.8002145290374756
         ],
         "yaxis": "y"
        },
        {
         "hovertemplate": "species=Cnidaria<br>0=%{x}<br>1=%{y}<extra></extra>",
         "legendgroup": "Cnidaria",
         "marker": {
          "color": "#19d3f3",
          "symbol": "circle"
         },
         "mode": "markers",
         "name": "Cnidaria",
         "orientation": "v",
         "showlegend": true,
         "type": "scatter",
         "x": [
          -5.634954452514648,
          -3.0158495903015137,
          -4.52107572555542,
          -4.311194896697998,
          -5.275989055633545,
          -2.287329912185669
         ],
         "xaxis": "x",
         "y": [
          -12.829184532165527,
          -12.025224685668945,
          -12.353671073913574,
          -12.248170852661133,
          -12.612228393554688,
          -10.234776496887207
         ],
         "yaxis": "y"
        },
        {
         "hovertemplate": "species=Porifera<br>0=%{x}<br>1=%{y}<extra></extra>",
         "legendgroup": "Porifera",
         "marker": {
          "color": "#FF6692",
          "symbol": "circle"
         },
         "mode": "markers",
         "name": "Porifera",
         "orientation": "v",
         "showlegend": true,
         "type": "scatter",
         "x": [
          -5.29172420501709
         ],
         "xaxis": "x",
         "y": [
          -10.60454273223877
         ],
         "yaxis": "y"
        },
        {
         "hovertemplate": "species=Placozoa<br>0=%{x}<br>1=%{y}<extra></extra>",
         "legendgroup": "Placozoa",
         "marker": {
          "color": "#B6E880",
          "symbol": "circle"
         },
         "mode": "markers",
         "name": "Placozoa",
         "orientation": "v",
         "showlegend": true,
         "type": "scatter",
         "x": [
          -6.1413798332214355
         ],
         "xaxis": "x",
         "y": [
          -9.9767427444458
         ],
         "yaxis": "y"
        },
        {
         "hovertemplate": "species=Bacteria<br>0=%{x}<br>1=%{y}<extra></extra>",
         "legendgroup": "Bacteria",
         "marker": {
          "color": "#FF97FF",
          "symbol": "circle"
         },
         "mode": "markers",
         "name": "Bacteria",
         "orientation": "v",
         "showlegend": true,
         "type": "scatter",
         "x": [
          -2.893795967102051,
          -2.626725912094116,
          -5.139184474945068
         ],
         "xaxis": "x",
         "y": [
          -10.553223609924316,
          -10.460740089416504,
          -11.064855575561523
         ],
         "yaxis": "y"
        },
        {
         "hovertemplate": "species=Nematoda<br>0=%{x}<br>1=%{y}<extra></extra>",
         "legendgroup": "Nematoda",
         "marker": {
          "color": "#FECB52",
          "symbol": "circle"
         },
         "mode": "markers",
         "name": "Nematoda",
         "orientation": "v",
         "showlegend": true,
         "type": "scatter",
         "x": [
          13.038741111755371,
          12.799958229064941,
          13.245281219482422,
          -1.9304778575897217,
          -1.6472796201705933,
          -1.7613917589187622,
          -2.049264430999756,
          -1.7330666780471802,
          -2.6847221851348877,
          -2.392869234085083
         ],
         "xaxis": "x",
         "y": [
          3.898235559463501,
          3.7720725536346436,
          4.014067649841309,
          -7.048305988311768,
          -6.891392707824707,
          -6.940133571624756,
          -7.086979866027832,
          -6.919772624969482,
          -4.550293922424316,
          -4.535333633422852
         ],
         "yaxis": "y"
        },
        {
         "hovertemplate": "species=Hemichordata<br>0=%{x}<br>1=%{y}<extra></extra>",
         "legendgroup": "Hemichordata",
         "marker": {
          "color": "#636efa",
          "symbol": "circle"
         },
         "mode": "markers",
         "name": "Hemichordata",
         "orientation": "v",
         "showlegend": true,
         "type": "scatter",
         "x": [
          -7.030388832092285
         ],
         "xaxis": "x",
         "y": [
          -3.0910189151763916
         ],
         "yaxis": "y"
        },
        {
         "hovertemplate": "species=Fungi<br>0=%{x}<br>1=%{y}<extra></extra>",
         "legendgroup": "Fungi",
         "marker": {
          "color": "#EF553B",
          "symbol": "circle"
         },
         "mode": "markers",
         "name": "Fungi",
         "orientation": "v",
         "showlegend": true,
         "type": "scatter",
         "x": [
          -0.5134105086326599,
          -0.3779238760471344
         ],
         "xaxis": "x",
         "y": [
          -9.00153636932373,
          -8.955682754516602
         ],
         "yaxis": "y"
        },
        {
         "hovertemplate": "species=Viridiplantae<br>0=%{x}<br>1=%{y}<extra></extra>",
         "legendgroup": "Viridiplantae",
         "marker": {
          "color": "#00cc96",
          "symbol": "circle"
         },
         "mode": "markers",
         "name": "Viridiplantae",
         "orientation": "v",
         "showlegend": true,
         "type": "scatter",
         "x": [
          -4.164237022399902
         ],
         "xaxis": "x",
         "y": [
          -10.68660831451416
         ],
         "yaxis": "y"
        }
       ],
       "layout": {
        "height": 900,
        "legend": {
         "title": {
          "text": "species"
         },
         "tracegroupgap": 0
        },
        "margin": {
         "t": 60
        },
        "template": {
         "data": {
          "bar": [
           {
            "error_x": {
             "color": "#2a3f5f"
            },
            "error_y": {
             "color": "#2a3f5f"
            },
            "marker": {
             "line": {
              "color": "#E5ECF6",
              "width": 0.5
             },
             "pattern": {
              "fillmode": "overlay",
              "size": 10,
              "solidity": 0.2
             }
            },
            "type": "bar"
           }
          ],
          "barpolar": [
           {
            "marker": {
             "line": {
              "color": "#E5ECF6",
              "width": 0.5
             },
             "pattern": {
              "fillmode": "overlay",
              "size": 10,
              "solidity": 0.2
             }
            },
            "type": "barpolar"
           }
          ],
          "carpet": [
           {
            "aaxis": {
             "endlinecolor": "#2a3f5f",
             "gridcolor": "white",
             "linecolor": "white",
             "minorgridcolor": "white",
             "startlinecolor": "#2a3f5f"
            },
            "baxis": {
             "endlinecolor": "#2a3f5f",
             "gridcolor": "white",
             "linecolor": "white",
             "minorgridcolor": "white",
             "startlinecolor": "#2a3f5f"
            },
            "type": "carpet"
           }
          ],
          "choropleth": [
           {
            "colorbar": {
             "outlinewidth": 0,
             "ticks": ""
            },
            "type": "choropleth"
           }
          ],
          "contour": [
           {
            "colorbar": {
             "outlinewidth": 0,
             "ticks": ""
            },
            "colorscale": [
             [
              0,
              "#0d0887"
             ],
             [
              0.1111111111111111,
              "#46039f"
             ],
             [
              0.2222222222222222,
              "#7201a8"
             ],
             [
              0.3333333333333333,
              "#9c179e"
             ],
             [
              0.4444444444444444,
              "#bd3786"
             ],
             [
              0.5555555555555556,
              "#d8576b"
             ],
             [
              0.6666666666666666,
              "#ed7953"
             ],
             [
              0.7777777777777778,
              "#fb9f3a"
             ],
             [
              0.8888888888888888,
              "#fdca26"
             ],
             [
              1,
              "#f0f921"
             ]
            ],
            "type": "contour"
           }
          ],
          "contourcarpet": [
           {
            "colorbar": {
             "outlinewidth": 0,
             "ticks": ""
            },
            "type": "contourcarpet"
           }
          ],
          "heatmap": [
           {
            "colorbar": {
             "outlinewidth": 0,
             "ticks": ""
            },
            "colorscale": [
             [
              0,
              "#0d0887"
             ],
             [
              0.1111111111111111,
              "#46039f"
             ],
             [
              0.2222222222222222,
              "#7201a8"
             ],
             [
              0.3333333333333333,
              "#9c179e"
             ],
             [
              0.4444444444444444,
              "#bd3786"
             ],
             [
              0.5555555555555556,
              "#d8576b"
             ],
             [
              0.6666666666666666,
              "#ed7953"
             ],
             [
              0.7777777777777778,
              "#fb9f3a"
             ],
             [
              0.8888888888888888,
              "#fdca26"
             ],
             [
              1,
              "#f0f921"
             ]
            ],
            "type": "heatmap"
           }
          ],
          "heatmapgl": [
           {
            "colorbar": {
             "outlinewidth": 0,
             "ticks": ""
            },
            "colorscale": [
             [
              0,
              "#0d0887"
             ],
             [
              0.1111111111111111,
              "#46039f"
             ],
             [
              0.2222222222222222,
              "#7201a8"
             ],
             [
              0.3333333333333333,
              "#9c179e"
             ],
             [
              0.4444444444444444,
              "#bd3786"
             ],
             [
              0.5555555555555556,
              "#d8576b"
             ],
             [
              0.6666666666666666,
              "#ed7953"
             ],
             [
              0.7777777777777778,
              "#fb9f3a"
             ],
             [
              0.8888888888888888,
              "#fdca26"
             ],
             [
              1,
              "#f0f921"
             ]
            ],
            "type": "heatmapgl"
           }
          ],
          "histogram": [
           {
            "marker": {
             "pattern": {
              "fillmode": "overlay",
              "size": 10,
              "solidity": 0.2
             }
            },
            "type": "histogram"
           }
          ],
          "histogram2d": [
           {
            "colorbar": {
             "outlinewidth": 0,
             "ticks": ""
            },
            "colorscale": [
             [
              0,
              "#0d0887"
             ],
             [
              0.1111111111111111,
              "#46039f"
             ],
             [
              0.2222222222222222,
              "#7201a8"
             ],
             [
              0.3333333333333333,
              "#9c179e"
             ],
             [
              0.4444444444444444,
              "#bd3786"
             ],
             [
              0.5555555555555556,
              "#d8576b"
             ],
             [
              0.6666666666666666,
              "#ed7953"
             ],
             [
              0.7777777777777778,
              "#fb9f3a"
             ],
             [
              0.8888888888888888,
              "#fdca26"
             ],
             [
              1,
              "#f0f921"
             ]
            ],
            "type": "histogram2d"
           }
          ],
          "histogram2dcontour": [
           {
            "colorbar": {
             "outlinewidth": 0,
             "ticks": ""
            },
            "colorscale": [
             [
              0,
              "#0d0887"
             ],
             [
              0.1111111111111111,
              "#46039f"
             ],
             [
              0.2222222222222222,
              "#7201a8"
             ],
             [
              0.3333333333333333,
              "#9c179e"
             ],
             [
              0.4444444444444444,
              "#bd3786"
             ],
             [
              0.5555555555555556,
              "#d8576b"
             ],
             [
              0.6666666666666666,
              "#ed7953"
             ],
             [
              0.7777777777777778,
              "#fb9f3a"
             ],
             [
              0.8888888888888888,
              "#fdca26"
             ],
             [
              1,
              "#f0f921"
             ]
            ],
            "type": "histogram2dcontour"
           }
          ],
          "mesh3d": [
           {
            "colorbar": {
             "outlinewidth": 0,
             "ticks": ""
            },
            "type": "mesh3d"
           }
          ],
          "parcoords": [
           {
            "line": {
             "colorbar": {
              "outlinewidth": 0,
              "ticks": ""
             }
            },
            "type": "parcoords"
           }
          ],
          "pie": [
           {
            "automargin": true,
            "type": "pie"
           }
          ],
          "scatter": [
           {
            "fillpattern": {
             "fillmode": "overlay",
             "size": 10,
             "solidity": 0.2
            },
            "type": "scatter"
           }
          ],
          "scatter3d": [
           {
            "line": {
             "colorbar": {
              "outlinewidth": 0,
              "ticks": ""
             }
            },
            "marker": {
             "colorbar": {
              "outlinewidth": 0,
              "ticks": ""
             }
            },
            "type": "scatter3d"
           }
          ],
          "scattercarpet": [
           {
            "marker": {
             "colorbar": {
              "outlinewidth": 0,
              "ticks": ""
             }
            },
            "type": "scattercarpet"
           }
          ],
          "scattergeo": [
           {
            "marker": {
             "colorbar": {
              "outlinewidth": 0,
              "ticks": ""
             }
            },
            "type": "scattergeo"
           }
          ],
          "scattergl": [
           {
            "marker": {
             "colorbar": {
              "outlinewidth": 0,
              "ticks": ""
             }
            },
            "type": "scattergl"
           }
          ],
          "scattermapbox": [
           {
            "marker": {
             "colorbar": {
              "outlinewidth": 0,
              "ticks": ""
             }
            },
            "type": "scattermapbox"
           }
          ],
          "scatterpolar": [
           {
            "marker": {
             "colorbar": {
              "outlinewidth": 0,
              "ticks": ""
             }
            },
            "type": "scatterpolar"
           }
          ],
          "scatterpolargl": [
           {
            "marker": {
             "colorbar": {
              "outlinewidth": 0,
              "ticks": ""
             }
            },
            "type": "scatterpolargl"
           }
          ],
          "scatterternary": [
           {
            "marker": {
             "colorbar": {
              "outlinewidth": 0,
              "ticks": ""
             }
            },
            "type": "scatterternary"
           }
          ],
          "surface": [
           {
            "colorbar": {
             "outlinewidth": 0,
             "ticks": ""
            },
            "colorscale": [
             [
              0,
              "#0d0887"
             ],
             [
              0.1111111111111111,
              "#46039f"
             ],
             [
              0.2222222222222222,
              "#7201a8"
             ],
             [
              0.3333333333333333,
              "#9c179e"
             ],
             [
              0.4444444444444444,
              "#bd3786"
             ],
             [
              0.5555555555555556,
              "#d8576b"
             ],
             [
              0.6666666666666666,
              "#ed7953"
             ],
             [
              0.7777777777777778,
              "#fb9f3a"
             ],
             [
              0.8888888888888888,
              "#fdca26"
             ],
             [
              1,
              "#f0f921"
             ]
            ],
            "type": "surface"
           }
          ],
          "table": [
           {
            "cells": {
             "fill": {
              "color": "#EBF0F8"
             },
             "line": {
              "color": "white"
             }
            },
            "header": {
             "fill": {
              "color": "#C8D4E3"
             },
             "line": {
              "color": "white"
             }
            },
            "type": "table"
           }
          ]
         },
         "layout": {
          "annotationdefaults": {
           "arrowcolor": "#2a3f5f",
           "arrowhead": 0,
           "arrowwidth": 1
          },
          "autotypenumbers": "strict",
          "coloraxis": {
           "colorbar": {
            "outlinewidth": 0,
            "ticks": ""
           }
          },
          "colorscale": {
           "diverging": [
            [
             0,
             "#8e0152"
            ],
            [
             0.1,
             "#c51b7d"
            ],
            [
             0.2,
             "#de77ae"
            ],
            [
             0.3,
             "#f1b6da"
            ],
            [
             0.4,
             "#fde0ef"
            ],
            [
             0.5,
             "#f7f7f7"
            ],
            [
             0.6,
             "#e6f5d0"
            ],
            [
             0.7,
             "#b8e186"
            ],
            [
             0.8,
             "#7fbc41"
            ],
            [
             0.9,
             "#4d9221"
            ],
            [
             1,
             "#276419"
            ]
           ],
           "sequential": [
            [
             0,
             "#0d0887"
            ],
            [
             0.1111111111111111,
             "#46039f"
            ],
            [
             0.2222222222222222,
             "#7201a8"
            ],
            [
             0.3333333333333333,
             "#9c179e"
            ],
            [
             0.4444444444444444,
             "#bd3786"
            ],
            [
             0.5555555555555556,
             "#d8576b"
            ],
            [
             0.6666666666666666,
             "#ed7953"
            ],
            [
             0.7777777777777778,
             "#fb9f3a"
            ],
            [
             0.8888888888888888,
             "#fdca26"
            ],
            [
             1,
             "#f0f921"
            ]
           ],
           "sequentialminus": [
            [
             0,
             "#0d0887"
            ],
            [
             0.1111111111111111,
             "#46039f"
            ],
            [
             0.2222222222222222,
             "#7201a8"
            ],
            [
             0.3333333333333333,
             "#9c179e"
            ],
            [
             0.4444444444444444,
             "#bd3786"
            ],
            [
             0.5555555555555556,
             "#d8576b"
            ],
            [
             0.6666666666666666,
             "#ed7953"
            ],
            [
             0.7777777777777778,
             "#fb9f3a"
            ],
            [
             0.8888888888888888,
             "#fdca26"
            ],
            [
             1,
             "#f0f921"
            ]
           ]
          },
          "colorway": [
           "#636efa",
           "#EF553B",
           "#00cc96",
           "#ab63fa",
           "#FFA15A",
           "#19d3f3",
           "#FF6692",
           "#B6E880",
           "#FF97FF",
           "#FECB52"
          ],
          "font": {
           "color": "#2a3f5f"
          },
          "geo": {
           "bgcolor": "white",
           "lakecolor": "white",
           "landcolor": "#E5ECF6",
           "showlakes": true,
           "showland": true,
           "subunitcolor": "white"
          },
          "hoverlabel": {
           "align": "left"
          },
          "hovermode": "closest",
          "mapbox": {
           "style": "light"
          },
          "paper_bgcolor": "white",
          "plot_bgcolor": "#E5ECF6",
          "polar": {
           "angularaxis": {
            "gridcolor": "white",
            "linecolor": "white",
            "ticks": ""
           },
           "bgcolor": "#E5ECF6",
           "radialaxis": {
            "gridcolor": "white",
            "linecolor": "white",
            "ticks": ""
           }
          },
          "scene": {
           "xaxis": {
            "backgroundcolor": "#E5ECF6",
            "gridcolor": "white",
            "gridwidth": 2,
            "linecolor": "white",
            "showbackground": true,
            "ticks": "",
            "zerolinecolor": "white"
           },
           "yaxis": {
            "backgroundcolor": "#E5ECF6",
            "gridcolor": "white",
            "gridwidth": 2,
            "linecolor": "white",
            "showbackground": true,
            "ticks": "",
            "zerolinecolor": "white"
           },
           "zaxis": {
            "backgroundcolor": "#E5ECF6",
            "gridcolor": "white",
            "gridwidth": 2,
            "linecolor": "white",
            "showbackground": true,
            "ticks": "",
            "zerolinecolor": "white"
           }
          },
          "shapedefaults": {
           "line": {
            "color": "#2a3f5f"
           }
          },
          "ternary": {
           "aaxis": {
            "gridcolor": "white",
            "linecolor": "white",
            "ticks": ""
           },
           "baxis": {
            "gridcolor": "white",
            "linecolor": "white",
            "ticks": ""
           },
           "bgcolor": "#E5ECF6",
           "caxis": {
            "gridcolor": "white",
            "linecolor": "white",
            "ticks": ""
           }
          },
          "title": {
           "x": 0.05
          },
          "xaxis": {
           "automargin": true,
           "gridcolor": "white",
           "linecolor": "white",
           "ticks": "",
           "title": {
            "standoff": 15
           },
           "zerolinecolor": "white",
           "zerolinewidth": 2
          },
          "yaxis": {
           "automargin": true,
           "gridcolor": "white",
           "linecolor": "white",
           "ticks": "",
           "title": {
            "standoff": 15
           },
           "zerolinecolor": "white",
           "zerolinewidth": 2
          }
         }
        },
        "width": 1000,
        "xaxis": {
         "anchor": "y",
         "domain": [
          0,
          1
         ],
         "dtick": 5,
         "range": [
          -20,
          20
         ],
         "title": {
          "text": "0"
         },
         "type": "linear"
        },
        "yaxis": {
         "anchor": "x",
         "domain": [
          0,
          1
         ],
         "range": [
          -20,
          20
         ],
         "title": {
          "text": "1"
         },
         "type": "linear"
        }
       }
      },
      "image/png": "[encoded data removed]",
      "text/html": [
       "<div>                            <div id=\"0bfbcbfa-cc5e-4ec2-ba98-ce244351601f\" class=\"plotly-graph-div\" style=\"height:900px; width:1000px;\"></div>            <script type=\"text/javascript\">                require([\"plotly\"], function(Plotly) {                    window.PLOTLYENV=window.PLOTLYENV || {};                                    if (document.getElementById(\"0bfbcbfa-cc5e-4ec2-ba98-ce244351601f\")) {                    Plotly.newPlot(                        \"0bfbcbfa-cc5e-4ec2-ba98-ce244351601f\",                        [{\"hovertemplate\":\"species=Echinodermata<br>0=%{x}<br>1=%{y}<extra></extra>\",\"legendgroup\":\"Echinodermata\",\"marker\":{\"color\":\"#636efa\",\"symbol\":\"circle\"},\"mode\":\"markers\",\"name\":\"Echinodermata\",\"orientation\":\"v\",\"showlegend\":true,\"x\":[10.894698143005371,8.477666854858398,10.564939498901367,10.649080276489258,10.613018989562988,-4.487326622009277,-4.787860870361328,-5.184216499328613,-6.073194980621338,-3.5923404693603516],\"xaxis\":\"x\",\"y\":[8.200181007385254,-1.0246661901474,8.902009010314941,8.714310646057129,8.796062469482422,-10.880127906799316,-10.941720008850098,-11.006844520568848,-11.182559967041016,-10.715607643127441],\"yaxis\":\"y\",\"type\":\"scatter\"},{\"hovertemplate\":\"species=Arthropoda<br>0=%{x}<br>1=%{y}<extra></extra>\",\"legendgroup\":\"Arthropoda\",\"marker\":{\"color\":\"#EF553B\",\"symbol\":\"circle\"},\"mode\":\"markers\",\"name\":\"Arthropoda\",\"orientation\":\"v\",\"showlegend\":true,\"x\":[10.622961044311523,11.975312232971191,13.628700256347656,12.911670684814453,12.939834594726562,14.039283752441406,11.108627319335938,10.721823692321777,12.21521282196045,14.613155364990234,10.457220077514648,13.77945327758789,15.465967178344727,15.333131790161133,13.774981498718262,14.923733711242676,15.232852935791016,13.778705596923828,15.481976509094238,14.658649444580078,11.75433349609375,11.206849098205566,10.524893760681152,10.620061874389648,10.557597160339355,13.271827697753906,-4.12135124206543,13.51313304901123,13.329461097717285,13.470296859741211,12.994709968566895,13.128591537475586,12.798558235168457,12.824219703674316,12.80628490447998,13.82125473022461,13.652162551879883,13.58337116241455,-3.8391482830047607,12.6970796585083,7.925481796264648,8.255500793457031,8.184479713439941,-4.3146257400512695,9.600711822509766,9.936494827270508,9.237342834472656,9.609004974365234,14.223133087158203,9.930201530456543,10.100618362426758,9.759461402893066,9.465840339660645,15.434819221496582,10.574570655822754,7.789628028869629,8.946927070617676,8.980201721191406,8.94803237915039,10.023276329040527,9.538813591003418,8.967193603515625,9.528365135192871,9.57695198059082,-3.6234359741210938,14.4656982421875,9.137635231018066,9.347174644470215,10.615015029907227,10.667047500610352,10.3905029296875,10.3573579788208,10.322993278503418,13.128138542175293,12.316818237304688,10.768621444702148,10.79617977142334,-1.0887664556503296,11.395547866821289,12.4424467086792,7.929312705993652,-1.1539716720581055,9.617765426635742,10.05827522277832],\"xaxis\":\"x\",\"y\":[0.24880902469158173,0.9360682368278503,0.824378490447998,0.6459959149360657,0.6721247434616089,1.8184499740600586,0.3598243296146393,0.09897007793188095,0.09995944052934647,1.1802644729614258,4.369550704956055,-0.8019740581512451,-1.0453656911849976,-0.4742836654186249,-0.6755714416503906,-0.9052930474281311,-1.0753626823425293,-0.6809353828430176,-1.0359070301055908,0.3318882882595062,2.301133632659912,3.3100781440734863,3.2701215744018555,3.328324317932129,0.7137120366096497,0.7830483317375183,-15.672189712524414,10.55069637298584,9.501632690429688,9.70701789855957,9.19173812866211,10.105055809020996,9.786459922790527,9.422253608703613,9.501032829284668,10.702852249145508,10.073265075683594,10.162013053894043,-15.673806190490723,1.2683260440826416,9.92263126373291,10.113816261291504,10.068977355957031,-15.195735931396484,14.574983596801758,14.643321990966797,14.97689151763916,14.9306001663208,1.8398523330688477,13.596033096313477,14.159358024597168,13.488487243652344,11.049278259277344,-0.8804347515106201,0.00791820790618658,9.840675354003906,14.16093921661377,14.623315811157227,14.412005424499512,14.218459129333496,14.053035736083984,13.849287033081055,11.112591743469238,11.442493438720703,-4.656600475311279,1.787992238998413,13.59731674194336,13.37475299835205,5.873037815093994,6.129633903503418,5.393150329589844,5.302248954772949,5.236095428466797,1.367417335510254,1.5916938781738281,6.898509979248047,7.385294437408447,-16.178743362426758,3.391796588897705,3.304452657699585,9.914467811584473,-16.17951202392578,12.240067481994629,9.727546691894531],\"yaxis\":\"y\",\"type\":\"scatter\"},{\"hovertemplate\":\"species=Mollusca<br>0=%{x}<br>1=%{y}<extra></extra>\",\"legendgroup\":\"Mollusca\",\"marker\":{\"color\":\"#00cc96\",\"symbol\":\"circle\"},\"mode\":\"markers\",\"name\":\"Mollusca\",\"orientation\":\"v\",\"showlegend\":true,\"x\":[11.333511352539062,11.867918968200684,-2.9146320819854736,-5.398684978485107,-5.104259967803955,-1.7905786037445068,-4.425641059875488,6.033145427703857,6.363008499145508,6.5156779289245605,5.46142053604126,5.642372131347656,12.898320198059082,-5.261653900146484,-4.678102016448975,7.262215614318848,13.519147872924805,13.566834449768066,6.961182117462158,-4.135222911834717,-3.8469722270965576,-3.528876543045044,11.623854637145996,6.318883895874023,-6.046224117279053,-4.879520416259766,-5.735306262969971,-2.3935141563415527,-3.8134679794311523,6.8856329917907715,6.858330249786377,-0.7561089396476746,-0.7100656032562256,-0.8105982542037964,-0.7446791529655457,-0.7158947587013245],\"xaxis\":\"x\",\"y\":[1.3725591897964478,1.6544452905654907,-15.49504566192627,-14.820096969604492,-15.025518417358398,-15.69778823852539,-15.13011646270752,1.540702223777771,1.032975196838379,1.5808477401733398,1.3713047504425049,1.399759292602539,2.1331703662872314,-15.082056999206543,-14.876349449157715,1.1769626140594482,2.416635274887085,2.434452772140503,1.0655367374420166,-9.224918365478516,-9.132874488830566,-8.98774528503418,8.369379043579102,1.0200897455215454,-9.1964111328125,-15.396574974060059,-9.10196590423584,-15.586691856384277,-9.091460227966309,1.7114249467849731,1.7021163702011108,-2.2106430530548096,-2.2183234691619873,-2.2100367546081543,-2.217080593109131,-2.2155749797821045],\"yaxis\":\"y\",\"type\":\"scatter\"},{\"hovertemplate\":\"species=Annelida<br>0=%{x}<br>1=%{y}<extra></extra>\",\"legendgroup\":\"Annelida\",\"marker\":{\"color\":\"#ab63fa\",\"symbol\":\"circle\"},\"mode\":\"markers\",\"name\":\"Annelida\",\"orientation\":\"v\",\"showlegend\":true,\"x\":[-6.806738376617432,-5.451528072357178,-6.531017303466797,-4.821700572967529,11.642663955688477,-2.0475313663482666,10.371060371398926,-2.350090265274048,-5.720044136047363],\"xaxis\":\"x\",\"y\":[-9.211726188659668,-8.870806694030762,-9.255702018737793,-8.53651237487793,2.2561087608337402,-15.684959411621094,9.367035865783691,-15.628369331359863,-9.057746887207031],\"yaxis\":\"y\",\"type\":\"scatter\"},{\"hovertemplate\":\"species=Chordata<br>0=%{x}<br>1=%{y}<extra></extra>\",\"legendgroup\":\"Chordata\",\"marker\":{\"color\":\"#FFA15A\",\"symbol\":\"circle\"},\"mode\":\"markers\",\"name\":\"Chordata\",\"orientation\":\"v\",\"showlegend\":true,\"x\":[-8.772773742675781,-7.68136739730835,-7.3425517082214355,-14.030625343322754,-15.600502967834473,-14.417764663696289,-14.324165344238281,-13.090034484863281,-14.087889671325684,-14.95319652557373,-14.519987106323242,-13.378847122192383,-13.098052978515625,-15.045876502990723,-13.691722869873047,-15.354374885559082,-14.739584922790527,-15.456269264221191,-15.3811674118042,-15.767955780029297,-16.722543716430664,-14.907320022583008,-16.19154930114746,-14.653339385986328,-16.674392700195312,-16.106130599975586,-15.946473121643066,-15.230382919311523,-16.320545196533203,-13.295414924621582,-15.583930015563965,-14.99061393737793,-9.135612487792969,-3.2370965480804443,-2.7976341247558594,-2.5779995918273926,-4.229794025421143,-2.769141912460327,-3.588787078857422,-4.039133071899414,-2.0726706981658936,-3.299699544906616,-2.436147928237915,-1.9864416122436523,-1.6258316040039062,-2.4537224769592285,-7.614370346069336,-2.0370538234710693,-3.072685718536377,-4.3512468338012695,-4.337968349456787,-4.262833118438721,-3.968721389770508,-4.863876819610596,-4.993316173553467,-10.750743865966797,-10.086727142333984,-10.501123428344727,-10.328347206115723,-7.3545989990234375,-7.635918140411377,-7.35297966003418,-8.501616477966309,-9.239330291748047,-8.521703720092773,-8.728671073913574,-7.9012579917907715,-15.045757293701172,-7.16054630279541,-7.141139507293701,-6.519009113311768,-11.14384651184082,-10.71155071258545,-9.405203819274902,-10.6402587890625,-9.68105697631836,-9.475747108459473,-10.894865036010742,-9.353145599365234,-10.88817310333252,-10.434738159179688,-11.153335571289062,-10.696044921875,-6.968288898468018,-14.304463386535645,-14.544248580932617,-9.494333267211914,-3.5780348777770996],\"xaxis\":\"x\",\"y\":[-14.525118827819824,-3.432241678237915,-8.615690231323242,2.424086809158325,2.6887130737304688,2.823063850402832,3.6928646564483643,2.8505632877349854,2.0373244285583496,3.5792267322540283,1.9218528270721436,4.010876178741455,3.907980442047119,2.7542362213134766,2.988614082336426,3.8926498889923096,4.145975112915039,2.5523574352264404,3.7649500370025635,2.1425299644470215,2.8097426891326904,2.147800922393799,2.510843276977539,4.022692680358887,2.3044023513793945,3.5771644115448,3.2163937091827393,1.3431590795516968,1.5896129608154297,2.6170921325683594,1.4301457405090332,1.279949426651001,-0.45238450169563293,-17.336652755737305,-17.0924129486084,-18.191862106323242,-16.732288360595703,-18.1331729888916,-16.958656311035156,-16.839506149291992,-18.100414276123047,-17.75168228149414,-17.215116500854492,-17.94218635559082,-17.439685821533203,-17.650577545166016,-3.393653392791748,-17.562463760375977,-17.86134910583496,-2.6490089893341064,-2.6501729488372803,-2.648895263671875,-2.671679973602295,-2.7411348819732666,-2.744661808013916,0.27553555369377136,0.09617649763822556,0.20573775470256805,0.1542549878358841,-0.3503289818763733,-0.24559010565280914,-0.2520368993282318,-0.49765512347221375,-0.4805310070514679,-0.49523064494132996,-0.47713997960090637,-0.707785427570343,2.751682758331299,-3.190931797027588,-3.1852715015411377,-0.40612685680389404,-15.7499361038208,-15.506229400634766,-14.907361030578613,-16.133073806762695,-15.089858055114746,-14.95445442199707,-16.09795570373535,-14.874848365783691,-15.503676414489746,-15.773664474487305,-15.952803611755371,-16.14727210998535,-0.33755260705947876,3.64078950881958,2.2570643424987793,-14.963862419128418,-2.8002145290374756],\"yaxis\":\"y\",\"type\":\"scatter\"},{\"hovertemplate\":\"species=Cnidaria<br>0=%{x}<br>1=%{y}<extra></extra>\",\"legendgroup\":\"Cnidaria\",\"marker\":{\"color\":\"#19d3f3\",\"symbol\":\"circle\"},\"mode\":\"markers\",\"name\":\"Cnidaria\",\"orientation\":\"v\",\"showlegend\":true,\"x\":[-5.634954452514648,-3.0158495903015137,-4.52107572555542,-4.311194896697998,-5.275989055633545,-2.287329912185669],\"xaxis\":\"x\",\"y\":[-12.829184532165527,-12.025224685668945,-12.353671073913574,-12.248170852661133,-12.612228393554688,-10.234776496887207],\"yaxis\":\"y\",\"type\":\"scatter\"},{\"hovertemplate\":\"species=Porifera<br>0=%{x}<br>1=%{y}<extra></extra>\",\"legendgroup\":\"Porifera\",\"marker\":{\"color\":\"#FF6692\",\"symbol\":\"circle\"},\"mode\":\"markers\",\"name\":\"Porifera\",\"orientation\":\"v\",\"showlegend\":true,\"x\":[-5.29172420501709],\"xaxis\":\"x\",\"y\":[-10.60454273223877],\"yaxis\":\"y\",\"type\":\"scatter\"},{\"hovertemplate\":\"species=Placozoa<br>0=%{x}<br>1=%{y}<extra></extra>\",\"legendgroup\":\"Placozoa\",\"marker\":{\"color\":\"#B6E880\",\"symbol\":\"circle\"},\"mode\":\"markers\",\"name\":\"Placozoa\",\"orientation\":\"v\",\"showlegend\":true,\"x\":[-6.1413798332214355],\"xaxis\":\"x\",\"y\":[-9.9767427444458],\"yaxis\":\"y\",\"type\":\"scatter\"},{\"hovertemplate\":\"species=Bacteria<br>0=%{x}<br>1=%{y}<extra></extra>\",\"legendgroup\":\"Bacteria\",\"marker\":{\"color\":\"#FF97FF\",\"symbol\":\"circle\"},\"mode\":\"markers\",\"name\":\"Bacteria\",\"orientation\":\"v\",\"showlegend\":true,\"x\":[-2.893795967102051,-2.626725912094116,-5.139184474945068],\"xaxis\":\"x\",\"y\":[-10.553223609924316,-10.460740089416504,-11.064855575561523],\"yaxis\":\"y\",\"type\":\"scatter\"},{\"hovertemplate\":\"species=Nematoda<br>0=%{x}<br>1=%{y}<extra></extra>\",\"legendgroup\":\"Nematoda\",\"marker\":{\"color\":\"#FECB52\",\"symbol\":\"circle\"},\"mode\":\"markers\",\"name\":\"Nematoda\",\"orientation\":\"v\",\"showlegend\":true,\"x\":[13.038741111755371,12.799958229064941,13.245281219482422,-1.9304778575897217,-1.6472796201705933,-1.7613917589187622,-2.049264430999756,-1.7330666780471802,-2.6847221851348877,-2.392869234085083],\"xaxis\":\"x\",\"y\":[3.898235559463501,3.7720725536346436,4.014067649841309,-7.048305988311768,-6.891392707824707,-6.940133571624756,-7.086979866027832,-6.919772624969482,-4.550293922424316,-4.535333633422852],\"yaxis\":\"y\",\"type\":\"scatter\"},{\"hovertemplate\":\"species=Hemichordata<br>0=%{x}<br>1=%{y}<extra></extra>\",\"legendgroup\":\"Hemichordata\",\"marker\":{\"color\":\"#636efa\",\"symbol\":\"circle\"},\"mode\":\"markers\",\"name\":\"Hemichordata\",\"orientation\":\"v\",\"showlegend\":true,\"x\":[-7.030388832092285],\"xaxis\":\"x\",\"y\":[-3.0910189151763916],\"yaxis\":\"y\",\"type\":\"scatter\"},{\"hovertemplate\":\"species=Fungi<br>0=%{x}<br>1=%{y}<extra></extra>\",\"legendgroup\":\"Fungi\",\"marker\":{\"color\":\"#EF553B\",\"symbol\":\"circle\"},\"mode\":\"markers\",\"name\":\"Fungi\",\"orientation\":\"v\",\"showlegend\":true,\"x\":[-0.5134105086326599,-0.3779238760471344],\"xaxis\":\"x\",\"y\":[-9.00153636932373,-8.955682754516602],\"yaxis\":\"y\",\"type\":\"scatter\"},{\"hovertemplate\":\"species=Viridiplantae<br>0=%{x}<br>1=%{y}<extra></extra>\",\"legendgroup\":\"Viridiplantae\",\"marker\":{\"color\":\"#00cc96\",\"symbol\":\"circle\"},\"mode\":\"markers\",\"name\":\"Viridiplantae\",\"orientation\":\"v\",\"showlegend\":true,\"x\":[-4.164237022399902],\"xaxis\":\"x\",\"y\":[-10.68660831451416],\"yaxis\":\"y\",\"type\":\"scatter\"}],                        {\"template\":{\"data\":{\"histogram2dcontour\":[{\"type\":\"histogram2dcontour\",\"colorbar\":{\"outlinewidth\":0,\"ticks\":\"\"},\"colorscale\":[[0.0,\"#0d0887\"],[0.1111111111111111,\"#46039f\"],[0.2222222222222222,\"#7201a8\"],[0.3333333333333333,\"#9c179e\"],[0.4444444444444444,\"#bd3786\"],[0.5555555555555556,\"#d8576b\"],[0.6666666666666666,\"#ed7953\"],[0.7777777777777778,\"#fb9f3a\"],[0.8888888888888888,\"#fdca26\"],[1.0,\"#f0f921\"]]}],\"choropleth\":[{\"type\":\"choropleth\",\"colorbar\":{\"outlinewidth\":0,\"ticks\":\"\"}}],\"histogram2d\":[{\"type\":\"histogram2d\",\"colorbar\":{\"outlinewidth\":0,\"ticks\":\"\"},\"colorscale\":[[0.0,\"#0d0887\"],[0.1111111111111111,\"#46039f\"],[0.2222222222222222,\"#7201a8\"],[0.3333333333333333,\"#9c179e\"],[0.4444444444444444,\"#bd3786\"],[0.5555555555555556,\"#d8576b\"],[0.6666666666666666,\"#ed7953\"],[0.7777777777777778,\"#fb9f3a\"],[0.8888888888888888,\"#fdca26\"],[1.0,\"#f0f921\"]]}],\"heatmap\":[{\"type\":\"heatmap\",\"colorbar\":{\"outlinewidth\":0,\"ticks\":\"\"},\"colorscale\":[[0.0,\"#0d0887\"],[0.1111111111111111,\"#46039f\"],[0.2222222222222222,\"#7201a8\"],[0.3333333333333333,\"#9c179e\"],[0.4444444444444444,\"#bd3786\"],[0.5555555555555556,\"#d8576b\"],[0.6666666666666666,\"#ed7953\"],[0.7777777777777778,\"#fb9f3a\"],[0.8888888888888888,\"#fdca26\"],[1.0,\"#f0f921\"]]}],\"heatmapgl\":[{\"type\":\"heatmapgl\",\"colorbar\":{\"outlinewidth\":0,\"ticks\":\"\"},\"colorscale\":[[0.0,\"#0d0887\"],[0.1111111111111111,\"#46039f\"],[0.2222222222222222,\"#7201a8\"],[0.3333333333333333,\"#9c179e\"],[0.4444444444444444,\"#bd3786\"],[0.5555555555555556,\"#d8576b\"],[0.6666666666666666,\"#ed7953\"],[0.7777777777777778,\"#fb9f3a\"],[0.8888888888888888,\"#fdca26\"],[1.0,\"#f0f921\"]]}],\"contourcarpet\":[{\"type\":\"contourcarpet\",\"colorbar\":{\"outlinewidth\":0,\"ticks\":\"\"}}],\"contour\":[{\"type\":\"contour\",\"colorbar\":{\"outlinewidth\":0,\"ticks\":\"\"},\"colorscale\":[[0.0,\"#0d0887\"],[0.1111111111111111,\"#46039f\"],[0.2222222222222222,\"#7201a8\"],[0.3333333333333333,\"#9c179e\"],[0.4444444444444444,\"#bd3786\"],[0.5555555555555556,\"#d8576b\"],[0.6666666666666666,\"#ed7953\"],[0.7777777777777778,\"#fb9f3a\"],[0.8888888888888888,\"#fdca26\"],[1.0,\"#f0f921\"]]}],\"surface\":[{\"type\":\"surface\",\"colorbar\":{\"outlinewidth\":0,\"ticks\":\"\"},\"colorscale\":[[0.0,\"#0d0887\"],[0.1111111111111111,\"#46039f\"],[0.2222222222222222,\"#7201a8\"],[0.3333333333333333,\"#9c179e\"],[0.4444444444444444,\"#bd3786\"],[0.5555555555555556,\"#d8576b\"],[0.6666666666666666,\"#ed7953\"],[0.7777777777777778,\"#fb9f3a\"],[0.8888888888888888,\"#fdca26\"],[1.0,\"#f0f921\"]]}],\"mesh3d\":[{\"type\":\"mesh3d\",\"colorbar\":{\"outlinewidth\":0,\"ticks\":\"\"}}],\"scatter\":[{\"fillpattern\":{\"fillmode\":\"overlay\",\"size\":10,\"solidity\":0.2},\"type\":\"scatter\"}],\"parcoords\":[{\"type\":\"parcoords\",\"line\":{\"colorbar\":{\"outlinewidth\":0,\"ticks\":\"\"}}}],\"scatterpolargl\":[{\"type\":\"scatterpolargl\",\"marker\":{\"colorbar\":{\"outlinewidth\":0,\"ticks\":\"\"}}}],\"bar\":[{\"error_x\":{\"color\":\"#2a3f5f\"},\"error_y\":{\"color\":\"#2a3f5f\"},\"marker\":{\"line\":{\"color\":\"#E5ECF6\",\"width\":0.5},\"pattern\":{\"fillmode\":\"overlay\",\"size\":10,\"solidity\":0.2}},\"type\":\"bar\"}],\"scattergeo\":[{\"type\":\"scattergeo\",\"marker\":{\"colorbar\":{\"outlinewidth\":0,\"ticks\":\"\"}}}],\"scatterpolar\":[{\"type\":\"scatterpolar\",\"marker\":{\"colorbar\":{\"outlinewidth\":0,\"ticks\":\"\"}}}],\"histogram\":[{\"marker\":{\"pattern\":{\"fillmode\":\"overlay\",\"size\":10,\"solidity\":0.2}},\"type\":\"histogram\"}],\"scattergl\":[{\"type\":\"scattergl\",\"marker\":{\"colorbar\":{\"outlinewidth\":0,\"ticks\":\"\"}}}],\"scatter3d\":[{\"type\":\"scatter3d\",\"line\":{\"colorbar\":{\"outlinewidth\":0,\"ticks\":\"\"}},\"marker\":{\"colorbar\":{\"outlinewidth\":0,\"ticks\":\"\"}}}],\"scattermapbox\":[{\"type\":\"scattermapbox\",\"marker\":{\"colorbar\":{\"outlinewidth\":0,\"ticks\":\"\"}}}],\"scatterternary\":[{\"type\":\"scatterternary\",\"marker\":{\"colorbar\":{\"outlinewidth\":0,\"ticks\":\"\"}}}],\"scattercarpet\":[{\"type\":\"scattercarpet\",\"marker\":{\"colorbar\":{\"outlinewidth\":0,\"ticks\":\"\"}}}],\"carpet\":[{\"aaxis\":{\"endlinecolor\":\"#2a3f5f\",\"gridcolor\":\"white\",\"linecolor\":\"white\",\"minorgridcolor\":\"white\",\"startlinecolor\":\"#2a3f5f\"},\"baxis\":{\"endlinecolor\":\"#2a3f5f\",\"gridcolor\":\"white\",\"linecolor\":\"white\",\"minorgridcolor\":\"white\",\"startlinecolor\":\"#2a3f5f\"},\"type\":\"carpet\"}],\"table\":[{\"cells\":{\"fill\":{\"color\":\"#EBF0F8\"},\"line\":{\"color\":\"white\"}},\"header\":{\"fill\":{\"color\":\"#C8D4E3\"},\"line\":{\"color\":\"white\"}},\"type\":\"table\"}],\"barpolar\":[{\"marker\":{\"line\":{\"color\":\"#E5ECF6\",\"width\":0.5},\"pattern\":{\"fillmode\":\"overlay\",\"size\":10,\"solidity\":0.2}},\"type\":\"barpolar\"}],\"pie\":[{\"automargin\":true,\"type\":\"pie\"}]},\"layout\":{\"autotypenumbers\":\"strict\",\"colorway\":[\"#636efa\",\"#EF553B\",\"#00cc96\",\"#ab63fa\",\"#FFA15A\",\"#19d3f3\",\"#FF6692\",\"#B6E880\",\"#FF97FF\",\"#FECB52\"],\"font\":{\"color\":\"#2a3f5f\"},\"hovermode\":\"closest\",\"hoverlabel\":{\"align\":\"left\"},\"paper_bgcolor\":\"white\",\"plot_bgcolor\":\"#E5ECF6\",\"polar\":{\"bgcolor\":\"#E5ECF6\",\"angularaxis\":{\"gridcolor\":\"white\",\"linecolor\":\"white\",\"ticks\":\"\"},\"radialaxis\":{\"gridcolor\":\"white\",\"linecolor\":\"white\",\"ticks\":\"\"}},\"ternary\":{\"bgcolor\":\"#E5ECF6\",\"aaxis\":{\"gridcolor\":\"white\",\"linecolor\":\"white\",\"ticks\":\"\"},\"baxis\":{\"gridcolor\":\"white\",\"linecolor\":\"white\",\"ticks\":\"\"},\"caxis\":{\"gridcolor\":\"white\",\"linecolor\":\"white\",\"ticks\":\"\"}},\"coloraxis\":{\"colorbar\":{\"outlinewidth\":0,\"ticks\":\"\"}},\"colorscale\":{\"sequential\":[[0.0,\"#0d0887\"],[0.1111111111111111,\"#46039f\"],[0.2222222222222222,\"#7201a8\"],[0.3333333333333333,\"#9c179e\"],[0.4444444444444444,\"#bd3786\"],[0.5555555555555556,\"#d8576b\"],[0.6666666666666666,\"#ed7953\"],[0.7777777777777778,\"#fb9f3a\"],[0.8888888888888888,\"#fdca26\"],[1.0,\"#f0f921\"]],\"sequentialminus\":[[0.0,\"#0d0887\"],[0.1111111111111111,\"#46039f\"],[0.2222222222222222,\"#7201a8\"],[0.3333333333333333,\"#9c179e\"],[0.4444444444444444,\"#bd3786\"],[0.5555555555555556,\"#d8576b\"],[0.6666666666666666,\"#ed7953\"],[0.7777777777777778,\"#fb9f3a\"],[0.8888888888888888,\"#fdca26\"],[1.0,\"#f0f921\"]],\"diverging\":[[0,\"#8e0152\"],[0.1,\"#c51b7d\"],[0.2,\"#de77ae\"],[0.3,\"#f1b6da\"],[0.4,\"#fde0ef\"],[0.5,\"#f7f7f7\"],[0.6,\"#e6f5d0\"],[0.7,\"#b8e186\"],[0.8,\"#7fbc41\"],[0.9,\"#4d9221\"],[1,\"#276419\"]]},\"xaxis\":{\"gridcolor\":\"white\",\"linecolor\":\"white\",\"ticks\":\"\",\"title\":{\"standoff\":15},\"zerolinecolor\":\"white\",\"automargin\":true,\"zerolinewidth\":2},\"yaxis\":{\"gridcolor\":\"white\",\"linecolor\":\"white\",\"ticks\":\"\",\"title\":{\"standoff\":15},\"zerolinecolor\":\"white\",\"automargin\":true,\"zerolinewidth\":2},\"scene\":{\"xaxis\":{\"backgroundcolor\":\"#E5ECF6\",\"gridcolor\":\"white\",\"linecolor\":\"white\",\"showbackground\":true,\"ticks\":\"\",\"zerolinecolor\":\"white\",\"gridwidth\":2},\"yaxis\":{\"backgroundcolor\":\"#E5ECF6\",\"gridcolor\":\"white\",\"linecolor\":\"white\",\"showbackground\":true,\"ticks\":\"\",\"zerolinecolor\":\"white\",\"gridwidth\":2},\"zaxis\":{\"backgroundcolor\":\"#E5ECF6\",\"gridcolor\":\"white\",\"linecolor\":\"white\",\"showbackground\":true,\"ticks\":\"\",\"zerolinecolor\":\"white\",\"gridwidth\":2}},\"shapedefaults\":{\"line\":{\"color\":\"#2a3f5f\"}},\"annotationdefaults\":{\"arrowcolor\":\"#2a3f5f\",\"arrowhead\":0,\"arrowwidth\":1},\"geo\":{\"bgcolor\":\"white\",\"landcolor\":\"#E5ECF6\",\"subunitcolor\":\"white\",\"showland\":true,\"showlakes\":true,\"lakecolor\":\"white\"},\"title\":{\"x\":0.05},\"mapbox\":{\"style\":\"light\"}}},\"xaxis\":{\"anchor\":\"y\",\"domain\":[0.0,1.0],\"title\":{\"text\":\"0\"},\"range\":[-20,20],\"dtick\":5},\"yaxis\":{\"anchor\":\"x\",\"domain\":[0.0,1.0],\"title\":{\"text\":\"1\"},\"range\":[-20,20]},\"legend\":{\"title\":{\"text\":\"species\"},\"tracegroupgap\":0},\"margin\":{\"t\":60},\"width\":1000,\"height\":900},                        {\"responsive\": true}                    ).then(function(){\n",
       "                            \n",
       "var gd = document.getElementById('0bfbcbfa-cc5e-4ec2-ba98-ce244351601f');\n",
       "var x = new MutationObserver(function (mutations, observer) {{\n",
       "        var display = window.getComputedStyle(gd).display;\n",
       "        if (!display || display === 'none') {{\n",
       "            console.log([gd, 'removed!']);\n",
       "            Plotly.purge(gd);\n",
       "            observer.disconnect();\n",
       "        }}\n",
       "}});\n",
       "\n",
       "// Listen for the removal of the full notebook cells\n",
       "var notebookContainer = gd.closest('#notebook-container');\n",
       "if (notebookContainer) {{\n",
       "    x.observe(notebookContainer, {childList: true});\n",
       "}}\n",
       "\n",
       "// Listen for the clearing of the current output cell\n",
       "var outputEl = gd.closest('.output');\n",
       "if (outputEl) {{\n",
       "    x.observe(outputEl, {childList: true});\n",
       "}}\n",
       "\n",
       "                        })                };                });            </script>        </div>"
      ]
     },
     "metadata": {},
     "output_type": "display_data"
    }
   ],
   "source": [
    "# component = 2 car on veut 2 dimensions\n",
    "tsne_2d = TSNE(n_components=2, random_state=0)\n",
    "proj_tsne_phyl_2d = tsne_2d.fit_transform(phyl)\n",
    "\n",
    "tsne_phyl_2d = px.scatter(\n",
    "    proj_tsne_phyl_2d, x=0, y=1,\n",
    "    color=colour.Color_species, labels={'color': 'species'}\n",
    ")\n",
    "tsne_phyl_2d.update_layout(xaxis_range=[-20, 20], yaxis_range=[-20, 20])\n",
    "tsne_phyl_2d.update_layout(width=1000, height=900)\n",
    "tsne_phyl_2d.update_xaxes(dtick=5)\n",
    "tsne_phyl_2d.show()"
   ]
  },
  {
   "cell_type": "code",
   "execution_count": 8,
   "id": "c1127cb6-c473-4ec6-ad24-331667ec234c",
   "metadata": {},
   "outputs": [
    {
     "data": {
      "application/vnd.plotly.v1+json": {
       "config": {
        "plotlyServerURL": "https://plot.ly"
       },
       "data": [
        {
         "hovertemplate": "species=Echinodermata<br>0=%{x}<br>1=%{y}<br>2=%{z}<extra></extra>",
         "legendgroup": "Echinodermata",
         "marker": {
          "color": "#636efa",
          "size": 8,
          "symbol": "circle"
         },
         "mode": "markers",
         "name": "Echinodermata",
         "scene": "scene",
         "showlegend": true,
         "type": "scatter3d",
         "x": [
          19.550983428955078,
          -2.8738081455230713,
          46.72747039794922,
          27.628173828125,
          47.89548110961914,
          -43.104949951171875,
          -50.77176284790039,
          135.7803497314453,
          28.735353469848633,
          -63.5841064453125
         ],
         "y": [
          8.31236457824707,
          24.971729278564453,
          -18.642282485961914,
          -12.338838577270508,
          -6.892178535461426,
          -32.84587860107422,
          -21.938383102416992,
          54.31452178955078,
          -18.640342712402344,
          -48.0361328125
         ],
         "z": [
          55.44425582885742,
          -17.725950241088867,
          39.765716552734375,
          51.394683837890625,
          58.73202896118164,
          -64.78450775146484,
          -43.02083206176758,
          25.960966110229492,
          -33.032588958740234,
          -56.35420608520508
         ]
        },
        {
         "hovertemplate": "species=Arthropoda<br>0=%{x}<br>1=%{y}<br>2=%{z}<extra></extra>",
         "legendgroup": "Arthropoda",
         "marker": {
          "color": "#EF553B",
          "size": 8,
          "symbol": "circle"
         },
         "mode": "markers",
         "name": "Arthropoda",
         "scene": "scene",
         "showlegend": true,
         "type": "scatter3d",
         "x": [
          58.26402282714844,
          62.04618453979492,
          22.626379013061523,
          36.17905044555664,
          47.86189651489258,
          5.384304046630859,
          65.29521942138672,
          82.37435913085938,
          -10.358962059020996,
          -17.9217472076416,
          0.35414719581604004,
          3.3517134189605713,
          -12.317937850952148,
          6.3820600509643555,
          15.603108406066895,
          1.8534423112869263,
          57.11621856689453,
          -11.670939445495605,
          -25.43861198425293,
          -6.750023365020752,
          41.926971435546875,
          -52.47219467163086,
          27.52747917175293,
          30.48629379272461,
          74.66678619384766,
          40.170555114746094,
          -1.3923721313476562,
          52.924442291259766,
          46.70157241821289,
          14.301992416381836,
          22.873628616333008,
          19.07455825805664,
          27.576446533203125,
          47.53478240966797,
          38.79913330078125,
          55.768863677978516,
          -0.1433449387550354,
          76.68354797363281,
          12.426353454589844,
          -82.21711730957031,
          -5.1546196937561035,
          70.47293090820312,
          57.31905746459961,
          30.410053253173828,
          98.79058074951172,
          118.49417114257812,
          129.0641326904297,
          128.40184020996094,
          20.419605255126953,
          86.67084503173828,
          100.82865905761719,
          102.82141876220703,
          67.07449340820312,
          -22.367034912109375,
          75.9537353515625,
          58.5665397644043,
          139.26254272460938,
          140.78529357910156,
          139.8643035888672,
          116.35206604003906,
          113.53157806396484,
          117.50146484375,
          86.50849151611328,
          78.20692443847656,
          0.6852213144302368,
          5.8506975173950195,
          119.41886138916016,
          94.99457550048828,
          -13.509560585021973,
          9.943124771118164,
          17.623390197753906,
          -5.174483299255371,
          -35.31511306762695,
          38.57345962524414,
          41.14506912231445,
          29.319849014282227,
          45.7445182800293,
          -43.994327545166016,
          22.889053344726562,
          27.633197784423828,
          44.834617614746094,
          -33.844058990478516,
          82.0643539428711,
          39.26383590698242
         ],
         "y": [
          67.46241760253906,
          94.6235580444336,
          106.3133316040039,
          127.28761291503906,
          108.26715850830078,
          71.8316879272461,
          77.68881225585938,
          78.3677749633789,
          119.1109848022461,
          87.57781982421875,
          40.270652770996094,
          119.30328369140625,
          150.7639923095703,
          -66.01200866699219,
          126.44202423095703,
          137.61843872070312,
          143.74954223632812,
          102.89282989501953,
          136.36276245117188,
          107.88732147216797,
          55.32073974609375,
          103.41432189941406,
          27.42115592956543,
          44.751678466796875,
          63.54569625854492,
          107.9525146484375,
          -31.03611946105957,
          -55.10531234741211,
          12.573853492736816,
          -18.521953582763672,
          -19.687591552734375,
          9.016621589660645,
          6.385380268096924,
          -12.907967567443848,
          -10.58596134185791,
          -79.70117950439453,
          -0.05370224639773369,
          -68.39971923828125,
          -51.890281677246094,
          -79.23445892333984,
          59.975460052490234,
          -59.623878479003906,
          -60.76264572143555,
          -32.371788024902344,
          8.41646957397461,
          11.712240219116211,
          -16.811019897460938,
          -30.080305099487305,
          76.42530822753906,
          -8.60255241394043,
          -25.102903366088867,
          -10.816506385803223,
          -31.87381935119629,
          126.90132904052734,
          53.67753219604492,
          -84.24606323242188,
          -1.06424081325531,
          -23.30145263671875,
          4.202053546905518,
          -7.743801593780518,
          -33.877479553222656,
          -6.198098182678223,
          -28.481964111328125,
          -9.60019588470459,
          -17.7933292388916,
          95.22574615478516,
          18.510658264160156,
          13.904804229736328,
          38.774208068847656,
          16.62672996520996,
          38.919986724853516,
          35.70648956298828,
          24.202852249145508,
          84.19695281982422,
          78.82740020751953,
          3.835597038269043,
          15.698175430297852,
          -43.69849395751953,
          29.340316772460938,
          55.71827697753906,
          -65.74675750732422,
          -65.70175170898438,
          -30.830001831054688,
          -35.76832580566406
         ],
         "z": [
          50.27604293823242,
          -30.341279983520508,
          -3.464668035507202,
          -1.3454580307006836,
          -11.951022148132324,
          4.264812469482422,
          24.31475830078125,
          45.0515022277832,
          24.1195125579834,
          8.352375030517578,
          13.102725982666016,
          -45.63471603393555,
          -22.515085220336914,
          106.93179321289062,
          -27.90546989440918,
          -4.095602512359619,
          15.459031105041504,
          -53.33783721923828,
          -3.163618803024292,
          -9.554916381835938,
          -33.20313262939453,
          -10.175546646118164,
          -26.00179100036621,
          17.848352432250977,
          -32.020633697509766,
          16.018705368041992,
          -75.50511932373047,
          29.999597549438477,
          100.48352813720703,
          90.40889739990234,
          115.30204010009766,
          92.49970245361328,
          117.67110443115234,
          114.35919189453125,
          91.22136688232422,
          21.476261138916016,
          107.7816162109375,
          37.14948654174805,
          -81.6021499633789,
          58.289344787597656,
          -100.22442626953125,
          86.45040130615234,
          65.73590087890625,
          -79.11962890625,
          11.900686264038086,
          57.50452423095703,
          59.74332809448242,
          12.79271411895752,
          21.699270248413086,
          29.71495246887207,
          14.498910903930664,
          52.66486358642578,
          71.99925994873047,
          -27.6328182220459,
          36.4941291809082,
          77.47173309326172,
          15.736089706420898,
          35.7135124206543,
          42.689273834228516,
          30.335098266601562,
          39.116695404052734,
          0.6637871265411377,
          82.65479278564453,
          71.02571105957031,
          23.729473114013672,
          16.25523567199707,
          27.331838607788086,
          42.16395950317383,
          -43.99277877807617,
          28.686553955078125,
          42.65483856201172,
          41.445247650146484,
          -49.068363189697266,
          3.32462477684021,
          -21.2558536529541,
          24.254165649414062,
          38.20323944091797,
          -117.2627944946289,
          -0.8429644107818604,
          -7.777320384979248,
          87.44673919677734,
          -119.4260025024414,
          48.33356857299805,
          65.35564422607422
         ]
        },
        {
         "hovertemplate": "species=Mollusca<br>0=%{x}<br>1=%{y}<br>2=%{z}<extra></extra>",
         "legendgroup": "Mollusca",
         "marker": {
          "color": "#00cc96",
          "size": 8,
          "symbol": "circle"
         },
         "mode": "markers",
         "name": "Mollusca",
         "scene": "scene",
         "showlegend": true,
         "type": "scatter3d",
         "x": [
          69.5677719116211,
          41.39292526245117,
          0.8639047145843506,
          17.282522201538086,
          24.05949592590332,
          -33.41844940185547,
          -3.489255428314209,
          14.931904792785645,
          0.6753513216972351,
          100.64070892333984,
          34.39752197265625,
          18.949419021606445,
          15.297564506530762,
          40.20660400390625,
          12.375133514404297,
          -13.110610008239746,
          12.399657249450684,
          -7.765386581420898,
          -14.858389854431152,
          -46.62869644165039,
          -59.67863082885742,
          -51.28302764892578,
          36.64373779296875,
          13.532388687133789,
          -0.9140104651451111,
          16.892499923706055,
          -9.841085433959961,
          -54.349151611328125,
          -14.058272361755371,
          19.362958908081055,
          -1.7914584875106812,
          78.38452911376953,
          73.74481964111328,
          74.14024353027344,
          93.27980041503906,
          95.66730499267578
         ],
         "y": [
          79.98912048339844,
          82.50804901123047,
          -32.9904670715332,
          7.888024806976318,
          -7.877684593200684,
          -0.20292505621910095,
          -5.907600402832031,
          103.66802978515625,
          98.05955505371094,
          56.302425384521484,
          99.5520248413086,
          118.32935333251953,
          83.82837677001953,
          -3.3015589714050293,
          14.188735961914062,
          74.1241455078125,
          84.8730239868164,
          76.73966979980469,
          98.53419494628906,
          -33.960365295410156,
          -51.35392761230469,
          -59.595638275146484,
          18.554763793945312,
          77.78375244140625,
          -30.44417953491211,
          -17.541954040527344,
          -37.3487434387207,
          -60.9342155456543,
          148.5868682861328,
          76.65250396728516,
          82.9560546875,
          -54.06205368041992,
          -71.09808349609375,
          -47.33372497558594,
          -39.34006118774414,
          -62.441261291503906
         ],
         "z": [
          -6.290360927581787,
          -47.380672454833984,
          -100.63064575195312,
          -58.6763916015625,
          -86.10533142089844,
          -127.98665618896484,
          -76.71034240722656,
          60.59613037109375,
          88.09941101074219,
          -2.951900005340576,
          80.62190246582031,
          80.32624816894531,
          -42.68681335449219,
          -66.55402374267578,
          -83.46111297607422,
          72.25305938720703,
          -18.524553298950195,
          -24.44872283935547,
          66.8363265991211,
          -8.945718765258789,
          -20.982200622558594,
          0.13985082507133484,
          68.7839126586914,
          84.44244384765625,
          -23.464962005615234,
          -62.13237762451172,
          -0.31295961141586304,
          79.53864288330078,
          49.74711990356445,
          58.177215576171875,
          49.220027923583984,
          -18.085525512695312,
          -34.555789947509766,
          -41.915016174316406,
          -30.36167335510254,
          -35.457332611083984
         ]
        },
        {
         "hovertemplate": "species=Annelida<br>0=%{x}<br>1=%{y}<br>2=%{z}<extra></extra>",
         "legendgroup": "Annelida",
         "marker": {
          "color": "#ab63fa",
          "size": 8,
          "symbol": "circle"
         },
         "mode": "markers",
         "name": "Annelida",
         "scene": "scene",
         "showlegend": true,
         "type": "scatter3d",
         "x": [
          9.531103134155273,
          0.2608893811702728,
          17.081785202026367,
          -24.08479881286621,
          17.716527938842773,
          -19.977304458618164,
          27.464609146118164,
          -36.34244155883789,
          -21.057313919067383
         ],
         "y": [
          -10.090770721435547,
          -56.36507034301758,
          -33.01665115356445,
          -63.5123405456543,
          55.28293991088867,
          -52.14936065673828,
          -37.1209831237793,
          -80.39276885986328,
          -43.10702133178711
         ],
         "z": [
          -10.771700859069824,
          -15.720498085021973,
          -8.277770042419434,
          -7.857794284820557,
          -35.91756820678711,
          -98.36251068115234,
          44.67442321777344,
          70.2308120727539,
          -21.614500045776367
         ]
        },
        {
         "hovertemplate": "species=Chordata<br>0=%{x}<br>1=%{y}<br>2=%{z}<extra></extra>",
         "legendgroup": "Chordata",
         "marker": {
          "color": "#FFA15A",
          "size": 8,
          "symbol": "circle"
         },
         "mode": "markers",
         "name": "Chordata",
         "scene": "scene",
         "showlegend": true,
         "type": "scatter3d",
         "x": [
          27.12456512451172,
          -28.640684127807617,
          -4.063662528991699,
          -125.67876434326172,
          68.76801300048828,
          -100.31012725830078,
          -116.61406707763672,
          -109.94759368896484,
          -88.95125579833984,
          -161.9104461669922,
          51.10253143310547,
          -134.95094299316406,
          -122.08580017089844,
          -96.28986358642578,
          -100.45836639404297,
          -130.54075622558594,
          -139.63059997558594,
          -118.03975677490234,
          -132.44219970703125,
          -32.009483337402344,
          -134.7002716064453,
          -108.07799530029297,
          -126.3651123046875,
          -150.75277709960938,
          -139.6932373046875,
          -149.1925811767578,
          -110.50170135498047,
          82.05623626708984,
          -152.85397338867188,
          -118.66687774658203,
          -102.38188934326172,
          -101.64163208007812,
          -65.57952880859375,
          41.25629425048828,
          18.03677749633789,
          24.417659759521484,
          1.6496368646621704,
          -19.724781036376953,
          -20.59906005859375,
          -59.603092193603516,
          17.294137954711914,
          37.88954162597656,
          -35.065460205078125,
          -10.431952476501465,
          -1.0042290687561035,
          2.3122544288635254,
          -37.62238311767578,
          3.9916775226593018,
          19.88727569580078,
          -38.300418853759766,
          -22.55651092529297,
          -15.506061553955078,
          -17.9074649810791,
          -43.12607955932617,
          -28.07135772705078,
          -74.17194366455078,
          -59.79250717163086,
          -73.81525421142578,
          -83.03144836425781,
          -70.55438995361328,
          -60.18901062011719,
          -66.80572509765625,
          -50.77016067504883,
          -76.73023223876953,
          25.646657943725586,
          -63.51152038574219,
          -42.659332275390625,
          -102.6920394897461,
          -20.621360778808594,
          -33.67564392089844,
          -58.44060516357422,
          -22.460081100463867,
          -7.20194673538208,
          12.764156341552734,
          -5.95585823059082,
          34.643272399902344,
          -6.776120662689209,
          -30.16621971130371,
          9.74634075164795,
          15.786172866821289,
          2.909433364868164,
          -14.99644660949707,
          -31.4195556640625,
          -79.7435302734375,
          -139.93057250976562,
          -133.27635192871094,
          18.081090927124023,
          67.30529022216797
         ],
         "y": [
          -84.40252685546875,
          30.799335479736328,
          4.233653545379639,
          10.15295124053955,
          17.25227928161621,
          0.8680810332298279,
          -4.8382134437561035,
          25.43303108215332,
          -3.033304214477539,
          -3.419398546218872,
          35.807125091552734,
          41.138771057128906,
          28.51743507385254,
          -7.986888408660889,
          19.708160400390625,
          -42.05441665649414,
          -16.510265350341797,
          -3.935490608215332,
          -16.671707153320312,
          -108.17301177978516,
          -31.940027236938477,
          18.391624450683594,
          -26.0972843170166,
          22.56507110595703,
          -2.3368139266967773,
          -5.198301792144775,
          -14.355586051940918,
          44.24628829956055,
          -37.44628143310547,
          42.47099685668945,
          -36.05858612060547,
          -29.1841983795166,
          26.04666519165039,
          -24.21661376953125,
          -54.51237869262695,
          -27.29657554626465,
          0.8954323530197144,
          -27.65164566040039,
          -16.09879493713379,
          -100.49803924560547,
          -56.988685607910156,
          -41.826297760009766,
          -56.78675079345703,
          -56.643959045410156,
          -36.55846405029297,
          -8.750988960266113,
          12.5261869430542,
          -36.00611114501953,
          -15.534146308898926,
          -24.0914306640625,
          -30.72747802734375,
          -15.121273040771484,
          -39.63264846801758,
          -17.739004135131836,
          -2.46305513381958,
          18.486785888671875,
          44.320030212402344,
          36.3426399230957,
          44.68330764770508,
          45.03636169433594,
          22.319290161132812,
          -42.39325714111328,
          47.167701721191406,
          46.37373733520508,
          -106.18212890625,
          26.422954559326172,
          40.362789154052734,
          -30.369508743286133,
          6.763189792633057,
          19.35370635986328,
          69.8186264038086,
          -109.97779846191406,
          -129.56515502929688,
          -93.76850891113281,
          -143.84072875976562,
          69.6026611328125,
          -102.97295379638672,
          -135.99925231933594,
          -100.93995666503906,
          -134.5233612060547,
          -112.89128112792969,
          -122.99932098388672,
          -124.9923324584961,
          -62.664669036865234,
          9.61691665649414,
          24.445911407470703,
          -115.43341064453125,
          -4.726425647735596
         ],
         "z": [
          -47.40078353881836,
          -4.331230163574219,
          -26.347639083862305,
          13.536304473876953,
          -111.46165466308594,
          -28.76993751525879,
          -6.649869918823242,
          -7.195183753967285,
          39.38824462890625,
          1.7055357694625854,
          -89.40454864501953,
          -12.45803451538086,
          -34.37139892578125,
          12.23398494720459,
          19.242408752441406,
          -3.8757035732269287,
          -0.9869250655174255,
          35.296566009521484,
          -28.628725051879883,
          -87.49442291259766,
          51.05669403076172,
          50.135040283203125,
          23.09869384765625,
          9.352787971496582,
          58.872928619384766,
          29.609912872314453,
          62.7794189453125,
          -75.88223266601562,
          25.886253356933594,
          14.462776184082031,
          7.573882579803467,
          -19.178346633911133,
          11.875165939331055,
          -110.27751159667969,
          -113.87307739257812,
          -149.7534637451172,
          -108.11943817138672,
          -137.69424438476562,
          -105.12960052490234,
          13.994380950927734,
          -144.03526306152344,
          -129.93385314941406,
          111.10107421875,
          -139.24609375,
          -158.98757934570312,
          -143.95533752441406,
          -10.9122953414917,
          -129.7103271484375,
          -124.12169647216797,
          59.36197280883789,
          41.384674072265625,
          60.46044158935547,
          64.10177612304688,
          35.230262756347656,
          42.1403923034668,
          -14.623794555664062,
          -9.333864212036133,
          -29.990327835083008,
          -9.994293212890625,
          58.942813873291016,
          63.828941345214844,
          32.14910888671875,
          25.450733184814453,
          21.183208465576172,
          39.18354797363281,
          35.85821533203125,
          50.47539138793945,
          37.56645202636719,
          8.250755310058594,
          19.174137115478516,
          52.63793182373047,
          -8.710246086120605,
          -23.219797134399414,
          -27.42255401611328,
          0.15743011236190796,
          -95.81549835205078,
          -39.5924072265625,
          -5.178445816040039,
          -57.3063850402832,
          -11.206753730773926,
          -4.257225513458252,
          13.588971138000488,
          -29.39618492126465,
          21.624422073364258,
          -15.696090698242188,
          37.06884002685547,
          -38.58684539794922,
          -27.460723876953125
         ]
        },
        {
         "hovertemplate": "species=Cnidaria<br>0=%{x}<br>1=%{y}<br>2=%{z}<extra></extra>",
         "legendgroup": "Cnidaria",
         "marker": {
          "color": "#19d3f3",
          "size": 8,
          "symbol": "circle"
         },
         "mode": "markers",
         "name": "Cnidaria",
         "scene": "scene",
         "showlegend": true,
         "type": "scatter3d",
         "x": [
          31.190141677856445,
          -38.78457260131836,
          -53.88068771362305,
          -16.896310806274414,
          6.764723300933838,
          -46.3304443359375
         ],
         "y": [
          -47.35258102416992,
          -73.58245086669922,
          -8.351527214050293,
          -58.6115608215332,
          -45.349510192871094,
          -81.75051879882812
         ],
         "z": [
          -47.46437072753906,
          -66.62014770507812,
          -73.75525665283203,
          -58.806888580322266,
          -48.47163772583008,
          -35.111724853515625
         ]
        },
        {
         "hovertemplate": "species=Porifera<br>0=%{x}<br>1=%{y}<br>2=%{z}<extra></extra>",
         "legendgroup": "Porifera",
         "marker": {
          "color": "#FF6692",
          "size": 8,
          "symbol": "circle"
         },
         "mode": "markers",
         "name": "Porifera",
         "scene": "scene",
         "showlegend": true,
         "type": "scatter3d",
         "x": [
          -50.044769287109375
         ],
         "y": [
          -9.688960075378418
         ],
         "z": [
          88.39203643798828
         ]
        },
        {
         "hovertemplate": "species=Placozoa<br>0=%{x}<br>1=%{y}<br>2=%{z}<extra></extra>",
         "legendgroup": "Placozoa",
         "marker": {
          "color": "#B6E880",
          "size": 8,
          "symbol": "circle"
         },
         "mode": "markers",
         "name": "Placozoa",
         "scene": "scene",
         "showlegend": true,
         "type": "scatter3d",
         "x": [
          -20.210651397705078
         ],
         "y": [
          -15.982359886169434
         ],
         "z": [
          -17.162443161010742
         ]
        },
        {
         "hovertemplate": "species=Bacteria<br>0=%{x}<br>1=%{y}<br>2=%{z}<extra></extra>",
         "legendgroup": "Bacteria",
         "marker": {
          "color": "#FF97FF",
          "size": 8,
          "symbol": "circle"
         },
         "mode": "markers",
         "name": "Bacteria",
         "scene": "scene",
         "showlegend": true,
         "type": "scatter3d",
         "x": [
          -60.3293342590332,
          -66.54183197021484,
          -23.269258499145508
         ],
         "y": [
          128.18443298339844,
          -75.13317108154297,
          -22.54401397705078
         ],
         "z": [
          31.676664352416992,
          -46.673519134521484,
          -47.86864471435547
         ]
        },
        {
         "hovertemplate": "species=Nematoda<br>0=%{x}<br>1=%{y}<br>2=%{z}<extra></extra>",
         "legendgroup": "Nematoda",
         "marker": {
          "color": "#FECB52",
          "size": 8,
          "symbol": "circle"
         },
         "mode": "markers",
         "name": "Nematoda",
         "scene": "scene",
         "showlegend": true,
         "type": "scatter3d",
         "x": [
          57.305076599121094,
          53.32735824584961,
          60.45554733276367,
          -20.922391891479492,
          -5.5834221839904785,
          4.282813549041748,
          -58.75120162963867,
          -45.10499572753906,
          45.889156341552734,
          13.300185203552246
         ],
         "y": [
          33.92290496826172,
          51.72734451293945,
          28.429424285888672,
          -78.53316497802734,
          -60.43727111816406,
          -77.35897064208984,
          75.70275115966797,
          63.666778564453125,
          -29.08662223815918,
          -69.69263458251953
         ],
         "z": [
          -12.945989608764648,
          0.4992605745792389,
          8.811784744262695,
          22.00175666809082,
          29.998435974121094,
          16.55657958984375,
          -28.992565155029297,
          -47.02204895019531,
          6.526601314544678,
          53.00468444824219
         ]
        },
        {
         "hovertemplate": "species=Hemichordata<br>0=%{x}<br>1=%{y}<br>2=%{z}<extra></extra>",
         "legendgroup": "Hemichordata",
         "marker": {
          "color": "#636efa",
          "size": 8,
          "symbol": "circle"
         },
         "mode": "markers",
         "name": "Hemichordata",
         "scene": "scene",
         "showlegend": true,
         "type": "scatter3d",
         "x": [
          -43.75354766845703
         ],
         "y": [
          -0.9482579827308655
         ],
         "z": [
          10.538887023925781
         ]
        },
        {
         "hovertemplate": "species=Fungi<br>0=%{x}<br>1=%{y}<br>2=%{z}<extra></extra>",
         "legendgroup": "Fungi",
         "marker": {
          "color": "#EF553B",
          "size": 8,
          "symbol": "circle"
         },
         "mode": "markers",
         "name": "Fungi",
         "scene": "scene",
         "showlegend": true,
         "type": "scatter3d",
         "x": [
          -64.12853240966797,
          77.65129852294922
         ],
         "y": [
          85.16221618652344,
          -58.062744140625
         ],
         "z": [
          -69.27777099609375,
          -82.65741729736328
         ]
        },
        {
         "hovertemplate": "species=Viridiplantae<br>0=%{x}<br>1=%{y}<br>2=%{z}<extra></extra>",
         "legendgroup": "Viridiplantae",
         "marker": {
          "color": "#00cc96",
          "size": 8,
          "symbol": "circle"
         },
         "mode": "markers",
         "name": "Viridiplantae",
         "scene": "scene",
         "showlegend": true,
         "type": "scatter3d",
         "x": [
          -39.33122253417969
         ],
         "y": [
          -48.72309112548828
         ],
         "z": [
          -43.31235885620117
         ]
        }
       ],
       "layout": {
        "height": 900,
        "legend": {
         "title": {
          "text": "species"
         },
         "tracegroupgap": 0
        },
        "margin": {
         "t": 60
        },
        "scene": {
         "aspectmode": "auto",
         "aspectratio": {
          "x": 1.0397833756217354,
          "y": 1.0119900980586134,
          "z": 0.9503440661367196
         },
         "camera": {
          "center": {
           "x": 0,
           "y": 0,
           "z": 0
          },
          "eye": {
           "x": 0.4962312641348805,
           "y": -0.7467392679906065,
           "z": 1.9154537088309387
          },
          "projection": {
           "type": "perspective"
          },
          "up": {
           "x": 0,
           "y": 0,
           "z": 1
          }
         },
         "domain": {
          "x": [
           0,
           1
          ],
          "y": [
           0,
           1
          ]
         },
         "xaxis": {
          "title": {
           "text": "0"
          },
          "type": "linear"
         },
         "yaxis": {
          "title": {
           "text": "1"
          },
          "type": "linear"
         },
         "zaxis": {
          "title": {
           "text": "2"
          },
          "type": "linear"
         }
        },
        "template": {
         "data": {
          "bar": [
           {
            "error_x": {
             "color": "#2a3f5f"
            },
            "error_y": {
             "color": "#2a3f5f"
            },
            "marker": {
             "line": {
              "color": "#E5ECF6",
              "width": 0.5
             },
             "pattern": {
              "fillmode": "overlay",
              "size": 10,
              "solidity": 0.2
             }
            },
            "type": "bar"
           }
          ],
          "barpolar": [
           {
            "marker": {
             "line": {
              "color": "#E5ECF6",
              "width": 0.5
             },
             "pattern": {
              "fillmode": "overlay",
              "size": 10,
              "solidity": 0.2
             }
            },
            "type": "barpolar"
           }
          ],
          "carpet": [
           {
            "aaxis": {
             "endlinecolor": "#2a3f5f",
             "gridcolor": "white",
             "linecolor": "white",
             "minorgridcolor": "white",
             "startlinecolor": "#2a3f5f"
            },
            "baxis": {
             "endlinecolor": "#2a3f5f",
             "gridcolor": "white",
             "linecolor": "white",
             "minorgridcolor": "white",
             "startlinecolor": "#2a3f5f"
            },
            "type": "carpet"
           }
          ],
          "choropleth": [
           {
            "colorbar": {
             "outlinewidth": 0,
             "ticks": ""
            },
            "type": "choropleth"
           }
          ],
          "contour": [
           {
            "colorbar": {
             "outlinewidth": 0,
             "ticks": ""
            },
            "colorscale": [
             [
              0,
              "#0d0887"
             ],
             [
              0.1111111111111111,
              "#46039f"
             ],
             [
              0.2222222222222222,
              "#7201a8"
             ],
             [
              0.3333333333333333,
              "#9c179e"
             ],
             [
              0.4444444444444444,
              "#bd3786"
             ],
             [
              0.5555555555555556,
              "#d8576b"
             ],
             [
              0.6666666666666666,
              "#ed7953"
             ],
             [
              0.7777777777777778,
              "#fb9f3a"
             ],
             [
              0.8888888888888888,
              "#fdca26"
             ],
             [
              1,
              "#f0f921"
             ]
            ],
            "type": "contour"
           }
          ],
          "contourcarpet": [
           {
            "colorbar": {
             "outlinewidth": 0,
             "ticks": ""
            },
            "type": "contourcarpet"
           }
          ],
          "heatmap": [
           {
            "colorbar": {
             "outlinewidth": 0,
             "ticks": ""
            },
            "colorscale": [
             [
              0,
              "#0d0887"
             ],
             [
              0.1111111111111111,
              "#46039f"
             ],
             [
              0.2222222222222222,
              "#7201a8"
             ],
             [
              0.3333333333333333,
              "#9c179e"
             ],
             [
              0.4444444444444444,
              "#bd3786"
             ],
             [
              0.5555555555555556,
              "#d8576b"
             ],
             [
              0.6666666666666666,
              "#ed7953"
             ],
             [
              0.7777777777777778,
              "#fb9f3a"
             ],
             [
              0.8888888888888888,
              "#fdca26"
             ],
             [
              1,
              "#f0f921"
             ]
            ],
            "type": "heatmap"
           }
          ],
          "heatmapgl": [
           {
            "colorbar": {
             "outlinewidth": 0,
             "ticks": ""
            },
            "colorscale": [
             [
              0,
              "#0d0887"
             ],
             [
              0.1111111111111111,
              "#46039f"
             ],
             [
              0.2222222222222222,
              "#7201a8"
             ],
             [
              0.3333333333333333,
              "#9c179e"
             ],
             [
              0.4444444444444444,
              "#bd3786"
             ],
             [
              0.5555555555555556,
              "#d8576b"
             ],
             [
              0.6666666666666666,
              "#ed7953"
             ],
             [
              0.7777777777777778,
              "#fb9f3a"
             ],
             [
              0.8888888888888888,
              "#fdca26"
             ],
             [
              1,
              "#f0f921"
             ]
            ],
            "type": "heatmapgl"
           }
          ],
          "histogram": [
           {
            "marker": {
             "pattern": {
              "fillmode": "overlay",
              "size": 10,
              "solidity": 0.2
             }
            },
            "type": "histogram"
           }
          ],
          "histogram2d": [
           {
            "colorbar": {
             "outlinewidth": 0,
             "ticks": ""
            },
            "colorscale": [
             [
              0,
              "#0d0887"
             ],
             [
              0.1111111111111111,
              "#46039f"
             ],
             [
              0.2222222222222222,
              "#7201a8"
             ],
             [
              0.3333333333333333,
              "#9c179e"
             ],
             [
              0.4444444444444444,
              "#bd3786"
             ],
             [
              0.5555555555555556,
              "#d8576b"
             ],
             [
              0.6666666666666666,
              "#ed7953"
             ],
             [
              0.7777777777777778,
              "#fb9f3a"
             ],
             [
              0.8888888888888888,
              "#fdca26"
             ],
             [
              1,
              "#f0f921"
             ]
            ],
            "type": "histogram2d"
           }
          ],
          "histogram2dcontour": [
           {
            "colorbar": {
             "outlinewidth": 0,
             "ticks": ""
            },
            "colorscale": [
             [
              0,
              "#0d0887"
             ],
             [
              0.1111111111111111,
              "#46039f"
             ],
             [
              0.2222222222222222,
              "#7201a8"
             ],
             [
              0.3333333333333333,
              "#9c179e"
             ],
             [
              0.4444444444444444,
              "#bd3786"
             ],
             [
              0.5555555555555556,
              "#d8576b"
             ],
             [
              0.6666666666666666,
              "#ed7953"
             ],
             [
              0.7777777777777778,
              "#fb9f3a"
             ],
             [
              0.8888888888888888,
              "#fdca26"
             ],
             [
              1,
              "#f0f921"
             ]
            ],
            "type": "histogram2dcontour"
           }
          ],
          "mesh3d": [
           {
            "colorbar": {
             "outlinewidth": 0,
             "ticks": ""
            },
            "type": "mesh3d"
           }
          ],
          "parcoords": [
           {
            "line": {
             "colorbar": {
              "outlinewidth": 0,
              "ticks": ""
             }
            },
            "type": "parcoords"
           }
          ],
          "pie": [
           {
            "automargin": true,
            "type": "pie"
           }
          ],
          "scatter": [
           {
            "fillpattern": {
             "fillmode": "overlay",
             "size": 10,
             "solidity": 0.2
            },
            "type": "scatter"
           }
          ],
          "scatter3d": [
           {
            "line": {
             "colorbar": {
              "outlinewidth": 0,
              "ticks": ""
             }
            },
            "marker": {
             "colorbar": {
              "outlinewidth": 0,
              "ticks": ""
             }
            },
            "type": "scatter3d"
           }
          ],
          "scattercarpet": [
           {
            "marker": {
             "colorbar": {
              "outlinewidth": 0,
              "ticks": ""
             }
            },
            "type": "scattercarpet"
           }
          ],
          "scattergeo": [
           {
            "marker": {
             "colorbar": {
              "outlinewidth": 0,
              "ticks": ""
             }
            },
            "type": "scattergeo"
           }
          ],
          "scattergl": [
           {
            "marker": {
             "colorbar": {
              "outlinewidth": 0,
              "ticks": ""
             }
            },
            "type": "scattergl"
           }
          ],
          "scattermapbox": [
           {
            "marker": {
             "colorbar": {
              "outlinewidth": 0,
              "ticks": ""
             }
            },
            "type": "scattermapbox"
           }
          ],
          "scatterpolar": [
           {
            "marker": {
             "colorbar": {
              "outlinewidth": 0,
              "ticks": ""
             }
            },
            "type": "scatterpolar"
           }
          ],
          "scatterpolargl": [
           {
            "marker": {
             "colorbar": {
              "outlinewidth": 0,
              "ticks": ""
             }
            },
            "type": "scatterpolargl"
           }
          ],
          "scatterternary": [
           {
            "marker": {
             "colorbar": {
              "outlinewidth": 0,
              "ticks": ""
             }
            },
            "type": "scatterternary"
           }
          ],
          "surface": [
           {
            "colorbar": {
             "outlinewidth": 0,
             "ticks": ""
            },
            "colorscale": [
             [
              0,
              "#0d0887"
             ],
             [
              0.1111111111111111,
              "#46039f"
             ],
             [
              0.2222222222222222,
              "#7201a8"
             ],
             [
              0.3333333333333333,
              "#9c179e"
             ],
             [
              0.4444444444444444,
              "#bd3786"
             ],
             [
              0.5555555555555556,
              "#d8576b"
             ],
             [
              0.6666666666666666,
              "#ed7953"
             ],
             [
              0.7777777777777778,
              "#fb9f3a"
             ],
             [
              0.8888888888888888,
              "#fdca26"
             ],
             [
              1,
              "#f0f921"
             ]
            ],
            "type": "surface"
           }
          ],
          "table": [
           {
            "cells": {
             "fill": {
              "color": "#EBF0F8"
             },
             "line": {
              "color": "white"
             }
            },
            "header": {
             "fill": {
              "color": "#C8D4E3"
             },
             "line": {
              "color": "white"
             }
            },
            "type": "table"
           }
          ]
         },
         "layout": {
          "annotationdefaults": {
           "arrowcolor": "#2a3f5f",
           "arrowhead": 0,
           "arrowwidth": 1
          },
          "autotypenumbers": "strict",
          "coloraxis": {
           "colorbar": {
            "outlinewidth": 0,
            "ticks": ""
           }
          },
          "colorscale": {
           "diverging": [
            [
             0,
             "#8e0152"
            ],
            [
             0.1,
             "#c51b7d"
            ],
            [
             0.2,
             "#de77ae"
            ],
            [
             0.3,
             "#f1b6da"
            ],
            [
             0.4,
             "#fde0ef"
            ],
            [
             0.5,
             "#f7f7f7"
            ],
            [
             0.6,
             "#e6f5d0"
            ],
            [
             0.7,
             "#b8e186"
            ],
            [
             0.8,
             "#7fbc41"
            ],
            [
             0.9,
             "#4d9221"
            ],
            [
             1,
             "#276419"
            ]
           ],
           "sequential": [
            [
             0,
             "#0d0887"
            ],
            [
             0.1111111111111111,
             "#46039f"
            ],
            [
             0.2222222222222222,
             "#7201a8"
            ],
            [
             0.3333333333333333,
             "#9c179e"
            ],
            [
             0.4444444444444444,
             "#bd3786"
            ],
            [
             0.5555555555555556,
             "#d8576b"
            ],
            [
             0.6666666666666666,
             "#ed7953"
            ],
            [
             0.7777777777777778,
             "#fb9f3a"
            ],
            [
             0.8888888888888888,
             "#fdca26"
            ],
            [
             1,
             "#f0f921"
            ]
           ],
           "sequentialminus": [
            [
             0,
             "#0d0887"
            ],
            [
             0.1111111111111111,
             "#46039f"
            ],
            [
             0.2222222222222222,
             "#7201a8"
            ],
            [
             0.3333333333333333,
             "#9c179e"
            ],
            [
             0.4444444444444444,
             "#bd3786"
            ],
            [
             0.5555555555555556,
             "#d8576b"
            ],
            [
             0.6666666666666666,
             "#ed7953"
            ],
            [
             0.7777777777777778,
             "#fb9f3a"
            ],
            [
             0.8888888888888888,
             "#fdca26"
            ],
            [
             1,
             "#f0f921"
            ]
           ]
          },
          "colorway": [
           "#636efa",
           "#EF553B",
           "#00cc96",
           "#ab63fa",
           "#FFA15A",
           "#19d3f3",
           "#FF6692",
           "#B6E880",
           "#FF97FF",
           "#FECB52"
          ],
          "font": {
           "color": "#2a3f5f"
          },
          "geo": {
           "bgcolor": "white",
           "lakecolor": "white",
           "landcolor": "#E5ECF6",
           "showlakes": true,
           "showland": true,
           "subunitcolor": "white"
          },
          "hoverlabel": {
           "align": "left"
          },
          "hovermode": "closest",
          "mapbox": {
           "style": "light"
          },
          "paper_bgcolor": "white",
          "plot_bgcolor": "#E5ECF6",
          "polar": {
           "angularaxis": {
            "gridcolor": "white",
            "linecolor": "white",
            "ticks": ""
           },
           "bgcolor": "#E5ECF6",
           "radialaxis": {
            "gridcolor": "white",
            "linecolor": "white",
            "ticks": ""
           }
          },
          "scene": {
           "xaxis": {
            "backgroundcolor": "#E5ECF6",
            "gridcolor": "white",
            "gridwidth": 2,
            "linecolor": "white",
            "showbackground": true,
            "ticks": "",
            "zerolinecolor": "white"
           },
           "yaxis": {
            "backgroundcolor": "#E5ECF6",
            "gridcolor": "white",
            "gridwidth": 2,
            "linecolor": "white",
            "showbackground": true,
            "ticks": "",
            "zerolinecolor": "white"
           },
           "zaxis": {
            "backgroundcolor": "#E5ECF6",
            "gridcolor": "white",
            "gridwidth": 2,
            "linecolor": "white",
            "showbackground": true,
            "ticks": "",
            "zerolinecolor": "white"
           }
          },
          "shapedefaults": {
           "line": {
            "color": "#2a3f5f"
           }
          },
          "ternary": {
           "aaxis": {
            "gridcolor": "white",
            "linecolor": "white",
            "ticks": ""
           },
           "baxis": {
            "gridcolor": "white",
            "linecolor": "white",
            "ticks": ""
           },
           "bgcolor": "#E5ECF6",
           "caxis": {
            "gridcolor": "white",
            "linecolor": "white",
            "ticks": ""
           }
          },
          "title": {
           "x": 0.05
          },
          "xaxis": {
           "automargin": true,
           "gridcolor": "white",
           "linecolor": "white",
           "ticks": "",
           "title": {
            "standoff": 15
           },
           "zerolinecolor": "white",
           "zerolinewidth": 2
          },
          "yaxis": {
           "automargin": true,
           "gridcolor": "white",
           "linecolor": "white",
           "ticks": "",
           "title": {
            "standoff": 15
           },
           "zerolinecolor": "white",
           "zerolinewidth": 2
          }
         }
        },
        "width": 1000,
        "xaxis": {
         "dtick": 5,
         "range": [
          -20,
          20
         ]
        },
        "yaxis": {
         "range": [
          -20,
          20
         ]
        }
       }
      },
      "image/png": "[encoded data removed]",
      "text/html": [
       "<div>                            <div id=\"592bb4ab-4f1f-42b9-9017-6d3241a28320\" class=\"plotly-graph-div\" style=\"height:900px; width:1000px;\"></div>            <script type=\"text/javascript\">                require([\"plotly\"], function(Plotly) {                    window.PLOTLYENV=window.PLOTLYENV || {};                                    if (document.getElementById(\"592bb4ab-4f1f-42b9-9017-6d3241a28320\")) {                    Plotly.newPlot(                        \"592bb4ab-4f1f-42b9-9017-6d3241a28320\",                        [{\"hovertemplate\":\"species=Echinodermata<br>0=%{x}<br>1=%{y}<br>2=%{z}<extra></extra>\",\"legendgroup\":\"Echinodermata\",\"marker\":{\"color\":\"#636efa\",\"symbol\":\"circle\",\"size\":8},\"mode\":\"markers\",\"name\":\"Echinodermata\",\"scene\":\"scene\",\"showlegend\":true,\"x\":[19.550983428955078,-2.8738081455230713,46.72747039794922,27.628173828125,47.89548110961914,-43.104949951171875,-50.77176284790039,135.7803497314453,28.735353469848633,-63.5841064453125],\"y\":[8.31236457824707,24.971729278564453,-18.642282485961914,-12.338838577270508,-6.892178535461426,-32.84587860107422,-21.938383102416992,54.31452178955078,-18.640342712402344,-48.0361328125],\"z\":[55.44425582885742,-17.725950241088867,39.765716552734375,51.394683837890625,58.73202896118164,-64.78450775146484,-43.02083206176758,25.960966110229492,-33.032588958740234,-56.35420608520508],\"type\":\"scatter3d\"},{\"hovertemplate\":\"species=Arthropoda<br>0=%{x}<br>1=%{y}<br>2=%{z}<extra></extra>\",\"legendgroup\":\"Arthropoda\",\"marker\":{\"color\":\"#EF553B\",\"symbol\":\"circle\",\"size\":8},\"mode\":\"markers\",\"name\":\"Arthropoda\",\"scene\":\"scene\",\"showlegend\":true,\"x\":[58.26402282714844,62.04618453979492,22.626379013061523,36.17905044555664,47.86189651489258,5.384304046630859,65.29521942138672,82.37435913085938,-10.358962059020996,-17.9217472076416,0.35414719581604004,3.3517134189605713,-12.317937850952148,6.3820600509643555,15.603108406066895,1.8534423112869263,57.11621856689453,-11.670939445495605,-25.43861198425293,-6.750023365020752,41.926971435546875,-52.47219467163086,27.52747917175293,30.48629379272461,74.66678619384766,40.170555114746094,-1.3923721313476562,52.924442291259766,46.70157241821289,14.301992416381836,22.873628616333008,19.07455825805664,27.576446533203125,47.53478240966797,38.79913330078125,55.768863677978516,-0.1433449387550354,76.68354797363281,12.426353454589844,-82.21711730957031,-5.1546196937561035,70.47293090820312,57.31905746459961,30.410053253173828,98.79058074951172,118.49417114257812,129.0641326904297,128.40184020996094,20.419605255126953,86.67084503173828,100.82865905761719,102.82141876220703,67.07449340820312,-22.367034912109375,75.9537353515625,58.5665397644043,139.26254272460938,140.78529357910156,139.8643035888672,116.35206604003906,113.53157806396484,117.50146484375,86.50849151611328,78.20692443847656,0.6852213144302368,5.8506975173950195,119.41886138916016,94.99457550048828,-13.509560585021973,9.943124771118164,17.623390197753906,-5.174483299255371,-35.31511306762695,38.57345962524414,41.14506912231445,29.319849014282227,45.7445182800293,-43.994327545166016,22.889053344726562,27.633197784423828,44.834617614746094,-33.844058990478516,82.0643539428711,39.26383590698242],\"y\":[67.46241760253906,94.6235580444336,106.3133316040039,127.28761291503906,108.26715850830078,71.8316879272461,77.68881225585938,78.3677749633789,119.1109848022461,87.57781982421875,40.270652770996094,119.30328369140625,150.7639923095703,-66.01200866699219,126.44202423095703,137.61843872070312,143.74954223632812,102.89282989501953,136.36276245117188,107.88732147216797,55.32073974609375,103.41432189941406,27.42115592956543,44.751678466796875,63.54569625854492,107.9525146484375,-31.03611946105957,-55.10531234741211,12.573853492736816,-18.521953582763672,-19.687591552734375,9.016621589660645,6.385380268096924,-12.907967567443848,-10.58596134185791,-79.70117950439453,-0.05370224639773369,-68.39971923828125,-51.890281677246094,-79.23445892333984,59.975460052490234,-59.623878479003906,-60.76264572143555,-32.371788024902344,8.41646957397461,11.712240219116211,-16.811019897460938,-30.080305099487305,76.42530822753906,-8.60255241394043,-25.102903366088867,-10.816506385803223,-31.87381935119629,126.90132904052734,53.67753219604492,-84.24606323242188,-1.06424081325531,-23.30145263671875,4.202053546905518,-7.743801593780518,-33.877479553222656,-6.198098182678223,-28.481964111328125,-9.60019588470459,-17.7933292388916,95.22574615478516,18.510658264160156,13.904804229736328,38.774208068847656,16.62672996520996,38.919986724853516,35.70648956298828,24.202852249145508,84.19695281982422,78.82740020751953,3.835597038269043,15.698175430297852,-43.69849395751953,29.340316772460938,55.71827697753906,-65.74675750732422,-65.70175170898438,-30.830001831054688,-35.76832580566406],\"z\":[50.27604293823242,-30.341279983520508,-3.464668035507202,-1.3454580307006836,-11.951022148132324,4.264812469482422,24.31475830078125,45.0515022277832,24.1195125579834,8.352375030517578,13.102725982666016,-45.63471603393555,-22.515085220336914,106.93179321289062,-27.90546989440918,-4.095602512359619,15.459031105041504,-53.33783721923828,-3.163618803024292,-9.554916381835938,-33.20313262939453,-10.175546646118164,-26.00179100036621,17.848352432250977,-32.020633697509766,16.018705368041992,-75.50511932373047,29.999597549438477,100.48352813720703,90.40889739990234,115.30204010009766,92.49970245361328,117.67110443115234,114.35919189453125,91.22136688232422,21.476261138916016,107.7816162109375,37.14948654174805,-81.6021499633789,58.289344787597656,-100.22442626953125,86.45040130615234,65.73590087890625,-79.11962890625,11.900686264038086,57.50452423095703,59.74332809448242,12.79271411895752,21.699270248413086,29.71495246887207,14.498910903930664,52.66486358642578,71.99925994873047,-27.6328182220459,36.4941291809082,77.47173309326172,15.736089706420898,35.7135124206543,42.689273834228516,30.335098266601562,39.116695404052734,0.6637871265411377,82.65479278564453,71.02571105957031,23.729473114013672,16.25523567199707,27.331838607788086,42.16395950317383,-43.99277877807617,28.686553955078125,42.65483856201172,41.445247650146484,-49.068363189697266,3.32462477684021,-21.2558536529541,24.254165649414062,38.20323944091797,-117.2627944946289,-0.8429644107818604,-7.777320384979248,87.44673919677734,-119.4260025024414,48.33356857299805,65.35564422607422],\"type\":\"scatter3d\"},{\"hovertemplate\":\"species=Mollusca<br>0=%{x}<br>1=%{y}<br>2=%{z}<extra></extra>\",\"legendgroup\":\"Mollusca\",\"marker\":{\"color\":\"#00cc96\",\"symbol\":\"circle\",\"size\":8},\"mode\":\"markers\",\"name\":\"Mollusca\",\"scene\":\"scene\",\"showlegend\":true,\"x\":[69.5677719116211,41.39292526245117,0.8639047145843506,17.282522201538086,24.05949592590332,-33.41844940185547,-3.489255428314209,14.931904792785645,0.6753513216972351,100.64070892333984,34.39752197265625,18.949419021606445,15.297564506530762,40.20660400390625,12.375133514404297,-13.110610008239746,12.399657249450684,-7.765386581420898,-14.858389854431152,-46.62869644165039,-59.67863082885742,-51.28302764892578,36.64373779296875,13.532388687133789,-0.9140104651451111,16.892499923706055,-9.841085433959961,-54.349151611328125,-14.058272361755371,19.362958908081055,-1.7914584875106812,78.38452911376953,73.74481964111328,74.14024353027344,93.27980041503906,95.66730499267578],\"y\":[79.98912048339844,82.50804901123047,-32.9904670715332,7.888024806976318,-7.877684593200684,-0.20292505621910095,-5.907600402832031,103.66802978515625,98.05955505371094,56.302425384521484,99.5520248413086,118.32935333251953,83.82837677001953,-3.3015589714050293,14.188735961914062,74.1241455078125,84.8730239868164,76.73966979980469,98.53419494628906,-33.960365295410156,-51.35392761230469,-59.595638275146484,18.554763793945312,77.78375244140625,-30.44417953491211,-17.541954040527344,-37.3487434387207,-60.9342155456543,148.5868682861328,76.65250396728516,82.9560546875,-54.06205368041992,-71.09808349609375,-47.33372497558594,-39.34006118774414,-62.441261291503906],\"z\":[-6.290360927581787,-47.380672454833984,-100.63064575195312,-58.6763916015625,-86.10533142089844,-127.98665618896484,-76.71034240722656,60.59613037109375,88.09941101074219,-2.951900005340576,80.62190246582031,80.32624816894531,-42.68681335449219,-66.55402374267578,-83.46111297607422,72.25305938720703,-18.524553298950195,-24.44872283935547,66.8363265991211,-8.945718765258789,-20.982200622558594,0.13985082507133484,68.7839126586914,84.44244384765625,-23.464962005615234,-62.13237762451172,-0.31295961141586304,79.53864288330078,49.74711990356445,58.177215576171875,49.220027923583984,-18.085525512695312,-34.555789947509766,-41.915016174316406,-30.36167335510254,-35.457332611083984],\"type\":\"scatter3d\"},{\"hovertemplate\":\"species=Annelida<br>0=%{x}<br>1=%{y}<br>2=%{z}<extra></extra>\",\"legendgroup\":\"Annelida\",\"marker\":{\"color\":\"#ab63fa\",\"symbol\":\"circle\",\"size\":8},\"mode\":\"markers\",\"name\":\"Annelida\",\"scene\":\"scene\",\"showlegend\":true,\"x\":[9.531103134155273,0.2608893811702728,17.081785202026367,-24.08479881286621,17.716527938842773,-19.977304458618164,27.464609146118164,-36.34244155883789,-21.057313919067383],\"y\":[-10.090770721435547,-56.36507034301758,-33.01665115356445,-63.5123405456543,55.28293991088867,-52.14936065673828,-37.1209831237793,-80.39276885986328,-43.10702133178711],\"z\":[-10.771700859069824,-15.720498085021973,-8.277770042419434,-7.857794284820557,-35.91756820678711,-98.36251068115234,44.67442321777344,70.2308120727539,-21.614500045776367],\"type\":\"scatter3d\"},{\"hovertemplate\":\"species=Chordata<br>0=%{x}<br>1=%{y}<br>2=%{z}<extra></extra>\",\"legendgroup\":\"Chordata\",\"marker\":{\"color\":\"#FFA15A\",\"symbol\":\"circle\",\"size\":8},\"mode\":\"markers\",\"name\":\"Chordata\",\"scene\":\"scene\",\"showlegend\":true,\"x\":[27.12456512451172,-28.640684127807617,-4.063662528991699,-125.67876434326172,68.76801300048828,-100.31012725830078,-116.61406707763672,-109.94759368896484,-88.95125579833984,-161.9104461669922,51.10253143310547,-134.95094299316406,-122.08580017089844,-96.28986358642578,-100.45836639404297,-130.54075622558594,-139.63059997558594,-118.03975677490234,-132.44219970703125,-32.009483337402344,-134.7002716064453,-108.07799530029297,-126.3651123046875,-150.75277709960938,-139.6932373046875,-149.1925811767578,-110.50170135498047,82.05623626708984,-152.85397338867188,-118.66687774658203,-102.38188934326172,-101.64163208007812,-65.57952880859375,41.25629425048828,18.03677749633789,24.417659759521484,1.6496368646621704,-19.724781036376953,-20.59906005859375,-59.603092193603516,17.294137954711914,37.88954162597656,-35.065460205078125,-10.431952476501465,-1.0042290687561035,2.3122544288635254,-37.62238311767578,3.9916775226593018,19.88727569580078,-38.300418853759766,-22.55651092529297,-15.506061553955078,-17.9074649810791,-43.12607955932617,-28.07135772705078,-74.17194366455078,-59.79250717163086,-73.81525421142578,-83.03144836425781,-70.55438995361328,-60.18901062011719,-66.80572509765625,-50.77016067504883,-76.73023223876953,25.646657943725586,-63.51152038574219,-42.659332275390625,-102.6920394897461,-20.621360778808594,-33.67564392089844,-58.44060516357422,-22.460081100463867,-7.20194673538208,12.764156341552734,-5.95585823059082,34.643272399902344,-6.776120662689209,-30.16621971130371,9.74634075164795,15.786172866821289,2.909433364868164,-14.99644660949707,-31.4195556640625,-79.7435302734375,-139.93057250976562,-133.27635192871094,18.081090927124023,67.30529022216797],\"y\":[-84.40252685546875,30.799335479736328,4.233653545379639,10.15295124053955,17.25227928161621,0.8680810332298279,-4.8382134437561035,25.43303108215332,-3.033304214477539,-3.419398546218872,35.807125091552734,41.138771057128906,28.51743507385254,-7.986888408660889,19.708160400390625,-42.05441665649414,-16.510265350341797,-3.935490608215332,-16.671707153320312,-108.17301177978516,-31.940027236938477,18.391624450683594,-26.0972843170166,22.56507110595703,-2.3368139266967773,-5.198301792144775,-14.355586051940918,44.24628829956055,-37.44628143310547,42.47099685668945,-36.05858612060547,-29.1841983795166,26.04666519165039,-24.21661376953125,-54.51237869262695,-27.29657554626465,0.8954323530197144,-27.65164566040039,-16.09879493713379,-100.49803924560547,-56.988685607910156,-41.826297760009766,-56.78675079345703,-56.643959045410156,-36.55846405029297,-8.750988960266113,12.5261869430542,-36.00611114501953,-15.534146308898926,-24.0914306640625,-30.72747802734375,-15.121273040771484,-39.63264846801758,-17.739004135131836,-2.46305513381958,18.486785888671875,44.320030212402344,36.3426399230957,44.68330764770508,45.03636169433594,22.319290161132812,-42.39325714111328,47.167701721191406,46.37373733520508,-106.18212890625,26.422954559326172,40.362789154052734,-30.369508743286133,6.763189792633057,19.35370635986328,69.8186264038086,-109.97779846191406,-129.56515502929688,-93.76850891113281,-143.84072875976562,69.6026611328125,-102.97295379638672,-135.99925231933594,-100.93995666503906,-134.5233612060547,-112.89128112792969,-122.99932098388672,-124.9923324584961,-62.664669036865234,9.61691665649414,24.445911407470703,-115.43341064453125,-4.726425647735596],\"z\":[-47.40078353881836,-4.331230163574219,-26.347639083862305,13.536304473876953,-111.46165466308594,-28.76993751525879,-6.649869918823242,-7.195183753967285,39.38824462890625,1.7055357694625854,-89.40454864501953,-12.45803451538086,-34.37139892578125,12.23398494720459,19.242408752441406,-3.8757035732269287,-0.9869250655174255,35.296566009521484,-28.628725051879883,-87.49442291259766,51.05669403076172,50.135040283203125,23.09869384765625,9.352787971496582,58.872928619384766,29.609912872314453,62.7794189453125,-75.88223266601562,25.886253356933594,14.462776184082031,7.573882579803467,-19.178346633911133,11.875165939331055,-110.27751159667969,-113.87307739257812,-149.7534637451172,-108.11943817138672,-137.69424438476562,-105.12960052490234,13.994380950927734,-144.03526306152344,-129.93385314941406,111.10107421875,-139.24609375,-158.98757934570312,-143.95533752441406,-10.9122953414917,-129.7103271484375,-124.12169647216797,59.36197280883789,41.384674072265625,60.46044158935547,64.10177612304688,35.230262756347656,42.1403923034668,-14.623794555664062,-9.333864212036133,-29.990327835083008,-9.994293212890625,58.942813873291016,63.828941345214844,32.14910888671875,25.450733184814453,21.183208465576172,39.18354797363281,35.85821533203125,50.47539138793945,37.56645202636719,8.250755310058594,19.174137115478516,52.63793182373047,-8.710246086120605,-23.219797134399414,-27.42255401611328,0.15743011236190796,-95.81549835205078,-39.5924072265625,-5.178445816040039,-57.3063850402832,-11.206753730773926,-4.257225513458252,13.588971138000488,-29.39618492126465,21.624422073364258,-15.696090698242188,37.06884002685547,-38.58684539794922,-27.460723876953125],\"type\":\"scatter3d\"},{\"hovertemplate\":\"species=Cnidaria<br>0=%{x}<br>1=%{y}<br>2=%{z}<extra></extra>\",\"legendgroup\":\"Cnidaria\",\"marker\":{\"color\":\"#19d3f3\",\"symbol\":\"circle\",\"size\":8},\"mode\":\"markers\",\"name\":\"Cnidaria\",\"scene\":\"scene\",\"showlegend\":true,\"x\":[31.190141677856445,-38.78457260131836,-53.88068771362305,-16.896310806274414,6.764723300933838,-46.3304443359375],\"y\":[-47.35258102416992,-73.58245086669922,-8.351527214050293,-58.6115608215332,-45.349510192871094,-81.75051879882812],\"z\":[-47.46437072753906,-66.62014770507812,-73.75525665283203,-58.806888580322266,-48.47163772583008,-35.111724853515625],\"type\":\"scatter3d\"},{\"hovertemplate\":\"species=Porifera<br>0=%{x}<br>1=%{y}<br>2=%{z}<extra></extra>\",\"legendgroup\":\"Porifera\",\"marker\":{\"color\":\"#FF6692\",\"symbol\":\"circle\",\"size\":8},\"mode\":\"markers\",\"name\":\"Porifera\",\"scene\":\"scene\",\"showlegend\":true,\"x\":[-50.044769287109375],\"y\":[-9.688960075378418],\"z\":[88.39203643798828],\"type\":\"scatter3d\"},{\"hovertemplate\":\"species=Placozoa<br>0=%{x}<br>1=%{y}<br>2=%{z}<extra></extra>\",\"legendgroup\":\"Placozoa\",\"marker\":{\"color\":\"#B6E880\",\"symbol\":\"circle\",\"size\":8},\"mode\":\"markers\",\"name\":\"Placozoa\",\"scene\":\"scene\",\"showlegend\":true,\"x\":[-20.210651397705078],\"y\":[-15.982359886169434],\"z\":[-17.162443161010742],\"type\":\"scatter3d\"},{\"hovertemplate\":\"species=Bacteria<br>0=%{x}<br>1=%{y}<br>2=%{z}<extra></extra>\",\"legendgroup\":\"Bacteria\",\"marker\":{\"color\":\"#FF97FF\",\"symbol\":\"circle\",\"size\":8},\"mode\":\"markers\",\"name\":\"Bacteria\",\"scene\":\"scene\",\"showlegend\":true,\"x\":[-60.3293342590332,-66.54183197021484,-23.269258499145508],\"y\":[128.18443298339844,-75.13317108154297,-22.54401397705078],\"z\":[31.676664352416992,-46.673519134521484,-47.86864471435547],\"type\":\"scatter3d\"},{\"hovertemplate\":\"species=Nematoda<br>0=%{x}<br>1=%{y}<br>2=%{z}<extra></extra>\",\"legendgroup\":\"Nematoda\",\"marker\":{\"color\":\"#FECB52\",\"symbol\":\"circle\",\"size\":8},\"mode\":\"markers\",\"name\":\"Nematoda\",\"scene\":\"scene\",\"showlegend\":true,\"x\":[57.305076599121094,53.32735824584961,60.45554733276367,-20.922391891479492,-5.5834221839904785,4.282813549041748,-58.75120162963867,-45.10499572753906,45.889156341552734,13.300185203552246],\"y\":[33.92290496826172,51.72734451293945,28.429424285888672,-78.53316497802734,-60.43727111816406,-77.35897064208984,75.70275115966797,63.666778564453125,-29.08662223815918,-69.69263458251953],\"z\":[-12.945989608764648,0.4992605745792389,8.811784744262695,22.00175666809082,29.998435974121094,16.55657958984375,-28.992565155029297,-47.02204895019531,6.526601314544678,53.00468444824219],\"type\":\"scatter3d\"},{\"hovertemplate\":\"species=Hemichordata<br>0=%{x}<br>1=%{y}<br>2=%{z}<extra></extra>\",\"legendgroup\":\"Hemichordata\",\"marker\":{\"color\":\"#636efa\",\"symbol\":\"circle\",\"size\":8},\"mode\":\"markers\",\"name\":\"Hemichordata\",\"scene\":\"scene\",\"showlegend\":true,\"x\":[-43.75354766845703],\"y\":[-0.9482579827308655],\"z\":[10.538887023925781],\"type\":\"scatter3d\"},{\"hovertemplate\":\"species=Fungi<br>0=%{x}<br>1=%{y}<br>2=%{z}<extra></extra>\",\"legendgroup\":\"Fungi\",\"marker\":{\"color\":\"#EF553B\",\"symbol\":\"circle\",\"size\":8},\"mode\":\"markers\",\"name\":\"Fungi\",\"scene\":\"scene\",\"showlegend\":true,\"x\":[-64.12853240966797,77.65129852294922],\"y\":[85.16221618652344,-58.062744140625],\"z\":[-69.27777099609375,-82.65741729736328],\"type\":\"scatter3d\"},{\"hovertemplate\":\"species=Viridiplantae<br>0=%{x}<br>1=%{y}<br>2=%{z}<extra></extra>\",\"legendgroup\":\"Viridiplantae\",\"marker\":{\"color\":\"#00cc96\",\"symbol\":\"circle\",\"size\":8},\"mode\":\"markers\",\"name\":\"Viridiplantae\",\"scene\":\"scene\",\"showlegend\":true,\"x\":[-39.33122253417969],\"y\":[-48.72309112548828],\"z\":[-43.31235885620117],\"type\":\"scatter3d\"}],                        {\"template\":{\"data\":{\"histogram2dcontour\":[{\"type\":\"histogram2dcontour\",\"colorbar\":{\"outlinewidth\":0,\"ticks\":\"\"},\"colorscale\":[[0.0,\"#0d0887\"],[0.1111111111111111,\"#46039f\"],[0.2222222222222222,\"#7201a8\"],[0.3333333333333333,\"#9c179e\"],[0.4444444444444444,\"#bd3786\"],[0.5555555555555556,\"#d8576b\"],[0.6666666666666666,\"#ed7953\"],[0.7777777777777778,\"#fb9f3a\"],[0.8888888888888888,\"#fdca26\"],[1.0,\"#f0f921\"]]}],\"choropleth\":[{\"type\":\"choropleth\",\"colorbar\":{\"outlinewidth\":0,\"ticks\":\"\"}}],\"histogram2d\":[{\"type\":\"histogram2d\",\"colorbar\":{\"outlinewidth\":0,\"ticks\":\"\"},\"colorscale\":[[0.0,\"#0d0887\"],[0.1111111111111111,\"#46039f\"],[0.2222222222222222,\"#7201a8\"],[0.3333333333333333,\"#9c179e\"],[0.4444444444444444,\"#bd3786\"],[0.5555555555555556,\"#d8576b\"],[0.6666666666666666,\"#ed7953\"],[0.7777777777777778,\"#fb9f3a\"],[0.8888888888888888,\"#fdca26\"],[1.0,\"#f0f921\"]]}],\"heatmap\":[{\"type\":\"heatmap\",\"colorbar\":{\"outlinewidth\":0,\"ticks\":\"\"},\"colorscale\":[[0.0,\"#0d0887\"],[0.1111111111111111,\"#46039f\"],[0.2222222222222222,\"#7201a8\"],[0.3333333333333333,\"#9c179e\"],[0.4444444444444444,\"#bd3786\"],[0.5555555555555556,\"#d8576b\"],[0.6666666666666666,\"#ed7953\"],[0.7777777777777778,\"#fb9f3a\"],[0.8888888888888888,\"#fdca26\"],[1.0,\"#f0f921\"]]}],\"heatmapgl\":[{\"type\":\"heatmapgl\",\"colorbar\":{\"outlinewidth\":0,\"ticks\":\"\"},\"colorscale\":[[0.0,\"#0d0887\"],[0.1111111111111111,\"#46039f\"],[0.2222222222222222,\"#7201a8\"],[0.3333333333333333,\"#9c179e\"],[0.4444444444444444,\"#bd3786\"],[0.5555555555555556,\"#d8576b\"],[0.6666666666666666,\"#ed7953\"],[0.7777777777777778,\"#fb9f3a\"],[0.8888888888888888,\"#fdca26\"],[1.0,\"#f0f921\"]]}],\"contourcarpet\":[{\"type\":\"contourcarpet\",\"colorbar\":{\"outlinewidth\":0,\"ticks\":\"\"}}],\"contour\":[{\"type\":\"contour\",\"colorbar\":{\"outlinewidth\":0,\"ticks\":\"\"},\"colorscale\":[[0.0,\"#0d0887\"],[0.1111111111111111,\"#46039f\"],[0.2222222222222222,\"#7201a8\"],[0.3333333333333333,\"#9c179e\"],[0.4444444444444444,\"#bd3786\"],[0.5555555555555556,\"#d8576b\"],[0.6666666666666666,\"#ed7953\"],[0.7777777777777778,\"#fb9f3a\"],[0.8888888888888888,\"#fdca26\"],[1.0,\"#f0f921\"]]}],\"surface\":[{\"type\":\"surface\",\"colorbar\":{\"outlinewidth\":0,\"ticks\":\"\"},\"colorscale\":[[0.0,\"#0d0887\"],[0.1111111111111111,\"#46039f\"],[0.2222222222222222,\"#7201a8\"],[0.3333333333333333,\"#9c179e\"],[0.4444444444444444,\"#bd3786\"],[0.5555555555555556,\"#d8576b\"],[0.6666666666666666,\"#ed7953\"],[0.7777777777777778,\"#fb9f3a\"],[0.8888888888888888,\"#fdca26\"],[1.0,\"#f0f921\"]]}],\"mesh3d\":[{\"type\":\"mesh3d\",\"colorbar\":{\"outlinewidth\":0,\"ticks\":\"\"}}],\"scatter\":[{\"fillpattern\":{\"fillmode\":\"overlay\",\"size\":10,\"solidity\":0.2},\"type\":\"scatter\"}],\"parcoords\":[{\"type\":\"parcoords\",\"line\":{\"colorbar\":{\"outlinewidth\":0,\"ticks\":\"\"}}}],\"scatterpolargl\":[{\"type\":\"scatterpolargl\",\"marker\":{\"colorbar\":{\"outlinewidth\":0,\"ticks\":\"\"}}}],\"bar\":[{\"error_x\":{\"color\":\"#2a3f5f\"},\"error_y\":{\"color\":\"#2a3f5f\"},\"marker\":{\"line\":{\"color\":\"#E5ECF6\",\"width\":0.5},\"pattern\":{\"fillmode\":\"overlay\",\"size\":10,\"solidity\":0.2}},\"type\":\"bar\"}],\"scattergeo\":[{\"type\":\"scattergeo\",\"marker\":{\"colorbar\":{\"outlinewidth\":0,\"ticks\":\"\"}}}],\"scatterpolar\":[{\"type\":\"scatterpolar\",\"marker\":{\"colorbar\":{\"outlinewidth\":0,\"ticks\":\"\"}}}],\"histogram\":[{\"marker\":{\"pattern\":{\"fillmode\":\"overlay\",\"size\":10,\"solidity\":0.2}},\"type\":\"histogram\"}],\"scattergl\":[{\"type\":\"scattergl\",\"marker\":{\"colorbar\":{\"outlinewidth\":0,\"ticks\":\"\"}}}],\"scatter3d\":[{\"type\":\"scatter3d\",\"line\":{\"colorbar\":{\"outlinewidth\":0,\"ticks\":\"\"}},\"marker\":{\"colorbar\":{\"outlinewidth\":0,\"ticks\":\"\"}}}],\"scattermapbox\":[{\"type\":\"scattermapbox\",\"marker\":{\"colorbar\":{\"outlinewidth\":0,\"ticks\":\"\"}}}],\"scatterternary\":[{\"type\":\"scatterternary\",\"marker\":{\"colorbar\":{\"outlinewidth\":0,\"ticks\":\"\"}}}],\"scattercarpet\":[{\"type\":\"scattercarpet\",\"marker\":{\"colorbar\":{\"outlinewidth\":0,\"ticks\":\"\"}}}],\"carpet\":[{\"aaxis\":{\"endlinecolor\":\"#2a3f5f\",\"gridcolor\":\"white\",\"linecolor\":\"white\",\"minorgridcolor\":\"white\",\"startlinecolor\":\"#2a3f5f\"},\"baxis\":{\"endlinecolor\":\"#2a3f5f\",\"gridcolor\":\"white\",\"linecolor\":\"white\",\"minorgridcolor\":\"white\",\"startlinecolor\":\"#2a3f5f\"},\"type\":\"carpet\"}],\"table\":[{\"cells\":{\"fill\":{\"color\":\"#EBF0F8\"},\"line\":{\"color\":\"white\"}},\"header\":{\"fill\":{\"color\":\"#C8D4E3\"},\"line\":{\"color\":\"white\"}},\"type\":\"table\"}],\"barpolar\":[{\"marker\":{\"line\":{\"color\":\"#E5ECF6\",\"width\":0.5},\"pattern\":{\"fillmode\":\"overlay\",\"size\":10,\"solidity\":0.2}},\"type\":\"barpolar\"}],\"pie\":[{\"automargin\":true,\"type\":\"pie\"}]},\"layout\":{\"autotypenumbers\":\"strict\",\"colorway\":[\"#636efa\",\"#EF553B\",\"#00cc96\",\"#ab63fa\",\"#FFA15A\",\"#19d3f3\",\"#FF6692\",\"#B6E880\",\"#FF97FF\",\"#FECB52\"],\"font\":{\"color\":\"#2a3f5f\"},\"hovermode\":\"closest\",\"hoverlabel\":{\"align\":\"left\"},\"paper_bgcolor\":\"white\",\"plot_bgcolor\":\"#E5ECF6\",\"polar\":{\"bgcolor\":\"#E5ECF6\",\"angularaxis\":{\"gridcolor\":\"white\",\"linecolor\":\"white\",\"ticks\":\"\"},\"radialaxis\":{\"gridcolor\":\"white\",\"linecolor\":\"white\",\"ticks\":\"\"}},\"ternary\":{\"bgcolor\":\"#E5ECF6\",\"aaxis\":{\"gridcolor\":\"white\",\"linecolor\":\"white\",\"ticks\":\"\"},\"baxis\":{\"gridcolor\":\"white\",\"linecolor\":\"white\",\"ticks\":\"\"},\"caxis\":{\"gridcolor\":\"white\",\"linecolor\":\"white\",\"ticks\":\"\"}},\"coloraxis\":{\"colorbar\":{\"outlinewidth\":0,\"ticks\":\"\"}},\"colorscale\":{\"sequential\":[[0.0,\"#0d0887\"],[0.1111111111111111,\"#46039f\"],[0.2222222222222222,\"#7201a8\"],[0.3333333333333333,\"#9c179e\"],[0.4444444444444444,\"#bd3786\"],[0.5555555555555556,\"#d8576b\"],[0.6666666666666666,\"#ed7953\"],[0.7777777777777778,\"#fb9f3a\"],[0.8888888888888888,\"#fdca26\"],[1.0,\"#f0f921\"]],\"sequentialminus\":[[0.0,\"#0d0887\"],[0.1111111111111111,\"#46039f\"],[0.2222222222222222,\"#7201a8\"],[0.3333333333333333,\"#9c179e\"],[0.4444444444444444,\"#bd3786\"],[0.5555555555555556,\"#d8576b\"],[0.6666666666666666,\"#ed7953\"],[0.7777777777777778,\"#fb9f3a\"],[0.8888888888888888,\"#fdca26\"],[1.0,\"#f0f921\"]],\"diverging\":[[0,\"#8e0152\"],[0.1,\"#c51b7d\"],[0.2,\"#de77ae\"],[0.3,\"#f1b6da\"],[0.4,\"#fde0ef\"],[0.5,\"#f7f7f7\"],[0.6,\"#e6f5d0\"],[0.7,\"#b8e186\"],[0.8,\"#7fbc41\"],[0.9,\"#4d9221\"],[1,\"#276419\"]]},\"xaxis\":{\"gridcolor\":\"white\",\"linecolor\":\"white\",\"ticks\":\"\",\"title\":{\"standoff\":15},\"zerolinecolor\":\"white\",\"automargin\":true,\"zerolinewidth\":2},\"yaxis\":{\"gridcolor\":\"white\",\"linecolor\":\"white\",\"ticks\":\"\",\"title\":{\"standoff\":15},\"zerolinecolor\":\"white\",\"automargin\":true,\"zerolinewidth\":2},\"scene\":{\"xaxis\":{\"backgroundcolor\":\"#E5ECF6\",\"gridcolor\":\"white\",\"linecolor\":\"white\",\"showbackground\":true,\"ticks\":\"\",\"zerolinecolor\":\"white\",\"gridwidth\":2},\"yaxis\":{\"backgroundcolor\":\"#E5ECF6\",\"gridcolor\":\"white\",\"linecolor\":\"white\",\"showbackground\":true,\"ticks\":\"\",\"zerolinecolor\":\"white\",\"gridwidth\":2},\"zaxis\":{\"backgroundcolor\":\"#E5ECF6\",\"gridcolor\":\"white\",\"linecolor\":\"white\",\"showbackground\":true,\"ticks\":\"\",\"zerolinecolor\":\"white\",\"gridwidth\":2}},\"shapedefaults\":{\"line\":{\"color\":\"#2a3f5f\"}},\"annotationdefaults\":{\"arrowcolor\":\"#2a3f5f\",\"arrowhead\":0,\"arrowwidth\":1},\"geo\":{\"bgcolor\":\"white\",\"landcolor\":\"#E5ECF6\",\"subunitcolor\":\"white\",\"showland\":true,\"showlakes\":true,\"lakecolor\":\"white\"},\"title\":{\"x\":0.05},\"mapbox\":{\"style\":\"light\"}}},\"scene\":{\"domain\":{\"x\":[0.0,1.0],\"y\":[0.0,1.0]},\"xaxis\":{\"title\":{\"text\":\"0\"}},\"yaxis\":{\"title\":{\"text\":\"1\"}},\"zaxis\":{\"title\":{\"text\":\"2\"}}},\"legend\":{\"title\":{\"text\":\"species\"},\"tracegroupgap\":0},\"margin\":{\"t\":60},\"xaxis\":{\"range\":[-20,20],\"dtick\":5},\"yaxis\":{\"range\":[-20,20]},\"width\":1000,\"height\":900},                        {\"responsive\": true}                    ).then(function(){\n",
       "                            \n",
       "var gd = document.getElementById('592bb4ab-4f1f-42b9-9017-6d3241a28320');\n",
       "var x = new MutationObserver(function (mutations, observer) {{\n",
       "        var display = window.getComputedStyle(gd).display;\n",
       "        if (!display || display === 'none') {{\n",
       "            console.log([gd, 'removed!']);\n",
       "            Plotly.purge(gd);\n",
       "            observer.disconnect();\n",
       "        }}\n",
       "}});\n",
       "\n",
       "// Listen for the removal of the full notebook cells\n",
       "var notebookContainer = gd.closest('#notebook-container');\n",
       "if (notebookContainer) {{\n",
       "    x.observe(notebookContainer, {childList: true});\n",
       "}}\n",
       "\n",
       "// Listen for the clearing of the current output cell\n",
       "var outputEl = gd.closest('.output');\n",
       "if (outputEl) {{\n",
       "    x.observe(outputEl, {childList: true});\n",
       "}}\n",
       "\n",
       "                        })                };                });            </script>        </div>"
      ]
     },
     "metadata": {},
     "output_type": "display_data"
    }
   ],
   "source": [
    "tsne_3d = TSNE(n_components=3, random_state=0)\n",
    "proj_tsne_phyl_3d = tsne_3d.fit_transform(phyl)\n",
    "\n",
    "tsne_phyl_3d = px.scatter_3d(\n",
    "    proj_tsne_phyl_3d, x=0, y=1, z=2,\n",
    "    color=colour.Color_species, labels={'color': 'species'}\n",
    ")\n",
    "tsne_phyl_3d.update_traces(marker_size=8)\n",
    "tsne_phyl_3d.update_layout(xaxis_range=[-20, 20], yaxis_range=[-20, 20])\n",
    "tsne_phyl_3d.update_layout(width=1000, height=900)\n",
    "tsne_phyl_3d.update_xaxes(dtick=5)\n",
    "tsne_phyl_3d.show()"
   ]
  },
  {
   "cell_type": "markdown",
   "id": "14644584-6043-4d48-93ff-73b42f548a97",
   "metadata": {},
   "source": [
    "# UMAP"
   ]
  },
  {
   "cell_type": "code",
   "execution_count": 8,
   "id": "822382f8-f6c1-4928-9fd4-c6b78b1bfbb1",
   "metadata": {},
   "outputs": [
    {
     "data": {
      "application/vnd.plotly.v1+json": {
       "config": {
        "plotlyServerURL": "https://plot.ly"
       },
       "data": [
        {
         "hovertemplate": "species=Echinodermata<br>0=%{x}<br>1=%{y}<extra></extra>",
         "legendgroup": "Echinodermata",
         "marker": {
          "color": "#636efa",
          "symbol": "circle"
         },
         "mode": "markers",
         "name": "Echinodermata",
         "orientation": "v",
         "showlegend": true,
         "type": "scatter",
         "x": [
          14.470534324645996,
          -1.0313472747802734,
          14.646657943725586,
          14.642614364624023,
          14.62256145477295,
          -0.8713857531547546,
          -0.9413882493972778,
          -1.0545955896377563,
          -1.1280075311660767,
          -0.6416863799095154
         ],
         "xaxis": "x",
         "y": [
          4.406571865081787,
          6.628721237182617,
          4.622323513031006,
          4.615591526031494,
          4.6385674476623535,
          5.306930065155029,
          5.338160514831543,
          5.381190299987793,
          5.41819429397583,
          5.322468280792236
         ],
         "yaxis": "y"
        },
        {
         "hovertemplate": "species=Arthropoda<br>0=%{x}<br>1=%{y}<extra></extra>",
         "legendgroup": "Arthropoda",
         "marker": {
          "color": "#EF553B",
          "symbol": "circle"
         },
         "mode": "markers",
         "name": "Arthropoda",
         "orientation": "v",
         "showlegend": true,
         "type": "scatter",
         "x": [
          14.365252494812012,
          13.717751502990723,
          13.247533798217773,
          13.38801097869873,
          13.367527961730957,
          13.006738662719727,
          14.197897911071777,
          14.276801109313965,
          13.761021614074707,
          12.589349746704102,
          14.171954154968262,
          13.075271606445312,
          12.458600044250488,
          12.551321029663086,
          13.03341293334961,
          12.648723602294922,
          12.564842224121094,
          13.014248847961426,
          12.48442554473877,
          12.62064266204834,
          13.822083473205566,
          14.004438400268555,
          14.139201164245605,
          14.07748031616211,
          14.370677947998047,
          13.237411499023438,
          -1.5058096647262573,
          12.893272399902344,
          12.912097930908203,
          12.882699012756348,
          13.020620346069336,
          12.84241008758545,
          12.99778938293457,
          13.051328659057617,
          13.084242820739746,
          12.96694278717041,
          12.891746520996094,
          12.92842960357666,
          -1.6074084043502808,
          13.514749526977539,
          14.442475318908691,
          14.511017799377441,
          14.486005783081055,
          -1.3696112632751465,
          15.791581153869629,
          15.848730087280273,
          16.06778335571289,
          15.990018844604492,
          12.82972526550293,
          15.417275428771973,
          15.690657615661621,
          15.535616874694824,
          14.852877616882324,
          12.611703872680664,
          14.295148849487305,
          14.455327987670898,
          15.896939277648926,
          15.938799858093262,
          15.843826293945312,
          15.627952575683594,
          15.655930519104004,
          15.600090026855469,
          14.803492546081543,
          14.950028419494629,
          1.2802681922912598,
          12.743770599365234,
          15.464940071105957,
          15.395974159240723,
          14.331250190734863,
          14.311263084411621,
          14.30594253540039,
          14.24313735961914,
          14.222841262817383,
          13.294843673706055,
          13.606807708740234,
          14.42123031616211,
          14.509458541870117,
          -2.068781852722168,
          13.890759468078613,
          13.569320678710938,
          14.417251586914062,
          -2.037637233734131,
          15.094263076782227,
          14.6132230758667
         ],
         "xaxis": "x",
         "y": [
          1.3339895009994507,
          1.5119268894195557,
          1.2614823579788208,
          1.3415451049804688,
          1.3564175367355347,
          1.679050087928772,
          1.447821855545044,
          1.421058177947998,
          1.2337367534637451,
          1.4035921096801758,
          2.9758505821228027,
          0.7824757099151611,
          0.3564031422138214,
          0.5704110264778137,
          0.738347589969635,
          0.4989376664161682,
          0.4337559640407562,
          0.8086671829223633,
          0.40127676725387573,
          1.1440670490264893,
          2.1122798919677734,
          2.616946220397949,
          2.8163583278656006,
          2.756639242172241,
          1.3295037746429443,
          1.296959400177002,
          3.288548469543457,
          5.327301025390625,
          5.221989154815674,
          5.2111005783081055,
          5.112394332885742,
          5.282872200012207,
          5.040323257446289,
          5.0616350173950195,
          5.156861305236816,
          5.40588903427124,
          5.375449180603027,
          5.3535990715026855,
          3.1646487712860107,
          1.5013796091079712,
          5.451679706573486,
          5.3866400718688965,
          5.462177753448486,
          3.474721670150757,
          6.566915512084961,
          6.62652587890625,
          6.809499263763428,
          6.745882034301758,
          1.5792158842086792,
          6.156291484832764,
          6.475950241088867,
          5.976719379425049,
          5.34242057800293,
          0.3982124924659729,
          1.405527949333191,
          5.498767852783203,
          6.676703453063965,
          6.7081403732299805,
          6.626713275909424,
          6.41167688369751,
          6.451544284820557,
          6.368314266204834,
          5.321010589599609,
          5.5000152587890625,
          7.23932409286499,
          1.6247838735580444,
          6.178502559661865,
          6.115203380584717,
          3.6891355514526367,
          3.7079944610595703,
          3.429513692855835,
          3.3439862728118896,
          3.2826075553894043,
          1.4772999286651611,
          1.5991642475128174,
          3.983431577682495,
          4.270164489746094,
          2.3165969848632812,
          2.551051616668701,
          2.4051289558410645,
          5.485548973083496,
          2.2913219928741455,
          5.706862449645996,
          4.910670280456543
         ],
         "yaxis": "y"
        },
        {
         "hovertemplate": "species=Mollusca<br>0=%{x}<br>1=%{y}<extra></extra>",
         "legendgroup": "Mollusca",
         "marker": {
          "color": "#00cc96",
          "symbol": "circle"
         },
         "mode": "markers",
         "name": "Mollusca",
         "orientation": "v",
         "showlegend": true,
         "type": "scatter",
         "x": [
          13.895425796508789,
          13.563952445983887,
          -1.914296269416809,
          -1.36319899559021,
          -1.378571629524231,
          -2.1196680068969727,
          -1.4622948169708252,
          11.24186897277832,
          11.420790672302246,
          11.379461288452148,
          11.217700004577637,
          11.225484848022461,
          13.330635070800781,
          -1.3846051692962646,
          -1.5031774044036865,
          11.706718444824219,
          12.889591217041016,
          12.978793144226074,
          11.455151557922363,
          -0.7432597875595093,
          -0.5073898434638977,
          -0.3938834071159363,
          14.350964546203613,
          11.456233024597168,
          -1.2189841270446777,
          -1.4701560735702515,
          -1.3265701532363892,
          -1.9684125185012817,
          -0.5065180063247681,
          11.394133567810059,
          11.4601411819458,
          2.093402862548828,
          2.1661808490753174,
          2.030104398727417,
          2.0815396308898926,
          2.095337390899658
         ],
         "xaxis": "x",
         "y": [
          1.6666216850280762,
          1.6994802951812744,
          2.841975450515747,
          3.7190120220184326,
          3.7573132514953613,
          2.4343554973602295,
          3.4980661869049072,
          1.503027081489563,
          1.5043599605560303,
          1.6476542949676514,
          1.422574758529663,
          1.4271849393844604,
          1.7977467775344849,
          3.6633899211883545,
          3.562591791152954,
          1.4157555103302002,
          1.7278966903686523,
          1.6384774446487427,
          1.6167789697647095,
          5.8603291511535645,
          5.766114711761475,
          5.707090854644775,
          4.371959209442139,
          1.5533932447433472,
          6.058932304382324,
          3.4979467391967773,
          5.972275257110596,
          2.6435508728027344,
          5.736767292022705,
          1.5474880933761597,
          1.6177406311035156,
          6.433258056640625,
          6.474976539611816,
          6.50739049911499,
          6.424062728881836,
          6.430331230163574
         ],
         "yaxis": "y"
        },
        {
         "hovertemplate": "species=Annelida<br>0=%{x}<br>1=%{y}<extra></extra>",
         "legendgroup": "Annelida",
         "marker": {
          "color": "#ab63fa",
          "symbol": "circle"
         },
         "mode": "markers",
         "name": "Annelida",
         "orientation": "v",
         "showlegend": true,
         "type": "scatter",
         "x": [
          -1.3593945503234863,
          -1.1551166772842407,
          -1.335671067237854,
          -0.783097505569458,
          13.90795612335205,
          -2.0449154376983643,
          14.638416290283203,
          -1.9536231756210327,
          -1.189849853515625
         ],
         "xaxis": "x",
         "y": [
          6.243381023406982,
          6.035434722900391,
          6.002598762512207,
          6.151047706604004,
          1.993926763534546,
          2.484525203704834,
          4.81080436706543,
          2.627152919769287,
          6.072696208953857
         ],
         "yaxis": "y"
        },
        {
         "hovertemplate": "species=Chordata<br>0=%{x}<br>1=%{y}<extra></extra>",
         "legendgroup": "Chordata",
         "marker": {
          "color": "#FFA15A",
          "symbol": "circle"
         },
         "mode": "markers",
         "name": "Chordata",
         "orientation": "v",
         "showlegend": true,
         "type": "scatter",
         "x": [
          -2.402907371520996,
          1.7448210716247559,
          -1.2285763025283813,
          3.937181234359741,
          3.8526768684387207,
          3.929109811782837,
          4.8262038230896,
          4.216753959655762,
          3.862175941467285,
          4.764676570892334,
          3.8850648403167725,
          4.558869361877441,
          4.489999771118164,
          3.805485963821411,
          4.052052974700928,
          4.787342548370361,
          4.754802703857422,
          3.908947706222534,
          4.654692649841309,
          3.9415206909179688,
          4.2149152755737305,
          3.8135287761688232,
          4.062991619110107,
          4.707237720489502,
          4.182035446166992,
          4.562941551208496,
          4.367988109588623,
          3.747004747390747,
          4.023592948913574,
          4.177154541015625,
          3.8316104412078857,
          3.7174253463745117,
          2.304121732711792,
          -1.4836430549621582,
          -1.5272318124771118,
          -1.4230691194534302,
          -1.4374935626983643,
          -1.539649248123169,
          -1.5095609426498413,
          -1.4236048460006714,
          -1.486971378326416,
          -1.5815764665603638,
          -1.6820259094238281,
          -1.5854992866516113,
          -1.6553235054016113,
          -1.4705617427825928,
          1.7083252668380737,
          -1.4608429670333862,
          -1.6157188415527344,
          1.653910517692566,
          1.6003140211105347,
          1.5759459733963013,
          1.5396137237548828,
          1.620558500289917,
          1.562473177909851,
          2.448866367340088,
          2.273411512374878,
          2.3525478839874268,
          2.3792827129364014,
          2.5482120513916016,
          2.373183250427246,
          2.4740827083587646,
          2.255444049835205,
          2.32529616355896,
          2.389476776123047,
          2.218440294265747,
          2.282437801361084,
          3.984708547592163,
          1.7737867832183838,
          1.753784418106079,
          2.2691972255706787,
          -2.0467488765716553,
          -1.9923285245895386,
          -2.3846237659454346,
          -2.19208025932312,
          -2.3634889125823975,
          -2.291313886642456,
          -2.016267776489258,
          -2.363604784011841,
          -1.8771815299987793,
          -2.0094385147094727,
          -2.0236763954162598,
          -1.976793885231018,
          2.3915889263153076,
          4.819509506225586,
          3.827010154724121,
          -2.3489274978637695,
          1.513459324836731
         ],
         "xaxis": "x",
         "y": [
          -4.535654067993164,
          8.48531723022461,
          6.279577255249023,
          12.409675598144531,
          11.848542213439941,
          12.238513946533203,
          12.451988220214844,
          12.572229385375977,
          12.428083419799805,
          12.438488960266113,
          12.200594902038574,
          12.69159984588623,
          12.627318382263184,
          11.933501243591309,
          12.330509185791016,
          12.360836029052734,
          12.463724136352539,
          11.82406997680664,
          12.233183860778809,
          11.855520248413086,
          11.511079788208008,
          12.17690372467041,
          11.657699584960938,
          12.489921569824219,
          11.591521263122559,
          12.007468223571777,
          11.849838256835938,
          11.290462493896484,
          11.397880554199219,
          12.569562911987305,
          11.309712409973145,
          11.238055229187012,
          8.748340606689453,
          2.1674559116363525,
          2.149606704711914,
          1.5998269319534302,
          2.9053187370300293,
          1.706015706062317,
          2.5926284790039062,
          2.762263774871826,
          1.6784496307373047,
          2.12207293510437,
          1.9193717241287231,
          1.7056041955947876,
          1.8509502410888672,
          1.6607353687286377,
          8.374772071838379,
          1.7701760530471802,
          1.9773409366607666,
          7.488861560821533,
          7.5510783195495605,
          7.462309837341309,
          7.36424446105957,
          7.710115909576416,
          7.836619853973389,
          9.215075492858887,
          8.9799222946167,
          9.049226760864258,
          8.949049949645996,
          8.37039566040039,
          8.449435234069824,
          8.3578462600708,
          8.7106294631958,
          8.741766929626465,
          8.654595375061035,
          8.652210235595703,
          8.548230171203613,
          12.011638641357422,
          8.279376029968262,
          8.317537307739258,
          8.094106674194336,
          -5.696220874786377,
          -5.728432655334473,
          -4.613712310791016,
          -5.547354698181152,
          -4.595973491668701,
          -4.669107437133789,
          -5.742973804473877,
          -4.591914653778076,
          -5.856199741363525,
          -5.7212910652160645,
          -5.7225775718688965,
          -5.754835605621338,
          8.257253646850586,
          12.378005981445312,
          12.169808387756348,
          -4.616424560546875,
          7.3095703125
         ],
         "yaxis": "y"
        },
        {
         "hovertemplate": "species=Cnidaria<br>0=%{x}<br>1=%{y}<extra></extra>",
         "legendgroup": "Cnidaria",
         "marker": {
          "color": "#19d3f3",
          "symbol": "circle"
         },
         "mode": "markers",
         "name": "Cnidaria",
         "orientation": "v",
         "showlegend": true,
         "type": "scatter",
         "x": [
          -1.2408039569854736,
          -0.6087161898612976,
          -1.0197759866714478,
          -0.8274542093276978,
          -1.1468236446380615,
          -0.14190885424613953
         ],
         "xaxis": "x",
         "y": [
          4.785986423492432,
          4.953853130340576,
          4.907269477844238,
          5.045293807983398,
          4.905350208282471,
          5.468284606933594
         ],
         "yaxis": "y"
        },
        {
         "hovertemplate": "species=Porifera<br>0=%{x}<br>1=%{y}<extra></extra>",
         "legendgroup": "Porifera",
         "marker": {
          "color": "#FF6692",
          "symbol": "circle"
         },
         "mode": "markers",
         "name": "Porifera",
         "orientation": "v",
         "showlegend": true,
         "type": "scatter",
         "x": [
          -1.1993306875228882
         ],
         "xaxis": "x",
         "y": [
          5.5103302001953125
         ],
         "yaxis": "y"
        },
        {
         "hovertemplate": "species=Placozoa<br>0=%{x}<br>1=%{y}<extra></extra>",
         "legendgroup": "Placozoa",
         "marker": {
          "color": "#B6E880",
          "symbol": "circle"
         },
         "mode": "markers",
         "name": "Placozoa",
         "orientation": "v",
         "showlegend": true,
         "type": "scatter",
         "x": [
          -1.2720273733139038
         ],
         "xaxis": "x",
         "y": [
          5.843341827392578
         ],
         "yaxis": "y"
        },
        {
         "hovertemplate": "species=Bacteria<br>0=%{x}<br>1=%{y}<extra></extra>",
         "legendgroup": "Bacteria",
         "marker": {
          "color": "#FF97FF",
          "symbol": "circle"
         },
         "mode": "markers",
         "name": "Bacteria",
         "orientation": "v",
         "showlegend": true,
         "type": "scatter",
         "x": [
          -0.4493492841720581,
          -0.35257959365844727,
          -1.0083338022232056
         ],
         "xaxis": "x",
         "y": [
          5.447798728942871,
          5.436522006988525,
          5.373169422149658
         ],
         "yaxis": "y"
        },
        {
         "hovertemplate": "species=Nematoda<br>0=%{x}<br>1=%{y}<extra></extra>",
         "legendgroup": "Nematoda",
         "marker": {
          "color": "#FECB52",
          "symbol": "circle"
         },
         "mode": "markers",
         "name": "Nematoda",
         "orientation": "v",
         "showlegend": true,
         "type": "scatter",
         "x": [
          13.512168884277344,
          13.571142196655273,
          13.41792106628418,
          0.6309148669242859,
          0.6894909143447876,
          0.6444025039672852,
          0.6017971634864807,
          0.7163665890693665,
          1.2891840934753418,
          1.1703743934631348
         ],
         "xaxis": "x",
         "y": [
          2.3770205974578857,
          2.355236530303955,
          2.308215379714966,
          6.2389984130859375,
          6.195822238922119,
          6.224171161651611,
          6.1909356117248535,
          6.295130729675293,
          7.067660331726074,
          6.688173294067383
         ],
         "yaxis": "y"
        },
        {
         "hovertemplate": "species=Hemichordata<br>0=%{x}<br>1=%{y}<extra></extra>",
         "legendgroup": "Hemichordata",
         "marker": {
          "color": "#636efa",
          "symbol": "circle"
         },
         "mode": "markers",
         "name": "Hemichordata",
         "orientation": "v",
         "showlegend": true,
         "type": "scatter",
         "x": [
          1.7371392250061035
         ],
         "xaxis": "x",
         "y": [
          8.28187370300293
         ],
         "yaxis": "y"
        },
        {
         "hovertemplate": "species=Fungi<br>0=%{x}<br>1=%{y}<extra></extra>",
         "legendgroup": "Fungi",
         "marker": {
          "color": "#EF553B",
          "symbol": "circle"
         },
         "mode": "markers",
         "name": "Fungi",
         "orientation": "v",
         "showlegend": true,
         "type": "scatter",
         "x": [
          0.3987061679363251,
          0.6107426881790161
         ],
         "xaxis": "x",
         "y": [
          5.75148344039917,
          5.873697280883789
         ],
         "yaxis": "y"
        },
        {
         "hovertemplate": "species=Viridiplantae<br>0=%{x}<br>1=%{y}<extra></extra>",
         "legendgroup": "Viridiplantae",
         "marker": {
          "color": "#00cc96",
          "symbol": "circle"
         },
         "mode": "markers",
         "name": "Viridiplantae",
         "orientation": "v",
         "showlegend": true,
         "type": "scatter",
         "x": [
          -0.8520456552505493
         ],
         "xaxis": "x",
         "y": [
          5.403661251068115
         ],
         "yaxis": "y"
        }
       ],
       "layout": {
        "height": 900,
        "legend": {
         "title": {
          "text": "species"
         },
         "tracegroupgap": 0
        },
        "margin": {
         "t": 60
        },
        "template": {
         "data": {
          "bar": [
           {
            "error_x": {
             "color": "#2a3f5f"
            },
            "error_y": {
             "color": "#2a3f5f"
            },
            "marker": {
             "line": {
              "color": "#E5ECF6",
              "width": 0.5
             },
             "pattern": {
              "fillmode": "overlay",
              "size": 10,
              "solidity": 0.2
             }
            },
            "type": "bar"
           }
          ],
          "barpolar": [
           {
            "marker": {
             "line": {
              "color": "#E5ECF6",
              "width": 0.5
             },
             "pattern": {
              "fillmode": "overlay",
              "size": 10,
              "solidity": 0.2
             }
            },
            "type": "barpolar"
           }
          ],
          "carpet": [
           {
            "aaxis": {
             "endlinecolor": "#2a3f5f",
             "gridcolor": "white",
             "linecolor": "white",
             "minorgridcolor": "white",
             "startlinecolor": "#2a3f5f"
            },
            "baxis": {
             "endlinecolor": "#2a3f5f",
             "gridcolor": "white",
             "linecolor": "white",
             "minorgridcolor": "white",
             "startlinecolor": "#2a3f5f"
            },
            "type": "carpet"
           }
          ],
          "choropleth": [
           {
            "colorbar": {
             "outlinewidth": 0,
             "ticks": ""
            },
            "type": "choropleth"
           }
          ],
          "contour": [
           {
            "colorbar": {
             "outlinewidth": 0,
             "ticks": ""
            },
            "colorscale": [
             [
              0,
              "#0d0887"
             ],
             [
              0.1111111111111111,
              "#46039f"
             ],
             [
              0.2222222222222222,
              "#7201a8"
             ],
             [
              0.3333333333333333,
              "#9c179e"
             ],
             [
              0.4444444444444444,
              "#bd3786"
             ],
             [
              0.5555555555555556,
              "#d8576b"
             ],
             [
              0.6666666666666666,
              "#ed7953"
             ],
             [
              0.7777777777777778,
              "#fb9f3a"
             ],
             [
              0.8888888888888888,
              "#fdca26"
             ],
             [
              1,
              "#f0f921"
             ]
            ],
            "type": "contour"
           }
          ],
          "contourcarpet": [
           {
            "colorbar": {
             "outlinewidth": 0,
             "ticks": ""
            },
            "type": "contourcarpet"
           }
          ],
          "heatmap": [
           {
            "colorbar": {
             "outlinewidth": 0,
             "ticks": ""
            },
            "colorscale": [
             [
              0,
              "#0d0887"
             ],
             [
              0.1111111111111111,
              "#46039f"
             ],
             [
              0.2222222222222222,
              "#7201a8"
             ],
             [
              0.3333333333333333,
              "#9c179e"
             ],
             [
              0.4444444444444444,
              "#bd3786"
             ],
             [
              0.5555555555555556,
              "#d8576b"
             ],
             [
              0.6666666666666666,
              "#ed7953"
             ],
             [
              0.7777777777777778,
              "#fb9f3a"
             ],
             [
              0.8888888888888888,
              "#fdca26"
             ],
             [
              1,
              "#f0f921"
             ]
            ],
            "type": "heatmap"
           }
          ],
          "heatmapgl": [
           {
            "colorbar": {
             "outlinewidth": 0,
             "ticks": ""
            },
            "colorscale": [
             [
              0,
              "#0d0887"
             ],
             [
              0.1111111111111111,
              "#46039f"
             ],
             [
              0.2222222222222222,
              "#7201a8"
             ],
             [
              0.3333333333333333,
              "#9c179e"
             ],
             [
              0.4444444444444444,
              "#bd3786"
             ],
             [
              0.5555555555555556,
              "#d8576b"
             ],
             [
              0.6666666666666666,
              "#ed7953"
             ],
             [
              0.7777777777777778,
              "#fb9f3a"
             ],
             [
              0.8888888888888888,
              "#fdca26"
             ],
             [
              1,
              "#f0f921"
             ]
            ],
            "type": "heatmapgl"
           }
          ],
          "histogram": [
           {
            "marker": {
             "pattern": {
              "fillmode": "overlay",
              "size": 10,
              "solidity": 0.2
             }
            },
            "type": "histogram"
           }
          ],
          "histogram2d": [
           {
            "colorbar": {
             "outlinewidth": 0,
             "ticks": ""
            },
            "colorscale": [
             [
              0,
              "#0d0887"
             ],
             [
              0.1111111111111111,
              "#46039f"
             ],
             [
              0.2222222222222222,
              "#7201a8"
             ],
             [
              0.3333333333333333,
              "#9c179e"
             ],
             [
              0.4444444444444444,
              "#bd3786"
             ],
             [
              0.5555555555555556,
              "#d8576b"
             ],
             [
              0.6666666666666666,
              "#ed7953"
             ],
             [
              0.7777777777777778,
              "#fb9f3a"
             ],
             [
              0.8888888888888888,
              "#fdca26"
             ],
             [
              1,
              "#f0f921"
             ]
            ],
            "type": "histogram2d"
           }
          ],
          "histogram2dcontour": [
           {
            "colorbar": {
             "outlinewidth": 0,
             "ticks": ""
            },
            "colorscale": [
             [
              0,
              "#0d0887"
             ],
             [
              0.1111111111111111,
              "#46039f"
             ],
             [
              0.2222222222222222,
              "#7201a8"
             ],
             [
              0.3333333333333333,
              "#9c179e"
             ],
             [
              0.4444444444444444,
              "#bd3786"
             ],
             [
              0.5555555555555556,
              "#d8576b"
             ],
             [
              0.6666666666666666,
              "#ed7953"
             ],
             [
              0.7777777777777778,
              "#fb9f3a"
             ],
             [
              0.8888888888888888,
              "#fdca26"
             ],
             [
              1,
              "#f0f921"
             ]
            ],
            "type": "histogram2dcontour"
           }
          ],
          "mesh3d": [
           {
            "colorbar": {
             "outlinewidth": 0,
             "ticks": ""
            },
            "type": "mesh3d"
           }
          ],
          "parcoords": [
           {
            "line": {
             "colorbar": {
              "outlinewidth": 0,
              "ticks": ""
             }
            },
            "type": "parcoords"
           }
          ],
          "pie": [
           {
            "automargin": true,
            "type": "pie"
           }
          ],
          "scatter": [
           {
            "fillpattern": {
             "fillmode": "overlay",
             "size": 10,
             "solidity": 0.2
            },
            "type": "scatter"
           }
          ],
          "scatter3d": [
           {
            "line": {
             "colorbar": {
              "outlinewidth": 0,
              "ticks": ""
             }
            },
            "marker": {
             "colorbar": {
              "outlinewidth": 0,
              "ticks": ""
             }
            },
            "type": "scatter3d"
           }
          ],
          "scattercarpet": [
           {
            "marker": {
             "colorbar": {
              "outlinewidth": 0,
              "ticks": ""
             }
            },
            "type": "scattercarpet"
           }
          ],
          "scattergeo": [
           {
            "marker": {
             "colorbar": {
              "outlinewidth": 0,
              "ticks": ""
             }
            },
            "type": "scattergeo"
           }
          ],
          "scattergl": [
           {
            "marker": {
             "colorbar": {
              "outlinewidth": 0,
              "ticks": ""
             }
            },
            "type": "scattergl"
           }
          ],
          "scattermapbox": [
           {
            "marker": {
             "colorbar": {
              "outlinewidth": 0,
              "ticks": ""
             }
            },
            "type": "scattermapbox"
           }
          ],
          "scatterpolar": [
           {
            "marker": {
             "colorbar": {
              "outlinewidth": 0,
              "ticks": ""
             }
            },
            "type": "scatterpolar"
           }
          ],
          "scatterpolargl": [
           {
            "marker": {
             "colorbar": {
              "outlinewidth": 0,
              "ticks": ""
             }
            },
            "type": "scatterpolargl"
           }
          ],
          "scatterternary": [
           {
            "marker": {
             "colorbar": {
              "outlinewidth": 0,
              "ticks": ""
             }
            },
            "type": "scatterternary"
           }
          ],
          "surface": [
           {
            "colorbar": {
             "outlinewidth": 0,
             "ticks": ""
            },
            "colorscale": [
             [
              0,
              "#0d0887"
             ],
             [
              0.1111111111111111,
              "#46039f"
             ],
             [
              0.2222222222222222,
              "#7201a8"
             ],
             [
              0.3333333333333333,
              "#9c179e"
             ],
             [
              0.4444444444444444,
              "#bd3786"
             ],
             [
              0.5555555555555556,
              "#d8576b"
             ],
             [
              0.6666666666666666,
              "#ed7953"
             ],
             [
              0.7777777777777778,
              "#fb9f3a"
             ],
             [
              0.8888888888888888,
              "#fdca26"
             ],
             [
              1,
              "#f0f921"
             ]
            ],
            "type": "surface"
           }
          ],
          "table": [
           {
            "cells": {
             "fill": {
              "color": "#EBF0F8"
             },
             "line": {
              "color": "white"
             }
            },
            "header": {
             "fill": {
              "color": "#C8D4E3"
             },
             "line": {
              "color": "white"
             }
            },
            "type": "table"
           }
          ]
         },
         "layout": {
          "annotationdefaults": {
           "arrowcolor": "#2a3f5f",
           "arrowhead": 0,
           "arrowwidth": 1
          },
          "autotypenumbers": "strict",
          "coloraxis": {
           "colorbar": {
            "outlinewidth": 0,
            "ticks": ""
           }
          },
          "colorscale": {
           "diverging": [
            [
             0,
             "#8e0152"
            ],
            [
             0.1,
             "#c51b7d"
            ],
            [
             0.2,
             "#de77ae"
            ],
            [
             0.3,
             "#f1b6da"
            ],
            [
             0.4,
             "#fde0ef"
            ],
            [
             0.5,
             "#f7f7f7"
            ],
            [
             0.6,
             "#e6f5d0"
            ],
            [
             0.7,
             "#b8e186"
            ],
            [
             0.8,
             "#7fbc41"
            ],
            [
             0.9,
             "#4d9221"
            ],
            [
             1,
             "#276419"
            ]
           ],
           "sequential": [
            [
             0,
             "#0d0887"
            ],
            [
             0.1111111111111111,
             "#46039f"
            ],
            [
             0.2222222222222222,
             "#7201a8"
            ],
            [
             0.3333333333333333,
             "#9c179e"
            ],
            [
             0.4444444444444444,
             "#bd3786"
            ],
            [
             0.5555555555555556,
             "#d8576b"
            ],
            [
             0.6666666666666666,
             "#ed7953"
            ],
            [
             0.7777777777777778,
             "#fb9f3a"
            ],
            [
             0.8888888888888888,
             "#fdca26"
            ],
            [
             1,
             "#f0f921"
            ]
           ],
           "sequentialminus": [
            [
             0,
             "#0d0887"
            ],
            [
             0.1111111111111111,
             "#46039f"
            ],
            [
             0.2222222222222222,
             "#7201a8"
            ],
            [
             0.3333333333333333,
             "#9c179e"
            ],
            [
             0.4444444444444444,
             "#bd3786"
            ],
            [
             0.5555555555555556,
             "#d8576b"
            ],
            [
             0.6666666666666666,
             "#ed7953"
            ],
            [
             0.7777777777777778,
             "#fb9f3a"
            ],
            [
             0.8888888888888888,
             "#fdca26"
            ],
            [
             1,
             "#f0f921"
            ]
           ]
          },
          "colorway": [
           "#636efa",
           "#EF553B",
           "#00cc96",
           "#ab63fa",
           "#FFA15A",
           "#19d3f3",
           "#FF6692",
           "#B6E880",
           "#FF97FF",
           "#FECB52"
          ],
          "font": {
           "color": "#2a3f5f"
          },
          "geo": {
           "bgcolor": "white",
           "lakecolor": "white",
           "landcolor": "#E5ECF6",
           "showlakes": true,
           "showland": true,
           "subunitcolor": "white"
          },
          "hoverlabel": {
           "align": "left"
          },
          "hovermode": "closest",
          "mapbox": {
           "style": "light"
          },
          "paper_bgcolor": "white",
          "plot_bgcolor": "#E5ECF6",
          "polar": {
           "angularaxis": {
            "gridcolor": "white",
            "linecolor": "white",
            "ticks": ""
           },
           "bgcolor": "#E5ECF6",
           "radialaxis": {
            "gridcolor": "white",
            "linecolor": "white",
            "ticks": ""
           }
          },
          "scene": {
           "xaxis": {
            "backgroundcolor": "#E5ECF6",
            "gridcolor": "white",
            "gridwidth": 2,
            "linecolor": "white",
            "showbackground": true,
            "ticks": "",
            "zerolinecolor": "white"
           },
           "yaxis": {
            "backgroundcolor": "#E5ECF6",
            "gridcolor": "white",
            "gridwidth": 2,
            "linecolor": "white",
            "showbackground": true,
            "ticks": "",
            "zerolinecolor": "white"
           },
           "zaxis": {
            "backgroundcolor": "#E5ECF6",
            "gridcolor": "white",
            "gridwidth": 2,
            "linecolor": "white",
            "showbackground": true,
            "ticks": "",
            "zerolinecolor": "white"
           }
          },
          "shapedefaults": {
           "line": {
            "color": "#2a3f5f"
           }
          },
          "ternary": {
           "aaxis": {
            "gridcolor": "white",
            "linecolor": "white",
            "ticks": ""
           },
           "baxis": {
            "gridcolor": "white",
            "linecolor": "white",
            "ticks": ""
           },
           "bgcolor": "#E5ECF6",
           "caxis": {
            "gridcolor": "white",
            "linecolor": "white",
            "ticks": ""
           }
          },
          "title": {
           "x": 0.05
          },
          "xaxis": {
           "automargin": true,
           "gridcolor": "white",
           "linecolor": "white",
           "ticks": "",
           "title": {
            "standoff": 15
           },
           "zerolinecolor": "white",
           "zerolinewidth": 2
          },
          "yaxis": {
           "automargin": true,
           "gridcolor": "white",
           "linecolor": "white",
           "ticks": "",
           "title": {
            "standoff": 15
           },
           "zerolinecolor": "white",
           "zerolinewidth": 2
          }
         }
        },
        "width": 1000,
        "xaxis": {
         "anchor": "y",
         "domain": [
          0,
          1
         ],
         "dtick": 5,
         "range": [
          -20,
          20
         ],
         "title": {
          "text": "0"
         },
         "type": "linear"
        },
        "yaxis": {
         "anchor": "x",
         "domain": [
          0,
          1
         ],
         "range": [
          -20,
          20
         ],
         "title": {
          "text": "1"
         },
         "type": "linear"
        }
       }
      },
      "image/png": "[encoded data removed]",
      "text/html": [
       "<div>                            <div id=\"a26c55aa-3997-425f-b540-d8ad0eac8483\" class=\"plotly-graph-div\" style=\"height:900px; width:1000px;\"></div>            <script type=\"text/javascript\">                require([\"plotly\"], function(Plotly) {                    window.PLOTLYENV=window.PLOTLYENV || {};                                    if (document.getElementById(\"a26c55aa-3997-425f-b540-d8ad0eac8483\")) {                    Plotly.newPlot(                        \"a26c55aa-3997-425f-b540-d8ad0eac8483\",                        [{\"hovertemplate\":\"species=Echinodermata<br>0=%{x}<br>1=%{y}<extra></extra>\",\"legendgroup\":\"Echinodermata\",\"marker\":{\"color\":\"#636efa\",\"symbol\":\"circle\"},\"mode\":\"markers\",\"name\":\"Echinodermata\",\"orientation\":\"v\",\"showlegend\":true,\"x\":[14.470534324645996,-1.0313472747802734,14.646657943725586,14.642614364624023,14.62256145477295,-0.8713857531547546,-0.9413882493972778,-1.0545955896377563,-1.1280075311660767,-0.6416863799095154],\"xaxis\":\"x\",\"y\":[4.406571865081787,6.628721237182617,4.622323513031006,4.615591526031494,4.6385674476623535,5.306930065155029,5.338160514831543,5.381190299987793,5.41819429397583,5.322468280792236],\"yaxis\":\"y\",\"type\":\"scatter\"},{\"hovertemplate\":\"species=Arthropoda<br>0=%{x}<br>1=%{y}<extra></extra>\",\"legendgroup\":\"Arthropoda\",\"marker\":{\"color\":\"#EF553B\",\"symbol\":\"circle\"},\"mode\":\"markers\",\"name\":\"Arthropoda\",\"orientation\":\"v\",\"showlegend\":true,\"x\":[14.365252494812012,13.717751502990723,13.247533798217773,13.38801097869873,13.367527961730957,13.006738662719727,14.197897911071777,14.276801109313965,13.761021614074707,12.589349746704102,14.171954154968262,13.075271606445312,12.458600044250488,12.551321029663086,13.03341293334961,12.648723602294922,12.564842224121094,13.014248847961426,12.48442554473877,12.62064266204834,13.822083473205566,14.004438400268555,14.139201164245605,14.07748031616211,14.370677947998047,13.237411499023438,-1.5058096647262573,12.893272399902344,12.912097930908203,12.882699012756348,13.020620346069336,12.84241008758545,12.99778938293457,13.051328659057617,13.084242820739746,12.96694278717041,12.891746520996094,12.92842960357666,-1.6074084043502808,13.514749526977539,14.442475318908691,14.511017799377441,14.486005783081055,-1.3696112632751465,15.791581153869629,15.848730087280273,16.06778335571289,15.990018844604492,12.82972526550293,15.417275428771973,15.690657615661621,15.535616874694824,14.852877616882324,12.611703872680664,14.295148849487305,14.455327987670898,15.896939277648926,15.938799858093262,15.843826293945312,15.627952575683594,15.655930519104004,15.600090026855469,14.803492546081543,14.950028419494629,1.2802681922912598,12.743770599365234,15.464940071105957,15.395974159240723,14.331250190734863,14.311263084411621,14.30594253540039,14.24313735961914,14.222841262817383,13.294843673706055,13.606807708740234,14.42123031616211,14.509458541870117,-2.068781852722168,13.890759468078613,13.569320678710938,14.417251586914062,-2.037637233734131,15.094263076782227,14.6132230758667],\"xaxis\":\"x\",\"y\":[1.3339895009994507,1.5119268894195557,1.2614823579788208,1.3415451049804688,1.3564175367355347,1.679050087928772,1.447821855545044,1.421058177947998,1.2337367534637451,1.4035921096801758,2.9758505821228027,0.7824757099151611,0.3564031422138214,0.5704110264778137,0.738347589969635,0.4989376664161682,0.4337559640407562,0.8086671829223633,0.40127676725387573,1.1440670490264893,2.1122798919677734,2.616946220397949,2.8163583278656006,2.756639242172241,1.3295037746429443,1.296959400177002,3.288548469543457,5.327301025390625,5.221989154815674,5.2111005783081055,5.112394332885742,5.282872200012207,5.040323257446289,5.0616350173950195,5.156861305236816,5.40588903427124,5.375449180603027,5.3535990715026855,3.1646487712860107,1.5013796091079712,5.451679706573486,5.3866400718688965,5.462177753448486,3.474721670150757,6.566915512084961,6.62652587890625,6.809499263763428,6.745882034301758,1.5792158842086792,6.156291484832764,6.475950241088867,5.976719379425049,5.34242057800293,0.3982124924659729,1.405527949333191,5.498767852783203,6.676703453063965,6.7081403732299805,6.626713275909424,6.41167688369751,6.451544284820557,6.368314266204834,5.321010589599609,5.5000152587890625,7.23932409286499,1.6247838735580444,6.178502559661865,6.115203380584717,3.6891355514526367,3.7079944610595703,3.429513692855835,3.3439862728118896,3.2826075553894043,1.4772999286651611,1.5991642475128174,3.983431577682495,4.270164489746094,2.3165969848632812,2.551051616668701,2.4051289558410645,5.485548973083496,2.2913219928741455,5.706862449645996,4.910670280456543],\"yaxis\":\"y\",\"type\":\"scatter\"},{\"hovertemplate\":\"species=Mollusca<br>0=%{x}<br>1=%{y}<extra></extra>\",\"legendgroup\":\"Mollusca\",\"marker\":{\"color\":\"#00cc96\",\"symbol\":\"circle\"},\"mode\":\"markers\",\"name\":\"Mollusca\",\"orientation\":\"v\",\"showlegend\":true,\"x\":[13.895425796508789,13.563952445983887,-1.914296269416809,-1.36319899559021,-1.378571629524231,-2.1196680068969727,-1.4622948169708252,11.24186897277832,11.420790672302246,11.379461288452148,11.217700004577637,11.225484848022461,13.330635070800781,-1.3846051692962646,-1.5031774044036865,11.706718444824219,12.889591217041016,12.978793144226074,11.455151557922363,-0.7432597875595093,-0.5073898434638977,-0.3938834071159363,14.350964546203613,11.456233024597168,-1.2189841270446777,-1.4701560735702515,-1.3265701532363892,-1.9684125185012817,-0.5065180063247681,11.394133567810059,11.4601411819458,2.093402862548828,2.1661808490753174,2.030104398727417,2.0815396308898926,2.095337390899658],\"xaxis\":\"x\",\"y\":[1.6666216850280762,1.6994802951812744,2.841975450515747,3.7190120220184326,3.7573132514953613,2.4343554973602295,3.4980661869049072,1.503027081489563,1.5043599605560303,1.6476542949676514,1.422574758529663,1.4271849393844604,1.7977467775344849,3.6633899211883545,3.562591791152954,1.4157555103302002,1.7278966903686523,1.6384774446487427,1.6167789697647095,5.8603291511535645,5.766114711761475,5.707090854644775,4.371959209442139,1.5533932447433472,6.058932304382324,3.4979467391967773,5.972275257110596,2.6435508728027344,5.736767292022705,1.5474880933761597,1.6177406311035156,6.433258056640625,6.474976539611816,6.50739049911499,6.424062728881836,6.430331230163574],\"yaxis\":\"y\",\"type\":\"scatter\"},{\"hovertemplate\":\"species=Annelida<br>0=%{x}<br>1=%{y}<extra></extra>\",\"legendgroup\":\"Annelida\",\"marker\":{\"color\":\"#ab63fa\",\"symbol\":\"circle\"},\"mode\":\"markers\",\"name\":\"Annelida\",\"orientation\":\"v\",\"showlegend\":true,\"x\":[-1.3593945503234863,-1.1551166772842407,-1.335671067237854,-0.783097505569458,13.90795612335205,-2.0449154376983643,14.638416290283203,-1.9536231756210327,-1.189849853515625],\"xaxis\":\"x\",\"y\":[6.243381023406982,6.035434722900391,6.002598762512207,6.151047706604004,1.993926763534546,2.484525203704834,4.81080436706543,2.627152919769287,6.072696208953857],\"yaxis\":\"y\",\"type\":\"scatter\"},{\"hovertemplate\":\"species=Chordata<br>0=%{x}<br>1=%{y}<extra></extra>\",\"legendgroup\":\"Chordata\",\"marker\":{\"color\":\"#FFA15A\",\"symbol\":\"circle\"},\"mode\":\"markers\",\"name\":\"Chordata\",\"orientation\":\"v\",\"showlegend\":true,\"x\":[-2.402907371520996,1.7448210716247559,-1.2285763025283813,3.937181234359741,3.8526768684387207,3.929109811782837,4.8262038230896,4.216753959655762,3.862175941467285,4.764676570892334,3.8850648403167725,4.558869361877441,4.489999771118164,3.805485963821411,4.052052974700928,4.787342548370361,4.754802703857422,3.908947706222534,4.654692649841309,3.9415206909179688,4.2149152755737305,3.8135287761688232,4.062991619110107,4.707237720489502,4.182035446166992,4.562941551208496,4.367988109588623,3.747004747390747,4.023592948913574,4.177154541015625,3.8316104412078857,3.7174253463745117,2.304121732711792,-1.4836430549621582,-1.5272318124771118,-1.4230691194534302,-1.4374935626983643,-1.539649248123169,-1.5095609426498413,-1.4236048460006714,-1.486971378326416,-1.5815764665603638,-1.6820259094238281,-1.5854992866516113,-1.6553235054016113,-1.4705617427825928,1.7083252668380737,-1.4608429670333862,-1.6157188415527344,1.653910517692566,1.6003140211105347,1.5759459733963013,1.5396137237548828,1.620558500289917,1.562473177909851,2.448866367340088,2.273411512374878,2.3525478839874268,2.3792827129364014,2.5482120513916016,2.373183250427246,2.4740827083587646,2.255444049835205,2.32529616355896,2.389476776123047,2.218440294265747,2.282437801361084,3.984708547592163,1.7737867832183838,1.753784418106079,2.2691972255706787,-2.0467488765716553,-1.9923285245895386,-2.3846237659454346,-2.19208025932312,-2.3634889125823975,-2.291313886642456,-2.016267776489258,-2.363604784011841,-1.8771815299987793,-2.0094385147094727,-2.0236763954162598,-1.976793885231018,2.3915889263153076,4.819509506225586,3.827010154724121,-2.3489274978637695,1.513459324836731],\"xaxis\":\"x\",\"y\":[-4.535654067993164,8.48531723022461,6.279577255249023,12.409675598144531,11.848542213439941,12.238513946533203,12.451988220214844,12.572229385375977,12.428083419799805,12.438488960266113,12.200594902038574,12.69159984588623,12.627318382263184,11.933501243591309,12.330509185791016,12.360836029052734,12.463724136352539,11.82406997680664,12.233183860778809,11.855520248413086,11.511079788208008,12.17690372467041,11.657699584960938,12.489921569824219,11.591521263122559,12.007468223571777,11.849838256835938,11.290462493896484,11.397880554199219,12.569562911987305,11.309712409973145,11.238055229187012,8.748340606689453,2.1674559116363525,2.149606704711914,1.5998269319534302,2.9053187370300293,1.706015706062317,2.5926284790039062,2.762263774871826,1.6784496307373047,2.12207293510437,1.9193717241287231,1.7056041955947876,1.8509502410888672,1.6607353687286377,8.374772071838379,1.7701760530471802,1.9773409366607666,7.488861560821533,7.5510783195495605,7.462309837341309,7.36424446105957,7.710115909576416,7.836619853973389,9.215075492858887,8.9799222946167,9.049226760864258,8.949049949645996,8.37039566040039,8.449435234069824,8.3578462600708,8.7106294631958,8.741766929626465,8.654595375061035,8.652210235595703,8.548230171203613,12.011638641357422,8.279376029968262,8.317537307739258,8.094106674194336,-5.696220874786377,-5.728432655334473,-4.613712310791016,-5.547354698181152,-4.595973491668701,-4.669107437133789,-5.742973804473877,-4.591914653778076,-5.856199741363525,-5.7212910652160645,-5.7225775718688965,-5.754835605621338,8.257253646850586,12.378005981445312,12.169808387756348,-4.616424560546875,7.3095703125],\"yaxis\":\"y\",\"type\":\"scatter\"},{\"hovertemplate\":\"species=Cnidaria<br>0=%{x}<br>1=%{y}<extra></extra>\",\"legendgroup\":\"Cnidaria\",\"marker\":{\"color\":\"#19d3f3\",\"symbol\":\"circle\"},\"mode\":\"markers\",\"name\":\"Cnidaria\",\"orientation\":\"v\",\"showlegend\":true,\"x\":[-1.2408039569854736,-0.6087161898612976,-1.0197759866714478,-0.8274542093276978,-1.1468236446380615,-0.14190885424613953],\"xaxis\":\"x\",\"y\":[4.785986423492432,4.953853130340576,4.907269477844238,5.045293807983398,4.905350208282471,5.468284606933594],\"yaxis\":\"y\",\"type\":\"scatter\"},{\"hovertemplate\":\"species=Porifera<br>0=%{x}<br>1=%{y}<extra></extra>\",\"legendgroup\":\"Porifera\",\"marker\":{\"color\":\"#FF6692\",\"symbol\":\"circle\"},\"mode\":\"markers\",\"name\":\"Porifera\",\"orientation\":\"v\",\"showlegend\":true,\"x\":[-1.1993306875228882],\"xaxis\":\"x\",\"y\":[5.5103302001953125],\"yaxis\":\"y\",\"type\":\"scatter\"},{\"hovertemplate\":\"species=Placozoa<br>0=%{x}<br>1=%{y}<extra></extra>\",\"legendgroup\":\"Placozoa\",\"marker\":{\"color\":\"#B6E880\",\"symbol\":\"circle\"},\"mode\":\"markers\",\"name\":\"Placozoa\",\"orientation\":\"v\",\"showlegend\":true,\"x\":[-1.2720273733139038],\"xaxis\":\"x\",\"y\":[5.843341827392578],\"yaxis\":\"y\",\"type\":\"scatter\"},{\"hovertemplate\":\"species=Bacteria<br>0=%{x}<br>1=%{y}<extra></extra>\",\"legendgroup\":\"Bacteria\",\"marker\":{\"color\":\"#FF97FF\",\"symbol\":\"circle\"},\"mode\":\"markers\",\"name\":\"Bacteria\",\"orientation\":\"v\",\"showlegend\":true,\"x\":[-0.4493492841720581,-0.35257959365844727,-1.0083338022232056],\"xaxis\":\"x\",\"y\":[5.447798728942871,5.436522006988525,5.373169422149658],\"yaxis\":\"y\",\"type\":\"scatter\"},{\"hovertemplate\":\"species=Nematoda<br>0=%{x}<br>1=%{y}<extra></extra>\",\"legendgroup\":\"Nematoda\",\"marker\":{\"color\":\"#FECB52\",\"symbol\":\"circle\"},\"mode\":\"markers\",\"name\":\"Nematoda\",\"orientation\":\"v\",\"showlegend\":true,\"x\":[13.512168884277344,13.571142196655273,13.41792106628418,0.6309148669242859,0.6894909143447876,0.6444025039672852,0.6017971634864807,0.7163665890693665,1.2891840934753418,1.1703743934631348],\"xaxis\":\"x\",\"y\":[2.3770205974578857,2.355236530303955,2.308215379714966,6.2389984130859375,6.195822238922119,6.224171161651611,6.1909356117248535,6.295130729675293,7.067660331726074,6.688173294067383],\"yaxis\":\"y\",\"type\":\"scatter\"},{\"hovertemplate\":\"species=Hemichordata<br>0=%{x}<br>1=%{y}<extra></extra>\",\"legendgroup\":\"Hemichordata\",\"marker\":{\"color\":\"#636efa\",\"symbol\":\"circle\"},\"mode\":\"markers\",\"name\":\"Hemichordata\",\"orientation\":\"v\",\"showlegend\":true,\"x\":[1.7371392250061035],\"xaxis\":\"x\",\"y\":[8.28187370300293],\"yaxis\":\"y\",\"type\":\"scatter\"},{\"hovertemplate\":\"species=Fungi<br>0=%{x}<br>1=%{y}<extra></extra>\",\"legendgroup\":\"Fungi\",\"marker\":{\"color\":\"#EF553B\",\"symbol\":\"circle\"},\"mode\":\"markers\",\"name\":\"Fungi\",\"orientation\":\"v\",\"showlegend\":true,\"x\":[0.3987061679363251,0.6107426881790161],\"xaxis\":\"x\",\"y\":[5.75148344039917,5.873697280883789],\"yaxis\":\"y\",\"type\":\"scatter\"},{\"hovertemplate\":\"species=Viridiplantae<br>0=%{x}<br>1=%{y}<extra></extra>\",\"legendgroup\":\"Viridiplantae\",\"marker\":{\"color\":\"#00cc96\",\"symbol\":\"circle\"},\"mode\":\"markers\",\"name\":\"Viridiplantae\",\"orientation\":\"v\",\"showlegend\":true,\"x\":[-0.8520456552505493],\"xaxis\":\"x\",\"y\":[5.403661251068115],\"yaxis\":\"y\",\"type\":\"scatter\"}],                        {\"template\":{\"data\":{\"histogram2dcontour\":[{\"type\":\"histogram2dcontour\",\"colorbar\":{\"outlinewidth\":0,\"ticks\":\"\"},\"colorscale\":[[0.0,\"#0d0887\"],[0.1111111111111111,\"#46039f\"],[0.2222222222222222,\"#7201a8\"],[0.3333333333333333,\"#9c179e\"],[0.4444444444444444,\"#bd3786\"],[0.5555555555555556,\"#d8576b\"],[0.6666666666666666,\"#ed7953\"],[0.7777777777777778,\"#fb9f3a\"],[0.8888888888888888,\"#fdca26\"],[1.0,\"#f0f921\"]]}],\"choropleth\":[{\"type\":\"choropleth\",\"colorbar\":{\"outlinewidth\":0,\"ticks\":\"\"}}],\"histogram2d\":[{\"type\":\"histogram2d\",\"colorbar\":{\"outlinewidth\":0,\"ticks\":\"\"},\"colorscale\":[[0.0,\"#0d0887\"],[0.1111111111111111,\"#46039f\"],[0.2222222222222222,\"#7201a8\"],[0.3333333333333333,\"#9c179e\"],[0.4444444444444444,\"#bd3786\"],[0.5555555555555556,\"#d8576b\"],[0.6666666666666666,\"#ed7953\"],[0.7777777777777778,\"#fb9f3a\"],[0.8888888888888888,\"#fdca26\"],[1.0,\"#f0f921\"]]}],\"heatmap\":[{\"type\":\"heatmap\",\"colorbar\":{\"outlinewidth\":0,\"ticks\":\"\"},\"colorscale\":[[0.0,\"#0d0887\"],[0.1111111111111111,\"#46039f\"],[0.2222222222222222,\"#7201a8\"],[0.3333333333333333,\"#9c179e\"],[0.4444444444444444,\"#bd3786\"],[0.5555555555555556,\"#d8576b\"],[0.6666666666666666,\"#ed7953\"],[0.7777777777777778,\"#fb9f3a\"],[0.8888888888888888,\"#fdca26\"],[1.0,\"#f0f921\"]]}],\"heatmapgl\":[{\"type\":\"heatmapgl\",\"colorbar\":{\"outlinewidth\":0,\"ticks\":\"\"},\"colorscale\":[[0.0,\"#0d0887\"],[0.1111111111111111,\"#46039f\"],[0.2222222222222222,\"#7201a8\"],[0.3333333333333333,\"#9c179e\"],[0.4444444444444444,\"#bd3786\"],[0.5555555555555556,\"#d8576b\"],[0.6666666666666666,\"#ed7953\"],[0.7777777777777778,\"#fb9f3a\"],[0.8888888888888888,\"#fdca26\"],[1.0,\"#f0f921\"]]}],\"contourcarpet\":[{\"type\":\"contourcarpet\",\"colorbar\":{\"outlinewidth\":0,\"ticks\":\"\"}}],\"contour\":[{\"type\":\"contour\",\"colorbar\":{\"outlinewidth\":0,\"ticks\":\"\"},\"colorscale\":[[0.0,\"#0d0887\"],[0.1111111111111111,\"#46039f\"],[0.2222222222222222,\"#7201a8\"],[0.3333333333333333,\"#9c179e\"],[0.4444444444444444,\"#bd3786\"],[0.5555555555555556,\"#d8576b\"],[0.6666666666666666,\"#ed7953\"],[0.7777777777777778,\"#fb9f3a\"],[0.8888888888888888,\"#fdca26\"],[1.0,\"#f0f921\"]]}],\"surface\":[{\"type\":\"surface\",\"colorbar\":{\"outlinewidth\":0,\"ticks\":\"\"},\"colorscale\":[[0.0,\"#0d0887\"],[0.1111111111111111,\"#46039f\"],[0.2222222222222222,\"#7201a8\"],[0.3333333333333333,\"#9c179e\"],[0.4444444444444444,\"#bd3786\"],[0.5555555555555556,\"#d8576b\"],[0.6666666666666666,\"#ed7953\"],[0.7777777777777778,\"#fb9f3a\"],[0.8888888888888888,\"#fdca26\"],[1.0,\"#f0f921\"]]}],\"mesh3d\":[{\"type\":\"mesh3d\",\"colorbar\":{\"outlinewidth\":0,\"ticks\":\"\"}}],\"scatter\":[{\"fillpattern\":{\"fillmode\":\"overlay\",\"size\":10,\"solidity\":0.2},\"type\":\"scatter\"}],\"parcoords\":[{\"type\":\"parcoords\",\"line\":{\"colorbar\":{\"outlinewidth\":0,\"ticks\":\"\"}}}],\"scatterpolargl\":[{\"type\":\"scatterpolargl\",\"marker\":{\"colorbar\":{\"outlinewidth\":0,\"ticks\":\"\"}}}],\"bar\":[{\"error_x\":{\"color\":\"#2a3f5f\"},\"error_y\":{\"color\":\"#2a3f5f\"},\"marker\":{\"line\":{\"color\":\"#E5ECF6\",\"width\":0.5},\"pattern\":{\"fillmode\":\"overlay\",\"size\":10,\"solidity\":0.2}},\"type\":\"bar\"}],\"scattergeo\":[{\"type\":\"scattergeo\",\"marker\":{\"colorbar\":{\"outlinewidth\":0,\"ticks\":\"\"}}}],\"scatterpolar\":[{\"type\":\"scatterpolar\",\"marker\":{\"colorbar\":{\"outlinewidth\":0,\"ticks\":\"\"}}}],\"histogram\":[{\"marker\":{\"pattern\":{\"fillmode\":\"overlay\",\"size\":10,\"solidity\":0.2}},\"type\":\"histogram\"}],\"scattergl\":[{\"type\":\"scattergl\",\"marker\":{\"colorbar\":{\"outlinewidth\":0,\"ticks\":\"\"}}}],\"scatter3d\":[{\"type\":\"scatter3d\",\"line\":{\"colorbar\":{\"outlinewidth\":0,\"ticks\":\"\"}},\"marker\":{\"colorbar\":{\"outlinewidth\":0,\"ticks\":\"\"}}}],\"scattermapbox\":[{\"type\":\"scattermapbox\",\"marker\":{\"colorbar\":{\"outlinewidth\":0,\"ticks\":\"\"}}}],\"scatterternary\":[{\"type\":\"scatterternary\",\"marker\":{\"colorbar\":{\"outlinewidth\":0,\"ticks\":\"\"}}}],\"scattercarpet\":[{\"type\":\"scattercarpet\",\"marker\":{\"colorbar\":{\"outlinewidth\":0,\"ticks\":\"\"}}}],\"carpet\":[{\"aaxis\":{\"endlinecolor\":\"#2a3f5f\",\"gridcolor\":\"white\",\"linecolor\":\"white\",\"minorgridcolor\":\"white\",\"startlinecolor\":\"#2a3f5f\"},\"baxis\":{\"endlinecolor\":\"#2a3f5f\",\"gridcolor\":\"white\",\"linecolor\":\"white\",\"minorgridcolor\":\"white\",\"startlinecolor\":\"#2a3f5f\"},\"type\":\"carpet\"}],\"table\":[{\"cells\":{\"fill\":{\"color\":\"#EBF0F8\"},\"line\":{\"color\":\"white\"}},\"header\":{\"fill\":{\"color\":\"#C8D4E3\"},\"line\":{\"color\":\"white\"}},\"type\":\"table\"}],\"barpolar\":[{\"marker\":{\"line\":{\"color\":\"#E5ECF6\",\"width\":0.5},\"pattern\":{\"fillmode\":\"overlay\",\"size\":10,\"solidity\":0.2}},\"type\":\"barpolar\"}],\"pie\":[{\"automargin\":true,\"type\":\"pie\"}]},\"layout\":{\"autotypenumbers\":\"strict\",\"colorway\":[\"#636efa\",\"#EF553B\",\"#00cc96\",\"#ab63fa\",\"#FFA15A\",\"#19d3f3\",\"#FF6692\",\"#B6E880\",\"#FF97FF\",\"#FECB52\"],\"font\":{\"color\":\"#2a3f5f\"},\"hovermode\":\"closest\",\"hoverlabel\":{\"align\":\"left\"},\"paper_bgcolor\":\"white\",\"plot_bgcolor\":\"#E5ECF6\",\"polar\":{\"bgcolor\":\"#E5ECF6\",\"angularaxis\":{\"gridcolor\":\"white\",\"linecolor\":\"white\",\"ticks\":\"\"},\"radialaxis\":{\"gridcolor\":\"white\",\"linecolor\":\"white\",\"ticks\":\"\"}},\"ternary\":{\"bgcolor\":\"#E5ECF6\",\"aaxis\":{\"gridcolor\":\"white\",\"linecolor\":\"white\",\"ticks\":\"\"},\"baxis\":{\"gridcolor\":\"white\",\"linecolor\":\"white\",\"ticks\":\"\"},\"caxis\":{\"gridcolor\":\"white\",\"linecolor\":\"white\",\"ticks\":\"\"}},\"coloraxis\":{\"colorbar\":{\"outlinewidth\":0,\"ticks\":\"\"}},\"colorscale\":{\"sequential\":[[0.0,\"#0d0887\"],[0.1111111111111111,\"#46039f\"],[0.2222222222222222,\"#7201a8\"],[0.3333333333333333,\"#9c179e\"],[0.4444444444444444,\"#bd3786\"],[0.5555555555555556,\"#d8576b\"],[0.6666666666666666,\"#ed7953\"],[0.7777777777777778,\"#fb9f3a\"],[0.8888888888888888,\"#fdca26\"],[1.0,\"#f0f921\"]],\"sequentialminus\":[[0.0,\"#0d0887\"],[0.1111111111111111,\"#46039f\"],[0.2222222222222222,\"#7201a8\"],[0.3333333333333333,\"#9c179e\"],[0.4444444444444444,\"#bd3786\"],[0.5555555555555556,\"#d8576b\"],[0.6666666666666666,\"#ed7953\"],[0.7777777777777778,\"#fb9f3a\"],[0.8888888888888888,\"#fdca26\"],[1.0,\"#f0f921\"]],\"diverging\":[[0,\"#8e0152\"],[0.1,\"#c51b7d\"],[0.2,\"#de77ae\"],[0.3,\"#f1b6da\"],[0.4,\"#fde0ef\"],[0.5,\"#f7f7f7\"],[0.6,\"#e6f5d0\"],[0.7,\"#b8e186\"],[0.8,\"#7fbc41\"],[0.9,\"#4d9221\"],[1,\"#276419\"]]},\"xaxis\":{\"gridcolor\":\"white\",\"linecolor\":\"white\",\"ticks\":\"\",\"title\":{\"standoff\":15},\"zerolinecolor\":\"white\",\"automargin\":true,\"zerolinewidth\":2},\"yaxis\":{\"gridcolor\":\"white\",\"linecolor\":\"white\",\"ticks\":\"\",\"title\":{\"standoff\":15},\"zerolinecolor\":\"white\",\"automargin\":true,\"zerolinewidth\":2},\"scene\":{\"xaxis\":{\"backgroundcolor\":\"#E5ECF6\",\"gridcolor\":\"white\",\"linecolor\":\"white\",\"showbackground\":true,\"ticks\":\"\",\"zerolinecolor\":\"white\",\"gridwidth\":2},\"yaxis\":{\"backgroundcolor\":\"#E5ECF6\",\"gridcolor\":\"white\",\"linecolor\":\"white\",\"showbackground\":true,\"ticks\":\"\",\"zerolinecolor\":\"white\",\"gridwidth\":2},\"zaxis\":{\"backgroundcolor\":\"#E5ECF6\",\"gridcolor\":\"white\",\"linecolor\":\"white\",\"showbackground\":true,\"ticks\":\"\",\"zerolinecolor\":\"white\",\"gridwidth\":2}},\"shapedefaults\":{\"line\":{\"color\":\"#2a3f5f\"}},\"annotationdefaults\":{\"arrowcolor\":\"#2a3f5f\",\"arrowhead\":0,\"arrowwidth\":1},\"geo\":{\"bgcolor\":\"white\",\"landcolor\":\"#E5ECF6\",\"subunitcolor\":\"white\",\"showland\":true,\"showlakes\":true,\"lakecolor\":\"white\"},\"title\":{\"x\":0.05},\"mapbox\":{\"style\":\"light\"}}},\"xaxis\":{\"anchor\":\"y\",\"domain\":[0.0,1.0],\"title\":{\"text\":\"0\"},\"range\":[-20,20],\"dtick\":5},\"yaxis\":{\"anchor\":\"x\",\"domain\":[0.0,1.0],\"title\":{\"text\":\"1\"},\"range\":[-20,20]},\"legend\":{\"title\":{\"text\":\"species\"},\"tracegroupgap\":0},\"margin\":{\"t\":60},\"width\":1000,\"height\":900},                        {\"responsive\": true}                    ).then(function(){\n",
       "                            \n",
       "var gd = document.getElementById('a26c55aa-3997-425f-b540-d8ad0eac8483');\n",
       "var x = new MutationObserver(function (mutations, observer) {{\n",
       "        var display = window.getComputedStyle(gd).display;\n",
       "        if (!display || display === 'none') {{\n",
       "            console.log([gd, 'removed!']);\n",
       "            Plotly.purge(gd);\n",
       "            observer.disconnect();\n",
       "        }}\n",
       "}});\n",
       "\n",
       "// Listen for the removal of the full notebook cells\n",
       "var notebookContainer = gd.closest('#notebook-container');\n",
       "if (notebookContainer) {{\n",
       "    x.observe(notebookContainer, {childList: true});\n",
       "}}\n",
       "\n",
       "// Listen for the clearing of the current output cell\n",
       "var outputEl = gd.closest('.output');\n",
       "if (outputEl) {{\n",
       "    x.observe(outputEl, {childList: true});\n",
       "}}\n",
       "\n",
       "                        })                };                });            </script>        </div>"
      ]
     },
     "metadata": {},
     "output_type": "display_data"
    }
   ],
   "source": [
    "umap_phyl_2d = UMAP(n_components=2, random_state=0)\n",
    "proj_umap_phyl_2d = umap_phyl_2d.fit_transform(phyl)\n",
    "\n",
    "umap_phyl_2d = px.scatter(\n",
    "    proj_umap_phyl_2d, x=0, y=1,\n",
    "    color=colour.Color_species, labels={'color': 'species'}\n",
    ")\n",
    "umap_phyl_2d.update_layout(xaxis_range=[-20, 20], yaxis_range=[-20, 20])\n",
    "umap_phyl_2d.update_layout(width=1000, height=900)\n",
    "umap_phyl_2d.update_xaxes(dtick=5)\n",
    "umap_phyl_2d.show()"
   ]
  },
  {
   "cell_type": "code",
   "execution_count": 9,
   "id": "336f41f4-d6aa-4605-bb74-8968b18c0f08",
   "metadata": {},
   "outputs": [
    {
     "data": {
      "application/vnd.plotly.v1+json": {
       "config": {
        "plotlyServerURL": "https://plot.ly"
       },
       "data": [
        {
         "hovertemplate": "species=Echinodermata<br>0=%{x}<br>1=%{y}<br>2=%{z}<extra></extra>",
         "legendgroup": "Echinodermata",
         "marker": {
          "color": "#636efa",
          "size": 8,
          "symbol": "circle"
         },
         "mode": "markers",
         "name": "Echinodermata",
         "scene": "scene",
         "showlegend": true,
         "type": "scatter3d",
         "x": [
          9.226883888244629,
          7.715747356414795,
          9.43044662475586,
          9.371241569519043,
          9.373888969421387,
          1.6456526517868042,
          1.56344735622406,
          1.714617133140564,
          1.7492445707321167,
          1.570400595664978
         ],
         "y": [
          6.814305782318115,
          6.936920166015625,
          6.75084114074707,
          6.742253303527832,
          6.78118371963501,
          4.434041976928711,
          4.508844375610352,
          4.249569416046143,
          4.2183990478515625,
          4.597311496734619
         ],
         "z": [
          5.8452935218811035,
          6.361182689666748,
          5.702413082122803,
          5.74255895614624,
          5.725652694702148,
          1.1825995445251465,
          1.2807749509811401,
          1.4344433546066284,
          1.4922947883605957,
          1.0076202154159546
         ]
        },
        {
         "hovertemplate": "species=Arthropoda<br>0=%{x}<br>1=%{y}<br>2=%{z}<extra></extra>",
         "legendgroup": "Arthropoda",
         "marker": {
          "color": "#EF553B",
          "size": 8,
          "symbol": "circle"
         },
         "mode": "markers",
         "name": "Arthropoda",
         "scene": "scene",
         "showlegend": true,
         "type": "scatter3d",
         "x": [
          6.753452301025391,
          7.0439534187316895,
          7.0513176918029785,
          6.960791110992432,
          6.964068412780762,
          7.391568183898926,
          6.8821120262146,
          6.891867637634277,
          6.88319730758667,
          7.248711585998535,
          8.135502815246582,
          6.671541690826416,
          6.734498500823975,
          6.711103439331055,
          6.728778839111328,
          6.706874370574951,
          6.715899467468262,
          6.779800891876221,
          6.663203239440918,
          7.041661739349365,
          7.442309379577637,
          7.808900356292725,
          7.838291645050049,
          7.925698757171631,
          6.882510185241699,
          7.05039119720459,
          2.098031520843506,
          8.15960693359375,
          8.303773880004883,
          8.344132423400879,
          8.408293724060059,
          8.268117904663086,
          8.354111671447754,
          8.366074562072754,
          8.486226081848145,
          8.27110481262207,
          8.274466514587402,
          8.137752532958984,
          2.0676047801971436,
          7.145310878753662,
          10.171890258789062,
          10.151270866394043,
          10.252361297607422,
          2.1537606716156006,
          11.3677396774292,
          11.362981796264648,
          11.44593334197998,
          11.498713493347168,
          7.36137580871582,
          11.00832748413086,
          11.222129821777344,
          11.013747215270996,
          10.19568920135498,
          6.700333118438721,
          6.936812877655029,
          10.203588485717773,
          11.30024528503418,
          11.411778450012207,
          11.37171745300293,
          11.231797218322754,
          11.122147560119629,
          11.130204200744629,
          10.226608276367188,
          10.423072814941406,
          0.18332898616790771,
          7.342800140380859,
          10.948201179504395,
          10.888795852661133,
          8.60150146484375,
          8.70541000366211,
          8.45309829711914,
          8.350255012512207,
          8.348105430603027,
          7.110281467437744,
          7.2612433433532715,
          8.860848426818848,
          9.028215408325195,
          2.0331838130950928,
          7.807821750640869,
          7.774457931518555,
          10.192042350769043,
          2.049320936203003,
          10.487064361572266,
          9.77094554901123
         ],
         "y": [
          7.666225910186768,
          6.942075729370117,
          6.593141078948975,
          6.8051438331604,
          6.84874963760376,
          6.363090515136719,
          7.4143548011779785,
          7.50818395614624,
          6.849049091339111,
          6.122154712677002,
          6.929036617279053,
          6.239173889160156,
          5.856429100036621,
          5.952520370483398,
          6.253382682800293,
          5.942265510559082,
          5.9827494621276855,
          6.297385215759277,
          5.848365306854248,
          6.0811076164245605,
          6.904105186462402,
          6.881442546844482,
          6.982580184936523,
          6.912883758544922,
          7.552285671234131,
          6.637414932250977,
          0.5061813592910767,
          10.786975860595703,
          10.693123817443848,
          10.664294242858887,
          10.783747673034668,
          10.71683406829834,
          10.790434837341309,
          10.76953125,
          10.893771171569824,
          10.761439323425293,
          10.72082805633545,
          10.743339538574219,
          0.29506513476371765,
          6.713869571685791,
          6.704948425292969,
          6.68042516708374,
          6.714003086090088,
          0.6396770477294922,
          5.681946754455566,
          5.726024150848389,
          5.603360176086426,
          5.5644450187683105,
          6.251415729522705,
          5.859745025634766,
          5.755512237548828,
          5.868269920349121,
          6.367053985595703,
          5.922293663024902,
          7.469700336456299,
          6.662400722503662,
          5.704974174499512,
          5.6381378173828125,
          5.659639835357666,
          5.786746978759766,
          5.853299140930176,
          5.820851802825928,
          6.340708255767822,
          6.214157581329346,
          7.294990539550781,
          6.203528881072998,
          5.932828426361084,
          5.988845348358154,
          6.91019868850708,
          6.859945297241211,
          6.9645915031433105,
          6.920104503631592,
          6.908259391784668,
          6.589085102081299,
          6.794864177703857,
          6.854592800140381,
          6.743878364562988,
          -0.47458434104919434,
          6.816397190093994,
          6.6649298667907715,
          6.711938381195068,
          -0.4742274880409241,
          6.197671413421631,
          6.6081976890563965
         ],
         "z": [
          7.469792366027832,
          7.657130718231201,
          8.067750930786133,
          7.897305011749268,
          7.805130958557129,
          7.978870391845703,
          7.470781326293945,
          7.41230583190918,
          7.874177932739258,
          8.296399116516113,
          6.526928901672363,
          8.579307556152344,
          8.999237060546875,
          8.880412101745605,
          8.537066459655762,
          8.903349876403809,
          8.863424301147461,
          8.482343673706055,
          8.986351013183594,
          8.50058364868164,
          7.290968894958496,
          6.889573097229004,
          6.711043357849121,
          6.7656145095825195,
          7.3637566566467285,
          7.990169525146484,
          -0.7876332402229309,
          8.138914108276367,
          8.395889282226562,
          8.38597583770752,
          8.445520401000977,
          8.241874694824219,
          8.317277908325195,
          8.36490535736084,
          8.486472129821777,
          8.262354850769043,
          8.281611442565918,
          8.159953117370605,
          -0.8986486196517944,
          7.728717803955078,
          5.23687219619751,
          5.266781806945801,
          5.173138618469238,
          -0.8021929264068604,
          4.67500114440918,
          4.669943332672119,
          4.725876331329346,
          4.711935520172119,
          8.096685409545898,
          5.02897834777832,
          4.651219367980957,
          4.9813432693481445,
          5.3903703689575195,
          8.924505233764648,
          7.4069037437438965,
          5.2136688232421875,
          4.73840856552124,
          4.6196980476379395,
          4.736789226531982,
          4.713970184326172,
          4.757461071014404,
          4.830661296844482,
          5.369589805603027,
          5.270506858825684,
          0.3401394784450531,
          8.156725883483887,
          4.941949844360352,
          4.9979248046875,
          6.249354362487793,
          6.176455497741699,
          6.320135593414307,
          6.397650718688965,
          6.401183605194092,
          7.816091060638428,
          7.534593105316162,
          6.083305358886719,
          5.954929351806641,
          -1.0604242086410522,
          6.979302406311035,
          7.251303672790527,
          5.1942243576049805,
          -1.0928559303283691,
          5.23079252243042,
          5.515182971954346
         ]
        },
        {
         "hovertemplate": "species=Mollusca<br>0=%{x}<br>1=%{y}<br>2=%{z}<extra></extra>",
         "legendgroup": "Mollusca",
         "marker": {
          "color": "#00cc96",
          "size": 8,
          "symbol": "circle"
         },
         "mode": "markers",
         "name": "Mollusca",
         "scene": "scene",
         "showlegend": true,
         "type": "scatter3d",
         "x": [
          7.213418483734131,
          7.285072326660156,
          2.0692243576049805,
          2.002025842666626,
          1.911433458328247,
          2.029939889907837,
          2.1527576446533203,
          8.26497745513916,
          8.253097534179688,
          8.3151273727417,
          8.12425708770752,
          8.218866348266602,
          7.554088592529297,
          2.0163090229034424,
          2.187108039855957,
          8.12657642364502,
          7.493244647979736,
          7.396108627319336,
          8.252846717834473,
          1.4942991733551025,
          1.4277799129486084,
          1.336422085762024,
          9.160221099853516,
          8.319843292236328,
          1.4907996654510498,
          2.0316970348358154,
          1.5107237100601196,
          2.0719099044799805,
          1.4726585149765015,
          8.200368881225586,
          8.145870208740234,
          -0.11216961592435837,
          -0.13548403978347778,
          -0.15238291025161743,
          -0.07860742509365082,
          -0.11973962187767029
         ],
         "y": [
          7.142716884613037,
          6.873043537139893,
          -0.12708815932273865,
          0.7466642260551453,
          0.8665869235992432,
          -0.3934709131717682,
          0.5705070495605469,
          5.042375087738037,
          5.2546257972717285,
          5.035399436950684,
          5.045864582061768,
          5.086796283721924,
          6.6141815185546875,
          0.7585820555686951,
          0.6241152882575989,
          5.354089260101318,
          6.447091579437256,
          6.3186235427856445,
          5.096548080444336,
          4.946228981018066,
          5.039007663726807,
          5.107283592224121,
          6.9998884201049805,
          5.040430068969727,
          4.695377826690674,
          0.7210633158683777,
          4.669537544250488,
          -0.23160351812839508,
          5.053303241729736,
          5.150289058685303,
          5.218993186950684,
          6.792065143585205,
          6.769351482391357,
          6.803511619567871,
          6.856267929077148,
          6.798959732055664
         ],
         "z": [
          7.462134838104248,
          7.624043941497803,
          -0.8077561259269714,
          -0.8628114461898804,
          -0.6403468251228333,
          -0.9687276482582092,
          -0.6975695490837097,
          8.971918106079102,
          8.771063804626465,
          8.984704971313477,
          8.974794387817383,
          8.93234920501709,
          7.788094997406006,
          -0.7645600438117981,
          -0.7073572278022766,
          8.701759338378906,
          7.959342002868652,
          8.088035583496094,
          8.927984237670898,
          1.443304181098938,
          1.2713907957077026,
          1.1451971530914307,
          5.919862270355225,
          8.980162620544434,
          1.8756861686706543,
          -0.7536632418632507,
          1.8241291046142578,
          -0.8598102331161499,
          1.3143575191497803,
          8.87694263458252,
          8.811508178710938,
          0.664091944694519,
          0.6542646288871765,
          0.6367776393890381,
          0.5883649587631226,
          0.6360764503479004
         ]
        },
        {
         "hovertemplate": "species=Annelida<br>0=%{x}<br>1=%{y}<br>2=%{z}<extra></extra>",
         "legendgroup": "Annelida",
         "marker": {
          "color": "#ab63fa",
          "size": 8,
          "symbol": "circle"
         },
         "mode": "markers",
         "name": "Annelida",
         "scene": "scene",
         "showlegend": true,
         "type": "scatter3d",
         "x": [
          1.6015336513519287,
          1.3816063404083252,
          1.6104575395584106,
          1.2789920568466187,
          7.445722579956055,
          2.0035400390625,
          9.553625106811523,
          2.0730247497558594,
          1.4209202527999878
         ],
         "y": [
          4.5733513832092285,
          4.83660364151001,
          4.540521621704102,
          4.991194248199463,
          6.948842525482178,
          -0.3196294903755188,
          6.688498020172119,
          -0.30862897634506226,
          4.7731032371521
         ],
         "z": [
          2.0194387435913086,
          1.7628085613250732,
          1.9312993288040161,
          1.6472951173782349,
          7.242528438568115,
          -0.9065048098564148,
          5.610228061676025,
          -0.9319541454315186,
          1.815356969833374
         ]
        },
        {
         "hovertemplate": "species=Chordata<br>0=%{x}<br>1=%{y}<br>2=%{z}<extra></extra>",
         "legendgroup": "Chordata",
         "marker": {
          "color": "#FFA15A",
          "size": 8,
          "symbol": "circle"
         },
         "mode": "markers",
         "name": "Chordata",
         "scene": "scene",
         "showlegend": true,
         "type": "scatter3d",
         "x": [
          -0.9148686528205872,
          -0.947974681854248,
          1.6807745695114136,
          -3.6907901763916016,
          -3.779078960418701,
          -3.8631746768951416,
          -4.725029468536377,
          -3.968034267425537,
          -3.673156261444092,
          -4.663054943084717,
          -3.7008259296417236,
          -4.383265495300293,
          -4.3047566413879395,
          -3.7969565391540527,
          -3.907426118850708,
          -4.6137824058532715,
          -4.744619369506836,
          -3.8782362937927246,
          -4.504324913024902,
          -3.666363000869751,
          -3.804936647415161,
          -3.6434109210968018,
          -3.7968788146972656,
          -4.647895336151123,
          -3.8000314235687256,
          -4.322408199310303,
          -4.070804119110107,
          -3.3868868350982666,
          -3.443161964416504,
          -3.9206199645996094,
          -3.408473253250122,
          -3.3160955905914307,
          -1.240683674812317,
          2.1242728233337402,
          2.1492960453033447,
          2.056591033935547,
          2.1018598079681396,
          2.045269727706909,
          2.0999319553375244,
          2.123641014099121,
          2.1402840614318848,
          2.255131959915161,
          2.1127357482910156,
          2.1017189025878906,
          2.1070468425750732,
          2.0901987552642822,
          -0.8050954341888428,
          2.155155658721924,
          2.1787641048431396,
          -0.24264217913150787,
          -0.1790320724248886,
          -0.13473820686340332,
          -0.11779740452766418,
          -0.35254329442977905,
          -0.2886575162410736,
          -1.4583889245986938,
          -1.281501293182373,
          -1.5053534507751465,
          -1.3309749364852905,
          -1.0946519374847412,
          -0.9782001972198486,
          -1.0551183223724365,
          -1.1455999612808228,
          -1.2041598558425903,
          -1.1539419889450073,
          -1.0744210481643677,
          -1.033957600593567,
          -3.8224411010742188,
          -0.7315746545791626,
          -0.7759581804275513,
          -0.8571429252624512,
          -3.4711101055145264,
          -3.290437936782837,
          -0.8624017834663391,
          -3.33585524559021,
          -0.8086186647415161,
          -0.8425856828689575,
          -3.474036931991577,
          -0.8253510594367981,
          -3.407940149307251,
          -3.3287391662597656,
          -3.422995090484619,
          -3.396756887435913,
          -0.9436677098274231,
          -4.705051898956299,
          -3.592022657394409,
          -0.8262871503829956,
          -0.05588849261403084
         ],
         "y": [
          -4.186112403869629,
          8.402508735656738,
          4.618417739868164,
          11.289934158325195,
          10.844337463378906,
          11.127079963684082,
          11.416951179504395,
          11.395431518554688,
          11.134904861450195,
          11.282690048217773,
          11.068621635437012,
          11.515307426452637,
          11.530278205871582,
          10.942524909973145,
          11.268494606018066,
          11.315600395202637,
          11.41258716583252,
          10.757357597351074,
          11.196293830871582,
          10.748991012573242,
          10.668283462524414,
          11.06883716583252,
          10.59885025024414,
          11.416070938110352,
          10.632418632507324,
          10.98604965209961,
          10.85492992401123,
          10.512560844421387,
          10.506723403930664,
          11.43899917602539,
          10.587177276611328,
          10.621185302734375,
          8.714080810546875,
          -0.17504705488681793,
          -0.28293970227241516,
          -0.619759738445282,
          0.23959940671920776,
          -0.6074551939964294,
          0.030491864308714867,
          0.19014285504817963,
          -0.7168341875076294,
          -0.3719785213470459,
          -0.4880179166793823,
          -0.782041072845459,
          -0.826782763004303,
          -0.6604257822036743,
          8.26118278503418,
          -0.7605193257331848,
          -0.4306742250919342,
          7.706878662109375,
          7.636189937591553,
          7.5981221199035645,
          7.55141544342041,
          7.813793659210205,
          7.749932765960693,
          8.920670509338379,
          8.743111610412598,
          8.968875885009766,
          8.799052238464355,
          8.50986099243164,
          8.469308853149414,
          8.420968055725098,
          8.62559986114502,
          8.699915885925293,
          8.643598556518555,
          8.607892036437988,
          8.486641883850098,
          10.962921142578125,
          8.188187599182129,
          8.23400592803955,
          8.245153427124023,
          -4.090290546417236,
          -4.2567925453186035,
          -4.128775596618652,
          -4.222029209136963,
          -4.076427936553955,
          -4.1091084480285645,
          -4.087440013885498,
          -4.096834659576416,
          -4.147749423980713,
          -4.221060276031494,
          -4.143279552459717,
          -4.158269882202148,
          8.33443546295166,
          11.342134475708008,
          11.090193748474121,
          -4.08858060836792,
          7.492434978485107
         ],
         "z": [
          -4.178582668304443,
          0.5345960855484009,
          2.1007754802703857,
          -0.2761813700199127,
          -0.2066154032945633,
          -0.41035759449005127,
          -0.07723169028759003,
          -0.2899540960788727,
          -0.2007865607738495,
          0.001739858533255756,
          -0.1417025625705719,
          -0.26369765400886536,
          -0.2996712923049927,
          -0.30313366651535034,
          -0.3613736629486084,
          0.010264363139867783,
          -0.0696464404463768,
          -0.11576513200998306,
          0.10402422398328781,
          -0.21562419831752777,
          0.046719424426555634,
          -0.09756316989660263,
          0.05373206362128258,
          -0.008674340322613716,
          0.07755150645971298,
          0.028234662488102913,
          0.0013262800639495254,
          0.05256730690598488,
          0.10102133452892303,
          -0.27903565764427185,
          -0.009642485529184341,
          -0.03990868106484413,
          -0.10583965480327606,
          -1.6515576839447021,
          -1.6810109615325928,
          -1.794249176979065,
          -1.3055378198623657,
          -1.8761476278305054,
          -1.4417333602905273,
          -1.3771895170211792,
          -1.738684058189392,
          -1.7090201377868652,
          -1.815963864326477,
          -1.7120813131332397,
          -1.6412137746810913,
          -1.7544126510620117,
          0.4050940275192261,
          -1.6799565553665161,
          -1.7921220064163208,
          0.3647894859313965,
          0.40831318497657776,
          0.3393312692642212,
          0.4554601311683655,
          0.3128544092178345,
          0.38668093085289,
          0.016541199758648872,
          0.07728713005781174,
          -0.03982607275247574,
          0.018872728571295738,
          -0.2122499793767929,
          -0.23584792017936707,
          -0.34486955404281616,
          -0.2107561230659485,
          -0.04001534730195999,
          -0.18856067955493927,
          -0.12438829243183136,
          -0.29530566930770874,
          -0.34165138006210327,
          0.4182238280773163,
          0.4137509763240814,
          -0.3392754793167114,
          -5.708258152008057,
          -5.748849868774414,
          -4.124919891357422,
          -5.853950023651123,
          -4.071540832519531,
          -4.105168342590332,
          -5.713449001312256,
          -4.089145660400391,
          -5.847972869873047,
          -5.773604869842529,
          -5.686830997467041,
          -5.792235374450684,
          -0.39094939827919006,
          -0.00868549756705761,
          -0.15020476281642914,
          -4.087327480316162,
          0.4084795415401459
         ]
        },
        {
         "hovertemplate": "species=Cnidaria<br>0=%{x}<br>1=%{y}<br>2=%{z}<extra></extra>",
         "legendgroup": "Cnidaria",
         "marker": {
          "color": "#19d3f3",
          "size": 8,
          "symbol": "circle"
         },
         "mode": "markers",
         "name": "Cnidaria",
         "scene": "scene",
         "showlegend": true,
         "type": "scatter3d",
         "x": [
          1.8455342054367065,
          1.5594544410705566,
          1.7831177711486816,
          1.6606388092041016,
          1.7920856475830078,
          1.382663369178772
         ],
         "y": [
          3.8809969425201416,
          4.597911357879639,
          4.05492639541626,
          4.334855556488037,
          3.982015371322632,
          4.999871730804443
         ],
         "z": [
          1.1480603218078613,
          0.6552928686141968,
          1.0153392553329468,
          0.9002648591995239,
          1.162071943283081,
          0.727613627910614
         ]
        },
        {
         "hovertemplate": "species=Porifera<br>0=%{x}<br>1=%{y}<br>2=%{z}<extra></extra>",
         "legendgroup": "Porifera",
         "marker": {
          "color": "#FF6692",
          "size": 8,
          "symbol": "circle"
         },
         "mode": "markers",
         "name": "Porifera",
         "scene": "scene",
         "showlegend": true,
         "type": "scatter3d",
         "x": [
          1.5430588722229004
         ],
         "y": [
          4.450427055358887
         ],
         "z": [
          1.4021341800689697
         ]
        },
        {
         "hovertemplate": "species=Placozoa<br>0=%{x}<br>1=%{y}<br>2=%{z}<extra></extra>",
         "legendgroup": "Placozoa",
         "marker": {
          "color": "#B6E880",
          "size": 8,
          "symbol": "circle"
         },
         "mode": "markers",
         "name": "Placozoa",
         "scene": "scene",
         "showlegend": true,
         "type": "scatter3d",
         "x": [
          1.5880330801010132
         ],
         "y": [
          4.572556495666504
         ],
         "z": [
          1.7984269857406616
         ]
        },
        {
         "hovertemplate": "species=Bacteria<br>0=%{x}<br>1=%{y}<br>2=%{z}<extra></extra>",
         "legendgroup": "Bacteria",
         "marker": {
          "color": "#FF97FF",
          "size": 8,
          "symbol": "circle"
         },
         "mode": "markers",
         "name": "Bacteria",
         "scene": "scene",
         "showlegend": true,
         "type": "scatter3d",
         "x": [
          1.5589289665222168,
          1.4688246250152588,
          1.7092152833938599
         ],
         "y": [
          4.752965927124023,
          4.890019416809082,
          4.2544169425964355
         ],
         "z": [
          0.8706894516944885,
          0.8562262058258057,
          1.3609516620635986
         ]
        },
        {
         "hovertemplate": "species=Nematoda<br>0=%{x}<br>1=%{y}<br>2=%{z}<extra></extra>",
         "legendgroup": "Nematoda",
         "marker": {
          "color": "#FECB52",
          "size": 8,
          "symbol": "circle"
         },
         "mode": "markers",
         "name": "Nematoda",
         "scene": "scene",
         "showlegend": true,
         "type": "scatter3d",
         "x": [
          7.710267066955566,
          7.684686183929443,
          7.697401523590088,
          1.035539984703064,
          1.0955942869186401,
          1.003690242767334,
          1.0714821815490723,
          1.0385984182357788,
          0.19709694385528564,
          0.37438249588012695
         ],
         "y": [
          6.557045936584473,
          6.580799579620361,
          6.493747234344482,
          5.81126070022583,
          5.851123332977295,
          5.892035007476807,
          5.745595932006836,
          5.815213680267334,
          7.182101726531982,
          6.855303764343262
         ],
         "z": [
          7.399133682250977,
          7.400496482849121,
          7.468336582183838,
          0.5163811445236206,
          0.486351877450943,
          0.5595130920410156,
          0.6149969696998596,
          0.5787330269813538,
          0.3963683247566223,
          0.44002822041511536
         ]
        },
        {
         "hovertemplate": "species=Hemichordata<br>0=%{x}<br>1=%{y}<br>2=%{z}<extra></extra>",
         "legendgroup": "Hemichordata",
         "marker": {
          "color": "#636efa",
          "size": 8,
          "symbol": "circle"
         },
         "mode": "markers",
         "name": "Hemichordata",
         "scene": "scene",
         "showlegend": true,
         "type": "scatter3d",
         "x": [
          -0.7315641641616821
         ],
         "y": [
          8.187911033630371
         ],
         "z": [
          0.36363279819488525
         ]
        },
        {
         "hovertemplate": "species=Fungi<br>0=%{x}<br>1=%{y}<br>2=%{z}<extra></extra>",
         "legendgroup": "Fungi",
         "marker": {
          "color": "#EF553B",
          "size": 8,
          "symbol": "circle"
         },
         "mode": "markers",
         "name": "Fungi",
         "scene": "scene",
         "showlegend": true,
         "type": "scatter3d",
         "x": [
          1.2387793064117432,
          1.1101478338241577
         ],
         "y": [
          5.251379489898682,
          5.348414421081543
         ],
         "z": [
          0.6049656271934509,
          0.5556094646453857
         ]
        },
        {
         "hovertemplate": "species=Viridiplantae<br>0=%{x}<br>1=%{y}<br>2=%{z}<extra></extra>",
         "legendgroup": "Viridiplantae",
         "marker": {
          "color": "#00cc96",
          "size": 8,
          "symbol": "circle"
         },
         "mode": "markers",
         "name": "Viridiplantae",
         "scene": "scene",
         "showlegend": true,
         "type": "scatter3d",
         "x": [
          1.6356579065322876
         ],
         "y": [
          4.526456356048584
         ],
         "z": [
          1.1257497072219849
         ]
        }
       ],
       "layout": {
        "height": 900,
        "legend": {
         "title": {
          "text": "species"
         },
         "tracegroupgap": 0
        },
        "margin": {
         "t": 60
        },
        "scene": {
         "aspectmode": "auto",
         "aspectratio": {
          "x": 1.0401030275547003,
          "y": 1.0108873728792191,
          "z": 0.9510883625638081
         },
         "camera": {
          "center": {
           "x": 0,
           "y": 0,
           "z": 0
          },
          "eye": {
           "x": -0.9856679438684351,
           "y": 1.490430972791961,
           "z": 1.0555020674869686
          },
          "projection": {
           "type": "perspective"
          },
          "up": {
           "x": 0,
           "y": 0,
           "z": 1
          }
         },
         "domain": {
          "x": [
           0,
           1
          ],
          "y": [
           0,
           1
          ]
         },
         "xaxis": {
          "title": {
           "text": "0"
          },
          "type": "linear"
         },
         "yaxis": {
          "title": {
           "text": "1"
          },
          "type": "linear"
         },
         "zaxis": {
          "title": {
           "text": "2"
          },
          "type": "linear"
         }
        },
        "template": {
         "data": {
          "bar": [
           {
            "error_x": {
             "color": "#2a3f5f"
            },
            "error_y": {
             "color": "#2a3f5f"
            },
            "marker": {
             "line": {
              "color": "#E5ECF6",
              "width": 0.5
             },
             "pattern": {
              "fillmode": "overlay",
              "size": 10,
              "solidity": 0.2
             }
            },
            "type": "bar"
           }
          ],
          "barpolar": [
           {
            "marker": {
             "line": {
              "color": "#E5ECF6",
              "width": 0.5
             },
             "pattern": {
              "fillmode": "overlay",
              "size": 10,
              "solidity": 0.2
             }
            },
            "type": "barpolar"
           }
          ],
          "carpet": [
           {
            "aaxis": {
             "endlinecolor": "#2a3f5f",
             "gridcolor": "white",
             "linecolor": "white",
             "minorgridcolor": "white",
             "startlinecolor": "#2a3f5f"
            },
            "baxis": {
             "endlinecolor": "#2a3f5f",
             "gridcolor": "white",
             "linecolor": "white",
             "minorgridcolor": "white",
             "startlinecolor": "#2a3f5f"
            },
            "type": "carpet"
           }
          ],
          "choropleth": [
           {
            "colorbar": {
             "outlinewidth": 0,
             "ticks": ""
            },
            "type": "choropleth"
           }
          ],
          "contour": [
           {
            "colorbar": {
             "outlinewidth": 0,
             "ticks": ""
            },
            "colorscale": [
             [
              0,
              "#0d0887"
             ],
             [
              0.1111111111111111,
              "#46039f"
             ],
             [
              0.2222222222222222,
              "#7201a8"
             ],
             [
              0.3333333333333333,
              "#9c179e"
             ],
             [
              0.4444444444444444,
              "#bd3786"
             ],
             [
              0.5555555555555556,
              "#d8576b"
             ],
             [
              0.6666666666666666,
              "#ed7953"
             ],
             [
              0.7777777777777778,
              "#fb9f3a"
             ],
             [
              0.8888888888888888,
              "#fdca26"
             ],
             [
              1,
              "#f0f921"
             ]
            ],
            "type": "contour"
           }
          ],
          "contourcarpet": [
           {
            "colorbar": {
             "outlinewidth": 0,
             "ticks": ""
            },
            "type": "contourcarpet"
           }
          ],
          "heatmap": [
           {
            "colorbar": {
             "outlinewidth": 0,
             "ticks": ""
            },
            "colorscale": [
             [
              0,
              "#0d0887"
             ],
             [
              0.1111111111111111,
              "#46039f"
             ],
             [
              0.2222222222222222,
              "#7201a8"
             ],
             [
              0.3333333333333333,
              "#9c179e"
             ],
             [
              0.4444444444444444,
              "#bd3786"
             ],
             [
              0.5555555555555556,
              "#d8576b"
             ],
             [
              0.6666666666666666,
              "#ed7953"
             ],
             [
              0.7777777777777778,
              "#fb9f3a"
             ],
             [
              0.8888888888888888,
              "#fdca26"
             ],
             [
              1,
              "#f0f921"
             ]
            ],
            "type": "heatmap"
           }
          ],
          "heatmapgl": [
           {
            "colorbar": {
             "outlinewidth": 0,
             "ticks": ""
            },
            "colorscale": [
             [
              0,
              "#0d0887"
             ],
             [
              0.1111111111111111,
              "#46039f"
             ],
             [
              0.2222222222222222,
              "#7201a8"
             ],
             [
              0.3333333333333333,
              "#9c179e"
             ],
             [
              0.4444444444444444,
              "#bd3786"
             ],
             [
              0.5555555555555556,
              "#d8576b"
             ],
             [
              0.6666666666666666,
              "#ed7953"
             ],
             [
              0.7777777777777778,
              "#fb9f3a"
             ],
             [
              0.8888888888888888,
              "#fdca26"
             ],
             [
              1,
              "#f0f921"
             ]
            ],
            "type": "heatmapgl"
           }
          ],
          "histogram": [
           {
            "marker": {
             "pattern": {
              "fillmode": "overlay",
              "size": 10,
              "solidity": 0.2
             }
            },
            "type": "histogram"
           }
          ],
          "histogram2d": [
           {
            "colorbar": {
             "outlinewidth": 0,
             "ticks": ""
            },
            "colorscale": [
             [
              0,
              "#0d0887"
             ],
             [
              0.1111111111111111,
              "#46039f"
             ],
             [
              0.2222222222222222,
              "#7201a8"
             ],
             [
              0.3333333333333333,
              "#9c179e"
             ],
             [
              0.4444444444444444,
              "#bd3786"
             ],
             [
              0.5555555555555556,
              "#d8576b"
             ],
             [
              0.6666666666666666,
              "#ed7953"
             ],
             [
              0.7777777777777778,
              "#fb9f3a"
             ],
             [
              0.8888888888888888,
              "#fdca26"
             ],
             [
              1,
              "#f0f921"
             ]
            ],
            "type": "histogram2d"
           }
          ],
          "histogram2dcontour": [
           {
            "colorbar": {
             "outlinewidth": 0,
             "ticks": ""
            },
            "colorscale": [
             [
              0,
              "#0d0887"
             ],
             [
              0.1111111111111111,
              "#46039f"
             ],
             [
              0.2222222222222222,
              "#7201a8"
             ],
             [
              0.3333333333333333,
              "#9c179e"
             ],
             [
              0.4444444444444444,
              "#bd3786"
             ],
             [
              0.5555555555555556,
              "#d8576b"
             ],
             [
              0.6666666666666666,
              "#ed7953"
             ],
             [
              0.7777777777777778,
              "#fb9f3a"
             ],
             [
              0.8888888888888888,
              "#fdca26"
             ],
             [
              1,
              "#f0f921"
             ]
            ],
            "type": "histogram2dcontour"
           }
          ],
          "mesh3d": [
           {
            "colorbar": {
             "outlinewidth": 0,
             "ticks": ""
            },
            "type": "mesh3d"
           }
          ],
          "parcoords": [
           {
            "line": {
             "colorbar": {
              "outlinewidth": 0,
              "ticks": ""
             }
            },
            "type": "parcoords"
           }
          ],
          "pie": [
           {
            "automargin": true,
            "type": "pie"
           }
          ],
          "scatter": [
           {
            "fillpattern": {
             "fillmode": "overlay",
             "size": 10,
             "solidity": 0.2
            },
            "type": "scatter"
           }
          ],
          "scatter3d": [
           {
            "line": {
             "colorbar": {
              "outlinewidth": 0,
              "ticks": ""
             }
            },
            "marker": {
             "colorbar": {
              "outlinewidth": 0,
              "ticks": ""
             }
            },
            "type": "scatter3d"
           }
          ],
          "scattercarpet": [
           {
            "marker": {
             "colorbar": {
              "outlinewidth": 0,
              "ticks": ""
             }
            },
            "type": "scattercarpet"
           }
          ],
          "scattergeo": [
           {
            "marker": {
             "colorbar": {
              "outlinewidth": 0,
              "ticks": ""
             }
            },
            "type": "scattergeo"
           }
          ],
          "scattergl": [
           {
            "marker": {
             "colorbar": {
              "outlinewidth": 0,
              "ticks": ""
             }
            },
            "type": "scattergl"
           }
          ],
          "scattermapbox": [
           {
            "marker": {
             "colorbar": {
              "outlinewidth": 0,
              "ticks": ""
             }
            },
            "type": "scattermapbox"
           }
          ],
          "scatterpolar": [
           {
            "marker": {
             "colorbar": {
              "outlinewidth": 0,
              "ticks": ""
             }
            },
            "type": "scatterpolar"
           }
          ],
          "scatterpolargl": [
           {
            "marker": {
             "colorbar": {
              "outlinewidth": 0,
              "ticks": ""
             }
            },
            "type": "scatterpolargl"
           }
          ],
          "scatterternary": [
           {
            "marker": {
             "colorbar": {
              "outlinewidth": 0,
              "ticks": ""
             }
            },
            "type": "scatterternary"
           }
          ],
          "surface": [
           {
            "colorbar": {
             "outlinewidth": 0,
             "ticks": ""
            },
            "colorscale": [
             [
              0,
              "#0d0887"
             ],
             [
              0.1111111111111111,
              "#46039f"
             ],
             [
              0.2222222222222222,
              "#7201a8"
             ],
             [
              0.3333333333333333,
              "#9c179e"
             ],
             [
              0.4444444444444444,
              "#bd3786"
             ],
             [
              0.5555555555555556,
              "#d8576b"
             ],
             [
              0.6666666666666666,
              "#ed7953"
             ],
             [
              0.7777777777777778,
              "#fb9f3a"
             ],
             [
              0.8888888888888888,
              "#fdca26"
             ],
             [
              1,
              "#f0f921"
             ]
            ],
            "type": "surface"
           }
          ],
          "table": [
           {
            "cells": {
             "fill": {
              "color": "#EBF0F8"
             },
             "line": {
              "color": "white"
             }
            },
            "header": {
             "fill": {
              "color": "#C8D4E3"
             },
             "line": {
              "color": "white"
             }
            },
            "type": "table"
           }
          ]
         },
         "layout": {
          "annotationdefaults": {
           "arrowcolor": "#2a3f5f",
           "arrowhead": 0,
           "arrowwidth": 1
          },
          "autotypenumbers": "strict",
          "coloraxis": {
           "colorbar": {
            "outlinewidth": 0,
            "ticks": ""
           }
          },
          "colorscale": {
           "diverging": [
            [
             0,
             "#8e0152"
            ],
            [
             0.1,
             "#c51b7d"
            ],
            [
             0.2,
             "#de77ae"
            ],
            [
             0.3,
             "#f1b6da"
            ],
            [
             0.4,
             "#fde0ef"
            ],
            [
             0.5,
             "#f7f7f7"
            ],
            [
             0.6,
             "#e6f5d0"
            ],
            [
             0.7,
             "#b8e186"
            ],
            [
             0.8,
             "#7fbc41"
            ],
            [
             0.9,
             "#4d9221"
            ],
            [
             1,
             "#276419"
            ]
           ],
           "sequential": [
            [
             0,
             "#0d0887"
            ],
            [
             0.1111111111111111,
             "#46039f"
            ],
            [
             0.2222222222222222,
             "#7201a8"
            ],
            [
             0.3333333333333333,
             "#9c179e"
            ],
            [
             0.4444444444444444,
             "#bd3786"
            ],
            [
             0.5555555555555556,
             "#d8576b"
            ],
            [
             0.6666666666666666,
             "#ed7953"
            ],
            [
             0.7777777777777778,
             "#fb9f3a"
            ],
            [
             0.8888888888888888,
             "#fdca26"
            ],
            [
             1,
             "#f0f921"
            ]
           ],
           "sequentialminus": [
            [
             0,
             "#0d0887"
            ],
            [
             0.1111111111111111,
             "#46039f"
            ],
            [
             0.2222222222222222,
             "#7201a8"
            ],
            [
             0.3333333333333333,
             "#9c179e"
            ],
            [
             0.4444444444444444,
             "#bd3786"
            ],
            [
             0.5555555555555556,
             "#d8576b"
            ],
            [
             0.6666666666666666,
             "#ed7953"
            ],
            [
             0.7777777777777778,
             "#fb9f3a"
            ],
            [
             0.8888888888888888,
             "#fdca26"
            ],
            [
             1,
             "#f0f921"
            ]
           ]
          },
          "colorway": [
           "#636efa",
           "#EF553B",
           "#00cc96",
           "#ab63fa",
           "#FFA15A",
           "#19d3f3",
           "#FF6692",
           "#B6E880",
           "#FF97FF",
           "#FECB52"
          ],
          "font": {
           "color": "#2a3f5f"
          },
          "geo": {
           "bgcolor": "white",
           "lakecolor": "white",
           "landcolor": "#E5ECF6",
           "showlakes": true,
           "showland": true,
           "subunitcolor": "white"
          },
          "hoverlabel": {
           "align": "left"
          },
          "hovermode": "closest",
          "mapbox": {
           "style": "light"
          },
          "paper_bgcolor": "white",
          "plot_bgcolor": "#E5ECF6",
          "polar": {
           "angularaxis": {
            "gridcolor": "white",
            "linecolor": "white",
            "ticks": ""
           },
           "bgcolor": "#E5ECF6",
           "radialaxis": {
            "gridcolor": "white",
            "linecolor": "white",
            "ticks": ""
           }
          },
          "scene": {
           "xaxis": {
            "backgroundcolor": "#E5ECF6",
            "gridcolor": "white",
            "gridwidth": 2,
            "linecolor": "white",
            "showbackground": true,
            "ticks": "",
            "zerolinecolor": "white"
           },
           "yaxis": {
            "backgroundcolor": "#E5ECF6",
            "gridcolor": "white",
            "gridwidth": 2,
            "linecolor": "white",
            "showbackground": true,
            "ticks": "",
            "zerolinecolor": "white"
           },
           "zaxis": {
            "backgroundcolor": "#E5ECF6",
            "gridcolor": "white",
            "gridwidth": 2,
            "linecolor": "white",
            "showbackground": true,
            "ticks": "",
            "zerolinecolor": "white"
           }
          },
          "shapedefaults": {
           "line": {
            "color": "#2a3f5f"
           }
          },
          "ternary": {
           "aaxis": {
            "gridcolor": "white",
            "linecolor": "white",
            "ticks": ""
           },
           "baxis": {
            "gridcolor": "white",
            "linecolor": "white",
            "ticks": ""
           },
           "bgcolor": "#E5ECF6",
           "caxis": {
            "gridcolor": "white",
            "linecolor": "white",
            "ticks": ""
           }
          },
          "title": {
           "x": 0.05
          },
          "xaxis": {
           "automargin": true,
           "gridcolor": "white",
           "linecolor": "white",
           "ticks": "",
           "title": {
            "standoff": 15
           },
           "zerolinecolor": "white",
           "zerolinewidth": 2
          },
          "yaxis": {
           "automargin": true,
           "gridcolor": "white",
           "linecolor": "white",
           "ticks": "",
           "title": {
            "standoff": 15
           },
           "zerolinecolor": "white",
           "zerolinewidth": 2
          }
         }
        },
        "width": 1000,
        "xaxis": {
         "dtick": 5,
         "range": [
          -20,
          20
         ]
        },
        "yaxis": {
         "range": [
          -20,
          20
         ]
        }
       }
      },
      "image/png": "[encoded data removed]",
      "text/html": [
       "<div>                            <div id=\"287a9453-06c5-4712-8686-227a4a532d09\" class=\"plotly-graph-div\" style=\"height:900px; width:1000px;\"></div>            <script type=\"text/javascript\">                require([\"plotly\"], function(Plotly) {                    window.PLOTLYENV=window.PLOTLYENV || {};                                    if (document.getElementById(\"287a9453-06c5-4712-8686-227a4a532d09\")) {                    Plotly.newPlot(                        \"287a9453-06c5-4712-8686-227a4a532d09\",                        [{\"hovertemplate\":\"species=Echinodermata<br>0=%{x}<br>1=%{y}<br>2=%{z}<extra></extra>\",\"legendgroup\":\"Echinodermata\",\"marker\":{\"color\":\"#636efa\",\"symbol\":\"circle\",\"size\":8},\"mode\":\"markers\",\"name\":\"Echinodermata\",\"scene\":\"scene\",\"showlegend\":true,\"x\":[9.226883888244629,7.715747356414795,9.43044662475586,9.371241569519043,9.373888969421387,1.6456526517868042,1.56344735622406,1.714617133140564,1.7492445707321167,1.570400595664978],\"y\":[6.814305782318115,6.936920166015625,6.75084114074707,6.742253303527832,6.78118371963501,4.434041976928711,4.508844375610352,4.249569416046143,4.2183990478515625,4.597311496734619],\"z\":[5.8452935218811035,6.361182689666748,5.702413082122803,5.74255895614624,5.725652694702148,1.1825995445251465,1.2807749509811401,1.4344433546066284,1.4922947883605957,1.0076202154159546],\"type\":\"scatter3d\"},{\"hovertemplate\":\"species=Arthropoda<br>0=%{x}<br>1=%{y}<br>2=%{z}<extra></extra>\",\"legendgroup\":\"Arthropoda\",\"marker\":{\"color\":\"#EF553B\",\"symbol\":\"circle\",\"size\":8},\"mode\":\"markers\",\"name\":\"Arthropoda\",\"scene\":\"scene\",\"showlegend\":true,\"x\":[6.753452301025391,7.0439534187316895,7.0513176918029785,6.960791110992432,6.964068412780762,7.391568183898926,6.8821120262146,6.891867637634277,6.88319730758667,7.248711585998535,8.135502815246582,6.671541690826416,6.734498500823975,6.711103439331055,6.728778839111328,6.706874370574951,6.715899467468262,6.779800891876221,6.663203239440918,7.041661739349365,7.442309379577637,7.808900356292725,7.838291645050049,7.925698757171631,6.882510185241699,7.05039119720459,2.098031520843506,8.15960693359375,8.303773880004883,8.344132423400879,8.408293724060059,8.268117904663086,8.354111671447754,8.366074562072754,8.486226081848145,8.27110481262207,8.274466514587402,8.137752532958984,2.0676047801971436,7.145310878753662,10.171890258789062,10.151270866394043,10.252361297607422,2.1537606716156006,11.3677396774292,11.362981796264648,11.44593334197998,11.498713493347168,7.36137580871582,11.00832748413086,11.222129821777344,11.013747215270996,10.19568920135498,6.700333118438721,6.936812877655029,10.203588485717773,11.30024528503418,11.411778450012207,11.37171745300293,11.231797218322754,11.122147560119629,11.130204200744629,10.226608276367188,10.423072814941406,0.18332898616790771,7.342800140380859,10.948201179504395,10.888795852661133,8.60150146484375,8.70541000366211,8.45309829711914,8.350255012512207,8.348105430603027,7.110281467437744,7.2612433433532715,8.860848426818848,9.028215408325195,2.0331838130950928,7.807821750640869,7.774457931518555,10.192042350769043,2.049320936203003,10.487064361572266,9.77094554901123],\"y\":[7.666225910186768,6.942075729370117,6.593141078948975,6.8051438331604,6.84874963760376,6.363090515136719,7.4143548011779785,7.50818395614624,6.849049091339111,6.122154712677002,6.929036617279053,6.239173889160156,5.856429100036621,5.952520370483398,6.253382682800293,5.942265510559082,5.9827494621276855,6.297385215759277,5.848365306854248,6.0811076164245605,6.904105186462402,6.881442546844482,6.982580184936523,6.912883758544922,7.552285671234131,6.637414932250977,0.5061813592910767,10.786975860595703,10.693123817443848,10.664294242858887,10.783747673034668,10.71683406829834,10.790434837341309,10.76953125,10.893771171569824,10.761439323425293,10.72082805633545,10.743339538574219,0.29506513476371765,6.713869571685791,6.704948425292969,6.68042516708374,6.714003086090088,0.6396770477294922,5.681946754455566,5.726024150848389,5.603360176086426,5.5644450187683105,6.251415729522705,5.859745025634766,5.755512237548828,5.868269920349121,6.367053985595703,5.922293663024902,7.469700336456299,6.662400722503662,5.704974174499512,5.6381378173828125,5.659639835357666,5.786746978759766,5.853299140930176,5.820851802825928,6.340708255767822,6.214157581329346,7.294990539550781,6.203528881072998,5.932828426361084,5.988845348358154,6.91019868850708,6.859945297241211,6.9645915031433105,6.920104503631592,6.908259391784668,6.589085102081299,6.794864177703857,6.854592800140381,6.743878364562988,-0.47458434104919434,6.816397190093994,6.6649298667907715,6.711938381195068,-0.4742274880409241,6.197671413421631,6.6081976890563965],\"z\":[7.469792366027832,7.657130718231201,8.067750930786133,7.897305011749268,7.805130958557129,7.978870391845703,7.470781326293945,7.41230583190918,7.874177932739258,8.296399116516113,6.526928901672363,8.579307556152344,8.999237060546875,8.880412101745605,8.537066459655762,8.903349876403809,8.863424301147461,8.482343673706055,8.986351013183594,8.50058364868164,7.290968894958496,6.889573097229004,6.711043357849121,6.7656145095825195,7.3637566566467285,7.990169525146484,-0.7876332402229309,8.138914108276367,8.395889282226562,8.38597583770752,8.445520401000977,8.241874694824219,8.317277908325195,8.36490535736084,8.486472129821777,8.262354850769043,8.281611442565918,8.159953117370605,-0.8986486196517944,7.728717803955078,5.23687219619751,5.266781806945801,5.173138618469238,-0.8021929264068604,4.67500114440918,4.669943332672119,4.725876331329346,4.711935520172119,8.096685409545898,5.02897834777832,4.651219367980957,4.9813432693481445,5.3903703689575195,8.924505233764648,7.4069037437438965,5.2136688232421875,4.73840856552124,4.6196980476379395,4.736789226531982,4.713970184326172,4.757461071014404,4.830661296844482,5.369589805603027,5.270506858825684,0.3401394784450531,8.156725883483887,4.941949844360352,4.9979248046875,6.249354362487793,6.176455497741699,6.320135593414307,6.397650718688965,6.401183605194092,7.816091060638428,7.534593105316162,6.083305358886719,5.954929351806641,-1.0604242086410522,6.979302406311035,7.251303672790527,5.1942243576049805,-1.0928559303283691,5.23079252243042,5.515182971954346],\"type\":\"scatter3d\"},{\"hovertemplate\":\"species=Mollusca<br>0=%{x}<br>1=%{y}<br>2=%{z}<extra></extra>\",\"legendgroup\":\"Mollusca\",\"marker\":{\"color\":\"#00cc96\",\"symbol\":\"circle\",\"size\":8},\"mode\":\"markers\",\"name\":\"Mollusca\",\"scene\":\"scene\",\"showlegend\":true,\"x\":[7.213418483734131,7.285072326660156,2.0692243576049805,2.002025842666626,1.911433458328247,2.029939889907837,2.1527576446533203,8.26497745513916,8.253097534179688,8.3151273727417,8.12425708770752,8.218866348266602,7.554088592529297,2.0163090229034424,2.187108039855957,8.12657642364502,7.493244647979736,7.396108627319336,8.252846717834473,1.4942991733551025,1.4277799129486084,1.336422085762024,9.160221099853516,8.319843292236328,1.4907996654510498,2.0316970348358154,1.5107237100601196,2.0719099044799805,1.4726585149765015,8.200368881225586,8.145870208740234,-0.11216961592435837,-0.13548403978347778,-0.15238291025161743,-0.07860742509365082,-0.11973962187767029],\"y\":[7.142716884613037,6.873043537139893,-0.12708815932273865,0.7466642260551453,0.8665869235992432,-0.3934709131717682,0.5705070495605469,5.042375087738037,5.2546257972717285,5.035399436950684,5.045864582061768,5.086796283721924,6.6141815185546875,0.7585820555686951,0.6241152882575989,5.354089260101318,6.447091579437256,6.3186235427856445,5.096548080444336,4.946228981018066,5.039007663726807,5.107283592224121,6.9998884201049805,5.040430068969727,4.695377826690674,0.7210633158683777,4.669537544250488,-0.23160351812839508,5.053303241729736,5.150289058685303,5.218993186950684,6.792065143585205,6.769351482391357,6.803511619567871,6.856267929077148,6.798959732055664],\"z\":[7.462134838104248,7.624043941497803,-0.8077561259269714,-0.8628114461898804,-0.6403468251228333,-0.9687276482582092,-0.6975695490837097,8.971918106079102,8.771063804626465,8.984704971313477,8.974794387817383,8.93234920501709,7.788094997406006,-0.7645600438117981,-0.7073572278022766,8.701759338378906,7.959342002868652,8.088035583496094,8.927984237670898,1.443304181098938,1.2713907957077026,1.1451971530914307,5.919862270355225,8.980162620544434,1.8756861686706543,-0.7536632418632507,1.8241291046142578,-0.8598102331161499,1.3143575191497803,8.87694263458252,8.811508178710938,0.664091944694519,0.6542646288871765,0.6367776393890381,0.5883649587631226,0.6360764503479004],\"type\":\"scatter3d\"},{\"hovertemplate\":\"species=Annelida<br>0=%{x}<br>1=%{y}<br>2=%{z}<extra></extra>\",\"legendgroup\":\"Annelida\",\"marker\":{\"color\":\"#ab63fa\",\"symbol\":\"circle\",\"size\":8},\"mode\":\"markers\",\"name\":\"Annelida\",\"scene\":\"scene\",\"showlegend\":true,\"x\":[1.6015336513519287,1.3816063404083252,1.6104575395584106,1.2789920568466187,7.445722579956055,2.0035400390625,9.553625106811523,2.0730247497558594,1.4209202527999878],\"y\":[4.5733513832092285,4.83660364151001,4.540521621704102,4.991194248199463,6.948842525482178,-0.3196294903755188,6.688498020172119,-0.30862897634506226,4.7731032371521],\"z\":[2.0194387435913086,1.7628085613250732,1.9312993288040161,1.6472951173782349,7.242528438568115,-0.9065048098564148,5.610228061676025,-0.9319541454315186,1.815356969833374],\"type\":\"scatter3d\"},{\"hovertemplate\":\"species=Chordata<br>0=%{x}<br>1=%{y}<br>2=%{z}<extra></extra>\",\"legendgroup\":\"Chordata\",\"marker\":{\"color\":\"#FFA15A\",\"symbol\":\"circle\",\"size\":8},\"mode\":\"markers\",\"name\":\"Chordata\",\"scene\":\"scene\",\"showlegend\":true,\"x\":[-0.9148686528205872,-0.947974681854248,1.6807745695114136,-3.6907901763916016,-3.779078960418701,-3.8631746768951416,-4.725029468536377,-3.968034267425537,-3.673156261444092,-4.663054943084717,-3.7008259296417236,-4.383265495300293,-4.3047566413879395,-3.7969565391540527,-3.907426118850708,-4.6137824058532715,-4.744619369506836,-3.8782362937927246,-4.504324913024902,-3.666363000869751,-3.804936647415161,-3.6434109210968018,-3.7968788146972656,-4.647895336151123,-3.8000314235687256,-4.322408199310303,-4.070804119110107,-3.3868868350982666,-3.443161964416504,-3.9206199645996094,-3.408473253250122,-3.3160955905914307,-1.240683674812317,2.1242728233337402,2.1492960453033447,2.056591033935547,2.1018598079681396,2.045269727706909,2.0999319553375244,2.123641014099121,2.1402840614318848,2.255131959915161,2.1127357482910156,2.1017189025878906,2.1070468425750732,2.0901987552642822,-0.8050954341888428,2.155155658721924,2.1787641048431396,-0.24264217913150787,-0.1790320724248886,-0.13473820686340332,-0.11779740452766418,-0.35254329442977905,-0.2886575162410736,-1.4583889245986938,-1.281501293182373,-1.5053534507751465,-1.3309749364852905,-1.0946519374847412,-0.9782001972198486,-1.0551183223724365,-1.1455999612808228,-1.2041598558425903,-1.1539419889450073,-1.0744210481643677,-1.033957600593567,-3.8224411010742188,-0.7315746545791626,-0.7759581804275513,-0.8571429252624512,-3.4711101055145264,-3.290437936782837,-0.8624017834663391,-3.33585524559021,-0.8086186647415161,-0.8425856828689575,-3.474036931991577,-0.8253510594367981,-3.407940149307251,-3.3287391662597656,-3.422995090484619,-3.396756887435913,-0.9436677098274231,-4.705051898956299,-3.592022657394409,-0.8262871503829956,-0.05588849261403084],\"y\":[-4.186112403869629,8.402508735656738,4.618417739868164,11.289934158325195,10.844337463378906,11.127079963684082,11.416951179504395,11.395431518554688,11.134904861450195,11.282690048217773,11.068621635437012,11.515307426452637,11.530278205871582,10.942524909973145,11.268494606018066,11.315600395202637,11.41258716583252,10.757357597351074,11.196293830871582,10.748991012573242,10.668283462524414,11.06883716583252,10.59885025024414,11.416070938110352,10.632418632507324,10.98604965209961,10.85492992401123,10.512560844421387,10.506723403930664,11.43899917602539,10.587177276611328,10.621185302734375,8.714080810546875,-0.17504705488681793,-0.28293970227241516,-0.619759738445282,0.23959940671920776,-0.6074551939964294,0.030491864308714867,0.19014285504817963,-0.7168341875076294,-0.3719785213470459,-0.4880179166793823,-0.782041072845459,-0.826782763004303,-0.6604257822036743,8.26118278503418,-0.7605193257331848,-0.4306742250919342,7.706878662109375,7.636189937591553,7.5981221199035645,7.55141544342041,7.813793659210205,7.749932765960693,8.920670509338379,8.743111610412598,8.968875885009766,8.799052238464355,8.50986099243164,8.469308853149414,8.420968055725098,8.62559986114502,8.699915885925293,8.643598556518555,8.607892036437988,8.486641883850098,10.962921142578125,8.188187599182129,8.23400592803955,8.245153427124023,-4.090290546417236,-4.2567925453186035,-4.128775596618652,-4.222029209136963,-4.076427936553955,-4.1091084480285645,-4.087440013885498,-4.096834659576416,-4.147749423980713,-4.221060276031494,-4.143279552459717,-4.158269882202148,8.33443546295166,11.342134475708008,11.090193748474121,-4.08858060836792,7.492434978485107],\"z\":[-4.178582668304443,0.5345960855484009,2.1007754802703857,-0.2761813700199127,-0.2066154032945633,-0.41035759449005127,-0.07723169028759003,-0.2899540960788727,-0.2007865607738495,0.001739858533255756,-0.1417025625705719,-0.26369765400886536,-0.2996712923049927,-0.30313366651535034,-0.3613736629486084,0.010264363139867783,-0.0696464404463768,-0.11576513200998306,0.10402422398328781,-0.21562419831752777,0.046719424426555634,-0.09756316989660263,0.05373206362128258,-0.008674340322613716,0.07755150645971298,0.028234662488102913,0.0013262800639495254,0.05256730690598488,0.10102133452892303,-0.27903565764427185,-0.009642485529184341,-0.03990868106484413,-0.10583965480327606,-1.6515576839447021,-1.6810109615325928,-1.794249176979065,-1.3055378198623657,-1.8761476278305054,-1.4417333602905273,-1.3771895170211792,-1.738684058189392,-1.7090201377868652,-1.815963864326477,-1.7120813131332397,-1.6412137746810913,-1.7544126510620117,0.4050940275192261,-1.6799565553665161,-1.7921220064163208,0.3647894859313965,0.40831318497657776,0.3393312692642212,0.4554601311683655,0.3128544092178345,0.38668093085289,0.016541199758648872,0.07728713005781174,-0.03982607275247574,0.018872728571295738,-0.2122499793767929,-0.23584792017936707,-0.34486955404281616,-0.2107561230659485,-0.04001534730195999,-0.18856067955493927,-0.12438829243183136,-0.29530566930770874,-0.34165138006210327,0.4182238280773163,0.4137509763240814,-0.3392754793167114,-5.708258152008057,-5.748849868774414,-4.124919891357422,-5.853950023651123,-4.071540832519531,-4.105168342590332,-5.713449001312256,-4.089145660400391,-5.847972869873047,-5.773604869842529,-5.686830997467041,-5.792235374450684,-0.39094939827919006,-0.00868549756705761,-0.15020476281642914,-4.087327480316162,0.4084795415401459],\"type\":\"scatter3d\"},{\"hovertemplate\":\"species=Cnidaria<br>0=%{x}<br>1=%{y}<br>2=%{z}<extra></extra>\",\"legendgroup\":\"Cnidaria\",\"marker\":{\"color\":\"#19d3f3\",\"symbol\":\"circle\",\"size\":8},\"mode\":\"markers\",\"name\":\"Cnidaria\",\"scene\":\"scene\",\"showlegend\":true,\"x\":[1.8455342054367065,1.5594544410705566,1.7831177711486816,1.6606388092041016,1.7920856475830078,1.382663369178772],\"y\":[3.8809969425201416,4.597911357879639,4.05492639541626,4.334855556488037,3.982015371322632,4.999871730804443],\"z\":[1.1480603218078613,0.6552928686141968,1.0153392553329468,0.9002648591995239,1.162071943283081,0.727613627910614],\"type\":\"scatter3d\"},{\"hovertemplate\":\"species=Porifera<br>0=%{x}<br>1=%{y}<br>2=%{z}<extra></extra>\",\"legendgroup\":\"Porifera\",\"marker\":{\"color\":\"#FF6692\",\"symbol\":\"circle\",\"size\":8},\"mode\":\"markers\",\"name\":\"Porifera\",\"scene\":\"scene\",\"showlegend\":true,\"x\":[1.5430588722229004],\"y\":[4.450427055358887],\"z\":[1.4021341800689697],\"type\":\"scatter3d\"},{\"hovertemplate\":\"species=Placozoa<br>0=%{x}<br>1=%{y}<br>2=%{z}<extra></extra>\",\"legendgroup\":\"Placozoa\",\"marker\":{\"color\":\"#B6E880\",\"symbol\":\"circle\",\"size\":8},\"mode\":\"markers\",\"name\":\"Placozoa\",\"scene\":\"scene\",\"showlegend\":true,\"x\":[1.5880330801010132],\"y\":[4.572556495666504],\"z\":[1.7984269857406616],\"type\":\"scatter3d\"},{\"hovertemplate\":\"species=Bacteria<br>0=%{x}<br>1=%{y}<br>2=%{z}<extra></extra>\",\"legendgroup\":\"Bacteria\",\"marker\":{\"color\":\"#FF97FF\",\"symbol\":\"circle\",\"size\":8},\"mode\":\"markers\",\"name\":\"Bacteria\",\"scene\":\"scene\",\"showlegend\":true,\"x\":[1.5589289665222168,1.4688246250152588,1.7092152833938599],\"y\":[4.752965927124023,4.890019416809082,4.2544169425964355],\"z\":[0.8706894516944885,0.8562262058258057,1.3609516620635986],\"type\":\"scatter3d\"},{\"hovertemplate\":\"species=Nematoda<br>0=%{x}<br>1=%{y}<br>2=%{z}<extra></extra>\",\"legendgroup\":\"Nematoda\",\"marker\":{\"color\":\"#FECB52\",\"symbol\":\"circle\",\"size\":8},\"mode\":\"markers\",\"name\":\"Nematoda\",\"scene\":\"scene\",\"showlegend\":true,\"x\":[7.710267066955566,7.684686183929443,7.697401523590088,1.035539984703064,1.0955942869186401,1.003690242767334,1.0714821815490723,1.0385984182357788,0.19709694385528564,0.37438249588012695],\"y\":[6.557045936584473,6.580799579620361,6.493747234344482,5.81126070022583,5.851123332977295,5.892035007476807,5.745595932006836,5.815213680267334,7.182101726531982,6.855303764343262],\"z\":[7.399133682250977,7.400496482849121,7.468336582183838,0.5163811445236206,0.486351877450943,0.5595130920410156,0.6149969696998596,0.5787330269813538,0.3963683247566223,0.44002822041511536],\"type\":\"scatter3d\"},{\"hovertemplate\":\"species=Hemichordata<br>0=%{x}<br>1=%{y}<br>2=%{z}<extra></extra>\",\"legendgroup\":\"Hemichordata\",\"marker\":{\"color\":\"#636efa\",\"symbol\":\"circle\",\"size\":8},\"mode\":\"markers\",\"name\":\"Hemichordata\",\"scene\":\"scene\",\"showlegend\":true,\"x\":[-0.7315641641616821],\"y\":[8.187911033630371],\"z\":[0.36363279819488525],\"type\":\"scatter3d\"},{\"hovertemplate\":\"species=Fungi<br>0=%{x}<br>1=%{y}<br>2=%{z}<extra></extra>\",\"legendgroup\":\"Fungi\",\"marker\":{\"color\":\"#EF553B\",\"symbol\":\"circle\",\"size\":8},\"mode\":\"markers\",\"name\":\"Fungi\",\"scene\":\"scene\",\"showlegend\":true,\"x\":[1.2387793064117432,1.1101478338241577],\"y\":[5.251379489898682,5.348414421081543],\"z\":[0.6049656271934509,0.5556094646453857],\"type\":\"scatter3d\"},{\"hovertemplate\":\"species=Viridiplantae<br>0=%{x}<br>1=%{y}<br>2=%{z}<extra></extra>\",\"legendgroup\":\"Viridiplantae\",\"marker\":{\"color\":\"#00cc96\",\"symbol\":\"circle\",\"size\":8},\"mode\":\"markers\",\"name\":\"Viridiplantae\",\"scene\":\"scene\",\"showlegend\":true,\"x\":[1.6356579065322876],\"y\":[4.526456356048584],\"z\":[1.1257497072219849],\"type\":\"scatter3d\"}],                        {\"template\":{\"data\":{\"histogram2dcontour\":[{\"type\":\"histogram2dcontour\",\"colorbar\":{\"outlinewidth\":0,\"ticks\":\"\"},\"colorscale\":[[0.0,\"#0d0887\"],[0.1111111111111111,\"#46039f\"],[0.2222222222222222,\"#7201a8\"],[0.3333333333333333,\"#9c179e\"],[0.4444444444444444,\"#bd3786\"],[0.5555555555555556,\"#d8576b\"],[0.6666666666666666,\"#ed7953\"],[0.7777777777777778,\"#fb9f3a\"],[0.8888888888888888,\"#fdca26\"],[1.0,\"#f0f921\"]]}],\"choropleth\":[{\"type\":\"choropleth\",\"colorbar\":{\"outlinewidth\":0,\"ticks\":\"\"}}],\"histogram2d\":[{\"type\":\"histogram2d\",\"colorbar\":{\"outlinewidth\":0,\"ticks\":\"\"},\"colorscale\":[[0.0,\"#0d0887\"],[0.1111111111111111,\"#46039f\"],[0.2222222222222222,\"#7201a8\"],[0.3333333333333333,\"#9c179e\"],[0.4444444444444444,\"#bd3786\"],[0.5555555555555556,\"#d8576b\"],[0.6666666666666666,\"#ed7953\"],[0.7777777777777778,\"#fb9f3a\"],[0.8888888888888888,\"#fdca26\"],[1.0,\"#f0f921\"]]}],\"heatmap\":[{\"type\":\"heatmap\",\"colorbar\":{\"outlinewidth\":0,\"ticks\":\"\"},\"colorscale\":[[0.0,\"#0d0887\"],[0.1111111111111111,\"#46039f\"],[0.2222222222222222,\"#7201a8\"],[0.3333333333333333,\"#9c179e\"],[0.4444444444444444,\"#bd3786\"],[0.5555555555555556,\"#d8576b\"],[0.6666666666666666,\"#ed7953\"],[0.7777777777777778,\"#fb9f3a\"],[0.8888888888888888,\"#fdca26\"],[1.0,\"#f0f921\"]]}],\"heatmapgl\":[{\"type\":\"heatmapgl\",\"colorbar\":{\"outlinewidth\":0,\"ticks\":\"\"},\"colorscale\":[[0.0,\"#0d0887\"],[0.1111111111111111,\"#46039f\"],[0.2222222222222222,\"#7201a8\"],[0.3333333333333333,\"#9c179e\"],[0.4444444444444444,\"#bd3786\"],[0.5555555555555556,\"#d8576b\"],[0.6666666666666666,\"#ed7953\"],[0.7777777777777778,\"#fb9f3a\"],[0.8888888888888888,\"#fdca26\"],[1.0,\"#f0f921\"]]}],\"contourcarpet\":[{\"type\":\"contourcarpet\",\"colorbar\":{\"outlinewidth\":0,\"ticks\":\"\"}}],\"contour\":[{\"type\":\"contour\",\"colorbar\":{\"outlinewidth\":0,\"ticks\":\"\"},\"colorscale\":[[0.0,\"#0d0887\"],[0.1111111111111111,\"#46039f\"],[0.2222222222222222,\"#7201a8\"],[0.3333333333333333,\"#9c179e\"],[0.4444444444444444,\"#bd3786\"],[0.5555555555555556,\"#d8576b\"],[0.6666666666666666,\"#ed7953\"],[0.7777777777777778,\"#fb9f3a\"],[0.8888888888888888,\"#fdca26\"],[1.0,\"#f0f921\"]]}],\"surface\":[{\"type\":\"surface\",\"colorbar\":{\"outlinewidth\":0,\"ticks\":\"\"},\"colorscale\":[[0.0,\"#0d0887\"],[0.1111111111111111,\"#46039f\"],[0.2222222222222222,\"#7201a8\"],[0.3333333333333333,\"#9c179e\"],[0.4444444444444444,\"#bd3786\"],[0.5555555555555556,\"#d8576b\"],[0.6666666666666666,\"#ed7953\"],[0.7777777777777778,\"#fb9f3a\"],[0.8888888888888888,\"#fdca26\"],[1.0,\"#f0f921\"]]}],\"mesh3d\":[{\"type\":\"mesh3d\",\"colorbar\":{\"outlinewidth\":0,\"ticks\":\"\"}}],\"scatter\":[{\"fillpattern\":{\"fillmode\":\"overlay\",\"size\":10,\"solidity\":0.2},\"type\":\"scatter\"}],\"parcoords\":[{\"type\":\"parcoords\",\"line\":{\"colorbar\":{\"outlinewidth\":0,\"ticks\":\"\"}}}],\"scatterpolargl\":[{\"type\":\"scatterpolargl\",\"marker\":{\"colorbar\":{\"outlinewidth\":0,\"ticks\":\"\"}}}],\"bar\":[{\"error_x\":{\"color\":\"#2a3f5f\"},\"error_y\":{\"color\":\"#2a3f5f\"},\"marker\":{\"line\":{\"color\":\"#E5ECF6\",\"width\":0.5},\"pattern\":{\"fillmode\":\"overlay\",\"size\":10,\"solidity\":0.2}},\"type\":\"bar\"}],\"scattergeo\":[{\"type\":\"scattergeo\",\"marker\":{\"colorbar\":{\"outlinewidth\":0,\"ticks\":\"\"}}}],\"scatterpolar\":[{\"type\":\"scatterpolar\",\"marker\":{\"colorbar\":{\"outlinewidth\":0,\"ticks\":\"\"}}}],\"histogram\":[{\"marker\":{\"pattern\":{\"fillmode\":\"overlay\",\"size\":10,\"solidity\":0.2}},\"type\":\"histogram\"}],\"scattergl\":[{\"type\":\"scattergl\",\"marker\":{\"colorbar\":{\"outlinewidth\":0,\"ticks\":\"\"}}}],\"scatter3d\":[{\"type\":\"scatter3d\",\"line\":{\"colorbar\":{\"outlinewidth\":0,\"ticks\":\"\"}},\"marker\":{\"colorbar\":{\"outlinewidth\":0,\"ticks\":\"\"}}}],\"scattermapbox\":[{\"type\":\"scattermapbox\",\"marker\":{\"colorbar\":{\"outlinewidth\":0,\"ticks\":\"\"}}}],\"scatterternary\":[{\"type\":\"scatterternary\",\"marker\":{\"colorbar\":{\"outlinewidth\":0,\"ticks\":\"\"}}}],\"scattercarpet\":[{\"type\":\"scattercarpet\",\"marker\":{\"colorbar\":{\"outlinewidth\":0,\"ticks\":\"\"}}}],\"carpet\":[{\"aaxis\":{\"endlinecolor\":\"#2a3f5f\",\"gridcolor\":\"white\",\"linecolor\":\"white\",\"minorgridcolor\":\"white\",\"startlinecolor\":\"#2a3f5f\"},\"baxis\":{\"endlinecolor\":\"#2a3f5f\",\"gridcolor\":\"white\",\"linecolor\":\"white\",\"minorgridcolor\":\"white\",\"startlinecolor\":\"#2a3f5f\"},\"type\":\"carpet\"}],\"table\":[{\"cells\":{\"fill\":{\"color\":\"#EBF0F8\"},\"line\":{\"color\":\"white\"}},\"header\":{\"fill\":{\"color\":\"#C8D4E3\"},\"line\":{\"color\":\"white\"}},\"type\":\"table\"}],\"barpolar\":[{\"marker\":{\"line\":{\"color\":\"#E5ECF6\",\"width\":0.5},\"pattern\":{\"fillmode\":\"overlay\",\"size\":10,\"solidity\":0.2}},\"type\":\"barpolar\"}],\"pie\":[{\"automargin\":true,\"type\":\"pie\"}]},\"layout\":{\"autotypenumbers\":\"strict\",\"colorway\":[\"#636efa\",\"#EF553B\",\"#00cc96\",\"#ab63fa\",\"#FFA15A\",\"#19d3f3\",\"#FF6692\",\"#B6E880\",\"#FF97FF\",\"#FECB52\"],\"font\":{\"color\":\"#2a3f5f\"},\"hovermode\":\"closest\",\"hoverlabel\":{\"align\":\"left\"},\"paper_bgcolor\":\"white\",\"plot_bgcolor\":\"#E5ECF6\",\"polar\":{\"bgcolor\":\"#E5ECF6\",\"angularaxis\":{\"gridcolor\":\"white\",\"linecolor\":\"white\",\"ticks\":\"\"},\"radialaxis\":{\"gridcolor\":\"white\",\"linecolor\":\"white\",\"ticks\":\"\"}},\"ternary\":{\"bgcolor\":\"#E5ECF6\",\"aaxis\":{\"gridcolor\":\"white\",\"linecolor\":\"white\",\"ticks\":\"\"},\"baxis\":{\"gridcolor\":\"white\",\"linecolor\":\"white\",\"ticks\":\"\"},\"caxis\":{\"gridcolor\":\"white\",\"linecolor\":\"white\",\"ticks\":\"\"}},\"coloraxis\":{\"colorbar\":{\"outlinewidth\":0,\"ticks\":\"\"}},\"colorscale\":{\"sequential\":[[0.0,\"#0d0887\"],[0.1111111111111111,\"#46039f\"],[0.2222222222222222,\"#7201a8\"],[0.3333333333333333,\"#9c179e\"],[0.4444444444444444,\"#bd3786\"],[0.5555555555555556,\"#d8576b\"],[0.6666666666666666,\"#ed7953\"],[0.7777777777777778,\"#fb9f3a\"],[0.8888888888888888,\"#fdca26\"],[1.0,\"#f0f921\"]],\"sequentialminus\":[[0.0,\"#0d0887\"],[0.1111111111111111,\"#46039f\"],[0.2222222222222222,\"#7201a8\"],[0.3333333333333333,\"#9c179e\"],[0.4444444444444444,\"#bd3786\"],[0.5555555555555556,\"#d8576b\"],[0.6666666666666666,\"#ed7953\"],[0.7777777777777778,\"#fb9f3a\"],[0.8888888888888888,\"#fdca26\"],[1.0,\"#f0f921\"]],\"diverging\":[[0,\"#8e0152\"],[0.1,\"#c51b7d\"],[0.2,\"#de77ae\"],[0.3,\"#f1b6da\"],[0.4,\"#fde0ef\"],[0.5,\"#f7f7f7\"],[0.6,\"#e6f5d0\"],[0.7,\"#b8e186\"],[0.8,\"#7fbc41\"],[0.9,\"#4d9221\"],[1,\"#276419\"]]},\"xaxis\":{\"gridcolor\":\"white\",\"linecolor\":\"white\",\"ticks\":\"\",\"title\":{\"standoff\":15},\"zerolinecolor\":\"white\",\"automargin\":true,\"zerolinewidth\":2},\"yaxis\":{\"gridcolor\":\"white\",\"linecolor\":\"white\",\"ticks\":\"\",\"title\":{\"standoff\":15},\"zerolinecolor\":\"white\",\"automargin\":true,\"zerolinewidth\":2},\"scene\":{\"xaxis\":{\"backgroundcolor\":\"#E5ECF6\",\"gridcolor\":\"white\",\"linecolor\":\"white\",\"showbackground\":true,\"ticks\":\"\",\"zerolinecolor\":\"white\",\"gridwidth\":2},\"yaxis\":{\"backgroundcolor\":\"#E5ECF6\",\"gridcolor\":\"white\",\"linecolor\":\"white\",\"showbackground\":true,\"ticks\":\"\",\"zerolinecolor\":\"white\",\"gridwidth\":2},\"zaxis\":{\"backgroundcolor\":\"#E5ECF6\",\"gridcolor\":\"white\",\"linecolor\":\"white\",\"showbackground\":true,\"ticks\":\"\",\"zerolinecolor\":\"white\",\"gridwidth\":2}},\"shapedefaults\":{\"line\":{\"color\":\"#2a3f5f\"}},\"annotationdefaults\":{\"arrowcolor\":\"#2a3f5f\",\"arrowhead\":0,\"arrowwidth\":1},\"geo\":{\"bgcolor\":\"white\",\"landcolor\":\"#E5ECF6\",\"subunitcolor\":\"white\",\"showland\":true,\"showlakes\":true,\"lakecolor\":\"white\"},\"title\":{\"x\":0.05},\"mapbox\":{\"style\":\"light\"}}},\"scene\":{\"domain\":{\"x\":[0.0,1.0],\"y\":[0.0,1.0]},\"xaxis\":{\"title\":{\"text\":\"0\"}},\"yaxis\":{\"title\":{\"text\":\"1\"}},\"zaxis\":{\"title\":{\"text\":\"2\"}}},\"legend\":{\"title\":{\"text\":\"species\"},\"tracegroupgap\":0},\"margin\":{\"t\":60},\"xaxis\":{\"range\":[-20,20],\"dtick\":5},\"yaxis\":{\"range\":[-20,20]},\"width\":1000,\"height\":900},                        {\"responsive\": true}                    ).then(function(){\n",
       "                            \n",
       "var gd = document.getElementById('287a9453-06c5-4712-8686-227a4a532d09');\n",
       "var x = new MutationObserver(function (mutations, observer) {{\n",
       "        var display = window.getComputedStyle(gd).display;\n",
       "        if (!display || display === 'none') {{\n",
       "            console.log([gd, 'removed!']);\n",
       "            Plotly.purge(gd);\n",
       "            observer.disconnect();\n",
       "        }}\n",
       "}});\n",
       "\n",
       "// Listen for the removal of the full notebook cells\n",
       "var notebookContainer = gd.closest('#notebook-container');\n",
       "if (notebookContainer) {{\n",
       "    x.observe(notebookContainer, {childList: true});\n",
       "}}\n",
       "\n",
       "// Listen for the clearing of the current output cell\n",
       "var outputEl = gd.closest('.output');\n",
       "if (outputEl) {{\n",
       "    x.observe(outputEl, {childList: true});\n",
       "}}\n",
       "\n",
       "                        })                };                });            </script>        </div>"
      ]
     },
     "metadata": {},
     "output_type": "display_data"
    }
   ],
   "source": [
    "umap_3d = UMAP(n_components=3, random_state=0)\n",
    "proj_umap_phyl_3d = umap_3d.fit_transform(phyl)\n",
    "\n",
    "umap_phyl_3d = px.scatter_3d(\n",
    "    proj_umap_phyl_3d, x=0, y=1, z=2,\n",
    "    color=colour.Color_species, labels={'color': 'species'}\n",
    ")\n",
    "umap_phyl_3d.update_traces(marker_size=8)\n",
    "umap_phyl_3d.update_layout(xaxis_range=[-20, 20], yaxis_range=[-20, 20])\n",
    "umap_phyl_3d.update_layout(width=1000, height=900)\n",
    "umap_phyl_3d.update_xaxes(dtick=5)\n",
    "umap_phyl_3d.show()"
   ]
  }
 ],
 "metadata": {
  "kernelspec": {
   "display_name": "Python 3 (ipykernel)",
   "language": "python",
   "name": "python3"
  },
  "language_info": {
   "codemirror_mode": {
    "name": "ipython",
    "version": 3
   },
   "file_extension": ".py",
   "mimetype": "text/x-python",
   "name": "python",
   "nbconvert_exporter": "python",
   "pygments_lexer": "ipython3",
   "version": "3.7.9"
  }
 },
 "nbformat": 4,
 "nbformat_minor": 5
}
