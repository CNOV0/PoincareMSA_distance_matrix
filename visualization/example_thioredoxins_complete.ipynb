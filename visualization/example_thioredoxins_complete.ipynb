{
 "cells": [
  {
   "cell_type": "markdown",
   "id": "0397d8e5-f05c-491d-ae91-0af5034e46ce",
   "metadata": {},
   "source": [
    "# Poincare Maps projection on Thioredoxins starting from scratch"
   ]
  },
  {
   "cell_type": "code",
   "execution_count": 17,
   "id": "aaa496f5-b211-48d6-a6fb-e0957939fd54",
   "metadata": {},
   "outputs": [],
   "source": [
    "import os\n",
    "import numpy as np\n",
    "import pandas as pd\n",
    "from pplots_new import read_embeddings, plot_embedding, plot_embedding_interactive, rotate, get_colors\n",
    "import warnings\n",
    "warnings.filterwarnings('ignore')\n",
    "\n",
    "%matplotlib inline"
   ]
  },
  {
   "cell_type": "markdown",
   "id": "d005215c",
   "metadata": {},
   "source": [
    "## Data preparation"
   ]
  },
  {
   "cell_type": "markdown",
   "id": "8be7f66d",
   "metadata": {},
   "source": [
    "The user must provide a path to the input file in .mfasta format and path to the output directory for intermediate file storage:"
   ]
  },
  {
   "cell_type": "code",
   "execution_count": 30,
   "id": "bf99c105",
   "metadata": {},
   "outputs": [],
   "source": [
    "path_to_PM=\"/home/lavande/galochkina/SCIENCE/POINCARE/PoincareMSA\"\n",
    "mfasta = path_to_PM+\"/examples/thioredoxins/thioredoxins.mfasta\" # full path to the input MSA in mfasta format\n",
    "path_out = path_to_PM+\"/examples/thioredoxins_test\" # a directory to write resutling files\n",
    "out_name = \"thioredoxins\" # name given to the output files\n",
    "path_to_figures = \"/home/lavande/galochkina/SCIENCE/POINCARE/PoincareMSA/figures\""
   ]
  },
  {
   "cell_type": "markdown",
   "id": "398abcaf",
   "metadata": {},
   "source": [
    "All scripts necessary for data preparation are located in scirpts/data_preparation:"
   ]
  },
  {
   "cell_type": "code",
   "execution_count": 19,
   "id": "0f45d890",
   "metadata": {},
   "outputs": [],
   "source": [
    "path_prep_scripts = path_to_PM+\"/scripts/prepare_data\""
   ]
  },
  {
   "cell_type": "markdown",
   "id": "cf723d54",
   "metadata": {},
   "source": [
    "Data preparation consists in `.mfasta` cleaning according to a gap threshold and translation of each sequence to the PSSM profile:"
   ]
  },
  {
   "cell_type": "code",
   "execution_count": 20,
   "id": "fcaf8ae0",
   "metadata": {},
   "outputs": [
    {
     "name": "stdout",
     "output_type": "stream",
     "text": [
      "/home/lavande/galochkina/SCIENCE/POINCARE/PoincareMSA/scripts/prepare_data/create_projection.sh /home/lavande/galochkina/SCIENCE/POINCARE/PoincareMSA/scripts/prepare_data /home/lavande/galochkina/SCIENCE/POINCARE/PoincareMSA/examples/thioredoxins/thioredoxins.mfasta /home/lavande/galochkina/SCIENCE/POINCARE/PoincareMSA/examples/thioredoxins_test thioredoxins 0.9\n"
     ]
    }
   ],
   "source": [
    "gapth = \"0.9\" # threshold for filtering gapped positions\n",
    "prep_parameters = path_prep_scripts+\" \"+mfasta+\" \"+path_out+\" \"+out_name+\" \"+gapth # parameters for data preparation\n",
    "# print(prep_parameters)\n",
    "print(path_prep_scripts+\"/create_projection.sh \" + prep_parameters)"
   ]
  },
  {
   "cell_type": "code",
   "execution_count": 5,
   "id": "5c5b7e13",
   "metadata": {},
   "outputs": [
    {
     "name": "stdout",
     "output_type": "stream",
     "text": [
      "Output files ready for projection are written to: /home/lavande/galochkina/SCIENCE/POINCARE/PoincareMSA/examples/thioredoxins_test/fasta0.9\n"
     ]
    }
   ],
   "source": [
    "os.system(path_prep_scripts+\"/create_projection.sh \" + prep_parameters)\n",
    "print(\"Output files ready for projection are written to: \"+path_out+\"/fasta\"+gapth)"
   ]
  },
  {
   "cell_type": "markdown",
   "id": "f9eeec58",
   "metadata": {},
   "source": [
    "## Data projection using Poincaré disk\n",
    "You can change the parameters of the projection here:"
   ]
  },
  {
   "cell_type": "code",
   "execution_count": 33,
   "id": "eb840a0e",
   "metadata": {},
   "outputs": [],
   "source": [
    "knn = \"5\"\n",
    "gamma = \"2.00\"\n",
    "sigma = \"1.00\"\n",
    "batchs = \"4\"\n",
    "cospca = \"0\"\n",
    "epochs = \"1000\"\n",
    "seed = \"1\""
   ]
  },
  {
   "cell_type": "markdown",
   "id": "e4f769a7",
   "metadata": {},
   "source": [
    "Then, the following command creates a projection of encoded sequences to a Poincaré disk:"
   ]
  },
  {
   "cell_type": "code",
   "execution_count": 34,
   "id": "374820b7",
   "metadata": {},
   "outputs": [
    {
     "name": "stdout",
     "output_type": "stream",
     "text": [
      "python /home/lavande/galochkina/SCIENCE/POINCARE/PoincareMSA/scripts/build_poincare_map/main.py --input_path /home/lavande/galochkina/SCIENCE/POINCARE/PoincareMSA/examples/thioredoxins_test/fasta0.9 --output_path /home/lavande/galochkina/SCIENCE/POINCARE/PoincareMSA/examples/thioredoxins_test/projections/ --gamma 2.00 --pca 0 --epochs 1000 --seed 1\n"
     ]
    },
    {
     "data": {
      "text/plain": [
       "0"
      ]
     },
     "execution_count": 34,
     "metadata": {},
     "output_type": "execute_result"
    }
   ],
   "source": [
    "path_to_build_PM = path_to_PM+\"/scripts/build_poincare_map\"\n",
    "pm_command = \"python \"+path_to_build_PM+\"/main.py --input_path \"+path_out+\"/fasta\"+gapth+\" --output_path \"+path_out+\"/projections/ --gamma \"+gamma+\" --pca \"+ cospca+\" --epochs \"+epochs+\" --seed \"+seed\n",
    "print(pm_command)\n",
    "os.system(pm_command)"
   ]
  },
  {
   "cell_type": "markdown",
   "id": "4f869900",
   "metadata": {},
   "source": [
    "Parameters by default are provided in comments. The output files are then written to the following file:"
   ]
  },
  {
   "cell_type": "code",
   "execution_count": 35,
   "id": "e67e38a7",
   "metadata": {},
   "outputs": [
    {
     "name": "stdout",
     "output_type": "stream",
     "text": [
      "/home/lavande/galochkina/SCIENCE/POINCARE/PoincareMSA/examples/thioredoxins_test/projections/PM5sigma=1.00gamma=2.00cosinepca=0_seed1.csv\n"
     ]
    }
   ],
   "source": [
    "path_embedding = path_out+\"/projections/PM\"+knn+\"sigma=\"+sigma+\"gamma=\"+gamma+\"cosinepca=\"+cospca+\"_seed\"+seed+\".csv\"\n",
    "print(path_embedding)"
   ]
  },
  {
   "cell_type": "markdown",
   "id": "9fc23cb2",
   "metadata": {},
   "source": [
    "## Projection visualization\n",
    "One can visualieze the resulting projection using any convenient coloring. To do so, the user shoud provide a `.csv` file with each line corresponding to a protein:"
   ]
  },
  {
   "cell_type": "code",
   "execution_count": 36,
   "id": "720f6399-e891-4c97-849a-c71bf60dc235",
   "metadata": {},
   "outputs": [
    {
     "data": {
      "text/html": [
       "<div>\n",
       "<style scoped>\n",
       "    .dataframe tbody tr th:only-of-type {\n",
       "        vertical-align: middle;\n",
       "    }\n",
       "\n",
       "    .dataframe tbody tr th {\n",
       "        vertical-align: top;\n",
       "    }\n",
       "\n",
       "    .dataframe thead th {\n",
       "        text-align: right;\n",
       "    }\n",
       "</style>\n",
       "<table border=\"1\" class=\"dataframe\">\n",
       "  <thead>\n",
       "    <tr style=\"text-align: right;\">\n",
       "      <th></th>\n",
       "      <th>Species</th>\n",
       "      <th>Kingdom</th>\n",
       "      <th>Family</th>\n",
       "      <th>Color_eukaryota</th>\n",
       "    </tr>\n",
       "  </thead>\n",
       "  <tbody>\n",
       "    <tr>\n",
       "      <th>0</th>\n",
       "      <td>LBCA</td>\n",
       "      <td>LBCA</td>\n",
       "      <td>LBCA</td>\n",
       "      <td>OTHERS</td>\n",
       "    </tr>\n",
       "    <tr>\n",
       "      <th>1</th>\n",
       "      <td>LACA</td>\n",
       "      <td>LACA</td>\n",
       "      <td>LACA</td>\n",
       "      <td>OTHERS</td>\n",
       "    </tr>\n",
       "    <tr>\n",
       "      <th>2</th>\n",
       "      <td>AECA</td>\n",
       "      <td>AECA</td>\n",
       "      <td>AECA</td>\n",
       "      <td>OTHERS</td>\n",
       "    </tr>\n",
       "    <tr>\n",
       "      <th>3</th>\n",
       "      <td>LGPCA</td>\n",
       "      <td>LGPCA</td>\n",
       "      <td>LGPCA</td>\n",
       "      <td>OTHERS</td>\n",
       "    </tr>\n",
       "    <tr>\n",
       "      <th>4</th>\n",
       "      <td>LECA</td>\n",
       "      <td>LECA</td>\n",
       "      <td>LECA</td>\n",
       "      <td>OTHERS</td>\n",
       "    </tr>\n",
       "    <tr>\n",
       "      <th>...</th>\n",
       "      <td>...</td>\n",
       "      <td>...</td>\n",
       "      <td>...</td>\n",
       "      <td>...</td>\n",
       "    </tr>\n",
       "    <tr>\n",
       "      <th>205</th>\n",
       "      <td>Escherichia</td>\n",
       "      <td>Bacteria</td>\n",
       "      <td>Proteobacteria</td>\n",
       "      <td>OTHERS</td>\n",
       "    </tr>\n",
       "    <tr>\n",
       "      <th>206</th>\n",
       "      <td>Shigella</td>\n",
       "      <td>Bacteria</td>\n",
       "      <td>Proteobacteria</td>\n",
       "      <td>OTHERS</td>\n",
       "    </tr>\n",
       "    <tr>\n",
       "      <th>207</th>\n",
       "      <td>Salmonella</td>\n",
       "      <td>Bacteria</td>\n",
       "      <td>Proteobacteria</td>\n",
       "      <td>OTHERS</td>\n",
       "    </tr>\n",
       "    <tr>\n",
       "      <th>208</th>\n",
       "      <td>Yersinia</td>\n",
       "      <td>Bacteria</td>\n",
       "      <td>Proteobacteria</td>\n",
       "      <td>OTHERS</td>\n",
       "    </tr>\n",
       "    <tr>\n",
       "      <th>209</th>\n",
       "      <td>Vibrio</td>\n",
       "      <td>Bacteria</td>\n",
       "      <td>Proteobacteria</td>\n",
       "      <td>OTHERS</td>\n",
       "    </tr>\n",
       "  </tbody>\n",
       "</table>\n",
       "<p>210 rows × 4 columns</p>\n",
       "</div>"
      ],
      "text/plain": [
       "         Species   Kingdom          Family Color_eukaryota\n",
       "0           LBCA      LBCA            LBCA          OTHERS\n",
       "1           LACA      LACA            LACA          OTHERS\n",
       "2           AECA      AECA            AECA          OTHERS\n",
       "3          LGPCA     LGPCA           LGPCA          OTHERS\n",
       "4           LECA      LECA            LECA          OTHERS\n",
       "..           ...       ...             ...             ...\n",
       "205  Escherichia  Bacteria  Proteobacteria          OTHERS\n",
       "206     Shigella  Bacteria  Proteobacteria          OTHERS\n",
       "207   Salmonella  Bacteria  Proteobacteria          OTHERS\n",
       "208     Yersinia  Bacteria  Proteobacteria          OTHERS\n",
       "209       Vibrio  Bacteria  Proteobacteria          OTHERS\n",
       "\n",
       "[210 rows x 4 columns]"
      ]
     },
     "execution_count": 36,
     "metadata": {},
     "output_type": "execute_result"
    }
   ],
   "source": [
    "path_annotation = path_to_PM+\"/visualization/data/thioredoxin_annotation.csv\" # path to annotation file\n",
    "thx_df = pd.read_csv(path_annotation, index_col = 0)\n",
    "thx_df"
   ]
  },
  {
   "cell_type": "markdown",
   "id": "dac314e3",
   "metadata": {},
   "source": [
    "A user can also create a custom color palette:"
   ]
  },
  {
   "cell_type": "code",
   "execution_count": 24,
   "id": "8af40b85-99bd-4eab-a010-d8f1351cf15b",
   "metadata": {},
   "outputs": [],
   "source": [
    "# construction of palette \n",
    "# class species from thioredoxin annotation file into different kingdom \n",
    "bacteria_specie = [\"Bacteria\", \"LBCA\", \"LGPCA\",  \"LPBCA\", \"Salmonella\", \"Shigella\", \"Escherichia\", \"Acidobacteria\", \"Deinococcus\", \"Thermus\", \n",
    "                    \"Solibacter\", \"Helicobacter\", \"Geobacter\", \"Wolinella\", \"Neisseria\", \"Bordetella\", \"Brucella\", \"Rickettsia\", \"Campylobacter\",\n",
    "                   \"Thiobacillus\", \"Burkholderia\", \"Vibrio\",  \"Desulfovibrio\", \"Bdellovibrio\", \"Yersinia\", \"Agrobacterium\", \"Actinobacteria\", \"Thermobifida\",\n",
    "                   \"Flavobacterium\",\"Geobacterium\", \"Chloroflexus\", \"Aquifex\", \"Enterococcus\",\"Chlamydia\", \"Chlamydophila\", \"Listeria\", \"Lactobacillus\",\n",
    "                   \"Geobacillus\",  \"Chlorobium\",  \"Rhodopirrelula\", \"Clostridium\", \"Hyperthermus\", \"Porphyromonas\", \"Streptomyces\", \n",
    "                   \"Syneschocystis\", \"Nostoc\", \"Thermosynechococus\", \"Prochlorococcus\", \"Nostoc1\", \"Sinorhizobium\", \"Pseudomonas\", \"Bacteroides\", \"Staphylococcus\", \n",
    "                   \"Thermoanaerobacter\",\"Bacillus\", \"Mycobacterium\", \"Streptococcus\", \"Dehalococcoides\", \"Synechocystis\", \"Corynebacterium\", \"Thermosynechococcus\",\n",
    "                   \"Rhodopirellula\"]\n",
    "archae_specie = [\"Archaea\", \"LACA\", \"Aeropyrum\",\"Thermofilum\",\"Caldivirga\",\"Sulfolobus\",\"Haloquadratum\",\"Haloarcula\", \"Thermoplasma\", \"Hyperthermus\",\n",
    "                 \"Natronomonas\",\"Methanocorpusculum\", \"Methanococcus\", \"Halobacterium\", \"Picrophilus\",\"Methanospirillum\",\"Staphylothermus\",\n",
    "                  \"Methanosaeta\", \"Metallosphaera\",\"Methanococcoides\", \"Candidatus\",\"Archaeoglobus\"]\n",
    "\n",
    "eukaryota_animal= [\"Eukaryota\", \"LECA\", \"LAFCA\", \"Ovis\",\"Bos\", \"Mus\",\"Rattus\",\"Rabit\", \"Human\", \"Ponab\",\"Macmu\",\"Ornithorhynchus\",\"Gallus\",\"Equus\",\n",
    "                    \"Theileria\",\"Danio\",\"Tetraodon\",\"Xenopus\",\"Ictalurus\",\"Ophiophagus\",\"Callithrix\",\"Monodelphis\",\"Geocy\",\"Sus\",\"Melopsittacus\", # animal\n",
    "                    \"Monosiga\", # choanoflagellata\n",
    "                    \"Graphocephala\", \"Tribolium\", \"Apis\", \"Bombyx\",\"Litopenaeus\",\"Drosophila\", # insecta\n",
    "                    \"Entamoeba\", \"Plasmodium\",\"Cryptosporidium\", \"Dictyostelium\"  # unicellular parasite\n",
    "                  ]\n",
    "                                       \n",
    "eukaryota_viridiplantae = [\"Helicosporidium\", \"Ostreococcus\", \"Fagopyrum\"]\n",
    "eukaryota_mitochondrion = [\"Bovin Mitochondrio\", \"Homo Mitochondrion\",  \"Rattus Mitochondrio\", \"Mus Mitochondrion\"] \n",
    "eukaryota_chloroplast = [\"Brana Chloroplast\", \"Pisum Chloroplast\",  \"Wheat Chloroplast\", \"Pea Chloroplast\", \"Spiol Chloroplast\", \"Arabidopsis\"] \n",
    "eukaryota_fungi = [\"Pichia\", \"Candida\", \"Aspergillus\", \"Kluyveromyces\", \"Saccharomyces\",\"Schizosaccharomyces\",\"Neosartorya\"] \n",
    "\n",
    "\n",
    "# construction of palette \n",
    "trx_palette = {\"OTHERS\" : \"#c7c7c7\", \"EUKARYOTA\" : \"#31955d\", \"CHLOROPLAST\" : \"#06f9d4\", \"MITOCHONDRION\" : \"#3ff100\" , \"root\": \"#000000\", \"AECA\" : \"#e7e53c\",\n",
    "               \"Zea\": \"#c7c7c7\", \"Vitis\":\"#c7c7c7\", \"Limonium\": \"#c7c7c7\"} \n",
    "trx_palette.update(dict.fromkeys(eukaryota_animal,\"#21e548\"))\n",
    "trx_palette.update(dict.fromkeys(eukaryota_viridiplantae,\"#b5e521\"))\n",
    "trx_palette.update(dict.fromkeys(eukaryota_mitochondrion, \"#61ff06\"))\n",
    "trx_palette.update(dict.fromkeys(eukaryota_chloroplast,\"#06f9d4\"))\n",
    "trx_palette.update(dict.fromkeys(eukaryota_fungi,\"#1fb995\"))\n",
    "trx_palette.update(dict.fromkeys(bacteria_specie,\"#34b8e7\"))\n",
    "trx_palette.update(dict.fromkeys(archae_specie, \"#ff0000\"))"
   ]
  },
  {
   "cell_type": "code",
   "execution_count": 37,
   "id": "86e3864d-862c-40b6-ad8c-adfa4af931e4",
   "metadata": {
    "jupyter": {
     "outputs_hidden": true
    },
    "tags": []
   },
   "outputs": [
    {
     "name": "stdout",
     "output_type": "stream",
     "text": [
      "result:                    pm1       pm2  Unnamed: 0      Species   Kingdom  \\\n",
      "proteins_id                                                          \n",
      "1            0.183893  0.108609           0         LBCA      LBCA   \n",
      "2            0.111038 -0.141715           1         LACA      LACA   \n",
      "3            0.050593 -0.098363           2         AECA      AECA   \n",
      "4            0.313914  0.437660           3        LGPCA     LGPCA   \n",
      "5           -0.633037 -0.001717           4         LECA      LECA   \n",
      "...               ...       ...         ...          ...       ...   \n",
      "206          0.868353 -0.141709         205  Escherichia  Bacteria   \n",
      "207          0.860335 -0.148330         206     Shigella  Bacteria   \n",
      "208          0.847628 -0.142849         207   Salmonella  Bacteria   \n",
      "209          0.865296 -0.160147         208     Yersinia  Bacteria   \n",
      "210          0.859967 -0.116851         209       Vibrio  Bacteria   \n",
      "\n",
      "                     Family Color_eukaryota  \n",
      "proteins_id                                  \n",
      "1                      LBCA          OTHERS  \n",
      "2                      LACA          OTHERS  \n",
      "3                      AECA          OTHERS  \n",
      "4                     LGPCA          OTHERS  \n",
      "5                      LECA          OTHERS  \n",
      "...                     ...             ...  \n",
      "206          Proteobacteria          OTHERS  \n",
      "207          Proteobacteria          OTHERS  \n",
      "208          Proteobacteria          OTHERS  \n",
      "209          Proteobacteria          OTHERS  \n",
      "210          Proteobacteria          OTHERS  \n",
      "\n",
      "[210 rows x 7 columns]\n"
     ]
    }
   ],
   "source": [
    "#path_embedding = os.getcwd() + \"/data/kinases_out0.9/batchsize4_epochs1000/PM5sigma=1.00gamma=3.00cosinepca=0_seed0.csv\" \n",
    "#path_annotation = os.getcwd() + \"/data/kinase_group_new.csv\"\n",
    "df = read_embeddings(path_embedding, path_annotation, withroot=False)"
   ]
  },
  {
   "cell_type": "markdown",
   "id": "63ca5252",
   "metadata": {},
   "source": [
    "Here follow several examples of kinase family visualization."
   ]
  },
  {
   "cell_type": "markdown",
   "id": "c3e370aa-2e71-4578-beb8-c99b18e50166",
   "metadata": {},
   "source": [
    "# Thioredoxins by kingdom"
   ]
  },
  {
   "cell_type": "code",
   "execution_count": 38,
   "id": "b1055ecc-099f-4050-b0f9-c586377e6b85",
   "metadata": {},
   "outputs": [
    {
     "name": "stdout",
     "output_type": "stream",
     "text": [
      "Index(['Unnamed: 0', 'Species', 'Kingdom', 'Family', 'Color_eukaryota'], dtype='object')\n"
     ]
    },
    {
     "data": {
      "application/vnd.plotly.v1+json": {
       "config": {
        "plotlyServerURL": "https://plot.ly"
       },
       "data": [
        {
         "customdata": [
          [
           0,
           "LBCA",
           "LBCA",
           "LBCA",
           "OTHERS"
          ]
         ],
         "hovertemplate": "<b>%{hovertext}</b><br><br>Kingdom=%{customdata[2]}<br>pm1=%{x}<br>pm2=%{y}<br>Unnamed: 0=%{customdata[0]}<br>Species=%{customdata[1]}<br>Family=%{customdata[3]}<br>Color_eukaryota=%{customdata[4]}<extra></extra>",
         "hovertext": [
          "LBCA"
         ],
         "legendgroup": "LBCA",
         "marker": {
          "color": "#34b8e7",
          "symbol": "circle"
         },
         "mode": "markers",
         "name": "LBCA",
         "orientation": "v",
         "showlegend": true,
         "textposition": "top right",
         "type": "scatter",
         "x": [
          0.18389252
         ],
         "xaxis": "x",
         "y": [
          0.108608946
         ],
         "yaxis": "y"
        },
        {
         "customdata": [
          [
           1,
           "LACA",
           "LACA",
           "LACA",
           "OTHERS"
          ]
         ],
         "hovertemplate": "<b>%{hovertext}</b><br><br>Kingdom=%{customdata[2]}<br>pm1=%{x}<br>pm2=%{y}<br>Unnamed: 0=%{customdata[0]}<br>Species=%{customdata[1]}<br>Family=%{customdata[3]}<br>Color_eukaryota=%{customdata[4]}<extra></extra>",
         "hovertext": [
          "LACA"
         ],
         "legendgroup": "LACA",
         "marker": {
          "color": "#ff0000",
          "symbol": "circle"
         },
         "mode": "markers",
         "name": "LACA",
         "orientation": "v",
         "showlegend": true,
         "textposition": "top right",
         "type": "scatter",
         "x": [
          0.111037545
         ],
         "xaxis": "x",
         "y": [
          -0.1417153
         ],
         "yaxis": "y"
        },
        {
         "customdata": [
          [
           2,
           "AECA",
           "AECA",
           "AECA",
           "OTHERS"
          ]
         ],
         "hovertemplate": "<b>%{hovertext}</b><br><br>Kingdom=%{customdata[2]}<br>pm1=%{x}<br>pm2=%{y}<br>Unnamed: 0=%{customdata[0]}<br>Species=%{customdata[1]}<br>Family=%{customdata[3]}<br>Color_eukaryota=%{customdata[4]}<extra></extra>",
         "hovertext": [
          "AECA"
         ],
         "legendgroup": "AECA",
         "marker": {
          "color": "#e7e53c",
          "symbol": "circle"
         },
         "mode": "markers",
         "name": "AECA",
         "orientation": "v",
         "showlegend": true,
         "textposition": "top right",
         "type": "scatter",
         "x": [
          0.050592925
         ],
         "xaxis": "x",
         "y": [
          -0.098363124
         ],
         "yaxis": "y"
        },
        {
         "customdata": [
          [
           3,
           "LGPCA",
           "LGPCA",
           "LGPCA",
           "OTHERS"
          ]
         ],
         "hovertemplate": "<b>%{hovertext}</b><br><br>Kingdom=%{customdata[2]}<br>pm1=%{x}<br>pm2=%{y}<br>Unnamed: 0=%{customdata[0]}<br>Species=%{customdata[1]}<br>Family=%{customdata[3]}<br>Color_eukaryota=%{customdata[4]}<extra></extra>",
         "hovertext": [
          "LGPCA"
         ],
         "legendgroup": "LGPCA",
         "marker": {
          "color": "#34b8e7",
          "symbol": "circle"
         },
         "mode": "markers",
         "name": "LGPCA",
         "orientation": "v",
         "showlegend": true,
         "textposition": "top right",
         "type": "scatter",
         "x": [
          0.313914
         ],
         "xaxis": "x",
         "y": [
          0.43765968
         ],
         "yaxis": "y"
        },
        {
         "customdata": [
          [
           4,
           "LECA",
           "LECA",
           "LECA",
           "OTHERS"
          ]
         ],
         "hovertemplate": "<b>%{hovertext}</b><br><br>Kingdom=%{customdata[2]}<br>pm1=%{x}<br>pm2=%{y}<br>Unnamed: 0=%{customdata[0]}<br>Species=%{customdata[1]}<br>Family=%{customdata[3]}<br>Color_eukaryota=%{customdata[4]}<extra></extra>",
         "hovertext": [
          "LECA"
         ],
         "legendgroup": "LECA",
         "marker": {
          "color": "#21e548",
          "symbol": "circle"
         },
         "mode": "markers",
         "name": "LECA",
         "orientation": "v",
         "showlegend": true,
         "textposition": "top right",
         "type": "scatter",
         "x": [
          -0.63303715
         ],
         "xaxis": "x",
         "y": [
          -0.0017171632
         ],
         "yaxis": "y"
        },
        {
         "customdata": [
          [
           5,
           "LPBCA",
           "LPBCA",
           "LPBCA",
           "OTHERS"
          ]
         ],
         "hovertemplate": "<b>%{hovertext}</b><br><br>Kingdom=%{customdata[2]}<br>pm1=%{x}<br>pm2=%{y}<br>Unnamed: 0=%{customdata[0]}<br>Species=%{customdata[1]}<br>Family=%{customdata[3]}<br>Color_eukaryota=%{customdata[4]}<extra></extra>",
         "hovertext": [
          "LPBCA"
         ],
         "legendgroup": "LPBCA",
         "marker": {
          "color": "#34b8e7",
          "symbol": "circle"
         },
         "mode": "markers",
         "name": "LPBCA",
         "orientation": "v",
         "showlegend": true,
         "textposition": "top right",
         "type": "scatter",
         "x": [
          0.30017877
         ],
         "xaxis": "x",
         "y": [
          0.15301032
         ],
         "yaxis": "y"
        },
        {
         "customdata": [
          [
           6,
           "LAFCA",
           "LAFCA",
           "LAFCA",
           "OTHERS"
          ]
         ],
         "hovertemplate": "<b>%{hovertext}</b><br><br>Kingdom=%{customdata[2]}<br>pm1=%{x}<br>pm2=%{y}<br>Unnamed: 0=%{customdata[0]}<br>Species=%{customdata[1]}<br>Family=%{customdata[3]}<br>Color_eukaryota=%{customdata[4]}<extra></extra>",
         "hovertext": [
          "LAFCA"
         ],
         "legendgroup": "LAFCA",
         "marker": {
          "color": "#21e548",
          "symbol": "circle"
         },
         "mode": "markers",
         "name": "LAFCA",
         "orientation": "v",
         "showlegend": true,
         "textposition": "top right",
         "type": "scatter",
         "x": [
          -0.6711158
         ],
         "xaxis": "x",
         "y": [
          -0.028322173
         ],
         "yaxis": "y"
        },
        {
         "customdata": [
          [
           7,
           "Ovis",
           "Eukaryota",
           "Metazoa",
           "EUKARYOTA"
          ],
          [
           8,
           "Bos",
           "Eukaryota",
           "Metazoa",
           "EUKARYOTA"
          ],
          [
           9,
           "Sus",
           "Eukaryota",
           "Metazoa",
           "EUKARYOTA"
          ],
          [
           10,
           "Equus",
           "Eukaryota",
           "Metazoa",
           "EUKARYOTA"
          ],
          [
           11,
           "Mus",
           "Eukaryota",
           "Metazoa",
           "EUKARYOTA"
          ],
          [
           12,
           "Rattus",
           "Eukaryota",
           "Metazoa",
           "EUKARYOTA"
          ],
          [
           13,
           "Rabit",
           "Eukaryota",
           "Metazoa",
           "EUKARYOTA"
          ],
          [
           14,
           "Human",
           "Eukaryota",
           "Metazoa",
           "EUKARYOTA"
          ],
          [
           15,
           "Ponab",
           "Eukaryota",
           "Metazoa",
           "EUKARYOTA"
          ],
          [
           16,
           "Macmu",
           "Eukaryota",
           "Metazoa",
           "EUKARYOTA"
          ],
          [
           17,
           "Callithrix",
           "Eukaryota",
           "Metazoa",
           "EUKARYOTA"
          ],
          [
           18,
           "Monodelphis",
           "Eukaryota",
           "Metazoa",
           "EUKARYOTA"
          ],
          [
           19,
           "Ornithorhynchus",
           "Eukaryota",
           "Metazoa",
           "EUKARYOTA"
          ],
          [
           20,
           "Gallus",
           "Eukaryota",
           "Metazoa",
           "EUKARYOTA"
          ],
          [
           21,
           "Melopsittacus",
           "Eukaryota",
           "Metazoa",
           "EUKARYOTA"
          ],
          [
           22,
           "Ophiophagus",
           "Eukaryota",
           "Metazoa",
           "EUKARYOTA"
          ],
          [
           23,
           "Xenopus",
           "Eukaryota",
           "Metazoa",
           "EUKARYOTA"
          ],
          [
           24,
           "Tetraodon",
           "Eukaryota",
           "Metazoa",
           "EUKARYOTA"
          ],
          [
           25,
           "Ictalurus",
           "Eukaryota",
           "Metazoa",
           "EUKARYOTA"
          ],
          [
           26,
           "Danio",
           "Eukaryota",
           "Metazoa",
           "EUKARYOTA"
          ],
          [
           27,
           "Drosophila",
           "Eukaryota",
           "Metazoa",
           "EUKARYOTA"
          ],
          [
           28,
           "Drosophila",
           "Eukaryota",
           "Metazoa",
           "EUKARYOTA"
          ],
          [
           29,
           "Drosophila",
           "Eukaryota",
           "Metazoa",
           "EUKARYOTA"
          ],
          [
           30,
           "Apis",
           "Eukaryota",
           "Metazoa",
           "EUKARYOTA"
          ],
          [
           31,
           "Tribolium",
           "Eukaryota",
           "Metazoa",
           "EUKARYOTA"
          ],
          [
           32,
           "Bombyx",
           "Eukaryota",
           "Metazoa",
           "EUKARYOTA"
          ],
          [
           33,
           "Graphocephala",
           "Eukaryota",
           "Metazoa",
           "EUKARYOTA"
          ],
          [
           34,
           "Litopenaeus",
           "Eukaryota",
           "Metazoa",
           "EUKARYOTA"
          ],
          [
           35,
           "Geocy",
           "Eukaryota",
           "Metazoa",
           "EUKARYOTA"
          ],
          [
           36,
           "Aspergillus",
           "Eukaryota",
           "Fungi",
           "EUKARYOTA"
          ],
          [
           37,
           "Neosartorya",
           "Eukaryota",
           "Fungi",
           "EUKARYOTA"
          ],
          [
           38,
           "Aspergillus",
           "Eukaryota",
           "Fungi",
           "EUKARYOTA"
          ],
          [
           39,
           "Aspergillus",
           "Eukaryota",
           "Fungi",
           "EUKARYOTA"
          ],
          [
           40,
           "Pichia",
           "Eukaryota",
           "Fungi",
           "EUKARYOTA"
          ],
          [
           41,
           "Candida",
           "Eukaryota",
           "Fungi",
           "EUKARYOTA"
          ],
          [
           42,
           "Pichia",
           "Eukaryota",
           "Fungi",
           "EUKARYOTA"
          ],
          [
           43,
           "Kluyveromyces",
           "Eukaryota",
           "Fungi",
           "EUKARYOTA"
          ],
          [
           44,
           "Saccharomyces",
           "Eukaryota",
           "Fungi",
           "EUKARYOTA"
          ],
          [
           45,
           "Candida",
           "Eukaryota",
           "Fungi",
           "EUKARYOTA"
          ],
          [
           46,
           "Saccharomyces",
           "Eukaryota",
           "Fungi",
           "EUKARYOTA"
          ],
          [
           47,
           "Schizosaccharomyces",
           "Eukaryota",
           "Fungi",
           "EUKARYOTA"
          ],
          [
           48,
           "Monosiga",
           "Eukaryota",
           "Choanoflagellata",
           "EUKARYOTA"
          ],
          [
           49,
           "Entamoeba",
           "Eukaryota",
           "Amoebozoa",
           "EUKARYOTA"
          ],
          [
           50,
           "Dictyostelium",
           "Eukaryota",
           "Amoebozoa",
           "EUKARYOTA"
          ],
          [
           51,
           "Arabidopsis",
           "Eukaryota",
           "Viridiplantae",
           "EUKARYOTA"
          ],
          [
           52,
           "Arabidopsis",
           "Eukaryota",
           "Viridiplantae",
           "EUKARYOTA"
          ],
          [
           53,
           "Limonium",
           "Eukaryota",
           "Viridiplantae",
           "EUKARYOTA"
          ],
          [
           54,
           "Zea",
           "Eukaryota",
           "Viridiplantae",
           "EUKARYOTA"
          ],
          [
           55,
           "Vitis",
           "Eukaryota",
           "Viridiplantae",
           "EUKARYOTA"
          ],
          [
           56,
           "Ostreococcus",
           "Eukaryota",
           "Viridiplantae",
           "EUKARYOTA"
          ],
          [
           57,
           "Helicosporidium",
           "Eukaryota",
           "Viridiplantae",
           "EUKARYOTA"
          ],
          [
           58,
           "Fagopyrum",
           "Eukaryota",
           "Viridiplantae",
           "EUKARYOTA"
          ],
          [
           59,
           "Cryptosporidium",
           "Eukaryota",
           "Alveolata",
           "EUKARYOTA"
          ],
          [
           60,
           "Theileria",
           "Eukaryota",
           "Sar",
           "EUKARYOTA"
          ],
          [
           61,
           "Plasmodium",
           "Eukaryota",
           "Alveolata",
           "EUKARYOTA"
          ],
          [
           154,
           "Pea Chloroplast",
           "Eukaryota",
           "Viridiplantae",
           "CHLOROPLAST"
          ],
          [
           155,
           "Spiol Chloroplast",
           "Eukaryota",
           "Viridiplantae",
           "CHLOROPLAST"
          ],
          [
           156,
           "Wheat Chloroplast",
           "Eukaryota",
           "Viridiplantae",
           "CHLOROPLAST"
          ],
          [
           157,
           "Pisum Chloroplast",
           "Eukaryota",
           "Viridiplantae",
           "CHLOROPLAST"
          ],
          [
           158,
           "Brana Chloroplast",
           "Eukaryota",
           "Viridiplantae",
           "CHLOROPLAST"
          ],
          [
           186,
           "Bovin Mitochondrio",
           "Eukaryota",
           "Metazoa",
           "MITOCHONDRION"
          ],
          [
           187,
           "Equus",
           "Eukaryota",
           "Metazoa",
           "EUKARYOTA"
          ],
          [
           188,
           "Homo Mitochondrion",
           "Eukaryota",
           "Metazoa",
           "MITOCHONDRION"
          ],
          [
           189,
           "Rattus Mitochondrio",
           "Eukaryota",
           "Metazoa",
           "MITOCHONDRION"
          ],
          [
           190,
           "Mus Mitochondrion",
           "Eukaryota",
           "Metazoa",
           "MITOCHONDRION"
          ]
         ],
         "hovertemplate": "<b>%{hovertext}</b><br><br>Kingdom=%{customdata[2]}<br>pm1=%{x}<br>pm2=%{y}<br>Unnamed: 0=%{customdata[0]}<br>Species=%{customdata[1]}<br>Family=%{customdata[3]}<br>Color_eukaryota=%{customdata[4]}<extra></extra>",
         "hovertext": [
          "Eukaryota",
          "Eukaryota",
          "Eukaryota",
          "Eukaryota",
          "Eukaryota",
          "Eukaryota",
          "Eukaryota",
          "Eukaryota",
          "Eukaryota",
          "Eukaryota",
          "Eukaryota",
          "Eukaryota",
          "Eukaryota",
          "Eukaryota",
          "Eukaryota",
          "Eukaryota",
          "Eukaryota",
          "Eukaryota",
          "Eukaryota",
          "Eukaryota",
          "Eukaryota",
          "Eukaryota",
          "Eukaryota",
          "Eukaryota",
          "Eukaryota",
          "Eukaryota",
          "Eukaryota",
          "Eukaryota",
          "Eukaryota",
          "Eukaryota",
          "Eukaryota",
          "Eukaryota",
          "Eukaryota",
          "Eukaryota",
          "Eukaryota",
          "Eukaryota",
          "Eukaryota",
          "Eukaryota",
          "Eukaryota",
          "Eukaryota",
          "Eukaryota",
          "Eukaryota",
          "Eukaryota",
          "Eukaryota",
          "Eukaryota",
          "Eukaryota",
          "Eukaryota",
          "Eukaryota",
          "Eukaryota",
          "Eukaryota",
          "Eukaryota",
          "Eukaryota",
          "Eukaryota",
          "Eukaryota",
          "Eukaryota",
          "Eukaryota",
          "Eukaryota",
          "Eukaryota",
          "Eukaryota",
          "Eukaryota",
          "Eukaryota",
          "Eukaryota",
          "Eukaryota",
          "Eukaryota",
          "Eukaryota"
         ],
         "legendgroup": "Eukaryota",
         "marker": {
          "color": "#21e548",
          "symbol": "circle"
         },
         "mode": "markers",
         "name": "Eukaryota",
         "orientation": "v",
         "showlegend": true,
         "textposition": "top right",
         "type": "scatter",
         "x": [
          -0.84257185,
          -0.85646325,
          -0.84598905,
          -0.81090814,
          -0.81464094,
          -0.812737,
          -0.8607577,
          -0.8415084,
          -0.83648366,
          -0.82155627,
          -0.8227882,
          0.7402804,
          -0.7869309,
          -0.84328246,
          -0.8308515,
          -0.82625085,
          -0.7864245,
          -0.74686414,
          -0.7774597,
          -0.7198608,
          -0.75331324,
          -0.748439,
          -0.7313381,
          -0.74180365,
          -0.73487693,
          -0.7247355,
          -0.7247921,
          -0.7117707,
          -0.6954949,
          -0.6810791,
          -0.7521039,
          -0.73197603,
          -0.73390985,
          -0.57037693,
          -0.62652355,
          -0.66944695,
          -0.615969,
          -0.6591339,
          -0.60802054,
          -0.6525111,
          -0.7071143,
          -0.6314559,
          -0.756797,
          -0.7026959,
          0.86114365,
          0.84289294,
          0.86750895,
          0.8898363,
          0.874268,
          -0.71635604,
          -0.7375467,
          -0.6551419,
          -0.6249803,
          -0.81088555,
          -0.731728,
          0.8524639,
          0.88229173,
          0.87905174,
          0.86051095,
          0.87869513,
          0.7762942,
          0.76819754,
          0.7598772,
          0.76795524,
          0.7531102
         ],
         "xaxis": "x",
         "y": [
          -0.07941825,
          -0.05296301,
          -0.0579008,
          -0.08104239,
          -0.029657762,
          -0.037687875,
          -0.019577218,
          -0.04593345,
          -0.019532587,
          -0.061917007,
          -0.04019381,
          -0.49634287,
          -0.0936573,
          -0.122904055,
          -0.12267471,
          -0.1080902,
          -0.15429442,
          -0.15780155,
          -0.18446364,
          -0.15570429,
          -0.5310014,
          -0.5475899,
          -0.5524903,
          -0.5190686,
          -0.5304727,
          -0.53849876,
          -0.49430734,
          -0.5291109,
          -0.2996023,
          0.11914146,
          0.16425893,
          0.19756268,
          0.21699464,
          -0.13791098,
          0.2946659,
          0.19888036,
          0.23958886,
          0.29400313,
          0.26075897,
          0.25796384,
          0.16122662,
          -0.0709549,
          -0.19151846,
          -0.113642864,
          0.20506479,
          0.2193647,
          0.24155946,
          0.26888776,
          0.26825014,
          -0.026540766,
          -0.07159258,
          0.062075492,
          0.21035507,
          0.0577559,
          0.076384,
          0.27847457,
          0.250263,
          0.2813189,
          0.25488907,
          0.22154756,
          -0.50750846,
          -0.49516883,
          -0.50699115,
          -0.5201371,
          -0.5204549
         ],
         "yaxis": "y"
        },
        {
         "customdata": [
          [
           62,
           "Archaeoglobus",
           "Archaea",
           "Euryarchaeota",
           "OTHERS"
          ],
          [
           63,
           "Methanosaeta",
           "Archaea",
           "Euryarchaeota",
           "OTHERS"
          ],
          [
           64,
           "Methanococcoides",
           "Archaea",
           "Euryarchaeota",
           "OTHERS"
          ],
          [
           65,
           "Candidatus",
           "Archaea",
           "Euryarchaeota",
           "OTHERS"
          ],
          [
           66,
           "Methanospirillum",
           "Archaea",
           "Euryarchaeota",
           "OTHERS"
          ],
          [
           67,
           "Picrophilus",
           "Archaea",
           "Euryarchaeota",
           "OTHERS"
          ],
          [
           68,
           "Methanococcus",
           "Archaea",
           "Euryarchaeota",
           "OTHERS"
          ],
          [
           69,
           "Methanocorpusculum",
           "Archaea",
           "Euryarchaeota",
           "OTHERS"
          ],
          [
           70,
           "Methanosaeta",
           "Archaea",
           "Euryarchaeota",
           "OTHERS"
          ],
          [
           71,
           "Natronomonas",
           "Archaea",
           "Euryarchaeota",
           "OTHERS"
          ],
          [
           72,
           "Haloquadratum",
           "Archaea",
           "Euryarchaeota",
           "OTHERS"
          ],
          [
           73,
           "Haloarcula",
           "Archaea",
           "Euryarchaeota",
           "OTHERS"
          ],
          [
           74,
           "Natronomonas",
           "Archaea",
           "Euryarchaeota",
           "OTHERS"
          ],
          [
           75,
           "Halobacterium",
           "Archaea",
           "Euryarchaeota",
           "OTHERS"
          ],
          [
           76,
           "Archaeoglobus",
           "Archaea",
           "Euryarchaeota",
           "OTHERS"
          ],
          [
           77,
           "Thermoplasma",
           "Archaea",
           "Euryarchaeota",
           "OTHERS"
          ],
          [
           78,
           "Thermofilum",
           "Archaea",
           "Crenarchaeota",
           "OTHERS"
          ],
          [
           79,
           "Caldivirga",
           "Archaea",
           "Crenarchaeota",
           "OTHERS"
          ],
          [
           80,
           "Sulfolobus",
           "Archaea",
           "Crenarchaeota",
           "OTHERS"
          ],
          [
           81,
           "Sulfolobus",
           "Archaea",
           "Crenarchaeota",
           "OTHERS"
          ],
          [
           82,
           "Sulfolobus",
           "Archaea",
           "Crenarchaeota",
           "OTHERS"
          ],
          [
           83,
           "Hyperthermus",
           "Archaea",
           "Crenarchaeota",
           "OTHERS"
          ],
          [
           84,
           "Aeropyrum",
           "Archaea",
           "Crenarchaeota",
           "OTHERS"
          ],
          [
           85,
           "Metallosphaera",
           "Archaea",
           "Crenarchaeota",
           "OTHERS"
          ],
          [
           86,
           "Sulfolobus",
           "Archaea",
           "Crenarchaeota",
           "OTHERS"
          ],
          [
           87,
           "Sulfolobus",
           "Archaea",
           "Crenarchaeota",
           "OTHERS"
          ],
          [
           88,
           "Staphylothermus",
           "Archaea",
           "Crenarchaeota",
           "OTHERS"
          ],
          [
           89,
           "Aeropyrum",
           "Archaea",
           "Crenarchaeota",
           "OTHERS"
          ]
         ],
         "hovertemplate": "<b>%{hovertext}</b><br><br>Kingdom=%{customdata[2]}<br>pm1=%{x}<br>pm2=%{y}<br>Unnamed: 0=%{customdata[0]}<br>Species=%{customdata[1]}<br>Family=%{customdata[3]}<br>Color_eukaryota=%{customdata[4]}<extra></extra>",
         "hovertext": [
          "Archaea",
          "Archaea",
          "Archaea",
          "Archaea",
          "Archaea",
          "Archaea",
          "Archaea",
          "Archaea",
          "Archaea",
          "Archaea",
          "Archaea",
          "Archaea",
          "Archaea",
          "Archaea",
          "Archaea",
          "Archaea",
          "Archaea",
          "Archaea",
          "Archaea",
          "Archaea",
          "Archaea",
          "Archaea",
          "Archaea",
          "Archaea",
          "Archaea",
          "Archaea",
          "Archaea",
          "Archaea"
         ],
         "legendgroup": "Archaea",
         "marker": {
          "color": "#ff0000",
          "symbol": "circle"
         },
         "mode": "markers",
         "name": "Archaea",
         "orientation": "v",
         "showlegend": true,
         "textposition": "top right",
         "type": "scatter",
         "x": [
          0.20612599,
          0.1019516,
          0.03265355,
          0.17626055,
          0.17642745,
          -0.053208943,
          -0.06653563,
          0.327191,
          0.37916875,
          -0.08388916,
          -0.089336336,
          -0.09375717,
          -0.040630043,
          -0.07796227,
          0.116339475,
          0.08195666,
          0.26498067,
          0.01931581,
          -0.04182314,
          -0.03586334,
          -0.041493356,
          0.15418682,
          0.16320363,
          0.19525325,
          0.15933071,
          0.17678572,
          0.22604832,
          0.2932314
         ],
         "xaxis": "x",
         "y": [
          -0.008712659,
          -0.18376373,
          -0.2033935,
          -0.09225356,
          -0.09174974,
          -0.3469995,
          0.21421278,
          0.046584513,
          0.08937337,
          0.7302229,
          0.74159443,
          0.7322303,
          0.7244389,
          0.736704,
          -0.0476018,
          0.042008072,
          -0.08041127,
          -0.35878596,
          -0.34749103,
          -0.3330807,
          -0.34721553,
          -0.34671915,
          -0.3447164,
          -0.3226127,
          -0.2983674,
          -0.3205516,
          -0.3818146,
          -0.32630885
         ],
         "yaxis": "y"
        },
        {
         "customdata": [
          [
           90,
           "Clostridium",
           "Bacteria",
           "Firmicutes",
           "OTHERS"
          ],
          [
           91,
           "Thermoanaerobacter",
           "Bacteria",
           "Firmicutes",
           "OTHERS"
          ],
          [
           92,
           "Bacillus",
           "Bacteria",
           "Firmicutes",
           "OTHERS"
          ],
          [
           93,
           "Bacillus",
           "Bacteria",
           "Firmicutes",
           "OTHERS"
          ],
          [
           94,
           "Streptococcus",
           "Bacteria",
           "Firmicutes",
           "OTHERS"
          ],
          [
           95,
           "Enterococcus",
           "Bacteria",
           "Firmicutes",
           "OTHERS"
          ],
          [
           96,
           "Listeria",
           "Bacteria",
           "Firmicutes",
           "OTHERS"
          ],
          [
           97,
           "Lactobacillus",
           "Bacteria",
           "Firmicutes",
           "OTHERS"
          ],
          [
           98,
           "Lactobacillus",
           "Bacteria",
           "Firmicutes",
           "OTHERS"
          ],
          [
           99,
           "Staphylococcus",
           "Bacteria",
           "Firmicutes",
           "OTHERS"
          ],
          [
           100,
           "Geobacillus",
           "Bacteria",
           "Firmicutes",
           "OTHERS"
          ],
          [
           101,
           "Bacillus",
           "Bacteria",
           "Firmicutes",
           "OTHERS"
          ],
          [
           102,
           "Bacillus",
           "Bacteria",
           "Firmicutes",
           "OTHERS"
          ],
          [
           103,
           "Lactobacillus",
           "Bacteria",
           "Firmicutes",
           "OTHERS"
          ],
          [
           104,
           "Listeria",
           "Bacteria",
           "Firmicutes",
           "OTHERS"
          ],
          [
           105,
           "Enterococcus",
           "Bacteria",
           "Firmicutes",
           "OTHERS"
          ],
          [
           106,
           "Streptococcus",
           "Bacteria",
           "Firmicutes",
           "OTHERS"
          ],
          [
           107,
           "Clostridium",
           "Bacteria",
           "Firmicutes",
           "OTHERS"
          ],
          [
           108,
           "Clostridium",
           "Bacteria",
           "Firmicutes",
           "OTHERS"
          ],
          [
           109,
           "Clostridium",
           "Bacteria",
           "Firmicutes",
           "OTHERS"
          ],
          [
           110,
           "Clostridium",
           "Bacteria",
           "Firmicutes",
           "OTHERS"
          ],
          [
           111,
           "Thermoanaerobacter",
           "Bacteria",
           "Firmicutes",
           "OTHERS"
          ],
          [
           112,
           "Chlamydia",
           "Bacteria",
           "Chlamydiae",
           "OTHERS"
          ],
          [
           113,
           "Chlamydophila",
           "Bacteria",
           "Chlamydiae",
           "OTHERS"
          ],
          [
           114,
           "Chlorobium",
           "Bacteria",
           "Chlorobi",
           "OTHERS"
          ],
          [
           115,
           "Chlorobium",
           "Bacteria",
           "Chlorobi",
           "OTHERS"
          ],
          [
           116,
           "Bacteroides",
           "Bacteria",
           "Bacteroidetes",
           "OTHERS"
          ],
          [
           117,
           "Flavobacterium",
           "Bacteria",
           "Bacteroidetes",
           "OTHERS"
          ],
          [
           118,
           "Porphyromonas",
           "Bacteria",
           "Bacteroidetes",
           "OTHERS"
          ],
          [
           119,
           "Bacteroides",
           "Bacteria",
           "Bacteroidetes",
           "OTHERS"
          ],
          [
           120,
           "Bacteroides",
           "Bacteria",
           "Bacteroidetes",
           "OTHERS"
          ],
          [
           121,
           "Porphyromonas",
           "Bacteria",
           "Bacteroidetes",
           "OTHERS"
          ],
          [
           122,
           "Bacteroides",
           "Bacteria",
           "Bacteroidetes",
           "OTHERS"
          ],
          [
           123,
           "Bacteroides",
           "Bacteria",
           "Bacteroidetes",
           "OTHERS"
          ],
          [
           124,
           "Rhodopirellula",
           "Bacteria",
           "Planctomycetes",
           "OTHERS"
          ],
          [
           125,
           "Rhodopirellula",
           "Bacteria",
           "Planctomycetes",
           "OTHERS"
          ],
          [
           126,
           "Mycobacterium",
           "Bacteria",
           "Actinobacteria",
           "OTHERS"
          ],
          [
           127,
           "Mycobacterium",
           "Bacteria",
           "Actinobacteria",
           "OTHERS"
          ],
          [
           128,
           "Corynebacterium",
           "Bacteria",
           "Actinobacteria",
           "OTHERS"
          ],
          [
           129,
           "Thermobifida",
           "Bacteria",
           "Actinobacteria",
           "OTHERS"
          ],
          [
           130,
           "Streptomyces",
           "Bacteria",
           "Actinobacteria",
           "OTHERS"
          ],
          [
           131,
           "Thermobifida",
           "Bacteria",
           "Actinobacteria",
           "OTHERS"
          ],
          [
           132,
           "Mycobacterium",
           "Bacteria",
           "Actinobacteria",
           "OTHERS"
          ],
          [
           133,
           "Streptomyces",
           "Bacteria",
           "Actinobacteria",
           "OTHERS"
          ],
          [
           134,
           "Corynebacterium",
           "Bacteria",
           "Actinobacteria",
           "OTHERS"
          ],
          [
           135,
           "Streptomyces",
           "Bacteria",
           "Actinobacteria",
           "OTHERS"
          ],
          [
           136,
           "Mycobacterium",
           "Bacteria",
           "Actinobacteria",
           "OTHERS"
          ],
          [
           137,
           "Thermobifida",
           "Bacteria",
           "Actinobacteria",
           "OTHERS"
          ],
          [
           138,
           "Streptomyces",
           "Bacteria",
           "Actinobacteria",
           "OTHERS"
          ],
          [
           139,
           "Synechocystis",
           "Bacteria",
           "Cyanobacteria",
           "OTHERS"
          ],
          [
           140,
           "Nostoc",
           "Bacteria",
           "Cyanobacteria",
           "OTHERS"
          ],
          [
           141,
           "Nostoc",
           "Bacteria",
           "Cyanobacteria",
           "OTHERS"
          ],
          [
           142,
           "Synechocystis",
           "Bacteria",
           "Cyanobacteria",
           "OTHERS"
          ],
          [
           143,
           "Thermosynechococcus",
           "Bacteria",
           "Cyanobacteria",
           "OTHERS"
          ],
          [
           144,
           "Thermosynechococcus",
           "Bacteria",
           "Cyanobacteria",
           "OTHERS"
          ],
          [
           145,
           "Synechocystis",
           "Bacteria",
           "Cyanobacteria",
           "OTHERS"
          ],
          [
           146,
           "Thermosynechococcus",
           "Bacteria",
           "Cyanobacteria",
           "OTHERS"
          ],
          [
           147,
           "Nostoc",
           "Bacteria",
           "Cyanobacteria",
           "OTHERS"
          ],
          [
           148,
           "Nostoc",
           "Bacteria",
           "Cyanobacteria",
           "OTHERS"
          ],
          [
           149,
           "Thermosynechococcus",
           "Bacteria",
           "Cyanobacteria",
           "OTHERS"
          ],
          [
           150,
           "Nostoc",
           "Bacteria",
           "Cyanobacteria",
           "OTHERS"
          ],
          [
           151,
           "Prochlorococcus",
           "Bacteria",
           "Cyanobacteria",
           "OTHERS"
          ],
          [
           152,
           "Synechocystis",
           "Bacteria",
           "Cyanobacteria",
           "OTHERS"
          ],
          [
           153,
           "Nostoc1",
           "Bacteria",
           "Cyanobacteria",
           "OTHERS"
          ],
          [
           159,
           "Thermus",
           "Bacteria",
           "Deinococcus-Thermus",
           "OTHERS"
          ],
          [
           160,
           "Deinococcus",
           "Bacteria",
           "Deinococcus-Thermus",
           "OTHERS"
          ],
          [
           161,
           "Thermus",
           "Bacteria",
           "Deinococcus-Thermus",
           "OTHERS"
          ],
          [
           162,
           "Deinococcus",
           "Bacteria",
           "Deinococcus-Thermus",
           "OTHERS"
          ],
          [
           163,
           "Dehalococcoides",
           "Bacteria",
           "Chloroflexi",
           "OTHERS"
          ],
          [
           164,
           "Chloroflexus",
           "Bacteria",
           "Chloroflexi",
           "OTHERS"
          ],
          [
           165,
           "Chloroflexus",
           "Bacteria",
           "Chloroflexi",
           "OTHERS"
          ],
          [
           166,
           "Chloroflexus",
           "Bacteria",
           "Chloroflexi",
           "OTHERS"
          ],
          [
           167,
           "Aquifex",
           "Bacteria",
           "Aquificae",
           "OTHERS"
          ],
          [
           168,
           "Bdellovibrio",
           "Bacteria",
           "Proteobacteria",
           "OTHERS"
          ],
          [
           169,
           "Geobacter",
           "Bacteria",
           "Proteobacteria",
           "OTHERS"
          ],
          [
           170,
           "Bdellovibrio",
           "Bacteria",
           "Proteobacteria",
           "OTHERS"
          ],
          [
           171,
           "Desulfovibrio",
           "Bacteria",
           "Proteobacteria",
           "OTHERS"
          ],
          [
           172,
           "Geobacter",
           "Bacteria",
           "Proteobacteria",
           "OTHERS"
          ],
          [
           173,
           "Solibacter",
           "Bacteria",
           "Acidobacteria",
           "OTHERS"
          ],
          [
           174,
           "Solibacter",
           "Bacteria",
           "Acidobacteria",
           "OTHERS"
          ],
          [
           175,
           "Acidobacteria",
           "Bacteria",
           "Acidobacteria",
           "OTHERS"
          ],
          [
           176,
           "Wolinella",
           "Bacteria",
           "Proteobacteria",
           "OTHERS"
          ],
          [
           177,
           "Helicobacter",
           "Bacteria",
           "Proteobacteria",
           "OTHERS"
          ],
          [
           178,
           "Campylobacter",
           "Bacteria",
           "Proteobacteria",
           "OTHERS"
          ],
          [
           179,
           "Helicobacter",
           "Bacteria",
           "Proteobacteria",
           "OTHERS"
          ],
          [
           180,
           "Wolinella",
           "Bacteria",
           "Proteobacteria",
           "OTHERS"
          ],
          [
           181,
           "Wolinella",
           "Bacteria",
           "Proteobacteria",
           "OTHERS"
          ],
          [
           182,
           "Agrobacterium",
           "Bacteria",
           "Proteobacteria",
           "OTHERS"
          ],
          [
           183,
           "Sinorhizobium",
           "Bacteria",
           "Proteobacteria",
           "OTHERS"
          ],
          [
           184,
           "Brucella",
           "Bacteria",
           "Proteobacteria",
           "OTHERS"
          ],
          [
           185,
           "Rickettsia",
           "Bacteria",
           "Proteobacteria",
           "OTHERS"
          ],
          [
           191,
           "Thiobacillus",
           "Bacteria",
           "Proteobacteria",
           "OTHERS"
          ],
          [
           192,
           "Neisseria",
           "Bacteria",
           "Proteobacteria",
           "OTHERS"
          ],
          [
           193,
           "Thiobacillus",
           "Bacteria",
           "Proteobacteria",
           "OTHERS"
          ],
          [
           194,
           "Burkholderia",
           "Bacteria",
           "Proteobacteria",
           "OTHERS"
          ],
          [
           195,
           "Bordetella",
           "Bacteria",
           "Proteobacteria",
           "OTHERS"
          ],
          [
           196,
           "Thiobacillus",
           "Bacteria",
           "Proteobacteria",
           "OTHERS"
          ],
          [
           197,
           "Thiobacillus",
           "Bacteria",
           "Proteobacteria",
           "OTHERS"
          ],
          [
           198,
           "Bordetella",
           "Bacteria",
           "Proteobacteria",
           "OTHERS"
          ],
          [
           199,
           "Pseudomonas",
           "Bacteria",
           "Proteobacteria",
           "OTHERS"
          ],
          [
           200,
           "Vibrio",
           "Bacteria",
           "Proteobacteria",
           "OTHERS"
          ],
          [
           201,
           "Yersinia",
           "Bacteria",
           "Proteobacteria",
           "OTHERS"
          ],
          [
           202,
           "Salmonella",
           "Bacteria",
           "Proteobacteria",
           "OTHERS"
          ],
          [
           203,
           "Shigella",
           "Bacteria",
           "Proteobacteria",
           "OTHERS"
          ],
          [
           204,
           "Escherichia",
           "Bacteria",
           "Proteobacteria",
           "OTHERS"
          ],
          [
           205,
           "Escherichia",
           "Bacteria",
           "Proteobacteria",
           "OTHERS"
          ],
          [
           206,
           "Shigella",
           "Bacteria",
           "Proteobacteria",
           "OTHERS"
          ],
          [
           207,
           "Salmonella",
           "Bacteria",
           "Proteobacteria",
           "OTHERS"
          ],
          [
           208,
           "Yersinia",
           "Bacteria",
           "Proteobacteria",
           "OTHERS"
          ],
          [
           209,
           "Vibrio",
           "Bacteria",
           "Proteobacteria",
           "OTHERS"
          ]
         ],
         "hovertemplate": "<b>%{hovertext}</b><br><br>Kingdom=%{customdata[2]}<br>pm1=%{x}<br>pm2=%{y}<br>Unnamed: 0=%{customdata[0]}<br>Species=%{customdata[1]}<br>Family=%{customdata[3]}<br>Color_eukaryota=%{customdata[4]}<extra></extra>",
         "hovertext": [
          "Bacteria",
          "Bacteria",
          "Bacteria",
          "Bacteria",
          "Bacteria",
          "Bacteria",
          "Bacteria",
          "Bacteria",
          "Bacteria",
          "Bacteria",
          "Bacteria",
          "Bacteria",
          "Bacteria",
          "Bacteria",
          "Bacteria",
          "Bacteria",
          "Bacteria",
          "Bacteria",
          "Bacteria",
          "Bacteria",
          "Bacteria",
          "Bacteria",
          "Bacteria",
          "Bacteria",
          "Bacteria",
          "Bacteria",
          "Bacteria",
          "Bacteria",
          "Bacteria",
          "Bacteria",
          "Bacteria",
          "Bacteria",
          "Bacteria",
          "Bacteria",
          "Bacteria",
          "Bacteria",
          "Bacteria",
          "Bacteria",
          "Bacteria",
          "Bacteria",
          "Bacteria",
          "Bacteria",
          "Bacteria",
          "Bacteria",
          "Bacteria",
          "Bacteria",
          "Bacteria",
          "Bacteria",
          "Bacteria",
          "Bacteria",
          "Bacteria",
          "Bacteria",
          "Bacteria",
          "Bacteria",
          "Bacteria",
          "Bacteria",
          "Bacteria",
          "Bacteria",
          "Bacteria",
          "Bacteria",
          "Bacteria",
          "Bacteria",
          "Bacteria",
          "Bacteria",
          "Bacteria",
          "Bacteria",
          "Bacteria",
          "Bacteria",
          "Bacteria",
          "Bacteria",
          "Bacteria",
          "Bacteria",
          "Bacteria",
          "Bacteria",
          "Bacteria",
          "Bacteria",
          "Bacteria",
          "Bacteria",
          "Bacteria",
          "Bacteria",
          "Bacteria",
          "Bacteria",
          "Bacteria",
          "Bacteria",
          "Bacteria",
          "Bacteria",
          "Bacteria",
          "Bacteria",
          "Bacteria",
          "Bacteria",
          "Bacteria",
          "Bacteria",
          "Bacteria",
          "Bacteria",
          "Bacteria",
          "Bacteria",
          "Bacteria",
          "Bacteria",
          "Bacteria",
          "Bacteria",
          "Bacteria",
          "Bacteria",
          "Bacteria",
          "Bacteria",
          "Bacteria",
          "Bacteria",
          "Bacteria",
          "Bacteria",
          "Bacteria",
          "Bacteria"
         ],
         "legendgroup": "Bacteria",
         "marker": {
          "color": "#34b8e7",
          "symbol": "circle"
         },
         "mode": "markers",
         "name": "Bacteria",
         "orientation": "v",
         "showlegend": true,
         "textposition": "top right",
         "type": "scatter",
         "x": [
          0.5040069,
          -0.24493484,
          0.47298962,
          -0.4425568,
          -0.4460212,
          -0.5066077,
          0.11591191,
          0.0354625,
          0.0060688993,
          0.038903914,
          -0.015153,
          -0.10979977,
          -0.05422822,
          -0.061798874,
          -0.06273006,
          -0.06099645,
          -0.05905825,
          0.063876815,
          -0.013105983,
          0.084597155,
          0.11514125,
          0.43812075,
          -0.10606117,
          -0.25023285,
          0.60114247,
          0.2567983,
          0.47989705,
          0.40690038,
          0.41359827,
          0.3692386,
          0.19888364,
          0.16267529,
          0.14345936,
          0.14294769,
          0.25462425,
          0.39238596,
          0.20937082,
          0.17825927,
          0.18820812,
          0.18943547,
          0.19311011,
          0.22331685,
          0.5082831,
          0.5062294,
          0.36676648,
          0.5304242,
          0.4763313,
          0.43697983,
          0.43220982,
          0.33621347,
          0.34850705,
          0.4944681,
          0.4924073,
          0.48007292,
          0.35752845,
          0.2507609,
          0.24830408,
          0.37394655,
          0.35461435,
          0.5294296,
          0.62031305,
          0.6853675,
          0.58291686,
          0.5432263,
          0.6530208,
          0.62219614,
          0.3049297,
          0.23201871,
          0.3036325,
          0.5299213,
          0.35496226,
          0.29009506,
          0.2356973,
          0.1661885,
          0.7611729,
          0.50053394,
          0.4309682,
          0.23331903,
          0.6898903,
          0.23371972,
          0.22608489,
          -0.04324382,
          -0.03523984,
          -0.10813586,
          -0.13345234,
          0.2033479,
          0.20609,
          0.39940578,
          0.4023528,
          0.389027,
          0.60773945,
          0.41142613,
          0.28230938,
          0.34323567,
          0.325576,
          0.3557916,
          0.82621276,
          0.2033448,
          0.15955792,
          0.36517972,
          0.3242402,
          0.34766698,
          0.34160644,
          0.3491454,
          0.36489522,
          0.8683527,
          0.8603352,
          0.84762776,
          0.8652963,
          0.85996747
         ],
         "xaxis": "x",
         "y": [
          0.09392761,
          -0.130921,
          0.55816126,
          0.38143396,
          0.1790247,
          0.000974581,
          0.5759956,
          0.06129074,
          0.16969559,
          0.27638572,
          0.30931202,
          0.31256753,
          0.3042654,
          0.371079,
          0.366412,
          0.3718005,
          0.37204617,
          0.09200823,
          0.25174934,
          0.07977303,
          0.024093062,
          0.011051653,
          0.6046432,
          0.4392662,
          0.21378578,
          0.03459018,
          0.15902598,
          -0.08747836,
          -0.18823919,
          -0.13635924,
          0.4285746,
          0.29109663,
          0.25527,
          0.2555792,
          0.21689159,
          0.2696938,
          -0.8875581,
          -0.8909619,
          -0.8699052,
          -0.8181566,
          -0.84682655,
          -0.84322137,
          0.29434073,
          0.3051776,
          0.02289036,
          0.39288884,
          0.30756667,
          0.3889018,
          0.41202927,
          0.42588177,
          0.4718529,
          0.16870992,
          0.21126285,
          0.15935723,
          -0.09040809,
          0.3959612,
          0.48897213,
          0.31219527,
          0.15791759,
          0.07986674,
          0.12296761,
          0.17355375,
          0.18630831,
          0.062537745,
          -0.118381925,
          -0.055205166,
          0.26484963,
          0.13545136,
          -0.019556904,
          -0.08009967,
          0.28542045,
          0.36536145,
          0.19068073,
          -0.83963746,
          -0.13494243,
          0.4259467,
          0.12233977,
          0.242193,
          -0.09248562,
          0.26179278,
          0.25558406,
          -0.043105245,
          0.0026768777,
          -0.013940074,
          -0.029684927,
          0.06992514,
          0.06081779,
          0.28572446,
          0.27166802,
          0.2871054,
          0.2866308,
          0.52622736,
          0.5801796,
          0.602579,
          0.5873442,
          0.6089816,
          -0.16090378,
          -0.8611851,
          -0.8656354,
          0.585695,
          0.5447334,
          0.55161905,
          0.52714956,
          0.53784776,
          0.5230701,
          -0.14170918,
          -0.14833026,
          -0.14284891,
          -0.16014732,
          -0.11685125
         ],
         "yaxis": "y"
        }
       ],
       "layout": {
        "annotations": [
         {
          "arrowhead": 1,
          "showarrow": true,
          "text": "LBCA",
          "x": 0.18389252,
          "y": 0.108608946
         },
         {
          "arrowhead": 1,
          "showarrow": true,
          "text": "LACA",
          "x": 0.111037545,
          "y": -0.1417153
         },
         {
          "arrowhead": 1,
          "showarrow": true,
          "text": "AECA",
          "x": 0.050592925,
          "y": -0.098363124
         },
         {
          "arrowhead": 1,
          "showarrow": true,
          "text": "LGPCA",
          "x": 0.313914,
          "y": 0.43765968
         },
         {
          "arrowhead": 1,
          "showarrow": true,
          "text": "LECA",
          "x": -0.63303715,
          "y": -0.0017171632
         },
         {
          "arrowhead": 1,
          "showarrow": true,
          "text": "LPBCA",
          "x": 0.30017877,
          "y": 0.15301032
         },
         {
          "arrowhead": 1,
          "showarrow": true,
          "text": "LAFCA",
          "x": -0.6711158,
          "y": -0.028322173
         }
        ],
        "font": {
         "size": 10
        },
        "height": 800,
        "legend": {
         "title": {
          "text": "Kingdom"
         },
         "tracegroupgap": 0
        },
        "plot_bgcolor": "rgba(0, 0, 0, 0)",
        "shapes": [
         {
          "line": {
           "color": "black",
           "dash": "dot"
          },
          "opacity": 0.15,
          "type": "circle",
          "x0": -0.47058823529411764,
          "x1": 0.47058823529411764,
          "y0": -0.47058823529411764,
          "y1": 0.47058823529411764
         },
         {
          "line": {
           "color": "black",
           "dash": "dot"
          },
          "opacity": 0.15,
          "type": "circle",
          "x0": -0.6447368421052633,
          "x1": 0.6447368421052633,
          "y0": -0.6447368421052633,
          "y1": 0.6447368421052633
         },
         {
          "line": {
           "color": "black",
           "dash": "dot"
          },
          "opacity": 0.15,
          "type": "circle",
          "x0": -0.7705382436260623,
          "x1": 0.7705382436260623,
          "y0": -0.7705382436260623,
          "y1": 0.7705382436260623
         },
         {
          "line": {
           "color": "black",
           "dash": "dot"
          },
          "opacity": 0.15,
          "type": "circle",
          "x0": -0.8557007125890737,
          "x1": 0.8557007125890737,
          "y0": -0.8557007125890737,
          "y1": 0.8557007125890737
         },
         {
          "line": {
           "color": "black",
           "dash": "dot"
          },
          "opacity": 0.15,
          "type": "circle",
          "x0": -0.9108474990827933,
          "x1": 0.9108474990827933,
          "y0": -0.9108474990827933,
          "y1": 0.9108474990827933
         },
         {
          "line": {
           "color": "black",
           "dash": "dot"
          },
          "opacity": 0.15,
          "type": "circle",
          "x0": -0.9455374041239167,
          "x1": 0.9455374041239167,
          "y0": -0.9455374041239167,
          "y1": 0.9455374041239167
         },
         {
          "line": {
           "color": "Black"
          },
          "type": "circle",
          "x0": -1,
          "x1": 1,
          "xref": "x",
          "y0": -1,
          "y1": 1,
          "yref": "y"
         },
         {
          "fillcolor": "Black",
          "line": {
           "color": "Black"
          },
          "type": "circle",
          "x0": -0.005,
          "x1": 0.005,
          "xref": "x",
          "y0": -0.005,
          "y1": 0.005,
          "yref": "y"
         }
        ],
        "template": {
         "data": {
          "bar": [
           {
            "error_x": {
             "color": "#2a3f5f"
            },
            "error_y": {
             "color": "#2a3f5f"
            },
            "marker": {
             "line": {
              "color": "#E5ECF6",
              "width": 0.5
             },
             "pattern": {
              "fillmode": "overlay",
              "size": 10,
              "solidity": 0.2
             }
            },
            "type": "bar"
           }
          ],
          "barpolar": [
           {
            "marker": {
             "line": {
              "color": "#E5ECF6",
              "width": 0.5
             },
             "pattern": {
              "fillmode": "overlay",
              "size": 10,
              "solidity": 0.2
             }
            },
            "type": "barpolar"
           }
          ],
          "carpet": [
           {
            "aaxis": {
             "endlinecolor": "#2a3f5f",
             "gridcolor": "white",
             "linecolor": "white",
             "minorgridcolor": "white",
             "startlinecolor": "#2a3f5f"
            },
            "baxis": {
             "endlinecolor": "#2a3f5f",
             "gridcolor": "white",
             "linecolor": "white",
             "minorgridcolor": "white",
             "startlinecolor": "#2a3f5f"
            },
            "type": "carpet"
           }
          ],
          "choropleth": [
           {
            "colorbar": {
             "outlinewidth": 0,
             "ticks": ""
            },
            "type": "choropleth"
           }
          ],
          "contour": [
           {
            "colorbar": {
             "outlinewidth": 0,
             "ticks": ""
            },
            "colorscale": [
             [
              0,
              "#0d0887"
             ],
             [
              0.1111111111111111,
              "#46039f"
             ],
             [
              0.2222222222222222,
              "#7201a8"
             ],
             [
              0.3333333333333333,
              "#9c179e"
             ],
             [
              0.4444444444444444,
              "#bd3786"
             ],
             [
              0.5555555555555556,
              "#d8576b"
             ],
             [
              0.6666666666666666,
              "#ed7953"
             ],
             [
              0.7777777777777778,
              "#fb9f3a"
             ],
             [
              0.8888888888888888,
              "#fdca26"
             ],
             [
              1,
              "#f0f921"
             ]
            ],
            "type": "contour"
           }
          ],
          "contourcarpet": [
           {
            "colorbar": {
             "outlinewidth": 0,
             "ticks": ""
            },
            "type": "contourcarpet"
           }
          ],
          "heatmap": [
           {
            "colorbar": {
             "outlinewidth": 0,
             "ticks": ""
            },
            "colorscale": [
             [
              0,
              "#0d0887"
             ],
             [
              0.1111111111111111,
              "#46039f"
             ],
             [
              0.2222222222222222,
              "#7201a8"
             ],
             [
              0.3333333333333333,
              "#9c179e"
             ],
             [
              0.4444444444444444,
              "#bd3786"
             ],
             [
              0.5555555555555556,
              "#d8576b"
             ],
             [
              0.6666666666666666,
              "#ed7953"
             ],
             [
              0.7777777777777778,
              "#fb9f3a"
             ],
             [
              0.8888888888888888,
              "#fdca26"
             ],
             [
              1,
              "#f0f921"
             ]
            ],
            "type": "heatmap"
           }
          ],
          "heatmapgl": [
           {
            "colorbar": {
             "outlinewidth": 0,
             "ticks": ""
            },
            "colorscale": [
             [
              0,
              "#0d0887"
             ],
             [
              0.1111111111111111,
              "#46039f"
             ],
             [
              0.2222222222222222,
              "#7201a8"
             ],
             [
              0.3333333333333333,
              "#9c179e"
             ],
             [
              0.4444444444444444,
              "#bd3786"
             ],
             [
              0.5555555555555556,
              "#d8576b"
             ],
             [
              0.6666666666666666,
              "#ed7953"
             ],
             [
              0.7777777777777778,
              "#fb9f3a"
             ],
             [
              0.8888888888888888,
              "#fdca26"
             ],
             [
              1,
              "#f0f921"
             ]
            ],
            "type": "heatmapgl"
           }
          ],
          "histogram": [
           {
            "marker": {
             "pattern": {
              "fillmode": "overlay",
              "size": 10,
              "solidity": 0.2
             }
            },
            "type": "histogram"
           }
          ],
          "histogram2d": [
           {
            "colorbar": {
             "outlinewidth": 0,
             "ticks": ""
            },
            "colorscale": [
             [
              0,
              "#0d0887"
             ],
             [
              0.1111111111111111,
              "#46039f"
             ],
             [
              0.2222222222222222,
              "#7201a8"
             ],
             [
              0.3333333333333333,
              "#9c179e"
             ],
             [
              0.4444444444444444,
              "#bd3786"
             ],
             [
              0.5555555555555556,
              "#d8576b"
             ],
             [
              0.6666666666666666,
              "#ed7953"
             ],
             [
              0.7777777777777778,
              "#fb9f3a"
             ],
             [
              0.8888888888888888,
              "#fdca26"
             ],
             [
              1,
              "#f0f921"
             ]
            ],
            "type": "histogram2d"
           }
          ],
          "histogram2dcontour": [
           {
            "colorbar": {
             "outlinewidth": 0,
             "ticks": ""
            },
            "colorscale": [
             [
              0,
              "#0d0887"
             ],
             [
              0.1111111111111111,
              "#46039f"
             ],
             [
              0.2222222222222222,
              "#7201a8"
             ],
             [
              0.3333333333333333,
              "#9c179e"
             ],
             [
              0.4444444444444444,
              "#bd3786"
             ],
             [
              0.5555555555555556,
              "#d8576b"
             ],
             [
              0.6666666666666666,
              "#ed7953"
             ],
             [
              0.7777777777777778,
              "#fb9f3a"
             ],
             [
              0.8888888888888888,
              "#fdca26"
             ],
             [
              1,
              "#f0f921"
             ]
            ],
            "type": "histogram2dcontour"
           }
          ],
          "mesh3d": [
           {
            "colorbar": {
             "outlinewidth": 0,
             "ticks": ""
            },
            "type": "mesh3d"
           }
          ],
          "parcoords": [
           {
            "line": {
             "colorbar": {
              "outlinewidth": 0,
              "ticks": ""
             }
            },
            "type": "parcoords"
           }
          ],
          "pie": [
           {
            "automargin": true,
            "type": "pie"
           }
          ],
          "scatter": [
           {
            "fillpattern": {
             "fillmode": "overlay",
             "size": 10,
             "solidity": 0.2
            },
            "type": "scatter"
           }
          ],
          "scatter3d": [
           {
            "line": {
             "colorbar": {
              "outlinewidth": 0,
              "ticks": ""
             }
            },
            "marker": {
             "colorbar": {
              "outlinewidth": 0,
              "ticks": ""
             }
            },
            "type": "scatter3d"
           }
          ],
          "scattercarpet": [
           {
            "marker": {
             "colorbar": {
              "outlinewidth": 0,
              "ticks": ""
             }
            },
            "type": "scattercarpet"
           }
          ],
          "scattergeo": [
           {
            "marker": {
             "colorbar": {
              "outlinewidth": 0,
              "ticks": ""
             }
            },
            "type": "scattergeo"
           }
          ],
          "scattergl": [
           {
            "marker": {
             "colorbar": {
              "outlinewidth": 0,
              "ticks": ""
             }
            },
            "type": "scattergl"
           }
          ],
          "scattermapbox": [
           {
            "marker": {
             "colorbar": {
              "outlinewidth": 0,
              "ticks": ""
             }
            },
            "type": "scattermapbox"
           }
          ],
          "scatterpolar": [
           {
            "marker": {
             "colorbar": {
              "outlinewidth": 0,
              "ticks": ""
             }
            },
            "type": "scatterpolar"
           }
          ],
          "scatterpolargl": [
           {
            "marker": {
             "colorbar": {
              "outlinewidth": 0,
              "ticks": ""
             }
            },
            "type": "scatterpolargl"
           }
          ],
          "scatterternary": [
           {
            "marker": {
             "colorbar": {
              "outlinewidth": 0,
              "ticks": ""
             }
            },
            "type": "scatterternary"
           }
          ],
          "surface": [
           {
            "colorbar": {
             "outlinewidth": 0,
             "ticks": ""
            },
            "colorscale": [
             [
              0,
              "#0d0887"
             ],
             [
              0.1111111111111111,
              "#46039f"
             ],
             [
              0.2222222222222222,
              "#7201a8"
             ],
             [
              0.3333333333333333,
              "#9c179e"
             ],
             [
              0.4444444444444444,
              "#bd3786"
             ],
             [
              0.5555555555555556,
              "#d8576b"
             ],
             [
              0.6666666666666666,
              "#ed7953"
             ],
             [
              0.7777777777777778,
              "#fb9f3a"
             ],
             [
              0.8888888888888888,
              "#fdca26"
             ],
             [
              1,
              "#f0f921"
             ]
            ],
            "type": "surface"
           }
          ],
          "table": [
           {
            "cells": {
             "fill": {
              "color": "#EBF0F8"
             },
             "line": {
              "color": "white"
             }
            },
            "header": {
             "fill": {
              "color": "#C8D4E3"
             },
             "line": {
              "color": "white"
             }
            },
            "type": "table"
           }
          ]
         },
         "layout": {
          "annotationdefaults": {
           "arrowcolor": "#2a3f5f",
           "arrowhead": 0,
           "arrowwidth": 1
          },
          "autotypenumbers": "strict",
          "coloraxis": {
           "colorbar": {
            "outlinewidth": 0,
            "ticks": ""
           }
          },
          "colorscale": {
           "diverging": [
            [
             0,
             "#8e0152"
            ],
            [
             0.1,
             "#c51b7d"
            ],
            [
             0.2,
             "#de77ae"
            ],
            [
             0.3,
             "#f1b6da"
            ],
            [
             0.4,
             "#fde0ef"
            ],
            [
             0.5,
             "#f7f7f7"
            ],
            [
             0.6,
             "#e6f5d0"
            ],
            [
             0.7,
             "#b8e186"
            ],
            [
             0.8,
             "#7fbc41"
            ],
            [
             0.9,
             "#4d9221"
            ],
            [
             1,
             "#276419"
            ]
           ],
           "sequential": [
            [
             0,
             "#0d0887"
            ],
            [
             0.1111111111111111,
             "#46039f"
            ],
            [
             0.2222222222222222,
             "#7201a8"
            ],
            [
             0.3333333333333333,
             "#9c179e"
            ],
            [
             0.4444444444444444,
             "#bd3786"
            ],
            [
             0.5555555555555556,
             "#d8576b"
            ],
            [
             0.6666666666666666,
             "#ed7953"
            ],
            [
             0.7777777777777778,
             "#fb9f3a"
            ],
            [
             0.8888888888888888,
             "#fdca26"
            ],
            [
             1,
             "#f0f921"
            ]
           ],
           "sequentialminus": [
            [
             0,
             "#0d0887"
            ],
            [
             0.1111111111111111,
             "#46039f"
            ],
            [
             0.2222222222222222,
             "#7201a8"
            ],
            [
             0.3333333333333333,
             "#9c179e"
            ],
            [
             0.4444444444444444,
             "#bd3786"
            ],
            [
             0.5555555555555556,
             "#d8576b"
            ],
            [
             0.6666666666666666,
             "#ed7953"
            ],
            [
             0.7777777777777778,
             "#fb9f3a"
            ],
            [
             0.8888888888888888,
             "#fdca26"
            ],
            [
             1,
             "#f0f921"
            ]
           ]
          },
          "colorway": [
           "#636efa",
           "#EF553B",
           "#00cc96",
           "#ab63fa",
           "#FFA15A",
           "#19d3f3",
           "#FF6692",
           "#B6E880",
           "#FF97FF",
           "#FECB52"
          ],
          "font": {
           "color": "#2a3f5f"
          },
          "geo": {
           "bgcolor": "white",
           "lakecolor": "white",
           "landcolor": "#E5ECF6",
           "showlakes": true,
           "showland": true,
           "subunitcolor": "white"
          },
          "hoverlabel": {
           "align": "left"
          },
          "hovermode": "closest",
          "mapbox": {
           "style": "light"
          },
          "paper_bgcolor": "white",
          "plot_bgcolor": "#E5ECF6",
          "polar": {
           "angularaxis": {
            "gridcolor": "white",
            "linecolor": "white",
            "ticks": ""
           },
           "bgcolor": "#E5ECF6",
           "radialaxis": {
            "gridcolor": "white",
            "linecolor": "white",
            "ticks": ""
           }
          },
          "scene": {
           "xaxis": {
            "backgroundcolor": "#E5ECF6",
            "gridcolor": "white",
            "gridwidth": 2,
            "linecolor": "white",
            "showbackground": true,
            "ticks": "",
            "zerolinecolor": "white"
           },
           "yaxis": {
            "backgroundcolor": "#E5ECF6",
            "gridcolor": "white",
            "gridwidth": 2,
            "linecolor": "white",
            "showbackground": true,
            "ticks": "",
            "zerolinecolor": "white"
           },
           "zaxis": {
            "backgroundcolor": "#E5ECF6",
            "gridcolor": "white",
            "gridwidth": 2,
            "linecolor": "white",
            "showbackground": true,
            "ticks": "",
            "zerolinecolor": "white"
           }
          },
          "shapedefaults": {
           "line": {
            "color": "#2a3f5f"
           }
          },
          "ternary": {
           "aaxis": {
            "gridcolor": "white",
            "linecolor": "white",
            "ticks": ""
           },
           "baxis": {
            "gridcolor": "white",
            "linecolor": "white",
            "ticks": ""
           },
           "bgcolor": "#E5ECF6",
           "caxis": {
            "gridcolor": "white",
            "linecolor": "white",
            "ticks": ""
           }
          },
          "title": {
           "x": 0.05
          },
          "xaxis": {
           "automargin": true,
           "gridcolor": "white",
           "linecolor": "white",
           "ticks": "",
           "title": {
            "standoff": 15
           },
           "zerolinecolor": "white",
           "zerolinewidth": 2
          },
          "yaxis": {
           "automargin": true,
           "gridcolor": "white",
           "linecolor": "white",
           "ticks": "",
           "title": {
            "standoff": 15
           },
           "zerolinecolor": "white",
           "zerolinewidth": 2
          }
         }
        },
        "title": {
         "text": "Poincaré Map projection of thioredoxins colored by kingdom of life",
         "x": 0.5
        },
        "xaxis": {
         "anchor": "y",
         "constrain": "domain",
         "domain": [
          0,
          1
         ],
         "range": [
          -1.1,
          1.1
         ],
         "title": {
          "text": "pm1"
         }
        },
        "yaxis": {
         "anchor": "x",
         "domain": [
          0,
          1
         ],
         "scaleanchor": "x",
         "scaleratio": 1,
         "title": {
          "text": "pm2"
         }
        },
        "yaxis2": {
         "layer": "below traces",
         "matches": "y",
         "overlaying": "y"
        }
       }
      },
      "text/html": [
       "<div>                            <div id=\"b9744905-d820-45bd-997f-0bf1a115551c\" class=\"plotly-graph-div\" style=\"height:800px; width:100%;\"></div>            <script type=\"text/javascript\">                require([\"plotly\"], function(Plotly) {                    window.PLOTLYENV=window.PLOTLYENV || {};                                    if (document.getElementById(\"b9744905-d820-45bd-997f-0bf1a115551c\")) {                    Plotly.newPlot(                        \"b9744905-d820-45bd-997f-0bf1a115551c\",                        [{\"customdata\":[[0,\"LBCA\",\"LBCA\",\"LBCA\",\"OTHERS\"]],\"hovertemplate\":\"<b>%{hovertext}</b><br><br>Kingdom=%{customdata[2]}<br>pm1=%{x}<br>pm2=%{y}<br>Unnamed: 0=%{customdata[0]}<br>Species=%{customdata[1]}<br>Family=%{customdata[3]}<br>Color_eukaryota=%{customdata[4]}<extra></extra>\",\"hovertext\":[\"LBCA\"],\"legendgroup\":\"LBCA\",\"marker\":{\"color\":\"#34b8e7\",\"symbol\":\"circle\"},\"mode\":\"markers\",\"name\":\"LBCA\",\"orientation\":\"v\",\"showlegend\":true,\"x\":[0.18389252],\"xaxis\":\"x\",\"y\":[0.108608946],\"yaxis\":\"y\",\"type\":\"scatter\",\"textposition\":\"top right\"},{\"customdata\":[[1,\"LACA\",\"LACA\",\"LACA\",\"OTHERS\"]],\"hovertemplate\":\"<b>%{hovertext}</b><br><br>Kingdom=%{customdata[2]}<br>pm1=%{x}<br>pm2=%{y}<br>Unnamed: 0=%{customdata[0]}<br>Species=%{customdata[1]}<br>Family=%{customdata[3]}<br>Color_eukaryota=%{customdata[4]}<extra></extra>\",\"hovertext\":[\"LACA\"],\"legendgroup\":\"LACA\",\"marker\":{\"color\":\"#ff0000\",\"symbol\":\"circle\"},\"mode\":\"markers\",\"name\":\"LACA\",\"orientation\":\"v\",\"showlegend\":true,\"x\":[0.111037545],\"xaxis\":\"x\",\"y\":[-0.1417153],\"yaxis\":\"y\",\"type\":\"scatter\",\"textposition\":\"top right\"},{\"customdata\":[[2,\"AECA\",\"AECA\",\"AECA\",\"OTHERS\"]],\"hovertemplate\":\"<b>%{hovertext}</b><br><br>Kingdom=%{customdata[2]}<br>pm1=%{x}<br>pm2=%{y}<br>Unnamed: 0=%{customdata[0]}<br>Species=%{customdata[1]}<br>Family=%{customdata[3]}<br>Color_eukaryota=%{customdata[4]}<extra></extra>\",\"hovertext\":[\"AECA\"],\"legendgroup\":\"AECA\",\"marker\":{\"color\":\"#e7e53c\",\"symbol\":\"circle\"},\"mode\":\"markers\",\"name\":\"AECA\",\"orientation\":\"v\",\"showlegend\":true,\"x\":[0.050592925],\"xaxis\":\"x\",\"y\":[-0.098363124],\"yaxis\":\"y\",\"type\":\"scatter\",\"textposition\":\"top right\"},{\"customdata\":[[3,\"LGPCA\",\"LGPCA\",\"LGPCA\",\"OTHERS\"]],\"hovertemplate\":\"<b>%{hovertext}</b><br><br>Kingdom=%{customdata[2]}<br>pm1=%{x}<br>pm2=%{y}<br>Unnamed: 0=%{customdata[0]}<br>Species=%{customdata[1]}<br>Family=%{customdata[3]}<br>Color_eukaryota=%{customdata[4]}<extra></extra>\",\"hovertext\":[\"LGPCA\"],\"legendgroup\":\"LGPCA\",\"marker\":{\"color\":\"#34b8e7\",\"symbol\":\"circle\"},\"mode\":\"markers\",\"name\":\"LGPCA\",\"orientation\":\"v\",\"showlegend\":true,\"x\":[0.313914],\"xaxis\":\"x\",\"y\":[0.43765968],\"yaxis\":\"y\",\"type\":\"scatter\",\"textposition\":\"top right\"},{\"customdata\":[[4,\"LECA\",\"LECA\",\"LECA\",\"OTHERS\"]],\"hovertemplate\":\"<b>%{hovertext}</b><br><br>Kingdom=%{customdata[2]}<br>pm1=%{x}<br>pm2=%{y}<br>Unnamed: 0=%{customdata[0]}<br>Species=%{customdata[1]}<br>Family=%{customdata[3]}<br>Color_eukaryota=%{customdata[4]}<extra></extra>\",\"hovertext\":[\"LECA\"],\"legendgroup\":\"LECA\",\"marker\":{\"color\":\"#21e548\",\"symbol\":\"circle\"},\"mode\":\"markers\",\"name\":\"LECA\",\"orientation\":\"v\",\"showlegend\":true,\"x\":[-0.63303715],\"xaxis\":\"x\",\"y\":[-0.0017171632],\"yaxis\":\"y\",\"type\":\"scatter\",\"textposition\":\"top right\"},{\"customdata\":[[5,\"LPBCA\",\"LPBCA\",\"LPBCA\",\"OTHERS\"]],\"hovertemplate\":\"<b>%{hovertext}</b><br><br>Kingdom=%{customdata[2]}<br>pm1=%{x}<br>pm2=%{y}<br>Unnamed: 0=%{customdata[0]}<br>Species=%{customdata[1]}<br>Family=%{customdata[3]}<br>Color_eukaryota=%{customdata[4]}<extra></extra>\",\"hovertext\":[\"LPBCA\"],\"legendgroup\":\"LPBCA\",\"marker\":{\"color\":\"#34b8e7\",\"symbol\":\"circle\"},\"mode\":\"markers\",\"name\":\"LPBCA\",\"orientation\":\"v\",\"showlegend\":true,\"x\":[0.30017877],\"xaxis\":\"x\",\"y\":[0.15301032],\"yaxis\":\"y\",\"type\":\"scatter\",\"textposition\":\"top right\"},{\"customdata\":[[6,\"LAFCA\",\"LAFCA\",\"LAFCA\",\"OTHERS\"]],\"hovertemplate\":\"<b>%{hovertext}</b><br><br>Kingdom=%{customdata[2]}<br>pm1=%{x}<br>pm2=%{y}<br>Unnamed: 0=%{customdata[0]}<br>Species=%{customdata[1]}<br>Family=%{customdata[3]}<br>Color_eukaryota=%{customdata[4]}<extra></extra>\",\"hovertext\":[\"LAFCA\"],\"legendgroup\":\"LAFCA\",\"marker\":{\"color\":\"#21e548\",\"symbol\":\"circle\"},\"mode\":\"markers\",\"name\":\"LAFCA\",\"orientation\":\"v\",\"showlegend\":true,\"x\":[-0.6711158],\"xaxis\":\"x\",\"y\":[-0.028322173],\"yaxis\":\"y\",\"type\":\"scatter\",\"textposition\":\"top right\"},{\"customdata\":[[7,\"Ovis\",\"Eukaryota\",\"Metazoa\",\"EUKARYOTA\"],[8,\"Bos\",\"Eukaryota\",\"Metazoa\",\"EUKARYOTA\"],[9,\"Sus\",\"Eukaryota\",\"Metazoa\",\"EUKARYOTA\"],[10,\"Equus\",\"Eukaryota\",\"Metazoa\",\"EUKARYOTA\"],[11,\"Mus\",\"Eukaryota\",\"Metazoa\",\"EUKARYOTA\"],[12,\"Rattus\",\"Eukaryota\",\"Metazoa\",\"EUKARYOTA\"],[13,\"Rabit\",\"Eukaryota\",\"Metazoa\",\"EUKARYOTA\"],[14,\"Human\",\"Eukaryota\",\"Metazoa\",\"EUKARYOTA\"],[15,\"Ponab\",\"Eukaryota\",\"Metazoa\",\"EUKARYOTA\"],[16,\"Macmu\",\"Eukaryota\",\"Metazoa\",\"EUKARYOTA\"],[17,\"Callithrix\",\"Eukaryota\",\"Metazoa\",\"EUKARYOTA\"],[18,\"Monodelphis\",\"Eukaryota\",\"Metazoa\",\"EUKARYOTA\"],[19,\"Ornithorhynchus\",\"Eukaryota\",\"Metazoa\",\"EUKARYOTA\"],[20,\"Gallus\",\"Eukaryota\",\"Metazoa\",\"EUKARYOTA\"],[21,\"Melopsittacus\",\"Eukaryota\",\"Metazoa\",\"EUKARYOTA\"],[22,\"Ophiophagus\",\"Eukaryota\",\"Metazoa\",\"EUKARYOTA\"],[23,\"Xenopus\",\"Eukaryota\",\"Metazoa\",\"EUKARYOTA\"],[24,\"Tetraodon\",\"Eukaryota\",\"Metazoa\",\"EUKARYOTA\"],[25,\"Ictalurus\",\"Eukaryota\",\"Metazoa\",\"EUKARYOTA\"],[26,\"Danio\",\"Eukaryota\",\"Metazoa\",\"EUKARYOTA\"],[27,\"Drosophila\",\"Eukaryota\",\"Metazoa\",\"EUKARYOTA\"],[28,\"Drosophila\",\"Eukaryota\",\"Metazoa\",\"EUKARYOTA\"],[29,\"Drosophila\",\"Eukaryota\",\"Metazoa\",\"EUKARYOTA\"],[30,\"Apis\",\"Eukaryota\",\"Metazoa\",\"EUKARYOTA\"],[31,\"Tribolium\",\"Eukaryota\",\"Metazoa\",\"EUKARYOTA\"],[32,\"Bombyx\",\"Eukaryota\",\"Metazoa\",\"EUKARYOTA\"],[33,\"Graphocephala\",\"Eukaryota\",\"Metazoa\",\"EUKARYOTA\"],[34,\"Litopenaeus\",\"Eukaryota\",\"Metazoa\",\"EUKARYOTA\"],[35,\"Geocy\",\"Eukaryota\",\"Metazoa\",\"EUKARYOTA\"],[36,\"Aspergillus\",\"Eukaryota\",\"Fungi\",\"EUKARYOTA\"],[37,\"Neosartorya\",\"Eukaryota\",\"Fungi\",\"EUKARYOTA\"],[38,\"Aspergillus\",\"Eukaryota\",\"Fungi\",\"EUKARYOTA\"],[39,\"Aspergillus\",\"Eukaryota\",\"Fungi\",\"EUKARYOTA\"],[40,\"Pichia\",\"Eukaryota\",\"Fungi\",\"EUKARYOTA\"],[41,\"Candida\",\"Eukaryota\",\"Fungi\",\"EUKARYOTA\"],[42,\"Pichia\",\"Eukaryota\",\"Fungi\",\"EUKARYOTA\"],[43,\"Kluyveromyces\",\"Eukaryota\",\"Fungi\",\"EUKARYOTA\"],[44,\"Saccharomyces\",\"Eukaryota\",\"Fungi\",\"EUKARYOTA\"],[45,\"Candida\",\"Eukaryota\",\"Fungi\",\"EUKARYOTA\"],[46,\"Saccharomyces\",\"Eukaryota\",\"Fungi\",\"EUKARYOTA\"],[47,\"Schizosaccharomyces\",\"Eukaryota\",\"Fungi\",\"EUKARYOTA\"],[48,\"Monosiga\",\"Eukaryota\",\"Choanoflagellata\",\"EUKARYOTA\"],[49,\"Entamoeba\",\"Eukaryota\",\"Amoebozoa\",\"EUKARYOTA\"],[50,\"Dictyostelium\",\"Eukaryota\",\"Amoebozoa\",\"EUKARYOTA\"],[51,\"Arabidopsis\",\"Eukaryota\",\"Viridiplantae\",\"EUKARYOTA\"],[52,\"Arabidopsis\",\"Eukaryota\",\"Viridiplantae\",\"EUKARYOTA\"],[53,\"Limonium\",\"Eukaryota\",\"Viridiplantae\",\"EUKARYOTA\"],[54,\"Zea\",\"Eukaryota\",\"Viridiplantae\",\"EUKARYOTA\"],[55,\"Vitis\",\"Eukaryota\",\"Viridiplantae\",\"EUKARYOTA\"],[56,\"Ostreococcus\",\"Eukaryota\",\"Viridiplantae\",\"EUKARYOTA\"],[57,\"Helicosporidium\",\"Eukaryota\",\"Viridiplantae\",\"EUKARYOTA\"],[58,\"Fagopyrum\",\"Eukaryota\",\"Viridiplantae\",\"EUKARYOTA\"],[59,\"Cryptosporidium\",\"Eukaryota\",\"Alveolata\",\"EUKARYOTA\"],[60,\"Theileria\",\"Eukaryota\",\"Sar\",\"EUKARYOTA\"],[61,\"Plasmodium\",\"Eukaryota\",\"Alveolata\",\"EUKARYOTA\"],[154,\"Pea Chloroplast\",\"Eukaryota\",\"Viridiplantae\",\"CHLOROPLAST\"],[155,\"Spiol Chloroplast\",\"Eukaryota\",\"Viridiplantae\",\"CHLOROPLAST\"],[156,\"Wheat Chloroplast\",\"Eukaryota\",\"Viridiplantae\",\"CHLOROPLAST\"],[157,\"Pisum Chloroplast\",\"Eukaryota\",\"Viridiplantae\",\"CHLOROPLAST\"],[158,\"Brana Chloroplast\",\"Eukaryota\",\"Viridiplantae\",\"CHLOROPLAST\"],[186,\"Bovin Mitochondrio\",\"Eukaryota\",\"Metazoa\",\"MITOCHONDRION\"],[187,\"Equus\",\"Eukaryota\",\"Metazoa\",\"EUKARYOTA\"],[188,\"Homo Mitochondrion\",\"Eukaryota\",\"Metazoa\",\"MITOCHONDRION\"],[189,\"Rattus Mitochondrio\",\"Eukaryota\",\"Metazoa\",\"MITOCHONDRION\"],[190,\"Mus Mitochondrion\",\"Eukaryota\",\"Metazoa\",\"MITOCHONDRION\"]],\"hovertemplate\":\"<b>%{hovertext}</b><br><br>Kingdom=%{customdata[2]}<br>pm1=%{x}<br>pm2=%{y}<br>Unnamed: 0=%{customdata[0]}<br>Species=%{customdata[1]}<br>Family=%{customdata[3]}<br>Color_eukaryota=%{customdata[4]}<extra></extra>\",\"hovertext\":[\"Eukaryota\",\"Eukaryota\",\"Eukaryota\",\"Eukaryota\",\"Eukaryota\",\"Eukaryota\",\"Eukaryota\",\"Eukaryota\",\"Eukaryota\",\"Eukaryota\",\"Eukaryota\",\"Eukaryota\",\"Eukaryota\",\"Eukaryota\",\"Eukaryota\",\"Eukaryota\",\"Eukaryota\",\"Eukaryota\",\"Eukaryota\",\"Eukaryota\",\"Eukaryota\",\"Eukaryota\",\"Eukaryota\",\"Eukaryota\",\"Eukaryota\",\"Eukaryota\",\"Eukaryota\",\"Eukaryota\",\"Eukaryota\",\"Eukaryota\",\"Eukaryota\",\"Eukaryota\",\"Eukaryota\",\"Eukaryota\",\"Eukaryota\",\"Eukaryota\",\"Eukaryota\",\"Eukaryota\",\"Eukaryota\",\"Eukaryota\",\"Eukaryota\",\"Eukaryota\",\"Eukaryota\",\"Eukaryota\",\"Eukaryota\",\"Eukaryota\",\"Eukaryota\",\"Eukaryota\",\"Eukaryota\",\"Eukaryota\",\"Eukaryota\",\"Eukaryota\",\"Eukaryota\",\"Eukaryota\",\"Eukaryota\",\"Eukaryota\",\"Eukaryota\",\"Eukaryota\",\"Eukaryota\",\"Eukaryota\",\"Eukaryota\",\"Eukaryota\",\"Eukaryota\",\"Eukaryota\",\"Eukaryota\"],\"legendgroup\":\"Eukaryota\",\"marker\":{\"color\":\"#21e548\",\"symbol\":\"circle\"},\"mode\":\"markers\",\"name\":\"Eukaryota\",\"orientation\":\"v\",\"showlegend\":true,\"x\":[-0.84257185,-0.85646325,-0.84598905,-0.81090814,-0.81464094,-0.812737,-0.8607577,-0.8415084,-0.83648366,-0.82155627,-0.8227882,0.7402804,-0.7869309,-0.84328246,-0.8308515,-0.82625085,-0.7864245,-0.74686414,-0.7774597,-0.7198608,-0.75331324,-0.748439,-0.7313381,-0.74180365,-0.73487693,-0.7247355,-0.7247921,-0.7117707,-0.6954949,-0.6810791,-0.7521039,-0.73197603,-0.73390985,-0.57037693,-0.62652355,-0.66944695,-0.615969,-0.6591339,-0.60802054,-0.6525111,-0.7071143,-0.6314559,-0.756797,-0.7026959,0.86114365,0.84289294,0.86750895,0.8898363,0.874268,-0.71635604,-0.7375467,-0.6551419,-0.6249803,-0.81088555,-0.731728,0.8524639,0.88229173,0.87905174,0.86051095,0.87869513,0.7762942,0.76819754,0.7598772,0.76795524,0.7531102],\"xaxis\":\"x\",\"y\":[-0.07941825,-0.05296301,-0.0579008,-0.08104239,-0.029657762,-0.037687875,-0.019577218,-0.04593345,-0.019532587,-0.061917007,-0.04019381,-0.49634287,-0.0936573,-0.122904055,-0.12267471,-0.1080902,-0.15429442,-0.15780155,-0.18446364,-0.15570429,-0.5310014,-0.5475899,-0.5524903,-0.5190686,-0.5304727,-0.53849876,-0.49430734,-0.5291109,-0.2996023,0.11914146,0.16425893,0.19756268,0.21699464,-0.13791098,0.2946659,0.19888036,0.23958886,0.29400313,0.26075897,0.25796384,0.16122662,-0.0709549,-0.19151846,-0.113642864,0.20506479,0.2193647,0.24155946,0.26888776,0.26825014,-0.026540766,-0.07159258,0.062075492,0.21035507,0.0577559,0.076384,0.27847457,0.250263,0.2813189,0.25488907,0.22154756,-0.50750846,-0.49516883,-0.50699115,-0.5201371,-0.5204549],\"yaxis\":\"y\",\"type\":\"scatter\",\"textposition\":\"top right\"},{\"customdata\":[[62,\"Archaeoglobus\",\"Archaea\",\"Euryarchaeota\",\"OTHERS\"],[63,\"Methanosaeta\",\"Archaea\",\"Euryarchaeota\",\"OTHERS\"],[64,\"Methanococcoides\",\"Archaea\",\"Euryarchaeota\",\"OTHERS\"],[65,\"Candidatus\",\"Archaea\",\"Euryarchaeota\",\"OTHERS\"],[66,\"Methanospirillum\",\"Archaea\",\"Euryarchaeota\",\"OTHERS\"],[67,\"Picrophilus\",\"Archaea\",\"Euryarchaeota\",\"OTHERS\"],[68,\"Methanococcus\",\"Archaea\",\"Euryarchaeota\",\"OTHERS\"],[69,\"Methanocorpusculum\",\"Archaea\",\"Euryarchaeota\",\"OTHERS\"],[70,\"Methanosaeta\",\"Archaea\",\"Euryarchaeota\",\"OTHERS\"],[71,\"Natronomonas\",\"Archaea\",\"Euryarchaeota\",\"OTHERS\"],[72,\"Haloquadratum\",\"Archaea\",\"Euryarchaeota\",\"OTHERS\"],[73,\"Haloarcula\",\"Archaea\",\"Euryarchaeota\",\"OTHERS\"],[74,\"Natronomonas\",\"Archaea\",\"Euryarchaeota\",\"OTHERS\"],[75,\"Halobacterium\",\"Archaea\",\"Euryarchaeota\",\"OTHERS\"],[76,\"Archaeoglobus\",\"Archaea\",\"Euryarchaeota\",\"OTHERS\"],[77,\"Thermoplasma\",\"Archaea\",\"Euryarchaeota\",\"OTHERS\"],[78,\"Thermofilum\",\"Archaea\",\"Crenarchaeota\",\"OTHERS\"],[79,\"Caldivirga\",\"Archaea\",\"Crenarchaeota\",\"OTHERS\"],[80,\"Sulfolobus\",\"Archaea\",\"Crenarchaeota\",\"OTHERS\"],[81,\"Sulfolobus\",\"Archaea\",\"Crenarchaeota\",\"OTHERS\"],[82,\"Sulfolobus\",\"Archaea\",\"Crenarchaeota\",\"OTHERS\"],[83,\"Hyperthermus\",\"Archaea\",\"Crenarchaeota\",\"OTHERS\"],[84,\"Aeropyrum\",\"Archaea\",\"Crenarchaeota\",\"OTHERS\"],[85,\"Metallosphaera\",\"Archaea\",\"Crenarchaeota\",\"OTHERS\"],[86,\"Sulfolobus\",\"Archaea\",\"Crenarchaeota\",\"OTHERS\"],[87,\"Sulfolobus\",\"Archaea\",\"Crenarchaeota\",\"OTHERS\"],[88,\"Staphylothermus\",\"Archaea\",\"Crenarchaeota\",\"OTHERS\"],[89,\"Aeropyrum\",\"Archaea\",\"Crenarchaeota\",\"OTHERS\"]],\"hovertemplate\":\"<b>%{hovertext}</b><br><br>Kingdom=%{customdata[2]}<br>pm1=%{x}<br>pm2=%{y}<br>Unnamed: 0=%{customdata[0]}<br>Species=%{customdata[1]}<br>Family=%{customdata[3]}<br>Color_eukaryota=%{customdata[4]}<extra></extra>\",\"hovertext\":[\"Archaea\",\"Archaea\",\"Archaea\",\"Archaea\",\"Archaea\",\"Archaea\",\"Archaea\",\"Archaea\",\"Archaea\",\"Archaea\",\"Archaea\",\"Archaea\",\"Archaea\",\"Archaea\",\"Archaea\",\"Archaea\",\"Archaea\",\"Archaea\",\"Archaea\",\"Archaea\",\"Archaea\",\"Archaea\",\"Archaea\",\"Archaea\",\"Archaea\",\"Archaea\",\"Archaea\",\"Archaea\"],\"legendgroup\":\"Archaea\",\"marker\":{\"color\":\"#ff0000\",\"symbol\":\"circle\"},\"mode\":\"markers\",\"name\":\"Archaea\",\"orientation\":\"v\",\"showlegend\":true,\"x\":[0.20612599,0.1019516,0.03265355,0.17626055,0.17642745,-0.053208943,-0.06653563,0.327191,0.37916875,-0.08388916,-0.089336336,-0.09375717,-0.040630043,-0.07796227,0.116339475,0.08195666,0.26498067,0.01931581,-0.04182314,-0.03586334,-0.041493356,0.15418682,0.16320363,0.19525325,0.15933071,0.17678572,0.22604832,0.2932314],\"xaxis\":\"x\",\"y\":[-0.008712659,-0.18376373,-0.2033935,-0.09225356,-0.09174974,-0.3469995,0.21421278,0.046584513,0.08937337,0.7302229,0.74159443,0.7322303,0.7244389,0.736704,-0.0476018,0.042008072,-0.08041127,-0.35878596,-0.34749103,-0.3330807,-0.34721553,-0.34671915,-0.3447164,-0.3226127,-0.2983674,-0.3205516,-0.3818146,-0.32630885],\"yaxis\":\"y\",\"type\":\"scatter\",\"textposition\":\"top right\"},{\"customdata\":[[90,\"Clostridium\",\"Bacteria\",\"Firmicutes\",\"OTHERS\"],[91,\"Thermoanaerobacter\",\"Bacteria\",\"Firmicutes\",\"OTHERS\"],[92,\"Bacillus\",\"Bacteria\",\"Firmicutes\",\"OTHERS\"],[93,\"Bacillus\",\"Bacteria\",\"Firmicutes\",\"OTHERS\"],[94,\"Streptococcus\",\"Bacteria\",\"Firmicutes\",\"OTHERS\"],[95,\"Enterococcus\",\"Bacteria\",\"Firmicutes\",\"OTHERS\"],[96,\"Listeria\",\"Bacteria\",\"Firmicutes\",\"OTHERS\"],[97,\"Lactobacillus\",\"Bacteria\",\"Firmicutes\",\"OTHERS\"],[98,\"Lactobacillus\",\"Bacteria\",\"Firmicutes\",\"OTHERS\"],[99,\"Staphylococcus\",\"Bacteria\",\"Firmicutes\",\"OTHERS\"],[100,\"Geobacillus\",\"Bacteria\",\"Firmicutes\",\"OTHERS\"],[101,\"Bacillus\",\"Bacteria\",\"Firmicutes\",\"OTHERS\"],[102,\"Bacillus\",\"Bacteria\",\"Firmicutes\",\"OTHERS\"],[103,\"Lactobacillus\",\"Bacteria\",\"Firmicutes\",\"OTHERS\"],[104,\"Listeria\",\"Bacteria\",\"Firmicutes\",\"OTHERS\"],[105,\"Enterococcus\",\"Bacteria\",\"Firmicutes\",\"OTHERS\"],[106,\"Streptococcus\",\"Bacteria\",\"Firmicutes\",\"OTHERS\"],[107,\"Clostridium\",\"Bacteria\",\"Firmicutes\",\"OTHERS\"],[108,\"Clostridium\",\"Bacteria\",\"Firmicutes\",\"OTHERS\"],[109,\"Clostridium\",\"Bacteria\",\"Firmicutes\",\"OTHERS\"],[110,\"Clostridium\",\"Bacteria\",\"Firmicutes\",\"OTHERS\"],[111,\"Thermoanaerobacter\",\"Bacteria\",\"Firmicutes\",\"OTHERS\"],[112,\"Chlamydia\",\"Bacteria\",\"Chlamydiae\",\"OTHERS\"],[113,\"Chlamydophila\",\"Bacteria\",\"Chlamydiae\",\"OTHERS\"],[114,\"Chlorobium\",\"Bacteria\",\"Chlorobi\",\"OTHERS\"],[115,\"Chlorobium\",\"Bacteria\",\"Chlorobi\",\"OTHERS\"],[116,\"Bacteroides\",\"Bacteria\",\"Bacteroidetes\",\"OTHERS\"],[117,\"Flavobacterium\",\"Bacteria\",\"Bacteroidetes\",\"OTHERS\"],[118,\"Porphyromonas\",\"Bacteria\",\"Bacteroidetes\",\"OTHERS\"],[119,\"Bacteroides\",\"Bacteria\",\"Bacteroidetes\",\"OTHERS\"],[120,\"Bacteroides\",\"Bacteria\",\"Bacteroidetes\",\"OTHERS\"],[121,\"Porphyromonas\",\"Bacteria\",\"Bacteroidetes\",\"OTHERS\"],[122,\"Bacteroides\",\"Bacteria\",\"Bacteroidetes\",\"OTHERS\"],[123,\"Bacteroides\",\"Bacteria\",\"Bacteroidetes\",\"OTHERS\"],[124,\"Rhodopirellula\",\"Bacteria\",\"Planctomycetes\",\"OTHERS\"],[125,\"Rhodopirellula\",\"Bacteria\",\"Planctomycetes\",\"OTHERS\"],[126,\"Mycobacterium\",\"Bacteria\",\"Actinobacteria\",\"OTHERS\"],[127,\"Mycobacterium\",\"Bacteria\",\"Actinobacteria\",\"OTHERS\"],[128,\"Corynebacterium\",\"Bacteria\",\"Actinobacteria\",\"OTHERS\"],[129,\"Thermobifida\",\"Bacteria\",\"Actinobacteria\",\"OTHERS\"],[130,\"Streptomyces\",\"Bacteria\",\"Actinobacteria\",\"OTHERS\"],[131,\"Thermobifida\",\"Bacteria\",\"Actinobacteria\",\"OTHERS\"],[132,\"Mycobacterium\",\"Bacteria\",\"Actinobacteria\",\"OTHERS\"],[133,\"Streptomyces\",\"Bacteria\",\"Actinobacteria\",\"OTHERS\"],[134,\"Corynebacterium\",\"Bacteria\",\"Actinobacteria\",\"OTHERS\"],[135,\"Streptomyces\",\"Bacteria\",\"Actinobacteria\",\"OTHERS\"],[136,\"Mycobacterium\",\"Bacteria\",\"Actinobacteria\",\"OTHERS\"],[137,\"Thermobifida\",\"Bacteria\",\"Actinobacteria\",\"OTHERS\"],[138,\"Streptomyces\",\"Bacteria\",\"Actinobacteria\",\"OTHERS\"],[139,\"Synechocystis\",\"Bacteria\",\"Cyanobacteria\",\"OTHERS\"],[140,\"Nostoc\",\"Bacteria\",\"Cyanobacteria\",\"OTHERS\"],[141,\"Nostoc\",\"Bacteria\",\"Cyanobacteria\",\"OTHERS\"],[142,\"Synechocystis\",\"Bacteria\",\"Cyanobacteria\",\"OTHERS\"],[143,\"Thermosynechococcus\",\"Bacteria\",\"Cyanobacteria\",\"OTHERS\"],[144,\"Thermosynechococcus\",\"Bacteria\",\"Cyanobacteria\",\"OTHERS\"],[145,\"Synechocystis\",\"Bacteria\",\"Cyanobacteria\",\"OTHERS\"],[146,\"Thermosynechococcus\",\"Bacteria\",\"Cyanobacteria\",\"OTHERS\"],[147,\"Nostoc\",\"Bacteria\",\"Cyanobacteria\",\"OTHERS\"],[148,\"Nostoc\",\"Bacteria\",\"Cyanobacteria\",\"OTHERS\"],[149,\"Thermosynechococcus\",\"Bacteria\",\"Cyanobacteria\",\"OTHERS\"],[150,\"Nostoc\",\"Bacteria\",\"Cyanobacteria\",\"OTHERS\"],[151,\"Prochlorococcus\",\"Bacteria\",\"Cyanobacteria\",\"OTHERS\"],[152,\"Synechocystis\",\"Bacteria\",\"Cyanobacteria\",\"OTHERS\"],[153,\"Nostoc1\",\"Bacteria\",\"Cyanobacteria\",\"OTHERS\"],[159,\"Thermus\",\"Bacteria\",\"Deinococcus-Thermus\",\"OTHERS\"],[160,\"Deinococcus\",\"Bacteria\",\"Deinococcus-Thermus\",\"OTHERS\"],[161,\"Thermus\",\"Bacteria\",\"Deinococcus-Thermus\",\"OTHERS\"],[162,\"Deinococcus\",\"Bacteria\",\"Deinococcus-Thermus\",\"OTHERS\"],[163,\"Dehalococcoides\",\"Bacteria\",\"Chloroflexi\",\"OTHERS\"],[164,\"Chloroflexus\",\"Bacteria\",\"Chloroflexi\",\"OTHERS\"],[165,\"Chloroflexus\",\"Bacteria\",\"Chloroflexi\",\"OTHERS\"],[166,\"Chloroflexus\",\"Bacteria\",\"Chloroflexi\",\"OTHERS\"],[167,\"Aquifex\",\"Bacteria\",\"Aquificae\",\"OTHERS\"],[168,\"Bdellovibrio\",\"Bacteria\",\"Proteobacteria\",\"OTHERS\"],[169,\"Geobacter\",\"Bacteria\",\"Proteobacteria\",\"OTHERS\"],[170,\"Bdellovibrio\",\"Bacteria\",\"Proteobacteria\",\"OTHERS\"],[171,\"Desulfovibrio\",\"Bacteria\",\"Proteobacteria\",\"OTHERS\"],[172,\"Geobacter\",\"Bacteria\",\"Proteobacteria\",\"OTHERS\"],[173,\"Solibacter\",\"Bacteria\",\"Acidobacteria\",\"OTHERS\"],[174,\"Solibacter\",\"Bacteria\",\"Acidobacteria\",\"OTHERS\"],[175,\"Acidobacteria\",\"Bacteria\",\"Acidobacteria\",\"OTHERS\"],[176,\"Wolinella\",\"Bacteria\",\"Proteobacteria\",\"OTHERS\"],[177,\"Helicobacter\",\"Bacteria\",\"Proteobacteria\",\"OTHERS\"],[178,\"Campylobacter\",\"Bacteria\",\"Proteobacteria\",\"OTHERS\"],[179,\"Helicobacter\",\"Bacteria\",\"Proteobacteria\",\"OTHERS\"],[180,\"Wolinella\",\"Bacteria\",\"Proteobacteria\",\"OTHERS\"],[181,\"Wolinella\",\"Bacteria\",\"Proteobacteria\",\"OTHERS\"],[182,\"Agrobacterium\",\"Bacteria\",\"Proteobacteria\",\"OTHERS\"],[183,\"Sinorhizobium\",\"Bacteria\",\"Proteobacteria\",\"OTHERS\"],[184,\"Brucella\",\"Bacteria\",\"Proteobacteria\",\"OTHERS\"],[185,\"Rickettsia\",\"Bacteria\",\"Proteobacteria\",\"OTHERS\"],[191,\"Thiobacillus\",\"Bacteria\",\"Proteobacteria\",\"OTHERS\"],[192,\"Neisseria\",\"Bacteria\",\"Proteobacteria\",\"OTHERS\"],[193,\"Thiobacillus\",\"Bacteria\",\"Proteobacteria\",\"OTHERS\"],[194,\"Burkholderia\",\"Bacteria\",\"Proteobacteria\",\"OTHERS\"],[195,\"Bordetella\",\"Bacteria\",\"Proteobacteria\",\"OTHERS\"],[196,\"Thiobacillus\",\"Bacteria\",\"Proteobacteria\",\"OTHERS\"],[197,\"Thiobacillus\",\"Bacteria\",\"Proteobacteria\",\"OTHERS\"],[198,\"Bordetella\",\"Bacteria\",\"Proteobacteria\",\"OTHERS\"],[199,\"Pseudomonas\",\"Bacteria\",\"Proteobacteria\",\"OTHERS\"],[200,\"Vibrio\",\"Bacteria\",\"Proteobacteria\",\"OTHERS\"],[201,\"Yersinia\",\"Bacteria\",\"Proteobacteria\",\"OTHERS\"],[202,\"Salmonella\",\"Bacteria\",\"Proteobacteria\",\"OTHERS\"],[203,\"Shigella\",\"Bacteria\",\"Proteobacteria\",\"OTHERS\"],[204,\"Escherichia\",\"Bacteria\",\"Proteobacteria\",\"OTHERS\"],[205,\"Escherichia\",\"Bacteria\",\"Proteobacteria\",\"OTHERS\"],[206,\"Shigella\",\"Bacteria\",\"Proteobacteria\",\"OTHERS\"],[207,\"Salmonella\",\"Bacteria\",\"Proteobacteria\",\"OTHERS\"],[208,\"Yersinia\",\"Bacteria\",\"Proteobacteria\",\"OTHERS\"],[209,\"Vibrio\",\"Bacteria\",\"Proteobacteria\",\"OTHERS\"]],\"hovertemplate\":\"<b>%{hovertext}</b><br><br>Kingdom=%{customdata[2]}<br>pm1=%{x}<br>pm2=%{y}<br>Unnamed: 0=%{customdata[0]}<br>Species=%{customdata[1]}<br>Family=%{customdata[3]}<br>Color_eukaryota=%{customdata[4]}<extra></extra>\",\"hovertext\":[\"Bacteria\",\"Bacteria\",\"Bacteria\",\"Bacteria\",\"Bacteria\",\"Bacteria\",\"Bacteria\",\"Bacteria\",\"Bacteria\",\"Bacteria\",\"Bacteria\",\"Bacteria\",\"Bacteria\",\"Bacteria\",\"Bacteria\",\"Bacteria\",\"Bacteria\",\"Bacteria\",\"Bacteria\",\"Bacteria\",\"Bacteria\",\"Bacteria\",\"Bacteria\",\"Bacteria\",\"Bacteria\",\"Bacteria\",\"Bacteria\",\"Bacteria\",\"Bacteria\",\"Bacteria\",\"Bacteria\",\"Bacteria\",\"Bacteria\",\"Bacteria\",\"Bacteria\",\"Bacteria\",\"Bacteria\",\"Bacteria\",\"Bacteria\",\"Bacteria\",\"Bacteria\",\"Bacteria\",\"Bacteria\",\"Bacteria\",\"Bacteria\",\"Bacteria\",\"Bacteria\",\"Bacteria\",\"Bacteria\",\"Bacteria\",\"Bacteria\",\"Bacteria\",\"Bacteria\",\"Bacteria\",\"Bacteria\",\"Bacteria\",\"Bacteria\",\"Bacteria\",\"Bacteria\",\"Bacteria\",\"Bacteria\",\"Bacteria\",\"Bacteria\",\"Bacteria\",\"Bacteria\",\"Bacteria\",\"Bacteria\",\"Bacteria\",\"Bacteria\",\"Bacteria\",\"Bacteria\",\"Bacteria\",\"Bacteria\",\"Bacteria\",\"Bacteria\",\"Bacteria\",\"Bacteria\",\"Bacteria\",\"Bacteria\",\"Bacteria\",\"Bacteria\",\"Bacteria\",\"Bacteria\",\"Bacteria\",\"Bacteria\",\"Bacteria\",\"Bacteria\",\"Bacteria\",\"Bacteria\",\"Bacteria\",\"Bacteria\",\"Bacteria\",\"Bacteria\",\"Bacteria\",\"Bacteria\",\"Bacteria\",\"Bacteria\",\"Bacteria\",\"Bacteria\",\"Bacteria\",\"Bacteria\",\"Bacteria\",\"Bacteria\",\"Bacteria\",\"Bacteria\",\"Bacteria\",\"Bacteria\",\"Bacteria\",\"Bacteria\",\"Bacteria\"],\"legendgroup\":\"Bacteria\",\"marker\":{\"color\":\"#34b8e7\",\"symbol\":\"circle\"},\"mode\":\"markers\",\"name\":\"Bacteria\",\"orientation\":\"v\",\"showlegend\":true,\"x\":[0.5040069,-0.24493484,0.47298962,-0.4425568,-0.4460212,-0.5066077,0.11591191,0.0354625,0.0060688993,0.038903914,-0.015153,-0.10979977,-0.05422822,-0.061798874,-0.06273006,-0.06099645,-0.05905825,0.063876815,-0.013105983,0.084597155,0.11514125,0.43812075,-0.10606117,-0.25023285,0.60114247,0.2567983,0.47989705,0.40690038,0.41359827,0.3692386,0.19888364,0.16267529,0.14345936,0.14294769,0.25462425,0.39238596,0.20937082,0.17825927,0.18820812,0.18943547,0.19311011,0.22331685,0.5082831,0.5062294,0.36676648,0.5304242,0.4763313,0.43697983,0.43220982,0.33621347,0.34850705,0.4944681,0.4924073,0.48007292,0.35752845,0.2507609,0.24830408,0.37394655,0.35461435,0.5294296,0.62031305,0.6853675,0.58291686,0.5432263,0.6530208,0.62219614,0.3049297,0.23201871,0.3036325,0.5299213,0.35496226,0.29009506,0.2356973,0.1661885,0.7611729,0.50053394,0.4309682,0.23331903,0.6898903,0.23371972,0.22608489,-0.04324382,-0.03523984,-0.10813586,-0.13345234,0.2033479,0.20609,0.39940578,0.4023528,0.389027,0.60773945,0.41142613,0.28230938,0.34323567,0.325576,0.3557916,0.82621276,0.2033448,0.15955792,0.36517972,0.3242402,0.34766698,0.34160644,0.3491454,0.36489522,0.8683527,0.8603352,0.84762776,0.8652963,0.85996747],\"xaxis\":\"x\",\"y\":[0.09392761,-0.130921,0.55816126,0.38143396,0.1790247,0.000974581,0.5759956,0.06129074,0.16969559,0.27638572,0.30931202,0.31256753,0.3042654,0.371079,0.366412,0.3718005,0.37204617,0.09200823,0.25174934,0.07977303,0.024093062,0.011051653,0.6046432,0.4392662,0.21378578,0.03459018,0.15902598,-0.08747836,-0.18823919,-0.13635924,0.4285746,0.29109663,0.25527,0.2555792,0.21689159,0.2696938,-0.8875581,-0.8909619,-0.8699052,-0.8181566,-0.84682655,-0.84322137,0.29434073,0.3051776,0.02289036,0.39288884,0.30756667,0.3889018,0.41202927,0.42588177,0.4718529,0.16870992,0.21126285,0.15935723,-0.09040809,0.3959612,0.48897213,0.31219527,0.15791759,0.07986674,0.12296761,0.17355375,0.18630831,0.062537745,-0.118381925,-0.055205166,0.26484963,0.13545136,-0.019556904,-0.08009967,0.28542045,0.36536145,0.19068073,-0.83963746,-0.13494243,0.4259467,0.12233977,0.242193,-0.09248562,0.26179278,0.25558406,-0.043105245,0.0026768777,-0.013940074,-0.029684927,0.06992514,0.06081779,0.28572446,0.27166802,0.2871054,0.2866308,0.52622736,0.5801796,0.602579,0.5873442,0.6089816,-0.16090378,-0.8611851,-0.8656354,0.585695,0.5447334,0.55161905,0.52714956,0.53784776,0.5230701,-0.14170918,-0.14833026,-0.14284891,-0.16014732,-0.11685125],\"yaxis\":\"y\",\"type\":\"scatter\",\"textposition\":\"top right\"}],                        {\"template\":{\"data\":{\"histogram2dcontour\":[{\"type\":\"histogram2dcontour\",\"colorbar\":{\"outlinewidth\":0,\"ticks\":\"\"},\"colorscale\":[[0.0,\"#0d0887\"],[0.1111111111111111,\"#46039f\"],[0.2222222222222222,\"#7201a8\"],[0.3333333333333333,\"#9c179e\"],[0.4444444444444444,\"#bd3786\"],[0.5555555555555556,\"#d8576b\"],[0.6666666666666666,\"#ed7953\"],[0.7777777777777778,\"#fb9f3a\"],[0.8888888888888888,\"#fdca26\"],[1.0,\"#f0f921\"]]}],\"choropleth\":[{\"type\":\"choropleth\",\"colorbar\":{\"outlinewidth\":0,\"ticks\":\"\"}}],\"histogram2d\":[{\"type\":\"histogram2d\",\"colorbar\":{\"outlinewidth\":0,\"ticks\":\"\"},\"colorscale\":[[0.0,\"#0d0887\"],[0.1111111111111111,\"#46039f\"],[0.2222222222222222,\"#7201a8\"],[0.3333333333333333,\"#9c179e\"],[0.4444444444444444,\"#bd3786\"],[0.5555555555555556,\"#d8576b\"],[0.6666666666666666,\"#ed7953\"],[0.7777777777777778,\"#fb9f3a\"],[0.8888888888888888,\"#fdca26\"],[1.0,\"#f0f921\"]]}],\"heatmap\":[{\"type\":\"heatmap\",\"colorbar\":{\"outlinewidth\":0,\"ticks\":\"\"},\"colorscale\":[[0.0,\"#0d0887\"],[0.1111111111111111,\"#46039f\"],[0.2222222222222222,\"#7201a8\"],[0.3333333333333333,\"#9c179e\"],[0.4444444444444444,\"#bd3786\"],[0.5555555555555556,\"#d8576b\"],[0.6666666666666666,\"#ed7953\"],[0.7777777777777778,\"#fb9f3a\"],[0.8888888888888888,\"#fdca26\"],[1.0,\"#f0f921\"]]}],\"heatmapgl\":[{\"type\":\"heatmapgl\",\"colorbar\":{\"outlinewidth\":0,\"ticks\":\"\"},\"colorscale\":[[0.0,\"#0d0887\"],[0.1111111111111111,\"#46039f\"],[0.2222222222222222,\"#7201a8\"],[0.3333333333333333,\"#9c179e\"],[0.4444444444444444,\"#bd3786\"],[0.5555555555555556,\"#d8576b\"],[0.6666666666666666,\"#ed7953\"],[0.7777777777777778,\"#fb9f3a\"],[0.8888888888888888,\"#fdca26\"],[1.0,\"#f0f921\"]]}],\"contourcarpet\":[{\"type\":\"contourcarpet\",\"colorbar\":{\"outlinewidth\":0,\"ticks\":\"\"}}],\"contour\":[{\"type\":\"contour\",\"colorbar\":{\"outlinewidth\":0,\"ticks\":\"\"},\"colorscale\":[[0.0,\"#0d0887\"],[0.1111111111111111,\"#46039f\"],[0.2222222222222222,\"#7201a8\"],[0.3333333333333333,\"#9c179e\"],[0.4444444444444444,\"#bd3786\"],[0.5555555555555556,\"#d8576b\"],[0.6666666666666666,\"#ed7953\"],[0.7777777777777778,\"#fb9f3a\"],[0.8888888888888888,\"#fdca26\"],[1.0,\"#f0f921\"]]}],\"surface\":[{\"type\":\"surface\",\"colorbar\":{\"outlinewidth\":0,\"ticks\":\"\"},\"colorscale\":[[0.0,\"#0d0887\"],[0.1111111111111111,\"#46039f\"],[0.2222222222222222,\"#7201a8\"],[0.3333333333333333,\"#9c179e\"],[0.4444444444444444,\"#bd3786\"],[0.5555555555555556,\"#d8576b\"],[0.6666666666666666,\"#ed7953\"],[0.7777777777777778,\"#fb9f3a\"],[0.8888888888888888,\"#fdca26\"],[1.0,\"#f0f921\"]]}],\"mesh3d\":[{\"type\":\"mesh3d\",\"colorbar\":{\"outlinewidth\":0,\"ticks\":\"\"}}],\"scatter\":[{\"fillpattern\":{\"fillmode\":\"overlay\",\"size\":10,\"solidity\":0.2},\"type\":\"scatter\"}],\"parcoords\":[{\"type\":\"parcoords\",\"line\":{\"colorbar\":{\"outlinewidth\":0,\"ticks\":\"\"}}}],\"scatterpolargl\":[{\"type\":\"scatterpolargl\",\"marker\":{\"colorbar\":{\"outlinewidth\":0,\"ticks\":\"\"}}}],\"bar\":[{\"error_x\":{\"color\":\"#2a3f5f\"},\"error_y\":{\"color\":\"#2a3f5f\"},\"marker\":{\"line\":{\"color\":\"#E5ECF6\",\"width\":0.5},\"pattern\":{\"fillmode\":\"overlay\",\"size\":10,\"solidity\":0.2}},\"type\":\"bar\"}],\"scattergeo\":[{\"type\":\"scattergeo\",\"marker\":{\"colorbar\":{\"outlinewidth\":0,\"ticks\":\"\"}}}],\"scatterpolar\":[{\"type\":\"scatterpolar\",\"marker\":{\"colorbar\":{\"outlinewidth\":0,\"ticks\":\"\"}}}],\"histogram\":[{\"marker\":{\"pattern\":{\"fillmode\":\"overlay\",\"size\":10,\"solidity\":0.2}},\"type\":\"histogram\"}],\"scattergl\":[{\"type\":\"scattergl\",\"marker\":{\"colorbar\":{\"outlinewidth\":0,\"ticks\":\"\"}}}],\"scatter3d\":[{\"type\":\"scatter3d\",\"line\":{\"colorbar\":{\"outlinewidth\":0,\"ticks\":\"\"}},\"marker\":{\"colorbar\":{\"outlinewidth\":0,\"ticks\":\"\"}}}],\"scattermapbox\":[{\"type\":\"scattermapbox\",\"marker\":{\"colorbar\":{\"outlinewidth\":0,\"ticks\":\"\"}}}],\"scatterternary\":[{\"type\":\"scatterternary\",\"marker\":{\"colorbar\":{\"outlinewidth\":0,\"ticks\":\"\"}}}],\"scattercarpet\":[{\"type\":\"scattercarpet\",\"marker\":{\"colorbar\":{\"outlinewidth\":0,\"ticks\":\"\"}}}],\"carpet\":[{\"aaxis\":{\"endlinecolor\":\"#2a3f5f\",\"gridcolor\":\"white\",\"linecolor\":\"white\",\"minorgridcolor\":\"white\",\"startlinecolor\":\"#2a3f5f\"},\"baxis\":{\"endlinecolor\":\"#2a3f5f\",\"gridcolor\":\"white\",\"linecolor\":\"white\",\"minorgridcolor\":\"white\",\"startlinecolor\":\"#2a3f5f\"},\"type\":\"carpet\"}],\"table\":[{\"cells\":{\"fill\":{\"color\":\"#EBF0F8\"},\"line\":{\"color\":\"white\"}},\"header\":{\"fill\":{\"color\":\"#C8D4E3\"},\"line\":{\"color\":\"white\"}},\"type\":\"table\"}],\"barpolar\":[{\"marker\":{\"line\":{\"color\":\"#E5ECF6\",\"width\":0.5},\"pattern\":{\"fillmode\":\"overlay\",\"size\":10,\"solidity\":0.2}},\"type\":\"barpolar\"}],\"pie\":[{\"automargin\":true,\"type\":\"pie\"}]},\"layout\":{\"autotypenumbers\":\"strict\",\"colorway\":[\"#636efa\",\"#EF553B\",\"#00cc96\",\"#ab63fa\",\"#FFA15A\",\"#19d3f3\",\"#FF6692\",\"#B6E880\",\"#FF97FF\",\"#FECB52\"],\"font\":{\"color\":\"#2a3f5f\"},\"hovermode\":\"closest\",\"hoverlabel\":{\"align\":\"left\"},\"paper_bgcolor\":\"white\",\"plot_bgcolor\":\"#E5ECF6\",\"polar\":{\"bgcolor\":\"#E5ECF6\",\"angularaxis\":{\"gridcolor\":\"white\",\"linecolor\":\"white\",\"ticks\":\"\"},\"radialaxis\":{\"gridcolor\":\"white\",\"linecolor\":\"white\",\"ticks\":\"\"}},\"ternary\":{\"bgcolor\":\"#E5ECF6\",\"aaxis\":{\"gridcolor\":\"white\",\"linecolor\":\"white\",\"ticks\":\"\"},\"baxis\":{\"gridcolor\":\"white\",\"linecolor\":\"white\",\"ticks\":\"\"},\"caxis\":{\"gridcolor\":\"white\",\"linecolor\":\"white\",\"ticks\":\"\"}},\"coloraxis\":{\"colorbar\":{\"outlinewidth\":0,\"ticks\":\"\"}},\"colorscale\":{\"sequential\":[[0.0,\"#0d0887\"],[0.1111111111111111,\"#46039f\"],[0.2222222222222222,\"#7201a8\"],[0.3333333333333333,\"#9c179e\"],[0.4444444444444444,\"#bd3786\"],[0.5555555555555556,\"#d8576b\"],[0.6666666666666666,\"#ed7953\"],[0.7777777777777778,\"#fb9f3a\"],[0.8888888888888888,\"#fdca26\"],[1.0,\"#f0f921\"]],\"sequentialminus\":[[0.0,\"#0d0887\"],[0.1111111111111111,\"#46039f\"],[0.2222222222222222,\"#7201a8\"],[0.3333333333333333,\"#9c179e\"],[0.4444444444444444,\"#bd3786\"],[0.5555555555555556,\"#d8576b\"],[0.6666666666666666,\"#ed7953\"],[0.7777777777777778,\"#fb9f3a\"],[0.8888888888888888,\"#fdca26\"],[1.0,\"#f0f921\"]],\"diverging\":[[0,\"#8e0152\"],[0.1,\"#c51b7d\"],[0.2,\"#de77ae\"],[0.3,\"#f1b6da\"],[0.4,\"#fde0ef\"],[0.5,\"#f7f7f7\"],[0.6,\"#e6f5d0\"],[0.7,\"#b8e186\"],[0.8,\"#7fbc41\"],[0.9,\"#4d9221\"],[1,\"#276419\"]]},\"xaxis\":{\"gridcolor\":\"white\",\"linecolor\":\"white\",\"ticks\":\"\",\"title\":{\"standoff\":15},\"zerolinecolor\":\"white\",\"automargin\":true,\"zerolinewidth\":2},\"yaxis\":{\"gridcolor\":\"white\",\"linecolor\":\"white\",\"ticks\":\"\",\"title\":{\"standoff\":15},\"zerolinecolor\":\"white\",\"automargin\":true,\"zerolinewidth\":2},\"scene\":{\"xaxis\":{\"backgroundcolor\":\"#E5ECF6\",\"gridcolor\":\"white\",\"linecolor\":\"white\",\"showbackground\":true,\"ticks\":\"\",\"zerolinecolor\":\"white\",\"gridwidth\":2},\"yaxis\":{\"backgroundcolor\":\"#E5ECF6\",\"gridcolor\":\"white\",\"linecolor\":\"white\",\"showbackground\":true,\"ticks\":\"\",\"zerolinecolor\":\"white\",\"gridwidth\":2},\"zaxis\":{\"backgroundcolor\":\"#E5ECF6\",\"gridcolor\":\"white\",\"linecolor\":\"white\",\"showbackground\":true,\"ticks\":\"\",\"zerolinecolor\":\"white\",\"gridwidth\":2}},\"shapedefaults\":{\"line\":{\"color\":\"#2a3f5f\"}},\"annotationdefaults\":{\"arrowcolor\":\"#2a3f5f\",\"arrowhead\":0,\"arrowwidth\":1},\"geo\":{\"bgcolor\":\"white\",\"landcolor\":\"#E5ECF6\",\"subunitcolor\":\"white\",\"showland\":true,\"showlakes\":true,\"lakecolor\":\"white\"},\"title\":{\"x\":0.05},\"mapbox\":{\"style\":\"light\"}}},\"xaxis\":{\"anchor\":\"y\",\"domain\":[0.0,1.0],\"title\":{\"text\":\"pm1\"},\"range\":[-1.1,1.1],\"constrain\":\"domain\"},\"yaxis\":{\"anchor\":\"x\",\"domain\":[0.0,1.0],\"title\":{\"text\":\"pm2\"},\"scaleanchor\":\"x\",\"scaleratio\":1},\"legend\":{\"title\":{\"text\":\"Kingdom\"},\"tracegroupgap\":0},\"title\":{\"text\":\"Poincar\\u00e9 Map projection of thioredoxins colored by kingdom of life\",\"x\":0.5},\"height\":800,\"annotations\":[{\"arrowhead\":1,\"showarrow\":true,\"text\":\"LBCA\",\"x\":0.18389252,\"y\":0.108608946},{\"arrowhead\":1,\"showarrow\":true,\"text\":\"LACA\",\"x\":0.111037545,\"y\":-0.1417153},{\"arrowhead\":1,\"showarrow\":true,\"text\":\"AECA\",\"x\":0.050592925,\"y\":-0.098363124},{\"arrowhead\":1,\"showarrow\":true,\"text\":\"LGPCA\",\"x\":0.313914,\"y\":0.43765968},{\"arrowhead\":1,\"showarrow\":true,\"text\":\"LECA\",\"x\":-0.63303715,\"y\":-0.0017171632},{\"arrowhead\":1,\"showarrow\":true,\"text\":\"LPBCA\",\"x\":0.30017877,\"y\":0.15301032},{\"arrowhead\":1,\"showarrow\":true,\"text\":\"LAFCA\",\"x\":-0.6711158,\"y\":-0.028322173}],\"shapes\":[{\"line\":{\"color\":\"black\",\"dash\":\"dot\"},\"opacity\":0.15,\"type\":\"circle\",\"x0\":-0.47058823529411764,\"x1\":0.47058823529411764,\"y0\":-0.47058823529411764,\"y1\":0.47058823529411764},{\"line\":{\"color\":\"black\",\"dash\":\"dot\"},\"opacity\":0.15,\"type\":\"circle\",\"x0\":-0.6447368421052633,\"x1\":0.6447368421052633,\"y0\":-0.6447368421052633,\"y1\":0.6447368421052633},{\"line\":{\"color\":\"black\",\"dash\":\"dot\"},\"opacity\":0.15,\"type\":\"circle\",\"x0\":-0.7705382436260623,\"x1\":0.7705382436260623,\"y0\":-0.7705382436260623,\"y1\":0.7705382436260623},{\"line\":{\"color\":\"black\",\"dash\":\"dot\"},\"opacity\":0.15,\"type\":\"circle\",\"x0\":-0.8557007125890737,\"x1\":0.8557007125890737,\"y0\":-0.8557007125890737,\"y1\":0.8557007125890737},{\"line\":{\"color\":\"black\",\"dash\":\"dot\"},\"opacity\":0.15,\"type\":\"circle\",\"x0\":-0.9108474990827933,\"x1\":0.9108474990827933,\"y0\":-0.9108474990827933,\"y1\":0.9108474990827933},{\"line\":{\"color\":\"black\",\"dash\":\"dot\"},\"opacity\":0.15,\"type\":\"circle\",\"x0\":-0.9455374041239167,\"x1\":0.9455374041239167,\"y0\":-0.9455374041239167,\"y1\":0.9455374041239167},{\"line\":{\"color\":\"Black\"},\"type\":\"circle\",\"x0\":-1,\"x1\":1,\"xref\":\"x\",\"y0\":-1,\"y1\":1,\"yref\":\"y\"},{\"fillcolor\":\"Black\",\"line\":{\"color\":\"Black\"},\"type\":\"circle\",\"x0\":-0.005,\"x1\":0.005,\"xref\":\"x\",\"y0\":-0.005,\"y1\":0.005,\"yref\":\"y\"}],\"yaxis2\":{\"matches\":\"y\",\"layer\":\"below traces\",\"overlaying\":\"y\"},\"plot_bgcolor\":\"rgba(0, 0, 0, 0)\",\"font\":{\"size\":10}},                        {\"responsive\": true}                    ).then(function(){\n",
       "                            \n",
       "var gd = document.getElementById('b9744905-d820-45bd-997f-0bf1a115551c');\n",
       "var x = new MutationObserver(function (mutations, observer) {{\n",
       "        var display = window.getComputedStyle(gd).display;\n",
       "        if (!display || display === 'none') {{\n",
       "            console.log([gd, 'removed!']);\n",
       "            Plotly.purge(gd);\n",
       "            observer.disconnect();\n",
       "        }}\n",
       "}});\n",
       "\n",
       "// Listen for the removal of the full notebook cells\n",
       "var notebookContainer = gd.closest('#notebook-container');\n",
       "if (notebookContainer) {{\n",
       "    x.observe(notebookContainer, {childList: true});\n",
       "}}\n",
       "\n",
       "// Listen for the clearing of the current output cell\n",
       "var outputEl = gd.closest('.output');\n",
       "if (outputEl) {{\n",
       "    x.observe(outputEl, {childList: true});\n",
       "}}\n",
       "\n",
       "                        })                };                });            </script>        </div>"
      ]
     },
     "metadata": {},
     "output_type": "display_data"
    }
   ],
   "source": [
    "trace1 = plot_embedding_interactive(df, \n",
    "                                    labels_name = 'Kingdom',#'1_Group',#'2_Gene', \n",
    "                                    show_text=True, \n",
    "                                    color_palette = trx_palette,\n",
    "                                    title = \"Poincaré Map projection of thioredoxins colored by kingdom of life\", \n",
    "                                    fontsize = 10,\n",
    "                                    labels_text= ['LBCA', 'LACA', 'AECA', 'LGPCA', 'LECA', 'LPBCA', 'LAFCA'], \n",
    "\n",
    "                                    #second_labels_name = \"2_Gene\", \n",
    "                                    #labels_text = [\"RPS6KA1_1\", \"RPS6KA2_1\", \"RPS6KA5_1\", \"RPS6KB2\", \"RPS6KA1_2\", \"RPS6KA2_2\",  \"RPS6KA3_2\",  \"RPS6KA5_2\"] # some sequences of AGC first domain and CAMK second domain (mentionned in the article) to label\n",
    "                                    #labels_text = [\"CLK3_HUMAN\", \"SRPK3_HUMAN\", \"HIPK1_HUMAN\",\"CSK22_HUMAN\"] # some CMGC kinase\n",
    "                              )\n",
    "trace1.write_image(path_to_figures+\"/Thioredoxins_by_kingdom.pdf\")\n",
    "trace1.show()"
   ]
  },
  {
   "cell_type": "code",
   "execution_count": 39,
   "id": "8577b2b4",
   "metadata": {},
   "outputs": [
    {
     "name": "stdout",
     "output_type": "stream",
     "text": [
      "Index(['Unnamed: 0', 'Species', 'Kingdom', 'Family', 'Color_eukaryota'], dtype='object')\n"
     ]
    },
    {
     "data": {
      "application/vnd.plotly.v1+json": {
       "config": {
        "plotlyServerURL": "https://plot.ly"
       },
       "data": [
        {
         "customdata": [
          [
           0,
           "LBCA",
           "LBCA",
           "LBCA",
           "OTHERS"
          ]
         ],
         "hovertemplate": "<b>%{hovertext}</b><br><br>Species=%{customdata[1]}<br>pm1=%{x}<br>pm2=%{y}<br>Unnamed: 0=%{customdata[0]}<br>Kingdom=%{customdata[2]}<br>Family=%{customdata[3]}<br>Color_eukaryota=%{customdata[4]}<extra></extra>",
         "hovertext": [
          "LBCA"
         ],
         "legendgroup": "LBCA",
         "marker": {
          "color": "#34b8e7",
          "symbol": "circle"
         },
         "mode": "markers",
         "name": "LBCA",
         "orientation": "v",
         "showlegend": true,
         "textposition": "top right",
         "type": "scatter",
         "x": [
          0.18389252
         ],
         "xaxis": "x",
         "y": [
          0.108608946
         ],
         "yaxis": "y"
        },
        {
         "customdata": [
          [
           1,
           "LACA",
           "LACA",
           "LACA",
           "OTHERS"
          ]
         ],
         "hovertemplate": "<b>%{hovertext}</b><br><br>Species=%{customdata[1]}<br>pm1=%{x}<br>pm2=%{y}<br>Unnamed: 0=%{customdata[0]}<br>Kingdom=%{customdata[2]}<br>Family=%{customdata[3]}<br>Color_eukaryota=%{customdata[4]}<extra></extra>",
         "hovertext": [
          "LACA"
         ],
         "legendgroup": "LACA",
         "marker": {
          "color": "#ff0000",
          "symbol": "circle"
         },
         "mode": "markers",
         "name": "LACA",
         "orientation": "v",
         "showlegend": true,
         "textposition": "top right",
         "type": "scatter",
         "x": [
          0.111037545
         ],
         "xaxis": "x",
         "y": [
          -0.1417153
         ],
         "yaxis": "y"
        },
        {
         "customdata": [
          [
           2,
           "AECA",
           "AECA",
           "AECA",
           "OTHERS"
          ]
         ],
         "hovertemplate": "<b>%{hovertext}</b><br><br>Species=%{customdata[1]}<br>pm1=%{x}<br>pm2=%{y}<br>Unnamed: 0=%{customdata[0]}<br>Kingdom=%{customdata[2]}<br>Family=%{customdata[3]}<br>Color_eukaryota=%{customdata[4]}<extra></extra>",
         "hovertext": [
          "AECA"
         ],
         "legendgroup": "AECA",
         "marker": {
          "color": "#e7e53c",
          "symbol": "circle"
         },
         "mode": "markers",
         "name": "AECA",
         "orientation": "v",
         "showlegend": true,
         "textposition": "top right",
         "type": "scatter",
         "x": [
          0.050592925
         ],
         "xaxis": "x",
         "y": [
          -0.098363124
         ],
         "yaxis": "y"
        },
        {
         "customdata": [
          [
           3,
           "LGPCA",
           "LGPCA",
           "LGPCA",
           "OTHERS"
          ]
         ],
         "hovertemplate": "<b>%{hovertext}</b><br><br>Species=%{customdata[1]}<br>pm1=%{x}<br>pm2=%{y}<br>Unnamed: 0=%{customdata[0]}<br>Kingdom=%{customdata[2]}<br>Family=%{customdata[3]}<br>Color_eukaryota=%{customdata[4]}<extra></extra>",
         "hovertext": [
          "LGPCA"
         ],
         "legendgroup": "LGPCA",
         "marker": {
          "color": "#34b8e7",
          "symbol": "circle"
         },
         "mode": "markers",
         "name": "LGPCA",
         "orientation": "v",
         "showlegend": true,
         "textposition": "top right",
         "type": "scatter",
         "x": [
          0.313914
         ],
         "xaxis": "x",
         "y": [
          0.43765968
         ],
         "yaxis": "y"
        },
        {
         "customdata": [
          [
           4,
           "LECA",
           "LECA",
           "LECA",
           "OTHERS"
          ]
         ],
         "hovertemplate": "<b>%{hovertext}</b><br><br>Species=%{customdata[1]}<br>pm1=%{x}<br>pm2=%{y}<br>Unnamed: 0=%{customdata[0]}<br>Kingdom=%{customdata[2]}<br>Family=%{customdata[3]}<br>Color_eukaryota=%{customdata[4]}<extra></extra>",
         "hovertext": [
          "LECA"
         ],
         "legendgroup": "LECA",
         "marker": {
          "color": "#21e548",
          "symbol": "circle"
         },
         "mode": "markers",
         "name": "LECA",
         "orientation": "v",
         "showlegend": true,
         "textposition": "top right",
         "type": "scatter",
         "x": [
          -0.63303715
         ],
         "xaxis": "x",
         "y": [
          -0.0017171632
         ],
         "yaxis": "y"
        },
        {
         "customdata": [
          [
           5,
           "LPBCA",
           "LPBCA",
           "LPBCA",
           "OTHERS"
          ]
         ],
         "hovertemplate": "<b>%{hovertext}</b><br><br>Species=%{customdata[1]}<br>pm1=%{x}<br>pm2=%{y}<br>Unnamed: 0=%{customdata[0]}<br>Kingdom=%{customdata[2]}<br>Family=%{customdata[3]}<br>Color_eukaryota=%{customdata[4]}<extra></extra>",
         "hovertext": [
          "LPBCA"
         ],
         "legendgroup": "LPBCA",
         "marker": {
          "color": "#34b8e7",
          "symbol": "circle"
         },
         "mode": "markers",
         "name": "LPBCA",
         "orientation": "v",
         "showlegend": true,
         "textposition": "top right",
         "type": "scatter",
         "x": [
          0.30017877
         ],
         "xaxis": "x",
         "y": [
          0.15301032
         ],
         "yaxis": "y"
        },
        {
         "customdata": [
          [
           6,
           "LAFCA",
           "LAFCA",
           "LAFCA",
           "OTHERS"
          ]
         ],
         "hovertemplate": "<b>%{hovertext}</b><br><br>Species=%{customdata[1]}<br>pm1=%{x}<br>pm2=%{y}<br>Unnamed: 0=%{customdata[0]}<br>Kingdom=%{customdata[2]}<br>Family=%{customdata[3]}<br>Color_eukaryota=%{customdata[4]}<extra></extra>",
         "hovertext": [
          "LAFCA"
         ],
         "legendgroup": "LAFCA",
         "marker": {
          "color": "#21e548",
          "symbol": "circle"
         },
         "mode": "markers",
         "name": "LAFCA",
         "orientation": "v",
         "showlegend": true,
         "textposition": "top right",
         "type": "scatter",
         "x": [
          -0.6711158
         ],
         "xaxis": "x",
         "y": [
          -0.028322173
         ],
         "yaxis": "y"
        },
        {
         "customdata": [
          [
           7,
           "Ovis",
           "Eukaryota",
           "Metazoa",
           "EUKARYOTA"
          ]
         ],
         "hovertemplate": "<b>%{hovertext}</b><br><br>Species=%{customdata[1]}<br>pm1=%{x}<br>pm2=%{y}<br>Unnamed: 0=%{customdata[0]}<br>Kingdom=%{customdata[2]}<br>Family=%{customdata[3]}<br>Color_eukaryota=%{customdata[4]}<extra></extra>",
         "hovertext": [
          "Ovis"
         ],
         "legendgroup": "Ovis",
         "marker": {
          "color": "#21e548",
          "symbol": "circle"
         },
         "mode": "markers",
         "name": "Ovis",
         "orientation": "v",
         "showlegend": true,
         "textposition": "top right",
         "type": "scatter",
         "x": [
          -0.84257185
         ],
         "xaxis": "x",
         "y": [
          -0.07941825
         ],
         "yaxis": "y"
        },
        {
         "customdata": [
          [
           8,
           "Bos",
           "Eukaryota",
           "Metazoa",
           "EUKARYOTA"
          ]
         ],
         "hovertemplate": "<b>%{hovertext}</b><br><br>Species=%{customdata[1]}<br>pm1=%{x}<br>pm2=%{y}<br>Unnamed: 0=%{customdata[0]}<br>Kingdom=%{customdata[2]}<br>Family=%{customdata[3]}<br>Color_eukaryota=%{customdata[4]}<extra></extra>",
         "hovertext": [
          "Bos"
         ],
         "legendgroup": "Bos",
         "marker": {
          "color": "#21e548",
          "symbol": "circle"
         },
         "mode": "markers",
         "name": "Bos",
         "orientation": "v",
         "showlegend": true,
         "textposition": "top right",
         "type": "scatter",
         "x": [
          -0.85646325
         ],
         "xaxis": "x",
         "y": [
          -0.05296301
         ],
         "yaxis": "y"
        },
        {
         "customdata": [
          [
           9,
           "Sus",
           "Eukaryota",
           "Metazoa",
           "EUKARYOTA"
          ]
         ],
         "hovertemplate": "<b>%{hovertext}</b><br><br>Species=%{customdata[1]}<br>pm1=%{x}<br>pm2=%{y}<br>Unnamed: 0=%{customdata[0]}<br>Kingdom=%{customdata[2]}<br>Family=%{customdata[3]}<br>Color_eukaryota=%{customdata[4]}<extra></extra>",
         "hovertext": [
          "Sus"
         ],
         "legendgroup": "Sus",
         "marker": {
          "color": "#21e548",
          "symbol": "circle"
         },
         "mode": "markers",
         "name": "Sus",
         "orientation": "v",
         "showlegend": true,
         "textposition": "top right",
         "type": "scatter",
         "x": [
          -0.84598905
         ],
         "xaxis": "x",
         "y": [
          -0.0579008
         ],
         "yaxis": "y"
        },
        {
         "customdata": [
          [
           10,
           "Equus",
           "Eukaryota",
           "Metazoa",
           "EUKARYOTA"
          ],
          [
           187,
           "Equus",
           "Eukaryota",
           "Metazoa",
           "EUKARYOTA"
          ]
         ],
         "hovertemplate": "<b>%{hovertext}</b><br><br>Species=%{customdata[1]}<br>pm1=%{x}<br>pm2=%{y}<br>Unnamed: 0=%{customdata[0]}<br>Kingdom=%{customdata[2]}<br>Family=%{customdata[3]}<br>Color_eukaryota=%{customdata[4]}<extra></extra>",
         "hovertext": [
          "Equus",
          "Equus"
         ],
         "legendgroup": "Equus",
         "marker": {
          "color": "#21e548",
          "symbol": "circle"
         },
         "mode": "markers",
         "name": "Equus",
         "orientation": "v",
         "showlegend": true,
         "textposition": "top right",
         "type": "scatter",
         "x": [
          -0.81090814,
          0.76819754
         ],
         "xaxis": "x",
         "y": [
          -0.08104239,
          -0.49516883
         ],
         "yaxis": "y"
        },
        {
         "customdata": [
          [
           11,
           "Mus",
           "Eukaryota",
           "Metazoa",
           "EUKARYOTA"
          ]
         ],
         "hovertemplate": "<b>%{hovertext}</b><br><br>Species=%{customdata[1]}<br>pm1=%{x}<br>pm2=%{y}<br>Unnamed: 0=%{customdata[0]}<br>Kingdom=%{customdata[2]}<br>Family=%{customdata[3]}<br>Color_eukaryota=%{customdata[4]}<extra></extra>",
         "hovertext": [
          "Mus"
         ],
         "legendgroup": "Mus",
         "marker": {
          "color": "#21e548",
          "symbol": "circle"
         },
         "mode": "markers",
         "name": "Mus",
         "orientation": "v",
         "showlegend": true,
         "textposition": "top right",
         "type": "scatter",
         "x": [
          -0.81464094
         ],
         "xaxis": "x",
         "y": [
          -0.029657762
         ],
         "yaxis": "y"
        },
        {
         "customdata": [
          [
           12,
           "Rattus",
           "Eukaryota",
           "Metazoa",
           "EUKARYOTA"
          ]
         ],
         "hovertemplate": "<b>%{hovertext}</b><br><br>Species=%{customdata[1]}<br>pm1=%{x}<br>pm2=%{y}<br>Unnamed: 0=%{customdata[0]}<br>Kingdom=%{customdata[2]}<br>Family=%{customdata[3]}<br>Color_eukaryota=%{customdata[4]}<extra></extra>",
         "hovertext": [
          "Rattus"
         ],
         "legendgroup": "Rattus",
         "marker": {
          "color": "#21e548",
          "symbol": "circle"
         },
         "mode": "markers",
         "name": "Rattus",
         "orientation": "v",
         "showlegend": true,
         "textposition": "top right",
         "type": "scatter",
         "x": [
          -0.812737
         ],
         "xaxis": "x",
         "y": [
          -0.037687875
         ],
         "yaxis": "y"
        },
        {
         "customdata": [
          [
           13,
           "Rabit",
           "Eukaryota",
           "Metazoa",
           "EUKARYOTA"
          ]
         ],
         "hovertemplate": "<b>%{hovertext}</b><br><br>Species=%{customdata[1]}<br>pm1=%{x}<br>pm2=%{y}<br>Unnamed: 0=%{customdata[0]}<br>Kingdom=%{customdata[2]}<br>Family=%{customdata[3]}<br>Color_eukaryota=%{customdata[4]}<extra></extra>",
         "hovertext": [
          "Rabit"
         ],
         "legendgroup": "Rabit",
         "marker": {
          "color": "#21e548",
          "symbol": "circle"
         },
         "mode": "markers",
         "name": "Rabit",
         "orientation": "v",
         "showlegend": true,
         "textposition": "top right",
         "type": "scatter",
         "x": [
          -0.8607577
         ],
         "xaxis": "x",
         "y": [
          -0.019577218
         ],
         "yaxis": "y"
        },
        {
         "customdata": [
          [
           14,
           "Human",
           "Eukaryota",
           "Metazoa",
           "EUKARYOTA"
          ]
         ],
         "hovertemplate": "<b>%{hovertext}</b><br><br>Species=%{customdata[1]}<br>pm1=%{x}<br>pm2=%{y}<br>Unnamed: 0=%{customdata[0]}<br>Kingdom=%{customdata[2]}<br>Family=%{customdata[3]}<br>Color_eukaryota=%{customdata[4]}<extra></extra>",
         "hovertext": [
          "Human"
         ],
         "legendgroup": "Human",
         "marker": {
          "color": "#21e548",
          "symbol": "circle"
         },
         "mode": "markers",
         "name": "Human",
         "orientation": "v",
         "showlegend": true,
         "textposition": "top right",
         "type": "scatter",
         "x": [
          -0.8415084
         ],
         "xaxis": "x",
         "y": [
          -0.04593345
         ],
         "yaxis": "y"
        },
        {
         "customdata": [
          [
           15,
           "Ponab",
           "Eukaryota",
           "Metazoa",
           "EUKARYOTA"
          ]
         ],
         "hovertemplate": "<b>%{hovertext}</b><br><br>Species=%{customdata[1]}<br>pm1=%{x}<br>pm2=%{y}<br>Unnamed: 0=%{customdata[0]}<br>Kingdom=%{customdata[2]}<br>Family=%{customdata[3]}<br>Color_eukaryota=%{customdata[4]}<extra></extra>",
         "hovertext": [
          "Ponab"
         ],
         "legendgroup": "Ponab",
         "marker": {
          "color": "#21e548",
          "symbol": "circle"
         },
         "mode": "markers",
         "name": "Ponab",
         "orientation": "v",
         "showlegend": true,
         "textposition": "top right",
         "type": "scatter",
         "x": [
          -0.83648366
         ],
         "xaxis": "x",
         "y": [
          -0.019532587
         ],
         "yaxis": "y"
        },
        {
         "customdata": [
          [
           16,
           "Macmu",
           "Eukaryota",
           "Metazoa",
           "EUKARYOTA"
          ]
         ],
         "hovertemplate": "<b>%{hovertext}</b><br><br>Species=%{customdata[1]}<br>pm1=%{x}<br>pm2=%{y}<br>Unnamed: 0=%{customdata[0]}<br>Kingdom=%{customdata[2]}<br>Family=%{customdata[3]}<br>Color_eukaryota=%{customdata[4]}<extra></extra>",
         "hovertext": [
          "Macmu"
         ],
         "legendgroup": "Macmu",
         "marker": {
          "color": "#21e548",
          "symbol": "circle"
         },
         "mode": "markers",
         "name": "Macmu",
         "orientation": "v",
         "showlegend": true,
         "textposition": "top right",
         "type": "scatter",
         "x": [
          -0.82155627
         ],
         "xaxis": "x",
         "y": [
          -0.061917007
         ],
         "yaxis": "y"
        },
        {
         "customdata": [
          [
           17,
           "Callithrix",
           "Eukaryota",
           "Metazoa",
           "EUKARYOTA"
          ]
         ],
         "hovertemplate": "<b>%{hovertext}</b><br><br>Species=%{customdata[1]}<br>pm1=%{x}<br>pm2=%{y}<br>Unnamed: 0=%{customdata[0]}<br>Kingdom=%{customdata[2]}<br>Family=%{customdata[3]}<br>Color_eukaryota=%{customdata[4]}<extra></extra>",
         "hovertext": [
          "Callithrix"
         ],
         "legendgroup": "Callithrix",
         "marker": {
          "color": "#21e548",
          "symbol": "circle"
         },
         "mode": "markers",
         "name": "Callithrix",
         "orientation": "v",
         "showlegend": true,
         "textposition": "top right",
         "type": "scatter",
         "x": [
          -0.8227882
         ],
         "xaxis": "x",
         "y": [
          -0.04019381
         ],
         "yaxis": "y"
        },
        {
         "customdata": [
          [
           18,
           "Monodelphis",
           "Eukaryota",
           "Metazoa",
           "EUKARYOTA"
          ]
         ],
         "hovertemplate": "<b>%{hovertext}</b><br><br>Species=%{customdata[1]}<br>pm1=%{x}<br>pm2=%{y}<br>Unnamed: 0=%{customdata[0]}<br>Kingdom=%{customdata[2]}<br>Family=%{customdata[3]}<br>Color_eukaryota=%{customdata[4]}<extra></extra>",
         "hovertext": [
          "Monodelphis"
         ],
         "legendgroup": "Monodelphis",
         "marker": {
          "color": "#21e548",
          "symbol": "circle"
         },
         "mode": "markers",
         "name": "Monodelphis",
         "orientation": "v",
         "showlegend": true,
         "textposition": "top right",
         "type": "scatter",
         "x": [
          0.7402804
         ],
         "xaxis": "x",
         "y": [
          -0.49634287
         ],
         "yaxis": "y"
        },
        {
         "customdata": [
          [
           19,
           "Ornithorhynchus",
           "Eukaryota",
           "Metazoa",
           "EUKARYOTA"
          ]
         ],
         "hovertemplate": "<b>%{hovertext}</b><br><br>Species=%{customdata[1]}<br>pm1=%{x}<br>pm2=%{y}<br>Unnamed: 0=%{customdata[0]}<br>Kingdom=%{customdata[2]}<br>Family=%{customdata[3]}<br>Color_eukaryota=%{customdata[4]}<extra></extra>",
         "hovertext": [
          "Ornithorhynchus"
         ],
         "legendgroup": "Ornithorhynchus",
         "marker": {
          "color": "#21e548",
          "symbol": "circle"
         },
         "mode": "markers",
         "name": "Ornithorhynchus",
         "orientation": "v",
         "showlegend": true,
         "textposition": "top right",
         "type": "scatter",
         "x": [
          -0.7869309
         ],
         "xaxis": "x",
         "y": [
          -0.0936573
         ],
         "yaxis": "y"
        },
        {
         "customdata": [
          [
           20,
           "Gallus",
           "Eukaryota",
           "Metazoa",
           "EUKARYOTA"
          ]
         ],
         "hovertemplate": "<b>%{hovertext}</b><br><br>Species=%{customdata[1]}<br>pm1=%{x}<br>pm2=%{y}<br>Unnamed: 0=%{customdata[0]}<br>Kingdom=%{customdata[2]}<br>Family=%{customdata[3]}<br>Color_eukaryota=%{customdata[4]}<extra></extra>",
         "hovertext": [
          "Gallus"
         ],
         "legendgroup": "Gallus",
         "marker": {
          "color": "#21e548",
          "symbol": "circle"
         },
         "mode": "markers",
         "name": "Gallus",
         "orientation": "v",
         "showlegend": true,
         "textposition": "top right",
         "type": "scatter",
         "x": [
          -0.84328246
         ],
         "xaxis": "x",
         "y": [
          -0.122904055
         ],
         "yaxis": "y"
        },
        {
         "customdata": [
          [
           21,
           "Melopsittacus",
           "Eukaryota",
           "Metazoa",
           "EUKARYOTA"
          ]
         ],
         "hovertemplate": "<b>%{hovertext}</b><br><br>Species=%{customdata[1]}<br>pm1=%{x}<br>pm2=%{y}<br>Unnamed: 0=%{customdata[0]}<br>Kingdom=%{customdata[2]}<br>Family=%{customdata[3]}<br>Color_eukaryota=%{customdata[4]}<extra></extra>",
         "hovertext": [
          "Melopsittacus"
         ],
         "legendgroup": "Melopsittacus",
         "marker": {
          "color": "#21e548",
          "symbol": "circle"
         },
         "mode": "markers",
         "name": "Melopsittacus",
         "orientation": "v",
         "showlegend": true,
         "textposition": "top right",
         "type": "scatter",
         "x": [
          -0.8308515
         ],
         "xaxis": "x",
         "y": [
          -0.12267471
         ],
         "yaxis": "y"
        },
        {
         "customdata": [
          [
           22,
           "Ophiophagus",
           "Eukaryota",
           "Metazoa",
           "EUKARYOTA"
          ]
         ],
         "hovertemplate": "<b>%{hovertext}</b><br><br>Species=%{customdata[1]}<br>pm1=%{x}<br>pm2=%{y}<br>Unnamed: 0=%{customdata[0]}<br>Kingdom=%{customdata[2]}<br>Family=%{customdata[3]}<br>Color_eukaryota=%{customdata[4]}<extra></extra>",
         "hovertext": [
          "Ophiophagus"
         ],
         "legendgroup": "Ophiophagus",
         "marker": {
          "color": "#21e548",
          "symbol": "circle"
         },
         "mode": "markers",
         "name": "Ophiophagus",
         "orientation": "v",
         "showlegend": true,
         "textposition": "top right",
         "type": "scatter",
         "x": [
          -0.82625085
         ],
         "xaxis": "x",
         "y": [
          -0.1080902
         ],
         "yaxis": "y"
        },
        {
         "customdata": [
          [
           23,
           "Xenopus",
           "Eukaryota",
           "Metazoa",
           "EUKARYOTA"
          ]
         ],
         "hovertemplate": "<b>%{hovertext}</b><br><br>Species=%{customdata[1]}<br>pm1=%{x}<br>pm2=%{y}<br>Unnamed: 0=%{customdata[0]}<br>Kingdom=%{customdata[2]}<br>Family=%{customdata[3]}<br>Color_eukaryota=%{customdata[4]}<extra></extra>",
         "hovertext": [
          "Xenopus"
         ],
         "legendgroup": "Xenopus",
         "marker": {
          "color": "#21e548",
          "symbol": "circle"
         },
         "mode": "markers",
         "name": "Xenopus",
         "orientation": "v",
         "showlegend": true,
         "textposition": "top right",
         "type": "scatter",
         "x": [
          -0.7864245
         ],
         "xaxis": "x",
         "y": [
          -0.15429442
         ],
         "yaxis": "y"
        },
        {
         "customdata": [
          [
           24,
           "Tetraodon",
           "Eukaryota",
           "Metazoa",
           "EUKARYOTA"
          ]
         ],
         "hovertemplate": "<b>%{hovertext}</b><br><br>Species=%{customdata[1]}<br>pm1=%{x}<br>pm2=%{y}<br>Unnamed: 0=%{customdata[0]}<br>Kingdom=%{customdata[2]}<br>Family=%{customdata[3]}<br>Color_eukaryota=%{customdata[4]}<extra></extra>",
         "hovertext": [
          "Tetraodon"
         ],
         "legendgroup": "Tetraodon",
         "marker": {
          "color": "#21e548",
          "symbol": "circle"
         },
         "mode": "markers",
         "name": "Tetraodon",
         "orientation": "v",
         "showlegend": true,
         "textposition": "top right",
         "type": "scatter",
         "x": [
          -0.74686414
         ],
         "xaxis": "x",
         "y": [
          -0.15780155
         ],
         "yaxis": "y"
        },
        {
         "customdata": [
          [
           25,
           "Ictalurus",
           "Eukaryota",
           "Metazoa",
           "EUKARYOTA"
          ]
         ],
         "hovertemplate": "<b>%{hovertext}</b><br><br>Species=%{customdata[1]}<br>pm1=%{x}<br>pm2=%{y}<br>Unnamed: 0=%{customdata[0]}<br>Kingdom=%{customdata[2]}<br>Family=%{customdata[3]}<br>Color_eukaryota=%{customdata[4]}<extra></extra>",
         "hovertext": [
          "Ictalurus"
         ],
         "legendgroup": "Ictalurus",
         "marker": {
          "color": "#21e548",
          "symbol": "circle"
         },
         "mode": "markers",
         "name": "Ictalurus",
         "orientation": "v",
         "showlegend": true,
         "textposition": "top right",
         "type": "scatter",
         "x": [
          -0.7774597
         ],
         "xaxis": "x",
         "y": [
          -0.18446364
         ],
         "yaxis": "y"
        },
        {
         "customdata": [
          [
           26,
           "Danio",
           "Eukaryota",
           "Metazoa",
           "EUKARYOTA"
          ]
         ],
         "hovertemplate": "<b>%{hovertext}</b><br><br>Species=%{customdata[1]}<br>pm1=%{x}<br>pm2=%{y}<br>Unnamed: 0=%{customdata[0]}<br>Kingdom=%{customdata[2]}<br>Family=%{customdata[3]}<br>Color_eukaryota=%{customdata[4]}<extra></extra>",
         "hovertext": [
          "Danio"
         ],
         "legendgroup": "Danio",
         "marker": {
          "color": "#21e548",
          "symbol": "circle"
         },
         "mode": "markers",
         "name": "Danio",
         "orientation": "v",
         "showlegend": true,
         "textposition": "top right",
         "type": "scatter",
         "x": [
          -0.7198608
         ],
         "xaxis": "x",
         "y": [
          -0.15570429
         ],
         "yaxis": "y"
        },
        {
         "customdata": [
          [
           27,
           "Drosophila",
           "Eukaryota",
           "Metazoa",
           "EUKARYOTA"
          ],
          [
           28,
           "Drosophila",
           "Eukaryota",
           "Metazoa",
           "EUKARYOTA"
          ],
          [
           29,
           "Drosophila",
           "Eukaryota",
           "Metazoa",
           "EUKARYOTA"
          ]
         ],
         "hovertemplate": "<b>%{hovertext}</b><br><br>Species=%{customdata[1]}<br>pm1=%{x}<br>pm2=%{y}<br>Unnamed: 0=%{customdata[0]}<br>Kingdom=%{customdata[2]}<br>Family=%{customdata[3]}<br>Color_eukaryota=%{customdata[4]}<extra></extra>",
         "hovertext": [
          "Drosophila",
          "Drosophila",
          "Drosophila"
         ],
         "legendgroup": "Drosophila",
         "marker": {
          "color": "#21e548",
          "symbol": "circle"
         },
         "mode": "markers",
         "name": "Drosophila",
         "orientation": "v",
         "showlegend": true,
         "textposition": "top right",
         "type": "scatter",
         "x": [
          -0.75331324,
          -0.748439,
          -0.7313381
         ],
         "xaxis": "x",
         "y": [
          -0.5310014,
          -0.5475899,
          -0.5524903
         ],
         "yaxis": "y"
        },
        {
         "customdata": [
          [
           30,
           "Apis",
           "Eukaryota",
           "Metazoa",
           "EUKARYOTA"
          ]
         ],
         "hovertemplate": "<b>%{hovertext}</b><br><br>Species=%{customdata[1]}<br>pm1=%{x}<br>pm2=%{y}<br>Unnamed: 0=%{customdata[0]}<br>Kingdom=%{customdata[2]}<br>Family=%{customdata[3]}<br>Color_eukaryota=%{customdata[4]}<extra></extra>",
         "hovertext": [
          "Apis"
         ],
         "legendgroup": "Apis",
         "marker": {
          "color": "#21e548",
          "symbol": "circle"
         },
         "mode": "markers",
         "name": "Apis",
         "orientation": "v",
         "showlegend": true,
         "textposition": "top right",
         "type": "scatter",
         "x": [
          -0.74180365
         ],
         "xaxis": "x",
         "y": [
          -0.5190686
         ],
         "yaxis": "y"
        },
        {
         "customdata": [
          [
           31,
           "Tribolium",
           "Eukaryota",
           "Metazoa",
           "EUKARYOTA"
          ]
         ],
         "hovertemplate": "<b>%{hovertext}</b><br><br>Species=%{customdata[1]}<br>pm1=%{x}<br>pm2=%{y}<br>Unnamed: 0=%{customdata[0]}<br>Kingdom=%{customdata[2]}<br>Family=%{customdata[3]}<br>Color_eukaryota=%{customdata[4]}<extra></extra>",
         "hovertext": [
          "Tribolium"
         ],
         "legendgroup": "Tribolium",
         "marker": {
          "color": "#21e548",
          "symbol": "circle"
         },
         "mode": "markers",
         "name": "Tribolium",
         "orientation": "v",
         "showlegend": true,
         "textposition": "top right",
         "type": "scatter",
         "x": [
          -0.73487693
         ],
         "xaxis": "x",
         "y": [
          -0.5304727
         ],
         "yaxis": "y"
        },
        {
         "customdata": [
          [
           32,
           "Bombyx",
           "Eukaryota",
           "Metazoa",
           "EUKARYOTA"
          ]
         ],
         "hovertemplate": "<b>%{hovertext}</b><br><br>Species=%{customdata[1]}<br>pm1=%{x}<br>pm2=%{y}<br>Unnamed: 0=%{customdata[0]}<br>Kingdom=%{customdata[2]}<br>Family=%{customdata[3]}<br>Color_eukaryota=%{customdata[4]}<extra></extra>",
         "hovertext": [
          "Bombyx"
         ],
         "legendgroup": "Bombyx",
         "marker": {
          "color": "#21e548",
          "symbol": "circle"
         },
         "mode": "markers",
         "name": "Bombyx",
         "orientation": "v",
         "showlegend": true,
         "textposition": "top right",
         "type": "scatter",
         "x": [
          -0.7247355
         ],
         "xaxis": "x",
         "y": [
          -0.53849876
         ],
         "yaxis": "y"
        },
        {
         "customdata": [
          [
           33,
           "Graphocephala",
           "Eukaryota",
           "Metazoa",
           "EUKARYOTA"
          ]
         ],
         "hovertemplate": "<b>%{hovertext}</b><br><br>Species=%{customdata[1]}<br>pm1=%{x}<br>pm2=%{y}<br>Unnamed: 0=%{customdata[0]}<br>Kingdom=%{customdata[2]}<br>Family=%{customdata[3]}<br>Color_eukaryota=%{customdata[4]}<extra></extra>",
         "hovertext": [
          "Graphocephala"
         ],
         "legendgroup": "Graphocephala",
         "marker": {
          "color": "#21e548",
          "symbol": "circle"
         },
         "mode": "markers",
         "name": "Graphocephala",
         "orientation": "v",
         "showlegend": true,
         "textposition": "top right",
         "type": "scatter",
         "x": [
          -0.7247921
         ],
         "xaxis": "x",
         "y": [
          -0.49430734
         ],
         "yaxis": "y"
        },
        {
         "customdata": [
          [
           34,
           "Litopenaeus",
           "Eukaryota",
           "Metazoa",
           "EUKARYOTA"
          ]
         ],
         "hovertemplate": "<b>%{hovertext}</b><br><br>Species=%{customdata[1]}<br>pm1=%{x}<br>pm2=%{y}<br>Unnamed: 0=%{customdata[0]}<br>Kingdom=%{customdata[2]}<br>Family=%{customdata[3]}<br>Color_eukaryota=%{customdata[4]}<extra></extra>",
         "hovertext": [
          "Litopenaeus"
         ],
         "legendgroup": "Litopenaeus",
         "marker": {
          "color": "#21e548",
          "symbol": "circle"
         },
         "mode": "markers",
         "name": "Litopenaeus",
         "orientation": "v",
         "showlegend": true,
         "textposition": "top right",
         "type": "scatter",
         "x": [
          -0.7117707
         ],
         "xaxis": "x",
         "y": [
          -0.5291109
         ],
         "yaxis": "y"
        },
        {
         "customdata": [
          [
           35,
           "Geocy",
           "Eukaryota",
           "Metazoa",
           "EUKARYOTA"
          ]
         ],
         "hovertemplate": "<b>%{hovertext}</b><br><br>Species=%{customdata[1]}<br>pm1=%{x}<br>pm2=%{y}<br>Unnamed: 0=%{customdata[0]}<br>Kingdom=%{customdata[2]}<br>Family=%{customdata[3]}<br>Color_eukaryota=%{customdata[4]}<extra></extra>",
         "hovertext": [
          "Geocy"
         ],
         "legendgroup": "Geocy",
         "marker": {
          "color": "#21e548",
          "symbol": "circle"
         },
         "mode": "markers",
         "name": "Geocy",
         "orientation": "v",
         "showlegend": true,
         "textposition": "top right",
         "type": "scatter",
         "x": [
          -0.6954949
         ],
         "xaxis": "x",
         "y": [
          -0.2996023
         ],
         "yaxis": "y"
        },
        {
         "customdata": [
          [
           36,
           "Aspergillus",
           "Eukaryota",
           "Fungi",
           "EUKARYOTA"
          ],
          [
           38,
           "Aspergillus",
           "Eukaryota",
           "Fungi",
           "EUKARYOTA"
          ],
          [
           39,
           "Aspergillus",
           "Eukaryota",
           "Fungi",
           "EUKARYOTA"
          ]
         ],
         "hovertemplate": "<b>%{hovertext}</b><br><br>Species=%{customdata[1]}<br>pm1=%{x}<br>pm2=%{y}<br>Unnamed: 0=%{customdata[0]}<br>Kingdom=%{customdata[2]}<br>Family=%{customdata[3]}<br>Color_eukaryota=%{customdata[4]}<extra></extra>",
         "hovertext": [
          "Aspergillus",
          "Aspergillus",
          "Aspergillus"
         ],
         "legendgroup": "Aspergillus",
         "marker": {
          "color": "#1fb995",
          "symbol": "circle"
         },
         "mode": "markers",
         "name": "Aspergillus",
         "orientation": "v",
         "showlegend": true,
         "textposition": "top right",
         "type": "scatter",
         "x": [
          -0.6810791,
          -0.73197603,
          -0.73390985
         ],
         "xaxis": "x",
         "y": [
          0.11914146,
          0.19756268,
          0.21699464
         ],
         "yaxis": "y"
        },
        {
         "customdata": [
          [
           37,
           "Neosartorya",
           "Eukaryota",
           "Fungi",
           "EUKARYOTA"
          ]
         ],
         "hovertemplate": "<b>%{hovertext}</b><br><br>Species=%{customdata[1]}<br>pm1=%{x}<br>pm2=%{y}<br>Unnamed: 0=%{customdata[0]}<br>Kingdom=%{customdata[2]}<br>Family=%{customdata[3]}<br>Color_eukaryota=%{customdata[4]}<extra></extra>",
         "hovertext": [
          "Neosartorya"
         ],
         "legendgroup": "Neosartorya",
         "marker": {
          "color": "#1fb995",
          "symbol": "circle"
         },
         "mode": "markers",
         "name": "Neosartorya",
         "orientation": "v",
         "showlegend": true,
         "textposition": "top right",
         "type": "scatter",
         "x": [
          -0.7521039
         ],
         "xaxis": "x",
         "y": [
          0.16425893
         ],
         "yaxis": "y"
        },
        {
         "customdata": [
          [
           40,
           "Pichia",
           "Eukaryota",
           "Fungi",
           "EUKARYOTA"
          ],
          [
           42,
           "Pichia",
           "Eukaryota",
           "Fungi",
           "EUKARYOTA"
          ]
         ],
         "hovertemplate": "<b>%{hovertext}</b><br><br>Species=%{customdata[1]}<br>pm1=%{x}<br>pm2=%{y}<br>Unnamed: 0=%{customdata[0]}<br>Kingdom=%{customdata[2]}<br>Family=%{customdata[3]}<br>Color_eukaryota=%{customdata[4]}<extra></extra>",
         "hovertext": [
          "Pichia",
          "Pichia"
         ],
         "legendgroup": "Pichia",
         "marker": {
          "color": "#1fb995",
          "symbol": "circle"
         },
         "mode": "markers",
         "name": "Pichia",
         "orientation": "v",
         "showlegend": true,
         "textposition": "top right",
         "type": "scatter",
         "x": [
          -0.57037693,
          -0.66944695
         ],
         "xaxis": "x",
         "y": [
          -0.13791098,
          0.19888036
         ],
         "yaxis": "y"
        },
        {
         "customdata": [
          [
           41,
           "Candida",
           "Eukaryota",
           "Fungi",
           "EUKARYOTA"
          ],
          [
           45,
           "Candida",
           "Eukaryota",
           "Fungi",
           "EUKARYOTA"
          ]
         ],
         "hovertemplate": "<b>%{hovertext}</b><br><br>Species=%{customdata[1]}<br>pm1=%{x}<br>pm2=%{y}<br>Unnamed: 0=%{customdata[0]}<br>Kingdom=%{customdata[2]}<br>Family=%{customdata[3]}<br>Color_eukaryota=%{customdata[4]}<extra></extra>",
         "hovertext": [
          "Candida",
          "Candida"
         ],
         "legendgroup": "Candida",
         "marker": {
          "color": "#1fb995",
          "symbol": "circle"
         },
         "mode": "markers",
         "name": "Candida",
         "orientation": "v",
         "showlegend": true,
         "textposition": "top right",
         "type": "scatter",
         "x": [
          -0.62652355,
          -0.60802054
         ],
         "xaxis": "x",
         "y": [
          0.2946659,
          0.26075897
         ],
         "yaxis": "y"
        },
        {
         "customdata": [
          [
           43,
           "Kluyveromyces",
           "Eukaryota",
           "Fungi",
           "EUKARYOTA"
          ]
         ],
         "hovertemplate": "<b>%{hovertext}</b><br><br>Species=%{customdata[1]}<br>pm1=%{x}<br>pm2=%{y}<br>Unnamed: 0=%{customdata[0]}<br>Kingdom=%{customdata[2]}<br>Family=%{customdata[3]}<br>Color_eukaryota=%{customdata[4]}<extra></extra>",
         "hovertext": [
          "Kluyveromyces"
         ],
         "legendgroup": "Kluyveromyces",
         "marker": {
          "color": "#1fb995",
          "symbol": "circle"
         },
         "mode": "markers",
         "name": "Kluyveromyces",
         "orientation": "v",
         "showlegend": true,
         "textposition": "top right",
         "type": "scatter",
         "x": [
          -0.615969
         ],
         "xaxis": "x",
         "y": [
          0.23958886
         ],
         "yaxis": "y"
        },
        {
         "customdata": [
          [
           44,
           "Saccharomyces",
           "Eukaryota",
           "Fungi",
           "EUKARYOTA"
          ],
          [
           46,
           "Saccharomyces",
           "Eukaryota",
           "Fungi",
           "EUKARYOTA"
          ]
         ],
         "hovertemplate": "<b>%{hovertext}</b><br><br>Species=%{customdata[1]}<br>pm1=%{x}<br>pm2=%{y}<br>Unnamed: 0=%{customdata[0]}<br>Kingdom=%{customdata[2]}<br>Family=%{customdata[3]}<br>Color_eukaryota=%{customdata[4]}<extra></extra>",
         "hovertext": [
          "Saccharomyces",
          "Saccharomyces"
         ],
         "legendgroup": "Saccharomyces",
         "marker": {
          "color": "#1fb995",
          "symbol": "circle"
         },
         "mode": "markers",
         "name": "Saccharomyces",
         "orientation": "v",
         "showlegend": true,
         "textposition": "top right",
         "type": "scatter",
         "x": [
          -0.6591339,
          -0.6525111
         ],
         "xaxis": "x",
         "y": [
          0.29400313,
          0.25796384
         ],
         "yaxis": "y"
        },
        {
         "customdata": [
          [
           47,
           "Schizosaccharomyces",
           "Eukaryota",
           "Fungi",
           "EUKARYOTA"
          ]
         ],
         "hovertemplate": "<b>%{hovertext}</b><br><br>Species=%{customdata[1]}<br>pm1=%{x}<br>pm2=%{y}<br>Unnamed: 0=%{customdata[0]}<br>Kingdom=%{customdata[2]}<br>Family=%{customdata[3]}<br>Color_eukaryota=%{customdata[4]}<extra></extra>",
         "hovertext": [
          "Schizosaccharomyces"
         ],
         "legendgroup": "Schizosaccharomyces",
         "marker": {
          "color": "#1fb995",
          "symbol": "circle"
         },
         "mode": "markers",
         "name": "Schizosaccharomyces",
         "orientation": "v",
         "showlegend": true,
         "textposition": "top right",
         "type": "scatter",
         "x": [
          -0.7071143
         ],
         "xaxis": "x",
         "y": [
          0.16122662
         ],
         "yaxis": "y"
        },
        {
         "customdata": [
          [
           48,
           "Monosiga",
           "Eukaryota",
           "Choanoflagellata",
           "EUKARYOTA"
          ]
         ],
         "hovertemplate": "<b>%{hovertext}</b><br><br>Species=%{customdata[1]}<br>pm1=%{x}<br>pm2=%{y}<br>Unnamed: 0=%{customdata[0]}<br>Kingdom=%{customdata[2]}<br>Family=%{customdata[3]}<br>Color_eukaryota=%{customdata[4]}<extra></extra>",
         "hovertext": [
          "Monosiga"
         ],
         "legendgroup": "Monosiga",
         "marker": {
          "color": "#21e548",
          "symbol": "circle"
         },
         "mode": "markers",
         "name": "Monosiga",
         "orientation": "v",
         "showlegend": true,
         "textposition": "top right",
         "type": "scatter",
         "x": [
          -0.6314559
         ],
         "xaxis": "x",
         "y": [
          -0.0709549
         ],
         "yaxis": "y"
        },
        {
         "customdata": [
          [
           49,
           "Entamoeba",
           "Eukaryota",
           "Amoebozoa",
           "EUKARYOTA"
          ]
         ],
         "hovertemplate": "<b>%{hovertext}</b><br><br>Species=%{customdata[1]}<br>pm1=%{x}<br>pm2=%{y}<br>Unnamed: 0=%{customdata[0]}<br>Kingdom=%{customdata[2]}<br>Family=%{customdata[3]}<br>Color_eukaryota=%{customdata[4]}<extra></extra>",
         "hovertext": [
          "Entamoeba"
         ],
         "legendgroup": "Entamoeba",
         "marker": {
          "color": "#21e548",
          "symbol": "circle"
         },
         "mode": "markers",
         "name": "Entamoeba",
         "orientation": "v",
         "showlegend": true,
         "textposition": "top right",
         "type": "scatter",
         "x": [
          -0.756797
         ],
         "xaxis": "x",
         "y": [
          -0.19151846
         ],
         "yaxis": "y"
        },
        {
         "customdata": [
          [
           50,
           "Dictyostelium",
           "Eukaryota",
           "Amoebozoa",
           "EUKARYOTA"
          ]
         ],
         "hovertemplate": "<b>%{hovertext}</b><br><br>Species=%{customdata[1]}<br>pm1=%{x}<br>pm2=%{y}<br>Unnamed: 0=%{customdata[0]}<br>Kingdom=%{customdata[2]}<br>Family=%{customdata[3]}<br>Color_eukaryota=%{customdata[4]}<extra></extra>",
         "hovertext": [
          "Dictyostelium"
         ],
         "legendgroup": "Dictyostelium",
         "marker": {
          "color": "#21e548",
          "symbol": "circle"
         },
         "mode": "markers",
         "name": "Dictyostelium",
         "orientation": "v",
         "showlegend": true,
         "textposition": "top right",
         "type": "scatter",
         "x": [
          -0.7026959
         ],
         "xaxis": "x",
         "y": [
          -0.113642864
         ],
         "yaxis": "y"
        },
        {
         "customdata": [
          [
           51,
           "Arabidopsis",
           "Eukaryota",
           "Viridiplantae",
           "EUKARYOTA"
          ],
          [
           52,
           "Arabidopsis",
           "Eukaryota",
           "Viridiplantae",
           "EUKARYOTA"
          ]
         ],
         "hovertemplate": "<b>%{hovertext}</b><br><br>Species=%{customdata[1]}<br>pm1=%{x}<br>pm2=%{y}<br>Unnamed: 0=%{customdata[0]}<br>Kingdom=%{customdata[2]}<br>Family=%{customdata[3]}<br>Color_eukaryota=%{customdata[4]}<extra></extra>",
         "hovertext": [
          "Arabidopsis",
          "Arabidopsis"
         ],
         "legendgroup": "Arabidopsis",
         "marker": {
          "color": "#06f9d4",
          "symbol": "circle"
         },
         "mode": "markers",
         "name": "Arabidopsis",
         "orientation": "v",
         "showlegend": true,
         "textposition": "top right",
         "type": "scatter",
         "x": [
          0.86114365,
          0.84289294
         ],
         "xaxis": "x",
         "y": [
          0.20506479,
          0.2193647
         ],
         "yaxis": "y"
        },
        {
         "customdata": [
          [
           53,
           "Limonium",
           "Eukaryota",
           "Viridiplantae",
           "EUKARYOTA"
          ]
         ],
         "hovertemplate": "<b>%{hovertext}</b><br><br>Species=%{customdata[1]}<br>pm1=%{x}<br>pm2=%{y}<br>Unnamed: 0=%{customdata[0]}<br>Kingdom=%{customdata[2]}<br>Family=%{customdata[3]}<br>Color_eukaryota=%{customdata[4]}<extra></extra>",
         "hovertext": [
          "Limonium"
         ],
         "legendgroup": "Limonium",
         "marker": {
          "color": "#c7c7c7",
          "symbol": "circle"
         },
         "mode": "markers",
         "name": "Limonium",
         "orientation": "v",
         "showlegend": true,
         "textposition": "top right",
         "type": "scatter",
         "x": [
          0.86750895
         ],
         "xaxis": "x",
         "y": [
          0.24155946
         ],
         "yaxis": "y"
        },
        {
         "customdata": [
          [
           54,
           "Zea",
           "Eukaryota",
           "Viridiplantae",
           "EUKARYOTA"
          ]
         ],
         "hovertemplate": "<b>%{hovertext}</b><br><br>Species=%{customdata[1]}<br>pm1=%{x}<br>pm2=%{y}<br>Unnamed: 0=%{customdata[0]}<br>Kingdom=%{customdata[2]}<br>Family=%{customdata[3]}<br>Color_eukaryota=%{customdata[4]}<extra></extra>",
         "hovertext": [
          "Zea"
         ],
         "legendgroup": "Zea",
         "marker": {
          "color": "#c7c7c7",
          "symbol": "circle"
         },
         "mode": "markers",
         "name": "Zea",
         "orientation": "v",
         "showlegend": true,
         "textposition": "top right",
         "type": "scatter",
         "x": [
          0.8898363
         ],
         "xaxis": "x",
         "y": [
          0.26888776
         ],
         "yaxis": "y"
        },
        {
         "customdata": [
          [
           55,
           "Vitis",
           "Eukaryota",
           "Viridiplantae",
           "EUKARYOTA"
          ]
         ],
         "hovertemplate": "<b>%{hovertext}</b><br><br>Species=%{customdata[1]}<br>pm1=%{x}<br>pm2=%{y}<br>Unnamed: 0=%{customdata[0]}<br>Kingdom=%{customdata[2]}<br>Family=%{customdata[3]}<br>Color_eukaryota=%{customdata[4]}<extra></extra>",
         "hovertext": [
          "Vitis"
         ],
         "legendgroup": "Vitis",
         "marker": {
          "color": "#c7c7c7",
          "symbol": "circle"
         },
         "mode": "markers",
         "name": "Vitis",
         "orientation": "v",
         "showlegend": true,
         "textposition": "top right",
         "type": "scatter",
         "x": [
          0.874268
         ],
         "xaxis": "x",
         "y": [
          0.26825014
         ],
         "yaxis": "y"
        },
        {
         "customdata": [
          [
           56,
           "Ostreococcus",
           "Eukaryota",
           "Viridiplantae",
           "EUKARYOTA"
          ]
         ],
         "hovertemplate": "<b>%{hovertext}</b><br><br>Species=%{customdata[1]}<br>pm1=%{x}<br>pm2=%{y}<br>Unnamed: 0=%{customdata[0]}<br>Kingdom=%{customdata[2]}<br>Family=%{customdata[3]}<br>Color_eukaryota=%{customdata[4]}<extra></extra>",
         "hovertext": [
          "Ostreococcus"
         ],
         "legendgroup": "Ostreococcus",
         "marker": {
          "color": "#b5e521",
          "symbol": "circle"
         },
         "mode": "markers",
         "name": "Ostreococcus",
         "orientation": "v",
         "showlegend": true,
         "textposition": "top right",
         "type": "scatter",
         "x": [
          -0.71635604
         ],
         "xaxis": "x",
         "y": [
          -0.026540766
         ],
         "yaxis": "y"
        },
        {
         "customdata": [
          [
           57,
           "Helicosporidium",
           "Eukaryota",
           "Viridiplantae",
           "EUKARYOTA"
          ]
         ],
         "hovertemplate": "<b>%{hovertext}</b><br><br>Species=%{customdata[1]}<br>pm1=%{x}<br>pm2=%{y}<br>Unnamed: 0=%{customdata[0]}<br>Kingdom=%{customdata[2]}<br>Family=%{customdata[3]}<br>Color_eukaryota=%{customdata[4]}<extra></extra>",
         "hovertext": [
          "Helicosporidium"
         ],
         "legendgroup": "Helicosporidium",
         "marker": {
          "color": "#b5e521",
          "symbol": "circle"
         },
         "mode": "markers",
         "name": "Helicosporidium",
         "orientation": "v",
         "showlegend": true,
         "textposition": "top right",
         "type": "scatter",
         "x": [
          -0.7375467
         ],
         "xaxis": "x",
         "y": [
          -0.07159258
         ],
         "yaxis": "y"
        },
        {
         "customdata": [
          [
           58,
           "Fagopyrum",
           "Eukaryota",
           "Viridiplantae",
           "EUKARYOTA"
          ]
         ],
         "hovertemplate": "<b>%{hovertext}</b><br><br>Species=%{customdata[1]}<br>pm1=%{x}<br>pm2=%{y}<br>Unnamed: 0=%{customdata[0]}<br>Kingdom=%{customdata[2]}<br>Family=%{customdata[3]}<br>Color_eukaryota=%{customdata[4]}<extra></extra>",
         "hovertext": [
          "Fagopyrum"
         ],
         "legendgroup": "Fagopyrum",
         "marker": {
          "color": "#b5e521",
          "symbol": "circle"
         },
         "mode": "markers",
         "name": "Fagopyrum",
         "orientation": "v",
         "showlegend": true,
         "textposition": "top right",
         "type": "scatter",
         "x": [
          -0.6551419
         ],
         "xaxis": "x",
         "y": [
          0.062075492
         ],
         "yaxis": "y"
        },
        {
         "customdata": [
          [
           59,
           "Cryptosporidium",
           "Eukaryota",
           "Alveolata",
           "EUKARYOTA"
          ]
         ],
         "hovertemplate": "<b>%{hovertext}</b><br><br>Species=%{customdata[1]}<br>pm1=%{x}<br>pm2=%{y}<br>Unnamed: 0=%{customdata[0]}<br>Kingdom=%{customdata[2]}<br>Family=%{customdata[3]}<br>Color_eukaryota=%{customdata[4]}<extra></extra>",
         "hovertext": [
          "Cryptosporidium"
         ],
         "legendgroup": "Cryptosporidium",
         "marker": {
          "color": "#21e548",
          "symbol": "circle"
         },
         "mode": "markers",
         "name": "Cryptosporidium",
         "orientation": "v",
         "showlegend": true,
         "textposition": "top right",
         "type": "scatter",
         "x": [
          -0.6249803
         ],
         "xaxis": "x",
         "y": [
          0.21035507
         ],
         "yaxis": "y"
        },
        {
         "customdata": [
          [
           60,
           "Theileria",
           "Eukaryota",
           "Sar",
           "EUKARYOTA"
          ]
         ],
         "hovertemplate": "<b>%{hovertext}</b><br><br>Species=%{customdata[1]}<br>pm1=%{x}<br>pm2=%{y}<br>Unnamed: 0=%{customdata[0]}<br>Kingdom=%{customdata[2]}<br>Family=%{customdata[3]}<br>Color_eukaryota=%{customdata[4]}<extra></extra>",
         "hovertext": [
          "Theileria"
         ],
         "legendgroup": "Theileria",
         "marker": {
          "color": "#21e548",
          "symbol": "circle"
         },
         "mode": "markers",
         "name": "Theileria",
         "orientation": "v",
         "showlegend": true,
         "textposition": "top right",
         "type": "scatter",
         "x": [
          -0.81088555
         ],
         "xaxis": "x",
         "y": [
          0.0577559
         ],
         "yaxis": "y"
        },
        {
         "customdata": [
          [
           61,
           "Plasmodium",
           "Eukaryota",
           "Alveolata",
           "EUKARYOTA"
          ]
         ],
         "hovertemplate": "<b>%{hovertext}</b><br><br>Species=%{customdata[1]}<br>pm1=%{x}<br>pm2=%{y}<br>Unnamed: 0=%{customdata[0]}<br>Kingdom=%{customdata[2]}<br>Family=%{customdata[3]}<br>Color_eukaryota=%{customdata[4]}<extra></extra>",
         "hovertext": [
          "Plasmodium"
         ],
         "legendgroup": "Plasmodium",
         "marker": {
          "color": "#21e548",
          "symbol": "circle"
         },
         "mode": "markers",
         "name": "Plasmodium",
         "orientation": "v",
         "showlegend": true,
         "textposition": "top right",
         "type": "scatter",
         "x": [
          -0.731728
         ],
         "xaxis": "x",
         "y": [
          0.076384
         ],
         "yaxis": "y"
        },
        {
         "customdata": [
          [
           62,
           "Archaeoglobus",
           "Archaea",
           "Euryarchaeota",
           "OTHERS"
          ],
          [
           76,
           "Archaeoglobus",
           "Archaea",
           "Euryarchaeota",
           "OTHERS"
          ]
         ],
         "hovertemplate": "<b>%{hovertext}</b><br><br>Species=%{customdata[1]}<br>pm1=%{x}<br>pm2=%{y}<br>Unnamed: 0=%{customdata[0]}<br>Kingdom=%{customdata[2]}<br>Family=%{customdata[3]}<br>Color_eukaryota=%{customdata[4]}<extra></extra>",
         "hovertext": [
          "Archaeoglobus",
          "Archaeoglobus"
         ],
         "legendgroup": "Archaeoglobus",
         "marker": {
          "color": "#ff0000",
          "symbol": "circle"
         },
         "mode": "markers",
         "name": "Archaeoglobus",
         "orientation": "v",
         "showlegend": true,
         "textposition": "top right",
         "type": "scatter",
         "x": [
          0.20612599,
          0.116339475
         ],
         "xaxis": "x",
         "y": [
          -0.008712659,
          -0.0476018
         ],
         "yaxis": "y"
        },
        {
         "customdata": [
          [
           63,
           "Methanosaeta",
           "Archaea",
           "Euryarchaeota",
           "OTHERS"
          ],
          [
           70,
           "Methanosaeta",
           "Archaea",
           "Euryarchaeota",
           "OTHERS"
          ]
         ],
         "hovertemplate": "<b>%{hovertext}</b><br><br>Species=%{customdata[1]}<br>pm1=%{x}<br>pm2=%{y}<br>Unnamed: 0=%{customdata[0]}<br>Kingdom=%{customdata[2]}<br>Family=%{customdata[3]}<br>Color_eukaryota=%{customdata[4]}<extra></extra>",
         "hovertext": [
          "Methanosaeta",
          "Methanosaeta"
         ],
         "legendgroup": "Methanosaeta",
         "marker": {
          "color": "#ff0000",
          "symbol": "circle"
         },
         "mode": "markers",
         "name": "Methanosaeta",
         "orientation": "v",
         "showlegend": true,
         "textposition": "top right",
         "type": "scatter",
         "x": [
          0.1019516,
          0.37916875
         ],
         "xaxis": "x",
         "y": [
          -0.18376373,
          0.08937337
         ],
         "yaxis": "y"
        },
        {
         "customdata": [
          [
           64,
           "Methanococcoides",
           "Archaea",
           "Euryarchaeota",
           "OTHERS"
          ]
         ],
         "hovertemplate": "<b>%{hovertext}</b><br><br>Species=%{customdata[1]}<br>pm1=%{x}<br>pm2=%{y}<br>Unnamed: 0=%{customdata[0]}<br>Kingdom=%{customdata[2]}<br>Family=%{customdata[3]}<br>Color_eukaryota=%{customdata[4]}<extra></extra>",
         "hovertext": [
          "Methanococcoides"
         ],
         "legendgroup": "Methanococcoides",
         "marker": {
          "color": "#ff0000",
          "symbol": "circle"
         },
         "mode": "markers",
         "name": "Methanococcoides",
         "orientation": "v",
         "showlegend": true,
         "textposition": "top right",
         "type": "scatter",
         "x": [
          0.03265355
         ],
         "xaxis": "x",
         "y": [
          -0.2033935
         ],
         "yaxis": "y"
        },
        {
         "customdata": [
          [
           65,
           "Candidatus",
           "Archaea",
           "Euryarchaeota",
           "OTHERS"
          ]
         ],
         "hovertemplate": "<b>%{hovertext}</b><br><br>Species=%{customdata[1]}<br>pm1=%{x}<br>pm2=%{y}<br>Unnamed: 0=%{customdata[0]}<br>Kingdom=%{customdata[2]}<br>Family=%{customdata[3]}<br>Color_eukaryota=%{customdata[4]}<extra></extra>",
         "hovertext": [
          "Candidatus"
         ],
         "legendgroup": "Candidatus",
         "marker": {
          "color": "#ff0000",
          "symbol": "circle"
         },
         "mode": "markers",
         "name": "Candidatus",
         "orientation": "v",
         "showlegend": true,
         "textposition": "top right",
         "type": "scatter",
         "x": [
          0.17626055
         ],
         "xaxis": "x",
         "y": [
          -0.09225356
         ],
         "yaxis": "y"
        },
        {
         "customdata": [
          [
           66,
           "Methanospirillum",
           "Archaea",
           "Euryarchaeota",
           "OTHERS"
          ]
         ],
         "hovertemplate": "<b>%{hovertext}</b><br><br>Species=%{customdata[1]}<br>pm1=%{x}<br>pm2=%{y}<br>Unnamed: 0=%{customdata[0]}<br>Kingdom=%{customdata[2]}<br>Family=%{customdata[3]}<br>Color_eukaryota=%{customdata[4]}<extra></extra>",
         "hovertext": [
          "Methanospirillum"
         ],
         "legendgroup": "Methanospirillum",
         "marker": {
          "color": "#ff0000",
          "symbol": "circle"
         },
         "mode": "markers",
         "name": "Methanospirillum",
         "orientation": "v",
         "showlegend": true,
         "textposition": "top right",
         "type": "scatter",
         "x": [
          0.17642745
         ],
         "xaxis": "x",
         "y": [
          -0.09174974
         ],
         "yaxis": "y"
        },
        {
         "customdata": [
          [
           67,
           "Picrophilus",
           "Archaea",
           "Euryarchaeota",
           "OTHERS"
          ]
         ],
         "hovertemplate": "<b>%{hovertext}</b><br><br>Species=%{customdata[1]}<br>pm1=%{x}<br>pm2=%{y}<br>Unnamed: 0=%{customdata[0]}<br>Kingdom=%{customdata[2]}<br>Family=%{customdata[3]}<br>Color_eukaryota=%{customdata[4]}<extra></extra>",
         "hovertext": [
          "Picrophilus"
         ],
         "legendgroup": "Picrophilus",
         "marker": {
          "color": "#ff0000",
          "symbol": "circle"
         },
         "mode": "markers",
         "name": "Picrophilus",
         "orientation": "v",
         "showlegend": true,
         "textposition": "top right",
         "type": "scatter",
         "x": [
          -0.053208943
         ],
         "xaxis": "x",
         "y": [
          -0.3469995
         ],
         "yaxis": "y"
        },
        {
         "customdata": [
          [
           68,
           "Methanococcus",
           "Archaea",
           "Euryarchaeota",
           "OTHERS"
          ]
         ],
         "hovertemplate": "<b>%{hovertext}</b><br><br>Species=%{customdata[1]}<br>pm1=%{x}<br>pm2=%{y}<br>Unnamed: 0=%{customdata[0]}<br>Kingdom=%{customdata[2]}<br>Family=%{customdata[3]}<br>Color_eukaryota=%{customdata[4]}<extra></extra>",
         "hovertext": [
          "Methanococcus"
         ],
         "legendgroup": "Methanococcus",
         "marker": {
          "color": "#ff0000",
          "symbol": "circle"
         },
         "mode": "markers",
         "name": "Methanococcus",
         "orientation": "v",
         "showlegend": true,
         "textposition": "top right",
         "type": "scatter",
         "x": [
          -0.06653563
         ],
         "xaxis": "x",
         "y": [
          0.21421278
         ],
         "yaxis": "y"
        },
        {
         "customdata": [
          [
           69,
           "Methanocorpusculum",
           "Archaea",
           "Euryarchaeota",
           "OTHERS"
          ]
         ],
         "hovertemplate": "<b>%{hovertext}</b><br><br>Species=%{customdata[1]}<br>pm1=%{x}<br>pm2=%{y}<br>Unnamed: 0=%{customdata[0]}<br>Kingdom=%{customdata[2]}<br>Family=%{customdata[3]}<br>Color_eukaryota=%{customdata[4]}<extra></extra>",
         "hovertext": [
          "Methanocorpusculum"
         ],
         "legendgroup": "Methanocorpusculum",
         "marker": {
          "color": "#ff0000",
          "symbol": "circle"
         },
         "mode": "markers",
         "name": "Methanocorpusculum",
         "orientation": "v",
         "showlegend": true,
         "textposition": "top right",
         "type": "scatter",
         "x": [
          0.327191
         ],
         "xaxis": "x",
         "y": [
          0.046584513
         ],
         "yaxis": "y"
        },
        {
         "customdata": [
          [
           71,
           "Natronomonas",
           "Archaea",
           "Euryarchaeota",
           "OTHERS"
          ],
          [
           74,
           "Natronomonas",
           "Archaea",
           "Euryarchaeota",
           "OTHERS"
          ]
         ],
         "hovertemplate": "<b>%{hovertext}</b><br><br>Species=%{customdata[1]}<br>pm1=%{x}<br>pm2=%{y}<br>Unnamed: 0=%{customdata[0]}<br>Kingdom=%{customdata[2]}<br>Family=%{customdata[3]}<br>Color_eukaryota=%{customdata[4]}<extra></extra>",
         "hovertext": [
          "Natronomonas",
          "Natronomonas"
         ],
         "legendgroup": "Natronomonas",
         "marker": {
          "color": "#ff0000",
          "symbol": "circle"
         },
         "mode": "markers",
         "name": "Natronomonas",
         "orientation": "v",
         "showlegend": true,
         "textposition": "top right",
         "type": "scatter",
         "x": [
          -0.08388916,
          -0.040630043
         ],
         "xaxis": "x",
         "y": [
          0.7302229,
          0.7244389
         ],
         "yaxis": "y"
        },
        {
         "customdata": [
          [
           72,
           "Haloquadratum",
           "Archaea",
           "Euryarchaeota",
           "OTHERS"
          ]
         ],
         "hovertemplate": "<b>%{hovertext}</b><br><br>Species=%{customdata[1]}<br>pm1=%{x}<br>pm2=%{y}<br>Unnamed: 0=%{customdata[0]}<br>Kingdom=%{customdata[2]}<br>Family=%{customdata[3]}<br>Color_eukaryota=%{customdata[4]}<extra></extra>",
         "hovertext": [
          "Haloquadratum"
         ],
         "legendgroup": "Haloquadratum",
         "marker": {
          "color": "#ff0000",
          "symbol": "circle"
         },
         "mode": "markers",
         "name": "Haloquadratum",
         "orientation": "v",
         "showlegend": true,
         "textposition": "top right",
         "type": "scatter",
         "x": [
          -0.089336336
         ],
         "xaxis": "x",
         "y": [
          0.74159443
         ],
         "yaxis": "y"
        },
        {
         "customdata": [
          [
           73,
           "Haloarcula",
           "Archaea",
           "Euryarchaeota",
           "OTHERS"
          ]
         ],
         "hovertemplate": "<b>%{hovertext}</b><br><br>Species=%{customdata[1]}<br>pm1=%{x}<br>pm2=%{y}<br>Unnamed: 0=%{customdata[0]}<br>Kingdom=%{customdata[2]}<br>Family=%{customdata[3]}<br>Color_eukaryota=%{customdata[4]}<extra></extra>",
         "hovertext": [
          "Haloarcula"
         ],
         "legendgroup": "Haloarcula",
         "marker": {
          "color": "#ff0000",
          "symbol": "circle"
         },
         "mode": "markers",
         "name": "Haloarcula",
         "orientation": "v",
         "showlegend": true,
         "textposition": "top right",
         "type": "scatter",
         "x": [
          -0.09375717
         ],
         "xaxis": "x",
         "y": [
          0.7322303
         ],
         "yaxis": "y"
        },
        {
         "customdata": [
          [
           75,
           "Halobacterium",
           "Archaea",
           "Euryarchaeota",
           "OTHERS"
          ]
         ],
         "hovertemplate": "<b>%{hovertext}</b><br><br>Species=%{customdata[1]}<br>pm1=%{x}<br>pm2=%{y}<br>Unnamed: 0=%{customdata[0]}<br>Kingdom=%{customdata[2]}<br>Family=%{customdata[3]}<br>Color_eukaryota=%{customdata[4]}<extra></extra>",
         "hovertext": [
          "Halobacterium"
         ],
         "legendgroup": "Halobacterium",
         "marker": {
          "color": "#ff0000",
          "symbol": "circle"
         },
         "mode": "markers",
         "name": "Halobacterium",
         "orientation": "v",
         "showlegend": true,
         "textposition": "top right",
         "type": "scatter",
         "x": [
          -0.07796227
         ],
         "xaxis": "x",
         "y": [
          0.736704
         ],
         "yaxis": "y"
        },
        {
         "customdata": [
          [
           77,
           "Thermoplasma",
           "Archaea",
           "Euryarchaeota",
           "OTHERS"
          ]
         ],
         "hovertemplate": "<b>%{hovertext}</b><br><br>Species=%{customdata[1]}<br>pm1=%{x}<br>pm2=%{y}<br>Unnamed: 0=%{customdata[0]}<br>Kingdom=%{customdata[2]}<br>Family=%{customdata[3]}<br>Color_eukaryota=%{customdata[4]}<extra></extra>",
         "hovertext": [
          "Thermoplasma"
         ],
         "legendgroup": "Thermoplasma",
         "marker": {
          "color": "#ff0000",
          "symbol": "circle"
         },
         "mode": "markers",
         "name": "Thermoplasma",
         "orientation": "v",
         "showlegend": true,
         "textposition": "top right",
         "type": "scatter",
         "x": [
          0.08195666
         ],
         "xaxis": "x",
         "y": [
          0.042008072
         ],
         "yaxis": "y"
        },
        {
         "customdata": [
          [
           78,
           "Thermofilum",
           "Archaea",
           "Crenarchaeota",
           "OTHERS"
          ]
         ],
         "hovertemplate": "<b>%{hovertext}</b><br><br>Species=%{customdata[1]}<br>pm1=%{x}<br>pm2=%{y}<br>Unnamed: 0=%{customdata[0]}<br>Kingdom=%{customdata[2]}<br>Family=%{customdata[3]}<br>Color_eukaryota=%{customdata[4]}<extra></extra>",
         "hovertext": [
          "Thermofilum"
         ],
         "legendgroup": "Thermofilum",
         "marker": {
          "color": "#ff0000",
          "symbol": "circle"
         },
         "mode": "markers",
         "name": "Thermofilum",
         "orientation": "v",
         "showlegend": true,
         "textposition": "top right",
         "type": "scatter",
         "x": [
          0.26498067
         ],
         "xaxis": "x",
         "y": [
          -0.08041127
         ],
         "yaxis": "y"
        },
        {
         "customdata": [
          [
           79,
           "Caldivirga",
           "Archaea",
           "Crenarchaeota",
           "OTHERS"
          ]
         ],
         "hovertemplate": "<b>%{hovertext}</b><br><br>Species=%{customdata[1]}<br>pm1=%{x}<br>pm2=%{y}<br>Unnamed: 0=%{customdata[0]}<br>Kingdom=%{customdata[2]}<br>Family=%{customdata[3]}<br>Color_eukaryota=%{customdata[4]}<extra></extra>",
         "hovertext": [
          "Caldivirga"
         ],
         "legendgroup": "Caldivirga",
         "marker": {
          "color": "#ff0000",
          "symbol": "circle"
         },
         "mode": "markers",
         "name": "Caldivirga",
         "orientation": "v",
         "showlegend": true,
         "textposition": "top right",
         "type": "scatter",
         "x": [
          0.01931581
         ],
         "xaxis": "x",
         "y": [
          -0.35878596
         ],
         "yaxis": "y"
        },
        {
         "customdata": [
          [
           80,
           "Sulfolobus",
           "Archaea",
           "Crenarchaeota",
           "OTHERS"
          ],
          [
           81,
           "Sulfolobus",
           "Archaea",
           "Crenarchaeota",
           "OTHERS"
          ],
          [
           82,
           "Sulfolobus",
           "Archaea",
           "Crenarchaeota",
           "OTHERS"
          ],
          [
           86,
           "Sulfolobus",
           "Archaea",
           "Crenarchaeota",
           "OTHERS"
          ],
          [
           87,
           "Sulfolobus",
           "Archaea",
           "Crenarchaeota",
           "OTHERS"
          ]
         ],
         "hovertemplate": "<b>%{hovertext}</b><br><br>Species=%{customdata[1]}<br>pm1=%{x}<br>pm2=%{y}<br>Unnamed: 0=%{customdata[0]}<br>Kingdom=%{customdata[2]}<br>Family=%{customdata[3]}<br>Color_eukaryota=%{customdata[4]}<extra></extra>",
         "hovertext": [
          "Sulfolobus",
          "Sulfolobus",
          "Sulfolobus",
          "Sulfolobus",
          "Sulfolobus"
         ],
         "legendgroup": "Sulfolobus",
         "marker": {
          "color": "#ff0000",
          "symbol": "circle"
         },
         "mode": "markers",
         "name": "Sulfolobus",
         "orientation": "v",
         "showlegend": true,
         "textposition": "top right",
         "type": "scatter",
         "x": [
          -0.04182314,
          -0.03586334,
          -0.041493356,
          0.15933071,
          0.17678572
         ],
         "xaxis": "x",
         "y": [
          -0.34749103,
          -0.3330807,
          -0.34721553,
          -0.2983674,
          -0.3205516
         ],
         "yaxis": "y"
        },
        {
         "customdata": [
          [
           83,
           "Hyperthermus",
           "Archaea",
           "Crenarchaeota",
           "OTHERS"
          ]
         ],
         "hovertemplate": "<b>%{hovertext}</b><br><br>Species=%{customdata[1]}<br>pm1=%{x}<br>pm2=%{y}<br>Unnamed: 0=%{customdata[0]}<br>Kingdom=%{customdata[2]}<br>Family=%{customdata[3]}<br>Color_eukaryota=%{customdata[4]}<extra></extra>",
         "hovertext": [
          "Hyperthermus"
         ],
         "legendgroup": "Hyperthermus",
         "marker": {
          "color": "#ff0000",
          "symbol": "circle"
         },
         "mode": "markers",
         "name": "Hyperthermus",
         "orientation": "v",
         "showlegend": true,
         "textposition": "top right",
         "type": "scatter",
         "x": [
          0.15418682
         ],
         "xaxis": "x",
         "y": [
          -0.34671915
         ],
         "yaxis": "y"
        },
        {
         "customdata": [
          [
           84,
           "Aeropyrum",
           "Archaea",
           "Crenarchaeota",
           "OTHERS"
          ],
          [
           89,
           "Aeropyrum",
           "Archaea",
           "Crenarchaeota",
           "OTHERS"
          ]
         ],
         "hovertemplate": "<b>%{hovertext}</b><br><br>Species=%{customdata[1]}<br>pm1=%{x}<br>pm2=%{y}<br>Unnamed: 0=%{customdata[0]}<br>Kingdom=%{customdata[2]}<br>Family=%{customdata[3]}<br>Color_eukaryota=%{customdata[4]}<extra></extra>",
         "hovertext": [
          "Aeropyrum",
          "Aeropyrum"
         ],
         "legendgroup": "Aeropyrum",
         "marker": {
          "color": "#ff0000",
          "symbol": "circle"
         },
         "mode": "markers",
         "name": "Aeropyrum",
         "orientation": "v",
         "showlegend": true,
         "textposition": "top right",
         "type": "scatter",
         "x": [
          0.16320363,
          0.2932314
         ],
         "xaxis": "x",
         "y": [
          -0.3447164,
          -0.32630885
         ],
         "yaxis": "y"
        },
        {
         "customdata": [
          [
           85,
           "Metallosphaera",
           "Archaea",
           "Crenarchaeota",
           "OTHERS"
          ]
         ],
         "hovertemplate": "<b>%{hovertext}</b><br><br>Species=%{customdata[1]}<br>pm1=%{x}<br>pm2=%{y}<br>Unnamed: 0=%{customdata[0]}<br>Kingdom=%{customdata[2]}<br>Family=%{customdata[3]}<br>Color_eukaryota=%{customdata[4]}<extra></extra>",
         "hovertext": [
          "Metallosphaera"
         ],
         "legendgroup": "Metallosphaera",
         "marker": {
          "color": "#ff0000",
          "symbol": "circle"
         },
         "mode": "markers",
         "name": "Metallosphaera",
         "orientation": "v",
         "showlegend": true,
         "textposition": "top right",
         "type": "scatter",
         "x": [
          0.19525325
         ],
         "xaxis": "x",
         "y": [
          -0.3226127
         ],
         "yaxis": "y"
        },
        {
         "customdata": [
          [
           88,
           "Staphylothermus",
           "Archaea",
           "Crenarchaeota",
           "OTHERS"
          ]
         ],
         "hovertemplate": "<b>%{hovertext}</b><br><br>Species=%{customdata[1]}<br>pm1=%{x}<br>pm2=%{y}<br>Unnamed: 0=%{customdata[0]}<br>Kingdom=%{customdata[2]}<br>Family=%{customdata[3]}<br>Color_eukaryota=%{customdata[4]}<extra></extra>",
         "hovertext": [
          "Staphylothermus"
         ],
         "legendgroup": "Staphylothermus",
         "marker": {
          "color": "#ff0000",
          "symbol": "circle"
         },
         "mode": "markers",
         "name": "Staphylothermus",
         "orientation": "v",
         "showlegend": true,
         "textposition": "top right",
         "type": "scatter",
         "x": [
          0.22604832
         ],
         "xaxis": "x",
         "y": [
          -0.3818146
         ],
         "yaxis": "y"
        },
        {
         "customdata": [
          [
           90,
           "Clostridium",
           "Bacteria",
           "Firmicutes",
           "OTHERS"
          ],
          [
           107,
           "Clostridium",
           "Bacteria",
           "Firmicutes",
           "OTHERS"
          ],
          [
           108,
           "Clostridium",
           "Bacteria",
           "Firmicutes",
           "OTHERS"
          ],
          [
           109,
           "Clostridium",
           "Bacteria",
           "Firmicutes",
           "OTHERS"
          ],
          [
           110,
           "Clostridium",
           "Bacteria",
           "Firmicutes",
           "OTHERS"
          ]
         ],
         "hovertemplate": "<b>%{hovertext}</b><br><br>Species=%{customdata[1]}<br>pm1=%{x}<br>pm2=%{y}<br>Unnamed: 0=%{customdata[0]}<br>Kingdom=%{customdata[2]}<br>Family=%{customdata[3]}<br>Color_eukaryota=%{customdata[4]}<extra></extra>",
         "hovertext": [
          "Clostridium",
          "Clostridium",
          "Clostridium",
          "Clostridium",
          "Clostridium"
         ],
         "legendgroup": "Clostridium",
         "marker": {
          "color": "#34b8e7",
          "symbol": "circle"
         },
         "mode": "markers",
         "name": "Clostridium",
         "orientation": "v",
         "showlegend": true,
         "textposition": "top right",
         "type": "scatter",
         "x": [
          0.5040069,
          0.063876815,
          -0.013105983,
          0.084597155,
          0.11514125
         ],
         "xaxis": "x",
         "y": [
          0.09392761,
          0.09200823,
          0.25174934,
          0.07977303,
          0.024093062
         ],
         "yaxis": "y"
        },
        {
         "customdata": [
          [
           91,
           "Thermoanaerobacter",
           "Bacteria",
           "Firmicutes",
           "OTHERS"
          ],
          [
           111,
           "Thermoanaerobacter",
           "Bacteria",
           "Firmicutes",
           "OTHERS"
          ]
         ],
         "hovertemplate": "<b>%{hovertext}</b><br><br>Species=%{customdata[1]}<br>pm1=%{x}<br>pm2=%{y}<br>Unnamed: 0=%{customdata[0]}<br>Kingdom=%{customdata[2]}<br>Family=%{customdata[3]}<br>Color_eukaryota=%{customdata[4]}<extra></extra>",
         "hovertext": [
          "Thermoanaerobacter",
          "Thermoanaerobacter"
         ],
         "legendgroup": "Thermoanaerobacter",
         "marker": {
          "color": "#34b8e7",
          "symbol": "circle"
         },
         "mode": "markers",
         "name": "Thermoanaerobacter",
         "orientation": "v",
         "showlegend": true,
         "textposition": "top right",
         "type": "scatter",
         "x": [
          -0.24493484,
          0.43812075
         ],
         "xaxis": "x",
         "y": [
          -0.130921,
          0.011051653
         ],
         "yaxis": "y"
        },
        {
         "customdata": [
          [
           92,
           "Bacillus",
           "Bacteria",
           "Firmicutes",
           "OTHERS"
          ],
          [
           93,
           "Bacillus",
           "Bacteria",
           "Firmicutes",
           "OTHERS"
          ],
          [
           101,
           "Bacillus",
           "Bacteria",
           "Firmicutes",
           "OTHERS"
          ],
          [
           102,
           "Bacillus",
           "Bacteria",
           "Firmicutes",
           "OTHERS"
          ]
         ],
         "hovertemplate": "<b>%{hovertext}</b><br><br>Species=%{customdata[1]}<br>pm1=%{x}<br>pm2=%{y}<br>Unnamed: 0=%{customdata[0]}<br>Kingdom=%{customdata[2]}<br>Family=%{customdata[3]}<br>Color_eukaryota=%{customdata[4]}<extra></extra>",
         "hovertext": [
          "Bacillus",
          "Bacillus",
          "Bacillus",
          "Bacillus"
         ],
         "legendgroup": "Bacillus",
         "marker": {
          "color": "#34b8e7",
          "symbol": "circle"
         },
         "mode": "markers",
         "name": "Bacillus",
         "orientation": "v",
         "showlegend": true,
         "textposition": "top right",
         "type": "scatter",
         "x": [
          0.47298962,
          -0.4425568,
          -0.10979977,
          -0.05422822
         ],
         "xaxis": "x",
         "y": [
          0.55816126,
          0.38143396,
          0.31256753,
          0.3042654
         ],
         "yaxis": "y"
        },
        {
         "customdata": [
          [
           94,
           "Streptococcus",
           "Bacteria",
           "Firmicutes",
           "OTHERS"
          ],
          [
           106,
           "Streptococcus",
           "Bacteria",
           "Firmicutes",
           "OTHERS"
          ]
         ],
         "hovertemplate": "<b>%{hovertext}</b><br><br>Species=%{customdata[1]}<br>pm1=%{x}<br>pm2=%{y}<br>Unnamed: 0=%{customdata[0]}<br>Kingdom=%{customdata[2]}<br>Family=%{customdata[3]}<br>Color_eukaryota=%{customdata[4]}<extra></extra>",
         "hovertext": [
          "Streptococcus",
          "Streptococcus"
         ],
         "legendgroup": "Streptococcus",
         "marker": {
          "color": "#34b8e7",
          "symbol": "circle"
         },
         "mode": "markers",
         "name": "Streptococcus",
         "orientation": "v",
         "showlegend": true,
         "textposition": "top right",
         "type": "scatter",
         "x": [
          -0.4460212,
          -0.05905825
         ],
         "xaxis": "x",
         "y": [
          0.1790247,
          0.37204617
         ],
         "yaxis": "y"
        },
        {
         "customdata": [
          [
           95,
           "Enterococcus",
           "Bacteria",
           "Firmicutes",
           "OTHERS"
          ],
          [
           105,
           "Enterococcus",
           "Bacteria",
           "Firmicutes",
           "OTHERS"
          ]
         ],
         "hovertemplate": "<b>%{hovertext}</b><br><br>Species=%{customdata[1]}<br>pm1=%{x}<br>pm2=%{y}<br>Unnamed: 0=%{customdata[0]}<br>Kingdom=%{customdata[2]}<br>Family=%{customdata[3]}<br>Color_eukaryota=%{customdata[4]}<extra></extra>",
         "hovertext": [
          "Enterococcus",
          "Enterococcus"
         ],
         "legendgroup": "Enterococcus",
         "marker": {
          "color": "#34b8e7",
          "symbol": "circle"
         },
         "mode": "markers",
         "name": "Enterococcus",
         "orientation": "v",
         "showlegend": true,
         "textposition": "top right",
         "type": "scatter",
         "x": [
          -0.5066077,
          -0.06099645
         ],
         "xaxis": "x",
         "y": [
          0.000974581,
          0.3718005
         ],
         "yaxis": "y"
        },
        {
         "customdata": [
          [
           96,
           "Listeria",
           "Bacteria",
           "Firmicutes",
           "OTHERS"
          ],
          [
           104,
           "Listeria",
           "Bacteria",
           "Firmicutes",
           "OTHERS"
          ]
         ],
         "hovertemplate": "<b>%{hovertext}</b><br><br>Species=%{customdata[1]}<br>pm1=%{x}<br>pm2=%{y}<br>Unnamed: 0=%{customdata[0]}<br>Kingdom=%{customdata[2]}<br>Family=%{customdata[3]}<br>Color_eukaryota=%{customdata[4]}<extra></extra>",
         "hovertext": [
          "Listeria",
          "Listeria"
         ],
         "legendgroup": "Listeria",
         "marker": {
          "color": "#34b8e7",
          "symbol": "circle"
         },
         "mode": "markers",
         "name": "Listeria",
         "orientation": "v",
         "showlegend": true,
         "textposition": "top right",
         "type": "scatter",
         "x": [
          0.11591191,
          -0.06273006
         ],
         "xaxis": "x",
         "y": [
          0.5759956,
          0.366412
         ],
         "yaxis": "y"
        },
        {
         "customdata": [
          [
           97,
           "Lactobacillus",
           "Bacteria",
           "Firmicutes",
           "OTHERS"
          ],
          [
           98,
           "Lactobacillus",
           "Bacteria",
           "Firmicutes",
           "OTHERS"
          ],
          [
           103,
           "Lactobacillus",
           "Bacteria",
           "Firmicutes",
           "OTHERS"
          ]
         ],
         "hovertemplate": "<b>%{hovertext}</b><br><br>Species=%{customdata[1]}<br>pm1=%{x}<br>pm2=%{y}<br>Unnamed: 0=%{customdata[0]}<br>Kingdom=%{customdata[2]}<br>Family=%{customdata[3]}<br>Color_eukaryota=%{customdata[4]}<extra></extra>",
         "hovertext": [
          "Lactobacillus",
          "Lactobacillus",
          "Lactobacillus"
         ],
         "legendgroup": "Lactobacillus",
         "marker": {
          "color": "#34b8e7",
          "symbol": "circle"
         },
         "mode": "markers",
         "name": "Lactobacillus",
         "orientation": "v",
         "showlegend": true,
         "textposition": "top right",
         "type": "scatter",
         "x": [
          0.0354625,
          0.0060688993,
          -0.061798874
         ],
         "xaxis": "x",
         "y": [
          0.06129074,
          0.16969559,
          0.371079
         ],
         "yaxis": "y"
        },
        {
         "customdata": [
          [
           99,
           "Staphylococcus",
           "Bacteria",
           "Firmicutes",
           "OTHERS"
          ]
         ],
         "hovertemplate": "<b>%{hovertext}</b><br><br>Species=%{customdata[1]}<br>pm1=%{x}<br>pm2=%{y}<br>Unnamed: 0=%{customdata[0]}<br>Kingdom=%{customdata[2]}<br>Family=%{customdata[3]}<br>Color_eukaryota=%{customdata[4]}<extra></extra>",
         "hovertext": [
          "Staphylococcus"
         ],
         "legendgroup": "Staphylococcus",
         "marker": {
          "color": "#34b8e7",
          "symbol": "circle"
         },
         "mode": "markers",
         "name": "Staphylococcus",
         "orientation": "v",
         "showlegend": true,
         "textposition": "top right",
         "type": "scatter",
         "x": [
          0.038903914
         ],
         "xaxis": "x",
         "y": [
          0.27638572
         ],
         "yaxis": "y"
        },
        {
         "customdata": [
          [
           100,
           "Geobacillus",
           "Bacteria",
           "Firmicutes",
           "OTHERS"
          ]
         ],
         "hovertemplate": "<b>%{hovertext}</b><br><br>Species=%{customdata[1]}<br>pm1=%{x}<br>pm2=%{y}<br>Unnamed: 0=%{customdata[0]}<br>Kingdom=%{customdata[2]}<br>Family=%{customdata[3]}<br>Color_eukaryota=%{customdata[4]}<extra></extra>",
         "hovertext": [
          "Geobacillus"
         ],
         "legendgroup": "Geobacillus",
         "marker": {
          "color": "#34b8e7",
          "symbol": "circle"
         },
         "mode": "markers",
         "name": "Geobacillus",
         "orientation": "v",
         "showlegend": true,
         "textposition": "top right",
         "type": "scatter",
         "x": [
          -0.015153
         ],
         "xaxis": "x",
         "y": [
          0.30931202
         ],
         "yaxis": "y"
        },
        {
         "customdata": [
          [
           112,
           "Chlamydia",
           "Bacteria",
           "Chlamydiae",
           "OTHERS"
          ]
         ],
         "hovertemplate": "<b>%{hovertext}</b><br><br>Species=%{customdata[1]}<br>pm1=%{x}<br>pm2=%{y}<br>Unnamed: 0=%{customdata[0]}<br>Kingdom=%{customdata[2]}<br>Family=%{customdata[3]}<br>Color_eukaryota=%{customdata[4]}<extra></extra>",
         "hovertext": [
          "Chlamydia"
         ],
         "legendgroup": "Chlamydia",
         "marker": {
          "color": "#34b8e7",
          "symbol": "circle"
         },
         "mode": "markers",
         "name": "Chlamydia",
         "orientation": "v",
         "showlegend": true,
         "textposition": "top right",
         "type": "scatter",
         "x": [
          -0.10606117
         ],
         "xaxis": "x",
         "y": [
          0.6046432
         ],
         "yaxis": "y"
        },
        {
         "customdata": [
          [
           113,
           "Chlamydophila",
           "Bacteria",
           "Chlamydiae",
           "OTHERS"
          ]
         ],
         "hovertemplate": "<b>%{hovertext}</b><br><br>Species=%{customdata[1]}<br>pm1=%{x}<br>pm2=%{y}<br>Unnamed: 0=%{customdata[0]}<br>Kingdom=%{customdata[2]}<br>Family=%{customdata[3]}<br>Color_eukaryota=%{customdata[4]}<extra></extra>",
         "hovertext": [
          "Chlamydophila"
         ],
         "legendgroup": "Chlamydophila",
         "marker": {
          "color": "#34b8e7",
          "symbol": "circle"
         },
         "mode": "markers",
         "name": "Chlamydophila",
         "orientation": "v",
         "showlegend": true,
         "textposition": "top right",
         "type": "scatter",
         "x": [
          -0.25023285
         ],
         "xaxis": "x",
         "y": [
          0.4392662
         ],
         "yaxis": "y"
        },
        {
         "customdata": [
          [
           114,
           "Chlorobium",
           "Bacteria",
           "Chlorobi",
           "OTHERS"
          ],
          [
           115,
           "Chlorobium",
           "Bacteria",
           "Chlorobi",
           "OTHERS"
          ]
         ],
         "hovertemplate": "<b>%{hovertext}</b><br><br>Species=%{customdata[1]}<br>pm1=%{x}<br>pm2=%{y}<br>Unnamed: 0=%{customdata[0]}<br>Kingdom=%{customdata[2]}<br>Family=%{customdata[3]}<br>Color_eukaryota=%{customdata[4]}<extra></extra>",
         "hovertext": [
          "Chlorobium",
          "Chlorobium"
         ],
         "legendgroup": "Chlorobium",
         "marker": {
          "color": "#34b8e7",
          "symbol": "circle"
         },
         "mode": "markers",
         "name": "Chlorobium",
         "orientation": "v",
         "showlegend": true,
         "textposition": "top right",
         "type": "scatter",
         "x": [
          0.60114247,
          0.2567983
         ],
         "xaxis": "x",
         "y": [
          0.21378578,
          0.03459018
         ],
         "yaxis": "y"
        },
        {
         "customdata": [
          [
           116,
           "Bacteroides",
           "Bacteria",
           "Bacteroidetes",
           "OTHERS"
          ],
          [
           119,
           "Bacteroides",
           "Bacteria",
           "Bacteroidetes",
           "OTHERS"
          ],
          [
           120,
           "Bacteroides",
           "Bacteria",
           "Bacteroidetes",
           "OTHERS"
          ],
          [
           122,
           "Bacteroides",
           "Bacteria",
           "Bacteroidetes",
           "OTHERS"
          ],
          [
           123,
           "Bacteroides",
           "Bacteria",
           "Bacteroidetes",
           "OTHERS"
          ]
         ],
         "hovertemplate": "<b>%{hovertext}</b><br><br>Species=%{customdata[1]}<br>pm1=%{x}<br>pm2=%{y}<br>Unnamed: 0=%{customdata[0]}<br>Kingdom=%{customdata[2]}<br>Family=%{customdata[3]}<br>Color_eukaryota=%{customdata[4]}<extra></extra>",
         "hovertext": [
          "Bacteroides",
          "Bacteroides",
          "Bacteroides",
          "Bacteroides",
          "Bacteroides"
         ],
         "legendgroup": "Bacteroides",
         "marker": {
          "color": "#34b8e7",
          "symbol": "circle"
         },
         "mode": "markers",
         "name": "Bacteroides",
         "orientation": "v",
         "showlegend": true,
         "textposition": "top right",
         "type": "scatter",
         "x": [
          0.47989705,
          0.3692386,
          0.19888364,
          0.14345936,
          0.14294769
         ],
         "xaxis": "x",
         "y": [
          0.15902598,
          -0.13635924,
          0.4285746,
          0.25527,
          0.2555792
         ],
         "yaxis": "y"
        },
        {
         "customdata": [
          [
           117,
           "Flavobacterium",
           "Bacteria",
           "Bacteroidetes",
           "OTHERS"
          ]
         ],
         "hovertemplate": "<b>%{hovertext}</b><br><br>Species=%{customdata[1]}<br>pm1=%{x}<br>pm2=%{y}<br>Unnamed: 0=%{customdata[0]}<br>Kingdom=%{customdata[2]}<br>Family=%{customdata[3]}<br>Color_eukaryota=%{customdata[4]}<extra></extra>",
         "hovertext": [
          "Flavobacterium"
         ],
         "legendgroup": "Flavobacterium",
         "marker": {
          "color": "#34b8e7",
          "symbol": "circle"
         },
         "mode": "markers",
         "name": "Flavobacterium",
         "orientation": "v",
         "showlegend": true,
         "textposition": "top right",
         "type": "scatter",
         "x": [
          0.40690038
         ],
         "xaxis": "x",
         "y": [
          -0.08747836
         ],
         "yaxis": "y"
        },
        {
         "customdata": [
          [
           118,
           "Porphyromonas",
           "Bacteria",
           "Bacteroidetes",
           "OTHERS"
          ],
          [
           121,
           "Porphyromonas",
           "Bacteria",
           "Bacteroidetes",
           "OTHERS"
          ]
         ],
         "hovertemplate": "<b>%{hovertext}</b><br><br>Species=%{customdata[1]}<br>pm1=%{x}<br>pm2=%{y}<br>Unnamed: 0=%{customdata[0]}<br>Kingdom=%{customdata[2]}<br>Family=%{customdata[3]}<br>Color_eukaryota=%{customdata[4]}<extra></extra>",
         "hovertext": [
          "Porphyromonas",
          "Porphyromonas"
         ],
         "legendgroup": "Porphyromonas",
         "marker": {
          "color": "#34b8e7",
          "symbol": "circle"
         },
         "mode": "markers",
         "name": "Porphyromonas",
         "orientation": "v",
         "showlegend": true,
         "textposition": "top right",
         "type": "scatter",
         "x": [
          0.41359827,
          0.16267529
         ],
         "xaxis": "x",
         "y": [
          -0.18823919,
          0.29109663
         ],
         "yaxis": "y"
        },
        {
         "customdata": [
          [
           124,
           "Rhodopirellula",
           "Bacteria",
           "Planctomycetes",
           "OTHERS"
          ],
          [
           125,
           "Rhodopirellula",
           "Bacteria",
           "Planctomycetes",
           "OTHERS"
          ]
         ],
         "hovertemplate": "<b>%{hovertext}</b><br><br>Species=%{customdata[1]}<br>pm1=%{x}<br>pm2=%{y}<br>Unnamed: 0=%{customdata[0]}<br>Kingdom=%{customdata[2]}<br>Family=%{customdata[3]}<br>Color_eukaryota=%{customdata[4]}<extra></extra>",
         "hovertext": [
          "Rhodopirellula",
          "Rhodopirellula"
         ],
         "legendgroup": "Rhodopirellula",
         "marker": {
          "color": "#34b8e7",
          "symbol": "circle"
         },
         "mode": "markers",
         "name": "Rhodopirellula",
         "orientation": "v",
         "showlegend": true,
         "textposition": "top right",
         "type": "scatter",
         "x": [
          0.25462425,
          0.39238596
         ],
         "xaxis": "x",
         "y": [
          0.21689159,
          0.2696938
         ],
         "yaxis": "y"
        },
        {
         "customdata": [
          [
           126,
           "Mycobacterium",
           "Bacteria",
           "Actinobacteria",
           "OTHERS"
          ],
          [
           127,
           "Mycobacterium",
           "Bacteria",
           "Actinobacteria",
           "OTHERS"
          ],
          [
           132,
           "Mycobacterium",
           "Bacteria",
           "Actinobacteria",
           "OTHERS"
          ],
          [
           136,
           "Mycobacterium",
           "Bacteria",
           "Actinobacteria",
           "OTHERS"
          ]
         ],
         "hovertemplate": "<b>%{hovertext}</b><br><br>Species=%{customdata[1]}<br>pm1=%{x}<br>pm2=%{y}<br>Unnamed: 0=%{customdata[0]}<br>Kingdom=%{customdata[2]}<br>Family=%{customdata[3]}<br>Color_eukaryota=%{customdata[4]}<extra></extra>",
         "hovertext": [
          "Mycobacterium",
          "Mycobacterium",
          "Mycobacterium",
          "Mycobacterium"
         ],
         "legendgroup": "Mycobacterium",
         "marker": {
          "color": "#34b8e7",
          "symbol": "circle"
         },
         "mode": "markers",
         "name": "Mycobacterium",
         "orientation": "v",
         "showlegend": true,
         "textposition": "top right",
         "type": "scatter",
         "x": [
          0.20937082,
          0.17825927,
          0.5082831,
          0.4763313
         ],
         "xaxis": "x",
         "y": [
          -0.8875581,
          -0.8909619,
          0.29434073,
          0.30756667
         ],
         "yaxis": "y"
        },
        {
         "customdata": [
          [
           128,
           "Corynebacterium",
           "Bacteria",
           "Actinobacteria",
           "OTHERS"
          ],
          [
           134,
           "Corynebacterium",
           "Bacteria",
           "Actinobacteria",
           "OTHERS"
          ]
         ],
         "hovertemplate": "<b>%{hovertext}</b><br><br>Species=%{customdata[1]}<br>pm1=%{x}<br>pm2=%{y}<br>Unnamed: 0=%{customdata[0]}<br>Kingdom=%{customdata[2]}<br>Family=%{customdata[3]}<br>Color_eukaryota=%{customdata[4]}<extra></extra>",
         "hovertext": [
          "Corynebacterium",
          "Corynebacterium"
         ],
         "legendgroup": "Corynebacterium",
         "marker": {
          "color": "#34b8e7",
          "symbol": "circle"
         },
         "mode": "markers",
         "name": "Corynebacterium",
         "orientation": "v",
         "showlegend": true,
         "textposition": "top right",
         "type": "scatter",
         "x": [
          0.18820812,
          0.36676648
         ],
         "xaxis": "x",
         "y": [
          -0.8699052,
          0.02289036
         ],
         "yaxis": "y"
        },
        {
         "customdata": [
          [
           129,
           "Thermobifida",
           "Bacteria",
           "Actinobacteria",
           "OTHERS"
          ],
          [
           131,
           "Thermobifida",
           "Bacteria",
           "Actinobacteria",
           "OTHERS"
          ],
          [
           137,
           "Thermobifida",
           "Bacteria",
           "Actinobacteria",
           "OTHERS"
          ]
         ],
         "hovertemplate": "<b>%{hovertext}</b><br><br>Species=%{customdata[1]}<br>pm1=%{x}<br>pm2=%{y}<br>Unnamed: 0=%{customdata[0]}<br>Kingdom=%{customdata[2]}<br>Family=%{customdata[3]}<br>Color_eukaryota=%{customdata[4]}<extra></extra>",
         "hovertext": [
          "Thermobifida",
          "Thermobifida",
          "Thermobifida"
         ],
         "legendgroup": "Thermobifida",
         "marker": {
          "color": "#34b8e7",
          "symbol": "circle"
         },
         "mode": "markers",
         "name": "Thermobifida",
         "orientation": "v",
         "showlegend": true,
         "textposition": "top right",
         "type": "scatter",
         "x": [
          0.18943547,
          0.22331685,
          0.43697983
         ],
         "xaxis": "x",
         "y": [
          -0.8181566,
          -0.84322137,
          0.3889018
         ],
         "yaxis": "y"
        },
        {
         "customdata": [
          [
           130,
           "Streptomyces",
           "Bacteria",
           "Actinobacteria",
           "OTHERS"
          ],
          [
           133,
           "Streptomyces",
           "Bacteria",
           "Actinobacteria",
           "OTHERS"
          ],
          [
           135,
           "Streptomyces",
           "Bacteria",
           "Actinobacteria",
           "OTHERS"
          ],
          [
           138,
           "Streptomyces",
           "Bacteria",
           "Actinobacteria",
           "OTHERS"
          ]
         ],
         "hovertemplate": "<b>%{hovertext}</b><br><br>Species=%{customdata[1]}<br>pm1=%{x}<br>pm2=%{y}<br>Unnamed: 0=%{customdata[0]}<br>Kingdom=%{customdata[2]}<br>Family=%{customdata[3]}<br>Color_eukaryota=%{customdata[4]}<extra></extra>",
         "hovertext": [
          "Streptomyces",
          "Streptomyces",
          "Streptomyces",
          "Streptomyces"
         ],
         "legendgroup": "Streptomyces",
         "marker": {
          "color": "#34b8e7",
          "symbol": "circle"
         },
         "mode": "markers",
         "name": "Streptomyces",
         "orientation": "v",
         "showlegend": true,
         "textposition": "top right",
         "type": "scatter",
         "x": [
          0.19311011,
          0.5062294,
          0.5304242,
          0.43220982
         ],
         "xaxis": "x",
         "y": [
          -0.84682655,
          0.3051776,
          0.39288884,
          0.41202927
         ],
         "yaxis": "y"
        },
        {
         "customdata": [
          [
           139,
           "Synechocystis",
           "Bacteria",
           "Cyanobacteria",
           "OTHERS"
          ],
          [
           142,
           "Synechocystis",
           "Bacteria",
           "Cyanobacteria",
           "OTHERS"
          ],
          [
           145,
           "Synechocystis",
           "Bacteria",
           "Cyanobacteria",
           "OTHERS"
          ],
          [
           152,
           "Synechocystis",
           "Bacteria",
           "Cyanobacteria",
           "OTHERS"
          ]
         ],
         "hovertemplate": "<b>%{hovertext}</b><br><br>Species=%{customdata[1]}<br>pm1=%{x}<br>pm2=%{y}<br>Unnamed: 0=%{customdata[0]}<br>Kingdom=%{customdata[2]}<br>Family=%{customdata[3]}<br>Color_eukaryota=%{customdata[4]}<extra></extra>",
         "hovertext": [
          "Synechocystis",
          "Synechocystis",
          "Synechocystis",
          "Synechocystis"
         ],
         "legendgroup": "Synechocystis",
         "marker": {
          "color": "#34b8e7",
          "symbol": "circle"
         },
         "mode": "markers",
         "name": "Synechocystis",
         "orientation": "v",
         "showlegend": true,
         "textposition": "top right",
         "type": "scatter",
         "x": [
          0.33621347,
          0.4924073,
          0.2507609,
          0.58291686
         ],
         "xaxis": "x",
         "y": [
          0.42588177,
          0.21126285,
          0.3959612,
          0.18630831
         ],
         "yaxis": "y"
        },
        {
         "customdata": [
          [
           140,
           "Nostoc",
           "Bacteria",
           "Cyanobacteria",
           "OTHERS"
          ],
          [
           141,
           "Nostoc",
           "Bacteria",
           "Cyanobacteria",
           "OTHERS"
          ],
          [
           147,
           "Nostoc",
           "Bacteria",
           "Cyanobacteria",
           "OTHERS"
          ],
          [
           148,
           "Nostoc",
           "Bacteria",
           "Cyanobacteria",
           "OTHERS"
          ],
          [
           150,
           "Nostoc",
           "Bacteria",
           "Cyanobacteria",
           "OTHERS"
          ]
         ],
         "hovertemplate": "<b>%{hovertext}</b><br><br>Species=%{customdata[1]}<br>pm1=%{x}<br>pm2=%{y}<br>Unnamed: 0=%{customdata[0]}<br>Kingdom=%{customdata[2]}<br>Family=%{customdata[3]}<br>Color_eukaryota=%{customdata[4]}<extra></extra>",
         "hovertext": [
          "Nostoc",
          "Nostoc",
          "Nostoc",
          "Nostoc",
          "Nostoc"
         ],
         "legendgroup": "Nostoc",
         "marker": {
          "color": "#34b8e7",
          "symbol": "circle"
         },
         "mode": "markers",
         "name": "Nostoc",
         "orientation": "v",
         "showlegend": true,
         "textposition": "top right",
         "type": "scatter",
         "x": [
          0.34850705,
          0.4944681,
          0.37394655,
          0.35461435,
          0.62031305
         ],
         "xaxis": "x",
         "y": [
          0.4718529,
          0.16870992,
          0.31219527,
          0.15791759,
          0.12296761
         ],
         "yaxis": "y"
        },
        {
         "customdata": [
          [
           143,
           "Thermosynechococcus",
           "Bacteria",
           "Cyanobacteria",
           "OTHERS"
          ],
          [
           144,
           "Thermosynechococcus",
           "Bacteria",
           "Cyanobacteria",
           "OTHERS"
          ],
          [
           146,
           "Thermosynechococcus",
           "Bacteria",
           "Cyanobacteria",
           "OTHERS"
          ],
          [
           149,
           "Thermosynechococcus",
           "Bacteria",
           "Cyanobacteria",
           "OTHERS"
          ]
         ],
         "hovertemplate": "<b>%{hovertext}</b><br><br>Species=%{customdata[1]}<br>pm1=%{x}<br>pm2=%{y}<br>Unnamed: 0=%{customdata[0]}<br>Kingdom=%{customdata[2]}<br>Family=%{customdata[3]}<br>Color_eukaryota=%{customdata[4]}<extra></extra>",
         "hovertext": [
          "Thermosynechococcus",
          "Thermosynechococcus",
          "Thermosynechococcus",
          "Thermosynechococcus"
         ],
         "legendgroup": "Thermosynechococcus",
         "marker": {
          "color": "#34b8e7",
          "symbol": "circle"
         },
         "mode": "markers",
         "name": "Thermosynechococcus",
         "orientation": "v",
         "showlegend": true,
         "textposition": "top right",
         "type": "scatter",
         "x": [
          0.48007292,
          0.35752845,
          0.24830408,
          0.5294296
         ],
         "xaxis": "x",
         "y": [
          0.15935723,
          -0.09040809,
          0.48897213,
          0.07986674
         ],
         "yaxis": "y"
        },
        {
         "customdata": [
          [
           151,
           "Prochlorococcus",
           "Bacteria",
           "Cyanobacteria",
           "OTHERS"
          ]
         ],
         "hovertemplate": "<b>%{hovertext}</b><br><br>Species=%{customdata[1]}<br>pm1=%{x}<br>pm2=%{y}<br>Unnamed: 0=%{customdata[0]}<br>Kingdom=%{customdata[2]}<br>Family=%{customdata[3]}<br>Color_eukaryota=%{customdata[4]}<extra></extra>",
         "hovertext": [
          "Prochlorococcus"
         ],
         "legendgroup": "Prochlorococcus",
         "marker": {
          "color": "#34b8e7",
          "symbol": "circle"
         },
         "mode": "markers",
         "name": "Prochlorococcus",
         "orientation": "v",
         "showlegend": true,
         "textposition": "top right",
         "type": "scatter",
         "x": [
          0.6853675
         ],
         "xaxis": "x",
         "y": [
          0.17355375
         ],
         "yaxis": "y"
        },
        {
         "customdata": [
          [
           153,
           "Nostoc1",
           "Bacteria",
           "Cyanobacteria",
           "OTHERS"
          ]
         ],
         "hovertemplate": "<b>%{hovertext}</b><br><br>Species=%{customdata[1]}<br>pm1=%{x}<br>pm2=%{y}<br>Unnamed: 0=%{customdata[0]}<br>Kingdom=%{customdata[2]}<br>Family=%{customdata[3]}<br>Color_eukaryota=%{customdata[4]}<extra></extra>",
         "hovertext": [
          "Nostoc1"
         ],
         "legendgroup": "Nostoc1",
         "marker": {
          "color": "#34b8e7",
          "symbol": "circle"
         },
         "mode": "markers",
         "name": "Nostoc1",
         "orientation": "v",
         "showlegend": true,
         "textposition": "top right",
         "type": "scatter",
         "x": [
          0.5432263
         ],
         "xaxis": "x",
         "y": [
          0.062537745
         ],
         "yaxis": "y"
        },
        {
         "customdata": [
          [
           154,
           "Pea Chloroplast",
           "Eukaryota",
           "Viridiplantae",
           "CHLOROPLAST"
          ]
         ],
         "hovertemplate": "<b>%{hovertext}</b><br><br>Species=%{customdata[1]}<br>pm1=%{x}<br>pm2=%{y}<br>Unnamed: 0=%{customdata[0]}<br>Kingdom=%{customdata[2]}<br>Family=%{customdata[3]}<br>Color_eukaryota=%{customdata[4]}<extra></extra>",
         "hovertext": [
          "Pea Chloroplast"
         ],
         "legendgroup": "Pea Chloroplast",
         "marker": {
          "color": "#06f9d4",
          "symbol": "circle"
         },
         "mode": "markers",
         "name": "Pea Chloroplast",
         "orientation": "v",
         "showlegend": true,
         "textposition": "top right",
         "type": "scatter",
         "x": [
          0.8524639
         ],
         "xaxis": "x",
         "y": [
          0.27847457
         ],
         "yaxis": "y"
        },
        {
         "customdata": [
          [
           155,
           "Spiol Chloroplast",
           "Eukaryota",
           "Viridiplantae",
           "CHLOROPLAST"
          ]
         ],
         "hovertemplate": "<b>%{hovertext}</b><br><br>Species=%{customdata[1]}<br>pm1=%{x}<br>pm2=%{y}<br>Unnamed: 0=%{customdata[0]}<br>Kingdom=%{customdata[2]}<br>Family=%{customdata[3]}<br>Color_eukaryota=%{customdata[4]}<extra></extra>",
         "hovertext": [
          "Spiol Chloroplast"
         ],
         "legendgroup": "Spiol Chloroplast",
         "marker": {
          "color": "#06f9d4",
          "symbol": "circle"
         },
         "mode": "markers",
         "name": "Spiol Chloroplast",
         "orientation": "v",
         "showlegend": true,
         "textposition": "top right",
         "type": "scatter",
         "x": [
          0.88229173
         ],
         "xaxis": "x",
         "y": [
          0.250263
         ],
         "yaxis": "y"
        },
        {
         "customdata": [
          [
           156,
           "Wheat Chloroplast",
           "Eukaryota",
           "Viridiplantae",
           "CHLOROPLAST"
          ]
         ],
         "hovertemplate": "<b>%{hovertext}</b><br><br>Species=%{customdata[1]}<br>pm1=%{x}<br>pm2=%{y}<br>Unnamed: 0=%{customdata[0]}<br>Kingdom=%{customdata[2]}<br>Family=%{customdata[3]}<br>Color_eukaryota=%{customdata[4]}<extra></extra>",
         "hovertext": [
          "Wheat Chloroplast"
         ],
         "legendgroup": "Wheat Chloroplast",
         "marker": {
          "color": "#06f9d4",
          "symbol": "circle"
         },
         "mode": "markers",
         "name": "Wheat Chloroplast",
         "orientation": "v",
         "showlegend": true,
         "textposition": "top right",
         "type": "scatter",
         "x": [
          0.87905174
         ],
         "xaxis": "x",
         "y": [
          0.2813189
         ],
         "yaxis": "y"
        },
        {
         "customdata": [
          [
           157,
           "Pisum Chloroplast",
           "Eukaryota",
           "Viridiplantae",
           "CHLOROPLAST"
          ]
         ],
         "hovertemplate": "<b>%{hovertext}</b><br><br>Species=%{customdata[1]}<br>pm1=%{x}<br>pm2=%{y}<br>Unnamed: 0=%{customdata[0]}<br>Kingdom=%{customdata[2]}<br>Family=%{customdata[3]}<br>Color_eukaryota=%{customdata[4]}<extra></extra>",
         "hovertext": [
          "Pisum Chloroplast"
         ],
         "legendgroup": "Pisum Chloroplast",
         "marker": {
          "color": "#06f9d4",
          "symbol": "circle"
         },
         "mode": "markers",
         "name": "Pisum Chloroplast",
         "orientation": "v",
         "showlegend": true,
         "textposition": "top right",
         "type": "scatter",
         "x": [
          0.86051095
         ],
         "xaxis": "x",
         "y": [
          0.25488907
         ],
         "yaxis": "y"
        },
        {
         "customdata": [
          [
           158,
           "Brana Chloroplast",
           "Eukaryota",
           "Viridiplantae",
           "CHLOROPLAST"
          ]
         ],
         "hovertemplate": "<b>%{hovertext}</b><br><br>Species=%{customdata[1]}<br>pm1=%{x}<br>pm2=%{y}<br>Unnamed: 0=%{customdata[0]}<br>Kingdom=%{customdata[2]}<br>Family=%{customdata[3]}<br>Color_eukaryota=%{customdata[4]}<extra></extra>",
         "hovertext": [
          "Brana Chloroplast"
         ],
         "legendgroup": "Brana Chloroplast",
         "marker": {
          "color": "#06f9d4",
          "symbol": "circle"
         },
         "mode": "markers",
         "name": "Brana Chloroplast",
         "orientation": "v",
         "showlegend": true,
         "textposition": "top right",
         "type": "scatter",
         "x": [
          0.87869513
         ],
         "xaxis": "x",
         "y": [
          0.22154756
         ],
         "yaxis": "y"
        },
        {
         "customdata": [
          [
           159,
           "Thermus",
           "Bacteria",
           "Deinococcus-Thermus",
           "OTHERS"
          ],
          [
           161,
           "Thermus",
           "Bacteria",
           "Deinococcus-Thermus",
           "OTHERS"
          ]
         ],
         "hovertemplate": "<b>%{hovertext}</b><br><br>Species=%{customdata[1]}<br>pm1=%{x}<br>pm2=%{y}<br>Unnamed: 0=%{customdata[0]}<br>Kingdom=%{customdata[2]}<br>Family=%{customdata[3]}<br>Color_eukaryota=%{customdata[4]}<extra></extra>",
         "hovertext": [
          "Thermus",
          "Thermus"
         ],
         "legendgroup": "Thermus",
         "marker": {
          "color": "#34b8e7",
          "symbol": "circle"
         },
         "mode": "markers",
         "name": "Thermus",
         "orientation": "v",
         "showlegend": true,
         "textposition": "top right",
         "type": "scatter",
         "x": [
          0.6530208,
          0.3049297
         ],
         "xaxis": "x",
         "y": [
          -0.118381925,
          0.26484963
         ],
         "yaxis": "y"
        },
        {
         "customdata": [
          [
           160,
           "Deinococcus",
           "Bacteria",
           "Deinococcus-Thermus",
           "OTHERS"
          ],
          [
           162,
           "Deinococcus",
           "Bacteria",
           "Deinococcus-Thermus",
           "OTHERS"
          ]
         ],
         "hovertemplate": "<b>%{hovertext}</b><br><br>Species=%{customdata[1]}<br>pm1=%{x}<br>pm2=%{y}<br>Unnamed: 0=%{customdata[0]}<br>Kingdom=%{customdata[2]}<br>Family=%{customdata[3]}<br>Color_eukaryota=%{customdata[4]}<extra></extra>",
         "hovertext": [
          "Deinococcus",
          "Deinococcus"
         ],
         "legendgroup": "Deinococcus",
         "marker": {
          "color": "#34b8e7",
          "symbol": "circle"
         },
         "mode": "markers",
         "name": "Deinococcus",
         "orientation": "v",
         "showlegend": true,
         "textposition": "top right",
         "type": "scatter",
         "x": [
          0.62219614,
          0.23201871
         ],
         "xaxis": "x",
         "y": [
          -0.055205166,
          0.13545136
         ],
         "yaxis": "y"
        },
        {
         "customdata": [
          [
           163,
           "Dehalococcoides",
           "Bacteria",
           "Chloroflexi",
           "OTHERS"
          ]
         ],
         "hovertemplate": "<b>%{hovertext}</b><br><br>Species=%{customdata[1]}<br>pm1=%{x}<br>pm2=%{y}<br>Unnamed: 0=%{customdata[0]}<br>Kingdom=%{customdata[2]}<br>Family=%{customdata[3]}<br>Color_eukaryota=%{customdata[4]}<extra></extra>",
         "hovertext": [
          "Dehalococcoides"
         ],
         "legendgroup": "Dehalococcoides",
         "marker": {
          "color": "#34b8e7",
          "symbol": "circle"
         },
         "mode": "markers",
         "name": "Dehalococcoides",
         "orientation": "v",
         "showlegend": true,
         "textposition": "top right",
         "type": "scatter",
         "x": [
          0.3036325
         ],
         "xaxis": "x",
         "y": [
          -0.019556904
         ],
         "yaxis": "y"
        },
        {
         "customdata": [
          [
           164,
           "Chloroflexus",
           "Bacteria",
           "Chloroflexi",
           "OTHERS"
          ],
          [
           165,
           "Chloroflexus",
           "Bacteria",
           "Chloroflexi",
           "OTHERS"
          ],
          [
           166,
           "Chloroflexus",
           "Bacteria",
           "Chloroflexi",
           "OTHERS"
          ]
         ],
         "hovertemplate": "<b>%{hovertext}</b><br><br>Species=%{customdata[1]}<br>pm1=%{x}<br>pm2=%{y}<br>Unnamed: 0=%{customdata[0]}<br>Kingdom=%{customdata[2]}<br>Family=%{customdata[3]}<br>Color_eukaryota=%{customdata[4]}<extra></extra>",
         "hovertext": [
          "Chloroflexus",
          "Chloroflexus",
          "Chloroflexus"
         ],
         "legendgroup": "Chloroflexus",
         "marker": {
          "color": "#34b8e7",
          "symbol": "circle"
         },
         "mode": "markers",
         "name": "Chloroflexus",
         "orientation": "v",
         "showlegend": true,
         "textposition": "top right",
         "type": "scatter",
         "x": [
          0.5299213,
          0.35496226,
          0.29009506
         ],
         "xaxis": "x",
         "y": [
          -0.08009967,
          0.28542045,
          0.36536145
         ],
         "yaxis": "y"
        },
        {
         "customdata": [
          [
           167,
           "Aquifex",
           "Bacteria",
           "Aquificae",
           "OTHERS"
          ]
         ],
         "hovertemplate": "<b>%{hovertext}</b><br><br>Species=%{customdata[1]}<br>pm1=%{x}<br>pm2=%{y}<br>Unnamed: 0=%{customdata[0]}<br>Kingdom=%{customdata[2]}<br>Family=%{customdata[3]}<br>Color_eukaryota=%{customdata[4]}<extra></extra>",
         "hovertext": [
          "Aquifex"
         ],
         "legendgroup": "Aquifex",
         "marker": {
          "color": "#34b8e7",
          "symbol": "circle"
         },
         "mode": "markers",
         "name": "Aquifex",
         "orientation": "v",
         "showlegend": true,
         "textposition": "top right",
         "type": "scatter",
         "x": [
          0.2356973
         ],
         "xaxis": "x",
         "y": [
          0.19068073
         ],
         "yaxis": "y"
        },
        {
         "customdata": [
          [
           168,
           "Bdellovibrio",
           "Bacteria",
           "Proteobacteria",
           "OTHERS"
          ],
          [
           170,
           "Bdellovibrio",
           "Bacteria",
           "Proteobacteria",
           "OTHERS"
          ]
         ],
         "hovertemplate": "<b>%{hovertext}</b><br><br>Species=%{customdata[1]}<br>pm1=%{x}<br>pm2=%{y}<br>Unnamed: 0=%{customdata[0]}<br>Kingdom=%{customdata[2]}<br>Family=%{customdata[3]}<br>Color_eukaryota=%{customdata[4]}<extra></extra>",
         "hovertext": [
          "Bdellovibrio",
          "Bdellovibrio"
         ],
         "legendgroup": "Bdellovibrio",
         "marker": {
          "color": "#34b8e7",
          "symbol": "circle"
         },
         "mode": "markers",
         "name": "Bdellovibrio",
         "orientation": "v",
         "showlegend": true,
         "textposition": "top right",
         "type": "scatter",
         "x": [
          0.1661885,
          0.50053394
         ],
         "xaxis": "x",
         "y": [
          -0.83963746,
          0.4259467
         ],
         "yaxis": "y"
        },
        {
         "customdata": [
          [
           169,
           "Geobacter",
           "Bacteria",
           "Proteobacteria",
           "OTHERS"
          ],
          [
           172,
           "Geobacter",
           "Bacteria",
           "Proteobacteria",
           "OTHERS"
          ]
         ],
         "hovertemplate": "<b>%{hovertext}</b><br><br>Species=%{customdata[1]}<br>pm1=%{x}<br>pm2=%{y}<br>Unnamed: 0=%{customdata[0]}<br>Kingdom=%{customdata[2]}<br>Family=%{customdata[3]}<br>Color_eukaryota=%{customdata[4]}<extra></extra>",
         "hovertext": [
          "Geobacter",
          "Geobacter"
         ],
         "legendgroup": "Geobacter",
         "marker": {
          "color": "#34b8e7",
          "symbol": "circle"
         },
         "mode": "markers",
         "name": "Geobacter",
         "orientation": "v",
         "showlegend": true,
         "textposition": "top right",
         "type": "scatter",
         "x": [
          0.7611729,
          0.23331903
         ],
         "xaxis": "x",
         "y": [
          -0.13494243,
          0.242193
         ],
         "yaxis": "y"
        },
        {
         "customdata": [
          [
           171,
           "Desulfovibrio",
           "Bacteria",
           "Proteobacteria",
           "OTHERS"
          ]
         ],
         "hovertemplate": "<b>%{hovertext}</b><br><br>Species=%{customdata[1]}<br>pm1=%{x}<br>pm2=%{y}<br>Unnamed: 0=%{customdata[0]}<br>Kingdom=%{customdata[2]}<br>Family=%{customdata[3]}<br>Color_eukaryota=%{customdata[4]}<extra></extra>",
         "hovertext": [
          "Desulfovibrio"
         ],
         "legendgroup": "Desulfovibrio",
         "marker": {
          "color": "#34b8e7",
          "symbol": "circle"
         },
         "mode": "markers",
         "name": "Desulfovibrio",
         "orientation": "v",
         "showlegend": true,
         "textposition": "top right",
         "type": "scatter",
         "x": [
          0.4309682
         ],
         "xaxis": "x",
         "y": [
          0.12233977
         ],
         "yaxis": "y"
        },
        {
         "customdata": [
          [
           173,
           "Solibacter",
           "Bacteria",
           "Acidobacteria",
           "OTHERS"
          ],
          [
           174,
           "Solibacter",
           "Bacteria",
           "Acidobacteria",
           "OTHERS"
          ]
         ],
         "hovertemplate": "<b>%{hovertext}</b><br><br>Species=%{customdata[1]}<br>pm1=%{x}<br>pm2=%{y}<br>Unnamed: 0=%{customdata[0]}<br>Kingdom=%{customdata[2]}<br>Family=%{customdata[3]}<br>Color_eukaryota=%{customdata[4]}<extra></extra>",
         "hovertext": [
          "Solibacter",
          "Solibacter"
         ],
         "legendgroup": "Solibacter",
         "marker": {
          "color": "#34b8e7",
          "symbol": "circle"
         },
         "mode": "markers",
         "name": "Solibacter",
         "orientation": "v",
         "showlegend": true,
         "textposition": "top right",
         "type": "scatter",
         "x": [
          0.6898903,
          0.23371972
         ],
         "xaxis": "x",
         "y": [
          -0.09248562,
          0.26179278
         ],
         "yaxis": "y"
        },
        {
         "customdata": [
          [
           175,
           "Acidobacteria",
           "Bacteria",
           "Acidobacteria",
           "OTHERS"
          ]
         ],
         "hovertemplate": "<b>%{hovertext}</b><br><br>Species=%{customdata[1]}<br>pm1=%{x}<br>pm2=%{y}<br>Unnamed: 0=%{customdata[0]}<br>Kingdom=%{customdata[2]}<br>Family=%{customdata[3]}<br>Color_eukaryota=%{customdata[4]}<extra></extra>",
         "hovertext": [
          "Acidobacteria"
         ],
         "legendgroup": "Acidobacteria",
         "marker": {
          "color": "#34b8e7",
          "symbol": "circle"
         },
         "mode": "markers",
         "name": "Acidobacteria",
         "orientation": "v",
         "showlegend": true,
         "textposition": "top right",
         "type": "scatter",
         "x": [
          0.22608489
         ],
         "xaxis": "x",
         "y": [
          0.25558406
         ],
         "yaxis": "y"
        },
        {
         "customdata": [
          [
           176,
           "Wolinella",
           "Bacteria",
           "Proteobacteria",
           "OTHERS"
          ],
          [
           180,
           "Wolinella",
           "Bacteria",
           "Proteobacteria",
           "OTHERS"
          ],
          [
           181,
           "Wolinella",
           "Bacteria",
           "Proteobacteria",
           "OTHERS"
          ]
         ],
         "hovertemplate": "<b>%{hovertext}</b><br><br>Species=%{customdata[1]}<br>pm1=%{x}<br>pm2=%{y}<br>Unnamed: 0=%{customdata[0]}<br>Kingdom=%{customdata[2]}<br>Family=%{customdata[3]}<br>Color_eukaryota=%{customdata[4]}<extra></extra>",
         "hovertext": [
          "Wolinella",
          "Wolinella",
          "Wolinella"
         ],
         "legendgroup": "Wolinella",
         "marker": {
          "color": "#34b8e7",
          "symbol": "circle"
         },
         "mode": "markers",
         "name": "Wolinella",
         "orientation": "v",
         "showlegend": true,
         "textposition": "top right",
         "type": "scatter",
         "x": [
          -0.04324382,
          0.2033479,
          0.20609
         ],
         "xaxis": "x",
         "y": [
          -0.043105245,
          0.06992514,
          0.06081779
         ],
         "yaxis": "y"
        },
        {
         "customdata": [
          [
           177,
           "Helicobacter",
           "Bacteria",
           "Proteobacteria",
           "OTHERS"
          ],
          [
           179,
           "Helicobacter",
           "Bacteria",
           "Proteobacteria",
           "OTHERS"
          ]
         ],
         "hovertemplate": "<b>%{hovertext}</b><br><br>Species=%{customdata[1]}<br>pm1=%{x}<br>pm2=%{y}<br>Unnamed: 0=%{customdata[0]}<br>Kingdom=%{customdata[2]}<br>Family=%{customdata[3]}<br>Color_eukaryota=%{customdata[4]}<extra></extra>",
         "hovertext": [
          "Helicobacter",
          "Helicobacter"
         ],
         "legendgroup": "Helicobacter",
         "marker": {
          "color": "#34b8e7",
          "symbol": "circle"
         },
         "mode": "markers",
         "name": "Helicobacter",
         "orientation": "v",
         "showlegend": true,
         "textposition": "top right",
         "type": "scatter",
         "x": [
          -0.03523984,
          -0.13345234
         ],
         "xaxis": "x",
         "y": [
          0.0026768777,
          -0.029684927
         ],
         "yaxis": "y"
        },
        {
         "customdata": [
          [
           178,
           "Campylobacter",
           "Bacteria",
           "Proteobacteria",
           "OTHERS"
          ]
         ],
         "hovertemplate": "<b>%{hovertext}</b><br><br>Species=%{customdata[1]}<br>pm1=%{x}<br>pm2=%{y}<br>Unnamed: 0=%{customdata[0]}<br>Kingdom=%{customdata[2]}<br>Family=%{customdata[3]}<br>Color_eukaryota=%{customdata[4]}<extra></extra>",
         "hovertext": [
          "Campylobacter"
         ],
         "legendgroup": "Campylobacter",
         "marker": {
          "color": "#34b8e7",
          "symbol": "circle"
         },
         "mode": "markers",
         "name": "Campylobacter",
         "orientation": "v",
         "showlegend": true,
         "textposition": "top right",
         "type": "scatter",
         "x": [
          -0.10813586
         ],
         "xaxis": "x",
         "y": [
          -0.013940074
         ],
         "yaxis": "y"
        },
        {
         "customdata": [
          [
           182,
           "Agrobacterium",
           "Bacteria",
           "Proteobacteria",
           "OTHERS"
          ]
         ],
         "hovertemplate": "<b>%{hovertext}</b><br><br>Species=%{customdata[1]}<br>pm1=%{x}<br>pm2=%{y}<br>Unnamed: 0=%{customdata[0]}<br>Kingdom=%{customdata[2]}<br>Family=%{customdata[3]}<br>Color_eukaryota=%{customdata[4]}<extra></extra>",
         "hovertext": [
          "Agrobacterium"
         ],
         "legendgroup": "Agrobacterium",
         "marker": {
          "color": "#34b8e7",
          "symbol": "circle"
         },
         "mode": "markers",
         "name": "Agrobacterium",
         "orientation": "v",
         "showlegend": true,
         "textposition": "top right",
         "type": "scatter",
         "x": [
          0.39940578
         ],
         "xaxis": "x",
         "y": [
          0.28572446
         ],
         "yaxis": "y"
        },
        {
         "customdata": [
          [
           183,
           "Sinorhizobium",
           "Bacteria",
           "Proteobacteria",
           "OTHERS"
          ]
         ],
         "hovertemplate": "<b>%{hovertext}</b><br><br>Species=%{customdata[1]}<br>pm1=%{x}<br>pm2=%{y}<br>Unnamed: 0=%{customdata[0]}<br>Kingdom=%{customdata[2]}<br>Family=%{customdata[3]}<br>Color_eukaryota=%{customdata[4]}<extra></extra>",
         "hovertext": [
          "Sinorhizobium"
         ],
         "legendgroup": "Sinorhizobium",
         "marker": {
          "color": "#34b8e7",
          "symbol": "circle"
         },
         "mode": "markers",
         "name": "Sinorhizobium",
         "orientation": "v",
         "showlegend": true,
         "textposition": "top right",
         "type": "scatter",
         "x": [
          0.4023528
         ],
         "xaxis": "x",
         "y": [
          0.27166802
         ],
         "yaxis": "y"
        },
        {
         "customdata": [
          [
           184,
           "Brucella",
           "Bacteria",
           "Proteobacteria",
           "OTHERS"
          ]
         ],
         "hovertemplate": "<b>%{hovertext}</b><br><br>Species=%{customdata[1]}<br>pm1=%{x}<br>pm2=%{y}<br>Unnamed: 0=%{customdata[0]}<br>Kingdom=%{customdata[2]}<br>Family=%{customdata[3]}<br>Color_eukaryota=%{customdata[4]}<extra></extra>",
         "hovertext": [
          "Brucella"
         ],
         "legendgroup": "Brucella",
         "marker": {
          "color": "#34b8e7",
          "symbol": "circle"
         },
         "mode": "markers",
         "name": "Brucella",
         "orientation": "v",
         "showlegend": true,
         "textposition": "top right",
         "type": "scatter",
         "x": [
          0.389027
         ],
         "xaxis": "x",
         "y": [
          0.2871054
         ],
         "yaxis": "y"
        },
        {
         "customdata": [
          [
           185,
           "Rickettsia",
           "Bacteria",
           "Proteobacteria",
           "OTHERS"
          ]
         ],
         "hovertemplate": "<b>%{hovertext}</b><br><br>Species=%{customdata[1]}<br>pm1=%{x}<br>pm2=%{y}<br>Unnamed: 0=%{customdata[0]}<br>Kingdom=%{customdata[2]}<br>Family=%{customdata[3]}<br>Color_eukaryota=%{customdata[4]}<extra></extra>",
         "hovertext": [
          "Rickettsia"
         ],
         "legendgroup": "Rickettsia",
         "marker": {
          "color": "#34b8e7",
          "symbol": "circle"
         },
         "mode": "markers",
         "name": "Rickettsia",
         "orientation": "v",
         "showlegend": true,
         "textposition": "top right",
         "type": "scatter",
         "x": [
          0.60773945
         ],
         "xaxis": "x",
         "y": [
          0.2866308
         ],
         "yaxis": "y"
        },
        {
         "customdata": [
          [
           186,
           "Bovin Mitochondrio",
           "Eukaryota",
           "Metazoa",
           "MITOCHONDRION"
          ]
         ],
         "hovertemplate": "<b>%{hovertext}</b><br><br>Species=%{customdata[1]}<br>pm1=%{x}<br>pm2=%{y}<br>Unnamed: 0=%{customdata[0]}<br>Kingdom=%{customdata[2]}<br>Family=%{customdata[3]}<br>Color_eukaryota=%{customdata[4]}<extra></extra>",
         "hovertext": [
          "Bovin Mitochondrio"
         ],
         "legendgroup": "Bovin Mitochondrio",
         "marker": {
          "color": "#61ff06",
          "symbol": "circle"
         },
         "mode": "markers",
         "name": "Bovin Mitochondrio",
         "orientation": "v",
         "showlegend": true,
         "textposition": "top right",
         "type": "scatter",
         "x": [
          0.7762942
         ],
         "xaxis": "x",
         "y": [
          -0.50750846
         ],
         "yaxis": "y"
        },
        {
         "customdata": [
          [
           188,
           "Homo Mitochondrion",
           "Eukaryota",
           "Metazoa",
           "MITOCHONDRION"
          ]
         ],
         "hovertemplate": "<b>%{hovertext}</b><br><br>Species=%{customdata[1]}<br>pm1=%{x}<br>pm2=%{y}<br>Unnamed: 0=%{customdata[0]}<br>Kingdom=%{customdata[2]}<br>Family=%{customdata[3]}<br>Color_eukaryota=%{customdata[4]}<extra></extra>",
         "hovertext": [
          "Homo Mitochondrion"
         ],
         "legendgroup": "Homo Mitochondrion",
         "marker": {
          "color": "#61ff06",
          "symbol": "circle"
         },
         "mode": "markers",
         "name": "Homo Mitochondrion",
         "orientation": "v",
         "showlegend": true,
         "textposition": "top right",
         "type": "scatter",
         "x": [
          0.7598772
         ],
         "xaxis": "x",
         "y": [
          -0.50699115
         ],
         "yaxis": "y"
        },
        {
         "customdata": [
          [
           189,
           "Rattus Mitochondrio",
           "Eukaryota",
           "Metazoa",
           "MITOCHONDRION"
          ]
         ],
         "hovertemplate": "<b>%{hovertext}</b><br><br>Species=%{customdata[1]}<br>pm1=%{x}<br>pm2=%{y}<br>Unnamed: 0=%{customdata[0]}<br>Kingdom=%{customdata[2]}<br>Family=%{customdata[3]}<br>Color_eukaryota=%{customdata[4]}<extra></extra>",
         "hovertext": [
          "Rattus Mitochondrio"
         ],
         "legendgroup": "Rattus Mitochondrio",
         "marker": {
          "color": "#61ff06",
          "symbol": "circle"
         },
         "mode": "markers",
         "name": "Rattus Mitochondrio",
         "orientation": "v",
         "showlegend": true,
         "textposition": "top right",
         "type": "scatter",
         "x": [
          0.76795524
         ],
         "xaxis": "x",
         "y": [
          -0.5201371
         ],
         "yaxis": "y"
        },
        {
         "customdata": [
          [
           190,
           "Mus Mitochondrion",
           "Eukaryota",
           "Metazoa",
           "MITOCHONDRION"
          ]
         ],
         "hovertemplate": "<b>%{hovertext}</b><br><br>Species=%{customdata[1]}<br>pm1=%{x}<br>pm2=%{y}<br>Unnamed: 0=%{customdata[0]}<br>Kingdom=%{customdata[2]}<br>Family=%{customdata[3]}<br>Color_eukaryota=%{customdata[4]}<extra></extra>",
         "hovertext": [
          "Mus Mitochondrion"
         ],
         "legendgroup": "Mus Mitochondrion",
         "marker": {
          "color": "#61ff06",
          "symbol": "circle"
         },
         "mode": "markers",
         "name": "Mus Mitochondrion",
         "orientation": "v",
         "showlegend": true,
         "textposition": "top right",
         "type": "scatter",
         "x": [
          0.7531102
         ],
         "xaxis": "x",
         "y": [
          -0.5204549
         ],
         "yaxis": "y"
        },
        {
         "customdata": [
          [
           191,
           "Thiobacillus",
           "Bacteria",
           "Proteobacteria",
           "OTHERS"
          ],
          [
           193,
           "Thiobacillus",
           "Bacteria",
           "Proteobacteria",
           "OTHERS"
          ],
          [
           196,
           "Thiobacillus",
           "Bacteria",
           "Proteobacteria",
           "OTHERS"
          ],
          [
           197,
           "Thiobacillus",
           "Bacteria",
           "Proteobacteria",
           "OTHERS"
          ]
         ],
         "hovertemplate": "<b>%{hovertext}</b><br><br>Species=%{customdata[1]}<br>pm1=%{x}<br>pm2=%{y}<br>Unnamed: 0=%{customdata[0]}<br>Kingdom=%{customdata[2]}<br>Family=%{customdata[3]}<br>Color_eukaryota=%{customdata[4]}<extra></extra>",
         "hovertext": [
          "Thiobacillus",
          "Thiobacillus",
          "Thiobacillus",
          "Thiobacillus"
         ],
         "legendgroup": "Thiobacillus",
         "marker": {
          "color": "#34b8e7",
          "symbol": "circle"
         },
         "mode": "markers",
         "name": "Thiobacillus",
         "orientation": "v",
         "showlegend": true,
         "textposition": "top right",
         "type": "scatter",
         "x": [
          0.41142613,
          0.34323567,
          0.82621276,
          0.2033448
         ],
         "xaxis": "x",
         "y": [
          0.52622736,
          0.602579,
          -0.16090378,
          -0.8611851
         ],
         "yaxis": "y"
        },
        {
         "customdata": [
          [
           192,
           "Neisseria",
           "Bacteria",
           "Proteobacteria",
           "OTHERS"
          ]
         ],
         "hovertemplate": "<b>%{hovertext}</b><br><br>Species=%{customdata[1]}<br>pm1=%{x}<br>pm2=%{y}<br>Unnamed: 0=%{customdata[0]}<br>Kingdom=%{customdata[2]}<br>Family=%{customdata[3]}<br>Color_eukaryota=%{customdata[4]}<extra></extra>",
         "hovertext": [
          "Neisseria"
         ],
         "legendgroup": "Neisseria",
         "marker": {
          "color": "#34b8e7",
          "symbol": "circle"
         },
         "mode": "markers",
         "name": "Neisseria",
         "orientation": "v",
         "showlegend": true,
         "textposition": "top right",
         "type": "scatter",
         "x": [
          0.28230938
         ],
         "xaxis": "x",
         "y": [
          0.5801796
         ],
         "yaxis": "y"
        },
        {
         "customdata": [
          [
           194,
           "Burkholderia",
           "Bacteria",
           "Proteobacteria",
           "OTHERS"
          ]
         ],
         "hovertemplate": "<b>%{hovertext}</b><br><br>Species=%{customdata[1]}<br>pm1=%{x}<br>pm2=%{y}<br>Unnamed: 0=%{customdata[0]}<br>Kingdom=%{customdata[2]}<br>Family=%{customdata[3]}<br>Color_eukaryota=%{customdata[4]}<extra></extra>",
         "hovertext": [
          "Burkholderia"
         ],
         "legendgroup": "Burkholderia",
         "marker": {
          "color": "#34b8e7",
          "symbol": "circle"
         },
         "mode": "markers",
         "name": "Burkholderia",
         "orientation": "v",
         "showlegend": true,
         "textposition": "top right",
         "type": "scatter",
         "x": [
          0.325576
         ],
         "xaxis": "x",
         "y": [
          0.5873442
         ],
         "yaxis": "y"
        },
        {
         "customdata": [
          [
           195,
           "Bordetella",
           "Bacteria",
           "Proteobacteria",
           "OTHERS"
          ],
          [
           198,
           "Bordetella",
           "Bacteria",
           "Proteobacteria",
           "OTHERS"
          ]
         ],
         "hovertemplate": "<b>%{hovertext}</b><br><br>Species=%{customdata[1]}<br>pm1=%{x}<br>pm2=%{y}<br>Unnamed: 0=%{customdata[0]}<br>Kingdom=%{customdata[2]}<br>Family=%{customdata[3]}<br>Color_eukaryota=%{customdata[4]}<extra></extra>",
         "hovertext": [
          "Bordetella",
          "Bordetella"
         ],
         "legendgroup": "Bordetella",
         "marker": {
          "color": "#34b8e7",
          "symbol": "circle"
         },
         "mode": "markers",
         "name": "Bordetella",
         "orientation": "v",
         "showlegend": true,
         "textposition": "top right",
         "type": "scatter",
         "x": [
          0.3557916,
          0.15955792
         ],
         "xaxis": "x",
         "y": [
          0.6089816,
          -0.8656354
         ],
         "yaxis": "y"
        },
        {
         "customdata": [
          [
           199,
           "Pseudomonas",
           "Bacteria",
           "Proteobacteria",
           "OTHERS"
          ]
         ],
         "hovertemplate": "<b>%{hovertext}</b><br><br>Species=%{customdata[1]}<br>pm1=%{x}<br>pm2=%{y}<br>Unnamed: 0=%{customdata[0]}<br>Kingdom=%{customdata[2]}<br>Family=%{customdata[3]}<br>Color_eukaryota=%{customdata[4]}<extra></extra>",
         "hovertext": [
          "Pseudomonas"
         ],
         "legendgroup": "Pseudomonas",
         "marker": {
          "color": "#34b8e7",
          "symbol": "circle"
         },
         "mode": "markers",
         "name": "Pseudomonas",
         "orientation": "v",
         "showlegend": true,
         "textposition": "top right",
         "type": "scatter",
         "x": [
          0.36517972
         ],
         "xaxis": "x",
         "y": [
          0.585695
         ],
         "yaxis": "y"
        },
        {
         "customdata": [
          [
           200,
           "Vibrio",
           "Bacteria",
           "Proteobacteria",
           "OTHERS"
          ],
          [
           209,
           "Vibrio",
           "Bacteria",
           "Proteobacteria",
           "OTHERS"
          ]
         ],
         "hovertemplate": "<b>%{hovertext}</b><br><br>Species=%{customdata[1]}<br>pm1=%{x}<br>pm2=%{y}<br>Unnamed: 0=%{customdata[0]}<br>Kingdom=%{customdata[2]}<br>Family=%{customdata[3]}<br>Color_eukaryota=%{customdata[4]}<extra></extra>",
         "hovertext": [
          "Vibrio",
          "Vibrio"
         ],
         "legendgroup": "Vibrio",
         "marker": {
          "color": "#34b8e7",
          "symbol": "circle"
         },
         "mode": "markers",
         "name": "Vibrio",
         "orientation": "v",
         "showlegend": true,
         "textposition": "top right",
         "type": "scatter",
         "x": [
          0.3242402,
          0.85996747
         ],
         "xaxis": "x",
         "y": [
          0.5447334,
          -0.11685125
         ],
         "yaxis": "y"
        },
        {
         "customdata": [
          [
           201,
           "Yersinia",
           "Bacteria",
           "Proteobacteria",
           "OTHERS"
          ],
          [
           208,
           "Yersinia",
           "Bacteria",
           "Proteobacteria",
           "OTHERS"
          ]
         ],
         "hovertemplate": "<b>%{hovertext}</b><br><br>Species=%{customdata[1]}<br>pm1=%{x}<br>pm2=%{y}<br>Unnamed: 0=%{customdata[0]}<br>Kingdom=%{customdata[2]}<br>Family=%{customdata[3]}<br>Color_eukaryota=%{customdata[4]}<extra></extra>",
         "hovertext": [
          "Yersinia",
          "Yersinia"
         ],
         "legendgroup": "Yersinia",
         "marker": {
          "color": "#34b8e7",
          "symbol": "circle"
         },
         "mode": "markers",
         "name": "Yersinia",
         "orientation": "v",
         "showlegend": true,
         "textposition": "top right",
         "type": "scatter",
         "x": [
          0.34766698,
          0.8652963
         ],
         "xaxis": "x",
         "y": [
          0.55161905,
          -0.16014732
         ],
         "yaxis": "y"
        },
        {
         "customdata": [
          [
           202,
           "Salmonella",
           "Bacteria",
           "Proteobacteria",
           "OTHERS"
          ],
          [
           207,
           "Salmonella",
           "Bacteria",
           "Proteobacteria",
           "OTHERS"
          ]
         ],
         "hovertemplate": "<b>%{hovertext}</b><br><br>Species=%{customdata[1]}<br>pm1=%{x}<br>pm2=%{y}<br>Unnamed: 0=%{customdata[0]}<br>Kingdom=%{customdata[2]}<br>Family=%{customdata[3]}<br>Color_eukaryota=%{customdata[4]}<extra></extra>",
         "hovertext": [
          "Salmonella",
          "Salmonella"
         ],
         "legendgroup": "Salmonella",
         "marker": {
          "color": "#34b8e7",
          "symbol": "circle"
         },
         "mode": "markers",
         "name": "Salmonella",
         "orientation": "v",
         "showlegend": true,
         "textposition": "top right",
         "type": "scatter",
         "x": [
          0.34160644,
          0.84762776
         ],
         "xaxis": "x",
         "y": [
          0.52714956,
          -0.14284891
         ],
         "yaxis": "y"
        },
        {
         "customdata": [
          [
           203,
           "Shigella",
           "Bacteria",
           "Proteobacteria",
           "OTHERS"
          ],
          [
           206,
           "Shigella",
           "Bacteria",
           "Proteobacteria",
           "OTHERS"
          ]
         ],
         "hovertemplate": "<b>%{hovertext}</b><br><br>Species=%{customdata[1]}<br>pm1=%{x}<br>pm2=%{y}<br>Unnamed: 0=%{customdata[0]}<br>Kingdom=%{customdata[2]}<br>Family=%{customdata[3]}<br>Color_eukaryota=%{customdata[4]}<extra></extra>",
         "hovertext": [
          "Shigella",
          "Shigella"
         ],
         "legendgroup": "Shigella",
         "marker": {
          "color": "#34b8e7",
          "symbol": "circle"
         },
         "mode": "markers",
         "name": "Shigella",
         "orientation": "v",
         "showlegend": true,
         "textposition": "top right",
         "type": "scatter",
         "x": [
          0.3491454,
          0.8603352
         ],
         "xaxis": "x",
         "y": [
          0.53784776,
          -0.14833026
         ],
         "yaxis": "y"
        },
        {
         "customdata": [
          [
           204,
           "Escherichia",
           "Bacteria",
           "Proteobacteria",
           "OTHERS"
          ],
          [
           205,
           "Escherichia",
           "Bacteria",
           "Proteobacteria",
           "OTHERS"
          ]
         ],
         "hovertemplate": "<b>%{hovertext}</b><br><br>Species=%{customdata[1]}<br>pm1=%{x}<br>pm2=%{y}<br>Unnamed: 0=%{customdata[0]}<br>Kingdom=%{customdata[2]}<br>Family=%{customdata[3]}<br>Color_eukaryota=%{customdata[4]}<extra></extra>",
         "hovertext": [
          "Escherichia",
          "Escherichia"
         ],
         "legendgroup": "Escherichia",
         "marker": {
          "color": "#34b8e7",
          "symbol": "circle"
         },
         "mode": "markers",
         "name": "Escherichia",
         "orientation": "v",
         "showlegend": true,
         "textposition": "top right",
         "type": "scatter",
         "x": [
          0.36489522,
          0.8683527
         ],
         "xaxis": "x",
         "y": [
          0.5230701,
          -0.14170918
         ],
         "yaxis": "y"
        }
       ],
       "layout": {
        "annotations": [
         {
          "arrowhead": 1,
          "showarrow": true,
          "text": "LBCA",
          "x": 0.18389252,
          "y": 0.108608946
         },
         {
          "arrowhead": 1,
          "showarrow": true,
          "text": "LACA",
          "x": 0.111037545,
          "y": -0.1417153
         },
         {
          "arrowhead": 1,
          "showarrow": true,
          "text": "AECA",
          "x": 0.050592925,
          "y": -0.098363124
         },
         {
          "arrowhead": 1,
          "showarrow": true,
          "text": "LGPCA",
          "x": 0.313914,
          "y": 0.43765968
         },
         {
          "arrowhead": 1,
          "showarrow": true,
          "text": "LECA",
          "x": -0.63303715,
          "y": -0.0017171632
         },
         {
          "arrowhead": 1,
          "showarrow": true,
          "text": "LPBCA",
          "x": 0.30017877,
          "y": 0.15301032
         },
         {
          "arrowhead": 1,
          "showarrow": true,
          "text": "LAFCA",
          "x": -0.6711158,
          "y": -0.028322173
         }
        ],
        "font": {
         "size": 10
        },
        "height": 800,
        "legend": {
         "title": {
          "text": "Species"
         },
         "tracegroupgap": 0
        },
        "plot_bgcolor": "rgba(0, 0, 0, 0)",
        "shapes": [
         {
          "line": {
           "color": "black",
           "dash": "dot"
          },
          "opacity": 0.15,
          "type": "circle",
          "x0": -0.47058823529411764,
          "x1": 0.47058823529411764,
          "y0": -0.47058823529411764,
          "y1": 0.47058823529411764
         },
         {
          "line": {
           "color": "black",
           "dash": "dot"
          },
          "opacity": 0.15,
          "type": "circle",
          "x0": -0.6447368421052633,
          "x1": 0.6447368421052633,
          "y0": -0.6447368421052633,
          "y1": 0.6447368421052633
         },
         {
          "line": {
           "color": "black",
           "dash": "dot"
          },
          "opacity": 0.15,
          "type": "circle",
          "x0": -0.7705382436260623,
          "x1": 0.7705382436260623,
          "y0": -0.7705382436260623,
          "y1": 0.7705382436260623
         },
         {
          "line": {
           "color": "black",
           "dash": "dot"
          },
          "opacity": 0.15,
          "type": "circle",
          "x0": -0.8557007125890737,
          "x1": 0.8557007125890737,
          "y0": -0.8557007125890737,
          "y1": 0.8557007125890737
         },
         {
          "line": {
           "color": "black",
           "dash": "dot"
          },
          "opacity": 0.15,
          "type": "circle",
          "x0": -0.9108474990827933,
          "x1": 0.9108474990827933,
          "y0": -0.9108474990827933,
          "y1": 0.9108474990827933
         },
         {
          "line": {
           "color": "black",
           "dash": "dot"
          },
          "opacity": 0.15,
          "type": "circle",
          "x0": -0.9455374041239167,
          "x1": 0.9455374041239167,
          "y0": -0.9455374041239167,
          "y1": 0.9455374041239167
         },
         {
          "line": {
           "color": "Black"
          },
          "type": "circle",
          "x0": -1,
          "x1": 1,
          "xref": "x",
          "y0": -1,
          "y1": 1,
          "yref": "y"
         },
         {
          "fillcolor": "Black",
          "line": {
           "color": "Black"
          },
          "type": "circle",
          "x0": -0.005,
          "x1": 0.005,
          "xref": "x",
          "y0": -0.005,
          "y1": 0.005,
          "yref": "y"
         }
        ],
        "template": {
         "data": {
          "bar": [
           {
            "error_x": {
             "color": "#2a3f5f"
            },
            "error_y": {
             "color": "#2a3f5f"
            },
            "marker": {
             "line": {
              "color": "#E5ECF6",
              "width": 0.5
             },
             "pattern": {
              "fillmode": "overlay",
              "size": 10,
              "solidity": 0.2
             }
            },
            "type": "bar"
           }
          ],
          "barpolar": [
           {
            "marker": {
             "line": {
              "color": "#E5ECF6",
              "width": 0.5
             },
             "pattern": {
              "fillmode": "overlay",
              "size": 10,
              "solidity": 0.2
             }
            },
            "type": "barpolar"
           }
          ],
          "carpet": [
           {
            "aaxis": {
             "endlinecolor": "#2a3f5f",
             "gridcolor": "white",
             "linecolor": "white",
             "minorgridcolor": "white",
             "startlinecolor": "#2a3f5f"
            },
            "baxis": {
             "endlinecolor": "#2a3f5f",
             "gridcolor": "white",
             "linecolor": "white",
             "minorgridcolor": "white",
             "startlinecolor": "#2a3f5f"
            },
            "type": "carpet"
           }
          ],
          "choropleth": [
           {
            "colorbar": {
             "outlinewidth": 0,
             "ticks": ""
            },
            "type": "choropleth"
           }
          ],
          "contour": [
           {
            "colorbar": {
             "outlinewidth": 0,
             "ticks": ""
            },
            "colorscale": [
             [
              0,
              "#0d0887"
             ],
             [
              0.1111111111111111,
              "#46039f"
             ],
             [
              0.2222222222222222,
              "#7201a8"
             ],
             [
              0.3333333333333333,
              "#9c179e"
             ],
             [
              0.4444444444444444,
              "#bd3786"
             ],
             [
              0.5555555555555556,
              "#d8576b"
             ],
             [
              0.6666666666666666,
              "#ed7953"
             ],
             [
              0.7777777777777778,
              "#fb9f3a"
             ],
             [
              0.8888888888888888,
              "#fdca26"
             ],
             [
              1,
              "#f0f921"
             ]
            ],
            "type": "contour"
           }
          ],
          "contourcarpet": [
           {
            "colorbar": {
             "outlinewidth": 0,
             "ticks": ""
            },
            "type": "contourcarpet"
           }
          ],
          "heatmap": [
           {
            "colorbar": {
             "outlinewidth": 0,
             "ticks": ""
            },
            "colorscale": [
             [
              0,
              "#0d0887"
             ],
             [
              0.1111111111111111,
              "#46039f"
             ],
             [
              0.2222222222222222,
              "#7201a8"
             ],
             [
              0.3333333333333333,
              "#9c179e"
             ],
             [
              0.4444444444444444,
              "#bd3786"
             ],
             [
              0.5555555555555556,
              "#d8576b"
             ],
             [
              0.6666666666666666,
              "#ed7953"
             ],
             [
              0.7777777777777778,
              "#fb9f3a"
             ],
             [
              0.8888888888888888,
              "#fdca26"
             ],
             [
              1,
              "#f0f921"
             ]
            ],
            "type": "heatmap"
           }
          ],
          "heatmapgl": [
           {
            "colorbar": {
             "outlinewidth": 0,
             "ticks": ""
            },
            "colorscale": [
             [
              0,
              "#0d0887"
             ],
             [
              0.1111111111111111,
              "#46039f"
             ],
             [
              0.2222222222222222,
              "#7201a8"
             ],
             [
              0.3333333333333333,
              "#9c179e"
             ],
             [
              0.4444444444444444,
              "#bd3786"
             ],
             [
              0.5555555555555556,
              "#d8576b"
             ],
             [
              0.6666666666666666,
              "#ed7953"
             ],
             [
              0.7777777777777778,
              "#fb9f3a"
             ],
             [
              0.8888888888888888,
              "#fdca26"
             ],
             [
              1,
              "#f0f921"
             ]
            ],
            "type": "heatmapgl"
           }
          ],
          "histogram": [
           {
            "marker": {
             "pattern": {
              "fillmode": "overlay",
              "size": 10,
              "solidity": 0.2
             }
            },
            "type": "histogram"
           }
          ],
          "histogram2d": [
           {
            "colorbar": {
             "outlinewidth": 0,
             "ticks": ""
            },
            "colorscale": [
             [
              0,
              "#0d0887"
             ],
             [
              0.1111111111111111,
              "#46039f"
             ],
             [
              0.2222222222222222,
              "#7201a8"
             ],
             [
              0.3333333333333333,
              "#9c179e"
             ],
             [
              0.4444444444444444,
              "#bd3786"
             ],
             [
              0.5555555555555556,
              "#d8576b"
             ],
             [
              0.6666666666666666,
              "#ed7953"
             ],
             [
              0.7777777777777778,
              "#fb9f3a"
             ],
             [
              0.8888888888888888,
              "#fdca26"
             ],
             [
              1,
              "#f0f921"
             ]
            ],
            "type": "histogram2d"
           }
          ],
          "histogram2dcontour": [
           {
            "colorbar": {
             "outlinewidth": 0,
             "ticks": ""
            },
            "colorscale": [
             [
              0,
              "#0d0887"
             ],
             [
              0.1111111111111111,
              "#46039f"
             ],
             [
              0.2222222222222222,
              "#7201a8"
             ],
             [
              0.3333333333333333,
              "#9c179e"
             ],
             [
              0.4444444444444444,
              "#bd3786"
             ],
             [
              0.5555555555555556,
              "#d8576b"
             ],
             [
              0.6666666666666666,
              "#ed7953"
             ],
             [
              0.7777777777777778,
              "#fb9f3a"
             ],
             [
              0.8888888888888888,
              "#fdca26"
             ],
             [
              1,
              "#f0f921"
             ]
            ],
            "type": "histogram2dcontour"
           }
          ],
          "mesh3d": [
           {
            "colorbar": {
             "outlinewidth": 0,
             "ticks": ""
            },
            "type": "mesh3d"
           }
          ],
          "parcoords": [
           {
            "line": {
             "colorbar": {
              "outlinewidth": 0,
              "ticks": ""
             }
            },
            "type": "parcoords"
           }
          ],
          "pie": [
           {
            "automargin": true,
            "type": "pie"
           }
          ],
          "scatter": [
           {
            "fillpattern": {
             "fillmode": "overlay",
             "size": 10,
             "solidity": 0.2
            },
            "type": "scatter"
           }
          ],
          "scatter3d": [
           {
            "line": {
             "colorbar": {
              "outlinewidth": 0,
              "ticks": ""
             }
            },
            "marker": {
             "colorbar": {
              "outlinewidth": 0,
              "ticks": ""
             }
            },
            "type": "scatter3d"
           }
          ],
          "scattercarpet": [
           {
            "marker": {
             "colorbar": {
              "outlinewidth": 0,
              "ticks": ""
             }
            },
            "type": "scattercarpet"
           }
          ],
          "scattergeo": [
           {
            "marker": {
             "colorbar": {
              "outlinewidth": 0,
              "ticks": ""
             }
            },
            "type": "scattergeo"
           }
          ],
          "scattergl": [
           {
            "marker": {
             "colorbar": {
              "outlinewidth": 0,
              "ticks": ""
             }
            },
            "type": "scattergl"
           }
          ],
          "scattermapbox": [
           {
            "marker": {
             "colorbar": {
              "outlinewidth": 0,
              "ticks": ""
             }
            },
            "type": "scattermapbox"
           }
          ],
          "scatterpolar": [
           {
            "marker": {
             "colorbar": {
              "outlinewidth": 0,
              "ticks": ""
             }
            },
            "type": "scatterpolar"
           }
          ],
          "scatterpolargl": [
           {
            "marker": {
             "colorbar": {
              "outlinewidth": 0,
              "ticks": ""
             }
            },
            "type": "scatterpolargl"
           }
          ],
          "scatterternary": [
           {
            "marker": {
             "colorbar": {
              "outlinewidth": 0,
              "ticks": ""
             }
            },
            "type": "scatterternary"
           }
          ],
          "surface": [
           {
            "colorbar": {
             "outlinewidth": 0,
             "ticks": ""
            },
            "colorscale": [
             [
              0,
              "#0d0887"
             ],
             [
              0.1111111111111111,
              "#46039f"
             ],
             [
              0.2222222222222222,
              "#7201a8"
             ],
             [
              0.3333333333333333,
              "#9c179e"
             ],
             [
              0.4444444444444444,
              "#bd3786"
             ],
             [
              0.5555555555555556,
              "#d8576b"
             ],
             [
              0.6666666666666666,
              "#ed7953"
             ],
             [
              0.7777777777777778,
              "#fb9f3a"
             ],
             [
              0.8888888888888888,
              "#fdca26"
             ],
             [
              1,
              "#f0f921"
             ]
            ],
            "type": "surface"
           }
          ],
          "table": [
           {
            "cells": {
             "fill": {
              "color": "#EBF0F8"
             },
             "line": {
              "color": "white"
             }
            },
            "header": {
             "fill": {
              "color": "#C8D4E3"
             },
             "line": {
              "color": "white"
             }
            },
            "type": "table"
           }
          ]
         },
         "layout": {
          "annotationdefaults": {
           "arrowcolor": "#2a3f5f",
           "arrowhead": 0,
           "arrowwidth": 1
          },
          "autotypenumbers": "strict",
          "coloraxis": {
           "colorbar": {
            "outlinewidth": 0,
            "ticks": ""
           }
          },
          "colorscale": {
           "diverging": [
            [
             0,
             "#8e0152"
            ],
            [
             0.1,
             "#c51b7d"
            ],
            [
             0.2,
             "#de77ae"
            ],
            [
             0.3,
             "#f1b6da"
            ],
            [
             0.4,
             "#fde0ef"
            ],
            [
             0.5,
             "#f7f7f7"
            ],
            [
             0.6,
             "#e6f5d0"
            ],
            [
             0.7,
             "#b8e186"
            ],
            [
             0.8,
             "#7fbc41"
            ],
            [
             0.9,
             "#4d9221"
            ],
            [
             1,
             "#276419"
            ]
           ],
           "sequential": [
            [
             0,
             "#0d0887"
            ],
            [
             0.1111111111111111,
             "#46039f"
            ],
            [
             0.2222222222222222,
             "#7201a8"
            ],
            [
             0.3333333333333333,
             "#9c179e"
            ],
            [
             0.4444444444444444,
             "#bd3786"
            ],
            [
             0.5555555555555556,
             "#d8576b"
            ],
            [
             0.6666666666666666,
             "#ed7953"
            ],
            [
             0.7777777777777778,
             "#fb9f3a"
            ],
            [
             0.8888888888888888,
             "#fdca26"
            ],
            [
             1,
             "#f0f921"
            ]
           ],
           "sequentialminus": [
            [
             0,
             "#0d0887"
            ],
            [
             0.1111111111111111,
             "#46039f"
            ],
            [
             0.2222222222222222,
             "#7201a8"
            ],
            [
             0.3333333333333333,
             "#9c179e"
            ],
            [
             0.4444444444444444,
             "#bd3786"
            ],
            [
             0.5555555555555556,
             "#d8576b"
            ],
            [
             0.6666666666666666,
             "#ed7953"
            ],
            [
             0.7777777777777778,
             "#fb9f3a"
            ],
            [
             0.8888888888888888,
             "#fdca26"
            ],
            [
             1,
             "#f0f921"
            ]
           ]
          },
          "colorway": [
           "#636efa",
           "#EF553B",
           "#00cc96",
           "#ab63fa",
           "#FFA15A",
           "#19d3f3",
           "#FF6692",
           "#B6E880",
           "#FF97FF",
           "#FECB52"
          ],
          "font": {
           "color": "#2a3f5f"
          },
          "geo": {
           "bgcolor": "white",
           "lakecolor": "white",
           "landcolor": "#E5ECF6",
           "showlakes": true,
           "showland": true,
           "subunitcolor": "white"
          },
          "hoverlabel": {
           "align": "left"
          },
          "hovermode": "closest",
          "mapbox": {
           "style": "light"
          },
          "paper_bgcolor": "white",
          "plot_bgcolor": "#E5ECF6",
          "polar": {
           "angularaxis": {
            "gridcolor": "white",
            "linecolor": "white",
            "ticks": ""
           },
           "bgcolor": "#E5ECF6",
           "radialaxis": {
            "gridcolor": "white",
            "linecolor": "white",
            "ticks": ""
           }
          },
          "scene": {
           "xaxis": {
            "backgroundcolor": "#E5ECF6",
            "gridcolor": "white",
            "gridwidth": 2,
            "linecolor": "white",
            "showbackground": true,
            "ticks": "",
            "zerolinecolor": "white"
           },
           "yaxis": {
            "backgroundcolor": "#E5ECF6",
            "gridcolor": "white",
            "gridwidth": 2,
            "linecolor": "white",
            "showbackground": true,
            "ticks": "",
            "zerolinecolor": "white"
           },
           "zaxis": {
            "backgroundcolor": "#E5ECF6",
            "gridcolor": "white",
            "gridwidth": 2,
            "linecolor": "white",
            "showbackground": true,
            "ticks": "",
            "zerolinecolor": "white"
           }
          },
          "shapedefaults": {
           "line": {
            "color": "#2a3f5f"
           }
          },
          "ternary": {
           "aaxis": {
            "gridcolor": "white",
            "linecolor": "white",
            "ticks": ""
           },
           "baxis": {
            "gridcolor": "white",
            "linecolor": "white",
            "ticks": ""
           },
           "bgcolor": "#E5ECF6",
           "caxis": {
            "gridcolor": "white",
            "linecolor": "white",
            "ticks": ""
           }
          },
          "title": {
           "x": 0.05
          },
          "xaxis": {
           "automargin": true,
           "gridcolor": "white",
           "linecolor": "white",
           "ticks": "",
           "title": {
            "standoff": 15
           },
           "zerolinecolor": "white",
           "zerolinewidth": 2
          },
          "yaxis": {
           "automargin": true,
           "gridcolor": "white",
           "linecolor": "white",
           "ticks": "",
           "title": {
            "standoff": 15
           },
           "zerolinecolor": "white",
           "zerolinewidth": 2
          }
         }
        },
        "title": {
         "text": "Poincaré Map projection of thioredoxins colored by species",
         "x": 0.5
        },
        "xaxis": {
         "anchor": "y",
         "constrain": "domain",
         "domain": [
          0,
          1
         ],
         "range": [
          -1.1,
          1.1
         ],
         "title": {
          "text": "pm1"
         }
        },
        "yaxis": {
         "anchor": "x",
         "domain": [
          0,
          1
         ],
         "scaleanchor": "x",
         "scaleratio": 1,
         "title": {
          "text": "pm2"
         }
        },
        "yaxis2": {
         "layer": "below traces",
         "matches": "y",
         "overlaying": "y"
        }
       }
      },
      "text/html": [
       "<div>                            <div id=\"22785d6c-48ab-49f3-8057-078453fd97c6\" class=\"plotly-graph-div\" style=\"height:800px; width:100%;\"></div>            <script type=\"text/javascript\">                require([\"plotly\"], function(Plotly) {                    window.PLOTLYENV=window.PLOTLYENV || {};                                    if (document.getElementById(\"22785d6c-48ab-49f3-8057-078453fd97c6\")) {                    Plotly.newPlot(                        \"22785d6c-48ab-49f3-8057-078453fd97c6\",                        [{\"customdata\":[[0,\"LBCA\",\"LBCA\",\"LBCA\",\"OTHERS\"]],\"hovertemplate\":\"<b>%{hovertext}</b><br><br>Species=%{customdata[1]}<br>pm1=%{x}<br>pm2=%{y}<br>Unnamed: 0=%{customdata[0]}<br>Kingdom=%{customdata[2]}<br>Family=%{customdata[3]}<br>Color_eukaryota=%{customdata[4]}<extra></extra>\",\"hovertext\":[\"LBCA\"],\"legendgroup\":\"LBCA\",\"marker\":{\"color\":\"#34b8e7\",\"symbol\":\"circle\"},\"mode\":\"markers\",\"name\":\"LBCA\",\"orientation\":\"v\",\"showlegend\":true,\"x\":[0.18389252],\"xaxis\":\"x\",\"y\":[0.108608946],\"yaxis\":\"y\",\"type\":\"scatter\",\"textposition\":\"top right\"},{\"customdata\":[[1,\"LACA\",\"LACA\",\"LACA\",\"OTHERS\"]],\"hovertemplate\":\"<b>%{hovertext}</b><br><br>Species=%{customdata[1]}<br>pm1=%{x}<br>pm2=%{y}<br>Unnamed: 0=%{customdata[0]}<br>Kingdom=%{customdata[2]}<br>Family=%{customdata[3]}<br>Color_eukaryota=%{customdata[4]}<extra></extra>\",\"hovertext\":[\"LACA\"],\"legendgroup\":\"LACA\",\"marker\":{\"color\":\"#ff0000\",\"symbol\":\"circle\"},\"mode\":\"markers\",\"name\":\"LACA\",\"orientation\":\"v\",\"showlegend\":true,\"x\":[0.111037545],\"xaxis\":\"x\",\"y\":[-0.1417153],\"yaxis\":\"y\",\"type\":\"scatter\",\"textposition\":\"top right\"},{\"customdata\":[[2,\"AECA\",\"AECA\",\"AECA\",\"OTHERS\"]],\"hovertemplate\":\"<b>%{hovertext}</b><br><br>Species=%{customdata[1]}<br>pm1=%{x}<br>pm2=%{y}<br>Unnamed: 0=%{customdata[0]}<br>Kingdom=%{customdata[2]}<br>Family=%{customdata[3]}<br>Color_eukaryota=%{customdata[4]}<extra></extra>\",\"hovertext\":[\"AECA\"],\"legendgroup\":\"AECA\",\"marker\":{\"color\":\"#e7e53c\",\"symbol\":\"circle\"},\"mode\":\"markers\",\"name\":\"AECA\",\"orientation\":\"v\",\"showlegend\":true,\"x\":[0.050592925],\"xaxis\":\"x\",\"y\":[-0.098363124],\"yaxis\":\"y\",\"type\":\"scatter\",\"textposition\":\"top right\"},{\"customdata\":[[3,\"LGPCA\",\"LGPCA\",\"LGPCA\",\"OTHERS\"]],\"hovertemplate\":\"<b>%{hovertext}</b><br><br>Species=%{customdata[1]}<br>pm1=%{x}<br>pm2=%{y}<br>Unnamed: 0=%{customdata[0]}<br>Kingdom=%{customdata[2]}<br>Family=%{customdata[3]}<br>Color_eukaryota=%{customdata[4]}<extra></extra>\",\"hovertext\":[\"LGPCA\"],\"legendgroup\":\"LGPCA\",\"marker\":{\"color\":\"#34b8e7\",\"symbol\":\"circle\"},\"mode\":\"markers\",\"name\":\"LGPCA\",\"orientation\":\"v\",\"showlegend\":true,\"x\":[0.313914],\"xaxis\":\"x\",\"y\":[0.43765968],\"yaxis\":\"y\",\"type\":\"scatter\",\"textposition\":\"top right\"},{\"customdata\":[[4,\"LECA\",\"LECA\",\"LECA\",\"OTHERS\"]],\"hovertemplate\":\"<b>%{hovertext}</b><br><br>Species=%{customdata[1]}<br>pm1=%{x}<br>pm2=%{y}<br>Unnamed: 0=%{customdata[0]}<br>Kingdom=%{customdata[2]}<br>Family=%{customdata[3]}<br>Color_eukaryota=%{customdata[4]}<extra></extra>\",\"hovertext\":[\"LECA\"],\"legendgroup\":\"LECA\",\"marker\":{\"color\":\"#21e548\",\"symbol\":\"circle\"},\"mode\":\"markers\",\"name\":\"LECA\",\"orientation\":\"v\",\"showlegend\":true,\"x\":[-0.63303715],\"xaxis\":\"x\",\"y\":[-0.0017171632],\"yaxis\":\"y\",\"type\":\"scatter\",\"textposition\":\"top right\"},{\"customdata\":[[5,\"LPBCA\",\"LPBCA\",\"LPBCA\",\"OTHERS\"]],\"hovertemplate\":\"<b>%{hovertext}</b><br><br>Species=%{customdata[1]}<br>pm1=%{x}<br>pm2=%{y}<br>Unnamed: 0=%{customdata[0]}<br>Kingdom=%{customdata[2]}<br>Family=%{customdata[3]}<br>Color_eukaryota=%{customdata[4]}<extra></extra>\",\"hovertext\":[\"LPBCA\"],\"legendgroup\":\"LPBCA\",\"marker\":{\"color\":\"#34b8e7\",\"symbol\":\"circle\"},\"mode\":\"markers\",\"name\":\"LPBCA\",\"orientation\":\"v\",\"showlegend\":true,\"x\":[0.30017877],\"xaxis\":\"x\",\"y\":[0.15301032],\"yaxis\":\"y\",\"type\":\"scatter\",\"textposition\":\"top right\"},{\"customdata\":[[6,\"LAFCA\",\"LAFCA\",\"LAFCA\",\"OTHERS\"]],\"hovertemplate\":\"<b>%{hovertext}</b><br><br>Species=%{customdata[1]}<br>pm1=%{x}<br>pm2=%{y}<br>Unnamed: 0=%{customdata[0]}<br>Kingdom=%{customdata[2]}<br>Family=%{customdata[3]}<br>Color_eukaryota=%{customdata[4]}<extra></extra>\",\"hovertext\":[\"LAFCA\"],\"legendgroup\":\"LAFCA\",\"marker\":{\"color\":\"#21e548\",\"symbol\":\"circle\"},\"mode\":\"markers\",\"name\":\"LAFCA\",\"orientation\":\"v\",\"showlegend\":true,\"x\":[-0.6711158],\"xaxis\":\"x\",\"y\":[-0.028322173],\"yaxis\":\"y\",\"type\":\"scatter\",\"textposition\":\"top right\"},{\"customdata\":[[7,\"Ovis\",\"Eukaryota\",\"Metazoa\",\"EUKARYOTA\"]],\"hovertemplate\":\"<b>%{hovertext}</b><br><br>Species=%{customdata[1]}<br>pm1=%{x}<br>pm2=%{y}<br>Unnamed: 0=%{customdata[0]}<br>Kingdom=%{customdata[2]}<br>Family=%{customdata[3]}<br>Color_eukaryota=%{customdata[4]}<extra></extra>\",\"hovertext\":[\"Ovis\"],\"legendgroup\":\"Ovis\",\"marker\":{\"color\":\"#21e548\",\"symbol\":\"circle\"},\"mode\":\"markers\",\"name\":\"Ovis\",\"orientation\":\"v\",\"showlegend\":true,\"x\":[-0.84257185],\"xaxis\":\"x\",\"y\":[-0.07941825],\"yaxis\":\"y\",\"type\":\"scatter\",\"textposition\":\"top right\"},{\"customdata\":[[8,\"Bos\",\"Eukaryota\",\"Metazoa\",\"EUKARYOTA\"]],\"hovertemplate\":\"<b>%{hovertext}</b><br><br>Species=%{customdata[1]}<br>pm1=%{x}<br>pm2=%{y}<br>Unnamed: 0=%{customdata[0]}<br>Kingdom=%{customdata[2]}<br>Family=%{customdata[3]}<br>Color_eukaryota=%{customdata[4]}<extra></extra>\",\"hovertext\":[\"Bos\"],\"legendgroup\":\"Bos\",\"marker\":{\"color\":\"#21e548\",\"symbol\":\"circle\"},\"mode\":\"markers\",\"name\":\"Bos\",\"orientation\":\"v\",\"showlegend\":true,\"x\":[-0.85646325],\"xaxis\":\"x\",\"y\":[-0.05296301],\"yaxis\":\"y\",\"type\":\"scatter\",\"textposition\":\"top right\"},{\"customdata\":[[9,\"Sus\",\"Eukaryota\",\"Metazoa\",\"EUKARYOTA\"]],\"hovertemplate\":\"<b>%{hovertext}</b><br><br>Species=%{customdata[1]}<br>pm1=%{x}<br>pm2=%{y}<br>Unnamed: 0=%{customdata[0]}<br>Kingdom=%{customdata[2]}<br>Family=%{customdata[3]}<br>Color_eukaryota=%{customdata[4]}<extra></extra>\",\"hovertext\":[\"Sus\"],\"legendgroup\":\"Sus\",\"marker\":{\"color\":\"#21e548\",\"symbol\":\"circle\"},\"mode\":\"markers\",\"name\":\"Sus\",\"orientation\":\"v\",\"showlegend\":true,\"x\":[-0.84598905],\"xaxis\":\"x\",\"y\":[-0.0579008],\"yaxis\":\"y\",\"type\":\"scatter\",\"textposition\":\"top right\"},{\"customdata\":[[10,\"Equus\",\"Eukaryota\",\"Metazoa\",\"EUKARYOTA\"],[187,\"Equus\",\"Eukaryota\",\"Metazoa\",\"EUKARYOTA\"]],\"hovertemplate\":\"<b>%{hovertext}</b><br><br>Species=%{customdata[1]}<br>pm1=%{x}<br>pm2=%{y}<br>Unnamed: 0=%{customdata[0]}<br>Kingdom=%{customdata[2]}<br>Family=%{customdata[3]}<br>Color_eukaryota=%{customdata[4]}<extra></extra>\",\"hovertext\":[\"Equus\",\"Equus\"],\"legendgroup\":\"Equus\",\"marker\":{\"color\":\"#21e548\",\"symbol\":\"circle\"},\"mode\":\"markers\",\"name\":\"Equus\",\"orientation\":\"v\",\"showlegend\":true,\"x\":[-0.81090814,0.76819754],\"xaxis\":\"x\",\"y\":[-0.08104239,-0.49516883],\"yaxis\":\"y\",\"type\":\"scatter\",\"textposition\":\"top right\"},{\"customdata\":[[11,\"Mus\",\"Eukaryota\",\"Metazoa\",\"EUKARYOTA\"]],\"hovertemplate\":\"<b>%{hovertext}</b><br><br>Species=%{customdata[1]}<br>pm1=%{x}<br>pm2=%{y}<br>Unnamed: 0=%{customdata[0]}<br>Kingdom=%{customdata[2]}<br>Family=%{customdata[3]}<br>Color_eukaryota=%{customdata[4]}<extra></extra>\",\"hovertext\":[\"Mus\"],\"legendgroup\":\"Mus\",\"marker\":{\"color\":\"#21e548\",\"symbol\":\"circle\"},\"mode\":\"markers\",\"name\":\"Mus\",\"orientation\":\"v\",\"showlegend\":true,\"x\":[-0.81464094],\"xaxis\":\"x\",\"y\":[-0.029657762],\"yaxis\":\"y\",\"type\":\"scatter\",\"textposition\":\"top right\"},{\"customdata\":[[12,\"Rattus\",\"Eukaryota\",\"Metazoa\",\"EUKARYOTA\"]],\"hovertemplate\":\"<b>%{hovertext}</b><br><br>Species=%{customdata[1]}<br>pm1=%{x}<br>pm2=%{y}<br>Unnamed: 0=%{customdata[0]}<br>Kingdom=%{customdata[2]}<br>Family=%{customdata[3]}<br>Color_eukaryota=%{customdata[4]}<extra></extra>\",\"hovertext\":[\"Rattus\"],\"legendgroup\":\"Rattus\",\"marker\":{\"color\":\"#21e548\",\"symbol\":\"circle\"},\"mode\":\"markers\",\"name\":\"Rattus\",\"orientation\":\"v\",\"showlegend\":true,\"x\":[-0.812737],\"xaxis\":\"x\",\"y\":[-0.037687875],\"yaxis\":\"y\",\"type\":\"scatter\",\"textposition\":\"top right\"},{\"customdata\":[[13,\"Rabit\",\"Eukaryota\",\"Metazoa\",\"EUKARYOTA\"]],\"hovertemplate\":\"<b>%{hovertext}</b><br><br>Species=%{customdata[1]}<br>pm1=%{x}<br>pm2=%{y}<br>Unnamed: 0=%{customdata[0]}<br>Kingdom=%{customdata[2]}<br>Family=%{customdata[3]}<br>Color_eukaryota=%{customdata[4]}<extra></extra>\",\"hovertext\":[\"Rabit\"],\"legendgroup\":\"Rabit\",\"marker\":{\"color\":\"#21e548\",\"symbol\":\"circle\"},\"mode\":\"markers\",\"name\":\"Rabit\",\"orientation\":\"v\",\"showlegend\":true,\"x\":[-0.8607577],\"xaxis\":\"x\",\"y\":[-0.019577218],\"yaxis\":\"y\",\"type\":\"scatter\",\"textposition\":\"top right\"},{\"customdata\":[[14,\"Human\",\"Eukaryota\",\"Metazoa\",\"EUKARYOTA\"]],\"hovertemplate\":\"<b>%{hovertext}</b><br><br>Species=%{customdata[1]}<br>pm1=%{x}<br>pm2=%{y}<br>Unnamed: 0=%{customdata[0]}<br>Kingdom=%{customdata[2]}<br>Family=%{customdata[3]}<br>Color_eukaryota=%{customdata[4]}<extra></extra>\",\"hovertext\":[\"Human\"],\"legendgroup\":\"Human\",\"marker\":{\"color\":\"#21e548\",\"symbol\":\"circle\"},\"mode\":\"markers\",\"name\":\"Human\",\"orientation\":\"v\",\"showlegend\":true,\"x\":[-0.8415084],\"xaxis\":\"x\",\"y\":[-0.04593345],\"yaxis\":\"y\",\"type\":\"scatter\",\"textposition\":\"top right\"},{\"customdata\":[[15,\"Ponab\",\"Eukaryota\",\"Metazoa\",\"EUKARYOTA\"]],\"hovertemplate\":\"<b>%{hovertext}</b><br><br>Species=%{customdata[1]}<br>pm1=%{x}<br>pm2=%{y}<br>Unnamed: 0=%{customdata[0]}<br>Kingdom=%{customdata[2]}<br>Family=%{customdata[3]}<br>Color_eukaryota=%{customdata[4]}<extra></extra>\",\"hovertext\":[\"Ponab\"],\"legendgroup\":\"Ponab\",\"marker\":{\"color\":\"#21e548\",\"symbol\":\"circle\"},\"mode\":\"markers\",\"name\":\"Ponab\",\"orientation\":\"v\",\"showlegend\":true,\"x\":[-0.83648366],\"xaxis\":\"x\",\"y\":[-0.019532587],\"yaxis\":\"y\",\"type\":\"scatter\",\"textposition\":\"top right\"},{\"customdata\":[[16,\"Macmu\",\"Eukaryota\",\"Metazoa\",\"EUKARYOTA\"]],\"hovertemplate\":\"<b>%{hovertext}</b><br><br>Species=%{customdata[1]}<br>pm1=%{x}<br>pm2=%{y}<br>Unnamed: 0=%{customdata[0]}<br>Kingdom=%{customdata[2]}<br>Family=%{customdata[3]}<br>Color_eukaryota=%{customdata[4]}<extra></extra>\",\"hovertext\":[\"Macmu\"],\"legendgroup\":\"Macmu\",\"marker\":{\"color\":\"#21e548\",\"symbol\":\"circle\"},\"mode\":\"markers\",\"name\":\"Macmu\",\"orientation\":\"v\",\"showlegend\":true,\"x\":[-0.82155627],\"xaxis\":\"x\",\"y\":[-0.061917007],\"yaxis\":\"y\",\"type\":\"scatter\",\"textposition\":\"top right\"},{\"customdata\":[[17,\"Callithrix\",\"Eukaryota\",\"Metazoa\",\"EUKARYOTA\"]],\"hovertemplate\":\"<b>%{hovertext}</b><br><br>Species=%{customdata[1]}<br>pm1=%{x}<br>pm2=%{y}<br>Unnamed: 0=%{customdata[0]}<br>Kingdom=%{customdata[2]}<br>Family=%{customdata[3]}<br>Color_eukaryota=%{customdata[4]}<extra></extra>\",\"hovertext\":[\"Callithrix\"],\"legendgroup\":\"Callithrix\",\"marker\":{\"color\":\"#21e548\",\"symbol\":\"circle\"},\"mode\":\"markers\",\"name\":\"Callithrix\",\"orientation\":\"v\",\"showlegend\":true,\"x\":[-0.8227882],\"xaxis\":\"x\",\"y\":[-0.04019381],\"yaxis\":\"y\",\"type\":\"scatter\",\"textposition\":\"top right\"},{\"customdata\":[[18,\"Monodelphis\",\"Eukaryota\",\"Metazoa\",\"EUKARYOTA\"]],\"hovertemplate\":\"<b>%{hovertext}</b><br><br>Species=%{customdata[1]}<br>pm1=%{x}<br>pm2=%{y}<br>Unnamed: 0=%{customdata[0]}<br>Kingdom=%{customdata[2]}<br>Family=%{customdata[3]}<br>Color_eukaryota=%{customdata[4]}<extra></extra>\",\"hovertext\":[\"Monodelphis\"],\"legendgroup\":\"Monodelphis\",\"marker\":{\"color\":\"#21e548\",\"symbol\":\"circle\"},\"mode\":\"markers\",\"name\":\"Monodelphis\",\"orientation\":\"v\",\"showlegend\":true,\"x\":[0.7402804],\"xaxis\":\"x\",\"y\":[-0.49634287],\"yaxis\":\"y\",\"type\":\"scatter\",\"textposition\":\"top right\"},{\"customdata\":[[19,\"Ornithorhynchus\",\"Eukaryota\",\"Metazoa\",\"EUKARYOTA\"]],\"hovertemplate\":\"<b>%{hovertext}</b><br><br>Species=%{customdata[1]}<br>pm1=%{x}<br>pm2=%{y}<br>Unnamed: 0=%{customdata[0]}<br>Kingdom=%{customdata[2]}<br>Family=%{customdata[3]}<br>Color_eukaryota=%{customdata[4]}<extra></extra>\",\"hovertext\":[\"Ornithorhynchus\"],\"legendgroup\":\"Ornithorhynchus\",\"marker\":{\"color\":\"#21e548\",\"symbol\":\"circle\"},\"mode\":\"markers\",\"name\":\"Ornithorhynchus\",\"orientation\":\"v\",\"showlegend\":true,\"x\":[-0.7869309],\"xaxis\":\"x\",\"y\":[-0.0936573],\"yaxis\":\"y\",\"type\":\"scatter\",\"textposition\":\"top right\"},{\"customdata\":[[20,\"Gallus\",\"Eukaryota\",\"Metazoa\",\"EUKARYOTA\"]],\"hovertemplate\":\"<b>%{hovertext}</b><br><br>Species=%{customdata[1]}<br>pm1=%{x}<br>pm2=%{y}<br>Unnamed: 0=%{customdata[0]}<br>Kingdom=%{customdata[2]}<br>Family=%{customdata[3]}<br>Color_eukaryota=%{customdata[4]}<extra></extra>\",\"hovertext\":[\"Gallus\"],\"legendgroup\":\"Gallus\",\"marker\":{\"color\":\"#21e548\",\"symbol\":\"circle\"},\"mode\":\"markers\",\"name\":\"Gallus\",\"orientation\":\"v\",\"showlegend\":true,\"x\":[-0.84328246],\"xaxis\":\"x\",\"y\":[-0.122904055],\"yaxis\":\"y\",\"type\":\"scatter\",\"textposition\":\"top right\"},{\"customdata\":[[21,\"Melopsittacus\",\"Eukaryota\",\"Metazoa\",\"EUKARYOTA\"]],\"hovertemplate\":\"<b>%{hovertext}</b><br><br>Species=%{customdata[1]}<br>pm1=%{x}<br>pm2=%{y}<br>Unnamed: 0=%{customdata[0]}<br>Kingdom=%{customdata[2]}<br>Family=%{customdata[3]}<br>Color_eukaryota=%{customdata[4]}<extra></extra>\",\"hovertext\":[\"Melopsittacus\"],\"legendgroup\":\"Melopsittacus\",\"marker\":{\"color\":\"#21e548\",\"symbol\":\"circle\"},\"mode\":\"markers\",\"name\":\"Melopsittacus\",\"orientation\":\"v\",\"showlegend\":true,\"x\":[-0.8308515],\"xaxis\":\"x\",\"y\":[-0.12267471],\"yaxis\":\"y\",\"type\":\"scatter\",\"textposition\":\"top right\"},{\"customdata\":[[22,\"Ophiophagus\",\"Eukaryota\",\"Metazoa\",\"EUKARYOTA\"]],\"hovertemplate\":\"<b>%{hovertext}</b><br><br>Species=%{customdata[1]}<br>pm1=%{x}<br>pm2=%{y}<br>Unnamed: 0=%{customdata[0]}<br>Kingdom=%{customdata[2]}<br>Family=%{customdata[3]}<br>Color_eukaryota=%{customdata[4]}<extra></extra>\",\"hovertext\":[\"Ophiophagus\"],\"legendgroup\":\"Ophiophagus\",\"marker\":{\"color\":\"#21e548\",\"symbol\":\"circle\"},\"mode\":\"markers\",\"name\":\"Ophiophagus\",\"orientation\":\"v\",\"showlegend\":true,\"x\":[-0.82625085],\"xaxis\":\"x\",\"y\":[-0.1080902],\"yaxis\":\"y\",\"type\":\"scatter\",\"textposition\":\"top right\"},{\"customdata\":[[23,\"Xenopus\",\"Eukaryota\",\"Metazoa\",\"EUKARYOTA\"]],\"hovertemplate\":\"<b>%{hovertext}</b><br><br>Species=%{customdata[1]}<br>pm1=%{x}<br>pm2=%{y}<br>Unnamed: 0=%{customdata[0]}<br>Kingdom=%{customdata[2]}<br>Family=%{customdata[3]}<br>Color_eukaryota=%{customdata[4]}<extra></extra>\",\"hovertext\":[\"Xenopus\"],\"legendgroup\":\"Xenopus\",\"marker\":{\"color\":\"#21e548\",\"symbol\":\"circle\"},\"mode\":\"markers\",\"name\":\"Xenopus\",\"orientation\":\"v\",\"showlegend\":true,\"x\":[-0.7864245],\"xaxis\":\"x\",\"y\":[-0.15429442],\"yaxis\":\"y\",\"type\":\"scatter\",\"textposition\":\"top right\"},{\"customdata\":[[24,\"Tetraodon\",\"Eukaryota\",\"Metazoa\",\"EUKARYOTA\"]],\"hovertemplate\":\"<b>%{hovertext}</b><br><br>Species=%{customdata[1]}<br>pm1=%{x}<br>pm2=%{y}<br>Unnamed: 0=%{customdata[0]}<br>Kingdom=%{customdata[2]}<br>Family=%{customdata[3]}<br>Color_eukaryota=%{customdata[4]}<extra></extra>\",\"hovertext\":[\"Tetraodon\"],\"legendgroup\":\"Tetraodon\",\"marker\":{\"color\":\"#21e548\",\"symbol\":\"circle\"},\"mode\":\"markers\",\"name\":\"Tetraodon\",\"orientation\":\"v\",\"showlegend\":true,\"x\":[-0.74686414],\"xaxis\":\"x\",\"y\":[-0.15780155],\"yaxis\":\"y\",\"type\":\"scatter\",\"textposition\":\"top right\"},{\"customdata\":[[25,\"Ictalurus\",\"Eukaryota\",\"Metazoa\",\"EUKARYOTA\"]],\"hovertemplate\":\"<b>%{hovertext}</b><br><br>Species=%{customdata[1]}<br>pm1=%{x}<br>pm2=%{y}<br>Unnamed: 0=%{customdata[0]}<br>Kingdom=%{customdata[2]}<br>Family=%{customdata[3]}<br>Color_eukaryota=%{customdata[4]}<extra></extra>\",\"hovertext\":[\"Ictalurus\"],\"legendgroup\":\"Ictalurus\",\"marker\":{\"color\":\"#21e548\",\"symbol\":\"circle\"},\"mode\":\"markers\",\"name\":\"Ictalurus\",\"orientation\":\"v\",\"showlegend\":true,\"x\":[-0.7774597],\"xaxis\":\"x\",\"y\":[-0.18446364],\"yaxis\":\"y\",\"type\":\"scatter\",\"textposition\":\"top right\"},{\"customdata\":[[26,\"Danio\",\"Eukaryota\",\"Metazoa\",\"EUKARYOTA\"]],\"hovertemplate\":\"<b>%{hovertext}</b><br><br>Species=%{customdata[1]}<br>pm1=%{x}<br>pm2=%{y}<br>Unnamed: 0=%{customdata[0]}<br>Kingdom=%{customdata[2]}<br>Family=%{customdata[3]}<br>Color_eukaryota=%{customdata[4]}<extra></extra>\",\"hovertext\":[\"Danio\"],\"legendgroup\":\"Danio\",\"marker\":{\"color\":\"#21e548\",\"symbol\":\"circle\"},\"mode\":\"markers\",\"name\":\"Danio\",\"orientation\":\"v\",\"showlegend\":true,\"x\":[-0.7198608],\"xaxis\":\"x\",\"y\":[-0.15570429],\"yaxis\":\"y\",\"type\":\"scatter\",\"textposition\":\"top right\"},{\"customdata\":[[27,\"Drosophila\",\"Eukaryota\",\"Metazoa\",\"EUKARYOTA\"],[28,\"Drosophila\",\"Eukaryota\",\"Metazoa\",\"EUKARYOTA\"],[29,\"Drosophila\",\"Eukaryota\",\"Metazoa\",\"EUKARYOTA\"]],\"hovertemplate\":\"<b>%{hovertext}</b><br><br>Species=%{customdata[1]}<br>pm1=%{x}<br>pm2=%{y}<br>Unnamed: 0=%{customdata[0]}<br>Kingdom=%{customdata[2]}<br>Family=%{customdata[3]}<br>Color_eukaryota=%{customdata[4]}<extra></extra>\",\"hovertext\":[\"Drosophila\",\"Drosophila\",\"Drosophila\"],\"legendgroup\":\"Drosophila\",\"marker\":{\"color\":\"#21e548\",\"symbol\":\"circle\"},\"mode\":\"markers\",\"name\":\"Drosophila\",\"orientation\":\"v\",\"showlegend\":true,\"x\":[-0.75331324,-0.748439,-0.7313381],\"xaxis\":\"x\",\"y\":[-0.5310014,-0.5475899,-0.5524903],\"yaxis\":\"y\",\"type\":\"scatter\",\"textposition\":\"top right\"},{\"customdata\":[[30,\"Apis\",\"Eukaryota\",\"Metazoa\",\"EUKARYOTA\"]],\"hovertemplate\":\"<b>%{hovertext}</b><br><br>Species=%{customdata[1]}<br>pm1=%{x}<br>pm2=%{y}<br>Unnamed: 0=%{customdata[0]}<br>Kingdom=%{customdata[2]}<br>Family=%{customdata[3]}<br>Color_eukaryota=%{customdata[4]}<extra></extra>\",\"hovertext\":[\"Apis\"],\"legendgroup\":\"Apis\",\"marker\":{\"color\":\"#21e548\",\"symbol\":\"circle\"},\"mode\":\"markers\",\"name\":\"Apis\",\"orientation\":\"v\",\"showlegend\":true,\"x\":[-0.74180365],\"xaxis\":\"x\",\"y\":[-0.5190686],\"yaxis\":\"y\",\"type\":\"scatter\",\"textposition\":\"top right\"},{\"customdata\":[[31,\"Tribolium\",\"Eukaryota\",\"Metazoa\",\"EUKARYOTA\"]],\"hovertemplate\":\"<b>%{hovertext}</b><br><br>Species=%{customdata[1]}<br>pm1=%{x}<br>pm2=%{y}<br>Unnamed: 0=%{customdata[0]}<br>Kingdom=%{customdata[2]}<br>Family=%{customdata[3]}<br>Color_eukaryota=%{customdata[4]}<extra></extra>\",\"hovertext\":[\"Tribolium\"],\"legendgroup\":\"Tribolium\",\"marker\":{\"color\":\"#21e548\",\"symbol\":\"circle\"},\"mode\":\"markers\",\"name\":\"Tribolium\",\"orientation\":\"v\",\"showlegend\":true,\"x\":[-0.73487693],\"xaxis\":\"x\",\"y\":[-0.5304727],\"yaxis\":\"y\",\"type\":\"scatter\",\"textposition\":\"top right\"},{\"customdata\":[[32,\"Bombyx\",\"Eukaryota\",\"Metazoa\",\"EUKARYOTA\"]],\"hovertemplate\":\"<b>%{hovertext}</b><br><br>Species=%{customdata[1]}<br>pm1=%{x}<br>pm2=%{y}<br>Unnamed: 0=%{customdata[0]}<br>Kingdom=%{customdata[2]}<br>Family=%{customdata[3]}<br>Color_eukaryota=%{customdata[4]}<extra></extra>\",\"hovertext\":[\"Bombyx\"],\"legendgroup\":\"Bombyx\",\"marker\":{\"color\":\"#21e548\",\"symbol\":\"circle\"},\"mode\":\"markers\",\"name\":\"Bombyx\",\"orientation\":\"v\",\"showlegend\":true,\"x\":[-0.7247355],\"xaxis\":\"x\",\"y\":[-0.53849876],\"yaxis\":\"y\",\"type\":\"scatter\",\"textposition\":\"top right\"},{\"customdata\":[[33,\"Graphocephala\",\"Eukaryota\",\"Metazoa\",\"EUKARYOTA\"]],\"hovertemplate\":\"<b>%{hovertext}</b><br><br>Species=%{customdata[1]}<br>pm1=%{x}<br>pm2=%{y}<br>Unnamed: 0=%{customdata[0]}<br>Kingdom=%{customdata[2]}<br>Family=%{customdata[3]}<br>Color_eukaryota=%{customdata[4]}<extra></extra>\",\"hovertext\":[\"Graphocephala\"],\"legendgroup\":\"Graphocephala\",\"marker\":{\"color\":\"#21e548\",\"symbol\":\"circle\"},\"mode\":\"markers\",\"name\":\"Graphocephala\",\"orientation\":\"v\",\"showlegend\":true,\"x\":[-0.7247921],\"xaxis\":\"x\",\"y\":[-0.49430734],\"yaxis\":\"y\",\"type\":\"scatter\",\"textposition\":\"top right\"},{\"customdata\":[[34,\"Litopenaeus\",\"Eukaryota\",\"Metazoa\",\"EUKARYOTA\"]],\"hovertemplate\":\"<b>%{hovertext}</b><br><br>Species=%{customdata[1]}<br>pm1=%{x}<br>pm2=%{y}<br>Unnamed: 0=%{customdata[0]}<br>Kingdom=%{customdata[2]}<br>Family=%{customdata[3]}<br>Color_eukaryota=%{customdata[4]}<extra></extra>\",\"hovertext\":[\"Litopenaeus\"],\"legendgroup\":\"Litopenaeus\",\"marker\":{\"color\":\"#21e548\",\"symbol\":\"circle\"},\"mode\":\"markers\",\"name\":\"Litopenaeus\",\"orientation\":\"v\",\"showlegend\":true,\"x\":[-0.7117707],\"xaxis\":\"x\",\"y\":[-0.5291109],\"yaxis\":\"y\",\"type\":\"scatter\",\"textposition\":\"top right\"},{\"customdata\":[[35,\"Geocy\",\"Eukaryota\",\"Metazoa\",\"EUKARYOTA\"]],\"hovertemplate\":\"<b>%{hovertext}</b><br><br>Species=%{customdata[1]}<br>pm1=%{x}<br>pm2=%{y}<br>Unnamed: 0=%{customdata[0]}<br>Kingdom=%{customdata[2]}<br>Family=%{customdata[3]}<br>Color_eukaryota=%{customdata[4]}<extra></extra>\",\"hovertext\":[\"Geocy\"],\"legendgroup\":\"Geocy\",\"marker\":{\"color\":\"#21e548\",\"symbol\":\"circle\"},\"mode\":\"markers\",\"name\":\"Geocy\",\"orientation\":\"v\",\"showlegend\":true,\"x\":[-0.6954949],\"xaxis\":\"x\",\"y\":[-0.2996023],\"yaxis\":\"y\",\"type\":\"scatter\",\"textposition\":\"top right\"},{\"customdata\":[[36,\"Aspergillus\",\"Eukaryota\",\"Fungi\",\"EUKARYOTA\"],[38,\"Aspergillus\",\"Eukaryota\",\"Fungi\",\"EUKARYOTA\"],[39,\"Aspergillus\",\"Eukaryota\",\"Fungi\",\"EUKARYOTA\"]],\"hovertemplate\":\"<b>%{hovertext}</b><br><br>Species=%{customdata[1]}<br>pm1=%{x}<br>pm2=%{y}<br>Unnamed: 0=%{customdata[0]}<br>Kingdom=%{customdata[2]}<br>Family=%{customdata[3]}<br>Color_eukaryota=%{customdata[4]}<extra></extra>\",\"hovertext\":[\"Aspergillus\",\"Aspergillus\",\"Aspergillus\"],\"legendgroup\":\"Aspergillus\",\"marker\":{\"color\":\"#1fb995\",\"symbol\":\"circle\"},\"mode\":\"markers\",\"name\":\"Aspergillus\",\"orientation\":\"v\",\"showlegend\":true,\"x\":[-0.6810791,-0.73197603,-0.73390985],\"xaxis\":\"x\",\"y\":[0.11914146,0.19756268,0.21699464],\"yaxis\":\"y\",\"type\":\"scatter\",\"textposition\":\"top right\"},{\"customdata\":[[37,\"Neosartorya\",\"Eukaryota\",\"Fungi\",\"EUKARYOTA\"]],\"hovertemplate\":\"<b>%{hovertext}</b><br><br>Species=%{customdata[1]}<br>pm1=%{x}<br>pm2=%{y}<br>Unnamed: 0=%{customdata[0]}<br>Kingdom=%{customdata[2]}<br>Family=%{customdata[3]}<br>Color_eukaryota=%{customdata[4]}<extra></extra>\",\"hovertext\":[\"Neosartorya\"],\"legendgroup\":\"Neosartorya\",\"marker\":{\"color\":\"#1fb995\",\"symbol\":\"circle\"},\"mode\":\"markers\",\"name\":\"Neosartorya\",\"orientation\":\"v\",\"showlegend\":true,\"x\":[-0.7521039],\"xaxis\":\"x\",\"y\":[0.16425893],\"yaxis\":\"y\",\"type\":\"scatter\",\"textposition\":\"top right\"},{\"customdata\":[[40,\"Pichia\",\"Eukaryota\",\"Fungi\",\"EUKARYOTA\"],[42,\"Pichia\",\"Eukaryota\",\"Fungi\",\"EUKARYOTA\"]],\"hovertemplate\":\"<b>%{hovertext}</b><br><br>Species=%{customdata[1]}<br>pm1=%{x}<br>pm2=%{y}<br>Unnamed: 0=%{customdata[0]}<br>Kingdom=%{customdata[2]}<br>Family=%{customdata[3]}<br>Color_eukaryota=%{customdata[4]}<extra></extra>\",\"hovertext\":[\"Pichia\",\"Pichia\"],\"legendgroup\":\"Pichia\",\"marker\":{\"color\":\"#1fb995\",\"symbol\":\"circle\"},\"mode\":\"markers\",\"name\":\"Pichia\",\"orientation\":\"v\",\"showlegend\":true,\"x\":[-0.57037693,-0.66944695],\"xaxis\":\"x\",\"y\":[-0.13791098,0.19888036],\"yaxis\":\"y\",\"type\":\"scatter\",\"textposition\":\"top right\"},{\"customdata\":[[41,\"Candida\",\"Eukaryota\",\"Fungi\",\"EUKARYOTA\"],[45,\"Candida\",\"Eukaryota\",\"Fungi\",\"EUKARYOTA\"]],\"hovertemplate\":\"<b>%{hovertext}</b><br><br>Species=%{customdata[1]}<br>pm1=%{x}<br>pm2=%{y}<br>Unnamed: 0=%{customdata[0]}<br>Kingdom=%{customdata[2]}<br>Family=%{customdata[3]}<br>Color_eukaryota=%{customdata[4]}<extra></extra>\",\"hovertext\":[\"Candida\",\"Candida\"],\"legendgroup\":\"Candida\",\"marker\":{\"color\":\"#1fb995\",\"symbol\":\"circle\"},\"mode\":\"markers\",\"name\":\"Candida\",\"orientation\":\"v\",\"showlegend\":true,\"x\":[-0.62652355,-0.60802054],\"xaxis\":\"x\",\"y\":[0.2946659,0.26075897],\"yaxis\":\"y\",\"type\":\"scatter\",\"textposition\":\"top right\"},{\"customdata\":[[43,\"Kluyveromyces\",\"Eukaryota\",\"Fungi\",\"EUKARYOTA\"]],\"hovertemplate\":\"<b>%{hovertext}</b><br><br>Species=%{customdata[1]}<br>pm1=%{x}<br>pm2=%{y}<br>Unnamed: 0=%{customdata[0]}<br>Kingdom=%{customdata[2]}<br>Family=%{customdata[3]}<br>Color_eukaryota=%{customdata[4]}<extra></extra>\",\"hovertext\":[\"Kluyveromyces\"],\"legendgroup\":\"Kluyveromyces\",\"marker\":{\"color\":\"#1fb995\",\"symbol\":\"circle\"},\"mode\":\"markers\",\"name\":\"Kluyveromyces\",\"orientation\":\"v\",\"showlegend\":true,\"x\":[-0.615969],\"xaxis\":\"x\",\"y\":[0.23958886],\"yaxis\":\"y\",\"type\":\"scatter\",\"textposition\":\"top right\"},{\"customdata\":[[44,\"Saccharomyces\",\"Eukaryota\",\"Fungi\",\"EUKARYOTA\"],[46,\"Saccharomyces\",\"Eukaryota\",\"Fungi\",\"EUKARYOTA\"]],\"hovertemplate\":\"<b>%{hovertext}</b><br><br>Species=%{customdata[1]}<br>pm1=%{x}<br>pm2=%{y}<br>Unnamed: 0=%{customdata[0]}<br>Kingdom=%{customdata[2]}<br>Family=%{customdata[3]}<br>Color_eukaryota=%{customdata[4]}<extra></extra>\",\"hovertext\":[\"Saccharomyces\",\"Saccharomyces\"],\"legendgroup\":\"Saccharomyces\",\"marker\":{\"color\":\"#1fb995\",\"symbol\":\"circle\"},\"mode\":\"markers\",\"name\":\"Saccharomyces\",\"orientation\":\"v\",\"showlegend\":true,\"x\":[-0.6591339,-0.6525111],\"xaxis\":\"x\",\"y\":[0.29400313,0.25796384],\"yaxis\":\"y\",\"type\":\"scatter\",\"textposition\":\"top right\"},{\"customdata\":[[47,\"Schizosaccharomyces\",\"Eukaryota\",\"Fungi\",\"EUKARYOTA\"]],\"hovertemplate\":\"<b>%{hovertext}</b><br><br>Species=%{customdata[1]}<br>pm1=%{x}<br>pm2=%{y}<br>Unnamed: 0=%{customdata[0]}<br>Kingdom=%{customdata[2]}<br>Family=%{customdata[3]}<br>Color_eukaryota=%{customdata[4]}<extra></extra>\",\"hovertext\":[\"Schizosaccharomyces\"],\"legendgroup\":\"Schizosaccharomyces\",\"marker\":{\"color\":\"#1fb995\",\"symbol\":\"circle\"},\"mode\":\"markers\",\"name\":\"Schizosaccharomyces\",\"orientation\":\"v\",\"showlegend\":true,\"x\":[-0.7071143],\"xaxis\":\"x\",\"y\":[0.16122662],\"yaxis\":\"y\",\"type\":\"scatter\",\"textposition\":\"top right\"},{\"customdata\":[[48,\"Monosiga\",\"Eukaryota\",\"Choanoflagellata\",\"EUKARYOTA\"]],\"hovertemplate\":\"<b>%{hovertext}</b><br><br>Species=%{customdata[1]}<br>pm1=%{x}<br>pm2=%{y}<br>Unnamed: 0=%{customdata[0]}<br>Kingdom=%{customdata[2]}<br>Family=%{customdata[3]}<br>Color_eukaryota=%{customdata[4]}<extra></extra>\",\"hovertext\":[\"Monosiga\"],\"legendgroup\":\"Monosiga\",\"marker\":{\"color\":\"#21e548\",\"symbol\":\"circle\"},\"mode\":\"markers\",\"name\":\"Monosiga\",\"orientation\":\"v\",\"showlegend\":true,\"x\":[-0.6314559],\"xaxis\":\"x\",\"y\":[-0.0709549],\"yaxis\":\"y\",\"type\":\"scatter\",\"textposition\":\"top right\"},{\"customdata\":[[49,\"Entamoeba\",\"Eukaryota\",\"Amoebozoa\",\"EUKARYOTA\"]],\"hovertemplate\":\"<b>%{hovertext}</b><br><br>Species=%{customdata[1]}<br>pm1=%{x}<br>pm2=%{y}<br>Unnamed: 0=%{customdata[0]}<br>Kingdom=%{customdata[2]}<br>Family=%{customdata[3]}<br>Color_eukaryota=%{customdata[4]}<extra></extra>\",\"hovertext\":[\"Entamoeba\"],\"legendgroup\":\"Entamoeba\",\"marker\":{\"color\":\"#21e548\",\"symbol\":\"circle\"},\"mode\":\"markers\",\"name\":\"Entamoeba\",\"orientation\":\"v\",\"showlegend\":true,\"x\":[-0.756797],\"xaxis\":\"x\",\"y\":[-0.19151846],\"yaxis\":\"y\",\"type\":\"scatter\",\"textposition\":\"top right\"},{\"customdata\":[[50,\"Dictyostelium\",\"Eukaryota\",\"Amoebozoa\",\"EUKARYOTA\"]],\"hovertemplate\":\"<b>%{hovertext}</b><br><br>Species=%{customdata[1]}<br>pm1=%{x}<br>pm2=%{y}<br>Unnamed: 0=%{customdata[0]}<br>Kingdom=%{customdata[2]}<br>Family=%{customdata[3]}<br>Color_eukaryota=%{customdata[4]}<extra></extra>\",\"hovertext\":[\"Dictyostelium\"],\"legendgroup\":\"Dictyostelium\",\"marker\":{\"color\":\"#21e548\",\"symbol\":\"circle\"},\"mode\":\"markers\",\"name\":\"Dictyostelium\",\"orientation\":\"v\",\"showlegend\":true,\"x\":[-0.7026959],\"xaxis\":\"x\",\"y\":[-0.113642864],\"yaxis\":\"y\",\"type\":\"scatter\",\"textposition\":\"top right\"},{\"customdata\":[[51,\"Arabidopsis\",\"Eukaryota\",\"Viridiplantae\",\"EUKARYOTA\"],[52,\"Arabidopsis\",\"Eukaryota\",\"Viridiplantae\",\"EUKARYOTA\"]],\"hovertemplate\":\"<b>%{hovertext}</b><br><br>Species=%{customdata[1]}<br>pm1=%{x}<br>pm2=%{y}<br>Unnamed: 0=%{customdata[0]}<br>Kingdom=%{customdata[2]}<br>Family=%{customdata[3]}<br>Color_eukaryota=%{customdata[4]}<extra></extra>\",\"hovertext\":[\"Arabidopsis\",\"Arabidopsis\"],\"legendgroup\":\"Arabidopsis\",\"marker\":{\"color\":\"#06f9d4\",\"symbol\":\"circle\"},\"mode\":\"markers\",\"name\":\"Arabidopsis\",\"orientation\":\"v\",\"showlegend\":true,\"x\":[0.86114365,0.84289294],\"xaxis\":\"x\",\"y\":[0.20506479,0.2193647],\"yaxis\":\"y\",\"type\":\"scatter\",\"textposition\":\"top right\"},{\"customdata\":[[53,\"Limonium\",\"Eukaryota\",\"Viridiplantae\",\"EUKARYOTA\"]],\"hovertemplate\":\"<b>%{hovertext}</b><br><br>Species=%{customdata[1]}<br>pm1=%{x}<br>pm2=%{y}<br>Unnamed: 0=%{customdata[0]}<br>Kingdom=%{customdata[2]}<br>Family=%{customdata[3]}<br>Color_eukaryota=%{customdata[4]}<extra></extra>\",\"hovertext\":[\"Limonium\"],\"legendgroup\":\"Limonium\",\"marker\":{\"color\":\"#c7c7c7\",\"symbol\":\"circle\"},\"mode\":\"markers\",\"name\":\"Limonium\",\"orientation\":\"v\",\"showlegend\":true,\"x\":[0.86750895],\"xaxis\":\"x\",\"y\":[0.24155946],\"yaxis\":\"y\",\"type\":\"scatter\",\"textposition\":\"top right\"},{\"customdata\":[[54,\"Zea\",\"Eukaryota\",\"Viridiplantae\",\"EUKARYOTA\"]],\"hovertemplate\":\"<b>%{hovertext}</b><br><br>Species=%{customdata[1]}<br>pm1=%{x}<br>pm2=%{y}<br>Unnamed: 0=%{customdata[0]}<br>Kingdom=%{customdata[2]}<br>Family=%{customdata[3]}<br>Color_eukaryota=%{customdata[4]}<extra></extra>\",\"hovertext\":[\"Zea\"],\"legendgroup\":\"Zea\",\"marker\":{\"color\":\"#c7c7c7\",\"symbol\":\"circle\"},\"mode\":\"markers\",\"name\":\"Zea\",\"orientation\":\"v\",\"showlegend\":true,\"x\":[0.8898363],\"xaxis\":\"x\",\"y\":[0.26888776],\"yaxis\":\"y\",\"type\":\"scatter\",\"textposition\":\"top right\"},{\"customdata\":[[55,\"Vitis\",\"Eukaryota\",\"Viridiplantae\",\"EUKARYOTA\"]],\"hovertemplate\":\"<b>%{hovertext}</b><br><br>Species=%{customdata[1]}<br>pm1=%{x}<br>pm2=%{y}<br>Unnamed: 0=%{customdata[0]}<br>Kingdom=%{customdata[2]}<br>Family=%{customdata[3]}<br>Color_eukaryota=%{customdata[4]}<extra></extra>\",\"hovertext\":[\"Vitis\"],\"legendgroup\":\"Vitis\",\"marker\":{\"color\":\"#c7c7c7\",\"symbol\":\"circle\"},\"mode\":\"markers\",\"name\":\"Vitis\",\"orientation\":\"v\",\"showlegend\":true,\"x\":[0.874268],\"xaxis\":\"x\",\"y\":[0.26825014],\"yaxis\":\"y\",\"type\":\"scatter\",\"textposition\":\"top right\"},{\"customdata\":[[56,\"Ostreococcus\",\"Eukaryota\",\"Viridiplantae\",\"EUKARYOTA\"]],\"hovertemplate\":\"<b>%{hovertext}</b><br><br>Species=%{customdata[1]}<br>pm1=%{x}<br>pm2=%{y}<br>Unnamed: 0=%{customdata[0]}<br>Kingdom=%{customdata[2]}<br>Family=%{customdata[3]}<br>Color_eukaryota=%{customdata[4]}<extra></extra>\",\"hovertext\":[\"Ostreococcus\"],\"legendgroup\":\"Ostreococcus\",\"marker\":{\"color\":\"#b5e521\",\"symbol\":\"circle\"},\"mode\":\"markers\",\"name\":\"Ostreococcus\",\"orientation\":\"v\",\"showlegend\":true,\"x\":[-0.71635604],\"xaxis\":\"x\",\"y\":[-0.026540766],\"yaxis\":\"y\",\"type\":\"scatter\",\"textposition\":\"top right\"},{\"customdata\":[[57,\"Helicosporidium\",\"Eukaryota\",\"Viridiplantae\",\"EUKARYOTA\"]],\"hovertemplate\":\"<b>%{hovertext}</b><br><br>Species=%{customdata[1]}<br>pm1=%{x}<br>pm2=%{y}<br>Unnamed: 0=%{customdata[0]}<br>Kingdom=%{customdata[2]}<br>Family=%{customdata[3]}<br>Color_eukaryota=%{customdata[4]}<extra></extra>\",\"hovertext\":[\"Helicosporidium\"],\"legendgroup\":\"Helicosporidium\",\"marker\":{\"color\":\"#b5e521\",\"symbol\":\"circle\"},\"mode\":\"markers\",\"name\":\"Helicosporidium\",\"orientation\":\"v\",\"showlegend\":true,\"x\":[-0.7375467],\"xaxis\":\"x\",\"y\":[-0.07159258],\"yaxis\":\"y\",\"type\":\"scatter\",\"textposition\":\"top right\"},{\"customdata\":[[58,\"Fagopyrum\",\"Eukaryota\",\"Viridiplantae\",\"EUKARYOTA\"]],\"hovertemplate\":\"<b>%{hovertext}</b><br><br>Species=%{customdata[1]}<br>pm1=%{x}<br>pm2=%{y}<br>Unnamed: 0=%{customdata[0]}<br>Kingdom=%{customdata[2]}<br>Family=%{customdata[3]}<br>Color_eukaryota=%{customdata[4]}<extra></extra>\",\"hovertext\":[\"Fagopyrum\"],\"legendgroup\":\"Fagopyrum\",\"marker\":{\"color\":\"#b5e521\",\"symbol\":\"circle\"},\"mode\":\"markers\",\"name\":\"Fagopyrum\",\"orientation\":\"v\",\"showlegend\":true,\"x\":[-0.6551419],\"xaxis\":\"x\",\"y\":[0.062075492],\"yaxis\":\"y\",\"type\":\"scatter\",\"textposition\":\"top right\"},{\"customdata\":[[59,\"Cryptosporidium\",\"Eukaryota\",\"Alveolata\",\"EUKARYOTA\"]],\"hovertemplate\":\"<b>%{hovertext}</b><br><br>Species=%{customdata[1]}<br>pm1=%{x}<br>pm2=%{y}<br>Unnamed: 0=%{customdata[0]}<br>Kingdom=%{customdata[2]}<br>Family=%{customdata[3]}<br>Color_eukaryota=%{customdata[4]}<extra></extra>\",\"hovertext\":[\"Cryptosporidium\"],\"legendgroup\":\"Cryptosporidium\",\"marker\":{\"color\":\"#21e548\",\"symbol\":\"circle\"},\"mode\":\"markers\",\"name\":\"Cryptosporidium\",\"orientation\":\"v\",\"showlegend\":true,\"x\":[-0.6249803],\"xaxis\":\"x\",\"y\":[0.21035507],\"yaxis\":\"y\",\"type\":\"scatter\",\"textposition\":\"top right\"},{\"customdata\":[[60,\"Theileria\",\"Eukaryota\",\"Sar\",\"EUKARYOTA\"]],\"hovertemplate\":\"<b>%{hovertext}</b><br><br>Species=%{customdata[1]}<br>pm1=%{x}<br>pm2=%{y}<br>Unnamed: 0=%{customdata[0]}<br>Kingdom=%{customdata[2]}<br>Family=%{customdata[3]}<br>Color_eukaryota=%{customdata[4]}<extra></extra>\",\"hovertext\":[\"Theileria\"],\"legendgroup\":\"Theileria\",\"marker\":{\"color\":\"#21e548\",\"symbol\":\"circle\"},\"mode\":\"markers\",\"name\":\"Theileria\",\"orientation\":\"v\",\"showlegend\":true,\"x\":[-0.81088555],\"xaxis\":\"x\",\"y\":[0.0577559],\"yaxis\":\"y\",\"type\":\"scatter\",\"textposition\":\"top right\"},{\"customdata\":[[61,\"Plasmodium\",\"Eukaryota\",\"Alveolata\",\"EUKARYOTA\"]],\"hovertemplate\":\"<b>%{hovertext}</b><br><br>Species=%{customdata[1]}<br>pm1=%{x}<br>pm2=%{y}<br>Unnamed: 0=%{customdata[0]}<br>Kingdom=%{customdata[2]}<br>Family=%{customdata[3]}<br>Color_eukaryota=%{customdata[4]}<extra></extra>\",\"hovertext\":[\"Plasmodium\"],\"legendgroup\":\"Plasmodium\",\"marker\":{\"color\":\"#21e548\",\"symbol\":\"circle\"},\"mode\":\"markers\",\"name\":\"Plasmodium\",\"orientation\":\"v\",\"showlegend\":true,\"x\":[-0.731728],\"xaxis\":\"x\",\"y\":[0.076384],\"yaxis\":\"y\",\"type\":\"scatter\",\"textposition\":\"top right\"},{\"customdata\":[[62,\"Archaeoglobus\",\"Archaea\",\"Euryarchaeota\",\"OTHERS\"],[76,\"Archaeoglobus\",\"Archaea\",\"Euryarchaeota\",\"OTHERS\"]],\"hovertemplate\":\"<b>%{hovertext}</b><br><br>Species=%{customdata[1]}<br>pm1=%{x}<br>pm2=%{y}<br>Unnamed: 0=%{customdata[0]}<br>Kingdom=%{customdata[2]}<br>Family=%{customdata[3]}<br>Color_eukaryota=%{customdata[4]}<extra></extra>\",\"hovertext\":[\"Archaeoglobus\",\"Archaeoglobus\"],\"legendgroup\":\"Archaeoglobus\",\"marker\":{\"color\":\"#ff0000\",\"symbol\":\"circle\"},\"mode\":\"markers\",\"name\":\"Archaeoglobus\",\"orientation\":\"v\",\"showlegend\":true,\"x\":[0.20612599,0.116339475],\"xaxis\":\"x\",\"y\":[-0.008712659,-0.0476018],\"yaxis\":\"y\",\"type\":\"scatter\",\"textposition\":\"top right\"},{\"customdata\":[[63,\"Methanosaeta\",\"Archaea\",\"Euryarchaeota\",\"OTHERS\"],[70,\"Methanosaeta\",\"Archaea\",\"Euryarchaeota\",\"OTHERS\"]],\"hovertemplate\":\"<b>%{hovertext}</b><br><br>Species=%{customdata[1]}<br>pm1=%{x}<br>pm2=%{y}<br>Unnamed: 0=%{customdata[0]}<br>Kingdom=%{customdata[2]}<br>Family=%{customdata[3]}<br>Color_eukaryota=%{customdata[4]}<extra></extra>\",\"hovertext\":[\"Methanosaeta\",\"Methanosaeta\"],\"legendgroup\":\"Methanosaeta\",\"marker\":{\"color\":\"#ff0000\",\"symbol\":\"circle\"},\"mode\":\"markers\",\"name\":\"Methanosaeta\",\"orientation\":\"v\",\"showlegend\":true,\"x\":[0.1019516,0.37916875],\"xaxis\":\"x\",\"y\":[-0.18376373,0.08937337],\"yaxis\":\"y\",\"type\":\"scatter\",\"textposition\":\"top right\"},{\"customdata\":[[64,\"Methanococcoides\",\"Archaea\",\"Euryarchaeota\",\"OTHERS\"]],\"hovertemplate\":\"<b>%{hovertext}</b><br><br>Species=%{customdata[1]}<br>pm1=%{x}<br>pm2=%{y}<br>Unnamed: 0=%{customdata[0]}<br>Kingdom=%{customdata[2]}<br>Family=%{customdata[3]}<br>Color_eukaryota=%{customdata[4]}<extra></extra>\",\"hovertext\":[\"Methanococcoides\"],\"legendgroup\":\"Methanococcoides\",\"marker\":{\"color\":\"#ff0000\",\"symbol\":\"circle\"},\"mode\":\"markers\",\"name\":\"Methanococcoides\",\"orientation\":\"v\",\"showlegend\":true,\"x\":[0.03265355],\"xaxis\":\"x\",\"y\":[-0.2033935],\"yaxis\":\"y\",\"type\":\"scatter\",\"textposition\":\"top right\"},{\"customdata\":[[65,\"Candidatus\",\"Archaea\",\"Euryarchaeota\",\"OTHERS\"]],\"hovertemplate\":\"<b>%{hovertext}</b><br><br>Species=%{customdata[1]}<br>pm1=%{x}<br>pm2=%{y}<br>Unnamed: 0=%{customdata[0]}<br>Kingdom=%{customdata[2]}<br>Family=%{customdata[3]}<br>Color_eukaryota=%{customdata[4]}<extra></extra>\",\"hovertext\":[\"Candidatus\"],\"legendgroup\":\"Candidatus\",\"marker\":{\"color\":\"#ff0000\",\"symbol\":\"circle\"},\"mode\":\"markers\",\"name\":\"Candidatus\",\"orientation\":\"v\",\"showlegend\":true,\"x\":[0.17626055],\"xaxis\":\"x\",\"y\":[-0.09225356],\"yaxis\":\"y\",\"type\":\"scatter\",\"textposition\":\"top right\"},{\"customdata\":[[66,\"Methanospirillum\",\"Archaea\",\"Euryarchaeota\",\"OTHERS\"]],\"hovertemplate\":\"<b>%{hovertext}</b><br><br>Species=%{customdata[1]}<br>pm1=%{x}<br>pm2=%{y}<br>Unnamed: 0=%{customdata[0]}<br>Kingdom=%{customdata[2]}<br>Family=%{customdata[3]}<br>Color_eukaryota=%{customdata[4]}<extra></extra>\",\"hovertext\":[\"Methanospirillum\"],\"legendgroup\":\"Methanospirillum\",\"marker\":{\"color\":\"#ff0000\",\"symbol\":\"circle\"},\"mode\":\"markers\",\"name\":\"Methanospirillum\",\"orientation\":\"v\",\"showlegend\":true,\"x\":[0.17642745],\"xaxis\":\"x\",\"y\":[-0.09174974],\"yaxis\":\"y\",\"type\":\"scatter\",\"textposition\":\"top right\"},{\"customdata\":[[67,\"Picrophilus\",\"Archaea\",\"Euryarchaeota\",\"OTHERS\"]],\"hovertemplate\":\"<b>%{hovertext}</b><br><br>Species=%{customdata[1]}<br>pm1=%{x}<br>pm2=%{y}<br>Unnamed: 0=%{customdata[0]}<br>Kingdom=%{customdata[2]}<br>Family=%{customdata[3]}<br>Color_eukaryota=%{customdata[4]}<extra></extra>\",\"hovertext\":[\"Picrophilus\"],\"legendgroup\":\"Picrophilus\",\"marker\":{\"color\":\"#ff0000\",\"symbol\":\"circle\"},\"mode\":\"markers\",\"name\":\"Picrophilus\",\"orientation\":\"v\",\"showlegend\":true,\"x\":[-0.053208943],\"xaxis\":\"x\",\"y\":[-0.3469995],\"yaxis\":\"y\",\"type\":\"scatter\",\"textposition\":\"top right\"},{\"customdata\":[[68,\"Methanococcus\",\"Archaea\",\"Euryarchaeota\",\"OTHERS\"]],\"hovertemplate\":\"<b>%{hovertext}</b><br><br>Species=%{customdata[1]}<br>pm1=%{x}<br>pm2=%{y}<br>Unnamed: 0=%{customdata[0]}<br>Kingdom=%{customdata[2]}<br>Family=%{customdata[3]}<br>Color_eukaryota=%{customdata[4]}<extra></extra>\",\"hovertext\":[\"Methanococcus\"],\"legendgroup\":\"Methanococcus\",\"marker\":{\"color\":\"#ff0000\",\"symbol\":\"circle\"},\"mode\":\"markers\",\"name\":\"Methanococcus\",\"orientation\":\"v\",\"showlegend\":true,\"x\":[-0.06653563],\"xaxis\":\"x\",\"y\":[0.21421278],\"yaxis\":\"y\",\"type\":\"scatter\",\"textposition\":\"top right\"},{\"customdata\":[[69,\"Methanocorpusculum\",\"Archaea\",\"Euryarchaeota\",\"OTHERS\"]],\"hovertemplate\":\"<b>%{hovertext}</b><br><br>Species=%{customdata[1]}<br>pm1=%{x}<br>pm2=%{y}<br>Unnamed: 0=%{customdata[0]}<br>Kingdom=%{customdata[2]}<br>Family=%{customdata[3]}<br>Color_eukaryota=%{customdata[4]}<extra></extra>\",\"hovertext\":[\"Methanocorpusculum\"],\"legendgroup\":\"Methanocorpusculum\",\"marker\":{\"color\":\"#ff0000\",\"symbol\":\"circle\"},\"mode\":\"markers\",\"name\":\"Methanocorpusculum\",\"orientation\":\"v\",\"showlegend\":true,\"x\":[0.327191],\"xaxis\":\"x\",\"y\":[0.046584513],\"yaxis\":\"y\",\"type\":\"scatter\",\"textposition\":\"top right\"},{\"customdata\":[[71,\"Natronomonas\",\"Archaea\",\"Euryarchaeota\",\"OTHERS\"],[74,\"Natronomonas\",\"Archaea\",\"Euryarchaeota\",\"OTHERS\"]],\"hovertemplate\":\"<b>%{hovertext}</b><br><br>Species=%{customdata[1]}<br>pm1=%{x}<br>pm2=%{y}<br>Unnamed: 0=%{customdata[0]}<br>Kingdom=%{customdata[2]}<br>Family=%{customdata[3]}<br>Color_eukaryota=%{customdata[4]}<extra></extra>\",\"hovertext\":[\"Natronomonas\",\"Natronomonas\"],\"legendgroup\":\"Natronomonas\",\"marker\":{\"color\":\"#ff0000\",\"symbol\":\"circle\"},\"mode\":\"markers\",\"name\":\"Natronomonas\",\"orientation\":\"v\",\"showlegend\":true,\"x\":[-0.08388916,-0.040630043],\"xaxis\":\"x\",\"y\":[0.7302229,0.7244389],\"yaxis\":\"y\",\"type\":\"scatter\",\"textposition\":\"top right\"},{\"customdata\":[[72,\"Haloquadratum\",\"Archaea\",\"Euryarchaeota\",\"OTHERS\"]],\"hovertemplate\":\"<b>%{hovertext}</b><br><br>Species=%{customdata[1]}<br>pm1=%{x}<br>pm2=%{y}<br>Unnamed: 0=%{customdata[0]}<br>Kingdom=%{customdata[2]}<br>Family=%{customdata[3]}<br>Color_eukaryota=%{customdata[4]}<extra></extra>\",\"hovertext\":[\"Haloquadratum\"],\"legendgroup\":\"Haloquadratum\",\"marker\":{\"color\":\"#ff0000\",\"symbol\":\"circle\"},\"mode\":\"markers\",\"name\":\"Haloquadratum\",\"orientation\":\"v\",\"showlegend\":true,\"x\":[-0.089336336],\"xaxis\":\"x\",\"y\":[0.74159443],\"yaxis\":\"y\",\"type\":\"scatter\",\"textposition\":\"top right\"},{\"customdata\":[[73,\"Haloarcula\",\"Archaea\",\"Euryarchaeota\",\"OTHERS\"]],\"hovertemplate\":\"<b>%{hovertext}</b><br><br>Species=%{customdata[1]}<br>pm1=%{x}<br>pm2=%{y}<br>Unnamed: 0=%{customdata[0]}<br>Kingdom=%{customdata[2]}<br>Family=%{customdata[3]}<br>Color_eukaryota=%{customdata[4]}<extra></extra>\",\"hovertext\":[\"Haloarcula\"],\"legendgroup\":\"Haloarcula\",\"marker\":{\"color\":\"#ff0000\",\"symbol\":\"circle\"},\"mode\":\"markers\",\"name\":\"Haloarcula\",\"orientation\":\"v\",\"showlegend\":true,\"x\":[-0.09375717],\"xaxis\":\"x\",\"y\":[0.7322303],\"yaxis\":\"y\",\"type\":\"scatter\",\"textposition\":\"top right\"},{\"customdata\":[[75,\"Halobacterium\",\"Archaea\",\"Euryarchaeota\",\"OTHERS\"]],\"hovertemplate\":\"<b>%{hovertext}</b><br><br>Species=%{customdata[1]}<br>pm1=%{x}<br>pm2=%{y}<br>Unnamed: 0=%{customdata[0]}<br>Kingdom=%{customdata[2]}<br>Family=%{customdata[3]}<br>Color_eukaryota=%{customdata[4]}<extra></extra>\",\"hovertext\":[\"Halobacterium\"],\"legendgroup\":\"Halobacterium\",\"marker\":{\"color\":\"#ff0000\",\"symbol\":\"circle\"},\"mode\":\"markers\",\"name\":\"Halobacterium\",\"orientation\":\"v\",\"showlegend\":true,\"x\":[-0.07796227],\"xaxis\":\"x\",\"y\":[0.736704],\"yaxis\":\"y\",\"type\":\"scatter\",\"textposition\":\"top right\"},{\"customdata\":[[77,\"Thermoplasma\",\"Archaea\",\"Euryarchaeota\",\"OTHERS\"]],\"hovertemplate\":\"<b>%{hovertext}</b><br><br>Species=%{customdata[1]}<br>pm1=%{x}<br>pm2=%{y}<br>Unnamed: 0=%{customdata[0]}<br>Kingdom=%{customdata[2]}<br>Family=%{customdata[3]}<br>Color_eukaryota=%{customdata[4]}<extra></extra>\",\"hovertext\":[\"Thermoplasma\"],\"legendgroup\":\"Thermoplasma\",\"marker\":{\"color\":\"#ff0000\",\"symbol\":\"circle\"},\"mode\":\"markers\",\"name\":\"Thermoplasma\",\"orientation\":\"v\",\"showlegend\":true,\"x\":[0.08195666],\"xaxis\":\"x\",\"y\":[0.042008072],\"yaxis\":\"y\",\"type\":\"scatter\",\"textposition\":\"top right\"},{\"customdata\":[[78,\"Thermofilum\",\"Archaea\",\"Crenarchaeota\",\"OTHERS\"]],\"hovertemplate\":\"<b>%{hovertext}</b><br><br>Species=%{customdata[1]}<br>pm1=%{x}<br>pm2=%{y}<br>Unnamed: 0=%{customdata[0]}<br>Kingdom=%{customdata[2]}<br>Family=%{customdata[3]}<br>Color_eukaryota=%{customdata[4]}<extra></extra>\",\"hovertext\":[\"Thermofilum\"],\"legendgroup\":\"Thermofilum\",\"marker\":{\"color\":\"#ff0000\",\"symbol\":\"circle\"},\"mode\":\"markers\",\"name\":\"Thermofilum\",\"orientation\":\"v\",\"showlegend\":true,\"x\":[0.26498067],\"xaxis\":\"x\",\"y\":[-0.08041127],\"yaxis\":\"y\",\"type\":\"scatter\",\"textposition\":\"top right\"},{\"customdata\":[[79,\"Caldivirga\",\"Archaea\",\"Crenarchaeota\",\"OTHERS\"]],\"hovertemplate\":\"<b>%{hovertext}</b><br><br>Species=%{customdata[1]}<br>pm1=%{x}<br>pm2=%{y}<br>Unnamed: 0=%{customdata[0]}<br>Kingdom=%{customdata[2]}<br>Family=%{customdata[3]}<br>Color_eukaryota=%{customdata[4]}<extra></extra>\",\"hovertext\":[\"Caldivirga\"],\"legendgroup\":\"Caldivirga\",\"marker\":{\"color\":\"#ff0000\",\"symbol\":\"circle\"},\"mode\":\"markers\",\"name\":\"Caldivirga\",\"orientation\":\"v\",\"showlegend\":true,\"x\":[0.01931581],\"xaxis\":\"x\",\"y\":[-0.35878596],\"yaxis\":\"y\",\"type\":\"scatter\",\"textposition\":\"top right\"},{\"customdata\":[[80,\"Sulfolobus\",\"Archaea\",\"Crenarchaeota\",\"OTHERS\"],[81,\"Sulfolobus\",\"Archaea\",\"Crenarchaeota\",\"OTHERS\"],[82,\"Sulfolobus\",\"Archaea\",\"Crenarchaeota\",\"OTHERS\"],[86,\"Sulfolobus\",\"Archaea\",\"Crenarchaeota\",\"OTHERS\"],[87,\"Sulfolobus\",\"Archaea\",\"Crenarchaeota\",\"OTHERS\"]],\"hovertemplate\":\"<b>%{hovertext}</b><br><br>Species=%{customdata[1]}<br>pm1=%{x}<br>pm2=%{y}<br>Unnamed: 0=%{customdata[0]}<br>Kingdom=%{customdata[2]}<br>Family=%{customdata[3]}<br>Color_eukaryota=%{customdata[4]}<extra></extra>\",\"hovertext\":[\"Sulfolobus\",\"Sulfolobus\",\"Sulfolobus\",\"Sulfolobus\",\"Sulfolobus\"],\"legendgroup\":\"Sulfolobus\",\"marker\":{\"color\":\"#ff0000\",\"symbol\":\"circle\"},\"mode\":\"markers\",\"name\":\"Sulfolobus\",\"orientation\":\"v\",\"showlegend\":true,\"x\":[-0.04182314,-0.03586334,-0.041493356,0.15933071,0.17678572],\"xaxis\":\"x\",\"y\":[-0.34749103,-0.3330807,-0.34721553,-0.2983674,-0.3205516],\"yaxis\":\"y\",\"type\":\"scatter\",\"textposition\":\"top right\"},{\"customdata\":[[83,\"Hyperthermus\",\"Archaea\",\"Crenarchaeota\",\"OTHERS\"]],\"hovertemplate\":\"<b>%{hovertext}</b><br><br>Species=%{customdata[1]}<br>pm1=%{x}<br>pm2=%{y}<br>Unnamed: 0=%{customdata[0]}<br>Kingdom=%{customdata[2]}<br>Family=%{customdata[3]}<br>Color_eukaryota=%{customdata[4]}<extra></extra>\",\"hovertext\":[\"Hyperthermus\"],\"legendgroup\":\"Hyperthermus\",\"marker\":{\"color\":\"#ff0000\",\"symbol\":\"circle\"},\"mode\":\"markers\",\"name\":\"Hyperthermus\",\"orientation\":\"v\",\"showlegend\":true,\"x\":[0.15418682],\"xaxis\":\"x\",\"y\":[-0.34671915],\"yaxis\":\"y\",\"type\":\"scatter\",\"textposition\":\"top right\"},{\"customdata\":[[84,\"Aeropyrum\",\"Archaea\",\"Crenarchaeota\",\"OTHERS\"],[89,\"Aeropyrum\",\"Archaea\",\"Crenarchaeota\",\"OTHERS\"]],\"hovertemplate\":\"<b>%{hovertext}</b><br><br>Species=%{customdata[1]}<br>pm1=%{x}<br>pm2=%{y}<br>Unnamed: 0=%{customdata[0]}<br>Kingdom=%{customdata[2]}<br>Family=%{customdata[3]}<br>Color_eukaryota=%{customdata[4]}<extra></extra>\",\"hovertext\":[\"Aeropyrum\",\"Aeropyrum\"],\"legendgroup\":\"Aeropyrum\",\"marker\":{\"color\":\"#ff0000\",\"symbol\":\"circle\"},\"mode\":\"markers\",\"name\":\"Aeropyrum\",\"orientation\":\"v\",\"showlegend\":true,\"x\":[0.16320363,0.2932314],\"xaxis\":\"x\",\"y\":[-0.3447164,-0.32630885],\"yaxis\":\"y\",\"type\":\"scatter\",\"textposition\":\"top right\"},{\"customdata\":[[85,\"Metallosphaera\",\"Archaea\",\"Crenarchaeota\",\"OTHERS\"]],\"hovertemplate\":\"<b>%{hovertext}</b><br><br>Species=%{customdata[1]}<br>pm1=%{x}<br>pm2=%{y}<br>Unnamed: 0=%{customdata[0]}<br>Kingdom=%{customdata[2]}<br>Family=%{customdata[3]}<br>Color_eukaryota=%{customdata[4]}<extra></extra>\",\"hovertext\":[\"Metallosphaera\"],\"legendgroup\":\"Metallosphaera\",\"marker\":{\"color\":\"#ff0000\",\"symbol\":\"circle\"},\"mode\":\"markers\",\"name\":\"Metallosphaera\",\"orientation\":\"v\",\"showlegend\":true,\"x\":[0.19525325],\"xaxis\":\"x\",\"y\":[-0.3226127],\"yaxis\":\"y\",\"type\":\"scatter\",\"textposition\":\"top right\"},{\"customdata\":[[88,\"Staphylothermus\",\"Archaea\",\"Crenarchaeota\",\"OTHERS\"]],\"hovertemplate\":\"<b>%{hovertext}</b><br><br>Species=%{customdata[1]}<br>pm1=%{x}<br>pm2=%{y}<br>Unnamed: 0=%{customdata[0]}<br>Kingdom=%{customdata[2]}<br>Family=%{customdata[3]}<br>Color_eukaryota=%{customdata[4]}<extra></extra>\",\"hovertext\":[\"Staphylothermus\"],\"legendgroup\":\"Staphylothermus\",\"marker\":{\"color\":\"#ff0000\",\"symbol\":\"circle\"},\"mode\":\"markers\",\"name\":\"Staphylothermus\",\"orientation\":\"v\",\"showlegend\":true,\"x\":[0.22604832],\"xaxis\":\"x\",\"y\":[-0.3818146],\"yaxis\":\"y\",\"type\":\"scatter\",\"textposition\":\"top right\"},{\"customdata\":[[90,\"Clostridium\",\"Bacteria\",\"Firmicutes\",\"OTHERS\"],[107,\"Clostridium\",\"Bacteria\",\"Firmicutes\",\"OTHERS\"],[108,\"Clostridium\",\"Bacteria\",\"Firmicutes\",\"OTHERS\"],[109,\"Clostridium\",\"Bacteria\",\"Firmicutes\",\"OTHERS\"],[110,\"Clostridium\",\"Bacteria\",\"Firmicutes\",\"OTHERS\"]],\"hovertemplate\":\"<b>%{hovertext}</b><br><br>Species=%{customdata[1]}<br>pm1=%{x}<br>pm2=%{y}<br>Unnamed: 0=%{customdata[0]}<br>Kingdom=%{customdata[2]}<br>Family=%{customdata[3]}<br>Color_eukaryota=%{customdata[4]}<extra></extra>\",\"hovertext\":[\"Clostridium\",\"Clostridium\",\"Clostridium\",\"Clostridium\",\"Clostridium\"],\"legendgroup\":\"Clostridium\",\"marker\":{\"color\":\"#34b8e7\",\"symbol\":\"circle\"},\"mode\":\"markers\",\"name\":\"Clostridium\",\"orientation\":\"v\",\"showlegend\":true,\"x\":[0.5040069,0.063876815,-0.013105983,0.084597155,0.11514125],\"xaxis\":\"x\",\"y\":[0.09392761,0.09200823,0.25174934,0.07977303,0.024093062],\"yaxis\":\"y\",\"type\":\"scatter\",\"textposition\":\"top right\"},{\"customdata\":[[91,\"Thermoanaerobacter\",\"Bacteria\",\"Firmicutes\",\"OTHERS\"],[111,\"Thermoanaerobacter\",\"Bacteria\",\"Firmicutes\",\"OTHERS\"]],\"hovertemplate\":\"<b>%{hovertext}</b><br><br>Species=%{customdata[1]}<br>pm1=%{x}<br>pm2=%{y}<br>Unnamed: 0=%{customdata[0]}<br>Kingdom=%{customdata[2]}<br>Family=%{customdata[3]}<br>Color_eukaryota=%{customdata[4]}<extra></extra>\",\"hovertext\":[\"Thermoanaerobacter\",\"Thermoanaerobacter\"],\"legendgroup\":\"Thermoanaerobacter\",\"marker\":{\"color\":\"#34b8e7\",\"symbol\":\"circle\"},\"mode\":\"markers\",\"name\":\"Thermoanaerobacter\",\"orientation\":\"v\",\"showlegend\":true,\"x\":[-0.24493484,0.43812075],\"xaxis\":\"x\",\"y\":[-0.130921,0.011051653],\"yaxis\":\"y\",\"type\":\"scatter\",\"textposition\":\"top right\"},{\"customdata\":[[92,\"Bacillus\",\"Bacteria\",\"Firmicutes\",\"OTHERS\"],[93,\"Bacillus\",\"Bacteria\",\"Firmicutes\",\"OTHERS\"],[101,\"Bacillus\",\"Bacteria\",\"Firmicutes\",\"OTHERS\"],[102,\"Bacillus\",\"Bacteria\",\"Firmicutes\",\"OTHERS\"]],\"hovertemplate\":\"<b>%{hovertext}</b><br><br>Species=%{customdata[1]}<br>pm1=%{x}<br>pm2=%{y}<br>Unnamed: 0=%{customdata[0]}<br>Kingdom=%{customdata[2]}<br>Family=%{customdata[3]}<br>Color_eukaryota=%{customdata[4]}<extra></extra>\",\"hovertext\":[\"Bacillus\",\"Bacillus\",\"Bacillus\",\"Bacillus\"],\"legendgroup\":\"Bacillus\",\"marker\":{\"color\":\"#34b8e7\",\"symbol\":\"circle\"},\"mode\":\"markers\",\"name\":\"Bacillus\",\"orientation\":\"v\",\"showlegend\":true,\"x\":[0.47298962,-0.4425568,-0.10979977,-0.05422822],\"xaxis\":\"x\",\"y\":[0.55816126,0.38143396,0.31256753,0.3042654],\"yaxis\":\"y\",\"type\":\"scatter\",\"textposition\":\"top right\"},{\"customdata\":[[94,\"Streptococcus\",\"Bacteria\",\"Firmicutes\",\"OTHERS\"],[106,\"Streptococcus\",\"Bacteria\",\"Firmicutes\",\"OTHERS\"]],\"hovertemplate\":\"<b>%{hovertext}</b><br><br>Species=%{customdata[1]}<br>pm1=%{x}<br>pm2=%{y}<br>Unnamed: 0=%{customdata[0]}<br>Kingdom=%{customdata[2]}<br>Family=%{customdata[3]}<br>Color_eukaryota=%{customdata[4]}<extra></extra>\",\"hovertext\":[\"Streptococcus\",\"Streptococcus\"],\"legendgroup\":\"Streptococcus\",\"marker\":{\"color\":\"#34b8e7\",\"symbol\":\"circle\"},\"mode\":\"markers\",\"name\":\"Streptococcus\",\"orientation\":\"v\",\"showlegend\":true,\"x\":[-0.4460212,-0.05905825],\"xaxis\":\"x\",\"y\":[0.1790247,0.37204617],\"yaxis\":\"y\",\"type\":\"scatter\",\"textposition\":\"top right\"},{\"customdata\":[[95,\"Enterococcus\",\"Bacteria\",\"Firmicutes\",\"OTHERS\"],[105,\"Enterococcus\",\"Bacteria\",\"Firmicutes\",\"OTHERS\"]],\"hovertemplate\":\"<b>%{hovertext}</b><br><br>Species=%{customdata[1]}<br>pm1=%{x}<br>pm2=%{y}<br>Unnamed: 0=%{customdata[0]}<br>Kingdom=%{customdata[2]}<br>Family=%{customdata[3]}<br>Color_eukaryota=%{customdata[4]}<extra></extra>\",\"hovertext\":[\"Enterococcus\",\"Enterococcus\"],\"legendgroup\":\"Enterococcus\",\"marker\":{\"color\":\"#34b8e7\",\"symbol\":\"circle\"},\"mode\":\"markers\",\"name\":\"Enterococcus\",\"orientation\":\"v\",\"showlegend\":true,\"x\":[-0.5066077,-0.06099645],\"xaxis\":\"x\",\"y\":[0.000974581,0.3718005],\"yaxis\":\"y\",\"type\":\"scatter\",\"textposition\":\"top right\"},{\"customdata\":[[96,\"Listeria\",\"Bacteria\",\"Firmicutes\",\"OTHERS\"],[104,\"Listeria\",\"Bacteria\",\"Firmicutes\",\"OTHERS\"]],\"hovertemplate\":\"<b>%{hovertext}</b><br><br>Species=%{customdata[1]}<br>pm1=%{x}<br>pm2=%{y}<br>Unnamed: 0=%{customdata[0]}<br>Kingdom=%{customdata[2]}<br>Family=%{customdata[3]}<br>Color_eukaryota=%{customdata[4]}<extra></extra>\",\"hovertext\":[\"Listeria\",\"Listeria\"],\"legendgroup\":\"Listeria\",\"marker\":{\"color\":\"#34b8e7\",\"symbol\":\"circle\"},\"mode\":\"markers\",\"name\":\"Listeria\",\"orientation\":\"v\",\"showlegend\":true,\"x\":[0.11591191,-0.06273006],\"xaxis\":\"x\",\"y\":[0.5759956,0.366412],\"yaxis\":\"y\",\"type\":\"scatter\",\"textposition\":\"top right\"},{\"customdata\":[[97,\"Lactobacillus\",\"Bacteria\",\"Firmicutes\",\"OTHERS\"],[98,\"Lactobacillus\",\"Bacteria\",\"Firmicutes\",\"OTHERS\"],[103,\"Lactobacillus\",\"Bacteria\",\"Firmicutes\",\"OTHERS\"]],\"hovertemplate\":\"<b>%{hovertext}</b><br><br>Species=%{customdata[1]}<br>pm1=%{x}<br>pm2=%{y}<br>Unnamed: 0=%{customdata[0]}<br>Kingdom=%{customdata[2]}<br>Family=%{customdata[3]}<br>Color_eukaryota=%{customdata[4]}<extra></extra>\",\"hovertext\":[\"Lactobacillus\",\"Lactobacillus\",\"Lactobacillus\"],\"legendgroup\":\"Lactobacillus\",\"marker\":{\"color\":\"#34b8e7\",\"symbol\":\"circle\"},\"mode\":\"markers\",\"name\":\"Lactobacillus\",\"orientation\":\"v\",\"showlegend\":true,\"x\":[0.0354625,0.0060688993,-0.061798874],\"xaxis\":\"x\",\"y\":[0.06129074,0.16969559,0.371079],\"yaxis\":\"y\",\"type\":\"scatter\",\"textposition\":\"top right\"},{\"customdata\":[[99,\"Staphylococcus\",\"Bacteria\",\"Firmicutes\",\"OTHERS\"]],\"hovertemplate\":\"<b>%{hovertext}</b><br><br>Species=%{customdata[1]}<br>pm1=%{x}<br>pm2=%{y}<br>Unnamed: 0=%{customdata[0]}<br>Kingdom=%{customdata[2]}<br>Family=%{customdata[3]}<br>Color_eukaryota=%{customdata[4]}<extra></extra>\",\"hovertext\":[\"Staphylococcus\"],\"legendgroup\":\"Staphylococcus\",\"marker\":{\"color\":\"#34b8e7\",\"symbol\":\"circle\"},\"mode\":\"markers\",\"name\":\"Staphylococcus\",\"orientation\":\"v\",\"showlegend\":true,\"x\":[0.038903914],\"xaxis\":\"x\",\"y\":[0.27638572],\"yaxis\":\"y\",\"type\":\"scatter\",\"textposition\":\"top right\"},{\"customdata\":[[100,\"Geobacillus\",\"Bacteria\",\"Firmicutes\",\"OTHERS\"]],\"hovertemplate\":\"<b>%{hovertext}</b><br><br>Species=%{customdata[1]}<br>pm1=%{x}<br>pm2=%{y}<br>Unnamed: 0=%{customdata[0]}<br>Kingdom=%{customdata[2]}<br>Family=%{customdata[3]}<br>Color_eukaryota=%{customdata[4]}<extra></extra>\",\"hovertext\":[\"Geobacillus\"],\"legendgroup\":\"Geobacillus\",\"marker\":{\"color\":\"#34b8e7\",\"symbol\":\"circle\"},\"mode\":\"markers\",\"name\":\"Geobacillus\",\"orientation\":\"v\",\"showlegend\":true,\"x\":[-0.015153],\"xaxis\":\"x\",\"y\":[0.30931202],\"yaxis\":\"y\",\"type\":\"scatter\",\"textposition\":\"top right\"},{\"customdata\":[[112,\"Chlamydia\",\"Bacteria\",\"Chlamydiae\",\"OTHERS\"]],\"hovertemplate\":\"<b>%{hovertext}</b><br><br>Species=%{customdata[1]}<br>pm1=%{x}<br>pm2=%{y}<br>Unnamed: 0=%{customdata[0]}<br>Kingdom=%{customdata[2]}<br>Family=%{customdata[3]}<br>Color_eukaryota=%{customdata[4]}<extra></extra>\",\"hovertext\":[\"Chlamydia\"],\"legendgroup\":\"Chlamydia\",\"marker\":{\"color\":\"#34b8e7\",\"symbol\":\"circle\"},\"mode\":\"markers\",\"name\":\"Chlamydia\",\"orientation\":\"v\",\"showlegend\":true,\"x\":[-0.10606117],\"xaxis\":\"x\",\"y\":[0.6046432],\"yaxis\":\"y\",\"type\":\"scatter\",\"textposition\":\"top right\"},{\"customdata\":[[113,\"Chlamydophila\",\"Bacteria\",\"Chlamydiae\",\"OTHERS\"]],\"hovertemplate\":\"<b>%{hovertext}</b><br><br>Species=%{customdata[1]}<br>pm1=%{x}<br>pm2=%{y}<br>Unnamed: 0=%{customdata[0]}<br>Kingdom=%{customdata[2]}<br>Family=%{customdata[3]}<br>Color_eukaryota=%{customdata[4]}<extra></extra>\",\"hovertext\":[\"Chlamydophila\"],\"legendgroup\":\"Chlamydophila\",\"marker\":{\"color\":\"#34b8e7\",\"symbol\":\"circle\"},\"mode\":\"markers\",\"name\":\"Chlamydophila\",\"orientation\":\"v\",\"showlegend\":true,\"x\":[-0.25023285],\"xaxis\":\"x\",\"y\":[0.4392662],\"yaxis\":\"y\",\"type\":\"scatter\",\"textposition\":\"top right\"},{\"customdata\":[[114,\"Chlorobium\",\"Bacteria\",\"Chlorobi\",\"OTHERS\"],[115,\"Chlorobium\",\"Bacteria\",\"Chlorobi\",\"OTHERS\"]],\"hovertemplate\":\"<b>%{hovertext}</b><br><br>Species=%{customdata[1]}<br>pm1=%{x}<br>pm2=%{y}<br>Unnamed: 0=%{customdata[0]}<br>Kingdom=%{customdata[2]}<br>Family=%{customdata[3]}<br>Color_eukaryota=%{customdata[4]}<extra></extra>\",\"hovertext\":[\"Chlorobium\",\"Chlorobium\"],\"legendgroup\":\"Chlorobium\",\"marker\":{\"color\":\"#34b8e7\",\"symbol\":\"circle\"},\"mode\":\"markers\",\"name\":\"Chlorobium\",\"orientation\":\"v\",\"showlegend\":true,\"x\":[0.60114247,0.2567983],\"xaxis\":\"x\",\"y\":[0.21378578,0.03459018],\"yaxis\":\"y\",\"type\":\"scatter\",\"textposition\":\"top right\"},{\"customdata\":[[116,\"Bacteroides\",\"Bacteria\",\"Bacteroidetes\",\"OTHERS\"],[119,\"Bacteroides\",\"Bacteria\",\"Bacteroidetes\",\"OTHERS\"],[120,\"Bacteroides\",\"Bacteria\",\"Bacteroidetes\",\"OTHERS\"],[122,\"Bacteroides\",\"Bacteria\",\"Bacteroidetes\",\"OTHERS\"],[123,\"Bacteroides\",\"Bacteria\",\"Bacteroidetes\",\"OTHERS\"]],\"hovertemplate\":\"<b>%{hovertext}</b><br><br>Species=%{customdata[1]}<br>pm1=%{x}<br>pm2=%{y}<br>Unnamed: 0=%{customdata[0]}<br>Kingdom=%{customdata[2]}<br>Family=%{customdata[3]}<br>Color_eukaryota=%{customdata[4]}<extra></extra>\",\"hovertext\":[\"Bacteroides\",\"Bacteroides\",\"Bacteroides\",\"Bacteroides\",\"Bacteroides\"],\"legendgroup\":\"Bacteroides\",\"marker\":{\"color\":\"#34b8e7\",\"symbol\":\"circle\"},\"mode\":\"markers\",\"name\":\"Bacteroides\",\"orientation\":\"v\",\"showlegend\":true,\"x\":[0.47989705,0.3692386,0.19888364,0.14345936,0.14294769],\"xaxis\":\"x\",\"y\":[0.15902598,-0.13635924,0.4285746,0.25527,0.2555792],\"yaxis\":\"y\",\"type\":\"scatter\",\"textposition\":\"top right\"},{\"customdata\":[[117,\"Flavobacterium\",\"Bacteria\",\"Bacteroidetes\",\"OTHERS\"]],\"hovertemplate\":\"<b>%{hovertext}</b><br><br>Species=%{customdata[1]}<br>pm1=%{x}<br>pm2=%{y}<br>Unnamed: 0=%{customdata[0]}<br>Kingdom=%{customdata[2]}<br>Family=%{customdata[3]}<br>Color_eukaryota=%{customdata[4]}<extra></extra>\",\"hovertext\":[\"Flavobacterium\"],\"legendgroup\":\"Flavobacterium\",\"marker\":{\"color\":\"#34b8e7\",\"symbol\":\"circle\"},\"mode\":\"markers\",\"name\":\"Flavobacterium\",\"orientation\":\"v\",\"showlegend\":true,\"x\":[0.40690038],\"xaxis\":\"x\",\"y\":[-0.08747836],\"yaxis\":\"y\",\"type\":\"scatter\",\"textposition\":\"top right\"},{\"customdata\":[[118,\"Porphyromonas\",\"Bacteria\",\"Bacteroidetes\",\"OTHERS\"],[121,\"Porphyromonas\",\"Bacteria\",\"Bacteroidetes\",\"OTHERS\"]],\"hovertemplate\":\"<b>%{hovertext}</b><br><br>Species=%{customdata[1]}<br>pm1=%{x}<br>pm2=%{y}<br>Unnamed: 0=%{customdata[0]}<br>Kingdom=%{customdata[2]}<br>Family=%{customdata[3]}<br>Color_eukaryota=%{customdata[4]}<extra></extra>\",\"hovertext\":[\"Porphyromonas\",\"Porphyromonas\"],\"legendgroup\":\"Porphyromonas\",\"marker\":{\"color\":\"#34b8e7\",\"symbol\":\"circle\"},\"mode\":\"markers\",\"name\":\"Porphyromonas\",\"orientation\":\"v\",\"showlegend\":true,\"x\":[0.41359827,0.16267529],\"xaxis\":\"x\",\"y\":[-0.18823919,0.29109663],\"yaxis\":\"y\",\"type\":\"scatter\",\"textposition\":\"top right\"},{\"customdata\":[[124,\"Rhodopirellula\",\"Bacteria\",\"Planctomycetes\",\"OTHERS\"],[125,\"Rhodopirellula\",\"Bacteria\",\"Planctomycetes\",\"OTHERS\"]],\"hovertemplate\":\"<b>%{hovertext}</b><br><br>Species=%{customdata[1]}<br>pm1=%{x}<br>pm2=%{y}<br>Unnamed: 0=%{customdata[0]}<br>Kingdom=%{customdata[2]}<br>Family=%{customdata[3]}<br>Color_eukaryota=%{customdata[4]}<extra></extra>\",\"hovertext\":[\"Rhodopirellula\",\"Rhodopirellula\"],\"legendgroup\":\"Rhodopirellula\",\"marker\":{\"color\":\"#34b8e7\",\"symbol\":\"circle\"},\"mode\":\"markers\",\"name\":\"Rhodopirellula\",\"orientation\":\"v\",\"showlegend\":true,\"x\":[0.25462425,0.39238596],\"xaxis\":\"x\",\"y\":[0.21689159,0.2696938],\"yaxis\":\"y\",\"type\":\"scatter\",\"textposition\":\"top right\"},{\"customdata\":[[126,\"Mycobacterium\",\"Bacteria\",\"Actinobacteria\",\"OTHERS\"],[127,\"Mycobacterium\",\"Bacteria\",\"Actinobacteria\",\"OTHERS\"],[132,\"Mycobacterium\",\"Bacteria\",\"Actinobacteria\",\"OTHERS\"],[136,\"Mycobacterium\",\"Bacteria\",\"Actinobacteria\",\"OTHERS\"]],\"hovertemplate\":\"<b>%{hovertext}</b><br><br>Species=%{customdata[1]}<br>pm1=%{x}<br>pm2=%{y}<br>Unnamed: 0=%{customdata[0]}<br>Kingdom=%{customdata[2]}<br>Family=%{customdata[3]}<br>Color_eukaryota=%{customdata[4]}<extra></extra>\",\"hovertext\":[\"Mycobacterium\",\"Mycobacterium\",\"Mycobacterium\",\"Mycobacterium\"],\"legendgroup\":\"Mycobacterium\",\"marker\":{\"color\":\"#34b8e7\",\"symbol\":\"circle\"},\"mode\":\"markers\",\"name\":\"Mycobacterium\",\"orientation\":\"v\",\"showlegend\":true,\"x\":[0.20937082,0.17825927,0.5082831,0.4763313],\"xaxis\":\"x\",\"y\":[-0.8875581,-0.8909619,0.29434073,0.30756667],\"yaxis\":\"y\",\"type\":\"scatter\",\"textposition\":\"top right\"},{\"customdata\":[[128,\"Corynebacterium\",\"Bacteria\",\"Actinobacteria\",\"OTHERS\"],[134,\"Corynebacterium\",\"Bacteria\",\"Actinobacteria\",\"OTHERS\"]],\"hovertemplate\":\"<b>%{hovertext}</b><br><br>Species=%{customdata[1]}<br>pm1=%{x}<br>pm2=%{y}<br>Unnamed: 0=%{customdata[0]}<br>Kingdom=%{customdata[2]}<br>Family=%{customdata[3]}<br>Color_eukaryota=%{customdata[4]}<extra></extra>\",\"hovertext\":[\"Corynebacterium\",\"Corynebacterium\"],\"legendgroup\":\"Corynebacterium\",\"marker\":{\"color\":\"#34b8e7\",\"symbol\":\"circle\"},\"mode\":\"markers\",\"name\":\"Corynebacterium\",\"orientation\":\"v\",\"showlegend\":true,\"x\":[0.18820812,0.36676648],\"xaxis\":\"x\",\"y\":[-0.8699052,0.02289036],\"yaxis\":\"y\",\"type\":\"scatter\",\"textposition\":\"top right\"},{\"customdata\":[[129,\"Thermobifida\",\"Bacteria\",\"Actinobacteria\",\"OTHERS\"],[131,\"Thermobifida\",\"Bacteria\",\"Actinobacteria\",\"OTHERS\"],[137,\"Thermobifida\",\"Bacteria\",\"Actinobacteria\",\"OTHERS\"]],\"hovertemplate\":\"<b>%{hovertext}</b><br><br>Species=%{customdata[1]}<br>pm1=%{x}<br>pm2=%{y}<br>Unnamed: 0=%{customdata[0]}<br>Kingdom=%{customdata[2]}<br>Family=%{customdata[3]}<br>Color_eukaryota=%{customdata[4]}<extra></extra>\",\"hovertext\":[\"Thermobifida\",\"Thermobifida\",\"Thermobifida\"],\"legendgroup\":\"Thermobifida\",\"marker\":{\"color\":\"#34b8e7\",\"symbol\":\"circle\"},\"mode\":\"markers\",\"name\":\"Thermobifida\",\"orientation\":\"v\",\"showlegend\":true,\"x\":[0.18943547,0.22331685,0.43697983],\"xaxis\":\"x\",\"y\":[-0.8181566,-0.84322137,0.3889018],\"yaxis\":\"y\",\"type\":\"scatter\",\"textposition\":\"top right\"},{\"customdata\":[[130,\"Streptomyces\",\"Bacteria\",\"Actinobacteria\",\"OTHERS\"],[133,\"Streptomyces\",\"Bacteria\",\"Actinobacteria\",\"OTHERS\"],[135,\"Streptomyces\",\"Bacteria\",\"Actinobacteria\",\"OTHERS\"],[138,\"Streptomyces\",\"Bacteria\",\"Actinobacteria\",\"OTHERS\"]],\"hovertemplate\":\"<b>%{hovertext}</b><br><br>Species=%{customdata[1]}<br>pm1=%{x}<br>pm2=%{y}<br>Unnamed: 0=%{customdata[0]}<br>Kingdom=%{customdata[2]}<br>Family=%{customdata[3]}<br>Color_eukaryota=%{customdata[4]}<extra></extra>\",\"hovertext\":[\"Streptomyces\",\"Streptomyces\",\"Streptomyces\",\"Streptomyces\"],\"legendgroup\":\"Streptomyces\",\"marker\":{\"color\":\"#34b8e7\",\"symbol\":\"circle\"},\"mode\":\"markers\",\"name\":\"Streptomyces\",\"orientation\":\"v\",\"showlegend\":true,\"x\":[0.19311011,0.5062294,0.5304242,0.43220982],\"xaxis\":\"x\",\"y\":[-0.84682655,0.3051776,0.39288884,0.41202927],\"yaxis\":\"y\",\"type\":\"scatter\",\"textposition\":\"top right\"},{\"customdata\":[[139,\"Synechocystis\",\"Bacteria\",\"Cyanobacteria\",\"OTHERS\"],[142,\"Synechocystis\",\"Bacteria\",\"Cyanobacteria\",\"OTHERS\"],[145,\"Synechocystis\",\"Bacteria\",\"Cyanobacteria\",\"OTHERS\"],[152,\"Synechocystis\",\"Bacteria\",\"Cyanobacteria\",\"OTHERS\"]],\"hovertemplate\":\"<b>%{hovertext}</b><br><br>Species=%{customdata[1]}<br>pm1=%{x}<br>pm2=%{y}<br>Unnamed: 0=%{customdata[0]}<br>Kingdom=%{customdata[2]}<br>Family=%{customdata[3]}<br>Color_eukaryota=%{customdata[4]}<extra></extra>\",\"hovertext\":[\"Synechocystis\",\"Synechocystis\",\"Synechocystis\",\"Synechocystis\"],\"legendgroup\":\"Synechocystis\",\"marker\":{\"color\":\"#34b8e7\",\"symbol\":\"circle\"},\"mode\":\"markers\",\"name\":\"Synechocystis\",\"orientation\":\"v\",\"showlegend\":true,\"x\":[0.33621347,0.4924073,0.2507609,0.58291686],\"xaxis\":\"x\",\"y\":[0.42588177,0.21126285,0.3959612,0.18630831],\"yaxis\":\"y\",\"type\":\"scatter\",\"textposition\":\"top right\"},{\"customdata\":[[140,\"Nostoc\",\"Bacteria\",\"Cyanobacteria\",\"OTHERS\"],[141,\"Nostoc\",\"Bacteria\",\"Cyanobacteria\",\"OTHERS\"],[147,\"Nostoc\",\"Bacteria\",\"Cyanobacteria\",\"OTHERS\"],[148,\"Nostoc\",\"Bacteria\",\"Cyanobacteria\",\"OTHERS\"],[150,\"Nostoc\",\"Bacteria\",\"Cyanobacteria\",\"OTHERS\"]],\"hovertemplate\":\"<b>%{hovertext}</b><br><br>Species=%{customdata[1]}<br>pm1=%{x}<br>pm2=%{y}<br>Unnamed: 0=%{customdata[0]}<br>Kingdom=%{customdata[2]}<br>Family=%{customdata[3]}<br>Color_eukaryota=%{customdata[4]}<extra></extra>\",\"hovertext\":[\"Nostoc\",\"Nostoc\",\"Nostoc\",\"Nostoc\",\"Nostoc\"],\"legendgroup\":\"Nostoc\",\"marker\":{\"color\":\"#34b8e7\",\"symbol\":\"circle\"},\"mode\":\"markers\",\"name\":\"Nostoc\",\"orientation\":\"v\",\"showlegend\":true,\"x\":[0.34850705,0.4944681,0.37394655,0.35461435,0.62031305],\"xaxis\":\"x\",\"y\":[0.4718529,0.16870992,0.31219527,0.15791759,0.12296761],\"yaxis\":\"y\",\"type\":\"scatter\",\"textposition\":\"top right\"},{\"customdata\":[[143,\"Thermosynechococcus\",\"Bacteria\",\"Cyanobacteria\",\"OTHERS\"],[144,\"Thermosynechococcus\",\"Bacteria\",\"Cyanobacteria\",\"OTHERS\"],[146,\"Thermosynechococcus\",\"Bacteria\",\"Cyanobacteria\",\"OTHERS\"],[149,\"Thermosynechococcus\",\"Bacteria\",\"Cyanobacteria\",\"OTHERS\"]],\"hovertemplate\":\"<b>%{hovertext}</b><br><br>Species=%{customdata[1]}<br>pm1=%{x}<br>pm2=%{y}<br>Unnamed: 0=%{customdata[0]}<br>Kingdom=%{customdata[2]}<br>Family=%{customdata[3]}<br>Color_eukaryota=%{customdata[4]}<extra></extra>\",\"hovertext\":[\"Thermosynechococcus\",\"Thermosynechococcus\",\"Thermosynechococcus\",\"Thermosynechococcus\"],\"legendgroup\":\"Thermosynechococcus\",\"marker\":{\"color\":\"#34b8e7\",\"symbol\":\"circle\"},\"mode\":\"markers\",\"name\":\"Thermosynechococcus\",\"orientation\":\"v\",\"showlegend\":true,\"x\":[0.48007292,0.35752845,0.24830408,0.5294296],\"xaxis\":\"x\",\"y\":[0.15935723,-0.09040809,0.48897213,0.07986674],\"yaxis\":\"y\",\"type\":\"scatter\",\"textposition\":\"top right\"},{\"customdata\":[[151,\"Prochlorococcus\",\"Bacteria\",\"Cyanobacteria\",\"OTHERS\"]],\"hovertemplate\":\"<b>%{hovertext}</b><br><br>Species=%{customdata[1]}<br>pm1=%{x}<br>pm2=%{y}<br>Unnamed: 0=%{customdata[0]}<br>Kingdom=%{customdata[2]}<br>Family=%{customdata[3]}<br>Color_eukaryota=%{customdata[4]}<extra></extra>\",\"hovertext\":[\"Prochlorococcus\"],\"legendgroup\":\"Prochlorococcus\",\"marker\":{\"color\":\"#34b8e7\",\"symbol\":\"circle\"},\"mode\":\"markers\",\"name\":\"Prochlorococcus\",\"orientation\":\"v\",\"showlegend\":true,\"x\":[0.6853675],\"xaxis\":\"x\",\"y\":[0.17355375],\"yaxis\":\"y\",\"type\":\"scatter\",\"textposition\":\"top right\"},{\"customdata\":[[153,\"Nostoc1\",\"Bacteria\",\"Cyanobacteria\",\"OTHERS\"]],\"hovertemplate\":\"<b>%{hovertext}</b><br><br>Species=%{customdata[1]}<br>pm1=%{x}<br>pm2=%{y}<br>Unnamed: 0=%{customdata[0]}<br>Kingdom=%{customdata[2]}<br>Family=%{customdata[3]}<br>Color_eukaryota=%{customdata[4]}<extra></extra>\",\"hovertext\":[\"Nostoc1\"],\"legendgroup\":\"Nostoc1\",\"marker\":{\"color\":\"#34b8e7\",\"symbol\":\"circle\"},\"mode\":\"markers\",\"name\":\"Nostoc1\",\"orientation\":\"v\",\"showlegend\":true,\"x\":[0.5432263],\"xaxis\":\"x\",\"y\":[0.062537745],\"yaxis\":\"y\",\"type\":\"scatter\",\"textposition\":\"top right\"},{\"customdata\":[[154,\"Pea Chloroplast\",\"Eukaryota\",\"Viridiplantae\",\"CHLOROPLAST\"]],\"hovertemplate\":\"<b>%{hovertext}</b><br><br>Species=%{customdata[1]}<br>pm1=%{x}<br>pm2=%{y}<br>Unnamed: 0=%{customdata[0]}<br>Kingdom=%{customdata[2]}<br>Family=%{customdata[3]}<br>Color_eukaryota=%{customdata[4]}<extra></extra>\",\"hovertext\":[\"Pea Chloroplast\"],\"legendgroup\":\"Pea Chloroplast\",\"marker\":{\"color\":\"#06f9d4\",\"symbol\":\"circle\"},\"mode\":\"markers\",\"name\":\"Pea Chloroplast\",\"orientation\":\"v\",\"showlegend\":true,\"x\":[0.8524639],\"xaxis\":\"x\",\"y\":[0.27847457],\"yaxis\":\"y\",\"type\":\"scatter\",\"textposition\":\"top right\"},{\"customdata\":[[155,\"Spiol Chloroplast\",\"Eukaryota\",\"Viridiplantae\",\"CHLOROPLAST\"]],\"hovertemplate\":\"<b>%{hovertext}</b><br><br>Species=%{customdata[1]}<br>pm1=%{x}<br>pm2=%{y}<br>Unnamed: 0=%{customdata[0]}<br>Kingdom=%{customdata[2]}<br>Family=%{customdata[3]}<br>Color_eukaryota=%{customdata[4]}<extra></extra>\",\"hovertext\":[\"Spiol Chloroplast\"],\"legendgroup\":\"Spiol Chloroplast\",\"marker\":{\"color\":\"#06f9d4\",\"symbol\":\"circle\"},\"mode\":\"markers\",\"name\":\"Spiol Chloroplast\",\"orientation\":\"v\",\"showlegend\":true,\"x\":[0.88229173],\"xaxis\":\"x\",\"y\":[0.250263],\"yaxis\":\"y\",\"type\":\"scatter\",\"textposition\":\"top right\"},{\"customdata\":[[156,\"Wheat Chloroplast\",\"Eukaryota\",\"Viridiplantae\",\"CHLOROPLAST\"]],\"hovertemplate\":\"<b>%{hovertext}</b><br><br>Species=%{customdata[1]}<br>pm1=%{x}<br>pm2=%{y}<br>Unnamed: 0=%{customdata[0]}<br>Kingdom=%{customdata[2]}<br>Family=%{customdata[3]}<br>Color_eukaryota=%{customdata[4]}<extra></extra>\",\"hovertext\":[\"Wheat Chloroplast\"],\"legendgroup\":\"Wheat Chloroplast\",\"marker\":{\"color\":\"#06f9d4\",\"symbol\":\"circle\"},\"mode\":\"markers\",\"name\":\"Wheat Chloroplast\",\"orientation\":\"v\",\"showlegend\":true,\"x\":[0.87905174],\"xaxis\":\"x\",\"y\":[0.2813189],\"yaxis\":\"y\",\"type\":\"scatter\",\"textposition\":\"top right\"},{\"customdata\":[[157,\"Pisum Chloroplast\",\"Eukaryota\",\"Viridiplantae\",\"CHLOROPLAST\"]],\"hovertemplate\":\"<b>%{hovertext}</b><br><br>Species=%{customdata[1]}<br>pm1=%{x}<br>pm2=%{y}<br>Unnamed: 0=%{customdata[0]}<br>Kingdom=%{customdata[2]}<br>Family=%{customdata[3]}<br>Color_eukaryota=%{customdata[4]}<extra></extra>\",\"hovertext\":[\"Pisum Chloroplast\"],\"legendgroup\":\"Pisum Chloroplast\",\"marker\":{\"color\":\"#06f9d4\",\"symbol\":\"circle\"},\"mode\":\"markers\",\"name\":\"Pisum Chloroplast\",\"orientation\":\"v\",\"showlegend\":true,\"x\":[0.86051095],\"xaxis\":\"x\",\"y\":[0.25488907],\"yaxis\":\"y\",\"type\":\"scatter\",\"textposition\":\"top right\"},{\"customdata\":[[158,\"Brana Chloroplast\",\"Eukaryota\",\"Viridiplantae\",\"CHLOROPLAST\"]],\"hovertemplate\":\"<b>%{hovertext}</b><br><br>Species=%{customdata[1]}<br>pm1=%{x}<br>pm2=%{y}<br>Unnamed: 0=%{customdata[0]}<br>Kingdom=%{customdata[2]}<br>Family=%{customdata[3]}<br>Color_eukaryota=%{customdata[4]}<extra></extra>\",\"hovertext\":[\"Brana Chloroplast\"],\"legendgroup\":\"Brana Chloroplast\",\"marker\":{\"color\":\"#06f9d4\",\"symbol\":\"circle\"},\"mode\":\"markers\",\"name\":\"Brana Chloroplast\",\"orientation\":\"v\",\"showlegend\":true,\"x\":[0.87869513],\"xaxis\":\"x\",\"y\":[0.22154756],\"yaxis\":\"y\",\"type\":\"scatter\",\"textposition\":\"top right\"},{\"customdata\":[[159,\"Thermus\",\"Bacteria\",\"Deinococcus-Thermus\",\"OTHERS\"],[161,\"Thermus\",\"Bacteria\",\"Deinococcus-Thermus\",\"OTHERS\"]],\"hovertemplate\":\"<b>%{hovertext}</b><br><br>Species=%{customdata[1]}<br>pm1=%{x}<br>pm2=%{y}<br>Unnamed: 0=%{customdata[0]}<br>Kingdom=%{customdata[2]}<br>Family=%{customdata[3]}<br>Color_eukaryota=%{customdata[4]}<extra></extra>\",\"hovertext\":[\"Thermus\",\"Thermus\"],\"legendgroup\":\"Thermus\",\"marker\":{\"color\":\"#34b8e7\",\"symbol\":\"circle\"},\"mode\":\"markers\",\"name\":\"Thermus\",\"orientation\":\"v\",\"showlegend\":true,\"x\":[0.6530208,0.3049297],\"xaxis\":\"x\",\"y\":[-0.118381925,0.26484963],\"yaxis\":\"y\",\"type\":\"scatter\",\"textposition\":\"top right\"},{\"customdata\":[[160,\"Deinococcus\",\"Bacteria\",\"Deinococcus-Thermus\",\"OTHERS\"],[162,\"Deinococcus\",\"Bacteria\",\"Deinococcus-Thermus\",\"OTHERS\"]],\"hovertemplate\":\"<b>%{hovertext}</b><br><br>Species=%{customdata[1]}<br>pm1=%{x}<br>pm2=%{y}<br>Unnamed: 0=%{customdata[0]}<br>Kingdom=%{customdata[2]}<br>Family=%{customdata[3]}<br>Color_eukaryota=%{customdata[4]}<extra></extra>\",\"hovertext\":[\"Deinococcus\",\"Deinococcus\"],\"legendgroup\":\"Deinococcus\",\"marker\":{\"color\":\"#34b8e7\",\"symbol\":\"circle\"},\"mode\":\"markers\",\"name\":\"Deinococcus\",\"orientation\":\"v\",\"showlegend\":true,\"x\":[0.62219614,0.23201871],\"xaxis\":\"x\",\"y\":[-0.055205166,0.13545136],\"yaxis\":\"y\",\"type\":\"scatter\",\"textposition\":\"top right\"},{\"customdata\":[[163,\"Dehalococcoides\",\"Bacteria\",\"Chloroflexi\",\"OTHERS\"]],\"hovertemplate\":\"<b>%{hovertext}</b><br><br>Species=%{customdata[1]}<br>pm1=%{x}<br>pm2=%{y}<br>Unnamed: 0=%{customdata[0]}<br>Kingdom=%{customdata[2]}<br>Family=%{customdata[3]}<br>Color_eukaryota=%{customdata[4]}<extra></extra>\",\"hovertext\":[\"Dehalococcoides\"],\"legendgroup\":\"Dehalococcoides\",\"marker\":{\"color\":\"#34b8e7\",\"symbol\":\"circle\"},\"mode\":\"markers\",\"name\":\"Dehalococcoides\",\"orientation\":\"v\",\"showlegend\":true,\"x\":[0.3036325],\"xaxis\":\"x\",\"y\":[-0.019556904],\"yaxis\":\"y\",\"type\":\"scatter\",\"textposition\":\"top right\"},{\"customdata\":[[164,\"Chloroflexus\",\"Bacteria\",\"Chloroflexi\",\"OTHERS\"],[165,\"Chloroflexus\",\"Bacteria\",\"Chloroflexi\",\"OTHERS\"],[166,\"Chloroflexus\",\"Bacteria\",\"Chloroflexi\",\"OTHERS\"]],\"hovertemplate\":\"<b>%{hovertext}</b><br><br>Species=%{customdata[1]}<br>pm1=%{x}<br>pm2=%{y}<br>Unnamed: 0=%{customdata[0]}<br>Kingdom=%{customdata[2]}<br>Family=%{customdata[3]}<br>Color_eukaryota=%{customdata[4]}<extra></extra>\",\"hovertext\":[\"Chloroflexus\",\"Chloroflexus\",\"Chloroflexus\"],\"legendgroup\":\"Chloroflexus\",\"marker\":{\"color\":\"#34b8e7\",\"symbol\":\"circle\"},\"mode\":\"markers\",\"name\":\"Chloroflexus\",\"orientation\":\"v\",\"showlegend\":true,\"x\":[0.5299213,0.35496226,0.29009506],\"xaxis\":\"x\",\"y\":[-0.08009967,0.28542045,0.36536145],\"yaxis\":\"y\",\"type\":\"scatter\",\"textposition\":\"top right\"},{\"customdata\":[[167,\"Aquifex\",\"Bacteria\",\"Aquificae\",\"OTHERS\"]],\"hovertemplate\":\"<b>%{hovertext}</b><br><br>Species=%{customdata[1]}<br>pm1=%{x}<br>pm2=%{y}<br>Unnamed: 0=%{customdata[0]}<br>Kingdom=%{customdata[2]}<br>Family=%{customdata[3]}<br>Color_eukaryota=%{customdata[4]}<extra></extra>\",\"hovertext\":[\"Aquifex\"],\"legendgroup\":\"Aquifex\",\"marker\":{\"color\":\"#34b8e7\",\"symbol\":\"circle\"},\"mode\":\"markers\",\"name\":\"Aquifex\",\"orientation\":\"v\",\"showlegend\":true,\"x\":[0.2356973],\"xaxis\":\"x\",\"y\":[0.19068073],\"yaxis\":\"y\",\"type\":\"scatter\",\"textposition\":\"top right\"},{\"customdata\":[[168,\"Bdellovibrio\",\"Bacteria\",\"Proteobacteria\",\"OTHERS\"],[170,\"Bdellovibrio\",\"Bacteria\",\"Proteobacteria\",\"OTHERS\"]],\"hovertemplate\":\"<b>%{hovertext}</b><br><br>Species=%{customdata[1]}<br>pm1=%{x}<br>pm2=%{y}<br>Unnamed: 0=%{customdata[0]}<br>Kingdom=%{customdata[2]}<br>Family=%{customdata[3]}<br>Color_eukaryota=%{customdata[4]}<extra></extra>\",\"hovertext\":[\"Bdellovibrio\",\"Bdellovibrio\"],\"legendgroup\":\"Bdellovibrio\",\"marker\":{\"color\":\"#34b8e7\",\"symbol\":\"circle\"},\"mode\":\"markers\",\"name\":\"Bdellovibrio\",\"orientation\":\"v\",\"showlegend\":true,\"x\":[0.1661885,0.50053394],\"xaxis\":\"x\",\"y\":[-0.83963746,0.4259467],\"yaxis\":\"y\",\"type\":\"scatter\",\"textposition\":\"top right\"},{\"customdata\":[[169,\"Geobacter\",\"Bacteria\",\"Proteobacteria\",\"OTHERS\"],[172,\"Geobacter\",\"Bacteria\",\"Proteobacteria\",\"OTHERS\"]],\"hovertemplate\":\"<b>%{hovertext}</b><br><br>Species=%{customdata[1]}<br>pm1=%{x}<br>pm2=%{y}<br>Unnamed: 0=%{customdata[0]}<br>Kingdom=%{customdata[2]}<br>Family=%{customdata[3]}<br>Color_eukaryota=%{customdata[4]}<extra></extra>\",\"hovertext\":[\"Geobacter\",\"Geobacter\"],\"legendgroup\":\"Geobacter\",\"marker\":{\"color\":\"#34b8e7\",\"symbol\":\"circle\"},\"mode\":\"markers\",\"name\":\"Geobacter\",\"orientation\":\"v\",\"showlegend\":true,\"x\":[0.7611729,0.23331903],\"xaxis\":\"x\",\"y\":[-0.13494243,0.242193],\"yaxis\":\"y\",\"type\":\"scatter\",\"textposition\":\"top right\"},{\"customdata\":[[171,\"Desulfovibrio\",\"Bacteria\",\"Proteobacteria\",\"OTHERS\"]],\"hovertemplate\":\"<b>%{hovertext}</b><br><br>Species=%{customdata[1]}<br>pm1=%{x}<br>pm2=%{y}<br>Unnamed: 0=%{customdata[0]}<br>Kingdom=%{customdata[2]}<br>Family=%{customdata[3]}<br>Color_eukaryota=%{customdata[4]}<extra></extra>\",\"hovertext\":[\"Desulfovibrio\"],\"legendgroup\":\"Desulfovibrio\",\"marker\":{\"color\":\"#34b8e7\",\"symbol\":\"circle\"},\"mode\":\"markers\",\"name\":\"Desulfovibrio\",\"orientation\":\"v\",\"showlegend\":true,\"x\":[0.4309682],\"xaxis\":\"x\",\"y\":[0.12233977],\"yaxis\":\"y\",\"type\":\"scatter\",\"textposition\":\"top right\"},{\"customdata\":[[173,\"Solibacter\",\"Bacteria\",\"Acidobacteria\",\"OTHERS\"],[174,\"Solibacter\",\"Bacteria\",\"Acidobacteria\",\"OTHERS\"]],\"hovertemplate\":\"<b>%{hovertext}</b><br><br>Species=%{customdata[1]}<br>pm1=%{x}<br>pm2=%{y}<br>Unnamed: 0=%{customdata[0]}<br>Kingdom=%{customdata[2]}<br>Family=%{customdata[3]}<br>Color_eukaryota=%{customdata[4]}<extra></extra>\",\"hovertext\":[\"Solibacter\",\"Solibacter\"],\"legendgroup\":\"Solibacter\",\"marker\":{\"color\":\"#34b8e7\",\"symbol\":\"circle\"},\"mode\":\"markers\",\"name\":\"Solibacter\",\"orientation\":\"v\",\"showlegend\":true,\"x\":[0.6898903,0.23371972],\"xaxis\":\"x\",\"y\":[-0.09248562,0.26179278],\"yaxis\":\"y\",\"type\":\"scatter\",\"textposition\":\"top right\"},{\"customdata\":[[175,\"Acidobacteria\",\"Bacteria\",\"Acidobacteria\",\"OTHERS\"]],\"hovertemplate\":\"<b>%{hovertext}</b><br><br>Species=%{customdata[1]}<br>pm1=%{x}<br>pm2=%{y}<br>Unnamed: 0=%{customdata[0]}<br>Kingdom=%{customdata[2]}<br>Family=%{customdata[3]}<br>Color_eukaryota=%{customdata[4]}<extra></extra>\",\"hovertext\":[\"Acidobacteria\"],\"legendgroup\":\"Acidobacteria\",\"marker\":{\"color\":\"#34b8e7\",\"symbol\":\"circle\"},\"mode\":\"markers\",\"name\":\"Acidobacteria\",\"orientation\":\"v\",\"showlegend\":true,\"x\":[0.22608489],\"xaxis\":\"x\",\"y\":[0.25558406],\"yaxis\":\"y\",\"type\":\"scatter\",\"textposition\":\"top right\"},{\"customdata\":[[176,\"Wolinella\",\"Bacteria\",\"Proteobacteria\",\"OTHERS\"],[180,\"Wolinella\",\"Bacteria\",\"Proteobacteria\",\"OTHERS\"],[181,\"Wolinella\",\"Bacteria\",\"Proteobacteria\",\"OTHERS\"]],\"hovertemplate\":\"<b>%{hovertext}</b><br><br>Species=%{customdata[1]}<br>pm1=%{x}<br>pm2=%{y}<br>Unnamed: 0=%{customdata[0]}<br>Kingdom=%{customdata[2]}<br>Family=%{customdata[3]}<br>Color_eukaryota=%{customdata[4]}<extra></extra>\",\"hovertext\":[\"Wolinella\",\"Wolinella\",\"Wolinella\"],\"legendgroup\":\"Wolinella\",\"marker\":{\"color\":\"#34b8e7\",\"symbol\":\"circle\"},\"mode\":\"markers\",\"name\":\"Wolinella\",\"orientation\":\"v\",\"showlegend\":true,\"x\":[-0.04324382,0.2033479,0.20609],\"xaxis\":\"x\",\"y\":[-0.043105245,0.06992514,0.06081779],\"yaxis\":\"y\",\"type\":\"scatter\",\"textposition\":\"top right\"},{\"customdata\":[[177,\"Helicobacter\",\"Bacteria\",\"Proteobacteria\",\"OTHERS\"],[179,\"Helicobacter\",\"Bacteria\",\"Proteobacteria\",\"OTHERS\"]],\"hovertemplate\":\"<b>%{hovertext}</b><br><br>Species=%{customdata[1]}<br>pm1=%{x}<br>pm2=%{y}<br>Unnamed: 0=%{customdata[0]}<br>Kingdom=%{customdata[2]}<br>Family=%{customdata[3]}<br>Color_eukaryota=%{customdata[4]}<extra></extra>\",\"hovertext\":[\"Helicobacter\",\"Helicobacter\"],\"legendgroup\":\"Helicobacter\",\"marker\":{\"color\":\"#34b8e7\",\"symbol\":\"circle\"},\"mode\":\"markers\",\"name\":\"Helicobacter\",\"orientation\":\"v\",\"showlegend\":true,\"x\":[-0.03523984,-0.13345234],\"xaxis\":\"x\",\"y\":[0.0026768777,-0.029684927],\"yaxis\":\"y\",\"type\":\"scatter\",\"textposition\":\"top right\"},{\"customdata\":[[178,\"Campylobacter\",\"Bacteria\",\"Proteobacteria\",\"OTHERS\"]],\"hovertemplate\":\"<b>%{hovertext}</b><br><br>Species=%{customdata[1]}<br>pm1=%{x}<br>pm2=%{y}<br>Unnamed: 0=%{customdata[0]}<br>Kingdom=%{customdata[2]}<br>Family=%{customdata[3]}<br>Color_eukaryota=%{customdata[4]}<extra></extra>\",\"hovertext\":[\"Campylobacter\"],\"legendgroup\":\"Campylobacter\",\"marker\":{\"color\":\"#34b8e7\",\"symbol\":\"circle\"},\"mode\":\"markers\",\"name\":\"Campylobacter\",\"orientation\":\"v\",\"showlegend\":true,\"x\":[-0.10813586],\"xaxis\":\"x\",\"y\":[-0.013940074],\"yaxis\":\"y\",\"type\":\"scatter\",\"textposition\":\"top right\"},{\"customdata\":[[182,\"Agrobacterium\",\"Bacteria\",\"Proteobacteria\",\"OTHERS\"]],\"hovertemplate\":\"<b>%{hovertext}</b><br><br>Species=%{customdata[1]}<br>pm1=%{x}<br>pm2=%{y}<br>Unnamed: 0=%{customdata[0]}<br>Kingdom=%{customdata[2]}<br>Family=%{customdata[3]}<br>Color_eukaryota=%{customdata[4]}<extra></extra>\",\"hovertext\":[\"Agrobacterium\"],\"legendgroup\":\"Agrobacterium\",\"marker\":{\"color\":\"#34b8e7\",\"symbol\":\"circle\"},\"mode\":\"markers\",\"name\":\"Agrobacterium\",\"orientation\":\"v\",\"showlegend\":true,\"x\":[0.39940578],\"xaxis\":\"x\",\"y\":[0.28572446],\"yaxis\":\"y\",\"type\":\"scatter\",\"textposition\":\"top right\"},{\"customdata\":[[183,\"Sinorhizobium\",\"Bacteria\",\"Proteobacteria\",\"OTHERS\"]],\"hovertemplate\":\"<b>%{hovertext}</b><br><br>Species=%{customdata[1]}<br>pm1=%{x}<br>pm2=%{y}<br>Unnamed: 0=%{customdata[0]}<br>Kingdom=%{customdata[2]}<br>Family=%{customdata[3]}<br>Color_eukaryota=%{customdata[4]}<extra></extra>\",\"hovertext\":[\"Sinorhizobium\"],\"legendgroup\":\"Sinorhizobium\",\"marker\":{\"color\":\"#34b8e7\",\"symbol\":\"circle\"},\"mode\":\"markers\",\"name\":\"Sinorhizobium\",\"orientation\":\"v\",\"showlegend\":true,\"x\":[0.4023528],\"xaxis\":\"x\",\"y\":[0.27166802],\"yaxis\":\"y\",\"type\":\"scatter\",\"textposition\":\"top right\"},{\"customdata\":[[184,\"Brucella\",\"Bacteria\",\"Proteobacteria\",\"OTHERS\"]],\"hovertemplate\":\"<b>%{hovertext}</b><br><br>Species=%{customdata[1]}<br>pm1=%{x}<br>pm2=%{y}<br>Unnamed: 0=%{customdata[0]}<br>Kingdom=%{customdata[2]}<br>Family=%{customdata[3]}<br>Color_eukaryota=%{customdata[4]}<extra></extra>\",\"hovertext\":[\"Brucella\"],\"legendgroup\":\"Brucella\",\"marker\":{\"color\":\"#34b8e7\",\"symbol\":\"circle\"},\"mode\":\"markers\",\"name\":\"Brucella\",\"orientation\":\"v\",\"showlegend\":true,\"x\":[0.389027],\"xaxis\":\"x\",\"y\":[0.2871054],\"yaxis\":\"y\",\"type\":\"scatter\",\"textposition\":\"top right\"},{\"customdata\":[[185,\"Rickettsia\",\"Bacteria\",\"Proteobacteria\",\"OTHERS\"]],\"hovertemplate\":\"<b>%{hovertext}</b><br><br>Species=%{customdata[1]}<br>pm1=%{x}<br>pm2=%{y}<br>Unnamed: 0=%{customdata[0]}<br>Kingdom=%{customdata[2]}<br>Family=%{customdata[3]}<br>Color_eukaryota=%{customdata[4]}<extra></extra>\",\"hovertext\":[\"Rickettsia\"],\"legendgroup\":\"Rickettsia\",\"marker\":{\"color\":\"#34b8e7\",\"symbol\":\"circle\"},\"mode\":\"markers\",\"name\":\"Rickettsia\",\"orientation\":\"v\",\"showlegend\":true,\"x\":[0.60773945],\"xaxis\":\"x\",\"y\":[0.2866308],\"yaxis\":\"y\",\"type\":\"scatter\",\"textposition\":\"top right\"},{\"customdata\":[[186,\"Bovin Mitochondrio\",\"Eukaryota\",\"Metazoa\",\"MITOCHONDRION\"]],\"hovertemplate\":\"<b>%{hovertext}</b><br><br>Species=%{customdata[1]}<br>pm1=%{x}<br>pm2=%{y}<br>Unnamed: 0=%{customdata[0]}<br>Kingdom=%{customdata[2]}<br>Family=%{customdata[3]}<br>Color_eukaryota=%{customdata[4]}<extra></extra>\",\"hovertext\":[\"Bovin Mitochondrio\"],\"legendgroup\":\"Bovin Mitochondrio\",\"marker\":{\"color\":\"#61ff06\",\"symbol\":\"circle\"},\"mode\":\"markers\",\"name\":\"Bovin Mitochondrio\",\"orientation\":\"v\",\"showlegend\":true,\"x\":[0.7762942],\"xaxis\":\"x\",\"y\":[-0.50750846],\"yaxis\":\"y\",\"type\":\"scatter\",\"textposition\":\"top right\"},{\"customdata\":[[188,\"Homo Mitochondrion\",\"Eukaryota\",\"Metazoa\",\"MITOCHONDRION\"]],\"hovertemplate\":\"<b>%{hovertext}</b><br><br>Species=%{customdata[1]}<br>pm1=%{x}<br>pm2=%{y}<br>Unnamed: 0=%{customdata[0]}<br>Kingdom=%{customdata[2]}<br>Family=%{customdata[3]}<br>Color_eukaryota=%{customdata[4]}<extra></extra>\",\"hovertext\":[\"Homo Mitochondrion\"],\"legendgroup\":\"Homo Mitochondrion\",\"marker\":{\"color\":\"#61ff06\",\"symbol\":\"circle\"},\"mode\":\"markers\",\"name\":\"Homo Mitochondrion\",\"orientation\":\"v\",\"showlegend\":true,\"x\":[0.7598772],\"xaxis\":\"x\",\"y\":[-0.50699115],\"yaxis\":\"y\",\"type\":\"scatter\",\"textposition\":\"top right\"},{\"customdata\":[[189,\"Rattus Mitochondrio\",\"Eukaryota\",\"Metazoa\",\"MITOCHONDRION\"]],\"hovertemplate\":\"<b>%{hovertext}</b><br><br>Species=%{customdata[1]}<br>pm1=%{x}<br>pm2=%{y}<br>Unnamed: 0=%{customdata[0]}<br>Kingdom=%{customdata[2]}<br>Family=%{customdata[3]}<br>Color_eukaryota=%{customdata[4]}<extra></extra>\",\"hovertext\":[\"Rattus Mitochondrio\"],\"legendgroup\":\"Rattus Mitochondrio\",\"marker\":{\"color\":\"#61ff06\",\"symbol\":\"circle\"},\"mode\":\"markers\",\"name\":\"Rattus Mitochondrio\",\"orientation\":\"v\",\"showlegend\":true,\"x\":[0.76795524],\"xaxis\":\"x\",\"y\":[-0.5201371],\"yaxis\":\"y\",\"type\":\"scatter\",\"textposition\":\"top right\"},{\"customdata\":[[190,\"Mus Mitochondrion\",\"Eukaryota\",\"Metazoa\",\"MITOCHONDRION\"]],\"hovertemplate\":\"<b>%{hovertext}</b><br><br>Species=%{customdata[1]}<br>pm1=%{x}<br>pm2=%{y}<br>Unnamed: 0=%{customdata[0]}<br>Kingdom=%{customdata[2]}<br>Family=%{customdata[3]}<br>Color_eukaryota=%{customdata[4]}<extra></extra>\",\"hovertext\":[\"Mus Mitochondrion\"],\"legendgroup\":\"Mus Mitochondrion\",\"marker\":{\"color\":\"#61ff06\",\"symbol\":\"circle\"},\"mode\":\"markers\",\"name\":\"Mus Mitochondrion\",\"orientation\":\"v\",\"showlegend\":true,\"x\":[0.7531102],\"xaxis\":\"x\",\"y\":[-0.5204549],\"yaxis\":\"y\",\"type\":\"scatter\",\"textposition\":\"top right\"},{\"customdata\":[[191,\"Thiobacillus\",\"Bacteria\",\"Proteobacteria\",\"OTHERS\"],[193,\"Thiobacillus\",\"Bacteria\",\"Proteobacteria\",\"OTHERS\"],[196,\"Thiobacillus\",\"Bacteria\",\"Proteobacteria\",\"OTHERS\"],[197,\"Thiobacillus\",\"Bacteria\",\"Proteobacteria\",\"OTHERS\"]],\"hovertemplate\":\"<b>%{hovertext}</b><br><br>Species=%{customdata[1]}<br>pm1=%{x}<br>pm2=%{y}<br>Unnamed: 0=%{customdata[0]}<br>Kingdom=%{customdata[2]}<br>Family=%{customdata[3]}<br>Color_eukaryota=%{customdata[4]}<extra></extra>\",\"hovertext\":[\"Thiobacillus\",\"Thiobacillus\",\"Thiobacillus\",\"Thiobacillus\"],\"legendgroup\":\"Thiobacillus\",\"marker\":{\"color\":\"#34b8e7\",\"symbol\":\"circle\"},\"mode\":\"markers\",\"name\":\"Thiobacillus\",\"orientation\":\"v\",\"showlegend\":true,\"x\":[0.41142613,0.34323567,0.82621276,0.2033448],\"xaxis\":\"x\",\"y\":[0.52622736,0.602579,-0.16090378,-0.8611851],\"yaxis\":\"y\",\"type\":\"scatter\",\"textposition\":\"top right\"},{\"customdata\":[[192,\"Neisseria\",\"Bacteria\",\"Proteobacteria\",\"OTHERS\"]],\"hovertemplate\":\"<b>%{hovertext}</b><br><br>Species=%{customdata[1]}<br>pm1=%{x}<br>pm2=%{y}<br>Unnamed: 0=%{customdata[0]}<br>Kingdom=%{customdata[2]}<br>Family=%{customdata[3]}<br>Color_eukaryota=%{customdata[4]}<extra></extra>\",\"hovertext\":[\"Neisseria\"],\"legendgroup\":\"Neisseria\",\"marker\":{\"color\":\"#34b8e7\",\"symbol\":\"circle\"},\"mode\":\"markers\",\"name\":\"Neisseria\",\"orientation\":\"v\",\"showlegend\":true,\"x\":[0.28230938],\"xaxis\":\"x\",\"y\":[0.5801796],\"yaxis\":\"y\",\"type\":\"scatter\",\"textposition\":\"top right\"},{\"customdata\":[[194,\"Burkholderia\",\"Bacteria\",\"Proteobacteria\",\"OTHERS\"]],\"hovertemplate\":\"<b>%{hovertext}</b><br><br>Species=%{customdata[1]}<br>pm1=%{x}<br>pm2=%{y}<br>Unnamed: 0=%{customdata[0]}<br>Kingdom=%{customdata[2]}<br>Family=%{customdata[3]}<br>Color_eukaryota=%{customdata[4]}<extra></extra>\",\"hovertext\":[\"Burkholderia\"],\"legendgroup\":\"Burkholderia\",\"marker\":{\"color\":\"#34b8e7\",\"symbol\":\"circle\"},\"mode\":\"markers\",\"name\":\"Burkholderia\",\"orientation\":\"v\",\"showlegend\":true,\"x\":[0.325576],\"xaxis\":\"x\",\"y\":[0.5873442],\"yaxis\":\"y\",\"type\":\"scatter\",\"textposition\":\"top right\"},{\"customdata\":[[195,\"Bordetella\",\"Bacteria\",\"Proteobacteria\",\"OTHERS\"],[198,\"Bordetella\",\"Bacteria\",\"Proteobacteria\",\"OTHERS\"]],\"hovertemplate\":\"<b>%{hovertext}</b><br><br>Species=%{customdata[1]}<br>pm1=%{x}<br>pm2=%{y}<br>Unnamed: 0=%{customdata[0]}<br>Kingdom=%{customdata[2]}<br>Family=%{customdata[3]}<br>Color_eukaryota=%{customdata[4]}<extra></extra>\",\"hovertext\":[\"Bordetella\",\"Bordetella\"],\"legendgroup\":\"Bordetella\",\"marker\":{\"color\":\"#34b8e7\",\"symbol\":\"circle\"},\"mode\":\"markers\",\"name\":\"Bordetella\",\"orientation\":\"v\",\"showlegend\":true,\"x\":[0.3557916,0.15955792],\"xaxis\":\"x\",\"y\":[0.6089816,-0.8656354],\"yaxis\":\"y\",\"type\":\"scatter\",\"textposition\":\"top right\"},{\"customdata\":[[199,\"Pseudomonas\",\"Bacteria\",\"Proteobacteria\",\"OTHERS\"]],\"hovertemplate\":\"<b>%{hovertext}</b><br><br>Species=%{customdata[1]}<br>pm1=%{x}<br>pm2=%{y}<br>Unnamed: 0=%{customdata[0]}<br>Kingdom=%{customdata[2]}<br>Family=%{customdata[3]}<br>Color_eukaryota=%{customdata[4]}<extra></extra>\",\"hovertext\":[\"Pseudomonas\"],\"legendgroup\":\"Pseudomonas\",\"marker\":{\"color\":\"#34b8e7\",\"symbol\":\"circle\"},\"mode\":\"markers\",\"name\":\"Pseudomonas\",\"orientation\":\"v\",\"showlegend\":true,\"x\":[0.36517972],\"xaxis\":\"x\",\"y\":[0.585695],\"yaxis\":\"y\",\"type\":\"scatter\",\"textposition\":\"top right\"},{\"customdata\":[[200,\"Vibrio\",\"Bacteria\",\"Proteobacteria\",\"OTHERS\"],[209,\"Vibrio\",\"Bacteria\",\"Proteobacteria\",\"OTHERS\"]],\"hovertemplate\":\"<b>%{hovertext}</b><br><br>Species=%{customdata[1]}<br>pm1=%{x}<br>pm2=%{y}<br>Unnamed: 0=%{customdata[0]}<br>Kingdom=%{customdata[2]}<br>Family=%{customdata[3]}<br>Color_eukaryota=%{customdata[4]}<extra></extra>\",\"hovertext\":[\"Vibrio\",\"Vibrio\"],\"legendgroup\":\"Vibrio\",\"marker\":{\"color\":\"#34b8e7\",\"symbol\":\"circle\"},\"mode\":\"markers\",\"name\":\"Vibrio\",\"orientation\":\"v\",\"showlegend\":true,\"x\":[0.3242402,0.85996747],\"xaxis\":\"x\",\"y\":[0.5447334,-0.11685125],\"yaxis\":\"y\",\"type\":\"scatter\",\"textposition\":\"top right\"},{\"customdata\":[[201,\"Yersinia\",\"Bacteria\",\"Proteobacteria\",\"OTHERS\"],[208,\"Yersinia\",\"Bacteria\",\"Proteobacteria\",\"OTHERS\"]],\"hovertemplate\":\"<b>%{hovertext}</b><br><br>Species=%{customdata[1]}<br>pm1=%{x}<br>pm2=%{y}<br>Unnamed: 0=%{customdata[0]}<br>Kingdom=%{customdata[2]}<br>Family=%{customdata[3]}<br>Color_eukaryota=%{customdata[4]}<extra></extra>\",\"hovertext\":[\"Yersinia\",\"Yersinia\"],\"legendgroup\":\"Yersinia\",\"marker\":{\"color\":\"#34b8e7\",\"symbol\":\"circle\"},\"mode\":\"markers\",\"name\":\"Yersinia\",\"orientation\":\"v\",\"showlegend\":true,\"x\":[0.34766698,0.8652963],\"xaxis\":\"x\",\"y\":[0.55161905,-0.16014732],\"yaxis\":\"y\",\"type\":\"scatter\",\"textposition\":\"top right\"},{\"customdata\":[[202,\"Salmonella\",\"Bacteria\",\"Proteobacteria\",\"OTHERS\"],[207,\"Salmonella\",\"Bacteria\",\"Proteobacteria\",\"OTHERS\"]],\"hovertemplate\":\"<b>%{hovertext}</b><br><br>Species=%{customdata[1]}<br>pm1=%{x}<br>pm2=%{y}<br>Unnamed: 0=%{customdata[0]}<br>Kingdom=%{customdata[2]}<br>Family=%{customdata[3]}<br>Color_eukaryota=%{customdata[4]}<extra></extra>\",\"hovertext\":[\"Salmonella\",\"Salmonella\"],\"legendgroup\":\"Salmonella\",\"marker\":{\"color\":\"#34b8e7\",\"symbol\":\"circle\"},\"mode\":\"markers\",\"name\":\"Salmonella\",\"orientation\":\"v\",\"showlegend\":true,\"x\":[0.34160644,0.84762776],\"xaxis\":\"x\",\"y\":[0.52714956,-0.14284891],\"yaxis\":\"y\",\"type\":\"scatter\",\"textposition\":\"top right\"},{\"customdata\":[[203,\"Shigella\",\"Bacteria\",\"Proteobacteria\",\"OTHERS\"],[206,\"Shigella\",\"Bacteria\",\"Proteobacteria\",\"OTHERS\"]],\"hovertemplate\":\"<b>%{hovertext}</b><br><br>Species=%{customdata[1]}<br>pm1=%{x}<br>pm2=%{y}<br>Unnamed: 0=%{customdata[0]}<br>Kingdom=%{customdata[2]}<br>Family=%{customdata[3]}<br>Color_eukaryota=%{customdata[4]}<extra></extra>\",\"hovertext\":[\"Shigella\",\"Shigella\"],\"legendgroup\":\"Shigella\",\"marker\":{\"color\":\"#34b8e7\",\"symbol\":\"circle\"},\"mode\":\"markers\",\"name\":\"Shigella\",\"orientation\":\"v\",\"showlegend\":true,\"x\":[0.3491454,0.8603352],\"xaxis\":\"x\",\"y\":[0.53784776,-0.14833026],\"yaxis\":\"y\",\"type\":\"scatter\",\"textposition\":\"top right\"},{\"customdata\":[[204,\"Escherichia\",\"Bacteria\",\"Proteobacteria\",\"OTHERS\"],[205,\"Escherichia\",\"Bacteria\",\"Proteobacteria\",\"OTHERS\"]],\"hovertemplate\":\"<b>%{hovertext}</b><br><br>Species=%{customdata[1]}<br>pm1=%{x}<br>pm2=%{y}<br>Unnamed: 0=%{customdata[0]}<br>Kingdom=%{customdata[2]}<br>Family=%{customdata[3]}<br>Color_eukaryota=%{customdata[4]}<extra></extra>\",\"hovertext\":[\"Escherichia\",\"Escherichia\"],\"legendgroup\":\"Escherichia\",\"marker\":{\"color\":\"#34b8e7\",\"symbol\":\"circle\"},\"mode\":\"markers\",\"name\":\"Escherichia\",\"orientation\":\"v\",\"showlegend\":true,\"x\":[0.36489522,0.8683527],\"xaxis\":\"x\",\"y\":[0.5230701,-0.14170918],\"yaxis\":\"y\",\"type\":\"scatter\",\"textposition\":\"top right\"}],                        {\"template\":{\"data\":{\"histogram2dcontour\":[{\"type\":\"histogram2dcontour\",\"colorbar\":{\"outlinewidth\":0,\"ticks\":\"\"},\"colorscale\":[[0.0,\"#0d0887\"],[0.1111111111111111,\"#46039f\"],[0.2222222222222222,\"#7201a8\"],[0.3333333333333333,\"#9c179e\"],[0.4444444444444444,\"#bd3786\"],[0.5555555555555556,\"#d8576b\"],[0.6666666666666666,\"#ed7953\"],[0.7777777777777778,\"#fb9f3a\"],[0.8888888888888888,\"#fdca26\"],[1.0,\"#f0f921\"]]}],\"choropleth\":[{\"type\":\"choropleth\",\"colorbar\":{\"outlinewidth\":0,\"ticks\":\"\"}}],\"histogram2d\":[{\"type\":\"histogram2d\",\"colorbar\":{\"outlinewidth\":0,\"ticks\":\"\"},\"colorscale\":[[0.0,\"#0d0887\"],[0.1111111111111111,\"#46039f\"],[0.2222222222222222,\"#7201a8\"],[0.3333333333333333,\"#9c179e\"],[0.4444444444444444,\"#bd3786\"],[0.5555555555555556,\"#d8576b\"],[0.6666666666666666,\"#ed7953\"],[0.7777777777777778,\"#fb9f3a\"],[0.8888888888888888,\"#fdca26\"],[1.0,\"#f0f921\"]]}],\"heatmap\":[{\"type\":\"heatmap\",\"colorbar\":{\"outlinewidth\":0,\"ticks\":\"\"},\"colorscale\":[[0.0,\"#0d0887\"],[0.1111111111111111,\"#46039f\"],[0.2222222222222222,\"#7201a8\"],[0.3333333333333333,\"#9c179e\"],[0.4444444444444444,\"#bd3786\"],[0.5555555555555556,\"#d8576b\"],[0.6666666666666666,\"#ed7953\"],[0.7777777777777778,\"#fb9f3a\"],[0.8888888888888888,\"#fdca26\"],[1.0,\"#f0f921\"]]}],\"heatmapgl\":[{\"type\":\"heatmapgl\",\"colorbar\":{\"outlinewidth\":0,\"ticks\":\"\"},\"colorscale\":[[0.0,\"#0d0887\"],[0.1111111111111111,\"#46039f\"],[0.2222222222222222,\"#7201a8\"],[0.3333333333333333,\"#9c179e\"],[0.4444444444444444,\"#bd3786\"],[0.5555555555555556,\"#d8576b\"],[0.6666666666666666,\"#ed7953\"],[0.7777777777777778,\"#fb9f3a\"],[0.8888888888888888,\"#fdca26\"],[1.0,\"#f0f921\"]]}],\"contourcarpet\":[{\"type\":\"contourcarpet\",\"colorbar\":{\"outlinewidth\":0,\"ticks\":\"\"}}],\"contour\":[{\"type\":\"contour\",\"colorbar\":{\"outlinewidth\":0,\"ticks\":\"\"},\"colorscale\":[[0.0,\"#0d0887\"],[0.1111111111111111,\"#46039f\"],[0.2222222222222222,\"#7201a8\"],[0.3333333333333333,\"#9c179e\"],[0.4444444444444444,\"#bd3786\"],[0.5555555555555556,\"#d8576b\"],[0.6666666666666666,\"#ed7953\"],[0.7777777777777778,\"#fb9f3a\"],[0.8888888888888888,\"#fdca26\"],[1.0,\"#f0f921\"]]}],\"surface\":[{\"type\":\"surface\",\"colorbar\":{\"outlinewidth\":0,\"ticks\":\"\"},\"colorscale\":[[0.0,\"#0d0887\"],[0.1111111111111111,\"#46039f\"],[0.2222222222222222,\"#7201a8\"],[0.3333333333333333,\"#9c179e\"],[0.4444444444444444,\"#bd3786\"],[0.5555555555555556,\"#d8576b\"],[0.6666666666666666,\"#ed7953\"],[0.7777777777777778,\"#fb9f3a\"],[0.8888888888888888,\"#fdca26\"],[1.0,\"#f0f921\"]]}],\"mesh3d\":[{\"type\":\"mesh3d\",\"colorbar\":{\"outlinewidth\":0,\"ticks\":\"\"}}],\"scatter\":[{\"fillpattern\":{\"fillmode\":\"overlay\",\"size\":10,\"solidity\":0.2},\"type\":\"scatter\"}],\"parcoords\":[{\"type\":\"parcoords\",\"line\":{\"colorbar\":{\"outlinewidth\":0,\"ticks\":\"\"}}}],\"scatterpolargl\":[{\"type\":\"scatterpolargl\",\"marker\":{\"colorbar\":{\"outlinewidth\":0,\"ticks\":\"\"}}}],\"bar\":[{\"error_x\":{\"color\":\"#2a3f5f\"},\"error_y\":{\"color\":\"#2a3f5f\"},\"marker\":{\"line\":{\"color\":\"#E5ECF6\",\"width\":0.5},\"pattern\":{\"fillmode\":\"overlay\",\"size\":10,\"solidity\":0.2}},\"type\":\"bar\"}],\"scattergeo\":[{\"type\":\"scattergeo\",\"marker\":{\"colorbar\":{\"outlinewidth\":0,\"ticks\":\"\"}}}],\"scatterpolar\":[{\"type\":\"scatterpolar\",\"marker\":{\"colorbar\":{\"outlinewidth\":0,\"ticks\":\"\"}}}],\"histogram\":[{\"marker\":{\"pattern\":{\"fillmode\":\"overlay\",\"size\":10,\"solidity\":0.2}},\"type\":\"histogram\"}],\"scattergl\":[{\"type\":\"scattergl\",\"marker\":{\"colorbar\":{\"outlinewidth\":0,\"ticks\":\"\"}}}],\"scatter3d\":[{\"type\":\"scatter3d\",\"line\":{\"colorbar\":{\"outlinewidth\":0,\"ticks\":\"\"}},\"marker\":{\"colorbar\":{\"outlinewidth\":0,\"ticks\":\"\"}}}],\"scattermapbox\":[{\"type\":\"scattermapbox\",\"marker\":{\"colorbar\":{\"outlinewidth\":0,\"ticks\":\"\"}}}],\"scatterternary\":[{\"type\":\"scatterternary\",\"marker\":{\"colorbar\":{\"outlinewidth\":0,\"ticks\":\"\"}}}],\"scattercarpet\":[{\"type\":\"scattercarpet\",\"marker\":{\"colorbar\":{\"outlinewidth\":0,\"ticks\":\"\"}}}],\"carpet\":[{\"aaxis\":{\"endlinecolor\":\"#2a3f5f\",\"gridcolor\":\"white\",\"linecolor\":\"white\",\"minorgridcolor\":\"white\",\"startlinecolor\":\"#2a3f5f\"},\"baxis\":{\"endlinecolor\":\"#2a3f5f\",\"gridcolor\":\"white\",\"linecolor\":\"white\",\"minorgridcolor\":\"white\",\"startlinecolor\":\"#2a3f5f\"},\"type\":\"carpet\"}],\"table\":[{\"cells\":{\"fill\":{\"color\":\"#EBF0F8\"},\"line\":{\"color\":\"white\"}},\"header\":{\"fill\":{\"color\":\"#C8D4E3\"},\"line\":{\"color\":\"white\"}},\"type\":\"table\"}],\"barpolar\":[{\"marker\":{\"line\":{\"color\":\"#E5ECF6\",\"width\":0.5},\"pattern\":{\"fillmode\":\"overlay\",\"size\":10,\"solidity\":0.2}},\"type\":\"barpolar\"}],\"pie\":[{\"automargin\":true,\"type\":\"pie\"}]},\"layout\":{\"autotypenumbers\":\"strict\",\"colorway\":[\"#636efa\",\"#EF553B\",\"#00cc96\",\"#ab63fa\",\"#FFA15A\",\"#19d3f3\",\"#FF6692\",\"#B6E880\",\"#FF97FF\",\"#FECB52\"],\"font\":{\"color\":\"#2a3f5f\"},\"hovermode\":\"closest\",\"hoverlabel\":{\"align\":\"left\"},\"paper_bgcolor\":\"white\",\"plot_bgcolor\":\"#E5ECF6\",\"polar\":{\"bgcolor\":\"#E5ECF6\",\"angularaxis\":{\"gridcolor\":\"white\",\"linecolor\":\"white\",\"ticks\":\"\"},\"radialaxis\":{\"gridcolor\":\"white\",\"linecolor\":\"white\",\"ticks\":\"\"}},\"ternary\":{\"bgcolor\":\"#E5ECF6\",\"aaxis\":{\"gridcolor\":\"white\",\"linecolor\":\"white\",\"ticks\":\"\"},\"baxis\":{\"gridcolor\":\"white\",\"linecolor\":\"white\",\"ticks\":\"\"},\"caxis\":{\"gridcolor\":\"white\",\"linecolor\":\"white\",\"ticks\":\"\"}},\"coloraxis\":{\"colorbar\":{\"outlinewidth\":0,\"ticks\":\"\"}},\"colorscale\":{\"sequential\":[[0.0,\"#0d0887\"],[0.1111111111111111,\"#46039f\"],[0.2222222222222222,\"#7201a8\"],[0.3333333333333333,\"#9c179e\"],[0.4444444444444444,\"#bd3786\"],[0.5555555555555556,\"#d8576b\"],[0.6666666666666666,\"#ed7953\"],[0.7777777777777778,\"#fb9f3a\"],[0.8888888888888888,\"#fdca26\"],[1.0,\"#f0f921\"]],\"sequentialminus\":[[0.0,\"#0d0887\"],[0.1111111111111111,\"#46039f\"],[0.2222222222222222,\"#7201a8\"],[0.3333333333333333,\"#9c179e\"],[0.4444444444444444,\"#bd3786\"],[0.5555555555555556,\"#d8576b\"],[0.6666666666666666,\"#ed7953\"],[0.7777777777777778,\"#fb9f3a\"],[0.8888888888888888,\"#fdca26\"],[1.0,\"#f0f921\"]],\"diverging\":[[0,\"#8e0152\"],[0.1,\"#c51b7d\"],[0.2,\"#de77ae\"],[0.3,\"#f1b6da\"],[0.4,\"#fde0ef\"],[0.5,\"#f7f7f7\"],[0.6,\"#e6f5d0\"],[0.7,\"#b8e186\"],[0.8,\"#7fbc41\"],[0.9,\"#4d9221\"],[1,\"#276419\"]]},\"xaxis\":{\"gridcolor\":\"white\",\"linecolor\":\"white\",\"ticks\":\"\",\"title\":{\"standoff\":15},\"zerolinecolor\":\"white\",\"automargin\":true,\"zerolinewidth\":2},\"yaxis\":{\"gridcolor\":\"white\",\"linecolor\":\"white\",\"ticks\":\"\",\"title\":{\"standoff\":15},\"zerolinecolor\":\"white\",\"automargin\":true,\"zerolinewidth\":2},\"scene\":{\"xaxis\":{\"backgroundcolor\":\"#E5ECF6\",\"gridcolor\":\"white\",\"linecolor\":\"white\",\"showbackground\":true,\"ticks\":\"\",\"zerolinecolor\":\"white\",\"gridwidth\":2},\"yaxis\":{\"backgroundcolor\":\"#E5ECF6\",\"gridcolor\":\"white\",\"linecolor\":\"white\",\"showbackground\":true,\"ticks\":\"\",\"zerolinecolor\":\"white\",\"gridwidth\":2},\"zaxis\":{\"backgroundcolor\":\"#E5ECF6\",\"gridcolor\":\"white\",\"linecolor\":\"white\",\"showbackground\":true,\"ticks\":\"\",\"zerolinecolor\":\"white\",\"gridwidth\":2}},\"shapedefaults\":{\"line\":{\"color\":\"#2a3f5f\"}},\"annotationdefaults\":{\"arrowcolor\":\"#2a3f5f\",\"arrowhead\":0,\"arrowwidth\":1},\"geo\":{\"bgcolor\":\"white\",\"landcolor\":\"#E5ECF6\",\"subunitcolor\":\"white\",\"showland\":true,\"showlakes\":true,\"lakecolor\":\"white\"},\"title\":{\"x\":0.05},\"mapbox\":{\"style\":\"light\"}}},\"xaxis\":{\"anchor\":\"y\",\"domain\":[0.0,1.0],\"title\":{\"text\":\"pm1\"},\"range\":[-1.1,1.1],\"constrain\":\"domain\"},\"yaxis\":{\"anchor\":\"x\",\"domain\":[0.0,1.0],\"title\":{\"text\":\"pm2\"},\"scaleanchor\":\"x\",\"scaleratio\":1},\"legend\":{\"title\":{\"text\":\"Species\"},\"tracegroupgap\":0},\"title\":{\"text\":\"Poincar\\u00e9 Map projection of thioredoxins colored by species\",\"x\":0.5},\"height\":800,\"annotations\":[{\"arrowhead\":1,\"showarrow\":true,\"text\":\"LBCA\",\"x\":0.18389252,\"y\":0.108608946},{\"arrowhead\":1,\"showarrow\":true,\"text\":\"LACA\",\"x\":0.111037545,\"y\":-0.1417153},{\"arrowhead\":1,\"showarrow\":true,\"text\":\"AECA\",\"x\":0.050592925,\"y\":-0.098363124},{\"arrowhead\":1,\"showarrow\":true,\"text\":\"LGPCA\",\"x\":0.313914,\"y\":0.43765968},{\"arrowhead\":1,\"showarrow\":true,\"text\":\"LECA\",\"x\":-0.63303715,\"y\":-0.0017171632},{\"arrowhead\":1,\"showarrow\":true,\"text\":\"LPBCA\",\"x\":0.30017877,\"y\":0.15301032},{\"arrowhead\":1,\"showarrow\":true,\"text\":\"LAFCA\",\"x\":-0.6711158,\"y\":-0.028322173}],\"shapes\":[{\"line\":{\"color\":\"black\",\"dash\":\"dot\"},\"opacity\":0.15,\"type\":\"circle\",\"x0\":-0.47058823529411764,\"x1\":0.47058823529411764,\"y0\":-0.47058823529411764,\"y1\":0.47058823529411764},{\"line\":{\"color\":\"black\",\"dash\":\"dot\"},\"opacity\":0.15,\"type\":\"circle\",\"x0\":-0.6447368421052633,\"x1\":0.6447368421052633,\"y0\":-0.6447368421052633,\"y1\":0.6447368421052633},{\"line\":{\"color\":\"black\",\"dash\":\"dot\"},\"opacity\":0.15,\"type\":\"circle\",\"x0\":-0.7705382436260623,\"x1\":0.7705382436260623,\"y0\":-0.7705382436260623,\"y1\":0.7705382436260623},{\"line\":{\"color\":\"black\",\"dash\":\"dot\"},\"opacity\":0.15,\"type\":\"circle\",\"x0\":-0.8557007125890737,\"x1\":0.8557007125890737,\"y0\":-0.8557007125890737,\"y1\":0.8557007125890737},{\"line\":{\"color\":\"black\",\"dash\":\"dot\"},\"opacity\":0.15,\"type\":\"circle\",\"x0\":-0.9108474990827933,\"x1\":0.9108474990827933,\"y0\":-0.9108474990827933,\"y1\":0.9108474990827933},{\"line\":{\"color\":\"black\",\"dash\":\"dot\"},\"opacity\":0.15,\"type\":\"circle\",\"x0\":-0.9455374041239167,\"x1\":0.9455374041239167,\"y0\":-0.9455374041239167,\"y1\":0.9455374041239167},{\"line\":{\"color\":\"Black\"},\"type\":\"circle\",\"x0\":-1,\"x1\":1,\"xref\":\"x\",\"y0\":-1,\"y1\":1,\"yref\":\"y\"},{\"fillcolor\":\"Black\",\"line\":{\"color\":\"Black\"},\"type\":\"circle\",\"x0\":-0.005,\"x1\":0.005,\"xref\":\"x\",\"y0\":-0.005,\"y1\":0.005,\"yref\":\"y\"}],\"yaxis2\":{\"matches\":\"y\",\"layer\":\"below traces\",\"overlaying\":\"y\"},\"plot_bgcolor\":\"rgba(0, 0, 0, 0)\",\"font\":{\"size\":10}},                        {\"responsive\": true}                    ).then(function(){\n",
       "                            \n",
       "var gd = document.getElementById('22785d6c-48ab-49f3-8057-078453fd97c6');\n",
       "var x = new MutationObserver(function (mutations, observer) {{\n",
       "        var display = window.getComputedStyle(gd).display;\n",
       "        if (!display || display === 'none') {{\n",
       "            console.log([gd, 'removed!']);\n",
       "            Plotly.purge(gd);\n",
       "            observer.disconnect();\n",
       "        }}\n",
       "}});\n",
       "\n",
       "// Listen for the removal of the full notebook cells\n",
       "var notebookContainer = gd.closest('#notebook-container');\n",
       "if (notebookContainer) {{\n",
       "    x.observe(notebookContainer, {childList: true});\n",
       "}}\n",
       "\n",
       "// Listen for the clearing of the current output cell\n",
       "var outputEl = gd.closest('.output');\n",
       "if (outputEl) {{\n",
       "    x.observe(outputEl, {childList: true});\n",
       "}}\n",
       "\n",
       "                        })                };                });            </script>        </div>"
      ]
     },
     "metadata": {},
     "output_type": "display_data"
    }
   ],
   "source": [
    "trace2 = plot_embedding_interactive(df, \n",
    "                                    labels_name = 'Species',#'1_Group',#'2_Gene', \n",
    "                                    show_text=True, \n",
    "                                    color_palette = trx_palette,\n",
    "                                    title = \"Poincaré Map projection of thioredoxins colored by species\", \n",
    "                                    fontsize = 10,\n",
    "                                    labels_text= ['LBCA', 'LACA', 'AECA', 'LGPCA', 'LECA', 'LPBCA', 'LAFCA'], \n",
    "\n",
    "                                    #second_labels_name = \"2_Gene\", \n",
    "                                    #labels_text = [\"RPS6KA1_1\", \"RPS6KA2_1\", \"RPS6KA5_1\", \"RPS6KB2\", \"RPS6KA1_2\", \"RPS6KA2_2\",  \"RPS6KA3_2\",  \"RPS6KA5_2\"] # some sequences of AGC first domain and CAMK second domain (mentionned in the article) to label\n",
    "                                    #labels_text = [\"CLK3_HUMAN\", \"SRPK3_HUMAN\", \"HIPK1_HUMAN\",\"CSK22_HUMAN\"] # some CMGC kinase\n",
    "                              )\n",
    "trace2.write_image(path_to_figures+\"/Thioredoxins_by_species.pdf\")\n",
    "trace2.show()"
   ]
  },
  {
   "cell_type": "code",
   "execution_count": null,
   "id": "aec9503f",
   "metadata": {},
   "outputs": [],
   "source": []
  }
 ],
 "metadata": {
  "kernelspec": {
   "display_name": "msa",
   "language": "python",
   "name": "msa"
  },
  "language_info": {
   "codemirror_mode": {
    "name": "ipython",
    "version": 3
   },
   "file_extension": ".py",
   "mimetype": "text/x-python",
   "name": "python",
   "nbconvert_exporter": "python",
   "pygments_lexer": "ipython3",
   "version": "3.7.9"
  }
 },
 "nbformat": 4,
 "nbformat_minor": 5
}
