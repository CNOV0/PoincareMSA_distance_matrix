{
 "cells": [
  {
   "cell_type": "markdown",
   "id": "0397d8e5-f05c-491d-ae91-0af5034e46ce",
   "metadata": {},
   "source": [
    "# Poincare Maps projection on Globins starting from scratch"
   ]
  },
  {
   "cell_type": "code",
   "execution_count": 2,
   "id": "aaa496f5-b211-48d6-a6fb-e0957939fd54",
   "metadata": {},
   "outputs": [],
   "source": [
    "import os\n",
    "import numpy as np\n",
    "import pandas as pd\n",
    "#import plotly\n",
    "#import plotly.express as px\n",
    "from pplots_new import read_embeddings, plot_embedding, plot_embedding_interactive, rotate, get_colors\n",
    "import warnings\n",
    "warnings.filterwarnings('ignore')\n",
    "\n",
    "%matplotlib inline"
   ]
  },
  {
   "cell_type": "markdown",
   "id": "d005215c",
   "metadata": {},
   "source": [
    "## Data preparation"
   ]
  },
  {
   "cell_type": "markdown",
   "id": "8be7f66d",
   "metadata": {},
   "source": [
    "The user must provide a path to the input file in .mfasta format and path to the output directory for intermediate file storage:"
   ]
  },
  {
   "cell_type": "code",
   "execution_count": 3,
   "id": "bf99c105",
   "metadata": {},
   "outputs": [],
   "source": [
    "path_to_PM=\"/home/lavande/galochkina/SCIENCE/POINCARE/PoincareMSA\"\n",
    "mfasta = path_to_PM+\"/examples/globins/glob.mfasta\" # full path to the input MSA in mfasta format\n",
    "path_out = path_to_PM+\"/examples/globins_test\" # a directory to write resutling files\n",
    "out_name = \"globins\" # name given to the output files"
   ]
  },
  {
   "cell_type": "markdown",
   "id": "398abcaf",
   "metadata": {},
   "source": [
    "All scripts necessary for data preparation are located in scirpts/data_preparation:"
   ]
  },
  {
   "cell_type": "code",
   "execution_count": 4,
   "id": "0f45d890",
   "metadata": {},
   "outputs": [
    {
     "name": "stdout",
     "output_type": "stream",
     "text": [
      "/home/lavande/galochkina/SCIENCE/POINCARE/PoincareMSA/scripts/prepare_data\n"
     ]
    }
   ],
   "source": [
    "path_prep_scripts = path_to_PM+\"/scripts/prepare_data\"\n",
    "print(path_prep_scripts)"
   ]
  },
  {
   "cell_type": "markdown",
   "id": "cf723d54",
   "metadata": {},
   "source": [
    "Data preparation consists in `.mfasta` cleaning according to a gap threshold and translation of each sequence to the PSSM profile:"
   ]
  },
  {
   "cell_type": "code",
   "execution_count": 10,
   "id": "fcaf8ae0",
   "metadata": {},
   "outputs": [
    {
     "name": "stdout",
     "output_type": "stream",
     "text": [
      "/home/lavande/galochkina/SCIENCE/POINCARE/PoincareMSA/scripts/prepare_data/create_projection.sh /home/lavande/galochkina/SCIENCE/POINCARE/PoincareMSA/scripts/prepare_data /home/lavande/galochkina/SCIENCE/POINCARE/PoincareMSA/examples/globins/glob.mfasta /home/lavande/galochkina/SCIENCE/POINCARE/PoincareMSA/examples/globins_test globins 0.9\n",
      "Output files ready for projection are written to: /home/lavande/galochkina/SCIENCE/POINCARE/PoincareMSA/examples/globins_test/fasta0.9\n"
     ]
    }
   ],
   "source": [
    "gapth = \"0.9\" # threshold for filtering gapped positions\n",
    "prep_parameters = path_prep_scripts + \" \" + mfasta+\" \"+path_out+\" \"+out_name+\" \"+gapth # parameters for data preparation\n",
    "# print(prep_parameters)\n",
    "print(path_prep_scripts+\"/create_projection.sh \" + prep_parameters)\n",
    "os.system(path_prep_scripts+\"/create_projection.sh \" + prep_parameters)\n",
    "print(\"Output files ready for projection are written to: \"+path_out+\"/fasta\"+gapth)"
   ]
  },
  {
   "cell_type": "markdown",
   "id": "f9eeec58",
   "metadata": {},
   "source": [
    "## Data projection using Poincaré disk\n",
    "You can change the parameters of the projection here:"
   ]
  },
  {
   "cell_type": "code",
   "execution_count": 23,
   "id": "eb840a0e",
   "metadata": {},
   "outputs": [],
   "source": [
    "knn = 5\n",
    "gamma = 2\n",
    "sigma = 1\n",
    "batchs = 4\n",
    "epochs = 500"
   ]
  },
  {
   "cell_type": "markdown",
   "id": "e4f769a7",
   "metadata": {},
   "source": [
    "Then, the following command creates a projection of encoded sequences to a Poincaré disk:"
   ]
  },
  {
   "cell_type": "code",
   "execution_count": 24,
   "id": "374820b7",
   "metadata": {},
   "outputs": [
    {
     "name": "stdout",
     "output_type": "stream",
     "text": [
      "python /home/lavande/galochkina/SCIENCE/POINCARE/PoincareMSA/scripts/build_poincare_map/main.py --input_path /home/lavande/galochkina/SCIENCE/POINCARE/PoincareMSA/examples/globins_test/fasta0.9 --output_path /home/lavande/galochkina/SCIENCE/POINCARE/PoincareMSA/examples/globins_test/projections/ --epochs 500\n"
     ]
    },
    {
     "data": {
      "text/plain": [
       "0"
      ]
     },
     "execution_count": 24,
     "metadata": {},
     "output_type": "execute_result"
    }
   ],
   "source": [
    "path_to_build_PM = path_to_PM+\"/scripts/build_poincare_map\"\n",
    "pm_command = \"python \"+path_to_build_PM+\"/main.py --input_path \"+path_out+\"/fasta\"+gapth+\" --output_path \"+path_out+\"/projections/ --epochs \" + str(epochs)\n",
    "print(pm_command)\n",
    "os.system(pm_command)\n",
    "# --knn knn --gamma gamma --batchsize 4 --epochs 1000 (--rotate)"
   ]
  },
  {
   "cell_type": "markdown",
   "id": "4f869900",
   "metadata": {},
   "source": [
    "Parameters by default are provided in comments. The output files are then written to the following file:"
   ]
  },
  {
   "cell_type": "code",
   "execution_count": 13,
   "id": "e67e38a7",
   "metadata": {},
   "outputs": [
    {
     "name": "stdout",
     "output_type": "stream",
     "text": [
      "/home/lavande/galochkina/SCIENCE/POINCARE/PoincareMSA/examples/globins_test/projections/PM5sigma=1.00gamma=2.00cosinepca=0_seed0.csv\n"
     ]
    }
   ],
   "source": [
    "path_embedding = path_out+\"/projections/PM%1.0fsigma=%2.2fgamma=%2.2fcosinepca=0_seed0.csv\"%(knn,sigma,gamma)\n",
    "print(path_embedding)"
   ]
  },
  {
   "cell_type": "markdown",
   "id": "9fc23cb2",
   "metadata": {},
   "source": [
    "## Projection visualization\n",
    "One can visualieze the resulting projection using any convenient coloring. To do so, the user shoud provide a `.csv` file with each line corresponding to a protein:"
   ]
  },
  {
   "cell_type": "code",
   "execution_count": 14,
   "id": "720f6399-e891-4c97-849a-c71bf60dc235",
   "metadata": {},
   "outputs": [
    {
     "data": {
      "text/html": [
       "<div>\n",
       "<style scoped>\n",
       "    .dataframe tbody tr th:only-of-type {\n",
       "        vertical-align: middle;\n",
       "    }\n",
       "\n",
       "    .dataframe tbody tr th {\n",
       "        vertical-align: top;\n",
       "    }\n",
       "\n",
       "    .dataframe thead th {\n",
       "        text-align: right;\n",
       "    }\n",
       "</style>\n",
       "<table border=\"1\" class=\"dataframe\">\n",
       "  <thead>\n",
       "    <tr style=\"text-align: right;\">\n",
       "      <th></th>\n",
       "      <th>tree1</th>\n",
       "      <th>tree2</th>\n",
       "      <th>tree3</th>\n",
       "      <th>tree4</th>\n",
       "      <th>full_name</th>\n",
       "      <th>short_name</th>\n",
       "      <th>full_species</th>\n",
       "      <th>short_species</th>\n",
       "      <th>evo_distance</th>\n",
       "    </tr>\n",
       "    <tr>\n",
       "      <th>proteins_id</th>\n",
       "      <th></th>\n",
       "      <th></th>\n",
       "      <th></th>\n",
       "      <th></th>\n",
       "      <th></th>\n",
       "      <th></th>\n",
       "      <th></th>\n",
       "      <th></th>\n",
       "      <th></th>\n",
       "    </tr>\n",
       "  </thead>\n",
       "  <tbody>\n",
       "    <tr>\n",
       "      <th>1</th>\n",
       "      <td>5</td>\n",
       "      <td>3</td>\n",
       "      <td>3</td>\n",
       "      <td>2</td>\n",
       "      <td>Globin C, coelomic</td>\n",
       "      <td>Globin</td>\n",
       "      <td>Caudina arenicola</td>\n",
       "      <td>Caudina</td>\n",
       "      <td>2.101128</td>\n",
       "    </tr>\n",
       "    <tr>\n",
       "      <th>2</th>\n",
       "      <td>-1</td>\n",
       "      <td>28</td>\n",
       "      <td>18</td>\n",
       "      <td>10</td>\n",
       "      <td>Globin (Fragment)</td>\n",
       "      <td>Globin</td>\n",
       "      <td>Stegodyphus mimosarum</td>\n",
       "      <td>Stegodyphus</td>\n",
       "      <td>1.757280</td>\n",
       "    </tr>\n",
       "    <tr>\n",
       "      <th>3</th>\n",
       "      <td>-1</td>\n",
       "      <td>27</td>\n",
       "      <td>18</td>\n",
       "      <td>10</td>\n",
       "      <td>Uncharacterized protein</td>\n",
       "      <td>Uncharacterized</td>\n",
       "      <td>Strigamia maritima</td>\n",
       "      <td>Strigamia</td>\n",
       "      <td>2.041487</td>\n",
       "    </tr>\n",
       "    <tr>\n",
       "      <th>4</th>\n",
       "      <td>37</td>\n",
       "      <td>27</td>\n",
       "      <td>18</td>\n",
       "      <td>10</td>\n",
       "      <td>Uncharacterized protein</td>\n",
       "      <td>Uncharacterized</td>\n",
       "      <td>Scylla olivacea</td>\n",
       "      <td>Scylla</td>\n",
       "      <td>2.318169</td>\n",
       "    </tr>\n",
       "    <tr>\n",
       "      <th>5</th>\n",
       "      <td>37</td>\n",
       "      <td>27</td>\n",
       "      <td>18</td>\n",
       "      <td>10</td>\n",
       "      <td>Uncharacterized protein</td>\n",
       "      <td>Uncharacterized</td>\n",
       "      <td>Scylla olivacea</td>\n",
       "      <td>Scylla</td>\n",
       "      <td>2.170775</td>\n",
       "    </tr>\n",
       "    <tr>\n",
       "      <th>...</th>\n",
       "      <td>...</td>\n",
       "      <td>...</td>\n",
       "      <td>...</td>\n",
       "      <td>...</td>\n",
       "      <td>...</td>\n",
       "      <td>...</td>\n",
       "      <td>...</td>\n",
       "      <td>...</td>\n",
       "      <td>...</td>\n",
       "    </tr>\n",
       "    <tr>\n",
       "      <th>248</th>\n",
       "      <td>14</td>\n",
       "      <td>10</td>\n",
       "      <td>9</td>\n",
       "      <td>3</td>\n",
       "      <td>Uncharacterized protein</td>\n",
       "      <td>Uncharacterized</td>\n",
       "      <td>Strongylocentrotus purpuratus</td>\n",
       "      <td>Strongylocentrotus</td>\n",
       "      <td>2.586926</td>\n",
       "    </tr>\n",
       "    <tr>\n",
       "      <th>249</th>\n",
       "      <td>-1</td>\n",
       "      <td>10</td>\n",
       "      <td>9</td>\n",
       "      <td>3</td>\n",
       "      <td>Uncharacterized protein</td>\n",
       "      <td>Uncharacterized</td>\n",
       "      <td>Strongylocentrotus purpuratus</td>\n",
       "      <td>Strongylocentrotus</td>\n",
       "      <td>2.519191</td>\n",
       "    </tr>\n",
       "    <tr>\n",
       "      <th>250</th>\n",
       "      <td>14</td>\n",
       "      <td>10</td>\n",
       "      <td>9</td>\n",
       "      <td>3</td>\n",
       "      <td>Uncharacterized protein</td>\n",
       "      <td>Uncharacterized</td>\n",
       "      <td>Strongylocentrotus purpuratus</td>\n",
       "      <td>Strongylocentrotus</td>\n",
       "      <td>2.276065</td>\n",
       "    </tr>\n",
       "    <tr>\n",
       "      <th>251</th>\n",
       "      <td>14</td>\n",
       "      <td>10</td>\n",
       "      <td>9</td>\n",
       "      <td>3</td>\n",
       "      <td>Uncharacterized protein</td>\n",
       "      <td>Uncharacterized</td>\n",
       "      <td>Strongylocentrotus purpuratus</td>\n",
       "      <td>Strongylocentrotus</td>\n",
       "      <td>2.867471</td>\n",
       "    </tr>\n",
       "    <tr>\n",
       "      <th>252</th>\n",
       "      <td>-1</td>\n",
       "      <td>25</td>\n",
       "      <td>15</td>\n",
       "      <td>8</td>\n",
       "      <td>Uncharacterized protein</td>\n",
       "      <td>Uncharacterized</td>\n",
       "      <td>Strongyloides stercoralis</td>\n",
       "      <td>Strongyloides</td>\n",
       "      <td>3.192954</td>\n",
       "    </tr>\n",
       "  </tbody>\n",
       "</table>\n",
       "<p>252 rows × 9 columns</p>\n",
       "</div>"
      ],
      "text/plain": [
       "             tree1  tree2  tree3  tree4                full_name  \\\n",
       "proteins_id                                                        \n",
       "1                5      3      3      2       Globin C, coelomic   \n",
       "2               -1     28     18     10        Globin (Fragment)   \n",
       "3               -1     27     18     10  Uncharacterized protein   \n",
       "4               37     27     18     10  Uncharacterized protein   \n",
       "5               37     27     18     10  Uncharacterized protein   \n",
       "...            ...    ...    ...    ...                      ...   \n",
       "248             14     10      9      3  Uncharacterized protein   \n",
       "249             -1     10      9      3  Uncharacterized protein   \n",
       "250             14     10      9      3  Uncharacterized protein   \n",
       "251             14     10      9      3  Uncharacterized protein   \n",
       "252             -1     25     15      8  Uncharacterized protein   \n",
       "\n",
       "                  short_name                   full_species  \\\n",
       "proteins_id                                                   \n",
       "1                     Globin              Caudina arenicola   \n",
       "2                     Globin          Stegodyphus mimosarum   \n",
       "3            Uncharacterized             Strigamia maritima   \n",
       "4            Uncharacterized                Scylla olivacea   \n",
       "5            Uncharacterized                Scylla olivacea   \n",
       "...                      ...                            ...   \n",
       "248          Uncharacterized  Strongylocentrotus purpuratus   \n",
       "249          Uncharacterized  Strongylocentrotus purpuratus   \n",
       "250          Uncharacterized  Strongylocentrotus purpuratus   \n",
       "251          Uncharacterized  Strongylocentrotus purpuratus   \n",
       "252          Uncharacterized      Strongyloides stercoralis   \n",
       "\n",
       "                  short_species  evo_distance  \n",
       "proteins_id                                    \n",
       "1                       Caudina      2.101128  \n",
       "2                   Stegodyphus      1.757280  \n",
       "3                     Strigamia      2.041487  \n",
       "4                        Scylla      2.318169  \n",
       "5                        Scylla      2.170775  \n",
       "...                         ...           ...  \n",
       "248          Strongylocentrotus      2.586926  \n",
       "249          Strongylocentrotus      2.519191  \n",
       "250          Strongylocentrotus      2.276065  \n",
       "251          Strongylocentrotus      2.867471  \n",
       "252               Strongyloides      3.192954  \n",
       "\n",
       "[252 rows x 9 columns]"
      ]
     },
     "execution_count": 14,
     "metadata": {},
     "output_type": "execute_result"
    }
   ],
   "source": [
    "path_annotation = path_to_PM+\"/visualization/data/globin_colors_new.csv\" # path to annotation file\n",
    "globin_df = pd.read_csv(path_annotation, index_col = 0)\n",
    "globin_df"
   ]
  },
  {
   "cell_type": "markdown",
   "id": "dac314e3",
   "metadata": {},
   "source": [
    "A user can also create a custom color palette:"
   ]
  },
  {
   "cell_type": "code",
   "execution_count": 15,
   "id": "8af40b85-99bd-4eab-a010-d8f1351cf15b",
   "metadata": {},
   "outputs": [],
   "source": [
    "# construction of palette \n",
    "globin_palette = {-1 : \"#c7c7c7\", \"OTHER\": \"#c7c7c7\", \"NA\" : \"#c7c7c7\", \"Uncharacterized\" : \"#c7c7c7\", \"root\": \"#000000\",\n",
    "                 \"Nematostella\": \"#ad288b\", \"Amphimedon\": \"#fdb7fd\", \"Micromonas\": \"#4d9b03\", \"Saccoglossus\":\"#b0ffe8\", \"Trichoplax\":\"#e9bd6b\" } \n",
    "\n",
    "globin_others_eukaryota = [\"Amphimedon\", # porifera \n",
    " \"Saccoglossus\", # hemichordata\n",
    " \"Trichoplax\", # placozoa\n",
    " \"Micromonas\", # viridiplantae\n",
    " \"Nematostella\" ] # cnidaria  \n",
    " \n",
    "globin_arthropoda = [\"Stegodyphus\", \"Strigamia\", \"Scylla\", \"Carcinus\",  \"Ixodes\", \"Zootermopsis\", \"Coptotermes\",\"Oryctes\", \"Tetranychus\", \n",
    "                     \"Acyrthosiphon\", \"Nemastomella\",\"Apis\",\"Solenopsis\", \"Habropoda\", \"Fopius\", \"Cerapachys\", \"Camponotus\", \"Nasonia\", \n",
    "                     \"Acromyrmex\", \"Tribolium\", \"Sarcoptes\", \"Lutzomyia\", \"Rhodnius\", \"Triatoma\", \"Cherax\", \"Chironomus\", \"Polypedilum\", \n",
    "                     \"Pediculus\", \"Daphnia\", \"Harpegnathos\", \"Artemia\", \"Parartemia\", \"Lepeophtheirus\", \"Glossina\", \"Operophtera\"] \n",
    "  \n",
    "globin_mollusca = [\"Arion\", \"Crassostrea\", \"Lottia\", \"Anadara\", \"Spisula\", \"Barbatia\", \"Nassarius\", \"Cerithidea\", \"Nerita\", \"Phacoides\",\n",
    "                   \"Octopus\", \"Biomphalaria\"] \n",
    "globin_annelida = [\"Capitella\", \"Metaphire\"]  \n",
    "globin_chordata = [\"Scleropages\", \"Branchiostoma\", \"Xenopus\", \"Oreochromis\", \"Nothobranchius\", \"Gasterosteus\", \"Bos\", \"Iguana\", \"Oryzias\", \n",
    "                   \"Anas\", \"Tetraodon\", \"Takifugu\", \"Xiphophorus\", \"Larimichthys\", \"Oncorhynchus\", \"Alligator\", \"Astyanax\", \"Latimeria\",\n",
    "                   \"Ictalurus\", \"Chaenocephalus\", \"Danio\", \"Cyprinus\", \"Callorhinchus\", \"Lepisosteus\", \"Chelonia\", \"Poecilia\", \"Ciona\", \n",
    "                   \"Petromyzon\", \"Lethenteron\", \"Cavia\", \"Scalopus\", \"Neotoma\", \"Pelodiscus\",\"Fundulus\", \"Oryctolagus\", \"Anolis\",\n",
    "                   \"Salmo\", \"Amazona\", \"Ornithorhynchus\", \"Sarcophilus\", \"Gallus\", \"Nomascus\", \"Tupaia\"] \n",
    " \n",
    "globin_echinodermata = [\"Caudina\", \"Strongylocentrotus\", \"Hemipholis\", \"Ophiactis\"] \n",
    "globin_bacteria = [\"Gemmatirosa\", \"Halothiobacillus\"] \n",
    "globin_nematoda = [\"Ancylostoma\", \"Necator\", \"Caenorhabditis\", \"Haemonchus\", \"Ascaris\", \"Trichinella\", \"Globodera\", \"Strongyloides\", \"Angiostrongylus\"] \n",
    "globin_fungi = [\"Blastobotrys\", \"Cyberlindnera\"] \n",
    "\n",
    "\n",
    "#globin_palette.update(dict.fromkeys(globin_others_eukaryota, \"#22ba69\")) \n",
    "globin_palette.update(dict.fromkeys(globin_arthropoda, \"#0b237c\"))\n",
    "globin_palette.update(dict.fromkeys(globin_mollusca, \"#512ff8\")) #512ff8 401bf9\n",
    "globin_palette.update(dict.fromkeys(globin_annelida, \"#a191f3\"))\n",
    "globin_palette.update(dict.fromkeys(globin_chordata, \"#26c9d9\"))\n",
    "globin_palette.update(dict.fromkeys(globin_echinodermata, \"#086b75\"))\n",
    "globin_palette.update(dict.fromkeys(globin_bacteria, \"#f10000\"))\n",
    "globin_palette.update(dict.fromkeys(globin_nematoda, \"#5d78e3\"))\n",
    "globin_palette.update(dict.fromkeys(globin_fungi, \"#a0e361\"))"
   ]
  },
  {
   "cell_type": "code",
   "execution_count": 17,
   "id": "86e3864d-862c-40b6-ad8c-adfa4af931e4",
   "metadata": {
    "jupyter": {
     "outputs_hidden": true
    },
    "tags": []
   },
   "outputs": [
    {
     "name": "stdout",
     "output_type": "stream",
     "text": [
      "result:                    pm1       pm2 tree1 tree2 tree3 tree4  \\\n",
      "proteins_id                                               \n",
      "1           -0.266668  0.361557     5     3     3     2   \n",
      "2           -0.120496  0.269804    -1    28    18    10   \n",
      "3           -0.161223  0.454501    -1    27    18    10   \n",
      "4           -0.226452  0.602182    37    27    18    10   \n",
      "5           -0.164180  0.550417    37    27    18    10   \n",
      "...               ...       ...   ...   ...   ...   ...   \n",
      "248          0.354382 -0.730680    14    10     9     3   \n",
      "249          0.399043 -0.751967    -1    10     9     3   \n",
      "250          0.384139 -0.707005    14    10     9     3   \n",
      "251          0.442477 -0.715055    14    10     9     3   \n",
      "252         -0.509467 -0.685960    -1    25    15     8   \n",
      "\n",
      "                           full_name       short_name  \\\n",
      "proteins_id                                             \n",
      "1                 Globin C, coelomic           Globin   \n",
      "2                  Globin (Fragment)           Globin   \n",
      "3            Uncharacterized protein  Uncharacterized   \n",
      "4            Uncharacterized protein  Uncharacterized   \n",
      "5            Uncharacterized protein  Uncharacterized   \n",
      "...                              ...              ...   \n",
      "248          Uncharacterized protein  Uncharacterized   \n",
      "249          Uncharacterized protein  Uncharacterized   \n",
      "250          Uncharacterized protein  Uncharacterized   \n",
      "251          Uncharacterized protein  Uncharacterized   \n",
      "252          Uncharacterized protein  Uncharacterized   \n",
      "\n",
      "                              full_species       short_species  evo_distance  \n",
      "proteins_id                                                                   \n",
      "1                        Caudina arenicola             Caudina      2.101128  \n",
      "2                    Stegodyphus mimosarum         Stegodyphus      1.757280  \n",
      "3                       Strigamia maritima           Strigamia      2.041487  \n",
      "4                          Scylla olivacea              Scylla      2.318169  \n",
      "5                          Scylla olivacea              Scylla      2.170775  \n",
      "...                                    ...                 ...           ...  \n",
      "248          Strongylocentrotus purpuratus  Strongylocentrotus      2.586926  \n",
      "249          Strongylocentrotus purpuratus  Strongylocentrotus      2.519191  \n",
      "250          Strongylocentrotus purpuratus  Strongylocentrotus      2.276065  \n",
      "251          Strongylocentrotus purpuratus  Strongylocentrotus      2.867471  \n",
      "252              Strongyloides stercoralis       Strongyloides      3.192954  \n",
      "\n",
      "[252 rows x 11 columns]\n"
     ]
    }
   ],
   "source": [
    "df5 = read_embeddings(path_embedding, path_annotation, withroot=False)"
   ]
  },
  {
   "cell_type": "markdown",
   "id": "63ca5252",
   "metadata": {},
   "source": [
    "Here follow several examples of globin family visualization."
   ]
  },
  {
   "cell_type": "markdown",
   "id": "c3e370aa-2e71-4578-beb8-c99b18e50166",
   "metadata": {},
   "source": [
    "# Globins by name"
   ]
  },
  {
   "cell_type": "markdown",
   "id": "f7940ff0-96aa-4dd9-95bd-fa8d8a919715",
   "metadata": {
    "tags": []
   },
   "source": [
    "## KNN 5 gamma 2 (batchsize 4 epochs 1000)"
   ]
  },
  {
   "cell_type": "code",
   "execution_count": 1,
   "id": "b1055ecc-099f-4050-b0f9-c586377e6b85",
   "metadata": {},
   "outputs": [
    {
     "ename": "NameError",
     "evalue": "name 'plot_embedding_interactive' is not defined",
     "output_type": "error",
     "traceback": [
      "\u001b[0;31m---------------------------------------------------------------------------\u001b[0m",
      "\u001b[0;31mNameError\u001b[0m                                 Traceback (most recent call last)",
      "\u001b[0;32m<ipython-input-1-814103f3667c>\u001b[0m in \u001b[0;36m<module>\u001b[0;34m\u001b[0m\n\u001b[0;32m----> 1\u001b[0;31m trace1 = plot_embedding_interactive(df5, \n\u001b[0m\u001b[1;32m      2\u001b[0m                                     \u001b[0mlabels_name\u001b[0m \u001b[0;34m=\u001b[0m \u001b[0;34m'short_name'\u001b[0m\u001b[0;34m,\u001b[0m\u001b[0;34m\u001b[0m\u001b[0;34m\u001b[0m\u001b[0m\n\u001b[1;32m      3\u001b[0m                                     \u001b[0mshow_text\u001b[0m\u001b[0;34m=\u001b[0m\u001b[0;32mTrue\u001b[0m\u001b[0;34m,\u001b[0m\u001b[0;34m\u001b[0m\u001b[0;34m\u001b[0m\u001b[0m\n\u001b[1;32m      4\u001b[0m                                     \u001b[0mcolor_palette\u001b[0m \u001b[0;34m=\u001b[0m \u001b[0mglobin_palette\u001b[0m\u001b[0;34m,\u001b[0m\u001b[0;34m\u001b[0m\u001b[0;34m\u001b[0m\u001b[0m\n\u001b[1;32m      5\u001b[0m                                     \u001b[0mtitle\u001b[0m \u001b[0;34m=\u001b[0m \u001b[0;34m\"PM projection on globins according to the first term of protein name - KNN 5 gamma 2 batchsize 4 epochs 1000\"\u001b[0m\u001b[0;34m,\u001b[0m\u001b[0;34m\u001b[0m\u001b[0;34m\u001b[0m\u001b[0m\n",
      "\u001b[0;31mNameError\u001b[0m: name 'plot_embedding_interactive' is not defined"
     ]
    }
   ],
   "source": [
    "trace1 = plot_embedding_interactive(df5, \n",
    "                                    labels_name = 'short_name',\n",
    "                                    show_text=True, \n",
    "                                    color_palette = globin_palette, \n",
    "                                    title = \"PM projection on globins according to the first term of protein name - KNN 5 gamma 2 batchsize 4 epochs 1000\", \n",
    "                                    fontsize = 11\n",
    "                              )\n",
    "trace1.show()"
   ]
  },
  {
   "cell_type": "code",
   "execution_count": 22,
   "id": "26ab633c",
   "metadata": {},
   "outputs": [
    {
     "name": "stdout",
     "output_type": "stream",
     "text": [
      "Index(['tree1', 'tree2', 'tree3', 'tree4', 'full_name', 'short_name',\n",
      "       'full_species', 'short_species', 'evo_distance'],\n",
      "      dtype='object')\n"
     ]
    },
    {
     "data": {
      "application/vnd.plotly.v1+json": {
       "config": {
        "plotlyServerURL": "https://plot.ly"
       },
       "data": [
        {
         "customdata": [
          [
           5,
           3,
           3,
           2,
           "Globin C, coelomic",
           "Globin",
           "Caudina arenicola",
           "Caudina",
           2.10112824
          ],
          [
           4,
           2,
           3,
           2,
           "Hemoglobin",
           "Hemoglobin",
           "Hemipholis cordifera",
           "Hemipholis",
           2.32722587
          ],
          [
           4,
           2,
           3,
           2,
           "Hemoglobin",
           "Hemoglobin",
           "Ophiactis simplex",
           "Ophiactis",
           2.21961074
          ],
          [
           4,
           2,
           3,
           2,
           "Hemoglobin",
           "Hemoglobin",
           "Ophiactis simplex",
           "Ophiactis",
           2.26245834
          ],
          [
           -1,
           -1,
           3,
           2,
           "Extracellular globin 1",
           "Extracellular",
           "Metaphire sieboldi",
           "Metaphire",
           2.43355891
          ]
         ],
         "hovertemplate": "<b>%{hovertext}</b><br><br>tree3=%{customdata[2]}<br>pm1=%{x}<br>pm2=%{y}<br>tree1=%{customdata[0]}<br>tree2=%{customdata[1]}<br>tree4=%{customdata[3]}<br>full_name=%{customdata[4]}<br>short_name=%{customdata[5]}<br>full_species=%{customdata[6]}<br>short_species=%{customdata[7]}<br>evo_distance=%{customdata[8]}<extra></extra>",
         "hovertext": [
          3,
          3,
          3,
          3,
          3
         ],
         "legendgroup": "3",
         "marker": {
          "color": "#FECB52",
          "symbol": "circle"
         },
         "mode": "markers",
         "name": "3",
         "orientation": "v",
         "showlegend": true,
         "type": "scatter",
         "x": [
          -0.26666847,
          -0.58432835,
          -0.6667466,
          -0.7292585,
          -0.8589363
         ],
         "xaxis": "x",
         "y": [
          0.361557,
          0.06236605,
          0.022359911,
          0.09368643,
          0.21947734
         ],
         "yaxis": "y"
        },
        {
         "customdata": [
          [
           -1,
           28,
           18,
           10,
           "Globin (Fragment)",
           "Globin",
           "Stegodyphus mimosarum",
           "Stegodyphus",
           1.7572795
          ],
          [
           -1,
           27,
           18,
           10,
           "Uncharacterized protein",
           "Uncharacterized",
           "Strigamia maritima",
           "Strigamia",
           2.04148677
          ],
          [
           37,
           27,
           18,
           10,
           "Uncharacterized protein",
           "Uncharacterized",
           "Scylla olivacea",
           "Scylla",
           2.31816861
          ],
          [
           37,
           27,
           18,
           10,
           "Uncharacterized protein",
           "Uncharacterized",
           "Scylla olivacea",
           "Scylla",
           2.17077532
          ],
          [
           37,
           27,
           18,
           10,
           "Hemoglobin",
           "Hemoglobin",
           "Carcinus maenas",
           "Carcinus",
           2.1764956200000003
          ],
          [
           -1,
           29,
           18,
           10,
           "Globin, putative",
           "Globin,",
           "Ixodes scapularis",
           "Ixodes",
           2.30448645
          ],
          [
           40,
           28,
           18,
           10,
           "Globin",
           "Globin",
           "Zootermopsis nevadensis",
           "Zootermopsis",
           1.87201142
          ],
          [
           45,
           33,
           18,
           10,
           "Uncharacterized protein",
           "Uncharacterized",
           "Arion vulgaris",
           "Arion",
           1.97427266
          ],
          [
           45,
           33,
           18,
           10,
           "Uncharacterized protein",
           "Uncharacterized",
           "Arion vulgaris",
           "Arion",
           2.08013658
          ],
          [
           40,
           28,
           18,
           10,
           "Globin like protein (Fragment)",
           "Globin",
           "Coptotermes formosanus",
           "Coptotermes",
           1.7741922
          ],
          [
           -1,
           28,
           18,
           10,
           "Uncharacterized protein",
           "Uncharacterized",
           "Oryctes borbonicus",
           "Oryctes",
           2.08382808
          ],
          [
           -1,
           27,
           18,
           10,
           "Uncharacterized protein",
           "Uncharacterized",
           "Tetranychus urticae",
           "Tetranychus",
           2.47172868
          ],
          [
           39,
           28,
           18,
           10,
           "Globin 1",
           "Globin",
           "Apis mellifera",
           "Apis",
           2.242503
          ],
          [
           39,
           28,
           18,
           10,
           "Putative uncharacterized protein (Fragment)",
           "Putative",
           "Solenopsis invicta",
           "Solenopsis",
           2.64407828
          ],
          [
           38,
           28,
           18,
           10,
           "Globin",
           "Globin",
           "Habropoda laboriosa",
           "Habropoda",
           2.60605258
          ],
          [
           38,
           28,
           18,
           10,
           "Cygb2_0 protein",
           "Cygb2_0",
           "Fopius arisanus",
           "Fopius",
           2.25335988
          ],
          [
           39,
           28,
           18,
           10,
           "Cytoglobin 2",
           "Cytoglobin",
           "Cerapachys biroi",
           "Cerapachys",
           2.52009681
          ],
          [
           39,
           28,
           18,
           10,
           "Globin",
           "Globin",
           "Camponotus floridanus",
           "Camponotus",
           2.60584071
          ],
          [
           38,
           28,
           18,
           10,
           "Uncharacterized protein",
           "Uncharacterized",
           "Nasonia vitripennis",
           "Nasonia",
           2.25387252
          ],
          [
           39,
           28,
           18,
           10,
           "Cytoglobin",
           "Cytoglobin",
           "Acromyrmex echinatior",
           "Acromyrmex",
           2.64639149
          ],
          [
           -1,
           28,
           18,
           10,
           "Globin like Protein",
           "Globin",
           "Tribolium castaneum",
           "Tribolium",
           2.42579023
          ],
          [
           -1,
           34,
           18,
           10,
           "Uncharacterized protein",
           "Uncharacterized",
           "Capitella teleta",
           "Capitella",
           2.02076984
          ],
          [
           -1,
           34,
           18,
           10,
           "Cytoglobin 1 like protein",
           "Cytoglobin",
           "Sarcoptes scabiei",
           "Sarcoptes",
           2.036886
          ],
          [
           -1,
           29,
           18,
           10,
           "Uncharacterized protein (Fragment)",
           "Uncharacterized",
           "Ixodes ricinus",
           "Ixodes",
           1.7778336
          ],
          [
           37,
           27,
           18,
           10,
           "Cytoglobin 2 isoform CYGBi2",
           "Cytoglobin",
           "Cherax destructor",
           "Cherax",
           2.23555225
          ],
          [
           36,
           26,
           18,
           10,
           "Putative uncharacterized protein",
           "Putative",
           "Daphnia pulex",
           "Daphnia",
           2.15851408
          ],
          [
           -1,
           -1,
           18,
           10,
           "Globin",
           "Globin",
           "Crassostrea gigas",
           "Crassostrea",
           2.20001602
          ],
          [
           -1,
           29,
           18,
           10,
           "Beta chain of the tetrameric hemoglobin, putative",
           "Hemoglobin",
           "Ixodes scapularis",
           "Ixodes",
           2.34867746
          ],
          [
           39,
           28,
           18,
           10,
           "Globin",
           "Globin",
           "Harpegnathos saltator",
           "Harpegnathos",
           2.62513263
          ],
          [
           40,
           28,
           18,
           10,
           "Globin",
           "Globin",
           "Zootermopsis nevadensis",
           "Zootermopsis",
           1.7189102399999998
          ],
          [
           -1,
           -1,
           18,
           10,
           "Globin",
           "Globin",
           "Daphnia magna",
           "Daphnia",
           2.39585067
          ],
          [
           36,
           26,
           18,
           10,
           "Cytoglobin 2",
           "Cytoglobin",
           "Daphnia magna",
           "Daphnia",
           2.23126274
          ],
          [
           -1,
           -1,
           18,
           10,
           "Globin like protein 1",
           "Globin",
           "Sarcoptes scabiei",
           "Sarcoptes",
           2.11760394
          ]
         ],
         "hovertemplate": "<b>%{hovertext}</b><br><br>tree3=%{customdata[2]}<br>pm1=%{x}<br>pm2=%{y}<br>tree1=%{customdata[0]}<br>tree2=%{customdata[1]}<br>tree4=%{customdata[3]}<br>full_name=%{customdata[4]}<br>short_name=%{customdata[5]}<br>full_species=%{customdata[6]}<br>short_species=%{customdata[7]}<br>evo_distance=%{customdata[8]}<extra></extra>",
         "hovertext": [
          18,
          18,
          18,
          18,
          18,
          18,
          18,
          18,
          18,
          18,
          18,
          18,
          18,
          18,
          18,
          18,
          18,
          18,
          18,
          18,
          18,
          18,
          18,
          18,
          18,
          18,
          18,
          18,
          18,
          18,
          18,
          18,
          18
         ],
         "legendgroup": "18",
         "marker": {
          "color": "#636efa",
          "symbol": "circle"
         },
         "mode": "markers",
         "name": "18",
         "orientation": "v",
         "showlegend": true,
         "type": "scatter",
         "x": [
          -0.12049592,
          -0.16122319,
          -0.22645223,
          -0.16417967,
          -0.27909157,
          -0.1193889,
          -0.058732226,
          -0.055587843,
          -0.0446071,
          -0.19745381,
          -0.1678841,
          -0.21277988,
          -0.327481,
          -0.36362422,
          -0.33763647,
          -0.2893822,
          -0.36318633,
          -0.36731765,
          -0.30512968,
          -0.3594312,
          -0.12602974,
          -0.1345363,
          -0.053383294,
          -0.19537781,
          -0.23240054,
          -0.4055251,
          -0.07492841,
          -0.28202975,
          -0.3728615,
          -0.20899907,
          -0.3771135,
          -0.35157037,
          -0.19460657
         ],
         "xaxis": "x",
         "y": [
          0.26980436,
          0.4545007,
          0.60218203,
          0.55041695,
          0.59375966,
          0.38160697,
          0.3435667,
          0.5851531,
          0.5471538,
          0.19716594,
          0.3251443,
          0.4679351,
          0.011099874,
          -0.007673327,
          -0.017546313,
          0.012648861,
          -0.011040217,
          -0.0028439697,
          -0.019541113,
          -0.014706968,
          0.012922202,
          0.21604812,
          0.23218445,
          0.41918272,
          0.5790328,
          0.40909532,
          0.45422724,
          0.23775394,
          -0.009587772,
          0.25345695,
          -0.032475386,
          0.36604792,
          0.2979505
         ],
         "yaxis": "y"
        },
        {
         "customdata": [
          [
           -1,
           40,
           22,
           11,
           "ACYPI007228 protein",
           "ACYPI007228",
           "Acyrthosiphon pisum",
           "Acyrthosiphon",
           0.44459959
          ],
          [
           10,
           38,
           22,
           9,
           "Hemoglobin T1 polymer",
           "Hemoglobin",
           "Artemia salina",
           "Artemia",
           1.84725956
          ],
          [
           10,
           38,
           22,
           9,
           "Hemoglobin P polymer",
           "Hemoglobin",
           "Parartemia zietziana",
           "Parartemia",
           1.91905851
          ],
          [
           11,
           38,
           22,
           9,
           "Hemoglobin T1 polymer",
           "Hemoglobin",
           "Artemia salina",
           "Artemia",
           1.78050468
          ],
          [
           11,
           38,
           22,
           9,
           "Hemoglobin P polymer",
           "Hemoglobin",
           "Parartemia zietziana",
           "Parartemia",
           1.73983856
          ],
          [
           11,
           38,
           22,
           9,
           "Hemoglobin C1 polymer",
           "Hemoglobin",
           "Artemia salina",
           "Artemia",
           1.70252921
          ],
          [
           -1,
           38,
           22,
           9,
           "Hemoglobin P polymer",
           "Hemoglobin",
           "Parartemia zietziana",
           "Parartemia",
           2.0891213
          ],
          [
           -1,
           40,
           22,
           11,
           "Uncharacterized protein",
           "Uncharacterized",
           "Acyrthosiphon pisum",
           "Acyrthosiphon",
           0.90085961
          ]
         ],
         "hovertemplate": "<b>%{hovertext}</b><br><br>tree3=%{customdata[2]}<br>pm1=%{x}<br>pm2=%{y}<br>tree1=%{customdata[0]}<br>tree2=%{customdata[1]}<br>tree4=%{customdata[3]}<br>full_name=%{customdata[4]}<br>short_name=%{customdata[5]}<br>full_species=%{customdata[6]}<br>short_species=%{customdata[7]}<br>evo_distance=%{customdata[8]}<extra></extra>",
         "hovertext": [
          22,
          22,
          22,
          22,
          22,
          22,
          22,
          22
         ],
         "legendgroup": "22",
         "marker": {
          "color": "#EF553B",
          "symbol": "circle"
         },
         "mode": "markers",
         "name": "22",
         "orientation": "v",
         "showlegend": true,
         "type": "scatter",
         "x": [
          0.042473827,
          -0.5344158,
          -0.55346197,
          -0.5191472,
          -0.5322083,
          -0.53922075,
          -0.55369616,
          -0.44740638
         ],
         "xaxis": "x",
         "y": [
          0.27281776,
          0.5433419,
          0.53624403,
          0.5137277,
          0.52031577,
          0.51621085,
          0.48745197,
          0.30616674
         ],
         "yaxis": "y"
        },
        {
         "customdata": [
          [
           13,
           17,
           5,
           7,
           "Uncharacterized protein",
           "Uncharacterized",
           "Capitella teleta",
           "Capitella",
           2.1436955
          ],
          [
           13,
           17,
           5,
           7,
           "Uncharacterized protein",
           "Uncharacterized",
           "Capitella teleta",
           "Capitella",
           2.2371513499999995
          ],
          [
           -1,
           17,
           5,
           7,
           "Uncharacterized protein (Fragment)",
           "Uncharacterized",
           "Capitella teleta",
           "Capitella",
           2.66909204
          ],
          [
           -1,
           17,
           5,
           7,
           "Uncharacterized protein",
           "Uncharacterized",
           "Capitella teleta",
           "Capitella",
           2.42843133
          ]
         ],
         "hovertemplate": "<b>%{hovertext}</b><br><br>tree3=%{customdata[2]}<br>pm1=%{x}<br>pm2=%{y}<br>tree1=%{customdata[0]}<br>tree2=%{customdata[1]}<br>tree4=%{customdata[3]}<br>full_name=%{customdata[4]}<br>short_name=%{customdata[5]}<br>full_species=%{customdata[6]}<br>short_species=%{customdata[7]}<br>evo_distance=%{customdata[8]}<extra></extra>",
         "hovertext": [
          5,
          5,
          5,
          5
         ],
         "legendgroup": "5",
         "marker": {
          "color": "#00cc96",
          "symbol": "circle"
         },
         "mode": "markers",
         "name": "5",
         "orientation": "v",
         "showlegend": true,
         "type": "scatter",
         "x": [
          0.69944084,
          0.67689914,
          0.7390656,
          0.7301638
         ],
         "xaxis": "x",
         "y": [
          -0.5700498,
          -0.54863876,
          -0.5591802,
          -0.5349618
         ],
         "yaxis": "y"
        },
        {
         "customdata": [
          [
           -1,
           -1,
           4,
           7,
           "Uncharacterized protein",
           "Uncharacterized",
           "Capitella teleta",
           "Capitella",
           2.50218703
          ],
          [
           -1,
           7,
           4,
           7,
           "Cytoglobin 2",
           "Cytoglobin",
           "Crassostrea gigas",
           "Crassostrea",
           2.34885314
          ],
          [
           -1,
           7,
           4,
           7,
           "Uncharacterized protein",
           "Uncharacterized",
           "Lottia gigantea",
           "Lottia",
           2.43279945
          ],
          [
           12,
           6,
           4,
           7,
           "Protein CBR GLB 7",
           "Protein",
           "Caenorhabditis briggsae",
           "Caenorhabditis",
           3.0159007999999994
          ],
          [
           12,
           6,
           4,
           7,
           "Uncharacterized protein",
           "Uncharacterized",
           "Haemonchus placei",
           "Haemonchus",
           3.29015469
          ],
          [
           -1,
           6,
           4,
           7,
           "Cre glb 30 protein",
           "Cre",
           "Ascaris suum",
           "Ascaris",
           3.1760076299999995
          ],
          [
           -1,
           -1,
           4,
           7,
           "Globin like protein 26",
           "Globin",
           "Trichinella pseudospiralis",
           "Trichinella",
           3.03825431
          ],
          [
           -1,
           6,
           4,
           7,
           "Uncharacterized protein",
           "Uncharacterized",
           "Ancylostoma ceylanicum",
           "Ancylostoma",
           3.20708282
          ]
         ],
         "hovertemplate": "<b>%{hovertext}</b><br><br>tree3=%{customdata[2]}<br>pm1=%{x}<br>pm2=%{y}<br>tree1=%{customdata[0]}<br>tree2=%{customdata[1]}<br>tree4=%{customdata[3]}<br>full_name=%{customdata[4]}<br>short_name=%{customdata[5]}<br>full_species=%{customdata[6]}<br>short_species=%{customdata[7]}<br>evo_distance=%{customdata[8]}<extra></extra>",
         "hovertext": [
          4,
          4,
          4,
          4,
          4,
          4,
          4,
          4
         ],
         "legendgroup": "4",
         "marker": {
          "color": "#ab63fa",
          "symbol": "circle"
         },
         "mode": "markers",
         "name": "4",
         "orientation": "v",
         "showlegend": true,
         "type": "scatter",
         "x": [
          0.72217804,
          0.720122,
          0.71049464,
          0.6766243,
          0.6500092,
          0.6898116,
          0.70571905,
          0.67432714
         ],
         "xaxis": "x",
         "y": [
          -0.5715952,
          -0.5512828,
          -0.5363266,
          -0.6011224,
          -0.62168986,
          -0.62157094,
          -0.60680085,
          -0.6193794
         ],
         "yaxis": "y"
        },
        {
         "customdata": [
          [
           -1,
           13,
           8,
           4,
           "Neuroglobin like",
           "Neuroglobin",
           "Scleropages formosus",
           "Scleropages",
           2.75087931
          ],
          [
           -1,
           -1,
           8,
           4,
           "Predicted protein",
           "Predicted",
           "Nematostella vectensis",
           "Nematostella",
           2.4344002
          ],
          [
           22,
           13,
           8,
           4,
           "Neuroglobin",
           "Neuroglobin",
           "Oryctolagus cuniculus",
           "Oryctolagus",
           3.722439879999999
          ],
          [
           22,
           13,
           8,
           4,
           "Neuroglobin",
           "Neuroglobin",
           "Alligator mississippiensis",
           "Alligator",
           3.58667483
          ],
          [
           21,
           13,
           8,
           4,
           "Neuroglobin",
           "Neuroglobin",
           "Danio rerio",
           "Danio",
           3.068778509999999
          ],
          [
           22,
           13,
           8,
           4,
           "Uncharacterized protein",
           "Uncharacterized",
           "Anolis carolinensis",
           "Anolis",
           3.673447579999999
          ],
          [
           22,
           13,
           8,
           4,
           "Uncharacterized protein",
           "Uncharacterized",
           "Lepisosteus oculatus",
           "Lepisosteus",
           3.147542819999999
          ],
          [
           21,
           13,
           8,
           4,
           "Neuroglobin 1",
           "Neuroglobin",
           "Salmo salar",
           "Salmo",
           3.094649499999999
          ],
          [
           22,
           13,
           8,
           4,
           "Neuroglobin",
           "Neuroglobin",
           "Amazona aestiva",
           "Amazona",
           3.684650899999999
          ],
          [
           21,
           13,
           8,
           4,
           "Neuroglobin",
           "Neuroglobin",
           "Chaenocephalus aceratus",
           "Chaenocephalus",
           3.048452869999999
          ],
          [
           22,
           13,
           8,
           4,
           "Uncharacterized protein",
           "Uncharacterized",
           "Ornithorhynchus anatinus",
           "Ornithorhynchus",
           3.630371559999999
          ],
          [
           22,
           13,
           8,
           4,
           "Uncharacterized protein",
           "Uncharacterized",
           "Sarcophilus harrisii",
           "Sarcophilus",
           3.563486359999999
          ],
          [
           22,
           13,
           8,
           4,
           "Uncharacterized protein",
           "Uncharacterized",
           "Anas platyrhynchos",
           "Anas",
           3.747842649999999
          ],
          [
           22,
           13,
           8,
           4,
           "Neuroglobin",
           "Neuroglobin",
           "Gallus gallus",
           "Gallus",
           3.679641069999999
          ],
          [
           21,
           13,
           8,
           4,
           "Neuroglobin (Fragment)",
           "Neuroglobin",
           "Fundulus heteroclitus",
           "Fundulus",
           3.1009386899999987
          ]
         ],
         "hovertemplate": "<b>%{hovertext}</b><br><br>tree3=%{customdata[2]}<br>pm1=%{x}<br>pm2=%{y}<br>tree1=%{customdata[0]}<br>tree2=%{customdata[1]}<br>tree4=%{customdata[3]}<br>full_name=%{customdata[4]}<br>short_name=%{customdata[5]}<br>full_species=%{customdata[6]}<br>short_species=%{customdata[7]}<br>evo_distance=%{customdata[8]}<extra></extra>",
         "hovertext": [
          8,
          8,
          8,
          8,
          8,
          8,
          8,
          8,
          8,
          8,
          8,
          8,
          8,
          8,
          8
         ],
         "legendgroup": "8",
         "marker": {
          "color": "#FFA15A",
          "symbol": "circle"
         },
         "mode": "markers",
         "name": "8",
         "orientation": "v",
         "showlegend": true,
         "type": "scatter",
         "x": [
          0.15956612,
          -0.06429728,
          0.40466863,
          0.40354612,
          0.15567842,
          0.4016674,
          0.11166578,
          0.14698173,
          0.39613724,
          0.13860875,
          0.4046949,
          0.40401745,
          0.40398443,
          0.3988896,
          0.17194505
         ],
         "xaxis": "x",
         "y": [
          -0.79772353,
          -0.78342825,
          -0.45434758,
          -0.45065728,
          -0.8312912,
          -0.44359428,
          -0.837803,
          -0.85988593,
          -0.4553472,
          -0.84533674,
          -0.4547211,
          -0.44962534,
          -0.45308134,
          -0.45833352,
          -0.8484835
         ],
         "yaxis": "y"
        },
        {
         "customdata": [
          [
           -1,
           23,
           14,
           6,
           "Globin",
           "Globin",
           "Branchiostoma floridae",
           "Branchiostoma",
           2.1325129
          ],
          [
           34,
           23,
           14,
           6,
           "Globin",
           "Globin",
           "Branchiostoma floridae",
           "Branchiostoma",
           2.16645269
          ],
          [
           33,
           24,
           14,
           6,
           "Uncharacterized protein",
           "Uncharacterized",
           "Ciona savignyi",
           "Ciona",
           2.80514043
          ],
          [
           33,
           24,
           14,
           6,
           "Uncharacterized protein",
           "Uncharacterized",
           "Ciona intestinalis",
           "Ciona",
           2.81068422
          ],
          [
           33,
           24,
           14,
           6,
           "Globin",
           "Globin",
           "Ciona intestinalis",
           "Ciona",
           2.83829804
          ],
          [
           33,
           24,
           14,
           6,
           "Uncharacterized protein",
           "Uncharacterized",
           "Ciona savignyi",
           "Ciona",
           2.96556729
          ],
          [
           35,
           24,
           14,
           6,
           "Uncharacterized protein",
           "Uncharacterized",
           "Ciona savignyi",
           "Ciona",
           2.65847977
          ],
          [
           35,
           24,
           14,
           6,
           "Globin",
           "Globin",
           "Ciona intestinalis",
           "Ciona",
           2.60884268
          ],
          [
           34,
           23,
           14,
           6,
           "Putative uncharacterized protein",
           "Putative",
           "Branchiostoma floridae",
           "Branchiostoma",
           2.37973605
          ],
          [
           34,
           23,
           14,
           6,
           "Putative uncharacterized protein",
           "Putative",
           "Branchiostoma floridae",
           "Branchiostoma",
           2.38806056
          ],
          [
           -1,
           -1,
           14,
           6,
           "Neuroglobin like protein",
           "Neuroglobin",
           "Saccoglossus kowalevskii",
           "Saccoglossus",
           2.35972746
          ],
          [
           -1,
           24,
           14,
           6,
           "Globin",
           "Globin",
           "Ciona intestinalis",
           "Ciona",
           3.12906012
          ]
         ],
         "hovertemplate": "<b>%{hovertext}</b><br><br>tree3=%{customdata[2]}<br>pm1=%{x}<br>pm2=%{y}<br>tree1=%{customdata[0]}<br>tree2=%{customdata[1]}<br>tree4=%{customdata[3]}<br>full_name=%{customdata[4]}<br>short_name=%{customdata[5]}<br>full_species=%{customdata[6]}<br>short_species=%{customdata[7]}<br>evo_distance=%{customdata[8]}<extra></extra>",
         "hovertext": [
          14,
          14,
          14,
          14,
          14,
          14,
          14,
          14,
          14,
          14,
          14,
          14
         ],
         "legendgroup": "14",
         "marker": {
          "color": "#19d3f3",
          "symbol": "circle"
         },
         "mode": "markers",
         "name": "14",
         "orientation": "v",
         "showlegend": true,
         "type": "scatter",
         "x": [
          0.24703982,
          0.25158492,
          0.20837747,
          0.20299777,
          0.20949884,
          0.2190987,
          0.19420965,
          0.20527327,
          0.2422143,
          0.24190715,
          -0.359965,
          0.21917515
         ],
         "xaxis": "x",
         "y": [
          0.36477077,
          0.35767534,
          0.9257419,
          0.93109643,
          0.9186063,
          0.9183248,
          0.92118526,
          0.90482706,
          0.36148542,
          0.36122882,
          0.55897945,
          0.9306662
         ],
         "yaxis": "y"
        },
        {
         "customdata": [
          [
           -1,
           39,
           20,
           10,
           "Uncharacterized protein",
           "Uncharacterized",
           "Strongylocentrotus purpuratus",
           "Strongylocentrotus",
           1.75283422
          ],
          [
           -1,
           39,
           20,
           7,
           "Putative uncharacterized protein",
           "Putative",
           "Branchiostoma floridae",
           "Branchiostoma",
           1.93258564
          ],
          [
           -1,
           -1,
           20,
           7,
           "Putative uncharacterized protein",
           "Putative",
           "Trichoplax adhaerens",
           "Trichoplax",
           2.31619376
          ],
          [
           23,
           16,
           20,
           7,
           "Uncharacterized protein",
           "Uncharacterized",
           "Arion vulgaris",
           "Arion",
           2.60859124
          ],
          [
           -1,
           16,
           20,
           7,
           "Uncharacterized protein",
           "Uncharacterized",
           "Lottia gigantea",
           "Lottia",
           2.7304677
          ],
          [
           23,
           16,
           20,
           7,
           "Cytoglobin 1",
           "Cytoglobin",
           "Crassostrea gigas",
           "Crassostrea",
           2.85491961
          ],
          [
           23,
           16,
           20,
           7,
           "Uncharacterized protein",
           "Uncharacterized",
           "Lottia gigantea",
           "Lottia",
           2.73087099
          ]
         ],
         "hovertemplate": "<b>%{hovertext}</b><br><br>tree3=%{customdata[2]}<br>pm1=%{x}<br>pm2=%{y}<br>tree1=%{customdata[0]}<br>tree2=%{customdata[1]}<br>tree4=%{customdata[3]}<br>full_name=%{customdata[4]}<br>short_name=%{customdata[5]}<br>full_species=%{customdata[6]}<br>short_species=%{customdata[7]}<br>evo_distance=%{customdata[8]}<extra></extra>",
         "hovertext": [
          20,
          20,
          20,
          20,
          20,
          20,
          20
         ],
         "legendgroup": "20",
         "marker": {
          "color": "#FF6692",
          "symbol": "circle"
         },
         "mode": "markers",
         "name": "20",
         "orientation": "v",
         "showlegend": true,
         "type": "scatter",
         "x": [
          0.30527505,
          0.5199315,
          0.16307428,
          -0.081768245,
          -0.027646467,
          -0.079940334,
          -0.030414328
         ],
         "xaxis": "x",
         "y": [
          0.32188773,
          -0.039934464,
          -0.5993494,
          -0.53965193,
          -0.5079227,
          -0.5980604,
          -0.5784664
         ],
         "yaxis": "y"
        },
        {
         "customdata": [
          [
           -1,
           37,
           21,
           10,
           "Uncharacterized protein",
           "Uncharacterized",
           "Lutzomyia longipalpis",
           "Lutzomyia",
           1.94649826
          ],
          [
           47,
           36,
           21,
           10,
           "Putative hemoglobin like flavoprotein (Fragment)",
           "Hemoglobin",
           "Rhodnius neglectus",
           "Rhodnius",
           1.84627905
          ],
          [
           47,
           36,
           21,
           10,
           "Putative hemoglobin like flavoprotein (Fragment)",
           "Hemoglobin",
           "Triatoma infestans",
           "Triatoma",
           1.9043777
          ],
          [
           -1,
           37,
           21,
           10,
           "Uncharacterized protein",
           "Uncharacterized",
           "Glossina morsitans",
           "Glossina",
           2.01930981
          ]
         ],
         "hovertemplate": "<b>%{hovertext}</b><br><br>tree3=%{customdata[2]}<br>pm1=%{x}<br>pm2=%{y}<br>tree1=%{customdata[0]}<br>tree2=%{customdata[1]}<br>tree4=%{customdata[3]}<br>full_name=%{customdata[4]}<br>short_name=%{customdata[5]}<br>full_species=%{customdata[6]}<br>short_species=%{customdata[7]}<br>evo_distance=%{customdata[8]}<extra></extra>",
         "hovertext": [
          21,
          21,
          21,
          21
         ],
         "legendgroup": "21",
         "marker": {
          "color": "#B6E880",
          "symbol": "circle"
         },
         "mode": "markers",
         "name": "21",
         "orientation": "v",
         "showlegend": true,
         "type": "scatter",
         "x": [
          -0.23989767,
          -0.059940524,
          -0.21718875,
          -0.20059611
         ],
         "xaxis": "x",
         "y": [
          -0.00033746377,
          0.16698289,
          0.13488406,
          -0.010962719
         ],
         "yaxis": "y"
        },
        {
         "customdata": [
          [
           -1,
           -1,
           9,
           3,
           "Uncharacterized protein",
           "Uncharacterized",
           "Amphimedon queenslandica",
           "Amphimedon",
           2.52227159
          ],
          [
           14,
           10,
           9,
           3,
           "Uncharacterized protein",
           "Uncharacterized",
           "Strongylocentrotus purpuratus",
           "Strongylocentrotus",
           2.65354782
          ],
          [
           -1,
           -1,
           9,
           3,
           "Uncharacterized protein",
           "Uncharacterized",
           "Micromonas commoda",
           "Micromonas",
           2.70986541
          ],
          [
           14,
           10,
           9,
           3,
           "Uncharacterized protein",
           "Uncharacterized",
           "Strongylocentrotus purpuratus",
           "Strongylocentrotus",
           2.58692572
          ],
          [
           -1,
           10,
           9,
           3,
           "Uncharacterized protein",
           "Uncharacterized",
           "Strongylocentrotus purpuratus",
           "Strongylocentrotus",
           2.51919106
          ],
          [
           14,
           10,
           9,
           3,
           "Uncharacterized protein",
           "Uncharacterized",
           "Strongylocentrotus purpuratus",
           "Strongylocentrotus",
           2.27606469
          ],
          [
           14,
           10,
           9,
           3,
           "Uncharacterized protein",
           "Uncharacterized",
           "Strongylocentrotus purpuratus",
           "Strongylocentrotus",
           2.86747135
          ]
         ],
         "hovertemplate": "<b>%{hovertext}</b><br><br>tree3=%{customdata[2]}<br>pm1=%{x}<br>pm2=%{y}<br>tree1=%{customdata[0]}<br>tree2=%{customdata[1]}<br>tree4=%{customdata[3]}<br>full_name=%{customdata[4]}<br>short_name=%{customdata[5]}<br>full_species=%{customdata[6]}<br>short_species=%{customdata[7]}<br>evo_distance=%{customdata[8]}<extra></extra>",
         "hovertext": [
          9,
          9,
          9,
          9,
          9,
          9,
          9
         ],
         "legendgroup": "9",
         "marker": {
          "color": "#FF97FF",
          "symbol": "circle"
         },
         "mode": "markers",
         "name": "9",
         "orientation": "v",
         "showlegend": true,
         "type": "scatter",
         "x": [
          0.34858415,
          0.36094236,
          0.35672373,
          0.35438192,
          0.39904326,
          0.38413894,
          0.44247726
         ],
         "xaxis": "x",
         "y": [
          -0.35324904,
          -0.6883267,
          -0.61520815,
          -0.73068005,
          -0.7519672,
          -0.70700526,
          -0.715055
         ],
         "yaxis": "y"
        },
        {
         "customdata": [
          [
           18,
           14,
           10,
           4,
           "Cytoglobin 2",
           "Cytoglobin",
           "Crassostrea gigas",
           "Crassostrea",
           2.89814466
          ],
          [
           19,
           14,
           10,
           4,
           "Uncharacterized protein (Fragment)",
           "Uncharacterized",
           "Lottia gigantea",
           "Lottia",
           2.350108079999999
          ],
          [
           19,
           14,
           10,
           4,
           "Uncharacterized protein (Fragment)",
           "Uncharacterized",
           "Lottia gigantea",
           "Lottia",
           2.4627551299999992
          ],
          [
           -1,
           14,
           10,
           4,
           "Uncharacterized protein (Fragment)",
           "Uncharacterized",
           "Lottia gigantea",
           "Lottia",
           3.15607834
          ],
          [
           -1,
           14,
           10,
           4,
           "Uncharacterized protein",
           "Uncharacterized",
           "Capitella teleta",
           "Capitella",
           3.0766556599999992
          ],
          [
           17,
           12,
           10,
           4,
           "ACYPI001485 protein",
           "ACYPI001485",
           "Acyrthosiphon pisum",
           "Acyrthosiphon",
           2.696499399999999
          ],
          [
           19,
           14,
           10,
           4,
           "Uncharacterized protein",
           "Uncharacterized",
           "Lottia gigantea",
           "Lottia",
           2.6062900199999994
          ],
          [
           16,
           11,
           10,
           4,
           "GbX1",
           "GbX1",
           "Callorhinchus milii",
           "Callorhinchus",
           2.948089519999999
          ],
          [
           16,
           11,
           10,
           4,
           "GbX2",
           "GbX2",
           "Callorhinchus milii",
           "Callorhinchus",
           3.0123761099999995
          ],
          [
           16,
           11,
           10,
           4,
           "Chromosome 10 SCAF15019, whole genome shotgun sequence",
           "Chromosome",
           "Tetraodon nigroviridis",
           "Tetraodon",
           3.1074634799999994
          ],
          [
           16,
           11,
           10,
           4,
           "Cytoglobin 1",
           "Cytoglobin",
           "Chelonia mydas",
           "Chelonia",
           2.706756999999999
          ],
          [
           16,
           11,
           10,
           4,
           "Uncharacterized protein",
           "Uncharacterized",
           "Poecilia formosa",
           "Poecilia",
           3.0849746199999992
          ],
          [
           16,
           11,
           10,
           4,
           "Uncharacterized protein",
           "Uncharacterized",
           "Lepisosteus oculatus",
           "Lepisosteus",
           2.843704849999999
          ],
          [
           16,
           11,
           10,
           4,
           "Uncharacterized protein",
           "Uncharacterized",
           "Latimeria chalumnae",
           "Latimeria",
           2.74467532
          ],
          [
           16,
           11,
           10,
           4,
           "Xgb protein",
           "Xgb",
           "Danio rerio",
           "Danio",
           3.15932725
          ],
          [
           16,
           11,
           10,
           4,
           "Uncharacterized protein",
           "Uncharacterized",
           "Lepisosteus oculatus",
           "Lepisosteus",
           2.98219578
          ],
          [
           16,
           11,
           10,
           4,
           "Uncharacterized protein",
           "Uncharacterized",
           "Xenopus tropicalis",
           "Xenopus",
           3.07574532
          ],
          [
           16,
           11,
           10,
           4,
           "Cytoglobin 2",
           "Cytoglobin",
           "Ictalurus punctatus",
           "Ictalurus",
           3.15839468
          ],
          [
           16,
           11,
           10,
           4,
           "Uncharacterized protein",
           "Uncharacterized",
           "Oreochromis niloticus",
           "Oreochromis",
           3.245876129999999
          ],
          [
           16,
           11,
           10,
           4,
           "Uncharacterized protein",
           "Uncharacterized",
           "Oncorhynchus mykiss",
           "Oncorhynchus",
           3.104564709999999
          ],
          [
           16,
           11,
           10,
           4,
           "Uncharacterized protein",
           "Uncharacterized",
           "Oncorhynchus mykiss",
           "Oncorhynchus",
           3.152127119999999
          ],
          [
           16,
           11,
           10,
           4,
           "Neuroglobin like (Fragment)",
           "Neuroglobin",
           "Scleropages formosus",
           "Scleropages",
           3.024390219999999
          ],
          [
           17,
           12,
           10,
           4,
           "Globin D, coelomic, putative",
           "Globin",
           "Pediculus humanus",
           "Pediculus",
           2.749354739999999
          ],
          [
           -1,
           14,
           10,
           4,
           "Neuroglobin",
           "Neuroglobin",
           "Daphnia magna",
           "Daphnia",
           2.620574789999999
          ],
          [
           19,
           14,
           10,
           4,
           "Neuroglobin 1",
           "Neuroglobin",
           "Crassostrea gigas",
           "Crassostrea",
           2.4302546899999995
          ],
          [
           19,
           14,
           10,
           4,
           "Uncharacterized protein",
           "Uncharacterized",
           "Arion vulgaris",
           "Arion",
           2.53586098
          ],
          [
           19,
           14,
           10,
           4,
           "Uncharacterized protein",
           "Uncharacterized",
           "Octopus bimaculoides",
           "Octopus",
           2.550460389999999
          ],
          [
           -1,
           14,
           10,
           4,
           "Uncharacterized protein",
           "Uncharacterized",
           "Capitella teleta",
           "Capitella",
           3.0074926799999995
          ],
          [
           18,
           14,
           10,
           4,
           "Nacrein like protein F",
           "Nacrein",
           "Crassostrea gigas",
           "Crassostrea",
           3.01650571
          ],
          [
           -1,
           12,
           10,
           4,
           "Uncharacterized protein",
           "Uncharacterized",
           "Lepeophtheirus salmonis",
           "Lepeophtheirus",
           3.34308881
          ],
          [
           -1,
           12,
           10,
           4,
           "Neuroglobinlike [Maylandia zebra]",
           "Neuroglobin",
           "Lepeophtheirus salmonis",
           "Lepeophtheirus",
           3.308708769999999
          ]
         ],
         "hovertemplate": "<b>%{hovertext}</b><br><br>tree3=%{customdata[2]}<br>pm1=%{x}<br>pm2=%{y}<br>tree1=%{customdata[0]}<br>tree2=%{customdata[1]}<br>tree4=%{customdata[3]}<br>full_name=%{customdata[4]}<br>short_name=%{customdata[5]}<br>full_species=%{customdata[6]}<br>short_species=%{customdata[7]}<br>evo_distance=%{customdata[8]}<extra></extra>",
         "hovertext": [
          10,
          10,
          10,
          10,
          10,
          10,
          10,
          10,
          10,
          10,
          10,
          10,
          10,
          10,
          10,
          10,
          10,
          10,
          10,
          10,
          10,
          10,
          10,
          10,
          10,
          10,
          10,
          10,
          10,
          10,
          10
         ],
         "legendgroup": "10",
         "marker": {
          "color": "#FECB52",
          "symbol": "circle"
         },
         "mode": "markers",
         "name": "10",
         "orientation": "v",
         "showlegend": true,
         "type": "scatter",
         "x": [
          -0.4094176,
          -0.38088372,
          -0.33185384,
          -0.42276618,
          -0.3885465,
          -0.32715634,
          -0.37789896,
          -0.6133282,
          -0.62743527,
          -0.65716875,
          -0.62161374,
          -0.6376936,
          -0.615293,
          -0.59973484,
          -0.6317619,
          -0.61956733,
          -0.64996034,
          -0.64827895,
          -0.5775923,
          -0.626978,
          -0.6413394,
          -0.60765916,
          -0.35467094,
          -0.315975,
          -0.3610299,
          -0.37676615,
          -0.3660182,
          -0.34671497,
          -0.4172054,
          -0.3857084,
          -0.4635315
         ],
         "xaxis": "x",
         "y": [
          -0.7642285,
          -0.77562964,
          -0.7322137,
          -0.72653997,
          -0.72675097,
          -0.8125812,
          -0.74555016,
          -0.67338943,
          -0.69664013,
          -0.644275,
          -0.6864992,
          -0.64731973,
          -0.6968173,
          -0.695738,
          -0.6619297,
          -0.6576517,
          -0.66974676,
          -0.65216523,
          -0.65456665,
          -0.6406071,
          -0.6261754,
          -0.6307527,
          -0.81280935,
          -0.78342974,
          -0.7526863,
          -0.692458,
          -0.7742536,
          -0.76404274,
          -0.78284705,
          -0.81764334,
          -0.7617729
         ],
         "yaxis": "y"
        },
        {
         "customdata": [
          [
           29,
           20,
           12,
           5,
           "Cytoglobin b",
           "Cytoglobin",
           "Xenopus laevis",
           "Xenopus",
           2.2875242
          ],
          [
           29,
           20,
           12,
           5,
           "Uncharacterized protein",
           "Uncharacterized",
           "Oreochromis niloticus",
           "Oreochromis",
           2.19807532
          ],
          [
           29,
           20,
           12,
           5,
           "Cytoglobin",
           "Cytoglobin",
           "Nothobranchius korthausae",
           "Nothobranchius",
           2.2776364
          ],
          [
           28,
           20,
           12,
           5,
           "Uncharacterized protein (Fragment)",
           "Uncharacterized",
           "Gasterosteus aculeatus",
           "Gasterosteus",
           2.2892364899999995
          ],
          [
           29,
           20,
           12,
           5,
           "Cytoglobin",
           "Cytoglobin",
           "Bos mutus",
           "Bos",
           2.42091472
          ],
          [
           29,
           20,
           12,
           5,
           "Cytoglobin 1",
           "Cytoglobin",
           "Iguana iguana",
           "Iguana",
           2.26895595
          ],
          [
           28,
           20,
           12,
           5,
           "Cytoglobin 1",
           "Cytoglobin",
           "Oryzias latipes",
           "Oryzias",
           2.25311924
          ],
          [
           29,
           20,
           12,
           5,
           "Uncharacterized protein",
           "Uncharacterized",
           "Anas platyrhynchos",
           "Anas",
           2.24009126
          ],
          [
           28,
           20,
           12,
           5,
           "Uncharacterized protein",
           "Uncharacterized",
           "Tetraodon nigroviridis",
           "Tetraodon",
           2.4499165100000004
          ],
          [
           28,
           20,
           12,
           5,
           "Uncharacterized protein (Fragment)",
           "Uncharacterized",
           "Takifugu rubripes",
           "Takifugu",
           2.4839830600000004
          ],
          [
           29,
           20,
           12,
           5,
           "Cytoglobin 2",
           "Cytoglobin",
           "Tetraodon nigroviridis",
           "Tetraodon",
           2.23168579
          ],
          [
           29,
           20,
           12,
           5,
           "Uncharacterized protein",
           "Uncharacterized",
           "Tetraodon nigroviridis",
           "Tetraodon",
           2.36374552
          ],
          [
           28,
           20,
           12,
           5,
           "Uncharacterized protein",
           "Uncharacterized",
           "Xiphophorus maculatus",
           "Xiphophorus",
           2.2426578000000004
          ],
          [
           28,
           20,
           12,
           5,
           "Cytoglobin 1",
           "Cytoglobin",
           "Larimichthys crocea",
           "Larimichthys",
           2.27502112
          ],
          [
           29,
           20,
           12,
           5,
           "Uncharacterized protein",
           "Uncharacterized",
           "Oncorhynchus mykiss",
           "Oncorhynchus",
           2.20579096
          ],
          [
           28,
           20,
           12,
           5,
           "Cytoglobin 1",
           "Cytoglobin",
           "Nothobranchius pienaari",
           "Nothobranchius",
           2.2369473400000004
          ],
          [
           29,
           20,
           12,
           5,
           "Cytoglobin",
           "Cytoglobin",
           "Alligator mississippiensis",
           "Alligator",
           2.16168743
          ],
          [
           29,
           20,
           12,
           5,
           "Uncharacterized protein",
           "Uncharacterized",
           "Astyanax mexicanus",
           "Astyanax",
           2.05393176
          ],
          [
           29,
           20,
           12,
           5,
           "Uncharacterized protein",
           "Uncharacterized",
           "Latimeria chalumnae",
           "Latimeria",
           2.23058219
          ],
          [
           29,
           20,
           12,
           5,
           "Cytoglobin 2",
           "Cytoglobin",
           "Ictalurus punctatus",
           "Ictalurus",
           2.12180628
          ],
          [
           28,
           20,
           12,
           5,
           "Cytoglobin",
           "Cytoglobin",
           "Chaenocephalus aceratus",
           "Chaenocephalus",
           2.27395144
          ],
          [
           29,
           20,
           12,
           5,
           "Cygb2 protein",
           "Cygb2",
           "Danio rerio",
           "Danio",
           2.05149233
          ],
          [
           28,
           20,
           12,
           5,
           "Uncharacterized protein",
           "Uncharacterized",
           "Oreochromis niloticus",
           "Oreochromis",
           2.15346116
          ],
          [
           28,
           20,
           12,
           5,
           "Cytoglobin",
           "Cytoglobin",
           "Oncorhynchus mykiss",
           "Oncorhynchus",
           2.15784398
          ],
          [
           31,
           20,
           12,
           5,
           "Uncharacterized protein",
           "Uncharacterized",
           "Astyanax mexicanus",
           "Astyanax",
           2.18361902
          ],
          [
           31,
           20,
           12,
           5,
           "Cytoglobin 1",
           "Cytoglobin",
           "Cyprinus carpio",
           "Cyprinus",
           2.06025855
          ],
          [
           29,
           20,
           12,
           5,
           "Cytoglobin",
           "Cytoglobin",
           "Callorhinchus milii",
           "Callorhinchus",
           2.39273588
          ],
          [
           31,
           20,
           12,
           5,
           "Cytoglobin 1",
           "Cytoglobin",
           "Danio rerio",
           "Danio",
           2.16806595
          ],
          [
           31,
           20,
           12,
           5,
           "Cytoglobin 1",
           "Cytoglobin",
           "Ictalurus punctatus",
           "Ictalurus",
           2.19052877
          ],
          [
           -1,
           21,
           12,
           5,
           "Uncharacterized protein (Fragment)",
           "Uncharacterized",
           "Petromyzon marinus",
           "Petromyzon",
           2.23124498
          ],
          [
           30,
           21,
           12,
           5,
           "Hemoglobin 4",
           "Hemoglobin",
           "Lethenteron camtschaticum",
           "Lethenteron",
           2.45118652
          ],
          [
           30,
           21,
           12,
           5,
           "Uncharacterized protein",
           "Uncharacterized",
           "Petromyzon marinus",
           "Petromyzon",
           2.3065607
          ],
          [
           30,
           21,
           12,
           5,
           "Uncharacterized protein",
           "Uncharacterized",
           "Petromyzon marinus",
           "Petromyzon",
           2.36968937
          ],
          [
           29,
           20,
           12,
           5,
           "Cytoglobin (Fragment)",
           "Cytoglobin",
           "Fundulus heteroclitus",
           "Fundulus",
           2.23162917
          ],
          [
           28,
           20,
           12,
           5,
           "Cytoglobin (Fragment)",
           "Cytoglobin",
           "Fundulus heteroclitus",
           "Fundulus",
           2.29198432
          ],
          [
           29,
           20,
           12,
           5,
           "Inactive rhomboid protein 2",
           "Inactive",
           "Tupaia chinensis",
           "Tupaia",
           2.24573612
          ]
         ],
         "hovertemplate": "<b>%{hovertext}</b><br><br>tree3=%{customdata[2]}<br>pm1=%{x}<br>pm2=%{y}<br>tree1=%{customdata[0]}<br>tree2=%{customdata[1]}<br>tree4=%{customdata[3]}<br>full_name=%{customdata[4]}<br>short_name=%{customdata[5]}<br>full_species=%{customdata[6]}<br>short_species=%{customdata[7]}<br>evo_distance=%{customdata[8]}<extra></extra>",
         "hovertext": [
          12,
          12,
          12,
          12,
          12,
          12,
          12,
          12,
          12,
          12,
          12,
          12,
          12,
          12,
          12,
          12,
          12,
          12,
          12,
          12,
          12,
          12,
          12,
          12,
          12,
          12,
          12,
          12,
          12,
          12,
          12,
          12,
          12,
          12,
          12,
          12
         ],
         "legendgroup": "12",
         "marker": {
          "color": "#636efa",
          "symbol": "circle"
         },
         "mode": "markers",
         "name": "12",
         "orientation": "v",
         "showlegend": true,
         "type": "scatter",
         "x": [
          0.8553348,
          0.82629895,
          0.7768109,
          0.5152056,
          0.86770874,
          0.8854192,
          0.55398893,
          0.8701561,
          0.53318876,
          0.49584118,
          0.7931148,
          0.8122256,
          0.51944596,
          0.58146226,
          0.8102281,
          0.56921935,
          0.8815053,
          0.7982037,
          0.8735354,
          0.74326444,
          0.54599226,
          0.7867663,
          0.5441451,
          0.5774868,
          0.5554493,
          0.6797623,
          0.8706726,
          0.69652057,
          0.6168757,
          0.5583765,
          0.5511934,
          0.5114705,
          0.49104568,
          0.8054454,
          0.49793085,
          0.88235366
         ],
         "xaxis": "x",
         "y": [
          0.19305892,
          0.25807682,
          0.26797533,
          0.3484357,
          0.16636163,
          0.21261805,
          0.33696735,
          0.197347,
          0.32580945,
          0.29942867,
          0.250674,
          0.28397393,
          0.39742085,
          0.35490298,
          0.24855325,
          0.41355217,
          0.20091502,
          0.18975794,
          0.22288285,
          0.23848107,
          0.35857597,
          0.21101756,
          0.3872357,
          0.38353154,
          0.25342914,
          0.16290851,
          0.24282478,
          0.21192934,
          0.24241857,
          0.51294124,
          0.52581877,
          0.51193434,
          0.54005724,
          0.2699349,
          0.37657386,
          0.17893827
         ],
         "yaxis": "y"
        },
        {
         "customdata": [
          [
           -1,
           18,
           13,
           5,
           "Uncharacterized protein",
           "Uncharacterized",
           "Lepisosteus oculatus",
           "Lepisosteus",
           2.35310711
          ],
          [
           27,
           19,
           13,
           5,
           "Hemoglobin subunit alpha",
           "Hemoglobin",
           "Cavia porcellus",
           "Cavia",
           2.68180205
          ],
          [
           27,
           19,
           13,
           5,
           "Hemoglobin subunit alpha 2",
           "Hemoglobin",
           "Scalopus aquaticus",
           "Scalopus",
           2.59465681
          ],
          [
           26,
           19,
           13,
           5,
           "Uncharacterized protein",
           "Uncharacterized",
           "Neotoma lepida",
           "Neotoma",
           2.63834495
          ],
          [
           25,
           18,
           13,
           5,
           "Globin Y",
           "Globin",
           "Callorhinchus milii",
           "Callorhinchus",
           2.51505937
          ],
          [
           25,
           18,
           13,
           5,
           "Uncharacterized protein",
           "Uncharacterized",
           "Latimeria chalumnae",
           "Latimeria",
           2.29929786
          ],
          [
           24,
           18,
           13,
           5,
           "Uncharacterized protein",
           "Uncharacterized",
           "Xenopus tropicalis",
           "Xenopus",
           2.51423061
          ],
          [
           24,
           18,
           13,
           5,
           "Globin Y",
           "Globin",
           "Xenopus laevis",
           "Xenopus",
           2.4560224799999992
          ],
          [
           -1,
           18,
           13,
           5,
           "Uncharacterized protein",
           "Uncharacterized",
           "Pelodiscus sinensis",
           "Pelodiscus",
           2.69837249
          ],
          [
           26,
           19,
           13,
           5,
           "Hemoglobin subunit rho",
           "Hemoglobin",
           "Alligator mississippiensis",
           "Alligator",
           2.98389637
          ],
          [
           26,
           19,
           13,
           5,
           "Uncharacterized protein",
           "Uncharacterized",
           "Nomascus leucogenys",
           "Nomascus",
           2.77009221
          ]
         ],
         "hovertemplate": "<b>%{hovertext}</b><br><br>tree3=%{customdata[2]}<br>pm1=%{x}<br>pm2=%{y}<br>tree1=%{customdata[0]}<br>tree2=%{customdata[1]}<br>tree4=%{customdata[3]}<br>full_name=%{customdata[4]}<br>short_name=%{customdata[5]}<br>full_species=%{customdata[6]}<br>short_species=%{customdata[7]}<br>evo_distance=%{customdata[8]}<extra></extra>",
         "hovertext": [
          13,
          13,
          13,
          13,
          13,
          13,
          13,
          13,
          13,
          13,
          13
         ],
         "legendgroup": "13",
         "marker": {
          "color": "#EF553B",
          "symbol": "circle"
         },
         "mode": "markers",
         "name": "13",
         "orientation": "v",
         "showlegend": true,
         "type": "scatter",
         "x": [
          0.77431744,
          0.7750499,
          0.77276045,
          0.794864,
          0.76410085,
          0.75673264,
          0.74302036,
          0.75630754,
          0.7651598,
          0.79006916,
          0.790941
         ],
         "xaxis": "x",
         "y": [
          0.54657644,
          0.49860126,
          0.4756592,
          0.47150928,
          0.54839474,
          0.55948746,
          0.5556658,
          0.54376066,
          0.56351614,
          0.50724465,
          0.4940823
         ],
         "yaxis": "y"
        },
        {
         "customdata": [
          [
           -1,
           -1,
           6,
           3,
           "Globin",
           "Globin",
           "Gemmatirosa kalamazoonesis",
           "Gemmatirosa",
           2.9048387
          ],
          [
           -1,
           9,
           6,
           3,
           "Globin",
           "Globin",
           "Gemmatirosa kalamazoonesis",
           "Gemmatirosa",
           3.0073288499999995
          ],
          [
           -1,
           9,
           6,
           3,
           "Hemin receptor",
           "Hemin",
           "Halothiobacillus sp.",
           "Halothiobacillus",
           2.5347764
          ],
          [
           15,
           8,
           6,
           3,
           "ARAD1D45562p",
           "ARAD1D45562p",
           "Blastobotrys adeninivorans",
           "Blastobotrys",
           3.65177433
          ],
          [
           15,
           8,
           6,
           3,
           "CYFA0S05e02454g1_1",
           "CYFA0S05e02454g1_1",
           "Cyberlindnera fabianii",
           "Cyberlindnera",
           4.11857393
          ]
         ],
         "hovertemplate": "<b>%{hovertext}</b><br><br>tree3=%{customdata[2]}<br>pm1=%{x}<br>pm2=%{y}<br>tree1=%{customdata[0]}<br>tree2=%{customdata[1]}<br>tree4=%{customdata[3]}<br>full_name=%{customdata[4]}<br>short_name=%{customdata[5]}<br>full_species=%{customdata[6]}<br>short_species=%{customdata[7]}<br>evo_distance=%{customdata[8]}<extra></extra>",
         "hovertext": [
          6,
          6,
          6,
          6,
          6
         ],
         "legendgroup": "6",
         "marker": {
          "color": "#00cc96",
          "symbol": "circle"
         },
         "mode": "markers",
         "name": "6",
         "orientation": "v",
         "showlegend": true,
         "type": "scatter",
         "x": [
          0.30430955,
          0.23441741,
          0.2980426,
          0.27318528,
          0.2786789
         ],
         "xaxis": "x",
         "y": [
          -0.7714114,
          -0.7621466,
          -0.7183396,
          -0.802817,
          -0.7688252
         ],
         "yaxis": "y"
        },
        {
         "customdata": [
          [
           -1,
           15,
           7,
           4,
           "Predicted protein",
           "Predicted",
           "Nematostella vectensis",
           "Nematostella",
           3.06309082
          ],
          [
           20,
           15,
           7,
           4,
           "Predicted protein",
           "Predicted",
           "Nematostella vectensis",
           "Nematostella",
           2.69558275
          ],
          [
           -1,
           15,
           7,
           4,
           "Predicted protein",
           "Predicted",
           "Nematostella vectensis",
           "Nematostella",
           2.74661692
          ],
          [
           20,
           15,
           7,
           4,
           "Predicted protein",
           "Predicted",
           "Nematostella vectensis",
           "Nematostella",
           2.46698831
          ]
         ],
         "hovertemplate": "<b>%{hovertext}</b><br><br>tree3=%{customdata[2]}<br>pm1=%{x}<br>pm2=%{y}<br>tree1=%{customdata[0]}<br>tree2=%{customdata[1]}<br>tree4=%{customdata[3]}<br>full_name=%{customdata[4]}<br>short_name=%{customdata[5]}<br>full_species=%{customdata[6]}<br>short_species=%{customdata[7]}<br>evo_distance=%{customdata[8]}<extra></extra>",
         "hovertext": [
          7,
          7,
          7,
          7
         ],
         "legendgroup": "7",
         "marker": {
          "color": "#ab63fa",
          "symbol": "circle"
         },
         "mode": "markers",
         "name": "7",
         "orientation": "v",
         "showlegend": true,
         "type": "scatter",
         "x": [
          -0.16341884,
          -0.15462965,
          -0.15899871,
          -0.09037536
         ],
         "xaxis": "x",
         "y": [
          -0.7797838,
          -0.70349777,
          -0.735858,
          -0.66923165
         ],
         "yaxis": "y"
        },
        {
         "customdata": [
          [
           43,
           31,
           17,
           10,
           "Globin 2 A chain",
           "Globin",
           "Anadara inaequivalvis",
           "Anadara",
           2.93935263
          ],
          [
           -1,
           -1,
           17,
           10,
           "Nerve hemoglobin",
           "Hemoglobin",
           "Spisula solidissima",
           "Spisula",
           2.92864342
          ],
          [
           -1,
           31,
           17,
           10,
           "Hemoglobin (Heterodimeric)",
           "Hemoglobin",
           "Barbatia virescens",
           "Barbatia",
           2.80988922
          ],
          [
           43,
           31,
           17,
           10,
           "Globin, minor",
           "Globin,",
           "Anadara trapezia",
           "Anadara",
           3.2788812000000003
          ],
          [
           43,
           31,
           17,
           10,
           "Globin 2 B chain",
           "Globin",
           "Anadara inaequivalvis",
           "Anadara",
           3.13812794
          ],
          [
           -1,
           -1,
           17,
           10,
           "Hemoglobin II",
           "Hemoglobin",
           "Phacoides pectinatus",
           "Phacoides",
           2.9455253599999995
          ],
          [
           44,
           30,
           17,
           10,
           "Two domain chain of the polymeric hemoglobin (Intracellular)",
           "Hemoglobin",
           "Barbatia lima",
           "Barbatia",
           2.72130571
          ],
          [
           44,
           30,
           17,
           10,
           "Hemoglobin (2 domain)",
           "Hemoglobin",
           "Barbatia lima",
           "Barbatia",
           2.73232709
          ]
         ],
         "hovertemplate": "<b>%{hovertext}</b><br><br>tree3=%{customdata[2]}<br>pm1=%{x}<br>pm2=%{y}<br>tree1=%{customdata[0]}<br>tree2=%{customdata[1]}<br>tree4=%{customdata[3]}<br>full_name=%{customdata[4]}<br>short_name=%{customdata[5]}<br>full_species=%{customdata[6]}<br>short_species=%{customdata[7]}<br>evo_distance=%{customdata[8]}<extra></extra>",
         "hovertext": [
          17,
          17,
          17,
          17,
          17,
          17,
          17,
          17
         ],
         "legendgroup": "17",
         "marker": {
          "color": "#FFA15A",
          "symbol": "circle"
         },
         "mode": "markers",
         "name": "17",
         "orientation": "v",
         "showlegend": true,
         "type": "scatter",
         "x": [
          -0.77115667,
          -0.684534,
          -0.76839805,
          -0.75573796,
          -0.7553897,
          -0.11695754,
          -0.73697394,
          -0.74559885
         ],
         "xaxis": "x",
         "y": [
          -0.21380375,
          -0.24525695,
          -0.16961363,
          -0.23292732,
          -0.21961208,
          0.69810885,
          -0.19977048,
          -0.19008307
         ],
         "yaxis": "y"
        },
        {
         "customdata": [
          [
           2,
           1,
           2,
           1,
           "Globin 2",
           "Globin",
           "Chironomus riparius",
           "Chironomus",
           2.70002825
          ],
          [
           1,
           1,
           2,
           1,
           "Globin",
           "Globin",
           "Polypedilum nubifer",
           "Polypedilum",
           2.36102778
          ],
          [
           1,
           1,
           2,
           1,
           "Globin",
           "Globin",
           "Polypedilum vanderplanki",
           "Polypedilum",
           2.43793183
          ],
          [
           3,
           1,
           2,
           1,
           "Globin",
           "Globin",
           "Polypedilum vanderplanki",
           "Polypedilum",
           2.2183017099999995
          ],
          [
           2,
           1,
           2,
           1,
           "Globin",
           "Globin",
           "Polypedilum nubifer",
           "Polypedilum",
           2.47503634
          ],
          [
           3,
           1,
           2,
           1,
           "Globin",
           "Globin",
           "Polypedilum nubifer",
           "Polypedilum",
           2.35802433
          ],
          [
           3,
           1,
           2,
           1,
           "Globin",
           "Globin",
           "Polypedilum vanderplanki",
           "Polypedilum",
           2.28362716
          ],
          [
           3,
           1,
           2,
           1,
           "Globin 11",
           "Globin",
           "Chironomus riparius",
           "Chironomus",
           2.29971074
          ],
          [
           1,
           1,
           2,
           1,
           "ORF E protein",
           "ORF",
           "Chironomus tentans",
           "Chironomus",
           2.85858686
          ],
          [
           1,
           1,
           2,
           1,
           "Globin",
           "Globin",
           "Polypedilum nubifer",
           "Polypedilum",
           2.56719369
          ],
          [
           1,
           1,
           2,
           1,
           "Globin",
           "Globin",
           "Polypedilum nubifer",
           "Polypedilum",
           2.57670915
          ],
          [
           -1,
           -1,
           2,
           1,
           "Globin",
           "Globin",
           "Nerita albicilla",
           "Nerita",
           2.08733768
          ]
         ],
         "hovertemplate": "<b>%{hovertext}</b><br><br>tree3=%{customdata[2]}<br>pm1=%{x}<br>pm2=%{y}<br>tree1=%{customdata[0]}<br>tree2=%{customdata[1]}<br>tree4=%{customdata[3]}<br>full_name=%{customdata[4]}<br>short_name=%{customdata[5]}<br>full_species=%{customdata[6]}<br>short_species=%{customdata[7]}<br>evo_distance=%{customdata[8]}<extra></extra>",
         "hovertext": [
          2,
          2,
          2,
          2,
          2,
          2,
          2,
          2,
          2,
          2,
          2,
          2
         ],
         "legendgroup": "2",
         "marker": {
          "color": "#19d3f3",
          "symbol": "circle"
         },
         "mode": "markers",
         "name": "2",
         "orientation": "v",
         "showlegend": true,
         "type": "scatter",
         "x": [
          -0.34997284,
          -0.3760583,
          -0.36735848,
          -0.35985503,
          -0.36074272,
          -0.38952965,
          -0.3775834,
          -0.3926215,
          -0.3878143,
          -0.3765685,
          -0.36378667,
          0.06832369
         ],
         "xaxis": "x",
         "y": [
          0.84855556,
          0.8505573,
          0.85029066,
          0.8293572,
          0.85964507,
          0.83327734,
          0.83506584,
          0.84696084,
          0.8631999,
          0.8657094,
          0.86948264,
          0.6221861
         ],
         "yaxis": "y"
        },
        {
         "customdata": [
          [
           7,
           5,
           1,
           2,
           "Di domain hemoglobin",
           "Hemoglobin",
           "Daphnia magna",
           "Daphnia",
           2.95378198
          ],
          [
           7,
           5,
           1,
           2,
           "Putative uncharacterized protein",
           "Putative",
           "Daphnia pulex",
           "Daphnia",
           2.7632934700000003
          ],
          [
           7,
           5,
           1,
           2,
           "Putative uncharacterized protein",
           "Putative",
           "Daphnia pulex",
           "Daphnia",
           2.79767424
          ],
          [
           9,
           4,
           1,
           2,
           "Putative di domain hemoglobin",
           "Hemoglobin",
           "Daphnia magna",
           "Daphnia",
           1.84605186
          ],
          [
           9,
           4,
           1,
           2,
           "Putative di domain hemoglobin",
           "Hemoglobin",
           "Daphnia magna",
           "Daphnia",
           1.84634758
          ],
          [
           9,
           4,
           1,
           2,
           "Di domain hemoglobin (Fragment)",
           "Hemoglobin",
           "Daphnia magna",
           "Daphnia",
           1.75867537
          ],
          [
           9,
           4,
           1,
           2,
           "Di domain hemoglobin (Fragment)",
           "Hemoglobin",
           "Daphnia magna",
           "Daphnia",
           1.7849976899999995
          ],
          [
           9,
           4,
           1,
           2,
           "Putative di domain hemoglobin",
           "Hemoglobin",
           "Daphnia magna",
           "Daphnia",
           1.99097658
          ],
          [
           9,
           4,
           1,
           2,
           "Putative di domain hemoglobin (Fragment)",
           "Hemoglobin",
           "Daphnia magna",
           "Daphnia",
           1.89847506
          ],
          [
           9,
           4,
           1,
           2,
           "Putative di domain hemoglobin",
           "Hemoglobin",
           "Daphnia magna",
           "Daphnia",
           2.00307168
          ],
          [
           -1,
           5,
           1,
           2,
           "Di domain hemoglobin (Fragment)",
           "Hemoglobin",
           "Daphnia magna",
           "Daphnia",
           2.36856662
          ],
          [
           6,
           5,
           1,
           2,
           "Di domain hemoglobin",
           "Hemoglobin",
           "Daphnia magna",
           "Daphnia",
           3.08054532
          ],
          [
           9,
           4,
           1,
           2,
           "Putative uncharacterized protein",
           "Putative",
           "Daphnia pulex",
           "Daphnia",
           1.88554508
          ],
          [
           9,
           4,
           1,
           2,
           "Hemoglobin",
           "Hemoglobin",
           "Daphnia magna",
           "Daphnia",
           1.82335212
          ],
          [
           9,
           4,
           1,
           2,
           "Hemoglobin",
           "Hemoglobin",
           "Daphnia pulex",
           "Daphnia",
           1.85557538
          ],
          [
           9,
           4,
           1,
           2,
           "Hemoglobin",
           "Hemoglobin",
           "Daphnia pulex",
           "Daphnia",
           1.88942132
          ],
          [
           9,
           4,
           1,
           2,
           "Hemoglobin",
           "Hemoglobin",
           "Daphnia pulex",
           "Daphnia",
           1.91532281
          ],
          [
           9,
           4,
           1,
           2,
           "Di domain hemoglobin",
           "Hemoglobin",
           "Daphnia magna",
           "Daphnia",
           1.92797924
          ],
          [
           8,
           5,
           1,
           2,
           "Putative uncharacterized protein (Fragment)",
           "Putative",
           "Daphnia pulex",
           "Daphnia",
           2.34983516
          ],
          [
           8,
           5,
           1,
           2,
           "Uncharacterized protein (Fragment)",
           "Uncharacterized",
           "Daphnia magna",
           "Daphnia",
           2.22413281
          ],
          [
           9,
           4,
           1,
           2,
           "Putative di domain hemoglobin (Fragment)",
           "Hemoglobin",
           "Daphnia magna",
           "Daphnia",
           1.97351688
          ],
          [
           9,
           4,
           1,
           2,
           "Di domain hemoglobin",
           "Hemoglobin",
           "Daphnia magna",
           "Daphnia",
           2.01628845
          ],
          [
           6,
           5,
           1,
           2,
           "Di domain hemoglobin (Fragment)",
           "Hemoglobin",
           "Daphnia magna",
           "Daphnia",
           2.94537689
          ],
          [
           9,
           4,
           1,
           2,
           "Di domain hemoglobin like protein",
           "Hemoglobin",
           "Daphnia magna",
           "Daphnia",
           2.34751979
          ]
         ],
         "hovertemplate": "<b>%{hovertext}</b><br><br>tree3=%{customdata[2]}<br>pm1=%{x}<br>pm2=%{y}<br>tree1=%{customdata[0]}<br>tree2=%{customdata[1]}<br>tree4=%{customdata[3]}<br>full_name=%{customdata[4]}<br>short_name=%{customdata[5]}<br>full_species=%{customdata[6]}<br>short_species=%{customdata[7]}<br>evo_distance=%{customdata[8]}<extra></extra>",
         "hovertext": [
          1,
          1,
          1,
          1,
          1,
          1,
          1,
          1,
          1,
          1,
          1,
          1,
          1,
          1,
          1,
          1,
          1,
          1,
          1,
          1,
          1,
          1,
          1,
          1
         ],
         "legendgroup": "1",
         "marker": {
          "color": "#FF6692",
          "symbol": "circle"
         },
         "mode": "markers",
         "name": "1",
         "orientation": "v",
         "showlegend": true,
         "type": "scatter",
         "x": [
          -0.93081015,
          -0.934886,
          -0.93740606,
          -0.8216533,
          -0.80926436,
          -0.8395278,
          -0.859916,
          -0.8262062,
          -0.8502743,
          -0.8277879,
          -0.92981285,
          -0.9301818,
          -0.83952755,
          -0.87003523,
          -0.85933155,
          -0.8596644,
          -0.85967374,
          -0.8213097,
          -0.9147989,
          -0.9059588,
          -0.80149645,
          -0.8139879,
          -0.9360211,
          -0.8235939
         ],
         "xaxis": "x",
         "y": [
          0.25895524,
          0.2605512,
          0.25787947,
          0.24012373,
          0.2395131,
          0.23659752,
          0.27358818,
          0.18832484,
          0.19037175,
          0.20464091,
          0.25133663,
          0.26734242,
          0.2594096,
          0.24784608,
          0.24118069,
          0.23952265,
          0.24527386,
          0.2598982,
          0.23890363,
          0.25470203,
          0.27815115,
          0.26865646,
          0.26441753,
          0.29281005
         ],
         "yaxis": "y"
        },
        {
         "customdata": [
          [
           42,
           32,
           16,
           10,
           "Globin",
           "Globin",
           "Nassarius mutabilis",
           "Nassarius",
           2.69282831
          ],
          [
           41,
           32,
           16,
           10,
           "Uncharacterized protein",
           "Uncharacterized",
           "Lottia gigantea",
           "Lottia",
           2.30991023
          ],
          [
           41,
           32,
           16,
           10,
           "Uncharacterized protein",
           "Uncharacterized",
           "Lottia gigantea",
           "Lottia",
           2.3265049
          ],
          [
           42,
           32,
           16,
           10,
           "Globin",
           "Globin",
           "Cerithidea rhizophorarum",
           "Cerithidea",
           2.81440342
          ]
         ],
         "hovertemplate": "<b>%{hovertext}</b><br><br>tree3=%{customdata[2]}<br>pm1=%{x}<br>pm2=%{y}<br>tree1=%{customdata[0]}<br>tree2=%{customdata[1]}<br>tree4=%{customdata[3]}<br>full_name=%{customdata[4]}<br>short_name=%{customdata[5]}<br>full_species=%{customdata[6]}<br>short_species=%{customdata[7]}<br>evo_distance=%{customdata[8]}<extra></extra>",
         "hovertext": [
          16,
          16,
          16,
          16
         ],
         "legendgroup": "16",
         "marker": {
          "color": "#B6E880",
          "symbol": "circle"
         },
         "mode": "markers",
         "name": "16",
         "orientation": "v",
         "showlegend": true,
         "type": "scatter",
         "x": [
          -0.013284402,
          -0.049719665,
          -0.030311093,
          -0.029420536
         ],
         "xaxis": "x",
         "y": [
          0.69634575,
          0.6884073,
          0.67158467,
          0.6919934
         ],
         "yaxis": "y"
        },
        {
         "customdata": [
          [
           -1,
           -1,
           -1,
           8,
           "Globin (Fragment)",
           "Globin",
           "Operophtera brumata",
           "Operophtera",
           2.5920814199999995
          ],
          [
           -1,
           -1,
           -1,
           3,
           "Predicted protein",
           "Predicted",
           "Nematostella vectensis",
           "Nematostella",
           3.13699746
          ],
          [
           -1,
           -1,
           -1,
           2,
           "Putative di domain hemoglobin (Fragment)",
           "Hemoglobin",
           "Daphnia magna",
           "Daphnia",
           2.5254769
          ]
         ],
         "hovertemplate": "<b>%{hovertext}</b><br><br>tree3=%{customdata[2]}<br>pm1=%{x}<br>pm2=%{y}<br>tree1=%{customdata[0]}<br>tree2=%{customdata[1]}<br>tree4=%{customdata[3]}<br>full_name=%{customdata[4]}<br>short_name=%{customdata[5]}<br>full_species=%{customdata[6]}<br>short_species=%{customdata[7]}<br>evo_distance=%{customdata[8]}<extra></extra>",
         "hovertext": [
          -1,
          -1,
          -1
         ],
         "legendgroup": "-1",
         "marker": {
          "color": "#c7c7c7",
          "symbol": "circle"
         },
         "mode": "markers",
         "name": "-1",
         "orientation": "v",
         "showlegend": true,
         "type": "scatter",
         "x": [
          0.6694437,
          0.28598922,
          -0.67325866
         ],
         "xaxis": "x",
         "y": [
          0.42787853,
          -0.638278,
          0.31669864
         ],
         "yaxis": "y"
        },
        {
         "customdata": [
          [
           46,
           35,
           19,
           10,
           "Globin",
           "Globin",
           "Ancylostoma ceylanicum",
           "Ancylostoma",
           2.22981155
          ],
          [
           46,
           35,
           19,
           10,
           "Uncharacterized protein",
           "Uncharacterized",
           "Angiostrongylus costaricensis",
           "Angiostrongylus",
           2.13371016
          ],
          [
           46,
           35,
           19,
           10,
           "Globin",
           "Globin",
           "Necator americanus",
           "Necator",
           2.35159293
          ],
          [
           -1,
           -1,
           19,
           10,
           "Cytoglobin1like [Saccoglossus kowalevskii]",
           "Cytoglobin",
           "Lepeophtheirus salmonis",
           "Lepeophtheirus",
           2.17551995
          ]
         ],
         "hovertemplate": "<b>%{hovertext}</b><br><br>tree3=%{customdata[2]}<br>pm1=%{x}<br>pm2=%{y}<br>tree1=%{customdata[0]}<br>tree2=%{customdata[1]}<br>tree4=%{customdata[3]}<br>full_name=%{customdata[4]}<br>short_name=%{customdata[5]}<br>full_species=%{customdata[6]}<br>short_species=%{customdata[7]}<br>evo_distance=%{customdata[8]}<extra></extra>",
         "hovertext": [
          19,
          19,
          19,
          19
         ],
         "legendgroup": "19",
         "marker": {
          "color": "#FF97FF",
          "symbol": "circle"
         },
         "mode": "markers",
         "name": "19",
         "orientation": "v",
         "showlegend": true,
         "type": "scatter",
         "x": [
          0.1771768,
          0.19087087,
          0.14340493,
          -0.09120129
         ],
         "xaxis": "x",
         "y": [
          0.026194973,
          -0.032206587,
          -0.020453759,
          0.5282067
         ],
         "yaxis": "y"
        },
        {
         "customdata": [
          [
           32,
           22,
           11,
           5,
           "Hemoglobin (Fragment)",
           "Hemoglobin",
           "Biomphalaria glabrata",
           "Biomphalaria",
           3.48471231
          ],
          [
           32,
           22,
           11,
           5,
           "Uncharacterized protein",
           "Uncharacterized",
           "Biomphalaria glabrata",
           "Biomphalaria",
           3.63841564
          ],
          [
           32,
           22,
           11,
           5,
           "Uncharacterized protein",
           "Uncharacterized",
           "Biomphalaria glabrata",
           "Biomphalaria",
           3.38373079
          ],
          [
           32,
           22,
           11,
           5,
           "Haemoglobin type 1",
           "Hemoglobin",
           "Biomphalaria glabrata",
           "Biomphalaria",
           3.53221633
          ],
          [
           32,
           22,
           11,
           5,
           "Uncharacterized protein",
           "Uncharacterized",
           "Biomphalaria glabrata",
           "Biomphalaria",
           3.61489538
          ]
         ],
         "hovertemplate": "<b>%{hovertext}</b><br><br>tree3=%{customdata[2]}<br>pm1=%{x}<br>pm2=%{y}<br>tree1=%{customdata[0]}<br>tree2=%{customdata[1]}<br>tree4=%{customdata[3]}<br>full_name=%{customdata[4]}<br>short_name=%{customdata[5]}<br>full_species=%{customdata[6]}<br>short_species=%{customdata[7]}<br>evo_distance=%{customdata[8]}<extra></extra>",
         "hovertext": [
          11,
          11,
          11,
          11,
          11
         ],
         "legendgroup": "11",
         "marker": {
          "color": "#FECB52",
          "symbol": "circle"
         },
         "mode": "markers",
         "name": "11",
         "orientation": "v",
         "showlegend": true,
         "type": "scatter",
         "x": [
          0.37488005,
          0.35644192,
          0.40852156,
          0.38091102,
          0.39036348
         ],
         "xaxis": "x",
         "y": [
          0.7008402,
          0.7035803,
          0.6952444,
          0.7155513,
          0.6857397
         ],
         "yaxis": "y"
        },
        {
         "customdata": [
          [
           -1,
           25,
           15,
           8,
           "Metalloendopeptidase",
           "Metalloendopeptidase",
           "Globodera pallida",
           "Globodera",
           2.86594104
          ],
          [
           -1,
           25,
           15,
           8,
           "Uncharacterized protein",
           "Uncharacterized",
           "Strongyloides stercoralis",
           "Strongyloides",
           3.19295417
          ]
         ],
         "hovertemplate": "<b>%{hovertext}</b><br><br>tree3=%{customdata[2]}<br>pm1=%{x}<br>pm2=%{y}<br>tree1=%{customdata[0]}<br>tree2=%{customdata[1]}<br>tree4=%{customdata[3]}<br>full_name=%{customdata[4]}<br>short_name=%{customdata[5]}<br>full_species=%{customdata[6]}<br>short_species=%{customdata[7]}<br>evo_distance=%{customdata[8]}<extra></extra>",
         "hovertext": [
          15,
          15
         ],
         "legendgroup": "15",
         "marker": {
          "color": "#636efa",
          "symbol": "circle"
         },
         "mode": "markers",
         "name": "15",
         "orientation": "v",
         "showlegend": true,
         "type": "scatter",
         "x": [
          -0.46598935,
          -0.5094673
         ],
         "xaxis": "x",
         "y": [
          -0.60057074,
          -0.6859605
         ],
         "yaxis": "y"
        }
       ],
       "layout": {
        "font": {
         "size": 11
        },
        "height": 800,
        "legend": {
         "title": {
          "text": "tree3"
         },
         "tracegroupgap": 0
        },
        "plot_bgcolor": "rgba(0, 0, 0, 0)",
        "shapes": [
         {
          "line": {
           "color": "black",
           "dash": "dot"
          },
          "opacity": 0.15,
          "type": "circle",
          "x0": -0.47058823529411764,
          "x1": 0.47058823529411764,
          "y0": -0.47058823529411764,
          "y1": 0.47058823529411764
         },
         {
          "line": {
           "color": "black",
           "dash": "dot"
          },
          "opacity": 0.15,
          "type": "circle",
          "x0": -0.6447368421052633,
          "x1": 0.6447368421052633,
          "y0": -0.6447368421052633,
          "y1": 0.6447368421052633
         },
         {
          "line": {
           "color": "black",
           "dash": "dot"
          },
          "opacity": 0.15,
          "type": "circle",
          "x0": -0.7705382436260623,
          "x1": 0.7705382436260623,
          "y0": -0.7705382436260623,
          "y1": 0.7705382436260623
         },
         {
          "line": {
           "color": "black",
           "dash": "dot"
          },
          "opacity": 0.15,
          "type": "circle",
          "x0": -0.8557007125890737,
          "x1": 0.8557007125890737,
          "y0": -0.8557007125890737,
          "y1": 0.8557007125890737
         },
         {
          "line": {
           "color": "black",
           "dash": "dot"
          },
          "opacity": 0.15,
          "type": "circle",
          "x0": -0.9108474990827933,
          "x1": 0.9108474990827933,
          "y0": -0.9108474990827933,
          "y1": 0.9108474990827933
         },
         {
          "line": {
           "color": "black",
           "dash": "dot"
          },
          "opacity": 0.15,
          "type": "circle",
          "x0": -0.9455374041239167,
          "x1": 0.9455374041239167,
          "y0": -0.9455374041239167,
          "y1": 0.9455374041239167
         },
         {
          "line": {
           "color": "Black"
          },
          "type": "circle",
          "x0": -1,
          "x1": 1,
          "xref": "x",
          "y0": -1,
          "y1": 1,
          "yref": "y"
         },
         {
          "fillcolor": "Black",
          "line": {
           "color": "Black"
          },
          "type": "circle",
          "x0": -0.005,
          "x1": 0.005,
          "xref": "x",
          "y0": -0.005,
          "y1": 0.005,
          "yref": "y"
         }
        ],
        "template": {
         "data": {
          "bar": [
           {
            "error_x": {
             "color": "#2a3f5f"
            },
            "error_y": {
             "color": "#2a3f5f"
            },
            "marker": {
             "line": {
              "color": "#E5ECF6",
              "width": 0.5
             },
             "pattern": {
              "fillmode": "overlay",
              "size": 10,
              "solidity": 0.2
             }
            },
            "type": "bar"
           }
          ],
          "barpolar": [
           {
            "marker": {
             "line": {
              "color": "#E5ECF6",
              "width": 0.5
             },
             "pattern": {
              "fillmode": "overlay",
              "size": 10,
              "solidity": 0.2
             }
            },
            "type": "barpolar"
           }
          ],
          "carpet": [
           {
            "aaxis": {
             "endlinecolor": "#2a3f5f",
             "gridcolor": "white",
             "linecolor": "white",
             "minorgridcolor": "white",
             "startlinecolor": "#2a3f5f"
            },
            "baxis": {
             "endlinecolor": "#2a3f5f",
             "gridcolor": "white",
             "linecolor": "white",
             "minorgridcolor": "white",
             "startlinecolor": "#2a3f5f"
            },
            "type": "carpet"
           }
          ],
          "choropleth": [
           {
            "colorbar": {
             "outlinewidth": 0,
             "ticks": ""
            },
            "type": "choropleth"
           }
          ],
          "contour": [
           {
            "colorbar": {
             "outlinewidth": 0,
             "ticks": ""
            },
            "colorscale": [
             [
              0,
              "#0d0887"
             ],
             [
              0.1111111111111111,
              "#46039f"
             ],
             [
              0.2222222222222222,
              "#7201a8"
             ],
             [
              0.3333333333333333,
              "#9c179e"
             ],
             [
              0.4444444444444444,
              "#bd3786"
             ],
             [
              0.5555555555555556,
              "#d8576b"
             ],
             [
              0.6666666666666666,
              "#ed7953"
             ],
             [
              0.7777777777777778,
              "#fb9f3a"
             ],
             [
              0.8888888888888888,
              "#fdca26"
             ],
             [
              1,
              "#f0f921"
             ]
            ],
            "type": "contour"
           }
          ],
          "contourcarpet": [
           {
            "colorbar": {
             "outlinewidth": 0,
             "ticks": ""
            },
            "type": "contourcarpet"
           }
          ],
          "heatmap": [
           {
            "colorbar": {
             "outlinewidth": 0,
             "ticks": ""
            },
            "colorscale": [
             [
              0,
              "#0d0887"
             ],
             [
              0.1111111111111111,
              "#46039f"
             ],
             [
              0.2222222222222222,
              "#7201a8"
             ],
             [
              0.3333333333333333,
              "#9c179e"
             ],
             [
              0.4444444444444444,
              "#bd3786"
             ],
             [
              0.5555555555555556,
              "#d8576b"
             ],
             [
              0.6666666666666666,
              "#ed7953"
             ],
             [
              0.7777777777777778,
              "#fb9f3a"
             ],
             [
              0.8888888888888888,
              "#fdca26"
             ],
             [
              1,
              "#f0f921"
             ]
            ],
            "type": "heatmap"
           }
          ],
          "heatmapgl": [
           {
            "colorbar": {
             "outlinewidth": 0,
             "ticks": ""
            },
            "colorscale": [
             [
              0,
              "#0d0887"
             ],
             [
              0.1111111111111111,
              "#46039f"
             ],
             [
              0.2222222222222222,
              "#7201a8"
             ],
             [
              0.3333333333333333,
              "#9c179e"
             ],
             [
              0.4444444444444444,
              "#bd3786"
             ],
             [
              0.5555555555555556,
              "#d8576b"
             ],
             [
              0.6666666666666666,
              "#ed7953"
             ],
             [
              0.7777777777777778,
              "#fb9f3a"
             ],
             [
              0.8888888888888888,
              "#fdca26"
             ],
             [
              1,
              "#f0f921"
             ]
            ],
            "type": "heatmapgl"
           }
          ],
          "histogram": [
           {
            "marker": {
             "pattern": {
              "fillmode": "overlay",
              "size": 10,
              "solidity": 0.2
             }
            },
            "type": "histogram"
           }
          ],
          "histogram2d": [
           {
            "colorbar": {
             "outlinewidth": 0,
             "ticks": ""
            },
            "colorscale": [
             [
              0,
              "#0d0887"
             ],
             [
              0.1111111111111111,
              "#46039f"
             ],
             [
              0.2222222222222222,
              "#7201a8"
             ],
             [
              0.3333333333333333,
              "#9c179e"
             ],
             [
              0.4444444444444444,
              "#bd3786"
             ],
             [
              0.5555555555555556,
              "#d8576b"
             ],
             [
              0.6666666666666666,
              "#ed7953"
             ],
             [
              0.7777777777777778,
              "#fb9f3a"
             ],
             [
              0.8888888888888888,
              "#fdca26"
             ],
             [
              1,
              "#f0f921"
             ]
            ],
            "type": "histogram2d"
           }
          ],
          "histogram2dcontour": [
           {
            "colorbar": {
             "outlinewidth": 0,
             "ticks": ""
            },
            "colorscale": [
             [
              0,
              "#0d0887"
             ],
             [
              0.1111111111111111,
              "#46039f"
             ],
             [
              0.2222222222222222,
              "#7201a8"
             ],
             [
              0.3333333333333333,
              "#9c179e"
             ],
             [
              0.4444444444444444,
              "#bd3786"
             ],
             [
              0.5555555555555556,
              "#d8576b"
             ],
             [
              0.6666666666666666,
              "#ed7953"
             ],
             [
              0.7777777777777778,
              "#fb9f3a"
             ],
             [
              0.8888888888888888,
              "#fdca26"
             ],
             [
              1,
              "#f0f921"
             ]
            ],
            "type": "histogram2dcontour"
           }
          ],
          "mesh3d": [
           {
            "colorbar": {
             "outlinewidth": 0,
             "ticks": ""
            },
            "type": "mesh3d"
           }
          ],
          "parcoords": [
           {
            "line": {
             "colorbar": {
              "outlinewidth": 0,
              "ticks": ""
             }
            },
            "type": "parcoords"
           }
          ],
          "pie": [
           {
            "automargin": true,
            "type": "pie"
           }
          ],
          "scatter": [
           {
            "fillpattern": {
             "fillmode": "overlay",
             "size": 10,
             "solidity": 0.2
            },
            "type": "scatter"
           }
          ],
          "scatter3d": [
           {
            "line": {
             "colorbar": {
              "outlinewidth": 0,
              "ticks": ""
             }
            },
            "marker": {
             "colorbar": {
              "outlinewidth": 0,
              "ticks": ""
             }
            },
            "type": "scatter3d"
           }
          ],
          "scattercarpet": [
           {
            "marker": {
             "colorbar": {
              "outlinewidth": 0,
              "ticks": ""
             }
            },
            "type": "scattercarpet"
           }
          ],
          "scattergeo": [
           {
            "marker": {
             "colorbar": {
              "outlinewidth": 0,
              "ticks": ""
             }
            },
            "type": "scattergeo"
           }
          ],
          "scattergl": [
           {
            "marker": {
             "colorbar": {
              "outlinewidth": 0,
              "ticks": ""
             }
            },
            "type": "scattergl"
           }
          ],
          "scattermapbox": [
           {
            "marker": {
             "colorbar": {
              "outlinewidth": 0,
              "ticks": ""
             }
            },
            "type": "scattermapbox"
           }
          ],
          "scatterpolar": [
           {
            "marker": {
             "colorbar": {
              "outlinewidth": 0,
              "ticks": ""
             }
            },
            "type": "scatterpolar"
           }
          ],
          "scatterpolargl": [
           {
            "marker": {
             "colorbar": {
              "outlinewidth": 0,
              "ticks": ""
             }
            },
            "type": "scatterpolargl"
           }
          ],
          "scatterternary": [
           {
            "marker": {
             "colorbar": {
              "outlinewidth": 0,
              "ticks": ""
             }
            },
            "type": "scatterternary"
           }
          ],
          "surface": [
           {
            "colorbar": {
             "outlinewidth": 0,
             "ticks": ""
            },
            "colorscale": [
             [
              0,
              "#0d0887"
             ],
             [
              0.1111111111111111,
              "#46039f"
             ],
             [
              0.2222222222222222,
              "#7201a8"
             ],
             [
              0.3333333333333333,
              "#9c179e"
             ],
             [
              0.4444444444444444,
              "#bd3786"
             ],
             [
              0.5555555555555556,
              "#d8576b"
             ],
             [
              0.6666666666666666,
              "#ed7953"
             ],
             [
              0.7777777777777778,
              "#fb9f3a"
             ],
             [
              0.8888888888888888,
              "#fdca26"
             ],
             [
              1,
              "#f0f921"
             ]
            ],
            "type": "surface"
           }
          ],
          "table": [
           {
            "cells": {
             "fill": {
              "color": "#EBF0F8"
             },
             "line": {
              "color": "white"
             }
            },
            "header": {
             "fill": {
              "color": "#C8D4E3"
             },
             "line": {
              "color": "white"
             }
            },
            "type": "table"
           }
          ]
         },
         "layout": {
          "annotationdefaults": {
           "arrowcolor": "#2a3f5f",
           "arrowhead": 0,
           "arrowwidth": 1
          },
          "autotypenumbers": "strict",
          "coloraxis": {
           "colorbar": {
            "outlinewidth": 0,
            "ticks": ""
           }
          },
          "colorscale": {
           "diverging": [
            [
             0,
             "#8e0152"
            ],
            [
             0.1,
             "#c51b7d"
            ],
            [
             0.2,
             "#de77ae"
            ],
            [
             0.3,
             "#f1b6da"
            ],
            [
             0.4,
             "#fde0ef"
            ],
            [
             0.5,
             "#f7f7f7"
            ],
            [
             0.6,
             "#e6f5d0"
            ],
            [
             0.7,
             "#b8e186"
            ],
            [
             0.8,
             "#7fbc41"
            ],
            [
             0.9,
             "#4d9221"
            ],
            [
             1,
             "#276419"
            ]
           ],
           "sequential": [
            [
             0,
             "#0d0887"
            ],
            [
             0.1111111111111111,
             "#46039f"
            ],
            [
             0.2222222222222222,
             "#7201a8"
            ],
            [
             0.3333333333333333,
             "#9c179e"
            ],
            [
             0.4444444444444444,
             "#bd3786"
            ],
            [
             0.5555555555555556,
             "#d8576b"
            ],
            [
             0.6666666666666666,
             "#ed7953"
            ],
            [
             0.7777777777777778,
             "#fb9f3a"
            ],
            [
             0.8888888888888888,
             "#fdca26"
            ],
            [
             1,
             "#f0f921"
            ]
           ],
           "sequentialminus": [
            [
             0,
             "#0d0887"
            ],
            [
             0.1111111111111111,
             "#46039f"
            ],
            [
             0.2222222222222222,
             "#7201a8"
            ],
            [
             0.3333333333333333,
             "#9c179e"
            ],
            [
             0.4444444444444444,
             "#bd3786"
            ],
            [
             0.5555555555555556,
             "#d8576b"
            ],
            [
             0.6666666666666666,
             "#ed7953"
            ],
            [
             0.7777777777777778,
             "#fb9f3a"
            ],
            [
             0.8888888888888888,
             "#fdca26"
            ],
            [
             1,
             "#f0f921"
            ]
           ]
          },
          "colorway": [
           "#636efa",
           "#EF553B",
           "#00cc96",
           "#ab63fa",
           "#FFA15A",
           "#19d3f3",
           "#FF6692",
           "#B6E880",
           "#FF97FF",
           "#FECB52"
          ],
          "font": {
           "color": "#2a3f5f"
          },
          "geo": {
           "bgcolor": "white",
           "lakecolor": "white",
           "landcolor": "#E5ECF6",
           "showlakes": true,
           "showland": true,
           "subunitcolor": "white"
          },
          "hoverlabel": {
           "align": "left"
          },
          "hovermode": "closest",
          "mapbox": {
           "style": "light"
          },
          "paper_bgcolor": "white",
          "plot_bgcolor": "#E5ECF6",
          "polar": {
           "angularaxis": {
            "gridcolor": "white",
            "linecolor": "white",
            "ticks": ""
           },
           "bgcolor": "#E5ECF6",
           "radialaxis": {
            "gridcolor": "white",
            "linecolor": "white",
            "ticks": ""
           }
          },
          "scene": {
           "xaxis": {
            "backgroundcolor": "#E5ECF6",
            "gridcolor": "white",
            "gridwidth": 2,
            "linecolor": "white",
            "showbackground": true,
            "ticks": "",
            "zerolinecolor": "white"
           },
           "yaxis": {
            "backgroundcolor": "#E5ECF6",
            "gridcolor": "white",
            "gridwidth": 2,
            "linecolor": "white",
            "showbackground": true,
            "ticks": "",
            "zerolinecolor": "white"
           },
           "zaxis": {
            "backgroundcolor": "#E5ECF6",
            "gridcolor": "white",
            "gridwidth": 2,
            "linecolor": "white",
            "showbackground": true,
            "ticks": "",
            "zerolinecolor": "white"
           }
          },
          "shapedefaults": {
           "line": {
            "color": "#2a3f5f"
           }
          },
          "ternary": {
           "aaxis": {
            "gridcolor": "white",
            "linecolor": "white",
            "ticks": ""
           },
           "baxis": {
            "gridcolor": "white",
            "linecolor": "white",
            "ticks": ""
           },
           "bgcolor": "#E5ECF6",
           "caxis": {
            "gridcolor": "white",
            "linecolor": "white",
            "ticks": ""
           }
          },
          "title": {
           "x": 0.05
          },
          "xaxis": {
           "automargin": true,
           "gridcolor": "white",
           "linecolor": "white",
           "ticks": "",
           "title": {
            "standoff": 15
           },
           "zerolinecolor": "white",
           "zerolinewidth": 2
          },
          "yaxis": {
           "automargin": true,
           "gridcolor": "white",
           "linecolor": "white",
           "ticks": "",
           "title": {
            "standoff": 15
           },
           "zerolinecolor": "white",
           "zerolinewidth": 2
          }
         }
        },
        "title": {
         "text": "PM projection on globins according to the tree cut \"tree4\" - KNN 5 gamma 2 batchsize 4 epochs 500",
         "x": 0.5
        },
        "xaxis": {
         "anchor": "y",
         "constrain": "domain",
         "domain": [
          0,
          1
         ],
         "range": [
          -1.1,
          1.1
         ],
         "title": {
          "text": "pm1"
         }
        },
        "yaxis": {
         "anchor": "x",
         "domain": [
          0,
          1
         ],
         "scaleanchor": "x",
         "scaleratio": 1,
         "title": {
          "text": "pm2"
         }
        },
        "yaxis2": {
         "layer": "below traces",
         "matches": "y",
         "overlaying": "y"
        }
       }
      },
      "text/html": [
       "<div>                            <div id=\"126a0985-2508-4ffe-8c52-c43d7ee4adbc\" class=\"plotly-graph-div\" style=\"height:800px; width:100%;\"></div>            <script type=\"text/javascript\">                require([\"plotly\"], function(Plotly) {                    window.PLOTLYENV=window.PLOTLYENV || {};                                    if (document.getElementById(\"126a0985-2508-4ffe-8c52-c43d7ee4adbc\")) {                    Plotly.newPlot(                        \"126a0985-2508-4ffe-8c52-c43d7ee4adbc\",                        [{\"customdata\":[[5,3,3,2,\"Globin C, coelomic\",\"Globin\",\"Caudina arenicola\",\"Caudina\",2.10112824],[4,2,3,2,\"Hemoglobin\",\"Hemoglobin\",\"Hemipholis cordifera\",\"Hemipholis\",2.32722587],[4,2,3,2,\"Hemoglobin\",\"Hemoglobin\",\"Ophiactis simplex\",\"Ophiactis\",2.21961074],[4,2,3,2,\"Hemoglobin\",\"Hemoglobin\",\"Ophiactis simplex\",\"Ophiactis\",2.26245834],[-1,-1,3,2,\"Extracellular globin 1\",\"Extracellular\",\"Metaphire sieboldi\",\"Metaphire\",2.43355891]],\"hovertemplate\":\"<b>%{hovertext}</b><br><br>tree3=%{customdata[2]}<br>pm1=%{x}<br>pm2=%{y}<br>tree1=%{customdata[0]}<br>tree2=%{customdata[1]}<br>tree4=%{customdata[3]}<br>full_name=%{customdata[4]}<br>short_name=%{customdata[5]}<br>full_species=%{customdata[6]}<br>short_species=%{customdata[7]}<br>evo_distance=%{customdata[8]}<extra></extra>\",\"hovertext\":[3,3,3,3,3],\"legendgroup\":\"3\",\"marker\":{\"color\":\"#FECB52\",\"symbol\":\"circle\"},\"mode\":\"markers\",\"name\":\"3\",\"orientation\":\"v\",\"showlegend\":true,\"x\":[-0.26666847,-0.58432835,-0.6667466,-0.7292585,-0.8589363],\"xaxis\":\"x\",\"y\":[0.361557,0.06236605,0.022359911,0.09368643,0.21947734],\"yaxis\":\"y\",\"type\":\"scatter\"},{\"customdata\":[[-1,28,18,10,\"Globin (Fragment)\",\"Globin\",\"Stegodyphus mimosarum\",\"Stegodyphus\",1.7572795],[-1,27,18,10,\"Uncharacterized protein\",\"Uncharacterized\",\"Strigamia maritima\",\"Strigamia\",2.04148677],[37,27,18,10,\"Uncharacterized protein\",\"Uncharacterized\",\"Scylla olivacea\",\"Scylla\",2.31816861],[37,27,18,10,\"Uncharacterized protein\",\"Uncharacterized\",\"Scylla olivacea\",\"Scylla\",2.17077532],[37,27,18,10,\"Hemoglobin\",\"Hemoglobin\",\"Carcinus maenas\",\"Carcinus\",2.1764956200000003],[-1,29,18,10,\"Globin, putative\",\"Globin,\",\"Ixodes scapularis\",\"Ixodes\",2.30448645],[40,28,18,10,\"Globin\",\"Globin\",\"Zootermopsis nevadensis\",\"Zootermopsis\",1.87201142],[45,33,18,10,\"Uncharacterized protein\",\"Uncharacterized\",\"Arion vulgaris\",\"Arion\",1.97427266],[45,33,18,10,\"Uncharacterized protein\",\"Uncharacterized\",\"Arion vulgaris\",\"Arion\",2.08013658],[40,28,18,10,\"Globin like protein (Fragment)\",\"Globin\",\"Coptotermes formosanus\",\"Coptotermes\",1.7741922],[-1,28,18,10,\"Uncharacterized protein\",\"Uncharacterized\",\"Oryctes borbonicus\",\"Oryctes\",2.08382808],[-1,27,18,10,\"Uncharacterized protein\",\"Uncharacterized\",\"Tetranychus urticae\",\"Tetranychus\",2.47172868],[39,28,18,10,\"Globin 1\",\"Globin\",\"Apis mellifera\",\"Apis\",2.242503],[39,28,18,10,\"Putative uncharacterized protein (Fragment)\",\"Putative\",\"Solenopsis invicta\",\"Solenopsis\",2.64407828],[38,28,18,10,\"Globin\",\"Globin\",\"Habropoda laboriosa\",\"Habropoda\",2.60605258],[38,28,18,10,\"Cygb2_0 protein\",\"Cygb2_0\",\"Fopius arisanus\",\"Fopius\",2.25335988],[39,28,18,10,\"Cytoglobin 2\",\"Cytoglobin\",\"Cerapachys biroi\",\"Cerapachys\",2.52009681],[39,28,18,10,\"Globin\",\"Globin\",\"Camponotus floridanus\",\"Camponotus\",2.60584071],[38,28,18,10,\"Uncharacterized protein\",\"Uncharacterized\",\"Nasonia vitripennis\",\"Nasonia\",2.25387252],[39,28,18,10,\"Cytoglobin\",\"Cytoglobin\",\"Acromyrmex echinatior\",\"Acromyrmex\",2.64639149],[-1,28,18,10,\"Globin like Protein\",\"Globin\",\"Tribolium castaneum\",\"Tribolium\",2.42579023],[-1,34,18,10,\"Uncharacterized protein\",\"Uncharacterized\",\"Capitella teleta\",\"Capitella\",2.02076984],[-1,34,18,10,\"Cytoglobin 1 like protein\",\"Cytoglobin\",\"Sarcoptes scabiei\",\"Sarcoptes\",2.036886],[-1,29,18,10,\"Uncharacterized protein (Fragment)\",\"Uncharacterized\",\"Ixodes ricinus\",\"Ixodes\",1.7778336],[37,27,18,10,\"Cytoglobin 2 isoform CYGBi2\",\"Cytoglobin\",\"Cherax destructor\",\"Cherax\",2.23555225],[36,26,18,10,\"Putative uncharacterized protein\",\"Putative\",\"Daphnia pulex\",\"Daphnia\",2.15851408],[-1,-1,18,10,\"Globin\",\"Globin\",\"Crassostrea gigas\",\"Crassostrea\",2.20001602],[-1,29,18,10,\"Beta chain of the tetrameric hemoglobin, putative\",\"Hemoglobin\",\"Ixodes scapularis\",\"Ixodes\",2.34867746],[39,28,18,10,\"Globin\",\"Globin\",\"Harpegnathos saltator\",\"Harpegnathos\",2.62513263],[40,28,18,10,\"Globin\",\"Globin\",\"Zootermopsis nevadensis\",\"Zootermopsis\",1.7189102399999998],[-1,-1,18,10,\"Globin\",\"Globin\",\"Daphnia magna\",\"Daphnia\",2.39585067],[36,26,18,10,\"Cytoglobin 2\",\"Cytoglobin\",\"Daphnia magna\",\"Daphnia\",2.23126274],[-1,-1,18,10,\"Globin like protein 1\",\"Globin\",\"Sarcoptes scabiei\",\"Sarcoptes\",2.11760394]],\"hovertemplate\":\"<b>%{hovertext}</b><br><br>tree3=%{customdata[2]}<br>pm1=%{x}<br>pm2=%{y}<br>tree1=%{customdata[0]}<br>tree2=%{customdata[1]}<br>tree4=%{customdata[3]}<br>full_name=%{customdata[4]}<br>short_name=%{customdata[5]}<br>full_species=%{customdata[6]}<br>short_species=%{customdata[7]}<br>evo_distance=%{customdata[8]}<extra></extra>\",\"hovertext\":[18,18,18,18,18,18,18,18,18,18,18,18,18,18,18,18,18,18,18,18,18,18,18,18,18,18,18,18,18,18,18,18,18],\"legendgroup\":\"18\",\"marker\":{\"color\":\"#636efa\",\"symbol\":\"circle\"},\"mode\":\"markers\",\"name\":\"18\",\"orientation\":\"v\",\"showlegend\":true,\"x\":[-0.12049592,-0.16122319,-0.22645223,-0.16417967,-0.27909157,-0.1193889,-0.058732226,-0.055587843,-0.0446071,-0.19745381,-0.1678841,-0.21277988,-0.327481,-0.36362422,-0.33763647,-0.2893822,-0.36318633,-0.36731765,-0.30512968,-0.3594312,-0.12602974,-0.1345363,-0.053383294,-0.19537781,-0.23240054,-0.4055251,-0.07492841,-0.28202975,-0.3728615,-0.20899907,-0.3771135,-0.35157037,-0.19460657],\"xaxis\":\"x\",\"y\":[0.26980436,0.4545007,0.60218203,0.55041695,0.59375966,0.38160697,0.3435667,0.5851531,0.5471538,0.19716594,0.3251443,0.4679351,0.011099874,-0.007673327,-0.017546313,0.012648861,-0.011040217,-0.0028439697,-0.019541113,-0.014706968,0.012922202,0.21604812,0.23218445,0.41918272,0.5790328,0.40909532,0.45422724,0.23775394,-0.009587772,0.25345695,-0.032475386,0.36604792,0.2979505],\"yaxis\":\"y\",\"type\":\"scatter\"},{\"customdata\":[[-1,40,22,11,\"ACYPI007228 protein\",\"ACYPI007228\",\"Acyrthosiphon pisum\",\"Acyrthosiphon\",0.44459959],[10,38,22,9,\"Hemoglobin T1 polymer\",\"Hemoglobin\",\"Artemia salina\",\"Artemia\",1.84725956],[10,38,22,9,\"Hemoglobin P polymer\",\"Hemoglobin\",\"Parartemia zietziana\",\"Parartemia\",1.91905851],[11,38,22,9,\"Hemoglobin T1 polymer\",\"Hemoglobin\",\"Artemia salina\",\"Artemia\",1.78050468],[11,38,22,9,\"Hemoglobin P polymer\",\"Hemoglobin\",\"Parartemia zietziana\",\"Parartemia\",1.73983856],[11,38,22,9,\"Hemoglobin C1 polymer\",\"Hemoglobin\",\"Artemia salina\",\"Artemia\",1.70252921],[-1,38,22,9,\"Hemoglobin P polymer\",\"Hemoglobin\",\"Parartemia zietziana\",\"Parartemia\",2.0891213],[-1,40,22,11,\"Uncharacterized protein\",\"Uncharacterized\",\"Acyrthosiphon pisum\",\"Acyrthosiphon\",0.90085961]],\"hovertemplate\":\"<b>%{hovertext}</b><br><br>tree3=%{customdata[2]}<br>pm1=%{x}<br>pm2=%{y}<br>tree1=%{customdata[0]}<br>tree2=%{customdata[1]}<br>tree4=%{customdata[3]}<br>full_name=%{customdata[4]}<br>short_name=%{customdata[5]}<br>full_species=%{customdata[6]}<br>short_species=%{customdata[7]}<br>evo_distance=%{customdata[8]}<extra></extra>\",\"hovertext\":[22,22,22,22,22,22,22,22],\"legendgroup\":\"22\",\"marker\":{\"color\":\"#EF553B\",\"symbol\":\"circle\"},\"mode\":\"markers\",\"name\":\"22\",\"orientation\":\"v\",\"showlegend\":true,\"x\":[0.042473827,-0.5344158,-0.55346197,-0.5191472,-0.5322083,-0.53922075,-0.55369616,-0.44740638],\"xaxis\":\"x\",\"y\":[0.27281776,0.5433419,0.53624403,0.5137277,0.52031577,0.51621085,0.48745197,0.30616674],\"yaxis\":\"y\",\"type\":\"scatter\"},{\"customdata\":[[13,17,5,7,\"Uncharacterized protein\",\"Uncharacterized\",\"Capitella teleta\",\"Capitella\",2.1436955],[13,17,5,7,\"Uncharacterized protein\",\"Uncharacterized\",\"Capitella teleta\",\"Capitella\",2.2371513499999995],[-1,17,5,7,\"Uncharacterized protein (Fragment)\",\"Uncharacterized\",\"Capitella teleta\",\"Capitella\",2.66909204],[-1,17,5,7,\"Uncharacterized protein\",\"Uncharacterized\",\"Capitella teleta\",\"Capitella\",2.42843133]],\"hovertemplate\":\"<b>%{hovertext}</b><br><br>tree3=%{customdata[2]}<br>pm1=%{x}<br>pm2=%{y}<br>tree1=%{customdata[0]}<br>tree2=%{customdata[1]}<br>tree4=%{customdata[3]}<br>full_name=%{customdata[4]}<br>short_name=%{customdata[5]}<br>full_species=%{customdata[6]}<br>short_species=%{customdata[7]}<br>evo_distance=%{customdata[8]}<extra></extra>\",\"hovertext\":[5,5,5,5],\"legendgroup\":\"5\",\"marker\":{\"color\":\"#00cc96\",\"symbol\":\"circle\"},\"mode\":\"markers\",\"name\":\"5\",\"orientation\":\"v\",\"showlegend\":true,\"x\":[0.69944084,0.67689914,0.7390656,0.7301638],\"xaxis\":\"x\",\"y\":[-0.5700498,-0.54863876,-0.5591802,-0.5349618],\"yaxis\":\"y\",\"type\":\"scatter\"},{\"customdata\":[[-1,-1,4,7,\"Uncharacterized protein\",\"Uncharacterized\",\"Capitella teleta\",\"Capitella\",2.50218703],[-1,7,4,7,\"Cytoglobin 2\",\"Cytoglobin\",\"Crassostrea gigas\",\"Crassostrea\",2.34885314],[-1,7,4,7,\"Uncharacterized protein\",\"Uncharacterized\",\"Lottia gigantea\",\"Lottia\",2.43279945],[12,6,4,7,\"Protein CBR GLB 7\",\"Protein\",\"Caenorhabditis briggsae\",\"Caenorhabditis\",3.0159007999999994],[12,6,4,7,\"Uncharacterized protein\",\"Uncharacterized\",\"Haemonchus placei\",\"Haemonchus\",3.29015469],[-1,6,4,7,\"Cre glb 30 protein\",\"Cre\",\"Ascaris suum\",\"Ascaris\",3.1760076299999995],[-1,-1,4,7,\"Globin like protein 26\",\"Globin\",\"Trichinella pseudospiralis\",\"Trichinella\",3.03825431],[-1,6,4,7,\"Uncharacterized protein\",\"Uncharacterized\",\"Ancylostoma ceylanicum\",\"Ancylostoma\",3.20708282]],\"hovertemplate\":\"<b>%{hovertext}</b><br><br>tree3=%{customdata[2]}<br>pm1=%{x}<br>pm2=%{y}<br>tree1=%{customdata[0]}<br>tree2=%{customdata[1]}<br>tree4=%{customdata[3]}<br>full_name=%{customdata[4]}<br>short_name=%{customdata[5]}<br>full_species=%{customdata[6]}<br>short_species=%{customdata[7]}<br>evo_distance=%{customdata[8]}<extra></extra>\",\"hovertext\":[4,4,4,4,4,4,4,4],\"legendgroup\":\"4\",\"marker\":{\"color\":\"#ab63fa\",\"symbol\":\"circle\"},\"mode\":\"markers\",\"name\":\"4\",\"orientation\":\"v\",\"showlegend\":true,\"x\":[0.72217804,0.720122,0.71049464,0.6766243,0.6500092,0.6898116,0.70571905,0.67432714],\"xaxis\":\"x\",\"y\":[-0.5715952,-0.5512828,-0.5363266,-0.6011224,-0.62168986,-0.62157094,-0.60680085,-0.6193794],\"yaxis\":\"y\",\"type\":\"scatter\"},{\"customdata\":[[-1,13,8,4,\"Neuroglobin like\",\"Neuroglobin\",\"Scleropages formosus\",\"Scleropages\",2.75087931],[-1,-1,8,4,\"Predicted protein\",\"Predicted\",\"Nematostella vectensis\",\"Nematostella\",2.4344002],[22,13,8,4,\"Neuroglobin\",\"Neuroglobin\",\"Oryctolagus cuniculus\",\"Oryctolagus\",3.722439879999999],[22,13,8,4,\"Neuroglobin\",\"Neuroglobin\",\"Alligator mississippiensis\",\"Alligator\",3.58667483],[21,13,8,4,\"Neuroglobin\",\"Neuroglobin\",\"Danio rerio\",\"Danio\",3.068778509999999],[22,13,8,4,\"Uncharacterized protein\",\"Uncharacterized\",\"Anolis carolinensis\",\"Anolis\",3.673447579999999],[22,13,8,4,\"Uncharacterized protein\",\"Uncharacterized\",\"Lepisosteus oculatus\",\"Lepisosteus\",3.147542819999999],[21,13,8,4,\"Neuroglobin 1\",\"Neuroglobin\",\"Salmo salar\",\"Salmo\",3.094649499999999],[22,13,8,4,\"Neuroglobin\",\"Neuroglobin\",\"Amazona aestiva\",\"Amazona\",3.684650899999999],[21,13,8,4,\"Neuroglobin\",\"Neuroglobin\",\"Chaenocephalus aceratus\",\"Chaenocephalus\",3.048452869999999],[22,13,8,4,\"Uncharacterized protein\",\"Uncharacterized\",\"Ornithorhynchus anatinus\",\"Ornithorhynchus\",3.630371559999999],[22,13,8,4,\"Uncharacterized protein\",\"Uncharacterized\",\"Sarcophilus harrisii\",\"Sarcophilus\",3.563486359999999],[22,13,8,4,\"Uncharacterized protein\",\"Uncharacterized\",\"Anas platyrhynchos\",\"Anas\",3.747842649999999],[22,13,8,4,\"Neuroglobin\",\"Neuroglobin\",\"Gallus gallus\",\"Gallus\",3.679641069999999],[21,13,8,4,\"Neuroglobin (Fragment)\",\"Neuroglobin\",\"Fundulus heteroclitus\",\"Fundulus\",3.1009386899999987]],\"hovertemplate\":\"<b>%{hovertext}</b><br><br>tree3=%{customdata[2]}<br>pm1=%{x}<br>pm2=%{y}<br>tree1=%{customdata[0]}<br>tree2=%{customdata[1]}<br>tree4=%{customdata[3]}<br>full_name=%{customdata[4]}<br>short_name=%{customdata[5]}<br>full_species=%{customdata[6]}<br>short_species=%{customdata[7]}<br>evo_distance=%{customdata[8]}<extra></extra>\",\"hovertext\":[8,8,8,8,8,8,8,8,8,8,8,8,8,8,8],\"legendgroup\":\"8\",\"marker\":{\"color\":\"#FFA15A\",\"symbol\":\"circle\"},\"mode\":\"markers\",\"name\":\"8\",\"orientation\":\"v\",\"showlegend\":true,\"x\":[0.15956612,-0.06429728,0.40466863,0.40354612,0.15567842,0.4016674,0.11166578,0.14698173,0.39613724,0.13860875,0.4046949,0.40401745,0.40398443,0.3988896,0.17194505],\"xaxis\":\"x\",\"y\":[-0.79772353,-0.78342825,-0.45434758,-0.45065728,-0.8312912,-0.44359428,-0.837803,-0.85988593,-0.4553472,-0.84533674,-0.4547211,-0.44962534,-0.45308134,-0.45833352,-0.8484835],\"yaxis\":\"y\",\"type\":\"scatter\"},{\"customdata\":[[-1,23,14,6,\"Globin\",\"Globin\",\"Branchiostoma floridae\",\"Branchiostoma\",2.1325129],[34,23,14,6,\"Globin\",\"Globin\",\"Branchiostoma floridae\",\"Branchiostoma\",2.16645269],[33,24,14,6,\"Uncharacterized protein\",\"Uncharacterized\",\"Ciona savignyi\",\"Ciona\",2.80514043],[33,24,14,6,\"Uncharacterized protein\",\"Uncharacterized\",\"Ciona intestinalis\",\"Ciona\",2.81068422],[33,24,14,6,\"Globin\",\"Globin\",\"Ciona intestinalis\",\"Ciona\",2.83829804],[33,24,14,6,\"Uncharacterized protein\",\"Uncharacterized\",\"Ciona savignyi\",\"Ciona\",2.96556729],[35,24,14,6,\"Uncharacterized protein\",\"Uncharacterized\",\"Ciona savignyi\",\"Ciona\",2.65847977],[35,24,14,6,\"Globin\",\"Globin\",\"Ciona intestinalis\",\"Ciona\",2.60884268],[34,23,14,6,\"Putative uncharacterized protein\",\"Putative\",\"Branchiostoma floridae\",\"Branchiostoma\",2.37973605],[34,23,14,6,\"Putative uncharacterized protein\",\"Putative\",\"Branchiostoma floridae\",\"Branchiostoma\",2.38806056],[-1,-1,14,6,\"Neuroglobin like protein\",\"Neuroglobin\",\"Saccoglossus kowalevskii\",\"Saccoglossus\",2.35972746],[-1,24,14,6,\"Globin\",\"Globin\",\"Ciona intestinalis\",\"Ciona\",3.12906012]],\"hovertemplate\":\"<b>%{hovertext}</b><br><br>tree3=%{customdata[2]}<br>pm1=%{x}<br>pm2=%{y}<br>tree1=%{customdata[0]}<br>tree2=%{customdata[1]}<br>tree4=%{customdata[3]}<br>full_name=%{customdata[4]}<br>short_name=%{customdata[5]}<br>full_species=%{customdata[6]}<br>short_species=%{customdata[7]}<br>evo_distance=%{customdata[8]}<extra></extra>\",\"hovertext\":[14,14,14,14,14,14,14,14,14,14,14,14],\"legendgroup\":\"14\",\"marker\":{\"color\":\"#19d3f3\",\"symbol\":\"circle\"},\"mode\":\"markers\",\"name\":\"14\",\"orientation\":\"v\",\"showlegend\":true,\"x\":[0.24703982,0.25158492,0.20837747,0.20299777,0.20949884,0.2190987,0.19420965,0.20527327,0.2422143,0.24190715,-0.359965,0.21917515],\"xaxis\":\"x\",\"y\":[0.36477077,0.35767534,0.9257419,0.93109643,0.9186063,0.9183248,0.92118526,0.90482706,0.36148542,0.36122882,0.55897945,0.9306662],\"yaxis\":\"y\",\"type\":\"scatter\"},{\"customdata\":[[-1,39,20,10,\"Uncharacterized protein\",\"Uncharacterized\",\"Strongylocentrotus purpuratus\",\"Strongylocentrotus\",1.75283422],[-1,39,20,7,\"Putative uncharacterized protein\",\"Putative\",\"Branchiostoma floridae\",\"Branchiostoma\",1.93258564],[-1,-1,20,7,\"Putative uncharacterized protein\",\"Putative\",\"Trichoplax adhaerens\",\"Trichoplax\",2.31619376],[23,16,20,7,\"Uncharacterized protein\",\"Uncharacterized\",\"Arion vulgaris\",\"Arion\",2.60859124],[-1,16,20,7,\"Uncharacterized protein\",\"Uncharacterized\",\"Lottia gigantea\",\"Lottia\",2.7304677],[23,16,20,7,\"Cytoglobin 1\",\"Cytoglobin\",\"Crassostrea gigas\",\"Crassostrea\",2.85491961],[23,16,20,7,\"Uncharacterized protein\",\"Uncharacterized\",\"Lottia gigantea\",\"Lottia\",2.73087099]],\"hovertemplate\":\"<b>%{hovertext}</b><br><br>tree3=%{customdata[2]}<br>pm1=%{x}<br>pm2=%{y}<br>tree1=%{customdata[0]}<br>tree2=%{customdata[1]}<br>tree4=%{customdata[3]}<br>full_name=%{customdata[4]}<br>short_name=%{customdata[5]}<br>full_species=%{customdata[6]}<br>short_species=%{customdata[7]}<br>evo_distance=%{customdata[8]}<extra></extra>\",\"hovertext\":[20,20,20,20,20,20,20],\"legendgroup\":\"20\",\"marker\":{\"color\":\"#FF6692\",\"symbol\":\"circle\"},\"mode\":\"markers\",\"name\":\"20\",\"orientation\":\"v\",\"showlegend\":true,\"x\":[0.30527505,0.5199315,0.16307428,-0.081768245,-0.027646467,-0.079940334,-0.030414328],\"xaxis\":\"x\",\"y\":[0.32188773,-0.039934464,-0.5993494,-0.53965193,-0.5079227,-0.5980604,-0.5784664],\"yaxis\":\"y\",\"type\":\"scatter\"},{\"customdata\":[[-1,37,21,10,\"Uncharacterized protein\",\"Uncharacterized\",\"Lutzomyia longipalpis\",\"Lutzomyia\",1.94649826],[47,36,21,10,\"Putative hemoglobin like flavoprotein (Fragment)\",\"Hemoglobin\",\"Rhodnius neglectus\",\"Rhodnius\",1.84627905],[47,36,21,10,\"Putative hemoglobin like flavoprotein (Fragment)\",\"Hemoglobin\",\"Triatoma infestans\",\"Triatoma\",1.9043777],[-1,37,21,10,\"Uncharacterized protein\",\"Uncharacterized\",\"Glossina morsitans\",\"Glossina\",2.01930981]],\"hovertemplate\":\"<b>%{hovertext}</b><br><br>tree3=%{customdata[2]}<br>pm1=%{x}<br>pm2=%{y}<br>tree1=%{customdata[0]}<br>tree2=%{customdata[1]}<br>tree4=%{customdata[3]}<br>full_name=%{customdata[4]}<br>short_name=%{customdata[5]}<br>full_species=%{customdata[6]}<br>short_species=%{customdata[7]}<br>evo_distance=%{customdata[8]}<extra></extra>\",\"hovertext\":[21,21,21,21],\"legendgroup\":\"21\",\"marker\":{\"color\":\"#B6E880\",\"symbol\":\"circle\"},\"mode\":\"markers\",\"name\":\"21\",\"orientation\":\"v\",\"showlegend\":true,\"x\":[-0.23989767,-0.059940524,-0.21718875,-0.20059611],\"xaxis\":\"x\",\"y\":[-0.00033746377,0.16698289,0.13488406,-0.010962719],\"yaxis\":\"y\",\"type\":\"scatter\"},{\"customdata\":[[-1,-1,9,3,\"Uncharacterized protein\",\"Uncharacterized\",\"Amphimedon queenslandica\",\"Amphimedon\",2.52227159],[14,10,9,3,\"Uncharacterized protein\",\"Uncharacterized\",\"Strongylocentrotus purpuratus\",\"Strongylocentrotus\",2.65354782],[-1,-1,9,3,\"Uncharacterized protein\",\"Uncharacterized\",\"Micromonas commoda\",\"Micromonas\",2.70986541],[14,10,9,3,\"Uncharacterized protein\",\"Uncharacterized\",\"Strongylocentrotus purpuratus\",\"Strongylocentrotus\",2.58692572],[-1,10,9,3,\"Uncharacterized protein\",\"Uncharacterized\",\"Strongylocentrotus purpuratus\",\"Strongylocentrotus\",2.51919106],[14,10,9,3,\"Uncharacterized protein\",\"Uncharacterized\",\"Strongylocentrotus purpuratus\",\"Strongylocentrotus\",2.27606469],[14,10,9,3,\"Uncharacterized protein\",\"Uncharacterized\",\"Strongylocentrotus purpuratus\",\"Strongylocentrotus\",2.86747135]],\"hovertemplate\":\"<b>%{hovertext}</b><br><br>tree3=%{customdata[2]}<br>pm1=%{x}<br>pm2=%{y}<br>tree1=%{customdata[0]}<br>tree2=%{customdata[1]}<br>tree4=%{customdata[3]}<br>full_name=%{customdata[4]}<br>short_name=%{customdata[5]}<br>full_species=%{customdata[6]}<br>short_species=%{customdata[7]}<br>evo_distance=%{customdata[8]}<extra></extra>\",\"hovertext\":[9,9,9,9,9,9,9],\"legendgroup\":\"9\",\"marker\":{\"color\":\"#FF97FF\",\"symbol\":\"circle\"},\"mode\":\"markers\",\"name\":\"9\",\"orientation\":\"v\",\"showlegend\":true,\"x\":[0.34858415,0.36094236,0.35672373,0.35438192,0.39904326,0.38413894,0.44247726],\"xaxis\":\"x\",\"y\":[-0.35324904,-0.6883267,-0.61520815,-0.73068005,-0.7519672,-0.70700526,-0.715055],\"yaxis\":\"y\",\"type\":\"scatter\"},{\"customdata\":[[18,14,10,4,\"Cytoglobin 2\",\"Cytoglobin\",\"Crassostrea gigas\",\"Crassostrea\",2.89814466],[19,14,10,4,\"Uncharacterized protein (Fragment)\",\"Uncharacterized\",\"Lottia gigantea\",\"Lottia\",2.350108079999999],[19,14,10,4,\"Uncharacterized protein (Fragment)\",\"Uncharacterized\",\"Lottia gigantea\",\"Lottia\",2.4627551299999992],[-1,14,10,4,\"Uncharacterized protein (Fragment)\",\"Uncharacterized\",\"Lottia gigantea\",\"Lottia\",3.15607834],[-1,14,10,4,\"Uncharacterized protein\",\"Uncharacterized\",\"Capitella teleta\",\"Capitella\",3.0766556599999992],[17,12,10,4,\"ACYPI001485 protein\",\"ACYPI001485\",\"Acyrthosiphon pisum\",\"Acyrthosiphon\",2.696499399999999],[19,14,10,4,\"Uncharacterized protein\",\"Uncharacterized\",\"Lottia gigantea\",\"Lottia\",2.6062900199999994],[16,11,10,4,\"GbX1\",\"GbX1\",\"Callorhinchus milii\",\"Callorhinchus\",2.948089519999999],[16,11,10,4,\"GbX2\",\"GbX2\",\"Callorhinchus milii\",\"Callorhinchus\",3.0123761099999995],[16,11,10,4,\"Chromosome 10 SCAF15019, whole genome shotgun sequence\",\"Chromosome\",\"Tetraodon nigroviridis\",\"Tetraodon\",3.1074634799999994],[16,11,10,4,\"Cytoglobin 1\",\"Cytoglobin\",\"Chelonia mydas\",\"Chelonia\",2.706756999999999],[16,11,10,4,\"Uncharacterized protein\",\"Uncharacterized\",\"Poecilia formosa\",\"Poecilia\",3.0849746199999992],[16,11,10,4,\"Uncharacterized protein\",\"Uncharacterized\",\"Lepisosteus oculatus\",\"Lepisosteus\",2.843704849999999],[16,11,10,4,\"Uncharacterized protein\",\"Uncharacterized\",\"Latimeria chalumnae\",\"Latimeria\",2.74467532],[16,11,10,4,\"Xgb protein\",\"Xgb\",\"Danio rerio\",\"Danio\",3.15932725],[16,11,10,4,\"Uncharacterized protein\",\"Uncharacterized\",\"Lepisosteus oculatus\",\"Lepisosteus\",2.98219578],[16,11,10,4,\"Uncharacterized protein\",\"Uncharacterized\",\"Xenopus tropicalis\",\"Xenopus\",3.07574532],[16,11,10,4,\"Cytoglobin 2\",\"Cytoglobin\",\"Ictalurus punctatus\",\"Ictalurus\",3.15839468],[16,11,10,4,\"Uncharacterized protein\",\"Uncharacterized\",\"Oreochromis niloticus\",\"Oreochromis\",3.245876129999999],[16,11,10,4,\"Uncharacterized protein\",\"Uncharacterized\",\"Oncorhynchus mykiss\",\"Oncorhynchus\",3.104564709999999],[16,11,10,4,\"Uncharacterized protein\",\"Uncharacterized\",\"Oncorhynchus mykiss\",\"Oncorhynchus\",3.152127119999999],[16,11,10,4,\"Neuroglobin like (Fragment)\",\"Neuroglobin\",\"Scleropages formosus\",\"Scleropages\",3.024390219999999],[17,12,10,4,\"Globin D, coelomic, putative\",\"Globin\",\"Pediculus humanus\",\"Pediculus\",2.749354739999999],[-1,14,10,4,\"Neuroglobin\",\"Neuroglobin\",\"Daphnia magna\",\"Daphnia\",2.620574789999999],[19,14,10,4,\"Neuroglobin 1\",\"Neuroglobin\",\"Crassostrea gigas\",\"Crassostrea\",2.4302546899999995],[19,14,10,4,\"Uncharacterized protein\",\"Uncharacterized\",\"Arion vulgaris\",\"Arion\",2.53586098],[19,14,10,4,\"Uncharacterized protein\",\"Uncharacterized\",\"Octopus bimaculoides\",\"Octopus\",2.550460389999999],[-1,14,10,4,\"Uncharacterized protein\",\"Uncharacterized\",\"Capitella teleta\",\"Capitella\",3.0074926799999995],[18,14,10,4,\"Nacrein like protein F\",\"Nacrein\",\"Crassostrea gigas\",\"Crassostrea\",3.01650571],[-1,12,10,4,\"Uncharacterized protein\",\"Uncharacterized\",\"Lepeophtheirus salmonis\",\"Lepeophtheirus\",3.34308881],[-1,12,10,4,\"Neuroglobinlike [Maylandia zebra]\",\"Neuroglobin\",\"Lepeophtheirus salmonis\",\"Lepeophtheirus\",3.308708769999999]],\"hovertemplate\":\"<b>%{hovertext}</b><br><br>tree3=%{customdata[2]}<br>pm1=%{x}<br>pm2=%{y}<br>tree1=%{customdata[0]}<br>tree2=%{customdata[1]}<br>tree4=%{customdata[3]}<br>full_name=%{customdata[4]}<br>short_name=%{customdata[5]}<br>full_species=%{customdata[6]}<br>short_species=%{customdata[7]}<br>evo_distance=%{customdata[8]}<extra></extra>\",\"hovertext\":[10,10,10,10,10,10,10,10,10,10,10,10,10,10,10,10,10,10,10,10,10,10,10,10,10,10,10,10,10,10,10],\"legendgroup\":\"10\",\"marker\":{\"color\":\"#FECB52\",\"symbol\":\"circle\"},\"mode\":\"markers\",\"name\":\"10\",\"orientation\":\"v\",\"showlegend\":true,\"x\":[-0.4094176,-0.38088372,-0.33185384,-0.42276618,-0.3885465,-0.32715634,-0.37789896,-0.6133282,-0.62743527,-0.65716875,-0.62161374,-0.6376936,-0.615293,-0.59973484,-0.6317619,-0.61956733,-0.64996034,-0.64827895,-0.5775923,-0.626978,-0.6413394,-0.60765916,-0.35467094,-0.315975,-0.3610299,-0.37676615,-0.3660182,-0.34671497,-0.4172054,-0.3857084,-0.4635315],\"xaxis\":\"x\",\"y\":[-0.7642285,-0.77562964,-0.7322137,-0.72653997,-0.72675097,-0.8125812,-0.74555016,-0.67338943,-0.69664013,-0.644275,-0.6864992,-0.64731973,-0.6968173,-0.695738,-0.6619297,-0.6576517,-0.66974676,-0.65216523,-0.65456665,-0.6406071,-0.6261754,-0.6307527,-0.81280935,-0.78342974,-0.7526863,-0.692458,-0.7742536,-0.76404274,-0.78284705,-0.81764334,-0.7617729],\"yaxis\":\"y\",\"type\":\"scatter\"},{\"customdata\":[[29,20,12,5,\"Cytoglobin b\",\"Cytoglobin\",\"Xenopus laevis\",\"Xenopus\",2.2875242],[29,20,12,5,\"Uncharacterized protein\",\"Uncharacterized\",\"Oreochromis niloticus\",\"Oreochromis\",2.19807532],[29,20,12,5,\"Cytoglobin\",\"Cytoglobin\",\"Nothobranchius korthausae\",\"Nothobranchius\",2.2776364],[28,20,12,5,\"Uncharacterized protein (Fragment)\",\"Uncharacterized\",\"Gasterosteus aculeatus\",\"Gasterosteus\",2.2892364899999995],[29,20,12,5,\"Cytoglobin\",\"Cytoglobin\",\"Bos mutus\",\"Bos\",2.42091472],[29,20,12,5,\"Cytoglobin 1\",\"Cytoglobin\",\"Iguana iguana\",\"Iguana\",2.26895595],[28,20,12,5,\"Cytoglobin 1\",\"Cytoglobin\",\"Oryzias latipes\",\"Oryzias\",2.25311924],[29,20,12,5,\"Uncharacterized protein\",\"Uncharacterized\",\"Anas platyrhynchos\",\"Anas\",2.24009126],[28,20,12,5,\"Uncharacterized protein\",\"Uncharacterized\",\"Tetraodon nigroviridis\",\"Tetraodon\",2.4499165100000004],[28,20,12,5,\"Uncharacterized protein (Fragment)\",\"Uncharacterized\",\"Takifugu rubripes\",\"Takifugu\",2.4839830600000004],[29,20,12,5,\"Cytoglobin 2\",\"Cytoglobin\",\"Tetraodon nigroviridis\",\"Tetraodon\",2.23168579],[29,20,12,5,\"Uncharacterized protein\",\"Uncharacterized\",\"Tetraodon nigroviridis\",\"Tetraodon\",2.36374552],[28,20,12,5,\"Uncharacterized protein\",\"Uncharacterized\",\"Xiphophorus maculatus\",\"Xiphophorus\",2.2426578000000004],[28,20,12,5,\"Cytoglobin 1\",\"Cytoglobin\",\"Larimichthys crocea\",\"Larimichthys\",2.27502112],[29,20,12,5,\"Uncharacterized protein\",\"Uncharacterized\",\"Oncorhynchus mykiss\",\"Oncorhynchus\",2.20579096],[28,20,12,5,\"Cytoglobin 1\",\"Cytoglobin\",\"Nothobranchius pienaari\",\"Nothobranchius\",2.2369473400000004],[29,20,12,5,\"Cytoglobin\",\"Cytoglobin\",\"Alligator mississippiensis\",\"Alligator\",2.16168743],[29,20,12,5,\"Uncharacterized protein\",\"Uncharacterized\",\"Astyanax mexicanus\",\"Astyanax\",2.05393176],[29,20,12,5,\"Uncharacterized protein\",\"Uncharacterized\",\"Latimeria chalumnae\",\"Latimeria\",2.23058219],[29,20,12,5,\"Cytoglobin 2\",\"Cytoglobin\",\"Ictalurus punctatus\",\"Ictalurus\",2.12180628],[28,20,12,5,\"Cytoglobin\",\"Cytoglobin\",\"Chaenocephalus aceratus\",\"Chaenocephalus\",2.27395144],[29,20,12,5,\"Cygb2 protein\",\"Cygb2\",\"Danio rerio\",\"Danio\",2.05149233],[28,20,12,5,\"Uncharacterized protein\",\"Uncharacterized\",\"Oreochromis niloticus\",\"Oreochromis\",2.15346116],[28,20,12,5,\"Cytoglobin\",\"Cytoglobin\",\"Oncorhynchus mykiss\",\"Oncorhynchus\",2.15784398],[31,20,12,5,\"Uncharacterized protein\",\"Uncharacterized\",\"Astyanax mexicanus\",\"Astyanax\",2.18361902],[31,20,12,5,\"Cytoglobin 1\",\"Cytoglobin\",\"Cyprinus carpio\",\"Cyprinus\",2.06025855],[29,20,12,5,\"Cytoglobin\",\"Cytoglobin\",\"Callorhinchus milii\",\"Callorhinchus\",2.39273588],[31,20,12,5,\"Cytoglobin 1\",\"Cytoglobin\",\"Danio rerio\",\"Danio\",2.16806595],[31,20,12,5,\"Cytoglobin 1\",\"Cytoglobin\",\"Ictalurus punctatus\",\"Ictalurus\",2.19052877],[-1,21,12,5,\"Uncharacterized protein (Fragment)\",\"Uncharacterized\",\"Petromyzon marinus\",\"Petromyzon\",2.23124498],[30,21,12,5,\"Hemoglobin 4\",\"Hemoglobin\",\"Lethenteron camtschaticum\",\"Lethenteron\",2.45118652],[30,21,12,5,\"Uncharacterized protein\",\"Uncharacterized\",\"Petromyzon marinus\",\"Petromyzon\",2.3065607],[30,21,12,5,\"Uncharacterized protein\",\"Uncharacterized\",\"Petromyzon marinus\",\"Petromyzon\",2.36968937],[29,20,12,5,\"Cytoglobin (Fragment)\",\"Cytoglobin\",\"Fundulus heteroclitus\",\"Fundulus\",2.23162917],[28,20,12,5,\"Cytoglobin (Fragment)\",\"Cytoglobin\",\"Fundulus heteroclitus\",\"Fundulus\",2.29198432],[29,20,12,5,\"Inactive rhomboid protein 2\",\"Inactive\",\"Tupaia chinensis\",\"Tupaia\",2.24573612]],\"hovertemplate\":\"<b>%{hovertext}</b><br><br>tree3=%{customdata[2]}<br>pm1=%{x}<br>pm2=%{y}<br>tree1=%{customdata[0]}<br>tree2=%{customdata[1]}<br>tree4=%{customdata[3]}<br>full_name=%{customdata[4]}<br>short_name=%{customdata[5]}<br>full_species=%{customdata[6]}<br>short_species=%{customdata[7]}<br>evo_distance=%{customdata[8]}<extra></extra>\",\"hovertext\":[12,12,12,12,12,12,12,12,12,12,12,12,12,12,12,12,12,12,12,12,12,12,12,12,12,12,12,12,12,12,12,12,12,12,12,12],\"legendgroup\":\"12\",\"marker\":{\"color\":\"#636efa\",\"symbol\":\"circle\"},\"mode\":\"markers\",\"name\":\"12\",\"orientation\":\"v\",\"showlegend\":true,\"x\":[0.8553348,0.82629895,0.7768109,0.5152056,0.86770874,0.8854192,0.55398893,0.8701561,0.53318876,0.49584118,0.7931148,0.8122256,0.51944596,0.58146226,0.8102281,0.56921935,0.8815053,0.7982037,0.8735354,0.74326444,0.54599226,0.7867663,0.5441451,0.5774868,0.5554493,0.6797623,0.8706726,0.69652057,0.6168757,0.5583765,0.5511934,0.5114705,0.49104568,0.8054454,0.49793085,0.88235366],\"xaxis\":\"x\",\"y\":[0.19305892,0.25807682,0.26797533,0.3484357,0.16636163,0.21261805,0.33696735,0.197347,0.32580945,0.29942867,0.250674,0.28397393,0.39742085,0.35490298,0.24855325,0.41355217,0.20091502,0.18975794,0.22288285,0.23848107,0.35857597,0.21101756,0.3872357,0.38353154,0.25342914,0.16290851,0.24282478,0.21192934,0.24241857,0.51294124,0.52581877,0.51193434,0.54005724,0.2699349,0.37657386,0.17893827],\"yaxis\":\"y\",\"type\":\"scatter\"},{\"customdata\":[[-1,18,13,5,\"Uncharacterized protein\",\"Uncharacterized\",\"Lepisosteus oculatus\",\"Lepisosteus\",2.35310711],[27,19,13,5,\"Hemoglobin subunit alpha\",\"Hemoglobin\",\"Cavia porcellus\",\"Cavia\",2.68180205],[27,19,13,5,\"Hemoglobin subunit alpha 2\",\"Hemoglobin\",\"Scalopus aquaticus\",\"Scalopus\",2.59465681],[26,19,13,5,\"Uncharacterized protein\",\"Uncharacterized\",\"Neotoma lepida\",\"Neotoma\",2.63834495],[25,18,13,5,\"Globin Y\",\"Globin\",\"Callorhinchus milii\",\"Callorhinchus\",2.51505937],[25,18,13,5,\"Uncharacterized protein\",\"Uncharacterized\",\"Latimeria chalumnae\",\"Latimeria\",2.29929786],[24,18,13,5,\"Uncharacterized protein\",\"Uncharacterized\",\"Xenopus tropicalis\",\"Xenopus\",2.51423061],[24,18,13,5,\"Globin Y\",\"Globin\",\"Xenopus laevis\",\"Xenopus\",2.4560224799999992],[-1,18,13,5,\"Uncharacterized protein\",\"Uncharacterized\",\"Pelodiscus sinensis\",\"Pelodiscus\",2.69837249],[26,19,13,5,\"Hemoglobin subunit rho\",\"Hemoglobin\",\"Alligator mississippiensis\",\"Alligator\",2.98389637],[26,19,13,5,\"Uncharacterized protein\",\"Uncharacterized\",\"Nomascus leucogenys\",\"Nomascus\",2.77009221]],\"hovertemplate\":\"<b>%{hovertext}</b><br><br>tree3=%{customdata[2]}<br>pm1=%{x}<br>pm2=%{y}<br>tree1=%{customdata[0]}<br>tree2=%{customdata[1]}<br>tree4=%{customdata[3]}<br>full_name=%{customdata[4]}<br>short_name=%{customdata[5]}<br>full_species=%{customdata[6]}<br>short_species=%{customdata[7]}<br>evo_distance=%{customdata[8]}<extra></extra>\",\"hovertext\":[13,13,13,13,13,13,13,13,13,13,13],\"legendgroup\":\"13\",\"marker\":{\"color\":\"#EF553B\",\"symbol\":\"circle\"},\"mode\":\"markers\",\"name\":\"13\",\"orientation\":\"v\",\"showlegend\":true,\"x\":[0.77431744,0.7750499,0.77276045,0.794864,0.76410085,0.75673264,0.74302036,0.75630754,0.7651598,0.79006916,0.790941],\"xaxis\":\"x\",\"y\":[0.54657644,0.49860126,0.4756592,0.47150928,0.54839474,0.55948746,0.5556658,0.54376066,0.56351614,0.50724465,0.4940823],\"yaxis\":\"y\",\"type\":\"scatter\"},{\"customdata\":[[-1,-1,6,3,\"Globin\",\"Globin\",\"Gemmatirosa kalamazoonesis\",\"Gemmatirosa\",2.9048387],[-1,9,6,3,\"Globin\",\"Globin\",\"Gemmatirosa kalamazoonesis\",\"Gemmatirosa\",3.0073288499999995],[-1,9,6,3,\"Hemin receptor\",\"Hemin\",\"Halothiobacillus sp.\",\"Halothiobacillus\",2.5347764],[15,8,6,3,\"ARAD1D45562p\",\"ARAD1D45562p\",\"Blastobotrys adeninivorans\",\"Blastobotrys\",3.65177433],[15,8,6,3,\"CYFA0S05e02454g1_1\",\"CYFA0S05e02454g1_1\",\"Cyberlindnera fabianii\",\"Cyberlindnera\",4.11857393]],\"hovertemplate\":\"<b>%{hovertext}</b><br><br>tree3=%{customdata[2]}<br>pm1=%{x}<br>pm2=%{y}<br>tree1=%{customdata[0]}<br>tree2=%{customdata[1]}<br>tree4=%{customdata[3]}<br>full_name=%{customdata[4]}<br>short_name=%{customdata[5]}<br>full_species=%{customdata[6]}<br>short_species=%{customdata[7]}<br>evo_distance=%{customdata[8]}<extra></extra>\",\"hovertext\":[6,6,6,6,6],\"legendgroup\":\"6\",\"marker\":{\"color\":\"#00cc96\",\"symbol\":\"circle\"},\"mode\":\"markers\",\"name\":\"6\",\"orientation\":\"v\",\"showlegend\":true,\"x\":[0.30430955,0.23441741,0.2980426,0.27318528,0.2786789],\"xaxis\":\"x\",\"y\":[-0.7714114,-0.7621466,-0.7183396,-0.802817,-0.7688252],\"yaxis\":\"y\",\"type\":\"scatter\"},{\"customdata\":[[-1,15,7,4,\"Predicted protein\",\"Predicted\",\"Nematostella vectensis\",\"Nematostella\",3.06309082],[20,15,7,4,\"Predicted protein\",\"Predicted\",\"Nematostella vectensis\",\"Nematostella\",2.69558275],[-1,15,7,4,\"Predicted protein\",\"Predicted\",\"Nematostella vectensis\",\"Nematostella\",2.74661692],[20,15,7,4,\"Predicted protein\",\"Predicted\",\"Nematostella vectensis\",\"Nematostella\",2.46698831]],\"hovertemplate\":\"<b>%{hovertext}</b><br><br>tree3=%{customdata[2]}<br>pm1=%{x}<br>pm2=%{y}<br>tree1=%{customdata[0]}<br>tree2=%{customdata[1]}<br>tree4=%{customdata[3]}<br>full_name=%{customdata[4]}<br>short_name=%{customdata[5]}<br>full_species=%{customdata[6]}<br>short_species=%{customdata[7]}<br>evo_distance=%{customdata[8]}<extra></extra>\",\"hovertext\":[7,7,7,7],\"legendgroup\":\"7\",\"marker\":{\"color\":\"#ab63fa\",\"symbol\":\"circle\"},\"mode\":\"markers\",\"name\":\"7\",\"orientation\":\"v\",\"showlegend\":true,\"x\":[-0.16341884,-0.15462965,-0.15899871,-0.09037536],\"xaxis\":\"x\",\"y\":[-0.7797838,-0.70349777,-0.735858,-0.66923165],\"yaxis\":\"y\",\"type\":\"scatter\"},{\"customdata\":[[43,31,17,10,\"Globin 2 A chain\",\"Globin\",\"Anadara inaequivalvis\",\"Anadara\",2.93935263],[-1,-1,17,10,\"Nerve hemoglobin\",\"Hemoglobin\",\"Spisula solidissima\",\"Spisula\",2.92864342],[-1,31,17,10,\"Hemoglobin (Heterodimeric)\",\"Hemoglobin\",\"Barbatia virescens\",\"Barbatia\",2.80988922],[43,31,17,10,\"Globin, minor\",\"Globin,\",\"Anadara trapezia\",\"Anadara\",3.2788812000000003],[43,31,17,10,\"Globin 2 B chain\",\"Globin\",\"Anadara inaequivalvis\",\"Anadara\",3.13812794],[-1,-1,17,10,\"Hemoglobin II\",\"Hemoglobin\",\"Phacoides pectinatus\",\"Phacoides\",2.9455253599999995],[44,30,17,10,\"Two domain chain of the polymeric hemoglobin (Intracellular)\",\"Hemoglobin\",\"Barbatia lima\",\"Barbatia\",2.72130571],[44,30,17,10,\"Hemoglobin (2 domain)\",\"Hemoglobin\",\"Barbatia lima\",\"Barbatia\",2.73232709]],\"hovertemplate\":\"<b>%{hovertext}</b><br><br>tree3=%{customdata[2]}<br>pm1=%{x}<br>pm2=%{y}<br>tree1=%{customdata[0]}<br>tree2=%{customdata[1]}<br>tree4=%{customdata[3]}<br>full_name=%{customdata[4]}<br>short_name=%{customdata[5]}<br>full_species=%{customdata[6]}<br>short_species=%{customdata[7]}<br>evo_distance=%{customdata[8]}<extra></extra>\",\"hovertext\":[17,17,17,17,17,17,17,17],\"legendgroup\":\"17\",\"marker\":{\"color\":\"#FFA15A\",\"symbol\":\"circle\"},\"mode\":\"markers\",\"name\":\"17\",\"orientation\":\"v\",\"showlegend\":true,\"x\":[-0.77115667,-0.684534,-0.76839805,-0.75573796,-0.7553897,-0.11695754,-0.73697394,-0.74559885],\"xaxis\":\"x\",\"y\":[-0.21380375,-0.24525695,-0.16961363,-0.23292732,-0.21961208,0.69810885,-0.19977048,-0.19008307],\"yaxis\":\"y\",\"type\":\"scatter\"},{\"customdata\":[[2,1,2,1,\"Globin 2\",\"Globin\",\"Chironomus riparius\",\"Chironomus\",2.70002825],[1,1,2,1,\"Globin\",\"Globin\",\"Polypedilum nubifer\",\"Polypedilum\",2.36102778],[1,1,2,1,\"Globin\",\"Globin\",\"Polypedilum vanderplanki\",\"Polypedilum\",2.43793183],[3,1,2,1,\"Globin\",\"Globin\",\"Polypedilum vanderplanki\",\"Polypedilum\",2.2183017099999995],[2,1,2,1,\"Globin\",\"Globin\",\"Polypedilum nubifer\",\"Polypedilum\",2.47503634],[3,1,2,1,\"Globin\",\"Globin\",\"Polypedilum nubifer\",\"Polypedilum\",2.35802433],[3,1,2,1,\"Globin\",\"Globin\",\"Polypedilum vanderplanki\",\"Polypedilum\",2.28362716],[3,1,2,1,\"Globin 11\",\"Globin\",\"Chironomus riparius\",\"Chironomus\",2.29971074],[1,1,2,1,\"ORF E protein\",\"ORF\",\"Chironomus tentans\",\"Chironomus\",2.85858686],[1,1,2,1,\"Globin\",\"Globin\",\"Polypedilum nubifer\",\"Polypedilum\",2.56719369],[1,1,2,1,\"Globin\",\"Globin\",\"Polypedilum nubifer\",\"Polypedilum\",2.57670915],[-1,-1,2,1,\"Globin\",\"Globin\",\"Nerita albicilla\",\"Nerita\",2.08733768]],\"hovertemplate\":\"<b>%{hovertext}</b><br><br>tree3=%{customdata[2]}<br>pm1=%{x}<br>pm2=%{y}<br>tree1=%{customdata[0]}<br>tree2=%{customdata[1]}<br>tree4=%{customdata[3]}<br>full_name=%{customdata[4]}<br>short_name=%{customdata[5]}<br>full_species=%{customdata[6]}<br>short_species=%{customdata[7]}<br>evo_distance=%{customdata[8]}<extra></extra>\",\"hovertext\":[2,2,2,2,2,2,2,2,2,2,2,2],\"legendgroup\":\"2\",\"marker\":{\"color\":\"#19d3f3\",\"symbol\":\"circle\"},\"mode\":\"markers\",\"name\":\"2\",\"orientation\":\"v\",\"showlegend\":true,\"x\":[-0.34997284,-0.3760583,-0.36735848,-0.35985503,-0.36074272,-0.38952965,-0.3775834,-0.3926215,-0.3878143,-0.3765685,-0.36378667,0.06832369],\"xaxis\":\"x\",\"y\":[0.84855556,0.8505573,0.85029066,0.8293572,0.85964507,0.83327734,0.83506584,0.84696084,0.8631999,0.8657094,0.86948264,0.6221861],\"yaxis\":\"y\",\"type\":\"scatter\"},{\"customdata\":[[7,5,1,2,\"Di domain hemoglobin\",\"Hemoglobin\",\"Daphnia magna\",\"Daphnia\",2.95378198],[7,5,1,2,\"Putative uncharacterized protein\",\"Putative\",\"Daphnia pulex\",\"Daphnia\",2.7632934700000003],[7,5,1,2,\"Putative uncharacterized protein\",\"Putative\",\"Daphnia pulex\",\"Daphnia\",2.79767424],[9,4,1,2,\"Putative di domain hemoglobin\",\"Hemoglobin\",\"Daphnia magna\",\"Daphnia\",1.84605186],[9,4,1,2,\"Putative di domain hemoglobin\",\"Hemoglobin\",\"Daphnia magna\",\"Daphnia\",1.84634758],[9,4,1,2,\"Di domain hemoglobin (Fragment)\",\"Hemoglobin\",\"Daphnia magna\",\"Daphnia\",1.75867537],[9,4,1,2,\"Di domain hemoglobin (Fragment)\",\"Hemoglobin\",\"Daphnia magna\",\"Daphnia\",1.7849976899999995],[9,4,1,2,\"Putative di domain hemoglobin\",\"Hemoglobin\",\"Daphnia magna\",\"Daphnia\",1.99097658],[9,4,1,2,\"Putative di domain hemoglobin (Fragment)\",\"Hemoglobin\",\"Daphnia magna\",\"Daphnia\",1.89847506],[9,4,1,2,\"Putative di domain hemoglobin\",\"Hemoglobin\",\"Daphnia magna\",\"Daphnia\",2.00307168],[-1,5,1,2,\"Di domain hemoglobin (Fragment)\",\"Hemoglobin\",\"Daphnia magna\",\"Daphnia\",2.36856662],[6,5,1,2,\"Di domain hemoglobin\",\"Hemoglobin\",\"Daphnia magna\",\"Daphnia\",3.08054532],[9,4,1,2,\"Putative uncharacterized protein\",\"Putative\",\"Daphnia pulex\",\"Daphnia\",1.88554508],[9,4,1,2,\"Hemoglobin\",\"Hemoglobin\",\"Daphnia magna\",\"Daphnia\",1.82335212],[9,4,1,2,\"Hemoglobin\",\"Hemoglobin\",\"Daphnia pulex\",\"Daphnia\",1.85557538],[9,4,1,2,\"Hemoglobin\",\"Hemoglobin\",\"Daphnia pulex\",\"Daphnia\",1.88942132],[9,4,1,2,\"Hemoglobin\",\"Hemoglobin\",\"Daphnia pulex\",\"Daphnia\",1.91532281],[9,4,1,2,\"Di domain hemoglobin\",\"Hemoglobin\",\"Daphnia magna\",\"Daphnia\",1.92797924],[8,5,1,2,\"Putative uncharacterized protein (Fragment)\",\"Putative\",\"Daphnia pulex\",\"Daphnia\",2.34983516],[8,5,1,2,\"Uncharacterized protein (Fragment)\",\"Uncharacterized\",\"Daphnia magna\",\"Daphnia\",2.22413281],[9,4,1,2,\"Putative di domain hemoglobin (Fragment)\",\"Hemoglobin\",\"Daphnia magna\",\"Daphnia\",1.97351688],[9,4,1,2,\"Di domain hemoglobin\",\"Hemoglobin\",\"Daphnia magna\",\"Daphnia\",2.01628845],[6,5,1,2,\"Di domain hemoglobin (Fragment)\",\"Hemoglobin\",\"Daphnia magna\",\"Daphnia\",2.94537689],[9,4,1,2,\"Di domain hemoglobin like protein\",\"Hemoglobin\",\"Daphnia magna\",\"Daphnia\",2.34751979]],\"hovertemplate\":\"<b>%{hovertext}</b><br><br>tree3=%{customdata[2]}<br>pm1=%{x}<br>pm2=%{y}<br>tree1=%{customdata[0]}<br>tree2=%{customdata[1]}<br>tree4=%{customdata[3]}<br>full_name=%{customdata[4]}<br>short_name=%{customdata[5]}<br>full_species=%{customdata[6]}<br>short_species=%{customdata[7]}<br>evo_distance=%{customdata[8]}<extra></extra>\",\"hovertext\":[1,1,1,1,1,1,1,1,1,1,1,1,1,1,1,1,1,1,1,1,1,1,1,1],\"legendgroup\":\"1\",\"marker\":{\"color\":\"#FF6692\",\"symbol\":\"circle\"},\"mode\":\"markers\",\"name\":\"1\",\"orientation\":\"v\",\"showlegend\":true,\"x\":[-0.93081015,-0.934886,-0.93740606,-0.8216533,-0.80926436,-0.8395278,-0.859916,-0.8262062,-0.8502743,-0.8277879,-0.92981285,-0.9301818,-0.83952755,-0.87003523,-0.85933155,-0.8596644,-0.85967374,-0.8213097,-0.9147989,-0.9059588,-0.80149645,-0.8139879,-0.9360211,-0.8235939],\"xaxis\":\"x\",\"y\":[0.25895524,0.2605512,0.25787947,0.24012373,0.2395131,0.23659752,0.27358818,0.18832484,0.19037175,0.20464091,0.25133663,0.26734242,0.2594096,0.24784608,0.24118069,0.23952265,0.24527386,0.2598982,0.23890363,0.25470203,0.27815115,0.26865646,0.26441753,0.29281005],\"yaxis\":\"y\",\"type\":\"scatter\"},{\"customdata\":[[42,32,16,10,\"Globin\",\"Globin\",\"Nassarius mutabilis\",\"Nassarius\",2.69282831],[41,32,16,10,\"Uncharacterized protein\",\"Uncharacterized\",\"Lottia gigantea\",\"Lottia\",2.30991023],[41,32,16,10,\"Uncharacterized protein\",\"Uncharacterized\",\"Lottia gigantea\",\"Lottia\",2.3265049],[42,32,16,10,\"Globin\",\"Globin\",\"Cerithidea rhizophorarum\",\"Cerithidea\",2.81440342]],\"hovertemplate\":\"<b>%{hovertext}</b><br><br>tree3=%{customdata[2]}<br>pm1=%{x}<br>pm2=%{y}<br>tree1=%{customdata[0]}<br>tree2=%{customdata[1]}<br>tree4=%{customdata[3]}<br>full_name=%{customdata[4]}<br>short_name=%{customdata[5]}<br>full_species=%{customdata[6]}<br>short_species=%{customdata[7]}<br>evo_distance=%{customdata[8]}<extra></extra>\",\"hovertext\":[16,16,16,16],\"legendgroup\":\"16\",\"marker\":{\"color\":\"#B6E880\",\"symbol\":\"circle\"},\"mode\":\"markers\",\"name\":\"16\",\"orientation\":\"v\",\"showlegend\":true,\"x\":[-0.013284402,-0.049719665,-0.030311093,-0.029420536],\"xaxis\":\"x\",\"y\":[0.69634575,0.6884073,0.67158467,0.6919934],\"yaxis\":\"y\",\"type\":\"scatter\"},{\"customdata\":[[-1,-1,-1,8,\"Globin (Fragment)\",\"Globin\",\"Operophtera brumata\",\"Operophtera\",2.5920814199999995],[-1,-1,-1,3,\"Predicted protein\",\"Predicted\",\"Nematostella vectensis\",\"Nematostella\",3.13699746],[-1,-1,-1,2,\"Putative di domain hemoglobin (Fragment)\",\"Hemoglobin\",\"Daphnia magna\",\"Daphnia\",2.5254769]],\"hovertemplate\":\"<b>%{hovertext}</b><br><br>tree3=%{customdata[2]}<br>pm1=%{x}<br>pm2=%{y}<br>tree1=%{customdata[0]}<br>tree2=%{customdata[1]}<br>tree4=%{customdata[3]}<br>full_name=%{customdata[4]}<br>short_name=%{customdata[5]}<br>full_species=%{customdata[6]}<br>short_species=%{customdata[7]}<br>evo_distance=%{customdata[8]}<extra></extra>\",\"hovertext\":[-1,-1,-1],\"legendgroup\":\"-1\",\"marker\":{\"color\":\"#c7c7c7\",\"symbol\":\"circle\"},\"mode\":\"markers\",\"name\":\"-1\",\"orientation\":\"v\",\"showlegend\":true,\"x\":[0.6694437,0.28598922,-0.67325866],\"xaxis\":\"x\",\"y\":[0.42787853,-0.638278,0.31669864],\"yaxis\":\"y\",\"type\":\"scatter\"},{\"customdata\":[[46,35,19,10,\"Globin\",\"Globin\",\"Ancylostoma ceylanicum\",\"Ancylostoma\",2.22981155],[46,35,19,10,\"Uncharacterized protein\",\"Uncharacterized\",\"Angiostrongylus costaricensis\",\"Angiostrongylus\",2.13371016],[46,35,19,10,\"Globin\",\"Globin\",\"Necator americanus\",\"Necator\",2.35159293],[-1,-1,19,10,\"Cytoglobin1like [Saccoglossus kowalevskii]\",\"Cytoglobin\",\"Lepeophtheirus salmonis\",\"Lepeophtheirus\",2.17551995]],\"hovertemplate\":\"<b>%{hovertext}</b><br><br>tree3=%{customdata[2]}<br>pm1=%{x}<br>pm2=%{y}<br>tree1=%{customdata[0]}<br>tree2=%{customdata[1]}<br>tree4=%{customdata[3]}<br>full_name=%{customdata[4]}<br>short_name=%{customdata[5]}<br>full_species=%{customdata[6]}<br>short_species=%{customdata[7]}<br>evo_distance=%{customdata[8]}<extra></extra>\",\"hovertext\":[19,19,19,19],\"legendgroup\":\"19\",\"marker\":{\"color\":\"#FF97FF\",\"symbol\":\"circle\"},\"mode\":\"markers\",\"name\":\"19\",\"orientation\":\"v\",\"showlegend\":true,\"x\":[0.1771768,0.19087087,0.14340493,-0.09120129],\"xaxis\":\"x\",\"y\":[0.026194973,-0.032206587,-0.020453759,0.5282067],\"yaxis\":\"y\",\"type\":\"scatter\"},{\"customdata\":[[32,22,11,5,\"Hemoglobin (Fragment)\",\"Hemoglobin\",\"Biomphalaria glabrata\",\"Biomphalaria\",3.48471231],[32,22,11,5,\"Uncharacterized protein\",\"Uncharacterized\",\"Biomphalaria glabrata\",\"Biomphalaria\",3.63841564],[32,22,11,5,\"Uncharacterized protein\",\"Uncharacterized\",\"Biomphalaria glabrata\",\"Biomphalaria\",3.38373079],[32,22,11,5,\"Haemoglobin type 1\",\"Hemoglobin\",\"Biomphalaria glabrata\",\"Biomphalaria\",3.53221633],[32,22,11,5,\"Uncharacterized protein\",\"Uncharacterized\",\"Biomphalaria glabrata\",\"Biomphalaria\",3.61489538]],\"hovertemplate\":\"<b>%{hovertext}</b><br><br>tree3=%{customdata[2]}<br>pm1=%{x}<br>pm2=%{y}<br>tree1=%{customdata[0]}<br>tree2=%{customdata[1]}<br>tree4=%{customdata[3]}<br>full_name=%{customdata[4]}<br>short_name=%{customdata[5]}<br>full_species=%{customdata[6]}<br>short_species=%{customdata[7]}<br>evo_distance=%{customdata[8]}<extra></extra>\",\"hovertext\":[11,11,11,11,11],\"legendgroup\":\"11\",\"marker\":{\"color\":\"#FECB52\",\"symbol\":\"circle\"},\"mode\":\"markers\",\"name\":\"11\",\"orientation\":\"v\",\"showlegend\":true,\"x\":[0.37488005,0.35644192,0.40852156,0.38091102,0.39036348],\"xaxis\":\"x\",\"y\":[0.7008402,0.7035803,0.6952444,0.7155513,0.6857397],\"yaxis\":\"y\",\"type\":\"scatter\"},{\"customdata\":[[-1,25,15,8,\"Metalloendopeptidase\",\"Metalloendopeptidase\",\"Globodera pallida\",\"Globodera\",2.86594104],[-1,25,15,8,\"Uncharacterized protein\",\"Uncharacterized\",\"Strongyloides stercoralis\",\"Strongyloides\",3.19295417]],\"hovertemplate\":\"<b>%{hovertext}</b><br><br>tree3=%{customdata[2]}<br>pm1=%{x}<br>pm2=%{y}<br>tree1=%{customdata[0]}<br>tree2=%{customdata[1]}<br>tree4=%{customdata[3]}<br>full_name=%{customdata[4]}<br>short_name=%{customdata[5]}<br>full_species=%{customdata[6]}<br>short_species=%{customdata[7]}<br>evo_distance=%{customdata[8]}<extra></extra>\",\"hovertext\":[15,15],\"legendgroup\":\"15\",\"marker\":{\"color\":\"#636efa\",\"symbol\":\"circle\"},\"mode\":\"markers\",\"name\":\"15\",\"orientation\":\"v\",\"showlegend\":true,\"x\":[-0.46598935,-0.5094673],\"xaxis\":\"x\",\"y\":[-0.60057074,-0.6859605],\"yaxis\":\"y\",\"type\":\"scatter\"}],                        {\"template\":{\"data\":{\"histogram2dcontour\":[{\"type\":\"histogram2dcontour\",\"colorbar\":{\"outlinewidth\":0,\"ticks\":\"\"},\"colorscale\":[[0.0,\"#0d0887\"],[0.1111111111111111,\"#46039f\"],[0.2222222222222222,\"#7201a8\"],[0.3333333333333333,\"#9c179e\"],[0.4444444444444444,\"#bd3786\"],[0.5555555555555556,\"#d8576b\"],[0.6666666666666666,\"#ed7953\"],[0.7777777777777778,\"#fb9f3a\"],[0.8888888888888888,\"#fdca26\"],[1.0,\"#f0f921\"]]}],\"choropleth\":[{\"type\":\"choropleth\",\"colorbar\":{\"outlinewidth\":0,\"ticks\":\"\"}}],\"histogram2d\":[{\"type\":\"histogram2d\",\"colorbar\":{\"outlinewidth\":0,\"ticks\":\"\"},\"colorscale\":[[0.0,\"#0d0887\"],[0.1111111111111111,\"#46039f\"],[0.2222222222222222,\"#7201a8\"],[0.3333333333333333,\"#9c179e\"],[0.4444444444444444,\"#bd3786\"],[0.5555555555555556,\"#d8576b\"],[0.6666666666666666,\"#ed7953\"],[0.7777777777777778,\"#fb9f3a\"],[0.8888888888888888,\"#fdca26\"],[1.0,\"#f0f921\"]]}],\"heatmap\":[{\"type\":\"heatmap\",\"colorbar\":{\"outlinewidth\":0,\"ticks\":\"\"},\"colorscale\":[[0.0,\"#0d0887\"],[0.1111111111111111,\"#46039f\"],[0.2222222222222222,\"#7201a8\"],[0.3333333333333333,\"#9c179e\"],[0.4444444444444444,\"#bd3786\"],[0.5555555555555556,\"#d8576b\"],[0.6666666666666666,\"#ed7953\"],[0.7777777777777778,\"#fb9f3a\"],[0.8888888888888888,\"#fdca26\"],[1.0,\"#f0f921\"]]}],\"heatmapgl\":[{\"type\":\"heatmapgl\",\"colorbar\":{\"outlinewidth\":0,\"ticks\":\"\"},\"colorscale\":[[0.0,\"#0d0887\"],[0.1111111111111111,\"#46039f\"],[0.2222222222222222,\"#7201a8\"],[0.3333333333333333,\"#9c179e\"],[0.4444444444444444,\"#bd3786\"],[0.5555555555555556,\"#d8576b\"],[0.6666666666666666,\"#ed7953\"],[0.7777777777777778,\"#fb9f3a\"],[0.8888888888888888,\"#fdca26\"],[1.0,\"#f0f921\"]]}],\"contourcarpet\":[{\"type\":\"contourcarpet\",\"colorbar\":{\"outlinewidth\":0,\"ticks\":\"\"}}],\"contour\":[{\"type\":\"contour\",\"colorbar\":{\"outlinewidth\":0,\"ticks\":\"\"},\"colorscale\":[[0.0,\"#0d0887\"],[0.1111111111111111,\"#46039f\"],[0.2222222222222222,\"#7201a8\"],[0.3333333333333333,\"#9c179e\"],[0.4444444444444444,\"#bd3786\"],[0.5555555555555556,\"#d8576b\"],[0.6666666666666666,\"#ed7953\"],[0.7777777777777778,\"#fb9f3a\"],[0.8888888888888888,\"#fdca26\"],[1.0,\"#f0f921\"]]}],\"surface\":[{\"type\":\"surface\",\"colorbar\":{\"outlinewidth\":0,\"ticks\":\"\"},\"colorscale\":[[0.0,\"#0d0887\"],[0.1111111111111111,\"#46039f\"],[0.2222222222222222,\"#7201a8\"],[0.3333333333333333,\"#9c179e\"],[0.4444444444444444,\"#bd3786\"],[0.5555555555555556,\"#d8576b\"],[0.6666666666666666,\"#ed7953\"],[0.7777777777777778,\"#fb9f3a\"],[0.8888888888888888,\"#fdca26\"],[1.0,\"#f0f921\"]]}],\"mesh3d\":[{\"type\":\"mesh3d\",\"colorbar\":{\"outlinewidth\":0,\"ticks\":\"\"}}],\"scatter\":[{\"fillpattern\":{\"fillmode\":\"overlay\",\"size\":10,\"solidity\":0.2},\"type\":\"scatter\"}],\"parcoords\":[{\"type\":\"parcoords\",\"line\":{\"colorbar\":{\"outlinewidth\":0,\"ticks\":\"\"}}}],\"scatterpolargl\":[{\"type\":\"scatterpolargl\",\"marker\":{\"colorbar\":{\"outlinewidth\":0,\"ticks\":\"\"}}}],\"bar\":[{\"error_x\":{\"color\":\"#2a3f5f\"},\"error_y\":{\"color\":\"#2a3f5f\"},\"marker\":{\"line\":{\"color\":\"#E5ECF6\",\"width\":0.5},\"pattern\":{\"fillmode\":\"overlay\",\"size\":10,\"solidity\":0.2}},\"type\":\"bar\"}],\"scattergeo\":[{\"type\":\"scattergeo\",\"marker\":{\"colorbar\":{\"outlinewidth\":0,\"ticks\":\"\"}}}],\"scatterpolar\":[{\"type\":\"scatterpolar\",\"marker\":{\"colorbar\":{\"outlinewidth\":0,\"ticks\":\"\"}}}],\"histogram\":[{\"marker\":{\"pattern\":{\"fillmode\":\"overlay\",\"size\":10,\"solidity\":0.2}},\"type\":\"histogram\"}],\"scattergl\":[{\"type\":\"scattergl\",\"marker\":{\"colorbar\":{\"outlinewidth\":0,\"ticks\":\"\"}}}],\"scatter3d\":[{\"type\":\"scatter3d\",\"line\":{\"colorbar\":{\"outlinewidth\":0,\"ticks\":\"\"}},\"marker\":{\"colorbar\":{\"outlinewidth\":0,\"ticks\":\"\"}}}],\"scattermapbox\":[{\"type\":\"scattermapbox\",\"marker\":{\"colorbar\":{\"outlinewidth\":0,\"ticks\":\"\"}}}],\"scatterternary\":[{\"type\":\"scatterternary\",\"marker\":{\"colorbar\":{\"outlinewidth\":0,\"ticks\":\"\"}}}],\"scattercarpet\":[{\"type\":\"scattercarpet\",\"marker\":{\"colorbar\":{\"outlinewidth\":0,\"ticks\":\"\"}}}],\"carpet\":[{\"aaxis\":{\"endlinecolor\":\"#2a3f5f\",\"gridcolor\":\"white\",\"linecolor\":\"white\",\"minorgridcolor\":\"white\",\"startlinecolor\":\"#2a3f5f\"},\"baxis\":{\"endlinecolor\":\"#2a3f5f\",\"gridcolor\":\"white\",\"linecolor\":\"white\",\"minorgridcolor\":\"white\",\"startlinecolor\":\"#2a3f5f\"},\"type\":\"carpet\"}],\"table\":[{\"cells\":{\"fill\":{\"color\":\"#EBF0F8\"},\"line\":{\"color\":\"white\"}},\"header\":{\"fill\":{\"color\":\"#C8D4E3\"},\"line\":{\"color\":\"white\"}},\"type\":\"table\"}],\"barpolar\":[{\"marker\":{\"line\":{\"color\":\"#E5ECF6\",\"width\":0.5},\"pattern\":{\"fillmode\":\"overlay\",\"size\":10,\"solidity\":0.2}},\"type\":\"barpolar\"}],\"pie\":[{\"automargin\":true,\"type\":\"pie\"}]},\"layout\":{\"autotypenumbers\":\"strict\",\"colorway\":[\"#636efa\",\"#EF553B\",\"#00cc96\",\"#ab63fa\",\"#FFA15A\",\"#19d3f3\",\"#FF6692\",\"#B6E880\",\"#FF97FF\",\"#FECB52\"],\"font\":{\"color\":\"#2a3f5f\"},\"hovermode\":\"closest\",\"hoverlabel\":{\"align\":\"left\"},\"paper_bgcolor\":\"white\",\"plot_bgcolor\":\"#E5ECF6\",\"polar\":{\"bgcolor\":\"#E5ECF6\",\"angularaxis\":{\"gridcolor\":\"white\",\"linecolor\":\"white\",\"ticks\":\"\"},\"radialaxis\":{\"gridcolor\":\"white\",\"linecolor\":\"white\",\"ticks\":\"\"}},\"ternary\":{\"bgcolor\":\"#E5ECF6\",\"aaxis\":{\"gridcolor\":\"white\",\"linecolor\":\"white\",\"ticks\":\"\"},\"baxis\":{\"gridcolor\":\"white\",\"linecolor\":\"white\",\"ticks\":\"\"},\"caxis\":{\"gridcolor\":\"white\",\"linecolor\":\"white\",\"ticks\":\"\"}},\"coloraxis\":{\"colorbar\":{\"outlinewidth\":0,\"ticks\":\"\"}},\"colorscale\":{\"sequential\":[[0.0,\"#0d0887\"],[0.1111111111111111,\"#46039f\"],[0.2222222222222222,\"#7201a8\"],[0.3333333333333333,\"#9c179e\"],[0.4444444444444444,\"#bd3786\"],[0.5555555555555556,\"#d8576b\"],[0.6666666666666666,\"#ed7953\"],[0.7777777777777778,\"#fb9f3a\"],[0.8888888888888888,\"#fdca26\"],[1.0,\"#f0f921\"]],\"sequentialminus\":[[0.0,\"#0d0887\"],[0.1111111111111111,\"#46039f\"],[0.2222222222222222,\"#7201a8\"],[0.3333333333333333,\"#9c179e\"],[0.4444444444444444,\"#bd3786\"],[0.5555555555555556,\"#d8576b\"],[0.6666666666666666,\"#ed7953\"],[0.7777777777777778,\"#fb9f3a\"],[0.8888888888888888,\"#fdca26\"],[1.0,\"#f0f921\"]],\"diverging\":[[0,\"#8e0152\"],[0.1,\"#c51b7d\"],[0.2,\"#de77ae\"],[0.3,\"#f1b6da\"],[0.4,\"#fde0ef\"],[0.5,\"#f7f7f7\"],[0.6,\"#e6f5d0\"],[0.7,\"#b8e186\"],[0.8,\"#7fbc41\"],[0.9,\"#4d9221\"],[1,\"#276419\"]]},\"xaxis\":{\"gridcolor\":\"white\",\"linecolor\":\"white\",\"ticks\":\"\",\"title\":{\"standoff\":15},\"zerolinecolor\":\"white\",\"automargin\":true,\"zerolinewidth\":2},\"yaxis\":{\"gridcolor\":\"white\",\"linecolor\":\"white\",\"ticks\":\"\",\"title\":{\"standoff\":15},\"zerolinecolor\":\"white\",\"automargin\":true,\"zerolinewidth\":2},\"scene\":{\"xaxis\":{\"backgroundcolor\":\"#E5ECF6\",\"gridcolor\":\"white\",\"linecolor\":\"white\",\"showbackground\":true,\"ticks\":\"\",\"zerolinecolor\":\"white\",\"gridwidth\":2},\"yaxis\":{\"backgroundcolor\":\"#E5ECF6\",\"gridcolor\":\"white\",\"linecolor\":\"white\",\"showbackground\":true,\"ticks\":\"\",\"zerolinecolor\":\"white\",\"gridwidth\":2},\"zaxis\":{\"backgroundcolor\":\"#E5ECF6\",\"gridcolor\":\"white\",\"linecolor\":\"white\",\"showbackground\":true,\"ticks\":\"\",\"zerolinecolor\":\"white\",\"gridwidth\":2}},\"shapedefaults\":{\"line\":{\"color\":\"#2a3f5f\"}},\"annotationdefaults\":{\"arrowcolor\":\"#2a3f5f\",\"arrowhead\":0,\"arrowwidth\":1},\"geo\":{\"bgcolor\":\"white\",\"landcolor\":\"#E5ECF6\",\"subunitcolor\":\"white\",\"showland\":true,\"showlakes\":true,\"lakecolor\":\"white\"},\"title\":{\"x\":0.05},\"mapbox\":{\"style\":\"light\"}}},\"xaxis\":{\"anchor\":\"y\",\"domain\":[0.0,1.0],\"title\":{\"text\":\"pm1\"},\"range\":[-1.1,1.1],\"constrain\":\"domain\"},\"yaxis\":{\"anchor\":\"x\",\"domain\":[0.0,1.0],\"title\":{\"text\":\"pm2\"},\"scaleanchor\":\"x\",\"scaleratio\":1},\"legend\":{\"title\":{\"text\":\"tree3\"},\"tracegroupgap\":0},\"title\":{\"text\":\"PM projection on globins according to the tree cut \\\"tree4\\\" - KNN 5 gamma 2 batchsize 4 epochs 500\",\"x\":0.5},\"height\":800,\"shapes\":[{\"line\":{\"color\":\"black\",\"dash\":\"dot\"},\"opacity\":0.15,\"type\":\"circle\",\"x0\":-0.47058823529411764,\"x1\":0.47058823529411764,\"y0\":-0.47058823529411764,\"y1\":0.47058823529411764},{\"line\":{\"color\":\"black\",\"dash\":\"dot\"},\"opacity\":0.15,\"type\":\"circle\",\"x0\":-0.6447368421052633,\"x1\":0.6447368421052633,\"y0\":-0.6447368421052633,\"y1\":0.6447368421052633},{\"line\":{\"color\":\"black\",\"dash\":\"dot\"},\"opacity\":0.15,\"type\":\"circle\",\"x0\":-0.7705382436260623,\"x1\":0.7705382436260623,\"y0\":-0.7705382436260623,\"y1\":0.7705382436260623},{\"line\":{\"color\":\"black\",\"dash\":\"dot\"},\"opacity\":0.15,\"type\":\"circle\",\"x0\":-0.8557007125890737,\"x1\":0.8557007125890737,\"y0\":-0.8557007125890737,\"y1\":0.8557007125890737},{\"line\":{\"color\":\"black\",\"dash\":\"dot\"},\"opacity\":0.15,\"type\":\"circle\",\"x0\":-0.9108474990827933,\"x1\":0.9108474990827933,\"y0\":-0.9108474990827933,\"y1\":0.9108474990827933},{\"line\":{\"color\":\"black\",\"dash\":\"dot\"},\"opacity\":0.15,\"type\":\"circle\",\"x0\":-0.9455374041239167,\"x1\":0.9455374041239167,\"y0\":-0.9455374041239167,\"y1\":0.9455374041239167},{\"line\":{\"color\":\"Black\"},\"type\":\"circle\",\"x0\":-1,\"x1\":1,\"xref\":\"x\",\"y0\":-1,\"y1\":1,\"yref\":\"y\"},{\"fillcolor\":\"Black\",\"line\":{\"color\":\"Black\"},\"type\":\"circle\",\"x0\":-0.005,\"x1\":0.005,\"xref\":\"x\",\"y0\":-0.005,\"y1\":0.005,\"yref\":\"y\"}],\"yaxis2\":{\"matches\":\"y\",\"layer\":\"below traces\",\"overlaying\":\"y\"},\"plot_bgcolor\":\"rgba(0, 0, 0, 0)\",\"font\":{\"size\":11}},                        {\"responsive\": true}                    ).then(function(){\n",
       "                            \n",
       "var gd = document.getElementById('126a0985-2508-4ffe-8c52-c43d7ee4adbc');\n",
       "var x = new MutationObserver(function (mutations, observer) {{\n",
       "        var display = window.getComputedStyle(gd).display;\n",
       "        if (!display || display === 'none') {{\n",
       "            console.log([gd, 'removed!']);\n",
       "            Plotly.purge(gd);\n",
       "            observer.disconnect();\n",
       "        }}\n",
       "}});\n",
       "\n",
       "// Listen for the removal of the full notebook cells\n",
       "var notebookContainer = gd.closest('#notebook-container');\n",
       "if (notebookContainer) {{\n",
       "    x.observe(notebookContainer, {childList: true});\n",
       "}}\n",
       "\n",
       "// Listen for the clearing of the current output cell\n",
       "var outputEl = gd.closest('.output');\n",
       "if (outputEl) {{\n",
       "    x.observe(outputEl, {childList: true});\n",
       "}}\n",
       "\n",
       "                        })                };                });            </script>        </div>"
      ]
     },
     "metadata": {},
     "output_type": "display_data"
    }
   ],
   "source": [
    "trace1 = plot_embedding_interactive(df5, \n",
    "                                    labels_name = 'tree3',\n",
    "                                    show_text=True, \n",
    "                                    color_palette = globin_palette,\n",
    "                                    title = \"PM projection on globins according to the tree cut \\\"tree4\\\" - KNN 5 gamma 2 batchsize 4 epochs 500\",\n",
    "                                    fontsize = 11\n",
    "                              )\n",
    "trace1.show()"
   ]
  },
  {
   "cell_type": "code",
   "execution_count": null,
   "id": "b8f7253e",
   "metadata": {},
   "outputs": [],
   "source": []
  }
 ],
 "metadata": {
  "kernelspec": {
   "display_name": "msa",
   "language": "python",
   "name": "msa"
  },
  "language_info": {
   "codemirror_mode": {
    "name": "ipython",
    "version": 3
   },
   "file_extension": ".py",
   "mimetype": "text/x-python",
   "name": "python",
   "nbconvert_exporter": "python",
   "pygments_lexer": "ipython3",
   "version": "3.7.9"
  }
 },
 "nbformat": 4,
 "nbformat_minor": 5
}
