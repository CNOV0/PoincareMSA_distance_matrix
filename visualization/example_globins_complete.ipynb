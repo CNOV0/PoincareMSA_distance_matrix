{
 "cells": [
  {
   "cell_type": "markdown",
   "id": "0397d8e5-f05c-491d-ae91-0af5034e46ce",
   "metadata": {},
   "source": [
    "# Poincare Maps projection on Globins starting from scratch"
   ]
  },
  {
   "cell_type": "code",
   "execution_count": 1,
   "id": "aaa496f5-b211-48d6-a6fb-e0957939fd54",
   "metadata": {},
   "outputs": [],
   "source": [
    "import os\n",
    "import numpy as np\n",
    "import pandas as pd\n",
    "#import plotly\n",
    "#import plotly.express as px\n",
    "from pplots_new import read_embeddings, plot_embedding, plot_embedding_interactive, rotate, get_colors\n",
    "import warnings\n",
    "warnings.filterwarnings('ignore')\n",
    "\n",
    "%matplotlib inline"
   ]
  },
  {
   "cell_type": "markdown",
   "id": "d005215c",
   "metadata": {},
   "source": [
    "## Data preparation"
   ]
  },
  {
   "cell_type": "markdown",
   "id": "8be7f66d",
   "metadata": {},
   "source": [
    "The user must provide a path to the input file in .mfasta format and path to the output directory for intermediate file storage:"
   ]
  },
  {
   "cell_type": "code",
   "execution_count": 32,
   "id": "bf99c105",
   "metadata": {},
   "outputs": [],
   "source": [
    "path_to_PM=\"/home/lavande/galochkina/SCIENCE/POINCARE/PoincareMSA\"\n",
    "mfasta = path_to_PM+\"/examples/globins/glob.mfasta\" # full path to the input MSA in mfasta format\n",
    "path_out = path_to_PM+\"/examples/globins_test\" # a directory to write resutling files\n",
    "out_name = \"globins\" # name given to the output files\n",
    "path_to_figures = \"/home/lavande/galochkina/SCIENCE/POINCARE/PoincareMSA/figures\""
   ]
  },
  {
   "cell_type": "markdown",
   "id": "398abcaf",
   "metadata": {},
   "source": [
    "All scripts necessary for data preparation are located in scirpts/data_preparation:"
   ]
  },
  {
   "cell_type": "code",
   "execution_count": 3,
   "id": "0f45d890",
   "metadata": {},
   "outputs": [
    {
     "name": "stdout",
     "output_type": "stream",
     "text": [
      "/home/lavande/galochkina/SCIENCE/POINCARE/PoincareMSA/scripts/prepare_data\n"
     ]
    }
   ],
   "source": [
    "path_prep_scripts = path_to_PM+\"/scripts/prepare_data\"\n",
    "print(path_prep_scripts)"
   ]
  },
  {
   "cell_type": "markdown",
   "id": "cf723d54",
   "metadata": {},
   "source": [
    "Data preparation consists in `.mfasta` cleaning according to a gap threshold and translation of each sequence to the PSSM profile:"
   ]
  },
  {
   "cell_type": "code",
   "execution_count": 4,
   "id": "fcaf8ae0",
   "metadata": {},
   "outputs": [
    {
     "name": "stdout",
     "output_type": "stream",
     "text": [
      "/home/lavande/galochkina/SCIENCE/POINCARE/PoincareMSA/scripts/prepare_data/create_projection.sh /home/lavande/galochkina/SCIENCE/POINCARE/PoincareMSA/scripts/prepare_data /home/lavande/galochkina/SCIENCE/POINCARE/PoincareMSA/examples/globins/glob.mfasta /home/lavande/galochkina/SCIENCE/POINCARE/PoincareMSA/examples/globins_test globins 0.9\n",
      "Output files ready for projection are written to: /home/lavande/galochkina/SCIENCE/POINCARE/PoincareMSA/examples/globins_test/fasta0.9\n"
     ]
    }
   ],
   "source": [
    "gapth = \"0.9\" # threshold for filtering gapped positions\n",
    "prep_parameters = path_prep_scripts + \" \" + mfasta+\" \"+path_out+\" \"+out_name+\" \"+gapth # parameters for data preparation\n",
    "# print(prep_parameters)\n",
    "print(path_prep_scripts+\"/create_projection.sh \" + prep_parameters)\n",
    "os.system(path_prep_scripts+\"/create_projection.sh \" + prep_parameters)\n",
    "print(\"Output files ready for projection are written to: \"+path_out+\"/fasta\"+gapth)"
   ]
  },
  {
   "cell_type": "markdown",
   "id": "f9eeec58",
   "metadata": {},
   "source": [
    "## Data projection using Poincaré disk\n",
    "You can change the parameters of the projection here:"
   ]
  },
  {
   "cell_type": "code",
   "execution_count": 19,
   "id": "eb840a0e",
   "metadata": {},
   "outputs": [],
   "source": [
    "knn = \"5\"\n",
    "gamma = \"2.00\"\n",
    "sigma = \"1.00\"\n",
    "batchs = \"4\"\n",
    "cospca = \"0\"\n",
    "epochs = \"1000\"\n",
    "seed = \"0\""
   ]
  },
  {
   "cell_type": "markdown",
   "id": "e4f769a7",
   "metadata": {},
   "source": [
    "Then, the following command creates a projection of encoded sequences to a Poincaré disk:"
   ]
  },
  {
   "cell_type": "code",
   "execution_count": 20,
   "id": "374820b7",
   "metadata": {},
   "outputs": [
    {
     "name": "stdout",
     "output_type": "stream",
     "text": [
      "python /home/lavande/galochkina/SCIENCE/POINCARE/PoincareMSA/scripts/build_poincare_map/main.py --input_path /home/lavande/galochkina/SCIENCE/POINCARE/PoincareMSA/examples/globins_test/fasta0.9 --output_path /home/lavande/galochkina/SCIENCE/POINCARE/PoincareMSA/examples/globins_test/projections/ --gamma 2.00 --pca 0 --epochs 1000 --seed 0\n"
     ]
    },
    {
     "data": {
      "text/plain": [
       "0"
      ]
     },
     "execution_count": 20,
     "metadata": {},
     "output_type": "execute_result"
    }
   ],
   "source": [
    "path_to_build_PM = path_to_PM+\"/scripts/build_poincare_map\"\n",
    "pm_command = \"python \"+path_to_build_PM+\"/main.py --input_path \"+path_out+\"/fasta\"+gapth+\" --output_path \"+path_out+\"/projections/ --gamma \"+gamma+\" --pca \"+ cospca+\" --epochs \"+epochs+\" --seed \"+seed\n",
    "print(pm_command)\n",
    "os.system(pm_command)"
   ]
  },
  {
   "cell_type": "markdown",
   "id": "4f869900",
   "metadata": {},
   "source": [
    "Parameters by default are provided in comments. The output files are then written to the following file:"
   ]
  },
  {
   "cell_type": "code",
   "execution_count": 21,
   "id": "e67e38a7",
   "metadata": {},
   "outputs": [
    {
     "name": "stdout",
     "output_type": "stream",
     "text": [
      "/home/lavande/galochkina/SCIENCE/POINCARE/PoincareMSA/examples/globins_test/projections/PM5sigma=1.00gamma=2.00cosinepca=0_seed0.csv\n"
     ]
    }
   ],
   "source": [
    "path_embedding = path_out+\"/projections/PM\"+knn+\"sigma=\"+sigma+\"gamma=\"+gamma+\"cosinepca=\"+cospca+\"_seed\"+seed+\".csv\"\n",
    "print(path_embedding)"
   ]
  },
  {
   "cell_type": "markdown",
   "id": "9fc23cb2",
   "metadata": {},
   "source": [
    "## Projection visualization\n",
    "One can visualieze the resulting projection using any convenient coloring. To do so, the user shoud provide a `.csv` file with each line corresponding to a protein:"
   ]
  },
  {
   "cell_type": "code",
   "execution_count": 22,
   "id": "720f6399-e891-4c97-849a-c71bf60dc235",
   "metadata": {},
   "outputs": [
    {
     "data": {
      "text/html": [
       "<div>\n",
       "<style scoped>\n",
       "    .dataframe tbody tr th:only-of-type {\n",
       "        vertical-align: middle;\n",
       "    }\n",
       "\n",
       "    .dataframe tbody tr th {\n",
       "        vertical-align: top;\n",
       "    }\n",
       "\n",
       "    .dataframe thead th {\n",
       "        text-align: right;\n",
       "    }\n",
       "</style>\n",
       "<table border=\"1\" class=\"dataframe\">\n",
       "  <thead>\n",
       "    <tr style=\"text-align: right;\">\n",
       "      <th></th>\n",
       "      <th>tree1</th>\n",
       "      <th>tree2</th>\n",
       "      <th>tree3</th>\n",
       "      <th>tree4</th>\n",
       "      <th>full_name</th>\n",
       "      <th>short_name</th>\n",
       "      <th>full_species</th>\n",
       "      <th>short_species</th>\n",
       "      <th>evo_distance</th>\n",
       "      <th>Color_species</th>\n",
       "    </tr>\n",
       "    <tr>\n",
       "      <th>proteins_id</th>\n",
       "      <th></th>\n",
       "      <th></th>\n",
       "      <th></th>\n",
       "      <th></th>\n",
       "      <th></th>\n",
       "      <th></th>\n",
       "      <th></th>\n",
       "      <th></th>\n",
       "      <th></th>\n",
       "      <th></th>\n",
       "    </tr>\n",
       "  </thead>\n",
       "  <tbody>\n",
       "    <tr>\n",
       "      <th>1</th>\n",
       "      <td>5</td>\n",
       "      <td>3</td>\n",
       "      <td>3</td>\n",
       "      <td>2</td>\n",
       "      <td>Globin C, coelomic</td>\n",
       "      <td>Globin</td>\n",
       "      <td>Caudina arenicola</td>\n",
       "      <td>Caudina</td>\n",
       "      <td>2.101128</td>\n",
       "      <td>Echinodermata</td>\n",
       "    </tr>\n",
       "    <tr>\n",
       "      <th>2</th>\n",
       "      <td>-1</td>\n",
       "      <td>28</td>\n",
       "      <td>18</td>\n",
       "      <td>10</td>\n",
       "      <td>Globin (Fragment)</td>\n",
       "      <td>Globin</td>\n",
       "      <td>Stegodyphus mimosarum</td>\n",
       "      <td>Stegodyphus</td>\n",
       "      <td>1.757280</td>\n",
       "      <td>Arthropoda</td>\n",
       "    </tr>\n",
       "    <tr>\n",
       "      <th>3</th>\n",
       "      <td>-1</td>\n",
       "      <td>27</td>\n",
       "      <td>18</td>\n",
       "      <td>10</td>\n",
       "      <td>Uncharacterized protein</td>\n",
       "      <td>Uncharacterized</td>\n",
       "      <td>Strigamia maritima</td>\n",
       "      <td>Strigamia</td>\n",
       "      <td>2.041487</td>\n",
       "      <td>Arthropoda</td>\n",
       "    </tr>\n",
       "    <tr>\n",
       "      <th>4</th>\n",
       "      <td>37</td>\n",
       "      <td>27</td>\n",
       "      <td>18</td>\n",
       "      <td>10</td>\n",
       "      <td>Uncharacterized protein</td>\n",
       "      <td>Uncharacterized</td>\n",
       "      <td>Scylla olivacea</td>\n",
       "      <td>Scylla</td>\n",
       "      <td>2.318169</td>\n",
       "      <td>Arthropoda</td>\n",
       "    </tr>\n",
       "    <tr>\n",
       "      <th>5</th>\n",
       "      <td>37</td>\n",
       "      <td>27</td>\n",
       "      <td>18</td>\n",
       "      <td>10</td>\n",
       "      <td>Uncharacterized protein</td>\n",
       "      <td>Uncharacterized</td>\n",
       "      <td>Scylla olivacea</td>\n",
       "      <td>Scylla</td>\n",
       "      <td>2.170775</td>\n",
       "      <td>Arthropoda</td>\n",
       "    </tr>\n",
       "    <tr>\n",
       "      <th>...</th>\n",
       "      <td>...</td>\n",
       "      <td>...</td>\n",
       "      <td>...</td>\n",
       "      <td>...</td>\n",
       "      <td>...</td>\n",
       "      <td>...</td>\n",
       "      <td>...</td>\n",
       "      <td>...</td>\n",
       "      <td>...</td>\n",
       "      <td>...</td>\n",
       "    </tr>\n",
       "    <tr>\n",
       "      <th>248</th>\n",
       "      <td>14</td>\n",
       "      <td>10</td>\n",
       "      <td>9</td>\n",
       "      <td>3</td>\n",
       "      <td>Uncharacterized protein</td>\n",
       "      <td>Uncharacterized</td>\n",
       "      <td>Strongylocentrotus purpuratus</td>\n",
       "      <td>Strongylocentrotus</td>\n",
       "      <td>2.586926</td>\n",
       "      <td>Echinodermata</td>\n",
       "    </tr>\n",
       "    <tr>\n",
       "      <th>249</th>\n",
       "      <td>-1</td>\n",
       "      <td>10</td>\n",
       "      <td>9</td>\n",
       "      <td>3</td>\n",
       "      <td>Uncharacterized protein</td>\n",
       "      <td>Uncharacterized</td>\n",
       "      <td>Strongylocentrotus purpuratus</td>\n",
       "      <td>Strongylocentrotus</td>\n",
       "      <td>2.519191</td>\n",
       "      <td>Echinodermata</td>\n",
       "    </tr>\n",
       "    <tr>\n",
       "      <th>250</th>\n",
       "      <td>14</td>\n",
       "      <td>10</td>\n",
       "      <td>9</td>\n",
       "      <td>3</td>\n",
       "      <td>Uncharacterized protein</td>\n",
       "      <td>Uncharacterized</td>\n",
       "      <td>Strongylocentrotus purpuratus</td>\n",
       "      <td>Strongylocentrotus</td>\n",
       "      <td>2.276065</td>\n",
       "      <td>Echinodermata</td>\n",
       "    </tr>\n",
       "    <tr>\n",
       "      <th>251</th>\n",
       "      <td>14</td>\n",
       "      <td>10</td>\n",
       "      <td>9</td>\n",
       "      <td>3</td>\n",
       "      <td>Uncharacterized protein</td>\n",
       "      <td>Uncharacterized</td>\n",
       "      <td>Strongylocentrotus purpuratus</td>\n",
       "      <td>Strongylocentrotus</td>\n",
       "      <td>2.867471</td>\n",
       "      <td>Echinodermata</td>\n",
       "    </tr>\n",
       "    <tr>\n",
       "      <th>252</th>\n",
       "      <td>-1</td>\n",
       "      <td>25</td>\n",
       "      <td>15</td>\n",
       "      <td>8</td>\n",
       "      <td>Uncharacterized protein</td>\n",
       "      <td>Uncharacterized</td>\n",
       "      <td>Strongyloides stercoralis</td>\n",
       "      <td>Strongyloides</td>\n",
       "      <td>3.192954</td>\n",
       "      <td>Nematoda</td>\n",
       "    </tr>\n",
       "  </tbody>\n",
       "</table>\n",
       "<p>252 rows × 10 columns</p>\n",
       "</div>"
      ],
      "text/plain": [
       "             tree1  tree2  tree3  tree4                full_name  \\\n",
       "proteins_id                                                        \n",
       "1                5      3      3      2       Globin C, coelomic   \n",
       "2               -1     28     18     10        Globin (Fragment)   \n",
       "3               -1     27     18     10  Uncharacterized protein   \n",
       "4               37     27     18     10  Uncharacterized protein   \n",
       "5               37     27     18     10  Uncharacterized protein   \n",
       "...            ...    ...    ...    ...                      ...   \n",
       "248             14     10      9      3  Uncharacterized protein   \n",
       "249             -1     10      9      3  Uncharacterized protein   \n",
       "250             14     10      9      3  Uncharacterized protein   \n",
       "251             14     10      9      3  Uncharacterized protein   \n",
       "252             -1     25     15      8  Uncharacterized protein   \n",
       "\n",
       "                  short_name                   full_species  \\\n",
       "proteins_id                                                   \n",
       "1                     Globin              Caudina arenicola   \n",
       "2                     Globin          Stegodyphus mimosarum   \n",
       "3            Uncharacterized             Strigamia maritima   \n",
       "4            Uncharacterized                Scylla olivacea   \n",
       "5            Uncharacterized                Scylla olivacea   \n",
       "...                      ...                            ...   \n",
       "248          Uncharacterized  Strongylocentrotus purpuratus   \n",
       "249          Uncharacterized  Strongylocentrotus purpuratus   \n",
       "250          Uncharacterized  Strongylocentrotus purpuratus   \n",
       "251          Uncharacterized  Strongylocentrotus purpuratus   \n",
       "252          Uncharacterized      Strongyloides stercoralis   \n",
       "\n",
       "                  short_species  evo_distance  Color_species  \n",
       "proteins_id                                                   \n",
       "1                       Caudina      2.101128  Echinodermata  \n",
       "2                   Stegodyphus      1.757280     Arthropoda  \n",
       "3                     Strigamia      2.041487     Arthropoda  \n",
       "4                        Scylla      2.318169     Arthropoda  \n",
       "5                        Scylla      2.170775     Arthropoda  \n",
       "...                         ...           ...            ...  \n",
       "248          Strongylocentrotus      2.586926  Echinodermata  \n",
       "249          Strongylocentrotus      2.519191  Echinodermata  \n",
       "250          Strongylocentrotus      2.276065  Echinodermata  \n",
       "251          Strongylocentrotus      2.867471  Echinodermata  \n",
       "252               Strongyloides      3.192954       Nematoda  \n",
       "\n",
       "[252 rows x 10 columns]"
      ]
     },
     "execution_count": 22,
     "metadata": {},
     "output_type": "execute_result"
    }
   ],
   "source": [
    "path_annotation = path_to_PM+\"/visualization/data/globin_colors_new.csv\" # path to annotation file\n",
    "globin_df = pd.read_csv(path_annotation, index_col = 0)\n",
    "globin_df"
   ]
  },
  {
   "cell_type": "markdown",
   "id": "dac314e3",
   "metadata": {},
   "source": [
    "A user can also create a custom color palette:"
   ]
  },
  {
   "cell_type": "code",
   "execution_count": 23,
   "id": "8af40b85-99bd-4eab-a010-d8f1351cf15b",
   "metadata": {},
   "outputs": [],
   "source": [
    "# construction of palette \n",
    "globin_palette = {-1 : \"#c7c7c7\", \"OTHER\": \"#c7c7c7\", \"NA\" : \"#c7c7c7\", \"Uncharacterized\" : \"#c7c7c7\", \"root\": \"#000000\",\n",
    "                 \"Nematostella\": \"#ad288b\", \"Amphimedon\": \"#fdb7fd\", \"Micromonas\": \"#4d9b03\", \"Saccoglossus\":\"#b0ffe8\", \"Trichoplax\":\"#e9bd6b\" } \n",
    "\n",
    "globin_others_eukaryota = [\"Amphimedon\", # porifera \n",
    " \"Saccoglossus\", # hemichordata\n",
    " \"Trichoplax\", # placozoa\n",
    " \"Micromonas\", # viridiplantae\n",
    " \"Nematostella\" ] # cnidaria  \n",
    " \n",
    "globin_arthropoda = [\"Stegodyphus\", \"Strigamia\", \"Scylla\", \"Carcinus\",  \"Ixodes\", \"Zootermopsis\", \"Coptotermes\",\"Oryctes\", \"Tetranychus\", \n",
    "                     \"Acyrthosiphon\", \"Nemastomella\",\"Apis\",\"Solenopsis\", \"Habropoda\", \"Fopius\", \"Cerapachys\", \"Camponotus\", \"Nasonia\", \n",
    "                     \"Acromyrmex\", \"Tribolium\", \"Sarcoptes\", \"Lutzomyia\", \"Rhodnius\", \"Triatoma\", \"Cherax\", \"Chironomus\", \"Polypedilum\", \n",
    "                     \"Pediculus\", \"Daphnia\", \"Harpegnathos\", \"Artemia\", \"Parartemia\", \"Lepeophtheirus\", \"Glossina\", \"Operophtera\"] \n",
    "  \n",
    "globin_mollusca = [\"Arion\", \"Crassostrea\", \"Lottia\", \"Anadara\", \"Spisula\", \"Barbatia\", \"Nassarius\", \"Cerithidea\", \"Nerita\", \"Phacoides\",\n",
    "                   \"Octopus\", \"Biomphalaria\"] \n",
    "globin_annelida = [\"Capitella\", \"Metaphire\"]  \n",
    "globin_chordata = [\"Scleropages\", \"Branchiostoma\", \"Xenopus\", \"Oreochromis\", \"Nothobranchius\", \"Gasterosteus\", \"Bos\", \"Iguana\", \"Oryzias\", \n",
    "                   \"Anas\", \"Tetraodon\", \"Takifugu\", \"Xiphophorus\", \"Larimichthys\", \"Oncorhynchus\", \"Alligator\", \"Astyanax\", \"Latimeria\",\n",
    "                   \"Ictalurus\", \"Chaenocephalus\", \"Danio\", \"Cyprinus\", \"Callorhinchus\", \"Lepisosteus\", \"Chelonia\", \"Poecilia\", \"Ciona\", \n",
    "                   \"Petromyzon\", \"Lethenteron\", \"Cavia\", \"Scalopus\", \"Neotoma\", \"Pelodiscus\",\"Fundulus\", \"Oryctolagus\", \"Anolis\",\n",
    "                   \"Salmo\", \"Amazona\", \"Ornithorhynchus\", \"Sarcophilus\", \"Gallus\", \"Nomascus\", \"Tupaia\"] \n",
    " \n",
    "globin_echinodermata = [\"Caudina\", \"Strongylocentrotus\", \"Hemipholis\", \"Ophiactis\"] \n",
    "globin_bacteria = [\"Gemmatirosa\", \"Halothiobacillus\"] \n",
    "globin_nematoda = [\"Ancylostoma\", \"Necator\", \"Caenorhabditis\", \"Haemonchus\", \"Ascaris\", \"Trichinella\", \"Globodera\", \"Strongyloides\", \"Angiostrongylus\"] \n",
    "globin_fungi = [\"Blastobotrys\", \"Cyberlindnera\"] \n",
    "\n",
    "\n",
    "#globin_palette.update(dict.fromkeys(globin_others_eukaryota, \"#22ba69\")) \n",
    "globin_palette.update(dict.fromkeys(globin_arthropoda, \"#0b237c\"))\n",
    "globin_palette.update(dict.fromkeys(globin_mollusca, \"#512ff8\")) #512ff8 401bf9\n",
    "globin_palette.update(dict.fromkeys(globin_annelida, \"#a191f3\"))\n",
    "globin_palette.update(dict.fromkeys(globin_chordata, \"#26c9d9\"))\n",
    "globin_palette.update(dict.fromkeys(globin_echinodermata, \"#086b75\"))\n",
    "globin_palette.update(dict.fromkeys(globin_bacteria, \"#f10000\"))\n",
    "globin_palette.update(dict.fromkeys(globin_nematoda, \"#5d78e3\"))\n",
    "globin_palette.update(dict.fromkeys(globin_fungi, \"#a0e361\"))"
   ]
  },
  {
   "cell_type": "code",
   "execution_count": 24,
   "id": "86e3864d-862c-40b6-ad8c-adfa4af931e4",
   "metadata": {
    "jupyter": {
     "outputs_hidden": true
    },
    "tags": []
   },
   "outputs": [
    {
     "name": "stdout",
     "output_type": "stream",
     "text": [
      "result:                    pm1       pm2 tree1 tree2 tree3 tree4  \\\n",
      "proteins_id                                               \n",
      "1           -0.216674 -0.218605     5     3     3     2   \n",
      "2           -0.246264  0.018229    -1    28    18    10   \n",
      "3           -0.470544  0.133312    -1    27    18    10   \n",
      "4           -0.636198  0.145439    37    27    18    10   \n",
      "5           -0.559227  0.155054    37    27    18    10   \n",
      "...               ...       ...   ...   ...   ...   ...   \n",
      "248          0.772153 -0.248710    14    10     9     3   \n",
      "249          0.819450 -0.237786    -1    10     9     3   \n",
      "250          0.778500 -0.211650    14    10     9     3   \n",
      "251          0.825534 -0.178403    14    10     9     3   \n",
      "252          0.198087 -0.829922    -1    25    15     8   \n",
      "\n",
      "                           full_name       short_name  \\\n",
      "proteins_id                                             \n",
      "1                 Globin C, coelomic           Globin   \n",
      "2                  Globin (Fragment)           Globin   \n",
      "3            Uncharacterized protein  Uncharacterized   \n",
      "4            Uncharacterized protein  Uncharacterized   \n",
      "5            Uncharacterized protein  Uncharacterized   \n",
      "...                              ...              ...   \n",
      "248          Uncharacterized protein  Uncharacterized   \n",
      "249          Uncharacterized protein  Uncharacterized   \n",
      "250          Uncharacterized protein  Uncharacterized   \n",
      "251          Uncharacterized protein  Uncharacterized   \n",
      "252          Uncharacterized protein  Uncharacterized   \n",
      "\n",
      "                              full_species       short_species  evo_distance  \\\n",
      "proteins_id                                                                    \n",
      "1                        Caudina arenicola             Caudina      2.101128   \n",
      "2                    Stegodyphus mimosarum         Stegodyphus      1.757280   \n",
      "3                       Strigamia maritima           Strigamia      2.041487   \n",
      "4                          Scylla olivacea              Scylla      2.318169   \n",
      "5                          Scylla olivacea              Scylla      2.170775   \n",
      "...                                    ...                 ...           ...   \n",
      "248          Strongylocentrotus purpuratus  Strongylocentrotus      2.586926   \n",
      "249          Strongylocentrotus purpuratus  Strongylocentrotus      2.519191   \n",
      "250          Strongylocentrotus purpuratus  Strongylocentrotus      2.276065   \n",
      "251          Strongylocentrotus purpuratus  Strongylocentrotus      2.867471   \n",
      "252              Strongyloides stercoralis       Strongyloides      3.192954   \n",
      "\n",
      "             Color_species  \n",
      "proteins_id                 \n",
      "1            Echinodermata  \n",
      "2               Arthropoda  \n",
      "3               Arthropoda  \n",
      "4               Arthropoda  \n",
      "5               Arthropoda  \n",
      "...                    ...  \n",
      "248          Echinodermata  \n",
      "249          Echinodermata  \n",
      "250          Echinodermata  \n",
      "251          Echinodermata  \n",
      "252               Nematoda  \n",
      "\n",
      "[252 rows x 12 columns]\n"
     ]
    }
   ],
   "source": [
    "df5 = read_embeddings(path_embedding, path_annotation, withroot=False)"
   ]
  },
  {
   "cell_type": "markdown",
   "id": "63ca5252",
   "metadata": {},
   "source": [
    "Here follow several examples of globin family visualization."
   ]
  },
  {
   "cell_type": "markdown",
   "id": "c3e370aa-2e71-4578-beb8-c99b18e50166",
   "metadata": {},
   "source": [
    "# Globins by name"
   ]
  },
  {
   "cell_type": "markdown",
   "id": "f7940ff0-96aa-4dd9-95bd-fa8d8a919715",
   "metadata": {
    "tags": []
   },
   "source": [
    "Here we color globin proteins by family name:"
   ]
  },
  {
   "cell_type": "code",
   "execution_count": 37,
   "id": "8126de42",
   "metadata": {},
   "outputs": [],
   "source": [
    "globin_palette.update({'Echinodermata': '#086b75', 'Arthropoda': '#0b237c', 'Mollusca': '#512ff8', 'Annelida': '#a191f3', 'Chordata': '#26c9d9', 'Cnidaria': '#ad288b', 'Porifera': '#fdb7fd', 'Placozoa': '#e9bd6b', 'Bacteria': '#f10000', 'Nematoda': '#5d78e3', 'Hemichordata': '#b0ffe8', 'Fungi': '#a0e361', 'Viridiplantae': '#4d9b03'})"
   ]
  },
  {
   "cell_type": "code",
   "execution_count": 40,
   "id": "fb70f1c6",
   "metadata": {},
   "outputs": [],
   "source": [
    "#palette = [\"#086b75\", \"#0b237c\", \"#512ff8\", \"#a191f3\", \"#26c9d9\",\"#ad288b\", \"#fdb7fd\", \"#e9bd6b\", \"#f10000\", \"#5d78e3\", \"#b0ffe8\", \"#a0e361\", \"#4d9b03\"] \n",
    "#sns.color_palette(palette)"
   ]
  },
  {
   "cell_type": "code",
   "execution_count": 41,
   "id": "b1055ecc-099f-4050-b0f9-c586377e6b85",
   "metadata": {},
   "outputs": [
    {
     "name": "stdout",
     "output_type": "stream",
     "text": [
      "Index(['tree1', 'tree2', 'tree3', 'tree4', 'full_name', 'short_name',\n",
      "       'full_species', 'short_species', 'evo_distance', 'Color_species'],\n",
      "      dtype='object')\n"
     ]
    },
    {
     "data": {
      "application/vnd.plotly.v1+json": {
       "config": {
        "plotlyServerURL": "https://plot.ly"
       },
       "data": [
        {
         "customdata": [
          [
           5,
           3,
           3,
           2,
           "Globin C, coelomic",
           "Globin",
           "Caudina arenicola",
           "Caudina",
           2.10112824,
           "Echinodermata"
          ],
          [
           -1,
           39,
           20,
           10,
           "Uncharacterized protein",
           "Uncharacterized",
           "Strongylocentrotus purpuratus",
           "Strongylocentrotus",
           1.75283422,
           "Echinodermata"
          ],
          [
           4,
           2,
           3,
           2,
           "Hemoglobin",
           "Hemoglobin",
           "Hemipholis cordifera",
           "Hemipholis",
           2.32722587,
           "Echinodermata"
          ],
          [
           4,
           2,
           3,
           2,
           "Hemoglobin",
           "Hemoglobin",
           "Ophiactis simplex",
           "Ophiactis",
           2.21961074,
           "Echinodermata"
          ],
          [
           4,
           2,
           3,
           2,
           "Hemoglobin",
           "Hemoglobin",
           "Ophiactis simplex",
           "Ophiactis",
           2.26245834,
           "Echinodermata"
          ],
          [
           14,
           10,
           9,
           3,
           "Uncharacterized protein",
           "Uncharacterized",
           "Strongylocentrotus purpuratus",
           "Strongylocentrotus",
           2.65354782,
           "Echinodermata"
          ],
          [
           14,
           10,
           9,
           3,
           "Uncharacterized protein",
           "Uncharacterized",
           "Strongylocentrotus purpuratus",
           "Strongylocentrotus",
           2.58692572,
           "Echinodermata"
          ],
          [
           -1,
           10,
           9,
           3,
           "Uncharacterized protein",
           "Uncharacterized",
           "Strongylocentrotus purpuratus",
           "Strongylocentrotus",
           2.51919106,
           "Echinodermata"
          ],
          [
           14,
           10,
           9,
           3,
           "Uncharacterized protein",
           "Uncharacterized",
           "Strongylocentrotus purpuratus",
           "Strongylocentrotus",
           2.27606469,
           "Echinodermata"
          ],
          [
           14,
           10,
           9,
           3,
           "Uncharacterized protein",
           "Uncharacterized",
           "Strongylocentrotus purpuratus",
           "Strongylocentrotus",
           2.86747135,
           "Echinodermata"
          ]
         ],
         "hovertemplate": "<b>%{hovertext}</b><br><br>Color_species=%{customdata[9]}<br>pm1=%{x}<br>pm2=%{y}<br>tree1=%{customdata[0]}<br>tree2=%{customdata[1]}<br>tree3=%{customdata[2]}<br>tree4=%{customdata[3]}<br>full_name=%{customdata[4]}<br>short_name=%{customdata[5]}<br>full_species=%{customdata[6]}<br>short_species=%{customdata[7]}<br>evo_distance=%{customdata[8]}<extra></extra>",
         "hovertext": [
          "Echinodermata",
          "Echinodermata",
          "Echinodermata",
          "Echinodermata",
          "Echinodermata",
          "Echinodermata",
          "Echinodermata",
          "Echinodermata",
          "Echinodermata",
          "Echinodermata"
         ],
         "legendgroup": "Echinodermata",
         "marker": {
          "color": "#086b75",
          "symbol": "circle"
         },
         "mode": "markers",
         "name": "Echinodermata",
         "orientation": "v",
         "showlegend": true,
         "type": "scatter",
         "x": [
          -0.21667436,
          0.3052599,
          -0.4302237,
          -0.40556702,
          -0.5173694,
          0.7498732,
          0.77215344,
          0.8194503,
          0.77850014,
          0.82553416
         ],
         "xaxis": "x",
         "y": [
          -0.21860453,
          0.44487974,
          -0.31260967,
          -0.38427094,
          -0.4598606,
          -0.21010426,
          -0.2487095,
          -0.23778594,
          -0.21164958,
          -0.17840342
         ],
         "yaxis": "y"
        },
        {
         "customdata": [
          [
           -1,
           28,
           18,
           10,
           "Globin (Fragment)",
           "Globin",
           "Stegodyphus mimosarum",
           "Stegodyphus",
           1.7572795,
           "Arthropoda"
          ],
          [
           -1,
           27,
           18,
           10,
           "Uncharacterized protein",
           "Uncharacterized",
           "Strigamia maritima",
           "Strigamia",
           2.04148677,
           "Arthropoda"
          ],
          [
           37,
           27,
           18,
           10,
           "Uncharacterized protein",
           "Uncharacterized",
           "Scylla olivacea",
           "Scylla",
           2.31816861,
           "Arthropoda"
          ],
          [
           37,
           27,
           18,
           10,
           "Uncharacterized protein",
           "Uncharacterized",
           "Scylla olivacea",
           "Scylla",
           2.17077532,
           "Arthropoda"
          ],
          [
           37,
           27,
           18,
           10,
           "Hemoglobin",
           "Hemoglobin",
           "Carcinus maenas",
           "Carcinus",
           2.1764956200000003,
           "Arthropoda"
          ],
          [
           -1,
           29,
           18,
           10,
           "Globin, putative",
           "Globin,",
           "Ixodes scapularis",
           "Ixodes",
           2.30448645,
           "Arthropoda"
          ],
          [
           40,
           28,
           18,
           10,
           "Globin",
           "Globin",
           "Zootermopsis nevadensis",
           "Zootermopsis",
           1.87201142,
           "Arthropoda"
          ],
          [
           40,
           28,
           18,
           10,
           "Globin like protein (Fragment)",
           "Globin",
           "Coptotermes formosanus",
           "Coptotermes",
           1.7741922,
           "Arthropoda"
          ],
          [
           -1,
           28,
           18,
           10,
           "Uncharacterized protein",
           "Uncharacterized",
           "Oryctes borbonicus",
           "Oryctes",
           2.08382808,
           "Arthropoda"
          ],
          [
           -1,
           27,
           18,
           10,
           "Uncharacterized protein",
           "Uncharacterized",
           "Tetranychus urticae",
           "Tetranychus",
           2.47172868,
           "Arthropoda"
          ],
          [
           -1,
           40,
           22,
           11,
           "ACYPI007228 protein",
           "ACYPI007228",
           "Acyrthosiphon pisum",
           "Acyrthosiphon",
           0.44459959,
           "Arthropoda"
          ],
          [
           39,
           28,
           18,
           10,
           "Globin 1",
           "Globin",
           "Apis mellifera",
           "Apis",
           2.242503,
           "Arthropoda"
          ],
          [
           39,
           28,
           18,
           10,
           "Putative uncharacterized protein (Fragment)",
           "Putative",
           "Solenopsis invicta",
           "Solenopsis",
           2.64407828,
           "Arthropoda"
          ],
          [
           38,
           28,
           18,
           10,
           "Globin",
           "Globin",
           "Habropoda laboriosa",
           "Habropoda",
           2.60605258,
           "Arthropoda"
          ],
          [
           38,
           28,
           18,
           10,
           "Cygb2_0 protein",
           "Cygb2_0",
           "Fopius arisanus",
           "Fopius",
           2.25335988,
           "Arthropoda"
          ],
          [
           39,
           28,
           18,
           10,
           "Cytoglobin 2",
           "Cytoglobin",
           "Cerapachys biroi",
           "Cerapachys",
           2.52009681,
           "Arthropoda"
          ],
          [
           39,
           28,
           18,
           10,
           "Globin",
           "Globin",
           "Camponotus floridanus",
           "Camponotus",
           2.60584071,
           "Arthropoda"
          ],
          [
           38,
           28,
           18,
           10,
           "Uncharacterized protein",
           "Uncharacterized",
           "Nasonia vitripennis",
           "Nasonia",
           2.25387252,
           "Arthropoda"
          ],
          [
           39,
           28,
           18,
           10,
           "Cytoglobin",
           "Cytoglobin",
           "Acromyrmex echinatior",
           "Acromyrmex",
           2.64639149,
           "Arthropoda"
          ],
          [
           -1,
           28,
           18,
           10,
           "Globin like Protein",
           "Globin",
           "Tribolium castaneum",
           "Tribolium",
           2.42579023,
           "Arthropoda"
          ],
          [
           -1,
           34,
           18,
           10,
           "Cytoglobin 1 like protein",
           "Cytoglobin",
           "Sarcoptes scabiei",
           "Sarcoptes",
           2.036886,
           "Arthropoda"
          ],
          [
           -1,
           37,
           21,
           10,
           "Uncharacterized protein",
           "Uncharacterized",
           "Lutzomyia longipalpis",
           "Lutzomyia",
           1.94649826,
           "Arthropoda"
          ],
          [
           47,
           36,
           21,
           10,
           "Putative hemoglobin like flavoprotein (Fragment)",
           "Hemoglobin",
           "Rhodnius neglectus",
           "Rhodnius",
           1.84627905,
           "Arthropoda"
          ],
          [
           47,
           36,
           21,
           10,
           "Putative hemoglobin like flavoprotein (Fragment)",
           "Hemoglobin",
           "Triatoma infestans",
           "Triatoma",
           1.9043777,
           "Arthropoda"
          ],
          [
           -1,
           29,
           18,
           10,
           "Uncharacterized protein (Fragment)",
           "Uncharacterized",
           "Ixodes ricinus",
           "Ixodes",
           1.7778336,
           "Arthropoda"
          ],
          [
           37,
           27,
           18,
           10,
           "Cytoglobin 2 isoform CYGBi2",
           "Cytoglobin",
           "Cherax destructor",
           "Cherax",
           2.23555225,
           "Arthropoda"
          ],
          [
           17,
           12,
           10,
           4,
           "ACYPI001485 protein",
           "ACYPI001485",
           "Acyrthosiphon pisum",
           "Acyrthosiphon",
           2.696499399999999,
           "Arthropoda"
          ],
          [
           2,
           1,
           2,
           1,
           "Globin 2",
           "Globin",
           "Chironomus riparius",
           "Chironomus",
           2.70002825,
           "Arthropoda"
          ],
          [
           1,
           1,
           2,
           1,
           "Globin",
           "Globin",
           "Polypedilum nubifer",
           "Polypedilum",
           2.36102778,
           "Arthropoda"
          ],
          [
           1,
           1,
           2,
           1,
           "Globin",
           "Globin",
           "Polypedilum vanderplanki",
           "Polypedilum",
           2.43793183,
           "Arthropoda"
          ],
          [
           3,
           1,
           2,
           1,
           "Globin",
           "Globin",
           "Polypedilum vanderplanki",
           "Polypedilum",
           2.2183017099999995,
           "Arthropoda"
          ],
          [
           2,
           1,
           2,
           1,
           "Globin",
           "Globin",
           "Polypedilum nubifer",
           "Polypedilum",
           2.47503634,
           "Arthropoda"
          ],
          [
           3,
           1,
           2,
           1,
           "Globin",
           "Globin",
           "Polypedilum nubifer",
           "Polypedilum",
           2.35802433,
           "Arthropoda"
          ],
          [
           3,
           1,
           2,
           1,
           "Globin",
           "Globin",
           "Polypedilum vanderplanki",
           "Polypedilum",
           2.28362716,
           "Arthropoda"
          ],
          [
           3,
           1,
           2,
           1,
           "Globin 11",
           "Globin",
           "Chironomus riparius",
           "Chironomus",
           2.29971074,
           "Arthropoda"
          ],
          [
           1,
           1,
           2,
           1,
           "ORF E protein",
           "ORF",
           "Chironomus tentans",
           "Chironomus",
           2.85858686,
           "Arthropoda"
          ],
          [
           1,
           1,
           2,
           1,
           "Globin",
           "Globin",
           "Polypedilum nubifer",
           "Polypedilum",
           2.56719369,
           "Arthropoda"
          ],
          [
           1,
           1,
           2,
           1,
           "Globin",
           "Globin",
           "Polypedilum nubifer",
           "Polypedilum",
           2.57670915,
           "Arthropoda"
          ],
          [
           17,
           12,
           10,
           4,
           "Globin D, coelomic, putative",
           "Globin",
           "Pediculus humanus",
           "Pediculus",
           2.749354739999999,
           "Arthropoda"
          ],
          [
           36,
           26,
           18,
           10,
           "Putative uncharacterized protein",
           "Putative",
           "Daphnia pulex",
           "Daphnia",
           2.15851408,
           "Arthropoda"
          ],
          [
           7,
           5,
           1,
           2,
           "Di domain hemoglobin",
           "Hemoglobin",
           "Daphnia magna",
           "Daphnia",
           2.95378198,
           "Arthropoda"
          ],
          [
           7,
           5,
           1,
           2,
           "Putative uncharacterized protein",
           "Putative",
           "Daphnia pulex",
           "Daphnia",
           2.7632934700000003,
           "Arthropoda"
          ],
          [
           7,
           5,
           1,
           2,
           "Putative uncharacterized protein",
           "Putative",
           "Daphnia pulex",
           "Daphnia",
           2.79767424,
           "Arthropoda"
          ],
          [
           -1,
           14,
           10,
           4,
           "Neuroglobin",
           "Neuroglobin",
           "Daphnia magna",
           "Daphnia",
           2.620574789999999,
           "Arthropoda"
          ],
          [
           9,
           4,
           1,
           2,
           "Putative di domain hemoglobin",
           "Hemoglobin",
           "Daphnia magna",
           "Daphnia",
           1.84605186,
           "Arthropoda"
          ],
          [
           9,
           4,
           1,
           2,
           "Putative di domain hemoglobin",
           "Hemoglobin",
           "Daphnia magna",
           "Daphnia",
           1.84634758,
           "Arthropoda"
          ],
          [
           9,
           4,
           1,
           2,
           "Di domain hemoglobin (Fragment)",
           "Hemoglobin",
           "Daphnia magna",
           "Daphnia",
           1.75867537,
           "Arthropoda"
          ],
          [
           9,
           4,
           1,
           2,
           "Di domain hemoglobin (Fragment)",
           "Hemoglobin",
           "Daphnia magna",
           "Daphnia",
           1.7849976899999995,
           "Arthropoda"
          ],
          [
           -1,
           29,
           18,
           10,
           "Beta chain of the tetrameric hemoglobin, putative",
           "Hemoglobin",
           "Ixodes scapularis",
           "Ixodes",
           2.34867746,
           "Arthropoda"
          ],
          [
           9,
           4,
           1,
           2,
           "Putative di domain hemoglobin",
           "Hemoglobin",
           "Daphnia magna",
           "Daphnia",
           1.99097658,
           "Arthropoda"
          ],
          [
           9,
           4,
           1,
           2,
           "Putative di domain hemoglobin (Fragment)",
           "Hemoglobin",
           "Daphnia magna",
           "Daphnia",
           1.89847506,
           "Arthropoda"
          ],
          [
           9,
           4,
           1,
           2,
           "Putative di domain hemoglobin",
           "Hemoglobin",
           "Daphnia magna",
           "Daphnia",
           2.00307168,
           "Arthropoda"
          ],
          [
           -1,
           5,
           1,
           2,
           "Di domain hemoglobin (Fragment)",
           "Hemoglobin",
           "Daphnia magna",
           "Daphnia",
           2.36856662,
           "Arthropoda"
          ],
          [
           39,
           28,
           18,
           10,
           "Globin",
           "Globin",
           "Harpegnathos saltator",
           "Harpegnathos",
           2.62513263,
           "Arthropoda"
          ],
          [
           40,
           28,
           18,
           10,
           "Globin",
           "Globin",
           "Zootermopsis nevadensis",
           "Zootermopsis",
           1.7189102399999998,
           "Arthropoda"
          ],
          [
           6,
           5,
           1,
           2,
           "Di domain hemoglobin",
           "Hemoglobin",
           "Daphnia magna",
           "Daphnia",
           3.08054532,
           "Arthropoda"
          ],
          [
           9,
           4,
           1,
           2,
           "Putative uncharacterized protein",
           "Putative",
           "Daphnia pulex",
           "Daphnia",
           1.88554508,
           "Arthropoda"
          ],
          [
           9,
           4,
           1,
           2,
           "Hemoglobin",
           "Hemoglobin",
           "Daphnia magna",
           "Daphnia",
           1.82335212,
           "Arthropoda"
          ],
          [
           9,
           4,
           1,
           2,
           "Hemoglobin",
           "Hemoglobin",
           "Daphnia pulex",
           "Daphnia",
           1.85557538,
           "Arthropoda"
          ],
          [
           9,
           4,
           1,
           2,
           "Hemoglobin",
           "Hemoglobin",
           "Daphnia pulex",
           "Daphnia",
           1.88942132,
           "Arthropoda"
          ],
          [
           9,
           4,
           1,
           2,
           "Hemoglobin",
           "Hemoglobin",
           "Daphnia pulex",
           "Daphnia",
           1.91532281,
           "Arthropoda"
          ],
          [
           9,
           4,
           1,
           2,
           "Di domain hemoglobin",
           "Hemoglobin",
           "Daphnia magna",
           "Daphnia",
           1.92797924,
           "Arthropoda"
          ],
          [
           8,
           5,
           1,
           2,
           "Putative uncharacterized protein (Fragment)",
           "Putative",
           "Daphnia pulex",
           "Daphnia",
           2.34983516,
           "Arthropoda"
          ],
          [
           8,
           5,
           1,
           2,
           "Uncharacterized protein (Fragment)",
           "Uncharacterized",
           "Daphnia magna",
           "Daphnia",
           2.22413281,
           "Arthropoda"
          ],
          [
           -1,
           -1,
           -1,
           8,
           "Globin (Fragment)",
           "Globin",
           "Operophtera brumata",
           "Operophtera",
           2.5920814199999995,
           "Arthropoda"
          ],
          [
           -1,
           -1,
           18,
           10,
           "Globin",
           "Globin",
           "Daphnia magna",
           "Daphnia",
           2.39585067,
           "Arthropoda"
          ],
          [
           9,
           4,
           1,
           2,
           "Putative di domain hemoglobin (Fragment)",
           "Hemoglobin",
           "Daphnia magna",
           "Daphnia",
           1.97351688,
           "Arthropoda"
          ],
          [
           9,
           4,
           1,
           2,
           "Di domain hemoglobin",
           "Hemoglobin",
           "Daphnia magna",
           "Daphnia",
           2.01628845,
           "Arthropoda"
          ],
          [
           10,
           38,
           22,
           9,
           "Hemoglobin T1 polymer",
           "Hemoglobin",
           "Artemia salina",
           "Artemia",
           1.84725956,
           "Arthropoda"
          ],
          [
           10,
           38,
           22,
           9,
           "Hemoglobin P polymer",
           "Hemoglobin",
           "Parartemia zietziana",
           "Parartemia",
           1.91905851,
           "Arthropoda"
          ],
          [
           11,
           38,
           22,
           9,
           "Hemoglobin T1 polymer",
           "Hemoglobin",
           "Artemia salina",
           "Artemia",
           1.78050468,
           "Arthropoda"
          ],
          [
           11,
           38,
           22,
           9,
           "Hemoglobin P polymer",
           "Hemoglobin",
           "Parartemia zietziana",
           "Parartemia",
           1.73983856,
           "Arthropoda"
          ],
          [
           11,
           38,
           22,
           9,
           "Hemoglobin C1 polymer",
           "Hemoglobin",
           "Artemia salina",
           "Artemia",
           1.70252921,
           "Arthropoda"
          ],
          [
           36,
           26,
           18,
           10,
           "Cytoglobin 2",
           "Cytoglobin",
           "Daphnia magna",
           "Daphnia",
           2.23126274,
           "Arthropoda"
          ],
          [
           -1,
           -1,
           18,
           10,
           "Globin like protein 1",
           "Globin",
           "Sarcoptes scabiei",
           "Sarcoptes",
           2.11760394,
           "Arthropoda"
          ],
          [
           -1,
           38,
           22,
           9,
           "Hemoglobin P polymer",
           "Hemoglobin",
           "Parartemia zietziana",
           "Parartemia",
           2.0891213,
           "Arthropoda"
          ],
          [
           -1,
           40,
           22,
           11,
           "Uncharacterized protein",
           "Uncharacterized",
           "Acyrthosiphon pisum",
           "Acyrthosiphon",
           0.90085961,
           "Arthropoda"
          ],
          [
           -1,
           12,
           10,
           4,
           "Uncharacterized protein",
           "Uncharacterized",
           "Lepeophtheirus salmonis",
           "Lepeophtheirus",
           3.34308881,
           "Arthropoda"
          ],
          [
           -1,
           37,
           21,
           10,
           "Uncharacterized protein",
           "Uncharacterized",
           "Glossina morsitans",
           "Glossina",
           2.01930981,
           "Arthropoda"
          ],
          [
           -1,
           -1,
           19,
           10,
           "Cytoglobin1like [Saccoglossus kowalevskii]",
           "Cytoglobin",
           "Lepeophtheirus salmonis",
           "Lepeophtheirus",
           2.17551995,
           "Arthropoda"
          ],
          [
           6,
           5,
           1,
           2,
           "Di domain hemoglobin (Fragment)",
           "Hemoglobin",
           "Daphnia magna",
           "Daphnia",
           2.94537689,
           "Arthropoda"
          ],
          [
           -1,
           12,
           10,
           4,
           "Neuroglobinlike [Maylandia zebra]",
           "Neuroglobin",
           "Lepeophtheirus salmonis",
           "Lepeophtheirus",
           3.308708769999999,
           "Arthropoda"
          ],
          [
           9,
           4,
           1,
           2,
           "Di domain hemoglobin like protein",
           "Hemoglobin",
           "Daphnia magna",
           "Daphnia",
           2.34751979,
           "Arthropoda"
          ],
          [
           -1,
           -1,
           -1,
           2,
           "Putative di domain hemoglobin (Fragment)",
           "Hemoglobin",
           "Daphnia magna",
           "Daphnia",
           2.5254769,
           "Arthropoda"
          ]
         ],
         "hovertemplate": "<b>%{hovertext}</b><br><br>Color_species=%{customdata[9]}<br>pm1=%{x}<br>pm2=%{y}<br>tree1=%{customdata[0]}<br>tree2=%{customdata[1]}<br>tree3=%{customdata[2]}<br>tree4=%{customdata[3]}<br>full_name=%{customdata[4]}<br>short_name=%{customdata[5]}<br>full_species=%{customdata[6]}<br>short_species=%{customdata[7]}<br>evo_distance=%{customdata[8]}<extra></extra>",
         "hovertext": [
          "Arthropoda",
          "Arthropoda",
          "Arthropoda",
          "Arthropoda",
          "Arthropoda",
          "Arthropoda",
          "Arthropoda",
          "Arthropoda",
          "Arthropoda",
          "Arthropoda",
          "Arthropoda",
          "Arthropoda",
          "Arthropoda",
          "Arthropoda",
          "Arthropoda",
          "Arthropoda",
          "Arthropoda",
          "Arthropoda",
          "Arthropoda",
          "Arthropoda",
          "Arthropoda",
          "Arthropoda",
          "Arthropoda",
          "Arthropoda",
          "Arthropoda",
          "Arthropoda",
          "Arthropoda",
          "Arthropoda",
          "Arthropoda",
          "Arthropoda",
          "Arthropoda",
          "Arthropoda",
          "Arthropoda",
          "Arthropoda",
          "Arthropoda",
          "Arthropoda",
          "Arthropoda",
          "Arthropoda",
          "Arthropoda",
          "Arthropoda",
          "Arthropoda",
          "Arthropoda",
          "Arthropoda",
          "Arthropoda",
          "Arthropoda",
          "Arthropoda",
          "Arthropoda",
          "Arthropoda",
          "Arthropoda",
          "Arthropoda",
          "Arthropoda",
          "Arthropoda",
          "Arthropoda",
          "Arthropoda",
          "Arthropoda",
          "Arthropoda",
          "Arthropoda",
          "Arthropoda",
          "Arthropoda",
          "Arthropoda",
          "Arthropoda",
          "Arthropoda",
          "Arthropoda",
          "Arthropoda",
          "Arthropoda",
          "Arthropoda",
          "Arthropoda",
          "Arthropoda",
          "Arthropoda",
          "Arthropoda",
          "Arthropoda",
          "Arthropoda",
          "Arthropoda",
          "Arthropoda",
          "Arthropoda",
          "Arthropoda",
          "Arthropoda",
          "Arthropoda",
          "Arthropoda",
          "Arthropoda",
          "Arthropoda",
          "Arthropoda",
          "Arthropoda",
          "Arthropoda"
         ],
         "legendgroup": "Arthropoda",
         "marker": {
          "color": "#0b237c",
          "symbol": "circle"
         },
         "mode": "markers",
         "name": "Arthropoda",
         "orientation": "v",
         "showlegend": true,
         "type": "scatter",
         "x": [
          -0.24626446,
          -0.47054383,
          -0.63619757,
          -0.5592275,
          -0.6106947,
          -0.39653635,
          -0.3187841,
          -0.26323253,
          -0.3479131,
          -0.4966424,
          -0.03961237,
          -0.3140081,
          -0.32874995,
          -0.31312993,
          -0.27427414,
          -0.3288361,
          -0.3337321,
          -0.28614563,
          -0.32835472,
          -0.1983768,
          -0.15023288,
          -0.2374086,
          -0.40341073,
          -0.30441177,
          -0.4500374,
          -0.62328726,
          0.40053076,
          -0.8683421,
          -0.8848955,
          -0.8797937,
          -0.863739,
          -0.8809491,
          -0.8836434,
          -0.8775135,
          -0.892957,
          -0.8990793,
          -0.893807,
          -0.8878507,
          0.38315782,
          -0.5573055,
          -0.7360183,
          -0.73913395,
          -0.73716295,
          0.3855695,
          -0.69659466,
          -0.6825689,
          -0.7207162,
          -0.7214728,
          -0.35276818,
          -0.6498108,
          -0.67505234,
          -0.67153835,
          -0.72449684,
          -0.3307095,
          -0.26639497,
          -0.7454826,
          -0.7313903,
          -0.74990076,
          -0.7540449,
          -0.76117057,
          -0.75870085,
          -0.7035043,
          -0.72347367,
          -0.7008931,
          0.30275017,
          -0.3498966,
          -0.70766443,
          -0.71583647,
          -0.77368903,
          -0.7811032,
          -0.7430581,
          -0.75057,
          -0.75238556,
          -0.4681326,
          -0.29509747,
          -0.72880983,
          -0.047171053,
          0.36544204,
          -0.17472373,
          -0.521387,
          -0.74533737,
          0.282923,
          -0.6952113,
          -0.6642118
         ],
         "xaxis": "x",
         "y": [
          0.018228846,
          0.13331215,
          0.14543886,
          0.15505402,
          0.1088888,
          0.04160786,
          -0.03921273,
          0.14594887,
          0.10097041,
          0.06428482,
          0.16208796,
          0.4147196,
          0.42633247,
          0.42841852,
          0.36854163,
          0.4256392,
          0.4200103,
          0.40599293,
          0.42652923,
          0.23160113,
          -0.026678458,
          0.37581906,
          0.578061,
          0.27104,
          0.04888431,
          0.13795426,
          -0.77695465,
          0.32990235,
          0.3173556,
          0.32228687,
          0.3131414,
          0.3317413,
          0.29823494,
          0.30634847,
          0.30591473,
          0.3189666,
          0.3269912,
          0.337026,
          -0.79825425,
          -0.06725375,
          -0.6108962,
          -0.6168871,
          -0.6220088,
          -0.75012237,
          -0.5037919,
          -0.48971206,
          -0.50741327,
          -0.53169763,
          0.16588998,
          -0.5359842,
          -0.54306906,
          -0.5203888,
          -0.61525196,
          0.42420337,
          0.09677661,
          -0.60739666,
          -0.49065658,
          -0.53087693,
          -0.5056832,
          -0.50007147,
          -0.5146827,
          -0.48809543,
          -0.58513314,
          -0.592138,
          0.7450999,
          0.40934163,
          -0.4491311,
          -0.4661296,
          -0.06273218,
          -0.087382644,
          -0.06714899,
          -0.08059937,
          -0.091650546,
          -0.074411534,
          0.07560197,
          -0.120075434,
          0.17393063,
          -0.82538587,
          0.41055894,
          0.19650923,
          -0.61631054,
          -0.84886396,
          -0.47226295,
          -0.31308085
         ],
         "yaxis": "y"
        },
        {
         "customdata": [
          [
           45,
           33,
           18,
           10,
           "Uncharacterized protein",
           "Uncharacterized",
           "Arion vulgaris",
           "Arion",
           1.97427266,
           "Mollusca"
          ],
          [
           45,
           33,
           18,
           10,
           "Uncharacterized protein",
           "Uncharacterized",
           "Arion vulgaris",
           "Arion",
           2.08013658,
           "Mollusca"
          ],
          [
           18,
           14,
           10,
           4,
           "Cytoglobin 2",
           "Cytoglobin",
           "Crassostrea gigas",
           "Crassostrea",
           2.89814466,
           "Mollusca"
          ],
          [
           19,
           14,
           10,
           4,
           "Uncharacterized protein (Fragment)",
           "Uncharacterized",
           "Lottia gigantea",
           "Lottia",
           2.350108079999999,
           "Mollusca"
          ],
          [
           19,
           14,
           10,
           4,
           "Uncharacterized protein (Fragment)",
           "Uncharacterized",
           "Lottia gigantea",
           "Lottia",
           2.4627551299999992,
           "Mollusca"
          ],
          [
           -1,
           14,
           10,
           4,
           "Uncharacterized protein (Fragment)",
           "Uncharacterized",
           "Lottia gigantea",
           "Lottia",
           3.15607834,
           "Mollusca"
          ],
          [
           19,
           14,
           10,
           4,
           "Uncharacterized protein",
           "Uncharacterized",
           "Lottia gigantea",
           "Lottia",
           2.6062900199999994,
           "Mollusca"
          ],
          [
           43,
           31,
           17,
           10,
           "Globin 2 A chain",
           "Globin",
           "Anadara inaequivalvis",
           "Anadara",
           2.93935263,
           "Mollusca"
          ],
          [
           -1,
           -1,
           17,
           10,
           "Nerve hemoglobin",
           "Hemoglobin",
           "Spisula solidissima",
           "Spisula",
           2.92864342,
           "Mollusca"
          ],
          [
           -1,
           31,
           17,
           10,
           "Hemoglobin (Heterodimeric)",
           "Hemoglobin",
           "Barbatia virescens",
           "Barbatia",
           2.80988922,
           "Mollusca"
          ],
          [
           43,
           31,
           17,
           10,
           "Globin, minor",
           "Globin,",
           "Anadara trapezia",
           "Anadara",
           3.2788812000000003,
           "Mollusca"
          ],
          [
           43,
           31,
           17,
           10,
           "Globin 2 B chain",
           "Globin",
           "Anadara inaequivalvis",
           "Anadara",
           3.13812794,
           "Mollusca"
          ],
          [
           -1,
           -1,
           18,
           10,
           "Globin",
           "Globin",
           "Crassostrea gigas",
           "Crassostrea",
           2.20001602,
           "Mollusca"
          ],
          [
           19,
           14,
           10,
           4,
           "Neuroglobin 1",
           "Neuroglobin",
           "Crassostrea gigas",
           "Crassostrea",
           2.4302546899999995,
           "Mollusca"
          ],
          [
           19,
           14,
           10,
           4,
           "Uncharacterized protein",
           "Uncharacterized",
           "Arion vulgaris",
           "Arion",
           2.53586098,
           "Mollusca"
          ],
          [
           42,
           32,
           16,
           10,
           "Globin",
           "Globin",
           "Nassarius mutabilis",
           "Nassarius",
           2.69282831,
           "Mollusca"
          ],
          [
           41,
           32,
           16,
           10,
           "Uncharacterized protein",
           "Uncharacterized",
           "Lottia gigantea",
           "Lottia",
           2.30991023,
           "Mollusca"
          ],
          [
           41,
           32,
           16,
           10,
           "Uncharacterized protein",
           "Uncharacterized",
           "Lottia gigantea",
           "Lottia",
           2.3265049,
           "Mollusca"
          ],
          [
           42,
           32,
           16,
           10,
           "Globin",
           "Globin",
           "Cerithidea rhizophorarum",
           "Cerithidea",
           2.81440342,
           "Mollusca"
          ],
          [
           23,
           16,
           20,
           7,
           "Uncharacterized protein",
           "Uncharacterized",
           "Arion vulgaris",
           "Arion",
           2.60859124,
           "Mollusca"
          ],
          [
           -1,
           16,
           20,
           7,
           "Uncharacterized protein",
           "Uncharacterized",
           "Lottia gigantea",
           "Lottia",
           2.7304677,
           "Mollusca"
          ],
          [
           23,
           16,
           20,
           7,
           "Cytoglobin 1",
           "Cytoglobin",
           "Crassostrea gigas",
           "Crassostrea",
           2.85491961,
           "Mollusca"
          ],
          [
           -1,
           -1,
           2,
           1,
           "Globin",
           "Globin",
           "Nerita albicilla",
           "Nerita",
           2.08733768,
           "Mollusca"
          ],
          [
           -1,
           -1,
           17,
           10,
           "Hemoglobin II",
           "Hemoglobin",
           "Phacoides pectinatus",
           "Phacoides",
           2.9455253599999995,
           "Mollusca"
          ],
          [
           -1,
           7,
           4,
           7,
           "Cytoglobin 2",
           "Cytoglobin",
           "Crassostrea gigas",
           "Crassostrea",
           2.34885314,
           "Mollusca"
          ],
          [
           19,
           14,
           10,
           4,
           "Uncharacterized protein",
           "Uncharacterized",
           "Octopus bimaculoides",
           "Octopus",
           2.550460389999999,
           "Mollusca"
          ],
          [
           -1,
           7,
           4,
           7,
           "Uncharacterized protein",
           "Uncharacterized",
           "Lottia gigantea",
           "Lottia",
           2.43279945,
           "Mollusca"
          ],
          [
           18,
           14,
           10,
           4,
           "Nacrein like protein F",
           "Nacrein",
           "Crassostrea gigas",
           "Crassostrea",
           3.01650571,
           "Mollusca"
          ],
          [
           23,
           16,
           20,
           7,
           "Uncharacterized protein",
           "Uncharacterized",
           "Lottia gigantea",
           "Lottia",
           2.73087099,
           "Mollusca"
          ],
          [
           44,
           30,
           17,
           10,
           "Two domain chain of the polymeric hemoglobin (Intracellular)",
           "Hemoglobin",
           "Barbatia lima",
           "Barbatia",
           2.72130571,
           "Mollusca"
          ],
          [
           44,
           30,
           17,
           10,
           "Hemoglobin (2 domain)",
           "Hemoglobin",
           "Barbatia lima",
           "Barbatia",
           2.73232709,
           "Mollusca"
          ],
          [
           32,
           22,
           11,
           5,
           "Hemoglobin (Fragment)",
           "Hemoglobin",
           "Biomphalaria glabrata",
           "Biomphalaria",
           3.48471231,
           "Mollusca"
          ],
          [
           32,
           22,
           11,
           5,
           "Uncharacterized protein",
           "Uncharacterized",
           "Biomphalaria glabrata",
           "Biomphalaria",
           3.63841564,
           "Mollusca"
          ],
          [
           32,
           22,
           11,
           5,
           "Uncharacterized protein",
           "Uncharacterized",
           "Biomphalaria glabrata",
           "Biomphalaria",
           3.38373079,
           "Mollusca"
          ],
          [
           32,
           22,
           11,
           5,
           "Haemoglobin type 1",
           "Hemoglobin",
           "Biomphalaria glabrata",
           "Biomphalaria",
           3.53221633,
           "Mollusca"
          ],
          [
           32,
           22,
           11,
           5,
           "Uncharacterized protein",
           "Uncharacterized",
           "Biomphalaria glabrata",
           "Biomphalaria",
           3.61489538,
           "Mollusca"
          ]
         ],
         "hovertemplate": "<b>%{hovertext}</b><br><br>Color_species=%{customdata[9]}<br>pm1=%{x}<br>pm2=%{y}<br>tree1=%{customdata[0]}<br>tree2=%{customdata[1]}<br>tree3=%{customdata[2]}<br>tree4=%{customdata[3]}<br>full_name=%{customdata[4]}<br>short_name=%{customdata[5]}<br>full_species=%{customdata[6]}<br>short_species=%{customdata[7]}<br>evo_distance=%{customdata[8]}<extra></extra>",
         "hovertext": [
          "Mollusca",
          "Mollusca",
          "Mollusca",
          "Mollusca",
          "Mollusca",
          "Mollusca",
          "Mollusca",
          "Mollusca",
          "Mollusca",
          "Mollusca",
          "Mollusca",
          "Mollusca",
          "Mollusca",
          "Mollusca",
          "Mollusca",
          "Mollusca",
          "Mollusca",
          "Mollusca",
          "Mollusca",
          "Mollusca",
          "Mollusca",
          "Mollusca",
          "Mollusca",
          "Mollusca",
          "Mollusca",
          "Mollusca",
          "Mollusca",
          "Mollusca",
          "Mollusca",
          "Mollusca",
          "Mollusca",
          "Mollusca",
          "Mollusca",
          "Mollusca",
          "Mollusca",
          "Mollusca"
         ],
         "legendgroup": "Mollusca",
         "marker": {
          "color": "#512ff8",
          "symbol": "circle"
         },
         "mode": "markers",
         "name": "Mollusca",
         "orientation": "v",
         "showlegend": true,
         "type": "scatter",
         "x": [
          -0.5632335,
          -0.5406315,
          0.31335583,
          0.339052,
          0.33656132,
          0.27702993,
          0.31789938,
          -0.26913992,
          -0.21427329,
          -0.29695117,
          -0.26053888,
          -0.26132736,
          -0.4371524,
          0.33402863,
          0.27739912,
          -0.62851083,
          -0.62938076,
          -0.62264246,
          -0.6287871,
          0.26909155,
          0.2910724,
          0.32616085,
          -0.5722885,
          -0.6546928,
          0.922799,
          0.3494083,
          0.9120393,
          0.3218646,
          0.3474818,
          -0.2493298,
          -0.25640714,
          -0.34052688,
          -0.36898214,
          -0.30988726,
          -0.3534192,
          -0.3310051
         ],
         "xaxis": "x",
         "y": [
          0.258736,
          0.23058921,
          -0.80586225,
          -0.79243064,
          -0.729624,
          -0.7941677,
          -0.76619756,
          -0.6253316,
          -0.5236178,
          -0.604285,
          -0.6309342,
          -0.6243426,
          0.100146346,
          -0.7703245,
          -0.7371957,
          0.34271908,
          0.31993392,
          0.32381314,
          0.33524784,
          -0.38277054,
          -0.3300073,
          -0.43024892,
          0.36743116,
          0.26391423,
          0.0847699,
          -0.78040767,
          0.073968746,
          -0.8233266,
          -0.37915847,
          -0.60034823,
          -0.6015103,
          0.7340775,
          0.74283814,
          0.75794506,
          0.7258138,
          0.7550632
         ],
         "yaxis": "y"
        },
        {
         "customdata": [
          [
           13,
           17,
           5,
           7,
           "Uncharacterized protein",
           "Uncharacterized",
           "Capitella teleta",
           "Capitella",
           2.1436955,
           "Annelida"
          ],
          [
           -1,
           -1,
           4,
           7,
           "Uncharacterized protein",
           "Uncharacterized",
           "Capitella teleta",
           "Capitella",
           2.50218703,
           "Annelida"
          ],
          [
           13,
           17,
           5,
           7,
           "Uncharacterized protein",
           "Uncharacterized",
           "Capitella teleta",
           "Capitella",
           2.2371513499999995,
           "Annelida"
          ],
          [
           -1,
           17,
           5,
           7,
           "Uncharacterized protein (Fragment)",
           "Uncharacterized",
           "Capitella teleta",
           "Capitella",
           2.66909204,
           "Annelida"
          ],
          [
           -1,
           34,
           18,
           10,
           "Uncharacterized protein",
           "Uncharacterized",
           "Capitella teleta",
           "Capitella",
           2.02076984,
           "Annelida"
          ],
          [
           -1,
           14,
           10,
           4,
           "Uncharacterized protein",
           "Uncharacterized",
           "Capitella teleta",
           "Capitella",
           3.0766556599999992,
           "Annelida"
          ],
          [
           -1,
           -1,
           3,
           2,
           "Extracellular globin 1",
           "Extracellular",
           "Metaphire sieboldi",
           "Metaphire",
           2.43355891,
           "Annelida"
          ],
          [
           -1,
           14,
           10,
           4,
           "Uncharacterized protein",
           "Uncharacterized",
           "Capitella teleta",
           "Capitella",
           3.0074926799999995,
           "Annelida"
          ],
          [
           -1,
           17,
           5,
           7,
           "Uncharacterized protein",
           "Uncharacterized",
           "Capitella teleta",
           "Capitella",
           2.42843133,
           "Annelida"
          ]
         ],
         "hovertemplate": "<b>%{hovertext}</b><br><br>Color_species=%{customdata[9]}<br>pm1=%{x}<br>pm2=%{y}<br>tree1=%{customdata[0]}<br>tree2=%{customdata[1]}<br>tree3=%{customdata[2]}<br>tree4=%{customdata[3]}<br>full_name=%{customdata[4]}<br>short_name=%{customdata[5]}<br>full_species=%{customdata[6]}<br>short_species=%{customdata[7]}<br>evo_distance=%{customdata[8]}<extra></extra>",
         "hovertext": [
          "Annelida",
          "Annelida",
          "Annelida",
          "Annelida",
          "Annelida",
          "Annelida",
          "Annelida",
          "Annelida",
          "Annelida"
         ],
         "legendgroup": "Annelida",
         "marker": {
          "color": "#a191f3",
          "symbol": "circle"
         },
         "mode": "markers",
         "name": "Annelida",
         "orientation": "v",
         "showlegend": true,
         "type": "scatter",
         "x": [
          0.91033936,
          0.92844415,
          0.8824557,
          0.9122024,
          -0.21909064,
          0.29622197,
          -0.7644506,
          0.35025325,
          0.9026783
         ],
         "xaxis": "x",
         "y": [
          0.054009266,
          0.068173505,
          0.05633255,
          0.10156787,
          -0.071306035,
          -0.7692258,
          -0.47261742,
          -0.7575567,
          0.085135356
         ],
         "yaxis": "y"
        },
        {
         "customdata": [
          [
           -1,
           13,
           8,
           4,
           "Neuroglobin like",
           "Neuroglobin",
           "Scleropages formosus",
           "Scleropages",
           2.75087931,
           "Chordata"
          ],
          [
           -1,
           23,
           14,
           6,
           "Globin",
           "Globin",
           "Branchiostoma floridae",
           "Branchiostoma",
           2.1325129,
           "Chordata"
          ],
          [
           -1,
           39,
           20,
           7,
           "Putative uncharacterized protein",
           "Putative",
           "Branchiostoma floridae",
           "Branchiostoma",
           1.93258564,
           "Chordata"
          ],
          [
           29,
           20,
           12,
           5,
           "Cytoglobin b",
           "Cytoglobin",
           "Xenopus laevis",
           "Xenopus",
           2.2875242,
           "Chordata"
          ],
          [
           29,
           20,
           12,
           5,
           "Uncharacterized protein",
           "Uncharacterized",
           "Oreochromis niloticus",
           "Oreochromis",
           2.19807532,
           "Chordata"
          ],
          [
           29,
           20,
           12,
           5,
           "Cytoglobin",
           "Cytoglobin",
           "Nothobranchius korthausae",
           "Nothobranchius",
           2.2776364,
           "Chordata"
          ],
          [
           28,
           20,
           12,
           5,
           "Uncharacterized protein (Fragment)",
           "Uncharacterized",
           "Gasterosteus aculeatus",
           "Gasterosteus",
           2.2892364899999995,
           "Chordata"
          ],
          [
           29,
           20,
           12,
           5,
           "Cytoglobin",
           "Cytoglobin",
           "Bos mutus",
           "Bos",
           2.42091472,
           "Chordata"
          ],
          [
           29,
           20,
           12,
           5,
           "Cytoglobin 1",
           "Cytoglobin",
           "Iguana iguana",
           "Iguana",
           2.26895595,
           "Chordata"
          ],
          [
           28,
           20,
           12,
           5,
           "Cytoglobin 1",
           "Cytoglobin",
           "Oryzias latipes",
           "Oryzias",
           2.25311924,
           "Chordata"
          ],
          [
           29,
           20,
           12,
           5,
           "Uncharacterized protein",
           "Uncharacterized",
           "Anas platyrhynchos",
           "Anas",
           2.24009126,
           "Chordata"
          ],
          [
           28,
           20,
           12,
           5,
           "Uncharacterized protein",
           "Uncharacterized",
           "Tetraodon nigroviridis",
           "Tetraodon",
           2.4499165100000004,
           "Chordata"
          ],
          [
           28,
           20,
           12,
           5,
           "Uncharacterized protein (Fragment)",
           "Uncharacterized",
           "Takifugu rubripes",
           "Takifugu",
           2.4839830600000004,
           "Chordata"
          ],
          [
           29,
           20,
           12,
           5,
           "Cytoglobin 2",
           "Cytoglobin",
           "Tetraodon nigroviridis",
           "Tetraodon",
           2.23168579,
           "Chordata"
          ],
          [
           29,
           20,
           12,
           5,
           "Uncharacterized protein",
           "Uncharacterized",
           "Tetraodon nigroviridis",
           "Tetraodon",
           2.36374552,
           "Chordata"
          ],
          [
           28,
           20,
           12,
           5,
           "Uncharacterized protein",
           "Uncharacterized",
           "Xiphophorus maculatus",
           "Xiphophorus",
           2.2426578000000004,
           "Chordata"
          ],
          [
           28,
           20,
           12,
           5,
           "Cytoglobin 1",
           "Cytoglobin",
           "Larimichthys crocea",
           "Larimichthys",
           2.27502112,
           "Chordata"
          ],
          [
           29,
           20,
           12,
           5,
           "Uncharacterized protein",
           "Uncharacterized",
           "Oncorhynchus mykiss",
           "Oncorhynchus",
           2.20579096,
           "Chordata"
          ],
          [
           28,
           20,
           12,
           5,
           "Cytoglobin 1",
           "Cytoglobin",
           "Nothobranchius pienaari",
           "Nothobranchius",
           2.2369473400000004,
           "Chordata"
          ],
          [
           29,
           20,
           12,
           5,
           "Cytoglobin",
           "Cytoglobin",
           "Alligator mississippiensis",
           "Alligator",
           2.16168743,
           "Chordata"
          ],
          [
           29,
           20,
           12,
           5,
           "Uncharacterized protein",
           "Uncharacterized",
           "Astyanax mexicanus",
           "Astyanax",
           2.05393176,
           "Chordata"
          ],
          [
           29,
           20,
           12,
           5,
           "Uncharacterized protein",
           "Uncharacterized",
           "Latimeria chalumnae",
           "Latimeria",
           2.23058219,
           "Chordata"
          ],
          [
           29,
           20,
           12,
           5,
           "Cytoglobin 2",
           "Cytoglobin",
           "Ictalurus punctatus",
           "Ictalurus",
           2.12180628,
           "Chordata"
          ],
          [
           28,
           20,
           12,
           5,
           "Cytoglobin",
           "Cytoglobin",
           "Chaenocephalus aceratus",
           "Chaenocephalus",
           2.27395144,
           "Chordata"
          ],
          [
           29,
           20,
           12,
           5,
           "Cygb2 protein",
           "Cygb2",
           "Danio rerio",
           "Danio",
           2.05149233,
           "Chordata"
          ],
          [
           28,
           20,
           12,
           5,
           "Uncharacterized protein",
           "Uncharacterized",
           "Oreochromis niloticus",
           "Oreochromis",
           2.15346116,
           "Chordata"
          ],
          [
           28,
           20,
           12,
           5,
           "Cytoglobin",
           "Cytoglobin",
           "Oncorhynchus mykiss",
           "Oncorhynchus",
           2.15784398,
           "Chordata"
          ],
          [
           31,
           20,
           12,
           5,
           "Uncharacterized protein",
           "Uncharacterized",
           "Astyanax mexicanus",
           "Astyanax",
           2.18361902,
           "Chordata"
          ],
          [
           31,
           20,
           12,
           5,
           "Cytoglobin 1",
           "Cytoglobin",
           "Cyprinus carpio",
           "Cyprinus",
           2.06025855,
           "Chordata"
          ],
          [
           29,
           20,
           12,
           5,
           "Cytoglobin",
           "Cytoglobin",
           "Callorhinchus milii",
           "Callorhinchus",
           2.39273588,
           "Chordata"
          ],
          [
           31,
           20,
           12,
           5,
           "Cytoglobin 1",
           "Cytoglobin",
           "Danio rerio",
           "Danio",
           2.16806595,
           "Chordata"
          ],
          [
           31,
           20,
           12,
           5,
           "Cytoglobin 1",
           "Cytoglobin",
           "Ictalurus punctatus",
           "Ictalurus",
           2.19052877,
           "Chordata"
          ],
          [
           -1,
           18,
           13,
           5,
           "Uncharacterized protein",
           "Uncharacterized",
           "Lepisosteus oculatus",
           "Lepisosteus",
           2.35310711,
           "Chordata"
          ],
          [
           16,
           11,
           10,
           4,
           "GbX1",
           "GbX1",
           "Callorhinchus milii",
           "Callorhinchus",
           2.948089519999999,
           "Chordata"
          ],
          [
           16,
           11,
           10,
           4,
           "GbX2",
           "GbX2",
           "Callorhinchus milii",
           "Callorhinchus",
           3.0123761099999995,
           "Chordata"
          ],
          [
           16,
           11,
           10,
           4,
           "Chromosome 10 SCAF15019, whole genome shotgun sequence",
           "Chromosome",
           "Tetraodon nigroviridis",
           "Tetraodon",
           3.1074634799999994,
           "Chordata"
          ],
          [
           16,
           11,
           10,
           4,
           "Cytoglobin 1",
           "Cytoglobin",
           "Chelonia mydas",
           "Chelonia",
           2.706756999999999,
           "Chordata"
          ],
          [
           16,
           11,
           10,
           4,
           "Uncharacterized protein",
           "Uncharacterized",
           "Poecilia formosa",
           "Poecilia",
           3.0849746199999992,
           "Chordata"
          ],
          [
           16,
           11,
           10,
           4,
           "Uncharacterized protein",
           "Uncharacterized",
           "Lepisosteus oculatus",
           "Lepisosteus",
           2.843704849999999,
           "Chordata"
          ],
          [
           16,
           11,
           10,
           4,
           "Uncharacterized protein",
           "Uncharacterized",
           "Latimeria chalumnae",
           "Latimeria",
           2.74467532,
           "Chordata"
          ],
          [
           16,
           11,
           10,
           4,
           "Xgb protein",
           "Xgb",
           "Danio rerio",
           "Danio",
           3.15932725,
           "Chordata"
          ],
          [
           16,
           11,
           10,
           4,
           "Uncharacterized protein",
           "Uncharacterized",
           "Lepisosteus oculatus",
           "Lepisosteus",
           2.98219578,
           "Chordata"
          ],
          [
           16,
           11,
           10,
           4,
           "Uncharacterized protein",
           "Uncharacterized",
           "Xenopus tropicalis",
           "Xenopus",
           3.07574532,
           "Chordata"
          ],
          [
           16,
           11,
           10,
           4,
           "Cytoglobin 2",
           "Cytoglobin",
           "Ictalurus punctatus",
           "Ictalurus",
           3.15839468,
           "Chordata"
          ],
          [
           16,
           11,
           10,
           4,
           "Uncharacterized protein",
           "Uncharacterized",
           "Oreochromis niloticus",
           "Oreochromis",
           3.245876129999999,
           "Chordata"
          ],
          [
           16,
           11,
           10,
           4,
           "Uncharacterized protein",
           "Uncharacterized",
           "Oncorhynchus mykiss",
           "Oncorhynchus",
           3.104564709999999,
           "Chordata"
          ],
          [
           34,
           23,
           14,
           6,
           "Globin",
           "Globin",
           "Branchiostoma floridae",
           "Branchiostoma",
           2.16645269,
           "Chordata"
          ],
          [
           16,
           11,
           10,
           4,
           "Uncharacterized protein",
           "Uncharacterized",
           "Oncorhynchus mykiss",
           "Oncorhynchus",
           3.152127119999999,
           "Chordata"
          ],
          [
           16,
           11,
           10,
           4,
           "Neuroglobin like (Fragment)",
           "Neuroglobin",
           "Scleropages formosus",
           "Scleropages",
           3.024390219999999,
           "Chordata"
          ],
          [
           33,
           24,
           14,
           6,
           "Uncharacterized protein",
           "Uncharacterized",
           "Ciona savignyi",
           "Ciona",
           2.80514043,
           "Chordata"
          ],
          [
           33,
           24,
           14,
           6,
           "Uncharacterized protein",
           "Uncharacterized",
           "Ciona intestinalis",
           "Ciona",
           2.81068422,
           "Chordata"
          ],
          [
           33,
           24,
           14,
           6,
           "Globin",
           "Globin",
           "Ciona intestinalis",
           "Ciona",
           2.83829804,
           "Chordata"
          ],
          [
           33,
           24,
           14,
           6,
           "Uncharacterized protein",
           "Uncharacterized",
           "Ciona savignyi",
           "Ciona",
           2.96556729,
           "Chordata"
          ],
          [
           35,
           24,
           14,
           6,
           "Uncharacterized protein",
           "Uncharacterized",
           "Ciona savignyi",
           "Ciona",
           2.65847977,
           "Chordata"
          ],
          [
           35,
           24,
           14,
           6,
           "Globin",
           "Globin",
           "Ciona intestinalis",
           "Ciona",
           2.60884268,
           "Chordata"
          ],
          [
           -1,
           21,
           12,
           5,
           "Uncharacterized protein (Fragment)",
           "Uncharacterized",
           "Petromyzon marinus",
           "Petromyzon",
           2.23124498,
           "Chordata"
          ],
          [
           30,
           21,
           12,
           5,
           "Hemoglobin 4",
           "Hemoglobin",
           "Lethenteron camtschaticum",
           "Lethenteron",
           2.45118652,
           "Chordata"
          ],
          [
           30,
           21,
           12,
           5,
           "Uncharacterized protein",
           "Uncharacterized",
           "Petromyzon marinus",
           "Petromyzon",
           2.3065607,
           "Chordata"
          ],
          [
           30,
           21,
           12,
           5,
           "Uncharacterized protein",
           "Uncharacterized",
           "Petromyzon marinus",
           "Petromyzon",
           2.36968937,
           "Chordata"
          ],
          [
           27,
           19,
           13,
           5,
           "Hemoglobin subunit alpha",
           "Hemoglobin",
           "Cavia porcellus",
           "Cavia",
           2.68180205,
           "Chordata"
          ],
          [
           27,
           19,
           13,
           5,
           "Hemoglobin subunit alpha 2",
           "Hemoglobin",
           "Scalopus aquaticus",
           "Scalopus",
           2.59465681,
           "Chordata"
          ],
          [
           26,
           19,
           13,
           5,
           "Uncharacterized protein",
           "Uncharacterized",
           "Neotoma lepida",
           "Neotoma",
           2.63834495,
           "Chordata"
          ],
          [
           25,
           18,
           13,
           5,
           "Globin Y",
           "Globin",
           "Callorhinchus milii",
           "Callorhinchus",
           2.51505937,
           "Chordata"
          ],
          [
           25,
           18,
           13,
           5,
           "Uncharacterized protein",
           "Uncharacterized",
           "Latimeria chalumnae",
           "Latimeria",
           2.29929786,
           "Chordata"
          ],
          [
           24,
           18,
           13,
           5,
           "Uncharacterized protein",
           "Uncharacterized",
           "Xenopus tropicalis",
           "Xenopus",
           2.51423061,
           "Chordata"
          ],
          [
           24,
           18,
           13,
           5,
           "Globin Y",
           "Globin",
           "Xenopus laevis",
           "Xenopus",
           2.4560224799999992,
           "Chordata"
          ],
          [
           -1,
           18,
           13,
           5,
           "Uncharacterized protein",
           "Uncharacterized",
           "Pelodiscus sinensis",
           "Pelodiscus",
           2.69837249,
           "Chordata"
          ],
          [
           29,
           20,
           12,
           5,
           "Cytoglobin (Fragment)",
           "Cytoglobin",
           "Fundulus heteroclitus",
           "Fundulus",
           2.23162917,
           "Chordata"
          ],
          [
           34,
           23,
           14,
           6,
           "Putative uncharacterized protein",
           "Putative",
           "Branchiostoma floridae",
           "Branchiostoma",
           2.37973605,
           "Chordata"
          ],
          [
           34,
           23,
           14,
           6,
           "Putative uncharacterized protein",
           "Putative",
           "Branchiostoma floridae",
           "Branchiostoma",
           2.38806056,
           "Chordata"
          ],
          [
           26,
           19,
           13,
           5,
           "Hemoglobin subunit rho",
           "Hemoglobin",
           "Alligator mississippiensis",
           "Alligator",
           2.98389637,
           "Chordata"
          ],
          [
           22,
           13,
           8,
           4,
           "Neuroglobin",
           "Neuroglobin",
           "Oryctolagus cuniculus",
           "Oryctolagus",
           3.722439879999999,
           "Chordata"
          ],
          [
           22,
           13,
           8,
           4,
           "Neuroglobin",
           "Neuroglobin",
           "Alligator mississippiensis",
           "Alligator",
           3.58667483,
           "Chordata"
          ],
          [
           21,
           13,
           8,
           4,
           "Neuroglobin",
           "Neuroglobin",
           "Danio rerio",
           "Danio",
           3.068778509999999,
           "Chordata"
          ],
          [
           22,
           13,
           8,
           4,
           "Uncharacterized protein",
           "Uncharacterized",
           "Anolis carolinensis",
           "Anolis",
           3.673447579999999,
           "Chordata"
          ],
          [
           22,
           13,
           8,
           4,
           "Uncharacterized protein",
           "Uncharacterized",
           "Lepisosteus oculatus",
           "Lepisosteus",
           3.147542819999999,
           "Chordata"
          ],
          [
           21,
           13,
           8,
           4,
           "Neuroglobin 1",
           "Neuroglobin",
           "Salmo salar",
           "Salmo",
           3.094649499999999,
           "Chordata"
          ],
          [
           22,
           13,
           8,
           4,
           "Neuroglobin",
           "Neuroglobin",
           "Amazona aestiva",
           "Amazona",
           3.684650899999999,
           "Chordata"
          ],
          [
           21,
           13,
           8,
           4,
           "Neuroglobin",
           "Neuroglobin",
           "Chaenocephalus aceratus",
           "Chaenocephalus",
           3.048452869999999,
           "Chordata"
          ],
          [
           22,
           13,
           8,
           4,
           "Uncharacterized protein",
           "Uncharacterized",
           "Ornithorhynchus anatinus",
           "Ornithorhynchus",
           3.630371559999999,
           "Chordata"
          ],
          [
           22,
           13,
           8,
           4,
           "Uncharacterized protein",
           "Uncharacterized",
           "Sarcophilus harrisii",
           "Sarcophilus",
           3.563486359999999,
           "Chordata"
          ],
          [
           22,
           13,
           8,
           4,
           "Uncharacterized protein",
           "Uncharacterized",
           "Anas platyrhynchos",
           "Anas",
           3.747842649999999,
           "Chordata"
          ],
          [
           22,
           13,
           8,
           4,
           "Neuroglobin",
           "Neuroglobin",
           "Gallus gallus",
           "Gallus",
           3.679641069999999,
           "Chordata"
          ],
          [
           26,
           19,
           13,
           5,
           "Uncharacterized protein",
           "Uncharacterized",
           "Nomascus leucogenys",
           "Nomascus",
           2.77009221,
           "Chordata"
          ],
          [
           28,
           20,
           12,
           5,
           "Cytoglobin (Fragment)",
           "Cytoglobin",
           "Fundulus heteroclitus",
           "Fundulus",
           2.29198432,
           "Chordata"
          ],
          [
           29,
           20,
           12,
           5,
           "Inactive rhomboid protein 2",
           "Inactive",
           "Tupaia chinensis",
           "Tupaia",
           2.24573612,
           "Chordata"
          ],
          [
           21,
           13,
           8,
           4,
           "Neuroglobin (Fragment)",
           "Neuroglobin",
           "Fundulus heteroclitus",
           "Fundulus",
           3.1009386899999987,
           "Chordata"
          ],
          [
           -1,
           24,
           14,
           6,
           "Globin",
           "Globin",
           "Ciona intestinalis",
           "Ciona",
           3.12906012,
           "Chordata"
          ]
         ],
         "hovertemplate": "<b>%{hovertext}</b><br><br>Color_species=%{customdata[9]}<br>pm1=%{x}<br>pm2=%{y}<br>tree1=%{customdata[0]}<br>tree2=%{customdata[1]}<br>tree3=%{customdata[2]}<br>tree4=%{customdata[3]}<br>full_name=%{customdata[4]}<br>short_name=%{customdata[5]}<br>full_species=%{customdata[6]}<br>short_species=%{customdata[7]}<br>evo_distance=%{customdata[8]}<extra></extra>",
         "hovertext": [
          "Chordata",
          "Chordata",
          "Chordata",
          "Chordata",
          "Chordata",
          "Chordata",
          "Chordata",
          "Chordata",
          "Chordata",
          "Chordata",
          "Chordata",
          "Chordata",
          "Chordata",
          "Chordata",
          "Chordata",
          "Chordata",
          "Chordata",
          "Chordata",
          "Chordata",
          "Chordata",
          "Chordata",
          "Chordata",
          "Chordata",
          "Chordata",
          "Chordata",
          "Chordata",
          "Chordata",
          "Chordata",
          "Chordata",
          "Chordata",
          "Chordata",
          "Chordata",
          "Chordata",
          "Chordata",
          "Chordata",
          "Chordata",
          "Chordata",
          "Chordata",
          "Chordata",
          "Chordata",
          "Chordata",
          "Chordata",
          "Chordata",
          "Chordata",
          "Chordata",
          "Chordata",
          "Chordata",
          "Chordata",
          "Chordata",
          "Chordata",
          "Chordata",
          "Chordata",
          "Chordata",
          "Chordata",
          "Chordata",
          "Chordata",
          "Chordata",
          "Chordata",
          "Chordata",
          "Chordata",
          "Chordata",
          "Chordata",
          "Chordata",
          "Chordata",
          "Chordata",
          "Chordata",
          "Chordata",
          "Chordata",
          "Chordata",
          "Chordata",
          "Chordata",
          "Chordata",
          "Chordata",
          "Chordata",
          "Chordata",
          "Chordata",
          "Chordata",
          "Chordata",
          "Chordata",
          "Chordata",
          "Chordata",
          "Chordata",
          "Chordata",
          "Chordata",
          "Chordata",
          "Chordata",
          "Chordata",
          "Chordata"
         ],
         "legendgroup": "Chordata",
         "marker": {
          "color": "#26c9d9",
          "symbol": "circle"
         },
         "mode": "markers",
         "name": "Chordata",
         "orientation": "v",
         "showlegend": true,
         "type": "scatter",
         "x": [
          0.67934245,
          0.55240935,
          0.35077015,
          0.035172593,
          0.10034406,
          0.13746834,
          0.22588786,
          0.025454134,
          0.05253985,
          0.17653883,
          0.046519518,
          0.25726655,
          0.26844394,
          0.12122353,
          0.13673663,
          0.1778969,
          0.21925424,
          0.11413265,
          0.1636301,
          0.046718437,
          0.08539279,
          0.06285928,
          0.11556991,
          0.2017095,
          0.09489424,
          0.15003914,
          0.19283715,
          0.098095894,
          0.10421624,
          0.07855949,
          0.12996544,
          0.13816556,
          0.34849936,
          0.14665286,
          0.15984857,
          0.110240206,
          0.1528213,
          0.11747344,
          0.1636466,
          0.17033026,
          0.12958598,
          0.13166045,
          0.12780347,
          0.10875537,
          0.14558764,
          0.11453347,
          0.47532985,
          0.095085025,
          0.113185525,
          0.7335919,
          0.72632307,
          0.7249048,
          0.73097605,
          0.7104965,
          0.70331013,
          -0.01645923,
          -0.038053,
          -0.021206954,
          -0.06293256,
          0.30459008,
          0.28580028,
          0.27775112,
          0.347739,
          0.3670232,
          0.36706448,
          0.35457745,
          0.3612813,
          0.12796772,
          0.47934029,
          0.46536237,
          0.30572417,
          0.6202889,
          0.61812013,
          0.70251507,
          0.61191714,
          0.67533946,
          0.71641743,
          0.615214,
          0.7004707,
          0.6218602,
          0.6179422,
          0.6216531,
          0.61948395,
          0.30080184,
          0.15746285,
          0.03338514,
          0.72672075,
          0.74595165
         ],
         "xaxis": "x",
         "y": [
          -0.433285,
          0.5002388,
          0.29154557,
          0.89182276,
          0.8897215,
          0.86697155,
          0.61486566,
          0.90770215,
          0.92514193,
          0.6304066,
          0.9080686,
          0.6385314,
          0.59241337,
          0.8783375,
          0.89920384,
          0.6015809,
          0.67594033,
          0.89717925,
          0.6540081,
          0.91742575,
          0.8715601,
          0.9170804,
          0.8364365,
          0.6432907,
          0.8614701,
          0.62999445,
          0.6628122,
          0.6716559,
          0.78143597,
          0.92277825,
          0.80130845,
          0.7330484,
          0.8727137,
          -0.9083186,
          -0.9292261,
          -0.92899555,
          -0.9211561,
          -0.9144726,
          -0.91977614,
          -0.9083178,
          -0.9155664,
          -0.90419793,
          -0.9320836,
          -0.9193495,
          -0.87147844,
          -0.9023096,
          0.43271896,
          -0.90739995,
          -0.8828841,
          0.5451118,
          0.55492663,
          0.5649229,
          0.574934,
          0.57495785,
          0.5469707,
          0.75018746,
          0.778727,
          0.70259005,
          0.7122428,
          0.86929274,
          0.8634529,
          0.88338685,
          0.88369125,
          0.87357527,
          0.8560874,
          0.86519796,
          0.882391,
          0.89122725,
          0.47155836,
          0.45727146,
          0.8805293,
          -0.0073697944,
          -0.0062848525,
          -0.45961723,
          -0.0027511478,
          -0.49599254,
          -0.48667392,
          -0.0155976415,
          -0.4818692,
          -0.00900353,
          -0.00520993,
          -0.00888536,
          -0.015807064,
          0.8894326,
          0.57931584,
          0.9196903,
          -0.46007267,
          0.5591119
         ],
         "yaxis": "y"
        },
        {
         "customdata": [
          [
           -1,
           -1,
           8,
           4,
           "Predicted protein",
           "Predicted",
           "Nematostella vectensis",
           "Nematostella",
           2.4344002,
           "Cnidaria"
          ],
          [
           -1,
           15,
           7,
           4,
           "Predicted protein",
           "Predicted",
           "Nematostella vectensis",
           "Nematostella",
           3.06309082,
           "Cnidaria"
          ],
          [
           20,
           15,
           7,
           4,
           "Predicted protein",
           "Predicted",
           "Nematostella vectensis",
           "Nematostella",
           2.69558275,
           "Cnidaria"
          ],
          [
           -1,
           15,
           7,
           4,
           "Predicted protein",
           "Predicted",
           "Nematostella vectensis",
           "Nematostella",
           2.74661692,
           "Cnidaria"
          ],
          [
           20,
           15,
           7,
           4,
           "Predicted protein",
           "Predicted",
           "Nematostella vectensis",
           "Nematostella",
           2.46698831,
           "Cnidaria"
          ],
          [
           -1,
           -1,
           -1,
           3,
           "Predicted protein",
           "Predicted",
           "Nematostella vectensis",
           "Nematostella",
           3.13699746,
           "Cnidaria"
          ]
         ],
         "hovertemplate": "<b>%{hovertext}</b><br><br>Color_species=%{customdata[9]}<br>pm1=%{x}<br>pm2=%{y}<br>tree1=%{customdata[0]}<br>tree2=%{customdata[1]}<br>tree3=%{customdata[2]}<br>tree4=%{customdata[3]}<br>full_name=%{customdata[4]}<br>short_name=%{customdata[5]}<br>full_species=%{customdata[6]}<br>short_species=%{customdata[7]}<br>evo_distance=%{customdata[8]}<extra></extra>",
         "hovertext": [
          "Cnidaria",
          "Cnidaria",
          "Cnidaria",
          "Cnidaria",
          "Cnidaria",
          "Cnidaria"
         ],
         "legendgroup": "Cnidaria",
         "marker": {
          "color": "#ad288b",
          "symbol": "circle"
         },
         "mode": "markers",
         "name": "Cnidaria",
         "orientation": "v",
         "showlegend": true,
         "type": "scatter",
         "x": [
          0.517738,
          0.4496376,
          0.3898013,
          0.42262098,
          0.39284456,
          0.6561514
         ],
         "xaxis": "x",
         "y": [
          -0.5662864,
          -0.618326,
          -0.56718403,
          -0.5818676,
          -0.48683637,
          -0.22333336
         ],
         "yaxis": "y"
        },
        {
         "customdata": [
          [
           -1,
           -1,
           9,
           3,
           "Uncharacterized protein",
           "Uncharacterized",
           "Amphimedon queenslandica",
           "Amphimedon",
           2.52227159,
           "Porifera"
          ]
         ],
         "hovertemplate": "<b>%{hovertext}</b><br><br>Color_species=%{customdata[9]}<br>pm1=%{x}<br>pm2=%{y}<br>tree1=%{customdata[0]}<br>tree2=%{customdata[1]}<br>tree3=%{customdata[2]}<br>tree4=%{customdata[3]}<br>full_name=%{customdata[4]}<br>short_name=%{customdata[5]}<br>full_species=%{customdata[6]}<br>short_species=%{customdata[7]}<br>evo_distance=%{customdata[8]}<extra></extra>",
         "hovertext": [
          "Porifera"
         ],
         "legendgroup": "Porifera",
         "marker": {
          "color": "#fdb7fd",
          "symbol": "circle"
         },
         "mode": "markers",
         "name": "Porifera",
         "orientation": "v",
         "showlegend": true,
         "type": "scatter",
         "x": [
          0.5094934
         ],
         "xaxis": "x",
         "y": [
          0.023856374
         ],
         "yaxis": "y"
        },
        {
         "customdata": [
          [
           -1,
           -1,
           20,
           7,
           "Putative uncharacterized protein",
           "Putative",
           "Trichoplax adhaerens",
           "Trichoplax",
           2.31619376,
           "Placozoa"
          ]
         ],
         "hovertemplate": "<b>%{hovertext}</b><br><br>Color_species=%{customdata[9]}<br>pm1=%{x}<br>pm2=%{y}<br>tree1=%{customdata[0]}<br>tree2=%{customdata[1]}<br>tree3=%{customdata[2]}<br>tree4=%{customdata[3]}<br>full_name=%{customdata[4]}<br>short_name=%{customdata[5]}<br>full_species=%{customdata[6]}<br>short_species=%{customdata[7]}<br>evo_distance=%{customdata[8]}<extra></extra>",
         "hovertext": [
          "Placozoa"
         ],
         "legendgroup": "Placozoa",
         "marker": {
          "color": "#e9bd6b",
          "symbol": "circle"
         },
         "mode": "markers",
         "name": "Placozoa",
         "orientation": "v",
         "showlegend": true,
         "type": "scatter",
         "x": [
          0.53449506
         ],
         "xaxis": "x",
         "y": [
          -0.2776263
         ],
         "yaxis": "y"
        },
        {
         "customdata": [
          [
           -1,
           -1,
           6,
           3,
           "Globin",
           "Globin",
           "Gemmatirosa kalamazoonesis",
           "Gemmatirosa",
           2.9048387,
           "Bacteria"
          ],
          [
           -1,
           9,
           6,
           3,
           "Globin",
           "Globin",
           "Gemmatirosa kalamazoonesis",
           "Gemmatirosa",
           3.0073288499999995,
           "Bacteria"
          ],
          [
           -1,
           9,
           6,
           3,
           "Hemin receptor",
           "Hemin",
           "Halothiobacillus sp.",
           "Halothiobacillus",
           2.5347764,
           "Bacteria"
          ]
         ],
         "hovertemplate": "<b>%{hovertext}</b><br><br>Color_species=%{customdata[9]}<br>pm1=%{x}<br>pm2=%{y}<br>tree1=%{customdata[0]}<br>tree2=%{customdata[1]}<br>tree3=%{customdata[2]}<br>tree4=%{customdata[3]}<br>full_name=%{customdata[4]}<br>short_name=%{customdata[5]}<br>full_species=%{customdata[6]}<br>short_species=%{customdata[7]}<br>evo_distance=%{customdata[8]}<extra></extra>",
         "hovertext": [
          "Bacteria",
          "Bacteria",
          "Bacteria"
         ],
         "legendgroup": "Bacteria",
         "marker": {
          "color": "#f10000",
          "symbol": "circle"
         },
         "mode": "markers",
         "name": "Bacteria",
         "orientation": "v",
         "showlegend": true,
         "type": "scatter",
         "x": [
          0.7568627,
          0.7033223,
          0.7195444
         ],
         "xaxis": "x",
         "y": [
          -0.31134993,
          -0.35239106,
          -0.27304283
         ],
         "yaxis": "y"
        },
        {
         "customdata": [
          [
           46,
           35,
           19,
           10,
           "Globin",
           "Globin",
           "Ancylostoma ceylanicum",
           "Ancylostoma",
           2.22981155,
           "Nematoda"
          ],
          [
           46,
           35,
           19,
           10,
           "Uncharacterized protein",
           "Uncharacterized",
           "Angiostrongylus costaricensis",
           "Angiostrongylus",
           2.13371016,
           "Nematoda"
          ],
          [
           46,
           35,
           19,
           10,
           "Globin",
           "Globin",
           "Necator americanus",
           "Necator",
           2.35159293,
           "Nematoda"
          ],
          [
           12,
           6,
           4,
           7,
           "Protein CBR GLB 7",
           "Protein",
           "Caenorhabditis briggsae",
           "Caenorhabditis",
           3.0159007999999994,
           "Nematoda"
          ],
          [
           12,
           6,
           4,
           7,
           "Uncharacterized protein",
           "Uncharacterized",
           "Haemonchus placei",
           "Haemonchus",
           3.29015469,
           "Nematoda"
          ],
          [
           -1,
           6,
           4,
           7,
           "Cre glb 30 protein",
           "Cre",
           "Ascaris suum",
           "Ascaris",
           3.1760076299999995,
           "Nematoda"
          ],
          [
           -1,
           -1,
           4,
           7,
           "Globin like protein 26",
           "Globin",
           "Trichinella pseudospiralis",
           "Trichinella",
           3.03825431,
           "Nematoda"
          ],
          [
           -1,
           6,
           4,
           7,
           "Uncharacterized protein",
           "Uncharacterized",
           "Ancylostoma ceylanicum",
           "Ancylostoma",
           3.20708282,
           "Nematoda"
          ],
          [
           -1,
           25,
           15,
           8,
           "Metalloendopeptidase",
           "Metalloendopeptidase",
           "Globodera pallida",
           "Globodera",
           2.86594104,
           "Nematoda"
          ],
          [
           -1,
           25,
           15,
           8,
           "Uncharacterized protein",
           "Uncharacterized",
           "Strongyloides stercoralis",
           "Strongyloides",
           3.19295417,
           "Nematoda"
          ]
         ],
         "hovertemplate": "<b>%{hovertext}</b><br><br>Color_species=%{customdata[9]}<br>pm1=%{x}<br>pm2=%{y}<br>tree1=%{customdata[0]}<br>tree2=%{customdata[1]}<br>tree3=%{customdata[2]}<br>tree4=%{customdata[3]}<br>full_name=%{customdata[4]}<br>short_name=%{customdata[5]}<br>full_species=%{customdata[6]}<br>short_species=%{customdata[7]}<br>evo_distance=%{customdata[8]}<extra></extra>",
         "hovertext": [
          "Nematoda",
          "Nematoda",
          "Nematoda",
          "Nematoda",
          "Nematoda",
          "Nematoda",
          "Nematoda",
          "Nematoda",
          "Nematoda",
          "Nematoda"
         ],
         "legendgroup": "Nematoda",
         "marker": {
          "color": "#5d78e3",
          "symbol": "circle"
         },
         "mode": "markers",
         "name": "Nematoda",
         "orientation": "v",
         "showlegend": true,
         "type": "scatter",
         "x": [
          0.052404426,
          0.11024538,
          0.05985758,
          0.9127972,
          0.90721655,
          0.93373287,
          0.9358085,
          0.9220662,
          0.1476759,
          0.198087
         ],
         "xaxis": "x",
         "y": [
          -0.01993436,
          -0.054958884,
          -0.081791446,
          0.019360049,
          -0.01066695,
          0.013455787,
          0.032959137,
          0.005769358,
          -0.7522982,
          -0.8299223
         ],
         "yaxis": "y"
        },
        {
         "customdata": [
          [
           -1,
           -1,
           14,
           6,
           "Neuroglobin like protein",
           "Neuroglobin",
           "Saccoglossus kowalevskii",
           "Saccoglossus",
           2.35972746,
           "Hemichordata"
          ]
         ],
         "hovertemplate": "<b>%{hovertext}</b><br><br>Color_species=%{customdata[9]}<br>pm1=%{x}<br>pm2=%{y}<br>tree1=%{customdata[0]}<br>tree2=%{customdata[1]}<br>tree3=%{customdata[2]}<br>tree4=%{customdata[3]}<br>full_name=%{customdata[4]}<br>short_name=%{customdata[5]}<br>full_species=%{customdata[6]}<br>short_species=%{customdata[7]}<br>evo_distance=%{customdata[8]}<extra></extra>",
         "hovertext": [
          "Hemichordata"
         ],
         "legendgroup": "Hemichordata",
         "marker": {
          "color": "#b0ffe8",
          "symbol": "circle"
         },
         "mode": "markers",
         "name": "Hemichordata",
         "orientation": "v",
         "showlegend": true,
         "type": "scatter",
         "x": [
          -0.6838667
         ],
         "xaxis": "x",
         "y": [
          0.06397504
         ],
         "yaxis": "y"
        },
        {
         "customdata": [
          [
           15,
           8,
           6,
           3,
           "ARAD1D45562p",
           "ARAD1D45562p",
           "Blastobotrys adeninivorans",
           "Blastobotrys",
           3.65177433,
           "Fungi"
          ],
          [
           15,
           8,
           6,
           3,
           "CYFA0S05e02454g1_1",
           "CYFA0S05e02454g1_1",
           "Cyberlindnera fabianii",
           "Cyberlindnera",
           4.11857393,
           "Fungi"
          ]
         ],
         "hovertemplate": "<b>%{hovertext}</b><br><br>Color_species=%{customdata[9]}<br>pm1=%{x}<br>pm2=%{y}<br>tree1=%{customdata[0]}<br>tree2=%{customdata[1]}<br>tree3=%{customdata[2]}<br>tree4=%{customdata[3]}<br>full_name=%{customdata[4]}<br>short_name=%{customdata[5]}<br>full_species=%{customdata[6]}<br>short_species=%{customdata[7]}<br>evo_distance=%{customdata[8]}<extra></extra>",
         "hovertext": [
          "Fungi",
          "Fungi"
         ],
         "legendgroup": "Fungi",
         "marker": {
          "color": "#a0e361",
          "symbol": "circle"
         },
         "mode": "markers",
         "name": "Fungi",
         "orientation": "v",
         "showlegend": true,
         "type": "scatter",
         "x": [
          0.75740016,
          0.7304571
         ],
         "xaxis": "x",
         "y": [
          -0.3518857,
          -0.32059604
         ],
         "yaxis": "y"
        },
        {
         "customdata": [
          [
           -1,
           -1,
           9,
           3,
           "Uncharacterized protein",
           "Uncharacterized",
           "Micromonas commoda",
           "Micromonas",
           2.70986541,
           "Viridiplantae"
          ]
         ],
         "hovertemplate": "<b>%{hovertext}</b><br><br>Color_species=%{customdata[9]}<br>pm1=%{x}<br>pm2=%{y}<br>tree1=%{customdata[0]}<br>tree2=%{customdata[1]}<br>tree3=%{customdata[2]}<br>tree4=%{customdata[3]}<br>full_name=%{customdata[4]}<br>short_name=%{customdata[5]}<br>full_species=%{customdata[6]}<br>short_species=%{customdata[7]}<br>evo_distance=%{customdata[8]}<extra></extra>",
         "hovertext": [
          "Viridiplantae"
         ],
         "legendgroup": "Viridiplantae",
         "marker": {
          "color": "#4d9b03",
          "symbol": "circle"
         },
         "mode": "markers",
         "name": "Viridiplantae",
         "orientation": "v",
         "showlegend": true,
         "type": "scatter",
         "x": [
          0.69225985
         ],
         "xaxis": "x",
         "y": [
          -0.16284993
         ],
         "yaxis": "y"
        }
       ],
       "layout": {
        "font": {
         "size": 11
        },
        "height": 800,
        "legend": {
         "title": {
          "text": "Color_species"
         },
         "tracegroupgap": 0
        },
        "plot_bgcolor": "rgba(0, 0, 0, 0)",
        "shapes": [
         {
          "line": {
           "color": "black",
           "dash": "dot"
          },
          "opacity": 0.15,
          "type": "circle",
          "x0": -0.47058823529411764,
          "x1": 0.47058823529411764,
          "y0": -0.47058823529411764,
          "y1": 0.47058823529411764
         },
         {
          "line": {
           "color": "black",
           "dash": "dot"
          },
          "opacity": 0.15,
          "type": "circle",
          "x0": -0.6447368421052633,
          "x1": 0.6447368421052633,
          "y0": -0.6447368421052633,
          "y1": 0.6447368421052633
         },
         {
          "line": {
           "color": "black",
           "dash": "dot"
          },
          "opacity": 0.15,
          "type": "circle",
          "x0": -0.7705382436260623,
          "x1": 0.7705382436260623,
          "y0": -0.7705382436260623,
          "y1": 0.7705382436260623
         },
         {
          "line": {
           "color": "black",
           "dash": "dot"
          },
          "opacity": 0.15,
          "type": "circle",
          "x0": -0.8557007125890737,
          "x1": 0.8557007125890737,
          "y0": -0.8557007125890737,
          "y1": 0.8557007125890737
         },
         {
          "line": {
           "color": "black",
           "dash": "dot"
          },
          "opacity": 0.15,
          "type": "circle",
          "x0": -0.9108474990827933,
          "x1": 0.9108474990827933,
          "y0": -0.9108474990827933,
          "y1": 0.9108474990827933
         },
         {
          "line": {
           "color": "black",
           "dash": "dot"
          },
          "opacity": 0.15,
          "type": "circle",
          "x0": -0.9455374041239167,
          "x1": 0.9455374041239167,
          "y0": -0.9455374041239167,
          "y1": 0.9455374041239167
         },
         {
          "line": {
           "color": "Black"
          },
          "type": "circle",
          "x0": -1,
          "x1": 1,
          "xref": "x",
          "y0": -1,
          "y1": 1,
          "yref": "y"
         },
         {
          "fillcolor": "Black",
          "line": {
           "color": "Black"
          },
          "type": "circle",
          "x0": -0.005,
          "x1": 0.005,
          "xref": "x",
          "y0": -0.005,
          "y1": 0.005,
          "yref": "y"
         }
        ],
        "template": {
         "data": {
          "bar": [
           {
            "error_x": {
             "color": "#2a3f5f"
            },
            "error_y": {
             "color": "#2a3f5f"
            },
            "marker": {
             "line": {
              "color": "#E5ECF6",
              "width": 0.5
             },
             "pattern": {
              "fillmode": "overlay",
              "size": 10,
              "solidity": 0.2
             }
            },
            "type": "bar"
           }
          ],
          "barpolar": [
           {
            "marker": {
             "line": {
              "color": "#E5ECF6",
              "width": 0.5
             },
             "pattern": {
              "fillmode": "overlay",
              "size": 10,
              "solidity": 0.2
             }
            },
            "type": "barpolar"
           }
          ],
          "carpet": [
           {
            "aaxis": {
             "endlinecolor": "#2a3f5f",
             "gridcolor": "white",
             "linecolor": "white",
             "minorgridcolor": "white",
             "startlinecolor": "#2a3f5f"
            },
            "baxis": {
             "endlinecolor": "#2a3f5f",
             "gridcolor": "white",
             "linecolor": "white",
             "minorgridcolor": "white",
             "startlinecolor": "#2a3f5f"
            },
            "type": "carpet"
           }
          ],
          "choropleth": [
           {
            "colorbar": {
             "outlinewidth": 0,
             "ticks": ""
            },
            "type": "choropleth"
           }
          ],
          "contour": [
           {
            "colorbar": {
             "outlinewidth": 0,
             "ticks": ""
            },
            "colorscale": [
             [
              0,
              "#0d0887"
             ],
             [
              0.1111111111111111,
              "#46039f"
             ],
             [
              0.2222222222222222,
              "#7201a8"
             ],
             [
              0.3333333333333333,
              "#9c179e"
             ],
             [
              0.4444444444444444,
              "#bd3786"
             ],
             [
              0.5555555555555556,
              "#d8576b"
             ],
             [
              0.6666666666666666,
              "#ed7953"
             ],
             [
              0.7777777777777778,
              "#fb9f3a"
             ],
             [
              0.8888888888888888,
              "#fdca26"
             ],
             [
              1,
              "#f0f921"
             ]
            ],
            "type": "contour"
           }
          ],
          "contourcarpet": [
           {
            "colorbar": {
             "outlinewidth": 0,
             "ticks": ""
            },
            "type": "contourcarpet"
           }
          ],
          "heatmap": [
           {
            "colorbar": {
             "outlinewidth": 0,
             "ticks": ""
            },
            "colorscale": [
             [
              0,
              "#0d0887"
             ],
             [
              0.1111111111111111,
              "#46039f"
             ],
             [
              0.2222222222222222,
              "#7201a8"
             ],
             [
              0.3333333333333333,
              "#9c179e"
             ],
             [
              0.4444444444444444,
              "#bd3786"
             ],
             [
              0.5555555555555556,
              "#d8576b"
             ],
             [
              0.6666666666666666,
              "#ed7953"
             ],
             [
              0.7777777777777778,
              "#fb9f3a"
             ],
             [
              0.8888888888888888,
              "#fdca26"
             ],
             [
              1,
              "#f0f921"
             ]
            ],
            "type": "heatmap"
           }
          ],
          "heatmapgl": [
           {
            "colorbar": {
             "outlinewidth": 0,
             "ticks": ""
            },
            "colorscale": [
             [
              0,
              "#0d0887"
             ],
             [
              0.1111111111111111,
              "#46039f"
             ],
             [
              0.2222222222222222,
              "#7201a8"
             ],
             [
              0.3333333333333333,
              "#9c179e"
             ],
             [
              0.4444444444444444,
              "#bd3786"
             ],
             [
              0.5555555555555556,
              "#d8576b"
             ],
             [
              0.6666666666666666,
              "#ed7953"
             ],
             [
              0.7777777777777778,
              "#fb9f3a"
             ],
             [
              0.8888888888888888,
              "#fdca26"
             ],
             [
              1,
              "#f0f921"
             ]
            ],
            "type": "heatmapgl"
           }
          ],
          "histogram": [
           {
            "marker": {
             "pattern": {
              "fillmode": "overlay",
              "size": 10,
              "solidity": 0.2
             }
            },
            "type": "histogram"
           }
          ],
          "histogram2d": [
           {
            "colorbar": {
             "outlinewidth": 0,
             "ticks": ""
            },
            "colorscale": [
             [
              0,
              "#0d0887"
             ],
             [
              0.1111111111111111,
              "#46039f"
             ],
             [
              0.2222222222222222,
              "#7201a8"
             ],
             [
              0.3333333333333333,
              "#9c179e"
             ],
             [
              0.4444444444444444,
              "#bd3786"
             ],
             [
              0.5555555555555556,
              "#d8576b"
             ],
             [
              0.6666666666666666,
              "#ed7953"
             ],
             [
              0.7777777777777778,
              "#fb9f3a"
             ],
             [
              0.8888888888888888,
              "#fdca26"
             ],
             [
              1,
              "#f0f921"
             ]
            ],
            "type": "histogram2d"
           }
          ],
          "histogram2dcontour": [
           {
            "colorbar": {
             "outlinewidth": 0,
             "ticks": ""
            },
            "colorscale": [
             [
              0,
              "#0d0887"
             ],
             [
              0.1111111111111111,
              "#46039f"
             ],
             [
              0.2222222222222222,
              "#7201a8"
             ],
             [
              0.3333333333333333,
              "#9c179e"
             ],
             [
              0.4444444444444444,
              "#bd3786"
             ],
             [
              0.5555555555555556,
              "#d8576b"
             ],
             [
              0.6666666666666666,
              "#ed7953"
             ],
             [
              0.7777777777777778,
              "#fb9f3a"
             ],
             [
              0.8888888888888888,
              "#fdca26"
             ],
             [
              1,
              "#f0f921"
             ]
            ],
            "type": "histogram2dcontour"
           }
          ],
          "mesh3d": [
           {
            "colorbar": {
             "outlinewidth": 0,
             "ticks": ""
            },
            "type": "mesh3d"
           }
          ],
          "parcoords": [
           {
            "line": {
             "colorbar": {
              "outlinewidth": 0,
              "ticks": ""
             }
            },
            "type": "parcoords"
           }
          ],
          "pie": [
           {
            "automargin": true,
            "type": "pie"
           }
          ],
          "scatter": [
           {
            "fillpattern": {
             "fillmode": "overlay",
             "size": 10,
             "solidity": 0.2
            },
            "type": "scatter"
           }
          ],
          "scatter3d": [
           {
            "line": {
             "colorbar": {
              "outlinewidth": 0,
              "ticks": ""
             }
            },
            "marker": {
             "colorbar": {
              "outlinewidth": 0,
              "ticks": ""
             }
            },
            "type": "scatter3d"
           }
          ],
          "scattercarpet": [
           {
            "marker": {
             "colorbar": {
              "outlinewidth": 0,
              "ticks": ""
             }
            },
            "type": "scattercarpet"
           }
          ],
          "scattergeo": [
           {
            "marker": {
             "colorbar": {
              "outlinewidth": 0,
              "ticks": ""
             }
            },
            "type": "scattergeo"
           }
          ],
          "scattergl": [
           {
            "marker": {
             "colorbar": {
              "outlinewidth": 0,
              "ticks": ""
             }
            },
            "type": "scattergl"
           }
          ],
          "scattermapbox": [
           {
            "marker": {
             "colorbar": {
              "outlinewidth": 0,
              "ticks": ""
             }
            },
            "type": "scattermapbox"
           }
          ],
          "scatterpolar": [
           {
            "marker": {
             "colorbar": {
              "outlinewidth": 0,
              "ticks": ""
             }
            },
            "type": "scatterpolar"
           }
          ],
          "scatterpolargl": [
           {
            "marker": {
             "colorbar": {
              "outlinewidth": 0,
              "ticks": ""
             }
            },
            "type": "scatterpolargl"
           }
          ],
          "scatterternary": [
           {
            "marker": {
             "colorbar": {
              "outlinewidth": 0,
              "ticks": ""
             }
            },
            "type": "scatterternary"
           }
          ],
          "surface": [
           {
            "colorbar": {
             "outlinewidth": 0,
             "ticks": ""
            },
            "colorscale": [
             [
              0,
              "#0d0887"
             ],
             [
              0.1111111111111111,
              "#46039f"
             ],
             [
              0.2222222222222222,
              "#7201a8"
             ],
             [
              0.3333333333333333,
              "#9c179e"
             ],
             [
              0.4444444444444444,
              "#bd3786"
             ],
             [
              0.5555555555555556,
              "#d8576b"
             ],
             [
              0.6666666666666666,
              "#ed7953"
             ],
             [
              0.7777777777777778,
              "#fb9f3a"
             ],
             [
              0.8888888888888888,
              "#fdca26"
             ],
             [
              1,
              "#f0f921"
             ]
            ],
            "type": "surface"
           }
          ],
          "table": [
           {
            "cells": {
             "fill": {
              "color": "#EBF0F8"
             },
             "line": {
              "color": "white"
             }
            },
            "header": {
             "fill": {
              "color": "#C8D4E3"
             },
             "line": {
              "color": "white"
             }
            },
            "type": "table"
           }
          ]
         },
         "layout": {
          "annotationdefaults": {
           "arrowcolor": "#2a3f5f",
           "arrowhead": 0,
           "arrowwidth": 1
          },
          "autotypenumbers": "strict",
          "coloraxis": {
           "colorbar": {
            "outlinewidth": 0,
            "ticks": ""
           }
          },
          "colorscale": {
           "diverging": [
            [
             0,
             "#8e0152"
            ],
            [
             0.1,
             "#c51b7d"
            ],
            [
             0.2,
             "#de77ae"
            ],
            [
             0.3,
             "#f1b6da"
            ],
            [
             0.4,
             "#fde0ef"
            ],
            [
             0.5,
             "#f7f7f7"
            ],
            [
             0.6,
             "#e6f5d0"
            ],
            [
             0.7,
             "#b8e186"
            ],
            [
             0.8,
             "#7fbc41"
            ],
            [
             0.9,
             "#4d9221"
            ],
            [
             1,
             "#276419"
            ]
           ],
           "sequential": [
            [
             0,
             "#0d0887"
            ],
            [
             0.1111111111111111,
             "#46039f"
            ],
            [
             0.2222222222222222,
             "#7201a8"
            ],
            [
             0.3333333333333333,
             "#9c179e"
            ],
            [
             0.4444444444444444,
             "#bd3786"
            ],
            [
             0.5555555555555556,
             "#d8576b"
            ],
            [
             0.6666666666666666,
             "#ed7953"
            ],
            [
             0.7777777777777778,
             "#fb9f3a"
            ],
            [
             0.8888888888888888,
             "#fdca26"
            ],
            [
             1,
             "#f0f921"
            ]
           ],
           "sequentialminus": [
            [
             0,
             "#0d0887"
            ],
            [
             0.1111111111111111,
             "#46039f"
            ],
            [
             0.2222222222222222,
             "#7201a8"
            ],
            [
             0.3333333333333333,
             "#9c179e"
            ],
            [
             0.4444444444444444,
             "#bd3786"
            ],
            [
             0.5555555555555556,
             "#d8576b"
            ],
            [
             0.6666666666666666,
             "#ed7953"
            ],
            [
             0.7777777777777778,
             "#fb9f3a"
            ],
            [
             0.8888888888888888,
             "#fdca26"
            ],
            [
             1,
             "#f0f921"
            ]
           ]
          },
          "colorway": [
           "#636efa",
           "#EF553B",
           "#00cc96",
           "#ab63fa",
           "#FFA15A",
           "#19d3f3",
           "#FF6692",
           "#B6E880",
           "#FF97FF",
           "#FECB52"
          ],
          "font": {
           "color": "#2a3f5f"
          },
          "geo": {
           "bgcolor": "white",
           "lakecolor": "white",
           "landcolor": "#E5ECF6",
           "showlakes": true,
           "showland": true,
           "subunitcolor": "white"
          },
          "hoverlabel": {
           "align": "left"
          },
          "hovermode": "closest",
          "mapbox": {
           "style": "light"
          },
          "paper_bgcolor": "white",
          "plot_bgcolor": "#E5ECF6",
          "polar": {
           "angularaxis": {
            "gridcolor": "white",
            "linecolor": "white",
            "ticks": ""
           },
           "bgcolor": "#E5ECF6",
           "radialaxis": {
            "gridcolor": "white",
            "linecolor": "white",
            "ticks": ""
           }
          },
          "scene": {
           "xaxis": {
            "backgroundcolor": "#E5ECF6",
            "gridcolor": "white",
            "gridwidth": 2,
            "linecolor": "white",
            "showbackground": true,
            "ticks": "",
            "zerolinecolor": "white"
           },
           "yaxis": {
            "backgroundcolor": "#E5ECF6",
            "gridcolor": "white",
            "gridwidth": 2,
            "linecolor": "white",
            "showbackground": true,
            "ticks": "",
            "zerolinecolor": "white"
           },
           "zaxis": {
            "backgroundcolor": "#E5ECF6",
            "gridcolor": "white",
            "gridwidth": 2,
            "linecolor": "white",
            "showbackground": true,
            "ticks": "",
            "zerolinecolor": "white"
           }
          },
          "shapedefaults": {
           "line": {
            "color": "#2a3f5f"
           }
          },
          "ternary": {
           "aaxis": {
            "gridcolor": "white",
            "linecolor": "white",
            "ticks": ""
           },
           "baxis": {
            "gridcolor": "white",
            "linecolor": "white",
            "ticks": ""
           },
           "bgcolor": "#E5ECF6",
           "caxis": {
            "gridcolor": "white",
            "linecolor": "white",
            "ticks": ""
           }
          },
          "title": {
           "x": 0.05
          },
          "xaxis": {
           "automargin": true,
           "gridcolor": "white",
           "linecolor": "white",
           "ticks": "",
           "title": {
            "standoff": 15
           },
           "zerolinecolor": "white",
           "zerolinewidth": 2
          },
          "yaxis": {
           "automargin": true,
           "gridcolor": "white",
           "linecolor": "white",
           "ticks": "",
           "title": {
            "standoff": 15
           },
           "zerolinecolor": "white",
           "zerolinewidth": 2
          }
         }
        },
        "title": {
         "text": "PM projection of globins colored according family name",
         "x": 0.5
        },
        "xaxis": {
         "anchor": "y",
         "constrain": "domain",
         "domain": [
          0,
          1
         ],
         "range": [
          -1.1,
          1.1
         ],
         "title": {
          "text": "pm1"
         }
        },
        "yaxis": {
         "anchor": "x",
         "domain": [
          0,
          1
         ],
         "scaleanchor": "x",
         "scaleratio": 1,
         "title": {
          "text": "pm2"
         }
        },
        "yaxis2": {
         "layer": "below traces",
         "matches": "y",
         "overlaying": "y"
        }
       }
      },
      "text/html": [
       "<div>                            <div id=\"e95def18-29b8-4583-ab8e-3e279f70c3e8\" class=\"plotly-graph-div\" style=\"height:800px; width:100%;\"></div>            <script type=\"text/javascript\">                require([\"plotly\"], function(Plotly) {                    window.PLOTLYENV=window.PLOTLYENV || {};                                    if (document.getElementById(\"e95def18-29b8-4583-ab8e-3e279f70c3e8\")) {                    Plotly.newPlot(                        \"e95def18-29b8-4583-ab8e-3e279f70c3e8\",                        [{\"customdata\":[[5,3,3,2,\"Globin C, coelomic\",\"Globin\",\"Caudina arenicola\",\"Caudina\",2.10112824,\"Echinodermata\"],[-1,39,20,10,\"Uncharacterized protein\",\"Uncharacterized\",\"Strongylocentrotus purpuratus\",\"Strongylocentrotus\",1.75283422,\"Echinodermata\"],[4,2,3,2,\"Hemoglobin\",\"Hemoglobin\",\"Hemipholis cordifera\",\"Hemipholis\",2.32722587,\"Echinodermata\"],[4,2,3,2,\"Hemoglobin\",\"Hemoglobin\",\"Ophiactis simplex\",\"Ophiactis\",2.21961074,\"Echinodermata\"],[4,2,3,2,\"Hemoglobin\",\"Hemoglobin\",\"Ophiactis simplex\",\"Ophiactis\",2.26245834,\"Echinodermata\"],[14,10,9,3,\"Uncharacterized protein\",\"Uncharacterized\",\"Strongylocentrotus purpuratus\",\"Strongylocentrotus\",2.65354782,\"Echinodermata\"],[14,10,9,3,\"Uncharacterized protein\",\"Uncharacterized\",\"Strongylocentrotus purpuratus\",\"Strongylocentrotus\",2.58692572,\"Echinodermata\"],[-1,10,9,3,\"Uncharacterized protein\",\"Uncharacterized\",\"Strongylocentrotus purpuratus\",\"Strongylocentrotus\",2.51919106,\"Echinodermata\"],[14,10,9,3,\"Uncharacterized protein\",\"Uncharacterized\",\"Strongylocentrotus purpuratus\",\"Strongylocentrotus\",2.27606469,\"Echinodermata\"],[14,10,9,3,\"Uncharacterized protein\",\"Uncharacterized\",\"Strongylocentrotus purpuratus\",\"Strongylocentrotus\",2.86747135,\"Echinodermata\"]],\"hovertemplate\":\"<b>%{hovertext}</b><br><br>Color_species=%{customdata[9]}<br>pm1=%{x}<br>pm2=%{y}<br>tree1=%{customdata[0]}<br>tree2=%{customdata[1]}<br>tree3=%{customdata[2]}<br>tree4=%{customdata[3]}<br>full_name=%{customdata[4]}<br>short_name=%{customdata[5]}<br>full_species=%{customdata[6]}<br>short_species=%{customdata[7]}<br>evo_distance=%{customdata[8]}<extra></extra>\",\"hovertext\":[\"Echinodermata\",\"Echinodermata\",\"Echinodermata\",\"Echinodermata\",\"Echinodermata\",\"Echinodermata\",\"Echinodermata\",\"Echinodermata\",\"Echinodermata\",\"Echinodermata\"],\"legendgroup\":\"Echinodermata\",\"marker\":{\"color\":\"#086b75\",\"symbol\":\"circle\"},\"mode\":\"markers\",\"name\":\"Echinodermata\",\"orientation\":\"v\",\"showlegend\":true,\"x\":[-0.21667436,0.3052599,-0.4302237,-0.40556702,-0.5173694,0.7498732,0.77215344,0.8194503,0.77850014,0.82553416],\"xaxis\":\"x\",\"y\":[-0.21860453,0.44487974,-0.31260967,-0.38427094,-0.4598606,-0.21010426,-0.2487095,-0.23778594,-0.21164958,-0.17840342],\"yaxis\":\"y\",\"type\":\"scatter\"},{\"customdata\":[[-1,28,18,10,\"Globin (Fragment)\",\"Globin\",\"Stegodyphus mimosarum\",\"Stegodyphus\",1.7572795,\"Arthropoda\"],[-1,27,18,10,\"Uncharacterized protein\",\"Uncharacterized\",\"Strigamia maritima\",\"Strigamia\",2.04148677,\"Arthropoda\"],[37,27,18,10,\"Uncharacterized protein\",\"Uncharacterized\",\"Scylla olivacea\",\"Scylla\",2.31816861,\"Arthropoda\"],[37,27,18,10,\"Uncharacterized protein\",\"Uncharacterized\",\"Scylla olivacea\",\"Scylla\",2.17077532,\"Arthropoda\"],[37,27,18,10,\"Hemoglobin\",\"Hemoglobin\",\"Carcinus maenas\",\"Carcinus\",2.1764956200000003,\"Arthropoda\"],[-1,29,18,10,\"Globin, putative\",\"Globin,\",\"Ixodes scapularis\",\"Ixodes\",2.30448645,\"Arthropoda\"],[40,28,18,10,\"Globin\",\"Globin\",\"Zootermopsis nevadensis\",\"Zootermopsis\",1.87201142,\"Arthropoda\"],[40,28,18,10,\"Globin like protein (Fragment)\",\"Globin\",\"Coptotermes formosanus\",\"Coptotermes\",1.7741922,\"Arthropoda\"],[-1,28,18,10,\"Uncharacterized protein\",\"Uncharacterized\",\"Oryctes borbonicus\",\"Oryctes\",2.08382808,\"Arthropoda\"],[-1,27,18,10,\"Uncharacterized protein\",\"Uncharacterized\",\"Tetranychus urticae\",\"Tetranychus\",2.47172868,\"Arthropoda\"],[-1,40,22,11,\"ACYPI007228 protein\",\"ACYPI007228\",\"Acyrthosiphon pisum\",\"Acyrthosiphon\",0.44459959,\"Arthropoda\"],[39,28,18,10,\"Globin 1\",\"Globin\",\"Apis mellifera\",\"Apis\",2.242503,\"Arthropoda\"],[39,28,18,10,\"Putative uncharacterized protein (Fragment)\",\"Putative\",\"Solenopsis invicta\",\"Solenopsis\",2.64407828,\"Arthropoda\"],[38,28,18,10,\"Globin\",\"Globin\",\"Habropoda laboriosa\",\"Habropoda\",2.60605258,\"Arthropoda\"],[38,28,18,10,\"Cygb2_0 protein\",\"Cygb2_0\",\"Fopius arisanus\",\"Fopius\",2.25335988,\"Arthropoda\"],[39,28,18,10,\"Cytoglobin 2\",\"Cytoglobin\",\"Cerapachys biroi\",\"Cerapachys\",2.52009681,\"Arthropoda\"],[39,28,18,10,\"Globin\",\"Globin\",\"Camponotus floridanus\",\"Camponotus\",2.60584071,\"Arthropoda\"],[38,28,18,10,\"Uncharacterized protein\",\"Uncharacterized\",\"Nasonia vitripennis\",\"Nasonia\",2.25387252,\"Arthropoda\"],[39,28,18,10,\"Cytoglobin\",\"Cytoglobin\",\"Acromyrmex echinatior\",\"Acromyrmex\",2.64639149,\"Arthropoda\"],[-1,28,18,10,\"Globin like Protein\",\"Globin\",\"Tribolium castaneum\",\"Tribolium\",2.42579023,\"Arthropoda\"],[-1,34,18,10,\"Cytoglobin 1 like protein\",\"Cytoglobin\",\"Sarcoptes scabiei\",\"Sarcoptes\",2.036886,\"Arthropoda\"],[-1,37,21,10,\"Uncharacterized protein\",\"Uncharacterized\",\"Lutzomyia longipalpis\",\"Lutzomyia\",1.94649826,\"Arthropoda\"],[47,36,21,10,\"Putative hemoglobin like flavoprotein (Fragment)\",\"Hemoglobin\",\"Rhodnius neglectus\",\"Rhodnius\",1.84627905,\"Arthropoda\"],[47,36,21,10,\"Putative hemoglobin like flavoprotein (Fragment)\",\"Hemoglobin\",\"Triatoma infestans\",\"Triatoma\",1.9043777,\"Arthropoda\"],[-1,29,18,10,\"Uncharacterized protein (Fragment)\",\"Uncharacterized\",\"Ixodes ricinus\",\"Ixodes\",1.7778336,\"Arthropoda\"],[37,27,18,10,\"Cytoglobin 2 isoform CYGBi2\",\"Cytoglobin\",\"Cherax destructor\",\"Cherax\",2.23555225,\"Arthropoda\"],[17,12,10,4,\"ACYPI001485 protein\",\"ACYPI001485\",\"Acyrthosiphon pisum\",\"Acyrthosiphon\",2.696499399999999,\"Arthropoda\"],[2,1,2,1,\"Globin 2\",\"Globin\",\"Chironomus riparius\",\"Chironomus\",2.70002825,\"Arthropoda\"],[1,1,2,1,\"Globin\",\"Globin\",\"Polypedilum nubifer\",\"Polypedilum\",2.36102778,\"Arthropoda\"],[1,1,2,1,\"Globin\",\"Globin\",\"Polypedilum vanderplanki\",\"Polypedilum\",2.43793183,\"Arthropoda\"],[3,1,2,1,\"Globin\",\"Globin\",\"Polypedilum vanderplanki\",\"Polypedilum\",2.2183017099999995,\"Arthropoda\"],[2,1,2,1,\"Globin\",\"Globin\",\"Polypedilum nubifer\",\"Polypedilum\",2.47503634,\"Arthropoda\"],[3,1,2,1,\"Globin\",\"Globin\",\"Polypedilum nubifer\",\"Polypedilum\",2.35802433,\"Arthropoda\"],[3,1,2,1,\"Globin\",\"Globin\",\"Polypedilum vanderplanki\",\"Polypedilum\",2.28362716,\"Arthropoda\"],[3,1,2,1,\"Globin 11\",\"Globin\",\"Chironomus riparius\",\"Chironomus\",2.29971074,\"Arthropoda\"],[1,1,2,1,\"ORF E protein\",\"ORF\",\"Chironomus tentans\",\"Chironomus\",2.85858686,\"Arthropoda\"],[1,1,2,1,\"Globin\",\"Globin\",\"Polypedilum nubifer\",\"Polypedilum\",2.56719369,\"Arthropoda\"],[1,1,2,1,\"Globin\",\"Globin\",\"Polypedilum nubifer\",\"Polypedilum\",2.57670915,\"Arthropoda\"],[17,12,10,4,\"Globin D, coelomic, putative\",\"Globin\",\"Pediculus humanus\",\"Pediculus\",2.749354739999999,\"Arthropoda\"],[36,26,18,10,\"Putative uncharacterized protein\",\"Putative\",\"Daphnia pulex\",\"Daphnia\",2.15851408,\"Arthropoda\"],[7,5,1,2,\"Di domain hemoglobin\",\"Hemoglobin\",\"Daphnia magna\",\"Daphnia\",2.95378198,\"Arthropoda\"],[7,5,1,2,\"Putative uncharacterized protein\",\"Putative\",\"Daphnia pulex\",\"Daphnia\",2.7632934700000003,\"Arthropoda\"],[7,5,1,2,\"Putative uncharacterized protein\",\"Putative\",\"Daphnia pulex\",\"Daphnia\",2.79767424,\"Arthropoda\"],[-1,14,10,4,\"Neuroglobin\",\"Neuroglobin\",\"Daphnia magna\",\"Daphnia\",2.620574789999999,\"Arthropoda\"],[9,4,1,2,\"Putative di domain hemoglobin\",\"Hemoglobin\",\"Daphnia magna\",\"Daphnia\",1.84605186,\"Arthropoda\"],[9,4,1,2,\"Putative di domain hemoglobin\",\"Hemoglobin\",\"Daphnia magna\",\"Daphnia\",1.84634758,\"Arthropoda\"],[9,4,1,2,\"Di domain hemoglobin (Fragment)\",\"Hemoglobin\",\"Daphnia magna\",\"Daphnia\",1.75867537,\"Arthropoda\"],[9,4,1,2,\"Di domain hemoglobin (Fragment)\",\"Hemoglobin\",\"Daphnia magna\",\"Daphnia\",1.7849976899999995,\"Arthropoda\"],[-1,29,18,10,\"Beta chain of the tetrameric hemoglobin, putative\",\"Hemoglobin\",\"Ixodes scapularis\",\"Ixodes\",2.34867746,\"Arthropoda\"],[9,4,1,2,\"Putative di domain hemoglobin\",\"Hemoglobin\",\"Daphnia magna\",\"Daphnia\",1.99097658,\"Arthropoda\"],[9,4,1,2,\"Putative di domain hemoglobin (Fragment)\",\"Hemoglobin\",\"Daphnia magna\",\"Daphnia\",1.89847506,\"Arthropoda\"],[9,4,1,2,\"Putative di domain hemoglobin\",\"Hemoglobin\",\"Daphnia magna\",\"Daphnia\",2.00307168,\"Arthropoda\"],[-1,5,1,2,\"Di domain hemoglobin (Fragment)\",\"Hemoglobin\",\"Daphnia magna\",\"Daphnia\",2.36856662,\"Arthropoda\"],[39,28,18,10,\"Globin\",\"Globin\",\"Harpegnathos saltator\",\"Harpegnathos\",2.62513263,\"Arthropoda\"],[40,28,18,10,\"Globin\",\"Globin\",\"Zootermopsis nevadensis\",\"Zootermopsis\",1.7189102399999998,\"Arthropoda\"],[6,5,1,2,\"Di domain hemoglobin\",\"Hemoglobin\",\"Daphnia magna\",\"Daphnia\",3.08054532,\"Arthropoda\"],[9,4,1,2,\"Putative uncharacterized protein\",\"Putative\",\"Daphnia pulex\",\"Daphnia\",1.88554508,\"Arthropoda\"],[9,4,1,2,\"Hemoglobin\",\"Hemoglobin\",\"Daphnia magna\",\"Daphnia\",1.82335212,\"Arthropoda\"],[9,4,1,2,\"Hemoglobin\",\"Hemoglobin\",\"Daphnia pulex\",\"Daphnia\",1.85557538,\"Arthropoda\"],[9,4,1,2,\"Hemoglobin\",\"Hemoglobin\",\"Daphnia pulex\",\"Daphnia\",1.88942132,\"Arthropoda\"],[9,4,1,2,\"Hemoglobin\",\"Hemoglobin\",\"Daphnia pulex\",\"Daphnia\",1.91532281,\"Arthropoda\"],[9,4,1,2,\"Di domain hemoglobin\",\"Hemoglobin\",\"Daphnia magna\",\"Daphnia\",1.92797924,\"Arthropoda\"],[8,5,1,2,\"Putative uncharacterized protein (Fragment)\",\"Putative\",\"Daphnia pulex\",\"Daphnia\",2.34983516,\"Arthropoda\"],[8,5,1,2,\"Uncharacterized protein (Fragment)\",\"Uncharacterized\",\"Daphnia magna\",\"Daphnia\",2.22413281,\"Arthropoda\"],[-1,-1,-1,8,\"Globin (Fragment)\",\"Globin\",\"Operophtera brumata\",\"Operophtera\",2.5920814199999995,\"Arthropoda\"],[-1,-1,18,10,\"Globin\",\"Globin\",\"Daphnia magna\",\"Daphnia\",2.39585067,\"Arthropoda\"],[9,4,1,2,\"Putative di domain hemoglobin (Fragment)\",\"Hemoglobin\",\"Daphnia magna\",\"Daphnia\",1.97351688,\"Arthropoda\"],[9,4,1,2,\"Di domain hemoglobin\",\"Hemoglobin\",\"Daphnia magna\",\"Daphnia\",2.01628845,\"Arthropoda\"],[10,38,22,9,\"Hemoglobin T1 polymer\",\"Hemoglobin\",\"Artemia salina\",\"Artemia\",1.84725956,\"Arthropoda\"],[10,38,22,9,\"Hemoglobin P polymer\",\"Hemoglobin\",\"Parartemia zietziana\",\"Parartemia\",1.91905851,\"Arthropoda\"],[11,38,22,9,\"Hemoglobin T1 polymer\",\"Hemoglobin\",\"Artemia salina\",\"Artemia\",1.78050468,\"Arthropoda\"],[11,38,22,9,\"Hemoglobin P polymer\",\"Hemoglobin\",\"Parartemia zietziana\",\"Parartemia\",1.73983856,\"Arthropoda\"],[11,38,22,9,\"Hemoglobin C1 polymer\",\"Hemoglobin\",\"Artemia salina\",\"Artemia\",1.70252921,\"Arthropoda\"],[36,26,18,10,\"Cytoglobin 2\",\"Cytoglobin\",\"Daphnia magna\",\"Daphnia\",2.23126274,\"Arthropoda\"],[-1,-1,18,10,\"Globin like protein 1\",\"Globin\",\"Sarcoptes scabiei\",\"Sarcoptes\",2.11760394,\"Arthropoda\"],[-1,38,22,9,\"Hemoglobin P polymer\",\"Hemoglobin\",\"Parartemia zietziana\",\"Parartemia\",2.0891213,\"Arthropoda\"],[-1,40,22,11,\"Uncharacterized protein\",\"Uncharacterized\",\"Acyrthosiphon pisum\",\"Acyrthosiphon\",0.90085961,\"Arthropoda\"],[-1,12,10,4,\"Uncharacterized protein\",\"Uncharacterized\",\"Lepeophtheirus salmonis\",\"Lepeophtheirus\",3.34308881,\"Arthropoda\"],[-1,37,21,10,\"Uncharacterized protein\",\"Uncharacterized\",\"Glossina morsitans\",\"Glossina\",2.01930981,\"Arthropoda\"],[-1,-1,19,10,\"Cytoglobin1like [Saccoglossus kowalevskii]\",\"Cytoglobin\",\"Lepeophtheirus salmonis\",\"Lepeophtheirus\",2.17551995,\"Arthropoda\"],[6,5,1,2,\"Di domain hemoglobin (Fragment)\",\"Hemoglobin\",\"Daphnia magna\",\"Daphnia\",2.94537689,\"Arthropoda\"],[-1,12,10,4,\"Neuroglobinlike [Maylandia zebra]\",\"Neuroglobin\",\"Lepeophtheirus salmonis\",\"Lepeophtheirus\",3.308708769999999,\"Arthropoda\"],[9,4,1,2,\"Di domain hemoglobin like protein\",\"Hemoglobin\",\"Daphnia magna\",\"Daphnia\",2.34751979,\"Arthropoda\"],[-1,-1,-1,2,\"Putative di domain hemoglobin (Fragment)\",\"Hemoglobin\",\"Daphnia magna\",\"Daphnia\",2.5254769,\"Arthropoda\"]],\"hovertemplate\":\"<b>%{hovertext}</b><br><br>Color_species=%{customdata[9]}<br>pm1=%{x}<br>pm2=%{y}<br>tree1=%{customdata[0]}<br>tree2=%{customdata[1]}<br>tree3=%{customdata[2]}<br>tree4=%{customdata[3]}<br>full_name=%{customdata[4]}<br>short_name=%{customdata[5]}<br>full_species=%{customdata[6]}<br>short_species=%{customdata[7]}<br>evo_distance=%{customdata[8]}<extra></extra>\",\"hovertext\":[\"Arthropoda\",\"Arthropoda\",\"Arthropoda\",\"Arthropoda\",\"Arthropoda\",\"Arthropoda\",\"Arthropoda\",\"Arthropoda\",\"Arthropoda\",\"Arthropoda\",\"Arthropoda\",\"Arthropoda\",\"Arthropoda\",\"Arthropoda\",\"Arthropoda\",\"Arthropoda\",\"Arthropoda\",\"Arthropoda\",\"Arthropoda\",\"Arthropoda\",\"Arthropoda\",\"Arthropoda\",\"Arthropoda\",\"Arthropoda\",\"Arthropoda\",\"Arthropoda\",\"Arthropoda\",\"Arthropoda\",\"Arthropoda\",\"Arthropoda\",\"Arthropoda\",\"Arthropoda\",\"Arthropoda\",\"Arthropoda\",\"Arthropoda\",\"Arthropoda\",\"Arthropoda\",\"Arthropoda\",\"Arthropoda\",\"Arthropoda\",\"Arthropoda\",\"Arthropoda\",\"Arthropoda\",\"Arthropoda\",\"Arthropoda\",\"Arthropoda\",\"Arthropoda\",\"Arthropoda\",\"Arthropoda\",\"Arthropoda\",\"Arthropoda\",\"Arthropoda\",\"Arthropoda\",\"Arthropoda\",\"Arthropoda\",\"Arthropoda\",\"Arthropoda\",\"Arthropoda\",\"Arthropoda\",\"Arthropoda\",\"Arthropoda\",\"Arthropoda\",\"Arthropoda\",\"Arthropoda\",\"Arthropoda\",\"Arthropoda\",\"Arthropoda\",\"Arthropoda\",\"Arthropoda\",\"Arthropoda\",\"Arthropoda\",\"Arthropoda\",\"Arthropoda\",\"Arthropoda\",\"Arthropoda\",\"Arthropoda\",\"Arthropoda\",\"Arthropoda\",\"Arthropoda\",\"Arthropoda\",\"Arthropoda\",\"Arthropoda\",\"Arthropoda\",\"Arthropoda\"],\"legendgroup\":\"Arthropoda\",\"marker\":{\"color\":\"#0b237c\",\"symbol\":\"circle\"},\"mode\":\"markers\",\"name\":\"Arthropoda\",\"orientation\":\"v\",\"showlegend\":true,\"x\":[-0.24626446,-0.47054383,-0.63619757,-0.5592275,-0.6106947,-0.39653635,-0.3187841,-0.26323253,-0.3479131,-0.4966424,-0.03961237,-0.3140081,-0.32874995,-0.31312993,-0.27427414,-0.3288361,-0.3337321,-0.28614563,-0.32835472,-0.1983768,-0.15023288,-0.2374086,-0.40341073,-0.30441177,-0.4500374,-0.62328726,0.40053076,-0.8683421,-0.8848955,-0.8797937,-0.863739,-0.8809491,-0.8836434,-0.8775135,-0.892957,-0.8990793,-0.893807,-0.8878507,0.38315782,-0.5573055,-0.7360183,-0.73913395,-0.73716295,0.3855695,-0.69659466,-0.6825689,-0.7207162,-0.7214728,-0.35276818,-0.6498108,-0.67505234,-0.67153835,-0.72449684,-0.3307095,-0.26639497,-0.7454826,-0.7313903,-0.74990076,-0.7540449,-0.76117057,-0.75870085,-0.7035043,-0.72347367,-0.7008931,0.30275017,-0.3498966,-0.70766443,-0.71583647,-0.77368903,-0.7811032,-0.7430581,-0.75057,-0.75238556,-0.4681326,-0.29509747,-0.72880983,-0.047171053,0.36544204,-0.17472373,-0.521387,-0.74533737,0.282923,-0.6952113,-0.6642118],\"xaxis\":\"x\",\"y\":[0.018228846,0.13331215,0.14543886,0.15505402,0.1088888,0.04160786,-0.03921273,0.14594887,0.10097041,0.06428482,0.16208796,0.4147196,0.42633247,0.42841852,0.36854163,0.4256392,0.4200103,0.40599293,0.42652923,0.23160113,-0.026678458,0.37581906,0.578061,0.27104,0.04888431,0.13795426,-0.77695465,0.32990235,0.3173556,0.32228687,0.3131414,0.3317413,0.29823494,0.30634847,0.30591473,0.3189666,0.3269912,0.337026,-0.79825425,-0.06725375,-0.6108962,-0.6168871,-0.6220088,-0.75012237,-0.5037919,-0.48971206,-0.50741327,-0.53169763,0.16588998,-0.5359842,-0.54306906,-0.5203888,-0.61525196,0.42420337,0.09677661,-0.60739666,-0.49065658,-0.53087693,-0.5056832,-0.50007147,-0.5146827,-0.48809543,-0.58513314,-0.592138,0.7450999,0.40934163,-0.4491311,-0.4661296,-0.06273218,-0.087382644,-0.06714899,-0.08059937,-0.091650546,-0.074411534,0.07560197,-0.120075434,0.17393063,-0.82538587,0.41055894,0.19650923,-0.61631054,-0.84886396,-0.47226295,-0.31308085],\"yaxis\":\"y\",\"type\":\"scatter\"},{\"customdata\":[[45,33,18,10,\"Uncharacterized protein\",\"Uncharacterized\",\"Arion vulgaris\",\"Arion\",1.97427266,\"Mollusca\"],[45,33,18,10,\"Uncharacterized protein\",\"Uncharacterized\",\"Arion vulgaris\",\"Arion\",2.08013658,\"Mollusca\"],[18,14,10,4,\"Cytoglobin 2\",\"Cytoglobin\",\"Crassostrea gigas\",\"Crassostrea\",2.89814466,\"Mollusca\"],[19,14,10,4,\"Uncharacterized protein (Fragment)\",\"Uncharacterized\",\"Lottia gigantea\",\"Lottia\",2.350108079999999,\"Mollusca\"],[19,14,10,4,\"Uncharacterized protein (Fragment)\",\"Uncharacterized\",\"Lottia gigantea\",\"Lottia\",2.4627551299999992,\"Mollusca\"],[-1,14,10,4,\"Uncharacterized protein (Fragment)\",\"Uncharacterized\",\"Lottia gigantea\",\"Lottia\",3.15607834,\"Mollusca\"],[19,14,10,4,\"Uncharacterized protein\",\"Uncharacterized\",\"Lottia gigantea\",\"Lottia\",2.6062900199999994,\"Mollusca\"],[43,31,17,10,\"Globin 2 A chain\",\"Globin\",\"Anadara inaequivalvis\",\"Anadara\",2.93935263,\"Mollusca\"],[-1,-1,17,10,\"Nerve hemoglobin\",\"Hemoglobin\",\"Spisula solidissima\",\"Spisula\",2.92864342,\"Mollusca\"],[-1,31,17,10,\"Hemoglobin (Heterodimeric)\",\"Hemoglobin\",\"Barbatia virescens\",\"Barbatia\",2.80988922,\"Mollusca\"],[43,31,17,10,\"Globin, minor\",\"Globin,\",\"Anadara trapezia\",\"Anadara\",3.2788812000000003,\"Mollusca\"],[43,31,17,10,\"Globin 2 B chain\",\"Globin\",\"Anadara inaequivalvis\",\"Anadara\",3.13812794,\"Mollusca\"],[-1,-1,18,10,\"Globin\",\"Globin\",\"Crassostrea gigas\",\"Crassostrea\",2.20001602,\"Mollusca\"],[19,14,10,4,\"Neuroglobin 1\",\"Neuroglobin\",\"Crassostrea gigas\",\"Crassostrea\",2.4302546899999995,\"Mollusca\"],[19,14,10,4,\"Uncharacterized protein\",\"Uncharacterized\",\"Arion vulgaris\",\"Arion\",2.53586098,\"Mollusca\"],[42,32,16,10,\"Globin\",\"Globin\",\"Nassarius mutabilis\",\"Nassarius\",2.69282831,\"Mollusca\"],[41,32,16,10,\"Uncharacterized protein\",\"Uncharacterized\",\"Lottia gigantea\",\"Lottia\",2.30991023,\"Mollusca\"],[41,32,16,10,\"Uncharacterized protein\",\"Uncharacterized\",\"Lottia gigantea\",\"Lottia\",2.3265049,\"Mollusca\"],[42,32,16,10,\"Globin\",\"Globin\",\"Cerithidea rhizophorarum\",\"Cerithidea\",2.81440342,\"Mollusca\"],[23,16,20,7,\"Uncharacterized protein\",\"Uncharacterized\",\"Arion vulgaris\",\"Arion\",2.60859124,\"Mollusca\"],[-1,16,20,7,\"Uncharacterized protein\",\"Uncharacterized\",\"Lottia gigantea\",\"Lottia\",2.7304677,\"Mollusca\"],[23,16,20,7,\"Cytoglobin 1\",\"Cytoglobin\",\"Crassostrea gigas\",\"Crassostrea\",2.85491961,\"Mollusca\"],[-1,-1,2,1,\"Globin\",\"Globin\",\"Nerita albicilla\",\"Nerita\",2.08733768,\"Mollusca\"],[-1,-1,17,10,\"Hemoglobin II\",\"Hemoglobin\",\"Phacoides pectinatus\",\"Phacoides\",2.9455253599999995,\"Mollusca\"],[-1,7,4,7,\"Cytoglobin 2\",\"Cytoglobin\",\"Crassostrea gigas\",\"Crassostrea\",2.34885314,\"Mollusca\"],[19,14,10,4,\"Uncharacterized protein\",\"Uncharacterized\",\"Octopus bimaculoides\",\"Octopus\",2.550460389999999,\"Mollusca\"],[-1,7,4,7,\"Uncharacterized protein\",\"Uncharacterized\",\"Lottia gigantea\",\"Lottia\",2.43279945,\"Mollusca\"],[18,14,10,4,\"Nacrein like protein F\",\"Nacrein\",\"Crassostrea gigas\",\"Crassostrea\",3.01650571,\"Mollusca\"],[23,16,20,7,\"Uncharacterized protein\",\"Uncharacterized\",\"Lottia gigantea\",\"Lottia\",2.73087099,\"Mollusca\"],[44,30,17,10,\"Two domain chain of the polymeric hemoglobin (Intracellular)\",\"Hemoglobin\",\"Barbatia lima\",\"Barbatia\",2.72130571,\"Mollusca\"],[44,30,17,10,\"Hemoglobin (2 domain)\",\"Hemoglobin\",\"Barbatia lima\",\"Barbatia\",2.73232709,\"Mollusca\"],[32,22,11,5,\"Hemoglobin (Fragment)\",\"Hemoglobin\",\"Biomphalaria glabrata\",\"Biomphalaria\",3.48471231,\"Mollusca\"],[32,22,11,5,\"Uncharacterized protein\",\"Uncharacterized\",\"Biomphalaria glabrata\",\"Biomphalaria\",3.63841564,\"Mollusca\"],[32,22,11,5,\"Uncharacterized protein\",\"Uncharacterized\",\"Biomphalaria glabrata\",\"Biomphalaria\",3.38373079,\"Mollusca\"],[32,22,11,5,\"Haemoglobin type 1\",\"Hemoglobin\",\"Biomphalaria glabrata\",\"Biomphalaria\",3.53221633,\"Mollusca\"],[32,22,11,5,\"Uncharacterized protein\",\"Uncharacterized\",\"Biomphalaria glabrata\",\"Biomphalaria\",3.61489538,\"Mollusca\"]],\"hovertemplate\":\"<b>%{hovertext}</b><br><br>Color_species=%{customdata[9]}<br>pm1=%{x}<br>pm2=%{y}<br>tree1=%{customdata[0]}<br>tree2=%{customdata[1]}<br>tree3=%{customdata[2]}<br>tree4=%{customdata[3]}<br>full_name=%{customdata[4]}<br>short_name=%{customdata[5]}<br>full_species=%{customdata[6]}<br>short_species=%{customdata[7]}<br>evo_distance=%{customdata[8]}<extra></extra>\",\"hovertext\":[\"Mollusca\",\"Mollusca\",\"Mollusca\",\"Mollusca\",\"Mollusca\",\"Mollusca\",\"Mollusca\",\"Mollusca\",\"Mollusca\",\"Mollusca\",\"Mollusca\",\"Mollusca\",\"Mollusca\",\"Mollusca\",\"Mollusca\",\"Mollusca\",\"Mollusca\",\"Mollusca\",\"Mollusca\",\"Mollusca\",\"Mollusca\",\"Mollusca\",\"Mollusca\",\"Mollusca\",\"Mollusca\",\"Mollusca\",\"Mollusca\",\"Mollusca\",\"Mollusca\",\"Mollusca\",\"Mollusca\",\"Mollusca\",\"Mollusca\",\"Mollusca\",\"Mollusca\",\"Mollusca\"],\"legendgroup\":\"Mollusca\",\"marker\":{\"color\":\"#512ff8\",\"symbol\":\"circle\"},\"mode\":\"markers\",\"name\":\"Mollusca\",\"orientation\":\"v\",\"showlegend\":true,\"x\":[-0.5632335,-0.5406315,0.31335583,0.339052,0.33656132,0.27702993,0.31789938,-0.26913992,-0.21427329,-0.29695117,-0.26053888,-0.26132736,-0.4371524,0.33402863,0.27739912,-0.62851083,-0.62938076,-0.62264246,-0.6287871,0.26909155,0.2910724,0.32616085,-0.5722885,-0.6546928,0.922799,0.3494083,0.9120393,0.3218646,0.3474818,-0.2493298,-0.25640714,-0.34052688,-0.36898214,-0.30988726,-0.3534192,-0.3310051],\"xaxis\":\"x\",\"y\":[0.258736,0.23058921,-0.80586225,-0.79243064,-0.729624,-0.7941677,-0.76619756,-0.6253316,-0.5236178,-0.604285,-0.6309342,-0.6243426,0.100146346,-0.7703245,-0.7371957,0.34271908,0.31993392,0.32381314,0.33524784,-0.38277054,-0.3300073,-0.43024892,0.36743116,0.26391423,0.0847699,-0.78040767,0.073968746,-0.8233266,-0.37915847,-0.60034823,-0.6015103,0.7340775,0.74283814,0.75794506,0.7258138,0.7550632],\"yaxis\":\"y\",\"type\":\"scatter\"},{\"customdata\":[[13,17,5,7,\"Uncharacterized protein\",\"Uncharacterized\",\"Capitella teleta\",\"Capitella\",2.1436955,\"Annelida\"],[-1,-1,4,7,\"Uncharacterized protein\",\"Uncharacterized\",\"Capitella teleta\",\"Capitella\",2.50218703,\"Annelida\"],[13,17,5,7,\"Uncharacterized protein\",\"Uncharacterized\",\"Capitella teleta\",\"Capitella\",2.2371513499999995,\"Annelida\"],[-1,17,5,7,\"Uncharacterized protein (Fragment)\",\"Uncharacterized\",\"Capitella teleta\",\"Capitella\",2.66909204,\"Annelida\"],[-1,34,18,10,\"Uncharacterized protein\",\"Uncharacterized\",\"Capitella teleta\",\"Capitella\",2.02076984,\"Annelida\"],[-1,14,10,4,\"Uncharacterized protein\",\"Uncharacterized\",\"Capitella teleta\",\"Capitella\",3.0766556599999992,\"Annelida\"],[-1,-1,3,2,\"Extracellular globin 1\",\"Extracellular\",\"Metaphire sieboldi\",\"Metaphire\",2.43355891,\"Annelida\"],[-1,14,10,4,\"Uncharacterized protein\",\"Uncharacterized\",\"Capitella teleta\",\"Capitella\",3.0074926799999995,\"Annelida\"],[-1,17,5,7,\"Uncharacterized protein\",\"Uncharacterized\",\"Capitella teleta\",\"Capitella\",2.42843133,\"Annelida\"]],\"hovertemplate\":\"<b>%{hovertext}</b><br><br>Color_species=%{customdata[9]}<br>pm1=%{x}<br>pm2=%{y}<br>tree1=%{customdata[0]}<br>tree2=%{customdata[1]}<br>tree3=%{customdata[2]}<br>tree4=%{customdata[3]}<br>full_name=%{customdata[4]}<br>short_name=%{customdata[5]}<br>full_species=%{customdata[6]}<br>short_species=%{customdata[7]}<br>evo_distance=%{customdata[8]}<extra></extra>\",\"hovertext\":[\"Annelida\",\"Annelida\",\"Annelida\",\"Annelida\",\"Annelida\",\"Annelida\",\"Annelida\",\"Annelida\",\"Annelida\"],\"legendgroup\":\"Annelida\",\"marker\":{\"color\":\"#a191f3\",\"symbol\":\"circle\"},\"mode\":\"markers\",\"name\":\"Annelida\",\"orientation\":\"v\",\"showlegend\":true,\"x\":[0.91033936,0.92844415,0.8824557,0.9122024,-0.21909064,0.29622197,-0.7644506,0.35025325,0.9026783],\"xaxis\":\"x\",\"y\":[0.054009266,0.068173505,0.05633255,0.10156787,-0.071306035,-0.7692258,-0.47261742,-0.7575567,0.085135356],\"yaxis\":\"y\",\"type\":\"scatter\"},{\"customdata\":[[-1,13,8,4,\"Neuroglobin like\",\"Neuroglobin\",\"Scleropages formosus\",\"Scleropages\",2.75087931,\"Chordata\"],[-1,23,14,6,\"Globin\",\"Globin\",\"Branchiostoma floridae\",\"Branchiostoma\",2.1325129,\"Chordata\"],[-1,39,20,7,\"Putative uncharacterized protein\",\"Putative\",\"Branchiostoma floridae\",\"Branchiostoma\",1.93258564,\"Chordata\"],[29,20,12,5,\"Cytoglobin b\",\"Cytoglobin\",\"Xenopus laevis\",\"Xenopus\",2.2875242,\"Chordata\"],[29,20,12,5,\"Uncharacterized protein\",\"Uncharacterized\",\"Oreochromis niloticus\",\"Oreochromis\",2.19807532,\"Chordata\"],[29,20,12,5,\"Cytoglobin\",\"Cytoglobin\",\"Nothobranchius korthausae\",\"Nothobranchius\",2.2776364,\"Chordata\"],[28,20,12,5,\"Uncharacterized protein (Fragment)\",\"Uncharacterized\",\"Gasterosteus aculeatus\",\"Gasterosteus\",2.2892364899999995,\"Chordata\"],[29,20,12,5,\"Cytoglobin\",\"Cytoglobin\",\"Bos mutus\",\"Bos\",2.42091472,\"Chordata\"],[29,20,12,5,\"Cytoglobin 1\",\"Cytoglobin\",\"Iguana iguana\",\"Iguana\",2.26895595,\"Chordata\"],[28,20,12,5,\"Cytoglobin 1\",\"Cytoglobin\",\"Oryzias latipes\",\"Oryzias\",2.25311924,\"Chordata\"],[29,20,12,5,\"Uncharacterized protein\",\"Uncharacterized\",\"Anas platyrhynchos\",\"Anas\",2.24009126,\"Chordata\"],[28,20,12,5,\"Uncharacterized protein\",\"Uncharacterized\",\"Tetraodon nigroviridis\",\"Tetraodon\",2.4499165100000004,\"Chordata\"],[28,20,12,5,\"Uncharacterized protein (Fragment)\",\"Uncharacterized\",\"Takifugu rubripes\",\"Takifugu\",2.4839830600000004,\"Chordata\"],[29,20,12,5,\"Cytoglobin 2\",\"Cytoglobin\",\"Tetraodon nigroviridis\",\"Tetraodon\",2.23168579,\"Chordata\"],[29,20,12,5,\"Uncharacterized protein\",\"Uncharacterized\",\"Tetraodon nigroviridis\",\"Tetraodon\",2.36374552,\"Chordata\"],[28,20,12,5,\"Uncharacterized protein\",\"Uncharacterized\",\"Xiphophorus maculatus\",\"Xiphophorus\",2.2426578000000004,\"Chordata\"],[28,20,12,5,\"Cytoglobin 1\",\"Cytoglobin\",\"Larimichthys crocea\",\"Larimichthys\",2.27502112,\"Chordata\"],[29,20,12,5,\"Uncharacterized protein\",\"Uncharacterized\",\"Oncorhynchus mykiss\",\"Oncorhynchus\",2.20579096,\"Chordata\"],[28,20,12,5,\"Cytoglobin 1\",\"Cytoglobin\",\"Nothobranchius pienaari\",\"Nothobranchius\",2.2369473400000004,\"Chordata\"],[29,20,12,5,\"Cytoglobin\",\"Cytoglobin\",\"Alligator mississippiensis\",\"Alligator\",2.16168743,\"Chordata\"],[29,20,12,5,\"Uncharacterized protein\",\"Uncharacterized\",\"Astyanax mexicanus\",\"Astyanax\",2.05393176,\"Chordata\"],[29,20,12,5,\"Uncharacterized protein\",\"Uncharacterized\",\"Latimeria chalumnae\",\"Latimeria\",2.23058219,\"Chordata\"],[29,20,12,5,\"Cytoglobin 2\",\"Cytoglobin\",\"Ictalurus punctatus\",\"Ictalurus\",2.12180628,\"Chordata\"],[28,20,12,5,\"Cytoglobin\",\"Cytoglobin\",\"Chaenocephalus aceratus\",\"Chaenocephalus\",2.27395144,\"Chordata\"],[29,20,12,5,\"Cygb2 protein\",\"Cygb2\",\"Danio rerio\",\"Danio\",2.05149233,\"Chordata\"],[28,20,12,5,\"Uncharacterized protein\",\"Uncharacterized\",\"Oreochromis niloticus\",\"Oreochromis\",2.15346116,\"Chordata\"],[28,20,12,5,\"Cytoglobin\",\"Cytoglobin\",\"Oncorhynchus mykiss\",\"Oncorhynchus\",2.15784398,\"Chordata\"],[31,20,12,5,\"Uncharacterized protein\",\"Uncharacterized\",\"Astyanax mexicanus\",\"Astyanax\",2.18361902,\"Chordata\"],[31,20,12,5,\"Cytoglobin 1\",\"Cytoglobin\",\"Cyprinus carpio\",\"Cyprinus\",2.06025855,\"Chordata\"],[29,20,12,5,\"Cytoglobin\",\"Cytoglobin\",\"Callorhinchus milii\",\"Callorhinchus\",2.39273588,\"Chordata\"],[31,20,12,5,\"Cytoglobin 1\",\"Cytoglobin\",\"Danio rerio\",\"Danio\",2.16806595,\"Chordata\"],[31,20,12,5,\"Cytoglobin 1\",\"Cytoglobin\",\"Ictalurus punctatus\",\"Ictalurus\",2.19052877,\"Chordata\"],[-1,18,13,5,\"Uncharacterized protein\",\"Uncharacterized\",\"Lepisosteus oculatus\",\"Lepisosteus\",2.35310711,\"Chordata\"],[16,11,10,4,\"GbX1\",\"GbX1\",\"Callorhinchus milii\",\"Callorhinchus\",2.948089519999999,\"Chordata\"],[16,11,10,4,\"GbX2\",\"GbX2\",\"Callorhinchus milii\",\"Callorhinchus\",3.0123761099999995,\"Chordata\"],[16,11,10,4,\"Chromosome 10 SCAF15019, whole genome shotgun sequence\",\"Chromosome\",\"Tetraodon nigroviridis\",\"Tetraodon\",3.1074634799999994,\"Chordata\"],[16,11,10,4,\"Cytoglobin 1\",\"Cytoglobin\",\"Chelonia mydas\",\"Chelonia\",2.706756999999999,\"Chordata\"],[16,11,10,4,\"Uncharacterized protein\",\"Uncharacterized\",\"Poecilia formosa\",\"Poecilia\",3.0849746199999992,\"Chordata\"],[16,11,10,4,\"Uncharacterized protein\",\"Uncharacterized\",\"Lepisosteus oculatus\",\"Lepisosteus\",2.843704849999999,\"Chordata\"],[16,11,10,4,\"Uncharacterized protein\",\"Uncharacterized\",\"Latimeria chalumnae\",\"Latimeria\",2.74467532,\"Chordata\"],[16,11,10,4,\"Xgb protein\",\"Xgb\",\"Danio rerio\",\"Danio\",3.15932725,\"Chordata\"],[16,11,10,4,\"Uncharacterized protein\",\"Uncharacterized\",\"Lepisosteus oculatus\",\"Lepisosteus\",2.98219578,\"Chordata\"],[16,11,10,4,\"Uncharacterized protein\",\"Uncharacterized\",\"Xenopus tropicalis\",\"Xenopus\",3.07574532,\"Chordata\"],[16,11,10,4,\"Cytoglobin 2\",\"Cytoglobin\",\"Ictalurus punctatus\",\"Ictalurus\",3.15839468,\"Chordata\"],[16,11,10,4,\"Uncharacterized protein\",\"Uncharacterized\",\"Oreochromis niloticus\",\"Oreochromis\",3.245876129999999,\"Chordata\"],[16,11,10,4,\"Uncharacterized protein\",\"Uncharacterized\",\"Oncorhynchus mykiss\",\"Oncorhynchus\",3.104564709999999,\"Chordata\"],[34,23,14,6,\"Globin\",\"Globin\",\"Branchiostoma floridae\",\"Branchiostoma\",2.16645269,\"Chordata\"],[16,11,10,4,\"Uncharacterized protein\",\"Uncharacterized\",\"Oncorhynchus mykiss\",\"Oncorhynchus\",3.152127119999999,\"Chordata\"],[16,11,10,4,\"Neuroglobin like (Fragment)\",\"Neuroglobin\",\"Scleropages formosus\",\"Scleropages\",3.024390219999999,\"Chordata\"],[33,24,14,6,\"Uncharacterized protein\",\"Uncharacterized\",\"Ciona savignyi\",\"Ciona\",2.80514043,\"Chordata\"],[33,24,14,6,\"Uncharacterized protein\",\"Uncharacterized\",\"Ciona intestinalis\",\"Ciona\",2.81068422,\"Chordata\"],[33,24,14,6,\"Globin\",\"Globin\",\"Ciona intestinalis\",\"Ciona\",2.83829804,\"Chordata\"],[33,24,14,6,\"Uncharacterized protein\",\"Uncharacterized\",\"Ciona savignyi\",\"Ciona\",2.96556729,\"Chordata\"],[35,24,14,6,\"Uncharacterized protein\",\"Uncharacterized\",\"Ciona savignyi\",\"Ciona\",2.65847977,\"Chordata\"],[35,24,14,6,\"Globin\",\"Globin\",\"Ciona intestinalis\",\"Ciona\",2.60884268,\"Chordata\"],[-1,21,12,5,\"Uncharacterized protein (Fragment)\",\"Uncharacterized\",\"Petromyzon marinus\",\"Petromyzon\",2.23124498,\"Chordata\"],[30,21,12,5,\"Hemoglobin 4\",\"Hemoglobin\",\"Lethenteron camtschaticum\",\"Lethenteron\",2.45118652,\"Chordata\"],[30,21,12,5,\"Uncharacterized protein\",\"Uncharacterized\",\"Petromyzon marinus\",\"Petromyzon\",2.3065607,\"Chordata\"],[30,21,12,5,\"Uncharacterized protein\",\"Uncharacterized\",\"Petromyzon marinus\",\"Petromyzon\",2.36968937,\"Chordata\"],[27,19,13,5,\"Hemoglobin subunit alpha\",\"Hemoglobin\",\"Cavia porcellus\",\"Cavia\",2.68180205,\"Chordata\"],[27,19,13,5,\"Hemoglobin subunit alpha 2\",\"Hemoglobin\",\"Scalopus aquaticus\",\"Scalopus\",2.59465681,\"Chordata\"],[26,19,13,5,\"Uncharacterized protein\",\"Uncharacterized\",\"Neotoma lepida\",\"Neotoma\",2.63834495,\"Chordata\"],[25,18,13,5,\"Globin Y\",\"Globin\",\"Callorhinchus milii\",\"Callorhinchus\",2.51505937,\"Chordata\"],[25,18,13,5,\"Uncharacterized protein\",\"Uncharacterized\",\"Latimeria chalumnae\",\"Latimeria\",2.29929786,\"Chordata\"],[24,18,13,5,\"Uncharacterized protein\",\"Uncharacterized\",\"Xenopus tropicalis\",\"Xenopus\",2.51423061,\"Chordata\"],[24,18,13,5,\"Globin Y\",\"Globin\",\"Xenopus laevis\",\"Xenopus\",2.4560224799999992,\"Chordata\"],[-1,18,13,5,\"Uncharacterized protein\",\"Uncharacterized\",\"Pelodiscus sinensis\",\"Pelodiscus\",2.69837249,\"Chordata\"],[29,20,12,5,\"Cytoglobin (Fragment)\",\"Cytoglobin\",\"Fundulus heteroclitus\",\"Fundulus\",2.23162917,\"Chordata\"],[34,23,14,6,\"Putative uncharacterized protein\",\"Putative\",\"Branchiostoma floridae\",\"Branchiostoma\",2.37973605,\"Chordata\"],[34,23,14,6,\"Putative uncharacterized protein\",\"Putative\",\"Branchiostoma floridae\",\"Branchiostoma\",2.38806056,\"Chordata\"],[26,19,13,5,\"Hemoglobin subunit rho\",\"Hemoglobin\",\"Alligator mississippiensis\",\"Alligator\",2.98389637,\"Chordata\"],[22,13,8,4,\"Neuroglobin\",\"Neuroglobin\",\"Oryctolagus cuniculus\",\"Oryctolagus\",3.722439879999999,\"Chordata\"],[22,13,8,4,\"Neuroglobin\",\"Neuroglobin\",\"Alligator mississippiensis\",\"Alligator\",3.58667483,\"Chordata\"],[21,13,8,4,\"Neuroglobin\",\"Neuroglobin\",\"Danio rerio\",\"Danio\",3.068778509999999,\"Chordata\"],[22,13,8,4,\"Uncharacterized protein\",\"Uncharacterized\",\"Anolis carolinensis\",\"Anolis\",3.673447579999999,\"Chordata\"],[22,13,8,4,\"Uncharacterized protein\",\"Uncharacterized\",\"Lepisosteus oculatus\",\"Lepisosteus\",3.147542819999999,\"Chordata\"],[21,13,8,4,\"Neuroglobin 1\",\"Neuroglobin\",\"Salmo salar\",\"Salmo\",3.094649499999999,\"Chordata\"],[22,13,8,4,\"Neuroglobin\",\"Neuroglobin\",\"Amazona aestiva\",\"Amazona\",3.684650899999999,\"Chordata\"],[21,13,8,4,\"Neuroglobin\",\"Neuroglobin\",\"Chaenocephalus aceratus\",\"Chaenocephalus\",3.048452869999999,\"Chordata\"],[22,13,8,4,\"Uncharacterized protein\",\"Uncharacterized\",\"Ornithorhynchus anatinus\",\"Ornithorhynchus\",3.630371559999999,\"Chordata\"],[22,13,8,4,\"Uncharacterized protein\",\"Uncharacterized\",\"Sarcophilus harrisii\",\"Sarcophilus\",3.563486359999999,\"Chordata\"],[22,13,8,4,\"Uncharacterized protein\",\"Uncharacterized\",\"Anas platyrhynchos\",\"Anas\",3.747842649999999,\"Chordata\"],[22,13,8,4,\"Neuroglobin\",\"Neuroglobin\",\"Gallus gallus\",\"Gallus\",3.679641069999999,\"Chordata\"],[26,19,13,5,\"Uncharacterized protein\",\"Uncharacterized\",\"Nomascus leucogenys\",\"Nomascus\",2.77009221,\"Chordata\"],[28,20,12,5,\"Cytoglobin (Fragment)\",\"Cytoglobin\",\"Fundulus heteroclitus\",\"Fundulus\",2.29198432,\"Chordata\"],[29,20,12,5,\"Inactive rhomboid protein 2\",\"Inactive\",\"Tupaia chinensis\",\"Tupaia\",2.24573612,\"Chordata\"],[21,13,8,4,\"Neuroglobin (Fragment)\",\"Neuroglobin\",\"Fundulus heteroclitus\",\"Fundulus\",3.1009386899999987,\"Chordata\"],[-1,24,14,6,\"Globin\",\"Globin\",\"Ciona intestinalis\",\"Ciona\",3.12906012,\"Chordata\"]],\"hovertemplate\":\"<b>%{hovertext}</b><br><br>Color_species=%{customdata[9]}<br>pm1=%{x}<br>pm2=%{y}<br>tree1=%{customdata[0]}<br>tree2=%{customdata[1]}<br>tree3=%{customdata[2]}<br>tree4=%{customdata[3]}<br>full_name=%{customdata[4]}<br>short_name=%{customdata[5]}<br>full_species=%{customdata[6]}<br>short_species=%{customdata[7]}<br>evo_distance=%{customdata[8]}<extra></extra>\",\"hovertext\":[\"Chordata\",\"Chordata\",\"Chordata\",\"Chordata\",\"Chordata\",\"Chordata\",\"Chordata\",\"Chordata\",\"Chordata\",\"Chordata\",\"Chordata\",\"Chordata\",\"Chordata\",\"Chordata\",\"Chordata\",\"Chordata\",\"Chordata\",\"Chordata\",\"Chordata\",\"Chordata\",\"Chordata\",\"Chordata\",\"Chordata\",\"Chordata\",\"Chordata\",\"Chordata\",\"Chordata\",\"Chordata\",\"Chordata\",\"Chordata\",\"Chordata\",\"Chordata\",\"Chordata\",\"Chordata\",\"Chordata\",\"Chordata\",\"Chordata\",\"Chordata\",\"Chordata\",\"Chordata\",\"Chordata\",\"Chordata\",\"Chordata\",\"Chordata\",\"Chordata\",\"Chordata\",\"Chordata\",\"Chordata\",\"Chordata\",\"Chordata\",\"Chordata\",\"Chordata\",\"Chordata\",\"Chordata\",\"Chordata\",\"Chordata\",\"Chordata\",\"Chordata\",\"Chordata\",\"Chordata\",\"Chordata\",\"Chordata\",\"Chordata\",\"Chordata\",\"Chordata\",\"Chordata\",\"Chordata\",\"Chordata\",\"Chordata\",\"Chordata\",\"Chordata\",\"Chordata\",\"Chordata\",\"Chordata\",\"Chordata\",\"Chordata\",\"Chordata\",\"Chordata\",\"Chordata\",\"Chordata\",\"Chordata\",\"Chordata\",\"Chordata\",\"Chordata\",\"Chordata\",\"Chordata\",\"Chordata\",\"Chordata\"],\"legendgroup\":\"Chordata\",\"marker\":{\"color\":\"#26c9d9\",\"symbol\":\"circle\"},\"mode\":\"markers\",\"name\":\"Chordata\",\"orientation\":\"v\",\"showlegend\":true,\"x\":[0.67934245,0.55240935,0.35077015,0.035172593,0.10034406,0.13746834,0.22588786,0.025454134,0.05253985,0.17653883,0.046519518,0.25726655,0.26844394,0.12122353,0.13673663,0.1778969,0.21925424,0.11413265,0.1636301,0.046718437,0.08539279,0.06285928,0.11556991,0.2017095,0.09489424,0.15003914,0.19283715,0.098095894,0.10421624,0.07855949,0.12996544,0.13816556,0.34849936,0.14665286,0.15984857,0.110240206,0.1528213,0.11747344,0.1636466,0.17033026,0.12958598,0.13166045,0.12780347,0.10875537,0.14558764,0.11453347,0.47532985,0.095085025,0.113185525,0.7335919,0.72632307,0.7249048,0.73097605,0.7104965,0.70331013,-0.01645923,-0.038053,-0.021206954,-0.06293256,0.30459008,0.28580028,0.27775112,0.347739,0.3670232,0.36706448,0.35457745,0.3612813,0.12796772,0.47934029,0.46536237,0.30572417,0.6202889,0.61812013,0.70251507,0.61191714,0.67533946,0.71641743,0.615214,0.7004707,0.6218602,0.6179422,0.6216531,0.61948395,0.30080184,0.15746285,0.03338514,0.72672075,0.74595165],\"xaxis\":\"x\",\"y\":[-0.433285,0.5002388,0.29154557,0.89182276,0.8897215,0.86697155,0.61486566,0.90770215,0.92514193,0.6304066,0.9080686,0.6385314,0.59241337,0.8783375,0.89920384,0.6015809,0.67594033,0.89717925,0.6540081,0.91742575,0.8715601,0.9170804,0.8364365,0.6432907,0.8614701,0.62999445,0.6628122,0.6716559,0.78143597,0.92277825,0.80130845,0.7330484,0.8727137,-0.9083186,-0.9292261,-0.92899555,-0.9211561,-0.9144726,-0.91977614,-0.9083178,-0.9155664,-0.90419793,-0.9320836,-0.9193495,-0.87147844,-0.9023096,0.43271896,-0.90739995,-0.8828841,0.5451118,0.55492663,0.5649229,0.574934,0.57495785,0.5469707,0.75018746,0.778727,0.70259005,0.7122428,0.86929274,0.8634529,0.88338685,0.88369125,0.87357527,0.8560874,0.86519796,0.882391,0.89122725,0.47155836,0.45727146,0.8805293,-0.0073697944,-0.0062848525,-0.45961723,-0.0027511478,-0.49599254,-0.48667392,-0.0155976415,-0.4818692,-0.00900353,-0.00520993,-0.00888536,-0.015807064,0.8894326,0.57931584,0.9196903,-0.46007267,0.5591119],\"yaxis\":\"y\",\"type\":\"scatter\"},{\"customdata\":[[-1,-1,8,4,\"Predicted protein\",\"Predicted\",\"Nematostella vectensis\",\"Nematostella\",2.4344002,\"Cnidaria\"],[-1,15,7,4,\"Predicted protein\",\"Predicted\",\"Nematostella vectensis\",\"Nematostella\",3.06309082,\"Cnidaria\"],[20,15,7,4,\"Predicted protein\",\"Predicted\",\"Nematostella vectensis\",\"Nematostella\",2.69558275,\"Cnidaria\"],[-1,15,7,4,\"Predicted protein\",\"Predicted\",\"Nematostella vectensis\",\"Nematostella\",2.74661692,\"Cnidaria\"],[20,15,7,4,\"Predicted protein\",\"Predicted\",\"Nematostella vectensis\",\"Nematostella\",2.46698831,\"Cnidaria\"],[-1,-1,-1,3,\"Predicted protein\",\"Predicted\",\"Nematostella vectensis\",\"Nematostella\",3.13699746,\"Cnidaria\"]],\"hovertemplate\":\"<b>%{hovertext}</b><br><br>Color_species=%{customdata[9]}<br>pm1=%{x}<br>pm2=%{y}<br>tree1=%{customdata[0]}<br>tree2=%{customdata[1]}<br>tree3=%{customdata[2]}<br>tree4=%{customdata[3]}<br>full_name=%{customdata[4]}<br>short_name=%{customdata[5]}<br>full_species=%{customdata[6]}<br>short_species=%{customdata[7]}<br>evo_distance=%{customdata[8]}<extra></extra>\",\"hovertext\":[\"Cnidaria\",\"Cnidaria\",\"Cnidaria\",\"Cnidaria\",\"Cnidaria\",\"Cnidaria\"],\"legendgroup\":\"Cnidaria\",\"marker\":{\"color\":\"#ad288b\",\"symbol\":\"circle\"},\"mode\":\"markers\",\"name\":\"Cnidaria\",\"orientation\":\"v\",\"showlegend\":true,\"x\":[0.517738,0.4496376,0.3898013,0.42262098,0.39284456,0.6561514],\"xaxis\":\"x\",\"y\":[-0.5662864,-0.618326,-0.56718403,-0.5818676,-0.48683637,-0.22333336],\"yaxis\":\"y\",\"type\":\"scatter\"},{\"customdata\":[[-1,-1,9,3,\"Uncharacterized protein\",\"Uncharacterized\",\"Amphimedon queenslandica\",\"Amphimedon\",2.52227159,\"Porifera\"]],\"hovertemplate\":\"<b>%{hovertext}</b><br><br>Color_species=%{customdata[9]}<br>pm1=%{x}<br>pm2=%{y}<br>tree1=%{customdata[0]}<br>tree2=%{customdata[1]}<br>tree3=%{customdata[2]}<br>tree4=%{customdata[3]}<br>full_name=%{customdata[4]}<br>short_name=%{customdata[5]}<br>full_species=%{customdata[6]}<br>short_species=%{customdata[7]}<br>evo_distance=%{customdata[8]}<extra></extra>\",\"hovertext\":[\"Porifera\"],\"legendgroup\":\"Porifera\",\"marker\":{\"color\":\"#fdb7fd\",\"symbol\":\"circle\"},\"mode\":\"markers\",\"name\":\"Porifera\",\"orientation\":\"v\",\"showlegend\":true,\"x\":[0.5094934],\"xaxis\":\"x\",\"y\":[0.023856374],\"yaxis\":\"y\",\"type\":\"scatter\"},{\"customdata\":[[-1,-1,20,7,\"Putative uncharacterized protein\",\"Putative\",\"Trichoplax adhaerens\",\"Trichoplax\",2.31619376,\"Placozoa\"]],\"hovertemplate\":\"<b>%{hovertext}</b><br><br>Color_species=%{customdata[9]}<br>pm1=%{x}<br>pm2=%{y}<br>tree1=%{customdata[0]}<br>tree2=%{customdata[1]}<br>tree3=%{customdata[2]}<br>tree4=%{customdata[3]}<br>full_name=%{customdata[4]}<br>short_name=%{customdata[5]}<br>full_species=%{customdata[6]}<br>short_species=%{customdata[7]}<br>evo_distance=%{customdata[8]}<extra></extra>\",\"hovertext\":[\"Placozoa\"],\"legendgroup\":\"Placozoa\",\"marker\":{\"color\":\"#e9bd6b\",\"symbol\":\"circle\"},\"mode\":\"markers\",\"name\":\"Placozoa\",\"orientation\":\"v\",\"showlegend\":true,\"x\":[0.53449506],\"xaxis\":\"x\",\"y\":[-0.2776263],\"yaxis\":\"y\",\"type\":\"scatter\"},{\"customdata\":[[-1,-1,6,3,\"Globin\",\"Globin\",\"Gemmatirosa kalamazoonesis\",\"Gemmatirosa\",2.9048387,\"Bacteria\"],[-1,9,6,3,\"Globin\",\"Globin\",\"Gemmatirosa kalamazoonesis\",\"Gemmatirosa\",3.0073288499999995,\"Bacteria\"],[-1,9,6,3,\"Hemin receptor\",\"Hemin\",\"Halothiobacillus sp.\",\"Halothiobacillus\",2.5347764,\"Bacteria\"]],\"hovertemplate\":\"<b>%{hovertext}</b><br><br>Color_species=%{customdata[9]}<br>pm1=%{x}<br>pm2=%{y}<br>tree1=%{customdata[0]}<br>tree2=%{customdata[1]}<br>tree3=%{customdata[2]}<br>tree4=%{customdata[3]}<br>full_name=%{customdata[4]}<br>short_name=%{customdata[5]}<br>full_species=%{customdata[6]}<br>short_species=%{customdata[7]}<br>evo_distance=%{customdata[8]}<extra></extra>\",\"hovertext\":[\"Bacteria\",\"Bacteria\",\"Bacteria\"],\"legendgroup\":\"Bacteria\",\"marker\":{\"color\":\"#f10000\",\"symbol\":\"circle\"},\"mode\":\"markers\",\"name\":\"Bacteria\",\"orientation\":\"v\",\"showlegend\":true,\"x\":[0.7568627,0.7033223,0.7195444],\"xaxis\":\"x\",\"y\":[-0.31134993,-0.35239106,-0.27304283],\"yaxis\":\"y\",\"type\":\"scatter\"},{\"customdata\":[[46,35,19,10,\"Globin\",\"Globin\",\"Ancylostoma ceylanicum\",\"Ancylostoma\",2.22981155,\"Nematoda\"],[46,35,19,10,\"Uncharacterized protein\",\"Uncharacterized\",\"Angiostrongylus costaricensis\",\"Angiostrongylus\",2.13371016,\"Nematoda\"],[46,35,19,10,\"Globin\",\"Globin\",\"Necator americanus\",\"Necator\",2.35159293,\"Nematoda\"],[12,6,4,7,\"Protein CBR GLB 7\",\"Protein\",\"Caenorhabditis briggsae\",\"Caenorhabditis\",3.0159007999999994,\"Nematoda\"],[12,6,4,7,\"Uncharacterized protein\",\"Uncharacterized\",\"Haemonchus placei\",\"Haemonchus\",3.29015469,\"Nematoda\"],[-1,6,4,7,\"Cre glb 30 protein\",\"Cre\",\"Ascaris suum\",\"Ascaris\",3.1760076299999995,\"Nematoda\"],[-1,-1,4,7,\"Globin like protein 26\",\"Globin\",\"Trichinella pseudospiralis\",\"Trichinella\",3.03825431,\"Nematoda\"],[-1,6,4,7,\"Uncharacterized protein\",\"Uncharacterized\",\"Ancylostoma ceylanicum\",\"Ancylostoma\",3.20708282,\"Nematoda\"],[-1,25,15,8,\"Metalloendopeptidase\",\"Metalloendopeptidase\",\"Globodera pallida\",\"Globodera\",2.86594104,\"Nematoda\"],[-1,25,15,8,\"Uncharacterized protein\",\"Uncharacterized\",\"Strongyloides stercoralis\",\"Strongyloides\",3.19295417,\"Nematoda\"]],\"hovertemplate\":\"<b>%{hovertext}</b><br><br>Color_species=%{customdata[9]}<br>pm1=%{x}<br>pm2=%{y}<br>tree1=%{customdata[0]}<br>tree2=%{customdata[1]}<br>tree3=%{customdata[2]}<br>tree4=%{customdata[3]}<br>full_name=%{customdata[4]}<br>short_name=%{customdata[5]}<br>full_species=%{customdata[6]}<br>short_species=%{customdata[7]}<br>evo_distance=%{customdata[8]}<extra></extra>\",\"hovertext\":[\"Nematoda\",\"Nematoda\",\"Nematoda\",\"Nematoda\",\"Nematoda\",\"Nematoda\",\"Nematoda\",\"Nematoda\",\"Nematoda\",\"Nematoda\"],\"legendgroup\":\"Nematoda\",\"marker\":{\"color\":\"#5d78e3\",\"symbol\":\"circle\"},\"mode\":\"markers\",\"name\":\"Nematoda\",\"orientation\":\"v\",\"showlegend\":true,\"x\":[0.052404426,0.11024538,0.05985758,0.9127972,0.90721655,0.93373287,0.9358085,0.9220662,0.1476759,0.198087],\"xaxis\":\"x\",\"y\":[-0.01993436,-0.054958884,-0.081791446,0.019360049,-0.01066695,0.013455787,0.032959137,0.005769358,-0.7522982,-0.8299223],\"yaxis\":\"y\",\"type\":\"scatter\"},{\"customdata\":[[-1,-1,14,6,\"Neuroglobin like protein\",\"Neuroglobin\",\"Saccoglossus kowalevskii\",\"Saccoglossus\",2.35972746,\"Hemichordata\"]],\"hovertemplate\":\"<b>%{hovertext}</b><br><br>Color_species=%{customdata[9]}<br>pm1=%{x}<br>pm2=%{y}<br>tree1=%{customdata[0]}<br>tree2=%{customdata[1]}<br>tree3=%{customdata[2]}<br>tree4=%{customdata[3]}<br>full_name=%{customdata[4]}<br>short_name=%{customdata[5]}<br>full_species=%{customdata[6]}<br>short_species=%{customdata[7]}<br>evo_distance=%{customdata[8]}<extra></extra>\",\"hovertext\":[\"Hemichordata\"],\"legendgroup\":\"Hemichordata\",\"marker\":{\"color\":\"#b0ffe8\",\"symbol\":\"circle\"},\"mode\":\"markers\",\"name\":\"Hemichordata\",\"orientation\":\"v\",\"showlegend\":true,\"x\":[-0.6838667],\"xaxis\":\"x\",\"y\":[0.06397504],\"yaxis\":\"y\",\"type\":\"scatter\"},{\"customdata\":[[15,8,6,3,\"ARAD1D45562p\",\"ARAD1D45562p\",\"Blastobotrys adeninivorans\",\"Blastobotrys\",3.65177433,\"Fungi\"],[15,8,6,3,\"CYFA0S05e02454g1_1\",\"CYFA0S05e02454g1_1\",\"Cyberlindnera fabianii\",\"Cyberlindnera\",4.11857393,\"Fungi\"]],\"hovertemplate\":\"<b>%{hovertext}</b><br><br>Color_species=%{customdata[9]}<br>pm1=%{x}<br>pm2=%{y}<br>tree1=%{customdata[0]}<br>tree2=%{customdata[1]}<br>tree3=%{customdata[2]}<br>tree4=%{customdata[3]}<br>full_name=%{customdata[4]}<br>short_name=%{customdata[5]}<br>full_species=%{customdata[6]}<br>short_species=%{customdata[7]}<br>evo_distance=%{customdata[8]}<extra></extra>\",\"hovertext\":[\"Fungi\",\"Fungi\"],\"legendgroup\":\"Fungi\",\"marker\":{\"color\":\"#a0e361\",\"symbol\":\"circle\"},\"mode\":\"markers\",\"name\":\"Fungi\",\"orientation\":\"v\",\"showlegend\":true,\"x\":[0.75740016,0.7304571],\"xaxis\":\"x\",\"y\":[-0.3518857,-0.32059604],\"yaxis\":\"y\",\"type\":\"scatter\"},{\"customdata\":[[-1,-1,9,3,\"Uncharacterized protein\",\"Uncharacterized\",\"Micromonas commoda\",\"Micromonas\",2.70986541,\"Viridiplantae\"]],\"hovertemplate\":\"<b>%{hovertext}</b><br><br>Color_species=%{customdata[9]}<br>pm1=%{x}<br>pm2=%{y}<br>tree1=%{customdata[0]}<br>tree2=%{customdata[1]}<br>tree3=%{customdata[2]}<br>tree4=%{customdata[3]}<br>full_name=%{customdata[4]}<br>short_name=%{customdata[5]}<br>full_species=%{customdata[6]}<br>short_species=%{customdata[7]}<br>evo_distance=%{customdata[8]}<extra></extra>\",\"hovertext\":[\"Viridiplantae\"],\"legendgroup\":\"Viridiplantae\",\"marker\":{\"color\":\"#4d9b03\",\"symbol\":\"circle\"},\"mode\":\"markers\",\"name\":\"Viridiplantae\",\"orientation\":\"v\",\"showlegend\":true,\"x\":[0.69225985],\"xaxis\":\"x\",\"y\":[-0.16284993],\"yaxis\":\"y\",\"type\":\"scatter\"}],                        {\"template\":{\"data\":{\"histogram2dcontour\":[{\"type\":\"histogram2dcontour\",\"colorbar\":{\"outlinewidth\":0,\"ticks\":\"\"},\"colorscale\":[[0.0,\"#0d0887\"],[0.1111111111111111,\"#46039f\"],[0.2222222222222222,\"#7201a8\"],[0.3333333333333333,\"#9c179e\"],[0.4444444444444444,\"#bd3786\"],[0.5555555555555556,\"#d8576b\"],[0.6666666666666666,\"#ed7953\"],[0.7777777777777778,\"#fb9f3a\"],[0.8888888888888888,\"#fdca26\"],[1.0,\"#f0f921\"]]}],\"choropleth\":[{\"type\":\"choropleth\",\"colorbar\":{\"outlinewidth\":0,\"ticks\":\"\"}}],\"histogram2d\":[{\"type\":\"histogram2d\",\"colorbar\":{\"outlinewidth\":0,\"ticks\":\"\"},\"colorscale\":[[0.0,\"#0d0887\"],[0.1111111111111111,\"#46039f\"],[0.2222222222222222,\"#7201a8\"],[0.3333333333333333,\"#9c179e\"],[0.4444444444444444,\"#bd3786\"],[0.5555555555555556,\"#d8576b\"],[0.6666666666666666,\"#ed7953\"],[0.7777777777777778,\"#fb9f3a\"],[0.8888888888888888,\"#fdca26\"],[1.0,\"#f0f921\"]]}],\"heatmap\":[{\"type\":\"heatmap\",\"colorbar\":{\"outlinewidth\":0,\"ticks\":\"\"},\"colorscale\":[[0.0,\"#0d0887\"],[0.1111111111111111,\"#46039f\"],[0.2222222222222222,\"#7201a8\"],[0.3333333333333333,\"#9c179e\"],[0.4444444444444444,\"#bd3786\"],[0.5555555555555556,\"#d8576b\"],[0.6666666666666666,\"#ed7953\"],[0.7777777777777778,\"#fb9f3a\"],[0.8888888888888888,\"#fdca26\"],[1.0,\"#f0f921\"]]}],\"heatmapgl\":[{\"type\":\"heatmapgl\",\"colorbar\":{\"outlinewidth\":0,\"ticks\":\"\"},\"colorscale\":[[0.0,\"#0d0887\"],[0.1111111111111111,\"#46039f\"],[0.2222222222222222,\"#7201a8\"],[0.3333333333333333,\"#9c179e\"],[0.4444444444444444,\"#bd3786\"],[0.5555555555555556,\"#d8576b\"],[0.6666666666666666,\"#ed7953\"],[0.7777777777777778,\"#fb9f3a\"],[0.8888888888888888,\"#fdca26\"],[1.0,\"#f0f921\"]]}],\"contourcarpet\":[{\"type\":\"contourcarpet\",\"colorbar\":{\"outlinewidth\":0,\"ticks\":\"\"}}],\"contour\":[{\"type\":\"contour\",\"colorbar\":{\"outlinewidth\":0,\"ticks\":\"\"},\"colorscale\":[[0.0,\"#0d0887\"],[0.1111111111111111,\"#46039f\"],[0.2222222222222222,\"#7201a8\"],[0.3333333333333333,\"#9c179e\"],[0.4444444444444444,\"#bd3786\"],[0.5555555555555556,\"#d8576b\"],[0.6666666666666666,\"#ed7953\"],[0.7777777777777778,\"#fb9f3a\"],[0.8888888888888888,\"#fdca26\"],[1.0,\"#f0f921\"]]}],\"surface\":[{\"type\":\"surface\",\"colorbar\":{\"outlinewidth\":0,\"ticks\":\"\"},\"colorscale\":[[0.0,\"#0d0887\"],[0.1111111111111111,\"#46039f\"],[0.2222222222222222,\"#7201a8\"],[0.3333333333333333,\"#9c179e\"],[0.4444444444444444,\"#bd3786\"],[0.5555555555555556,\"#d8576b\"],[0.6666666666666666,\"#ed7953\"],[0.7777777777777778,\"#fb9f3a\"],[0.8888888888888888,\"#fdca26\"],[1.0,\"#f0f921\"]]}],\"mesh3d\":[{\"type\":\"mesh3d\",\"colorbar\":{\"outlinewidth\":0,\"ticks\":\"\"}}],\"scatter\":[{\"fillpattern\":{\"fillmode\":\"overlay\",\"size\":10,\"solidity\":0.2},\"type\":\"scatter\"}],\"parcoords\":[{\"type\":\"parcoords\",\"line\":{\"colorbar\":{\"outlinewidth\":0,\"ticks\":\"\"}}}],\"scatterpolargl\":[{\"type\":\"scatterpolargl\",\"marker\":{\"colorbar\":{\"outlinewidth\":0,\"ticks\":\"\"}}}],\"bar\":[{\"error_x\":{\"color\":\"#2a3f5f\"},\"error_y\":{\"color\":\"#2a3f5f\"},\"marker\":{\"line\":{\"color\":\"#E5ECF6\",\"width\":0.5},\"pattern\":{\"fillmode\":\"overlay\",\"size\":10,\"solidity\":0.2}},\"type\":\"bar\"}],\"scattergeo\":[{\"type\":\"scattergeo\",\"marker\":{\"colorbar\":{\"outlinewidth\":0,\"ticks\":\"\"}}}],\"scatterpolar\":[{\"type\":\"scatterpolar\",\"marker\":{\"colorbar\":{\"outlinewidth\":0,\"ticks\":\"\"}}}],\"histogram\":[{\"marker\":{\"pattern\":{\"fillmode\":\"overlay\",\"size\":10,\"solidity\":0.2}},\"type\":\"histogram\"}],\"scattergl\":[{\"type\":\"scattergl\",\"marker\":{\"colorbar\":{\"outlinewidth\":0,\"ticks\":\"\"}}}],\"scatter3d\":[{\"type\":\"scatter3d\",\"line\":{\"colorbar\":{\"outlinewidth\":0,\"ticks\":\"\"}},\"marker\":{\"colorbar\":{\"outlinewidth\":0,\"ticks\":\"\"}}}],\"scattermapbox\":[{\"type\":\"scattermapbox\",\"marker\":{\"colorbar\":{\"outlinewidth\":0,\"ticks\":\"\"}}}],\"scatterternary\":[{\"type\":\"scatterternary\",\"marker\":{\"colorbar\":{\"outlinewidth\":0,\"ticks\":\"\"}}}],\"scattercarpet\":[{\"type\":\"scattercarpet\",\"marker\":{\"colorbar\":{\"outlinewidth\":0,\"ticks\":\"\"}}}],\"carpet\":[{\"aaxis\":{\"endlinecolor\":\"#2a3f5f\",\"gridcolor\":\"white\",\"linecolor\":\"white\",\"minorgridcolor\":\"white\",\"startlinecolor\":\"#2a3f5f\"},\"baxis\":{\"endlinecolor\":\"#2a3f5f\",\"gridcolor\":\"white\",\"linecolor\":\"white\",\"minorgridcolor\":\"white\",\"startlinecolor\":\"#2a3f5f\"},\"type\":\"carpet\"}],\"table\":[{\"cells\":{\"fill\":{\"color\":\"#EBF0F8\"},\"line\":{\"color\":\"white\"}},\"header\":{\"fill\":{\"color\":\"#C8D4E3\"},\"line\":{\"color\":\"white\"}},\"type\":\"table\"}],\"barpolar\":[{\"marker\":{\"line\":{\"color\":\"#E5ECF6\",\"width\":0.5},\"pattern\":{\"fillmode\":\"overlay\",\"size\":10,\"solidity\":0.2}},\"type\":\"barpolar\"}],\"pie\":[{\"automargin\":true,\"type\":\"pie\"}]},\"layout\":{\"autotypenumbers\":\"strict\",\"colorway\":[\"#636efa\",\"#EF553B\",\"#00cc96\",\"#ab63fa\",\"#FFA15A\",\"#19d3f3\",\"#FF6692\",\"#B6E880\",\"#FF97FF\",\"#FECB52\"],\"font\":{\"color\":\"#2a3f5f\"},\"hovermode\":\"closest\",\"hoverlabel\":{\"align\":\"left\"},\"paper_bgcolor\":\"white\",\"plot_bgcolor\":\"#E5ECF6\",\"polar\":{\"bgcolor\":\"#E5ECF6\",\"angularaxis\":{\"gridcolor\":\"white\",\"linecolor\":\"white\",\"ticks\":\"\"},\"radialaxis\":{\"gridcolor\":\"white\",\"linecolor\":\"white\",\"ticks\":\"\"}},\"ternary\":{\"bgcolor\":\"#E5ECF6\",\"aaxis\":{\"gridcolor\":\"white\",\"linecolor\":\"white\",\"ticks\":\"\"},\"baxis\":{\"gridcolor\":\"white\",\"linecolor\":\"white\",\"ticks\":\"\"},\"caxis\":{\"gridcolor\":\"white\",\"linecolor\":\"white\",\"ticks\":\"\"}},\"coloraxis\":{\"colorbar\":{\"outlinewidth\":0,\"ticks\":\"\"}},\"colorscale\":{\"sequential\":[[0.0,\"#0d0887\"],[0.1111111111111111,\"#46039f\"],[0.2222222222222222,\"#7201a8\"],[0.3333333333333333,\"#9c179e\"],[0.4444444444444444,\"#bd3786\"],[0.5555555555555556,\"#d8576b\"],[0.6666666666666666,\"#ed7953\"],[0.7777777777777778,\"#fb9f3a\"],[0.8888888888888888,\"#fdca26\"],[1.0,\"#f0f921\"]],\"sequentialminus\":[[0.0,\"#0d0887\"],[0.1111111111111111,\"#46039f\"],[0.2222222222222222,\"#7201a8\"],[0.3333333333333333,\"#9c179e\"],[0.4444444444444444,\"#bd3786\"],[0.5555555555555556,\"#d8576b\"],[0.6666666666666666,\"#ed7953\"],[0.7777777777777778,\"#fb9f3a\"],[0.8888888888888888,\"#fdca26\"],[1.0,\"#f0f921\"]],\"diverging\":[[0,\"#8e0152\"],[0.1,\"#c51b7d\"],[0.2,\"#de77ae\"],[0.3,\"#f1b6da\"],[0.4,\"#fde0ef\"],[0.5,\"#f7f7f7\"],[0.6,\"#e6f5d0\"],[0.7,\"#b8e186\"],[0.8,\"#7fbc41\"],[0.9,\"#4d9221\"],[1,\"#276419\"]]},\"xaxis\":{\"gridcolor\":\"white\",\"linecolor\":\"white\",\"ticks\":\"\",\"title\":{\"standoff\":15},\"zerolinecolor\":\"white\",\"automargin\":true,\"zerolinewidth\":2},\"yaxis\":{\"gridcolor\":\"white\",\"linecolor\":\"white\",\"ticks\":\"\",\"title\":{\"standoff\":15},\"zerolinecolor\":\"white\",\"automargin\":true,\"zerolinewidth\":2},\"scene\":{\"xaxis\":{\"backgroundcolor\":\"#E5ECF6\",\"gridcolor\":\"white\",\"linecolor\":\"white\",\"showbackground\":true,\"ticks\":\"\",\"zerolinecolor\":\"white\",\"gridwidth\":2},\"yaxis\":{\"backgroundcolor\":\"#E5ECF6\",\"gridcolor\":\"white\",\"linecolor\":\"white\",\"showbackground\":true,\"ticks\":\"\",\"zerolinecolor\":\"white\",\"gridwidth\":2},\"zaxis\":{\"backgroundcolor\":\"#E5ECF6\",\"gridcolor\":\"white\",\"linecolor\":\"white\",\"showbackground\":true,\"ticks\":\"\",\"zerolinecolor\":\"white\",\"gridwidth\":2}},\"shapedefaults\":{\"line\":{\"color\":\"#2a3f5f\"}},\"annotationdefaults\":{\"arrowcolor\":\"#2a3f5f\",\"arrowhead\":0,\"arrowwidth\":1},\"geo\":{\"bgcolor\":\"white\",\"landcolor\":\"#E5ECF6\",\"subunitcolor\":\"white\",\"showland\":true,\"showlakes\":true,\"lakecolor\":\"white\"},\"title\":{\"x\":0.05},\"mapbox\":{\"style\":\"light\"}}},\"xaxis\":{\"anchor\":\"y\",\"domain\":[0.0,1.0],\"title\":{\"text\":\"pm1\"},\"range\":[-1.1,1.1],\"constrain\":\"domain\"},\"yaxis\":{\"anchor\":\"x\",\"domain\":[0.0,1.0],\"title\":{\"text\":\"pm2\"},\"scaleanchor\":\"x\",\"scaleratio\":1},\"legend\":{\"title\":{\"text\":\"Color_species\"},\"tracegroupgap\":0},\"title\":{\"text\":\"PM projection of globins colored according family name\",\"x\":0.5},\"height\":800,\"shapes\":[{\"line\":{\"color\":\"black\",\"dash\":\"dot\"},\"opacity\":0.15,\"type\":\"circle\",\"x0\":-0.47058823529411764,\"x1\":0.47058823529411764,\"y0\":-0.47058823529411764,\"y1\":0.47058823529411764},{\"line\":{\"color\":\"black\",\"dash\":\"dot\"},\"opacity\":0.15,\"type\":\"circle\",\"x0\":-0.6447368421052633,\"x1\":0.6447368421052633,\"y0\":-0.6447368421052633,\"y1\":0.6447368421052633},{\"line\":{\"color\":\"black\",\"dash\":\"dot\"},\"opacity\":0.15,\"type\":\"circle\",\"x0\":-0.7705382436260623,\"x1\":0.7705382436260623,\"y0\":-0.7705382436260623,\"y1\":0.7705382436260623},{\"line\":{\"color\":\"black\",\"dash\":\"dot\"},\"opacity\":0.15,\"type\":\"circle\",\"x0\":-0.8557007125890737,\"x1\":0.8557007125890737,\"y0\":-0.8557007125890737,\"y1\":0.8557007125890737},{\"line\":{\"color\":\"black\",\"dash\":\"dot\"},\"opacity\":0.15,\"type\":\"circle\",\"x0\":-0.9108474990827933,\"x1\":0.9108474990827933,\"y0\":-0.9108474990827933,\"y1\":0.9108474990827933},{\"line\":{\"color\":\"black\",\"dash\":\"dot\"},\"opacity\":0.15,\"type\":\"circle\",\"x0\":-0.9455374041239167,\"x1\":0.9455374041239167,\"y0\":-0.9455374041239167,\"y1\":0.9455374041239167},{\"line\":{\"color\":\"Black\"},\"type\":\"circle\",\"x0\":-1,\"x1\":1,\"xref\":\"x\",\"y0\":-1,\"y1\":1,\"yref\":\"y\"},{\"fillcolor\":\"Black\",\"line\":{\"color\":\"Black\"},\"type\":\"circle\",\"x0\":-0.005,\"x1\":0.005,\"xref\":\"x\",\"y0\":-0.005,\"y1\":0.005,\"yref\":\"y\"}],\"yaxis2\":{\"matches\":\"y\",\"layer\":\"below traces\",\"overlaying\":\"y\"},\"plot_bgcolor\":\"rgba(0, 0, 0, 0)\",\"font\":{\"size\":11}},                        {\"responsive\": true}                    ).then(function(){\n",
       "                            \n",
       "var gd = document.getElementById('e95def18-29b8-4583-ab8e-3e279f70c3e8');\n",
       "var x = new MutationObserver(function (mutations, observer) {{\n",
       "        var display = window.getComputedStyle(gd).display;\n",
       "        if (!display || display === 'none') {{\n",
       "            console.log([gd, 'removed!']);\n",
       "            Plotly.purge(gd);\n",
       "            observer.disconnect();\n",
       "        }}\n",
       "}});\n",
       "\n",
       "// Listen for the removal of the full notebook cells\n",
       "var notebookContainer = gd.closest('#notebook-container');\n",
       "if (notebookContainer) {{\n",
       "    x.observe(notebookContainer, {childList: true});\n",
       "}}\n",
       "\n",
       "// Listen for the clearing of the current output cell\n",
       "var outputEl = gd.closest('.output');\n",
       "if (outputEl) {{\n",
       "    x.observe(outputEl, {childList: true});\n",
       "}}\n",
       "\n",
       "                        })                };                });            </script>        </div>"
      ]
     },
     "metadata": {},
     "output_type": "display_data"
    }
   ],
   "source": [
    "trace1 = plot_embedding_interactive(df5, \n",
    "                                    labels_name = 'Color_species',\n",
    "                                    show_text=True, \n",
    "                                    color_palette = globin_palette, \n",
    "                                    title = \"PM projection of globins colored according family name\", \n",
    "                                    fontsize = 11\n",
    "                              )\n",
    "trace1.write_image(path_to_figures+\"/Globins_by_family.pdf\")\n",
    "trace1.show()"
   ]
  },
  {
   "cell_type": "code",
   "execution_count": 42,
   "id": "26ab633c",
   "metadata": {},
   "outputs": [
    {
     "name": "stdout",
     "output_type": "stream",
     "text": [
      "Index(['tree1', 'tree2', 'tree3', 'tree4', 'full_name', 'short_name',\n",
      "       'full_species', 'short_species', 'evo_distance', 'Color_species'],\n",
      "      dtype='object')\n"
     ]
    },
    {
     "data": {
      "application/vnd.plotly.v1+json": {
       "config": {
        "plotlyServerURL": "https://plot.ly"
       },
       "data": [
        {
         "customdata": [
          [
           5,
           3,
           3,
           2,
           "Globin C, coelomic",
           "Globin",
           "Caudina arenicola",
           "Caudina",
           2.10112824,
           "Echinodermata"
          ],
          [
           4,
           2,
           3,
           2,
           "Hemoglobin",
           "Hemoglobin",
           "Hemipholis cordifera",
           "Hemipholis",
           2.32722587,
           "Echinodermata"
          ],
          [
           4,
           2,
           3,
           2,
           "Hemoglobin",
           "Hemoglobin",
           "Ophiactis simplex",
           "Ophiactis",
           2.21961074,
           "Echinodermata"
          ],
          [
           4,
           2,
           3,
           2,
           "Hemoglobin",
           "Hemoglobin",
           "Ophiactis simplex",
           "Ophiactis",
           2.26245834,
           "Echinodermata"
          ],
          [
           -1,
           -1,
           3,
           2,
           "Extracellular globin 1",
           "Extracellular",
           "Metaphire sieboldi",
           "Metaphire",
           2.43355891,
           "Annelida"
          ]
         ],
         "hovertemplate": "<b>%{hovertext}</b><br><br>tree3=%{customdata[2]}<br>pm1=%{x}<br>pm2=%{y}<br>tree1=%{customdata[0]}<br>tree2=%{customdata[1]}<br>tree4=%{customdata[3]}<br>full_name=%{customdata[4]}<br>short_name=%{customdata[5]}<br>full_species=%{customdata[6]}<br>short_species=%{customdata[7]}<br>evo_distance=%{customdata[8]}<br>Color_species=%{customdata[9]}<extra></extra>",
         "hovertext": [
          3,
          3,
          3,
          3,
          3
         ],
         "legendgroup": "3",
         "marker": {
          "color": "#00cc96",
          "symbol": "circle"
         },
         "mode": "markers",
         "name": "3",
         "orientation": "v",
         "showlegend": true,
         "type": "scatter",
         "x": [
          -0.21667436,
          -0.4302237,
          -0.40556702,
          -0.5173694,
          -0.7644506
         ],
         "xaxis": "x",
         "y": [
          -0.21860453,
          -0.31260967,
          -0.38427094,
          -0.4598606,
          -0.47261742
         ],
         "yaxis": "y"
        },
        {
         "customdata": [
          [
           -1,
           28,
           18,
           10,
           "Globin (Fragment)",
           "Globin",
           "Stegodyphus mimosarum",
           "Stegodyphus",
           1.7572795,
           "Arthropoda"
          ],
          [
           -1,
           27,
           18,
           10,
           "Uncharacterized protein",
           "Uncharacterized",
           "Strigamia maritima",
           "Strigamia",
           2.04148677,
           "Arthropoda"
          ],
          [
           37,
           27,
           18,
           10,
           "Uncharacterized protein",
           "Uncharacterized",
           "Scylla olivacea",
           "Scylla",
           2.31816861,
           "Arthropoda"
          ],
          [
           37,
           27,
           18,
           10,
           "Uncharacterized protein",
           "Uncharacterized",
           "Scylla olivacea",
           "Scylla",
           2.17077532,
           "Arthropoda"
          ],
          [
           37,
           27,
           18,
           10,
           "Hemoglobin",
           "Hemoglobin",
           "Carcinus maenas",
           "Carcinus",
           2.1764956200000003,
           "Arthropoda"
          ],
          [
           -1,
           29,
           18,
           10,
           "Globin, putative",
           "Globin,",
           "Ixodes scapularis",
           "Ixodes",
           2.30448645,
           "Arthropoda"
          ],
          [
           40,
           28,
           18,
           10,
           "Globin",
           "Globin",
           "Zootermopsis nevadensis",
           "Zootermopsis",
           1.87201142,
           "Arthropoda"
          ],
          [
           45,
           33,
           18,
           10,
           "Uncharacterized protein",
           "Uncharacterized",
           "Arion vulgaris",
           "Arion",
           1.97427266,
           "Mollusca"
          ],
          [
           45,
           33,
           18,
           10,
           "Uncharacterized protein",
           "Uncharacterized",
           "Arion vulgaris",
           "Arion",
           2.08013658,
           "Mollusca"
          ],
          [
           40,
           28,
           18,
           10,
           "Globin like protein (Fragment)",
           "Globin",
           "Coptotermes formosanus",
           "Coptotermes",
           1.7741922,
           "Arthropoda"
          ],
          [
           -1,
           28,
           18,
           10,
           "Uncharacterized protein",
           "Uncharacterized",
           "Oryctes borbonicus",
           "Oryctes",
           2.08382808,
           "Arthropoda"
          ],
          [
           -1,
           27,
           18,
           10,
           "Uncharacterized protein",
           "Uncharacterized",
           "Tetranychus urticae",
           "Tetranychus",
           2.47172868,
           "Arthropoda"
          ],
          [
           39,
           28,
           18,
           10,
           "Globin 1",
           "Globin",
           "Apis mellifera",
           "Apis",
           2.242503,
           "Arthropoda"
          ],
          [
           39,
           28,
           18,
           10,
           "Putative uncharacterized protein (Fragment)",
           "Putative",
           "Solenopsis invicta",
           "Solenopsis",
           2.64407828,
           "Arthropoda"
          ],
          [
           38,
           28,
           18,
           10,
           "Globin",
           "Globin",
           "Habropoda laboriosa",
           "Habropoda",
           2.60605258,
           "Arthropoda"
          ],
          [
           38,
           28,
           18,
           10,
           "Cygb2_0 protein",
           "Cygb2_0",
           "Fopius arisanus",
           "Fopius",
           2.25335988,
           "Arthropoda"
          ],
          [
           39,
           28,
           18,
           10,
           "Cytoglobin 2",
           "Cytoglobin",
           "Cerapachys biroi",
           "Cerapachys",
           2.52009681,
           "Arthropoda"
          ],
          [
           39,
           28,
           18,
           10,
           "Globin",
           "Globin",
           "Camponotus floridanus",
           "Camponotus",
           2.60584071,
           "Arthropoda"
          ],
          [
           38,
           28,
           18,
           10,
           "Uncharacterized protein",
           "Uncharacterized",
           "Nasonia vitripennis",
           "Nasonia",
           2.25387252,
           "Arthropoda"
          ],
          [
           39,
           28,
           18,
           10,
           "Cytoglobin",
           "Cytoglobin",
           "Acromyrmex echinatior",
           "Acromyrmex",
           2.64639149,
           "Arthropoda"
          ],
          [
           -1,
           28,
           18,
           10,
           "Globin like Protein",
           "Globin",
           "Tribolium castaneum",
           "Tribolium",
           2.42579023,
           "Arthropoda"
          ],
          [
           -1,
           34,
           18,
           10,
           "Uncharacterized protein",
           "Uncharacterized",
           "Capitella teleta",
           "Capitella",
           2.02076984,
           "Annelida"
          ],
          [
           -1,
           34,
           18,
           10,
           "Cytoglobin 1 like protein",
           "Cytoglobin",
           "Sarcoptes scabiei",
           "Sarcoptes",
           2.036886,
           "Arthropoda"
          ],
          [
           -1,
           29,
           18,
           10,
           "Uncharacterized protein (Fragment)",
           "Uncharacterized",
           "Ixodes ricinus",
           "Ixodes",
           1.7778336,
           "Arthropoda"
          ],
          [
           37,
           27,
           18,
           10,
           "Cytoglobin 2 isoform CYGBi2",
           "Cytoglobin",
           "Cherax destructor",
           "Cherax",
           2.23555225,
           "Arthropoda"
          ],
          [
           36,
           26,
           18,
           10,
           "Putative uncharacterized protein",
           "Putative",
           "Daphnia pulex",
           "Daphnia",
           2.15851408,
           "Arthropoda"
          ],
          [
           -1,
           -1,
           18,
           10,
           "Globin",
           "Globin",
           "Crassostrea gigas",
           "Crassostrea",
           2.20001602,
           "Mollusca"
          ],
          [
           -1,
           29,
           18,
           10,
           "Beta chain of the tetrameric hemoglobin, putative",
           "Hemoglobin",
           "Ixodes scapularis",
           "Ixodes",
           2.34867746,
           "Arthropoda"
          ],
          [
           39,
           28,
           18,
           10,
           "Globin",
           "Globin",
           "Harpegnathos saltator",
           "Harpegnathos",
           2.62513263,
           "Arthropoda"
          ],
          [
           40,
           28,
           18,
           10,
           "Globin",
           "Globin",
           "Zootermopsis nevadensis",
           "Zootermopsis",
           1.7189102399999998,
           "Arthropoda"
          ],
          [
           -1,
           -1,
           18,
           10,
           "Globin",
           "Globin",
           "Daphnia magna",
           "Daphnia",
           2.39585067,
           "Arthropoda"
          ],
          [
           36,
           26,
           18,
           10,
           "Cytoglobin 2",
           "Cytoglobin",
           "Daphnia magna",
           "Daphnia",
           2.23126274,
           "Arthropoda"
          ],
          [
           -1,
           -1,
           18,
           10,
           "Globin like protein 1",
           "Globin",
           "Sarcoptes scabiei",
           "Sarcoptes",
           2.11760394,
           "Arthropoda"
          ]
         ],
         "hovertemplate": "<b>%{hovertext}</b><br><br>tree3=%{customdata[2]}<br>pm1=%{x}<br>pm2=%{y}<br>tree1=%{customdata[0]}<br>tree2=%{customdata[1]}<br>tree4=%{customdata[3]}<br>full_name=%{customdata[4]}<br>short_name=%{customdata[5]}<br>full_species=%{customdata[6]}<br>short_species=%{customdata[7]}<br>evo_distance=%{customdata[8]}<br>Color_species=%{customdata[9]}<extra></extra>",
         "hovertext": [
          18,
          18,
          18,
          18,
          18,
          18,
          18,
          18,
          18,
          18,
          18,
          18,
          18,
          18,
          18,
          18,
          18,
          18,
          18,
          18,
          18,
          18,
          18,
          18,
          18,
          18,
          18,
          18,
          18,
          18,
          18,
          18,
          18
         ],
         "legendgroup": "18",
         "marker": {
          "color": "#ab63fa",
          "symbol": "circle"
         },
         "mode": "markers",
         "name": "18",
         "orientation": "v",
         "showlegend": true,
         "type": "scatter",
         "x": [
          -0.24626446,
          -0.47054383,
          -0.63619757,
          -0.5592275,
          -0.6106947,
          -0.39653635,
          -0.3187841,
          -0.5632335,
          -0.5406315,
          -0.26323253,
          -0.3479131,
          -0.4966424,
          -0.3140081,
          -0.32874995,
          -0.31312993,
          -0.27427414,
          -0.3288361,
          -0.3337321,
          -0.28614563,
          -0.32835472,
          -0.1983768,
          -0.21909064,
          -0.15023288,
          -0.4500374,
          -0.62328726,
          -0.5573055,
          -0.4371524,
          -0.35276818,
          -0.3307095,
          -0.26639497,
          -0.3498966,
          -0.4681326,
          -0.29509747
         ],
         "xaxis": "x",
         "y": [
          0.018228846,
          0.13331215,
          0.14543886,
          0.15505402,
          0.1088888,
          0.04160786,
          -0.03921273,
          0.258736,
          0.23058921,
          0.14594887,
          0.10097041,
          0.06428482,
          0.4147196,
          0.42633247,
          0.42841852,
          0.36854163,
          0.4256392,
          0.4200103,
          0.40599293,
          0.42652923,
          0.23160113,
          -0.071306035,
          -0.026678458,
          0.04888431,
          0.13795426,
          -0.06725375,
          0.100146346,
          0.16588998,
          0.42420337,
          0.09677661,
          0.40934163,
          -0.074411534,
          0.07560197
         ],
         "yaxis": "y"
        },
        {
         "customdata": [
          [
           -1,
           40,
           22,
           11,
           "ACYPI007228 protein",
           "ACYPI007228",
           "Acyrthosiphon pisum",
           "Acyrthosiphon",
           0.44459959,
           "Arthropoda"
          ],
          [
           10,
           38,
           22,
           9,
           "Hemoglobin T1 polymer",
           "Hemoglobin",
           "Artemia salina",
           "Artemia",
           1.84725956,
           "Arthropoda"
          ],
          [
           10,
           38,
           22,
           9,
           "Hemoglobin P polymer",
           "Hemoglobin",
           "Parartemia zietziana",
           "Parartemia",
           1.91905851,
           "Arthropoda"
          ],
          [
           11,
           38,
           22,
           9,
           "Hemoglobin T1 polymer",
           "Hemoglobin",
           "Artemia salina",
           "Artemia",
           1.78050468,
           "Arthropoda"
          ],
          [
           11,
           38,
           22,
           9,
           "Hemoglobin P polymer",
           "Hemoglobin",
           "Parartemia zietziana",
           "Parartemia",
           1.73983856,
           "Arthropoda"
          ],
          [
           11,
           38,
           22,
           9,
           "Hemoglobin C1 polymer",
           "Hemoglobin",
           "Artemia salina",
           "Artemia",
           1.70252921,
           "Arthropoda"
          ],
          [
           -1,
           38,
           22,
           9,
           "Hemoglobin P polymer",
           "Hemoglobin",
           "Parartemia zietziana",
           "Parartemia",
           2.0891213,
           "Arthropoda"
          ],
          [
           -1,
           40,
           22,
           11,
           "Uncharacterized protein",
           "Uncharacterized",
           "Acyrthosiphon pisum",
           "Acyrthosiphon",
           0.90085961,
           "Arthropoda"
          ]
         ],
         "hovertemplate": "<b>%{hovertext}</b><br><br>tree3=%{customdata[2]}<br>pm1=%{x}<br>pm2=%{y}<br>tree1=%{customdata[0]}<br>tree2=%{customdata[1]}<br>tree4=%{customdata[3]}<br>full_name=%{customdata[4]}<br>short_name=%{customdata[5]}<br>full_species=%{customdata[6]}<br>short_species=%{customdata[7]}<br>evo_distance=%{customdata[8]}<br>Color_species=%{customdata[9]}<extra></extra>",
         "hovertext": [
          22,
          22,
          22,
          22,
          22,
          22,
          22,
          22
         ],
         "legendgroup": "22",
         "marker": {
          "color": "#FFA15A",
          "symbol": "circle"
         },
         "mode": "markers",
         "name": "22",
         "orientation": "v",
         "showlegend": true,
         "type": "scatter",
         "x": [
          -0.03961237,
          -0.77368903,
          -0.7811032,
          -0.7430581,
          -0.75057,
          -0.75238556,
          -0.72880983,
          -0.047171053
         ],
         "xaxis": "x",
         "y": [
          0.16208796,
          -0.06273218,
          -0.087382644,
          -0.06714899,
          -0.08059937,
          -0.091650546,
          -0.120075434,
          0.17393063
         ],
         "yaxis": "y"
        },
        {
         "customdata": [
          [
           13,
           17,
           5,
           7,
           "Uncharacterized protein",
           "Uncharacterized",
           "Capitella teleta",
           "Capitella",
           2.1436955,
           "Annelida"
          ],
          [
           13,
           17,
           5,
           7,
           "Uncharacterized protein",
           "Uncharacterized",
           "Capitella teleta",
           "Capitella",
           2.2371513499999995,
           "Annelida"
          ],
          [
           -1,
           17,
           5,
           7,
           "Uncharacterized protein (Fragment)",
           "Uncharacterized",
           "Capitella teleta",
           "Capitella",
           2.66909204,
           "Annelida"
          ],
          [
           -1,
           17,
           5,
           7,
           "Uncharacterized protein",
           "Uncharacterized",
           "Capitella teleta",
           "Capitella",
           2.42843133,
           "Annelida"
          ]
         ],
         "hovertemplate": "<b>%{hovertext}</b><br><br>tree3=%{customdata[2]}<br>pm1=%{x}<br>pm2=%{y}<br>tree1=%{customdata[0]}<br>tree2=%{customdata[1]}<br>tree4=%{customdata[3]}<br>full_name=%{customdata[4]}<br>short_name=%{customdata[5]}<br>full_species=%{customdata[6]}<br>short_species=%{customdata[7]}<br>evo_distance=%{customdata[8]}<br>Color_species=%{customdata[9]}<extra></extra>",
         "hovertext": [
          5,
          5,
          5,
          5
         ],
         "legendgroup": "5",
         "marker": {
          "color": "#19d3f3",
          "symbol": "circle"
         },
         "mode": "markers",
         "name": "5",
         "orientation": "v",
         "showlegend": true,
         "type": "scatter",
         "x": [
          0.91033936,
          0.8824557,
          0.9122024,
          0.9026783
         ],
         "xaxis": "x",
         "y": [
          0.054009266,
          0.05633255,
          0.10156787,
          0.085135356
         ],
         "yaxis": "y"
        },
        {
         "customdata": [
          [
           -1,
           -1,
           4,
           7,
           "Uncharacterized protein",
           "Uncharacterized",
           "Capitella teleta",
           "Capitella",
           2.50218703,
           "Annelida"
          ],
          [
           -1,
           7,
           4,
           7,
           "Cytoglobin 2",
           "Cytoglobin",
           "Crassostrea gigas",
           "Crassostrea",
           2.34885314,
           "Mollusca"
          ],
          [
           -1,
           7,
           4,
           7,
           "Uncharacterized protein",
           "Uncharacterized",
           "Lottia gigantea",
           "Lottia",
           2.43279945,
           "Mollusca"
          ],
          [
           12,
           6,
           4,
           7,
           "Protein CBR GLB 7",
           "Protein",
           "Caenorhabditis briggsae",
           "Caenorhabditis",
           3.0159007999999994,
           "Nematoda"
          ],
          [
           12,
           6,
           4,
           7,
           "Uncharacterized protein",
           "Uncharacterized",
           "Haemonchus placei",
           "Haemonchus",
           3.29015469,
           "Nematoda"
          ],
          [
           -1,
           6,
           4,
           7,
           "Cre glb 30 protein",
           "Cre",
           "Ascaris suum",
           "Ascaris",
           3.1760076299999995,
           "Nematoda"
          ],
          [
           -1,
           -1,
           4,
           7,
           "Globin like protein 26",
           "Globin",
           "Trichinella pseudospiralis",
           "Trichinella",
           3.03825431,
           "Nematoda"
          ],
          [
           -1,
           6,
           4,
           7,
           "Uncharacterized protein",
           "Uncharacterized",
           "Ancylostoma ceylanicum",
           "Ancylostoma",
           3.20708282,
           "Nematoda"
          ]
         ],
         "hovertemplate": "<b>%{hovertext}</b><br><br>tree3=%{customdata[2]}<br>pm1=%{x}<br>pm2=%{y}<br>tree1=%{customdata[0]}<br>tree2=%{customdata[1]}<br>tree4=%{customdata[3]}<br>full_name=%{customdata[4]}<br>short_name=%{customdata[5]}<br>full_species=%{customdata[6]}<br>short_species=%{customdata[7]}<br>evo_distance=%{customdata[8]}<br>Color_species=%{customdata[9]}<extra></extra>",
         "hovertext": [
          4,
          4,
          4,
          4,
          4,
          4,
          4,
          4
         ],
         "legendgroup": "4",
         "marker": {
          "color": "#FF6692",
          "symbol": "circle"
         },
         "mode": "markers",
         "name": "4",
         "orientation": "v",
         "showlegend": true,
         "type": "scatter",
         "x": [
          0.92844415,
          0.922799,
          0.9120393,
          0.9127972,
          0.90721655,
          0.93373287,
          0.9358085,
          0.9220662
         ],
         "xaxis": "x",
         "y": [
          0.068173505,
          0.0847699,
          0.073968746,
          0.019360049,
          -0.01066695,
          0.013455787,
          0.032959137,
          0.005769358
         ],
         "yaxis": "y"
        },
        {
         "customdata": [
          [
           -1,
           13,
           8,
           4,
           "Neuroglobin like",
           "Neuroglobin",
           "Scleropages formosus",
           "Scleropages",
           2.75087931,
           "Chordata"
          ],
          [
           -1,
           -1,
           8,
           4,
           "Predicted protein",
           "Predicted",
           "Nematostella vectensis",
           "Nematostella",
           2.4344002,
           "Cnidaria"
          ],
          [
           22,
           13,
           8,
           4,
           "Neuroglobin",
           "Neuroglobin",
           "Oryctolagus cuniculus",
           "Oryctolagus",
           3.722439879999999,
           "Chordata"
          ],
          [
           22,
           13,
           8,
           4,
           "Neuroglobin",
           "Neuroglobin",
           "Alligator mississippiensis",
           "Alligator",
           3.58667483,
           "Chordata"
          ],
          [
           21,
           13,
           8,
           4,
           "Neuroglobin",
           "Neuroglobin",
           "Danio rerio",
           "Danio",
           3.068778509999999,
           "Chordata"
          ],
          [
           22,
           13,
           8,
           4,
           "Uncharacterized protein",
           "Uncharacterized",
           "Anolis carolinensis",
           "Anolis",
           3.673447579999999,
           "Chordata"
          ],
          [
           22,
           13,
           8,
           4,
           "Uncharacterized protein",
           "Uncharacterized",
           "Lepisosteus oculatus",
           "Lepisosteus",
           3.147542819999999,
           "Chordata"
          ],
          [
           21,
           13,
           8,
           4,
           "Neuroglobin 1",
           "Neuroglobin",
           "Salmo salar",
           "Salmo",
           3.094649499999999,
           "Chordata"
          ],
          [
           22,
           13,
           8,
           4,
           "Neuroglobin",
           "Neuroglobin",
           "Amazona aestiva",
           "Amazona",
           3.684650899999999,
           "Chordata"
          ],
          [
           21,
           13,
           8,
           4,
           "Neuroglobin",
           "Neuroglobin",
           "Chaenocephalus aceratus",
           "Chaenocephalus",
           3.048452869999999,
           "Chordata"
          ],
          [
           22,
           13,
           8,
           4,
           "Uncharacterized protein",
           "Uncharacterized",
           "Ornithorhynchus anatinus",
           "Ornithorhynchus",
           3.630371559999999,
           "Chordata"
          ],
          [
           22,
           13,
           8,
           4,
           "Uncharacterized protein",
           "Uncharacterized",
           "Sarcophilus harrisii",
           "Sarcophilus",
           3.563486359999999,
           "Chordata"
          ],
          [
           22,
           13,
           8,
           4,
           "Uncharacterized protein",
           "Uncharacterized",
           "Anas platyrhynchos",
           "Anas",
           3.747842649999999,
           "Chordata"
          ],
          [
           22,
           13,
           8,
           4,
           "Neuroglobin",
           "Neuroglobin",
           "Gallus gallus",
           "Gallus",
           3.679641069999999,
           "Chordata"
          ],
          [
           21,
           13,
           8,
           4,
           "Neuroglobin (Fragment)",
           "Neuroglobin",
           "Fundulus heteroclitus",
           "Fundulus",
           3.1009386899999987,
           "Chordata"
          ]
         ],
         "hovertemplate": "<b>%{hovertext}</b><br><br>tree3=%{customdata[2]}<br>pm1=%{x}<br>pm2=%{y}<br>tree1=%{customdata[0]}<br>tree2=%{customdata[1]}<br>tree4=%{customdata[3]}<br>full_name=%{customdata[4]}<br>short_name=%{customdata[5]}<br>full_species=%{customdata[6]}<br>short_species=%{customdata[7]}<br>evo_distance=%{customdata[8]}<br>Color_species=%{customdata[9]}<extra></extra>",
         "hovertext": [
          8,
          8,
          8,
          8,
          8,
          8,
          8,
          8,
          8,
          8,
          8,
          8,
          8,
          8,
          8
         ],
         "legendgroup": "8",
         "marker": {
          "color": "#B6E880",
          "symbol": "circle"
         },
         "mode": "markers",
         "name": "8",
         "orientation": "v",
         "showlegend": true,
         "type": "scatter",
         "x": [
          0.67934245,
          0.517738,
          0.6202889,
          0.61812013,
          0.70251507,
          0.61191714,
          0.67533946,
          0.71641743,
          0.615214,
          0.7004707,
          0.6218602,
          0.6179422,
          0.6216531,
          0.61948395,
          0.72672075
         ],
         "xaxis": "x",
         "y": [
          -0.433285,
          -0.5662864,
          -0.0073697944,
          -0.0062848525,
          -0.45961723,
          -0.0027511478,
          -0.49599254,
          -0.48667392,
          -0.0155976415,
          -0.4818692,
          -0.00900353,
          -0.00520993,
          -0.00888536,
          -0.015807064,
          -0.46007267
         ],
         "yaxis": "y"
        },
        {
         "customdata": [
          [
           -1,
           23,
           14,
           6,
           "Globin",
           "Globin",
           "Branchiostoma floridae",
           "Branchiostoma",
           2.1325129,
           "Chordata"
          ],
          [
           34,
           23,
           14,
           6,
           "Globin",
           "Globin",
           "Branchiostoma floridae",
           "Branchiostoma",
           2.16645269,
           "Chordata"
          ],
          [
           33,
           24,
           14,
           6,
           "Uncharacterized protein",
           "Uncharacterized",
           "Ciona savignyi",
           "Ciona",
           2.80514043,
           "Chordata"
          ],
          [
           33,
           24,
           14,
           6,
           "Uncharacterized protein",
           "Uncharacterized",
           "Ciona intestinalis",
           "Ciona",
           2.81068422,
           "Chordata"
          ],
          [
           33,
           24,
           14,
           6,
           "Globin",
           "Globin",
           "Ciona intestinalis",
           "Ciona",
           2.83829804,
           "Chordata"
          ],
          [
           33,
           24,
           14,
           6,
           "Uncharacterized protein",
           "Uncharacterized",
           "Ciona savignyi",
           "Ciona",
           2.96556729,
           "Chordata"
          ],
          [
           35,
           24,
           14,
           6,
           "Uncharacterized protein",
           "Uncharacterized",
           "Ciona savignyi",
           "Ciona",
           2.65847977,
           "Chordata"
          ],
          [
           35,
           24,
           14,
           6,
           "Globin",
           "Globin",
           "Ciona intestinalis",
           "Ciona",
           2.60884268,
           "Chordata"
          ],
          [
           34,
           23,
           14,
           6,
           "Putative uncharacterized protein",
           "Putative",
           "Branchiostoma floridae",
           "Branchiostoma",
           2.37973605,
           "Chordata"
          ],
          [
           34,
           23,
           14,
           6,
           "Putative uncharacterized protein",
           "Putative",
           "Branchiostoma floridae",
           "Branchiostoma",
           2.38806056,
           "Chordata"
          ],
          [
           -1,
           -1,
           14,
           6,
           "Neuroglobin like protein",
           "Neuroglobin",
           "Saccoglossus kowalevskii",
           "Saccoglossus",
           2.35972746,
           "Hemichordata"
          ],
          [
           -1,
           24,
           14,
           6,
           "Globin",
           "Globin",
           "Ciona intestinalis",
           "Ciona",
           3.12906012,
           "Chordata"
          ]
         ],
         "hovertemplate": "<b>%{hovertext}</b><br><br>tree3=%{customdata[2]}<br>pm1=%{x}<br>pm2=%{y}<br>tree1=%{customdata[0]}<br>tree2=%{customdata[1]}<br>tree4=%{customdata[3]}<br>full_name=%{customdata[4]}<br>short_name=%{customdata[5]}<br>full_species=%{customdata[6]}<br>short_species=%{customdata[7]}<br>evo_distance=%{customdata[8]}<br>Color_species=%{customdata[9]}<extra></extra>",
         "hovertext": [
          14,
          14,
          14,
          14,
          14,
          14,
          14,
          14,
          14,
          14,
          14,
          14
         ],
         "legendgroup": "14",
         "marker": {
          "color": "#FF97FF",
          "symbol": "circle"
         },
         "mode": "markers",
         "name": "14",
         "orientation": "v",
         "showlegend": true,
         "type": "scatter",
         "x": [
          0.55240935,
          0.47532985,
          0.7335919,
          0.72632307,
          0.7249048,
          0.73097605,
          0.7104965,
          0.70331013,
          0.47934029,
          0.46536237,
          -0.6838667,
          0.74595165
         ],
         "xaxis": "x",
         "y": [
          0.5002388,
          0.43271896,
          0.5451118,
          0.55492663,
          0.5649229,
          0.574934,
          0.57495785,
          0.5469707,
          0.47155836,
          0.45727146,
          0.06397504,
          0.5591119
         ],
         "yaxis": "y"
        },
        {
         "customdata": [
          [
           -1,
           39,
           20,
           10,
           "Uncharacterized protein",
           "Uncharacterized",
           "Strongylocentrotus purpuratus",
           "Strongylocentrotus",
           1.75283422,
           "Echinodermata"
          ],
          [
           -1,
           39,
           20,
           7,
           "Putative uncharacterized protein",
           "Putative",
           "Branchiostoma floridae",
           "Branchiostoma",
           1.93258564,
           "Chordata"
          ],
          [
           -1,
           -1,
           20,
           7,
           "Putative uncharacterized protein",
           "Putative",
           "Trichoplax adhaerens",
           "Trichoplax",
           2.31619376,
           "Placozoa"
          ],
          [
           23,
           16,
           20,
           7,
           "Uncharacterized protein",
           "Uncharacterized",
           "Arion vulgaris",
           "Arion",
           2.60859124,
           "Mollusca"
          ],
          [
           -1,
           16,
           20,
           7,
           "Uncharacterized protein",
           "Uncharacterized",
           "Lottia gigantea",
           "Lottia",
           2.7304677,
           "Mollusca"
          ],
          [
           23,
           16,
           20,
           7,
           "Cytoglobin 1",
           "Cytoglobin",
           "Crassostrea gigas",
           "Crassostrea",
           2.85491961,
           "Mollusca"
          ],
          [
           23,
           16,
           20,
           7,
           "Uncharacterized protein",
           "Uncharacterized",
           "Lottia gigantea",
           "Lottia",
           2.73087099,
           "Mollusca"
          ]
         ],
         "hovertemplate": "<b>%{hovertext}</b><br><br>tree3=%{customdata[2]}<br>pm1=%{x}<br>pm2=%{y}<br>tree1=%{customdata[0]}<br>tree2=%{customdata[1]}<br>tree4=%{customdata[3]}<br>full_name=%{customdata[4]}<br>short_name=%{customdata[5]}<br>full_species=%{customdata[6]}<br>short_species=%{customdata[7]}<br>evo_distance=%{customdata[8]}<br>Color_species=%{customdata[9]}<extra></extra>",
         "hovertext": [
          20,
          20,
          20,
          20,
          20,
          20,
          20
         ],
         "legendgroup": "20",
         "marker": {
          "color": "#FECB52",
          "symbol": "circle"
         },
         "mode": "markers",
         "name": "20",
         "orientation": "v",
         "showlegend": true,
         "type": "scatter",
         "x": [
          0.3052599,
          0.35077015,
          0.53449506,
          0.26909155,
          0.2910724,
          0.32616085,
          0.3474818
         ],
         "xaxis": "x",
         "y": [
          0.44487974,
          0.29154557,
          -0.2776263,
          -0.38277054,
          -0.3300073,
          -0.43024892,
          -0.37915847
         ],
         "yaxis": "y"
        },
        {
         "customdata": [
          [
           -1,
           37,
           21,
           10,
           "Uncharacterized protein",
           "Uncharacterized",
           "Lutzomyia longipalpis",
           "Lutzomyia",
           1.94649826,
           "Arthropoda"
          ],
          [
           47,
           36,
           21,
           10,
           "Putative hemoglobin like flavoprotein (Fragment)",
           "Hemoglobin",
           "Rhodnius neglectus",
           "Rhodnius",
           1.84627905,
           "Arthropoda"
          ],
          [
           47,
           36,
           21,
           10,
           "Putative hemoglobin like flavoprotein (Fragment)",
           "Hemoglobin",
           "Triatoma infestans",
           "Triatoma",
           1.9043777,
           "Arthropoda"
          ],
          [
           -1,
           37,
           21,
           10,
           "Uncharacterized protein",
           "Uncharacterized",
           "Glossina morsitans",
           "Glossina",
           2.01930981,
           "Arthropoda"
          ]
         ],
         "hovertemplate": "<b>%{hovertext}</b><br><br>tree3=%{customdata[2]}<br>pm1=%{x}<br>pm2=%{y}<br>tree1=%{customdata[0]}<br>tree2=%{customdata[1]}<br>tree4=%{customdata[3]}<br>full_name=%{customdata[4]}<br>short_name=%{customdata[5]}<br>full_species=%{customdata[6]}<br>short_species=%{customdata[7]}<br>evo_distance=%{customdata[8]}<br>Color_species=%{customdata[9]}<extra></extra>",
         "hovertext": [
          21,
          21,
          21,
          21
         ],
         "legendgroup": "21",
         "marker": {
          "color": "#636efa",
          "symbol": "circle"
         },
         "mode": "markers",
         "name": "21",
         "orientation": "v",
         "showlegend": true,
         "type": "scatter",
         "x": [
          -0.2374086,
          -0.40341073,
          -0.30441177,
          -0.17472373
         ],
         "xaxis": "x",
         "y": [
          0.37581906,
          0.578061,
          0.27104,
          0.41055894
         ],
         "yaxis": "y"
        },
        {
         "customdata": [
          [
           -1,
           -1,
           9,
           3,
           "Uncharacterized protein",
           "Uncharacterized",
           "Amphimedon queenslandica",
           "Amphimedon",
           2.52227159,
           "Porifera"
          ],
          [
           14,
           10,
           9,
           3,
           "Uncharacterized protein",
           "Uncharacterized",
           "Strongylocentrotus purpuratus",
           "Strongylocentrotus",
           2.65354782,
           "Echinodermata"
          ],
          [
           -1,
           -1,
           9,
           3,
           "Uncharacterized protein",
           "Uncharacterized",
           "Micromonas commoda",
           "Micromonas",
           2.70986541,
           "Viridiplantae"
          ],
          [
           14,
           10,
           9,
           3,
           "Uncharacterized protein",
           "Uncharacterized",
           "Strongylocentrotus purpuratus",
           "Strongylocentrotus",
           2.58692572,
           "Echinodermata"
          ],
          [
           -1,
           10,
           9,
           3,
           "Uncharacterized protein",
           "Uncharacterized",
           "Strongylocentrotus purpuratus",
           "Strongylocentrotus",
           2.51919106,
           "Echinodermata"
          ],
          [
           14,
           10,
           9,
           3,
           "Uncharacterized protein",
           "Uncharacterized",
           "Strongylocentrotus purpuratus",
           "Strongylocentrotus",
           2.27606469,
           "Echinodermata"
          ],
          [
           14,
           10,
           9,
           3,
           "Uncharacterized protein",
           "Uncharacterized",
           "Strongylocentrotus purpuratus",
           "Strongylocentrotus",
           2.86747135,
           "Echinodermata"
          ]
         ],
         "hovertemplate": "<b>%{hovertext}</b><br><br>tree3=%{customdata[2]}<br>pm1=%{x}<br>pm2=%{y}<br>tree1=%{customdata[0]}<br>tree2=%{customdata[1]}<br>tree4=%{customdata[3]}<br>full_name=%{customdata[4]}<br>short_name=%{customdata[5]}<br>full_species=%{customdata[6]}<br>short_species=%{customdata[7]}<br>evo_distance=%{customdata[8]}<br>Color_species=%{customdata[9]}<extra></extra>",
         "hovertext": [
          9,
          9,
          9,
          9,
          9,
          9,
          9
         ],
         "legendgroup": "9",
         "marker": {
          "color": "#EF553B",
          "symbol": "circle"
         },
         "mode": "markers",
         "name": "9",
         "orientation": "v",
         "showlegend": true,
         "type": "scatter",
         "x": [
          0.5094934,
          0.7498732,
          0.69225985,
          0.77215344,
          0.8194503,
          0.77850014,
          0.82553416
         ],
         "xaxis": "x",
         "y": [
          0.023856374,
          -0.21010426,
          -0.16284993,
          -0.2487095,
          -0.23778594,
          -0.21164958,
          -0.17840342
         ],
         "yaxis": "y"
        },
        {
         "customdata": [
          [
           18,
           14,
           10,
           4,
           "Cytoglobin 2",
           "Cytoglobin",
           "Crassostrea gigas",
           "Crassostrea",
           2.89814466,
           "Mollusca"
          ],
          [
           19,
           14,
           10,
           4,
           "Uncharacterized protein (Fragment)",
           "Uncharacterized",
           "Lottia gigantea",
           "Lottia",
           2.350108079999999,
           "Mollusca"
          ],
          [
           19,
           14,
           10,
           4,
           "Uncharacterized protein (Fragment)",
           "Uncharacterized",
           "Lottia gigantea",
           "Lottia",
           2.4627551299999992,
           "Mollusca"
          ],
          [
           -1,
           14,
           10,
           4,
           "Uncharacterized protein (Fragment)",
           "Uncharacterized",
           "Lottia gigantea",
           "Lottia",
           3.15607834,
           "Mollusca"
          ],
          [
           -1,
           14,
           10,
           4,
           "Uncharacterized protein",
           "Uncharacterized",
           "Capitella teleta",
           "Capitella",
           3.0766556599999992,
           "Annelida"
          ],
          [
           17,
           12,
           10,
           4,
           "ACYPI001485 protein",
           "ACYPI001485",
           "Acyrthosiphon pisum",
           "Acyrthosiphon",
           2.696499399999999,
           "Arthropoda"
          ],
          [
           19,
           14,
           10,
           4,
           "Uncharacterized protein",
           "Uncharacterized",
           "Lottia gigantea",
           "Lottia",
           2.6062900199999994,
           "Mollusca"
          ],
          [
           16,
           11,
           10,
           4,
           "GbX1",
           "GbX1",
           "Callorhinchus milii",
           "Callorhinchus",
           2.948089519999999,
           "Chordata"
          ],
          [
           16,
           11,
           10,
           4,
           "GbX2",
           "GbX2",
           "Callorhinchus milii",
           "Callorhinchus",
           3.0123761099999995,
           "Chordata"
          ],
          [
           16,
           11,
           10,
           4,
           "Chromosome 10 SCAF15019, whole genome shotgun sequence",
           "Chromosome",
           "Tetraodon nigroviridis",
           "Tetraodon",
           3.1074634799999994,
           "Chordata"
          ],
          [
           16,
           11,
           10,
           4,
           "Cytoglobin 1",
           "Cytoglobin",
           "Chelonia mydas",
           "Chelonia",
           2.706756999999999,
           "Chordata"
          ],
          [
           16,
           11,
           10,
           4,
           "Uncharacterized protein",
           "Uncharacterized",
           "Poecilia formosa",
           "Poecilia",
           3.0849746199999992,
           "Chordata"
          ],
          [
           16,
           11,
           10,
           4,
           "Uncharacterized protein",
           "Uncharacterized",
           "Lepisosteus oculatus",
           "Lepisosteus",
           2.843704849999999,
           "Chordata"
          ],
          [
           16,
           11,
           10,
           4,
           "Uncharacterized protein",
           "Uncharacterized",
           "Latimeria chalumnae",
           "Latimeria",
           2.74467532,
           "Chordata"
          ],
          [
           16,
           11,
           10,
           4,
           "Xgb protein",
           "Xgb",
           "Danio rerio",
           "Danio",
           3.15932725,
           "Chordata"
          ],
          [
           16,
           11,
           10,
           4,
           "Uncharacterized protein",
           "Uncharacterized",
           "Lepisosteus oculatus",
           "Lepisosteus",
           2.98219578,
           "Chordata"
          ],
          [
           16,
           11,
           10,
           4,
           "Uncharacterized protein",
           "Uncharacterized",
           "Xenopus tropicalis",
           "Xenopus",
           3.07574532,
           "Chordata"
          ],
          [
           16,
           11,
           10,
           4,
           "Cytoglobin 2",
           "Cytoglobin",
           "Ictalurus punctatus",
           "Ictalurus",
           3.15839468,
           "Chordata"
          ],
          [
           16,
           11,
           10,
           4,
           "Uncharacterized protein",
           "Uncharacterized",
           "Oreochromis niloticus",
           "Oreochromis",
           3.245876129999999,
           "Chordata"
          ],
          [
           16,
           11,
           10,
           4,
           "Uncharacterized protein",
           "Uncharacterized",
           "Oncorhynchus mykiss",
           "Oncorhynchus",
           3.104564709999999,
           "Chordata"
          ],
          [
           16,
           11,
           10,
           4,
           "Uncharacterized protein",
           "Uncharacterized",
           "Oncorhynchus mykiss",
           "Oncorhynchus",
           3.152127119999999,
           "Chordata"
          ],
          [
           16,
           11,
           10,
           4,
           "Neuroglobin like (Fragment)",
           "Neuroglobin",
           "Scleropages formosus",
           "Scleropages",
           3.024390219999999,
           "Chordata"
          ],
          [
           17,
           12,
           10,
           4,
           "Globin D, coelomic, putative",
           "Globin",
           "Pediculus humanus",
           "Pediculus",
           2.749354739999999,
           "Arthropoda"
          ],
          [
           -1,
           14,
           10,
           4,
           "Neuroglobin",
           "Neuroglobin",
           "Daphnia magna",
           "Daphnia",
           2.620574789999999,
           "Arthropoda"
          ],
          [
           19,
           14,
           10,
           4,
           "Neuroglobin 1",
           "Neuroglobin",
           "Crassostrea gigas",
           "Crassostrea",
           2.4302546899999995,
           "Mollusca"
          ],
          [
           19,
           14,
           10,
           4,
           "Uncharacterized protein",
           "Uncharacterized",
           "Arion vulgaris",
           "Arion",
           2.53586098,
           "Mollusca"
          ],
          [
           19,
           14,
           10,
           4,
           "Uncharacterized protein",
           "Uncharacterized",
           "Octopus bimaculoides",
           "Octopus",
           2.550460389999999,
           "Mollusca"
          ],
          [
           -1,
           14,
           10,
           4,
           "Uncharacterized protein",
           "Uncharacterized",
           "Capitella teleta",
           "Capitella",
           3.0074926799999995,
           "Annelida"
          ],
          [
           18,
           14,
           10,
           4,
           "Nacrein like protein F",
           "Nacrein",
           "Crassostrea gigas",
           "Crassostrea",
           3.01650571,
           "Mollusca"
          ],
          [
           -1,
           12,
           10,
           4,
           "Uncharacterized protein",
           "Uncharacterized",
           "Lepeophtheirus salmonis",
           "Lepeophtheirus",
           3.34308881,
           "Arthropoda"
          ],
          [
           -1,
           12,
           10,
           4,
           "Neuroglobinlike [Maylandia zebra]",
           "Neuroglobin",
           "Lepeophtheirus salmonis",
           "Lepeophtheirus",
           3.308708769999999,
           "Arthropoda"
          ]
         ],
         "hovertemplate": "<b>%{hovertext}</b><br><br>tree3=%{customdata[2]}<br>pm1=%{x}<br>pm2=%{y}<br>tree1=%{customdata[0]}<br>tree2=%{customdata[1]}<br>tree4=%{customdata[3]}<br>full_name=%{customdata[4]}<br>short_name=%{customdata[5]}<br>full_species=%{customdata[6]}<br>short_species=%{customdata[7]}<br>evo_distance=%{customdata[8]}<br>Color_species=%{customdata[9]}<extra></extra>",
         "hovertext": [
          10,
          10,
          10,
          10,
          10,
          10,
          10,
          10,
          10,
          10,
          10,
          10,
          10,
          10,
          10,
          10,
          10,
          10,
          10,
          10,
          10,
          10,
          10,
          10,
          10,
          10,
          10,
          10,
          10,
          10,
          10
         ],
         "legendgroup": "10",
         "marker": {
          "color": "#00cc96",
          "symbol": "circle"
         },
         "mode": "markers",
         "name": "10",
         "orientation": "v",
         "showlegend": true,
         "type": "scatter",
         "x": [
          0.31335583,
          0.339052,
          0.33656132,
          0.27702993,
          0.29622197,
          0.40053076,
          0.31789938,
          0.14665286,
          0.15984857,
          0.110240206,
          0.1528213,
          0.11747344,
          0.1636466,
          0.17033026,
          0.12958598,
          0.13166045,
          0.12780347,
          0.10875537,
          0.14558764,
          0.11453347,
          0.095085025,
          0.113185525,
          0.38315782,
          0.3855695,
          0.33402863,
          0.27739912,
          0.3494083,
          0.35025325,
          0.3218646,
          0.36544204,
          0.282923
         ],
         "xaxis": "x",
         "y": [
          -0.80586225,
          -0.79243064,
          -0.729624,
          -0.7941677,
          -0.7692258,
          -0.77695465,
          -0.76619756,
          -0.9083186,
          -0.9292261,
          -0.92899555,
          -0.9211561,
          -0.9144726,
          -0.91977614,
          -0.9083178,
          -0.9155664,
          -0.90419793,
          -0.9320836,
          -0.9193495,
          -0.87147844,
          -0.9023096,
          -0.90739995,
          -0.8828841,
          -0.79825425,
          -0.75012237,
          -0.7703245,
          -0.7371957,
          -0.78040767,
          -0.7575567,
          -0.8233266,
          -0.82538587,
          -0.84886396
         ],
         "yaxis": "y"
        },
        {
         "customdata": [
          [
           29,
           20,
           12,
           5,
           "Cytoglobin b",
           "Cytoglobin",
           "Xenopus laevis",
           "Xenopus",
           2.2875242,
           "Chordata"
          ],
          [
           29,
           20,
           12,
           5,
           "Uncharacterized protein",
           "Uncharacterized",
           "Oreochromis niloticus",
           "Oreochromis",
           2.19807532,
           "Chordata"
          ],
          [
           29,
           20,
           12,
           5,
           "Cytoglobin",
           "Cytoglobin",
           "Nothobranchius korthausae",
           "Nothobranchius",
           2.2776364,
           "Chordata"
          ],
          [
           28,
           20,
           12,
           5,
           "Uncharacterized protein (Fragment)",
           "Uncharacterized",
           "Gasterosteus aculeatus",
           "Gasterosteus",
           2.2892364899999995,
           "Chordata"
          ],
          [
           29,
           20,
           12,
           5,
           "Cytoglobin",
           "Cytoglobin",
           "Bos mutus",
           "Bos",
           2.42091472,
           "Chordata"
          ],
          [
           29,
           20,
           12,
           5,
           "Cytoglobin 1",
           "Cytoglobin",
           "Iguana iguana",
           "Iguana",
           2.26895595,
           "Chordata"
          ],
          [
           28,
           20,
           12,
           5,
           "Cytoglobin 1",
           "Cytoglobin",
           "Oryzias latipes",
           "Oryzias",
           2.25311924,
           "Chordata"
          ],
          [
           29,
           20,
           12,
           5,
           "Uncharacterized protein",
           "Uncharacterized",
           "Anas platyrhynchos",
           "Anas",
           2.24009126,
           "Chordata"
          ],
          [
           28,
           20,
           12,
           5,
           "Uncharacterized protein",
           "Uncharacterized",
           "Tetraodon nigroviridis",
           "Tetraodon",
           2.4499165100000004,
           "Chordata"
          ],
          [
           28,
           20,
           12,
           5,
           "Uncharacterized protein (Fragment)",
           "Uncharacterized",
           "Takifugu rubripes",
           "Takifugu",
           2.4839830600000004,
           "Chordata"
          ],
          [
           29,
           20,
           12,
           5,
           "Cytoglobin 2",
           "Cytoglobin",
           "Tetraodon nigroviridis",
           "Tetraodon",
           2.23168579,
           "Chordata"
          ],
          [
           29,
           20,
           12,
           5,
           "Uncharacterized protein",
           "Uncharacterized",
           "Tetraodon nigroviridis",
           "Tetraodon",
           2.36374552,
           "Chordata"
          ],
          [
           28,
           20,
           12,
           5,
           "Uncharacterized protein",
           "Uncharacterized",
           "Xiphophorus maculatus",
           "Xiphophorus",
           2.2426578000000004,
           "Chordata"
          ],
          [
           28,
           20,
           12,
           5,
           "Cytoglobin 1",
           "Cytoglobin",
           "Larimichthys crocea",
           "Larimichthys",
           2.27502112,
           "Chordata"
          ],
          [
           29,
           20,
           12,
           5,
           "Uncharacterized protein",
           "Uncharacterized",
           "Oncorhynchus mykiss",
           "Oncorhynchus",
           2.20579096,
           "Chordata"
          ],
          [
           28,
           20,
           12,
           5,
           "Cytoglobin 1",
           "Cytoglobin",
           "Nothobranchius pienaari",
           "Nothobranchius",
           2.2369473400000004,
           "Chordata"
          ],
          [
           29,
           20,
           12,
           5,
           "Cytoglobin",
           "Cytoglobin",
           "Alligator mississippiensis",
           "Alligator",
           2.16168743,
           "Chordata"
          ],
          [
           29,
           20,
           12,
           5,
           "Uncharacterized protein",
           "Uncharacterized",
           "Astyanax mexicanus",
           "Astyanax",
           2.05393176,
           "Chordata"
          ],
          [
           29,
           20,
           12,
           5,
           "Uncharacterized protein",
           "Uncharacterized",
           "Latimeria chalumnae",
           "Latimeria",
           2.23058219,
           "Chordata"
          ],
          [
           29,
           20,
           12,
           5,
           "Cytoglobin 2",
           "Cytoglobin",
           "Ictalurus punctatus",
           "Ictalurus",
           2.12180628,
           "Chordata"
          ],
          [
           28,
           20,
           12,
           5,
           "Cytoglobin",
           "Cytoglobin",
           "Chaenocephalus aceratus",
           "Chaenocephalus",
           2.27395144,
           "Chordata"
          ],
          [
           29,
           20,
           12,
           5,
           "Cygb2 protein",
           "Cygb2",
           "Danio rerio",
           "Danio",
           2.05149233,
           "Chordata"
          ],
          [
           28,
           20,
           12,
           5,
           "Uncharacterized protein",
           "Uncharacterized",
           "Oreochromis niloticus",
           "Oreochromis",
           2.15346116,
           "Chordata"
          ],
          [
           28,
           20,
           12,
           5,
           "Cytoglobin",
           "Cytoglobin",
           "Oncorhynchus mykiss",
           "Oncorhynchus",
           2.15784398,
           "Chordata"
          ],
          [
           31,
           20,
           12,
           5,
           "Uncharacterized protein",
           "Uncharacterized",
           "Astyanax mexicanus",
           "Astyanax",
           2.18361902,
           "Chordata"
          ],
          [
           31,
           20,
           12,
           5,
           "Cytoglobin 1",
           "Cytoglobin",
           "Cyprinus carpio",
           "Cyprinus",
           2.06025855,
           "Chordata"
          ],
          [
           29,
           20,
           12,
           5,
           "Cytoglobin",
           "Cytoglobin",
           "Callorhinchus milii",
           "Callorhinchus",
           2.39273588,
           "Chordata"
          ],
          [
           31,
           20,
           12,
           5,
           "Cytoglobin 1",
           "Cytoglobin",
           "Danio rerio",
           "Danio",
           2.16806595,
           "Chordata"
          ],
          [
           31,
           20,
           12,
           5,
           "Cytoglobin 1",
           "Cytoglobin",
           "Ictalurus punctatus",
           "Ictalurus",
           2.19052877,
           "Chordata"
          ],
          [
           -1,
           21,
           12,
           5,
           "Uncharacterized protein (Fragment)",
           "Uncharacterized",
           "Petromyzon marinus",
           "Petromyzon",
           2.23124498,
           "Chordata"
          ],
          [
           30,
           21,
           12,
           5,
           "Hemoglobin 4",
           "Hemoglobin",
           "Lethenteron camtschaticum",
           "Lethenteron",
           2.45118652,
           "Chordata"
          ],
          [
           30,
           21,
           12,
           5,
           "Uncharacterized protein",
           "Uncharacterized",
           "Petromyzon marinus",
           "Petromyzon",
           2.3065607,
           "Chordata"
          ],
          [
           30,
           21,
           12,
           5,
           "Uncharacterized protein",
           "Uncharacterized",
           "Petromyzon marinus",
           "Petromyzon",
           2.36968937,
           "Chordata"
          ],
          [
           29,
           20,
           12,
           5,
           "Cytoglobin (Fragment)",
           "Cytoglobin",
           "Fundulus heteroclitus",
           "Fundulus",
           2.23162917,
           "Chordata"
          ],
          [
           28,
           20,
           12,
           5,
           "Cytoglobin (Fragment)",
           "Cytoglobin",
           "Fundulus heteroclitus",
           "Fundulus",
           2.29198432,
           "Chordata"
          ],
          [
           29,
           20,
           12,
           5,
           "Inactive rhomboid protein 2",
           "Inactive",
           "Tupaia chinensis",
           "Tupaia",
           2.24573612,
           "Chordata"
          ]
         ],
         "hovertemplate": "<b>%{hovertext}</b><br><br>tree3=%{customdata[2]}<br>pm1=%{x}<br>pm2=%{y}<br>tree1=%{customdata[0]}<br>tree2=%{customdata[1]}<br>tree4=%{customdata[3]}<br>full_name=%{customdata[4]}<br>short_name=%{customdata[5]}<br>full_species=%{customdata[6]}<br>short_species=%{customdata[7]}<br>evo_distance=%{customdata[8]}<br>Color_species=%{customdata[9]}<extra></extra>",
         "hovertext": [
          12,
          12,
          12,
          12,
          12,
          12,
          12,
          12,
          12,
          12,
          12,
          12,
          12,
          12,
          12,
          12,
          12,
          12,
          12,
          12,
          12,
          12,
          12,
          12,
          12,
          12,
          12,
          12,
          12,
          12,
          12,
          12,
          12,
          12,
          12,
          12
         ],
         "legendgroup": "12",
         "marker": {
          "color": "#ab63fa",
          "symbol": "circle"
         },
         "mode": "markers",
         "name": "12",
         "orientation": "v",
         "showlegend": true,
         "type": "scatter",
         "x": [
          0.035172593,
          0.10034406,
          0.13746834,
          0.22588786,
          0.025454134,
          0.05253985,
          0.17653883,
          0.046519518,
          0.25726655,
          0.26844394,
          0.12122353,
          0.13673663,
          0.1778969,
          0.21925424,
          0.11413265,
          0.1636301,
          0.046718437,
          0.08539279,
          0.06285928,
          0.11556991,
          0.2017095,
          0.09489424,
          0.15003914,
          0.19283715,
          0.098095894,
          0.10421624,
          0.07855949,
          0.12996544,
          0.13816556,
          -0.01645923,
          -0.038053,
          -0.021206954,
          -0.06293256,
          0.12796772,
          0.15746285,
          0.03338514
         ],
         "xaxis": "x",
         "y": [
          0.89182276,
          0.8897215,
          0.86697155,
          0.61486566,
          0.90770215,
          0.92514193,
          0.6304066,
          0.9080686,
          0.6385314,
          0.59241337,
          0.8783375,
          0.89920384,
          0.6015809,
          0.67594033,
          0.89717925,
          0.6540081,
          0.91742575,
          0.8715601,
          0.9170804,
          0.8364365,
          0.6432907,
          0.8614701,
          0.62999445,
          0.6628122,
          0.6716559,
          0.78143597,
          0.92277825,
          0.80130845,
          0.7330484,
          0.75018746,
          0.778727,
          0.70259005,
          0.7122428,
          0.89122725,
          0.57931584,
          0.9196903
         ],
         "yaxis": "y"
        },
        {
         "customdata": [
          [
           -1,
           18,
           13,
           5,
           "Uncharacterized protein",
           "Uncharacterized",
           "Lepisosteus oculatus",
           "Lepisosteus",
           2.35310711,
           "Chordata"
          ],
          [
           27,
           19,
           13,
           5,
           "Hemoglobin subunit alpha",
           "Hemoglobin",
           "Cavia porcellus",
           "Cavia",
           2.68180205,
           "Chordata"
          ],
          [
           27,
           19,
           13,
           5,
           "Hemoglobin subunit alpha 2",
           "Hemoglobin",
           "Scalopus aquaticus",
           "Scalopus",
           2.59465681,
           "Chordata"
          ],
          [
           26,
           19,
           13,
           5,
           "Uncharacterized protein",
           "Uncharacterized",
           "Neotoma lepida",
           "Neotoma",
           2.63834495,
           "Chordata"
          ],
          [
           25,
           18,
           13,
           5,
           "Globin Y",
           "Globin",
           "Callorhinchus milii",
           "Callorhinchus",
           2.51505937,
           "Chordata"
          ],
          [
           25,
           18,
           13,
           5,
           "Uncharacterized protein",
           "Uncharacterized",
           "Latimeria chalumnae",
           "Latimeria",
           2.29929786,
           "Chordata"
          ],
          [
           24,
           18,
           13,
           5,
           "Uncharacterized protein",
           "Uncharacterized",
           "Xenopus tropicalis",
           "Xenopus",
           2.51423061,
           "Chordata"
          ],
          [
           24,
           18,
           13,
           5,
           "Globin Y",
           "Globin",
           "Xenopus laevis",
           "Xenopus",
           2.4560224799999992,
           "Chordata"
          ],
          [
           -1,
           18,
           13,
           5,
           "Uncharacterized protein",
           "Uncharacterized",
           "Pelodiscus sinensis",
           "Pelodiscus",
           2.69837249,
           "Chordata"
          ],
          [
           26,
           19,
           13,
           5,
           "Hemoglobin subunit rho",
           "Hemoglobin",
           "Alligator mississippiensis",
           "Alligator",
           2.98389637,
           "Chordata"
          ],
          [
           26,
           19,
           13,
           5,
           "Uncharacterized protein",
           "Uncharacterized",
           "Nomascus leucogenys",
           "Nomascus",
           2.77009221,
           "Chordata"
          ]
         ],
         "hovertemplate": "<b>%{hovertext}</b><br><br>tree3=%{customdata[2]}<br>pm1=%{x}<br>pm2=%{y}<br>tree1=%{customdata[0]}<br>tree2=%{customdata[1]}<br>tree4=%{customdata[3]}<br>full_name=%{customdata[4]}<br>short_name=%{customdata[5]}<br>full_species=%{customdata[6]}<br>short_species=%{customdata[7]}<br>evo_distance=%{customdata[8]}<br>Color_species=%{customdata[9]}<extra></extra>",
         "hovertext": [
          13,
          13,
          13,
          13,
          13,
          13,
          13,
          13,
          13,
          13,
          13
         ],
         "legendgroup": "13",
         "marker": {
          "color": "#FFA15A",
          "symbol": "circle"
         },
         "mode": "markers",
         "name": "13",
         "orientation": "v",
         "showlegend": true,
         "type": "scatter",
         "x": [
          0.34849936,
          0.30459008,
          0.28580028,
          0.27775112,
          0.347739,
          0.3670232,
          0.36706448,
          0.35457745,
          0.3612813,
          0.30572417,
          0.30080184
         ],
         "xaxis": "x",
         "y": [
          0.8727137,
          0.86929274,
          0.8634529,
          0.88338685,
          0.88369125,
          0.87357527,
          0.8560874,
          0.86519796,
          0.882391,
          0.8805293,
          0.8894326
         ],
         "yaxis": "y"
        },
        {
         "customdata": [
          [
           -1,
           -1,
           6,
           3,
           "Globin",
           "Globin",
           "Gemmatirosa kalamazoonesis",
           "Gemmatirosa",
           2.9048387,
           "Bacteria"
          ],
          [
           -1,
           9,
           6,
           3,
           "Globin",
           "Globin",
           "Gemmatirosa kalamazoonesis",
           "Gemmatirosa",
           3.0073288499999995,
           "Bacteria"
          ],
          [
           -1,
           9,
           6,
           3,
           "Hemin receptor",
           "Hemin",
           "Halothiobacillus sp.",
           "Halothiobacillus",
           2.5347764,
           "Bacteria"
          ],
          [
           15,
           8,
           6,
           3,
           "ARAD1D45562p",
           "ARAD1D45562p",
           "Blastobotrys adeninivorans",
           "Blastobotrys",
           3.65177433,
           "Fungi"
          ],
          [
           15,
           8,
           6,
           3,
           "CYFA0S05e02454g1_1",
           "CYFA0S05e02454g1_1",
           "Cyberlindnera fabianii",
           "Cyberlindnera",
           4.11857393,
           "Fungi"
          ]
         ],
         "hovertemplate": "<b>%{hovertext}</b><br><br>tree3=%{customdata[2]}<br>pm1=%{x}<br>pm2=%{y}<br>tree1=%{customdata[0]}<br>tree2=%{customdata[1]}<br>tree4=%{customdata[3]}<br>full_name=%{customdata[4]}<br>short_name=%{customdata[5]}<br>full_species=%{customdata[6]}<br>short_species=%{customdata[7]}<br>evo_distance=%{customdata[8]}<br>Color_species=%{customdata[9]}<extra></extra>",
         "hovertext": [
          6,
          6,
          6,
          6,
          6
         ],
         "legendgroup": "6",
         "marker": {
          "color": "#19d3f3",
          "symbol": "circle"
         },
         "mode": "markers",
         "name": "6",
         "orientation": "v",
         "showlegend": true,
         "type": "scatter",
         "x": [
          0.7568627,
          0.7033223,
          0.7195444,
          0.75740016,
          0.7304571
         ],
         "xaxis": "x",
         "y": [
          -0.31134993,
          -0.35239106,
          -0.27304283,
          -0.3518857,
          -0.32059604
         ],
         "yaxis": "y"
        },
        {
         "customdata": [
          [
           -1,
           15,
           7,
           4,
           "Predicted protein",
           "Predicted",
           "Nematostella vectensis",
           "Nematostella",
           3.06309082,
           "Cnidaria"
          ],
          [
           20,
           15,
           7,
           4,
           "Predicted protein",
           "Predicted",
           "Nematostella vectensis",
           "Nematostella",
           2.69558275,
           "Cnidaria"
          ],
          [
           -1,
           15,
           7,
           4,
           "Predicted protein",
           "Predicted",
           "Nematostella vectensis",
           "Nematostella",
           2.74661692,
           "Cnidaria"
          ],
          [
           20,
           15,
           7,
           4,
           "Predicted protein",
           "Predicted",
           "Nematostella vectensis",
           "Nematostella",
           2.46698831,
           "Cnidaria"
          ]
         ],
         "hovertemplate": "<b>%{hovertext}</b><br><br>tree3=%{customdata[2]}<br>pm1=%{x}<br>pm2=%{y}<br>tree1=%{customdata[0]}<br>tree2=%{customdata[1]}<br>tree4=%{customdata[3]}<br>full_name=%{customdata[4]}<br>short_name=%{customdata[5]}<br>full_species=%{customdata[6]}<br>short_species=%{customdata[7]}<br>evo_distance=%{customdata[8]}<br>Color_species=%{customdata[9]}<extra></extra>",
         "hovertext": [
          7,
          7,
          7,
          7
         ],
         "legendgroup": "7",
         "marker": {
          "color": "#FF6692",
          "symbol": "circle"
         },
         "mode": "markers",
         "name": "7",
         "orientation": "v",
         "showlegend": true,
         "type": "scatter",
         "x": [
          0.4496376,
          0.3898013,
          0.42262098,
          0.39284456
         ],
         "xaxis": "x",
         "y": [
          -0.618326,
          -0.56718403,
          -0.5818676,
          -0.48683637
         ],
         "yaxis": "y"
        },
        {
         "customdata": [
          [
           43,
           31,
           17,
           10,
           "Globin 2 A chain",
           "Globin",
           "Anadara inaequivalvis",
           "Anadara",
           2.93935263,
           "Mollusca"
          ],
          [
           -1,
           -1,
           17,
           10,
           "Nerve hemoglobin",
           "Hemoglobin",
           "Spisula solidissima",
           "Spisula",
           2.92864342,
           "Mollusca"
          ],
          [
           -1,
           31,
           17,
           10,
           "Hemoglobin (Heterodimeric)",
           "Hemoglobin",
           "Barbatia virescens",
           "Barbatia",
           2.80988922,
           "Mollusca"
          ],
          [
           43,
           31,
           17,
           10,
           "Globin, minor",
           "Globin,",
           "Anadara trapezia",
           "Anadara",
           3.2788812000000003,
           "Mollusca"
          ],
          [
           43,
           31,
           17,
           10,
           "Globin 2 B chain",
           "Globin",
           "Anadara inaequivalvis",
           "Anadara",
           3.13812794,
           "Mollusca"
          ],
          [
           -1,
           -1,
           17,
           10,
           "Hemoglobin II",
           "Hemoglobin",
           "Phacoides pectinatus",
           "Phacoides",
           2.9455253599999995,
           "Mollusca"
          ],
          [
           44,
           30,
           17,
           10,
           "Two domain chain of the polymeric hemoglobin (Intracellular)",
           "Hemoglobin",
           "Barbatia lima",
           "Barbatia",
           2.72130571,
           "Mollusca"
          ],
          [
           44,
           30,
           17,
           10,
           "Hemoglobin (2 domain)",
           "Hemoglobin",
           "Barbatia lima",
           "Barbatia",
           2.73232709,
           "Mollusca"
          ]
         ],
         "hovertemplate": "<b>%{hovertext}</b><br><br>tree3=%{customdata[2]}<br>pm1=%{x}<br>pm2=%{y}<br>tree1=%{customdata[0]}<br>tree2=%{customdata[1]}<br>tree4=%{customdata[3]}<br>full_name=%{customdata[4]}<br>short_name=%{customdata[5]}<br>full_species=%{customdata[6]}<br>short_species=%{customdata[7]}<br>evo_distance=%{customdata[8]}<br>Color_species=%{customdata[9]}<extra></extra>",
         "hovertext": [
          17,
          17,
          17,
          17,
          17,
          17,
          17,
          17
         ],
         "legendgroup": "17",
         "marker": {
          "color": "#B6E880",
          "symbol": "circle"
         },
         "mode": "markers",
         "name": "17",
         "orientation": "v",
         "showlegend": true,
         "type": "scatter",
         "x": [
          -0.26913992,
          -0.21427329,
          -0.29695117,
          -0.26053888,
          -0.26132736,
          -0.6546928,
          -0.2493298,
          -0.25640714
         ],
         "xaxis": "x",
         "y": [
          -0.6253316,
          -0.5236178,
          -0.604285,
          -0.6309342,
          -0.6243426,
          0.26391423,
          -0.60034823,
          -0.6015103
         ],
         "yaxis": "y"
        },
        {
         "customdata": [
          [
           2,
           1,
           2,
           1,
           "Globin 2",
           "Globin",
           "Chironomus riparius",
           "Chironomus",
           2.70002825,
           "Arthropoda"
          ],
          [
           1,
           1,
           2,
           1,
           "Globin",
           "Globin",
           "Polypedilum nubifer",
           "Polypedilum",
           2.36102778,
           "Arthropoda"
          ],
          [
           1,
           1,
           2,
           1,
           "Globin",
           "Globin",
           "Polypedilum vanderplanki",
           "Polypedilum",
           2.43793183,
           "Arthropoda"
          ],
          [
           3,
           1,
           2,
           1,
           "Globin",
           "Globin",
           "Polypedilum vanderplanki",
           "Polypedilum",
           2.2183017099999995,
           "Arthropoda"
          ],
          [
           2,
           1,
           2,
           1,
           "Globin",
           "Globin",
           "Polypedilum nubifer",
           "Polypedilum",
           2.47503634,
           "Arthropoda"
          ],
          [
           3,
           1,
           2,
           1,
           "Globin",
           "Globin",
           "Polypedilum nubifer",
           "Polypedilum",
           2.35802433,
           "Arthropoda"
          ],
          [
           3,
           1,
           2,
           1,
           "Globin",
           "Globin",
           "Polypedilum vanderplanki",
           "Polypedilum",
           2.28362716,
           "Arthropoda"
          ],
          [
           3,
           1,
           2,
           1,
           "Globin 11",
           "Globin",
           "Chironomus riparius",
           "Chironomus",
           2.29971074,
           "Arthropoda"
          ],
          [
           1,
           1,
           2,
           1,
           "ORF E protein",
           "ORF",
           "Chironomus tentans",
           "Chironomus",
           2.85858686,
           "Arthropoda"
          ],
          [
           1,
           1,
           2,
           1,
           "Globin",
           "Globin",
           "Polypedilum nubifer",
           "Polypedilum",
           2.56719369,
           "Arthropoda"
          ],
          [
           1,
           1,
           2,
           1,
           "Globin",
           "Globin",
           "Polypedilum nubifer",
           "Polypedilum",
           2.57670915,
           "Arthropoda"
          ],
          [
           -1,
           -1,
           2,
           1,
           "Globin",
           "Globin",
           "Nerita albicilla",
           "Nerita",
           2.08733768,
           "Mollusca"
          ]
         ],
         "hovertemplate": "<b>%{hovertext}</b><br><br>tree3=%{customdata[2]}<br>pm1=%{x}<br>pm2=%{y}<br>tree1=%{customdata[0]}<br>tree2=%{customdata[1]}<br>tree4=%{customdata[3]}<br>full_name=%{customdata[4]}<br>short_name=%{customdata[5]}<br>full_species=%{customdata[6]}<br>short_species=%{customdata[7]}<br>evo_distance=%{customdata[8]}<br>Color_species=%{customdata[9]}<extra></extra>",
         "hovertext": [
          2,
          2,
          2,
          2,
          2,
          2,
          2,
          2,
          2,
          2,
          2,
          2
         ],
         "legendgroup": "2",
         "marker": {
          "color": "#FF97FF",
          "symbol": "circle"
         },
         "mode": "markers",
         "name": "2",
         "orientation": "v",
         "showlegend": true,
         "type": "scatter",
         "x": [
          -0.8683421,
          -0.8848955,
          -0.8797937,
          -0.863739,
          -0.8809491,
          -0.8836434,
          -0.8775135,
          -0.892957,
          -0.8990793,
          -0.893807,
          -0.8878507,
          -0.5722885
         ],
         "xaxis": "x",
         "y": [
          0.32990235,
          0.3173556,
          0.32228687,
          0.3131414,
          0.3317413,
          0.29823494,
          0.30634847,
          0.30591473,
          0.3189666,
          0.3269912,
          0.337026,
          0.36743116
         ],
         "yaxis": "y"
        },
        {
         "customdata": [
          [
           7,
           5,
           1,
           2,
           "Di domain hemoglobin",
           "Hemoglobin",
           "Daphnia magna",
           "Daphnia",
           2.95378198,
           "Arthropoda"
          ],
          [
           7,
           5,
           1,
           2,
           "Putative uncharacterized protein",
           "Putative",
           "Daphnia pulex",
           "Daphnia",
           2.7632934700000003,
           "Arthropoda"
          ],
          [
           7,
           5,
           1,
           2,
           "Putative uncharacterized protein",
           "Putative",
           "Daphnia pulex",
           "Daphnia",
           2.79767424,
           "Arthropoda"
          ],
          [
           9,
           4,
           1,
           2,
           "Putative di domain hemoglobin",
           "Hemoglobin",
           "Daphnia magna",
           "Daphnia",
           1.84605186,
           "Arthropoda"
          ],
          [
           9,
           4,
           1,
           2,
           "Putative di domain hemoglobin",
           "Hemoglobin",
           "Daphnia magna",
           "Daphnia",
           1.84634758,
           "Arthropoda"
          ],
          [
           9,
           4,
           1,
           2,
           "Di domain hemoglobin (Fragment)",
           "Hemoglobin",
           "Daphnia magna",
           "Daphnia",
           1.75867537,
           "Arthropoda"
          ],
          [
           9,
           4,
           1,
           2,
           "Di domain hemoglobin (Fragment)",
           "Hemoglobin",
           "Daphnia magna",
           "Daphnia",
           1.7849976899999995,
           "Arthropoda"
          ],
          [
           9,
           4,
           1,
           2,
           "Putative di domain hemoglobin",
           "Hemoglobin",
           "Daphnia magna",
           "Daphnia",
           1.99097658,
           "Arthropoda"
          ],
          [
           9,
           4,
           1,
           2,
           "Putative di domain hemoglobin (Fragment)",
           "Hemoglobin",
           "Daphnia magna",
           "Daphnia",
           1.89847506,
           "Arthropoda"
          ],
          [
           9,
           4,
           1,
           2,
           "Putative di domain hemoglobin",
           "Hemoglobin",
           "Daphnia magna",
           "Daphnia",
           2.00307168,
           "Arthropoda"
          ],
          [
           -1,
           5,
           1,
           2,
           "Di domain hemoglobin (Fragment)",
           "Hemoglobin",
           "Daphnia magna",
           "Daphnia",
           2.36856662,
           "Arthropoda"
          ],
          [
           6,
           5,
           1,
           2,
           "Di domain hemoglobin",
           "Hemoglobin",
           "Daphnia magna",
           "Daphnia",
           3.08054532,
           "Arthropoda"
          ],
          [
           9,
           4,
           1,
           2,
           "Putative uncharacterized protein",
           "Putative",
           "Daphnia pulex",
           "Daphnia",
           1.88554508,
           "Arthropoda"
          ],
          [
           9,
           4,
           1,
           2,
           "Hemoglobin",
           "Hemoglobin",
           "Daphnia magna",
           "Daphnia",
           1.82335212,
           "Arthropoda"
          ],
          [
           9,
           4,
           1,
           2,
           "Hemoglobin",
           "Hemoglobin",
           "Daphnia pulex",
           "Daphnia",
           1.85557538,
           "Arthropoda"
          ],
          [
           9,
           4,
           1,
           2,
           "Hemoglobin",
           "Hemoglobin",
           "Daphnia pulex",
           "Daphnia",
           1.88942132,
           "Arthropoda"
          ],
          [
           9,
           4,
           1,
           2,
           "Hemoglobin",
           "Hemoglobin",
           "Daphnia pulex",
           "Daphnia",
           1.91532281,
           "Arthropoda"
          ],
          [
           9,
           4,
           1,
           2,
           "Di domain hemoglobin",
           "Hemoglobin",
           "Daphnia magna",
           "Daphnia",
           1.92797924,
           "Arthropoda"
          ],
          [
           8,
           5,
           1,
           2,
           "Putative uncharacterized protein (Fragment)",
           "Putative",
           "Daphnia pulex",
           "Daphnia",
           2.34983516,
           "Arthropoda"
          ],
          [
           8,
           5,
           1,
           2,
           "Uncharacterized protein (Fragment)",
           "Uncharacterized",
           "Daphnia magna",
           "Daphnia",
           2.22413281,
           "Arthropoda"
          ],
          [
           9,
           4,
           1,
           2,
           "Putative di domain hemoglobin (Fragment)",
           "Hemoglobin",
           "Daphnia magna",
           "Daphnia",
           1.97351688,
           "Arthropoda"
          ],
          [
           9,
           4,
           1,
           2,
           "Di domain hemoglobin",
           "Hemoglobin",
           "Daphnia magna",
           "Daphnia",
           2.01628845,
           "Arthropoda"
          ],
          [
           6,
           5,
           1,
           2,
           "Di domain hemoglobin (Fragment)",
           "Hemoglobin",
           "Daphnia magna",
           "Daphnia",
           2.94537689,
           "Arthropoda"
          ],
          [
           9,
           4,
           1,
           2,
           "Di domain hemoglobin like protein",
           "Hemoglobin",
           "Daphnia magna",
           "Daphnia",
           2.34751979,
           "Arthropoda"
          ]
         ],
         "hovertemplate": "<b>%{hovertext}</b><br><br>tree3=%{customdata[2]}<br>pm1=%{x}<br>pm2=%{y}<br>tree1=%{customdata[0]}<br>tree2=%{customdata[1]}<br>tree4=%{customdata[3]}<br>full_name=%{customdata[4]}<br>short_name=%{customdata[5]}<br>full_species=%{customdata[6]}<br>short_species=%{customdata[7]}<br>evo_distance=%{customdata[8]}<br>Color_species=%{customdata[9]}<extra></extra>",
         "hovertext": [
          1,
          1,
          1,
          1,
          1,
          1,
          1,
          1,
          1,
          1,
          1,
          1,
          1,
          1,
          1,
          1,
          1,
          1,
          1,
          1,
          1,
          1,
          1,
          1
         ],
         "legendgroup": "1",
         "marker": {
          "color": "#FECB52",
          "symbol": "circle"
         },
         "mode": "markers",
         "name": "1",
         "orientation": "v",
         "showlegend": true,
         "type": "scatter",
         "x": [
          -0.7360183,
          -0.73913395,
          -0.73716295,
          -0.69659466,
          -0.6825689,
          -0.7207162,
          -0.7214728,
          -0.6498108,
          -0.67505234,
          -0.67153835,
          -0.72449684,
          -0.7454826,
          -0.7313903,
          -0.74990076,
          -0.7540449,
          -0.76117057,
          -0.75870085,
          -0.7035043,
          -0.72347367,
          -0.7008931,
          -0.70766443,
          -0.71583647,
          -0.74533737,
          -0.6952113
         ],
         "xaxis": "x",
         "y": [
          -0.6108962,
          -0.6168871,
          -0.6220088,
          -0.5037919,
          -0.48971206,
          -0.50741327,
          -0.53169763,
          -0.5359842,
          -0.54306906,
          -0.5203888,
          -0.61525196,
          -0.60739666,
          -0.49065658,
          -0.53087693,
          -0.5056832,
          -0.50007147,
          -0.5146827,
          -0.48809543,
          -0.58513314,
          -0.592138,
          -0.4491311,
          -0.4661296,
          -0.61631054,
          -0.47226295
         ],
         "yaxis": "y"
        },
        {
         "customdata": [
          [
           42,
           32,
           16,
           10,
           "Globin",
           "Globin",
           "Nassarius mutabilis",
           "Nassarius",
           2.69282831,
           "Mollusca"
          ],
          [
           41,
           32,
           16,
           10,
           "Uncharacterized protein",
           "Uncharacterized",
           "Lottia gigantea",
           "Lottia",
           2.30991023,
           "Mollusca"
          ],
          [
           41,
           32,
           16,
           10,
           "Uncharacterized protein",
           "Uncharacterized",
           "Lottia gigantea",
           "Lottia",
           2.3265049,
           "Mollusca"
          ],
          [
           42,
           32,
           16,
           10,
           "Globin",
           "Globin",
           "Cerithidea rhizophorarum",
           "Cerithidea",
           2.81440342,
           "Mollusca"
          ]
         ],
         "hovertemplate": "<b>%{hovertext}</b><br><br>tree3=%{customdata[2]}<br>pm1=%{x}<br>pm2=%{y}<br>tree1=%{customdata[0]}<br>tree2=%{customdata[1]}<br>tree4=%{customdata[3]}<br>full_name=%{customdata[4]}<br>short_name=%{customdata[5]}<br>full_species=%{customdata[6]}<br>short_species=%{customdata[7]}<br>evo_distance=%{customdata[8]}<br>Color_species=%{customdata[9]}<extra></extra>",
         "hovertext": [
          16,
          16,
          16,
          16
         ],
         "legendgroup": "16",
         "marker": {
          "color": "#636efa",
          "symbol": "circle"
         },
         "mode": "markers",
         "name": "16",
         "orientation": "v",
         "showlegend": true,
         "type": "scatter",
         "x": [
          -0.62851083,
          -0.62938076,
          -0.62264246,
          -0.6287871
         ],
         "xaxis": "x",
         "y": [
          0.34271908,
          0.31993392,
          0.32381314,
          0.33524784
         ],
         "yaxis": "y"
        },
        {
         "customdata": [
          [
           -1,
           -1,
           -1,
           8,
           "Globin (Fragment)",
           "Globin",
           "Operophtera brumata",
           "Operophtera",
           2.5920814199999995,
           "Arthropoda"
          ],
          [
           -1,
           -1,
           -1,
           3,
           "Predicted protein",
           "Predicted",
           "Nematostella vectensis",
           "Nematostella",
           3.13699746,
           "Cnidaria"
          ],
          [
           -1,
           -1,
           -1,
           2,
           "Putative di domain hemoglobin (Fragment)",
           "Hemoglobin",
           "Daphnia magna",
           "Daphnia",
           2.5254769,
           "Arthropoda"
          ]
         ],
         "hovertemplate": "<b>%{hovertext}</b><br><br>tree3=%{customdata[2]}<br>pm1=%{x}<br>pm2=%{y}<br>tree1=%{customdata[0]}<br>tree2=%{customdata[1]}<br>tree4=%{customdata[3]}<br>full_name=%{customdata[4]}<br>short_name=%{customdata[5]}<br>full_species=%{customdata[6]}<br>short_species=%{customdata[7]}<br>evo_distance=%{customdata[8]}<br>Color_species=%{customdata[9]}<extra></extra>",
         "hovertext": [
          -1,
          -1,
          -1
         ],
         "legendgroup": "-1",
         "marker": {
          "color": "#c7c7c7",
          "symbol": "circle"
         },
         "mode": "markers",
         "name": "-1",
         "orientation": "v",
         "showlegend": true,
         "type": "scatter",
         "x": [
          0.30275017,
          0.6561514,
          -0.6642118
         ],
         "xaxis": "x",
         "y": [
          0.7450999,
          -0.22333336,
          -0.31308085
         ],
         "yaxis": "y"
        },
        {
         "customdata": [
          [
           46,
           35,
           19,
           10,
           "Globin",
           "Globin",
           "Ancylostoma ceylanicum",
           "Ancylostoma",
           2.22981155,
           "Nematoda"
          ],
          [
           46,
           35,
           19,
           10,
           "Uncharacterized protein",
           "Uncharacterized",
           "Angiostrongylus costaricensis",
           "Angiostrongylus",
           2.13371016,
           "Nematoda"
          ],
          [
           46,
           35,
           19,
           10,
           "Globin",
           "Globin",
           "Necator americanus",
           "Necator",
           2.35159293,
           "Nematoda"
          ],
          [
           -1,
           -1,
           19,
           10,
           "Cytoglobin1like [Saccoglossus kowalevskii]",
           "Cytoglobin",
           "Lepeophtheirus salmonis",
           "Lepeophtheirus",
           2.17551995,
           "Arthropoda"
          ]
         ],
         "hovertemplate": "<b>%{hovertext}</b><br><br>tree3=%{customdata[2]}<br>pm1=%{x}<br>pm2=%{y}<br>tree1=%{customdata[0]}<br>tree2=%{customdata[1]}<br>tree4=%{customdata[3]}<br>full_name=%{customdata[4]}<br>short_name=%{customdata[5]}<br>full_species=%{customdata[6]}<br>short_species=%{customdata[7]}<br>evo_distance=%{customdata[8]}<br>Color_species=%{customdata[9]}<extra></extra>",
         "hovertext": [
          19,
          19,
          19,
          19
         ],
         "legendgroup": "19",
         "marker": {
          "color": "#EF553B",
          "symbol": "circle"
         },
         "mode": "markers",
         "name": "19",
         "orientation": "v",
         "showlegend": true,
         "type": "scatter",
         "x": [
          0.052404426,
          0.11024538,
          0.05985758,
          -0.521387
         ],
         "xaxis": "x",
         "y": [
          -0.01993436,
          -0.054958884,
          -0.081791446,
          0.19650923
         ],
         "yaxis": "y"
        },
        {
         "customdata": [
          [
           32,
           22,
           11,
           5,
           "Hemoglobin (Fragment)",
           "Hemoglobin",
           "Biomphalaria glabrata",
           "Biomphalaria",
           3.48471231,
           "Mollusca"
          ],
          [
           32,
           22,
           11,
           5,
           "Uncharacterized protein",
           "Uncharacterized",
           "Biomphalaria glabrata",
           "Biomphalaria",
           3.63841564,
           "Mollusca"
          ],
          [
           32,
           22,
           11,
           5,
           "Uncharacterized protein",
           "Uncharacterized",
           "Biomphalaria glabrata",
           "Biomphalaria",
           3.38373079,
           "Mollusca"
          ],
          [
           32,
           22,
           11,
           5,
           "Haemoglobin type 1",
           "Hemoglobin",
           "Biomphalaria glabrata",
           "Biomphalaria",
           3.53221633,
           "Mollusca"
          ],
          [
           32,
           22,
           11,
           5,
           "Uncharacterized protein",
           "Uncharacterized",
           "Biomphalaria glabrata",
           "Biomphalaria",
           3.61489538,
           "Mollusca"
          ]
         ],
         "hovertemplate": "<b>%{hovertext}</b><br><br>tree3=%{customdata[2]}<br>pm1=%{x}<br>pm2=%{y}<br>tree1=%{customdata[0]}<br>tree2=%{customdata[1]}<br>tree4=%{customdata[3]}<br>full_name=%{customdata[4]}<br>short_name=%{customdata[5]}<br>full_species=%{customdata[6]}<br>short_species=%{customdata[7]}<br>evo_distance=%{customdata[8]}<br>Color_species=%{customdata[9]}<extra></extra>",
         "hovertext": [
          11,
          11,
          11,
          11,
          11
         ],
         "legendgroup": "11",
         "marker": {
          "color": "#00cc96",
          "symbol": "circle"
         },
         "mode": "markers",
         "name": "11",
         "orientation": "v",
         "showlegend": true,
         "type": "scatter",
         "x": [
          -0.34052688,
          -0.36898214,
          -0.30988726,
          -0.3534192,
          -0.3310051
         ],
         "xaxis": "x",
         "y": [
          0.7340775,
          0.74283814,
          0.75794506,
          0.7258138,
          0.7550632
         ],
         "yaxis": "y"
        },
        {
         "customdata": [
          [
           -1,
           25,
           15,
           8,
           "Metalloendopeptidase",
           "Metalloendopeptidase",
           "Globodera pallida",
           "Globodera",
           2.86594104,
           "Nematoda"
          ],
          [
           -1,
           25,
           15,
           8,
           "Uncharacterized protein",
           "Uncharacterized",
           "Strongyloides stercoralis",
           "Strongyloides",
           3.19295417,
           "Nematoda"
          ]
         ],
         "hovertemplate": "<b>%{hovertext}</b><br><br>tree3=%{customdata[2]}<br>pm1=%{x}<br>pm2=%{y}<br>tree1=%{customdata[0]}<br>tree2=%{customdata[1]}<br>tree4=%{customdata[3]}<br>full_name=%{customdata[4]}<br>short_name=%{customdata[5]}<br>full_species=%{customdata[6]}<br>short_species=%{customdata[7]}<br>evo_distance=%{customdata[8]}<br>Color_species=%{customdata[9]}<extra></extra>",
         "hovertext": [
          15,
          15
         ],
         "legendgroup": "15",
         "marker": {
          "color": "#ab63fa",
          "symbol": "circle"
         },
         "mode": "markers",
         "name": "15",
         "orientation": "v",
         "showlegend": true,
         "type": "scatter",
         "x": [
          0.1476759,
          0.198087
         ],
         "xaxis": "x",
         "y": [
          -0.7522982,
          -0.8299223
         ],
         "yaxis": "y"
        }
       ],
       "layout": {
        "font": {
         "size": 11
        },
        "height": 800,
        "legend": {
         "title": {
          "text": "tree3"
         },
         "tracegroupgap": 0
        },
        "plot_bgcolor": "rgba(0, 0, 0, 0)",
        "shapes": [
         {
          "line": {
           "color": "black",
           "dash": "dot"
          },
          "opacity": 0.15,
          "type": "circle",
          "x0": -0.47058823529411764,
          "x1": 0.47058823529411764,
          "y0": -0.47058823529411764,
          "y1": 0.47058823529411764
         },
         {
          "line": {
           "color": "black",
           "dash": "dot"
          },
          "opacity": 0.15,
          "type": "circle",
          "x0": -0.6447368421052633,
          "x1": 0.6447368421052633,
          "y0": -0.6447368421052633,
          "y1": 0.6447368421052633
         },
         {
          "line": {
           "color": "black",
           "dash": "dot"
          },
          "opacity": 0.15,
          "type": "circle",
          "x0": -0.7705382436260623,
          "x1": 0.7705382436260623,
          "y0": -0.7705382436260623,
          "y1": 0.7705382436260623
         },
         {
          "line": {
           "color": "black",
           "dash": "dot"
          },
          "opacity": 0.15,
          "type": "circle",
          "x0": -0.8557007125890737,
          "x1": 0.8557007125890737,
          "y0": -0.8557007125890737,
          "y1": 0.8557007125890737
         },
         {
          "line": {
           "color": "black",
           "dash": "dot"
          },
          "opacity": 0.15,
          "type": "circle",
          "x0": -0.9108474990827933,
          "x1": 0.9108474990827933,
          "y0": -0.9108474990827933,
          "y1": 0.9108474990827933
         },
         {
          "line": {
           "color": "black",
           "dash": "dot"
          },
          "opacity": 0.15,
          "type": "circle",
          "x0": -0.9455374041239167,
          "x1": 0.9455374041239167,
          "y0": -0.9455374041239167,
          "y1": 0.9455374041239167
         },
         {
          "line": {
           "color": "Black"
          },
          "type": "circle",
          "x0": -1,
          "x1": 1,
          "xref": "x",
          "y0": -1,
          "y1": 1,
          "yref": "y"
         },
         {
          "fillcolor": "Black",
          "line": {
           "color": "Black"
          },
          "type": "circle",
          "x0": -0.005,
          "x1": 0.005,
          "xref": "x",
          "y0": -0.005,
          "y1": 0.005,
          "yref": "y"
         }
        ],
        "template": {
         "data": {
          "bar": [
           {
            "error_x": {
             "color": "#2a3f5f"
            },
            "error_y": {
             "color": "#2a3f5f"
            },
            "marker": {
             "line": {
              "color": "#E5ECF6",
              "width": 0.5
             },
             "pattern": {
              "fillmode": "overlay",
              "size": 10,
              "solidity": 0.2
             }
            },
            "type": "bar"
           }
          ],
          "barpolar": [
           {
            "marker": {
             "line": {
              "color": "#E5ECF6",
              "width": 0.5
             },
             "pattern": {
              "fillmode": "overlay",
              "size": 10,
              "solidity": 0.2
             }
            },
            "type": "barpolar"
           }
          ],
          "carpet": [
           {
            "aaxis": {
             "endlinecolor": "#2a3f5f",
             "gridcolor": "white",
             "linecolor": "white",
             "minorgridcolor": "white",
             "startlinecolor": "#2a3f5f"
            },
            "baxis": {
             "endlinecolor": "#2a3f5f",
             "gridcolor": "white",
             "linecolor": "white",
             "minorgridcolor": "white",
             "startlinecolor": "#2a3f5f"
            },
            "type": "carpet"
           }
          ],
          "choropleth": [
           {
            "colorbar": {
             "outlinewidth": 0,
             "ticks": ""
            },
            "type": "choropleth"
           }
          ],
          "contour": [
           {
            "colorbar": {
             "outlinewidth": 0,
             "ticks": ""
            },
            "colorscale": [
             [
              0,
              "#0d0887"
             ],
             [
              0.1111111111111111,
              "#46039f"
             ],
             [
              0.2222222222222222,
              "#7201a8"
             ],
             [
              0.3333333333333333,
              "#9c179e"
             ],
             [
              0.4444444444444444,
              "#bd3786"
             ],
             [
              0.5555555555555556,
              "#d8576b"
             ],
             [
              0.6666666666666666,
              "#ed7953"
             ],
             [
              0.7777777777777778,
              "#fb9f3a"
             ],
             [
              0.8888888888888888,
              "#fdca26"
             ],
             [
              1,
              "#f0f921"
             ]
            ],
            "type": "contour"
           }
          ],
          "contourcarpet": [
           {
            "colorbar": {
             "outlinewidth": 0,
             "ticks": ""
            },
            "type": "contourcarpet"
           }
          ],
          "heatmap": [
           {
            "colorbar": {
             "outlinewidth": 0,
             "ticks": ""
            },
            "colorscale": [
             [
              0,
              "#0d0887"
             ],
             [
              0.1111111111111111,
              "#46039f"
             ],
             [
              0.2222222222222222,
              "#7201a8"
             ],
             [
              0.3333333333333333,
              "#9c179e"
             ],
             [
              0.4444444444444444,
              "#bd3786"
             ],
             [
              0.5555555555555556,
              "#d8576b"
             ],
             [
              0.6666666666666666,
              "#ed7953"
             ],
             [
              0.7777777777777778,
              "#fb9f3a"
             ],
             [
              0.8888888888888888,
              "#fdca26"
             ],
             [
              1,
              "#f0f921"
             ]
            ],
            "type": "heatmap"
           }
          ],
          "heatmapgl": [
           {
            "colorbar": {
             "outlinewidth": 0,
             "ticks": ""
            },
            "colorscale": [
             [
              0,
              "#0d0887"
             ],
             [
              0.1111111111111111,
              "#46039f"
             ],
             [
              0.2222222222222222,
              "#7201a8"
             ],
             [
              0.3333333333333333,
              "#9c179e"
             ],
             [
              0.4444444444444444,
              "#bd3786"
             ],
             [
              0.5555555555555556,
              "#d8576b"
             ],
             [
              0.6666666666666666,
              "#ed7953"
             ],
             [
              0.7777777777777778,
              "#fb9f3a"
             ],
             [
              0.8888888888888888,
              "#fdca26"
             ],
             [
              1,
              "#f0f921"
             ]
            ],
            "type": "heatmapgl"
           }
          ],
          "histogram": [
           {
            "marker": {
             "pattern": {
              "fillmode": "overlay",
              "size": 10,
              "solidity": 0.2
             }
            },
            "type": "histogram"
           }
          ],
          "histogram2d": [
           {
            "colorbar": {
             "outlinewidth": 0,
             "ticks": ""
            },
            "colorscale": [
             [
              0,
              "#0d0887"
             ],
             [
              0.1111111111111111,
              "#46039f"
             ],
             [
              0.2222222222222222,
              "#7201a8"
             ],
             [
              0.3333333333333333,
              "#9c179e"
             ],
             [
              0.4444444444444444,
              "#bd3786"
             ],
             [
              0.5555555555555556,
              "#d8576b"
             ],
             [
              0.6666666666666666,
              "#ed7953"
             ],
             [
              0.7777777777777778,
              "#fb9f3a"
             ],
             [
              0.8888888888888888,
              "#fdca26"
             ],
             [
              1,
              "#f0f921"
             ]
            ],
            "type": "histogram2d"
           }
          ],
          "histogram2dcontour": [
           {
            "colorbar": {
             "outlinewidth": 0,
             "ticks": ""
            },
            "colorscale": [
             [
              0,
              "#0d0887"
             ],
             [
              0.1111111111111111,
              "#46039f"
             ],
             [
              0.2222222222222222,
              "#7201a8"
             ],
             [
              0.3333333333333333,
              "#9c179e"
             ],
             [
              0.4444444444444444,
              "#bd3786"
             ],
             [
              0.5555555555555556,
              "#d8576b"
             ],
             [
              0.6666666666666666,
              "#ed7953"
             ],
             [
              0.7777777777777778,
              "#fb9f3a"
             ],
             [
              0.8888888888888888,
              "#fdca26"
             ],
             [
              1,
              "#f0f921"
             ]
            ],
            "type": "histogram2dcontour"
           }
          ],
          "mesh3d": [
           {
            "colorbar": {
             "outlinewidth": 0,
             "ticks": ""
            },
            "type": "mesh3d"
           }
          ],
          "parcoords": [
           {
            "line": {
             "colorbar": {
              "outlinewidth": 0,
              "ticks": ""
             }
            },
            "type": "parcoords"
           }
          ],
          "pie": [
           {
            "automargin": true,
            "type": "pie"
           }
          ],
          "scatter": [
           {
            "fillpattern": {
             "fillmode": "overlay",
             "size": 10,
             "solidity": 0.2
            },
            "type": "scatter"
           }
          ],
          "scatter3d": [
           {
            "line": {
             "colorbar": {
              "outlinewidth": 0,
              "ticks": ""
             }
            },
            "marker": {
             "colorbar": {
              "outlinewidth": 0,
              "ticks": ""
             }
            },
            "type": "scatter3d"
           }
          ],
          "scattercarpet": [
           {
            "marker": {
             "colorbar": {
              "outlinewidth": 0,
              "ticks": ""
             }
            },
            "type": "scattercarpet"
           }
          ],
          "scattergeo": [
           {
            "marker": {
             "colorbar": {
              "outlinewidth": 0,
              "ticks": ""
             }
            },
            "type": "scattergeo"
           }
          ],
          "scattergl": [
           {
            "marker": {
             "colorbar": {
              "outlinewidth": 0,
              "ticks": ""
             }
            },
            "type": "scattergl"
           }
          ],
          "scattermapbox": [
           {
            "marker": {
             "colorbar": {
              "outlinewidth": 0,
              "ticks": ""
             }
            },
            "type": "scattermapbox"
           }
          ],
          "scatterpolar": [
           {
            "marker": {
             "colorbar": {
              "outlinewidth": 0,
              "ticks": ""
             }
            },
            "type": "scatterpolar"
           }
          ],
          "scatterpolargl": [
           {
            "marker": {
             "colorbar": {
              "outlinewidth": 0,
              "ticks": ""
             }
            },
            "type": "scatterpolargl"
           }
          ],
          "scatterternary": [
           {
            "marker": {
             "colorbar": {
              "outlinewidth": 0,
              "ticks": ""
             }
            },
            "type": "scatterternary"
           }
          ],
          "surface": [
           {
            "colorbar": {
             "outlinewidth": 0,
             "ticks": ""
            },
            "colorscale": [
             [
              0,
              "#0d0887"
             ],
             [
              0.1111111111111111,
              "#46039f"
             ],
             [
              0.2222222222222222,
              "#7201a8"
             ],
             [
              0.3333333333333333,
              "#9c179e"
             ],
             [
              0.4444444444444444,
              "#bd3786"
             ],
             [
              0.5555555555555556,
              "#d8576b"
             ],
             [
              0.6666666666666666,
              "#ed7953"
             ],
             [
              0.7777777777777778,
              "#fb9f3a"
             ],
             [
              0.8888888888888888,
              "#fdca26"
             ],
             [
              1,
              "#f0f921"
             ]
            ],
            "type": "surface"
           }
          ],
          "table": [
           {
            "cells": {
             "fill": {
              "color": "#EBF0F8"
             },
             "line": {
              "color": "white"
             }
            },
            "header": {
             "fill": {
              "color": "#C8D4E3"
             },
             "line": {
              "color": "white"
             }
            },
            "type": "table"
           }
          ]
         },
         "layout": {
          "annotationdefaults": {
           "arrowcolor": "#2a3f5f",
           "arrowhead": 0,
           "arrowwidth": 1
          },
          "autotypenumbers": "strict",
          "coloraxis": {
           "colorbar": {
            "outlinewidth": 0,
            "ticks": ""
           }
          },
          "colorscale": {
           "diverging": [
            [
             0,
             "#8e0152"
            ],
            [
             0.1,
             "#c51b7d"
            ],
            [
             0.2,
             "#de77ae"
            ],
            [
             0.3,
             "#f1b6da"
            ],
            [
             0.4,
             "#fde0ef"
            ],
            [
             0.5,
             "#f7f7f7"
            ],
            [
             0.6,
             "#e6f5d0"
            ],
            [
             0.7,
             "#b8e186"
            ],
            [
             0.8,
             "#7fbc41"
            ],
            [
             0.9,
             "#4d9221"
            ],
            [
             1,
             "#276419"
            ]
           ],
           "sequential": [
            [
             0,
             "#0d0887"
            ],
            [
             0.1111111111111111,
             "#46039f"
            ],
            [
             0.2222222222222222,
             "#7201a8"
            ],
            [
             0.3333333333333333,
             "#9c179e"
            ],
            [
             0.4444444444444444,
             "#bd3786"
            ],
            [
             0.5555555555555556,
             "#d8576b"
            ],
            [
             0.6666666666666666,
             "#ed7953"
            ],
            [
             0.7777777777777778,
             "#fb9f3a"
            ],
            [
             0.8888888888888888,
             "#fdca26"
            ],
            [
             1,
             "#f0f921"
            ]
           ],
           "sequentialminus": [
            [
             0,
             "#0d0887"
            ],
            [
             0.1111111111111111,
             "#46039f"
            ],
            [
             0.2222222222222222,
             "#7201a8"
            ],
            [
             0.3333333333333333,
             "#9c179e"
            ],
            [
             0.4444444444444444,
             "#bd3786"
            ],
            [
             0.5555555555555556,
             "#d8576b"
            ],
            [
             0.6666666666666666,
             "#ed7953"
            ],
            [
             0.7777777777777778,
             "#fb9f3a"
            ],
            [
             0.8888888888888888,
             "#fdca26"
            ],
            [
             1,
             "#f0f921"
            ]
           ]
          },
          "colorway": [
           "#636efa",
           "#EF553B",
           "#00cc96",
           "#ab63fa",
           "#FFA15A",
           "#19d3f3",
           "#FF6692",
           "#B6E880",
           "#FF97FF",
           "#FECB52"
          ],
          "font": {
           "color": "#2a3f5f"
          },
          "geo": {
           "bgcolor": "white",
           "lakecolor": "white",
           "landcolor": "#E5ECF6",
           "showlakes": true,
           "showland": true,
           "subunitcolor": "white"
          },
          "hoverlabel": {
           "align": "left"
          },
          "hovermode": "closest",
          "mapbox": {
           "style": "light"
          },
          "paper_bgcolor": "white",
          "plot_bgcolor": "#E5ECF6",
          "polar": {
           "angularaxis": {
            "gridcolor": "white",
            "linecolor": "white",
            "ticks": ""
           },
           "bgcolor": "#E5ECF6",
           "radialaxis": {
            "gridcolor": "white",
            "linecolor": "white",
            "ticks": ""
           }
          },
          "scene": {
           "xaxis": {
            "backgroundcolor": "#E5ECF6",
            "gridcolor": "white",
            "gridwidth": 2,
            "linecolor": "white",
            "showbackground": true,
            "ticks": "",
            "zerolinecolor": "white"
           },
           "yaxis": {
            "backgroundcolor": "#E5ECF6",
            "gridcolor": "white",
            "gridwidth": 2,
            "linecolor": "white",
            "showbackground": true,
            "ticks": "",
            "zerolinecolor": "white"
           },
           "zaxis": {
            "backgroundcolor": "#E5ECF6",
            "gridcolor": "white",
            "gridwidth": 2,
            "linecolor": "white",
            "showbackground": true,
            "ticks": "",
            "zerolinecolor": "white"
           }
          },
          "shapedefaults": {
           "line": {
            "color": "#2a3f5f"
           }
          },
          "ternary": {
           "aaxis": {
            "gridcolor": "white",
            "linecolor": "white",
            "ticks": ""
           },
           "baxis": {
            "gridcolor": "white",
            "linecolor": "white",
            "ticks": ""
           },
           "bgcolor": "#E5ECF6",
           "caxis": {
            "gridcolor": "white",
            "linecolor": "white",
            "ticks": ""
           }
          },
          "title": {
           "x": 0.05
          },
          "xaxis": {
           "automargin": true,
           "gridcolor": "white",
           "linecolor": "white",
           "ticks": "",
           "title": {
            "standoff": 15
           },
           "zerolinecolor": "white",
           "zerolinewidth": 2
          },
          "yaxis": {
           "automargin": true,
           "gridcolor": "white",
           "linecolor": "white",
           "ticks": "",
           "title": {
            "standoff": 15
           },
           "zerolinecolor": "white",
           "zerolinewidth": 2
          }
         }
        },
        "title": {
         "text": "PM projection of globins colored by phylogenetic tree cluster",
         "x": 0.5
        },
        "xaxis": {
         "anchor": "y",
         "constrain": "domain",
         "domain": [
          0,
          1
         ],
         "range": [
          -1.1,
          1.1
         ],
         "title": {
          "text": "pm1"
         }
        },
        "yaxis": {
         "anchor": "x",
         "domain": [
          0,
          1
         ],
         "scaleanchor": "x",
         "scaleratio": 1,
         "title": {
          "text": "pm2"
         }
        },
        "yaxis2": {
         "layer": "below traces",
         "matches": "y",
         "overlaying": "y"
        }
       }
      },
      "text/html": [
       "<div>                            <div id=\"ec8f3ad7-092c-4146-85e9-8cf5fe8bc8ab\" class=\"plotly-graph-div\" style=\"height:800px; width:100%;\"></div>            <script type=\"text/javascript\">                require([\"plotly\"], function(Plotly) {                    window.PLOTLYENV=window.PLOTLYENV || {};                                    if (document.getElementById(\"ec8f3ad7-092c-4146-85e9-8cf5fe8bc8ab\")) {                    Plotly.newPlot(                        \"ec8f3ad7-092c-4146-85e9-8cf5fe8bc8ab\",                        [{\"customdata\":[[5,3,3,2,\"Globin C, coelomic\",\"Globin\",\"Caudina arenicola\",\"Caudina\",2.10112824,\"Echinodermata\"],[4,2,3,2,\"Hemoglobin\",\"Hemoglobin\",\"Hemipholis cordifera\",\"Hemipholis\",2.32722587,\"Echinodermata\"],[4,2,3,2,\"Hemoglobin\",\"Hemoglobin\",\"Ophiactis simplex\",\"Ophiactis\",2.21961074,\"Echinodermata\"],[4,2,3,2,\"Hemoglobin\",\"Hemoglobin\",\"Ophiactis simplex\",\"Ophiactis\",2.26245834,\"Echinodermata\"],[-1,-1,3,2,\"Extracellular globin 1\",\"Extracellular\",\"Metaphire sieboldi\",\"Metaphire\",2.43355891,\"Annelida\"]],\"hovertemplate\":\"<b>%{hovertext}</b><br><br>tree3=%{customdata[2]}<br>pm1=%{x}<br>pm2=%{y}<br>tree1=%{customdata[0]}<br>tree2=%{customdata[1]}<br>tree4=%{customdata[3]}<br>full_name=%{customdata[4]}<br>short_name=%{customdata[5]}<br>full_species=%{customdata[6]}<br>short_species=%{customdata[7]}<br>evo_distance=%{customdata[8]}<br>Color_species=%{customdata[9]}<extra></extra>\",\"hovertext\":[3,3,3,3,3],\"legendgroup\":\"3\",\"marker\":{\"color\":\"#00cc96\",\"symbol\":\"circle\"},\"mode\":\"markers\",\"name\":\"3\",\"orientation\":\"v\",\"showlegend\":true,\"x\":[-0.21667436,-0.4302237,-0.40556702,-0.5173694,-0.7644506],\"xaxis\":\"x\",\"y\":[-0.21860453,-0.31260967,-0.38427094,-0.4598606,-0.47261742],\"yaxis\":\"y\",\"type\":\"scatter\"},{\"customdata\":[[-1,28,18,10,\"Globin (Fragment)\",\"Globin\",\"Stegodyphus mimosarum\",\"Stegodyphus\",1.7572795,\"Arthropoda\"],[-1,27,18,10,\"Uncharacterized protein\",\"Uncharacterized\",\"Strigamia maritima\",\"Strigamia\",2.04148677,\"Arthropoda\"],[37,27,18,10,\"Uncharacterized protein\",\"Uncharacterized\",\"Scylla olivacea\",\"Scylla\",2.31816861,\"Arthropoda\"],[37,27,18,10,\"Uncharacterized protein\",\"Uncharacterized\",\"Scylla olivacea\",\"Scylla\",2.17077532,\"Arthropoda\"],[37,27,18,10,\"Hemoglobin\",\"Hemoglobin\",\"Carcinus maenas\",\"Carcinus\",2.1764956200000003,\"Arthropoda\"],[-1,29,18,10,\"Globin, putative\",\"Globin,\",\"Ixodes scapularis\",\"Ixodes\",2.30448645,\"Arthropoda\"],[40,28,18,10,\"Globin\",\"Globin\",\"Zootermopsis nevadensis\",\"Zootermopsis\",1.87201142,\"Arthropoda\"],[45,33,18,10,\"Uncharacterized protein\",\"Uncharacterized\",\"Arion vulgaris\",\"Arion\",1.97427266,\"Mollusca\"],[45,33,18,10,\"Uncharacterized protein\",\"Uncharacterized\",\"Arion vulgaris\",\"Arion\",2.08013658,\"Mollusca\"],[40,28,18,10,\"Globin like protein (Fragment)\",\"Globin\",\"Coptotermes formosanus\",\"Coptotermes\",1.7741922,\"Arthropoda\"],[-1,28,18,10,\"Uncharacterized protein\",\"Uncharacterized\",\"Oryctes borbonicus\",\"Oryctes\",2.08382808,\"Arthropoda\"],[-1,27,18,10,\"Uncharacterized protein\",\"Uncharacterized\",\"Tetranychus urticae\",\"Tetranychus\",2.47172868,\"Arthropoda\"],[39,28,18,10,\"Globin 1\",\"Globin\",\"Apis mellifera\",\"Apis\",2.242503,\"Arthropoda\"],[39,28,18,10,\"Putative uncharacterized protein (Fragment)\",\"Putative\",\"Solenopsis invicta\",\"Solenopsis\",2.64407828,\"Arthropoda\"],[38,28,18,10,\"Globin\",\"Globin\",\"Habropoda laboriosa\",\"Habropoda\",2.60605258,\"Arthropoda\"],[38,28,18,10,\"Cygb2_0 protein\",\"Cygb2_0\",\"Fopius arisanus\",\"Fopius\",2.25335988,\"Arthropoda\"],[39,28,18,10,\"Cytoglobin 2\",\"Cytoglobin\",\"Cerapachys biroi\",\"Cerapachys\",2.52009681,\"Arthropoda\"],[39,28,18,10,\"Globin\",\"Globin\",\"Camponotus floridanus\",\"Camponotus\",2.60584071,\"Arthropoda\"],[38,28,18,10,\"Uncharacterized protein\",\"Uncharacterized\",\"Nasonia vitripennis\",\"Nasonia\",2.25387252,\"Arthropoda\"],[39,28,18,10,\"Cytoglobin\",\"Cytoglobin\",\"Acromyrmex echinatior\",\"Acromyrmex\",2.64639149,\"Arthropoda\"],[-1,28,18,10,\"Globin like Protein\",\"Globin\",\"Tribolium castaneum\",\"Tribolium\",2.42579023,\"Arthropoda\"],[-1,34,18,10,\"Uncharacterized protein\",\"Uncharacterized\",\"Capitella teleta\",\"Capitella\",2.02076984,\"Annelida\"],[-1,34,18,10,\"Cytoglobin 1 like protein\",\"Cytoglobin\",\"Sarcoptes scabiei\",\"Sarcoptes\",2.036886,\"Arthropoda\"],[-1,29,18,10,\"Uncharacterized protein (Fragment)\",\"Uncharacterized\",\"Ixodes ricinus\",\"Ixodes\",1.7778336,\"Arthropoda\"],[37,27,18,10,\"Cytoglobin 2 isoform CYGBi2\",\"Cytoglobin\",\"Cherax destructor\",\"Cherax\",2.23555225,\"Arthropoda\"],[36,26,18,10,\"Putative uncharacterized protein\",\"Putative\",\"Daphnia pulex\",\"Daphnia\",2.15851408,\"Arthropoda\"],[-1,-1,18,10,\"Globin\",\"Globin\",\"Crassostrea gigas\",\"Crassostrea\",2.20001602,\"Mollusca\"],[-1,29,18,10,\"Beta chain of the tetrameric hemoglobin, putative\",\"Hemoglobin\",\"Ixodes scapularis\",\"Ixodes\",2.34867746,\"Arthropoda\"],[39,28,18,10,\"Globin\",\"Globin\",\"Harpegnathos saltator\",\"Harpegnathos\",2.62513263,\"Arthropoda\"],[40,28,18,10,\"Globin\",\"Globin\",\"Zootermopsis nevadensis\",\"Zootermopsis\",1.7189102399999998,\"Arthropoda\"],[-1,-1,18,10,\"Globin\",\"Globin\",\"Daphnia magna\",\"Daphnia\",2.39585067,\"Arthropoda\"],[36,26,18,10,\"Cytoglobin 2\",\"Cytoglobin\",\"Daphnia magna\",\"Daphnia\",2.23126274,\"Arthropoda\"],[-1,-1,18,10,\"Globin like protein 1\",\"Globin\",\"Sarcoptes scabiei\",\"Sarcoptes\",2.11760394,\"Arthropoda\"]],\"hovertemplate\":\"<b>%{hovertext}</b><br><br>tree3=%{customdata[2]}<br>pm1=%{x}<br>pm2=%{y}<br>tree1=%{customdata[0]}<br>tree2=%{customdata[1]}<br>tree4=%{customdata[3]}<br>full_name=%{customdata[4]}<br>short_name=%{customdata[5]}<br>full_species=%{customdata[6]}<br>short_species=%{customdata[7]}<br>evo_distance=%{customdata[8]}<br>Color_species=%{customdata[9]}<extra></extra>\",\"hovertext\":[18,18,18,18,18,18,18,18,18,18,18,18,18,18,18,18,18,18,18,18,18,18,18,18,18,18,18,18,18,18,18,18,18],\"legendgroup\":\"18\",\"marker\":{\"color\":\"#ab63fa\",\"symbol\":\"circle\"},\"mode\":\"markers\",\"name\":\"18\",\"orientation\":\"v\",\"showlegend\":true,\"x\":[-0.24626446,-0.47054383,-0.63619757,-0.5592275,-0.6106947,-0.39653635,-0.3187841,-0.5632335,-0.5406315,-0.26323253,-0.3479131,-0.4966424,-0.3140081,-0.32874995,-0.31312993,-0.27427414,-0.3288361,-0.3337321,-0.28614563,-0.32835472,-0.1983768,-0.21909064,-0.15023288,-0.4500374,-0.62328726,-0.5573055,-0.4371524,-0.35276818,-0.3307095,-0.26639497,-0.3498966,-0.4681326,-0.29509747],\"xaxis\":\"x\",\"y\":[0.018228846,0.13331215,0.14543886,0.15505402,0.1088888,0.04160786,-0.03921273,0.258736,0.23058921,0.14594887,0.10097041,0.06428482,0.4147196,0.42633247,0.42841852,0.36854163,0.4256392,0.4200103,0.40599293,0.42652923,0.23160113,-0.071306035,-0.026678458,0.04888431,0.13795426,-0.06725375,0.100146346,0.16588998,0.42420337,0.09677661,0.40934163,-0.074411534,0.07560197],\"yaxis\":\"y\",\"type\":\"scatter\"},{\"customdata\":[[-1,40,22,11,\"ACYPI007228 protein\",\"ACYPI007228\",\"Acyrthosiphon pisum\",\"Acyrthosiphon\",0.44459959,\"Arthropoda\"],[10,38,22,9,\"Hemoglobin T1 polymer\",\"Hemoglobin\",\"Artemia salina\",\"Artemia\",1.84725956,\"Arthropoda\"],[10,38,22,9,\"Hemoglobin P polymer\",\"Hemoglobin\",\"Parartemia zietziana\",\"Parartemia\",1.91905851,\"Arthropoda\"],[11,38,22,9,\"Hemoglobin T1 polymer\",\"Hemoglobin\",\"Artemia salina\",\"Artemia\",1.78050468,\"Arthropoda\"],[11,38,22,9,\"Hemoglobin P polymer\",\"Hemoglobin\",\"Parartemia zietziana\",\"Parartemia\",1.73983856,\"Arthropoda\"],[11,38,22,9,\"Hemoglobin C1 polymer\",\"Hemoglobin\",\"Artemia salina\",\"Artemia\",1.70252921,\"Arthropoda\"],[-1,38,22,9,\"Hemoglobin P polymer\",\"Hemoglobin\",\"Parartemia zietziana\",\"Parartemia\",2.0891213,\"Arthropoda\"],[-1,40,22,11,\"Uncharacterized protein\",\"Uncharacterized\",\"Acyrthosiphon pisum\",\"Acyrthosiphon\",0.90085961,\"Arthropoda\"]],\"hovertemplate\":\"<b>%{hovertext}</b><br><br>tree3=%{customdata[2]}<br>pm1=%{x}<br>pm2=%{y}<br>tree1=%{customdata[0]}<br>tree2=%{customdata[1]}<br>tree4=%{customdata[3]}<br>full_name=%{customdata[4]}<br>short_name=%{customdata[5]}<br>full_species=%{customdata[6]}<br>short_species=%{customdata[7]}<br>evo_distance=%{customdata[8]}<br>Color_species=%{customdata[9]}<extra></extra>\",\"hovertext\":[22,22,22,22,22,22,22,22],\"legendgroup\":\"22\",\"marker\":{\"color\":\"#FFA15A\",\"symbol\":\"circle\"},\"mode\":\"markers\",\"name\":\"22\",\"orientation\":\"v\",\"showlegend\":true,\"x\":[-0.03961237,-0.77368903,-0.7811032,-0.7430581,-0.75057,-0.75238556,-0.72880983,-0.047171053],\"xaxis\":\"x\",\"y\":[0.16208796,-0.06273218,-0.087382644,-0.06714899,-0.08059937,-0.091650546,-0.120075434,0.17393063],\"yaxis\":\"y\",\"type\":\"scatter\"},{\"customdata\":[[13,17,5,7,\"Uncharacterized protein\",\"Uncharacterized\",\"Capitella teleta\",\"Capitella\",2.1436955,\"Annelida\"],[13,17,5,7,\"Uncharacterized protein\",\"Uncharacterized\",\"Capitella teleta\",\"Capitella\",2.2371513499999995,\"Annelida\"],[-1,17,5,7,\"Uncharacterized protein (Fragment)\",\"Uncharacterized\",\"Capitella teleta\",\"Capitella\",2.66909204,\"Annelida\"],[-1,17,5,7,\"Uncharacterized protein\",\"Uncharacterized\",\"Capitella teleta\",\"Capitella\",2.42843133,\"Annelida\"]],\"hovertemplate\":\"<b>%{hovertext}</b><br><br>tree3=%{customdata[2]}<br>pm1=%{x}<br>pm2=%{y}<br>tree1=%{customdata[0]}<br>tree2=%{customdata[1]}<br>tree4=%{customdata[3]}<br>full_name=%{customdata[4]}<br>short_name=%{customdata[5]}<br>full_species=%{customdata[6]}<br>short_species=%{customdata[7]}<br>evo_distance=%{customdata[8]}<br>Color_species=%{customdata[9]}<extra></extra>\",\"hovertext\":[5,5,5,5],\"legendgroup\":\"5\",\"marker\":{\"color\":\"#19d3f3\",\"symbol\":\"circle\"},\"mode\":\"markers\",\"name\":\"5\",\"orientation\":\"v\",\"showlegend\":true,\"x\":[0.91033936,0.8824557,0.9122024,0.9026783],\"xaxis\":\"x\",\"y\":[0.054009266,0.05633255,0.10156787,0.085135356],\"yaxis\":\"y\",\"type\":\"scatter\"},{\"customdata\":[[-1,-1,4,7,\"Uncharacterized protein\",\"Uncharacterized\",\"Capitella teleta\",\"Capitella\",2.50218703,\"Annelida\"],[-1,7,4,7,\"Cytoglobin 2\",\"Cytoglobin\",\"Crassostrea gigas\",\"Crassostrea\",2.34885314,\"Mollusca\"],[-1,7,4,7,\"Uncharacterized protein\",\"Uncharacterized\",\"Lottia gigantea\",\"Lottia\",2.43279945,\"Mollusca\"],[12,6,4,7,\"Protein CBR GLB 7\",\"Protein\",\"Caenorhabditis briggsae\",\"Caenorhabditis\",3.0159007999999994,\"Nematoda\"],[12,6,4,7,\"Uncharacterized protein\",\"Uncharacterized\",\"Haemonchus placei\",\"Haemonchus\",3.29015469,\"Nematoda\"],[-1,6,4,7,\"Cre glb 30 protein\",\"Cre\",\"Ascaris suum\",\"Ascaris\",3.1760076299999995,\"Nematoda\"],[-1,-1,4,7,\"Globin like protein 26\",\"Globin\",\"Trichinella pseudospiralis\",\"Trichinella\",3.03825431,\"Nematoda\"],[-1,6,4,7,\"Uncharacterized protein\",\"Uncharacterized\",\"Ancylostoma ceylanicum\",\"Ancylostoma\",3.20708282,\"Nematoda\"]],\"hovertemplate\":\"<b>%{hovertext}</b><br><br>tree3=%{customdata[2]}<br>pm1=%{x}<br>pm2=%{y}<br>tree1=%{customdata[0]}<br>tree2=%{customdata[1]}<br>tree4=%{customdata[3]}<br>full_name=%{customdata[4]}<br>short_name=%{customdata[5]}<br>full_species=%{customdata[6]}<br>short_species=%{customdata[7]}<br>evo_distance=%{customdata[8]}<br>Color_species=%{customdata[9]}<extra></extra>\",\"hovertext\":[4,4,4,4,4,4,4,4],\"legendgroup\":\"4\",\"marker\":{\"color\":\"#FF6692\",\"symbol\":\"circle\"},\"mode\":\"markers\",\"name\":\"4\",\"orientation\":\"v\",\"showlegend\":true,\"x\":[0.92844415,0.922799,0.9120393,0.9127972,0.90721655,0.93373287,0.9358085,0.9220662],\"xaxis\":\"x\",\"y\":[0.068173505,0.0847699,0.073968746,0.019360049,-0.01066695,0.013455787,0.032959137,0.005769358],\"yaxis\":\"y\",\"type\":\"scatter\"},{\"customdata\":[[-1,13,8,4,\"Neuroglobin like\",\"Neuroglobin\",\"Scleropages formosus\",\"Scleropages\",2.75087931,\"Chordata\"],[-1,-1,8,4,\"Predicted protein\",\"Predicted\",\"Nematostella vectensis\",\"Nematostella\",2.4344002,\"Cnidaria\"],[22,13,8,4,\"Neuroglobin\",\"Neuroglobin\",\"Oryctolagus cuniculus\",\"Oryctolagus\",3.722439879999999,\"Chordata\"],[22,13,8,4,\"Neuroglobin\",\"Neuroglobin\",\"Alligator mississippiensis\",\"Alligator\",3.58667483,\"Chordata\"],[21,13,8,4,\"Neuroglobin\",\"Neuroglobin\",\"Danio rerio\",\"Danio\",3.068778509999999,\"Chordata\"],[22,13,8,4,\"Uncharacterized protein\",\"Uncharacterized\",\"Anolis carolinensis\",\"Anolis\",3.673447579999999,\"Chordata\"],[22,13,8,4,\"Uncharacterized protein\",\"Uncharacterized\",\"Lepisosteus oculatus\",\"Lepisosteus\",3.147542819999999,\"Chordata\"],[21,13,8,4,\"Neuroglobin 1\",\"Neuroglobin\",\"Salmo salar\",\"Salmo\",3.094649499999999,\"Chordata\"],[22,13,8,4,\"Neuroglobin\",\"Neuroglobin\",\"Amazona aestiva\",\"Amazona\",3.684650899999999,\"Chordata\"],[21,13,8,4,\"Neuroglobin\",\"Neuroglobin\",\"Chaenocephalus aceratus\",\"Chaenocephalus\",3.048452869999999,\"Chordata\"],[22,13,8,4,\"Uncharacterized protein\",\"Uncharacterized\",\"Ornithorhynchus anatinus\",\"Ornithorhynchus\",3.630371559999999,\"Chordata\"],[22,13,8,4,\"Uncharacterized protein\",\"Uncharacterized\",\"Sarcophilus harrisii\",\"Sarcophilus\",3.563486359999999,\"Chordata\"],[22,13,8,4,\"Uncharacterized protein\",\"Uncharacterized\",\"Anas platyrhynchos\",\"Anas\",3.747842649999999,\"Chordata\"],[22,13,8,4,\"Neuroglobin\",\"Neuroglobin\",\"Gallus gallus\",\"Gallus\",3.679641069999999,\"Chordata\"],[21,13,8,4,\"Neuroglobin (Fragment)\",\"Neuroglobin\",\"Fundulus heteroclitus\",\"Fundulus\",3.1009386899999987,\"Chordata\"]],\"hovertemplate\":\"<b>%{hovertext}</b><br><br>tree3=%{customdata[2]}<br>pm1=%{x}<br>pm2=%{y}<br>tree1=%{customdata[0]}<br>tree2=%{customdata[1]}<br>tree4=%{customdata[3]}<br>full_name=%{customdata[4]}<br>short_name=%{customdata[5]}<br>full_species=%{customdata[6]}<br>short_species=%{customdata[7]}<br>evo_distance=%{customdata[8]}<br>Color_species=%{customdata[9]}<extra></extra>\",\"hovertext\":[8,8,8,8,8,8,8,8,8,8,8,8,8,8,8],\"legendgroup\":\"8\",\"marker\":{\"color\":\"#B6E880\",\"symbol\":\"circle\"},\"mode\":\"markers\",\"name\":\"8\",\"orientation\":\"v\",\"showlegend\":true,\"x\":[0.67934245,0.517738,0.6202889,0.61812013,0.70251507,0.61191714,0.67533946,0.71641743,0.615214,0.7004707,0.6218602,0.6179422,0.6216531,0.61948395,0.72672075],\"xaxis\":\"x\",\"y\":[-0.433285,-0.5662864,-0.0073697944,-0.0062848525,-0.45961723,-0.0027511478,-0.49599254,-0.48667392,-0.0155976415,-0.4818692,-0.00900353,-0.00520993,-0.00888536,-0.015807064,-0.46007267],\"yaxis\":\"y\",\"type\":\"scatter\"},{\"customdata\":[[-1,23,14,6,\"Globin\",\"Globin\",\"Branchiostoma floridae\",\"Branchiostoma\",2.1325129,\"Chordata\"],[34,23,14,6,\"Globin\",\"Globin\",\"Branchiostoma floridae\",\"Branchiostoma\",2.16645269,\"Chordata\"],[33,24,14,6,\"Uncharacterized protein\",\"Uncharacterized\",\"Ciona savignyi\",\"Ciona\",2.80514043,\"Chordata\"],[33,24,14,6,\"Uncharacterized protein\",\"Uncharacterized\",\"Ciona intestinalis\",\"Ciona\",2.81068422,\"Chordata\"],[33,24,14,6,\"Globin\",\"Globin\",\"Ciona intestinalis\",\"Ciona\",2.83829804,\"Chordata\"],[33,24,14,6,\"Uncharacterized protein\",\"Uncharacterized\",\"Ciona savignyi\",\"Ciona\",2.96556729,\"Chordata\"],[35,24,14,6,\"Uncharacterized protein\",\"Uncharacterized\",\"Ciona savignyi\",\"Ciona\",2.65847977,\"Chordata\"],[35,24,14,6,\"Globin\",\"Globin\",\"Ciona intestinalis\",\"Ciona\",2.60884268,\"Chordata\"],[34,23,14,6,\"Putative uncharacterized protein\",\"Putative\",\"Branchiostoma floridae\",\"Branchiostoma\",2.37973605,\"Chordata\"],[34,23,14,6,\"Putative uncharacterized protein\",\"Putative\",\"Branchiostoma floridae\",\"Branchiostoma\",2.38806056,\"Chordata\"],[-1,-1,14,6,\"Neuroglobin like protein\",\"Neuroglobin\",\"Saccoglossus kowalevskii\",\"Saccoglossus\",2.35972746,\"Hemichordata\"],[-1,24,14,6,\"Globin\",\"Globin\",\"Ciona intestinalis\",\"Ciona\",3.12906012,\"Chordata\"]],\"hovertemplate\":\"<b>%{hovertext}</b><br><br>tree3=%{customdata[2]}<br>pm1=%{x}<br>pm2=%{y}<br>tree1=%{customdata[0]}<br>tree2=%{customdata[1]}<br>tree4=%{customdata[3]}<br>full_name=%{customdata[4]}<br>short_name=%{customdata[5]}<br>full_species=%{customdata[6]}<br>short_species=%{customdata[7]}<br>evo_distance=%{customdata[8]}<br>Color_species=%{customdata[9]}<extra></extra>\",\"hovertext\":[14,14,14,14,14,14,14,14,14,14,14,14],\"legendgroup\":\"14\",\"marker\":{\"color\":\"#FF97FF\",\"symbol\":\"circle\"},\"mode\":\"markers\",\"name\":\"14\",\"orientation\":\"v\",\"showlegend\":true,\"x\":[0.55240935,0.47532985,0.7335919,0.72632307,0.7249048,0.73097605,0.7104965,0.70331013,0.47934029,0.46536237,-0.6838667,0.74595165],\"xaxis\":\"x\",\"y\":[0.5002388,0.43271896,0.5451118,0.55492663,0.5649229,0.574934,0.57495785,0.5469707,0.47155836,0.45727146,0.06397504,0.5591119],\"yaxis\":\"y\",\"type\":\"scatter\"},{\"customdata\":[[-1,39,20,10,\"Uncharacterized protein\",\"Uncharacterized\",\"Strongylocentrotus purpuratus\",\"Strongylocentrotus\",1.75283422,\"Echinodermata\"],[-1,39,20,7,\"Putative uncharacterized protein\",\"Putative\",\"Branchiostoma floridae\",\"Branchiostoma\",1.93258564,\"Chordata\"],[-1,-1,20,7,\"Putative uncharacterized protein\",\"Putative\",\"Trichoplax adhaerens\",\"Trichoplax\",2.31619376,\"Placozoa\"],[23,16,20,7,\"Uncharacterized protein\",\"Uncharacterized\",\"Arion vulgaris\",\"Arion\",2.60859124,\"Mollusca\"],[-1,16,20,7,\"Uncharacterized protein\",\"Uncharacterized\",\"Lottia gigantea\",\"Lottia\",2.7304677,\"Mollusca\"],[23,16,20,7,\"Cytoglobin 1\",\"Cytoglobin\",\"Crassostrea gigas\",\"Crassostrea\",2.85491961,\"Mollusca\"],[23,16,20,7,\"Uncharacterized protein\",\"Uncharacterized\",\"Lottia gigantea\",\"Lottia\",2.73087099,\"Mollusca\"]],\"hovertemplate\":\"<b>%{hovertext}</b><br><br>tree3=%{customdata[2]}<br>pm1=%{x}<br>pm2=%{y}<br>tree1=%{customdata[0]}<br>tree2=%{customdata[1]}<br>tree4=%{customdata[3]}<br>full_name=%{customdata[4]}<br>short_name=%{customdata[5]}<br>full_species=%{customdata[6]}<br>short_species=%{customdata[7]}<br>evo_distance=%{customdata[8]}<br>Color_species=%{customdata[9]}<extra></extra>\",\"hovertext\":[20,20,20,20,20,20,20],\"legendgroup\":\"20\",\"marker\":{\"color\":\"#FECB52\",\"symbol\":\"circle\"},\"mode\":\"markers\",\"name\":\"20\",\"orientation\":\"v\",\"showlegend\":true,\"x\":[0.3052599,0.35077015,0.53449506,0.26909155,0.2910724,0.32616085,0.3474818],\"xaxis\":\"x\",\"y\":[0.44487974,0.29154557,-0.2776263,-0.38277054,-0.3300073,-0.43024892,-0.37915847],\"yaxis\":\"y\",\"type\":\"scatter\"},{\"customdata\":[[-1,37,21,10,\"Uncharacterized protein\",\"Uncharacterized\",\"Lutzomyia longipalpis\",\"Lutzomyia\",1.94649826,\"Arthropoda\"],[47,36,21,10,\"Putative hemoglobin like flavoprotein (Fragment)\",\"Hemoglobin\",\"Rhodnius neglectus\",\"Rhodnius\",1.84627905,\"Arthropoda\"],[47,36,21,10,\"Putative hemoglobin like flavoprotein (Fragment)\",\"Hemoglobin\",\"Triatoma infestans\",\"Triatoma\",1.9043777,\"Arthropoda\"],[-1,37,21,10,\"Uncharacterized protein\",\"Uncharacterized\",\"Glossina morsitans\",\"Glossina\",2.01930981,\"Arthropoda\"]],\"hovertemplate\":\"<b>%{hovertext}</b><br><br>tree3=%{customdata[2]}<br>pm1=%{x}<br>pm2=%{y}<br>tree1=%{customdata[0]}<br>tree2=%{customdata[1]}<br>tree4=%{customdata[3]}<br>full_name=%{customdata[4]}<br>short_name=%{customdata[5]}<br>full_species=%{customdata[6]}<br>short_species=%{customdata[7]}<br>evo_distance=%{customdata[8]}<br>Color_species=%{customdata[9]}<extra></extra>\",\"hovertext\":[21,21,21,21],\"legendgroup\":\"21\",\"marker\":{\"color\":\"#636efa\",\"symbol\":\"circle\"},\"mode\":\"markers\",\"name\":\"21\",\"orientation\":\"v\",\"showlegend\":true,\"x\":[-0.2374086,-0.40341073,-0.30441177,-0.17472373],\"xaxis\":\"x\",\"y\":[0.37581906,0.578061,0.27104,0.41055894],\"yaxis\":\"y\",\"type\":\"scatter\"},{\"customdata\":[[-1,-1,9,3,\"Uncharacterized protein\",\"Uncharacterized\",\"Amphimedon queenslandica\",\"Amphimedon\",2.52227159,\"Porifera\"],[14,10,9,3,\"Uncharacterized protein\",\"Uncharacterized\",\"Strongylocentrotus purpuratus\",\"Strongylocentrotus\",2.65354782,\"Echinodermata\"],[-1,-1,9,3,\"Uncharacterized protein\",\"Uncharacterized\",\"Micromonas commoda\",\"Micromonas\",2.70986541,\"Viridiplantae\"],[14,10,9,3,\"Uncharacterized protein\",\"Uncharacterized\",\"Strongylocentrotus purpuratus\",\"Strongylocentrotus\",2.58692572,\"Echinodermata\"],[-1,10,9,3,\"Uncharacterized protein\",\"Uncharacterized\",\"Strongylocentrotus purpuratus\",\"Strongylocentrotus\",2.51919106,\"Echinodermata\"],[14,10,9,3,\"Uncharacterized protein\",\"Uncharacterized\",\"Strongylocentrotus purpuratus\",\"Strongylocentrotus\",2.27606469,\"Echinodermata\"],[14,10,9,3,\"Uncharacterized protein\",\"Uncharacterized\",\"Strongylocentrotus purpuratus\",\"Strongylocentrotus\",2.86747135,\"Echinodermata\"]],\"hovertemplate\":\"<b>%{hovertext}</b><br><br>tree3=%{customdata[2]}<br>pm1=%{x}<br>pm2=%{y}<br>tree1=%{customdata[0]}<br>tree2=%{customdata[1]}<br>tree4=%{customdata[3]}<br>full_name=%{customdata[4]}<br>short_name=%{customdata[5]}<br>full_species=%{customdata[6]}<br>short_species=%{customdata[7]}<br>evo_distance=%{customdata[8]}<br>Color_species=%{customdata[9]}<extra></extra>\",\"hovertext\":[9,9,9,9,9,9,9],\"legendgroup\":\"9\",\"marker\":{\"color\":\"#EF553B\",\"symbol\":\"circle\"},\"mode\":\"markers\",\"name\":\"9\",\"orientation\":\"v\",\"showlegend\":true,\"x\":[0.5094934,0.7498732,0.69225985,0.77215344,0.8194503,0.77850014,0.82553416],\"xaxis\":\"x\",\"y\":[0.023856374,-0.21010426,-0.16284993,-0.2487095,-0.23778594,-0.21164958,-0.17840342],\"yaxis\":\"y\",\"type\":\"scatter\"},{\"customdata\":[[18,14,10,4,\"Cytoglobin 2\",\"Cytoglobin\",\"Crassostrea gigas\",\"Crassostrea\",2.89814466,\"Mollusca\"],[19,14,10,4,\"Uncharacterized protein (Fragment)\",\"Uncharacterized\",\"Lottia gigantea\",\"Lottia\",2.350108079999999,\"Mollusca\"],[19,14,10,4,\"Uncharacterized protein (Fragment)\",\"Uncharacterized\",\"Lottia gigantea\",\"Lottia\",2.4627551299999992,\"Mollusca\"],[-1,14,10,4,\"Uncharacterized protein (Fragment)\",\"Uncharacterized\",\"Lottia gigantea\",\"Lottia\",3.15607834,\"Mollusca\"],[-1,14,10,4,\"Uncharacterized protein\",\"Uncharacterized\",\"Capitella teleta\",\"Capitella\",3.0766556599999992,\"Annelida\"],[17,12,10,4,\"ACYPI001485 protein\",\"ACYPI001485\",\"Acyrthosiphon pisum\",\"Acyrthosiphon\",2.696499399999999,\"Arthropoda\"],[19,14,10,4,\"Uncharacterized protein\",\"Uncharacterized\",\"Lottia gigantea\",\"Lottia\",2.6062900199999994,\"Mollusca\"],[16,11,10,4,\"GbX1\",\"GbX1\",\"Callorhinchus milii\",\"Callorhinchus\",2.948089519999999,\"Chordata\"],[16,11,10,4,\"GbX2\",\"GbX2\",\"Callorhinchus milii\",\"Callorhinchus\",3.0123761099999995,\"Chordata\"],[16,11,10,4,\"Chromosome 10 SCAF15019, whole genome shotgun sequence\",\"Chromosome\",\"Tetraodon nigroviridis\",\"Tetraodon\",3.1074634799999994,\"Chordata\"],[16,11,10,4,\"Cytoglobin 1\",\"Cytoglobin\",\"Chelonia mydas\",\"Chelonia\",2.706756999999999,\"Chordata\"],[16,11,10,4,\"Uncharacterized protein\",\"Uncharacterized\",\"Poecilia formosa\",\"Poecilia\",3.0849746199999992,\"Chordata\"],[16,11,10,4,\"Uncharacterized protein\",\"Uncharacterized\",\"Lepisosteus oculatus\",\"Lepisosteus\",2.843704849999999,\"Chordata\"],[16,11,10,4,\"Uncharacterized protein\",\"Uncharacterized\",\"Latimeria chalumnae\",\"Latimeria\",2.74467532,\"Chordata\"],[16,11,10,4,\"Xgb protein\",\"Xgb\",\"Danio rerio\",\"Danio\",3.15932725,\"Chordata\"],[16,11,10,4,\"Uncharacterized protein\",\"Uncharacterized\",\"Lepisosteus oculatus\",\"Lepisosteus\",2.98219578,\"Chordata\"],[16,11,10,4,\"Uncharacterized protein\",\"Uncharacterized\",\"Xenopus tropicalis\",\"Xenopus\",3.07574532,\"Chordata\"],[16,11,10,4,\"Cytoglobin 2\",\"Cytoglobin\",\"Ictalurus punctatus\",\"Ictalurus\",3.15839468,\"Chordata\"],[16,11,10,4,\"Uncharacterized protein\",\"Uncharacterized\",\"Oreochromis niloticus\",\"Oreochromis\",3.245876129999999,\"Chordata\"],[16,11,10,4,\"Uncharacterized protein\",\"Uncharacterized\",\"Oncorhynchus mykiss\",\"Oncorhynchus\",3.104564709999999,\"Chordata\"],[16,11,10,4,\"Uncharacterized protein\",\"Uncharacterized\",\"Oncorhynchus mykiss\",\"Oncorhynchus\",3.152127119999999,\"Chordata\"],[16,11,10,4,\"Neuroglobin like (Fragment)\",\"Neuroglobin\",\"Scleropages formosus\",\"Scleropages\",3.024390219999999,\"Chordata\"],[17,12,10,4,\"Globin D, coelomic, putative\",\"Globin\",\"Pediculus humanus\",\"Pediculus\",2.749354739999999,\"Arthropoda\"],[-1,14,10,4,\"Neuroglobin\",\"Neuroglobin\",\"Daphnia magna\",\"Daphnia\",2.620574789999999,\"Arthropoda\"],[19,14,10,4,\"Neuroglobin 1\",\"Neuroglobin\",\"Crassostrea gigas\",\"Crassostrea\",2.4302546899999995,\"Mollusca\"],[19,14,10,4,\"Uncharacterized protein\",\"Uncharacterized\",\"Arion vulgaris\",\"Arion\",2.53586098,\"Mollusca\"],[19,14,10,4,\"Uncharacterized protein\",\"Uncharacterized\",\"Octopus bimaculoides\",\"Octopus\",2.550460389999999,\"Mollusca\"],[-1,14,10,4,\"Uncharacterized protein\",\"Uncharacterized\",\"Capitella teleta\",\"Capitella\",3.0074926799999995,\"Annelida\"],[18,14,10,4,\"Nacrein like protein F\",\"Nacrein\",\"Crassostrea gigas\",\"Crassostrea\",3.01650571,\"Mollusca\"],[-1,12,10,4,\"Uncharacterized protein\",\"Uncharacterized\",\"Lepeophtheirus salmonis\",\"Lepeophtheirus\",3.34308881,\"Arthropoda\"],[-1,12,10,4,\"Neuroglobinlike [Maylandia zebra]\",\"Neuroglobin\",\"Lepeophtheirus salmonis\",\"Lepeophtheirus\",3.308708769999999,\"Arthropoda\"]],\"hovertemplate\":\"<b>%{hovertext}</b><br><br>tree3=%{customdata[2]}<br>pm1=%{x}<br>pm2=%{y}<br>tree1=%{customdata[0]}<br>tree2=%{customdata[1]}<br>tree4=%{customdata[3]}<br>full_name=%{customdata[4]}<br>short_name=%{customdata[5]}<br>full_species=%{customdata[6]}<br>short_species=%{customdata[7]}<br>evo_distance=%{customdata[8]}<br>Color_species=%{customdata[9]}<extra></extra>\",\"hovertext\":[10,10,10,10,10,10,10,10,10,10,10,10,10,10,10,10,10,10,10,10,10,10,10,10,10,10,10,10,10,10,10],\"legendgroup\":\"10\",\"marker\":{\"color\":\"#00cc96\",\"symbol\":\"circle\"},\"mode\":\"markers\",\"name\":\"10\",\"orientation\":\"v\",\"showlegend\":true,\"x\":[0.31335583,0.339052,0.33656132,0.27702993,0.29622197,0.40053076,0.31789938,0.14665286,0.15984857,0.110240206,0.1528213,0.11747344,0.1636466,0.17033026,0.12958598,0.13166045,0.12780347,0.10875537,0.14558764,0.11453347,0.095085025,0.113185525,0.38315782,0.3855695,0.33402863,0.27739912,0.3494083,0.35025325,0.3218646,0.36544204,0.282923],\"xaxis\":\"x\",\"y\":[-0.80586225,-0.79243064,-0.729624,-0.7941677,-0.7692258,-0.77695465,-0.76619756,-0.9083186,-0.9292261,-0.92899555,-0.9211561,-0.9144726,-0.91977614,-0.9083178,-0.9155664,-0.90419793,-0.9320836,-0.9193495,-0.87147844,-0.9023096,-0.90739995,-0.8828841,-0.79825425,-0.75012237,-0.7703245,-0.7371957,-0.78040767,-0.7575567,-0.8233266,-0.82538587,-0.84886396],\"yaxis\":\"y\",\"type\":\"scatter\"},{\"customdata\":[[29,20,12,5,\"Cytoglobin b\",\"Cytoglobin\",\"Xenopus laevis\",\"Xenopus\",2.2875242,\"Chordata\"],[29,20,12,5,\"Uncharacterized protein\",\"Uncharacterized\",\"Oreochromis niloticus\",\"Oreochromis\",2.19807532,\"Chordata\"],[29,20,12,5,\"Cytoglobin\",\"Cytoglobin\",\"Nothobranchius korthausae\",\"Nothobranchius\",2.2776364,\"Chordata\"],[28,20,12,5,\"Uncharacterized protein (Fragment)\",\"Uncharacterized\",\"Gasterosteus aculeatus\",\"Gasterosteus\",2.2892364899999995,\"Chordata\"],[29,20,12,5,\"Cytoglobin\",\"Cytoglobin\",\"Bos mutus\",\"Bos\",2.42091472,\"Chordata\"],[29,20,12,5,\"Cytoglobin 1\",\"Cytoglobin\",\"Iguana iguana\",\"Iguana\",2.26895595,\"Chordata\"],[28,20,12,5,\"Cytoglobin 1\",\"Cytoglobin\",\"Oryzias latipes\",\"Oryzias\",2.25311924,\"Chordata\"],[29,20,12,5,\"Uncharacterized protein\",\"Uncharacterized\",\"Anas platyrhynchos\",\"Anas\",2.24009126,\"Chordata\"],[28,20,12,5,\"Uncharacterized protein\",\"Uncharacterized\",\"Tetraodon nigroviridis\",\"Tetraodon\",2.4499165100000004,\"Chordata\"],[28,20,12,5,\"Uncharacterized protein (Fragment)\",\"Uncharacterized\",\"Takifugu rubripes\",\"Takifugu\",2.4839830600000004,\"Chordata\"],[29,20,12,5,\"Cytoglobin 2\",\"Cytoglobin\",\"Tetraodon nigroviridis\",\"Tetraodon\",2.23168579,\"Chordata\"],[29,20,12,5,\"Uncharacterized protein\",\"Uncharacterized\",\"Tetraodon nigroviridis\",\"Tetraodon\",2.36374552,\"Chordata\"],[28,20,12,5,\"Uncharacterized protein\",\"Uncharacterized\",\"Xiphophorus maculatus\",\"Xiphophorus\",2.2426578000000004,\"Chordata\"],[28,20,12,5,\"Cytoglobin 1\",\"Cytoglobin\",\"Larimichthys crocea\",\"Larimichthys\",2.27502112,\"Chordata\"],[29,20,12,5,\"Uncharacterized protein\",\"Uncharacterized\",\"Oncorhynchus mykiss\",\"Oncorhynchus\",2.20579096,\"Chordata\"],[28,20,12,5,\"Cytoglobin 1\",\"Cytoglobin\",\"Nothobranchius pienaari\",\"Nothobranchius\",2.2369473400000004,\"Chordata\"],[29,20,12,5,\"Cytoglobin\",\"Cytoglobin\",\"Alligator mississippiensis\",\"Alligator\",2.16168743,\"Chordata\"],[29,20,12,5,\"Uncharacterized protein\",\"Uncharacterized\",\"Astyanax mexicanus\",\"Astyanax\",2.05393176,\"Chordata\"],[29,20,12,5,\"Uncharacterized protein\",\"Uncharacterized\",\"Latimeria chalumnae\",\"Latimeria\",2.23058219,\"Chordata\"],[29,20,12,5,\"Cytoglobin 2\",\"Cytoglobin\",\"Ictalurus punctatus\",\"Ictalurus\",2.12180628,\"Chordata\"],[28,20,12,5,\"Cytoglobin\",\"Cytoglobin\",\"Chaenocephalus aceratus\",\"Chaenocephalus\",2.27395144,\"Chordata\"],[29,20,12,5,\"Cygb2 protein\",\"Cygb2\",\"Danio rerio\",\"Danio\",2.05149233,\"Chordata\"],[28,20,12,5,\"Uncharacterized protein\",\"Uncharacterized\",\"Oreochromis niloticus\",\"Oreochromis\",2.15346116,\"Chordata\"],[28,20,12,5,\"Cytoglobin\",\"Cytoglobin\",\"Oncorhynchus mykiss\",\"Oncorhynchus\",2.15784398,\"Chordata\"],[31,20,12,5,\"Uncharacterized protein\",\"Uncharacterized\",\"Astyanax mexicanus\",\"Astyanax\",2.18361902,\"Chordata\"],[31,20,12,5,\"Cytoglobin 1\",\"Cytoglobin\",\"Cyprinus carpio\",\"Cyprinus\",2.06025855,\"Chordata\"],[29,20,12,5,\"Cytoglobin\",\"Cytoglobin\",\"Callorhinchus milii\",\"Callorhinchus\",2.39273588,\"Chordata\"],[31,20,12,5,\"Cytoglobin 1\",\"Cytoglobin\",\"Danio rerio\",\"Danio\",2.16806595,\"Chordata\"],[31,20,12,5,\"Cytoglobin 1\",\"Cytoglobin\",\"Ictalurus punctatus\",\"Ictalurus\",2.19052877,\"Chordata\"],[-1,21,12,5,\"Uncharacterized protein (Fragment)\",\"Uncharacterized\",\"Petromyzon marinus\",\"Petromyzon\",2.23124498,\"Chordata\"],[30,21,12,5,\"Hemoglobin 4\",\"Hemoglobin\",\"Lethenteron camtschaticum\",\"Lethenteron\",2.45118652,\"Chordata\"],[30,21,12,5,\"Uncharacterized protein\",\"Uncharacterized\",\"Petromyzon marinus\",\"Petromyzon\",2.3065607,\"Chordata\"],[30,21,12,5,\"Uncharacterized protein\",\"Uncharacterized\",\"Petromyzon marinus\",\"Petromyzon\",2.36968937,\"Chordata\"],[29,20,12,5,\"Cytoglobin (Fragment)\",\"Cytoglobin\",\"Fundulus heteroclitus\",\"Fundulus\",2.23162917,\"Chordata\"],[28,20,12,5,\"Cytoglobin (Fragment)\",\"Cytoglobin\",\"Fundulus heteroclitus\",\"Fundulus\",2.29198432,\"Chordata\"],[29,20,12,5,\"Inactive rhomboid protein 2\",\"Inactive\",\"Tupaia chinensis\",\"Tupaia\",2.24573612,\"Chordata\"]],\"hovertemplate\":\"<b>%{hovertext}</b><br><br>tree3=%{customdata[2]}<br>pm1=%{x}<br>pm2=%{y}<br>tree1=%{customdata[0]}<br>tree2=%{customdata[1]}<br>tree4=%{customdata[3]}<br>full_name=%{customdata[4]}<br>short_name=%{customdata[5]}<br>full_species=%{customdata[6]}<br>short_species=%{customdata[7]}<br>evo_distance=%{customdata[8]}<br>Color_species=%{customdata[9]}<extra></extra>\",\"hovertext\":[12,12,12,12,12,12,12,12,12,12,12,12,12,12,12,12,12,12,12,12,12,12,12,12,12,12,12,12,12,12,12,12,12,12,12,12],\"legendgroup\":\"12\",\"marker\":{\"color\":\"#ab63fa\",\"symbol\":\"circle\"},\"mode\":\"markers\",\"name\":\"12\",\"orientation\":\"v\",\"showlegend\":true,\"x\":[0.035172593,0.10034406,0.13746834,0.22588786,0.025454134,0.05253985,0.17653883,0.046519518,0.25726655,0.26844394,0.12122353,0.13673663,0.1778969,0.21925424,0.11413265,0.1636301,0.046718437,0.08539279,0.06285928,0.11556991,0.2017095,0.09489424,0.15003914,0.19283715,0.098095894,0.10421624,0.07855949,0.12996544,0.13816556,-0.01645923,-0.038053,-0.021206954,-0.06293256,0.12796772,0.15746285,0.03338514],\"xaxis\":\"x\",\"y\":[0.89182276,0.8897215,0.86697155,0.61486566,0.90770215,0.92514193,0.6304066,0.9080686,0.6385314,0.59241337,0.8783375,0.89920384,0.6015809,0.67594033,0.89717925,0.6540081,0.91742575,0.8715601,0.9170804,0.8364365,0.6432907,0.8614701,0.62999445,0.6628122,0.6716559,0.78143597,0.92277825,0.80130845,0.7330484,0.75018746,0.778727,0.70259005,0.7122428,0.89122725,0.57931584,0.9196903],\"yaxis\":\"y\",\"type\":\"scatter\"},{\"customdata\":[[-1,18,13,5,\"Uncharacterized protein\",\"Uncharacterized\",\"Lepisosteus oculatus\",\"Lepisosteus\",2.35310711,\"Chordata\"],[27,19,13,5,\"Hemoglobin subunit alpha\",\"Hemoglobin\",\"Cavia porcellus\",\"Cavia\",2.68180205,\"Chordata\"],[27,19,13,5,\"Hemoglobin subunit alpha 2\",\"Hemoglobin\",\"Scalopus aquaticus\",\"Scalopus\",2.59465681,\"Chordata\"],[26,19,13,5,\"Uncharacterized protein\",\"Uncharacterized\",\"Neotoma lepida\",\"Neotoma\",2.63834495,\"Chordata\"],[25,18,13,5,\"Globin Y\",\"Globin\",\"Callorhinchus milii\",\"Callorhinchus\",2.51505937,\"Chordata\"],[25,18,13,5,\"Uncharacterized protein\",\"Uncharacterized\",\"Latimeria chalumnae\",\"Latimeria\",2.29929786,\"Chordata\"],[24,18,13,5,\"Uncharacterized protein\",\"Uncharacterized\",\"Xenopus tropicalis\",\"Xenopus\",2.51423061,\"Chordata\"],[24,18,13,5,\"Globin Y\",\"Globin\",\"Xenopus laevis\",\"Xenopus\",2.4560224799999992,\"Chordata\"],[-1,18,13,5,\"Uncharacterized protein\",\"Uncharacterized\",\"Pelodiscus sinensis\",\"Pelodiscus\",2.69837249,\"Chordata\"],[26,19,13,5,\"Hemoglobin subunit rho\",\"Hemoglobin\",\"Alligator mississippiensis\",\"Alligator\",2.98389637,\"Chordata\"],[26,19,13,5,\"Uncharacterized protein\",\"Uncharacterized\",\"Nomascus leucogenys\",\"Nomascus\",2.77009221,\"Chordata\"]],\"hovertemplate\":\"<b>%{hovertext}</b><br><br>tree3=%{customdata[2]}<br>pm1=%{x}<br>pm2=%{y}<br>tree1=%{customdata[0]}<br>tree2=%{customdata[1]}<br>tree4=%{customdata[3]}<br>full_name=%{customdata[4]}<br>short_name=%{customdata[5]}<br>full_species=%{customdata[6]}<br>short_species=%{customdata[7]}<br>evo_distance=%{customdata[8]}<br>Color_species=%{customdata[9]}<extra></extra>\",\"hovertext\":[13,13,13,13,13,13,13,13,13,13,13],\"legendgroup\":\"13\",\"marker\":{\"color\":\"#FFA15A\",\"symbol\":\"circle\"},\"mode\":\"markers\",\"name\":\"13\",\"orientation\":\"v\",\"showlegend\":true,\"x\":[0.34849936,0.30459008,0.28580028,0.27775112,0.347739,0.3670232,0.36706448,0.35457745,0.3612813,0.30572417,0.30080184],\"xaxis\":\"x\",\"y\":[0.8727137,0.86929274,0.8634529,0.88338685,0.88369125,0.87357527,0.8560874,0.86519796,0.882391,0.8805293,0.8894326],\"yaxis\":\"y\",\"type\":\"scatter\"},{\"customdata\":[[-1,-1,6,3,\"Globin\",\"Globin\",\"Gemmatirosa kalamazoonesis\",\"Gemmatirosa\",2.9048387,\"Bacteria\"],[-1,9,6,3,\"Globin\",\"Globin\",\"Gemmatirosa kalamazoonesis\",\"Gemmatirosa\",3.0073288499999995,\"Bacteria\"],[-1,9,6,3,\"Hemin receptor\",\"Hemin\",\"Halothiobacillus sp.\",\"Halothiobacillus\",2.5347764,\"Bacteria\"],[15,8,6,3,\"ARAD1D45562p\",\"ARAD1D45562p\",\"Blastobotrys adeninivorans\",\"Blastobotrys\",3.65177433,\"Fungi\"],[15,8,6,3,\"CYFA0S05e02454g1_1\",\"CYFA0S05e02454g1_1\",\"Cyberlindnera fabianii\",\"Cyberlindnera\",4.11857393,\"Fungi\"]],\"hovertemplate\":\"<b>%{hovertext}</b><br><br>tree3=%{customdata[2]}<br>pm1=%{x}<br>pm2=%{y}<br>tree1=%{customdata[0]}<br>tree2=%{customdata[1]}<br>tree4=%{customdata[3]}<br>full_name=%{customdata[4]}<br>short_name=%{customdata[5]}<br>full_species=%{customdata[6]}<br>short_species=%{customdata[7]}<br>evo_distance=%{customdata[8]}<br>Color_species=%{customdata[9]}<extra></extra>\",\"hovertext\":[6,6,6,6,6],\"legendgroup\":\"6\",\"marker\":{\"color\":\"#19d3f3\",\"symbol\":\"circle\"},\"mode\":\"markers\",\"name\":\"6\",\"orientation\":\"v\",\"showlegend\":true,\"x\":[0.7568627,0.7033223,0.7195444,0.75740016,0.7304571],\"xaxis\":\"x\",\"y\":[-0.31134993,-0.35239106,-0.27304283,-0.3518857,-0.32059604],\"yaxis\":\"y\",\"type\":\"scatter\"},{\"customdata\":[[-1,15,7,4,\"Predicted protein\",\"Predicted\",\"Nematostella vectensis\",\"Nematostella\",3.06309082,\"Cnidaria\"],[20,15,7,4,\"Predicted protein\",\"Predicted\",\"Nematostella vectensis\",\"Nematostella\",2.69558275,\"Cnidaria\"],[-1,15,7,4,\"Predicted protein\",\"Predicted\",\"Nematostella vectensis\",\"Nematostella\",2.74661692,\"Cnidaria\"],[20,15,7,4,\"Predicted protein\",\"Predicted\",\"Nematostella vectensis\",\"Nematostella\",2.46698831,\"Cnidaria\"]],\"hovertemplate\":\"<b>%{hovertext}</b><br><br>tree3=%{customdata[2]}<br>pm1=%{x}<br>pm2=%{y}<br>tree1=%{customdata[0]}<br>tree2=%{customdata[1]}<br>tree4=%{customdata[3]}<br>full_name=%{customdata[4]}<br>short_name=%{customdata[5]}<br>full_species=%{customdata[6]}<br>short_species=%{customdata[7]}<br>evo_distance=%{customdata[8]}<br>Color_species=%{customdata[9]}<extra></extra>\",\"hovertext\":[7,7,7,7],\"legendgroup\":\"7\",\"marker\":{\"color\":\"#FF6692\",\"symbol\":\"circle\"},\"mode\":\"markers\",\"name\":\"7\",\"orientation\":\"v\",\"showlegend\":true,\"x\":[0.4496376,0.3898013,0.42262098,0.39284456],\"xaxis\":\"x\",\"y\":[-0.618326,-0.56718403,-0.5818676,-0.48683637],\"yaxis\":\"y\",\"type\":\"scatter\"},{\"customdata\":[[43,31,17,10,\"Globin 2 A chain\",\"Globin\",\"Anadara inaequivalvis\",\"Anadara\",2.93935263,\"Mollusca\"],[-1,-1,17,10,\"Nerve hemoglobin\",\"Hemoglobin\",\"Spisula solidissima\",\"Spisula\",2.92864342,\"Mollusca\"],[-1,31,17,10,\"Hemoglobin (Heterodimeric)\",\"Hemoglobin\",\"Barbatia virescens\",\"Barbatia\",2.80988922,\"Mollusca\"],[43,31,17,10,\"Globin, minor\",\"Globin,\",\"Anadara trapezia\",\"Anadara\",3.2788812000000003,\"Mollusca\"],[43,31,17,10,\"Globin 2 B chain\",\"Globin\",\"Anadara inaequivalvis\",\"Anadara\",3.13812794,\"Mollusca\"],[-1,-1,17,10,\"Hemoglobin II\",\"Hemoglobin\",\"Phacoides pectinatus\",\"Phacoides\",2.9455253599999995,\"Mollusca\"],[44,30,17,10,\"Two domain chain of the polymeric hemoglobin (Intracellular)\",\"Hemoglobin\",\"Barbatia lima\",\"Barbatia\",2.72130571,\"Mollusca\"],[44,30,17,10,\"Hemoglobin (2 domain)\",\"Hemoglobin\",\"Barbatia lima\",\"Barbatia\",2.73232709,\"Mollusca\"]],\"hovertemplate\":\"<b>%{hovertext}</b><br><br>tree3=%{customdata[2]}<br>pm1=%{x}<br>pm2=%{y}<br>tree1=%{customdata[0]}<br>tree2=%{customdata[1]}<br>tree4=%{customdata[3]}<br>full_name=%{customdata[4]}<br>short_name=%{customdata[5]}<br>full_species=%{customdata[6]}<br>short_species=%{customdata[7]}<br>evo_distance=%{customdata[8]}<br>Color_species=%{customdata[9]}<extra></extra>\",\"hovertext\":[17,17,17,17,17,17,17,17],\"legendgroup\":\"17\",\"marker\":{\"color\":\"#B6E880\",\"symbol\":\"circle\"},\"mode\":\"markers\",\"name\":\"17\",\"orientation\":\"v\",\"showlegend\":true,\"x\":[-0.26913992,-0.21427329,-0.29695117,-0.26053888,-0.26132736,-0.6546928,-0.2493298,-0.25640714],\"xaxis\":\"x\",\"y\":[-0.6253316,-0.5236178,-0.604285,-0.6309342,-0.6243426,0.26391423,-0.60034823,-0.6015103],\"yaxis\":\"y\",\"type\":\"scatter\"},{\"customdata\":[[2,1,2,1,\"Globin 2\",\"Globin\",\"Chironomus riparius\",\"Chironomus\",2.70002825,\"Arthropoda\"],[1,1,2,1,\"Globin\",\"Globin\",\"Polypedilum nubifer\",\"Polypedilum\",2.36102778,\"Arthropoda\"],[1,1,2,1,\"Globin\",\"Globin\",\"Polypedilum vanderplanki\",\"Polypedilum\",2.43793183,\"Arthropoda\"],[3,1,2,1,\"Globin\",\"Globin\",\"Polypedilum vanderplanki\",\"Polypedilum\",2.2183017099999995,\"Arthropoda\"],[2,1,2,1,\"Globin\",\"Globin\",\"Polypedilum nubifer\",\"Polypedilum\",2.47503634,\"Arthropoda\"],[3,1,2,1,\"Globin\",\"Globin\",\"Polypedilum nubifer\",\"Polypedilum\",2.35802433,\"Arthropoda\"],[3,1,2,1,\"Globin\",\"Globin\",\"Polypedilum vanderplanki\",\"Polypedilum\",2.28362716,\"Arthropoda\"],[3,1,2,1,\"Globin 11\",\"Globin\",\"Chironomus riparius\",\"Chironomus\",2.29971074,\"Arthropoda\"],[1,1,2,1,\"ORF E protein\",\"ORF\",\"Chironomus tentans\",\"Chironomus\",2.85858686,\"Arthropoda\"],[1,1,2,1,\"Globin\",\"Globin\",\"Polypedilum nubifer\",\"Polypedilum\",2.56719369,\"Arthropoda\"],[1,1,2,1,\"Globin\",\"Globin\",\"Polypedilum nubifer\",\"Polypedilum\",2.57670915,\"Arthropoda\"],[-1,-1,2,1,\"Globin\",\"Globin\",\"Nerita albicilla\",\"Nerita\",2.08733768,\"Mollusca\"]],\"hovertemplate\":\"<b>%{hovertext}</b><br><br>tree3=%{customdata[2]}<br>pm1=%{x}<br>pm2=%{y}<br>tree1=%{customdata[0]}<br>tree2=%{customdata[1]}<br>tree4=%{customdata[3]}<br>full_name=%{customdata[4]}<br>short_name=%{customdata[5]}<br>full_species=%{customdata[6]}<br>short_species=%{customdata[7]}<br>evo_distance=%{customdata[8]}<br>Color_species=%{customdata[9]}<extra></extra>\",\"hovertext\":[2,2,2,2,2,2,2,2,2,2,2,2],\"legendgroup\":\"2\",\"marker\":{\"color\":\"#FF97FF\",\"symbol\":\"circle\"},\"mode\":\"markers\",\"name\":\"2\",\"orientation\":\"v\",\"showlegend\":true,\"x\":[-0.8683421,-0.8848955,-0.8797937,-0.863739,-0.8809491,-0.8836434,-0.8775135,-0.892957,-0.8990793,-0.893807,-0.8878507,-0.5722885],\"xaxis\":\"x\",\"y\":[0.32990235,0.3173556,0.32228687,0.3131414,0.3317413,0.29823494,0.30634847,0.30591473,0.3189666,0.3269912,0.337026,0.36743116],\"yaxis\":\"y\",\"type\":\"scatter\"},{\"customdata\":[[7,5,1,2,\"Di domain hemoglobin\",\"Hemoglobin\",\"Daphnia magna\",\"Daphnia\",2.95378198,\"Arthropoda\"],[7,5,1,2,\"Putative uncharacterized protein\",\"Putative\",\"Daphnia pulex\",\"Daphnia\",2.7632934700000003,\"Arthropoda\"],[7,5,1,2,\"Putative uncharacterized protein\",\"Putative\",\"Daphnia pulex\",\"Daphnia\",2.79767424,\"Arthropoda\"],[9,4,1,2,\"Putative di domain hemoglobin\",\"Hemoglobin\",\"Daphnia magna\",\"Daphnia\",1.84605186,\"Arthropoda\"],[9,4,1,2,\"Putative di domain hemoglobin\",\"Hemoglobin\",\"Daphnia magna\",\"Daphnia\",1.84634758,\"Arthropoda\"],[9,4,1,2,\"Di domain hemoglobin (Fragment)\",\"Hemoglobin\",\"Daphnia magna\",\"Daphnia\",1.75867537,\"Arthropoda\"],[9,4,1,2,\"Di domain hemoglobin (Fragment)\",\"Hemoglobin\",\"Daphnia magna\",\"Daphnia\",1.7849976899999995,\"Arthropoda\"],[9,4,1,2,\"Putative di domain hemoglobin\",\"Hemoglobin\",\"Daphnia magna\",\"Daphnia\",1.99097658,\"Arthropoda\"],[9,4,1,2,\"Putative di domain hemoglobin (Fragment)\",\"Hemoglobin\",\"Daphnia magna\",\"Daphnia\",1.89847506,\"Arthropoda\"],[9,4,1,2,\"Putative di domain hemoglobin\",\"Hemoglobin\",\"Daphnia magna\",\"Daphnia\",2.00307168,\"Arthropoda\"],[-1,5,1,2,\"Di domain hemoglobin (Fragment)\",\"Hemoglobin\",\"Daphnia magna\",\"Daphnia\",2.36856662,\"Arthropoda\"],[6,5,1,2,\"Di domain hemoglobin\",\"Hemoglobin\",\"Daphnia magna\",\"Daphnia\",3.08054532,\"Arthropoda\"],[9,4,1,2,\"Putative uncharacterized protein\",\"Putative\",\"Daphnia pulex\",\"Daphnia\",1.88554508,\"Arthropoda\"],[9,4,1,2,\"Hemoglobin\",\"Hemoglobin\",\"Daphnia magna\",\"Daphnia\",1.82335212,\"Arthropoda\"],[9,4,1,2,\"Hemoglobin\",\"Hemoglobin\",\"Daphnia pulex\",\"Daphnia\",1.85557538,\"Arthropoda\"],[9,4,1,2,\"Hemoglobin\",\"Hemoglobin\",\"Daphnia pulex\",\"Daphnia\",1.88942132,\"Arthropoda\"],[9,4,1,2,\"Hemoglobin\",\"Hemoglobin\",\"Daphnia pulex\",\"Daphnia\",1.91532281,\"Arthropoda\"],[9,4,1,2,\"Di domain hemoglobin\",\"Hemoglobin\",\"Daphnia magna\",\"Daphnia\",1.92797924,\"Arthropoda\"],[8,5,1,2,\"Putative uncharacterized protein (Fragment)\",\"Putative\",\"Daphnia pulex\",\"Daphnia\",2.34983516,\"Arthropoda\"],[8,5,1,2,\"Uncharacterized protein (Fragment)\",\"Uncharacterized\",\"Daphnia magna\",\"Daphnia\",2.22413281,\"Arthropoda\"],[9,4,1,2,\"Putative di domain hemoglobin (Fragment)\",\"Hemoglobin\",\"Daphnia magna\",\"Daphnia\",1.97351688,\"Arthropoda\"],[9,4,1,2,\"Di domain hemoglobin\",\"Hemoglobin\",\"Daphnia magna\",\"Daphnia\",2.01628845,\"Arthropoda\"],[6,5,1,2,\"Di domain hemoglobin (Fragment)\",\"Hemoglobin\",\"Daphnia magna\",\"Daphnia\",2.94537689,\"Arthropoda\"],[9,4,1,2,\"Di domain hemoglobin like protein\",\"Hemoglobin\",\"Daphnia magna\",\"Daphnia\",2.34751979,\"Arthropoda\"]],\"hovertemplate\":\"<b>%{hovertext}</b><br><br>tree3=%{customdata[2]}<br>pm1=%{x}<br>pm2=%{y}<br>tree1=%{customdata[0]}<br>tree2=%{customdata[1]}<br>tree4=%{customdata[3]}<br>full_name=%{customdata[4]}<br>short_name=%{customdata[5]}<br>full_species=%{customdata[6]}<br>short_species=%{customdata[7]}<br>evo_distance=%{customdata[8]}<br>Color_species=%{customdata[9]}<extra></extra>\",\"hovertext\":[1,1,1,1,1,1,1,1,1,1,1,1,1,1,1,1,1,1,1,1,1,1,1,1],\"legendgroup\":\"1\",\"marker\":{\"color\":\"#FECB52\",\"symbol\":\"circle\"},\"mode\":\"markers\",\"name\":\"1\",\"orientation\":\"v\",\"showlegend\":true,\"x\":[-0.7360183,-0.73913395,-0.73716295,-0.69659466,-0.6825689,-0.7207162,-0.7214728,-0.6498108,-0.67505234,-0.67153835,-0.72449684,-0.7454826,-0.7313903,-0.74990076,-0.7540449,-0.76117057,-0.75870085,-0.7035043,-0.72347367,-0.7008931,-0.70766443,-0.71583647,-0.74533737,-0.6952113],\"xaxis\":\"x\",\"y\":[-0.6108962,-0.6168871,-0.6220088,-0.5037919,-0.48971206,-0.50741327,-0.53169763,-0.5359842,-0.54306906,-0.5203888,-0.61525196,-0.60739666,-0.49065658,-0.53087693,-0.5056832,-0.50007147,-0.5146827,-0.48809543,-0.58513314,-0.592138,-0.4491311,-0.4661296,-0.61631054,-0.47226295],\"yaxis\":\"y\",\"type\":\"scatter\"},{\"customdata\":[[42,32,16,10,\"Globin\",\"Globin\",\"Nassarius mutabilis\",\"Nassarius\",2.69282831,\"Mollusca\"],[41,32,16,10,\"Uncharacterized protein\",\"Uncharacterized\",\"Lottia gigantea\",\"Lottia\",2.30991023,\"Mollusca\"],[41,32,16,10,\"Uncharacterized protein\",\"Uncharacterized\",\"Lottia gigantea\",\"Lottia\",2.3265049,\"Mollusca\"],[42,32,16,10,\"Globin\",\"Globin\",\"Cerithidea rhizophorarum\",\"Cerithidea\",2.81440342,\"Mollusca\"]],\"hovertemplate\":\"<b>%{hovertext}</b><br><br>tree3=%{customdata[2]}<br>pm1=%{x}<br>pm2=%{y}<br>tree1=%{customdata[0]}<br>tree2=%{customdata[1]}<br>tree4=%{customdata[3]}<br>full_name=%{customdata[4]}<br>short_name=%{customdata[5]}<br>full_species=%{customdata[6]}<br>short_species=%{customdata[7]}<br>evo_distance=%{customdata[8]}<br>Color_species=%{customdata[9]}<extra></extra>\",\"hovertext\":[16,16,16,16],\"legendgroup\":\"16\",\"marker\":{\"color\":\"#636efa\",\"symbol\":\"circle\"},\"mode\":\"markers\",\"name\":\"16\",\"orientation\":\"v\",\"showlegend\":true,\"x\":[-0.62851083,-0.62938076,-0.62264246,-0.6287871],\"xaxis\":\"x\",\"y\":[0.34271908,0.31993392,0.32381314,0.33524784],\"yaxis\":\"y\",\"type\":\"scatter\"},{\"customdata\":[[-1,-1,-1,8,\"Globin (Fragment)\",\"Globin\",\"Operophtera brumata\",\"Operophtera\",2.5920814199999995,\"Arthropoda\"],[-1,-1,-1,3,\"Predicted protein\",\"Predicted\",\"Nematostella vectensis\",\"Nematostella\",3.13699746,\"Cnidaria\"],[-1,-1,-1,2,\"Putative di domain hemoglobin (Fragment)\",\"Hemoglobin\",\"Daphnia magna\",\"Daphnia\",2.5254769,\"Arthropoda\"]],\"hovertemplate\":\"<b>%{hovertext}</b><br><br>tree3=%{customdata[2]}<br>pm1=%{x}<br>pm2=%{y}<br>tree1=%{customdata[0]}<br>tree2=%{customdata[1]}<br>tree4=%{customdata[3]}<br>full_name=%{customdata[4]}<br>short_name=%{customdata[5]}<br>full_species=%{customdata[6]}<br>short_species=%{customdata[7]}<br>evo_distance=%{customdata[8]}<br>Color_species=%{customdata[9]}<extra></extra>\",\"hovertext\":[-1,-1,-1],\"legendgroup\":\"-1\",\"marker\":{\"color\":\"#c7c7c7\",\"symbol\":\"circle\"},\"mode\":\"markers\",\"name\":\"-1\",\"orientation\":\"v\",\"showlegend\":true,\"x\":[0.30275017,0.6561514,-0.6642118],\"xaxis\":\"x\",\"y\":[0.7450999,-0.22333336,-0.31308085],\"yaxis\":\"y\",\"type\":\"scatter\"},{\"customdata\":[[46,35,19,10,\"Globin\",\"Globin\",\"Ancylostoma ceylanicum\",\"Ancylostoma\",2.22981155,\"Nematoda\"],[46,35,19,10,\"Uncharacterized protein\",\"Uncharacterized\",\"Angiostrongylus costaricensis\",\"Angiostrongylus\",2.13371016,\"Nematoda\"],[46,35,19,10,\"Globin\",\"Globin\",\"Necator americanus\",\"Necator\",2.35159293,\"Nematoda\"],[-1,-1,19,10,\"Cytoglobin1like [Saccoglossus kowalevskii]\",\"Cytoglobin\",\"Lepeophtheirus salmonis\",\"Lepeophtheirus\",2.17551995,\"Arthropoda\"]],\"hovertemplate\":\"<b>%{hovertext}</b><br><br>tree3=%{customdata[2]}<br>pm1=%{x}<br>pm2=%{y}<br>tree1=%{customdata[0]}<br>tree2=%{customdata[1]}<br>tree4=%{customdata[3]}<br>full_name=%{customdata[4]}<br>short_name=%{customdata[5]}<br>full_species=%{customdata[6]}<br>short_species=%{customdata[7]}<br>evo_distance=%{customdata[8]}<br>Color_species=%{customdata[9]}<extra></extra>\",\"hovertext\":[19,19,19,19],\"legendgroup\":\"19\",\"marker\":{\"color\":\"#EF553B\",\"symbol\":\"circle\"},\"mode\":\"markers\",\"name\":\"19\",\"orientation\":\"v\",\"showlegend\":true,\"x\":[0.052404426,0.11024538,0.05985758,-0.521387],\"xaxis\":\"x\",\"y\":[-0.01993436,-0.054958884,-0.081791446,0.19650923],\"yaxis\":\"y\",\"type\":\"scatter\"},{\"customdata\":[[32,22,11,5,\"Hemoglobin (Fragment)\",\"Hemoglobin\",\"Biomphalaria glabrata\",\"Biomphalaria\",3.48471231,\"Mollusca\"],[32,22,11,5,\"Uncharacterized protein\",\"Uncharacterized\",\"Biomphalaria glabrata\",\"Biomphalaria\",3.63841564,\"Mollusca\"],[32,22,11,5,\"Uncharacterized protein\",\"Uncharacterized\",\"Biomphalaria glabrata\",\"Biomphalaria\",3.38373079,\"Mollusca\"],[32,22,11,5,\"Haemoglobin type 1\",\"Hemoglobin\",\"Biomphalaria glabrata\",\"Biomphalaria\",3.53221633,\"Mollusca\"],[32,22,11,5,\"Uncharacterized protein\",\"Uncharacterized\",\"Biomphalaria glabrata\",\"Biomphalaria\",3.61489538,\"Mollusca\"]],\"hovertemplate\":\"<b>%{hovertext}</b><br><br>tree3=%{customdata[2]}<br>pm1=%{x}<br>pm2=%{y}<br>tree1=%{customdata[0]}<br>tree2=%{customdata[1]}<br>tree4=%{customdata[3]}<br>full_name=%{customdata[4]}<br>short_name=%{customdata[5]}<br>full_species=%{customdata[6]}<br>short_species=%{customdata[7]}<br>evo_distance=%{customdata[8]}<br>Color_species=%{customdata[9]}<extra></extra>\",\"hovertext\":[11,11,11,11,11],\"legendgroup\":\"11\",\"marker\":{\"color\":\"#00cc96\",\"symbol\":\"circle\"},\"mode\":\"markers\",\"name\":\"11\",\"orientation\":\"v\",\"showlegend\":true,\"x\":[-0.34052688,-0.36898214,-0.30988726,-0.3534192,-0.3310051],\"xaxis\":\"x\",\"y\":[0.7340775,0.74283814,0.75794506,0.7258138,0.7550632],\"yaxis\":\"y\",\"type\":\"scatter\"},{\"customdata\":[[-1,25,15,8,\"Metalloendopeptidase\",\"Metalloendopeptidase\",\"Globodera pallida\",\"Globodera\",2.86594104,\"Nematoda\"],[-1,25,15,8,\"Uncharacterized protein\",\"Uncharacterized\",\"Strongyloides stercoralis\",\"Strongyloides\",3.19295417,\"Nematoda\"]],\"hovertemplate\":\"<b>%{hovertext}</b><br><br>tree3=%{customdata[2]}<br>pm1=%{x}<br>pm2=%{y}<br>tree1=%{customdata[0]}<br>tree2=%{customdata[1]}<br>tree4=%{customdata[3]}<br>full_name=%{customdata[4]}<br>short_name=%{customdata[5]}<br>full_species=%{customdata[6]}<br>short_species=%{customdata[7]}<br>evo_distance=%{customdata[8]}<br>Color_species=%{customdata[9]}<extra></extra>\",\"hovertext\":[15,15],\"legendgroup\":\"15\",\"marker\":{\"color\":\"#ab63fa\",\"symbol\":\"circle\"},\"mode\":\"markers\",\"name\":\"15\",\"orientation\":\"v\",\"showlegend\":true,\"x\":[0.1476759,0.198087],\"xaxis\":\"x\",\"y\":[-0.7522982,-0.8299223],\"yaxis\":\"y\",\"type\":\"scatter\"}],                        {\"template\":{\"data\":{\"histogram2dcontour\":[{\"type\":\"histogram2dcontour\",\"colorbar\":{\"outlinewidth\":0,\"ticks\":\"\"},\"colorscale\":[[0.0,\"#0d0887\"],[0.1111111111111111,\"#46039f\"],[0.2222222222222222,\"#7201a8\"],[0.3333333333333333,\"#9c179e\"],[0.4444444444444444,\"#bd3786\"],[0.5555555555555556,\"#d8576b\"],[0.6666666666666666,\"#ed7953\"],[0.7777777777777778,\"#fb9f3a\"],[0.8888888888888888,\"#fdca26\"],[1.0,\"#f0f921\"]]}],\"choropleth\":[{\"type\":\"choropleth\",\"colorbar\":{\"outlinewidth\":0,\"ticks\":\"\"}}],\"histogram2d\":[{\"type\":\"histogram2d\",\"colorbar\":{\"outlinewidth\":0,\"ticks\":\"\"},\"colorscale\":[[0.0,\"#0d0887\"],[0.1111111111111111,\"#46039f\"],[0.2222222222222222,\"#7201a8\"],[0.3333333333333333,\"#9c179e\"],[0.4444444444444444,\"#bd3786\"],[0.5555555555555556,\"#d8576b\"],[0.6666666666666666,\"#ed7953\"],[0.7777777777777778,\"#fb9f3a\"],[0.8888888888888888,\"#fdca26\"],[1.0,\"#f0f921\"]]}],\"heatmap\":[{\"type\":\"heatmap\",\"colorbar\":{\"outlinewidth\":0,\"ticks\":\"\"},\"colorscale\":[[0.0,\"#0d0887\"],[0.1111111111111111,\"#46039f\"],[0.2222222222222222,\"#7201a8\"],[0.3333333333333333,\"#9c179e\"],[0.4444444444444444,\"#bd3786\"],[0.5555555555555556,\"#d8576b\"],[0.6666666666666666,\"#ed7953\"],[0.7777777777777778,\"#fb9f3a\"],[0.8888888888888888,\"#fdca26\"],[1.0,\"#f0f921\"]]}],\"heatmapgl\":[{\"type\":\"heatmapgl\",\"colorbar\":{\"outlinewidth\":0,\"ticks\":\"\"},\"colorscale\":[[0.0,\"#0d0887\"],[0.1111111111111111,\"#46039f\"],[0.2222222222222222,\"#7201a8\"],[0.3333333333333333,\"#9c179e\"],[0.4444444444444444,\"#bd3786\"],[0.5555555555555556,\"#d8576b\"],[0.6666666666666666,\"#ed7953\"],[0.7777777777777778,\"#fb9f3a\"],[0.8888888888888888,\"#fdca26\"],[1.0,\"#f0f921\"]]}],\"contourcarpet\":[{\"type\":\"contourcarpet\",\"colorbar\":{\"outlinewidth\":0,\"ticks\":\"\"}}],\"contour\":[{\"type\":\"contour\",\"colorbar\":{\"outlinewidth\":0,\"ticks\":\"\"},\"colorscale\":[[0.0,\"#0d0887\"],[0.1111111111111111,\"#46039f\"],[0.2222222222222222,\"#7201a8\"],[0.3333333333333333,\"#9c179e\"],[0.4444444444444444,\"#bd3786\"],[0.5555555555555556,\"#d8576b\"],[0.6666666666666666,\"#ed7953\"],[0.7777777777777778,\"#fb9f3a\"],[0.8888888888888888,\"#fdca26\"],[1.0,\"#f0f921\"]]}],\"surface\":[{\"type\":\"surface\",\"colorbar\":{\"outlinewidth\":0,\"ticks\":\"\"},\"colorscale\":[[0.0,\"#0d0887\"],[0.1111111111111111,\"#46039f\"],[0.2222222222222222,\"#7201a8\"],[0.3333333333333333,\"#9c179e\"],[0.4444444444444444,\"#bd3786\"],[0.5555555555555556,\"#d8576b\"],[0.6666666666666666,\"#ed7953\"],[0.7777777777777778,\"#fb9f3a\"],[0.8888888888888888,\"#fdca26\"],[1.0,\"#f0f921\"]]}],\"mesh3d\":[{\"type\":\"mesh3d\",\"colorbar\":{\"outlinewidth\":0,\"ticks\":\"\"}}],\"scatter\":[{\"fillpattern\":{\"fillmode\":\"overlay\",\"size\":10,\"solidity\":0.2},\"type\":\"scatter\"}],\"parcoords\":[{\"type\":\"parcoords\",\"line\":{\"colorbar\":{\"outlinewidth\":0,\"ticks\":\"\"}}}],\"scatterpolargl\":[{\"type\":\"scatterpolargl\",\"marker\":{\"colorbar\":{\"outlinewidth\":0,\"ticks\":\"\"}}}],\"bar\":[{\"error_x\":{\"color\":\"#2a3f5f\"},\"error_y\":{\"color\":\"#2a3f5f\"},\"marker\":{\"line\":{\"color\":\"#E5ECF6\",\"width\":0.5},\"pattern\":{\"fillmode\":\"overlay\",\"size\":10,\"solidity\":0.2}},\"type\":\"bar\"}],\"scattergeo\":[{\"type\":\"scattergeo\",\"marker\":{\"colorbar\":{\"outlinewidth\":0,\"ticks\":\"\"}}}],\"scatterpolar\":[{\"type\":\"scatterpolar\",\"marker\":{\"colorbar\":{\"outlinewidth\":0,\"ticks\":\"\"}}}],\"histogram\":[{\"marker\":{\"pattern\":{\"fillmode\":\"overlay\",\"size\":10,\"solidity\":0.2}},\"type\":\"histogram\"}],\"scattergl\":[{\"type\":\"scattergl\",\"marker\":{\"colorbar\":{\"outlinewidth\":0,\"ticks\":\"\"}}}],\"scatter3d\":[{\"type\":\"scatter3d\",\"line\":{\"colorbar\":{\"outlinewidth\":0,\"ticks\":\"\"}},\"marker\":{\"colorbar\":{\"outlinewidth\":0,\"ticks\":\"\"}}}],\"scattermapbox\":[{\"type\":\"scattermapbox\",\"marker\":{\"colorbar\":{\"outlinewidth\":0,\"ticks\":\"\"}}}],\"scatterternary\":[{\"type\":\"scatterternary\",\"marker\":{\"colorbar\":{\"outlinewidth\":0,\"ticks\":\"\"}}}],\"scattercarpet\":[{\"type\":\"scattercarpet\",\"marker\":{\"colorbar\":{\"outlinewidth\":0,\"ticks\":\"\"}}}],\"carpet\":[{\"aaxis\":{\"endlinecolor\":\"#2a3f5f\",\"gridcolor\":\"white\",\"linecolor\":\"white\",\"minorgridcolor\":\"white\",\"startlinecolor\":\"#2a3f5f\"},\"baxis\":{\"endlinecolor\":\"#2a3f5f\",\"gridcolor\":\"white\",\"linecolor\":\"white\",\"minorgridcolor\":\"white\",\"startlinecolor\":\"#2a3f5f\"},\"type\":\"carpet\"}],\"table\":[{\"cells\":{\"fill\":{\"color\":\"#EBF0F8\"},\"line\":{\"color\":\"white\"}},\"header\":{\"fill\":{\"color\":\"#C8D4E3\"},\"line\":{\"color\":\"white\"}},\"type\":\"table\"}],\"barpolar\":[{\"marker\":{\"line\":{\"color\":\"#E5ECF6\",\"width\":0.5},\"pattern\":{\"fillmode\":\"overlay\",\"size\":10,\"solidity\":0.2}},\"type\":\"barpolar\"}],\"pie\":[{\"automargin\":true,\"type\":\"pie\"}]},\"layout\":{\"autotypenumbers\":\"strict\",\"colorway\":[\"#636efa\",\"#EF553B\",\"#00cc96\",\"#ab63fa\",\"#FFA15A\",\"#19d3f3\",\"#FF6692\",\"#B6E880\",\"#FF97FF\",\"#FECB52\"],\"font\":{\"color\":\"#2a3f5f\"},\"hovermode\":\"closest\",\"hoverlabel\":{\"align\":\"left\"},\"paper_bgcolor\":\"white\",\"plot_bgcolor\":\"#E5ECF6\",\"polar\":{\"bgcolor\":\"#E5ECF6\",\"angularaxis\":{\"gridcolor\":\"white\",\"linecolor\":\"white\",\"ticks\":\"\"},\"radialaxis\":{\"gridcolor\":\"white\",\"linecolor\":\"white\",\"ticks\":\"\"}},\"ternary\":{\"bgcolor\":\"#E5ECF6\",\"aaxis\":{\"gridcolor\":\"white\",\"linecolor\":\"white\",\"ticks\":\"\"},\"baxis\":{\"gridcolor\":\"white\",\"linecolor\":\"white\",\"ticks\":\"\"},\"caxis\":{\"gridcolor\":\"white\",\"linecolor\":\"white\",\"ticks\":\"\"}},\"coloraxis\":{\"colorbar\":{\"outlinewidth\":0,\"ticks\":\"\"}},\"colorscale\":{\"sequential\":[[0.0,\"#0d0887\"],[0.1111111111111111,\"#46039f\"],[0.2222222222222222,\"#7201a8\"],[0.3333333333333333,\"#9c179e\"],[0.4444444444444444,\"#bd3786\"],[0.5555555555555556,\"#d8576b\"],[0.6666666666666666,\"#ed7953\"],[0.7777777777777778,\"#fb9f3a\"],[0.8888888888888888,\"#fdca26\"],[1.0,\"#f0f921\"]],\"sequentialminus\":[[0.0,\"#0d0887\"],[0.1111111111111111,\"#46039f\"],[0.2222222222222222,\"#7201a8\"],[0.3333333333333333,\"#9c179e\"],[0.4444444444444444,\"#bd3786\"],[0.5555555555555556,\"#d8576b\"],[0.6666666666666666,\"#ed7953\"],[0.7777777777777778,\"#fb9f3a\"],[0.8888888888888888,\"#fdca26\"],[1.0,\"#f0f921\"]],\"diverging\":[[0,\"#8e0152\"],[0.1,\"#c51b7d\"],[0.2,\"#de77ae\"],[0.3,\"#f1b6da\"],[0.4,\"#fde0ef\"],[0.5,\"#f7f7f7\"],[0.6,\"#e6f5d0\"],[0.7,\"#b8e186\"],[0.8,\"#7fbc41\"],[0.9,\"#4d9221\"],[1,\"#276419\"]]},\"xaxis\":{\"gridcolor\":\"white\",\"linecolor\":\"white\",\"ticks\":\"\",\"title\":{\"standoff\":15},\"zerolinecolor\":\"white\",\"automargin\":true,\"zerolinewidth\":2},\"yaxis\":{\"gridcolor\":\"white\",\"linecolor\":\"white\",\"ticks\":\"\",\"title\":{\"standoff\":15},\"zerolinecolor\":\"white\",\"automargin\":true,\"zerolinewidth\":2},\"scene\":{\"xaxis\":{\"backgroundcolor\":\"#E5ECF6\",\"gridcolor\":\"white\",\"linecolor\":\"white\",\"showbackground\":true,\"ticks\":\"\",\"zerolinecolor\":\"white\",\"gridwidth\":2},\"yaxis\":{\"backgroundcolor\":\"#E5ECF6\",\"gridcolor\":\"white\",\"linecolor\":\"white\",\"showbackground\":true,\"ticks\":\"\",\"zerolinecolor\":\"white\",\"gridwidth\":2},\"zaxis\":{\"backgroundcolor\":\"#E5ECF6\",\"gridcolor\":\"white\",\"linecolor\":\"white\",\"showbackground\":true,\"ticks\":\"\",\"zerolinecolor\":\"white\",\"gridwidth\":2}},\"shapedefaults\":{\"line\":{\"color\":\"#2a3f5f\"}},\"annotationdefaults\":{\"arrowcolor\":\"#2a3f5f\",\"arrowhead\":0,\"arrowwidth\":1},\"geo\":{\"bgcolor\":\"white\",\"landcolor\":\"#E5ECF6\",\"subunitcolor\":\"white\",\"showland\":true,\"showlakes\":true,\"lakecolor\":\"white\"},\"title\":{\"x\":0.05},\"mapbox\":{\"style\":\"light\"}}},\"xaxis\":{\"anchor\":\"y\",\"domain\":[0.0,1.0],\"title\":{\"text\":\"pm1\"},\"range\":[-1.1,1.1],\"constrain\":\"domain\"},\"yaxis\":{\"anchor\":\"x\",\"domain\":[0.0,1.0],\"title\":{\"text\":\"pm2\"},\"scaleanchor\":\"x\",\"scaleratio\":1},\"legend\":{\"title\":{\"text\":\"tree3\"},\"tracegroupgap\":0},\"title\":{\"text\":\"PM projection of globins colored by phylogenetic tree cluster\",\"x\":0.5},\"height\":800,\"shapes\":[{\"line\":{\"color\":\"black\",\"dash\":\"dot\"},\"opacity\":0.15,\"type\":\"circle\",\"x0\":-0.47058823529411764,\"x1\":0.47058823529411764,\"y0\":-0.47058823529411764,\"y1\":0.47058823529411764},{\"line\":{\"color\":\"black\",\"dash\":\"dot\"},\"opacity\":0.15,\"type\":\"circle\",\"x0\":-0.6447368421052633,\"x1\":0.6447368421052633,\"y0\":-0.6447368421052633,\"y1\":0.6447368421052633},{\"line\":{\"color\":\"black\",\"dash\":\"dot\"},\"opacity\":0.15,\"type\":\"circle\",\"x0\":-0.7705382436260623,\"x1\":0.7705382436260623,\"y0\":-0.7705382436260623,\"y1\":0.7705382436260623},{\"line\":{\"color\":\"black\",\"dash\":\"dot\"},\"opacity\":0.15,\"type\":\"circle\",\"x0\":-0.8557007125890737,\"x1\":0.8557007125890737,\"y0\":-0.8557007125890737,\"y1\":0.8557007125890737},{\"line\":{\"color\":\"black\",\"dash\":\"dot\"},\"opacity\":0.15,\"type\":\"circle\",\"x0\":-0.9108474990827933,\"x1\":0.9108474990827933,\"y0\":-0.9108474990827933,\"y1\":0.9108474990827933},{\"line\":{\"color\":\"black\",\"dash\":\"dot\"},\"opacity\":0.15,\"type\":\"circle\",\"x0\":-0.9455374041239167,\"x1\":0.9455374041239167,\"y0\":-0.9455374041239167,\"y1\":0.9455374041239167},{\"line\":{\"color\":\"Black\"},\"type\":\"circle\",\"x0\":-1,\"x1\":1,\"xref\":\"x\",\"y0\":-1,\"y1\":1,\"yref\":\"y\"},{\"fillcolor\":\"Black\",\"line\":{\"color\":\"Black\"},\"type\":\"circle\",\"x0\":-0.005,\"x1\":0.005,\"xref\":\"x\",\"y0\":-0.005,\"y1\":0.005,\"yref\":\"y\"}],\"yaxis2\":{\"matches\":\"y\",\"layer\":\"below traces\",\"overlaying\":\"y\"},\"plot_bgcolor\":\"rgba(0, 0, 0, 0)\",\"font\":{\"size\":11}},                        {\"responsive\": true}                    ).then(function(){\n",
       "                            \n",
       "var gd = document.getElementById('ec8f3ad7-092c-4146-85e9-8cf5fe8bc8ab');\n",
       "var x = new MutationObserver(function (mutations, observer) {{\n",
       "        var display = window.getComputedStyle(gd).display;\n",
       "        if (!display || display === 'none') {{\n",
       "            console.log([gd, 'removed!']);\n",
       "            Plotly.purge(gd);\n",
       "            observer.disconnect();\n",
       "        }}\n",
       "}});\n",
       "\n",
       "// Listen for the removal of the full notebook cells\n",
       "var notebookContainer = gd.closest('#notebook-container');\n",
       "if (notebookContainer) {{\n",
       "    x.observe(notebookContainer, {childList: true});\n",
       "}}\n",
       "\n",
       "// Listen for the clearing of the current output cell\n",
       "var outputEl = gd.closest('.output');\n",
       "if (outputEl) {{\n",
       "    x.observe(outputEl, {childList: true});\n",
       "}}\n",
       "\n",
       "                        })                };                });            </script>        </div>"
      ]
     },
     "metadata": {},
     "output_type": "display_data"
    }
   ],
   "source": [
    "trace1 = plot_embedding_interactive(df5, \n",
    "                                    labels_name = 'tree3',\n",
    "                                    show_text=True, \n",
    "                                    color_palette = globin_palette,\n",
    "                                    title = \"PM projection of globins colored by phylogenetic tree cluster\",\n",
    "                                    fontsize = 11\n",
    "                              )\n",
    "trace1.write_image(path_to_figures+\"/Globins_by_tree3.pdf\")\n",
    "trace1.show()"
   ]
  },
  {
   "cell_type": "code",
   "execution_count": null,
   "id": "b8f7253e",
   "metadata": {},
   "outputs": [],
   "source": []
  }
 ],
 "metadata": {
  "kernelspec": {
   "display_name": "msa",
   "language": "python",
   "name": "msa"
  },
  "language_info": {
   "codemirror_mode": {
    "name": "ipython",
    "version": 3
   },
   "file_extension": ".py",
   "mimetype": "text/x-python",
   "name": "python",
   "nbconvert_exporter": "python",
   "pygments_lexer": "ipython3",
   "version": "3.7.9"
  }
 },
 "nbformat": 4,
 "nbformat_minor": 5
}
