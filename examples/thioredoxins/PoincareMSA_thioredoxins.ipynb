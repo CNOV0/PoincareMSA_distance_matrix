{
 "cells": [
  {
   "cell_type": "markdown",
   "metadata": {},
   "source": [
    "[![Open In Colab](https://colab.research.google.com/assets/colab-badge.svg)](https://colab.research.google.com/github/klanita/PoincareMSA/blob/master/PoincareMSA_colab.ipynb)"
   ]
  },
  {
   "cell_type": "markdown",
   "metadata": {
    "id": "W5FTaqy0xqw2"
   },
   "source": [
    "<img src=\"https://github.com/klanita/PoincareMSA/blob/master/.github/PoincareMSA_small_logo.png?raw=true\" height=\"100\" style=\"height:100px;margin-left: 0px;\">\n",
    "\n",
    "\n",
    "# Poincaré maps for visualization of large protein famillies\n",
    "\n",
    "PoincareMSA builds a projection of protein multiple sequence alignemnt (MSA) on a Poincaré disk. The proximity of the points to the disk center corresponds to their hierarchy and correlates with the proximity of the proteins to the root of the phylogenetic tree. Thus, must central point often correspond to the ancestor proteins and protein located close to the border to the leaves of phylogenetic tree."
   ]
  },
  {
   "cell_type": "markdown",
   "metadata": {
    "id": "Oa7Rrq-YzfQB"
   },
   "source": [
    "# Notebook initialization"
   ]
  },
  {
   "cell_type": "markdown",
   "metadata": {},
   "source": [
    "### Load dependencies"
   ]
  },
  {
   "cell_type": "code",
   "execution_count": 1,
   "metadata": {
    "cellView": "form",
    "colab": {
     "base_uri": "https://localhost:8080/"
    },
    "id": "X_SO37g-kQq7",
    "outputId": "c30184db-2ef2-4a87-fd43-db8fd3ed5379"
   },
   "outputs": [],
   "source": [
    "import os\n",
    "import numpy as np\n",
    "import pandas as pd\n",
    "import warnings\n",
    "warnings.filterwarnings('ignore')\n",
    "\n",
    "#Import visualization functions\n",
    "from scripts.visualize_projection.pplots_new import read_embeddings, plot_embedding, plot_embedding_interactive, rotate, get_colors\n",
    "%matplotlib inline\n",
    "\n",
    "#Create optional variables\n",
    "path_annotation = \"\""
   ]
  },
  {
   "cell_type": "markdown",
   "metadata": {
    "id": "IPi6cky3wgC8"
   },
   "source": [
    "# Data import"
   ]
  },
  {
   "cell_type": "code",
   "execution_count": 2,
   "metadata": {
    "cellView": "form",
    "colab": {
     "base_uri": "https://localhost:8080/",
     "height": 75,
     "resources": {
      "http://localhost:8080/nbextensions/google.colab/files.js": {
       "data": "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",
       "headers": [
        [
         "content-type",
         "application/javascript"
        ]
       ],
       "ok": true,
       "status": 200,
       "status_text": "OK"
      }
     }
    },
    "id": "GcbgnooHwIGh",
    "outputId": "dc30ce27-d01c-4953-cdb7-9d5fe599ad6d"
   },
   "outputs": [
    {
     "name": "stdout",
     "output_type": "stream",
     "text": [
      "\n",
      "Number of sequences found: 210.\n",
      "\n",
      "Annotation file correctly loaded.\n",
      "5 annotations found: ['Unnamed: 0', 'Species', 'Kingdom', 'Family', 'Color_eukaryota'].\n"
     ]
    }
   ],
   "source": [
    "# OPTIONS =================================================\n",
    "mfasta = \"new_examples/thioredoxins/thioredoxins.mfasta\"\n",
    "path_annotation = \"new_examples/thioredoxins/thioredoxin_annotation.csv\"\n",
    "#==========================================================\n",
    "\n",
    "#Check files\n",
    "#mfasta\n",
    "nb_seq = 0\n",
    "if os.path.isfile(mfasta):\n",
    "    with open(mfasta, \"r\") as f_in:\n",
    "        for line in f_in:\n",
    "            if line[0] == \">\":\n",
    "                nb_seq += 1\n",
    "    print(f\"\\nNumber of sequences found: {nb_seq}.\")\n",
    "else:\n",
    "    print(f\"File {mfasta} not found.\")\n",
    "\n",
    "#Annotations\n",
    "if os.path.isfile(path_annotation):\n",
    "    try:\n",
    "        df_annotation = pd.read_csv(path_annotation)\n",
    "        if len(df_annotation) != nb_seq:\n",
    "            raise ValueError(\"Annotation file doesn't match the .mfasta file length.\")\n",
    "    except:\n",
    "        raise ValueError(\"Annotation file is not in .csv format.\")\n",
    "    print(\"\\nAnnotation file correctly loaded.\")\n",
    "    annotation_names = list(df_annotation.columns)\n",
    "    print(f\"{len(annotation_names)} annotations found: {annotation_names}.\")\n",
    "else:\n",
    "    print(f\"File {path_annotation} not found\")"
   ]
  },
  {
   "cell_type": "markdown",
   "metadata": {
    "id": "_H2vnIt_3kUz"
   },
   "source": [
    "# Settings"
   ]
  },
  {
   "cell_type": "code",
   "execution_count": 3,
   "metadata": {
    "cellView": "form",
    "id": "9hLq_MgX6hFC"
   },
   "outputs": [],
   "source": [
    "# OPTIONS =================================================\n",
    "# Job name\n",
    "out_name = \"thioredoxins_data\"\n",
    "#----------------------------------------------------------\n",
    "# Threshold for filtering gapped positions\n",
    "gapth = 0.9 \n",
    "#----------------------------------------------------------\n",
    "# Projection parameters\n",
    "knn = 5\n",
    "gamma = 2\n",
    "sigma = 1\n",
    "cospca = 0\n",
    "batchs = 4\n",
    "epochs = 1000\n",
    "seed = 0\n",
    "#=========================================================="
   ]
  },
  {
   "cell_type": "markdown",
   "metadata": {
    "id": "Dv0lg4Jn-dfG"
   },
   "source": [
    "# Data preparation and data projection using Poincaré disk"
   ]
  },
  {
   "cell_type": "code",
   "execution_count": 4,
   "metadata": {
    "cellView": "form",
    "colab": {
     "base_uri": "https://localhost:8080/"
    },
    "id": "A2I17cpYXGoB",
    "outputId": "a1b01a51-2182-4f97-a653-eedc42405a80"
   },
   "outputs": [
    {
     "name": "stdout",
     "output_type": "stream",
     "text": [
      "1. Data preparation\n",
      "Input file: new_examples/thioredoxins/thioredoxins.mfasta\n",
      "Name of the protein family: thioredoxins\n",
      "1 X aa replaced by gaps in 210 sequences\n",
      "filter_gaps finished for new_examples/thioredoxins/thioredoxins.mfasta\n",
      "mfasta2fasta finished for thioredoxins_data/thioredoxins_data.clean0.9.mfasta\n",
      "1 X aa replaced by gaps in 210 sequences\n",
      "\n",
      "2. Data projection using Poincaré disk\n",
      "CUDA: True\n",
      "210 proteins found in folder thioredoxins_data/fasta0.9.\n",
      "No root detected\n",
      "Prepare data: tensor construction\n",
      "Prepare data: successfully terminated\n",
      "Computing laplacian...\n",
      "Laplacian computed in 0.05 sec\n",
      "Computing RFA...\n",
      "RFA computed in 0.00 sec\n",
      "Starting training...\n",
      "loss: 0.53214: 100%|████████████████████████| 1000/1000 [07:01<00:00,  2.38it/s]\n",
      "PM computed in 421.02 sec\n",
      "\n",
      "loss = 5.321e-01\n",
      "time = 7.020 min\n",
      "\n",
      "3. Format data for visualization\n"
     ]
    }
   ],
   "source": [
    "# 1. Data preparation\n",
    "# Data preparation consists in `.mfasta` cleaning according to a gap threshold and translation of each sequence to the PSSM profile.\n",
    "print(\"1. Data preparation\")\n",
    "prep_parameters = \"scripts/prepare_data\" + \" \" + mfasta + \" \" + out_name + \" \" + out_name + \" \" + str(gapth)\n",
    "bash_projection = \"bash scripts/prepare_data/create_projection.sh \" + prep_parameters\n",
    "!{bash_projection}\n",
    "\n",
    "print(\"\\n2. Data projection using Poincaré disk\")\n",
    "# 2. Data projection using Poincaré disk\n",
    "#This step creates a projection of encoded sequences to a Poincaré disk.\n",
    "bash_pm = \"python3 \"+ \"scripts/build_poincare_map/main.py --input_path \" + out_name + \"/fasta\" + str(gapth) + \" --output_path \" + out_name + \"/projections/ --gamma \"+ str(gamma) +\" --pca \"+ str(cospca) + \" --epochs \"+ str(epochs) +\" --seed \"+ str(seed) + \" --knn \" + str(knn)\n",
    "!{bash_pm}\n",
    "\n",
    "print(\"\\n3. Format data for visualization\")\n",
    "# 3. Format data for visualization\n",
    "#Check that an annotation file was provided. Create a dummy one instead\n",
    "if not path_annotation:\n",
    "    df_annotation = pd.DataFrame(np.full(nb_seq, \"-\", dtype=object), columns=[\"default\"])\n",
    "    df_annotation.to_csv(\"dummy_annotation.csv\", index=False)\n",
    "    path_annotation = \"dummy_annotation.csv\"\n",
    "    annotation_names = [\"default\"]\n",
    "\n",
    "path_embedding = f\"{out_name}/projections/PM{knn:1.0f}sigma={sigma:2.2f}gamma={gamma:2.2f}cosinepca={cospca:1.0f}_seed{seed:1.0f}.csv\"\n",
    "df_embedding = read_embeddings(path_embedding, path_annotation, withroot=False)"
   ]
  },
  {
   "cell_type": "markdown",
   "metadata": {
    "id": "gRxHHfjX7CHF"
   },
   "source": [
    "# Projection visualization"
   ]
  },
  {
   "cell_type": "code",
   "execution_count": 5,
   "metadata": {},
   "outputs": [],
   "source": [
    "# Construction of custom color palette \n",
    "# class species from thioredoxin annotation file into different kingdom \n",
    "bacteria_specie = [\"Bacteria\", \"LBCA\", \"LGPCA\",  \"LPBCA\", \"Salmonella\", \"Shigella\", \"Escherichia\", \"Acidobacteria\", \"Deinococcus\", \"Thermus\", \n",
    "                    \"Solibacter\", \"Helicobacter\", \"Geobacter\", \"Wolinella\", \"Neisseria\", \"Bordetella\", \"Brucella\", \"Rickettsia\", \"Campylobacter\",\n",
    "                   \"Thiobacillus\", \"Burkholderia\", \"Vibrio\",  \"Desulfovibrio\", \"Bdellovibrio\", \"Yersinia\", \"Agrobacterium\", \"Actinobacteria\", \"Thermobifida\",\n",
    "                   \"Flavobacterium\",\"Geobacterium\", \"Chloroflexus\", \"Aquifex\", \"Enterococcus\",\"Chlamydia\", \"Chlamydophila\", \"Listeria\", \"Lactobacillus\",\n",
    "                   \"Geobacillus\",  \"Chlorobium\",  \"Rhodopirrelula\", \"Clostridium\", \"Hyperthermus\", \"Porphyromonas\", \"Streptomyces\", \n",
    "                   \"Syneschocystis\", \"Nostoc\", \"Thermosynechococus\", \"Prochlorococcus\", \"Nostoc1\", \"Sinorhizobium\", \"Pseudomonas\", \"Bacteroides\", \"Staphylococcus\", \n",
    "                   \"Thermoanaerobacter\",\"Bacillus\", \"Mycobacterium\", \"Streptococcus\", \"Dehalococcoides\", \"Synechocystis\", \"Corynebacterium\", \"Thermosynechococcus\",\n",
    "                   \"Rhodopirellula\"]\n",
    "archae_specie = [\"Archaea\", \"LACA\", \"Aeropyrum\",\"Thermofilum\",\"Caldivirga\",\"Sulfolobus\",\"Haloquadratum\",\"Haloarcula\", \"Thermoplasma\", \"Hyperthermus\",\n",
    "                 \"Natronomonas\",\"Methanocorpusculum\", \"Methanococcus\", \"Halobacterium\", \"Picrophilus\",\"Methanospirillum\",\"Staphylothermus\",\n",
    "                  \"Methanosaeta\", \"Metallosphaera\",\"Methanococcoides\", \"Candidatus\",\"Archaeoglobus\"]\n",
    "eukaryota_animal= [\"Eukaryota\", \"LECA\", \"LAFCA\", \"Ovis\",\"Bos\", \"Mus\",\"Rattus\",\"Rabit\", \"Human\", \"Ponab\",\"Macmu\",\"Ornithorhynchus\",\"Gallus\",\"Equus\",\n",
    "                    \"Theileria\",\"Danio\",\"Tetraodon\",\"Xenopus\",\"Ictalurus\",\"Ophiophagus\",\"Callithrix\",\"Monodelphis\",\"Geocy\",\"Sus\",\"Melopsittacus\", # animal\n",
    "                    \"Monosiga\", # choanoflagellata\n",
    "                    \"Graphocephala\", \"Tribolium\", \"Apis\", \"Bombyx\",\"Litopenaeus\",\"Drosophila\", # insecta\n",
    "                    \"Entamoeba\", \"Plasmodium\",\"Cryptosporidium\", \"Dictyostelium\"]  # unicellular parasite  \n",
    "eukaryota_viridiplantae = [\"Helicosporidium\", \"Ostreococcus\", \"Fagopyrum\"]\n",
    "eukaryota_mitochondrion = [\"Bovin Mitochondrio\", \"Homo Mitochondrion\",  \"Rattus Mitochondrio\", \"Mus Mitochondrion\"] \n",
    "eukaryota_chloroplast = [\"Brana Chloroplast\", \"Pisum Chloroplast\",  \"Wheat Chloroplast\", \"Pea Chloroplast\", \"Spiol Chloroplast\", \"Arabidopsis\"] \n",
    "eukaryota_fungi = [\"Pichia\", \"Candida\", \"Aspergillus\", \"Kluyveromyces\", \"Saccharomyces\",\"Schizosaccharomyces\",\"Neosartorya\"] \n",
    "\n",
    "# Construction of palette \n",
    "trx_palette = {\"OTHERS\" : \"#c7c7c7\", \"EUKARYOTA\" : \"#31955d\", \"CHLOROPLAST\" : \"#06f9d4\", \"MITOCHONDRION\" : \"#3ff100\" , \"root\": \"#000000\", \"AECA\" : \"#e7e53c\",\n",
    "               \"Zea\": \"#c7c7c7\", \"Vitis\":\"#c7c7c7\", \"Limonium\": \"#c7c7c7\"} \n",
    "trx_palette.update(dict.fromkeys(eukaryota_animal,\"#21e548\"))\n",
    "trx_palette.update(dict.fromkeys(eukaryota_viridiplantae,\"#b5e521\"))\n",
    "trx_palette.update(dict.fromkeys(eukaryota_mitochondrion, \"#61ff06\"))\n",
    "trx_palette.update(dict.fromkeys(eukaryota_chloroplast,\"#06f9d4\"))\n",
    "trx_palette.update(dict.fromkeys(eukaryota_fungi,\"#1fb995\"))\n",
    "trx_palette.update(dict.fromkeys(bacteria_specie,\"#34b8e7\"))\n",
    "trx_palette.update(dict.fromkeys(archae_specie, \"#ff0000\"))"
   ]
  },
  {
   "cell_type": "code",
   "execution_count": 7,
   "metadata": {
    "cellView": "form",
    "colab": {
     "base_uri": "https://localhost:8080/",
     "height": 886
    },
    "id": "zLb9h9S4eKUD",
    "outputId": "58e8c73a-4869-4305-ecfb-bccc80d06db1"
   },
   "outputs": [
    {
     "data": {
      "application/vnd.plotly.v1+json": {
       "config": {
        "plotlyServerURL": "https://plot.ly"
       },
       "data": [
        {
         "customdata": [
          [
           0,
           "LBCA",
           "LBCA",
           "LBCA",
           "OTHERS"
          ]
         ],
         "hovertemplate": "<b>%{hovertext}</b><br><br>Kingdom=%{customdata[2]}<br>pm1=%{x}<br>pm2=%{y}<br>Unnamed: 0=%{customdata[0]}<br>Species=%{customdata[1]}<br>Family=%{customdata[3]}<br>Color_eukaryota=%{customdata[4]}<extra></extra>",
         "hovertext": [
          "LBCA"
         ],
         "legendgroup": "LBCA",
         "marker": {
          "color": "#34b8e7",
          "symbol": "circle"
         },
         "mode": "markers",
         "name": "LBCA",
         "orientation": "v",
         "showlegend": true,
         "type": "scatter",
         "x": [
          -0.19840327
         ],
         "xaxis": "x",
         "y": [
          0.0696493
         ],
         "yaxis": "y"
        },
        {
         "customdata": [
          [
           1,
           "LACA",
           "LACA",
           "LACA",
           "OTHERS"
          ]
         ],
         "hovertemplate": "<b>%{hovertext}</b><br><br>Kingdom=%{customdata[2]}<br>pm1=%{x}<br>pm2=%{y}<br>Unnamed: 0=%{customdata[0]}<br>Species=%{customdata[1]}<br>Family=%{customdata[3]}<br>Color_eukaryota=%{customdata[4]}<extra></extra>",
         "hovertext": [
          "LACA"
         ],
         "legendgroup": "LACA",
         "marker": {
          "color": "#ff0000",
          "symbol": "circle"
         },
         "mode": "markers",
         "name": "LACA",
         "orientation": "v",
         "showlegend": true,
         "type": "scatter",
         "x": [
          0.0037791776
         ],
         "xaxis": "x",
         "y": [
          0.19923353
         ],
         "yaxis": "y"
        },
        {
         "customdata": [
          [
           2,
           "AECA",
           "AECA",
           "AECA",
           "OTHERS"
          ]
         ],
         "hovertemplate": "<b>%{hovertext}</b><br><br>Kingdom=%{customdata[2]}<br>pm1=%{x}<br>pm2=%{y}<br>Unnamed: 0=%{customdata[0]}<br>Species=%{customdata[1]}<br>Family=%{customdata[3]}<br>Color_eukaryota=%{customdata[4]}<extra></extra>",
         "hovertext": [
          "AECA"
         ],
         "legendgroup": "AECA",
         "marker": {
          "color": "#e7e53c",
          "symbol": "circle"
         },
         "mode": "markers",
         "name": "AECA",
         "orientation": "v",
         "showlegend": true,
         "type": "scatter",
         "x": [
          0.026386471
         ],
         "xaxis": "x",
         "y": [
          0.12986664
         ],
         "yaxis": "y"
        },
        {
         "customdata": [
          [
           3,
           "LGPCA",
           "LGPCA",
           "LGPCA",
           "OTHERS"
          ]
         ],
         "hovertemplate": "<b>%{hovertext}</b><br><br>Kingdom=%{customdata[2]}<br>pm1=%{x}<br>pm2=%{y}<br>Unnamed: 0=%{customdata[0]}<br>Species=%{customdata[1]}<br>Family=%{customdata[3]}<br>Color_eukaryota=%{customdata[4]}<extra></extra>",
         "hovertext": [
          "LGPCA"
         ],
         "legendgroup": "LGPCA",
         "marker": {
          "color": "#34b8e7",
          "symbol": "circle"
         },
         "mode": "markers",
         "name": "LGPCA",
         "orientation": "v",
         "showlegend": true,
         "type": "scatter",
         "x": [
          -0.48813894
         ],
         "xaxis": "x",
         "y": [
          -0.137934
         ],
         "yaxis": "y"
        },
        {
         "customdata": [
          [
           4,
           "LECA",
           "LECA",
           "LECA",
           "OTHERS"
          ]
         ],
         "hovertemplate": "<b>%{hovertext}</b><br><br>Kingdom=%{customdata[2]}<br>pm1=%{x}<br>pm2=%{y}<br>Unnamed: 0=%{customdata[0]}<br>Species=%{customdata[1]}<br>Family=%{customdata[3]}<br>Color_eukaryota=%{customdata[4]}<extra></extra>",
         "hovertext": [
          "LECA"
         ],
         "legendgroup": "LECA",
         "marker": {
          "color": "#21e548",
          "symbol": "circle"
         },
         "mode": "markers",
         "name": "LECA",
         "orientation": "v",
         "showlegend": true,
         "type": "scatter",
         "x": [
          0.5462513
         ],
         "xaxis": "x",
         "y": [
          -0.34303415
         ],
         "yaxis": "y"
        },
        {
         "customdata": [
          [
           5,
           "LPBCA",
           "LPBCA",
           "LPBCA",
           "OTHERS"
          ]
         ],
         "hovertemplate": "<b>%{hovertext}</b><br><br>Kingdom=%{customdata[2]}<br>pm1=%{x}<br>pm2=%{y}<br>Unnamed: 0=%{customdata[0]}<br>Species=%{customdata[1]}<br>Family=%{customdata[3]}<br>Color_eukaryota=%{customdata[4]}<extra></extra>",
         "hovertext": [
          "LPBCA"
         ],
         "legendgroup": "LPBCA",
         "marker": {
          "color": "#34b8e7",
          "symbol": "circle"
         },
         "mode": "markers",
         "name": "LPBCA",
         "orientation": "v",
         "showlegend": true,
         "type": "scatter",
         "x": [
          -0.3205188
         ],
         "xaxis": "x",
         "y": [
          0.08705902
         ],
         "yaxis": "y"
        },
        {
         "customdata": [
          [
           6,
           "LAFCA",
           "LAFCA",
           "LAFCA",
           "OTHERS"
          ]
         ],
         "hovertemplate": "<b>%{hovertext}</b><br><br>Kingdom=%{customdata[2]}<br>pm1=%{x}<br>pm2=%{y}<br>Unnamed: 0=%{customdata[0]}<br>Species=%{customdata[1]}<br>Family=%{customdata[3]}<br>Color_eukaryota=%{customdata[4]}<extra></extra>",
         "hovertext": [
          "LAFCA"
         ],
         "legendgroup": "LAFCA",
         "marker": {
          "color": "#21e548",
          "symbol": "circle"
         },
         "mode": "markers",
         "name": "LAFCA",
         "orientation": "v",
         "showlegend": true,
         "type": "scatter",
         "x": [
          0.59382445
         ],
         "xaxis": "x",
         "y": [
          -0.3754728
         ],
         "yaxis": "y"
        },
        {
         "customdata": [
          [
           7,
           "Ovis",
           "Eukaryota",
           "Metazoa",
           "EUKARYOTA"
          ],
          [
           8,
           "Bos",
           "Eukaryota",
           "Metazoa",
           "EUKARYOTA"
          ],
          [
           9,
           "Sus",
           "Eukaryota",
           "Metazoa",
           "EUKARYOTA"
          ],
          [
           10,
           "Equus",
           "Eukaryota",
           "Metazoa",
           "EUKARYOTA"
          ],
          [
           11,
           "Mus",
           "Eukaryota",
           "Metazoa",
           "EUKARYOTA"
          ],
          [
           12,
           "Rattus",
           "Eukaryota",
           "Metazoa",
           "EUKARYOTA"
          ],
          [
           13,
           "Rabit",
           "Eukaryota",
           "Metazoa",
           "EUKARYOTA"
          ],
          [
           14,
           "Human",
           "Eukaryota",
           "Metazoa",
           "EUKARYOTA"
          ],
          [
           15,
           "Ponab",
           "Eukaryota",
           "Metazoa",
           "EUKARYOTA"
          ],
          [
           16,
           "Macmu",
           "Eukaryota",
           "Metazoa",
           "EUKARYOTA"
          ],
          [
           17,
           "Callithrix",
           "Eukaryota",
           "Metazoa",
           "EUKARYOTA"
          ],
          [
           18,
           "Monodelphis",
           "Eukaryota",
           "Metazoa",
           "EUKARYOTA"
          ],
          [
           19,
           "Ornithorhynchus",
           "Eukaryota",
           "Metazoa",
           "EUKARYOTA"
          ],
          [
           20,
           "Gallus",
           "Eukaryota",
           "Metazoa",
           "EUKARYOTA"
          ],
          [
           21,
           "Melopsittacus",
           "Eukaryota",
           "Metazoa",
           "EUKARYOTA"
          ],
          [
           22,
           "Ophiophagus",
           "Eukaryota",
           "Metazoa",
           "EUKARYOTA"
          ],
          [
           23,
           "Xenopus",
           "Eukaryota",
           "Metazoa",
           "EUKARYOTA"
          ],
          [
           24,
           "Tetraodon",
           "Eukaryota",
           "Metazoa",
           "EUKARYOTA"
          ],
          [
           25,
           "Ictalurus",
           "Eukaryota",
           "Metazoa",
           "EUKARYOTA"
          ],
          [
           26,
           "Danio",
           "Eukaryota",
           "Metazoa",
           "EUKARYOTA"
          ],
          [
           27,
           "Drosophila",
           "Eukaryota",
           "Metazoa",
           "EUKARYOTA"
          ],
          [
           28,
           "Drosophila",
           "Eukaryota",
           "Metazoa",
           "EUKARYOTA"
          ],
          [
           29,
           "Drosophila",
           "Eukaryota",
           "Metazoa",
           "EUKARYOTA"
          ],
          [
           30,
           "Apis",
           "Eukaryota",
           "Metazoa",
           "EUKARYOTA"
          ],
          [
           31,
           "Tribolium",
           "Eukaryota",
           "Metazoa",
           "EUKARYOTA"
          ],
          [
           32,
           "Bombyx",
           "Eukaryota",
           "Metazoa",
           "EUKARYOTA"
          ],
          [
           33,
           "Graphocephala",
           "Eukaryota",
           "Metazoa",
           "EUKARYOTA"
          ],
          [
           34,
           "Litopenaeus",
           "Eukaryota",
           "Metazoa",
           "EUKARYOTA"
          ],
          [
           35,
           "Geocy",
           "Eukaryota",
           "Metazoa",
           "EUKARYOTA"
          ],
          [
           36,
           "Aspergillus",
           "Eukaryota",
           "Fungi",
           "EUKARYOTA"
          ],
          [
           37,
           "Neosartorya",
           "Eukaryota",
           "Fungi",
           "EUKARYOTA"
          ],
          [
           38,
           "Aspergillus",
           "Eukaryota",
           "Fungi",
           "EUKARYOTA"
          ],
          [
           39,
           "Aspergillus",
           "Eukaryota",
           "Fungi",
           "EUKARYOTA"
          ],
          [
           40,
           "Pichia",
           "Eukaryota",
           "Fungi",
           "EUKARYOTA"
          ],
          [
           41,
           "Candida",
           "Eukaryota",
           "Fungi",
           "EUKARYOTA"
          ],
          [
           42,
           "Pichia",
           "Eukaryota",
           "Fungi",
           "EUKARYOTA"
          ],
          [
           43,
           "Kluyveromyces",
           "Eukaryota",
           "Fungi",
           "EUKARYOTA"
          ],
          [
           44,
           "Saccharomyces",
           "Eukaryota",
           "Fungi",
           "EUKARYOTA"
          ],
          [
           45,
           "Candida",
           "Eukaryota",
           "Fungi",
           "EUKARYOTA"
          ],
          [
           46,
           "Saccharomyces",
           "Eukaryota",
           "Fungi",
           "EUKARYOTA"
          ],
          [
           47,
           "Schizosaccharomyces",
           "Eukaryota",
           "Fungi",
           "EUKARYOTA"
          ],
          [
           48,
           "Monosiga",
           "Eukaryota",
           "Choanoflagellata",
           "EUKARYOTA"
          ],
          [
           49,
           "Entamoeba",
           "Eukaryota",
           "Amoebozoa",
           "EUKARYOTA"
          ],
          [
           50,
           "Dictyostelium",
           "Eukaryota",
           "Amoebozoa",
           "EUKARYOTA"
          ],
          [
           51,
           "Arabidopsis",
           "Eukaryota",
           "Viridiplantae",
           "EUKARYOTA"
          ],
          [
           52,
           "Arabidopsis",
           "Eukaryota",
           "Viridiplantae",
           "EUKARYOTA"
          ],
          [
           53,
           "Limonium",
           "Eukaryota",
           "Viridiplantae",
           "EUKARYOTA"
          ],
          [
           54,
           "Zea",
           "Eukaryota",
           "Viridiplantae",
           "EUKARYOTA"
          ],
          [
           55,
           "Vitis",
           "Eukaryota",
           "Viridiplantae",
           "EUKARYOTA"
          ],
          [
           56,
           "Ostreococcus",
           "Eukaryota",
           "Viridiplantae",
           "EUKARYOTA"
          ],
          [
           57,
           "Helicosporidium",
           "Eukaryota",
           "Viridiplantae",
           "EUKARYOTA"
          ],
          [
           58,
           "Fagopyrum",
           "Eukaryota",
           "Viridiplantae",
           "EUKARYOTA"
          ],
          [
           59,
           "Cryptosporidium",
           "Eukaryota",
           "Alveolata",
           "EUKARYOTA"
          ],
          [
           60,
           "Theileria",
           "Eukaryota",
           "Sar",
           "EUKARYOTA"
          ],
          [
           61,
           "Plasmodium",
           "Eukaryota",
           "Alveolata",
           "EUKARYOTA"
          ],
          [
           154,
           "Pea Chloroplast",
           "Eukaryota",
           "Viridiplantae",
           "CHLOROPLAST"
          ],
          [
           155,
           "Spiol Chloroplast",
           "Eukaryota",
           "Viridiplantae",
           "CHLOROPLAST"
          ],
          [
           156,
           "Wheat Chloroplast",
           "Eukaryota",
           "Viridiplantae",
           "CHLOROPLAST"
          ],
          [
           157,
           "Pisum Chloroplast",
           "Eukaryota",
           "Viridiplantae",
           "CHLOROPLAST"
          ],
          [
           158,
           "Brana Chloroplast",
           "Eukaryota",
           "Viridiplantae",
           "CHLOROPLAST"
          ],
          [
           186,
           "Bovin Mitochondrio",
           "Eukaryota",
           "Metazoa",
           "MITOCHONDRION"
          ],
          [
           187,
           "Equus",
           "Eukaryota",
           "Metazoa",
           "EUKARYOTA"
          ],
          [
           188,
           "Homo Mitochondrion",
           "Eukaryota",
           "Metazoa",
           "MITOCHONDRION"
          ],
          [
           189,
           "Rattus Mitochondrio",
           "Eukaryota",
           "Metazoa",
           "MITOCHONDRION"
          ],
          [
           190,
           "Mus Mitochondrion",
           "Eukaryota",
           "Metazoa",
           "MITOCHONDRION"
          ]
         ],
         "hovertemplate": "<b>%{hovertext}</b><br><br>Kingdom=%{customdata[2]}<br>pm1=%{x}<br>pm2=%{y}<br>Unnamed: 0=%{customdata[0]}<br>Species=%{customdata[1]}<br>Family=%{customdata[3]}<br>Color_eukaryota=%{customdata[4]}<extra></extra>",
         "hovertext": [
          "Eukaryota",
          "Eukaryota",
          "Eukaryota",
          "Eukaryota",
          "Eukaryota",
          "Eukaryota",
          "Eukaryota",
          "Eukaryota",
          "Eukaryota",
          "Eukaryota",
          "Eukaryota",
          "Eukaryota",
          "Eukaryota",
          "Eukaryota",
          "Eukaryota",
          "Eukaryota",
          "Eukaryota",
          "Eukaryota",
          "Eukaryota",
          "Eukaryota",
          "Eukaryota",
          "Eukaryota",
          "Eukaryota",
          "Eukaryota",
          "Eukaryota",
          "Eukaryota",
          "Eukaryota",
          "Eukaryota",
          "Eukaryota",
          "Eukaryota",
          "Eukaryota",
          "Eukaryota",
          "Eukaryota",
          "Eukaryota",
          "Eukaryota",
          "Eukaryota",
          "Eukaryota",
          "Eukaryota",
          "Eukaryota",
          "Eukaryota",
          "Eukaryota",
          "Eukaryota",
          "Eukaryota",
          "Eukaryota",
          "Eukaryota",
          "Eukaryota",
          "Eukaryota",
          "Eukaryota",
          "Eukaryota",
          "Eukaryota",
          "Eukaryota",
          "Eukaryota",
          "Eukaryota",
          "Eukaryota",
          "Eukaryota",
          "Eukaryota",
          "Eukaryota",
          "Eukaryota",
          "Eukaryota",
          "Eukaryota",
          "Eukaryota",
          "Eukaryota",
          "Eukaryota",
          "Eukaryota",
          "Eukaryota"
         ],
         "legendgroup": "Eukaryota",
         "marker": {
          "color": "#21e548",
          "symbol": "circle"
         },
         "mode": "markers",
         "name": "Eukaryota",
         "orientation": "v",
         "showlegend": true,
         "type": "scatter",
         "x": [
          0.7472262,
          0.75539976,
          0.76555645,
          0.7248321,
          0.7275007,
          0.73874,
          0.7794196,
          0.7597423,
          0.73821366,
          0.7346224,
          0.7250676,
          -0.21716145,
          0.71679676,
          0.77577734,
          0.7629458,
          0.7563788,
          0.7349526,
          0.69961035,
          0.72075635,
          0.68939376,
          0.65207154,
          0.6596283,
          0.6675054,
          0.6618043,
          0.6568943,
          0.6652614,
          0.65626323,
          0.6725845,
          0.6673929,
          0.50188816,
          0.51567656,
          0.4811097,
          0.47526607,
          0.55678445,
          0.3576606,
          0.43503866,
          0.37538314,
          0.37718612,
          0.36210752,
          0.39025632,
          0.48818675,
          0.56558096,
          0.7287921,
          0.65927297,
          -0.86917776,
          -0.8793633,
          -0.89356667,
          -0.9161608,
          -0.9134737,
          0.62640446,
          0.6622629,
          0.51490015,
          0.39783338,
          0.61670417,
          0.5709501,
          -0.893399,
          -0.902195,
          -0.92606837,
          -0.91387284,
          -0.90061724,
          -0.20664912,
          -0.236148,
          -0.22351855,
          -0.20992838,
          -0.22284974
         ],
         "xaxis": "x",
         "y": [
          -0.32871175,
          -0.3045413,
          -0.30573398,
          -0.33316937,
          -0.26256394,
          -0.25559983,
          -0.28282288,
          -0.27703184,
          -0.29074675,
          -0.31023738,
          -0.28271288,
          0.8529749,
          -0.35570243,
          -0.3663736,
          -0.3727987,
          -0.36130106,
          -0.41077542,
          -0.43180823,
          -0.4281687,
          -0.4007403,
          -0.69403994,
          -0.6995601,
          -0.6953191,
          -0.68355185,
          -0.68796766,
          -0.6888212,
          -0.66978806,
          -0.68188775,
          -0.5366423,
          -0.4417105,
          -0.5046882,
          -0.5211565,
          -0.53208864,
          -0.1861869,
          -0.5487053,
          -0.49344757,
          -0.515431,
          -0.56389743,
          -0.50548387,
          -0.5358281,
          -0.48549673,
          -0.29369023,
          -0.4495884,
          -0.4264152,
          0.12664348,
          0.14512247,
          0.108665094,
          0.07582022,
          0.09025349,
          -0.27033287,
          -0.3584449,
          -0.38319805,
          -0.48910126,
          -0.31935105,
          -0.44280612,
          0.07486735,
          0.09746036,
          0.08834685,
          0.112798795,
          0.13252468,
          0.88931066,
          0.879781,
          0.89191717,
          0.8760351,
          0.8761222
         ],
         "yaxis": "y"
        },
        {
         "customdata": [
          [
           62,
           "Archaeoglobus",
           "Archaea",
           "Euryarchaeota",
           "OTHERS"
          ],
          [
           63,
           "Methanosaeta",
           "Archaea",
           "Euryarchaeota",
           "OTHERS"
          ],
          [
           64,
           "Methanococcoides",
           "Archaea",
           "Euryarchaeota",
           "OTHERS"
          ],
          [
           65,
           "Candidatus",
           "Archaea",
           "Euryarchaeota",
           "OTHERS"
          ],
          [
           66,
           "Methanospirillum",
           "Archaea",
           "Euryarchaeota",
           "OTHERS"
          ],
          [
           67,
           "Picrophilus",
           "Archaea",
           "Euryarchaeota",
           "OTHERS"
          ],
          [
           68,
           "Methanococcus",
           "Archaea",
           "Euryarchaeota",
           "OTHERS"
          ],
          [
           69,
           "Methanocorpusculum",
           "Archaea",
           "Euryarchaeota",
           "OTHERS"
          ],
          [
           70,
           "Methanosaeta",
           "Archaea",
           "Euryarchaeota",
           "OTHERS"
          ],
          [
           71,
           "Natronomonas",
           "Archaea",
           "Euryarchaeota",
           "OTHERS"
          ],
          [
           72,
           "Haloquadratum",
           "Archaea",
           "Euryarchaeota",
           "OTHERS"
          ],
          [
           73,
           "Haloarcula",
           "Archaea",
           "Euryarchaeota",
           "OTHERS"
          ],
          [
           74,
           "Natronomonas",
           "Archaea",
           "Euryarchaeota",
           "OTHERS"
          ],
          [
           75,
           "Halobacterium",
           "Archaea",
           "Euryarchaeota",
           "OTHERS"
          ],
          [
           76,
           "Archaeoglobus",
           "Archaea",
           "Euryarchaeota",
           "OTHERS"
          ],
          [
           77,
           "Thermoplasma",
           "Archaea",
           "Euryarchaeota",
           "OTHERS"
          ],
          [
           78,
           "Thermofilum",
           "Archaea",
           "Crenarchaeota",
           "OTHERS"
          ],
          [
           79,
           "Caldivirga",
           "Archaea",
           "Crenarchaeota",
           "OTHERS"
          ],
          [
           80,
           "Sulfolobus",
           "Archaea",
           "Crenarchaeota",
           "OTHERS"
          ],
          [
           81,
           "Sulfolobus",
           "Archaea",
           "Crenarchaeota",
           "OTHERS"
          ],
          [
           82,
           "Sulfolobus",
           "Archaea",
           "Crenarchaeota",
           "OTHERS"
          ],
          [
           83,
           "Hyperthermus",
           "Archaea",
           "Crenarchaeota",
           "OTHERS"
          ],
          [
           84,
           "Aeropyrum",
           "Archaea",
           "Crenarchaeota",
           "OTHERS"
          ],
          [
           85,
           "Metallosphaera",
           "Archaea",
           "Crenarchaeota",
           "OTHERS"
          ],
          [
           86,
           "Sulfolobus",
           "Archaea",
           "Crenarchaeota",
           "OTHERS"
          ],
          [
           87,
           "Sulfolobus",
           "Archaea",
           "Crenarchaeota",
           "OTHERS"
          ],
          [
           88,
           "Staphylothermus",
           "Archaea",
           "Crenarchaeota",
           "OTHERS"
          ],
          [
           89,
           "Aeropyrum",
           "Archaea",
           "Crenarchaeota",
           "OTHERS"
          ]
         ],
         "hovertemplate": "<b>%{hovertext}</b><br><br>Kingdom=%{customdata[2]}<br>pm1=%{x}<br>pm2=%{y}<br>Unnamed: 0=%{customdata[0]}<br>Species=%{customdata[1]}<br>Family=%{customdata[3]}<br>Color_eukaryota=%{customdata[4]}<extra></extra>",
         "hovertext": [
          "Archaea",
          "Archaea",
          "Archaea",
          "Archaea",
          "Archaea",
          "Archaea",
          "Archaea",
          "Archaea",
          "Archaea",
          "Archaea",
          "Archaea",
          "Archaea",
          "Archaea",
          "Archaea",
          "Archaea",
          "Archaea",
          "Archaea",
          "Archaea",
          "Archaea",
          "Archaea",
          "Archaea",
          "Archaea",
          "Archaea",
          "Archaea",
          "Archaea",
          "Archaea",
          "Archaea",
          "Archaea"
         ],
         "legendgroup": "Archaea",
         "marker": {
          "color": "#ff0000",
          "symbol": "circle"
         },
         "mode": "markers",
         "name": "Archaea",
         "orientation": "v",
         "showlegend": true,
         "type": "scatter",
         "x": [
          -0.1623433,
          0.038492568,
          0.09970881,
          -0.077112146,
          -0.07760584,
          0.24694018,
          -0.06422989,
          -0.28064135,
          -0.34427738,
          -0.36876234,
          -0.375414,
          -0.3655915,
          -0.3973217,
          -0.37563333,
          -0.06770586,
          -0.07956095,
          -0.14768441,
          0.20467041,
          0.2424766,
          0.23505846,
          0.24209034,
          0.093561254,
          0.08879397,
          0.055873338,
          0.06606726,
          0.066586636,
          0.06620467,
          -0.01408082
         ],
         "xaxis": "x",
         "y": [
          0.13802329,
          0.2180613,
          0.19509624,
          0.20836788,
          0.20805234,
          0.24806313,
          -0.17040247,
          0.302491,
          0.2751655,
          -0.6183521,
          -0.62744945,
          -0.6257843,
          -0.58613604,
          -0.61809707,
          0.13810757,
          0.056132946,
          0.20461965,
          0.29179668,
          0.25134522,
          0.24818362,
          0.25115925,
          0.36932054,
          0.371291,
          0.3734734,
          0.3395665,
          0.36339188,
          0.4287467,
          0.42290026
         ],
         "yaxis": "y"
        },
        {
         "customdata": [
          [
           90,
           "Clostridium",
           "Bacteria",
           "Firmicutes",
           "OTHERS"
          ],
          [
           91,
           "Thermoanaerobacter",
           "Bacteria",
           "Firmicutes",
           "OTHERS"
          ],
          [
           92,
           "Bacillus",
           "Bacteria",
           "Firmicutes",
           "OTHERS"
          ],
          [
           93,
           "Bacillus",
           "Bacteria",
           "Firmicutes",
           "OTHERS"
          ],
          [
           94,
           "Streptococcus",
           "Bacteria",
           "Firmicutes",
           "OTHERS"
          ],
          [
           95,
           "Enterococcus",
           "Bacteria",
           "Firmicutes",
           "OTHERS"
          ],
          [
           96,
           "Listeria",
           "Bacteria",
           "Firmicutes",
           "OTHERS"
          ],
          [
           97,
           "Lactobacillus",
           "Bacteria",
           "Firmicutes",
           "OTHERS"
          ],
          [
           98,
           "Lactobacillus",
           "Bacteria",
           "Firmicutes",
           "OTHERS"
          ],
          [
           99,
           "Staphylococcus",
           "Bacteria",
           "Firmicutes",
           "OTHERS"
          ],
          [
           100,
           "Geobacillus",
           "Bacteria",
           "Firmicutes",
           "OTHERS"
          ],
          [
           101,
           "Bacillus",
           "Bacteria",
           "Firmicutes",
           "OTHERS"
          ],
          [
           102,
           "Bacillus",
           "Bacteria",
           "Firmicutes",
           "OTHERS"
          ],
          [
           103,
           "Lactobacillus",
           "Bacteria",
           "Firmicutes",
           "OTHERS"
          ],
          [
           104,
           "Listeria",
           "Bacteria",
           "Firmicutes",
           "OTHERS"
          ],
          [
           105,
           "Enterococcus",
           "Bacteria",
           "Firmicutes",
           "OTHERS"
          ],
          [
           106,
           "Streptococcus",
           "Bacteria",
           "Firmicutes",
           "OTHERS"
          ],
          [
           107,
           "Clostridium",
           "Bacteria",
           "Firmicutes",
           "OTHERS"
          ],
          [
           108,
           "Clostridium",
           "Bacteria",
           "Firmicutes",
           "OTHERS"
          ],
          [
           109,
           "Clostridium",
           "Bacteria",
           "Firmicutes",
           "OTHERS"
          ],
          [
           110,
           "Clostridium",
           "Bacteria",
           "Firmicutes",
           "OTHERS"
          ],
          [
           111,
           "Thermoanaerobacter",
           "Bacteria",
           "Firmicutes",
           "OTHERS"
          ],
          [
           112,
           "Chlamydia",
           "Bacteria",
           "Chlamydiae",
           "OTHERS"
          ],
          [
           113,
           "Chlamydophila",
           "Bacteria",
           "Chlamydiae",
           "OTHERS"
          ],
          [
           114,
           "Chlorobium",
           "Bacteria",
           "Chlorobi",
           "OTHERS"
          ],
          [
           115,
           "Chlorobium",
           "Bacteria",
           "Chlorobi",
           "OTHERS"
          ],
          [
           116,
           "Bacteroides",
           "Bacteria",
           "Bacteroidetes",
           "OTHERS"
          ],
          [
           117,
           "Flavobacterium",
           "Bacteria",
           "Bacteroidetes",
           "OTHERS"
          ],
          [
           118,
           "Porphyromonas",
           "Bacteria",
           "Bacteroidetes",
           "OTHERS"
          ],
          [
           119,
           "Bacteroides",
           "Bacteria",
           "Bacteroidetes",
           "OTHERS"
          ],
          [
           120,
           "Bacteroides",
           "Bacteria",
           "Bacteroidetes",
           "OTHERS"
          ],
          [
           121,
           "Porphyromonas",
           "Bacteria",
           "Bacteroidetes",
           "OTHERS"
          ],
          [
           122,
           "Bacteroides",
           "Bacteria",
           "Bacteroidetes",
           "OTHERS"
          ],
          [
           123,
           "Bacteroides",
           "Bacteria",
           "Bacteroidetes",
           "OTHERS"
          ],
          [
           124,
           "Rhodopirellula",
           "Bacteria",
           "Planctomycetes",
           "OTHERS"
          ],
          [
           125,
           "Rhodopirellula",
           "Bacteria",
           "Planctomycetes",
           "OTHERS"
          ],
          [
           126,
           "Mycobacterium",
           "Bacteria",
           "Actinobacteria",
           "OTHERS"
          ],
          [
           127,
           "Mycobacterium",
           "Bacteria",
           "Actinobacteria",
           "OTHERS"
          ],
          [
           128,
           "Corynebacterium",
           "Bacteria",
           "Actinobacteria",
           "OTHERS"
          ],
          [
           129,
           "Thermobifida",
           "Bacteria",
           "Actinobacteria",
           "OTHERS"
          ],
          [
           130,
           "Streptomyces",
           "Bacteria",
           "Actinobacteria",
           "OTHERS"
          ],
          [
           131,
           "Thermobifida",
           "Bacteria",
           "Actinobacteria",
           "OTHERS"
          ],
          [
           132,
           "Mycobacterium",
           "Bacteria",
           "Actinobacteria",
           "OTHERS"
          ],
          [
           133,
           "Streptomyces",
           "Bacteria",
           "Actinobacteria",
           "OTHERS"
          ],
          [
           134,
           "Corynebacterium",
           "Bacteria",
           "Actinobacteria",
           "OTHERS"
          ],
          [
           135,
           "Streptomyces",
           "Bacteria",
           "Actinobacteria",
           "OTHERS"
          ],
          [
           136,
           "Mycobacterium",
           "Bacteria",
           "Actinobacteria",
           "OTHERS"
          ],
          [
           137,
           "Thermobifida",
           "Bacteria",
           "Actinobacteria",
           "OTHERS"
          ],
          [
           138,
           "Streptomyces",
           "Bacteria",
           "Actinobacteria",
           "OTHERS"
          ],
          [
           139,
           "Synechocystis",
           "Bacteria",
           "Cyanobacteria",
           "OTHERS"
          ],
          [
           140,
           "Nostoc",
           "Bacteria",
           "Cyanobacteria",
           "OTHERS"
          ],
          [
           141,
           "Nostoc",
           "Bacteria",
           "Cyanobacteria",
           "OTHERS"
          ],
          [
           142,
           "Synechocystis",
           "Bacteria",
           "Cyanobacteria",
           "OTHERS"
          ],
          [
           143,
           "Thermosynechococcus",
           "Bacteria",
           "Cyanobacteria",
           "OTHERS"
          ],
          [
           144,
           "Thermosynechococcus",
           "Bacteria",
           "Cyanobacteria",
           "OTHERS"
          ],
          [
           145,
           "Synechocystis",
           "Bacteria",
           "Cyanobacteria",
           "OTHERS"
          ],
          [
           146,
           "Thermosynechococcus",
           "Bacteria",
           "Cyanobacteria",
           "OTHERS"
          ],
          [
           147,
           "Nostoc",
           "Bacteria",
           "Cyanobacteria",
           "OTHERS"
          ],
          [
           148,
           "Nostoc",
           "Bacteria",
           "Cyanobacteria",
           "OTHERS"
          ],
          [
           149,
           "Thermosynechococcus",
           "Bacteria",
           "Cyanobacteria",
           "OTHERS"
          ],
          [
           150,
           "Nostoc",
           "Bacteria",
           "Cyanobacteria",
           "OTHERS"
          ],
          [
           151,
           "Prochlorococcus",
           "Bacteria",
           "Cyanobacteria",
           "OTHERS"
          ],
          [
           152,
           "Synechocystis",
           "Bacteria",
           "Cyanobacteria",
           "OTHERS"
          ],
          [
           153,
           "Nostoc1",
           "Bacteria",
           "Cyanobacteria",
           "OTHERS"
          ],
          [
           159,
           "Thermus",
           "Bacteria",
           "Deinococcus-Thermus",
           "OTHERS"
          ],
          [
           160,
           "Deinococcus",
           "Bacteria",
           "Deinococcus-Thermus",
           "OTHERS"
          ],
          [
           161,
           "Thermus",
           "Bacteria",
           "Deinococcus-Thermus",
           "OTHERS"
          ],
          [
           162,
           "Deinococcus",
           "Bacteria",
           "Deinococcus-Thermus",
           "OTHERS"
          ],
          [
           163,
           "Dehalococcoides",
           "Bacteria",
           "Chloroflexi",
           "OTHERS"
          ],
          [
           164,
           "Chloroflexus",
           "Bacteria",
           "Chloroflexi",
           "OTHERS"
          ],
          [
           165,
           "Chloroflexus",
           "Bacteria",
           "Chloroflexi",
           "OTHERS"
          ],
          [
           166,
           "Chloroflexus",
           "Bacteria",
           "Chloroflexi",
           "OTHERS"
          ],
          [
           167,
           "Aquifex",
           "Bacteria",
           "Aquificae",
           "OTHERS"
          ],
          [
           168,
           "Bdellovibrio",
           "Bacteria",
           "Proteobacteria",
           "OTHERS"
          ],
          [
           169,
           "Geobacter",
           "Bacteria",
           "Proteobacteria",
           "OTHERS"
          ],
          [
           170,
           "Bdellovibrio",
           "Bacteria",
           "Proteobacteria",
           "OTHERS"
          ],
          [
           171,
           "Desulfovibrio",
           "Bacteria",
           "Proteobacteria",
           "OTHERS"
          ],
          [
           172,
           "Geobacter",
           "Bacteria",
           "Proteobacteria",
           "OTHERS"
          ],
          [
           173,
           "Solibacter",
           "Bacteria",
           "Acidobacteria",
           "OTHERS"
          ],
          [
           174,
           "Solibacter",
           "Bacteria",
           "Acidobacteria",
           "OTHERS"
          ],
          [
           175,
           "Acidobacteria",
           "Bacteria",
           "Acidobacteria",
           "OTHERS"
          ],
          [
           176,
           "Wolinella",
           "Bacteria",
           "Proteobacteria",
           "OTHERS"
          ],
          [
           177,
           "Helicobacter",
           "Bacteria",
           "Proteobacteria",
           "OTHERS"
          ],
          [
           178,
           "Campylobacter",
           "Bacteria",
           "Proteobacteria",
           "OTHERS"
          ],
          [
           179,
           "Helicobacter",
           "Bacteria",
           "Proteobacteria",
           "OTHERS"
          ],
          [
           180,
           "Wolinella",
           "Bacteria",
           "Proteobacteria",
           "OTHERS"
          ],
          [
           181,
           "Wolinella",
           "Bacteria",
           "Proteobacteria",
           "OTHERS"
          ],
          [
           182,
           "Agrobacterium",
           "Bacteria",
           "Proteobacteria",
           "OTHERS"
          ],
          [
           183,
           "Sinorhizobium",
           "Bacteria",
           "Proteobacteria",
           "OTHERS"
          ],
          [
           184,
           "Brucella",
           "Bacteria",
           "Proteobacteria",
           "OTHERS"
          ],
          [
           185,
           "Rickettsia",
           "Bacteria",
           "Proteobacteria",
           "OTHERS"
          ],
          [
           191,
           "Thiobacillus",
           "Bacteria",
           "Proteobacteria",
           "OTHERS"
          ],
          [
           192,
           "Neisseria",
           "Bacteria",
           "Proteobacteria",
           "OTHERS"
          ],
          [
           193,
           "Thiobacillus",
           "Bacteria",
           "Proteobacteria",
           "OTHERS"
          ],
          [
           194,
           "Burkholderia",
           "Bacteria",
           "Proteobacteria",
           "OTHERS"
          ],
          [
           195,
           "Bordetella",
           "Bacteria",
           "Proteobacteria",
           "OTHERS"
          ],
          [
           196,
           "Thiobacillus",
           "Bacteria",
           "Proteobacteria",
           "OTHERS"
          ],
          [
           197,
           "Thiobacillus",
           "Bacteria",
           "Proteobacteria",
           "OTHERS"
          ],
          [
           198,
           "Bordetella",
           "Bacteria",
           "Proteobacteria",
           "OTHERS"
          ],
          [
           199,
           "Pseudomonas",
           "Bacteria",
           "Proteobacteria",
           "OTHERS"
          ],
          [
           200,
           "Vibrio",
           "Bacteria",
           "Proteobacteria",
           "OTHERS"
          ],
          [
           201,
           "Yersinia",
           "Bacteria",
           "Proteobacteria",
           "OTHERS"
          ],
          [
           202,
           "Salmonella",
           "Bacteria",
           "Proteobacteria",
           "OTHERS"
          ],
          [
           203,
           "Shigella",
           "Bacteria",
           "Proteobacteria",
           "OTHERS"
          ],
          [
           204,
           "Escherichia",
           "Bacteria",
           "Proteobacteria",
           "OTHERS"
          ],
          [
           205,
           "Escherichia",
           "Bacteria",
           "Proteobacteria",
           "OTHERS"
          ],
          [
           206,
           "Shigella",
           "Bacteria",
           "Proteobacteria",
           "OTHERS"
          ],
          [
           207,
           "Salmonella",
           "Bacteria",
           "Proteobacteria",
           "OTHERS"
          ],
          [
           208,
           "Yersinia",
           "Bacteria",
           "Proteobacteria",
           "OTHERS"
          ],
          [
           209,
           "Vibrio",
           "Bacteria",
           "Proteobacteria",
           "OTHERS"
          ]
         ],
         "hovertemplate": "<b>%{hovertext}</b><br><br>Kingdom=%{customdata[2]}<br>pm1=%{x}<br>pm2=%{y}<br>Unnamed: 0=%{customdata[0]}<br>Species=%{customdata[1]}<br>Family=%{customdata[3]}<br>Color_eukaryota=%{customdata[4]}<extra></extra>",
         "hovertext": [
          "Bacteria",
          "Bacteria",
          "Bacteria",
          "Bacteria",
          "Bacteria",
          "Bacteria",
          "Bacteria",
          "Bacteria",
          "Bacteria",
          "Bacteria",
          "Bacteria",
          "Bacteria",
          "Bacteria",
          "Bacteria",
          "Bacteria",
          "Bacteria",
          "Bacteria",
          "Bacteria",
          "Bacteria",
          "Bacteria",
          "Bacteria",
          "Bacteria",
          "Bacteria",
          "Bacteria",
          "Bacteria",
          "Bacteria",
          "Bacteria",
          "Bacteria",
          "Bacteria",
          "Bacteria",
          "Bacteria",
          "Bacteria",
          "Bacteria",
          "Bacteria",
          "Bacteria",
          "Bacteria",
          "Bacteria",
          "Bacteria",
          "Bacteria",
          "Bacteria",
          "Bacteria",
          "Bacteria",
          "Bacteria",
          "Bacteria",
          "Bacteria",
          "Bacteria",
          "Bacteria",
          "Bacteria",
          "Bacteria",
          "Bacteria",
          "Bacteria",
          "Bacteria",
          "Bacteria",
          "Bacteria",
          "Bacteria",
          "Bacteria",
          "Bacteria",
          "Bacteria",
          "Bacteria",
          "Bacteria",
          "Bacteria",
          "Bacteria",
          "Bacteria",
          "Bacteria",
          "Bacteria",
          "Bacteria",
          "Bacteria",
          "Bacteria",
          "Bacteria",
          "Bacteria",
          "Bacteria",
          "Bacteria",
          "Bacteria",
          "Bacteria",
          "Bacteria",
          "Bacteria",
          "Bacteria",
          "Bacteria",
          "Bacteria",
          "Bacteria",
          "Bacteria",
          "Bacteria",
          "Bacteria",
          "Bacteria",
          "Bacteria",
          "Bacteria",
          "Bacteria",
          "Bacteria",
          "Bacteria",
          "Bacteria",
          "Bacteria",
          "Bacteria",
          "Bacteria",
          "Bacteria",
          "Bacteria",
          "Bacteria",
          "Bacteria",
          "Bacteria",
          "Bacteria",
          "Bacteria",
          "Bacteria",
          "Bacteria",
          "Bacteria",
          "Bacteria",
          "Bacteria",
          "Bacteria",
          "Bacteria",
          "Bacteria",
          "Bacteria",
          "Bacteria"
         ],
         "legendgroup": "Bacteria",
         "marker": {
          "color": "#34b8e7",
          "symbol": "circle"
         },
         "mode": "markers",
         "name": "Bacteria",
         "orientation": "v",
         "showlegend": true,
         "type": "scatter",
         "x": [
          -0.5582914,
          0.2883705,
          -0.68659335,
          0.15823844,
          0.28424203,
          0.4451069,
          -0.4175658,
          -0.050339554,
          -0.08821545,
          -0.1833568,
          -0.15856543,
          -0.09154991,
          -0.12608738,
          -0.1571801,
          -0.15539056,
          -0.1577839,
          -0.15943648,
          -0.09065848,
          -0.12918599,
          -0.09236768,
          -0.10277809,
          -0.31940284,
          -0.27317488,
          -0.046343394,
          -0.64018524,
          -0.21795733,
          -0.4252066,
          -0.257741,
          -0.20804267,
          -0.20337448,
          -0.3870151,
          -0.26830637,
          -0.21419267,
          -0.20909432,
          -0.31439915,
          -0.4696678,
          0.40030518,
          0.036976572,
          0.41841847,
          0.419354,
          0.4400139,
          0.45698664,
          -0.48547155,
          -0.4705223,
          -0.2712865,
          -0.59372216,
          -0.45704597,
          -0.5123016,
          -0.53303576,
          -0.5132927,
          -0.5349942,
          -0.4261378,
          -0.44145852,
          -0.41694528,
          -0.2579455,
          -0.41573173,
          -0.46435878,
          -0.46238548,
          -0.37522948,
          -0.5503101,
          -0.6384721,
          -0.70215195,
          -0.59840566,
          -0.5684718,
          -0.53226596,
          -0.5394886,
          -0.3769693,
          -0.25490254,
          -0.2231909,
          -0.4066253,
          -0.44063956,
          -0.43379545,
          -0.2846112,
          0.47840363,
          -0.6129281,
          -0.59789884,
          -0.40268102,
          -0.31664914,
          -0.573715,
          -0.32787043,
          -0.31775817,
          0.06976827,
          0.03640933,
          0.10655215,
          0.13956913,
          -0.19033322,
          -0.1885761,
          -0.47845575,
          -0.49262312,
          -0.4653748,
          -0.5998154,
          -0.607912,
          -0.5587061,
          -0.6280771,
          -0.62405807,
          -0.6326398,
          -0.6617774,
          0.4423491,
          0.46249324,
          -0.60977554,
          -0.56323713,
          -0.5814566,
          -0.5541258,
          -0.5649158,
          -0.570256,
          -0.6954032,
          -0.69378144,
          -0.68600607,
          -0.7056638,
          -0.70694536
         ],
         "xaxis": "x",
         "y": [
          0.23104498,
          -0.010727219,
          -0.16543975,
          -0.47308958,
          -0.33839947,
          -0.23699048,
          -0.3656629,
          0.018546527,
          -0.09527511,
          -0.15822172,
          -0.21720986,
          -0.26976943,
          -0.23625775,
          -0.2907742,
          -0.28971213,
          -0.2915133,
          -0.29083982,
          0.011276632,
          -0.1759286,
          0.0342752,
          0.08511332,
          0.17383419,
          -0.5245016,
          -0.44061705,
          0.091387644,
          0.12305785,
          0.2694734,
          0.3704273,
          0.5270898,
          0.3750962,
          -0.19220364,
          -0.080774345,
          -0.046421565,
          -0.04635603,
          0.0060043624,
          0.057721335,
          0.7489,
          -0.82267255,
          0.7231549,
          0.6854231,
          0.733868,
          0.7494364,
          0.25283325,
          0.22971208,
          0.17064403,
          -0.0010232633,
          0.11965789,
          -0.04477517,
          -0.057835992,
          -0.12104343,
          -0.15579337,
          0.27049848,
          0.2612774,
          0.27646095,
          0.4915565,
          -0.12877867,
          -0.20486702,
          0.016929682,
          0.08543841,
          0.16840756,
          0.18293057,
          0.14980187,
          0.12554613,
          0.19502771,
          0.45762247,
          0.3849956,
          0.021650754,
          0.07630104,
          0.183856,
          0.42475483,
          0.030301306,
          -0.08301372,
          0.017702222,
          0.7225364,
          0.51219404,
          -0.029631713,
          0.15824784,
          -0.031358954,
          0.4495816,
          -0.045197375,
          -0.04205217,
          0.031915132,
          -0.00055778655,
          -0.025732454,
          -0.025049368,
          0.28980556,
          0.2747724,
          0.051707365,
          0.058412302,
          0.045376986,
          0.07573634,
          -0.16113551,
          -0.27734688,
          -0.24951455,
          -0.22697836,
          -0.2552636,
          0.55019546,
          0.7123401,
          0.6942224,
          -0.25067425,
          -0.22406924,
          -0.22341898,
          -0.21708125,
          -0.21942209,
          -0.19229974,
          0.54878783,
          0.5590662,
          0.54138535,
          0.54859596,
          0.5236583
         ],
         "yaxis": "y"
        }
       ],
       "layout": {
        "font": {
         "size": 11
        },
        "height": 800,
        "legend": {
         "title": {
          "text": "Kingdom"
         },
         "tracegroupgap": 0
        },
        "plot_bgcolor": "rgba(0, 0, 0, 0)",
        "shapes": [
         {
          "line": {
           "color": "black",
           "dash": "dot"
          },
          "opacity": 0.15,
          "type": "circle",
          "x0": -0.47058823529411764,
          "x1": 0.47058823529411764,
          "y0": -0.47058823529411764,
          "y1": 0.47058823529411764
         },
         {
          "line": {
           "color": "black",
           "dash": "dot"
          },
          "opacity": 0.15,
          "type": "circle",
          "x0": -0.6447368421052633,
          "x1": 0.6447368421052633,
          "y0": -0.6447368421052633,
          "y1": 0.6447368421052633
         },
         {
          "line": {
           "color": "black",
           "dash": "dot"
          },
          "opacity": 0.15,
          "type": "circle",
          "x0": -0.7705382436260623,
          "x1": 0.7705382436260623,
          "y0": -0.7705382436260623,
          "y1": 0.7705382436260623
         },
         {
          "line": {
           "color": "black",
           "dash": "dot"
          },
          "opacity": 0.15,
          "type": "circle",
          "x0": -0.8557007125890737,
          "x1": 0.8557007125890737,
          "y0": -0.8557007125890737,
          "y1": 0.8557007125890737
         },
         {
          "line": {
           "color": "black",
           "dash": "dot"
          },
          "opacity": 0.15,
          "type": "circle",
          "x0": -0.9108474990827933,
          "x1": 0.9108474990827933,
          "y0": -0.9108474990827933,
          "y1": 0.9108474990827933
         },
         {
          "line": {
           "color": "black",
           "dash": "dot"
          },
          "opacity": 0.15,
          "type": "circle",
          "x0": -0.9455374041239167,
          "x1": 0.9455374041239167,
          "y0": -0.9455374041239167,
          "y1": 0.9455374041239167
         },
         {
          "line": {
           "color": "Black"
          },
          "type": "circle",
          "x0": -1,
          "x1": 1,
          "xref": "x",
          "y0": -1,
          "y1": 1,
          "yref": "y"
         },
         {
          "fillcolor": "Black",
          "line": {
           "color": "Black"
          },
          "type": "circle",
          "x0": -0.005,
          "x1": 0.005,
          "xref": "x",
          "y0": -0.005,
          "y1": 0.005,
          "yref": "y"
         }
        ],
        "template": {
         "data": {
          "bar": [
           {
            "error_x": {
             "color": "#2a3f5f"
            },
            "error_y": {
             "color": "#2a3f5f"
            },
            "marker": {
             "line": {
              "color": "#E5ECF6",
              "width": 0.5
             },
             "pattern": {
              "fillmode": "overlay",
              "size": 10,
              "solidity": 0.2
             }
            },
            "type": "bar"
           }
          ],
          "barpolar": [
           {
            "marker": {
             "line": {
              "color": "#E5ECF6",
              "width": 0.5
             },
             "pattern": {
              "fillmode": "overlay",
              "size": 10,
              "solidity": 0.2
             }
            },
            "type": "barpolar"
           }
          ],
          "carpet": [
           {
            "aaxis": {
             "endlinecolor": "#2a3f5f",
             "gridcolor": "white",
             "linecolor": "white",
             "minorgridcolor": "white",
             "startlinecolor": "#2a3f5f"
            },
            "baxis": {
             "endlinecolor": "#2a3f5f",
             "gridcolor": "white",
             "linecolor": "white",
             "minorgridcolor": "white",
             "startlinecolor": "#2a3f5f"
            },
            "type": "carpet"
           }
          ],
          "choropleth": [
           {
            "colorbar": {
             "outlinewidth": 0,
             "ticks": ""
            },
            "type": "choropleth"
           }
          ],
          "contour": [
           {
            "colorbar": {
             "outlinewidth": 0,
             "ticks": ""
            },
            "colorscale": [
             [
              0,
              "#0d0887"
             ],
             [
              0.1111111111111111,
              "#46039f"
             ],
             [
              0.2222222222222222,
              "#7201a8"
             ],
             [
              0.3333333333333333,
              "#9c179e"
             ],
             [
              0.4444444444444444,
              "#bd3786"
             ],
             [
              0.5555555555555556,
              "#d8576b"
             ],
             [
              0.6666666666666666,
              "#ed7953"
             ],
             [
              0.7777777777777778,
              "#fb9f3a"
             ],
             [
              0.8888888888888888,
              "#fdca26"
             ],
             [
              1,
              "#f0f921"
             ]
            ],
            "type": "contour"
           }
          ],
          "contourcarpet": [
           {
            "colorbar": {
             "outlinewidth": 0,
             "ticks": ""
            },
            "type": "contourcarpet"
           }
          ],
          "heatmap": [
           {
            "colorbar": {
             "outlinewidth": 0,
             "ticks": ""
            },
            "colorscale": [
             [
              0,
              "#0d0887"
             ],
             [
              0.1111111111111111,
              "#46039f"
             ],
             [
              0.2222222222222222,
              "#7201a8"
             ],
             [
              0.3333333333333333,
              "#9c179e"
             ],
             [
              0.4444444444444444,
              "#bd3786"
             ],
             [
              0.5555555555555556,
              "#d8576b"
             ],
             [
              0.6666666666666666,
              "#ed7953"
             ],
             [
              0.7777777777777778,
              "#fb9f3a"
             ],
             [
              0.8888888888888888,
              "#fdca26"
             ],
             [
              1,
              "#f0f921"
             ]
            ],
            "type": "heatmap"
           }
          ],
          "heatmapgl": [
           {
            "colorbar": {
             "outlinewidth": 0,
             "ticks": ""
            },
            "colorscale": [
             [
              0,
              "#0d0887"
             ],
             [
              0.1111111111111111,
              "#46039f"
             ],
             [
              0.2222222222222222,
              "#7201a8"
             ],
             [
              0.3333333333333333,
              "#9c179e"
             ],
             [
              0.4444444444444444,
              "#bd3786"
             ],
             [
              0.5555555555555556,
              "#d8576b"
             ],
             [
              0.6666666666666666,
              "#ed7953"
             ],
             [
              0.7777777777777778,
              "#fb9f3a"
             ],
             [
              0.8888888888888888,
              "#fdca26"
             ],
             [
              1,
              "#f0f921"
             ]
            ],
            "type": "heatmapgl"
           }
          ],
          "histogram": [
           {
            "marker": {
             "pattern": {
              "fillmode": "overlay",
              "size": 10,
              "solidity": 0.2
             }
            },
            "type": "histogram"
           }
          ],
          "histogram2d": [
           {
            "colorbar": {
             "outlinewidth": 0,
             "ticks": ""
            },
            "colorscale": [
             [
              0,
              "#0d0887"
             ],
             [
              0.1111111111111111,
              "#46039f"
             ],
             [
              0.2222222222222222,
              "#7201a8"
             ],
             [
              0.3333333333333333,
              "#9c179e"
             ],
             [
              0.4444444444444444,
              "#bd3786"
             ],
             [
              0.5555555555555556,
              "#d8576b"
             ],
             [
              0.6666666666666666,
              "#ed7953"
             ],
             [
              0.7777777777777778,
              "#fb9f3a"
             ],
             [
              0.8888888888888888,
              "#fdca26"
             ],
             [
              1,
              "#f0f921"
             ]
            ],
            "type": "histogram2d"
           }
          ],
          "histogram2dcontour": [
           {
            "colorbar": {
             "outlinewidth": 0,
             "ticks": ""
            },
            "colorscale": [
             [
              0,
              "#0d0887"
             ],
             [
              0.1111111111111111,
              "#46039f"
             ],
             [
              0.2222222222222222,
              "#7201a8"
             ],
             [
              0.3333333333333333,
              "#9c179e"
             ],
             [
              0.4444444444444444,
              "#bd3786"
             ],
             [
              0.5555555555555556,
              "#d8576b"
             ],
             [
              0.6666666666666666,
              "#ed7953"
             ],
             [
              0.7777777777777778,
              "#fb9f3a"
             ],
             [
              0.8888888888888888,
              "#fdca26"
             ],
             [
              1,
              "#f0f921"
             ]
            ],
            "type": "histogram2dcontour"
           }
          ],
          "mesh3d": [
           {
            "colorbar": {
             "outlinewidth": 0,
             "ticks": ""
            },
            "type": "mesh3d"
           }
          ],
          "parcoords": [
           {
            "line": {
             "colorbar": {
              "outlinewidth": 0,
              "ticks": ""
             }
            },
            "type": "parcoords"
           }
          ],
          "pie": [
           {
            "automargin": true,
            "type": "pie"
           }
          ],
          "scatter": [
           {
            "fillpattern": {
             "fillmode": "overlay",
             "size": 10,
             "solidity": 0.2
            },
            "type": "scatter"
           }
          ],
          "scatter3d": [
           {
            "line": {
             "colorbar": {
              "outlinewidth": 0,
              "ticks": ""
             }
            },
            "marker": {
             "colorbar": {
              "outlinewidth": 0,
              "ticks": ""
             }
            },
            "type": "scatter3d"
           }
          ],
          "scattercarpet": [
           {
            "marker": {
             "colorbar": {
              "outlinewidth": 0,
              "ticks": ""
             }
            },
            "type": "scattercarpet"
           }
          ],
          "scattergeo": [
           {
            "marker": {
             "colorbar": {
              "outlinewidth": 0,
              "ticks": ""
             }
            },
            "type": "scattergeo"
           }
          ],
          "scattergl": [
           {
            "marker": {
             "colorbar": {
              "outlinewidth": 0,
              "ticks": ""
             }
            },
            "type": "scattergl"
           }
          ],
          "scattermapbox": [
           {
            "marker": {
             "colorbar": {
              "outlinewidth": 0,
              "ticks": ""
             }
            },
            "type": "scattermapbox"
           }
          ],
          "scatterpolar": [
           {
            "marker": {
             "colorbar": {
              "outlinewidth": 0,
              "ticks": ""
             }
            },
            "type": "scatterpolar"
           }
          ],
          "scatterpolargl": [
           {
            "marker": {
             "colorbar": {
              "outlinewidth": 0,
              "ticks": ""
             }
            },
            "type": "scatterpolargl"
           }
          ],
          "scatterternary": [
           {
            "marker": {
             "colorbar": {
              "outlinewidth": 0,
              "ticks": ""
             }
            },
            "type": "scatterternary"
           }
          ],
          "surface": [
           {
            "colorbar": {
             "outlinewidth": 0,
             "ticks": ""
            },
            "colorscale": [
             [
              0,
              "#0d0887"
             ],
             [
              0.1111111111111111,
              "#46039f"
             ],
             [
              0.2222222222222222,
              "#7201a8"
             ],
             [
              0.3333333333333333,
              "#9c179e"
             ],
             [
              0.4444444444444444,
              "#bd3786"
             ],
             [
              0.5555555555555556,
              "#d8576b"
             ],
             [
              0.6666666666666666,
              "#ed7953"
             ],
             [
              0.7777777777777778,
              "#fb9f3a"
             ],
             [
              0.8888888888888888,
              "#fdca26"
             ],
             [
              1,
              "#f0f921"
             ]
            ],
            "type": "surface"
           }
          ],
          "table": [
           {
            "cells": {
             "fill": {
              "color": "#EBF0F8"
             },
             "line": {
              "color": "white"
             }
            },
            "header": {
             "fill": {
              "color": "#C8D4E3"
             },
             "line": {
              "color": "white"
             }
            },
            "type": "table"
           }
          ]
         },
         "layout": {
          "annotationdefaults": {
           "arrowcolor": "#2a3f5f",
           "arrowhead": 0,
           "arrowwidth": 1
          },
          "autotypenumbers": "strict",
          "coloraxis": {
           "colorbar": {
            "outlinewidth": 0,
            "ticks": ""
           }
          },
          "colorscale": {
           "diverging": [
            [
             0,
             "#8e0152"
            ],
            [
             0.1,
             "#c51b7d"
            ],
            [
             0.2,
             "#de77ae"
            ],
            [
             0.3,
             "#f1b6da"
            ],
            [
             0.4,
             "#fde0ef"
            ],
            [
             0.5,
             "#f7f7f7"
            ],
            [
             0.6,
             "#e6f5d0"
            ],
            [
             0.7,
             "#b8e186"
            ],
            [
             0.8,
             "#7fbc41"
            ],
            [
             0.9,
             "#4d9221"
            ],
            [
             1,
             "#276419"
            ]
           ],
           "sequential": [
            [
             0,
             "#0d0887"
            ],
            [
             0.1111111111111111,
             "#46039f"
            ],
            [
             0.2222222222222222,
             "#7201a8"
            ],
            [
             0.3333333333333333,
             "#9c179e"
            ],
            [
             0.4444444444444444,
             "#bd3786"
            ],
            [
             0.5555555555555556,
             "#d8576b"
            ],
            [
             0.6666666666666666,
             "#ed7953"
            ],
            [
             0.7777777777777778,
             "#fb9f3a"
            ],
            [
             0.8888888888888888,
             "#fdca26"
            ],
            [
             1,
             "#f0f921"
            ]
           ],
           "sequentialminus": [
            [
             0,
             "#0d0887"
            ],
            [
             0.1111111111111111,
             "#46039f"
            ],
            [
             0.2222222222222222,
             "#7201a8"
            ],
            [
             0.3333333333333333,
             "#9c179e"
            ],
            [
             0.4444444444444444,
             "#bd3786"
            ],
            [
             0.5555555555555556,
             "#d8576b"
            ],
            [
             0.6666666666666666,
             "#ed7953"
            ],
            [
             0.7777777777777778,
             "#fb9f3a"
            ],
            [
             0.8888888888888888,
             "#fdca26"
            ],
            [
             1,
             "#f0f921"
            ]
           ]
          },
          "colorway": [
           "#636efa",
           "#EF553B",
           "#00cc96",
           "#ab63fa",
           "#FFA15A",
           "#19d3f3",
           "#FF6692",
           "#B6E880",
           "#FF97FF",
           "#FECB52"
          ],
          "font": {
           "color": "#2a3f5f"
          },
          "geo": {
           "bgcolor": "white",
           "lakecolor": "white",
           "landcolor": "#E5ECF6",
           "showlakes": true,
           "showland": true,
           "subunitcolor": "white"
          },
          "hoverlabel": {
           "align": "left"
          },
          "hovermode": "closest",
          "mapbox": {
           "style": "light"
          },
          "paper_bgcolor": "white",
          "plot_bgcolor": "#E5ECF6",
          "polar": {
           "angularaxis": {
            "gridcolor": "white",
            "linecolor": "white",
            "ticks": ""
           },
           "bgcolor": "#E5ECF6",
           "radialaxis": {
            "gridcolor": "white",
            "linecolor": "white",
            "ticks": ""
           }
          },
          "scene": {
           "xaxis": {
            "backgroundcolor": "#E5ECF6",
            "gridcolor": "white",
            "gridwidth": 2,
            "linecolor": "white",
            "showbackground": true,
            "ticks": "",
            "zerolinecolor": "white"
           },
           "yaxis": {
            "backgroundcolor": "#E5ECF6",
            "gridcolor": "white",
            "gridwidth": 2,
            "linecolor": "white",
            "showbackground": true,
            "ticks": "",
            "zerolinecolor": "white"
           },
           "zaxis": {
            "backgroundcolor": "#E5ECF6",
            "gridcolor": "white",
            "gridwidth": 2,
            "linecolor": "white",
            "showbackground": true,
            "ticks": "",
            "zerolinecolor": "white"
           }
          },
          "shapedefaults": {
           "line": {
            "color": "#2a3f5f"
           }
          },
          "ternary": {
           "aaxis": {
            "gridcolor": "white",
            "linecolor": "white",
            "ticks": ""
           },
           "baxis": {
            "gridcolor": "white",
            "linecolor": "white",
            "ticks": ""
           },
           "bgcolor": "#E5ECF6",
           "caxis": {
            "gridcolor": "white",
            "linecolor": "white",
            "ticks": ""
           }
          },
          "title": {
           "x": 0.05
          },
          "xaxis": {
           "automargin": true,
           "gridcolor": "white",
           "linecolor": "white",
           "ticks": "",
           "title": {
            "standoff": 15
           },
           "zerolinecolor": "white",
           "zerolinewidth": 2
          },
          "yaxis": {
           "automargin": true,
           "gridcolor": "white",
           "linecolor": "white",
           "ticks": "",
           "title": {
            "standoff": 15
           },
           "zerolinecolor": "white",
           "zerolinewidth": 2
          }
         }
        },
        "title": {
         "text": "PM projection of thioredoxins colored by kingdom of life",
         "x": 0.5
        },
        "xaxis": {
         "anchor": "y",
         "constrain": "domain",
         "domain": [
          0,
          1
         ],
         "range": [
          -1.1,
          1.1
         ],
         "title": {
          "text": "pm1"
         }
        },
        "yaxis": {
         "anchor": "x",
         "domain": [
          0,
          1
         ],
         "scaleanchor": "x",
         "scaleratio": 1,
         "title": {
          "text": "pm2"
         }
        },
        "yaxis2": {
         "layer": "below traces",
         "matches": "y",
         "overlaying": "y"
        }
       }
      },
      "text/html": [
       "<div>                            <div id=\"ec7f091d-c1cf-4ffd-8947-7297a6acdfd7\" class=\"plotly-graph-div\" style=\"height:800px; width:100%;\"></div>            <script type=\"text/javascript\">                require([\"plotly\"], function(Plotly) {                    window.PLOTLYENV=window.PLOTLYENV || {};                                    if (document.getElementById(\"ec7f091d-c1cf-4ffd-8947-7297a6acdfd7\")) {                    Plotly.newPlot(                        \"ec7f091d-c1cf-4ffd-8947-7297a6acdfd7\",                        [{\"customdata\":[[0,\"LBCA\",\"LBCA\",\"LBCA\",\"OTHERS\"]],\"hovertemplate\":\"<b>%{hovertext}</b><br><br>Kingdom=%{customdata[2]}<br>pm1=%{x}<br>pm2=%{y}<br>Unnamed: 0=%{customdata[0]}<br>Species=%{customdata[1]}<br>Family=%{customdata[3]}<br>Color_eukaryota=%{customdata[4]}<extra></extra>\",\"hovertext\":[\"LBCA\"],\"legendgroup\":\"LBCA\",\"marker\":{\"color\":\"#34b8e7\",\"symbol\":\"circle\"},\"mode\":\"markers\",\"name\":\"LBCA\",\"orientation\":\"v\",\"showlegend\":true,\"x\":[-0.19840327],\"xaxis\":\"x\",\"y\":[0.0696493],\"yaxis\":\"y\",\"type\":\"scatter\"},{\"customdata\":[[1,\"LACA\",\"LACA\",\"LACA\",\"OTHERS\"]],\"hovertemplate\":\"<b>%{hovertext}</b><br><br>Kingdom=%{customdata[2]}<br>pm1=%{x}<br>pm2=%{y}<br>Unnamed: 0=%{customdata[0]}<br>Species=%{customdata[1]}<br>Family=%{customdata[3]}<br>Color_eukaryota=%{customdata[4]}<extra></extra>\",\"hovertext\":[\"LACA\"],\"legendgroup\":\"LACA\",\"marker\":{\"color\":\"#ff0000\",\"symbol\":\"circle\"},\"mode\":\"markers\",\"name\":\"LACA\",\"orientation\":\"v\",\"showlegend\":true,\"x\":[0.0037791776],\"xaxis\":\"x\",\"y\":[0.19923353],\"yaxis\":\"y\",\"type\":\"scatter\"},{\"customdata\":[[2,\"AECA\",\"AECA\",\"AECA\",\"OTHERS\"]],\"hovertemplate\":\"<b>%{hovertext}</b><br><br>Kingdom=%{customdata[2]}<br>pm1=%{x}<br>pm2=%{y}<br>Unnamed: 0=%{customdata[0]}<br>Species=%{customdata[1]}<br>Family=%{customdata[3]}<br>Color_eukaryota=%{customdata[4]}<extra></extra>\",\"hovertext\":[\"AECA\"],\"legendgroup\":\"AECA\",\"marker\":{\"color\":\"#e7e53c\",\"symbol\":\"circle\"},\"mode\":\"markers\",\"name\":\"AECA\",\"orientation\":\"v\",\"showlegend\":true,\"x\":[0.026386471],\"xaxis\":\"x\",\"y\":[0.12986664],\"yaxis\":\"y\",\"type\":\"scatter\"},{\"customdata\":[[3,\"LGPCA\",\"LGPCA\",\"LGPCA\",\"OTHERS\"]],\"hovertemplate\":\"<b>%{hovertext}</b><br><br>Kingdom=%{customdata[2]}<br>pm1=%{x}<br>pm2=%{y}<br>Unnamed: 0=%{customdata[0]}<br>Species=%{customdata[1]}<br>Family=%{customdata[3]}<br>Color_eukaryota=%{customdata[4]}<extra></extra>\",\"hovertext\":[\"LGPCA\"],\"legendgroup\":\"LGPCA\",\"marker\":{\"color\":\"#34b8e7\",\"symbol\":\"circle\"},\"mode\":\"markers\",\"name\":\"LGPCA\",\"orientation\":\"v\",\"showlegend\":true,\"x\":[-0.48813894],\"xaxis\":\"x\",\"y\":[-0.137934],\"yaxis\":\"y\",\"type\":\"scatter\"},{\"customdata\":[[4,\"LECA\",\"LECA\",\"LECA\",\"OTHERS\"]],\"hovertemplate\":\"<b>%{hovertext}</b><br><br>Kingdom=%{customdata[2]}<br>pm1=%{x}<br>pm2=%{y}<br>Unnamed: 0=%{customdata[0]}<br>Species=%{customdata[1]}<br>Family=%{customdata[3]}<br>Color_eukaryota=%{customdata[4]}<extra></extra>\",\"hovertext\":[\"LECA\"],\"legendgroup\":\"LECA\",\"marker\":{\"color\":\"#21e548\",\"symbol\":\"circle\"},\"mode\":\"markers\",\"name\":\"LECA\",\"orientation\":\"v\",\"showlegend\":true,\"x\":[0.5462513],\"xaxis\":\"x\",\"y\":[-0.34303415],\"yaxis\":\"y\",\"type\":\"scatter\"},{\"customdata\":[[5,\"LPBCA\",\"LPBCA\",\"LPBCA\",\"OTHERS\"]],\"hovertemplate\":\"<b>%{hovertext}</b><br><br>Kingdom=%{customdata[2]}<br>pm1=%{x}<br>pm2=%{y}<br>Unnamed: 0=%{customdata[0]}<br>Species=%{customdata[1]}<br>Family=%{customdata[3]}<br>Color_eukaryota=%{customdata[4]}<extra></extra>\",\"hovertext\":[\"LPBCA\"],\"legendgroup\":\"LPBCA\",\"marker\":{\"color\":\"#34b8e7\",\"symbol\":\"circle\"},\"mode\":\"markers\",\"name\":\"LPBCA\",\"orientation\":\"v\",\"showlegend\":true,\"x\":[-0.3205188],\"xaxis\":\"x\",\"y\":[0.08705902],\"yaxis\":\"y\",\"type\":\"scatter\"},{\"customdata\":[[6,\"LAFCA\",\"LAFCA\",\"LAFCA\",\"OTHERS\"]],\"hovertemplate\":\"<b>%{hovertext}</b><br><br>Kingdom=%{customdata[2]}<br>pm1=%{x}<br>pm2=%{y}<br>Unnamed: 0=%{customdata[0]}<br>Species=%{customdata[1]}<br>Family=%{customdata[3]}<br>Color_eukaryota=%{customdata[4]}<extra></extra>\",\"hovertext\":[\"LAFCA\"],\"legendgroup\":\"LAFCA\",\"marker\":{\"color\":\"#21e548\",\"symbol\":\"circle\"},\"mode\":\"markers\",\"name\":\"LAFCA\",\"orientation\":\"v\",\"showlegend\":true,\"x\":[0.59382445],\"xaxis\":\"x\",\"y\":[-0.3754728],\"yaxis\":\"y\",\"type\":\"scatter\"},{\"customdata\":[[7,\"Ovis\",\"Eukaryota\",\"Metazoa\",\"EUKARYOTA\"],[8,\"Bos\",\"Eukaryota\",\"Metazoa\",\"EUKARYOTA\"],[9,\"Sus\",\"Eukaryota\",\"Metazoa\",\"EUKARYOTA\"],[10,\"Equus\",\"Eukaryota\",\"Metazoa\",\"EUKARYOTA\"],[11,\"Mus\",\"Eukaryota\",\"Metazoa\",\"EUKARYOTA\"],[12,\"Rattus\",\"Eukaryota\",\"Metazoa\",\"EUKARYOTA\"],[13,\"Rabit\",\"Eukaryota\",\"Metazoa\",\"EUKARYOTA\"],[14,\"Human\",\"Eukaryota\",\"Metazoa\",\"EUKARYOTA\"],[15,\"Ponab\",\"Eukaryota\",\"Metazoa\",\"EUKARYOTA\"],[16,\"Macmu\",\"Eukaryota\",\"Metazoa\",\"EUKARYOTA\"],[17,\"Callithrix\",\"Eukaryota\",\"Metazoa\",\"EUKARYOTA\"],[18,\"Monodelphis\",\"Eukaryota\",\"Metazoa\",\"EUKARYOTA\"],[19,\"Ornithorhynchus\",\"Eukaryota\",\"Metazoa\",\"EUKARYOTA\"],[20,\"Gallus\",\"Eukaryota\",\"Metazoa\",\"EUKARYOTA\"],[21,\"Melopsittacus\",\"Eukaryota\",\"Metazoa\",\"EUKARYOTA\"],[22,\"Ophiophagus\",\"Eukaryota\",\"Metazoa\",\"EUKARYOTA\"],[23,\"Xenopus\",\"Eukaryota\",\"Metazoa\",\"EUKARYOTA\"],[24,\"Tetraodon\",\"Eukaryota\",\"Metazoa\",\"EUKARYOTA\"],[25,\"Ictalurus\",\"Eukaryota\",\"Metazoa\",\"EUKARYOTA\"],[26,\"Danio\",\"Eukaryota\",\"Metazoa\",\"EUKARYOTA\"],[27,\"Drosophila\",\"Eukaryota\",\"Metazoa\",\"EUKARYOTA\"],[28,\"Drosophila\",\"Eukaryota\",\"Metazoa\",\"EUKARYOTA\"],[29,\"Drosophila\",\"Eukaryota\",\"Metazoa\",\"EUKARYOTA\"],[30,\"Apis\",\"Eukaryota\",\"Metazoa\",\"EUKARYOTA\"],[31,\"Tribolium\",\"Eukaryota\",\"Metazoa\",\"EUKARYOTA\"],[32,\"Bombyx\",\"Eukaryota\",\"Metazoa\",\"EUKARYOTA\"],[33,\"Graphocephala\",\"Eukaryota\",\"Metazoa\",\"EUKARYOTA\"],[34,\"Litopenaeus\",\"Eukaryota\",\"Metazoa\",\"EUKARYOTA\"],[35,\"Geocy\",\"Eukaryota\",\"Metazoa\",\"EUKARYOTA\"],[36,\"Aspergillus\",\"Eukaryota\",\"Fungi\",\"EUKARYOTA\"],[37,\"Neosartorya\",\"Eukaryota\",\"Fungi\",\"EUKARYOTA\"],[38,\"Aspergillus\",\"Eukaryota\",\"Fungi\",\"EUKARYOTA\"],[39,\"Aspergillus\",\"Eukaryota\",\"Fungi\",\"EUKARYOTA\"],[40,\"Pichia\",\"Eukaryota\",\"Fungi\",\"EUKARYOTA\"],[41,\"Candida\",\"Eukaryota\",\"Fungi\",\"EUKARYOTA\"],[42,\"Pichia\",\"Eukaryota\",\"Fungi\",\"EUKARYOTA\"],[43,\"Kluyveromyces\",\"Eukaryota\",\"Fungi\",\"EUKARYOTA\"],[44,\"Saccharomyces\",\"Eukaryota\",\"Fungi\",\"EUKARYOTA\"],[45,\"Candida\",\"Eukaryota\",\"Fungi\",\"EUKARYOTA\"],[46,\"Saccharomyces\",\"Eukaryota\",\"Fungi\",\"EUKARYOTA\"],[47,\"Schizosaccharomyces\",\"Eukaryota\",\"Fungi\",\"EUKARYOTA\"],[48,\"Monosiga\",\"Eukaryota\",\"Choanoflagellata\",\"EUKARYOTA\"],[49,\"Entamoeba\",\"Eukaryota\",\"Amoebozoa\",\"EUKARYOTA\"],[50,\"Dictyostelium\",\"Eukaryota\",\"Amoebozoa\",\"EUKARYOTA\"],[51,\"Arabidopsis\",\"Eukaryota\",\"Viridiplantae\",\"EUKARYOTA\"],[52,\"Arabidopsis\",\"Eukaryota\",\"Viridiplantae\",\"EUKARYOTA\"],[53,\"Limonium\",\"Eukaryota\",\"Viridiplantae\",\"EUKARYOTA\"],[54,\"Zea\",\"Eukaryota\",\"Viridiplantae\",\"EUKARYOTA\"],[55,\"Vitis\",\"Eukaryota\",\"Viridiplantae\",\"EUKARYOTA\"],[56,\"Ostreococcus\",\"Eukaryota\",\"Viridiplantae\",\"EUKARYOTA\"],[57,\"Helicosporidium\",\"Eukaryota\",\"Viridiplantae\",\"EUKARYOTA\"],[58,\"Fagopyrum\",\"Eukaryota\",\"Viridiplantae\",\"EUKARYOTA\"],[59,\"Cryptosporidium\",\"Eukaryota\",\"Alveolata\",\"EUKARYOTA\"],[60,\"Theileria\",\"Eukaryota\",\"Sar\",\"EUKARYOTA\"],[61,\"Plasmodium\",\"Eukaryota\",\"Alveolata\",\"EUKARYOTA\"],[154,\"Pea Chloroplast\",\"Eukaryota\",\"Viridiplantae\",\"CHLOROPLAST\"],[155,\"Spiol Chloroplast\",\"Eukaryota\",\"Viridiplantae\",\"CHLOROPLAST\"],[156,\"Wheat Chloroplast\",\"Eukaryota\",\"Viridiplantae\",\"CHLOROPLAST\"],[157,\"Pisum Chloroplast\",\"Eukaryota\",\"Viridiplantae\",\"CHLOROPLAST\"],[158,\"Brana Chloroplast\",\"Eukaryota\",\"Viridiplantae\",\"CHLOROPLAST\"],[186,\"Bovin Mitochondrio\",\"Eukaryota\",\"Metazoa\",\"MITOCHONDRION\"],[187,\"Equus\",\"Eukaryota\",\"Metazoa\",\"EUKARYOTA\"],[188,\"Homo Mitochondrion\",\"Eukaryota\",\"Metazoa\",\"MITOCHONDRION\"],[189,\"Rattus Mitochondrio\",\"Eukaryota\",\"Metazoa\",\"MITOCHONDRION\"],[190,\"Mus Mitochondrion\",\"Eukaryota\",\"Metazoa\",\"MITOCHONDRION\"]],\"hovertemplate\":\"<b>%{hovertext}</b><br><br>Kingdom=%{customdata[2]}<br>pm1=%{x}<br>pm2=%{y}<br>Unnamed: 0=%{customdata[0]}<br>Species=%{customdata[1]}<br>Family=%{customdata[3]}<br>Color_eukaryota=%{customdata[4]}<extra></extra>\",\"hovertext\":[\"Eukaryota\",\"Eukaryota\",\"Eukaryota\",\"Eukaryota\",\"Eukaryota\",\"Eukaryota\",\"Eukaryota\",\"Eukaryota\",\"Eukaryota\",\"Eukaryota\",\"Eukaryota\",\"Eukaryota\",\"Eukaryota\",\"Eukaryota\",\"Eukaryota\",\"Eukaryota\",\"Eukaryota\",\"Eukaryota\",\"Eukaryota\",\"Eukaryota\",\"Eukaryota\",\"Eukaryota\",\"Eukaryota\",\"Eukaryota\",\"Eukaryota\",\"Eukaryota\",\"Eukaryota\",\"Eukaryota\",\"Eukaryota\",\"Eukaryota\",\"Eukaryota\",\"Eukaryota\",\"Eukaryota\",\"Eukaryota\",\"Eukaryota\",\"Eukaryota\",\"Eukaryota\",\"Eukaryota\",\"Eukaryota\",\"Eukaryota\",\"Eukaryota\",\"Eukaryota\",\"Eukaryota\",\"Eukaryota\",\"Eukaryota\",\"Eukaryota\",\"Eukaryota\",\"Eukaryota\",\"Eukaryota\",\"Eukaryota\",\"Eukaryota\",\"Eukaryota\",\"Eukaryota\",\"Eukaryota\",\"Eukaryota\",\"Eukaryota\",\"Eukaryota\",\"Eukaryota\",\"Eukaryota\",\"Eukaryota\",\"Eukaryota\",\"Eukaryota\",\"Eukaryota\",\"Eukaryota\",\"Eukaryota\"],\"legendgroup\":\"Eukaryota\",\"marker\":{\"color\":\"#21e548\",\"symbol\":\"circle\"},\"mode\":\"markers\",\"name\":\"Eukaryota\",\"orientation\":\"v\",\"showlegend\":true,\"x\":[0.7472262,0.75539976,0.76555645,0.7248321,0.7275007,0.73874,0.7794196,0.7597423,0.73821366,0.7346224,0.7250676,-0.21716145,0.71679676,0.77577734,0.7629458,0.7563788,0.7349526,0.69961035,0.72075635,0.68939376,0.65207154,0.6596283,0.6675054,0.6618043,0.6568943,0.6652614,0.65626323,0.6725845,0.6673929,0.50188816,0.51567656,0.4811097,0.47526607,0.55678445,0.3576606,0.43503866,0.37538314,0.37718612,0.36210752,0.39025632,0.48818675,0.56558096,0.7287921,0.65927297,-0.86917776,-0.8793633,-0.89356667,-0.9161608,-0.9134737,0.62640446,0.6622629,0.51490015,0.39783338,0.61670417,0.5709501,-0.893399,-0.902195,-0.92606837,-0.91387284,-0.90061724,-0.20664912,-0.236148,-0.22351855,-0.20992838,-0.22284974],\"xaxis\":\"x\",\"y\":[-0.32871175,-0.3045413,-0.30573398,-0.33316937,-0.26256394,-0.25559983,-0.28282288,-0.27703184,-0.29074675,-0.31023738,-0.28271288,0.8529749,-0.35570243,-0.3663736,-0.3727987,-0.36130106,-0.41077542,-0.43180823,-0.4281687,-0.4007403,-0.69403994,-0.6995601,-0.6953191,-0.68355185,-0.68796766,-0.6888212,-0.66978806,-0.68188775,-0.5366423,-0.4417105,-0.5046882,-0.5211565,-0.53208864,-0.1861869,-0.5487053,-0.49344757,-0.515431,-0.56389743,-0.50548387,-0.5358281,-0.48549673,-0.29369023,-0.4495884,-0.4264152,0.12664348,0.14512247,0.108665094,0.07582022,0.09025349,-0.27033287,-0.3584449,-0.38319805,-0.48910126,-0.31935105,-0.44280612,0.07486735,0.09746036,0.08834685,0.112798795,0.13252468,0.88931066,0.879781,0.89191717,0.8760351,0.8761222],\"yaxis\":\"y\",\"type\":\"scatter\"},{\"customdata\":[[62,\"Archaeoglobus\",\"Archaea\",\"Euryarchaeota\",\"OTHERS\"],[63,\"Methanosaeta\",\"Archaea\",\"Euryarchaeota\",\"OTHERS\"],[64,\"Methanococcoides\",\"Archaea\",\"Euryarchaeota\",\"OTHERS\"],[65,\"Candidatus\",\"Archaea\",\"Euryarchaeota\",\"OTHERS\"],[66,\"Methanospirillum\",\"Archaea\",\"Euryarchaeota\",\"OTHERS\"],[67,\"Picrophilus\",\"Archaea\",\"Euryarchaeota\",\"OTHERS\"],[68,\"Methanococcus\",\"Archaea\",\"Euryarchaeota\",\"OTHERS\"],[69,\"Methanocorpusculum\",\"Archaea\",\"Euryarchaeota\",\"OTHERS\"],[70,\"Methanosaeta\",\"Archaea\",\"Euryarchaeota\",\"OTHERS\"],[71,\"Natronomonas\",\"Archaea\",\"Euryarchaeota\",\"OTHERS\"],[72,\"Haloquadratum\",\"Archaea\",\"Euryarchaeota\",\"OTHERS\"],[73,\"Haloarcula\",\"Archaea\",\"Euryarchaeota\",\"OTHERS\"],[74,\"Natronomonas\",\"Archaea\",\"Euryarchaeota\",\"OTHERS\"],[75,\"Halobacterium\",\"Archaea\",\"Euryarchaeota\",\"OTHERS\"],[76,\"Archaeoglobus\",\"Archaea\",\"Euryarchaeota\",\"OTHERS\"],[77,\"Thermoplasma\",\"Archaea\",\"Euryarchaeota\",\"OTHERS\"],[78,\"Thermofilum\",\"Archaea\",\"Crenarchaeota\",\"OTHERS\"],[79,\"Caldivirga\",\"Archaea\",\"Crenarchaeota\",\"OTHERS\"],[80,\"Sulfolobus\",\"Archaea\",\"Crenarchaeota\",\"OTHERS\"],[81,\"Sulfolobus\",\"Archaea\",\"Crenarchaeota\",\"OTHERS\"],[82,\"Sulfolobus\",\"Archaea\",\"Crenarchaeota\",\"OTHERS\"],[83,\"Hyperthermus\",\"Archaea\",\"Crenarchaeota\",\"OTHERS\"],[84,\"Aeropyrum\",\"Archaea\",\"Crenarchaeota\",\"OTHERS\"],[85,\"Metallosphaera\",\"Archaea\",\"Crenarchaeota\",\"OTHERS\"],[86,\"Sulfolobus\",\"Archaea\",\"Crenarchaeota\",\"OTHERS\"],[87,\"Sulfolobus\",\"Archaea\",\"Crenarchaeota\",\"OTHERS\"],[88,\"Staphylothermus\",\"Archaea\",\"Crenarchaeota\",\"OTHERS\"],[89,\"Aeropyrum\",\"Archaea\",\"Crenarchaeota\",\"OTHERS\"]],\"hovertemplate\":\"<b>%{hovertext}</b><br><br>Kingdom=%{customdata[2]}<br>pm1=%{x}<br>pm2=%{y}<br>Unnamed: 0=%{customdata[0]}<br>Species=%{customdata[1]}<br>Family=%{customdata[3]}<br>Color_eukaryota=%{customdata[4]}<extra></extra>\",\"hovertext\":[\"Archaea\",\"Archaea\",\"Archaea\",\"Archaea\",\"Archaea\",\"Archaea\",\"Archaea\",\"Archaea\",\"Archaea\",\"Archaea\",\"Archaea\",\"Archaea\",\"Archaea\",\"Archaea\",\"Archaea\",\"Archaea\",\"Archaea\",\"Archaea\",\"Archaea\",\"Archaea\",\"Archaea\",\"Archaea\",\"Archaea\",\"Archaea\",\"Archaea\",\"Archaea\",\"Archaea\",\"Archaea\"],\"legendgroup\":\"Archaea\",\"marker\":{\"color\":\"#ff0000\",\"symbol\":\"circle\"},\"mode\":\"markers\",\"name\":\"Archaea\",\"orientation\":\"v\",\"showlegend\":true,\"x\":[-0.1623433,0.038492568,0.09970881,-0.077112146,-0.07760584,0.24694018,-0.06422989,-0.28064135,-0.34427738,-0.36876234,-0.375414,-0.3655915,-0.3973217,-0.37563333,-0.06770586,-0.07956095,-0.14768441,0.20467041,0.2424766,0.23505846,0.24209034,0.093561254,0.08879397,0.055873338,0.06606726,0.066586636,0.06620467,-0.01408082],\"xaxis\":\"x\",\"y\":[0.13802329,0.2180613,0.19509624,0.20836788,0.20805234,0.24806313,-0.17040247,0.302491,0.2751655,-0.6183521,-0.62744945,-0.6257843,-0.58613604,-0.61809707,0.13810757,0.056132946,0.20461965,0.29179668,0.25134522,0.24818362,0.25115925,0.36932054,0.371291,0.3734734,0.3395665,0.36339188,0.4287467,0.42290026],\"yaxis\":\"y\",\"type\":\"scatter\"},{\"customdata\":[[90,\"Clostridium\",\"Bacteria\",\"Firmicutes\",\"OTHERS\"],[91,\"Thermoanaerobacter\",\"Bacteria\",\"Firmicutes\",\"OTHERS\"],[92,\"Bacillus\",\"Bacteria\",\"Firmicutes\",\"OTHERS\"],[93,\"Bacillus\",\"Bacteria\",\"Firmicutes\",\"OTHERS\"],[94,\"Streptococcus\",\"Bacteria\",\"Firmicutes\",\"OTHERS\"],[95,\"Enterococcus\",\"Bacteria\",\"Firmicutes\",\"OTHERS\"],[96,\"Listeria\",\"Bacteria\",\"Firmicutes\",\"OTHERS\"],[97,\"Lactobacillus\",\"Bacteria\",\"Firmicutes\",\"OTHERS\"],[98,\"Lactobacillus\",\"Bacteria\",\"Firmicutes\",\"OTHERS\"],[99,\"Staphylococcus\",\"Bacteria\",\"Firmicutes\",\"OTHERS\"],[100,\"Geobacillus\",\"Bacteria\",\"Firmicutes\",\"OTHERS\"],[101,\"Bacillus\",\"Bacteria\",\"Firmicutes\",\"OTHERS\"],[102,\"Bacillus\",\"Bacteria\",\"Firmicutes\",\"OTHERS\"],[103,\"Lactobacillus\",\"Bacteria\",\"Firmicutes\",\"OTHERS\"],[104,\"Listeria\",\"Bacteria\",\"Firmicutes\",\"OTHERS\"],[105,\"Enterococcus\",\"Bacteria\",\"Firmicutes\",\"OTHERS\"],[106,\"Streptococcus\",\"Bacteria\",\"Firmicutes\",\"OTHERS\"],[107,\"Clostridium\",\"Bacteria\",\"Firmicutes\",\"OTHERS\"],[108,\"Clostridium\",\"Bacteria\",\"Firmicutes\",\"OTHERS\"],[109,\"Clostridium\",\"Bacteria\",\"Firmicutes\",\"OTHERS\"],[110,\"Clostridium\",\"Bacteria\",\"Firmicutes\",\"OTHERS\"],[111,\"Thermoanaerobacter\",\"Bacteria\",\"Firmicutes\",\"OTHERS\"],[112,\"Chlamydia\",\"Bacteria\",\"Chlamydiae\",\"OTHERS\"],[113,\"Chlamydophila\",\"Bacteria\",\"Chlamydiae\",\"OTHERS\"],[114,\"Chlorobium\",\"Bacteria\",\"Chlorobi\",\"OTHERS\"],[115,\"Chlorobium\",\"Bacteria\",\"Chlorobi\",\"OTHERS\"],[116,\"Bacteroides\",\"Bacteria\",\"Bacteroidetes\",\"OTHERS\"],[117,\"Flavobacterium\",\"Bacteria\",\"Bacteroidetes\",\"OTHERS\"],[118,\"Porphyromonas\",\"Bacteria\",\"Bacteroidetes\",\"OTHERS\"],[119,\"Bacteroides\",\"Bacteria\",\"Bacteroidetes\",\"OTHERS\"],[120,\"Bacteroides\",\"Bacteria\",\"Bacteroidetes\",\"OTHERS\"],[121,\"Porphyromonas\",\"Bacteria\",\"Bacteroidetes\",\"OTHERS\"],[122,\"Bacteroides\",\"Bacteria\",\"Bacteroidetes\",\"OTHERS\"],[123,\"Bacteroides\",\"Bacteria\",\"Bacteroidetes\",\"OTHERS\"],[124,\"Rhodopirellula\",\"Bacteria\",\"Planctomycetes\",\"OTHERS\"],[125,\"Rhodopirellula\",\"Bacteria\",\"Planctomycetes\",\"OTHERS\"],[126,\"Mycobacterium\",\"Bacteria\",\"Actinobacteria\",\"OTHERS\"],[127,\"Mycobacterium\",\"Bacteria\",\"Actinobacteria\",\"OTHERS\"],[128,\"Corynebacterium\",\"Bacteria\",\"Actinobacteria\",\"OTHERS\"],[129,\"Thermobifida\",\"Bacteria\",\"Actinobacteria\",\"OTHERS\"],[130,\"Streptomyces\",\"Bacteria\",\"Actinobacteria\",\"OTHERS\"],[131,\"Thermobifida\",\"Bacteria\",\"Actinobacteria\",\"OTHERS\"],[132,\"Mycobacterium\",\"Bacteria\",\"Actinobacteria\",\"OTHERS\"],[133,\"Streptomyces\",\"Bacteria\",\"Actinobacteria\",\"OTHERS\"],[134,\"Corynebacterium\",\"Bacteria\",\"Actinobacteria\",\"OTHERS\"],[135,\"Streptomyces\",\"Bacteria\",\"Actinobacteria\",\"OTHERS\"],[136,\"Mycobacterium\",\"Bacteria\",\"Actinobacteria\",\"OTHERS\"],[137,\"Thermobifida\",\"Bacteria\",\"Actinobacteria\",\"OTHERS\"],[138,\"Streptomyces\",\"Bacteria\",\"Actinobacteria\",\"OTHERS\"],[139,\"Synechocystis\",\"Bacteria\",\"Cyanobacteria\",\"OTHERS\"],[140,\"Nostoc\",\"Bacteria\",\"Cyanobacteria\",\"OTHERS\"],[141,\"Nostoc\",\"Bacteria\",\"Cyanobacteria\",\"OTHERS\"],[142,\"Synechocystis\",\"Bacteria\",\"Cyanobacteria\",\"OTHERS\"],[143,\"Thermosynechococcus\",\"Bacteria\",\"Cyanobacteria\",\"OTHERS\"],[144,\"Thermosynechococcus\",\"Bacteria\",\"Cyanobacteria\",\"OTHERS\"],[145,\"Synechocystis\",\"Bacteria\",\"Cyanobacteria\",\"OTHERS\"],[146,\"Thermosynechococcus\",\"Bacteria\",\"Cyanobacteria\",\"OTHERS\"],[147,\"Nostoc\",\"Bacteria\",\"Cyanobacteria\",\"OTHERS\"],[148,\"Nostoc\",\"Bacteria\",\"Cyanobacteria\",\"OTHERS\"],[149,\"Thermosynechococcus\",\"Bacteria\",\"Cyanobacteria\",\"OTHERS\"],[150,\"Nostoc\",\"Bacteria\",\"Cyanobacteria\",\"OTHERS\"],[151,\"Prochlorococcus\",\"Bacteria\",\"Cyanobacteria\",\"OTHERS\"],[152,\"Synechocystis\",\"Bacteria\",\"Cyanobacteria\",\"OTHERS\"],[153,\"Nostoc1\",\"Bacteria\",\"Cyanobacteria\",\"OTHERS\"],[159,\"Thermus\",\"Bacteria\",\"Deinococcus-Thermus\",\"OTHERS\"],[160,\"Deinococcus\",\"Bacteria\",\"Deinococcus-Thermus\",\"OTHERS\"],[161,\"Thermus\",\"Bacteria\",\"Deinococcus-Thermus\",\"OTHERS\"],[162,\"Deinococcus\",\"Bacteria\",\"Deinococcus-Thermus\",\"OTHERS\"],[163,\"Dehalococcoides\",\"Bacteria\",\"Chloroflexi\",\"OTHERS\"],[164,\"Chloroflexus\",\"Bacteria\",\"Chloroflexi\",\"OTHERS\"],[165,\"Chloroflexus\",\"Bacteria\",\"Chloroflexi\",\"OTHERS\"],[166,\"Chloroflexus\",\"Bacteria\",\"Chloroflexi\",\"OTHERS\"],[167,\"Aquifex\",\"Bacteria\",\"Aquificae\",\"OTHERS\"],[168,\"Bdellovibrio\",\"Bacteria\",\"Proteobacteria\",\"OTHERS\"],[169,\"Geobacter\",\"Bacteria\",\"Proteobacteria\",\"OTHERS\"],[170,\"Bdellovibrio\",\"Bacteria\",\"Proteobacteria\",\"OTHERS\"],[171,\"Desulfovibrio\",\"Bacteria\",\"Proteobacteria\",\"OTHERS\"],[172,\"Geobacter\",\"Bacteria\",\"Proteobacteria\",\"OTHERS\"],[173,\"Solibacter\",\"Bacteria\",\"Acidobacteria\",\"OTHERS\"],[174,\"Solibacter\",\"Bacteria\",\"Acidobacteria\",\"OTHERS\"],[175,\"Acidobacteria\",\"Bacteria\",\"Acidobacteria\",\"OTHERS\"],[176,\"Wolinella\",\"Bacteria\",\"Proteobacteria\",\"OTHERS\"],[177,\"Helicobacter\",\"Bacteria\",\"Proteobacteria\",\"OTHERS\"],[178,\"Campylobacter\",\"Bacteria\",\"Proteobacteria\",\"OTHERS\"],[179,\"Helicobacter\",\"Bacteria\",\"Proteobacteria\",\"OTHERS\"],[180,\"Wolinella\",\"Bacteria\",\"Proteobacteria\",\"OTHERS\"],[181,\"Wolinella\",\"Bacteria\",\"Proteobacteria\",\"OTHERS\"],[182,\"Agrobacterium\",\"Bacteria\",\"Proteobacteria\",\"OTHERS\"],[183,\"Sinorhizobium\",\"Bacteria\",\"Proteobacteria\",\"OTHERS\"],[184,\"Brucella\",\"Bacteria\",\"Proteobacteria\",\"OTHERS\"],[185,\"Rickettsia\",\"Bacteria\",\"Proteobacteria\",\"OTHERS\"],[191,\"Thiobacillus\",\"Bacteria\",\"Proteobacteria\",\"OTHERS\"],[192,\"Neisseria\",\"Bacteria\",\"Proteobacteria\",\"OTHERS\"],[193,\"Thiobacillus\",\"Bacteria\",\"Proteobacteria\",\"OTHERS\"],[194,\"Burkholderia\",\"Bacteria\",\"Proteobacteria\",\"OTHERS\"],[195,\"Bordetella\",\"Bacteria\",\"Proteobacteria\",\"OTHERS\"],[196,\"Thiobacillus\",\"Bacteria\",\"Proteobacteria\",\"OTHERS\"],[197,\"Thiobacillus\",\"Bacteria\",\"Proteobacteria\",\"OTHERS\"],[198,\"Bordetella\",\"Bacteria\",\"Proteobacteria\",\"OTHERS\"],[199,\"Pseudomonas\",\"Bacteria\",\"Proteobacteria\",\"OTHERS\"],[200,\"Vibrio\",\"Bacteria\",\"Proteobacteria\",\"OTHERS\"],[201,\"Yersinia\",\"Bacteria\",\"Proteobacteria\",\"OTHERS\"],[202,\"Salmonella\",\"Bacteria\",\"Proteobacteria\",\"OTHERS\"],[203,\"Shigella\",\"Bacteria\",\"Proteobacteria\",\"OTHERS\"],[204,\"Escherichia\",\"Bacteria\",\"Proteobacteria\",\"OTHERS\"],[205,\"Escherichia\",\"Bacteria\",\"Proteobacteria\",\"OTHERS\"],[206,\"Shigella\",\"Bacteria\",\"Proteobacteria\",\"OTHERS\"],[207,\"Salmonella\",\"Bacteria\",\"Proteobacteria\",\"OTHERS\"],[208,\"Yersinia\",\"Bacteria\",\"Proteobacteria\",\"OTHERS\"],[209,\"Vibrio\",\"Bacteria\",\"Proteobacteria\",\"OTHERS\"]],\"hovertemplate\":\"<b>%{hovertext}</b><br><br>Kingdom=%{customdata[2]}<br>pm1=%{x}<br>pm2=%{y}<br>Unnamed: 0=%{customdata[0]}<br>Species=%{customdata[1]}<br>Family=%{customdata[3]}<br>Color_eukaryota=%{customdata[4]}<extra></extra>\",\"hovertext\":[\"Bacteria\",\"Bacteria\",\"Bacteria\",\"Bacteria\",\"Bacteria\",\"Bacteria\",\"Bacteria\",\"Bacteria\",\"Bacteria\",\"Bacteria\",\"Bacteria\",\"Bacteria\",\"Bacteria\",\"Bacteria\",\"Bacteria\",\"Bacteria\",\"Bacteria\",\"Bacteria\",\"Bacteria\",\"Bacteria\",\"Bacteria\",\"Bacteria\",\"Bacteria\",\"Bacteria\",\"Bacteria\",\"Bacteria\",\"Bacteria\",\"Bacteria\",\"Bacteria\",\"Bacteria\",\"Bacteria\",\"Bacteria\",\"Bacteria\",\"Bacteria\",\"Bacteria\",\"Bacteria\",\"Bacteria\",\"Bacteria\",\"Bacteria\",\"Bacteria\",\"Bacteria\",\"Bacteria\",\"Bacteria\",\"Bacteria\",\"Bacteria\",\"Bacteria\",\"Bacteria\",\"Bacteria\",\"Bacteria\",\"Bacteria\",\"Bacteria\",\"Bacteria\",\"Bacteria\",\"Bacteria\",\"Bacteria\",\"Bacteria\",\"Bacteria\",\"Bacteria\",\"Bacteria\",\"Bacteria\",\"Bacteria\",\"Bacteria\",\"Bacteria\",\"Bacteria\",\"Bacteria\",\"Bacteria\",\"Bacteria\",\"Bacteria\",\"Bacteria\",\"Bacteria\",\"Bacteria\",\"Bacteria\",\"Bacteria\",\"Bacteria\",\"Bacteria\",\"Bacteria\",\"Bacteria\",\"Bacteria\",\"Bacteria\",\"Bacteria\",\"Bacteria\",\"Bacteria\",\"Bacteria\",\"Bacteria\",\"Bacteria\",\"Bacteria\",\"Bacteria\",\"Bacteria\",\"Bacteria\",\"Bacteria\",\"Bacteria\",\"Bacteria\",\"Bacteria\",\"Bacteria\",\"Bacteria\",\"Bacteria\",\"Bacteria\",\"Bacteria\",\"Bacteria\",\"Bacteria\",\"Bacteria\",\"Bacteria\",\"Bacteria\",\"Bacteria\",\"Bacteria\",\"Bacteria\",\"Bacteria\",\"Bacteria\",\"Bacteria\",\"Bacteria\"],\"legendgroup\":\"Bacteria\",\"marker\":{\"color\":\"#34b8e7\",\"symbol\":\"circle\"},\"mode\":\"markers\",\"name\":\"Bacteria\",\"orientation\":\"v\",\"showlegend\":true,\"x\":[-0.5582914,0.2883705,-0.68659335,0.15823844,0.28424203,0.4451069,-0.4175658,-0.050339554,-0.08821545,-0.1833568,-0.15856543,-0.09154991,-0.12608738,-0.1571801,-0.15539056,-0.1577839,-0.15943648,-0.09065848,-0.12918599,-0.09236768,-0.10277809,-0.31940284,-0.27317488,-0.046343394,-0.64018524,-0.21795733,-0.4252066,-0.257741,-0.20804267,-0.20337448,-0.3870151,-0.26830637,-0.21419267,-0.20909432,-0.31439915,-0.4696678,0.40030518,0.036976572,0.41841847,0.419354,0.4400139,0.45698664,-0.48547155,-0.4705223,-0.2712865,-0.59372216,-0.45704597,-0.5123016,-0.53303576,-0.5132927,-0.5349942,-0.4261378,-0.44145852,-0.41694528,-0.2579455,-0.41573173,-0.46435878,-0.46238548,-0.37522948,-0.5503101,-0.6384721,-0.70215195,-0.59840566,-0.5684718,-0.53226596,-0.5394886,-0.3769693,-0.25490254,-0.2231909,-0.4066253,-0.44063956,-0.43379545,-0.2846112,0.47840363,-0.6129281,-0.59789884,-0.40268102,-0.31664914,-0.573715,-0.32787043,-0.31775817,0.06976827,0.03640933,0.10655215,0.13956913,-0.19033322,-0.1885761,-0.47845575,-0.49262312,-0.4653748,-0.5998154,-0.607912,-0.5587061,-0.6280771,-0.62405807,-0.6326398,-0.6617774,0.4423491,0.46249324,-0.60977554,-0.56323713,-0.5814566,-0.5541258,-0.5649158,-0.570256,-0.6954032,-0.69378144,-0.68600607,-0.7056638,-0.70694536],\"xaxis\":\"x\",\"y\":[0.23104498,-0.010727219,-0.16543975,-0.47308958,-0.33839947,-0.23699048,-0.3656629,0.018546527,-0.09527511,-0.15822172,-0.21720986,-0.26976943,-0.23625775,-0.2907742,-0.28971213,-0.2915133,-0.29083982,0.011276632,-0.1759286,0.0342752,0.08511332,0.17383419,-0.5245016,-0.44061705,0.091387644,0.12305785,0.2694734,0.3704273,0.5270898,0.3750962,-0.19220364,-0.080774345,-0.046421565,-0.04635603,0.0060043624,0.057721335,0.7489,-0.82267255,0.7231549,0.6854231,0.733868,0.7494364,0.25283325,0.22971208,0.17064403,-0.0010232633,0.11965789,-0.04477517,-0.057835992,-0.12104343,-0.15579337,0.27049848,0.2612774,0.27646095,0.4915565,-0.12877867,-0.20486702,0.016929682,0.08543841,0.16840756,0.18293057,0.14980187,0.12554613,0.19502771,0.45762247,0.3849956,0.021650754,0.07630104,0.183856,0.42475483,0.030301306,-0.08301372,0.017702222,0.7225364,0.51219404,-0.029631713,0.15824784,-0.031358954,0.4495816,-0.045197375,-0.04205217,0.031915132,-0.00055778655,-0.025732454,-0.025049368,0.28980556,0.2747724,0.051707365,0.058412302,0.045376986,0.07573634,-0.16113551,-0.27734688,-0.24951455,-0.22697836,-0.2552636,0.55019546,0.7123401,0.6942224,-0.25067425,-0.22406924,-0.22341898,-0.21708125,-0.21942209,-0.19229974,0.54878783,0.5590662,0.54138535,0.54859596,0.5236583],\"yaxis\":\"y\",\"type\":\"scatter\"}],                        {\"template\":{\"data\":{\"histogram2dcontour\":[{\"type\":\"histogram2dcontour\",\"colorbar\":{\"outlinewidth\":0,\"ticks\":\"\"},\"colorscale\":[[0.0,\"#0d0887\"],[0.1111111111111111,\"#46039f\"],[0.2222222222222222,\"#7201a8\"],[0.3333333333333333,\"#9c179e\"],[0.4444444444444444,\"#bd3786\"],[0.5555555555555556,\"#d8576b\"],[0.6666666666666666,\"#ed7953\"],[0.7777777777777778,\"#fb9f3a\"],[0.8888888888888888,\"#fdca26\"],[1.0,\"#f0f921\"]]}],\"choropleth\":[{\"type\":\"choropleth\",\"colorbar\":{\"outlinewidth\":0,\"ticks\":\"\"}}],\"histogram2d\":[{\"type\":\"histogram2d\",\"colorbar\":{\"outlinewidth\":0,\"ticks\":\"\"},\"colorscale\":[[0.0,\"#0d0887\"],[0.1111111111111111,\"#46039f\"],[0.2222222222222222,\"#7201a8\"],[0.3333333333333333,\"#9c179e\"],[0.4444444444444444,\"#bd3786\"],[0.5555555555555556,\"#d8576b\"],[0.6666666666666666,\"#ed7953\"],[0.7777777777777778,\"#fb9f3a\"],[0.8888888888888888,\"#fdca26\"],[1.0,\"#f0f921\"]]}],\"heatmap\":[{\"type\":\"heatmap\",\"colorbar\":{\"outlinewidth\":0,\"ticks\":\"\"},\"colorscale\":[[0.0,\"#0d0887\"],[0.1111111111111111,\"#46039f\"],[0.2222222222222222,\"#7201a8\"],[0.3333333333333333,\"#9c179e\"],[0.4444444444444444,\"#bd3786\"],[0.5555555555555556,\"#d8576b\"],[0.6666666666666666,\"#ed7953\"],[0.7777777777777778,\"#fb9f3a\"],[0.8888888888888888,\"#fdca26\"],[1.0,\"#f0f921\"]]}],\"heatmapgl\":[{\"type\":\"heatmapgl\",\"colorbar\":{\"outlinewidth\":0,\"ticks\":\"\"},\"colorscale\":[[0.0,\"#0d0887\"],[0.1111111111111111,\"#46039f\"],[0.2222222222222222,\"#7201a8\"],[0.3333333333333333,\"#9c179e\"],[0.4444444444444444,\"#bd3786\"],[0.5555555555555556,\"#d8576b\"],[0.6666666666666666,\"#ed7953\"],[0.7777777777777778,\"#fb9f3a\"],[0.8888888888888888,\"#fdca26\"],[1.0,\"#f0f921\"]]}],\"contourcarpet\":[{\"type\":\"contourcarpet\",\"colorbar\":{\"outlinewidth\":0,\"ticks\":\"\"}}],\"contour\":[{\"type\":\"contour\",\"colorbar\":{\"outlinewidth\":0,\"ticks\":\"\"},\"colorscale\":[[0.0,\"#0d0887\"],[0.1111111111111111,\"#46039f\"],[0.2222222222222222,\"#7201a8\"],[0.3333333333333333,\"#9c179e\"],[0.4444444444444444,\"#bd3786\"],[0.5555555555555556,\"#d8576b\"],[0.6666666666666666,\"#ed7953\"],[0.7777777777777778,\"#fb9f3a\"],[0.8888888888888888,\"#fdca26\"],[1.0,\"#f0f921\"]]}],\"surface\":[{\"type\":\"surface\",\"colorbar\":{\"outlinewidth\":0,\"ticks\":\"\"},\"colorscale\":[[0.0,\"#0d0887\"],[0.1111111111111111,\"#46039f\"],[0.2222222222222222,\"#7201a8\"],[0.3333333333333333,\"#9c179e\"],[0.4444444444444444,\"#bd3786\"],[0.5555555555555556,\"#d8576b\"],[0.6666666666666666,\"#ed7953\"],[0.7777777777777778,\"#fb9f3a\"],[0.8888888888888888,\"#fdca26\"],[1.0,\"#f0f921\"]]}],\"mesh3d\":[{\"type\":\"mesh3d\",\"colorbar\":{\"outlinewidth\":0,\"ticks\":\"\"}}],\"scatter\":[{\"fillpattern\":{\"fillmode\":\"overlay\",\"size\":10,\"solidity\":0.2},\"type\":\"scatter\"}],\"parcoords\":[{\"type\":\"parcoords\",\"line\":{\"colorbar\":{\"outlinewidth\":0,\"ticks\":\"\"}}}],\"scatterpolargl\":[{\"type\":\"scatterpolargl\",\"marker\":{\"colorbar\":{\"outlinewidth\":0,\"ticks\":\"\"}}}],\"bar\":[{\"error_x\":{\"color\":\"#2a3f5f\"},\"error_y\":{\"color\":\"#2a3f5f\"},\"marker\":{\"line\":{\"color\":\"#E5ECF6\",\"width\":0.5},\"pattern\":{\"fillmode\":\"overlay\",\"size\":10,\"solidity\":0.2}},\"type\":\"bar\"}],\"scattergeo\":[{\"type\":\"scattergeo\",\"marker\":{\"colorbar\":{\"outlinewidth\":0,\"ticks\":\"\"}}}],\"scatterpolar\":[{\"type\":\"scatterpolar\",\"marker\":{\"colorbar\":{\"outlinewidth\":0,\"ticks\":\"\"}}}],\"histogram\":[{\"marker\":{\"pattern\":{\"fillmode\":\"overlay\",\"size\":10,\"solidity\":0.2}},\"type\":\"histogram\"}],\"scattergl\":[{\"type\":\"scattergl\",\"marker\":{\"colorbar\":{\"outlinewidth\":0,\"ticks\":\"\"}}}],\"scatter3d\":[{\"type\":\"scatter3d\",\"line\":{\"colorbar\":{\"outlinewidth\":0,\"ticks\":\"\"}},\"marker\":{\"colorbar\":{\"outlinewidth\":0,\"ticks\":\"\"}}}],\"scattermapbox\":[{\"type\":\"scattermapbox\",\"marker\":{\"colorbar\":{\"outlinewidth\":0,\"ticks\":\"\"}}}],\"scatterternary\":[{\"type\":\"scatterternary\",\"marker\":{\"colorbar\":{\"outlinewidth\":0,\"ticks\":\"\"}}}],\"scattercarpet\":[{\"type\":\"scattercarpet\",\"marker\":{\"colorbar\":{\"outlinewidth\":0,\"ticks\":\"\"}}}],\"carpet\":[{\"aaxis\":{\"endlinecolor\":\"#2a3f5f\",\"gridcolor\":\"white\",\"linecolor\":\"white\",\"minorgridcolor\":\"white\",\"startlinecolor\":\"#2a3f5f\"},\"baxis\":{\"endlinecolor\":\"#2a3f5f\",\"gridcolor\":\"white\",\"linecolor\":\"white\",\"minorgridcolor\":\"white\",\"startlinecolor\":\"#2a3f5f\"},\"type\":\"carpet\"}],\"table\":[{\"cells\":{\"fill\":{\"color\":\"#EBF0F8\"},\"line\":{\"color\":\"white\"}},\"header\":{\"fill\":{\"color\":\"#C8D4E3\"},\"line\":{\"color\":\"white\"}},\"type\":\"table\"}],\"barpolar\":[{\"marker\":{\"line\":{\"color\":\"#E5ECF6\",\"width\":0.5},\"pattern\":{\"fillmode\":\"overlay\",\"size\":10,\"solidity\":0.2}},\"type\":\"barpolar\"}],\"pie\":[{\"automargin\":true,\"type\":\"pie\"}]},\"layout\":{\"autotypenumbers\":\"strict\",\"colorway\":[\"#636efa\",\"#EF553B\",\"#00cc96\",\"#ab63fa\",\"#FFA15A\",\"#19d3f3\",\"#FF6692\",\"#B6E880\",\"#FF97FF\",\"#FECB52\"],\"font\":{\"color\":\"#2a3f5f\"},\"hovermode\":\"closest\",\"hoverlabel\":{\"align\":\"left\"},\"paper_bgcolor\":\"white\",\"plot_bgcolor\":\"#E5ECF6\",\"polar\":{\"bgcolor\":\"#E5ECF6\",\"angularaxis\":{\"gridcolor\":\"white\",\"linecolor\":\"white\",\"ticks\":\"\"},\"radialaxis\":{\"gridcolor\":\"white\",\"linecolor\":\"white\",\"ticks\":\"\"}},\"ternary\":{\"bgcolor\":\"#E5ECF6\",\"aaxis\":{\"gridcolor\":\"white\",\"linecolor\":\"white\",\"ticks\":\"\"},\"baxis\":{\"gridcolor\":\"white\",\"linecolor\":\"white\",\"ticks\":\"\"},\"caxis\":{\"gridcolor\":\"white\",\"linecolor\":\"white\",\"ticks\":\"\"}},\"coloraxis\":{\"colorbar\":{\"outlinewidth\":0,\"ticks\":\"\"}},\"colorscale\":{\"sequential\":[[0.0,\"#0d0887\"],[0.1111111111111111,\"#46039f\"],[0.2222222222222222,\"#7201a8\"],[0.3333333333333333,\"#9c179e\"],[0.4444444444444444,\"#bd3786\"],[0.5555555555555556,\"#d8576b\"],[0.6666666666666666,\"#ed7953\"],[0.7777777777777778,\"#fb9f3a\"],[0.8888888888888888,\"#fdca26\"],[1.0,\"#f0f921\"]],\"sequentialminus\":[[0.0,\"#0d0887\"],[0.1111111111111111,\"#46039f\"],[0.2222222222222222,\"#7201a8\"],[0.3333333333333333,\"#9c179e\"],[0.4444444444444444,\"#bd3786\"],[0.5555555555555556,\"#d8576b\"],[0.6666666666666666,\"#ed7953\"],[0.7777777777777778,\"#fb9f3a\"],[0.8888888888888888,\"#fdca26\"],[1.0,\"#f0f921\"]],\"diverging\":[[0,\"#8e0152\"],[0.1,\"#c51b7d\"],[0.2,\"#de77ae\"],[0.3,\"#f1b6da\"],[0.4,\"#fde0ef\"],[0.5,\"#f7f7f7\"],[0.6,\"#e6f5d0\"],[0.7,\"#b8e186\"],[0.8,\"#7fbc41\"],[0.9,\"#4d9221\"],[1,\"#276419\"]]},\"xaxis\":{\"gridcolor\":\"white\",\"linecolor\":\"white\",\"ticks\":\"\",\"title\":{\"standoff\":15},\"zerolinecolor\":\"white\",\"automargin\":true,\"zerolinewidth\":2},\"yaxis\":{\"gridcolor\":\"white\",\"linecolor\":\"white\",\"ticks\":\"\",\"title\":{\"standoff\":15},\"zerolinecolor\":\"white\",\"automargin\":true,\"zerolinewidth\":2},\"scene\":{\"xaxis\":{\"backgroundcolor\":\"#E5ECF6\",\"gridcolor\":\"white\",\"linecolor\":\"white\",\"showbackground\":true,\"ticks\":\"\",\"zerolinecolor\":\"white\",\"gridwidth\":2},\"yaxis\":{\"backgroundcolor\":\"#E5ECF6\",\"gridcolor\":\"white\",\"linecolor\":\"white\",\"showbackground\":true,\"ticks\":\"\",\"zerolinecolor\":\"white\",\"gridwidth\":2},\"zaxis\":{\"backgroundcolor\":\"#E5ECF6\",\"gridcolor\":\"white\",\"linecolor\":\"white\",\"showbackground\":true,\"ticks\":\"\",\"zerolinecolor\":\"white\",\"gridwidth\":2}},\"shapedefaults\":{\"line\":{\"color\":\"#2a3f5f\"}},\"annotationdefaults\":{\"arrowcolor\":\"#2a3f5f\",\"arrowhead\":0,\"arrowwidth\":1},\"geo\":{\"bgcolor\":\"white\",\"landcolor\":\"#E5ECF6\",\"subunitcolor\":\"white\",\"showland\":true,\"showlakes\":true,\"lakecolor\":\"white\"},\"title\":{\"x\":0.05},\"mapbox\":{\"style\":\"light\"}}},\"xaxis\":{\"anchor\":\"y\",\"domain\":[0.0,1.0],\"title\":{\"text\":\"pm1\"},\"range\":[-1.1,1.1],\"constrain\":\"domain\"},\"yaxis\":{\"anchor\":\"x\",\"domain\":[0.0,1.0],\"title\":{\"text\":\"pm2\"},\"scaleanchor\":\"x\",\"scaleratio\":1},\"legend\":{\"title\":{\"text\":\"Kingdom\"},\"tracegroupgap\":0},\"title\":{\"text\":\"PM projection of thioredoxins colored by kingdom of life\",\"x\":0.5},\"height\":800,\"shapes\":[{\"line\":{\"color\":\"black\",\"dash\":\"dot\"},\"opacity\":0.15,\"type\":\"circle\",\"x0\":-0.47058823529411764,\"x1\":0.47058823529411764,\"y0\":-0.47058823529411764,\"y1\":0.47058823529411764},{\"line\":{\"color\":\"black\",\"dash\":\"dot\"},\"opacity\":0.15,\"type\":\"circle\",\"x0\":-0.6447368421052633,\"x1\":0.6447368421052633,\"y0\":-0.6447368421052633,\"y1\":0.6447368421052633},{\"line\":{\"color\":\"black\",\"dash\":\"dot\"},\"opacity\":0.15,\"type\":\"circle\",\"x0\":-0.7705382436260623,\"x1\":0.7705382436260623,\"y0\":-0.7705382436260623,\"y1\":0.7705382436260623},{\"line\":{\"color\":\"black\",\"dash\":\"dot\"},\"opacity\":0.15,\"type\":\"circle\",\"x0\":-0.8557007125890737,\"x1\":0.8557007125890737,\"y0\":-0.8557007125890737,\"y1\":0.8557007125890737},{\"line\":{\"color\":\"black\",\"dash\":\"dot\"},\"opacity\":0.15,\"type\":\"circle\",\"x0\":-0.9108474990827933,\"x1\":0.9108474990827933,\"y0\":-0.9108474990827933,\"y1\":0.9108474990827933},{\"line\":{\"color\":\"black\",\"dash\":\"dot\"},\"opacity\":0.15,\"type\":\"circle\",\"x0\":-0.9455374041239167,\"x1\":0.9455374041239167,\"y0\":-0.9455374041239167,\"y1\":0.9455374041239167},{\"line\":{\"color\":\"Black\"},\"type\":\"circle\",\"x0\":-1,\"x1\":1,\"xref\":\"x\",\"y0\":-1,\"y1\":1,\"yref\":\"y\"},{\"fillcolor\":\"Black\",\"line\":{\"color\":\"Black\"},\"type\":\"circle\",\"x0\":-0.005,\"x1\":0.005,\"xref\":\"x\",\"y0\":-0.005,\"y1\":0.005,\"yref\":\"y\"}],\"yaxis2\":{\"matches\":\"y\",\"layer\":\"below traces\",\"overlaying\":\"y\"},\"plot_bgcolor\":\"rgba(0, 0, 0, 0)\",\"font\":{\"size\":11}},                        {\"responsive\": true}                    ).then(function(){\n",
       "                            \n",
       "var gd = document.getElementById('ec7f091d-c1cf-4ffd-8947-7297a6acdfd7');\n",
       "var x = new MutationObserver(function (mutations, observer) {{\n",
       "        var display = window.getComputedStyle(gd).display;\n",
       "        if (!display || display === 'none') {{\n",
       "            console.log([gd, 'removed!']);\n",
       "            Plotly.purge(gd);\n",
       "            observer.disconnect();\n",
       "        }}\n",
       "}});\n",
       "\n",
       "// Listen for the removal of the full notebook cells\n",
       "var notebookContainer = gd.closest('#notebook-container');\n",
       "if (notebookContainer) {{\n",
       "    x.observe(notebookContainer, {childList: true});\n",
       "}}\n",
       "\n",
       "// Listen for the clearing of the current output cell\n",
       "var outputEl = gd.closest('.output');\n",
       "if (outputEl) {{\n",
       "    x.observe(outputEl, {childList: true});\n",
       "}}\n",
       "\n",
       "                        })                };                });            </script>        </div>"
      ]
     },
     "metadata": {},
     "output_type": "display_data"
    }
   ],
   "source": [
    "# OPTIONS =================================================\n",
    "title = \"PM projection of thioredoxins colored by kingdom of life\"                                  \n",
    "#----------------------------------------------------------\n",
    "# Select the coloring from annotation .csv file:\n",
    "labels_name = \"Kingdom\"\n",
    "# Select classes to label among the \"labels_name\" column (comma separated list):\n",
    "labels_text = \"\"\n",
    "show_text = False\n",
    "#----------------------------------------------------------\n",
    "# Use a custom color palette:\n",
    "color_palette = trx_palette\n",
    "use_custom_palette = True\n",
    "#==========================================================\n",
    "\n",
    "\n",
    "#Check projection visualization parameters\n",
    "#Labels name\n",
    "if labels_name == \"\" and path_annotation == \"dummy_annotation.csv\":\n",
    "    labels_name = \"default\"\n",
    "elif labels_name == \"\":\n",
    "    labels_name = None\n",
    "elif labels_name not in annotation_names:\n",
    "    raise NameError(f\"labels_name {labels_name} is not in the availables annotations.\\nAvailables annotations: {annotation_names}\")\n",
    "\n",
    "#Labels text\n",
    "try:\n",
    "    labels_text = [s.strip() for s in labels_text.split(\",\")]\n",
    "except:\n",
    "    print(\"Error: label_text field is not a valid list.\")\n",
    "\n",
    "#Convert labels_text to labels_name dtype\n",
    "if labels_name and labels_name != \"default\":\n",
    "    try:\n",
    "        labels_text_dtype = df_annotation[labels_name].dtypes\n",
    "        labels_text = list(np.array(labels_text).astype(labels_text_dtype))\n",
    "    except:\n",
    "        raise TypeError(f'\"labels_text\" is not compatible with {labels_name}\" data format ({labels_text_dtype}).')\n",
    "\n",
    "if not use_custom_palette:\n",
    "    color_palette = None\n",
    "\n",
    "#Plot graph\n",
    "fig = plot_embedding_interactive(df_embedding, \n",
    "                                 labels_name = labels_name,\n",
    "                                 show_text = show_text,\n",
    "                                 labels_text = labels_text,\n",
    "                                 color_palette = color_palette, \n",
    "                                 title = title, \n",
    "                                 fontsize = 11)\n",
    "fig.show()"
   ]
  },
  {
   "cell_type": "code",
   "execution_count": 8,
   "metadata": {},
   "outputs": [
    {
     "data": {
      "application/vnd.plotly.v1+json": {
       "config": {
        "plotlyServerURL": "https://plot.ly"
       },
       "data": [
        {
         "customdata": [
          [
           0,
           "LBCA",
           "LBCA",
           "LBCA",
           "OTHERS"
          ]
         ],
         "hovertemplate": "<b>%{hovertext}</b><br><br>Species=%{customdata[1]}<br>pm1=%{x}<br>pm2=%{y}<br>Unnamed: 0=%{customdata[0]}<br>Kingdom=%{customdata[2]}<br>Family=%{customdata[3]}<br>Color_eukaryota=%{customdata[4]}<extra></extra>",
         "hovertext": [
          "LBCA"
         ],
         "legendgroup": "LBCA",
         "marker": {
          "color": "#34b8e7",
          "symbol": "circle"
         },
         "mode": "markers",
         "name": "LBCA",
         "orientation": "v",
         "showlegend": true,
         "type": "scatter",
         "x": [
          -0.19840327
         ],
         "xaxis": "x",
         "y": [
          0.0696493
         ],
         "yaxis": "y"
        },
        {
         "customdata": [
          [
           1,
           "LACA",
           "LACA",
           "LACA",
           "OTHERS"
          ]
         ],
         "hovertemplate": "<b>%{hovertext}</b><br><br>Species=%{customdata[1]}<br>pm1=%{x}<br>pm2=%{y}<br>Unnamed: 0=%{customdata[0]}<br>Kingdom=%{customdata[2]}<br>Family=%{customdata[3]}<br>Color_eukaryota=%{customdata[4]}<extra></extra>",
         "hovertext": [
          "LACA"
         ],
         "legendgroup": "LACA",
         "marker": {
          "color": "#ff0000",
          "symbol": "circle"
         },
         "mode": "markers",
         "name": "LACA",
         "orientation": "v",
         "showlegend": true,
         "type": "scatter",
         "x": [
          0.0037791776
         ],
         "xaxis": "x",
         "y": [
          0.19923353
         ],
         "yaxis": "y"
        },
        {
         "customdata": [
          [
           2,
           "AECA",
           "AECA",
           "AECA",
           "OTHERS"
          ]
         ],
         "hovertemplate": "<b>%{hovertext}</b><br><br>Species=%{customdata[1]}<br>pm1=%{x}<br>pm2=%{y}<br>Unnamed: 0=%{customdata[0]}<br>Kingdom=%{customdata[2]}<br>Family=%{customdata[3]}<br>Color_eukaryota=%{customdata[4]}<extra></extra>",
         "hovertext": [
          "AECA"
         ],
         "legendgroup": "AECA",
         "marker": {
          "color": "#e7e53c",
          "symbol": "circle"
         },
         "mode": "markers",
         "name": "AECA",
         "orientation": "v",
         "showlegend": true,
         "type": "scatter",
         "x": [
          0.026386471
         ],
         "xaxis": "x",
         "y": [
          0.12986664
         ],
         "yaxis": "y"
        },
        {
         "customdata": [
          [
           3,
           "LGPCA",
           "LGPCA",
           "LGPCA",
           "OTHERS"
          ]
         ],
         "hovertemplate": "<b>%{hovertext}</b><br><br>Species=%{customdata[1]}<br>pm1=%{x}<br>pm2=%{y}<br>Unnamed: 0=%{customdata[0]}<br>Kingdom=%{customdata[2]}<br>Family=%{customdata[3]}<br>Color_eukaryota=%{customdata[4]}<extra></extra>",
         "hovertext": [
          "LGPCA"
         ],
         "legendgroup": "LGPCA",
         "marker": {
          "color": "#34b8e7",
          "symbol": "circle"
         },
         "mode": "markers",
         "name": "LGPCA",
         "orientation": "v",
         "showlegend": true,
         "type": "scatter",
         "x": [
          -0.48813894
         ],
         "xaxis": "x",
         "y": [
          -0.137934
         ],
         "yaxis": "y"
        },
        {
         "customdata": [
          [
           4,
           "LECA",
           "LECA",
           "LECA",
           "OTHERS"
          ]
         ],
         "hovertemplate": "<b>%{hovertext}</b><br><br>Species=%{customdata[1]}<br>pm1=%{x}<br>pm2=%{y}<br>Unnamed: 0=%{customdata[0]}<br>Kingdom=%{customdata[2]}<br>Family=%{customdata[3]}<br>Color_eukaryota=%{customdata[4]}<extra></extra>",
         "hovertext": [
          "LECA"
         ],
         "legendgroup": "LECA",
         "marker": {
          "color": "#21e548",
          "symbol": "circle"
         },
         "mode": "markers",
         "name": "LECA",
         "orientation": "v",
         "showlegend": true,
         "type": "scatter",
         "x": [
          0.5462513
         ],
         "xaxis": "x",
         "y": [
          -0.34303415
         ],
         "yaxis": "y"
        },
        {
         "customdata": [
          [
           5,
           "LPBCA",
           "LPBCA",
           "LPBCA",
           "OTHERS"
          ]
         ],
         "hovertemplate": "<b>%{hovertext}</b><br><br>Species=%{customdata[1]}<br>pm1=%{x}<br>pm2=%{y}<br>Unnamed: 0=%{customdata[0]}<br>Kingdom=%{customdata[2]}<br>Family=%{customdata[3]}<br>Color_eukaryota=%{customdata[4]}<extra></extra>",
         "hovertext": [
          "LPBCA"
         ],
         "legendgroup": "LPBCA",
         "marker": {
          "color": "#34b8e7",
          "symbol": "circle"
         },
         "mode": "markers",
         "name": "LPBCA",
         "orientation": "v",
         "showlegend": true,
         "type": "scatter",
         "x": [
          -0.3205188
         ],
         "xaxis": "x",
         "y": [
          0.08705902
         ],
         "yaxis": "y"
        },
        {
         "customdata": [
          [
           6,
           "LAFCA",
           "LAFCA",
           "LAFCA",
           "OTHERS"
          ]
         ],
         "hovertemplate": "<b>%{hovertext}</b><br><br>Species=%{customdata[1]}<br>pm1=%{x}<br>pm2=%{y}<br>Unnamed: 0=%{customdata[0]}<br>Kingdom=%{customdata[2]}<br>Family=%{customdata[3]}<br>Color_eukaryota=%{customdata[4]}<extra></extra>",
         "hovertext": [
          "LAFCA"
         ],
         "legendgroup": "LAFCA",
         "marker": {
          "color": "#21e548",
          "symbol": "circle"
         },
         "mode": "markers",
         "name": "LAFCA",
         "orientation": "v",
         "showlegend": true,
         "type": "scatter",
         "x": [
          0.59382445
         ],
         "xaxis": "x",
         "y": [
          -0.3754728
         ],
         "yaxis": "y"
        },
        {
         "customdata": [
          [
           7,
           "Ovis",
           "Eukaryota",
           "Metazoa",
           "EUKARYOTA"
          ]
         ],
         "hovertemplate": "<b>%{hovertext}</b><br><br>Species=%{customdata[1]}<br>pm1=%{x}<br>pm2=%{y}<br>Unnamed: 0=%{customdata[0]}<br>Kingdom=%{customdata[2]}<br>Family=%{customdata[3]}<br>Color_eukaryota=%{customdata[4]}<extra></extra>",
         "hovertext": [
          "Ovis"
         ],
         "legendgroup": "Ovis",
         "marker": {
          "color": "#21e548",
          "symbol": "circle"
         },
         "mode": "markers",
         "name": "Ovis",
         "orientation": "v",
         "showlegend": true,
         "type": "scatter",
         "x": [
          0.7472262
         ],
         "xaxis": "x",
         "y": [
          -0.32871175
         ],
         "yaxis": "y"
        },
        {
         "customdata": [
          [
           8,
           "Bos",
           "Eukaryota",
           "Metazoa",
           "EUKARYOTA"
          ]
         ],
         "hovertemplate": "<b>%{hovertext}</b><br><br>Species=%{customdata[1]}<br>pm1=%{x}<br>pm2=%{y}<br>Unnamed: 0=%{customdata[0]}<br>Kingdom=%{customdata[2]}<br>Family=%{customdata[3]}<br>Color_eukaryota=%{customdata[4]}<extra></extra>",
         "hovertext": [
          "Bos"
         ],
         "legendgroup": "Bos",
         "marker": {
          "color": "#21e548",
          "symbol": "circle"
         },
         "mode": "markers",
         "name": "Bos",
         "orientation": "v",
         "showlegend": true,
         "type": "scatter",
         "x": [
          0.75539976
         ],
         "xaxis": "x",
         "y": [
          -0.3045413
         ],
         "yaxis": "y"
        },
        {
         "customdata": [
          [
           9,
           "Sus",
           "Eukaryota",
           "Metazoa",
           "EUKARYOTA"
          ]
         ],
         "hovertemplate": "<b>%{hovertext}</b><br><br>Species=%{customdata[1]}<br>pm1=%{x}<br>pm2=%{y}<br>Unnamed: 0=%{customdata[0]}<br>Kingdom=%{customdata[2]}<br>Family=%{customdata[3]}<br>Color_eukaryota=%{customdata[4]}<extra></extra>",
         "hovertext": [
          "Sus"
         ],
         "legendgroup": "Sus",
         "marker": {
          "color": "#21e548",
          "symbol": "circle"
         },
         "mode": "markers",
         "name": "Sus",
         "orientation": "v",
         "showlegend": true,
         "type": "scatter",
         "x": [
          0.76555645
         ],
         "xaxis": "x",
         "y": [
          -0.30573398
         ],
         "yaxis": "y"
        },
        {
         "customdata": [
          [
           10,
           "Equus",
           "Eukaryota",
           "Metazoa",
           "EUKARYOTA"
          ],
          [
           187,
           "Equus",
           "Eukaryota",
           "Metazoa",
           "EUKARYOTA"
          ]
         ],
         "hovertemplate": "<b>%{hovertext}</b><br><br>Species=%{customdata[1]}<br>pm1=%{x}<br>pm2=%{y}<br>Unnamed: 0=%{customdata[0]}<br>Kingdom=%{customdata[2]}<br>Family=%{customdata[3]}<br>Color_eukaryota=%{customdata[4]}<extra></extra>",
         "hovertext": [
          "Equus",
          "Equus"
         ],
         "legendgroup": "Equus",
         "marker": {
          "color": "#21e548",
          "symbol": "circle"
         },
         "mode": "markers",
         "name": "Equus",
         "orientation": "v",
         "showlegend": true,
         "type": "scatter",
         "x": [
          0.7248321,
          -0.236148
         ],
         "xaxis": "x",
         "y": [
          -0.33316937,
          0.879781
         ],
         "yaxis": "y"
        },
        {
         "customdata": [
          [
           11,
           "Mus",
           "Eukaryota",
           "Metazoa",
           "EUKARYOTA"
          ]
         ],
         "hovertemplate": "<b>%{hovertext}</b><br><br>Species=%{customdata[1]}<br>pm1=%{x}<br>pm2=%{y}<br>Unnamed: 0=%{customdata[0]}<br>Kingdom=%{customdata[2]}<br>Family=%{customdata[3]}<br>Color_eukaryota=%{customdata[4]}<extra></extra>",
         "hovertext": [
          "Mus"
         ],
         "legendgroup": "Mus",
         "marker": {
          "color": "#21e548",
          "symbol": "circle"
         },
         "mode": "markers",
         "name": "Mus",
         "orientation": "v",
         "showlegend": true,
         "type": "scatter",
         "x": [
          0.7275007
         ],
         "xaxis": "x",
         "y": [
          -0.26256394
         ],
         "yaxis": "y"
        },
        {
         "customdata": [
          [
           12,
           "Rattus",
           "Eukaryota",
           "Metazoa",
           "EUKARYOTA"
          ]
         ],
         "hovertemplate": "<b>%{hovertext}</b><br><br>Species=%{customdata[1]}<br>pm1=%{x}<br>pm2=%{y}<br>Unnamed: 0=%{customdata[0]}<br>Kingdom=%{customdata[2]}<br>Family=%{customdata[3]}<br>Color_eukaryota=%{customdata[4]}<extra></extra>",
         "hovertext": [
          "Rattus"
         ],
         "legendgroup": "Rattus",
         "marker": {
          "color": "#21e548",
          "symbol": "circle"
         },
         "mode": "markers",
         "name": "Rattus",
         "orientation": "v",
         "showlegend": true,
         "type": "scatter",
         "x": [
          0.73874
         ],
         "xaxis": "x",
         "y": [
          -0.25559983
         ],
         "yaxis": "y"
        },
        {
         "customdata": [
          [
           13,
           "Rabit",
           "Eukaryota",
           "Metazoa",
           "EUKARYOTA"
          ]
         ],
         "hovertemplate": "<b>%{hovertext}</b><br><br>Species=%{customdata[1]}<br>pm1=%{x}<br>pm2=%{y}<br>Unnamed: 0=%{customdata[0]}<br>Kingdom=%{customdata[2]}<br>Family=%{customdata[3]}<br>Color_eukaryota=%{customdata[4]}<extra></extra>",
         "hovertext": [
          "Rabit"
         ],
         "legendgroup": "Rabit",
         "marker": {
          "color": "#21e548",
          "symbol": "circle"
         },
         "mode": "markers",
         "name": "Rabit",
         "orientation": "v",
         "showlegend": true,
         "type": "scatter",
         "x": [
          0.7794196
         ],
         "xaxis": "x",
         "y": [
          -0.28282288
         ],
         "yaxis": "y"
        },
        {
         "customdata": [
          [
           14,
           "Human",
           "Eukaryota",
           "Metazoa",
           "EUKARYOTA"
          ]
         ],
         "hovertemplate": "<b>%{hovertext}</b><br><br>Species=%{customdata[1]}<br>pm1=%{x}<br>pm2=%{y}<br>Unnamed: 0=%{customdata[0]}<br>Kingdom=%{customdata[2]}<br>Family=%{customdata[3]}<br>Color_eukaryota=%{customdata[4]}<extra></extra>",
         "hovertext": [
          "Human"
         ],
         "legendgroup": "Human",
         "marker": {
          "color": "#21e548",
          "symbol": "circle"
         },
         "mode": "markers",
         "name": "Human",
         "orientation": "v",
         "showlegend": true,
         "type": "scatter",
         "x": [
          0.7597423
         ],
         "xaxis": "x",
         "y": [
          -0.27703184
         ],
         "yaxis": "y"
        },
        {
         "customdata": [
          [
           15,
           "Ponab",
           "Eukaryota",
           "Metazoa",
           "EUKARYOTA"
          ]
         ],
         "hovertemplate": "<b>%{hovertext}</b><br><br>Species=%{customdata[1]}<br>pm1=%{x}<br>pm2=%{y}<br>Unnamed: 0=%{customdata[0]}<br>Kingdom=%{customdata[2]}<br>Family=%{customdata[3]}<br>Color_eukaryota=%{customdata[4]}<extra></extra>",
         "hovertext": [
          "Ponab"
         ],
         "legendgroup": "Ponab",
         "marker": {
          "color": "#21e548",
          "symbol": "circle"
         },
         "mode": "markers",
         "name": "Ponab",
         "orientation": "v",
         "showlegend": true,
         "type": "scatter",
         "x": [
          0.73821366
         ],
         "xaxis": "x",
         "y": [
          -0.29074675
         ],
         "yaxis": "y"
        },
        {
         "customdata": [
          [
           16,
           "Macmu",
           "Eukaryota",
           "Metazoa",
           "EUKARYOTA"
          ]
         ],
         "hovertemplate": "<b>%{hovertext}</b><br><br>Species=%{customdata[1]}<br>pm1=%{x}<br>pm2=%{y}<br>Unnamed: 0=%{customdata[0]}<br>Kingdom=%{customdata[2]}<br>Family=%{customdata[3]}<br>Color_eukaryota=%{customdata[4]}<extra></extra>",
         "hovertext": [
          "Macmu"
         ],
         "legendgroup": "Macmu",
         "marker": {
          "color": "#21e548",
          "symbol": "circle"
         },
         "mode": "markers",
         "name": "Macmu",
         "orientation": "v",
         "showlegend": true,
         "type": "scatter",
         "x": [
          0.7346224
         ],
         "xaxis": "x",
         "y": [
          -0.31023738
         ],
         "yaxis": "y"
        },
        {
         "customdata": [
          [
           17,
           "Callithrix",
           "Eukaryota",
           "Metazoa",
           "EUKARYOTA"
          ]
         ],
         "hovertemplate": "<b>%{hovertext}</b><br><br>Species=%{customdata[1]}<br>pm1=%{x}<br>pm2=%{y}<br>Unnamed: 0=%{customdata[0]}<br>Kingdom=%{customdata[2]}<br>Family=%{customdata[3]}<br>Color_eukaryota=%{customdata[4]}<extra></extra>",
         "hovertext": [
          "Callithrix"
         ],
         "legendgroup": "Callithrix",
         "marker": {
          "color": "#21e548",
          "symbol": "circle"
         },
         "mode": "markers",
         "name": "Callithrix",
         "orientation": "v",
         "showlegend": true,
         "type": "scatter",
         "x": [
          0.7250676
         ],
         "xaxis": "x",
         "y": [
          -0.28271288
         ],
         "yaxis": "y"
        },
        {
         "customdata": [
          [
           18,
           "Monodelphis",
           "Eukaryota",
           "Metazoa",
           "EUKARYOTA"
          ]
         ],
         "hovertemplate": "<b>%{hovertext}</b><br><br>Species=%{customdata[1]}<br>pm1=%{x}<br>pm2=%{y}<br>Unnamed: 0=%{customdata[0]}<br>Kingdom=%{customdata[2]}<br>Family=%{customdata[3]}<br>Color_eukaryota=%{customdata[4]}<extra></extra>",
         "hovertext": [
          "Monodelphis"
         ],
         "legendgroup": "Monodelphis",
         "marker": {
          "color": "#21e548",
          "symbol": "circle"
         },
         "mode": "markers",
         "name": "Monodelphis",
         "orientation": "v",
         "showlegend": true,
         "type": "scatter",
         "x": [
          -0.21716145
         ],
         "xaxis": "x",
         "y": [
          0.8529749
         ],
         "yaxis": "y"
        },
        {
         "customdata": [
          [
           19,
           "Ornithorhynchus",
           "Eukaryota",
           "Metazoa",
           "EUKARYOTA"
          ]
         ],
         "hovertemplate": "<b>%{hovertext}</b><br><br>Species=%{customdata[1]}<br>pm1=%{x}<br>pm2=%{y}<br>Unnamed: 0=%{customdata[0]}<br>Kingdom=%{customdata[2]}<br>Family=%{customdata[3]}<br>Color_eukaryota=%{customdata[4]}<extra></extra>",
         "hovertext": [
          "Ornithorhynchus"
         ],
         "legendgroup": "Ornithorhynchus",
         "marker": {
          "color": "#21e548",
          "symbol": "circle"
         },
         "mode": "markers",
         "name": "Ornithorhynchus",
         "orientation": "v",
         "showlegend": true,
         "type": "scatter",
         "x": [
          0.71679676
         ],
         "xaxis": "x",
         "y": [
          -0.35570243
         ],
         "yaxis": "y"
        },
        {
         "customdata": [
          [
           20,
           "Gallus",
           "Eukaryota",
           "Metazoa",
           "EUKARYOTA"
          ]
         ],
         "hovertemplate": "<b>%{hovertext}</b><br><br>Species=%{customdata[1]}<br>pm1=%{x}<br>pm2=%{y}<br>Unnamed: 0=%{customdata[0]}<br>Kingdom=%{customdata[2]}<br>Family=%{customdata[3]}<br>Color_eukaryota=%{customdata[4]}<extra></extra>",
         "hovertext": [
          "Gallus"
         ],
         "legendgroup": "Gallus",
         "marker": {
          "color": "#21e548",
          "symbol": "circle"
         },
         "mode": "markers",
         "name": "Gallus",
         "orientation": "v",
         "showlegend": true,
         "type": "scatter",
         "x": [
          0.77577734
         ],
         "xaxis": "x",
         "y": [
          -0.3663736
         ],
         "yaxis": "y"
        },
        {
         "customdata": [
          [
           21,
           "Melopsittacus",
           "Eukaryota",
           "Metazoa",
           "EUKARYOTA"
          ]
         ],
         "hovertemplate": "<b>%{hovertext}</b><br><br>Species=%{customdata[1]}<br>pm1=%{x}<br>pm2=%{y}<br>Unnamed: 0=%{customdata[0]}<br>Kingdom=%{customdata[2]}<br>Family=%{customdata[3]}<br>Color_eukaryota=%{customdata[4]}<extra></extra>",
         "hovertext": [
          "Melopsittacus"
         ],
         "legendgroup": "Melopsittacus",
         "marker": {
          "color": "#21e548",
          "symbol": "circle"
         },
         "mode": "markers",
         "name": "Melopsittacus",
         "orientation": "v",
         "showlegend": true,
         "type": "scatter",
         "x": [
          0.7629458
         ],
         "xaxis": "x",
         "y": [
          -0.3727987
         ],
         "yaxis": "y"
        },
        {
         "customdata": [
          [
           22,
           "Ophiophagus",
           "Eukaryota",
           "Metazoa",
           "EUKARYOTA"
          ]
         ],
         "hovertemplate": "<b>%{hovertext}</b><br><br>Species=%{customdata[1]}<br>pm1=%{x}<br>pm2=%{y}<br>Unnamed: 0=%{customdata[0]}<br>Kingdom=%{customdata[2]}<br>Family=%{customdata[3]}<br>Color_eukaryota=%{customdata[4]}<extra></extra>",
         "hovertext": [
          "Ophiophagus"
         ],
         "legendgroup": "Ophiophagus",
         "marker": {
          "color": "#21e548",
          "symbol": "circle"
         },
         "mode": "markers",
         "name": "Ophiophagus",
         "orientation": "v",
         "showlegend": true,
         "type": "scatter",
         "x": [
          0.7563788
         ],
         "xaxis": "x",
         "y": [
          -0.36130106
         ],
         "yaxis": "y"
        },
        {
         "customdata": [
          [
           23,
           "Xenopus",
           "Eukaryota",
           "Metazoa",
           "EUKARYOTA"
          ]
         ],
         "hovertemplate": "<b>%{hovertext}</b><br><br>Species=%{customdata[1]}<br>pm1=%{x}<br>pm2=%{y}<br>Unnamed: 0=%{customdata[0]}<br>Kingdom=%{customdata[2]}<br>Family=%{customdata[3]}<br>Color_eukaryota=%{customdata[4]}<extra></extra>",
         "hovertext": [
          "Xenopus"
         ],
         "legendgroup": "Xenopus",
         "marker": {
          "color": "#21e548",
          "symbol": "circle"
         },
         "mode": "markers",
         "name": "Xenopus",
         "orientation": "v",
         "showlegend": true,
         "type": "scatter",
         "x": [
          0.7349526
         ],
         "xaxis": "x",
         "y": [
          -0.41077542
         ],
         "yaxis": "y"
        },
        {
         "customdata": [
          [
           24,
           "Tetraodon",
           "Eukaryota",
           "Metazoa",
           "EUKARYOTA"
          ]
         ],
         "hovertemplate": "<b>%{hovertext}</b><br><br>Species=%{customdata[1]}<br>pm1=%{x}<br>pm2=%{y}<br>Unnamed: 0=%{customdata[0]}<br>Kingdom=%{customdata[2]}<br>Family=%{customdata[3]}<br>Color_eukaryota=%{customdata[4]}<extra></extra>",
         "hovertext": [
          "Tetraodon"
         ],
         "legendgroup": "Tetraodon",
         "marker": {
          "color": "#21e548",
          "symbol": "circle"
         },
         "mode": "markers",
         "name": "Tetraodon",
         "orientation": "v",
         "showlegend": true,
         "type": "scatter",
         "x": [
          0.69961035
         ],
         "xaxis": "x",
         "y": [
          -0.43180823
         ],
         "yaxis": "y"
        },
        {
         "customdata": [
          [
           25,
           "Ictalurus",
           "Eukaryota",
           "Metazoa",
           "EUKARYOTA"
          ]
         ],
         "hovertemplate": "<b>%{hovertext}</b><br><br>Species=%{customdata[1]}<br>pm1=%{x}<br>pm2=%{y}<br>Unnamed: 0=%{customdata[0]}<br>Kingdom=%{customdata[2]}<br>Family=%{customdata[3]}<br>Color_eukaryota=%{customdata[4]}<extra></extra>",
         "hovertext": [
          "Ictalurus"
         ],
         "legendgroup": "Ictalurus",
         "marker": {
          "color": "#21e548",
          "symbol": "circle"
         },
         "mode": "markers",
         "name": "Ictalurus",
         "orientation": "v",
         "showlegend": true,
         "type": "scatter",
         "x": [
          0.72075635
         ],
         "xaxis": "x",
         "y": [
          -0.4281687
         ],
         "yaxis": "y"
        },
        {
         "customdata": [
          [
           26,
           "Danio",
           "Eukaryota",
           "Metazoa",
           "EUKARYOTA"
          ]
         ],
         "hovertemplate": "<b>%{hovertext}</b><br><br>Species=%{customdata[1]}<br>pm1=%{x}<br>pm2=%{y}<br>Unnamed: 0=%{customdata[0]}<br>Kingdom=%{customdata[2]}<br>Family=%{customdata[3]}<br>Color_eukaryota=%{customdata[4]}<extra></extra>",
         "hovertext": [
          "Danio"
         ],
         "legendgroup": "Danio",
         "marker": {
          "color": "#21e548",
          "symbol": "circle"
         },
         "mode": "markers",
         "name": "Danio",
         "orientation": "v",
         "showlegend": true,
         "type": "scatter",
         "x": [
          0.68939376
         ],
         "xaxis": "x",
         "y": [
          -0.4007403
         ],
         "yaxis": "y"
        },
        {
         "customdata": [
          [
           27,
           "Drosophila",
           "Eukaryota",
           "Metazoa",
           "EUKARYOTA"
          ],
          [
           28,
           "Drosophila",
           "Eukaryota",
           "Metazoa",
           "EUKARYOTA"
          ],
          [
           29,
           "Drosophila",
           "Eukaryota",
           "Metazoa",
           "EUKARYOTA"
          ]
         ],
         "hovertemplate": "<b>%{hovertext}</b><br><br>Species=%{customdata[1]}<br>pm1=%{x}<br>pm2=%{y}<br>Unnamed: 0=%{customdata[0]}<br>Kingdom=%{customdata[2]}<br>Family=%{customdata[3]}<br>Color_eukaryota=%{customdata[4]}<extra></extra>",
         "hovertext": [
          "Drosophila",
          "Drosophila",
          "Drosophila"
         ],
         "legendgroup": "Drosophila",
         "marker": {
          "color": "#21e548",
          "symbol": "circle"
         },
         "mode": "markers",
         "name": "Drosophila",
         "orientation": "v",
         "showlegend": true,
         "type": "scatter",
         "x": [
          0.65207154,
          0.6596283,
          0.6675054
         ],
         "xaxis": "x",
         "y": [
          -0.69403994,
          -0.6995601,
          -0.6953191
         ],
         "yaxis": "y"
        },
        {
         "customdata": [
          [
           30,
           "Apis",
           "Eukaryota",
           "Metazoa",
           "EUKARYOTA"
          ]
         ],
         "hovertemplate": "<b>%{hovertext}</b><br><br>Species=%{customdata[1]}<br>pm1=%{x}<br>pm2=%{y}<br>Unnamed: 0=%{customdata[0]}<br>Kingdom=%{customdata[2]}<br>Family=%{customdata[3]}<br>Color_eukaryota=%{customdata[4]}<extra></extra>",
         "hovertext": [
          "Apis"
         ],
         "legendgroup": "Apis",
         "marker": {
          "color": "#21e548",
          "symbol": "circle"
         },
         "mode": "markers",
         "name": "Apis",
         "orientation": "v",
         "showlegend": true,
         "type": "scatter",
         "x": [
          0.6618043
         ],
         "xaxis": "x",
         "y": [
          -0.68355185
         ],
         "yaxis": "y"
        },
        {
         "customdata": [
          [
           31,
           "Tribolium",
           "Eukaryota",
           "Metazoa",
           "EUKARYOTA"
          ]
         ],
         "hovertemplate": "<b>%{hovertext}</b><br><br>Species=%{customdata[1]}<br>pm1=%{x}<br>pm2=%{y}<br>Unnamed: 0=%{customdata[0]}<br>Kingdom=%{customdata[2]}<br>Family=%{customdata[3]}<br>Color_eukaryota=%{customdata[4]}<extra></extra>",
         "hovertext": [
          "Tribolium"
         ],
         "legendgroup": "Tribolium",
         "marker": {
          "color": "#21e548",
          "symbol": "circle"
         },
         "mode": "markers",
         "name": "Tribolium",
         "orientation": "v",
         "showlegend": true,
         "type": "scatter",
         "x": [
          0.6568943
         ],
         "xaxis": "x",
         "y": [
          -0.68796766
         ],
         "yaxis": "y"
        },
        {
         "customdata": [
          [
           32,
           "Bombyx",
           "Eukaryota",
           "Metazoa",
           "EUKARYOTA"
          ]
         ],
         "hovertemplate": "<b>%{hovertext}</b><br><br>Species=%{customdata[1]}<br>pm1=%{x}<br>pm2=%{y}<br>Unnamed: 0=%{customdata[0]}<br>Kingdom=%{customdata[2]}<br>Family=%{customdata[3]}<br>Color_eukaryota=%{customdata[4]}<extra></extra>",
         "hovertext": [
          "Bombyx"
         ],
         "legendgroup": "Bombyx",
         "marker": {
          "color": "#21e548",
          "symbol": "circle"
         },
         "mode": "markers",
         "name": "Bombyx",
         "orientation": "v",
         "showlegend": true,
         "type": "scatter",
         "x": [
          0.6652614
         ],
         "xaxis": "x",
         "y": [
          -0.6888212
         ],
         "yaxis": "y"
        },
        {
         "customdata": [
          [
           33,
           "Graphocephala",
           "Eukaryota",
           "Metazoa",
           "EUKARYOTA"
          ]
         ],
         "hovertemplate": "<b>%{hovertext}</b><br><br>Species=%{customdata[1]}<br>pm1=%{x}<br>pm2=%{y}<br>Unnamed: 0=%{customdata[0]}<br>Kingdom=%{customdata[2]}<br>Family=%{customdata[3]}<br>Color_eukaryota=%{customdata[4]}<extra></extra>",
         "hovertext": [
          "Graphocephala"
         ],
         "legendgroup": "Graphocephala",
         "marker": {
          "color": "#21e548",
          "symbol": "circle"
         },
         "mode": "markers",
         "name": "Graphocephala",
         "orientation": "v",
         "showlegend": true,
         "type": "scatter",
         "x": [
          0.65626323
         ],
         "xaxis": "x",
         "y": [
          -0.66978806
         ],
         "yaxis": "y"
        },
        {
         "customdata": [
          [
           34,
           "Litopenaeus",
           "Eukaryota",
           "Metazoa",
           "EUKARYOTA"
          ]
         ],
         "hovertemplate": "<b>%{hovertext}</b><br><br>Species=%{customdata[1]}<br>pm1=%{x}<br>pm2=%{y}<br>Unnamed: 0=%{customdata[0]}<br>Kingdom=%{customdata[2]}<br>Family=%{customdata[3]}<br>Color_eukaryota=%{customdata[4]}<extra></extra>",
         "hovertext": [
          "Litopenaeus"
         ],
         "legendgroup": "Litopenaeus",
         "marker": {
          "color": "#21e548",
          "symbol": "circle"
         },
         "mode": "markers",
         "name": "Litopenaeus",
         "orientation": "v",
         "showlegend": true,
         "type": "scatter",
         "x": [
          0.6725845
         ],
         "xaxis": "x",
         "y": [
          -0.68188775
         ],
         "yaxis": "y"
        },
        {
         "customdata": [
          [
           35,
           "Geocy",
           "Eukaryota",
           "Metazoa",
           "EUKARYOTA"
          ]
         ],
         "hovertemplate": "<b>%{hovertext}</b><br><br>Species=%{customdata[1]}<br>pm1=%{x}<br>pm2=%{y}<br>Unnamed: 0=%{customdata[0]}<br>Kingdom=%{customdata[2]}<br>Family=%{customdata[3]}<br>Color_eukaryota=%{customdata[4]}<extra></extra>",
         "hovertext": [
          "Geocy"
         ],
         "legendgroup": "Geocy",
         "marker": {
          "color": "#21e548",
          "symbol": "circle"
         },
         "mode": "markers",
         "name": "Geocy",
         "orientation": "v",
         "showlegend": true,
         "type": "scatter",
         "x": [
          0.6673929
         ],
         "xaxis": "x",
         "y": [
          -0.5366423
         ],
         "yaxis": "y"
        },
        {
         "customdata": [
          [
           36,
           "Aspergillus",
           "Eukaryota",
           "Fungi",
           "EUKARYOTA"
          ],
          [
           38,
           "Aspergillus",
           "Eukaryota",
           "Fungi",
           "EUKARYOTA"
          ],
          [
           39,
           "Aspergillus",
           "Eukaryota",
           "Fungi",
           "EUKARYOTA"
          ]
         ],
         "hovertemplate": "<b>%{hovertext}</b><br><br>Species=%{customdata[1]}<br>pm1=%{x}<br>pm2=%{y}<br>Unnamed: 0=%{customdata[0]}<br>Kingdom=%{customdata[2]}<br>Family=%{customdata[3]}<br>Color_eukaryota=%{customdata[4]}<extra></extra>",
         "hovertext": [
          "Aspergillus",
          "Aspergillus",
          "Aspergillus"
         ],
         "legendgroup": "Aspergillus",
         "marker": {
          "color": "#1fb995",
          "symbol": "circle"
         },
         "mode": "markers",
         "name": "Aspergillus",
         "orientation": "v",
         "showlegend": true,
         "type": "scatter",
         "x": [
          0.50188816,
          0.4811097,
          0.47526607
         ],
         "xaxis": "x",
         "y": [
          -0.4417105,
          -0.5211565,
          -0.53208864
         ],
         "yaxis": "y"
        },
        {
         "customdata": [
          [
           37,
           "Neosartorya",
           "Eukaryota",
           "Fungi",
           "EUKARYOTA"
          ]
         ],
         "hovertemplate": "<b>%{hovertext}</b><br><br>Species=%{customdata[1]}<br>pm1=%{x}<br>pm2=%{y}<br>Unnamed: 0=%{customdata[0]}<br>Kingdom=%{customdata[2]}<br>Family=%{customdata[3]}<br>Color_eukaryota=%{customdata[4]}<extra></extra>",
         "hovertext": [
          "Neosartorya"
         ],
         "legendgroup": "Neosartorya",
         "marker": {
          "color": "#1fb995",
          "symbol": "circle"
         },
         "mode": "markers",
         "name": "Neosartorya",
         "orientation": "v",
         "showlegend": true,
         "type": "scatter",
         "x": [
          0.51567656
         ],
         "xaxis": "x",
         "y": [
          -0.5046882
         ],
         "yaxis": "y"
        },
        {
         "customdata": [
          [
           40,
           "Pichia",
           "Eukaryota",
           "Fungi",
           "EUKARYOTA"
          ],
          [
           42,
           "Pichia",
           "Eukaryota",
           "Fungi",
           "EUKARYOTA"
          ]
         ],
         "hovertemplate": "<b>%{hovertext}</b><br><br>Species=%{customdata[1]}<br>pm1=%{x}<br>pm2=%{y}<br>Unnamed: 0=%{customdata[0]}<br>Kingdom=%{customdata[2]}<br>Family=%{customdata[3]}<br>Color_eukaryota=%{customdata[4]}<extra></extra>",
         "hovertext": [
          "Pichia",
          "Pichia"
         ],
         "legendgroup": "Pichia",
         "marker": {
          "color": "#1fb995",
          "symbol": "circle"
         },
         "mode": "markers",
         "name": "Pichia",
         "orientation": "v",
         "showlegend": true,
         "type": "scatter",
         "x": [
          0.55678445,
          0.43503866
         ],
         "xaxis": "x",
         "y": [
          -0.1861869,
          -0.49344757
         ],
         "yaxis": "y"
        },
        {
         "customdata": [
          [
           41,
           "Candida",
           "Eukaryota",
           "Fungi",
           "EUKARYOTA"
          ],
          [
           45,
           "Candida",
           "Eukaryota",
           "Fungi",
           "EUKARYOTA"
          ]
         ],
         "hovertemplate": "<b>%{hovertext}</b><br><br>Species=%{customdata[1]}<br>pm1=%{x}<br>pm2=%{y}<br>Unnamed: 0=%{customdata[0]}<br>Kingdom=%{customdata[2]}<br>Family=%{customdata[3]}<br>Color_eukaryota=%{customdata[4]}<extra></extra>",
         "hovertext": [
          "Candida",
          "Candida"
         ],
         "legendgroup": "Candida",
         "marker": {
          "color": "#1fb995",
          "symbol": "circle"
         },
         "mode": "markers",
         "name": "Candida",
         "orientation": "v",
         "showlegend": true,
         "type": "scatter",
         "x": [
          0.3576606,
          0.36210752
         ],
         "xaxis": "x",
         "y": [
          -0.5487053,
          -0.50548387
         ],
         "yaxis": "y"
        },
        {
         "customdata": [
          [
           43,
           "Kluyveromyces",
           "Eukaryota",
           "Fungi",
           "EUKARYOTA"
          ]
         ],
         "hovertemplate": "<b>%{hovertext}</b><br><br>Species=%{customdata[1]}<br>pm1=%{x}<br>pm2=%{y}<br>Unnamed: 0=%{customdata[0]}<br>Kingdom=%{customdata[2]}<br>Family=%{customdata[3]}<br>Color_eukaryota=%{customdata[4]}<extra></extra>",
         "hovertext": [
          "Kluyveromyces"
         ],
         "legendgroup": "Kluyveromyces",
         "marker": {
          "color": "#1fb995",
          "symbol": "circle"
         },
         "mode": "markers",
         "name": "Kluyveromyces",
         "orientation": "v",
         "showlegend": true,
         "type": "scatter",
         "x": [
          0.37538314
         ],
         "xaxis": "x",
         "y": [
          -0.515431
         ],
         "yaxis": "y"
        },
        {
         "customdata": [
          [
           44,
           "Saccharomyces",
           "Eukaryota",
           "Fungi",
           "EUKARYOTA"
          ],
          [
           46,
           "Saccharomyces",
           "Eukaryota",
           "Fungi",
           "EUKARYOTA"
          ]
         ],
         "hovertemplate": "<b>%{hovertext}</b><br><br>Species=%{customdata[1]}<br>pm1=%{x}<br>pm2=%{y}<br>Unnamed: 0=%{customdata[0]}<br>Kingdom=%{customdata[2]}<br>Family=%{customdata[3]}<br>Color_eukaryota=%{customdata[4]}<extra></extra>",
         "hovertext": [
          "Saccharomyces",
          "Saccharomyces"
         ],
         "legendgroup": "Saccharomyces",
         "marker": {
          "color": "#1fb995",
          "symbol": "circle"
         },
         "mode": "markers",
         "name": "Saccharomyces",
         "orientation": "v",
         "showlegend": true,
         "type": "scatter",
         "x": [
          0.37718612,
          0.39025632
         ],
         "xaxis": "x",
         "y": [
          -0.56389743,
          -0.5358281
         ],
         "yaxis": "y"
        },
        {
         "customdata": [
          [
           47,
           "Schizosaccharomyces",
           "Eukaryota",
           "Fungi",
           "EUKARYOTA"
          ]
         ],
         "hovertemplate": "<b>%{hovertext}</b><br><br>Species=%{customdata[1]}<br>pm1=%{x}<br>pm2=%{y}<br>Unnamed: 0=%{customdata[0]}<br>Kingdom=%{customdata[2]}<br>Family=%{customdata[3]}<br>Color_eukaryota=%{customdata[4]}<extra></extra>",
         "hovertext": [
          "Schizosaccharomyces"
         ],
         "legendgroup": "Schizosaccharomyces",
         "marker": {
          "color": "#1fb995",
          "symbol": "circle"
         },
         "mode": "markers",
         "name": "Schizosaccharomyces",
         "orientation": "v",
         "showlegend": true,
         "type": "scatter",
         "x": [
          0.48818675
         ],
         "xaxis": "x",
         "y": [
          -0.48549673
         ],
         "yaxis": "y"
        },
        {
         "customdata": [
          [
           48,
           "Monosiga",
           "Eukaryota",
           "Choanoflagellata",
           "EUKARYOTA"
          ]
         ],
         "hovertemplate": "<b>%{hovertext}</b><br><br>Species=%{customdata[1]}<br>pm1=%{x}<br>pm2=%{y}<br>Unnamed: 0=%{customdata[0]}<br>Kingdom=%{customdata[2]}<br>Family=%{customdata[3]}<br>Color_eukaryota=%{customdata[4]}<extra></extra>",
         "hovertext": [
          "Monosiga"
         ],
         "legendgroup": "Monosiga",
         "marker": {
          "color": "#21e548",
          "symbol": "circle"
         },
         "mode": "markers",
         "name": "Monosiga",
         "orientation": "v",
         "showlegend": true,
         "type": "scatter",
         "x": [
          0.56558096
         ],
         "xaxis": "x",
         "y": [
          -0.29369023
         ],
         "yaxis": "y"
        },
        {
         "customdata": [
          [
           49,
           "Entamoeba",
           "Eukaryota",
           "Amoebozoa",
           "EUKARYOTA"
          ]
         ],
         "hovertemplate": "<b>%{hovertext}</b><br><br>Species=%{customdata[1]}<br>pm1=%{x}<br>pm2=%{y}<br>Unnamed: 0=%{customdata[0]}<br>Kingdom=%{customdata[2]}<br>Family=%{customdata[3]}<br>Color_eukaryota=%{customdata[4]}<extra></extra>",
         "hovertext": [
          "Entamoeba"
         ],
         "legendgroup": "Entamoeba",
         "marker": {
          "color": "#21e548",
          "symbol": "circle"
         },
         "mode": "markers",
         "name": "Entamoeba",
         "orientation": "v",
         "showlegend": true,
         "type": "scatter",
         "x": [
          0.7287921
         ],
         "xaxis": "x",
         "y": [
          -0.4495884
         ],
         "yaxis": "y"
        },
        {
         "customdata": [
          [
           50,
           "Dictyostelium",
           "Eukaryota",
           "Amoebozoa",
           "EUKARYOTA"
          ]
         ],
         "hovertemplate": "<b>%{hovertext}</b><br><br>Species=%{customdata[1]}<br>pm1=%{x}<br>pm2=%{y}<br>Unnamed: 0=%{customdata[0]}<br>Kingdom=%{customdata[2]}<br>Family=%{customdata[3]}<br>Color_eukaryota=%{customdata[4]}<extra></extra>",
         "hovertext": [
          "Dictyostelium"
         ],
         "legendgroup": "Dictyostelium",
         "marker": {
          "color": "#21e548",
          "symbol": "circle"
         },
         "mode": "markers",
         "name": "Dictyostelium",
         "orientation": "v",
         "showlegend": true,
         "type": "scatter",
         "x": [
          0.65927297
         ],
         "xaxis": "x",
         "y": [
          -0.4264152
         ],
         "yaxis": "y"
        },
        {
         "customdata": [
          [
           51,
           "Arabidopsis",
           "Eukaryota",
           "Viridiplantae",
           "EUKARYOTA"
          ],
          [
           52,
           "Arabidopsis",
           "Eukaryota",
           "Viridiplantae",
           "EUKARYOTA"
          ]
         ],
         "hovertemplate": "<b>%{hovertext}</b><br><br>Species=%{customdata[1]}<br>pm1=%{x}<br>pm2=%{y}<br>Unnamed: 0=%{customdata[0]}<br>Kingdom=%{customdata[2]}<br>Family=%{customdata[3]}<br>Color_eukaryota=%{customdata[4]}<extra></extra>",
         "hovertext": [
          "Arabidopsis",
          "Arabidopsis"
         ],
         "legendgroup": "Arabidopsis",
         "marker": {
          "color": "#06f9d4",
          "symbol": "circle"
         },
         "mode": "markers",
         "name": "Arabidopsis",
         "orientation": "v",
         "showlegend": true,
         "type": "scatter",
         "x": [
          -0.86917776,
          -0.8793633
         ],
         "xaxis": "x",
         "y": [
          0.12664348,
          0.14512247
         ],
         "yaxis": "y"
        },
        {
         "customdata": [
          [
           53,
           "Limonium",
           "Eukaryota",
           "Viridiplantae",
           "EUKARYOTA"
          ]
         ],
         "hovertemplate": "<b>%{hovertext}</b><br><br>Species=%{customdata[1]}<br>pm1=%{x}<br>pm2=%{y}<br>Unnamed: 0=%{customdata[0]}<br>Kingdom=%{customdata[2]}<br>Family=%{customdata[3]}<br>Color_eukaryota=%{customdata[4]}<extra></extra>",
         "hovertext": [
          "Limonium"
         ],
         "legendgroup": "Limonium",
         "marker": {
          "color": "#c7c7c7",
          "symbol": "circle"
         },
         "mode": "markers",
         "name": "Limonium",
         "orientation": "v",
         "showlegend": true,
         "type": "scatter",
         "x": [
          -0.89356667
         ],
         "xaxis": "x",
         "y": [
          0.108665094
         ],
         "yaxis": "y"
        },
        {
         "customdata": [
          [
           54,
           "Zea",
           "Eukaryota",
           "Viridiplantae",
           "EUKARYOTA"
          ]
         ],
         "hovertemplate": "<b>%{hovertext}</b><br><br>Species=%{customdata[1]}<br>pm1=%{x}<br>pm2=%{y}<br>Unnamed: 0=%{customdata[0]}<br>Kingdom=%{customdata[2]}<br>Family=%{customdata[3]}<br>Color_eukaryota=%{customdata[4]}<extra></extra>",
         "hovertext": [
          "Zea"
         ],
         "legendgroup": "Zea",
         "marker": {
          "color": "#c7c7c7",
          "symbol": "circle"
         },
         "mode": "markers",
         "name": "Zea",
         "orientation": "v",
         "showlegend": true,
         "type": "scatter",
         "x": [
          -0.9161608
         ],
         "xaxis": "x",
         "y": [
          0.07582022
         ],
         "yaxis": "y"
        },
        {
         "customdata": [
          [
           55,
           "Vitis",
           "Eukaryota",
           "Viridiplantae",
           "EUKARYOTA"
          ]
         ],
         "hovertemplate": "<b>%{hovertext}</b><br><br>Species=%{customdata[1]}<br>pm1=%{x}<br>pm2=%{y}<br>Unnamed: 0=%{customdata[0]}<br>Kingdom=%{customdata[2]}<br>Family=%{customdata[3]}<br>Color_eukaryota=%{customdata[4]}<extra></extra>",
         "hovertext": [
          "Vitis"
         ],
         "legendgroup": "Vitis",
         "marker": {
          "color": "#c7c7c7",
          "symbol": "circle"
         },
         "mode": "markers",
         "name": "Vitis",
         "orientation": "v",
         "showlegend": true,
         "type": "scatter",
         "x": [
          -0.9134737
         ],
         "xaxis": "x",
         "y": [
          0.09025349
         ],
         "yaxis": "y"
        },
        {
         "customdata": [
          [
           56,
           "Ostreococcus",
           "Eukaryota",
           "Viridiplantae",
           "EUKARYOTA"
          ]
         ],
         "hovertemplate": "<b>%{hovertext}</b><br><br>Species=%{customdata[1]}<br>pm1=%{x}<br>pm2=%{y}<br>Unnamed: 0=%{customdata[0]}<br>Kingdom=%{customdata[2]}<br>Family=%{customdata[3]}<br>Color_eukaryota=%{customdata[4]}<extra></extra>",
         "hovertext": [
          "Ostreococcus"
         ],
         "legendgroup": "Ostreococcus",
         "marker": {
          "color": "#b5e521",
          "symbol": "circle"
         },
         "mode": "markers",
         "name": "Ostreococcus",
         "orientation": "v",
         "showlegend": true,
         "type": "scatter",
         "x": [
          0.62640446
         ],
         "xaxis": "x",
         "y": [
          -0.27033287
         ],
         "yaxis": "y"
        },
        {
         "customdata": [
          [
           57,
           "Helicosporidium",
           "Eukaryota",
           "Viridiplantae",
           "EUKARYOTA"
          ]
         ],
         "hovertemplate": "<b>%{hovertext}</b><br><br>Species=%{customdata[1]}<br>pm1=%{x}<br>pm2=%{y}<br>Unnamed: 0=%{customdata[0]}<br>Kingdom=%{customdata[2]}<br>Family=%{customdata[3]}<br>Color_eukaryota=%{customdata[4]}<extra></extra>",
         "hovertext": [
          "Helicosporidium"
         ],
         "legendgroup": "Helicosporidium",
         "marker": {
          "color": "#b5e521",
          "symbol": "circle"
         },
         "mode": "markers",
         "name": "Helicosporidium",
         "orientation": "v",
         "showlegend": true,
         "type": "scatter",
         "x": [
          0.6622629
         ],
         "xaxis": "x",
         "y": [
          -0.3584449
         ],
         "yaxis": "y"
        },
        {
         "customdata": [
          [
           58,
           "Fagopyrum",
           "Eukaryota",
           "Viridiplantae",
           "EUKARYOTA"
          ]
         ],
         "hovertemplate": "<b>%{hovertext}</b><br><br>Species=%{customdata[1]}<br>pm1=%{x}<br>pm2=%{y}<br>Unnamed: 0=%{customdata[0]}<br>Kingdom=%{customdata[2]}<br>Family=%{customdata[3]}<br>Color_eukaryota=%{customdata[4]}<extra></extra>",
         "hovertext": [
          "Fagopyrum"
         ],
         "legendgroup": "Fagopyrum",
         "marker": {
          "color": "#b5e521",
          "symbol": "circle"
         },
         "mode": "markers",
         "name": "Fagopyrum",
         "orientation": "v",
         "showlegend": true,
         "type": "scatter",
         "x": [
          0.51490015
         ],
         "xaxis": "x",
         "y": [
          -0.38319805
         ],
         "yaxis": "y"
        },
        {
         "customdata": [
          [
           59,
           "Cryptosporidium",
           "Eukaryota",
           "Alveolata",
           "EUKARYOTA"
          ]
         ],
         "hovertemplate": "<b>%{hovertext}</b><br><br>Species=%{customdata[1]}<br>pm1=%{x}<br>pm2=%{y}<br>Unnamed: 0=%{customdata[0]}<br>Kingdom=%{customdata[2]}<br>Family=%{customdata[3]}<br>Color_eukaryota=%{customdata[4]}<extra></extra>",
         "hovertext": [
          "Cryptosporidium"
         ],
         "legendgroup": "Cryptosporidium",
         "marker": {
          "color": "#21e548",
          "symbol": "circle"
         },
         "mode": "markers",
         "name": "Cryptosporidium",
         "orientation": "v",
         "showlegend": true,
         "type": "scatter",
         "x": [
          0.39783338
         ],
         "xaxis": "x",
         "y": [
          -0.48910126
         ],
         "yaxis": "y"
        },
        {
         "customdata": [
          [
           60,
           "Theileria",
           "Eukaryota",
           "Sar",
           "EUKARYOTA"
          ]
         ],
         "hovertemplate": "<b>%{hovertext}</b><br><br>Species=%{customdata[1]}<br>pm1=%{x}<br>pm2=%{y}<br>Unnamed: 0=%{customdata[0]}<br>Kingdom=%{customdata[2]}<br>Family=%{customdata[3]}<br>Color_eukaryota=%{customdata[4]}<extra></extra>",
         "hovertext": [
          "Theileria"
         ],
         "legendgroup": "Theileria",
         "marker": {
          "color": "#21e548",
          "symbol": "circle"
         },
         "mode": "markers",
         "name": "Theileria",
         "orientation": "v",
         "showlegend": true,
         "type": "scatter",
         "x": [
          0.61670417
         ],
         "xaxis": "x",
         "y": [
          -0.31935105
         ],
         "yaxis": "y"
        },
        {
         "customdata": [
          [
           61,
           "Plasmodium",
           "Eukaryota",
           "Alveolata",
           "EUKARYOTA"
          ]
         ],
         "hovertemplate": "<b>%{hovertext}</b><br><br>Species=%{customdata[1]}<br>pm1=%{x}<br>pm2=%{y}<br>Unnamed: 0=%{customdata[0]}<br>Kingdom=%{customdata[2]}<br>Family=%{customdata[3]}<br>Color_eukaryota=%{customdata[4]}<extra></extra>",
         "hovertext": [
          "Plasmodium"
         ],
         "legendgroup": "Plasmodium",
         "marker": {
          "color": "#21e548",
          "symbol": "circle"
         },
         "mode": "markers",
         "name": "Plasmodium",
         "orientation": "v",
         "showlegend": true,
         "type": "scatter",
         "x": [
          0.5709501
         ],
         "xaxis": "x",
         "y": [
          -0.44280612
         ],
         "yaxis": "y"
        },
        {
         "customdata": [
          [
           62,
           "Archaeoglobus",
           "Archaea",
           "Euryarchaeota",
           "OTHERS"
          ],
          [
           76,
           "Archaeoglobus",
           "Archaea",
           "Euryarchaeota",
           "OTHERS"
          ]
         ],
         "hovertemplate": "<b>%{hovertext}</b><br><br>Species=%{customdata[1]}<br>pm1=%{x}<br>pm2=%{y}<br>Unnamed: 0=%{customdata[0]}<br>Kingdom=%{customdata[2]}<br>Family=%{customdata[3]}<br>Color_eukaryota=%{customdata[4]}<extra></extra>",
         "hovertext": [
          "Archaeoglobus",
          "Archaeoglobus"
         ],
         "legendgroup": "Archaeoglobus",
         "marker": {
          "color": "#ff0000",
          "symbol": "circle"
         },
         "mode": "markers",
         "name": "Archaeoglobus",
         "orientation": "v",
         "showlegend": true,
         "type": "scatter",
         "x": [
          -0.1623433,
          -0.06770586
         ],
         "xaxis": "x",
         "y": [
          0.13802329,
          0.13810757
         ],
         "yaxis": "y"
        },
        {
         "customdata": [
          [
           63,
           "Methanosaeta",
           "Archaea",
           "Euryarchaeota",
           "OTHERS"
          ],
          [
           70,
           "Methanosaeta",
           "Archaea",
           "Euryarchaeota",
           "OTHERS"
          ]
         ],
         "hovertemplate": "<b>%{hovertext}</b><br><br>Species=%{customdata[1]}<br>pm1=%{x}<br>pm2=%{y}<br>Unnamed: 0=%{customdata[0]}<br>Kingdom=%{customdata[2]}<br>Family=%{customdata[3]}<br>Color_eukaryota=%{customdata[4]}<extra></extra>",
         "hovertext": [
          "Methanosaeta",
          "Methanosaeta"
         ],
         "legendgroup": "Methanosaeta",
         "marker": {
          "color": "#ff0000",
          "symbol": "circle"
         },
         "mode": "markers",
         "name": "Methanosaeta",
         "orientation": "v",
         "showlegend": true,
         "type": "scatter",
         "x": [
          0.038492568,
          -0.34427738
         ],
         "xaxis": "x",
         "y": [
          0.2180613,
          0.2751655
         ],
         "yaxis": "y"
        },
        {
         "customdata": [
          [
           64,
           "Methanococcoides",
           "Archaea",
           "Euryarchaeota",
           "OTHERS"
          ]
         ],
         "hovertemplate": "<b>%{hovertext}</b><br><br>Species=%{customdata[1]}<br>pm1=%{x}<br>pm2=%{y}<br>Unnamed: 0=%{customdata[0]}<br>Kingdom=%{customdata[2]}<br>Family=%{customdata[3]}<br>Color_eukaryota=%{customdata[4]}<extra></extra>",
         "hovertext": [
          "Methanococcoides"
         ],
         "legendgroup": "Methanococcoides",
         "marker": {
          "color": "#ff0000",
          "symbol": "circle"
         },
         "mode": "markers",
         "name": "Methanococcoides",
         "orientation": "v",
         "showlegend": true,
         "type": "scatter",
         "x": [
          0.09970881
         ],
         "xaxis": "x",
         "y": [
          0.19509624
         ],
         "yaxis": "y"
        },
        {
         "customdata": [
          [
           65,
           "Candidatus",
           "Archaea",
           "Euryarchaeota",
           "OTHERS"
          ]
         ],
         "hovertemplate": "<b>%{hovertext}</b><br><br>Species=%{customdata[1]}<br>pm1=%{x}<br>pm2=%{y}<br>Unnamed: 0=%{customdata[0]}<br>Kingdom=%{customdata[2]}<br>Family=%{customdata[3]}<br>Color_eukaryota=%{customdata[4]}<extra></extra>",
         "hovertext": [
          "Candidatus"
         ],
         "legendgroup": "Candidatus",
         "marker": {
          "color": "#ff0000",
          "symbol": "circle"
         },
         "mode": "markers",
         "name": "Candidatus",
         "orientation": "v",
         "showlegend": true,
         "type": "scatter",
         "x": [
          -0.077112146
         ],
         "xaxis": "x",
         "y": [
          0.20836788
         ],
         "yaxis": "y"
        },
        {
         "customdata": [
          [
           66,
           "Methanospirillum",
           "Archaea",
           "Euryarchaeota",
           "OTHERS"
          ]
         ],
         "hovertemplate": "<b>%{hovertext}</b><br><br>Species=%{customdata[1]}<br>pm1=%{x}<br>pm2=%{y}<br>Unnamed: 0=%{customdata[0]}<br>Kingdom=%{customdata[2]}<br>Family=%{customdata[3]}<br>Color_eukaryota=%{customdata[4]}<extra></extra>",
         "hovertext": [
          "Methanospirillum"
         ],
         "legendgroup": "Methanospirillum",
         "marker": {
          "color": "#ff0000",
          "symbol": "circle"
         },
         "mode": "markers",
         "name": "Methanospirillum",
         "orientation": "v",
         "showlegend": true,
         "type": "scatter",
         "x": [
          -0.07760584
         ],
         "xaxis": "x",
         "y": [
          0.20805234
         ],
         "yaxis": "y"
        },
        {
         "customdata": [
          [
           67,
           "Picrophilus",
           "Archaea",
           "Euryarchaeota",
           "OTHERS"
          ]
         ],
         "hovertemplate": "<b>%{hovertext}</b><br><br>Species=%{customdata[1]}<br>pm1=%{x}<br>pm2=%{y}<br>Unnamed: 0=%{customdata[0]}<br>Kingdom=%{customdata[2]}<br>Family=%{customdata[3]}<br>Color_eukaryota=%{customdata[4]}<extra></extra>",
         "hovertext": [
          "Picrophilus"
         ],
         "legendgroup": "Picrophilus",
         "marker": {
          "color": "#ff0000",
          "symbol": "circle"
         },
         "mode": "markers",
         "name": "Picrophilus",
         "orientation": "v",
         "showlegend": true,
         "type": "scatter",
         "x": [
          0.24694018
         ],
         "xaxis": "x",
         "y": [
          0.24806313
         ],
         "yaxis": "y"
        },
        {
         "customdata": [
          [
           68,
           "Methanococcus",
           "Archaea",
           "Euryarchaeota",
           "OTHERS"
          ]
         ],
         "hovertemplate": "<b>%{hovertext}</b><br><br>Species=%{customdata[1]}<br>pm1=%{x}<br>pm2=%{y}<br>Unnamed: 0=%{customdata[0]}<br>Kingdom=%{customdata[2]}<br>Family=%{customdata[3]}<br>Color_eukaryota=%{customdata[4]}<extra></extra>",
         "hovertext": [
          "Methanococcus"
         ],
         "legendgroup": "Methanococcus",
         "marker": {
          "color": "#ff0000",
          "symbol": "circle"
         },
         "mode": "markers",
         "name": "Methanococcus",
         "orientation": "v",
         "showlegend": true,
         "type": "scatter",
         "x": [
          -0.06422989
         ],
         "xaxis": "x",
         "y": [
          -0.17040247
         ],
         "yaxis": "y"
        },
        {
         "customdata": [
          [
           69,
           "Methanocorpusculum",
           "Archaea",
           "Euryarchaeota",
           "OTHERS"
          ]
         ],
         "hovertemplate": "<b>%{hovertext}</b><br><br>Species=%{customdata[1]}<br>pm1=%{x}<br>pm2=%{y}<br>Unnamed: 0=%{customdata[0]}<br>Kingdom=%{customdata[2]}<br>Family=%{customdata[3]}<br>Color_eukaryota=%{customdata[4]}<extra></extra>",
         "hovertext": [
          "Methanocorpusculum"
         ],
         "legendgroup": "Methanocorpusculum",
         "marker": {
          "color": "#ff0000",
          "symbol": "circle"
         },
         "mode": "markers",
         "name": "Methanocorpusculum",
         "orientation": "v",
         "showlegend": true,
         "type": "scatter",
         "x": [
          -0.28064135
         ],
         "xaxis": "x",
         "y": [
          0.302491
         ],
         "yaxis": "y"
        },
        {
         "customdata": [
          [
           71,
           "Natronomonas",
           "Archaea",
           "Euryarchaeota",
           "OTHERS"
          ],
          [
           74,
           "Natronomonas",
           "Archaea",
           "Euryarchaeota",
           "OTHERS"
          ]
         ],
         "hovertemplate": "<b>%{hovertext}</b><br><br>Species=%{customdata[1]}<br>pm1=%{x}<br>pm2=%{y}<br>Unnamed: 0=%{customdata[0]}<br>Kingdom=%{customdata[2]}<br>Family=%{customdata[3]}<br>Color_eukaryota=%{customdata[4]}<extra></extra>",
         "hovertext": [
          "Natronomonas",
          "Natronomonas"
         ],
         "legendgroup": "Natronomonas",
         "marker": {
          "color": "#ff0000",
          "symbol": "circle"
         },
         "mode": "markers",
         "name": "Natronomonas",
         "orientation": "v",
         "showlegend": true,
         "type": "scatter",
         "x": [
          -0.36876234,
          -0.3973217
         ],
         "xaxis": "x",
         "y": [
          -0.6183521,
          -0.58613604
         ],
         "yaxis": "y"
        },
        {
         "customdata": [
          [
           72,
           "Haloquadratum",
           "Archaea",
           "Euryarchaeota",
           "OTHERS"
          ]
         ],
         "hovertemplate": "<b>%{hovertext}</b><br><br>Species=%{customdata[1]}<br>pm1=%{x}<br>pm2=%{y}<br>Unnamed: 0=%{customdata[0]}<br>Kingdom=%{customdata[2]}<br>Family=%{customdata[3]}<br>Color_eukaryota=%{customdata[4]}<extra></extra>",
         "hovertext": [
          "Haloquadratum"
         ],
         "legendgroup": "Haloquadratum",
         "marker": {
          "color": "#ff0000",
          "symbol": "circle"
         },
         "mode": "markers",
         "name": "Haloquadratum",
         "orientation": "v",
         "showlegend": true,
         "type": "scatter",
         "x": [
          -0.375414
         ],
         "xaxis": "x",
         "y": [
          -0.62744945
         ],
         "yaxis": "y"
        },
        {
         "customdata": [
          [
           73,
           "Haloarcula",
           "Archaea",
           "Euryarchaeota",
           "OTHERS"
          ]
         ],
         "hovertemplate": "<b>%{hovertext}</b><br><br>Species=%{customdata[1]}<br>pm1=%{x}<br>pm2=%{y}<br>Unnamed: 0=%{customdata[0]}<br>Kingdom=%{customdata[2]}<br>Family=%{customdata[3]}<br>Color_eukaryota=%{customdata[4]}<extra></extra>",
         "hovertext": [
          "Haloarcula"
         ],
         "legendgroup": "Haloarcula",
         "marker": {
          "color": "#ff0000",
          "symbol": "circle"
         },
         "mode": "markers",
         "name": "Haloarcula",
         "orientation": "v",
         "showlegend": true,
         "type": "scatter",
         "x": [
          -0.3655915
         ],
         "xaxis": "x",
         "y": [
          -0.6257843
         ],
         "yaxis": "y"
        },
        {
         "customdata": [
          [
           75,
           "Halobacterium",
           "Archaea",
           "Euryarchaeota",
           "OTHERS"
          ]
         ],
         "hovertemplate": "<b>%{hovertext}</b><br><br>Species=%{customdata[1]}<br>pm1=%{x}<br>pm2=%{y}<br>Unnamed: 0=%{customdata[0]}<br>Kingdom=%{customdata[2]}<br>Family=%{customdata[3]}<br>Color_eukaryota=%{customdata[4]}<extra></extra>",
         "hovertext": [
          "Halobacterium"
         ],
         "legendgroup": "Halobacterium",
         "marker": {
          "color": "#ff0000",
          "symbol": "circle"
         },
         "mode": "markers",
         "name": "Halobacterium",
         "orientation": "v",
         "showlegend": true,
         "type": "scatter",
         "x": [
          -0.37563333
         ],
         "xaxis": "x",
         "y": [
          -0.61809707
         ],
         "yaxis": "y"
        },
        {
         "customdata": [
          [
           77,
           "Thermoplasma",
           "Archaea",
           "Euryarchaeota",
           "OTHERS"
          ]
         ],
         "hovertemplate": "<b>%{hovertext}</b><br><br>Species=%{customdata[1]}<br>pm1=%{x}<br>pm2=%{y}<br>Unnamed: 0=%{customdata[0]}<br>Kingdom=%{customdata[2]}<br>Family=%{customdata[3]}<br>Color_eukaryota=%{customdata[4]}<extra></extra>",
         "hovertext": [
          "Thermoplasma"
         ],
         "legendgroup": "Thermoplasma",
         "marker": {
          "color": "#ff0000",
          "symbol": "circle"
         },
         "mode": "markers",
         "name": "Thermoplasma",
         "orientation": "v",
         "showlegend": true,
         "type": "scatter",
         "x": [
          -0.07956095
         ],
         "xaxis": "x",
         "y": [
          0.056132946
         ],
         "yaxis": "y"
        },
        {
         "customdata": [
          [
           78,
           "Thermofilum",
           "Archaea",
           "Crenarchaeota",
           "OTHERS"
          ]
         ],
         "hovertemplate": "<b>%{hovertext}</b><br><br>Species=%{customdata[1]}<br>pm1=%{x}<br>pm2=%{y}<br>Unnamed: 0=%{customdata[0]}<br>Kingdom=%{customdata[2]}<br>Family=%{customdata[3]}<br>Color_eukaryota=%{customdata[4]}<extra></extra>",
         "hovertext": [
          "Thermofilum"
         ],
         "legendgroup": "Thermofilum",
         "marker": {
          "color": "#ff0000",
          "symbol": "circle"
         },
         "mode": "markers",
         "name": "Thermofilum",
         "orientation": "v",
         "showlegend": true,
         "type": "scatter",
         "x": [
          -0.14768441
         ],
         "xaxis": "x",
         "y": [
          0.20461965
         ],
         "yaxis": "y"
        },
        {
         "customdata": [
          [
           79,
           "Caldivirga",
           "Archaea",
           "Crenarchaeota",
           "OTHERS"
          ]
         ],
         "hovertemplate": "<b>%{hovertext}</b><br><br>Species=%{customdata[1]}<br>pm1=%{x}<br>pm2=%{y}<br>Unnamed: 0=%{customdata[0]}<br>Kingdom=%{customdata[2]}<br>Family=%{customdata[3]}<br>Color_eukaryota=%{customdata[4]}<extra></extra>",
         "hovertext": [
          "Caldivirga"
         ],
         "legendgroup": "Caldivirga",
         "marker": {
          "color": "#ff0000",
          "symbol": "circle"
         },
         "mode": "markers",
         "name": "Caldivirga",
         "orientation": "v",
         "showlegend": true,
         "type": "scatter",
         "x": [
          0.20467041
         ],
         "xaxis": "x",
         "y": [
          0.29179668
         ],
         "yaxis": "y"
        },
        {
         "customdata": [
          [
           80,
           "Sulfolobus",
           "Archaea",
           "Crenarchaeota",
           "OTHERS"
          ],
          [
           81,
           "Sulfolobus",
           "Archaea",
           "Crenarchaeota",
           "OTHERS"
          ],
          [
           82,
           "Sulfolobus",
           "Archaea",
           "Crenarchaeota",
           "OTHERS"
          ],
          [
           86,
           "Sulfolobus",
           "Archaea",
           "Crenarchaeota",
           "OTHERS"
          ],
          [
           87,
           "Sulfolobus",
           "Archaea",
           "Crenarchaeota",
           "OTHERS"
          ]
         ],
         "hovertemplate": "<b>%{hovertext}</b><br><br>Species=%{customdata[1]}<br>pm1=%{x}<br>pm2=%{y}<br>Unnamed: 0=%{customdata[0]}<br>Kingdom=%{customdata[2]}<br>Family=%{customdata[3]}<br>Color_eukaryota=%{customdata[4]}<extra></extra>",
         "hovertext": [
          "Sulfolobus",
          "Sulfolobus",
          "Sulfolobus",
          "Sulfolobus",
          "Sulfolobus"
         ],
         "legendgroup": "Sulfolobus",
         "marker": {
          "color": "#ff0000",
          "symbol": "circle"
         },
         "mode": "markers",
         "name": "Sulfolobus",
         "orientation": "v",
         "showlegend": true,
         "type": "scatter",
         "x": [
          0.2424766,
          0.23505846,
          0.24209034,
          0.06606726,
          0.066586636
         ],
         "xaxis": "x",
         "y": [
          0.25134522,
          0.24818362,
          0.25115925,
          0.3395665,
          0.36339188
         ],
         "yaxis": "y"
        },
        {
         "customdata": [
          [
           83,
           "Hyperthermus",
           "Archaea",
           "Crenarchaeota",
           "OTHERS"
          ]
         ],
         "hovertemplate": "<b>%{hovertext}</b><br><br>Species=%{customdata[1]}<br>pm1=%{x}<br>pm2=%{y}<br>Unnamed: 0=%{customdata[0]}<br>Kingdom=%{customdata[2]}<br>Family=%{customdata[3]}<br>Color_eukaryota=%{customdata[4]}<extra></extra>",
         "hovertext": [
          "Hyperthermus"
         ],
         "legendgroup": "Hyperthermus",
         "marker": {
          "color": "#ff0000",
          "symbol": "circle"
         },
         "mode": "markers",
         "name": "Hyperthermus",
         "orientation": "v",
         "showlegend": true,
         "type": "scatter",
         "x": [
          0.093561254
         ],
         "xaxis": "x",
         "y": [
          0.36932054
         ],
         "yaxis": "y"
        },
        {
         "customdata": [
          [
           84,
           "Aeropyrum",
           "Archaea",
           "Crenarchaeota",
           "OTHERS"
          ],
          [
           89,
           "Aeropyrum",
           "Archaea",
           "Crenarchaeota",
           "OTHERS"
          ]
         ],
         "hovertemplate": "<b>%{hovertext}</b><br><br>Species=%{customdata[1]}<br>pm1=%{x}<br>pm2=%{y}<br>Unnamed: 0=%{customdata[0]}<br>Kingdom=%{customdata[2]}<br>Family=%{customdata[3]}<br>Color_eukaryota=%{customdata[4]}<extra></extra>",
         "hovertext": [
          "Aeropyrum",
          "Aeropyrum"
         ],
         "legendgroup": "Aeropyrum",
         "marker": {
          "color": "#ff0000",
          "symbol": "circle"
         },
         "mode": "markers",
         "name": "Aeropyrum",
         "orientation": "v",
         "showlegend": true,
         "type": "scatter",
         "x": [
          0.08879397,
          -0.01408082
         ],
         "xaxis": "x",
         "y": [
          0.371291,
          0.42290026
         ],
         "yaxis": "y"
        },
        {
         "customdata": [
          [
           85,
           "Metallosphaera",
           "Archaea",
           "Crenarchaeota",
           "OTHERS"
          ]
         ],
         "hovertemplate": "<b>%{hovertext}</b><br><br>Species=%{customdata[1]}<br>pm1=%{x}<br>pm2=%{y}<br>Unnamed: 0=%{customdata[0]}<br>Kingdom=%{customdata[2]}<br>Family=%{customdata[3]}<br>Color_eukaryota=%{customdata[4]}<extra></extra>",
         "hovertext": [
          "Metallosphaera"
         ],
         "legendgroup": "Metallosphaera",
         "marker": {
          "color": "#ff0000",
          "symbol": "circle"
         },
         "mode": "markers",
         "name": "Metallosphaera",
         "orientation": "v",
         "showlegend": true,
         "type": "scatter",
         "x": [
          0.055873338
         ],
         "xaxis": "x",
         "y": [
          0.3734734
         ],
         "yaxis": "y"
        },
        {
         "customdata": [
          [
           88,
           "Staphylothermus",
           "Archaea",
           "Crenarchaeota",
           "OTHERS"
          ]
         ],
         "hovertemplate": "<b>%{hovertext}</b><br><br>Species=%{customdata[1]}<br>pm1=%{x}<br>pm2=%{y}<br>Unnamed: 0=%{customdata[0]}<br>Kingdom=%{customdata[2]}<br>Family=%{customdata[3]}<br>Color_eukaryota=%{customdata[4]}<extra></extra>",
         "hovertext": [
          "Staphylothermus"
         ],
         "legendgroup": "Staphylothermus",
         "marker": {
          "color": "#ff0000",
          "symbol": "circle"
         },
         "mode": "markers",
         "name": "Staphylothermus",
         "orientation": "v",
         "showlegend": true,
         "type": "scatter",
         "x": [
          0.06620467
         ],
         "xaxis": "x",
         "y": [
          0.4287467
         ],
         "yaxis": "y"
        },
        {
         "customdata": [
          [
           90,
           "Clostridium",
           "Bacteria",
           "Firmicutes",
           "OTHERS"
          ],
          [
           107,
           "Clostridium",
           "Bacteria",
           "Firmicutes",
           "OTHERS"
          ],
          [
           108,
           "Clostridium",
           "Bacteria",
           "Firmicutes",
           "OTHERS"
          ],
          [
           109,
           "Clostridium",
           "Bacteria",
           "Firmicutes",
           "OTHERS"
          ],
          [
           110,
           "Clostridium",
           "Bacteria",
           "Firmicutes",
           "OTHERS"
          ]
         ],
         "hovertemplate": "<b>%{hovertext}</b><br><br>Species=%{customdata[1]}<br>pm1=%{x}<br>pm2=%{y}<br>Unnamed: 0=%{customdata[0]}<br>Kingdom=%{customdata[2]}<br>Family=%{customdata[3]}<br>Color_eukaryota=%{customdata[4]}<extra></extra>",
         "hovertext": [
          "Clostridium",
          "Clostridium",
          "Clostridium",
          "Clostridium",
          "Clostridium"
         ],
         "legendgroup": "Clostridium",
         "marker": {
          "color": "#34b8e7",
          "symbol": "circle"
         },
         "mode": "markers",
         "name": "Clostridium",
         "orientation": "v",
         "showlegend": true,
         "type": "scatter",
         "x": [
          -0.5582914,
          -0.09065848,
          -0.12918599,
          -0.09236768,
          -0.10277809
         ],
         "xaxis": "x",
         "y": [
          0.23104498,
          0.011276632,
          -0.1759286,
          0.0342752,
          0.08511332
         ],
         "yaxis": "y"
        },
        {
         "customdata": [
          [
           91,
           "Thermoanaerobacter",
           "Bacteria",
           "Firmicutes",
           "OTHERS"
          ],
          [
           111,
           "Thermoanaerobacter",
           "Bacteria",
           "Firmicutes",
           "OTHERS"
          ]
         ],
         "hovertemplate": "<b>%{hovertext}</b><br><br>Species=%{customdata[1]}<br>pm1=%{x}<br>pm2=%{y}<br>Unnamed: 0=%{customdata[0]}<br>Kingdom=%{customdata[2]}<br>Family=%{customdata[3]}<br>Color_eukaryota=%{customdata[4]}<extra></extra>",
         "hovertext": [
          "Thermoanaerobacter",
          "Thermoanaerobacter"
         ],
         "legendgroup": "Thermoanaerobacter",
         "marker": {
          "color": "#34b8e7",
          "symbol": "circle"
         },
         "mode": "markers",
         "name": "Thermoanaerobacter",
         "orientation": "v",
         "showlegend": true,
         "type": "scatter",
         "x": [
          0.2883705,
          -0.31940284
         ],
         "xaxis": "x",
         "y": [
          -0.010727219,
          0.17383419
         ],
         "yaxis": "y"
        },
        {
         "customdata": [
          [
           92,
           "Bacillus",
           "Bacteria",
           "Firmicutes",
           "OTHERS"
          ],
          [
           93,
           "Bacillus",
           "Bacteria",
           "Firmicutes",
           "OTHERS"
          ],
          [
           101,
           "Bacillus",
           "Bacteria",
           "Firmicutes",
           "OTHERS"
          ],
          [
           102,
           "Bacillus",
           "Bacteria",
           "Firmicutes",
           "OTHERS"
          ]
         ],
         "hovertemplate": "<b>%{hovertext}</b><br><br>Species=%{customdata[1]}<br>pm1=%{x}<br>pm2=%{y}<br>Unnamed: 0=%{customdata[0]}<br>Kingdom=%{customdata[2]}<br>Family=%{customdata[3]}<br>Color_eukaryota=%{customdata[4]}<extra></extra>",
         "hovertext": [
          "Bacillus",
          "Bacillus",
          "Bacillus",
          "Bacillus"
         ],
         "legendgroup": "Bacillus",
         "marker": {
          "color": "#34b8e7",
          "symbol": "circle"
         },
         "mode": "markers",
         "name": "Bacillus",
         "orientation": "v",
         "showlegend": true,
         "type": "scatter",
         "x": [
          -0.68659335,
          0.15823844,
          -0.09154991,
          -0.12608738
         ],
         "xaxis": "x",
         "y": [
          -0.16543975,
          -0.47308958,
          -0.26976943,
          -0.23625775
         ],
         "yaxis": "y"
        },
        {
         "customdata": [
          [
           94,
           "Streptococcus",
           "Bacteria",
           "Firmicutes",
           "OTHERS"
          ],
          [
           106,
           "Streptococcus",
           "Bacteria",
           "Firmicutes",
           "OTHERS"
          ]
         ],
         "hovertemplate": "<b>%{hovertext}</b><br><br>Species=%{customdata[1]}<br>pm1=%{x}<br>pm2=%{y}<br>Unnamed: 0=%{customdata[0]}<br>Kingdom=%{customdata[2]}<br>Family=%{customdata[3]}<br>Color_eukaryota=%{customdata[4]}<extra></extra>",
         "hovertext": [
          "Streptococcus",
          "Streptococcus"
         ],
         "legendgroup": "Streptococcus",
         "marker": {
          "color": "#34b8e7",
          "symbol": "circle"
         },
         "mode": "markers",
         "name": "Streptococcus",
         "orientation": "v",
         "showlegend": true,
         "type": "scatter",
         "x": [
          0.28424203,
          -0.15943648
         ],
         "xaxis": "x",
         "y": [
          -0.33839947,
          -0.29083982
         ],
         "yaxis": "y"
        },
        {
         "customdata": [
          [
           95,
           "Enterococcus",
           "Bacteria",
           "Firmicutes",
           "OTHERS"
          ],
          [
           105,
           "Enterococcus",
           "Bacteria",
           "Firmicutes",
           "OTHERS"
          ]
         ],
         "hovertemplate": "<b>%{hovertext}</b><br><br>Species=%{customdata[1]}<br>pm1=%{x}<br>pm2=%{y}<br>Unnamed: 0=%{customdata[0]}<br>Kingdom=%{customdata[2]}<br>Family=%{customdata[3]}<br>Color_eukaryota=%{customdata[4]}<extra></extra>",
         "hovertext": [
          "Enterococcus",
          "Enterococcus"
         ],
         "legendgroup": "Enterococcus",
         "marker": {
          "color": "#34b8e7",
          "symbol": "circle"
         },
         "mode": "markers",
         "name": "Enterococcus",
         "orientation": "v",
         "showlegend": true,
         "type": "scatter",
         "x": [
          0.4451069,
          -0.1577839
         ],
         "xaxis": "x",
         "y": [
          -0.23699048,
          -0.2915133
         ],
         "yaxis": "y"
        },
        {
         "customdata": [
          [
           96,
           "Listeria",
           "Bacteria",
           "Firmicutes",
           "OTHERS"
          ],
          [
           104,
           "Listeria",
           "Bacteria",
           "Firmicutes",
           "OTHERS"
          ]
         ],
         "hovertemplate": "<b>%{hovertext}</b><br><br>Species=%{customdata[1]}<br>pm1=%{x}<br>pm2=%{y}<br>Unnamed: 0=%{customdata[0]}<br>Kingdom=%{customdata[2]}<br>Family=%{customdata[3]}<br>Color_eukaryota=%{customdata[4]}<extra></extra>",
         "hovertext": [
          "Listeria",
          "Listeria"
         ],
         "legendgroup": "Listeria",
         "marker": {
          "color": "#34b8e7",
          "symbol": "circle"
         },
         "mode": "markers",
         "name": "Listeria",
         "orientation": "v",
         "showlegend": true,
         "type": "scatter",
         "x": [
          -0.4175658,
          -0.15539056
         ],
         "xaxis": "x",
         "y": [
          -0.3656629,
          -0.28971213
         ],
         "yaxis": "y"
        },
        {
         "customdata": [
          [
           97,
           "Lactobacillus",
           "Bacteria",
           "Firmicutes",
           "OTHERS"
          ],
          [
           98,
           "Lactobacillus",
           "Bacteria",
           "Firmicutes",
           "OTHERS"
          ],
          [
           103,
           "Lactobacillus",
           "Bacteria",
           "Firmicutes",
           "OTHERS"
          ]
         ],
         "hovertemplate": "<b>%{hovertext}</b><br><br>Species=%{customdata[1]}<br>pm1=%{x}<br>pm2=%{y}<br>Unnamed: 0=%{customdata[0]}<br>Kingdom=%{customdata[2]}<br>Family=%{customdata[3]}<br>Color_eukaryota=%{customdata[4]}<extra></extra>",
         "hovertext": [
          "Lactobacillus",
          "Lactobacillus",
          "Lactobacillus"
         ],
         "legendgroup": "Lactobacillus",
         "marker": {
          "color": "#34b8e7",
          "symbol": "circle"
         },
         "mode": "markers",
         "name": "Lactobacillus",
         "orientation": "v",
         "showlegend": true,
         "type": "scatter",
         "x": [
          -0.050339554,
          -0.08821545,
          -0.1571801
         ],
         "xaxis": "x",
         "y": [
          0.018546527,
          -0.09527511,
          -0.2907742
         ],
         "yaxis": "y"
        },
        {
         "customdata": [
          [
           99,
           "Staphylococcus",
           "Bacteria",
           "Firmicutes",
           "OTHERS"
          ]
         ],
         "hovertemplate": "<b>%{hovertext}</b><br><br>Species=%{customdata[1]}<br>pm1=%{x}<br>pm2=%{y}<br>Unnamed: 0=%{customdata[0]}<br>Kingdom=%{customdata[2]}<br>Family=%{customdata[3]}<br>Color_eukaryota=%{customdata[4]}<extra></extra>",
         "hovertext": [
          "Staphylococcus"
         ],
         "legendgroup": "Staphylococcus",
         "marker": {
          "color": "#34b8e7",
          "symbol": "circle"
         },
         "mode": "markers",
         "name": "Staphylococcus",
         "orientation": "v",
         "showlegend": true,
         "type": "scatter",
         "x": [
          -0.1833568
         ],
         "xaxis": "x",
         "y": [
          -0.15822172
         ],
         "yaxis": "y"
        },
        {
         "customdata": [
          [
           100,
           "Geobacillus",
           "Bacteria",
           "Firmicutes",
           "OTHERS"
          ]
         ],
         "hovertemplate": "<b>%{hovertext}</b><br><br>Species=%{customdata[1]}<br>pm1=%{x}<br>pm2=%{y}<br>Unnamed: 0=%{customdata[0]}<br>Kingdom=%{customdata[2]}<br>Family=%{customdata[3]}<br>Color_eukaryota=%{customdata[4]}<extra></extra>",
         "hovertext": [
          "Geobacillus"
         ],
         "legendgroup": "Geobacillus",
         "marker": {
          "color": "#34b8e7",
          "symbol": "circle"
         },
         "mode": "markers",
         "name": "Geobacillus",
         "orientation": "v",
         "showlegend": true,
         "type": "scatter",
         "x": [
          -0.15856543
         ],
         "xaxis": "x",
         "y": [
          -0.21720986
         ],
         "yaxis": "y"
        },
        {
         "customdata": [
          [
           112,
           "Chlamydia",
           "Bacteria",
           "Chlamydiae",
           "OTHERS"
          ]
         ],
         "hovertemplate": "<b>%{hovertext}</b><br><br>Species=%{customdata[1]}<br>pm1=%{x}<br>pm2=%{y}<br>Unnamed: 0=%{customdata[0]}<br>Kingdom=%{customdata[2]}<br>Family=%{customdata[3]}<br>Color_eukaryota=%{customdata[4]}<extra></extra>",
         "hovertext": [
          "Chlamydia"
         ],
         "legendgroup": "Chlamydia",
         "marker": {
          "color": "#34b8e7",
          "symbol": "circle"
         },
         "mode": "markers",
         "name": "Chlamydia",
         "orientation": "v",
         "showlegend": true,
         "type": "scatter",
         "x": [
          -0.27317488
         ],
         "xaxis": "x",
         "y": [
          -0.5245016
         ],
         "yaxis": "y"
        },
        {
         "customdata": [
          [
           113,
           "Chlamydophila",
           "Bacteria",
           "Chlamydiae",
           "OTHERS"
          ]
         ],
         "hovertemplate": "<b>%{hovertext}</b><br><br>Species=%{customdata[1]}<br>pm1=%{x}<br>pm2=%{y}<br>Unnamed: 0=%{customdata[0]}<br>Kingdom=%{customdata[2]}<br>Family=%{customdata[3]}<br>Color_eukaryota=%{customdata[4]}<extra></extra>",
         "hovertext": [
          "Chlamydophila"
         ],
         "legendgroup": "Chlamydophila",
         "marker": {
          "color": "#34b8e7",
          "symbol": "circle"
         },
         "mode": "markers",
         "name": "Chlamydophila",
         "orientation": "v",
         "showlegend": true,
         "type": "scatter",
         "x": [
          -0.046343394
         ],
         "xaxis": "x",
         "y": [
          -0.44061705
         ],
         "yaxis": "y"
        },
        {
         "customdata": [
          [
           114,
           "Chlorobium",
           "Bacteria",
           "Chlorobi",
           "OTHERS"
          ],
          [
           115,
           "Chlorobium",
           "Bacteria",
           "Chlorobi",
           "OTHERS"
          ]
         ],
         "hovertemplate": "<b>%{hovertext}</b><br><br>Species=%{customdata[1]}<br>pm1=%{x}<br>pm2=%{y}<br>Unnamed: 0=%{customdata[0]}<br>Kingdom=%{customdata[2]}<br>Family=%{customdata[3]}<br>Color_eukaryota=%{customdata[4]}<extra></extra>",
         "hovertext": [
          "Chlorobium",
          "Chlorobium"
         ],
         "legendgroup": "Chlorobium",
         "marker": {
          "color": "#34b8e7",
          "symbol": "circle"
         },
         "mode": "markers",
         "name": "Chlorobium",
         "orientation": "v",
         "showlegend": true,
         "type": "scatter",
         "x": [
          -0.64018524,
          -0.21795733
         ],
         "xaxis": "x",
         "y": [
          0.091387644,
          0.12305785
         ],
         "yaxis": "y"
        },
        {
         "customdata": [
          [
           116,
           "Bacteroides",
           "Bacteria",
           "Bacteroidetes",
           "OTHERS"
          ],
          [
           119,
           "Bacteroides",
           "Bacteria",
           "Bacteroidetes",
           "OTHERS"
          ],
          [
           120,
           "Bacteroides",
           "Bacteria",
           "Bacteroidetes",
           "OTHERS"
          ],
          [
           122,
           "Bacteroides",
           "Bacteria",
           "Bacteroidetes",
           "OTHERS"
          ],
          [
           123,
           "Bacteroides",
           "Bacteria",
           "Bacteroidetes",
           "OTHERS"
          ]
         ],
         "hovertemplate": "<b>%{hovertext}</b><br><br>Species=%{customdata[1]}<br>pm1=%{x}<br>pm2=%{y}<br>Unnamed: 0=%{customdata[0]}<br>Kingdom=%{customdata[2]}<br>Family=%{customdata[3]}<br>Color_eukaryota=%{customdata[4]}<extra></extra>",
         "hovertext": [
          "Bacteroides",
          "Bacteroides",
          "Bacteroides",
          "Bacteroides",
          "Bacteroides"
         ],
         "legendgroup": "Bacteroides",
         "marker": {
          "color": "#34b8e7",
          "symbol": "circle"
         },
         "mode": "markers",
         "name": "Bacteroides",
         "orientation": "v",
         "showlegend": true,
         "type": "scatter",
         "x": [
          -0.4252066,
          -0.20337448,
          -0.3870151,
          -0.21419267,
          -0.20909432
         ],
         "xaxis": "x",
         "y": [
          0.2694734,
          0.3750962,
          -0.19220364,
          -0.046421565,
          -0.04635603
         ],
         "yaxis": "y"
        },
        {
         "customdata": [
          [
           117,
           "Flavobacterium",
           "Bacteria",
           "Bacteroidetes",
           "OTHERS"
          ]
         ],
         "hovertemplate": "<b>%{hovertext}</b><br><br>Species=%{customdata[1]}<br>pm1=%{x}<br>pm2=%{y}<br>Unnamed: 0=%{customdata[0]}<br>Kingdom=%{customdata[2]}<br>Family=%{customdata[3]}<br>Color_eukaryota=%{customdata[4]}<extra></extra>",
         "hovertext": [
          "Flavobacterium"
         ],
         "legendgroup": "Flavobacterium",
         "marker": {
          "color": "#34b8e7",
          "symbol": "circle"
         },
         "mode": "markers",
         "name": "Flavobacterium",
         "orientation": "v",
         "showlegend": true,
         "type": "scatter",
         "x": [
          -0.257741
         ],
         "xaxis": "x",
         "y": [
          0.3704273
         ],
         "yaxis": "y"
        },
        {
         "customdata": [
          [
           118,
           "Porphyromonas",
           "Bacteria",
           "Bacteroidetes",
           "OTHERS"
          ],
          [
           121,
           "Porphyromonas",
           "Bacteria",
           "Bacteroidetes",
           "OTHERS"
          ]
         ],
         "hovertemplate": "<b>%{hovertext}</b><br><br>Species=%{customdata[1]}<br>pm1=%{x}<br>pm2=%{y}<br>Unnamed: 0=%{customdata[0]}<br>Kingdom=%{customdata[2]}<br>Family=%{customdata[3]}<br>Color_eukaryota=%{customdata[4]}<extra></extra>",
         "hovertext": [
          "Porphyromonas",
          "Porphyromonas"
         ],
         "legendgroup": "Porphyromonas",
         "marker": {
          "color": "#34b8e7",
          "symbol": "circle"
         },
         "mode": "markers",
         "name": "Porphyromonas",
         "orientation": "v",
         "showlegend": true,
         "type": "scatter",
         "x": [
          -0.20804267,
          -0.26830637
         ],
         "xaxis": "x",
         "y": [
          0.5270898,
          -0.080774345
         ],
         "yaxis": "y"
        },
        {
         "customdata": [
          [
           124,
           "Rhodopirellula",
           "Bacteria",
           "Planctomycetes",
           "OTHERS"
          ],
          [
           125,
           "Rhodopirellula",
           "Bacteria",
           "Planctomycetes",
           "OTHERS"
          ]
         ],
         "hovertemplate": "<b>%{hovertext}</b><br><br>Species=%{customdata[1]}<br>pm1=%{x}<br>pm2=%{y}<br>Unnamed: 0=%{customdata[0]}<br>Kingdom=%{customdata[2]}<br>Family=%{customdata[3]}<br>Color_eukaryota=%{customdata[4]}<extra></extra>",
         "hovertext": [
          "Rhodopirellula",
          "Rhodopirellula"
         ],
         "legendgroup": "Rhodopirellula",
         "marker": {
          "color": "#34b8e7",
          "symbol": "circle"
         },
         "mode": "markers",
         "name": "Rhodopirellula",
         "orientation": "v",
         "showlegend": true,
         "type": "scatter",
         "x": [
          -0.31439915,
          -0.4696678
         ],
         "xaxis": "x",
         "y": [
          0.0060043624,
          0.057721335
         ],
         "yaxis": "y"
        },
        {
         "customdata": [
          [
           126,
           "Mycobacterium",
           "Bacteria",
           "Actinobacteria",
           "OTHERS"
          ],
          [
           127,
           "Mycobacterium",
           "Bacteria",
           "Actinobacteria",
           "OTHERS"
          ],
          [
           132,
           "Mycobacterium",
           "Bacteria",
           "Actinobacteria",
           "OTHERS"
          ],
          [
           136,
           "Mycobacterium",
           "Bacteria",
           "Actinobacteria",
           "OTHERS"
          ]
         ],
         "hovertemplate": "<b>%{hovertext}</b><br><br>Species=%{customdata[1]}<br>pm1=%{x}<br>pm2=%{y}<br>Unnamed: 0=%{customdata[0]}<br>Kingdom=%{customdata[2]}<br>Family=%{customdata[3]}<br>Color_eukaryota=%{customdata[4]}<extra></extra>",
         "hovertext": [
          "Mycobacterium",
          "Mycobacterium",
          "Mycobacterium",
          "Mycobacterium"
         ],
         "legendgroup": "Mycobacterium",
         "marker": {
          "color": "#34b8e7",
          "symbol": "circle"
         },
         "mode": "markers",
         "name": "Mycobacterium",
         "orientation": "v",
         "showlegend": true,
         "type": "scatter",
         "x": [
          0.40030518,
          0.036976572,
          -0.48547155,
          -0.45704597
         ],
         "xaxis": "x",
         "y": [
          0.7489,
          -0.82267255,
          0.25283325,
          0.11965789
         ],
         "yaxis": "y"
        },
        {
         "customdata": [
          [
           128,
           "Corynebacterium",
           "Bacteria",
           "Actinobacteria",
           "OTHERS"
          ],
          [
           134,
           "Corynebacterium",
           "Bacteria",
           "Actinobacteria",
           "OTHERS"
          ]
         ],
         "hovertemplate": "<b>%{hovertext}</b><br><br>Species=%{customdata[1]}<br>pm1=%{x}<br>pm2=%{y}<br>Unnamed: 0=%{customdata[0]}<br>Kingdom=%{customdata[2]}<br>Family=%{customdata[3]}<br>Color_eukaryota=%{customdata[4]}<extra></extra>",
         "hovertext": [
          "Corynebacterium",
          "Corynebacterium"
         ],
         "legendgroup": "Corynebacterium",
         "marker": {
          "color": "#34b8e7",
          "symbol": "circle"
         },
         "mode": "markers",
         "name": "Corynebacterium",
         "orientation": "v",
         "showlegend": true,
         "type": "scatter",
         "x": [
          0.41841847,
          -0.2712865
         ],
         "xaxis": "x",
         "y": [
          0.7231549,
          0.17064403
         ],
         "yaxis": "y"
        },
        {
         "customdata": [
          [
           129,
           "Thermobifida",
           "Bacteria",
           "Actinobacteria",
           "OTHERS"
          ],
          [
           131,
           "Thermobifida",
           "Bacteria",
           "Actinobacteria",
           "OTHERS"
          ],
          [
           137,
           "Thermobifida",
           "Bacteria",
           "Actinobacteria",
           "OTHERS"
          ]
         ],
         "hovertemplate": "<b>%{hovertext}</b><br><br>Species=%{customdata[1]}<br>pm1=%{x}<br>pm2=%{y}<br>Unnamed: 0=%{customdata[0]}<br>Kingdom=%{customdata[2]}<br>Family=%{customdata[3]}<br>Color_eukaryota=%{customdata[4]}<extra></extra>",
         "hovertext": [
          "Thermobifida",
          "Thermobifida",
          "Thermobifida"
         ],
         "legendgroup": "Thermobifida",
         "marker": {
          "color": "#34b8e7",
          "symbol": "circle"
         },
         "mode": "markers",
         "name": "Thermobifida",
         "orientation": "v",
         "showlegend": true,
         "type": "scatter",
         "x": [
          0.419354,
          0.45698664,
          -0.5123016
         ],
         "xaxis": "x",
         "y": [
          0.6854231,
          0.7494364,
          -0.04477517
         ],
         "yaxis": "y"
        },
        {
         "customdata": [
          [
           130,
           "Streptomyces",
           "Bacteria",
           "Actinobacteria",
           "OTHERS"
          ],
          [
           133,
           "Streptomyces",
           "Bacteria",
           "Actinobacteria",
           "OTHERS"
          ],
          [
           135,
           "Streptomyces",
           "Bacteria",
           "Actinobacteria",
           "OTHERS"
          ],
          [
           138,
           "Streptomyces",
           "Bacteria",
           "Actinobacteria",
           "OTHERS"
          ]
         ],
         "hovertemplate": "<b>%{hovertext}</b><br><br>Species=%{customdata[1]}<br>pm1=%{x}<br>pm2=%{y}<br>Unnamed: 0=%{customdata[0]}<br>Kingdom=%{customdata[2]}<br>Family=%{customdata[3]}<br>Color_eukaryota=%{customdata[4]}<extra></extra>",
         "hovertext": [
          "Streptomyces",
          "Streptomyces",
          "Streptomyces",
          "Streptomyces"
         ],
         "legendgroup": "Streptomyces",
         "marker": {
          "color": "#34b8e7",
          "symbol": "circle"
         },
         "mode": "markers",
         "name": "Streptomyces",
         "orientation": "v",
         "showlegend": true,
         "type": "scatter",
         "x": [
          0.4400139,
          -0.4705223,
          -0.59372216,
          -0.53303576
         ],
         "xaxis": "x",
         "y": [
          0.733868,
          0.22971208,
          -0.0010232633,
          -0.057835992
         ],
         "yaxis": "y"
        },
        {
         "customdata": [
          [
           139,
           "Synechocystis",
           "Bacteria",
           "Cyanobacteria",
           "OTHERS"
          ],
          [
           142,
           "Synechocystis",
           "Bacteria",
           "Cyanobacteria",
           "OTHERS"
          ],
          [
           145,
           "Synechocystis",
           "Bacteria",
           "Cyanobacteria",
           "OTHERS"
          ],
          [
           152,
           "Synechocystis",
           "Bacteria",
           "Cyanobacteria",
           "OTHERS"
          ]
         ],
         "hovertemplate": "<b>%{hovertext}</b><br><br>Species=%{customdata[1]}<br>pm1=%{x}<br>pm2=%{y}<br>Unnamed: 0=%{customdata[0]}<br>Kingdom=%{customdata[2]}<br>Family=%{customdata[3]}<br>Color_eukaryota=%{customdata[4]}<extra></extra>",
         "hovertext": [
          "Synechocystis",
          "Synechocystis",
          "Synechocystis",
          "Synechocystis"
         ],
         "legendgroup": "Synechocystis",
         "marker": {
          "color": "#34b8e7",
          "symbol": "circle"
         },
         "mode": "markers",
         "name": "Synechocystis",
         "orientation": "v",
         "showlegend": true,
         "type": "scatter",
         "x": [
          -0.5132927,
          -0.44145852,
          -0.41573173,
          -0.59840566
         ],
         "xaxis": "x",
         "y": [
          -0.12104343,
          0.2612774,
          -0.12877867,
          0.12554613
         ],
         "yaxis": "y"
        },
        {
         "customdata": [
          [
           140,
           "Nostoc",
           "Bacteria",
           "Cyanobacteria",
           "OTHERS"
          ],
          [
           141,
           "Nostoc",
           "Bacteria",
           "Cyanobacteria",
           "OTHERS"
          ],
          [
           147,
           "Nostoc",
           "Bacteria",
           "Cyanobacteria",
           "OTHERS"
          ],
          [
           148,
           "Nostoc",
           "Bacteria",
           "Cyanobacteria",
           "OTHERS"
          ],
          [
           150,
           "Nostoc",
           "Bacteria",
           "Cyanobacteria",
           "OTHERS"
          ]
         ],
         "hovertemplate": "<b>%{hovertext}</b><br><br>Species=%{customdata[1]}<br>pm1=%{x}<br>pm2=%{y}<br>Unnamed: 0=%{customdata[0]}<br>Kingdom=%{customdata[2]}<br>Family=%{customdata[3]}<br>Color_eukaryota=%{customdata[4]}<extra></extra>",
         "hovertext": [
          "Nostoc",
          "Nostoc",
          "Nostoc",
          "Nostoc",
          "Nostoc"
         ],
         "legendgroup": "Nostoc",
         "marker": {
          "color": "#34b8e7",
          "symbol": "circle"
         },
         "mode": "markers",
         "name": "Nostoc",
         "orientation": "v",
         "showlegend": true,
         "type": "scatter",
         "x": [
          -0.5349942,
          -0.4261378,
          -0.46238548,
          -0.37522948,
          -0.6384721
         ],
         "xaxis": "x",
         "y": [
          -0.15579337,
          0.27049848,
          0.016929682,
          0.08543841,
          0.18293057
         ],
         "yaxis": "y"
        },
        {
         "customdata": [
          [
           143,
           "Thermosynechococcus",
           "Bacteria",
           "Cyanobacteria",
           "OTHERS"
          ],
          [
           144,
           "Thermosynechococcus",
           "Bacteria",
           "Cyanobacteria",
           "OTHERS"
          ],
          [
           146,
           "Thermosynechococcus",
           "Bacteria",
           "Cyanobacteria",
           "OTHERS"
          ],
          [
           149,
           "Thermosynechococcus",
           "Bacteria",
           "Cyanobacteria",
           "OTHERS"
          ]
         ],
         "hovertemplate": "<b>%{hovertext}</b><br><br>Species=%{customdata[1]}<br>pm1=%{x}<br>pm2=%{y}<br>Unnamed: 0=%{customdata[0]}<br>Kingdom=%{customdata[2]}<br>Family=%{customdata[3]}<br>Color_eukaryota=%{customdata[4]}<extra></extra>",
         "hovertext": [
          "Thermosynechococcus",
          "Thermosynechococcus",
          "Thermosynechococcus",
          "Thermosynechococcus"
         ],
         "legendgroup": "Thermosynechococcus",
         "marker": {
          "color": "#34b8e7",
          "symbol": "circle"
         },
         "mode": "markers",
         "name": "Thermosynechococcus",
         "orientation": "v",
         "showlegend": true,
         "type": "scatter",
         "x": [
          -0.41694528,
          -0.2579455,
          -0.46435878,
          -0.5503101
         ],
         "xaxis": "x",
         "y": [
          0.27646095,
          0.4915565,
          -0.20486702,
          0.16840756
         ],
         "yaxis": "y"
        },
        {
         "customdata": [
          [
           151,
           "Prochlorococcus",
           "Bacteria",
           "Cyanobacteria",
           "OTHERS"
          ]
         ],
         "hovertemplate": "<b>%{hovertext}</b><br><br>Species=%{customdata[1]}<br>pm1=%{x}<br>pm2=%{y}<br>Unnamed: 0=%{customdata[0]}<br>Kingdom=%{customdata[2]}<br>Family=%{customdata[3]}<br>Color_eukaryota=%{customdata[4]}<extra></extra>",
         "hovertext": [
          "Prochlorococcus"
         ],
         "legendgroup": "Prochlorococcus",
         "marker": {
          "color": "#34b8e7",
          "symbol": "circle"
         },
         "mode": "markers",
         "name": "Prochlorococcus",
         "orientation": "v",
         "showlegend": true,
         "type": "scatter",
         "x": [
          -0.70215195
         ],
         "xaxis": "x",
         "y": [
          0.14980187
         ],
         "yaxis": "y"
        },
        {
         "customdata": [
          [
           153,
           "Nostoc1",
           "Bacteria",
           "Cyanobacteria",
           "OTHERS"
          ]
         ],
         "hovertemplate": "<b>%{hovertext}</b><br><br>Species=%{customdata[1]}<br>pm1=%{x}<br>pm2=%{y}<br>Unnamed: 0=%{customdata[0]}<br>Kingdom=%{customdata[2]}<br>Family=%{customdata[3]}<br>Color_eukaryota=%{customdata[4]}<extra></extra>",
         "hovertext": [
          "Nostoc1"
         ],
         "legendgroup": "Nostoc1",
         "marker": {
          "color": "#34b8e7",
          "symbol": "circle"
         },
         "mode": "markers",
         "name": "Nostoc1",
         "orientation": "v",
         "showlegend": true,
         "type": "scatter",
         "x": [
          -0.5684718
         ],
         "xaxis": "x",
         "y": [
          0.19502771
         ],
         "yaxis": "y"
        },
        {
         "customdata": [
          [
           154,
           "Pea Chloroplast",
           "Eukaryota",
           "Viridiplantae",
           "CHLOROPLAST"
          ]
         ],
         "hovertemplate": "<b>%{hovertext}</b><br><br>Species=%{customdata[1]}<br>pm1=%{x}<br>pm2=%{y}<br>Unnamed: 0=%{customdata[0]}<br>Kingdom=%{customdata[2]}<br>Family=%{customdata[3]}<br>Color_eukaryota=%{customdata[4]}<extra></extra>",
         "hovertext": [
          "Pea Chloroplast"
         ],
         "legendgroup": "Pea Chloroplast",
         "marker": {
          "color": "#06f9d4",
          "symbol": "circle"
         },
         "mode": "markers",
         "name": "Pea Chloroplast",
         "orientation": "v",
         "showlegend": true,
         "type": "scatter",
         "x": [
          -0.893399
         ],
         "xaxis": "x",
         "y": [
          0.07486735
         ],
         "yaxis": "y"
        },
        {
         "customdata": [
          [
           155,
           "Spiol Chloroplast",
           "Eukaryota",
           "Viridiplantae",
           "CHLOROPLAST"
          ]
         ],
         "hovertemplate": "<b>%{hovertext}</b><br><br>Species=%{customdata[1]}<br>pm1=%{x}<br>pm2=%{y}<br>Unnamed: 0=%{customdata[0]}<br>Kingdom=%{customdata[2]}<br>Family=%{customdata[3]}<br>Color_eukaryota=%{customdata[4]}<extra></extra>",
         "hovertext": [
          "Spiol Chloroplast"
         ],
         "legendgroup": "Spiol Chloroplast",
         "marker": {
          "color": "#06f9d4",
          "symbol": "circle"
         },
         "mode": "markers",
         "name": "Spiol Chloroplast",
         "orientation": "v",
         "showlegend": true,
         "type": "scatter",
         "x": [
          -0.902195
         ],
         "xaxis": "x",
         "y": [
          0.09746036
         ],
         "yaxis": "y"
        },
        {
         "customdata": [
          [
           156,
           "Wheat Chloroplast",
           "Eukaryota",
           "Viridiplantae",
           "CHLOROPLAST"
          ]
         ],
         "hovertemplate": "<b>%{hovertext}</b><br><br>Species=%{customdata[1]}<br>pm1=%{x}<br>pm2=%{y}<br>Unnamed: 0=%{customdata[0]}<br>Kingdom=%{customdata[2]}<br>Family=%{customdata[3]}<br>Color_eukaryota=%{customdata[4]}<extra></extra>",
         "hovertext": [
          "Wheat Chloroplast"
         ],
         "legendgroup": "Wheat Chloroplast",
         "marker": {
          "color": "#06f9d4",
          "symbol": "circle"
         },
         "mode": "markers",
         "name": "Wheat Chloroplast",
         "orientation": "v",
         "showlegend": true,
         "type": "scatter",
         "x": [
          -0.92606837
         ],
         "xaxis": "x",
         "y": [
          0.08834685
         ],
         "yaxis": "y"
        },
        {
         "customdata": [
          [
           157,
           "Pisum Chloroplast",
           "Eukaryota",
           "Viridiplantae",
           "CHLOROPLAST"
          ]
         ],
         "hovertemplate": "<b>%{hovertext}</b><br><br>Species=%{customdata[1]}<br>pm1=%{x}<br>pm2=%{y}<br>Unnamed: 0=%{customdata[0]}<br>Kingdom=%{customdata[2]}<br>Family=%{customdata[3]}<br>Color_eukaryota=%{customdata[4]}<extra></extra>",
         "hovertext": [
          "Pisum Chloroplast"
         ],
         "legendgroup": "Pisum Chloroplast",
         "marker": {
          "color": "#06f9d4",
          "symbol": "circle"
         },
         "mode": "markers",
         "name": "Pisum Chloroplast",
         "orientation": "v",
         "showlegend": true,
         "type": "scatter",
         "x": [
          -0.91387284
         ],
         "xaxis": "x",
         "y": [
          0.112798795
         ],
         "yaxis": "y"
        },
        {
         "customdata": [
          [
           158,
           "Brana Chloroplast",
           "Eukaryota",
           "Viridiplantae",
           "CHLOROPLAST"
          ]
         ],
         "hovertemplate": "<b>%{hovertext}</b><br><br>Species=%{customdata[1]}<br>pm1=%{x}<br>pm2=%{y}<br>Unnamed: 0=%{customdata[0]}<br>Kingdom=%{customdata[2]}<br>Family=%{customdata[3]}<br>Color_eukaryota=%{customdata[4]}<extra></extra>",
         "hovertext": [
          "Brana Chloroplast"
         ],
         "legendgroup": "Brana Chloroplast",
         "marker": {
          "color": "#06f9d4",
          "symbol": "circle"
         },
         "mode": "markers",
         "name": "Brana Chloroplast",
         "orientation": "v",
         "showlegend": true,
         "type": "scatter",
         "x": [
          -0.90061724
         ],
         "xaxis": "x",
         "y": [
          0.13252468
         ],
         "yaxis": "y"
        },
        {
         "customdata": [
          [
           159,
           "Thermus",
           "Bacteria",
           "Deinococcus-Thermus",
           "OTHERS"
          ],
          [
           161,
           "Thermus",
           "Bacteria",
           "Deinococcus-Thermus",
           "OTHERS"
          ]
         ],
         "hovertemplate": "<b>%{hovertext}</b><br><br>Species=%{customdata[1]}<br>pm1=%{x}<br>pm2=%{y}<br>Unnamed: 0=%{customdata[0]}<br>Kingdom=%{customdata[2]}<br>Family=%{customdata[3]}<br>Color_eukaryota=%{customdata[4]}<extra></extra>",
         "hovertext": [
          "Thermus",
          "Thermus"
         ],
         "legendgroup": "Thermus",
         "marker": {
          "color": "#34b8e7",
          "symbol": "circle"
         },
         "mode": "markers",
         "name": "Thermus",
         "orientation": "v",
         "showlegend": true,
         "type": "scatter",
         "x": [
          -0.53226596,
          -0.3769693
         ],
         "xaxis": "x",
         "y": [
          0.45762247,
          0.021650754
         ],
         "yaxis": "y"
        },
        {
         "customdata": [
          [
           160,
           "Deinococcus",
           "Bacteria",
           "Deinococcus-Thermus",
           "OTHERS"
          ],
          [
           162,
           "Deinococcus",
           "Bacteria",
           "Deinococcus-Thermus",
           "OTHERS"
          ]
         ],
         "hovertemplate": "<b>%{hovertext}</b><br><br>Species=%{customdata[1]}<br>pm1=%{x}<br>pm2=%{y}<br>Unnamed: 0=%{customdata[0]}<br>Kingdom=%{customdata[2]}<br>Family=%{customdata[3]}<br>Color_eukaryota=%{customdata[4]}<extra></extra>",
         "hovertext": [
          "Deinococcus",
          "Deinococcus"
         ],
         "legendgroup": "Deinococcus",
         "marker": {
          "color": "#34b8e7",
          "symbol": "circle"
         },
         "mode": "markers",
         "name": "Deinococcus",
         "orientation": "v",
         "showlegend": true,
         "type": "scatter",
         "x": [
          -0.5394886,
          -0.25490254
         ],
         "xaxis": "x",
         "y": [
          0.3849956,
          0.07630104
         ],
         "yaxis": "y"
        },
        {
         "customdata": [
          [
           163,
           "Dehalococcoides",
           "Bacteria",
           "Chloroflexi",
           "OTHERS"
          ]
         ],
         "hovertemplate": "<b>%{hovertext}</b><br><br>Species=%{customdata[1]}<br>pm1=%{x}<br>pm2=%{y}<br>Unnamed: 0=%{customdata[0]}<br>Kingdom=%{customdata[2]}<br>Family=%{customdata[3]}<br>Color_eukaryota=%{customdata[4]}<extra></extra>",
         "hovertext": [
          "Dehalococcoides"
         ],
         "legendgroup": "Dehalococcoides",
         "marker": {
          "color": "#34b8e7",
          "symbol": "circle"
         },
         "mode": "markers",
         "name": "Dehalococcoides",
         "orientation": "v",
         "showlegend": true,
         "type": "scatter",
         "x": [
          -0.2231909
         ],
         "xaxis": "x",
         "y": [
          0.183856
         ],
         "yaxis": "y"
        },
        {
         "customdata": [
          [
           164,
           "Chloroflexus",
           "Bacteria",
           "Chloroflexi",
           "OTHERS"
          ],
          [
           165,
           "Chloroflexus",
           "Bacteria",
           "Chloroflexi",
           "OTHERS"
          ],
          [
           166,
           "Chloroflexus",
           "Bacteria",
           "Chloroflexi",
           "OTHERS"
          ]
         ],
         "hovertemplate": "<b>%{hovertext}</b><br><br>Species=%{customdata[1]}<br>pm1=%{x}<br>pm2=%{y}<br>Unnamed: 0=%{customdata[0]}<br>Kingdom=%{customdata[2]}<br>Family=%{customdata[3]}<br>Color_eukaryota=%{customdata[4]}<extra></extra>",
         "hovertext": [
          "Chloroflexus",
          "Chloroflexus",
          "Chloroflexus"
         ],
         "legendgroup": "Chloroflexus",
         "marker": {
          "color": "#34b8e7",
          "symbol": "circle"
         },
         "mode": "markers",
         "name": "Chloroflexus",
         "orientation": "v",
         "showlegend": true,
         "type": "scatter",
         "x": [
          -0.4066253,
          -0.44063956,
          -0.43379545
         ],
         "xaxis": "x",
         "y": [
          0.42475483,
          0.030301306,
          -0.08301372
         ],
         "yaxis": "y"
        },
        {
         "customdata": [
          [
           167,
           "Aquifex",
           "Bacteria",
           "Aquificae",
           "OTHERS"
          ]
         ],
         "hovertemplate": "<b>%{hovertext}</b><br><br>Species=%{customdata[1]}<br>pm1=%{x}<br>pm2=%{y}<br>Unnamed: 0=%{customdata[0]}<br>Kingdom=%{customdata[2]}<br>Family=%{customdata[3]}<br>Color_eukaryota=%{customdata[4]}<extra></extra>",
         "hovertext": [
          "Aquifex"
         ],
         "legendgroup": "Aquifex",
         "marker": {
          "color": "#34b8e7",
          "symbol": "circle"
         },
         "mode": "markers",
         "name": "Aquifex",
         "orientation": "v",
         "showlegend": true,
         "type": "scatter",
         "x": [
          -0.2846112
         ],
         "xaxis": "x",
         "y": [
          0.017702222
         ],
         "yaxis": "y"
        },
        {
         "customdata": [
          [
           168,
           "Bdellovibrio",
           "Bacteria",
           "Proteobacteria",
           "OTHERS"
          ],
          [
           170,
           "Bdellovibrio",
           "Bacteria",
           "Proteobacteria",
           "OTHERS"
          ]
         ],
         "hovertemplate": "<b>%{hovertext}</b><br><br>Species=%{customdata[1]}<br>pm1=%{x}<br>pm2=%{y}<br>Unnamed: 0=%{customdata[0]}<br>Kingdom=%{customdata[2]}<br>Family=%{customdata[3]}<br>Color_eukaryota=%{customdata[4]}<extra></extra>",
         "hovertext": [
          "Bdellovibrio",
          "Bdellovibrio"
         ],
         "legendgroup": "Bdellovibrio",
         "marker": {
          "color": "#34b8e7",
          "symbol": "circle"
         },
         "mode": "markers",
         "name": "Bdellovibrio",
         "orientation": "v",
         "showlegend": true,
         "type": "scatter",
         "x": [
          0.47840363,
          -0.59789884
         ],
         "xaxis": "x",
         "y": [
          0.7225364,
          -0.029631713
         ],
         "yaxis": "y"
        },
        {
         "customdata": [
          [
           169,
           "Geobacter",
           "Bacteria",
           "Proteobacteria",
           "OTHERS"
          ],
          [
           172,
           "Geobacter",
           "Bacteria",
           "Proteobacteria",
           "OTHERS"
          ]
         ],
         "hovertemplate": "<b>%{hovertext}</b><br><br>Species=%{customdata[1]}<br>pm1=%{x}<br>pm2=%{y}<br>Unnamed: 0=%{customdata[0]}<br>Kingdom=%{customdata[2]}<br>Family=%{customdata[3]}<br>Color_eukaryota=%{customdata[4]}<extra></extra>",
         "hovertext": [
          "Geobacter",
          "Geobacter"
         ],
         "legendgroup": "Geobacter",
         "marker": {
          "color": "#34b8e7",
          "symbol": "circle"
         },
         "mode": "markers",
         "name": "Geobacter",
         "orientation": "v",
         "showlegend": true,
         "type": "scatter",
         "x": [
          -0.6129281,
          -0.31664914
         ],
         "xaxis": "x",
         "y": [
          0.51219404,
          -0.031358954
         ],
         "yaxis": "y"
        },
        {
         "customdata": [
          [
           171,
           "Desulfovibrio",
           "Bacteria",
           "Proteobacteria",
           "OTHERS"
          ]
         ],
         "hovertemplate": "<b>%{hovertext}</b><br><br>Species=%{customdata[1]}<br>pm1=%{x}<br>pm2=%{y}<br>Unnamed: 0=%{customdata[0]}<br>Kingdom=%{customdata[2]}<br>Family=%{customdata[3]}<br>Color_eukaryota=%{customdata[4]}<extra></extra>",
         "hovertext": [
          "Desulfovibrio"
         ],
         "legendgroup": "Desulfovibrio",
         "marker": {
          "color": "#34b8e7",
          "symbol": "circle"
         },
         "mode": "markers",
         "name": "Desulfovibrio",
         "orientation": "v",
         "showlegend": true,
         "type": "scatter",
         "x": [
          -0.40268102
         ],
         "xaxis": "x",
         "y": [
          0.15824784
         ],
         "yaxis": "y"
        },
        {
         "customdata": [
          [
           173,
           "Solibacter",
           "Bacteria",
           "Acidobacteria",
           "OTHERS"
          ],
          [
           174,
           "Solibacter",
           "Bacteria",
           "Acidobacteria",
           "OTHERS"
          ]
         ],
         "hovertemplate": "<b>%{hovertext}</b><br><br>Species=%{customdata[1]}<br>pm1=%{x}<br>pm2=%{y}<br>Unnamed: 0=%{customdata[0]}<br>Kingdom=%{customdata[2]}<br>Family=%{customdata[3]}<br>Color_eukaryota=%{customdata[4]}<extra></extra>",
         "hovertext": [
          "Solibacter",
          "Solibacter"
         ],
         "legendgroup": "Solibacter",
         "marker": {
          "color": "#34b8e7",
          "symbol": "circle"
         },
         "mode": "markers",
         "name": "Solibacter",
         "orientation": "v",
         "showlegend": true,
         "type": "scatter",
         "x": [
          -0.573715,
          -0.32787043
         ],
         "xaxis": "x",
         "y": [
          0.4495816,
          -0.045197375
         ],
         "yaxis": "y"
        },
        {
         "customdata": [
          [
           175,
           "Acidobacteria",
           "Bacteria",
           "Acidobacteria",
           "OTHERS"
          ]
         ],
         "hovertemplate": "<b>%{hovertext}</b><br><br>Species=%{customdata[1]}<br>pm1=%{x}<br>pm2=%{y}<br>Unnamed: 0=%{customdata[0]}<br>Kingdom=%{customdata[2]}<br>Family=%{customdata[3]}<br>Color_eukaryota=%{customdata[4]}<extra></extra>",
         "hovertext": [
          "Acidobacteria"
         ],
         "legendgroup": "Acidobacteria",
         "marker": {
          "color": "#34b8e7",
          "symbol": "circle"
         },
         "mode": "markers",
         "name": "Acidobacteria",
         "orientation": "v",
         "showlegend": true,
         "type": "scatter",
         "x": [
          -0.31775817
         ],
         "xaxis": "x",
         "y": [
          -0.04205217
         ],
         "yaxis": "y"
        },
        {
         "customdata": [
          [
           176,
           "Wolinella",
           "Bacteria",
           "Proteobacteria",
           "OTHERS"
          ],
          [
           180,
           "Wolinella",
           "Bacteria",
           "Proteobacteria",
           "OTHERS"
          ],
          [
           181,
           "Wolinella",
           "Bacteria",
           "Proteobacteria",
           "OTHERS"
          ]
         ],
         "hovertemplate": "<b>%{hovertext}</b><br><br>Species=%{customdata[1]}<br>pm1=%{x}<br>pm2=%{y}<br>Unnamed: 0=%{customdata[0]}<br>Kingdom=%{customdata[2]}<br>Family=%{customdata[3]}<br>Color_eukaryota=%{customdata[4]}<extra></extra>",
         "hovertext": [
          "Wolinella",
          "Wolinella",
          "Wolinella"
         ],
         "legendgroup": "Wolinella",
         "marker": {
          "color": "#34b8e7",
          "symbol": "circle"
         },
         "mode": "markers",
         "name": "Wolinella",
         "orientation": "v",
         "showlegend": true,
         "type": "scatter",
         "x": [
          0.06976827,
          -0.19033322,
          -0.1885761
         ],
         "xaxis": "x",
         "y": [
          0.031915132,
          0.28980556,
          0.2747724
         ],
         "yaxis": "y"
        },
        {
         "customdata": [
          [
           177,
           "Helicobacter",
           "Bacteria",
           "Proteobacteria",
           "OTHERS"
          ],
          [
           179,
           "Helicobacter",
           "Bacteria",
           "Proteobacteria",
           "OTHERS"
          ]
         ],
         "hovertemplate": "<b>%{hovertext}</b><br><br>Species=%{customdata[1]}<br>pm1=%{x}<br>pm2=%{y}<br>Unnamed: 0=%{customdata[0]}<br>Kingdom=%{customdata[2]}<br>Family=%{customdata[3]}<br>Color_eukaryota=%{customdata[4]}<extra></extra>",
         "hovertext": [
          "Helicobacter",
          "Helicobacter"
         ],
         "legendgroup": "Helicobacter",
         "marker": {
          "color": "#34b8e7",
          "symbol": "circle"
         },
         "mode": "markers",
         "name": "Helicobacter",
         "orientation": "v",
         "showlegend": true,
         "type": "scatter",
         "x": [
          0.03640933,
          0.13956913
         ],
         "xaxis": "x",
         "y": [
          -0.00055778655,
          -0.025049368
         ],
         "yaxis": "y"
        },
        {
         "customdata": [
          [
           178,
           "Campylobacter",
           "Bacteria",
           "Proteobacteria",
           "OTHERS"
          ]
         ],
         "hovertemplate": "<b>%{hovertext}</b><br><br>Species=%{customdata[1]}<br>pm1=%{x}<br>pm2=%{y}<br>Unnamed: 0=%{customdata[0]}<br>Kingdom=%{customdata[2]}<br>Family=%{customdata[3]}<br>Color_eukaryota=%{customdata[4]}<extra></extra>",
         "hovertext": [
          "Campylobacter"
         ],
         "legendgroup": "Campylobacter",
         "marker": {
          "color": "#34b8e7",
          "symbol": "circle"
         },
         "mode": "markers",
         "name": "Campylobacter",
         "orientation": "v",
         "showlegend": true,
         "type": "scatter",
         "x": [
          0.10655215
         ],
         "xaxis": "x",
         "y": [
          -0.025732454
         ],
         "yaxis": "y"
        },
        {
         "customdata": [
          [
           182,
           "Agrobacterium",
           "Bacteria",
           "Proteobacteria",
           "OTHERS"
          ]
         ],
         "hovertemplate": "<b>%{hovertext}</b><br><br>Species=%{customdata[1]}<br>pm1=%{x}<br>pm2=%{y}<br>Unnamed: 0=%{customdata[0]}<br>Kingdom=%{customdata[2]}<br>Family=%{customdata[3]}<br>Color_eukaryota=%{customdata[4]}<extra></extra>",
         "hovertext": [
          "Agrobacterium"
         ],
         "legendgroup": "Agrobacterium",
         "marker": {
          "color": "#34b8e7",
          "symbol": "circle"
         },
         "mode": "markers",
         "name": "Agrobacterium",
         "orientation": "v",
         "showlegend": true,
         "type": "scatter",
         "x": [
          -0.47845575
         ],
         "xaxis": "x",
         "y": [
          0.051707365
         ],
         "yaxis": "y"
        },
        {
         "customdata": [
          [
           183,
           "Sinorhizobium",
           "Bacteria",
           "Proteobacteria",
           "OTHERS"
          ]
         ],
         "hovertemplate": "<b>%{hovertext}</b><br><br>Species=%{customdata[1]}<br>pm1=%{x}<br>pm2=%{y}<br>Unnamed: 0=%{customdata[0]}<br>Kingdom=%{customdata[2]}<br>Family=%{customdata[3]}<br>Color_eukaryota=%{customdata[4]}<extra></extra>",
         "hovertext": [
          "Sinorhizobium"
         ],
         "legendgroup": "Sinorhizobium",
         "marker": {
          "color": "#34b8e7",
          "symbol": "circle"
         },
         "mode": "markers",
         "name": "Sinorhizobium",
         "orientation": "v",
         "showlegend": true,
         "type": "scatter",
         "x": [
          -0.49262312
         ],
         "xaxis": "x",
         "y": [
          0.058412302
         ],
         "yaxis": "y"
        },
        {
         "customdata": [
          [
           184,
           "Brucella",
           "Bacteria",
           "Proteobacteria",
           "OTHERS"
          ]
         ],
         "hovertemplate": "<b>%{hovertext}</b><br><br>Species=%{customdata[1]}<br>pm1=%{x}<br>pm2=%{y}<br>Unnamed: 0=%{customdata[0]}<br>Kingdom=%{customdata[2]}<br>Family=%{customdata[3]}<br>Color_eukaryota=%{customdata[4]}<extra></extra>",
         "hovertext": [
          "Brucella"
         ],
         "legendgroup": "Brucella",
         "marker": {
          "color": "#34b8e7",
          "symbol": "circle"
         },
         "mode": "markers",
         "name": "Brucella",
         "orientation": "v",
         "showlegend": true,
         "type": "scatter",
         "x": [
          -0.4653748
         ],
         "xaxis": "x",
         "y": [
          0.045376986
         ],
         "yaxis": "y"
        },
        {
         "customdata": [
          [
           185,
           "Rickettsia",
           "Bacteria",
           "Proteobacteria",
           "OTHERS"
          ]
         ],
         "hovertemplate": "<b>%{hovertext}</b><br><br>Species=%{customdata[1]}<br>pm1=%{x}<br>pm2=%{y}<br>Unnamed: 0=%{customdata[0]}<br>Kingdom=%{customdata[2]}<br>Family=%{customdata[3]}<br>Color_eukaryota=%{customdata[4]}<extra></extra>",
         "hovertext": [
          "Rickettsia"
         ],
         "legendgroup": "Rickettsia",
         "marker": {
          "color": "#34b8e7",
          "symbol": "circle"
         },
         "mode": "markers",
         "name": "Rickettsia",
         "orientation": "v",
         "showlegend": true,
         "type": "scatter",
         "x": [
          -0.5998154
         ],
         "xaxis": "x",
         "y": [
          0.07573634
         ],
         "yaxis": "y"
        },
        {
         "customdata": [
          [
           186,
           "Bovin Mitochondrio",
           "Eukaryota",
           "Metazoa",
           "MITOCHONDRION"
          ]
         ],
         "hovertemplate": "<b>%{hovertext}</b><br><br>Species=%{customdata[1]}<br>pm1=%{x}<br>pm2=%{y}<br>Unnamed: 0=%{customdata[0]}<br>Kingdom=%{customdata[2]}<br>Family=%{customdata[3]}<br>Color_eukaryota=%{customdata[4]}<extra></extra>",
         "hovertext": [
          "Bovin Mitochondrio"
         ],
         "legendgroup": "Bovin Mitochondrio",
         "marker": {
          "color": "#61ff06",
          "symbol": "circle"
         },
         "mode": "markers",
         "name": "Bovin Mitochondrio",
         "orientation": "v",
         "showlegend": true,
         "type": "scatter",
         "x": [
          -0.20664912
         ],
         "xaxis": "x",
         "y": [
          0.88931066
         ],
         "yaxis": "y"
        },
        {
         "customdata": [
          [
           188,
           "Homo Mitochondrion",
           "Eukaryota",
           "Metazoa",
           "MITOCHONDRION"
          ]
         ],
         "hovertemplate": "<b>%{hovertext}</b><br><br>Species=%{customdata[1]}<br>pm1=%{x}<br>pm2=%{y}<br>Unnamed: 0=%{customdata[0]}<br>Kingdom=%{customdata[2]}<br>Family=%{customdata[3]}<br>Color_eukaryota=%{customdata[4]}<extra></extra>",
         "hovertext": [
          "Homo Mitochondrion"
         ],
         "legendgroup": "Homo Mitochondrion",
         "marker": {
          "color": "#61ff06",
          "symbol": "circle"
         },
         "mode": "markers",
         "name": "Homo Mitochondrion",
         "orientation": "v",
         "showlegend": true,
         "type": "scatter",
         "x": [
          -0.22351855
         ],
         "xaxis": "x",
         "y": [
          0.89191717
         ],
         "yaxis": "y"
        },
        {
         "customdata": [
          [
           189,
           "Rattus Mitochondrio",
           "Eukaryota",
           "Metazoa",
           "MITOCHONDRION"
          ]
         ],
         "hovertemplate": "<b>%{hovertext}</b><br><br>Species=%{customdata[1]}<br>pm1=%{x}<br>pm2=%{y}<br>Unnamed: 0=%{customdata[0]}<br>Kingdom=%{customdata[2]}<br>Family=%{customdata[3]}<br>Color_eukaryota=%{customdata[4]}<extra></extra>",
         "hovertext": [
          "Rattus Mitochondrio"
         ],
         "legendgroup": "Rattus Mitochondrio",
         "marker": {
          "color": "#61ff06",
          "symbol": "circle"
         },
         "mode": "markers",
         "name": "Rattus Mitochondrio",
         "orientation": "v",
         "showlegend": true,
         "type": "scatter",
         "x": [
          -0.20992838
         ],
         "xaxis": "x",
         "y": [
          0.8760351
         ],
         "yaxis": "y"
        },
        {
         "customdata": [
          [
           190,
           "Mus Mitochondrion",
           "Eukaryota",
           "Metazoa",
           "MITOCHONDRION"
          ]
         ],
         "hovertemplate": "<b>%{hovertext}</b><br><br>Species=%{customdata[1]}<br>pm1=%{x}<br>pm2=%{y}<br>Unnamed: 0=%{customdata[0]}<br>Kingdom=%{customdata[2]}<br>Family=%{customdata[3]}<br>Color_eukaryota=%{customdata[4]}<extra></extra>",
         "hovertext": [
          "Mus Mitochondrion"
         ],
         "legendgroup": "Mus Mitochondrion",
         "marker": {
          "color": "#61ff06",
          "symbol": "circle"
         },
         "mode": "markers",
         "name": "Mus Mitochondrion",
         "orientation": "v",
         "showlegend": true,
         "type": "scatter",
         "x": [
          -0.22284974
         ],
         "xaxis": "x",
         "y": [
          0.8761222
         ],
         "yaxis": "y"
        },
        {
         "customdata": [
          [
           191,
           "Thiobacillus",
           "Bacteria",
           "Proteobacteria",
           "OTHERS"
          ],
          [
           193,
           "Thiobacillus",
           "Bacteria",
           "Proteobacteria",
           "OTHERS"
          ],
          [
           196,
           "Thiobacillus",
           "Bacteria",
           "Proteobacteria",
           "OTHERS"
          ],
          [
           197,
           "Thiobacillus",
           "Bacteria",
           "Proteobacteria",
           "OTHERS"
          ]
         ],
         "hovertemplate": "<b>%{hovertext}</b><br><br>Species=%{customdata[1]}<br>pm1=%{x}<br>pm2=%{y}<br>Unnamed: 0=%{customdata[0]}<br>Kingdom=%{customdata[2]}<br>Family=%{customdata[3]}<br>Color_eukaryota=%{customdata[4]}<extra></extra>",
         "hovertext": [
          "Thiobacillus",
          "Thiobacillus",
          "Thiobacillus",
          "Thiobacillus"
         ],
         "legendgroup": "Thiobacillus",
         "marker": {
          "color": "#34b8e7",
          "symbol": "circle"
         },
         "mode": "markers",
         "name": "Thiobacillus",
         "orientation": "v",
         "showlegend": true,
         "type": "scatter",
         "x": [
          -0.607912,
          -0.6280771,
          -0.6617774,
          0.4423491
         ],
         "xaxis": "x",
         "y": [
          -0.16113551,
          -0.24951455,
          0.55019546,
          0.7123401
         ],
         "yaxis": "y"
        },
        {
         "customdata": [
          [
           192,
           "Neisseria",
           "Bacteria",
           "Proteobacteria",
           "OTHERS"
          ]
         ],
         "hovertemplate": "<b>%{hovertext}</b><br><br>Species=%{customdata[1]}<br>pm1=%{x}<br>pm2=%{y}<br>Unnamed: 0=%{customdata[0]}<br>Kingdom=%{customdata[2]}<br>Family=%{customdata[3]}<br>Color_eukaryota=%{customdata[4]}<extra></extra>",
         "hovertext": [
          "Neisseria"
         ],
         "legendgroup": "Neisseria",
         "marker": {
          "color": "#34b8e7",
          "symbol": "circle"
         },
         "mode": "markers",
         "name": "Neisseria",
         "orientation": "v",
         "showlegend": true,
         "type": "scatter",
         "x": [
          -0.5587061
         ],
         "xaxis": "x",
         "y": [
          -0.27734688
         ],
         "yaxis": "y"
        },
        {
         "customdata": [
          [
           194,
           "Burkholderia",
           "Bacteria",
           "Proteobacteria",
           "OTHERS"
          ]
         ],
         "hovertemplate": "<b>%{hovertext}</b><br><br>Species=%{customdata[1]}<br>pm1=%{x}<br>pm2=%{y}<br>Unnamed: 0=%{customdata[0]}<br>Kingdom=%{customdata[2]}<br>Family=%{customdata[3]}<br>Color_eukaryota=%{customdata[4]}<extra></extra>",
         "hovertext": [
          "Burkholderia"
         ],
         "legendgroup": "Burkholderia",
         "marker": {
          "color": "#34b8e7",
          "symbol": "circle"
         },
         "mode": "markers",
         "name": "Burkholderia",
         "orientation": "v",
         "showlegend": true,
         "type": "scatter",
         "x": [
          -0.62405807
         ],
         "xaxis": "x",
         "y": [
          -0.22697836
         ],
         "yaxis": "y"
        },
        {
         "customdata": [
          [
           195,
           "Bordetella",
           "Bacteria",
           "Proteobacteria",
           "OTHERS"
          ],
          [
           198,
           "Bordetella",
           "Bacteria",
           "Proteobacteria",
           "OTHERS"
          ]
         ],
         "hovertemplate": "<b>%{hovertext}</b><br><br>Species=%{customdata[1]}<br>pm1=%{x}<br>pm2=%{y}<br>Unnamed: 0=%{customdata[0]}<br>Kingdom=%{customdata[2]}<br>Family=%{customdata[3]}<br>Color_eukaryota=%{customdata[4]}<extra></extra>",
         "hovertext": [
          "Bordetella",
          "Bordetella"
         ],
         "legendgroup": "Bordetella",
         "marker": {
          "color": "#34b8e7",
          "symbol": "circle"
         },
         "mode": "markers",
         "name": "Bordetella",
         "orientation": "v",
         "showlegend": true,
         "type": "scatter",
         "x": [
          -0.6326398,
          0.46249324
         ],
         "xaxis": "x",
         "y": [
          -0.2552636,
          0.6942224
         ],
         "yaxis": "y"
        },
        {
         "customdata": [
          [
           199,
           "Pseudomonas",
           "Bacteria",
           "Proteobacteria",
           "OTHERS"
          ]
         ],
         "hovertemplate": "<b>%{hovertext}</b><br><br>Species=%{customdata[1]}<br>pm1=%{x}<br>pm2=%{y}<br>Unnamed: 0=%{customdata[0]}<br>Kingdom=%{customdata[2]}<br>Family=%{customdata[3]}<br>Color_eukaryota=%{customdata[4]}<extra></extra>",
         "hovertext": [
          "Pseudomonas"
         ],
         "legendgroup": "Pseudomonas",
         "marker": {
          "color": "#34b8e7",
          "symbol": "circle"
         },
         "mode": "markers",
         "name": "Pseudomonas",
         "orientation": "v",
         "showlegend": true,
         "type": "scatter",
         "x": [
          -0.60977554
         ],
         "xaxis": "x",
         "y": [
          -0.25067425
         ],
         "yaxis": "y"
        },
        {
         "customdata": [
          [
           200,
           "Vibrio",
           "Bacteria",
           "Proteobacteria",
           "OTHERS"
          ],
          [
           209,
           "Vibrio",
           "Bacteria",
           "Proteobacteria",
           "OTHERS"
          ]
         ],
         "hovertemplate": "<b>%{hovertext}</b><br><br>Species=%{customdata[1]}<br>pm1=%{x}<br>pm2=%{y}<br>Unnamed: 0=%{customdata[0]}<br>Kingdom=%{customdata[2]}<br>Family=%{customdata[3]}<br>Color_eukaryota=%{customdata[4]}<extra></extra>",
         "hovertext": [
          "Vibrio",
          "Vibrio"
         ],
         "legendgroup": "Vibrio",
         "marker": {
          "color": "#34b8e7",
          "symbol": "circle"
         },
         "mode": "markers",
         "name": "Vibrio",
         "orientation": "v",
         "showlegend": true,
         "type": "scatter",
         "x": [
          -0.56323713,
          -0.70694536
         ],
         "xaxis": "x",
         "y": [
          -0.22406924,
          0.5236583
         ],
         "yaxis": "y"
        },
        {
         "customdata": [
          [
           201,
           "Yersinia",
           "Bacteria",
           "Proteobacteria",
           "OTHERS"
          ],
          [
           208,
           "Yersinia",
           "Bacteria",
           "Proteobacteria",
           "OTHERS"
          ]
         ],
         "hovertemplate": "<b>%{hovertext}</b><br><br>Species=%{customdata[1]}<br>pm1=%{x}<br>pm2=%{y}<br>Unnamed: 0=%{customdata[0]}<br>Kingdom=%{customdata[2]}<br>Family=%{customdata[3]}<br>Color_eukaryota=%{customdata[4]}<extra></extra>",
         "hovertext": [
          "Yersinia",
          "Yersinia"
         ],
         "legendgroup": "Yersinia",
         "marker": {
          "color": "#34b8e7",
          "symbol": "circle"
         },
         "mode": "markers",
         "name": "Yersinia",
         "orientation": "v",
         "showlegend": true,
         "type": "scatter",
         "x": [
          -0.5814566,
          -0.7056638
         ],
         "xaxis": "x",
         "y": [
          -0.22341898,
          0.54859596
         ],
         "yaxis": "y"
        },
        {
         "customdata": [
          [
           202,
           "Salmonella",
           "Bacteria",
           "Proteobacteria",
           "OTHERS"
          ],
          [
           207,
           "Salmonella",
           "Bacteria",
           "Proteobacteria",
           "OTHERS"
          ]
         ],
         "hovertemplate": "<b>%{hovertext}</b><br><br>Species=%{customdata[1]}<br>pm1=%{x}<br>pm2=%{y}<br>Unnamed: 0=%{customdata[0]}<br>Kingdom=%{customdata[2]}<br>Family=%{customdata[3]}<br>Color_eukaryota=%{customdata[4]}<extra></extra>",
         "hovertext": [
          "Salmonella",
          "Salmonella"
         ],
         "legendgroup": "Salmonella",
         "marker": {
          "color": "#34b8e7",
          "symbol": "circle"
         },
         "mode": "markers",
         "name": "Salmonella",
         "orientation": "v",
         "showlegend": true,
         "type": "scatter",
         "x": [
          -0.5541258,
          -0.68600607
         ],
         "xaxis": "x",
         "y": [
          -0.21708125,
          0.54138535
         ],
         "yaxis": "y"
        },
        {
         "customdata": [
          [
           203,
           "Shigella",
           "Bacteria",
           "Proteobacteria",
           "OTHERS"
          ],
          [
           206,
           "Shigella",
           "Bacteria",
           "Proteobacteria",
           "OTHERS"
          ]
         ],
         "hovertemplate": "<b>%{hovertext}</b><br><br>Species=%{customdata[1]}<br>pm1=%{x}<br>pm2=%{y}<br>Unnamed: 0=%{customdata[0]}<br>Kingdom=%{customdata[2]}<br>Family=%{customdata[3]}<br>Color_eukaryota=%{customdata[4]}<extra></extra>",
         "hovertext": [
          "Shigella",
          "Shigella"
         ],
         "legendgroup": "Shigella",
         "marker": {
          "color": "#34b8e7",
          "symbol": "circle"
         },
         "mode": "markers",
         "name": "Shigella",
         "orientation": "v",
         "showlegend": true,
         "type": "scatter",
         "x": [
          -0.5649158,
          -0.69378144
         ],
         "xaxis": "x",
         "y": [
          -0.21942209,
          0.5590662
         ],
         "yaxis": "y"
        },
        {
         "customdata": [
          [
           204,
           "Escherichia",
           "Bacteria",
           "Proteobacteria",
           "OTHERS"
          ],
          [
           205,
           "Escherichia",
           "Bacteria",
           "Proteobacteria",
           "OTHERS"
          ]
         ],
         "hovertemplate": "<b>%{hovertext}</b><br><br>Species=%{customdata[1]}<br>pm1=%{x}<br>pm2=%{y}<br>Unnamed: 0=%{customdata[0]}<br>Kingdom=%{customdata[2]}<br>Family=%{customdata[3]}<br>Color_eukaryota=%{customdata[4]}<extra></extra>",
         "hovertext": [
          "Escherichia",
          "Escherichia"
         ],
         "legendgroup": "Escherichia",
         "marker": {
          "color": "#34b8e7",
          "symbol": "circle"
         },
         "mode": "markers",
         "name": "Escherichia",
         "orientation": "v",
         "showlegend": true,
         "type": "scatter",
         "x": [
          -0.570256,
          -0.6954032
         ],
         "xaxis": "x",
         "y": [
          -0.19229974,
          0.54878783
         ],
         "yaxis": "y"
        }
       ],
       "layout": {
        "font": {
         "size": 11
        },
        "height": 800,
        "legend": {
         "title": {
          "text": "Species"
         },
         "tracegroupgap": 0
        },
        "plot_bgcolor": "rgba(0, 0, 0, 0)",
        "shapes": [
         {
          "line": {
           "color": "black",
           "dash": "dot"
          },
          "opacity": 0.15,
          "type": "circle",
          "x0": -0.47058823529411764,
          "x1": 0.47058823529411764,
          "y0": -0.47058823529411764,
          "y1": 0.47058823529411764
         },
         {
          "line": {
           "color": "black",
           "dash": "dot"
          },
          "opacity": 0.15,
          "type": "circle",
          "x0": -0.6447368421052633,
          "x1": 0.6447368421052633,
          "y0": -0.6447368421052633,
          "y1": 0.6447368421052633
         },
         {
          "line": {
           "color": "black",
           "dash": "dot"
          },
          "opacity": 0.15,
          "type": "circle",
          "x0": -0.7705382436260623,
          "x1": 0.7705382436260623,
          "y0": -0.7705382436260623,
          "y1": 0.7705382436260623
         },
         {
          "line": {
           "color": "black",
           "dash": "dot"
          },
          "opacity": 0.15,
          "type": "circle",
          "x0": -0.8557007125890737,
          "x1": 0.8557007125890737,
          "y0": -0.8557007125890737,
          "y1": 0.8557007125890737
         },
         {
          "line": {
           "color": "black",
           "dash": "dot"
          },
          "opacity": 0.15,
          "type": "circle",
          "x0": -0.9108474990827933,
          "x1": 0.9108474990827933,
          "y0": -0.9108474990827933,
          "y1": 0.9108474990827933
         },
         {
          "line": {
           "color": "black",
           "dash": "dot"
          },
          "opacity": 0.15,
          "type": "circle",
          "x0": -0.9455374041239167,
          "x1": 0.9455374041239167,
          "y0": -0.9455374041239167,
          "y1": 0.9455374041239167
         },
         {
          "line": {
           "color": "Black"
          },
          "type": "circle",
          "x0": -1,
          "x1": 1,
          "xref": "x",
          "y0": -1,
          "y1": 1,
          "yref": "y"
         },
         {
          "fillcolor": "Black",
          "line": {
           "color": "Black"
          },
          "type": "circle",
          "x0": -0.005,
          "x1": 0.005,
          "xref": "x",
          "y0": -0.005,
          "y1": 0.005,
          "yref": "y"
         }
        ],
        "template": {
         "data": {
          "bar": [
           {
            "error_x": {
             "color": "#2a3f5f"
            },
            "error_y": {
             "color": "#2a3f5f"
            },
            "marker": {
             "line": {
              "color": "#E5ECF6",
              "width": 0.5
             },
             "pattern": {
              "fillmode": "overlay",
              "size": 10,
              "solidity": 0.2
             }
            },
            "type": "bar"
           }
          ],
          "barpolar": [
           {
            "marker": {
             "line": {
              "color": "#E5ECF6",
              "width": 0.5
             },
             "pattern": {
              "fillmode": "overlay",
              "size": 10,
              "solidity": 0.2
             }
            },
            "type": "barpolar"
           }
          ],
          "carpet": [
           {
            "aaxis": {
             "endlinecolor": "#2a3f5f",
             "gridcolor": "white",
             "linecolor": "white",
             "minorgridcolor": "white",
             "startlinecolor": "#2a3f5f"
            },
            "baxis": {
             "endlinecolor": "#2a3f5f",
             "gridcolor": "white",
             "linecolor": "white",
             "minorgridcolor": "white",
             "startlinecolor": "#2a3f5f"
            },
            "type": "carpet"
           }
          ],
          "choropleth": [
           {
            "colorbar": {
             "outlinewidth": 0,
             "ticks": ""
            },
            "type": "choropleth"
           }
          ],
          "contour": [
           {
            "colorbar": {
             "outlinewidth": 0,
             "ticks": ""
            },
            "colorscale": [
             [
              0,
              "#0d0887"
             ],
             [
              0.1111111111111111,
              "#46039f"
             ],
             [
              0.2222222222222222,
              "#7201a8"
             ],
             [
              0.3333333333333333,
              "#9c179e"
             ],
             [
              0.4444444444444444,
              "#bd3786"
             ],
             [
              0.5555555555555556,
              "#d8576b"
             ],
             [
              0.6666666666666666,
              "#ed7953"
             ],
             [
              0.7777777777777778,
              "#fb9f3a"
             ],
             [
              0.8888888888888888,
              "#fdca26"
             ],
             [
              1,
              "#f0f921"
             ]
            ],
            "type": "contour"
           }
          ],
          "contourcarpet": [
           {
            "colorbar": {
             "outlinewidth": 0,
             "ticks": ""
            },
            "type": "contourcarpet"
           }
          ],
          "heatmap": [
           {
            "colorbar": {
             "outlinewidth": 0,
             "ticks": ""
            },
            "colorscale": [
             [
              0,
              "#0d0887"
             ],
             [
              0.1111111111111111,
              "#46039f"
             ],
             [
              0.2222222222222222,
              "#7201a8"
             ],
             [
              0.3333333333333333,
              "#9c179e"
             ],
             [
              0.4444444444444444,
              "#bd3786"
             ],
             [
              0.5555555555555556,
              "#d8576b"
             ],
             [
              0.6666666666666666,
              "#ed7953"
             ],
             [
              0.7777777777777778,
              "#fb9f3a"
             ],
             [
              0.8888888888888888,
              "#fdca26"
             ],
             [
              1,
              "#f0f921"
             ]
            ],
            "type": "heatmap"
           }
          ],
          "heatmapgl": [
           {
            "colorbar": {
             "outlinewidth": 0,
             "ticks": ""
            },
            "colorscale": [
             [
              0,
              "#0d0887"
             ],
             [
              0.1111111111111111,
              "#46039f"
             ],
             [
              0.2222222222222222,
              "#7201a8"
             ],
             [
              0.3333333333333333,
              "#9c179e"
             ],
             [
              0.4444444444444444,
              "#bd3786"
             ],
             [
              0.5555555555555556,
              "#d8576b"
             ],
             [
              0.6666666666666666,
              "#ed7953"
             ],
             [
              0.7777777777777778,
              "#fb9f3a"
             ],
             [
              0.8888888888888888,
              "#fdca26"
             ],
             [
              1,
              "#f0f921"
             ]
            ],
            "type": "heatmapgl"
           }
          ],
          "histogram": [
           {
            "marker": {
             "pattern": {
              "fillmode": "overlay",
              "size": 10,
              "solidity": 0.2
             }
            },
            "type": "histogram"
           }
          ],
          "histogram2d": [
           {
            "colorbar": {
             "outlinewidth": 0,
             "ticks": ""
            },
            "colorscale": [
             [
              0,
              "#0d0887"
             ],
             [
              0.1111111111111111,
              "#46039f"
             ],
             [
              0.2222222222222222,
              "#7201a8"
             ],
             [
              0.3333333333333333,
              "#9c179e"
             ],
             [
              0.4444444444444444,
              "#bd3786"
             ],
             [
              0.5555555555555556,
              "#d8576b"
             ],
             [
              0.6666666666666666,
              "#ed7953"
             ],
             [
              0.7777777777777778,
              "#fb9f3a"
             ],
             [
              0.8888888888888888,
              "#fdca26"
             ],
             [
              1,
              "#f0f921"
             ]
            ],
            "type": "histogram2d"
           }
          ],
          "histogram2dcontour": [
           {
            "colorbar": {
             "outlinewidth": 0,
             "ticks": ""
            },
            "colorscale": [
             [
              0,
              "#0d0887"
             ],
             [
              0.1111111111111111,
              "#46039f"
             ],
             [
              0.2222222222222222,
              "#7201a8"
             ],
             [
              0.3333333333333333,
              "#9c179e"
             ],
             [
              0.4444444444444444,
              "#bd3786"
             ],
             [
              0.5555555555555556,
              "#d8576b"
             ],
             [
              0.6666666666666666,
              "#ed7953"
             ],
             [
              0.7777777777777778,
              "#fb9f3a"
             ],
             [
              0.8888888888888888,
              "#fdca26"
             ],
             [
              1,
              "#f0f921"
             ]
            ],
            "type": "histogram2dcontour"
           }
          ],
          "mesh3d": [
           {
            "colorbar": {
             "outlinewidth": 0,
             "ticks": ""
            },
            "type": "mesh3d"
           }
          ],
          "parcoords": [
           {
            "line": {
             "colorbar": {
              "outlinewidth": 0,
              "ticks": ""
             }
            },
            "type": "parcoords"
           }
          ],
          "pie": [
           {
            "automargin": true,
            "type": "pie"
           }
          ],
          "scatter": [
           {
            "fillpattern": {
             "fillmode": "overlay",
             "size": 10,
             "solidity": 0.2
            },
            "type": "scatter"
           }
          ],
          "scatter3d": [
           {
            "line": {
             "colorbar": {
              "outlinewidth": 0,
              "ticks": ""
             }
            },
            "marker": {
             "colorbar": {
              "outlinewidth": 0,
              "ticks": ""
             }
            },
            "type": "scatter3d"
           }
          ],
          "scattercarpet": [
           {
            "marker": {
             "colorbar": {
              "outlinewidth": 0,
              "ticks": ""
             }
            },
            "type": "scattercarpet"
           }
          ],
          "scattergeo": [
           {
            "marker": {
             "colorbar": {
              "outlinewidth": 0,
              "ticks": ""
             }
            },
            "type": "scattergeo"
           }
          ],
          "scattergl": [
           {
            "marker": {
             "colorbar": {
              "outlinewidth": 0,
              "ticks": ""
             }
            },
            "type": "scattergl"
           }
          ],
          "scattermapbox": [
           {
            "marker": {
             "colorbar": {
              "outlinewidth": 0,
              "ticks": ""
             }
            },
            "type": "scattermapbox"
           }
          ],
          "scatterpolar": [
           {
            "marker": {
             "colorbar": {
              "outlinewidth": 0,
              "ticks": ""
             }
            },
            "type": "scatterpolar"
           }
          ],
          "scatterpolargl": [
           {
            "marker": {
             "colorbar": {
              "outlinewidth": 0,
              "ticks": ""
             }
            },
            "type": "scatterpolargl"
           }
          ],
          "scatterternary": [
           {
            "marker": {
             "colorbar": {
              "outlinewidth": 0,
              "ticks": ""
             }
            },
            "type": "scatterternary"
           }
          ],
          "surface": [
           {
            "colorbar": {
             "outlinewidth": 0,
             "ticks": ""
            },
            "colorscale": [
             [
              0,
              "#0d0887"
             ],
             [
              0.1111111111111111,
              "#46039f"
             ],
             [
              0.2222222222222222,
              "#7201a8"
             ],
             [
              0.3333333333333333,
              "#9c179e"
             ],
             [
              0.4444444444444444,
              "#bd3786"
             ],
             [
              0.5555555555555556,
              "#d8576b"
             ],
             [
              0.6666666666666666,
              "#ed7953"
             ],
             [
              0.7777777777777778,
              "#fb9f3a"
             ],
             [
              0.8888888888888888,
              "#fdca26"
             ],
             [
              1,
              "#f0f921"
             ]
            ],
            "type": "surface"
           }
          ],
          "table": [
           {
            "cells": {
             "fill": {
              "color": "#EBF0F8"
             },
             "line": {
              "color": "white"
             }
            },
            "header": {
             "fill": {
              "color": "#C8D4E3"
             },
             "line": {
              "color": "white"
             }
            },
            "type": "table"
           }
          ]
         },
         "layout": {
          "annotationdefaults": {
           "arrowcolor": "#2a3f5f",
           "arrowhead": 0,
           "arrowwidth": 1
          },
          "autotypenumbers": "strict",
          "coloraxis": {
           "colorbar": {
            "outlinewidth": 0,
            "ticks": ""
           }
          },
          "colorscale": {
           "diverging": [
            [
             0,
             "#8e0152"
            ],
            [
             0.1,
             "#c51b7d"
            ],
            [
             0.2,
             "#de77ae"
            ],
            [
             0.3,
             "#f1b6da"
            ],
            [
             0.4,
             "#fde0ef"
            ],
            [
             0.5,
             "#f7f7f7"
            ],
            [
             0.6,
             "#e6f5d0"
            ],
            [
             0.7,
             "#b8e186"
            ],
            [
             0.8,
             "#7fbc41"
            ],
            [
             0.9,
             "#4d9221"
            ],
            [
             1,
             "#276419"
            ]
           ],
           "sequential": [
            [
             0,
             "#0d0887"
            ],
            [
             0.1111111111111111,
             "#46039f"
            ],
            [
             0.2222222222222222,
             "#7201a8"
            ],
            [
             0.3333333333333333,
             "#9c179e"
            ],
            [
             0.4444444444444444,
             "#bd3786"
            ],
            [
             0.5555555555555556,
             "#d8576b"
            ],
            [
             0.6666666666666666,
             "#ed7953"
            ],
            [
             0.7777777777777778,
             "#fb9f3a"
            ],
            [
             0.8888888888888888,
             "#fdca26"
            ],
            [
             1,
             "#f0f921"
            ]
           ],
           "sequentialminus": [
            [
             0,
             "#0d0887"
            ],
            [
             0.1111111111111111,
             "#46039f"
            ],
            [
             0.2222222222222222,
             "#7201a8"
            ],
            [
             0.3333333333333333,
             "#9c179e"
            ],
            [
             0.4444444444444444,
             "#bd3786"
            ],
            [
             0.5555555555555556,
             "#d8576b"
            ],
            [
             0.6666666666666666,
             "#ed7953"
            ],
            [
             0.7777777777777778,
             "#fb9f3a"
            ],
            [
             0.8888888888888888,
             "#fdca26"
            ],
            [
             1,
             "#f0f921"
            ]
           ]
          },
          "colorway": [
           "#636efa",
           "#EF553B",
           "#00cc96",
           "#ab63fa",
           "#FFA15A",
           "#19d3f3",
           "#FF6692",
           "#B6E880",
           "#FF97FF",
           "#FECB52"
          ],
          "font": {
           "color": "#2a3f5f"
          },
          "geo": {
           "bgcolor": "white",
           "lakecolor": "white",
           "landcolor": "#E5ECF6",
           "showlakes": true,
           "showland": true,
           "subunitcolor": "white"
          },
          "hoverlabel": {
           "align": "left"
          },
          "hovermode": "closest",
          "mapbox": {
           "style": "light"
          },
          "paper_bgcolor": "white",
          "plot_bgcolor": "#E5ECF6",
          "polar": {
           "angularaxis": {
            "gridcolor": "white",
            "linecolor": "white",
            "ticks": ""
           },
           "bgcolor": "#E5ECF6",
           "radialaxis": {
            "gridcolor": "white",
            "linecolor": "white",
            "ticks": ""
           }
          },
          "scene": {
           "xaxis": {
            "backgroundcolor": "#E5ECF6",
            "gridcolor": "white",
            "gridwidth": 2,
            "linecolor": "white",
            "showbackground": true,
            "ticks": "",
            "zerolinecolor": "white"
           },
           "yaxis": {
            "backgroundcolor": "#E5ECF6",
            "gridcolor": "white",
            "gridwidth": 2,
            "linecolor": "white",
            "showbackground": true,
            "ticks": "",
            "zerolinecolor": "white"
           },
           "zaxis": {
            "backgroundcolor": "#E5ECF6",
            "gridcolor": "white",
            "gridwidth": 2,
            "linecolor": "white",
            "showbackground": true,
            "ticks": "",
            "zerolinecolor": "white"
           }
          },
          "shapedefaults": {
           "line": {
            "color": "#2a3f5f"
           }
          },
          "ternary": {
           "aaxis": {
            "gridcolor": "white",
            "linecolor": "white",
            "ticks": ""
           },
           "baxis": {
            "gridcolor": "white",
            "linecolor": "white",
            "ticks": ""
           },
           "bgcolor": "#E5ECF6",
           "caxis": {
            "gridcolor": "white",
            "linecolor": "white",
            "ticks": ""
           }
          },
          "title": {
           "x": 0.05
          },
          "xaxis": {
           "automargin": true,
           "gridcolor": "white",
           "linecolor": "white",
           "ticks": "",
           "title": {
            "standoff": 15
           },
           "zerolinecolor": "white",
           "zerolinewidth": 2
          },
          "yaxis": {
           "automargin": true,
           "gridcolor": "white",
           "linecolor": "white",
           "ticks": "",
           "title": {
            "standoff": 15
           },
           "zerolinecolor": "white",
           "zerolinewidth": 2
          }
         }
        },
        "title": {
         "text": "PM projection of thioredoxins colored by species",
         "x": 0.5
        },
        "xaxis": {
         "anchor": "y",
         "constrain": "domain",
         "domain": [
          0,
          1
         ],
         "range": [
          -1.1,
          1.1
         ],
         "title": {
          "text": "pm1"
         }
        },
        "yaxis": {
         "anchor": "x",
         "domain": [
          0,
          1
         ],
         "scaleanchor": "x",
         "scaleratio": 1,
         "title": {
          "text": "pm2"
         }
        },
        "yaxis2": {
         "layer": "below traces",
         "matches": "y",
         "overlaying": "y"
        }
       }
      },
      "text/html": [
       "<div>                            <div id=\"dfaa1122-d50f-4695-a28d-db21a2481e41\" class=\"plotly-graph-div\" style=\"height:800px; width:100%;\"></div>            <script type=\"text/javascript\">                require([\"plotly\"], function(Plotly) {                    window.PLOTLYENV=window.PLOTLYENV || {};                                    if (document.getElementById(\"dfaa1122-d50f-4695-a28d-db21a2481e41\")) {                    Plotly.newPlot(                        \"dfaa1122-d50f-4695-a28d-db21a2481e41\",                        [{\"customdata\":[[0,\"LBCA\",\"LBCA\",\"LBCA\",\"OTHERS\"]],\"hovertemplate\":\"<b>%{hovertext}</b><br><br>Species=%{customdata[1]}<br>pm1=%{x}<br>pm2=%{y}<br>Unnamed: 0=%{customdata[0]}<br>Kingdom=%{customdata[2]}<br>Family=%{customdata[3]}<br>Color_eukaryota=%{customdata[4]}<extra></extra>\",\"hovertext\":[\"LBCA\"],\"legendgroup\":\"LBCA\",\"marker\":{\"color\":\"#34b8e7\",\"symbol\":\"circle\"},\"mode\":\"markers\",\"name\":\"LBCA\",\"orientation\":\"v\",\"showlegend\":true,\"x\":[-0.19840327],\"xaxis\":\"x\",\"y\":[0.0696493],\"yaxis\":\"y\",\"type\":\"scatter\"},{\"customdata\":[[1,\"LACA\",\"LACA\",\"LACA\",\"OTHERS\"]],\"hovertemplate\":\"<b>%{hovertext}</b><br><br>Species=%{customdata[1]}<br>pm1=%{x}<br>pm2=%{y}<br>Unnamed: 0=%{customdata[0]}<br>Kingdom=%{customdata[2]}<br>Family=%{customdata[3]}<br>Color_eukaryota=%{customdata[4]}<extra></extra>\",\"hovertext\":[\"LACA\"],\"legendgroup\":\"LACA\",\"marker\":{\"color\":\"#ff0000\",\"symbol\":\"circle\"},\"mode\":\"markers\",\"name\":\"LACA\",\"orientation\":\"v\",\"showlegend\":true,\"x\":[0.0037791776],\"xaxis\":\"x\",\"y\":[0.19923353],\"yaxis\":\"y\",\"type\":\"scatter\"},{\"customdata\":[[2,\"AECA\",\"AECA\",\"AECA\",\"OTHERS\"]],\"hovertemplate\":\"<b>%{hovertext}</b><br><br>Species=%{customdata[1]}<br>pm1=%{x}<br>pm2=%{y}<br>Unnamed: 0=%{customdata[0]}<br>Kingdom=%{customdata[2]}<br>Family=%{customdata[3]}<br>Color_eukaryota=%{customdata[4]}<extra></extra>\",\"hovertext\":[\"AECA\"],\"legendgroup\":\"AECA\",\"marker\":{\"color\":\"#e7e53c\",\"symbol\":\"circle\"},\"mode\":\"markers\",\"name\":\"AECA\",\"orientation\":\"v\",\"showlegend\":true,\"x\":[0.026386471],\"xaxis\":\"x\",\"y\":[0.12986664],\"yaxis\":\"y\",\"type\":\"scatter\"},{\"customdata\":[[3,\"LGPCA\",\"LGPCA\",\"LGPCA\",\"OTHERS\"]],\"hovertemplate\":\"<b>%{hovertext}</b><br><br>Species=%{customdata[1]}<br>pm1=%{x}<br>pm2=%{y}<br>Unnamed: 0=%{customdata[0]}<br>Kingdom=%{customdata[2]}<br>Family=%{customdata[3]}<br>Color_eukaryota=%{customdata[4]}<extra></extra>\",\"hovertext\":[\"LGPCA\"],\"legendgroup\":\"LGPCA\",\"marker\":{\"color\":\"#34b8e7\",\"symbol\":\"circle\"},\"mode\":\"markers\",\"name\":\"LGPCA\",\"orientation\":\"v\",\"showlegend\":true,\"x\":[-0.48813894],\"xaxis\":\"x\",\"y\":[-0.137934],\"yaxis\":\"y\",\"type\":\"scatter\"},{\"customdata\":[[4,\"LECA\",\"LECA\",\"LECA\",\"OTHERS\"]],\"hovertemplate\":\"<b>%{hovertext}</b><br><br>Species=%{customdata[1]}<br>pm1=%{x}<br>pm2=%{y}<br>Unnamed: 0=%{customdata[0]}<br>Kingdom=%{customdata[2]}<br>Family=%{customdata[3]}<br>Color_eukaryota=%{customdata[4]}<extra></extra>\",\"hovertext\":[\"LECA\"],\"legendgroup\":\"LECA\",\"marker\":{\"color\":\"#21e548\",\"symbol\":\"circle\"},\"mode\":\"markers\",\"name\":\"LECA\",\"orientation\":\"v\",\"showlegend\":true,\"x\":[0.5462513],\"xaxis\":\"x\",\"y\":[-0.34303415],\"yaxis\":\"y\",\"type\":\"scatter\"},{\"customdata\":[[5,\"LPBCA\",\"LPBCA\",\"LPBCA\",\"OTHERS\"]],\"hovertemplate\":\"<b>%{hovertext}</b><br><br>Species=%{customdata[1]}<br>pm1=%{x}<br>pm2=%{y}<br>Unnamed: 0=%{customdata[0]}<br>Kingdom=%{customdata[2]}<br>Family=%{customdata[3]}<br>Color_eukaryota=%{customdata[4]}<extra></extra>\",\"hovertext\":[\"LPBCA\"],\"legendgroup\":\"LPBCA\",\"marker\":{\"color\":\"#34b8e7\",\"symbol\":\"circle\"},\"mode\":\"markers\",\"name\":\"LPBCA\",\"orientation\":\"v\",\"showlegend\":true,\"x\":[-0.3205188],\"xaxis\":\"x\",\"y\":[0.08705902],\"yaxis\":\"y\",\"type\":\"scatter\"},{\"customdata\":[[6,\"LAFCA\",\"LAFCA\",\"LAFCA\",\"OTHERS\"]],\"hovertemplate\":\"<b>%{hovertext}</b><br><br>Species=%{customdata[1]}<br>pm1=%{x}<br>pm2=%{y}<br>Unnamed: 0=%{customdata[0]}<br>Kingdom=%{customdata[2]}<br>Family=%{customdata[3]}<br>Color_eukaryota=%{customdata[4]}<extra></extra>\",\"hovertext\":[\"LAFCA\"],\"legendgroup\":\"LAFCA\",\"marker\":{\"color\":\"#21e548\",\"symbol\":\"circle\"},\"mode\":\"markers\",\"name\":\"LAFCA\",\"orientation\":\"v\",\"showlegend\":true,\"x\":[0.59382445],\"xaxis\":\"x\",\"y\":[-0.3754728],\"yaxis\":\"y\",\"type\":\"scatter\"},{\"customdata\":[[7,\"Ovis\",\"Eukaryota\",\"Metazoa\",\"EUKARYOTA\"]],\"hovertemplate\":\"<b>%{hovertext}</b><br><br>Species=%{customdata[1]}<br>pm1=%{x}<br>pm2=%{y}<br>Unnamed: 0=%{customdata[0]}<br>Kingdom=%{customdata[2]}<br>Family=%{customdata[3]}<br>Color_eukaryota=%{customdata[4]}<extra></extra>\",\"hovertext\":[\"Ovis\"],\"legendgroup\":\"Ovis\",\"marker\":{\"color\":\"#21e548\",\"symbol\":\"circle\"},\"mode\":\"markers\",\"name\":\"Ovis\",\"orientation\":\"v\",\"showlegend\":true,\"x\":[0.7472262],\"xaxis\":\"x\",\"y\":[-0.32871175],\"yaxis\":\"y\",\"type\":\"scatter\"},{\"customdata\":[[8,\"Bos\",\"Eukaryota\",\"Metazoa\",\"EUKARYOTA\"]],\"hovertemplate\":\"<b>%{hovertext}</b><br><br>Species=%{customdata[1]}<br>pm1=%{x}<br>pm2=%{y}<br>Unnamed: 0=%{customdata[0]}<br>Kingdom=%{customdata[2]}<br>Family=%{customdata[3]}<br>Color_eukaryota=%{customdata[4]}<extra></extra>\",\"hovertext\":[\"Bos\"],\"legendgroup\":\"Bos\",\"marker\":{\"color\":\"#21e548\",\"symbol\":\"circle\"},\"mode\":\"markers\",\"name\":\"Bos\",\"orientation\":\"v\",\"showlegend\":true,\"x\":[0.75539976],\"xaxis\":\"x\",\"y\":[-0.3045413],\"yaxis\":\"y\",\"type\":\"scatter\"},{\"customdata\":[[9,\"Sus\",\"Eukaryota\",\"Metazoa\",\"EUKARYOTA\"]],\"hovertemplate\":\"<b>%{hovertext}</b><br><br>Species=%{customdata[1]}<br>pm1=%{x}<br>pm2=%{y}<br>Unnamed: 0=%{customdata[0]}<br>Kingdom=%{customdata[2]}<br>Family=%{customdata[3]}<br>Color_eukaryota=%{customdata[4]}<extra></extra>\",\"hovertext\":[\"Sus\"],\"legendgroup\":\"Sus\",\"marker\":{\"color\":\"#21e548\",\"symbol\":\"circle\"},\"mode\":\"markers\",\"name\":\"Sus\",\"orientation\":\"v\",\"showlegend\":true,\"x\":[0.76555645],\"xaxis\":\"x\",\"y\":[-0.30573398],\"yaxis\":\"y\",\"type\":\"scatter\"},{\"customdata\":[[10,\"Equus\",\"Eukaryota\",\"Metazoa\",\"EUKARYOTA\"],[187,\"Equus\",\"Eukaryota\",\"Metazoa\",\"EUKARYOTA\"]],\"hovertemplate\":\"<b>%{hovertext}</b><br><br>Species=%{customdata[1]}<br>pm1=%{x}<br>pm2=%{y}<br>Unnamed: 0=%{customdata[0]}<br>Kingdom=%{customdata[2]}<br>Family=%{customdata[3]}<br>Color_eukaryota=%{customdata[4]}<extra></extra>\",\"hovertext\":[\"Equus\",\"Equus\"],\"legendgroup\":\"Equus\",\"marker\":{\"color\":\"#21e548\",\"symbol\":\"circle\"},\"mode\":\"markers\",\"name\":\"Equus\",\"orientation\":\"v\",\"showlegend\":true,\"x\":[0.7248321,-0.236148],\"xaxis\":\"x\",\"y\":[-0.33316937,0.879781],\"yaxis\":\"y\",\"type\":\"scatter\"},{\"customdata\":[[11,\"Mus\",\"Eukaryota\",\"Metazoa\",\"EUKARYOTA\"]],\"hovertemplate\":\"<b>%{hovertext}</b><br><br>Species=%{customdata[1]}<br>pm1=%{x}<br>pm2=%{y}<br>Unnamed: 0=%{customdata[0]}<br>Kingdom=%{customdata[2]}<br>Family=%{customdata[3]}<br>Color_eukaryota=%{customdata[4]}<extra></extra>\",\"hovertext\":[\"Mus\"],\"legendgroup\":\"Mus\",\"marker\":{\"color\":\"#21e548\",\"symbol\":\"circle\"},\"mode\":\"markers\",\"name\":\"Mus\",\"orientation\":\"v\",\"showlegend\":true,\"x\":[0.7275007],\"xaxis\":\"x\",\"y\":[-0.26256394],\"yaxis\":\"y\",\"type\":\"scatter\"},{\"customdata\":[[12,\"Rattus\",\"Eukaryota\",\"Metazoa\",\"EUKARYOTA\"]],\"hovertemplate\":\"<b>%{hovertext}</b><br><br>Species=%{customdata[1]}<br>pm1=%{x}<br>pm2=%{y}<br>Unnamed: 0=%{customdata[0]}<br>Kingdom=%{customdata[2]}<br>Family=%{customdata[3]}<br>Color_eukaryota=%{customdata[4]}<extra></extra>\",\"hovertext\":[\"Rattus\"],\"legendgroup\":\"Rattus\",\"marker\":{\"color\":\"#21e548\",\"symbol\":\"circle\"},\"mode\":\"markers\",\"name\":\"Rattus\",\"orientation\":\"v\",\"showlegend\":true,\"x\":[0.73874],\"xaxis\":\"x\",\"y\":[-0.25559983],\"yaxis\":\"y\",\"type\":\"scatter\"},{\"customdata\":[[13,\"Rabit\",\"Eukaryota\",\"Metazoa\",\"EUKARYOTA\"]],\"hovertemplate\":\"<b>%{hovertext}</b><br><br>Species=%{customdata[1]}<br>pm1=%{x}<br>pm2=%{y}<br>Unnamed: 0=%{customdata[0]}<br>Kingdom=%{customdata[2]}<br>Family=%{customdata[3]}<br>Color_eukaryota=%{customdata[4]}<extra></extra>\",\"hovertext\":[\"Rabit\"],\"legendgroup\":\"Rabit\",\"marker\":{\"color\":\"#21e548\",\"symbol\":\"circle\"},\"mode\":\"markers\",\"name\":\"Rabit\",\"orientation\":\"v\",\"showlegend\":true,\"x\":[0.7794196],\"xaxis\":\"x\",\"y\":[-0.28282288],\"yaxis\":\"y\",\"type\":\"scatter\"},{\"customdata\":[[14,\"Human\",\"Eukaryota\",\"Metazoa\",\"EUKARYOTA\"]],\"hovertemplate\":\"<b>%{hovertext}</b><br><br>Species=%{customdata[1]}<br>pm1=%{x}<br>pm2=%{y}<br>Unnamed: 0=%{customdata[0]}<br>Kingdom=%{customdata[2]}<br>Family=%{customdata[3]}<br>Color_eukaryota=%{customdata[4]}<extra></extra>\",\"hovertext\":[\"Human\"],\"legendgroup\":\"Human\",\"marker\":{\"color\":\"#21e548\",\"symbol\":\"circle\"},\"mode\":\"markers\",\"name\":\"Human\",\"orientation\":\"v\",\"showlegend\":true,\"x\":[0.7597423],\"xaxis\":\"x\",\"y\":[-0.27703184],\"yaxis\":\"y\",\"type\":\"scatter\"},{\"customdata\":[[15,\"Ponab\",\"Eukaryota\",\"Metazoa\",\"EUKARYOTA\"]],\"hovertemplate\":\"<b>%{hovertext}</b><br><br>Species=%{customdata[1]}<br>pm1=%{x}<br>pm2=%{y}<br>Unnamed: 0=%{customdata[0]}<br>Kingdom=%{customdata[2]}<br>Family=%{customdata[3]}<br>Color_eukaryota=%{customdata[4]}<extra></extra>\",\"hovertext\":[\"Ponab\"],\"legendgroup\":\"Ponab\",\"marker\":{\"color\":\"#21e548\",\"symbol\":\"circle\"},\"mode\":\"markers\",\"name\":\"Ponab\",\"orientation\":\"v\",\"showlegend\":true,\"x\":[0.73821366],\"xaxis\":\"x\",\"y\":[-0.29074675],\"yaxis\":\"y\",\"type\":\"scatter\"},{\"customdata\":[[16,\"Macmu\",\"Eukaryota\",\"Metazoa\",\"EUKARYOTA\"]],\"hovertemplate\":\"<b>%{hovertext}</b><br><br>Species=%{customdata[1]}<br>pm1=%{x}<br>pm2=%{y}<br>Unnamed: 0=%{customdata[0]}<br>Kingdom=%{customdata[2]}<br>Family=%{customdata[3]}<br>Color_eukaryota=%{customdata[4]}<extra></extra>\",\"hovertext\":[\"Macmu\"],\"legendgroup\":\"Macmu\",\"marker\":{\"color\":\"#21e548\",\"symbol\":\"circle\"},\"mode\":\"markers\",\"name\":\"Macmu\",\"orientation\":\"v\",\"showlegend\":true,\"x\":[0.7346224],\"xaxis\":\"x\",\"y\":[-0.31023738],\"yaxis\":\"y\",\"type\":\"scatter\"},{\"customdata\":[[17,\"Callithrix\",\"Eukaryota\",\"Metazoa\",\"EUKARYOTA\"]],\"hovertemplate\":\"<b>%{hovertext}</b><br><br>Species=%{customdata[1]}<br>pm1=%{x}<br>pm2=%{y}<br>Unnamed: 0=%{customdata[0]}<br>Kingdom=%{customdata[2]}<br>Family=%{customdata[3]}<br>Color_eukaryota=%{customdata[4]}<extra></extra>\",\"hovertext\":[\"Callithrix\"],\"legendgroup\":\"Callithrix\",\"marker\":{\"color\":\"#21e548\",\"symbol\":\"circle\"},\"mode\":\"markers\",\"name\":\"Callithrix\",\"orientation\":\"v\",\"showlegend\":true,\"x\":[0.7250676],\"xaxis\":\"x\",\"y\":[-0.28271288],\"yaxis\":\"y\",\"type\":\"scatter\"},{\"customdata\":[[18,\"Monodelphis\",\"Eukaryota\",\"Metazoa\",\"EUKARYOTA\"]],\"hovertemplate\":\"<b>%{hovertext}</b><br><br>Species=%{customdata[1]}<br>pm1=%{x}<br>pm2=%{y}<br>Unnamed: 0=%{customdata[0]}<br>Kingdom=%{customdata[2]}<br>Family=%{customdata[3]}<br>Color_eukaryota=%{customdata[4]}<extra></extra>\",\"hovertext\":[\"Monodelphis\"],\"legendgroup\":\"Monodelphis\",\"marker\":{\"color\":\"#21e548\",\"symbol\":\"circle\"},\"mode\":\"markers\",\"name\":\"Monodelphis\",\"orientation\":\"v\",\"showlegend\":true,\"x\":[-0.21716145],\"xaxis\":\"x\",\"y\":[0.8529749],\"yaxis\":\"y\",\"type\":\"scatter\"},{\"customdata\":[[19,\"Ornithorhynchus\",\"Eukaryota\",\"Metazoa\",\"EUKARYOTA\"]],\"hovertemplate\":\"<b>%{hovertext}</b><br><br>Species=%{customdata[1]}<br>pm1=%{x}<br>pm2=%{y}<br>Unnamed: 0=%{customdata[0]}<br>Kingdom=%{customdata[2]}<br>Family=%{customdata[3]}<br>Color_eukaryota=%{customdata[4]}<extra></extra>\",\"hovertext\":[\"Ornithorhynchus\"],\"legendgroup\":\"Ornithorhynchus\",\"marker\":{\"color\":\"#21e548\",\"symbol\":\"circle\"},\"mode\":\"markers\",\"name\":\"Ornithorhynchus\",\"orientation\":\"v\",\"showlegend\":true,\"x\":[0.71679676],\"xaxis\":\"x\",\"y\":[-0.35570243],\"yaxis\":\"y\",\"type\":\"scatter\"},{\"customdata\":[[20,\"Gallus\",\"Eukaryota\",\"Metazoa\",\"EUKARYOTA\"]],\"hovertemplate\":\"<b>%{hovertext}</b><br><br>Species=%{customdata[1]}<br>pm1=%{x}<br>pm2=%{y}<br>Unnamed: 0=%{customdata[0]}<br>Kingdom=%{customdata[2]}<br>Family=%{customdata[3]}<br>Color_eukaryota=%{customdata[4]}<extra></extra>\",\"hovertext\":[\"Gallus\"],\"legendgroup\":\"Gallus\",\"marker\":{\"color\":\"#21e548\",\"symbol\":\"circle\"},\"mode\":\"markers\",\"name\":\"Gallus\",\"orientation\":\"v\",\"showlegend\":true,\"x\":[0.77577734],\"xaxis\":\"x\",\"y\":[-0.3663736],\"yaxis\":\"y\",\"type\":\"scatter\"},{\"customdata\":[[21,\"Melopsittacus\",\"Eukaryota\",\"Metazoa\",\"EUKARYOTA\"]],\"hovertemplate\":\"<b>%{hovertext}</b><br><br>Species=%{customdata[1]}<br>pm1=%{x}<br>pm2=%{y}<br>Unnamed: 0=%{customdata[0]}<br>Kingdom=%{customdata[2]}<br>Family=%{customdata[3]}<br>Color_eukaryota=%{customdata[4]}<extra></extra>\",\"hovertext\":[\"Melopsittacus\"],\"legendgroup\":\"Melopsittacus\",\"marker\":{\"color\":\"#21e548\",\"symbol\":\"circle\"},\"mode\":\"markers\",\"name\":\"Melopsittacus\",\"orientation\":\"v\",\"showlegend\":true,\"x\":[0.7629458],\"xaxis\":\"x\",\"y\":[-0.3727987],\"yaxis\":\"y\",\"type\":\"scatter\"},{\"customdata\":[[22,\"Ophiophagus\",\"Eukaryota\",\"Metazoa\",\"EUKARYOTA\"]],\"hovertemplate\":\"<b>%{hovertext}</b><br><br>Species=%{customdata[1]}<br>pm1=%{x}<br>pm2=%{y}<br>Unnamed: 0=%{customdata[0]}<br>Kingdom=%{customdata[2]}<br>Family=%{customdata[3]}<br>Color_eukaryota=%{customdata[4]}<extra></extra>\",\"hovertext\":[\"Ophiophagus\"],\"legendgroup\":\"Ophiophagus\",\"marker\":{\"color\":\"#21e548\",\"symbol\":\"circle\"},\"mode\":\"markers\",\"name\":\"Ophiophagus\",\"orientation\":\"v\",\"showlegend\":true,\"x\":[0.7563788],\"xaxis\":\"x\",\"y\":[-0.36130106],\"yaxis\":\"y\",\"type\":\"scatter\"},{\"customdata\":[[23,\"Xenopus\",\"Eukaryota\",\"Metazoa\",\"EUKARYOTA\"]],\"hovertemplate\":\"<b>%{hovertext}</b><br><br>Species=%{customdata[1]}<br>pm1=%{x}<br>pm2=%{y}<br>Unnamed: 0=%{customdata[0]}<br>Kingdom=%{customdata[2]}<br>Family=%{customdata[3]}<br>Color_eukaryota=%{customdata[4]}<extra></extra>\",\"hovertext\":[\"Xenopus\"],\"legendgroup\":\"Xenopus\",\"marker\":{\"color\":\"#21e548\",\"symbol\":\"circle\"},\"mode\":\"markers\",\"name\":\"Xenopus\",\"orientation\":\"v\",\"showlegend\":true,\"x\":[0.7349526],\"xaxis\":\"x\",\"y\":[-0.41077542],\"yaxis\":\"y\",\"type\":\"scatter\"},{\"customdata\":[[24,\"Tetraodon\",\"Eukaryota\",\"Metazoa\",\"EUKARYOTA\"]],\"hovertemplate\":\"<b>%{hovertext}</b><br><br>Species=%{customdata[1]}<br>pm1=%{x}<br>pm2=%{y}<br>Unnamed: 0=%{customdata[0]}<br>Kingdom=%{customdata[2]}<br>Family=%{customdata[3]}<br>Color_eukaryota=%{customdata[4]}<extra></extra>\",\"hovertext\":[\"Tetraodon\"],\"legendgroup\":\"Tetraodon\",\"marker\":{\"color\":\"#21e548\",\"symbol\":\"circle\"},\"mode\":\"markers\",\"name\":\"Tetraodon\",\"orientation\":\"v\",\"showlegend\":true,\"x\":[0.69961035],\"xaxis\":\"x\",\"y\":[-0.43180823],\"yaxis\":\"y\",\"type\":\"scatter\"},{\"customdata\":[[25,\"Ictalurus\",\"Eukaryota\",\"Metazoa\",\"EUKARYOTA\"]],\"hovertemplate\":\"<b>%{hovertext}</b><br><br>Species=%{customdata[1]}<br>pm1=%{x}<br>pm2=%{y}<br>Unnamed: 0=%{customdata[0]}<br>Kingdom=%{customdata[2]}<br>Family=%{customdata[3]}<br>Color_eukaryota=%{customdata[4]}<extra></extra>\",\"hovertext\":[\"Ictalurus\"],\"legendgroup\":\"Ictalurus\",\"marker\":{\"color\":\"#21e548\",\"symbol\":\"circle\"},\"mode\":\"markers\",\"name\":\"Ictalurus\",\"orientation\":\"v\",\"showlegend\":true,\"x\":[0.72075635],\"xaxis\":\"x\",\"y\":[-0.4281687],\"yaxis\":\"y\",\"type\":\"scatter\"},{\"customdata\":[[26,\"Danio\",\"Eukaryota\",\"Metazoa\",\"EUKARYOTA\"]],\"hovertemplate\":\"<b>%{hovertext}</b><br><br>Species=%{customdata[1]}<br>pm1=%{x}<br>pm2=%{y}<br>Unnamed: 0=%{customdata[0]}<br>Kingdom=%{customdata[2]}<br>Family=%{customdata[3]}<br>Color_eukaryota=%{customdata[4]}<extra></extra>\",\"hovertext\":[\"Danio\"],\"legendgroup\":\"Danio\",\"marker\":{\"color\":\"#21e548\",\"symbol\":\"circle\"},\"mode\":\"markers\",\"name\":\"Danio\",\"orientation\":\"v\",\"showlegend\":true,\"x\":[0.68939376],\"xaxis\":\"x\",\"y\":[-0.4007403],\"yaxis\":\"y\",\"type\":\"scatter\"},{\"customdata\":[[27,\"Drosophila\",\"Eukaryota\",\"Metazoa\",\"EUKARYOTA\"],[28,\"Drosophila\",\"Eukaryota\",\"Metazoa\",\"EUKARYOTA\"],[29,\"Drosophila\",\"Eukaryota\",\"Metazoa\",\"EUKARYOTA\"]],\"hovertemplate\":\"<b>%{hovertext}</b><br><br>Species=%{customdata[1]}<br>pm1=%{x}<br>pm2=%{y}<br>Unnamed: 0=%{customdata[0]}<br>Kingdom=%{customdata[2]}<br>Family=%{customdata[3]}<br>Color_eukaryota=%{customdata[4]}<extra></extra>\",\"hovertext\":[\"Drosophila\",\"Drosophila\",\"Drosophila\"],\"legendgroup\":\"Drosophila\",\"marker\":{\"color\":\"#21e548\",\"symbol\":\"circle\"},\"mode\":\"markers\",\"name\":\"Drosophila\",\"orientation\":\"v\",\"showlegend\":true,\"x\":[0.65207154,0.6596283,0.6675054],\"xaxis\":\"x\",\"y\":[-0.69403994,-0.6995601,-0.6953191],\"yaxis\":\"y\",\"type\":\"scatter\"},{\"customdata\":[[30,\"Apis\",\"Eukaryota\",\"Metazoa\",\"EUKARYOTA\"]],\"hovertemplate\":\"<b>%{hovertext}</b><br><br>Species=%{customdata[1]}<br>pm1=%{x}<br>pm2=%{y}<br>Unnamed: 0=%{customdata[0]}<br>Kingdom=%{customdata[2]}<br>Family=%{customdata[3]}<br>Color_eukaryota=%{customdata[4]}<extra></extra>\",\"hovertext\":[\"Apis\"],\"legendgroup\":\"Apis\",\"marker\":{\"color\":\"#21e548\",\"symbol\":\"circle\"},\"mode\":\"markers\",\"name\":\"Apis\",\"orientation\":\"v\",\"showlegend\":true,\"x\":[0.6618043],\"xaxis\":\"x\",\"y\":[-0.68355185],\"yaxis\":\"y\",\"type\":\"scatter\"},{\"customdata\":[[31,\"Tribolium\",\"Eukaryota\",\"Metazoa\",\"EUKARYOTA\"]],\"hovertemplate\":\"<b>%{hovertext}</b><br><br>Species=%{customdata[1]}<br>pm1=%{x}<br>pm2=%{y}<br>Unnamed: 0=%{customdata[0]}<br>Kingdom=%{customdata[2]}<br>Family=%{customdata[3]}<br>Color_eukaryota=%{customdata[4]}<extra></extra>\",\"hovertext\":[\"Tribolium\"],\"legendgroup\":\"Tribolium\",\"marker\":{\"color\":\"#21e548\",\"symbol\":\"circle\"},\"mode\":\"markers\",\"name\":\"Tribolium\",\"orientation\":\"v\",\"showlegend\":true,\"x\":[0.6568943],\"xaxis\":\"x\",\"y\":[-0.68796766],\"yaxis\":\"y\",\"type\":\"scatter\"},{\"customdata\":[[32,\"Bombyx\",\"Eukaryota\",\"Metazoa\",\"EUKARYOTA\"]],\"hovertemplate\":\"<b>%{hovertext}</b><br><br>Species=%{customdata[1]}<br>pm1=%{x}<br>pm2=%{y}<br>Unnamed: 0=%{customdata[0]}<br>Kingdom=%{customdata[2]}<br>Family=%{customdata[3]}<br>Color_eukaryota=%{customdata[4]}<extra></extra>\",\"hovertext\":[\"Bombyx\"],\"legendgroup\":\"Bombyx\",\"marker\":{\"color\":\"#21e548\",\"symbol\":\"circle\"},\"mode\":\"markers\",\"name\":\"Bombyx\",\"orientation\":\"v\",\"showlegend\":true,\"x\":[0.6652614],\"xaxis\":\"x\",\"y\":[-0.6888212],\"yaxis\":\"y\",\"type\":\"scatter\"},{\"customdata\":[[33,\"Graphocephala\",\"Eukaryota\",\"Metazoa\",\"EUKARYOTA\"]],\"hovertemplate\":\"<b>%{hovertext}</b><br><br>Species=%{customdata[1]}<br>pm1=%{x}<br>pm2=%{y}<br>Unnamed: 0=%{customdata[0]}<br>Kingdom=%{customdata[2]}<br>Family=%{customdata[3]}<br>Color_eukaryota=%{customdata[4]}<extra></extra>\",\"hovertext\":[\"Graphocephala\"],\"legendgroup\":\"Graphocephala\",\"marker\":{\"color\":\"#21e548\",\"symbol\":\"circle\"},\"mode\":\"markers\",\"name\":\"Graphocephala\",\"orientation\":\"v\",\"showlegend\":true,\"x\":[0.65626323],\"xaxis\":\"x\",\"y\":[-0.66978806],\"yaxis\":\"y\",\"type\":\"scatter\"},{\"customdata\":[[34,\"Litopenaeus\",\"Eukaryota\",\"Metazoa\",\"EUKARYOTA\"]],\"hovertemplate\":\"<b>%{hovertext}</b><br><br>Species=%{customdata[1]}<br>pm1=%{x}<br>pm2=%{y}<br>Unnamed: 0=%{customdata[0]}<br>Kingdom=%{customdata[2]}<br>Family=%{customdata[3]}<br>Color_eukaryota=%{customdata[4]}<extra></extra>\",\"hovertext\":[\"Litopenaeus\"],\"legendgroup\":\"Litopenaeus\",\"marker\":{\"color\":\"#21e548\",\"symbol\":\"circle\"},\"mode\":\"markers\",\"name\":\"Litopenaeus\",\"orientation\":\"v\",\"showlegend\":true,\"x\":[0.6725845],\"xaxis\":\"x\",\"y\":[-0.68188775],\"yaxis\":\"y\",\"type\":\"scatter\"},{\"customdata\":[[35,\"Geocy\",\"Eukaryota\",\"Metazoa\",\"EUKARYOTA\"]],\"hovertemplate\":\"<b>%{hovertext}</b><br><br>Species=%{customdata[1]}<br>pm1=%{x}<br>pm2=%{y}<br>Unnamed: 0=%{customdata[0]}<br>Kingdom=%{customdata[2]}<br>Family=%{customdata[3]}<br>Color_eukaryota=%{customdata[4]}<extra></extra>\",\"hovertext\":[\"Geocy\"],\"legendgroup\":\"Geocy\",\"marker\":{\"color\":\"#21e548\",\"symbol\":\"circle\"},\"mode\":\"markers\",\"name\":\"Geocy\",\"orientation\":\"v\",\"showlegend\":true,\"x\":[0.6673929],\"xaxis\":\"x\",\"y\":[-0.5366423],\"yaxis\":\"y\",\"type\":\"scatter\"},{\"customdata\":[[36,\"Aspergillus\",\"Eukaryota\",\"Fungi\",\"EUKARYOTA\"],[38,\"Aspergillus\",\"Eukaryota\",\"Fungi\",\"EUKARYOTA\"],[39,\"Aspergillus\",\"Eukaryota\",\"Fungi\",\"EUKARYOTA\"]],\"hovertemplate\":\"<b>%{hovertext}</b><br><br>Species=%{customdata[1]}<br>pm1=%{x}<br>pm2=%{y}<br>Unnamed: 0=%{customdata[0]}<br>Kingdom=%{customdata[2]}<br>Family=%{customdata[3]}<br>Color_eukaryota=%{customdata[4]}<extra></extra>\",\"hovertext\":[\"Aspergillus\",\"Aspergillus\",\"Aspergillus\"],\"legendgroup\":\"Aspergillus\",\"marker\":{\"color\":\"#1fb995\",\"symbol\":\"circle\"},\"mode\":\"markers\",\"name\":\"Aspergillus\",\"orientation\":\"v\",\"showlegend\":true,\"x\":[0.50188816,0.4811097,0.47526607],\"xaxis\":\"x\",\"y\":[-0.4417105,-0.5211565,-0.53208864],\"yaxis\":\"y\",\"type\":\"scatter\"},{\"customdata\":[[37,\"Neosartorya\",\"Eukaryota\",\"Fungi\",\"EUKARYOTA\"]],\"hovertemplate\":\"<b>%{hovertext}</b><br><br>Species=%{customdata[1]}<br>pm1=%{x}<br>pm2=%{y}<br>Unnamed: 0=%{customdata[0]}<br>Kingdom=%{customdata[2]}<br>Family=%{customdata[3]}<br>Color_eukaryota=%{customdata[4]}<extra></extra>\",\"hovertext\":[\"Neosartorya\"],\"legendgroup\":\"Neosartorya\",\"marker\":{\"color\":\"#1fb995\",\"symbol\":\"circle\"},\"mode\":\"markers\",\"name\":\"Neosartorya\",\"orientation\":\"v\",\"showlegend\":true,\"x\":[0.51567656],\"xaxis\":\"x\",\"y\":[-0.5046882],\"yaxis\":\"y\",\"type\":\"scatter\"},{\"customdata\":[[40,\"Pichia\",\"Eukaryota\",\"Fungi\",\"EUKARYOTA\"],[42,\"Pichia\",\"Eukaryota\",\"Fungi\",\"EUKARYOTA\"]],\"hovertemplate\":\"<b>%{hovertext}</b><br><br>Species=%{customdata[1]}<br>pm1=%{x}<br>pm2=%{y}<br>Unnamed: 0=%{customdata[0]}<br>Kingdom=%{customdata[2]}<br>Family=%{customdata[3]}<br>Color_eukaryota=%{customdata[4]}<extra></extra>\",\"hovertext\":[\"Pichia\",\"Pichia\"],\"legendgroup\":\"Pichia\",\"marker\":{\"color\":\"#1fb995\",\"symbol\":\"circle\"},\"mode\":\"markers\",\"name\":\"Pichia\",\"orientation\":\"v\",\"showlegend\":true,\"x\":[0.55678445,0.43503866],\"xaxis\":\"x\",\"y\":[-0.1861869,-0.49344757],\"yaxis\":\"y\",\"type\":\"scatter\"},{\"customdata\":[[41,\"Candida\",\"Eukaryota\",\"Fungi\",\"EUKARYOTA\"],[45,\"Candida\",\"Eukaryota\",\"Fungi\",\"EUKARYOTA\"]],\"hovertemplate\":\"<b>%{hovertext}</b><br><br>Species=%{customdata[1]}<br>pm1=%{x}<br>pm2=%{y}<br>Unnamed: 0=%{customdata[0]}<br>Kingdom=%{customdata[2]}<br>Family=%{customdata[3]}<br>Color_eukaryota=%{customdata[4]}<extra></extra>\",\"hovertext\":[\"Candida\",\"Candida\"],\"legendgroup\":\"Candida\",\"marker\":{\"color\":\"#1fb995\",\"symbol\":\"circle\"},\"mode\":\"markers\",\"name\":\"Candida\",\"orientation\":\"v\",\"showlegend\":true,\"x\":[0.3576606,0.36210752],\"xaxis\":\"x\",\"y\":[-0.5487053,-0.50548387],\"yaxis\":\"y\",\"type\":\"scatter\"},{\"customdata\":[[43,\"Kluyveromyces\",\"Eukaryota\",\"Fungi\",\"EUKARYOTA\"]],\"hovertemplate\":\"<b>%{hovertext}</b><br><br>Species=%{customdata[1]}<br>pm1=%{x}<br>pm2=%{y}<br>Unnamed: 0=%{customdata[0]}<br>Kingdom=%{customdata[2]}<br>Family=%{customdata[3]}<br>Color_eukaryota=%{customdata[4]}<extra></extra>\",\"hovertext\":[\"Kluyveromyces\"],\"legendgroup\":\"Kluyveromyces\",\"marker\":{\"color\":\"#1fb995\",\"symbol\":\"circle\"},\"mode\":\"markers\",\"name\":\"Kluyveromyces\",\"orientation\":\"v\",\"showlegend\":true,\"x\":[0.37538314],\"xaxis\":\"x\",\"y\":[-0.515431],\"yaxis\":\"y\",\"type\":\"scatter\"},{\"customdata\":[[44,\"Saccharomyces\",\"Eukaryota\",\"Fungi\",\"EUKARYOTA\"],[46,\"Saccharomyces\",\"Eukaryota\",\"Fungi\",\"EUKARYOTA\"]],\"hovertemplate\":\"<b>%{hovertext}</b><br><br>Species=%{customdata[1]}<br>pm1=%{x}<br>pm2=%{y}<br>Unnamed: 0=%{customdata[0]}<br>Kingdom=%{customdata[2]}<br>Family=%{customdata[3]}<br>Color_eukaryota=%{customdata[4]}<extra></extra>\",\"hovertext\":[\"Saccharomyces\",\"Saccharomyces\"],\"legendgroup\":\"Saccharomyces\",\"marker\":{\"color\":\"#1fb995\",\"symbol\":\"circle\"},\"mode\":\"markers\",\"name\":\"Saccharomyces\",\"orientation\":\"v\",\"showlegend\":true,\"x\":[0.37718612,0.39025632],\"xaxis\":\"x\",\"y\":[-0.56389743,-0.5358281],\"yaxis\":\"y\",\"type\":\"scatter\"},{\"customdata\":[[47,\"Schizosaccharomyces\",\"Eukaryota\",\"Fungi\",\"EUKARYOTA\"]],\"hovertemplate\":\"<b>%{hovertext}</b><br><br>Species=%{customdata[1]}<br>pm1=%{x}<br>pm2=%{y}<br>Unnamed: 0=%{customdata[0]}<br>Kingdom=%{customdata[2]}<br>Family=%{customdata[3]}<br>Color_eukaryota=%{customdata[4]}<extra></extra>\",\"hovertext\":[\"Schizosaccharomyces\"],\"legendgroup\":\"Schizosaccharomyces\",\"marker\":{\"color\":\"#1fb995\",\"symbol\":\"circle\"},\"mode\":\"markers\",\"name\":\"Schizosaccharomyces\",\"orientation\":\"v\",\"showlegend\":true,\"x\":[0.48818675],\"xaxis\":\"x\",\"y\":[-0.48549673],\"yaxis\":\"y\",\"type\":\"scatter\"},{\"customdata\":[[48,\"Monosiga\",\"Eukaryota\",\"Choanoflagellata\",\"EUKARYOTA\"]],\"hovertemplate\":\"<b>%{hovertext}</b><br><br>Species=%{customdata[1]}<br>pm1=%{x}<br>pm2=%{y}<br>Unnamed: 0=%{customdata[0]}<br>Kingdom=%{customdata[2]}<br>Family=%{customdata[3]}<br>Color_eukaryota=%{customdata[4]}<extra></extra>\",\"hovertext\":[\"Monosiga\"],\"legendgroup\":\"Monosiga\",\"marker\":{\"color\":\"#21e548\",\"symbol\":\"circle\"},\"mode\":\"markers\",\"name\":\"Monosiga\",\"orientation\":\"v\",\"showlegend\":true,\"x\":[0.56558096],\"xaxis\":\"x\",\"y\":[-0.29369023],\"yaxis\":\"y\",\"type\":\"scatter\"},{\"customdata\":[[49,\"Entamoeba\",\"Eukaryota\",\"Amoebozoa\",\"EUKARYOTA\"]],\"hovertemplate\":\"<b>%{hovertext}</b><br><br>Species=%{customdata[1]}<br>pm1=%{x}<br>pm2=%{y}<br>Unnamed: 0=%{customdata[0]}<br>Kingdom=%{customdata[2]}<br>Family=%{customdata[3]}<br>Color_eukaryota=%{customdata[4]}<extra></extra>\",\"hovertext\":[\"Entamoeba\"],\"legendgroup\":\"Entamoeba\",\"marker\":{\"color\":\"#21e548\",\"symbol\":\"circle\"},\"mode\":\"markers\",\"name\":\"Entamoeba\",\"orientation\":\"v\",\"showlegend\":true,\"x\":[0.7287921],\"xaxis\":\"x\",\"y\":[-0.4495884],\"yaxis\":\"y\",\"type\":\"scatter\"},{\"customdata\":[[50,\"Dictyostelium\",\"Eukaryota\",\"Amoebozoa\",\"EUKARYOTA\"]],\"hovertemplate\":\"<b>%{hovertext}</b><br><br>Species=%{customdata[1]}<br>pm1=%{x}<br>pm2=%{y}<br>Unnamed: 0=%{customdata[0]}<br>Kingdom=%{customdata[2]}<br>Family=%{customdata[3]}<br>Color_eukaryota=%{customdata[4]}<extra></extra>\",\"hovertext\":[\"Dictyostelium\"],\"legendgroup\":\"Dictyostelium\",\"marker\":{\"color\":\"#21e548\",\"symbol\":\"circle\"},\"mode\":\"markers\",\"name\":\"Dictyostelium\",\"orientation\":\"v\",\"showlegend\":true,\"x\":[0.65927297],\"xaxis\":\"x\",\"y\":[-0.4264152],\"yaxis\":\"y\",\"type\":\"scatter\"},{\"customdata\":[[51,\"Arabidopsis\",\"Eukaryota\",\"Viridiplantae\",\"EUKARYOTA\"],[52,\"Arabidopsis\",\"Eukaryota\",\"Viridiplantae\",\"EUKARYOTA\"]],\"hovertemplate\":\"<b>%{hovertext}</b><br><br>Species=%{customdata[1]}<br>pm1=%{x}<br>pm2=%{y}<br>Unnamed: 0=%{customdata[0]}<br>Kingdom=%{customdata[2]}<br>Family=%{customdata[3]}<br>Color_eukaryota=%{customdata[4]}<extra></extra>\",\"hovertext\":[\"Arabidopsis\",\"Arabidopsis\"],\"legendgroup\":\"Arabidopsis\",\"marker\":{\"color\":\"#06f9d4\",\"symbol\":\"circle\"},\"mode\":\"markers\",\"name\":\"Arabidopsis\",\"orientation\":\"v\",\"showlegend\":true,\"x\":[-0.86917776,-0.8793633],\"xaxis\":\"x\",\"y\":[0.12664348,0.14512247],\"yaxis\":\"y\",\"type\":\"scatter\"},{\"customdata\":[[53,\"Limonium\",\"Eukaryota\",\"Viridiplantae\",\"EUKARYOTA\"]],\"hovertemplate\":\"<b>%{hovertext}</b><br><br>Species=%{customdata[1]}<br>pm1=%{x}<br>pm2=%{y}<br>Unnamed: 0=%{customdata[0]}<br>Kingdom=%{customdata[2]}<br>Family=%{customdata[3]}<br>Color_eukaryota=%{customdata[4]}<extra></extra>\",\"hovertext\":[\"Limonium\"],\"legendgroup\":\"Limonium\",\"marker\":{\"color\":\"#c7c7c7\",\"symbol\":\"circle\"},\"mode\":\"markers\",\"name\":\"Limonium\",\"orientation\":\"v\",\"showlegend\":true,\"x\":[-0.89356667],\"xaxis\":\"x\",\"y\":[0.108665094],\"yaxis\":\"y\",\"type\":\"scatter\"},{\"customdata\":[[54,\"Zea\",\"Eukaryota\",\"Viridiplantae\",\"EUKARYOTA\"]],\"hovertemplate\":\"<b>%{hovertext}</b><br><br>Species=%{customdata[1]}<br>pm1=%{x}<br>pm2=%{y}<br>Unnamed: 0=%{customdata[0]}<br>Kingdom=%{customdata[2]}<br>Family=%{customdata[3]}<br>Color_eukaryota=%{customdata[4]}<extra></extra>\",\"hovertext\":[\"Zea\"],\"legendgroup\":\"Zea\",\"marker\":{\"color\":\"#c7c7c7\",\"symbol\":\"circle\"},\"mode\":\"markers\",\"name\":\"Zea\",\"orientation\":\"v\",\"showlegend\":true,\"x\":[-0.9161608],\"xaxis\":\"x\",\"y\":[0.07582022],\"yaxis\":\"y\",\"type\":\"scatter\"},{\"customdata\":[[55,\"Vitis\",\"Eukaryota\",\"Viridiplantae\",\"EUKARYOTA\"]],\"hovertemplate\":\"<b>%{hovertext}</b><br><br>Species=%{customdata[1]}<br>pm1=%{x}<br>pm2=%{y}<br>Unnamed: 0=%{customdata[0]}<br>Kingdom=%{customdata[2]}<br>Family=%{customdata[3]}<br>Color_eukaryota=%{customdata[4]}<extra></extra>\",\"hovertext\":[\"Vitis\"],\"legendgroup\":\"Vitis\",\"marker\":{\"color\":\"#c7c7c7\",\"symbol\":\"circle\"},\"mode\":\"markers\",\"name\":\"Vitis\",\"orientation\":\"v\",\"showlegend\":true,\"x\":[-0.9134737],\"xaxis\":\"x\",\"y\":[0.09025349],\"yaxis\":\"y\",\"type\":\"scatter\"},{\"customdata\":[[56,\"Ostreococcus\",\"Eukaryota\",\"Viridiplantae\",\"EUKARYOTA\"]],\"hovertemplate\":\"<b>%{hovertext}</b><br><br>Species=%{customdata[1]}<br>pm1=%{x}<br>pm2=%{y}<br>Unnamed: 0=%{customdata[0]}<br>Kingdom=%{customdata[2]}<br>Family=%{customdata[3]}<br>Color_eukaryota=%{customdata[4]}<extra></extra>\",\"hovertext\":[\"Ostreococcus\"],\"legendgroup\":\"Ostreococcus\",\"marker\":{\"color\":\"#b5e521\",\"symbol\":\"circle\"},\"mode\":\"markers\",\"name\":\"Ostreococcus\",\"orientation\":\"v\",\"showlegend\":true,\"x\":[0.62640446],\"xaxis\":\"x\",\"y\":[-0.27033287],\"yaxis\":\"y\",\"type\":\"scatter\"},{\"customdata\":[[57,\"Helicosporidium\",\"Eukaryota\",\"Viridiplantae\",\"EUKARYOTA\"]],\"hovertemplate\":\"<b>%{hovertext}</b><br><br>Species=%{customdata[1]}<br>pm1=%{x}<br>pm2=%{y}<br>Unnamed: 0=%{customdata[0]}<br>Kingdom=%{customdata[2]}<br>Family=%{customdata[3]}<br>Color_eukaryota=%{customdata[4]}<extra></extra>\",\"hovertext\":[\"Helicosporidium\"],\"legendgroup\":\"Helicosporidium\",\"marker\":{\"color\":\"#b5e521\",\"symbol\":\"circle\"},\"mode\":\"markers\",\"name\":\"Helicosporidium\",\"orientation\":\"v\",\"showlegend\":true,\"x\":[0.6622629],\"xaxis\":\"x\",\"y\":[-0.3584449],\"yaxis\":\"y\",\"type\":\"scatter\"},{\"customdata\":[[58,\"Fagopyrum\",\"Eukaryota\",\"Viridiplantae\",\"EUKARYOTA\"]],\"hovertemplate\":\"<b>%{hovertext}</b><br><br>Species=%{customdata[1]}<br>pm1=%{x}<br>pm2=%{y}<br>Unnamed: 0=%{customdata[0]}<br>Kingdom=%{customdata[2]}<br>Family=%{customdata[3]}<br>Color_eukaryota=%{customdata[4]}<extra></extra>\",\"hovertext\":[\"Fagopyrum\"],\"legendgroup\":\"Fagopyrum\",\"marker\":{\"color\":\"#b5e521\",\"symbol\":\"circle\"},\"mode\":\"markers\",\"name\":\"Fagopyrum\",\"orientation\":\"v\",\"showlegend\":true,\"x\":[0.51490015],\"xaxis\":\"x\",\"y\":[-0.38319805],\"yaxis\":\"y\",\"type\":\"scatter\"},{\"customdata\":[[59,\"Cryptosporidium\",\"Eukaryota\",\"Alveolata\",\"EUKARYOTA\"]],\"hovertemplate\":\"<b>%{hovertext}</b><br><br>Species=%{customdata[1]}<br>pm1=%{x}<br>pm2=%{y}<br>Unnamed: 0=%{customdata[0]}<br>Kingdom=%{customdata[2]}<br>Family=%{customdata[3]}<br>Color_eukaryota=%{customdata[4]}<extra></extra>\",\"hovertext\":[\"Cryptosporidium\"],\"legendgroup\":\"Cryptosporidium\",\"marker\":{\"color\":\"#21e548\",\"symbol\":\"circle\"},\"mode\":\"markers\",\"name\":\"Cryptosporidium\",\"orientation\":\"v\",\"showlegend\":true,\"x\":[0.39783338],\"xaxis\":\"x\",\"y\":[-0.48910126],\"yaxis\":\"y\",\"type\":\"scatter\"},{\"customdata\":[[60,\"Theileria\",\"Eukaryota\",\"Sar\",\"EUKARYOTA\"]],\"hovertemplate\":\"<b>%{hovertext}</b><br><br>Species=%{customdata[1]}<br>pm1=%{x}<br>pm2=%{y}<br>Unnamed: 0=%{customdata[0]}<br>Kingdom=%{customdata[2]}<br>Family=%{customdata[3]}<br>Color_eukaryota=%{customdata[4]}<extra></extra>\",\"hovertext\":[\"Theileria\"],\"legendgroup\":\"Theileria\",\"marker\":{\"color\":\"#21e548\",\"symbol\":\"circle\"},\"mode\":\"markers\",\"name\":\"Theileria\",\"orientation\":\"v\",\"showlegend\":true,\"x\":[0.61670417],\"xaxis\":\"x\",\"y\":[-0.31935105],\"yaxis\":\"y\",\"type\":\"scatter\"},{\"customdata\":[[61,\"Plasmodium\",\"Eukaryota\",\"Alveolata\",\"EUKARYOTA\"]],\"hovertemplate\":\"<b>%{hovertext}</b><br><br>Species=%{customdata[1]}<br>pm1=%{x}<br>pm2=%{y}<br>Unnamed: 0=%{customdata[0]}<br>Kingdom=%{customdata[2]}<br>Family=%{customdata[3]}<br>Color_eukaryota=%{customdata[4]}<extra></extra>\",\"hovertext\":[\"Plasmodium\"],\"legendgroup\":\"Plasmodium\",\"marker\":{\"color\":\"#21e548\",\"symbol\":\"circle\"},\"mode\":\"markers\",\"name\":\"Plasmodium\",\"orientation\":\"v\",\"showlegend\":true,\"x\":[0.5709501],\"xaxis\":\"x\",\"y\":[-0.44280612],\"yaxis\":\"y\",\"type\":\"scatter\"},{\"customdata\":[[62,\"Archaeoglobus\",\"Archaea\",\"Euryarchaeota\",\"OTHERS\"],[76,\"Archaeoglobus\",\"Archaea\",\"Euryarchaeota\",\"OTHERS\"]],\"hovertemplate\":\"<b>%{hovertext}</b><br><br>Species=%{customdata[1]}<br>pm1=%{x}<br>pm2=%{y}<br>Unnamed: 0=%{customdata[0]}<br>Kingdom=%{customdata[2]}<br>Family=%{customdata[3]}<br>Color_eukaryota=%{customdata[4]}<extra></extra>\",\"hovertext\":[\"Archaeoglobus\",\"Archaeoglobus\"],\"legendgroup\":\"Archaeoglobus\",\"marker\":{\"color\":\"#ff0000\",\"symbol\":\"circle\"},\"mode\":\"markers\",\"name\":\"Archaeoglobus\",\"orientation\":\"v\",\"showlegend\":true,\"x\":[-0.1623433,-0.06770586],\"xaxis\":\"x\",\"y\":[0.13802329,0.13810757],\"yaxis\":\"y\",\"type\":\"scatter\"},{\"customdata\":[[63,\"Methanosaeta\",\"Archaea\",\"Euryarchaeota\",\"OTHERS\"],[70,\"Methanosaeta\",\"Archaea\",\"Euryarchaeota\",\"OTHERS\"]],\"hovertemplate\":\"<b>%{hovertext}</b><br><br>Species=%{customdata[1]}<br>pm1=%{x}<br>pm2=%{y}<br>Unnamed: 0=%{customdata[0]}<br>Kingdom=%{customdata[2]}<br>Family=%{customdata[3]}<br>Color_eukaryota=%{customdata[4]}<extra></extra>\",\"hovertext\":[\"Methanosaeta\",\"Methanosaeta\"],\"legendgroup\":\"Methanosaeta\",\"marker\":{\"color\":\"#ff0000\",\"symbol\":\"circle\"},\"mode\":\"markers\",\"name\":\"Methanosaeta\",\"orientation\":\"v\",\"showlegend\":true,\"x\":[0.038492568,-0.34427738],\"xaxis\":\"x\",\"y\":[0.2180613,0.2751655],\"yaxis\":\"y\",\"type\":\"scatter\"},{\"customdata\":[[64,\"Methanococcoides\",\"Archaea\",\"Euryarchaeota\",\"OTHERS\"]],\"hovertemplate\":\"<b>%{hovertext}</b><br><br>Species=%{customdata[1]}<br>pm1=%{x}<br>pm2=%{y}<br>Unnamed: 0=%{customdata[0]}<br>Kingdom=%{customdata[2]}<br>Family=%{customdata[3]}<br>Color_eukaryota=%{customdata[4]}<extra></extra>\",\"hovertext\":[\"Methanococcoides\"],\"legendgroup\":\"Methanococcoides\",\"marker\":{\"color\":\"#ff0000\",\"symbol\":\"circle\"},\"mode\":\"markers\",\"name\":\"Methanococcoides\",\"orientation\":\"v\",\"showlegend\":true,\"x\":[0.09970881],\"xaxis\":\"x\",\"y\":[0.19509624],\"yaxis\":\"y\",\"type\":\"scatter\"},{\"customdata\":[[65,\"Candidatus\",\"Archaea\",\"Euryarchaeota\",\"OTHERS\"]],\"hovertemplate\":\"<b>%{hovertext}</b><br><br>Species=%{customdata[1]}<br>pm1=%{x}<br>pm2=%{y}<br>Unnamed: 0=%{customdata[0]}<br>Kingdom=%{customdata[2]}<br>Family=%{customdata[3]}<br>Color_eukaryota=%{customdata[4]}<extra></extra>\",\"hovertext\":[\"Candidatus\"],\"legendgroup\":\"Candidatus\",\"marker\":{\"color\":\"#ff0000\",\"symbol\":\"circle\"},\"mode\":\"markers\",\"name\":\"Candidatus\",\"orientation\":\"v\",\"showlegend\":true,\"x\":[-0.077112146],\"xaxis\":\"x\",\"y\":[0.20836788],\"yaxis\":\"y\",\"type\":\"scatter\"},{\"customdata\":[[66,\"Methanospirillum\",\"Archaea\",\"Euryarchaeota\",\"OTHERS\"]],\"hovertemplate\":\"<b>%{hovertext}</b><br><br>Species=%{customdata[1]}<br>pm1=%{x}<br>pm2=%{y}<br>Unnamed: 0=%{customdata[0]}<br>Kingdom=%{customdata[2]}<br>Family=%{customdata[3]}<br>Color_eukaryota=%{customdata[4]}<extra></extra>\",\"hovertext\":[\"Methanospirillum\"],\"legendgroup\":\"Methanospirillum\",\"marker\":{\"color\":\"#ff0000\",\"symbol\":\"circle\"},\"mode\":\"markers\",\"name\":\"Methanospirillum\",\"orientation\":\"v\",\"showlegend\":true,\"x\":[-0.07760584],\"xaxis\":\"x\",\"y\":[0.20805234],\"yaxis\":\"y\",\"type\":\"scatter\"},{\"customdata\":[[67,\"Picrophilus\",\"Archaea\",\"Euryarchaeota\",\"OTHERS\"]],\"hovertemplate\":\"<b>%{hovertext}</b><br><br>Species=%{customdata[1]}<br>pm1=%{x}<br>pm2=%{y}<br>Unnamed: 0=%{customdata[0]}<br>Kingdom=%{customdata[2]}<br>Family=%{customdata[3]}<br>Color_eukaryota=%{customdata[4]}<extra></extra>\",\"hovertext\":[\"Picrophilus\"],\"legendgroup\":\"Picrophilus\",\"marker\":{\"color\":\"#ff0000\",\"symbol\":\"circle\"},\"mode\":\"markers\",\"name\":\"Picrophilus\",\"orientation\":\"v\",\"showlegend\":true,\"x\":[0.24694018],\"xaxis\":\"x\",\"y\":[0.24806313],\"yaxis\":\"y\",\"type\":\"scatter\"},{\"customdata\":[[68,\"Methanococcus\",\"Archaea\",\"Euryarchaeota\",\"OTHERS\"]],\"hovertemplate\":\"<b>%{hovertext}</b><br><br>Species=%{customdata[1]}<br>pm1=%{x}<br>pm2=%{y}<br>Unnamed: 0=%{customdata[0]}<br>Kingdom=%{customdata[2]}<br>Family=%{customdata[3]}<br>Color_eukaryota=%{customdata[4]}<extra></extra>\",\"hovertext\":[\"Methanococcus\"],\"legendgroup\":\"Methanococcus\",\"marker\":{\"color\":\"#ff0000\",\"symbol\":\"circle\"},\"mode\":\"markers\",\"name\":\"Methanococcus\",\"orientation\":\"v\",\"showlegend\":true,\"x\":[-0.06422989],\"xaxis\":\"x\",\"y\":[-0.17040247],\"yaxis\":\"y\",\"type\":\"scatter\"},{\"customdata\":[[69,\"Methanocorpusculum\",\"Archaea\",\"Euryarchaeota\",\"OTHERS\"]],\"hovertemplate\":\"<b>%{hovertext}</b><br><br>Species=%{customdata[1]}<br>pm1=%{x}<br>pm2=%{y}<br>Unnamed: 0=%{customdata[0]}<br>Kingdom=%{customdata[2]}<br>Family=%{customdata[3]}<br>Color_eukaryota=%{customdata[4]}<extra></extra>\",\"hovertext\":[\"Methanocorpusculum\"],\"legendgroup\":\"Methanocorpusculum\",\"marker\":{\"color\":\"#ff0000\",\"symbol\":\"circle\"},\"mode\":\"markers\",\"name\":\"Methanocorpusculum\",\"orientation\":\"v\",\"showlegend\":true,\"x\":[-0.28064135],\"xaxis\":\"x\",\"y\":[0.302491],\"yaxis\":\"y\",\"type\":\"scatter\"},{\"customdata\":[[71,\"Natronomonas\",\"Archaea\",\"Euryarchaeota\",\"OTHERS\"],[74,\"Natronomonas\",\"Archaea\",\"Euryarchaeota\",\"OTHERS\"]],\"hovertemplate\":\"<b>%{hovertext}</b><br><br>Species=%{customdata[1]}<br>pm1=%{x}<br>pm2=%{y}<br>Unnamed: 0=%{customdata[0]}<br>Kingdom=%{customdata[2]}<br>Family=%{customdata[3]}<br>Color_eukaryota=%{customdata[4]}<extra></extra>\",\"hovertext\":[\"Natronomonas\",\"Natronomonas\"],\"legendgroup\":\"Natronomonas\",\"marker\":{\"color\":\"#ff0000\",\"symbol\":\"circle\"},\"mode\":\"markers\",\"name\":\"Natronomonas\",\"orientation\":\"v\",\"showlegend\":true,\"x\":[-0.36876234,-0.3973217],\"xaxis\":\"x\",\"y\":[-0.6183521,-0.58613604],\"yaxis\":\"y\",\"type\":\"scatter\"},{\"customdata\":[[72,\"Haloquadratum\",\"Archaea\",\"Euryarchaeota\",\"OTHERS\"]],\"hovertemplate\":\"<b>%{hovertext}</b><br><br>Species=%{customdata[1]}<br>pm1=%{x}<br>pm2=%{y}<br>Unnamed: 0=%{customdata[0]}<br>Kingdom=%{customdata[2]}<br>Family=%{customdata[3]}<br>Color_eukaryota=%{customdata[4]}<extra></extra>\",\"hovertext\":[\"Haloquadratum\"],\"legendgroup\":\"Haloquadratum\",\"marker\":{\"color\":\"#ff0000\",\"symbol\":\"circle\"},\"mode\":\"markers\",\"name\":\"Haloquadratum\",\"orientation\":\"v\",\"showlegend\":true,\"x\":[-0.375414],\"xaxis\":\"x\",\"y\":[-0.62744945],\"yaxis\":\"y\",\"type\":\"scatter\"},{\"customdata\":[[73,\"Haloarcula\",\"Archaea\",\"Euryarchaeota\",\"OTHERS\"]],\"hovertemplate\":\"<b>%{hovertext}</b><br><br>Species=%{customdata[1]}<br>pm1=%{x}<br>pm2=%{y}<br>Unnamed: 0=%{customdata[0]}<br>Kingdom=%{customdata[2]}<br>Family=%{customdata[3]}<br>Color_eukaryota=%{customdata[4]}<extra></extra>\",\"hovertext\":[\"Haloarcula\"],\"legendgroup\":\"Haloarcula\",\"marker\":{\"color\":\"#ff0000\",\"symbol\":\"circle\"},\"mode\":\"markers\",\"name\":\"Haloarcula\",\"orientation\":\"v\",\"showlegend\":true,\"x\":[-0.3655915],\"xaxis\":\"x\",\"y\":[-0.6257843],\"yaxis\":\"y\",\"type\":\"scatter\"},{\"customdata\":[[75,\"Halobacterium\",\"Archaea\",\"Euryarchaeota\",\"OTHERS\"]],\"hovertemplate\":\"<b>%{hovertext}</b><br><br>Species=%{customdata[1]}<br>pm1=%{x}<br>pm2=%{y}<br>Unnamed: 0=%{customdata[0]}<br>Kingdom=%{customdata[2]}<br>Family=%{customdata[3]}<br>Color_eukaryota=%{customdata[4]}<extra></extra>\",\"hovertext\":[\"Halobacterium\"],\"legendgroup\":\"Halobacterium\",\"marker\":{\"color\":\"#ff0000\",\"symbol\":\"circle\"},\"mode\":\"markers\",\"name\":\"Halobacterium\",\"orientation\":\"v\",\"showlegend\":true,\"x\":[-0.37563333],\"xaxis\":\"x\",\"y\":[-0.61809707],\"yaxis\":\"y\",\"type\":\"scatter\"},{\"customdata\":[[77,\"Thermoplasma\",\"Archaea\",\"Euryarchaeota\",\"OTHERS\"]],\"hovertemplate\":\"<b>%{hovertext}</b><br><br>Species=%{customdata[1]}<br>pm1=%{x}<br>pm2=%{y}<br>Unnamed: 0=%{customdata[0]}<br>Kingdom=%{customdata[2]}<br>Family=%{customdata[3]}<br>Color_eukaryota=%{customdata[4]}<extra></extra>\",\"hovertext\":[\"Thermoplasma\"],\"legendgroup\":\"Thermoplasma\",\"marker\":{\"color\":\"#ff0000\",\"symbol\":\"circle\"},\"mode\":\"markers\",\"name\":\"Thermoplasma\",\"orientation\":\"v\",\"showlegend\":true,\"x\":[-0.07956095],\"xaxis\":\"x\",\"y\":[0.056132946],\"yaxis\":\"y\",\"type\":\"scatter\"},{\"customdata\":[[78,\"Thermofilum\",\"Archaea\",\"Crenarchaeota\",\"OTHERS\"]],\"hovertemplate\":\"<b>%{hovertext}</b><br><br>Species=%{customdata[1]}<br>pm1=%{x}<br>pm2=%{y}<br>Unnamed: 0=%{customdata[0]}<br>Kingdom=%{customdata[2]}<br>Family=%{customdata[3]}<br>Color_eukaryota=%{customdata[4]}<extra></extra>\",\"hovertext\":[\"Thermofilum\"],\"legendgroup\":\"Thermofilum\",\"marker\":{\"color\":\"#ff0000\",\"symbol\":\"circle\"},\"mode\":\"markers\",\"name\":\"Thermofilum\",\"orientation\":\"v\",\"showlegend\":true,\"x\":[-0.14768441],\"xaxis\":\"x\",\"y\":[0.20461965],\"yaxis\":\"y\",\"type\":\"scatter\"},{\"customdata\":[[79,\"Caldivirga\",\"Archaea\",\"Crenarchaeota\",\"OTHERS\"]],\"hovertemplate\":\"<b>%{hovertext}</b><br><br>Species=%{customdata[1]}<br>pm1=%{x}<br>pm2=%{y}<br>Unnamed: 0=%{customdata[0]}<br>Kingdom=%{customdata[2]}<br>Family=%{customdata[3]}<br>Color_eukaryota=%{customdata[4]}<extra></extra>\",\"hovertext\":[\"Caldivirga\"],\"legendgroup\":\"Caldivirga\",\"marker\":{\"color\":\"#ff0000\",\"symbol\":\"circle\"},\"mode\":\"markers\",\"name\":\"Caldivirga\",\"orientation\":\"v\",\"showlegend\":true,\"x\":[0.20467041],\"xaxis\":\"x\",\"y\":[0.29179668],\"yaxis\":\"y\",\"type\":\"scatter\"},{\"customdata\":[[80,\"Sulfolobus\",\"Archaea\",\"Crenarchaeota\",\"OTHERS\"],[81,\"Sulfolobus\",\"Archaea\",\"Crenarchaeota\",\"OTHERS\"],[82,\"Sulfolobus\",\"Archaea\",\"Crenarchaeota\",\"OTHERS\"],[86,\"Sulfolobus\",\"Archaea\",\"Crenarchaeota\",\"OTHERS\"],[87,\"Sulfolobus\",\"Archaea\",\"Crenarchaeota\",\"OTHERS\"]],\"hovertemplate\":\"<b>%{hovertext}</b><br><br>Species=%{customdata[1]}<br>pm1=%{x}<br>pm2=%{y}<br>Unnamed: 0=%{customdata[0]}<br>Kingdom=%{customdata[2]}<br>Family=%{customdata[3]}<br>Color_eukaryota=%{customdata[4]}<extra></extra>\",\"hovertext\":[\"Sulfolobus\",\"Sulfolobus\",\"Sulfolobus\",\"Sulfolobus\",\"Sulfolobus\"],\"legendgroup\":\"Sulfolobus\",\"marker\":{\"color\":\"#ff0000\",\"symbol\":\"circle\"},\"mode\":\"markers\",\"name\":\"Sulfolobus\",\"orientation\":\"v\",\"showlegend\":true,\"x\":[0.2424766,0.23505846,0.24209034,0.06606726,0.066586636],\"xaxis\":\"x\",\"y\":[0.25134522,0.24818362,0.25115925,0.3395665,0.36339188],\"yaxis\":\"y\",\"type\":\"scatter\"},{\"customdata\":[[83,\"Hyperthermus\",\"Archaea\",\"Crenarchaeota\",\"OTHERS\"]],\"hovertemplate\":\"<b>%{hovertext}</b><br><br>Species=%{customdata[1]}<br>pm1=%{x}<br>pm2=%{y}<br>Unnamed: 0=%{customdata[0]}<br>Kingdom=%{customdata[2]}<br>Family=%{customdata[3]}<br>Color_eukaryota=%{customdata[4]}<extra></extra>\",\"hovertext\":[\"Hyperthermus\"],\"legendgroup\":\"Hyperthermus\",\"marker\":{\"color\":\"#ff0000\",\"symbol\":\"circle\"},\"mode\":\"markers\",\"name\":\"Hyperthermus\",\"orientation\":\"v\",\"showlegend\":true,\"x\":[0.093561254],\"xaxis\":\"x\",\"y\":[0.36932054],\"yaxis\":\"y\",\"type\":\"scatter\"},{\"customdata\":[[84,\"Aeropyrum\",\"Archaea\",\"Crenarchaeota\",\"OTHERS\"],[89,\"Aeropyrum\",\"Archaea\",\"Crenarchaeota\",\"OTHERS\"]],\"hovertemplate\":\"<b>%{hovertext}</b><br><br>Species=%{customdata[1]}<br>pm1=%{x}<br>pm2=%{y}<br>Unnamed: 0=%{customdata[0]}<br>Kingdom=%{customdata[2]}<br>Family=%{customdata[3]}<br>Color_eukaryota=%{customdata[4]}<extra></extra>\",\"hovertext\":[\"Aeropyrum\",\"Aeropyrum\"],\"legendgroup\":\"Aeropyrum\",\"marker\":{\"color\":\"#ff0000\",\"symbol\":\"circle\"},\"mode\":\"markers\",\"name\":\"Aeropyrum\",\"orientation\":\"v\",\"showlegend\":true,\"x\":[0.08879397,-0.01408082],\"xaxis\":\"x\",\"y\":[0.371291,0.42290026],\"yaxis\":\"y\",\"type\":\"scatter\"},{\"customdata\":[[85,\"Metallosphaera\",\"Archaea\",\"Crenarchaeota\",\"OTHERS\"]],\"hovertemplate\":\"<b>%{hovertext}</b><br><br>Species=%{customdata[1]}<br>pm1=%{x}<br>pm2=%{y}<br>Unnamed: 0=%{customdata[0]}<br>Kingdom=%{customdata[2]}<br>Family=%{customdata[3]}<br>Color_eukaryota=%{customdata[4]}<extra></extra>\",\"hovertext\":[\"Metallosphaera\"],\"legendgroup\":\"Metallosphaera\",\"marker\":{\"color\":\"#ff0000\",\"symbol\":\"circle\"},\"mode\":\"markers\",\"name\":\"Metallosphaera\",\"orientation\":\"v\",\"showlegend\":true,\"x\":[0.055873338],\"xaxis\":\"x\",\"y\":[0.3734734],\"yaxis\":\"y\",\"type\":\"scatter\"},{\"customdata\":[[88,\"Staphylothermus\",\"Archaea\",\"Crenarchaeota\",\"OTHERS\"]],\"hovertemplate\":\"<b>%{hovertext}</b><br><br>Species=%{customdata[1]}<br>pm1=%{x}<br>pm2=%{y}<br>Unnamed: 0=%{customdata[0]}<br>Kingdom=%{customdata[2]}<br>Family=%{customdata[3]}<br>Color_eukaryota=%{customdata[4]}<extra></extra>\",\"hovertext\":[\"Staphylothermus\"],\"legendgroup\":\"Staphylothermus\",\"marker\":{\"color\":\"#ff0000\",\"symbol\":\"circle\"},\"mode\":\"markers\",\"name\":\"Staphylothermus\",\"orientation\":\"v\",\"showlegend\":true,\"x\":[0.06620467],\"xaxis\":\"x\",\"y\":[0.4287467],\"yaxis\":\"y\",\"type\":\"scatter\"},{\"customdata\":[[90,\"Clostridium\",\"Bacteria\",\"Firmicutes\",\"OTHERS\"],[107,\"Clostridium\",\"Bacteria\",\"Firmicutes\",\"OTHERS\"],[108,\"Clostridium\",\"Bacteria\",\"Firmicutes\",\"OTHERS\"],[109,\"Clostridium\",\"Bacteria\",\"Firmicutes\",\"OTHERS\"],[110,\"Clostridium\",\"Bacteria\",\"Firmicutes\",\"OTHERS\"]],\"hovertemplate\":\"<b>%{hovertext}</b><br><br>Species=%{customdata[1]}<br>pm1=%{x}<br>pm2=%{y}<br>Unnamed: 0=%{customdata[0]}<br>Kingdom=%{customdata[2]}<br>Family=%{customdata[3]}<br>Color_eukaryota=%{customdata[4]}<extra></extra>\",\"hovertext\":[\"Clostridium\",\"Clostridium\",\"Clostridium\",\"Clostridium\",\"Clostridium\"],\"legendgroup\":\"Clostridium\",\"marker\":{\"color\":\"#34b8e7\",\"symbol\":\"circle\"},\"mode\":\"markers\",\"name\":\"Clostridium\",\"orientation\":\"v\",\"showlegend\":true,\"x\":[-0.5582914,-0.09065848,-0.12918599,-0.09236768,-0.10277809],\"xaxis\":\"x\",\"y\":[0.23104498,0.011276632,-0.1759286,0.0342752,0.08511332],\"yaxis\":\"y\",\"type\":\"scatter\"},{\"customdata\":[[91,\"Thermoanaerobacter\",\"Bacteria\",\"Firmicutes\",\"OTHERS\"],[111,\"Thermoanaerobacter\",\"Bacteria\",\"Firmicutes\",\"OTHERS\"]],\"hovertemplate\":\"<b>%{hovertext}</b><br><br>Species=%{customdata[1]}<br>pm1=%{x}<br>pm2=%{y}<br>Unnamed: 0=%{customdata[0]}<br>Kingdom=%{customdata[2]}<br>Family=%{customdata[3]}<br>Color_eukaryota=%{customdata[4]}<extra></extra>\",\"hovertext\":[\"Thermoanaerobacter\",\"Thermoanaerobacter\"],\"legendgroup\":\"Thermoanaerobacter\",\"marker\":{\"color\":\"#34b8e7\",\"symbol\":\"circle\"},\"mode\":\"markers\",\"name\":\"Thermoanaerobacter\",\"orientation\":\"v\",\"showlegend\":true,\"x\":[0.2883705,-0.31940284],\"xaxis\":\"x\",\"y\":[-0.010727219,0.17383419],\"yaxis\":\"y\",\"type\":\"scatter\"},{\"customdata\":[[92,\"Bacillus\",\"Bacteria\",\"Firmicutes\",\"OTHERS\"],[93,\"Bacillus\",\"Bacteria\",\"Firmicutes\",\"OTHERS\"],[101,\"Bacillus\",\"Bacteria\",\"Firmicutes\",\"OTHERS\"],[102,\"Bacillus\",\"Bacteria\",\"Firmicutes\",\"OTHERS\"]],\"hovertemplate\":\"<b>%{hovertext}</b><br><br>Species=%{customdata[1]}<br>pm1=%{x}<br>pm2=%{y}<br>Unnamed: 0=%{customdata[0]}<br>Kingdom=%{customdata[2]}<br>Family=%{customdata[3]}<br>Color_eukaryota=%{customdata[4]}<extra></extra>\",\"hovertext\":[\"Bacillus\",\"Bacillus\",\"Bacillus\",\"Bacillus\"],\"legendgroup\":\"Bacillus\",\"marker\":{\"color\":\"#34b8e7\",\"symbol\":\"circle\"},\"mode\":\"markers\",\"name\":\"Bacillus\",\"orientation\":\"v\",\"showlegend\":true,\"x\":[-0.68659335,0.15823844,-0.09154991,-0.12608738],\"xaxis\":\"x\",\"y\":[-0.16543975,-0.47308958,-0.26976943,-0.23625775],\"yaxis\":\"y\",\"type\":\"scatter\"},{\"customdata\":[[94,\"Streptococcus\",\"Bacteria\",\"Firmicutes\",\"OTHERS\"],[106,\"Streptococcus\",\"Bacteria\",\"Firmicutes\",\"OTHERS\"]],\"hovertemplate\":\"<b>%{hovertext}</b><br><br>Species=%{customdata[1]}<br>pm1=%{x}<br>pm2=%{y}<br>Unnamed: 0=%{customdata[0]}<br>Kingdom=%{customdata[2]}<br>Family=%{customdata[3]}<br>Color_eukaryota=%{customdata[4]}<extra></extra>\",\"hovertext\":[\"Streptococcus\",\"Streptococcus\"],\"legendgroup\":\"Streptococcus\",\"marker\":{\"color\":\"#34b8e7\",\"symbol\":\"circle\"},\"mode\":\"markers\",\"name\":\"Streptococcus\",\"orientation\":\"v\",\"showlegend\":true,\"x\":[0.28424203,-0.15943648],\"xaxis\":\"x\",\"y\":[-0.33839947,-0.29083982],\"yaxis\":\"y\",\"type\":\"scatter\"},{\"customdata\":[[95,\"Enterococcus\",\"Bacteria\",\"Firmicutes\",\"OTHERS\"],[105,\"Enterococcus\",\"Bacteria\",\"Firmicutes\",\"OTHERS\"]],\"hovertemplate\":\"<b>%{hovertext}</b><br><br>Species=%{customdata[1]}<br>pm1=%{x}<br>pm2=%{y}<br>Unnamed: 0=%{customdata[0]}<br>Kingdom=%{customdata[2]}<br>Family=%{customdata[3]}<br>Color_eukaryota=%{customdata[4]}<extra></extra>\",\"hovertext\":[\"Enterococcus\",\"Enterococcus\"],\"legendgroup\":\"Enterococcus\",\"marker\":{\"color\":\"#34b8e7\",\"symbol\":\"circle\"},\"mode\":\"markers\",\"name\":\"Enterococcus\",\"orientation\":\"v\",\"showlegend\":true,\"x\":[0.4451069,-0.1577839],\"xaxis\":\"x\",\"y\":[-0.23699048,-0.2915133],\"yaxis\":\"y\",\"type\":\"scatter\"},{\"customdata\":[[96,\"Listeria\",\"Bacteria\",\"Firmicutes\",\"OTHERS\"],[104,\"Listeria\",\"Bacteria\",\"Firmicutes\",\"OTHERS\"]],\"hovertemplate\":\"<b>%{hovertext}</b><br><br>Species=%{customdata[1]}<br>pm1=%{x}<br>pm2=%{y}<br>Unnamed: 0=%{customdata[0]}<br>Kingdom=%{customdata[2]}<br>Family=%{customdata[3]}<br>Color_eukaryota=%{customdata[4]}<extra></extra>\",\"hovertext\":[\"Listeria\",\"Listeria\"],\"legendgroup\":\"Listeria\",\"marker\":{\"color\":\"#34b8e7\",\"symbol\":\"circle\"},\"mode\":\"markers\",\"name\":\"Listeria\",\"orientation\":\"v\",\"showlegend\":true,\"x\":[-0.4175658,-0.15539056],\"xaxis\":\"x\",\"y\":[-0.3656629,-0.28971213],\"yaxis\":\"y\",\"type\":\"scatter\"},{\"customdata\":[[97,\"Lactobacillus\",\"Bacteria\",\"Firmicutes\",\"OTHERS\"],[98,\"Lactobacillus\",\"Bacteria\",\"Firmicutes\",\"OTHERS\"],[103,\"Lactobacillus\",\"Bacteria\",\"Firmicutes\",\"OTHERS\"]],\"hovertemplate\":\"<b>%{hovertext}</b><br><br>Species=%{customdata[1]}<br>pm1=%{x}<br>pm2=%{y}<br>Unnamed: 0=%{customdata[0]}<br>Kingdom=%{customdata[2]}<br>Family=%{customdata[3]}<br>Color_eukaryota=%{customdata[4]}<extra></extra>\",\"hovertext\":[\"Lactobacillus\",\"Lactobacillus\",\"Lactobacillus\"],\"legendgroup\":\"Lactobacillus\",\"marker\":{\"color\":\"#34b8e7\",\"symbol\":\"circle\"},\"mode\":\"markers\",\"name\":\"Lactobacillus\",\"orientation\":\"v\",\"showlegend\":true,\"x\":[-0.050339554,-0.08821545,-0.1571801],\"xaxis\":\"x\",\"y\":[0.018546527,-0.09527511,-0.2907742],\"yaxis\":\"y\",\"type\":\"scatter\"},{\"customdata\":[[99,\"Staphylococcus\",\"Bacteria\",\"Firmicutes\",\"OTHERS\"]],\"hovertemplate\":\"<b>%{hovertext}</b><br><br>Species=%{customdata[1]}<br>pm1=%{x}<br>pm2=%{y}<br>Unnamed: 0=%{customdata[0]}<br>Kingdom=%{customdata[2]}<br>Family=%{customdata[3]}<br>Color_eukaryota=%{customdata[4]}<extra></extra>\",\"hovertext\":[\"Staphylococcus\"],\"legendgroup\":\"Staphylococcus\",\"marker\":{\"color\":\"#34b8e7\",\"symbol\":\"circle\"},\"mode\":\"markers\",\"name\":\"Staphylococcus\",\"orientation\":\"v\",\"showlegend\":true,\"x\":[-0.1833568],\"xaxis\":\"x\",\"y\":[-0.15822172],\"yaxis\":\"y\",\"type\":\"scatter\"},{\"customdata\":[[100,\"Geobacillus\",\"Bacteria\",\"Firmicutes\",\"OTHERS\"]],\"hovertemplate\":\"<b>%{hovertext}</b><br><br>Species=%{customdata[1]}<br>pm1=%{x}<br>pm2=%{y}<br>Unnamed: 0=%{customdata[0]}<br>Kingdom=%{customdata[2]}<br>Family=%{customdata[3]}<br>Color_eukaryota=%{customdata[4]}<extra></extra>\",\"hovertext\":[\"Geobacillus\"],\"legendgroup\":\"Geobacillus\",\"marker\":{\"color\":\"#34b8e7\",\"symbol\":\"circle\"},\"mode\":\"markers\",\"name\":\"Geobacillus\",\"orientation\":\"v\",\"showlegend\":true,\"x\":[-0.15856543],\"xaxis\":\"x\",\"y\":[-0.21720986],\"yaxis\":\"y\",\"type\":\"scatter\"},{\"customdata\":[[112,\"Chlamydia\",\"Bacteria\",\"Chlamydiae\",\"OTHERS\"]],\"hovertemplate\":\"<b>%{hovertext}</b><br><br>Species=%{customdata[1]}<br>pm1=%{x}<br>pm2=%{y}<br>Unnamed: 0=%{customdata[0]}<br>Kingdom=%{customdata[2]}<br>Family=%{customdata[3]}<br>Color_eukaryota=%{customdata[4]}<extra></extra>\",\"hovertext\":[\"Chlamydia\"],\"legendgroup\":\"Chlamydia\",\"marker\":{\"color\":\"#34b8e7\",\"symbol\":\"circle\"},\"mode\":\"markers\",\"name\":\"Chlamydia\",\"orientation\":\"v\",\"showlegend\":true,\"x\":[-0.27317488],\"xaxis\":\"x\",\"y\":[-0.5245016],\"yaxis\":\"y\",\"type\":\"scatter\"},{\"customdata\":[[113,\"Chlamydophila\",\"Bacteria\",\"Chlamydiae\",\"OTHERS\"]],\"hovertemplate\":\"<b>%{hovertext}</b><br><br>Species=%{customdata[1]}<br>pm1=%{x}<br>pm2=%{y}<br>Unnamed: 0=%{customdata[0]}<br>Kingdom=%{customdata[2]}<br>Family=%{customdata[3]}<br>Color_eukaryota=%{customdata[4]}<extra></extra>\",\"hovertext\":[\"Chlamydophila\"],\"legendgroup\":\"Chlamydophila\",\"marker\":{\"color\":\"#34b8e7\",\"symbol\":\"circle\"},\"mode\":\"markers\",\"name\":\"Chlamydophila\",\"orientation\":\"v\",\"showlegend\":true,\"x\":[-0.046343394],\"xaxis\":\"x\",\"y\":[-0.44061705],\"yaxis\":\"y\",\"type\":\"scatter\"},{\"customdata\":[[114,\"Chlorobium\",\"Bacteria\",\"Chlorobi\",\"OTHERS\"],[115,\"Chlorobium\",\"Bacteria\",\"Chlorobi\",\"OTHERS\"]],\"hovertemplate\":\"<b>%{hovertext}</b><br><br>Species=%{customdata[1]}<br>pm1=%{x}<br>pm2=%{y}<br>Unnamed: 0=%{customdata[0]}<br>Kingdom=%{customdata[2]}<br>Family=%{customdata[3]}<br>Color_eukaryota=%{customdata[4]}<extra></extra>\",\"hovertext\":[\"Chlorobium\",\"Chlorobium\"],\"legendgroup\":\"Chlorobium\",\"marker\":{\"color\":\"#34b8e7\",\"symbol\":\"circle\"},\"mode\":\"markers\",\"name\":\"Chlorobium\",\"orientation\":\"v\",\"showlegend\":true,\"x\":[-0.64018524,-0.21795733],\"xaxis\":\"x\",\"y\":[0.091387644,0.12305785],\"yaxis\":\"y\",\"type\":\"scatter\"},{\"customdata\":[[116,\"Bacteroides\",\"Bacteria\",\"Bacteroidetes\",\"OTHERS\"],[119,\"Bacteroides\",\"Bacteria\",\"Bacteroidetes\",\"OTHERS\"],[120,\"Bacteroides\",\"Bacteria\",\"Bacteroidetes\",\"OTHERS\"],[122,\"Bacteroides\",\"Bacteria\",\"Bacteroidetes\",\"OTHERS\"],[123,\"Bacteroides\",\"Bacteria\",\"Bacteroidetes\",\"OTHERS\"]],\"hovertemplate\":\"<b>%{hovertext}</b><br><br>Species=%{customdata[1]}<br>pm1=%{x}<br>pm2=%{y}<br>Unnamed: 0=%{customdata[0]}<br>Kingdom=%{customdata[2]}<br>Family=%{customdata[3]}<br>Color_eukaryota=%{customdata[4]}<extra></extra>\",\"hovertext\":[\"Bacteroides\",\"Bacteroides\",\"Bacteroides\",\"Bacteroides\",\"Bacteroides\"],\"legendgroup\":\"Bacteroides\",\"marker\":{\"color\":\"#34b8e7\",\"symbol\":\"circle\"},\"mode\":\"markers\",\"name\":\"Bacteroides\",\"orientation\":\"v\",\"showlegend\":true,\"x\":[-0.4252066,-0.20337448,-0.3870151,-0.21419267,-0.20909432],\"xaxis\":\"x\",\"y\":[0.2694734,0.3750962,-0.19220364,-0.046421565,-0.04635603],\"yaxis\":\"y\",\"type\":\"scatter\"},{\"customdata\":[[117,\"Flavobacterium\",\"Bacteria\",\"Bacteroidetes\",\"OTHERS\"]],\"hovertemplate\":\"<b>%{hovertext}</b><br><br>Species=%{customdata[1]}<br>pm1=%{x}<br>pm2=%{y}<br>Unnamed: 0=%{customdata[0]}<br>Kingdom=%{customdata[2]}<br>Family=%{customdata[3]}<br>Color_eukaryota=%{customdata[4]}<extra></extra>\",\"hovertext\":[\"Flavobacterium\"],\"legendgroup\":\"Flavobacterium\",\"marker\":{\"color\":\"#34b8e7\",\"symbol\":\"circle\"},\"mode\":\"markers\",\"name\":\"Flavobacterium\",\"orientation\":\"v\",\"showlegend\":true,\"x\":[-0.257741],\"xaxis\":\"x\",\"y\":[0.3704273],\"yaxis\":\"y\",\"type\":\"scatter\"},{\"customdata\":[[118,\"Porphyromonas\",\"Bacteria\",\"Bacteroidetes\",\"OTHERS\"],[121,\"Porphyromonas\",\"Bacteria\",\"Bacteroidetes\",\"OTHERS\"]],\"hovertemplate\":\"<b>%{hovertext}</b><br><br>Species=%{customdata[1]}<br>pm1=%{x}<br>pm2=%{y}<br>Unnamed: 0=%{customdata[0]}<br>Kingdom=%{customdata[2]}<br>Family=%{customdata[3]}<br>Color_eukaryota=%{customdata[4]}<extra></extra>\",\"hovertext\":[\"Porphyromonas\",\"Porphyromonas\"],\"legendgroup\":\"Porphyromonas\",\"marker\":{\"color\":\"#34b8e7\",\"symbol\":\"circle\"},\"mode\":\"markers\",\"name\":\"Porphyromonas\",\"orientation\":\"v\",\"showlegend\":true,\"x\":[-0.20804267,-0.26830637],\"xaxis\":\"x\",\"y\":[0.5270898,-0.080774345],\"yaxis\":\"y\",\"type\":\"scatter\"},{\"customdata\":[[124,\"Rhodopirellula\",\"Bacteria\",\"Planctomycetes\",\"OTHERS\"],[125,\"Rhodopirellula\",\"Bacteria\",\"Planctomycetes\",\"OTHERS\"]],\"hovertemplate\":\"<b>%{hovertext}</b><br><br>Species=%{customdata[1]}<br>pm1=%{x}<br>pm2=%{y}<br>Unnamed: 0=%{customdata[0]}<br>Kingdom=%{customdata[2]}<br>Family=%{customdata[3]}<br>Color_eukaryota=%{customdata[4]}<extra></extra>\",\"hovertext\":[\"Rhodopirellula\",\"Rhodopirellula\"],\"legendgroup\":\"Rhodopirellula\",\"marker\":{\"color\":\"#34b8e7\",\"symbol\":\"circle\"},\"mode\":\"markers\",\"name\":\"Rhodopirellula\",\"orientation\":\"v\",\"showlegend\":true,\"x\":[-0.31439915,-0.4696678],\"xaxis\":\"x\",\"y\":[0.0060043624,0.057721335],\"yaxis\":\"y\",\"type\":\"scatter\"},{\"customdata\":[[126,\"Mycobacterium\",\"Bacteria\",\"Actinobacteria\",\"OTHERS\"],[127,\"Mycobacterium\",\"Bacteria\",\"Actinobacteria\",\"OTHERS\"],[132,\"Mycobacterium\",\"Bacteria\",\"Actinobacteria\",\"OTHERS\"],[136,\"Mycobacterium\",\"Bacteria\",\"Actinobacteria\",\"OTHERS\"]],\"hovertemplate\":\"<b>%{hovertext}</b><br><br>Species=%{customdata[1]}<br>pm1=%{x}<br>pm2=%{y}<br>Unnamed: 0=%{customdata[0]}<br>Kingdom=%{customdata[2]}<br>Family=%{customdata[3]}<br>Color_eukaryota=%{customdata[4]}<extra></extra>\",\"hovertext\":[\"Mycobacterium\",\"Mycobacterium\",\"Mycobacterium\",\"Mycobacterium\"],\"legendgroup\":\"Mycobacterium\",\"marker\":{\"color\":\"#34b8e7\",\"symbol\":\"circle\"},\"mode\":\"markers\",\"name\":\"Mycobacterium\",\"orientation\":\"v\",\"showlegend\":true,\"x\":[0.40030518,0.036976572,-0.48547155,-0.45704597],\"xaxis\":\"x\",\"y\":[0.7489,-0.82267255,0.25283325,0.11965789],\"yaxis\":\"y\",\"type\":\"scatter\"},{\"customdata\":[[128,\"Corynebacterium\",\"Bacteria\",\"Actinobacteria\",\"OTHERS\"],[134,\"Corynebacterium\",\"Bacteria\",\"Actinobacteria\",\"OTHERS\"]],\"hovertemplate\":\"<b>%{hovertext}</b><br><br>Species=%{customdata[1]}<br>pm1=%{x}<br>pm2=%{y}<br>Unnamed: 0=%{customdata[0]}<br>Kingdom=%{customdata[2]}<br>Family=%{customdata[3]}<br>Color_eukaryota=%{customdata[4]}<extra></extra>\",\"hovertext\":[\"Corynebacterium\",\"Corynebacterium\"],\"legendgroup\":\"Corynebacterium\",\"marker\":{\"color\":\"#34b8e7\",\"symbol\":\"circle\"},\"mode\":\"markers\",\"name\":\"Corynebacterium\",\"orientation\":\"v\",\"showlegend\":true,\"x\":[0.41841847,-0.2712865],\"xaxis\":\"x\",\"y\":[0.7231549,0.17064403],\"yaxis\":\"y\",\"type\":\"scatter\"},{\"customdata\":[[129,\"Thermobifida\",\"Bacteria\",\"Actinobacteria\",\"OTHERS\"],[131,\"Thermobifida\",\"Bacteria\",\"Actinobacteria\",\"OTHERS\"],[137,\"Thermobifida\",\"Bacteria\",\"Actinobacteria\",\"OTHERS\"]],\"hovertemplate\":\"<b>%{hovertext}</b><br><br>Species=%{customdata[1]}<br>pm1=%{x}<br>pm2=%{y}<br>Unnamed: 0=%{customdata[0]}<br>Kingdom=%{customdata[2]}<br>Family=%{customdata[3]}<br>Color_eukaryota=%{customdata[4]}<extra></extra>\",\"hovertext\":[\"Thermobifida\",\"Thermobifida\",\"Thermobifida\"],\"legendgroup\":\"Thermobifida\",\"marker\":{\"color\":\"#34b8e7\",\"symbol\":\"circle\"},\"mode\":\"markers\",\"name\":\"Thermobifida\",\"orientation\":\"v\",\"showlegend\":true,\"x\":[0.419354,0.45698664,-0.5123016],\"xaxis\":\"x\",\"y\":[0.6854231,0.7494364,-0.04477517],\"yaxis\":\"y\",\"type\":\"scatter\"},{\"customdata\":[[130,\"Streptomyces\",\"Bacteria\",\"Actinobacteria\",\"OTHERS\"],[133,\"Streptomyces\",\"Bacteria\",\"Actinobacteria\",\"OTHERS\"],[135,\"Streptomyces\",\"Bacteria\",\"Actinobacteria\",\"OTHERS\"],[138,\"Streptomyces\",\"Bacteria\",\"Actinobacteria\",\"OTHERS\"]],\"hovertemplate\":\"<b>%{hovertext}</b><br><br>Species=%{customdata[1]}<br>pm1=%{x}<br>pm2=%{y}<br>Unnamed: 0=%{customdata[0]}<br>Kingdom=%{customdata[2]}<br>Family=%{customdata[3]}<br>Color_eukaryota=%{customdata[4]}<extra></extra>\",\"hovertext\":[\"Streptomyces\",\"Streptomyces\",\"Streptomyces\",\"Streptomyces\"],\"legendgroup\":\"Streptomyces\",\"marker\":{\"color\":\"#34b8e7\",\"symbol\":\"circle\"},\"mode\":\"markers\",\"name\":\"Streptomyces\",\"orientation\":\"v\",\"showlegend\":true,\"x\":[0.4400139,-0.4705223,-0.59372216,-0.53303576],\"xaxis\":\"x\",\"y\":[0.733868,0.22971208,-0.0010232633,-0.057835992],\"yaxis\":\"y\",\"type\":\"scatter\"},{\"customdata\":[[139,\"Synechocystis\",\"Bacteria\",\"Cyanobacteria\",\"OTHERS\"],[142,\"Synechocystis\",\"Bacteria\",\"Cyanobacteria\",\"OTHERS\"],[145,\"Synechocystis\",\"Bacteria\",\"Cyanobacteria\",\"OTHERS\"],[152,\"Synechocystis\",\"Bacteria\",\"Cyanobacteria\",\"OTHERS\"]],\"hovertemplate\":\"<b>%{hovertext}</b><br><br>Species=%{customdata[1]}<br>pm1=%{x}<br>pm2=%{y}<br>Unnamed: 0=%{customdata[0]}<br>Kingdom=%{customdata[2]}<br>Family=%{customdata[3]}<br>Color_eukaryota=%{customdata[4]}<extra></extra>\",\"hovertext\":[\"Synechocystis\",\"Synechocystis\",\"Synechocystis\",\"Synechocystis\"],\"legendgroup\":\"Synechocystis\",\"marker\":{\"color\":\"#34b8e7\",\"symbol\":\"circle\"},\"mode\":\"markers\",\"name\":\"Synechocystis\",\"orientation\":\"v\",\"showlegend\":true,\"x\":[-0.5132927,-0.44145852,-0.41573173,-0.59840566],\"xaxis\":\"x\",\"y\":[-0.12104343,0.2612774,-0.12877867,0.12554613],\"yaxis\":\"y\",\"type\":\"scatter\"},{\"customdata\":[[140,\"Nostoc\",\"Bacteria\",\"Cyanobacteria\",\"OTHERS\"],[141,\"Nostoc\",\"Bacteria\",\"Cyanobacteria\",\"OTHERS\"],[147,\"Nostoc\",\"Bacteria\",\"Cyanobacteria\",\"OTHERS\"],[148,\"Nostoc\",\"Bacteria\",\"Cyanobacteria\",\"OTHERS\"],[150,\"Nostoc\",\"Bacteria\",\"Cyanobacteria\",\"OTHERS\"]],\"hovertemplate\":\"<b>%{hovertext}</b><br><br>Species=%{customdata[1]}<br>pm1=%{x}<br>pm2=%{y}<br>Unnamed: 0=%{customdata[0]}<br>Kingdom=%{customdata[2]}<br>Family=%{customdata[3]}<br>Color_eukaryota=%{customdata[4]}<extra></extra>\",\"hovertext\":[\"Nostoc\",\"Nostoc\",\"Nostoc\",\"Nostoc\",\"Nostoc\"],\"legendgroup\":\"Nostoc\",\"marker\":{\"color\":\"#34b8e7\",\"symbol\":\"circle\"},\"mode\":\"markers\",\"name\":\"Nostoc\",\"orientation\":\"v\",\"showlegend\":true,\"x\":[-0.5349942,-0.4261378,-0.46238548,-0.37522948,-0.6384721],\"xaxis\":\"x\",\"y\":[-0.15579337,0.27049848,0.016929682,0.08543841,0.18293057],\"yaxis\":\"y\",\"type\":\"scatter\"},{\"customdata\":[[143,\"Thermosynechococcus\",\"Bacteria\",\"Cyanobacteria\",\"OTHERS\"],[144,\"Thermosynechococcus\",\"Bacteria\",\"Cyanobacteria\",\"OTHERS\"],[146,\"Thermosynechococcus\",\"Bacteria\",\"Cyanobacteria\",\"OTHERS\"],[149,\"Thermosynechococcus\",\"Bacteria\",\"Cyanobacteria\",\"OTHERS\"]],\"hovertemplate\":\"<b>%{hovertext}</b><br><br>Species=%{customdata[1]}<br>pm1=%{x}<br>pm2=%{y}<br>Unnamed: 0=%{customdata[0]}<br>Kingdom=%{customdata[2]}<br>Family=%{customdata[3]}<br>Color_eukaryota=%{customdata[4]}<extra></extra>\",\"hovertext\":[\"Thermosynechococcus\",\"Thermosynechococcus\",\"Thermosynechococcus\",\"Thermosynechococcus\"],\"legendgroup\":\"Thermosynechococcus\",\"marker\":{\"color\":\"#34b8e7\",\"symbol\":\"circle\"},\"mode\":\"markers\",\"name\":\"Thermosynechococcus\",\"orientation\":\"v\",\"showlegend\":true,\"x\":[-0.41694528,-0.2579455,-0.46435878,-0.5503101],\"xaxis\":\"x\",\"y\":[0.27646095,0.4915565,-0.20486702,0.16840756],\"yaxis\":\"y\",\"type\":\"scatter\"},{\"customdata\":[[151,\"Prochlorococcus\",\"Bacteria\",\"Cyanobacteria\",\"OTHERS\"]],\"hovertemplate\":\"<b>%{hovertext}</b><br><br>Species=%{customdata[1]}<br>pm1=%{x}<br>pm2=%{y}<br>Unnamed: 0=%{customdata[0]}<br>Kingdom=%{customdata[2]}<br>Family=%{customdata[3]}<br>Color_eukaryota=%{customdata[4]}<extra></extra>\",\"hovertext\":[\"Prochlorococcus\"],\"legendgroup\":\"Prochlorococcus\",\"marker\":{\"color\":\"#34b8e7\",\"symbol\":\"circle\"},\"mode\":\"markers\",\"name\":\"Prochlorococcus\",\"orientation\":\"v\",\"showlegend\":true,\"x\":[-0.70215195],\"xaxis\":\"x\",\"y\":[0.14980187],\"yaxis\":\"y\",\"type\":\"scatter\"},{\"customdata\":[[153,\"Nostoc1\",\"Bacteria\",\"Cyanobacteria\",\"OTHERS\"]],\"hovertemplate\":\"<b>%{hovertext}</b><br><br>Species=%{customdata[1]}<br>pm1=%{x}<br>pm2=%{y}<br>Unnamed: 0=%{customdata[0]}<br>Kingdom=%{customdata[2]}<br>Family=%{customdata[3]}<br>Color_eukaryota=%{customdata[4]}<extra></extra>\",\"hovertext\":[\"Nostoc1\"],\"legendgroup\":\"Nostoc1\",\"marker\":{\"color\":\"#34b8e7\",\"symbol\":\"circle\"},\"mode\":\"markers\",\"name\":\"Nostoc1\",\"orientation\":\"v\",\"showlegend\":true,\"x\":[-0.5684718],\"xaxis\":\"x\",\"y\":[0.19502771],\"yaxis\":\"y\",\"type\":\"scatter\"},{\"customdata\":[[154,\"Pea Chloroplast\",\"Eukaryota\",\"Viridiplantae\",\"CHLOROPLAST\"]],\"hovertemplate\":\"<b>%{hovertext}</b><br><br>Species=%{customdata[1]}<br>pm1=%{x}<br>pm2=%{y}<br>Unnamed: 0=%{customdata[0]}<br>Kingdom=%{customdata[2]}<br>Family=%{customdata[3]}<br>Color_eukaryota=%{customdata[4]}<extra></extra>\",\"hovertext\":[\"Pea Chloroplast\"],\"legendgroup\":\"Pea Chloroplast\",\"marker\":{\"color\":\"#06f9d4\",\"symbol\":\"circle\"},\"mode\":\"markers\",\"name\":\"Pea Chloroplast\",\"orientation\":\"v\",\"showlegend\":true,\"x\":[-0.893399],\"xaxis\":\"x\",\"y\":[0.07486735],\"yaxis\":\"y\",\"type\":\"scatter\"},{\"customdata\":[[155,\"Spiol Chloroplast\",\"Eukaryota\",\"Viridiplantae\",\"CHLOROPLAST\"]],\"hovertemplate\":\"<b>%{hovertext}</b><br><br>Species=%{customdata[1]}<br>pm1=%{x}<br>pm2=%{y}<br>Unnamed: 0=%{customdata[0]}<br>Kingdom=%{customdata[2]}<br>Family=%{customdata[3]}<br>Color_eukaryota=%{customdata[4]}<extra></extra>\",\"hovertext\":[\"Spiol Chloroplast\"],\"legendgroup\":\"Spiol Chloroplast\",\"marker\":{\"color\":\"#06f9d4\",\"symbol\":\"circle\"},\"mode\":\"markers\",\"name\":\"Spiol Chloroplast\",\"orientation\":\"v\",\"showlegend\":true,\"x\":[-0.902195],\"xaxis\":\"x\",\"y\":[0.09746036],\"yaxis\":\"y\",\"type\":\"scatter\"},{\"customdata\":[[156,\"Wheat Chloroplast\",\"Eukaryota\",\"Viridiplantae\",\"CHLOROPLAST\"]],\"hovertemplate\":\"<b>%{hovertext}</b><br><br>Species=%{customdata[1]}<br>pm1=%{x}<br>pm2=%{y}<br>Unnamed: 0=%{customdata[0]}<br>Kingdom=%{customdata[2]}<br>Family=%{customdata[3]}<br>Color_eukaryota=%{customdata[4]}<extra></extra>\",\"hovertext\":[\"Wheat Chloroplast\"],\"legendgroup\":\"Wheat Chloroplast\",\"marker\":{\"color\":\"#06f9d4\",\"symbol\":\"circle\"},\"mode\":\"markers\",\"name\":\"Wheat Chloroplast\",\"orientation\":\"v\",\"showlegend\":true,\"x\":[-0.92606837],\"xaxis\":\"x\",\"y\":[0.08834685],\"yaxis\":\"y\",\"type\":\"scatter\"},{\"customdata\":[[157,\"Pisum Chloroplast\",\"Eukaryota\",\"Viridiplantae\",\"CHLOROPLAST\"]],\"hovertemplate\":\"<b>%{hovertext}</b><br><br>Species=%{customdata[1]}<br>pm1=%{x}<br>pm2=%{y}<br>Unnamed: 0=%{customdata[0]}<br>Kingdom=%{customdata[2]}<br>Family=%{customdata[3]}<br>Color_eukaryota=%{customdata[4]}<extra></extra>\",\"hovertext\":[\"Pisum Chloroplast\"],\"legendgroup\":\"Pisum Chloroplast\",\"marker\":{\"color\":\"#06f9d4\",\"symbol\":\"circle\"},\"mode\":\"markers\",\"name\":\"Pisum Chloroplast\",\"orientation\":\"v\",\"showlegend\":true,\"x\":[-0.91387284],\"xaxis\":\"x\",\"y\":[0.112798795],\"yaxis\":\"y\",\"type\":\"scatter\"},{\"customdata\":[[158,\"Brana Chloroplast\",\"Eukaryota\",\"Viridiplantae\",\"CHLOROPLAST\"]],\"hovertemplate\":\"<b>%{hovertext}</b><br><br>Species=%{customdata[1]}<br>pm1=%{x}<br>pm2=%{y}<br>Unnamed: 0=%{customdata[0]}<br>Kingdom=%{customdata[2]}<br>Family=%{customdata[3]}<br>Color_eukaryota=%{customdata[4]}<extra></extra>\",\"hovertext\":[\"Brana Chloroplast\"],\"legendgroup\":\"Brana Chloroplast\",\"marker\":{\"color\":\"#06f9d4\",\"symbol\":\"circle\"},\"mode\":\"markers\",\"name\":\"Brana Chloroplast\",\"orientation\":\"v\",\"showlegend\":true,\"x\":[-0.90061724],\"xaxis\":\"x\",\"y\":[0.13252468],\"yaxis\":\"y\",\"type\":\"scatter\"},{\"customdata\":[[159,\"Thermus\",\"Bacteria\",\"Deinococcus-Thermus\",\"OTHERS\"],[161,\"Thermus\",\"Bacteria\",\"Deinococcus-Thermus\",\"OTHERS\"]],\"hovertemplate\":\"<b>%{hovertext}</b><br><br>Species=%{customdata[1]}<br>pm1=%{x}<br>pm2=%{y}<br>Unnamed: 0=%{customdata[0]}<br>Kingdom=%{customdata[2]}<br>Family=%{customdata[3]}<br>Color_eukaryota=%{customdata[4]}<extra></extra>\",\"hovertext\":[\"Thermus\",\"Thermus\"],\"legendgroup\":\"Thermus\",\"marker\":{\"color\":\"#34b8e7\",\"symbol\":\"circle\"},\"mode\":\"markers\",\"name\":\"Thermus\",\"orientation\":\"v\",\"showlegend\":true,\"x\":[-0.53226596,-0.3769693],\"xaxis\":\"x\",\"y\":[0.45762247,0.021650754],\"yaxis\":\"y\",\"type\":\"scatter\"},{\"customdata\":[[160,\"Deinococcus\",\"Bacteria\",\"Deinococcus-Thermus\",\"OTHERS\"],[162,\"Deinococcus\",\"Bacteria\",\"Deinococcus-Thermus\",\"OTHERS\"]],\"hovertemplate\":\"<b>%{hovertext}</b><br><br>Species=%{customdata[1]}<br>pm1=%{x}<br>pm2=%{y}<br>Unnamed: 0=%{customdata[0]}<br>Kingdom=%{customdata[2]}<br>Family=%{customdata[3]}<br>Color_eukaryota=%{customdata[4]}<extra></extra>\",\"hovertext\":[\"Deinococcus\",\"Deinococcus\"],\"legendgroup\":\"Deinococcus\",\"marker\":{\"color\":\"#34b8e7\",\"symbol\":\"circle\"},\"mode\":\"markers\",\"name\":\"Deinococcus\",\"orientation\":\"v\",\"showlegend\":true,\"x\":[-0.5394886,-0.25490254],\"xaxis\":\"x\",\"y\":[0.3849956,0.07630104],\"yaxis\":\"y\",\"type\":\"scatter\"},{\"customdata\":[[163,\"Dehalococcoides\",\"Bacteria\",\"Chloroflexi\",\"OTHERS\"]],\"hovertemplate\":\"<b>%{hovertext}</b><br><br>Species=%{customdata[1]}<br>pm1=%{x}<br>pm2=%{y}<br>Unnamed: 0=%{customdata[0]}<br>Kingdom=%{customdata[2]}<br>Family=%{customdata[3]}<br>Color_eukaryota=%{customdata[4]}<extra></extra>\",\"hovertext\":[\"Dehalococcoides\"],\"legendgroup\":\"Dehalococcoides\",\"marker\":{\"color\":\"#34b8e7\",\"symbol\":\"circle\"},\"mode\":\"markers\",\"name\":\"Dehalococcoides\",\"orientation\":\"v\",\"showlegend\":true,\"x\":[-0.2231909],\"xaxis\":\"x\",\"y\":[0.183856],\"yaxis\":\"y\",\"type\":\"scatter\"},{\"customdata\":[[164,\"Chloroflexus\",\"Bacteria\",\"Chloroflexi\",\"OTHERS\"],[165,\"Chloroflexus\",\"Bacteria\",\"Chloroflexi\",\"OTHERS\"],[166,\"Chloroflexus\",\"Bacteria\",\"Chloroflexi\",\"OTHERS\"]],\"hovertemplate\":\"<b>%{hovertext}</b><br><br>Species=%{customdata[1]}<br>pm1=%{x}<br>pm2=%{y}<br>Unnamed: 0=%{customdata[0]}<br>Kingdom=%{customdata[2]}<br>Family=%{customdata[3]}<br>Color_eukaryota=%{customdata[4]}<extra></extra>\",\"hovertext\":[\"Chloroflexus\",\"Chloroflexus\",\"Chloroflexus\"],\"legendgroup\":\"Chloroflexus\",\"marker\":{\"color\":\"#34b8e7\",\"symbol\":\"circle\"},\"mode\":\"markers\",\"name\":\"Chloroflexus\",\"orientation\":\"v\",\"showlegend\":true,\"x\":[-0.4066253,-0.44063956,-0.43379545],\"xaxis\":\"x\",\"y\":[0.42475483,0.030301306,-0.08301372],\"yaxis\":\"y\",\"type\":\"scatter\"},{\"customdata\":[[167,\"Aquifex\",\"Bacteria\",\"Aquificae\",\"OTHERS\"]],\"hovertemplate\":\"<b>%{hovertext}</b><br><br>Species=%{customdata[1]}<br>pm1=%{x}<br>pm2=%{y}<br>Unnamed: 0=%{customdata[0]}<br>Kingdom=%{customdata[2]}<br>Family=%{customdata[3]}<br>Color_eukaryota=%{customdata[4]}<extra></extra>\",\"hovertext\":[\"Aquifex\"],\"legendgroup\":\"Aquifex\",\"marker\":{\"color\":\"#34b8e7\",\"symbol\":\"circle\"},\"mode\":\"markers\",\"name\":\"Aquifex\",\"orientation\":\"v\",\"showlegend\":true,\"x\":[-0.2846112],\"xaxis\":\"x\",\"y\":[0.017702222],\"yaxis\":\"y\",\"type\":\"scatter\"},{\"customdata\":[[168,\"Bdellovibrio\",\"Bacteria\",\"Proteobacteria\",\"OTHERS\"],[170,\"Bdellovibrio\",\"Bacteria\",\"Proteobacteria\",\"OTHERS\"]],\"hovertemplate\":\"<b>%{hovertext}</b><br><br>Species=%{customdata[1]}<br>pm1=%{x}<br>pm2=%{y}<br>Unnamed: 0=%{customdata[0]}<br>Kingdom=%{customdata[2]}<br>Family=%{customdata[3]}<br>Color_eukaryota=%{customdata[4]}<extra></extra>\",\"hovertext\":[\"Bdellovibrio\",\"Bdellovibrio\"],\"legendgroup\":\"Bdellovibrio\",\"marker\":{\"color\":\"#34b8e7\",\"symbol\":\"circle\"},\"mode\":\"markers\",\"name\":\"Bdellovibrio\",\"orientation\":\"v\",\"showlegend\":true,\"x\":[0.47840363,-0.59789884],\"xaxis\":\"x\",\"y\":[0.7225364,-0.029631713],\"yaxis\":\"y\",\"type\":\"scatter\"},{\"customdata\":[[169,\"Geobacter\",\"Bacteria\",\"Proteobacteria\",\"OTHERS\"],[172,\"Geobacter\",\"Bacteria\",\"Proteobacteria\",\"OTHERS\"]],\"hovertemplate\":\"<b>%{hovertext}</b><br><br>Species=%{customdata[1]}<br>pm1=%{x}<br>pm2=%{y}<br>Unnamed: 0=%{customdata[0]}<br>Kingdom=%{customdata[2]}<br>Family=%{customdata[3]}<br>Color_eukaryota=%{customdata[4]}<extra></extra>\",\"hovertext\":[\"Geobacter\",\"Geobacter\"],\"legendgroup\":\"Geobacter\",\"marker\":{\"color\":\"#34b8e7\",\"symbol\":\"circle\"},\"mode\":\"markers\",\"name\":\"Geobacter\",\"orientation\":\"v\",\"showlegend\":true,\"x\":[-0.6129281,-0.31664914],\"xaxis\":\"x\",\"y\":[0.51219404,-0.031358954],\"yaxis\":\"y\",\"type\":\"scatter\"},{\"customdata\":[[171,\"Desulfovibrio\",\"Bacteria\",\"Proteobacteria\",\"OTHERS\"]],\"hovertemplate\":\"<b>%{hovertext}</b><br><br>Species=%{customdata[1]}<br>pm1=%{x}<br>pm2=%{y}<br>Unnamed: 0=%{customdata[0]}<br>Kingdom=%{customdata[2]}<br>Family=%{customdata[3]}<br>Color_eukaryota=%{customdata[4]}<extra></extra>\",\"hovertext\":[\"Desulfovibrio\"],\"legendgroup\":\"Desulfovibrio\",\"marker\":{\"color\":\"#34b8e7\",\"symbol\":\"circle\"},\"mode\":\"markers\",\"name\":\"Desulfovibrio\",\"orientation\":\"v\",\"showlegend\":true,\"x\":[-0.40268102],\"xaxis\":\"x\",\"y\":[0.15824784],\"yaxis\":\"y\",\"type\":\"scatter\"},{\"customdata\":[[173,\"Solibacter\",\"Bacteria\",\"Acidobacteria\",\"OTHERS\"],[174,\"Solibacter\",\"Bacteria\",\"Acidobacteria\",\"OTHERS\"]],\"hovertemplate\":\"<b>%{hovertext}</b><br><br>Species=%{customdata[1]}<br>pm1=%{x}<br>pm2=%{y}<br>Unnamed: 0=%{customdata[0]}<br>Kingdom=%{customdata[2]}<br>Family=%{customdata[3]}<br>Color_eukaryota=%{customdata[4]}<extra></extra>\",\"hovertext\":[\"Solibacter\",\"Solibacter\"],\"legendgroup\":\"Solibacter\",\"marker\":{\"color\":\"#34b8e7\",\"symbol\":\"circle\"},\"mode\":\"markers\",\"name\":\"Solibacter\",\"orientation\":\"v\",\"showlegend\":true,\"x\":[-0.573715,-0.32787043],\"xaxis\":\"x\",\"y\":[0.4495816,-0.045197375],\"yaxis\":\"y\",\"type\":\"scatter\"},{\"customdata\":[[175,\"Acidobacteria\",\"Bacteria\",\"Acidobacteria\",\"OTHERS\"]],\"hovertemplate\":\"<b>%{hovertext}</b><br><br>Species=%{customdata[1]}<br>pm1=%{x}<br>pm2=%{y}<br>Unnamed: 0=%{customdata[0]}<br>Kingdom=%{customdata[2]}<br>Family=%{customdata[3]}<br>Color_eukaryota=%{customdata[4]}<extra></extra>\",\"hovertext\":[\"Acidobacteria\"],\"legendgroup\":\"Acidobacteria\",\"marker\":{\"color\":\"#34b8e7\",\"symbol\":\"circle\"},\"mode\":\"markers\",\"name\":\"Acidobacteria\",\"orientation\":\"v\",\"showlegend\":true,\"x\":[-0.31775817],\"xaxis\":\"x\",\"y\":[-0.04205217],\"yaxis\":\"y\",\"type\":\"scatter\"},{\"customdata\":[[176,\"Wolinella\",\"Bacteria\",\"Proteobacteria\",\"OTHERS\"],[180,\"Wolinella\",\"Bacteria\",\"Proteobacteria\",\"OTHERS\"],[181,\"Wolinella\",\"Bacteria\",\"Proteobacteria\",\"OTHERS\"]],\"hovertemplate\":\"<b>%{hovertext}</b><br><br>Species=%{customdata[1]}<br>pm1=%{x}<br>pm2=%{y}<br>Unnamed: 0=%{customdata[0]}<br>Kingdom=%{customdata[2]}<br>Family=%{customdata[3]}<br>Color_eukaryota=%{customdata[4]}<extra></extra>\",\"hovertext\":[\"Wolinella\",\"Wolinella\",\"Wolinella\"],\"legendgroup\":\"Wolinella\",\"marker\":{\"color\":\"#34b8e7\",\"symbol\":\"circle\"},\"mode\":\"markers\",\"name\":\"Wolinella\",\"orientation\":\"v\",\"showlegend\":true,\"x\":[0.06976827,-0.19033322,-0.1885761],\"xaxis\":\"x\",\"y\":[0.031915132,0.28980556,0.2747724],\"yaxis\":\"y\",\"type\":\"scatter\"},{\"customdata\":[[177,\"Helicobacter\",\"Bacteria\",\"Proteobacteria\",\"OTHERS\"],[179,\"Helicobacter\",\"Bacteria\",\"Proteobacteria\",\"OTHERS\"]],\"hovertemplate\":\"<b>%{hovertext}</b><br><br>Species=%{customdata[1]}<br>pm1=%{x}<br>pm2=%{y}<br>Unnamed: 0=%{customdata[0]}<br>Kingdom=%{customdata[2]}<br>Family=%{customdata[3]}<br>Color_eukaryota=%{customdata[4]}<extra></extra>\",\"hovertext\":[\"Helicobacter\",\"Helicobacter\"],\"legendgroup\":\"Helicobacter\",\"marker\":{\"color\":\"#34b8e7\",\"symbol\":\"circle\"},\"mode\":\"markers\",\"name\":\"Helicobacter\",\"orientation\":\"v\",\"showlegend\":true,\"x\":[0.03640933,0.13956913],\"xaxis\":\"x\",\"y\":[-0.00055778655,-0.025049368],\"yaxis\":\"y\",\"type\":\"scatter\"},{\"customdata\":[[178,\"Campylobacter\",\"Bacteria\",\"Proteobacteria\",\"OTHERS\"]],\"hovertemplate\":\"<b>%{hovertext}</b><br><br>Species=%{customdata[1]}<br>pm1=%{x}<br>pm2=%{y}<br>Unnamed: 0=%{customdata[0]}<br>Kingdom=%{customdata[2]}<br>Family=%{customdata[3]}<br>Color_eukaryota=%{customdata[4]}<extra></extra>\",\"hovertext\":[\"Campylobacter\"],\"legendgroup\":\"Campylobacter\",\"marker\":{\"color\":\"#34b8e7\",\"symbol\":\"circle\"},\"mode\":\"markers\",\"name\":\"Campylobacter\",\"orientation\":\"v\",\"showlegend\":true,\"x\":[0.10655215],\"xaxis\":\"x\",\"y\":[-0.025732454],\"yaxis\":\"y\",\"type\":\"scatter\"},{\"customdata\":[[182,\"Agrobacterium\",\"Bacteria\",\"Proteobacteria\",\"OTHERS\"]],\"hovertemplate\":\"<b>%{hovertext}</b><br><br>Species=%{customdata[1]}<br>pm1=%{x}<br>pm2=%{y}<br>Unnamed: 0=%{customdata[0]}<br>Kingdom=%{customdata[2]}<br>Family=%{customdata[3]}<br>Color_eukaryota=%{customdata[4]}<extra></extra>\",\"hovertext\":[\"Agrobacterium\"],\"legendgroup\":\"Agrobacterium\",\"marker\":{\"color\":\"#34b8e7\",\"symbol\":\"circle\"},\"mode\":\"markers\",\"name\":\"Agrobacterium\",\"orientation\":\"v\",\"showlegend\":true,\"x\":[-0.47845575],\"xaxis\":\"x\",\"y\":[0.051707365],\"yaxis\":\"y\",\"type\":\"scatter\"},{\"customdata\":[[183,\"Sinorhizobium\",\"Bacteria\",\"Proteobacteria\",\"OTHERS\"]],\"hovertemplate\":\"<b>%{hovertext}</b><br><br>Species=%{customdata[1]}<br>pm1=%{x}<br>pm2=%{y}<br>Unnamed: 0=%{customdata[0]}<br>Kingdom=%{customdata[2]}<br>Family=%{customdata[3]}<br>Color_eukaryota=%{customdata[4]}<extra></extra>\",\"hovertext\":[\"Sinorhizobium\"],\"legendgroup\":\"Sinorhizobium\",\"marker\":{\"color\":\"#34b8e7\",\"symbol\":\"circle\"},\"mode\":\"markers\",\"name\":\"Sinorhizobium\",\"orientation\":\"v\",\"showlegend\":true,\"x\":[-0.49262312],\"xaxis\":\"x\",\"y\":[0.058412302],\"yaxis\":\"y\",\"type\":\"scatter\"},{\"customdata\":[[184,\"Brucella\",\"Bacteria\",\"Proteobacteria\",\"OTHERS\"]],\"hovertemplate\":\"<b>%{hovertext}</b><br><br>Species=%{customdata[1]}<br>pm1=%{x}<br>pm2=%{y}<br>Unnamed: 0=%{customdata[0]}<br>Kingdom=%{customdata[2]}<br>Family=%{customdata[3]}<br>Color_eukaryota=%{customdata[4]}<extra></extra>\",\"hovertext\":[\"Brucella\"],\"legendgroup\":\"Brucella\",\"marker\":{\"color\":\"#34b8e7\",\"symbol\":\"circle\"},\"mode\":\"markers\",\"name\":\"Brucella\",\"orientation\":\"v\",\"showlegend\":true,\"x\":[-0.4653748],\"xaxis\":\"x\",\"y\":[0.045376986],\"yaxis\":\"y\",\"type\":\"scatter\"},{\"customdata\":[[185,\"Rickettsia\",\"Bacteria\",\"Proteobacteria\",\"OTHERS\"]],\"hovertemplate\":\"<b>%{hovertext}</b><br><br>Species=%{customdata[1]}<br>pm1=%{x}<br>pm2=%{y}<br>Unnamed: 0=%{customdata[0]}<br>Kingdom=%{customdata[2]}<br>Family=%{customdata[3]}<br>Color_eukaryota=%{customdata[4]}<extra></extra>\",\"hovertext\":[\"Rickettsia\"],\"legendgroup\":\"Rickettsia\",\"marker\":{\"color\":\"#34b8e7\",\"symbol\":\"circle\"},\"mode\":\"markers\",\"name\":\"Rickettsia\",\"orientation\":\"v\",\"showlegend\":true,\"x\":[-0.5998154],\"xaxis\":\"x\",\"y\":[0.07573634],\"yaxis\":\"y\",\"type\":\"scatter\"},{\"customdata\":[[186,\"Bovin Mitochondrio\",\"Eukaryota\",\"Metazoa\",\"MITOCHONDRION\"]],\"hovertemplate\":\"<b>%{hovertext}</b><br><br>Species=%{customdata[1]}<br>pm1=%{x}<br>pm2=%{y}<br>Unnamed: 0=%{customdata[0]}<br>Kingdom=%{customdata[2]}<br>Family=%{customdata[3]}<br>Color_eukaryota=%{customdata[4]}<extra></extra>\",\"hovertext\":[\"Bovin Mitochondrio\"],\"legendgroup\":\"Bovin Mitochondrio\",\"marker\":{\"color\":\"#61ff06\",\"symbol\":\"circle\"},\"mode\":\"markers\",\"name\":\"Bovin Mitochondrio\",\"orientation\":\"v\",\"showlegend\":true,\"x\":[-0.20664912],\"xaxis\":\"x\",\"y\":[0.88931066],\"yaxis\":\"y\",\"type\":\"scatter\"},{\"customdata\":[[188,\"Homo Mitochondrion\",\"Eukaryota\",\"Metazoa\",\"MITOCHONDRION\"]],\"hovertemplate\":\"<b>%{hovertext}</b><br><br>Species=%{customdata[1]}<br>pm1=%{x}<br>pm2=%{y}<br>Unnamed: 0=%{customdata[0]}<br>Kingdom=%{customdata[2]}<br>Family=%{customdata[3]}<br>Color_eukaryota=%{customdata[4]}<extra></extra>\",\"hovertext\":[\"Homo Mitochondrion\"],\"legendgroup\":\"Homo Mitochondrion\",\"marker\":{\"color\":\"#61ff06\",\"symbol\":\"circle\"},\"mode\":\"markers\",\"name\":\"Homo Mitochondrion\",\"orientation\":\"v\",\"showlegend\":true,\"x\":[-0.22351855],\"xaxis\":\"x\",\"y\":[0.89191717],\"yaxis\":\"y\",\"type\":\"scatter\"},{\"customdata\":[[189,\"Rattus Mitochondrio\",\"Eukaryota\",\"Metazoa\",\"MITOCHONDRION\"]],\"hovertemplate\":\"<b>%{hovertext}</b><br><br>Species=%{customdata[1]}<br>pm1=%{x}<br>pm2=%{y}<br>Unnamed: 0=%{customdata[0]}<br>Kingdom=%{customdata[2]}<br>Family=%{customdata[3]}<br>Color_eukaryota=%{customdata[4]}<extra></extra>\",\"hovertext\":[\"Rattus Mitochondrio\"],\"legendgroup\":\"Rattus Mitochondrio\",\"marker\":{\"color\":\"#61ff06\",\"symbol\":\"circle\"},\"mode\":\"markers\",\"name\":\"Rattus Mitochondrio\",\"orientation\":\"v\",\"showlegend\":true,\"x\":[-0.20992838],\"xaxis\":\"x\",\"y\":[0.8760351],\"yaxis\":\"y\",\"type\":\"scatter\"},{\"customdata\":[[190,\"Mus Mitochondrion\",\"Eukaryota\",\"Metazoa\",\"MITOCHONDRION\"]],\"hovertemplate\":\"<b>%{hovertext}</b><br><br>Species=%{customdata[1]}<br>pm1=%{x}<br>pm2=%{y}<br>Unnamed: 0=%{customdata[0]}<br>Kingdom=%{customdata[2]}<br>Family=%{customdata[3]}<br>Color_eukaryota=%{customdata[4]}<extra></extra>\",\"hovertext\":[\"Mus Mitochondrion\"],\"legendgroup\":\"Mus Mitochondrion\",\"marker\":{\"color\":\"#61ff06\",\"symbol\":\"circle\"},\"mode\":\"markers\",\"name\":\"Mus Mitochondrion\",\"orientation\":\"v\",\"showlegend\":true,\"x\":[-0.22284974],\"xaxis\":\"x\",\"y\":[0.8761222],\"yaxis\":\"y\",\"type\":\"scatter\"},{\"customdata\":[[191,\"Thiobacillus\",\"Bacteria\",\"Proteobacteria\",\"OTHERS\"],[193,\"Thiobacillus\",\"Bacteria\",\"Proteobacteria\",\"OTHERS\"],[196,\"Thiobacillus\",\"Bacteria\",\"Proteobacteria\",\"OTHERS\"],[197,\"Thiobacillus\",\"Bacteria\",\"Proteobacteria\",\"OTHERS\"]],\"hovertemplate\":\"<b>%{hovertext}</b><br><br>Species=%{customdata[1]}<br>pm1=%{x}<br>pm2=%{y}<br>Unnamed: 0=%{customdata[0]}<br>Kingdom=%{customdata[2]}<br>Family=%{customdata[3]}<br>Color_eukaryota=%{customdata[4]}<extra></extra>\",\"hovertext\":[\"Thiobacillus\",\"Thiobacillus\",\"Thiobacillus\",\"Thiobacillus\"],\"legendgroup\":\"Thiobacillus\",\"marker\":{\"color\":\"#34b8e7\",\"symbol\":\"circle\"},\"mode\":\"markers\",\"name\":\"Thiobacillus\",\"orientation\":\"v\",\"showlegend\":true,\"x\":[-0.607912,-0.6280771,-0.6617774,0.4423491],\"xaxis\":\"x\",\"y\":[-0.16113551,-0.24951455,0.55019546,0.7123401],\"yaxis\":\"y\",\"type\":\"scatter\"},{\"customdata\":[[192,\"Neisseria\",\"Bacteria\",\"Proteobacteria\",\"OTHERS\"]],\"hovertemplate\":\"<b>%{hovertext}</b><br><br>Species=%{customdata[1]}<br>pm1=%{x}<br>pm2=%{y}<br>Unnamed: 0=%{customdata[0]}<br>Kingdom=%{customdata[2]}<br>Family=%{customdata[3]}<br>Color_eukaryota=%{customdata[4]}<extra></extra>\",\"hovertext\":[\"Neisseria\"],\"legendgroup\":\"Neisseria\",\"marker\":{\"color\":\"#34b8e7\",\"symbol\":\"circle\"},\"mode\":\"markers\",\"name\":\"Neisseria\",\"orientation\":\"v\",\"showlegend\":true,\"x\":[-0.5587061],\"xaxis\":\"x\",\"y\":[-0.27734688],\"yaxis\":\"y\",\"type\":\"scatter\"},{\"customdata\":[[194,\"Burkholderia\",\"Bacteria\",\"Proteobacteria\",\"OTHERS\"]],\"hovertemplate\":\"<b>%{hovertext}</b><br><br>Species=%{customdata[1]}<br>pm1=%{x}<br>pm2=%{y}<br>Unnamed: 0=%{customdata[0]}<br>Kingdom=%{customdata[2]}<br>Family=%{customdata[3]}<br>Color_eukaryota=%{customdata[4]}<extra></extra>\",\"hovertext\":[\"Burkholderia\"],\"legendgroup\":\"Burkholderia\",\"marker\":{\"color\":\"#34b8e7\",\"symbol\":\"circle\"},\"mode\":\"markers\",\"name\":\"Burkholderia\",\"orientation\":\"v\",\"showlegend\":true,\"x\":[-0.62405807],\"xaxis\":\"x\",\"y\":[-0.22697836],\"yaxis\":\"y\",\"type\":\"scatter\"},{\"customdata\":[[195,\"Bordetella\",\"Bacteria\",\"Proteobacteria\",\"OTHERS\"],[198,\"Bordetella\",\"Bacteria\",\"Proteobacteria\",\"OTHERS\"]],\"hovertemplate\":\"<b>%{hovertext}</b><br><br>Species=%{customdata[1]}<br>pm1=%{x}<br>pm2=%{y}<br>Unnamed: 0=%{customdata[0]}<br>Kingdom=%{customdata[2]}<br>Family=%{customdata[3]}<br>Color_eukaryota=%{customdata[4]}<extra></extra>\",\"hovertext\":[\"Bordetella\",\"Bordetella\"],\"legendgroup\":\"Bordetella\",\"marker\":{\"color\":\"#34b8e7\",\"symbol\":\"circle\"},\"mode\":\"markers\",\"name\":\"Bordetella\",\"orientation\":\"v\",\"showlegend\":true,\"x\":[-0.6326398,0.46249324],\"xaxis\":\"x\",\"y\":[-0.2552636,0.6942224],\"yaxis\":\"y\",\"type\":\"scatter\"},{\"customdata\":[[199,\"Pseudomonas\",\"Bacteria\",\"Proteobacteria\",\"OTHERS\"]],\"hovertemplate\":\"<b>%{hovertext}</b><br><br>Species=%{customdata[1]}<br>pm1=%{x}<br>pm2=%{y}<br>Unnamed: 0=%{customdata[0]}<br>Kingdom=%{customdata[2]}<br>Family=%{customdata[3]}<br>Color_eukaryota=%{customdata[4]}<extra></extra>\",\"hovertext\":[\"Pseudomonas\"],\"legendgroup\":\"Pseudomonas\",\"marker\":{\"color\":\"#34b8e7\",\"symbol\":\"circle\"},\"mode\":\"markers\",\"name\":\"Pseudomonas\",\"orientation\":\"v\",\"showlegend\":true,\"x\":[-0.60977554],\"xaxis\":\"x\",\"y\":[-0.25067425],\"yaxis\":\"y\",\"type\":\"scatter\"},{\"customdata\":[[200,\"Vibrio\",\"Bacteria\",\"Proteobacteria\",\"OTHERS\"],[209,\"Vibrio\",\"Bacteria\",\"Proteobacteria\",\"OTHERS\"]],\"hovertemplate\":\"<b>%{hovertext}</b><br><br>Species=%{customdata[1]}<br>pm1=%{x}<br>pm2=%{y}<br>Unnamed: 0=%{customdata[0]}<br>Kingdom=%{customdata[2]}<br>Family=%{customdata[3]}<br>Color_eukaryota=%{customdata[4]}<extra></extra>\",\"hovertext\":[\"Vibrio\",\"Vibrio\"],\"legendgroup\":\"Vibrio\",\"marker\":{\"color\":\"#34b8e7\",\"symbol\":\"circle\"},\"mode\":\"markers\",\"name\":\"Vibrio\",\"orientation\":\"v\",\"showlegend\":true,\"x\":[-0.56323713,-0.70694536],\"xaxis\":\"x\",\"y\":[-0.22406924,0.5236583],\"yaxis\":\"y\",\"type\":\"scatter\"},{\"customdata\":[[201,\"Yersinia\",\"Bacteria\",\"Proteobacteria\",\"OTHERS\"],[208,\"Yersinia\",\"Bacteria\",\"Proteobacteria\",\"OTHERS\"]],\"hovertemplate\":\"<b>%{hovertext}</b><br><br>Species=%{customdata[1]}<br>pm1=%{x}<br>pm2=%{y}<br>Unnamed: 0=%{customdata[0]}<br>Kingdom=%{customdata[2]}<br>Family=%{customdata[3]}<br>Color_eukaryota=%{customdata[4]}<extra></extra>\",\"hovertext\":[\"Yersinia\",\"Yersinia\"],\"legendgroup\":\"Yersinia\",\"marker\":{\"color\":\"#34b8e7\",\"symbol\":\"circle\"},\"mode\":\"markers\",\"name\":\"Yersinia\",\"orientation\":\"v\",\"showlegend\":true,\"x\":[-0.5814566,-0.7056638],\"xaxis\":\"x\",\"y\":[-0.22341898,0.54859596],\"yaxis\":\"y\",\"type\":\"scatter\"},{\"customdata\":[[202,\"Salmonella\",\"Bacteria\",\"Proteobacteria\",\"OTHERS\"],[207,\"Salmonella\",\"Bacteria\",\"Proteobacteria\",\"OTHERS\"]],\"hovertemplate\":\"<b>%{hovertext}</b><br><br>Species=%{customdata[1]}<br>pm1=%{x}<br>pm2=%{y}<br>Unnamed: 0=%{customdata[0]}<br>Kingdom=%{customdata[2]}<br>Family=%{customdata[3]}<br>Color_eukaryota=%{customdata[4]}<extra></extra>\",\"hovertext\":[\"Salmonella\",\"Salmonella\"],\"legendgroup\":\"Salmonella\",\"marker\":{\"color\":\"#34b8e7\",\"symbol\":\"circle\"},\"mode\":\"markers\",\"name\":\"Salmonella\",\"orientation\":\"v\",\"showlegend\":true,\"x\":[-0.5541258,-0.68600607],\"xaxis\":\"x\",\"y\":[-0.21708125,0.54138535],\"yaxis\":\"y\",\"type\":\"scatter\"},{\"customdata\":[[203,\"Shigella\",\"Bacteria\",\"Proteobacteria\",\"OTHERS\"],[206,\"Shigella\",\"Bacteria\",\"Proteobacteria\",\"OTHERS\"]],\"hovertemplate\":\"<b>%{hovertext}</b><br><br>Species=%{customdata[1]}<br>pm1=%{x}<br>pm2=%{y}<br>Unnamed: 0=%{customdata[0]}<br>Kingdom=%{customdata[2]}<br>Family=%{customdata[3]}<br>Color_eukaryota=%{customdata[4]}<extra></extra>\",\"hovertext\":[\"Shigella\",\"Shigella\"],\"legendgroup\":\"Shigella\",\"marker\":{\"color\":\"#34b8e7\",\"symbol\":\"circle\"},\"mode\":\"markers\",\"name\":\"Shigella\",\"orientation\":\"v\",\"showlegend\":true,\"x\":[-0.5649158,-0.69378144],\"xaxis\":\"x\",\"y\":[-0.21942209,0.5590662],\"yaxis\":\"y\",\"type\":\"scatter\"},{\"customdata\":[[204,\"Escherichia\",\"Bacteria\",\"Proteobacteria\",\"OTHERS\"],[205,\"Escherichia\",\"Bacteria\",\"Proteobacteria\",\"OTHERS\"]],\"hovertemplate\":\"<b>%{hovertext}</b><br><br>Species=%{customdata[1]}<br>pm1=%{x}<br>pm2=%{y}<br>Unnamed: 0=%{customdata[0]}<br>Kingdom=%{customdata[2]}<br>Family=%{customdata[3]}<br>Color_eukaryota=%{customdata[4]}<extra></extra>\",\"hovertext\":[\"Escherichia\",\"Escherichia\"],\"legendgroup\":\"Escherichia\",\"marker\":{\"color\":\"#34b8e7\",\"symbol\":\"circle\"},\"mode\":\"markers\",\"name\":\"Escherichia\",\"orientation\":\"v\",\"showlegend\":true,\"x\":[-0.570256,-0.6954032],\"xaxis\":\"x\",\"y\":[-0.19229974,0.54878783],\"yaxis\":\"y\",\"type\":\"scatter\"}],                        {\"template\":{\"data\":{\"histogram2dcontour\":[{\"type\":\"histogram2dcontour\",\"colorbar\":{\"outlinewidth\":0,\"ticks\":\"\"},\"colorscale\":[[0.0,\"#0d0887\"],[0.1111111111111111,\"#46039f\"],[0.2222222222222222,\"#7201a8\"],[0.3333333333333333,\"#9c179e\"],[0.4444444444444444,\"#bd3786\"],[0.5555555555555556,\"#d8576b\"],[0.6666666666666666,\"#ed7953\"],[0.7777777777777778,\"#fb9f3a\"],[0.8888888888888888,\"#fdca26\"],[1.0,\"#f0f921\"]]}],\"choropleth\":[{\"type\":\"choropleth\",\"colorbar\":{\"outlinewidth\":0,\"ticks\":\"\"}}],\"histogram2d\":[{\"type\":\"histogram2d\",\"colorbar\":{\"outlinewidth\":0,\"ticks\":\"\"},\"colorscale\":[[0.0,\"#0d0887\"],[0.1111111111111111,\"#46039f\"],[0.2222222222222222,\"#7201a8\"],[0.3333333333333333,\"#9c179e\"],[0.4444444444444444,\"#bd3786\"],[0.5555555555555556,\"#d8576b\"],[0.6666666666666666,\"#ed7953\"],[0.7777777777777778,\"#fb9f3a\"],[0.8888888888888888,\"#fdca26\"],[1.0,\"#f0f921\"]]}],\"heatmap\":[{\"type\":\"heatmap\",\"colorbar\":{\"outlinewidth\":0,\"ticks\":\"\"},\"colorscale\":[[0.0,\"#0d0887\"],[0.1111111111111111,\"#46039f\"],[0.2222222222222222,\"#7201a8\"],[0.3333333333333333,\"#9c179e\"],[0.4444444444444444,\"#bd3786\"],[0.5555555555555556,\"#d8576b\"],[0.6666666666666666,\"#ed7953\"],[0.7777777777777778,\"#fb9f3a\"],[0.8888888888888888,\"#fdca26\"],[1.0,\"#f0f921\"]]}],\"heatmapgl\":[{\"type\":\"heatmapgl\",\"colorbar\":{\"outlinewidth\":0,\"ticks\":\"\"},\"colorscale\":[[0.0,\"#0d0887\"],[0.1111111111111111,\"#46039f\"],[0.2222222222222222,\"#7201a8\"],[0.3333333333333333,\"#9c179e\"],[0.4444444444444444,\"#bd3786\"],[0.5555555555555556,\"#d8576b\"],[0.6666666666666666,\"#ed7953\"],[0.7777777777777778,\"#fb9f3a\"],[0.8888888888888888,\"#fdca26\"],[1.0,\"#f0f921\"]]}],\"contourcarpet\":[{\"type\":\"contourcarpet\",\"colorbar\":{\"outlinewidth\":0,\"ticks\":\"\"}}],\"contour\":[{\"type\":\"contour\",\"colorbar\":{\"outlinewidth\":0,\"ticks\":\"\"},\"colorscale\":[[0.0,\"#0d0887\"],[0.1111111111111111,\"#46039f\"],[0.2222222222222222,\"#7201a8\"],[0.3333333333333333,\"#9c179e\"],[0.4444444444444444,\"#bd3786\"],[0.5555555555555556,\"#d8576b\"],[0.6666666666666666,\"#ed7953\"],[0.7777777777777778,\"#fb9f3a\"],[0.8888888888888888,\"#fdca26\"],[1.0,\"#f0f921\"]]}],\"surface\":[{\"type\":\"surface\",\"colorbar\":{\"outlinewidth\":0,\"ticks\":\"\"},\"colorscale\":[[0.0,\"#0d0887\"],[0.1111111111111111,\"#46039f\"],[0.2222222222222222,\"#7201a8\"],[0.3333333333333333,\"#9c179e\"],[0.4444444444444444,\"#bd3786\"],[0.5555555555555556,\"#d8576b\"],[0.6666666666666666,\"#ed7953\"],[0.7777777777777778,\"#fb9f3a\"],[0.8888888888888888,\"#fdca26\"],[1.0,\"#f0f921\"]]}],\"mesh3d\":[{\"type\":\"mesh3d\",\"colorbar\":{\"outlinewidth\":0,\"ticks\":\"\"}}],\"scatter\":[{\"fillpattern\":{\"fillmode\":\"overlay\",\"size\":10,\"solidity\":0.2},\"type\":\"scatter\"}],\"parcoords\":[{\"type\":\"parcoords\",\"line\":{\"colorbar\":{\"outlinewidth\":0,\"ticks\":\"\"}}}],\"scatterpolargl\":[{\"type\":\"scatterpolargl\",\"marker\":{\"colorbar\":{\"outlinewidth\":0,\"ticks\":\"\"}}}],\"bar\":[{\"error_x\":{\"color\":\"#2a3f5f\"},\"error_y\":{\"color\":\"#2a3f5f\"},\"marker\":{\"line\":{\"color\":\"#E5ECF6\",\"width\":0.5},\"pattern\":{\"fillmode\":\"overlay\",\"size\":10,\"solidity\":0.2}},\"type\":\"bar\"}],\"scattergeo\":[{\"type\":\"scattergeo\",\"marker\":{\"colorbar\":{\"outlinewidth\":0,\"ticks\":\"\"}}}],\"scatterpolar\":[{\"type\":\"scatterpolar\",\"marker\":{\"colorbar\":{\"outlinewidth\":0,\"ticks\":\"\"}}}],\"histogram\":[{\"marker\":{\"pattern\":{\"fillmode\":\"overlay\",\"size\":10,\"solidity\":0.2}},\"type\":\"histogram\"}],\"scattergl\":[{\"type\":\"scattergl\",\"marker\":{\"colorbar\":{\"outlinewidth\":0,\"ticks\":\"\"}}}],\"scatter3d\":[{\"type\":\"scatter3d\",\"line\":{\"colorbar\":{\"outlinewidth\":0,\"ticks\":\"\"}},\"marker\":{\"colorbar\":{\"outlinewidth\":0,\"ticks\":\"\"}}}],\"scattermapbox\":[{\"type\":\"scattermapbox\",\"marker\":{\"colorbar\":{\"outlinewidth\":0,\"ticks\":\"\"}}}],\"scatterternary\":[{\"type\":\"scatterternary\",\"marker\":{\"colorbar\":{\"outlinewidth\":0,\"ticks\":\"\"}}}],\"scattercarpet\":[{\"type\":\"scattercarpet\",\"marker\":{\"colorbar\":{\"outlinewidth\":0,\"ticks\":\"\"}}}],\"carpet\":[{\"aaxis\":{\"endlinecolor\":\"#2a3f5f\",\"gridcolor\":\"white\",\"linecolor\":\"white\",\"minorgridcolor\":\"white\",\"startlinecolor\":\"#2a3f5f\"},\"baxis\":{\"endlinecolor\":\"#2a3f5f\",\"gridcolor\":\"white\",\"linecolor\":\"white\",\"minorgridcolor\":\"white\",\"startlinecolor\":\"#2a3f5f\"},\"type\":\"carpet\"}],\"table\":[{\"cells\":{\"fill\":{\"color\":\"#EBF0F8\"},\"line\":{\"color\":\"white\"}},\"header\":{\"fill\":{\"color\":\"#C8D4E3\"},\"line\":{\"color\":\"white\"}},\"type\":\"table\"}],\"barpolar\":[{\"marker\":{\"line\":{\"color\":\"#E5ECF6\",\"width\":0.5},\"pattern\":{\"fillmode\":\"overlay\",\"size\":10,\"solidity\":0.2}},\"type\":\"barpolar\"}],\"pie\":[{\"automargin\":true,\"type\":\"pie\"}]},\"layout\":{\"autotypenumbers\":\"strict\",\"colorway\":[\"#636efa\",\"#EF553B\",\"#00cc96\",\"#ab63fa\",\"#FFA15A\",\"#19d3f3\",\"#FF6692\",\"#B6E880\",\"#FF97FF\",\"#FECB52\"],\"font\":{\"color\":\"#2a3f5f\"},\"hovermode\":\"closest\",\"hoverlabel\":{\"align\":\"left\"},\"paper_bgcolor\":\"white\",\"plot_bgcolor\":\"#E5ECF6\",\"polar\":{\"bgcolor\":\"#E5ECF6\",\"angularaxis\":{\"gridcolor\":\"white\",\"linecolor\":\"white\",\"ticks\":\"\"},\"radialaxis\":{\"gridcolor\":\"white\",\"linecolor\":\"white\",\"ticks\":\"\"}},\"ternary\":{\"bgcolor\":\"#E5ECF6\",\"aaxis\":{\"gridcolor\":\"white\",\"linecolor\":\"white\",\"ticks\":\"\"},\"baxis\":{\"gridcolor\":\"white\",\"linecolor\":\"white\",\"ticks\":\"\"},\"caxis\":{\"gridcolor\":\"white\",\"linecolor\":\"white\",\"ticks\":\"\"}},\"coloraxis\":{\"colorbar\":{\"outlinewidth\":0,\"ticks\":\"\"}},\"colorscale\":{\"sequential\":[[0.0,\"#0d0887\"],[0.1111111111111111,\"#46039f\"],[0.2222222222222222,\"#7201a8\"],[0.3333333333333333,\"#9c179e\"],[0.4444444444444444,\"#bd3786\"],[0.5555555555555556,\"#d8576b\"],[0.6666666666666666,\"#ed7953\"],[0.7777777777777778,\"#fb9f3a\"],[0.8888888888888888,\"#fdca26\"],[1.0,\"#f0f921\"]],\"sequentialminus\":[[0.0,\"#0d0887\"],[0.1111111111111111,\"#46039f\"],[0.2222222222222222,\"#7201a8\"],[0.3333333333333333,\"#9c179e\"],[0.4444444444444444,\"#bd3786\"],[0.5555555555555556,\"#d8576b\"],[0.6666666666666666,\"#ed7953\"],[0.7777777777777778,\"#fb9f3a\"],[0.8888888888888888,\"#fdca26\"],[1.0,\"#f0f921\"]],\"diverging\":[[0,\"#8e0152\"],[0.1,\"#c51b7d\"],[0.2,\"#de77ae\"],[0.3,\"#f1b6da\"],[0.4,\"#fde0ef\"],[0.5,\"#f7f7f7\"],[0.6,\"#e6f5d0\"],[0.7,\"#b8e186\"],[0.8,\"#7fbc41\"],[0.9,\"#4d9221\"],[1,\"#276419\"]]},\"xaxis\":{\"gridcolor\":\"white\",\"linecolor\":\"white\",\"ticks\":\"\",\"title\":{\"standoff\":15},\"zerolinecolor\":\"white\",\"automargin\":true,\"zerolinewidth\":2},\"yaxis\":{\"gridcolor\":\"white\",\"linecolor\":\"white\",\"ticks\":\"\",\"title\":{\"standoff\":15},\"zerolinecolor\":\"white\",\"automargin\":true,\"zerolinewidth\":2},\"scene\":{\"xaxis\":{\"backgroundcolor\":\"#E5ECF6\",\"gridcolor\":\"white\",\"linecolor\":\"white\",\"showbackground\":true,\"ticks\":\"\",\"zerolinecolor\":\"white\",\"gridwidth\":2},\"yaxis\":{\"backgroundcolor\":\"#E5ECF6\",\"gridcolor\":\"white\",\"linecolor\":\"white\",\"showbackground\":true,\"ticks\":\"\",\"zerolinecolor\":\"white\",\"gridwidth\":2},\"zaxis\":{\"backgroundcolor\":\"#E5ECF6\",\"gridcolor\":\"white\",\"linecolor\":\"white\",\"showbackground\":true,\"ticks\":\"\",\"zerolinecolor\":\"white\",\"gridwidth\":2}},\"shapedefaults\":{\"line\":{\"color\":\"#2a3f5f\"}},\"annotationdefaults\":{\"arrowcolor\":\"#2a3f5f\",\"arrowhead\":0,\"arrowwidth\":1},\"geo\":{\"bgcolor\":\"white\",\"landcolor\":\"#E5ECF6\",\"subunitcolor\":\"white\",\"showland\":true,\"showlakes\":true,\"lakecolor\":\"white\"},\"title\":{\"x\":0.05},\"mapbox\":{\"style\":\"light\"}}},\"xaxis\":{\"anchor\":\"y\",\"domain\":[0.0,1.0],\"title\":{\"text\":\"pm1\"},\"range\":[-1.1,1.1],\"constrain\":\"domain\"},\"yaxis\":{\"anchor\":\"x\",\"domain\":[0.0,1.0],\"title\":{\"text\":\"pm2\"},\"scaleanchor\":\"x\",\"scaleratio\":1},\"legend\":{\"title\":{\"text\":\"Species\"},\"tracegroupgap\":0},\"title\":{\"text\":\"PM projection of thioredoxins colored by species\",\"x\":0.5},\"height\":800,\"shapes\":[{\"line\":{\"color\":\"black\",\"dash\":\"dot\"},\"opacity\":0.15,\"type\":\"circle\",\"x0\":-0.47058823529411764,\"x1\":0.47058823529411764,\"y0\":-0.47058823529411764,\"y1\":0.47058823529411764},{\"line\":{\"color\":\"black\",\"dash\":\"dot\"},\"opacity\":0.15,\"type\":\"circle\",\"x0\":-0.6447368421052633,\"x1\":0.6447368421052633,\"y0\":-0.6447368421052633,\"y1\":0.6447368421052633},{\"line\":{\"color\":\"black\",\"dash\":\"dot\"},\"opacity\":0.15,\"type\":\"circle\",\"x0\":-0.7705382436260623,\"x1\":0.7705382436260623,\"y0\":-0.7705382436260623,\"y1\":0.7705382436260623},{\"line\":{\"color\":\"black\",\"dash\":\"dot\"},\"opacity\":0.15,\"type\":\"circle\",\"x0\":-0.8557007125890737,\"x1\":0.8557007125890737,\"y0\":-0.8557007125890737,\"y1\":0.8557007125890737},{\"line\":{\"color\":\"black\",\"dash\":\"dot\"},\"opacity\":0.15,\"type\":\"circle\",\"x0\":-0.9108474990827933,\"x1\":0.9108474990827933,\"y0\":-0.9108474990827933,\"y1\":0.9108474990827933},{\"line\":{\"color\":\"black\",\"dash\":\"dot\"},\"opacity\":0.15,\"type\":\"circle\",\"x0\":-0.9455374041239167,\"x1\":0.9455374041239167,\"y0\":-0.9455374041239167,\"y1\":0.9455374041239167},{\"line\":{\"color\":\"Black\"},\"type\":\"circle\",\"x0\":-1,\"x1\":1,\"xref\":\"x\",\"y0\":-1,\"y1\":1,\"yref\":\"y\"},{\"fillcolor\":\"Black\",\"line\":{\"color\":\"Black\"},\"type\":\"circle\",\"x0\":-0.005,\"x1\":0.005,\"xref\":\"x\",\"y0\":-0.005,\"y1\":0.005,\"yref\":\"y\"}],\"yaxis2\":{\"matches\":\"y\",\"layer\":\"below traces\",\"overlaying\":\"y\"},\"plot_bgcolor\":\"rgba(0, 0, 0, 0)\",\"font\":{\"size\":11}},                        {\"responsive\": true}                    ).then(function(){\n",
       "                            \n",
       "var gd = document.getElementById('dfaa1122-d50f-4695-a28d-db21a2481e41');\n",
       "var x = new MutationObserver(function (mutations, observer) {{\n",
       "        var display = window.getComputedStyle(gd).display;\n",
       "        if (!display || display === 'none') {{\n",
       "            console.log([gd, 'removed!']);\n",
       "            Plotly.purge(gd);\n",
       "            observer.disconnect();\n",
       "        }}\n",
       "}});\n",
       "\n",
       "// Listen for the removal of the full notebook cells\n",
       "var notebookContainer = gd.closest('#notebook-container');\n",
       "if (notebookContainer) {{\n",
       "    x.observe(notebookContainer, {childList: true});\n",
       "}}\n",
       "\n",
       "// Listen for the clearing of the current output cell\n",
       "var outputEl = gd.closest('.output');\n",
       "if (outputEl) {{\n",
       "    x.observe(outputEl, {childList: true});\n",
       "}}\n",
       "\n",
       "                        })                };                });            </script>        </div>"
      ]
     },
     "metadata": {},
     "output_type": "display_data"
    }
   ],
   "source": [
    "# OPTIONS =================================================\n",
    "title = \"PM projection of thioredoxins colored by species\"\n",
    "#----------------------------------------------------------\n",
    "# Select the coloring from annotation .csv file:\n",
    "labels_name = \"Species\"\n",
    "# Select classes to label among the \"labels_name\" column (comma separated list):\n",
    "labels_text = \"\"\n",
    "show_text = False\n",
    "#----------------------------------------------------------\n",
    "# Use a custom color palette:\n",
    "color_palette = trx_palette\n",
    "use_custom_palette = True\n",
    "#==========================================================\n",
    "\n",
    "\n",
    "#Check projection visualization parameters\n",
    "#Labels name\n",
    "if labels_name == \"\" and path_annotation == \"dummy_annotation.csv\":\n",
    "    labels_name = \"default\"\n",
    "elif labels_name == \"\":\n",
    "    labels_name = None\n",
    "elif labels_name not in annotation_names:\n",
    "    raise NameError(f\"labels_name {labels_name} is not in the availables annotations.\\nAvailables annotations: {annotation_names}\")\n",
    "\n",
    "#Labels text\n",
    "if labels_text:\n",
    "    try:\n",
    "        labels_text = [s.strip() for s in labels_text.split(\",\")]\n",
    "    except:\n",
    "        print(\"Error: label_text field is not a valid list.\")\n",
    "else:\n",
    "    labels_text = [\"\"]\n",
    "\n",
    "#Convert labels_text to labels_name dtype\n",
    "if labels_name and labels_name != \"default\" and labels_text != [\"\"]:\n",
    "    try:\n",
    "        labels_text_dtype = df_annotation[labels_name].dtypes\n",
    "        labels_text = list(np.array(labels_text).astype(labels_text_dtype))\n",
    "    except:\n",
    "        raise TypeError(f'\"labels_text\" is not compatible with {labels_name}\" data format ({labels_text_dtype}).')\n",
    "\n",
    "if not use_custom_palette:\n",
    "    color_palette = None\n",
    "\n",
    "#Plot graph\n",
    "fig = plot_embedding_interactive(df_embedding, \n",
    "                                 labels_name = labels_name,\n",
    "                                 show_text = show_text,\n",
    "                                 labels_text = labels_text,\n",
    "                                 color_palette = color_palette, \n",
    "                                 title = title, \n",
    "                                 fontsize = 11)\n",
    "fig.show()"
   ]
  },
  {
   "cell_type": "markdown",
   "metadata": {},
   "source": [
    "### Save plot to file"
   ]
  },
  {
   "cell_type": "code",
   "execution_count": 8,
   "metadata": {},
   "outputs": [],
   "source": [
    "# OPTIONS =================================================\n",
    "output_name = \"fig1\"\n",
    "output_format = \"png\" #Format availables: [\"png\", \"html\", \"pdf\", \"svg\"]\n",
    "#==========================================================\n",
    "\n",
    "\n",
    "if output_format != \"html\":\n",
    "    fig.write_image(f\"{output_name}.{output_format}\", engine=\"kaleido\")\n",
    "else:\n",
    "    fig.write_html(f\"{output_name}.{output_format}\")"
   ]
  }
 ],
 "metadata": {
  "accelerator": "GPU",
  "colab": {
   "provenance": []
  },
  "gpuClass": "standard",
  "kernelspec": {
   "display_name": "Python 3 (ipykernel)",
   "language": "python",
   "name": "python3"
  },
  "language_info": {
   "codemirror_mode": {
    "name": "ipython",
    "version": 3
   },
   "file_extension": ".py",
   "mimetype": "text/x-python",
   "name": "python",
   "nbconvert_exporter": "python",
   "pygments_lexer": "ipython3",
   "version": "3.7.9"
  }
 },
 "nbformat": 4,
 "nbformat_minor": 1
}
