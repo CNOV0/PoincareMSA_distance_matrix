{
 "cells": [
  {
   "cell_type": "markdown",
   "metadata": {},
   "source": [
    "[![Open In Colab](https://colab.research.google.com/assets/colab-badge.svg)](https://colab.research.google.com/github/klanita/PoincareMSA/blob/master/PoincareMSA_colab.ipynb)"
   ]
  },
  {
   "cell_type": "markdown",
   "metadata": {
    "id": "W5FTaqy0xqw2"
   },
   "source": [
    "<img src=\"https://github.com/klanita/PoincareMSA/blob/master/.github/PoincareMSA_small_logo.png?raw=true\" height=\"100\" style=\"height:100px;margin-left: 0px;\">\n",
    "\n",
    "\n",
    "# Poincaré maps for visualization of large protein famillies\n",
    "\n",
    "PoincareMSA builds a projection of protein multiple sequence alignemnt (MSA) on a Poincaré disk. The proximity of the points to the disk center corresponds to their hierarchy and correlates with the proximity of the proteins to the root of the phylogenetic tree. Thus, must central point often correspond to the ancestor proteins and protein located close to the border to the leaves of phylogenetic tree."
   ]
  },
  {
   "cell_type": "markdown",
   "metadata": {
    "id": "Oa7Rrq-YzfQB"
   },
   "source": [
    "# Notebook initialization"
   ]
  },
  {
   "cell_type": "markdown",
   "metadata": {},
   "source": [
    "### Load dependencies"
   ]
  },
  {
   "cell_type": "code",
   "execution_count": 1,
   "metadata": {
    "cellView": "form",
    "colab": {
     "base_uri": "https://localhost:8080/"
    },
    "id": "X_SO37g-kQq7",
    "outputId": "c30184db-2ef2-4a87-fd43-db8fd3ed5379"
   },
   "outputs": [],
   "source": [
    "import os\n",
    "import numpy as np\n",
    "import pandas as pd\n",
    "import warnings\n",
    "warnings.filterwarnings('ignore')\n",
    "\n",
    "#Import visualization functions\n",
    "from scripts.visualize_projection.pplots_new import read_embeddings, plot_embedding, plot_embedding_interactive, rotate, get_colors\n",
    "%matplotlib inline\n",
    "\n",
    "#Create optional variables\n",
    "path_annotation = \"\""
   ]
  },
  {
   "cell_type": "markdown",
   "metadata": {
    "id": "IPi6cky3wgC8"
   },
   "source": [
    "# Data import"
   ]
  },
  {
   "cell_type": "code",
   "execution_count": 3,
   "metadata": {
    "cellView": "form",
    "colab": {
     "base_uri": "https://localhost:8080/",
     "height": 75,
     "resources": {
      "http://localhost:8080/nbextensions/google.colab/files.js": {
       "data": "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",
       "headers": [
        [
         "content-type",
         "application/javascript"
        ]
       ],
       "ok": true,
       "status": 200,
       "status_text": "OK"
      }
     }
    },
    "id": "GcbgnooHwIGh",
    "outputId": "dc30ce27-d01c-4953-cdb7-9d5fe599ad6d"
   },
   "outputs": [
    {
     "name": "stdout",
     "output_type": "stream",
     "text": [
      "\n",
      "Number of sequences found: 210.\n",
      "\n",
      "Annotation file correctly loaded.\n",
      "5 annotations found: ['Unnamed: 0', 'Species', 'Kingdom', 'Family', 'Color_eukaryota'].\n"
     ]
    }
   ],
   "source": [
    "# OPTIONS =================================================\n",
    "mfasta = \"examples/thioredoxins/thioredoxins.mfasta\"\n",
    "path_annotation = \"examples/thioredoxins/thioredoxin_annotation.csv\"\n",
    "#==========================================================\n",
    "\n",
    "#Check files\n",
    "#mfasta\n",
    "nb_seq = 0\n",
    "if os.path.isfile(mfasta):\n",
    "    with open(mfasta, \"r\") as f_in:\n",
    "        for line in f_in:\n",
    "            if line[0] == \">\":\n",
    "                nb_seq += 1\n",
    "    print(f\"\\nNumber of sequences found: {nb_seq}.\")\n",
    "else:\n",
    "    print(f\"File {mfasta} not found.\")\n",
    "\n",
    "#Annotations\n",
    "if os.path.isfile(path_annotation):\n",
    "    try:\n",
    "        df_annotation = pd.read_csv(path_annotation)\n",
    "        if len(df_annotation) != nb_seq:\n",
    "            raise ValueError(\"Annotation file doesn't match the .mfasta file length.\")\n",
    "    except:\n",
    "        raise ValueError(\"Annotation file is not in .csv format.\")\n",
    "    print(\"\\nAnnotation file correctly loaded.\")\n",
    "    annotation_names = list(df_annotation.columns)\n",
    "    print(f\"{len(annotation_names)} annotations found: {annotation_names}.\")\n",
    "else:\n",
    "    print(f\"File {path_annotation} not found\")"
   ]
  },
  {
   "cell_type": "markdown",
   "metadata": {
    "id": "_H2vnIt_3kUz"
   },
   "source": [
    "# Settings"
   ]
  },
  {
   "cell_type": "code",
   "execution_count": 15,
   "metadata": {
    "cellView": "form",
    "id": "9hLq_MgX6hFC"
   },
   "outputs": [],
   "source": [
    "# OPTIONS =================================================\n",
    "# Job name\n",
    "out_name = \"thioredoxins_data\"\n",
    "#----------------------------------------------------------\n",
    "# Threshold for filtering gapped positions\n",
    "gapth = 0.9 \n",
    "#----------------------------------------------------------\n",
    "# Projection parameters\n",
    "knn = 5\n",
    "gamma = 2\n",
    "sigma = 1\n",
    "cospca = 0\n",
    "batchs = 4\n",
    "epochs = 1000\n",
    "seed = 1\n",
    "#=========================================================="
   ]
  },
  {
   "cell_type": "markdown",
   "metadata": {
    "id": "Dv0lg4Jn-dfG"
   },
   "source": [
    "# Data preparation and data projection using Poincaré disk"
   ]
  },
  {
   "cell_type": "code",
   "execution_count": 11,
   "metadata": {
    "cellView": "form",
    "colab": {
     "base_uri": "https://localhost:8080/"
    },
    "id": "A2I17cpYXGoB",
    "outputId": "a1b01a51-2182-4f97-a653-eedc42405a80"
   },
   "outputs": [
    {
     "name": "stdout",
     "output_type": "stream",
     "text": [
      "1. Data preparation\n",
      "Input file: examples/thioredoxins/thioredoxins.mfasta\n",
      "Name of the protein family: thioredoxins\n",
      "1 X aa replaced by gaps in 210 sequences\n",
      "filter_gaps finished for examples/thioredoxins/thioredoxins.mfasta\n",
      "mfasta2fasta finished for thioredoxins_data/thioredoxins_data.clean0.9.mfasta\n",
      "1 X aa replaced by gaps in 210 sequences\n",
      "\n",
      "2. Data projection using Poincaré disk\n",
      "CUDA: True\n",
      "210 proteins found in folder thioredoxins_data/fasta0.9.\n",
      "No root detected\n",
      "Prepare data: tensor construction\n",
      "Prepare data: successfully terminated\n",
      "Computing laplacian...\n",
      "Laplacian computed in 0.04 sec\n",
      "Computing RFA...\n",
      "RFA computed in 0.00 sec\n",
      "Starting training...\n",
      "loss: 0.46771: 100%|████████████████████████| 1000/1000 [05:24<00:00,  3.09it/s]\n",
      "PM computed in 324.04 sec\n",
      "\n",
      "loss = 4.677e-01\n",
      "time = 5.403 min\n",
      "\n",
      "3. Format data for visualization\n"
     ]
    }
   ],
   "source": [
    "# 1. Data preparation\n",
    "# Data preparation consists in `.mfasta` cleaning according to a gap threshold and translation of each sequence to the PSSM profile.\n",
    "print(\"1. Data preparation\")\n",
    "prep_parameters = \"scripts/prepare_data\" + \" \" + mfasta + \" \" + out_name + \" \" + out_name + \" \" + str(gapth)\n",
    "bash_projection = \"bash scripts/prepare_data/create_projection.sh \" + prep_parameters\n",
    "!{bash_projection}\n",
    "\n",
    "print(\"\\n2. Data projection using Poincaré disk\")\n",
    "# 2. Data projection using Poincaré disk\n",
    "#This step creates a projection of encoded sequences to a Poincaré disk.\n",
    "bash_pm = \"python3 \"+ \"scripts/build_poincare_map/main.py --input_path \" + out_name + \"/fasta\" + str(gapth) + \" --output_path \" + out_name + \"/projections/ --gamma \"+ str(gamma) +\" --pca \"+ str(cospca) + \" --epochs \"+ str(epochs) +\" --seed \"+ str(seed) + \" --knn \" + str(knn)\n",
    "!{bash_pm}\n",
    "\n",
    "print(\"\\n3. Format data for visualization\")\n",
    "# 3. Format data for visualization\n",
    "#Check that an annotation file was provided. Create a dummy one instead\n",
    "if not path_annotation:\n",
    "    df_annotation = pd.DataFrame(np.full(nb_seq, \"-\", dtype=object), columns=[\"default\"])\n",
    "    df_annotation.to_csv(\"dummy_annotation.csv\", index=False)\n",
    "    path_annotation = \"dummy_annotation.csv\"\n",
    "    annotation_names = [\"default\"]\n",
    "\n",
    "path_embedding = f\"{out_name}/projections/PM{knn:1.0f}sigma={sigma:2.2f}gamma={gamma:2.2f}cosinepca={cospca:1.0f}_seed{seed:1.0f}.csv\"\n",
    "df_embedding = read_embeddings(path_embedding, path_annotation, withroot=False)"
   ]
  },
  {
   "cell_type": "markdown",
   "metadata": {
    "id": "gRxHHfjX7CHF"
   },
   "source": [
    "# Projection visualization"
   ]
  },
  {
   "cell_type": "code",
   "execution_count": 18,
   "metadata": {},
   "outputs": [],
   "source": [
    "# Construction of custom color palette \n",
    "# class species from thioredoxin annotation file into different kingdom \n",
    "bacteria_specie = [\"Bacteria\", \"LBCA\", \"LGPCA\",  \"LPBCA\", \"Salmonella\", \"Shigella\", \"Escherichia\", \"Acidobacteria\", \"Deinococcus\", \"Thermus\", \n",
    "                    \"Solibacter\", \"Helicobacter\", \"Geobacter\", \"Wolinella\", \"Neisseria\", \"Bordetella\", \"Brucella\", \"Rickettsia\", \"Campylobacter\",\n",
    "                   \"Thiobacillus\", \"Burkholderia\", \"Vibrio\",  \"Desulfovibrio\", \"Bdellovibrio\", \"Yersinia\", \"Agrobacterium\", \"Actinobacteria\", \"Thermobifida\",\n",
    "                   \"Flavobacterium\",\"Geobacterium\", \"Chloroflexus\", \"Aquifex\", \"Enterococcus\",\"Chlamydia\", \"Chlamydophila\", \"Listeria\", \"Lactobacillus\",\n",
    "                   \"Geobacillus\",  \"Chlorobium\",  \"Rhodopirrelula\", \"Clostridium\", \"Hyperthermus\", \"Porphyromonas\", \"Streptomyces\", \n",
    "                   \"Syneschocystis\", \"Nostoc\", \"Thermosynechococus\", \"Prochlorococcus\", \"Nostoc1\", \"Sinorhizobium\", \"Pseudomonas\", \"Bacteroides\", \"Staphylococcus\", \n",
    "                   \"Thermoanaerobacter\",\"Bacillus\", \"Mycobacterium\", \"Streptococcus\", \"Dehalococcoides\", \"Synechocystis\", \"Corynebacterium\", \"Thermosynechococcus\",\n",
    "                   \"Rhodopirellula\"]\n",
    "archae_specie = [\"Archaea\", \"LACA\", \"Aeropyrum\",\"Thermofilum\",\"Caldivirga\",\"Sulfolobus\",\"Haloquadratum\",\"Haloarcula\", \"Thermoplasma\", \"Hyperthermus\",\n",
    "                 \"Natronomonas\",\"Methanocorpusculum\", \"Methanococcus\", \"Halobacterium\", \"Picrophilus\",\"Methanospirillum\",\"Staphylothermus\",\n",
    "                  \"Methanosaeta\", \"Metallosphaera\",\"Methanococcoides\", \"Candidatus\",\"Archaeoglobus\"]\n",
    "eukaryota_animal= [\"Eukaryota\", \"LECA\", \"LAFCA\", \"Ovis\",\"Bos\", \"Mus\",\"Rattus\",\"Rabit\", \"Human\", \"Ponab\",\"Macmu\",\"Ornithorhynchus\",\"Gallus\",\"Equus\",\n",
    "                    \"Theileria\",\"Danio\",\"Tetraodon\",\"Xenopus\",\"Ictalurus\",\"Ophiophagus\",\"Callithrix\",\"Monodelphis\",\"Geocy\",\"Sus\",\"Melopsittacus\", # animal\n",
    "                    \"Monosiga\", # choanoflagellata\n",
    "                    \"Graphocephala\", \"Tribolium\", \"Apis\", \"Bombyx\",\"Litopenaeus\",\"Drosophila\", # insecta\n",
    "                    \"Entamoeba\", \"Plasmodium\",\"Cryptosporidium\", \"Dictyostelium\"]  # unicellular parasite  \n",
    "eukaryota_viridiplantae = [\"Helicosporidium\", \"Ostreococcus\", \"Fagopyrum\"]\n",
    "eukaryota_mitochondrion = [\"Bovin Mitochondrio\", \"Homo Mitochondrion\",  \"Rattus Mitochondrio\", \"Mus Mitochondrion\"] \n",
    "eukaryota_chloroplast = [\"Brana Chloroplast\", \"Pisum Chloroplast\",  \"Wheat Chloroplast\", \"Pea Chloroplast\", \"Spiol Chloroplast\", \"Arabidopsis\"] \n",
    "eukaryota_fungi = [\"Pichia\", \"Candida\", \"Aspergillus\", \"Kluyveromyces\", \"Saccharomyces\",\"Schizosaccharomyces\",\"Neosartorya\"] \n",
    "\n",
    "# Construction of palette \n",
    "trx_palette = {\"OTHERS\" : \"#c7c7c7\", \"EUKARYOTA\" : \"#31955d\", \"CHLOROPLAST\" : \"#06f9d4\", \"MITOCHONDRION\" : \"#3ff100\" , \"root\": \"#000000\", \"AECA\" : \"#e7e53c\",\n",
    "               \"Zea\": \"#c7c7c7\", \"Vitis\":\"#c7c7c7\", \"Limonium\": \"#c7c7c7\"} \n",
    "trx_palette.update(dict.fromkeys(eukaryota_animal,\"#21e548\"))\n",
    "trx_palette.update(dict.fromkeys(eukaryota_viridiplantae,\"#b5e521\"))\n",
    "trx_palette.update(dict.fromkeys(eukaryota_mitochondrion, \"#61ff06\"))\n",
    "trx_palette.update(dict.fromkeys(eukaryota_chloroplast,\"#06f9d4\"))\n",
    "trx_palette.update(dict.fromkeys(eukaryota_fungi,\"#1fb995\"))\n",
    "trx_palette.update(dict.fromkeys(bacteria_specie,\"#34b8e7\"))\n",
    "trx_palette.update(dict.fromkeys(archae_specie, \"#ff0000\"))"
   ]
  },
  {
   "cell_type": "code",
   "execution_count": 19,
   "metadata": {
    "cellView": "form",
    "colab": {
     "base_uri": "https://localhost:8080/",
     "height": 886
    },
    "id": "zLb9h9S4eKUD",
    "outputId": "58e8c73a-4869-4305-ecfb-bccc80d06db1"
   },
   "outputs": [
    {
     "data": {
      "application/vnd.plotly.v1+json": {
       "config": {
        "plotlyServerURL": "https://plot.ly"
       },
       "data": [
        {
         "customdata": [
          [
           0,
           "LBCA",
           "LBCA",
           "LBCA",
           "OTHERS"
          ]
         ],
         "hovertemplate": "<b>%{hovertext}</b><br><br>Kingdom=%{customdata[2]}<br>pm1=%{x}<br>pm2=%{y}<br>Unnamed: 0=%{customdata[0]}<br>Species=%{customdata[1]}<br>Family=%{customdata[3]}<br>Color_eukaryota=%{customdata[4]}<extra></extra>",
         "hovertext": [
          "LBCA"
         ],
         "legendgroup": "LBCA",
         "marker": {
          "color": "#34b8e7",
          "symbol": "circle"
         },
         "mode": "markers",
         "name": "LBCA",
         "orientation": "v",
         "showlegend": true,
         "type": "scatter",
         "x": [
          0.18389252
         ],
         "xaxis": "x",
         "y": [
          0.108608946
         ],
         "yaxis": "y"
        },
        {
         "customdata": [
          [
           1,
           "LACA",
           "LACA",
           "LACA",
           "OTHERS"
          ]
         ],
         "hovertemplate": "<b>%{hovertext}</b><br><br>Kingdom=%{customdata[2]}<br>pm1=%{x}<br>pm2=%{y}<br>Unnamed: 0=%{customdata[0]}<br>Species=%{customdata[1]}<br>Family=%{customdata[3]}<br>Color_eukaryota=%{customdata[4]}<extra></extra>",
         "hovertext": [
          "LACA"
         ],
         "legendgroup": "LACA",
         "marker": {
          "color": "#ff0000",
          "symbol": "circle"
         },
         "mode": "markers",
         "name": "LACA",
         "orientation": "v",
         "showlegend": true,
         "type": "scatter",
         "x": [
          0.111037545
         ],
         "xaxis": "x",
         "y": [
          -0.1417153
         ],
         "yaxis": "y"
        },
        {
         "customdata": [
          [
           2,
           "AECA",
           "AECA",
           "AECA",
           "OTHERS"
          ]
         ],
         "hovertemplate": "<b>%{hovertext}</b><br><br>Kingdom=%{customdata[2]}<br>pm1=%{x}<br>pm2=%{y}<br>Unnamed: 0=%{customdata[0]}<br>Species=%{customdata[1]}<br>Family=%{customdata[3]}<br>Color_eukaryota=%{customdata[4]}<extra></extra>",
         "hovertext": [
          "AECA"
         ],
         "legendgroup": "AECA",
         "marker": {
          "color": "#e7e53c",
          "symbol": "circle"
         },
         "mode": "markers",
         "name": "AECA",
         "orientation": "v",
         "showlegend": true,
         "type": "scatter",
         "x": [
          0.050592925
         ],
         "xaxis": "x",
         "y": [
          -0.098363124
         ],
         "yaxis": "y"
        },
        {
         "customdata": [
          [
           3,
           "LGPCA",
           "LGPCA",
           "LGPCA",
           "OTHERS"
          ]
         ],
         "hovertemplate": "<b>%{hovertext}</b><br><br>Kingdom=%{customdata[2]}<br>pm1=%{x}<br>pm2=%{y}<br>Unnamed: 0=%{customdata[0]}<br>Species=%{customdata[1]}<br>Family=%{customdata[3]}<br>Color_eukaryota=%{customdata[4]}<extra></extra>",
         "hovertext": [
          "LGPCA"
         ],
         "legendgroup": "LGPCA",
         "marker": {
          "color": "#34b8e7",
          "symbol": "circle"
         },
         "mode": "markers",
         "name": "LGPCA",
         "orientation": "v",
         "showlegend": true,
         "type": "scatter",
         "x": [
          0.313914
         ],
         "xaxis": "x",
         "y": [
          0.43765968
         ],
         "yaxis": "y"
        },
        {
         "customdata": [
          [
           4,
           "LECA",
           "LECA",
           "LECA",
           "OTHERS"
          ]
         ],
         "hovertemplate": "<b>%{hovertext}</b><br><br>Kingdom=%{customdata[2]}<br>pm1=%{x}<br>pm2=%{y}<br>Unnamed: 0=%{customdata[0]}<br>Species=%{customdata[1]}<br>Family=%{customdata[3]}<br>Color_eukaryota=%{customdata[4]}<extra></extra>",
         "hovertext": [
          "LECA"
         ],
         "legendgroup": "LECA",
         "marker": {
          "color": "#21e548",
          "symbol": "circle"
         },
         "mode": "markers",
         "name": "LECA",
         "orientation": "v",
         "showlegend": true,
         "type": "scatter",
         "x": [
          -0.63303715
         ],
         "xaxis": "x",
         "y": [
          -0.0017171632
         ],
         "yaxis": "y"
        },
        {
         "customdata": [
          [
           5,
           "LPBCA",
           "LPBCA",
           "LPBCA",
           "OTHERS"
          ]
         ],
         "hovertemplate": "<b>%{hovertext}</b><br><br>Kingdom=%{customdata[2]}<br>pm1=%{x}<br>pm2=%{y}<br>Unnamed: 0=%{customdata[0]}<br>Species=%{customdata[1]}<br>Family=%{customdata[3]}<br>Color_eukaryota=%{customdata[4]}<extra></extra>",
         "hovertext": [
          "LPBCA"
         ],
         "legendgroup": "LPBCA",
         "marker": {
          "color": "#34b8e7",
          "symbol": "circle"
         },
         "mode": "markers",
         "name": "LPBCA",
         "orientation": "v",
         "showlegend": true,
         "type": "scatter",
         "x": [
          0.30017877
         ],
         "xaxis": "x",
         "y": [
          0.15301032
         ],
         "yaxis": "y"
        },
        {
         "customdata": [
          [
           6,
           "LAFCA",
           "LAFCA",
           "LAFCA",
           "OTHERS"
          ]
         ],
         "hovertemplate": "<b>%{hovertext}</b><br><br>Kingdom=%{customdata[2]}<br>pm1=%{x}<br>pm2=%{y}<br>Unnamed: 0=%{customdata[0]}<br>Species=%{customdata[1]}<br>Family=%{customdata[3]}<br>Color_eukaryota=%{customdata[4]}<extra></extra>",
         "hovertext": [
          "LAFCA"
         ],
         "legendgroup": "LAFCA",
         "marker": {
          "color": "#21e548",
          "symbol": "circle"
         },
         "mode": "markers",
         "name": "LAFCA",
         "orientation": "v",
         "showlegend": true,
         "type": "scatter",
         "x": [
          -0.6711158
         ],
         "xaxis": "x",
         "y": [
          -0.028322173
         ],
         "yaxis": "y"
        },
        {
         "customdata": [
          [
           7,
           "Ovis",
           "Eukaryota",
           "Metazoa",
           "EUKARYOTA"
          ],
          [
           8,
           "Bos",
           "Eukaryota",
           "Metazoa",
           "EUKARYOTA"
          ],
          [
           9,
           "Sus",
           "Eukaryota",
           "Metazoa",
           "EUKARYOTA"
          ],
          [
           10,
           "Equus",
           "Eukaryota",
           "Metazoa",
           "EUKARYOTA"
          ],
          [
           11,
           "Mus",
           "Eukaryota",
           "Metazoa",
           "EUKARYOTA"
          ],
          [
           12,
           "Rattus",
           "Eukaryota",
           "Metazoa",
           "EUKARYOTA"
          ],
          [
           13,
           "Rabit",
           "Eukaryota",
           "Metazoa",
           "EUKARYOTA"
          ],
          [
           14,
           "Human",
           "Eukaryota",
           "Metazoa",
           "EUKARYOTA"
          ],
          [
           15,
           "Ponab",
           "Eukaryota",
           "Metazoa",
           "EUKARYOTA"
          ],
          [
           16,
           "Macmu",
           "Eukaryota",
           "Metazoa",
           "EUKARYOTA"
          ],
          [
           17,
           "Callithrix",
           "Eukaryota",
           "Metazoa",
           "EUKARYOTA"
          ],
          [
           18,
           "Monodelphis",
           "Eukaryota",
           "Metazoa",
           "EUKARYOTA"
          ],
          [
           19,
           "Ornithorhynchus",
           "Eukaryota",
           "Metazoa",
           "EUKARYOTA"
          ],
          [
           20,
           "Gallus",
           "Eukaryota",
           "Metazoa",
           "EUKARYOTA"
          ],
          [
           21,
           "Melopsittacus",
           "Eukaryota",
           "Metazoa",
           "EUKARYOTA"
          ],
          [
           22,
           "Ophiophagus",
           "Eukaryota",
           "Metazoa",
           "EUKARYOTA"
          ],
          [
           23,
           "Xenopus",
           "Eukaryota",
           "Metazoa",
           "EUKARYOTA"
          ],
          [
           24,
           "Tetraodon",
           "Eukaryota",
           "Metazoa",
           "EUKARYOTA"
          ],
          [
           25,
           "Ictalurus",
           "Eukaryota",
           "Metazoa",
           "EUKARYOTA"
          ],
          [
           26,
           "Danio",
           "Eukaryota",
           "Metazoa",
           "EUKARYOTA"
          ],
          [
           27,
           "Drosophila",
           "Eukaryota",
           "Metazoa",
           "EUKARYOTA"
          ],
          [
           28,
           "Drosophila",
           "Eukaryota",
           "Metazoa",
           "EUKARYOTA"
          ],
          [
           29,
           "Drosophila",
           "Eukaryota",
           "Metazoa",
           "EUKARYOTA"
          ],
          [
           30,
           "Apis",
           "Eukaryota",
           "Metazoa",
           "EUKARYOTA"
          ],
          [
           31,
           "Tribolium",
           "Eukaryota",
           "Metazoa",
           "EUKARYOTA"
          ],
          [
           32,
           "Bombyx",
           "Eukaryota",
           "Metazoa",
           "EUKARYOTA"
          ],
          [
           33,
           "Graphocephala",
           "Eukaryota",
           "Metazoa",
           "EUKARYOTA"
          ],
          [
           34,
           "Litopenaeus",
           "Eukaryota",
           "Metazoa",
           "EUKARYOTA"
          ],
          [
           35,
           "Geocy",
           "Eukaryota",
           "Metazoa",
           "EUKARYOTA"
          ],
          [
           36,
           "Aspergillus",
           "Eukaryota",
           "Fungi",
           "EUKARYOTA"
          ],
          [
           37,
           "Neosartorya",
           "Eukaryota",
           "Fungi",
           "EUKARYOTA"
          ],
          [
           38,
           "Aspergillus",
           "Eukaryota",
           "Fungi",
           "EUKARYOTA"
          ],
          [
           39,
           "Aspergillus",
           "Eukaryota",
           "Fungi",
           "EUKARYOTA"
          ],
          [
           40,
           "Pichia",
           "Eukaryota",
           "Fungi",
           "EUKARYOTA"
          ],
          [
           41,
           "Candida",
           "Eukaryota",
           "Fungi",
           "EUKARYOTA"
          ],
          [
           42,
           "Pichia",
           "Eukaryota",
           "Fungi",
           "EUKARYOTA"
          ],
          [
           43,
           "Kluyveromyces",
           "Eukaryota",
           "Fungi",
           "EUKARYOTA"
          ],
          [
           44,
           "Saccharomyces",
           "Eukaryota",
           "Fungi",
           "EUKARYOTA"
          ],
          [
           45,
           "Candida",
           "Eukaryota",
           "Fungi",
           "EUKARYOTA"
          ],
          [
           46,
           "Saccharomyces",
           "Eukaryota",
           "Fungi",
           "EUKARYOTA"
          ],
          [
           47,
           "Schizosaccharomyces",
           "Eukaryota",
           "Fungi",
           "EUKARYOTA"
          ],
          [
           48,
           "Monosiga",
           "Eukaryota",
           "Choanoflagellata",
           "EUKARYOTA"
          ],
          [
           49,
           "Entamoeba",
           "Eukaryota",
           "Amoebozoa",
           "EUKARYOTA"
          ],
          [
           50,
           "Dictyostelium",
           "Eukaryota",
           "Amoebozoa",
           "EUKARYOTA"
          ],
          [
           51,
           "Arabidopsis",
           "Eukaryota",
           "Viridiplantae",
           "EUKARYOTA"
          ],
          [
           52,
           "Arabidopsis",
           "Eukaryota",
           "Viridiplantae",
           "EUKARYOTA"
          ],
          [
           53,
           "Limonium",
           "Eukaryota",
           "Viridiplantae",
           "EUKARYOTA"
          ],
          [
           54,
           "Zea",
           "Eukaryota",
           "Viridiplantae",
           "EUKARYOTA"
          ],
          [
           55,
           "Vitis",
           "Eukaryota",
           "Viridiplantae",
           "EUKARYOTA"
          ],
          [
           56,
           "Ostreococcus",
           "Eukaryota",
           "Viridiplantae",
           "EUKARYOTA"
          ],
          [
           57,
           "Helicosporidium",
           "Eukaryota",
           "Viridiplantae",
           "EUKARYOTA"
          ],
          [
           58,
           "Fagopyrum",
           "Eukaryota",
           "Viridiplantae",
           "EUKARYOTA"
          ],
          [
           59,
           "Cryptosporidium",
           "Eukaryota",
           "Alveolata",
           "EUKARYOTA"
          ],
          [
           60,
           "Theileria",
           "Eukaryota",
           "Sar",
           "EUKARYOTA"
          ],
          [
           61,
           "Plasmodium",
           "Eukaryota",
           "Alveolata",
           "EUKARYOTA"
          ],
          [
           154,
           "Pea Chloroplast",
           "Eukaryota",
           "Viridiplantae",
           "CHLOROPLAST"
          ],
          [
           155,
           "Spiol Chloroplast",
           "Eukaryota",
           "Viridiplantae",
           "CHLOROPLAST"
          ],
          [
           156,
           "Wheat Chloroplast",
           "Eukaryota",
           "Viridiplantae",
           "CHLOROPLAST"
          ],
          [
           157,
           "Pisum Chloroplast",
           "Eukaryota",
           "Viridiplantae",
           "CHLOROPLAST"
          ],
          [
           158,
           "Brana Chloroplast",
           "Eukaryota",
           "Viridiplantae",
           "CHLOROPLAST"
          ],
          [
           186,
           "Bovin Mitochondrio",
           "Eukaryota",
           "Metazoa",
           "MITOCHONDRION"
          ],
          [
           187,
           "Equus",
           "Eukaryota",
           "Metazoa",
           "EUKARYOTA"
          ],
          [
           188,
           "Homo Mitochondrion",
           "Eukaryota",
           "Metazoa",
           "MITOCHONDRION"
          ],
          [
           189,
           "Rattus Mitochondrio",
           "Eukaryota",
           "Metazoa",
           "MITOCHONDRION"
          ],
          [
           190,
           "Mus Mitochondrion",
           "Eukaryota",
           "Metazoa",
           "MITOCHONDRION"
          ]
         ],
         "hovertemplate": "<b>%{hovertext}</b><br><br>Kingdom=%{customdata[2]}<br>pm1=%{x}<br>pm2=%{y}<br>Unnamed: 0=%{customdata[0]}<br>Species=%{customdata[1]}<br>Family=%{customdata[3]}<br>Color_eukaryota=%{customdata[4]}<extra></extra>",
         "hovertext": [
          "Eukaryota",
          "Eukaryota",
          "Eukaryota",
          "Eukaryota",
          "Eukaryota",
          "Eukaryota",
          "Eukaryota",
          "Eukaryota",
          "Eukaryota",
          "Eukaryota",
          "Eukaryota",
          "Eukaryota",
          "Eukaryota",
          "Eukaryota",
          "Eukaryota",
          "Eukaryota",
          "Eukaryota",
          "Eukaryota",
          "Eukaryota",
          "Eukaryota",
          "Eukaryota",
          "Eukaryota",
          "Eukaryota",
          "Eukaryota",
          "Eukaryota",
          "Eukaryota",
          "Eukaryota",
          "Eukaryota",
          "Eukaryota",
          "Eukaryota",
          "Eukaryota",
          "Eukaryota",
          "Eukaryota",
          "Eukaryota",
          "Eukaryota",
          "Eukaryota",
          "Eukaryota",
          "Eukaryota",
          "Eukaryota",
          "Eukaryota",
          "Eukaryota",
          "Eukaryota",
          "Eukaryota",
          "Eukaryota",
          "Eukaryota",
          "Eukaryota",
          "Eukaryota",
          "Eukaryota",
          "Eukaryota",
          "Eukaryota",
          "Eukaryota",
          "Eukaryota",
          "Eukaryota",
          "Eukaryota",
          "Eukaryota",
          "Eukaryota",
          "Eukaryota",
          "Eukaryota",
          "Eukaryota",
          "Eukaryota",
          "Eukaryota",
          "Eukaryota",
          "Eukaryota",
          "Eukaryota",
          "Eukaryota"
         ],
         "legendgroup": "Eukaryota",
         "marker": {
          "color": "#21e548",
          "symbol": "circle"
         },
         "mode": "markers",
         "name": "Eukaryota",
         "orientation": "v",
         "showlegend": true,
         "type": "scatter",
         "x": [
          -0.84257185,
          -0.85646325,
          -0.84598905,
          -0.81090814,
          -0.81464094,
          -0.812737,
          -0.8607577,
          -0.8415084,
          -0.83648366,
          -0.82155627,
          -0.8227882,
          0.7402804,
          -0.7869309,
          -0.84328246,
          -0.8308515,
          -0.82625085,
          -0.7864245,
          -0.74686414,
          -0.7774597,
          -0.7198608,
          -0.75331324,
          -0.748439,
          -0.7313381,
          -0.74180365,
          -0.73487693,
          -0.7247355,
          -0.7247921,
          -0.7117707,
          -0.6954949,
          -0.6810791,
          -0.7521039,
          -0.73197603,
          -0.73390985,
          -0.57037693,
          -0.62652355,
          -0.66944695,
          -0.615969,
          -0.6591339,
          -0.60802054,
          -0.6525111,
          -0.7071143,
          -0.6314559,
          -0.756797,
          -0.7026959,
          0.86114365,
          0.84289294,
          0.86750895,
          0.8898363,
          0.874268,
          -0.71635604,
          -0.7375467,
          -0.6551419,
          -0.6249803,
          -0.81088555,
          -0.731728,
          0.8524639,
          0.88229173,
          0.87905174,
          0.86051095,
          0.87869513,
          0.7762942,
          0.76819754,
          0.7598772,
          0.76795524,
          0.7531102
         ],
         "xaxis": "x",
         "y": [
          -0.07941825,
          -0.05296301,
          -0.0579008,
          -0.08104239,
          -0.029657762,
          -0.037687875,
          -0.019577218,
          -0.04593345,
          -0.019532587,
          -0.061917007,
          -0.04019381,
          -0.49634287,
          -0.0936573,
          -0.122904055,
          -0.12267471,
          -0.1080902,
          -0.15429442,
          -0.15780155,
          -0.18446364,
          -0.15570429,
          -0.5310014,
          -0.5475899,
          -0.5524903,
          -0.5190686,
          -0.5304727,
          -0.53849876,
          -0.49430734,
          -0.5291109,
          -0.2996023,
          0.11914146,
          0.16425893,
          0.19756268,
          0.21699464,
          -0.13791098,
          0.2946659,
          0.19888036,
          0.23958886,
          0.29400313,
          0.26075897,
          0.25796384,
          0.16122662,
          -0.0709549,
          -0.19151846,
          -0.113642864,
          0.20506479,
          0.2193647,
          0.24155946,
          0.26888776,
          0.26825014,
          -0.026540766,
          -0.07159258,
          0.062075492,
          0.21035507,
          0.0577559,
          0.076384,
          0.27847457,
          0.250263,
          0.2813189,
          0.25488907,
          0.22154756,
          -0.50750846,
          -0.49516883,
          -0.50699115,
          -0.5201371,
          -0.5204549
         ],
         "yaxis": "y"
        },
        {
         "customdata": [
          [
           62,
           "Archaeoglobus",
           "Archaea",
           "Euryarchaeota",
           "OTHERS"
          ],
          [
           63,
           "Methanosaeta",
           "Archaea",
           "Euryarchaeota",
           "OTHERS"
          ],
          [
           64,
           "Methanococcoides",
           "Archaea",
           "Euryarchaeota",
           "OTHERS"
          ],
          [
           65,
           "Candidatus",
           "Archaea",
           "Euryarchaeota",
           "OTHERS"
          ],
          [
           66,
           "Methanospirillum",
           "Archaea",
           "Euryarchaeota",
           "OTHERS"
          ],
          [
           67,
           "Picrophilus",
           "Archaea",
           "Euryarchaeota",
           "OTHERS"
          ],
          [
           68,
           "Methanococcus",
           "Archaea",
           "Euryarchaeota",
           "OTHERS"
          ],
          [
           69,
           "Methanocorpusculum",
           "Archaea",
           "Euryarchaeota",
           "OTHERS"
          ],
          [
           70,
           "Methanosaeta",
           "Archaea",
           "Euryarchaeota",
           "OTHERS"
          ],
          [
           71,
           "Natronomonas",
           "Archaea",
           "Euryarchaeota",
           "OTHERS"
          ],
          [
           72,
           "Haloquadratum",
           "Archaea",
           "Euryarchaeota",
           "OTHERS"
          ],
          [
           73,
           "Haloarcula",
           "Archaea",
           "Euryarchaeota",
           "OTHERS"
          ],
          [
           74,
           "Natronomonas",
           "Archaea",
           "Euryarchaeota",
           "OTHERS"
          ],
          [
           75,
           "Halobacterium",
           "Archaea",
           "Euryarchaeota",
           "OTHERS"
          ],
          [
           76,
           "Archaeoglobus",
           "Archaea",
           "Euryarchaeota",
           "OTHERS"
          ],
          [
           77,
           "Thermoplasma",
           "Archaea",
           "Euryarchaeota",
           "OTHERS"
          ],
          [
           78,
           "Thermofilum",
           "Archaea",
           "Crenarchaeota",
           "OTHERS"
          ],
          [
           79,
           "Caldivirga",
           "Archaea",
           "Crenarchaeota",
           "OTHERS"
          ],
          [
           80,
           "Sulfolobus",
           "Archaea",
           "Crenarchaeota",
           "OTHERS"
          ],
          [
           81,
           "Sulfolobus",
           "Archaea",
           "Crenarchaeota",
           "OTHERS"
          ],
          [
           82,
           "Sulfolobus",
           "Archaea",
           "Crenarchaeota",
           "OTHERS"
          ],
          [
           83,
           "Hyperthermus",
           "Archaea",
           "Crenarchaeota",
           "OTHERS"
          ],
          [
           84,
           "Aeropyrum",
           "Archaea",
           "Crenarchaeota",
           "OTHERS"
          ],
          [
           85,
           "Metallosphaera",
           "Archaea",
           "Crenarchaeota",
           "OTHERS"
          ],
          [
           86,
           "Sulfolobus",
           "Archaea",
           "Crenarchaeota",
           "OTHERS"
          ],
          [
           87,
           "Sulfolobus",
           "Archaea",
           "Crenarchaeota",
           "OTHERS"
          ],
          [
           88,
           "Staphylothermus",
           "Archaea",
           "Crenarchaeota",
           "OTHERS"
          ],
          [
           89,
           "Aeropyrum",
           "Archaea",
           "Crenarchaeota",
           "OTHERS"
          ]
         ],
         "hovertemplate": "<b>%{hovertext}</b><br><br>Kingdom=%{customdata[2]}<br>pm1=%{x}<br>pm2=%{y}<br>Unnamed: 0=%{customdata[0]}<br>Species=%{customdata[1]}<br>Family=%{customdata[3]}<br>Color_eukaryota=%{customdata[4]}<extra></extra>",
         "hovertext": [
          "Archaea",
          "Archaea",
          "Archaea",
          "Archaea",
          "Archaea",
          "Archaea",
          "Archaea",
          "Archaea",
          "Archaea",
          "Archaea",
          "Archaea",
          "Archaea",
          "Archaea",
          "Archaea",
          "Archaea",
          "Archaea",
          "Archaea",
          "Archaea",
          "Archaea",
          "Archaea",
          "Archaea",
          "Archaea",
          "Archaea",
          "Archaea",
          "Archaea",
          "Archaea",
          "Archaea",
          "Archaea"
         ],
         "legendgroup": "Archaea",
         "marker": {
          "color": "#ff0000",
          "symbol": "circle"
         },
         "mode": "markers",
         "name": "Archaea",
         "orientation": "v",
         "showlegend": true,
         "type": "scatter",
         "x": [
          0.20612599,
          0.1019516,
          0.03265355,
          0.17626055,
          0.17642745,
          -0.053208943,
          -0.06653563,
          0.327191,
          0.37916875,
          -0.08388916,
          -0.089336336,
          -0.09375717,
          -0.040630043,
          -0.07796227,
          0.116339475,
          0.08195666,
          0.26498067,
          0.01931581,
          -0.04182314,
          -0.03586334,
          -0.041493356,
          0.15418682,
          0.16320363,
          0.19525325,
          0.15933071,
          0.17678572,
          0.22604832,
          0.2932314
         ],
         "xaxis": "x",
         "y": [
          -0.008712659,
          -0.18376373,
          -0.2033935,
          -0.09225356,
          -0.09174974,
          -0.3469995,
          0.21421278,
          0.046584513,
          0.08937337,
          0.7302229,
          0.74159443,
          0.7322303,
          0.7244389,
          0.736704,
          -0.0476018,
          0.042008072,
          -0.08041127,
          -0.35878596,
          -0.34749103,
          -0.3330807,
          -0.34721553,
          -0.34671915,
          -0.3447164,
          -0.3226127,
          -0.2983674,
          -0.3205516,
          -0.3818146,
          -0.32630885
         ],
         "yaxis": "y"
        },
        {
         "customdata": [
          [
           90,
           "Clostridium",
           "Bacteria",
           "Firmicutes",
           "OTHERS"
          ],
          [
           91,
           "Thermoanaerobacter",
           "Bacteria",
           "Firmicutes",
           "OTHERS"
          ],
          [
           92,
           "Bacillus",
           "Bacteria",
           "Firmicutes",
           "OTHERS"
          ],
          [
           93,
           "Bacillus",
           "Bacteria",
           "Firmicutes",
           "OTHERS"
          ],
          [
           94,
           "Streptococcus",
           "Bacteria",
           "Firmicutes",
           "OTHERS"
          ],
          [
           95,
           "Enterococcus",
           "Bacteria",
           "Firmicutes",
           "OTHERS"
          ],
          [
           96,
           "Listeria",
           "Bacteria",
           "Firmicutes",
           "OTHERS"
          ],
          [
           97,
           "Lactobacillus",
           "Bacteria",
           "Firmicutes",
           "OTHERS"
          ],
          [
           98,
           "Lactobacillus",
           "Bacteria",
           "Firmicutes",
           "OTHERS"
          ],
          [
           99,
           "Staphylococcus",
           "Bacteria",
           "Firmicutes",
           "OTHERS"
          ],
          [
           100,
           "Geobacillus",
           "Bacteria",
           "Firmicutes",
           "OTHERS"
          ],
          [
           101,
           "Bacillus",
           "Bacteria",
           "Firmicutes",
           "OTHERS"
          ],
          [
           102,
           "Bacillus",
           "Bacteria",
           "Firmicutes",
           "OTHERS"
          ],
          [
           103,
           "Lactobacillus",
           "Bacteria",
           "Firmicutes",
           "OTHERS"
          ],
          [
           104,
           "Listeria",
           "Bacteria",
           "Firmicutes",
           "OTHERS"
          ],
          [
           105,
           "Enterococcus",
           "Bacteria",
           "Firmicutes",
           "OTHERS"
          ],
          [
           106,
           "Streptococcus",
           "Bacteria",
           "Firmicutes",
           "OTHERS"
          ],
          [
           107,
           "Clostridium",
           "Bacteria",
           "Firmicutes",
           "OTHERS"
          ],
          [
           108,
           "Clostridium",
           "Bacteria",
           "Firmicutes",
           "OTHERS"
          ],
          [
           109,
           "Clostridium",
           "Bacteria",
           "Firmicutes",
           "OTHERS"
          ],
          [
           110,
           "Clostridium",
           "Bacteria",
           "Firmicutes",
           "OTHERS"
          ],
          [
           111,
           "Thermoanaerobacter",
           "Bacteria",
           "Firmicutes",
           "OTHERS"
          ],
          [
           112,
           "Chlamydia",
           "Bacteria",
           "Chlamydiae",
           "OTHERS"
          ],
          [
           113,
           "Chlamydophila",
           "Bacteria",
           "Chlamydiae",
           "OTHERS"
          ],
          [
           114,
           "Chlorobium",
           "Bacteria",
           "Chlorobi",
           "OTHERS"
          ],
          [
           115,
           "Chlorobium",
           "Bacteria",
           "Chlorobi",
           "OTHERS"
          ],
          [
           116,
           "Bacteroides",
           "Bacteria",
           "Bacteroidetes",
           "OTHERS"
          ],
          [
           117,
           "Flavobacterium",
           "Bacteria",
           "Bacteroidetes",
           "OTHERS"
          ],
          [
           118,
           "Porphyromonas",
           "Bacteria",
           "Bacteroidetes",
           "OTHERS"
          ],
          [
           119,
           "Bacteroides",
           "Bacteria",
           "Bacteroidetes",
           "OTHERS"
          ],
          [
           120,
           "Bacteroides",
           "Bacteria",
           "Bacteroidetes",
           "OTHERS"
          ],
          [
           121,
           "Porphyromonas",
           "Bacteria",
           "Bacteroidetes",
           "OTHERS"
          ],
          [
           122,
           "Bacteroides",
           "Bacteria",
           "Bacteroidetes",
           "OTHERS"
          ],
          [
           123,
           "Bacteroides",
           "Bacteria",
           "Bacteroidetes",
           "OTHERS"
          ],
          [
           124,
           "Rhodopirellula",
           "Bacteria",
           "Planctomycetes",
           "OTHERS"
          ],
          [
           125,
           "Rhodopirellula",
           "Bacteria",
           "Planctomycetes",
           "OTHERS"
          ],
          [
           126,
           "Mycobacterium",
           "Bacteria",
           "Actinobacteria",
           "OTHERS"
          ],
          [
           127,
           "Mycobacterium",
           "Bacteria",
           "Actinobacteria",
           "OTHERS"
          ],
          [
           128,
           "Corynebacterium",
           "Bacteria",
           "Actinobacteria",
           "OTHERS"
          ],
          [
           129,
           "Thermobifida",
           "Bacteria",
           "Actinobacteria",
           "OTHERS"
          ],
          [
           130,
           "Streptomyces",
           "Bacteria",
           "Actinobacteria",
           "OTHERS"
          ],
          [
           131,
           "Thermobifida",
           "Bacteria",
           "Actinobacteria",
           "OTHERS"
          ],
          [
           132,
           "Mycobacterium",
           "Bacteria",
           "Actinobacteria",
           "OTHERS"
          ],
          [
           133,
           "Streptomyces",
           "Bacteria",
           "Actinobacteria",
           "OTHERS"
          ],
          [
           134,
           "Corynebacterium",
           "Bacteria",
           "Actinobacteria",
           "OTHERS"
          ],
          [
           135,
           "Streptomyces",
           "Bacteria",
           "Actinobacteria",
           "OTHERS"
          ],
          [
           136,
           "Mycobacterium",
           "Bacteria",
           "Actinobacteria",
           "OTHERS"
          ],
          [
           137,
           "Thermobifida",
           "Bacteria",
           "Actinobacteria",
           "OTHERS"
          ],
          [
           138,
           "Streptomyces",
           "Bacteria",
           "Actinobacteria",
           "OTHERS"
          ],
          [
           139,
           "Synechocystis",
           "Bacteria",
           "Cyanobacteria",
           "OTHERS"
          ],
          [
           140,
           "Nostoc",
           "Bacteria",
           "Cyanobacteria",
           "OTHERS"
          ],
          [
           141,
           "Nostoc",
           "Bacteria",
           "Cyanobacteria",
           "OTHERS"
          ],
          [
           142,
           "Synechocystis",
           "Bacteria",
           "Cyanobacteria",
           "OTHERS"
          ],
          [
           143,
           "Thermosynechococcus",
           "Bacteria",
           "Cyanobacteria",
           "OTHERS"
          ],
          [
           144,
           "Thermosynechococcus",
           "Bacteria",
           "Cyanobacteria",
           "OTHERS"
          ],
          [
           145,
           "Synechocystis",
           "Bacteria",
           "Cyanobacteria",
           "OTHERS"
          ],
          [
           146,
           "Thermosynechococcus",
           "Bacteria",
           "Cyanobacteria",
           "OTHERS"
          ],
          [
           147,
           "Nostoc",
           "Bacteria",
           "Cyanobacteria",
           "OTHERS"
          ],
          [
           148,
           "Nostoc",
           "Bacteria",
           "Cyanobacteria",
           "OTHERS"
          ],
          [
           149,
           "Thermosynechococcus",
           "Bacteria",
           "Cyanobacteria",
           "OTHERS"
          ],
          [
           150,
           "Nostoc",
           "Bacteria",
           "Cyanobacteria",
           "OTHERS"
          ],
          [
           151,
           "Prochlorococcus",
           "Bacteria",
           "Cyanobacteria",
           "OTHERS"
          ],
          [
           152,
           "Synechocystis",
           "Bacteria",
           "Cyanobacteria",
           "OTHERS"
          ],
          [
           153,
           "Nostoc1",
           "Bacteria",
           "Cyanobacteria",
           "OTHERS"
          ],
          [
           159,
           "Thermus",
           "Bacteria",
           "Deinococcus-Thermus",
           "OTHERS"
          ],
          [
           160,
           "Deinococcus",
           "Bacteria",
           "Deinococcus-Thermus",
           "OTHERS"
          ],
          [
           161,
           "Thermus",
           "Bacteria",
           "Deinococcus-Thermus",
           "OTHERS"
          ],
          [
           162,
           "Deinococcus",
           "Bacteria",
           "Deinococcus-Thermus",
           "OTHERS"
          ],
          [
           163,
           "Dehalococcoides",
           "Bacteria",
           "Chloroflexi",
           "OTHERS"
          ],
          [
           164,
           "Chloroflexus",
           "Bacteria",
           "Chloroflexi",
           "OTHERS"
          ],
          [
           165,
           "Chloroflexus",
           "Bacteria",
           "Chloroflexi",
           "OTHERS"
          ],
          [
           166,
           "Chloroflexus",
           "Bacteria",
           "Chloroflexi",
           "OTHERS"
          ],
          [
           167,
           "Aquifex",
           "Bacteria",
           "Aquificae",
           "OTHERS"
          ],
          [
           168,
           "Bdellovibrio",
           "Bacteria",
           "Proteobacteria",
           "OTHERS"
          ],
          [
           169,
           "Geobacter",
           "Bacteria",
           "Proteobacteria",
           "OTHERS"
          ],
          [
           170,
           "Bdellovibrio",
           "Bacteria",
           "Proteobacteria",
           "OTHERS"
          ],
          [
           171,
           "Desulfovibrio",
           "Bacteria",
           "Proteobacteria",
           "OTHERS"
          ],
          [
           172,
           "Geobacter",
           "Bacteria",
           "Proteobacteria",
           "OTHERS"
          ],
          [
           173,
           "Solibacter",
           "Bacteria",
           "Acidobacteria",
           "OTHERS"
          ],
          [
           174,
           "Solibacter",
           "Bacteria",
           "Acidobacteria",
           "OTHERS"
          ],
          [
           175,
           "Acidobacteria",
           "Bacteria",
           "Acidobacteria",
           "OTHERS"
          ],
          [
           176,
           "Wolinella",
           "Bacteria",
           "Proteobacteria",
           "OTHERS"
          ],
          [
           177,
           "Helicobacter",
           "Bacteria",
           "Proteobacteria",
           "OTHERS"
          ],
          [
           178,
           "Campylobacter",
           "Bacteria",
           "Proteobacteria",
           "OTHERS"
          ],
          [
           179,
           "Helicobacter",
           "Bacteria",
           "Proteobacteria",
           "OTHERS"
          ],
          [
           180,
           "Wolinella",
           "Bacteria",
           "Proteobacteria",
           "OTHERS"
          ],
          [
           181,
           "Wolinella",
           "Bacteria",
           "Proteobacteria",
           "OTHERS"
          ],
          [
           182,
           "Agrobacterium",
           "Bacteria",
           "Proteobacteria",
           "OTHERS"
          ],
          [
           183,
           "Sinorhizobium",
           "Bacteria",
           "Proteobacteria",
           "OTHERS"
          ],
          [
           184,
           "Brucella",
           "Bacteria",
           "Proteobacteria",
           "OTHERS"
          ],
          [
           185,
           "Rickettsia",
           "Bacteria",
           "Proteobacteria",
           "OTHERS"
          ],
          [
           191,
           "Thiobacillus",
           "Bacteria",
           "Proteobacteria",
           "OTHERS"
          ],
          [
           192,
           "Neisseria",
           "Bacteria",
           "Proteobacteria",
           "OTHERS"
          ],
          [
           193,
           "Thiobacillus",
           "Bacteria",
           "Proteobacteria",
           "OTHERS"
          ],
          [
           194,
           "Burkholderia",
           "Bacteria",
           "Proteobacteria",
           "OTHERS"
          ],
          [
           195,
           "Bordetella",
           "Bacteria",
           "Proteobacteria",
           "OTHERS"
          ],
          [
           196,
           "Thiobacillus",
           "Bacteria",
           "Proteobacteria",
           "OTHERS"
          ],
          [
           197,
           "Thiobacillus",
           "Bacteria",
           "Proteobacteria",
           "OTHERS"
          ],
          [
           198,
           "Bordetella",
           "Bacteria",
           "Proteobacteria",
           "OTHERS"
          ],
          [
           199,
           "Pseudomonas",
           "Bacteria",
           "Proteobacteria",
           "OTHERS"
          ],
          [
           200,
           "Vibrio",
           "Bacteria",
           "Proteobacteria",
           "OTHERS"
          ],
          [
           201,
           "Yersinia",
           "Bacteria",
           "Proteobacteria",
           "OTHERS"
          ],
          [
           202,
           "Salmonella",
           "Bacteria",
           "Proteobacteria",
           "OTHERS"
          ],
          [
           203,
           "Shigella",
           "Bacteria",
           "Proteobacteria",
           "OTHERS"
          ],
          [
           204,
           "Escherichia",
           "Bacteria",
           "Proteobacteria",
           "OTHERS"
          ],
          [
           205,
           "Escherichia",
           "Bacteria",
           "Proteobacteria",
           "OTHERS"
          ],
          [
           206,
           "Shigella",
           "Bacteria",
           "Proteobacteria",
           "OTHERS"
          ],
          [
           207,
           "Salmonella",
           "Bacteria",
           "Proteobacteria",
           "OTHERS"
          ],
          [
           208,
           "Yersinia",
           "Bacteria",
           "Proteobacteria",
           "OTHERS"
          ],
          [
           209,
           "Vibrio",
           "Bacteria",
           "Proteobacteria",
           "OTHERS"
          ]
         ],
         "hovertemplate": "<b>%{hovertext}</b><br><br>Kingdom=%{customdata[2]}<br>pm1=%{x}<br>pm2=%{y}<br>Unnamed: 0=%{customdata[0]}<br>Species=%{customdata[1]}<br>Family=%{customdata[3]}<br>Color_eukaryota=%{customdata[4]}<extra></extra>",
         "hovertext": [
          "Bacteria",
          "Bacteria",
          "Bacteria",
          "Bacteria",
          "Bacteria",
          "Bacteria",
          "Bacteria",
          "Bacteria",
          "Bacteria",
          "Bacteria",
          "Bacteria",
          "Bacteria",
          "Bacteria",
          "Bacteria",
          "Bacteria",
          "Bacteria",
          "Bacteria",
          "Bacteria",
          "Bacteria",
          "Bacteria",
          "Bacteria",
          "Bacteria",
          "Bacteria",
          "Bacteria",
          "Bacteria",
          "Bacteria",
          "Bacteria",
          "Bacteria",
          "Bacteria",
          "Bacteria",
          "Bacteria",
          "Bacteria",
          "Bacteria",
          "Bacteria",
          "Bacteria",
          "Bacteria",
          "Bacteria",
          "Bacteria",
          "Bacteria",
          "Bacteria",
          "Bacteria",
          "Bacteria",
          "Bacteria",
          "Bacteria",
          "Bacteria",
          "Bacteria",
          "Bacteria",
          "Bacteria",
          "Bacteria",
          "Bacteria",
          "Bacteria",
          "Bacteria",
          "Bacteria",
          "Bacteria",
          "Bacteria",
          "Bacteria",
          "Bacteria",
          "Bacteria",
          "Bacteria",
          "Bacteria",
          "Bacteria",
          "Bacteria",
          "Bacteria",
          "Bacteria",
          "Bacteria",
          "Bacteria",
          "Bacteria",
          "Bacteria",
          "Bacteria",
          "Bacteria",
          "Bacteria",
          "Bacteria",
          "Bacteria",
          "Bacteria",
          "Bacteria",
          "Bacteria",
          "Bacteria",
          "Bacteria",
          "Bacteria",
          "Bacteria",
          "Bacteria",
          "Bacteria",
          "Bacteria",
          "Bacteria",
          "Bacteria",
          "Bacteria",
          "Bacteria",
          "Bacteria",
          "Bacteria",
          "Bacteria",
          "Bacteria",
          "Bacteria",
          "Bacteria",
          "Bacteria",
          "Bacteria",
          "Bacteria",
          "Bacteria",
          "Bacteria",
          "Bacteria",
          "Bacteria",
          "Bacteria",
          "Bacteria",
          "Bacteria",
          "Bacteria",
          "Bacteria",
          "Bacteria",
          "Bacteria",
          "Bacteria",
          "Bacteria",
          "Bacteria"
         ],
         "legendgroup": "Bacteria",
         "marker": {
          "color": "#34b8e7",
          "symbol": "circle"
         },
         "mode": "markers",
         "name": "Bacteria",
         "orientation": "v",
         "showlegend": true,
         "type": "scatter",
         "x": [
          0.5040069,
          -0.24493484,
          0.47298962,
          -0.4425568,
          -0.4460212,
          -0.5066077,
          0.11591191,
          0.0354625,
          0.0060688993,
          0.038903914,
          -0.015153,
          -0.10979977,
          -0.05422822,
          -0.061798874,
          -0.06273006,
          -0.06099645,
          -0.05905825,
          0.063876815,
          -0.013105983,
          0.084597155,
          0.11514125,
          0.43812075,
          -0.10606117,
          -0.25023285,
          0.60114247,
          0.2567983,
          0.47989705,
          0.40690038,
          0.41359827,
          0.3692386,
          0.19888364,
          0.16267529,
          0.14345936,
          0.14294769,
          0.25462425,
          0.39238596,
          0.20937082,
          0.17825927,
          0.18820812,
          0.18943547,
          0.19311011,
          0.22331685,
          0.5082831,
          0.5062294,
          0.36676648,
          0.5304242,
          0.4763313,
          0.43697983,
          0.43220982,
          0.33621347,
          0.34850705,
          0.4944681,
          0.4924073,
          0.48007292,
          0.35752845,
          0.2507609,
          0.24830408,
          0.37394655,
          0.35461435,
          0.5294296,
          0.62031305,
          0.6853675,
          0.58291686,
          0.5432263,
          0.6530208,
          0.62219614,
          0.3049297,
          0.23201871,
          0.3036325,
          0.5299213,
          0.35496226,
          0.29009506,
          0.2356973,
          0.1661885,
          0.7611729,
          0.50053394,
          0.4309682,
          0.23331903,
          0.6898903,
          0.23371972,
          0.22608489,
          -0.04324382,
          -0.03523984,
          -0.10813586,
          -0.13345234,
          0.2033479,
          0.20609,
          0.39940578,
          0.4023528,
          0.389027,
          0.60773945,
          0.41142613,
          0.28230938,
          0.34323567,
          0.325576,
          0.3557916,
          0.82621276,
          0.2033448,
          0.15955792,
          0.36517972,
          0.3242402,
          0.34766698,
          0.34160644,
          0.3491454,
          0.36489522,
          0.8683527,
          0.8603352,
          0.84762776,
          0.8652963,
          0.85996747
         ],
         "xaxis": "x",
         "y": [
          0.09392761,
          -0.130921,
          0.55816126,
          0.38143396,
          0.1790247,
          0.000974581,
          0.5759956,
          0.06129074,
          0.16969559,
          0.27638572,
          0.30931202,
          0.31256753,
          0.3042654,
          0.371079,
          0.366412,
          0.3718005,
          0.37204617,
          0.09200823,
          0.25174934,
          0.07977303,
          0.024093062,
          0.011051653,
          0.6046432,
          0.4392662,
          0.21378578,
          0.03459018,
          0.15902598,
          -0.08747836,
          -0.18823919,
          -0.13635924,
          0.4285746,
          0.29109663,
          0.25527,
          0.2555792,
          0.21689159,
          0.2696938,
          -0.8875581,
          -0.8909619,
          -0.8699052,
          -0.8181566,
          -0.84682655,
          -0.84322137,
          0.29434073,
          0.3051776,
          0.02289036,
          0.39288884,
          0.30756667,
          0.3889018,
          0.41202927,
          0.42588177,
          0.4718529,
          0.16870992,
          0.21126285,
          0.15935723,
          -0.09040809,
          0.3959612,
          0.48897213,
          0.31219527,
          0.15791759,
          0.07986674,
          0.12296761,
          0.17355375,
          0.18630831,
          0.062537745,
          -0.118381925,
          -0.055205166,
          0.26484963,
          0.13545136,
          -0.019556904,
          -0.08009967,
          0.28542045,
          0.36536145,
          0.19068073,
          -0.83963746,
          -0.13494243,
          0.4259467,
          0.12233977,
          0.242193,
          -0.09248562,
          0.26179278,
          0.25558406,
          -0.043105245,
          0.0026768777,
          -0.013940074,
          -0.029684927,
          0.06992514,
          0.06081779,
          0.28572446,
          0.27166802,
          0.2871054,
          0.2866308,
          0.52622736,
          0.5801796,
          0.602579,
          0.5873442,
          0.6089816,
          -0.16090378,
          -0.8611851,
          -0.8656354,
          0.585695,
          0.5447334,
          0.55161905,
          0.52714956,
          0.53784776,
          0.5230701,
          -0.14170918,
          -0.14833026,
          -0.14284891,
          -0.16014732,
          -0.11685125
         ],
         "yaxis": "y"
        }
       ],
       "layout": {
        "font": {
         "size": 11
        },
        "height": 800,
        "legend": {
         "title": {
          "text": "Kingdom"
         },
         "tracegroupgap": 0
        },
        "plot_bgcolor": "rgba(0, 0, 0, 0)",
        "shapes": [
         {
          "line": {
           "color": "black",
           "dash": "dot"
          },
          "opacity": 0.15,
          "type": "circle",
          "x0": -0.47058823529411764,
          "x1": 0.47058823529411764,
          "y0": -0.47058823529411764,
          "y1": 0.47058823529411764
         },
         {
          "line": {
           "color": "black",
           "dash": "dot"
          },
          "opacity": 0.15,
          "type": "circle",
          "x0": -0.6447368421052633,
          "x1": 0.6447368421052633,
          "y0": -0.6447368421052633,
          "y1": 0.6447368421052633
         },
         {
          "line": {
           "color": "black",
           "dash": "dot"
          },
          "opacity": 0.15,
          "type": "circle",
          "x0": -0.7705382436260623,
          "x1": 0.7705382436260623,
          "y0": -0.7705382436260623,
          "y1": 0.7705382436260623
         },
         {
          "line": {
           "color": "black",
           "dash": "dot"
          },
          "opacity": 0.15,
          "type": "circle",
          "x0": -0.8557007125890737,
          "x1": 0.8557007125890737,
          "y0": -0.8557007125890737,
          "y1": 0.8557007125890737
         },
         {
          "line": {
           "color": "black",
           "dash": "dot"
          },
          "opacity": 0.15,
          "type": "circle",
          "x0": -0.9108474990827933,
          "x1": 0.9108474990827933,
          "y0": -0.9108474990827933,
          "y1": 0.9108474990827933
         },
         {
          "line": {
           "color": "black",
           "dash": "dot"
          },
          "opacity": 0.15,
          "type": "circle",
          "x0": -0.9455374041239167,
          "x1": 0.9455374041239167,
          "y0": -0.9455374041239167,
          "y1": 0.9455374041239167
         },
         {
          "line": {
           "color": "Black"
          },
          "type": "circle",
          "x0": -1,
          "x1": 1,
          "xref": "x",
          "y0": -1,
          "y1": 1,
          "yref": "y"
         },
         {
          "fillcolor": "Black",
          "line": {
           "color": "Black"
          },
          "type": "circle",
          "x0": -0.005,
          "x1": 0.005,
          "xref": "x",
          "y0": -0.005,
          "y1": 0.005,
          "yref": "y"
         }
        ],
        "template": {
         "data": {
          "bar": [
           {
            "error_x": {
             "color": "#2a3f5f"
            },
            "error_y": {
             "color": "#2a3f5f"
            },
            "marker": {
             "line": {
              "color": "#E5ECF6",
              "width": 0.5
             },
             "pattern": {
              "fillmode": "overlay",
              "size": 10,
              "solidity": 0.2
             }
            },
            "type": "bar"
           }
          ],
          "barpolar": [
           {
            "marker": {
             "line": {
              "color": "#E5ECF6",
              "width": 0.5
             },
             "pattern": {
              "fillmode": "overlay",
              "size": 10,
              "solidity": 0.2
             }
            },
            "type": "barpolar"
           }
          ],
          "carpet": [
           {
            "aaxis": {
             "endlinecolor": "#2a3f5f",
             "gridcolor": "white",
             "linecolor": "white",
             "minorgridcolor": "white",
             "startlinecolor": "#2a3f5f"
            },
            "baxis": {
             "endlinecolor": "#2a3f5f",
             "gridcolor": "white",
             "linecolor": "white",
             "minorgridcolor": "white",
             "startlinecolor": "#2a3f5f"
            },
            "type": "carpet"
           }
          ],
          "choropleth": [
           {
            "colorbar": {
             "outlinewidth": 0,
             "ticks": ""
            },
            "type": "choropleth"
           }
          ],
          "contour": [
           {
            "colorbar": {
             "outlinewidth": 0,
             "ticks": ""
            },
            "colorscale": [
             [
              0,
              "#0d0887"
             ],
             [
              0.1111111111111111,
              "#46039f"
             ],
             [
              0.2222222222222222,
              "#7201a8"
             ],
             [
              0.3333333333333333,
              "#9c179e"
             ],
             [
              0.4444444444444444,
              "#bd3786"
             ],
             [
              0.5555555555555556,
              "#d8576b"
             ],
             [
              0.6666666666666666,
              "#ed7953"
             ],
             [
              0.7777777777777778,
              "#fb9f3a"
             ],
             [
              0.8888888888888888,
              "#fdca26"
             ],
             [
              1,
              "#f0f921"
             ]
            ],
            "type": "contour"
           }
          ],
          "contourcarpet": [
           {
            "colorbar": {
             "outlinewidth": 0,
             "ticks": ""
            },
            "type": "contourcarpet"
           }
          ],
          "heatmap": [
           {
            "colorbar": {
             "outlinewidth": 0,
             "ticks": ""
            },
            "colorscale": [
             [
              0,
              "#0d0887"
             ],
             [
              0.1111111111111111,
              "#46039f"
             ],
             [
              0.2222222222222222,
              "#7201a8"
             ],
             [
              0.3333333333333333,
              "#9c179e"
             ],
             [
              0.4444444444444444,
              "#bd3786"
             ],
             [
              0.5555555555555556,
              "#d8576b"
             ],
             [
              0.6666666666666666,
              "#ed7953"
             ],
             [
              0.7777777777777778,
              "#fb9f3a"
             ],
             [
              0.8888888888888888,
              "#fdca26"
             ],
             [
              1,
              "#f0f921"
             ]
            ],
            "type": "heatmap"
           }
          ],
          "heatmapgl": [
           {
            "colorbar": {
             "outlinewidth": 0,
             "ticks": ""
            },
            "colorscale": [
             [
              0,
              "#0d0887"
             ],
             [
              0.1111111111111111,
              "#46039f"
             ],
             [
              0.2222222222222222,
              "#7201a8"
             ],
             [
              0.3333333333333333,
              "#9c179e"
             ],
             [
              0.4444444444444444,
              "#bd3786"
             ],
             [
              0.5555555555555556,
              "#d8576b"
             ],
             [
              0.6666666666666666,
              "#ed7953"
             ],
             [
              0.7777777777777778,
              "#fb9f3a"
             ],
             [
              0.8888888888888888,
              "#fdca26"
             ],
             [
              1,
              "#f0f921"
             ]
            ],
            "type": "heatmapgl"
           }
          ],
          "histogram": [
           {
            "marker": {
             "pattern": {
              "fillmode": "overlay",
              "size": 10,
              "solidity": 0.2
             }
            },
            "type": "histogram"
           }
          ],
          "histogram2d": [
           {
            "colorbar": {
             "outlinewidth": 0,
             "ticks": ""
            },
            "colorscale": [
             [
              0,
              "#0d0887"
             ],
             [
              0.1111111111111111,
              "#46039f"
             ],
             [
              0.2222222222222222,
              "#7201a8"
             ],
             [
              0.3333333333333333,
              "#9c179e"
             ],
             [
              0.4444444444444444,
              "#bd3786"
             ],
             [
              0.5555555555555556,
              "#d8576b"
             ],
             [
              0.6666666666666666,
              "#ed7953"
             ],
             [
              0.7777777777777778,
              "#fb9f3a"
             ],
             [
              0.8888888888888888,
              "#fdca26"
             ],
             [
              1,
              "#f0f921"
             ]
            ],
            "type": "histogram2d"
           }
          ],
          "histogram2dcontour": [
           {
            "colorbar": {
             "outlinewidth": 0,
             "ticks": ""
            },
            "colorscale": [
             [
              0,
              "#0d0887"
             ],
             [
              0.1111111111111111,
              "#46039f"
             ],
             [
              0.2222222222222222,
              "#7201a8"
             ],
             [
              0.3333333333333333,
              "#9c179e"
             ],
             [
              0.4444444444444444,
              "#bd3786"
             ],
             [
              0.5555555555555556,
              "#d8576b"
             ],
             [
              0.6666666666666666,
              "#ed7953"
             ],
             [
              0.7777777777777778,
              "#fb9f3a"
             ],
             [
              0.8888888888888888,
              "#fdca26"
             ],
             [
              1,
              "#f0f921"
             ]
            ],
            "type": "histogram2dcontour"
           }
          ],
          "mesh3d": [
           {
            "colorbar": {
             "outlinewidth": 0,
             "ticks": ""
            },
            "type": "mesh3d"
           }
          ],
          "parcoords": [
           {
            "line": {
             "colorbar": {
              "outlinewidth": 0,
              "ticks": ""
             }
            },
            "type": "parcoords"
           }
          ],
          "pie": [
           {
            "automargin": true,
            "type": "pie"
           }
          ],
          "scatter": [
           {
            "fillpattern": {
             "fillmode": "overlay",
             "size": 10,
             "solidity": 0.2
            },
            "type": "scatter"
           }
          ],
          "scatter3d": [
           {
            "line": {
             "colorbar": {
              "outlinewidth": 0,
              "ticks": ""
             }
            },
            "marker": {
             "colorbar": {
              "outlinewidth": 0,
              "ticks": ""
             }
            },
            "type": "scatter3d"
           }
          ],
          "scattercarpet": [
           {
            "marker": {
             "colorbar": {
              "outlinewidth": 0,
              "ticks": ""
             }
            },
            "type": "scattercarpet"
           }
          ],
          "scattergeo": [
           {
            "marker": {
             "colorbar": {
              "outlinewidth": 0,
              "ticks": ""
             }
            },
            "type": "scattergeo"
           }
          ],
          "scattergl": [
           {
            "marker": {
             "colorbar": {
              "outlinewidth": 0,
              "ticks": ""
             }
            },
            "type": "scattergl"
           }
          ],
          "scattermapbox": [
           {
            "marker": {
             "colorbar": {
              "outlinewidth": 0,
              "ticks": ""
             }
            },
            "type": "scattermapbox"
           }
          ],
          "scatterpolar": [
           {
            "marker": {
             "colorbar": {
              "outlinewidth": 0,
              "ticks": ""
             }
            },
            "type": "scatterpolar"
           }
          ],
          "scatterpolargl": [
           {
            "marker": {
             "colorbar": {
              "outlinewidth": 0,
              "ticks": ""
             }
            },
            "type": "scatterpolargl"
           }
          ],
          "scatterternary": [
           {
            "marker": {
             "colorbar": {
              "outlinewidth": 0,
              "ticks": ""
             }
            },
            "type": "scatterternary"
           }
          ],
          "surface": [
           {
            "colorbar": {
             "outlinewidth": 0,
             "ticks": ""
            },
            "colorscale": [
             [
              0,
              "#0d0887"
             ],
             [
              0.1111111111111111,
              "#46039f"
             ],
             [
              0.2222222222222222,
              "#7201a8"
             ],
             [
              0.3333333333333333,
              "#9c179e"
             ],
             [
              0.4444444444444444,
              "#bd3786"
             ],
             [
              0.5555555555555556,
              "#d8576b"
             ],
             [
              0.6666666666666666,
              "#ed7953"
             ],
             [
              0.7777777777777778,
              "#fb9f3a"
             ],
             [
              0.8888888888888888,
              "#fdca26"
             ],
             [
              1,
              "#f0f921"
             ]
            ],
            "type": "surface"
           }
          ],
          "table": [
           {
            "cells": {
             "fill": {
              "color": "#EBF0F8"
             },
             "line": {
              "color": "white"
             }
            },
            "header": {
             "fill": {
              "color": "#C8D4E3"
             },
             "line": {
              "color": "white"
             }
            },
            "type": "table"
           }
          ]
         },
         "layout": {
          "annotationdefaults": {
           "arrowcolor": "#2a3f5f",
           "arrowhead": 0,
           "arrowwidth": 1
          },
          "autotypenumbers": "strict",
          "coloraxis": {
           "colorbar": {
            "outlinewidth": 0,
            "ticks": ""
           }
          },
          "colorscale": {
           "diverging": [
            [
             0,
             "#8e0152"
            ],
            [
             0.1,
             "#c51b7d"
            ],
            [
             0.2,
             "#de77ae"
            ],
            [
             0.3,
             "#f1b6da"
            ],
            [
             0.4,
             "#fde0ef"
            ],
            [
             0.5,
             "#f7f7f7"
            ],
            [
             0.6,
             "#e6f5d0"
            ],
            [
             0.7,
             "#b8e186"
            ],
            [
             0.8,
             "#7fbc41"
            ],
            [
             0.9,
             "#4d9221"
            ],
            [
             1,
             "#276419"
            ]
           ],
           "sequential": [
            [
             0,
             "#0d0887"
            ],
            [
             0.1111111111111111,
             "#46039f"
            ],
            [
             0.2222222222222222,
             "#7201a8"
            ],
            [
             0.3333333333333333,
             "#9c179e"
            ],
            [
             0.4444444444444444,
             "#bd3786"
            ],
            [
             0.5555555555555556,
             "#d8576b"
            ],
            [
             0.6666666666666666,
             "#ed7953"
            ],
            [
             0.7777777777777778,
             "#fb9f3a"
            ],
            [
             0.8888888888888888,
             "#fdca26"
            ],
            [
             1,
             "#f0f921"
            ]
           ],
           "sequentialminus": [
            [
             0,
             "#0d0887"
            ],
            [
             0.1111111111111111,
             "#46039f"
            ],
            [
             0.2222222222222222,
             "#7201a8"
            ],
            [
             0.3333333333333333,
             "#9c179e"
            ],
            [
             0.4444444444444444,
             "#bd3786"
            ],
            [
             0.5555555555555556,
             "#d8576b"
            ],
            [
             0.6666666666666666,
             "#ed7953"
            ],
            [
             0.7777777777777778,
             "#fb9f3a"
            ],
            [
             0.8888888888888888,
             "#fdca26"
            ],
            [
             1,
             "#f0f921"
            ]
           ]
          },
          "colorway": [
           "#636efa",
           "#EF553B",
           "#00cc96",
           "#ab63fa",
           "#FFA15A",
           "#19d3f3",
           "#FF6692",
           "#B6E880",
           "#FF97FF",
           "#FECB52"
          ],
          "font": {
           "color": "#2a3f5f"
          },
          "geo": {
           "bgcolor": "white",
           "lakecolor": "white",
           "landcolor": "#E5ECF6",
           "showlakes": true,
           "showland": true,
           "subunitcolor": "white"
          },
          "hoverlabel": {
           "align": "left"
          },
          "hovermode": "closest",
          "mapbox": {
           "style": "light"
          },
          "paper_bgcolor": "white",
          "plot_bgcolor": "#E5ECF6",
          "polar": {
           "angularaxis": {
            "gridcolor": "white",
            "linecolor": "white",
            "ticks": ""
           },
           "bgcolor": "#E5ECF6",
           "radialaxis": {
            "gridcolor": "white",
            "linecolor": "white",
            "ticks": ""
           }
          },
          "scene": {
           "xaxis": {
            "backgroundcolor": "#E5ECF6",
            "gridcolor": "white",
            "gridwidth": 2,
            "linecolor": "white",
            "showbackground": true,
            "ticks": "",
            "zerolinecolor": "white"
           },
           "yaxis": {
            "backgroundcolor": "#E5ECF6",
            "gridcolor": "white",
            "gridwidth": 2,
            "linecolor": "white",
            "showbackground": true,
            "ticks": "",
            "zerolinecolor": "white"
           },
           "zaxis": {
            "backgroundcolor": "#E5ECF6",
            "gridcolor": "white",
            "gridwidth": 2,
            "linecolor": "white",
            "showbackground": true,
            "ticks": "",
            "zerolinecolor": "white"
           }
          },
          "shapedefaults": {
           "line": {
            "color": "#2a3f5f"
           }
          },
          "ternary": {
           "aaxis": {
            "gridcolor": "white",
            "linecolor": "white",
            "ticks": ""
           },
           "baxis": {
            "gridcolor": "white",
            "linecolor": "white",
            "ticks": ""
           },
           "bgcolor": "#E5ECF6",
           "caxis": {
            "gridcolor": "white",
            "linecolor": "white",
            "ticks": ""
           }
          },
          "title": {
           "x": 0.05
          },
          "xaxis": {
           "automargin": true,
           "gridcolor": "white",
           "linecolor": "white",
           "ticks": "",
           "title": {
            "standoff": 15
           },
           "zerolinecolor": "white",
           "zerolinewidth": 2
          },
          "yaxis": {
           "automargin": true,
           "gridcolor": "white",
           "linecolor": "white",
           "ticks": "",
           "title": {
            "standoff": 15
           },
           "zerolinecolor": "white",
           "zerolinewidth": 2
          }
         }
        },
        "title": {
         "text": "PM projection of thioredoxins colored by kingdom of life",
         "x": 0.5
        },
        "xaxis": {
         "anchor": "y",
         "constrain": "domain",
         "domain": [
          0,
          1
         ],
         "range": [
          -1.1,
          1.1
         ],
         "title": {
          "text": "pm1"
         }
        },
        "yaxis": {
         "anchor": "x",
         "domain": [
          0,
          1
         ],
         "scaleanchor": "x",
         "scaleratio": 1,
         "title": {
          "text": "pm2"
         }
        },
        "yaxis2": {
         "layer": "below traces",
         "matches": "y",
         "overlaying": "y"
        }
       }
      },
      "text/html": [
       "<div>                            <div id=\"86989d64-eb70-48df-a6c7-630cd5a9525a\" class=\"plotly-graph-div\" style=\"height:800px; width:100%;\"></div>            <script type=\"text/javascript\">                require([\"plotly\"], function(Plotly) {                    window.PLOTLYENV=window.PLOTLYENV || {};                                    if (document.getElementById(\"86989d64-eb70-48df-a6c7-630cd5a9525a\")) {                    Plotly.newPlot(                        \"86989d64-eb70-48df-a6c7-630cd5a9525a\",                        [{\"customdata\":[[0,\"LBCA\",\"LBCA\",\"LBCA\",\"OTHERS\"]],\"hovertemplate\":\"<b>%{hovertext}</b><br><br>Kingdom=%{customdata[2]}<br>pm1=%{x}<br>pm2=%{y}<br>Unnamed: 0=%{customdata[0]}<br>Species=%{customdata[1]}<br>Family=%{customdata[3]}<br>Color_eukaryota=%{customdata[4]}<extra></extra>\",\"hovertext\":[\"LBCA\"],\"legendgroup\":\"LBCA\",\"marker\":{\"color\":\"#34b8e7\",\"symbol\":\"circle\"},\"mode\":\"markers\",\"name\":\"LBCA\",\"orientation\":\"v\",\"showlegend\":true,\"x\":[0.18389252],\"xaxis\":\"x\",\"y\":[0.108608946],\"yaxis\":\"y\",\"type\":\"scatter\"},{\"customdata\":[[1,\"LACA\",\"LACA\",\"LACA\",\"OTHERS\"]],\"hovertemplate\":\"<b>%{hovertext}</b><br><br>Kingdom=%{customdata[2]}<br>pm1=%{x}<br>pm2=%{y}<br>Unnamed: 0=%{customdata[0]}<br>Species=%{customdata[1]}<br>Family=%{customdata[3]}<br>Color_eukaryota=%{customdata[4]}<extra></extra>\",\"hovertext\":[\"LACA\"],\"legendgroup\":\"LACA\",\"marker\":{\"color\":\"#ff0000\",\"symbol\":\"circle\"},\"mode\":\"markers\",\"name\":\"LACA\",\"orientation\":\"v\",\"showlegend\":true,\"x\":[0.111037545],\"xaxis\":\"x\",\"y\":[-0.1417153],\"yaxis\":\"y\",\"type\":\"scatter\"},{\"customdata\":[[2,\"AECA\",\"AECA\",\"AECA\",\"OTHERS\"]],\"hovertemplate\":\"<b>%{hovertext}</b><br><br>Kingdom=%{customdata[2]}<br>pm1=%{x}<br>pm2=%{y}<br>Unnamed: 0=%{customdata[0]}<br>Species=%{customdata[1]}<br>Family=%{customdata[3]}<br>Color_eukaryota=%{customdata[4]}<extra></extra>\",\"hovertext\":[\"AECA\"],\"legendgroup\":\"AECA\",\"marker\":{\"color\":\"#e7e53c\",\"symbol\":\"circle\"},\"mode\":\"markers\",\"name\":\"AECA\",\"orientation\":\"v\",\"showlegend\":true,\"x\":[0.050592925],\"xaxis\":\"x\",\"y\":[-0.098363124],\"yaxis\":\"y\",\"type\":\"scatter\"},{\"customdata\":[[3,\"LGPCA\",\"LGPCA\",\"LGPCA\",\"OTHERS\"]],\"hovertemplate\":\"<b>%{hovertext}</b><br><br>Kingdom=%{customdata[2]}<br>pm1=%{x}<br>pm2=%{y}<br>Unnamed: 0=%{customdata[0]}<br>Species=%{customdata[1]}<br>Family=%{customdata[3]}<br>Color_eukaryota=%{customdata[4]}<extra></extra>\",\"hovertext\":[\"LGPCA\"],\"legendgroup\":\"LGPCA\",\"marker\":{\"color\":\"#34b8e7\",\"symbol\":\"circle\"},\"mode\":\"markers\",\"name\":\"LGPCA\",\"orientation\":\"v\",\"showlegend\":true,\"x\":[0.313914],\"xaxis\":\"x\",\"y\":[0.43765968],\"yaxis\":\"y\",\"type\":\"scatter\"},{\"customdata\":[[4,\"LECA\",\"LECA\",\"LECA\",\"OTHERS\"]],\"hovertemplate\":\"<b>%{hovertext}</b><br><br>Kingdom=%{customdata[2]}<br>pm1=%{x}<br>pm2=%{y}<br>Unnamed: 0=%{customdata[0]}<br>Species=%{customdata[1]}<br>Family=%{customdata[3]}<br>Color_eukaryota=%{customdata[4]}<extra></extra>\",\"hovertext\":[\"LECA\"],\"legendgroup\":\"LECA\",\"marker\":{\"color\":\"#21e548\",\"symbol\":\"circle\"},\"mode\":\"markers\",\"name\":\"LECA\",\"orientation\":\"v\",\"showlegend\":true,\"x\":[-0.63303715],\"xaxis\":\"x\",\"y\":[-0.0017171632],\"yaxis\":\"y\",\"type\":\"scatter\"},{\"customdata\":[[5,\"LPBCA\",\"LPBCA\",\"LPBCA\",\"OTHERS\"]],\"hovertemplate\":\"<b>%{hovertext}</b><br><br>Kingdom=%{customdata[2]}<br>pm1=%{x}<br>pm2=%{y}<br>Unnamed: 0=%{customdata[0]}<br>Species=%{customdata[1]}<br>Family=%{customdata[3]}<br>Color_eukaryota=%{customdata[4]}<extra></extra>\",\"hovertext\":[\"LPBCA\"],\"legendgroup\":\"LPBCA\",\"marker\":{\"color\":\"#34b8e7\",\"symbol\":\"circle\"},\"mode\":\"markers\",\"name\":\"LPBCA\",\"orientation\":\"v\",\"showlegend\":true,\"x\":[0.30017877],\"xaxis\":\"x\",\"y\":[0.15301032],\"yaxis\":\"y\",\"type\":\"scatter\"},{\"customdata\":[[6,\"LAFCA\",\"LAFCA\",\"LAFCA\",\"OTHERS\"]],\"hovertemplate\":\"<b>%{hovertext}</b><br><br>Kingdom=%{customdata[2]}<br>pm1=%{x}<br>pm2=%{y}<br>Unnamed: 0=%{customdata[0]}<br>Species=%{customdata[1]}<br>Family=%{customdata[3]}<br>Color_eukaryota=%{customdata[4]}<extra></extra>\",\"hovertext\":[\"LAFCA\"],\"legendgroup\":\"LAFCA\",\"marker\":{\"color\":\"#21e548\",\"symbol\":\"circle\"},\"mode\":\"markers\",\"name\":\"LAFCA\",\"orientation\":\"v\",\"showlegend\":true,\"x\":[-0.6711158],\"xaxis\":\"x\",\"y\":[-0.028322173],\"yaxis\":\"y\",\"type\":\"scatter\"},{\"customdata\":[[7,\"Ovis\",\"Eukaryota\",\"Metazoa\",\"EUKARYOTA\"],[8,\"Bos\",\"Eukaryota\",\"Metazoa\",\"EUKARYOTA\"],[9,\"Sus\",\"Eukaryota\",\"Metazoa\",\"EUKARYOTA\"],[10,\"Equus\",\"Eukaryota\",\"Metazoa\",\"EUKARYOTA\"],[11,\"Mus\",\"Eukaryota\",\"Metazoa\",\"EUKARYOTA\"],[12,\"Rattus\",\"Eukaryota\",\"Metazoa\",\"EUKARYOTA\"],[13,\"Rabit\",\"Eukaryota\",\"Metazoa\",\"EUKARYOTA\"],[14,\"Human\",\"Eukaryota\",\"Metazoa\",\"EUKARYOTA\"],[15,\"Ponab\",\"Eukaryota\",\"Metazoa\",\"EUKARYOTA\"],[16,\"Macmu\",\"Eukaryota\",\"Metazoa\",\"EUKARYOTA\"],[17,\"Callithrix\",\"Eukaryota\",\"Metazoa\",\"EUKARYOTA\"],[18,\"Monodelphis\",\"Eukaryota\",\"Metazoa\",\"EUKARYOTA\"],[19,\"Ornithorhynchus\",\"Eukaryota\",\"Metazoa\",\"EUKARYOTA\"],[20,\"Gallus\",\"Eukaryota\",\"Metazoa\",\"EUKARYOTA\"],[21,\"Melopsittacus\",\"Eukaryota\",\"Metazoa\",\"EUKARYOTA\"],[22,\"Ophiophagus\",\"Eukaryota\",\"Metazoa\",\"EUKARYOTA\"],[23,\"Xenopus\",\"Eukaryota\",\"Metazoa\",\"EUKARYOTA\"],[24,\"Tetraodon\",\"Eukaryota\",\"Metazoa\",\"EUKARYOTA\"],[25,\"Ictalurus\",\"Eukaryota\",\"Metazoa\",\"EUKARYOTA\"],[26,\"Danio\",\"Eukaryota\",\"Metazoa\",\"EUKARYOTA\"],[27,\"Drosophila\",\"Eukaryota\",\"Metazoa\",\"EUKARYOTA\"],[28,\"Drosophila\",\"Eukaryota\",\"Metazoa\",\"EUKARYOTA\"],[29,\"Drosophila\",\"Eukaryota\",\"Metazoa\",\"EUKARYOTA\"],[30,\"Apis\",\"Eukaryota\",\"Metazoa\",\"EUKARYOTA\"],[31,\"Tribolium\",\"Eukaryota\",\"Metazoa\",\"EUKARYOTA\"],[32,\"Bombyx\",\"Eukaryota\",\"Metazoa\",\"EUKARYOTA\"],[33,\"Graphocephala\",\"Eukaryota\",\"Metazoa\",\"EUKARYOTA\"],[34,\"Litopenaeus\",\"Eukaryota\",\"Metazoa\",\"EUKARYOTA\"],[35,\"Geocy\",\"Eukaryota\",\"Metazoa\",\"EUKARYOTA\"],[36,\"Aspergillus\",\"Eukaryota\",\"Fungi\",\"EUKARYOTA\"],[37,\"Neosartorya\",\"Eukaryota\",\"Fungi\",\"EUKARYOTA\"],[38,\"Aspergillus\",\"Eukaryota\",\"Fungi\",\"EUKARYOTA\"],[39,\"Aspergillus\",\"Eukaryota\",\"Fungi\",\"EUKARYOTA\"],[40,\"Pichia\",\"Eukaryota\",\"Fungi\",\"EUKARYOTA\"],[41,\"Candida\",\"Eukaryota\",\"Fungi\",\"EUKARYOTA\"],[42,\"Pichia\",\"Eukaryota\",\"Fungi\",\"EUKARYOTA\"],[43,\"Kluyveromyces\",\"Eukaryota\",\"Fungi\",\"EUKARYOTA\"],[44,\"Saccharomyces\",\"Eukaryota\",\"Fungi\",\"EUKARYOTA\"],[45,\"Candida\",\"Eukaryota\",\"Fungi\",\"EUKARYOTA\"],[46,\"Saccharomyces\",\"Eukaryota\",\"Fungi\",\"EUKARYOTA\"],[47,\"Schizosaccharomyces\",\"Eukaryota\",\"Fungi\",\"EUKARYOTA\"],[48,\"Monosiga\",\"Eukaryota\",\"Choanoflagellata\",\"EUKARYOTA\"],[49,\"Entamoeba\",\"Eukaryota\",\"Amoebozoa\",\"EUKARYOTA\"],[50,\"Dictyostelium\",\"Eukaryota\",\"Amoebozoa\",\"EUKARYOTA\"],[51,\"Arabidopsis\",\"Eukaryota\",\"Viridiplantae\",\"EUKARYOTA\"],[52,\"Arabidopsis\",\"Eukaryota\",\"Viridiplantae\",\"EUKARYOTA\"],[53,\"Limonium\",\"Eukaryota\",\"Viridiplantae\",\"EUKARYOTA\"],[54,\"Zea\",\"Eukaryota\",\"Viridiplantae\",\"EUKARYOTA\"],[55,\"Vitis\",\"Eukaryota\",\"Viridiplantae\",\"EUKARYOTA\"],[56,\"Ostreococcus\",\"Eukaryota\",\"Viridiplantae\",\"EUKARYOTA\"],[57,\"Helicosporidium\",\"Eukaryota\",\"Viridiplantae\",\"EUKARYOTA\"],[58,\"Fagopyrum\",\"Eukaryota\",\"Viridiplantae\",\"EUKARYOTA\"],[59,\"Cryptosporidium\",\"Eukaryota\",\"Alveolata\",\"EUKARYOTA\"],[60,\"Theileria\",\"Eukaryota\",\"Sar\",\"EUKARYOTA\"],[61,\"Plasmodium\",\"Eukaryota\",\"Alveolata\",\"EUKARYOTA\"],[154,\"Pea Chloroplast\",\"Eukaryota\",\"Viridiplantae\",\"CHLOROPLAST\"],[155,\"Spiol Chloroplast\",\"Eukaryota\",\"Viridiplantae\",\"CHLOROPLAST\"],[156,\"Wheat Chloroplast\",\"Eukaryota\",\"Viridiplantae\",\"CHLOROPLAST\"],[157,\"Pisum Chloroplast\",\"Eukaryota\",\"Viridiplantae\",\"CHLOROPLAST\"],[158,\"Brana Chloroplast\",\"Eukaryota\",\"Viridiplantae\",\"CHLOROPLAST\"],[186,\"Bovin Mitochondrio\",\"Eukaryota\",\"Metazoa\",\"MITOCHONDRION\"],[187,\"Equus\",\"Eukaryota\",\"Metazoa\",\"EUKARYOTA\"],[188,\"Homo Mitochondrion\",\"Eukaryota\",\"Metazoa\",\"MITOCHONDRION\"],[189,\"Rattus Mitochondrio\",\"Eukaryota\",\"Metazoa\",\"MITOCHONDRION\"],[190,\"Mus Mitochondrion\",\"Eukaryota\",\"Metazoa\",\"MITOCHONDRION\"]],\"hovertemplate\":\"<b>%{hovertext}</b><br><br>Kingdom=%{customdata[2]}<br>pm1=%{x}<br>pm2=%{y}<br>Unnamed: 0=%{customdata[0]}<br>Species=%{customdata[1]}<br>Family=%{customdata[3]}<br>Color_eukaryota=%{customdata[4]}<extra></extra>\",\"hovertext\":[\"Eukaryota\",\"Eukaryota\",\"Eukaryota\",\"Eukaryota\",\"Eukaryota\",\"Eukaryota\",\"Eukaryota\",\"Eukaryota\",\"Eukaryota\",\"Eukaryota\",\"Eukaryota\",\"Eukaryota\",\"Eukaryota\",\"Eukaryota\",\"Eukaryota\",\"Eukaryota\",\"Eukaryota\",\"Eukaryota\",\"Eukaryota\",\"Eukaryota\",\"Eukaryota\",\"Eukaryota\",\"Eukaryota\",\"Eukaryota\",\"Eukaryota\",\"Eukaryota\",\"Eukaryota\",\"Eukaryota\",\"Eukaryota\",\"Eukaryota\",\"Eukaryota\",\"Eukaryota\",\"Eukaryota\",\"Eukaryota\",\"Eukaryota\",\"Eukaryota\",\"Eukaryota\",\"Eukaryota\",\"Eukaryota\",\"Eukaryota\",\"Eukaryota\",\"Eukaryota\",\"Eukaryota\",\"Eukaryota\",\"Eukaryota\",\"Eukaryota\",\"Eukaryota\",\"Eukaryota\",\"Eukaryota\",\"Eukaryota\",\"Eukaryota\",\"Eukaryota\",\"Eukaryota\",\"Eukaryota\",\"Eukaryota\",\"Eukaryota\",\"Eukaryota\",\"Eukaryota\",\"Eukaryota\",\"Eukaryota\",\"Eukaryota\",\"Eukaryota\",\"Eukaryota\",\"Eukaryota\",\"Eukaryota\"],\"legendgroup\":\"Eukaryota\",\"marker\":{\"color\":\"#21e548\",\"symbol\":\"circle\"},\"mode\":\"markers\",\"name\":\"Eukaryota\",\"orientation\":\"v\",\"showlegend\":true,\"x\":[-0.84257185,-0.85646325,-0.84598905,-0.81090814,-0.81464094,-0.812737,-0.8607577,-0.8415084,-0.83648366,-0.82155627,-0.8227882,0.7402804,-0.7869309,-0.84328246,-0.8308515,-0.82625085,-0.7864245,-0.74686414,-0.7774597,-0.7198608,-0.75331324,-0.748439,-0.7313381,-0.74180365,-0.73487693,-0.7247355,-0.7247921,-0.7117707,-0.6954949,-0.6810791,-0.7521039,-0.73197603,-0.73390985,-0.57037693,-0.62652355,-0.66944695,-0.615969,-0.6591339,-0.60802054,-0.6525111,-0.7071143,-0.6314559,-0.756797,-0.7026959,0.86114365,0.84289294,0.86750895,0.8898363,0.874268,-0.71635604,-0.7375467,-0.6551419,-0.6249803,-0.81088555,-0.731728,0.8524639,0.88229173,0.87905174,0.86051095,0.87869513,0.7762942,0.76819754,0.7598772,0.76795524,0.7531102],\"xaxis\":\"x\",\"y\":[-0.07941825,-0.05296301,-0.0579008,-0.08104239,-0.029657762,-0.037687875,-0.019577218,-0.04593345,-0.019532587,-0.061917007,-0.04019381,-0.49634287,-0.0936573,-0.122904055,-0.12267471,-0.1080902,-0.15429442,-0.15780155,-0.18446364,-0.15570429,-0.5310014,-0.5475899,-0.5524903,-0.5190686,-0.5304727,-0.53849876,-0.49430734,-0.5291109,-0.2996023,0.11914146,0.16425893,0.19756268,0.21699464,-0.13791098,0.2946659,0.19888036,0.23958886,0.29400313,0.26075897,0.25796384,0.16122662,-0.0709549,-0.19151846,-0.113642864,0.20506479,0.2193647,0.24155946,0.26888776,0.26825014,-0.026540766,-0.07159258,0.062075492,0.21035507,0.0577559,0.076384,0.27847457,0.250263,0.2813189,0.25488907,0.22154756,-0.50750846,-0.49516883,-0.50699115,-0.5201371,-0.5204549],\"yaxis\":\"y\",\"type\":\"scatter\"},{\"customdata\":[[62,\"Archaeoglobus\",\"Archaea\",\"Euryarchaeota\",\"OTHERS\"],[63,\"Methanosaeta\",\"Archaea\",\"Euryarchaeota\",\"OTHERS\"],[64,\"Methanococcoides\",\"Archaea\",\"Euryarchaeota\",\"OTHERS\"],[65,\"Candidatus\",\"Archaea\",\"Euryarchaeota\",\"OTHERS\"],[66,\"Methanospirillum\",\"Archaea\",\"Euryarchaeota\",\"OTHERS\"],[67,\"Picrophilus\",\"Archaea\",\"Euryarchaeota\",\"OTHERS\"],[68,\"Methanococcus\",\"Archaea\",\"Euryarchaeota\",\"OTHERS\"],[69,\"Methanocorpusculum\",\"Archaea\",\"Euryarchaeota\",\"OTHERS\"],[70,\"Methanosaeta\",\"Archaea\",\"Euryarchaeota\",\"OTHERS\"],[71,\"Natronomonas\",\"Archaea\",\"Euryarchaeota\",\"OTHERS\"],[72,\"Haloquadratum\",\"Archaea\",\"Euryarchaeota\",\"OTHERS\"],[73,\"Haloarcula\",\"Archaea\",\"Euryarchaeota\",\"OTHERS\"],[74,\"Natronomonas\",\"Archaea\",\"Euryarchaeota\",\"OTHERS\"],[75,\"Halobacterium\",\"Archaea\",\"Euryarchaeota\",\"OTHERS\"],[76,\"Archaeoglobus\",\"Archaea\",\"Euryarchaeota\",\"OTHERS\"],[77,\"Thermoplasma\",\"Archaea\",\"Euryarchaeota\",\"OTHERS\"],[78,\"Thermofilum\",\"Archaea\",\"Crenarchaeota\",\"OTHERS\"],[79,\"Caldivirga\",\"Archaea\",\"Crenarchaeota\",\"OTHERS\"],[80,\"Sulfolobus\",\"Archaea\",\"Crenarchaeota\",\"OTHERS\"],[81,\"Sulfolobus\",\"Archaea\",\"Crenarchaeota\",\"OTHERS\"],[82,\"Sulfolobus\",\"Archaea\",\"Crenarchaeota\",\"OTHERS\"],[83,\"Hyperthermus\",\"Archaea\",\"Crenarchaeota\",\"OTHERS\"],[84,\"Aeropyrum\",\"Archaea\",\"Crenarchaeota\",\"OTHERS\"],[85,\"Metallosphaera\",\"Archaea\",\"Crenarchaeota\",\"OTHERS\"],[86,\"Sulfolobus\",\"Archaea\",\"Crenarchaeota\",\"OTHERS\"],[87,\"Sulfolobus\",\"Archaea\",\"Crenarchaeota\",\"OTHERS\"],[88,\"Staphylothermus\",\"Archaea\",\"Crenarchaeota\",\"OTHERS\"],[89,\"Aeropyrum\",\"Archaea\",\"Crenarchaeota\",\"OTHERS\"]],\"hovertemplate\":\"<b>%{hovertext}</b><br><br>Kingdom=%{customdata[2]}<br>pm1=%{x}<br>pm2=%{y}<br>Unnamed: 0=%{customdata[0]}<br>Species=%{customdata[1]}<br>Family=%{customdata[3]}<br>Color_eukaryota=%{customdata[4]}<extra></extra>\",\"hovertext\":[\"Archaea\",\"Archaea\",\"Archaea\",\"Archaea\",\"Archaea\",\"Archaea\",\"Archaea\",\"Archaea\",\"Archaea\",\"Archaea\",\"Archaea\",\"Archaea\",\"Archaea\",\"Archaea\",\"Archaea\",\"Archaea\",\"Archaea\",\"Archaea\",\"Archaea\",\"Archaea\",\"Archaea\",\"Archaea\",\"Archaea\",\"Archaea\",\"Archaea\",\"Archaea\",\"Archaea\",\"Archaea\"],\"legendgroup\":\"Archaea\",\"marker\":{\"color\":\"#ff0000\",\"symbol\":\"circle\"},\"mode\":\"markers\",\"name\":\"Archaea\",\"orientation\":\"v\",\"showlegend\":true,\"x\":[0.20612599,0.1019516,0.03265355,0.17626055,0.17642745,-0.053208943,-0.06653563,0.327191,0.37916875,-0.08388916,-0.089336336,-0.09375717,-0.040630043,-0.07796227,0.116339475,0.08195666,0.26498067,0.01931581,-0.04182314,-0.03586334,-0.041493356,0.15418682,0.16320363,0.19525325,0.15933071,0.17678572,0.22604832,0.2932314],\"xaxis\":\"x\",\"y\":[-0.008712659,-0.18376373,-0.2033935,-0.09225356,-0.09174974,-0.3469995,0.21421278,0.046584513,0.08937337,0.7302229,0.74159443,0.7322303,0.7244389,0.736704,-0.0476018,0.042008072,-0.08041127,-0.35878596,-0.34749103,-0.3330807,-0.34721553,-0.34671915,-0.3447164,-0.3226127,-0.2983674,-0.3205516,-0.3818146,-0.32630885],\"yaxis\":\"y\",\"type\":\"scatter\"},{\"customdata\":[[90,\"Clostridium\",\"Bacteria\",\"Firmicutes\",\"OTHERS\"],[91,\"Thermoanaerobacter\",\"Bacteria\",\"Firmicutes\",\"OTHERS\"],[92,\"Bacillus\",\"Bacteria\",\"Firmicutes\",\"OTHERS\"],[93,\"Bacillus\",\"Bacteria\",\"Firmicutes\",\"OTHERS\"],[94,\"Streptococcus\",\"Bacteria\",\"Firmicutes\",\"OTHERS\"],[95,\"Enterococcus\",\"Bacteria\",\"Firmicutes\",\"OTHERS\"],[96,\"Listeria\",\"Bacteria\",\"Firmicutes\",\"OTHERS\"],[97,\"Lactobacillus\",\"Bacteria\",\"Firmicutes\",\"OTHERS\"],[98,\"Lactobacillus\",\"Bacteria\",\"Firmicutes\",\"OTHERS\"],[99,\"Staphylococcus\",\"Bacteria\",\"Firmicutes\",\"OTHERS\"],[100,\"Geobacillus\",\"Bacteria\",\"Firmicutes\",\"OTHERS\"],[101,\"Bacillus\",\"Bacteria\",\"Firmicutes\",\"OTHERS\"],[102,\"Bacillus\",\"Bacteria\",\"Firmicutes\",\"OTHERS\"],[103,\"Lactobacillus\",\"Bacteria\",\"Firmicutes\",\"OTHERS\"],[104,\"Listeria\",\"Bacteria\",\"Firmicutes\",\"OTHERS\"],[105,\"Enterococcus\",\"Bacteria\",\"Firmicutes\",\"OTHERS\"],[106,\"Streptococcus\",\"Bacteria\",\"Firmicutes\",\"OTHERS\"],[107,\"Clostridium\",\"Bacteria\",\"Firmicutes\",\"OTHERS\"],[108,\"Clostridium\",\"Bacteria\",\"Firmicutes\",\"OTHERS\"],[109,\"Clostridium\",\"Bacteria\",\"Firmicutes\",\"OTHERS\"],[110,\"Clostridium\",\"Bacteria\",\"Firmicutes\",\"OTHERS\"],[111,\"Thermoanaerobacter\",\"Bacteria\",\"Firmicutes\",\"OTHERS\"],[112,\"Chlamydia\",\"Bacteria\",\"Chlamydiae\",\"OTHERS\"],[113,\"Chlamydophila\",\"Bacteria\",\"Chlamydiae\",\"OTHERS\"],[114,\"Chlorobium\",\"Bacteria\",\"Chlorobi\",\"OTHERS\"],[115,\"Chlorobium\",\"Bacteria\",\"Chlorobi\",\"OTHERS\"],[116,\"Bacteroides\",\"Bacteria\",\"Bacteroidetes\",\"OTHERS\"],[117,\"Flavobacterium\",\"Bacteria\",\"Bacteroidetes\",\"OTHERS\"],[118,\"Porphyromonas\",\"Bacteria\",\"Bacteroidetes\",\"OTHERS\"],[119,\"Bacteroides\",\"Bacteria\",\"Bacteroidetes\",\"OTHERS\"],[120,\"Bacteroides\",\"Bacteria\",\"Bacteroidetes\",\"OTHERS\"],[121,\"Porphyromonas\",\"Bacteria\",\"Bacteroidetes\",\"OTHERS\"],[122,\"Bacteroides\",\"Bacteria\",\"Bacteroidetes\",\"OTHERS\"],[123,\"Bacteroides\",\"Bacteria\",\"Bacteroidetes\",\"OTHERS\"],[124,\"Rhodopirellula\",\"Bacteria\",\"Planctomycetes\",\"OTHERS\"],[125,\"Rhodopirellula\",\"Bacteria\",\"Planctomycetes\",\"OTHERS\"],[126,\"Mycobacterium\",\"Bacteria\",\"Actinobacteria\",\"OTHERS\"],[127,\"Mycobacterium\",\"Bacteria\",\"Actinobacteria\",\"OTHERS\"],[128,\"Corynebacterium\",\"Bacteria\",\"Actinobacteria\",\"OTHERS\"],[129,\"Thermobifida\",\"Bacteria\",\"Actinobacteria\",\"OTHERS\"],[130,\"Streptomyces\",\"Bacteria\",\"Actinobacteria\",\"OTHERS\"],[131,\"Thermobifida\",\"Bacteria\",\"Actinobacteria\",\"OTHERS\"],[132,\"Mycobacterium\",\"Bacteria\",\"Actinobacteria\",\"OTHERS\"],[133,\"Streptomyces\",\"Bacteria\",\"Actinobacteria\",\"OTHERS\"],[134,\"Corynebacterium\",\"Bacteria\",\"Actinobacteria\",\"OTHERS\"],[135,\"Streptomyces\",\"Bacteria\",\"Actinobacteria\",\"OTHERS\"],[136,\"Mycobacterium\",\"Bacteria\",\"Actinobacteria\",\"OTHERS\"],[137,\"Thermobifida\",\"Bacteria\",\"Actinobacteria\",\"OTHERS\"],[138,\"Streptomyces\",\"Bacteria\",\"Actinobacteria\",\"OTHERS\"],[139,\"Synechocystis\",\"Bacteria\",\"Cyanobacteria\",\"OTHERS\"],[140,\"Nostoc\",\"Bacteria\",\"Cyanobacteria\",\"OTHERS\"],[141,\"Nostoc\",\"Bacteria\",\"Cyanobacteria\",\"OTHERS\"],[142,\"Synechocystis\",\"Bacteria\",\"Cyanobacteria\",\"OTHERS\"],[143,\"Thermosynechococcus\",\"Bacteria\",\"Cyanobacteria\",\"OTHERS\"],[144,\"Thermosynechococcus\",\"Bacteria\",\"Cyanobacteria\",\"OTHERS\"],[145,\"Synechocystis\",\"Bacteria\",\"Cyanobacteria\",\"OTHERS\"],[146,\"Thermosynechococcus\",\"Bacteria\",\"Cyanobacteria\",\"OTHERS\"],[147,\"Nostoc\",\"Bacteria\",\"Cyanobacteria\",\"OTHERS\"],[148,\"Nostoc\",\"Bacteria\",\"Cyanobacteria\",\"OTHERS\"],[149,\"Thermosynechococcus\",\"Bacteria\",\"Cyanobacteria\",\"OTHERS\"],[150,\"Nostoc\",\"Bacteria\",\"Cyanobacteria\",\"OTHERS\"],[151,\"Prochlorococcus\",\"Bacteria\",\"Cyanobacteria\",\"OTHERS\"],[152,\"Synechocystis\",\"Bacteria\",\"Cyanobacteria\",\"OTHERS\"],[153,\"Nostoc1\",\"Bacteria\",\"Cyanobacteria\",\"OTHERS\"],[159,\"Thermus\",\"Bacteria\",\"Deinococcus-Thermus\",\"OTHERS\"],[160,\"Deinococcus\",\"Bacteria\",\"Deinococcus-Thermus\",\"OTHERS\"],[161,\"Thermus\",\"Bacteria\",\"Deinococcus-Thermus\",\"OTHERS\"],[162,\"Deinococcus\",\"Bacteria\",\"Deinococcus-Thermus\",\"OTHERS\"],[163,\"Dehalococcoides\",\"Bacteria\",\"Chloroflexi\",\"OTHERS\"],[164,\"Chloroflexus\",\"Bacteria\",\"Chloroflexi\",\"OTHERS\"],[165,\"Chloroflexus\",\"Bacteria\",\"Chloroflexi\",\"OTHERS\"],[166,\"Chloroflexus\",\"Bacteria\",\"Chloroflexi\",\"OTHERS\"],[167,\"Aquifex\",\"Bacteria\",\"Aquificae\",\"OTHERS\"],[168,\"Bdellovibrio\",\"Bacteria\",\"Proteobacteria\",\"OTHERS\"],[169,\"Geobacter\",\"Bacteria\",\"Proteobacteria\",\"OTHERS\"],[170,\"Bdellovibrio\",\"Bacteria\",\"Proteobacteria\",\"OTHERS\"],[171,\"Desulfovibrio\",\"Bacteria\",\"Proteobacteria\",\"OTHERS\"],[172,\"Geobacter\",\"Bacteria\",\"Proteobacteria\",\"OTHERS\"],[173,\"Solibacter\",\"Bacteria\",\"Acidobacteria\",\"OTHERS\"],[174,\"Solibacter\",\"Bacteria\",\"Acidobacteria\",\"OTHERS\"],[175,\"Acidobacteria\",\"Bacteria\",\"Acidobacteria\",\"OTHERS\"],[176,\"Wolinella\",\"Bacteria\",\"Proteobacteria\",\"OTHERS\"],[177,\"Helicobacter\",\"Bacteria\",\"Proteobacteria\",\"OTHERS\"],[178,\"Campylobacter\",\"Bacteria\",\"Proteobacteria\",\"OTHERS\"],[179,\"Helicobacter\",\"Bacteria\",\"Proteobacteria\",\"OTHERS\"],[180,\"Wolinella\",\"Bacteria\",\"Proteobacteria\",\"OTHERS\"],[181,\"Wolinella\",\"Bacteria\",\"Proteobacteria\",\"OTHERS\"],[182,\"Agrobacterium\",\"Bacteria\",\"Proteobacteria\",\"OTHERS\"],[183,\"Sinorhizobium\",\"Bacteria\",\"Proteobacteria\",\"OTHERS\"],[184,\"Brucella\",\"Bacteria\",\"Proteobacteria\",\"OTHERS\"],[185,\"Rickettsia\",\"Bacteria\",\"Proteobacteria\",\"OTHERS\"],[191,\"Thiobacillus\",\"Bacteria\",\"Proteobacteria\",\"OTHERS\"],[192,\"Neisseria\",\"Bacteria\",\"Proteobacteria\",\"OTHERS\"],[193,\"Thiobacillus\",\"Bacteria\",\"Proteobacteria\",\"OTHERS\"],[194,\"Burkholderia\",\"Bacteria\",\"Proteobacteria\",\"OTHERS\"],[195,\"Bordetella\",\"Bacteria\",\"Proteobacteria\",\"OTHERS\"],[196,\"Thiobacillus\",\"Bacteria\",\"Proteobacteria\",\"OTHERS\"],[197,\"Thiobacillus\",\"Bacteria\",\"Proteobacteria\",\"OTHERS\"],[198,\"Bordetella\",\"Bacteria\",\"Proteobacteria\",\"OTHERS\"],[199,\"Pseudomonas\",\"Bacteria\",\"Proteobacteria\",\"OTHERS\"],[200,\"Vibrio\",\"Bacteria\",\"Proteobacteria\",\"OTHERS\"],[201,\"Yersinia\",\"Bacteria\",\"Proteobacteria\",\"OTHERS\"],[202,\"Salmonella\",\"Bacteria\",\"Proteobacteria\",\"OTHERS\"],[203,\"Shigella\",\"Bacteria\",\"Proteobacteria\",\"OTHERS\"],[204,\"Escherichia\",\"Bacteria\",\"Proteobacteria\",\"OTHERS\"],[205,\"Escherichia\",\"Bacteria\",\"Proteobacteria\",\"OTHERS\"],[206,\"Shigella\",\"Bacteria\",\"Proteobacteria\",\"OTHERS\"],[207,\"Salmonella\",\"Bacteria\",\"Proteobacteria\",\"OTHERS\"],[208,\"Yersinia\",\"Bacteria\",\"Proteobacteria\",\"OTHERS\"],[209,\"Vibrio\",\"Bacteria\",\"Proteobacteria\",\"OTHERS\"]],\"hovertemplate\":\"<b>%{hovertext}</b><br><br>Kingdom=%{customdata[2]}<br>pm1=%{x}<br>pm2=%{y}<br>Unnamed: 0=%{customdata[0]}<br>Species=%{customdata[1]}<br>Family=%{customdata[3]}<br>Color_eukaryota=%{customdata[4]}<extra></extra>\",\"hovertext\":[\"Bacteria\",\"Bacteria\",\"Bacteria\",\"Bacteria\",\"Bacteria\",\"Bacteria\",\"Bacteria\",\"Bacteria\",\"Bacteria\",\"Bacteria\",\"Bacteria\",\"Bacteria\",\"Bacteria\",\"Bacteria\",\"Bacteria\",\"Bacteria\",\"Bacteria\",\"Bacteria\",\"Bacteria\",\"Bacteria\",\"Bacteria\",\"Bacteria\",\"Bacteria\",\"Bacteria\",\"Bacteria\",\"Bacteria\",\"Bacteria\",\"Bacteria\",\"Bacteria\",\"Bacteria\",\"Bacteria\",\"Bacteria\",\"Bacteria\",\"Bacteria\",\"Bacteria\",\"Bacteria\",\"Bacteria\",\"Bacteria\",\"Bacteria\",\"Bacteria\",\"Bacteria\",\"Bacteria\",\"Bacteria\",\"Bacteria\",\"Bacteria\",\"Bacteria\",\"Bacteria\",\"Bacteria\",\"Bacteria\",\"Bacteria\",\"Bacteria\",\"Bacteria\",\"Bacteria\",\"Bacteria\",\"Bacteria\",\"Bacteria\",\"Bacteria\",\"Bacteria\",\"Bacteria\",\"Bacteria\",\"Bacteria\",\"Bacteria\",\"Bacteria\",\"Bacteria\",\"Bacteria\",\"Bacteria\",\"Bacteria\",\"Bacteria\",\"Bacteria\",\"Bacteria\",\"Bacteria\",\"Bacteria\",\"Bacteria\",\"Bacteria\",\"Bacteria\",\"Bacteria\",\"Bacteria\",\"Bacteria\",\"Bacteria\",\"Bacteria\",\"Bacteria\",\"Bacteria\",\"Bacteria\",\"Bacteria\",\"Bacteria\",\"Bacteria\",\"Bacteria\",\"Bacteria\",\"Bacteria\",\"Bacteria\",\"Bacteria\",\"Bacteria\",\"Bacteria\",\"Bacteria\",\"Bacteria\",\"Bacteria\",\"Bacteria\",\"Bacteria\",\"Bacteria\",\"Bacteria\",\"Bacteria\",\"Bacteria\",\"Bacteria\",\"Bacteria\",\"Bacteria\",\"Bacteria\",\"Bacteria\",\"Bacteria\",\"Bacteria\",\"Bacteria\"],\"legendgroup\":\"Bacteria\",\"marker\":{\"color\":\"#34b8e7\",\"symbol\":\"circle\"},\"mode\":\"markers\",\"name\":\"Bacteria\",\"orientation\":\"v\",\"showlegend\":true,\"x\":[0.5040069,-0.24493484,0.47298962,-0.4425568,-0.4460212,-0.5066077,0.11591191,0.0354625,0.0060688993,0.038903914,-0.015153,-0.10979977,-0.05422822,-0.061798874,-0.06273006,-0.06099645,-0.05905825,0.063876815,-0.013105983,0.084597155,0.11514125,0.43812075,-0.10606117,-0.25023285,0.60114247,0.2567983,0.47989705,0.40690038,0.41359827,0.3692386,0.19888364,0.16267529,0.14345936,0.14294769,0.25462425,0.39238596,0.20937082,0.17825927,0.18820812,0.18943547,0.19311011,0.22331685,0.5082831,0.5062294,0.36676648,0.5304242,0.4763313,0.43697983,0.43220982,0.33621347,0.34850705,0.4944681,0.4924073,0.48007292,0.35752845,0.2507609,0.24830408,0.37394655,0.35461435,0.5294296,0.62031305,0.6853675,0.58291686,0.5432263,0.6530208,0.62219614,0.3049297,0.23201871,0.3036325,0.5299213,0.35496226,0.29009506,0.2356973,0.1661885,0.7611729,0.50053394,0.4309682,0.23331903,0.6898903,0.23371972,0.22608489,-0.04324382,-0.03523984,-0.10813586,-0.13345234,0.2033479,0.20609,0.39940578,0.4023528,0.389027,0.60773945,0.41142613,0.28230938,0.34323567,0.325576,0.3557916,0.82621276,0.2033448,0.15955792,0.36517972,0.3242402,0.34766698,0.34160644,0.3491454,0.36489522,0.8683527,0.8603352,0.84762776,0.8652963,0.85996747],\"xaxis\":\"x\",\"y\":[0.09392761,-0.130921,0.55816126,0.38143396,0.1790247,0.000974581,0.5759956,0.06129074,0.16969559,0.27638572,0.30931202,0.31256753,0.3042654,0.371079,0.366412,0.3718005,0.37204617,0.09200823,0.25174934,0.07977303,0.024093062,0.011051653,0.6046432,0.4392662,0.21378578,0.03459018,0.15902598,-0.08747836,-0.18823919,-0.13635924,0.4285746,0.29109663,0.25527,0.2555792,0.21689159,0.2696938,-0.8875581,-0.8909619,-0.8699052,-0.8181566,-0.84682655,-0.84322137,0.29434073,0.3051776,0.02289036,0.39288884,0.30756667,0.3889018,0.41202927,0.42588177,0.4718529,0.16870992,0.21126285,0.15935723,-0.09040809,0.3959612,0.48897213,0.31219527,0.15791759,0.07986674,0.12296761,0.17355375,0.18630831,0.062537745,-0.118381925,-0.055205166,0.26484963,0.13545136,-0.019556904,-0.08009967,0.28542045,0.36536145,0.19068073,-0.83963746,-0.13494243,0.4259467,0.12233977,0.242193,-0.09248562,0.26179278,0.25558406,-0.043105245,0.0026768777,-0.013940074,-0.029684927,0.06992514,0.06081779,0.28572446,0.27166802,0.2871054,0.2866308,0.52622736,0.5801796,0.602579,0.5873442,0.6089816,-0.16090378,-0.8611851,-0.8656354,0.585695,0.5447334,0.55161905,0.52714956,0.53784776,0.5230701,-0.14170918,-0.14833026,-0.14284891,-0.16014732,-0.11685125],\"yaxis\":\"y\",\"type\":\"scatter\"}],                        {\"template\":{\"data\":{\"histogram2dcontour\":[{\"type\":\"histogram2dcontour\",\"colorbar\":{\"outlinewidth\":0,\"ticks\":\"\"},\"colorscale\":[[0.0,\"#0d0887\"],[0.1111111111111111,\"#46039f\"],[0.2222222222222222,\"#7201a8\"],[0.3333333333333333,\"#9c179e\"],[0.4444444444444444,\"#bd3786\"],[0.5555555555555556,\"#d8576b\"],[0.6666666666666666,\"#ed7953\"],[0.7777777777777778,\"#fb9f3a\"],[0.8888888888888888,\"#fdca26\"],[1.0,\"#f0f921\"]]}],\"choropleth\":[{\"type\":\"choropleth\",\"colorbar\":{\"outlinewidth\":0,\"ticks\":\"\"}}],\"histogram2d\":[{\"type\":\"histogram2d\",\"colorbar\":{\"outlinewidth\":0,\"ticks\":\"\"},\"colorscale\":[[0.0,\"#0d0887\"],[0.1111111111111111,\"#46039f\"],[0.2222222222222222,\"#7201a8\"],[0.3333333333333333,\"#9c179e\"],[0.4444444444444444,\"#bd3786\"],[0.5555555555555556,\"#d8576b\"],[0.6666666666666666,\"#ed7953\"],[0.7777777777777778,\"#fb9f3a\"],[0.8888888888888888,\"#fdca26\"],[1.0,\"#f0f921\"]]}],\"heatmap\":[{\"type\":\"heatmap\",\"colorbar\":{\"outlinewidth\":0,\"ticks\":\"\"},\"colorscale\":[[0.0,\"#0d0887\"],[0.1111111111111111,\"#46039f\"],[0.2222222222222222,\"#7201a8\"],[0.3333333333333333,\"#9c179e\"],[0.4444444444444444,\"#bd3786\"],[0.5555555555555556,\"#d8576b\"],[0.6666666666666666,\"#ed7953\"],[0.7777777777777778,\"#fb9f3a\"],[0.8888888888888888,\"#fdca26\"],[1.0,\"#f0f921\"]]}],\"heatmapgl\":[{\"type\":\"heatmapgl\",\"colorbar\":{\"outlinewidth\":0,\"ticks\":\"\"},\"colorscale\":[[0.0,\"#0d0887\"],[0.1111111111111111,\"#46039f\"],[0.2222222222222222,\"#7201a8\"],[0.3333333333333333,\"#9c179e\"],[0.4444444444444444,\"#bd3786\"],[0.5555555555555556,\"#d8576b\"],[0.6666666666666666,\"#ed7953\"],[0.7777777777777778,\"#fb9f3a\"],[0.8888888888888888,\"#fdca26\"],[1.0,\"#f0f921\"]]}],\"contourcarpet\":[{\"type\":\"contourcarpet\",\"colorbar\":{\"outlinewidth\":0,\"ticks\":\"\"}}],\"contour\":[{\"type\":\"contour\",\"colorbar\":{\"outlinewidth\":0,\"ticks\":\"\"},\"colorscale\":[[0.0,\"#0d0887\"],[0.1111111111111111,\"#46039f\"],[0.2222222222222222,\"#7201a8\"],[0.3333333333333333,\"#9c179e\"],[0.4444444444444444,\"#bd3786\"],[0.5555555555555556,\"#d8576b\"],[0.6666666666666666,\"#ed7953\"],[0.7777777777777778,\"#fb9f3a\"],[0.8888888888888888,\"#fdca26\"],[1.0,\"#f0f921\"]]}],\"surface\":[{\"type\":\"surface\",\"colorbar\":{\"outlinewidth\":0,\"ticks\":\"\"},\"colorscale\":[[0.0,\"#0d0887\"],[0.1111111111111111,\"#46039f\"],[0.2222222222222222,\"#7201a8\"],[0.3333333333333333,\"#9c179e\"],[0.4444444444444444,\"#bd3786\"],[0.5555555555555556,\"#d8576b\"],[0.6666666666666666,\"#ed7953\"],[0.7777777777777778,\"#fb9f3a\"],[0.8888888888888888,\"#fdca26\"],[1.0,\"#f0f921\"]]}],\"mesh3d\":[{\"type\":\"mesh3d\",\"colorbar\":{\"outlinewidth\":0,\"ticks\":\"\"}}],\"scatter\":[{\"fillpattern\":{\"fillmode\":\"overlay\",\"size\":10,\"solidity\":0.2},\"type\":\"scatter\"}],\"parcoords\":[{\"type\":\"parcoords\",\"line\":{\"colorbar\":{\"outlinewidth\":0,\"ticks\":\"\"}}}],\"scatterpolargl\":[{\"type\":\"scatterpolargl\",\"marker\":{\"colorbar\":{\"outlinewidth\":0,\"ticks\":\"\"}}}],\"bar\":[{\"error_x\":{\"color\":\"#2a3f5f\"},\"error_y\":{\"color\":\"#2a3f5f\"},\"marker\":{\"line\":{\"color\":\"#E5ECF6\",\"width\":0.5},\"pattern\":{\"fillmode\":\"overlay\",\"size\":10,\"solidity\":0.2}},\"type\":\"bar\"}],\"scattergeo\":[{\"type\":\"scattergeo\",\"marker\":{\"colorbar\":{\"outlinewidth\":0,\"ticks\":\"\"}}}],\"scatterpolar\":[{\"type\":\"scatterpolar\",\"marker\":{\"colorbar\":{\"outlinewidth\":0,\"ticks\":\"\"}}}],\"histogram\":[{\"marker\":{\"pattern\":{\"fillmode\":\"overlay\",\"size\":10,\"solidity\":0.2}},\"type\":\"histogram\"}],\"scattergl\":[{\"type\":\"scattergl\",\"marker\":{\"colorbar\":{\"outlinewidth\":0,\"ticks\":\"\"}}}],\"scatter3d\":[{\"type\":\"scatter3d\",\"line\":{\"colorbar\":{\"outlinewidth\":0,\"ticks\":\"\"}},\"marker\":{\"colorbar\":{\"outlinewidth\":0,\"ticks\":\"\"}}}],\"scattermapbox\":[{\"type\":\"scattermapbox\",\"marker\":{\"colorbar\":{\"outlinewidth\":0,\"ticks\":\"\"}}}],\"scatterternary\":[{\"type\":\"scatterternary\",\"marker\":{\"colorbar\":{\"outlinewidth\":0,\"ticks\":\"\"}}}],\"scattercarpet\":[{\"type\":\"scattercarpet\",\"marker\":{\"colorbar\":{\"outlinewidth\":0,\"ticks\":\"\"}}}],\"carpet\":[{\"aaxis\":{\"endlinecolor\":\"#2a3f5f\",\"gridcolor\":\"white\",\"linecolor\":\"white\",\"minorgridcolor\":\"white\",\"startlinecolor\":\"#2a3f5f\"},\"baxis\":{\"endlinecolor\":\"#2a3f5f\",\"gridcolor\":\"white\",\"linecolor\":\"white\",\"minorgridcolor\":\"white\",\"startlinecolor\":\"#2a3f5f\"},\"type\":\"carpet\"}],\"table\":[{\"cells\":{\"fill\":{\"color\":\"#EBF0F8\"},\"line\":{\"color\":\"white\"}},\"header\":{\"fill\":{\"color\":\"#C8D4E3\"},\"line\":{\"color\":\"white\"}},\"type\":\"table\"}],\"barpolar\":[{\"marker\":{\"line\":{\"color\":\"#E5ECF6\",\"width\":0.5},\"pattern\":{\"fillmode\":\"overlay\",\"size\":10,\"solidity\":0.2}},\"type\":\"barpolar\"}],\"pie\":[{\"automargin\":true,\"type\":\"pie\"}]},\"layout\":{\"autotypenumbers\":\"strict\",\"colorway\":[\"#636efa\",\"#EF553B\",\"#00cc96\",\"#ab63fa\",\"#FFA15A\",\"#19d3f3\",\"#FF6692\",\"#B6E880\",\"#FF97FF\",\"#FECB52\"],\"font\":{\"color\":\"#2a3f5f\"},\"hovermode\":\"closest\",\"hoverlabel\":{\"align\":\"left\"},\"paper_bgcolor\":\"white\",\"plot_bgcolor\":\"#E5ECF6\",\"polar\":{\"bgcolor\":\"#E5ECF6\",\"angularaxis\":{\"gridcolor\":\"white\",\"linecolor\":\"white\",\"ticks\":\"\"},\"radialaxis\":{\"gridcolor\":\"white\",\"linecolor\":\"white\",\"ticks\":\"\"}},\"ternary\":{\"bgcolor\":\"#E5ECF6\",\"aaxis\":{\"gridcolor\":\"white\",\"linecolor\":\"white\",\"ticks\":\"\"},\"baxis\":{\"gridcolor\":\"white\",\"linecolor\":\"white\",\"ticks\":\"\"},\"caxis\":{\"gridcolor\":\"white\",\"linecolor\":\"white\",\"ticks\":\"\"}},\"coloraxis\":{\"colorbar\":{\"outlinewidth\":0,\"ticks\":\"\"}},\"colorscale\":{\"sequential\":[[0.0,\"#0d0887\"],[0.1111111111111111,\"#46039f\"],[0.2222222222222222,\"#7201a8\"],[0.3333333333333333,\"#9c179e\"],[0.4444444444444444,\"#bd3786\"],[0.5555555555555556,\"#d8576b\"],[0.6666666666666666,\"#ed7953\"],[0.7777777777777778,\"#fb9f3a\"],[0.8888888888888888,\"#fdca26\"],[1.0,\"#f0f921\"]],\"sequentialminus\":[[0.0,\"#0d0887\"],[0.1111111111111111,\"#46039f\"],[0.2222222222222222,\"#7201a8\"],[0.3333333333333333,\"#9c179e\"],[0.4444444444444444,\"#bd3786\"],[0.5555555555555556,\"#d8576b\"],[0.6666666666666666,\"#ed7953\"],[0.7777777777777778,\"#fb9f3a\"],[0.8888888888888888,\"#fdca26\"],[1.0,\"#f0f921\"]],\"diverging\":[[0,\"#8e0152\"],[0.1,\"#c51b7d\"],[0.2,\"#de77ae\"],[0.3,\"#f1b6da\"],[0.4,\"#fde0ef\"],[0.5,\"#f7f7f7\"],[0.6,\"#e6f5d0\"],[0.7,\"#b8e186\"],[0.8,\"#7fbc41\"],[0.9,\"#4d9221\"],[1,\"#276419\"]]},\"xaxis\":{\"gridcolor\":\"white\",\"linecolor\":\"white\",\"ticks\":\"\",\"title\":{\"standoff\":15},\"zerolinecolor\":\"white\",\"automargin\":true,\"zerolinewidth\":2},\"yaxis\":{\"gridcolor\":\"white\",\"linecolor\":\"white\",\"ticks\":\"\",\"title\":{\"standoff\":15},\"zerolinecolor\":\"white\",\"automargin\":true,\"zerolinewidth\":2},\"scene\":{\"xaxis\":{\"backgroundcolor\":\"#E5ECF6\",\"gridcolor\":\"white\",\"linecolor\":\"white\",\"showbackground\":true,\"ticks\":\"\",\"zerolinecolor\":\"white\",\"gridwidth\":2},\"yaxis\":{\"backgroundcolor\":\"#E5ECF6\",\"gridcolor\":\"white\",\"linecolor\":\"white\",\"showbackground\":true,\"ticks\":\"\",\"zerolinecolor\":\"white\",\"gridwidth\":2},\"zaxis\":{\"backgroundcolor\":\"#E5ECF6\",\"gridcolor\":\"white\",\"linecolor\":\"white\",\"showbackground\":true,\"ticks\":\"\",\"zerolinecolor\":\"white\",\"gridwidth\":2}},\"shapedefaults\":{\"line\":{\"color\":\"#2a3f5f\"}},\"annotationdefaults\":{\"arrowcolor\":\"#2a3f5f\",\"arrowhead\":0,\"arrowwidth\":1},\"geo\":{\"bgcolor\":\"white\",\"landcolor\":\"#E5ECF6\",\"subunitcolor\":\"white\",\"showland\":true,\"showlakes\":true,\"lakecolor\":\"white\"},\"title\":{\"x\":0.05},\"mapbox\":{\"style\":\"light\"}}},\"xaxis\":{\"anchor\":\"y\",\"domain\":[0.0,1.0],\"title\":{\"text\":\"pm1\"},\"range\":[-1.1,1.1],\"constrain\":\"domain\"},\"yaxis\":{\"anchor\":\"x\",\"domain\":[0.0,1.0],\"title\":{\"text\":\"pm2\"},\"scaleanchor\":\"x\",\"scaleratio\":1},\"legend\":{\"title\":{\"text\":\"Kingdom\"},\"tracegroupgap\":0},\"title\":{\"text\":\"PM projection of thioredoxins colored by kingdom of life\",\"x\":0.5},\"height\":800,\"shapes\":[{\"line\":{\"color\":\"black\",\"dash\":\"dot\"},\"opacity\":0.15,\"type\":\"circle\",\"x0\":-0.47058823529411764,\"x1\":0.47058823529411764,\"y0\":-0.47058823529411764,\"y1\":0.47058823529411764},{\"line\":{\"color\":\"black\",\"dash\":\"dot\"},\"opacity\":0.15,\"type\":\"circle\",\"x0\":-0.6447368421052633,\"x1\":0.6447368421052633,\"y0\":-0.6447368421052633,\"y1\":0.6447368421052633},{\"line\":{\"color\":\"black\",\"dash\":\"dot\"},\"opacity\":0.15,\"type\":\"circle\",\"x0\":-0.7705382436260623,\"x1\":0.7705382436260623,\"y0\":-0.7705382436260623,\"y1\":0.7705382436260623},{\"line\":{\"color\":\"black\",\"dash\":\"dot\"},\"opacity\":0.15,\"type\":\"circle\",\"x0\":-0.8557007125890737,\"x1\":0.8557007125890737,\"y0\":-0.8557007125890737,\"y1\":0.8557007125890737},{\"line\":{\"color\":\"black\",\"dash\":\"dot\"},\"opacity\":0.15,\"type\":\"circle\",\"x0\":-0.9108474990827933,\"x1\":0.9108474990827933,\"y0\":-0.9108474990827933,\"y1\":0.9108474990827933},{\"line\":{\"color\":\"black\",\"dash\":\"dot\"},\"opacity\":0.15,\"type\":\"circle\",\"x0\":-0.9455374041239167,\"x1\":0.9455374041239167,\"y0\":-0.9455374041239167,\"y1\":0.9455374041239167},{\"line\":{\"color\":\"Black\"},\"type\":\"circle\",\"x0\":-1,\"x1\":1,\"xref\":\"x\",\"y0\":-1,\"y1\":1,\"yref\":\"y\"},{\"fillcolor\":\"Black\",\"line\":{\"color\":\"Black\"},\"type\":\"circle\",\"x0\":-0.005,\"x1\":0.005,\"xref\":\"x\",\"y0\":-0.005,\"y1\":0.005,\"yref\":\"y\"}],\"yaxis2\":{\"matches\":\"y\",\"layer\":\"below traces\",\"overlaying\":\"y\"},\"plot_bgcolor\":\"rgba(0, 0, 0, 0)\",\"font\":{\"size\":11}},                        {\"responsive\": true}                    ).then(function(){\n",
       "                            \n",
       "var gd = document.getElementById('86989d64-eb70-48df-a6c7-630cd5a9525a');\n",
       "var x = new MutationObserver(function (mutations, observer) {{\n",
       "        var display = window.getComputedStyle(gd).display;\n",
       "        if (!display || display === 'none') {{\n",
       "            console.log([gd, 'removed!']);\n",
       "            Plotly.purge(gd);\n",
       "            observer.disconnect();\n",
       "        }}\n",
       "}});\n",
       "\n",
       "// Listen for the removal of the full notebook cells\n",
       "var notebookContainer = gd.closest('#notebook-container');\n",
       "if (notebookContainer) {{\n",
       "    x.observe(notebookContainer, {childList: true});\n",
       "}}\n",
       "\n",
       "// Listen for the clearing of the current output cell\n",
       "var outputEl = gd.closest('.output');\n",
       "if (outputEl) {{\n",
       "    x.observe(outputEl, {childList: true});\n",
       "}}\n",
       "\n",
       "                        })                };                });            </script>        </div>"
      ]
     },
     "metadata": {},
     "output_type": "display_data"
    }
   ],
   "source": [
    "# OPTIONS =================================================\n",
    "title = \"PM projection of thioredoxins colored by kingdom of life\"                                  \n",
    "#----------------------------------------------------------\n",
    "# Select the coloring from annotation .csv file:\n",
    "labels_name = \"Kingdom\"\n",
    "# Select classes to label among the \"labels_name\" column (comma separated list):\n",
    "labels_text = \"\"\n",
    "show_text = False\n",
    "#----------------------------------------------------------\n",
    "# Use a custom color palette:\n",
    "color_palette = trx_palette\n",
    "use_custom_palette = True\n",
    "#==========================================================\n",
    "\n",
    "\n",
    "#Check projection visualization parameters\n",
    "#Labels name\n",
    "if labels_name == \"\" and path_annotation == \"dummy_annotation.csv\":\n",
    "    labels_name = \"default\"\n",
    "elif labels_name == \"\":\n",
    "    labels_name = None\n",
    "elif labels_name not in annotation_names:\n",
    "    raise NameError(f\"labels_name {labels_name} is not in the availables annotations.\\nAvailables annotations: {annotation_names}\")\n",
    "\n",
    "#Labels text\n",
    "try:\n",
    "    labels_text = [s.strip() for s in labels_text.split(\",\")]\n",
    "except:\n",
    "    print(\"Error: label_text field is not a valid list.\")\n",
    "\n",
    "#Convert labels_text to labels_name dtype\n",
    "if labels_name and labels_name != \"default\":\n",
    "    try:\n",
    "        labels_text_dtype = df_annotation[labels_name].dtypes\n",
    "        labels_text = list(np.array(labels_text).astype(labels_text_dtype))\n",
    "    except:\n",
    "        raise TypeError(f'\"labels_text\" is not compatible with {labels_name}\" data format ({labels_text_dtype}).')\n",
    "\n",
    "if not use_custom_palette:\n",
    "    color_palette = None\n",
    "\n",
    "#Plot graph\n",
    "fig = plot_embedding_interactive(df_embedding, \n",
    "                                 labels_name = labels_name,\n",
    "                                 show_text = show_text,\n",
    "                                 labels_text = labels_text,\n",
    "                                 color_palette = color_palette, \n",
    "                                 title = title, \n",
    "                                 fontsize = 11)\n",
    "fig.show()"
   ]
  },
  {
   "cell_type": "code",
   "execution_count": 20,
   "metadata": {},
   "outputs": [
    {
     "data": {
      "application/vnd.plotly.v1+json": {
       "config": {
        "plotlyServerURL": "https://plot.ly"
       },
       "data": [
        {
         "customdata": [
          [
           0,
           "LBCA",
           "LBCA",
           "LBCA",
           "OTHERS"
          ]
         ],
         "hovertemplate": "<b>%{hovertext}</b><br><br>Species=%{customdata[1]}<br>pm1=%{x}<br>pm2=%{y}<br>Unnamed: 0=%{customdata[0]}<br>Kingdom=%{customdata[2]}<br>Family=%{customdata[3]}<br>Color_eukaryota=%{customdata[4]}<extra></extra>",
         "hovertext": [
          "LBCA"
         ],
         "legendgroup": "LBCA",
         "marker": {
          "color": "#34b8e7",
          "symbol": "circle"
         },
         "mode": "markers",
         "name": "LBCA",
         "orientation": "v",
         "showlegend": true,
         "type": "scatter",
         "x": [
          0.18389252
         ],
         "xaxis": "x",
         "y": [
          0.108608946
         ],
         "yaxis": "y"
        },
        {
         "customdata": [
          [
           1,
           "LACA",
           "LACA",
           "LACA",
           "OTHERS"
          ]
         ],
         "hovertemplate": "<b>%{hovertext}</b><br><br>Species=%{customdata[1]}<br>pm1=%{x}<br>pm2=%{y}<br>Unnamed: 0=%{customdata[0]}<br>Kingdom=%{customdata[2]}<br>Family=%{customdata[3]}<br>Color_eukaryota=%{customdata[4]}<extra></extra>",
         "hovertext": [
          "LACA"
         ],
         "legendgroup": "LACA",
         "marker": {
          "color": "#ff0000",
          "symbol": "circle"
         },
         "mode": "markers",
         "name": "LACA",
         "orientation": "v",
         "showlegend": true,
         "type": "scatter",
         "x": [
          0.111037545
         ],
         "xaxis": "x",
         "y": [
          -0.1417153
         ],
         "yaxis": "y"
        },
        {
         "customdata": [
          [
           2,
           "AECA",
           "AECA",
           "AECA",
           "OTHERS"
          ]
         ],
         "hovertemplate": "<b>%{hovertext}</b><br><br>Species=%{customdata[1]}<br>pm1=%{x}<br>pm2=%{y}<br>Unnamed: 0=%{customdata[0]}<br>Kingdom=%{customdata[2]}<br>Family=%{customdata[3]}<br>Color_eukaryota=%{customdata[4]}<extra></extra>",
         "hovertext": [
          "AECA"
         ],
         "legendgroup": "AECA",
         "marker": {
          "color": "#e7e53c",
          "symbol": "circle"
         },
         "mode": "markers",
         "name": "AECA",
         "orientation": "v",
         "showlegend": true,
         "type": "scatter",
         "x": [
          0.050592925
         ],
         "xaxis": "x",
         "y": [
          -0.098363124
         ],
         "yaxis": "y"
        },
        {
         "customdata": [
          [
           3,
           "LGPCA",
           "LGPCA",
           "LGPCA",
           "OTHERS"
          ]
         ],
         "hovertemplate": "<b>%{hovertext}</b><br><br>Species=%{customdata[1]}<br>pm1=%{x}<br>pm2=%{y}<br>Unnamed: 0=%{customdata[0]}<br>Kingdom=%{customdata[2]}<br>Family=%{customdata[3]}<br>Color_eukaryota=%{customdata[4]}<extra></extra>",
         "hovertext": [
          "LGPCA"
         ],
         "legendgroup": "LGPCA",
         "marker": {
          "color": "#34b8e7",
          "symbol": "circle"
         },
         "mode": "markers",
         "name": "LGPCA",
         "orientation": "v",
         "showlegend": true,
         "type": "scatter",
         "x": [
          0.313914
         ],
         "xaxis": "x",
         "y": [
          0.43765968
         ],
         "yaxis": "y"
        },
        {
         "customdata": [
          [
           4,
           "LECA",
           "LECA",
           "LECA",
           "OTHERS"
          ]
         ],
         "hovertemplate": "<b>%{hovertext}</b><br><br>Species=%{customdata[1]}<br>pm1=%{x}<br>pm2=%{y}<br>Unnamed: 0=%{customdata[0]}<br>Kingdom=%{customdata[2]}<br>Family=%{customdata[3]}<br>Color_eukaryota=%{customdata[4]}<extra></extra>",
         "hovertext": [
          "LECA"
         ],
         "legendgroup": "LECA",
         "marker": {
          "color": "#21e548",
          "symbol": "circle"
         },
         "mode": "markers",
         "name": "LECA",
         "orientation": "v",
         "showlegend": true,
         "type": "scatter",
         "x": [
          -0.63303715
         ],
         "xaxis": "x",
         "y": [
          -0.0017171632
         ],
         "yaxis": "y"
        },
        {
         "customdata": [
          [
           5,
           "LPBCA",
           "LPBCA",
           "LPBCA",
           "OTHERS"
          ]
         ],
         "hovertemplate": "<b>%{hovertext}</b><br><br>Species=%{customdata[1]}<br>pm1=%{x}<br>pm2=%{y}<br>Unnamed: 0=%{customdata[0]}<br>Kingdom=%{customdata[2]}<br>Family=%{customdata[3]}<br>Color_eukaryota=%{customdata[4]}<extra></extra>",
         "hovertext": [
          "LPBCA"
         ],
         "legendgroup": "LPBCA",
         "marker": {
          "color": "#34b8e7",
          "symbol": "circle"
         },
         "mode": "markers",
         "name": "LPBCA",
         "orientation": "v",
         "showlegend": true,
         "type": "scatter",
         "x": [
          0.30017877
         ],
         "xaxis": "x",
         "y": [
          0.15301032
         ],
         "yaxis": "y"
        },
        {
         "customdata": [
          [
           6,
           "LAFCA",
           "LAFCA",
           "LAFCA",
           "OTHERS"
          ]
         ],
         "hovertemplate": "<b>%{hovertext}</b><br><br>Species=%{customdata[1]}<br>pm1=%{x}<br>pm2=%{y}<br>Unnamed: 0=%{customdata[0]}<br>Kingdom=%{customdata[2]}<br>Family=%{customdata[3]}<br>Color_eukaryota=%{customdata[4]}<extra></extra>",
         "hovertext": [
          "LAFCA"
         ],
         "legendgroup": "LAFCA",
         "marker": {
          "color": "#21e548",
          "symbol": "circle"
         },
         "mode": "markers",
         "name": "LAFCA",
         "orientation": "v",
         "showlegend": true,
         "type": "scatter",
         "x": [
          -0.6711158
         ],
         "xaxis": "x",
         "y": [
          -0.028322173
         ],
         "yaxis": "y"
        },
        {
         "customdata": [
          [
           7,
           "Ovis",
           "Eukaryota",
           "Metazoa",
           "EUKARYOTA"
          ]
         ],
         "hovertemplate": "<b>%{hovertext}</b><br><br>Species=%{customdata[1]}<br>pm1=%{x}<br>pm2=%{y}<br>Unnamed: 0=%{customdata[0]}<br>Kingdom=%{customdata[2]}<br>Family=%{customdata[3]}<br>Color_eukaryota=%{customdata[4]}<extra></extra>",
         "hovertext": [
          "Ovis"
         ],
         "legendgroup": "Ovis",
         "marker": {
          "color": "#21e548",
          "symbol": "circle"
         },
         "mode": "markers",
         "name": "Ovis",
         "orientation": "v",
         "showlegend": true,
         "type": "scatter",
         "x": [
          -0.84257185
         ],
         "xaxis": "x",
         "y": [
          -0.07941825
         ],
         "yaxis": "y"
        },
        {
         "customdata": [
          [
           8,
           "Bos",
           "Eukaryota",
           "Metazoa",
           "EUKARYOTA"
          ]
         ],
         "hovertemplate": "<b>%{hovertext}</b><br><br>Species=%{customdata[1]}<br>pm1=%{x}<br>pm2=%{y}<br>Unnamed: 0=%{customdata[0]}<br>Kingdom=%{customdata[2]}<br>Family=%{customdata[3]}<br>Color_eukaryota=%{customdata[4]}<extra></extra>",
         "hovertext": [
          "Bos"
         ],
         "legendgroup": "Bos",
         "marker": {
          "color": "#21e548",
          "symbol": "circle"
         },
         "mode": "markers",
         "name": "Bos",
         "orientation": "v",
         "showlegend": true,
         "type": "scatter",
         "x": [
          -0.85646325
         ],
         "xaxis": "x",
         "y": [
          -0.05296301
         ],
         "yaxis": "y"
        },
        {
         "customdata": [
          [
           9,
           "Sus",
           "Eukaryota",
           "Metazoa",
           "EUKARYOTA"
          ]
         ],
         "hovertemplate": "<b>%{hovertext}</b><br><br>Species=%{customdata[1]}<br>pm1=%{x}<br>pm2=%{y}<br>Unnamed: 0=%{customdata[0]}<br>Kingdom=%{customdata[2]}<br>Family=%{customdata[3]}<br>Color_eukaryota=%{customdata[4]}<extra></extra>",
         "hovertext": [
          "Sus"
         ],
         "legendgroup": "Sus",
         "marker": {
          "color": "#21e548",
          "symbol": "circle"
         },
         "mode": "markers",
         "name": "Sus",
         "orientation": "v",
         "showlegend": true,
         "type": "scatter",
         "x": [
          -0.84598905
         ],
         "xaxis": "x",
         "y": [
          -0.0579008
         ],
         "yaxis": "y"
        },
        {
         "customdata": [
          [
           10,
           "Equus",
           "Eukaryota",
           "Metazoa",
           "EUKARYOTA"
          ],
          [
           187,
           "Equus",
           "Eukaryota",
           "Metazoa",
           "EUKARYOTA"
          ]
         ],
         "hovertemplate": "<b>%{hovertext}</b><br><br>Species=%{customdata[1]}<br>pm1=%{x}<br>pm2=%{y}<br>Unnamed: 0=%{customdata[0]}<br>Kingdom=%{customdata[2]}<br>Family=%{customdata[3]}<br>Color_eukaryota=%{customdata[4]}<extra></extra>",
         "hovertext": [
          "Equus",
          "Equus"
         ],
         "legendgroup": "Equus",
         "marker": {
          "color": "#21e548",
          "symbol": "circle"
         },
         "mode": "markers",
         "name": "Equus",
         "orientation": "v",
         "showlegend": true,
         "type": "scatter",
         "x": [
          -0.81090814,
          0.76819754
         ],
         "xaxis": "x",
         "y": [
          -0.08104239,
          -0.49516883
         ],
         "yaxis": "y"
        },
        {
         "customdata": [
          [
           11,
           "Mus",
           "Eukaryota",
           "Metazoa",
           "EUKARYOTA"
          ]
         ],
         "hovertemplate": "<b>%{hovertext}</b><br><br>Species=%{customdata[1]}<br>pm1=%{x}<br>pm2=%{y}<br>Unnamed: 0=%{customdata[0]}<br>Kingdom=%{customdata[2]}<br>Family=%{customdata[3]}<br>Color_eukaryota=%{customdata[4]}<extra></extra>",
         "hovertext": [
          "Mus"
         ],
         "legendgroup": "Mus",
         "marker": {
          "color": "#21e548",
          "symbol": "circle"
         },
         "mode": "markers",
         "name": "Mus",
         "orientation": "v",
         "showlegend": true,
         "type": "scatter",
         "x": [
          -0.81464094
         ],
         "xaxis": "x",
         "y": [
          -0.029657762
         ],
         "yaxis": "y"
        },
        {
         "customdata": [
          [
           12,
           "Rattus",
           "Eukaryota",
           "Metazoa",
           "EUKARYOTA"
          ]
         ],
         "hovertemplate": "<b>%{hovertext}</b><br><br>Species=%{customdata[1]}<br>pm1=%{x}<br>pm2=%{y}<br>Unnamed: 0=%{customdata[0]}<br>Kingdom=%{customdata[2]}<br>Family=%{customdata[3]}<br>Color_eukaryota=%{customdata[4]}<extra></extra>",
         "hovertext": [
          "Rattus"
         ],
         "legendgroup": "Rattus",
         "marker": {
          "color": "#21e548",
          "symbol": "circle"
         },
         "mode": "markers",
         "name": "Rattus",
         "orientation": "v",
         "showlegend": true,
         "type": "scatter",
         "x": [
          -0.812737
         ],
         "xaxis": "x",
         "y": [
          -0.037687875
         ],
         "yaxis": "y"
        },
        {
         "customdata": [
          [
           13,
           "Rabit",
           "Eukaryota",
           "Metazoa",
           "EUKARYOTA"
          ]
         ],
         "hovertemplate": "<b>%{hovertext}</b><br><br>Species=%{customdata[1]}<br>pm1=%{x}<br>pm2=%{y}<br>Unnamed: 0=%{customdata[0]}<br>Kingdom=%{customdata[2]}<br>Family=%{customdata[3]}<br>Color_eukaryota=%{customdata[4]}<extra></extra>",
         "hovertext": [
          "Rabit"
         ],
         "legendgroup": "Rabit",
         "marker": {
          "color": "#21e548",
          "symbol": "circle"
         },
         "mode": "markers",
         "name": "Rabit",
         "orientation": "v",
         "showlegend": true,
         "type": "scatter",
         "x": [
          -0.8607577
         ],
         "xaxis": "x",
         "y": [
          -0.019577218
         ],
         "yaxis": "y"
        },
        {
         "customdata": [
          [
           14,
           "Human",
           "Eukaryota",
           "Metazoa",
           "EUKARYOTA"
          ]
         ],
         "hovertemplate": "<b>%{hovertext}</b><br><br>Species=%{customdata[1]}<br>pm1=%{x}<br>pm2=%{y}<br>Unnamed: 0=%{customdata[0]}<br>Kingdom=%{customdata[2]}<br>Family=%{customdata[3]}<br>Color_eukaryota=%{customdata[4]}<extra></extra>",
         "hovertext": [
          "Human"
         ],
         "legendgroup": "Human",
         "marker": {
          "color": "#21e548",
          "symbol": "circle"
         },
         "mode": "markers",
         "name": "Human",
         "orientation": "v",
         "showlegend": true,
         "type": "scatter",
         "x": [
          -0.8415084
         ],
         "xaxis": "x",
         "y": [
          -0.04593345
         ],
         "yaxis": "y"
        },
        {
         "customdata": [
          [
           15,
           "Ponab",
           "Eukaryota",
           "Metazoa",
           "EUKARYOTA"
          ]
         ],
         "hovertemplate": "<b>%{hovertext}</b><br><br>Species=%{customdata[1]}<br>pm1=%{x}<br>pm2=%{y}<br>Unnamed: 0=%{customdata[0]}<br>Kingdom=%{customdata[2]}<br>Family=%{customdata[3]}<br>Color_eukaryota=%{customdata[4]}<extra></extra>",
         "hovertext": [
          "Ponab"
         ],
         "legendgroup": "Ponab",
         "marker": {
          "color": "#21e548",
          "symbol": "circle"
         },
         "mode": "markers",
         "name": "Ponab",
         "orientation": "v",
         "showlegend": true,
         "type": "scatter",
         "x": [
          -0.83648366
         ],
         "xaxis": "x",
         "y": [
          -0.019532587
         ],
         "yaxis": "y"
        },
        {
         "customdata": [
          [
           16,
           "Macmu",
           "Eukaryota",
           "Metazoa",
           "EUKARYOTA"
          ]
         ],
         "hovertemplate": "<b>%{hovertext}</b><br><br>Species=%{customdata[1]}<br>pm1=%{x}<br>pm2=%{y}<br>Unnamed: 0=%{customdata[0]}<br>Kingdom=%{customdata[2]}<br>Family=%{customdata[3]}<br>Color_eukaryota=%{customdata[4]}<extra></extra>",
         "hovertext": [
          "Macmu"
         ],
         "legendgroup": "Macmu",
         "marker": {
          "color": "#21e548",
          "symbol": "circle"
         },
         "mode": "markers",
         "name": "Macmu",
         "orientation": "v",
         "showlegend": true,
         "type": "scatter",
         "x": [
          -0.82155627
         ],
         "xaxis": "x",
         "y": [
          -0.061917007
         ],
         "yaxis": "y"
        },
        {
         "customdata": [
          [
           17,
           "Callithrix",
           "Eukaryota",
           "Metazoa",
           "EUKARYOTA"
          ]
         ],
         "hovertemplate": "<b>%{hovertext}</b><br><br>Species=%{customdata[1]}<br>pm1=%{x}<br>pm2=%{y}<br>Unnamed: 0=%{customdata[0]}<br>Kingdom=%{customdata[2]}<br>Family=%{customdata[3]}<br>Color_eukaryota=%{customdata[4]}<extra></extra>",
         "hovertext": [
          "Callithrix"
         ],
         "legendgroup": "Callithrix",
         "marker": {
          "color": "#21e548",
          "symbol": "circle"
         },
         "mode": "markers",
         "name": "Callithrix",
         "orientation": "v",
         "showlegend": true,
         "type": "scatter",
         "x": [
          -0.8227882
         ],
         "xaxis": "x",
         "y": [
          -0.04019381
         ],
         "yaxis": "y"
        },
        {
         "customdata": [
          [
           18,
           "Monodelphis",
           "Eukaryota",
           "Metazoa",
           "EUKARYOTA"
          ]
         ],
         "hovertemplate": "<b>%{hovertext}</b><br><br>Species=%{customdata[1]}<br>pm1=%{x}<br>pm2=%{y}<br>Unnamed: 0=%{customdata[0]}<br>Kingdom=%{customdata[2]}<br>Family=%{customdata[3]}<br>Color_eukaryota=%{customdata[4]}<extra></extra>",
         "hovertext": [
          "Monodelphis"
         ],
         "legendgroup": "Monodelphis",
         "marker": {
          "color": "#21e548",
          "symbol": "circle"
         },
         "mode": "markers",
         "name": "Monodelphis",
         "orientation": "v",
         "showlegend": true,
         "type": "scatter",
         "x": [
          0.7402804
         ],
         "xaxis": "x",
         "y": [
          -0.49634287
         ],
         "yaxis": "y"
        },
        {
         "customdata": [
          [
           19,
           "Ornithorhynchus",
           "Eukaryota",
           "Metazoa",
           "EUKARYOTA"
          ]
         ],
         "hovertemplate": "<b>%{hovertext}</b><br><br>Species=%{customdata[1]}<br>pm1=%{x}<br>pm2=%{y}<br>Unnamed: 0=%{customdata[0]}<br>Kingdom=%{customdata[2]}<br>Family=%{customdata[3]}<br>Color_eukaryota=%{customdata[4]}<extra></extra>",
         "hovertext": [
          "Ornithorhynchus"
         ],
         "legendgroup": "Ornithorhynchus",
         "marker": {
          "color": "#21e548",
          "symbol": "circle"
         },
         "mode": "markers",
         "name": "Ornithorhynchus",
         "orientation": "v",
         "showlegend": true,
         "type": "scatter",
         "x": [
          -0.7869309
         ],
         "xaxis": "x",
         "y": [
          -0.0936573
         ],
         "yaxis": "y"
        },
        {
         "customdata": [
          [
           20,
           "Gallus",
           "Eukaryota",
           "Metazoa",
           "EUKARYOTA"
          ]
         ],
         "hovertemplate": "<b>%{hovertext}</b><br><br>Species=%{customdata[1]}<br>pm1=%{x}<br>pm2=%{y}<br>Unnamed: 0=%{customdata[0]}<br>Kingdom=%{customdata[2]}<br>Family=%{customdata[3]}<br>Color_eukaryota=%{customdata[4]}<extra></extra>",
         "hovertext": [
          "Gallus"
         ],
         "legendgroup": "Gallus",
         "marker": {
          "color": "#21e548",
          "symbol": "circle"
         },
         "mode": "markers",
         "name": "Gallus",
         "orientation": "v",
         "showlegend": true,
         "type": "scatter",
         "x": [
          -0.84328246
         ],
         "xaxis": "x",
         "y": [
          -0.122904055
         ],
         "yaxis": "y"
        },
        {
         "customdata": [
          [
           21,
           "Melopsittacus",
           "Eukaryota",
           "Metazoa",
           "EUKARYOTA"
          ]
         ],
         "hovertemplate": "<b>%{hovertext}</b><br><br>Species=%{customdata[1]}<br>pm1=%{x}<br>pm2=%{y}<br>Unnamed: 0=%{customdata[0]}<br>Kingdom=%{customdata[2]}<br>Family=%{customdata[3]}<br>Color_eukaryota=%{customdata[4]}<extra></extra>",
         "hovertext": [
          "Melopsittacus"
         ],
         "legendgroup": "Melopsittacus",
         "marker": {
          "color": "#21e548",
          "symbol": "circle"
         },
         "mode": "markers",
         "name": "Melopsittacus",
         "orientation": "v",
         "showlegend": true,
         "type": "scatter",
         "x": [
          -0.8308515
         ],
         "xaxis": "x",
         "y": [
          -0.12267471
         ],
         "yaxis": "y"
        },
        {
         "customdata": [
          [
           22,
           "Ophiophagus",
           "Eukaryota",
           "Metazoa",
           "EUKARYOTA"
          ]
         ],
         "hovertemplate": "<b>%{hovertext}</b><br><br>Species=%{customdata[1]}<br>pm1=%{x}<br>pm2=%{y}<br>Unnamed: 0=%{customdata[0]}<br>Kingdom=%{customdata[2]}<br>Family=%{customdata[3]}<br>Color_eukaryota=%{customdata[4]}<extra></extra>",
         "hovertext": [
          "Ophiophagus"
         ],
         "legendgroup": "Ophiophagus",
         "marker": {
          "color": "#21e548",
          "symbol": "circle"
         },
         "mode": "markers",
         "name": "Ophiophagus",
         "orientation": "v",
         "showlegend": true,
         "type": "scatter",
         "x": [
          -0.82625085
         ],
         "xaxis": "x",
         "y": [
          -0.1080902
         ],
         "yaxis": "y"
        },
        {
         "customdata": [
          [
           23,
           "Xenopus",
           "Eukaryota",
           "Metazoa",
           "EUKARYOTA"
          ]
         ],
         "hovertemplate": "<b>%{hovertext}</b><br><br>Species=%{customdata[1]}<br>pm1=%{x}<br>pm2=%{y}<br>Unnamed: 0=%{customdata[0]}<br>Kingdom=%{customdata[2]}<br>Family=%{customdata[3]}<br>Color_eukaryota=%{customdata[4]}<extra></extra>",
         "hovertext": [
          "Xenopus"
         ],
         "legendgroup": "Xenopus",
         "marker": {
          "color": "#21e548",
          "symbol": "circle"
         },
         "mode": "markers",
         "name": "Xenopus",
         "orientation": "v",
         "showlegend": true,
         "type": "scatter",
         "x": [
          -0.7864245
         ],
         "xaxis": "x",
         "y": [
          -0.15429442
         ],
         "yaxis": "y"
        },
        {
         "customdata": [
          [
           24,
           "Tetraodon",
           "Eukaryota",
           "Metazoa",
           "EUKARYOTA"
          ]
         ],
         "hovertemplate": "<b>%{hovertext}</b><br><br>Species=%{customdata[1]}<br>pm1=%{x}<br>pm2=%{y}<br>Unnamed: 0=%{customdata[0]}<br>Kingdom=%{customdata[2]}<br>Family=%{customdata[3]}<br>Color_eukaryota=%{customdata[4]}<extra></extra>",
         "hovertext": [
          "Tetraodon"
         ],
         "legendgroup": "Tetraodon",
         "marker": {
          "color": "#21e548",
          "symbol": "circle"
         },
         "mode": "markers",
         "name": "Tetraodon",
         "orientation": "v",
         "showlegend": true,
         "type": "scatter",
         "x": [
          -0.74686414
         ],
         "xaxis": "x",
         "y": [
          -0.15780155
         ],
         "yaxis": "y"
        },
        {
         "customdata": [
          [
           25,
           "Ictalurus",
           "Eukaryota",
           "Metazoa",
           "EUKARYOTA"
          ]
         ],
         "hovertemplate": "<b>%{hovertext}</b><br><br>Species=%{customdata[1]}<br>pm1=%{x}<br>pm2=%{y}<br>Unnamed: 0=%{customdata[0]}<br>Kingdom=%{customdata[2]}<br>Family=%{customdata[3]}<br>Color_eukaryota=%{customdata[4]}<extra></extra>",
         "hovertext": [
          "Ictalurus"
         ],
         "legendgroup": "Ictalurus",
         "marker": {
          "color": "#21e548",
          "symbol": "circle"
         },
         "mode": "markers",
         "name": "Ictalurus",
         "orientation": "v",
         "showlegend": true,
         "type": "scatter",
         "x": [
          -0.7774597
         ],
         "xaxis": "x",
         "y": [
          -0.18446364
         ],
         "yaxis": "y"
        },
        {
         "customdata": [
          [
           26,
           "Danio",
           "Eukaryota",
           "Metazoa",
           "EUKARYOTA"
          ]
         ],
         "hovertemplate": "<b>%{hovertext}</b><br><br>Species=%{customdata[1]}<br>pm1=%{x}<br>pm2=%{y}<br>Unnamed: 0=%{customdata[0]}<br>Kingdom=%{customdata[2]}<br>Family=%{customdata[3]}<br>Color_eukaryota=%{customdata[4]}<extra></extra>",
         "hovertext": [
          "Danio"
         ],
         "legendgroup": "Danio",
         "marker": {
          "color": "#21e548",
          "symbol": "circle"
         },
         "mode": "markers",
         "name": "Danio",
         "orientation": "v",
         "showlegend": true,
         "type": "scatter",
         "x": [
          -0.7198608
         ],
         "xaxis": "x",
         "y": [
          -0.15570429
         ],
         "yaxis": "y"
        },
        {
         "customdata": [
          [
           27,
           "Drosophila",
           "Eukaryota",
           "Metazoa",
           "EUKARYOTA"
          ],
          [
           28,
           "Drosophila",
           "Eukaryota",
           "Metazoa",
           "EUKARYOTA"
          ],
          [
           29,
           "Drosophila",
           "Eukaryota",
           "Metazoa",
           "EUKARYOTA"
          ]
         ],
         "hovertemplate": "<b>%{hovertext}</b><br><br>Species=%{customdata[1]}<br>pm1=%{x}<br>pm2=%{y}<br>Unnamed: 0=%{customdata[0]}<br>Kingdom=%{customdata[2]}<br>Family=%{customdata[3]}<br>Color_eukaryota=%{customdata[4]}<extra></extra>",
         "hovertext": [
          "Drosophila",
          "Drosophila",
          "Drosophila"
         ],
         "legendgroup": "Drosophila",
         "marker": {
          "color": "#21e548",
          "symbol": "circle"
         },
         "mode": "markers",
         "name": "Drosophila",
         "orientation": "v",
         "showlegend": true,
         "type": "scatter",
         "x": [
          -0.75331324,
          -0.748439,
          -0.7313381
         ],
         "xaxis": "x",
         "y": [
          -0.5310014,
          -0.5475899,
          -0.5524903
         ],
         "yaxis": "y"
        },
        {
         "customdata": [
          [
           30,
           "Apis",
           "Eukaryota",
           "Metazoa",
           "EUKARYOTA"
          ]
         ],
         "hovertemplate": "<b>%{hovertext}</b><br><br>Species=%{customdata[1]}<br>pm1=%{x}<br>pm2=%{y}<br>Unnamed: 0=%{customdata[0]}<br>Kingdom=%{customdata[2]}<br>Family=%{customdata[3]}<br>Color_eukaryota=%{customdata[4]}<extra></extra>",
         "hovertext": [
          "Apis"
         ],
         "legendgroup": "Apis",
         "marker": {
          "color": "#21e548",
          "symbol": "circle"
         },
         "mode": "markers",
         "name": "Apis",
         "orientation": "v",
         "showlegend": true,
         "type": "scatter",
         "x": [
          -0.74180365
         ],
         "xaxis": "x",
         "y": [
          -0.5190686
         ],
         "yaxis": "y"
        },
        {
         "customdata": [
          [
           31,
           "Tribolium",
           "Eukaryota",
           "Metazoa",
           "EUKARYOTA"
          ]
         ],
         "hovertemplate": "<b>%{hovertext}</b><br><br>Species=%{customdata[1]}<br>pm1=%{x}<br>pm2=%{y}<br>Unnamed: 0=%{customdata[0]}<br>Kingdom=%{customdata[2]}<br>Family=%{customdata[3]}<br>Color_eukaryota=%{customdata[4]}<extra></extra>",
         "hovertext": [
          "Tribolium"
         ],
         "legendgroup": "Tribolium",
         "marker": {
          "color": "#21e548",
          "symbol": "circle"
         },
         "mode": "markers",
         "name": "Tribolium",
         "orientation": "v",
         "showlegend": true,
         "type": "scatter",
         "x": [
          -0.73487693
         ],
         "xaxis": "x",
         "y": [
          -0.5304727
         ],
         "yaxis": "y"
        },
        {
         "customdata": [
          [
           32,
           "Bombyx",
           "Eukaryota",
           "Metazoa",
           "EUKARYOTA"
          ]
         ],
         "hovertemplate": "<b>%{hovertext}</b><br><br>Species=%{customdata[1]}<br>pm1=%{x}<br>pm2=%{y}<br>Unnamed: 0=%{customdata[0]}<br>Kingdom=%{customdata[2]}<br>Family=%{customdata[3]}<br>Color_eukaryota=%{customdata[4]}<extra></extra>",
         "hovertext": [
          "Bombyx"
         ],
         "legendgroup": "Bombyx",
         "marker": {
          "color": "#21e548",
          "symbol": "circle"
         },
         "mode": "markers",
         "name": "Bombyx",
         "orientation": "v",
         "showlegend": true,
         "type": "scatter",
         "x": [
          -0.7247355
         ],
         "xaxis": "x",
         "y": [
          -0.53849876
         ],
         "yaxis": "y"
        },
        {
         "customdata": [
          [
           33,
           "Graphocephala",
           "Eukaryota",
           "Metazoa",
           "EUKARYOTA"
          ]
         ],
         "hovertemplate": "<b>%{hovertext}</b><br><br>Species=%{customdata[1]}<br>pm1=%{x}<br>pm2=%{y}<br>Unnamed: 0=%{customdata[0]}<br>Kingdom=%{customdata[2]}<br>Family=%{customdata[3]}<br>Color_eukaryota=%{customdata[4]}<extra></extra>",
         "hovertext": [
          "Graphocephala"
         ],
         "legendgroup": "Graphocephala",
         "marker": {
          "color": "#21e548",
          "symbol": "circle"
         },
         "mode": "markers",
         "name": "Graphocephala",
         "orientation": "v",
         "showlegend": true,
         "type": "scatter",
         "x": [
          -0.7247921
         ],
         "xaxis": "x",
         "y": [
          -0.49430734
         ],
         "yaxis": "y"
        },
        {
         "customdata": [
          [
           34,
           "Litopenaeus",
           "Eukaryota",
           "Metazoa",
           "EUKARYOTA"
          ]
         ],
         "hovertemplate": "<b>%{hovertext}</b><br><br>Species=%{customdata[1]}<br>pm1=%{x}<br>pm2=%{y}<br>Unnamed: 0=%{customdata[0]}<br>Kingdom=%{customdata[2]}<br>Family=%{customdata[3]}<br>Color_eukaryota=%{customdata[4]}<extra></extra>",
         "hovertext": [
          "Litopenaeus"
         ],
         "legendgroup": "Litopenaeus",
         "marker": {
          "color": "#21e548",
          "symbol": "circle"
         },
         "mode": "markers",
         "name": "Litopenaeus",
         "orientation": "v",
         "showlegend": true,
         "type": "scatter",
         "x": [
          -0.7117707
         ],
         "xaxis": "x",
         "y": [
          -0.5291109
         ],
         "yaxis": "y"
        },
        {
         "customdata": [
          [
           35,
           "Geocy",
           "Eukaryota",
           "Metazoa",
           "EUKARYOTA"
          ]
         ],
         "hovertemplate": "<b>%{hovertext}</b><br><br>Species=%{customdata[1]}<br>pm1=%{x}<br>pm2=%{y}<br>Unnamed: 0=%{customdata[0]}<br>Kingdom=%{customdata[2]}<br>Family=%{customdata[3]}<br>Color_eukaryota=%{customdata[4]}<extra></extra>",
         "hovertext": [
          "Geocy"
         ],
         "legendgroup": "Geocy",
         "marker": {
          "color": "#21e548",
          "symbol": "circle"
         },
         "mode": "markers",
         "name": "Geocy",
         "orientation": "v",
         "showlegend": true,
         "type": "scatter",
         "x": [
          -0.6954949
         ],
         "xaxis": "x",
         "y": [
          -0.2996023
         ],
         "yaxis": "y"
        },
        {
         "customdata": [
          [
           36,
           "Aspergillus",
           "Eukaryota",
           "Fungi",
           "EUKARYOTA"
          ],
          [
           38,
           "Aspergillus",
           "Eukaryota",
           "Fungi",
           "EUKARYOTA"
          ],
          [
           39,
           "Aspergillus",
           "Eukaryota",
           "Fungi",
           "EUKARYOTA"
          ]
         ],
         "hovertemplate": "<b>%{hovertext}</b><br><br>Species=%{customdata[1]}<br>pm1=%{x}<br>pm2=%{y}<br>Unnamed: 0=%{customdata[0]}<br>Kingdom=%{customdata[2]}<br>Family=%{customdata[3]}<br>Color_eukaryota=%{customdata[4]}<extra></extra>",
         "hovertext": [
          "Aspergillus",
          "Aspergillus",
          "Aspergillus"
         ],
         "legendgroup": "Aspergillus",
         "marker": {
          "color": "#1fb995",
          "symbol": "circle"
         },
         "mode": "markers",
         "name": "Aspergillus",
         "orientation": "v",
         "showlegend": true,
         "type": "scatter",
         "x": [
          -0.6810791,
          -0.73197603,
          -0.73390985
         ],
         "xaxis": "x",
         "y": [
          0.11914146,
          0.19756268,
          0.21699464
         ],
         "yaxis": "y"
        },
        {
         "customdata": [
          [
           37,
           "Neosartorya",
           "Eukaryota",
           "Fungi",
           "EUKARYOTA"
          ]
         ],
         "hovertemplate": "<b>%{hovertext}</b><br><br>Species=%{customdata[1]}<br>pm1=%{x}<br>pm2=%{y}<br>Unnamed: 0=%{customdata[0]}<br>Kingdom=%{customdata[2]}<br>Family=%{customdata[3]}<br>Color_eukaryota=%{customdata[4]}<extra></extra>",
         "hovertext": [
          "Neosartorya"
         ],
         "legendgroup": "Neosartorya",
         "marker": {
          "color": "#1fb995",
          "symbol": "circle"
         },
         "mode": "markers",
         "name": "Neosartorya",
         "orientation": "v",
         "showlegend": true,
         "type": "scatter",
         "x": [
          -0.7521039
         ],
         "xaxis": "x",
         "y": [
          0.16425893
         ],
         "yaxis": "y"
        },
        {
         "customdata": [
          [
           40,
           "Pichia",
           "Eukaryota",
           "Fungi",
           "EUKARYOTA"
          ],
          [
           42,
           "Pichia",
           "Eukaryota",
           "Fungi",
           "EUKARYOTA"
          ]
         ],
         "hovertemplate": "<b>%{hovertext}</b><br><br>Species=%{customdata[1]}<br>pm1=%{x}<br>pm2=%{y}<br>Unnamed: 0=%{customdata[0]}<br>Kingdom=%{customdata[2]}<br>Family=%{customdata[3]}<br>Color_eukaryota=%{customdata[4]}<extra></extra>",
         "hovertext": [
          "Pichia",
          "Pichia"
         ],
         "legendgroup": "Pichia",
         "marker": {
          "color": "#1fb995",
          "symbol": "circle"
         },
         "mode": "markers",
         "name": "Pichia",
         "orientation": "v",
         "showlegend": true,
         "type": "scatter",
         "x": [
          -0.57037693,
          -0.66944695
         ],
         "xaxis": "x",
         "y": [
          -0.13791098,
          0.19888036
         ],
         "yaxis": "y"
        },
        {
         "customdata": [
          [
           41,
           "Candida",
           "Eukaryota",
           "Fungi",
           "EUKARYOTA"
          ],
          [
           45,
           "Candida",
           "Eukaryota",
           "Fungi",
           "EUKARYOTA"
          ]
         ],
         "hovertemplate": "<b>%{hovertext}</b><br><br>Species=%{customdata[1]}<br>pm1=%{x}<br>pm2=%{y}<br>Unnamed: 0=%{customdata[0]}<br>Kingdom=%{customdata[2]}<br>Family=%{customdata[3]}<br>Color_eukaryota=%{customdata[4]}<extra></extra>",
         "hovertext": [
          "Candida",
          "Candida"
         ],
         "legendgroup": "Candida",
         "marker": {
          "color": "#1fb995",
          "symbol": "circle"
         },
         "mode": "markers",
         "name": "Candida",
         "orientation": "v",
         "showlegend": true,
         "type": "scatter",
         "x": [
          -0.62652355,
          -0.60802054
         ],
         "xaxis": "x",
         "y": [
          0.2946659,
          0.26075897
         ],
         "yaxis": "y"
        },
        {
         "customdata": [
          [
           43,
           "Kluyveromyces",
           "Eukaryota",
           "Fungi",
           "EUKARYOTA"
          ]
         ],
         "hovertemplate": "<b>%{hovertext}</b><br><br>Species=%{customdata[1]}<br>pm1=%{x}<br>pm2=%{y}<br>Unnamed: 0=%{customdata[0]}<br>Kingdom=%{customdata[2]}<br>Family=%{customdata[3]}<br>Color_eukaryota=%{customdata[4]}<extra></extra>",
         "hovertext": [
          "Kluyveromyces"
         ],
         "legendgroup": "Kluyveromyces",
         "marker": {
          "color": "#1fb995",
          "symbol": "circle"
         },
         "mode": "markers",
         "name": "Kluyveromyces",
         "orientation": "v",
         "showlegend": true,
         "type": "scatter",
         "x": [
          -0.615969
         ],
         "xaxis": "x",
         "y": [
          0.23958886
         ],
         "yaxis": "y"
        },
        {
         "customdata": [
          [
           44,
           "Saccharomyces",
           "Eukaryota",
           "Fungi",
           "EUKARYOTA"
          ],
          [
           46,
           "Saccharomyces",
           "Eukaryota",
           "Fungi",
           "EUKARYOTA"
          ]
         ],
         "hovertemplate": "<b>%{hovertext}</b><br><br>Species=%{customdata[1]}<br>pm1=%{x}<br>pm2=%{y}<br>Unnamed: 0=%{customdata[0]}<br>Kingdom=%{customdata[2]}<br>Family=%{customdata[3]}<br>Color_eukaryota=%{customdata[4]}<extra></extra>",
         "hovertext": [
          "Saccharomyces",
          "Saccharomyces"
         ],
         "legendgroup": "Saccharomyces",
         "marker": {
          "color": "#1fb995",
          "symbol": "circle"
         },
         "mode": "markers",
         "name": "Saccharomyces",
         "orientation": "v",
         "showlegend": true,
         "type": "scatter",
         "x": [
          -0.6591339,
          -0.6525111
         ],
         "xaxis": "x",
         "y": [
          0.29400313,
          0.25796384
         ],
         "yaxis": "y"
        },
        {
         "customdata": [
          [
           47,
           "Schizosaccharomyces",
           "Eukaryota",
           "Fungi",
           "EUKARYOTA"
          ]
         ],
         "hovertemplate": "<b>%{hovertext}</b><br><br>Species=%{customdata[1]}<br>pm1=%{x}<br>pm2=%{y}<br>Unnamed: 0=%{customdata[0]}<br>Kingdom=%{customdata[2]}<br>Family=%{customdata[3]}<br>Color_eukaryota=%{customdata[4]}<extra></extra>",
         "hovertext": [
          "Schizosaccharomyces"
         ],
         "legendgroup": "Schizosaccharomyces",
         "marker": {
          "color": "#1fb995",
          "symbol": "circle"
         },
         "mode": "markers",
         "name": "Schizosaccharomyces",
         "orientation": "v",
         "showlegend": true,
         "type": "scatter",
         "x": [
          -0.7071143
         ],
         "xaxis": "x",
         "y": [
          0.16122662
         ],
         "yaxis": "y"
        },
        {
         "customdata": [
          [
           48,
           "Monosiga",
           "Eukaryota",
           "Choanoflagellata",
           "EUKARYOTA"
          ]
         ],
         "hovertemplate": "<b>%{hovertext}</b><br><br>Species=%{customdata[1]}<br>pm1=%{x}<br>pm2=%{y}<br>Unnamed: 0=%{customdata[0]}<br>Kingdom=%{customdata[2]}<br>Family=%{customdata[3]}<br>Color_eukaryota=%{customdata[4]}<extra></extra>",
         "hovertext": [
          "Monosiga"
         ],
         "legendgroup": "Monosiga",
         "marker": {
          "color": "#21e548",
          "symbol": "circle"
         },
         "mode": "markers",
         "name": "Monosiga",
         "orientation": "v",
         "showlegend": true,
         "type": "scatter",
         "x": [
          -0.6314559
         ],
         "xaxis": "x",
         "y": [
          -0.0709549
         ],
         "yaxis": "y"
        },
        {
         "customdata": [
          [
           49,
           "Entamoeba",
           "Eukaryota",
           "Amoebozoa",
           "EUKARYOTA"
          ]
         ],
         "hovertemplate": "<b>%{hovertext}</b><br><br>Species=%{customdata[1]}<br>pm1=%{x}<br>pm2=%{y}<br>Unnamed: 0=%{customdata[0]}<br>Kingdom=%{customdata[2]}<br>Family=%{customdata[3]}<br>Color_eukaryota=%{customdata[4]}<extra></extra>",
         "hovertext": [
          "Entamoeba"
         ],
         "legendgroup": "Entamoeba",
         "marker": {
          "color": "#21e548",
          "symbol": "circle"
         },
         "mode": "markers",
         "name": "Entamoeba",
         "orientation": "v",
         "showlegend": true,
         "type": "scatter",
         "x": [
          -0.756797
         ],
         "xaxis": "x",
         "y": [
          -0.19151846
         ],
         "yaxis": "y"
        },
        {
         "customdata": [
          [
           50,
           "Dictyostelium",
           "Eukaryota",
           "Amoebozoa",
           "EUKARYOTA"
          ]
         ],
         "hovertemplate": "<b>%{hovertext}</b><br><br>Species=%{customdata[1]}<br>pm1=%{x}<br>pm2=%{y}<br>Unnamed: 0=%{customdata[0]}<br>Kingdom=%{customdata[2]}<br>Family=%{customdata[3]}<br>Color_eukaryota=%{customdata[4]}<extra></extra>",
         "hovertext": [
          "Dictyostelium"
         ],
         "legendgroup": "Dictyostelium",
         "marker": {
          "color": "#21e548",
          "symbol": "circle"
         },
         "mode": "markers",
         "name": "Dictyostelium",
         "orientation": "v",
         "showlegend": true,
         "type": "scatter",
         "x": [
          -0.7026959
         ],
         "xaxis": "x",
         "y": [
          -0.113642864
         ],
         "yaxis": "y"
        },
        {
         "customdata": [
          [
           51,
           "Arabidopsis",
           "Eukaryota",
           "Viridiplantae",
           "EUKARYOTA"
          ],
          [
           52,
           "Arabidopsis",
           "Eukaryota",
           "Viridiplantae",
           "EUKARYOTA"
          ]
         ],
         "hovertemplate": "<b>%{hovertext}</b><br><br>Species=%{customdata[1]}<br>pm1=%{x}<br>pm2=%{y}<br>Unnamed: 0=%{customdata[0]}<br>Kingdom=%{customdata[2]}<br>Family=%{customdata[3]}<br>Color_eukaryota=%{customdata[4]}<extra></extra>",
         "hovertext": [
          "Arabidopsis",
          "Arabidopsis"
         ],
         "legendgroup": "Arabidopsis",
         "marker": {
          "color": "#06f9d4",
          "symbol": "circle"
         },
         "mode": "markers",
         "name": "Arabidopsis",
         "orientation": "v",
         "showlegend": true,
         "type": "scatter",
         "x": [
          0.86114365,
          0.84289294
         ],
         "xaxis": "x",
         "y": [
          0.20506479,
          0.2193647
         ],
         "yaxis": "y"
        },
        {
         "customdata": [
          [
           53,
           "Limonium",
           "Eukaryota",
           "Viridiplantae",
           "EUKARYOTA"
          ]
         ],
         "hovertemplate": "<b>%{hovertext}</b><br><br>Species=%{customdata[1]}<br>pm1=%{x}<br>pm2=%{y}<br>Unnamed: 0=%{customdata[0]}<br>Kingdom=%{customdata[2]}<br>Family=%{customdata[3]}<br>Color_eukaryota=%{customdata[4]}<extra></extra>",
         "hovertext": [
          "Limonium"
         ],
         "legendgroup": "Limonium",
         "marker": {
          "color": "#c7c7c7",
          "symbol": "circle"
         },
         "mode": "markers",
         "name": "Limonium",
         "orientation": "v",
         "showlegend": true,
         "type": "scatter",
         "x": [
          0.86750895
         ],
         "xaxis": "x",
         "y": [
          0.24155946
         ],
         "yaxis": "y"
        },
        {
         "customdata": [
          [
           54,
           "Zea",
           "Eukaryota",
           "Viridiplantae",
           "EUKARYOTA"
          ]
         ],
         "hovertemplate": "<b>%{hovertext}</b><br><br>Species=%{customdata[1]}<br>pm1=%{x}<br>pm2=%{y}<br>Unnamed: 0=%{customdata[0]}<br>Kingdom=%{customdata[2]}<br>Family=%{customdata[3]}<br>Color_eukaryota=%{customdata[4]}<extra></extra>",
         "hovertext": [
          "Zea"
         ],
         "legendgroup": "Zea",
         "marker": {
          "color": "#c7c7c7",
          "symbol": "circle"
         },
         "mode": "markers",
         "name": "Zea",
         "orientation": "v",
         "showlegend": true,
         "type": "scatter",
         "x": [
          0.8898363
         ],
         "xaxis": "x",
         "y": [
          0.26888776
         ],
         "yaxis": "y"
        },
        {
         "customdata": [
          [
           55,
           "Vitis",
           "Eukaryota",
           "Viridiplantae",
           "EUKARYOTA"
          ]
         ],
         "hovertemplate": "<b>%{hovertext}</b><br><br>Species=%{customdata[1]}<br>pm1=%{x}<br>pm2=%{y}<br>Unnamed: 0=%{customdata[0]}<br>Kingdom=%{customdata[2]}<br>Family=%{customdata[3]}<br>Color_eukaryota=%{customdata[4]}<extra></extra>",
         "hovertext": [
          "Vitis"
         ],
         "legendgroup": "Vitis",
         "marker": {
          "color": "#c7c7c7",
          "symbol": "circle"
         },
         "mode": "markers",
         "name": "Vitis",
         "orientation": "v",
         "showlegend": true,
         "type": "scatter",
         "x": [
          0.874268
         ],
         "xaxis": "x",
         "y": [
          0.26825014
         ],
         "yaxis": "y"
        },
        {
         "customdata": [
          [
           56,
           "Ostreococcus",
           "Eukaryota",
           "Viridiplantae",
           "EUKARYOTA"
          ]
         ],
         "hovertemplate": "<b>%{hovertext}</b><br><br>Species=%{customdata[1]}<br>pm1=%{x}<br>pm2=%{y}<br>Unnamed: 0=%{customdata[0]}<br>Kingdom=%{customdata[2]}<br>Family=%{customdata[3]}<br>Color_eukaryota=%{customdata[4]}<extra></extra>",
         "hovertext": [
          "Ostreococcus"
         ],
         "legendgroup": "Ostreococcus",
         "marker": {
          "color": "#b5e521",
          "symbol": "circle"
         },
         "mode": "markers",
         "name": "Ostreococcus",
         "orientation": "v",
         "showlegend": true,
         "type": "scatter",
         "x": [
          -0.71635604
         ],
         "xaxis": "x",
         "y": [
          -0.026540766
         ],
         "yaxis": "y"
        },
        {
         "customdata": [
          [
           57,
           "Helicosporidium",
           "Eukaryota",
           "Viridiplantae",
           "EUKARYOTA"
          ]
         ],
         "hovertemplate": "<b>%{hovertext}</b><br><br>Species=%{customdata[1]}<br>pm1=%{x}<br>pm2=%{y}<br>Unnamed: 0=%{customdata[0]}<br>Kingdom=%{customdata[2]}<br>Family=%{customdata[3]}<br>Color_eukaryota=%{customdata[4]}<extra></extra>",
         "hovertext": [
          "Helicosporidium"
         ],
         "legendgroup": "Helicosporidium",
         "marker": {
          "color": "#b5e521",
          "symbol": "circle"
         },
         "mode": "markers",
         "name": "Helicosporidium",
         "orientation": "v",
         "showlegend": true,
         "type": "scatter",
         "x": [
          -0.7375467
         ],
         "xaxis": "x",
         "y": [
          -0.07159258
         ],
         "yaxis": "y"
        },
        {
         "customdata": [
          [
           58,
           "Fagopyrum",
           "Eukaryota",
           "Viridiplantae",
           "EUKARYOTA"
          ]
         ],
         "hovertemplate": "<b>%{hovertext}</b><br><br>Species=%{customdata[1]}<br>pm1=%{x}<br>pm2=%{y}<br>Unnamed: 0=%{customdata[0]}<br>Kingdom=%{customdata[2]}<br>Family=%{customdata[3]}<br>Color_eukaryota=%{customdata[4]}<extra></extra>",
         "hovertext": [
          "Fagopyrum"
         ],
         "legendgroup": "Fagopyrum",
         "marker": {
          "color": "#b5e521",
          "symbol": "circle"
         },
         "mode": "markers",
         "name": "Fagopyrum",
         "orientation": "v",
         "showlegend": true,
         "type": "scatter",
         "x": [
          -0.6551419
         ],
         "xaxis": "x",
         "y": [
          0.062075492
         ],
         "yaxis": "y"
        },
        {
         "customdata": [
          [
           59,
           "Cryptosporidium",
           "Eukaryota",
           "Alveolata",
           "EUKARYOTA"
          ]
         ],
         "hovertemplate": "<b>%{hovertext}</b><br><br>Species=%{customdata[1]}<br>pm1=%{x}<br>pm2=%{y}<br>Unnamed: 0=%{customdata[0]}<br>Kingdom=%{customdata[2]}<br>Family=%{customdata[3]}<br>Color_eukaryota=%{customdata[4]}<extra></extra>",
         "hovertext": [
          "Cryptosporidium"
         ],
         "legendgroup": "Cryptosporidium",
         "marker": {
          "color": "#21e548",
          "symbol": "circle"
         },
         "mode": "markers",
         "name": "Cryptosporidium",
         "orientation": "v",
         "showlegend": true,
         "type": "scatter",
         "x": [
          -0.6249803
         ],
         "xaxis": "x",
         "y": [
          0.21035507
         ],
         "yaxis": "y"
        },
        {
         "customdata": [
          [
           60,
           "Theileria",
           "Eukaryota",
           "Sar",
           "EUKARYOTA"
          ]
         ],
         "hovertemplate": "<b>%{hovertext}</b><br><br>Species=%{customdata[1]}<br>pm1=%{x}<br>pm2=%{y}<br>Unnamed: 0=%{customdata[0]}<br>Kingdom=%{customdata[2]}<br>Family=%{customdata[3]}<br>Color_eukaryota=%{customdata[4]}<extra></extra>",
         "hovertext": [
          "Theileria"
         ],
         "legendgroup": "Theileria",
         "marker": {
          "color": "#21e548",
          "symbol": "circle"
         },
         "mode": "markers",
         "name": "Theileria",
         "orientation": "v",
         "showlegend": true,
         "type": "scatter",
         "x": [
          -0.81088555
         ],
         "xaxis": "x",
         "y": [
          0.0577559
         ],
         "yaxis": "y"
        },
        {
         "customdata": [
          [
           61,
           "Plasmodium",
           "Eukaryota",
           "Alveolata",
           "EUKARYOTA"
          ]
         ],
         "hovertemplate": "<b>%{hovertext}</b><br><br>Species=%{customdata[1]}<br>pm1=%{x}<br>pm2=%{y}<br>Unnamed: 0=%{customdata[0]}<br>Kingdom=%{customdata[2]}<br>Family=%{customdata[3]}<br>Color_eukaryota=%{customdata[4]}<extra></extra>",
         "hovertext": [
          "Plasmodium"
         ],
         "legendgroup": "Plasmodium",
         "marker": {
          "color": "#21e548",
          "symbol": "circle"
         },
         "mode": "markers",
         "name": "Plasmodium",
         "orientation": "v",
         "showlegend": true,
         "type": "scatter",
         "x": [
          -0.731728
         ],
         "xaxis": "x",
         "y": [
          0.076384
         ],
         "yaxis": "y"
        },
        {
         "customdata": [
          [
           62,
           "Archaeoglobus",
           "Archaea",
           "Euryarchaeota",
           "OTHERS"
          ],
          [
           76,
           "Archaeoglobus",
           "Archaea",
           "Euryarchaeota",
           "OTHERS"
          ]
         ],
         "hovertemplate": "<b>%{hovertext}</b><br><br>Species=%{customdata[1]}<br>pm1=%{x}<br>pm2=%{y}<br>Unnamed: 0=%{customdata[0]}<br>Kingdom=%{customdata[2]}<br>Family=%{customdata[3]}<br>Color_eukaryota=%{customdata[4]}<extra></extra>",
         "hovertext": [
          "Archaeoglobus",
          "Archaeoglobus"
         ],
         "legendgroup": "Archaeoglobus",
         "marker": {
          "color": "#ff0000",
          "symbol": "circle"
         },
         "mode": "markers",
         "name": "Archaeoglobus",
         "orientation": "v",
         "showlegend": true,
         "type": "scatter",
         "x": [
          0.20612599,
          0.116339475
         ],
         "xaxis": "x",
         "y": [
          -0.008712659,
          -0.0476018
         ],
         "yaxis": "y"
        },
        {
         "customdata": [
          [
           63,
           "Methanosaeta",
           "Archaea",
           "Euryarchaeota",
           "OTHERS"
          ],
          [
           70,
           "Methanosaeta",
           "Archaea",
           "Euryarchaeota",
           "OTHERS"
          ]
         ],
         "hovertemplate": "<b>%{hovertext}</b><br><br>Species=%{customdata[1]}<br>pm1=%{x}<br>pm2=%{y}<br>Unnamed: 0=%{customdata[0]}<br>Kingdom=%{customdata[2]}<br>Family=%{customdata[3]}<br>Color_eukaryota=%{customdata[4]}<extra></extra>",
         "hovertext": [
          "Methanosaeta",
          "Methanosaeta"
         ],
         "legendgroup": "Methanosaeta",
         "marker": {
          "color": "#ff0000",
          "symbol": "circle"
         },
         "mode": "markers",
         "name": "Methanosaeta",
         "orientation": "v",
         "showlegend": true,
         "type": "scatter",
         "x": [
          0.1019516,
          0.37916875
         ],
         "xaxis": "x",
         "y": [
          -0.18376373,
          0.08937337
         ],
         "yaxis": "y"
        },
        {
         "customdata": [
          [
           64,
           "Methanococcoides",
           "Archaea",
           "Euryarchaeota",
           "OTHERS"
          ]
         ],
         "hovertemplate": "<b>%{hovertext}</b><br><br>Species=%{customdata[1]}<br>pm1=%{x}<br>pm2=%{y}<br>Unnamed: 0=%{customdata[0]}<br>Kingdom=%{customdata[2]}<br>Family=%{customdata[3]}<br>Color_eukaryota=%{customdata[4]}<extra></extra>",
         "hovertext": [
          "Methanococcoides"
         ],
         "legendgroup": "Methanococcoides",
         "marker": {
          "color": "#ff0000",
          "symbol": "circle"
         },
         "mode": "markers",
         "name": "Methanococcoides",
         "orientation": "v",
         "showlegend": true,
         "type": "scatter",
         "x": [
          0.03265355
         ],
         "xaxis": "x",
         "y": [
          -0.2033935
         ],
         "yaxis": "y"
        },
        {
         "customdata": [
          [
           65,
           "Candidatus",
           "Archaea",
           "Euryarchaeota",
           "OTHERS"
          ]
         ],
         "hovertemplate": "<b>%{hovertext}</b><br><br>Species=%{customdata[1]}<br>pm1=%{x}<br>pm2=%{y}<br>Unnamed: 0=%{customdata[0]}<br>Kingdom=%{customdata[2]}<br>Family=%{customdata[3]}<br>Color_eukaryota=%{customdata[4]}<extra></extra>",
         "hovertext": [
          "Candidatus"
         ],
         "legendgroup": "Candidatus",
         "marker": {
          "color": "#ff0000",
          "symbol": "circle"
         },
         "mode": "markers",
         "name": "Candidatus",
         "orientation": "v",
         "showlegend": true,
         "type": "scatter",
         "x": [
          0.17626055
         ],
         "xaxis": "x",
         "y": [
          -0.09225356
         ],
         "yaxis": "y"
        },
        {
         "customdata": [
          [
           66,
           "Methanospirillum",
           "Archaea",
           "Euryarchaeota",
           "OTHERS"
          ]
         ],
         "hovertemplate": "<b>%{hovertext}</b><br><br>Species=%{customdata[1]}<br>pm1=%{x}<br>pm2=%{y}<br>Unnamed: 0=%{customdata[0]}<br>Kingdom=%{customdata[2]}<br>Family=%{customdata[3]}<br>Color_eukaryota=%{customdata[4]}<extra></extra>",
         "hovertext": [
          "Methanospirillum"
         ],
         "legendgroup": "Methanospirillum",
         "marker": {
          "color": "#ff0000",
          "symbol": "circle"
         },
         "mode": "markers",
         "name": "Methanospirillum",
         "orientation": "v",
         "showlegend": true,
         "type": "scatter",
         "x": [
          0.17642745
         ],
         "xaxis": "x",
         "y": [
          -0.09174974
         ],
         "yaxis": "y"
        },
        {
         "customdata": [
          [
           67,
           "Picrophilus",
           "Archaea",
           "Euryarchaeota",
           "OTHERS"
          ]
         ],
         "hovertemplate": "<b>%{hovertext}</b><br><br>Species=%{customdata[1]}<br>pm1=%{x}<br>pm2=%{y}<br>Unnamed: 0=%{customdata[0]}<br>Kingdom=%{customdata[2]}<br>Family=%{customdata[3]}<br>Color_eukaryota=%{customdata[4]}<extra></extra>",
         "hovertext": [
          "Picrophilus"
         ],
         "legendgroup": "Picrophilus",
         "marker": {
          "color": "#ff0000",
          "symbol": "circle"
         },
         "mode": "markers",
         "name": "Picrophilus",
         "orientation": "v",
         "showlegend": true,
         "type": "scatter",
         "x": [
          -0.053208943
         ],
         "xaxis": "x",
         "y": [
          -0.3469995
         ],
         "yaxis": "y"
        },
        {
         "customdata": [
          [
           68,
           "Methanococcus",
           "Archaea",
           "Euryarchaeota",
           "OTHERS"
          ]
         ],
         "hovertemplate": "<b>%{hovertext}</b><br><br>Species=%{customdata[1]}<br>pm1=%{x}<br>pm2=%{y}<br>Unnamed: 0=%{customdata[0]}<br>Kingdom=%{customdata[2]}<br>Family=%{customdata[3]}<br>Color_eukaryota=%{customdata[4]}<extra></extra>",
         "hovertext": [
          "Methanococcus"
         ],
         "legendgroup": "Methanococcus",
         "marker": {
          "color": "#ff0000",
          "symbol": "circle"
         },
         "mode": "markers",
         "name": "Methanococcus",
         "orientation": "v",
         "showlegend": true,
         "type": "scatter",
         "x": [
          -0.06653563
         ],
         "xaxis": "x",
         "y": [
          0.21421278
         ],
         "yaxis": "y"
        },
        {
         "customdata": [
          [
           69,
           "Methanocorpusculum",
           "Archaea",
           "Euryarchaeota",
           "OTHERS"
          ]
         ],
         "hovertemplate": "<b>%{hovertext}</b><br><br>Species=%{customdata[1]}<br>pm1=%{x}<br>pm2=%{y}<br>Unnamed: 0=%{customdata[0]}<br>Kingdom=%{customdata[2]}<br>Family=%{customdata[3]}<br>Color_eukaryota=%{customdata[4]}<extra></extra>",
         "hovertext": [
          "Methanocorpusculum"
         ],
         "legendgroup": "Methanocorpusculum",
         "marker": {
          "color": "#ff0000",
          "symbol": "circle"
         },
         "mode": "markers",
         "name": "Methanocorpusculum",
         "orientation": "v",
         "showlegend": true,
         "type": "scatter",
         "x": [
          0.327191
         ],
         "xaxis": "x",
         "y": [
          0.046584513
         ],
         "yaxis": "y"
        },
        {
         "customdata": [
          [
           71,
           "Natronomonas",
           "Archaea",
           "Euryarchaeota",
           "OTHERS"
          ],
          [
           74,
           "Natronomonas",
           "Archaea",
           "Euryarchaeota",
           "OTHERS"
          ]
         ],
         "hovertemplate": "<b>%{hovertext}</b><br><br>Species=%{customdata[1]}<br>pm1=%{x}<br>pm2=%{y}<br>Unnamed: 0=%{customdata[0]}<br>Kingdom=%{customdata[2]}<br>Family=%{customdata[3]}<br>Color_eukaryota=%{customdata[4]}<extra></extra>",
         "hovertext": [
          "Natronomonas",
          "Natronomonas"
         ],
         "legendgroup": "Natronomonas",
         "marker": {
          "color": "#ff0000",
          "symbol": "circle"
         },
         "mode": "markers",
         "name": "Natronomonas",
         "orientation": "v",
         "showlegend": true,
         "type": "scatter",
         "x": [
          -0.08388916,
          -0.040630043
         ],
         "xaxis": "x",
         "y": [
          0.7302229,
          0.7244389
         ],
         "yaxis": "y"
        },
        {
         "customdata": [
          [
           72,
           "Haloquadratum",
           "Archaea",
           "Euryarchaeota",
           "OTHERS"
          ]
         ],
         "hovertemplate": "<b>%{hovertext}</b><br><br>Species=%{customdata[1]}<br>pm1=%{x}<br>pm2=%{y}<br>Unnamed: 0=%{customdata[0]}<br>Kingdom=%{customdata[2]}<br>Family=%{customdata[3]}<br>Color_eukaryota=%{customdata[4]}<extra></extra>",
         "hovertext": [
          "Haloquadratum"
         ],
         "legendgroup": "Haloquadratum",
         "marker": {
          "color": "#ff0000",
          "symbol": "circle"
         },
         "mode": "markers",
         "name": "Haloquadratum",
         "orientation": "v",
         "showlegend": true,
         "type": "scatter",
         "x": [
          -0.089336336
         ],
         "xaxis": "x",
         "y": [
          0.74159443
         ],
         "yaxis": "y"
        },
        {
         "customdata": [
          [
           73,
           "Haloarcula",
           "Archaea",
           "Euryarchaeota",
           "OTHERS"
          ]
         ],
         "hovertemplate": "<b>%{hovertext}</b><br><br>Species=%{customdata[1]}<br>pm1=%{x}<br>pm2=%{y}<br>Unnamed: 0=%{customdata[0]}<br>Kingdom=%{customdata[2]}<br>Family=%{customdata[3]}<br>Color_eukaryota=%{customdata[4]}<extra></extra>",
         "hovertext": [
          "Haloarcula"
         ],
         "legendgroup": "Haloarcula",
         "marker": {
          "color": "#ff0000",
          "symbol": "circle"
         },
         "mode": "markers",
         "name": "Haloarcula",
         "orientation": "v",
         "showlegend": true,
         "type": "scatter",
         "x": [
          -0.09375717
         ],
         "xaxis": "x",
         "y": [
          0.7322303
         ],
         "yaxis": "y"
        },
        {
         "customdata": [
          [
           75,
           "Halobacterium",
           "Archaea",
           "Euryarchaeota",
           "OTHERS"
          ]
         ],
         "hovertemplate": "<b>%{hovertext}</b><br><br>Species=%{customdata[1]}<br>pm1=%{x}<br>pm2=%{y}<br>Unnamed: 0=%{customdata[0]}<br>Kingdom=%{customdata[2]}<br>Family=%{customdata[3]}<br>Color_eukaryota=%{customdata[4]}<extra></extra>",
         "hovertext": [
          "Halobacterium"
         ],
         "legendgroup": "Halobacterium",
         "marker": {
          "color": "#ff0000",
          "symbol": "circle"
         },
         "mode": "markers",
         "name": "Halobacterium",
         "orientation": "v",
         "showlegend": true,
         "type": "scatter",
         "x": [
          -0.07796227
         ],
         "xaxis": "x",
         "y": [
          0.736704
         ],
         "yaxis": "y"
        },
        {
         "customdata": [
          [
           77,
           "Thermoplasma",
           "Archaea",
           "Euryarchaeota",
           "OTHERS"
          ]
         ],
         "hovertemplate": "<b>%{hovertext}</b><br><br>Species=%{customdata[1]}<br>pm1=%{x}<br>pm2=%{y}<br>Unnamed: 0=%{customdata[0]}<br>Kingdom=%{customdata[2]}<br>Family=%{customdata[3]}<br>Color_eukaryota=%{customdata[4]}<extra></extra>",
         "hovertext": [
          "Thermoplasma"
         ],
         "legendgroup": "Thermoplasma",
         "marker": {
          "color": "#ff0000",
          "symbol": "circle"
         },
         "mode": "markers",
         "name": "Thermoplasma",
         "orientation": "v",
         "showlegend": true,
         "type": "scatter",
         "x": [
          0.08195666
         ],
         "xaxis": "x",
         "y": [
          0.042008072
         ],
         "yaxis": "y"
        },
        {
         "customdata": [
          [
           78,
           "Thermofilum",
           "Archaea",
           "Crenarchaeota",
           "OTHERS"
          ]
         ],
         "hovertemplate": "<b>%{hovertext}</b><br><br>Species=%{customdata[1]}<br>pm1=%{x}<br>pm2=%{y}<br>Unnamed: 0=%{customdata[0]}<br>Kingdom=%{customdata[2]}<br>Family=%{customdata[3]}<br>Color_eukaryota=%{customdata[4]}<extra></extra>",
         "hovertext": [
          "Thermofilum"
         ],
         "legendgroup": "Thermofilum",
         "marker": {
          "color": "#ff0000",
          "symbol": "circle"
         },
         "mode": "markers",
         "name": "Thermofilum",
         "orientation": "v",
         "showlegend": true,
         "type": "scatter",
         "x": [
          0.26498067
         ],
         "xaxis": "x",
         "y": [
          -0.08041127
         ],
         "yaxis": "y"
        },
        {
         "customdata": [
          [
           79,
           "Caldivirga",
           "Archaea",
           "Crenarchaeota",
           "OTHERS"
          ]
         ],
         "hovertemplate": "<b>%{hovertext}</b><br><br>Species=%{customdata[1]}<br>pm1=%{x}<br>pm2=%{y}<br>Unnamed: 0=%{customdata[0]}<br>Kingdom=%{customdata[2]}<br>Family=%{customdata[3]}<br>Color_eukaryota=%{customdata[4]}<extra></extra>",
         "hovertext": [
          "Caldivirga"
         ],
         "legendgroup": "Caldivirga",
         "marker": {
          "color": "#ff0000",
          "symbol": "circle"
         },
         "mode": "markers",
         "name": "Caldivirga",
         "orientation": "v",
         "showlegend": true,
         "type": "scatter",
         "x": [
          0.01931581
         ],
         "xaxis": "x",
         "y": [
          -0.35878596
         ],
         "yaxis": "y"
        },
        {
         "customdata": [
          [
           80,
           "Sulfolobus",
           "Archaea",
           "Crenarchaeota",
           "OTHERS"
          ],
          [
           81,
           "Sulfolobus",
           "Archaea",
           "Crenarchaeota",
           "OTHERS"
          ],
          [
           82,
           "Sulfolobus",
           "Archaea",
           "Crenarchaeota",
           "OTHERS"
          ],
          [
           86,
           "Sulfolobus",
           "Archaea",
           "Crenarchaeota",
           "OTHERS"
          ],
          [
           87,
           "Sulfolobus",
           "Archaea",
           "Crenarchaeota",
           "OTHERS"
          ]
         ],
         "hovertemplate": "<b>%{hovertext}</b><br><br>Species=%{customdata[1]}<br>pm1=%{x}<br>pm2=%{y}<br>Unnamed: 0=%{customdata[0]}<br>Kingdom=%{customdata[2]}<br>Family=%{customdata[3]}<br>Color_eukaryota=%{customdata[4]}<extra></extra>",
         "hovertext": [
          "Sulfolobus",
          "Sulfolobus",
          "Sulfolobus",
          "Sulfolobus",
          "Sulfolobus"
         ],
         "legendgroup": "Sulfolobus",
         "marker": {
          "color": "#ff0000",
          "symbol": "circle"
         },
         "mode": "markers",
         "name": "Sulfolobus",
         "orientation": "v",
         "showlegend": true,
         "type": "scatter",
         "x": [
          -0.04182314,
          -0.03586334,
          -0.041493356,
          0.15933071,
          0.17678572
         ],
         "xaxis": "x",
         "y": [
          -0.34749103,
          -0.3330807,
          -0.34721553,
          -0.2983674,
          -0.3205516
         ],
         "yaxis": "y"
        },
        {
         "customdata": [
          [
           83,
           "Hyperthermus",
           "Archaea",
           "Crenarchaeota",
           "OTHERS"
          ]
         ],
         "hovertemplate": "<b>%{hovertext}</b><br><br>Species=%{customdata[1]}<br>pm1=%{x}<br>pm2=%{y}<br>Unnamed: 0=%{customdata[0]}<br>Kingdom=%{customdata[2]}<br>Family=%{customdata[3]}<br>Color_eukaryota=%{customdata[4]}<extra></extra>",
         "hovertext": [
          "Hyperthermus"
         ],
         "legendgroup": "Hyperthermus",
         "marker": {
          "color": "#ff0000",
          "symbol": "circle"
         },
         "mode": "markers",
         "name": "Hyperthermus",
         "orientation": "v",
         "showlegend": true,
         "type": "scatter",
         "x": [
          0.15418682
         ],
         "xaxis": "x",
         "y": [
          -0.34671915
         ],
         "yaxis": "y"
        },
        {
         "customdata": [
          [
           84,
           "Aeropyrum",
           "Archaea",
           "Crenarchaeota",
           "OTHERS"
          ],
          [
           89,
           "Aeropyrum",
           "Archaea",
           "Crenarchaeota",
           "OTHERS"
          ]
         ],
         "hovertemplate": "<b>%{hovertext}</b><br><br>Species=%{customdata[1]}<br>pm1=%{x}<br>pm2=%{y}<br>Unnamed: 0=%{customdata[0]}<br>Kingdom=%{customdata[2]}<br>Family=%{customdata[3]}<br>Color_eukaryota=%{customdata[4]}<extra></extra>",
         "hovertext": [
          "Aeropyrum",
          "Aeropyrum"
         ],
         "legendgroup": "Aeropyrum",
         "marker": {
          "color": "#ff0000",
          "symbol": "circle"
         },
         "mode": "markers",
         "name": "Aeropyrum",
         "orientation": "v",
         "showlegend": true,
         "type": "scatter",
         "x": [
          0.16320363,
          0.2932314
         ],
         "xaxis": "x",
         "y": [
          -0.3447164,
          -0.32630885
         ],
         "yaxis": "y"
        },
        {
         "customdata": [
          [
           85,
           "Metallosphaera",
           "Archaea",
           "Crenarchaeota",
           "OTHERS"
          ]
         ],
         "hovertemplate": "<b>%{hovertext}</b><br><br>Species=%{customdata[1]}<br>pm1=%{x}<br>pm2=%{y}<br>Unnamed: 0=%{customdata[0]}<br>Kingdom=%{customdata[2]}<br>Family=%{customdata[3]}<br>Color_eukaryota=%{customdata[4]}<extra></extra>",
         "hovertext": [
          "Metallosphaera"
         ],
         "legendgroup": "Metallosphaera",
         "marker": {
          "color": "#ff0000",
          "symbol": "circle"
         },
         "mode": "markers",
         "name": "Metallosphaera",
         "orientation": "v",
         "showlegend": true,
         "type": "scatter",
         "x": [
          0.19525325
         ],
         "xaxis": "x",
         "y": [
          -0.3226127
         ],
         "yaxis": "y"
        },
        {
         "customdata": [
          [
           88,
           "Staphylothermus",
           "Archaea",
           "Crenarchaeota",
           "OTHERS"
          ]
         ],
         "hovertemplate": "<b>%{hovertext}</b><br><br>Species=%{customdata[1]}<br>pm1=%{x}<br>pm2=%{y}<br>Unnamed: 0=%{customdata[0]}<br>Kingdom=%{customdata[2]}<br>Family=%{customdata[3]}<br>Color_eukaryota=%{customdata[4]}<extra></extra>",
         "hovertext": [
          "Staphylothermus"
         ],
         "legendgroup": "Staphylothermus",
         "marker": {
          "color": "#ff0000",
          "symbol": "circle"
         },
         "mode": "markers",
         "name": "Staphylothermus",
         "orientation": "v",
         "showlegend": true,
         "type": "scatter",
         "x": [
          0.22604832
         ],
         "xaxis": "x",
         "y": [
          -0.3818146
         ],
         "yaxis": "y"
        },
        {
         "customdata": [
          [
           90,
           "Clostridium",
           "Bacteria",
           "Firmicutes",
           "OTHERS"
          ],
          [
           107,
           "Clostridium",
           "Bacteria",
           "Firmicutes",
           "OTHERS"
          ],
          [
           108,
           "Clostridium",
           "Bacteria",
           "Firmicutes",
           "OTHERS"
          ],
          [
           109,
           "Clostridium",
           "Bacteria",
           "Firmicutes",
           "OTHERS"
          ],
          [
           110,
           "Clostridium",
           "Bacteria",
           "Firmicutes",
           "OTHERS"
          ]
         ],
         "hovertemplate": "<b>%{hovertext}</b><br><br>Species=%{customdata[1]}<br>pm1=%{x}<br>pm2=%{y}<br>Unnamed: 0=%{customdata[0]}<br>Kingdom=%{customdata[2]}<br>Family=%{customdata[3]}<br>Color_eukaryota=%{customdata[4]}<extra></extra>",
         "hovertext": [
          "Clostridium",
          "Clostridium",
          "Clostridium",
          "Clostridium",
          "Clostridium"
         ],
         "legendgroup": "Clostridium",
         "marker": {
          "color": "#34b8e7",
          "symbol": "circle"
         },
         "mode": "markers",
         "name": "Clostridium",
         "orientation": "v",
         "showlegend": true,
         "type": "scatter",
         "x": [
          0.5040069,
          0.063876815,
          -0.013105983,
          0.084597155,
          0.11514125
         ],
         "xaxis": "x",
         "y": [
          0.09392761,
          0.09200823,
          0.25174934,
          0.07977303,
          0.024093062
         ],
         "yaxis": "y"
        },
        {
         "customdata": [
          [
           91,
           "Thermoanaerobacter",
           "Bacteria",
           "Firmicutes",
           "OTHERS"
          ],
          [
           111,
           "Thermoanaerobacter",
           "Bacteria",
           "Firmicutes",
           "OTHERS"
          ]
         ],
         "hovertemplate": "<b>%{hovertext}</b><br><br>Species=%{customdata[1]}<br>pm1=%{x}<br>pm2=%{y}<br>Unnamed: 0=%{customdata[0]}<br>Kingdom=%{customdata[2]}<br>Family=%{customdata[3]}<br>Color_eukaryota=%{customdata[4]}<extra></extra>",
         "hovertext": [
          "Thermoanaerobacter",
          "Thermoanaerobacter"
         ],
         "legendgroup": "Thermoanaerobacter",
         "marker": {
          "color": "#34b8e7",
          "symbol": "circle"
         },
         "mode": "markers",
         "name": "Thermoanaerobacter",
         "orientation": "v",
         "showlegend": true,
         "type": "scatter",
         "x": [
          -0.24493484,
          0.43812075
         ],
         "xaxis": "x",
         "y": [
          -0.130921,
          0.011051653
         ],
         "yaxis": "y"
        },
        {
         "customdata": [
          [
           92,
           "Bacillus",
           "Bacteria",
           "Firmicutes",
           "OTHERS"
          ],
          [
           93,
           "Bacillus",
           "Bacteria",
           "Firmicutes",
           "OTHERS"
          ],
          [
           101,
           "Bacillus",
           "Bacteria",
           "Firmicutes",
           "OTHERS"
          ],
          [
           102,
           "Bacillus",
           "Bacteria",
           "Firmicutes",
           "OTHERS"
          ]
         ],
         "hovertemplate": "<b>%{hovertext}</b><br><br>Species=%{customdata[1]}<br>pm1=%{x}<br>pm2=%{y}<br>Unnamed: 0=%{customdata[0]}<br>Kingdom=%{customdata[2]}<br>Family=%{customdata[3]}<br>Color_eukaryota=%{customdata[4]}<extra></extra>",
         "hovertext": [
          "Bacillus",
          "Bacillus",
          "Bacillus",
          "Bacillus"
         ],
         "legendgroup": "Bacillus",
         "marker": {
          "color": "#34b8e7",
          "symbol": "circle"
         },
         "mode": "markers",
         "name": "Bacillus",
         "orientation": "v",
         "showlegend": true,
         "type": "scatter",
         "x": [
          0.47298962,
          -0.4425568,
          -0.10979977,
          -0.05422822
         ],
         "xaxis": "x",
         "y": [
          0.55816126,
          0.38143396,
          0.31256753,
          0.3042654
         ],
         "yaxis": "y"
        },
        {
         "customdata": [
          [
           94,
           "Streptococcus",
           "Bacteria",
           "Firmicutes",
           "OTHERS"
          ],
          [
           106,
           "Streptococcus",
           "Bacteria",
           "Firmicutes",
           "OTHERS"
          ]
         ],
         "hovertemplate": "<b>%{hovertext}</b><br><br>Species=%{customdata[1]}<br>pm1=%{x}<br>pm2=%{y}<br>Unnamed: 0=%{customdata[0]}<br>Kingdom=%{customdata[2]}<br>Family=%{customdata[3]}<br>Color_eukaryota=%{customdata[4]}<extra></extra>",
         "hovertext": [
          "Streptococcus",
          "Streptococcus"
         ],
         "legendgroup": "Streptococcus",
         "marker": {
          "color": "#34b8e7",
          "symbol": "circle"
         },
         "mode": "markers",
         "name": "Streptococcus",
         "orientation": "v",
         "showlegend": true,
         "type": "scatter",
         "x": [
          -0.4460212,
          -0.05905825
         ],
         "xaxis": "x",
         "y": [
          0.1790247,
          0.37204617
         ],
         "yaxis": "y"
        },
        {
         "customdata": [
          [
           95,
           "Enterococcus",
           "Bacteria",
           "Firmicutes",
           "OTHERS"
          ],
          [
           105,
           "Enterococcus",
           "Bacteria",
           "Firmicutes",
           "OTHERS"
          ]
         ],
         "hovertemplate": "<b>%{hovertext}</b><br><br>Species=%{customdata[1]}<br>pm1=%{x}<br>pm2=%{y}<br>Unnamed: 0=%{customdata[0]}<br>Kingdom=%{customdata[2]}<br>Family=%{customdata[3]}<br>Color_eukaryota=%{customdata[4]}<extra></extra>",
         "hovertext": [
          "Enterococcus",
          "Enterococcus"
         ],
         "legendgroup": "Enterococcus",
         "marker": {
          "color": "#34b8e7",
          "symbol": "circle"
         },
         "mode": "markers",
         "name": "Enterococcus",
         "orientation": "v",
         "showlegend": true,
         "type": "scatter",
         "x": [
          -0.5066077,
          -0.06099645
         ],
         "xaxis": "x",
         "y": [
          0.000974581,
          0.3718005
         ],
         "yaxis": "y"
        },
        {
         "customdata": [
          [
           96,
           "Listeria",
           "Bacteria",
           "Firmicutes",
           "OTHERS"
          ],
          [
           104,
           "Listeria",
           "Bacteria",
           "Firmicutes",
           "OTHERS"
          ]
         ],
         "hovertemplate": "<b>%{hovertext}</b><br><br>Species=%{customdata[1]}<br>pm1=%{x}<br>pm2=%{y}<br>Unnamed: 0=%{customdata[0]}<br>Kingdom=%{customdata[2]}<br>Family=%{customdata[3]}<br>Color_eukaryota=%{customdata[4]}<extra></extra>",
         "hovertext": [
          "Listeria",
          "Listeria"
         ],
         "legendgroup": "Listeria",
         "marker": {
          "color": "#34b8e7",
          "symbol": "circle"
         },
         "mode": "markers",
         "name": "Listeria",
         "orientation": "v",
         "showlegend": true,
         "type": "scatter",
         "x": [
          0.11591191,
          -0.06273006
         ],
         "xaxis": "x",
         "y": [
          0.5759956,
          0.366412
         ],
         "yaxis": "y"
        },
        {
         "customdata": [
          [
           97,
           "Lactobacillus",
           "Bacteria",
           "Firmicutes",
           "OTHERS"
          ],
          [
           98,
           "Lactobacillus",
           "Bacteria",
           "Firmicutes",
           "OTHERS"
          ],
          [
           103,
           "Lactobacillus",
           "Bacteria",
           "Firmicutes",
           "OTHERS"
          ]
         ],
         "hovertemplate": "<b>%{hovertext}</b><br><br>Species=%{customdata[1]}<br>pm1=%{x}<br>pm2=%{y}<br>Unnamed: 0=%{customdata[0]}<br>Kingdom=%{customdata[2]}<br>Family=%{customdata[3]}<br>Color_eukaryota=%{customdata[4]}<extra></extra>",
         "hovertext": [
          "Lactobacillus",
          "Lactobacillus",
          "Lactobacillus"
         ],
         "legendgroup": "Lactobacillus",
         "marker": {
          "color": "#34b8e7",
          "symbol": "circle"
         },
         "mode": "markers",
         "name": "Lactobacillus",
         "orientation": "v",
         "showlegend": true,
         "type": "scatter",
         "x": [
          0.0354625,
          0.0060688993,
          -0.061798874
         ],
         "xaxis": "x",
         "y": [
          0.06129074,
          0.16969559,
          0.371079
         ],
         "yaxis": "y"
        },
        {
         "customdata": [
          [
           99,
           "Staphylococcus",
           "Bacteria",
           "Firmicutes",
           "OTHERS"
          ]
         ],
         "hovertemplate": "<b>%{hovertext}</b><br><br>Species=%{customdata[1]}<br>pm1=%{x}<br>pm2=%{y}<br>Unnamed: 0=%{customdata[0]}<br>Kingdom=%{customdata[2]}<br>Family=%{customdata[3]}<br>Color_eukaryota=%{customdata[4]}<extra></extra>",
         "hovertext": [
          "Staphylococcus"
         ],
         "legendgroup": "Staphylococcus",
         "marker": {
          "color": "#34b8e7",
          "symbol": "circle"
         },
         "mode": "markers",
         "name": "Staphylococcus",
         "orientation": "v",
         "showlegend": true,
         "type": "scatter",
         "x": [
          0.038903914
         ],
         "xaxis": "x",
         "y": [
          0.27638572
         ],
         "yaxis": "y"
        },
        {
         "customdata": [
          [
           100,
           "Geobacillus",
           "Bacteria",
           "Firmicutes",
           "OTHERS"
          ]
         ],
         "hovertemplate": "<b>%{hovertext}</b><br><br>Species=%{customdata[1]}<br>pm1=%{x}<br>pm2=%{y}<br>Unnamed: 0=%{customdata[0]}<br>Kingdom=%{customdata[2]}<br>Family=%{customdata[3]}<br>Color_eukaryota=%{customdata[4]}<extra></extra>",
         "hovertext": [
          "Geobacillus"
         ],
         "legendgroup": "Geobacillus",
         "marker": {
          "color": "#34b8e7",
          "symbol": "circle"
         },
         "mode": "markers",
         "name": "Geobacillus",
         "orientation": "v",
         "showlegend": true,
         "type": "scatter",
         "x": [
          -0.015153
         ],
         "xaxis": "x",
         "y": [
          0.30931202
         ],
         "yaxis": "y"
        },
        {
         "customdata": [
          [
           112,
           "Chlamydia",
           "Bacteria",
           "Chlamydiae",
           "OTHERS"
          ]
         ],
         "hovertemplate": "<b>%{hovertext}</b><br><br>Species=%{customdata[1]}<br>pm1=%{x}<br>pm2=%{y}<br>Unnamed: 0=%{customdata[0]}<br>Kingdom=%{customdata[2]}<br>Family=%{customdata[3]}<br>Color_eukaryota=%{customdata[4]}<extra></extra>",
         "hovertext": [
          "Chlamydia"
         ],
         "legendgroup": "Chlamydia",
         "marker": {
          "color": "#34b8e7",
          "symbol": "circle"
         },
         "mode": "markers",
         "name": "Chlamydia",
         "orientation": "v",
         "showlegend": true,
         "type": "scatter",
         "x": [
          -0.10606117
         ],
         "xaxis": "x",
         "y": [
          0.6046432
         ],
         "yaxis": "y"
        },
        {
         "customdata": [
          [
           113,
           "Chlamydophila",
           "Bacteria",
           "Chlamydiae",
           "OTHERS"
          ]
         ],
         "hovertemplate": "<b>%{hovertext}</b><br><br>Species=%{customdata[1]}<br>pm1=%{x}<br>pm2=%{y}<br>Unnamed: 0=%{customdata[0]}<br>Kingdom=%{customdata[2]}<br>Family=%{customdata[3]}<br>Color_eukaryota=%{customdata[4]}<extra></extra>",
         "hovertext": [
          "Chlamydophila"
         ],
         "legendgroup": "Chlamydophila",
         "marker": {
          "color": "#34b8e7",
          "symbol": "circle"
         },
         "mode": "markers",
         "name": "Chlamydophila",
         "orientation": "v",
         "showlegend": true,
         "type": "scatter",
         "x": [
          -0.25023285
         ],
         "xaxis": "x",
         "y": [
          0.4392662
         ],
         "yaxis": "y"
        },
        {
         "customdata": [
          [
           114,
           "Chlorobium",
           "Bacteria",
           "Chlorobi",
           "OTHERS"
          ],
          [
           115,
           "Chlorobium",
           "Bacteria",
           "Chlorobi",
           "OTHERS"
          ]
         ],
         "hovertemplate": "<b>%{hovertext}</b><br><br>Species=%{customdata[1]}<br>pm1=%{x}<br>pm2=%{y}<br>Unnamed: 0=%{customdata[0]}<br>Kingdom=%{customdata[2]}<br>Family=%{customdata[3]}<br>Color_eukaryota=%{customdata[4]}<extra></extra>",
         "hovertext": [
          "Chlorobium",
          "Chlorobium"
         ],
         "legendgroup": "Chlorobium",
         "marker": {
          "color": "#34b8e7",
          "symbol": "circle"
         },
         "mode": "markers",
         "name": "Chlorobium",
         "orientation": "v",
         "showlegend": true,
         "type": "scatter",
         "x": [
          0.60114247,
          0.2567983
         ],
         "xaxis": "x",
         "y": [
          0.21378578,
          0.03459018
         ],
         "yaxis": "y"
        },
        {
         "customdata": [
          [
           116,
           "Bacteroides",
           "Bacteria",
           "Bacteroidetes",
           "OTHERS"
          ],
          [
           119,
           "Bacteroides",
           "Bacteria",
           "Bacteroidetes",
           "OTHERS"
          ],
          [
           120,
           "Bacteroides",
           "Bacteria",
           "Bacteroidetes",
           "OTHERS"
          ],
          [
           122,
           "Bacteroides",
           "Bacteria",
           "Bacteroidetes",
           "OTHERS"
          ],
          [
           123,
           "Bacteroides",
           "Bacteria",
           "Bacteroidetes",
           "OTHERS"
          ]
         ],
         "hovertemplate": "<b>%{hovertext}</b><br><br>Species=%{customdata[1]}<br>pm1=%{x}<br>pm2=%{y}<br>Unnamed: 0=%{customdata[0]}<br>Kingdom=%{customdata[2]}<br>Family=%{customdata[3]}<br>Color_eukaryota=%{customdata[4]}<extra></extra>",
         "hovertext": [
          "Bacteroides",
          "Bacteroides",
          "Bacteroides",
          "Bacteroides",
          "Bacteroides"
         ],
         "legendgroup": "Bacteroides",
         "marker": {
          "color": "#34b8e7",
          "symbol": "circle"
         },
         "mode": "markers",
         "name": "Bacteroides",
         "orientation": "v",
         "showlegend": true,
         "type": "scatter",
         "x": [
          0.47989705,
          0.3692386,
          0.19888364,
          0.14345936,
          0.14294769
         ],
         "xaxis": "x",
         "y": [
          0.15902598,
          -0.13635924,
          0.4285746,
          0.25527,
          0.2555792
         ],
         "yaxis": "y"
        },
        {
         "customdata": [
          [
           117,
           "Flavobacterium",
           "Bacteria",
           "Bacteroidetes",
           "OTHERS"
          ]
         ],
         "hovertemplate": "<b>%{hovertext}</b><br><br>Species=%{customdata[1]}<br>pm1=%{x}<br>pm2=%{y}<br>Unnamed: 0=%{customdata[0]}<br>Kingdom=%{customdata[2]}<br>Family=%{customdata[3]}<br>Color_eukaryota=%{customdata[4]}<extra></extra>",
         "hovertext": [
          "Flavobacterium"
         ],
         "legendgroup": "Flavobacterium",
         "marker": {
          "color": "#34b8e7",
          "symbol": "circle"
         },
         "mode": "markers",
         "name": "Flavobacterium",
         "orientation": "v",
         "showlegend": true,
         "type": "scatter",
         "x": [
          0.40690038
         ],
         "xaxis": "x",
         "y": [
          -0.08747836
         ],
         "yaxis": "y"
        },
        {
         "customdata": [
          [
           118,
           "Porphyromonas",
           "Bacteria",
           "Bacteroidetes",
           "OTHERS"
          ],
          [
           121,
           "Porphyromonas",
           "Bacteria",
           "Bacteroidetes",
           "OTHERS"
          ]
         ],
         "hovertemplate": "<b>%{hovertext}</b><br><br>Species=%{customdata[1]}<br>pm1=%{x}<br>pm2=%{y}<br>Unnamed: 0=%{customdata[0]}<br>Kingdom=%{customdata[2]}<br>Family=%{customdata[3]}<br>Color_eukaryota=%{customdata[4]}<extra></extra>",
         "hovertext": [
          "Porphyromonas",
          "Porphyromonas"
         ],
         "legendgroup": "Porphyromonas",
         "marker": {
          "color": "#34b8e7",
          "symbol": "circle"
         },
         "mode": "markers",
         "name": "Porphyromonas",
         "orientation": "v",
         "showlegend": true,
         "type": "scatter",
         "x": [
          0.41359827,
          0.16267529
         ],
         "xaxis": "x",
         "y": [
          -0.18823919,
          0.29109663
         ],
         "yaxis": "y"
        },
        {
         "customdata": [
          [
           124,
           "Rhodopirellula",
           "Bacteria",
           "Planctomycetes",
           "OTHERS"
          ],
          [
           125,
           "Rhodopirellula",
           "Bacteria",
           "Planctomycetes",
           "OTHERS"
          ]
         ],
         "hovertemplate": "<b>%{hovertext}</b><br><br>Species=%{customdata[1]}<br>pm1=%{x}<br>pm2=%{y}<br>Unnamed: 0=%{customdata[0]}<br>Kingdom=%{customdata[2]}<br>Family=%{customdata[3]}<br>Color_eukaryota=%{customdata[4]}<extra></extra>",
         "hovertext": [
          "Rhodopirellula",
          "Rhodopirellula"
         ],
         "legendgroup": "Rhodopirellula",
         "marker": {
          "color": "#34b8e7",
          "symbol": "circle"
         },
         "mode": "markers",
         "name": "Rhodopirellula",
         "orientation": "v",
         "showlegend": true,
         "type": "scatter",
         "x": [
          0.25462425,
          0.39238596
         ],
         "xaxis": "x",
         "y": [
          0.21689159,
          0.2696938
         ],
         "yaxis": "y"
        },
        {
         "customdata": [
          [
           126,
           "Mycobacterium",
           "Bacteria",
           "Actinobacteria",
           "OTHERS"
          ],
          [
           127,
           "Mycobacterium",
           "Bacteria",
           "Actinobacteria",
           "OTHERS"
          ],
          [
           132,
           "Mycobacterium",
           "Bacteria",
           "Actinobacteria",
           "OTHERS"
          ],
          [
           136,
           "Mycobacterium",
           "Bacteria",
           "Actinobacteria",
           "OTHERS"
          ]
         ],
         "hovertemplate": "<b>%{hovertext}</b><br><br>Species=%{customdata[1]}<br>pm1=%{x}<br>pm2=%{y}<br>Unnamed: 0=%{customdata[0]}<br>Kingdom=%{customdata[2]}<br>Family=%{customdata[3]}<br>Color_eukaryota=%{customdata[4]}<extra></extra>",
         "hovertext": [
          "Mycobacterium",
          "Mycobacterium",
          "Mycobacterium",
          "Mycobacterium"
         ],
         "legendgroup": "Mycobacterium",
         "marker": {
          "color": "#34b8e7",
          "symbol": "circle"
         },
         "mode": "markers",
         "name": "Mycobacterium",
         "orientation": "v",
         "showlegend": true,
         "type": "scatter",
         "x": [
          0.20937082,
          0.17825927,
          0.5082831,
          0.4763313
         ],
         "xaxis": "x",
         "y": [
          -0.8875581,
          -0.8909619,
          0.29434073,
          0.30756667
         ],
         "yaxis": "y"
        },
        {
         "customdata": [
          [
           128,
           "Corynebacterium",
           "Bacteria",
           "Actinobacteria",
           "OTHERS"
          ],
          [
           134,
           "Corynebacterium",
           "Bacteria",
           "Actinobacteria",
           "OTHERS"
          ]
         ],
         "hovertemplate": "<b>%{hovertext}</b><br><br>Species=%{customdata[1]}<br>pm1=%{x}<br>pm2=%{y}<br>Unnamed: 0=%{customdata[0]}<br>Kingdom=%{customdata[2]}<br>Family=%{customdata[3]}<br>Color_eukaryota=%{customdata[4]}<extra></extra>",
         "hovertext": [
          "Corynebacterium",
          "Corynebacterium"
         ],
         "legendgroup": "Corynebacterium",
         "marker": {
          "color": "#34b8e7",
          "symbol": "circle"
         },
         "mode": "markers",
         "name": "Corynebacterium",
         "orientation": "v",
         "showlegend": true,
         "type": "scatter",
         "x": [
          0.18820812,
          0.36676648
         ],
         "xaxis": "x",
         "y": [
          -0.8699052,
          0.02289036
         ],
         "yaxis": "y"
        },
        {
         "customdata": [
          [
           129,
           "Thermobifida",
           "Bacteria",
           "Actinobacteria",
           "OTHERS"
          ],
          [
           131,
           "Thermobifida",
           "Bacteria",
           "Actinobacteria",
           "OTHERS"
          ],
          [
           137,
           "Thermobifida",
           "Bacteria",
           "Actinobacteria",
           "OTHERS"
          ]
         ],
         "hovertemplate": "<b>%{hovertext}</b><br><br>Species=%{customdata[1]}<br>pm1=%{x}<br>pm2=%{y}<br>Unnamed: 0=%{customdata[0]}<br>Kingdom=%{customdata[2]}<br>Family=%{customdata[3]}<br>Color_eukaryota=%{customdata[4]}<extra></extra>",
         "hovertext": [
          "Thermobifida",
          "Thermobifida",
          "Thermobifida"
         ],
         "legendgroup": "Thermobifida",
         "marker": {
          "color": "#34b8e7",
          "symbol": "circle"
         },
         "mode": "markers",
         "name": "Thermobifida",
         "orientation": "v",
         "showlegend": true,
         "type": "scatter",
         "x": [
          0.18943547,
          0.22331685,
          0.43697983
         ],
         "xaxis": "x",
         "y": [
          -0.8181566,
          -0.84322137,
          0.3889018
         ],
         "yaxis": "y"
        },
        {
         "customdata": [
          [
           130,
           "Streptomyces",
           "Bacteria",
           "Actinobacteria",
           "OTHERS"
          ],
          [
           133,
           "Streptomyces",
           "Bacteria",
           "Actinobacteria",
           "OTHERS"
          ],
          [
           135,
           "Streptomyces",
           "Bacteria",
           "Actinobacteria",
           "OTHERS"
          ],
          [
           138,
           "Streptomyces",
           "Bacteria",
           "Actinobacteria",
           "OTHERS"
          ]
         ],
         "hovertemplate": "<b>%{hovertext}</b><br><br>Species=%{customdata[1]}<br>pm1=%{x}<br>pm2=%{y}<br>Unnamed: 0=%{customdata[0]}<br>Kingdom=%{customdata[2]}<br>Family=%{customdata[3]}<br>Color_eukaryota=%{customdata[4]}<extra></extra>",
         "hovertext": [
          "Streptomyces",
          "Streptomyces",
          "Streptomyces",
          "Streptomyces"
         ],
         "legendgroup": "Streptomyces",
         "marker": {
          "color": "#34b8e7",
          "symbol": "circle"
         },
         "mode": "markers",
         "name": "Streptomyces",
         "orientation": "v",
         "showlegend": true,
         "type": "scatter",
         "x": [
          0.19311011,
          0.5062294,
          0.5304242,
          0.43220982
         ],
         "xaxis": "x",
         "y": [
          -0.84682655,
          0.3051776,
          0.39288884,
          0.41202927
         ],
         "yaxis": "y"
        },
        {
         "customdata": [
          [
           139,
           "Synechocystis",
           "Bacteria",
           "Cyanobacteria",
           "OTHERS"
          ],
          [
           142,
           "Synechocystis",
           "Bacteria",
           "Cyanobacteria",
           "OTHERS"
          ],
          [
           145,
           "Synechocystis",
           "Bacteria",
           "Cyanobacteria",
           "OTHERS"
          ],
          [
           152,
           "Synechocystis",
           "Bacteria",
           "Cyanobacteria",
           "OTHERS"
          ]
         ],
         "hovertemplate": "<b>%{hovertext}</b><br><br>Species=%{customdata[1]}<br>pm1=%{x}<br>pm2=%{y}<br>Unnamed: 0=%{customdata[0]}<br>Kingdom=%{customdata[2]}<br>Family=%{customdata[3]}<br>Color_eukaryota=%{customdata[4]}<extra></extra>",
         "hovertext": [
          "Synechocystis",
          "Synechocystis",
          "Synechocystis",
          "Synechocystis"
         ],
         "legendgroup": "Synechocystis",
         "marker": {
          "color": "#34b8e7",
          "symbol": "circle"
         },
         "mode": "markers",
         "name": "Synechocystis",
         "orientation": "v",
         "showlegend": true,
         "type": "scatter",
         "x": [
          0.33621347,
          0.4924073,
          0.2507609,
          0.58291686
         ],
         "xaxis": "x",
         "y": [
          0.42588177,
          0.21126285,
          0.3959612,
          0.18630831
         ],
         "yaxis": "y"
        },
        {
         "customdata": [
          [
           140,
           "Nostoc",
           "Bacteria",
           "Cyanobacteria",
           "OTHERS"
          ],
          [
           141,
           "Nostoc",
           "Bacteria",
           "Cyanobacteria",
           "OTHERS"
          ],
          [
           147,
           "Nostoc",
           "Bacteria",
           "Cyanobacteria",
           "OTHERS"
          ],
          [
           148,
           "Nostoc",
           "Bacteria",
           "Cyanobacteria",
           "OTHERS"
          ],
          [
           150,
           "Nostoc",
           "Bacteria",
           "Cyanobacteria",
           "OTHERS"
          ]
         ],
         "hovertemplate": "<b>%{hovertext}</b><br><br>Species=%{customdata[1]}<br>pm1=%{x}<br>pm2=%{y}<br>Unnamed: 0=%{customdata[0]}<br>Kingdom=%{customdata[2]}<br>Family=%{customdata[3]}<br>Color_eukaryota=%{customdata[4]}<extra></extra>",
         "hovertext": [
          "Nostoc",
          "Nostoc",
          "Nostoc",
          "Nostoc",
          "Nostoc"
         ],
         "legendgroup": "Nostoc",
         "marker": {
          "color": "#34b8e7",
          "symbol": "circle"
         },
         "mode": "markers",
         "name": "Nostoc",
         "orientation": "v",
         "showlegend": true,
         "type": "scatter",
         "x": [
          0.34850705,
          0.4944681,
          0.37394655,
          0.35461435,
          0.62031305
         ],
         "xaxis": "x",
         "y": [
          0.4718529,
          0.16870992,
          0.31219527,
          0.15791759,
          0.12296761
         ],
         "yaxis": "y"
        },
        {
         "customdata": [
          [
           143,
           "Thermosynechococcus",
           "Bacteria",
           "Cyanobacteria",
           "OTHERS"
          ],
          [
           144,
           "Thermosynechococcus",
           "Bacteria",
           "Cyanobacteria",
           "OTHERS"
          ],
          [
           146,
           "Thermosynechococcus",
           "Bacteria",
           "Cyanobacteria",
           "OTHERS"
          ],
          [
           149,
           "Thermosynechococcus",
           "Bacteria",
           "Cyanobacteria",
           "OTHERS"
          ]
         ],
         "hovertemplate": "<b>%{hovertext}</b><br><br>Species=%{customdata[1]}<br>pm1=%{x}<br>pm2=%{y}<br>Unnamed: 0=%{customdata[0]}<br>Kingdom=%{customdata[2]}<br>Family=%{customdata[3]}<br>Color_eukaryota=%{customdata[4]}<extra></extra>",
         "hovertext": [
          "Thermosynechococcus",
          "Thermosynechococcus",
          "Thermosynechococcus",
          "Thermosynechococcus"
         ],
         "legendgroup": "Thermosynechococcus",
         "marker": {
          "color": "#34b8e7",
          "symbol": "circle"
         },
         "mode": "markers",
         "name": "Thermosynechococcus",
         "orientation": "v",
         "showlegend": true,
         "type": "scatter",
         "x": [
          0.48007292,
          0.35752845,
          0.24830408,
          0.5294296
         ],
         "xaxis": "x",
         "y": [
          0.15935723,
          -0.09040809,
          0.48897213,
          0.07986674
         ],
         "yaxis": "y"
        },
        {
         "customdata": [
          [
           151,
           "Prochlorococcus",
           "Bacteria",
           "Cyanobacteria",
           "OTHERS"
          ]
         ],
         "hovertemplate": "<b>%{hovertext}</b><br><br>Species=%{customdata[1]}<br>pm1=%{x}<br>pm2=%{y}<br>Unnamed: 0=%{customdata[0]}<br>Kingdom=%{customdata[2]}<br>Family=%{customdata[3]}<br>Color_eukaryota=%{customdata[4]}<extra></extra>",
         "hovertext": [
          "Prochlorococcus"
         ],
         "legendgroup": "Prochlorococcus",
         "marker": {
          "color": "#34b8e7",
          "symbol": "circle"
         },
         "mode": "markers",
         "name": "Prochlorococcus",
         "orientation": "v",
         "showlegend": true,
         "type": "scatter",
         "x": [
          0.6853675
         ],
         "xaxis": "x",
         "y": [
          0.17355375
         ],
         "yaxis": "y"
        },
        {
         "customdata": [
          [
           153,
           "Nostoc1",
           "Bacteria",
           "Cyanobacteria",
           "OTHERS"
          ]
         ],
         "hovertemplate": "<b>%{hovertext}</b><br><br>Species=%{customdata[1]}<br>pm1=%{x}<br>pm2=%{y}<br>Unnamed: 0=%{customdata[0]}<br>Kingdom=%{customdata[2]}<br>Family=%{customdata[3]}<br>Color_eukaryota=%{customdata[4]}<extra></extra>",
         "hovertext": [
          "Nostoc1"
         ],
         "legendgroup": "Nostoc1",
         "marker": {
          "color": "#34b8e7",
          "symbol": "circle"
         },
         "mode": "markers",
         "name": "Nostoc1",
         "orientation": "v",
         "showlegend": true,
         "type": "scatter",
         "x": [
          0.5432263
         ],
         "xaxis": "x",
         "y": [
          0.062537745
         ],
         "yaxis": "y"
        },
        {
         "customdata": [
          [
           154,
           "Pea Chloroplast",
           "Eukaryota",
           "Viridiplantae",
           "CHLOROPLAST"
          ]
         ],
         "hovertemplate": "<b>%{hovertext}</b><br><br>Species=%{customdata[1]}<br>pm1=%{x}<br>pm2=%{y}<br>Unnamed: 0=%{customdata[0]}<br>Kingdom=%{customdata[2]}<br>Family=%{customdata[3]}<br>Color_eukaryota=%{customdata[4]}<extra></extra>",
         "hovertext": [
          "Pea Chloroplast"
         ],
         "legendgroup": "Pea Chloroplast",
         "marker": {
          "color": "#06f9d4",
          "symbol": "circle"
         },
         "mode": "markers",
         "name": "Pea Chloroplast",
         "orientation": "v",
         "showlegend": true,
         "type": "scatter",
         "x": [
          0.8524639
         ],
         "xaxis": "x",
         "y": [
          0.27847457
         ],
         "yaxis": "y"
        },
        {
         "customdata": [
          [
           155,
           "Spiol Chloroplast",
           "Eukaryota",
           "Viridiplantae",
           "CHLOROPLAST"
          ]
         ],
         "hovertemplate": "<b>%{hovertext}</b><br><br>Species=%{customdata[1]}<br>pm1=%{x}<br>pm2=%{y}<br>Unnamed: 0=%{customdata[0]}<br>Kingdom=%{customdata[2]}<br>Family=%{customdata[3]}<br>Color_eukaryota=%{customdata[4]}<extra></extra>",
         "hovertext": [
          "Spiol Chloroplast"
         ],
         "legendgroup": "Spiol Chloroplast",
         "marker": {
          "color": "#06f9d4",
          "symbol": "circle"
         },
         "mode": "markers",
         "name": "Spiol Chloroplast",
         "orientation": "v",
         "showlegend": true,
         "type": "scatter",
         "x": [
          0.88229173
         ],
         "xaxis": "x",
         "y": [
          0.250263
         ],
         "yaxis": "y"
        },
        {
         "customdata": [
          [
           156,
           "Wheat Chloroplast",
           "Eukaryota",
           "Viridiplantae",
           "CHLOROPLAST"
          ]
         ],
         "hovertemplate": "<b>%{hovertext}</b><br><br>Species=%{customdata[1]}<br>pm1=%{x}<br>pm2=%{y}<br>Unnamed: 0=%{customdata[0]}<br>Kingdom=%{customdata[2]}<br>Family=%{customdata[3]}<br>Color_eukaryota=%{customdata[4]}<extra></extra>",
         "hovertext": [
          "Wheat Chloroplast"
         ],
         "legendgroup": "Wheat Chloroplast",
         "marker": {
          "color": "#06f9d4",
          "symbol": "circle"
         },
         "mode": "markers",
         "name": "Wheat Chloroplast",
         "orientation": "v",
         "showlegend": true,
         "type": "scatter",
         "x": [
          0.87905174
         ],
         "xaxis": "x",
         "y": [
          0.2813189
         ],
         "yaxis": "y"
        },
        {
         "customdata": [
          [
           157,
           "Pisum Chloroplast",
           "Eukaryota",
           "Viridiplantae",
           "CHLOROPLAST"
          ]
         ],
         "hovertemplate": "<b>%{hovertext}</b><br><br>Species=%{customdata[1]}<br>pm1=%{x}<br>pm2=%{y}<br>Unnamed: 0=%{customdata[0]}<br>Kingdom=%{customdata[2]}<br>Family=%{customdata[3]}<br>Color_eukaryota=%{customdata[4]}<extra></extra>",
         "hovertext": [
          "Pisum Chloroplast"
         ],
         "legendgroup": "Pisum Chloroplast",
         "marker": {
          "color": "#06f9d4",
          "symbol": "circle"
         },
         "mode": "markers",
         "name": "Pisum Chloroplast",
         "orientation": "v",
         "showlegend": true,
         "type": "scatter",
         "x": [
          0.86051095
         ],
         "xaxis": "x",
         "y": [
          0.25488907
         ],
         "yaxis": "y"
        },
        {
         "customdata": [
          [
           158,
           "Brana Chloroplast",
           "Eukaryota",
           "Viridiplantae",
           "CHLOROPLAST"
          ]
         ],
         "hovertemplate": "<b>%{hovertext}</b><br><br>Species=%{customdata[1]}<br>pm1=%{x}<br>pm2=%{y}<br>Unnamed: 0=%{customdata[0]}<br>Kingdom=%{customdata[2]}<br>Family=%{customdata[3]}<br>Color_eukaryota=%{customdata[4]}<extra></extra>",
         "hovertext": [
          "Brana Chloroplast"
         ],
         "legendgroup": "Brana Chloroplast",
         "marker": {
          "color": "#06f9d4",
          "symbol": "circle"
         },
         "mode": "markers",
         "name": "Brana Chloroplast",
         "orientation": "v",
         "showlegend": true,
         "type": "scatter",
         "x": [
          0.87869513
         ],
         "xaxis": "x",
         "y": [
          0.22154756
         ],
         "yaxis": "y"
        },
        {
         "customdata": [
          [
           159,
           "Thermus",
           "Bacteria",
           "Deinococcus-Thermus",
           "OTHERS"
          ],
          [
           161,
           "Thermus",
           "Bacteria",
           "Deinococcus-Thermus",
           "OTHERS"
          ]
         ],
         "hovertemplate": "<b>%{hovertext}</b><br><br>Species=%{customdata[1]}<br>pm1=%{x}<br>pm2=%{y}<br>Unnamed: 0=%{customdata[0]}<br>Kingdom=%{customdata[2]}<br>Family=%{customdata[3]}<br>Color_eukaryota=%{customdata[4]}<extra></extra>",
         "hovertext": [
          "Thermus",
          "Thermus"
         ],
         "legendgroup": "Thermus",
         "marker": {
          "color": "#34b8e7",
          "symbol": "circle"
         },
         "mode": "markers",
         "name": "Thermus",
         "orientation": "v",
         "showlegend": true,
         "type": "scatter",
         "x": [
          0.6530208,
          0.3049297
         ],
         "xaxis": "x",
         "y": [
          -0.118381925,
          0.26484963
         ],
         "yaxis": "y"
        },
        {
         "customdata": [
          [
           160,
           "Deinococcus",
           "Bacteria",
           "Deinococcus-Thermus",
           "OTHERS"
          ],
          [
           162,
           "Deinococcus",
           "Bacteria",
           "Deinococcus-Thermus",
           "OTHERS"
          ]
         ],
         "hovertemplate": "<b>%{hovertext}</b><br><br>Species=%{customdata[1]}<br>pm1=%{x}<br>pm2=%{y}<br>Unnamed: 0=%{customdata[0]}<br>Kingdom=%{customdata[2]}<br>Family=%{customdata[3]}<br>Color_eukaryota=%{customdata[4]}<extra></extra>",
         "hovertext": [
          "Deinococcus",
          "Deinococcus"
         ],
         "legendgroup": "Deinococcus",
         "marker": {
          "color": "#34b8e7",
          "symbol": "circle"
         },
         "mode": "markers",
         "name": "Deinococcus",
         "orientation": "v",
         "showlegend": true,
         "type": "scatter",
         "x": [
          0.62219614,
          0.23201871
         ],
         "xaxis": "x",
         "y": [
          -0.055205166,
          0.13545136
         ],
         "yaxis": "y"
        },
        {
         "customdata": [
          [
           163,
           "Dehalococcoides",
           "Bacteria",
           "Chloroflexi",
           "OTHERS"
          ]
         ],
         "hovertemplate": "<b>%{hovertext}</b><br><br>Species=%{customdata[1]}<br>pm1=%{x}<br>pm2=%{y}<br>Unnamed: 0=%{customdata[0]}<br>Kingdom=%{customdata[2]}<br>Family=%{customdata[3]}<br>Color_eukaryota=%{customdata[4]}<extra></extra>",
         "hovertext": [
          "Dehalococcoides"
         ],
         "legendgroup": "Dehalococcoides",
         "marker": {
          "color": "#34b8e7",
          "symbol": "circle"
         },
         "mode": "markers",
         "name": "Dehalococcoides",
         "orientation": "v",
         "showlegend": true,
         "type": "scatter",
         "x": [
          0.3036325
         ],
         "xaxis": "x",
         "y": [
          -0.019556904
         ],
         "yaxis": "y"
        },
        {
         "customdata": [
          [
           164,
           "Chloroflexus",
           "Bacteria",
           "Chloroflexi",
           "OTHERS"
          ],
          [
           165,
           "Chloroflexus",
           "Bacteria",
           "Chloroflexi",
           "OTHERS"
          ],
          [
           166,
           "Chloroflexus",
           "Bacteria",
           "Chloroflexi",
           "OTHERS"
          ]
         ],
         "hovertemplate": "<b>%{hovertext}</b><br><br>Species=%{customdata[1]}<br>pm1=%{x}<br>pm2=%{y}<br>Unnamed: 0=%{customdata[0]}<br>Kingdom=%{customdata[2]}<br>Family=%{customdata[3]}<br>Color_eukaryota=%{customdata[4]}<extra></extra>",
         "hovertext": [
          "Chloroflexus",
          "Chloroflexus",
          "Chloroflexus"
         ],
         "legendgroup": "Chloroflexus",
         "marker": {
          "color": "#34b8e7",
          "symbol": "circle"
         },
         "mode": "markers",
         "name": "Chloroflexus",
         "orientation": "v",
         "showlegend": true,
         "type": "scatter",
         "x": [
          0.5299213,
          0.35496226,
          0.29009506
         ],
         "xaxis": "x",
         "y": [
          -0.08009967,
          0.28542045,
          0.36536145
         ],
         "yaxis": "y"
        },
        {
         "customdata": [
          [
           167,
           "Aquifex",
           "Bacteria",
           "Aquificae",
           "OTHERS"
          ]
         ],
         "hovertemplate": "<b>%{hovertext}</b><br><br>Species=%{customdata[1]}<br>pm1=%{x}<br>pm2=%{y}<br>Unnamed: 0=%{customdata[0]}<br>Kingdom=%{customdata[2]}<br>Family=%{customdata[3]}<br>Color_eukaryota=%{customdata[4]}<extra></extra>",
         "hovertext": [
          "Aquifex"
         ],
         "legendgroup": "Aquifex",
         "marker": {
          "color": "#34b8e7",
          "symbol": "circle"
         },
         "mode": "markers",
         "name": "Aquifex",
         "orientation": "v",
         "showlegend": true,
         "type": "scatter",
         "x": [
          0.2356973
         ],
         "xaxis": "x",
         "y": [
          0.19068073
         ],
         "yaxis": "y"
        },
        {
         "customdata": [
          [
           168,
           "Bdellovibrio",
           "Bacteria",
           "Proteobacteria",
           "OTHERS"
          ],
          [
           170,
           "Bdellovibrio",
           "Bacteria",
           "Proteobacteria",
           "OTHERS"
          ]
         ],
         "hovertemplate": "<b>%{hovertext}</b><br><br>Species=%{customdata[1]}<br>pm1=%{x}<br>pm2=%{y}<br>Unnamed: 0=%{customdata[0]}<br>Kingdom=%{customdata[2]}<br>Family=%{customdata[3]}<br>Color_eukaryota=%{customdata[4]}<extra></extra>",
         "hovertext": [
          "Bdellovibrio",
          "Bdellovibrio"
         ],
         "legendgroup": "Bdellovibrio",
         "marker": {
          "color": "#34b8e7",
          "symbol": "circle"
         },
         "mode": "markers",
         "name": "Bdellovibrio",
         "orientation": "v",
         "showlegend": true,
         "type": "scatter",
         "x": [
          0.1661885,
          0.50053394
         ],
         "xaxis": "x",
         "y": [
          -0.83963746,
          0.4259467
         ],
         "yaxis": "y"
        },
        {
         "customdata": [
          [
           169,
           "Geobacter",
           "Bacteria",
           "Proteobacteria",
           "OTHERS"
          ],
          [
           172,
           "Geobacter",
           "Bacteria",
           "Proteobacteria",
           "OTHERS"
          ]
         ],
         "hovertemplate": "<b>%{hovertext}</b><br><br>Species=%{customdata[1]}<br>pm1=%{x}<br>pm2=%{y}<br>Unnamed: 0=%{customdata[0]}<br>Kingdom=%{customdata[2]}<br>Family=%{customdata[3]}<br>Color_eukaryota=%{customdata[4]}<extra></extra>",
         "hovertext": [
          "Geobacter",
          "Geobacter"
         ],
         "legendgroup": "Geobacter",
         "marker": {
          "color": "#34b8e7",
          "symbol": "circle"
         },
         "mode": "markers",
         "name": "Geobacter",
         "orientation": "v",
         "showlegend": true,
         "type": "scatter",
         "x": [
          0.7611729,
          0.23331903
         ],
         "xaxis": "x",
         "y": [
          -0.13494243,
          0.242193
         ],
         "yaxis": "y"
        },
        {
         "customdata": [
          [
           171,
           "Desulfovibrio",
           "Bacteria",
           "Proteobacteria",
           "OTHERS"
          ]
         ],
         "hovertemplate": "<b>%{hovertext}</b><br><br>Species=%{customdata[1]}<br>pm1=%{x}<br>pm2=%{y}<br>Unnamed: 0=%{customdata[0]}<br>Kingdom=%{customdata[2]}<br>Family=%{customdata[3]}<br>Color_eukaryota=%{customdata[4]}<extra></extra>",
         "hovertext": [
          "Desulfovibrio"
         ],
         "legendgroup": "Desulfovibrio",
         "marker": {
          "color": "#34b8e7",
          "symbol": "circle"
         },
         "mode": "markers",
         "name": "Desulfovibrio",
         "orientation": "v",
         "showlegend": true,
         "type": "scatter",
         "x": [
          0.4309682
         ],
         "xaxis": "x",
         "y": [
          0.12233977
         ],
         "yaxis": "y"
        },
        {
         "customdata": [
          [
           173,
           "Solibacter",
           "Bacteria",
           "Acidobacteria",
           "OTHERS"
          ],
          [
           174,
           "Solibacter",
           "Bacteria",
           "Acidobacteria",
           "OTHERS"
          ]
         ],
         "hovertemplate": "<b>%{hovertext}</b><br><br>Species=%{customdata[1]}<br>pm1=%{x}<br>pm2=%{y}<br>Unnamed: 0=%{customdata[0]}<br>Kingdom=%{customdata[2]}<br>Family=%{customdata[3]}<br>Color_eukaryota=%{customdata[4]}<extra></extra>",
         "hovertext": [
          "Solibacter",
          "Solibacter"
         ],
         "legendgroup": "Solibacter",
         "marker": {
          "color": "#34b8e7",
          "symbol": "circle"
         },
         "mode": "markers",
         "name": "Solibacter",
         "orientation": "v",
         "showlegend": true,
         "type": "scatter",
         "x": [
          0.6898903,
          0.23371972
         ],
         "xaxis": "x",
         "y": [
          -0.09248562,
          0.26179278
         ],
         "yaxis": "y"
        },
        {
         "customdata": [
          [
           175,
           "Acidobacteria",
           "Bacteria",
           "Acidobacteria",
           "OTHERS"
          ]
         ],
         "hovertemplate": "<b>%{hovertext}</b><br><br>Species=%{customdata[1]}<br>pm1=%{x}<br>pm2=%{y}<br>Unnamed: 0=%{customdata[0]}<br>Kingdom=%{customdata[2]}<br>Family=%{customdata[3]}<br>Color_eukaryota=%{customdata[4]}<extra></extra>",
         "hovertext": [
          "Acidobacteria"
         ],
         "legendgroup": "Acidobacteria",
         "marker": {
          "color": "#34b8e7",
          "symbol": "circle"
         },
         "mode": "markers",
         "name": "Acidobacteria",
         "orientation": "v",
         "showlegend": true,
         "type": "scatter",
         "x": [
          0.22608489
         ],
         "xaxis": "x",
         "y": [
          0.25558406
         ],
         "yaxis": "y"
        },
        {
         "customdata": [
          [
           176,
           "Wolinella",
           "Bacteria",
           "Proteobacteria",
           "OTHERS"
          ],
          [
           180,
           "Wolinella",
           "Bacteria",
           "Proteobacteria",
           "OTHERS"
          ],
          [
           181,
           "Wolinella",
           "Bacteria",
           "Proteobacteria",
           "OTHERS"
          ]
         ],
         "hovertemplate": "<b>%{hovertext}</b><br><br>Species=%{customdata[1]}<br>pm1=%{x}<br>pm2=%{y}<br>Unnamed: 0=%{customdata[0]}<br>Kingdom=%{customdata[2]}<br>Family=%{customdata[3]}<br>Color_eukaryota=%{customdata[4]}<extra></extra>",
         "hovertext": [
          "Wolinella",
          "Wolinella",
          "Wolinella"
         ],
         "legendgroup": "Wolinella",
         "marker": {
          "color": "#34b8e7",
          "symbol": "circle"
         },
         "mode": "markers",
         "name": "Wolinella",
         "orientation": "v",
         "showlegend": true,
         "type": "scatter",
         "x": [
          -0.04324382,
          0.2033479,
          0.20609
         ],
         "xaxis": "x",
         "y": [
          -0.043105245,
          0.06992514,
          0.06081779
         ],
         "yaxis": "y"
        },
        {
         "customdata": [
          [
           177,
           "Helicobacter",
           "Bacteria",
           "Proteobacteria",
           "OTHERS"
          ],
          [
           179,
           "Helicobacter",
           "Bacteria",
           "Proteobacteria",
           "OTHERS"
          ]
         ],
         "hovertemplate": "<b>%{hovertext}</b><br><br>Species=%{customdata[1]}<br>pm1=%{x}<br>pm2=%{y}<br>Unnamed: 0=%{customdata[0]}<br>Kingdom=%{customdata[2]}<br>Family=%{customdata[3]}<br>Color_eukaryota=%{customdata[4]}<extra></extra>",
         "hovertext": [
          "Helicobacter",
          "Helicobacter"
         ],
         "legendgroup": "Helicobacter",
         "marker": {
          "color": "#34b8e7",
          "symbol": "circle"
         },
         "mode": "markers",
         "name": "Helicobacter",
         "orientation": "v",
         "showlegend": true,
         "type": "scatter",
         "x": [
          -0.03523984,
          -0.13345234
         ],
         "xaxis": "x",
         "y": [
          0.0026768777,
          -0.029684927
         ],
         "yaxis": "y"
        },
        {
         "customdata": [
          [
           178,
           "Campylobacter",
           "Bacteria",
           "Proteobacteria",
           "OTHERS"
          ]
         ],
         "hovertemplate": "<b>%{hovertext}</b><br><br>Species=%{customdata[1]}<br>pm1=%{x}<br>pm2=%{y}<br>Unnamed: 0=%{customdata[0]}<br>Kingdom=%{customdata[2]}<br>Family=%{customdata[3]}<br>Color_eukaryota=%{customdata[4]}<extra></extra>",
         "hovertext": [
          "Campylobacter"
         ],
         "legendgroup": "Campylobacter",
         "marker": {
          "color": "#34b8e7",
          "symbol": "circle"
         },
         "mode": "markers",
         "name": "Campylobacter",
         "orientation": "v",
         "showlegend": true,
         "type": "scatter",
         "x": [
          -0.10813586
         ],
         "xaxis": "x",
         "y": [
          -0.013940074
         ],
         "yaxis": "y"
        },
        {
         "customdata": [
          [
           182,
           "Agrobacterium",
           "Bacteria",
           "Proteobacteria",
           "OTHERS"
          ]
         ],
         "hovertemplate": "<b>%{hovertext}</b><br><br>Species=%{customdata[1]}<br>pm1=%{x}<br>pm2=%{y}<br>Unnamed: 0=%{customdata[0]}<br>Kingdom=%{customdata[2]}<br>Family=%{customdata[3]}<br>Color_eukaryota=%{customdata[4]}<extra></extra>",
         "hovertext": [
          "Agrobacterium"
         ],
         "legendgroup": "Agrobacterium",
         "marker": {
          "color": "#34b8e7",
          "symbol": "circle"
         },
         "mode": "markers",
         "name": "Agrobacterium",
         "orientation": "v",
         "showlegend": true,
         "type": "scatter",
         "x": [
          0.39940578
         ],
         "xaxis": "x",
         "y": [
          0.28572446
         ],
         "yaxis": "y"
        },
        {
         "customdata": [
          [
           183,
           "Sinorhizobium",
           "Bacteria",
           "Proteobacteria",
           "OTHERS"
          ]
         ],
         "hovertemplate": "<b>%{hovertext}</b><br><br>Species=%{customdata[1]}<br>pm1=%{x}<br>pm2=%{y}<br>Unnamed: 0=%{customdata[0]}<br>Kingdom=%{customdata[2]}<br>Family=%{customdata[3]}<br>Color_eukaryota=%{customdata[4]}<extra></extra>",
         "hovertext": [
          "Sinorhizobium"
         ],
         "legendgroup": "Sinorhizobium",
         "marker": {
          "color": "#34b8e7",
          "symbol": "circle"
         },
         "mode": "markers",
         "name": "Sinorhizobium",
         "orientation": "v",
         "showlegend": true,
         "type": "scatter",
         "x": [
          0.4023528
         ],
         "xaxis": "x",
         "y": [
          0.27166802
         ],
         "yaxis": "y"
        },
        {
         "customdata": [
          [
           184,
           "Brucella",
           "Bacteria",
           "Proteobacteria",
           "OTHERS"
          ]
         ],
         "hovertemplate": "<b>%{hovertext}</b><br><br>Species=%{customdata[1]}<br>pm1=%{x}<br>pm2=%{y}<br>Unnamed: 0=%{customdata[0]}<br>Kingdom=%{customdata[2]}<br>Family=%{customdata[3]}<br>Color_eukaryota=%{customdata[4]}<extra></extra>",
         "hovertext": [
          "Brucella"
         ],
         "legendgroup": "Brucella",
         "marker": {
          "color": "#34b8e7",
          "symbol": "circle"
         },
         "mode": "markers",
         "name": "Brucella",
         "orientation": "v",
         "showlegend": true,
         "type": "scatter",
         "x": [
          0.389027
         ],
         "xaxis": "x",
         "y": [
          0.2871054
         ],
         "yaxis": "y"
        },
        {
         "customdata": [
          [
           185,
           "Rickettsia",
           "Bacteria",
           "Proteobacteria",
           "OTHERS"
          ]
         ],
         "hovertemplate": "<b>%{hovertext}</b><br><br>Species=%{customdata[1]}<br>pm1=%{x}<br>pm2=%{y}<br>Unnamed: 0=%{customdata[0]}<br>Kingdom=%{customdata[2]}<br>Family=%{customdata[3]}<br>Color_eukaryota=%{customdata[4]}<extra></extra>",
         "hovertext": [
          "Rickettsia"
         ],
         "legendgroup": "Rickettsia",
         "marker": {
          "color": "#34b8e7",
          "symbol": "circle"
         },
         "mode": "markers",
         "name": "Rickettsia",
         "orientation": "v",
         "showlegend": true,
         "type": "scatter",
         "x": [
          0.60773945
         ],
         "xaxis": "x",
         "y": [
          0.2866308
         ],
         "yaxis": "y"
        },
        {
         "customdata": [
          [
           186,
           "Bovin Mitochondrio",
           "Eukaryota",
           "Metazoa",
           "MITOCHONDRION"
          ]
         ],
         "hovertemplate": "<b>%{hovertext}</b><br><br>Species=%{customdata[1]}<br>pm1=%{x}<br>pm2=%{y}<br>Unnamed: 0=%{customdata[0]}<br>Kingdom=%{customdata[2]}<br>Family=%{customdata[3]}<br>Color_eukaryota=%{customdata[4]}<extra></extra>",
         "hovertext": [
          "Bovin Mitochondrio"
         ],
         "legendgroup": "Bovin Mitochondrio",
         "marker": {
          "color": "#61ff06",
          "symbol": "circle"
         },
         "mode": "markers",
         "name": "Bovin Mitochondrio",
         "orientation": "v",
         "showlegend": true,
         "type": "scatter",
         "x": [
          0.7762942
         ],
         "xaxis": "x",
         "y": [
          -0.50750846
         ],
         "yaxis": "y"
        },
        {
         "customdata": [
          [
           188,
           "Homo Mitochondrion",
           "Eukaryota",
           "Metazoa",
           "MITOCHONDRION"
          ]
         ],
         "hovertemplate": "<b>%{hovertext}</b><br><br>Species=%{customdata[1]}<br>pm1=%{x}<br>pm2=%{y}<br>Unnamed: 0=%{customdata[0]}<br>Kingdom=%{customdata[2]}<br>Family=%{customdata[3]}<br>Color_eukaryota=%{customdata[4]}<extra></extra>",
         "hovertext": [
          "Homo Mitochondrion"
         ],
         "legendgroup": "Homo Mitochondrion",
         "marker": {
          "color": "#61ff06",
          "symbol": "circle"
         },
         "mode": "markers",
         "name": "Homo Mitochondrion",
         "orientation": "v",
         "showlegend": true,
         "type": "scatter",
         "x": [
          0.7598772
         ],
         "xaxis": "x",
         "y": [
          -0.50699115
         ],
         "yaxis": "y"
        },
        {
         "customdata": [
          [
           189,
           "Rattus Mitochondrio",
           "Eukaryota",
           "Metazoa",
           "MITOCHONDRION"
          ]
         ],
         "hovertemplate": "<b>%{hovertext}</b><br><br>Species=%{customdata[1]}<br>pm1=%{x}<br>pm2=%{y}<br>Unnamed: 0=%{customdata[0]}<br>Kingdom=%{customdata[2]}<br>Family=%{customdata[3]}<br>Color_eukaryota=%{customdata[4]}<extra></extra>",
         "hovertext": [
          "Rattus Mitochondrio"
         ],
         "legendgroup": "Rattus Mitochondrio",
         "marker": {
          "color": "#61ff06",
          "symbol": "circle"
         },
         "mode": "markers",
         "name": "Rattus Mitochondrio",
         "orientation": "v",
         "showlegend": true,
         "type": "scatter",
         "x": [
          0.76795524
         ],
         "xaxis": "x",
         "y": [
          -0.5201371
         ],
         "yaxis": "y"
        },
        {
         "customdata": [
          [
           190,
           "Mus Mitochondrion",
           "Eukaryota",
           "Metazoa",
           "MITOCHONDRION"
          ]
         ],
         "hovertemplate": "<b>%{hovertext}</b><br><br>Species=%{customdata[1]}<br>pm1=%{x}<br>pm2=%{y}<br>Unnamed: 0=%{customdata[0]}<br>Kingdom=%{customdata[2]}<br>Family=%{customdata[3]}<br>Color_eukaryota=%{customdata[4]}<extra></extra>",
         "hovertext": [
          "Mus Mitochondrion"
         ],
         "legendgroup": "Mus Mitochondrion",
         "marker": {
          "color": "#61ff06",
          "symbol": "circle"
         },
         "mode": "markers",
         "name": "Mus Mitochondrion",
         "orientation": "v",
         "showlegend": true,
         "type": "scatter",
         "x": [
          0.7531102
         ],
         "xaxis": "x",
         "y": [
          -0.5204549
         ],
         "yaxis": "y"
        },
        {
         "customdata": [
          [
           191,
           "Thiobacillus",
           "Bacteria",
           "Proteobacteria",
           "OTHERS"
          ],
          [
           193,
           "Thiobacillus",
           "Bacteria",
           "Proteobacteria",
           "OTHERS"
          ],
          [
           196,
           "Thiobacillus",
           "Bacteria",
           "Proteobacteria",
           "OTHERS"
          ],
          [
           197,
           "Thiobacillus",
           "Bacteria",
           "Proteobacteria",
           "OTHERS"
          ]
         ],
         "hovertemplate": "<b>%{hovertext}</b><br><br>Species=%{customdata[1]}<br>pm1=%{x}<br>pm2=%{y}<br>Unnamed: 0=%{customdata[0]}<br>Kingdom=%{customdata[2]}<br>Family=%{customdata[3]}<br>Color_eukaryota=%{customdata[4]}<extra></extra>",
         "hovertext": [
          "Thiobacillus",
          "Thiobacillus",
          "Thiobacillus",
          "Thiobacillus"
         ],
         "legendgroup": "Thiobacillus",
         "marker": {
          "color": "#34b8e7",
          "symbol": "circle"
         },
         "mode": "markers",
         "name": "Thiobacillus",
         "orientation": "v",
         "showlegend": true,
         "type": "scatter",
         "x": [
          0.41142613,
          0.34323567,
          0.82621276,
          0.2033448
         ],
         "xaxis": "x",
         "y": [
          0.52622736,
          0.602579,
          -0.16090378,
          -0.8611851
         ],
         "yaxis": "y"
        },
        {
         "customdata": [
          [
           192,
           "Neisseria",
           "Bacteria",
           "Proteobacteria",
           "OTHERS"
          ]
         ],
         "hovertemplate": "<b>%{hovertext}</b><br><br>Species=%{customdata[1]}<br>pm1=%{x}<br>pm2=%{y}<br>Unnamed: 0=%{customdata[0]}<br>Kingdom=%{customdata[2]}<br>Family=%{customdata[3]}<br>Color_eukaryota=%{customdata[4]}<extra></extra>",
         "hovertext": [
          "Neisseria"
         ],
         "legendgroup": "Neisseria",
         "marker": {
          "color": "#34b8e7",
          "symbol": "circle"
         },
         "mode": "markers",
         "name": "Neisseria",
         "orientation": "v",
         "showlegend": true,
         "type": "scatter",
         "x": [
          0.28230938
         ],
         "xaxis": "x",
         "y": [
          0.5801796
         ],
         "yaxis": "y"
        },
        {
         "customdata": [
          [
           194,
           "Burkholderia",
           "Bacteria",
           "Proteobacteria",
           "OTHERS"
          ]
         ],
         "hovertemplate": "<b>%{hovertext}</b><br><br>Species=%{customdata[1]}<br>pm1=%{x}<br>pm2=%{y}<br>Unnamed: 0=%{customdata[0]}<br>Kingdom=%{customdata[2]}<br>Family=%{customdata[3]}<br>Color_eukaryota=%{customdata[4]}<extra></extra>",
         "hovertext": [
          "Burkholderia"
         ],
         "legendgroup": "Burkholderia",
         "marker": {
          "color": "#34b8e7",
          "symbol": "circle"
         },
         "mode": "markers",
         "name": "Burkholderia",
         "orientation": "v",
         "showlegend": true,
         "type": "scatter",
         "x": [
          0.325576
         ],
         "xaxis": "x",
         "y": [
          0.5873442
         ],
         "yaxis": "y"
        },
        {
         "customdata": [
          [
           195,
           "Bordetella",
           "Bacteria",
           "Proteobacteria",
           "OTHERS"
          ],
          [
           198,
           "Bordetella",
           "Bacteria",
           "Proteobacteria",
           "OTHERS"
          ]
         ],
         "hovertemplate": "<b>%{hovertext}</b><br><br>Species=%{customdata[1]}<br>pm1=%{x}<br>pm2=%{y}<br>Unnamed: 0=%{customdata[0]}<br>Kingdom=%{customdata[2]}<br>Family=%{customdata[3]}<br>Color_eukaryota=%{customdata[4]}<extra></extra>",
         "hovertext": [
          "Bordetella",
          "Bordetella"
         ],
         "legendgroup": "Bordetella",
         "marker": {
          "color": "#34b8e7",
          "symbol": "circle"
         },
         "mode": "markers",
         "name": "Bordetella",
         "orientation": "v",
         "showlegend": true,
         "type": "scatter",
         "x": [
          0.3557916,
          0.15955792
         ],
         "xaxis": "x",
         "y": [
          0.6089816,
          -0.8656354
         ],
         "yaxis": "y"
        },
        {
         "customdata": [
          [
           199,
           "Pseudomonas",
           "Bacteria",
           "Proteobacteria",
           "OTHERS"
          ]
         ],
         "hovertemplate": "<b>%{hovertext}</b><br><br>Species=%{customdata[1]}<br>pm1=%{x}<br>pm2=%{y}<br>Unnamed: 0=%{customdata[0]}<br>Kingdom=%{customdata[2]}<br>Family=%{customdata[3]}<br>Color_eukaryota=%{customdata[4]}<extra></extra>",
         "hovertext": [
          "Pseudomonas"
         ],
         "legendgroup": "Pseudomonas",
         "marker": {
          "color": "#34b8e7",
          "symbol": "circle"
         },
         "mode": "markers",
         "name": "Pseudomonas",
         "orientation": "v",
         "showlegend": true,
         "type": "scatter",
         "x": [
          0.36517972
         ],
         "xaxis": "x",
         "y": [
          0.585695
         ],
         "yaxis": "y"
        },
        {
         "customdata": [
          [
           200,
           "Vibrio",
           "Bacteria",
           "Proteobacteria",
           "OTHERS"
          ],
          [
           209,
           "Vibrio",
           "Bacteria",
           "Proteobacteria",
           "OTHERS"
          ]
         ],
         "hovertemplate": "<b>%{hovertext}</b><br><br>Species=%{customdata[1]}<br>pm1=%{x}<br>pm2=%{y}<br>Unnamed: 0=%{customdata[0]}<br>Kingdom=%{customdata[2]}<br>Family=%{customdata[3]}<br>Color_eukaryota=%{customdata[4]}<extra></extra>",
         "hovertext": [
          "Vibrio",
          "Vibrio"
         ],
         "legendgroup": "Vibrio",
         "marker": {
          "color": "#34b8e7",
          "symbol": "circle"
         },
         "mode": "markers",
         "name": "Vibrio",
         "orientation": "v",
         "showlegend": true,
         "type": "scatter",
         "x": [
          0.3242402,
          0.85996747
         ],
         "xaxis": "x",
         "y": [
          0.5447334,
          -0.11685125
         ],
         "yaxis": "y"
        },
        {
         "customdata": [
          [
           201,
           "Yersinia",
           "Bacteria",
           "Proteobacteria",
           "OTHERS"
          ],
          [
           208,
           "Yersinia",
           "Bacteria",
           "Proteobacteria",
           "OTHERS"
          ]
         ],
         "hovertemplate": "<b>%{hovertext}</b><br><br>Species=%{customdata[1]}<br>pm1=%{x}<br>pm2=%{y}<br>Unnamed: 0=%{customdata[0]}<br>Kingdom=%{customdata[2]}<br>Family=%{customdata[3]}<br>Color_eukaryota=%{customdata[4]}<extra></extra>",
         "hovertext": [
          "Yersinia",
          "Yersinia"
         ],
         "legendgroup": "Yersinia",
         "marker": {
          "color": "#34b8e7",
          "symbol": "circle"
         },
         "mode": "markers",
         "name": "Yersinia",
         "orientation": "v",
         "showlegend": true,
         "type": "scatter",
         "x": [
          0.34766698,
          0.8652963
         ],
         "xaxis": "x",
         "y": [
          0.55161905,
          -0.16014732
         ],
         "yaxis": "y"
        },
        {
         "customdata": [
          [
           202,
           "Salmonella",
           "Bacteria",
           "Proteobacteria",
           "OTHERS"
          ],
          [
           207,
           "Salmonella",
           "Bacteria",
           "Proteobacteria",
           "OTHERS"
          ]
         ],
         "hovertemplate": "<b>%{hovertext}</b><br><br>Species=%{customdata[1]}<br>pm1=%{x}<br>pm2=%{y}<br>Unnamed: 0=%{customdata[0]}<br>Kingdom=%{customdata[2]}<br>Family=%{customdata[3]}<br>Color_eukaryota=%{customdata[4]}<extra></extra>",
         "hovertext": [
          "Salmonella",
          "Salmonella"
         ],
         "legendgroup": "Salmonella",
         "marker": {
          "color": "#34b8e7",
          "symbol": "circle"
         },
         "mode": "markers",
         "name": "Salmonella",
         "orientation": "v",
         "showlegend": true,
         "type": "scatter",
         "x": [
          0.34160644,
          0.84762776
         ],
         "xaxis": "x",
         "y": [
          0.52714956,
          -0.14284891
         ],
         "yaxis": "y"
        },
        {
         "customdata": [
          [
           203,
           "Shigella",
           "Bacteria",
           "Proteobacteria",
           "OTHERS"
          ],
          [
           206,
           "Shigella",
           "Bacteria",
           "Proteobacteria",
           "OTHERS"
          ]
         ],
         "hovertemplate": "<b>%{hovertext}</b><br><br>Species=%{customdata[1]}<br>pm1=%{x}<br>pm2=%{y}<br>Unnamed: 0=%{customdata[0]}<br>Kingdom=%{customdata[2]}<br>Family=%{customdata[3]}<br>Color_eukaryota=%{customdata[4]}<extra></extra>",
         "hovertext": [
          "Shigella",
          "Shigella"
         ],
         "legendgroup": "Shigella",
         "marker": {
          "color": "#34b8e7",
          "symbol": "circle"
         },
         "mode": "markers",
         "name": "Shigella",
         "orientation": "v",
         "showlegend": true,
         "type": "scatter",
         "x": [
          0.3491454,
          0.8603352
         ],
         "xaxis": "x",
         "y": [
          0.53784776,
          -0.14833026
         ],
         "yaxis": "y"
        },
        {
         "customdata": [
          [
           204,
           "Escherichia",
           "Bacteria",
           "Proteobacteria",
           "OTHERS"
          ],
          [
           205,
           "Escherichia",
           "Bacteria",
           "Proteobacteria",
           "OTHERS"
          ]
         ],
         "hovertemplate": "<b>%{hovertext}</b><br><br>Species=%{customdata[1]}<br>pm1=%{x}<br>pm2=%{y}<br>Unnamed: 0=%{customdata[0]}<br>Kingdom=%{customdata[2]}<br>Family=%{customdata[3]}<br>Color_eukaryota=%{customdata[4]}<extra></extra>",
         "hovertext": [
          "Escherichia",
          "Escherichia"
         ],
         "legendgroup": "Escherichia",
         "marker": {
          "color": "#34b8e7",
          "symbol": "circle"
         },
         "mode": "markers",
         "name": "Escherichia",
         "orientation": "v",
         "showlegend": true,
         "type": "scatter",
         "x": [
          0.36489522,
          0.8683527
         ],
         "xaxis": "x",
         "y": [
          0.5230701,
          -0.14170918
         ],
         "yaxis": "y"
        }
       ],
       "layout": {
        "font": {
         "size": 11
        },
        "height": 800,
        "legend": {
         "title": {
          "text": "Species"
         },
         "tracegroupgap": 0
        },
        "plot_bgcolor": "rgba(0, 0, 0, 0)",
        "shapes": [
         {
          "line": {
           "color": "black",
           "dash": "dot"
          },
          "opacity": 0.15,
          "type": "circle",
          "x0": -0.47058823529411764,
          "x1": 0.47058823529411764,
          "y0": -0.47058823529411764,
          "y1": 0.47058823529411764
         },
         {
          "line": {
           "color": "black",
           "dash": "dot"
          },
          "opacity": 0.15,
          "type": "circle",
          "x0": -0.6447368421052633,
          "x1": 0.6447368421052633,
          "y0": -0.6447368421052633,
          "y1": 0.6447368421052633
         },
         {
          "line": {
           "color": "black",
           "dash": "dot"
          },
          "opacity": 0.15,
          "type": "circle",
          "x0": -0.7705382436260623,
          "x1": 0.7705382436260623,
          "y0": -0.7705382436260623,
          "y1": 0.7705382436260623
         },
         {
          "line": {
           "color": "black",
           "dash": "dot"
          },
          "opacity": 0.15,
          "type": "circle",
          "x0": -0.8557007125890737,
          "x1": 0.8557007125890737,
          "y0": -0.8557007125890737,
          "y1": 0.8557007125890737
         },
         {
          "line": {
           "color": "black",
           "dash": "dot"
          },
          "opacity": 0.15,
          "type": "circle",
          "x0": -0.9108474990827933,
          "x1": 0.9108474990827933,
          "y0": -0.9108474990827933,
          "y1": 0.9108474990827933
         },
         {
          "line": {
           "color": "black",
           "dash": "dot"
          },
          "opacity": 0.15,
          "type": "circle",
          "x0": -0.9455374041239167,
          "x1": 0.9455374041239167,
          "y0": -0.9455374041239167,
          "y1": 0.9455374041239167
         },
         {
          "line": {
           "color": "Black"
          },
          "type": "circle",
          "x0": -1,
          "x1": 1,
          "xref": "x",
          "y0": -1,
          "y1": 1,
          "yref": "y"
         },
         {
          "fillcolor": "Black",
          "line": {
           "color": "Black"
          },
          "type": "circle",
          "x0": -0.005,
          "x1": 0.005,
          "xref": "x",
          "y0": -0.005,
          "y1": 0.005,
          "yref": "y"
         }
        ],
        "template": {
         "data": {
          "bar": [
           {
            "error_x": {
             "color": "#2a3f5f"
            },
            "error_y": {
             "color": "#2a3f5f"
            },
            "marker": {
             "line": {
              "color": "#E5ECF6",
              "width": 0.5
             },
             "pattern": {
              "fillmode": "overlay",
              "size": 10,
              "solidity": 0.2
             }
            },
            "type": "bar"
           }
          ],
          "barpolar": [
           {
            "marker": {
             "line": {
              "color": "#E5ECF6",
              "width": 0.5
             },
             "pattern": {
              "fillmode": "overlay",
              "size": 10,
              "solidity": 0.2
             }
            },
            "type": "barpolar"
           }
          ],
          "carpet": [
           {
            "aaxis": {
             "endlinecolor": "#2a3f5f",
             "gridcolor": "white",
             "linecolor": "white",
             "minorgridcolor": "white",
             "startlinecolor": "#2a3f5f"
            },
            "baxis": {
             "endlinecolor": "#2a3f5f",
             "gridcolor": "white",
             "linecolor": "white",
             "minorgridcolor": "white",
             "startlinecolor": "#2a3f5f"
            },
            "type": "carpet"
           }
          ],
          "choropleth": [
           {
            "colorbar": {
             "outlinewidth": 0,
             "ticks": ""
            },
            "type": "choropleth"
           }
          ],
          "contour": [
           {
            "colorbar": {
             "outlinewidth": 0,
             "ticks": ""
            },
            "colorscale": [
             [
              0,
              "#0d0887"
             ],
             [
              0.1111111111111111,
              "#46039f"
             ],
             [
              0.2222222222222222,
              "#7201a8"
             ],
             [
              0.3333333333333333,
              "#9c179e"
             ],
             [
              0.4444444444444444,
              "#bd3786"
             ],
             [
              0.5555555555555556,
              "#d8576b"
             ],
             [
              0.6666666666666666,
              "#ed7953"
             ],
             [
              0.7777777777777778,
              "#fb9f3a"
             ],
             [
              0.8888888888888888,
              "#fdca26"
             ],
             [
              1,
              "#f0f921"
             ]
            ],
            "type": "contour"
           }
          ],
          "contourcarpet": [
           {
            "colorbar": {
             "outlinewidth": 0,
             "ticks": ""
            },
            "type": "contourcarpet"
           }
          ],
          "heatmap": [
           {
            "colorbar": {
             "outlinewidth": 0,
             "ticks": ""
            },
            "colorscale": [
             [
              0,
              "#0d0887"
             ],
             [
              0.1111111111111111,
              "#46039f"
             ],
             [
              0.2222222222222222,
              "#7201a8"
             ],
             [
              0.3333333333333333,
              "#9c179e"
             ],
             [
              0.4444444444444444,
              "#bd3786"
             ],
             [
              0.5555555555555556,
              "#d8576b"
             ],
             [
              0.6666666666666666,
              "#ed7953"
             ],
             [
              0.7777777777777778,
              "#fb9f3a"
             ],
             [
              0.8888888888888888,
              "#fdca26"
             ],
             [
              1,
              "#f0f921"
             ]
            ],
            "type": "heatmap"
           }
          ],
          "heatmapgl": [
           {
            "colorbar": {
             "outlinewidth": 0,
             "ticks": ""
            },
            "colorscale": [
             [
              0,
              "#0d0887"
             ],
             [
              0.1111111111111111,
              "#46039f"
             ],
             [
              0.2222222222222222,
              "#7201a8"
             ],
             [
              0.3333333333333333,
              "#9c179e"
             ],
             [
              0.4444444444444444,
              "#bd3786"
             ],
             [
              0.5555555555555556,
              "#d8576b"
             ],
             [
              0.6666666666666666,
              "#ed7953"
             ],
             [
              0.7777777777777778,
              "#fb9f3a"
             ],
             [
              0.8888888888888888,
              "#fdca26"
             ],
             [
              1,
              "#f0f921"
             ]
            ],
            "type": "heatmapgl"
           }
          ],
          "histogram": [
           {
            "marker": {
             "pattern": {
              "fillmode": "overlay",
              "size": 10,
              "solidity": 0.2
             }
            },
            "type": "histogram"
           }
          ],
          "histogram2d": [
           {
            "colorbar": {
             "outlinewidth": 0,
             "ticks": ""
            },
            "colorscale": [
             [
              0,
              "#0d0887"
             ],
             [
              0.1111111111111111,
              "#46039f"
             ],
             [
              0.2222222222222222,
              "#7201a8"
             ],
             [
              0.3333333333333333,
              "#9c179e"
             ],
             [
              0.4444444444444444,
              "#bd3786"
             ],
             [
              0.5555555555555556,
              "#d8576b"
             ],
             [
              0.6666666666666666,
              "#ed7953"
             ],
             [
              0.7777777777777778,
              "#fb9f3a"
             ],
             [
              0.8888888888888888,
              "#fdca26"
             ],
             [
              1,
              "#f0f921"
             ]
            ],
            "type": "histogram2d"
           }
          ],
          "histogram2dcontour": [
           {
            "colorbar": {
             "outlinewidth": 0,
             "ticks": ""
            },
            "colorscale": [
             [
              0,
              "#0d0887"
             ],
             [
              0.1111111111111111,
              "#46039f"
             ],
             [
              0.2222222222222222,
              "#7201a8"
             ],
             [
              0.3333333333333333,
              "#9c179e"
             ],
             [
              0.4444444444444444,
              "#bd3786"
             ],
             [
              0.5555555555555556,
              "#d8576b"
             ],
             [
              0.6666666666666666,
              "#ed7953"
             ],
             [
              0.7777777777777778,
              "#fb9f3a"
             ],
             [
              0.8888888888888888,
              "#fdca26"
             ],
             [
              1,
              "#f0f921"
             ]
            ],
            "type": "histogram2dcontour"
           }
          ],
          "mesh3d": [
           {
            "colorbar": {
             "outlinewidth": 0,
             "ticks": ""
            },
            "type": "mesh3d"
           }
          ],
          "parcoords": [
           {
            "line": {
             "colorbar": {
              "outlinewidth": 0,
              "ticks": ""
             }
            },
            "type": "parcoords"
           }
          ],
          "pie": [
           {
            "automargin": true,
            "type": "pie"
           }
          ],
          "scatter": [
           {
            "fillpattern": {
             "fillmode": "overlay",
             "size": 10,
             "solidity": 0.2
            },
            "type": "scatter"
           }
          ],
          "scatter3d": [
           {
            "line": {
             "colorbar": {
              "outlinewidth": 0,
              "ticks": ""
             }
            },
            "marker": {
             "colorbar": {
              "outlinewidth": 0,
              "ticks": ""
             }
            },
            "type": "scatter3d"
           }
          ],
          "scattercarpet": [
           {
            "marker": {
             "colorbar": {
              "outlinewidth": 0,
              "ticks": ""
             }
            },
            "type": "scattercarpet"
           }
          ],
          "scattergeo": [
           {
            "marker": {
             "colorbar": {
              "outlinewidth": 0,
              "ticks": ""
             }
            },
            "type": "scattergeo"
           }
          ],
          "scattergl": [
           {
            "marker": {
             "colorbar": {
              "outlinewidth": 0,
              "ticks": ""
             }
            },
            "type": "scattergl"
           }
          ],
          "scattermapbox": [
           {
            "marker": {
             "colorbar": {
              "outlinewidth": 0,
              "ticks": ""
             }
            },
            "type": "scattermapbox"
           }
          ],
          "scatterpolar": [
           {
            "marker": {
             "colorbar": {
              "outlinewidth": 0,
              "ticks": ""
             }
            },
            "type": "scatterpolar"
           }
          ],
          "scatterpolargl": [
           {
            "marker": {
             "colorbar": {
              "outlinewidth": 0,
              "ticks": ""
             }
            },
            "type": "scatterpolargl"
           }
          ],
          "scatterternary": [
           {
            "marker": {
             "colorbar": {
              "outlinewidth": 0,
              "ticks": ""
             }
            },
            "type": "scatterternary"
           }
          ],
          "surface": [
           {
            "colorbar": {
             "outlinewidth": 0,
             "ticks": ""
            },
            "colorscale": [
             [
              0,
              "#0d0887"
             ],
             [
              0.1111111111111111,
              "#46039f"
             ],
             [
              0.2222222222222222,
              "#7201a8"
             ],
             [
              0.3333333333333333,
              "#9c179e"
             ],
             [
              0.4444444444444444,
              "#bd3786"
             ],
             [
              0.5555555555555556,
              "#d8576b"
             ],
             [
              0.6666666666666666,
              "#ed7953"
             ],
             [
              0.7777777777777778,
              "#fb9f3a"
             ],
             [
              0.8888888888888888,
              "#fdca26"
             ],
             [
              1,
              "#f0f921"
             ]
            ],
            "type": "surface"
           }
          ],
          "table": [
           {
            "cells": {
             "fill": {
              "color": "#EBF0F8"
             },
             "line": {
              "color": "white"
             }
            },
            "header": {
             "fill": {
              "color": "#C8D4E3"
             },
             "line": {
              "color": "white"
             }
            },
            "type": "table"
           }
          ]
         },
         "layout": {
          "annotationdefaults": {
           "arrowcolor": "#2a3f5f",
           "arrowhead": 0,
           "arrowwidth": 1
          },
          "autotypenumbers": "strict",
          "coloraxis": {
           "colorbar": {
            "outlinewidth": 0,
            "ticks": ""
           }
          },
          "colorscale": {
           "diverging": [
            [
             0,
             "#8e0152"
            ],
            [
             0.1,
             "#c51b7d"
            ],
            [
             0.2,
             "#de77ae"
            ],
            [
             0.3,
             "#f1b6da"
            ],
            [
             0.4,
             "#fde0ef"
            ],
            [
             0.5,
             "#f7f7f7"
            ],
            [
             0.6,
             "#e6f5d0"
            ],
            [
             0.7,
             "#b8e186"
            ],
            [
             0.8,
             "#7fbc41"
            ],
            [
             0.9,
             "#4d9221"
            ],
            [
             1,
             "#276419"
            ]
           ],
           "sequential": [
            [
             0,
             "#0d0887"
            ],
            [
             0.1111111111111111,
             "#46039f"
            ],
            [
             0.2222222222222222,
             "#7201a8"
            ],
            [
             0.3333333333333333,
             "#9c179e"
            ],
            [
             0.4444444444444444,
             "#bd3786"
            ],
            [
             0.5555555555555556,
             "#d8576b"
            ],
            [
             0.6666666666666666,
             "#ed7953"
            ],
            [
             0.7777777777777778,
             "#fb9f3a"
            ],
            [
             0.8888888888888888,
             "#fdca26"
            ],
            [
             1,
             "#f0f921"
            ]
           ],
           "sequentialminus": [
            [
             0,
             "#0d0887"
            ],
            [
             0.1111111111111111,
             "#46039f"
            ],
            [
             0.2222222222222222,
             "#7201a8"
            ],
            [
             0.3333333333333333,
             "#9c179e"
            ],
            [
             0.4444444444444444,
             "#bd3786"
            ],
            [
             0.5555555555555556,
             "#d8576b"
            ],
            [
             0.6666666666666666,
             "#ed7953"
            ],
            [
             0.7777777777777778,
             "#fb9f3a"
            ],
            [
             0.8888888888888888,
             "#fdca26"
            ],
            [
             1,
             "#f0f921"
            ]
           ]
          },
          "colorway": [
           "#636efa",
           "#EF553B",
           "#00cc96",
           "#ab63fa",
           "#FFA15A",
           "#19d3f3",
           "#FF6692",
           "#B6E880",
           "#FF97FF",
           "#FECB52"
          ],
          "font": {
           "color": "#2a3f5f"
          },
          "geo": {
           "bgcolor": "white",
           "lakecolor": "white",
           "landcolor": "#E5ECF6",
           "showlakes": true,
           "showland": true,
           "subunitcolor": "white"
          },
          "hoverlabel": {
           "align": "left"
          },
          "hovermode": "closest",
          "mapbox": {
           "style": "light"
          },
          "paper_bgcolor": "white",
          "plot_bgcolor": "#E5ECF6",
          "polar": {
           "angularaxis": {
            "gridcolor": "white",
            "linecolor": "white",
            "ticks": ""
           },
           "bgcolor": "#E5ECF6",
           "radialaxis": {
            "gridcolor": "white",
            "linecolor": "white",
            "ticks": ""
           }
          },
          "scene": {
           "xaxis": {
            "backgroundcolor": "#E5ECF6",
            "gridcolor": "white",
            "gridwidth": 2,
            "linecolor": "white",
            "showbackground": true,
            "ticks": "",
            "zerolinecolor": "white"
           },
           "yaxis": {
            "backgroundcolor": "#E5ECF6",
            "gridcolor": "white",
            "gridwidth": 2,
            "linecolor": "white",
            "showbackground": true,
            "ticks": "",
            "zerolinecolor": "white"
           },
           "zaxis": {
            "backgroundcolor": "#E5ECF6",
            "gridcolor": "white",
            "gridwidth": 2,
            "linecolor": "white",
            "showbackground": true,
            "ticks": "",
            "zerolinecolor": "white"
           }
          },
          "shapedefaults": {
           "line": {
            "color": "#2a3f5f"
           }
          },
          "ternary": {
           "aaxis": {
            "gridcolor": "white",
            "linecolor": "white",
            "ticks": ""
           },
           "baxis": {
            "gridcolor": "white",
            "linecolor": "white",
            "ticks": ""
           },
           "bgcolor": "#E5ECF6",
           "caxis": {
            "gridcolor": "white",
            "linecolor": "white",
            "ticks": ""
           }
          },
          "title": {
           "x": 0.05
          },
          "xaxis": {
           "automargin": true,
           "gridcolor": "white",
           "linecolor": "white",
           "ticks": "",
           "title": {
            "standoff": 15
           },
           "zerolinecolor": "white",
           "zerolinewidth": 2
          },
          "yaxis": {
           "automargin": true,
           "gridcolor": "white",
           "linecolor": "white",
           "ticks": "",
           "title": {
            "standoff": 15
           },
           "zerolinecolor": "white",
           "zerolinewidth": 2
          }
         }
        },
        "title": {
         "text": "PM projection of thioredoxins colored by species",
         "x": 0.5
        },
        "xaxis": {
         "anchor": "y",
         "constrain": "domain",
         "domain": [
          0,
          1
         ],
         "range": [
          -1.1,
          1.1
         ],
         "title": {
          "text": "pm1"
         }
        },
        "yaxis": {
         "anchor": "x",
         "domain": [
          0,
          1
         ],
         "scaleanchor": "x",
         "scaleratio": 1,
         "title": {
          "text": "pm2"
         }
        },
        "yaxis2": {
         "layer": "below traces",
         "matches": "y",
         "overlaying": "y"
        }
       }
      },
      "text/html": [
       "<div>                            <div id=\"b5a0fe18-d645-4f3d-811f-43f059d7d906\" class=\"plotly-graph-div\" style=\"height:800px; width:100%;\"></div>            <script type=\"text/javascript\">                require([\"plotly\"], function(Plotly) {                    window.PLOTLYENV=window.PLOTLYENV || {};                                    if (document.getElementById(\"b5a0fe18-d645-4f3d-811f-43f059d7d906\")) {                    Plotly.newPlot(                        \"b5a0fe18-d645-4f3d-811f-43f059d7d906\",                        [{\"customdata\":[[0,\"LBCA\",\"LBCA\",\"LBCA\",\"OTHERS\"]],\"hovertemplate\":\"<b>%{hovertext}</b><br><br>Species=%{customdata[1]}<br>pm1=%{x}<br>pm2=%{y}<br>Unnamed: 0=%{customdata[0]}<br>Kingdom=%{customdata[2]}<br>Family=%{customdata[3]}<br>Color_eukaryota=%{customdata[4]}<extra></extra>\",\"hovertext\":[\"LBCA\"],\"legendgroup\":\"LBCA\",\"marker\":{\"color\":\"#34b8e7\",\"symbol\":\"circle\"},\"mode\":\"markers\",\"name\":\"LBCA\",\"orientation\":\"v\",\"showlegend\":true,\"x\":[0.18389252],\"xaxis\":\"x\",\"y\":[0.108608946],\"yaxis\":\"y\",\"type\":\"scatter\"},{\"customdata\":[[1,\"LACA\",\"LACA\",\"LACA\",\"OTHERS\"]],\"hovertemplate\":\"<b>%{hovertext}</b><br><br>Species=%{customdata[1]}<br>pm1=%{x}<br>pm2=%{y}<br>Unnamed: 0=%{customdata[0]}<br>Kingdom=%{customdata[2]}<br>Family=%{customdata[3]}<br>Color_eukaryota=%{customdata[4]}<extra></extra>\",\"hovertext\":[\"LACA\"],\"legendgroup\":\"LACA\",\"marker\":{\"color\":\"#ff0000\",\"symbol\":\"circle\"},\"mode\":\"markers\",\"name\":\"LACA\",\"orientation\":\"v\",\"showlegend\":true,\"x\":[0.111037545],\"xaxis\":\"x\",\"y\":[-0.1417153],\"yaxis\":\"y\",\"type\":\"scatter\"},{\"customdata\":[[2,\"AECA\",\"AECA\",\"AECA\",\"OTHERS\"]],\"hovertemplate\":\"<b>%{hovertext}</b><br><br>Species=%{customdata[1]}<br>pm1=%{x}<br>pm2=%{y}<br>Unnamed: 0=%{customdata[0]}<br>Kingdom=%{customdata[2]}<br>Family=%{customdata[3]}<br>Color_eukaryota=%{customdata[4]}<extra></extra>\",\"hovertext\":[\"AECA\"],\"legendgroup\":\"AECA\",\"marker\":{\"color\":\"#e7e53c\",\"symbol\":\"circle\"},\"mode\":\"markers\",\"name\":\"AECA\",\"orientation\":\"v\",\"showlegend\":true,\"x\":[0.050592925],\"xaxis\":\"x\",\"y\":[-0.098363124],\"yaxis\":\"y\",\"type\":\"scatter\"},{\"customdata\":[[3,\"LGPCA\",\"LGPCA\",\"LGPCA\",\"OTHERS\"]],\"hovertemplate\":\"<b>%{hovertext}</b><br><br>Species=%{customdata[1]}<br>pm1=%{x}<br>pm2=%{y}<br>Unnamed: 0=%{customdata[0]}<br>Kingdom=%{customdata[2]}<br>Family=%{customdata[3]}<br>Color_eukaryota=%{customdata[4]}<extra></extra>\",\"hovertext\":[\"LGPCA\"],\"legendgroup\":\"LGPCA\",\"marker\":{\"color\":\"#34b8e7\",\"symbol\":\"circle\"},\"mode\":\"markers\",\"name\":\"LGPCA\",\"orientation\":\"v\",\"showlegend\":true,\"x\":[0.313914],\"xaxis\":\"x\",\"y\":[0.43765968],\"yaxis\":\"y\",\"type\":\"scatter\"},{\"customdata\":[[4,\"LECA\",\"LECA\",\"LECA\",\"OTHERS\"]],\"hovertemplate\":\"<b>%{hovertext}</b><br><br>Species=%{customdata[1]}<br>pm1=%{x}<br>pm2=%{y}<br>Unnamed: 0=%{customdata[0]}<br>Kingdom=%{customdata[2]}<br>Family=%{customdata[3]}<br>Color_eukaryota=%{customdata[4]}<extra></extra>\",\"hovertext\":[\"LECA\"],\"legendgroup\":\"LECA\",\"marker\":{\"color\":\"#21e548\",\"symbol\":\"circle\"},\"mode\":\"markers\",\"name\":\"LECA\",\"orientation\":\"v\",\"showlegend\":true,\"x\":[-0.63303715],\"xaxis\":\"x\",\"y\":[-0.0017171632],\"yaxis\":\"y\",\"type\":\"scatter\"},{\"customdata\":[[5,\"LPBCA\",\"LPBCA\",\"LPBCA\",\"OTHERS\"]],\"hovertemplate\":\"<b>%{hovertext}</b><br><br>Species=%{customdata[1]}<br>pm1=%{x}<br>pm2=%{y}<br>Unnamed: 0=%{customdata[0]}<br>Kingdom=%{customdata[2]}<br>Family=%{customdata[3]}<br>Color_eukaryota=%{customdata[4]}<extra></extra>\",\"hovertext\":[\"LPBCA\"],\"legendgroup\":\"LPBCA\",\"marker\":{\"color\":\"#34b8e7\",\"symbol\":\"circle\"},\"mode\":\"markers\",\"name\":\"LPBCA\",\"orientation\":\"v\",\"showlegend\":true,\"x\":[0.30017877],\"xaxis\":\"x\",\"y\":[0.15301032],\"yaxis\":\"y\",\"type\":\"scatter\"},{\"customdata\":[[6,\"LAFCA\",\"LAFCA\",\"LAFCA\",\"OTHERS\"]],\"hovertemplate\":\"<b>%{hovertext}</b><br><br>Species=%{customdata[1]}<br>pm1=%{x}<br>pm2=%{y}<br>Unnamed: 0=%{customdata[0]}<br>Kingdom=%{customdata[2]}<br>Family=%{customdata[3]}<br>Color_eukaryota=%{customdata[4]}<extra></extra>\",\"hovertext\":[\"LAFCA\"],\"legendgroup\":\"LAFCA\",\"marker\":{\"color\":\"#21e548\",\"symbol\":\"circle\"},\"mode\":\"markers\",\"name\":\"LAFCA\",\"orientation\":\"v\",\"showlegend\":true,\"x\":[-0.6711158],\"xaxis\":\"x\",\"y\":[-0.028322173],\"yaxis\":\"y\",\"type\":\"scatter\"},{\"customdata\":[[7,\"Ovis\",\"Eukaryota\",\"Metazoa\",\"EUKARYOTA\"]],\"hovertemplate\":\"<b>%{hovertext}</b><br><br>Species=%{customdata[1]}<br>pm1=%{x}<br>pm2=%{y}<br>Unnamed: 0=%{customdata[0]}<br>Kingdom=%{customdata[2]}<br>Family=%{customdata[3]}<br>Color_eukaryota=%{customdata[4]}<extra></extra>\",\"hovertext\":[\"Ovis\"],\"legendgroup\":\"Ovis\",\"marker\":{\"color\":\"#21e548\",\"symbol\":\"circle\"},\"mode\":\"markers\",\"name\":\"Ovis\",\"orientation\":\"v\",\"showlegend\":true,\"x\":[-0.84257185],\"xaxis\":\"x\",\"y\":[-0.07941825],\"yaxis\":\"y\",\"type\":\"scatter\"},{\"customdata\":[[8,\"Bos\",\"Eukaryota\",\"Metazoa\",\"EUKARYOTA\"]],\"hovertemplate\":\"<b>%{hovertext}</b><br><br>Species=%{customdata[1]}<br>pm1=%{x}<br>pm2=%{y}<br>Unnamed: 0=%{customdata[0]}<br>Kingdom=%{customdata[2]}<br>Family=%{customdata[3]}<br>Color_eukaryota=%{customdata[4]}<extra></extra>\",\"hovertext\":[\"Bos\"],\"legendgroup\":\"Bos\",\"marker\":{\"color\":\"#21e548\",\"symbol\":\"circle\"},\"mode\":\"markers\",\"name\":\"Bos\",\"orientation\":\"v\",\"showlegend\":true,\"x\":[-0.85646325],\"xaxis\":\"x\",\"y\":[-0.05296301],\"yaxis\":\"y\",\"type\":\"scatter\"},{\"customdata\":[[9,\"Sus\",\"Eukaryota\",\"Metazoa\",\"EUKARYOTA\"]],\"hovertemplate\":\"<b>%{hovertext}</b><br><br>Species=%{customdata[1]}<br>pm1=%{x}<br>pm2=%{y}<br>Unnamed: 0=%{customdata[0]}<br>Kingdom=%{customdata[2]}<br>Family=%{customdata[3]}<br>Color_eukaryota=%{customdata[4]}<extra></extra>\",\"hovertext\":[\"Sus\"],\"legendgroup\":\"Sus\",\"marker\":{\"color\":\"#21e548\",\"symbol\":\"circle\"},\"mode\":\"markers\",\"name\":\"Sus\",\"orientation\":\"v\",\"showlegend\":true,\"x\":[-0.84598905],\"xaxis\":\"x\",\"y\":[-0.0579008],\"yaxis\":\"y\",\"type\":\"scatter\"},{\"customdata\":[[10,\"Equus\",\"Eukaryota\",\"Metazoa\",\"EUKARYOTA\"],[187,\"Equus\",\"Eukaryota\",\"Metazoa\",\"EUKARYOTA\"]],\"hovertemplate\":\"<b>%{hovertext}</b><br><br>Species=%{customdata[1]}<br>pm1=%{x}<br>pm2=%{y}<br>Unnamed: 0=%{customdata[0]}<br>Kingdom=%{customdata[2]}<br>Family=%{customdata[3]}<br>Color_eukaryota=%{customdata[4]}<extra></extra>\",\"hovertext\":[\"Equus\",\"Equus\"],\"legendgroup\":\"Equus\",\"marker\":{\"color\":\"#21e548\",\"symbol\":\"circle\"},\"mode\":\"markers\",\"name\":\"Equus\",\"orientation\":\"v\",\"showlegend\":true,\"x\":[-0.81090814,0.76819754],\"xaxis\":\"x\",\"y\":[-0.08104239,-0.49516883],\"yaxis\":\"y\",\"type\":\"scatter\"},{\"customdata\":[[11,\"Mus\",\"Eukaryota\",\"Metazoa\",\"EUKARYOTA\"]],\"hovertemplate\":\"<b>%{hovertext}</b><br><br>Species=%{customdata[1]}<br>pm1=%{x}<br>pm2=%{y}<br>Unnamed: 0=%{customdata[0]}<br>Kingdom=%{customdata[2]}<br>Family=%{customdata[3]}<br>Color_eukaryota=%{customdata[4]}<extra></extra>\",\"hovertext\":[\"Mus\"],\"legendgroup\":\"Mus\",\"marker\":{\"color\":\"#21e548\",\"symbol\":\"circle\"},\"mode\":\"markers\",\"name\":\"Mus\",\"orientation\":\"v\",\"showlegend\":true,\"x\":[-0.81464094],\"xaxis\":\"x\",\"y\":[-0.029657762],\"yaxis\":\"y\",\"type\":\"scatter\"},{\"customdata\":[[12,\"Rattus\",\"Eukaryota\",\"Metazoa\",\"EUKARYOTA\"]],\"hovertemplate\":\"<b>%{hovertext}</b><br><br>Species=%{customdata[1]}<br>pm1=%{x}<br>pm2=%{y}<br>Unnamed: 0=%{customdata[0]}<br>Kingdom=%{customdata[2]}<br>Family=%{customdata[3]}<br>Color_eukaryota=%{customdata[4]}<extra></extra>\",\"hovertext\":[\"Rattus\"],\"legendgroup\":\"Rattus\",\"marker\":{\"color\":\"#21e548\",\"symbol\":\"circle\"},\"mode\":\"markers\",\"name\":\"Rattus\",\"orientation\":\"v\",\"showlegend\":true,\"x\":[-0.812737],\"xaxis\":\"x\",\"y\":[-0.037687875],\"yaxis\":\"y\",\"type\":\"scatter\"},{\"customdata\":[[13,\"Rabit\",\"Eukaryota\",\"Metazoa\",\"EUKARYOTA\"]],\"hovertemplate\":\"<b>%{hovertext}</b><br><br>Species=%{customdata[1]}<br>pm1=%{x}<br>pm2=%{y}<br>Unnamed: 0=%{customdata[0]}<br>Kingdom=%{customdata[2]}<br>Family=%{customdata[3]}<br>Color_eukaryota=%{customdata[4]}<extra></extra>\",\"hovertext\":[\"Rabit\"],\"legendgroup\":\"Rabit\",\"marker\":{\"color\":\"#21e548\",\"symbol\":\"circle\"},\"mode\":\"markers\",\"name\":\"Rabit\",\"orientation\":\"v\",\"showlegend\":true,\"x\":[-0.8607577],\"xaxis\":\"x\",\"y\":[-0.019577218],\"yaxis\":\"y\",\"type\":\"scatter\"},{\"customdata\":[[14,\"Human\",\"Eukaryota\",\"Metazoa\",\"EUKARYOTA\"]],\"hovertemplate\":\"<b>%{hovertext}</b><br><br>Species=%{customdata[1]}<br>pm1=%{x}<br>pm2=%{y}<br>Unnamed: 0=%{customdata[0]}<br>Kingdom=%{customdata[2]}<br>Family=%{customdata[3]}<br>Color_eukaryota=%{customdata[4]}<extra></extra>\",\"hovertext\":[\"Human\"],\"legendgroup\":\"Human\",\"marker\":{\"color\":\"#21e548\",\"symbol\":\"circle\"},\"mode\":\"markers\",\"name\":\"Human\",\"orientation\":\"v\",\"showlegend\":true,\"x\":[-0.8415084],\"xaxis\":\"x\",\"y\":[-0.04593345],\"yaxis\":\"y\",\"type\":\"scatter\"},{\"customdata\":[[15,\"Ponab\",\"Eukaryota\",\"Metazoa\",\"EUKARYOTA\"]],\"hovertemplate\":\"<b>%{hovertext}</b><br><br>Species=%{customdata[1]}<br>pm1=%{x}<br>pm2=%{y}<br>Unnamed: 0=%{customdata[0]}<br>Kingdom=%{customdata[2]}<br>Family=%{customdata[3]}<br>Color_eukaryota=%{customdata[4]}<extra></extra>\",\"hovertext\":[\"Ponab\"],\"legendgroup\":\"Ponab\",\"marker\":{\"color\":\"#21e548\",\"symbol\":\"circle\"},\"mode\":\"markers\",\"name\":\"Ponab\",\"orientation\":\"v\",\"showlegend\":true,\"x\":[-0.83648366],\"xaxis\":\"x\",\"y\":[-0.019532587],\"yaxis\":\"y\",\"type\":\"scatter\"},{\"customdata\":[[16,\"Macmu\",\"Eukaryota\",\"Metazoa\",\"EUKARYOTA\"]],\"hovertemplate\":\"<b>%{hovertext}</b><br><br>Species=%{customdata[1]}<br>pm1=%{x}<br>pm2=%{y}<br>Unnamed: 0=%{customdata[0]}<br>Kingdom=%{customdata[2]}<br>Family=%{customdata[3]}<br>Color_eukaryota=%{customdata[4]}<extra></extra>\",\"hovertext\":[\"Macmu\"],\"legendgroup\":\"Macmu\",\"marker\":{\"color\":\"#21e548\",\"symbol\":\"circle\"},\"mode\":\"markers\",\"name\":\"Macmu\",\"orientation\":\"v\",\"showlegend\":true,\"x\":[-0.82155627],\"xaxis\":\"x\",\"y\":[-0.061917007],\"yaxis\":\"y\",\"type\":\"scatter\"},{\"customdata\":[[17,\"Callithrix\",\"Eukaryota\",\"Metazoa\",\"EUKARYOTA\"]],\"hovertemplate\":\"<b>%{hovertext}</b><br><br>Species=%{customdata[1]}<br>pm1=%{x}<br>pm2=%{y}<br>Unnamed: 0=%{customdata[0]}<br>Kingdom=%{customdata[2]}<br>Family=%{customdata[3]}<br>Color_eukaryota=%{customdata[4]}<extra></extra>\",\"hovertext\":[\"Callithrix\"],\"legendgroup\":\"Callithrix\",\"marker\":{\"color\":\"#21e548\",\"symbol\":\"circle\"},\"mode\":\"markers\",\"name\":\"Callithrix\",\"orientation\":\"v\",\"showlegend\":true,\"x\":[-0.8227882],\"xaxis\":\"x\",\"y\":[-0.04019381],\"yaxis\":\"y\",\"type\":\"scatter\"},{\"customdata\":[[18,\"Monodelphis\",\"Eukaryota\",\"Metazoa\",\"EUKARYOTA\"]],\"hovertemplate\":\"<b>%{hovertext}</b><br><br>Species=%{customdata[1]}<br>pm1=%{x}<br>pm2=%{y}<br>Unnamed: 0=%{customdata[0]}<br>Kingdom=%{customdata[2]}<br>Family=%{customdata[3]}<br>Color_eukaryota=%{customdata[4]}<extra></extra>\",\"hovertext\":[\"Monodelphis\"],\"legendgroup\":\"Monodelphis\",\"marker\":{\"color\":\"#21e548\",\"symbol\":\"circle\"},\"mode\":\"markers\",\"name\":\"Monodelphis\",\"orientation\":\"v\",\"showlegend\":true,\"x\":[0.7402804],\"xaxis\":\"x\",\"y\":[-0.49634287],\"yaxis\":\"y\",\"type\":\"scatter\"},{\"customdata\":[[19,\"Ornithorhynchus\",\"Eukaryota\",\"Metazoa\",\"EUKARYOTA\"]],\"hovertemplate\":\"<b>%{hovertext}</b><br><br>Species=%{customdata[1]}<br>pm1=%{x}<br>pm2=%{y}<br>Unnamed: 0=%{customdata[0]}<br>Kingdom=%{customdata[2]}<br>Family=%{customdata[3]}<br>Color_eukaryota=%{customdata[4]}<extra></extra>\",\"hovertext\":[\"Ornithorhynchus\"],\"legendgroup\":\"Ornithorhynchus\",\"marker\":{\"color\":\"#21e548\",\"symbol\":\"circle\"},\"mode\":\"markers\",\"name\":\"Ornithorhynchus\",\"orientation\":\"v\",\"showlegend\":true,\"x\":[-0.7869309],\"xaxis\":\"x\",\"y\":[-0.0936573],\"yaxis\":\"y\",\"type\":\"scatter\"},{\"customdata\":[[20,\"Gallus\",\"Eukaryota\",\"Metazoa\",\"EUKARYOTA\"]],\"hovertemplate\":\"<b>%{hovertext}</b><br><br>Species=%{customdata[1]}<br>pm1=%{x}<br>pm2=%{y}<br>Unnamed: 0=%{customdata[0]}<br>Kingdom=%{customdata[2]}<br>Family=%{customdata[3]}<br>Color_eukaryota=%{customdata[4]}<extra></extra>\",\"hovertext\":[\"Gallus\"],\"legendgroup\":\"Gallus\",\"marker\":{\"color\":\"#21e548\",\"symbol\":\"circle\"},\"mode\":\"markers\",\"name\":\"Gallus\",\"orientation\":\"v\",\"showlegend\":true,\"x\":[-0.84328246],\"xaxis\":\"x\",\"y\":[-0.122904055],\"yaxis\":\"y\",\"type\":\"scatter\"},{\"customdata\":[[21,\"Melopsittacus\",\"Eukaryota\",\"Metazoa\",\"EUKARYOTA\"]],\"hovertemplate\":\"<b>%{hovertext}</b><br><br>Species=%{customdata[1]}<br>pm1=%{x}<br>pm2=%{y}<br>Unnamed: 0=%{customdata[0]}<br>Kingdom=%{customdata[2]}<br>Family=%{customdata[3]}<br>Color_eukaryota=%{customdata[4]}<extra></extra>\",\"hovertext\":[\"Melopsittacus\"],\"legendgroup\":\"Melopsittacus\",\"marker\":{\"color\":\"#21e548\",\"symbol\":\"circle\"},\"mode\":\"markers\",\"name\":\"Melopsittacus\",\"orientation\":\"v\",\"showlegend\":true,\"x\":[-0.8308515],\"xaxis\":\"x\",\"y\":[-0.12267471],\"yaxis\":\"y\",\"type\":\"scatter\"},{\"customdata\":[[22,\"Ophiophagus\",\"Eukaryota\",\"Metazoa\",\"EUKARYOTA\"]],\"hovertemplate\":\"<b>%{hovertext}</b><br><br>Species=%{customdata[1]}<br>pm1=%{x}<br>pm2=%{y}<br>Unnamed: 0=%{customdata[0]}<br>Kingdom=%{customdata[2]}<br>Family=%{customdata[3]}<br>Color_eukaryota=%{customdata[4]}<extra></extra>\",\"hovertext\":[\"Ophiophagus\"],\"legendgroup\":\"Ophiophagus\",\"marker\":{\"color\":\"#21e548\",\"symbol\":\"circle\"},\"mode\":\"markers\",\"name\":\"Ophiophagus\",\"orientation\":\"v\",\"showlegend\":true,\"x\":[-0.82625085],\"xaxis\":\"x\",\"y\":[-0.1080902],\"yaxis\":\"y\",\"type\":\"scatter\"},{\"customdata\":[[23,\"Xenopus\",\"Eukaryota\",\"Metazoa\",\"EUKARYOTA\"]],\"hovertemplate\":\"<b>%{hovertext}</b><br><br>Species=%{customdata[1]}<br>pm1=%{x}<br>pm2=%{y}<br>Unnamed: 0=%{customdata[0]}<br>Kingdom=%{customdata[2]}<br>Family=%{customdata[3]}<br>Color_eukaryota=%{customdata[4]}<extra></extra>\",\"hovertext\":[\"Xenopus\"],\"legendgroup\":\"Xenopus\",\"marker\":{\"color\":\"#21e548\",\"symbol\":\"circle\"},\"mode\":\"markers\",\"name\":\"Xenopus\",\"orientation\":\"v\",\"showlegend\":true,\"x\":[-0.7864245],\"xaxis\":\"x\",\"y\":[-0.15429442],\"yaxis\":\"y\",\"type\":\"scatter\"},{\"customdata\":[[24,\"Tetraodon\",\"Eukaryota\",\"Metazoa\",\"EUKARYOTA\"]],\"hovertemplate\":\"<b>%{hovertext}</b><br><br>Species=%{customdata[1]}<br>pm1=%{x}<br>pm2=%{y}<br>Unnamed: 0=%{customdata[0]}<br>Kingdom=%{customdata[2]}<br>Family=%{customdata[3]}<br>Color_eukaryota=%{customdata[4]}<extra></extra>\",\"hovertext\":[\"Tetraodon\"],\"legendgroup\":\"Tetraodon\",\"marker\":{\"color\":\"#21e548\",\"symbol\":\"circle\"},\"mode\":\"markers\",\"name\":\"Tetraodon\",\"orientation\":\"v\",\"showlegend\":true,\"x\":[-0.74686414],\"xaxis\":\"x\",\"y\":[-0.15780155],\"yaxis\":\"y\",\"type\":\"scatter\"},{\"customdata\":[[25,\"Ictalurus\",\"Eukaryota\",\"Metazoa\",\"EUKARYOTA\"]],\"hovertemplate\":\"<b>%{hovertext}</b><br><br>Species=%{customdata[1]}<br>pm1=%{x}<br>pm2=%{y}<br>Unnamed: 0=%{customdata[0]}<br>Kingdom=%{customdata[2]}<br>Family=%{customdata[3]}<br>Color_eukaryota=%{customdata[4]}<extra></extra>\",\"hovertext\":[\"Ictalurus\"],\"legendgroup\":\"Ictalurus\",\"marker\":{\"color\":\"#21e548\",\"symbol\":\"circle\"},\"mode\":\"markers\",\"name\":\"Ictalurus\",\"orientation\":\"v\",\"showlegend\":true,\"x\":[-0.7774597],\"xaxis\":\"x\",\"y\":[-0.18446364],\"yaxis\":\"y\",\"type\":\"scatter\"},{\"customdata\":[[26,\"Danio\",\"Eukaryota\",\"Metazoa\",\"EUKARYOTA\"]],\"hovertemplate\":\"<b>%{hovertext}</b><br><br>Species=%{customdata[1]}<br>pm1=%{x}<br>pm2=%{y}<br>Unnamed: 0=%{customdata[0]}<br>Kingdom=%{customdata[2]}<br>Family=%{customdata[3]}<br>Color_eukaryota=%{customdata[4]}<extra></extra>\",\"hovertext\":[\"Danio\"],\"legendgroup\":\"Danio\",\"marker\":{\"color\":\"#21e548\",\"symbol\":\"circle\"},\"mode\":\"markers\",\"name\":\"Danio\",\"orientation\":\"v\",\"showlegend\":true,\"x\":[-0.7198608],\"xaxis\":\"x\",\"y\":[-0.15570429],\"yaxis\":\"y\",\"type\":\"scatter\"},{\"customdata\":[[27,\"Drosophila\",\"Eukaryota\",\"Metazoa\",\"EUKARYOTA\"],[28,\"Drosophila\",\"Eukaryota\",\"Metazoa\",\"EUKARYOTA\"],[29,\"Drosophila\",\"Eukaryota\",\"Metazoa\",\"EUKARYOTA\"]],\"hovertemplate\":\"<b>%{hovertext}</b><br><br>Species=%{customdata[1]}<br>pm1=%{x}<br>pm2=%{y}<br>Unnamed: 0=%{customdata[0]}<br>Kingdom=%{customdata[2]}<br>Family=%{customdata[3]}<br>Color_eukaryota=%{customdata[4]}<extra></extra>\",\"hovertext\":[\"Drosophila\",\"Drosophila\",\"Drosophila\"],\"legendgroup\":\"Drosophila\",\"marker\":{\"color\":\"#21e548\",\"symbol\":\"circle\"},\"mode\":\"markers\",\"name\":\"Drosophila\",\"orientation\":\"v\",\"showlegend\":true,\"x\":[-0.75331324,-0.748439,-0.7313381],\"xaxis\":\"x\",\"y\":[-0.5310014,-0.5475899,-0.5524903],\"yaxis\":\"y\",\"type\":\"scatter\"},{\"customdata\":[[30,\"Apis\",\"Eukaryota\",\"Metazoa\",\"EUKARYOTA\"]],\"hovertemplate\":\"<b>%{hovertext}</b><br><br>Species=%{customdata[1]}<br>pm1=%{x}<br>pm2=%{y}<br>Unnamed: 0=%{customdata[0]}<br>Kingdom=%{customdata[2]}<br>Family=%{customdata[3]}<br>Color_eukaryota=%{customdata[4]}<extra></extra>\",\"hovertext\":[\"Apis\"],\"legendgroup\":\"Apis\",\"marker\":{\"color\":\"#21e548\",\"symbol\":\"circle\"},\"mode\":\"markers\",\"name\":\"Apis\",\"orientation\":\"v\",\"showlegend\":true,\"x\":[-0.74180365],\"xaxis\":\"x\",\"y\":[-0.5190686],\"yaxis\":\"y\",\"type\":\"scatter\"},{\"customdata\":[[31,\"Tribolium\",\"Eukaryota\",\"Metazoa\",\"EUKARYOTA\"]],\"hovertemplate\":\"<b>%{hovertext}</b><br><br>Species=%{customdata[1]}<br>pm1=%{x}<br>pm2=%{y}<br>Unnamed: 0=%{customdata[0]}<br>Kingdom=%{customdata[2]}<br>Family=%{customdata[3]}<br>Color_eukaryota=%{customdata[4]}<extra></extra>\",\"hovertext\":[\"Tribolium\"],\"legendgroup\":\"Tribolium\",\"marker\":{\"color\":\"#21e548\",\"symbol\":\"circle\"},\"mode\":\"markers\",\"name\":\"Tribolium\",\"orientation\":\"v\",\"showlegend\":true,\"x\":[-0.73487693],\"xaxis\":\"x\",\"y\":[-0.5304727],\"yaxis\":\"y\",\"type\":\"scatter\"},{\"customdata\":[[32,\"Bombyx\",\"Eukaryota\",\"Metazoa\",\"EUKARYOTA\"]],\"hovertemplate\":\"<b>%{hovertext}</b><br><br>Species=%{customdata[1]}<br>pm1=%{x}<br>pm2=%{y}<br>Unnamed: 0=%{customdata[0]}<br>Kingdom=%{customdata[2]}<br>Family=%{customdata[3]}<br>Color_eukaryota=%{customdata[4]}<extra></extra>\",\"hovertext\":[\"Bombyx\"],\"legendgroup\":\"Bombyx\",\"marker\":{\"color\":\"#21e548\",\"symbol\":\"circle\"},\"mode\":\"markers\",\"name\":\"Bombyx\",\"orientation\":\"v\",\"showlegend\":true,\"x\":[-0.7247355],\"xaxis\":\"x\",\"y\":[-0.53849876],\"yaxis\":\"y\",\"type\":\"scatter\"},{\"customdata\":[[33,\"Graphocephala\",\"Eukaryota\",\"Metazoa\",\"EUKARYOTA\"]],\"hovertemplate\":\"<b>%{hovertext}</b><br><br>Species=%{customdata[1]}<br>pm1=%{x}<br>pm2=%{y}<br>Unnamed: 0=%{customdata[0]}<br>Kingdom=%{customdata[2]}<br>Family=%{customdata[3]}<br>Color_eukaryota=%{customdata[4]}<extra></extra>\",\"hovertext\":[\"Graphocephala\"],\"legendgroup\":\"Graphocephala\",\"marker\":{\"color\":\"#21e548\",\"symbol\":\"circle\"},\"mode\":\"markers\",\"name\":\"Graphocephala\",\"orientation\":\"v\",\"showlegend\":true,\"x\":[-0.7247921],\"xaxis\":\"x\",\"y\":[-0.49430734],\"yaxis\":\"y\",\"type\":\"scatter\"},{\"customdata\":[[34,\"Litopenaeus\",\"Eukaryota\",\"Metazoa\",\"EUKARYOTA\"]],\"hovertemplate\":\"<b>%{hovertext}</b><br><br>Species=%{customdata[1]}<br>pm1=%{x}<br>pm2=%{y}<br>Unnamed: 0=%{customdata[0]}<br>Kingdom=%{customdata[2]}<br>Family=%{customdata[3]}<br>Color_eukaryota=%{customdata[4]}<extra></extra>\",\"hovertext\":[\"Litopenaeus\"],\"legendgroup\":\"Litopenaeus\",\"marker\":{\"color\":\"#21e548\",\"symbol\":\"circle\"},\"mode\":\"markers\",\"name\":\"Litopenaeus\",\"orientation\":\"v\",\"showlegend\":true,\"x\":[-0.7117707],\"xaxis\":\"x\",\"y\":[-0.5291109],\"yaxis\":\"y\",\"type\":\"scatter\"},{\"customdata\":[[35,\"Geocy\",\"Eukaryota\",\"Metazoa\",\"EUKARYOTA\"]],\"hovertemplate\":\"<b>%{hovertext}</b><br><br>Species=%{customdata[1]}<br>pm1=%{x}<br>pm2=%{y}<br>Unnamed: 0=%{customdata[0]}<br>Kingdom=%{customdata[2]}<br>Family=%{customdata[3]}<br>Color_eukaryota=%{customdata[4]}<extra></extra>\",\"hovertext\":[\"Geocy\"],\"legendgroup\":\"Geocy\",\"marker\":{\"color\":\"#21e548\",\"symbol\":\"circle\"},\"mode\":\"markers\",\"name\":\"Geocy\",\"orientation\":\"v\",\"showlegend\":true,\"x\":[-0.6954949],\"xaxis\":\"x\",\"y\":[-0.2996023],\"yaxis\":\"y\",\"type\":\"scatter\"},{\"customdata\":[[36,\"Aspergillus\",\"Eukaryota\",\"Fungi\",\"EUKARYOTA\"],[38,\"Aspergillus\",\"Eukaryota\",\"Fungi\",\"EUKARYOTA\"],[39,\"Aspergillus\",\"Eukaryota\",\"Fungi\",\"EUKARYOTA\"]],\"hovertemplate\":\"<b>%{hovertext}</b><br><br>Species=%{customdata[1]}<br>pm1=%{x}<br>pm2=%{y}<br>Unnamed: 0=%{customdata[0]}<br>Kingdom=%{customdata[2]}<br>Family=%{customdata[3]}<br>Color_eukaryota=%{customdata[4]}<extra></extra>\",\"hovertext\":[\"Aspergillus\",\"Aspergillus\",\"Aspergillus\"],\"legendgroup\":\"Aspergillus\",\"marker\":{\"color\":\"#1fb995\",\"symbol\":\"circle\"},\"mode\":\"markers\",\"name\":\"Aspergillus\",\"orientation\":\"v\",\"showlegend\":true,\"x\":[-0.6810791,-0.73197603,-0.73390985],\"xaxis\":\"x\",\"y\":[0.11914146,0.19756268,0.21699464],\"yaxis\":\"y\",\"type\":\"scatter\"},{\"customdata\":[[37,\"Neosartorya\",\"Eukaryota\",\"Fungi\",\"EUKARYOTA\"]],\"hovertemplate\":\"<b>%{hovertext}</b><br><br>Species=%{customdata[1]}<br>pm1=%{x}<br>pm2=%{y}<br>Unnamed: 0=%{customdata[0]}<br>Kingdom=%{customdata[2]}<br>Family=%{customdata[3]}<br>Color_eukaryota=%{customdata[4]}<extra></extra>\",\"hovertext\":[\"Neosartorya\"],\"legendgroup\":\"Neosartorya\",\"marker\":{\"color\":\"#1fb995\",\"symbol\":\"circle\"},\"mode\":\"markers\",\"name\":\"Neosartorya\",\"orientation\":\"v\",\"showlegend\":true,\"x\":[-0.7521039],\"xaxis\":\"x\",\"y\":[0.16425893],\"yaxis\":\"y\",\"type\":\"scatter\"},{\"customdata\":[[40,\"Pichia\",\"Eukaryota\",\"Fungi\",\"EUKARYOTA\"],[42,\"Pichia\",\"Eukaryota\",\"Fungi\",\"EUKARYOTA\"]],\"hovertemplate\":\"<b>%{hovertext}</b><br><br>Species=%{customdata[1]}<br>pm1=%{x}<br>pm2=%{y}<br>Unnamed: 0=%{customdata[0]}<br>Kingdom=%{customdata[2]}<br>Family=%{customdata[3]}<br>Color_eukaryota=%{customdata[4]}<extra></extra>\",\"hovertext\":[\"Pichia\",\"Pichia\"],\"legendgroup\":\"Pichia\",\"marker\":{\"color\":\"#1fb995\",\"symbol\":\"circle\"},\"mode\":\"markers\",\"name\":\"Pichia\",\"orientation\":\"v\",\"showlegend\":true,\"x\":[-0.57037693,-0.66944695],\"xaxis\":\"x\",\"y\":[-0.13791098,0.19888036],\"yaxis\":\"y\",\"type\":\"scatter\"},{\"customdata\":[[41,\"Candida\",\"Eukaryota\",\"Fungi\",\"EUKARYOTA\"],[45,\"Candida\",\"Eukaryota\",\"Fungi\",\"EUKARYOTA\"]],\"hovertemplate\":\"<b>%{hovertext}</b><br><br>Species=%{customdata[1]}<br>pm1=%{x}<br>pm2=%{y}<br>Unnamed: 0=%{customdata[0]}<br>Kingdom=%{customdata[2]}<br>Family=%{customdata[3]}<br>Color_eukaryota=%{customdata[4]}<extra></extra>\",\"hovertext\":[\"Candida\",\"Candida\"],\"legendgroup\":\"Candida\",\"marker\":{\"color\":\"#1fb995\",\"symbol\":\"circle\"},\"mode\":\"markers\",\"name\":\"Candida\",\"orientation\":\"v\",\"showlegend\":true,\"x\":[-0.62652355,-0.60802054],\"xaxis\":\"x\",\"y\":[0.2946659,0.26075897],\"yaxis\":\"y\",\"type\":\"scatter\"},{\"customdata\":[[43,\"Kluyveromyces\",\"Eukaryota\",\"Fungi\",\"EUKARYOTA\"]],\"hovertemplate\":\"<b>%{hovertext}</b><br><br>Species=%{customdata[1]}<br>pm1=%{x}<br>pm2=%{y}<br>Unnamed: 0=%{customdata[0]}<br>Kingdom=%{customdata[2]}<br>Family=%{customdata[3]}<br>Color_eukaryota=%{customdata[4]}<extra></extra>\",\"hovertext\":[\"Kluyveromyces\"],\"legendgroup\":\"Kluyveromyces\",\"marker\":{\"color\":\"#1fb995\",\"symbol\":\"circle\"},\"mode\":\"markers\",\"name\":\"Kluyveromyces\",\"orientation\":\"v\",\"showlegend\":true,\"x\":[-0.615969],\"xaxis\":\"x\",\"y\":[0.23958886],\"yaxis\":\"y\",\"type\":\"scatter\"},{\"customdata\":[[44,\"Saccharomyces\",\"Eukaryota\",\"Fungi\",\"EUKARYOTA\"],[46,\"Saccharomyces\",\"Eukaryota\",\"Fungi\",\"EUKARYOTA\"]],\"hovertemplate\":\"<b>%{hovertext}</b><br><br>Species=%{customdata[1]}<br>pm1=%{x}<br>pm2=%{y}<br>Unnamed: 0=%{customdata[0]}<br>Kingdom=%{customdata[2]}<br>Family=%{customdata[3]}<br>Color_eukaryota=%{customdata[4]}<extra></extra>\",\"hovertext\":[\"Saccharomyces\",\"Saccharomyces\"],\"legendgroup\":\"Saccharomyces\",\"marker\":{\"color\":\"#1fb995\",\"symbol\":\"circle\"},\"mode\":\"markers\",\"name\":\"Saccharomyces\",\"orientation\":\"v\",\"showlegend\":true,\"x\":[-0.6591339,-0.6525111],\"xaxis\":\"x\",\"y\":[0.29400313,0.25796384],\"yaxis\":\"y\",\"type\":\"scatter\"},{\"customdata\":[[47,\"Schizosaccharomyces\",\"Eukaryota\",\"Fungi\",\"EUKARYOTA\"]],\"hovertemplate\":\"<b>%{hovertext}</b><br><br>Species=%{customdata[1]}<br>pm1=%{x}<br>pm2=%{y}<br>Unnamed: 0=%{customdata[0]}<br>Kingdom=%{customdata[2]}<br>Family=%{customdata[3]}<br>Color_eukaryota=%{customdata[4]}<extra></extra>\",\"hovertext\":[\"Schizosaccharomyces\"],\"legendgroup\":\"Schizosaccharomyces\",\"marker\":{\"color\":\"#1fb995\",\"symbol\":\"circle\"},\"mode\":\"markers\",\"name\":\"Schizosaccharomyces\",\"orientation\":\"v\",\"showlegend\":true,\"x\":[-0.7071143],\"xaxis\":\"x\",\"y\":[0.16122662],\"yaxis\":\"y\",\"type\":\"scatter\"},{\"customdata\":[[48,\"Monosiga\",\"Eukaryota\",\"Choanoflagellata\",\"EUKARYOTA\"]],\"hovertemplate\":\"<b>%{hovertext}</b><br><br>Species=%{customdata[1]}<br>pm1=%{x}<br>pm2=%{y}<br>Unnamed: 0=%{customdata[0]}<br>Kingdom=%{customdata[2]}<br>Family=%{customdata[3]}<br>Color_eukaryota=%{customdata[4]}<extra></extra>\",\"hovertext\":[\"Monosiga\"],\"legendgroup\":\"Monosiga\",\"marker\":{\"color\":\"#21e548\",\"symbol\":\"circle\"},\"mode\":\"markers\",\"name\":\"Monosiga\",\"orientation\":\"v\",\"showlegend\":true,\"x\":[-0.6314559],\"xaxis\":\"x\",\"y\":[-0.0709549],\"yaxis\":\"y\",\"type\":\"scatter\"},{\"customdata\":[[49,\"Entamoeba\",\"Eukaryota\",\"Amoebozoa\",\"EUKARYOTA\"]],\"hovertemplate\":\"<b>%{hovertext}</b><br><br>Species=%{customdata[1]}<br>pm1=%{x}<br>pm2=%{y}<br>Unnamed: 0=%{customdata[0]}<br>Kingdom=%{customdata[2]}<br>Family=%{customdata[3]}<br>Color_eukaryota=%{customdata[4]}<extra></extra>\",\"hovertext\":[\"Entamoeba\"],\"legendgroup\":\"Entamoeba\",\"marker\":{\"color\":\"#21e548\",\"symbol\":\"circle\"},\"mode\":\"markers\",\"name\":\"Entamoeba\",\"orientation\":\"v\",\"showlegend\":true,\"x\":[-0.756797],\"xaxis\":\"x\",\"y\":[-0.19151846],\"yaxis\":\"y\",\"type\":\"scatter\"},{\"customdata\":[[50,\"Dictyostelium\",\"Eukaryota\",\"Amoebozoa\",\"EUKARYOTA\"]],\"hovertemplate\":\"<b>%{hovertext}</b><br><br>Species=%{customdata[1]}<br>pm1=%{x}<br>pm2=%{y}<br>Unnamed: 0=%{customdata[0]}<br>Kingdom=%{customdata[2]}<br>Family=%{customdata[3]}<br>Color_eukaryota=%{customdata[4]}<extra></extra>\",\"hovertext\":[\"Dictyostelium\"],\"legendgroup\":\"Dictyostelium\",\"marker\":{\"color\":\"#21e548\",\"symbol\":\"circle\"},\"mode\":\"markers\",\"name\":\"Dictyostelium\",\"orientation\":\"v\",\"showlegend\":true,\"x\":[-0.7026959],\"xaxis\":\"x\",\"y\":[-0.113642864],\"yaxis\":\"y\",\"type\":\"scatter\"},{\"customdata\":[[51,\"Arabidopsis\",\"Eukaryota\",\"Viridiplantae\",\"EUKARYOTA\"],[52,\"Arabidopsis\",\"Eukaryota\",\"Viridiplantae\",\"EUKARYOTA\"]],\"hovertemplate\":\"<b>%{hovertext}</b><br><br>Species=%{customdata[1]}<br>pm1=%{x}<br>pm2=%{y}<br>Unnamed: 0=%{customdata[0]}<br>Kingdom=%{customdata[2]}<br>Family=%{customdata[3]}<br>Color_eukaryota=%{customdata[4]}<extra></extra>\",\"hovertext\":[\"Arabidopsis\",\"Arabidopsis\"],\"legendgroup\":\"Arabidopsis\",\"marker\":{\"color\":\"#06f9d4\",\"symbol\":\"circle\"},\"mode\":\"markers\",\"name\":\"Arabidopsis\",\"orientation\":\"v\",\"showlegend\":true,\"x\":[0.86114365,0.84289294],\"xaxis\":\"x\",\"y\":[0.20506479,0.2193647],\"yaxis\":\"y\",\"type\":\"scatter\"},{\"customdata\":[[53,\"Limonium\",\"Eukaryota\",\"Viridiplantae\",\"EUKARYOTA\"]],\"hovertemplate\":\"<b>%{hovertext}</b><br><br>Species=%{customdata[1]}<br>pm1=%{x}<br>pm2=%{y}<br>Unnamed: 0=%{customdata[0]}<br>Kingdom=%{customdata[2]}<br>Family=%{customdata[3]}<br>Color_eukaryota=%{customdata[4]}<extra></extra>\",\"hovertext\":[\"Limonium\"],\"legendgroup\":\"Limonium\",\"marker\":{\"color\":\"#c7c7c7\",\"symbol\":\"circle\"},\"mode\":\"markers\",\"name\":\"Limonium\",\"orientation\":\"v\",\"showlegend\":true,\"x\":[0.86750895],\"xaxis\":\"x\",\"y\":[0.24155946],\"yaxis\":\"y\",\"type\":\"scatter\"},{\"customdata\":[[54,\"Zea\",\"Eukaryota\",\"Viridiplantae\",\"EUKARYOTA\"]],\"hovertemplate\":\"<b>%{hovertext}</b><br><br>Species=%{customdata[1]}<br>pm1=%{x}<br>pm2=%{y}<br>Unnamed: 0=%{customdata[0]}<br>Kingdom=%{customdata[2]}<br>Family=%{customdata[3]}<br>Color_eukaryota=%{customdata[4]}<extra></extra>\",\"hovertext\":[\"Zea\"],\"legendgroup\":\"Zea\",\"marker\":{\"color\":\"#c7c7c7\",\"symbol\":\"circle\"},\"mode\":\"markers\",\"name\":\"Zea\",\"orientation\":\"v\",\"showlegend\":true,\"x\":[0.8898363],\"xaxis\":\"x\",\"y\":[0.26888776],\"yaxis\":\"y\",\"type\":\"scatter\"},{\"customdata\":[[55,\"Vitis\",\"Eukaryota\",\"Viridiplantae\",\"EUKARYOTA\"]],\"hovertemplate\":\"<b>%{hovertext}</b><br><br>Species=%{customdata[1]}<br>pm1=%{x}<br>pm2=%{y}<br>Unnamed: 0=%{customdata[0]}<br>Kingdom=%{customdata[2]}<br>Family=%{customdata[3]}<br>Color_eukaryota=%{customdata[4]}<extra></extra>\",\"hovertext\":[\"Vitis\"],\"legendgroup\":\"Vitis\",\"marker\":{\"color\":\"#c7c7c7\",\"symbol\":\"circle\"},\"mode\":\"markers\",\"name\":\"Vitis\",\"orientation\":\"v\",\"showlegend\":true,\"x\":[0.874268],\"xaxis\":\"x\",\"y\":[0.26825014],\"yaxis\":\"y\",\"type\":\"scatter\"},{\"customdata\":[[56,\"Ostreococcus\",\"Eukaryota\",\"Viridiplantae\",\"EUKARYOTA\"]],\"hovertemplate\":\"<b>%{hovertext}</b><br><br>Species=%{customdata[1]}<br>pm1=%{x}<br>pm2=%{y}<br>Unnamed: 0=%{customdata[0]}<br>Kingdom=%{customdata[2]}<br>Family=%{customdata[3]}<br>Color_eukaryota=%{customdata[4]}<extra></extra>\",\"hovertext\":[\"Ostreococcus\"],\"legendgroup\":\"Ostreococcus\",\"marker\":{\"color\":\"#b5e521\",\"symbol\":\"circle\"},\"mode\":\"markers\",\"name\":\"Ostreococcus\",\"orientation\":\"v\",\"showlegend\":true,\"x\":[-0.71635604],\"xaxis\":\"x\",\"y\":[-0.026540766],\"yaxis\":\"y\",\"type\":\"scatter\"},{\"customdata\":[[57,\"Helicosporidium\",\"Eukaryota\",\"Viridiplantae\",\"EUKARYOTA\"]],\"hovertemplate\":\"<b>%{hovertext}</b><br><br>Species=%{customdata[1]}<br>pm1=%{x}<br>pm2=%{y}<br>Unnamed: 0=%{customdata[0]}<br>Kingdom=%{customdata[2]}<br>Family=%{customdata[3]}<br>Color_eukaryota=%{customdata[4]}<extra></extra>\",\"hovertext\":[\"Helicosporidium\"],\"legendgroup\":\"Helicosporidium\",\"marker\":{\"color\":\"#b5e521\",\"symbol\":\"circle\"},\"mode\":\"markers\",\"name\":\"Helicosporidium\",\"orientation\":\"v\",\"showlegend\":true,\"x\":[-0.7375467],\"xaxis\":\"x\",\"y\":[-0.07159258],\"yaxis\":\"y\",\"type\":\"scatter\"},{\"customdata\":[[58,\"Fagopyrum\",\"Eukaryota\",\"Viridiplantae\",\"EUKARYOTA\"]],\"hovertemplate\":\"<b>%{hovertext}</b><br><br>Species=%{customdata[1]}<br>pm1=%{x}<br>pm2=%{y}<br>Unnamed: 0=%{customdata[0]}<br>Kingdom=%{customdata[2]}<br>Family=%{customdata[3]}<br>Color_eukaryota=%{customdata[4]}<extra></extra>\",\"hovertext\":[\"Fagopyrum\"],\"legendgroup\":\"Fagopyrum\",\"marker\":{\"color\":\"#b5e521\",\"symbol\":\"circle\"},\"mode\":\"markers\",\"name\":\"Fagopyrum\",\"orientation\":\"v\",\"showlegend\":true,\"x\":[-0.6551419],\"xaxis\":\"x\",\"y\":[0.062075492],\"yaxis\":\"y\",\"type\":\"scatter\"},{\"customdata\":[[59,\"Cryptosporidium\",\"Eukaryota\",\"Alveolata\",\"EUKARYOTA\"]],\"hovertemplate\":\"<b>%{hovertext}</b><br><br>Species=%{customdata[1]}<br>pm1=%{x}<br>pm2=%{y}<br>Unnamed: 0=%{customdata[0]}<br>Kingdom=%{customdata[2]}<br>Family=%{customdata[3]}<br>Color_eukaryota=%{customdata[4]}<extra></extra>\",\"hovertext\":[\"Cryptosporidium\"],\"legendgroup\":\"Cryptosporidium\",\"marker\":{\"color\":\"#21e548\",\"symbol\":\"circle\"},\"mode\":\"markers\",\"name\":\"Cryptosporidium\",\"orientation\":\"v\",\"showlegend\":true,\"x\":[-0.6249803],\"xaxis\":\"x\",\"y\":[0.21035507],\"yaxis\":\"y\",\"type\":\"scatter\"},{\"customdata\":[[60,\"Theileria\",\"Eukaryota\",\"Sar\",\"EUKARYOTA\"]],\"hovertemplate\":\"<b>%{hovertext}</b><br><br>Species=%{customdata[1]}<br>pm1=%{x}<br>pm2=%{y}<br>Unnamed: 0=%{customdata[0]}<br>Kingdom=%{customdata[2]}<br>Family=%{customdata[3]}<br>Color_eukaryota=%{customdata[4]}<extra></extra>\",\"hovertext\":[\"Theileria\"],\"legendgroup\":\"Theileria\",\"marker\":{\"color\":\"#21e548\",\"symbol\":\"circle\"},\"mode\":\"markers\",\"name\":\"Theileria\",\"orientation\":\"v\",\"showlegend\":true,\"x\":[-0.81088555],\"xaxis\":\"x\",\"y\":[0.0577559],\"yaxis\":\"y\",\"type\":\"scatter\"},{\"customdata\":[[61,\"Plasmodium\",\"Eukaryota\",\"Alveolata\",\"EUKARYOTA\"]],\"hovertemplate\":\"<b>%{hovertext}</b><br><br>Species=%{customdata[1]}<br>pm1=%{x}<br>pm2=%{y}<br>Unnamed: 0=%{customdata[0]}<br>Kingdom=%{customdata[2]}<br>Family=%{customdata[3]}<br>Color_eukaryota=%{customdata[4]}<extra></extra>\",\"hovertext\":[\"Plasmodium\"],\"legendgroup\":\"Plasmodium\",\"marker\":{\"color\":\"#21e548\",\"symbol\":\"circle\"},\"mode\":\"markers\",\"name\":\"Plasmodium\",\"orientation\":\"v\",\"showlegend\":true,\"x\":[-0.731728],\"xaxis\":\"x\",\"y\":[0.076384],\"yaxis\":\"y\",\"type\":\"scatter\"},{\"customdata\":[[62,\"Archaeoglobus\",\"Archaea\",\"Euryarchaeota\",\"OTHERS\"],[76,\"Archaeoglobus\",\"Archaea\",\"Euryarchaeota\",\"OTHERS\"]],\"hovertemplate\":\"<b>%{hovertext}</b><br><br>Species=%{customdata[1]}<br>pm1=%{x}<br>pm2=%{y}<br>Unnamed: 0=%{customdata[0]}<br>Kingdom=%{customdata[2]}<br>Family=%{customdata[3]}<br>Color_eukaryota=%{customdata[4]}<extra></extra>\",\"hovertext\":[\"Archaeoglobus\",\"Archaeoglobus\"],\"legendgroup\":\"Archaeoglobus\",\"marker\":{\"color\":\"#ff0000\",\"symbol\":\"circle\"},\"mode\":\"markers\",\"name\":\"Archaeoglobus\",\"orientation\":\"v\",\"showlegend\":true,\"x\":[0.20612599,0.116339475],\"xaxis\":\"x\",\"y\":[-0.008712659,-0.0476018],\"yaxis\":\"y\",\"type\":\"scatter\"},{\"customdata\":[[63,\"Methanosaeta\",\"Archaea\",\"Euryarchaeota\",\"OTHERS\"],[70,\"Methanosaeta\",\"Archaea\",\"Euryarchaeota\",\"OTHERS\"]],\"hovertemplate\":\"<b>%{hovertext}</b><br><br>Species=%{customdata[1]}<br>pm1=%{x}<br>pm2=%{y}<br>Unnamed: 0=%{customdata[0]}<br>Kingdom=%{customdata[2]}<br>Family=%{customdata[3]}<br>Color_eukaryota=%{customdata[4]}<extra></extra>\",\"hovertext\":[\"Methanosaeta\",\"Methanosaeta\"],\"legendgroup\":\"Methanosaeta\",\"marker\":{\"color\":\"#ff0000\",\"symbol\":\"circle\"},\"mode\":\"markers\",\"name\":\"Methanosaeta\",\"orientation\":\"v\",\"showlegend\":true,\"x\":[0.1019516,0.37916875],\"xaxis\":\"x\",\"y\":[-0.18376373,0.08937337],\"yaxis\":\"y\",\"type\":\"scatter\"},{\"customdata\":[[64,\"Methanococcoides\",\"Archaea\",\"Euryarchaeota\",\"OTHERS\"]],\"hovertemplate\":\"<b>%{hovertext}</b><br><br>Species=%{customdata[1]}<br>pm1=%{x}<br>pm2=%{y}<br>Unnamed: 0=%{customdata[0]}<br>Kingdom=%{customdata[2]}<br>Family=%{customdata[3]}<br>Color_eukaryota=%{customdata[4]}<extra></extra>\",\"hovertext\":[\"Methanococcoides\"],\"legendgroup\":\"Methanococcoides\",\"marker\":{\"color\":\"#ff0000\",\"symbol\":\"circle\"},\"mode\":\"markers\",\"name\":\"Methanococcoides\",\"orientation\":\"v\",\"showlegend\":true,\"x\":[0.03265355],\"xaxis\":\"x\",\"y\":[-0.2033935],\"yaxis\":\"y\",\"type\":\"scatter\"},{\"customdata\":[[65,\"Candidatus\",\"Archaea\",\"Euryarchaeota\",\"OTHERS\"]],\"hovertemplate\":\"<b>%{hovertext}</b><br><br>Species=%{customdata[1]}<br>pm1=%{x}<br>pm2=%{y}<br>Unnamed: 0=%{customdata[0]}<br>Kingdom=%{customdata[2]}<br>Family=%{customdata[3]}<br>Color_eukaryota=%{customdata[4]}<extra></extra>\",\"hovertext\":[\"Candidatus\"],\"legendgroup\":\"Candidatus\",\"marker\":{\"color\":\"#ff0000\",\"symbol\":\"circle\"},\"mode\":\"markers\",\"name\":\"Candidatus\",\"orientation\":\"v\",\"showlegend\":true,\"x\":[0.17626055],\"xaxis\":\"x\",\"y\":[-0.09225356],\"yaxis\":\"y\",\"type\":\"scatter\"},{\"customdata\":[[66,\"Methanospirillum\",\"Archaea\",\"Euryarchaeota\",\"OTHERS\"]],\"hovertemplate\":\"<b>%{hovertext}</b><br><br>Species=%{customdata[1]}<br>pm1=%{x}<br>pm2=%{y}<br>Unnamed: 0=%{customdata[0]}<br>Kingdom=%{customdata[2]}<br>Family=%{customdata[3]}<br>Color_eukaryota=%{customdata[4]}<extra></extra>\",\"hovertext\":[\"Methanospirillum\"],\"legendgroup\":\"Methanospirillum\",\"marker\":{\"color\":\"#ff0000\",\"symbol\":\"circle\"},\"mode\":\"markers\",\"name\":\"Methanospirillum\",\"orientation\":\"v\",\"showlegend\":true,\"x\":[0.17642745],\"xaxis\":\"x\",\"y\":[-0.09174974],\"yaxis\":\"y\",\"type\":\"scatter\"},{\"customdata\":[[67,\"Picrophilus\",\"Archaea\",\"Euryarchaeota\",\"OTHERS\"]],\"hovertemplate\":\"<b>%{hovertext}</b><br><br>Species=%{customdata[1]}<br>pm1=%{x}<br>pm2=%{y}<br>Unnamed: 0=%{customdata[0]}<br>Kingdom=%{customdata[2]}<br>Family=%{customdata[3]}<br>Color_eukaryota=%{customdata[4]}<extra></extra>\",\"hovertext\":[\"Picrophilus\"],\"legendgroup\":\"Picrophilus\",\"marker\":{\"color\":\"#ff0000\",\"symbol\":\"circle\"},\"mode\":\"markers\",\"name\":\"Picrophilus\",\"orientation\":\"v\",\"showlegend\":true,\"x\":[-0.053208943],\"xaxis\":\"x\",\"y\":[-0.3469995],\"yaxis\":\"y\",\"type\":\"scatter\"},{\"customdata\":[[68,\"Methanococcus\",\"Archaea\",\"Euryarchaeota\",\"OTHERS\"]],\"hovertemplate\":\"<b>%{hovertext}</b><br><br>Species=%{customdata[1]}<br>pm1=%{x}<br>pm2=%{y}<br>Unnamed: 0=%{customdata[0]}<br>Kingdom=%{customdata[2]}<br>Family=%{customdata[3]}<br>Color_eukaryota=%{customdata[4]}<extra></extra>\",\"hovertext\":[\"Methanococcus\"],\"legendgroup\":\"Methanococcus\",\"marker\":{\"color\":\"#ff0000\",\"symbol\":\"circle\"},\"mode\":\"markers\",\"name\":\"Methanococcus\",\"orientation\":\"v\",\"showlegend\":true,\"x\":[-0.06653563],\"xaxis\":\"x\",\"y\":[0.21421278],\"yaxis\":\"y\",\"type\":\"scatter\"},{\"customdata\":[[69,\"Methanocorpusculum\",\"Archaea\",\"Euryarchaeota\",\"OTHERS\"]],\"hovertemplate\":\"<b>%{hovertext}</b><br><br>Species=%{customdata[1]}<br>pm1=%{x}<br>pm2=%{y}<br>Unnamed: 0=%{customdata[0]}<br>Kingdom=%{customdata[2]}<br>Family=%{customdata[3]}<br>Color_eukaryota=%{customdata[4]}<extra></extra>\",\"hovertext\":[\"Methanocorpusculum\"],\"legendgroup\":\"Methanocorpusculum\",\"marker\":{\"color\":\"#ff0000\",\"symbol\":\"circle\"},\"mode\":\"markers\",\"name\":\"Methanocorpusculum\",\"orientation\":\"v\",\"showlegend\":true,\"x\":[0.327191],\"xaxis\":\"x\",\"y\":[0.046584513],\"yaxis\":\"y\",\"type\":\"scatter\"},{\"customdata\":[[71,\"Natronomonas\",\"Archaea\",\"Euryarchaeota\",\"OTHERS\"],[74,\"Natronomonas\",\"Archaea\",\"Euryarchaeota\",\"OTHERS\"]],\"hovertemplate\":\"<b>%{hovertext}</b><br><br>Species=%{customdata[1]}<br>pm1=%{x}<br>pm2=%{y}<br>Unnamed: 0=%{customdata[0]}<br>Kingdom=%{customdata[2]}<br>Family=%{customdata[3]}<br>Color_eukaryota=%{customdata[4]}<extra></extra>\",\"hovertext\":[\"Natronomonas\",\"Natronomonas\"],\"legendgroup\":\"Natronomonas\",\"marker\":{\"color\":\"#ff0000\",\"symbol\":\"circle\"},\"mode\":\"markers\",\"name\":\"Natronomonas\",\"orientation\":\"v\",\"showlegend\":true,\"x\":[-0.08388916,-0.040630043],\"xaxis\":\"x\",\"y\":[0.7302229,0.7244389],\"yaxis\":\"y\",\"type\":\"scatter\"},{\"customdata\":[[72,\"Haloquadratum\",\"Archaea\",\"Euryarchaeota\",\"OTHERS\"]],\"hovertemplate\":\"<b>%{hovertext}</b><br><br>Species=%{customdata[1]}<br>pm1=%{x}<br>pm2=%{y}<br>Unnamed: 0=%{customdata[0]}<br>Kingdom=%{customdata[2]}<br>Family=%{customdata[3]}<br>Color_eukaryota=%{customdata[4]}<extra></extra>\",\"hovertext\":[\"Haloquadratum\"],\"legendgroup\":\"Haloquadratum\",\"marker\":{\"color\":\"#ff0000\",\"symbol\":\"circle\"},\"mode\":\"markers\",\"name\":\"Haloquadratum\",\"orientation\":\"v\",\"showlegend\":true,\"x\":[-0.089336336],\"xaxis\":\"x\",\"y\":[0.74159443],\"yaxis\":\"y\",\"type\":\"scatter\"},{\"customdata\":[[73,\"Haloarcula\",\"Archaea\",\"Euryarchaeota\",\"OTHERS\"]],\"hovertemplate\":\"<b>%{hovertext}</b><br><br>Species=%{customdata[1]}<br>pm1=%{x}<br>pm2=%{y}<br>Unnamed: 0=%{customdata[0]}<br>Kingdom=%{customdata[2]}<br>Family=%{customdata[3]}<br>Color_eukaryota=%{customdata[4]}<extra></extra>\",\"hovertext\":[\"Haloarcula\"],\"legendgroup\":\"Haloarcula\",\"marker\":{\"color\":\"#ff0000\",\"symbol\":\"circle\"},\"mode\":\"markers\",\"name\":\"Haloarcula\",\"orientation\":\"v\",\"showlegend\":true,\"x\":[-0.09375717],\"xaxis\":\"x\",\"y\":[0.7322303],\"yaxis\":\"y\",\"type\":\"scatter\"},{\"customdata\":[[75,\"Halobacterium\",\"Archaea\",\"Euryarchaeota\",\"OTHERS\"]],\"hovertemplate\":\"<b>%{hovertext}</b><br><br>Species=%{customdata[1]}<br>pm1=%{x}<br>pm2=%{y}<br>Unnamed: 0=%{customdata[0]}<br>Kingdom=%{customdata[2]}<br>Family=%{customdata[3]}<br>Color_eukaryota=%{customdata[4]}<extra></extra>\",\"hovertext\":[\"Halobacterium\"],\"legendgroup\":\"Halobacterium\",\"marker\":{\"color\":\"#ff0000\",\"symbol\":\"circle\"},\"mode\":\"markers\",\"name\":\"Halobacterium\",\"orientation\":\"v\",\"showlegend\":true,\"x\":[-0.07796227],\"xaxis\":\"x\",\"y\":[0.736704],\"yaxis\":\"y\",\"type\":\"scatter\"},{\"customdata\":[[77,\"Thermoplasma\",\"Archaea\",\"Euryarchaeota\",\"OTHERS\"]],\"hovertemplate\":\"<b>%{hovertext}</b><br><br>Species=%{customdata[1]}<br>pm1=%{x}<br>pm2=%{y}<br>Unnamed: 0=%{customdata[0]}<br>Kingdom=%{customdata[2]}<br>Family=%{customdata[3]}<br>Color_eukaryota=%{customdata[4]}<extra></extra>\",\"hovertext\":[\"Thermoplasma\"],\"legendgroup\":\"Thermoplasma\",\"marker\":{\"color\":\"#ff0000\",\"symbol\":\"circle\"},\"mode\":\"markers\",\"name\":\"Thermoplasma\",\"orientation\":\"v\",\"showlegend\":true,\"x\":[0.08195666],\"xaxis\":\"x\",\"y\":[0.042008072],\"yaxis\":\"y\",\"type\":\"scatter\"},{\"customdata\":[[78,\"Thermofilum\",\"Archaea\",\"Crenarchaeota\",\"OTHERS\"]],\"hovertemplate\":\"<b>%{hovertext}</b><br><br>Species=%{customdata[1]}<br>pm1=%{x}<br>pm2=%{y}<br>Unnamed: 0=%{customdata[0]}<br>Kingdom=%{customdata[2]}<br>Family=%{customdata[3]}<br>Color_eukaryota=%{customdata[4]}<extra></extra>\",\"hovertext\":[\"Thermofilum\"],\"legendgroup\":\"Thermofilum\",\"marker\":{\"color\":\"#ff0000\",\"symbol\":\"circle\"},\"mode\":\"markers\",\"name\":\"Thermofilum\",\"orientation\":\"v\",\"showlegend\":true,\"x\":[0.26498067],\"xaxis\":\"x\",\"y\":[-0.08041127],\"yaxis\":\"y\",\"type\":\"scatter\"},{\"customdata\":[[79,\"Caldivirga\",\"Archaea\",\"Crenarchaeota\",\"OTHERS\"]],\"hovertemplate\":\"<b>%{hovertext}</b><br><br>Species=%{customdata[1]}<br>pm1=%{x}<br>pm2=%{y}<br>Unnamed: 0=%{customdata[0]}<br>Kingdom=%{customdata[2]}<br>Family=%{customdata[3]}<br>Color_eukaryota=%{customdata[4]}<extra></extra>\",\"hovertext\":[\"Caldivirga\"],\"legendgroup\":\"Caldivirga\",\"marker\":{\"color\":\"#ff0000\",\"symbol\":\"circle\"},\"mode\":\"markers\",\"name\":\"Caldivirga\",\"orientation\":\"v\",\"showlegend\":true,\"x\":[0.01931581],\"xaxis\":\"x\",\"y\":[-0.35878596],\"yaxis\":\"y\",\"type\":\"scatter\"},{\"customdata\":[[80,\"Sulfolobus\",\"Archaea\",\"Crenarchaeota\",\"OTHERS\"],[81,\"Sulfolobus\",\"Archaea\",\"Crenarchaeota\",\"OTHERS\"],[82,\"Sulfolobus\",\"Archaea\",\"Crenarchaeota\",\"OTHERS\"],[86,\"Sulfolobus\",\"Archaea\",\"Crenarchaeota\",\"OTHERS\"],[87,\"Sulfolobus\",\"Archaea\",\"Crenarchaeota\",\"OTHERS\"]],\"hovertemplate\":\"<b>%{hovertext}</b><br><br>Species=%{customdata[1]}<br>pm1=%{x}<br>pm2=%{y}<br>Unnamed: 0=%{customdata[0]}<br>Kingdom=%{customdata[2]}<br>Family=%{customdata[3]}<br>Color_eukaryota=%{customdata[4]}<extra></extra>\",\"hovertext\":[\"Sulfolobus\",\"Sulfolobus\",\"Sulfolobus\",\"Sulfolobus\",\"Sulfolobus\"],\"legendgroup\":\"Sulfolobus\",\"marker\":{\"color\":\"#ff0000\",\"symbol\":\"circle\"},\"mode\":\"markers\",\"name\":\"Sulfolobus\",\"orientation\":\"v\",\"showlegend\":true,\"x\":[-0.04182314,-0.03586334,-0.041493356,0.15933071,0.17678572],\"xaxis\":\"x\",\"y\":[-0.34749103,-0.3330807,-0.34721553,-0.2983674,-0.3205516],\"yaxis\":\"y\",\"type\":\"scatter\"},{\"customdata\":[[83,\"Hyperthermus\",\"Archaea\",\"Crenarchaeota\",\"OTHERS\"]],\"hovertemplate\":\"<b>%{hovertext}</b><br><br>Species=%{customdata[1]}<br>pm1=%{x}<br>pm2=%{y}<br>Unnamed: 0=%{customdata[0]}<br>Kingdom=%{customdata[2]}<br>Family=%{customdata[3]}<br>Color_eukaryota=%{customdata[4]}<extra></extra>\",\"hovertext\":[\"Hyperthermus\"],\"legendgroup\":\"Hyperthermus\",\"marker\":{\"color\":\"#ff0000\",\"symbol\":\"circle\"},\"mode\":\"markers\",\"name\":\"Hyperthermus\",\"orientation\":\"v\",\"showlegend\":true,\"x\":[0.15418682],\"xaxis\":\"x\",\"y\":[-0.34671915],\"yaxis\":\"y\",\"type\":\"scatter\"},{\"customdata\":[[84,\"Aeropyrum\",\"Archaea\",\"Crenarchaeota\",\"OTHERS\"],[89,\"Aeropyrum\",\"Archaea\",\"Crenarchaeota\",\"OTHERS\"]],\"hovertemplate\":\"<b>%{hovertext}</b><br><br>Species=%{customdata[1]}<br>pm1=%{x}<br>pm2=%{y}<br>Unnamed: 0=%{customdata[0]}<br>Kingdom=%{customdata[2]}<br>Family=%{customdata[3]}<br>Color_eukaryota=%{customdata[4]}<extra></extra>\",\"hovertext\":[\"Aeropyrum\",\"Aeropyrum\"],\"legendgroup\":\"Aeropyrum\",\"marker\":{\"color\":\"#ff0000\",\"symbol\":\"circle\"},\"mode\":\"markers\",\"name\":\"Aeropyrum\",\"orientation\":\"v\",\"showlegend\":true,\"x\":[0.16320363,0.2932314],\"xaxis\":\"x\",\"y\":[-0.3447164,-0.32630885],\"yaxis\":\"y\",\"type\":\"scatter\"},{\"customdata\":[[85,\"Metallosphaera\",\"Archaea\",\"Crenarchaeota\",\"OTHERS\"]],\"hovertemplate\":\"<b>%{hovertext}</b><br><br>Species=%{customdata[1]}<br>pm1=%{x}<br>pm2=%{y}<br>Unnamed: 0=%{customdata[0]}<br>Kingdom=%{customdata[2]}<br>Family=%{customdata[3]}<br>Color_eukaryota=%{customdata[4]}<extra></extra>\",\"hovertext\":[\"Metallosphaera\"],\"legendgroup\":\"Metallosphaera\",\"marker\":{\"color\":\"#ff0000\",\"symbol\":\"circle\"},\"mode\":\"markers\",\"name\":\"Metallosphaera\",\"orientation\":\"v\",\"showlegend\":true,\"x\":[0.19525325],\"xaxis\":\"x\",\"y\":[-0.3226127],\"yaxis\":\"y\",\"type\":\"scatter\"},{\"customdata\":[[88,\"Staphylothermus\",\"Archaea\",\"Crenarchaeota\",\"OTHERS\"]],\"hovertemplate\":\"<b>%{hovertext}</b><br><br>Species=%{customdata[1]}<br>pm1=%{x}<br>pm2=%{y}<br>Unnamed: 0=%{customdata[0]}<br>Kingdom=%{customdata[2]}<br>Family=%{customdata[3]}<br>Color_eukaryota=%{customdata[4]}<extra></extra>\",\"hovertext\":[\"Staphylothermus\"],\"legendgroup\":\"Staphylothermus\",\"marker\":{\"color\":\"#ff0000\",\"symbol\":\"circle\"},\"mode\":\"markers\",\"name\":\"Staphylothermus\",\"orientation\":\"v\",\"showlegend\":true,\"x\":[0.22604832],\"xaxis\":\"x\",\"y\":[-0.3818146],\"yaxis\":\"y\",\"type\":\"scatter\"},{\"customdata\":[[90,\"Clostridium\",\"Bacteria\",\"Firmicutes\",\"OTHERS\"],[107,\"Clostridium\",\"Bacteria\",\"Firmicutes\",\"OTHERS\"],[108,\"Clostridium\",\"Bacteria\",\"Firmicutes\",\"OTHERS\"],[109,\"Clostridium\",\"Bacteria\",\"Firmicutes\",\"OTHERS\"],[110,\"Clostridium\",\"Bacteria\",\"Firmicutes\",\"OTHERS\"]],\"hovertemplate\":\"<b>%{hovertext}</b><br><br>Species=%{customdata[1]}<br>pm1=%{x}<br>pm2=%{y}<br>Unnamed: 0=%{customdata[0]}<br>Kingdom=%{customdata[2]}<br>Family=%{customdata[3]}<br>Color_eukaryota=%{customdata[4]}<extra></extra>\",\"hovertext\":[\"Clostridium\",\"Clostridium\",\"Clostridium\",\"Clostridium\",\"Clostridium\"],\"legendgroup\":\"Clostridium\",\"marker\":{\"color\":\"#34b8e7\",\"symbol\":\"circle\"},\"mode\":\"markers\",\"name\":\"Clostridium\",\"orientation\":\"v\",\"showlegend\":true,\"x\":[0.5040069,0.063876815,-0.013105983,0.084597155,0.11514125],\"xaxis\":\"x\",\"y\":[0.09392761,0.09200823,0.25174934,0.07977303,0.024093062],\"yaxis\":\"y\",\"type\":\"scatter\"},{\"customdata\":[[91,\"Thermoanaerobacter\",\"Bacteria\",\"Firmicutes\",\"OTHERS\"],[111,\"Thermoanaerobacter\",\"Bacteria\",\"Firmicutes\",\"OTHERS\"]],\"hovertemplate\":\"<b>%{hovertext}</b><br><br>Species=%{customdata[1]}<br>pm1=%{x}<br>pm2=%{y}<br>Unnamed: 0=%{customdata[0]}<br>Kingdom=%{customdata[2]}<br>Family=%{customdata[3]}<br>Color_eukaryota=%{customdata[4]}<extra></extra>\",\"hovertext\":[\"Thermoanaerobacter\",\"Thermoanaerobacter\"],\"legendgroup\":\"Thermoanaerobacter\",\"marker\":{\"color\":\"#34b8e7\",\"symbol\":\"circle\"},\"mode\":\"markers\",\"name\":\"Thermoanaerobacter\",\"orientation\":\"v\",\"showlegend\":true,\"x\":[-0.24493484,0.43812075],\"xaxis\":\"x\",\"y\":[-0.130921,0.011051653],\"yaxis\":\"y\",\"type\":\"scatter\"},{\"customdata\":[[92,\"Bacillus\",\"Bacteria\",\"Firmicutes\",\"OTHERS\"],[93,\"Bacillus\",\"Bacteria\",\"Firmicutes\",\"OTHERS\"],[101,\"Bacillus\",\"Bacteria\",\"Firmicutes\",\"OTHERS\"],[102,\"Bacillus\",\"Bacteria\",\"Firmicutes\",\"OTHERS\"]],\"hovertemplate\":\"<b>%{hovertext}</b><br><br>Species=%{customdata[1]}<br>pm1=%{x}<br>pm2=%{y}<br>Unnamed: 0=%{customdata[0]}<br>Kingdom=%{customdata[2]}<br>Family=%{customdata[3]}<br>Color_eukaryota=%{customdata[4]}<extra></extra>\",\"hovertext\":[\"Bacillus\",\"Bacillus\",\"Bacillus\",\"Bacillus\"],\"legendgroup\":\"Bacillus\",\"marker\":{\"color\":\"#34b8e7\",\"symbol\":\"circle\"},\"mode\":\"markers\",\"name\":\"Bacillus\",\"orientation\":\"v\",\"showlegend\":true,\"x\":[0.47298962,-0.4425568,-0.10979977,-0.05422822],\"xaxis\":\"x\",\"y\":[0.55816126,0.38143396,0.31256753,0.3042654],\"yaxis\":\"y\",\"type\":\"scatter\"},{\"customdata\":[[94,\"Streptococcus\",\"Bacteria\",\"Firmicutes\",\"OTHERS\"],[106,\"Streptococcus\",\"Bacteria\",\"Firmicutes\",\"OTHERS\"]],\"hovertemplate\":\"<b>%{hovertext}</b><br><br>Species=%{customdata[1]}<br>pm1=%{x}<br>pm2=%{y}<br>Unnamed: 0=%{customdata[0]}<br>Kingdom=%{customdata[2]}<br>Family=%{customdata[3]}<br>Color_eukaryota=%{customdata[4]}<extra></extra>\",\"hovertext\":[\"Streptococcus\",\"Streptococcus\"],\"legendgroup\":\"Streptococcus\",\"marker\":{\"color\":\"#34b8e7\",\"symbol\":\"circle\"},\"mode\":\"markers\",\"name\":\"Streptococcus\",\"orientation\":\"v\",\"showlegend\":true,\"x\":[-0.4460212,-0.05905825],\"xaxis\":\"x\",\"y\":[0.1790247,0.37204617],\"yaxis\":\"y\",\"type\":\"scatter\"},{\"customdata\":[[95,\"Enterococcus\",\"Bacteria\",\"Firmicutes\",\"OTHERS\"],[105,\"Enterococcus\",\"Bacteria\",\"Firmicutes\",\"OTHERS\"]],\"hovertemplate\":\"<b>%{hovertext}</b><br><br>Species=%{customdata[1]}<br>pm1=%{x}<br>pm2=%{y}<br>Unnamed: 0=%{customdata[0]}<br>Kingdom=%{customdata[2]}<br>Family=%{customdata[3]}<br>Color_eukaryota=%{customdata[4]}<extra></extra>\",\"hovertext\":[\"Enterococcus\",\"Enterococcus\"],\"legendgroup\":\"Enterococcus\",\"marker\":{\"color\":\"#34b8e7\",\"symbol\":\"circle\"},\"mode\":\"markers\",\"name\":\"Enterococcus\",\"orientation\":\"v\",\"showlegend\":true,\"x\":[-0.5066077,-0.06099645],\"xaxis\":\"x\",\"y\":[0.000974581,0.3718005],\"yaxis\":\"y\",\"type\":\"scatter\"},{\"customdata\":[[96,\"Listeria\",\"Bacteria\",\"Firmicutes\",\"OTHERS\"],[104,\"Listeria\",\"Bacteria\",\"Firmicutes\",\"OTHERS\"]],\"hovertemplate\":\"<b>%{hovertext}</b><br><br>Species=%{customdata[1]}<br>pm1=%{x}<br>pm2=%{y}<br>Unnamed: 0=%{customdata[0]}<br>Kingdom=%{customdata[2]}<br>Family=%{customdata[3]}<br>Color_eukaryota=%{customdata[4]}<extra></extra>\",\"hovertext\":[\"Listeria\",\"Listeria\"],\"legendgroup\":\"Listeria\",\"marker\":{\"color\":\"#34b8e7\",\"symbol\":\"circle\"},\"mode\":\"markers\",\"name\":\"Listeria\",\"orientation\":\"v\",\"showlegend\":true,\"x\":[0.11591191,-0.06273006],\"xaxis\":\"x\",\"y\":[0.5759956,0.366412],\"yaxis\":\"y\",\"type\":\"scatter\"},{\"customdata\":[[97,\"Lactobacillus\",\"Bacteria\",\"Firmicutes\",\"OTHERS\"],[98,\"Lactobacillus\",\"Bacteria\",\"Firmicutes\",\"OTHERS\"],[103,\"Lactobacillus\",\"Bacteria\",\"Firmicutes\",\"OTHERS\"]],\"hovertemplate\":\"<b>%{hovertext}</b><br><br>Species=%{customdata[1]}<br>pm1=%{x}<br>pm2=%{y}<br>Unnamed: 0=%{customdata[0]}<br>Kingdom=%{customdata[2]}<br>Family=%{customdata[3]}<br>Color_eukaryota=%{customdata[4]}<extra></extra>\",\"hovertext\":[\"Lactobacillus\",\"Lactobacillus\",\"Lactobacillus\"],\"legendgroup\":\"Lactobacillus\",\"marker\":{\"color\":\"#34b8e7\",\"symbol\":\"circle\"},\"mode\":\"markers\",\"name\":\"Lactobacillus\",\"orientation\":\"v\",\"showlegend\":true,\"x\":[0.0354625,0.0060688993,-0.061798874],\"xaxis\":\"x\",\"y\":[0.06129074,0.16969559,0.371079],\"yaxis\":\"y\",\"type\":\"scatter\"},{\"customdata\":[[99,\"Staphylococcus\",\"Bacteria\",\"Firmicutes\",\"OTHERS\"]],\"hovertemplate\":\"<b>%{hovertext}</b><br><br>Species=%{customdata[1]}<br>pm1=%{x}<br>pm2=%{y}<br>Unnamed: 0=%{customdata[0]}<br>Kingdom=%{customdata[2]}<br>Family=%{customdata[3]}<br>Color_eukaryota=%{customdata[4]}<extra></extra>\",\"hovertext\":[\"Staphylococcus\"],\"legendgroup\":\"Staphylococcus\",\"marker\":{\"color\":\"#34b8e7\",\"symbol\":\"circle\"},\"mode\":\"markers\",\"name\":\"Staphylococcus\",\"orientation\":\"v\",\"showlegend\":true,\"x\":[0.038903914],\"xaxis\":\"x\",\"y\":[0.27638572],\"yaxis\":\"y\",\"type\":\"scatter\"},{\"customdata\":[[100,\"Geobacillus\",\"Bacteria\",\"Firmicutes\",\"OTHERS\"]],\"hovertemplate\":\"<b>%{hovertext}</b><br><br>Species=%{customdata[1]}<br>pm1=%{x}<br>pm2=%{y}<br>Unnamed: 0=%{customdata[0]}<br>Kingdom=%{customdata[2]}<br>Family=%{customdata[3]}<br>Color_eukaryota=%{customdata[4]}<extra></extra>\",\"hovertext\":[\"Geobacillus\"],\"legendgroup\":\"Geobacillus\",\"marker\":{\"color\":\"#34b8e7\",\"symbol\":\"circle\"},\"mode\":\"markers\",\"name\":\"Geobacillus\",\"orientation\":\"v\",\"showlegend\":true,\"x\":[-0.015153],\"xaxis\":\"x\",\"y\":[0.30931202],\"yaxis\":\"y\",\"type\":\"scatter\"},{\"customdata\":[[112,\"Chlamydia\",\"Bacteria\",\"Chlamydiae\",\"OTHERS\"]],\"hovertemplate\":\"<b>%{hovertext}</b><br><br>Species=%{customdata[1]}<br>pm1=%{x}<br>pm2=%{y}<br>Unnamed: 0=%{customdata[0]}<br>Kingdom=%{customdata[2]}<br>Family=%{customdata[3]}<br>Color_eukaryota=%{customdata[4]}<extra></extra>\",\"hovertext\":[\"Chlamydia\"],\"legendgroup\":\"Chlamydia\",\"marker\":{\"color\":\"#34b8e7\",\"symbol\":\"circle\"},\"mode\":\"markers\",\"name\":\"Chlamydia\",\"orientation\":\"v\",\"showlegend\":true,\"x\":[-0.10606117],\"xaxis\":\"x\",\"y\":[0.6046432],\"yaxis\":\"y\",\"type\":\"scatter\"},{\"customdata\":[[113,\"Chlamydophila\",\"Bacteria\",\"Chlamydiae\",\"OTHERS\"]],\"hovertemplate\":\"<b>%{hovertext}</b><br><br>Species=%{customdata[1]}<br>pm1=%{x}<br>pm2=%{y}<br>Unnamed: 0=%{customdata[0]}<br>Kingdom=%{customdata[2]}<br>Family=%{customdata[3]}<br>Color_eukaryota=%{customdata[4]}<extra></extra>\",\"hovertext\":[\"Chlamydophila\"],\"legendgroup\":\"Chlamydophila\",\"marker\":{\"color\":\"#34b8e7\",\"symbol\":\"circle\"},\"mode\":\"markers\",\"name\":\"Chlamydophila\",\"orientation\":\"v\",\"showlegend\":true,\"x\":[-0.25023285],\"xaxis\":\"x\",\"y\":[0.4392662],\"yaxis\":\"y\",\"type\":\"scatter\"},{\"customdata\":[[114,\"Chlorobium\",\"Bacteria\",\"Chlorobi\",\"OTHERS\"],[115,\"Chlorobium\",\"Bacteria\",\"Chlorobi\",\"OTHERS\"]],\"hovertemplate\":\"<b>%{hovertext}</b><br><br>Species=%{customdata[1]}<br>pm1=%{x}<br>pm2=%{y}<br>Unnamed: 0=%{customdata[0]}<br>Kingdom=%{customdata[2]}<br>Family=%{customdata[3]}<br>Color_eukaryota=%{customdata[4]}<extra></extra>\",\"hovertext\":[\"Chlorobium\",\"Chlorobium\"],\"legendgroup\":\"Chlorobium\",\"marker\":{\"color\":\"#34b8e7\",\"symbol\":\"circle\"},\"mode\":\"markers\",\"name\":\"Chlorobium\",\"orientation\":\"v\",\"showlegend\":true,\"x\":[0.60114247,0.2567983],\"xaxis\":\"x\",\"y\":[0.21378578,0.03459018],\"yaxis\":\"y\",\"type\":\"scatter\"},{\"customdata\":[[116,\"Bacteroides\",\"Bacteria\",\"Bacteroidetes\",\"OTHERS\"],[119,\"Bacteroides\",\"Bacteria\",\"Bacteroidetes\",\"OTHERS\"],[120,\"Bacteroides\",\"Bacteria\",\"Bacteroidetes\",\"OTHERS\"],[122,\"Bacteroides\",\"Bacteria\",\"Bacteroidetes\",\"OTHERS\"],[123,\"Bacteroides\",\"Bacteria\",\"Bacteroidetes\",\"OTHERS\"]],\"hovertemplate\":\"<b>%{hovertext}</b><br><br>Species=%{customdata[1]}<br>pm1=%{x}<br>pm2=%{y}<br>Unnamed: 0=%{customdata[0]}<br>Kingdom=%{customdata[2]}<br>Family=%{customdata[3]}<br>Color_eukaryota=%{customdata[4]}<extra></extra>\",\"hovertext\":[\"Bacteroides\",\"Bacteroides\",\"Bacteroides\",\"Bacteroides\",\"Bacteroides\"],\"legendgroup\":\"Bacteroides\",\"marker\":{\"color\":\"#34b8e7\",\"symbol\":\"circle\"},\"mode\":\"markers\",\"name\":\"Bacteroides\",\"orientation\":\"v\",\"showlegend\":true,\"x\":[0.47989705,0.3692386,0.19888364,0.14345936,0.14294769],\"xaxis\":\"x\",\"y\":[0.15902598,-0.13635924,0.4285746,0.25527,0.2555792],\"yaxis\":\"y\",\"type\":\"scatter\"},{\"customdata\":[[117,\"Flavobacterium\",\"Bacteria\",\"Bacteroidetes\",\"OTHERS\"]],\"hovertemplate\":\"<b>%{hovertext}</b><br><br>Species=%{customdata[1]}<br>pm1=%{x}<br>pm2=%{y}<br>Unnamed: 0=%{customdata[0]}<br>Kingdom=%{customdata[2]}<br>Family=%{customdata[3]}<br>Color_eukaryota=%{customdata[4]}<extra></extra>\",\"hovertext\":[\"Flavobacterium\"],\"legendgroup\":\"Flavobacterium\",\"marker\":{\"color\":\"#34b8e7\",\"symbol\":\"circle\"},\"mode\":\"markers\",\"name\":\"Flavobacterium\",\"orientation\":\"v\",\"showlegend\":true,\"x\":[0.40690038],\"xaxis\":\"x\",\"y\":[-0.08747836],\"yaxis\":\"y\",\"type\":\"scatter\"},{\"customdata\":[[118,\"Porphyromonas\",\"Bacteria\",\"Bacteroidetes\",\"OTHERS\"],[121,\"Porphyromonas\",\"Bacteria\",\"Bacteroidetes\",\"OTHERS\"]],\"hovertemplate\":\"<b>%{hovertext}</b><br><br>Species=%{customdata[1]}<br>pm1=%{x}<br>pm2=%{y}<br>Unnamed: 0=%{customdata[0]}<br>Kingdom=%{customdata[2]}<br>Family=%{customdata[3]}<br>Color_eukaryota=%{customdata[4]}<extra></extra>\",\"hovertext\":[\"Porphyromonas\",\"Porphyromonas\"],\"legendgroup\":\"Porphyromonas\",\"marker\":{\"color\":\"#34b8e7\",\"symbol\":\"circle\"},\"mode\":\"markers\",\"name\":\"Porphyromonas\",\"orientation\":\"v\",\"showlegend\":true,\"x\":[0.41359827,0.16267529],\"xaxis\":\"x\",\"y\":[-0.18823919,0.29109663],\"yaxis\":\"y\",\"type\":\"scatter\"},{\"customdata\":[[124,\"Rhodopirellula\",\"Bacteria\",\"Planctomycetes\",\"OTHERS\"],[125,\"Rhodopirellula\",\"Bacteria\",\"Planctomycetes\",\"OTHERS\"]],\"hovertemplate\":\"<b>%{hovertext}</b><br><br>Species=%{customdata[1]}<br>pm1=%{x}<br>pm2=%{y}<br>Unnamed: 0=%{customdata[0]}<br>Kingdom=%{customdata[2]}<br>Family=%{customdata[3]}<br>Color_eukaryota=%{customdata[4]}<extra></extra>\",\"hovertext\":[\"Rhodopirellula\",\"Rhodopirellula\"],\"legendgroup\":\"Rhodopirellula\",\"marker\":{\"color\":\"#34b8e7\",\"symbol\":\"circle\"},\"mode\":\"markers\",\"name\":\"Rhodopirellula\",\"orientation\":\"v\",\"showlegend\":true,\"x\":[0.25462425,0.39238596],\"xaxis\":\"x\",\"y\":[0.21689159,0.2696938],\"yaxis\":\"y\",\"type\":\"scatter\"},{\"customdata\":[[126,\"Mycobacterium\",\"Bacteria\",\"Actinobacteria\",\"OTHERS\"],[127,\"Mycobacterium\",\"Bacteria\",\"Actinobacteria\",\"OTHERS\"],[132,\"Mycobacterium\",\"Bacteria\",\"Actinobacteria\",\"OTHERS\"],[136,\"Mycobacterium\",\"Bacteria\",\"Actinobacteria\",\"OTHERS\"]],\"hovertemplate\":\"<b>%{hovertext}</b><br><br>Species=%{customdata[1]}<br>pm1=%{x}<br>pm2=%{y}<br>Unnamed: 0=%{customdata[0]}<br>Kingdom=%{customdata[2]}<br>Family=%{customdata[3]}<br>Color_eukaryota=%{customdata[4]}<extra></extra>\",\"hovertext\":[\"Mycobacterium\",\"Mycobacterium\",\"Mycobacterium\",\"Mycobacterium\"],\"legendgroup\":\"Mycobacterium\",\"marker\":{\"color\":\"#34b8e7\",\"symbol\":\"circle\"},\"mode\":\"markers\",\"name\":\"Mycobacterium\",\"orientation\":\"v\",\"showlegend\":true,\"x\":[0.20937082,0.17825927,0.5082831,0.4763313],\"xaxis\":\"x\",\"y\":[-0.8875581,-0.8909619,0.29434073,0.30756667],\"yaxis\":\"y\",\"type\":\"scatter\"},{\"customdata\":[[128,\"Corynebacterium\",\"Bacteria\",\"Actinobacteria\",\"OTHERS\"],[134,\"Corynebacterium\",\"Bacteria\",\"Actinobacteria\",\"OTHERS\"]],\"hovertemplate\":\"<b>%{hovertext}</b><br><br>Species=%{customdata[1]}<br>pm1=%{x}<br>pm2=%{y}<br>Unnamed: 0=%{customdata[0]}<br>Kingdom=%{customdata[2]}<br>Family=%{customdata[3]}<br>Color_eukaryota=%{customdata[4]}<extra></extra>\",\"hovertext\":[\"Corynebacterium\",\"Corynebacterium\"],\"legendgroup\":\"Corynebacterium\",\"marker\":{\"color\":\"#34b8e7\",\"symbol\":\"circle\"},\"mode\":\"markers\",\"name\":\"Corynebacterium\",\"orientation\":\"v\",\"showlegend\":true,\"x\":[0.18820812,0.36676648],\"xaxis\":\"x\",\"y\":[-0.8699052,0.02289036],\"yaxis\":\"y\",\"type\":\"scatter\"},{\"customdata\":[[129,\"Thermobifida\",\"Bacteria\",\"Actinobacteria\",\"OTHERS\"],[131,\"Thermobifida\",\"Bacteria\",\"Actinobacteria\",\"OTHERS\"],[137,\"Thermobifida\",\"Bacteria\",\"Actinobacteria\",\"OTHERS\"]],\"hovertemplate\":\"<b>%{hovertext}</b><br><br>Species=%{customdata[1]}<br>pm1=%{x}<br>pm2=%{y}<br>Unnamed: 0=%{customdata[0]}<br>Kingdom=%{customdata[2]}<br>Family=%{customdata[3]}<br>Color_eukaryota=%{customdata[4]}<extra></extra>\",\"hovertext\":[\"Thermobifida\",\"Thermobifida\",\"Thermobifida\"],\"legendgroup\":\"Thermobifida\",\"marker\":{\"color\":\"#34b8e7\",\"symbol\":\"circle\"},\"mode\":\"markers\",\"name\":\"Thermobifida\",\"orientation\":\"v\",\"showlegend\":true,\"x\":[0.18943547,0.22331685,0.43697983],\"xaxis\":\"x\",\"y\":[-0.8181566,-0.84322137,0.3889018],\"yaxis\":\"y\",\"type\":\"scatter\"},{\"customdata\":[[130,\"Streptomyces\",\"Bacteria\",\"Actinobacteria\",\"OTHERS\"],[133,\"Streptomyces\",\"Bacteria\",\"Actinobacteria\",\"OTHERS\"],[135,\"Streptomyces\",\"Bacteria\",\"Actinobacteria\",\"OTHERS\"],[138,\"Streptomyces\",\"Bacteria\",\"Actinobacteria\",\"OTHERS\"]],\"hovertemplate\":\"<b>%{hovertext}</b><br><br>Species=%{customdata[1]}<br>pm1=%{x}<br>pm2=%{y}<br>Unnamed: 0=%{customdata[0]}<br>Kingdom=%{customdata[2]}<br>Family=%{customdata[3]}<br>Color_eukaryota=%{customdata[4]}<extra></extra>\",\"hovertext\":[\"Streptomyces\",\"Streptomyces\",\"Streptomyces\",\"Streptomyces\"],\"legendgroup\":\"Streptomyces\",\"marker\":{\"color\":\"#34b8e7\",\"symbol\":\"circle\"},\"mode\":\"markers\",\"name\":\"Streptomyces\",\"orientation\":\"v\",\"showlegend\":true,\"x\":[0.19311011,0.5062294,0.5304242,0.43220982],\"xaxis\":\"x\",\"y\":[-0.84682655,0.3051776,0.39288884,0.41202927],\"yaxis\":\"y\",\"type\":\"scatter\"},{\"customdata\":[[139,\"Synechocystis\",\"Bacteria\",\"Cyanobacteria\",\"OTHERS\"],[142,\"Synechocystis\",\"Bacteria\",\"Cyanobacteria\",\"OTHERS\"],[145,\"Synechocystis\",\"Bacteria\",\"Cyanobacteria\",\"OTHERS\"],[152,\"Synechocystis\",\"Bacteria\",\"Cyanobacteria\",\"OTHERS\"]],\"hovertemplate\":\"<b>%{hovertext}</b><br><br>Species=%{customdata[1]}<br>pm1=%{x}<br>pm2=%{y}<br>Unnamed: 0=%{customdata[0]}<br>Kingdom=%{customdata[2]}<br>Family=%{customdata[3]}<br>Color_eukaryota=%{customdata[4]}<extra></extra>\",\"hovertext\":[\"Synechocystis\",\"Synechocystis\",\"Synechocystis\",\"Synechocystis\"],\"legendgroup\":\"Synechocystis\",\"marker\":{\"color\":\"#34b8e7\",\"symbol\":\"circle\"},\"mode\":\"markers\",\"name\":\"Synechocystis\",\"orientation\":\"v\",\"showlegend\":true,\"x\":[0.33621347,0.4924073,0.2507609,0.58291686],\"xaxis\":\"x\",\"y\":[0.42588177,0.21126285,0.3959612,0.18630831],\"yaxis\":\"y\",\"type\":\"scatter\"},{\"customdata\":[[140,\"Nostoc\",\"Bacteria\",\"Cyanobacteria\",\"OTHERS\"],[141,\"Nostoc\",\"Bacteria\",\"Cyanobacteria\",\"OTHERS\"],[147,\"Nostoc\",\"Bacteria\",\"Cyanobacteria\",\"OTHERS\"],[148,\"Nostoc\",\"Bacteria\",\"Cyanobacteria\",\"OTHERS\"],[150,\"Nostoc\",\"Bacteria\",\"Cyanobacteria\",\"OTHERS\"]],\"hovertemplate\":\"<b>%{hovertext}</b><br><br>Species=%{customdata[1]}<br>pm1=%{x}<br>pm2=%{y}<br>Unnamed: 0=%{customdata[0]}<br>Kingdom=%{customdata[2]}<br>Family=%{customdata[3]}<br>Color_eukaryota=%{customdata[4]}<extra></extra>\",\"hovertext\":[\"Nostoc\",\"Nostoc\",\"Nostoc\",\"Nostoc\",\"Nostoc\"],\"legendgroup\":\"Nostoc\",\"marker\":{\"color\":\"#34b8e7\",\"symbol\":\"circle\"},\"mode\":\"markers\",\"name\":\"Nostoc\",\"orientation\":\"v\",\"showlegend\":true,\"x\":[0.34850705,0.4944681,0.37394655,0.35461435,0.62031305],\"xaxis\":\"x\",\"y\":[0.4718529,0.16870992,0.31219527,0.15791759,0.12296761],\"yaxis\":\"y\",\"type\":\"scatter\"},{\"customdata\":[[143,\"Thermosynechococcus\",\"Bacteria\",\"Cyanobacteria\",\"OTHERS\"],[144,\"Thermosynechococcus\",\"Bacteria\",\"Cyanobacteria\",\"OTHERS\"],[146,\"Thermosynechococcus\",\"Bacteria\",\"Cyanobacteria\",\"OTHERS\"],[149,\"Thermosynechococcus\",\"Bacteria\",\"Cyanobacteria\",\"OTHERS\"]],\"hovertemplate\":\"<b>%{hovertext}</b><br><br>Species=%{customdata[1]}<br>pm1=%{x}<br>pm2=%{y}<br>Unnamed: 0=%{customdata[0]}<br>Kingdom=%{customdata[2]}<br>Family=%{customdata[3]}<br>Color_eukaryota=%{customdata[4]}<extra></extra>\",\"hovertext\":[\"Thermosynechococcus\",\"Thermosynechococcus\",\"Thermosynechococcus\",\"Thermosynechococcus\"],\"legendgroup\":\"Thermosynechococcus\",\"marker\":{\"color\":\"#34b8e7\",\"symbol\":\"circle\"},\"mode\":\"markers\",\"name\":\"Thermosynechococcus\",\"orientation\":\"v\",\"showlegend\":true,\"x\":[0.48007292,0.35752845,0.24830408,0.5294296],\"xaxis\":\"x\",\"y\":[0.15935723,-0.09040809,0.48897213,0.07986674],\"yaxis\":\"y\",\"type\":\"scatter\"},{\"customdata\":[[151,\"Prochlorococcus\",\"Bacteria\",\"Cyanobacteria\",\"OTHERS\"]],\"hovertemplate\":\"<b>%{hovertext}</b><br><br>Species=%{customdata[1]}<br>pm1=%{x}<br>pm2=%{y}<br>Unnamed: 0=%{customdata[0]}<br>Kingdom=%{customdata[2]}<br>Family=%{customdata[3]}<br>Color_eukaryota=%{customdata[4]}<extra></extra>\",\"hovertext\":[\"Prochlorococcus\"],\"legendgroup\":\"Prochlorococcus\",\"marker\":{\"color\":\"#34b8e7\",\"symbol\":\"circle\"},\"mode\":\"markers\",\"name\":\"Prochlorococcus\",\"orientation\":\"v\",\"showlegend\":true,\"x\":[0.6853675],\"xaxis\":\"x\",\"y\":[0.17355375],\"yaxis\":\"y\",\"type\":\"scatter\"},{\"customdata\":[[153,\"Nostoc1\",\"Bacteria\",\"Cyanobacteria\",\"OTHERS\"]],\"hovertemplate\":\"<b>%{hovertext}</b><br><br>Species=%{customdata[1]}<br>pm1=%{x}<br>pm2=%{y}<br>Unnamed: 0=%{customdata[0]}<br>Kingdom=%{customdata[2]}<br>Family=%{customdata[3]}<br>Color_eukaryota=%{customdata[4]}<extra></extra>\",\"hovertext\":[\"Nostoc1\"],\"legendgroup\":\"Nostoc1\",\"marker\":{\"color\":\"#34b8e7\",\"symbol\":\"circle\"},\"mode\":\"markers\",\"name\":\"Nostoc1\",\"orientation\":\"v\",\"showlegend\":true,\"x\":[0.5432263],\"xaxis\":\"x\",\"y\":[0.062537745],\"yaxis\":\"y\",\"type\":\"scatter\"},{\"customdata\":[[154,\"Pea Chloroplast\",\"Eukaryota\",\"Viridiplantae\",\"CHLOROPLAST\"]],\"hovertemplate\":\"<b>%{hovertext}</b><br><br>Species=%{customdata[1]}<br>pm1=%{x}<br>pm2=%{y}<br>Unnamed: 0=%{customdata[0]}<br>Kingdom=%{customdata[2]}<br>Family=%{customdata[3]}<br>Color_eukaryota=%{customdata[4]}<extra></extra>\",\"hovertext\":[\"Pea Chloroplast\"],\"legendgroup\":\"Pea Chloroplast\",\"marker\":{\"color\":\"#06f9d4\",\"symbol\":\"circle\"},\"mode\":\"markers\",\"name\":\"Pea Chloroplast\",\"orientation\":\"v\",\"showlegend\":true,\"x\":[0.8524639],\"xaxis\":\"x\",\"y\":[0.27847457],\"yaxis\":\"y\",\"type\":\"scatter\"},{\"customdata\":[[155,\"Spiol Chloroplast\",\"Eukaryota\",\"Viridiplantae\",\"CHLOROPLAST\"]],\"hovertemplate\":\"<b>%{hovertext}</b><br><br>Species=%{customdata[1]}<br>pm1=%{x}<br>pm2=%{y}<br>Unnamed: 0=%{customdata[0]}<br>Kingdom=%{customdata[2]}<br>Family=%{customdata[3]}<br>Color_eukaryota=%{customdata[4]}<extra></extra>\",\"hovertext\":[\"Spiol Chloroplast\"],\"legendgroup\":\"Spiol Chloroplast\",\"marker\":{\"color\":\"#06f9d4\",\"symbol\":\"circle\"},\"mode\":\"markers\",\"name\":\"Spiol Chloroplast\",\"orientation\":\"v\",\"showlegend\":true,\"x\":[0.88229173],\"xaxis\":\"x\",\"y\":[0.250263],\"yaxis\":\"y\",\"type\":\"scatter\"},{\"customdata\":[[156,\"Wheat Chloroplast\",\"Eukaryota\",\"Viridiplantae\",\"CHLOROPLAST\"]],\"hovertemplate\":\"<b>%{hovertext}</b><br><br>Species=%{customdata[1]}<br>pm1=%{x}<br>pm2=%{y}<br>Unnamed: 0=%{customdata[0]}<br>Kingdom=%{customdata[2]}<br>Family=%{customdata[3]}<br>Color_eukaryota=%{customdata[4]}<extra></extra>\",\"hovertext\":[\"Wheat Chloroplast\"],\"legendgroup\":\"Wheat Chloroplast\",\"marker\":{\"color\":\"#06f9d4\",\"symbol\":\"circle\"},\"mode\":\"markers\",\"name\":\"Wheat Chloroplast\",\"orientation\":\"v\",\"showlegend\":true,\"x\":[0.87905174],\"xaxis\":\"x\",\"y\":[0.2813189],\"yaxis\":\"y\",\"type\":\"scatter\"},{\"customdata\":[[157,\"Pisum Chloroplast\",\"Eukaryota\",\"Viridiplantae\",\"CHLOROPLAST\"]],\"hovertemplate\":\"<b>%{hovertext}</b><br><br>Species=%{customdata[1]}<br>pm1=%{x}<br>pm2=%{y}<br>Unnamed: 0=%{customdata[0]}<br>Kingdom=%{customdata[2]}<br>Family=%{customdata[3]}<br>Color_eukaryota=%{customdata[4]}<extra></extra>\",\"hovertext\":[\"Pisum Chloroplast\"],\"legendgroup\":\"Pisum Chloroplast\",\"marker\":{\"color\":\"#06f9d4\",\"symbol\":\"circle\"},\"mode\":\"markers\",\"name\":\"Pisum Chloroplast\",\"orientation\":\"v\",\"showlegend\":true,\"x\":[0.86051095],\"xaxis\":\"x\",\"y\":[0.25488907],\"yaxis\":\"y\",\"type\":\"scatter\"},{\"customdata\":[[158,\"Brana Chloroplast\",\"Eukaryota\",\"Viridiplantae\",\"CHLOROPLAST\"]],\"hovertemplate\":\"<b>%{hovertext}</b><br><br>Species=%{customdata[1]}<br>pm1=%{x}<br>pm2=%{y}<br>Unnamed: 0=%{customdata[0]}<br>Kingdom=%{customdata[2]}<br>Family=%{customdata[3]}<br>Color_eukaryota=%{customdata[4]}<extra></extra>\",\"hovertext\":[\"Brana Chloroplast\"],\"legendgroup\":\"Brana Chloroplast\",\"marker\":{\"color\":\"#06f9d4\",\"symbol\":\"circle\"},\"mode\":\"markers\",\"name\":\"Brana Chloroplast\",\"orientation\":\"v\",\"showlegend\":true,\"x\":[0.87869513],\"xaxis\":\"x\",\"y\":[0.22154756],\"yaxis\":\"y\",\"type\":\"scatter\"},{\"customdata\":[[159,\"Thermus\",\"Bacteria\",\"Deinococcus-Thermus\",\"OTHERS\"],[161,\"Thermus\",\"Bacteria\",\"Deinococcus-Thermus\",\"OTHERS\"]],\"hovertemplate\":\"<b>%{hovertext}</b><br><br>Species=%{customdata[1]}<br>pm1=%{x}<br>pm2=%{y}<br>Unnamed: 0=%{customdata[0]}<br>Kingdom=%{customdata[2]}<br>Family=%{customdata[3]}<br>Color_eukaryota=%{customdata[4]}<extra></extra>\",\"hovertext\":[\"Thermus\",\"Thermus\"],\"legendgroup\":\"Thermus\",\"marker\":{\"color\":\"#34b8e7\",\"symbol\":\"circle\"},\"mode\":\"markers\",\"name\":\"Thermus\",\"orientation\":\"v\",\"showlegend\":true,\"x\":[0.6530208,0.3049297],\"xaxis\":\"x\",\"y\":[-0.118381925,0.26484963],\"yaxis\":\"y\",\"type\":\"scatter\"},{\"customdata\":[[160,\"Deinococcus\",\"Bacteria\",\"Deinococcus-Thermus\",\"OTHERS\"],[162,\"Deinococcus\",\"Bacteria\",\"Deinococcus-Thermus\",\"OTHERS\"]],\"hovertemplate\":\"<b>%{hovertext}</b><br><br>Species=%{customdata[1]}<br>pm1=%{x}<br>pm2=%{y}<br>Unnamed: 0=%{customdata[0]}<br>Kingdom=%{customdata[2]}<br>Family=%{customdata[3]}<br>Color_eukaryota=%{customdata[4]}<extra></extra>\",\"hovertext\":[\"Deinococcus\",\"Deinococcus\"],\"legendgroup\":\"Deinococcus\",\"marker\":{\"color\":\"#34b8e7\",\"symbol\":\"circle\"},\"mode\":\"markers\",\"name\":\"Deinococcus\",\"orientation\":\"v\",\"showlegend\":true,\"x\":[0.62219614,0.23201871],\"xaxis\":\"x\",\"y\":[-0.055205166,0.13545136],\"yaxis\":\"y\",\"type\":\"scatter\"},{\"customdata\":[[163,\"Dehalococcoides\",\"Bacteria\",\"Chloroflexi\",\"OTHERS\"]],\"hovertemplate\":\"<b>%{hovertext}</b><br><br>Species=%{customdata[1]}<br>pm1=%{x}<br>pm2=%{y}<br>Unnamed: 0=%{customdata[0]}<br>Kingdom=%{customdata[2]}<br>Family=%{customdata[3]}<br>Color_eukaryota=%{customdata[4]}<extra></extra>\",\"hovertext\":[\"Dehalococcoides\"],\"legendgroup\":\"Dehalococcoides\",\"marker\":{\"color\":\"#34b8e7\",\"symbol\":\"circle\"},\"mode\":\"markers\",\"name\":\"Dehalococcoides\",\"orientation\":\"v\",\"showlegend\":true,\"x\":[0.3036325],\"xaxis\":\"x\",\"y\":[-0.019556904],\"yaxis\":\"y\",\"type\":\"scatter\"},{\"customdata\":[[164,\"Chloroflexus\",\"Bacteria\",\"Chloroflexi\",\"OTHERS\"],[165,\"Chloroflexus\",\"Bacteria\",\"Chloroflexi\",\"OTHERS\"],[166,\"Chloroflexus\",\"Bacteria\",\"Chloroflexi\",\"OTHERS\"]],\"hovertemplate\":\"<b>%{hovertext}</b><br><br>Species=%{customdata[1]}<br>pm1=%{x}<br>pm2=%{y}<br>Unnamed: 0=%{customdata[0]}<br>Kingdom=%{customdata[2]}<br>Family=%{customdata[3]}<br>Color_eukaryota=%{customdata[4]}<extra></extra>\",\"hovertext\":[\"Chloroflexus\",\"Chloroflexus\",\"Chloroflexus\"],\"legendgroup\":\"Chloroflexus\",\"marker\":{\"color\":\"#34b8e7\",\"symbol\":\"circle\"},\"mode\":\"markers\",\"name\":\"Chloroflexus\",\"orientation\":\"v\",\"showlegend\":true,\"x\":[0.5299213,0.35496226,0.29009506],\"xaxis\":\"x\",\"y\":[-0.08009967,0.28542045,0.36536145],\"yaxis\":\"y\",\"type\":\"scatter\"},{\"customdata\":[[167,\"Aquifex\",\"Bacteria\",\"Aquificae\",\"OTHERS\"]],\"hovertemplate\":\"<b>%{hovertext}</b><br><br>Species=%{customdata[1]}<br>pm1=%{x}<br>pm2=%{y}<br>Unnamed: 0=%{customdata[0]}<br>Kingdom=%{customdata[2]}<br>Family=%{customdata[3]}<br>Color_eukaryota=%{customdata[4]}<extra></extra>\",\"hovertext\":[\"Aquifex\"],\"legendgroup\":\"Aquifex\",\"marker\":{\"color\":\"#34b8e7\",\"symbol\":\"circle\"},\"mode\":\"markers\",\"name\":\"Aquifex\",\"orientation\":\"v\",\"showlegend\":true,\"x\":[0.2356973],\"xaxis\":\"x\",\"y\":[0.19068073],\"yaxis\":\"y\",\"type\":\"scatter\"},{\"customdata\":[[168,\"Bdellovibrio\",\"Bacteria\",\"Proteobacteria\",\"OTHERS\"],[170,\"Bdellovibrio\",\"Bacteria\",\"Proteobacteria\",\"OTHERS\"]],\"hovertemplate\":\"<b>%{hovertext}</b><br><br>Species=%{customdata[1]}<br>pm1=%{x}<br>pm2=%{y}<br>Unnamed: 0=%{customdata[0]}<br>Kingdom=%{customdata[2]}<br>Family=%{customdata[3]}<br>Color_eukaryota=%{customdata[4]}<extra></extra>\",\"hovertext\":[\"Bdellovibrio\",\"Bdellovibrio\"],\"legendgroup\":\"Bdellovibrio\",\"marker\":{\"color\":\"#34b8e7\",\"symbol\":\"circle\"},\"mode\":\"markers\",\"name\":\"Bdellovibrio\",\"orientation\":\"v\",\"showlegend\":true,\"x\":[0.1661885,0.50053394],\"xaxis\":\"x\",\"y\":[-0.83963746,0.4259467],\"yaxis\":\"y\",\"type\":\"scatter\"},{\"customdata\":[[169,\"Geobacter\",\"Bacteria\",\"Proteobacteria\",\"OTHERS\"],[172,\"Geobacter\",\"Bacteria\",\"Proteobacteria\",\"OTHERS\"]],\"hovertemplate\":\"<b>%{hovertext}</b><br><br>Species=%{customdata[1]}<br>pm1=%{x}<br>pm2=%{y}<br>Unnamed: 0=%{customdata[0]}<br>Kingdom=%{customdata[2]}<br>Family=%{customdata[3]}<br>Color_eukaryota=%{customdata[4]}<extra></extra>\",\"hovertext\":[\"Geobacter\",\"Geobacter\"],\"legendgroup\":\"Geobacter\",\"marker\":{\"color\":\"#34b8e7\",\"symbol\":\"circle\"},\"mode\":\"markers\",\"name\":\"Geobacter\",\"orientation\":\"v\",\"showlegend\":true,\"x\":[0.7611729,0.23331903],\"xaxis\":\"x\",\"y\":[-0.13494243,0.242193],\"yaxis\":\"y\",\"type\":\"scatter\"},{\"customdata\":[[171,\"Desulfovibrio\",\"Bacteria\",\"Proteobacteria\",\"OTHERS\"]],\"hovertemplate\":\"<b>%{hovertext}</b><br><br>Species=%{customdata[1]}<br>pm1=%{x}<br>pm2=%{y}<br>Unnamed: 0=%{customdata[0]}<br>Kingdom=%{customdata[2]}<br>Family=%{customdata[3]}<br>Color_eukaryota=%{customdata[4]}<extra></extra>\",\"hovertext\":[\"Desulfovibrio\"],\"legendgroup\":\"Desulfovibrio\",\"marker\":{\"color\":\"#34b8e7\",\"symbol\":\"circle\"},\"mode\":\"markers\",\"name\":\"Desulfovibrio\",\"orientation\":\"v\",\"showlegend\":true,\"x\":[0.4309682],\"xaxis\":\"x\",\"y\":[0.12233977],\"yaxis\":\"y\",\"type\":\"scatter\"},{\"customdata\":[[173,\"Solibacter\",\"Bacteria\",\"Acidobacteria\",\"OTHERS\"],[174,\"Solibacter\",\"Bacteria\",\"Acidobacteria\",\"OTHERS\"]],\"hovertemplate\":\"<b>%{hovertext}</b><br><br>Species=%{customdata[1]}<br>pm1=%{x}<br>pm2=%{y}<br>Unnamed: 0=%{customdata[0]}<br>Kingdom=%{customdata[2]}<br>Family=%{customdata[3]}<br>Color_eukaryota=%{customdata[4]}<extra></extra>\",\"hovertext\":[\"Solibacter\",\"Solibacter\"],\"legendgroup\":\"Solibacter\",\"marker\":{\"color\":\"#34b8e7\",\"symbol\":\"circle\"},\"mode\":\"markers\",\"name\":\"Solibacter\",\"orientation\":\"v\",\"showlegend\":true,\"x\":[0.6898903,0.23371972],\"xaxis\":\"x\",\"y\":[-0.09248562,0.26179278],\"yaxis\":\"y\",\"type\":\"scatter\"},{\"customdata\":[[175,\"Acidobacteria\",\"Bacteria\",\"Acidobacteria\",\"OTHERS\"]],\"hovertemplate\":\"<b>%{hovertext}</b><br><br>Species=%{customdata[1]}<br>pm1=%{x}<br>pm2=%{y}<br>Unnamed: 0=%{customdata[0]}<br>Kingdom=%{customdata[2]}<br>Family=%{customdata[3]}<br>Color_eukaryota=%{customdata[4]}<extra></extra>\",\"hovertext\":[\"Acidobacteria\"],\"legendgroup\":\"Acidobacteria\",\"marker\":{\"color\":\"#34b8e7\",\"symbol\":\"circle\"},\"mode\":\"markers\",\"name\":\"Acidobacteria\",\"orientation\":\"v\",\"showlegend\":true,\"x\":[0.22608489],\"xaxis\":\"x\",\"y\":[0.25558406],\"yaxis\":\"y\",\"type\":\"scatter\"},{\"customdata\":[[176,\"Wolinella\",\"Bacteria\",\"Proteobacteria\",\"OTHERS\"],[180,\"Wolinella\",\"Bacteria\",\"Proteobacteria\",\"OTHERS\"],[181,\"Wolinella\",\"Bacteria\",\"Proteobacteria\",\"OTHERS\"]],\"hovertemplate\":\"<b>%{hovertext}</b><br><br>Species=%{customdata[1]}<br>pm1=%{x}<br>pm2=%{y}<br>Unnamed: 0=%{customdata[0]}<br>Kingdom=%{customdata[2]}<br>Family=%{customdata[3]}<br>Color_eukaryota=%{customdata[4]}<extra></extra>\",\"hovertext\":[\"Wolinella\",\"Wolinella\",\"Wolinella\"],\"legendgroup\":\"Wolinella\",\"marker\":{\"color\":\"#34b8e7\",\"symbol\":\"circle\"},\"mode\":\"markers\",\"name\":\"Wolinella\",\"orientation\":\"v\",\"showlegend\":true,\"x\":[-0.04324382,0.2033479,0.20609],\"xaxis\":\"x\",\"y\":[-0.043105245,0.06992514,0.06081779],\"yaxis\":\"y\",\"type\":\"scatter\"},{\"customdata\":[[177,\"Helicobacter\",\"Bacteria\",\"Proteobacteria\",\"OTHERS\"],[179,\"Helicobacter\",\"Bacteria\",\"Proteobacteria\",\"OTHERS\"]],\"hovertemplate\":\"<b>%{hovertext}</b><br><br>Species=%{customdata[1]}<br>pm1=%{x}<br>pm2=%{y}<br>Unnamed: 0=%{customdata[0]}<br>Kingdom=%{customdata[2]}<br>Family=%{customdata[3]}<br>Color_eukaryota=%{customdata[4]}<extra></extra>\",\"hovertext\":[\"Helicobacter\",\"Helicobacter\"],\"legendgroup\":\"Helicobacter\",\"marker\":{\"color\":\"#34b8e7\",\"symbol\":\"circle\"},\"mode\":\"markers\",\"name\":\"Helicobacter\",\"orientation\":\"v\",\"showlegend\":true,\"x\":[-0.03523984,-0.13345234],\"xaxis\":\"x\",\"y\":[0.0026768777,-0.029684927],\"yaxis\":\"y\",\"type\":\"scatter\"},{\"customdata\":[[178,\"Campylobacter\",\"Bacteria\",\"Proteobacteria\",\"OTHERS\"]],\"hovertemplate\":\"<b>%{hovertext}</b><br><br>Species=%{customdata[1]}<br>pm1=%{x}<br>pm2=%{y}<br>Unnamed: 0=%{customdata[0]}<br>Kingdom=%{customdata[2]}<br>Family=%{customdata[3]}<br>Color_eukaryota=%{customdata[4]}<extra></extra>\",\"hovertext\":[\"Campylobacter\"],\"legendgroup\":\"Campylobacter\",\"marker\":{\"color\":\"#34b8e7\",\"symbol\":\"circle\"},\"mode\":\"markers\",\"name\":\"Campylobacter\",\"orientation\":\"v\",\"showlegend\":true,\"x\":[-0.10813586],\"xaxis\":\"x\",\"y\":[-0.013940074],\"yaxis\":\"y\",\"type\":\"scatter\"},{\"customdata\":[[182,\"Agrobacterium\",\"Bacteria\",\"Proteobacteria\",\"OTHERS\"]],\"hovertemplate\":\"<b>%{hovertext}</b><br><br>Species=%{customdata[1]}<br>pm1=%{x}<br>pm2=%{y}<br>Unnamed: 0=%{customdata[0]}<br>Kingdom=%{customdata[2]}<br>Family=%{customdata[3]}<br>Color_eukaryota=%{customdata[4]}<extra></extra>\",\"hovertext\":[\"Agrobacterium\"],\"legendgroup\":\"Agrobacterium\",\"marker\":{\"color\":\"#34b8e7\",\"symbol\":\"circle\"},\"mode\":\"markers\",\"name\":\"Agrobacterium\",\"orientation\":\"v\",\"showlegend\":true,\"x\":[0.39940578],\"xaxis\":\"x\",\"y\":[0.28572446],\"yaxis\":\"y\",\"type\":\"scatter\"},{\"customdata\":[[183,\"Sinorhizobium\",\"Bacteria\",\"Proteobacteria\",\"OTHERS\"]],\"hovertemplate\":\"<b>%{hovertext}</b><br><br>Species=%{customdata[1]}<br>pm1=%{x}<br>pm2=%{y}<br>Unnamed: 0=%{customdata[0]}<br>Kingdom=%{customdata[2]}<br>Family=%{customdata[3]}<br>Color_eukaryota=%{customdata[4]}<extra></extra>\",\"hovertext\":[\"Sinorhizobium\"],\"legendgroup\":\"Sinorhizobium\",\"marker\":{\"color\":\"#34b8e7\",\"symbol\":\"circle\"},\"mode\":\"markers\",\"name\":\"Sinorhizobium\",\"orientation\":\"v\",\"showlegend\":true,\"x\":[0.4023528],\"xaxis\":\"x\",\"y\":[0.27166802],\"yaxis\":\"y\",\"type\":\"scatter\"},{\"customdata\":[[184,\"Brucella\",\"Bacteria\",\"Proteobacteria\",\"OTHERS\"]],\"hovertemplate\":\"<b>%{hovertext}</b><br><br>Species=%{customdata[1]}<br>pm1=%{x}<br>pm2=%{y}<br>Unnamed: 0=%{customdata[0]}<br>Kingdom=%{customdata[2]}<br>Family=%{customdata[3]}<br>Color_eukaryota=%{customdata[4]}<extra></extra>\",\"hovertext\":[\"Brucella\"],\"legendgroup\":\"Brucella\",\"marker\":{\"color\":\"#34b8e7\",\"symbol\":\"circle\"},\"mode\":\"markers\",\"name\":\"Brucella\",\"orientation\":\"v\",\"showlegend\":true,\"x\":[0.389027],\"xaxis\":\"x\",\"y\":[0.2871054],\"yaxis\":\"y\",\"type\":\"scatter\"},{\"customdata\":[[185,\"Rickettsia\",\"Bacteria\",\"Proteobacteria\",\"OTHERS\"]],\"hovertemplate\":\"<b>%{hovertext}</b><br><br>Species=%{customdata[1]}<br>pm1=%{x}<br>pm2=%{y}<br>Unnamed: 0=%{customdata[0]}<br>Kingdom=%{customdata[2]}<br>Family=%{customdata[3]}<br>Color_eukaryota=%{customdata[4]}<extra></extra>\",\"hovertext\":[\"Rickettsia\"],\"legendgroup\":\"Rickettsia\",\"marker\":{\"color\":\"#34b8e7\",\"symbol\":\"circle\"},\"mode\":\"markers\",\"name\":\"Rickettsia\",\"orientation\":\"v\",\"showlegend\":true,\"x\":[0.60773945],\"xaxis\":\"x\",\"y\":[0.2866308],\"yaxis\":\"y\",\"type\":\"scatter\"},{\"customdata\":[[186,\"Bovin Mitochondrio\",\"Eukaryota\",\"Metazoa\",\"MITOCHONDRION\"]],\"hovertemplate\":\"<b>%{hovertext}</b><br><br>Species=%{customdata[1]}<br>pm1=%{x}<br>pm2=%{y}<br>Unnamed: 0=%{customdata[0]}<br>Kingdom=%{customdata[2]}<br>Family=%{customdata[3]}<br>Color_eukaryota=%{customdata[4]}<extra></extra>\",\"hovertext\":[\"Bovin Mitochondrio\"],\"legendgroup\":\"Bovin Mitochondrio\",\"marker\":{\"color\":\"#61ff06\",\"symbol\":\"circle\"},\"mode\":\"markers\",\"name\":\"Bovin Mitochondrio\",\"orientation\":\"v\",\"showlegend\":true,\"x\":[0.7762942],\"xaxis\":\"x\",\"y\":[-0.50750846],\"yaxis\":\"y\",\"type\":\"scatter\"},{\"customdata\":[[188,\"Homo Mitochondrion\",\"Eukaryota\",\"Metazoa\",\"MITOCHONDRION\"]],\"hovertemplate\":\"<b>%{hovertext}</b><br><br>Species=%{customdata[1]}<br>pm1=%{x}<br>pm2=%{y}<br>Unnamed: 0=%{customdata[0]}<br>Kingdom=%{customdata[2]}<br>Family=%{customdata[3]}<br>Color_eukaryota=%{customdata[4]}<extra></extra>\",\"hovertext\":[\"Homo Mitochondrion\"],\"legendgroup\":\"Homo Mitochondrion\",\"marker\":{\"color\":\"#61ff06\",\"symbol\":\"circle\"},\"mode\":\"markers\",\"name\":\"Homo Mitochondrion\",\"orientation\":\"v\",\"showlegend\":true,\"x\":[0.7598772],\"xaxis\":\"x\",\"y\":[-0.50699115],\"yaxis\":\"y\",\"type\":\"scatter\"},{\"customdata\":[[189,\"Rattus Mitochondrio\",\"Eukaryota\",\"Metazoa\",\"MITOCHONDRION\"]],\"hovertemplate\":\"<b>%{hovertext}</b><br><br>Species=%{customdata[1]}<br>pm1=%{x}<br>pm2=%{y}<br>Unnamed: 0=%{customdata[0]}<br>Kingdom=%{customdata[2]}<br>Family=%{customdata[3]}<br>Color_eukaryota=%{customdata[4]}<extra></extra>\",\"hovertext\":[\"Rattus Mitochondrio\"],\"legendgroup\":\"Rattus Mitochondrio\",\"marker\":{\"color\":\"#61ff06\",\"symbol\":\"circle\"},\"mode\":\"markers\",\"name\":\"Rattus Mitochondrio\",\"orientation\":\"v\",\"showlegend\":true,\"x\":[0.76795524],\"xaxis\":\"x\",\"y\":[-0.5201371],\"yaxis\":\"y\",\"type\":\"scatter\"},{\"customdata\":[[190,\"Mus Mitochondrion\",\"Eukaryota\",\"Metazoa\",\"MITOCHONDRION\"]],\"hovertemplate\":\"<b>%{hovertext}</b><br><br>Species=%{customdata[1]}<br>pm1=%{x}<br>pm2=%{y}<br>Unnamed: 0=%{customdata[0]}<br>Kingdom=%{customdata[2]}<br>Family=%{customdata[3]}<br>Color_eukaryota=%{customdata[4]}<extra></extra>\",\"hovertext\":[\"Mus Mitochondrion\"],\"legendgroup\":\"Mus Mitochondrion\",\"marker\":{\"color\":\"#61ff06\",\"symbol\":\"circle\"},\"mode\":\"markers\",\"name\":\"Mus Mitochondrion\",\"orientation\":\"v\",\"showlegend\":true,\"x\":[0.7531102],\"xaxis\":\"x\",\"y\":[-0.5204549],\"yaxis\":\"y\",\"type\":\"scatter\"},{\"customdata\":[[191,\"Thiobacillus\",\"Bacteria\",\"Proteobacteria\",\"OTHERS\"],[193,\"Thiobacillus\",\"Bacteria\",\"Proteobacteria\",\"OTHERS\"],[196,\"Thiobacillus\",\"Bacteria\",\"Proteobacteria\",\"OTHERS\"],[197,\"Thiobacillus\",\"Bacteria\",\"Proteobacteria\",\"OTHERS\"]],\"hovertemplate\":\"<b>%{hovertext}</b><br><br>Species=%{customdata[1]}<br>pm1=%{x}<br>pm2=%{y}<br>Unnamed: 0=%{customdata[0]}<br>Kingdom=%{customdata[2]}<br>Family=%{customdata[3]}<br>Color_eukaryota=%{customdata[4]}<extra></extra>\",\"hovertext\":[\"Thiobacillus\",\"Thiobacillus\",\"Thiobacillus\",\"Thiobacillus\"],\"legendgroup\":\"Thiobacillus\",\"marker\":{\"color\":\"#34b8e7\",\"symbol\":\"circle\"},\"mode\":\"markers\",\"name\":\"Thiobacillus\",\"orientation\":\"v\",\"showlegend\":true,\"x\":[0.41142613,0.34323567,0.82621276,0.2033448],\"xaxis\":\"x\",\"y\":[0.52622736,0.602579,-0.16090378,-0.8611851],\"yaxis\":\"y\",\"type\":\"scatter\"},{\"customdata\":[[192,\"Neisseria\",\"Bacteria\",\"Proteobacteria\",\"OTHERS\"]],\"hovertemplate\":\"<b>%{hovertext}</b><br><br>Species=%{customdata[1]}<br>pm1=%{x}<br>pm2=%{y}<br>Unnamed: 0=%{customdata[0]}<br>Kingdom=%{customdata[2]}<br>Family=%{customdata[3]}<br>Color_eukaryota=%{customdata[4]}<extra></extra>\",\"hovertext\":[\"Neisseria\"],\"legendgroup\":\"Neisseria\",\"marker\":{\"color\":\"#34b8e7\",\"symbol\":\"circle\"},\"mode\":\"markers\",\"name\":\"Neisseria\",\"orientation\":\"v\",\"showlegend\":true,\"x\":[0.28230938],\"xaxis\":\"x\",\"y\":[0.5801796],\"yaxis\":\"y\",\"type\":\"scatter\"},{\"customdata\":[[194,\"Burkholderia\",\"Bacteria\",\"Proteobacteria\",\"OTHERS\"]],\"hovertemplate\":\"<b>%{hovertext}</b><br><br>Species=%{customdata[1]}<br>pm1=%{x}<br>pm2=%{y}<br>Unnamed: 0=%{customdata[0]}<br>Kingdom=%{customdata[2]}<br>Family=%{customdata[3]}<br>Color_eukaryota=%{customdata[4]}<extra></extra>\",\"hovertext\":[\"Burkholderia\"],\"legendgroup\":\"Burkholderia\",\"marker\":{\"color\":\"#34b8e7\",\"symbol\":\"circle\"},\"mode\":\"markers\",\"name\":\"Burkholderia\",\"orientation\":\"v\",\"showlegend\":true,\"x\":[0.325576],\"xaxis\":\"x\",\"y\":[0.5873442],\"yaxis\":\"y\",\"type\":\"scatter\"},{\"customdata\":[[195,\"Bordetella\",\"Bacteria\",\"Proteobacteria\",\"OTHERS\"],[198,\"Bordetella\",\"Bacteria\",\"Proteobacteria\",\"OTHERS\"]],\"hovertemplate\":\"<b>%{hovertext}</b><br><br>Species=%{customdata[1]}<br>pm1=%{x}<br>pm2=%{y}<br>Unnamed: 0=%{customdata[0]}<br>Kingdom=%{customdata[2]}<br>Family=%{customdata[3]}<br>Color_eukaryota=%{customdata[4]}<extra></extra>\",\"hovertext\":[\"Bordetella\",\"Bordetella\"],\"legendgroup\":\"Bordetella\",\"marker\":{\"color\":\"#34b8e7\",\"symbol\":\"circle\"},\"mode\":\"markers\",\"name\":\"Bordetella\",\"orientation\":\"v\",\"showlegend\":true,\"x\":[0.3557916,0.15955792],\"xaxis\":\"x\",\"y\":[0.6089816,-0.8656354],\"yaxis\":\"y\",\"type\":\"scatter\"},{\"customdata\":[[199,\"Pseudomonas\",\"Bacteria\",\"Proteobacteria\",\"OTHERS\"]],\"hovertemplate\":\"<b>%{hovertext}</b><br><br>Species=%{customdata[1]}<br>pm1=%{x}<br>pm2=%{y}<br>Unnamed: 0=%{customdata[0]}<br>Kingdom=%{customdata[2]}<br>Family=%{customdata[3]}<br>Color_eukaryota=%{customdata[4]}<extra></extra>\",\"hovertext\":[\"Pseudomonas\"],\"legendgroup\":\"Pseudomonas\",\"marker\":{\"color\":\"#34b8e7\",\"symbol\":\"circle\"},\"mode\":\"markers\",\"name\":\"Pseudomonas\",\"orientation\":\"v\",\"showlegend\":true,\"x\":[0.36517972],\"xaxis\":\"x\",\"y\":[0.585695],\"yaxis\":\"y\",\"type\":\"scatter\"},{\"customdata\":[[200,\"Vibrio\",\"Bacteria\",\"Proteobacteria\",\"OTHERS\"],[209,\"Vibrio\",\"Bacteria\",\"Proteobacteria\",\"OTHERS\"]],\"hovertemplate\":\"<b>%{hovertext}</b><br><br>Species=%{customdata[1]}<br>pm1=%{x}<br>pm2=%{y}<br>Unnamed: 0=%{customdata[0]}<br>Kingdom=%{customdata[2]}<br>Family=%{customdata[3]}<br>Color_eukaryota=%{customdata[4]}<extra></extra>\",\"hovertext\":[\"Vibrio\",\"Vibrio\"],\"legendgroup\":\"Vibrio\",\"marker\":{\"color\":\"#34b8e7\",\"symbol\":\"circle\"},\"mode\":\"markers\",\"name\":\"Vibrio\",\"orientation\":\"v\",\"showlegend\":true,\"x\":[0.3242402,0.85996747],\"xaxis\":\"x\",\"y\":[0.5447334,-0.11685125],\"yaxis\":\"y\",\"type\":\"scatter\"},{\"customdata\":[[201,\"Yersinia\",\"Bacteria\",\"Proteobacteria\",\"OTHERS\"],[208,\"Yersinia\",\"Bacteria\",\"Proteobacteria\",\"OTHERS\"]],\"hovertemplate\":\"<b>%{hovertext}</b><br><br>Species=%{customdata[1]}<br>pm1=%{x}<br>pm2=%{y}<br>Unnamed: 0=%{customdata[0]}<br>Kingdom=%{customdata[2]}<br>Family=%{customdata[3]}<br>Color_eukaryota=%{customdata[4]}<extra></extra>\",\"hovertext\":[\"Yersinia\",\"Yersinia\"],\"legendgroup\":\"Yersinia\",\"marker\":{\"color\":\"#34b8e7\",\"symbol\":\"circle\"},\"mode\":\"markers\",\"name\":\"Yersinia\",\"orientation\":\"v\",\"showlegend\":true,\"x\":[0.34766698,0.8652963],\"xaxis\":\"x\",\"y\":[0.55161905,-0.16014732],\"yaxis\":\"y\",\"type\":\"scatter\"},{\"customdata\":[[202,\"Salmonella\",\"Bacteria\",\"Proteobacteria\",\"OTHERS\"],[207,\"Salmonella\",\"Bacteria\",\"Proteobacteria\",\"OTHERS\"]],\"hovertemplate\":\"<b>%{hovertext}</b><br><br>Species=%{customdata[1]}<br>pm1=%{x}<br>pm2=%{y}<br>Unnamed: 0=%{customdata[0]}<br>Kingdom=%{customdata[2]}<br>Family=%{customdata[3]}<br>Color_eukaryota=%{customdata[4]}<extra></extra>\",\"hovertext\":[\"Salmonella\",\"Salmonella\"],\"legendgroup\":\"Salmonella\",\"marker\":{\"color\":\"#34b8e7\",\"symbol\":\"circle\"},\"mode\":\"markers\",\"name\":\"Salmonella\",\"orientation\":\"v\",\"showlegend\":true,\"x\":[0.34160644,0.84762776],\"xaxis\":\"x\",\"y\":[0.52714956,-0.14284891],\"yaxis\":\"y\",\"type\":\"scatter\"},{\"customdata\":[[203,\"Shigella\",\"Bacteria\",\"Proteobacteria\",\"OTHERS\"],[206,\"Shigella\",\"Bacteria\",\"Proteobacteria\",\"OTHERS\"]],\"hovertemplate\":\"<b>%{hovertext}</b><br><br>Species=%{customdata[1]}<br>pm1=%{x}<br>pm2=%{y}<br>Unnamed: 0=%{customdata[0]}<br>Kingdom=%{customdata[2]}<br>Family=%{customdata[3]}<br>Color_eukaryota=%{customdata[4]}<extra></extra>\",\"hovertext\":[\"Shigella\",\"Shigella\"],\"legendgroup\":\"Shigella\",\"marker\":{\"color\":\"#34b8e7\",\"symbol\":\"circle\"},\"mode\":\"markers\",\"name\":\"Shigella\",\"orientation\":\"v\",\"showlegend\":true,\"x\":[0.3491454,0.8603352],\"xaxis\":\"x\",\"y\":[0.53784776,-0.14833026],\"yaxis\":\"y\",\"type\":\"scatter\"},{\"customdata\":[[204,\"Escherichia\",\"Bacteria\",\"Proteobacteria\",\"OTHERS\"],[205,\"Escherichia\",\"Bacteria\",\"Proteobacteria\",\"OTHERS\"]],\"hovertemplate\":\"<b>%{hovertext}</b><br><br>Species=%{customdata[1]}<br>pm1=%{x}<br>pm2=%{y}<br>Unnamed: 0=%{customdata[0]}<br>Kingdom=%{customdata[2]}<br>Family=%{customdata[3]}<br>Color_eukaryota=%{customdata[4]}<extra></extra>\",\"hovertext\":[\"Escherichia\",\"Escherichia\"],\"legendgroup\":\"Escherichia\",\"marker\":{\"color\":\"#34b8e7\",\"symbol\":\"circle\"},\"mode\":\"markers\",\"name\":\"Escherichia\",\"orientation\":\"v\",\"showlegend\":true,\"x\":[0.36489522,0.8683527],\"xaxis\":\"x\",\"y\":[0.5230701,-0.14170918],\"yaxis\":\"y\",\"type\":\"scatter\"}],                        {\"template\":{\"data\":{\"histogram2dcontour\":[{\"type\":\"histogram2dcontour\",\"colorbar\":{\"outlinewidth\":0,\"ticks\":\"\"},\"colorscale\":[[0.0,\"#0d0887\"],[0.1111111111111111,\"#46039f\"],[0.2222222222222222,\"#7201a8\"],[0.3333333333333333,\"#9c179e\"],[0.4444444444444444,\"#bd3786\"],[0.5555555555555556,\"#d8576b\"],[0.6666666666666666,\"#ed7953\"],[0.7777777777777778,\"#fb9f3a\"],[0.8888888888888888,\"#fdca26\"],[1.0,\"#f0f921\"]]}],\"choropleth\":[{\"type\":\"choropleth\",\"colorbar\":{\"outlinewidth\":0,\"ticks\":\"\"}}],\"histogram2d\":[{\"type\":\"histogram2d\",\"colorbar\":{\"outlinewidth\":0,\"ticks\":\"\"},\"colorscale\":[[0.0,\"#0d0887\"],[0.1111111111111111,\"#46039f\"],[0.2222222222222222,\"#7201a8\"],[0.3333333333333333,\"#9c179e\"],[0.4444444444444444,\"#bd3786\"],[0.5555555555555556,\"#d8576b\"],[0.6666666666666666,\"#ed7953\"],[0.7777777777777778,\"#fb9f3a\"],[0.8888888888888888,\"#fdca26\"],[1.0,\"#f0f921\"]]}],\"heatmap\":[{\"type\":\"heatmap\",\"colorbar\":{\"outlinewidth\":0,\"ticks\":\"\"},\"colorscale\":[[0.0,\"#0d0887\"],[0.1111111111111111,\"#46039f\"],[0.2222222222222222,\"#7201a8\"],[0.3333333333333333,\"#9c179e\"],[0.4444444444444444,\"#bd3786\"],[0.5555555555555556,\"#d8576b\"],[0.6666666666666666,\"#ed7953\"],[0.7777777777777778,\"#fb9f3a\"],[0.8888888888888888,\"#fdca26\"],[1.0,\"#f0f921\"]]}],\"heatmapgl\":[{\"type\":\"heatmapgl\",\"colorbar\":{\"outlinewidth\":0,\"ticks\":\"\"},\"colorscale\":[[0.0,\"#0d0887\"],[0.1111111111111111,\"#46039f\"],[0.2222222222222222,\"#7201a8\"],[0.3333333333333333,\"#9c179e\"],[0.4444444444444444,\"#bd3786\"],[0.5555555555555556,\"#d8576b\"],[0.6666666666666666,\"#ed7953\"],[0.7777777777777778,\"#fb9f3a\"],[0.8888888888888888,\"#fdca26\"],[1.0,\"#f0f921\"]]}],\"contourcarpet\":[{\"type\":\"contourcarpet\",\"colorbar\":{\"outlinewidth\":0,\"ticks\":\"\"}}],\"contour\":[{\"type\":\"contour\",\"colorbar\":{\"outlinewidth\":0,\"ticks\":\"\"},\"colorscale\":[[0.0,\"#0d0887\"],[0.1111111111111111,\"#46039f\"],[0.2222222222222222,\"#7201a8\"],[0.3333333333333333,\"#9c179e\"],[0.4444444444444444,\"#bd3786\"],[0.5555555555555556,\"#d8576b\"],[0.6666666666666666,\"#ed7953\"],[0.7777777777777778,\"#fb9f3a\"],[0.8888888888888888,\"#fdca26\"],[1.0,\"#f0f921\"]]}],\"surface\":[{\"type\":\"surface\",\"colorbar\":{\"outlinewidth\":0,\"ticks\":\"\"},\"colorscale\":[[0.0,\"#0d0887\"],[0.1111111111111111,\"#46039f\"],[0.2222222222222222,\"#7201a8\"],[0.3333333333333333,\"#9c179e\"],[0.4444444444444444,\"#bd3786\"],[0.5555555555555556,\"#d8576b\"],[0.6666666666666666,\"#ed7953\"],[0.7777777777777778,\"#fb9f3a\"],[0.8888888888888888,\"#fdca26\"],[1.0,\"#f0f921\"]]}],\"mesh3d\":[{\"type\":\"mesh3d\",\"colorbar\":{\"outlinewidth\":0,\"ticks\":\"\"}}],\"scatter\":[{\"fillpattern\":{\"fillmode\":\"overlay\",\"size\":10,\"solidity\":0.2},\"type\":\"scatter\"}],\"parcoords\":[{\"type\":\"parcoords\",\"line\":{\"colorbar\":{\"outlinewidth\":0,\"ticks\":\"\"}}}],\"scatterpolargl\":[{\"type\":\"scatterpolargl\",\"marker\":{\"colorbar\":{\"outlinewidth\":0,\"ticks\":\"\"}}}],\"bar\":[{\"error_x\":{\"color\":\"#2a3f5f\"},\"error_y\":{\"color\":\"#2a3f5f\"},\"marker\":{\"line\":{\"color\":\"#E5ECF6\",\"width\":0.5},\"pattern\":{\"fillmode\":\"overlay\",\"size\":10,\"solidity\":0.2}},\"type\":\"bar\"}],\"scattergeo\":[{\"type\":\"scattergeo\",\"marker\":{\"colorbar\":{\"outlinewidth\":0,\"ticks\":\"\"}}}],\"scatterpolar\":[{\"type\":\"scatterpolar\",\"marker\":{\"colorbar\":{\"outlinewidth\":0,\"ticks\":\"\"}}}],\"histogram\":[{\"marker\":{\"pattern\":{\"fillmode\":\"overlay\",\"size\":10,\"solidity\":0.2}},\"type\":\"histogram\"}],\"scattergl\":[{\"type\":\"scattergl\",\"marker\":{\"colorbar\":{\"outlinewidth\":0,\"ticks\":\"\"}}}],\"scatter3d\":[{\"type\":\"scatter3d\",\"line\":{\"colorbar\":{\"outlinewidth\":0,\"ticks\":\"\"}},\"marker\":{\"colorbar\":{\"outlinewidth\":0,\"ticks\":\"\"}}}],\"scattermapbox\":[{\"type\":\"scattermapbox\",\"marker\":{\"colorbar\":{\"outlinewidth\":0,\"ticks\":\"\"}}}],\"scatterternary\":[{\"type\":\"scatterternary\",\"marker\":{\"colorbar\":{\"outlinewidth\":0,\"ticks\":\"\"}}}],\"scattercarpet\":[{\"type\":\"scattercarpet\",\"marker\":{\"colorbar\":{\"outlinewidth\":0,\"ticks\":\"\"}}}],\"carpet\":[{\"aaxis\":{\"endlinecolor\":\"#2a3f5f\",\"gridcolor\":\"white\",\"linecolor\":\"white\",\"minorgridcolor\":\"white\",\"startlinecolor\":\"#2a3f5f\"},\"baxis\":{\"endlinecolor\":\"#2a3f5f\",\"gridcolor\":\"white\",\"linecolor\":\"white\",\"minorgridcolor\":\"white\",\"startlinecolor\":\"#2a3f5f\"},\"type\":\"carpet\"}],\"table\":[{\"cells\":{\"fill\":{\"color\":\"#EBF0F8\"},\"line\":{\"color\":\"white\"}},\"header\":{\"fill\":{\"color\":\"#C8D4E3\"},\"line\":{\"color\":\"white\"}},\"type\":\"table\"}],\"barpolar\":[{\"marker\":{\"line\":{\"color\":\"#E5ECF6\",\"width\":0.5},\"pattern\":{\"fillmode\":\"overlay\",\"size\":10,\"solidity\":0.2}},\"type\":\"barpolar\"}],\"pie\":[{\"automargin\":true,\"type\":\"pie\"}]},\"layout\":{\"autotypenumbers\":\"strict\",\"colorway\":[\"#636efa\",\"#EF553B\",\"#00cc96\",\"#ab63fa\",\"#FFA15A\",\"#19d3f3\",\"#FF6692\",\"#B6E880\",\"#FF97FF\",\"#FECB52\"],\"font\":{\"color\":\"#2a3f5f\"},\"hovermode\":\"closest\",\"hoverlabel\":{\"align\":\"left\"},\"paper_bgcolor\":\"white\",\"plot_bgcolor\":\"#E5ECF6\",\"polar\":{\"bgcolor\":\"#E5ECF6\",\"angularaxis\":{\"gridcolor\":\"white\",\"linecolor\":\"white\",\"ticks\":\"\"},\"radialaxis\":{\"gridcolor\":\"white\",\"linecolor\":\"white\",\"ticks\":\"\"}},\"ternary\":{\"bgcolor\":\"#E5ECF6\",\"aaxis\":{\"gridcolor\":\"white\",\"linecolor\":\"white\",\"ticks\":\"\"},\"baxis\":{\"gridcolor\":\"white\",\"linecolor\":\"white\",\"ticks\":\"\"},\"caxis\":{\"gridcolor\":\"white\",\"linecolor\":\"white\",\"ticks\":\"\"}},\"coloraxis\":{\"colorbar\":{\"outlinewidth\":0,\"ticks\":\"\"}},\"colorscale\":{\"sequential\":[[0.0,\"#0d0887\"],[0.1111111111111111,\"#46039f\"],[0.2222222222222222,\"#7201a8\"],[0.3333333333333333,\"#9c179e\"],[0.4444444444444444,\"#bd3786\"],[0.5555555555555556,\"#d8576b\"],[0.6666666666666666,\"#ed7953\"],[0.7777777777777778,\"#fb9f3a\"],[0.8888888888888888,\"#fdca26\"],[1.0,\"#f0f921\"]],\"sequentialminus\":[[0.0,\"#0d0887\"],[0.1111111111111111,\"#46039f\"],[0.2222222222222222,\"#7201a8\"],[0.3333333333333333,\"#9c179e\"],[0.4444444444444444,\"#bd3786\"],[0.5555555555555556,\"#d8576b\"],[0.6666666666666666,\"#ed7953\"],[0.7777777777777778,\"#fb9f3a\"],[0.8888888888888888,\"#fdca26\"],[1.0,\"#f0f921\"]],\"diverging\":[[0,\"#8e0152\"],[0.1,\"#c51b7d\"],[0.2,\"#de77ae\"],[0.3,\"#f1b6da\"],[0.4,\"#fde0ef\"],[0.5,\"#f7f7f7\"],[0.6,\"#e6f5d0\"],[0.7,\"#b8e186\"],[0.8,\"#7fbc41\"],[0.9,\"#4d9221\"],[1,\"#276419\"]]},\"xaxis\":{\"gridcolor\":\"white\",\"linecolor\":\"white\",\"ticks\":\"\",\"title\":{\"standoff\":15},\"zerolinecolor\":\"white\",\"automargin\":true,\"zerolinewidth\":2},\"yaxis\":{\"gridcolor\":\"white\",\"linecolor\":\"white\",\"ticks\":\"\",\"title\":{\"standoff\":15},\"zerolinecolor\":\"white\",\"automargin\":true,\"zerolinewidth\":2},\"scene\":{\"xaxis\":{\"backgroundcolor\":\"#E5ECF6\",\"gridcolor\":\"white\",\"linecolor\":\"white\",\"showbackground\":true,\"ticks\":\"\",\"zerolinecolor\":\"white\",\"gridwidth\":2},\"yaxis\":{\"backgroundcolor\":\"#E5ECF6\",\"gridcolor\":\"white\",\"linecolor\":\"white\",\"showbackground\":true,\"ticks\":\"\",\"zerolinecolor\":\"white\",\"gridwidth\":2},\"zaxis\":{\"backgroundcolor\":\"#E5ECF6\",\"gridcolor\":\"white\",\"linecolor\":\"white\",\"showbackground\":true,\"ticks\":\"\",\"zerolinecolor\":\"white\",\"gridwidth\":2}},\"shapedefaults\":{\"line\":{\"color\":\"#2a3f5f\"}},\"annotationdefaults\":{\"arrowcolor\":\"#2a3f5f\",\"arrowhead\":0,\"arrowwidth\":1},\"geo\":{\"bgcolor\":\"white\",\"landcolor\":\"#E5ECF6\",\"subunitcolor\":\"white\",\"showland\":true,\"showlakes\":true,\"lakecolor\":\"white\"},\"title\":{\"x\":0.05},\"mapbox\":{\"style\":\"light\"}}},\"xaxis\":{\"anchor\":\"y\",\"domain\":[0.0,1.0],\"title\":{\"text\":\"pm1\"},\"range\":[-1.1,1.1],\"constrain\":\"domain\"},\"yaxis\":{\"anchor\":\"x\",\"domain\":[0.0,1.0],\"title\":{\"text\":\"pm2\"},\"scaleanchor\":\"x\",\"scaleratio\":1},\"legend\":{\"title\":{\"text\":\"Species\"},\"tracegroupgap\":0},\"title\":{\"text\":\"PM projection of thioredoxins colored by species\",\"x\":0.5},\"height\":800,\"shapes\":[{\"line\":{\"color\":\"black\",\"dash\":\"dot\"},\"opacity\":0.15,\"type\":\"circle\",\"x0\":-0.47058823529411764,\"x1\":0.47058823529411764,\"y0\":-0.47058823529411764,\"y1\":0.47058823529411764},{\"line\":{\"color\":\"black\",\"dash\":\"dot\"},\"opacity\":0.15,\"type\":\"circle\",\"x0\":-0.6447368421052633,\"x1\":0.6447368421052633,\"y0\":-0.6447368421052633,\"y1\":0.6447368421052633},{\"line\":{\"color\":\"black\",\"dash\":\"dot\"},\"opacity\":0.15,\"type\":\"circle\",\"x0\":-0.7705382436260623,\"x1\":0.7705382436260623,\"y0\":-0.7705382436260623,\"y1\":0.7705382436260623},{\"line\":{\"color\":\"black\",\"dash\":\"dot\"},\"opacity\":0.15,\"type\":\"circle\",\"x0\":-0.8557007125890737,\"x1\":0.8557007125890737,\"y0\":-0.8557007125890737,\"y1\":0.8557007125890737},{\"line\":{\"color\":\"black\",\"dash\":\"dot\"},\"opacity\":0.15,\"type\":\"circle\",\"x0\":-0.9108474990827933,\"x1\":0.9108474990827933,\"y0\":-0.9108474990827933,\"y1\":0.9108474990827933},{\"line\":{\"color\":\"black\",\"dash\":\"dot\"},\"opacity\":0.15,\"type\":\"circle\",\"x0\":-0.9455374041239167,\"x1\":0.9455374041239167,\"y0\":-0.9455374041239167,\"y1\":0.9455374041239167},{\"line\":{\"color\":\"Black\"},\"type\":\"circle\",\"x0\":-1,\"x1\":1,\"xref\":\"x\",\"y0\":-1,\"y1\":1,\"yref\":\"y\"},{\"fillcolor\":\"Black\",\"line\":{\"color\":\"Black\"},\"type\":\"circle\",\"x0\":-0.005,\"x1\":0.005,\"xref\":\"x\",\"y0\":-0.005,\"y1\":0.005,\"yref\":\"y\"}],\"yaxis2\":{\"matches\":\"y\",\"layer\":\"below traces\",\"overlaying\":\"y\"},\"plot_bgcolor\":\"rgba(0, 0, 0, 0)\",\"font\":{\"size\":11}},                        {\"responsive\": true}                    ).then(function(){\n",
       "                            \n",
       "var gd = document.getElementById('b5a0fe18-d645-4f3d-811f-43f059d7d906');\n",
       "var x = new MutationObserver(function (mutations, observer) {{\n",
       "        var display = window.getComputedStyle(gd).display;\n",
       "        if (!display || display === 'none') {{\n",
       "            console.log([gd, 'removed!']);\n",
       "            Plotly.purge(gd);\n",
       "            observer.disconnect();\n",
       "        }}\n",
       "}});\n",
       "\n",
       "// Listen for the removal of the full notebook cells\n",
       "var notebookContainer = gd.closest('#notebook-container');\n",
       "if (notebookContainer) {{\n",
       "    x.observe(notebookContainer, {childList: true});\n",
       "}}\n",
       "\n",
       "// Listen for the clearing of the current output cell\n",
       "var outputEl = gd.closest('.output');\n",
       "if (outputEl) {{\n",
       "    x.observe(outputEl, {childList: true});\n",
       "}}\n",
       "\n",
       "                        })                };                });            </script>        </div>"
      ]
     },
     "metadata": {},
     "output_type": "display_data"
    }
   ],
   "source": [
    "# OPTIONS =================================================\n",
    "title = \"PM projection of thioredoxins colored by species\"\n",
    "#----------------------------------------------------------\n",
    "# Select the coloring from annotation .csv file:\n",
    "labels_name = \"Species\"\n",
    "# Select classes to label among the \"labels_name\" column (comma separated list):\n",
    "labels_text = \"\"\n",
    "show_text = False\n",
    "#----------------------------------------------------------\n",
    "# Use a custom color palette:\n",
    "color_palette = trx_palette\n",
    "use_custom_palette = True\n",
    "#==========================================================\n",
    "\n",
    "\n",
    "#Check projection visualization parameters\n",
    "#Labels name\n",
    "if labels_name == \"\" and path_annotation == \"dummy_annotation.csv\":\n",
    "    labels_name = \"default\"\n",
    "elif labels_name == \"\":\n",
    "    labels_name = None\n",
    "elif labels_name not in annotation_names:\n",
    "    raise NameError(f\"labels_name {labels_name} is not in the availables annotations.\\nAvailables annotations: {annotation_names}\")\n",
    "\n",
    "#Labels text\n",
    "if labels_text:\n",
    "    try:\n",
    "        labels_text = [s.strip() for s in labels_text.split(\",\")]\n",
    "    except:\n",
    "        print(\"Error: label_text field is not a valid list.\")\n",
    "else:\n",
    "    labels_text = [\"\"]\n",
    "\n",
    "#Convert labels_text to labels_name dtype\n",
    "if labels_name and labels_name != \"default\" and labels_text != [\"\"]:\n",
    "    try:\n",
    "        labels_text_dtype = df_annotation[labels_name].dtypes\n",
    "        labels_text = list(np.array(labels_text).astype(labels_text_dtype))\n",
    "    except:\n",
    "        raise TypeError(f'\"labels_text\" is not compatible with {labels_name}\" data format ({labels_text_dtype}).')\n",
    "\n",
    "if not use_custom_palette:\n",
    "    color_palette = None\n",
    "\n",
    "#Plot graph\n",
    "fig = plot_embedding_interactive(df_embedding, \n",
    "                                 labels_name = labels_name,\n",
    "                                 show_text = show_text,\n",
    "                                 labels_text = labels_text,\n",
    "                                 color_palette = color_palette, \n",
    "                                 title = title, \n",
    "                                 fontsize = 11)\n",
    "fig.show()"
   ]
  },
  {
   "cell_type": "markdown",
   "metadata": {},
   "source": [
    "### Save plot to file"
   ]
  },
  {
   "cell_type": "code",
   "execution_count": 8,
   "metadata": {},
   "outputs": [],
   "source": [
    "# OPTIONS =================================================\n",
    "output_name = \"fig1\"\n",
    "output_format = \"png\" #Format availables: [\"png\", \"html\", \"pdf\", \"svg\"]\n",
    "#==========================================================\n",
    "\n",
    "\n",
    "if output_format != \"html\":\n",
    "    fig.write_image(f\"{output_name}.{output_format}\", engine=\"kaleido\")\n",
    "else:\n",
    "    fig.write_html(f\"{output_name}.{output_format}\")"
   ]
  }
 ],
 "metadata": {
  "accelerator": "GPU",
  "colab": {
   "provenance": []
  },
  "gpuClass": "standard",
  "kernelspec": {
   "display_name": "Python 3",
   "language": "python",
   "name": "python3"
  },
  "language_info": {
   "codemirror_mode": {
    "name": "ipython",
    "version": 3
   },
   "file_extension": ".py",
   "mimetype": "text/x-python",
   "name": "python",
   "nbconvert_exporter": "python",
   "pygments_lexer": "ipython3",
   "version": "3.7.9"
  }
 },
 "nbformat": 4,
 "nbformat_minor": 1
}
