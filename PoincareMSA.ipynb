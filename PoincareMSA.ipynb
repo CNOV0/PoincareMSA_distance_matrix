{
 "cells": [
  {
   "cell_type": "markdown",
   "metadata": {
    "id": "view-in-github"
   },
   "source": [
    "[![Open In Colab](https://colab.research.google.com/assets/colab-badge.svg)](https://colab.research.google.com/github/klanita/PoincareMSA/blob/master/PoincareMSA_colab.ipynb)"
   ]
  },
  {
   "cell_type": "markdown",
   "metadata": {
    "id": "W5FTaqy0xqw2"
   },
   "source": [
    "<img src=\"https://github.com/klanita/PoincareMSA/blob/master/.github/PoincareMSA_small_logo.png?raw=true\" height=\"100\" style=\"height:100px;margin-left: 0px;\">\n",
    "\n",
    "\n",
    "# Poincaré maps for visualization of large protein famillies\n",
    "\n",
    "PoincareMSA builds a projection of protein multiple sequence alignemnt (MSA) on a Poincaré disk. The proximity of the points to the disk center corresponds to their hierarchy and correlates with the proximity of the proteins to the root of the phylogenetic tree. Thus, must central point often correspond to the ancestor proteins and protein located close to the border to the leaves of phylogenetic tree."
   ]
  },
  {
   "cell_type": "markdown",
   "metadata": {
    "id": "Oa7Rrq-YzfQB"
   },
   "source": [
    "# Notebook initialization"
   ]
  },
  {
   "cell_type": "markdown",
   "metadata": {},
   "source": [
    "### Load dependencies"
   ]
  },
  {
   "cell_type": "code",
   "execution_count": 1,
   "metadata": {
    "cellView": "form",
    "colab": {
     "base_uri": "https://localhost:8080/"
    },
    "id": "X_SO37g-kQq7",
    "outputId": "c30184db-2ef2-4a87-fd43-db8fd3ed5379"
   },
   "outputs": [],
   "source": [
    "import os\n",
    "import numpy as np\n",
    "import pandas as pd\n",
    "import warnings\n",
    "warnings.filterwarnings('ignore')\n",
    "\n",
    "#Import visualization functions\n",
    "from scripts.visualize_projection.pplots_new import read_embeddings, plot_embedding, plot_embedding_interactive, rotate, get_colors\n",
    "%matplotlib inline\n",
    "\n",
    "#Create optional variables\n",
    "path_annotation = \"\""
   ]
  },
  {
   "cell_type": "markdown",
   "metadata": {
    "id": "IPi6cky3wgC8"
   },
   "source": [
    "# Data import"
   ]
  },
  {
   "cell_type": "code",
   "execution_count": 2,
   "metadata": {
    "cellView": "form",
    "colab": {
     "base_uri": "https://localhost:8080/",
     "height": 75,
     "resources": {
      "http://localhost:8080/nbextensions/google.colab/files.js": {
       "data": "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",
       "headers": [
        [
         "content-type",
         "application/javascript"
        ]
       ],
       "ok": true,
       "status": 200,
       "status_text": "OK"
      }
     }
    },
    "id": "GcbgnooHwIGh",
    "outputId": "dc30ce27-d01c-4953-cdb7-9d5fe599ad6d"
   },
   "outputs": [
    {
     "name": "stdout",
     "output_type": "stream",
     "text": [
      "\n",
      "Number of sequences found: 252.\n",
      "\n",
      "Annotation file correctly loaded.\n",
      "11 annotations found: ['proteins_id', 'tree1', 'tree2', 'tree3', 'tree4', 'full_name', 'short_name', 'full_species', 'short_species', 'evo_distance', 'Color_species'].\n"
     ]
    }
   ],
   "source": [
    "# OPTIONS =================================================\n",
    "mfasta = \"examples/globins/glob.mfasta\"\n",
    "path_annotation = \"examples/globins/globin_colors_new.csv\" #Optional (Default: \"\")\n",
    "#==========================================================\n",
    "\n",
    "#Check files\n",
    "#mfasta\n",
    "nb_seq = 0\n",
    "if os.path.isfile(mfasta):\n",
    "    with open(mfasta, \"r\") as f_in:\n",
    "        for line in f_in:\n",
    "            if line[0] == \">\":\n",
    "                nb_seq += 1\n",
    "    print(f\"\\nNumber of sequences found: {nb_seq}.\")\n",
    "else:\n",
    "    print(f\"File {mfasta} not found.\")\n",
    "\n",
    "#Annotations\n",
    "if os.path.isfile(path_annotation):\n",
    "    try:\n",
    "        df_annotation = pd.read_csv(path_annotation)\n",
    "        if len(df_annotation) != nb_seq:\n",
    "            raise ValueError(\"Annotation file doesn't match the .mfasta file length.\")\n",
    "    except:\n",
    "        raise ValueError(\"Annotation file is not in .csv format.\")\n",
    "    print(\"\\nAnnotation file correctly loaded.\")\n",
    "    annotation_names = list(df_annotation.columns)\n",
    "    print(f\"{len(annotation_names)} annotations found: {annotation_names}.\")\n",
    "else:\n",
    "    if path_annotation:\n",
    "        print(f\"File {path_annotation} not found.\")\n",
    "    else:\n",
    "        print(\"No annotation file selected.\")\n",
    "    path_annotation = \"\""
   ]
  },
  {
   "cell_type": "markdown",
   "metadata": {
    "id": "_H2vnIt_3kUz"
   },
   "source": [
    "# Settings"
   ]
  },
  {
   "cell_type": "code",
   "execution_count": 3,
   "metadata": {
    "cellView": "form",
    "id": "9hLq_MgX6hFC"
   },
   "outputs": [],
   "source": [
    "# OPTIONS =================================================\n",
    "# Job name\n",
    "out_name = \"poincareMSA\"\n",
    "#----------------------------------------------------------\n",
    "# Threshold for filtering gapped positions\n",
    "gapth = 0.9 \n",
    "#----------------------------------------------------------\n",
    "# Projection parameters\n",
    "knn = 5\n",
    "gamma = 2\n",
    "sigma = 1\n",
    "cospca = 0\n",
    "batchs = 4\n",
    "epochs = 1000\n",
    "seed = 0\n",
    "mode = 'precomputed'  # 'features' or 'precomputed'\n",
    "distfile = 'output_phyl.csv'  # name of the distance file\n",
    "#=========================================================="
   ]
  },
  {
   "cell_type": "markdown",
   "metadata": {
    "id": "Dv0lg4Jn-dfG"
   },
   "source": [
    "# Data preparation and data projection using Poincaré disk"
   ]
  },
  {
   "cell_type": "code",
   "execution_count": 6,
   "metadata": {
    "cellView": "form",
    "colab": {
     "base_uri": "https://localhost:8080/"
    },
    "id": "A2I17cpYXGoB",
    "outputId": "a1b01a51-2182-4f97-a653-eedc42405a80"
   },
   "outputs": [
    {
     "name": "stdout",
     "output_type": "stream",
     "text": [
      "1. Data preparation\n",
      "Input file: examples/globins/glob.mfasta\n",
      "Name of the protein family: glob\n",
      "80 X aa replaced by gaps in 252 sequences\n",
      "filter_gaps finished for examples/globins/glob.mfasta\n",
      "mfasta2fasta finished for poincareMSA/poincareMSA.clean0.9.mfasta\n",
      "80 X aa replaced by gaps in 252 sequences\n",
      "\n",
      "2. Data projection using Poincaré disk\n",
      "CUDA: False\n",
      "Random seed set as 0\n",
      "252 proteins found in folder poincareMSA/fasta0.9.\n",
      "No root detected\n",
      "Prepare data: tensor construction\n",
      "Prepare data: successfully terminated\n",
      "252\n",
      "Computing laplacian...\n",
      "Laplacian computed in 0.04 sec\n",
      "Computing RFA...\n",
      "RFA computed in 0.00 sec\n",
      "Starting training...\n",
      "loss: 0.24305:  57%|██████████████▏          | 567/1000 [00:30<00:24, 17.87it/s]\n",
      "Stopped at epoch 567\n",
      "loss: 0.24305:  57%|██████████████▏          | 567/1000 [00:30<00:23, 18.30it/s]\n",
      "PM computed in 30.99 sec\n",
      "\n",
      "loss = 2.431e-01\n",
      "time = 0.517 min\n",
      "\n",
      "3. Format data for visualization\n",
      "done\n"
     ]
    }
   ],
   "source": [
    "# 1. Data preparation\n",
    "# Data preparation consists in `.mfasta` cleaning according to a gap threshold and translation of each sequence to the PSSM profile.\n",
    "print(\"1. Data preparation\")\n",
    "prep_parameters = \"scripts/prepare_data\" + \" \" + mfasta + \" \" + out_name + \" \" + out_name + \" \" + str(gapth)\n",
    "bash_projection = \"bash scripts/prepare_data/create_projection.sh \" + prep_parameters\n",
    "!{bash_projection}\n",
    "\n",
    "print(\"\\n2. Data projection using Poincaré disk\")\n",
    "# 2. Data projection using Poincaré disk\n",
    "#This step creates a projection of encoded sequences to a Poincaré disk.\n",
    "bash_pm = \"python3 \"+ \"scripts/build_poincare_map/main.py --input_path \" + out_name + \"/fasta\" + str(gapth) + \" --output_path \" + out_name + \"/projections/ --gamma \"+ str(gamma) +\" --pca \"+ str(cospca) + \" --epochs \"+ str(epochs) +\" --seed \"+ str(seed) + \" --knn \" + str(knn) + \" --mode \" + mode + \" --distfile \" + distfile\n",
    "!{bash_pm}\n",
    "\n",
    "print(\"\\n3. Format data for visualization\")\n",
    "# 3. Format data for visualization\n",
    "#Check that an annotation file was provided. Create a dummy one instead\n",
    "if not path_annotation:\n",
    "    df_annotation = pd.DataFrame(list(zip(list(range(1,nb_seq+1)), np.full(nb_seq, \"-\", dtype=object))), columns=[\"id\", \"default\"])\n",
    "    df_annotation.to_csv(\"dummy_annotation.csv\", index=False)\n",
    "    path_annotation = \"dummy_annotation.csv\"\n",
    "    annotation_names = [\"id\", \"default\"]\n",
    "\n",
    "path_embedding = f\"{out_name}/projections/PM{knn:1.0f}sigma={sigma:2.2f}gamma={gamma:2.2f}cosinepca={cospca:1.0f}_seed{seed:1.0f}.csv\"\n",
    "df_embedding = read_embeddings(path_embedding, path_annotation, withroot=False)\n",
    "print(\"done\")"
   ]
  },
  {
   "cell_type": "markdown",
   "metadata": {
    "id": "gRxHHfjX7CHF"
   },
   "source": [
    "# Projection visualization"
   ]
  },
  {
   "cell_type": "code",
   "execution_count": 10,
   "metadata": {
    "cellView": "form",
    "colab": {
     "base_uri": "https://localhost:8080/",
     "height": 886
    },
    "id": "zLb9h9S4eKUD",
    "outputId": "58e8c73a-4869-4305-ecfb-bccc80d06db1"
   },
   "outputs": [
    {
     "data": {
      "application/vnd.plotly.v1+json": {
       "config": {
        "plotlyServerURL": "https://plot.ly"
       },
       "data": [
        {
         "customdata": [
          [
           5,
           3,
           3,
           2,
           "Globin C, coelomic",
           "Globin",
           "Caudina arenicola",
           "Caudina",
           2.10112824,
           "Echinodermata",
           "na"
          ],
          [
           -1,
           39,
           20,
           10,
           "Uncharacterized protein",
           "Uncharacterized",
           "Strongylocentrotus purpuratus",
           "Strongylocentrotus",
           1.75283422,
           "Echinodermata",
           "na"
          ],
          [
           4,
           2,
           3,
           2,
           "Hemoglobin",
           "Hemoglobin",
           "Hemipholis cordifera",
           "Hemipholis",
           2.32722587,
           "Echinodermata",
           "na"
          ],
          [
           4,
           2,
           3,
           2,
           "Hemoglobin",
           "Hemoglobin",
           "Ophiactis simplex",
           "Ophiactis",
           2.21961074,
           "Echinodermata",
           "na"
          ],
          [
           4,
           2,
           3,
           2,
           "Hemoglobin",
           "Hemoglobin",
           "Ophiactis simplex",
           "Ophiactis",
           2.26245834,
           "Echinodermata",
           "na"
          ],
          [
           14,
           10,
           9,
           3,
           "Uncharacterized protein",
           "Uncharacterized",
           "Strongylocentrotus purpuratus",
           "Strongylocentrotus",
           2.65354782,
           "Echinodermata",
           "na"
          ],
          [
           14,
           10,
           9,
           3,
           "Uncharacterized protein",
           "Uncharacterized",
           "Strongylocentrotus purpuratus",
           "Strongylocentrotus",
           2.58692572,
           "Echinodermata",
           "na"
          ],
          [
           -1,
           10,
           9,
           3,
           "Uncharacterized protein",
           "Uncharacterized",
           "Strongylocentrotus purpuratus",
           "Strongylocentrotus",
           2.51919106,
           "Echinodermata",
           "na"
          ],
          [
           14,
           10,
           9,
           3,
           "Uncharacterized protein",
           "Uncharacterized",
           "Strongylocentrotus purpuratus",
           "Strongylocentrotus",
           2.27606469,
           "Echinodermata",
           "na"
          ],
          [
           14,
           10,
           9,
           3,
           "Uncharacterized protein",
           "Uncharacterized",
           "Strongylocentrotus purpuratus",
           "Strongylocentrotus",
           2.86747135,
           "Echinodermata",
           "na"
          ]
         ],
         "hovertemplate": "<b>%{hovertext}</b><br><br>Color_species=%{customdata[9]}<br>pm1=%{x}<br>pm2=%{y}<br>tree1=%{customdata[0]}<br>tree2=%{customdata[1]}<br>tree3=%{customdata[2]}<br>tree4=%{customdata[3]}<br>full_name=%{customdata[4]}<br>short_name=%{customdata[5]}<br>full_species=%{customdata[6]}<br>short_species=%{customdata[7]}<br>evo_distance=%{customdata[8]}<br>labels=%{customdata[10]}<extra></extra>",
         "hovertext": [
          "Echinodermata",
          "Echinodermata",
          "Echinodermata",
          "Echinodermata",
          "Echinodermata",
          "Echinodermata",
          "Echinodermata",
          "Echinodermata",
          "Echinodermata",
          "Echinodermata"
         ],
         "legendgroup": "Echinodermata",
         "marker": {
          "color": "#636efa",
          "symbol": "circle"
         },
         "mode": "markers",
         "name": "Echinodermata",
         "orientation": "v",
         "showlegend": true,
         "textposition": "top right",
         "type": "scatter",
         "x": [
          0.45498812,
          0.041303,
          0.45794305,
          0.32955638,
          -0.30100244,
          -0.34660777,
          0.040639296,
          0.5483189,
          0.04149888,
          -0.713502
         ],
         "xaxis": "x",
         "y": [
          -0.5015809,
          0.4317472,
          -0.4343892,
          -0.8905864,
          -0.48261333,
          -0.41325933,
          0.43868592,
          0.4122775,
          0.43108675,
          0.66192275
         ],
         "yaxis": "y"
        },
        {
         "customdata": [
          [
           -1,
           28,
           18,
           10,
           "Globin (Fragment)",
           "Globin",
           "Stegodyphus mimosarum",
           "Stegodyphus",
           1.7572795,
           "Arthropoda",
           "na"
          ],
          [
           -1,
           27,
           18,
           10,
           "Uncharacterized protein",
           "Uncharacterized",
           "Strigamia maritima",
           "Strigamia",
           2.04148677,
           "Arthropoda",
           "na"
          ],
          [
           37,
           27,
           18,
           10,
           "Uncharacterized protein",
           "Uncharacterized",
           "Scylla olivacea",
           "Scylla",
           2.31816861,
           "Arthropoda",
           "na"
          ],
          [
           37,
           27,
           18,
           10,
           "Uncharacterized protein",
           "Uncharacterized",
           "Scylla olivacea",
           "Scylla",
           2.17077532,
           "Arthropoda",
           "na"
          ],
          [
           37,
           27,
           18,
           10,
           "Hemoglobin",
           "Hemoglobin",
           "Carcinus maenas",
           "Carcinus",
           2.1764956200000003,
           "Arthropoda",
           "na"
          ],
          [
           -1,
           29,
           18,
           10,
           "Globin, putative",
           "Globin,",
           "Ixodes scapularis",
           "Ixodes",
           2.30448645,
           "Arthropoda",
           "na"
          ],
          [
           40,
           28,
           18,
           10,
           "Globin",
           "Globin",
           "Zootermopsis nevadensis",
           "Zootermopsis",
           1.87201142,
           "Arthropoda",
           "na"
          ],
          [
           40,
           28,
           18,
           10,
           "Globin like protein (Fragment)",
           "Globin",
           "Coptotermes formosanus",
           "Coptotermes",
           1.7741922,
           "Arthropoda",
           "na"
          ],
          [
           -1,
           28,
           18,
           10,
           "Uncharacterized protein",
           "Uncharacterized",
           "Oryctes borbonicus",
           "Oryctes",
           2.08382808,
           "Arthropoda",
           "na"
          ],
          [
           -1,
           27,
           18,
           10,
           "Uncharacterized protein",
           "Uncharacterized",
           "Tetranychus urticae",
           "Tetranychus",
           2.47172868,
           "Arthropoda",
           "na"
          ],
          [
           -1,
           40,
           22,
           11,
           "ACYPI007228 protein",
           "ACYPI007228",
           "Acyrthosiphon pisum",
           "Acyrthosiphon",
           0.44459959,
           "Arthropoda",
           "na"
          ],
          [
           39,
           28,
           18,
           10,
           "Globin 1",
           "Globin",
           "Apis mellifera",
           "Apis",
           2.242503,
           "Arthropoda",
           "na"
          ],
          [
           39,
           28,
           18,
           10,
           "Putative uncharacterized protein (Fragment)",
           "Putative",
           "Solenopsis invicta",
           "Solenopsis",
           2.64407828,
           "Arthropoda",
           "na"
          ],
          [
           38,
           28,
           18,
           10,
           "Globin",
           "Globin",
           "Habropoda laboriosa",
           "Habropoda",
           2.60605258,
           "Arthropoda",
           "na"
          ],
          [
           38,
           28,
           18,
           10,
           "Cygb2_0 protein",
           "Cygb2_0",
           "Fopius arisanus",
           "Fopius",
           2.25335988,
           "Arthropoda",
           "na"
          ],
          [
           39,
           28,
           18,
           10,
           "Cytoglobin 2",
           "Cytoglobin",
           "Cerapachys biroi",
           "Cerapachys",
           2.52009681,
           "Arthropoda",
           "na"
          ],
          [
           39,
           28,
           18,
           10,
           "Globin",
           "Globin",
           "Camponotus floridanus",
           "Camponotus",
           2.60584071,
           "Arthropoda",
           "na"
          ],
          [
           38,
           28,
           18,
           10,
           "Uncharacterized protein",
           "Uncharacterized",
           "Nasonia vitripennis",
           "Nasonia",
           2.25387252,
           "Arthropoda",
           "na"
          ],
          [
           39,
           28,
           18,
           10,
           "Cytoglobin",
           "Cytoglobin",
           "Acromyrmex echinatior",
           "Acromyrmex",
           2.64639149,
           "Arthropoda",
           "na"
          ],
          [
           -1,
           28,
           18,
           10,
           "Globin like Protein",
           "Globin",
           "Tribolium castaneum",
           "Tribolium",
           2.42579023,
           "Arthropoda",
           "na"
          ],
          [
           -1,
           34,
           18,
           10,
           "Cytoglobin 1 like protein",
           "Cytoglobin",
           "Sarcoptes scabiei",
           "Sarcoptes",
           2.036886,
           "Arthropoda",
           "na"
          ],
          [
           -1,
           37,
           21,
           10,
           "Uncharacterized protein",
           "Uncharacterized",
           "Lutzomyia longipalpis",
           "Lutzomyia",
           1.94649826,
           "Arthropoda",
           "na"
          ],
          [
           47,
           36,
           21,
           10,
           "Putative hemoglobin like flavoprotein (Fragment)",
           "Hemoglobin",
           "Rhodnius neglectus",
           "Rhodnius",
           1.84627905,
           "Arthropoda",
           "na"
          ],
          [
           47,
           36,
           21,
           10,
           "Putative hemoglobin like flavoprotein (Fragment)",
           "Hemoglobin",
           "Triatoma infestans",
           "Triatoma",
           1.9043777,
           "Arthropoda",
           "na"
          ],
          [
           -1,
           29,
           18,
           10,
           "Uncharacterized protein (Fragment)",
           "Uncharacterized",
           "Ixodes ricinus",
           "Ixodes",
           1.7778336,
           "Arthropoda",
           "na"
          ],
          [
           37,
           27,
           18,
           10,
           "Cytoglobin 2 isoform CYGBi2",
           "Cytoglobin",
           "Cherax destructor",
           "Cherax",
           2.23555225,
           "Arthropoda",
           "na"
          ],
          [
           17,
           12,
           10,
           4,
           "ACYPI001485 protein",
           "ACYPI001485",
           "Acyrthosiphon pisum",
           "Acyrthosiphon",
           2.696499399999999,
           "Arthropoda",
           "na"
          ],
          [
           2,
           1,
           2,
           1,
           "Globin 2",
           "Globin",
           "Chironomus riparius",
           "Chironomus",
           2.70002825,
           "Arthropoda",
           "na"
          ],
          [
           1,
           1,
           2,
           1,
           "Globin",
           "Globin",
           "Polypedilum nubifer",
           "Polypedilum",
           2.36102778,
           "Arthropoda",
           "na"
          ],
          [
           1,
           1,
           2,
           1,
           "Globin",
           "Globin",
           "Polypedilum vanderplanki",
           "Polypedilum",
           2.43793183,
           "Arthropoda",
           "na"
          ],
          [
           3,
           1,
           2,
           1,
           "Globin",
           "Globin",
           "Polypedilum vanderplanki",
           "Polypedilum",
           2.2183017099999995,
           "Arthropoda",
           "na"
          ],
          [
           2,
           1,
           2,
           1,
           "Globin",
           "Globin",
           "Polypedilum nubifer",
           "Polypedilum",
           2.47503634,
           "Arthropoda",
           "na"
          ],
          [
           3,
           1,
           2,
           1,
           "Globin",
           "Globin",
           "Polypedilum nubifer",
           "Polypedilum",
           2.35802433,
           "Arthropoda",
           "na"
          ],
          [
           3,
           1,
           2,
           1,
           "Globin",
           "Globin",
           "Polypedilum vanderplanki",
           "Polypedilum",
           2.28362716,
           "Arthropoda",
           "na"
          ],
          [
           3,
           1,
           2,
           1,
           "Globin 11",
           "Globin",
           "Chironomus riparius",
           "Chironomus",
           2.29971074,
           "Arthropoda",
           "na"
          ],
          [
           1,
           1,
           2,
           1,
           "ORF E protein",
           "ORF",
           "Chironomus tentans",
           "Chironomus",
           2.85858686,
           "Arthropoda",
           "na"
          ],
          [
           1,
           1,
           2,
           1,
           "Globin",
           "Globin",
           "Polypedilum nubifer",
           "Polypedilum",
           2.56719369,
           "Arthropoda",
           "na"
          ],
          [
           1,
           1,
           2,
           1,
           "Globin",
           "Globin",
           "Polypedilum nubifer",
           "Polypedilum",
           2.57670915,
           "Arthropoda",
           "na"
          ],
          [
           17,
           12,
           10,
           4,
           "Globin D, coelomic, putative",
           "Globin",
           "Pediculus humanus",
           "Pediculus",
           2.749354739999999,
           "Arthropoda",
           "na"
          ],
          [
           36,
           26,
           18,
           10,
           "Putative uncharacterized protein",
           "Putative",
           "Daphnia pulex",
           "Daphnia",
           2.15851408,
           "Arthropoda",
           "na"
          ],
          [
           7,
           5,
           1,
           2,
           "Di domain hemoglobin",
           "Hemoglobin",
           "Daphnia magna",
           "Daphnia",
           2.95378198,
           "Arthropoda",
           "na"
          ],
          [
           7,
           5,
           1,
           2,
           "Putative uncharacterized protein",
           "Putative",
           "Daphnia pulex",
           "Daphnia",
           2.7632934700000003,
           "Arthropoda",
           "na"
          ],
          [
           7,
           5,
           1,
           2,
           "Putative uncharacterized protein",
           "Putative",
           "Daphnia pulex",
           "Daphnia",
           2.79767424,
           "Arthropoda",
           "na"
          ],
          [
           -1,
           14,
           10,
           4,
           "Neuroglobin",
           "Neuroglobin",
           "Daphnia magna",
           "Daphnia",
           2.620574789999999,
           "Arthropoda",
           "na"
          ],
          [
           9,
           4,
           1,
           2,
           "Putative di domain hemoglobin",
           "Hemoglobin",
           "Daphnia magna",
           "Daphnia",
           1.84605186,
           "Arthropoda",
           "na"
          ],
          [
           9,
           4,
           1,
           2,
           "Putative di domain hemoglobin",
           "Hemoglobin",
           "Daphnia magna",
           "Daphnia",
           1.84634758,
           "Arthropoda",
           "na"
          ],
          [
           9,
           4,
           1,
           2,
           "Di domain hemoglobin (Fragment)",
           "Hemoglobin",
           "Daphnia magna",
           "Daphnia",
           1.75867537,
           "Arthropoda",
           "na"
          ],
          [
           9,
           4,
           1,
           2,
           "Di domain hemoglobin (Fragment)",
           "Hemoglobin",
           "Daphnia magna",
           "Daphnia",
           1.7849976899999995,
           "Arthropoda",
           "na"
          ],
          [
           -1,
           29,
           18,
           10,
           "Beta chain of the tetrameric hemoglobin, putative",
           "Hemoglobin",
           "Ixodes scapularis",
           "Ixodes",
           2.34867746,
           "Arthropoda",
           "na"
          ],
          [
           9,
           4,
           1,
           2,
           "Putative di domain hemoglobin",
           "Hemoglobin",
           "Daphnia magna",
           "Daphnia",
           1.99097658,
           "Arthropoda",
           "na"
          ],
          [
           9,
           4,
           1,
           2,
           "Putative di domain hemoglobin (Fragment)",
           "Hemoglobin",
           "Daphnia magna",
           "Daphnia",
           1.89847506,
           "Arthropoda",
           "na"
          ],
          [
           9,
           4,
           1,
           2,
           "Putative di domain hemoglobin",
           "Hemoglobin",
           "Daphnia magna",
           "Daphnia",
           2.00307168,
           "Arthropoda",
           "na"
          ],
          [
           -1,
           5,
           1,
           2,
           "Di domain hemoglobin (Fragment)",
           "Hemoglobin",
           "Daphnia magna",
           "Daphnia",
           2.36856662,
           "Arthropoda",
           "na"
          ],
          [
           39,
           28,
           18,
           10,
           "Globin",
           "Globin",
           "Harpegnathos saltator",
           "Harpegnathos",
           2.62513263,
           "Arthropoda",
           "na"
          ],
          [
           40,
           28,
           18,
           10,
           "Globin",
           "Globin",
           "Zootermopsis nevadensis",
           "Zootermopsis",
           1.7189102399999998,
           "Arthropoda",
           "na"
          ],
          [
           6,
           5,
           1,
           2,
           "Di domain hemoglobin",
           "Hemoglobin",
           "Daphnia magna",
           "Daphnia",
           3.08054532,
           "Arthropoda",
           "na"
          ],
          [
           9,
           4,
           1,
           2,
           "Putative uncharacterized protein",
           "Putative",
           "Daphnia pulex",
           "Daphnia",
           1.88554508,
           "Arthropoda",
           "na"
          ],
          [
           9,
           4,
           1,
           2,
           "Hemoglobin",
           "Hemoglobin",
           "Daphnia magna",
           "Daphnia",
           1.82335212,
           "Arthropoda",
           "na"
          ],
          [
           9,
           4,
           1,
           2,
           "Hemoglobin",
           "Hemoglobin",
           "Daphnia pulex",
           "Daphnia",
           1.85557538,
           "Arthropoda",
           "na"
          ],
          [
           9,
           4,
           1,
           2,
           "Hemoglobin",
           "Hemoglobin",
           "Daphnia pulex",
           "Daphnia",
           1.88942132,
           "Arthropoda",
           "na"
          ],
          [
           9,
           4,
           1,
           2,
           "Hemoglobin",
           "Hemoglobin",
           "Daphnia pulex",
           "Daphnia",
           1.91532281,
           "Arthropoda",
           "na"
          ],
          [
           9,
           4,
           1,
           2,
           "Di domain hemoglobin",
           "Hemoglobin",
           "Daphnia magna",
           "Daphnia",
           1.92797924,
           "Arthropoda",
           "na"
          ],
          [
           8,
           5,
           1,
           2,
           "Putative uncharacterized protein (Fragment)",
           "Putative",
           "Daphnia pulex",
           "Daphnia",
           2.34983516,
           "Arthropoda",
           "na"
          ],
          [
           8,
           5,
           1,
           2,
           "Uncharacterized protein (Fragment)",
           "Uncharacterized",
           "Daphnia magna",
           "Daphnia",
           2.22413281,
           "Arthropoda",
           "na"
          ],
          [
           -1,
           -1,
           -1,
           8,
           "Globin (Fragment)",
           "Globin",
           "Operophtera brumata",
           "Operophtera",
           2.5920814199999995,
           "Arthropoda",
           "na"
          ],
          [
           -1,
           -1,
           18,
           10,
           "Globin",
           "Globin",
           "Daphnia magna",
           "Daphnia",
           2.39585067,
           "Arthropoda",
           "na"
          ],
          [
           9,
           4,
           1,
           2,
           "Putative di domain hemoglobin (Fragment)",
           "Hemoglobin",
           "Daphnia magna",
           "Daphnia",
           1.97351688,
           "Arthropoda",
           "na"
          ],
          [
           9,
           4,
           1,
           2,
           "Di domain hemoglobin",
           "Hemoglobin",
           "Daphnia magna",
           "Daphnia",
           2.01628845,
           "Arthropoda",
           "na"
          ],
          [
           10,
           38,
           22,
           9,
           "Hemoglobin T1 polymer",
           "Hemoglobin",
           "Artemia salina",
           "Artemia",
           1.84725956,
           "Arthropoda",
           "na"
          ],
          [
           10,
           38,
           22,
           9,
           "Hemoglobin P polymer",
           "Hemoglobin",
           "Parartemia zietziana",
           "Parartemia",
           1.91905851,
           "Arthropoda",
           "na"
          ],
          [
           11,
           38,
           22,
           9,
           "Hemoglobin T1 polymer",
           "Hemoglobin",
           "Artemia salina",
           "Artemia",
           1.78050468,
           "Arthropoda",
           "na"
          ],
          [
           11,
           38,
           22,
           9,
           "Hemoglobin P polymer",
           "Hemoglobin",
           "Parartemia zietziana",
           "Parartemia",
           1.73983856,
           "Arthropoda",
           "na"
          ],
          [
           11,
           38,
           22,
           9,
           "Hemoglobin C1 polymer",
           "Hemoglobin",
           "Artemia salina",
           "Artemia",
           1.70252921,
           "Arthropoda",
           "na"
          ],
          [
           36,
           26,
           18,
           10,
           "Cytoglobin 2",
           "Cytoglobin",
           "Daphnia magna",
           "Daphnia",
           2.23126274,
           "Arthropoda",
           "na"
          ],
          [
           -1,
           -1,
           18,
           10,
           "Globin like protein 1",
           "Globin",
           "Sarcoptes scabiei",
           "Sarcoptes",
           2.11760394,
           "Arthropoda",
           "na"
          ],
          [
           -1,
           38,
           22,
           9,
           "Hemoglobin P polymer",
           "Hemoglobin",
           "Parartemia zietziana",
           "Parartemia",
           2.0891213,
           "Arthropoda",
           "na"
          ],
          [
           -1,
           40,
           22,
           11,
           "Uncharacterized protein",
           "Uncharacterized",
           "Acyrthosiphon pisum",
           "Acyrthosiphon",
           0.90085961,
           "Arthropoda",
           "na"
          ],
          [
           -1,
           12,
           10,
           4,
           "Uncharacterized protein",
           "Uncharacterized",
           "Lepeophtheirus salmonis",
           "Lepeophtheirus",
           3.34308881,
           "Arthropoda",
           "na"
          ],
          [
           -1,
           37,
           21,
           10,
           "Uncharacterized protein",
           "Uncharacterized",
           "Glossina morsitans",
           "Glossina",
           2.01930981,
           "Arthropoda",
           "na"
          ],
          [
           -1,
           -1,
           19,
           10,
           "Cytoglobin1like [Saccoglossus kowalevskii]",
           "Cytoglobin",
           "Lepeophtheirus salmonis",
           "Lepeophtheirus",
           2.17551995,
           "Arthropoda",
           "na"
          ],
          [
           6,
           5,
           1,
           2,
           "Di domain hemoglobin (Fragment)",
           "Hemoglobin",
           "Daphnia magna",
           "Daphnia",
           2.94537689,
           "Arthropoda",
           "na"
          ],
          [
           -1,
           12,
           10,
           4,
           "Neuroglobinlike [Maylandia zebra]",
           "Neuroglobin",
           "Lepeophtheirus salmonis",
           "Lepeophtheirus",
           3.308708769999999,
           "Arthropoda",
           "na"
          ],
          [
           9,
           4,
           1,
           2,
           "Di domain hemoglobin like protein",
           "Hemoglobin",
           "Daphnia magna",
           "Daphnia",
           2.34751979,
           "Arthropoda",
           "na"
          ],
          [
           -1,
           -1,
           -1,
           2,
           "Putative di domain hemoglobin (Fragment)",
           "Hemoglobin",
           "Daphnia magna",
           "Daphnia",
           2.5254769,
           "Arthropoda",
           "na"
          ]
         ],
         "hovertemplate": "<b>%{hovertext}</b><br><br>Color_species=%{customdata[9]}<br>pm1=%{x}<br>pm2=%{y}<br>tree1=%{customdata[0]}<br>tree2=%{customdata[1]}<br>tree3=%{customdata[2]}<br>tree4=%{customdata[3]}<br>full_name=%{customdata[4]}<br>short_name=%{customdata[5]}<br>full_species=%{customdata[6]}<br>short_species=%{customdata[7]}<br>evo_distance=%{customdata[8]}<br>labels=%{customdata[10]}<extra></extra>",
         "hovertext": [
          "Arthropoda",
          "Arthropoda",
          "Arthropoda",
          "Arthropoda",
          "Arthropoda",
          "Arthropoda",
          "Arthropoda",
          "Arthropoda",
          "Arthropoda",
          "Arthropoda",
          "Arthropoda",
          "Arthropoda",
          "Arthropoda",
          "Arthropoda",
          "Arthropoda",
          "Arthropoda",
          "Arthropoda",
          "Arthropoda",
          "Arthropoda",
          "Arthropoda",
          "Arthropoda",
          "Arthropoda",
          "Arthropoda",
          "Arthropoda",
          "Arthropoda",
          "Arthropoda",
          "Arthropoda",
          "Arthropoda",
          "Arthropoda",
          "Arthropoda",
          "Arthropoda",
          "Arthropoda",
          "Arthropoda",
          "Arthropoda",
          "Arthropoda",
          "Arthropoda",
          "Arthropoda",
          "Arthropoda",
          "Arthropoda",
          "Arthropoda",
          "Arthropoda",
          "Arthropoda",
          "Arthropoda",
          "Arthropoda",
          "Arthropoda",
          "Arthropoda",
          "Arthropoda",
          "Arthropoda",
          "Arthropoda",
          "Arthropoda",
          "Arthropoda",
          "Arthropoda",
          "Arthropoda",
          "Arthropoda",
          "Arthropoda",
          "Arthropoda",
          "Arthropoda",
          "Arthropoda",
          "Arthropoda",
          "Arthropoda",
          "Arthropoda",
          "Arthropoda",
          "Arthropoda",
          "Arthropoda",
          "Arthropoda",
          "Arthropoda",
          "Arthropoda",
          "Arthropoda",
          "Arthropoda",
          "Arthropoda",
          "Arthropoda",
          "Arthropoda",
          "Arthropoda",
          "Arthropoda",
          "Arthropoda",
          "Arthropoda",
          "Arthropoda",
          "Arthropoda",
          "Arthropoda",
          "Arthropoda",
          "Arthropoda",
          "Arthropoda",
          "Arthropoda",
          "Arthropoda"
         ],
         "legendgroup": "Arthropoda",
         "marker": {
          "color": "#EF553B",
          "symbol": "circle"
         },
         "mode": "markers",
         "name": "Arthropoda",
         "orientation": "v",
         "showlegend": true,
         "textposition": "top right",
         "type": "scatter",
         "x": [
          -0.4728325,
          -0.16549852,
          -0.07682752,
          -0.6413526,
          0.51751524,
          0.031886145,
          -0.70761275,
          0.73762584,
          0.33566484,
          0.75400585,
          0.48946217,
          0.06121836,
          0.15755598,
          0.573902,
          -0.4142367,
          -0.50993115,
          -0.8310205,
          0.5363739,
          -0.3797039,
          -0.4433984,
          0.60337615,
          -0.1432345,
          -0.352249,
          0.22211936,
          -0.2993493,
          0.6778997,
          0.04527964,
          0.8980741,
          0.73401755,
          0.74242514,
          0.20255081,
          0.21521626,
          0.062340394,
          0.26793304,
          -0.47302058,
          0.71060467,
          -0.5224943,
          0.23629092,
          -0.4967306,
          0.6216853,
          -0.84448737,
          0.23714143,
          -0.5058895,
          -0.8341816,
          0.44942957,
          0.8364446,
          -0.03739883,
          0.5987166,
          -0.26139283,
          0.34583798,
          0.25767046,
          0.60983276,
          0.0619005,
          0.6137528,
          0.6274619,
          -0.5012053,
          0.70401835,
          -0.7002032,
          -0.6968108,
          -0.66588026,
          -0.64810884,
          0.5527895,
          -0.40663823,
          -0.4895125,
          0.8611592,
          0.83268136,
          -0.37895656,
          0.5984632,
          0.7543988,
          0.76006824,
          0.71864057,
          0.7529845,
          0.64404434,
          -0.66575867,
          0.7014114,
          0.8390307,
          -0.19904354,
          -0.027386678,
          0.7625253,
          -0.3464178,
          -0.8347018,
          -0.5853443,
          -0.3466556,
          0.37488148
         ],
         "xaxis": "x",
         "y": [
          -0.540537,
          0.75852746,
          0.8395694,
          0.56027746,
          -0.35787332,
          0.89470506,
          0.65992063,
          0.57131755,
          -0.8846988,
          -0.28065142,
          0.3772716,
          0.51414376,
          0.06038915,
          -0.39275703,
          0.75972706,
          -0.7989782,
          -0.32302958,
          -0.40113848,
          -0.7505968,
          0.7648306,
          -0.6863691,
          0.8499652,
          -0.72367513,
          -0.65719444,
          0.77748257,
          -0.28647724,
          0.9144292,
          0.24886696,
          0.5888943,
          0.5647527,
          -0.81389827,
          -0.803565,
          0.51379365,
          0.49819317,
          -0.5403922,
          -0.26574928,
          -0.28250733,
          0.5594661,
          -0.8213591,
          -0.66678405,
          -0.3292571,
          0.5689409,
          -0.80888397,
          -0.3389409,
          -0.5395567,
          -0.20529209,
          0.63115907,
          -0.6488874,
          -0.28308582,
          -0.8665708,
          -0.78062165,
          -0.6717549,
          0.51444775,
          -0.67731345,
          -0.4449728,
          -0.81327665,
          0.41372395,
          0.5770885,
          0.56944203,
          0.605031,
          0.59068716,
          0.3942604,
          -0.7579944,
          -0.80075973,
          -0.20161375,
          -0.45972583,
          -0.71262306,
          -0.6796971,
          0.5753328,
          0.5691923,
          0.55246687,
          0.5682231,
          0.4323233,
          0.5642106,
          0.40748698,
          -0.46518168,
          -0.57732356,
          -0.2847683,
          -0.22745726,
          -0.4128527,
          -0.34988242,
          -0.3157478,
          -0.4128587,
          -0.871858
         ],
         "yaxis": "y"
        },
        {
         "customdata": [
          [
           45,
           33,
           18,
           10,
           "Uncharacterized protein",
           "Uncharacterized",
           "Arion vulgaris",
           "Arion",
           1.97427266,
           "Mollusca",
           "na"
          ],
          [
           45,
           33,
           18,
           10,
           "Uncharacterized protein",
           "Uncharacterized",
           "Arion vulgaris",
           "Arion",
           2.08013658,
           "Mollusca",
           "na"
          ],
          [
           18,
           14,
           10,
           4,
           "Cytoglobin 2",
           "Cytoglobin",
           "Crassostrea gigas",
           "Crassostrea",
           2.89814466,
           "Mollusca",
           "na"
          ],
          [
           19,
           14,
           10,
           4,
           "Uncharacterized protein (Fragment)",
           "Uncharacterized",
           "Lottia gigantea",
           "Lottia",
           2.350108079999999,
           "Mollusca",
           "na"
          ],
          [
           19,
           14,
           10,
           4,
           "Uncharacterized protein (Fragment)",
           "Uncharacterized",
           "Lottia gigantea",
           "Lottia",
           2.4627551299999992,
           "Mollusca",
           "na"
          ],
          [
           -1,
           14,
           10,
           4,
           "Uncharacterized protein (Fragment)",
           "Uncharacterized",
           "Lottia gigantea",
           "Lottia",
           3.15607834,
           "Mollusca",
           "na"
          ],
          [
           19,
           14,
           10,
           4,
           "Uncharacterized protein",
           "Uncharacterized",
           "Lottia gigantea",
           "Lottia",
           2.6062900199999994,
           "Mollusca",
           "na"
          ],
          [
           43,
           31,
           17,
           10,
           "Globin 2 A chain",
           "Globin",
           "Anadara inaequivalvis",
           "Anadara",
           2.93935263,
           "Mollusca",
           "na"
          ],
          [
           -1,
           -1,
           17,
           10,
           "Nerve hemoglobin",
           "Hemoglobin",
           "Spisula solidissima",
           "Spisula",
           2.92864342,
           "Mollusca",
           "na"
          ],
          [
           -1,
           31,
           17,
           10,
           "Hemoglobin (Heterodimeric)",
           "Hemoglobin",
           "Barbatia virescens",
           "Barbatia",
           2.80988922,
           "Mollusca",
           "na"
          ],
          [
           43,
           31,
           17,
           10,
           "Globin, minor",
           "Globin,",
           "Anadara trapezia",
           "Anadara",
           3.2788812000000003,
           "Mollusca",
           "na"
          ],
          [
           43,
           31,
           17,
           10,
           "Globin 2 B chain",
           "Globin",
           "Anadara inaequivalvis",
           "Anadara",
           3.13812794,
           "Mollusca",
           "na"
          ],
          [
           -1,
           -1,
           18,
           10,
           "Globin",
           "Globin",
           "Crassostrea gigas",
           "Crassostrea",
           2.20001602,
           "Mollusca",
           "na"
          ],
          [
           19,
           14,
           10,
           4,
           "Neuroglobin 1",
           "Neuroglobin",
           "Crassostrea gigas",
           "Crassostrea",
           2.4302546899999995,
           "Mollusca",
           "na"
          ],
          [
           19,
           14,
           10,
           4,
           "Uncharacterized protein",
           "Uncharacterized",
           "Arion vulgaris",
           "Arion",
           2.53586098,
           "Mollusca",
           "na"
          ],
          [
           42,
           32,
           16,
           10,
           "Globin",
           "Globin",
           "Nassarius mutabilis",
           "Nassarius",
           2.69282831,
           "Mollusca",
           "na"
          ],
          [
           41,
           32,
           16,
           10,
           "Uncharacterized protein",
           "Uncharacterized",
           "Lottia gigantea",
           "Lottia",
           2.30991023,
           "Mollusca",
           "na"
          ],
          [
           41,
           32,
           16,
           10,
           "Uncharacterized protein",
           "Uncharacterized",
           "Lottia gigantea",
           "Lottia",
           2.3265049,
           "Mollusca",
           "na"
          ],
          [
           42,
           32,
           16,
           10,
           "Globin",
           "Globin",
           "Cerithidea rhizophorarum",
           "Cerithidea",
           2.81440342,
           "Mollusca",
           "na"
          ],
          [
           23,
           16,
           20,
           7,
           "Uncharacterized protein",
           "Uncharacterized",
           "Arion vulgaris",
           "Arion",
           2.60859124,
           "Mollusca",
           "na"
          ],
          [
           -1,
           16,
           20,
           7,
           "Uncharacterized protein",
           "Uncharacterized",
           "Lottia gigantea",
           "Lottia",
           2.7304677,
           "Mollusca",
           "na"
          ],
          [
           23,
           16,
           20,
           7,
           "Cytoglobin 1",
           "Cytoglobin",
           "Crassostrea gigas",
           "Crassostrea",
           2.85491961,
           "Mollusca",
           "na"
          ],
          [
           -1,
           -1,
           2,
           1,
           "Globin",
           "Globin",
           "Nerita albicilla",
           "Nerita",
           2.08733768,
           "Mollusca",
           "na"
          ],
          [
           -1,
           -1,
           17,
           10,
           "Hemoglobin II",
           "Hemoglobin",
           "Phacoides pectinatus",
           "Phacoides",
           2.9455253599999995,
           "Mollusca",
           "na"
          ],
          [
           -1,
           7,
           4,
           7,
           "Cytoglobin 2",
           "Cytoglobin",
           "Crassostrea gigas",
           "Crassostrea",
           2.34885314,
           "Mollusca",
           "na"
          ],
          [
           19,
           14,
           10,
           4,
           "Uncharacterized protein",
           "Uncharacterized",
           "Octopus bimaculoides",
           "Octopus",
           2.550460389999999,
           "Mollusca",
           "na"
          ],
          [
           -1,
           7,
           4,
           7,
           "Uncharacterized protein",
           "Uncharacterized",
           "Lottia gigantea",
           "Lottia",
           2.43279945,
           "Mollusca",
           "na"
          ],
          [
           18,
           14,
           10,
           4,
           "Nacrein like protein F",
           "Nacrein",
           "Crassostrea gigas",
           "Crassostrea",
           3.01650571,
           "Mollusca",
           "na"
          ],
          [
           23,
           16,
           20,
           7,
           "Uncharacterized protein",
           "Uncharacterized",
           "Lottia gigantea",
           "Lottia",
           2.73087099,
           "Mollusca",
           "na"
          ],
          [
           44,
           30,
           17,
           10,
           "Two domain chain of the polymeric hemoglobin (Intracellular)",
           "Hemoglobin",
           "Barbatia lima",
           "Barbatia",
           2.72130571,
           "Mollusca",
           "na"
          ],
          [
           44,
           30,
           17,
           10,
           "Hemoglobin (2 domain)",
           "Hemoglobin",
           "Barbatia lima",
           "Barbatia",
           2.73232709,
           "Mollusca",
           "na"
          ],
          [
           32,
           22,
           11,
           5,
           "Hemoglobin (Fragment)",
           "Hemoglobin",
           "Biomphalaria glabrata",
           "Biomphalaria",
           3.48471231,
           "Mollusca",
           "na"
          ],
          [
           32,
           22,
           11,
           5,
           "Uncharacterized protein",
           "Uncharacterized",
           "Biomphalaria glabrata",
           "Biomphalaria",
           3.63841564,
           "Mollusca",
           "na"
          ],
          [
           32,
           22,
           11,
           5,
           "Uncharacterized protein",
           "Uncharacterized",
           "Biomphalaria glabrata",
           "Biomphalaria",
           3.38373079,
           "Mollusca",
           "na"
          ],
          [
           32,
           22,
           11,
           5,
           "Haemoglobin type 1",
           "Hemoglobin",
           "Biomphalaria glabrata",
           "Biomphalaria",
           3.53221633,
           "Mollusca",
           "na"
          ],
          [
           32,
           22,
           11,
           5,
           "Uncharacterized protein",
           "Uncharacterized",
           "Biomphalaria glabrata",
           "Biomphalaria",
           3.61489538,
           "Mollusca",
           "na"
          ]
         ],
         "hovertemplate": "<b>%{hovertext}</b><br><br>Color_species=%{customdata[9]}<br>pm1=%{x}<br>pm2=%{y}<br>tree1=%{customdata[0]}<br>tree2=%{customdata[1]}<br>tree3=%{customdata[2]}<br>tree4=%{customdata[3]}<br>full_name=%{customdata[4]}<br>short_name=%{customdata[5]}<br>full_species=%{customdata[6]}<br>short_species=%{customdata[7]}<br>evo_distance=%{customdata[8]}<br>labels=%{customdata[10]}<extra></extra>",
         "hovertext": [
          "Mollusca",
          "Mollusca",
          "Mollusca",
          "Mollusca",
          "Mollusca",
          "Mollusca",
          "Mollusca",
          "Mollusca",
          "Mollusca",
          "Mollusca",
          "Mollusca",
          "Mollusca",
          "Mollusca",
          "Mollusca",
          "Mollusca",
          "Mollusca",
          "Mollusca",
          "Mollusca",
          "Mollusca",
          "Mollusca",
          "Mollusca",
          "Mollusca",
          "Mollusca",
          "Mollusca",
          "Mollusca",
          "Mollusca",
          "Mollusca",
          "Mollusca",
          "Mollusca",
          "Mollusca",
          "Mollusca",
          "Mollusca",
          "Mollusca",
          "Mollusca",
          "Mollusca",
          "Mollusca"
         ],
         "legendgroup": "Mollusca",
         "marker": {
          "color": "#00cc96",
          "symbol": "circle"
         },
         "mode": "markers",
         "name": "Mollusca",
         "orientation": "v",
         "showlegend": true,
         "textposition": "top right",
         "type": "scatter",
         "x": [
          0.08712676,
          -0.42125985,
          0.08764857,
          -0.2855015,
          -0.5049361,
          0.32957995,
          0.55918425,
          0.86523163,
          0.83469814,
          -0.6114886,
          0.2250345,
          -0.6189713,
          0.092354394,
          -0.16733061,
          0.8405509,
          0.6248679,
          -0.19889133,
          0.122020185,
          -0.6825625,
          0.061717566,
          0.7552159,
          -0.64313674,
          0.33792153,
          0.6276173,
          0.5362148,
          -0.70977104,
          -0.50115424,
          0.6985418,
          -0.34676555,
          -0.19872381,
          -0.2939205,
          -0.2895446,
          -0.510015,
          0.6980988,
          0.038781106,
          0.6948199
         ],
         "xaxis": "x",
         "y": [
          0.93939584,
          0.7440995,
          0.9190564,
          -0.2994421,
          -0.8192372,
          -0.8831678,
          -0.46981817,
          -0.21243125,
          -0.4506882,
          0.63770354,
          -0.8007391,
          0.6100233,
          0.9329666,
          0.810959,
          -0.44988206,
          -0.66305363,
          -0.57741416,
          0.47742084,
          0.5677576,
          0.51368654,
          0.5616369,
          0.5689357,
          -0.89369684,
          -0.67017686,
          0.35408935,
          0.66581506,
          -0.8022112,
          0.4177208,
          -0.4133964,
          -0.57664406,
          0.80083376,
          -0.29395914,
          -0.8160255,
          0.4118005,
          0.45341706,
          0.41295102
         ],
         "yaxis": "y"
        },
        {
         "customdata": [
          [
           13,
           17,
           5,
           7,
           "Uncharacterized protein",
           "Uncharacterized",
           "Capitella teleta",
           "Capitella",
           2.1436955,
           "Annelida",
           "na"
          ],
          [
           -1,
           -1,
           4,
           7,
           "Uncharacterized protein",
           "Uncharacterized",
           "Capitella teleta",
           "Capitella",
           2.50218703,
           "Annelida",
           "na"
          ],
          [
           13,
           17,
           5,
           7,
           "Uncharacterized protein",
           "Uncharacterized",
           "Capitella teleta",
           "Capitella",
           2.2371513499999995,
           "Annelida",
           "na"
          ],
          [
           -1,
           17,
           5,
           7,
           "Uncharacterized protein (Fragment)",
           "Uncharacterized",
           "Capitella teleta",
           "Capitella",
           2.66909204,
           "Annelida",
           "na"
          ],
          [
           -1,
           34,
           18,
           10,
           "Uncharacterized protein",
           "Uncharacterized",
           "Capitella teleta",
           "Capitella",
           2.02076984,
           "Annelida",
           "na"
          ],
          [
           -1,
           14,
           10,
           4,
           "Uncharacterized protein",
           "Uncharacterized",
           "Capitella teleta",
           "Capitella",
           3.0766556599999992,
           "Annelida",
           "na"
          ],
          [
           -1,
           -1,
           3,
           2,
           "Extracellular globin 1",
           "Extracellular",
           "Metaphire sieboldi",
           "Metaphire",
           2.43355891,
           "Annelida",
           "na"
          ],
          [
           -1,
           14,
           10,
           4,
           "Uncharacterized protein",
           "Uncharacterized",
           "Capitella teleta",
           "Capitella",
           3.0074926799999995,
           "Annelida",
           "na"
          ],
          [
           -1,
           17,
           5,
           7,
           "Uncharacterized protein",
           "Uncharacterized",
           "Capitella teleta",
           "Capitella",
           2.42843133,
           "Annelida",
           "na"
          ]
         ],
         "hovertemplate": "<b>%{hovertext}</b><br><br>Color_species=%{customdata[9]}<br>pm1=%{x}<br>pm2=%{y}<br>tree1=%{customdata[0]}<br>tree2=%{customdata[1]}<br>tree3=%{customdata[2]}<br>tree4=%{customdata[3]}<br>full_name=%{customdata[4]}<br>short_name=%{customdata[5]}<br>full_species=%{customdata[6]}<br>short_species=%{customdata[7]}<br>evo_distance=%{customdata[8]}<br>labels=%{customdata[10]}<extra></extra>",
         "hovertext": [
          "Annelida",
          "Annelida",
          "Annelida",
          "Annelida",
          "Annelida",
          "Annelida",
          "Annelida",
          "Annelida",
          "Annelida"
         ],
         "legendgroup": "Annelida",
         "marker": {
          "color": "#ab63fa",
          "symbol": "circle"
         },
         "mode": "markers",
         "name": "Annelida",
         "orientation": "v",
         "showlegend": true,
         "textposition": "top right",
         "type": "scatter",
         "x": [
          -0.38329658,
          0.7286009,
          -0.65812117,
          -0.82096714,
          0.44941252,
          0.5628794,
          0.0412456,
          0.04368619,
          0.83271605
         ],
         "xaxis": "x",
         "y": [
          -0.76269406,
          0.5647274,
          0.6036034,
          -0.35018185,
          -0.53958,
          -0.5216902,
          0.4308411,
          0.5120599,
          -0.4671879
         ],
         "yaxis": "y"
        },
        {
         "customdata": [
          [
           -1,
           13,
           8,
           4,
           "Neuroglobin like",
           "Neuroglobin",
           "Scleropages formosus",
           "Scleropages",
           2.75087931,
           "Chordata",
           "na"
          ],
          [
           -1,
           23,
           14,
           6,
           "Globin",
           "Globin",
           "Branchiostoma floridae",
           "Branchiostoma",
           2.1325129,
           "Chordata",
           "na"
          ],
          [
           -1,
           39,
           20,
           7,
           "Putative uncharacterized protein",
           "Putative",
           "Branchiostoma floridae",
           "Branchiostoma",
           1.93258564,
           "Chordata",
           "na"
          ],
          [
           29,
           20,
           12,
           5,
           "Cytoglobin b",
           "Cytoglobin",
           "Xenopus laevis",
           "Xenopus",
           2.2875242,
           "Chordata",
           "na"
          ],
          [
           29,
           20,
           12,
           5,
           "Uncharacterized protein",
           "Uncharacterized",
           "Oreochromis niloticus",
           "Oreochromis",
           2.19807532,
           "Chordata",
           "na"
          ],
          [
           29,
           20,
           12,
           5,
           "Cytoglobin",
           "Cytoglobin",
           "Nothobranchius korthausae",
           "Nothobranchius",
           2.2776364,
           "Chordata",
           "na"
          ],
          [
           28,
           20,
           12,
           5,
           "Uncharacterized protein (Fragment)",
           "Uncharacterized",
           "Gasterosteus aculeatus",
           "Gasterosteus",
           2.2892364899999995,
           "Chordata",
           "na"
          ],
          [
           29,
           20,
           12,
           5,
           "Cytoglobin",
           "Cytoglobin",
           "Bos mutus",
           "Bos",
           2.42091472,
           "Chordata",
           "na"
          ],
          [
           29,
           20,
           12,
           5,
           "Cytoglobin 1",
           "Cytoglobin",
           "Iguana iguana",
           "Iguana",
           2.26895595,
           "Chordata",
           "na"
          ],
          [
           28,
           20,
           12,
           5,
           "Cytoglobin 1",
           "Cytoglobin",
           "Oryzias latipes",
           "Oryzias",
           2.25311924,
           "Chordata",
           "na"
          ],
          [
           29,
           20,
           12,
           5,
           "Uncharacterized protein",
           "Uncharacterized",
           "Anas platyrhynchos",
           "Anas",
           2.24009126,
           "Chordata",
           "na"
          ],
          [
           28,
           20,
           12,
           5,
           "Uncharacterized protein",
           "Uncharacterized",
           "Tetraodon nigroviridis",
           "Tetraodon",
           2.4499165100000004,
           "Chordata",
           "na"
          ],
          [
           28,
           20,
           12,
           5,
           "Uncharacterized protein (Fragment)",
           "Uncharacterized",
           "Takifugu rubripes",
           "Takifugu",
           2.4839830600000004,
           "Chordata",
           "na"
          ],
          [
           29,
           20,
           12,
           5,
           "Cytoglobin 2",
           "Cytoglobin",
           "Tetraodon nigroviridis",
           "Tetraodon",
           2.23168579,
           "Chordata",
           "na"
          ],
          [
           29,
           20,
           12,
           5,
           "Uncharacterized protein",
           "Uncharacterized",
           "Tetraodon nigroviridis",
           "Tetraodon",
           2.36374552,
           "Chordata",
           "na"
          ],
          [
           28,
           20,
           12,
           5,
           "Uncharacterized protein",
           "Uncharacterized",
           "Xiphophorus maculatus",
           "Xiphophorus",
           2.2426578000000004,
           "Chordata",
           "na"
          ],
          [
           28,
           20,
           12,
           5,
           "Cytoglobin 1",
           "Cytoglobin",
           "Larimichthys crocea",
           "Larimichthys",
           2.27502112,
           "Chordata",
           "na"
          ],
          [
           29,
           20,
           12,
           5,
           "Uncharacterized protein",
           "Uncharacterized",
           "Oncorhynchus mykiss",
           "Oncorhynchus",
           2.20579096,
           "Chordata",
           "na"
          ],
          [
           28,
           20,
           12,
           5,
           "Cytoglobin 1",
           "Cytoglobin",
           "Nothobranchius pienaari",
           "Nothobranchius",
           2.2369473400000004,
           "Chordata",
           "na"
          ],
          [
           29,
           20,
           12,
           5,
           "Cytoglobin",
           "Cytoglobin",
           "Alligator mississippiensis",
           "Alligator",
           2.16168743,
           "Chordata",
           "na"
          ],
          [
           29,
           20,
           12,
           5,
           "Uncharacterized protein",
           "Uncharacterized",
           "Astyanax mexicanus",
           "Astyanax",
           2.05393176,
           "Chordata",
           "na"
          ],
          [
           29,
           20,
           12,
           5,
           "Uncharacterized protein",
           "Uncharacterized",
           "Latimeria chalumnae",
           "Latimeria",
           2.23058219,
           "Chordata",
           "na"
          ],
          [
           29,
           20,
           12,
           5,
           "Cytoglobin 2",
           "Cytoglobin",
           "Ictalurus punctatus",
           "Ictalurus",
           2.12180628,
           "Chordata",
           "na"
          ],
          [
           28,
           20,
           12,
           5,
           "Cytoglobin",
           "Cytoglobin",
           "Chaenocephalus aceratus",
           "Chaenocephalus",
           2.27395144,
           "Chordata",
           "na"
          ],
          [
           29,
           20,
           12,
           5,
           "Cygb2 protein",
           "Cygb2",
           "Danio rerio",
           "Danio",
           2.05149233,
           "Chordata",
           "na"
          ],
          [
           28,
           20,
           12,
           5,
           "Uncharacterized protein",
           "Uncharacterized",
           "Oreochromis niloticus",
           "Oreochromis",
           2.15346116,
           "Chordata",
           "na"
          ],
          [
           28,
           20,
           12,
           5,
           "Cytoglobin",
           "Cytoglobin",
           "Oncorhynchus mykiss",
           "Oncorhynchus",
           2.15784398,
           "Chordata",
           "na"
          ],
          [
           31,
           20,
           12,
           5,
           "Uncharacterized protein",
           "Uncharacterized",
           "Astyanax mexicanus",
           "Astyanax",
           2.18361902,
           "Chordata",
           "na"
          ],
          [
           31,
           20,
           12,
           5,
           "Cytoglobin 1",
           "Cytoglobin",
           "Cyprinus carpio",
           "Cyprinus",
           2.06025855,
           "Chordata",
           "na"
          ],
          [
           29,
           20,
           12,
           5,
           "Cytoglobin",
           "Cytoglobin",
           "Callorhinchus milii",
           "Callorhinchus",
           2.39273588,
           "Chordata",
           "na"
          ],
          [
           31,
           20,
           12,
           5,
           "Cytoglobin 1",
           "Cytoglobin",
           "Danio rerio",
           "Danio",
           2.16806595,
           "Chordata",
           "na"
          ],
          [
           31,
           20,
           12,
           5,
           "Cytoglobin 1",
           "Cytoglobin",
           "Ictalurus punctatus",
           "Ictalurus",
           2.19052877,
           "Chordata",
           "na"
          ],
          [
           -1,
           18,
           13,
           5,
           "Uncharacterized protein",
           "Uncharacterized",
           "Lepisosteus oculatus",
           "Lepisosteus",
           2.35310711,
           "Chordata",
           "na"
          ],
          [
           16,
           11,
           10,
           4,
           "GbX1",
           "GbX1",
           "Callorhinchus milii",
           "Callorhinchus",
           2.948089519999999,
           "Chordata",
           "na"
          ],
          [
           16,
           11,
           10,
           4,
           "GbX2",
           "GbX2",
           "Callorhinchus milii",
           "Callorhinchus",
           3.0123761099999995,
           "Chordata",
           "na"
          ],
          [
           16,
           11,
           10,
           4,
           "Chromosome 10 SCAF15019, whole genome shotgun sequence",
           "Chromosome",
           "Tetraodon nigroviridis",
           "Tetraodon",
           3.1074634799999994,
           "Chordata",
           "na"
          ],
          [
           16,
           11,
           10,
           4,
           "Cytoglobin 1",
           "Cytoglobin",
           "Chelonia mydas",
           "Chelonia",
           2.706756999999999,
           "Chordata",
           "na"
          ],
          [
           16,
           11,
           10,
           4,
           "Uncharacterized protein",
           "Uncharacterized",
           "Poecilia formosa",
           "Poecilia",
           3.0849746199999992,
           "Chordata",
           "na"
          ],
          [
           16,
           11,
           10,
           4,
           "Uncharacterized protein",
           "Uncharacterized",
           "Lepisosteus oculatus",
           "Lepisosteus",
           2.843704849999999,
           "Chordata",
           "na"
          ],
          [
           16,
           11,
           10,
           4,
           "Uncharacterized protein",
           "Uncharacterized",
           "Latimeria chalumnae",
           "Latimeria",
           2.74467532,
           "Chordata",
           "na"
          ],
          [
           16,
           11,
           10,
           4,
           "Xgb protein",
           "Xgb",
           "Danio rerio",
           "Danio",
           3.15932725,
           "Chordata",
           "na"
          ],
          [
           16,
           11,
           10,
           4,
           "Uncharacterized protein",
           "Uncharacterized",
           "Lepisosteus oculatus",
           "Lepisosteus",
           2.98219578,
           "Chordata",
           "na"
          ],
          [
           16,
           11,
           10,
           4,
           "Uncharacterized protein",
           "Uncharacterized",
           "Xenopus tropicalis",
           "Xenopus",
           3.07574532,
           "Chordata",
           "na"
          ],
          [
           16,
           11,
           10,
           4,
           "Cytoglobin 2",
           "Cytoglobin",
           "Ictalurus punctatus",
           "Ictalurus",
           3.15839468,
           "Chordata",
           "na"
          ],
          [
           16,
           11,
           10,
           4,
           "Uncharacterized protein",
           "Uncharacterized",
           "Oreochromis niloticus",
           "Oreochromis",
           3.245876129999999,
           "Chordata",
           "na"
          ],
          [
           16,
           11,
           10,
           4,
           "Uncharacterized protein",
           "Uncharacterized",
           "Oncorhynchus mykiss",
           "Oncorhynchus",
           3.104564709999999,
           "Chordata",
           "na"
          ],
          [
           34,
           23,
           14,
           6,
           "Globin",
           "Globin",
           "Branchiostoma floridae",
           "Branchiostoma",
           2.16645269,
           "Chordata",
           "na"
          ],
          [
           16,
           11,
           10,
           4,
           "Uncharacterized protein",
           "Uncharacterized",
           "Oncorhynchus mykiss",
           "Oncorhynchus",
           3.152127119999999,
           "Chordata",
           "na"
          ],
          [
           16,
           11,
           10,
           4,
           "Neuroglobin like (Fragment)",
           "Neuroglobin",
           "Scleropages formosus",
           "Scleropages",
           3.024390219999999,
           "Chordata",
           "na"
          ],
          [
           33,
           24,
           14,
           6,
           "Uncharacterized protein",
           "Uncharacterized",
           "Ciona savignyi",
           "Ciona",
           2.80514043,
           "Chordata",
           "na"
          ],
          [
           33,
           24,
           14,
           6,
           "Uncharacterized protein",
           "Uncharacterized",
           "Ciona intestinalis",
           "Ciona",
           2.81068422,
           "Chordata",
           "na"
          ],
          [
           33,
           24,
           14,
           6,
           "Globin",
           "Globin",
           "Ciona intestinalis",
           "Ciona",
           2.83829804,
           "Chordata",
           "na"
          ],
          [
           33,
           24,
           14,
           6,
           "Uncharacterized protein",
           "Uncharacterized",
           "Ciona savignyi",
           "Ciona",
           2.96556729,
           "Chordata",
           "na"
          ],
          [
           35,
           24,
           14,
           6,
           "Uncharacterized protein",
           "Uncharacterized",
           "Ciona savignyi",
           "Ciona",
           2.65847977,
           "Chordata",
           "na"
          ],
          [
           35,
           24,
           14,
           6,
           "Globin",
           "Globin",
           "Ciona intestinalis",
           "Ciona",
           2.60884268,
           "Chordata",
           "na"
          ],
          [
           -1,
           21,
           12,
           5,
           "Uncharacterized protein (Fragment)",
           "Uncharacterized",
           "Petromyzon marinus",
           "Petromyzon",
           2.23124498,
           "Chordata",
           "na"
          ],
          [
           30,
           21,
           12,
           5,
           "Hemoglobin 4",
           "Hemoglobin",
           "Lethenteron camtschaticum",
           "Lethenteron",
           2.45118652,
           "Chordata",
           "na"
          ],
          [
           30,
           21,
           12,
           5,
           "Uncharacterized protein",
           "Uncharacterized",
           "Petromyzon marinus",
           "Petromyzon",
           2.3065607,
           "Chordata",
           "na"
          ],
          [
           30,
           21,
           12,
           5,
           "Uncharacterized protein",
           "Uncharacterized",
           "Petromyzon marinus",
           "Petromyzon",
           2.36968937,
           "Chordata",
           "na"
          ],
          [
           27,
           19,
           13,
           5,
           "Hemoglobin subunit alpha",
           "Hemoglobin",
           "Cavia porcellus",
           "Cavia",
           2.68180205,
           "Chordata",
           "na"
          ],
          [
           27,
           19,
           13,
           5,
           "Hemoglobin subunit alpha 2",
           "Hemoglobin",
           "Scalopus aquaticus",
           "Scalopus",
           2.59465681,
           "Chordata",
           "na"
          ],
          [
           26,
           19,
           13,
           5,
           "Uncharacterized protein",
           "Uncharacterized",
           "Neotoma lepida",
           "Neotoma",
           2.63834495,
           "Chordata",
           "na"
          ],
          [
           25,
           18,
           13,
           5,
           "Globin Y",
           "Globin",
           "Callorhinchus milii",
           "Callorhinchus",
           2.51505937,
           "Chordata",
           "na"
          ],
          [
           25,
           18,
           13,
           5,
           "Uncharacterized protein",
           "Uncharacterized",
           "Latimeria chalumnae",
           "Latimeria",
           2.29929786,
           "Chordata",
           "na"
          ],
          [
           24,
           18,
           13,
           5,
           "Uncharacterized protein",
           "Uncharacterized",
           "Xenopus tropicalis",
           "Xenopus",
           2.51423061,
           "Chordata",
           "na"
          ],
          [
           24,
           18,
           13,
           5,
           "Globin Y",
           "Globin",
           "Xenopus laevis",
           "Xenopus",
           2.4560224799999992,
           "Chordata",
           "na"
          ],
          [
           -1,
           18,
           13,
           5,
           "Uncharacterized protein",
           "Uncharacterized",
           "Pelodiscus sinensis",
           "Pelodiscus",
           2.69837249,
           "Chordata",
           "na"
          ],
          [
           29,
           20,
           12,
           5,
           "Cytoglobin (Fragment)",
           "Cytoglobin",
           "Fundulus heteroclitus",
           "Fundulus",
           2.23162917,
           "Chordata",
           "na"
          ],
          [
           34,
           23,
           14,
           6,
           "Putative uncharacterized protein",
           "Putative",
           "Branchiostoma floridae",
           "Branchiostoma",
           2.37973605,
           "Chordata",
           "na"
          ],
          [
           34,
           23,
           14,
           6,
           "Putative uncharacterized protein",
           "Putative",
           "Branchiostoma floridae",
           "Branchiostoma",
           2.38806056,
           "Chordata",
           "na"
          ],
          [
           26,
           19,
           13,
           5,
           "Hemoglobin subunit rho",
           "Hemoglobin",
           "Alligator mississippiensis",
           "Alligator",
           2.98389637,
           "Chordata",
           "na"
          ],
          [
           22,
           13,
           8,
           4,
           "Neuroglobin",
           "Neuroglobin",
           "Oryctolagus cuniculus",
           "Oryctolagus",
           3.722439879999999,
           "Chordata",
           "na"
          ],
          [
           22,
           13,
           8,
           4,
           "Neuroglobin",
           "Neuroglobin",
           "Alligator mississippiensis",
           "Alligator",
           3.58667483,
           "Chordata",
           "na"
          ],
          [
           21,
           13,
           8,
           4,
           "Neuroglobin",
           "Neuroglobin",
           "Danio rerio",
           "Danio",
           3.068778509999999,
           "Chordata",
           "na"
          ],
          [
           22,
           13,
           8,
           4,
           "Uncharacterized protein",
           "Uncharacterized",
           "Anolis carolinensis",
           "Anolis",
           3.673447579999999,
           "Chordata",
           "na"
          ],
          [
           22,
           13,
           8,
           4,
           "Uncharacterized protein",
           "Uncharacterized",
           "Lepisosteus oculatus",
           "Lepisosteus",
           3.147542819999999,
           "Chordata",
           "na"
          ],
          [
           21,
           13,
           8,
           4,
           "Neuroglobin 1",
           "Neuroglobin",
           "Salmo salar",
           "Salmo",
           3.094649499999999,
           "Chordata",
           "na"
          ],
          [
           22,
           13,
           8,
           4,
           "Neuroglobin",
           "Neuroglobin",
           "Amazona aestiva",
           "Amazona",
           3.684650899999999,
           "Chordata",
           "na"
          ],
          [
           21,
           13,
           8,
           4,
           "Neuroglobin",
           "Neuroglobin",
           "Chaenocephalus aceratus",
           "Chaenocephalus",
           3.048452869999999,
           "Chordata",
           "na"
          ],
          [
           22,
           13,
           8,
           4,
           "Uncharacterized protein",
           "Uncharacterized",
           "Ornithorhynchus anatinus",
           "Ornithorhynchus",
           3.630371559999999,
           "Chordata",
           "na"
          ],
          [
           22,
           13,
           8,
           4,
           "Uncharacterized protein",
           "Uncharacterized",
           "Sarcophilus harrisii",
           "Sarcophilus",
           3.563486359999999,
           "Chordata",
           "na"
          ],
          [
           22,
           13,
           8,
           4,
           "Uncharacterized protein",
           "Uncharacterized",
           "Anas platyrhynchos",
           "Anas",
           3.747842649999999,
           "Chordata",
           "na"
          ],
          [
           22,
           13,
           8,
           4,
           "Neuroglobin",
           "Neuroglobin",
           "Gallus gallus",
           "Gallus",
           3.679641069999999,
           "Chordata",
           "na"
          ],
          [
           26,
           19,
           13,
           5,
           "Uncharacterized protein",
           "Uncharacterized",
           "Nomascus leucogenys",
           "Nomascus",
           2.77009221,
           "Chordata",
           "na"
          ],
          [
           28,
           20,
           12,
           5,
           "Cytoglobin (Fragment)",
           "Cytoglobin",
           "Fundulus heteroclitus",
           "Fundulus",
           2.29198432,
           "Chordata",
           "na"
          ],
          [
           29,
           20,
           12,
           5,
           "Inactive rhomboid protein 2",
           "Inactive",
           "Tupaia chinensis",
           "Tupaia",
           2.24573612,
           "Chordata",
           "na"
          ],
          [
           21,
           13,
           8,
           4,
           "Neuroglobin (Fragment)",
           "Neuroglobin",
           "Fundulus heteroclitus",
           "Fundulus",
           3.1009386899999987,
           "Chordata",
           "na"
          ],
          [
           -1,
           24,
           14,
           6,
           "Globin",
           "Globin",
           "Ciona intestinalis",
           "Ciona",
           3.12906012,
           "Chordata",
           "na"
          ]
         ],
         "hovertemplate": "<b>%{hovertext}</b><br><br>Color_species=%{customdata[9]}<br>pm1=%{x}<br>pm2=%{y}<br>tree1=%{customdata[0]}<br>tree2=%{customdata[1]}<br>tree3=%{customdata[2]}<br>tree4=%{customdata[3]}<br>full_name=%{customdata[4]}<br>short_name=%{customdata[5]}<br>full_species=%{customdata[6]}<br>short_species=%{customdata[7]}<br>evo_distance=%{customdata[8]}<br>labels=%{customdata[10]}<extra></extra>",
         "hovertext": [
          "Chordata",
          "Chordata",
          "Chordata",
          "Chordata",
          "Chordata",
          "Chordata",
          "Chordata",
          "Chordata",
          "Chordata",
          "Chordata",
          "Chordata",
          "Chordata",
          "Chordata",
          "Chordata",
          "Chordata",
          "Chordata",
          "Chordata",
          "Chordata",
          "Chordata",
          "Chordata",
          "Chordata",
          "Chordata",
          "Chordata",
          "Chordata",
          "Chordata",
          "Chordata",
          "Chordata",
          "Chordata",
          "Chordata",
          "Chordata",
          "Chordata",
          "Chordata",
          "Chordata",
          "Chordata",
          "Chordata",
          "Chordata",
          "Chordata",
          "Chordata",
          "Chordata",
          "Chordata",
          "Chordata",
          "Chordata",
          "Chordata",
          "Chordata",
          "Chordata",
          "Chordata",
          "Chordata",
          "Chordata",
          "Chordata",
          "Chordata",
          "Chordata",
          "Chordata",
          "Chordata",
          "Chordata",
          "Chordata",
          "Chordata",
          "Chordata",
          "Chordata",
          "Chordata",
          "Chordata",
          "Chordata",
          "Chordata",
          "Chordata",
          "Chordata",
          "Chordata",
          "Chordata",
          "Chordata",
          "Chordata",
          "Chordata",
          "Chordata",
          "Chordata",
          "Chordata",
          "Chordata",
          "Chordata",
          "Chordata",
          "Chordata",
          "Chordata",
          "Chordata",
          "Chordata",
          "Chordata",
          "Chordata",
          "Chordata",
          "Chordata",
          "Chordata",
          "Chordata",
          "Chordata",
          "Chordata",
          "Chordata"
         ],
         "legendgroup": "Chordata",
         "marker": {
          "color": "#FFA15A",
          "symbol": "circle"
         },
         "mode": "markers",
         "name": "Chordata",
         "orientation": "v",
         "showlegend": true,
         "textposition": "top right",
         "type": "scatter",
         "x": [
          -0.5286316,
          0.542094,
          0.5965611,
          -0.1306995,
          0.5923118,
          0.44751507,
          0.064107165,
          0.4622084,
          0.21419546,
          0.74356145,
          -0.57579297,
          0.20431177,
          0.078883454,
          -0.7055088,
          -0.63180226,
          -0.71117246,
          0.07734761,
          -0.28952223,
          0.038863637,
          -0.45551017,
          0.5674027,
          0.72659314,
          -0.28217483,
          0.3701113,
          0.5100346,
          -0.825527,
          -0.47302547,
          -0.5656347,
          0.37442255,
          -0.4995304,
          0.4609778,
          -0.14662552,
          -0.10422683,
          -0.12595968,
          -0.37949136,
          0.50730026,
          -0.12962604,
          0.840311,
          -0.1708699,
          -0.4279253,
          -0.4728951,
          0.26307577,
          -0.63128376,
          -0.070754535,
          -0.42086235,
          0.5926062,
          0.8407166,
          -0.4729174,
          0.7245659,
          0.588409,
          0.3405294,
          -0.37227532,
          0.5565409,
          0.23417753,
          0.58105314,
          -0.48155794,
          0.5838789,
          0.6639247,
          -0.6979427,
          0.7364022,
          -0.69726384,
          -0.6642165,
          0.08761585,
          -0.058671523,
          -0.3610678,
          0.23928958,
          0.3673302,
          -0.63392955,
          0.5304121,
          0.08222301,
          0.16593947,
          0.823645,
          0.74689376,
          -0.37231234,
          0.65436375,
          -0.19900075,
          0.7715754,
          -0.63862205,
          0.53147167,
          -0.36753532,
          0.7049587,
          -0.19882096,
          -0.80545896,
          0.055383746,
          -0.6243577,
          0.5362217,
          -0.6444461,
          -0.54236287
         ],
         "xaxis": "x",
         "y": [
          -0.31848612,
          -0.43400937,
          -0.6858525,
          0.84550506,
          -0.4129631,
          -0.5431266,
          0.9281378,
          -0.520153,
          -0.76231676,
          0.5750445,
          0.6281934,
          -0.794921,
          0.9447117,
          0.6630125,
          0.64716035,
          0.6634255,
          0.9275747,
          0.75908625,
          0.9209243,
          0.7332618,
          -0.52133006,
          -0.23235583,
          0.77930856,
          -0.8781549,
          -0.35795018,
          -0.33447158,
          -0.54055566,
          -0.28271228,
          -0.8634334,
          -0.81705606,
          -0.43816096,
          0.8184084,
          0.79929984,
          0.8212462,
          -0.77756935,
          -0.46534652,
          0.7812802,
          -0.22589849,
          0.81964034,
          0.75535053,
          -0.5406903,
          -0.6710042,
          0.59027743,
          0.82490754,
          0.77497846,
          -0.41491848,
          -0.45768374,
          -0.5403796,
          -0.22198918,
          -0.53564936,
          -0.8883526,
          -0.30851507,
          -0.45534244,
          0.56403476,
          -0.44985515,
          -0.33012345,
          -0.48588428,
          -0.48135796,
          0.65695405,
          0.5837338,
          0.5591172,
          0.60324293,
          0.94786584,
          0.8521784,
          0.766292,
          0.5632516,
          -0.86491567,
          0.61722636,
          0.3966558,
          0.93736136,
          -0.36563027,
          -0.45701274,
          -0.27334887,
          -0.7681615,
          -0.46159065,
          -0.5776602,
          -0.24961634,
          -0.31290162,
          0.3917059,
          -0.7564369,
          -0.46415913,
          -0.5772936,
          -0.3291359,
          0.917837,
          0.6499067,
          -0.4002381,
          0.6033479,
          -0.34786588
         ],
         "yaxis": "y"
        },
        {
         "customdata": [
          [
           -1,
           -1,
           8,
           4,
           "Predicted protein",
           "Predicted",
           "Nematostella vectensis",
           "Nematostella",
           2.4344002,
           "Cnidaria",
           "na"
          ],
          [
           -1,
           15,
           7,
           4,
           "Predicted protein",
           "Predicted",
           "Nematostella vectensis",
           "Nematostella",
           3.06309082,
           "Cnidaria",
           "na"
          ],
          [
           20,
           15,
           7,
           4,
           "Predicted protein",
           "Predicted",
           "Nematostella vectensis",
           "Nematostella",
           2.69558275,
           "Cnidaria",
           "na"
          ],
          [
           -1,
           15,
           7,
           4,
           "Predicted protein",
           "Predicted",
           "Nematostella vectensis",
           "Nematostella",
           2.74661692,
           "Cnidaria",
           "na"
          ],
          [
           20,
           15,
           7,
           4,
           "Predicted protein",
           "Predicted",
           "Nematostella vectensis",
           "Nematostella",
           2.46698831,
           "Cnidaria",
           "na"
          ],
          [
           -1,
           -1,
           -1,
           3,
           "Predicted protein",
           "Predicted",
           "Nematostella vectensis",
           "Nematostella",
           3.13699746,
           "Cnidaria",
           "na"
          ]
         ],
         "hovertemplate": "<b>%{hovertext}</b><br><br>Color_species=%{customdata[9]}<br>pm1=%{x}<br>pm2=%{y}<br>tree1=%{customdata[0]}<br>tree2=%{customdata[1]}<br>tree3=%{customdata[2]}<br>tree4=%{customdata[3]}<br>full_name=%{customdata[4]}<br>short_name=%{customdata[5]}<br>full_species=%{customdata[6]}<br>short_species=%{customdata[7]}<br>evo_distance=%{customdata[8]}<br>labels=%{customdata[10]}<extra></extra>",
         "hovertext": [
          "Cnidaria",
          "Cnidaria",
          "Cnidaria",
          "Cnidaria",
          "Cnidaria",
          "Cnidaria"
         ],
         "legendgroup": "Cnidaria",
         "marker": {
          "color": "#19d3f3",
          "symbol": "circle"
         },
         "mode": "markers",
         "name": "Cnidaria",
         "orientation": "v",
         "showlegend": true,
         "textposition": "top right",
         "type": "scatter",
         "x": [
          0.3669321,
          0.09398687,
          -0.04751075,
          -0.16082017,
          -0.13413817,
          0.8357109
         ],
         "xaxis": "x",
         "y": [
          -0.8716336,
          0.944431,
          0.8268825,
          0.85240567,
          0.8000998,
          -0.45733917
         ],
         "yaxis": "y"
        },
        {
         "customdata": [
          [
           -1,
           -1,
           9,
           3,
           "Uncharacterized protein",
           "Uncharacterized",
           "Amphimedon queenslandica",
           "Amphimedon",
           2.52227159,
           "Porifera",
           "na"
          ]
         ],
         "hovertemplate": "<b>%{hovertext}</b><br><br>Color_species=%{customdata[9]}<br>pm1=%{x}<br>pm2=%{y}<br>tree1=%{customdata[0]}<br>tree2=%{customdata[1]}<br>tree3=%{customdata[2]}<br>tree4=%{customdata[3]}<br>full_name=%{customdata[4]}<br>short_name=%{customdata[5]}<br>full_species=%{customdata[6]}<br>short_species=%{customdata[7]}<br>evo_distance=%{customdata[8]}<br>labels=%{customdata[10]}<extra></extra>",
         "hovertext": [
          "Porifera"
         ],
         "legendgroup": "Porifera",
         "marker": {
          "color": "#FF6692",
          "symbol": "circle"
         },
         "mode": "markers",
         "name": "Porifera",
         "orientation": "v",
         "showlegend": true,
         "textposition": "top right",
         "type": "scatter",
         "x": [
          -0.13329612
         ],
         "xaxis": "x",
         "y": [
          0.79064596
         ],
         "yaxis": "y"
        },
        {
         "customdata": [
          [
           -1,
           -1,
           20,
           7,
           "Putative uncharacterized protein",
           "Putative",
           "Trichoplax adhaerens",
           "Trichoplax",
           2.31619376,
           "Placozoa",
           "na"
          ]
         ],
         "hovertemplate": "<b>%{hovertext}</b><br><br>Color_species=%{customdata[9]}<br>pm1=%{x}<br>pm2=%{y}<br>tree1=%{customdata[0]}<br>tree2=%{customdata[1]}<br>tree3=%{customdata[2]}<br>tree4=%{customdata[3]}<br>full_name=%{customdata[4]}<br>short_name=%{customdata[5]}<br>full_species=%{customdata[6]}<br>short_species=%{customdata[7]}<br>evo_distance=%{customdata[8]}<br>labels=%{customdata[10]}<extra></extra>",
         "hovertext": [
          "Placozoa"
         ],
         "legendgroup": "Placozoa",
         "marker": {
          "color": "#B6E880",
          "symbol": "circle"
         },
         "mode": "markers",
         "name": "Placozoa",
         "orientation": "v",
         "showlegend": true,
         "textposition": "top right",
         "type": "scatter",
         "x": [
          -0.6210195
         ],
         "xaxis": "x",
         "y": [
          0.63067544
         ],
         "yaxis": "y"
        },
        {
         "customdata": [
          [
           -1,
           -1,
           6,
           3,
           "Globin",
           "Globin",
           "Gemmatirosa kalamazoonesis",
           "Gemmatirosa",
           2.9048387,
           "Bacteria",
           "na"
          ],
          [
           -1,
           9,
           6,
           3,
           "Globin",
           "Globin",
           "Gemmatirosa kalamazoonesis",
           "Gemmatirosa",
           3.0073288499999995,
           "Bacteria",
           "na"
          ],
          [
           -1,
           9,
           6,
           3,
           "Hemin receptor",
           "Hemin",
           "Halothiobacillus sp.",
           "Halothiobacillus",
           2.5347764,
           "Bacteria",
           "na"
          ]
         ],
         "hovertemplate": "<b>%{hovertext}</b><br><br>Color_species=%{customdata[9]}<br>pm1=%{x}<br>pm2=%{y}<br>tree1=%{customdata[0]}<br>tree2=%{customdata[1]}<br>tree3=%{customdata[2]}<br>tree4=%{customdata[3]}<br>full_name=%{customdata[4]}<br>short_name=%{customdata[5]}<br>full_species=%{customdata[6]}<br>short_species=%{customdata[7]}<br>evo_distance=%{customdata[8]}<br>labels=%{customdata[10]}<extra></extra>",
         "hovertext": [
          "Bacteria",
          "Bacteria",
          "Bacteria"
         ],
         "legendgroup": "Bacteria",
         "marker": {
          "color": "#FF97FF",
          "symbol": "circle"
         },
         "mode": "markers",
         "name": "Bacteria",
         "orientation": "v",
         "showlegend": true,
         "textposition": "top right",
         "type": "scatter",
         "x": [
          -0.7045364,
          0.72617996,
          -0.7106235
         ],
         "xaxis": "x",
         "y": [
          0.65022784,
          0.5773426,
          0.65775144
         ],
         "yaxis": "y"
        },
        {
         "customdata": [
          [
           46,
           35,
           19,
           10,
           "Globin",
           "Globin",
           "Ancylostoma ceylanicum",
           "Ancylostoma",
           2.22981155,
           "Nematoda",
           "na"
          ],
          [
           46,
           35,
           19,
           10,
           "Uncharacterized protein",
           "Uncharacterized",
           "Angiostrongylus costaricensis",
           "Angiostrongylus",
           2.13371016,
           "Nematoda",
           "na"
          ],
          [
           46,
           35,
           19,
           10,
           "Globin",
           "Globin",
           "Necator americanus",
           "Necator",
           2.35159293,
           "Nematoda",
           "na"
          ],
          [
           12,
           6,
           4,
           7,
           "Protein CBR GLB 7",
           "Protein",
           "Caenorhabditis briggsae",
           "Caenorhabditis",
           3.0159007999999994,
           "Nematoda",
           "na"
          ],
          [
           12,
           6,
           4,
           7,
           "Uncharacterized protein",
           "Uncharacterized",
           "Haemonchus placei",
           "Haemonchus",
           3.29015469,
           "Nematoda",
           "na"
          ],
          [
           -1,
           6,
           4,
           7,
           "Cre glb 30 protein",
           "Cre",
           "Ascaris suum",
           "Ascaris",
           3.1760076299999995,
           "Nematoda",
           "na"
          ],
          [
           -1,
           -1,
           4,
           7,
           "Globin like protein 26",
           "Globin",
           "Trichinella pseudospiralis",
           "Trichinella",
           3.03825431,
           "Nematoda",
           "na"
          ],
          [
           -1,
           6,
           4,
           7,
           "Uncharacterized protein",
           "Uncharacterized",
           "Ancylostoma ceylanicum",
           "Ancylostoma",
           3.20708282,
           "Nematoda",
           "na"
          ],
          [
           -1,
           25,
           15,
           8,
           "Metalloendopeptidase",
           "Metalloendopeptidase",
           "Globodera pallida",
           "Globodera",
           2.86594104,
           "Nematoda",
           "na"
          ],
          [
           -1,
           25,
           15,
           8,
           "Uncharacterized protein",
           "Uncharacterized",
           "Strongyloides stercoralis",
           "Strongyloides",
           3.19295417,
           "Nematoda",
           "na"
          ]
         ],
         "hovertemplate": "<b>%{hovertext}</b><br><br>Color_species=%{customdata[9]}<br>pm1=%{x}<br>pm2=%{y}<br>tree1=%{customdata[0]}<br>tree2=%{customdata[1]}<br>tree3=%{customdata[2]}<br>tree4=%{customdata[3]}<br>full_name=%{customdata[4]}<br>short_name=%{customdata[5]}<br>full_species=%{customdata[6]}<br>short_species=%{customdata[7]}<br>evo_distance=%{customdata[8]}<br>labels=%{customdata[10]}<extra></extra>",
         "hovertext": [
          "Nematoda",
          "Nematoda",
          "Nematoda",
          "Nematoda",
          "Nematoda",
          "Nematoda",
          "Nematoda",
          "Nematoda",
          "Nematoda",
          "Nematoda"
         ],
         "legendgroup": "Nematoda",
         "marker": {
          "color": "#FECB52",
          "symbol": "circle"
         },
         "mode": "markers",
         "name": "Nematoda",
         "orientation": "v",
         "showlegend": true,
         "textposition": "top right",
         "type": "scatter",
         "x": [
          -0.28688323,
          0.0383719,
          -0.4975376,
          0.85728484,
          0.62285835,
          -0.6605551,
          -0.14510766,
          0.86206454,
          0.03869918,
          0.062374163
         ],
         "xaxis": "x",
         "y": [
          -0.29626402,
          0.9285652,
          -0.80988896,
          -0.21092276,
          -0.33506644,
          0.6210281,
          -0.20032081,
          -0.22126725,
          0.48254102,
          0.9062322
         ],
         "yaxis": "y"
        },
        {
         "customdata": [
          [
           -1,
           -1,
           14,
           6,
           "Neuroglobin like protein",
           "Neuroglobin",
           "Saccoglossus kowalevskii",
           "Saccoglossus",
           2.35972746,
           "Hemichordata",
           "na"
          ]
         ],
         "hovertemplate": "<b>%{hovertext}</b><br><br>Color_species=%{customdata[9]}<br>pm1=%{x}<br>pm2=%{y}<br>tree1=%{customdata[0]}<br>tree2=%{customdata[1]}<br>tree3=%{customdata[2]}<br>tree4=%{customdata[3]}<br>full_name=%{customdata[4]}<br>short_name=%{customdata[5]}<br>full_species=%{customdata[6]}<br>short_species=%{customdata[7]}<br>evo_distance=%{customdata[8]}<br>labels=%{customdata[10]}<extra></extra>",
         "hovertext": [
          "Hemichordata"
         ],
         "legendgroup": "Hemichordata",
         "marker": {
          "color": "#636efa",
          "symbol": "circle"
         },
         "mode": "markers",
         "name": "Hemichordata",
         "orientation": "v",
         "showlegend": true,
         "textposition": "top right",
         "type": "scatter",
         "x": [
          -0.020265745
         ],
         "xaxis": "x",
         "y": [
          -0.22587314
         ],
         "yaxis": "y"
        },
        {
         "customdata": [
          [
           15,
           8,
           6,
           3,
           "ARAD1D45562p",
           "ARAD1D45562p",
           "Blastobotrys adeninivorans",
           "Blastobotrys",
           3.65177433,
           "Fungi",
           "na"
          ],
          [
           15,
           8,
           6,
           3,
           "CYFA0S05e02454g1_1",
           "CYFA0S05e02454g1_1",
           "Cyberlindnera fabianii",
           "Cyberlindnera",
           4.11857393,
           "Fungi",
           "na"
          ]
         ],
         "hovertemplate": "<b>%{hovertext}</b><br><br>Color_species=%{customdata[9]}<br>pm1=%{x}<br>pm2=%{y}<br>tree1=%{customdata[0]}<br>tree2=%{customdata[1]}<br>tree3=%{customdata[2]}<br>tree4=%{customdata[3]}<br>full_name=%{customdata[4]}<br>short_name=%{customdata[5]}<br>full_species=%{customdata[6]}<br>short_species=%{customdata[7]}<br>evo_distance=%{customdata[8]}<br>labels=%{customdata[10]}<extra></extra>",
         "hovertext": [
          "Fungi",
          "Fungi"
         ],
         "legendgroup": "Fungi",
         "marker": {
          "color": "#EF553B",
          "symbol": "circle"
         },
         "mode": "markers",
         "name": "Fungi",
         "orientation": "v",
         "showlegend": true,
         "textposition": "top right",
         "type": "scatter",
         "x": [
          -0.504384,
          0.60625285
         ],
         "xaxis": "x",
         "y": [
          -0.7981019,
          -0.50032264
         ],
         "yaxis": "y"
        },
        {
         "customdata": [
          [
           -1,
           -1,
           9,
           3,
           "Uncharacterized protein",
           "Uncharacterized",
           "Micromonas commoda",
           "Micromonas",
           2.70986541,
           "Viridiplantae",
           "na"
          ]
         ],
         "hovertemplate": "<b>%{hovertext}</b><br><br>Color_species=%{customdata[9]}<br>pm1=%{x}<br>pm2=%{y}<br>tree1=%{customdata[0]}<br>tree2=%{customdata[1]}<br>tree3=%{customdata[2]}<br>tree4=%{customdata[3]}<br>full_name=%{customdata[4]}<br>short_name=%{customdata[5]}<br>full_species=%{customdata[6]}<br>short_species=%{customdata[7]}<br>evo_distance=%{customdata[8]}<br>labels=%{customdata[10]}<extra></extra>",
         "hovertext": [
          "Viridiplantae"
         ],
         "legendgroup": "Viridiplantae",
         "marker": {
          "color": "#00cc96",
          "symbol": "circle"
         },
         "mode": "markers",
         "name": "Viridiplantae",
         "orientation": "v",
         "showlegend": true,
         "textposition": "top right",
         "type": "scatter",
         "x": [
          0.44763255
         ],
         "xaxis": "x",
         "y": [
          -0.54279125
         ],
         "yaxis": "y"
        }
       ],
       "layout": {
        "autosize": true,
        "font": {
         "size": 11
        },
        "legend": {
         "title": {
          "text": "Color_species"
         },
         "tracegroupgap": 0
        },
        "margin": {
         "t": 60
        },
        "plot_bgcolor": "rgba(0, 0, 0, 0)",
        "shapes": [
         {
          "line": {
           "color": "black",
           "dash": "dot"
          },
          "opacity": 0.15,
          "type": "circle",
          "x0": -0.47058823529411764,
          "x1": 0.47058823529411764,
          "y0": -0.47058823529411764,
          "y1": 0.47058823529411764
         },
         {
          "line": {
           "color": "black",
           "dash": "dot"
          },
          "opacity": 0.15,
          "type": "circle",
          "x0": -0.6447368421052633,
          "x1": 0.6447368421052633,
          "y0": -0.6447368421052633,
          "y1": 0.6447368421052633
         },
         {
          "line": {
           "color": "black",
           "dash": "dot"
          },
          "opacity": 0.15,
          "type": "circle",
          "x0": -0.7705382436260623,
          "x1": 0.7705382436260623,
          "y0": -0.7705382436260623,
          "y1": 0.7705382436260623
         },
         {
          "line": {
           "color": "black",
           "dash": "dot"
          },
          "opacity": 0.15,
          "type": "circle",
          "x0": -0.8557007125890737,
          "x1": 0.8557007125890737,
          "y0": -0.8557007125890737,
          "y1": 0.8557007125890737
         },
         {
          "line": {
           "color": "black",
           "dash": "dot"
          },
          "opacity": 0.15,
          "type": "circle",
          "x0": -0.9108474990827933,
          "x1": 0.9108474990827933,
          "y0": -0.9108474990827933,
          "y1": 0.9108474990827933
         },
         {
          "line": {
           "color": "black",
           "dash": "dot"
          },
          "opacity": 0.15,
          "type": "circle",
          "x0": -0.9455374041239167,
          "x1": 0.9455374041239167,
          "y0": -0.9455374041239167,
          "y1": 0.9455374041239167
         },
         {
          "line": {
           "color": "Black"
          },
          "type": "circle",
          "x0": -1,
          "x1": 1,
          "xref": "x",
          "y0": -1,
          "y1": 1,
          "yref": "y"
         },
         {
          "fillcolor": "Black",
          "line": {
           "color": "Black"
          },
          "type": "circle",
          "x0": -0.005,
          "x1": 0.005,
          "xref": "x",
          "y0": -0.005,
          "y1": 0.005,
          "yref": "y"
         }
        ],
        "template": {
         "data": {
          "bar": [
           {
            "error_x": {
             "color": "#2a3f5f"
            },
            "error_y": {
             "color": "#2a3f5f"
            },
            "marker": {
             "line": {
              "color": "#E5ECF6",
              "width": 0.5
             },
             "pattern": {
              "fillmode": "overlay",
              "size": 10,
              "solidity": 0.2
             }
            },
            "type": "bar"
           }
          ],
          "barpolar": [
           {
            "marker": {
             "line": {
              "color": "#E5ECF6",
              "width": 0.5
             },
             "pattern": {
              "fillmode": "overlay",
              "size": 10,
              "solidity": 0.2
             }
            },
            "type": "barpolar"
           }
          ],
          "carpet": [
           {
            "aaxis": {
             "endlinecolor": "#2a3f5f",
             "gridcolor": "white",
             "linecolor": "white",
             "minorgridcolor": "white",
             "startlinecolor": "#2a3f5f"
            },
            "baxis": {
             "endlinecolor": "#2a3f5f",
             "gridcolor": "white",
             "linecolor": "white",
             "minorgridcolor": "white",
             "startlinecolor": "#2a3f5f"
            },
            "type": "carpet"
           }
          ],
          "choropleth": [
           {
            "colorbar": {
             "outlinewidth": 0,
             "ticks": ""
            },
            "type": "choropleth"
           }
          ],
          "contour": [
           {
            "colorbar": {
             "outlinewidth": 0,
             "ticks": ""
            },
            "colorscale": [
             [
              0,
              "#0d0887"
             ],
             [
              0.1111111111111111,
              "#46039f"
             ],
             [
              0.2222222222222222,
              "#7201a8"
             ],
             [
              0.3333333333333333,
              "#9c179e"
             ],
             [
              0.4444444444444444,
              "#bd3786"
             ],
             [
              0.5555555555555556,
              "#d8576b"
             ],
             [
              0.6666666666666666,
              "#ed7953"
             ],
             [
              0.7777777777777778,
              "#fb9f3a"
             ],
             [
              0.8888888888888888,
              "#fdca26"
             ],
             [
              1,
              "#f0f921"
             ]
            ],
            "type": "contour"
           }
          ],
          "contourcarpet": [
           {
            "colorbar": {
             "outlinewidth": 0,
             "ticks": ""
            },
            "type": "contourcarpet"
           }
          ],
          "heatmap": [
           {
            "colorbar": {
             "outlinewidth": 0,
             "ticks": ""
            },
            "colorscale": [
             [
              0,
              "#0d0887"
             ],
             [
              0.1111111111111111,
              "#46039f"
             ],
             [
              0.2222222222222222,
              "#7201a8"
             ],
             [
              0.3333333333333333,
              "#9c179e"
             ],
             [
              0.4444444444444444,
              "#bd3786"
             ],
             [
              0.5555555555555556,
              "#d8576b"
             ],
             [
              0.6666666666666666,
              "#ed7953"
             ],
             [
              0.7777777777777778,
              "#fb9f3a"
             ],
             [
              0.8888888888888888,
              "#fdca26"
             ],
             [
              1,
              "#f0f921"
             ]
            ],
            "type": "heatmap"
           }
          ],
          "heatmapgl": [
           {
            "colorbar": {
             "outlinewidth": 0,
             "ticks": ""
            },
            "colorscale": [
             [
              0,
              "#0d0887"
             ],
             [
              0.1111111111111111,
              "#46039f"
             ],
             [
              0.2222222222222222,
              "#7201a8"
             ],
             [
              0.3333333333333333,
              "#9c179e"
             ],
             [
              0.4444444444444444,
              "#bd3786"
             ],
             [
              0.5555555555555556,
              "#d8576b"
             ],
             [
              0.6666666666666666,
              "#ed7953"
             ],
             [
              0.7777777777777778,
              "#fb9f3a"
             ],
             [
              0.8888888888888888,
              "#fdca26"
             ],
             [
              1,
              "#f0f921"
             ]
            ],
            "type": "heatmapgl"
           }
          ],
          "histogram": [
           {
            "marker": {
             "pattern": {
              "fillmode": "overlay",
              "size": 10,
              "solidity": 0.2
             }
            },
            "type": "histogram"
           }
          ],
          "histogram2d": [
           {
            "colorbar": {
             "outlinewidth": 0,
             "ticks": ""
            },
            "colorscale": [
             [
              0,
              "#0d0887"
             ],
             [
              0.1111111111111111,
              "#46039f"
             ],
             [
              0.2222222222222222,
              "#7201a8"
             ],
             [
              0.3333333333333333,
              "#9c179e"
             ],
             [
              0.4444444444444444,
              "#bd3786"
             ],
             [
              0.5555555555555556,
              "#d8576b"
             ],
             [
              0.6666666666666666,
              "#ed7953"
             ],
             [
              0.7777777777777778,
              "#fb9f3a"
             ],
             [
              0.8888888888888888,
              "#fdca26"
             ],
             [
              1,
              "#f0f921"
             ]
            ],
            "type": "histogram2d"
           }
          ],
          "histogram2dcontour": [
           {
            "colorbar": {
             "outlinewidth": 0,
             "ticks": ""
            },
            "colorscale": [
             [
              0,
              "#0d0887"
             ],
             [
              0.1111111111111111,
              "#46039f"
             ],
             [
              0.2222222222222222,
              "#7201a8"
             ],
             [
              0.3333333333333333,
              "#9c179e"
             ],
             [
              0.4444444444444444,
              "#bd3786"
             ],
             [
              0.5555555555555556,
              "#d8576b"
             ],
             [
              0.6666666666666666,
              "#ed7953"
             ],
             [
              0.7777777777777778,
              "#fb9f3a"
             ],
             [
              0.8888888888888888,
              "#fdca26"
             ],
             [
              1,
              "#f0f921"
             ]
            ],
            "type": "histogram2dcontour"
           }
          ],
          "mesh3d": [
           {
            "colorbar": {
             "outlinewidth": 0,
             "ticks": ""
            },
            "type": "mesh3d"
           }
          ],
          "parcoords": [
           {
            "line": {
             "colorbar": {
              "outlinewidth": 0,
              "ticks": ""
             }
            },
            "type": "parcoords"
           }
          ],
          "pie": [
           {
            "automargin": true,
            "type": "pie"
           }
          ],
          "scatter": [
           {
            "fillpattern": {
             "fillmode": "overlay",
             "size": 10,
             "solidity": 0.2
            },
            "type": "scatter"
           }
          ],
          "scatter3d": [
           {
            "line": {
             "colorbar": {
              "outlinewidth": 0,
              "ticks": ""
             }
            },
            "marker": {
             "colorbar": {
              "outlinewidth": 0,
              "ticks": ""
             }
            },
            "type": "scatter3d"
           }
          ],
          "scattercarpet": [
           {
            "marker": {
             "colorbar": {
              "outlinewidth": 0,
              "ticks": ""
             }
            },
            "type": "scattercarpet"
           }
          ],
          "scattergeo": [
           {
            "marker": {
             "colorbar": {
              "outlinewidth": 0,
              "ticks": ""
             }
            },
            "type": "scattergeo"
           }
          ],
          "scattergl": [
           {
            "marker": {
             "colorbar": {
              "outlinewidth": 0,
              "ticks": ""
             }
            },
            "type": "scattergl"
           }
          ],
          "scattermapbox": [
           {
            "marker": {
             "colorbar": {
              "outlinewidth": 0,
              "ticks": ""
             }
            },
            "type": "scattermapbox"
           }
          ],
          "scatterpolar": [
           {
            "marker": {
             "colorbar": {
              "outlinewidth": 0,
              "ticks": ""
             }
            },
            "type": "scatterpolar"
           }
          ],
          "scatterpolargl": [
           {
            "marker": {
             "colorbar": {
              "outlinewidth": 0,
              "ticks": ""
             }
            },
            "type": "scatterpolargl"
           }
          ],
          "scatterternary": [
           {
            "marker": {
             "colorbar": {
              "outlinewidth": 0,
              "ticks": ""
             }
            },
            "type": "scatterternary"
           }
          ],
          "surface": [
           {
            "colorbar": {
             "outlinewidth": 0,
             "ticks": ""
            },
            "colorscale": [
             [
              0,
              "#0d0887"
             ],
             [
              0.1111111111111111,
              "#46039f"
             ],
             [
              0.2222222222222222,
              "#7201a8"
             ],
             [
              0.3333333333333333,
              "#9c179e"
             ],
             [
              0.4444444444444444,
              "#bd3786"
             ],
             [
              0.5555555555555556,
              "#d8576b"
             ],
             [
              0.6666666666666666,
              "#ed7953"
             ],
             [
              0.7777777777777778,
              "#fb9f3a"
             ],
             [
              0.8888888888888888,
              "#fdca26"
             ],
             [
              1,
              "#f0f921"
             ]
            ],
            "type": "surface"
           }
          ],
          "table": [
           {
            "cells": {
             "fill": {
              "color": "#EBF0F8"
             },
             "line": {
              "color": "white"
             }
            },
            "header": {
             "fill": {
              "color": "#C8D4E3"
             },
             "line": {
              "color": "white"
             }
            },
            "type": "table"
           }
          ]
         },
         "layout": {
          "annotationdefaults": {
           "arrowcolor": "#2a3f5f",
           "arrowhead": 0,
           "arrowwidth": 1
          },
          "autotypenumbers": "strict",
          "coloraxis": {
           "colorbar": {
            "outlinewidth": 0,
            "ticks": ""
           }
          },
          "colorscale": {
           "diverging": [
            [
             0,
             "#8e0152"
            ],
            [
             0.1,
             "#c51b7d"
            ],
            [
             0.2,
             "#de77ae"
            ],
            [
             0.3,
             "#f1b6da"
            ],
            [
             0.4,
             "#fde0ef"
            ],
            [
             0.5,
             "#f7f7f7"
            ],
            [
             0.6,
             "#e6f5d0"
            ],
            [
             0.7,
             "#b8e186"
            ],
            [
             0.8,
             "#7fbc41"
            ],
            [
             0.9,
             "#4d9221"
            ],
            [
             1,
             "#276419"
            ]
           ],
           "sequential": [
            [
             0,
             "#0d0887"
            ],
            [
             0.1111111111111111,
             "#46039f"
            ],
            [
             0.2222222222222222,
             "#7201a8"
            ],
            [
             0.3333333333333333,
             "#9c179e"
            ],
            [
             0.4444444444444444,
             "#bd3786"
            ],
            [
             0.5555555555555556,
             "#d8576b"
            ],
            [
             0.6666666666666666,
             "#ed7953"
            ],
            [
             0.7777777777777778,
             "#fb9f3a"
            ],
            [
             0.8888888888888888,
             "#fdca26"
            ],
            [
             1,
             "#f0f921"
            ]
           ],
           "sequentialminus": [
            [
             0,
             "#0d0887"
            ],
            [
             0.1111111111111111,
             "#46039f"
            ],
            [
             0.2222222222222222,
             "#7201a8"
            ],
            [
             0.3333333333333333,
             "#9c179e"
            ],
            [
             0.4444444444444444,
             "#bd3786"
            ],
            [
             0.5555555555555556,
             "#d8576b"
            ],
            [
             0.6666666666666666,
             "#ed7953"
            ],
            [
             0.7777777777777778,
             "#fb9f3a"
            ],
            [
             0.8888888888888888,
             "#fdca26"
            ],
            [
             1,
             "#f0f921"
            ]
           ]
          },
          "colorway": [
           "#636efa",
           "#EF553B",
           "#00cc96",
           "#ab63fa",
           "#FFA15A",
           "#19d3f3",
           "#FF6692",
           "#B6E880",
           "#FF97FF",
           "#FECB52"
          ],
          "font": {
           "color": "#2a3f5f"
          },
          "geo": {
           "bgcolor": "white",
           "lakecolor": "white",
           "landcolor": "#E5ECF6",
           "showlakes": true,
           "showland": true,
           "subunitcolor": "white"
          },
          "hoverlabel": {
           "align": "left"
          },
          "hovermode": "closest",
          "mapbox": {
           "style": "light"
          },
          "paper_bgcolor": "white",
          "plot_bgcolor": "#E5ECF6",
          "polar": {
           "angularaxis": {
            "gridcolor": "white",
            "linecolor": "white",
            "ticks": ""
           },
           "bgcolor": "#E5ECF6",
           "radialaxis": {
            "gridcolor": "white",
            "linecolor": "white",
            "ticks": ""
           }
          },
          "scene": {
           "xaxis": {
            "backgroundcolor": "#E5ECF6",
            "gridcolor": "white",
            "gridwidth": 2,
            "linecolor": "white",
            "showbackground": true,
            "ticks": "",
            "zerolinecolor": "white"
           },
           "yaxis": {
            "backgroundcolor": "#E5ECF6",
            "gridcolor": "white",
            "gridwidth": 2,
            "linecolor": "white",
            "showbackground": true,
            "ticks": "",
            "zerolinecolor": "white"
           },
           "zaxis": {
            "backgroundcolor": "#E5ECF6",
            "gridcolor": "white",
            "gridwidth": 2,
            "linecolor": "white",
            "showbackground": true,
            "ticks": "",
            "zerolinecolor": "white"
           }
          },
          "shapedefaults": {
           "line": {
            "color": "#2a3f5f"
           }
          },
          "ternary": {
           "aaxis": {
            "gridcolor": "white",
            "linecolor": "white",
            "ticks": ""
           },
           "baxis": {
            "gridcolor": "white",
            "linecolor": "white",
            "ticks": ""
           },
           "bgcolor": "#E5ECF6",
           "caxis": {
            "gridcolor": "white",
            "linecolor": "white",
            "ticks": ""
           }
          },
          "title": {
           "x": 0.05
          },
          "xaxis": {
           "automargin": true,
           "gridcolor": "white",
           "linecolor": "white",
           "ticks": "",
           "title": {
            "standoff": 15
           },
           "zerolinecolor": "white",
           "zerolinewidth": 2
          },
          "yaxis": {
           "automargin": true,
           "gridcolor": "white",
           "linecolor": "white",
           "ticks": "",
           "title": {
            "standoff": 15
           },
           "zerolinecolor": "white",
           "zerolinewidth": 2
          }
         }
        },
        "title": {
         "text": "",
         "x": 0.5
        },
        "xaxis": {
         "anchor": "y",
         "constrain": "domain",
         "domain": [
          0.1932333861910171,
          0.8067666138089828
         ],
         "range": [
          -1.1,
          1.1
         ],
         "title": {
          "text": "pm1"
         },
         "type": "linear"
        },
        "yaxis": {
         "anchor": "x",
         "autorange": true,
         "domain": [
          0,
          1
         ],
         "range": [
          -1.0090888749360614,
          1.0632578749360613
         ],
         "scaleanchor": "x",
         "scaleratio": 1,
         "title": {
          "text": "pm2"
         },
         "type": "linear"
        },
        "yaxis2": {
         "layer": "below traces",
         "matches": "y",
         "overlaying": "y"
        }
       }
      },
      "image/png": "[encoded data removed]",
      "text/html": [
       "<div>                            <div id=\"e0c93c93-7cf7-41c4-b3e6-38bd48f4dccb\" class=\"plotly-graph-div\" style=\"height:800px; width:100%;\"></div>            <script type=\"text/javascript\">                require([\"plotly\"], function(Plotly) {                    window.PLOTLYENV=window.PLOTLYENV || {};                                    if (document.getElementById(\"e0c93c93-7cf7-41c4-b3e6-38bd48f4dccb\")) {                    Plotly.newPlot(                        \"e0c93c93-7cf7-41c4-b3e6-38bd48f4dccb\",                        [{\"customdata\":[[5,3,3,2,\"Globin C, coelomic\",\"Globin\",\"Caudina arenicola\",\"Caudina\",2.10112824,\"Echinodermata\",\"na\"],[-1,39,20,10,\"Uncharacterized protein\",\"Uncharacterized\",\"Strongylocentrotus purpuratus\",\"Strongylocentrotus\",1.75283422,\"Echinodermata\",\"na\"],[4,2,3,2,\"Hemoglobin\",\"Hemoglobin\",\"Hemipholis cordifera\",\"Hemipholis\",2.32722587,\"Echinodermata\",\"na\"],[4,2,3,2,\"Hemoglobin\",\"Hemoglobin\",\"Ophiactis simplex\",\"Ophiactis\",2.21961074,\"Echinodermata\",\"na\"],[4,2,3,2,\"Hemoglobin\",\"Hemoglobin\",\"Ophiactis simplex\",\"Ophiactis\",2.26245834,\"Echinodermata\",\"na\"],[14,10,9,3,\"Uncharacterized protein\",\"Uncharacterized\",\"Strongylocentrotus purpuratus\",\"Strongylocentrotus\",2.65354782,\"Echinodermata\",\"na\"],[14,10,9,3,\"Uncharacterized protein\",\"Uncharacterized\",\"Strongylocentrotus purpuratus\",\"Strongylocentrotus\",2.58692572,\"Echinodermata\",\"na\"],[-1,10,9,3,\"Uncharacterized protein\",\"Uncharacterized\",\"Strongylocentrotus purpuratus\",\"Strongylocentrotus\",2.51919106,\"Echinodermata\",\"na\"],[14,10,9,3,\"Uncharacterized protein\",\"Uncharacterized\",\"Strongylocentrotus purpuratus\",\"Strongylocentrotus\",2.27606469,\"Echinodermata\",\"na\"],[14,10,9,3,\"Uncharacterized protein\",\"Uncharacterized\",\"Strongylocentrotus purpuratus\",\"Strongylocentrotus\",2.86747135,\"Echinodermata\",\"na\"]],\"hovertemplate\":\"<b>%{hovertext}</b><br><br>Color_species=%{customdata[9]}<br>pm1=%{x}<br>pm2=%{y}<br>tree1=%{customdata[0]}<br>tree2=%{customdata[1]}<br>tree3=%{customdata[2]}<br>tree4=%{customdata[3]}<br>full_name=%{customdata[4]}<br>short_name=%{customdata[5]}<br>full_species=%{customdata[6]}<br>short_species=%{customdata[7]}<br>evo_distance=%{customdata[8]}<br>labels=%{customdata[10]}<extra></extra>\",\"hovertext\":[\"Echinodermata\",\"Echinodermata\",\"Echinodermata\",\"Echinodermata\",\"Echinodermata\",\"Echinodermata\",\"Echinodermata\",\"Echinodermata\",\"Echinodermata\",\"Echinodermata\"],\"legendgroup\":\"Echinodermata\",\"marker\":{\"color\":\"#636efa\",\"symbol\":\"circle\"},\"mode\":\"markers\",\"name\":\"Echinodermata\",\"orientation\":\"v\",\"showlegend\":true,\"x\":[0.45498812,0.041303,0.45794305,0.32955638,-0.30100244,-0.34660777,0.040639296,0.5483189,0.04149888,-0.713502],\"xaxis\":\"x\",\"y\":[-0.5015809,0.4317472,-0.4343892,-0.8905864,-0.48261333,-0.41325933,0.43868592,0.4122775,0.43108675,0.66192275],\"yaxis\":\"y\",\"type\":\"scatter\",\"textposition\":\"top right\"},{\"customdata\":[[-1,28,18,10,\"Globin (Fragment)\",\"Globin\",\"Stegodyphus mimosarum\",\"Stegodyphus\",1.7572795,\"Arthropoda\",\"na\"],[-1,27,18,10,\"Uncharacterized protein\",\"Uncharacterized\",\"Strigamia maritima\",\"Strigamia\",2.04148677,\"Arthropoda\",\"na\"],[37,27,18,10,\"Uncharacterized protein\",\"Uncharacterized\",\"Scylla olivacea\",\"Scylla\",2.31816861,\"Arthropoda\",\"na\"],[37,27,18,10,\"Uncharacterized protein\",\"Uncharacterized\",\"Scylla olivacea\",\"Scylla\",2.17077532,\"Arthropoda\",\"na\"],[37,27,18,10,\"Hemoglobin\",\"Hemoglobin\",\"Carcinus maenas\",\"Carcinus\",2.1764956200000003,\"Arthropoda\",\"na\"],[-1,29,18,10,\"Globin, putative\",\"Globin,\",\"Ixodes scapularis\",\"Ixodes\",2.30448645,\"Arthropoda\",\"na\"],[40,28,18,10,\"Globin\",\"Globin\",\"Zootermopsis nevadensis\",\"Zootermopsis\",1.87201142,\"Arthropoda\",\"na\"],[40,28,18,10,\"Globin like protein (Fragment)\",\"Globin\",\"Coptotermes formosanus\",\"Coptotermes\",1.7741922,\"Arthropoda\",\"na\"],[-1,28,18,10,\"Uncharacterized protein\",\"Uncharacterized\",\"Oryctes borbonicus\",\"Oryctes\",2.08382808,\"Arthropoda\",\"na\"],[-1,27,18,10,\"Uncharacterized protein\",\"Uncharacterized\",\"Tetranychus urticae\",\"Tetranychus\",2.47172868,\"Arthropoda\",\"na\"],[-1,40,22,11,\"ACYPI007228 protein\",\"ACYPI007228\",\"Acyrthosiphon pisum\",\"Acyrthosiphon\",0.44459959,\"Arthropoda\",\"na\"],[39,28,18,10,\"Globin 1\",\"Globin\",\"Apis mellifera\",\"Apis\",2.242503,\"Arthropoda\",\"na\"],[39,28,18,10,\"Putative uncharacterized protein (Fragment)\",\"Putative\",\"Solenopsis invicta\",\"Solenopsis\",2.64407828,\"Arthropoda\",\"na\"],[38,28,18,10,\"Globin\",\"Globin\",\"Habropoda laboriosa\",\"Habropoda\",2.60605258,\"Arthropoda\",\"na\"],[38,28,18,10,\"Cygb2_0 protein\",\"Cygb2_0\",\"Fopius arisanus\",\"Fopius\",2.25335988,\"Arthropoda\",\"na\"],[39,28,18,10,\"Cytoglobin 2\",\"Cytoglobin\",\"Cerapachys biroi\",\"Cerapachys\",2.52009681,\"Arthropoda\",\"na\"],[39,28,18,10,\"Globin\",\"Globin\",\"Camponotus floridanus\",\"Camponotus\",2.60584071,\"Arthropoda\",\"na\"],[38,28,18,10,\"Uncharacterized protein\",\"Uncharacterized\",\"Nasonia vitripennis\",\"Nasonia\",2.25387252,\"Arthropoda\",\"na\"],[39,28,18,10,\"Cytoglobin\",\"Cytoglobin\",\"Acromyrmex echinatior\",\"Acromyrmex\",2.64639149,\"Arthropoda\",\"na\"],[-1,28,18,10,\"Globin like Protein\",\"Globin\",\"Tribolium castaneum\",\"Tribolium\",2.42579023,\"Arthropoda\",\"na\"],[-1,34,18,10,\"Cytoglobin 1 like protein\",\"Cytoglobin\",\"Sarcoptes scabiei\",\"Sarcoptes\",2.036886,\"Arthropoda\",\"na\"],[-1,37,21,10,\"Uncharacterized protein\",\"Uncharacterized\",\"Lutzomyia longipalpis\",\"Lutzomyia\",1.94649826,\"Arthropoda\",\"na\"],[47,36,21,10,\"Putative hemoglobin like flavoprotein (Fragment)\",\"Hemoglobin\",\"Rhodnius neglectus\",\"Rhodnius\",1.84627905,\"Arthropoda\",\"na\"],[47,36,21,10,\"Putative hemoglobin like flavoprotein (Fragment)\",\"Hemoglobin\",\"Triatoma infestans\",\"Triatoma\",1.9043777,\"Arthropoda\",\"na\"],[-1,29,18,10,\"Uncharacterized protein (Fragment)\",\"Uncharacterized\",\"Ixodes ricinus\",\"Ixodes\",1.7778336,\"Arthropoda\",\"na\"],[37,27,18,10,\"Cytoglobin 2 isoform CYGBi2\",\"Cytoglobin\",\"Cherax destructor\",\"Cherax\",2.23555225,\"Arthropoda\",\"na\"],[17,12,10,4,\"ACYPI001485 protein\",\"ACYPI001485\",\"Acyrthosiphon pisum\",\"Acyrthosiphon\",2.696499399999999,\"Arthropoda\",\"na\"],[2,1,2,1,\"Globin 2\",\"Globin\",\"Chironomus riparius\",\"Chironomus\",2.70002825,\"Arthropoda\",\"na\"],[1,1,2,1,\"Globin\",\"Globin\",\"Polypedilum nubifer\",\"Polypedilum\",2.36102778,\"Arthropoda\",\"na\"],[1,1,2,1,\"Globin\",\"Globin\",\"Polypedilum vanderplanki\",\"Polypedilum\",2.43793183,\"Arthropoda\",\"na\"],[3,1,2,1,\"Globin\",\"Globin\",\"Polypedilum vanderplanki\",\"Polypedilum\",2.2183017099999995,\"Arthropoda\",\"na\"],[2,1,2,1,\"Globin\",\"Globin\",\"Polypedilum nubifer\",\"Polypedilum\",2.47503634,\"Arthropoda\",\"na\"],[3,1,2,1,\"Globin\",\"Globin\",\"Polypedilum nubifer\",\"Polypedilum\",2.35802433,\"Arthropoda\",\"na\"],[3,1,2,1,\"Globin\",\"Globin\",\"Polypedilum vanderplanki\",\"Polypedilum\",2.28362716,\"Arthropoda\",\"na\"],[3,1,2,1,\"Globin 11\",\"Globin\",\"Chironomus riparius\",\"Chironomus\",2.29971074,\"Arthropoda\",\"na\"],[1,1,2,1,\"ORF E protein\",\"ORF\",\"Chironomus tentans\",\"Chironomus\",2.85858686,\"Arthropoda\",\"na\"],[1,1,2,1,\"Globin\",\"Globin\",\"Polypedilum nubifer\",\"Polypedilum\",2.56719369,\"Arthropoda\",\"na\"],[1,1,2,1,\"Globin\",\"Globin\",\"Polypedilum nubifer\",\"Polypedilum\",2.57670915,\"Arthropoda\",\"na\"],[17,12,10,4,\"Globin D, coelomic, putative\",\"Globin\",\"Pediculus humanus\",\"Pediculus\",2.749354739999999,\"Arthropoda\",\"na\"],[36,26,18,10,\"Putative uncharacterized protein\",\"Putative\",\"Daphnia pulex\",\"Daphnia\",2.15851408,\"Arthropoda\",\"na\"],[7,5,1,2,\"Di domain hemoglobin\",\"Hemoglobin\",\"Daphnia magna\",\"Daphnia\",2.95378198,\"Arthropoda\",\"na\"],[7,5,1,2,\"Putative uncharacterized protein\",\"Putative\",\"Daphnia pulex\",\"Daphnia\",2.7632934700000003,\"Arthropoda\",\"na\"],[7,5,1,2,\"Putative uncharacterized protein\",\"Putative\",\"Daphnia pulex\",\"Daphnia\",2.79767424,\"Arthropoda\",\"na\"],[-1,14,10,4,\"Neuroglobin\",\"Neuroglobin\",\"Daphnia magna\",\"Daphnia\",2.620574789999999,\"Arthropoda\",\"na\"],[9,4,1,2,\"Putative di domain hemoglobin\",\"Hemoglobin\",\"Daphnia magna\",\"Daphnia\",1.84605186,\"Arthropoda\",\"na\"],[9,4,1,2,\"Putative di domain hemoglobin\",\"Hemoglobin\",\"Daphnia magna\",\"Daphnia\",1.84634758,\"Arthropoda\",\"na\"],[9,4,1,2,\"Di domain hemoglobin (Fragment)\",\"Hemoglobin\",\"Daphnia magna\",\"Daphnia\",1.75867537,\"Arthropoda\",\"na\"],[9,4,1,2,\"Di domain hemoglobin (Fragment)\",\"Hemoglobin\",\"Daphnia magna\",\"Daphnia\",1.7849976899999995,\"Arthropoda\",\"na\"],[-1,29,18,10,\"Beta chain of the tetrameric hemoglobin, putative\",\"Hemoglobin\",\"Ixodes scapularis\",\"Ixodes\",2.34867746,\"Arthropoda\",\"na\"],[9,4,1,2,\"Putative di domain hemoglobin\",\"Hemoglobin\",\"Daphnia magna\",\"Daphnia\",1.99097658,\"Arthropoda\",\"na\"],[9,4,1,2,\"Putative di domain hemoglobin (Fragment)\",\"Hemoglobin\",\"Daphnia magna\",\"Daphnia\",1.89847506,\"Arthropoda\",\"na\"],[9,4,1,2,\"Putative di domain hemoglobin\",\"Hemoglobin\",\"Daphnia magna\",\"Daphnia\",2.00307168,\"Arthropoda\",\"na\"],[-1,5,1,2,\"Di domain hemoglobin (Fragment)\",\"Hemoglobin\",\"Daphnia magna\",\"Daphnia\",2.36856662,\"Arthropoda\",\"na\"],[39,28,18,10,\"Globin\",\"Globin\",\"Harpegnathos saltator\",\"Harpegnathos\",2.62513263,\"Arthropoda\",\"na\"],[40,28,18,10,\"Globin\",\"Globin\",\"Zootermopsis nevadensis\",\"Zootermopsis\",1.7189102399999998,\"Arthropoda\",\"na\"],[6,5,1,2,\"Di domain hemoglobin\",\"Hemoglobin\",\"Daphnia magna\",\"Daphnia\",3.08054532,\"Arthropoda\",\"na\"],[9,4,1,2,\"Putative uncharacterized protein\",\"Putative\",\"Daphnia pulex\",\"Daphnia\",1.88554508,\"Arthropoda\",\"na\"],[9,4,1,2,\"Hemoglobin\",\"Hemoglobin\",\"Daphnia magna\",\"Daphnia\",1.82335212,\"Arthropoda\",\"na\"],[9,4,1,2,\"Hemoglobin\",\"Hemoglobin\",\"Daphnia pulex\",\"Daphnia\",1.85557538,\"Arthropoda\",\"na\"],[9,4,1,2,\"Hemoglobin\",\"Hemoglobin\",\"Daphnia pulex\",\"Daphnia\",1.88942132,\"Arthropoda\",\"na\"],[9,4,1,2,\"Hemoglobin\",\"Hemoglobin\",\"Daphnia pulex\",\"Daphnia\",1.91532281,\"Arthropoda\",\"na\"],[9,4,1,2,\"Di domain hemoglobin\",\"Hemoglobin\",\"Daphnia magna\",\"Daphnia\",1.92797924,\"Arthropoda\",\"na\"],[8,5,1,2,\"Putative uncharacterized protein (Fragment)\",\"Putative\",\"Daphnia pulex\",\"Daphnia\",2.34983516,\"Arthropoda\",\"na\"],[8,5,1,2,\"Uncharacterized protein (Fragment)\",\"Uncharacterized\",\"Daphnia magna\",\"Daphnia\",2.22413281,\"Arthropoda\",\"na\"],[-1,-1,-1,8,\"Globin (Fragment)\",\"Globin\",\"Operophtera brumata\",\"Operophtera\",2.5920814199999995,\"Arthropoda\",\"na\"],[-1,-1,18,10,\"Globin\",\"Globin\",\"Daphnia magna\",\"Daphnia\",2.39585067,\"Arthropoda\",\"na\"],[9,4,1,2,\"Putative di domain hemoglobin (Fragment)\",\"Hemoglobin\",\"Daphnia magna\",\"Daphnia\",1.97351688,\"Arthropoda\",\"na\"],[9,4,1,2,\"Di domain hemoglobin\",\"Hemoglobin\",\"Daphnia magna\",\"Daphnia\",2.01628845,\"Arthropoda\",\"na\"],[10,38,22,9,\"Hemoglobin T1 polymer\",\"Hemoglobin\",\"Artemia salina\",\"Artemia\",1.84725956,\"Arthropoda\",\"na\"],[10,38,22,9,\"Hemoglobin P polymer\",\"Hemoglobin\",\"Parartemia zietziana\",\"Parartemia\",1.91905851,\"Arthropoda\",\"na\"],[11,38,22,9,\"Hemoglobin T1 polymer\",\"Hemoglobin\",\"Artemia salina\",\"Artemia\",1.78050468,\"Arthropoda\",\"na\"],[11,38,22,9,\"Hemoglobin P polymer\",\"Hemoglobin\",\"Parartemia zietziana\",\"Parartemia\",1.73983856,\"Arthropoda\",\"na\"],[11,38,22,9,\"Hemoglobin C1 polymer\",\"Hemoglobin\",\"Artemia salina\",\"Artemia\",1.70252921,\"Arthropoda\",\"na\"],[36,26,18,10,\"Cytoglobin 2\",\"Cytoglobin\",\"Daphnia magna\",\"Daphnia\",2.23126274,\"Arthropoda\",\"na\"],[-1,-1,18,10,\"Globin like protein 1\",\"Globin\",\"Sarcoptes scabiei\",\"Sarcoptes\",2.11760394,\"Arthropoda\",\"na\"],[-1,38,22,9,\"Hemoglobin P polymer\",\"Hemoglobin\",\"Parartemia zietziana\",\"Parartemia\",2.0891213,\"Arthropoda\",\"na\"],[-1,40,22,11,\"Uncharacterized protein\",\"Uncharacterized\",\"Acyrthosiphon pisum\",\"Acyrthosiphon\",0.90085961,\"Arthropoda\",\"na\"],[-1,12,10,4,\"Uncharacterized protein\",\"Uncharacterized\",\"Lepeophtheirus salmonis\",\"Lepeophtheirus\",3.34308881,\"Arthropoda\",\"na\"],[-1,37,21,10,\"Uncharacterized protein\",\"Uncharacterized\",\"Glossina morsitans\",\"Glossina\",2.01930981,\"Arthropoda\",\"na\"],[-1,-1,19,10,\"Cytoglobin1like [Saccoglossus kowalevskii]\",\"Cytoglobin\",\"Lepeophtheirus salmonis\",\"Lepeophtheirus\",2.17551995,\"Arthropoda\",\"na\"],[6,5,1,2,\"Di domain hemoglobin (Fragment)\",\"Hemoglobin\",\"Daphnia magna\",\"Daphnia\",2.94537689,\"Arthropoda\",\"na\"],[-1,12,10,4,\"Neuroglobinlike [Maylandia zebra]\",\"Neuroglobin\",\"Lepeophtheirus salmonis\",\"Lepeophtheirus\",3.308708769999999,\"Arthropoda\",\"na\"],[9,4,1,2,\"Di domain hemoglobin like protein\",\"Hemoglobin\",\"Daphnia magna\",\"Daphnia\",2.34751979,\"Arthropoda\",\"na\"],[-1,-1,-1,2,\"Putative di domain hemoglobin (Fragment)\",\"Hemoglobin\",\"Daphnia magna\",\"Daphnia\",2.5254769,\"Arthropoda\",\"na\"]],\"hovertemplate\":\"<b>%{hovertext}</b><br><br>Color_species=%{customdata[9]}<br>pm1=%{x}<br>pm2=%{y}<br>tree1=%{customdata[0]}<br>tree2=%{customdata[1]}<br>tree3=%{customdata[2]}<br>tree4=%{customdata[3]}<br>full_name=%{customdata[4]}<br>short_name=%{customdata[5]}<br>full_species=%{customdata[6]}<br>short_species=%{customdata[7]}<br>evo_distance=%{customdata[8]}<br>labels=%{customdata[10]}<extra></extra>\",\"hovertext\":[\"Arthropoda\",\"Arthropoda\",\"Arthropoda\",\"Arthropoda\",\"Arthropoda\",\"Arthropoda\",\"Arthropoda\",\"Arthropoda\",\"Arthropoda\",\"Arthropoda\",\"Arthropoda\",\"Arthropoda\",\"Arthropoda\",\"Arthropoda\",\"Arthropoda\",\"Arthropoda\",\"Arthropoda\",\"Arthropoda\",\"Arthropoda\",\"Arthropoda\",\"Arthropoda\",\"Arthropoda\",\"Arthropoda\",\"Arthropoda\",\"Arthropoda\",\"Arthropoda\",\"Arthropoda\",\"Arthropoda\",\"Arthropoda\",\"Arthropoda\",\"Arthropoda\",\"Arthropoda\",\"Arthropoda\",\"Arthropoda\",\"Arthropoda\",\"Arthropoda\",\"Arthropoda\",\"Arthropoda\",\"Arthropoda\",\"Arthropoda\",\"Arthropoda\",\"Arthropoda\",\"Arthropoda\",\"Arthropoda\",\"Arthropoda\",\"Arthropoda\",\"Arthropoda\",\"Arthropoda\",\"Arthropoda\",\"Arthropoda\",\"Arthropoda\",\"Arthropoda\",\"Arthropoda\",\"Arthropoda\",\"Arthropoda\",\"Arthropoda\",\"Arthropoda\",\"Arthropoda\",\"Arthropoda\",\"Arthropoda\",\"Arthropoda\",\"Arthropoda\",\"Arthropoda\",\"Arthropoda\",\"Arthropoda\",\"Arthropoda\",\"Arthropoda\",\"Arthropoda\",\"Arthropoda\",\"Arthropoda\",\"Arthropoda\",\"Arthropoda\",\"Arthropoda\",\"Arthropoda\",\"Arthropoda\",\"Arthropoda\",\"Arthropoda\",\"Arthropoda\",\"Arthropoda\",\"Arthropoda\",\"Arthropoda\",\"Arthropoda\",\"Arthropoda\",\"Arthropoda\"],\"legendgroup\":\"Arthropoda\",\"marker\":{\"color\":\"#EF553B\",\"symbol\":\"circle\"},\"mode\":\"markers\",\"name\":\"Arthropoda\",\"orientation\":\"v\",\"showlegend\":true,\"x\":[-0.4728325,-0.16549852,-0.07682752,-0.6413526,0.51751524,0.031886145,-0.70761275,0.73762584,0.33566484,0.75400585,0.48946217,0.06121836,0.15755598,0.573902,-0.4142367,-0.50993115,-0.8310205,0.5363739,-0.3797039,-0.4433984,0.60337615,-0.1432345,-0.352249,0.22211936,-0.2993493,0.6778997,0.04527964,0.8980741,0.73401755,0.74242514,0.20255081,0.21521626,0.062340394,0.26793304,-0.47302058,0.71060467,-0.5224943,0.23629092,-0.4967306,0.6216853,-0.84448737,0.23714143,-0.5058895,-0.8341816,0.44942957,0.8364446,-0.03739883,0.5987166,-0.26139283,0.34583798,0.25767046,0.60983276,0.0619005,0.6137528,0.6274619,-0.5012053,0.70401835,-0.7002032,-0.6968108,-0.66588026,-0.64810884,0.5527895,-0.40663823,-0.4895125,0.8611592,0.83268136,-0.37895656,0.5984632,0.7543988,0.76006824,0.71864057,0.7529845,0.64404434,-0.66575867,0.7014114,0.8390307,-0.19904354,-0.027386678,0.7625253,-0.3464178,-0.8347018,-0.5853443,-0.3466556,0.37488148],\"xaxis\":\"x\",\"y\":[-0.540537,0.75852746,0.8395694,0.56027746,-0.35787332,0.89470506,0.65992063,0.57131755,-0.8846988,-0.28065142,0.3772716,0.51414376,0.06038915,-0.39275703,0.75972706,-0.7989782,-0.32302958,-0.40113848,-0.7505968,0.7648306,-0.6863691,0.8499652,-0.72367513,-0.65719444,0.77748257,-0.28647724,0.9144292,0.24886696,0.5888943,0.5647527,-0.81389827,-0.803565,0.51379365,0.49819317,-0.5403922,-0.26574928,-0.28250733,0.5594661,-0.8213591,-0.66678405,-0.3292571,0.5689409,-0.80888397,-0.3389409,-0.5395567,-0.20529209,0.63115907,-0.6488874,-0.28308582,-0.8665708,-0.78062165,-0.6717549,0.51444775,-0.67731345,-0.4449728,-0.81327665,0.41372395,0.5770885,0.56944203,0.605031,0.59068716,0.3942604,-0.7579944,-0.80075973,-0.20161375,-0.45972583,-0.71262306,-0.6796971,0.5753328,0.5691923,0.55246687,0.5682231,0.4323233,0.5642106,0.40748698,-0.46518168,-0.57732356,-0.2847683,-0.22745726,-0.4128527,-0.34988242,-0.3157478,-0.4128587,-0.871858],\"yaxis\":\"y\",\"type\":\"scatter\",\"textposition\":\"top right\"},{\"customdata\":[[45,33,18,10,\"Uncharacterized protein\",\"Uncharacterized\",\"Arion vulgaris\",\"Arion\",1.97427266,\"Mollusca\",\"na\"],[45,33,18,10,\"Uncharacterized protein\",\"Uncharacterized\",\"Arion vulgaris\",\"Arion\",2.08013658,\"Mollusca\",\"na\"],[18,14,10,4,\"Cytoglobin 2\",\"Cytoglobin\",\"Crassostrea gigas\",\"Crassostrea\",2.89814466,\"Mollusca\",\"na\"],[19,14,10,4,\"Uncharacterized protein (Fragment)\",\"Uncharacterized\",\"Lottia gigantea\",\"Lottia\",2.350108079999999,\"Mollusca\",\"na\"],[19,14,10,4,\"Uncharacterized protein (Fragment)\",\"Uncharacterized\",\"Lottia gigantea\",\"Lottia\",2.4627551299999992,\"Mollusca\",\"na\"],[-1,14,10,4,\"Uncharacterized protein (Fragment)\",\"Uncharacterized\",\"Lottia gigantea\",\"Lottia\",3.15607834,\"Mollusca\",\"na\"],[19,14,10,4,\"Uncharacterized protein\",\"Uncharacterized\",\"Lottia gigantea\",\"Lottia\",2.6062900199999994,\"Mollusca\",\"na\"],[43,31,17,10,\"Globin 2 A chain\",\"Globin\",\"Anadara inaequivalvis\",\"Anadara\",2.93935263,\"Mollusca\",\"na\"],[-1,-1,17,10,\"Nerve hemoglobin\",\"Hemoglobin\",\"Spisula solidissima\",\"Spisula\",2.92864342,\"Mollusca\",\"na\"],[-1,31,17,10,\"Hemoglobin (Heterodimeric)\",\"Hemoglobin\",\"Barbatia virescens\",\"Barbatia\",2.80988922,\"Mollusca\",\"na\"],[43,31,17,10,\"Globin, minor\",\"Globin,\",\"Anadara trapezia\",\"Anadara\",3.2788812000000003,\"Mollusca\",\"na\"],[43,31,17,10,\"Globin 2 B chain\",\"Globin\",\"Anadara inaequivalvis\",\"Anadara\",3.13812794,\"Mollusca\",\"na\"],[-1,-1,18,10,\"Globin\",\"Globin\",\"Crassostrea gigas\",\"Crassostrea\",2.20001602,\"Mollusca\",\"na\"],[19,14,10,4,\"Neuroglobin 1\",\"Neuroglobin\",\"Crassostrea gigas\",\"Crassostrea\",2.4302546899999995,\"Mollusca\",\"na\"],[19,14,10,4,\"Uncharacterized protein\",\"Uncharacterized\",\"Arion vulgaris\",\"Arion\",2.53586098,\"Mollusca\",\"na\"],[42,32,16,10,\"Globin\",\"Globin\",\"Nassarius mutabilis\",\"Nassarius\",2.69282831,\"Mollusca\",\"na\"],[41,32,16,10,\"Uncharacterized protein\",\"Uncharacterized\",\"Lottia gigantea\",\"Lottia\",2.30991023,\"Mollusca\",\"na\"],[41,32,16,10,\"Uncharacterized protein\",\"Uncharacterized\",\"Lottia gigantea\",\"Lottia\",2.3265049,\"Mollusca\",\"na\"],[42,32,16,10,\"Globin\",\"Globin\",\"Cerithidea rhizophorarum\",\"Cerithidea\",2.81440342,\"Mollusca\",\"na\"],[23,16,20,7,\"Uncharacterized protein\",\"Uncharacterized\",\"Arion vulgaris\",\"Arion\",2.60859124,\"Mollusca\",\"na\"],[-1,16,20,7,\"Uncharacterized protein\",\"Uncharacterized\",\"Lottia gigantea\",\"Lottia\",2.7304677,\"Mollusca\",\"na\"],[23,16,20,7,\"Cytoglobin 1\",\"Cytoglobin\",\"Crassostrea gigas\",\"Crassostrea\",2.85491961,\"Mollusca\",\"na\"],[-1,-1,2,1,\"Globin\",\"Globin\",\"Nerita albicilla\",\"Nerita\",2.08733768,\"Mollusca\",\"na\"],[-1,-1,17,10,\"Hemoglobin II\",\"Hemoglobin\",\"Phacoides pectinatus\",\"Phacoides\",2.9455253599999995,\"Mollusca\",\"na\"],[-1,7,4,7,\"Cytoglobin 2\",\"Cytoglobin\",\"Crassostrea gigas\",\"Crassostrea\",2.34885314,\"Mollusca\",\"na\"],[19,14,10,4,\"Uncharacterized protein\",\"Uncharacterized\",\"Octopus bimaculoides\",\"Octopus\",2.550460389999999,\"Mollusca\",\"na\"],[-1,7,4,7,\"Uncharacterized protein\",\"Uncharacterized\",\"Lottia gigantea\",\"Lottia\",2.43279945,\"Mollusca\",\"na\"],[18,14,10,4,\"Nacrein like protein F\",\"Nacrein\",\"Crassostrea gigas\",\"Crassostrea\",3.01650571,\"Mollusca\",\"na\"],[23,16,20,7,\"Uncharacterized protein\",\"Uncharacterized\",\"Lottia gigantea\",\"Lottia\",2.73087099,\"Mollusca\",\"na\"],[44,30,17,10,\"Two domain chain of the polymeric hemoglobin (Intracellular)\",\"Hemoglobin\",\"Barbatia lima\",\"Barbatia\",2.72130571,\"Mollusca\",\"na\"],[44,30,17,10,\"Hemoglobin (2 domain)\",\"Hemoglobin\",\"Barbatia lima\",\"Barbatia\",2.73232709,\"Mollusca\",\"na\"],[32,22,11,5,\"Hemoglobin (Fragment)\",\"Hemoglobin\",\"Biomphalaria glabrata\",\"Biomphalaria\",3.48471231,\"Mollusca\",\"na\"],[32,22,11,5,\"Uncharacterized protein\",\"Uncharacterized\",\"Biomphalaria glabrata\",\"Biomphalaria\",3.63841564,\"Mollusca\",\"na\"],[32,22,11,5,\"Uncharacterized protein\",\"Uncharacterized\",\"Biomphalaria glabrata\",\"Biomphalaria\",3.38373079,\"Mollusca\",\"na\"],[32,22,11,5,\"Haemoglobin type 1\",\"Hemoglobin\",\"Biomphalaria glabrata\",\"Biomphalaria\",3.53221633,\"Mollusca\",\"na\"],[32,22,11,5,\"Uncharacterized protein\",\"Uncharacterized\",\"Biomphalaria glabrata\",\"Biomphalaria\",3.61489538,\"Mollusca\",\"na\"]],\"hovertemplate\":\"<b>%{hovertext}</b><br><br>Color_species=%{customdata[9]}<br>pm1=%{x}<br>pm2=%{y}<br>tree1=%{customdata[0]}<br>tree2=%{customdata[1]}<br>tree3=%{customdata[2]}<br>tree4=%{customdata[3]}<br>full_name=%{customdata[4]}<br>short_name=%{customdata[5]}<br>full_species=%{customdata[6]}<br>short_species=%{customdata[7]}<br>evo_distance=%{customdata[8]}<br>labels=%{customdata[10]}<extra></extra>\",\"hovertext\":[\"Mollusca\",\"Mollusca\",\"Mollusca\",\"Mollusca\",\"Mollusca\",\"Mollusca\",\"Mollusca\",\"Mollusca\",\"Mollusca\",\"Mollusca\",\"Mollusca\",\"Mollusca\",\"Mollusca\",\"Mollusca\",\"Mollusca\",\"Mollusca\",\"Mollusca\",\"Mollusca\",\"Mollusca\",\"Mollusca\",\"Mollusca\",\"Mollusca\",\"Mollusca\",\"Mollusca\",\"Mollusca\",\"Mollusca\",\"Mollusca\",\"Mollusca\",\"Mollusca\",\"Mollusca\",\"Mollusca\",\"Mollusca\",\"Mollusca\",\"Mollusca\",\"Mollusca\",\"Mollusca\"],\"legendgroup\":\"Mollusca\",\"marker\":{\"color\":\"#00cc96\",\"symbol\":\"circle\"},\"mode\":\"markers\",\"name\":\"Mollusca\",\"orientation\":\"v\",\"showlegend\":true,\"x\":[0.08712676,-0.42125985,0.08764857,-0.2855015,-0.5049361,0.32957995,0.55918425,0.86523163,0.83469814,-0.6114886,0.2250345,-0.6189713,0.092354394,-0.16733061,0.8405509,0.6248679,-0.19889133,0.122020185,-0.6825625,0.061717566,0.7552159,-0.64313674,0.33792153,0.6276173,0.5362148,-0.70977104,-0.50115424,0.6985418,-0.34676555,-0.19872381,-0.2939205,-0.2895446,-0.510015,0.6980988,0.038781106,0.6948199],\"xaxis\":\"x\",\"y\":[0.93939584,0.7440995,0.9190564,-0.2994421,-0.8192372,-0.8831678,-0.46981817,-0.21243125,-0.4506882,0.63770354,-0.8007391,0.6100233,0.9329666,0.810959,-0.44988206,-0.66305363,-0.57741416,0.47742084,0.5677576,0.51368654,0.5616369,0.5689357,-0.89369684,-0.67017686,0.35408935,0.66581506,-0.8022112,0.4177208,-0.4133964,-0.57664406,0.80083376,-0.29395914,-0.8160255,0.4118005,0.45341706,0.41295102],\"yaxis\":\"y\",\"type\":\"scatter\",\"textposition\":\"top right\"},{\"customdata\":[[13,17,5,7,\"Uncharacterized protein\",\"Uncharacterized\",\"Capitella teleta\",\"Capitella\",2.1436955,\"Annelida\",\"na\"],[-1,-1,4,7,\"Uncharacterized protein\",\"Uncharacterized\",\"Capitella teleta\",\"Capitella\",2.50218703,\"Annelida\",\"na\"],[13,17,5,7,\"Uncharacterized protein\",\"Uncharacterized\",\"Capitella teleta\",\"Capitella\",2.2371513499999995,\"Annelida\",\"na\"],[-1,17,5,7,\"Uncharacterized protein (Fragment)\",\"Uncharacterized\",\"Capitella teleta\",\"Capitella\",2.66909204,\"Annelida\",\"na\"],[-1,34,18,10,\"Uncharacterized protein\",\"Uncharacterized\",\"Capitella teleta\",\"Capitella\",2.02076984,\"Annelida\",\"na\"],[-1,14,10,4,\"Uncharacterized protein\",\"Uncharacterized\",\"Capitella teleta\",\"Capitella\",3.0766556599999992,\"Annelida\",\"na\"],[-1,-1,3,2,\"Extracellular globin 1\",\"Extracellular\",\"Metaphire sieboldi\",\"Metaphire\",2.43355891,\"Annelida\",\"na\"],[-1,14,10,4,\"Uncharacterized protein\",\"Uncharacterized\",\"Capitella teleta\",\"Capitella\",3.0074926799999995,\"Annelida\",\"na\"],[-1,17,5,7,\"Uncharacterized protein\",\"Uncharacterized\",\"Capitella teleta\",\"Capitella\",2.42843133,\"Annelida\",\"na\"]],\"hovertemplate\":\"<b>%{hovertext}</b><br><br>Color_species=%{customdata[9]}<br>pm1=%{x}<br>pm2=%{y}<br>tree1=%{customdata[0]}<br>tree2=%{customdata[1]}<br>tree3=%{customdata[2]}<br>tree4=%{customdata[3]}<br>full_name=%{customdata[4]}<br>short_name=%{customdata[5]}<br>full_species=%{customdata[6]}<br>short_species=%{customdata[7]}<br>evo_distance=%{customdata[8]}<br>labels=%{customdata[10]}<extra></extra>\",\"hovertext\":[\"Annelida\",\"Annelida\",\"Annelida\",\"Annelida\",\"Annelida\",\"Annelida\",\"Annelida\",\"Annelida\",\"Annelida\"],\"legendgroup\":\"Annelida\",\"marker\":{\"color\":\"#ab63fa\",\"symbol\":\"circle\"},\"mode\":\"markers\",\"name\":\"Annelida\",\"orientation\":\"v\",\"showlegend\":true,\"x\":[-0.38329658,0.7286009,-0.65812117,-0.82096714,0.44941252,0.5628794,0.0412456,0.04368619,0.83271605],\"xaxis\":\"x\",\"y\":[-0.76269406,0.5647274,0.6036034,-0.35018185,-0.53958,-0.5216902,0.4308411,0.5120599,-0.4671879],\"yaxis\":\"y\",\"type\":\"scatter\",\"textposition\":\"top right\"},{\"customdata\":[[-1,13,8,4,\"Neuroglobin like\",\"Neuroglobin\",\"Scleropages formosus\",\"Scleropages\",2.75087931,\"Chordata\",\"na\"],[-1,23,14,6,\"Globin\",\"Globin\",\"Branchiostoma floridae\",\"Branchiostoma\",2.1325129,\"Chordata\",\"na\"],[-1,39,20,7,\"Putative uncharacterized protein\",\"Putative\",\"Branchiostoma floridae\",\"Branchiostoma\",1.93258564,\"Chordata\",\"na\"],[29,20,12,5,\"Cytoglobin b\",\"Cytoglobin\",\"Xenopus laevis\",\"Xenopus\",2.2875242,\"Chordata\",\"na\"],[29,20,12,5,\"Uncharacterized protein\",\"Uncharacterized\",\"Oreochromis niloticus\",\"Oreochromis\",2.19807532,\"Chordata\",\"na\"],[29,20,12,5,\"Cytoglobin\",\"Cytoglobin\",\"Nothobranchius korthausae\",\"Nothobranchius\",2.2776364,\"Chordata\",\"na\"],[28,20,12,5,\"Uncharacterized protein (Fragment)\",\"Uncharacterized\",\"Gasterosteus aculeatus\",\"Gasterosteus\",2.2892364899999995,\"Chordata\",\"na\"],[29,20,12,5,\"Cytoglobin\",\"Cytoglobin\",\"Bos mutus\",\"Bos\",2.42091472,\"Chordata\",\"na\"],[29,20,12,5,\"Cytoglobin 1\",\"Cytoglobin\",\"Iguana iguana\",\"Iguana\",2.26895595,\"Chordata\",\"na\"],[28,20,12,5,\"Cytoglobin 1\",\"Cytoglobin\",\"Oryzias latipes\",\"Oryzias\",2.25311924,\"Chordata\",\"na\"],[29,20,12,5,\"Uncharacterized protein\",\"Uncharacterized\",\"Anas platyrhynchos\",\"Anas\",2.24009126,\"Chordata\",\"na\"],[28,20,12,5,\"Uncharacterized protein\",\"Uncharacterized\",\"Tetraodon nigroviridis\",\"Tetraodon\",2.4499165100000004,\"Chordata\",\"na\"],[28,20,12,5,\"Uncharacterized protein (Fragment)\",\"Uncharacterized\",\"Takifugu rubripes\",\"Takifugu\",2.4839830600000004,\"Chordata\",\"na\"],[29,20,12,5,\"Cytoglobin 2\",\"Cytoglobin\",\"Tetraodon nigroviridis\",\"Tetraodon\",2.23168579,\"Chordata\",\"na\"],[29,20,12,5,\"Uncharacterized protein\",\"Uncharacterized\",\"Tetraodon nigroviridis\",\"Tetraodon\",2.36374552,\"Chordata\",\"na\"],[28,20,12,5,\"Uncharacterized protein\",\"Uncharacterized\",\"Xiphophorus maculatus\",\"Xiphophorus\",2.2426578000000004,\"Chordata\",\"na\"],[28,20,12,5,\"Cytoglobin 1\",\"Cytoglobin\",\"Larimichthys crocea\",\"Larimichthys\",2.27502112,\"Chordata\",\"na\"],[29,20,12,5,\"Uncharacterized protein\",\"Uncharacterized\",\"Oncorhynchus mykiss\",\"Oncorhynchus\",2.20579096,\"Chordata\",\"na\"],[28,20,12,5,\"Cytoglobin 1\",\"Cytoglobin\",\"Nothobranchius pienaari\",\"Nothobranchius\",2.2369473400000004,\"Chordata\",\"na\"],[29,20,12,5,\"Cytoglobin\",\"Cytoglobin\",\"Alligator mississippiensis\",\"Alligator\",2.16168743,\"Chordata\",\"na\"],[29,20,12,5,\"Uncharacterized protein\",\"Uncharacterized\",\"Astyanax mexicanus\",\"Astyanax\",2.05393176,\"Chordata\",\"na\"],[29,20,12,5,\"Uncharacterized protein\",\"Uncharacterized\",\"Latimeria chalumnae\",\"Latimeria\",2.23058219,\"Chordata\",\"na\"],[29,20,12,5,\"Cytoglobin 2\",\"Cytoglobin\",\"Ictalurus punctatus\",\"Ictalurus\",2.12180628,\"Chordata\",\"na\"],[28,20,12,5,\"Cytoglobin\",\"Cytoglobin\",\"Chaenocephalus aceratus\",\"Chaenocephalus\",2.27395144,\"Chordata\",\"na\"],[29,20,12,5,\"Cygb2 protein\",\"Cygb2\",\"Danio rerio\",\"Danio\",2.05149233,\"Chordata\",\"na\"],[28,20,12,5,\"Uncharacterized protein\",\"Uncharacterized\",\"Oreochromis niloticus\",\"Oreochromis\",2.15346116,\"Chordata\",\"na\"],[28,20,12,5,\"Cytoglobin\",\"Cytoglobin\",\"Oncorhynchus mykiss\",\"Oncorhynchus\",2.15784398,\"Chordata\",\"na\"],[31,20,12,5,\"Uncharacterized protein\",\"Uncharacterized\",\"Astyanax mexicanus\",\"Astyanax\",2.18361902,\"Chordata\",\"na\"],[31,20,12,5,\"Cytoglobin 1\",\"Cytoglobin\",\"Cyprinus carpio\",\"Cyprinus\",2.06025855,\"Chordata\",\"na\"],[29,20,12,5,\"Cytoglobin\",\"Cytoglobin\",\"Callorhinchus milii\",\"Callorhinchus\",2.39273588,\"Chordata\",\"na\"],[31,20,12,5,\"Cytoglobin 1\",\"Cytoglobin\",\"Danio rerio\",\"Danio\",2.16806595,\"Chordata\",\"na\"],[31,20,12,5,\"Cytoglobin 1\",\"Cytoglobin\",\"Ictalurus punctatus\",\"Ictalurus\",2.19052877,\"Chordata\",\"na\"],[-1,18,13,5,\"Uncharacterized protein\",\"Uncharacterized\",\"Lepisosteus oculatus\",\"Lepisosteus\",2.35310711,\"Chordata\",\"na\"],[16,11,10,4,\"GbX1\",\"GbX1\",\"Callorhinchus milii\",\"Callorhinchus\",2.948089519999999,\"Chordata\",\"na\"],[16,11,10,4,\"GbX2\",\"GbX2\",\"Callorhinchus milii\",\"Callorhinchus\",3.0123761099999995,\"Chordata\",\"na\"],[16,11,10,4,\"Chromosome 10 SCAF15019, whole genome shotgun sequence\",\"Chromosome\",\"Tetraodon nigroviridis\",\"Tetraodon\",3.1074634799999994,\"Chordata\",\"na\"],[16,11,10,4,\"Cytoglobin 1\",\"Cytoglobin\",\"Chelonia mydas\",\"Chelonia\",2.706756999999999,\"Chordata\",\"na\"],[16,11,10,4,\"Uncharacterized protein\",\"Uncharacterized\",\"Poecilia formosa\",\"Poecilia\",3.0849746199999992,\"Chordata\",\"na\"],[16,11,10,4,\"Uncharacterized protein\",\"Uncharacterized\",\"Lepisosteus oculatus\",\"Lepisosteus\",2.843704849999999,\"Chordata\",\"na\"],[16,11,10,4,\"Uncharacterized protein\",\"Uncharacterized\",\"Latimeria chalumnae\",\"Latimeria\",2.74467532,\"Chordata\",\"na\"],[16,11,10,4,\"Xgb protein\",\"Xgb\",\"Danio rerio\",\"Danio\",3.15932725,\"Chordata\",\"na\"],[16,11,10,4,\"Uncharacterized protein\",\"Uncharacterized\",\"Lepisosteus oculatus\",\"Lepisosteus\",2.98219578,\"Chordata\",\"na\"],[16,11,10,4,\"Uncharacterized protein\",\"Uncharacterized\",\"Xenopus tropicalis\",\"Xenopus\",3.07574532,\"Chordata\",\"na\"],[16,11,10,4,\"Cytoglobin 2\",\"Cytoglobin\",\"Ictalurus punctatus\",\"Ictalurus\",3.15839468,\"Chordata\",\"na\"],[16,11,10,4,\"Uncharacterized protein\",\"Uncharacterized\",\"Oreochromis niloticus\",\"Oreochromis\",3.245876129999999,\"Chordata\",\"na\"],[16,11,10,4,\"Uncharacterized protein\",\"Uncharacterized\",\"Oncorhynchus mykiss\",\"Oncorhynchus\",3.104564709999999,\"Chordata\",\"na\"],[34,23,14,6,\"Globin\",\"Globin\",\"Branchiostoma floridae\",\"Branchiostoma\",2.16645269,\"Chordata\",\"na\"],[16,11,10,4,\"Uncharacterized protein\",\"Uncharacterized\",\"Oncorhynchus mykiss\",\"Oncorhynchus\",3.152127119999999,\"Chordata\",\"na\"],[16,11,10,4,\"Neuroglobin like (Fragment)\",\"Neuroglobin\",\"Scleropages formosus\",\"Scleropages\",3.024390219999999,\"Chordata\",\"na\"],[33,24,14,6,\"Uncharacterized protein\",\"Uncharacterized\",\"Ciona savignyi\",\"Ciona\",2.80514043,\"Chordata\",\"na\"],[33,24,14,6,\"Uncharacterized protein\",\"Uncharacterized\",\"Ciona intestinalis\",\"Ciona\",2.81068422,\"Chordata\",\"na\"],[33,24,14,6,\"Globin\",\"Globin\",\"Ciona intestinalis\",\"Ciona\",2.83829804,\"Chordata\",\"na\"],[33,24,14,6,\"Uncharacterized protein\",\"Uncharacterized\",\"Ciona savignyi\",\"Ciona\",2.96556729,\"Chordata\",\"na\"],[35,24,14,6,\"Uncharacterized protein\",\"Uncharacterized\",\"Ciona savignyi\",\"Ciona\",2.65847977,\"Chordata\",\"na\"],[35,24,14,6,\"Globin\",\"Globin\",\"Ciona intestinalis\",\"Ciona\",2.60884268,\"Chordata\",\"na\"],[-1,21,12,5,\"Uncharacterized protein (Fragment)\",\"Uncharacterized\",\"Petromyzon marinus\",\"Petromyzon\",2.23124498,\"Chordata\",\"na\"],[30,21,12,5,\"Hemoglobin 4\",\"Hemoglobin\",\"Lethenteron camtschaticum\",\"Lethenteron\",2.45118652,\"Chordata\",\"na\"],[30,21,12,5,\"Uncharacterized protein\",\"Uncharacterized\",\"Petromyzon marinus\",\"Petromyzon\",2.3065607,\"Chordata\",\"na\"],[30,21,12,5,\"Uncharacterized protein\",\"Uncharacterized\",\"Petromyzon marinus\",\"Petromyzon\",2.36968937,\"Chordata\",\"na\"],[27,19,13,5,\"Hemoglobin subunit alpha\",\"Hemoglobin\",\"Cavia porcellus\",\"Cavia\",2.68180205,\"Chordata\",\"na\"],[27,19,13,5,\"Hemoglobin subunit alpha 2\",\"Hemoglobin\",\"Scalopus aquaticus\",\"Scalopus\",2.59465681,\"Chordata\",\"na\"],[26,19,13,5,\"Uncharacterized protein\",\"Uncharacterized\",\"Neotoma lepida\",\"Neotoma\",2.63834495,\"Chordata\",\"na\"],[25,18,13,5,\"Globin Y\",\"Globin\",\"Callorhinchus milii\",\"Callorhinchus\",2.51505937,\"Chordata\",\"na\"],[25,18,13,5,\"Uncharacterized protein\",\"Uncharacterized\",\"Latimeria chalumnae\",\"Latimeria\",2.29929786,\"Chordata\",\"na\"],[24,18,13,5,\"Uncharacterized protein\",\"Uncharacterized\",\"Xenopus tropicalis\",\"Xenopus\",2.51423061,\"Chordata\",\"na\"],[24,18,13,5,\"Globin Y\",\"Globin\",\"Xenopus laevis\",\"Xenopus\",2.4560224799999992,\"Chordata\",\"na\"],[-1,18,13,5,\"Uncharacterized protein\",\"Uncharacterized\",\"Pelodiscus sinensis\",\"Pelodiscus\",2.69837249,\"Chordata\",\"na\"],[29,20,12,5,\"Cytoglobin (Fragment)\",\"Cytoglobin\",\"Fundulus heteroclitus\",\"Fundulus\",2.23162917,\"Chordata\",\"na\"],[34,23,14,6,\"Putative uncharacterized protein\",\"Putative\",\"Branchiostoma floridae\",\"Branchiostoma\",2.37973605,\"Chordata\",\"na\"],[34,23,14,6,\"Putative uncharacterized protein\",\"Putative\",\"Branchiostoma floridae\",\"Branchiostoma\",2.38806056,\"Chordata\",\"na\"],[26,19,13,5,\"Hemoglobin subunit rho\",\"Hemoglobin\",\"Alligator mississippiensis\",\"Alligator\",2.98389637,\"Chordata\",\"na\"],[22,13,8,4,\"Neuroglobin\",\"Neuroglobin\",\"Oryctolagus cuniculus\",\"Oryctolagus\",3.722439879999999,\"Chordata\",\"na\"],[22,13,8,4,\"Neuroglobin\",\"Neuroglobin\",\"Alligator mississippiensis\",\"Alligator\",3.58667483,\"Chordata\",\"na\"],[21,13,8,4,\"Neuroglobin\",\"Neuroglobin\",\"Danio rerio\",\"Danio\",3.068778509999999,\"Chordata\",\"na\"],[22,13,8,4,\"Uncharacterized protein\",\"Uncharacterized\",\"Anolis carolinensis\",\"Anolis\",3.673447579999999,\"Chordata\",\"na\"],[22,13,8,4,\"Uncharacterized protein\",\"Uncharacterized\",\"Lepisosteus oculatus\",\"Lepisosteus\",3.147542819999999,\"Chordata\",\"na\"],[21,13,8,4,\"Neuroglobin 1\",\"Neuroglobin\",\"Salmo salar\",\"Salmo\",3.094649499999999,\"Chordata\",\"na\"],[22,13,8,4,\"Neuroglobin\",\"Neuroglobin\",\"Amazona aestiva\",\"Amazona\",3.684650899999999,\"Chordata\",\"na\"],[21,13,8,4,\"Neuroglobin\",\"Neuroglobin\",\"Chaenocephalus aceratus\",\"Chaenocephalus\",3.048452869999999,\"Chordata\",\"na\"],[22,13,8,4,\"Uncharacterized protein\",\"Uncharacterized\",\"Ornithorhynchus anatinus\",\"Ornithorhynchus\",3.630371559999999,\"Chordata\",\"na\"],[22,13,8,4,\"Uncharacterized protein\",\"Uncharacterized\",\"Sarcophilus harrisii\",\"Sarcophilus\",3.563486359999999,\"Chordata\",\"na\"],[22,13,8,4,\"Uncharacterized protein\",\"Uncharacterized\",\"Anas platyrhynchos\",\"Anas\",3.747842649999999,\"Chordata\",\"na\"],[22,13,8,4,\"Neuroglobin\",\"Neuroglobin\",\"Gallus gallus\",\"Gallus\",3.679641069999999,\"Chordata\",\"na\"],[26,19,13,5,\"Uncharacterized protein\",\"Uncharacterized\",\"Nomascus leucogenys\",\"Nomascus\",2.77009221,\"Chordata\",\"na\"],[28,20,12,5,\"Cytoglobin (Fragment)\",\"Cytoglobin\",\"Fundulus heteroclitus\",\"Fundulus\",2.29198432,\"Chordata\",\"na\"],[29,20,12,5,\"Inactive rhomboid protein 2\",\"Inactive\",\"Tupaia chinensis\",\"Tupaia\",2.24573612,\"Chordata\",\"na\"],[21,13,8,4,\"Neuroglobin (Fragment)\",\"Neuroglobin\",\"Fundulus heteroclitus\",\"Fundulus\",3.1009386899999987,\"Chordata\",\"na\"],[-1,24,14,6,\"Globin\",\"Globin\",\"Ciona intestinalis\",\"Ciona\",3.12906012,\"Chordata\",\"na\"]],\"hovertemplate\":\"<b>%{hovertext}</b><br><br>Color_species=%{customdata[9]}<br>pm1=%{x}<br>pm2=%{y}<br>tree1=%{customdata[0]}<br>tree2=%{customdata[1]}<br>tree3=%{customdata[2]}<br>tree4=%{customdata[3]}<br>full_name=%{customdata[4]}<br>short_name=%{customdata[5]}<br>full_species=%{customdata[6]}<br>short_species=%{customdata[7]}<br>evo_distance=%{customdata[8]}<br>labels=%{customdata[10]}<extra></extra>\",\"hovertext\":[\"Chordata\",\"Chordata\",\"Chordata\",\"Chordata\",\"Chordata\",\"Chordata\",\"Chordata\",\"Chordata\",\"Chordata\",\"Chordata\",\"Chordata\",\"Chordata\",\"Chordata\",\"Chordata\",\"Chordata\",\"Chordata\",\"Chordata\",\"Chordata\",\"Chordata\",\"Chordata\",\"Chordata\",\"Chordata\",\"Chordata\",\"Chordata\",\"Chordata\",\"Chordata\",\"Chordata\",\"Chordata\",\"Chordata\",\"Chordata\",\"Chordata\",\"Chordata\",\"Chordata\",\"Chordata\",\"Chordata\",\"Chordata\",\"Chordata\",\"Chordata\",\"Chordata\",\"Chordata\",\"Chordata\",\"Chordata\",\"Chordata\",\"Chordata\",\"Chordata\",\"Chordata\",\"Chordata\",\"Chordata\",\"Chordata\",\"Chordata\",\"Chordata\",\"Chordata\",\"Chordata\",\"Chordata\",\"Chordata\",\"Chordata\",\"Chordata\",\"Chordata\",\"Chordata\",\"Chordata\",\"Chordata\",\"Chordata\",\"Chordata\",\"Chordata\",\"Chordata\",\"Chordata\",\"Chordata\",\"Chordata\",\"Chordata\",\"Chordata\",\"Chordata\",\"Chordata\",\"Chordata\",\"Chordata\",\"Chordata\",\"Chordata\",\"Chordata\",\"Chordata\",\"Chordata\",\"Chordata\",\"Chordata\",\"Chordata\",\"Chordata\",\"Chordata\",\"Chordata\",\"Chordata\",\"Chordata\",\"Chordata\"],\"legendgroup\":\"Chordata\",\"marker\":{\"color\":\"#FFA15A\",\"symbol\":\"circle\"},\"mode\":\"markers\",\"name\":\"Chordata\",\"orientation\":\"v\",\"showlegend\":true,\"x\":[-0.5286316,0.542094,0.5965611,-0.1306995,0.5923118,0.44751507,0.064107165,0.4622084,0.21419546,0.74356145,-0.57579297,0.20431177,0.078883454,-0.7055088,-0.63180226,-0.71117246,0.07734761,-0.28952223,0.038863637,-0.45551017,0.5674027,0.72659314,-0.28217483,0.3701113,0.5100346,-0.825527,-0.47302547,-0.5656347,0.37442255,-0.4995304,0.4609778,-0.14662552,-0.10422683,-0.12595968,-0.37949136,0.50730026,-0.12962604,0.840311,-0.1708699,-0.4279253,-0.4728951,0.26307577,-0.63128376,-0.070754535,-0.42086235,0.5926062,0.8407166,-0.4729174,0.7245659,0.588409,0.3405294,-0.37227532,0.5565409,0.23417753,0.58105314,-0.48155794,0.5838789,0.6639247,-0.6979427,0.7364022,-0.69726384,-0.6642165,0.08761585,-0.058671523,-0.3610678,0.23928958,0.3673302,-0.63392955,0.5304121,0.08222301,0.16593947,0.823645,0.74689376,-0.37231234,0.65436375,-0.19900075,0.7715754,-0.63862205,0.53147167,-0.36753532,0.7049587,-0.19882096,-0.80545896,0.055383746,-0.6243577,0.5362217,-0.6444461,-0.54236287],\"xaxis\":\"x\",\"y\":[-0.31848612,-0.43400937,-0.6858525,0.84550506,-0.4129631,-0.5431266,0.9281378,-0.520153,-0.76231676,0.5750445,0.6281934,-0.794921,0.9447117,0.6630125,0.64716035,0.6634255,0.9275747,0.75908625,0.9209243,0.7332618,-0.52133006,-0.23235583,0.77930856,-0.8781549,-0.35795018,-0.33447158,-0.54055566,-0.28271228,-0.8634334,-0.81705606,-0.43816096,0.8184084,0.79929984,0.8212462,-0.77756935,-0.46534652,0.7812802,-0.22589849,0.81964034,0.75535053,-0.5406903,-0.6710042,0.59027743,0.82490754,0.77497846,-0.41491848,-0.45768374,-0.5403796,-0.22198918,-0.53564936,-0.8883526,-0.30851507,-0.45534244,0.56403476,-0.44985515,-0.33012345,-0.48588428,-0.48135796,0.65695405,0.5837338,0.5591172,0.60324293,0.94786584,0.8521784,0.766292,0.5632516,-0.86491567,0.61722636,0.3966558,0.93736136,-0.36563027,-0.45701274,-0.27334887,-0.7681615,-0.46159065,-0.5776602,-0.24961634,-0.31290162,0.3917059,-0.7564369,-0.46415913,-0.5772936,-0.3291359,0.917837,0.6499067,-0.4002381,0.6033479,-0.34786588],\"yaxis\":\"y\",\"type\":\"scatter\",\"textposition\":\"top right\"},{\"customdata\":[[-1,-1,8,4,\"Predicted protein\",\"Predicted\",\"Nematostella vectensis\",\"Nematostella\",2.4344002,\"Cnidaria\",\"na\"],[-1,15,7,4,\"Predicted protein\",\"Predicted\",\"Nematostella vectensis\",\"Nematostella\",3.06309082,\"Cnidaria\",\"na\"],[20,15,7,4,\"Predicted protein\",\"Predicted\",\"Nematostella vectensis\",\"Nematostella\",2.69558275,\"Cnidaria\",\"na\"],[-1,15,7,4,\"Predicted protein\",\"Predicted\",\"Nematostella vectensis\",\"Nematostella\",2.74661692,\"Cnidaria\",\"na\"],[20,15,7,4,\"Predicted protein\",\"Predicted\",\"Nematostella vectensis\",\"Nematostella\",2.46698831,\"Cnidaria\",\"na\"],[-1,-1,-1,3,\"Predicted protein\",\"Predicted\",\"Nematostella vectensis\",\"Nematostella\",3.13699746,\"Cnidaria\",\"na\"]],\"hovertemplate\":\"<b>%{hovertext}</b><br><br>Color_species=%{customdata[9]}<br>pm1=%{x}<br>pm2=%{y}<br>tree1=%{customdata[0]}<br>tree2=%{customdata[1]}<br>tree3=%{customdata[2]}<br>tree4=%{customdata[3]}<br>full_name=%{customdata[4]}<br>short_name=%{customdata[5]}<br>full_species=%{customdata[6]}<br>short_species=%{customdata[7]}<br>evo_distance=%{customdata[8]}<br>labels=%{customdata[10]}<extra></extra>\",\"hovertext\":[\"Cnidaria\",\"Cnidaria\",\"Cnidaria\",\"Cnidaria\",\"Cnidaria\",\"Cnidaria\"],\"legendgroup\":\"Cnidaria\",\"marker\":{\"color\":\"#19d3f3\",\"symbol\":\"circle\"},\"mode\":\"markers\",\"name\":\"Cnidaria\",\"orientation\":\"v\",\"showlegend\":true,\"x\":[0.3669321,0.09398687,-0.04751075,-0.16082017,-0.13413817,0.8357109],\"xaxis\":\"x\",\"y\":[-0.8716336,0.944431,0.8268825,0.85240567,0.8000998,-0.45733917],\"yaxis\":\"y\",\"type\":\"scatter\",\"textposition\":\"top right\"},{\"customdata\":[[-1,-1,9,3,\"Uncharacterized protein\",\"Uncharacterized\",\"Amphimedon queenslandica\",\"Amphimedon\",2.52227159,\"Porifera\",\"na\"]],\"hovertemplate\":\"<b>%{hovertext}</b><br><br>Color_species=%{customdata[9]}<br>pm1=%{x}<br>pm2=%{y}<br>tree1=%{customdata[0]}<br>tree2=%{customdata[1]}<br>tree3=%{customdata[2]}<br>tree4=%{customdata[3]}<br>full_name=%{customdata[4]}<br>short_name=%{customdata[5]}<br>full_species=%{customdata[6]}<br>short_species=%{customdata[7]}<br>evo_distance=%{customdata[8]}<br>labels=%{customdata[10]}<extra></extra>\",\"hovertext\":[\"Porifera\"],\"legendgroup\":\"Porifera\",\"marker\":{\"color\":\"#FF6692\",\"symbol\":\"circle\"},\"mode\":\"markers\",\"name\":\"Porifera\",\"orientation\":\"v\",\"showlegend\":true,\"x\":[-0.13329612],\"xaxis\":\"x\",\"y\":[0.79064596],\"yaxis\":\"y\",\"type\":\"scatter\",\"textposition\":\"top right\"},{\"customdata\":[[-1,-1,20,7,\"Putative uncharacterized protein\",\"Putative\",\"Trichoplax adhaerens\",\"Trichoplax\",2.31619376,\"Placozoa\",\"na\"]],\"hovertemplate\":\"<b>%{hovertext}</b><br><br>Color_species=%{customdata[9]}<br>pm1=%{x}<br>pm2=%{y}<br>tree1=%{customdata[0]}<br>tree2=%{customdata[1]}<br>tree3=%{customdata[2]}<br>tree4=%{customdata[3]}<br>full_name=%{customdata[4]}<br>short_name=%{customdata[5]}<br>full_species=%{customdata[6]}<br>short_species=%{customdata[7]}<br>evo_distance=%{customdata[8]}<br>labels=%{customdata[10]}<extra></extra>\",\"hovertext\":[\"Placozoa\"],\"legendgroup\":\"Placozoa\",\"marker\":{\"color\":\"#B6E880\",\"symbol\":\"circle\"},\"mode\":\"markers\",\"name\":\"Placozoa\",\"orientation\":\"v\",\"showlegend\":true,\"x\":[-0.6210195],\"xaxis\":\"x\",\"y\":[0.63067544],\"yaxis\":\"y\",\"type\":\"scatter\",\"textposition\":\"top right\"},{\"customdata\":[[-1,-1,6,3,\"Globin\",\"Globin\",\"Gemmatirosa kalamazoonesis\",\"Gemmatirosa\",2.9048387,\"Bacteria\",\"na\"],[-1,9,6,3,\"Globin\",\"Globin\",\"Gemmatirosa kalamazoonesis\",\"Gemmatirosa\",3.0073288499999995,\"Bacteria\",\"na\"],[-1,9,6,3,\"Hemin receptor\",\"Hemin\",\"Halothiobacillus sp.\",\"Halothiobacillus\",2.5347764,\"Bacteria\",\"na\"]],\"hovertemplate\":\"<b>%{hovertext}</b><br><br>Color_species=%{customdata[9]}<br>pm1=%{x}<br>pm2=%{y}<br>tree1=%{customdata[0]}<br>tree2=%{customdata[1]}<br>tree3=%{customdata[2]}<br>tree4=%{customdata[3]}<br>full_name=%{customdata[4]}<br>short_name=%{customdata[5]}<br>full_species=%{customdata[6]}<br>short_species=%{customdata[7]}<br>evo_distance=%{customdata[8]}<br>labels=%{customdata[10]}<extra></extra>\",\"hovertext\":[\"Bacteria\",\"Bacteria\",\"Bacteria\"],\"legendgroup\":\"Bacteria\",\"marker\":{\"color\":\"#FF97FF\",\"symbol\":\"circle\"},\"mode\":\"markers\",\"name\":\"Bacteria\",\"orientation\":\"v\",\"showlegend\":true,\"x\":[-0.7045364,0.72617996,-0.7106235],\"xaxis\":\"x\",\"y\":[0.65022784,0.5773426,0.65775144],\"yaxis\":\"y\",\"type\":\"scatter\",\"textposition\":\"top right\"},{\"customdata\":[[46,35,19,10,\"Globin\",\"Globin\",\"Ancylostoma ceylanicum\",\"Ancylostoma\",2.22981155,\"Nematoda\",\"na\"],[46,35,19,10,\"Uncharacterized protein\",\"Uncharacterized\",\"Angiostrongylus costaricensis\",\"Angiostrongylus\",2.13371016,\"Nematoda\",\"na\"],[46,35,19,10,\"Globin\",\"Globin\",\"Necator americanus\",\"Necator\",2.35159293,\"Nematoda\",\"na\"],[12,6,4,7,\"Protein CBR GLB 7\",\"Protein\",\"Caenorhabditis briggsae\",\"Caenorhabditis\",3.0159007999999994,\"Nematoda\",\"na\"],[12,6,4,7,\"Uncharacterized protein\",\"Uncharacterized\",\"Haemonchus placei\",\"Haemonchus\",3.29015469,\"Nematoda\",\"na\"],[-1,6,4,7,\"Cre glb 30 protein\",\"Cre\",\"Ascaris suum\",\"Ascaris\",3.1760076299999995,\"Nematoda\",\"na\"],[-1,-1,4,7,\"Globin like protein 26\",\"Globin\",\"Trichinella pseudospiralis\",\"Trichinella\",3.03825431,\"Nematoda\",\"na\"],[-1,6,4,7,\"Uncharacterized protein\",\"Uncharacterized\",\"Ancylostoma ceylanicum\",\"Ancylostoma\",3.20708282,\"Nematoda\",\"na\"],[-1,25,15,8,\"Metalloendopeptidase\",\"Metalloendopeptidase\",\"Globodera pallida\",\"Globodera\",2.86594104,\"Nematoda\",\"na\"],[-1,25,15,8,\"Uncharacterized protein\",\"Uncharacterized\",\"Strongyloides stercoralis\",\"Strongyloides\",3.19295417,\"Nematoda\",\"na\"]],\"hovertemplate\":\"<b>%{hovertext}</b><br><br>Color_species=%{customdata[9]}<br>pm1=%{x}<br>pm2=%{y}<br>tree1=%{customdata[0]}<br>tree2=%{customdata[1]}<br>tree3=%{customdata[2]}<br>tree4=%{customdata[3]}<br>full_name=%{customdata[4]}<br>short_name=%{customdata[5]}<br>full_species=%{customdata[6]}<br>short_species=%{customdata[7]}<br>evo_distance=%{customdata[8]}<br>labels=%{customdata[10]}<extra></extra>\",\"hovertext\":[\"Nematoda\",\"Nematoda\",\"Nematoda\",\"Nematoda\",\"Nematoda\",\"Nematoda\",\"Nematoda\",\"Nematoda\",\"Nematoda\",\"Nematoda\"],\"legendgroup\":\"Nematoda\",\"marker\":{\"color\":\"#FECB52\",\"symbol\":\"circle\"},\"mode\":\"markers\",\"name\":\"Nematoda\",\"orientation\":\"v\",\"showlegend\":true,\"x\":[-0.28688323,0.0383719,-0.4975376,0.85728484,0.62285835,-0.6605551,-0.14510766,0.86206454,0.03869918,0.062374163],\"xaxis\":\"x\",\"y\":[-0.29626402,0.9285652,-0.80988896,-0.21092276,-0.33506644,0.6210281,-0.20032081,-0.22126725,0.48254102,0.9062322],\"yaxis\":\"y\",\"type\":\"scatter\",\"textposition\":\"top right\"},{\"customdata\":[[-1,-1,14,6,\"Neuroglobin like protein\",\"Neuroglobin\",\"Saccoglossus kowalevskii\",\"Saccoglossus\",2.35972746,\"Hemichordata\",\"na\"]],\"hovertemplate\":\"<b>%{hovertext}</b><br><br>Color_species=%{customdata[9]}<br>pm1=%{x}<br>pm2=%{y}<br>tree1=%{customdata[0]}<br>tree2=%{customdata[1]}<br>tree3=%{customdata[2]}<br>tree4=%{customdata[3]}<br>full_name=%{customdata[4]}<br>short_name=%{customdata[5]}<br>full_species=%{customdata[6]}<br>short_species=%{customdata[7]}<br>evo_distance=%{customdata[8]}<br>labels=%{customdata[10]}<extra></extra>\",\"hovertext\":[\"Hemichordata\"],\"legendgroup\":\"Hemichordata\",\"marker\":{\"color\":\"#636efa\",\"symbol\":\"circle\"},\"mode\":\"markers\",\"name\":\"Hemichordata\",\"orientation\":\"v\",\"showlegend\":true,\"x\":[-0.020265745],\"xaxis\":\"x\",\"y\":[-0.22587314],\"yaxis\":\"y\",\"type\":\"scatter\",\"textposition\":\"top right\"},{\"customdata\":[[15,8,6,3,\"ARAD1D45562p\",\"ARAD1D45562p\",\"Blastobotrys adeninivorans\",\"Blastobotrys\",3.65177433,\"Fungi\",\"na\"],[15,8,6,3,\"CYFA0S05e02454g1_1\",\"CYFA0S05e02454g1_1\",\"Cyberlindnera fabianii\",\"Cyberlindnera\",4.11857393,\"Fungi\",\"na\"]],\"hovertemplate\":\"<b>%{hovertext}</b><br><br>Color_species=%{customdata[9]}<br>pm1=%{x}<br>pm2=%{y}<br>tree1=%{customdata[0]}<br>tree2=%{customdata[1]}<br>tree3=%{customdata[2]}<br>tree4=%{customdata[3]}<br>full_name=%{customdata[4]}<br>short_name=%{customdata[5]}<br>full_species=%{customdata[6]}<br>short_species=%{customdata[7]}<br>evo_distance=%{customdata[8]}<br>labels=%{customdata[10]}<extra></extra>\",\"hovertext\":[\"Fungi\",\"Fungi\"],\"legendgroup\":\"Fungi\",\"marker\":{\"color\":\"#EF553B\",\"symbol\":\"circle\"},\"mode\":\"markers\",\"name\":\"Fungi\",\"orientation\":\"v\",\"showlegend\":true,\"x\":[-0.504384,0.60625285],\"xaxis\":\"x\",\"y\":[-0.7981019,-0.50032264],\"yaxis\":\"y\",\"type\":\"scatter\",\"textposition\":\"top right\"},{\"customdata\":[[-1,-1,9,3,\"Uncharacterized protein\",\"Uncharacterized\",\"Micromonas commoda\",\"Micromonas\",2.70986541,\"Viridiplantae\",\"na\"]],\"hovertemplate\":\"<b>%{hovertext}</b><br><br>Color_species=%{customdata[9]}<br>pm1=%{x}<br>pm2=%{y}<br>tree1=%{customdata[0]}<br>tree2=%{customdata[1]}<br>tree3=%{customdata[2]}<br>tree4=%{customdata[3]}<br>full_name=%{customdata[4]}<br>short_name=%{customdata[5]}<br>full_species=%{customdata[6]}<br>short_species=%{customdata[7]}<br>evo_distance=%{customdata[8]}<br>labels=%{customdata[10]}<extra></extra>\",\"hovertext\":[\"Viridiplantae\"],\"legendgroup\":\"Viridiplantae\",\"marker\":{\"color\":\"#00cc96\",\"symbol\":\"circle\"},\"mode\":\"markers\",\"name\":\"Viridiplantae\",\"orientation\":\"v\",\"showlegend\":true,\"x\":[0.44763255],\"xaxis\":\"x\",\"y\":[-0.54279125],\"yaxis\":\"y\",\"type\":\"scatter\",\"textposition\":\"top right\"}],                        {\"template\":{\"data\":{\"histogram2dcontour\":[{\"type\":\"histogram2dcontour\",\"colorbar\":{\"outlinewidth\":0,\"ticks\":\"\"},\"colorscale\":[[0.0,\"#0d0887\"],[0.1111111111111111,\"#46039f\"],[0.2222222222222222,\"#7201a8\"],[0.3333333333333333,\"#9c179e\"],[0.4444444444444444,\"#bd3786\"],[0.5555555555555556,\"#d8576b\"],[0.6666666666666666,\"#ed7953\"],[0.7777777777777778,\"#fb9f3a\"],[0.8888888888888888,\"#fdca26\"],[1.0,\"#f0f921\"]]}],\"choropleth\":[{\"type\":\"choropleth\",\"colorbar\":{\"outlinewidth\":0,\"ticks\":\"\"}}],\"histogram2d\":[{\"type\":\"histogram2d\",\"colorbar\":{\"outlinewidth\":0,\"ticks\":\"\"},\"colorscale\":[[0.0,\"#0d0887\"],[0.1111111111111111,\"#46039f\"],[0.2222222222222222,\"#7201a8\"],[0.3333333333333333,\"#9c179e\"],[0.4444444444444444,\"#bd3786\"],[0.5555555555555556,\"#d8576b\"],[0.6666666666666666,\"#ed7953\"],[0.7777777777777778,\"#fb9f3a\"],[0.8888888888888888,\"#fdca26\"],[1.0,\"#f0f921\"]]}],\"heatmap\":[{\"type\":\"heatmap\",\"colorbar\":{\"outlinewidth\":0,\"ticks\":\"\"},\"colorscale\":[[0.0,\"#0d0887\"],[0.1111111111111111,\"#46039f\"],[0.2222222222222222,\"#7201a8\"],[0.3333333333333333,\"#9c179e\"],[0.4444444444444444,\"#bd3786\"],[0.5555555555555556,\"#d8576b\"],[0.6666666666666666,\"#ed7953\"],[0.7777777777777778,\"#fb9f3a\"],[0.8888888888888888,\"#fdca26\"],[1.0,\"#f0f921\"]]}],\"heatmapgl\":[{\"type\":\"heatmapgl\",\"colorbar\":{\"outlinewidth\":0,\"ticks\":\"\"},\"colorscale\":[[0.0,\"#0d0887\"],[0.1111111111111111,\"#46039f\"],[0.2222222222222222,\"#7201a8\"],[0.3333333333333333,\"#9c179e\"],[0.4444444444444444,\"#bd3786\"],[0.5555555555555556,\"#d8576b\"],[0.6666666666666666,\"#ed7953\"],[0.7777777777777778,\"#fb9f3a\"],[0.8888888888888888,\"#fdca26\"],[1.0,\"#f0f921\"]]}],\"contourcarpet\":[{\"type\":\"contourcarpet\",\"colorbar\":{\"outlinewidth\":0,\"ticks\":\"\"}}],\"contour\":[{\"type\":\"contour\",\"colorbar\":{\"outlinewidth\":0,\"ticks\":\"\"},\"colorscale\":[[0.0,\"#0d0887\"],[0.1111111111111111,\"#46039f\"],[0.2222222222222222,\"#7201a8\"],[0.3333333333333333,\"#9c179e\"],[0.4444444444444444,\"#bd3786\"],[0.5555555555555556,\"#d8576b\"],[0.6666666666666666,\"#ed7953\"],[0.7777777777777778,\"#fb9f3a\"],[0.8888888888888888,\"#fdca26\"],[1.0,\"#f0f921\"]]}],\"surface\":[{\"type\":\"surface\",\"colorbar\":{\"outlinewidth\":0,\"ticks\":\"\"},\"colorscale\":[[0.0,\"#0d0887\"],[0.1111111111111111,\"#46039f\"],[0.2222222222222222,\"#7201a8\"],[0.3333333333333333,\"#9c179e\"],[0.4444444444444444,\"#bd3786\"],[0.5555555555555556,\"#d8576b\"],[0.6666666666666666,\"#ed7953\"],[0.7777777777777778,\"#fb9f3a\"],[0.8888888888888888,\"#fdca26\"],[1.0,\"#f0f921\"]]}],\"mesh3d\":[{\"type\":\"mesh3d\",\"colorbar\":{\"outlinewidth\":0,\"ticks\":\"\"}}],\"scatter\":[{\"fillpattern\":{\"fillmode\":\"overlay\",\"size\":10,\"solidity\":0.2},\"type\":\"scatter\"}],\"parcoords\":[{\"type\":\"parcoords\",\"line\":{\"colorbar\":{\"outlinewidth\":0,\"ticks\":\"\"}}}],\"scatterpolargl\":[{\"type\":\"scatterpolargl\",\"marker\":{\"colorbar\":{\"outlinewidth\":0,\"ticks\":\"\"}}}],\"bar\":[{\"error_x\":{\"color\":\"#2a3f5f\"},\"error_y\":{\"color\":\"#2a3f5f\"},\"marker\":{\"line\":{\"color\":\"#E5ECF6\",\"width\":0.5},\"pattern\":{\"fillmode\":\"overlay\",\"size\":10,\"solidity\":0.2}},\"type\":\"bar\"}],\"scattergeo\":[{\"type\":\"scattergeo\",\"marker\":{\"colorbar\":{\"outlinewidth\":0,\"ticks\":\"\"}}}],\"scatterpolar\":[{\"type\":\"scatterpolar\",\"marker\":{\"colorbar\":{\"outlinewidth\":0,\"ticks\":\"\"}}}],\"histogram\":[{\"marker\":{\"pattern\":{\"fillmode\":\"overlay\",\"size\":10,\"solidity\":0.2}},\"type\":\"histogram\"}],\"scattergl\":[{\"type\":\"scattergl\",\"marker\":{\"colorbar\":{\"outlinewidth\":0,\"ticks\":\"\"}}}],\"scatter3d\":[{\"type\":\"scatter3d\",\"line\":{\"colorbar\":{\"outlinewidth\":0,\"ticks\":\"\"}},\"marker\":{\"colorbar\":{\"outlinewidth\":0,\"ticks\":\"\"}}}],\"scattermapbox\":[{\"type\":\"scattermapbox\",\"marker\":{\"colorbar\":{\"outlinewidth\":0,\"ticks\":\"\"}}}],\"scatterternary\":[{\"type\":\"scatterternary\",\"marker\":{\"colorbar\":{\"outlinewidth\":0,\"ticks\":\"\"}}}],\"scattercarpet\":[{\"type\":\"scattercarpet\",\"marker\":{\"colorbar\":{\"outlinewidth\":0,\"ticks\":\"\"}}}],\"carpet\":[{\"aaxis\":{\"endlinecolor\":\"#2a3f5f\",\"gridcolor\":\"white\",\"linecolor\":\"white\",\"minorgridcolor\":\"white\",\"startlinecolor\":\"#2a3f5f\"},\"baxis\":{\"endlinecolor\":\"#2a3f5f\",\"gridcolor\":\"white\",\"linecolor\":\"white\",\"minorgridcolor\":\"white\",\"startlinecolor\":\"#2a3f5f\"},\"type\":\"carpet\"}],\"table\":[{\"cells\":{\"fill\":{\"color\":\"#EBF0F8\"},\"line\":{\"color\":\"white\"}},\"header\":{\"fill\":{\"color\":\"#C8D4E3\"},\"line\":{\"color\":\"white\"}},\"type\":\"table\"}],\"barpolar\":[{\"marker\":{\"line\":{\"color\":\"#E5ECF6\",\"width\":0.5},\"pattern\":{\"fillmode\":\"overlay\",\"size\":10,\"solidity\":0.2}},\"type\":\"barpolar\"}],\"pie\":[{\"automargin\":true,\"type\":\"pie\"}]},\"layout\":{\"autotypenumbers\":\"strict\",\"colorway\":[\"#636efa\",\"#EF553B\",\"#00cc96\",\"#ab63fa\",\"#FFA15A\",\"#19d3f3\",\"#FF6692\",\"#B6E880\",\"#FF97FF\",\"#FECB52\"],\"font\":{\"color\":\"#2a3f5f\"},\"hovermode\":\"closest\",\"hoverlabel\":{\"align\":\"left\"},\"paper_bgcolor\":\"white\",\"plot_bgcolor\":\"#E5ECF6\",\"polar\":{\"bgcolor\":\"#E5ECF6\",\"angularaxis\":{\"gridcolor\":\"white\",\"linecolor\":\"white\",\"ticks\":\"\"},\"radialaxis\":{\"gridcolor\":\"white\",\"linecolor\":\"white\",\"ticks\":\"\"}},\"ternary\":{\"bgcolor\":\"#E5ECF6\",\"aaxis\":{\"gridcolor\":\"white\",\"linecolor\":\"white\",\"ticks\":\"\"},\"baxis\":{\"gridcolor\":\"white\",\"linecolor\":\"white\",\"ticks\":\"\"},\"caxis\":{\"gridcolor\":\"white\",\"linecolor\":\"white\",\"ticks\":\"\"}},\"coloraxis\":{\"colorbar\":{\"outlinewidth\":0,\"ticks\":\"\"}},\"colorscale\":{\"sequential\":[[0.0,\"#0d0887\"],[0.1111111111111111,\"#46039f\"],[0.2222222222222222,\"#7201a8\"],[0.3333333333333333,\"#9c179e\"],[0.4444444444444444,\"#bd3786\"],[0.5555555555555556,\"#d8576b\"],[0.6666666666666666,\"#ed7953\"],[0.7777777777777778,\"#fb9f3a\"],[0.8888888888888888,\"#fdca26\"],[1.0,\"#f0f921\"]],\"sequentialminus\":[[0.0,\"#0d0887\"],[0.1111111111111111,\"#46039f\"],[0.2222222222222222,\"#7201a8\"],[0.3333333333333333,\"#9c179e\"],[0.4444444444444444,\"#bd3786\"],[0.5555555555555556,\"#d8576b\"],[0.6666666666666666,\"#ed7953\"],[0.7777777777777778,\"#fb9f3a\"],[0.8888888888888888,\"#fdca26\"],[1.0,\"#f0f921\"]],\"diverging\":[[0,\"#8e0152\"],[0.1,\"#c51b7d\"],[0.2,\"#de77ae\"],[0.3,\"#f1b6da\"],[0.4,\"#fde0ef\"],[0.5,\"#f7f7f7\"],[0.6,\"#e6f5d0\"],[0.7,\"#b8e186\"],[0.8,\"#7fbc41\"],[0.9,\"#4d9221\"],[1,\"#276419\"]]},\"xaxis\":{\"gridcolor\":\"white\",\"linecolor\":\"white\",\"ticks\":\"\",\"title\":{\"standoff\":15},\"zerolinecolor\":\"white\",\"automargin\":true,\"zerolinewidth\":2},\"yaxis\":{\"gridcolor\":\"white\",\"linecolor\":\"white\",\"ticks\":\"\",\"title\":{\"standoff\":15},\"zerolinecolor\":\"white\",\"automargin\":true,\"zerolinewidth\":2},\"scene\":{\"xaxis\":{\"backgroundcolor\":\"#E5ECF6\",\"gridcolor\":\"white\",\"linecolor\":\"white\",\"showbackground\":true,\"ticks\":\"\",\"zerolinecolor\":\"white\",\"gridwidth\":2},\"yaxis\":{\"backgroundcolor\":\"#E5ECF6\",\"gridcolor\":\"white\",\"linecolor\":\"white\",\"showbackground\":true,\"ticks\":\"\",\"zerolinecolor\":\"white\",\"gridwidth\":2},\"zaxis\":{\"backgroundcolor\":\"#E5ECF6\",\"gridcolor\":\"white\",\"linecolor\":\"white\",\"showbackground\":true,\"ticks\":\"\",\"zerolinecolor\":\"white\",\"gridwidth\":2}},\"shapedefaults\":{\"line\":{\"color\":\"#2a3f5f\"}},\"annotationdefaults\":{\"arrowcolor\":\"#2a3f5f\",\"arrowhead\":0,\"arrowwidth\":1},\"geo\":{\"bgcolor\":\"white\",\"landcolor\":\"#E5ECF6\",\"subunitcolor\":\"white\",\"showland\":true,\"showlakes\":true,\"lakecolor\":\"white\"},\"title\":{\"x\":0.05},\"mapbox\":{\"style\":\"light\"}}},\"xaxis\":{\"anchor\":\"y\",\"domain\":[0.0,1.0],\"title\":{\"text\":\"pm1\"},\"range\":[-1.1,1.1],\"constrain\":\"domain\"},\"yaxis\":{\"anchor\":\"x\",\"domain\":[0.0,1.0],\"title\":{\"text\":\"pm2\"},\"scaleanchor\":\"x\",\"scaleratio\":1},\"legend\":{\"title\":{\"text\":\"Color_species\"},\"tracegroupgap\":0},\"margin\":{\"t\":60},\"height\":800,\"shapes\":[{\"line\":{\"color\":\"black\",\"dash\":\"dot\"},\"opacity\":0.15,\"type\":\"circle\",\"x0\":-0.47058823529411764,\"x1\":0.47058823529411764,\"y0\":-0.47058823529411764,\"y1\":0.47058823529411764},{\"line\":{\"color\":\"black\",\"dash\":\"dot\"},\"opacity\":0.15,\"type\":\"circle\",\"x0\":-0.6447368421052633,\"x1\":0.6447368421052633,\"y0\":-0.6447368421052633,\"y1\":0.6447368421052633},{\"line\":{\"color\":\"black\",\"dash\":\"dot\"},\"opacity\":0.15,\"type\":\"circle\",\"x0\":-0.7705382436260623,\"x1\":0.7705382436260623,\"y0\":-0.7705382436260623,\"y1\":0.7705382436260623},{\"line\":{\"color\":\"black\",\"dash\":\"dot\"},\"opacity\":0.15,\"type\":\"circle\",\"x0\":-0.8557007125890737,\"x1\":0.8557007125890737,\"y0\":-0.8557007125890737,\"y1\":0.8557007125890737},{\"line\":{\"color\":\"black\",\"dash\":\"dot\"},\"opacity\":0.15,\"type\":\"circle\",\"x0\":-0.9108474990827933,\"x1\":0.9108474990827933,\"y0\":-0.9108474990827933,\"y1\":0.9108474990827933},{\"line\":{\"color\":\"black\",\"dash\":\"dot\"},\"opacity\":0.15,\"type\":\"circle\",\"x0\":-0.9455374041239167,\"x1\":0.9455374041239167,\"y0\":-0.9455374041239167,\"y1\":0.9455374041239167},{\"line\":{\"color\":\"Black\"},\"type\":\"circle\",\"x0\":-1,\"x1\":1,\"xref\":\"x\",\"y0\":-1,\"y1\":1,\"yref\":\"y\"},{\"fillcolor\":\"Black\",\"line\":{\"color\":\"Black\"},\"type\":\"circle\",\"x0\":-0.005,\"x1\":0.005,\"xref\":\"x\",\"y0\":-0.005,\"y1\":0.005,\"yref\":\"y\"}],\"yaxis2\":{\"matches\":\"y\",\"layer\":\"below traces\",\"overlaying\":\"y\"},\"plot_bgcolor\":\"rgba(0, 0, 0, 0)\",\"title\":{\"text\":\"\",\"x\":0.5},\"font\":{\"size\":11}},                        {\"responsive\": true}                    ).then(function(){\n",
       "                            \n",
       "var gd = document.getElementById('e0c93c93-7cf7-41c4-b3e6-38bd48f4dccb');\n",
       "var x = new MutationObserver(function (mutations, observer) {{\n",
       "        var display = window.getComputedStyle(gd).display;\n",
       "        if (!display || display === 'none') {{\n",
       "            console.log([gd, 'removed!']);\n",
       "            Plotly.purge(gd);\n",
       "            observer.disconnect();\n",
       "        }}\n",
       "}});\n",
       "\n",
       "// Listen for the removal of the full notebook cells\n",
       "var notebookContainer = gd.closest('#notebook-container');\n",
       "if (notebookContainer) {{\n",
       "    x.observe(notebookContainer, {childList: true});\n",
       "}}\n",
       "\n",
       "// Listen for the clearing of the current output cell\n",
       "var outputEl = gd.closest('.output');\n",
       "if (outputEl) {{\n",
       "    x.observe(outputEl, {childList: true});\n",
       "}}\n",
       "\n",
       "                        })                };                });            </script>        </div>"
      ]
     },
     "metadata": {},
     "output_type": "display_data"
    }
   ],
   "source": [
    "# OPTIONS =================================================\n",
    "title = \"\"\n",
    "#----------------------------------------------------------\n",
    "# Select the coloring from annotation .csv file:\n",
    "labels_name = \"Color_species\"\n",
    "# Select classes to label among the \"labels_name\" or \"second_labels_name\" column (list of labels):\n",
    "second_labels_name = \"\"\n",
    "labels_text = []\n",
    "show_text = True\n",
    "#----------------------------------------------------------\n",
    "# Use a custom color palette:\n",
    "color_palette = None #Default: None\n",
    "use_custom_palette = False\n",
    "#==========================================================\n",
    "\n",
    "\n",
    "#Check projection visualization parameters\n",
    "#Labels name\n",
    "if labels_name == \"\" and path_annotation == \"dummy_annotation.csv\":\n",
    "    labels_name = \"default\"\n",
    "elif labels_name == \"\":\n",
    "    labels_name = None\n",
    "elif labels_name not in annotation_names:\n",
    "    raise NameError(f\"labels_name {labels_name} is not in the availables annotations.\\nAvailables annotations: {annotation_names}\")\n",
    "#Second labels name\n",
    "if second_labels_name == \"\" and path_annotation == \"dummy_annotation.csv\":\n",
    "    second_labels_name = \"default\"\n",
    "elif second_labels_name == \"\":\n",
    "    second_labels_name = None\n",
    "elif second_labels_name not in annotation_names:\n",
    "    raise NameError(f'\"second_labels_name\" {second_labels_name} is not in the availables annotations.\\nAvailables annotations: {annotation_names}')\n",
    "\n",
    "if not use_custom_palette:\n",
    "    color_palette = None\n",
    "\n",
    "#Plot graph\n",
    "fig = plot_embedding_interactive(df_embedding, \n",
    "                                 labels_name = labels_name,\n",
    "                                 second_labels_name = second_labels_name, \n",
    "                                 show_text = show_text,\n",
    "                                 labels_text = labels_text,\n",
    "                                 color_palette = color_palette, \n",
    "                                 title = title, \n",
    "                                 fontsize = 11)\n",
    "fig.show()"
   ]
  },
  {
   "cell_type": "markdown",
   "metadata": {},
   "source": [
    "### Save plot to file"
   ]
  },
  {
   "cell_type": "code",
   "execution_count": null,
   "metadata": {},
   "outputs": [],
   "source": [
    "# OPTIONS =================================================\n",
    "output_name = \"fig1_cosine\"\n",
    "output_format = \"png\" #Format availables: [\"png\", \"html\", \"pdf\", \"svg\"]\n",
    "#==========================================================\n",
    "\n",
    "\n",
    "if output_format != \"html\":\n",
    "    fig.write_image(f\"{output_name}.{output_format}\", engine=\"kaleido\")\n",
    "else:\n",
    "    fig.write_html(f\"{output_name}.{output_format}\")"
   ]
  }
 ],
 "metadata": {
  "accelerator": "GPU",
  "colab": {
   "provenance": []
  },
  "gpuClass": "standard",
  "kernelspec": {
   "display_name": "Python 3 (ipykernel)",
   "language": "python",
   "name": "python3"
  },
  "language_info": {
   "codemirror_mode": {
    "name": "ipython",
    "version": 3
   },
   "file_extension": ".py",
   "mimetype": "text/x-python",
   "name": "python",
   "nbconvert_exporter": "python",
   "pygments_lexer": "ipython3",
   "version": "3.7.9"
  }
 },
 "nbformat": 4,
 "nbformat_minor": 4
}
