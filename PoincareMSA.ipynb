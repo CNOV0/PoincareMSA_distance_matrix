{
 "cells": [
  {
   "attachments": {},
   "cell_type": "markdown",
   "metadata": {
    "id": "view-in-github"
   },
   "source": [
    "[![Open In Colab](https://colab.research.google.com/assets/colab-badge.svg)](https://colab.research.google.com/github/DSIMB/PoincareMSA/blob/master/PoincareMSA_colab.ipynb)"
   ]
  },
  {
   "attachments": {},
   "cell_type": "markdown",
   "metadata": {
    "id": "W5FTaqy0xqw2"
   },
   "source": [
    "<img src=\"https://github.com/DSIMB/PoincareMSA/blob/master/.github/PoincareMSA_small_logo.png?raw=true\" height=\"100\" style=\"height:100px;margin-left: 0px;\">\n",
    "\n",
    "# Poincaré maps for visualization of large protein famillies\n",
    "\n",
    "**Authors**: Anna Klimovskaia Susmelj <a href=\"https://orcid.org/0000-0002-1057-6690\" target=\"_blank\"><img alt=\"ORCID logo\" src=\"https://info.orcid.org/wp-content/uploads/2019/11/orcid_16x16.png\"></a>, Yani Ren, Yann Vander Meersche <a href=\"https://orcid.org/0000-0002-6680-8104\" target=\"_blank\"><img alt=\"ORCID logo\" src=\"https://info.orcid.org/wp-content/uploads/2019/11/orcid_16x16.png\"></a>, Jean-Christophe Gelly <a href=\"https://orcid.org/0000-0001-5138-361X\" target=\"_blank\"><img alt=\"ORCID logo\" src=\"https://info.orcid.org/wp-content/uploads/2019/11/orcid_16x16.png\"></a> and Tatiana Galochkina <a href=\"https://orcid.org/0000-0002-3608-5208\" target=\"_blank\"><img alt=\"ORCID logo\" src=\"https://info.orcid.org/wp-content/uploads/2019/11/orcid_16x16.png\"></a>\n",
    "\n",
    "<p>\n",
    "\tPoincaréMSA is a computational tool for visualization of large protein families developed by <a href=\"https://doi.org/10.1093/bib/bbad103\" target=\"_blank\" data-bs-toggle=\"tooltip\" style=\"text-decoration:none;\" data-bs-placement=\"top\" title=\"Susmelj A.K., Ren Y., Vander Meersche Y., Gelly J.C, Galochkina T. (2023). Poincaré maps for visualization of large protein families. Briefings in bioinformatics, -. https://doi.org/10.1093/bib/bbad103\">Susmelj et al.</a> PoincaréMSA builds an interactive projection of an input protein multiple sequence alignment provided by the user or built on-the-flow from the target sequence. The underlying algorithm is based on Poincaré maps introduced by <a href=\"https://doi.org/10.1038/s41467-020-16822-4\" target=\"_blank\" data-bs-toggle=\"tooltip\" style=\"text-decoration:none;\" data-bs-placement=\"top\" title=\"Klimovskaia, A., Lopez-Paz, D., Bottou, L. et al. Poincaré maps for analyzing complex hierarchies in single-cell data. Nat Commun 11, 2966 (2020).\">Klimovskaia et al.</a>. It successfully reproduces both local proximities between protein sequences as well as global hierarchical structure of the data.\n",
    "</p>\n",
    "<p>\n",
    "\tYou can find a step-by-step explication of PoincaréMSA construction on the <a href=\"https://www.dsimb.inserm.fr/POINCARE_MSA/tutorial.html\" target=\"_blank\">Tutorial</a> page and several examples of PoincaréMSA projection for protein families on the <a href=\"https://www.dsimb.inserm.fr/POINCARE_MSA/examples.html\" target=\"_blank\">Examples</a> page. The source code is available at <a href=\"https://github.com/DSIMB/PoincareMSA\" target=\"_blank\">https://github.com/DSIMB/PoincareMSA</a>.<br>\n",
    "</p>\n",
    "<p class=\"mb-1\"><strong>Please use the following reference when citing the PoincaréMSA:</strong></p>\n",
    "<p>Susmelj A.K., Ren Y., Vander Meersche Y., Gelly J.C., &amp; Galochkina T. (2023). Poincaré maps for visualization of large protein families. <i>Briefings in bioinformatics</i>, bbad103, <a href=\"https://doi.org/10.1093/bib/bbad103\" target=\"_blank\">https://doi.org/10.1093/bib/bbad103</a></p>"
   ]
  },
  {
   "cell_type": "markdown",
   "metadata": {
    "id": "Oa7Rrq-YzfQB"
   },
   "source": [
    "# Notebook initialization"
   ]
  },
  {
   "cell_type": "code",
   "execution_count": 1,
   "metadata": {
    "cellView": "form",
    "colab": {
     "base_uri": "https://localhost:8080/"
    },
    "id": "X_SO37g-kQq7",
    "outputId": "c30184db-2ef2-4a87-fd43-db8fd3ed5379"
   },
   "outputs": [],
   "source": [
    "#Load dependencies\n",
    "import os\n",
    "import numpy as np\n",
    "import pandas as pd\n",
    "import subprocess\n",
    "import json\n",
    "import warnings\n",
    "warnings.filterwarnings('ignore')\n",
    "\n",
    "#Import visualization functions\n",
    "from scripts.visualize_projection.pplots_new import read_embeddings, plot_embedding, plot_embedding_interactive, rotate, get_colors\n",
    "from scripts.prepare_data.mmseqs2_api import run_mmseqs2\n",
    "from scripts.prepare_data.uniprot_idmapping_api import submit_id_mapping, check_id_mapping_results_ready, get_id_mapping_results_link, get_id_mapping_results_search\n",
    "from scripts.build_poincare_map.poincare_maps_rotation import *\n",
    "%matplotlib inline\n",
    "\n",
    "#Create optional variables\n",
    "path_annotation = \"\""
   ]
  },
  {
   "cell_type": "markdown",
   "metadata": {
    "id": "IPi6cky3wgC8"
   },
   "source": [
    "# Data import"
   ]
  },
  {
   "cell_type": "code",
   "execution_count": 2,
   "metadata": {
    "cellView": "form",
    "colab": {
     "base_uri": "https://localhost:8080/",
     "height": 75,
     "resources": {
      "http://localhost:8080/nbextensions/google.colab/files.js": {
       "data": "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",
       "headers": [
        [
         "content-type",
         "application/javascript"
        ]
       ],
       "ok": true,
       "status": 200,
       "status_text": "OK"
      }
     }
    },
    "id": "GcbgnooHwIGh",
    "outputId": "dc30ce27-d01c-4953-cdb7-9d5fe599ad6d"
   },
   "outputs": [
    {
     "name": "stdout",
     "output_type": "stream",
     "text": [
      "\n",
      "Number of sequences found: 252.\n",
      "\n",
      "Annotation file correctly loaded.\n",
      "11 annotations found: ['proteins_id', 'tree1', 'tree2', 'tree3', 'tree4', 'full_name', 'short_name', 'full_species', 'short_species', 'evo_distance', 'Color_species'].\n"
     ]
    }
   ],
   "source": [
    "# OPTIONS =================================================\n",
    "#MSA in mfasta format\n",
    "mfasta = \"examples/globins/glob.mfasta\"\n",
    "\n",
    "#Annotation file (.csv) or UniProt ID list. (Emtpy strings for no annotations)\n",
    "path_annotation = \"examples/globins/globin_colors_new.csv\" #Optional (Default: \"\")\n",
    "# OR\n",
    "path_uniprot_list = \"\"   # Path or \"\"\n",
    "#==========================================================\n",
    "\n",
    "\n",
    "#Check files\n",
    "#mfasta\n",
    "nb_seq = 0\n",
    "if os.path.isfile(mfasta):\n",
    "    with open(mfasta, \"r\") as f_in:\n",
    "        for line in f_in:\n",
    "            if line[0] == \">\":\n",
    "                nb_seq += 1\n",
    "    print(f\"\\nNumber of sequences found: {nb_seq}.\")\n",
    "else:\n",
    "    print(f\"File {mfasta} not found.\")\n",
    "\n",
    "\n",
    "#Check that only one path is selected\n",
    "if path_annotation_csv and path_uniprot_list:\n",
    "    raise ValueError(\"Use only one file path (path_annotation_csv OR path_uniprot_list).\")\n",
    "\n",
    "if path_annotation_csv:\n",
    "    if os.path.isfile(path_annotation_csv):\n",
    "        try:\n",
    "            df_annotation = pd.read_csv(path_annotation_csv)\n",
    "        except:\n",
    "            raise ValueError(\"Annotation file is not in .csv format.\")\n",
    "        else:\n",
    "            if len(df_annotation) != nb_seq:\n",
    "                raise ValueError(\"Annotation file doesn't match the .mfasta file length.\")\n",
    "\n",
    "        print(\"\\nAnnotation file correctly loaded.\")\n",
    "        annotation_names = [\"proteins_id\"] + list(df_annotation.loc[:, df_annotation.columns != 'proteins_id'].columns)\n",
    "        print(f\"{len(annotation_names)} annotations found: {annotation_names}.\")\n",
    "    else:\n",
    "        print(f\"File {path_annotation_csv} not found.\")\n",
    "\n",
    "elif path_uniprot_list:\n",
    "    if os.path.isfile(path_uniprot_list):\n",
    "        try:\n",
    "            UnP_ids = np.genfromtxt(path_uniprot_list, dtype=\"str\")\n",
    "        except:\n",
    "            raise ValueError(\"UniProt IDs file is not in a valid format.\")\n",
    "        else:\n",
    "            if len(UnP_ids) != nb_seq:\n",
    "                raise ValueError(\"UniProt IDs file doesn't match the .mfasta file length.\")     \n",
    "\n",
    "            #Split UniProtKB and UniParc IDs\n",
    "            uniparc_ids = []\n",
    "            uniprot_ids = []\n",
    "            for unp in UnP_ids:\n",
    "                if len(unp) == 13 and unp[:2] == \"UP\":\n",
    "                    uniparc_ids.append(unp)\n",
    "                else:\n",
    "                    uniprot_ids.append(unp)\n",
    "\n",
    "            #Fetch UniProtKB annotations\n",
    "            job_id = submit_id_mapping(\n",
    "                from_db=\"UniProtKB_AC-ID\", to_db=\"UniParc\", ids=uniprot_ids\n",
    "            )\n",
    "\n",
    "            if check_id_mapping_results_ready(job_id):\n",
    "                link = get_id_mapping_results_link(job_id)\n",
    "                results = get_id_mapping_results_search(link)\n",
    "\n",
    "            #Fetch UniParc annotations\n",
    "            job_id = submit_id_mapping(\n",
    "                from_db=\"UniParc\", to_db=\"UniParc\", ids=uniparc_ids\n",
    "            )\n",
    "\n",
    "            if check_id_mapping_results_ready(job_id):\n",
    "                link = get_id_mapping_results_link(job_id)\n",
    "                results2 = get_id_mapping_results_search(link)\n",
    "\n",
    "            #Create annotation dataframe\n",
    "            df_annotation = pd.DataFrame(UnP_ids, columns=[\"UnP_ID\"])\n",
    "            df_annotation[[\"organism\", \"proteinName\", \"taxonId\", \"species\", \"genus\", \\\n",
    "                           \"family\", \"order\", \"class\", \"phylum\", \"clade\", \"superkingdom\"]] = \"\"\n",
    "\n",
    "            #Fill the annotation DataFrame\n",
    "            for dict_res in results[\"results\"] + results2[\"results\"]:\n",
    "                try:\n",
    "                    unp = dict_res[\"from\"]\n",
    "                    prot_name = dict_res[\"to\"][\"uniParcCrossReferences\"][0][\"proteinName\"]\n",
    "                    df_annotation.loc[df_annotation[\"UnP_ID\"] == unp, \"proteinName\"] = prot_name\n",
    "                    scientific_name = dict_res[\"to\"][\"uniParcCrossReferences\"][0][\"organism\"][\"scientificName\"]\n",
    "                    taxid = dict_res[\"to\"][\"uniParcCrossReferences\"][0][\"organism\"][\"taxonId\"]\n",
    "                    df_annotation.loc[df_annotation[\"UnP_ID\"] == unp, \"organism\"] = scientific_name\n",
    "                    df_annotation.loc[df_annotation[\"UnP_ID\"] == unp, \"taxonId\"] = taxid\n",
    "                except KeyError:\n",
    "                    continue\n",
    "\n",
    "            #Add lineage from NCBI Taxonomist\n",
    "            taxon_ids = df_annotation.loc[df_annotation[\"taxonId\"].notnull(), 'taxonId'].to_numpy()\n",
    "            taxon_ids = list(set(taxon_ids))\n",
    "            taxon_ids = list(map(str, taxon_ids))\n",
    "            bash_command = f\"ncbi-taxonomist resolve -t {','.join(taxon_ids)}\"\n",
    "            list_taxon = subprocess.run(bash_command, shell=True, capture_output=True, text=True).stdout.strip().split(\"\\n\")\n",
    "\n",
    "            if list_taxon != [\"\"]:\n",
    "                for taxon in list_taxon:\n",
    "                    jsonString = taxon\n",
    "                    taxon_dict = json.loads(jsonString)\n",
    "                    query = taxon_dict[\"query\"]\n",
    "                    for lineage in taxon_dict[\"lineage\"]:\n",
    "                        rank = lineage[\"rank\"]\n",
    "                        if rank in [\"species\", \"genus\", \"family\", \"order\", \"class\", \"phylum\", \"clade\", \"superkingdom\"]:\n",
    "                            name = lineage[\"name\"]\n",
    "                            df_annotation.loc[df_annotation[\"taxonId\"] == int(query), rank] = name\n",
    "\n",
    "            #Save annotation to csv\n",
    "            path_annotation = \"auto_annot.csv\"\n",
    "            df_annotation.to_csv(path_annotation, index=False)\n",
    "\n",
    "            print(\"\\nAnnotation correctly fetched.\")\n",
    "            annotation_names = [\"proteins_id\"] + list(df_annotation.loc[:, df_annotation.columns != 'proteins_id'].columns)\n",
    "            print(f\"{len(annotation_names)} annotations found: {annotation_names}.\")\n",
    "    else:\n",
    "        print(f\"File {path_uniprot_list} not found.\")\n",
    "else:\n",
    "    print(\"No annotation file selected.\")\n",
    "    path_annotation = \"\""
   ]
  },
  {
   "cell_type": "markdown",
   "metadata": {
    "id": "_H2vnIt_3kUz"
   },
   "source": [
    "# Data preparation\n",
    "Here we clean the input .mfasta alignment and translate each sequence to a vector ready for projection."
   ]
  },
  {
   "cell_type": "markdown",
   "metadata": {},
   "source": [
    "### Parameters for data preparation"
   ]
  },
  {
   "cell_type": "code",
   "execution_count": 33,
   "metadata": {
    "cellView": "form",
    "id": "9hLq_MgX6hFC"
   },
   "outputs": [],
   "source": [
    "# OPTIONS =================================================\n",
    "# Job name\n",
    "#Name for the output folder\n",
    "out_name = \"poincareMSA\"\n",
    "#----------------------------------------------------------\n",
    "# Threshold for filtering gapped positions\n",
    "#Positions with proportion of gaps above the given threshold are removed from the alignment.\n",
    "#If your alignment is very gapped, you may want to increase this value.\n",
    "gapth = 0.9 \n",
    "#==========================================================\n",
    "\n",
    "\n",
    "# Run data preparation\n",
    "#Data preparation consists in `.mfasta` cleaning according to a gap threshold and\n",
    "#translation of each sequence to the PSSM profile.\n",
    "prep_parameters = \"scripts/prepare_data\" + \" \" + mfasta + \" \" + out_name + \" \" + out_name + \" \" + str(gapth)\n",
    "bash_projection = \"bash scripts/prepare_data/create_projection.sh \" + prep_parameters\n",
    "!{bash_projection}"
   ]
  },
  {
   "cell_type": "markdown",
   "metadata": {
    "id": "Dv0lg4Jn-dfG"
   },
   "source": [
    "# Projection"
   ]
  },
  {
   "cell_type": "markdown",
   "metadata": {},
   "source": [
    "### Projection parameters"
   ]
  },
  {
   "cell_type": "code",
   "execution_count": null,
   "metadata": {},
   "outputs": [],
   "source": [
    "# OPTIONS =================================================\n",
    "#Here you control different parameters of Poincaré maps.\n",
    "#In our computational experiments the best results were achieved for the following values provided by default.\n",
    "#The impact of different parameters is analyzed in the original paper [1].\n",
    "knn = 5\n",
    "gamma = 2\n",
    "sigma = 1\n",
    "cospca = 0\n",
    "batchs = 4\n",
    "epochs = 1000\n",
    "seed = 0\n",
    "mode = 'precomputed'  # 'features' or 'precomputed'\n",
    "distfile = 'output_phyl.csv'  # name of the distance file\n",
    "#==========================================================\n",
    "\n",
    "\n",
    "# Building projection and preparing data for visualization\n",
    "#This step creates a projection of encoded sequences to a Poincaré disk.\n",
    "bash_pm = \"python3 \"+ \"scripts/build_poincare_map/main.py --input_path \" + out_name + \"/fasta\" + str(gapth) + \" --output_path \" + out_name + \"/projections/ --gamma \"+ str(gamma) +\" --pca \"+ str(cospca) + \" --epochs \"+ str(epochs) +\" --seed \"+ str(seed) + \" --knn \" + str(knn)\n",
    "!{bash_pm}"
   ]
  },
  {
   "cell_type": "markdown",
   "metadata": {
    "id": "gRxHHfjX7CHF"
   },
   "source": [
    "# Projection visualization"
   ]
  },
  {
   "cell_type": "markdown",
   "metadata": {},
   "source": [
    "### Prepare data for visualization"
   ]
  },
  {
   "cell_type": "code",
   "execution_count": 34,
   "metadata": {
    "cellView": "form",
    "colab": {
     "base_uri": "https://localhost:8080/"
    },
    "id": "A2I17cpYXGoB",
    "outputId": "a1b01a51-2182-4f97-a653-eedc42405a80"
   },
   "outputs": [
    {
     "name": "stdout",
     "output_type": "stream",
     "text": [
      "1. Data preparation\n",
      "Input file: examples/globins/glob.mfasta\n",
      "Name of the protein family: glob\n",
      "80 X aa replaced by gaps in 252 sequences\n",
      "filter_gaps finished for examples/globins/glob.mfasta\n",
      "mfasta2fasta finished for poincareMSA/poincareMSA.clean0.9.mfasta\n",
      "80 X aa replaced by gaps in 252 sequences\n",
      "\n",
      "2. Data projection using Poincaré disk\n",
      "CUDA: False\n",
      "Random seed set as 0\n",
      "252 proteins found in folder poincareMSA/fasta0.9.\n",
      "No root detected\n",
      "Prepare data: tensor construction\n",
      "Prepare data: successfully terminated\n",
      "                   1         2         3  ...       250       251       252\n",
      "Unnamed: 0                                ...                              \n",
      "1           0.000000  0.020364  0.022568  ...  0.024387  0.028972  0.031496\n",
      "2           0.020364  0.000000  0.010615  ...  0.020217  0.024803  0.027327\n",
      "3           0.022568  0.010615  0.000000  ...  0.022421  0.027007  0.029530\n",
      "4           0.024713  0.012760  0.011632  ...  0.024566  0.029152  0.031675\n",
      "5           0.023570  0.011618  0.010489  ...  0.023423  0.028009  0.030533\n",
      "...              ...       ...       ...  ...       ...       ...       ...\n",
      "248         0.026797  0.022628  0.024831  ...  0.004719  0.007447  0.030327\n",
      "249         0.026272  0.022102  0.024306  ...  0.006093  0.010679  0.029802\n",
      "250         0.024387  0.020217  0.022421  ...  0.000000  0.006895  0.027917\n",
      "251         0.028972  0.024803  0.027007  ...  0.006895  0.000000  0.032503\n",
      "252         0.031496  0.027327  0.029530  ...  0.027917  0.032503  0.000000\n",
      "\n",
      "[252 rows x 252 columns]\n",
      "252\n",
      "Computing laplacian...\n",
      "Laplacian computed in 0.38 sec\n",
      "Computing RFA...\n",
      "RFA computed in 0.00 sec\n",
      "Starting training...\n",
      "loss: 0.15789:  54%|█████████████▍           | 535/1000 [00:29<00:25, 18.35it/s]\n",
      "Stopped at epoch 536\n",
      "loss: 0.15789:  54%|█████████████▍           | 536/1000 [00:29<00:25, 18.22it/s]\n",
      "PM computed in 29.43 sec\n",
      "\n",
      "loss = 1.579e-01\n",
      "time = 0.492 min\n",
      "\n",
      "3. Format data for visualization\n",
      "done\n"
     ]
    }
   ],
   "source": [
    "# 1. Data preparation\n",
    "# Data preparation consists in `.mfasta` cleaning according to a gap threshold and translation of each sequence to the PSSM profile.\n",
    "print(\"1. Data preparation\")\n",
    "prep_parameters = \"scripts/prepare_data\" + \" \" + mfasta + \" \" + out_name + \" \" + out_name + \" \" + str(gapth)\n",
    "bash_projection = \"bash scripts/prepare_data/create_projection.sh \" + prep_parameters\n",
    "!{bash_projection}\n",
    "\n",
    "print(\"\\n2. Data projection using Poincaré disk\")\n",
    "# 2. Data projection using Poincaré disk\n",
    "#This step creates a projection of encoded sequences to a Poincaré disk.\n",
    "bash_pm = \"python3 \"+ \"scripts/build_poincare_map/main.py --input_path \" + out_name + \"/fasta\" + str(gapth) + \" --output_path \" + out_name + \"/projections/ --gamma \"+ str(gamma) +\" --pca \"+ str(cospca) + \" --epochs \"+ str(epochs) +\" --seed \"+ str(seed) + \" --knn \" + str(knn) + \" --mode \" + mode + \" --distfile \" + distfile\n",
    "!{bash_pm}\n",
    "\n",
    "print(\"\\n3. Format data for visualization\")\n",
    "# 3. Format data for visualization\n",
    "#Check that an annotation file was provided. Create a dummy one instead\n",
    "if not path_annotation:\n",
    "    df_annotation = pd.DataFrame(list(zip(list(range(1,nb_seq+1)), np.full(nb_seq, \"-\", dtype=object))), columns=[\"id\", \"default\"])\n",
    "    df_annotation.to_csv(\"dummy_annotation.csv\", index=False)\n",
    "    path_annotation = \"dummy_annotation.csv\"\n",
    "    annotation_names = [\"proteins_id\"]\n",
    "\n",
    "path_embedding = f\"{out_name}/projections/PM{knn:1.0f}sigma={sigma:2.2f}gamma={gamma:2.2f}cosinepca={cospca:1.0f}_seed{seed:1.0f}.csv\"\n",
    "df_embedding = read_embeddings(path_embedding, path_annotation, withroot=False)\n",
    "print(\"done\")",
    "\n",
    "# save original coordinate before any rotation\n",
    "df_embedding[\"pm1_com\"] = df_embedding[\"pm1\"]\n",
    "df_embedding[\"pm2_com\"] = df_embedding[\"pm2\"]\n",
    "\n",
    "#Here are different labels found in your annotation file (if one uploaded):\n",
    "print(f\"{len(annotation_names)} annotations found: {annotation_names}.\")"
   ]
  },
  {
   "cell_type": "markdown",
   "metadata": {},
   "source": [
    "### Create interactive plot"
   ]
  },
  {
   "cell_type": "code",
   "execution_count": 35,
   "metadata": {
    "cellView": "form",
    "colab": {
     "base_uri": "https://localhost:8080/",
     "height": 886
    },
    "id": "zLb9h9S4eKUD",
    "outputId": "58e8c73a-4869-4305-ecfb-bccc80d06db1"
   },
   "outputs": [
    {
     "data": {
      "application/vnd.plotly.v1+json": {
       "config": {
        "plotlyServerURL": "https://plot.ly"
       },
       "data": [
        {
         "customdata": [
          [
           5,
           3,
           3,
           2,
           "Globin C, coelomic",
           "Globin",
           "Caudina arenicola",
           "Caudina",
           2.10112824,
           "Echinodermata"
          ],
          [
           4,
           2,
           3,
           2,
           "Hemoglobin",
           "Hemoglobin",
           "Hemipholis cordifera",
           "Hemipholis",
           2.32722587,
           "Echinodermata"
          ],
          [
           4,
           2,
           3,
           2,
           "Hemoglobin",
           "Hemoglobin",
           "Ophiactis simplex",
           "Ophiactis",
           2.21961074,
           "Echinodermata"
          ],
          [
           4,
           2,
           3,
           2,
           "Hemoglobin",
           "Hemoglobin",
           "Ophiactis simplex",
           "Ophiactis",
           2.26245834,
           "Echinodermata"
          ],
          [
           -1,
           -1,
           3,
           2,
           "Extracellular globin 1",
           "Extracellular",
           "Metaphire sieboldi",
           "Metaphire",
           2.43355891,
           "Annelida"
          ]
         ],
         "hovertemplate": "<b>%{hovertext}</b><br><br>tree3=%{customdata[2]}<br>pm1=%{x}<br>pm2=%{y}<br>tree1=%{customdata[0]}<br>tree2=%{customdata[1]}<br>tree4=%{customdata[3]}<br>full_name=%{customdata[4]}<br>short_name=%{customdata[5]}<br>full_species=%{customdata[6]}<br>short_species=%{customdata[7]}<br>evo_distance=%{customdata[8]}<br>Color_species=%{customdata[9]}<extra></extra>",
         "hovertext": [
          3,
          3,
          3,
          3,
          3
         ],
         "legendgroup": "3",
         "marker": {
          "color": "#636efa",
          "symbol": "circle"
         },
         "mode": "markers",
         "name": "3",
         "orientation": "v",
         "showlegend": true,
         "textposition": "top right",
         "type": "scatter",
         "x": [
          -0.16776198,
          -0.79888517,
          -0.36860523,
          -0.81199753,
          -0.9474086
         ],
         "xaxis": "x",
         "y": [
          0.8959985,
          0.39915785,
          0.058199197,
          0.36925575,
          0.082732126
         ],
         "yaxis": "y"
        },
        {
         "customdata": [
          [
           -1,
           28,
           18,
           10,
           "Globin (Fragment)",
           "Globin",
           "Stegodyphus mimosarum",
           "Stegodyphus",
           1.7572795,
           "Arthropoda"
          ],
          [
           -1,
           27,
           18,
           10,
           "Uncharacterized protein",
           "Uncharacterized",
           "Strigamia maritima",
           "Strigamia",
           2.04148677,
           "Arthropoda"
          ],
          [
           37,
           27,
           18,
           10,
           "Uncharacterized protein",
           "Uncharacterized",
           "Scylla olivacea",
           "Scylla",
           2.31816861,
           "Arthropoda"
          ],
          [
           37,
           27,
           18,
           10,
           "Uncharacterized protein",
           "Uncharacterized",
           "Scylla olivacea",
           "Scylla",
           2.17077532,
           "Arthropoda"
          ],
          [
           37,
           27,
           18,
           10,
           "Hemoglobin",
           "Hemoglobin",
           "Carcinus maenas",
           "Carcinus",
           2.1764956200000003,
           "Arthropoda"
          ],
          [
           -1,
           29,
           18,
           10,
           "Globin, putative",
           "Globin,",
           "Ixodes scapularis",
           "Ixodes",
           2.30448645,
           "Arthropoda"
          ],
          [
           40,
           28,
           18,
           10,
           "Globin",
           "Globin",
           "Zootermopsis nevadensis",
           "Zootermopsis",
           1.87201142,
           "Arthropoda"
          ],
          [
           45,
           33,
           18,
           10,
           "Uncharacterized protein",
           "Uncharacterized",
           "Arion vulgaris",
           "Arion",
           1.97427266,
           "Mollusca"
          ],
          [
           45,
           33,
           18,
           10,
           "Uncharacterized protein",
           "Uncharacterized",
           "Arion vulgaris",
           "Arion",
           2.08013658,
           "Mollusca"
          ],
          [
           40,
           28,
           18,
           10,
           "Globin like protein (Fragment)",
           "Globin",
           "Coptotermes formosanus",
           "Coptotermes",
           1.7741922,
           "Arthropoda"
          ],
          [
           -1,
           28,
           18,
           10,
           "Uncharacterized protein",
           "Uncharacterized",
           "Oryctes borbonicus",
           "Oryctes",
           2.08382808,
           "Arthropoda"
          ],
          [
           -1,
           27,
           18,
           10,
           "Uncharacterized protein",
           "Uncharacterized",
           "Tetranychus urticae",
           "Tetranychus",
           2.47172868,
           "Arthropoda"
          ],
          [
           39,
           28,
           18,
           10,
           "Globin 1",
           "Globin",
           "Apis mellifera",
           "Apis",
           2.242503,
           "Arthropoda"
          ],
          [
           39,
           28,
           18,
           10,
           "Putative uncharacterized protein (Fragment)",
           "Putative",
           "Solenopsis invicta",
           "Solenopsis",
           2.64407828,
           "Arthropoda"
          ],
          [
           38,
           28,
           18,
           10,
           "Globin",
           "Globin",
           "Habropoda laboriosa",
           "Habropoda",
           2.60605258,
           "Arthropoda"
          ],
          [
           38,
           28,
           18,
           10,
           "Cygb2_0 protein",
           "Cygb2_0",
           "Fopius arisanus",
           "Fopius",
           2.25335988,
           "Arthropoda"
          ],
          [
           39,
           28,
           18,
           10,
           "Cytoglobin 2",
           "Cytoglobin",
           "Cerapachys biroi",
           "Cerapachys",
           2.52009681,
           "Arthropoda"
          ],
          [
           39,
           28,
           18,
           10,
           "Globin",
           "Globin",
           "Camponotus floridanus",
           "Camponotus",
           2.60584071,
           "Arthropoda"
          ],
          [
           38,
           28,
           18,
           10,
           "Uncharacterized protein",
           "Uncharacterized",
           "Nasonia vitripennis",
           "Nasonia",
           2.25387252,
           "Arthropoda"
          ],
          [
           39,
           28,
           18,
           10,
           "Cytoglobin",
           "Cytoglobin",
           "Acromyrmex echinatior",
           "Acromyrmex",
           2.64639149,
           "Arthropoda"
          ],
          [
           -1,
           28,
           18,
           10,
           "Globin like Protein",
           "Globin",
           "Tribolium castaneum",
           "Tribolium",
           2.42579023,
           "Arthropoda"
          ],
          [
           -1,
           34,
           18,
           10,
           "Uncharacterized protein",
           "Uncharacterized",
           "Capitella teleta",
           "Capitella",
           2.02076984,
           "Annelida"
          ],
          [
           -1,
           34,
           18,
           10,
           "Cytoglobin 1 like protein",
           "Cytoglobin",
           "Sarcoptes scabiei",
           "Sarcoptes",
           2.036886,
           "Arthropoda"
          ],
          [
           -1,
           29,
           18,
           10,
           "Uncharacterized protein (Fragment)",
           "Uncharacterized",
           "Ixodes ricinus",
           "Ixodes",
           1.7778336,
           "Arthropoda"
          ],
          [
           37,
           27,
           18,
           10,
           "Cytoglobin 2 isoform CYGBi2",
           "Cytoglobin",
           "Cherax destructor",
           "Cherax",
           2.23555225,
           "Arthropoda"
          ],
          [
           36,
           26,
           18,
           10,
           "Putative uncharacterized protein",
           "Putative",
           "Daphnia pulex",
           "Daphnia",
           2.15851408,
           "Arthropoda"
          ],
          [
           -1,
           -1,
           18,
           10,
           "Globin",
           "Globin",
           "Crassostrea gigas",
           "Crassostrea",
           2.20001602,
           "Mollusca"
          ],
          [
           -1,
           29,
           18,
           10,
           "Beta chain of the tetrameric hemoglobin, putative",
           "Hemoglobin",
           "Ixodes scapularis",
           "Ixodes",
           2.34867746,
           "Arthropoda"
          ],
          [
           39,
           28,
           18,
           10,
           "Globin",
           "Globin",
           "Harpegnathos saltator",
           "Harpegnathos",
           2.62513263,
           "Arthropoda"
          ],
          [
           40,
           28,
           18,
           10,
           "Globin",
           "Globin",
           "Zootermopsis nevadensis",
           "Zootermopsis",
           1.7189102399999998,
           "Arthropoda"
          ],
          [
           -1,
           -1,
           18,
           10,
           "Globin",
           "Globin",
           "Daphnia magna",
           "Daphnia",
           2.39585067,
           "Arthropoda"
          ],
          [
           36,
           26,
           18,
           10,
           "Cytoglobin 2",
           "Cytoglobin",
           "Daphnia magna",
           "Daphnia",
           2.23126274,
           "Arthropoda"
          ],
          [
           -1,
           -1,
           18,
           10,
           "Globin like protein 1",
           "Globin",
           "Sarcoptes scabiei",
           "Sarcoptes",
           2.11760394,
           "Arthropoda"
          ]
         ],
         "hovertemplate": "<b>%{hovertext}</b><br><br>tree3=%{customdata[2]}<br>pm1=%{x}<br>pm2=%{y}<br>tree1=%{customdata[0]}<br>tree2=%{customdata[1]}<br>tree4=%{customdata[3]}<br>full_name=%{customdata[4]}<br>short_name=%{customdata[5]}<br>full_species=%{customdata[6]}<br>short_species=%{customdata[7]}<br>evo_distance=%{customdata[8]}<br>Color_species=%{customdata[9]}<extra></extra>",
         "hovertext": [
          18,
          18,
          18,
          18,
          18,
          18,
          18,
          18,
          18,
          18,
          18,
          18,
          18,
          18,
          18,
          18,
          18,
          18,
          18,
          18,
          18,
          18,
          18,
          18,
          18,
          18,
          18,
          18,
          18,
          18,
          18,
          18,
          18
         ],
         "legendgroup": "18",
         "marker": {
          "color": "#EF553B",
          "symbol": "circle"
         },
         "mode": "markers",
         "name": "18",
         "orientation": "v",
         "showlegend": true,
         "textposition": "top right",
         "type": "scatter",
         "x": [
          -0.61477107,
          0.8269835,
          -0.1479126,
          -0.08137412,
          -0.10836925,
          0.82190615,
          -0.68592,
          -0.5324981,
          -0.7172148,
          -0.7409935,
          -0.82073647,
          -0.74353546,
          -0.31271985,
          -0.132828,
          -0.90367854,
          0.89154357,
          0.88485235,
          0.83206093,
          0.89282745,
          0.8126395,
          0.8956687,
          0.81721985,
          0.895497,
          -0.12389882,
          -0.107711464,
          -0.80214566,
          -0.8099774,
          -0.32954574,
          0.6388314,
          0.62526006,
          -0.17986079,
          -0.31472042,
          -0.30990392
         ],
         "xaxis": "x",
         "y": [
          -0.71026945,
          -0.41644144,
          0.91336447,
          -0.9209199,
          0.92987734,
          -0.4241458,
          0.15248474,
          -0.41124216,
          0.13099013,
          0.015420638,
          0.3714342,
          0.14191489,
          -0.53423244,
          0.9050765,
          0.09367161,
          -0.38177955,
          -0.37567386,
          -0.39855552,
          -0.37428722,
          -0.411639,
          -0.36881036,
          -0.40576878,
          -0.38009953,
          0.915141,
          0.9180063,
          0.38163587,
          0.38381726,
          -0.74774057,
          -0.20408106,
          0.3055679,
          0.8874741,
          -0.53028256,
          -0.53170174
         ],
         "yaxis": "y"
        },
        {
         "customdata": [
          [
           -1,
           40,
           22,
           11,
           "ACYPI007228 protein",
           "ACYPI007228",
           "Acyrthosiphon pisum",
           "Acyrthosiphon",
           0.44459959,
           "Arthropoda"
          ],
          [
           10,
           38,
           22,
           9,
           "Hemoglobin T1 polymer",
           "Hemoglobin",
           "Artemia salina",
           "Artemia",
           1.84725956,
           "Arthropoda"
          ],
          [
           10,
           38,
           22,
           9,
           "Hemoglobin P polymer",
           "Hemoglobin",
           "Parartemia zietziana",
           "Parartemia",
           1.91905851,
           "Arthropoda"
          ],
          [
           11,
           38,
           22,
           9,
           "Hemoglobin T1 polymer",
           "Hemoglobin",
           "Artemia salina",
           "Artemia",
           1.78050468,
           "Arthropoda"
          ],
          [
           11,
           38,
           22,
           9,
           "Hemoglobin P polymer",
           "Hemoglobin",
           "Parartemia zietziana",
           "Parartemia",
           1.73983856,
           "Arthropoda"
          ],
          [
           11,
           38,
           22,
           9,
           "Hemoglobin C1 polymer",
           "Hemoglobin",
           "Artemia salina",
           "Artemia",
           1.70252921,
           "Arthropoda"
          ],
          [
           -1,
           38,
           22,
           9,
           "Hemoglobin P polymer",
           "Hemoglobin",
           "Parartemia zietziana",
           "Parartemia",
           2.0891213,
           "Arthropoda"
          ],
          [
           -1,
           40,
           22,
           11,
           "Uncharacterized protein",
           "Uncharacterized",
           "Acyrthosiphon pisum",
           "Acyrthosiphon",
           0.90085961,
           "Arthropoda"
          ]
         ],
         "hovertemplate": "<b>%{hovertext}</b><br><br>tree3=%{customdata[2]}<br>pm1=%{x}<br>pm2=%{y}<br>tree1=%{customdata[0]}<br>tree2=%{customdata[1]}<br>tree4=%{customdata[3]}<br>full_name=%{customdata[4]}<br>short_name=%{customdata[5]}<br>full_species=%{customdata[6]}<br>short_species=%{customdata[7]}<br>evo_distance=%{customdata[8]}<br>Color_species=%{customdata[9]}<extra></extra>",
         "hovertext": [
          22,
          22,
          22,
          22,
          22,
          22,
          22,
          22
         ],
         "legendgroup": "22",
         "marker": {
          "color": "#00cc96",
          "symbol": "circle"
         },
         "mode": "markers",
         "name": "22",
         "orientation": "v",
         "showlegend": true,
         "textposition": "top right",
         "type": "scatter",
         "x": [
          -0.35415676,
          0.73202544,
          0.739537,
          0.7257321,
          0.7332294,
          0.74269634,
          0.58464414,
          0.57717353
         ],
         "xaxis": "x",
         "y": [
          -0.7998059,
          0.54670674,
          0.553351,
          0.5522269,
          0.55974424,
          0.5420733,
          -0.7053872,
          -0.71424574
         ],
         "yaxis": "y"
        },
        {
         "customdata": [
          [
           13,
           17,
           5,
           7,
           "Uncharacterized protein",
           "Uncharacterized",
           "Capitella teleta",
           "Capitella",
           2.1436955,
           "Annelida"
          ],
          [
           13,
           17,
           5,
           7,
           "Uncharacterized protein",
           "Uncharacterized",
           "Capitella teleta",
           "Capitella",
           2.2371513499999995,
           "Annelida"
          ],
          [
           -1,
           17,
           5,
           7,
           "Uncharacterized protein (Fragment)",
           "Uncharacterized",
           "Capitella teleta",
           "Capitella",
           2.66909204,
           "Annelida"
          ],
          [
           -1,
           17,
           5,
           7,
           "Uncharacterized protein",
           "Uncharacterized",
           "Capitella teleta",
           "Capitella",
           2.42843133,
           "Annelida"
          ]
         ],
         "hovertemplate": "<b>%{hovertext}</b><br><br>tree3=%{customdata[2]}<br>pm1=%{x}<br>pm2=%{y}<br>tree1=%{customdata[0]}<br>tree2=%{customdata[1]}<br>tree4=%{customdata[3]}<br>full_name=%{customdata[4]}<br>short_name=%{customdata[5]}<br>full_species=%{customdata[6]}<br>short_species=%{customdata[7]}<br>evo_distance=%{customdata[8]}<br>Color_species=%{customdata[9]}<extra></extra>",
         "hovertext": [
          5,
          5,
          5,
          5
         ],
         "legendgroup": "5",
         "marker": {
          "color": "#ab63fa",
          "symbol": "circle"
         },
         "mode": "markers",
         "name": "5",
         "orientation": "v",
         "showlegend": true,
         "textposition": "top right",
         "type": "scatter",
         "x": [
          -0.08572771,
          0.92074573,
          0.035275247,
          0.58130866
         ],
         "xaxis": "x",
         "y": [
          -0.9043991,
          0.016814757,
          0.90835714,
          -0.63975173
         ],
         "yaxis": "y"
        },
        {
         "customdata": [
          [
           -1,
           -1,
           4,
           7,
           "Uncharacterized protein",
           "Uncharacterized",
           "Capitella teleta",
           "Capitella",
           2.50218703,
           "Annelida"
          ],
          [
           -1,
           7,
           4,
           7,
           "Cytoglobin 2",
           "Cytoglobin",
           "Crassostrea gigas",
           "Crassostrea",
           2.34885314,
           "Mollusca"
          ],
          [
           -1,
           7,
           4,
           7,
           "Uncharacterized protein",
           "Uncharacterized",
           "Lottia gigantea",
           "Lottia",
           2.43279945,
           "Mollusca"
          ],
          [
           12,
           6,
           4,
           7,
           "Protein CBR GLB 7",
           "Protein",
           "Caenorhabditis briggsae",
           "Caenorhabditis",
           3.0159007999999994,
           "Nematoda"
          ],
          [
           12,
           6,
           4,
           7,
           "Uncharacterized protein",
           "Uncharacterized",
           "Haemonchus placei",
           "Haemonchus",
           3.29015469,
           "Nematoda"
          ],
          [
           -1,
           6,
           4,
           7,
           "Cre glb 30 protein",
           "Cre",
           "Ascaris suum",
           "Ascaris",
           3.1760076299999995,
           "Nematoda"
          ],
          [
           -1,
           -1,
           4,
           7,
           "Globin like protein 26",
           "Globin",
           "Trichinella pseudospiralis",
           "Trichinella",
           3.03825431,
           "Nematoda"
          ],
          [
           -1,
           6,
           4,
           7,
           "Uncharacterized protein",
           "Uncharacterized",
           "Ancylostoma ceylanicum",
           "Ancylostoma",
           3.20708282,
           "Nematoda"
          ]
         ],
         "hovertemplate": "<b>%{hovertext}</b><br><br>tree3=%{customdata[2]}<br>pm1=%{x}<br>pm2=%{y}<br>tree1=%{customdata[0]}<br>tree2=%{customdata[1]}<br>tree4=%{customdata[3]}<br>full_name=%{customdata[4]}<br>short_name=%{customdata[5]}<br>full_species=%{customdata[6]}<br>short_species=%{customdata[7]}<br>evo_distance=%{customdata[8]}<br>Color_species=%{customdata[9]}<extra></extra>",
         "hovertext": [
          4,
          4,
          4,
          4,
          4,
          4,
          4,
          4
         ],
         "legendgroup": "4",
         "marker": {
          "color": "#FFA15A",
          "symbol": "circle"
         },
         "mode": "markers",
         "name": "4",
         "orientation": "v",
         "showlegend": true,
         "textposition": "top right",
         "type": "scatter",
         "x": [
          -0.35987514,
          -0.9456881,
          -0.18050434,
          -0.75694865,
          -0.13115907,
          -0.12898715,
          -0.89097506,
          -0.9030738
         ],
         "xaxis": "x",
         "y": [
          -0.74549305,
          0.08608307,
          0.8951629,
          0.113541,
          0.87270045,
          0.88082683,
          0.104370646,
          0.08244089
         ],
         "yaxis": "y"
        },
        {
         "customdata": [
          [
           -1,
           13,
           8,
           4,
           "Neuroglobin like",
           "Neuroglobin",
           "Scleropages formosus",
           "Scleropages",
           2.75087931,
           "Chordata"
          ],
          [
           -1,
           -1,
           8,
           4,
           "Predicted protein",
           "Predicted",
           "Nematostella vectensis",
           "Nematostella",
           2.4344002,
           "Cnidaria"
          ],
          [
           22,
           13,
           8,
           4,
           "Neuroglobin",
           "Neuroglobin",
           "Oryctolagus cuniculus",
           "Oryctolagus",
           3.722439879999999,
           "Chordata"
          ],
          [
           22,
           13,
           8,
           4,
           "Neuroglobin",
           "Neuroglobin",
           "Alligator mississippiensis",
           "Alligator",
           3.58667483,
           "Chordata"
          ],
          [
           21,
           13,
           8,
           4,
           "Neuroglobin",
           "Neuroglobin",
           "Danio rerio",
           "Danio",
           3.068778509999999,
           "Chordata"
          ],
          [
           22,
           13,
           8,
           4,
           "Uncharacterized protein",
           "Uncharacterized",
           "Anolis carolinensis",
           "Anolis",
           3.673447579999999,
           "Chordata"
          ],
          [
           22,
           13,
           8,
           4,
           "Uncharacterized protein",
           "Uncharacterized",
           "Lepisosteus oculatus",
           "Lepisosteus",
           3.147542819999999,
           "Chordata"
          ],
          [
           21,
           13,
           8,
           4,
           "Neuroglobin 1",
           "Neuroglobin",
           "Salmo salar",
           "Salmo",
           3.094649499999999,
           "Chordata"
          ],
          [
           22,
           13,
           8,
           4,
           "Neuroglobin",
           "Neuroglobin",
           "Amazona aestiva",
           "Amazona",
           3.684650899999999,
           "Chordata"
          ],
          [
           21,
           13,
           8,
           4,
           "Neuroglobin",
           "Neuroglobin",
           "Chaenocephalus aceratus",
           "Chaenocephalus",
           3.048452869999999,
           "Chordata"
          ],
          [
           22,
           13,
           8,
           4,
           "Uncharacterized protein",
           "Uncharacterized",
           "Ornithorhynchus anatinus",
           "Ornithorhynchus",
           3.630371559999999,
           "Chordata"
          ],
          [
           22,
           13,
           8,
           4,
           "Uncharacterized protein",
           "Uncharacterized",
           "Sarcophilus harrisii",
           "Sarcophilus",
           3.563486359999999,
           "Chordata"
          ],
          [
           22,
           13,
           8,
           4,
           "Uncharacterized protein",
           "Uncharacterized",
           "Anas platyrhynchos",
           "Anas",
           3.747842649999999,
           "Chordata"
          ],
          [
           22,
           13,
           8,
           4,
           "Neuroglobin",
           "Neuroglobin",
           "Gallus gallus",
           "Gallus",
           3.679641069999999,
           "Chordata"
          ],
          [
           21,
           13,
           8,
           4,
           "Neuroglobin (Fragment)",
           "Neuroglobin",
           "Fundulus heteroclitus",
           "Fundulus",
           3.1009386899999987,
           "Chordata"
          ]
         ],
         "hovertemplate": "<b>%{hovertext}</b><br><br>tree3=%{customdata[2]}<br>pm1=%{x}<br>pm2=%{y}<br>tree1=%{customdata[0]}<br>tree2=%{customdata[1]}<br>tree4=%{customdata[3]}<br>full_name=%{customdata[4]}<br>short_name=%{customdata[5]}<br>full_species=%{customdata[6]}<br>short_species=%{customdata[7]}<br>evo_distance=%{customdata[8]}<br>Color_species=%{customdata[9]}<extra></extra>",
         "hovertext": [
          8,
          8,
          8,
          8,
          8,
          8,
          8,
          8,
          8,
          8,
          8,
          8,
          8,
          8,
          8
         ],
         "legendgroup": "8",
         "marker": {
          "color": "#19d3f3",
          "symbol": "circle"
         },
         "mode": "markers",
         "name": "8",
         "orientation": "v",
         "showlegend": true,
         "textposition": "top right",
         "type": "scatter",
         "x": [
          0.6121337,
          0.9392006,
          0.73534423,
          0.7452933,
          0.7562092,
          0.768328,
          0.9167137,
          0.90872407,
          0.93420094,
          0.87703747,
          0.91863906,
          0.9029314,
          0.9436501,
          0.916097,
          -0.31180182
         ],
         "xaxis": "x",
         "y": [
          0.2628031,
          0.018951809,
          -0.34922093,
          -0.33649012,
          -0.3287709,
          -0.3197679,
          -0.0128084,
          -0.02951069,
          0.028435903,
          -0.030002605,
          -0.031026457,
          -0.019096883,
          0.031103065,
          0.004004686,
          -0.528155
         ],
         "yaxis": "y"
        },
        {
         "customdata": [
          [
           -1,
           23,
           14,
           6,
           "Globin",
           "Globin",
           "Branchiostoma floridae",
           "Branchiostoma",
           2.1325129,
           "Chordata"
          ],
          [
           34,
           23,
           14,
           6,
           "Globin",
           "Globin",
           "Branchiostoma floridae",
           "Branchiostoma",
           2.16645269,
           "Chordata"
          ],
          [
           33,
           24,
           14,
           6,
           "Uncharacterized protein",
           "Uncharacterized",
           "Ciona savignyi",
           "Ciona",
           2.80514043,
           "Chordata"
          ],
          [
           33,
           24,
           14,
           6,
           "Uncharacterized protein",
           "Uncharacterized",
           "Ciona intestinalis",
           "Ciona",
           2.81068422,
           "Chordata"
          ],
          [
           33,
           24,
           14,
           6,
           "Globin",
           "Globin",
           "Ciona intestinalis",
           "Ciona",
           2.83829804,
           "Chordata"
          ],
          [
           33,
           24,
           14,
           6,
           "Uncharacterized protein",
           "Uncharacterized",
           "Ciona savignyi",
           "Ciona",
           2.96556729,
           "Chordata"
          ],
          [
           35,
           24,
           14,
           6,
           "Uncharacterized protein",
           "Uncharacterized",
           "Ciona savignyi",
           "Ciona",
           2.65847977,
           "Chordata"
          ],
          [
           35,
           24,
           14,
           6,
           "Globin",
           "Globin",
           "Ciona intestinalis",
           "Ciona",
           2.60884268,
           "Chordata"
          ],
          [
           34,
           23,
           14,
           6,
           "Putative uncharacterized protein",
           "Putative",
           "Branchiostoma floridae",
           "Branchiostoma",
           2.37973605,
           "Chordata"
          ],
          [
           34,
           23,
           14,
           6,
           "Putative uncharacterized protein",
           "Putative",
           "Branchiostoma floridae",
           "Branchiostoma",
           2.38806056,
           "Chordata"
          ],
          [
           -1,
           -1,
           14,
           6,
           "Neuroglobin like protein",
           "Neuroglobin",
           "Saccoglossus kowalevskii",
           "Saccoglossus",
           2.35972746,
           "Hemichordata"
          ],
          [
           -1,
           24,
           14,
           6,
           "Globin",
           "Globin",
           "Ciona intestinalis",
           "Ciona",
           3.12906012,
           "Chordata"
          ]
         ],
         "hovertemplate": "<b>%{hovertext}</b><br><br>tree3=%{customdata[2]}<br>pm1=%{x}<br>pm2=%{y}<br>tree1=%{customdata[0]}<br>tree2=%{customdata[1]}<br>tree4=%{customdata[3]}<br>full_name=%{customdata[4]}<br>short_name=%{customdata[5]}<br>full_species=%{customdata[6]}<br>short_species=%{customdata[7]}<br>evo_distance=%{customdata[8]}<br>Color_species=%{customdata[9]}<extra></extra>",
         "hovertext": [
          14,
          14,
          14,
          14,
          14,
          14,
          14,
          14,
          14,
          14,
          14,
          14
         ],
         "legendgroup": "14",
         "marker": {
          "color": "#FF6692",
          "symbol": "circle"
         },
         "mode": "markers",
         "name": "14",
         "orientation": "v",
         "showlegend": true,
         "textposition": "top right",
         "type": "scatter",
         "x": [
          -0.61951786,
          -0.14489484,
          -0.7576189,
          -0.75690407,
          -0.7922651,
          -0.7436017,
          0.6242235,
          0.7040383,
          0.6494662,
          0.77029157,
          -0.60933435,
          0.59734184
         ],
         "xaxis": "x",
         "y": [
          -0.71446997,
          -0.13959527,
          0.19353095,
          0.1778391,
          0.17006442,
          0.1419383,
          0.09558195,
          -0.17839086,
          -0.13953914,
          -0.09316366,
          -0.7291455,
          -0.64330506
         ],
         "yaxis": "y"
        },
        {
         "customdata": [
          [
           -1,
           39,
           20,
           10,
           "Uncharacterized protein",
           "Uncharacterized",
           "Strongylocentrotus purpuratus",
           "Strongylocentrotus",
           1.75283422,
           "Echinodermata"
          ],
          [
           -1,
           39,
           20,
           7,
           "Putative uncharacterized protein",
           "Putative",
           "Branchiostoma floridae",
           "Branchiostoma",
           1.93258564,
           "Chordata"
          ],
          [
           -1,
           -1,
           20,
           7,
           "Putative uncharacterized protein",
           "Putative",
           "Trichoplax adhaerens",
           "Trichoplax",
           2.31619376,
           "Placozoa"
          ],
          [
           23,
           16,
           20,
           7,
           "Uncharacterized protein",
           "Uncharacterized",
           "Arion vulgaris",
           "Arion",
           2.60859124,
           "Mollusca"
          ],
          [
           -1,
           16,
           20,
           7,
           "Uncharacterized protein",
           "Uncharacterized",
           "Lottia gigantea",
           "Lottia",
           2.7304677,
           "Mollusca"
          ],
          [
           23,
           16,
           20,
           7,
           "Cytoglobin 1",
           "Cytoglobin",
           "Crassostrea gigas",
           "Crassostrea",
           2.85491961,
           "Mollusca"
          ],
          [
           23,
           16,
           20,
           7,
           "Uncharacterized protein",
           "Uncharacterized",
           "Lottia gigantea",
           "Lottia",
           2.73087099,
           "Mollusca"
          ]
         ],
         "hovertemplate": "<b>%{hovertext}</b><br><br>tree3=%{customdata[2]}<br>pm1=%{x}<br>pm2=%{y}<br>tree1=%{customdata[0]}<br>tree2=%{customdata[1]}<br>tree4=%{customdata[3]}<br>full_name=%{customdata[4]}<br>short_name=%{customdata[5]}<br>full_species=%{customdata[6]}<br>short_species=%{customdata[7]}<br>evo_distance=%{customdata[8]}<br>Color_species=%{customdata[9]}<extra></extra>",
         "hovertext": [
          20,
          20,
          20,
          20,
          20,
          20,
          20
         ],
         "legendgroup": "20",
         "marker": {
          "color": "#B6E880",
          "symbol": "circle"
         },
         "mode": "markers",
         "name": "20",
         "orientation": "v",
         "showlegend": true,
         "textposition": "top right",
         "type": "scatter",
         "x": [
          0.5941572,
          -0.11732061,
          -0.93759334,
          -0.28593463,
          -0.2808332,
          0.7100153,
          0.5890824
         ],
         "xaxis": "x",
         "y": [
          -0.71597046,
          0.9243493,
          0.08174074,
          -0.39228648,
          -0.3903715,
          -0.22713912,
          -0.6763008
         ],
         "yaxis": "y"
        },
        {
         "customdata": [
          [
           -1,
           37,
           21,
           10,
           "Uncharacterized protein",
           "Uncharacterized",
           "Lutzomyia longipalpis",
           "Lutzomyia",
           1.94649826,
           "Arthropoda"
          ],
          [
           47,
           36,
           21,
           10,
           "Putative hemoglobin like flavoprotein (Fragment)",
           "Hemoglobin",
           "Rhodnius neglectus",
           "Rhodnius",
           1.84627905,
           "Arthropoda"
          ],
          [
           47,
           36,
           21,
           10,
           "Putative hemoglobin like flavoprotein (Fragment)",
           "Hemoglobin",
           "Triatoma infestans",
           "Triatoma",
           1.9043777,
           "Arthropoda"
          ],
          [
           -1,
           37,
           21,
           10,
           "Uncharacterized protein",
           "Uncharacterized",
           "Glossina morsitans",
           "Glossina",
           2.01930981,
           "Arthropoda"
          ]
         ],
         "hovertemplate": "<b>%{hovertext}</b><br><br>tree3=%{customdata[2]}<br>pm1=%{x}<br>pm2=%{y}<br>tree1=%{customdata[0]}<br>tree2=%{customdata[1]}<br>tree4=%{customdata[3]}<br>full_name=%{customdata[4]}<br>short_name=%{customdata[5]}<br>full_species=%{customdata[6]}<br>short_species=%{customdata[7]}<br>evo_distance=%{customdata[8]}<br>Color_species=%{customdata[9]}<extra></extra>",
         "hovertext": [
          21,
          21,
          21,
          21
         ],
         "legendgroup": "21",
         "marker": {
          "color": "#FF97FF",
          "symbol": "circle"
         },
         "mode": "markers",
         "name": "21",
         "orientation": "v",
         "showlegend": true,
         "textposition": "top right",
         "type": "scatter",
         "x": [
          0.89634734,
          0.891436,
          0.8911958,
          -0.13760048
         ],
         "xaxis": "x",
         "y": [
          -0.37475008,
          -0.36948314,
          -0.37647054,
          0.8957739
         ],
         "yaxis": "y"
        },
        {
         "customdata": [
          [
           -1,
           -1,
           9,
           3,
           "Uncharacterized protein",
           "Uncharacterized",
           "Amphimedon queenslandica",
           "Amphimedon",
           2.52227159,
           "Porifera"
          ],
          [
           14,
           10,
           9,
           3,
           "Uncharacterized protein",
           "Uncharacterized",
           "Strongylocentrotus purpuratus",
           "Strongylocentrotus",
           2.65354782,
           "Echinodermata"
          ],
          [
           -1,
           -1,
           9,
           3,
           "Uncharacterized protein",
           "Uncharacterized",
           "Micromonas commoda",
           "Micromonas",
           2.70986541,
           "Viridiplantae"
          ],
          [
           14,
           10,
           9,
           3,
           "Uncharacterized protein",
           "Uncharacterized",
           "Strongylocentrotus purpuratus",
           "Strongylocentrotus",
           2.58692572,
           "Echinodermata"
          ],
          [
           -1,
           10,
           9,
           3,
           "Uncharacterized protein",
           "Uncharacterized",
           "Strongylocentrotus purpuratus",
           "Strongylocentrotus",
           2.51919106,
           "Echinodermata"
          ],
          [
           14,
           10,
           9,
           3,
           "Uncharacterized protein",
           "Uncharacterized",
           "Strongylocentrotus purpuratus",
           "Strongylocentrotus",
           2.27606469,
           "Echinodermata"
          ],
          [
           14,
           10,
           9,
           3,
           "Uncharacterized protein",
           "Uncharacterized",
           "Strongylocentrotus purpuratus",
           "Strongylocentrotus",
           2.86747135,
           "Echinodermata"
          ]
         ],
         "hovertemplate": "<b>%{hovertext}</b><br><br>tree3=%{customdata[2]}<br>pm1=%{x}<br>pm2=%{y}<br>tree1=%{customdata[0]}<br>tree2=%{customdata[1]}<br>tree4=%{customdata[3]}<br>full_name=%{customdata[4]}<br>short_name=%{customdata[5]}<br>full_species=%{customdata[6]}<br>short_species=%{customdata[7]}<br>evo_distance=%{customdata[8]}<br>Color_species=%{customdata[9]}<extra></extra>",
         "hovertext": [
          9,
          9,
          9,
          9,
          9,
          9,
          9
         ],
         "legendgroup": "9",
         "marker": {
          "color": "#FECB52",
          "symbol": "circle"
         },
         "mode": "markers",
         "name": "9",
         "orientation": "v",
         "showlegend": true,
         "textposition": "top right",
         "type": "scatter",
         "x": [
          0.039965585,
          0.938393,
          0.6194286,
          -0.5043786,
          -0.8066904,
          -0.6218993,
          -0.88826936
         ],
         "xaxis": "x",
         "y": [
          0.89778036,
          0.038159277,
          -0.6452753,
          -0.57800335,
          0.40045115,
          -0.7059858,
          0.073854804
         ],
         "yaxis": "y"
        },
        {
         "customdata": [
          [
           18,
           14,
           10,
           4,
           "Cytoglobin 2",
           "Cytoglobin",
           "Crassostrea gigas",
           "Crassostrea",
           2.89814466,
           "Mollusca"
          ],
          [
           19,
           14,
           10,
           4,
           "Uncharacterized protein (Fragment)",
           "Uncharacterized",
           "Lottia gigantea",
           "Lottia",
           2.350108079999999,
           "Mollusca"
          ],
          [
           19,
           14,
           10,
           4,
           "Uncharacterized protein (Fragment)",
           "Uncharacterized",
           "Lottia gigantea",
           "Lottia",
           2.4627551299999992,
           "Mollusca"
          ],
          [
           -1,
           14,
           10,
           4,
           "Uncharacterized protein (Fragment)",
           "Uncharacterized",
           "Lottia gigantea",
           "Lottia",
           3.15607834,
           "Mollusca"
          ],
          [
           -1,
           14,
           10,
           4,
           "Uncharacterized protein",
           "Uncharacterized",
           "Capitella teleta",
           "Capitella",
           3.0766556599999992,
           "Annelida"
          ],
          [
           17,
           12,
           10,
           4,
           "ACYPI001485 protein",
           "ACYPI001485",
           "Acyrthosiphon pisum",
           "Acyrthosiphon",
           2.696499399999999,
           "Arthropoda"
          ],
          [
           19,
           14,
           10,
           4,
           "Uncharacterized protein",
           "Uncharacterized",
           "Lottia gigantea",
           "Lottia",
           2.6062900199999994,
           "Mollusca"
          ],
          [
           16,
           11,
           10,
           4,
           "GbX1",
           "GbX1",
           "Callorhinchus milii",
           "Callorhinchus",
           2.948089519999999,
           "Chordata"
          ],
          [
           16,
           11,
           10,
           4,
           "GbX2",
           "GbX2",
           "Callorhinchus milii",
           "Callorhinchus",
           3.0123761099999995,
           "Chordata"
          ],
          [
           16,
           11,
           10,
           4,
           "Chromosome 10 SCAF15019, whole genome shotgun sequence",
           "Chromosome",
           "Tetraodon nigroviridis",
           "Tetraodon",
           3.1074634799999994,
           "Chordata"
          ],
          [
           16,
           11,
           10,
           4,
           "Cytoglobin 1",
           "Cytoglobin",
           "Chelonia mydas",
           "Chelonia",
           2.706756999999999,
           "Chordata"
          ],
          [
           16,
           11,
           10,
           4,
           "Uncharacterized protein",
           "Uncharacterized",
           "Poecilia formosa",
           "Poecilia",
           3.0849746199999992,
           "Chordata"
          ],
          [
           16,
           11,
           10,
           4,
           "Uncharacterized protein",
           "Uncharacterized",
           "Lepisosteus oculatus",
           "Lepisosteus",
           2.843704849999999,
           "Chordata"
          ],
          [
           16,
           11,
           10,
           4,
           "Uncharacterized protein",
           "Uncharacterized",
           "Latimeria chalumnae",
           "Latimeria",
           2.74467532,
           "Chordata"
          ],
          [
           16,
           11,
           10,
           4,
           "Xgb protein",
           "Xgb",
           "Danio rerio",
           "Danio",
           3.15932725,
           "Chordata"
          ],
          [
           16,
           11,
           10,
           4,
           "Uncharacterized protein",
           "Uncharacterized",
           "Lepisosteus oculatus",
           "Lepisosteus",
           2.98219578,
           "Chordata"
          ],
          [
           16,
           11,
           10,
           4,
           "Uncharacterized protein",
           "Uncharacterized",
           "Xenopus tropicalis",
           "Xenopus",
           3.07574532,
           "Chordata"
          ],
          [
           16,
           11,
           10,
           4,
           "Cytoglobin 2",
           "Cytoglobin",
           "Ictalurus punctatus",
           "Ictalurus",
           3.15839468,
           "Chordata"
          ],
          [
           16,
           11,
           10,
           4,
           "Uncharacterized protein",
           "Uncharacterized",
           "Oreochromis niloticus",
           "Oreochromis",
           3.245876129999999,
           "Chordata"
          ],
          [
           16,
           11,
           10,
           4,
           "Uncharacterized protein",
           "Uncharacterized",
           "Oncorhynchus mykiss",
           "Oncorhynchus",
           3.104564709999999,
           "Chordata"
          ],
          [
           16,
           11,
           10,
           4,
           "Uncharacterized protein",
           "Uncharacterized",
           "Oncorhynchus mykiss",
           "Oncorhynchus",
           3.152127119999999,
           "Chordata"
          ],
          [
           16,
           11,
           10,
           4,
           "Neuroglobin like (Fragment)",
           "Neuroglobin",
           "Scleropages formosus",
           "Scleropages",
           3.024390219999999,
           "Chordata"
          ],
          [
           17,
           12,
           10,
           4,
           "Globin D, coelomic, putative",
           "Globin",
           "Pediculus humanus",
           "Pediculus",
           2.749354739999999,
           "Arthropoda"
          ],
          [
           -1,
           14,
           10,
           4,
           "Neuroglobin",
           "Neuroglobin",
           "Daphnia magna",
           "Daphnia",
           2.620574789999999,
           "Arthropoda"
          ],
          [
           19,
           14,
           10,
           4,
           "Neuroglobin 1",
           "Neuroglobin",
           "Crassostrea gigas",
           "Crassostrea",
           2.4302546899999995,
           "Mollusca"
          ],
          [
           19,
           14,
           10,
           4,
           "Uncharacterized protein",
           "Uncharacterized",
           "Arion vulgaris",
           "Arion",
           2.53586098,
           "Mollusca"
          ],
          [
           19,
           14,
           10,
           4,
           "Uncharacterized protein",
           "Uncharacterized",
           "Octopus bimaculoides",
           "Octopus",
           2.550460389999999,
           "Mollusca"
          ],
          [
           -1,
           14,
           10,
           4,
           "Uncharacterized protein",
           "Uncharacterized",
           "Capitella teleta",
           "Capitella",
           3.0074926799999995,
           "Annelida"
          ],
          [
           18,
           14,
           10,
           4,
           "Nacrein like protein F",
           "Nacrein",
           "Crassostrea gigas",
           "Crassostrea",
           3.01650571,
           "Mollusca"
          ],
          [
           -1,
           12,
           10,
           4,
           "Uncharacterized protein",
           "Uncharacterized",
           "Lepeophtheirus salmonis",
           "Lepeophtheirus",
           3.34308881,
           "Arthropoda"
          ],
          [
           -1,
           12,
           10,
           4,
           "Neuroglobinlike [Maylandia zebra]",
           "Neuroglobin",
           "Lepeophtheirus salmonis",
           "Lepeophtheirus",
           3.308708769999999,
           "Arthropoda"
          ]
         ],
         "hovertemplate": "<b>%{hovertext}</b><br><br>tree3=%{customdata[2]}<br>pm1=%{x}<br>pm2=%{y}<br>tree1=%{customdata[0]}<br>tree2=%{customdata[1]}<br>tree4=%{customdata[3]}<br>full_name=%{customdata[4]}<br>short_name=%{customdata[5]}<br>full_species=%{customdata[6]}<br>short_species=%{customdata[7]}<br>evo_distance=%{customdata[8]}<br>Color_species=%{customdata[9]}<extra></extra>",
         "hovertext": [
          10,
          10,
          10,
          10,
          10,
          10,
          10,
          10,
          10,
          10,
          10,
          10,
          10,
          10,
          10,
          10,
          10,
          10,
          10,
          10,
          10,
          10,
          10,
          10,
          10,
          10,
          10,
          10,
          10,
          10,
          10
         ],
         "legendgroup": "10",
         "marker": {
          "color": "#636efa",
          "symbol": "circle"
         },
         "mode": "markers",
         "name": "10",
         "orientation": "v",
         "showlegend": true,
         "textposition": "top right",
         "type": "scatter",
         "x": [
          0.6500369,
          -0.49590597,
          0.7909658,
          0.16060437,
          0.4081354,
          0.72168154,
          0.61055416,
          -0.1315449,
          0.33176607,
          0.30142072,
          -0.5342931,
          -0.15158474,
          -0.5364996,
          -0.5339802,
          -0.5347052,
          -0.19948049,
          0.64363575,
          0.6735605,
          0.5277837,
          0.6798885,
          -0.7226689,
          -0.75032014,
          -0.7859799,
          -0.09645076,
          -0.055745635,
          -0.14396001,
          0.79303044,
          -0.17929602,
          0.7188375,
          0.6059283,
          -0.110601425
         ],
         "xaxis": "x",
         "y": [
          0.40024668,
          0.3758664,
          -0.15562886,
          0.61005914,
          0.23878913,
          0.5632637,
          0.36784494,
          0.9268101,
          0.747024,
          0.7723936,
          -0.4110968,
          0.9228651,
          -0.41049123,
          -0.40929535,
          -0.41264942,
          -0.109079964,
          0.3542167,
          0.29982114,
          0.29208454,
          0.34316692,
          0.023164371,
          -0.02098338,
          0.35460365,
          -0.57741106,
          -0.8915972,
          -0.56771183,
          -0.11333765,
          0.9032784,
          0.5358482,
          -0.70642424,
          0.8890422
         ],
         "yaxis": "y"
        },
        {
         "customdata": [
          [
           29,
           20,
           12,
           5,
           "Cytoglobin b",
           "Cytoglobin",
           "Xenopus laevis",
           "Xenopus",
           2.2875242,
           "Chordata"
          ],
          [
           29,
           20,
           12,
           5,
           "Uncharacterized protein",
           "Uncharacterized",
           "Oreochromis niloticus",
           "Oreochromis",
           2.19807532,
           "Chordata"
          ],
          [
           29,
           20,
           12,
           5,
           "Cytoglobin",
           "Cytoglobin",
           "Nothobranchius korthausae",
           "Nothobranchius",
           2.2776364,
           "Chordata"
          ],
          [
           28,
           20,
           12,
           5,
           "Uncharacterized protein (Fragment)",
           "Uncharacterized",
           "Gasterosteus aculeatus",
           "Gasterosteus",
           2.2892364899999995,
           "Chordata"
          ],
          [
           29,
           20,
           12,
           5,
           "Cytoglobin",
           "Cytoglobin",
           "Bos mutus",
           "Bos",
           2.42091472,
           "Chordata"
          ],
          [
           29,
           20,
           12,
           5,
           "Cytoglobin 1",
           "Cytoglobin",
           "Iguana iguana",
           "Iguana",
           2.26895595,
           "Chordata"
          ],
          [
           28,
           20,
           12,
           5,
           "Cytoglobin 1",
           "Cytoglobin",
           "Oryzias latipes",
           "Oryzias",
           2.25311924,
           "Chordata"
          ],
          [
           29,
           20,
           12,
           5,
           "Uncharacterized protein",
           "Uncharacterized",
           "Anas platyrhynchos",
           "Anas",
           2.24009126,
           "Chordata"
          ],
          [
           28,
           20,
           12,
           5,
           "Uncharacterized protein",
           "Uncharacterized",
           "Tetraodon nigroviridis",
           "Tetraodon",
           2.4499165100000004,
           "Chordata"
          ],
          [
           28,
           20,
           12,
           5,
           "Uncharacterized protein (Fragment)",
           "Uncharacterized",
           "Takifugu rubripes",
           "Takifugu",
           2.4839830600000004,
           "Chordata"
          ],
          [
           29,
           20,
           12,
           5,
           "Cytoglobin 2",
           "Cytoglobin",
           "Tetraodon nigroviridis",
           "Tetraodon",
           2.23168579,
           "Chordata"
          ],
          [
           29,
           20,
           12,
           5,
           "Uncharacterized protein",
           "Uncharacterized",
           "Tetraodon nigroviridis",
           "Tetraodon",
           2.36374552,
           "Chordata"
          ],
          [
           28,
           20,
           12,
           5,
           "Uncharacterized protein",
           "Uncharacterized",
           "Xiphophorus maculatus",
           "Xiphophorus",
           2.2426578000000004,
           "Chordata"
          ],
          [
           28,
           20,
           12,
           5,
           "Cytoglobin 1",
           "Cytoglobin",
           "Larimichthys crocea",
           "Larimichthys",
           2.27502112,
           "Chordata"
          ],
          [
           29,
           20,
           12,
           5,
           "Uncharacterized protein",
           "Uncharacterized",
           "Oncorhynchus mykiss",
           "Oncorhynchus",
           2.20579096,
           "Chordata"
          ],
          [
           28,
           20,
           12,
           5,
           "Cytoglobin 1",
           "Cytoglobin",
           "Nothobranchius pienaari",
           "Nothobranchius",
           2.2369473400000004,
           "Chordata"
          ],
          [
           29,
           20,
           12,
           5,
           "Cytoglobin",
           "Cytoglobin",
           "Alligator mississippiensis",
           "Alligator",
           2.16168743,
           "Chordata"
          ],
          [
           29,
           20,
           12,
           5,
           "Uncharacterized protein",
           "Uncharacterized",
           "Astyanax mexicanus",
           "Astyanax",
           2.05393176,
           "Chordata"
          ],
          [
           29,
           20,
           12,
           5,
           "Uncharacterized protein",
           "Uncharacterized",
           "Latimeria chalumnae",
           "Latimeria",
           2.23058219,
           "Chordata"
          ],
          [
           29,
           20,
           12,
           5,
           "Cytoglobin 2",
           "Cytoglobin",
           "Ictalurus punctatus",
           "Ictalurus",
           2.12180628,
           "Chordata"
          ],
          [
           28,
           20,
           12,
           5,
           "Cytoglobin",
           "Cytoglobin",
           "Chaenocephalus aceratus",
           "Chaenocephalus",
           2.27395144,
           "Chordata"
          ],
          [
           29,
           20,
           12,
           5,
           "Cygb2 protein",
           "Cygb2",
           "Danio rerio",
           "Danio",
           2.05149233,
           "Chordata"
          ],
          [
           28,
           20,
           12,
           5,
           "Uncharacterized protein",
           "Uncharacterized",
           "Oreochromis niloticus",
           "Oreochromis",
           2.15346116,
           "Chordata"
          ],
          [
           28,
           20,
           12,
           5,
           "Cytoglobin",
           "Cytoglobin",
           "Oncorhynchus mykiss",
           "Oncorhynchus",
           2.15784398,
           "Chordata"
          ],
          [
           31,
           20,
           12,
           5,
           "Uncharacterized protein",
           "Uncharacterized",
           "Astyanax mexicanus",
           "Astyanax",
           2.18361902,
           "Chordata"
          ],
          [
           31,
           20,
           12,
           5,
           "Cytoglobin 1",
           "Cytoglobin",
           "Cyprinus carpio",
           "Cyprinus",
           2.06025855,
           "Chordata"
          ],
          [
           29,
           20,
           12,
           5,
           "Cytoglobin",
           "Cytoglobin",
           "Callorhinchus milii",
           "Callorhinchus",
           2.39273588,
           "Chordata"
          ],
          [
           31,
           20,
           12,
           5,
           "Cytoglobin 1",
           "Cytoglobin",
           "Danio rerio",
           "Danio",
           2.16806595,
           "Chordata"
          ],
          [
           31,
           20,
           12,
           5,
           "Cytoglobin 1",
           "Cytoglobin",
           "Ictalurus punctatus",
           "Ictalurus",
           2.19052877,
           "Chordata"
          ],
          [
           -1,
           21,
           12,
           5,
           "Uncharacterized protein (Fragment)",
           "Uncharacterized",
           "Petromyzon marinus",
           "Petromyzon",
           2.23124498,
           "Chordata"
          ],
          [
           30,
           21,
           12,
           5,
           "Hemoglobin 4",
           "Hemoglobin",
           "Lethenteron camtschaticum",
           "Lethenteron",
           2.45118652,
           "Chordata"
          ],
          [
           30,
           21,
           12,
           5,
           "Uncharacterized protein",
           "Uncharacterized",
           "Petromyzon marinus",
           "Petromyzon",
           2.3065607,
           "Chordata"
          ],
          [
           30,
           21,
           12,
           5,
           "Uncharacterized protein",
           "Uncharacterized",
           "Petromyzon marinus",
           "Petromyzon",
           2.36968937,
           "Chordata"
          ],
          [
           29,
           20,
           12,
           5,
           "Cytoglobin (Fragment)",
           "Cytoglobin",
           "Fundulus heteroclitus",
           "Fundulus",
           2.23162917,
           "Chordata"
          ],
          [
           28,
           20,
           12,
           5,
           "Cytoglobin (Fragment)",
           "Cytoglobin",
           "Fundulus heteroclitus",
           "Fundulus",
           2.29198432,
           "Chordata"
          ],
          [
           29,
           20,
           12,
           5,
           "Inactive rhomboid protein 2",
           "Inactive",
           "Tupaia chinensis",
           "Tupaia",
           2.24573612,
           "Chordata"
          ]
         ],
         "hovertemplate": "<b>%{hovertext}</b><br><br>tree3=%{customdata[2]}<br>pm1=%{x}<br>pm2=%{y}<br>tree1=%{customdata[0]}<br>tree2=%{customdata[1]}<br>tree4=%{customdata[3]}<br>full_name=%{customdata[4]}<br>short_name=%{customdata[5]}<br>full_species=%{customdata[6]}<br>short_species=%{customdata[7]}<br>evo_distance=%{customdata[8]}<br>Color_species=%{customdata[9]}<extra></extra>",
         "hovertext": [
          12,
          12,
          12,
          12,
          12,
          12,
          12,
          12,
          12,
          12,
          12,
          12,
          12,
          12,
          12,
          12,
          12,
          12,
          12,
          12,
          12,
          12,
          12,
          12,
          12,
          12,
          12,
          12,
          12,
          12,
          12,
          12,
          12,
          12,
          12,
          12
         ],
         "legendgroup": "12",
         "marker": {
          "color": "#EF553B",
          "symbol": "circle"
         },
         "mode": "markers",
         "name": "12",
         "orientation": "v",
         "showlegend": true,
         "textposition": "top right",
         "type": "scatter",
         "x": [
          -0.11182461,
          -0.12484194,
          0.19751628,
          -0.14622931,
          0.5950908,
          0.010904459,
          -0.007971015,
          -0.2695383,
          -0.64704186,
          -0.6578874,
          -0.6468805,
          -0.36039096,
          -0.52564996,
          0.6588514,
          -0.7910604,
          0.64260054,
          0.13780254,
          0.6551056,
          0.59858215,
          -0.10136136,
          -0.52324814,
          -0.51746935,
          -0.52491933,
          -0.5032972,
          -0.5190584,
          0.70167416,
          -0.6906597,
          -0.7280466,
          -0.5198298,
          0.015917838,
          -0.7718939,
          -0.75409937,
          -0.35142243,
          0.70982385,
          -0.598217,
          -0.5986753
         ],
         "xaxis": "x",
         "y": [
          0.91172326,
          0.8938079,
          0.631803,
          0.9063815,
          -0.7038856,
          0.83840674,
          0.8818296,
          -0.2235702,
          0.14796443,
          0.15031342,
          0.14548343,
          -0.7797124,
          -0.6105305,
          -0.18485534,
          0.21122983,
          -0.14725423,
          0.6706289,
          0.25932726,
          0.273114,
          0.9250609,
          0.5321901,
          0.5306958,
          0.52723145,
          0.49518847,
          0.49543232,
          -0.16473268,
          0.06590054,
          0.19253223,
          0.52673095,
          0.15486674,
          0.1463905,
          -0.02024039,
          -0.7899473,
          -0.18924561,
          -0.70685166,
          -0.7276287
         ],
         "yaxis": "y"
        },
        {
         "customdata": [
          [
           -1,
           18,
           13,
           5,
           "Uncharacterized protein",
           "Uncharacterized",
           "Lepisosteus oculatus",
           "Lepisosteus",
           2.35310711,
           "Chordata"
          ],
          [
           27,
           19,
           13,
           5,
           "Hemoglobin subunit alpha",
           "Hemoglobin",
           "Cavia porcellus",
           "Cavia",
           2.68180205,
           "Chordata"
          ],
          [
           27,
           19,
           13,
           5,
           "Hemoglobin subunit alpha 2",
           "Hemoglobin",
           "Scalopus aquaticus",
           "Scalopus",
           2.59465681,
           "Chordata"
          ],
          [
           26,
           19,
           13,
           5,
           "Uncharacterized protein",
           "Uncharacterized",
           "Neotoma lepida",
           "Neotoma",
           2.63834495,
           "Chordata"
          ],
          [
           25,
           18,
           13,
           5,
           "Globin Y",
           "Globin",
           "Callorhinchus milii",
           "Callorhinchus",
           2.51505937,
           "Chordata"
          ],
          [
           25,
           18,
           13,
           5,
           "Uncharacterized protein",
           "Uncharacterized",
           "Latimeria chalumnae",
           "Latimeria",
           2.29929786,
           "Chordata"
          ],
          [
           24,
           18,
           13,
           5,
           "Uncharacterized protein",
           "Uncharacterized",
           "Xenopus tropicalis",
           "Xenopus",
           2.51423061,
           "Chordata"
          ],
          [
           24,
           18,
           13,
           5,
           "Globin Y",
           "Globin",
           "Xenopus laevis",
           "Xenopus",
           2.4560224799999992,
           "Chordata"
          ],
          [
           -1,
           18,
           13,
           5,
           "Uncharacterized protein",
           "Uncharacterized",
           "Pelodiscus sinensis",
           "Pelodiscus",
           2.69837249,
           "Chordata"
          ],
          [
           26,
           19,
           13,
           5,
           "Hemoglobin subunit rho",
           "Hemoglobin",
           "Alligator mississippiensis",
           "Alligator",
           2.98389637,
           "Chordata"
          ],
          [
           26,
           19,
           13,
           5,
           "Uncharacterized protein",
           "Uncharacterized",
           "Nomascus leucogenys",
           "Nomascus",
           2.77009221,
           "Chordata"
          ]
         ],
         "hovertemplate": "<b>%{hovertext}</b><br><br>tree3=%{customdata[2]}<br>pm1=%{x}<br>pm2=%{y}<br>tree1=%{customdata[0]}<br>tree2=%{customdata[1]}<br>tree4=%{customdata[3]}<br>full_name=%{customdata[4]}<br>short_name=%{customdata[5]}<br>full_species=%{customdata[6]}<br>short_species=%{customdata[7]}<br>evo_distance=%{customdata[8]}<br>Color_species=%{customdata[9]}<extra></extra>",
         "hovertext": [
          13,
          13,
          13,
          13,
          13,
          13,
          13,
          13,
          13,
          13,
          13
         ],
         "legendgroup": "13",
         "marker": {
          "color": "#00cc96",
          "symbol": "circle"
         },
         "mode": "markers",
         "name": "13",
         "orientation": "v",
         "showlegend": true,
         "textposition": "top right",
         "type": "scatter",
         "x": [
          -0.93756646,
          -0.14201686,
          -0.10238383,
          -0.05981608,
          -0.34036818,
          -0.079138026,
          -0.34155288,
          -0.043199625,
          -0.045396306,
          0.6073973,
          -0.9483727
         ],
         "xaxis": "x",
         "y": [
          0.09065441,
          -0.58833104,
          -0.5568131,
          -0.90167433,
          -0.7931538,
          -0.89875466,
          -0.7803862,
          -0.8934275,
          -0.9082332,
          -0.63335985,
          0.08645987
         ],
         "yaxis": "y"
        },
        {
         "customdata": [
          [
           -1,
           -1,
           6,
           3,
           "Globin",
           "Globin",
           "Gemmatirosa kalamazoonesis",
           "Gemmatirosa",
           2.9048387,
           "Bacteria"
          ],
          [
           -1,
           9,
           6,
           3,
           "Globin",
           "Globin",
           "Gemmatirosa kalamazoonesis",
           "Gemmatirosa",
           3.0073288499999995,
           "Bacteria"
          ],
          [
           -1,
           9,
           6,
           3,
           "Hemin receptor",
           "Hemin",
           "Halothiobacillus sp.",
           "Halothiobacillus",
           2.5347764,
           "Bacteria"
          ],
          [
           15,
           8,
           6,
           3,
           "ARAD1D45562p",
           "ARAD1D45562p",
           "Blastobotrys adeninivorans",
           "Blastobotrys",
           3.65177433,
           "Fungi"
          ],
          [
           15,
           8,
           6,
           3,
           "CYFA0S05e02454g1_1",
           "CYFA0S05e02454g1_1",
           "Cyberlindnera fabianii",
           "Cyberlindnera",
           4.11857393,
           "Fungi"
          ]
         ],
         "hovertemplate": "<b>%{hovertext}</b><br><br>tree3=%{customdata[2]}<br>pm1=%{x}<br>pm2=%{y}<br>tree1=%{customdata[0]}<br>tree2=%{customdata[1]}<br>tree4=%{customdata[3]}<br>full_name=%{customdata[4]}<br>short_name=%{customdata[5]}<br>full_species=%{customdata[6]}<br>short_species=%{customdata[7]}<br>evo_distance=%{customdata[8]}<br>Color_species=%{customdata[9]}<extra></extra>",
         "hovertext": [
          6,
          6,
          6,
          6,
          6
         ],
         "legendgroup": "6",
         "marker": {
          "color": "#ab63fa",
          "symbol": "circle"
         },
         "mode": "markers",
         "name": "6",
         "orientation": "v",
         "showlegend": true,
         "textposition": "top right",
         "type": "scatter",
         "x": [
          -0.7885644,
          0.0499429,
          0.7758109,
          0.025692333,
          -0.15861169
         ],
         "xaxis": "x",
         "y": [
          0.16613492,
          0.9000002,
          -0.14065236,
          0.8855403,
          0.9050896
         ],
         "yaxis": "y"
        },
        {
         "customdata": [
          [
           -1,
           15,
           7,
           4,
           "Predicted protein",
           "Predicted",
           "Nematostella vectensis",
           "Nematostella",
           3.06309082,
           "Cnidaria"
          ],
          [
           20,
           15,
           7,
           4,
           "Predicted protein",
           "Predicted",
           "Nematostella vectensis",
           "Nematostella",
           2.69558275,
           "Cnidaria"
          ],
          [
           -1,
           15,
           7,
           4,
           "Predicted protein",
           "Predicted",
           "Nematostella vectensis",
           "Nematostella",
           2.74661692,
           "Cnidaria"
          ],
          [
           20,
           15,
           7,
           4,
           "Predicted protein",
           "Predicted",
           "Nematostella vectensis",
           "Nematostella",
           2.46698831,
           "Cnidaria"
          ]
         ],
         "hovertemplate": "<b>%{hovertext}</b><br><br>tree3=%{customdata[2]}<br>pm1=%{x}<br>pm2=%{y}<br>tree1=%{customdata[0]}<br>tree2=%{customdata[1]}<br>tree4=%{customdata[3]}<br>full_name=%{customdata[4]}<br>short_name=%{customdata[5]}<br>full_species=%{customdata[6]}<br>short_species=%{customdata[7]}<br>evo_distance=%{customdata[8]}<br>Color_species=%{customdata[9]}<extra></extra>",
         "hovertext": [
          7,
          7,
          7,
          7
         ],
         "legendgroup": "7",
         "marker": {
          "color": "#FFA15A",
          "symbol": "circle"
         },
         "mode": "markers",
         "name": "7",
         "orientation": "v",
         "showlegend": true,
         "textposition": "top right",
         "type": "scatter",
         "x": [
          0.5998467,
          0.30224758,
          0.3227094,
          0.31431887
         ],
         "xaxis": "x",
         "y": [
          0.26957676,
          0.75617963,
          0.7654695,
          0.74713266
         ],
         "yaxis": "y"
        },
        {
         "customdata": [
          [
           43,
           31,
           17,
           10,
           "Globin 2 A chain",
           "Globin",
           "Anadara inaequivalvis",
           "Anadara",
           2.93935263,
           "Mollusca"
          ],
          [
           -1,
           -1,
           17,
           10,
           "Nerve hemoglobin",
           "Hemoglobin",
           "Spisula solidissima",
           "Spisula",
           2.92864342,
           "Mollusca"
          ],
          [
           -1,
           31,
           17,
           10,
           "Hemoglobin (Heterodimeric)",
           "Hemoglobin",
           "Barbatia virescens",
           "Barbatia",
           2.80988922,
           "Mollusca"
          ],
          [
           43,
           31,
           17,
           10,
           "Globin, minor",
           "Globin,",
           "Anadara trapezia",
           "Anadara",
           3.2788812000000003,
           "Mollusca"
          ],
          [
           43,
           31,
           17,
           10,
           "Globin 2 B chain",
           "Globin",
           "Anadara inaequivalvis",
           "Anadara",
           3.13812794,
           "Mollusca"
          ],
          [
           -1,
           -1,
           17,
           10,
           "Hemoglobin II",
           "Hemoglobin",
           "Phacoides pectinatus",
           "Phacoides",
           2.9455253599999995,
           "Mollusca"
          ],
          [
           44,
           30,
           17,
           10,
           "Two domain chain of the polymeric hemoglobin (Intracellular)",
           "Hemoglobin",
           "Barbatia lima",
           "Barbatia",
           2.72130571,
           "Mollusca"
          ],
          [
           44,
           30,
           17,
           10,
           "Hemoglobin (2 domain)",
           "Hemoglobin",
           "Barbatia lima",
           "Barbatia",
           2.73232709,
           "Mollusca"
          ]
         ],
         "hovertemplate": "<b>%{hovertext}</b><br><br>tree3=%{customdata[2]}<br>pm1=%{x}<br>pm2=%{y}<br>tree1=%{customdata[0]}<br>tree2=%{customdata[1]}<br>tree4=%{customdata[3]}<br>full_name=%{customdata[4]}<br>short_name=%{customdata[5]}<br>full_species=%{customdata[6]}<br>short_species=%{customdata[7]}<br>evo_distance=%{customdata[8]}<br>Color_species=%{customdata[9]}<extra></extra>",
         "hovertext": [
          17,
          17,
          17,
          17,
          17,
          17,
          17,
          17
         ],
         "legendgroup": "17",
         "marker": {
          "color": "#19d3f3",
          "symbol": "circle"
         },
         "mode": "markers",
         "name": "17",
         "orientation": "v",
         "showlegend": true,
         "textposition": "top right",
         "type": "scatter",
         "x": [
          -0.7446855,
          -0.74886465,
          -0.75616246,
          -0.7482312,
          -0.85765845,
          0.62580186,
          0.58423847,
          0.58743805
         ],
         "xaxis": "x",
         "y": [
          -0.010830863,
          -0.009368073,
          0.11290688,
          0.23794092,
          0.102216855,
          0.26553413,
          -0.60826933,
          -0.27700016
         ],
         "yaxis": "y"
        },
        {
         "customdata": [
          [
           2,
           1,
           2,
           1,
           "Globin 2",
           "Globin",
           "Chironomus riparius",
           "Chironomus",
           2.70002825,
           "Arthropoda"
          ],
          [
           1,
           1,
           2,
           1,
           "Globin",
           "Globin",
           "Polypedilum nubifer",
           "Polypedilum",
           2.36102778,
           "Arthropoda"
          ],
          [
           1,
           1,
           2,
           1,
           "Globin",
           "Globin",
           "Polypedilum vanderplanki",
           "Polypedilum",
           2.43793183,
           "Arthropoda"
          ],
          [
           3,
           1,
           2,
           1,
           "Globin",
           "Globin",
           "Polypedilum vanderplanki",
           "Polypedilum",
           2.2183017099999995,
           "Arthropoda"
          ],
          [
           2,
           1,
           2,
           1,
           "Globin",
           "Globin",
           "Polypedilum nubifer",
           "Polypedilum",
           2.47503634,
           "Arthropoda"
          ],
          [
           3,
           1,
           2,
           1,
           "Globin",
           "Globin",
           "Polypedilum nubifer",
           "Polypedilum",
           2.35802433,
           "Arthropoda"
          ],
          [
           3,
           1,
           2,
           1,
           "Globin",
           "Globin",
           "Polypedilum vanderplanki",
           "Polypedilum",
           2.28362716,
           "Arthropoda"
          ],
          [
           3,
           1,
           2,
           1,
           "Globin 11",
           "Globin",
           "Chironomus riparius",
           "Chironomus",
           2.29971074,
           "Arthropoda"
          ],
          [
           1,
           1,
           2,
           1,
           "ORF E protein",
           "ORF",
           "Chironomus tentans",
           "Chironomus",
           2.85858686,
           "Arthropoda"
          ],
          [
           1,
           1,
           2,
           1,
           "Globin",
           "Globin",
           "Polypedilum nubifer",
           "Polypedilum",
           2.56719369,
           "Arthropoda"
          ],
          [
           1,
           1,
           2,
           1,
           "Globin",
           "Globin",
           "Polypedilum nubifer",
           "Polypedilum",
           2.57670915,
           "Arthropoda"
          ],
          [
           -1,
           -1,
           2,
           1,
           "Globin",
           "Globin",
           "Nerita albicilla",
           "Nerita",
           2.08733768,
           "Mollusca"
          ]
         ],
         "hovertemplate": "<b>%{hovertext}</b><br><br>tree3=%{customdata[2]}<br>pm1=%{x}<br>pm2=%{y}<br>tree1=%{customdata[0]}<br>tree2=%{customdata[1]}<br>tree4=%{customdata[3]}<br>full_name=%{customdata[4]}<br>short_name=%{customdata[5]}<br>full_species=%{customdata[6]}<br>short_species=%{customdata[7]}<br>evo_distance=%{customdata[8]}<br>Color_species=%{customdata[9]}<extra></extra>",
         "hovertext": [
          2,
          2,
          2,
          2,
          2,
          2,
          2,
          2,
          2,
          2,
          2,
          2
         ],
         "legendgroup": "2",
         "marker": {
          "color": "#FF6692",
          "symbol": "circle"
         },
         "mode": "markers",
         "name": "2",
         "orientation": "v",
         "showlegend": true,
         "textposition": "top right",
         "type": "scatter",
         "x": [
          -0.81860435,
          -0.71593803,
          -0.7104834,
          -0.4633556,
          0.18124454,
          0.27341652,
          0.80812,
          0.78444755,
          0.19617158,
          -0.49027845,
          0.143628,
          0.32396954
         ],
         "xaxis": "x",
         "y": [
          0.11845917,
          0.16312625,
          0.22452469,
          0.356773,
          0.5253403,
          0.7051787,
          -0.42035767,
          -0.38144624,
          0.58321905,
          -0.58250105,
          0.5988968,
          0.19287734
         ],
         "yaxis": "y"
        },
        {
         "customdata": [
          [
           7,
           5,
           1,
           2,
           "Di domain hemoglobin",
           "Hemoglobin",
           "Daphnia magna",
           "Daphnia",
           2.95378198,
           "Arthropoda"
          ],
          [
           7,
           5,
           1,
           2,
           "Putative uncharacterized protein",
           "Putative",
           "Daphnia pulex",
           "Daphnia",
           2.7632934700000003,
           "Arthropoda"
          ],
          [
           7,
           5,
           1,
           2,
           "Putative uncharacterized protein",
           "Putative",
           "Daphnia pulex",
           "Daphnia",
           2.79767424,
           "Arthropoda"
          ],
          [
           9,
           4,
           1,
           2,
           "Putative di domain hemoglobin",
           "Hemoglobin",
           "Daphnia magna",
           "Daphnia",
           1.84605186,
           "Arthropoda"
          ],
          [
           9,
           4,
           1,
           2,
           "Putative di domain hemoglobin",
           "Hemoglobin",
           "Daphnia magna",
           "Daphnia",
           1.84634758,
           "Arthropoda"
          ],
          [
           9,
           4,
           1,
           2,
           "Di domain hemoglobin (Fragment)",
           "Hemoglobin",
           "Daphnia magna",
           "Daphnia",
           1.75867537,
           "Arthropoda"
          ],
          [
           9,
           4,
           1,
           2,
           "Di domain hemoglobin (Fragment)",
           "Hemoglobin",
           "Daphnia magna",
           "Daphnia",
           1.7849976899999995,
           "Arthropoda"
          ],
          [
           9,
           4,
           1,
           2,
           "Putative di domain hemoglobin",
           "Hemoglobin",
           "Daphnia magna",
           "Daphnia",
           1.99097658,
           "Arthropoda"
          ],
          [
           9,
           4,
           1,
           2,
           "Putative di domain hemoglobin (Fragment)",
           "Hemoglobin",
           "Daphnia magna",
           "Daphnia",
           1.89847506,
           "Arthropoda"
          ],
          [
           9,
           4,
           1,
           2,
           "Putative di domain hemoglobin",
           "Hemoglobin",
           "Daphnia magna",
           "Daphnia",
           2.00307168,
           "Arthropoda"
          ],
          [
           -1,
           5,
           1,
           2,
           "Di domain hemoglobin (Fragment)",
           "Hemoglobin",
           "Daphnia magna",
           "Daphnia",
           2.36856662,
           "Arthropoda"
          ],
          [
           6,
           5,
           1,
           2,
           "Di domain hemoglobin",
           "Hemoglobin",
           "Daphnia magna",
           "Daphnia",
           3.08054532,
           "Arthropoda"
          ],
          [
           9,
           4,
           1,
           2,
           "Putative uncharacterized protein",
           "Putative",
           "Daphnia pulex",
           "Daphnia",
           1.88554508,
           "Arthropoda"
          ],
          [
           9,
           4,
           1,
           2,
           "Hemoglobin",
           "Hemoglobin",
           "Daphnia magna",
           "Daphnia",
           1.82335212,
           "Arthropoda"
          ],
          [
           9,
           4,
           1,
           2,
           "Hemoglobin",
           "Hemoglobin",
           "Daphnia pulex",
           "Daphnia",
           1.85557538,
           "Arthropoda"
          ],
          [
           9,
           4,
           1,
           2,
           "Hemoglobin",
           "Hemoglobin",
           "Daphnia pulex",
           "Daphnia",
           1.88942132,
           "Arthropoda"
          ],
          [
           9,
           4,
           1,
           2,
           "Hemoglobin",
           "Hemoglobin",
           "Daphnia pulex",
           "Daphnia",
           1.91532281,
           "Arthropoda"
          ],
          [
           9,
           4,
           1,
           2,
           "Di domain hemoglobin",
           "Hemoglobin",
           "Daphnia magna",
           "Daphnia",
           1.92797924,
           "Arthropoda"
          ],
          [
           8,
           5,
           1,
           2,
           "Putative uncharacterized protein (Fragment)",
           "Putative",
           "Daphnia pulex",
           "Daphnia",
           2.34983516,
           "Arthropoda"
          ],
          [
           8,
           5,
           1,
           2,
           "Uncharacterized protein (Fragment)",
           "Uncharacterized",
           "Daphnia magna",
           "Daphnia",
           2.22413281,
           "Arthropoda"
          ],
          [
           9,
           4,
           1,
           2,
           "Putative di domain hemoglobin (Fragment)",
           "Hemoglobin",
           "Daphnia magna",
           "Daphnia",
           1.97351688,
           "Arthropoda"
          ],
          [
           9,
           4,
           1,
           2,
           "Di domain hemoglobin",
           "Hemoglobin",
           "Daphnia magna",
           "Daphnia",
           2.01628845,
           "Arthropoda"
          ],
          [
           6,
           5,
           1,
           2,
           "Di domain hemoglobin (Fragment)",
           "Hemoglobin",
           "Daphnia magna",
           "Daphnia",
           2.94537689,
           "Arthropoda"
          ],
          [
           9,
           4,
           1,
           2,
           "Di domain hemoglobin like protein",
           "Hemoglobin",
           "Daphnia magna",
           "Daphnia",
           2.34751979,
           "Arthropoda"
          ]
         ],
         "hovertemplate": "<b>%{hovertext}</b><br><br>tree3=%{customdata[2]}<br>pm1=%{x}<br>pm2=%{y}<br>tree1=%{customdata[0]}<br>tree2=%{customdata[1]}<br>tree4=%{customdata[3]}<br>full_name=%{customdata[4]}<br>short_name=%{customdata[5]}<br>full_species=%{customdata[6]}<br>short_species=%{customdata[7]}<br>evo_distance=%{customdata[8]}<br>Color_species=%{customdata[9]}<extra></extra>",
         "hovertext": [
          1,
          1,
          1,
          1,
          1,
          1,
          1,
          1,
          1,
          1,
          1,
          1,
          1,
          1,
          1,
          1,
          1,
          1,
          1,
          1,
          1,
          1,
          1,
          1
         ],
         "legendgroup": "1",
         "marker": {
          "color": "#B6E880",
          "symbol": "circle"
         },
         "mode": "markers",
         "name": "1",
         "orientation": "v",
         "showlegend": true,
         "textposition": "top right",
         "type": "scatter",
         "x": [
          -0.8164794,
          -0.7926832,
          -0.70347965,
          -0.09397491,
          -0.093094654,
          -0.35065097,
          -0.22166616,
          -0.11796993,
          -0.076021634,
          -0.39125487,
          0.6793451,
          0.89725477,
          0.93731207,
          0.93061686,
          -0.49646527,
          0.926886,
          -0.947115,
          -0.8898783,
          -0.5905347,
          -0.60905653,
          -0.87493837,
          0.020308075,
          0.6218761,
          -0.13456859
         ],
         "xaxis": "x",
         "y": [
          0.36660057,
          0.39813817,
          0.22336435,
          -0.5755911,
          -0.9126502,
          -0.7778121,
          -0.46598744,
          -0.6787792,
          -0.8779318,
          -0.46464336,
          -0.15844549,
          -6.017034e-05,
          0.0033471466,
          0.023667997,
          -0.5781207,
          0.035309553,
          0.089758664,
          0.06742971,
          -0.72543716,
          -0.7188092,
          0.08880313,
          0.8972181,
          -0.21780418,
          0.87491196
         ],
         "yaxis": "y"
        },
        {
         "customdata": [
          [
           42,
           32,
           16,
           10,
           "Globin",
           "Globin",
           "Nassarius mutabilis",
           "Nassarius",
           2.69282831,
           "Mollusca"
          ],
          [
           41,
           32,
           16,
           10,
           "Uncharacterized protein",
           "Uncharacterized",
           "Lottia gigantea",
           "Lottia",
           2.30991023,
           "Mollusca"
          ],
          [
           41,
           32,
           16,
           10,
           "Uncharacterized protein",
           "Uncharacterized",
           "Lottia gigantea",
           "Lottia",
           2.3265049,
           "Mollusca"
          ],
          [
           42,
           32,
           16,
           10,
           "Globin",
           "Globin",
           "Cerithidea rhizophorarum",
           "Cerithidea",
           2.81440342,
           "Mollusca"
          ]
         ],
         "hovertemplate": "<b>%{hovertext}</b><br><br>tree3=%{customdata[2]}<br>pm1=%{x}<br>pm2=%{y}<br>tree1=%{customdata[0]}<br>tree2=%{customdata[1]}<br>tree4=%{customdata[3]}<br>full_name=%{customdata[4]}<br>short_name=%{customdata[5]}<br>full_species=%{customdata[6]}<br>short_species=%{customdata[7]}<br>evo_distance=%{customdata[8]}<br>Color_species=%{customdata[9]}<extra></extra>",
         "hovertext": [
          16,
          16,
          16,
          16
         ],
         "legendgroup": "16",
         "marker": {
          "color": "#FF97FF",
          "symbol": "circle"
         },
         "mode": "markers",
         "name": "16",
         "orientation": "v",
         "showlegend": true,
         "textposition": "top right",
         "type": "scatter",
         "x": [
          -0.069210105,
          -0.09870892,
          -0.2893338,
          -0.27599567
         ],
         "xaxis": "x",
         "y": [
          -0.9089581,
          -0.8985471,
          -0.3889983,
          -0.3600956
         ],
         "yaxis": "y"
        },
        {
         "customdata": [
          [
           -1,
           -1,
           -1,
           8,
           "Globin (Fragment)",
           "Globin",
           "Operophtera brumata",
           "Operophtera",
           2.5920814199999995,
           "Arthropoda"
          ],
          [
           -1,
           -1,
           -1,
           3,
           "Predicted protein",
           "Predicted",
           "Nematostella vectensis",
           "Nematostella",
           3.13699746,
           "Cnidaria"
          ],
          [
           -1,
           -1,
           -1,
           2,
           "Putative di domain hemoglobin (Fragment)",
           "Hemoglobin",
           "Daphnia magna",
           "Daphnia",
           2.5254769,
           "Arthropoda"
          ]
         ],
         "hovertemplate": "<b>%{hovertext}</b><br><br>tree3=%{customdata[2]}<br>pm1=%{x}<br>pm2=%{y}<br>tree1=%{customdata[0]}<br>tree2=%{customdata[1]}<br>tree4=%{customdata[3]}<br>full_name=%{customdata[4]}<br>short_name=%{customdata[5]}<br>full_species=%{customdata[6]}<br>short_species=%{customdata[7]}<br>evo_distance=%{customdata[8]}<br>Color_species=%{customdata[9]}<extra></extra>",
         "hovertext": [
          -1,
          -1,
          -1
         ],
         "legendgroup": "-1",
         "marker": {
          "color": "#FECB52",
          "symbol": "circle"
         },
         "mode": "markers",
         "name": "-1",
         "orientation": "v",
         "showlegend": true,
         "textposition": "top right",
         "type": "scatter",
         "x": [
          -0.60345304,
          -0.695575,
          0.40150827
         ],
         "xaxis": "x",
         "y": [
          -0.71854043,
          0.06668209,
          0.23468396
         ],
         "yaxis": "y"
        },
        {
         "customdata": [
          [
           46,
           35,
           19,
           10,
           "Globin",
           "Globin",
           "Ancylostoma ceylanicum",
           "Ancylostoma",
           2.22981155,
           "Nematoda"
          ],
          [
           46,
           35,
           19,
           10,
           "Uncharacterized protein",
           "Uncharacterized",
           "Angiostrongylus costaricensis",
           "Angiostrongylus",
           2.13371016,
           "Nematoda"
          ],
          [
           46,
           35,
           19,
           10,
           "Globin",
           "Globin",
           "Necator americanus",
           "Necator",
           2.35159293,
           "Nematoda"
          ],
          [
           -1,
           -1,
           19,
           10,
           "Cytoglobin1like [Saccoglossus kowalevskii]",
           "Cytoglobin",
           "Lepeophtheirus salmonis",
           "Lepeophtheirus",
           2.17551995,
           "Arthropoda"
          ]
         ],
         "hovertemplate": "<b>%{hovertext}</b><br><br>tree3=%{customdata[2]}<br>pm1=%{x}<br>pm2=%{y}<br>tree1=%{customdata[0]}<br>tree2=%{customdata[1]}<br>tree4=%{customdata[3]}<br>full_name=%{customdata[4]}<br>short_name=%{customdata[5]}<br>full_species=%{customdata[6]}<br>short_species=%{customdata[7]}<br>evo_distance=%{customdata[8]}<br>Color_species=%{customdata[9]}<extra></extra>",
         "hovertext": [
          19,
          19,
          19,
          19
         ],
         "legendgroup": "19",
         "marker": {
          "color": "#636efa",
          "symbol": "circle"
         },
         "mode": "markers",
         "name": "19",
         "orientation": "v",
         "showlegend": true,
         "textposition": "top right",
         "type": "scatter",
         "x": [
          -0.5930902,
          -0.6132901,
          -0.60517776,
          0.6959311
         ],
         "xaxis": "x",
         "y": [
          -0.7202468,
          -0.7051645,
          -0.732599,
          -0.12115786
         ],
         "yaxis": "y"
        },
        {
         "customdata": [
          [
           32,
           22,
           11,
           5,
           "Hemoglobin (Fragment)",
           "Hemoglobin",
           "Biomphalaria glabrata",
           "Biomphalaria",
           3.48471231,
           "Mollusca"
          ],
          [
           32,
           22,
           11,
           5,
           "Uncharacterized protein",
           "Uncharacterized",
           "Biomphalaria glabrata",
           "Biomphalaria",
           3.63841564,
           "Mollusca"
          ],
          [
           32,
           22,
           11,
           5,
           "Uncharacterized protein",
           "Uncharacterized",
           "Biomphalaria glabrata",
           "Biomphalaria",
           3.38373079,
           "Mollusca"
          ],
          [
           32,
           22,
           11,
           5,
           "Haemoglobin type 1",
           "Hemoglobin",
           "Biomphalaria glabrata",
           "Biomphalaria",
           3.53221633,
           "Mollusca"
          ],
          [
           32,
           22,
           11,
           5,
           "Uncharacterized protein",
           "Uncharacterized",
           "Biomphalaria glabrata",
           "Biomphalaria",
           3.61489538,
           "Mollusca"
          ]
         ],
         "hovertemplate": "<b>%{hovertext}</b><br><br>tree3=%{customdata[2]}<br>pm1=%{x}<br>pm2=%{y}<br>tree1=%{customdata[0]}<br>tree2=%{customdata[1]}<br>tree4=%{customdata[3]}<br>full_name=%{customdata[4]}<br>short_name=%{customdata[5]}<br>full_species=%{customdata[6]}<br>short_species=%{customdata[7]}<br>evo_distance=%{customdata[8]}<br>Color_species=%{customdata[9]}<extra></extra>",
         "hovertext": [
          11,
          11,
          11,
          11,
          11
         ],
         "legendgroup": "11",
         "marker": {
          "color": "#EF553B",
          "symbol": "circle"
         },
         "mode": "markers",
         "name": "11",
         "orientation": "v",
         "showlegend": true,
         "textposition": "top right",
         "type": "scatter",
         "x": [
          -0.89327544,
          0.40750816,
          0.40140373,
          0.03716398,
          -0.12843391
         ],
         "xaxis": "x",
         "y": [
          0.11009832,
          0.2484631,
          0.2543575,
          0.87955797,
          -0.54958564
         ],
         "yaxis": "y"
        },
        {
         "customdata": [
          [
           -1,
           25,
           15,
           8,
           "Metalloendopeptidase",
           "Metalloendopeptidase",
           "Globodera pallida",
           "Globodera",
           2.86594104,
           "Nematoda"
          ],
          [
           -1,
           25,
           15,
           8,
           "Uncharacterized protein",
           "Uncharacterized",
           "Strongyloides stercoralis",
           "Strongyloides",
           3.19295417,
           "Nematoda"
          ]
         ],
         "hovertemplate": "<b>%{hovertext}</b><br><br>tree3=%{customdata[2]}<br>pm1=%{x}<br>pm2=%{y}<br>tree1=%{customdata[0]}<br>tree2=%{customdata[1]}<br>tree4=%{customdata[3]}<br>full_name=%{customdata[4]}<br>short_name=%{customdata[5]}<br>full_species=%{customdata[6]}<br>short_species=%{customdata[7]}<br>evo_distance=%{customdata[8]}<br>Color_species=%{customdata[9]}<extra></extra>",
         "hovertext": [
          15,
          15
         ],
         "legendgroup": "15",
         "marker": {
          "color": "#00cc96",
          "symbol": "circle"
         },
         "mode": "markers",
         "name": "15",
         "orientation": "v",
         "showlegend": true,
         "textposition": "top right",
         "type": "scatter",
         "x": [
          -0.48973548,
          -0.7014176
         ],
         "xaxis": "x",
         "y": [
          -0.5898779,
          0.10629031
         ],
         "yaxis": "y"
        }
       ],
       "layout": {
        "font": {
         "size": 11
        },
        "height": 800,
        "legend": {
         "title": {
          "text": "tree3"
         },
         "tracegroupgap": 0
        },
        "margin": {
         "t": 60
        },
        "plot_bgcolor": "rgba(0, 0, 0, 0)",
        "shapes": [
         {
          "line": {
           "color": "black",
           "dash": "dot"
          },
          "opacity": 0.15,
          "type": "circle",
          "x0": -0.47058823529411764,
          "x1": 0.47058823529411764,
          "y0": -0.47058823529411764,
          "y1": 0.47058823529411764
         },
         {
          "line": {
           "color": "black",
           "dash": "dot"
          },
          "opacity": 0.15,
          "type": "circle",
          "x0": -0.6447368421052633,
          "x1": 0.6447368421052633,
          "y0": -0.6447368421052633,
          "y1": 0.6447368421052633
         },
         {
          "line": {
           "color": "black",
           "dash": "dot"
          },
          "opacity": 0.15,
          "type": "circle",
          "x0": -0.7705382436260623,
          "x1": 0.7705382436260623,
          "y0": -0.7705382436260623,
          "y1": 0.7705382436260623
         },
         {
          "line": {
           "color": "black",
           "dash": "dot"
          },
          "opacity": 0.15,
          "type": "circle",
          "x0": -0.8557007125890737,
          "x1": 0.8557007125890737,
          "y0": -0.8557007125890737,
          "y1": 0.8557007125890737
         },
         {
          "line": {
           "color": "black",
           "dash": "dot"
          },
          "opacity": 0.15,
          "type": "circle",
          "x0": -0.9108474990827933,
          "x1": 0.9108474990827933,
          "y0": -0.9108474990827933,
          "y1": 0.9108474990827933
         },
         {
          "line": {
           "color": "black",
           "dash": "dot"
          },
          "opacity": 0.15,
          "type": "circle",
          "x0": -0.9455374041239167,
          "x1": 0.9455374041239167,
          "y0": -0.9455374041239167,
          "y1": 0.9455374041239167
         },
         {
          "line": {
           "color": "Black"
          },
          "type": "circle",
          "x0": -1,
          "x1": 1,
          "xref": "x",
          "y0": -1,
          "y1": 1,
          "yref": "y"
         },
         {
          "fillcolor": "Black",
          "line": {
           "color": "Black"
          },
          "type": "circle",
          "x0": -0.005,
          "x1": 0.005,
          "xref": "x",
          "y0": -0.005,
          "y1": 0.005,
          "yref": "y"
         }
        ],
        "template": {
         "data": {
          "bar": [
           {
            "error_x": {
             "color": "#2a3f5f"
            },
            "error_y": {
             "color": "#2a3f5f"
            },
            "marker": {
             "line": {
              "color": "#E5ECF6",
              "width": 0.5
             },
             "pattern": {
              "fillmode": "overlay",
              "size": 10,
              "solidity": 0.2
             }
            },
            "type": "bar"
           }
          ],
          "barpolar": [
           {
            "marker": {
             "line": {
              "color": "#E5ECF6",
              "width": 0.5
             },
             "pattern": {
              "fillmode": "overlay",
              "size": 10,
              "solidity": 0.2
             }
            },
            "type": "barpolar"
           }
          ],
          "carpet": [
           {
            "aaxis": {
             "endlinecolor": "#2a3f5f",
             "gridcolor": "white",
             "linecolor": "white",
             "minorgridcolor": "white",
             "startlinecolor": "#2a3f5f"
            },
            "baxis": {
             "endlinecolor": "#2a3f5f",
             "gridcolor": "white",
             "linecolor": "white",
             "minorgridcolor": "white",
             "startlinecolor": "#2a3f5f"
            },
            "type": "carpet"
           }
          ],
          "choropleth": [
           {
            "colorbar": {
             "outlinewidth": 0,
             "ticks": ""
            },
            "type": "choropleth"
           }
          ],
          "contour": [
           {
            "colorbar": {
             "outlinewidth": 0,
             "ticks": ""
            },
            "colorscale": [
             [
              0,
              "#0d0887"
             ],
             [
              0.1111111111111111,
              "#46039f"
             ],
             [
              0.2222222222222222,
              "#7201a8"
             ],
             [
              0.3333333333333333,
              "#9c179e"
             ],
             [
              0.4444444444444444,
              "#bd3786"
             ],
             [
              0.5555555555555556,
              "#d8576b"
             ],
             [
              0.6666666666666666,
              "#ed7953"
             ],
             [
              0.7777777777777778,
              "#fb9f3a"
             ],
             [
              0.8888888888888888,
              "#fdca26"
             ],
             [
              1,
              "#f0f921"
             ]
            ],
            "type": "contour"
           }
          ],
          "contourcarpet": [
           {
            "colorbar": {
             "outlinewidth": 0,
             "ticks": ""
            },
            "type": "contourcarpet"
           }
          ],
          "heatmap": [
           {
            "colorbar": {
             "outlinewidth": 0,
             "ticks": ""
            },
            "colorscale": [
             [
              0,
              "#0d0887"
             ],
             [
              0.1111111111111111,
              "#46039f"
             ],
             [
              0.2222222222222222,
              "#7201a8"
             ],
             [
              0.3333333333333333,
              "#9c179e"
             ],
             [
              0.4444444444444444,
              "#bd3786"
             ],
             [
              0.5555555555555556,
              "#d8576b"
             ],
             [
              0.6666666666666666,
              "#ed7953"
             ],
             [
              0.7777777777777778,
              "#fb9f3a"
             ],
             [
              0.8888888888888888,
              "#fdca26"
             ],
             [
              1,
              "#f0f921"
             ]
            ],
            "type": "heatmap"
           }
          ],
          "heatmapgl": [
           {
            "colorbar": {
             "outlinewidth": 0,
             "ticks": ""
            },
            "colorscale": [
             [
              0,
              "#0d0887"
             ],
             [
              0.1111111111111111,
              "#46039f"
             ],
             [
              0.2222222222222222,
              "#7201a8"
             ],
             [
              0.3333333333333333,
              "#9c179e"
             ],
             [
              0.4444444444444444,
              "#bd3786"
             ],
             [
              0.5555555555555556,
              "#d8576b"
             ],
             [
              0.6666666666666666,
              "#ed7953"
             ],
             [
              0.7777777777777778,
              "#fb9f3a"
             ],
             [
              0.8888888888888888,
              "#fdca26"
             ],
             [
              1,
              "#f0f921"
             ]
            ],
            "type": "heatmapgl"
           }
          ],
          "histogram": [
           {
            "marker": {
             "pattern": {
              "fillmode": "overlay",
              "size": 10,
              "solidity": 0.2
             }
            },
            "type": "histogram"
           }
          ],
          "histogram2d": [
           {
            "colorbar": {
             "outlinewidth": 0,
             "ticks": ""
            },
            "colorscale": [
             [
              0,
              "#0d0887"
             ],
             [
              0.1111111111111111,
              "#46039f"
             ],
             [
              0.2222222222222222,
              "#7201a8"
             ],
             [
              0.3333333333333333,
              "#9c179e"
             ],
             [
              0.4444444444444444,
              "#bd3786"
             ],
             [
              0.5555555555555556,
              "#d8576b"
             ],
             [
              0.6666666666666666,
              "#ed7953"
             ],
             [
              0.7777777777777778,
              "#fb9f3a"
             ],
             [
              0.8888888888888888,
              "#fdca26"
             ],
             [
              1,
              "#f0f921"
             ]
            ],
            "type": "histogram2d"
           }
          ],
          "histogram2dcontour": [
           {
            "colorbar": {
             "outlinewidth": 0,
             "ticks": ""
            },
            "colorscale": [
             [
              0,
              "#0d0887"
             ],
             [
              0.1111111111111111,
              "#46039f"
             ],
             [
              0.2222222222222222,
              "#7201a8"
             ],
             [
              0.3333333333333333,
              "#9c179e"
             ],
             [
              0.4444444444444444,
              "#bd3786"
             ],
             [
              0.5555555555555556,
              "#d8576b"
             ],
             [
              0.6666666666666666,
              "#ed7953"
             ],
             [
              0.7777777777777778,
              "#fb9f3a"
             ],
             [
              0.8888888888888888,
              "#fdca26"
             ],
             [
              1,
              "#f0f921"
             ]
            ],
            "type": "histogram2dcontour"
           }
          ],
          "mesh3d": [
           {
            "colorbar": {
             "outlinewidth": 0,
             "ticks": ""
            },
            "type": "mesh3d"
           }
          ],
          "parcoords": [
           {
            "line": {
             "colorbar": {
              "outlinewidth": 0,
              "ticks": ""
             }
            },
            "type": "parcoords"
           }
          ],
          "pie": [
           {
            "automargin": true,
            "type": "pie"
           }
          ],
          "scatter": [
           {
            "fillpattern": {
             "fillmode": "overlay",
             "size": 10,
             "solidity": 0.2
            },
            "type": "scatter"
           }
          ],
          "scatter3d": [
           {
            "line": {
             "colorbar": {
              "outlinewidth": 0,
              "ticks": ""
             }
            },
            "marker": {
             "colorbar": {
              "outlinewidth": 0,
              "ticks": ""
             }
            },
            "type": "scatter3d"
           }
          ],
          "scattercarpet": [
           {
            "marker": {
             "colorbar": {
              "outlinewidth": 0,
              "ticks": ""
             }
            },
            "type": "scattercarpet"
           }
          ],
          "scattergeo": [
           {
            "marker": {
             "colorbar": {
              "outlinewidth": 0,
              "ticks": ""
             }
            },
            "type": "scattergeo"
           }
          ],
          "scattergl": [
           {
            "marker": {
             "colorbar": {
              "outlinewidth": 0,
              "ticks": ""
             }
            },
            "type": "scattergl"
           }
          ],
          "scattermapbox": [
           {
            "marker": {
             "colorbar": {
              "outlinewidth": 0,
              "ticks": ""
             }
            },
            "type": "scattermapbox"
           }
          ],
          "scatterpolar": [
           {
            "marker": {
             "colorbar": {
              "outlinewidth": 0,
              "ticks": ""
             }
            },
            "type": "scatterpolar"
           }
          ],
          "scatterpolargl": [
           {
            "marker": {
             "colorbar": {
              "outlinewidth": 0,
              "ticks": ""
             }
            },
            "type": "scatterpolargl"
           }
          ],
          "scatterternary": [
           {
            "marker": {
             "colorbar": {
              "outlinewidth": 0,
              "ticks": ""
             }
            },
            "type": "scatterternary"
           }
          ],
          "surface": [
           {
            "colorbar": {
             "outlinewidth": 0,
             "ticks": ""
            },
            "colorscale": [
             [
              0,
              "#0d0887"
             ],
             [
              0.1111111111111111,
              "#46039f"
             ],
             [
              0.2222222222222222,
              "#7201a8"
             ],
             [
              0.3333333333333333,
              "#9c179e"
             ],
             [
              0.4444444444444444,
              "#bd3786"
             ],
             [
              0.5555555555555556,
              "#d8576b"
             ],
             [
              0.6666666666666666,
              "#ed7953"
             ],
             [
              0.7777777777777778,
              "#fb9f3a"
             ],
             [
              0.8888888888888888,
              "#fdca26"
             ],
             [
              1,
              "#f0f921"
             ]
            ],
            "type": "surface"
           }
          ],
          "table": [
           {
            "cells": {
             "fill": {
              "color": "#EBF0F8"
             },
             "line": {
              "color": "white"
             }
            },
            "header": {
             "fill": {
              "color": "#C8D4E3"
             },
             "line": {
              "color": "white"
             }
            },
            "type": "table"
           }
          ]
         },
         "layout": {
          "annotationdefaults": {
           "arrowcolor": "#2a3f5f",
           "arrowhead": 0,
           "arrowwidth": 1
          },
          "autotypenumbers": "strict",
          "coloraxis": {
           "colorbar": {
            "outlinewidth": 0,
            "ticks": ""
           }
          },
          "colorscale": {
           "diverging": [
            [
             0,
             "#8e0152"
            ],
            [
             0.1,
             "#c51b7d"
            ],
            [
             0.2,
             "#de77ae"
            ],
            [
             0.3,
             "#f1b6da"
            ],
            [
             0.4,
             "#fde0ef"
            ],
            [
             0.5,
             "#f7f7f7"
            ],
            [
             0.6,
             "#e6f5d0"
            ],
            [
             0.7,
             "#b8e186"
            ],
            [
             0.8,
             "#7fbc41"
            ],
            [
             0.9,
             "#4d9221"
            ],
            [
             1,
             "#276419"
            ]
           ],
           "sequential": [
            [
             0,
             "#0d0887"
            ],
            [
             0.1111111111111111,
             "#46039f"
            ],
            [
             0.2222222222222222,
             "#7201a8"
            ],
            [
             0.3333333333333333,
             "#9c179e"
            ],
            [
             0.4444444444444444,
             "#bd3786"
            ],
            [
             0.5555555555555556,
             "#d8576b"
            ],
            [
             0.6666666666666666,
             "#ed7953"
            ],
            [
             0.7777777777777778,
             "#fb9f3a"
            ],
            [
             0.8888888888888888,
             "#fdca26"
            ],
            [
             1,
             "#f0f921"
            ]
           ],
           "sequentialminus": [
            [
             0,
             "#0d0887"
            ],
            [
             0.1111111111111111,
             "#46039f"
            ],
            [
             0.2222222222222222,
             "#7201a8"
            ],
            [
             0.3333333333333333,
             "#9c179e"
            ],
            [
             0.4444444444444444,
             "#bd3786"
            ],
            [
             0.5555555555555556,
             "#d8576b"
            ],
            [
             0.6666666666666666,
             "#ed7953"
            ],
            [
             0.7777777777777778,
             "#fb9f3a"
            ],
            [
             0.8888888888888888,
             "#fdca26"
            ],
            [
             1,
             "#f0f921"
            ]
           ]
          },
          "colorway": [
           "#636efa",
           "#EF553B",
           "#00cc96",
           "#ab63fa",
           "#FFA15A",
           "#19d3f3",
           "#FF6692",
           "#B6E880",
           "#FF97FF",
           "#FECB52"
          ],
          "font": {
           "color": "#2a3f5f"
          },
          "geo": {
           "bgcolor": "white",
           "lakecolor": "white",
           "landcolor": "#E5ECF6",
           "showlakes": true,
           "showland": true,
           "subunitcolor": "white"
          },
          "hoverlabel": {
           "align": "left"
          },
          "hovermode": "closest",
          "mapbox": {
           "style": "light"
          },
          "paper_bgcolor": "white",
          "plot_bgcolor": "#E5ECF6",
          "polar": {
           "angularaxis": {
            "gridcolor": "white",
            "linecolor": "white",
            "ticks": ""
           },
           "bgcolor": "#E5ECF6",
           "radialaxis": {
            "gridcolor": "white",
            "linecolor": "white",
            "ticks": ""
           }
          },
          "scene": {
           "xaxis": {
            "backgroundcolor": "#E5ECF6",
            "gridcolor": "white",
            "gridwidth": 2,
            "linecolor": "white",
            "showbackground": true,
            "ticks": "",
            "zerolinecolor": "white"
           },
           "yaxis": {
            "backgroundcolor": "#E5ECF6",
            "gridcolor": "white",
            "gridwidth": 2,
            "linecolor": "white",
            "showbackground": true,
            "ticks": "",
            "zerolinecolor": "white"
           },
           "zaxis": {
            "backgroundcolor": "#E5ECF6",
            "gridcolor": "white",
            "gridwidth": 2,
            "linecolor": "white",
            "showbackground": true,
            "ticks": "",
            "zerolinecolor": "white"
           }
          },
          "shapedefaults": {
           "line": {
            "color": "#2a3f5f"
           }
          },
          "ternary": {
           "aaxis": {
            "gridcolor": "white",
            "linecolor": "white",
            "ticks": ""
           },
           "baxis": {
            "gridcolor": "white",
            "linecolor": "white",
            "ticks": ""
           },
           "bgcolor": "#E5ECF6",
           "caxis": {
            "gridcolor": "white",
            "linecolor": "white",
            "ticks": ""
           }
          },
          "title": {
           "x": 0.05
          },
          "xaxis": {
           "automargin": true,
           "gridcolor": "white",
           "linecolor": "white",
           "ticks": "",
           "title": {
            "standoff": 15
           },
           "zerolinecolor": "white",
           "zerolinewidth": 2
          },
          "yaxis": {
           "automargin": true,
           "gridcolor": "white",
           "linecolor": "white",
           "ticks": "",
           "title": {
            "standoff": 15
           },
           "zerolinecolor": "white",
           "zerolinewidth": 2
          }
         }
        },
        "title": {
         "text": "",
         "x": 0.5
        },
        "xaxis": {
         "anchor": "y",
         "constrain": "domain",
         "domain": [
          0.21774938244039554,
          0.7822506175596045
         ],
         "range": [
          -1.1,
          1.1
         ],
         "title": {
          "text": "pm1"
         },
         "type": "linear"
        },
        "yaxis": {
         "anchor": "x",
         "autorange": true,
         "domain": [
          0,
          1
         ],
         "range": [
          -1.0368905710485934,
          1.0458480110485933
         ],
         "scaleanchor": "x",
         "scaleratio": 1,
         "title": {
          "text": "pm2"
         },
         "type": "linear"
        },
        "yaxis2": {
         "layer": "below traces",
         "matches": "y",
         "overlaying": "y"
        }
       }
      },
      "image/png": "[encoded data removed]",
      "text/html": [
       "<div>                            <div id=\"2394cdc6-29e3-48e8-a13c-6fc76a2aa46b\" class=\"plotly-graph-div\" style=\"height:800px; width:100%;\"></div>            <script type=\"text/javascript\">                require([\"plotly\"], function(Plotly) {                    window.PLOTLYENV=window.PLOTLYENV || {};                                    if (document.getElementById(\"2394cdc6-29e3-48e8-a13c-6fc76a2aa46b\")) {                    Plotly.newPlot(                        \"2394cdc6-29e3-48e8-a13c-6fc76a2aa46b\",                        [{\"customdata\":[[5,3,3,2,\"Globin C, coelomic\",\"Globin\",\"Caudina arenicola\",\"Caudina\",2.10112824,\"Echinodermata\"],[4,2,3,2,\"Hemoglobin\",\"Hemoglobin\",\"Hemipholis cordifera\",\"Hemipholis\",2.32722587,\"Echinodermata\"],[4,2,3,2,\"Hemoglobin\",\"Hemoglobin\",\"Ophiactis simplex\",\"Ophiactis\",2.21961074,\"Echinodermata\"],[4,2,3,2,\"Hemoglobin\",\"Hemoglobin\",\"Ophiactis simplex\",\"Ophiactis\",2.26245834,\"Echinodermata\"],[-1,-1,3,2,\"Extracellular globin 1\",\"Extracellular\",\"Metaphire sieboldi\",\"Metaphire\",2.43355891,\"Annelida\"]],\"hovertemplate\":\"<b>%{hovertext}</b><br><br>tree3=%{customdata[2]}<br>pm1=%{x}<br>pm2=%{y}<br>tree1=%{customdata[0]}<br>tree2=%{customdata[1]}<br>tree4=%{customdata[3]}<br>full_name=%{customdata[4]}<br>short_name=%{customdata[5]}<br>full_species=%{customdata[6]}<br>short_species=%{customdata[7]}<br>evo_distance=%{customdata[8]}<br>Color_species=%{customdata[9]}<extra></extra>\",\"hovertext\":[3,3,3,3,3],\"legendgroup\":\"3\",\"marker\":{\"color\":\"#636efa\",\"symbol\":\"circle\"},\"mode\":\"markers\",\"name\":\"3\",\"orientation\":\"v\",\"showlegend\":true,\"x\":[-0.16776198,-0.79888517,-0.36860523,-0.81199753,-0.9474086],\"xaxis\":\"x\",\"y\":[0.8959985,0.39915785,0.058199197,0.36925575,0.082732126],\"yaxis\":\"y\",\"type\":\"scatter\",\"textposition\":\"top right\"},{\"customdata\":[[-1,28,18,10,\"Globin (Fragment)\",\"Globin\",\"Stegodyphus mimosarum\",\"Stegodyphus\",1.7572795,\"Arthropoda\"],[-1,27,18,10,\"Uncharacterized protein\",\"Uncharacterized\",\"Strigamia maritima\",\"Strigamia\",2.04148677,\"Arthropoda\"],[37,27,18,10,\"Uncharacterized protein\",\"Uncharacterized\",\"Scylla olivacea\",\"Scylla\",2.31816861,\"Arthropoda\"],[37,27,18,10,\"Uncharacterized protein\",\"Uncharacterized\",\"Scylla olivacea\",\"Scylla\",2.17077532,\"Arthropoda\"],[37,27,18,10,\"Hemoglobin\",\"Hemoglobin\",\"Carcinus maenas\",\"Carcinus\",2.1764956200000003,\"Arthropoda\"],[-1,29,18,10,\"Globin, putative\",\"Globin,\",\"Ixodes scapularis\",\"Ixodes\",2.30448645,\"Arthropoda\"],[40,28,18,10,\"Globin\",\"Globin\",\"Zootermopsis nevadensis\",\"Zootermopsis\",1.87201142,\"Arthropoda\"],[45,33,18,10,\"Uncharacterized protein\",\"Uncharacterized\",\"Arion vulgaris\",\"Arion\",1.97427266,\"Mollusca\"],[45,33,18,10,\"Uncharacterized protein\",\"Uncharacterized\",\"Arion vulgaris\",\"Arion\",2.08013658,\"Mollusca\"],[40,28,18,10,\"Globin like protein (Fragment)\",\"Globin\",\"Coptotermes formosanus\",\"Coptotermes\",1.7741922,\"Arthropoda\"],[-1,28,18,10,\"Uncharacterized protein\",\"Uncharacterized\",\"Oryctes borbonicus\",\"Oryctes\",2.08382808,\"Arthropoda\"],[-1,27,18,10,\"Uncharacterized protein\",\"Uncharacterized\",\"Tetranychus urticae\",\"Tetranychus\",2.47172868,\"Arthropoda\"],[39,28,18,10,\"Globin 1\",\"Globin\",\"Apis mellifera\",\"Apis\",2.242503,\"Arthropoda\"],[39,28,18,10,\"Putative uncharacterized protein (Fragment)\",\"Putative\",\"Solenopsis invicta\",\"Solenopsis\",2.64407828,\"Arthropoda\"],[38,28,18,10,\"Globin\",\"Globin\",\"Habropoda laboriosa\",\"Habropoda\",2.60605258,\"Arthropoda\"],[38,28,18,10,\"Cygb2_0 protein\",\"Cygb2_0\",\"Fopius arisanus\",\"Fopius\",2.25335988,\"Arthropoda\"],[39,28,18,10,\"Cytoglobin 2\",\"Cytoglobin\",\"Cerapachys biroi\",\"Cerapachys\",2.52009681,\"Arthropoda\"],[39,28,18,10,\"Globin\",\"Globin\",\"Camponotus floridanus\",\"Camponotus\",2.60584071,\"Arthropoda\"],[38,28,18,10,\"Uncharacterized protein\",\"Uncharacterized\",\"Nasonia vitripennis\",\"Nasonia\",2.25387252,\"Arthropoda\"],[39,28,18,10,\"Cytoglobin\",\"Cytoglobin\",\"Acromyrmex echinatior\",\"Acromyrmex\",2.64639149,\"Arthropoda\"],[-1,28,18,10,\"Globin like Protein\",\"Globin\",\"Tribolium castaneum\",\"Tribolium\",2.42579023,\"Arthropoda\"],[-1,34,18,10,\"Uncharacterized protein\",\"Uncharacterized\",\"Capitella teleta\",\"Capitella\",2.02076984,\"Annelida\"],[-1,34,18,10,\"Cytoglobin 1 like protein\",\"Cytoglobin\",\"Sarcoptes scabiei\",\"Sarcoptes\",2.036886,\"Arthropoda\"],[-1,29,18,10,\"Uncharacterized protein (Fragment)\",\"Uncharacterized\",\"Ixodes ricinus\",\"Ixodes\",1.7778336,\"Arthropoda\"],[37,27,18,10,\"Cytoglobin 2 isoform CYGBi2\",\"Cytoglobin\",\"Cherax destructor\",\"Cherax\",2.23555225,\"Arthropoda\"],[36,26,18,10,\"Putative uncharacterized protein\",\"Putative\",\"Daphnia pulex\",\"Daphnia\",2.15851408,\"Arthropoda\"],[-1,-1,18,10,\"Globin\",\"Globin\",\"Crassostrea gigas\",\"Crassostrea\",2.20001602,\"Mollusca\"],[-1,29,18,10,\"Beta chain of the tetrameric hemoglobin, putative\",\"Hemoglobin\",\"Ixodes scapularis\",\"Ixodes\",2.34867746,\"Arthropoda\"],[39,28,18,10,\"Globin\",\"Globin\",\"Harpegnathos saltator\",\"Harpegnathos\",2.62513263,\"Arthropoda\"],[40,28,18,10,\"Globin\",\"Globin\",\"Zootermopsis nevadensis\",\"Zootermopsis\",1.7189102399999998,\"Arthropoda\"],[-1,-1,18,10,\"Globin\",\"Globin\",\"Daphnia magna\",\"Daphnia\",2.39585067,\"Arthropoda\"],[36,26,18,10,\"Cytoglobin 2\",\"Cytoglobin\",\"Daphnia magna\",\"Daphnia\",2.23126274,\"Arthropoda\"],[-1,-1,18,10,\"Globin like protein 1\",\"Globin\",\"Sarcoptes scabiei\",\"Sarcoptes\",2.11760394,\"Arthropoda\"]],\"hovertemplate\":\"<b>%{hovertext}</b><br><br>tree3=%{customdata[2]}<br>pm1=%{x}<br>pm2=%{y}<br>tree1=%{customdata[0]}<br>tree2=%{customdata[1]}<br>tree4=%{customdata[3]}<br>full_name=%{customdata[4]}<br>short_name=%{customdata[5]}<br>full_species=%{customdata[6]}<br>short_species=%{customdata[7]}<br>evo_distance=%{customdata[8]}<br>Color_species=%{customdata[9]}<extra></extra>\",\"hovertext\":[18,18,18,18,18,18,18,18,18,18,18,18,18,18,18,18,18,18,18,18,18,18,18,18,18,18,18,18,18,18,18,18,18],\"legendgroup\":\"18\",\"marker\":{\"color\":\"#EF553B\",\"symbol\":\"circle\"},\"mode\":\"markers\",\"name\":\"18\",\"orientation\":\"v\",\"showlegend\":true,\"x\":[-0.61477107,0.8269835,-0.1479126,-0.08137412,-0.10836925,0.82190615,-0.68592,-0.5324981,-0.7172148,-0.7409935,-0.82073647,-0.74353546,-0.31271985,-0.132828,-0.90367854,0.89154357,0.88485235,0.83206093,0.89282745,0.8126395,0.8956687,0.81721985,0.895497,-0.12389882,-0.107711464,-0.80214566,-0.8099774,-0.32954574,0.6388314,0.62526006,-0.17986079,-0.31472042,-0.30990392],\"xaxis\":\"x\",\"y\":[-0.71026945,-0.41644144,0.91336447,-0.9209199,0.92987734,-0.4241458,0.15248474,-0.41124216,0.13099013,0.015420638,0.3714342,0.14191489,-0.53423244,0.9050765,0.09367161,-0.38177955,-0.37567386,-0.39855552,-0.37428722,-0.411639,-0.36881036,-0.40576878,-0.38009953,0.915141,0.9180063,0.38163587,0.38381726,-0.74774057,-0.20408106,0.3055679,0.8874741,-0.53028256,-0.53170174],\"yaxis\":\"y\",\"type\":\"scatter\",\"textposition\":\"top right\"},{\"customdata\":[[-1,40,22,11,\"ACYPI007228 protein\",\"ACYPI007228\",\"Acyrthosiphon pisum\",\"Acyrthosiphon\",0.44459959,\"Arthropoda\"],[10,38,22,9,\"Hemoglobin T1 polymer\",\"Hemoglobin\",\"Artemia salina\",\"Artemia\",1.84725956,\"Arthropoda\"],[10,38,22,9,\"Hemoglobin P polymer\",\"Hemoglobin\",\"Parartemia zietziana\",\"Parartemia\",1.91905851,\"Arthropoda\"],[11,38,22,9,\"Hemoglobin T1 polymer\",\"Hemoglobin\",\"Artemia salina\",\"Artemia\",1.78050468,\"Arthropoda\"],[11,38,22,9,\"Hemoglobin P polymer\",\"Hemoglobin\",\"Parartemia zietziana\",\"Parartemia\",1.73983856,\"Arthropoda\"],[11,38,22,9,\"Hemoglobin C1 polymer\",\"Hemoglobin\",\"Artemia salina\",\"Artemia\",1.70252921,\"Arthropoda\"],[-1,38,22,9,\"Hemoglobin P polymer\",\"Hemoglobin\",\"Parartemia zietziana\",\"Parartemia\",2.0891213,\"Arthropoda\"],[-1,40,22,11,\"Uncharacterized protein\",\"Uncharacterized\",\"Acyrthosiphon pisum\",\"Acyrthosiphon\",0.90085961,\"Arthropoda\"]],\"hovertemplate\":\"<b>%{hovertext}</b><br><br>tree3=%{customdata[2]}<br>pm1=%{x}<br>pm2=%{y}<br>tree1=%{customdata[0]}<br>tree2=%{customdata[1]}<br>tree4=%{customdata[3]}<br>full_name=%{customdata[4]}<br>short_name=%{customdata[5]}<br>full_species=%{customdata[6]}<br>short_species=%{customdata[7]}<br>evo_distance=%{customdata[8]}<br>Color_species=%{customdata[9]}<extra></extra>\",\"hovertext\":[22,22,22,22,22,22,22,22],\"legendgroup\":\"22\",\"marker\":{\"color\":\"#00cc96\",\"symbol\":\"circle\"},\"mode\":\"markers\",\"name\":\"22\",\"orientation\":\"v\",\"showlegend\":true,\"x\":[-0.35415676,0.73202544,0.739537,0.7257321,0.7332294,0.74269634,0.58464414,0.57717353],\"xaxis\":\"x\",\"y\":[-0.7998059,0.54670674,0.553351,0.5522269,0.55974424,0.5420733,-0.7053872,-0.71424574],\"yaxis\":\"y\",\"type\":\"scatter\",\"textposition\":\"top right\"},{\"customdata\":[[13,17,5,7,\"Uncharacterized protein\",\"Uncharacterized\",\"Capitella teleta\",\"Capitella\",2.1436955,\"Annelida\"],[13,17,5,7,\"Uncharacterized protein\",\"Uncharacterized\",\"Capitella teleta\",\"Capitella\",2.2371513499999995,\"Annelida\"],[-1,17,5,7,\"Uncharacterized protein (Fragment)\",\"Uncharacterized\",\"Capitella teleta\",\"Capitella\",2.66909204,\"Annelida\"],[-1,17,5,7,\"Uncharacterized protein\",\"Uncharacterized\",\"Capitella teleta\",\"Capitella\",2.42843133,\"Annelida\"]],\"hovertemplate\":\"<b>%{hovertext}</b><br><br>tree3=%{customdata[2]}<br>pm1=%{x}<br>pm2=%{y}<br>tree1=%{customdata[0]}<br>tree2=%{customdata[1]}<br>tree4=%{customdata[3]}<br>full_name=%{customdata[4]}<br>short_name=%{customdata[5]}<br>full_species=%{customdata[6]}<br>short_species=%{customdata[7]}<br>evo_distance=%{customdata[8]}<br>Color_species=%{customdata[9]}<extra></extra>\",\"hovertext\":[5,5,5,5],\"legendgroup\":\"5\",\"marker\":{\"color\":\"#ab63fa\",\"symbol\":\"circle\"},\"mode\":\"markers\",\"name\":\"5\",\"orientation\":\"v\",\"showlegend\":true,\"x\":[-0.08572771,0.92074573,0.035275247,0.58130866],\"xaxis\":\"x\",\"y\":[-0.9043991,0.016814757,0.90835714,-0.63975173],\"yaxis\":\"y\",\"type\":\"scatter\",\"textposition\":\"top right\"},{\"customdata\":[[-1,-1,4,7,\"Uncharacterized protein\",\"Uncharacterized\",\"Capitella teleta\",\"Capitella\",2.50218703,\"Annelida\"],[-1,7,4,7,\"Cytoglobin 2\",\"Cytoglobin\",\"Crassostrea gigas\",\"Crassostrea\",2.34885314,\"Mollusca\"],[-1,7,4,7,\"Uncharacterized protein\",\"Uncharacterized\",\"Lottia gigantea\",\"Lottia\",2.43279945,\"Mollusca\"],[12,6,4,7,\"Protein CBR GLB 7\",\"Protein\",\"Caenorhabditis briggsae\",\"Caenorhabditis\",3.0159007999999994,\"Nematoda\"],[12,6,4,7,\"Uncharacterized protein\",\"Uncharacterized\",\"Haemonchus placei\",\"Haemonchus\",3.29015469,\"Nematoda\"],[-1,6,4,7,\"Cre glb 30 protein\",\"Cre\",\"Ascaris suum\",\"Ascaris\",3.1760076299999995,\"Nematoda\"],[-1,-1,4,7,\"Globin like protein 26\",\"Globin\",\"Trichinella pseudospiralis\",\"Trichinella\",3.03825431,\"Nematoda\"],[-1,6,4,7,\"Uncharacterized protein\",\"Uncharacterized\",\"Ancylostoma ceylanicum\",\"Ancylostoma\",3.20708282,\"Nematoda\"]],\"hovertemplate\":\"<b>%{hovertext}</b><br><br>tree3=%{customdata[2]}<br>pm1=%{x}<br>pm2=%{y}<br>tree1=%{customdata[0]}<br>tree2=%{customdata[1]}<br>tree4=%{customdata[3]}<br>full_name=%{customdata[4]}<br>short_name=%{customdata[5]}<br>full_species=%{customdata[6]}<br>short_species=%{customdata[7]}<br>evo_distance=%{customdata[8]}<br>Color_species=%{customdata[9]}<extra></extra>\",\"hovertext\":[4,4,4,4,4,4,4,4],\"legendgroup\":\"4\",\"marker\":{\"color\":\"#FFA15A\",\"symbol\":\"circle\"},\"mode\":\"markers\",\"name\":\"4\",\"orientation\":\"v\",\"showlegend\":true,\"x\":[-0.35987514,-0.9456881,-0.18050434,-0.75694865,-0.13115907,-0.12898715,-0.89097506,-0.9030738],\"xaxis\":\"x\",\"y\":[-0.74549305,0.08608307,0.8951629,0.113541,0.87270045,0.88082683,0.104370646,0.08244089],\"yaxis\":\"y\",\"type\":\"scatter\",\"textposition\":\"top right\"},{\"customdata\":[[-1,13,8,4,\"Neuroglobin like\",\"Neuroglobin\",\"Scleropages formosus\",\"Scleropages\",2.75087931,\"Chordata\"],[-1,-1,8,4,\"Predicted protein\",\"Predicted\",\"Nematostella vectensis\",\"Nematostella\",2.4344002,\"Cnidaria\"],[22,13,8,4,\"Neuroglobin\",\"Neuroglobin\",\"Oryctolagus cuniculus\",\"Oryctolagus\",3.722439879999999,\"Chordata\"],[22,13,8,4,\"Neuroglobin\",\"Neuroglobin\",\"Alligator mississippiensis\",\"Alligator\",3.58667483,\"Chordata\"],[21,13,8,4,\"Neuroglobin\",\"Neuroglobin\",\"Danio rerio\",\"Danio\",3.068778509999999,\"Chordata\"],[22,13,8,4,\"Uncharacterized protein\",\"Uncharacterized\",\"Anolis carolinensis\",\"Anolis\",3.673447579999999,\"Chordata\"],[22,13,8,4,\"Uncharacterized protein\",\"Uncharacterized\",\"Lepisosteus oculatus\",\"Lepisosteus\",3.147542819999999,\"Chordata\"],[21,13,8,4,\"Neuroglobin 1\",\"Neuroglobin\",\"Salmo salar\",\"Salmo\",3.094649499999999,\"Chordata\"],[22,13,8,4,\"Neuroglobin\",\"Neuroglobin\",\"Amazona aestiva\",\"Amazona\",3.684650899999999,\"Chordata\"],[21,13,8,4,\"Neuroglobin\",\"Neuroglobin\",\"Chaenocephalus aceratus\",\"Chaenocephalus\",3.048452869999999,\"Chordata\"],[22,13,8,4,\"Uncharacterized protein\",\"Uncharacterized\",\"Ornithorhynchus anatinus\",\"Ornithorhynchus\",3.630371559999999,\"Chordata\"],[22,13,8,4,\"Uncharacterized protein\",\"Uncharacterized\",\"Sarcophilus harrisii\",\"Sarcophilus\",3.563486359999999,\"Chordata\"],[22,13,8,4,\"Uncharacterized protein\",\"Uncharacterized\",\"Anas platyrhynchos\",\"Anas\",3.747842649999999,\"Chordata\"],[22,13,8,4,\"Neuroglobin\",\"Neuroglobin\",\"Gallus gallus\",\"Gallus\",3.679641069999999,\"Chordata\"],[21,13,8,4,\"Neuroglobin (Fragment)\",\"Neuroglobin\",\"Fundulus heteroclitus\",\"Fundulus\",3.1009386899999987,\"Chordata\"]],\"hovertemplate\":\"<b>%{hovertext}</b><br><br>tree3=%{customdata[2]}<br>pm1=%{x}<br>pm2=%{y}<br>tree1=%{customdata[0]}<br>tree2=%{customdata[1]}<br>tree4=%{customdata[3]}<br>full_name=%{customdata[4]}<br>short_name=%{customdata[5]}<br>full_species=%{customdata[6]}<br>short_species=%{customdata[7]}<br>evo_distance=%{customdata[8]}<br>Color_species=%{customdata[9]}<extra></extra>\",\"hovertext\":[8,8,8,8,8,8,8,8,8,8,8,8,8,8,8],\"legendgroup\":\"8\",\"marker\":{\"color\":\"#19d3f3\",\"symbol\":\"circle\"},\"mode\":\"markers\",\"name\":\"8\",\"orientation\":\"v\",\"showlegend\":true,\"x\":[0.6121337,0.9392006,0.73534423,0.7452933,0.7562092,0.768328,0.9167137,0.90872407,0.93420094,0.87703747,0.91863906,0.9029314,0.9436501,0.916097,-0.31180182],\"xaxis\":\"x\",\"y\":[0.2628031,0.018951809,-0.34922093,-0.33649012,-0.3287709,-0.3197679,-0.0128084,-0.02951069,0.028435903,-0.030002605,-0.031026457,-0.019096883,0.031103065,0.004004686,-0.528155],\"yaxis\":\"y\",\"type\":\"scatter\",\"textposition\":\"top right\"},{\"customdata\":[[-1,23,14,6,\"Globin\",\"Globin\",\"Branchiostoma floridae\",\"Branchiostoma\",2.1325129,\"Chordata\"],[34,23,14,6,\"Globin\",\"Globin\",\"Branchiostoma floridae\",\"Branchiostoma\",2.16645269,\"Chordata\"],[33,24,14,6,\"Uncharacterized protein\",\"Uncharacterized\",\"Ciona savignyi\",\"Ciona\",2.80514043,\"Chordata\"],[33,24,14,6,\"Uncharacterized protein\",\"Uncharacterized\",\"Ciona intestinalis\",\"Ciona\",2.81068422,\"Chordata\"],[33,24,14,6,\"Globin\",\"Globin\",\"Ciona intestinalis\",\"Ciona\",2.83829804,\"Chordata\"],[33,24,14,6,\"Uncharacterized protein\",\"Uncharacterized\",\"Ciona savignyi\",\"Ciona\",2.96556729,\"Chordata\"],[35,24,14,6,\"Uncharacterized protein\",\"Uncharacterized\",\"Ciona savignyi\",\"Ciona\",2.65847977,\"Chordata\"],[35,24,14,6,\"Globin\",\"Globin\",\"Ciona intestinalis\",\"Ciona\",2.60884268,\"Chordata\"],[34,23,14,6,\"Putative uncharacterized protein\",\"Putative\",\"Branchiostoma floridae\",\"Branchiostoma\",2.37973605,\"Chordata\"],[34,23,14,6,\"Putative uncharacterized protein\",\"Putative\",\"Branchiostoma floridae\",\"Branchiostoma\",2.38806056,\"Chordata\"],[-1,-1,14,6,\"Neuroglobin like protein\",\"Neuroglobin\",\"Saccoglossus kowalevskii\",\"Saccoglossus\",2.35972746,\"Hemichordata\"],[-1,24,14,6,\"Globin\",\"Globin\",\"Ciona intestinalis\",\"Ciona\",3.12906012,\"Chordata\"]],\"hovertemplate\":\"<b>%{hovertext}</b><br><br>tree3=%{customdata[2]}<br>pm1=%{x}<br>pm2=%{y}<br>tree1=%{customdata[0]}<br>tree2=%{customdata[1]}<br>tree4=%{customdata[3]}<br>full_name=%{customdata[4]}<br>short_name=%{customdata[5]}<br>full_species=%{customdata[6]}<br>short_species=%{customdata[7]}<br>evo_distance=%{customdata[8]}<br>Color_species=%{customdata[9]}<extra></extra>\",\"hovertext\":[14,14,14,14,14,14,14,14,14,14,14,14],\"legendgroup\":\"14\",\"marker\":{\"color\":\"#FF6692\",\"symbol\":\"circle\"},\"mode\":\"markers\",\"name\":\"14\",\"orientation\":\"v\",\"showlegend\":true,\"x\":[-0.61951786,-0.14489484,-0.7576189,-0.75690407,-0.7922651,-0.7436017,0.6242235,0.7040383,0.6494662,0.77029157,-0.60933435,0.59734184],\"xaxis\":\"x\",\"y\":[-0.71446997,-0.13959527,0.19353095,0.1778391,0.17006442,0.1419383,0.09558195,-0.17839086,-0.13953914,-0.09316366,-0.7291455,-0.64330506],\"yaxis\":\"y\",\"type\":\"scatter\",\"textposition\":\"top right\"},{\"customdata\":[[-1,39,20,10,\"Uncharacterized protein\",\"Uncharacterized\",\"Strongylocentrotus purpuratus\",\"Strongylocentrotus\",1.75283422,\"Echinodermata\"],[-1,39,20,7,\"Putative uncharacterized protein\",\"Putative\",\"Branchiostoma floridae\",\"Branchiostoma\",1.93258564,\"Chordata\"],[-1,-1,20,7,\"Putative uncharacterized protein\",\"Putative\",\"Trichoplax adhaerens\",\"Trichoplax\",2.31619376,\"Placozoa\"],[23,16,20,7,\"Uncharacterized protein\",\"Uncharacterized\",\"Arion vulgaris\",\"Arion\",2.60859124,\"Mollusca\"],[-1,16,20,7,\"Uncharacterized protein\",\"Uncharacterized\",\"Lottia gigantea\",\"Lottia\",2.7304677,\"Mollusca\"],[23,16,20,7,\"Cytoglobin 1\",\"Cytoglobin\",\"Crassostrea gigas\",\"Crassostrea\",2.85491961,\"Mollusca\"],[23,16,20,7,\"Uncharacterized protein\",\"Uncharacterized\",\"Lottia gigantea\",\"Lottia\",2.73087099,\"Mollusca\"]],\"hovertemplate\":\"<b>%{hovertext}</b><br><br>tree3=%{customdata[2]}<br>pm1=%{x}<br>pm2=%{y}<br>tree1=%{customdata[0]}<br>tree2=%{customdata[1]}<br>tree4=%{customdata[3]}<br>full_name=%{customdata[4]}<br>short_name=%{customdata[5]}<br>full_species=%{customdata[6]}<br>short_species=%{customdata[7]}<br>evo_distance=%{customdata[8]}<br>Color_species=%{customdata[9]}<extra></extra>\",\"hovertext\":[20,20,20,20,20,20,20],\"legendgroup\":\"20\",\"marker\":{\"color\":\"#B6E880\",\"symbol\":\"circle\"},\"mode\":\"markers\",\"name\":\"20\",\"orientation\":\"v\",\"showlegend\":true,\"x\":[0.5941572,-0.11732061,-0.93759334,-0.28593463,-0.2808332,0.7100153,0.5890824],\"xaxis\":\"x\",\"y\":[-0.71597046,0.9243493,0.08174074,-0.39228648,-0.3903715,-0.22713912,-0.6763008],\"yaxis\":\"y\",\"type\":\"scatter\",\"textposition\":\"top right\"},{\"customdata\":[[-1,37,21,10,\"Uncharacterized protein\",\"Uncharacterized\",\"Lutzomyia longipalpis\",\"Lutzomyia\",1.94649826,\"Arthropoda\"],[47,36,21,10,\"Putative hemoglobin like flavoprotein (Fragment)\",\"Hemoglobin\",\"Rhodnius neglectus\",\"Rhodnius\",1.84627905,\"Arthropoda\"],[47,36,21,10,\"Putative hemoglobin like flavoprotein (Fragment)\",\"Hemoglobin\",\"Triatoma infestans\",\"Triatoma\",1.9043777,\"Arthropoda\"],[-1,37,21,10,\"Uncharacterized protein\",\"Uncharacterized\",\"Glossina morsitans\",\"Glossina\",2.01930981,\"Arthropoda\"]],\"hovertemplate\":\"<b>%{hovertext}</b><br><br>tree3=%{customdata[2]}<br>pm1=%{x}<br>pm2=%{y}<br>tree1=%{customdata[0]}<br>tree2=%{customdata[1]}<br>tree4=%{customdata[3]}<br>full_name=%{customdata[4]}<br>short_name=%{customdata[5]}<br>full_species=%{customdata[6]}<br>short_species=%{customdata[7]}<br>evo_distance=%{customdata[8]}<br>Color_species=%{customdata[9]}<extra></extra>\",\"hovertext\":[21,21,21,21],\"legendgroup\":\"21\",\"marker\":{\"color\":\"#FF97FF\",\"symbol\":\"circle\"},\"mode\":\"markers\",\"name\":\"21\",\"orientation\":\"v\",\"showlegend\":true,\"x\":[0.89634734,0.891436,0.8911958,-0.13760048],\"xaxis\":\"x\",\"y\":[-0.37475008,-0.36948314,-0.37647054,0.8957739],\"yaxis\":\"y\",\"type\":\"scatter\",\"textposition\":\"top right\"},{\"customdata\":[[-1,-1,9,3,\"Uncharacterized protein\",\"Uncharacterized\",\"Amphimedon queenslandica\",\"Amphimedon\",2.52227159,\"Porifera\"],[14,10,9,3,\"Uncharacterized protein\",\"Uncharacterized\",\"Strongylocentrotus purpuratus\",\"Strongylocentrotus\",2.65354782,\"Echinodermata\"],[-1,-1,9,3,\"Uncharacterized protein\",\"Uncharacterized\",\"Micromonas commoda\",\"Micromonas\",2.70986541,\"Viridiplantae\"],[14,10,9,3,\"Uncharacterized protein\",\"Uncharacterized\",\"Strongylocentrotus purpuratus\",\"Strongylocentrotus\",2.58692572,\"Echinodermata\"],[-1,10,9,3,\"Uncharacterized protein\",\"Uncharacterized\",\"Strongylocentrotus purpuratus\",\"Strongylocentrotus\",2.51919106,\"Echinodermata\"],[14,10,9,3,\"Uncharacterized protein\",\"Uncharacterized\",\"Strongylocentrotus purpuratus\",\"Strongylocentrotus\",2.27606469,\"Echinodermata\"],[14,10,9,3,\"Uncharacterized protein\",\"Uncharacterized\",\"Strongylocentrotus purpuratus\",\"Strongylocentrotus\",2.86747135,\"Echinodermata\"]],\"hovertemplate\":\"<b>%{hovertext}</b><br><br>tree3=%{customdata[2]}<br>pm1=%{x}<br>pm2=%{y}<br>tree1=%{customdata[0]}<br>tree2=%{customdata[1]}<br>tree4=%{customdata[3]}<br>full_name=%{customdata[4]}<br>short_name=%{customdata[5]}<br>full_species=%{customdata[6]}<br>short_species=%{customdata[7]}<br>evo_distance=%{customdata[8]}<br>Color_species=%{customdata[9]}<extra></extra>\",\"hovertext\":[9,9,9,9,9,9,9],\"legendgroup\":\"9\",\"marker\":{\"color\":\"#FECB52\",\"symbol\":\"circle\"},\"mode\":\"markers\",\"name\":\"9\",\"orientation\":\"v\",\"showlegend\":true,\"x\":[0.039965585,0.938393,0.6194286,-0.5043786,-0.8066904,-0.6218993,-0.88826936],\"xaxis\":\"x\",\"y\":[0.89778036,0.038159277,-0.6452753,-0.57800335,0.40045115,-0.7059858,0.073854804],\"yaxis\":\"y\",\"type\":\"scatter\",\"textposition\":\"top right\"},{\"customdata\":[[18,14,10,4,\"Cytoglobin 2\",\"Cytoglobin\",\"Crassostrea gigas\",\"Crassostrea\",2.89814466,\"Mollusca\"],[19,14,10,4,\"Uncharacterized protein (Fragment)\",\"Uncharacterized\",\"Lottia gigantea\",\"Lottia\",2.350108079999999,\"Mollusca\"],[19,14,10,4,\"Uncharacterized protein (Fragment)\",\"Uncharacterized\",\"Lottia gigantea\",\"Lottia\",2.4627551299999992,\"Mollusca\"],[-1,14,10,4,\"Uncharacterized protein (Fragment)\",\"Uncharacterized\",\"Lottia gigantea\",\"Lottia\",3.15607834,\"Mollusca\"],[-1,14,10,4,\"Uncharacterized protein\",\"Uncharacterized\",\"Capitella teleta\",\"Capitella\",3.0766556599999992,\"Annelida\"],[17,12,10,4,\"ACYPI001485 protein\",\"ACYPI001485\",\"Acyrthosiphon pisum\",\"Acyrthosiphon\",2.696499399999999,\"Arthropoda\"],[19,14,10,4,\"Uncharacterized protein\",\"Uncharacterized\",\"Lottia gigantea\",\"Lottia\",2.6062900199999994,\"Mollusca\"],[16,11,10,4,\"GbX1\",\"GbX1\",\"Callorhinchus milii\",\"Callorhinchus\",2.948089519999999,\"Chordata\"],[16,11,10,4,\"GbX2\",\"GbX2\",\"Callorhinchus milii\",\"Callorhinchus\",3.0123761099999995,\"Chordata\"],[16,11,10,4,\"Chromosome 10 SCAF15019, whole genome shotgun sequence\",\"Chromosome\",\"Tetraodon nigroviridis\",\"Tetraodon\",3.1074634799999994,\"Chordata\"],[16,11,10,4,\"Cytoglobin 1\",\"Cytoglobin\",\"Chelonia mydas\",\"Chelonia\",2.706756999999999,\"Chordata\"],[16,11,10,4,\"Uncharacterized protein\",\"Uncharacterized\",\"Poecilia formosa\",\"Poecilia\",3.0849746199999992,\"Chordata\"],[16,11,10,4,\"Uncharacterized protein\",\"Uncharacterized\",\"Lepisosteus oculatus\",\"Lepisosteus\",2.843704849999999,\"Chordata\"],[16,11,10,4,\"Uncharacterized protein\",\"Uncharacterized\",\"Latimeria chalumnae\",\"Latimeria\",2.74467532,\"Chordata\"],[16,11,10,4,\"Xgb protein\",\"Xgb\",\"Danio rerio\",\"Danio\",3.15932725,\"Chordata\"],[16,11,10,4,\"Uncharacterized protein\",\"Uncharacterized\",\"Lepisosteus oculatus\",\"Lepisosteus\",2.98219578,\"Chordata\"],[16,11,10,4,\"Uncharacterized protein\",\"Uncharacterized\",\"Xenopus tropicalis\",\"Xenopus\",3.07574532,\"Chordata\"],[16,11,10,4,\"Cytoglobin 2\",\"Cytoglobin\",\"Ictalurus punctatus\",\"Ictalurus\",3.15839468,\"Chordata\"],[16,11,10,4,\"Uncharacterized protein\",\"Uncharacterized\",\"Oreochromis niloticus\",\"Oreochromis\",3.245876129999999,\"Chordata\"],[16,11,10,4,\"Uncharacterized protein\",\"Uncharacterized\",\"Oncorhynchus mykiss\",\"Oncorhynchus\",3.104564709999999,\"Chordata\"],[16,11,10,4,\"Uncharacterized protein\",\"Uncharacterized\",\"Oncorhynchus mykiss\",\"Oncorhynchus\",3.152127119999999,\"Chordata\"],[16,11,10,4,\"Neuroglobin like (Fragment)\",\"Neuroglobin\",\"Scleropages formosus\",\"Scleropages\",3.024390219999999,\"Chordata\"],[17,12,10,4,\"Globin D, coelomic, putative\",\"Globin\",\"Pediculus humanus\",\"Pediculus\",2.749354739999999,\"Arthropoda\"],[-1,14,10,4,\"Neuroglobin\",\"Neuroglobin\",\"Daphnia magna\",\"Daphnia\",2.620574789999999,\"Arthropoda\"],[19,14,10,4,\"Neuroglobin 1\",\"Neuroglobin\",\"Crassostrea gigas\",\"Crassostrea\",2.4302546899999995,\"Mollusca\"],[19,14,10,4,\"Uncharacterized protein\",\"Uncharacterized\",\"Arion vulgaris\",\"Arion\",2.53586098,\"Mollusca\"],[19,14,10,4,\"Uncharacterized protein\",\"Uncharacterized\",\"Octopus bimaculoides\",\"Octopus\",2.550460389999999,\"Mollusca\"],[-1,14,10,4,\"Uncharacterized protein\",\"Uncharacterized\",\"Capitella teleta\",\"Capitella\",3.0074926799999995,\"Annelida\"],[18,14,10,4,\"Nacrein like protein F\",\"Nacrein\",\"Crassostrea gigas\",\"Crassostrea\",3.01650571,\"Mollusca\"],[-1,12,10,4,\"Uncharacterized protein\",\"Uncharacterized\",\"Lepeophtheirus salmonis\",\"Lepeophtheirus\",3.34308881,\"Arthropoda\"],[-1,12,10,4,\"Neuroglobinlike [Maylandia zebra]\",\"Neuroglobin\",\"Lepeophtheirus salmonis\",\"Lepeophtheirus\",3.308708769999999,\"Arthropoda\"]],\"hovertemplate\":\"<b>%{hovertext}</b><br><br>tree3=%{customdata[2]}<br>pm1=%{x}<br>pm2=%{y}<br>tree1=%{customdata[0]}<br>tree2=%{customdata[1]}<br>tree4=%{customdata[3]}<br>full_name=%{customdata[4]}<br>short_name=%{customdata[5]}<br>full_species=%{customdata[6]}<br>short_species=%{customdata[7]}<br>evo_distance=%{customdata[8]}<br>Color_species=%{customdata[9]}<extra></extra>\",\"hovertext\":[10,10,10,10,10,10,10,10,10,10,10,10,10,10,10,10,10,10,10,10,10,10,10,10,10,10,10,10,10,10,10],\"legendgroup\":\"10\",\"marker\":{\"color\":\"#636efa\",\"symbol\":\"circle\"},\"mode\":\"markers\",\"name\":\"10\",\"orientation\":\"v\",\"showlegend\":true,\"x\":[0.6500369,-0.49590597,0.7909658,0.16060437,0.4081354,0.72168154,0.61055416,-0.1315449,0.33176607,0.30142072,-0.5342931,-0.15158474,-0.5364996,-0.5339802,-0.5347052,-0.19948049,0.64363575,0.6735605,0.5277837,0.6798885,-0.7226689,-0.75032014,-0.7859799,-0.09645076,-0.055745635,-0.14396001,0.79303044,-0.17929602,0.7188375,0.6059283,-0.110601425],\"xaxis\":\"x\",\"y\":[0.40024668,0.3758664,-0.15562886,0.61005914,0.23878913,0.5632637,0.36784494,0.9268101,0.747024,0.7723936,-0.4110968,0.9228651,-0.41049123,-0.40929535,-0.41264942,-0.109079964,0.3542167,0.29982114,0.29208454,0.34316692,0.023164371,-0.02098338,0.35460365,-0.57741106,-0.8915972,-0.56771183,-0.11333765,0.9032784,0.5358482,-0.70642424,0.8890422],\"yaxis\":\"y\",\"type\":\"scatter\",\"textposition\":\"top right\"},{\"customdata\":[[29,20,12,5,\"Cytoglobin b\",\"Cytoglobin\",\"Xenopus laevis\",\"Xenopus\",2.2875242,\"Chordata\"],[29,20,12,5,\"Uncharacterized protein\",\"Uncharacterized\",\"Oreochromis niloticus\",\"Oreochromis\",2.19807532,\"Chordata\"],[29,20,12,5,\"Cytoglobin\",\"Cytoglobin\",\"Nothobranchius korthausae\",\"Nothobranchius\",2.2776364,\"Chordata\"],[28,20,12,5,\"Uncharacterized protein (Fragment)\",\"Uncharacterized\",\"Gasterosteus aculeatus\",\"Gasterosteus\",2.2892364899999995,\"Chordata\"],[29,20,12,5,\"Cytoglobin\",\"Cytoglobin\",\"Bos mutus\",\"Bos\",2.42091472,\"Chordata\"],[29,20,12,5,\"Cytoglobin 1\",\"Cytoglobin\",\"Iguana iguana\",\"Iguana\",2.26895595,\"Chordata\"],[28,20,12,5,\"Cytoglobin 1\",\"Cytoglobin\",\"Oryzias latipes\",\"Oryzias\",2.25311924,\"Chordata\"],[29,20,12,5,\"Uncharacterized protein\",\"Uncharacterized\",\"Anas platyrhynchos\",\"Anas\",2.24009126,\"Chordata\"],[28,20,12,5,\"Uncharacterized protein\",\"Uncharacterized\",\"Tetraodon nigroviridis\",\"Tetraodon\",2.4499165100000004,\"Chordata\"],[28,20,12,5,\"Uncharacterized protein (Fragment)\",\"Uncharacterized\",\"Takifugu rubripes\",\"Takifugu\",2.4839830600000004,\"Chordata\"],[29,20,12,5,\"Cytoglobin 2\",\"Cytoglobin\",\"Tetraodon nigroviridis\",\"Tetraodon\",2.23168579,\"Chordata\"],[29,20,12,5,\"Uncharacterized protein\",\"Uncharacterized\",\"Tetraodon nigroviridis\",\"Tetraodon\",2.36374552,\"Chordata\"],[28,20,12,5,\"Uncharacterized protein\",\"Uncharacterized\",\"Xiphophorus maculatus\",\"Xiphophorus\",2.2426578000000004,\"Chordata\"],[28,20,12,5,\"Cytoglobin 1\",\"Cytoglobin\",\"Larimichthys crocea\",\"Larimichthys\",2.27502112,\"Chordata\"],[29,20,12,5,\"Uncharacterized protein\",\"Uncharacterized\",\"Oncorhynchus mykiss\",\"Oncorhynchus\",2.20579096,\"Chordata\"],[28,20,12,5,\"Cytoglobin 1\",\"Cytoglobin\",\"Nothobranchius pienaari\",\"Nothobranchius\",2.2369473400000004,\"Chordata\"],[29,20,12,5,\"Cytoglobin\",\"Cytoglobin\",\"Alligator mississippiensis\",\"Alligator\",2.16168743,\"Chordata\"],[29,20,12,5,\"Uncharacterized protein\",\"Uncharacterized\",\"Astyanax mexicanus\",\"Astyanax\",2.05393176,\"Chordata\"],[29,20,12,5,\"Uncharacterized protein\",\"Uncharacterized\",\"Latimeria chalumnae\",\"Latimeria\",2.23058219,\"Chordata\"],[29,20,12,5,\"Cytoglobin 2\",\"Cytoglobin\",\"Ictalurus punctatus\",\"Ictalurus\",2.12180628,\"Chordata\"],[28,20,12,5,\"Cytoglobin\",\"Cytoglobin\",\"Chaenocephalus aceratus\",\"Chaenocephalus\",2.27395144,\"Chordata\"],[29,20,12,5,\"Cygb2 protein\",\"Cygb2\",\"Danio rerio\",\"Danio\",2.05149233,\"Chordata\"],[28,20,12,5,\"Uncharacterized protein\",\"Uncharacterized\",\"Oreochromis niloticus\",\"Oreochromis\",2.15346116,\"Chordata\"],[28,20,12,5,\"Cytoglobin\",\"Cytoglobin\",\"Oncorhynchus mykiss\",\"Oncorhynchus\",2.15784398,\"Chordata\"],[31,20,12,5,\"Uncharacterized protein\",\"Uncharacterized\",\"Astyanax mexicanus\",\"Astyanax\",2.18361902,\"Chordata\"],[31,20,12,5,\"Cytoglobin 1\",\"Cytoglobin\",\"Cyprinus carpio\",\"Cyprinus\",2.06025855,\"Chordata\"],[29,20,12,5,\"Cytoglobin\",\"Cytoglobin\",\"Callorhinchus milii\",\"Callorhinchus\",2.39273588,\"Chordata\"],[31,20,12,5,\"Cytoglobin 1\",\"Cytoglobin\",\"Danio rerio\",\"Danio\",2.16806595,\"Chordata\"],[31,20,12,5,\"Cytoglobin 1\",\"Cytoglobin\",\"Ictalurus punctatus\",\"Ictalurus\",2.19052877,\"Chordata\"],[-1,21,12,5,\"Uncharacterized protein (Fragment)\",\"Uncharacterized\",\"Petromyzon marinus\",\"Petromyzon\",2.23124498,\"Chordata\"],[30,21,12,5,\"Hemoglobin 4\",\"Hemoglobin\",\"Lethenteron camtschaticum\",\"Lethenteron\",2.45118652,\"Chordata\"],[30,21,12,5,\"Uncharacterized protein\",\"Uncharacterized\",\"Petromyzon marinus\",\"Petromyzon\",2.3065607,\"Chordata\"],[30,21,12,5,\"Uncharacterized protein\",\"Uncharacterized\",\"Petromyzon marinus\",\"Petromyzon\",2.36968937,\"Chordata\"],[29,20,12,5,\"Cytoglobin (Fragment)\",\"Cytoglobin\",\"Fundulus heteroclitus\",\"Fundulus\",2.23162917,\"Chordata\"],[28,20,12,5,\"Cytoglobin (Fragment)\",\"Cytoglobin\",\"Fundulus heteroclitus\",\"Fundulus\",2.29198432,\"Chordata\"],[29,20,12,5,\"Inactive rhomboid protein 2\",\"Inactive\",\"Tupaia chinensis\",\"Tupaia\",2.24573612,\"Chordata\"]],\"hovertemplate\":\"<b>%{hovertext}</b><br><br>tree3=%{customdata[2]}<br>pm1=%{x}<br>pm2=%{y}<br>tree1=%{customdata[0]}<br>tree2=%{customdata[1]}<br>tree4=%{customdata[3]}<br>full_name=%{customdata[4]}<br>short_name=%{customdata[5]}<br>full_species=%{customdata[6]}<br>short_species=%{customdata[7]}<br>evo_distance=%{customdata[8]}<br>Color_species=%{customdata[9]}<extra></extra>\",\"hovertext\":[12,12,12,12,12,12,12,12,12,12,12,12,12,12,12,12,12,12,12,12,12,12,12,12,12,12,12,12,12,12,12,12,12,12,12,12],\"legendgroup\":\"12\",\"marker\":{\"color\":\"#EF553B\",\"symbol\":\"circle\"},\"mode\":\"markers\",\"name\":\"12\",\"orientation\":\"v\",\"showlegend\":true,\"x\":[-0.11182461,-0.12484194,0.19751628,-0.14622931,0.5950908,0.010904459,-0.007971015,-0.2695383,-0.64704186,-0.6578874,-0.6468805,-0.36039096,-0.52564996,0.6588514,-0.7910604,0.64260054,0.13780254,0.6551056,0.59858215,-0.10136136,-0.52324814,-0.51746935,-0.52491933,-0.5032972,-0.5190584,0.70167416,-0.6906597,-0.7280466,-0.5198298,0.015917838,-0.7718939,-0.75409937,-0.35142243,0.70982385,-0.598217,-0.5986753],\"xaxis\":\"x\",\"y\":[0.91172326,0.8938079,0.631803,0.9063815,-0.7038856,0.83840674,0.8818296,-0.2235702,0.14796443,0.15031342,0.14548343,-0.7797124,-0.6105305,-0.18485534,0.21122983,-0.14725423,0.6706289,0.25932726,0.273114,0.9250609,0.5321901,0.5306958,0.52723145,0.49518847,0.49543232,-0.16473268,0.06590054,0.19253223,0.52673095,0.15486674,0.1463905,-0.02024039,-0.7899473,-0.18924561,-0.70685166,-0.7276287],\"yaxis\":\"y\",\"type\":\"scatter\",\"textposition\":\"top right\"},{\"customdata\":[[-1,18,13,5,\"Uncharacterized protein\",\"Uncharacterized\",\"Lepisosteus oculatus\",\"Lepisosteus\",2.35310711,\"Chordata\"],[27,19,13,5,\"Hemoglobin subunit alpha\",\"Hemoglobin\",\"Cavia porcellus\",\"Cavia\",2.68180205,\"Chordata\"],[27,19,13,5,\"Hemoglobin subunit alpha 2\",\"Hemoglobin\",\"Scalopus aquaticus\",\"Scalopus\",2.59465681,\"Chordata\"],[26,19,13,5,\"Uncharacterized protein\",\"Uncharacterized\",\"Neotoma lepida\",\"Neotoma\",2.63834495,\"Chordata\"],[25,18,13,5,\"Globin Y\",\"Globin\",\"Callorhinchus milii\",\"Callorhinchus\",2.51505937,\"Chordata\"],[25,18,13,5,\"Uncharacterized protein\",\"Uncharacterized\",\"Latimeria chalumnae\",\"Latimeria\",2.29929786,\"Chordata\"],[24,18,13,5,\"Uncharacterized protein\",\"Uncharacterized\",\"Xenopus tropicalis\",\"Xenopus\",2.51423061,\"Chordata\"],[24,18,13,5,\"Globin Y\",\"Globin\",\"Xenopus laevis\",\"Xenopus\",2.4560224799999992,\"Chordata\"],[-1,18,13,5,\"Uncharacterized protein\",\"Uncharacterized\",\"Pelodiscus sinensis\",\"Pelodiscus\",2.69837249,\"Chordata\"],[26,19,13,5,\"Hemoglobin subunit rho\",\"Hemoglobin\",\"Alligator mississippiensis\",\"Alligator\",2.98389637,\"Chordata\"],[26,19,13,5,\"Uncharacterized protein\",\"Uncharacterized\",\"Nomascus leucogenys\",\"Nomascus\",2.77009221,\"Chordata\"]],\"hovertemplate\":\"<b>%{hovertext}</b><br><br>tree3=%{customdata[2]}<br>pm1=%{x}<br>pm2=%{y}<br>tree1=%{customdata[0]}<br>tree2=%{customdata[1]}<br>tree4=%{customdata[3]}<br>full_name=%{customdata[4]}<br>short_name=%{customdata[5]}<br>full_species=%{customdata[6]}<br>short_species=%{customdata[7]}<br>evo_distance=%{customdata[8]}<br>Color_species=%{customdata[9]}<extra></extra>\",\"hovertext\":[13,13,13,13,13,13,13,13,13,13,13],\"legendgroup\":\"13\",\"marker\":{\"color\":\"#00cc96\",\"symbol\":\"circle\"},\"mode\":\"markers\",\"name\":\"13\",\"orientation\":\"v\",\"showlegend\":true,\"x\":[-0.93756646,-0.14201686,-0.10238383,-0.05981608,-0.34036818,-0.079138026,-0.34155288,-0.043199625,-0.045396306,0.6073973,-0.9483727],\"xaxis\":\"x\",\"y\":[0.09065441,-0.58833104,-0.5568131,-0.90167433,-0.7931538,-0.89875466,-0.7803862,-0.8934275,-0.9082332,-0.63335985,0.08645987],\"yaxis\":\"y\",\"type\":\"scatter\",\"textposition\":\"top right\"},{\"customdata\":[[-1,-1,6,3,\"Globin\",\"Globin\",\"Gemmatirosa kalamazoonesis\",\"Gemmatirosa\",2.9048387,\"Bacteria\"],[-1,9,6,3,\"Globin\",\"Globin\",\"Gemmatirosa kalamazoonesis\",\"Gemmatirosa\",3.0073288499999995,\"Bacteria\"],[-1,9,6,3,\"Hemin receptor\",\"Hemin\",\"Halothiobacillus sp.\",\"Halothiobacillus\",2.5347764,\"Bacteria\"],[15,8,6,3,\"ARAD1D45562p\",\"ARAD1D45562p\",\"Blastobotrys adeninivorans\",\"Blastobotrys\",3.65177433,\"Fungi\"],[15,8,6,3,\"CYFA0S05e02454g1_1\",\"CYFA0S05e02454g1_1\",\"Cyberlindnera fabianii\",\"Cyberlindnera\",4.11857393,\"Fungi\"]],\"hovertemplate\":\"<b>%{hovertext}</b><br><br>tree3=%{customdata[2]}<br>pm1=%{x}<br>pm2=%{y}<br>tree1=%{customdata[0]}<br>tree2=%{customdata[1]}<br>tree4=%{customdata[3]}<br>full_name=%{customdata[4]}<br>short_name=%{customdata[5]}<br>full_species=%{customdata[6]}<br>short_species=%{customdata[7]}<br>evo_distance=%{customdata[8]}<br>Color_species=%{customdata[9]}<extra></extra>\",\"hovertext\":[6,6,6,6,6],\"legendgroup\":\"6\",\"marker\":{\"color\":\"#ab63fa\",\"symbol\":\"circle\"},\"mode\":\"markers\",\"name\":\"6\",\"orientation\":\"v\",\"showlegend\":true,\"x\":[-0.7885644,0.0499429,0.7758109,0.025692333,-0.15861169],\"xaxis\":\"x\",\"y\":[0.16613492,0.9000002,-0.14065236,0.8855403,0.9050896],\"yaxis\":\"y\",\"type\":\"scatter\",\"textposition\":\"top right\"},{\"customdata\":[[-1,15,7,4,\"Predicted protein\",\"Predicted\",\"Nematostella vectensis\",\"Nematostella\",3.06309082,\"Cnidaria\"],[20,15,7,4,\"Predicted protein\",\"Predicted\",\"Nematostella vectensis\",\"Nematostella\",2.69558275,\"Cnidaria\"],[-1,15,7,4,\"Predicted protein\",\"Predicted\",\"Nematostella vectensis\",\"Nematostella\",2.74661692,\"Cnidaria\"],[20,15,7,4,\"Predicted protein\",\"Predicted\",\"Nematostella vectensis\",\"Nematostella\",2.46698831,\"Cnidaria\"]],\"hovertemplate\":\"<b>%{hovertext}</b><br><br>tree3=%{customdata[2]}<br>pm1=%{x}<br>pm2=%{y}<br>tree1=%{customdata[0]}<br>tree2=%{customdata[1]}<br>tree4=%{customdata[3]}<br>full_name=%{customdata[4]}<br>short_name=%{customdata[5]}<br>full_species=%{customdata[6]}<br>short_species=%{customdata[7]}<br>evo_distance=%{customdata[8]}<br>Color_species=%{customdata[9]}<extra></extra>\",\"hovertext\":[7,7,7,7],\"legendgroup\":\"7\",\"marker\":{\"color\":\"#FFA15A\",\"symbol\":\"circle\"},\"mode\":\"markers\",\"name\":\"7\",\"orientation\":\"v\",\"showlegend\":true,\"x\":[0.5998467,0.30224758,0.3227094,0.31431887],\"xaxis\":\"x\",\"y\":[0.26957676,0.75617963,0.7654695,0.74713266],\"yaxis\":\"y\",\"type\":\"scatter\",\"textposition\":\"top right\"},{\"customdata\":[[43,31,17,10,\"Globin 2 A chain\",\"Globin\",\"Anadara inaequivalvis\",\"Anadara\",2.93935263,\"Mollusca\"],[-1,-1,17,10,\"Nerve hemoglobin\",\"Hemoglobin\",\"Spisula solidissima\",\"Spisula\",2.92864342,\"Mollusca\"],[-1,31,17,10,\"Hemoglobin (Heterodimeric)\",\"Hemoglobin\",\"Barbatia virescens\",\"Barbatia\",2.80988922,\"Mollusca\"],[43,31,17,10,\"Globin, minor\",\"Globin,\",\"Anadara trapezia\",\"Anadara\",3.2788812000000003,\"Mollusca\"],[43,31,17,10,\"Globin 2 B chain\",\"Globin\",\"Anadara inaequivalvis\",\"Anadara\",3.13812794,\"Mollusca\"],[-1,-1,17,10,\"Hemoglobin II\",\"Hemoglobin\",\"Phacoides pectinatus\",\"Phacoides\",2.9455253599999995,\"Mollusca\"],[44,30,17,10,\"Two domain chain of the polymeric hemoglobin (Intracellular)\",\"Hemoglobin\",\"Barbatia lima\",\"Barbatia\",2.72130571,\"Mollusca\"],[44,30,17,10,\"Hemoglobin (2 domain)\",\"Hemoglobin\",\"Barbatia lima\",\"Barbatia\",2.73232709,\"Mollusca\"]],\"hovertemplate\":\"<b>%{hovertext}</b><br><br>tree3=%{customdata[2]}<br>pm1=%{x}<br>pm2=%{y}<br>tree1=%{customdata[0]}<br>tree2=%{customdata[1]}<br>tree4=%{customdata[3]}<br>full_name=%{customdata[4]}<br>short_name=%{customdata[5]}<br>full_species=%{customdata[6]}<br>short_species=%{customdata[7]}<br>evo_distance=%{customdata[8]}<br>Color_species=%{customdata[9]}<extra></extra>\",\"hovertext\":[17,17,17,17,17,17,17,17],\"legendgroup\":\"17\",\"marker\":{\"color\":\"#19d3f3\",\"symbol\":\"circle\"},\"mode\":\"markers\",\"name\":\"17\",\"orientation\":\"v\",\"showlegend\":true,\"x\":[-0.7446855,-0.74886465,-0.75616246,-0.7482312,-0.85765845,0.62580186,0.58423847,0.58743805],\"xaxis\":\"x\",\"y\":[-0.010830863,-0.009368073,0.11290688,0.23794092,0.102216855,0.26553413,-0.60826933,-0.27700016],\"yaxis\":\"y\",\"type\":\"scatter\",\"textposition\":\"top right\"},{\"customdata\":[[2,1,2,1,\"Globin 2\",\"Globin\",\"Chironomus riparius\",\"Chironomus\",2.70002825,\"Arthropoda\"],[1,1,2,1,\"Globin\",\"Globin\",\"Polypedilum nubifer\",\"Polypedilum\",2.36102778,\"Arthropoda\"],[1,1,2,1,\"Globin\",\"Globin\",\"Polypedilum vanderplanki\",\"Polypedilum\",2.43793183,\"Arthropoda\"],[3,1,2,1,\"Globin\",\"Globin\",\"Polypedilum vanderplanki\",\"Polypedilum\",2.2183017099999995,\"Arthropoda\"],[2,1,2,1,\"Globin\",\"Globin\",\"Polypedilum nubifer\",\"Polypedilum\",2.47503634,\"Arthropoda\"],[3,1,2,1,\"Globin\",\"Globin\",\"Polypedilum nubifer\",\"Polypedilum\",2.35802433,\"Arthropoda\"],[3,1,2,1,\"Globin\",\"Globin\",\"Polypedilum vanderplanki\",\"Polypedilum\",2.28362716,\"Arthropoda\"],[3,1,2,1,\"Globin 11\",\"Globin\",\"Chironomus riparius\",\"Chironomus\",2.29971074,\"Arthropoda\"],[1,1,2,1,\"ORF E protein\",\"ORF\",\"Chironomus tentans\",\"Chironomus\",2.85858686,\"Arthropoda\"],[1,1,2,1,\"Globin\",\"Globin\",\"Polypedilum nubifer\",\"Polypedilum\",2.56719369,\"Arthropoda\"],[1,1,2,1,\"Globin\",\"Globin\",\"Polypedilum nubifer\",\"Polypedilum\",2.57670915,\"Arthropoda\"],[-1,-1,2,1,\"Globin\",\"Globin\",\"Nerita albicilla\",\"Nerita\",2.08733768,\"Mollusca\"]],\"hovertemplate\":\"<b>%{hovertext}</b><br><br>tree3=%{customdata[2]}<br>pm1=%{x}<br>pm2=%{y}<br>tree1=%{customdata[0]}<br>tree2=%{customdata[1]}<br>tree4=%{customdata[3]}<br>full_name=%{customdata[4]}<br>short_name=%{customdata[5]}<br>full_species=%{customdata[6]}<br>short_species=%{customdata[7]}<br>evo_distance=%{customdata[8]}<br>Color_species=%{customdata[9]}<extra></extra>\",\"hovertext\":[2,2,2,2,2,2,2,2,2,2,2,2],\"legendgroup\":\"2\",\"marker\":{\"color\":\"#FF6692\",\"symbol\":\"circle\"},\"mode\":\"markers\",\"name\":\"2\",\"orientation\":\"v\",\"showlegend\":true,\"x\":[-0.81860435,-0.71593803,-0.7104834,-0.4633556,0.18124454,0.27341652,0.80812,0.78444755,0.19617158,-0.49027845,0.143628,0.32396954],\"xaxis\":\"x\",\"y\":[0.11845917,0.16312625,0.22452469,0.356773,0.5253403,0.7051787,-0.42035767,-0.38144624,0.58321905,-0.58250105,0.5988968,0.19287734],\"yaxis\":\"y\",\"type\":\"scatter\",\"textposition\":\"top right\"},{\"customdata\":[[7,5,1,2,\"Di domain hemoglobin\",\"Hemoglobin\",\"Daphnia magna\",\"Daphnia\",2.95378198,\"Arthropoda\"],[7,5,1,2,\"Putative uncharacterized protein\",\"Putative\",\"Daphnia pulex\",\"Daphnia\",2.7632934700000003,\"Arthropoda\"],[7,5,1,2,\"Putative uncharacterized protein\",\"Putative\",\"Daphnia pulex\",\"Daphnia\",2.79767424,\"Arthropoda\"],[9,4,1,2,\"Putative di domain hemoglobin\",\"Hemoglobin\",\"Daphnia magna\",\"Daphnia\",1.84605186,\"Arthropoda\"],[9,4,1,2,\"Putative di domain hemoglobin\",\"Hemoglobin\",\"Daphnia magna\",\"Daphnia\",1.84634758,\"Arthropoda\"],[9,4,1,2,\"Di domain hemoglobin (Fragment)\",\"Hemoglobin\",\"Daphnia magna\",\"Daphnia\",1.75867537,\"Arthropoda\"],[9,4,1,2,\"Di domain hemoglobin (Fragment)\",\"Hemoglobin\",\"Daphnia magna\",\"Daphnia\",1.7849976899999995,\"Arthropoda\"],[9,4,1,2,\"Putative di domain hemoglobin\",\"Hemoglobin\",\"Daphnia magna\",\"Daphnia\",1.99097658,\"Arthropoda\"],[9,4,1,2,\"Putative di domain hemoglobin (Fragment)\",\"Hemoglobin\",\"Daphnia magna\",\"Daphnia\",1.89847506,\"Arthropoda\"],[9,4,1,2,\"Putative di domain hemoglobin\",\"Hemoglobin\",\"Daphnia magna\",\"Daphnia\",2.00307168,\"Arthropoda\"],[-1,5,1,2,\"Di domain hemoglobin (Fragment)\",\"Hemoglobin\",\"Daphnia magna\",\"Daphnia\",2.36856662,\"Arthropoda\"],[6,5,1,2,\"Di domain hemoglobin\",\"Hemoglobin\",\"Daphnia magna\",\"Daphnia\",3.08054532,\"Arthropoda\"],[9,4,1,2,\"Putative uncharacterized protein\",\"Putative\",\"Daphnia pulex\",\"Daphnia\",1.88554508,\"Arthropoda\"],[9,4,1,2,\"Hemoglobin\",\"Hemoglobin\",\"Daphnia magna\",\"Daphnia\",1.82335212,\"Arthropoda\"],[9,4,1,2,\"Hemoglobin\",\"Hemoglobin\",\"Daphnia pulex\",\"Daphnia\",1.85557538,\"Arthropoda\"],[9,4,1,2,\"Hemoglobin\",\"Hemoglobin\",\"Daphnia pulex\",\"Daphnia\",1.88942132,\"Arthropoda\"],[9,4,1,2,\"Hemoglobin\",\"Hemoglobin\",\"Daphnia pulex\",\"Daphnia\",1.91532281,\"Arthropoda\"],[9,4,1,2,\"Di domain hemoglobin\",\"Hemoglobin\",\"Daphnia magna\",\"Daphnia\",1.92797924,\"Arthropoda\"],[8,5,1,2,\"Putative uncharacterized protein (Fragment)\",\"Putative\",\"Daphnia pulex\",\"Daphnia\",2.34983516,\"Arthropoda\"],[8,5,1,2,\"Uncharacterized protein (Fragment)\",\"Uncharacterized\",\"Daphnia magna\",\"Daphnia\",2.22413281,\"Arthropoda\"],[9,4,1,2,\"Putative di domain hemoglobin (Fragment)\",\"Hemoglobin\",\"Daphnia magna\",\"Daphnia\",1.97351688,\"Arthropoda\"],[9,4,1,2,\"Di domain hemoglobin\",\"Hemoglobin\",\"Daphnia magna\",\"Daphnia\",2.01628845,\"Arthropoda\"],[6,5,1,2,\"Di domain hemoglobin (Fragment)\",\"Hemoglobin\",\"Daphnia magna\",\"Daphnia\",2.94537689,\"Arthropoda\"],[9,4,1,2,\"Di domain hemoglobin like protein\",\"Hemoglobin\",\"Daphnia magna\",\"Daphnia\",2.34751979,\"Arthropoda\"]],\"hovertemplate\":\"<b>%{hovertext}</b><br><br>tree3=%{customdata[2]}<br>pm1=%{x}<br>pm2=%{y}<br>tree1=%{customdata[0]}<br>tree2=%{customdata[1]}<br>tree4=%{customdata[3]}<br>full_name=%{customdata[4]}<br>short_name=%{customdata[5]}<br>full_species=%{customdata[6]}<br>short_species=%{customdata[7]}<br>evo_distance=%{customdata[8]}<br>Color_species=%{customdata[9]}<extra></extra>\",\"hovertext\":[1,1,1,1,1,1,1,1,1,1,1,1,1,1,1,1,1,1,1,1,1,1,1,1],\"legendgroup\":\"1\",\"marker\":{\"color\":\"#B6E880\",\"symbol\":\"circle\"},\"mode\":\"markers\",\"name\":\"1\",\"orientation\":\"v\",\"showlegend\":true,\"x\":[-0.8164794,-0.7926832,-0.70347965,-0.09397491,-0.093094654,-0.35065097,-0.22166616,-0.11796993,-0.076021634,-0.39125487,0.6793451,0.89725477,0.93731207,0.93061686,-0.49646527,0.926886,-0.947115,-0.8898783,-0.5905347,-0.60905653,-0.87493837,0.020308075,0.6218761,-0.13456859],\"xaxis\":\"x\",\"y\":[0.36660057,0.39813817,0.22336435,-0.5755911,-0.9126502,-0.7778121,-0.46598744,-0.6787792,-0.8779318,-0.46464336,-0.15844549,-6.017034e-05,0.0033471466,0.023667997,-0.5781207,0.035309553,0.089758664,0.06742971,-0.72543716,-0.7188092,0.08880313,0.8972181,-0.21780418,0.87491196],\"yaxis\":\"y\",\"type\":\"scatter\",\"textposition\":\"top right\"},{\"customdata\":[[42,32,16,10,\"Globin\",\"Globin\",\"Nassarius mutabilis\",\"Nassarius\",2.69282831,\"Mollusca\"],[41,32,16,10,\"Uncharacterized protein\",\"Uncharacterized\",\"Lottia gigantea\",\"Lottia\",2.30991023,\"Mollusca\"],[41,32,16,10,\"Uncharacterized protein\",\"Uncharacterized\",\"Lottia gigantea\",\"Lottia\",2.3265049,\"Mollusca\"],[42,32,16,10,\"Globin\",\"Globin\",\"Cerithidea rhizophorarum\",\"Cerithidea\",2.81440342,\"Mollusca\"]],\"hovertemplate\":\"<b>%{hovertext}</b><br><br>tree3=%{customdata[2]}<br>pm1=%{x}<br>pm2=%{y}<br>tree1=%{customdata[0]}<br>tree2=%{customdata[1]}<br>tree4=%{customdata[3]}<br>full_name=%{customdata[4]}<br>short_name=%{customdata[5]}<br>full_species=%{customdata[6]}<br>short_species=%{customdata[7]}<br>evo_distance=%{customdata[8]}<br>Color_species=%{customdata[9]}<extra></extra>\",\"hovertext\":[16,16,16,16],\"legendgroup\":\"16\",\"marker\":{\"color\":\"#FF97FF\",\"symbol\":\"circle\"},\"mode\":\"markers\",\"name\":\"16\",\"orientation\":\"v\",\"showlegend\":true,\"x\":[-0.069210105,-0.09870892,-0.2893338,-0.27599567],\"xaxis\":\"x\",\"y\":[-0.9089581,-0.8985471,-0.3889983,-0.3600956],\"yaxis\":\"y\",\"type\":\"scatter\",\"textposition\":\"top right\"},{\"customdata\":[[-1,-1,-1,8,\"Globin (Fragment)\",\"Globin\",\"Operophtera brumata\",\"Operophtera\",2.5920814199999995,\"Arthropoda\"],[-1,-1,-1,3,\"Predicted protein\",\"Predicted\",\"Nematostella vectensis\",\"Nematostella\",3.13699746,\"Cnidaria\"],[-1,-1,-1,2,\"Putative di domain hemoglobin (Fragment)\",\"Hemoglobin\",\"Daphnia magna\",\"Daphnia\",2.5254769,\"Arthropoda\"]],\"hovertemplate\":\"<b>%{hovertext}</b><br><br>tree3=%{customdata[2]}<br>pm1=%{x}<br>pm2=%{y}<br>tree1=%{customdata[0]}<br>tree2=%{customdata[1]}<br>tree4=%{customdata[3]}<br>full_name=%{customdata[4]}<br>short_name=%{customdata[5]}<br>full_species=%{customdata[6]}<br>short_species=%{customdata[7]}<br>evo_distance=%{customdata[8]}<br>Color_species=%{customdata[9]}<extra></extra>\",\"hovertext\":[-1,-1,-1],\"legendgroup\":\"-1\",\"marker\":{\"color\":\"#FECB52\",\"symbol\":\"circle\"},\"mode\":\"markers\",\"name\":\"-1\",\"orientation\":\"v\",\"showlegend\":true,\"x\":[-0.60345304,-0.695575,0.40150827],\"xaxis\":\"x\",\"y\":[-0.71854043,0.06668209,0.23468396],\"yaxis\":\"y\",\"type\":\"scatter\",\"textposition\":\"top right\"},{\"customdata\":[[46,35,19,10,\"Globin\",\"Globin\",\"Ancylostoma ceylanicum\",\"Ancylostoma\",2.22981155,\"Nematoda\"],[46,35,19,10,\"Uncharacterized protein\",\"Uncharacterized\",\"Angiostrongylus costaricensis\",\"Angiostrongylus\",2.13371016,\"Nematoda\"],[46,35,19,10,\"Globin\",\"Globin\",\"Necator americanus\",\"Necator\",2.35159293,\"Nematoda\"],[-1,-1,19,10,\"Cytoglobin1like [Saccoglossus kowalevskii]\",\"Cytoglobin\",\"Lepeophtheirus salmonis\",\"Lepeophtheirus\",2.17551995,\"Arthropoda\"]],\"hovertemplate\":\"<b>%{hovertext}</b><br><br>tree3=%{customdata[2]}<br>pm1=%{x}<br>pm2=%{y}<br>tree1=%{customdata[0]}<br>tree2=%{customdata[1]}<br>tree4=%{customdata[3]}<br>full_name=%{customdata[4]}<br>short_name=%{customdata[5]}<br>full_species=%{customdata[6]}<br>short_species=%{customdata[7]}<br>evo_distance=%{customdata[8]}<br>Color_species=%{customdata[9]}<extra></extra>\",\"hovertext\":[19,19,19,19],\"legendgroup\":\"19\",\"marker\":{\"color\":\"#636efa\",\"symbol\":\"circle\"},\"mode\":\"markers\",\"name\":\"19\",\"orientation\":\"v\",\"showlegend\":true,\"x\":[-0.5930902,-0.6132901,-0.60517776,0.6959311],\"xaxis\":\"x\",\"y\":[-0.7202468,-0.7051645,-0.732599,-0.12115786],\"yaxis\":\"y\",\"type\":\"scatter\",\"textposition\":\"top right\"},{\"customdata\":[[32,22,11,5,\"Hemoglobin (Fragment)\",\"Hemoglobin\",\"Biomphalaria glabrata\",\"Biomphalaria\",3.48471231,\"Mollusca\"],[32,22,11,5,\"Uncharacterized protein\",\"Uncharacterized\",\"Biomphalaria glabrata\",\"Biomphalaria\",3.63841564,\"Mollusca\"],[32,22,11,5,\"Uncharacterized protein\",\"Uncharacterized\",\"Biomphalaria glabrata\",\"Biomphalaria\",3.38373079,\"Mollusca\"],[32,22,11,5,\"Haemoglobin type 1\",\"Hemoglobin\",\"Biomphalaria glabrata\",\"Biomphalaria\",3.53221633,\"Mollusca\"],[32,22,11,5,\"Uncharacterized protein\",\"Uncharacterized\",\"Biomphalaria glabrata\",\"Biomphalaria\",3.61489538,\"Mollusca\"]],\"hovertemplate\":\"<b>%{hovertext}</b><br><br>tree3=%{customdata[2]}<br>pm1=%{x}<br>pm2=%{y}<br>tree1=%{customdata[0]}<br>tree2=%{customdata[1]}<br>tree4=%{customdata[3]}<br>full_name=%{customdata[4]}<br>short_name=%{customdata[5]}<br>full_species=%{customdata[6]}<br>short_species=%{customdata[7]}<br>evo_distance=%{customdata[8]}<br>Color_species=%{customdata[9]}<extra></extra>\",\"hovertext\":[11,11,11,11,11],\"legendgroup\":\"11\",\"marker\":{\"color\":\"#EF553B\",\"symbol\":\"circle\"},\"mode\":\"markers\",\"name\":\"11\",\"orientation\":\"v\",\"showlegend\":true,\"x\":[-0.89327544,0.40750816,0.40140373,0.03716398,-0.12843391],\"xaxis\":\"x\",\"y\":[0.11009832,0.2484631,0.2543575,0.87955797,-0.54958564],\"yaxis\":\"y\",\"type\":\"scatter\",\"textposition\":\"top right\"},{\"customdata\":[[-1,25,15,8,\"Metalloendopeptidase\",\"Metalloendopeptidase\",\"Globodera pallida\",\"Globodera\",2.86594104,\"Nematoda\"],[-1,25,15,8,\"Uncharacterized protein\",\"Uncharacterized\",\"Strongyloides stercoralis\",\"Strongyloides\",3.19295417,\"Nematoda\"]],\"hovertemplate\":\"<b>%{hovertext}</b><br><br>tree3=%{customdata[2]}<br>pm1=%{x}<br>pm2=%{y}<br>tree1=%{customdata[0]}<br>tree2=%{customdata[1]}<br>tree4=%{customdata[3]}<br>full_name=%{customdata[4]}<br>short_name=%{customdata[5]}<br>full_species=%{customdata[6]}<br>short_species=%{customdata[7]}<br>evo_distance=%{customdata[8]}<br>Color_species=%{customdata[9]}<extra></extra>\",\"hovertext\":[15,15],\"legendgroup\":\"15\",\"marker\":{\"color\":\"#00cc96\",\"symbol\":\"circle\"},\"mode\":\"markers\",\"name\":\"15\",\"orientation\":\"v\",\"showlegend\":true,\"x\":[-0.48973548,-0.7014176],\"xaxis\":\"x\",\"y\":[-0.5898779,0.10629031],\"yaxis\":\"y\",\"type\":\"scatter\",\"textposition\":\"top right\"}],                        {\"template\":{\"data\":{\"histogram2dcontour\":[{\"type\":\"histogram2dcontour\",\"colorbar\":{\"outlinewidth\":0,\"ticks\":\"\"},\"colorscale\":[[0.0,\"#0d0887\"],[0.1111111111111111,\"#46039f\"],[0.2222222222222222,\"#7201a8\"],[0.3333333333333333,\"#9c179e\"],[0.4444444444444444,\"#bd3786\"],[0.5555555555555556,\"#d8576b\"],[0.6666666666666666,\"#ed7953\"],[0.7777777777777778,\"#fb9f3a\"],[0.8888888888888888,\"#fdca26\"],[1.0,\"#f0f921\"]]}],\"choropleth\":[{\"type\":\"choropleth\",\"colorbar\":{\"outlinewidth\":0,\"ticks\":\"\"}}],\"histogram2d\":[{\"type\":\"histogram2d\",\"colorbar\":{\"outlinewidth\":0,\"ticks\":\"\"},\"colorscale\":[[0.0,\"#0d0887\"],[0.1111111111111111,\"#46039f\"],[0.2222222222222222,\"#7201a8\"],[0.3333333333333333,\"#9c179e\"],[0.4444444444444444,\"#bd3786\"],[0.5555555555555556,\"#d8576b\"],[0.6666666666666666,\"#ed7953\"],[0.7777777777777778,\"#fb9f3a\"],[0.8888888888888888,\"#fdca26\"],[1.0,\"#f0f921\"]]}],\"heatmap\":[{\"type\":\"heatmap\",\"colorbar\":{\"outlinewidth\":0,\"ticks\":\"\"},\"colorscale\":[[0.0,\"#0d0887\"],[0.1111111111111111,\"#46039f\"],[0.2222222222222222,\"#7201a8\"],[0.3333333333333333,\"#9c179e\"],[0.4444444444444444,\"#bd3786\"],[0.5555555555555556,\"#d8576b\"],[0.6666666666666666,\"#ed7953\"],[0.7777777777777778,\"#fb9f3a\"],[0.8888888888888888,\"#fdca26\"],[1.0,\"#f0f921\"]]}],\"heatmapgl\":[{\"type\":\"heatmapgl\",\"colorbar\":{\"outlinewidth\":0,\"ticks\":\"\"},\"colorscale\":[[0.0,\"#0d0887\"],[0.1111111111111111,\"#46039f\"],[0.2222222222222222,\"#7201a8\"],[0.3333333333333333,\"#9c179e\"],[0.4444444444444444,\"#bd3786\"],[0.5555555555555556,\"#d8576b\"],[0.6666666666666666,\"#ed7953\"],[0.7777777777777778,\"#fb9f3a\"],[0.8888888888888888,\"#fdca26\"],[1.0,\"#f0f921\"]]}],\"contourcarpet\":[{\"type\":\"contourcarpet\",\"colorbar\":{\"outlinewidth\":0,\"ticks\":\"\"}}],\"contour\":[{\"type\":\"contour\",\"colorbar\":{\"outlinewidth\":0,\"ticks\":\"\"},\"colorscale\":[[0.0,\"#0d0887\"],[0.1111111111111111,\"#46039f\"],[0.2222222222222222,\"#7201a8\"],[0.3333333333333333,\"#9c179e\"],[0.4444444444444444,\"#bd3786\"],[0.5555555555555556,\"#d8576b\"],[0.6666666666666666,\"#ed7953\"],[0.7777777777777778,\"#fb9f3a\"],[0.8888888888888888,\"#fdca26\"],[1.0,\"#f0f921\"]]}],\"surface\":[{\"type\":\"surface\",\"colorbar\":{\"outlinewidth\":0,\"ticks\":\"\"},\"colorscale\":[[0.0,\"#0d0887\"],[0.1111111111111111,\"#46039f\"],[0.2222222222222222,\"#7201a8\"],[0.3333333333333333,\"#9c179e\"],[0.4444444444444444,\"#bd3786\"],[0.5555555555555556,\"#d8576b\"],[0.6666666666666666,\"#ed7953\"],[0.7777777777777778,\"#fb9f3a\"],[0.8888888888888888,\"#fdca26\"],[1.0,\"#f0f921\"]]}],\"mesh3d\":[{\"type\":\"mesh3d\",\"colorbar\":{\"outlinewidth\":0,\"ticks\":\"\"}}],\"scatter\":[{\"fillpattern\":{\"fillmode\":\"overlay\",\"size\":10,\"solidity\":0.2},\"type\":\"scatter\"}],\"parcoords\":[{\"type\":\"parcoords\",\"line\":{\"colorbar\":{\"outlinewidth\":0,\"ticks\":\"\"}}}],\"scatterpolargl\":[{\"type\":\"scatterpolargl\",\"marker\":{\"colorbar\":{\"outlinewidth\":0,\"ticks\":\"\"}}}],\"bar\":[{\"error_x\":{\"color\":\"#2a3f5f\"},\"error_y\":{\"color\":\"#2a3f5f\"},\"marker\":{\"line\":{\"color\":\"#E5ECF6\",\"width\":0.5},\"pattern\":{\"fillmode\":\"overlay\",\"size\":10,\"solidity\":0.2}},\"type\":\"bar\"}],\"scattergeo\":[{\"type\":\"scattergeo\",\"marker\":{\"colorbar\":{\"outlinewidth\":0,\"ticks\":\"\"}}}],\"scatterpolar\":[{\"type\":\"scatterpolar\",\"marker\":{\"colorbar\":{\"outlinewidth\":0,\"ticks\":\"\"}}}],\"histogram\":[{\"marker\":{\"pattern\":{\"fillmode\":\"overlay\",\"size\":10,\"solidity\":0.2}},\"type\":\"histogram\"}],\"scattergl\":[{\"type\":\"scattergl\",\"marker\":{\"colorbar\":{\"outlinewidth\":0,\"ticks\":\"\"}}}],\"scatter3d\":[{\"type\":\"scatter3d\",\"line\":{\"colorbar\":{\"outlinewidth\":0,\"ticks\":\"\"}},\"marker\":{\"colorbar\":{\"outlinewidth\":0,\"ticks\":\"\"}}}],\"scattermapbox\":[{\"type\":\"scattermapbox\",\"marker\":{\"colorbar\":{\"outlinewidth\":0,\"ticks\":\"\"}}}],\"scatterternary\":[{\"type\":\"scatterternary\",\"marker\":{\"colorbar\":{\"outlinewidth\":0,\"ticks\":\"\"}}}],\"scattercarpet\":[{\"type\":\"scattercarpet\",\"marker\":{\"colorbar\":{\"outlinewidth\":0,\"ticks\":\"\"}}}],\"carpet\":[{\"aaxis\":{\"endlinecolor\":\"#2a3f5f\",\"gridcolor\":\"white\",\"linecolor\":\"white\",\"minorgridcolor\":\"white\",\"startlinecolor\":\"#2a3f5f\"},\"baxis\":{\"endlinecolor\":\"#2a3f5f\",\"gridcolor\":\"white\",\"linecolor\":\"white\",\"minorgridcolor\":\"white\",\"startlinecolor\":\"#2a3f5f\"},\"type\":\"carpet\"}],\"table\":[{\"cells\":{\"fill\":{\"color\":\"#EBF0F8\"},\"line\":{\"color\":\"white\"}},\"header\":{\"fill\":{\"color\":\"#C8D4E3\"},\"line\":{\"color\":\"white\"}},\"type\":\"table\"}],\"barpolar\":[{\"marker\":{\"line\":{\"color\":\"#E5ECF6\",\"width\":0.5},\"pattern\":{\"fillmode\":\"overlay\",\"size\":10,\"solidity\":0.2}},\"type\":\"barpolar\"}],\"pie\":[{\"automargin\":true,\"type\":\"pie\"}]},\"layout\":{\"autotypenumbers\":\"strict\",\"colorway\":[\"#636efa\",\"#EF553B\",\"#00cc96\",\"#ab63fa\",\"#FFA15A\",\"#19d3f3\",\"#FF6692\",\"#B6E880\",\"#FF97FF\",\"#FECB52\"],\"font\":{\"color\":\"#2a3f5f\"},\"hovermode\":\"closest\",\"hoverlabel\":{\"align\":\"left\"},\"paper_bgcolor\":\"white\",\"plot_bgcolor\":\"#E5ECF6\",\"polar\":{\"bgcolor\":\"#E5ECF6\",\"angularaxis\":{\"gridcolor\":\"white\",\"linecolor\":\"white\",\"ticks\":\"\"},\"radialaxis\":{\"gridcolor\":\"white\",\"linecolor\":\"white\",\"ticks\":\"\"}},\"ternary\":{\"bgcolor\":\"#E5ECF6\",\"aaxis\":{\"gridcolor\":\"white\",\"linecolor\":\"white\",\"ticks\":\"\"},\"baxis\":{\"gridcolor\":\"white\",\"linecolor\":\"white\",\"ticks\":\"\"},\"caxis\":{\"gridcolor\":\"white\",\"linecolor\":\"white\",\"ticks\":\"\"}},\"coloraxis\":{\"colorbar\":{\"outlinewidth\":0,\"ticks\":\"\"}},\"colorscale\":{\"sequential\":[[0.0,\"#0d0887\"],[0.1111111111111111,\"#46039f\"],[0.2222222222222222,\"#7201a8\"],[0.3333333333333333,\"#9c179e\"],[0.4444444444444444,\"#bd3786\"],[0.5555555555555556,\"#d8576b\"],[0.6666666666666666,\"#ed7953\"],[0.7777777777777778,\"#fb9f3a\"],[0.8888888888888888,\"#fdca26\"],[1.0,\"#f0f921\"]],\"sequentialminus\":[[0.0,\"#0d0887\"],[0.1111111111111111,\"#46039f\"],[0.2222222222222222,\"#7201a8\"],[0.3333333333333333,\"#9c179e\"],[0.4444444444444444,\"#bd3786\"],[0.5555555555555556,\"#d8576b\"],[0.6666666666666666,\"#ed7953\"],[0.7777777777777778,\"#fb9f3a\"],[0.8888888888888888,\"#fdca26\"],[1.0,\"#f0f921\"]],\"diverging\":[[0,\"#8e0152\"],[0.1,\"#c51b7d\"],[0.2,\"#de77ae\"],[0.3,\"#f1b6da\"],[0.4,\"#fde0ef\"],[0.5,\"#f7f7f7\"],[0.6,\"#e6f5d0\"],[0.7,\"#b8e186\"],[0.8,\"#7fbc41\"],[0.9,\"#4d9221\"],[1,\"#276419\"]]},\"xaxis\":{\"gridcolor\":\"white\",\"linecolor\":\"white\",\"ticks\":\"\",\"title\":{\"standoff\":15},\"zerolinecolor\":\"white\",\"automargin\":true,\"zerolinewidth\":2},\"yaxis\":{\"gridcolor\":\"white\",\"linecolor\":\"white\",\"ticks\":\"\",\"title\":{\"standoff\":15},\"zerolinecolor\":\"white\",\"automargin\":true,\"zerolinewidth\":2},\"scene\":{\"xaxis\":{\"backgroundcolor\":\"#E5ECF6\",\"gridcolor\":\"white\",\"linecolor\":\"white\",\"showbackground\":true,\"ticks\":\"\",\"zerolinecolor\":\"white\",\"gridwidth\":2},\"yaxis\":{\"backgroundcolor\":\"#E5ECF6\",\"gridcolor\":\"white\",\"linecolor\":\"white\",\"showbackground\":true,\"ticks\":\"\",\"zerolinecolor\":\"white\",\"gridwidth\":2},\"zaxis\":{\"backgroundcolor\":\"#E5ECF6\",\"gridcolor\":\"white\",\"linecolor\":\"white\",\"showbackground\":true,\"ticks\":\"\",\"zerolinecolor\":\"white\",\"gridwidth\":2}},\"shapedefaults\":{\"line\":{\"color\":\"#2a3f5f\"}},\"annotationdefaults\":{\"arrowcolor\":\"#2a3f5f\",\"arrowhead\":0,\"arrowwidth\":1},\"geo\":{\"bgcolor\":\"white\",\"landcolor\":\"#E5ECF6\",\"subunitcolor\":\"white\",\"showland\":true,\"showlakes\":true,\"lakecolor\":\"white\"},\"title\":{\"x\":0.05},\"mapbox\":{\"style\":\"light\"}}},\"xaxis\":{\"anchor\":\"y\",\"domain\":[0.0,1.0],\"title\":{\"text\":\"pm1\"},\"range\":[-1.1,1.1],\"constrain\":\"domain\"},\"yaxis\":{\"anchor\":\"x\",\"domain\":[0.0,1.0],\"title\":{\"text\":\"pm2\"},\"scaleanchor\":\"x\",\"scaleratio\":1},\"legend\":{\"title\":{\"text\":\"tree3\"},\"tracegroupgap\":0},\"margin\":{\"t\":60},\"height\":800,\"shapes\":[{\"line\":{\"color\":\"black\",\"dash\":\"dot\"},\"opacity\":0.15,\"type\":\"circle\",\"x0\":-0.47058823529411764,\"x1\":0.47058823529411764,\"y0\":-0.47058823529411764,\"y1\":0.47058823529411764},{\"line\":{\"color\":\"black\",\"dash\":\"dot\"},\"opacity\":0.15,\"type\":\"circle\",\"x0\":-0.6447368421052633,\"x1\":0.6447368421052633,\"y0\":-0.6447368421052633,\"y1\":0.6447368421052633},{\"line\":{\"color\":\"black\",\"dash\":\"dot\"},\"opacity\":0.15,\"type\":\"circle\",\"x0\":-0.7705382436260623,\"x1\":0.7705382436260623,\"y0\":-0.7705382436260623,\"y1\":0.7705382436260623},{\"line\":{\"color\":\"black\",\"dash\":\"dot\"},\"opacity\":0.15,\"type\":\"circle\",\"x0\":-0.8557007125890737,\"x1\":0.8557007125890737,\"y0\":-0.8557007125890737,\"y1\":0.8557007125890737},{\"line\":{\"color\":\"black\",\"dash\":\"dot\"},\"opacity\":0.15,\"type\":\"circle\",\"x0\":-0.9108474990827933,\"x1\":0.9108474990827933,\"y0\":-0.9108474990827933,\"y1\":0.9108474990827933},{\"line\":{\"color\":\"black\",\"dash\":\"dot\"},\"opacity\":0.15,\"type\":\"circle\",\"x0\":-0.9455374041239167,\"x1\":0.9455374041239167,\"y0\":-0.9455374041239167,\"y1\":0.9455374041239167},{\"line\":{\"color\":\"Black\"},\"type\":\"circle\",\"x0\":-1,\"x1\":1,\"xref\":\"x\",\"y0\":-1,\"y1\":1,\"yref\":\"y\"},{\"fillcolor\":\"Black\",\"line\":{\"color\":\"Black\"},\"type\":\"circle\",\"x0\":-0.005,\"x1\":0.005,\"xref\":\"x\",\"y0\":-0.005,\"y1\":0.005,\"yref\":\"y\"}],\"yaxis2\":{\"matches\":\"y\",\"layer\":\"below traces\",\"overlaying\":\"y\"},\"plot_bgcolor\":\"rgba(0, 0, 0, 0)\",\"title\":{\"text\":\"\",\"x\":0.5},\"font\":{\"size\":11}},                        {\"responsive\": true}                    ).then(function(){\n",
       "                            \n",
       "var gd = document.getElementById('2394cdc6-29e3-48e8-a13c-6fc76a2aa46b');\n",
       "var x = new MutationObserver(function (mutations, observer) {{\n",
       "        var display = window.getComputedStyle(gd).display;\n",
       "        if (!display || display === 'none') {{\n",
       "            console.log([gd, 'removed!']);\n",
       "            Plotly.purge(gd);\n",
       "            observer.disconnect();\n",
       "        }}\n",
       "}});\n",
       "\n",
       "// Listen for the removal of the full notebook cells\n",
       "var notebookContainer = gd.closest('#notebook-container');\n",
       "if (notebookContainer) {{\n",
       "    x.observe(notebookContainer, {childList: true});\n",
       "}}\n",
       "\n",
       "// Listen for the clearing of the current output cell\n",
       "var outputEl = gd.closest('.output');\n",
       "if (outputEl) {{\n",
       "    x.observe(outputEl, {childList: true});\n",
       "}}\n",
       "\n",
       "                        })                };                });            </script>        </div>"
      ]
     },
     "metadata": {},
     "output_type": "display_data"
    }
   ],
   "source": [
    "# OPTIONS =================================================\n",
    "#Here you can set different parameters to color & annotate the resulting projection:\n",
    "title = \"\"\n",
    "#----------------------------------------------------------\n",
    "# Select the coloring from annotation .csv file:\n",
    "labels_name = \"tree3\"\n",
    "# Select classes to label among the \"labels_name\" or \"second_labels_name\" column (list of labels):\n",
    "second_labels_name = \"\"\n",
    "labels_text = []\n",
    "show_text = True\n",
    "#----------------------------------------------------------\n",
    "# Use a custom color palette:\n",
    "color_palette = None #Default: None\n",
    "use_custom_palette = False\n",
    "# Select projection center:\n",
    "id_for_rotation = None #Default: None\n",
    "use_selected_center = False\n",
    "#==========================================================\n",
    "\n",
    "\n",
    "#Check projection visualization parameters\n",
    "#Labels name\n",
    "if labels_name == \"\":\n",
    "    labels_name = None\n",
    "elif labels_name not in annotation_names:\n",
    "    raise NameError(f\"labels_name {labels_name} is not in the availables annotations.\\nAvailables annotations: {annotation_names}\")\n",
    "#Second labels name\n",
    "if second_labels_name == \"\":\n",
    "    second_labels_name = None\n",
    "elif second_labels_name not in annotation_names:\n",
    "    raise NameError(f'\"second_labels_name\" {second_labels_name} is not in the availables annotations.\\nAvailables annotations: {annotation_names}')\n",
    "#Color palet selection\n",
    "if not use_custom_palette:\n",
    "    color_palette = None\n",
    "#Center of projection selection\n",
    "\n",
    "tmp_id_for_rotation = -1\n",
    "if use_selected_center and id_for_rotation is not None:\n",
    "    if id_for_rotation != tmp_id_for_rotation:\n",
    "        tmp_id_for_rotation = id_for_rotation\n",
    "\n",
    "        poincare_coord = df_embedding[[\"pm1\",\"pm2\"]].sort_values(by=[\"proteins_id\"])\n",
    "        poincare_coord = poincare_coord.values[:,:2]\n",
    "        model = PoincareMaps(poincare_coord)\n",
    "        model.get_distances()\n",
    "\n",
    "        model.iroot = id_for_rotation - 1  #Zero indexing\n",
    "        model.rotate()\n",
    "\n",
    "        df_embedding[\"pm1\"] = model.coordinates_rotated[:,0]\n",
    "        df_embedding[\"pm2\"] = model.coordinates_rotated[:,1]\n",
    "else:\n",
    "    df_embedding[\"pm1\"] = df_embedding[\"pm1_com\"]\n",
    "    df_embedding[\"pm2\"] = df_embedding[\"pm2_com\"]\n",
    "\n",
    "#Plot graph\n",
    "fig = plot_embedding_interactive(df_embedding, \n",
    "                                 labels_name = labels_name,\n",
    "                                 second_labels_name = second_labels_name, \n",
    "                                 show_text = show_text,\n",
    "                                 labels_text = labels_text,\n",
    "                                 color_palette = color_palette, \n",
    "                                 title = title, \n",
    "                                 fontsize = 11)\n",
    "fig.show()"
   ]
  },
  {
   "cell_type": "markdown",
   "metadata": {},
   "source": [
    "### Save plot to file"
   ]
  },
  {
   "cell_type": "code",
   "execution_count": null,
   "metadata": {},
   "outputs": [],
   "source": [
    "# OPTIONS =================================================\n",
    "output_name = \"fig1_cosine\"\n",
    "output_format = \"png\" #Format availables: [\"png\", \"html\", \"pdf\", \"svg\"]\n",
    "#==========================================================\n",
    "\n",
    "\n",
    "if output_format != \"html\":\n",
    "    fig.write_image(f\"{output_name}.{output_format}\", engine=\"kaleido\")\n",
    "else:\n",
    "    fig.write_html(f\"{output_name}.{output_format}\")"
   ]
  }
 ],
 "metadata": {
  "accelerator": "GPU",
  "colab": {
   "provenance": []
  },
  "gpuClass": "standard",
  "kernelspec": {
   "display_name": "Python 3 (ipykernel)",
   "language": "python",
   "name": "python3"
  },
  "language_info": {
   "codemirror_mode": {
    "name": "ipython",
    "version": 3
   },
   "file_extension": ".py",
   "mimetype": "text/x-python",
   "name": "python",
   "nbconvert_exporter": "python",
   "pygments_lexer": "ipython3",
   "version": "3.9.7"
  }
 },
 "nbformat": 4,
 "nbformat_minor": 4
}
